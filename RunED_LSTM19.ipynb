{
 "cells": [
  {
   "cell_type": "code",
   "execution_count": 1,
   "metadata": {},
   "outputs": [
    {
     "name": "stdout",
     "output_type": "stream",
     "text": [
      "41\n"
     ]
    },
    {
     "name": "stderr",
     "output_type": "stream",
     "text": [
      "/media/usr/SSD/yongmin/PPM/TRAIN_EVAL_ED_LSTM.py:166: FutureWarning: You are using `torch.load` with `weights_only=False` (the current default value), which uses the default pickle module implicitly. It is possible to construct malicious pickle data which will execute arbitrary code during unpickling (See https://github.com/pytorch/pytorch/blob/main/SECURITY.md#untrusted-models for more details). In a future release, the default value for `weights_only` will be flipped to `True`. This limits the functions that could be executed during unpickling. Arbitrary objects will no longer be allowed to be loaded via this mode unless they are explicitly allowlisted by the user via `torch.serialization.add_safe_globals`. We recommend you start setting `weights_only=True` for any use case where you don't have full control of the loaded file. Please open an issue on GitHub for any issues related to this experimental feature.\n",
      "  train_dataset = torch.load(temp_path)\n",
      "/media/usr/SSD/yongmin/PPM/TRAIN_EVAL_ED_LSTM.py:170: FutureWarning: You are using `torch.load` with `weights_only=False` (the current default value), which uses the default pickle module implicitly. It is possible to construct malicious pickle data which will execute arbitrary code during unpickling (See https://github.com/pytorch/pytorch/blob/main/SECURITY.md#untrusted-models for more details). In a future release, the default value for `weights_only` will be flipped to `True`. This limits the functions that could be executed during unpickling. Arbitrary objects will no longer be allowed to be loaded via this mode unless they are explicitly allowlisted by the user via `torch.serialization.add_safe_globals`. We recommend you start setting `weights_only=True` for any use case where you don't have full control of the loaded file. Please open an issue on GitHub for any issues related to this experimental feature.\n",
      "  val_dataset = torch.load(temp_path)\n",
      "/media/usr/SSD/yongmin/PPM/TRAIN_EVAL_ED_LSTM.py:174: FutureWarning: You are using `torch.load` with `weights_only=False` (the current default value), which uses the default pickle module implicitly. It is possible to construct malicious pickle data which will execute arbitrary code during unpickling (See https://github.com/pytorch/pytorch/blob/main/SECURITY.md#untrusted-models for more details). In a future release, the default value for `weights_only` will be flipped to `True`. This limits the functions that could be executed during unpickling. Arbitrary objects will no longer be allowed to be loaded via this mode unless they are explicitly allowlisted by the user via `torch.serialization.add_safe_globals`. We recommend you start setting `weights_only=True` for any use case where you don't have full control of the loaded file. Please open an issue on GitHub for any issues related to this experimental feature.\n",
      "  test_dataset = torch.load(temp_path)\n"
     ]
    },
    {
     "name": "stdout",
     "output_type": "stream",
     "text": [
      "device: cuda\n",
      "Device: cuda\n",
      " \n",
      "------------------------------------\n",
      "EPOCH 0:\n",
      "____________________________________\n"
     ]
    },
    {
     "name": "stderr",
     "output_type": "stream",
     "text": [
      "Batch calculation at epoch 0.: 802it [00:31, 19.09it/s]"
     ]
    },
    {
     "name": "stdout",
     "output_type": "stream",
     "text": [
      "------------------------------------------------------------\n",
      "Epoch 0, batch 799:\n",
      "Average original gradient norm: 0.891922450941056 (over last 800 batches)\n",
      "Average clipped gradient norm: 0.8600913403742015 (over last 800 batches)\n",
      "Running average global loss: 2.367145159393549 (over last 800 batches)\n",
      "Running average activity prediction loss: 1.8173757093399763 (Cross Entropy over last 800 batches)\n",
      "Running average time till next event prediction loss: 0.5497694526612759 (MAE over last 800 batches)\n",
      "------------------------------------------------------------\n"
     ]
    },
    {
     "name": "stderr",
     "output_type": "stream",
     "text": [
      "Batch calculation at epoch 0.: 1604it [01:04, 24.28it/s]"
     ]
    },
    {
     "name": "stdout",
     "output_type": "stream",
     "text": [
      "------------------------------------------------------------\n",
      "Epoch 0, batch 1599:\n",
      "Average original gradient norm: 1.3346581237763167 (over last 800 batches)\n",
      "Average clipped gradient norm: 1.2125174302607775 (over last 800 batches)\n",
      "Running average global loss: 1.4412819793820382 (over last 800 batches)\n",
      "Running average activity prediction loss: 0.9936154656112194 (Cross Entropy over last 800 batches)\n",
      "Running average time till next event prediction loss: 0.4476665163040161 (MAE over last 800 batches)\n",
      "------------------------------------------------------------\n"
     ]
    },
    {
     "name": "stderr",
     "output_type": "stream",
     "text": [
      "Batch calculation at epoch 0.: 2404it [01:31, 38.66it/s]"
     ]
    },
    {
     "name": "stdout",
     "output_type": "stream",
     "text": [
      "------------------------------------------------------------\n",
      "Epoch 0, batch 2399:\n",
      "Average original gradient norm: 1.14447412006557 (over last 800 batches)\n",
      "Average clipped gradient norm: 1.0928713265806436 (over last 800 batches)\n",
      "Running average global loss: 1.1846725711971522 (over last 800 batches)\n",
      "Running average activity prediction loss: 0.7753989720344543 (Cross Entropy over last 800 batches)\n",
      "Running average time till next event prediction loss: 0.409273599088192 (MAE over last 800 batches)\n",
      "------------------------------------------------------------\n"
     ]
    },
    {
     "name": "stderr",
     "output_type": "stream",
     "text": [
      "Batch calculation at epoch 0.: 3207it [01:59, 28.24it/s]"
     ]
    },
    {
     "name": "stdout",
     "output_type": "stream",
     "text": [
      "------------------------------------------------------------\n",
      "Epoch 0, batch 3199:\n",
      "Average original gradient norm: 0.918763026855886 (over last 800 batches)\n",
      "Average clipped gradient norm: 0.9109060687944293 (over last 800 batches)\n",
      "Running average global loss: 1.0771397115290164 (over last 800 batches)\n",
      "Running average activity prediction loss: 0.695622446089983 (Cross Entropy over last 800 batches)\n",
      "Running average time till next event prediction loss: 0.38151726461946966 (MAE over last 800 batches)\n",
      "------------------------------------------------------------\n"
     ]
    },
    {
     "name": "stderr",
     "output_type": "stream",
     "text": [
      "Batch calculation at epoch 0.: 4002it [02:26, 25.31it/s]"
     ]
    },
    {
     "name": "stdout",
     "output_type": "stream",
     "text": [
      "------------------------------------------------------------\n",
      "Epoch 0, batch 3999:\n",
      "Average original gradient norm: 0.903724831417203 (over last 800 batches)\n",
      "Average clipped gradient norm: 0.8992170382291078 (over last 800 batches)\n",
      "Running average global loss: 1.0144089883565903 (over last 800 batches)\n",
      "Running average activity prediction loss: 0.6456610100343824 (Cross Entropy over last 800 batches)\n",
      "Running average time till next event prediction loss: 0.36874797772616147 (MAE over last 800 batches)\n",
      "------------------------------------------------------------\n"
     ]
    },
    {
     "name": "stderr",
     "output_type": "stream",
     "text": [
      "Batch calculation at epoch 0.: 4295it [02:35, 27.62it/s]\n"
     ]
    },
    {
     "name": "stdout",
     "output_type": "stream",
     "text": [
      "=======================================\n",
      "End of epoch 0\n",
      "=======================================\n",
      "Running average global loss: 0.9971153723448515 (over last 800 batches)\n",
      "Running average activity prediction loss: 0.631738927848637 (Cross Entropy over last 800 batches)\n",
      "Running average time till next event prediction loss: 0.36537644468247893 (MAE over last 800 batches)\n"
     ]
    },
    {
     "name": "stderr",
     "output_type": "stream",
     "text": [
      "Validation batch calculation: 40it [00:30,  1.29it/s]\n"
     ]
    },
    {
     "name": "stdout",
     "output_type": "stream",
     "text": [
      "Avg MAE TTNE prediction validation set: 0.480008065700531 (standardized) ; 17709.4625 (minutes)'\n",
      "Avg 1-(normalized) DL distance acitivty suffix prediction validation set: 0.8153038024902344\n",
      "Percentage of suffixes predicted to END: too early - 0.3116342637625128 ; right moment - 0.605562874767598 ; too late - 0.08280286146988931\n",
      "Too early instances - avg amount of events too early: 1.820940375328064\n",
      "Too late instances - avg amount of events too late: 4.3834943771362305\n",
      "Avg absolute amount of events predicted too early / too late: 0.9304332733154297\n",
      "Avg MAE RRT prediction validation set:  41637.5125 (minutes)'\n",
      " \n",
      "------------------------------------\n",
      "EPOCH 1:\n",
      "____________________________________\n"
     ]
    },
    {
     "name": "stderr",
     "output_type": "stream",
     "text": [
      "Batch calculation at epoch 1.: 805it [00:30, 21.65it/s]"
     ]
    },
    {
     "name": "stdout",
     "output_type": "stream",
     "text": [
      "------------------------------------------------------------\n",
      "Epoch 1, batch 799:\n",
      "Average original gradient norm: 0.9004019296169281 (over last 800 batches)\n",
      "Average clipped gradient norm: 0.8991934525966644 (over last 800 batches)\n",
      "Running average global loss: 0.9667053574323654 (over last 800 batches)\n",
      "Running average activity prediction loss: 0.6075253254547716 (Cross Entropy over last 800 batches)\n",
      "Running average time till next event prediction loss: 0.3591800317913294 (MAE over last 800 batches)\n",
      "------------------------------------------------------------\n"
     ]
    },
    {
     "name": "stderr",
     "output_type": "stream",
     "text": [
      "Batch calculation at epoch 1.: 1604it [01:12, 35.00it/s]"
     ]
    },
    {
     "name": "stdout",
     "output_type": "stream",
     "text": [
      "------------------------------------------------------------\n",
      "Epoch 1, batch 1599:\n",
      "Average original gradient norm: 0.879781126268208 (over last 800 batches)\n",
      "Average clipped gradient norm: 0.8732000291720032 (over last 800 batches)\n",
      "Running average global loss: 0.9443963653594255 (over last 800 batches)\n",
      "Running average activity prediction loss: 0.5869604272022844 (Cross Entropy over last 800 batches)\n",
      "Running average time till next event prediction loss: 0.3574359380826354 (MAE over last 800 batches)\n",
      "------------------------------------------------------------\n"
     ]
    },
    {
     "name": "stderr",
     "output_type": "stream",
     "text": [
      "Batch calculation at epoch 1.: 2406it [01:34, 38.61it/s]"
     ]
    },
    {
     "name": "stdout",
     "output_type": "stream",
     "text": [
      "------------------------------------------------------------\n",
      "Epoch 1, batch 2399:\n",
      "Average original gradient norm: 0.9082635391131043 (over last 800 batches)\n",
      "Average clipped gradient norm: 0.9082062472775578 (over last 800 batches)\n",
      "Running average global loss: 0.9154828857630491 (over last 800 batches)\n",
      "Running average activity prediction loss: 0.5617455874755979 (Cross Entropy over last 800 batches)\n",
      "Running average time till next event prediction loss: 0.35373729929327963 (MAE over last 800 batches)\n",
      "------------------------------------------------------------\n"
     ]
    },
    {
     "name": "stderr",
     "output_type": "stream",
     "text": [
      "Batch calculation at epoch 1.: 3201it [02:03, 14.28it/s]"
     ]
    },
    {
     "name": "stdout",
     "output_type": "stream",
     "text": [
      "------------------------------------------------------------\n",
      "Epoch 1, batch 3199:\n",
      "Average original gradient norm: 0.8138222931697965 (over last 800 batches)\n",
      "Average clipped gradient norm: 0.8138131088390946 (over last 800 batches)\n",
      "Running average global loss: 0.9062089746445418 (over last 800 batches)\n",
      "Running average activity prediction loss: 0.5551930266991257 (Cross Entropy over last 800 batches)\n",
      "Running average time till next event prediction loss: 0.3510159485414624 (MAE over last 800 batches)\n",
      "------------------------------------------------------------\n"
     ]
    },
    {
     "name": "stderr",
     "output_type": "stream",
     "text": [
      "Batch calculation at epoch 1.: 4006it [02:48, 38.35it/s]"
     ]
    },
    {
     "name": "stdout",
     "output_type": "stream",
     "text": [
      "------------------------------------------------------------\n",
      "Epoch 1, batch 3999:\n",
      "Average original gradient norm: 0.8302125952392817 (over last 800 batches)\n",
      "Average clipped gradient norm: 0.8302125952392817 (over last 800 batches)\n",
      "Running average global loss: 0.8923799724876881 (over last 800 batches)\n",
      "Running average activity prediction loss: 0.5436129141971469 (Cross Entropy over last 800 batches)\n",
      "Running average time till next event prediction loss: 0.3487670589238405 (MAE over last 800 batches)\n",
      "------------------------------------------------------------\n"
     ]
    },
    {
     "name": "stderr",
     "output_type": "stream",
     "text": [
      "Batch calculation at epoch 1.: 4295it [02:58, 24.05it/s]\n"
     ]
    },
    {
     "name": "stdout",
     "output_type": "stream",
     "text": [
      "=======================================\n",
      "End of epoch 1\n",
      "=======================================\n",
      "Running average global loss: 0.8881401926279068 (over last 800 batches)\n",
      "Running average activity prediction loss: 0.5404127379506827 (Cross Entropy over last 800 batches)\n",
      "Running average time till next event prediction loss: 0.3477274554595351 (MAE over last 800 batches)\n"
     ]
    },
    {
     "name": "stderr",
     "output_type": "stream",
     "text": [
      "Validation batch calculation: 40it [00:24,  1.63it/s]\n"
     ]
    },
    {
     "name": "stdout",
     "output_type": "stream",
     "text": [
      "Avg MAE TTNE prediction validation set: 0.4635777473449707 (standardized) ; 17093.663541666665 (minutes)'\n",
      "Avg 1-(normalized) DL distance acitivty suffix prediction validation set: 0.8357579112052917\n",
      "Percentage of suffixes predicted to END: too early - 0.3041112082445793 ; right moment - 0.6234285925360454 ; too late - 0.07246019921937526\n",
      "Too early instances - avg amount of events too early: 1.6950079202651978\n",
      "Too late instances - avg amount of events too late: 3.1248939037323\n",
      "Avg absolute amount of events predicted too early / too late: 0.7419013381004333\n",
      "Avg MAE RRT prediction validation set:  40621.275 (minutes)'\n",
      " \n",
      "------------------------------------\n",
      "EPOCH 2:\n",
      "____________________________________\n"
     ]
    },
    {
     "name": "stderr",
     "output_type": "stream",
     "text": [
      "Batch calculation at epoch 2.: 803it [00:49, 18.12it/s]"
     ]
    },
    {
     "name": "stdout",
     "output_type": "stream",
     "text": [
      "------------------------------------------------------------\n",
      "Epoch 2, batch 799:\n",
      "Average original gradient norm: 0.8278205262124538 (over last 800 batches)\n",
      "Average clipped gradient norm: 0.8269455346465111 (over last 800 batches)\n",
      "Running average global loss: 0.8772345375269651 (over last 800 batches)\n",
      "Running average activity prediction loss: 0.5315443295612932 (Cross Entropy over last 800 batches)\n",
      "Running average time till next event prediction loss: 0.345690207965672 (MAE over last 800 batches)\n",
      "------------------------------------------------------------\n"
     ]
    },
    {
     "name": "stderr",
     "output_type": "stream",
     "text": [
      "Batch calculation at epoch 2.: 1601it [01:59,  9.69it/s]"
     ]
    },
    {
     "name": "stdout",
     "output_type": "stream",
     "text": [
      "------------------------------------------------------------\n",
      "Epoch 2, batch 1599:\n",
      "Average original gradient norm: 0.8150372618436813 (over last 800 batches)\n",
      "Average clipped gradient norm: 0.8135339403152466 (over last 800 batches)\n",
      "Running average global loss: 0.8655538003146649 (over last 800 batches)\n",
      "Running average activity prediction loss: 0.5215258587151765 (Cross Entropy over last 800 batches)\n",
      "Running average time till next event prediction loss: 0.34402794163674116 (MAE over last 800 batches)\n",
      "------------------------------------------------------------\n"
     ]
    },
    {
     "name": "stderr",
     "output_type": "stream",
     "text": [
      "Batch calculation at epoch 2.: 2401it [03:29,  8.85it/s]"
     ]
    },
    {
     "name": "stdout",
     "output_type": "stream",
     "text": [
      "------------------------------------------------------------\n",
      "Epoch 2, batch 2399:\n",
      "Average original gradient norm: 0.8265201642364264 (over last 800 batches)\n",
      "Average clipped gradient norm: 0.8264820226281882 (over last 800 batches)\n",
      "Running average global loss: 0.8536929674446583 (over last 800 batches)\n",
      "Running average activity prediction loss: 0.5141615200787782 (Cross Entropy over last 800 batches)\n",
      "Running average time till next event prediction loss: 0.3395314473286271 (MAE over last 800 batches)\n",
      "------------------------------------------------------------\n"
     ]
    },
    {
     "name": "stderr",
     "output_type": "stream",
     "text": [
      "Batch calculation at epoch 2.: 3201it [05:06,  7.16it/s]"
     ]
    },
    {
     "name": "stdout",
     "output_type": "stream",
     "text": [
      "------------------------------------------------------------\n",
      "Epoch 2, batch 3199:\n",
      "Average original gradient norm: 0.8244029585644603 (over last 800 batches)\n",
      "Average clipped gradient norm: 0.8244029585644603 (over last 800 batches)\n",
      "Running average global loss: 0.8526595132052899 (over last 800 batches)\n",
      "Running average activity prediction loss: 0.5130195800215006 (Cross Entropy over last 800 batches)\n",
      "Running average time till next event prediction loss: 0.3396399316936731 (MAE over last 800 batches)\n",
      "------------------------------------------------------------\n"
     ]
    },
    {
     "name": "stderr",
     "output_type": "stream",
     "text": [
      "Batch calculation at epoch 2.: 4004it [06:23, 22.45it/s]"
     ]
    },
    {
     "name": "stdout",
     "output_type": "stream",
     "text": [
      "------------------------------------------------------------\n",
      "Epoch 2, batch 3999:\n",
      "Average original gradient norm: 0.7979265168309212 (over last 800 batches)\n",
      "Average clipped gradient norm: 0.7979265168309212 (over last 800 batches)\n",
      "Running average global loss: 0.8447603664547205 (over last 800 batches)\n",
      "Running average activity prediction loss: 0.5065020849183202 (Cross Entropy over last 800 batches)\n",
      "Running average time till next event prediction loss: 0.3382582813501358 (MAE over last 800 batches)\n",
      "------------------------------------------------------------\n"
     ]
    },
    {
     "name": "stderr",
     "output_type": "stream",
     "text": [
      "Batch calculation at epoch 2.: 4295it [06:37, 10.80it/s]\n"
     ]
    },
    {
     "name": "stdout",
     "output_type": "stream",
     "text": [
      "=======================================\n",
      "End of epoch 2\n",
      "=======================================\n",
      "Running average global loss: 0.8418591754883528 (over last 800 batches)\n",
      "Running average activity prediction loss: 0.504089227989316 (Cross Entropy over last 800 batches)\n",
      "Running average time till next event prediction loss: 0.33776994809508326 (MAE over last 800 batches)\n"
     ]
    },
    {
     "name": "stderr",
     "output_type": "stream",
     "text": [
      "Validation batch calculation: 40it [00:27,  1.46it/s]\n"
     ]
    },
    {
     "name": "stdout",
     "output_type": "stream",
     "text": [
      "Avg MAE TTNE prediction validation set: 0.4632052779197693 (standardized) ; 17086.092708333334 (minutes)'\n",
      "Avg 1-(normalized) DL distance acitivty suffix prediction validation set: 0.8392378687858582\n",
      "Percentage of suffixes predicted to END: too early - 0.3000110814238398 ; right moment - 0.6257926296218772 ; too late - 0.07419628895428297\n",
      "Too early instances - avg amount of events too early: 1.6703603267669678\n",
      "Too late instances - avg amount of events too late: 3.07733154296875\n",
      "Avg absolute amount of events predicted too early / too late: 0.7294532060623169\n",
      "Avg MAE RRT prediction validation set:  39505.82083333333 (minutes)'\n",
      " \n",
      "------------------------------------\n",
      "EPOCH 3:\n",
      "____________________________________\n"
     ]
    },
    {
     "name": "stderr",
     "output_type": "stream",
     "text": [
      "Batch calculation at epoch 3.: 801it [01:01, 11.15it/s]"
     ]
    },
    {
     "name": "stdout",
     "output_type": "stream",
     "text": [
      "------------------------------------------------------------\n",
      "Epoch 3, batch 799:\n",
      "Average original gradient norm: 0.7568899911269545 (over last 800 batches)\n",
      "Average clipped gradient norm: 0.7568899911269545 (over last 800 batches)\n",
      "Running average global loss: 0.8388169302791357 (over last 800 batches)\n",
      "Running average activity prediction loss: 0.5037700458988548 (Cross Entropy over last 800 batches)\n",
      "Running average time till next event prediction loss: 0.33504688438028096 (MAE over last 800 batches)\n",
      "------------------------------------------------------------\n"
     ]
    },
    {
     "name": "stderr",
     "output_type": "stream",
     "text": [
      "Batch calculation at epoch 3.: 1605it [01:52, 25.26it/s]"
     ]
    },
    {
     "name": "stdout",
     "output_type": "stream",
     "text": [
      "------------------------------------------------------------\n",
      "Epoch 3, batch 1599:\n",
      "Average original gradient norm: 0.76992501873523 (over last 800 batches)\n",
      "Average clipped gradient norm: 0.76992501873523 (over last 800 batches)\n",
      "Running average global loss: 0.8305442666262388 (over last 800 batches)\n",
      "Running average activity prediction loss: 0.49563252180814743 (Cross Entropy over last 800 batches)\n",
      "Running average time till next event prediction loss: 0.3349117444455624 (MAE over last 800 batches)\n",
      "------------------------------------------------------------\n"
     ]
    },
    {
     "name": "stderr",
     "output_type": "stream",
     "text": [
      "Batch calculation at epoch 3.: 2402it [02:33, 19.95it/s]"
     ]
    },
    {
     "name": "stdout",
     "output_type": "stream",
     "text": [
      "------------------------------------------------------------\n",
      "Epoch 3, batch 2399:\n",
      "Average original gradient norm: 0.7390011782944202 (over last 800 batches)\n",
      "Average clipped gradient norm: 0.7390011782944202 (over last 800 batches)\n",
      "Running average global loss: 0.822155665308237 (over last 800 batches)\n",
      "Running average activity prediction loss: 0.4886474981158972 (Cross Entropy over last 800 batches)\n",
      "Running average time till next event prediction loss: 0.3335081655904651 (MAE over last 800 batches)\n",
      "------------------------------------------------------------\n"
     ]
    },
    {
     "name": "stderr",
     "output_type": "stream",
     "text": [
      "Batch calculation at epoch 3.: 3202it [03:17, 17.67it/s]"
     ]
    },
    {
     "name": "stdout",
     "output_type": "stream",
     "text": [
      "------------------------------------------------------------\n",
      "Epoch 3, batch 3199:\n",
      "Average original gradient norm: 0.7197192451730371 (over last 800 batches)\n",
      "Average clipped gradient norm: 0.7197192451730371 (over last 800 batches)\n",
      "Running average global loss: 0.8166753393411637 (over last 800 batches)\n",
      "Running average activity prediction loss: 0.48472446512430906 (Cross Entropy over last 800 batches)\n",
      "Running average time till next event prediction loss: 0.33195087503641846 (MAE over last 800 batches)\n",
      "------------------------------------------------------------\n"
     ]
    },
    {
     "name": "stderr",
     "output_type": "stream",
     "text": [
      "Batch calculation at epoch 3.: 3999it [03:57, 26.72it/s]"
     ]
    },
    {
     "name": "stdout",
     "output_type": "stream",
     "text": [
      "------------------------------------------------------------\n",
      "Epoch 3, batch 3999:\n",
      "Average original gradient norm: 0.7479096396267414 (over last 800 batches)\n",
      "Average clipped gradient norm: 0.7479096396267414 (over last 800 batches)\n",
      "Running average global loss: 0.8175950150936842 (over last 800 batches)\n",
      "Running average activity prediction loss: 0.48463902544230225 (Cross Entropy over last 800 batches)\n",
      "Running average time till next event prediction loss: 0.3329559895023704 (MAE over last 800 batches)\n",
      "------------------------------------------------------------\n"
     ]
    },
    {
     "name": "stderr",
     "output_type": "stream",
     "text": [
      "Batch calculation at epoch 3.: 4295it [04:13, 16.98it/s]\n"
     ]
    },
    {
     "name": "stdout",
     "output_type": "stream",
     "text": [
      "=======================================\n",
      "End of epoch 3\n",
      "=======================================\n",
      "Running average global loss: 0.8171106891334057 (over last 800 batches)\n",
      "Running average activity prediction loss: 0.48510343823581936 (Cross Entropy over last 800 batches)\n",
      "Running average time till next event prediction loss: 0.3320072516426444 (MAE over last 800 batches)\n"
     ]
    },
    {
     "name": "stderr",
     "output_type": "stream",
     "text": [
      "Validation batch calculation: 40it [00:27,  1.44it/s]\n"
     ]
    },
    {
     "name": "stdout",
     "output_type": "stream",
     "text": [
      "Avg MAE TTNE prediction validation set: 0.4576268494129181 (standardized) ; 16868.167708333334 (minutes)'\n",
      "Avg 1-(normalized) DL distance acitivty suffix prediction validation set: 0.8400145173072815\n",
      "Percentage of suffixes predicted to END: too early - 0.30227661696442865 ; right moment - 0.6259773200192078 ; too late - 0.07174606301636358\n",
      "Too early instances - avg amount of events too early: 1.6674541234970093\n",
      "Too late instances - avg amount of events too late: 2.9732279777526855\n",
      "Avg absolute amount of events predicted too early / too late: 0.7173498272895813\n",
      "Avg MAE RRT prediction validation set:  40177.254166666666 (minutes)'\n",
      " \n",
      "------------------------------------\n",
      "EPOCH 4:\n",
      "____________________________________\n"
     ]
    },
    {
     "name": "stderr",
     "output_type": "stream",
     "text": [
      "Batch calculation at epoch 4.: 801it [01:13,  9.21it/s]"
     ]
    },
    {
     "name": "stdout",
     "output_type": "stream",
     "text": [
      "------------------------------------------------------------\n",
      "Epoch 4, batch 799:\n",
      "Average original gradient norm: 0.7233597028627992 (over last 800 batches)\n",
      "Average clipped gradient norm: 0.7233597028627992 (over last 800 batches)\n",
      "Running average global loss: 0.8104742147028446 (over last 800 batches)\n",
      "Running average activity prediction loss: 0.4805248358100653 (Cross Entropy over last 800 batches)\n",
      "Running average time till next event prediction loss: 0.32994937941432 (MAE over last 800 batches)\n",
      "------------------------------------------------------------\n"
     ]
    },
    {
     "name": "stderr",
     "output_type": "stream",
     "text": [
      "Batch calculation at epoch 4.: 1601it [02:48,  8.89it/s]"
     ]
    },
    {
     "name": "stdout",
     "output_type": "stream",
     "text": [
      "------------------------------------------------------------\n",
      "Epoch 4, batch 1599:\n",
      "Average original gradient norm: 0.7283414381742478 (over last 800 batches)\n",
      "Average clipped gradient norm: 0.7283414381742478 (over last 800 batches)\n",
      "Running average global loss: 0.8086993558704854 (over last 800 batches)\n",
      "Running average activity prediction loss: 0.4789261554181576 (Cross Entropy over last 800 batches)\n",
      "Running average time till next event prediction loss: 0.3297732008248568 (MAE over last 800 batches)\n",
      "------------------------------------------------------------\n"
     ]
    },
    {
     "name": "stderr",
     "output_type": "stream",
     "text": [
      "Batch calculation at epoch 4.: 2401it [04:18,  8.13it/s]"
     ]
    },
    {
     "name": "stdout",
     "output_type": "stream",
     "text": [
      "------------------------------------------------------------\n",
      "Epoch 4, batch 2399:\n",
      "Average original gradient norm: 0.7069137472659349 (over last 800 batches)\n",
      "Average clipped gradient norm: 0.7069137472659349 (over last 800 batches)\n",
      "Running average global loss: 0.8028034073114395 (over last 800 batches)\n",
      "Running average activity prediction loss: 0.4742377334088087 (Cross Entropy over last 800 batches)\n",
      "Running average time till next event prediction loss: 0.32856567192822694 (MAE over last 800 batches)\n",
      "------------------------------------------------------------\n"
     ]
    },
    {
     "name": "stderr",
     "output_type": "stream",
     "text": [
      "Batch calculation at epoch 4.: 3201it [06:01,  8.43it/s]"
     ]
    },
    {
     "name": "stdout",
     "output_type": "stream",
     "text": [
      "------------------------------------------------------------\n",
      "Epoch 4, batch 3199:\n",
      "Average original gradient norm: 0.6921668664738536 (over last 800 batches)\n",
      "Average clipped gradient norm: 0.6921668664738536 (over last 800 batches)\n",
      "Running average global loss: 0.7997700757533311 (over last 800 batches)\n",
      "Running average activity prediction loss: 0.4722142769023776 (Cross Entropy over last 800 batches)\n",
      "Running average time till next event prediction loss: 0.32755579754710196 (MAE over last 800 batches)\n",
      "------------------------------------------------------------\n"
     ]
    },
    {
     "name": "stderr",
     "output_type": "stream",
     "text": [
      "Batch calculation at epoch 4.: 4000it [07:33, 11.01it/s]"
     ]
    },
    {
     "name": "stdout",
     "output_type": "stream",
     "text": [
      "------------------------------------------------------------\n",
      "Epoch 4, batch 3999:\n",
      "Average original gradient norm: 0.7212255208194256 (over last 800 batches)\n",
      "Average clipped gradient norm: 0.7212255208194256 (over last 800 batches)\n",
      "Running average global loss: 0.8008928806334734 (over last 800 batches)\n",
      "Running average activity prediction loss: 0.47108305923640725 (Cross Entropy over last 800 batches)\n",
      "Running average time till next event prediction loss: 0.3298098205402493 (MAE over last 800 batches)\n",
      "------------------------------------------------------------\n"
     ]
    },
    {
     "name": "stderr",
     "output_type": "stream",
     "text": [
      "Batch calculation at epoch 4.: 4295it [07:55,  9.04it/s]\n"
     ]
    },
    {
     "name": "stdout",
     "output_type": "stream",
     "text": [
      "=======================================\n",
      "End of epoch 4\n",
      "=======================================\n",
      "Running average global loss: 0.7982521200925112 (over last 800 batches)\n",
      "Running average activity prediction loss: 0.4702359051257372 (Cross Entropy over last 800 batches)\n",
      "Running average time till next event prediction loss: 0.3280162154138088 (MAE over last 800 batches)\n"
     ]
    },
    {
     "name": "stderr",
     "output_type": "stream",
     "text": [
      "Validation batch calculation: 40it [00:23,  1.72it/s]\n"
     ]
    },
    {
     "name": "stdout",
     "output_type": "stream",
     "text": [
      "Avg MAE TTNE prediction validation set: 0.4552743136882782 (standardized) ; 16780.152083333334 (minutes)'\n",
      "Avg 1-(normalized) DL distance acitivty suffix prediction validation set: 0.8416112661361694\n",
      "Percentage of suffixes predicted to END: too early - 0.30199342502185506 ; right moment - 0.6296588152726645 ; too late - 0.06834775970548038\n",
      "Too early instances - avg amount of events too early: 1.6775389909744263\n",
      "Too late instances - avg amount of events too late: 2.9600071907043457\n",
      "Avg absolute amount of events predicted too early / too late: 0.708915650844574\n",
      "Avg MAE RRT prediction validation set:  39630.691666666666 (minutes)'\n",
      " \n",
      "------------------------------------\n",
      "EPOCH 5:\n",
      "____________________________________\n"
     ]
    },
    {
     "name": "stderr",
     "output_type": "stream",
     "text": [
      "Batch calculation at epoch 5.: 802it [00:58, 13.25it/s]"
     ]
    },
    {
     "name": "stdout",
     "output_type": "stream",
     "text": [
      "------------------------------------------------------------\n",
      "Epoch 5, batch 799:\n",
      "Average original gradient norm: 0.7107630759850144 (over last 800 batches)\n",
      "Average clipped gradient norm: 0.7107630759850144 (over last 800 batches)\n",
      "Running average global loss: 0.7946733410656452 (over last 800 batches)\n",
      "Running average activity prediction loss: 0.4678654258325696 (Cross Entropy over last 800 batches)\n",
      "Running average time till next event prediction loss: 0.3268079159781337 (MAE over last 800 batches)\n",
      "------------------------------------------------------------\n"
     ]
    },
    {
     "name": "stderr",
     "output_type": "stream",
     "text": [
      "Batch calculation at epoch 5.: 1601it [01:57, 13.12it/s]"
     ]
    },
    {
     "name": "stdout",
     "output_type": "stream",
     "text": [
      "------------------------------------------------------------\n",
      "Epoch 5, batch 1599:\n",
      "Average original gradient norm: 0.7142843073233962 (over last 800 batches)\n",
      "Average clipped gradient norm: 0.7142843073233962 (over last 800 batches)\n",
      "Running average global loss: 0.7942792434990406 (over last 800 batches)\n",
      "Running average activity prediction loss: 0.4658937178179622 (Cross Entropy over last 800 batches)\n",
      "Running average time till next event prediction loss: 0.32838552583009006 (MAE over last 800 batches)\n",
      "------------------------------------------------------------\n"
     ]
    },
    {
     "name": "stderr",
     "output_type": "stream",
     "text": [
      "Batch calculation at epoch 5.: 2401it [03:11, 11.16it/s]"
     ]
    },
    {
     "name": "stdout",
     "output_type": "stream",
     "text": [
      "------------------------------------------------------------\n",
      "Epoch 5, batch 2399:\n",
      "Average original gradient norm: 0.6901774230971932 (over last 800 batches)\n",
      "Average clipped gradient norm: 0.6901774230971932 (over last 800 batches)\n",
      "Running average global loss: 0.7889964863657951 (over last 800 batches)\n",
      "Running average activity prediction loss: 0.46477087065577505 (Cross Entropy over last 800 batches)\n",
      "Running average time till next event prediction loss: 0.3242256158590317 (MAE over last 800 batches)\n",
      "------------------------------------------------------------\n"
     ]
    },
    {
     "name": "stderr",
     "output_type": "stream",
     "text": [
      "Batch calculation at epoch 5.: 3202it [04:10, 14.52it/s]"
     ]
    },
    {
     "name": "stdout",
     "output_type": "stream",
     "text": [
      "------------------------------------------------------------\n",
      "Epoch 5, batch 3199:\n",
      "Average original gradient norm: 0.6769170206785202 (over last 800 batches)\n",
      "Average clipped gradient norm: 0.6769170206785202 (over last 800 batches)\n",
      "Running average global loss: 0.7793529457598924 (over last 800 batches)\n",
      "Running average activity prediction loss: 0.4558568635955453 (Cross Entropy over last 800 batches)\n",
      "Running average time till next event prediction loss: 0.3234960827603936 (MAE over last 800 batches)\n",
      "------------------------------------------------------------\n"
     ]
    },
    {
     "name": "stderr",
     "output_type": "stream",
     "text": [
      "Batch calculation at epoch 5.: 4001it [05:26, 11.44it/s]"
     ]
    },
    {
     "name": "stdout",
     "output_type": "stream",
     "text": [
      "------------------------------------------------------------\n",
      "Epoch 5, batch 3999:\n",
      "Average original gradient norm: 0.6690447890758514 (over last 800 batches)\n",
      "Average clipped gradient norm: 0.6690447890758514 (over last 800 batches)\n",
      "Running average global loss: 0.7898682874441146 (over last 800 batches)\n",
      "Running average activity prediction loss: 0.4650149719789624 (Cross Entropy over last 800 batches)\n",
      "Running average time till next event prediction loss: 0.3248533147200942 (MAE over last 800 batches)\n",
      "------------------------------------------------------------\n"
     ]
    },
    {
     "name": "stderr",
     "output_type": "stream",
     "text": [
      "Batch calculation at epoch 5.: 4295it [05:53, 12.15it/s]\n"
     ]
    },
    {
     "name": "stdout",
     "output_type": "stream",
     "text": [
      "=======================================\n",
      "End of epoch 5\n",
      "=======================================\n",
      "Running average global loss: 0.7878642950952053 (over last 800 batches)\n",
      "Running average activity prediction loss: 0.46356485117226837 (Cross Entropy over last 800 batches)\n",
      "Running average time till next event prediction loss: 0.32429944310337305 (MAE over last 800 batches)\n"
     ]
    },
    {
     "name": "stderr",
     "output_type": "stream",
     "text": [
      "Validation batch calculation: 40it [00:25,  1.56it/s]\n"
     ]
    },
    {
     "name": "stdout",
     "output_type": "stream",
     "text": [
      "Avg MAE TTNE prediction validation set: 0.4697355031967163 (standardized) ; 17309.809375 (minutes)'\n",
      "Avg 1-(normalized) DL distance acitivty suffix prediction validation set: 0.8422918915748596\n",
      "Percentage of suffixes predicted to END: too early - 0.301168474580445 ; right moment - 0.632441483925779 ; too late - 0.06639004149377593\n",
      "Too early instances - avg amount of events too early: 1.7004905939102173\n",
      "Too late instances - avg amount of events too late: 2.9119064807891846\n",
      "Avg absolute amount of events predicted too early / too late: 0.7054557800292969\n",
      "Avg MAE RRT prediction validation set:  36758.225 (minutes)'\n",
      " \n",
      "------------------------------------\n",
      "EPOCH 6:\n",
      "____________________________________\n"
     ]
    },
    {
     "name": "stderr",
     "output_type": "stream",
     "text": [
      "Batch calculation at epoch 6.: 801it [01:02, 10.04it/s]"
     ]
    },
    {
     "name": "stdout",
     "output_type": "stream",
     "text": [
      "------------------------------------------------------------\n",
      "Epoch 6, batch 799:\n",
      "Average original gradient norm: 0.6698763911053538 (over last 800 batches)\n",
      "Average clipped gradient norm: 0.6698763911053538 (over last 800 batches)\n",
      "Running average global loss: 0.7805171963572503 (over last 800 batches)\n",
      "Running average activity prediction loss: 0.456911165304482 (Cross Entropy over last 800 batches)\n",
      "Running average time till next event prediction loss: 0.32360603153705597 (MAE over last 800 batches)\n",
      "------------------------------------------------------------\n"
     ]
    },
    {
     "name": "stderr",
     "output_type": "stream",
     "text": [
      "Batch calculation at epoch 6.: 1601it [02:19,  7.94it/s]"
     ]
    },
    {
     "name": "stdout",
     "output_type": "stream",
     "text": [
      "------------------------------------------------------------\n",
      "Epoch 6, batch 1599:\n",
      "Average original gradient norm: 0.6854460718482733 (over last 800 batches)\n",
      "Average clipped gradient norm: 0.6854460718482733 (over last 800 batches)\n",
      "Running average global loss: 0.7827462534606456 (over last 800 batches)\n",
      "Running average activity prediction loss: 0.4598642106726766 (Cross Entropy over last 800 batches)\n",
      "Running average time till next event prediction loss: 0.32288204293698075 (MAE over last 800 batches)\n",
      "------------------------------------------------------------\n"
     ]
    },
    {
     "name": "stderr",
     "output_type": "stream",
     "text": [
      "Batch calculation at epoch 6.: 2405it [03:11, 38.98it/s]"
     ]
    },
    {
     "name": "stdout",
     "output_type": "stream",
     "text": [
      "------------------------------------------------------------\n",
      "Epoch 6, batch 2399:\n",
      "Average original gradient norm: 0.6919660442695021 (over last 800 batches)\n",
      "Average clipped gradient norm: 0.6919660442695021 (over last 800 batches)\n",
      "Running average global loss: 0.7768594199419021 (over last 800 batches)\n",
      "Running average activity prediction loss: 0.4540336409583688 (Cross Entropy over last 800 batches)\n",
      "Running average time till next event prediction loss: 0.322825779505074 (MAE over last 800 batches)\n",
      "------------------------------------------------------------\n"
     ]
    },
    {
     "name": "stderr",
     "output_type": "stream",
     "text": [
      "Batch calculation at epoch 6.: 3202it [03:31, 27.20it/s]"
     ]
    },
    {
     "name": "stdout",
     "output_type": "stream",
     "text": [
      "------------------------------------------------------------\n",
      "Epoch 6, batch 3199:\n",
      "Average original gradient norm: 0.6746240796521306 (over last 800 batches)\n",
      "Average clipped gradient norm: 0.6746240796521306 (over last 800 batches)\n",
      "Running average global loss: 0.7779967445880175 (over last 800 batches)\n",
      "Running average activity prediction loss: 0.45626945454627277 (Cross Entropy over last 800 batches)\n",
      "Running average time till next event prediction loss: 0.32172728959470986 (MAE over last 800 batches)\n",
      "------------------------------------------------------------\n"
     ]
    },
    {
     "name": "stderr",
     "output_type": "stream",
     "text": [
      "Batch calculation at epoch 6.: 4000it [04:05, 12.99it/s]"
     ]
    },
    {
     "name": "stdout",
     "output_type": "stream",
     "text": [
      "------------------------------------------------------------\n",
      "Epoch 6, batch 3999:\n",
      "Average original gradient norm: 0.695624397918582 (over last 800 batches)\n",
      "Average clipped gradient norm: 0.695624397918582 (over last 800 batches)\n",
      "Running average global loss: 0.7745878368616104 (over last 800 batches)\n",
      "Running average activity prediction loss: 0.4524346064031124 (Cross Entropy over last 800 batches)\n",
      "Running average time till next event prediction loss: 0.32215323027223347 (MAE over last 800 batches)\n",
      "------------------------------------------------------------\n"
     ]
    },
    {
     "name": "stderr",
     "output_type": "stream",
     "text": [
      "Batch calculation at epoch 6.: 4295it [04:23, 16.29it/s]\n"
     ]
    },
    {
     "name": "stdout",
     "output_type": "stream",
     "text": [
      "=======================================\n",
      "End of epoch 6\n",
      "=======================================\n",
      "Running average global loss: 0.7759187566488981 (over last 800 batches)\n",
      "Running average activity prediction loss: 0.45345961060374973 (Cross Entropy over last 800 batches)\n",
      "Running average time till next event prediction loss: 0.32245914619416 (MAE over last 800 batches)\n"
     ]
    },
    {
     "name": "stderr",
     "output_type": "stream",
     "text": [
      "Validation batch calculation: 40it [00:18,  2.12it/s]\n"
     ]
    },
    {
     "name": "stdout",
     "output_type": "stream",
     "text": [
      "Avg MAE TTNE prediction validation set: 0.46458521485328674 (standardized) ; 17139.339583333334 (minutes)'\n",
      "Avg 1-(normalized) DL distance acitivty suffix prediction validation set: 0.8425060510635376\n",
      "Percentage of suffixes predicted to END: too early - 0.29962938793602323 ; right moment - 0.63313099474248 ; too late - 0.06723961732149673\n",
      "Too early instances - avg amount of events too early: 1.670762300491333\n",
      "Too late instances - avg amount of events too late: 2.9897453784942627\n",
      "Avg absolute amount of events predicted too early / too late: 0.7016388177871704\n",
      "Avg MAE RRT prediction validation set:  37003.65833333333 (minutes)'\n",
      " \n",
      "------------------------------------\n",
      "EPOCH 7:\n",
      "____________________________________\n"
     ]
    },
    {
     "name": "stderr",
     "output_type": "stream",
     "text": [
      "Batch calculation at epoch 7.: 808it [00:29, 52.49it/s]"
     ]
    },
    {
     "name": "stdout",
     "output_type": "stream",
     "text": [
      "------------------------------------------------------------\n",
      "Epoch 7, batch 799:\n",
      "Average original gradient norm: 0.6831706533581019 (over last 800 batches)\n",
      "Average clipped gradient norm: 0.6831706533581019 (over last 800 batches)\n",
      "Running average global loss: 0.769699247777462 (over last 800 batches)\n",
      "Running average activity prediction loss: 0.4480997290462255 (Cross Entropy over last 800 batches)\n",
      "Running average time till next event prediction loss: 0.32159951886162164 (MAE over last 800 batches)\n",
      "------------------------------------------------------------\n"
     ]
    },
    {
     "name": "stderr",
     "output_type": "stream",
     "text": [
      "Batch calculation at epoch 7.: 1609it [00:48, 46.78it/s]"
     ]
    },
    {
     "name": "stdout",
     "output_type": "stream",
     "text": [
      "------------------------------------------------------------\n",
      "Epoch 7, batch 1599:\n",
      "Average original gradient norm: 0.6704649595171213 (over last 800 batches)\n",
      "Average clipped gradient norm: 0.6704649595171213 (over last 800 batches)\n",
      "Running average global loss: 0.7724306772649289 (over last 800 batches)\n",
      "Running average activity prediction loss: 0.4516740530729294 (Cross Entropy over last 800 batches)\n",
      "Running average time till next event prediction loss: 0.32075662445276976 (MAE over last 800 batches)\n",
      "------------------------------------------------------------\n"
     ]
    },
    {
     "name": "stderr",
     "output_type": "stream",
     "text": [
      "Batch calculation at epoch 7.: 2409it [01:06, 46.25it/s]"
     ]
    },
    {
     "name": "stdout",
     "output_type": "stream",
     "text": [
      "------------------------------------------------------------\n",
      "Epoch 7, batch 2399:\n",
      "Average original gradient norm: 0.7000151829794049 (over last 800 batches)\n",
      "Average clipped gradient norm: 0.7000151829794049 (over last 800 batches)\n",
      "Running average global loss: 0.7728433198481798 (over last 800 batches)\n",
      "Running average activity prediction loss: 0.45169483095407487 (Cross Entropy over last 800 batches)\n",
      "Running average time till next event prediction loss: 0.3211484883725643 (MAE over last 800 batches)\n",
      "------------------------------------------------------------\n"
     ]
    },
    {
     "name": "stderr",
     "output_type": "stream",
     "text": [
      "Batch calculation at epoch 7.: 3202it [01:28, 32.90it/s]"
     ]
    },
    {
     "name": "stdout",
     "output_type": "stream",
     "text": [
      "------------------------------------------------------------\n",
      "Epoch 7, batch 3199:\n",
      "Average original gradient norm: 0.6684897828102112 (over last 800 batches)\n",
      "Average clipped gradient norm: 0.6684897828102112 (over last 800 batches)\n",
      "Running average global loss: 0.7710086346417665 (over last 800 batches)\n",
      "Running average activity prediction loss: 0.45046159375458955 (Cross Entropy over last 800 batches)\n",
      "Running average time till next event prediction loss: 0.320547041259706 (MAE over last 800 batches)\n",
      "------------------------------------------------------------\n"
     ]
    },
    {
     "name": "stderr",
     "output_type": "stream",
     "text": [
      "Batch calculation at epoch 7.: 4006it [01:55, 30.12it/s]"
     ]
    },
    {
     "name": "stdout",
     "output_type": "stream",
     "text": [
      "------------------------------------------------------------\n",
      "Epoch 7, batch 3999:\n",
      "Average original gradient norm: 0.6563053529337048 (over last 800 batches)\n",
      "Average clipped gradient norm: 0.6563053529337048 (over last 800 batches)\n",
      "Running average global loss: 0.7671405623853207 (over last 800 batches)\n",
      "Running average activity prediction loss: 0.4471611350402236 (Cross Entropy over last 800 batches)\n",
      "Running average time till next event prediction loss: 0.31997942697256804 (MAE over last 800 batches)\n",
      "------------------------------------------------------------\n"
     ]
    },
    {
     "name": "stderr",
     "output_type": "stream",
     "text": [
      "Batch calculation at epoch 7.: 4295it [02:02, 35.04it/s]\n"
     ]
    },
    {
     "name": "stdout",
     "output_type": "stream",
     "text": [
      "=======================================\n",
      "End of epoch 7\n",
      "=======================================\n",
      "Running average global loss: 0.7701493459939956 (over last 800 batches)\n",
      "Running average activity prediction loss: 0.4505720453336835 (Cross Entropy over last 800 batches)\n",
      "Running average time till next event prediction loss: 0.31957730125635864 (MAE over last 800 batches)\n"
     ]
    },
    {
     "name": "stderr",
     "output_type": "stream",
     "text": [
      "Validation batch calculation: 40it [00:25,  1.57it/s]\n"
     ]
    },
    {
     "name": "stdout",
     "output_type": "stream",
     "text": [
      "Avg MAE TTNE prediction validation set: 0.4565698504447937 (standardized) ; 16831.327083333334 (minutes)'\n",
      "Avg 1-(normalized) DL distance acitivty suffix prediction validation set: 0.8429993391036987\n",
      "Percentage of suffixes predicted to END: too early - 0.30131622689830945 ; right moment - 0.6330078678109263 ; too late - 0.06567590529076425\n",
      "Too early instances - avg amount of events too early: 1.7027214765548706\n",
      "Too late instances - avg amount of events too late: 2.907573938369751\n",
      "Avg absolute amount of events predicted too early / too late: 0.7040151953697205\n",
      "Avg MAE RRT prediction validation set:  38132.63333333333 (minutes)'\n",
      " \n",
      "------------------------------------\n",
      "EPOCH 8:\n",
      "____________________________________\n"
     ]
    },
    {
     "name": "stderr",
     "output_type": "stream",
     "text": [
      "Batch calculation at epoch 8.: 803it [00:22, 27.49it/s]"
     ]
    },
    {
     "name": "stdout",
     "output_type": "stream",
     "text": [
      "------------------------------------------------------------\n",
      "Epoch 8, batch 799:\n",
      "Average original gradient norm: 0.7135850235819816 (over last 800 batches)\n",
      "Average clipped gradient norm: 0.7135850235819816 (over last 800 batches)\n",
      "Running average global loss: 0.7647441010177135 (over last 800 batches)\n",
      "Running average activity prediction loss: 0.4459276481717825 (Cross Entropy over last 800 batches)\n",
      "Running average time till next event prediction loss: 0.31881645292043687 (MAE over last 800 batches)\n",
      "------------------------------------------------------------\n"
     ]
    },
    {
     "name": "stderr",
     "output_type": "stream",
     "text": [
      "Batch calculation at epoch 8.: 1603it [00:55, 18.55it/s]"
     ]
    },
    {
     "name": "stdout",
     "output_type": "stream",
     "text": [
      "------------------------------------------------------------\n",
      "Epoch 8, batch 1599:\n",
      "Average original gradient norm: 0.6695924564823508 (over last 800 batches)\n",
      "Average clipped gradient norm: 0.6695924564823508 (over last 800 batches)\n",
      "Running average global loss: 0.7658674115687609 (over last 800 batches)\n",
      "Running average activity prediction loss: 0.4461805592104793 (Cross Entropy over last 800 batches)\n",
      "Running average time till next event prediction loss: 0.31968685254454615 (MAE over last 800 batches)\n",
      "------------------------------------------------------------\n"
     ]
    },
    {
     "name": "stderr",
     "output_type": "stream",
     "text": [
      "Batch calculation at epoch 8.: 2401it [01:50, 13.56it/s]"
     ]
    },
    {
     "name": "stdout",
     "output_type": "stream",
     "text": [
      "------------------------------------------------------------\n",
      "Epoch 8, batch 2399:\n",
      "Average original gradient norm: 0.6756914840266108 (over last 800 batches)\n",
      "Average clipped gradient norm: 0.6756914840266108 (over last 800 batches)\n",
      "Running average global loss: 0.7669544667005539 (over last 800 batches)\n",
      "Running average activity prediction loss: 0.4477306289970875 (Cross Entropy over last 800 batches)\n",
      "Running average time till next event prediction loss: 0.3192238377779722 (MAE over last 800 batches)\n",
      "------------------------------------------------------------\n"
     ]
    },
    {
     "name": "stderr",
     "output_type": "stream",
     "text": [
      "Batch calculation at epoch 8.: 3202it [02:49, 13.67it/s]"
     ]
    },
    {
     "name": "stdout",
     "output_type": "stream",
     "text": [
      "------------------------------------------------------------\n",
      "Epoch 8, batch 3199:\n",
      "Average original gradient norm: 0.6886591462790966 (over last 800 batches)\n",
      "Average clipped gradient norm: 0.6886591462790966 (over last 800 batches)\n",
      "Running average global loss: 0.7638535468280315 (over last 800 batches)\n",
      "Running average activity prediction loss: 0.44394153479486703 (Cross Entropy over last 800 batches)\n",
      "Running average time till next event prediction loss: 0.3199120134487748 (MAE over last 800 batches)\n",
      "------------------------------------------------------------\n"
     ]
    },
    {
     "name": "stderr",
     "output_type": "stream",
     "text": [
      "Batch calculation at epoch 8.: 4003it [03:43, 17.76it/s]"
     ]
    },
    {
     "name": "stdout",
     "output_type": "stream",
     "text": [
      "------------------------------------------------------------\n",
      "Epoch 8, batch 3999:\n",
      "Average original gradient norm: 0.6811620608717203 (over last 800 batches)\n",
      "Average clipped gradient norm: 0.6811620608717203 (over last 800 batches)\n",
      "Running average global loss: 0.7632925364375115 (over last 800 batches)\n",
      "Running average activity prediction loss: 0.44469751600176094 (Cross Entropy over last 800 batches)\n",
      "Running average time till next event prediction loss: 0.31859502106904986 (MAE over last 800 batches)\n",
      "------------------------------------------------------------\n"
     ]
    },
    {
     "name": "stderr",
     "output_type": "stream",
     "text": [
      "Batch calculation at epoch 8.: 4295it [04:01, 17.82it/s]\n"
     ]
    },
    {
     "name": "stdout",
     "output_type": "stream",
     "text": [
      "=======================================\n",
      "End of epoch 8\n",
      "=======================================\n",
      "Running average global loss: 0.760534188374877 (over last 800 batches)\n",
      "Running average activity prediction loss: 0.44227739177644254 (Cross Entropy over last 800 batches)\n",
      "Running average time till next event prediction loss: 0.3182567970082164 (MAE over last 800 batches)\n"
     ]
    },
    {
     "name": "stderr",
     "output_type": "stream",
     "text": [
      "Validation batch calculation: 40it [00:30,  1.31it/s]\n"
     ]
    },
    {
     "name": "stdout",
     "output_type": "stream",
     "text": [
      "Avg MAE TTNE prediction validation set: 0.45343461632728577 (standardized) ; 16727.872916666667 (minutes)'\n",
      "Avg 1-(normalized) DL distance acitivty suffix prediction validation set: 0.842926025390625\n",
      "Percentage of suffixes predicted to END: too early - 0.30141472844355244 ; right moment - 0.63313099474248 ; too late - 0.06545427681396752\n",
      "Too early instances - avg amount of events too early: 1.7050244808197021\n",
      "Too late instances - avg amount of events too late: 2.9328441619873047\n",
      "Avg absolute amount of events predicted too early / too late: 0.705886721611023\n",
      "Avg MAE RRT prediction validation set:  38596.004166666666 (minutes)'\n",
      " \n",
      "------------------------------------\n",
      "EPOCH 9:\n",
      "____________________________________\n"
     ]
    },
    {
     "name": "stderr",
     "output_type": "stream",
     "text": [
      "Batch calculation at epoch 9.: 802it [00:34, 18.26it/s]"
     ]
    },
    {
     "name": "stdout",
     "output_type": "stream",
     "text": [
      "------------------------------------------------------------\n",
      "Epoch 9, batch 799:\n",
      "Average original gradient norm: 0.6557424617186188 (over last 800 batches)\n",
      "Average clipped gradient norm: 0.6557424617186188 (over last 800 batches)\n",
      "Running average global loss: 0.7627725764364004 (over last 800 batches)\n",
      "Running average activity prediction loss: 0.445270257666707 (Cross Entropy over last 800 batches)\n",
      "Running average time till next event prediction loss: 0.31750231884419916 (MAE over last 800 batches)\n",
      "------------------------------------------------------------\n"
     ]
    },
    {
     "name": "stderr",
     "output_type": "stream",
     "text": [
      "Batch calculation at epoch 9.: 1602it [01:26, 20.94it/s]"
     ]
    },
    {
     "name": "stdout",
     "output_type": "stream",
     "text": [
      "------------------------------------------------------------\n",
      "Epoch 9, batch 1599:\n",
      "Average original gradient norm: 0.6561978490278125 (over last 800 batches)\n",
      "Average clipped gradient norm: 0.6561978490278125 (over last 800 batches)\n",
      "Running average global loss: 0.7576689457893372 (over last 800 batches)\n",
      "Running average activity prediction loss: 0.4410122308507562 (Cross Entropy over last 800 batches)\n",
      "Running average time till next event prediction loss: 0.3166567152366042 (MAE over last 800 batches)\n",
      "------------------------------------------------------------\n"
     ]
    },
    {
     "name": "stderr",
     "output_type": "stream",
     "text": [
      "Batch calculation at epoch 9.: 2402it [02:21, 14.04it/s]"
     ]
    },
    {
     "name": "stdout",
     "output_type": "stream",
     "text": [
      "------------------------------------------------------------\n",
      "Epoch 9, batch 2399:\n",
      "Average original gradient norm: 0.6736990321800113 (over last 800 batches)\n",
      "Average clipped gradient norm: 0.6736990321800113 (over last 800 batches)\n",
      "Running average global loss: 0.7589184908568859 (over last 800 batches)\n",
      "Running average activity prediction loss: 0.4396411105245352 (Cross Entropy over last 800 batches)\n",
      "Running average time till next event prediction loss: 0.319277380630374 (MAE over last 800 batches)\n",
      "------------------------------------------------------------\n"
     ]
    },
    {
     "name": "stderr",
     "output_type": "stream",
     "text": [
      "Batch calculation at epoch 9.: 3204it [03:04, 20.02it/s]"
     ]
    },
    {
     "name": "stdout",
     "output_type": "stream",
     "text": [
      "------------------------------------------------------------\n",
      "Epoch 9, batch 3199:\n",
      "Average original gradient norm: 0.6745317492261529 (over last 800 batches)\n",
      "Average clipped gradient norm: 0.6745317492261529 (over last 800 batches)\n",
      "Running average global loss: 0.7556017158925533 (over last 800 batches)\n",
      "Running average activity prediction loss: 0.4379255262389779 (Cross Entropy over last 800 batches)\n",
      "Running average time till next event prediction loss: 0.3176761878281832 (MAE over last 800 batches)\n",
      "------------------------------------------------------------\n"
     ]
    },
    {
     "name": "stderr",
     "output_type": "stream",
     "text": [
      "Batch calculation at epoch 9.: 4002it [03:38, 18.95it/s]"
     ]
    },
    {
     "name": "stdout",
     "output_type": "stream",
     "text": [
      "------------------------------------------------------------\n",
      "Epoch 9, batch 3999:\n",
      "Average original gradient norm: 0.6850552875176072 (over last 800 batches)\n",
      "Average clipped gradient norm: 0.6850552875176072 (over last 800 batches)\n",
      "Running average global loss: 0.7606420745700597 (over last 800 batches)\n",
      "Running average activity prediction loss: 0.44312640476971865 (Cross Entropy over last 800 batches)\n",
      "Running average time till next event prediction loss: 0.3175156686455011 (MAE over last 800 batches)\n",
      "------------------------------------------------------------\n"
     ]
    },
    {
     "name": "stderr",
     "output_type": "stream",
     "text": [
      "Batch calculation at epoch 9.: 4295it [03:53, 18.38it/s]\n"
     ]
    },
    {
     "name": "stdout",
     "output_type": "stream",
     "text": [
      "=======================================\n",
      "End of epoch 9\n",
      "=======================================\n",
      "Running average global loss: 0.7620050697028637 (over last 800 batches)\n",
      "Running average activity prediction loss: 0.4441278044506907 (Cross Entropy over last 800 batches)\n",
      "Running average time till next event prediction loss: 0.3178772640228271 (MAE over last 800 batches)\n"
     ]
    },
    {
     "name": "stderr",
     "output_type": "stream",
     "text": [
      "Validation batch calculation: 40it [00:26,  1.49it/s]\n"
     ]
    },
    {
     "name": "stdout",
     "output_type": "stream",
     "text": [
      "Avg MAE TTNE prediction validation set: 0.4560817778110504 (standardized) ; 16815.959375 (minutes)'\n",
      "Avg 1-(normalized) DL distance acitivty suffix prediction validation set: 0.8435371518135071\n",
      "Percentage of suffixes predicted to END: too early - 0.3013408522846202 ; right moment - 0.6334634374576751 ; too late - 0.06519571025770467\n",
      "Too early instances - avg amount of events too early: 1.7016834020614624\n",
      "Too late instances - avg amount of events too late: 2.858168125152588\n",
      "Avg absolute amount of events predicted too early / too late: 0.6991270184516907\n",
      "Avg MAE RRT prediction validation set:  38400.77916666667 (minutes)'\n",
      " \n",
      "------------------------------------\n",
      "EPOCH 10:\n",
      "____________________________________\n"
     ]
    },
    {
     "name": "stderr",
     "output_type": "stream",
     "text": [
      "Batch calculation at epoch 10.: 803it [00:17, 43.21it/s]"
     ]
    },
    {
     "name": "stdout",
     "output_type": "stream",
     "text": [
      "------------------------------------------------------------\n",
      "Epoch 10, batch 799:\n",
      "Average original gradient norm: 0.6530187744647264 (over last 800 batches)\n",
      "Average clipped gradient norm: 0.6530187744647264 (over last 800 batches)\n",
      "Running average global loss: 0.7560499422997237 (over last 800 batches)\n",
      "Running average activity prediction loss: 0.43959536124020815 (Cross Entropy over last 800 batches)\n",
      "Running average time till next event prediction loss: 0.3164545815065503 (MAE over last 800 batches)\n",
      "------------------------------------------------------------\n"
     ]
    },
    {
     "name": "stderr",
     "output_type": "stream",
     "text": [
      "Batch calculation at epoch 10.: 1604it [00:46, 20.07it/s]"
     ]
    },
    {
     "name": "stdout",
     "output_type": "stream",
     "text": [
      "------------------------------------------------------------\n",
      "Epoch 10, batch 1599:\n",
      "Average original gradient norm: 0.6565719773620367 (over last 800 batches)\n",
      "Average clipped gradient norm: 0.6565719773620367 (over last 800 batches)\n",
      "Running average global loss: 0.7569674538075923 (over last 800 batches)\n",
      "Running average activity prediction loss: 0.4397808378189802 (Cross Entropy over last 800 batches)\n",
      "Running average time till next event prediction loss: 0.31718661602586506 (MAE over last 800 batches)\n",
      "------------------------------------------------------------\n"
     ]
    },
    {
     "name": "stderr",
     "output_type": "stream",
     "text": [
      "Batch calculation at epoch 10.: 2402it [01:29, 17.04it/s]"
     ]
    },
    {
     "name": "stdout",
     "output_type": "stream",
     "text": [
      "------------------------------------------------------------\n",
      "Epoch 10, batch 2399:\n",
      "Average original gradient norm: 0.6793519613519311 (over last 800 batches)\n",
      "Average clipped gradient norm: 0.6793519613519311 (over last 800 batches)\n",
      "Running average global loss: 0.7543760848045349 (over last 800 batches)\n",
      "Running average activity prediction loss: 0.4384360171109438 (Cross Entropy over last 800 batches)\n",
      "Running average time till next event prediction loss: 0.31594006925821305 (MAE over last 800 batches)\n",
      "------------------------------------------------------------\n"
     ]
    },
    {
     "name": "stderr",
     "output_type": "stream",
     "text": [
      "Batch calculation at epoch 10.: 3203it [02:15, 32.99it/s]"
     ]
    },
    {
     "name": "stdout",
     "output_type": "stream",
     "text": [
      "------------------------------------------------------------\n",
      "Epoch 10, batch 3199:\n",
      "Average original gradient norm: 0.677494507022202 (over last 800 batches)\n",
      "Average clipped gradient norm: 0.677494507022202 (over last 800 batches)\n",
      "Running average global loss: 0.7556384714692831 (over last 800 batches)\n",
      "Running average activity prediction loss: 0.43884370017796753 (Cross Entropy over last 800 batches)\n",
      "Running average time till next event prediction loss: 0.3167947706580162 (MAE over last 800 batches)\n",
      "------------------------------------------------------------\n"
     ]
    },
    {
     "name": "stderr",
     "output_type": "stream",
     "text": [
      "Batch calculation at epoch 10.: 4002it [02:48, 20.87it/s]"
     ]
    },
    {
     "name": "stdout",
     "output_type": "stream",
     "text": [
      "------------------------------------------------------------\n",
      "Epoch 10, batch 3999:\n",
      "Average original gradient norm: 0.6576951064541936 (over last 800 batches)\n",
      "Average clipped gradient norm: 0.6576951064541936 (over last 800 batches)\n",
      "Running average global loss: 0.753339360281825 (over last 800 batches)\n",
      "Running average activity prediction loss: 0.43690553057938813 (Cross Entropy over last 800 batches)\n",
      "Running average time till next event prediction loss: 0.31643382865935565 (MAE over last 800 batches)\n",
      "------------------------------------------------------------\n"
     ]
    },
    {
     "name": "stderr",
     "output_type": "stream",
     "text": [
      "Batch calculation at epoch 10.: 4295it [03:03, 23.36it/s]\n"
     ]
    },
    {
     "name": "stdout",
     "output_type": "stream",
     "text": [
      "=======================================\n",
      "End of epoch 10\n",
      "=======================================\n",
      "Running average global loss: 0.7512844928354024 (over last 800 batches)\n",
      "Running average activity prediction loss: 0.4347974204644561 (Cross Entropy over last 800 batches)\n",
      "Running average time till next event prediction loss: 0.3164870722219348 (MAE over last 800 batches)\n"
     ]
    },
    {
     "name": "stderr",
     "output_type": "stream",
     "text": [
      "Validation batch calculation: 40it [00:23,  1.71it/s]\n"
     ]
    },
    {
     "name": "stdout",
     "output_type": "stream",
     "text": [
      "Avg MAE TTNE prediction validation set: 0.4636068642139435 (standardized) ; 17099.422916666666 (minutes)'\n",
      "Avg 1-(normalized) DL distance acitivty suffix prediction validation set: 0.8434635400772095\n",
      "Percentage of suffixes predicted to END: too early - 0.29942007215238187 ; right moment - 0.6333033724466552 ; too late - 0.06727655540096285\n",
      "Too early instances - avg amount of events too early: 1.6779340505599976\n",
      "Too late instances - avg amount of events too late: 2.9267935752868652\n",
      "Avg absolute amount of events predicted too early / too late: 0.6993117332458496\n",
      "Avg MAE RRT prediction validation set:  36988.88333333333 (minutes)'\n",
      " \n",
      "------------------------------------\n",
      "EPOCH 11:\n",
      "____________________________________\n"
     ]
    },
    {
     "name": "stderr",
     "output_type": "stream",
     "text": [
      "Batch calculation at epoch 11.: 805it [00:18, 28.80it/s]"
     ]
    },
    {
     "name": "stdout",
     "output_type": "stream",
     "text": [
      "------------------------------------------------------------\n",
      "Epoch 11, batch 799:\n",
      "Average original gradient norm: 0.6786064208298922 (over last 800 batches)\n",
      "Average clipped gradient norm: 0.6786064208298922 (over last 800 batches)\n",
      "Running average global loss: 0.7560405951738357 (over last 800 batches)\n",
      "Running average activity prediction loss: 0.43753202687948944 (Cross Entropy over last 800 batches)\n",
      "Running average time till next event prediction loss: 0.31850856959819795 (MAE over last 800 batches)\n",
      "------------------------------------------------------------\n"
     ]
    },
    {
     "name": "stderr",
     "output_type": "stream",
     "text": [
      "Batch calculation at epoch 11.: 1602it [00:48, 20.18it/s]"
     ]
    },
    {
     "name": "stdout",
     "output_type": "stream",
     "text": [
      "------------------------------------------------------------\n",
      "Epoch 11, batch 1599:\n",
      "Average original gradient norm: 0.6611271603032947 (over last 800 batches)\n",
      "Average clipped gradient norm: 0.6611271603032947 (over last 800 batches)\n",
      "Running average global loss: 0.7543446085602045 (over last 800 batches)\n",
      "Running average activity prediction loss: 0.4385581142455339 (Cross Entropy over last 800 batches)\n",
      "Running average time till next event prediction loss: 0.3157864943891764 (MAE over last 800 batches)\n",
      "------------------------------------------------------------\n"
     ]
    },
    {
     "name": "stderr",
     "output_type": "stream",
     "text": [
      "Batch calculation at epoch 11.: 2404it [01:12, 24.10it/s]"
     ]
    },
    {
     "name": "stdout",
     "output_type": "stream",
     "text": [
      "------------------------------------------------------------\n",
      "Epoch 11, batch 2399:\n",
      "Average original gradient norm: 0.6421793162077666 (over last 800 batches)\n",
      "Average clipped gradient norm: 0.6421793162077666 (over last 800 batches)\n",
      "Running average global loss: 0.7481279834359884 (over last 800 batches)\n",
      "Running average activity prediction loss: 0.43288650445640087 (Cross Entropy over last 800 batches)\n",
      "Running average time till next event prediction loss: 0.31524147842079403 (MAE over last 800 batches)\n",
      "------------------------------------------------------------\n"
     ]
    },
    {
     "name": "stderr",
     "output_type": "stream",
     "text": [
      "Batch calculation at epoch 11.: 3206it [01:38, 33.39it/s]"
     ]
    },
    {
     "name": "stdout",
     "output_type": "stream",
     "text": [
      "------------------------------------------------------------\n",
      "Epoch 11, batch 3199:\n",
      "Average original gradient norm: 0.6533154685422778 (over last 800 batches)\n",
      "Average clipped gradient norm: 0.6533154685422778 (over last 800 batches)\n",
      "Running average global loss: 0.7515933112800122 (over last 800 batches)\n",
      "Running average activity prediction loss: 0.43630063138902186 (Cross Entropy over last 800 batches)\n",
      "Running average time till next event prediction loss: 0.3152926804125309 (MAE over last 800 batches)\n",
      "------------------------------------------------------------\n"
     ]
    },
    {
     "name": "stderr",
     "output_type": "stream",
     "text": [
      "Batch calculation at epoch 11.: 4005it [02:02, 32.65it/s]"
     ]
    },
    {
     "name": "stdout",
     "output_type": "stream",
     "text": [
      "------------------------------------------------------------\n",
      "Epoch 11, batch 3999:\n",
      "Average original gradient norm: 0.6526736221089959 (over last 800 batches)\n",
      "Average clipped gradient norm: 0.6526736221089959 (over last 800 batches)\n",
      "Running average global loss: 0.7485054478794336 (over last 800 batches)\n",
      "Running average activity prediction loss: 0.434661133736372 (Cross Entropy over last 800 batches)\n",
      "Running average time till next event prediction loss: 0.3138443149626255 (MAE over last 800 batches)\n",
      "------------------------------------------------------------\n"
     ]
    },
    {
     "name": "stderr",
     "output_type": "stream",
     "text": [
      "Batch calculation at epoch 11.: 4295it [02:14, 31.87it/s]\n"
     ]
    },
    {
     "name": "stdout",
     "output_type": "stream",
     "text": [
      "=======================================\n",
      "End of epoch 11\n",
      "=======================================\n",
      "Running average global loss: 0.7494939213246107 (over last 800 batches)\n",
      "Running average activity prediction loss: 0.43483425237238404 (Cross Entropy over last 800 batches)\n",
      "Running average time till next event prediction loss: 0.31465967033058406 (MAE over last 800 batches)\n"
     ]
    },
    {
     "name": "stderr",
     "output_type": "stream",
     "text": [
      "Validation batch calculation: 40it [00:23,  1.68it/s]\n"
     ]
    },
    {
     "name": "stdout",
     "output_type": "stream",
     "text": [
      "Avg MAE TTNE prediction validation set: 0.4574131965637207 (standardized) ; 16877.721875 (minutes)'\n",
      "Avg 1-(normalized) DL distance acitivty suffix prediction validation set: 0.8436412215232849\n",
      "Percentage of suffixes predicted to END: too early - 0.29953088639078024 ; right moment - 0.6330694312767031 ; too late - 0.06739968233251659\n",
      "Too early instances - avg amount of events too early: 1.6850824356079102\n",
      "Too late instances - avg amount of events too late: 2.869382619857788\n",
      "Avg absolute amount of events predicted too early / too late: 0.6981297135353088\n",
      "Avg MAE RRT prediction validation set:  37862.90416666667 (minutes)'\n",
      " \n",
      "------------------------------------\n",
      "EPOCH 12:\n",
      "____________________________________\n"
     ]
    },
    {
     "name": "stderr",
     "output_type": "stream",
     "text": [
      "Batch calculation at epoch 12.: 802it [00:35, 18.24it/s]"
     ]
    },
    {
     "name": "stdout",
     "output_type": "stream",
     "text": [
      "------------------------------------------------------------\n",
      "Epoch 12, batch 799:\n",
      "Average original gradient norm: 0.6435021263360977 (over last 800 batches)\n",
      "Average clipped gradient norm: 0.6435021263360977 (over last 800 batches)\n",
      "Running average global loss: 0.7449964385479688 (over last 800 batches)\n",
      "Running average activity prediction loss: 0.4302310602739453 (Cross Entropy over last 800 batches)\n",
      "Running average time till next event prediction loss: 0.31476537887007 (MAE over last 800 batches)\n",
      "------------------------------------------------------------\n"
     ]
    },
    {
     "name": "stderr",
     "output_type": "stream",
     "text": [
      "Batch calculation at epoch 12.: 1600it [01:11, 34.10it/s]"
     ]
    },
    {
     "name": "stdout",
     "output_type": "stream",
     "text": [
      "------------------------------------------------------------\n",
      "Epoch 12, batch 1599:\n",
      "Average original gradient norm: 0.6443634604290128 (over last 800 batches)\n",
      "Average clipped gradient norm: 0.6443634604290128 (over last 800 batches)\n",
      "Running average global loss: 0.7482152722030878 (over last 800 batches)\n",
      "Running average activity prediction loss: 0.4345717895403504 (Cross Entropy over last 800 batches)\n",
      "Running average time till next event prediction loss: 0.31364348316565155 (MAE over last 800 batches)\n",
      "------------------------------------------------------------\n"
     ]
    },
    {
     "name": "stderr",
     "output_type": "stream",
     "text": [
      "Batch calculation at epoch 12.: 2402it [01:41, 14.40it/s]"
     ]
    },
    {
     "name": "stdout",
     "output_type": "stream",
     "text": [
      "------------------------------------------------------------\n",
      "Epoch 12, batch 2399:\n",
      "Average original gradient norm: 0.6664159996435046 (over last 800 batches)\n",
      "Average clipped gradient norm: 0.6664159996435046 (over last 800 batches)\n",
      "Running average global loss: 0.7491424891352654 (over last 800 batches)\n",
      "Running average activity prediction loss: 0.4328320955298841 (Cross Entropy over last 800 batches)\n",
      "Running average time till next event prediction loss: 0.3163103939779103 (MAE over last 800 batches)\n",
      "------------------------------------------------------------\n"
     ]
    },
    {
     "name": "stderr",
     "output_type": "stream",
     "text": [
      "Batch calculation at epoch 12.: 3202it [02:30, 14.80it/s]"
     ]
    },
    {
     "name": "stdout",
     "output_type": "stream",
     "text": [
      "------------------------------------------------------------\n",
      "Epoch 12, batch 3199:\n",
      "Average original gradient norm: 0.6453096434101462 (over last 800 batches)\n",
      "Average clipped gradient norm: 0.6453096434101462 (over last 800 batches)\n",
      "Running average global loss: 0.7508970500528812 (over last 800 batches)\n",
      "Running average activity prediction loss: 0.43580304458737373 (Cross Entropy over last 800 batches)\n",
      "Running average time till next event prediction loss: 0.3150940055772662 (MAE over last 800 batches)\n",
      "------------------------------------------------------------\n"
     ]
    },
    {
     "name": "stderr",
     "output_type": "stream",
     "text": [
      "Batch calculation at epoch 12.: 4006it [03:30, 35.37it/s]"
     ]
    },
    {
     "name": "stdout",
     "output_type": "stream",
     "text": [
      "------------------------------------------------------------\n",
      "Epoch 12, batch 3999:\n",
      "Average original gradient norm: 0.6519640251249075 (over last 800 batches)\n",
      "Average clipped gradient norm: 0.6519640251249075 (over last 800 batches)\n",
      "Running average global loss: 0.7478143635392189 (over last 800 batches)\n",
      "Running average activity prediction loss: 0.4336574451252818 (Cross Entropy over last 800 batches)\n",
      "Running average time till next event prediction loss: 0.31415692061185835 (MAE over last 800 batches)\n",
      "------------------------------------------------------------\n"
     ]
    },
    {
     "name": "stderr",
     "output_type": "stream",
     "text": [
      "Batch calculation at epoch 12.: 4295it [03:37, 19.71it/s]\n"
     ]
    },
    {
     "name": "stdout",
     "output_type": "stream",
     "text": [
      "=======================================\n",
      "End of epoch 12\n",
      "=======================================\n",
      "Running average global loss: 0.7473104561120272 (over last 800 batches)\n",
      "Running average activity prediction loss: 0.4329164095595479 (Cross Entropy over last 800 batches)\n",
      "Running average time till next event prediction loss: 0.3143940486013889 (MAE over last 800 batches)\n"
     ]
    },
    {
     "name": "stderr",
     "output_type": "stream",
     "text": [
      "Validation batch calculation: 40it [00:20,  1.94it/s]\n"
     ]
    },
    {
     "name": "stdout",
     "output_type": "stream",
     "text": [
      "Avg MAE TTNE prediction validation set: 0.4639466106891632 (standardized) ; 17113.633333333335 (minutes)'\n",
      "Avg 1-(normalized) DL distance acitivty suffix prediction validation set: 0.843860924243927\n",
      "Percentage of suffixes predicted to END: too early - 0.30004801950330595 ; right moment - 0.6335126882302966 ; too late - 0.06643929226639743\n",
      "Too early instances - avg amount of events too early: 1.6997414827346802\n",
      "Too late instances - avg amount of events too late: 2.866197109222412\n",
      "Avg absolute amount of events predicted too early / too late: 0.7004321813583374\n",
      "Avg MAE RRT prediction validation set:  36870.11666666667 (minutes)'\n",
      " \n",
      "------------------------------------\n",
      "EPOCH 13:\n",
      "____________________________________\n"
     ]
    },
    {
     "name": "stderr",
     "output_type": "stream",
     "text": [
      "Batch calculation at epoch 13.: 803it [00:20, 29.01it/s]"
     ]
    },
    {
     "name": "stdout",
     "output_type": "stream",
     "text": [
      "------------------------------------------------------------\n",
      "Epoch 13, batch 799:\n",
      "Average original gradient norm: 0.6547244834154844 (over last 800 batches)\n",
      "Average clipped gradient norm: 0.6547244834154844 (over last 800 batches)\n",
      "Running average global loss: 0.7440156818181276 (over last 800 batches)\n",
      "Running average activity prediction loss: 0.4304783151298761 (Cross Entropy over last 800 batches)\n",
      "Running average time till next event prediction loss: 0.3135373661853373 (MAE over last 800 batches)\n",
      "------------------------------------------------------------\n"
     ]
    },
    {
     "name": "stderr",
     "output_type": "stream",
     "text": [
      "Batch calculation at epoch 13.: 1602it [01:02, 17.94it/s]"
     ]
    },
    {
     "name": "stdout",
     "output_type": "stream",
     "text": [
      "------------------------------------------------------------\n",
      "Epoch 13, batch 1599:\n",
      "Average original gradient norm: 0.6433700273931027 (over last 800 batches)\n",
      "Average clipped gradient norm: 0.6433700273931027 (over last 800 batches)\n",
      "Running average global loss: 0.7470793929696083 (over last 800 batches)\n",
      "Running average activity prediction loss: 0.43263781553134323 (Cross Entropy over last 800 batches)\n",
      "Running average time till next event prediction loss: 0.3144415774010122 (MAE over last 800 batches)\n",
      "------------------------------------------------------------\n"
     ]
    },
    {
     "name": "stderr",
     "output_type": "stream",
     "text": [
      "Batch calculation at epoch 13.: 2401it [01:57, 12.86it/s]"
     ]
    },
    {
     "name": "stdout",
     "output_type": "stream",
     "text": [
      "------------------------------------------------------------\n",
      "Epoch 13, batch 2399:\n",
      "Average original gradient norm: 0.6517737665399909 (over last 800 batches)\n",
      "Average clipped gradient norm: 0.6517737665399909 (over last 800 batches)\n",
      "Running average global loss: 0.7464546883106231 (over last 800 batches)\n",
      "Running average activity prediction loss: 0.4319652592390776 (Cross Entropy over last 800 batches)\n",
      "Running average time till next event prediction loss: 0.3144894294813275 (MAE over last 800 batches)\n",
      "------------------------------------------------------------\n"
     ]
    },
    {
     "name": "stderr",
     "output_type": "stream",
     "text": [
      "Batch calculation at epoch 13.: 3205it [02:29, 35.08it/s]"
     ]
    },
    {
     "name": "stdout",
     "output_type": "stream",
     "text": [
      "------------------------------------------------------------\n",
      "Epoch 13, batch 3199:\n",
      "Average original gradient norm: 0.6796417719870805 (over last 800 batches)\n",
      "Average clipped gradient norm: 0.6796417719870805 (over last 800 batches)\n",
      "Running average global loss: 0.7434462144225836 (over last 800 batches)\n",
      "Running average activity prediction loss: 0.42947931990027427 (Cross Entropy over last 800 batches)\n",
      "Running average time till next event prediction loss: 0.3139668953791261 (MAE over last 800 batches)\n",
      "------------------------------------------------------------\n"
     ]
    },
    {
     "name": "stderr",
     "output_type": "stream",
     "text": [
      "Batch calculation at epoch 13.: 4004it [02:53, 35.55it/s]"
     ]
    },
    {
     "name": "stdout",
     "output_type": "stream",
     "text": [
      "------------------------------------------------------------\n",
      "Epoch 13, batch 3999:\n",
      "Average original gradient norm: 0.6253678116202355 (over last 800 batches)\n",
      "Average clipped gradient norm: 0.6253678116202355 (over last 800 batches)\n",
      "Running average global loss: 0.7483885499089956 (over last 800 batches)\n",
      "Running average activity prediction loss: 0.4338138576224446 (Cross Entropy over last 800 batches)\n",
      "Running average time till next event prediction loss: 0.3145746931619942 (MAE over last 800 batches)\n",
      "------------------------------------------------------------\n"
     ]
    },
    {
     "name": "stderr",
     "output_type": "stream",
     "text": [
      "Batch calculation at epoch 13.: 4295it [03:01, 23.60it/s]\n"
     ]
    },
    {
     "name": "stdout",
     "output_type": "stream",
     "text": [
      "=======================================\n",
      "End of epoch 13\n",
      "=======================================\n",
      "Running average global loss: 0.7482916058599949 (over last 800 batches)\n",
      "Running average activity prediction loss: 0.43347608629614115 (Cross Entropy over last 800 batches)\n",
      "Running average time till next event prediction loss: 0.3148155197314918 (MAE over last 800 batches)\n"
     ]
    },
    {
     "name": "stderr",
     "output_type": "stream",
     "text": [
      "Validation batch calculation: 40it [00:20,  1.92it/s]\n"
     ]
    },
    {
     "name": "stdout",
     "output_type": "stream",
     "text": [
      "Avg MAE TTNE prediction validation set: 0.46250641345977783 (standardized) ; 17059.809375 (minutes)'\n",
      "Avg 1-(normalized) DL distance acitivty suffix prediction validation set: 0.8439216017723083\n",
      "Percentage of suffixes predicted to END: too early - 0.299752514867577 ; right moment - 0.6332048709014123 ; too late - 0.06704261423101075\n",
      "Too early instances - avg amount of events too early: 1.7009652853012085\n",
      "Too late instances - avg amount of events too late: 2.797428846359253\n",
      "Avg absolute amount of events predicted too early / too late: 0.6974155902862549\n",
      "Avg MAE RRT prediction validation set:  36869.2625 (minutes)'\n",
      " \n",
      "------------------------------------\n",
      "EPOCH 14:\n",
      "____________________________________\n"
     ]
    },
    {
     "name": "stderr",
     "output_type": "stream",
     "text": [
      "Batch calculation at epoch 14.: 806it [00:35, 29.55it/s]"
     ]
    },
    {
     "name": "stdout",
     "output_type": "stream",
     "text": [
      "------------------------------------------------------------\n",
      "Epoch 14, batch 799:\n",
      "Average original gradient norm: 0.6263139006868005 (over last 800 batches)\n",
      "Average clipped gradient norm: 0.6263139006868005 (over last 800 batches)\n",
      "Running average global loss: 0.74114388525486 (over last 800 batches)\n",
      "Running average activity prediction loss: 0.4276394284516573 (Cross Entropy over last 800 batches)\n",
      "Running average time till next event prediction loss: 0.3135044558160007 (MAE over last 800 batches)\n",
      "------------------------------------------------------------\n"
     ]
    },
    {
     "name": "stderr",
     "output_type": "stream",
     "text": [
      "Batch calculation at epoch 14.: 1600it [01:19, 27.60it/s]"
     ]
    },
    {
     "name": "stdout",
     "output_type": "stream",
     "text": [
      "------------------------------------------------------------\n",
      "Epoch 14, batch 1599:\n",
      "Average original gradient norm: 0.6375788041949272 (over last 800 batches)\n",
      "Average clipped gradient norm: 0.6375788041949272 (over last 800 batches)\n",
      "Running average global loss: 0.7472545007616281 (over last 800 batches)\n",
      "Running average activity prediction loss: 0.4330427470058203 (Cross Entropy over last 800 batches)\n",
      "Running average time till next event prediction loss: 0.3142117539048195 (MAE over last 800 batches)\n",
      "------------------------------------------------------------\n"
     ]
    },
    {
     "name": "stderr",
     "output_type": "stream",
     "text": [
      "Batch calculation at epoch 14.: 2402it [01:59, 18.97it/s]"
     ]
    },
    {
     "name": "stdout",
     "output_type": "stream",
     "text": [
      "------------------------------------------------------------\n",
      "Epoch 14, batch 2399:\n",
      "Average original gradient norm: 0.6426314602419734 (over last 800 batches)\n",
      "Average clipped gradient norm: 0.6426314602419734 (over last 800 batches)\n",
      "Running average global loss: 0.7439346610009671 (over last 800 batches)\n",
      "Running average activity prediction loss: 0.42919692799448966 (Cross Entropy over last 800 batches)\n",
      "Running average time till next event prediction loss: 0.31473773296922447 (MAE over last 800 batches)\n",
      "------------------------------------------------------------\n"
     ]
    },
    {
     "name": "stderr",
     "output_type": "stream",
     "text": [
      "Batch calculation at epoch 14.: 3202it [02:40, 19.04it/s]"
     ]
    },
    {
     "name": "stdout",
     "output_type": "stream",
     "text": [
      "------------------------------------------------------------\n",
      "Epoch 14, batch 3199:\n",
      "Average original gradient norm: 0.6516133273020387 (over last 800 batches)\n",
      "Average clipped gradient norm: 0.6516133273020387 (over last 800 batches)\n",
      "Running average global loss: 0.7426498672366142 (over last 800 batches)\n",
      "Running average activity prediction loss: 0.4294533513113856 (Cross Entropy over last 800 batches)\n",
      "Running average time till next event prediction loss: 0.31319651652127506 (MAE over last 800 batches)\n",
      "------------------------------------------------------------\n"
     ]
    },
    {
     "name": "stderr",
     "output_type": "stream",
     "text": [
      "Batch calculation at epoch 14.: 4001it [03:35, 13.73it/s]"
     ]
    },
    {
     "name": "stdout",
     "output_type": "stream",
     "text": [
      "------------------------------------------------------------\n",
      "Epoch 14, batch 3999:\n",
      "Average original gradient norm: 0.6493425460532307 (over last 800 batches)\n",
      "Average clipped gradient norm: 0.6493425460532307 (over last 800 batches)\n",
      "Running average global loss: 0.7408369766920805 (over last 800 batches)\n",
      "Running average activity prediction loss: 0.42897606231272223 (Cross Entropy over last 800 batches)\n",
      "Running average time till next event prediction loss: 0.3118609148077667 (MAE over last 800 batches)\n",
      "------------------------------------------------------------\n"
     ]
    },
    {
     "name": "stderr",
     "output_type": "stream",
     "text": [
      "Batch calculation at epoch 14.: 4295it [03:59, 17.93it/s]\n"
     ]
    },
    {
     "name": "stdout",
     "output_type": "stream",
     "text": [
      "=======================================\n",
      "End of epoch 14\n",
      "=======================================\n",
      "Running average global loss: 0.7421465436369181 (over last 800 batches)\n",
      "Running average activity prediction loss: 0.4303359791263938 (Cross Entropy over last 800 batches)\n",
      "Running average time till next event prediction loss: 0.31181056385859846 (MAE over last 800 batches)\n"
     ]
    },
    {
     "name": "stderr",
     "output_type": "stream",
     "text": [
      "Validation batch calculation: 40it [00:28,  1.39it/s]\n"
     ]
    },
    {
     "name": "stdout",
     "output_type": "stream",
     "text": [
      "Avg MAE TTNE prediction validation set: 0.46469321846961975 (standardized) ; 17140.46875 (minutes)'\n",
      "Avg 1-(normalized) DL distance acitivty suffix prediction validation set: 0.8439306616783142\n",
      "Percentage of suffixes predicted to END: too early - 0.30057746530898705 ; right moment - 0.633525000923452 ; too late - 0.06589753376756098\n",
      "Too early instances - avg amount of events too early: 1.7055546045303345\n",
      "Too late instances - avg amount of events too late: 2.8165171146392822\n",
      "Avg absolute amount of events predicted too early / too late: 0.6982528567314148\n",
      "Avg MAE RRT prediction validation set:  36454.7125 (minutes)'\n",
      " \n",
      "------------------------------------\n",
      "EPOCH 15:\n",
      "____________________________________\n"
     ]
    },
    {
     "name": "stderr",
     "output_type": "stream",
     "text": [
      "Batch calculation at epoch 15.: 801it [00:50,  7.26it/s]"
     ]
    },
    {
     "name": "stdout",
     "output_type": "stream",
     "text": [
      "------------------------------------------------------------\n",
      "Epoch 15, batch 799:\n",
      "Average original gradient norm: 0.624541480615735 (over last 800 batches)\n",
      "Average clipped gradient norm: 0.624541480615735 (over last 800 batches)\n",
      "Running average global loss: 0.7403558599203826 (over last 800 batches)\n",
      "Running average activity prediction loss: 0.42685136053711176 (Cross Entropy over last 800 batches)\n",
      "Running average time till next event prediction loss: 0.31350449912250045 (MAE over last 800 batches)\n",
      "------------------------------------------------------------\n"
     ]
    },
    {
     "name": "stderr",
     "output_type": "stream",
     "text": [
      "Batch calculation at epoch 15.: 1601it [02:12,  6.59it/s]"
     ]
    },
    {
     "name": "stdout",
     "output_type": "stream",
     "text": [
      "------------------------------------------------------------\n",
      "Epoch 15, batch 1599:\n",
      "Average original gradient norm: 0.6506124588474631 (over last 800 batches)\n",
      "Average clipped gradient norm: 0.6506124588474631 (over last 800 batches)\n",
      "Running average global loss: 0.7431950984895229 (over last 800 batches)\n",
      "Running average activity prediction loss: 0.4291461344063282 (Cross Entropy over last 800 batches)\n",
      "Running average time till next event prediction loss: 0.31404896525666115 (MAE over last 800 batches)\n",
      "------------------------------------------------------------\n"
     ]
    },
    {
     "name": "stderr",
     "output_type": "stream",
     "text": [
      "Batch calculation at epoch 15.: 2401it [03:25,  8.58it/s]"
     ]
    },
    {
     "name": "stdout",
     "output_type": "stream",
     "text": [
      "------------------------------------------------------------\n",
      "Epoch 15, batch 2399:\n",
      "Average original gradient norm: 0.6310606665909291 (over last 800 batches)\n",
      "Average clipped gradient norm: 0.6310606665909291 (over last 800 batches)\n",
      "Running average global loss: 0.7443335454910993 (over last 800 batches)\n",
      "Running average activity prediction loss: 0.43186866089701653 (Cross Entropy over last 800 batches)\n",
      "Running average time till next event prediction loss: 0.31246488442644477 (MAE over last 800 batches)\n",
      "------------------------------------------------------------\n"
     ]
    },
    {
     "name": "stderr",
     "output_type": "stream",
     "text": [
      "Batch calculation at epoch 15.: 3200it [04:51,  7.70it/s]"
     ]
    },
    {
     "name": "stdout",
     "output_type": "stream",
     "text": [
      "------------------------------------------------------------\n",
      "Epoch 15, batch 3199:\n",
      "Average original gradient norm: 0.674374683238566 (over last 800 batches)\n",
      "Average clipped gradient norm: 0.674374683238566 (over last 800 batches)\n",
      "Running average global loss: 0.7420592251420021 (over last 800 batches)\n",
      "Running average activity prediction loss: 0.4298930474743247 (Cross Entropy over last 800 batches)\n",
      "Running average time till next event prediction loss: 0.3121661774814129 (MAE over last 800 batches)\n",
      "------------------------------------------------------------\n"
     ]
    },
    {
     "name": "stderr",
     "output_type": "stream",
     "text": [
      "Batch calculation at epoch 15.: 4001it [06:15,  8.75it/s]"
     ]
    },
    {
     "name": "stdout",
     "output_type": "stream",
     "text": [
      "------------------------------------------------------------\n",
      "Epoch 15, batch 3999:\n",
      "Average original gradient norm: 0.644038259088993 (over last 800 batches)\n",
      "Average clipped gradient norm: 0.644038259088993 (over last 800 batches)\n",
      "Running average global loss: 0.737001218572259 (over last 800 batches)\n",
      "Running average activity prediction loss: 0.42553402956575154 (Cross Entropy over last 800 batches)\n",
      "Running average time till next event prediction loss: 0.31146718848496674 (MAE over last 800 batches)\n",
      "------------------------------------------------------------\n"
     ]
    },
    {
     "name": "stderr",
     "output_type": "stream",
     "text": [
      "Batch calculation at epoch 15.: 4295it [06:49, 10.49it/s]\n"
     ]
    },
    {
     "name": "stdout",
     "output_type": "stream",
     "text": [
      "=======================================\n",
      "End of epoch 15\n",
      "=======================================\n",
      "Running average global loss: 0.7397024010121822 (over last 800 batches)\n",
      "Running average activity prediction loss: 0.42734937217086555 (Cross Entropy over last 800 batches)\n",
      "Running average time till next event prediction loss: 0.31235302867367865 (MAE over last 800 batches)\n"
     ]
    },
    {
     "name": "stderr",
     "output_type": "stream",
     "text": [
      "Validation batch calculation: 40it [00:24,  1.62it/s]\n"
     ]
    },
    {
     "name": "stdout",
     "output_type": "stream",
     "text": [
      "Avg MAE TTNE prediction validation set: 0.4673241972923279 (standardized) ; 17238.027083333334 (minutes)'\n",
      "Avg 1-(normalized) DL distance acitivty suffix prediction validation set: 0.8437036275863647\n",
      "Percentage of suffixes predicted to END: too early - 0.29961707524286785 ; right moment - 0.6331186820493246 ; too late - 0.06726424270780748\n",
      "Too early instances - avg amount of events too early: 1.7088847160339355\n",
      "Too late instances - avg amount of events too late: 2.7896759510040283\n",
      "Avg absolute amount of events predicted too early / too late: 0.6996564865112305\n",
      "Avg MAE RRT prediction validation set:  36579.49166666667 (minutes)'\n",
      " \n",
      "------------------------------------\n",
      "EPOCH 16:\n",
      "____________________________________\n"
     ]
    },
    {
     "name": "stderr",
     "output_type": "stream",
     "text": [
      "Batch calculation at epoch 16.: 804it [01:27, 18.78it/s]"
     ]
    },
    {
     "name": "stdout",
     "output_type": "stream",
     "text": [
      "------------------------------------------------------------\n",
      "Epoch 16, batch 799:\n",
      "Average original gradient norm: 0.6540652569755911 (over last 800 batches)\n",
      "Average clipped gradient norm: 0.6540652569755911 (over last 800 batches)\n",
      "Running average global loss: 0.7406008487194776 (over last 800 batches)\n",
      "Running average activity prediction loss: 0.42810939604416487 (Cross Entropy over last 800 batches)\n",
      "Running average time till next event prediction loss: 0.31249145237728954 (MAE over last 800 batches)\n",
      "------------------------------------------------------------\n"
     ]
    },
    {
     "name": "stderr",
     "output_type": "stream",
     "text": [
      "Batch calculation at epoch 16.: 1602it [02:19, 11.05it/s]"
     ]
    },
    {
     "name": "stdout",
     "output_type": "stream",
     "text": [
      "------------------------------------------------------------\n",
      "Epoch 16, batch 1599:\n",
      "Average original gradient norm: 0.660874263048172 (over last 800 batches)\n",
      "Average clipped gradient norm: 0.660874263048172 (over last 800 batches)\n",
      "Running average global loss: 0.7411406241357327 (over last 800 batches)\n",
      "Running average activity prediction loss: 0.429351222589612 (Cross Entropy over last 800 batches)\n",
      "Running average time till next event prediction loss: 0.31178940206766126 (MAE over last 800 batches)\n",
      "------------------------------------------------------------\n"
     ]
    },
    {
     "name": "stderr",
     "output_type": "stream",
     "text": [
      "Batch calculation at epoch 16.: 2403it [03:01, 19.73it/s]"
     ]
    },
    {
     "name": "stdout",
     "output_type": "stream",
     "text": [
      "------------------------------------------------------------\n",
      "Epoch 16, batch 2399:\n",
      "Average original gradient norm: 0.6432381352409721 (over last 800 batches)\n",
      "Average clipped gradient norm: 0.6432381352409721 (over last 800 batches)\n",
      "Running average global loss: 0.7417796251177787 (over last 800 batches)\n",
      "Running average activity prediction loss: 0.42898733433336017 (Cross Entropy over last 800 batches)\n",
      "Running average time till next event prediction loss: 0.3127922914177179 (MAE over last 800 batches)\n",
      "------------------------------------------------------------\n"
     ]
    },
    {
     "name": "stderr",
     "output_type": "stream",
     "text": [
      "Batch calculation at epoch 16.: 3200it [04:17,  9.70it/s]"
     ]
    },
    {
     "name": "stdout",
     "output_type": "stream",
     "text": [
      "------------------------------------------------------------\n",
      "Epoch 16, batch 3199:\n",
      "Average original gradient norm: 0.6474925330281258 (over last 800 batches)\n",
      "Average clipped gradient norm: 0.6474925330281258 (over last 800 batches)\n",
      "Running average global loss: 0.7402256611734629 (over last 800 batches)\n",
      "Running average activity prediction loss: 0.4279661959782243 (Cross Entropy over last 800 batches)\n",
      "Running average time till next event prediction loss: 0.31225946662947535 (MAE over last 800 batches)\n",
      "------------------------------------------------------------\n"
     ]
    },
    {
     "name": "stderr",
     "output_type": "stream",
     "text": [
      "Batch calculation at epoch 16.: 4002it [05:24, 13.91it/s]"
     ]
    },
    {
     "name": "stdout",
     "output_type": "stream",
     "text": [
      "------------------------------------------------------------\n",
      "Epoch 16, batch 3999:\n",
      "Average original gradient norm: 0.6494308294355869 (over last 800 batches)\n",
      "Average clipped gradient norm: 0.6494308294355869 (over last 800 batches)\n",
      "Running average global loss: 0.7325745594501495 (over last 800 batches)\n",
      "Running average activity prediction loss: 0.42000069078058005 (Cross Entropy over last 800 batches)\n",
      "Running average time till next event prediction loss: 0.31257386872544884 (MAE over last 800 batches)\n",
      "------------------------------------------------------------\n"
     ]
    },
    {
     "name": "stderr",
     "output_type": "stream",
     "text": [
      "Batch calculation at epoch 16.: 4295it [05:43, 12.50it/s]\n"
     ]
    },
    {
     "name": "stdout",
     "output_type": "stream",
     "text": [
      "=======================================\n",
      "End of epoch 16\n",
      "=======================================\n",
      "Running average global loss: 0.734287797883153 (over last 800 batches)\n",
      "Running average activity prediction loss: 0.4223913858085871 (Cross Entropy over last 800 batches)\n",
      "Running average time till next event prediction loss: 0.31189641224220394 (MAE over last 800 batches)\n"
     ]
    },
    {
     "name": "stderr",
     "output_type": "stream",
     "text": [
      "Validation batch calculation: 40it [00:23,  1.72it/s]\n"
     ]
    },
    {
     "name": "stdout",
     "output_type": "stream",
     "text": [
      "Avg MAE TTNE prediction validation set: 0.4657644033432007 (standardized) ; 17182.207291666666 (minutes)'\n",
      "Avg 1-(normalized) DL distance acitivty suffix prediction validation set: 0.8439104557037354\n",
      "Percentage of suffixes predicted to END: too early - 0.29966632601548937 ; right moment - 0.63313099474248 ; too late - 0.0672026792420306\n",
      "Too early instances - avg amount of events too early: 1.7047004699707031\n",
      "Too late instances - avg amount of events too late: 2.8057897090911865\n",
      "Avg absolute amount of events predicted too early / too late: 0.6993979215621948\n",
      "Avg MAE RRT prediction validation set:  36565.245833333334 (minutes)'\n",
      " \n",
      "------------------------------------\n",
      "EPOCH 17:\n",
      "____________________________________\n"
     ]
    },
    {
     "name": "stderr",
     "output_type": "stream",
     "text": [
      "Batch calculation at epoch 17.: 802it [01:26, 14.53it/s]"
     ]
    },
    {
     "name": "stdout",
     "output_type": "stream",
     "text": [
      "------------------------------------------------------------\n",
      "Epoch 17, batch 799:\n",
      "Average original gradient norm: 0.6493666037172079 (over last 800 batches)\n",
      "Average clipped gradient norm: 0.6493666037172079 (over last 800 batches)\n",
      "Running average global loss: 0.739006692096591 (over last 800 batches)\n",
      "Running average activity prediction loss: 0.4261993272975087 (Cross Entropy over last 800 batches)\n",
      "Running average time till next event prediction loss: 0.3128073647990823 (MAE over last 800 batches)\n",
      "------------------------------------------------------------\n"
     ]
    },
    {
     "name": "stderr",
     "output_type": "stream",
     "text": [
      "Batch calculation at epoch 17.: 1601it [02:27, 13.62it/s]"
     ]
    },
    {
     "name": "stdout",
     "output_type": "stream",
     "text": [
      "------------------------------------------------------------\n",
      "Epoch 17, batch 1599:\n",
      "Average original gradient norm: 0.6206389709562063 (over last 800 batches)\n",
      "Average clipped gradient norm: 0.6206389709562063 (over last 800 batches)\n",
      "Running average global loss: 0.7378559429943562 (over last 800 batches)\n",
      "Running average activity prediction loss: 0.42681534819304945 (Cross Entropy over last 800 batches)\n",
      "Running average time till next event prediction loss: 0.3110405933111906 (MAE over last 800 batches)\n",
      "------------------------------------------------------------\n"
     ]
    },
    {
     "name": "stderr",
     "output_type": "stream",
     "text": [
      "Batch calculation at epoch 17.: 2403it [03:23, 17.58it/s]"
     ]
    },
    {
     "name": "stdout",
     "output_type": "stream",
     "text": [
      "------------------------------------------------------------\n",
      "Epoch 17, batch 2399:\n",
      "Average original gradient norm: 0.6507634231448174 (over last 800 batches)\n",
      "Average clipped gradient norm: 0.6507634231448174 (over last 800 batches)\n",
      "Running average global loss: 0.733098721280694 (over last 800 batches)\n",
      "Running average activity prediction loss: 0.42153118416666985 (Cross Entropy over last 800 batches)\n",
      "Running average time till next event prediction loss: 0.31156753804534676 (MAE over last 800 batches)\n",
      "------------------------------------------------------------\n"
     ]
    },
    {
     "name": "stderr",
     "output_type": "stream",
     "text": [
      "Batch calculation at epoch 17.: 3206it [04:29, 27.42it/s]"
     ]
    },
    {
     "name": "stdout",
     "output_type": "stream",
     "text": [
      "------------------------------------------------------------\n",
      "Epoch 17, batch 3199:\n",
      "Average original gradient norm: 0.6404251634702086 (over last 800 batches)\n",
      "Average clipped gradient norm: 0.6404251634702086 (over last 800 batches)\n",
      "Running average global loss: 0.7389360065013171 (over last 800 batches)\n",
      "Running average activity prediction loss: 0.4253635165095329 (Cross Entropy over last 800 batches)\n",
      "Running average time till next event prediction loss: 0.31357249019667505 (MAE over last 800 batches)\n",
      "------------------------------------------------------------\n"
     ]
    },
    {
     "name": "stderr",
     "output_type": "stream",
     "text": [
      "Batch calculation at epoch 17.: 4000it [05:41,  9.56it/s]"
     ]
    },
    {
     "name": "stdout",
     "output_type": "stream",
     "text": [
      "------------------------------------------------------------\n",
      "Epoch 17, batch 3999:\n",
      "Average original gradient norm: 0.6323293304443359 (over last 800 batches)\n",
      "Average clipped gradient norm: 0.6323293304443359 (over last 800 batches)\n",
      "Running average global loss: 0.7395989007502795 (over last 800 batches)\n",
      "Running average activity prediction loss: 0.4282651933655143 (Cross Entropy over last 800 batches)\n",
      "Running average time till next event prediction loss: 0.31133370807394384 (MAE over last 800 batches)\n",
      "------------------------------------------------------------\n"
     ]
    },
    {
     "name": "stderr",
     "output_type": "stream",
     "text": [
      "Batch calculation at epoch 17.: 4295it [06:16, 11.42it/s]\n"
     ]
    },
    {
     "name": "stdout",
     "output_type": "stream",
     "text": [
      "=======================================\n",
      "End of epoch 17\n",
      "=======================================\n",
      "Running average global loss: 0.7374923159182072 (over last 800 batches)\n",
      "Running average activity prediction loss: 0.42685949072241786 (Cross Entropy over last 800 batches)\n",
      "Running average time till next event prediction loss: 0.3106328256614506 (MAE over last 800 batches)\n"
     ]
    },
    {
     "name": "stderr",
     "output_type": "stream",
     "text": [
      "Validation batch calculation: 40it [00:26,  1.49it/s]\n"
     ]
    },
    {
     "name": "stdout",
     "output_type": "stream",
     "text": [
      "Avg MAE TTNE prediction validation set: 0.45994409918785095 (standardized) ; 16971.061458333334 (minutes)'\n",
      "Avg 1-(normalized) DL distance acitivty suffix prediction validation set: 0.8441066145896912\n",
      "Percentage of suffixes predicted to END: too early - 0.2990753167440314 ; right moment - 0.633327997832966 ; too late - 0.06759668542300257\n",
      "Too early instances - avg amount of events too early: 1.7001646757125854\n",
      "Too late instances - avg amount of events too late: 2.8194899559020996\n",
      "Avg absolute amount of events predicted too early / too late: 0.6990654468536377\n",
      "Avg MAE RRT prediction validation set:  37204.7 (minutes)'\n",
      " \n",
      "------------------------------------\n",
      "EPOCH 18:\n",
      "____________________________________\n"
     ]
    },
    {
     "name": "stderr",
     "output_type": "stream",
     "text": [
      "Batch calculation at epoch 18.: 802it [01:00, 13.34it/s]"
     ]
    },
    {
     "name": "stdout",
     "output_type": "stream",
     "text": [
      "------------------------------------------------------------\n",
      "Epoch 18, batch 799:\n",
      "Average original gradient norm: 0.62559038028121 (over last 800 batches)\n",
      "Average clipped gradient norm: 0.62559038028121 (over last 800 batches)\n",
      "Running average global loss: 0.7386619397997856 (over last 800 batches)\n",
      "Running average activity prediction loss: 0.4268994938209653 (Cross Entropy over last 800 batches)\n",
      "Running average time till next event prediction loss: 0.31176244745031 (MAE over last 800 batches)\n",
      "------------------------------------------------------------\n"
     ]
    },
    {
     "name": "stderr",
     "output_type": "stream",
     "text": [
      "Batch calculation at epoch 18.: 1600it [02:28,  7.08it/s]"
     ]
    },
    {
     "name": "stdout",
     "output_type": "stream",
     "text": [
      "------------------------------------------------------------\n",
      "Epoch 18, batch 1599:\n",
      "Average original gradient norm: 0.6364971701800823 (over last 800 batches)\n",
      "Average clipped gradient norm: 0.6364971701800823 (over last 800 batches)\n",
      "Running average global loss: 0.7357798642665148 (over last 800 batches)\n",
      "Running average activity prediction loss: 0.4247519873082638 (Cross Entropy over last 800 batches)\n",
      "Running average time till next event prediction loss: 0.31102787660434844 (MAE over last 800 batches)\n",
      "------------------------------------------------------------\n"
     ]
    },
    {
     "name": "stderr",
     "output_type": "stream",
     "text": [
      "Batch calculation at epoch 18.: 2401it [03:56, 10.92it/s]"
     ]
    },
    {
     "name": "stdout",
     "output_type": "stream",
     "text": [
      "------------------------------------------------------------\n",
      "Epoch 18, batch 2399:\n",
      "Average original gradient norm: 0.6246406757086516 (over last 800 batches)\n",
      "Average clipped gradient norm: 0.6246406757086516 (over last 800 batches)\n",
      "Running average global loss: 0.7364268161356449 (over last 800 batches)\n",
      "Running average activity prediction loss: 0.4238263126835227 (Cross Entropy over last 800 batches)\n",
      "Running average time till next event prediction loss: 0.3126005045324564 (MAE over last 800 batches)\n",
      "------------------------------------------------------------\n"
     ]
    },
    {
     "name": "stderr",
     "output_type": "stream",
     "text": [
      "Batch calculation at epoch 18.: 3200it [05:17,  7.82it/s]"
     ]
    },
    {
     "name": "stdout",
     "output_type": "stream",
     "text": [
      "------------------------------------------------------------\n",
      "Epoch 18, batch 3199:\n",
      "Average original gradient norm: 0.6273867299035192 (over last 800 batches)\n",
      "Average clipped gradient norm: 0.6273867299035192 (over last 800 batches)\n",
      "Running average global loss: 0.7331226816028357 (over last 800 batches)\n",
      "Running average activity prediction loss: 0.4231504614278674 (Cross Entropy over last 800 batches)\n",
      "Running average time till next event prediction loss: 0.30997222032397986 (MAE over last 800 batches)\n",
      "------------------------------------------------------------\n"
     ]
    },
    {
     "name": "stderr",
     "output_type": "stream",
     "text": [
      "Batch calculation at epoch 18.: 4001it [06:50,  9.74it/s]"
     ]
    },
    {
     "name": "stdout",
     "output_type": "stream",
     "text": [
      "------------------------------------------------------------\n",
      "Epoch 18, batch 3999:\n",
      "Average original gradient norm: 0.6371454667299986 (over last 800 batches)\n",
      "Average clipped gradient norm: 0.6371454667299986 (over last 800 batches)\n",
      "Running average global loss: 0.7358787143230439 (over last 800 batches)\n",
      "Running average activity prediction loss: 0.42413908649235965 (Cross Entropy over last 800 batches)\n",
      "Running average time till next event prediction loss: 0.31173962660133836 (MAE over last 800 batches)\n",
      "------------------------------------------------------------\n"
     ]
    },
    {
     "name": "stderr",
     "output_type": "stream",
     "text": [
      "Batch calculation at epoch 18.: 4295it [07:12,  9.92it/s]\n"
     ]
    },
    {
     "name": "stdout",
     "output_type": "stream",
     "text": [
      "=======================================\n",
      "End of epoch 18\n",
      "=======================================\n",
      "Running average global loss: 0.7392394967377186 (over last 800 batches)\n",
      "Running average activity prediction loss: 0.42759456522762773 (Cross Entropy over last 800 batches)\n",
      "Running average time till next event prediction loss: 0.31164493046700953 (MAE over last 800 batches)\n"
     ]
    },
    {
     "name": "stderr",
     "output_type": "stream",
     "text": [
      "Validation batch calculation: 40it [00:24,  1.62it/s]\n"
     ]
    },
    {
     "name": "stdout",
     "output_type": "stream",
     "text": [
      "Avg MAE TTNE prediction validation set: 0.46337252855300903 (standardized) ; 17093.878125 (minutes)'\n",
      "Avg 1-(normalized) DL distance acitivty suffix prediction validation set: 0.8440043330192566\n",
      "Percentage of suffixes predicted to END: too early - 0.29958013716340176 ; right moment - 0.6332787470603445 ; too late - 0.06714111577625374\n",
      "Too early instances - avg amount of events too early: 1.7041223049163818\n",
      "Too late instances - avg amount of events too late: 2.7946083545684814\n",
      "Avg absolute amount of events predicted too early / too late: 0.6981543302536011\n",
      "Avg MAE RRT prediction validation set:  36577.375 (minutes)'\n",
      " \n",
      "------------------------------------\n",
      "EPOCH 19:\n",
      "____________________________________\n"
     ]
    },
    {
     "name": "stderr",
     "output_type": "stream",
     "text": [
      "Batch calculation at epoch 19.: 803it [00:48, 18.67it/s]"
     ]
    },
    {
     "name": "stdout",
     "output_type": "stream",
     "text": [
      "------------------------------------------------------------\n",
      "Epoch 19, batch 799:\n",
      "Average original gradient norm: 0.6220530506595969 (over last 800 batches)\n",
      "Average clipped gradient norm: 0.6220530506595969 (over last 800 batches)\n",
      "Running average global loss: 0.7361772102117539 (over last 800 batches)\n",
      "Running average activity prediction loss: 0.4245029905065894 (Cross Entropy over last 800 batches)\n",
      "Running average time till next event prediction loss: 0.31167421950027346 (MAE over last 800 batches)\n",
      "------------------------------------------------------------\n"
     ]
    },
    {
     "name": "stderr",
     "output_type": "stream",
     "text": [
      "Batch calculation at epoch 19.: 1608it [01:27, 47.33it/s]"
     ]
    },
    {
     "name": "stdout",
     "output_type": "stream",
     "text": [
      "------------------------------------------------------------\n",
      "Epoch 19, batch 1599:\n",
      "Average original gradient norm: 0.6389976653456688 (over last 800 batches)\n",
      "Average clipped gradient norm: 0.6389976653456688 (over last 800 batches)\n",
      "Running average global loss: 0.7326025560498237 (over last 800 batches)\n",
      "Running average activity prediction loss: 0.4228190917894244 (Cross Entropy over last 800 batches)\n",
      "Running average time till next event prediction loss: 0.30978346509858967 (MAE over last 800 batches)\n",
      "------------------------------------------------------------\n"
     ]
    },
    {
     "name": "stderr",
     "output_type": "stream",
     "text": [
      "Batch calculation at epoch 19.: 2404it [02:01, 26.76it/s]"
     ]
    },
    {
     "name": "stdout",
     "output_type": "stream",
     "text": [
      "------------------------------------------------------------\n",
      "Epoch 19, batch 2399:\n",
      "Average original gradient norm: 0.6416006422042847 (over last 800 batches)\n",
      "Average clipped gradient norm: 0.6416006422042847 (over last 800 batches)\n",
      "Running average global loss: 0.7322130626440049 (over last 800 batches)\n",
      "Running average activity prediction loss: 0.4219777988642454 (Cross Entropy over last 800 batches)\n",
      "Running average time till next event prediction loss: 0.3102352637425065 (MAE over last 800 batches)\n",
      "------------------------------------------------------------\n"
     ]
    },
    {
     "name": "stderr",
     "output_type": "stream",
     "text": [
      "Batch calculation at epoch 19.: 3201it [02:39, 17.54it/s]"
     ]
    },
    {
     "name": "stdout",
     "output_type": "stream",
     "text": [
      "------------------------------------------------------------\n",
      "Epoch 19, batch 3199:\n",
      "Average original gradient norm: 0.6249095717072487 (over last 800 batches)\n",
      "Average clipped gradient norm: 0.6249095717072487 (over last 800 batches)\n",
      "Running average global loss: 0.7385777448117733 (over last 800 batches)\n",
      "Running average activity prediction loss: 0.42676020953804256 (Cross Entropy over last 800 batches)\n",
      "Running average time till next event prediction loss: 0.31181753501296045 (MAE over last 800 batches)\n",
      "------------------------------------------------------------\n"
     ]
    },
    {
     "name": "stderr",
     "output_type": "stream",
     "text": [
      "Batch calculation at epoch 19.: 4001it [03:31, 18.17it/s]"
     ]
    },
    {
     "name": "stdout",
     "output_type": "stream",
     "text": [
      "------------------------------------------------------------\n",
      "Epoch 19, batch 3999:\n",
      "Average original gradient norm: 0.6252618117630482 (over last 800 batches)\n",
      "Average clipped gradient norm: 0.6252618117630482 (over last 800 batches)\n",
      "Running average global loss: 0.7333241887390614 (over last 800 batches)\n",
      "Running average activity prediction loss: 0.4220514215156436 (Cross Entropy over last 800 batches)\n",
      "Running average time till next event prediction loss: 0.3112727680802345 (MAE over last 800 batches)\n",
      "------------------------------------------------------------\n"
     ]
    },
    {
     "name": "stderr",
     "output_type": "stream",
     "text": [
      "Batch calculation at epoch 19.: 4295it [03:56, 18.20it/s]\n"
     ]
    },
    {
     "name": "stdout",
     "output_type": "stream",
     "text": [
      "=======================================\n",
      "End of epoch 19\n",
      "=======================================\n",
      "Running average global loss: 0.7318657041341067 (over last 800 batches)\n",
      "Running average activity prediction loss: 0.42142563976347447 (Cross Entropy over last 800 batches)\n",
      "Running average time till next event prediction loss: 0.3104400655627251 (MAE over last 800 batches)\n"
     ]
    },
    {
     "name": "stderr",
     "output_type": "stream",
     "text": [
      "Validation batch calculation: 40it [00:25,  1.60it/s]\n"
     ]
    },
    {
     "name": "stdout",
     "output_type": "stream",
     "text": [
      "Avg MAE TTNE prediction validation set: 0.46302300691604614 (standardized) ; 17083.128125 (minutes)'\n",
      "Avg 1-(normalized) DL distance acitivty suffix prediction validation set: 0.8439266085624695\n",
      "Percentage of suffixes predicted to END: too early - 0.29817649014368913 ; right moment - 0.6330201805040817 ; too late - 0.06880332935222921\n",
      "Too early instances - avg amount of events too early: 1.6948424577713013\n",
      "Too late instances - avg amount of events too late: 2.824266195297241\n",
      "Avg absolute amount of events predicted too early / too late: 0.6996811032295227\n",
      "Avg MAE RRT prediction validation set:  36658.05 (minutes)'\n",
      " \n",
      "------------------------------------\n",
      "EPOCH 20:\n",
      "____________________________________\n"
     ]
    },
    {
     "name": "stderr",
     "output_type": "stream",
     "text": [
      "Batch calculation at epoch 20.: 802it [00:30, 15.79it/s]"
     ]
    },
    {
     "name": "stdout",
     "output_type": "stream",
     "text": [
      "------------------------------------------------------------\n",
      "Epoch 20, batch 799:\n",
      "Average original gradient norm: 0.6412867706269025 (over last 800 batches)\n",
      "Average clipped gradient norm: 0.6412867706269025 (over last 800 batches)\n",
      "Running average global loss: 0.7339644582569599 (over last 800 batches)\n",
      "Running average activity prediction loss: 0.42332627933472394 (Cross Entropy over last 800 batches)\n",
      "Running average time till next event prediction loss: 0.31063818007707594 (MAE over last 800 batches)\n",
      "------------------------------------------------------------\n"
     ]
    },
    {
     "name": "stderr",
     "output_type": "stream",
     "text": [
      "Batch calculation at epoch 20.: 1606it [01:08, 31.65it/s]"
     ]
    },
    {
     "name": "stdout",
     "output_type": "stream",
     "text": [
      "------------------------------------------------------------\n",
      "Epoch 20, batch 1599:\n",
      "Average original gradient norm: 0.6503349696844816 (over last 800 batches)\n",
      "Average clipped gradient norm: 0.6503349696844816 (over last 800 batches)\n",
      "Running average global loss: 0.7339390227198601 (over last 800 batches)\n",
      "Running average activity prediction loss: 0.42268573768436907 (Cross Entropy over last 800 batches)\n",
      "Running average time till next event prediction loss: 0.31125328481197356 (MAE over last 800 batches)\n",
      "------------------------------------------------------------\n"
     ]
    },
    {
     "name": "stderr",
     "output_type": "stream",
     "text": [
      "Batch calculation at epoch 20.: 2402it [01:50, 17.02it/s]"
     ]
    },
    {
     "name": "stdout",
     "output_type": "stream",
     "text": [
      "------------------------------------------------------------\n",
      "Epoch 20, batch 2399:\n",
      "Average original gradient norm: 0.6098016281053424 (over last 800 batches)\n",
      "Average clipped gradient norm: 0.6098016281053424 (over last 800 batches)\n",
      "Running average global loss: 0.7311108199506998 (over last 800 batches)\n",
      "Running average activity prediction loss: 0.42046860486269 (Cross Entropy over last 800 batches)\n",
      "Running average time till next event prediction loss: 0.3106422158516943 (MAE over last 800 batches)\n",
      "------------------------------------------------------------\n"
     ]
    },
    {
     "name": "stderr",
     "output_type": "stream",
     "text": [
      "Batch calculation at epoch 20.: 3202it [02:43, 16.37it/s]"
     ]
    },
    {
     "name": "stdout",
     "output_type": "stream",
     "text": [
      "------------------------------------------------------------\n",
      "Epoch 20, batch 3199:\n",
      "Average original gradient norm: 0.6453289480134845 (over last 800 batches)\n",
      "Average clipped gradient norm: 0.6453289480134845 (over last 800 batches)\n",
      "Running average global loss: 0.7319280415028334 (over last 800 batches)\n",
      "Running average activity prediction loss: 0.42140339996665716 (Cross Entropy over last 800 batches)\n",
      "Running average time till next event prediction loss: 0.31052464231848714 (MAE over last 800 batches)\n",
      "------------------------------------------------------------\n"
     ]
    },
    {
     "name": "stderr",
     "output_type": "stream",
     "text": [
      "Batch calculation at epoch 20.: 4003it [03:40, 16.73it/s]"
     ]
    },
    {
     "name": "stdout",
     "output_type": "stream",
     "text": [
      "------------------------------------------------------------\n",
      "Epoch 20, batch 3999:\n",
      "Average original gradient norm: 0.625508740618825 (over last 800 batches)\n",
      "Average clipped gradient norm: 0.625508740618825 (over last 800 batches)\n",
      "Running average global loss: 0.7340331587940454 (over last 800 batches)\n",
      "Running average activity prediction loss: 0.4236298283934593 (Cross Entropy over last 800 batches)\n",
      "Running average time till next event prediction loss: 0.3104033310897648 (MAE over last 800 batches)\n",
      "------------------------------------------------------------\n"
     ]
    },
    {
     "name": "stderr",
     "output_type": "stream",
     "text": [
      "Batch calculation at epoch 20.: 4295it [03:57, 18.08it/s]\n"
     ]
    },
    {
     "name": "stdout",
     "output_type": "stream",
     "text": [
      "=======================================\n",
      "End of epoch 20\n",
      "=======================================\n",
      "Running average global loss: 0.7339047804474831 (over last 800 batches)\n",
      "Running average activity prediction loss: 0.424053720459342 (Cross Entropy over last 800 batches)\n",
      "Running average time till next event prediction loss: 0.30985105933621526 (MAE over last 800 batches)\n"
     ]
    },
    {
     "name": "stderr",
     "output_type": "stream",
     "text": [
      "Validation batch calculation: 40it [00:31,  1.26it/s]\n"
     ]
    },
    {
     "name": "stdout",
     "output_type": "stream",
     "text": [
      "Avg MAE TTNE prediction validation set: 0.4611334502696991 (standardized) ; 17008.85625 (minutes)'\n",
      "Avg 1-(normalized) DL distance acitivty suffix prediction validation set: 0.8438457250595093\n",
      "Percentage of suffixes predicted to END: too early - 0.2962064592388293 ; right moment - 0.633525000923452 ; too late - 0.0702685398377187\n",
      "Too early instances - avg amount of events too early: 1.6574386358261108\n",
      "Too late instances - avg amount of events too late: 2.981426239013672\n",
      "Avg absolute amount of events predicted too early / too late: 0.7004444599151611\n",
      "Avg MAE RRT prediction validation set:  36842.25833333333 (minutes)'\n",
      " \n",
      "------------------------------------\n",
      "EPOCH 21:\n",
      "____________________________________\n"
     ]
    },
    {
     "name": "stderr",
     "output_type": "stream",
     "text": [
      "Batch calculation at epoch 21.: 801it [00:55, 10.31it/s]"
     ]
    },
    {
     "name": "stdout",
     "output_type": "stream",
     "text": [
      "------------------------------------------------------------\n",
      "Epoch 21, batch 799:\n",
      "Average original gradient norm: 0.6322483922168612 (over last 800 batches)\n",
      "Average clipped gradient norm: 0.6322483922168612 (over last 800 batches)\n",
      "Running average global loss: 0.7298461452871561 (over last 800 batches)\n",
      "Running average activity prediction loss: 0.4200709434971213 (Cross Entropy over last 800 batches)\n",
      "Running average time till next event prediction loss: 0.30977520227432254 (MAE over last 800 batches)\n",
      "------------------------------------------------------------\n"
     ]
    },
    {
     "name": "stderr",
     "output_type": "stream",
     "text": [
      "Batch calculation at epoch 21.: 1601it [01:57, 13.91it/s]"
     ]
    },
    {
     "name": "stdout",
     "output_type": "stream",
     "text": [
      "------------------------------------------------------------\n",
      "Epoch 21, batch 1599:\n",
      "Average original gradient norm: 0.6310191391780973 (over last 800 batches)\n",
      "Average clipped gradient norm: 0.6310191391780973 (over last 800 batches)\n",
      "Running average global loss: 0.7340575185418129 (over last 800 batches)\n",
      "Running average activity prediction loss: 0.4228218647092581 (Cross Entropy over last 800 batches)\n",
      "Running average time till next event prediction loss: 0.3112356544844806 (MAE over last 800 batches)\n",
      "------------------------------------------------------------\n"
     ]
    },
    {
     "name": "stderr",
     "output_type": "stream",
     "text": [
      "Batch calculation at epoch 21.: 2401it [02:50, 17.41it/s]"
     ]
    },
    {
     "name": "stdout",
     "output_type": "stream",
     "text": [
      "------------------------------------------------------------\n",
      "Epoch 21, batch 2399:\n",
      "Average original gradient norm: 0.6238371910527348 (over last 800 batches)\n",
      "Average clipped gradient norm: 0.6238371910527348 (over last 800 batches)\n",
      "Running average global loss: 0.7317074124515056 (over last 800 batches)\n",
      "Running average activity prediction loss: 0.4228244368359447 (Cross Entropy over last 800 batches)\n",
      "Running average time till next event prediction loss: 0.30888297578319907 (MAE over last 800 batches)\n",
      "------------------------------------------------------------\n"
     ]
    },
    {
     "name": "stderr",
     "output_type": "stream",
     "text": [
      "Batch calculation at epoch 21.: 3202it [03:45, 16.10it/s]"
     ]
    },
    {
     "name": "stdout",
     "output_type": "stream",
     "text": [
      "------------------------------------------------------------\n",
      "Epoch 21, batch 3199:\n",
      "Average original gradient norm: 0.6286295399814844 (over last 800 batches)\n",
      "Average clipped gradient norm: 0.6286295399814844 (over last 800 batches)\n",
      "Running average global loss: 0.7310524102300405 (over last 800 batches)\n",
      "Running average activity prediction loss: 0.42007304564118386 (Cross Entropy over last 800 batches)\n",
      "Running average time till next event prediction loss: 0.31097936341539023 (MAE over last 800 batches)\n",
      "------------------------------------------------------------\n"
     ]
    },
    {
     "name": "stderr",
     "output_type": "stream",
     "text": [
      "Batch calculation at epoch 21.: 4006it [04:15, 37.08it/s]"
     ]
    },
    {
     "name": "stdout",
     "output_type": "stream",
     "text": [
      "------------------------------------------------------------\n",
      "Epoch 21, batch 3999:\n",
      "Average original gradient norm: 0.6256169562786817 (over last 800 batches)\n",
      "Average clipped gradient norm: 0.6256169562786817 (over last 800 batches)\n",
      "Running average global loss: 0.7328196331858635 (over last 800 batches)\n",
      "Running average activity prediction loss: 0.42329352561384437 (Cross Entropy over last 800 batches)\n",
      "Running average time till next event prediction loss: 0.30952610772103073 (MAE over last 800 batches)\n",
      "------------------------------------------------------------\n"
     ]
    },
    {
     "name": "stderr",
     "output_type": "stream",
     "text": [
      "Batch calculation at epoch 21.: 4295it [04:23, 16.32it/s]\n"
     ]
    },
    {
     "name": "stdout",
     "output_type": "stream",
     "text": [
      "=======================================\n",
      "End of epoch 21\n",
      "=======================================\n",
      "Running average global loss: 0.7322738260030747 (over last 800 batches)\n",
      "Running average activity prediction loss: 0.42255466848611833 (Cross Entropy over last 800 batches)\n",
      "Running average time till next event prediction loss: 0.30971915734931826 (MAE over last 800 batches)\n"
     ]
    },
    {
     "name": "stderr",
     "output_type": "stream",
     "text": [
      "Validation batch calculation: 40it [00:24,  1.64it/s]\n"
     ]
    },
    {
     "name": "stdout",
     "output_type": "stream",
     "text": [
      "Avg MAE TTNE prediction validation set: 0.46521762013435364 (standardized) ; 17162.505208333332 (minutes)'\n",
      "Avg 1-(normalized) DL distance acitivty suffix prediction validation set: 0.8439130187034607\n",
      "Percentage of suffixes predicted to END: too early - 0.29868131056305947 ; right moment - 0.6329093662656833 ; too late - 0.06840932317125725\n",
      "Too early instances - avg amount of events too early: 1.7005112171173096\n",
      "Too late instances - avg amount of events too late: 2.8007559776306152\n",
      "Avg absolute amount of events predicted too early / too late: 0.6995087265968323\n",
      "Avg MAE RRT prediction validation set:  36428.9375 (minutes)'\n",
      " \n",
      "------------------------------------\n",
      "EPOCH 22:\n",
      "____________________________________\n"
     ]
    },
    {
     "name": "stderr",
     "output_type": "stream",
     "text": [
      "Batch calculation at epoch 22.: 802it [00:28, 21.31it/s]"
     ]
    },
    {
     "name": "stdout",
     "output_type": "stream",
     "text": [
      "------------------------------------------------------------\n",
      "Epoch 22, batch 799:\n",
      "Average original gradient norm: 0.6232322619482875 (over last 800 batches)\n",
      "Average clipped gradient norm: 0.6232322619482875 (over last 800 batches)\n",
      "Running average global loss: 0.7336978137493133 (over last 800 batches)\n",
      "Running average activity prediction loss: 0.4223015296459198 (Cross Entropy over last 800 batches)\n",
      "Running average time till next event prediction loss: 0.31139628440141676 (MAE over last 800 batches)\n",
      "------------------------------------------------------------\n"
     ]
    },
    {
     "name": "stderr",
     "output_type": "stream",
     "text": [
      "Batch calculation at epoch 22.: 1602it [01:06, 26.51it/s]"
     ]
    },
    {
     "name": "stdout",
     "output_type": "stream",
     "text": [
      "------------------------------------------------------------\n",
      "Epoch 22, batch 1599:\n",
      "Average original gradient norm: 0.6186296666413545 (over last 800 batches)\n",
      "Average clipped gradient norm: 0.6186296666413545 (over last 800 batches)\n",
      "Running average global loss: 0.7306119380146265 (over last 800 batches)\n",
      "Running average activity prediction loss: 0.4200231582298875 (Cross Entropy over last 800 batches)\n",
      "Running average time till next event prediction loss: 0.31058877900242804 (MAE over last 800 batches)\n",
      "------------------------------------------------------------\n"
     ]
    },
    {
     "name": "stderr",
     "output_type": "stream",
     "text": [
      "Batch calculation at epoch 22.: 2405it [01:41, 33.41it/s]"
     ]
    },
    {
     "name": "stdout",
     "output_type": "stream",
     "text": [
      "------------------------------------------------------------\n",
      "Epoch 22, batch 2399:\n",
      "Average original gradient norm: 0.6228971790894866 (over last 800 batches)\n",
      "Average clipped gradient norm: 0.6228971790894866 (over last 800 batches)\n",
      "Running average global loss: 0.7305845166742801 (over last 800 batches)\n",
      "Running average activity prediction loss: 0.4210560920834541 (Cross Entropy over last 800 batches)\n",
      "Running average time till next event prediction loss: 0.30952842336148023 (MAE over last 800 batches)\n",
      "------------------------------------------------------------\n"
     ]
    },
    {
     "name": "stderr",
     "output_type": "stream",
     "text": [
      "Batch calculation at epoch 22.: 3208it [02:04, 37.77it/s]"
     ]
    },
    {
     "name": "stdout",
     "output_type": "stream",
     "text": [
      "------------------------------------------------------------\n",
      "Epoch 22, batch 3199:\n",
      "Average original gradient norm: 0.6168099749833346 (over last 800 batches)\n",
      "Average clipped gradient norm: 0.6168099749833346 (over last 800 batches)\n",
      "Running average global loss: 0.7283639759570361 (over last 800 batches)\n",
      "Running average activity prediction loss: 0.42077162958681585 (Cross Entropy over last 800 batches)\n",
      "Running average time till next event prediction loss: 0.3075923472456634 (MAE over last 800 batches)\n",
      "------------------------------------------------------------\n"
     ]
    },
    {
     "name": "stderr",
     "output_type": "stream",
     "text": [
      "Batch calculation at epoch 22.: 4008it [02:25, 45.44it/s]"
     ]
    },
    {
     "name": "stdout",
     "output_type": "stream",
     "text": [
      "------------------------------------------------------------\n",
      "Epoch 22, batch 3999:\n",
      "Average original gradient norm: 0.6227573639899492 (over last 800 batches)\n",
      "Average clipped gradient norm: 0.6227573639899492 (over last 800 batches)\n",
      "Running average global loss: 0.7303326090425253 (over last 800 batches)\n",
      "Running average activity prediction loss: 0.4198598846420646 (Cross Entropy over last 800 batches)\n",
      "Running average time till next event prediction loss: 0.3104727244377136 (MAE over last 800 batches)\n",
      "------------------------------------------------------------\n"
     ]
    },
    {
     "name": "stderr",
     "output_type": "stream",
     "text": [
      "Batch calculation at epoch 22.: 4295it [02:34, 27.88it/s]\n"
     ]
    },
    {
     "name": "stdout",
     "output_type": "stream",
     "text": [
      "=======================================\n",
      "End of epoch 22\n",
      "=======================================\n",
      "Running average global loss: 0.7315131691098213 (over last 800 batches)\n",
      "Running average activity prediction loss: 0.4223076597601175 (Cross Entropy over last 800 batches)\n",
      "Running average time till next event prediction loss: 0.3092055093310773 (MAE over last 800 batches)\n"
     ]
    },
    {
     "name": "stderr",
     "output_type": "stream",
     "text": [
      "Validation batch calculation: 40it [00:19,  2.01it/s]\n"
     ]
    },
    {
     "name": "stdout",
     "output_type": "stream",
     "text": [
      "Avg MAE TTNE prediction validation set: 0.4628143906593323 (standardized) ; 17076.416666666668 (minutes)'\n",
      "Avg 1-(normalized) DL distance acitivty suffix prediction validation set: 0.8440433740615845\n",
      "Percentage of suffixes predicted to END: too early - 0.29708066045286086 ; right moment - 0.6333649359124321 ; too late - 0.06955440363470702\n",
      "Too early instances - avg amount of events too early: 1.6885775327682495\n",
      "Too late instances - avg amount of events too late: 2.8481147289276123\n",
      "Avg absolute amount of events predicted too early / too late: 0.6997426748275757\n",
      "Avg MAE RRT prediction validation set:  36625.025 (minutes)'\n",
      " \n",
      "------------------------------------\n",
      "EPOCH 23:\n",
      "____________________________________\n"
     ]
    },
    {
     "name": "stderr",
     "output_type": "stream",
     "text": [
      "Batch calculation at epoch 23.: 807it [00:27, 31.33it/s]"
     ]
    },
    {
     "name": "stdout",
     "output_type": "stream",
     "text": [
      "------------------------------------------------------------\n",
      "Epoch 23, batch 799:\n",
      "Average original gradient norm: 0.6410877561941742 (over last 800 batches)\n",
      "Average clipped gradient norm: 0.6410877561941742 (over last 800 batches)\n",
      "Running average global loss: 0.7294472586363554 (over last 800 batches)\n",
      "Running average activity prediction loss: 0.42104081086814404 (Cross Entropy over last 800 batches)\n",
      "Running average time till next event prediction loss: 0.30840644787997007 (MAE over last 800 batches)\n",
      "------------------------------------------------------------\n"
     ]
    },
    {
     "name": "stderr",
     "output_type": "stream",
     "text": [
      "Batch calculation at epoch 23.: 1603it [00:53, 21.71it/s]"
     ]
    },
    {
     "name": "stdout",
     "output_type": "stream",
     "text": [
      "------------------------------------------------------------\n",
      "Epoch 23, batch 1599:\n",
      "Average original gradient norm: 0.6357942964509129 (over last 800 batches)\n",
      "Average clipped gradient norm: 0.6357942964509129 (over last 800 batches)\n",
      "Running average global loss: 0.7284455485641956 (over last 800 batches)\n",
      "Running average activity prediction loss: 0.4191656016930938 (Cross Entropy over last 800 batches)\n",
      "Running average time till next event prediction loss: 0.3092799467407167 (MAE over last 800 batches)\n",
      "------------------------------------------------------------\n"
     ]
    },
    {
     "name": "stderr",
     "output_type": "stream",
     "text": [
      "Batch calculation at epoch 23.: 2403it [01:27, 40.64it/s]"
     ]
    },
    {
     "name": "stdout",
     "output_type": "stream",
     "text": [
      "------------------------------------------------------------\n",
      "Epoch 23, batch 2399:\n",
      "Average original gradient norm: 0.622604301199317 (over last 800 batches)\n",
      "Average clipped gradient norm: 0.622604301199317 (over last 800 batches)\n",
      "Running average global loss: 0.7277708659321069 (over last 800 batches)\n",
      "Running average activity prediction loss: 0.4192517368495464 (Cross Entropy over last 800 batches)\n",
      "Running average time till next event prediction loss: 0.30851912949234245 (MAE over last 800 batches)\n",
      "------------------------------------------------------------\n"
     ]
    },
    {
     "name": "stderr",
     "output_type": "stream",
     "text": [
      "Batch calculation at epoch 23.: 3205it [01:51, 36.56it/s]"
     ]
    },
    {
     "name": "stdout",
     "output_type": "stream",
     "text": [
      "------------------------------------------------------------\n",
      "Epoch 23, batch 3199:\n",
      "Average original gradient norm: 0.627451911829412 (over last 800 batches)\n",
      "Average clipped gradient norm: 0.627451911829412 (over last 800 batches)\n",
      "Running average global loss: 0.7324954655766487 (over last 800 batches)\n",
      "Running average activity prediction loss: 0.4220261926576495 (Cross Entropy over last 800 batches)\n",
      "Running average time till next event prediction loss: 0.3104692719876766 (MAE over last 800 batches)\n",
      "------------------------------------------------------------\n"
     ]
    },
    {
     "name": "stderr",
     "output_type": "stream",
     "text": [
      "Batch calculation at epoch 23.: 4002it [02:12, 38.96it/s]"
     ]
    },
    {
     "name": "stdout",
     "output_type": "stream",
     "text": [
      "------------------------------------------------------------\n",
      "Epoch 23, batch 3999:\n",
      "Average original gradient norm: 0.6351727891713381 (over last 800 batches)\n",
      "Average clipped gradient norm: 0.6351727891713381 (over last 800 batches)\n",
      "Running average global loss: 0.7313058730214834 (over last 800 batches)\n",
      "Running average activity prediction loss: 0.4212430500611663 (Cross Entropy over last 800 batches)\n",
      "Running average time till next event prediction loss: 0.31006282260641455 (MAE over last 800 batches)\n",
      "------------------------------------------------------------\n"
     ]
    },
    {
     "name": "stderr",
     "output_type": "stream",
     "text": [
      "Batch calculation at epoch 23.: 4295it [02:21, 30.35it/s]\n"
     ]
    },
    {
     "name": "stdout",
     "output_type": "stream",
     "text": [
      "=======================================\n",
      "End of epoch 23\n",
      "=======================================\n",
      "Running average global loss: 0.7293023866415024 (over last 800 batches)\n",
      "Running average activity prediction loss: 0.4187125239521265 (Cross Entropy over last 800 batches)\n",
      "Running average time till next event prediction loss: 0.3105898629501462 (MAE over last 800 batches)\n"
     ]
    },
    {
     "name": "stderr",
     "output_type": "stream",
     "text": [
      "Validation batch calculation: 40it [00:21,  1.87it/s]\n"
     ]
    },
    {
     "name": "stdout",
     "output_type": "stream",
     "text": [
      "Avg MAE TTNE prediction validation set: 0.460788756608963 (standardized) ; 17004.830208333333 (minutes)'\n",
      "Avg 1-(normalized) DL distance acitivty suffix prediction validation set: 0.8440195322036743\n",
      "Percentage of suffixes predicted to END: too early - 0.29780710934902793 ; right moment - 0.6335373136166074 ; too late - 0.06865557703436473\n",
      "Too early instances - avg amount of events too early: 1.6999214887619019\n",
      "Too late instances - avg amount of events too late: 2.8353657722473145\n",
      "Avg absolute amount of events predicted too early / too late: 0.700912356376648\n",
      "Avg MAE RRT prediction validation set:  37032.99166666667 (minutes)'\n",
      " \n",
      "------------------------------------\n",
      "EPOCH 24:\n",
      "____________________________________\n"
     ]
    },
    {
     "name": "stderr",
     "output_type": "stream",
     "text": [
      "Batch calculation at epoch 24.: 807it [00:21, 40.72it/s]"
     ]
    },
    {
     "name": "stdout",
     "output_type": "stream",
     "text": [
      "------------------------------------------------------------\n",
      "Epoch 24, batch 799:\n",
      "Average original gradient norm: 0.6577136881276965 (over last 800 batches)\n",
      "Average clipped gradient norm: 0.6577136881276965 (over last 800 batches)\n",
      "Running average global loss: 0.7302273424714804 (over last 800 batches)\n",
      "Running average activity prediction loss: 0.4204935618117452 (Cross Entropy over last 800 batches)\n",
      "Running average time till next event prediction loss: 0.30973378151655195 (MAE over last 800 batches)\n",
      "------------------------------------------------------------\n"
     ]
    },
    {
     "name": "stderr",
     "output_type": "stream",
     "text": [
      "Batch calculation at epoch 24.: 1608it [00:41, 55.25it/s]"
     ]
    },
    {
     "name": "stdout",
     "output_type": "stream",
     "text": [
      "------------------------------------------------------------\n",
      "Epoch 24, batch 1599:\n",
      "Average original gradient norm: 0.6173377353698015 (over last 800 batches)\n",
      "Average clipped gradient norm: 0.6173377353698015 (over last 800 batches)\n",
      "Running average global loss: 0.7268263393640518 (over last 800 batches)\n",
      "Running average activity prediction loss: 0.4174167449399829 (Cross Entropy over last 800 batches)\n",
      "Running average time till next event prediction loss: 0.3094095956161618 (MAE over last 800 batches)\n",
      "------------------------------------------------------------\n"
     ]
    },
    {
     "name": "stderr",
     "output_type": "stream",
     "text": [
      "Batch calculation at epoch 24.: 2409it [00:58, 57.48it/s]"
     ]
    },
    {
     "name": "stdout",
     "output_type": "stream",
     "text": [
      "------------------------------------------------------------\n",
      "Epoch 24, batch 2399:\n",
      "Average original gradient norm: 0.605706762522459 (over last 800 batches)\n",
      "Average clipped gradient norm: 0.605706762522459 (over last 800 batches)\n",
      "Running average global loss: 0.7274628990888595 (over last 800 batches)\n",
      "Running average activity prediction loss: 0.4193397827073932 (Cross Entropy over last 800 batches)\n",
      "Running average time till next event prediction loss: 0.3081231174245477 (MAE over last 800 batches)\n",
      "------------------------------------------------------------\n"
     ]
    },
    {
     "name": "stderr",
     "output_type": "stream",
     "text": [
      "Batch calculation at epoch 24.: 3207it [01:18, 44.63it/s]"
     ]
    },
    {
     "name": "stdout",
     "output_type": "stream",
     "text": [
      "------------------------------------------------------------\n",
      "Epoch 24, batch 3199:\n",
      "Average original gradient norm: 0.598296189904213 (over last 800 batches)\n",
      "Average clipped gradient norm: 0.598296189904213 (over last 800 batches)\n",
      "Running average global loss: 0.727862348034978 (over last 800 batches)\n",
      "Running average activity prediction loss: 0.42024525985121725 (Cross Entropy over last 800 batches)\n",
      "Running average time till next event prediction loss: 0.3076170884259045 (MAE over last 800 batches)\n",
      "------------------------------------------------------------\n"
     ]
    },
    {
     "name": "stderr",
     "output_type": "stream",
     "text": [
      "Batch calculation at epoch 24.: 4008it [01:39, 51.27it/s]"
     ]
    },
    {
     "name": "stdout",
     "output_type": "stream",
     "text": [
      "------------------------------------------------------------\n",
      "Epoch 24, batch 3999:\n",
      "Average original gradient norm: 0.6092144525051117 (over last 800 batches)\n",
      "Average clipped gradient norm: 0.6092144525051117 (over last 800 batches)\n",
      "Running average global loss: 0.729418949559331 (over last 800 batches)\n",
      "Running average activity prediction loss: 0.41968836132436993 (Cross Entropy over last 800 batches)\n",
      "Running average time till next event prediction loss: 0.3097305884957314 (MAE over last 800 batches)\n",
      "------------------------------------------------------------\n"
     ]
    },
    {
     "name": "stderr",
     "output_type": "stream",
     "text": [
      "Batch calculation at epoch 24.: 4295it [01:50, 38.70it/s]\n"
     ]
    },
    {
     "name": "stdout",
     "output_type": "stream",
     "text": [
      "=======================================\n",
      "End of epoch 24\n",
      "=======================================\n",
      "Running average global loss: 0.7329863440990448 (over last 800 batches)\n",
      "Running average activity prediction loss: 0.42193602994084356 (Cross Entropy over last 800 batches)\n",
      "Running average time till next event prediction loss: 0.3110503147915006 (MAE over last 800 batches)\n"
     ]
    },
    {
     "name": "stderr",
     "output_type": "stream",
     "text": [
      "Validation batch calculation: 40it [00:21,  1.88it/s]\n"
     ]
    },
    {
     "name": "stdout",
     "output_type": "stream",
     "text": [
      "Avg MAE TTNE prediction validation set: 0.4623360335826874 (standardized) ; 17056.95 (minutes)'\n",
      "Avg 1-(normalized) DL distance acitivty suffix prediction validation set: 0.8441905379295349\n",
      "Percentage of suffixes predicted to END: too early - 0.2980287378258246 ; right moment - 0.6335865643892289 ; too late - 0.0683846977849465\n",
      "Too early instances - avg amount of events too early: 1.6977484226226807\n",
      "Too late instances - avg amount of events too late: 2.8044652938842773\n",
      "Avg absolute amount of events predicted too early / too late: 0.6977603435516357\n",
      "Avg MAE RRT prediction validation set:  36847.183333333334 (minutes)'\n",
      " \n",
      "------------------------------------\n",
      "EPOCH 25:\n",
      "____________________________________\n"
     ]
    },
    {
     "name": "stderr",
     "output_type": "stream",
     "text": [
      "Batch calculation at epoch 25.: 803it [00:35, 23.35it/s]"
     ]
    },
    {
     "name": "stdout",
     "output_type": "stream",
     "text": [
      "------------------------------------------------------------\n",
      "Epoch 25, batch 799:\n",
      "Average original gradient norm: 0.6071476600691676 (over last 800 batches)\n",
      "Average clipped gradient norm: 0.6071476600691676 (over last 800 batches)\n",
      "Running average global loss: 0.7263621338456869 (over last 800 batches)\n",
      "Running average activity prediction loss: 0.41690056964755057 (Cross Entropy over last 800 batches)\n",
      "Running average time till next event prediction loss: 0.30946156445890666 (MAE over last 800 batches)\n",
      "------------------------------------------------------------\n"
     ]
    },
    {
     "name": "stderr",
     "output_type": "stream",
     "text": [
      "Batch calculation at epoch 25.: 1604it [01:04, 27.59it/s]"
     ]
    },
    {
     "name": "stdout",
     "output_type": "stream",
     "text": [
      "------------------------------------------------------------\n",
      "Epoch 25, batch 1599:\n",
      "Average original gradient norm: 0.6366788056492806 (over last 800 batches)\n",
      "Average clipped gradient norm: 0.6366788056492806 (over last 800 batches)\n",
      "Running average global loss: 0.7284090378135443 (over last 800 batches)\n",
      "Running average activity prediction loss: 0.4187161155045033 (Cross Entropy over last 800 batches)\n",
      "Running average time till next event prediction loss: 0.30969292365014556 (MAE over last 800 batches)\n",
      "------------------------------------------------------------\n"
     ]
    },
    {
     "name": "stderr",
     "output_type": "stream",
     "text": [
      "Batch calculation at epoch 25.: 2406it [01:36, 33.53it/s]"
     ]
    },
    {
     "name": "stdout",
     "output_type": "stream",
     "text": [
      "------------------------------------------------------------\n",
      "Epoch 25, batch 2399:\n",
      "Average original gradient norm: 0.6118405306339264 (over last 800 batches)\n",
      "Average clipped gradient norm: 0.6118405306339264 (over last 800 batches)\n",
      "Running average global loss: 0.727844740524888 (over last 800 batches)\n",
      "Running average activity prediction loss: 0.41983691081404684 (Cross Entropy over last 800 batches)\n",
      "Running average time till next event prediction loss: 0.3080078306980431 (MAE over last 800 batches)\n",
      "------------------------------------------------------------\n"
     ]
    },
    {
     "name": "stderr",
     "output_type": "stream",
     "text": [
      "Batch calculation at epoch 25.: 3202it [02:14, 21.75it/s]"
     ]
    },
    {
     "name": "stdout",
     "output_type": "stream",
     "text": [
      "------------------------------------------------------------\n",
      "Epoch 25, batch 3199:\n",
      "Average original gradient norm: 0.636493639908731 (over last 800 batches)\n",
      "Average clipped gradient norm: 0.636493639908731 (over last 800 batches)\n",
      "Running average global loss: 0.7272831465303898 (over last 800 batches)\n",
      "Running average activity prediction loss: 0.4176426040008664 (Cross Entropy over last 800 batches)\n",
      "Running average time till next event prediction loss: 0.30964054327458146 (MAE over last 800 batches)\n",
      "------------------------------------------------------------\n"
     ]
    },
    {
     "name": "stderr",
     "output_type": "stream",
     "text": [
      "Batch calculation at epoch 25.: 4005it [02:41, 31.21it/s]"
     ]
    },
    {
     "name": "stdout",
     "output_type": "stream",
     "text": [
      "------------------------------------------------------------\n",
      "Epoch 25, batch 3999:\n",
      "Average original gradient norm: 0.6433391343057155 (over last 800 batches)\n",
      "Average clipped gradient norm: 0.6433391343057155 (over last 800 batches)\n",
      "Running average global loss: 0.7279171258211136 (over last 800 batches)\n",
      "Running average activity prediction loss: 0.42070985089987517 (Cross Entropy over last 800 batches)\n",
      "Running average time till next event prediction loss: 0.30720727525651453 (MAE over last 800 batches)\n",
      "------------------------------------------------------------\n"
     ]
    },
    {
     "name": "stderr",
     "output_type": "stream",
     "text": [
      "Batch calculation at epoch 25.: 4295it [02:50, 25.13it/s]\n"
     ]
    },
    {
     "name": "stdout",
     "output_type": "stream",
     "text": [
      "=======================================\n",
      "End of epoch 25\n",
      "=======================================\n",
      "Running average global loss: 0.7268667623400689 (over last 800 batches)\n",
      "Running average activity prediction loss: 0.41872757390141485 (Cross Entropy over last 800 batches)\n",
      "Running average time till next event prediction loss: 0.3081391890719533 (MAE over last 800 batches)\n"
     ]
    },
    {
     "name": "stderr",
     "output_type": "stream",
     "text": [
      "Validation batch calculation: 40it [00:24,  1.66it/s]\n"
     ]
    },
    {
     "name": "stdout",
     "output_type": "stream",
     "text": [
      "Avg MAE TTNE prediction validation set: 0.46221956610679626 (standardized) ; 17050.519791666666 (minutes)'\n",
      "Avg 1-(normalized) DL distance acitivty suffix prediction validation set: 0.8442099094390869\n",
      "Percentage of suffixes predicted to END: too early - 0.29914919290296366 ; right moment - 0.633229496287723 ; too late - 0.06762131080931331\n",
      "Too early instances - avg amount of events too early: 1.7011030912399292\n",
      "Too late instances - avg amount of events too late: 2.7740349769592285\n",
      "Avg absolute amount of events predicted too early / too late: 0.6964674592018127\n",
      "Avg MAE RRT prediction validation set:  37119.03333333333 (minutes)'\n",
      " \n",
      "------------------------------------\n",
      "EPOCH 26:\n",
      "____________________________________\n"
     ]
    },
    {
     "name": "stderr",
     "output_type": "stream",
     "text": [
      "Batch calculation at epoch 26.: 803it [00:25, 25.74it/s]"
     ]
    },
    {
     "name": "stdout",
     "output_type": "stream",
     "text": [
      "------------------------------------------------------------\n",
      "Epoch 26, batch 799:\n",
      "Average original gradient norm: 0.6155262645706534 (over last 800 batches)\n",
      "Average clipped gradient norm: 0.6155262645706534 (over last 800 batches)\n",
      "Running average global loss: 0.7264963675290346 (over last 800 batches)\n",
      "Running average activity prediction loss: 0.41854940477758645 (Cross Entropy over last 800 batches)\n",
      "Running average time till next event prediction loss: 0.30794696308672426 (MAE over last 800 batches)\n",
      "------------------------------------------------------------\n"
     ]
    },
    {
     "name": "stderr",
     "output_type": "stream",
     "text": [
      "Batch calculation at epoch 26.: 1602it [01:16, 15.80it/s]"
     ]
    },
    {
     "name": "stdout",
     "output_type": "stream",
     "text": [
      "------------------------------------------------------------\n",
      "Epoch 26, batch 1599:\n",
      "Average original gradient norm: 0.6216312753409148 (over last 800 batches)\n",
      "Average clipped gradient norm: 0.6216312753409148 (over last 800 batches)\n",
      "Running average global loss: 0.7285901033878326 (over last 800 batches)\n",
      "Running average activity prediction loss: 0.418726174607873 (Cross Entropy over last 800 batches)\n",
      "Running average time till next event prediction loss: 0.3098639297857881 (MAE over last 800 batches)\n",
      "------------------------------------------------------------\n"
     ]
    },
    {
     "name": "stderr",
     "output_type": "stream",
     "text": [
      "Batch calculation at epoch 26.: 2402it [02:08, 19.96it/s]"
     ]
    },
    {
     "name": "stdout",
     "output_type": "stream",
     "text": [
      "------------------------------------------------------------\n",
      "Epoch 26, batch 2399:\n",
      "Average original gradient norm: 0.6108955258503557 (over last 800 batches)\n",
      "Average clipped gradient norm: 0.6108955258503557 (over last 800 batches)\n",
      "Running average global loss: 0.7239559471607209 (over last 800 batches)\n",
      "Running average activity prediction loss: 0.4150694713369012 (Cross Entropy over last 800 batches)\n",
      "Running average time till next event prediction loss: 0.3088864777237177 (MAE over last 800 batches)\n",
      "------------------------------------------------------------\n"
     ]
    },
    {
     "name": "stderr",
     "output_type": "stream",
     "text": [
      "Batch calculation at epoch 26.: 3202it [02:56, 27.26it/s]"
     ]
    },
    {
     "name": "stdout",
     "output_type": "stream",
     "text": [
      "------------------------------------------------------------\n",
      "Epoch 26, batch 3199:\n",
      "Average original gradient norm: 0.631388940140605 (over last 800 batches)\n",
      "Average clipped gradient norm: 0.631388940140605 (over last 800 batches)\n",
      "Running average global loss: 0.7267294111847877 (over last 800 batches)\n",
      "Running average activity prediction loss: 0.41822834126651287 (Cross Entropy over last 800 batches)\n",
      "Running average time till next event prediction loss: 0.30850106982514264 (MAE over last 800 batches)\n",
      "------------------------------------------------------------\n"
     ]
    },
    {
     "name": "stderr",
     "output_type": "stream",
     "text": [
      "Batch calculation at epoch 26.: 4007it [03:27, 38.45it/s]"
     ]
    },
    {
     "name": "stdout",
     "output_type": "stream",
     "text": [
      "------------------------------------------------------------\n",
      "Epoch 26, batch 3999:\n",
      "Average original gradient norm: 0.6337819816544652 (over last 800 batches)\n",
      "Average clipped gradient norm: 0.6337819816544652 (over last 800 batches)\n",
      "Running average global loss: 0.7279751800000668 (over last 800 batches)\n",
      "Running average activity prediction loss: 0.4193909469246864 (Cross Entropy over last 800 batches)\n",
      "Running average time till next event prediction loss: 0.30858423266559837 (MAE over last 800 batches)\n",
      "------------------------------------------------------------\n"
     ]
    },
    {
     "name": "stderr",
     "output_type": "stream",
     "text": [
      "Batch calculation at epoch 26.: 4295it [03:40, 19.51it/s]\n"
     ]
    },
    {
     "name": "stdout",
     "output_type": "stream",
     "text": [
      "=======================================\n",
      "End of epoch 26\n",
      "=======================================\n",
      "Running average global loss: 0.7270726732164622 (over last 800 batches)\n",
      "Running average activity prediction loss: 0.4185702346265316 (Cross Entropy over last 800 batches)\n",
      "Running average time till next event prediction loss: 0.3085024383664131 (MAE over last 800 batches)\n"
     ]
    },
    {
     "name": "stderr",
     "output_type": "stream",
     "text": [
      "Validation batch calculation: 40it [00:26,  1.52it/s]\n"
     ]
    },
    {
     "name": "stdout",
     "output_type": "stream",
     "text": [
      "Avg MAE TTNE prediction validation set: 0.46555638313293457 (standardized) ; 17173.565625 (minutes)'\n",
      "Avg 1-(normalized) DL distance acitivty suffix prediction validation set: 0.8443216681480408\n",
      "Percentage of suffixes predicted to END: too early - 0.2967605304308211 ; right moment - 0.633327997832966 ; too late - 0.06991147173621286\n",
      "Too early instances - avg amount of events too early: 1.6872458457946777\n",
      "Too late instances - avg amount of events too late: 2.8238816261291504\n",
      "Avg absolute amount of events predicted too early / too late: 0.6981297135353088\n",
      "Avg MAE RRT prediction validation set:  36540.7375 (minutes)'\n",
      " \n",
      "------------------------------------\n",
      "EPOCH 27:\n",
      "____________________________________\n"
     ]
    },
    {
     "name": "stderr",
     "output_type": "stream",
     "text": [
      "Batch calculation at epoch 27.: 803it [00:25, 28.26it/s]"
     ]
    },
    {
     "name": "stdout",
     "output_type": "stream",
     "text": [
      "------------------------------------------------------------\n",
      "Epoch 27, batch 799:\n",
      "Average original gradient norm: 0.6161221454292536 (over last 800 batches)\n",
      "Average clipped gradient norm: 0.6161221454292536 (over last 800 batches)\n",
      "Running average global loss: 0.7273595800995827 (over last 800 batches)\n",
      "Running average activity prediction loss: 0.4188949133455753 (Cross Entropy over last 800 batches)\n",
      "Running average time till next event prediction loss: 0.30846466645598414 (MAE over last 800 batches)\n",
      "------------------------------------------------------------\n"
     ]
    },
    {
     "name": "stderr",
     "output_type": "stream",
     "text": [
      "Batch calculation at epoch 27.: 1599it [01:09, 14.05it/s]"
     ]
    },
    {
     "name": "stdout",
     "output_type": "stream",
     "text": [
      "------------------------------------------------------------\n",
      "Epoch 27, batch 1599:\n",
      "Average original gradient norm: 0.6394367710500956 (over last 800 batches)\n",
      "Average clipped gradient norm: 0.6394367710500956 (over last 800 batches)\n",
      "Running average global loss: 0.727290495634079 (over last 800 batches)\n",
      "Running average activity prediction loss: 0.41879878550767896 (Cross Entropy over last 800 batches)\n",
      "Running average time till next event prediction loss: 0.3084917099773884 (MAE over last 800 batches)\n",
      "------------------------------------------------------------\n"
     ]
    },
    {
     "name": "stderr",
     "output_type": "stream",
     "text": [
      "Batch calculation at epoch 27.: 2403it [01:37, 33.05it/s]"
     ]
    },
    {
     "name": "stdout",
     "output_type": "stream",
     "text": [
      "------------------------------------------------------------\n",
      "Epoch 27, batch 2399:\n",
      "Average original gradient norm: 0.6039141733571887 (over last 800 batches)\n",
      "Average clipped gradient norm: 0.6039141733571887 (over last 800 batches)\n",
      "Running average global loss: 0.728183586075902 (over last 800 batches)\n",
      "Running average activity prediction loss: 0.419777809381485 (Cross Entropy over last 800 batches)\n",
      "Running average time till next event prediction loss: 0.3084057783521712 (MAE over last 800 batches)\n",
      "------------------------------------------------------------\n"
     ]
    },
    {
     "name": "stderr",
     "output_type": "stream",
     "text": [
      "Batch calculation at epoch 27.: 3204it [02:00, 37.09it/s]"
     ]
    },
    {
     "name": "stdout",
     "output_type": "stream",
     "text": [
      "------------------------------------------------------------\n",
      "Epoch 27, batch 3199:\n",
      "Average original gradient norm: 0.6330467011034489 (over last 800 batches)\n",
      "Average clipped gradient norm: 0.6330467011034489 (over last 800 batches)\n",
      "Running average global loss: 0.7222882989048958 (over last 800 batches)\n",
      "Running average activity prediction loss: 0.41485682349652053 (Cross Entropy over last 800 batches)\n",
      "Running average time till next event prediction loss: 0.3074314745143056 (MAE over last 800 batches)\n",
      "------------------------------------------------------------\n"
     ]
    },
    {
     "name": "stderr",
     "output_type": "stream",
     "text": [
      "Batch calculation at epoch 27.: 4006it [02:33, 47.17it/s]"
     ]
    },
    {
     "name": "stdout",
     "output_type": "stream",
     "text": [
      "------------------------------------------------------------\n",
      "Epoch 27, batch 3999:\n",
      "Average original gradient norm: 0.6130272369086742 (over last 800 batches)\n",
      "Average clipped gradient norm: 0.6130272369086742 (over last 800 batches)\n",
      "Running average global loss: 0.7222032152116299 (over last 800 batches)\n",
      "Running average activity prediction loss: 0.41345728263258935 (Cross Entropy over last 800 batches)\n",
      "Running average time till next event prediction loss: 0.3087459333613515 (MAE over last 800 batches)\n",
      "------------------------------------------------------------\n"
     ]
    },
    {
     "name": "stderr",
     "output_type": "stream",
     "text": [
      "Batch calculation at epoch 27.: 4295it [02:41, 26.53it/s]\n"
     ]
    },
    {
     "name": "stdout",
     "output_type": "stream",
     "text": [
      "=======================================\n",
      "End of epoch 27\n",
      "=======================================\n",
      "Running average global loss: 0.7271280351281166 (over last 800 batches)\n",
      "Running average activity prediction loss: 0.41799681074917316 (Cross Entropy over last 800 batches)\n",
      "Running average time till next event prediction loss: 0.3091312247887254 (MAE over last 800 batches)\n"
     ]
    },
    {
     "name": "stderr",
     "output_type": "stream",
     "text": [
      "Validation batch calculation: 40it [00:23,  1.72it/s]\n"
     ]
    },
    {
     "name": "stdout",
     "output_type": "stream",
     "text": [
      "Avg MAE TTNE prediction validation set: 0.4658520221710205 (standardized) ; 17188.108333333334 (minutes)'\n",
      "Avg 1-(normalized) DL distance acitivty suffix prediction validation set: 0.8441624641418457\n",
      "Percentage of suffixes predicted to END: too early - 0.2991245675166529 ; right moment - 0.6334757501508305 ; too late - 0.06739968233251659\n",
      "Too early instances - avg amount of events too early: 1.7045360803604126\n",
      "Too late instances - avg amount of events too late: 2.80781888961792\n",
      "Avg absolute amount of events predicted too early / too late: 0.6991147398948669\n",
      "Avg MAE RRT prediction validation set:  36582.175 (minutes)'\n",
      " \n",
      "------------------------------------\n",
      "EPOCH 28:\n",
      "____________________________________\n"
     ]
    },
    {
     "name": "stderr",
     "output_type": "stream",
     "text": [
      "Batch calculation at epoch 28.: 802it [00:55, 18.63it/s]"
     ]
    },
    {
     "name": "stdout",
     "output_type": "stream",
     "text": [
      "------------------------------------------------------------\n",
      "Epoch 28, batch 799:\n",
      "Average original gradient norm: 0.6378609330207109 (over last 800 batches)\n",
      "Average clipped gradient norm: 0.6378609330207109 (over last 800 batches)\n",
      "Running average global loss: 0.7236307498812675 (over last 800 batches)\n",
      "Running average activity prediction loss: 0.41452041305601595 (Cross Entropy over last 800 batches)\n",
      "Running average time till next event prediction loss: 0.30911033775657415 (MAE over last 800 batches)\n",
      "------------------------------------------------------------\n"
     ]
    },
    {
     "name": "stderr",
     "output_type": "stream",
     "text": [
      "Batch calculation at epoch 28.: 1603it [01:45, 18.09it/s]"
     ]
    },
    {
     "name": "stdout",
     "output_type": "stream",
     "text": [
      "------------------------------------------------------------\n",
      "Epoch 28, batch 1599:\n",
      "Average original gradient norm: 0.6110578306019306 (over last 800 batches)\n",
      "Average clipped gradient norm: 0.6110578306019306 (over last 800 batches)\n",
      "Running average global loss: 0.7252163377404213 (over last 800 batches)\n",
      "Running average activity prediction loss: 0.41704091504216195 (Cross Entropy over last 800 batches)\n",
      "Running average time till next event prediction loss: 0.30817542200908066 (MAE over last 800 batches)\n",
      "------------------------------------------------------------\n"
     ]
    },
    {
     "name": "stderr",
     "output_type": "stream",
     "text": [
      "Batch calculation at epoch 28.: 2401it [02:53,  8.99it/s]"
     ]
    },
    {
     "name": "stdout",
     "output_type": "stream",
     "text": [
      "------------------------------------------------------------\n",
      "Epoch 28, batch 2399:\n",
      "Average original gradient norm: 0.6280553579330445 (over last 800 batches)\n",
      "Average clipped gradient norm: 0.6280553579330445 (over last 800 batches)\n",
      "Running average global loss: 0.7265641837567091 (over last 800 batches)\n",
      "Running average activity prediction loss: 0.41934558402746913 (Cross Entropy over last 800 batches)\n",
      "Running average time till next event prediction loss: 0.30721859911456706 (MAE over last 800 batches)\n",
      "------------------------------------------------------------\n"
     ]
    },
    {
     "name": "stderr",
     "output_type": "stream",
     "text": [
      "Batch calculation at epoch 28.: 3201it [04:41,  8.48it/s]"
     ]
    },
    {
     "name": "stdout",
     "output_type": "stream",
     "text": [
      "------------------------------------------------------------\n",
      "Epoch 28, batch 3199:\n",
      "Average original gradient norm: 0.5962298756092786 (over last 800 batches)\n",
      "Average clipped gradient norm: 0.5962298756092786 (over last 800 batches)\n",
      "Running average global loss: 0.7243484065681696 (over last 800 batches)\n",
      "Running average activity prediction loss: 0.41713596079498527 (Cross Entropy over last 800 batches)\n",
      "Running average time till next event prediction loss: 0.3072124465554953 (MAE over last 800 batches)\n",
      "------------------------------------------------------------\n"
     ]
    },
    {
     "name": "stderr",
     "output_type": "stream",
     "text": [
      "Batch calculation at epoch 28.: 4001it [06:10,  9.00it/s]"
     ]
    },
    {
     "name": "stdout",
     "output_type": "stream",
     "text": [
      "------------------------------------------------------------\n",
      "Epoch 28, batch 3999:\n",
      "Average original gradient norm: 0.6228643813729287 (over last 800 batches)\n",
      "Average clipped gradient norm: 0.6228643813729287 (over last 800 batches)\n",
      "Running average global loss: 0.7255594831705093 (over last 800 batches)\n",
      "Running average activity prediction loss: 0.41620804093778135 (Cross Entropy over last 800 batches)\n",
      "Running average time till next event prediction loss: 0.30935144163668155 (MAE over last 800 batches)\n",
      "------------------------------------------------------------\n"
     ]
    },
    {
     "name": "stderr",
     "output_type": "stream",
     "text": [
      "Batch calculation at epoch 28.: 4295it [06:44, 10.61it/s]\n"
     ]
    },
    {
     "name": "stdout",
     "output_type": "stream",
     "text": [
      "=======================================\n",
      "End of epoch 28\n",
      "=======================================\n",
      "Running average global loss: 0.7271629061549902 (over last 800 batches)\n",
      "Running average activity prediction loss: 0.4182098533958197 (Cross Entropy over last 800 batches)\n",
      "Running average time till next event prediction loss: 0.30895305197685957 (MAE over last 800 batches)\n"
     ]
    },
    {
     "name": "stderr",
     "output_type": "stream",
     "text": [
      "Validation batch calculation: 40it [00:30,  1.31it/s]\n"
     ]
    },
    {
     "name": "stdout",
     "output_type": "stream",
     "text": [
      "Avg MAE TTNE prediction validation set: 0.4599573612213135 (standardized) ; 16970.820833333335 (minutes)'\n",
      "Avg 1-(normalized) DL distance acitivty suffix prediction validation set: 0.8439850807189941\n",
      "Percentage of suffixes predicted to END: too early - 0.2978194220421833 ; right moment - 0.6331556201287908 ; too late - 0.06902495782902594\n",
      "Too early instances - avg amount of events too early: 1.6969984769821167\n",
      "Too late instances - avg amount of events too late: 2.858187675476074\n",
      "Avg absolute amount of events predicted too early / too late: 0.7026854157447815\n",
      "Avg MAE RRT prediction validation set:  36834.07916666667 (minutes)'\n",
      " \n",
      "------------------------------------\n",
      "EPOCH 29:\n",
      "____________________________________\n"
     ]
    },
    {
     "name": "stderr",
     "output_type": "stream",
     "text": [
      "Batch calculation at epoch 29.: 802it [00:40, 20.98it/s]"
     ]
    },
    {
     "name": "stdout",
     "output_type": "stream",
     "text": [
      "------------------------------------------------------------\n",
      "Epoch 29, batch 799:\n",
      "Average original gradient norm: 0.6158107631281018 (over last 800 batches)\n",
      "Average clipped gradient norm: 0.6158107631281018 (over last 800 batches)\n",
      "Running average global loss: 0.7227214535325766 (over last 800 batches)\n",
      "Running average activity prediction loss: 0.41600195556879044 (Cross Entropy over last 800 batches)\n",
      "Running average time till next event prediction loss: 0.3067194978892803 (MAE over last 800 batches)\n",
      "------------------------------------------------------------\n"
     ]
    },
    {
     "name": "stderr",
     "output_type": "stream",
     "text": [
      "Batch calculation at epoch 29.: 1603it [01:18, 16.15it/s]"
     ]
    },
    {
     "name": "stdout",
     "output_type": "stream",
     "text": [
      "------------------------------------------------------------\n",
      "Epoch 29, batch 1599:\n",
      "Average original gradient norm: 0.6204327744618058 (over last 800 batches)\n",
      "Average clipped gradient norm: 0.6204327744618058 (over last 800 batches)\n",
      "Running average global loss: 0.7294359745830298 (over last 800 batches)\n",
      "Running average activity prediction loss: 0.42080924212932586 (Cross Entropy over last 800 batches)\n",
      "Running average time till next event prediction loss: 0.3086267330683768 (MAE over last 800 batches)\n",
      "------------------------------------------------------------\n"
     ]
    },
    {
     "name": "stderr",
     "output_type": "stream",
     "text": [
      "Batch calculation at epoch 29.: 2401it [02:11, 13.41it/s]"
     ]
    },
    {
     "name": "stdout",
     "output_type": "stream",
     "text": [
      "------------------------------------------------------------\n",
      "Epoch 29, batch 2399:\n",
      "Average original gradient norm: 0.629768976829946 (over last 800 batches)\n",
      "Average clipped gradient norm: 0.629768976829946 (over last 800 batches)\n",
      "Running average global loss: 0.721151530072093 (over last 800 batches)\n",
      "Running average activity prediction loss: 0.4136032287403941 (Cross Entropy over last 800 batches)\n",
      "Running average time till next event prediction loss: 0.3075483016856015 (MAE over last 800 batches)\n",
      "------------------------------------------------------------\n"
     ]
    },
    {
     "name": "stderr",
     "output_type": "stream",
     "text": [
      "Batch calculation at epoch 29.: 3203it [03:22, 16.36it/s]"
     ]
    },
    {
     "name": "stdout",
     "output_type": "stream",
     "text": [
      "------------------------------------------------------------\n",
      "Epoch 29, batch 3199:\n",
      "Average original gradient norm: 0.6231807997450233 (over last 800 batches)\n",
      "Average clipped gradient norm: 0.6231807997450233 (over last 800 batches)\n",
      "Running average global loss: 0.7231947845220565 (over last 800 batches)\n",
      "Running average activity prediction loss: 0.4137585909292102 (Cross Entropy over last 800 batches)\n",
      "Running average time till next event prediction loss: 0.30943619390949606 (MAE over last 800 batches)\n",
      "------------------------------------------------------------\n"
     ]
    },
    {
     "name": "stderr",
     "output_type": "stream",
     "text": [
      "Batch calculation at epoch 29.: 4001it [04:25,  9.04it/s]"
     ]
    },
    {
     "name": "stdout",
     "output_type": "stream",
     "text": [
      "------------------------------------------------------------\n",
      "Epoch 29, batch 3999:\n",
      "Average original gradient norm: 0.6231379850208759 (over last 800 batches)\n",
      "Average clipped gradient norm: 0.6231379850208759 (over last 800 batches)\n",
      "Running average global loss: 0.7260085578262806 (over last 800 batches)\n",
      "Running average activity prediction loss: 0.4183141949400306 (Cross Entropy over last 800 batches)\n",
      "Running average time till next event prediction loss: 0.30769436329603195 (MAE over last 800 batches)\n",
      "------------------------------------------------------------\n"
     ]
    },
    {
     "name": "stderr",
     "output_type": "stream",
     "text": [
      "Batch calculation at epoch 29.: 4295it [04:49, 14.82it/s]\n"
     ]
    },
    {
     "name": "stdout",
     "output_type": "stream",
     "text": [
      "=======================================\n",
      "End of epoch 29\n",
      "=======================================\n",
      "Running average global loss: 0.7250971581041813 (over last 800 batches)\n",
      "Running average activity prediction loss: 0.4176258835941553 (Cross Entropy over last 800 batches)\n",
      "Running average time till next event prediction loss: 0.3074712740071118 (MAE over last 800 batches)\n"
     ]
    },
    {
     "name": "stderr",
     "output_type": "stream",
     "text": [
      "Validation batch calculation: 40it [00:23,  1.71it/s]\n"
     ]
    },
    {
     "name": "stdout",
     "output_type": "stream",
     "text": [
      "Avg MAE TTNE prediction validation set: 0.46255436539649963 (standardized) ; 17064.4625 (minutes)'\n",
      "Avg 1-(normalized) DL distance acitivty suffix prediction validation set: 0.8442545533180237\n",
      "Percentage of suffixes predicted to END: too early - 0.29664971619242275 ; right moment - 0.6334757501508305 ; too late - 0.06987453365674674\n",
      "Too early instances - avg amount of events too early: 1.6875855922698975\n",
      "Too late instances - avg amount of events too late: 2.871365547180176\n",
      "Avg absolute amount of events predicted too early / too late: 0.7012571096420288\n",
      "Avg MAE RRT prediction validation set:  36804.77916666667 (minutes)'\n",
      " \n",
      "------------------------------------\n",
      "EPOCH 30:\n",
      "____________________________________\n"
     ]
    },
    {
     "name": "stderr",
     "output_type": "stream",
     "text": [
      "Batch calculation at epoch 30.: 800it [00:55, 19.72it/s]"
     ]
    },
    {
     "name": "stdout",
     "output_type": "stream",
     "text": [
      "------------------------------------------------------------\n",
      "Epoch 30, batch 799:\n",
      "Average original gradient norm: 0.6275942759588361 (over last 800 batches)\n",
      "Average clipped gradient norm: 0.6275942759588361 (over last 800 batches)\n",
      "Running average global loss: 0.7211719052493573 (over last 800 batches)\n",
      "Running average activity prediction loss: 0.4140070817247033 (Cross Entropy over last 800 batches)\n",
      "Running average time till next event prediction loss: 0.30716482354328034 (MAE over last 800 batches)\n",
      "------------------------------------------------------------\n"
     ]
    },
    {
     "name": "stderr",
     "output_type": "stream",
     "text": [
      "Batch calculation at epoch 30.: 1601it [02:14,  8.29it/s]"
     ]
    },
    {
     "name": "stdout",
     "output_type": "stream",
     "text": [
      "------------------------------------------------------------\n",
      "Epoch 30, batch 1599:\n",
      "Average original gradient norm: 0.6178548461198807 (over last 800 batches)\n",
      "Average clipped gradient norm: 0.6178548461198807 (over last 800 batches)\n",
      "Running average global loss: 0.7228646121919156 (over last 800 batches)\n",
      "Running average activity prediction loss: 0.41559235703200104 (Cross Entropy over last 800 batches)\n",
      "Running average time till next event prediction loss: 0.30727225605398417 (MAE over last 800 batches)\n",
      "------------------------------------------------------------\n"
     ]
    },
    {
     "name": "stderr",
     "output_type": "stream",
     "text": [
      "Batch calculation at epoch 30.: 2401it [03:52, 10.33it/s]"
     ]
    },
    {
     "name": "stdout",
     "output_type": "stream",
     "text": [
      "------------------------------------------------------------\n",
      "Epoch 30, batch 2399:\n",
      "Average original gradient norm: 0.6271726592257619 (over last 800 batches)\n",
      "Average clipped gradient norm: 0.6271726592257619 (over last 800 batches)\n",
      "Running average global loss: 0.725824350938201 (over last 800 batches)\n",
      "Running average activity prediction loss: 0.4176963232457638 (Cross Entropy over last 800 batches)\n",
      "Running average time till next event prediction loss: 0.30812802851200105 (MAE over last 800 batches)\n",
      "------------------------------------------------------------\n"
     ]
    },
    {
     "name": "stderr",
     "output_type": "stream",
     "text": [
      "Batch calculation at epoch 30.: 3201it [05:14, 18.73it/s]"
     ]
    },
    {
     "name": "stdout",
     "output_type": "stream",
     "text": [
      "------------------------------------------------------------\n",
      "Epoch 30, batch 3199:\n",
      "Average original gradient norm: 0.6314637819677591 (over last 800 batches)\n",
      "Average clipped gradient norm: 0.6314637819677591 (over last 800 batches)\n",
      "Running average global loss: 0.7230638900399208 (over last 800 batches)\n",
      "Running average activity prediction loss: 0.4137698992341757 (Cross Entropy over last 800 batches)\n",
      "Running average time till next event prediction loss: 0.3092939916998148 (MAE over last 800 batches)\n",
      "------------------------------------------------------------\n"
     ]
    },
    {
     "name": "stderr",
     "output_type": "stream",
     "text": [
      "Batch calculation at epoch 30.: 4001it [05:55, 17.20it/s]"
     ]
    },
    {
     "name": "stdout",
     "output_type": "stream",
     "text": [
      "------------------------------------------------------------\n",
      "Epoch 30, batch 3999:\n",
      "Average original gradient norm: 0.6044038585200906 (over last 800 batches)\n",
      "Average clipped gradient norm: 0.6044038585200906 (over last 800 batches)\n",
      "Running average global loss: 0.7234807773679495 (over last 800 batches)\n",
      "Running average activity prediction loss: 0.41651389181613924 (Cross Entropy over last 800 batches)\n",
      "Running average time till next event prediction loss: 0.3069668870419264 (MAE over last 800 batches)\n",
      "------------------------------------------------------------\n"
     ]
    },
    {
     "name": "stderr",
     "output_type": "stream",
     "text": [
      "Batch calculation at epoch 30.: 4295it [06:09, 11.63it/s]\n"
     ]
    },
    {
     "name": "stdout",
     "output_type": "stream",
     "text": [
      "=======================================\n",
      "End of epoch 30\n",
      "=======================================\n",
      "Running average global loss: 0.7271894300729036 (over last 800 batches)\n",
      "Running average activity prediction loss: 0.41908628042787316 (Cross Entropy over last 800 batches)\n",
      "Running average time till next event prediction loss: 0.30810315009206535 (MAE over last 800 batches)\n"
     ]
    },
    {
     "name": "stderr",
     "output_type": "stream",
     "text": [
      "Validation batch calculation: 40it [00:25,  1.59it/s]\n"
     ]
    },
    {
     "name": "stdout",
     "output_type": "stream",
     "text": [
      "Avg MAE TTNE prediction validation set: 0.4575098752975464 (standardized) ; 16882.211458333335 (minutes)'\n",
      "Avg 1-(normalized) DL distance acitivty suffix prediction validation set: 0.8442438840866089\n",
      "Percentage of suffixes predicted to END: too early - 0.2980041124395139 ; right moment - 0.6337096913207826 ; too late - 0.06828619623970351\n",
      "Too early instances - avg amount of events too early: 1.6985085010528564\n",
      "Too late instances - avg amount of events too late: 2.8550305366516113\n",
      "Avg absolute amount of events predicted too early / too late: 0.7011216878890991\n",
      "Avg MAE RRT prediction validation set:  37398.941666666666 (minutes)'\n",
      " \n",
      "------------------------------------\n",
      "EPOCH 31:\n",
      "____________________________________\n"
     ]
    },
    {
     "name": "stderr",
     "output_type": "stream",
     "text": [
      "Batch calculation at epoch 31.: 804it [01:17, 39.07it/s]"
     ]
    },
    {
     "name": "stdout",
     "output_type": "stream",
     "text": [
      "------------------------------------------------------------\n",
      "Epoch 31, batch 799:\n",
      "Average original gradient norm: 0.6122596717625857 (over last 800 batches)\n",
      "Average clipped gradient norm: 0.6122596717625857 (over last 800 batches)\n",
      "Running average global loss: 0.7228846845775843 (over last 800 batches)\n",
      "Running average activity prediction loss: 0.4159625986590981 (Cross Entropy over last 800 batches)\n",
      "Running average time till next event prediction loss: 0.3069220858439803 (MAE over last 800 batches)\n",
      "------------------------------------------------------------\n"
     ]
    },
    {
     "name": "stderr",
     "output_type": "stream",
     "text": [
      "Batch calculation at epoch 31.: 1602it [02:53, 18.96it/s]"
     ]
    },
    {
     "name": "stdout",
     "output_type": "stream",
     "text": [
      "------------------------------------------------------------\n",
      "Epoch 31, batch 1599:\n",
      "Average original gradient norm: 0.6090700015798212 (over last 800 batches)\n",
      "Average clipped gradient norm: 0.6090700015798212 (over last 800 batches)\n",
      "Running average global loss: 0.721897059082985 (over last 800 batches)\n",
      "Running average activity prediction loss: 0.41336977913975714 (Cross Entropy over last 800 batches)\n",
      "Running average time till next event prediction loss: 0.3085272799991071 (MAE over last 800 batches)\n",
      "------------------------------------------------------------\n"
     ]
    },
    {
     "name": "stderr",
     "output_type": "stream",
     "text": [
      "Batch calculation at epoch 31.: 2403it [04:23, 17.74it/s]"
     ]
    },
    {
     "name": "stdout",
     "output_type": "stream",
     "text": [
      "------------------------------------------------------------\n",
      "Epoch 31, batch 2399:\n",
      "Average original gradient norm: 0.6185879442095756 (over last 800 batches)\n",
      "Average clipped gradient norm: 0.6185879442095756 (over last 800 batches)\n",
      "Running average global loss: 0.7246858523786068 (over last 800 batches)\n",
      "Running average activity prediction loss: 0.41743524141609667 (Cross Entropy over last 800 batches)\n",
      "Running average time till next event prediction loss: 0.30725061064586046 (MAE over last 800 batches)\n",
      "------------------------------------------------------------\n"
     ]
    },
    {
     "name": "stderr",
     "output_type": "stream",
     "text": [
      "Batch calculation at epoch 31.: 3201it [05:51,  8.73it/s]"
     ]
    },
    {
     "name": "stdout",
     "output_type": "stream",
     "text": [
      "------------------------------------------------------------\n",
      "Epoch 31, batch 3199:\n",
      "Average original gradient norm: 0.622462061829865 (over last 800 batches)\n",
      "Average clipped gradient norm: 0.622462061829865 (over last 800 batches)\n",
      "Running average global loss: 0.7217190688848496 (over last 800 batches)\n",
      "Running average activity prediction loss: 0.4142511772364378 (Cross Entropy over last 800 batches)\n",
      "Running average time till next event prediction loss: 0.30746789164841176 (MAE over last 800 batches)\n",
      "------------------------------------------------------------\n"
     ]
    },
    {
     "name": "stderr",
     "output_type": "stream",
     "text": [
      "Batch calculation at epoch 31.: 4001it [07:26,  6.72it/s]"
     ]
    },
    {
     "name": "stdout",
     "output_type": "stream",
     "text": [
      "------------------------------------------------------------\n",
      "Epoch 31, batch 3999:\n",
      "Average original gradient norm: 0.6214084916189313 (over last 800 batches)\n",
      "Average clipped gradient norm: 0.6214084916189313 (over last 800 batches)\n",
      "Running average global loss: 0.7223324674367905 (over last 800 batches)\n",
      "Running average activity prediction loss: 0.4145627860724926 (Cross Entropy over last 800 batches)\n",
      "Running average time till next event prediction loss: 0.3077696827799082 (MAE over last 800 batches)\n",
      "------------------------------------------------------------\n"
     ]
    },
    {
     "name": "stderr",
     "output_type": "stream",
     "text": [
      "Batch calculation at epoch 31.: 4295it [08:05,  8.84it/s]\n"
     ]
    },
    {
     "name": "stdout",
     "output_type": "stream",
     "text": [
      "=======================================\n",
      "End of epoch 31\n",
      "=======================================\n",
      "Running average global loss: 0.7251012355834245 (over last 800 batches)\n",
      "Running average activity prediction loss: 0.4174084610119462 (Cross Entropy over last 800 batches)\n",
      "Running average time till next event prediction loss: 0.30769277419894936 (MAE over last 800 batches)\n"
     ]
    },
    {
     "name": "stderr",
     "output_type": "stream",
     "text": [
      "Validation batch calculation: 40it [00:25,  1.55it/s]\n"
     ]
    },
    {
     "name": "stdout",
     "output_type": "stream",
     "text": [
      "Avg MAE TTNE prediction validation set: 0.45949193835258484 (standardized) ; 16949.855208333334 (minutes)'\n",
      "Avg 1-(normalized) DL distance acitivty suffix prediction validation set: 0.8442323803901672\n",
      "Percentage of suffixes predicted to END: too early - 0.2973022889296576 ; right moment - 0.6334757501508305 ; too late - 0.06922196091951192\n",
      "Too early instances - avg amount of events too early: 1.6940693855285645\n",
      "Too late instances - avg amount of events too late: 2.862682342529297\n",
      "Avg absolute amount of events predicted too early / too late: 0.7018111944198608\n",
      "Avg MAE RRT prediction validation set:  37148.74166666667 (minutes)'\n",
      " \n",
      "------------------------------------\n",
      "EPOCH 32:\n",
      "____________________________________\n"
     ]
    },
    {
     "name": "stderr",
     "output_type": "stream",
     "text": [
      "Batch calculation at epoch 32.: 802it [00:52, 15.09it/s]"
     ]
    },
    {
     "name": "stdout",
     "output_type": "stream",
     "text": [
      "------------------------------------------------------------\n",
      "Epoch 32, batch 799:\n",
      "Average original gradient norm: 0.6210627114772796 (over last 800 batches)\n",
      "Average clipped gradient norm: 0.6210627114772796 (over last 800 batches)\n",
      "Running average global loss: 0.7231912650167942 (over last 800 batches)\n",
      "Running average activity prediction loss: 0.4162467985227704 (Cross Entropy over last 800 batches)\n",
      "Running average time till next event prediction loss: 0.3069444680400193 (MAE over last 800 batches)\n",
      "------------------------------------------------------------\n"
     ]
    },
    {
     "name": "stderr",
     "output_type": "stream",
     "text": [
      "Batch calculation at epoch 32.: 1603it [01:47, 18.47it/s]"
     ]
    },
    {
     "name": "stdout",
     "output_type": "stream",
     "text": [
      "------------------------------------------------------------\n",
      "Epoch 32, batch 1599:\n",
      "Average original gradient norm: 0.6185801764577628 (over last 800 batches)\n",
      "Average clipped gradient norm: 0.6185801764577628 (over last 800 batches)\n",
      "Running average global loss: 0.7258926220983267 (over last 800 batches)\n",
      "Running average activity prediction loss: 0.4175455081090331 (Cross Entropy over last 800 batches)\n",
      "Running average time till next event prediction loss: 0.3083471139892936 (MAE over last 800 batches)\n",
      "------------------------------------------------------------\n"
     ]
    },
    {
     "name": "stderr",
     "output_type": "stream",
     "text": [
      "Batch calculation at epoch 32.: 2403it [02:37, 17.70it/s]"
     ]
    },
    {
     "name": "stdout",
     "output_type": "stream",
     "text": [
      "------------------------------------------------------------\n",
      "Epoch 32, batch 2399:\n",
      "Average original gradient norm: 0.6378526760265231 (over last 800 batches)\n",
      "Average clipped gradient norm: 0.6378526760265231 (over last 800 batches)\n",
      "Running average global loss: 0.7226207046955824 (over last 800 batches)\n",
      "Running average activity prediction loss: 0.41442017640918494 (Cross Entropy over last 800 batches)\n",
      "Running average time till next event prediction loss: 0.30820052763447164 (MAE over last 800 batches)\n",
      "------------------------------------------------------------\n"
     ]
    },
    {
     "name": "stderr",
     "output_type": "stream",
     "text": [
      "Batch calculation at epoch 32.: 3203it [03:26, 19.00it/s]"
     ]
    },
    {
     "name": "stdout",
     "output_type": "stream",
     "text": [
      "------------------------------------------------------------\n",
      "Epoch 32, batch 3199:\n",
      "Average original gradient norm: 0.6070449589937925 (over last 800 batches)\n",
      "Average clipped gradient norm: 0.6070449589937925 (over last 800 batches)\n",
      "Running average global loss: 0.7207687518745661 (over last 800 batches)\n",
      "Running average activity prediction loss: 0.4145642187073827 (Cross Entropy over last 800 batches)\n",
      "Running average time till next event prediction loss: 0.3062045329995453 (MAE over last 800 batches)\n",
      "------------------------------------------------------------\n"
     ]
    },
    {
     "name": "stderr",
     "output_type": "stream",
     "text": [
      "Batch calculation at epoch 32.: 4002it [04:19, 23.19it/s]"
     ]
    },
    {
     "name": "stdout",
     "output_type": "stream",
     "text": [
      "------------------------------------------------------------\n",
      "Epoch 32, batch 3999:\n",
      "Average original gradient norm: 0.6076184432208538 (over last 800 batches)\n",
      "Average clipped gradient norm: 0.6076184432208538 (over last 800 batches)\n",
      "Running average global loss: 0.7211283838003874 (over last 800 batches)\n",
      "Running average activity prediction loss: 0.41342535268515346 (Cross Entropy over last 800 batches)\n",
      "Running average time till next event prediction loss: 0.3077030303701758 (MAE over last 800 batches)\n",
      "------------------------------------------------------------\n"
     ]
    },
    {
     "name": "stderr",
     "output_type": "stream",
     "text": [
      "Batch calculation at epoch 32.: 4295it [04:36, 15.51it/s]\n"
     ]
    },
    {
     "name": "stdout",
     "output_type": "stream",
     "text": [
      "=======================================\n",
      "End of epoch 32\n",
      "=======================================\n",
      "Running average global loss: 0.7216968314349651 (over last 800 batches)\n",
      "Running average activity prediction loss: 0.4139157683029771 (Cross Entropy over last 800 batches)\n",
      "Running average time till next event prediction loss: 0.30778106309473513 (MAE over last 800 batches)\n"
     ]
    },
    {
     "name": "stderr",
     "output_type": "stream",
     "text": [
      "Validation batch calculation: 40it [00:31,  1.26it/s]\n"
     ]
    },
    {
     "name": "stdout",
     "output_type": "stream",
     "text": [
      "Avg MAE TTNE prediction validation set: 0.461386501789093 (standardized) ; 17021.051041666666 (minutes)'\n",
      "Avg 1-(normalized) DL distance acitivty suffix prediction validation set: 0.8442060351371765\n",
      "Percentage of suffixes predicted to END: too early - 0.29852124555203957 ; right moment - 0.633525000923452 ; too late - 0.06795375352450841\n",
      "Too early instances - avg amount of events too early: 1.701422929763794\n",
      "Too late instances - avg amount of events too late: 2.838376522064209\n",
      "Avg absolute amount of events predicted too early / too late: 0.7007892727851868\n",
      "Avg MAE RRT prediction validation set:  36913.35 (minutes)'\n",
      " \n",
      "------------------------------------\n",
      "EPOCH 33:\n",
      "____________________________________\n"
     ]
    },
    {
     "name": "stderr",
     "output_type": "stream",
     "text": [
      "Batch calculation at epoch 33.: 803it [00:30, 22.81it/s]"
     ]
    },
    {
     "name": "stdout",
     "output_type": "stream",
     "text": [
      "------------------------------------------------------------\n",
      "Epoch 33, batch 799:\n",
      "Average original gradient norm: 0.6119170427694917 (over last 800 batches)\n",
      "Average clipped gradient norm: 0.6119170427694917 (over last 800 batches)\n",
      "Running average global loss: 0.7237607477605343 (over last 800 batches)\n",
      "Running average activity prediction loss: 0.41622103452682496 (Cross Entropy over last 800 batches)\n",
      "Running average time till next event prediction loss: 0.3075397133268416 (MAE over last 800 batches)\n",
      "------------------------------------------------------------\n"
     ]
    },
    {
     "name": "stderr",
     "output_type": "stream",
     "text": [
      "Batch calculation at epoch 33.: 1604it [00:59, 24.31it/s]"
     ]
    },
    {
     "name": "stdout",
     "output_type": "stream",
     "text": [
      "------------------------------------------------------------\n",
      "Epoch 33, batch 1599:\n",
      "Average original gradient norm: 0.6105129205808043 (over last 800 batches)\n",
      "Average clipped gradient norm: 0.6105129205808043 (over last 800 batches)\n",
      "Running average global loss: 0.7212035837769508 (over last 800 batches)\n",
      "Running average activity prediction loss: 0.4141286192089319 (Cross Entropy over last 800 batches)\n",
      "Running average time till next event prediction loss: 0.3070749631524086 (MAE over last 800 batches)\n",
      "------------------------------------------------------------\n"
     ]
    },
    {
     "name": "stderr",
     "output_type": "stream",
     "text": [
      "Batch calculation at epoch 33.: 2406it [01:32, 43.05it/s]"
     ]
    },
    {
     "name": "stdout",
     "output_type": "stream",
     "text": [
      "------------------------------------------------------------\n",
      "Epoch 33, batch 2399:\n",
      "Average original gradient norm: 0.6380453357473016 (over last 800 batches)\n",
      "Average clipped gradient norm: 0.6380453357473016 (over last 800 batches)\n",
      "Running average global loss: 0.7219847112894058 (over last 800 batches)\n",
      "Running average activity prediction loss: 0.41463064175099135 (Cross Entropy over last 800 batches)\n",
      "Running average time till next event prediction loss: 0.30735406862571835 (MAE over last 800 batches)\n",
      "------------------------------------------------------------\n"
     ]
    },
    {
     "name": "stderr",
     "output_type": "stream",
     "text": [
      "Batch calculation at epoch 33.: 3206it [01:52, 44.68it/s]"
     ]
    },
    {
     "name": "stdout",
     "output_type": "stream",
     "text": [
      "------------------------------------------------------------\n",
      "Epoch 33, batch 3199:\n",
      "Average original gradient norm: 0.5834134136512875 (over last 800 batches)\n",
      "Average clipped gradient norm: 0.5834134136512875 (over last 800 batches)\n",
      "Running average global loss: 0.721097187101841 (over last 800 batches)\n",
      "Running average activity prediction loss: 0.41563673846423627 (Cross Entropy over last 800 batches)\n",
      "Running average time till next event prediction loss: 0.30546044846996667 (MAE over last 800 batches)\n",
      "------------------------------------------------------------\n"
     ]
    },
    {
     "name": "stderr",
     "output_type": "stream",
     "text": [
      "Batch calculation at epoch 33.: 4007it [02:10, 59.22it/s]"
     ]
    },
    {
     "name": "stdout",
     "output_type": "stream",
     "text": [
      "------------------------------------------------------------\n",
      "Epoch 33, batch 3999:\n",
      "Average original gradient norm: 0.6337053734436631 (over last 800 batches)\n",
      "Average clipped gradient norm: 0.6337053734436631 (over last 800 batches)\n",
      "Running average global loss: 0.7197564259171486 (over last 800 batches)\n",
      "Running average activity prediction loss: 0.4123323245346546 (Cross Entropy over last 800 batches)\n",
      "Running average time till next event prediction loss: 0.3074241005256772 (MAE over last 800 batches)\n",
      "------------------------------------------------------------\n"
     ]
    },
    {
     "name": "stderr",
     "output_type": "stream",
     "text": [
      "Batch calculation at epoch 33.: 4295it [02:16, 31.40it/s]\n"
     ]
    },
    {
     "name": "stdout",
     "output_type": "stream",
     "text": [
      "=======================================\n",
      "End of epoch 33\n",
      "=======================================\n",
      "Running average global loss: 0.7213213483244181 (over last 800 batches)\n",
      "Running average activity prediction loss: 0.4124973401799798 (Cross Entropy over last 800 batches)\n",
      "Running average time till next event prediction loss: 0.30882400788366793 (MAE over last 800 batches)\n"
     ]
    },
    {
     "name": "stderr",
     "output_type": "stream",
     "text": [
      "Validation batch calculation: 40it [00:21,  1.82it/s]\n"
     ]
    },
    {
     "name": "stdout",
     "output_type": "stream",
     "text": [
      "Avg MAE TTNE prediction validation set: 0.4642549753189087 (standardized) ; 17128.491666666665 (minutes)'\n",
      "Avg 1-(normalized) DL distance acitivty suffix prediction validation set: 0.8441325426101685\n",
      "Percentage of suffixes predicted to END: too early - 0.29770860780378494 ; right moment - 0.6337096913207826 ; too late - 0.06858170087543249\n",
      "Too early instances - avg amount of events too early: 1.6979197263717651\n",
      "Too late instances - avg amount of events too late: 2.8364453315734863\n",
      "Avg absolute amount of events predicted too early / too late: 0.7000135183334351\n",
      "Avg MAE RRT prediction validation set:  36673.65833333333 (minutes)'\n",
      " \n",
      "------------------------------------\n",
      "EPOCH 34:\n",
      "____________________________________\n"
     ]
    },
    {
     "name": "stderr",
     "output_type": "stream",
     "text": [
      "Batch calculation at epoch 34.: 804it [00:46, 19.03it/s]"
     ]
    },
    {
     "name": "stdout",
     "output_type": "stream",
     "text": [
      "------------------------------------------------------------\n",
      "Epoch 34, batch 799:\n",
      "Average original gradient norm: 0.6069705697521567 (over last 800 batches)\n",
      "Average clipped gradient norm: 0.6069705697521567 (over last 800 batches)\n",
      "Running average global loss: 0.7206761380285025 (over last 800 batches)\n",
      "Running average activity prediction loss: 0.4136747957766056 (Cross Entropy over last 800 batches)\n",
      "Running average time till next event prediction loss: 0.3070013415813446 (MAE over last 800 batches)\n",
      "------------------------------------------------------------\n"
     ]
    },
    {
     "name": "stderr",
     "output_type": "stream",
     "text": [
      "Batch calculation at epoch 34.: 1604it [01:29, 24.95it/s]"
     ]
    },
    {
     "name": "stdout",
     "output_type": "stream",
     "text": [
      "------------------------------------------------------------\n",
      "Epoch 34, batch 1599:\n",
      "Average original gradient norm: 0.6199829769879579 (over last 800 batches)\n",
      "Average clipped gradient norm: 0.6199829769879579 (over last 800 batches)\n",
      "Running average global loss: 0.7215678249299526 (over last 800 batches)\n",
      "Running average activity prediction loss: 0.4149861042574048 (Cross Entropy over last 800 batches)\n",
      "Running average time till next event prediction loss: 0.306581721175462 (MAE over last 800 batches)\n",
      "------------------------------------------------------------\n"
     ]
    },
    {
     "name": "stderr",
     "output_type": "stream",
     "text": [
      "Batch calculation at epoch 34.: 2402it [02:10, 13.67it/s]"
     ]
    },
    {
     "name": "stdout",
     "output_type": "stream",
     "text": [
      "------------------------------------------------------------\n",
      "Epoch 34, batch 2399:\n",
      "Average original gradient norm: 0.5991377715766429 (over last 800 batches)\n",
      "Average clipped gradient norm: 0.5991377715766429 (over last 800 batches)\n",
      "Running average global loss: 0.7193995264172554 (over last 800 batches)\n",
      "Running average activity prediction loss: 0.41273622814565897 (Cross Entropy over last 800 batches)\n",
      "Running average time till next event prediction loss: 0.30666329769417644 (MAE over last 800 batches)\n",
      "------------------------------------------------------------\n"
     ]
    },
    {
     "name": "stderr",
     "output_type": "stream",
     "text": [
      "Batch calculation at epoch 34.: 3203it [02:45, 22.31it/s]"
     ]
    },
    {
     "name": "stdout",
     "output_type": "stream",
     "text": [
      "------------------------------------------------------------\n",
      "Epoch 34, batch 3199:\n",
      "Average original gradient norm: 0.6112766913697123 (over last 800 batches)\n",
      "Average clipped gradient norm: 0.6112766913697123 (over last 800 batches)\n",
      "Running average global loss: 0.7223577324301005 (over last 800 batches)\n",
      "Running average activity prediction loss: 0.4155374814942479 (Cross Entropy over last 800 batches)\n",
      "Running average time till next event prediction loss: 0.30682025065645574 (MAE over last 800 batches)\n",
      "------------------------------------------------------------\n"
     ]
    },
    {
     "name": "stderr",
     "output_type": "stream",
     "text": [
      "Batch calculation at epoch 34.: 4002it [03:15, 21.90it/s]"
     ]
    },
    {
     "name": "stdout",
     "output_type": "stream",
     "text": [
      "------------------------------------------------------------\n",
      "Epoch 34, batch 3999:\n",
      "Average original gradient norm: 0.605072648562491 (over last 800 batches)\n",
      "Average clipped gradient norm: 0.605072648562491 (over last 800 batches)\n",
      "Running average global loss: 0.7217994353175163 (over last 800 batches)\n",
      "Running average activity prediction loss: 0.41463139235973356 (Cross Entropy over last 800 batches)\n",
      "Running average time till next event prediction loss: 0.3071680433489382 (MAE over last 800 batches)\n",
      "------------------------------------------------------------\n"
     ]
    },
    {
     "name": "stderr",
     "output_type": "stream",
     "text": [
      "Batch calculation at epoch 34.: 4295it [03:25, 20.91it/s]\n"
     ]
    },
    {
     "name": "stdout",
     "output_type": "stream",
     "text": [
      "=======================================\n",
      "End of epoch 34\n",
      "=======================================\n",
      "Running average global loss: 0.7230804838240147 (over last 800 batches)\n",
      "Running average activity prediction loss: 0.41515106555074455 (Cross Entropy over last 800 batches)\n",
      "Running average time till next event prediction loss: 0.3079294181615114 (MAE over last 800 batches)\n"
     ]
    },
    {
     "name": "stderr",
     "output_type": "stream",
     "text": [
      "Validation batch calculation: 40it [00:16,  2.45it/s]\n"
     ]
    },
    {
     "name": "stdout",
     "output_type": "stream",
     "text": [
      "Avg MAE TTNE prediction validation set: 0.4645792841911316 (standardized) ; 17131.7 (minutes)'\n",
      "Avg 1-(normalized) DL distance acitivty suffix prediction validation set: 0.844397783279419\n",
      "Percentage of suffixes predicted to END: too early - 0.2964896511814029 ; right moment - 0.633919007104424 ; too late - 0.06959134171417314\n",
      "Too early instances - avg amount of events too early: 1.6915698051452637\n",
      "Too late instances - avg amount of events too late: 2.8418259620666504\n",
      "Avg absolute amount of events predicted too early / too late: 0.6992993950843811\n",
      "Avg MAE RRT prediction validation set:  36810.9625 (minutes)'\n",
      " \n",
      "------------------------------------\n",
      "EPOCH 35:\n",
      "____________________________________\n"
     ]
    },
    {
     "name": "stderr",
     "output_type": "stream",
     "text": [
      "Batch calculation at epoch 35.: 801it [00:32, 10.87it/s]"
     ]
    },
    {
     "name": "stdout",
     "output_type": "stream",
     "text": [
      "------------------------------------------------------------\n",
      "Epoch 35, batch 799:\n",
      "Average original gradient norm: 0.6187400516495108 (over last 800 batches)\n",
      "Average clipped gradient norm: 0.6187400516495108 (over last 800 batches)\n",
      "Running average global loss: 0.7177666939795018 (over last 800 batches)\n",
      "Running average activity prediction loss: 0.4103390607982874 (Cross Entropy over last 800 batches)\n",
      "Running average time till next event prediction loss: 0.30742763318121435 (MAE over last 800 batches)\n",
      "------------------------------------------------------------\n"
     ]
    },
    {
     "name": "stderr",
     "output_type": "stream",
     "text": [
      "Batch calculation at epoch 35.: 1600it [01:18, 13.64it/s]"
     ]
    },
    {
     "name": "stdout",
     "output_type": "stream",
     "text": [
      "------------------------------------------------------------\n",
      "Epoch 35, batch 1599:\n",
      "Average original gradient norm: 0.5999185172468424 (over last 800 batches)\n",
      "Average clipped gradient norm: 0.5999185172468424 (over last 800 batches)\n",
      "Running average global loss: 0.722704634591937 (over last 800 batches)\n",
      "Running average activity prediction loss: 0.4148171803355217 (Cross Entropy over last 800 batches)\n",
      "Running average time till next event prediction loss: 0.3078874525241554 (MAE over last 800 batches)\n",
      "------------------------------------------------------------\n"
     ]
    },
    {
     "name": "stderr",
     "output_type": "stream",
     "text": [
      "Batch calculation at epoch 35.: 2403it [01:49, 16.53it/s]"
     ]
    },
    {
     "name": "stdout",
     "output_type": "stream",
     "text": [
      "------------------------------------------------------------\n",
      "Epoch 35, batch 2399:\n",
      "Average original gradient norm: 0.6211977638304234 (over last 800 batches)\n",
      "Average clipped gradient norm: 0.6211977638304234 (over last 800 batches)\n",
      "Running average global loss: 0.7202850005775691 (over last 800 batches)\n",
      "Running average activity prediction loss: 0.41543827548623086 (Cross Entropy over last 800 batches)\n",
      "Running average time till next event prediction loss: 0.30484672451391814 (MAE over last 800 batches)\n",
      "------------------------------------------------------------\n"
     ]
    },
    {
     "name": "stderr",
     "output_type": "stream",
     "text": [
      "Batch calculation at epoch 35.: 3208it [02:15, 35.22it/s]"
     ]
    },
    {
     "name": "stdout",
     "output_type": "stream",
     "text": [
      "------------------------------------------------------------\n",
      "Epoch 35, batch 3199:\n",
      "Average original gradient norm: 0.6259459223598242 (over last 800 batches)\n",
      "Average clipped gradient norm: 0.6259459223598242 (over last 800 batches)\n",
      "Running average global loss: 0.7181013448536396 (over last 800 batches)\n",
      "Running average activity prediction loss: 0.4125257112458348 (Cross Entropy over last 800 batches)\n",
      "Running average time till next event prediction loss: 0.3055756332539022 (MAE over last 800 batches)\n",
      "------------------------------------------------------------\n"
     ]
    },
    {
     "name": "stderr",
     "output_type": "stream",
     "text": [
      "Batch calculation at epoch 35.: 4002it [03:05, 17.77it/s]"
     ]
    },
    {
     "name": "stdout",
     "output_type": "stream",
     "text": [
      "------------------------------------------------------------\n",
      "Epoch 35, batch 3999:\n",
      "Average original gradient norm: 0.6208196741342544 (over last 800 batches)\n",
      "Average clipped gradient norm: 0.6208196741342544 (over last 800 batches)\n",
      "Running average global loss: 0.7242025951296092 (over last 800 batches)\n",
      "Running average activity prediction loss: 0.41657347094267605 (Cross Entropy over last 800 batches)\n",
      "Running average time till next event prediction loss: 0.3076291229389608 (MAE over last 800 batches)\n",
      "------------------------------------------------------------\n"
     ]
    },
    {
     "name": "stderr",
     "output_type": "stream",
     "text": [
      "Batch calculation at epoch 35.: 4295it [03:27, 20.65it/s]\n"
     ]
    },
    {
     "name": "stdout",
     "output_type": "stream",
     "text": [
      "=======================================\n",
      "End of epoch 35\n",
      "=======================================\n",
      "Running average global loss: 0.7237111040204763 (over last 800 batches)\n",
      "Running average activity prediction loss: 0.41592992305755616 (Cross Entropy over last 800 batches)\n",
      "Running average time till next event prediction loss: 0.3077811786159873 (MAE over last 800 batches)\n"
     ]
    },
    {
     "name": "stderr",
     "output_type": "stream",
     "text": [
      "Validation batch calculation: 40it [00:33,  1.20it/s]\n"
     ]
    },
    {
     "name": "stdout",
     "output_type": "stream",
     "text": [
      "Avg MAE TTNE prediction validation set: 0.4618864953517914 (standardized) ; 17041.515625 (minutes)'\n",
      "Avg 1-(normalized) DL distance acitivty suffix prediction validation set: 0.8444541096687317\n",
      "Percentage of suffixes predicted to END: too early - 0.298238053609466 ; right moment - 0.633623502468695 ; too late - 0.06813844392183903\n",
      "Too early instances - avg amount of events too early: 1.7013871669769287\n",
      "Too late instances - avg amount of events too late: 2.81351637840271\n",
      "Avg absolute amount of events predicted too early / too late: 0.6991270184516907\n",
      "Avg MAE RRT prediction validation set:  36795.15416666667 (minutes)'\n",
      " \n",
      "------------------------------------\n",
      "EPOCH 36:\n",
      "____________________________________\n"
     ]
    },
    {
     "name": "stderr",
     "output_type": "stream",
     "text": [
      "Batch calculation at epoch 36.: 801it [00:41, 14.90it/s]"
     ]
    },
    {
     "name": "stdout",
     "output_type": "stream",
     "text": [
      "------------------------------------------------------------\n",
      "Epoch 36, batch 799:\n",
      "Average original gradient norm: 0.608506845459342 (over last 800 batches)\n",
      "Average clipped gradient norm: 0.608506845459342 (over last 800 batches)\n",
      "Running average global loss: 0.7187213337421418 (over last 800 batches)\n",
      "Running average activity prediction loss: 0.4128497699275613 (Cross Entropy over last 800 batches)\n",
      "Running average time till next event prediction loss: 0.3058715652488172 (MAE over last 800 batches)\n",
      "------------------------------------------------------------\n"
     ]
    },
    {
     "name": "stderr",
     "output_type": "stream",
     "text": [
      "Batch calculation at epoch 36.: 1601it [01:31, 14.27it/s]"
     ]
    },
    {
     "name": "stdout",
     "output_type": "stream",
     "text": [
      "------------------------------------------------------------\n",
      "Epoch 36, batch 1599:\n",
      "Average original gradient norm: 0.6149127349629998 (over last 800 batches)\n",
      "Average clipped gradient norm: 0.6149127349629998 (over last 800 batches)\n",
      "Running average global loss: 0.7224278656393289 (over last 800 batches)\n",
      "Running average activity prediction loss: 0.4157896458357573 (Cross Entropy over last 800 batches)\n",
      "Running average time till next event prediction loss: 0.3066382201761007 (MAE over last 800 batches)\n",
      "------------------------------------------------------------\n"
     ]
    },
    {
     "name": "stderr",
     "output_type": "stream",
     "text": [
      "Batch calculation at epoch 36.: 2401it [02:20, 11.61it/s]"
     ]
    },
    {
     "name": "stdout",
     "output_type": "stream",
     "text": [
      "------------------------------------------------------------\n",
      "Epoch 36, batch 2399:\n",
      "Average original gradient norm: 0.6109458891302347 (over last 800 batches)\n",
      "Average clipped gradient norm: 0.6109458891302347 (over last 800 batches)\n",
      "Running average global loss: 0.7200579408556222 (over last 800 batches)\n",
      "Running average activity prediction loss: 0.41254663813859227 (Cross Entropy over last 800 batches)\n",
      "Running average time till next event prediction loss: 0.30751130351796746 (MAE over last 800 batches)\n",
      "------------------------------------------------------------\n"
     ]
    },
    {
     "name": "stderr",
     "output_type": "stream",
     "text": [
      "Batch calculation at epoch 36.: 3202it [03:16, 15.00it/s]"
     ]
    },
    {
     "name": "stdout",
     "output_type": "stream",
     "text": [
      "------------------------------------------------------------\n",
      "Epoch 36, batch 3199:\n",
      "Average original gradient norm: 0.6110483355075121 (over last 800 batches)\n",
      "Average clipped gradient norm: 0.6110483355075121 (over last 800 batches)\n",
      "Running average global loss: 0.7209546162188053 (over last 800 batches)\n",
      "Running average activity prediction loss: 0.41401382703334094 (Cross Entropy over last 800 batches)\n",
      "Running average time till next event prediction loss: 0.3069407898001373 (MAE over last 800 batches)\n",
      "------------------------------------------------------------\n"
     ]
    },
    {
     "name": "stderr",
     "output_type": "stream",
     "text": [
      "Batch calculation at epoch 36.: 4002it [04:04, 16.86it/s]"
     ]
    },
    {
     "name": "stdout",
     "output_type": "stream",
     "text": [
      "------------------------------------------------------------\n",
      "Epoch 36, batch 3999:\n",
      "Average original gradient norm: 0.6119841218367219 (over last 800 batches)\n",
      "Average clipped gradient norm: 0.6119841218367219 (over last 800 batches)\n",
      "Running average global loss: 0.719241042509675 (over last 800 batches)\n",
      "Running average activity prediction loss: 0.41277887728065255 (Cross Entropy over last 800 batches)\n",
      "Running average time till next event prediction loss: 0.3064621647633612 (MAE over last 800 batches)\n",
      "------------------------------------------------------------\n"
     ]
    },
    {
     "name": "stderr",
     "output_type": "stream",
     "text": [
      "Batch calculation at epoch 36.: 4295it [04:20, 16.49it/s]\n"
     ]
    },
    {
     "name": "stdout",
     "output_type": "stream",
     "text": [
      "=======================================\n",
      "End of epoch 36\n",
      "=======================================\n",
      "Running average global loss: 0.7215072714537382 (over last 800 batches)\n",
      "Running average activity prediction loss: 0.41402473010122776 (Cross Entropy over last 800 batches)\n",
      "Running average time till next event prediction loss: 0.30748254070058467 (MAE over last 800 batches)\n"
     ]
    },
    {
     "name": "stderr",
     "output_type": "stream",
     "text": [
      "Validation batch calculation: 40it [00:28,  1.42it/s]\n"
     ]
    },
    {
     "name": "stdout",
     "output_type": "stream",
     "text": [
      "Avg MAE TTNE prediction validation set: 0.46099501848220825 (standardized) ; 17008.860416666666 (minutes)'\n",
      "Avg 1-(normalized) DL distance acitivty suffix prediction validation set: 0.8443455100059509\n",
      "Percentage of suffixes predicted to END: too early - 0.2973884777817452 ; right moment - 0.6336850659344718 ; too late - 0.06892645628378295\n",
      "Too early instances - avg amount of events too early: 1.698919415473938\n",
      "Too late instances - avg amount of events too late: 2.8143980503082275\n",
      "Avg absolute amount of events predicted too early / too late: 0.6992255449295044\n",
      "Avg MAE RRT prediction validation set:  37050.59583333333 (minutes)'\n",
      " \n",
      "------------------------------------\n",
      "EPOCH 37:\n",
      "____________________________________\n"
     ]
    },
    {
     "name": "stderr",
     "output_type": "stream",
     "text": [
      "Batch calculation at epoch 37.: 807it [00:17, 50.64it/s]"
     ]
    },
    {
     "name": "stdout",
     "output_type": "stream",
     "text": [
      "------------------------------------------------------------\n",
      "Epoch 37, batch 799:\n",
      "Average original gradient norm: 0.60546794898808 (over last 800 batches)\n",
      "Average clipped gradient norm: 0.60546794898808 (over last 800 batches)\n",
      "Running average global loss: 0.719887288287282 (over last 800 batches)\n",
      "Running average activity prediction loss: 0.4125603947415948 (Cross Entropy over last 800 batches)\n",
      "Running average time till next event prediction loss: 0.30732689395546914 (MAE over last 800 batches)\n",
      "------------------------------------------------------------\n"
     ]
    },
    {
     "name": "stderr",
     "output_type": "stream",
     "text": [
      "Batch calculation at epoch 37.: 1608it [00:36, 54.54it/s]"
     ]
    },
    {
     "name": "stdout",
     "output_type": "stream",
     "text": [
      "------------------------------------------------------------\n",
      "Epoch 37, batch 1599:\n",
      "Average original gradient norm: 0.609682346880436 (over last 800 batches)\n",
      "Average clipped gradient norm: 0.609682346880436 (over last 800 batches)\n",
      "Running average global loss: 0.7214210244268179 (over last 800 batches)\n",
      "Running average activity prediction loss: 0.4136773112230003 (Cross Entropy over last 800 batches)\n",
      "Running average time till next event prediction loss: 0.30774371307343246 (MAE over last 800 batches)\n",
      "------------------------------------------------------------\n"
     ]
    },
    {
     "name": "stderr",
     "output_type": "stream",
     "text": [
      "Batch calculation at epoch 37.: 2406it [00:53, 36.45it/s]"
     ]
    },
    {
     "name": "stdout",
     "output_type": "stream",
     "text": [
      "------------------------------------------------------------\n",
      "Epoch 37, batch 2399:\n",
      "Average original gradient norm: 0.6203337467089295 (over last 800 batches)\n",
      "Average clipped gradient norm: 0.6203337467089295 (over last 800 batches)\n",
      "Running average global loss: 0.7178045871853829 (over last 800 batches)\n",
      "Running average activity prediction loss: 0.4125081838294864 (Cross Entropy over last 800 batches)\n",
      "Running average time till next event prediction loss: 0.30529640274122355 (MAE over last 800 batches)\n",
      "------------------------------------------------------------\n"
     ]
    },
    {
     "name": "stderr",
     "output_type": "stream",
     "text": [
      "Batch calculation at epoch 37.: 3209it [01:13, 51.79it/s]"
     ]
    },
    {
     "name": "stdout",
     "output_type": "stream",
     "text": [
      "------------------------------------------------------------\n",
      "Epoch 37, batch 3199:\n",
      "Average original gradient norm: 0.6035951196029782 (over last 800 batches)\n",
      "Average clipped gradient norm: 0.6035951196029782 (over last 800 batches)\n",
      "Running average global loss: 0.7217914421856403 (over last 800 batches)\n",
      "Running average activity prediction loss: 0.414655790720135 (Cross Entropy over last 800 batches)\n",
      "Running average time till next event prediction loss: 0.30713564936071636 (MAE over last 800 batches)\n",
      "------------------------------------------------------------\n"
     ]
    },
    {
     "name": "stderr",
     "output_type": "stream",
     "text": [
      "Batch calculation at epoch 37.: 4003it [01:38, 19.51it/s]"
     ]
    },
    {
     "name": "stdout",
     "output_type": "stream",
     "text": [
      "------------------------------------------------------------\n",
      "Epoch 37, batch 3999:\n",
      "Average original gradient norm: 0.6129079540818929 (over last 800 batches)\n",
      "Average clipped gradient norm: 0.6129079540818929 (over last 800 batches)\n",
      "Running average global loss: 0.7188763745874166 (over last 800 batches)\n",
      "Running average activity prediction loss: 0.4127851440384984 (Cross Entropy over last 800 batches)\n",
      "Running average time till next event prediction loss: 0.30609123153612017 (MAE over last 800 batches)\n",
      "------------------------------------------------------------\n"
     ]
    },
    {
     "name": "stderr",
     "output_type": "stream",
     "text": [
      "Batch calculation at epoch 37.: 4295it [01:58, 36.36it/s]\n"
     ]
    },
    {
     "name": "stdout",
     "output_type": "stream",
     "text": [
      "=======================================\n",
      "End of epoch 37\n",
      "=======================================\n",
      "Running average global loss: 0.7179655203968287 (over last 800 batches)\n",
      "Running average activity prediction loss: 0.4128226847946644 (Cross Entropy over last 800 batches)\n",
      "Running average time till next event prediction loss: 0.30514283606782555 (MAE over last 800 batches)\n"
     ]
    },
    {
     "name": "stderr",
     "output_type": "stream",
     "text": [
      "Validation batch calculation: 40it [00:25,  1.56it/s]\n"
     ]
    },
    {
     "name": "stdout",
     "output_type": "stream",
     "text": [
      "Avg MAE TTNE prediction validation set: 0.463834673166275 (standardized) ; 17114.5125 (minutes)'\n",
      "Avg 1-(normalized) DL distance acitivty suffix prediction validation set: 0.844389021396637\n",
      "Percentage of suffixes predicted to END: too early - 0.29759779356538657 ; right moment - 0.6337958801728703 ; too late - 0.06860632626174323\n",
      "Too early instances - avg amount of events too early: 1.6941249370574951\n",
      "Too late instances - avg amount of events too late: 2.851040840148926\n",
      "Avg absolute amount of events predicted too early / too late: 0.6997672915458679\n",
      "Avg MAE RRT prediction validation set:  36674.625 (minutes)'\n",
      " \n",
      "------------------------------------\n",
      "EPOCH 38:\n",
      "____________________________________\n"
     ]
    },
    {
     "name": "stderr",
     "output_type": "stream",
     "text": [
      "Batch calculation at epoch 38.: 805it [00:33, 40.01it/s]"
     ]
    },
    {
     "name": "stdout",
     "output_type": "stream",
     "text": [
      "------------------------------------------------------------\n",
      "Epoch 38, batch 799:\n",
      "Average original gradient norm: 0.6189566091820597 (over last 800 batches)\n",
      "Average clipped gradient norm: 0.6189566091820597 (over last 800 batches)\n",
      "Running average global loss: 0.7189220371842384 (over last 800 batches)\n",
      "Running average activity prediction loss: 0.41244896333664655 (Cross Entropy over last 800 batches)\n",
      "Running average time till next event prediction loss: 0.30647307382896544 (MAE over last 800 batches)\n",
      "------------------------------------------------------------\n"
     ]
    },
    {
     "name": "stderr",
     "output_type": "stream",
     "text": [
      "Batch calculation at epoch 38.: 1605it [00:56, 35.49it/s]"
     ]
    },
    {
     "name": "stdout",
     "output_type": "stream",
     "text": [
      "------------------------------------------------------------\n",
      "Epoch 38, batch 1599:\n",
      "Average original gradient norm: 0.6074754545465112 (over last 800 batches)\n",
      "Average clipped gradient norm: 0.6074754545465112 (over last 800 batches)\n",
      "Running average global loss: 0.7186302650719881 (over last 800 batches)\n",
      "Running average activity prediction loss: 0.41185758471488954 (Cross Entropy over last 800 batches)\n",
      "Running average time till next event prediction loss: 0.3067726810462773 (MAE over last 800 batches)\n",
      "------------------------------------------------------------\n"
     ]
    },
    {
     "name": "stderr",
     "output_type": "stream",
     "text": [
      "Batch calculation at epoch 38.: 2403it [01:18, 34.43it/s]"
     ]
    },
    {
     "name": "stdout",
     "output_type": "stream",
     "text": [
      "------------------------------------------------------------\n",
      "Epoch 38, batch 2399:\n",
      "Average original gradient norm: 0.6070156002044678 (over last 800 batches)\n",
      "Average clipped gradient norm: 0.6070156002044678 (over last 800 batches)\n",
      "Running average global loss: 0.7192046236991883 (over last 800 batches)\n",
      "Running average activity prediction loss: 0.4126709291338921 (Cross Entropy over last 800 batches)\n",
      "Running average time till next event prediction loss: 0.306533693484962 (MAE over last 800 batches)\n",
      "------------------------------------------------------------\n"
     ]
    },
    {
     "name": "stderr",
     "output_type": "stream",
     "text": [
      "Batch calculation at epoch 38.: 3202it [01:56, 18.67it/s]"
     ]
    },
    {
     "name": "stdout",
     "output_type": "stream",
     "text": [
      "------------------------------------------------------------\n",
      "Epoch 38, batch 3199:\n",
      "Average original gradient norm: 0.603718648403883 (over last 800 batches)\n",
      "Average clipped gradient norm: 0.603718648403883 (over last 800 batches)\n",
      "Running average global loss: 0.7195906281471253 (over last 800 batches)\n",
      "Running average activity prediction loss: 0.4138130830600858 (Cross Entropy over last 800 batches)\n",
      "Running average time till next event prediction loss: 0.30577754417434333 (MAE over last 800 batches)\n",
      "------------------------------------------------------------\n"
     ]
    },
    {
     "name": "stderr",
     "output_type": "stream",
     "text": [
      "Batch calculation at epoch 38.: 4003it [02:30, 34.55it/s]"
     ]
    },
    {
     "name": "stdout",
     "output_type": "stream",
     "text": [
      "------------------------------------------------------------\n",
      "Epoch 38, batch 3999:\n",
      "Average original gradient norm: 0.6105516628548503 (over last 800 batches)\n",
      "Average clipped gradient norm: 0.6105516628548503 (over last 800 batches)\n",
      "Running average global loss: 0.7222781386971474 (over last 800 batches)\n",
      "Running average activity prediction loss: 0.41544006317853927 (Cross Entropy over last 800 batches)\n",
      "Running average time till next event prediction loss: 0.30683807477355 (MAE over last 800 batches)\n",
      "------------------------------------------------------------\n"
     ]
    },
    {
     "name": "stderr",
     "output_type": "stream",
     "text": [
      "Batch calculation at epoch 38.: 4295it [02:38, 27.02it/s]\n"
     ]
    },
    {
     "name": "stdout",
     "output_type": "stream",
     "text": [
      "=======================================\n",
      "End of epoch 38\n",
      "=======================================\n",
      "Running average global loss: 0.7185038803517818 (over last 800 batches)\n",
      "Running average activity prediction loss: 0.4119725251197815 (Cross Entropy over last 800 batches)\n",
      "Running average time till next event prediction loss: 0.30653135519474745 (MAE over last 800 batches)\n"
     ]
    },
    {
     "name": "stderr",
     "output_type": "stream",
     "text": [
      "Validation batch calculation: 40it [00:25,  1.55it/s]\n"
     ]
    },
    {
     "name": "stdout",
     "output_type": "stream",
     "text": [
      "Avg MAE TTNE prediction validation set: 0.4619661569595337 (standardized) ; 17043.590625 (minutes)'\n",
      "Avg 1-(normalized) DL distance acitivty suffix prediction validation set: 0.8442488312721252\n",
      "Percentage of suffixes predicted to END: too early - 0.2977701712695618 ; right moment - 0.6332664343671891 ; too late - 0.06896339436324907\n",
      "Too early instances - avg amount of events too early: 1.7005044221878052\n",
      "Too late instances - avg amount of events too late: 2.8005714416503906\n",
      "Avg absolute amount of events predicted too early / too late: 0.6994963884353638\n",
      "Avg MAE RRT prediction validation set:  36965.520833333336 (minutes)'\n",
      " \n",
      "------------------------------------\n",
      "EPOCH 39:\n",
      "____________________________________\n"
     ]
    },
    {
     "name": "stderr",
     "output_type": "stream",
     "text": [
      "Batch calculation at epoch 39.: 805it [00:28, 31.40it/s]"
     ]
    },
    {
     "name": "stdout",
     "output_type": "stream",
     "text": [
      "------------------------------------------------------------\n",
      "Epoch 39, batch 799:\n",
      "Average original gradient norm: 0.6050138040632009 (over last 800 batches)\n",
      "Average clipped gradient norm: 0.6050138040632009 (over last 800 batches)\n",
      "Running average global loss: 0.7210543295741081 (over last 800 batches)\n",
      "Running average activity prediction loss: 0.4147485858201981 (Cross Entropy over last 800 batches)\n",
      "Running average time till next event prediction loss: 0.3063057436794043 (MAE over last 800 batches)\n",
      "------------------------------------------------------------\n"
     ]
    },
    {
     "name": "stderr",
     "output_type": "stream",
     "text": [
      "Batch calculation at epoch 39.: 1603it [00:54, 26.99it/s]"
     ]
    },
    {
     "name": "stdout",
     "output_type": "stream",
     "text": [
      "------------------------------------------------------------\n",
      "Epoch 39, batch 1599:\n",
      "Average original gradient norm: 0.5996899899467826 (over last 800 batches)\n",
      "Average clipped gradient norm: 0.5996899899467826 (over last 800 batches)\n",
      "Running average global loss: 0.7153462755680084 (over last 800 batches)\n",
      "Running average activity prediction loss: 0.4087608091905713 (Cross Entropy over last 800 batches)\n",
      "Running average time till next event prediction loss: 0.3065854670479894 (MAE over last 800 batches)\n",
      "------------------------------------------------------------\n"
     ]
    },
    {
     "name": "stderr",
     "output_type": "stream",
     "text": [
      "Batch calculation at epoch 39.: 2402it [01:36, 18.51it/s]"
     ]
    },
    {
     "name": "stdout",
     "output_type": "stream",
     "text": [
      "------------------------------------------------------------\n",
      "Epoch 39, batch 2399:\n",
      "Average original gradient norm: 0.6199900302290916 (over last 800 batches)\n",
      "Average clipped gradient norm: 0.6199900302290916 (over last 800 batches)\n",
      "Running average global loss: 0.7220021578669548 (over last 800 batches)\n",
      "Running average activity prediction loss: 0.41543247777968645 (Cross Entropy over last 800 batches)\n",
      "Running average time till next event prediction loss: 0.306569679826498 (MAE over last 800 batches)\n",
      "------------------------------------------------------------\n"
     ]
    },
    {
     "name": "stderr",
     "output_type": "stream",
     "text": [
      "Batch calculation at epoch 39.: 3202it [02:41, 12.49it/s]"
     ]
    },
    {
     "name": "stdout",
     "output_type": "stream",
     "text": [
      "------------------------------------------------------------\n",
      "Epoch 39, batch 3199:\n",
      "Average original gradient norm: 0.6136861983314157 (over last 800 batches)\n",
      "Average clipped gradient norm: 0.6136861983314157 (over last 800 batches)\n",
      "Running average global loss: 0.7180813140422105 (over last 800 batches)\n",
      "Running average activity prediction loss: 0.4125220733508468 (Cross Entropy over last 800 batches)\n",
      "Running average time till next event prediction loss: 0.3055592405796051 (MAE over last 800 batches)\n",
      "------------------------------------------------------------\n"
     ]
    },
    {
     "name": "stderr",
     "output_type": "stream",
     "text": [
      "Batch calculation at epoch 39.: 4003it [03:20, 18.82it/s]"
     ]
    },
    {
     "name": "stdout",
     "output_type": "stream",
     "text": [
      "------------------------------------------------------------\n",
      "Epoch 39, batch 3999:\n",
      "Average original gradient norm: 0.589101435802877 (over last 800 batches)\n",
      "Average clipped gradient norm: 0.589101435802877 (over last 800 batches)\n",
      "Running average global loss: 0.7196363219618798 (over last 800 batches)\n",
      "Running average activity prediction loss: 0.4126025711745024 (Cross Entropy over last 800 batches)\n",
      "Running average time till next event prediction loss: 0.30703375071287153 (MAE over last 800 batches)\n",
      "------------------------------------------------------------\n"
     ]
    },
    {
     "name": "stderr",
     "output_type": "stream",
     "text": [
      "Batch calculation at epoch 39.: 4295it [03:31, 20.30it/s]\n"
     ]
    },
    {
     "name": "stdout",
     "output_type": "stream",
     "text": [
      "=======================================\n",
      "End of epoch 39\n",
      "=======================================\n",
      "Running average global loss: 0.7191683886945248 (over last 800 batches)\n",
      "Running average activity prediction loss: 0.41147578274831176 (Cross Entropy over last 800 batches)\n",
      "Running average time till next event prediction loss: 0.30769260628148914 (MAE over last 800 batches)\n"
     ]
    },
    {
     "name": "stderr",
     "output_type": "stream",
     "text": [
      "Validation batch calculation: 40it [00:25,  1.55it/s]\n"
     ]
    },
    {
     "name": "stdout",
     "output_type": "stream",
     "text": [
      "Avg MAE TTNE prediction validation set: 0.46347734332084656 (standardized) ; 17102.151041666668 (minutes)'\n",
      "Avg 1-(normalized) DL distance acitivty suffix prediction validation set: 0.8445696830749512\n",
      "Percentage of suffixes predicted to END: too early - 0.29754854279276505 ; right moment - 0.6337712547865595 ; too late - 0.06868020242067548\n",
      "Too early instances - avg amount of events too early: 1.6999917030334473\n",
      "Too late instances - avg amount of events too late: 2.787020444869995\n",
      "Avg absolute amount of events predicted too early / too late: 0.6972432136535645\n",
      "Avg MAE RRT prediction validation set:  36676.125 (minutes)'\n",
      " \n",
      "------------------------------------\n",
      "EPOCH 40:\n",
      "____________________________________\n"
     ]
    },
    {
     "name": "stderr",
     "output_type": "stream",
     "text": [
      "Batch calculation at epoch 40.: 801it [00:49, 11.43it/s]"
     ]
    },
    {
     "name": "stdout",
     "output_type": "stream",
     "text": [
      "------------------------------------------------------------\n",
      "Epoch 40, batch 799:\n",
      "Average original gradient norm: 0.5933103225007653 (over last 800 batches)\n",
      "Average clipped gradient norm: 0.5933103225007653 (over last 800 batches)\n",
      "Running average global loss: 0.7166858417540789 (over last 800 batches)\n",
      "Running average activity prediction loss: 0.41097982924431564 (Cross Entropy over last 800 batches)\n",
      "Running average time till next event prediction loss: 0.3057060129009187 (MAE over last 800 batches)\n",
      "------------------------------------------------------------\n"
     ]
    },
    {
     "name": "stderr",
     "output_type": "stream",
     "text": [
      "Batch calculation at epoch 40.: 1601it [01:52, 10.67it/s]"
     ]
    },
    {
     "name": "stdout",
     "output_type": "stream",
     "text": [
      "------------------------------------------------------------\n",
      "Epoch 40, batch 1599:\n",
      "Average original gradient norm: 0.6032181150093675 (over last 800 batches)\n",
      "Average clipped gradient norm: 0.6009728397801518 (over last 800 batches)\n",
      "Running average global loss: 0.7197343239188194 (over last 800 batches)\n",
      "Running average activity prediction loss: 0.4130914267152548 (Cross Entropy over last 800 batches)\n",
      "Running average time till next event prediction loss: 0.3066428970731795 (MAE over last 800 batches)\n",
      "------------------------------------------------------------\n"
     ]
    },
    {
     "name": "stderr",
     "output_type": "stream",
     "text": [
      "Batch calculation at epoch 40.: 2403it [02:54, 21.85it/s]"
     ]
    },
    {
     "name": "stdout",
     "output_type": "stream",
     "text": [
      "------------------------------------------------------------\n",
      "Epoch 40, batch 2399:\n",
      "Average original gradient norm: 0.6239957528188824 (over last 800 batches)\n",
      "Average clipped gradient norm: 0.6239957528188824 (over last 800 batches)\n",
      "Running average global loss: 0.7191659890115261 (over last 800 batches)\n",
      "Running average activity prediction loss: 0.41294742815196517 (Cross Entropy over last 800 batches)\n",
      "Running average time till next event prediction loss: 0.3062185618467629 (MAE over last 800 batches)\n",
      "------------------------------------------------------------\n"
     ]
    },
    {
     "name": "stderr",
     "output_type": "stream",
     "text": [
      "Batch calculation at epoch 40.: 3201it [03:47, 10.88it/s]"
     ]
    },
    {
     "name": "stdout",
     "output_type": "stream",
     "text": [
      "------------------------------------------------------------\n",
      "Epoch 40, batch 3199:\n",
      "Average original gradient norm: 0.5921813215687871 (over last 800 batches)\n",
      "Average clipped gradient norm: 0.5921813215687871 (over last 800 batches)\n",
      "Running average global loss: 0.716473049595952 (over last 800 batches)\n",
      "Running average activity prediction loss: 0.4105851747840643 (Cross Entropy over last 800 batches)\n",
      "Running average time till next event prediction loss: 0.3058878749422729 (MAE over last 800 batches)\n",
      "------------------------------------------------------------\n"
     ]
    },
    {
     "name": "stderr",
     "output_type": "stream",
     "text": [
      "Batch calculation at epoch 40.: 4002it [05:25,  8.89it/s]"
     ]
    },
    {
     "name": "stdout",
     "output_type": "stream",
     "text": [
      "------------------------------------------------------------\n",
      "Epoch 40, batch 3999:\n",
      "Average original gradient norm: 0.5966595447808504 (over last 800 batches)\n",
      "Average clipped gradient norm: 0.5966595447808504 (over last 800 batches)\n",
      "Running average global loss: 0.7161105730384588 (over last 800 batches)\n",
      "Running average activity prediction loss: 0.4103858100250363 (Cross Entropy over last 800 batches)\n",
      "Running average time till next event prediction loss: 0.30572476394474507 (MAE over last 800 batches)\n",
      "------------------------------------------------------------\n"
     ]
    },
    {
     "name": "stderr",
     "output_type": "stream",
     "text": [
      "Batch calculation at epoch 40.: 4295it [06:00, 11.92it/s]\n"
     ]
    },
    {
     "name": "stdout",
     "output_type": "stream",
     "text": [
      "=======================================\n",
      "End of epoch 40\n",
      "=======================================\n",
      "Running average global loss: 0.7197411006689072 (over last 800 batches)\n",
      "Running average activity prediction loss: 0.41340006042271854 (Cross Entropy over last 800 batches)\n",
      "Running average time till next event prediction loss: 0.3063410409912467 (MAE over last 800 batches)\n"
     ]
    },
    {
     "name": "stderr",
     "output_type": "stream",
     "text": [
      "Validation batch calculation: 40it [00:23,  1.70it/s]\n"
     ]
    },
    {
     "name": "stdout",
     "output_type": "stream",
     "text": [
      "Avg MAE TTNE prediction validation set: 0.4612603485584259 (standardized) ; 17013.55625 (minutes)'\n",
      "Avg 1-(normalized) DL distance acitivty suffix prediction validation set: 0.844580352306366\n",
      "Percentage of suffixes predicted to END: too early - 0.29780710934902793 ; right moment - 0.633820505559181 ; too late - 0.06837238509179112\n",
      "Too early instances - avg amount of events too early: 1.697192668914795\n",
      "Too late instances - avg amount of events too late: 2.8150548934936523\n",
      "Avg absolute amount of events predicted too early / too late: 0.6979080438613892\n",
      "Avg MAE RRT prediction validation set:  37073.59166666667 (minutes)'\n",
      " \n",
      "------------------------------------\n",
      "EPOCH 41:\n",
      "____________________________________\n"
     ]
    },
    {
     "name": "stderr",
     "output_type": "stream",
     "text": [
      "Batch calculation at epoch 41.: 800it [01:08, 10.26it/s]"
     ]
    },
    {
     "name": "stdout",
     "output_type": "stream",
     "text": [
      "------------------------------------------------------------\n",
      "Epoch 41, batch 799:\n",
      "Average original gradient norm: 0.6109710305929184 (over last 800 batches)\n",
      "Average clipped gradient norm: 0.6109710305929184 (over last 800 batches)\n",
      "Running average global loss: 0.721735924705863 (over last 800 batches)\n",
      "Running average activity prediction loss: 0.4148312298208475 (Cross Entropy over last 800 batches)\n",
      "Running average time till next event prediction loss: 0.30690469382330776 (MAE over last 800 batches)\n",
      "------------------------------------------------------------\n"
     ]
    },
    {
     "name": "stderr",
     "output_type": "stream",
     "text": [
      "Batch calculation at epoch 41.: 1601it [02:18,  9.04it/s]"
     ]
    },
    {
     "name": "stdout",
     "output_type": "stream",
     "text": [
      "------------------------------------------------------------\n",
      "Epoch 41, batch 1599:\n",
      "Average original gradient norm: 0.6124898751080036 (over last 800 batches)\n",
      "Average clipped gradient norm: 0.6124898751080036 (over last 800 batches)\n",
      "Running average global loss: 0.717244669497013 (over last 800 batches)\n",
      "Running average activity prediction loss: 0.40985140297561884 (Cross Entropy over last 800 batches)\n",
      "Running average time till next event prediction loss: 0.30739326687529683 (MAE over last 800 batches)\n",
      "------------------------------------------------------------\n"
     ]
    },
    {
     "name": "stderr",
     "output_type": "stream",
     "text": [
      "Batch calculation at epoch 41.: 2401it [03:31,  8.82it/s]"
     ]
    },
    {
     "name": "stdout",
     "output_type": "stream",
     "text": [
      "------------------------------------------------------------\n",
      "Epoch 41, batch 2399:\n",
      "Average original gradient norm: 0.6190889889374376 (over last 800 batches)\n",
      "Average clipped gradient norm: 0.6190889889374376 (over last 800 batches)\n",
      "Running average global loss: 0.7184314712882042 (over last 800 batches)\n",
      "Running average activity prediction loss: 0.41332566771656276 (Cross Entropy over last 800 batches)\n",
      "Running average time till next event prediction loss: 0.30510580221191047 (MAE over last 800 batches)\n",
      "------------------------------------------------------------\n"
     ]
    },
    {
     "name": "stderr",
     "output_type": "stream",
     "text": [
      "Batch calculation at epoch 41.: 3201it [04:50, 12.82it/s]"
     ]
    },
    {
     "name": "stdout",
     "output_type": "stream",
     "text": [
      "------------------------------------------------------------\n",
      "Epoch 41, batch 3199:\n",
      "Average original gradient norm: 0.6083882258087396 (over last 800 batches)\n",
      "Average clipped gradient norm: 0.6083882258087396 (over last 800 batches)\n",
      "Running average global loss: 0.7190154018253088 (over last 800 batches)\n",
      "Running average activity prediction loss: 0.41332389920949936 (Cross Entropy over last 800 batches)\n",
      "Running average time till next event prediction loss: 0.3056915028579533 (MAE over last 800 batches)\n",
      "------------------------------------------------------------\n"
     ]
    },
    {
     "name": "stderr",
     "output_type": "stream",
     "text": [
      "Batch calculation at epoch 41.: 4001it [06:13,  9.89it/s]"
     ]
    },
    {
     "name": "stdout",
     "output_type": "stream",
     "text": [
      "------------------------------------------------------------\n",
      "Epoch 41, batch 3999:\n",
      "Average original gradient norm: 0.6017749489098787 (over last 800 batches)\n",
      "Average clipped gradient norm: 0.6017749489098787 (over last 800 batches)\n",
      "Running average global loss: 0.7153919975459576 (over last 800 batches)\n",
      "Running average activity prediction loss: 0.4098687807098031 (Cross Entropy over last 800 batches)\n",
      "Running average time till next event prediction loss: 0.30552321672439575 (MAE over last 800 batches)\n",
      "------------------------------------------------------------\n"
     ]
    },
    {
     "name": "stderr",
     "output_type": "stream",
     "text": [
      "Batch calculation at epoch 41.: 4295it [06:41, 10.69it/s]\n"
     ]
    },
    {
     "name": "stdout",
     "output_type": "stream",
     "text": [
      "=======================================\n",
      "End of epoch 41\n",
      "=======================================\n",
      "Running average global loss: 0.7140251411497593 (over last 800 batches)\n",
      "Running average activity prediction loss: 0.4091671772301197 (Cross Entropy over last 800 batches)\n",
      "Running average time till next event prediction loss: 0.30485796405002474 (MAE over last 800 batches)\n"
     ]
    },
    {
     "name": "stderr",
     "output_type": "stream",
     "text": [
      "Validation batch calculation: 40it [00:28,  1.43it/s]\n"
     ]
    },
    {
     "name": "stdout",
     "output_type": "stream",
     "text": [
      "Avg MAE TTNE prediction validation set: 0.4612669050693512 (standardized) ; 17019.254166666666 (minutes)'\n",
      "Avg 1-(normalized) DL distance acitivty suffix prediction validation set: 0.8444349765777588\n",
      "Percentage of suffixes predicted to END: too early - 0.29817649014368913 ; right moment - 0.633857443638647 ; too late - 0.0679660662176638\n",
      "Too early instances - avg amount of events too early: 1.6955444812774658\n",
      "Too late instances - avg amount of events too late: 2.8523550033569336\n",
      "Avg absolute amount of events predicted too early / too late: 0.6994348764419556\n",
      "Avg MAE RRT prediction validation set:  36871.666666666664 (minutes)'\n",
      " \n",
      "------------------------------------\n",
      "EPOCH 42:\n",
      "____________________________________\n"
     ]
    },
    {
     "name": "stderr",
     "output_type": "stream",
     "text": [
      "Batch calculation at epoch 42.: 802it [01:13, 10.22it/s]"
     ]
    },
    {
     "name": "stdout",
     "output_type": "stream",
     "text": [
      "------------------------------------------------------------\n",
      "Epoch 42, batch 799:\n",
      "Average original gradient norm: 0.6133552590757608 (over last 800 batches)\n",
      "Average clipped gradient norm: 0.6133552590757608 (over last 800 batches)\n",
      "Running average global loss: 0.7166477110981941 (over last 800 batches)\n",
      "Running average activity prediction loss: 0.4117171246930957 (Cross Entropy over last 800 batches)\n",
      "Running average time till next event prediction loss: 0.30493058629333974 (MAE over last 800 batches)\n",
      "------------------------------------------------------------\n"
     ]
    },
    {
     "name": "stderr",
     "output_type": "stream",
     "text": [
      "Batch calculation at epoch 42.: 1601it [02:28,  6.93it/s]"
     ]
    },
    {
     "name": "stdout",
     "output_type": "stream",
     "text": [
      "------------------------------------------------------------\n",
      "Epoch 42, batch 1599:\n",
      "Average original gradient norm: 0.5972423338145018 (over last 800 batches)\n",
      "Average clipped gradient norm: 0.5972423338145018 (over last 800 batches)\n",
      "Running average global loss: 0.7195184771716595 (over last 800 batches)\n",
      "Running average activity prediction loss: 0.4131558380275965 (Cross Entropy over last 800 batches)\n",
      "Running average time till next event prediction loss: 0.30636264054104684 (MAE over last 800 batches)\n",
      "------------------------------------------------------------\n"
     ]
    },
    {
     "name": "stderr",
     "output_type": "stream",
     "text": [
      "Batch calculation at epoch 42.: 2402it [03:50, 13.95it/s]"
     ]
    },
    {
     "name": "stdout",
     "output_type": "stream",
     "text": [
      "------------------------------------------------------------\n",
      "Epoch 42, batch 2399:\n",
      "Average original gradient norm: 0.5966864687204361 (over last 800 batches)\n",
      "Average clipped gradient norm: 0.5966864687204361 (over last 800 batches)\n",
      "Running average global loss: 0.7184149511903525 (over last 800 batches)\n",
      "Running average activity prediction loss: 0.41260611891746524 (Cross Entropy over last 800 batches)\n",
      "Running average time till next event prediction loss: 0.3058088313229382 (MAE over last 800 batches)\n",
      "------------------------------------------------------------\n"
     ]
    },
    {
     "name": "stderr",
     "output_type": "stream",
     "text": [
      "Batch calculation at epoch 42.: 3201it [04:47, 13.73it/s]"
     ]
    },
    {
     "name": "stdout",
     "output_type": "stream",
     "text": [
      "------------------------------------------------------------\n",
      "Epoch 42, batch 3199:\n",
      "Average original gradient norm: 0.6027789175882936 (over last 800 batches)\n",
      "Average clipped gradient norm: 0.6027789175882936 (over last 800 batches)\n",
      "Running average global loss: 0.7160581456869841 (over last 800 batches)\n",
      "Running average activity prediction loss: 0.4114105896279216 (Cross Entropy over last 800 batches)\n",
      "Running average time till next event prediction loss: 0.3046475556306541 (MAE over last 800 batches)\n",
      "------------------------------------------------------------\n"
     ]
    },
    {
     "name": "stderr",
     "output_type": "stream",
     "text": [
      "Batch calculation at epoch 42.: 4001it [06:03,  9.53it/s]"
     ]
    },
    {
     "name": "stdout",
     "output_type": "stream",
     "text": [
      "------------------------------------------------------------\n",
      "Epoch 42, batch 3999:\n",
      "Average original gradient norm: 0.6074664484336972 (over last 800 batches)\n",
      "Average clipped gradient norm: 0.6074664484336972 (over last 800 batches)\n",
      "Running average global loss: 0.7167611064016819 (over last 800 batches)\n",
      "Running average activity prediction loss: 0.4101807098649442 (Cross Entropy over last 800 batches)\n",
      "Running average time till next event prediction loss: 0.30658039640635254 (MAE over last 800 batches)\n",
      "------------------------------------------------------------\n"
     ]
    },
    {
     "name": "stderr",
     "output_type": "stream",
     "text": [
      "Batch calculation at epoch 42.: 4295it [06:36, 10.84it/s]\n"
     ]
    },
    {
     "name": "stdout",
     "output_type": "stream",
     "text": [
      "=======================================\n",
      "End of epoch 42\n",
      "=======================================\n",
      "Running average global loss: 0.7187183891236782 (over last 800 batches)\n",
      "Running average activity prediction loss: 0.4111976041458547 (Cross Entropy over last 800 batches)\n",
      "Running average time till next event prediction loss: 0.30752078428864477 (MAE over last 800 batches)\n"
     ]
    },
    {
     "name": "stderr",
     "output_type": "stream",
     "text": [
      "Validation batch calculation: 40it [00:26,  1.51it/s]\n"
     ]
    },
    {
     "name": "stdout",
     "output_type": "stream",
     "text": [
      "Avg MAE TTNE prediction validation set: 0.4629562795162201 (standardized) ; 17076.976041666665 (minutes)'\n",
      "Avg 1-(normalized) DL distance acitivty suffix prediction validation set: 0.8443619608879089\n",
      "Percentage of suffixes predicted to END: too early - 0.2968836573623749 ; right moment - 0.6336481278550057 ; too late - 0.0694682147826194\n",
      "Too early instances - avg amount of events too early: 1.6955043077468872\n",
      "Too late instances - avg amount of events too late: 2.839773178100586\n",
      "Avg absolute amount of events predicted too early / too late: 0.7006415128707886\n",
      "Avg MAE RRT prediction validation set:  37006.13333333333 (minutes)'\n",
      " \n",
      "------------------------------------\n",
      "EPOCH 43:\n",
      "____________________________________\n"
     ]
    },
    {
     "name": "stderr",
     "output_type": "stream",
     "text": [
      "Batch calculation at epoch 43.: 802it [01:14, 15.02it/s]"
     ]
    },
    {
     "name": "stdout",
     "output_type": "stream",
     "text": [
      "------------------------------------------------------------\n",
      "Epoch 43, batch 799:\n",
      "Average original gradient norm: 0.608375764079392 (over last 800 batches)\n",
      "Average clipped gradient norm: 0.608375764079392 (over last 800 batches)\n",
      "Running average global loss: 0.7181850653886795 (over last 800 batches)\n",
      "Running average activity prediction loss: 0.41042024809867145 (Cross Entropy over last 800 batches)\n",
      "Running average time till next event prediction loss: 0.3077648189291358 (MAE over last 800 batches)\n",
      "------------------------------------------------------------\n"
     ]
    },
    {
     "name": "stderr",
     "output_type": "stream",
     "text": [
      "Batch calculation at epoch 43.: 1601it [02:15,  7.82it/s]"
     ]
    },
    {
     "name": "stdout",
     "output_type": "stream",
     "text": [
      "------------------------------------------------------------\n",
      "Epoch 43, batch 1599:\n",
      "Average original gradient norm: 0.6096047569066286 (over last 800 batches)\n",
      "Average clipped gradient norm: 0.6096047569066286 (over last 800 batches)\n",
      "Running average global loss: 0.715049099996686 (over last 800 batches)\n",
      "Running average activity prediction loss: 0.40987398356199267 (Cross Entropy over last 800 batches)\n",
      "Running average time till next event prediction loss: 0.3051751152053475 (MAE over last 800 batches)\n",
      "------------------------------------------------------------\n"
     ]
    },
    {
     "name": "stderr",
     "output_type": "stream",
     "text": [
      "Batch calculation at epoch 43.: 2400it [03:49,  9.69it/s]"
     ]
    },
    {
     "name": "stdout",
     "output_type": "stream",
     "text": [
      "------------------------------------------------------------\n",
      "Epoch 43, batch 2399:\n",
      "Average original gradient norm: 0.6046488244831562 (over last 800 batches)\n",
      "Average clipped gradient norm: 0.6046488244831562 (over last 800 batches)\n",
      "Running average global loss: 0.717139897570014 (over last 800 batches)\n",
      "Running average activity prediction loss: 0.4119979660958052 (Cross Entropy over last 800 batches)\n",
      "Running average time till next event prediction loss: 0.3051419315300882 (MAE over last 800 batches)\n",
      "------------------------------------------------------------\n"
     ]
    },
    {
     "name": "stderr",
     "output_type": "stream",
     "text": [
      "Batch calculation at epoch 43.: 3201it [05:13, 14.27it/s]"
     ]
    },
    {
     "name": "stdout",
     "output_type": "stream",
     "text": [
      "------------------------------------------------------------\n",
      "Epoch 43, batch 3199:\n",
      "Average original gradient norm: 0.605463874079287 (over last 800 batches)\n",
      "Average clipped gradient norm: 0.605463874079287 (over last 800 batches)\n",
      "Running average global loss: 0.7165675727277994 (over last 800 batches)\n",
      "Running average activity prediction loss: 0.41152163200080394 (Cross Entropy over last 800 batches)\n",
      "Running average time till next event prediction loss: 0.3050459406711161 (MAE over last 800 batches)\n",
      "------------------------------------------------------------\n"
     ]
    },
    {
     "name": "stderr",
     "output_type": "stream",
     "text": [
      "Batch calculation at epoch 43.: 4003it [06:10, 21.65it/s]"
     ]
    },
    {
     "name": "stdout",
     "output_type": "stream",
     "text": [
      "------------------------------------------------------------\n",
      "Epoch 43, batch 3999:\n",
      "Average original gradient norm: 0.605660387724638 (over last 800 batches)\n",
      "Average clipped gradient norm: 0.605660387724638 (over last 800 batches)\n",
      "Running average global loss: 0.7200151418894529 (over last 800 batches)\n",
      "Running average activity prediction loss: 0.41430056177079677 (Cross Entropy over last 800 batches)\n",
      "Running average time till next event prediction loss: 0.3057145795971155 (MAE over last 800 batches)\n",
      "------------------------------------------------------------\n"
     ]
    },
    {
     "name": "stderr",
     "output_type": "stream",
     "text": [
      "Batch calculation at epoch 43.: 4295it [06:34, 10.90it/s]\n"
     ]
    },
    {
     "name": "stdout",
     "output_type": "stream",
     "text": [
      "=======================================\n",
      "End of epoch 43\n",
      "=======================================\n",
      "Running average global loss: 0.7197157353907824 (over last 800 batches)\n",
      "Running average activity prediction loss: 0.41370266500860453 (Cross Entropy over last 800 batches)\n",
      "Running average time till next event prediction loss: 0.30601307047531007 (MAE over last 800 batches)\n"
     ]
    },
    {
     "name": "stderr",
     "output_type": "stream",
     "text": [
      "Validation batch calculation: 40it [00:26,  1.51it/s]\n"
     ]
    },
    {
     "name": "stdout",
     "output_type": "stream",
     "text": [
      "Avg MAE TTNE prediction validation set: 0.46284744143486023 (standardized) ; 17077.023958333335 (minutes)'\n",
      "Avg 1-(normalized) DL distance acitivty suffix prediction validation set: 0.8445109128952026\n",
      "Percentage of suffixes predicted to END: too early - 0.29726535085019146 ; right moment - 0.6339928832633562 ; too late - 0.06874176588645234\n",
      "Too early instances - avg amount of events too early: 1.698256254196167\n",
      "Too late instances - avg amount of events too late: 2.8033316135406494\n",
      "Avg absolute amount of events predicted too early / too late: 0.6975386738777161\n",
      "Avg MAE RRT prediction validation set:  37037.416666666664 (minutes)'\n",
      " \n",
      "------------------------------------\n",
      "EPOCH 44:\n",
      "____________________________________\n"
     ]
    },
    {
     "name": "stderr",
     "output_type": "stream",
     "text": [
      "Batch calculation at epoch 44.: 801it [01:05,  8.17it/s]"
     ]
    },
    {
     "name": "stdout",
     "output_type": "stream",
     "text": [
      "------------------------------------------------------------\n",
      "Epoch 44, batch 799:\n",
      "Average original gradient norm: 0.6098238885775209 (over last 800 batches)\n",
      "Average clipped gradient norm: 0.6098238885775209 (over last 800 batches)\n",
      "Running average global loss: 0.7133644698560238 (over last 800 batches)\n",
      "Running average activity prediction loss: 0.40859289940446614 (Cross Entropy over last 800 batches)\n",
      "Running average time till next event prediction loss: 0.3047715715132654 (MAE over last 800 batches)\n",
      "------------------------------------------------------------\n"
     ]
    },
    {
     "name": "stderr",
     "output_type": "stream",
     "text": [
      "Batch calculation at epoch 44.: 1601it [02:29,  9.32it/s]"
     ]
    },
    {
     "name": "stdout",
     "output_type": "stream",
     "text": [
      "------------------------------------------------------------\n",
      "Epoch 44, batch 1599:\n",
      "Average original gradient norm: 0.6028165020793677 (over last 800 batches)\n",
      "Average clipped gradient norm: 0.6028165020793677 (over last 800 batches)\n",
      "Running average global loss: 0.7197138570249081 (over last 800 batches)\n",
      "Running average activity prediction loss: 0.4124949176982045 (Cross Entropy over last 800 batches)\n",
      "Running average time till next event prediction loss: 0.30721894022077323 (MAE over last 800 batches)\n",
      "------------------------------------------------------------\n"
     ]
    },
    {
     "name": "stderr",
     "output_type": "stream",
     "text": [
      "Batch calculation at epoch 44.: 2402it [03:37, 16.60it/s]"
     ]
    },
    {
     "name": "stdout",
     "output_type": "stream",
     "text": [
      "------------------------------------------------------------\n",
      "Epoch 44, batch 2399:\n",
      "Average original gradient norm: 0.6022165727242828 (over last 800 batches)\n",
      "Average clipped gradient norm: 0.6022165727242828 (over last 800 batches)\n",
      "Running average global loss: 0.7184082099050283 (over last 800 batches)\n",
      "Running average activity prediction loss: 0.41250388108193875 (Cross Entropy over last 800 batches)\n",
      "Running average time till next event prediction loss: 0.3059043292887509 (MAE over last 800 batches)\n",
      "------------------------------------------------------------\n"
     ]
    },
    {
     "name": "stderr",
     "output_type": "stream",
     "text": [
      "Batch calculation at epoch 44.: 3204it [04:21, 26.74it/s]"
     ]
    },
    {
     "name": "stdout",
     "output_type": "stream",
     "text": [
      "------------------------------------------------------------\n",
      "Epoch 44, batch 3199:\n",
      "Average original gradient norm: 0.6047579850256443 (over last 800 batches)\n",
      "Average clipped gradient norm: 0.6047579850256443 (over last 800 batches)\n",
      "Running average global loss: 0.71665880843997 (over last 800 batches)\n",
      "Running average activity prediction loss: 0.41038979634642603 (Cross Entropy over last 800 batches)\n",
      "Running average time till next event prediction loss: 0.3062690121680498 (MAE over last 800 batches)\n",
      "------------------------------------------------------------\n"
     ]
    },
    {
     "name": "stderr",
     "output_type": "stream",
     "text": [
      "Batch calculation at epoch 44.: 4003it [05:26, 14.91it/s]"
     ]
    },
    {
     "name": "stdout",
     "output_type": "stream",
     "text": [
      "------------------------------------------------------------\n",
      "Epoch 44, batch 3999:\n",
      "Average original gradient norm: 0.6042090144008399 (over last 800 batches)\n",
      "Average clipped gradient norm: 0.60418094702065 (over last 800 batches)\n",
      "Running average global loss: 0.7174666993319988 (over last 800 batches)\n",
      "Running average activity prediction loss: 0.4115689392387867 (Cross Entropy over last 800 batches)\n",
      "Running average time till next event prediction loss: 0.3058977594226599 (MAE over last 800 batches)\n",
      "------------------------------------------------------------\n"
     ]
    },
    {
     "name": "stderr",
     "output_type": "stream",
     "text": [
      "Batch calculation at epoch 44.: 4295it [05:44, 12.46it/s]\n"
     ]
    },
    {
     "name": "stdout",
     "output_type": "stream",
     "text": [
      "=======================================\n",
      "End of epoch 44\n",
      "=======================================\n",
      "Running average global loss: 0.7171622325479984 (over last 800 batches)\n",
      "Running average activity prediction loss: 0.4124603190273046 (Cross Entropy over last 800 batches)\n",
      "Running average time till next event prediction loss: 0.3047019144333899 (MAE over last 800 batches)\n"
     ]
    },
    {
     "name": "stderr",
     "output_type": "stream",
     "text": [
      "Validation batch calculation: 40it [00:27,  1.44it/s]\n"
     ]
    },
    {
     "name": "stdout",
     "output_type": "stream",
     "text": [
      "Avg MAE TTNE prediction validation set: 0.4626370668411255 (standardized) ; 17070.614583333332 (minutes)'\n",
      "Avg 1-(normalized) DL distance acitivty suffix prediction validation set: 0.8443090915679932\n",
      "Percentage of suffixes predicted to END: too early - 0.29911225482349757 ; right moment - 0.6339805705702009 ; too late - 0.06690717460630163\n",
      "Too early instances - avg amount of events too early: 1.7000782489776611\n",
      "Too late instances - avg amount of events too late: 2.8266470432281494\n",
      "Avg absolute amount of events predicted too early / too late: 0.6976372003555298\n",
      "Avg MAE RRT prediction validation set:  36854.42083333333 (minutes)'\n",
      " \n",
      "------------------------------------\n",
      "EPOCH 45:\n",
      "____________________________________\n"
     ]
    },
    {
     "name": "stderr",
     "output_type": "stream",
     "text": [
      "Batch calculation at epoch 45.: 801it [00:48, 21.52it/s]"
     ]
    },
    {
     "name": "stdout",
     "output_type": "stream",
     "text": [
      "------------------------------------------------------------\n",
      "Epoch 45, batch 799:\n",
      "Average original gradient norm: 0.5982113218307495 (over last 800 batches)\n",
      "Average clipped gradient norm: 0.5982113218307495 (over last 800 batches)\n",
      "Running average global loss: 0.7176415184885263 (over last 800 batches)\n",
      "Running average activity prediction loss: 0.4111530278995633 (Cross Entropy over last 800 batches)\n",
      "Running average time till next event prediction loss: 0.30648849040269854 (MAE over last 800 batches)\n",
      "------------------------------------------------------------\n"
     ]
    },
    {
     "name": "stderr",
     "output_type": "stream",
     "text": [
      "Batch calculation at epoch 45.: 1602it [01:49, 17.48it/s]"
     ]
    },
    {
     "name": "stdout",
     "output_type": "stream",
     "text": [
      "------------------------------------------------------------\n",
      "Epoch 45, batch 1599:\n",
      "Average original gradient norm: 0.5838197554647923 (over last 800 batches)\n",
      "Average clipped gradient norm: 0.5838197554647923 (over last 800 batches)\n",
      "Running average global loss: 0.7165855772793293 (over last 800 batches)\n",
      "Running average activity prediction loss: 0.4110812380723655 (Cross Entropy over last 800 batches)\n",
      "Running average time till next event prediction loss: 0.3055043401569128 (MAE over last 800 batches)\n",
      "------------------------------------------------------------\n"
     ]
    },
    {
     "name": "stderr",
     "output_type": "stream",
     "text": [
      "Batch calculation at epoch 45.: 2404it [02:38, 22.68it/s]"
     ]
    },
    {
     "name": "stdout",
     "output_type": "stream",
     "text": [
      "------------------------------------------------------------\n",
      "Epoch 45, batch 2399:\n",
      "Average original gradient norm: 0.6071893963217735 (over last 800 batches)\n",
      "Average clipped gradient norm: 0.6071893963217735 (over last 800 batches)\n",
      "Running average global loss: 0.7164431548118592 (over last 800 batches)\n",
      "Running average activity prediction loss: 0.41080289755016564 (Cross Entropy over last 800 batches)\n",
      "Running average time till next event prediction loss: 0.30564025800675154 (MAE over last 800 batches)\n",
      "------------------------------------------------------------\n"
     ]
    },
    {
     "name": "stderr",
     "output_type": "stream",
     "text": [
      "Batch calculation at epoch 45.: 3203it [03:03, 24.53it/s]"
     ]
    },
    {
     "name": "stdout",
     "output_type": "stream",
     "text": [
      "------------------------------------------------------------\n",
      "Epoch 45, batch 3199:\n",
      "Average original gradient norm: 0.6057199523597956 (over last 800 batches)\n",
      "Average clipped gradient norm: 0.6057199523597956 (over last 800 batches)\n",
      "Running average global loss: 0.7185389380902052 (over last 800 batches)\n",
      "Running average activity prediction loss: 0.4132232981175184 (Cross Entropy over last 800 batches)\n",
      "Running average time till next event prediction loss: 0.3053156380541623 (MAE over last 800 batches)\n",
      "------------------------------------------------------------\n"
     ]
    },
    {
     "name": "stderr",
     "output_type": "stream",
     "text": [
      "Batch calculation at epoch 45.: 4001it [03:25, 34.75it/s]"
     ]
    },
    {
     "name": "stdout",
     "output_type": "stream",
     "text": [
      "------------------------------------------------------------\n",
      "Epoch 45, batch 3999:\n",
      "Average original gradient norm: 0.6163532043620944 (over last 800 batches)\n",
      "Average clipped gradient norm: 0.6163532043620944 (over last 800 batches)\n",
      "Running average global loss: 0.7161399130523205 (over last 800 batches)\n",
      "Running average activity prediction loss: 0.4107566971704364 (Cross Entropy over last 800 batches)\n",
      "Running average time till next event prediction loss: 0.3053832160681486 (MAE over last 800 batches)\n",
      "------------------------------------------------------------\n"
     ]
    },
    {
     "name": "stderr",
     "output_type": "stream",
     "text": [
      "Batch calculation at epoch 45.: 4295it [03:41, 19.35it/s]\n"
     ]
    },
    {
     "name": "stdout",
     "output_type": "stream",
     "text": [
      "=======================================\n",
      "End of epoch 45\n",
      "=======================================\n",
      "Running average global loss: 0.7157576307654381 (over last 800 batches)\n",
      "Running average activity prediction loss: 0.4103834103420377 (Cross Entropy over last 800 batches)\n",
      "Running average time till next event prediction loss: 0.3053742203861475 (MAE over last 800 batches)\n"
     ]
    },
    {
     "name": "stderr",
     "output_type": "stream",
     "text": [
      "Validation batch calculation: 40it [00:23,  1.67it/s]\n"
     ]
    },
    {
     "name": "stdout",
     "output_type": "stream",
     "text": [
      "Avg MAE TTNE prediction validation set: 0.46208757162094116 (standardized) ; 17047.794791666667 (minutes)'\n",
      "Avg 1-(normalized) DL distance acitivty suffix prediction validation set: 0.844573974609375\n",
      "Percentage of suffixes predicted to END: too early - 0.29774554588325103 ; right moment - 0.6338943817181132 ; too late - 0.06836007239863576\n",
      "Too early instances - avg amount of events too early: 1.6976263523101807\n",
      "Too late instances - avg amount of events too late: 2.8081772327423096\n",
      "Avg absolute amount of events predicted too early / too late: 0.6974278688430786\n",
      "Avg MAE RRT prediction validation set:  36921.8625 (minutes)'\n",
      " \n",
      "------------------------------------\n",
      "EPOCH 46:\n",
      "____________________________________\n"
     ]
    },
    {
     "name": "stderr",
     "output_type": "stream",
     "text": [
      "Batch calculation at epoch 46.: 801it [00:39, 13.71it/s]"
     ]
    },
    {
     "name": "stdout",
     "output_type": "stream",
     "text": [
      "------------------------------------------------------------\n",
      "Epoch 46, batch 799:\n",
      "Average original gradient norm: 0.5936316791176796 (over last 800 batches)\n",
      "Average clipped gradient norm: 0.5936316791176796 (over last 800 batches)\n",
      "Running average global loss: 0.7165674081444741 (over last 800 batches)\n",
      "Running average activity prediction loss: 0.4098225828632712 (Cross Entropy over last 800 batches)\n",
      "Running average time till next event prediction loss: 0.3067448259331286 (MAE over last 800 batches)\n",
      "------------------------------------------------------------\n"
     ]
    },
    {
     "name": "stderr",
     "output_type": "stream",
     "text": [
      "Batch calculation at epoch 46.: 1602it [01:14, 21.13it/s]"
     ]
    },
    {
     "name": "stdout",
     "output_type": "stream",
     "text": [
      "------------------------------------------------------------\n",
      "Epoch 46, batch 1599:\n",
      "Average original gradient norm: 0.6051050182431936 (over last 800 batches)\n",
      "Average clipped gradient norm: 0.6051050182431936 (over last 800 batches)\n",
      "Running average global loss: 0.7175131185352802 (over last 800 batches)\n",
      "Running average activity prediction loss: 0.4123353355377912 (Cross Entropy over last 800 batches)\n",
      "Running average time till next event prediction loss: 0.30517778428271414 (MAE over last 800 batches)\n",
      "------------------------------------------------------------\n"
     ]
    },
    {
     "name": "stderr",
     "output_type": "stream",
     "text": [
      "Batch calculation at epoch 46.: 2404it [01:42, 41.50it/s]"
     ]
    },
    {
     "name": "stdout",
     "output_type": "stream",
     "text": [
      "------------------------------------------------------------\n",
      "Epoch 46, batch 2399:\n",
      "Average original gradient norm: 0.6166404615342617 (over last 800 batches)\n",
      "Average clipped gradient norm: 0.6166404615342617 (over last 800 batches)\n",
      "Running average global loss: 0.7180927827954292 (over last 800 batches)\n",
      "Running average activity prediction loss: 0.41178340654820206 (Cross Entropy over last 800 batches)\n",
      "Running average time till next event prediction loss: 0.3063093758374453 (MAE over last 800 batches)\n",
      "------------------------------------------------------------\n"
     ]
    },
    {
     "name": "stderr",
     "output_type": "stream",
     "text": [
      "Batch calculation at epoch 46.: 3203it [02:16, 18.31it/s]"
     ]
    },
    {
     "name": "stdout",
     "output_type": "stream",
     "text": [
      "------------------------------------------------------------\n",
      "Epoch 46, batch 3199:\n",
      "Average original gradient norm: 0.6005424280837178 (over last 800 batches)\n",
      "Average clipped gradient norm: 0.6005424280837178 (over last 800 batches)\n",
      "Running average global loss: 0.7151502201706171 (over last 800 batches)\n",
      "Running average activity prediction loss: 0.4097653105482459 (Cross Entropy over last 800 batches)\n",
      "Running average time till next event prediction loss: 0.30538490979000926 (MAE over last 800 batches)\n",
      "------------------------------------------------------------\n"
     ]
    },
    {
     "name": "stderr",
     "output_type": "stream",
     "text": [
      "Batch calculation at epoch 46.: 4004it [02:44, 20.08it/s]"
     ]
    },
    {
     "name": "stdout",
     "output_type": "stream",
     "text": [
      "------------------------------------------------------------\n",
      "Epoch 46, batch 3999:\n",
      "Average original gradient norm: 0.5932999469712377 (over last 800 batches)\n",
      "Average clipped gradient norm: 0.5932999469712377 (over last 800 batches)\n",
      "Running average global loss: 0.7167874243110418 (over last 800 batches)\n",
      "Running average activity prediction loss: 0.4115860553458333 (Cross Entropy over last 800 batches)\n",
      "Running average time till next event prediction loss: 0.30520136807113885 (MAE over last 800 batches)\n",
      "------------------------------------------------------------\n"
     ]
    },
    {
     "name": "stderr",
     "output_type": "stream",
     "text": [
      "Batch calculation at epoch 46.: 4295it [02:54, 24.56it/s]\n"
     ]
    },
    {
     "name": "stdout",
     "output_type": "stream",
     "text": [
      "=======================================\n",
      "End of epoch 46\n",
      "=======================================\n",
      "Running average global loss: 0.7153392209112645 (over last 800 batches)\n",
      "Running average activity prediction loss: 0.41040157951414585 (Cross Entropy over last 800 batches)\n",
      "Running average time till next event prediction loss: 0.30493763983249667 (MAE over last 800 batches)\n"
     ]
    },
    {
     "name": "stderr",
     "output_type": "stream",
     "text": [
      "Validation batch calculation: 40it [00:30,  1.33it/s]\n"
     ]
    },
    {
     "name": "stdout",
     "output_type": "stream",
     "text": [
      "Avg MAE TTNE prediction validation set: 0.4623655378818512 (standardized) ; 17058.21875 (minutes)'\n",
      "Avg 1-(normalized) DL distance acitivty suffix prediction validation set: 0.8444395065307617\n",
      "Percentage of suffixes predicted to END: too early - 0.2984227440067966 ; right moment - 0.6336973786276272 ; too late - 0.06787987736557617\n",
      "Too early instances - avg amount of events too early: 1.6941040754318237\n",
      "Too late instances - avg amount of events too late: 2.83674955368042\n",
      "Avg absolute amount of events predicted too early / too late: 0.6981173753738403\n",
      "Avg MAE RRT prediction validation set:  37027.3625 (minutes)'\n",
      " \n",
      "------------------------------------\n",
      "EPOCH 47:\n",
      "____________________________________\n"
     ]
    },
    {
     "name": "stderr",
     "output_type": "stream",
     "text": [
      "Batch calculation at epoch 47.: 802it [00:35, 14.00it/s]"
     ]
    },
    {
     "name": "stdout",
     "output_type": "stream",
     "text": [
      "------------------------------------------------------------\n",
      "Epoch 47, batch 799:\n",
      "Average original gradient norm: 0.6016833206266164 (over last 800 batches)\n",
      "Average clipped gradient norm: 0.6016833206266164 (over last 800 batches)\n",
      "Running average global loss: 0.7151681461185216 (over last 800 batches)\n",
      "Running average activity prediction loss: 0.4086380486004055 (Cross Entropy over last 800 batches)\n",
      "Running average time till next event prediction loss: 0.30653009861707686 (MAE over last 800 batches)\n",
      "------------------------------------------------------------\n"
     ]
    },
    {
     "name": "stderr",
     "output_type": "stream",
     "text": [
      "Batch calculation at epoch 47.: 1601it [01:17, 13.86it/s]"
     ]
    },
    {
     "name": "stdout",
     "output_type": "stream",
     "text": [
      "------------------------------------------------------------\n",
      "Epoch 47, batch 1599:\n",
      "Average original gradient norm: 0.5851650393381714 (over last 800 batches)\n",
      "Average clipped gradient norm: 0.5851650393381714 (over last 800 batches)\n",
      "Running average global loss: 0.7153533865511418 (over last 800 batches)\n",
      "Running average activity prediction loss: 0.4100617243535817 (Cross Entropy over last 800 batches)\n",
      "Running average time till next event prediction loss: 0.3052916622534394 (MAE over last 800 batches)\n",
      "------------------------------------------------------------\n"
     ]
    },
    {
     "name": "stderr",
     "output_type": "stream",
     "text": [
      "Batch calculation at epoch 47.: 2401it [02:06, 13.94it/s]"
     ]
    },
    {
     "name": "stdout",
     "output_type": "stream",
     "text": [
      "------------------------------------------------------------\n",
      "Epoch 47, batch 2399:\n",
      "Average original gradient norm: 0.5924144389852881 (over last 800 batches)\n",
      "Average clipped gradient norm: 0.5924144389852881 (over last 800 batches)\n",
      "Running average global loss: 0.7167164971679449 (over last 800 batches)\n",
      "Running average activity prediction loss: 0.41134087469428776 (Cross Entropy over last 800 batches)\n",
      "Running average time till next event prediction loss: 0.3053756218031049 (MAE over last 800 batches)\n",
      "------------------------------------------------------------\n"
     ]
    },
    {
     "name": "stderr",
     "output_type": "stream",
     "text": [
      "Batch calculation at epoch 47.: 3202it [03:06, 19.53it/s]"
     ]
    },
    {
     "name": "stdout",
     "output_type": "stream",
     "text": [
      "------------------------------------------------------------\n",
      "Epoch 47, batch 3199:\n",
      "Average original gradient norm: 0.5939736648276448 (over last 800 batches)\n",
      "Average clipped gradient norm: 0.5939736648276448 (over last 800 batches)\n",
      "Running average global loss: 0.7179294254630804 (over last 800 batches)\n",
      "Running average activity prediction loss: 0.412611623480916 (Cross Entropy over last 800 batches)\n",
      "Running average time till next event prediction loss: 0.3053178019821644 (MAE over last 800 batches)\n",
      "------------------------------------------------------------\n"
     ]
    },
    {
     "name": "stderr",
     "output_type": "stream",
     "text": [
      "Batch calculation at epoch 47.: 4005it [03:30, 46.91it/s]"
     ]
    },
    {
     "name": "stdout",
     "output_type": "stream",
     "text": [
      "------------------------------------------------------------\n",
      "Epoch 47, batch 3999:\n",
      "Average original gradient norm: 0.5977743272855878 (over last 800 batches)\n",
      "Average clipped gradient norm: 0.5977743272855878 (over last 800 batches)\n",
      "Running average global loss: 0.7153891887515783 (over last 800 batches)\n",
      "Running average activity prediction loss: 0.4102212676405907 (Cross Entropy over last 800 batches)\n",
      "Running average time till next event prediction loss: 0.3051679216139018 (MAE over last 800 batches)\n",
      "------------------------------------------------------------\n"
     ]
    },
    {
     "name": "stderr",
     "output_type": "stream",
     "text": [
      "Batch calculation at epoch 47.: 4295it [03:36, 19.86it/s]\n"
     ]
    },
    {
     "name": "stdout",
     "output_type": "stream",
     "text": [
      "=======================================\n",
      "End of epoch 47\n",
      "=======================================\n",
      "Running average global loss: 0.7163460426032543 (over last 800 batches)\n",
      "Running average activity prediction loss: 0.4111149436235428 (Cross Entropy over last 800 batches)\n",
      "Running average time till next event prediction loss: 0.3052310985140502 (MAE over last 800 batches)\n"
     ]
    },
    {
     "name": "stderr",
     "output_type": "stream",
     "text": [
      "Validation batch calculation: 40it [00:23,  1.70it/s]\n"
     ]
    },
    {
     "name": "stdout",
     "output_type": "stream",
     "text": [
      "Avg MAE TTNE prediction validation set: 0.4594326615333557 (standardized) ; 16951.677083333332 (minutes)'\n",
      "Avg 1-(normalized) DL distance acitivty suffix prediction validation set: 0.8444695472717285\n",
      "Percentage of suffixes predicted to END: too early - 0.29783173473533864 ; right moment - 0.6340051959565116 ; too late - 0.06816306930814978\n",
      "Too early instances - avg amount of events too early: 1.6975897550582886\n",
      "Too late instances - avg amount of events too late: 2.829299211502075\n",
      "Avg absolute amount of events predicted too early / too late: 0.6984498500823975\n",
      "Avg MAE RRT prediction validation set:  37279.975 (minutes)'\n",
      " \n",
      "------------------------------------\n",
      "EPOCH 48:\n",
      "____________________________________\n"
     ]
    },
    {
     "name": "stderr",
     "output_type": "stream",
     "text": [
      "Batch calculation at epoch 48.: 802it [00:51, 10.84it/s]"
     ]
    },
    {
     "name": "stdout",
     "output_type": "stream",
     "text": [
      "------------------------------------------------------------\n",
      "Epoch 48, batch 799:\n",
      "Average original gradient norm: 0.5998994497209788 (over last 800 batches)\n",
      "Average clipped gradient norm: 0.5998994497209788 (over last 800 batches)\n",
      "Running average global loss: 0.7156431253254414 (over last 800 batches)\n",
      "Running average activity prediction loss: 0.4106416621431708 (Cross Entropy over last 800 batches)\n",
      "Running average time till next event prediction loss: 0.30500146379694343 (MAE over last 800 batches)\n",
      "------------------------------------------------------------\n"
     ]
    },
    {
     "name": "stderr",
     "output_type": "stream",
     "text": [
      "Batch calculation at epoch 48.: 1605it [01:39, 31.40it/s]"
     ]
    },
    {
     "name": "stdout",
     "output_type": "stream",
     "text": [
      "------------------------------------------------------------\n",
      "Epoch 48, batch 1599:\n",
      "Average original gradient norm: 0.5953732259944081 (over last 800 batches)\n",
      "Average clipped gradient norm: 0.5953732259944081 (over last 800 batches)\n",
      "Running average global loss: 0.7176021946966649 (over last 800 batches)\n",
      "Running average activity prediction loss: 0.4114302419871092 (Cross Entropy over last 800 batches)\n",
      "Running average time till next event prediction loss: 0.306171953137964 (MAE over last 800 batches)\n",
      "------------------------------------------------------------\n"
     ]
    },
    {
     "name": "stderr",
     "output_type": "stream",
     "text": [
      "Batch calculation at epoch 48.: 2409it [02:02, 47.05it/s]"
     ]
    },
    {
     "name": "stdout",
     "output_type": "stream",
     "text": [
      "------------------------------------------------------------\n",
      "Epoch 48, batch 2399:\n",
      "Average original gradient norm: 0.6088377789780498 (over last 800 batches)\n",
      "Average clipped gradient norm: 0.6088377789780498 (over last 800 batches)\n",
      "Running average global loss: 0.7129102558642626 (over last 800 batches)\n",
      "Running average activity prediction loss: 0.4081348324939609 (Cross Entropy over last 800 batches)\n",
      "Running average time till next event prediction loss: 0.3047754236496985 (MAE over last 800 batches)\n",
      "------------------------------------------------------------\n"
     ]
    },
    {
     "name": "stderr",
     "output_type": "stream",
     "text": [
      "Batch calculation at epoch 48.: 3206it [02:21, 54.28it/s]"
     ]
    },
    {
     "name": "stdout",
     "output_type": "stream",
     "text": [
      "------------------------------------------------------------\n",
      "Epoch 48, batch 3199:\n",
      "Average original gradient norm: 0.6031487946212292 (over last 800 batches)\n",
      "Average clipped gradient norm: 0.6031487946212292 (over last 800 batches)\n",
      "Running average global loss: 0.7160272470116615 (over last 800 batches)\n",
      "Running average activity prediction loss: 0.409870502576232 (Cross Entropy over last 800 batches)\n",
      "Running average time till next event prediction loss: 0.3061567445844412 (MAE over last 800 batches)\n",
      "------------------------------------------------------------\n"
     ]
    },
    {
     "name": "stderr",
     "output_type": "stream",
     "text": [
      "Batch calculation at epoch 48.: 4002it [02:53, 17.62it/s]"
     ]
    },
    {
     "name": "stdout",
     "output_type": "stream",
     "text": [
      "------------------------------------------------------------\n",
      "Epoch 48, batch 3999:\n",
      "Average original gradient norm: 0.5798796690627932 (over last 800 batches)\n",
      "Average clipped gradient norm: 0.5798796690627932 (over last 800 batches)\n",
      "Running average global loss: 0.7160484114289284 (over last 800 batches)\n",
      "Running average activity prediction loss: 0.41121456868946554 (Cross Entropy over last 800 batches)\n",
      "Running average time till next event prediction loss: 0.3048338426835835 (MAE over last 800 batches)\n",
      "------------------------------------------------------------\n"
     ]
    },
    {
     "name": "stderr",
     "output_type": "stream",
     "text": [
      "Batch calculation at epoch 48.: 4295it [03:09, 22.68it/s]\n"
     ]
    },
    {
     "name": "stdout",
     "output_type": "stream",
     "text": [
      "=======================================\n",
      "End of epoch 48\n",
      "=======================================\n",
      "Running average global loss: 0.7182837419956922 (over last 800 batches)\n",
      "Running average activity prediction loss: 0.412715411670506 (Cross Entropy over last 800 batches)\n",
      "Running average time till next event prediction loss: 0.3055683300457895 (MAE over last 800 batches)\n"
     ]
    },
    {
     "name": "stderr",
     "output_type": "stream",
     "text": [
      "Validation batch calculation: 40it [00:23,  1.74it/s]\n"
     ]
    },
    {
     "name": "stdout",
     "output_type": "stream",
     "text": [
      "Avg MAE TTNE prediction validation set: 0.46090948581695557 (standardized) ; 17004.96875 (minutes)'\n",
      "Avg 1-(normalized) DL distance acitivty suffix prediction validation set: 0.8444247841835022\n",
      "Percentage of suffixes predicted to END: too early - 0.29774554588325103 ; right moment - 0.6337589420934041 ; too late - 0.06849551202334486\n",
      "Too early instances - avg amount of events too early: 1.6960549354553223\n",
      "Too late instances - avg amount of events too late: 2.8409130573272705\n",
      "Avg absolute amount of events predicted too early / too late: 0.699582576751709\n",
      "Avg MAE RRT prediction validation set:  36975.54583333333 (minutes)'\n",
      " \n",
      "------------------------------------\n",
      "EPOCH 49:\n",
      "____________________________________\n"
     ]
    },
    {
     "name": "stderr",
     "output_type": "stream",
     "text": [
      "Batch calculation at epoch 49.: 801it [00:42, 12.70it/s]"
     ]
    },
    {
     "name": "stdout",
     "output_type": "stream",
     "text": [
      "------------------------------------------------------------\n",
      "Epoch 49, batch 799:\n",
      "Average original gradient norm: 0.5984068920090795 (over last 800 batches)\n",
      "Average clipped gradient norm: 0.5984068920090795 (over last 800 batches)\n",
      "Running average global loss: 0.7154038195312024 (over last 800 batches)\n",
      "Running average activity prediction loss: 0.40984003826975823 (Cross Entropy over last 800 batches)\n",
      "Running average time till next event prediction loss: 0.30556377975270155 (MAE over last 800 batches)\n",
      "------------------------------------------------------------\n"
     ]
    },
    {
     "name": "stderr",
     "output_type": "stream",
     "text": [
      "Batch calculation at epoch 49.: 1605it [01:14, 32.03it/s]"
     ]
    },
    {
     "name": "stdout",
     "output_type": "stream",
     "text": [
      "------------------------------------------------------------\n",
      "Epoch 49, batch 1599:\n",
      "Average original gradient norm: 0.6030707994475961 (over last 800 batches)\n",
      "Average clipped gradient norm: 0.6030707994475961 (over last 800 batches)\n",
      "Running average global loss: 0.7164017668366433 (over last 800 batches)\n",
      "Running average activity prediction loss: 0.4100451350957155 (Cross Entropy over last 800 batches)\n",
      "Running average time till next event prediction loss: 0.30635663216933606 (MAE over last 800 batches)\n",
      "------------------------------------------------------------\n"
     ]
    },
    {
     "name": "stderr",
     "output_type": "stream",
     "text": [
      "Batch calculation at epoch 49.: 2406it [01:47, 38.31it/s]"
     ]
    },
    {
     "name": "stdout",
     "output_type": "stream",
     "text": [
      "------------------------------------------------------------\n",
      "Epoch 49, batch 2399:\n",
      "Average original gradient norm: 0.6010803432017565 (over last 800 batches)\n",
      "Average clipped gradient norm: 0.6010803432017565 (over last 800 batches)\n",
      "Running average global loss: 0.7186344288289547 (over last 800 batches)\n",
      "Running average activity prediction loss: 0.4130914101004601 (Cross Entropy over last 800 batches)\n",
      "Running average time till next event prediction loss: 0.30554301826283337 (MAE over last 800 batches)\n",
      "------------------------------------------------------------\n"
     ]
    },
    {
     "name": "stderr",
     "output_type": "stream",
     "text": [
      "Batch calculation at epoch 49.: 3202it [02:09, 62.61it/s]"
     ]
    },
    {
     "name": "stdout",
     "output_type": "stream",
     "text": [
      "------------------------------------------------------------\n",
      "Epoch 49, batch 3199:\n",
      "Average original gradient norm: 0.6002931972965598 (over last 800 batches)\n",
      "Average clipped gradient norm: 0.6000036711618304 (over last 800 batches)\n",
      "Running average global loss: 0.7141880311071873 (over last 800 batches)\n",
      "Running average activity prediction loss: 0.4095694338902831 (Cross Entropy over last 800 batches)\n",
      "Running average time till next event prediction loss: 0.3046185954287648 (MAE over last 800 batches)\n",
      "------------------------------------------------------------\n"
     ]
    },
    {
     "name": "stderr",
     "output_type": "stream",
     "text": [
      "Batch calculation at epoch 49.: 4004it [02:31, 27.10it/s]"
     ]
    },
    {
     "name": "stdout",
     "output_type": "stream",
     "text": [
      "------------------------------------------------------------\n",
      "Epoch 49, batch 3999:\n",
      "Average original gradient norm: 0.5973192064836621 (over last 800 batches)\n",
      "Average clipped gradient norm: 0.5973192064836621 (over last 800 batches)\n",
      "Running average global loss: 0.7152077659219503 (over last 800 batches)\n",
      "Running average activity prediction loss: 0.40985404945909976 (Cross Entropy over last 800 batches)\n",
      "Running average time till next event prediction loss: 0.30535371726378796 (MAE over last 800 batches)\n",
      "------------------------------------------------------------\n"
     ]
    },
    {
     "name": "stderr",
     "output_type": "stream",
     "text": [
      "Batch calculation at epoch 49.: 4295it [02:43, 26.27it/s]\n"
     ]
    },
    {
     "name": "stdout",
     "output_type": "stream",
     "text": [
      "=======================================\n",
      "End of epoch 49\n",
      "=======================================\n",
      "Running average global loss: 0.7160984988510609 (over last 800 batches)\n",
      "Running average activity prediction loss: 0.4112099327519536 (Cross Entropy over last 800 batches)\n",
      "Running average time till next event prediction loss: 0.3048885674774647 (MAE over last 800 batches)\n"
     ]
    },
    {
     "name": "stderr",
     "output_type": "stream",
     "text": [
      "Validation batch calculation: 40it [00:22,  1.81it/s]\n"
     ]
    },
    {
     "name": "stdout",
     "output_type": "stream",
     "text": [
      "Avg MAE TTNE prediction validation set: 0.4632689654827118 (standardized) ; 17093.742708333335 (minutes)'\n",
      "Avg 1-(normalized) DL distance acitivty suffix prediction validation set: 0.8444611430168152\n",
      "Percentage of suffixes predicted to END: too early - 0.29788098550796016 ; right moment - 0.6337958801728703 ; too late - 0.06832313431916963\n",
      "Too early instances - avg amount of events too early: 1.6975984573364258\n",
      "Too late instances - avg amount of events too late: 2.814741373062134\n",
      "Avg absolute amount of events predicted too early / too late: 0.6979942917823792\n",
      "Avg MAE RRT prediction validation set:  36727.083333333336 (minutes)'\n",
      " \n",
      "------------------------------------\n",
      "EPOCH 50:\n",
      "____________________________________\n"
     ]
    },
    {
     "name": "stderr",
     "output_type": "stream",
     "text": [
      "Batch calculation at epoch 50.: 808it [00:20, 57.71it/s]"
     ]
    },
    {
     "name": "stdout",
     "output_type": "stream",
     "text": [
      "------------------------------------------------------------\n",
      "Epoch 50, batch 799:\n",
      "Average original gradient norm: 0.5916303475946187 (over last 800 batches)\n",
      "Average clipped gradient norm: 0.5916303475946187 (over last 800 batches)\n",
      "Running average global loss: 0.714906011223793 (over last 800 batches)\n",
      "Running average activity prediction loss: 0.4096531895548105 (Cross Entropy over last 800 batches)\n",
      "Running average time till next event prediction loss: 0.3052528213337064 (MAE over last 800 batches)\n",
      "------------------------------------------------------------\n"
     ]
    },
    {
     "name": "stderr",
     "output_type": "stream",
     "text": [
      "Batch calculation at epoch 50.: 1601it [00:49, 16.97it/s]"
     ]
    },
    {
     "name": "stdout",
     "output_type": "stream",
     "text": [
      "------------------------------------------------------------\n",
      "Epoch 50, batch 1599:\n",
      "Average original gradient norm: 0.5915528305992485 (over last 800 batches)\n",
      "Average clipped gradient norm: 0.5915528305992485 (over last 800 batches)\n",
      "Running average global loss: 0.7147741802036762 (over last 800 batches)\n",
      "Running average activity prediction loss: 0.4101078682392836 (Cross Entropy over last 800 batches)\n",
      "Running average time till next event prediction loss: 0.30466631243005393 (MAE over last 800 batches)\n",
      "------------------------------------------------------------\n"
     ]
    },
    {
     "name": "stderr",
     "output_type": "stream",
     "text": [
      "Batch calculation at epoch 50.: 2403it [01:14, 30.00it/s]"
     ]
    },
    {
     "name": "stdout",
     "output_type": "stream",
     "text": [
      "------------------------------------------------------------\n",
      "Epoch 50, batch 2399:\n",
      "Average original gradient norm: 0.5892972517758608 (over last 800 batches)\n",
      "Average clipped gradient norm: 0.5892972517758608 (over last 800 batches)\n",
      "Running average global loss: 0.7154102075845004 (over last 800 batches)\n",
      "Running average activity prediction loss: 0.40989334143698214 (Cross Entropy over last 800 batches)\n",
      "Running average time till next event prediction loss: 0.3055168645642698 (MAE over last 800 batches)\n",
      "------------------------------------------------------------\n"
     ]
    },
    {
     "name": "stderr",
     "output_type": "stream",
     "text": [
      "Batch calculation at epoch 50.: 3207it [01:40, 57.97it/s]"
     ]
    },
    {
     "name": "stdout",
     "output_type": "stream",
     "text": [
      "------------------------------------------------------------\n",
      "Epoch 50, batch 3199:\n",
      "Average original gradient norm: 0.5959559255838394 (over last 800 batches)\n",
      "Average clipped gradient norm: 0.5959559255838394 (over last 800 batches)\n",
      "Running average global loss: 0.7150288213789463 (over last 800 batches)\n",
      "Running average activity prediction loss: 0.41019556611776353 (Cross Entropy over last 800 batches)\n",
      "Running average time till next event prediction loss: 0.3048332534916699 (MAE over last 800 batches)\n",
      "------------------------------------------------------------\n"
     ]
    },
    {
     "name": "stderr",
     "output_type": "stream",
     "text": [
      "Batch calculation at epoch 50.: 4002it [02:21, 21.82it/s]"
     ]
    },
    {
     "name": "stdout",
     "output_type": "stream",
     "text": [
      "------------------------------------------------------------\n",
      "Epoch 50, batch 3999:\n",
      "Average original gradient norm: 0.6089265863224864 (over last 800 batches)\n",
      "Average clipped gradient norm: 0.6089265863224864 (over last 800 batches)\n",
      "Running average global loss: 0.7166720838844776 (over last 800 batches)\n",
      "Running average activity prediction loss: 0.4113684993237257 (Cross Entropy over last 800 batches)\n",
      "Running average time till next event prediction loss: 0.30530358415097 (MAE over last 800 batches)\n",
      "------------------------------------------------------------\n"
     ]
    },
    {
     "name": "stderr",
     "output_type": "stream",
     "text": [
      "Batch calculation at epoch 50.: 4295it [02:31, 28.29it/s]\n"
     ]
    },
    {
     "name": "stdout",
     "output_type": "stream",
     "text": [
      "=======================================\n",
      "End of epoch 50\n",
      "=======================================\n",
      "Running average global loss: 0.7170148941129446 (over last 800 batches)\n",
      "Running average activity prediction loss: 0.4116405509784818 (Cross Entropy over last 800 batches)\n",
      "Running average time till next event prediction loss: 0.30537434240803124 (MAE over last 800 batches)\n"
     ]
    },
    {
     "name": "stderr",
     "output_type": "stream",
     "text": [
      "Validation batch calculation: 40it [00:22,  1.78it/s]\n"
     ]
    },
    {
     "name": "stdout",
     "output_type": "stream",
     "text": [
      "Avg MAE TTNE prediction validation set: 0.46237713098526 (standardized) ; 17060.085416666665 (minutes)'\n",
      "Avg 1-(normalized) DL distance acitivty suffix prediction validation set: 0.8445006012916565\n",
      "Percentage of suffixes predicted to END: too early - 0.2978563601216494 ; right moment - 0.6342391371264636 ; too late - 0.06790450275188692\n",
      "Too early instances - avg amount of events too early: 1.6976147890090942\n",
      "Too late instances - avg amount of events too late: 2.837533950805664\n",
      "Avg absolute amount of events predicted too early / too late: 0.6983267068862915\n",
      "Avg MAE RRT prediction validation set:  36851.854166666664 (minutes)'\n",
      " \n",
      "------------------------------------\n",
      "EPOCH 51:\n",
      "____________________________________\n"
     ]
    },
    {
     "name": "stderr",
     "output_type": "stream",
     "text": [
      "Batch calculation at epoch 51.: 803it [00:31, 24.47it/s]"
     ]
    },
    {
     "name": "stdout",
     "output_type": "stream",
     "text": [
      "------------------------------------------------------------\n",
      "Epoch 51, batch 799:\n",
      "Average original gradient norm: 0.5929067919403315 (over last 800 batches)\n",
      "Average clipped gradient norm: 0.5929067919403315 (over last 800 batches)\n",
      "Running average global loss: 0.7124260977655649 (over last 800 batches)\n",
      "Running average activity prediction loss: 0.4079348773136735 (Cross Entropy over last 800 batches)\n",
      "Running average time till next event prediction loss: 0.3044912193156779 (MAE over last 800 batches)\n",
      "------------------------------------------------------------\n"
     ]
    },
    {
     "name": "stderr",
     "output_type": "stream",
     "text": [
      "Batch calculation at epoch 51.: 1603it [00:58, 21.36it/s]"
     ]
    },
    {
     "name": "stdout",
     "output_type": "stream",
     "text": [
      "------------------------------------------------------------\n",
      "Epoch 51, batch 1599:\n",
      "Average original gradient norm: 0.5922313924133777 (over last 800 batches)\n",
      "Average clipped gradient norm: 0.5922313924133777 (over last 800 batches)\n",
      "Running average global loss: 0.7149341589212418 (over last 800 batches)\n",
      "Running average activity prediction loss: 0.4102485817298293 (Cross Entropy over last 800 batches)\n",
      "Running average time till next event prediction loss: 0.30468557817861436 (MAE over last 800 batches)\n",
      "------------------------------------------------------------\n"
     ]
    },
    {
     "name": "stderr",
     "output_type": "stream",
     "text": [
      "Batch calculation at epoch 51.: 2402it [01:28, 25.33it/s]"
     ]
    },
    {
     "name": "stdout",
     "output_type": "stream",
     "text": [
      "------------------------------------------------------------\n",
      "Epoch 51, batch 2399:\n",
      "Average original gradient norm: 0.6037945575639605 (over last 800 batches)\n",
      "Average clipped gradient norm: 0.6037945575639605 (over last 800 batches)\n",
      "Running average global loss: 0.7172035197168589 (over last 800 batches)\n",
      "Running average activity prediction loss: 0.41139313962310553 (Cross Entropy over last 800 batches)\n",
      "Running average time till next event prediction loss: 0.3058103799633682 (MAE over last 800 batches)\n",
      "------------------------------------------------------------\n"
     ]
    },
    {
     "name": "stderr",
     "output_type": "stream",
     "text": [
      "Batch calculation at epoch 51.: 3200it [02:00, 56.56it/s]"
     ]
    },
    {
     "name": "stdout",
     "output_type": "stream",
     "text": [
      "------------------------------------------------------------\n",
      "Epoch 51, batch 3199:\n",
      "Average original gradient norm: 0.5958871849998831 (over last 800 batches)\n",
      "Average clipped gradient norm: 0.5958871849998831 (over last 800 batches)\n",
      "Running average global loss: 0.7148249851912261 (over last 800 batches)\n",
      "Running average activity prediction loss: 0.4080892231687903 (Cross Entropy over last 800 batches)\n",
      "Running average time till next event prediction loss: 0.3067357603088021 (MAE over last 800 batches)\n",
      "------------------------------------------------------------\n"
     ]
    },
    {
     "name": "stderr",
     "output_type": "stream",
     "text": [
      "Batch calculation at epoch 51.: 4008it [02:20, 44.23it/s]"
     ]
    },
    {
     "name": "stdout",
     "output_type": "stream",
     "text": [
      "------------------------------------------------------------\n",
      "Epoch 51, batch 3999:\n",
      "Average original gradient norm: 0.6062991962954402 (over last 800 batches)\n",
      "Average clipped gradient norm: 0.6062991962954402 (over last 800 batches)\n",
      "Running average global loss: 0.7176739965379239 (over last 800 batches)\n",
      "Running average activity prediction loss: 0.4127547975629568 (Cross Entropy over last 800 batches)\n",
      "Running average time till next event prediction loss: 0.3049191996268928 (MAE over last 800 batches)\n",
      "------------------------------------------------------------\n"
     ]
    },
    {
     "name": "stderr",
     "output_type": "stream",
     "text": [
      "Batch calculation at epoch 51.: 4295it [02:26, 29.26it/s]\n"
     ]
    },
    {
     "name": "stdout",
     "output_type": "stream",
     "text": [
      "=======================================\n",
      "End of epoch 51\n",
      "=======================================\n",
      "Running average global loss: 0.7156342342495918 (over last 800 batches)\n",
      "Running average activity prediction loss: 0.4111046265438199 (Cross Entropy over last 800 batches)\n",
      "Running average time till next event prediction loss: 0.30452960865572093 (MAE over last 800 batches)\n"
     ]
    },
    {
     "name": "stderr",
     "output_type": "stream",
     "text": [
      "Validation batch calculation: 40it [00:21,  1.87it/s]\n"
     ]
    },
    {
     "name": "stdout",
     "output_type": "stream",
     "text": [
      "Avg MAE TTNE prediction validation set: 0.4613087773323059 (standardized) ; 17022.033333333333 (minutes)'\n",
      "Avg 1-(normalized) DL distance acitivty suffix prediction validation set: 0.844550609588623\n",
      "Percentage of suffixes predicted to END: too early - 0.2974992920201436 ; right moment - 0.6338943817181132 ; too late - 0.06860632626174323\n",
      "Too early instances - avg amount of events too early: 1.6972105503082275\n",
      "Too late instances - avg amount of events too late: 2.8031227588653564\n",
      "Avg absolute amount of events predicted too early / too late: 0.697230875492096\n",
      "Avg MAE RRT prediction validation set:  36967.20416666667 (minutes)'\n",
      " \n",
      "------------------------------------\n",
      "EPOCH 52:\n",
      "____________________________________\n"
     ]
    },
    {
     "name": "stderr",
     "output_type": "stream",
     "text": [
      "Batch calculation at epoch 52.: 803it [00:39, 23.01it/s]"
     ]
    },
    {
     "name": "stdout",
     "output_type": "stream",
     "text": [
      "------------------------------------------------------------\n",
      "Epoch 52, batch 799:\n",
      "Average original gradient norm: 0.5932634072005749 (over last 800 batches)\n",
      "Average clipped gradient norm: 0.5932634072005749 (over last 800 batches)\n",
      "Running average global loss: 0.718396841660142 (over last 800 batches)\n",
      "Running average activity prediction loss: 0.4125554193556309 (Cross Entropy over last 800 batches)\n",
      "Running average time till next event prediction loss: 0.305841421764344 (MAE over last 800 batches)\n",
      "------------------------------------------------------------\n"
     ]
    },
    {
     "name": "stderr",
     "output_type": "stream",
     "text": [
      "Batch calculation at epoch 52.: 1606it [01:04, 38.76it/s]"
     ]
    },
    {
     "name": "stdout",
     "output_type": "stream",
     "text": [
      "------------------------------------------------------------\n",
      "Epoch 52, batch 1599:\n",
      "Average original gradient norm: 0.5948355423659086 (over last 800 batches)\n",
      "Average clipped gradient norm: 0.5948355423659086 (over last 800 batches)\n",
      "Running average global loss: 0.7128534519672394 (over last 800 batches)\n",
      "Running average activity prediction loss: 0.4080667381733656 (Cross Entropy over last 800 batches)\n",
      "Running average time till next event prediction loss: 0.3047867144830525 (MAE over last 800 batches)\n",
      "------------------------------------------------------------\n"
     ]
    },
    {
     "name": "stderr",
     "output_type": "stream",
     "text": [
      "Batch calculation at epoch 52.: 2402it [01:37, 17.98it/s]"
     ]
    },
    {
     "name": "stdout",
     "output_type": "stream",
     "text": [
      "------------------------------------------------------------\n",
      "Epoch 52, batch 2399:\n",
      "Average original gradient norm: 0.6000306507200003 (over last 800 batches)\n",
      "Average clipped gradient norm: 0.6000306507200003 (over last 800 batches)\n",
      "Running average global loss: 0.7171933856606484 (over last 800 batches)\n",
      "Running average activity prediction loss: 0.4106486663594842 (Cross Entropy over last 800 batches)\n",
      "Running average time till next event prediction loss: 0.3065447182022035 (MAE over last 800 batches)\n",
      "------------------------------------------------------------\n"
     ]
    },
    {
     "name": "stderr",
     "output_type": "stream",
     "text": [
      "Batch calculation at epoch 52.: 3203it [02:17, 20.23it/s]"
     ]
    },
    {
     "name": "stdout",
     "output_type": "stream",
     "text": [
      "------------------------------------------------------------\n",
      "Epoch 52, batch 3199:\n",
      "Average original gradient norm: 0.6015504663065075 (over last 800 batches)\n",
      "Average clipped gradient norm: 0.6015504663065075 (over last 800 batches)\n",
      "Running average global loss: 0.7117103853821755 (over last 800 batches)\n",
      "Running average activity prediction loss: 0.408362136669457 (Cross Entropy over last 800 batches)\n",
      "Running average time till next event prediction loss: 0.30334824822843076 (MAE over last 800 batches)\n",
      "------------------------------------------------------------\n"
     ]
    },
    {
     "name": "stderr",
     "output_type": "stream",
     "text": [
      "Batch calculation at epoch 52.: 4003it [02:39, 22.20it/s]"
     ]
    },
    {
     "name": "stdout",
     "output_type": "stream",
     "text": [
      "------------------------------------------------------------\n",
      "Epoch 52, batch 3999:\n",
      "Average original gradient norm: 0.587422997057438 (over last 800 batches)\n",
      "Average clipped gradient norm: 0.587422997057438 (over last 800 batches)\n",
      "Running average global loss: 0.7163487761467695 (over last 800 batches)\n",
      "Running average activity prediction loss: 0.41093446969985964 (Cross Entropy over last 800 batches)\n",
      "Running average time till next event prediction loss: 0.3054143076762557 (MAE over last 800 batches)\n",
      "------------------------------------------------------------\n"
     ]
    },
    {
     "name": "stderr",
     "output_type": "stream",
     "text": [
      "Batch calculation at epoch 52.: 4295it [02:51, 25.00it/s]\n"
     ]
    },
    {
     "name": "stdout",
     "output_type": "stream",
     "text": [
      "=======================================\n",
      "End of epoch 52\n",
      "=======================================\n",
      "Running average global loss: 0.7154086495190859 (over last 800 batches)\n",
      "Running average activity prediction loss: 0.4107630967721343 (Cross Entropy over last 800 batches)\n",
      "Running average time till next event prediction loss: 0.3046455537714064 (MAE over last 800 batches)\n"
     ]
    },
    {
     "name": "stderr",
     "output_type": "stream",
     "text": [
      "Validation batch calculation: 40it [00:19,  2.03it/s]\n"
     ]
    },
    {
     "name": "stdout",
     "output_type": "stream",
     "text": [
      "Avg MAE TTNE prediction validation set: 0.4613862931728363 (standardized) ; 17023.247916666667 (minutes)'\n",
      "Avg 1-(normalized) DL distance acitivty suffix prediction validation set: 0.8444247245788574\n",
      "Percentage of suffixes predicted to END: too early - 0.29788098550796016 ; right moment - 0.6335988770823843 ; too late - 0.06852013740965561\n",
      "Too early instances - avg amount of events too early: 1.69383704662323\n",
      "Too late instances - avg amount of events too late: 2.858041286468506\n",
      "Avg absolute amount of events predicted too early / too late: 0.7003952264785767\n",
      "Avg MAE RRT prediction validation set:  36956.175 (minutes)'\n",
      " \n",
      "------------------------------------\n",
      "EPOCH 53:\n",
      "____________________________________\n"
     ]
    },
    {
     "name": "stderr",
     "output_type": "stream",
     "text": [
      "Batch calculation at epoch 53.: 803it [00:26, 30.91it/s]"
     ]
    },
    {
     "name": "stdout",
     "output_type": "stream",
     "text": [
      "------------------------------------------------------------\n",
      "Epoch 53, batch 799:\n",
      "Average original gradient norm: 0.5952261299267412 (over last 800 batches)\n",
      "Average clipped gradient norm: 0.5952261299267412 (over last 800 batches)\n",
      "Running average global loss: 0.7125154470652342 (over last 800 batches)\n",
      "Running average activity prediction loss: 0.40706360168755057 (Cross Entropy over last 800 batches)\n",
      "Running average time till next event prediction loss: 0.3054518446139991 (MAE over last 800 batches)\n",
      "------------------------------------------------------------\n"
     ]
    },
    {
     "name": "stderr",
     "output_type": "stream",
     "text": [
      "Batch calculation at epoch 53.: 1600it [01:02, 20.17it/s]"
     ]
    },
    {
     "name": "stdout",
     "output_type": "stream",
     "text": [
      "------------------------------------------------------------\n",
      "Epoch 53, batch 1599:\n",
      "Average original gradient norm: 0.6017995224520564 (over last 800 batches)\n",
      "Average clipped gradient norm: 0.6014672167226672 (over last 800 batches)\n",
      "Running average global loss: 0.7139989261329174 (over last 800 batches)\n",
      "Running average activity prediction loss: 0.40937142621725797 (Cross Entropy over last 800 batches)\n",
      "Running average time till next event prediction loss: 0.3046275000087917 (MAE over last 800 batches)\n",
      "------------------------------------------------------------\n"
     ]
    },
    {
     "name": "stderr",
     "output_type": "stream",
     "text": [
      "Batch calculation at epoch 53.: 2406it [01:33, 33.56it/s]"
     ]
    },
    {
     "name": "stdout",
     "output_type": "stream",
     "text": [
      "------------------------------------------------------------\n",
      "Epoch 53, batch 2399:\n",
      "Average original gradient norm: 0.5915005639567972 (over last 800 batches)\n",
      "Average clipped gradient norm: 0.5915005639567972 (over last 800 batches)\n",
      "Running average global loss: 0.7157835613191128 (over last 800 batches)\n",
      "Running average activity prediction loss: 0.41064431846141813 (Cross Entropy over last 800 batches)\n",
      "Running average time till next event prediction loss: 0.30513924412429333 (MAE over last 800 batches)\n",
      "------------------------------------------------------------\n"
     ]
    },
    {
     "name": "stderr",
     "output_type": "stream",
     "text": [
      "Batch calculation at epoch 53.: 3200it [02:00, 21.31it/s]"
     ]
    },
    {
     "name": "stdout",
     "output_type": "stream",
     "text": [
      "------------------------------------------------------------\n",
      "Epoch 53, batch 3199:\n",
      "Average original gradient norm: 0.5963302481546998 (over last 800 batches)\n",
      "Average clipped gradient norm: 0.5963302481546998 (over last 800 batches)\n",
      "Running average global loss: 0.7133869937807321 (over last 800 batches)\n",
      "Running average activity prediction loss: 0.4088753396272659 (Cross Entropy over last 800 batches)\n",
      "Running average time till next event prediction loss: 0.3045116536878049 (MAE over last 800 batches)\n",
      "------------------------------------------------------------\n"
     ]
    },
    {
     "name": "stderr",
     "output_type": "stream",
     "text": [
      "Batch calculation at epoch 53.: 4001it [02:49,  9.96it/s]"
     ]
    },
    {
     "name": "stdout",
     "output_type": "stream",
     "text": [
      "------------------------------------------------------------\n",
      "Epoch 53, batch 3999:\n",
      "Average original gradient norm: 0.6030606958270073 (over last 800 batches)\n",
      "Average clipped gradient norm: 0.6030606958270073 (over last 800 batches)\n",
      "Running average global loss: 0.7162991322576999 (over last 800 batches)\n",
      "Running average activity prediction loss: 0.4110821546241641 (Cross Entropy over last 800 batches)\n",
      "Running average time till next event prediction loss: 0.30521697776392104 (MAE over last 800 batches)\n",
      "------------------------------------------------------------\n"
     ]
    },
    {
     "name": "stderr",
     "output_type": "stream",
     "text": [
      "Batch calculation at epoch 53.: 4295it [03:10, 22.59it/s]\n"
     ]
    },
    {
     "name": "stdout",
     "output_type": "stream",
     "text": [
      "=======================================\n",
      "End of epoch 53\n",
      "=======================================\n",
      "Running average global loss: 0.7179229691624641 (over last 800 batches)\n",
      "Running average activity prediction loss: 0.41254444789141415 (Cross Entropy over last 800 batches)\n",
      "Running average time till next event prediction loss: 0.30537852192297577 (MAE over last 800 batches)\n"
     ]
    },
    {
     "name": "stderr",
     "output_type": "stream",
     "text": [
      "Validation batch calculation: 40it [00:22,  1.75it/s]\n"
     ]
    },
    {
     "name": "stdout",
     "output_type": "stream",
     "text": [
      "Avg MAE TTNE prediction validation set: 0.46404555439949036 (standardized) ; 17121.504166666666 (minutes)'\n",
      "Avg 1-(normalized) DL distance acitivty suffix prediction validation set: 0.8445307016372681\n",
      "Percentage of suffixes predicted to END: too early - 0.2978563601216494 ; right moment - 0.6341406355812207 ; too late - 0.06800300429712991\n",
      "Too early instances - avg amount of events too early: 1.6964573860168457\n",
      "Too late instances - avg amount of events too late: 2.824370861053467\n",
      "Avg absolute amount of events predicted too early / too late: 0.6973662972450256\n",
      "Avg MAE RRT prediction validation set:  36838.99166666667 (minutes)'\n",
      " \n",
      "------------------------------------\n",
      "EPOCH 54:\n",
      "____________________________________\n"
     ]
    },
    {
     "name": "stderr",
     "output_type": "stream",
     "text": [
      "Batch calculation at epoch 54.: 803it [00:41, 23.66it/s]"
     ]
    },
    {
     "name": "stdout",
     "output_type": "stream",
     "text": [
      "------------------------------------------------------------\n",
      "Epoch 54, batch 799:\n",
      "Average original gradient norm: 0.5960711286589503 (over last 800 batches)\n",
      "Average clipped gradient norm: 0.5960711286589503 (over last 800 batches)\n",
      "Running average global loss: 0.7134239805489778 (over last 800 batches)\n",
      "Running average activity prediction loss: 0.4087500535696745 (Cross Entropy over last 800 batches)\n",
      "Running average time till next event prediction loss: 0.30467392643913627 (MAE over last 800 batches)\n",
      "------------------------------------------------------------\n"
     ]
    },
    {
     "name": "stderr",
     "output_type": "stream",
     "text": [
      "Batch calculation at epoch 54.: 1601it [01:50,  7.79it/s]"
     ]
    },
    {
     "name": "stdout",
     "output_type": "stream",
     "text": [
      "------------------------------------------------------------\n",
      "Epoch 54, batch 1599:\n",
      "Average original gradient norm: 0.5928458236530423 (over last 800 batches)\n",
      "Average clipped gradient norm: 0.5928458236530423 (over last 800 batches)\n",
      "Running average global loss: 0.7123827716708183 (over last 800 batches)\n",
      "Running average activity prediction loss: 0.4093262770026922 (Cross Entropy over last 800 batches)\n",
      "Running average time till next event prediction loss: 0.3030564945563674 (MAE over last 800 batches)\n",
      "------------------------------------------------------------\n"
     ]
    },
    {
     "name": "stderr",
     "output_type": "stream",
     "text": [
      "Batch calculation at epoch 54.: 2403it [02:52, 27.89it/s]"
     ]
    },
    {
     "name": "stdout",
     "output_type": "stream",
     "text": [
      "------------------------------------------------------------\n",
      "Epoch 54, batch 2399:\n",
      "Average original gradient norm: 0.5956780461221933 (over last 800 batches)\n",
      "Average clipped gradient norm: 0.5956780461221933 (over last 800 batches)\n",
      "Running average global loss: 0.7168157164752483 (over last 800 batches)\n",
      "Running average activity prediction loss: 0.41082428190857173 (Cross Entropy over last 800 batches)\n",
      "Running average time till next event prediction loss: 0.30599143493920566 (MAE over last 800 batches)\n",
      "------------------------------------------------------------\n"
     ]
    },
    {
     "name": "stderr",
     "output_type": "stream",
     "text": [
      "Batch calculation at epoch 54.: 3201it [03:50,  9.70it/s]"
     ]
    },
    {
     "name": "stdout",
     "output_type": "stream",
     "text": [
      "------------------------------------------------------------\n",
      "Epoch 54, batch 3199:\n",
      "Average original gradient norm: 0.5884421295300126 (over last 800 batches)\n",
      "Average clipped gradient norm: 0.5884421295300126 (over last 800 batches)\n",
      "Running average global loss: 0.7146532750129699 (over last 800 batches)\n",
      "Running average activity prediction loss: 0.4083785695210099 (Cross Entropy over last 800 batches)\n",
      "Running average time till next event prediction loss: 0.3062747050262988 (MAE over last 800 batches)\n",
      "------------------------------------------------------------\n"
     ]
    },
    {
     "name": "stderr",
     "output_type": "stream",
     "text": [
      "Batch calculation at epoch 54.: 4000it [05:23,  6.42it/s]"
     ]
    },
    {
     "name": "stdout",
     "output_type": "stream",
     "text": [
      "------------------------------------------------------------\n",
      "Epoch 54, batch 3999:\n",
      "Average original gradient norm: 0.5882195882871747 (over last 800 batches)\n",
      "Average clipped gradient norm: 0.5882195882871747 (over last 800 batches)\n",
      "Running average global loss: 0.7151533016562461 (over last 800 batches)\n",
      "Running average activity prediction loss: 0.4095528418943286 (Cross Entropy over last 800 batches)\n",
      "Running average time till next event prediction loss: 0.30560046032071114 (MAE over last 800 batches)\n",
      "------------------------------------------------------------\n"
     ]
    },
    {
     "name": "stderr",
     "output_type": "stream",
     "text": [
      "Batch calculation at epoch 54.: 4295it [05:57, 12.03it/s]\n"
     ]
    },
    {
     "name": "stdout",
     "output_type": "stream",
     "text": [
      "=======================================\n",
      "End of epoch 54\n",
      "=======================================\n",
      "Running average global loss: 0.7146600531041623 (over last 800 batches)\n",
      "Running average activity prediction loss: 0.4103245734423399 (Cross Entropy over last 800 batches)\n",
      "Running average time till next event prediction loss: 0.30433547975495456 (MAE over last 800 batches)\n"
     ]
    },
    {
     "name": "stderr",
     "output_type": "stream",
     "text": [
      "Validation batch calculation: 40it [00:26,  1.52it/s]\n"
     ]
    },
    {
     "name": "stdout",
     "output_type": "stream",
     "text": [
      "Avg MAE TTNE prediction validation set: 0.461139053106308 (standardized) ; 17014.913541666665 (minutes)'\n",
      "Avg 1-(normalized) DL distance acitivty suffix prediction validation set: 0.844453752040863\n",
      "Percentage of suffixes predicted to END: too early - 0.2974992920201436 ; right moment - 0.6337096913207826 ; too late - 0.06879101665907383\n",
      "Too early instances - avg amount of events too early: 1.6968380212783813\n",
      "Too late instances - avg amount of events too late: 2.8219079971313477\n",
      "Avg absolute amount of events predicted too early / too late: 0.698930025100708\n",
      "Avg MAE RRT prediction validation set:  36910.77916666667 (minutes)'\n",
      " \n",
      "------------------------------------\n",
      "EPOCH 55:\n",
      "____________________________________\n"
     ]
    },
    {
     "name": "stderr",
     "output_type": "stream",
     "text": [
      "Batch calculation at epoch 55.: 802it [00:54, 11.31it/s]"
     ]
    },
    {
     "name": "stdout",
     "output_type": "stream",
     "text": [
      "------------------------------------------------------------\n",
      "Epoch 55, batch 799:\n",
      "Average original gradient norm: 0.6046210877224802 (over last 800 batches)\n",
      "Average clipped gradient norm: 0.6046210877224802 (over last 800 batches)\n",
      "Running average global loss: 0.7107603000849485 (over last 800 batches)\n",
      "Running average activity prediction loss: 0.4066934999451041 (Cross Entropy over last 800 batches)\n",
      "Running average time till next event prediction loss: 0.3040668004751205 (MAE over last 800 batches)\n",
      "------------------------------------------------------------\n"
     ]
    },
    {
     "name": "stderr",
     "output_type": "stream",
     "text": [
      "Batch calculation at epoch 55.: 1601it [02:20,  9.90it/s]"
     ]
    },
    {
     "name": "stdout",
     "output_type": "stream",
     "text": [
      "------------------------------------------------------------\n",
      "Epoch 55, batch 1599:\n",
      "Average original gradient norm: 0.5908643907681107 (over last 800 batches)\n",
      "Average clipped gradient norm: 0.5908643907681107 (over last 800 batches)\n",
      "Running average global loss: 0.715106360912323 (over last 800 batches)\n",
      "Running average activity prediction loss: 0.40916195400059224 (Cross Entropy over last 800 batches)\n",
      "Running average time till next event prediction loss: 0.30594440586864946 (MAE over last 800 batches)\n",
      "------------------------------------------------------------\n"
     ]
    },
    {
     "name": "stderr",
     "output_type": "stream",
     "text": [
      "Batch calculation at epoch 55.: 2401it [03:26, 12.54it/s]"
     ]
    },
    {
     "name": "stdout",
     "output_type": "stream",
     "text": [
      "------------------------------------------------------------\n",
      "Epoch 55, batch 2399:\n",
      "Average original gradient norm: 0.5948628496378661 (over last 800 batches)\n",
      "Average clipped gradient norm: 0.5948628496378661 (over last 800 batches)\n",
      "Running average global loss: 0.7129183521866799 (over last 800 batches)\n",
      "Running average activity prediction loss: 0.40918441776186226 (Cross Entropy over last 800 batches)\n",
      "Running average time till next event prediction loss: 0.30373393470421434 (MAE over last 800 batches)\n",
      "------------------------------------------------------------\n"
     ]
    },
    {
     "name": "stderr",
     "output_type": "stream",
     "text": [
      "Batch calculation at epoch 55.: 3203it [04:25, 20.08it/s]"
     ]
    },
    {
     "name": "stdout",
     "output_type": "stream",
     "text": [
      "------------------------------------------------------------\n",
      "Epoch 55, batch 3199:\n",
      "Average original gradient norm: 0.5900682610273361 (over last 800 batches)\n",
      "Average clipped gradient norm: 0.5900682610273361 (over last 800 batches)\n",
      "Running average global loss: 0.7168987685441971 (over last 800 batches)\n",
      "Running average activity prediction loss: 0.4122494339197874 (Cross Entropy over last 800 batches)\n",
      "Running average time till next event prediction loss: 0.30464933410286904 (MAE over last 800 batches)\n",
      "------------------------------------------------------------\n"
     ]
    },
    {
     "name": "stderr",
     "output_type": "stream",
     "text": [
      "Batch calculation at epoch 55.: 4002it [05:08, 16.47it/s]"
     ]
    },
    {
     "name": "stdout",
     "output_type": "stream",
     "text": [
      "------------------------------------------------------------\n",
      "Epoch 55, batch 3999:\n",
      "Average original gradient norm: 0.5887232394888997 (over last 800 batches)\n",
      "Average clipped gradient norm: 0.5887232394888997 (over last 800 batches)\n",
      "Running average global loss: 0.7147446562349796 (over last 800 batches)\n",
      "Running average activity prediction loss: 0.40929165445268156 (Cross Entropy over last 800 batches)\n",
      "Running average time till next event prediction loss: 0.3054530022293329 (MAE over last 800 batches)\n",
      "------------------------------------------------------------\n"
     ]
    },
    {
     "name": "stderr",
     "output_type": "stream",
     "text": [
      "Batch calculation at epoch 55.: 4295it [05:28, 13.07it/s]\n"
     ]
    },
    {
     "name": "stdout",
     "output_type": "stream",
     "text": [
      "=======================================\n",
      "End of epoch 55\n",
      "=======================================\n",
      "Running average global loss: 0.7168228816986084 (over last 800 batches)\n",
      "Running average activity prediction loss: 0.4109744134172797 (Cross Entropy over last 800 batches)\n",
      "Running average time till next event prediction loss: 0.305848467182368 (MAE over last 800 batches)\n"
     ]
    },
    {
     "name": "stderr",
     "output_type": "stream",
     "text": [
      "Validation batch calculation: 40it [00:28,  1.41it/s]\n"
     ]
    },
    {
     "name": "stdout",
     "output_type": "stream",
     "text": [
      "Avg MAE TTNE prediction validation set: 0.4608660340309143 (standardized) ; 17004.035416666666 (minutes)'\n",
      "Avg 1-(normalized) DL distance acitivty suffix prediction validation set: 0.8443931341171265\n",
      "Percentage of suffixes predicted to END: too early - 0.29774554588325103 ; right moment - 0.633722004013938 ; too late - 0.06853245010281099\n",
      "Too early instances - avg amount of events too early: 1.695269227027893\n",
      "Too late instances - avg amount of events too late: 2.838304042816162\n",
      "Avg absolute amount of events predicted too early / too late: 0.6992747783660889\n",
      "Avg MAE RRT prediction validation set:  36951.379166666666 (minutes)'\n",
      " \n",
      "------------------------------------\n",
      "EPOCH 56:\n",
      "____________________________________\n"
     ]
    },
    {
     "name": "stderr",
     "output_type": "stream",
     "text": [
      "Batch calculation at epoch 56.: 804it [01:20, 24.97it/s]"
     ]
    },
    {
     "name": "stdout",
     "output_type": "stream",
     "text": [
      "------------------------------------------------------------\n",
      "Epoch 56, batch 799:\n",
      "Average original gradient norm: 0.5898265336081385 (over last 800 batches)\n",
      "Average clipped gradient norm: 0.5898265336081385 (over last 800 batches)\n",
      "Running average global loss: 0.7147884622216225 (over last 800 batches)\n",
      "Running average activity prediction loss: 0.4098555364087224 (Cross Entropy over last 800 batches)\n",
      "Running average time till next event prediction loss: 0.3049329254217446 (MAE over last 800 batches)\n",
      "------------------------------------------------------------\n"
     ]
    },
    {
     "name": "stderr",
     "output_type": "stream",
     "text": [
      "Batch calculation at epoch 56.: 1601it [02:39, 10.28it/s]"
     ]
    },
    {
     "name": "stdout",
     "output_type": "stream",
     "text": [
      "------------------------------------------------------------\n",
      "Epoch 56, batch 1599:\n",
      "Average original gradient norm: 0.5850670445710421 (over last 800 batches)\n",
      "Average clipped gradient norm: 0.5850670445710421 (over last 800 batches)\n",
      "Running average global loss: 0.7118417628109455 (over last 800 batches)\n",
      "Running average activity prediction loss: 0.40800011072307824 (Cross Entropy over last 800 batches)\n",
      "Running average time till next event prediction loss: 0.30384165182709694 (MAE over last 800 batches)\n",
      "------------------------------------------------------------\n"
     ]
    },
    {
     "name": "stderr",
     "output_type": "stream",
     "text": [
      "Batch calculation at epoch 56.: 2403it [04:02, 30.57it/s]"
     ]
    },
    {
     "name": "stdout",
     "output_type": "stream",
     "text": [
      "------------------------------------------------------------\n",
      "Epoch 56, batch 2399:\n",
      "Average original gradient norm: 0.5929967913404107 (over last 800 batches)\n",
      "Average clipped gradient norm: 0.5929967913404107 (over last 800 batches)\n",
      "Running average global loss: 0.7140976855903864 (over last 800 batches)\n",
      "Running average activity prediction loss: 0.40792921364307405 (Cross Entropy over last 800 batches)\n",
      "Running average time till next event prediction loss: 0.30616847293451427 (MAE over last 800 batches)\n",
      "------------------------------------------------------------\n"
     ]
    },
    {
     "name": "stderr",
     "output_type": "stream",
     "text": [
      "Batch calculation at epoch 56.: 3202it [05:25,  9.95it/s]"
     ]
    },
    {
     "name": "stdout",
     "output_type": "stream",
     "text": [
      "------------------------------------------------------------\n",
      "Epoch 56, batch 3199:\n",
      "Average original gradient norm: 0.5836813130229711 (over last 800 batches)\n",
      "Average clipped gradient norm: 0.5836813130229711 (over last 800 batches)\n",
      "Running average global loss: 0.7158031167834997 (over last 800 batches)\n",
      "Running average activity prediction loss: 0.41026984795928 (Cross Entropy over last 800 batches)\n",
      "Running average time till next event prediction loss: 0.3055332690663636 (MAE over last 800 batches)\n",
      "------------------------------------------------------------\n"
     ]
    },
    {
     "name": "stderr",
     "output_type": "stream",
     "text": [
      "Batch calculation at epoch 56.: 4001it [06:42, 14.14it/s]"
     ]
    },
    {
     "name": "stdout",
     "output_type": "stream",
     "text": [
      "------------------------------------------------------------\n",
      "Epoch 56, batch 3999:\n",
      "Average original gradient norm: 0.6128592735901475 (over last 800 batches)\n",
      "Average clipped gradient norm: 0.6128592735901475 (over last 800 batches)\n",
      "Running average global loss: 0.7152903413772583 (over last 800 batches)\n",
      "Running average activity prediction loss: 0.41031666703522207 (Cross Entropy over last 800 batches)\n",
      "Running average time till next event prediction loss: 0.30497367391362784 (MAE over last 800 batches)\n",
      "------------------------------------------------------------\n"
     ]
    },
    {
     "name": "stderr",
     "output_type": "stream",
     "text": [
      "Batch calculation at epoch 56.: 4295it [07:05, 10.09it/s]\n"
     ]
    },
    {
     "name": "stdout",
     "output_type": "stream",
     "text": [
      "=======================================\n",
      "End of epoch 56\n",
      "=======================================\n",
      "Running average global loss: 0.7144407746195793 (over last 800 batches)\n",
      "Running average activity prediction loss: 0.40987494502216576 (Cross Entropy over last 800 batches)\n",
      "Running average time till next event prediction loss: 0.30456582916900515 (MAE over last 800 batches)\n"
     ]
    },
    {
     "name": "stderr",
     "output_type": "stream",
     "text": [
      "Validation batch calculation: 40it [00:22,  1.81it/s]\n"
     ]
    },
    {
     "name": "stdout",
     "output_type": "stream",
     "text": [
      "Avg MAE TTNE prediction validation set: 0.4626525938510895 (standardized) ; 17069.0625 (minutes)'\n",
      "Avg 1-(normalized) DL distance acitivty suffix prediction validation set: 0.8445919752120972\n",
      "Percentage of suffixes predicted to END: too early - 0.2979179235874263 ; right moment - 0.6340421340359776 ; too late - 0.06803994237659604\n",
      "Too early instances - avg amount of events too early: 1.6970160007476807\n",
      "Too late instances - avg amount of events too late: 2.819218158721924\n",
      "Avg absolute amount of events predicted too early / too late: 0.6973909139633179\n",
      "Avg MAE RRT prediction validation set:  36857.816666666666 (minutes)'\n",
      " \n",
      "------------------------------------\n",
      "EPOCH 57:\n",
      "____________________________________\n"
     ]
    },
    {
     "name": "stderr",
     "output_type": "stream",
     "text": [
      "Batch calculation at epoch 57.: 807it [00:43, 41.57it/s]"
     ]
    },
    {
     "name": "stdout",
     "output_type": "stream",
     "text": [
      "------------------------------------------------------------\n",
      "Epoch 57, batch 799:\n",
      "Average original gradient norm: 0.5900967967510223 (over last 800 batches)\n",
      "Average clipped gradient norm: 0.5900967967510223 (over last 800 batches)\n",
      "Running average global loss: 0.7131058152019978 (over last 800 batches)\n",
      "Running average activity prediction loss: 0.40850376307964326 (Cross Entropy over last 800 batches)\n",
      "Running average time till next event prediction loss: 0.3046020533144474 (MAE over last 800 batches)\n",
      "------------------------------------------------------------\n"
     ]
    },
    {
     "name": "stderr",
     "output_type": "stream",
     "text": [
      "Batch calculation at epoch 57.: 1608it [00:59, 60.94it/s]"
     ]
    },
    {
     "name": "stdout",
     "output_type": "stream",
     "text": [
      "------------------------------------------------------------\n",
      "Epoch 57, batch 1599:\n",
      "Average original gradient norm: 0.5928593811392784 (over last 800 batches)\n",
      "Average clipped gradient norm: 0.5928593811392784 (over last 800 batches)\n",
      "Running average global loss: 0.7145352441817522 (over last 800 batches)\n",
      "Running average activity prediction loss: 0.40856724470853806 (Cross Entropy over last 800 batches)\n",
      "Running average time till next event prediction loss: 0.3059679988957942 (MAE over last 800 batches)\n",
      "------------------------------------------------------------\n"
     ]
    },
    {
     "name": "stderr",
     "output_type": "stream",
     "text": [
      "Batch calculation at epoch 57.: 2400it [01:16, 30.54it/s]"
     ]
    },
    {
     "name": "stdout",
     "output_type": "stream",
     "text": [
      "------------------------------------------------------------\n",
      "Epoch 57, batch 2399:\n",
      "Average original gradient norm: 0.5795003698393703 (over last 800 batches)\n",
      "Average clipped gradient norm: 0.5781191250309348 (over last 800 batches)\n",
      "Running average global loss: 0.7109148387610912 (over last 800 batches)\n",
      "Running average activity prediction loss: 0.4066033563017845 (Cross Entropy over last 800 batches)\n",
      "Running average time till next event prediction loss: 0.30431148333474994 (MAE over last 800 batches)\n",
      "------------------------------------------------------------\n"
     ]
    },
    {
     "name": "stderr",
     "output_type": "stream",
     "text": [
      "Batch calculation at epoch 57.: 3205it [01:46, 27.22it/s]"
     ]
    },
    {
     "name": "stdout",
     "output_type": "stream",
     "text": [
      "------------------------------------------------------------\n",
      "Epoch 57, batch 3199:\n",
      "Average original gradient norm: 0.5927444430068135 (over last 800 batches)\n",
      "Average clipped gradient norm: 0.5927444430068135 (over last 800 batches)\n",
      "Running average global loss: 0.7163733921945095 (over last 800 batches)\n",
      "Running average activity prediction loss: 0.4124837989732623 (Cross Entropy over last 800 batches)\n",
      "Running average time till next event prediction loss: 0.3038895931467414 (MAE over last 800 batches)\n",
      "------------------------------------------------------------\n"
     ]
    },
    {
     "name": "stderr",
     "output_type": "stream",
     "text": [
      "Batch calculation at epoch 57.: 4007it [02:09, 45.34it/s]"
     ]
    },
    {
     "name": "stdout",
     "output_type": "stream",
     "text": [
      "------------------------------------------------------------\n",
      "Epoch 57, batch 3999:\n",
      "Average original gradient norm: 0.5898957999050617 (over last 800 batches)\n",
      "Average clipped gradient norm: 0.5898957999050617 (over last 800 batches)\n",
      "Running average global loss: 0.7134524477273225 (over last 800 batches)\n",
      "Running average activity prediction loss: 0.40829415012151005 (Cross Entropy over last 800 batches)\n",
      "Running average time till next event prediction loss: 0.3051582984253764 (MAE over last 800 batches)\n",
      "------------------------------------------------------------\n"
     ]
    },
    {
     "name": "stderr",
     "output_type": "stream",
     "text": [
      "Batch calculation at epoch 57.: 4295it [02:17, 31.30it/s]\n"
     ]
    },
    {
     "name": "stdout",
     "output_type": "stream",
     "text": [
      "=======================================\n",
      "End of epoch 57\n",
      "=======================================\n",
      "Running average global loss: 0.7154251667112113 (over last 800 batches)\n",
      "Running average activity prediction loss: 0.4101144799217582 (Cross Entropy over last 800 batches)\n",
      "Running average time till next event prediction loss: 0.30531068742275236 (MAE over last 800 batches)\n"
     ]
    },
    {
     "name": "stderr",
     "output_type": "stream",
     "text": [
      "Validation batch calculation: 40it [00:18,  2.15it/s]\n"
     ]
    },
    {
     "name": "stdout",
     "output_type": "stream",
     "text": [
      "Avg MAE TTNE prediction validation set: 0.4619908034801483 (standardized) ; 17045.602083333335 (minutes)'\n",
      "Avg 1-(normalized) DL distance acitivty suffix prediction validation set: 0.8444185256958008\n",
      "Percentage of suffixes predicted to END: too early - 0.29761010625854195 ; right moment - 0.6337835674797149 ; too late - 0.06860632626174323\n",
      "Too early instances - avg amount of events too early: 1.6979851722717285\n",
      "Too late instances - avg amount of events too late: 2.830760955810547\n",
      "Avg absolute amount of events predicted too early / too late: 0.699545681476593\n",
      "Avg MAE RRT prediction validation set:  36862.5125 (minutes)'\n",
      " \n",
      "------------------------------------\n",
      "EPOCH 58:\n",
      "____________________________________\n"
     ]
    },
    {
     "name": "stderr",
     "output_type": "stream",
     "text": [
      "Batch calculation at epoch 58.: 805it [00:18, 49.31it/s]"
     ]
    },
    {
     "name": "stdout",
     "output_type": "stream",
     "text": [
      "------------------------------------------------------------\n",
      "Epoch 58, batch 799:\n",
      "Average original gradient norm: 0.586768766567111 (over last 800 batches)\n",
      "Average clipped gradient norm: 0.586768766567111 (over last 800 batches)\n",
      "Running average global loss: 0.7134659270942211 (over last 800 batches)\n",
      "Running average activity prediction loss: 0.4079329427331686 (Cross Entropy over last 800 batches)\n",
      "Running average time till next event prediction loss: 0.3055329841375351 (MAE over last 800 batches)\n",
      "------------------------------------------------------------\n"
     ]
    },
    {
     "name": "stderr",
     "output_type": "stream",
     "text": [
      "Batch calculation at epoch 58.: 1612it [00:32, 62.00it/s]"
     ]
    },
    {
     "name": "stdout",
     "output_type": "stream",
     "text": [
      "------------------------------------------------------------\n",
      "Epoch 58, batch 1599:\n",
      "Average original gradient norm: 0.5880049653723836 (over last 800 batches)\n",
      "Average clipped gradient norm: 0.5880049653723836 (over last 800 batches)\n",
      "Running average global loss: 0.7116993242502212 (over last 800 batches)\n",
      "Running average activity prediction loss: 0.4070087830349803 (Cross Entropy over last 800 batches)\n",
      "Running average time till next event prediction loss: 0.3046905410289764 (MAE over last 800 batches)\n",
      "------------------------------------------------------------\n"
     ]
    },
    {
     "name": "stderr",
     "output_type": "stream",
     "text": [
      "Batch calculation at epoch 58.: 2404it [00:49, 57.98it/s]"
     ]
    },
    {
     "name": "stdout",
     "output_type": "stream",
     "text": [
      "------------------------------------------------------------\n",
      "Epoch 58, batch 2399:\n",
      "Average original gradient norm: 0.5786123484373092 (over last 800 batches)\n",
      "Average clipped gradient norm: 0.5786123484373092 (over last 800 batches)\n",
      "Running average global loss: 0.7120895014703273 (over last 800 batches)\n",
      "Running average activity prediction loss: 0.40766623001545665 (Cross Entropy over last 800 batches)\n",
      "Running average time till next event prediction loss: 0.30442327169701455 (MAE over last 800 batches)\n",
      "------------------------------------------------------------\n"
     ]
    },
    {
     "name": "stderr",
     "output_type": "stream",
     "text": [
      "Batch calculation at epoch 58.: 3203it [01:18, 17.11it/s]"
     ]
    },
    {
     "name": "stdout",
     "output_type": "stream",
     "text": [
      "------------------------------------------------------------\n",
      "Epoch 58, batch 3199:\n",
      "Average original gradient norm: 0.6020958209037781 (over last 800 batches)\n",
      "Average clipped gradient norm: 0.6020958209037781 (over last 800 batches)\n",
      "Running average global loss: 0.7163979181647301 (over last 800 batches)\n",
      "Running average activity prediction loss: 0.4116650018841028 (Cross Entropy over last 800 batches)\n",
      "Running average time till next event prediction loss: 0.30473291700705885 (MAE over last 800 batches)\n",
      "------------------------------------------------------------\n"
     ]
    },
    {
     "name": "stderr",
     "output_type": "stream",
     "text": [
      "Batch calculation at epoch 58.: 4002it [02:02, 20.20it/s]"
     ]
    },
    {
     "name": "stdout",
     "output_type": "stream",
     "text": [
      "------------------------------------------------------------\n",
      "Epoch 58, batch 3999:\n",
      "Average original gradient norm: 0.5949119504913688 (over last 800 batches)\n",
      "Average clipped gradient norm: 0.5949119504913688 (over last 800 batches)\n",
      "Running average global loss: 0.7156803184002638 (over last 800 batches)\n",
      "Running average activity prediction loss: 0.41095469783991573 (Cross Entropy over last 800 batches)\n",
      "Running average time till next event prediction loss: 0.30472561964765194 (MAE over last 800 batches)\n",
      "------------------------------------------------------------\n"
     ]
    },
    {
     "name": "stderr",
     "output_type": "stream",
     "text": [
      "Batch calculation at epoch 58.: 4295it [02:19, 30.78it/s]\n"
     ]
    },
    {
     "name": "stdout",
     "output_type": "stream",
     "text": [
      "=======================================\n",
      "End of epoch 58\n",
      "=======================================\n",
      "Running average global loss: 0.7139395755529404 (over last 800 batches)\n",
      "Running average activity prediction loss: 0.4088284471258521 (Cross Entropy over last 800 batches)\n",
      "Running average time till next event prediction loss: 0.3051111279986799 (MAE over last 800 batches)\n"
     ]
    },
    {
     "name": "stderr",
     "output_type": "stream",
     "text": [
      "Validation batch calculation: 40it [00:28,  1.40it/s]\n"
     ]
    },
    {
     "name": "stdout",
     "output_type": "stream",
     "text": [
      "Avg MAE TTNE prediction validation set: 0.46500468254089355 (standardized) ; 17158.727083333335 (minutes)'\n",
      "Avg 1-(normalized) DL distance acitivty suffix prediction validation set: 0.8445172309875488\n",
      "Percentage of suffixes predicted to END: too early - 0.29780710934902793 ; right moment - 0.6339682578770455 ; too late - 0.06822463277392664\n",
      "Too early instances - avg amount of events too early: 1.6956629753112793\n",
      "Too late instances - avg amount of events too late: 2.8370330333709717\n",
      "Avg absolute amount of events predicted too early / too late: 0.6985360383987427\n",
      "Avg MAE RRT prediction validation set:  36768.425 (minutes)'\n",
      " \n",
      "------------------------------------\n",
      "EPOCH 59:\n",
      "____________________________________\n"
     ]
    },
    {
     "name": "stderr",
     "output_type": "stream",
     "text": [
      "Batch calculation at epoch 59.: 807it [00:18, 62.16it/s]"
     ]
    },
    {
     "name": "stdout",
     "output_type": "stream",
     "text": [
      "------------------------------------------------------------\n",
      "Epoch 59, batch 799:\n",
      "Average original gradient norm: 0.5944702320918441 (over last 800 batches)\n",
      "Average clipped gradient norm: 0.5944702320918441 (over last 800 batches)\n",
      "Running average global loss: 0.7130274633318185 (over last 800 batches)\n",
      "Running average activity prediction loss: 0.4074976697936654 (Cross Entropy over last 800 batches)\n",
      "Running average time till next event prediction loss: 0.3055297939106822 (MAE over last 800 batches)\n",
      "------------------------------------------------------------\n"
     ]
    },
    {
     "name": "stderr",
     "output_type": "stream",
     "text": [
      "Batch calculation at epoch 59.: 1607it [00:38, 40.12it/s]"
     ]
    },
    {
     "name": "stdout",
     "output_type": "stream",
     "text": [
      "------------------------------------------------------------\n",
      "Epoch 59, batch 1599:\n",
      "Average original gradient norm: 0.5955561700835824 (over last 800 batches)\n",
      "Average clipped gradient norm: 0.5955561700835824 (over last 800 batches)\n",
      "Running average global loss: 0.7168400118499995 (over last 800 batches)\n",
      "Running average activity prediction loss: 0.4126053960621357 (Cross Entropy over last 800 batches)\n",
      "Running average time till next event prediction loss: 0.3042346160300076 (MAE over last 800 batches)\n",
      "------------------------------------------------------------\n"
     ]
    },
    {
     "name": "stderr",
     "output_type": "stream",
     "text": [
      "Batch calculation at epoch 59.: 2407it [00:54, 47.47it/s]"
     ]
    },
    {
     "name": "stdout",
     "output_type": "stream",
     "text": [
      "------------------------------------------------------------\n",
      "Epoch 59, batch 2399:\n",
      "Average original gradient norm: 0.5892154188081622 (over last 800 batches)\n",
      "Average clipped gradient norm: 0.5892154188081622 (over last 800 batches)\n",
      "Running average global loss: 0.7095214621722699 (over last 800 batches)\n",
      "Running average activity prediction loss: 0.405734273083508 (Cross Entropy over last 800 batches)\n",
      "Running average time till next event prediction loss: 0.3037871899828315 (MAE over last 800 batches)\n",
      "------------------------------------------------------------\n"
     ]
    },
    {
     "name": "stderr",
     "output_type": "stream",
     "text": [
      "Batch calculation at epoch 59.: 3205it [01:12, 42.00it/s]"
     ]
    },
    {
     "name": "stdout",
     "output_type": "stream",
     "text": [
      "------------------------------------------------------------\n",
      "Epoch 59, batch 3199:\n",
      "Average original gradient norm: 0.5935827748849988 (over last 800 batches)\n",
      "Average clipped gradient norm: 0.5935827748849988 (over last 800 batches)\n",
      "Running average global loss: 0.7151977480202913 (over last 800 batches)\n",
      "Running average activity prediction loss: 0.4097656150534749 (Cross Entropy over last 800 batches)\n",
      "Running average time till next event prediction loss: 0.30543213345110415 (MAE over last 800 batches)\n",
      "------------------------------------------------------------\n"
     ]
    },
    {
     "name": "stderr",
     "output_type": "stream",
     "text": [
      "Batch calculation at epoch 59.: 4002it [01:48, 16.10it/s]"
     ]
    },
    {
     "name": "stdout",
     "output_type": "stream",
     "text": [
      "------------------------------------------------------------\n",
      "Epoch 59, batch 3999:\n",
      "Average original gradient norm: 0.6009142158553005 (over last 800 batches)\n",
      "Average clipped gradient norm: 0.6009142158553005 (over last 800 batches)\n",
      "Running average global loss: 0.7131903714686633 (over last 800 batches)\n",
      "Running average activity prediction loss: 0.40874259248375894 (Cross Entropy over last 800 batches)\n",
      "Running average time till next event prediction loss: 0.3044477795995772 (MAE over last 800 batches)\n",
      "------------------------------------------------------------\n"
     ]
    },
    {
     "name": "stderr",
     "output_type": "stream",
     "text": [
      "Batch calculation at epoch 59.: 4295it [02:01, 35.29it/s]\n"
     ]
    },
    {
     "name": "stdout",
     "output_type": "stream",
     "text": [
      "=======================================\n",
      "End of epoch 59\n",
      "=======================================\n",
      "Running average global loss: 0.7135640217363834 (over last 800 batches)\n",
      "Running average activity prediction loss: 0.40939767852425574 (Cross Entropy over last 800 batches)\n",
      "Running average time till next event prediction loss: 0.30416634388267993 (MAE over last 800 batches)\n"
     ]
    },
    {
     "name": "stderr",
     "output_type": "stream",
     "text": [
      "Validation batch calculation: 40it [00:21,  1.86it/s]\n"
     ]
    },
    {
     "name": "stdout",
     "output_type": "stream",
     "text": [
      "Avg MAE TTNE prediction validation set: 0.4631388783454895 (standardized) ; 17087.844791666666 (minutes)'\n",
      "Avg 1-(normalized) DL distance acitivty suffix prediction validation set: 0.8444643020629883\n",
      "Percentage of suffixes predicted to END: too early - 0.29759779356538657 ; right moment - 0.6339559451838901 ; too late - 0.06844626125072337\n",
      "Too early instances - avg amount of events too early: 1.6951179504394531\n",
      "Too late instances - avg amount of events too late: 2.835402011871338\n",
      "Avg absolute amount of events predicted too early / too late: 0.6985360383987427\n",
      "Avg MAE RRT prediction validation set:  36830.625 (minutes)'\n",
      " \n",
      "------------------------------------\n",
      "EPOCH 60:\n",
      "____________________________________\n"
     ]
    },
    {
     "name": "stderr",
     "output_type": "stream",
     "text": [
      "Batch calculation at epoch 60.: 804it [00:21, 41.80it/s]"
     ]
    },
    {
     "name": "stdout",
     "output_type": "stream",
     "text": [
      "------------------------------------------------------------\n",
      "Epoch 60, batch 799:\n",
      "Average original gradient norm: 0.581168236322701 (over last 800 batches)\n",
      "Average clipped gradient norm: 0.581168236322701 (over last 800 batches)\n",
      "Running average global loss: 0.7135199811309576 (over last 800 batches)\n",
      "Running average activity prediction loss: 0.4088765428215265 (Cross Entropy over last 800 batches)\n",
      "Running average time till next event prediction loss: 0.30464343760162593 (MAE over last 800 batches)\n",
      "------------------------------------------------------------\n"
     ]
    },
    {
     "name": "stderr",
     "output_type": "stream",
     "text": [
      "Batch calculation at epoch 60.: 1608it [00:37, 49.46it/s]"
     ]
    },
    {
     "name": "stdout",
     "output_type": "stream",
     "text": [
      "------------------------------------------------------------\n",
      "Epoch 60, batch 1599:\n",
      "Average original gradient norm: 0.593856300227344 (over last 800 batches)\n",
      "Average clipped gradient norm: 0.593856300227344 (over last 800 batches)\n",
      "Running average global loss: 0.7146650964766741 (over last 800 batches)\n",
      "Running average activity prediction loss: 0.4098940179683268 (Cross Entropy over last 800 batches)\n",
      "Running average time till next event prediction loss: 0.3047710788995028 (MAE over last 800 batches)\n",
      "------------------------------------------------------------\n"
     ]
    },
    {
     "name": "stderr",
     "output_type": "stream",
     "text": [
      "Batch calculation at epoch 60.: 2408it [00:53, 47.98it/s]"
     ]
    },
    {
     "name": "stdout",
     "output_type": "stream",
     "text": [
      "------------------------------------------------------------\n",
      "Epoch 60, batch 2399:\n",
      "Average original gradient norm: 0.5975118676573038 (over last 800 batches)\n",
      "Average clipped gradient norm: 0.5975118676573038 (over last 800 batches)\n",
      "Running average global loss: 0.7111423037946224 (over last 800 batches)\n",
      "Running average activity prediction loss: 0.4062654935568571 (Cross Entropy over last 800 batches)\n",
      "Running average time till next event prediction loss: 0.3048768089711666 (MAE over last 800 batches)\n",
      "------------------------------------------------------------\n"
     ]
    },
    {
     "name": "stderr",
     "output_type": "stream",
     "text": [
      "Batch calculation at epoch 60.: 3204it [01:14, 23.89it/s]"
     ]
    },
    {
     "name": "stdout",
     "output_type": "stream",
     "text": [
      "------------------------------------------------------------\n",
      "Epoch 60, batch 3199:\n",
      "Average original gradient norm: 0.5894197652861476 (over last 800 batches)\n",
      "Average clipped gradient norm: 0.5894197652861476 (over last 800 batches)\n",
      "Running average global loss: 0.7135040540993214 (over last 800 batches)\n",
      "Running average activity prediction loss: 0.40959173735231164 (Cross Entropy over last 800 batches)\n",
      "Running average time till next event prediction loss: 0.3039123177528381 (MAE over last 800 batches)\n",
      "------------------------------------------------------------\n"
     ]
    },
    {
     "name": "stderr",
     "output_type": "stream",
     "text": [
      "Batch calculation at epoch 60.: 4002it [01:46, 22.34it/s]"
     ]
    },
    {
     "name": "stdout",
     "output_type": "stream",
     "text": [
      "------------------------------------------------------------\n",
      "Epoch 60, batch 3999:\n",
      "Average original gradient norm: 0.588783245831728 (over last 800 batches)\n",
      "Average clipped gradient norm: 0.588783245831728 (over last 800 batches)\n",
      "Running average global loss: 0.7129225962609053 (over last 800 batches)\n",
      "Running average activity prediction loss: 0.409246533177793 (Cross Entropy over last 800 batches)\n",
      "Running average time till next event prediction loss: 0.30367606293410065 (MAE over last 800 batches)\n",
      "------------------------------------------------------------\n"
     ]
    },
    {
     "name": "stderr",
     "output_type": "stream",
     "text": [
      "Batch calculation at epoch 60.: 4295it [02:01, 35.27it/s]\n"
     ]
    },
    {
     "name": "stdout",
     "output_type": "stream",
     "text": [
      "=======================================\n",
      "End of epoch 60\n",
      "=======================================\n",
      "Running average global loss: 0.7146569561958312 (over last 800 batches)\n",
      "Running average activity prediction loss: 0.40981255266815425 (Cross Entropy over last 800 batches)\n",
      "Running average time till next event prediction loss: 0.30484440330415963 (MAE over last 800 batches)\n"
     ]
    },
    {
     "name": "stderr",
     "output_type": "stream",
     "text": [
      "Validation batch calculation: 40it [00:22,  1.75it/s]\n"
     ]
    },
    {
     "name": "stdout",
     "output_type": "stream",
     "text": [
      "Avg MAE TTNE prediction validation set: 0.4617501199245453 (standardized) ; 17036.076041666667 (minutes)'\n",
      "Avg 1-(normalized) DL distance acitivty suffix prediction validation set: 0.8443812131881714\n",
      "Percentage of suffixes predicted to END: too early - 0.2981026139847569 ; right moment - 0.6335988770823843 ; too late - 0.06829850893285888\n",
      "Too early instances - avg amount of events too early: 1.6952624320983887\n",
      "Too late instances - avg amount of events too late: 2.8446006774902344\n",
      "Avg absolute amount of events predicted too early / too late: 0.699644148349762\n",
      "Avg MAE RRT prediction validation set:  36842.9375 (minutes)'\n",
      " \n",
      "------------------------------------\n",
      "EPOCH 61:\n",
      "____________________________________\n"
     ]
    },
    {
     "name": "stderr",
     "output_type": "stream",
     "text": [
      "Batch calculation at epoch 61.: 808it [00:20, 58.76it/s]"
     ]
    },
    {
     "name": "stdout",
     "output_type": "stream",
     "text": [
      "------------------------------------------------------------\n",
      "Epoch 61, batch 799:\n",
      "Average original gradient norm: 0.5840253691002727 (over last 800 batches)\n",
      "Average clipped gradient norm: 0.5840253691002727 (over last 800 batches)\n",
      "Running average global loss: 0.7119979503005743 (over last 800 batches)\n",
      "Running average activity prediction loss: 0.40665223978459836 (Cross Entropy over last 800 batches)\n",
      "Running average time till next event prediction loss: 0.30534571075811984 (MAE over last 800 batches)\n",
      "------------------------------------------------------------\n"
     ]
    },
    {
     "name": "stderr",
     "output_type": "stream",
     "text": [
      "Batch calculation at epoch 61.: 1607it [00:36, 55.56it/s]"
     ]
    },
    {
     "name": "stdout",
     "output_type": "stream",
     "text": [
      "------------------------------------------------------------\n",
      "Epoch 61, batch 1599:\n",
      "Average original gradient norm: 0.592856876552105 (over last 800 batches)\n",
      "Average clipped gradient norm: 0.592856876552105 (over last 800 batches)\n",
      "Running average global loss: 0.7164360551536083 (over last 800 batches)\n",
      "Running average activity prediction loss: 0.4111817905679345 (Cross Entropy over last 800 batches)\n",
      "Running average time till next event prediction loss: 0.30525426391512156 (MAE over last 800 batches)\n",
      "------------------------------------------------------------\n"
     ]
    },
    {
     "name": "stderr",
     "output_type": "stream",
     "text": [
      "Batch calculation at epoch 61.: 2407it [00:53, 49.23it/s]"
     ]
    },
    {
     "name": "stdout",
     "output_type": "stream",
     "text": [
      "------------------------------------------------------------\n",
      "Epoch 61, batch 2399:\n",
      "Average original gradient norm: 0.5922338630631566 (over last 800 batches)\n",
      "Average clipped gradient norm: 0.5922338630631566 (over last 800 batches)\n",
      "Running average global loss: 0.7118014595657587 (over last 800 batches)\n",
      "Running average activity prediction loss: 0.4084733183309436 (Cross Entropy over last 800 batches)\n",
      "Running average time till next event prediction loss: 0.30332814048975704 (MAE over last 800 batches)\n",
      "------------------------------------------------------------\n"
     ]
    },
    {
     "name": "stderr",
     "output_type": "stream",
     "text": [
      "Batch calculation at epoch 61.: 3205it [01:09, 50.53it/s]"
     ]
    },
    {
     "name": "stdout",
     "output_type": "stream",
     "text": [
      "------------------------------------------------------------\n",
      "Epoch 61, batch 3199:\n",
      "Average original gradient norm: 0.586251481845975 (over last 800 batches)\n",
      "Average clipped gradient norm: 0.586251481845975 (over last 800 batches)\n",
      "Running average global loss: 0.7139815110713243 (over last 800 batches)\n",
      "Running average activity prediction loss: 0.4081048496440053 (Cross Entropy over last 800 batches)\n",
      "Running average time till next event prediction loss: 0.30587666161358357 (MAE over last 800 batches)\n",
      "------------------------------------------------------------\n"
     ]
    },
    {
     "name": "stderr",
     "output_type": "stream",
     "text": [
      "Batch calculation at epoch 61.: 4002it [01:23, 53.83it/s]"
     ]
    },
    {
     "name": "stdout",
     "output_type": "stream",
     "text": [
      "------------------------------------------------------------\n",
      "Epoch 61, batch 3999:\n",
      "Average original gradient norm: 0.5986526482924819 (over last 800 batches)\n",
      "Average clipped gradient norm: 0.5986526482924819 (over last 800 batches)\n",
      "Running average global loss: 0.7126391141861678 (over last 800 batches)\n",
      "Running average activity prediction loss: 0.4087421168386936 (Cross Entropy over last 800 batches)\n",
      "Running average time till next event prediction loss: 0.30389699744060633 (MAE over last 800 batches)\n",
      "------------------------------------------------------------\n"
     ]
    },
    {
     "name": "stderr",
     "output_type": "stream",
     "text": [
      "Batch calculation at epoch 61.: 4295it [01:29, 48.11it/s]\n"
     ]
    },
    {
     "name": "stdout",
     "output_type": "stream",
     "text": [
      "=======================================\n",
      "End of epoch 61\n",
      "=======================================\n",
      "Running average global loss: 0.7148476646095514 (over last 800 batches)\n",
      "Running average activity prediction loss: 0.4107924602180719 (Cross Entropy over last 800 batches)\n",
      "Running average time till next event prediction loss: 0.3040552056208253 (MAE over last 800 batches)\n"
     ]
    },
    {
     "name": "stderr",
     "output_type": "stream",
     "text": [
      "Validation batch calculation: 40it [00:19,  2.02it/s]\n"
     ]
    },
    {
     "name": "stdout",
     "output_type": "stream",
     "text": [
      "Avg MAE TTNE prediction validation set: 0.46231240034103394 (standardized) ; 17059.457291666666 (minutes)'\n",
      "Avg 1-(normalized) DL distance acitivty suffix prediction validation set: 0.8444772362709045\n",
      "Percentage of suffixes predicted to END: too early - 0.29754854279276505 ; right moment - 0.633919007104424 ; too late - 0.06853245010281099\n",
      "Too early instances - avg amount of events too early: 1.6980054378509521\n",
      "Too late instances - avg amount of events too late: 2.81099534034729\n",
      "Avg absolute amount of events predicted too early / too late: 0.6978834271430969\n",
      "Avg MAE RRT prediction validation set:  36795.941666666666 (minutes)'\n",
      " \n",
      "------------------------------------\n",
      "EPOCH 62:\n",
      "____________________________________\n"
     ]
    },
    {
     "name": "stderr",
     "output_type": "stream",
     "text": [
      "Batch calculation at epoch 62.: 805it [00:15, 49.95it/s]"
     ]
    },
    {
     "name": "stdout",
     "output_type": "stream",
     "text": [
      "------------------------------------------------------------\n",
      "Epoch 62, batch 799:\n",
      "Average original gradient norm: 0.5905866292119026 (over last 800 batches)\n",
      "Average clipped gradient norm: 0.5905866292119026 (over last 800 batches)\n",
      "Running average global loss: 0.7152775892615318 (over last 800 batches)\n",
      "Running average activity prediction loss: 0.4110528904944658 (Cross Entropy over last 800 batches)\n",
      "Running average time till next event prediction loss: 0.3042246997728944 (MAE over last 800 batches)\n",
      "------------------------------------------------------------\n"
     ]
    },
    {
     "name": "stderr",
     "output_type": "stream",
     "text": [
      "Batch calculation at epoch 62.: 1603it [00:33, 27.20it/s]"
     ]
    },
    {
     "name": "stdout",
     "output_type": "stream",
     "text": [
      "------------------------------------------------------------\n",
      "Epoch 62, batch 1599:\n",
      "Average original gradient norm: 0.5894503143429756 (over last 800 batches)\n",
      "Average clipped gradient norm: 0.5894503143429756 (over last 800 batches)\n",
      "Running average global loss: 0.7104564117640257 (over last 800 batches)\n",
      "Running average activity prediction loss: 0.4064669897593558 (Cross Entropy over last 800 batches)\n",
      "Running average time till next event prediction loss: 0.3039894220232964 (MAE over last 800 batches)\n",
      "------------------------------------------------------------\n"
     ]
    },
    {
     "name": "stderr",
     "output_type": "stream",
     "text": [
      "Batch calculation at epoch 62.: 2405it [00:56, 47.53it/s]"
     ]
    },
    {
     "name": "stdout",
     "output_type": "stream",
     "text": [
      "------------------------------------------------------------\n",
      "Epoch 62, batch 2399:\n",
      "Average original gradient norm: 0.5771990643441677 (over last 800 batches)\n",
      "Average clipped gradient norm: 0.5771990643441677 (over last 800 batches)\n",
      "Running average global loss: 0.7130667158961296 (over last 800 batches)\n",
      "Running average activity prediction loss: 0.40812144346535206 (Cross Entropy over last 800 batches)\n",
      "Running average time till next event prediction loss: 0.30494527230039237 (MAE over last 800 batches)\n",
      "------------------------------------------------------------\n"
     ]
    },
    {
     "name": "stderr",
     "output_type": "stream",
     "text": [
      "Batch calculation at epoch 62.: 3209it [01:10, 54.26it/s]"
     ]
    },
    {
     "name": "stdout",
     "output_type": "stream",
     "text": [
      "------------------------------------------------------------\n",
      "Epoch 62, batch 3199:\n",
      "Average original gradient norm: 0.5875393727049232 (over last 800 batches)\n",
      "Average clipped gradient norm: 0.5875393727049232 (over last 800 batches)\n",
      "Running average global loss: 0.7141750060021878 (over last 800 batches)\n",
      "Running average activity prediction loss: 0.40882363215088846 (Cross Entropy over last 800 batches)\n",
      "Running average time till next event prediction loss: 0.30535137340426444 (MAE over last 800 batches)\n",
      "------------------------------------------------------------\n"
     ]
    },
    {
     "name": "stderr",
     "output_type": "stream",
     "text": [
      "Batch calculation at epoch 62.: 4009it [01:25, 49.08it/s]"
     ]
    },
    {
     "name": "stdout",
     "output_type": "stream",
     "text": [
      "------------------------------------------------------------\n",
      "Epoch 62, batch 3999:\n",
      "Average original gradient norm: 0.5860803139582277 (over last 800 batches)\n",
      "Average clipped gradient norm: 0.5860803139582277 (over last 800 batches)\n",
      "Running average global loss: 0.7122371530532837 (over last 800 batches)\n",
      "Running average activity prediction loss: 0.4078760102763772 (Cross Entropy over last 800 batches)\n",
      "Running average time till next event prediction loss: 0.3043611431494355 (MAE over last 800 batches)\n",
      "------------------------------------------------------------\n"
     ]
    },
    {
     "name": "stderr",
     "output_type": "stream",
     "text": [
      "Batch calculation at epoch 62.: 4295it [01:31, 46.88it/s]\n"
     ]
    },
    {
     "name": "stdout",
     "output_type": "stream",
     "text": [
      "=======================================\n",
      "End of epoch 62\n",
      "=======================================\n",
      "Running average global loss: 0.7131071526557207 (over last 800 batches)\n",
      "Running average activity prediction loss: 0.4080767345800996 (Cross Entropy over last 800 batches)\n",
      "Running average time till next event prediction loss: 0.3050304183550179 (MAE over last 800 batches)\n"
     ]
    },
    {
     "name": "stderr",
     "output_type": "stream",
     "text": [
      "Validation batch calculation: 40it [00:21,  1.90it/s]\n"
     ]
    },
    {
     "name": "stdout",
     "output_type": "stream",
     "text": [
      "Avg MAE TTNE prediction validation set: 0.46352291107177734 (standardized) ; 17103.495833333334 (minutes)'\n",
      "Avg 1-(normalized) DL distance acitivty suffix prediction validation set: 0.8445765972137451\n",
      "Percentage of suffixes predicted to END: too early - 0.29816417745053375 ; right moment - 0.6341775736606868 ; too late - 0.06765824888877944\n",
      "Too early instances - avg amount of events too early: 1.6985876560211182\n",
      "Too late instances - avg amount of events too late: 2.8200182914733887\n",
      "Avg absolute amount of events predicted too early / too late: 0.6972554922103882\n",
      "Avg MAE RRT prediction validation set:  36702.79583333333 (minutes)'\n",
      " \n",
      "------------------------------------\n",
      "EPOCH 63:\n",
      "____________________________________\n"
     ]
    },
    {
     "name": "stderr",
     "output_type": "stream",
     "text": [
      "Batch calculation at epoch 63.: 803it [00:25, 18.60it/s]"
     ]
    },
    {
     "name": "stdout",
     "output_type": "stream",
     "text": [
      "------------------------------------------------------------\n",
      "Epoch 63, batch 799:\n",
      "Average original gradient norm: 0.595804902985692 (over last 800 batches)\n",
      "Average clipped gradient norm: 0.595804902985692 (over last 800 batches)\n",
      "Running average global loss: 0.7123206128180027 (over last 800 batches)\n",
      "Running average activity prediction loss: 0.4079203414171934 (Cross Entropy over last 800 batches)\n",
      "Running average time till next event prediction loss: 0.30440027099102734 (MAE over last 800 batches)\n",
      "------------------------------------------------------------\n"
     ]
    },
    {
     "name": "stderr",
     "output_type": "stream",
     "text": [
      "Batch calculation at epoch 63.: 1608it [01:07, 50.78it/s]"
     ]
    },
    {
     "name": "stdout",
     "output_type": "stream",
     "text": [
      "------------------------------------------------------------\n",
      "Epoch 63, batch 1599:\n",
      "Average original gradient norm: 0.5908604774624109 (over last 800 batches)\n",
      "Average clipped gradient norm: 0.5908604774624109 (over last 800 batches)\n",
      "Running average global loss: 0.7134571082890033 (over last 800 batches)\n",
      "Running average activity prediction loss: 0.4090353151783347 (Cross Entropy over last 800 batches)\n",
      "Running average time till next event prediction loss: 0.30442179216071963 (MAE over last 800 batches)\n",
      "------------------------------------------------------------\n"
     ]
    },
    {
     "name": "stderr",
     "output_type": "stream",
     "text": [
      "Batch calculation at epoch 63.: 2401it [01:23, 47.25it/s]"
     ]
    },
    {
     "name": "stdout",
     "output_type": "stream",
     "text": [
      "------------------------------------------------------------\n",
      "Epoch 63, batch 2399:\n",
      "Average original gradient norm: 0.5893311624228954 (over last 800 batches)\n",
      "Average clipped gradient norm: 0.5893311624228954 (over last 800 batches)\n",
      "Running average global loss: 0.711235071644187 (over last 800 batches)\n",
      "Running average activity prediction loss: 0.4068207670375705 (Cross Entropy over last 800 batches)\n",
      "Running average time till next event prediction loss: 0.30441430540755393 (MAE over last 800 batches)\n",
      "------------------------------------------------------------\n"
     ]
    },
    {
     "name": "stderr",
     "output_type": "stream",
     "text": [
      "Batch calculation at epoch 63.: 3212it [01:39, 63.08it/s]"
     ]
    },
    {
     "name": "stdout",
     "output_type": "stream",
     "text": [
      "------------------------------------------------------------\n",
      "Epoch 63, batch 3199:\n",
      "Average original gradient norm: 0.5931977848708629 (over last 800 batches)\n",
      "Average clipped gradient norm: 0.5931977848708629 (over last 800 batches)\n",
      "Running average global loss: 0.71092738725245 (over last 800 batches)\n",
      "Running average activity prediction loss: 0.40639069497585295 (Cross Entropy over last 800 batches)\n",
      "Running average time till next event prediction loss: 0.3045366930402815 (MAE over last 800 batches)\n",
      "------------------------------------------------------------\n"
     ]
    },
    {
     "name": "stderr",
     "output_type": "stream",
     "text": [
      "Batch calculation at epoch 63.: 4009it [01:54, 55.22it/s]"
     ]
    },
    {
     "name": "stdout",
     "output_type": "stream",
     "text": [
      "------------------------------------------------------------\n",
      "Epoch 63, batch 3999:\n",
      "Average original gradient norm: 0.5877186970040202 (over last 800 batches)\n",
      "Average clipped gradient norm: 0.5877186970040202 (over last 800 batches)\n",
      "Running average global loss: 0.7182308228313923 (over last 800 batches)\n",
      "Running average activity prediction loss: 0.4131239026039839 (Cross Entropy over last 800 batches)\n",
      "Running average time till next event prediction loss: 0.3051069203577936 (MAE over last 800 batches)\n",
      "------------------------------------------------------------\n"
     ]
    },
    {
     "name": "stderr",
     "output_type": "stream",
     "text": [
      "Batch calculation at epoch 63.: 4295it [01:59, 35.88it/s]\n"
     ]
    },
    {
     "name": "stdout",
     "output_type": "stream",
     "text": [
      "=======================================\n",
      "End of epoch 63\n",
      "=======================================\n",
      "Running average global loss: 0.715050682425499 (over last 800 batches)\n",
      "Running average activity prediction loss: 0.41085326883941886 (Cross Entropy over last 800 batches)\n",
      "Running average time till next event prediction loss: 0.3041974141262472 (MAE over last 800 batches)\n"
     ]
    },
    {
     "name": "stderr",
     "output_type": "stream",
     "text": [
      "Validation batch calculation: 40it [00:22,  1.78it/s]\n"
     ]
    },
    {
     "name": "stdout",
     "output_type": "stream",
     "text": [
      "Avg MAE TTNE prediction validation set: 0.4632056951522827 (standardized) ; 17091.632291666665 (minutes)'\n",
      "Avg 1-(normalized) DL distance acitivty suffix prediction validation set: 0.8446260094642639\n",
      "Percentage of suffixes predicted to END: too early - 0.2980903012916015 ; right moment - 0.634251449819619 ; too late - 0.06765824888877944\n",
      "Too early instances - avg amount of events too early: 1.6966129541397095\n",
      "Too late instances - avg amount of events too late: 2.8178343772888184\n",
      "Avg absolute amount of events predicted too early / too late: 0.696393609046936\n",
      "Avg MAE RRT prediction validation set:  36849.175 (minutes)'\n",
      " \n",
      "------------------------------------\n",
      "EPOCH 64:\n",
      "____________________________________\n"
     ]
    },
    {
     "name": "stderr",
     "output_type": "stream",
     "text": [
      "Batch calculation at epoch 64.: 809it [00:14, 45.12it/s]"
     ]
    },
    {
     "name": "stdout",
     "output_type": "stream",
     "text": [
      "------------------------------------------------------------\n",
      "Epoch 64, batch 799:\n",
      "Average original gradient norm: 0.5811909554898739 (over last 800 batches)\n",
      "Average clipped gradient norm: 0.5811909554898739 (over last 800 batches)\n",
      "Running average global loss: 0.7116484449058771 (over last 800 batches)\n",
      "Running average activity prediction loss: 0.40716710343956947 (Cross Entropy over last 800 batches)\n",
      "Running average time till next event prediction loss: 0.30448134342208505 (MAE over last 800 batches)\n",
      "------------------------------------------------------------\n"
     ]
    },
    {
     "name": "stderr",
     "output_type": "stream",
     "text": [
      "Batch calculation at epoch 64.: 1606it [00:36, 51.08it/s]"
     ]
    },
    {
     "name": "stdout",
     "output_type": "stream",
     "text": [
      "------------------------------------------------------------\n",
      "Epoch 64, batch 1599:\n",
      "Average original gradient norm: 0.5847514281421899 (over last 800 batches)\n",
      "Average clipped gradient norm: 0.5847514281421899 (over last 800 batches)\n",
      "Running average global loss: 0.7132038848847151 (over last 800 batches)\n",
      "Running average activity prediction loss: 0.40898474484682085 (Cross Entropy over last 800 batches)\n",
      "Running average time till next event prediction loss: 0.30421914035454395 (MAE over last 800 batches)\n",
      "------------------------------------------------------------\n"
     ]
    },
    {
     "name": "stderr",
     "output_type": "stream",
     "text": [
      "Batch calculation at epoch 64.: 2410it [00:52, 63.40it/s]"
     ]
    },
    {
     "name": "stdout",
     "output_type": "stream",
     "text": [
      "------------------------------------------------------------\n",
      "Epoch 64, batch 2399:\n",
      "Average original gradient norm: 0.5948323649540543 (over last 800 batches)\n",
      "Average clipped gradient norm: 0.5948323649540543 (over last 800 batches)\n",
      "Running average global loss: 0.7087016548216343 (over last 800 batches)\n",
      "Running average activity prediction loss: 0.40555671449750663 (Cross Entropy over last 800 batches)\n",
      "Running average time till next event prediction loss: 0.3031449396163225 (MAE over last 800 batches)\n",
      "------------------------------------------------------------\n"
     ]
    },
    {
     "name": "stderr",
     "output_type": "stream",
     "text": [
      "Batch calculation at epoch 64.: 3202it [01:09, 50.63it/s]"
     ]
    },
    {
     "name": "stdout",
     "output_type": "stream",
     "text": [
      "------------------------------------------------------------\n",
      "Epoch 64, batch 3199:\n",
      "Average original gradient norm: 0.5963934434950352 (over last 800 batches)\n",
      "Average clipped gradient norm: 0.5963934434950352 (over last 800 batches)\n",
      "Running average global loss: 0.7174195662140846 (over last 800 batches)\n",
      "Running average activity prediction loss: 0.4123016997240484 (Cross Entropy over last 800 batches)\n",
      "Running average time till next event prediction loss: 0.3051178671978414 (MAE over last 800 batches)\n",
      "------------------------------------------------------------\n"
     ]
    },
    {
     "name": "stderr",
     "output_type": "stream",
     "text": [
      "Batch calculation at epoch 64.: 4006it [01:34, 39.09it/s]"
     ]
    },
    {
     "name": "stdout",
     "output_type": "stream",
     "text": [
      "------------------------------------------------------------\n",
      "Epoch 64, batch 3999:\n",
      "Average original gradient norm: 0.5819577653706074 (over last 800 batches)\n",
      "Average clipped gradient norm: 0.5819577653706074 (over last 800 batches)\n",
      "Running average global loss: 0.7137561547011138 (over last 800 batches)\n",
      "Running average activity prediction loss: 0.4084291062504053 (Cross Entropy over last 800 batches)\n",
      "Running average time till next event prediction loss: 0.3053270489908755 (MAE over last 800 batches)\n",
      "------------------------------------------------------------\n"
     ]
    },
    {
     "name": "stderr",
     "output_type": "stream",
     "text": [
      "Batch calculation at epoch 64.: 4295it [01:41, 42.48it/s]\n"
     ]
    },
    {
     "name": "stdout",
     "output_type": "stream",
     "text": [
      "=======================================\n",
      "End of epoch 64\n",
      "=======================================\n",
      "Running average global loss: 0.7139664560556411 (over last 800 batches)\n",
      "Running average activity prediction loss: 0.4086694063991308 (Cross Entropy over last 800 batches)\n",
      "Running average time till next event prediction loss: 0.3052970494516194 (MAE over last 800 batches)\n"
     ]
    },
    {
     "name": "stderr",
     "output_type": "stream",
     "text": [
      "Validation batch calculation: 40it [00:26,  1.51it/s]\n"
     ]
    },
    {
     "name": "stdout",
     "output_type": "stream",
     "text": [
      "Avg MAE TTNE prediction validation set: 0.46108415722846985 (standardized) ; 17012.739583333332 (minutes)'\n",
      "Avg 1-(normalized) DL distance acitivty suffix prediction validation set: 0.8446955680847168\n",
      "Percentage of suffixes predicted to END: too early - 0.29737616508858983 ; right moment - 0.6342760752059298 ; too late - 0.06834775970548038\n",
      "Too early instances - avg amount of events too early: 1.6952219009399414\n",
      "Too late instances - avg amount of events too late: 2.8166096210479736\n",
      "Avg absolute amount of events predicted too early / too late: 0.6966275572776794\n",
      "Avg MAE RRT prediction validation set:  37013.541666666664 (minutes)'\n",
      " \n",
      "------------------------------------\n",
      "EPOCH 65:\n",
      "____________________________________\n"
     ]
    },
    {
     "name": "stderr",
     "output_type": "stream",
     "text": [
      "Batch calculation at epoch 65.: 804it [00:16, 47.55it/s]"
     ]
    },
    {
     "name": "stdout",
     "output_type": "stream",
     "text": [
      "------------------------------------------------------------\n",
      "Epoch 65, batch 799:\n",
      "Average original gradient norm: 0.58314408659935 (over last 800 batches)\n",
      "Average clipped gradient norm: 0.58314408659935 (over last 800 batches)\n",
      "Running average global loss: 0.7154740890860558 (over last 800 batches)\n",
      "Running average activity prediction loss: 0.4116316285356879 (Cross Entropy over last 800 batches)\n",
      "Running average time till next event prediction loss: 0.3038424605689943 (MAE over last 800 batches)\n",
      "------------------------------------------------------------\n"
     ]
    },
    {
     "name": "stderr",
     "output_type": "stream",
     "text": [
      "Batch calculation at epoch 65.: 1608it [00:32, 58.34it/s]"
     ]
    },
    {
     "name": "stdout",
     "output_type": "stream",
     "text": [
      "------------------------------------------------------------\n",
      "Epoch 65, batch 1599:\n",
      "Average original gradient norm: 0.5985744975879789 (over last 800 batches)\n",
      "Average clipped gradient norm: 0.5985744975879789 (over last 800 batches)\n",
      "Running average global loss: 0.7141901499032974 (over last 800 batches)\n",
      "Running average activity prediction loss: 0.4090022467076778 (Cross Entropy over last 800 batches)\n",
      "Running average time till next event prediction loss: 0.3051879036426544 (MAE over last 800 batches)\n",
      "------------------------------------------------------------\n"
     ]
    },
    {
     "name": "stderr",
     "output_type": "stream",
     "text": [
      "Batch calculation at epoch 65.: 2411it [00:46, 54.87it/s]"
     ]
    },
    {
     "name": "stdout",
     "output_type": "stream",
     "text": [
      "------------------------------------------------------------\n",
      "Epoch 65, batch 2399:\n",
      "Average original gradient norm: 0.5791214308515191 (over last 800 batches)\n",
      "Average clipped gradient norm: 0.5791214308515191 (over last 800 batches)\n",
      "Running average global loss: 0.7124536792188882 (over last 800 batches)\n",
      "Running average activity prediction loss: 0.4080571099743247 (Cross Entropy over last 800 batches)\n",
      "Running average time till next event prediction loss: 0.30439656851813196 (MAE over last 800 batches)\n",
      "------------------------------------------------------------\n"
     ]
    },
    {
     "name": "stderr",
     "output_type": "stream",
     "text": [
      "Batch calculation at epoch 65.: 3206it [01:02, 46.54it/s]"
     ]
    },
    {
     "name": "stdout",
     "output_type": "stream",
     "text": [
      "------------------------------------------------------------\n",
      "Epoch 65, batch 3199:\n",
      "Average original gradient norm: 0.5996827493607998 (over last 800 batches)\n",
      "Average clipped gradient norm: 0.5996827493607998 (over last 800 batches)\n",
      "Running average global loss: 0.7094320809096097 (over last 800 batches)\n",
      "Running average activity prediction loss: 0.4061471585929394 (Cross Entropy over last 800 batches)\n",
      "Running average time till next event prediction loss: 0.30328492250293493 (MAE over last 800 batches)\n",
      "------------------------------------------------------------\n"
     ]
    },
    {
     "name": "stderr",
     "output_type": "stream",
     "text": [
      "Batch calculation at epoch 65.: 4002it [01:22, 36.54it/s]"
     ]
    },
    {
     "name": "stdout",
     "output_type": "stream",
     "text": [
      "------------------------------------------------------------\n",
      "Epoch 65, batch 3999:\n",
      "Average original gradient norm: 0.5818021578341722 (over last 800 batches)\n",
      "Average clipped gradient norm: 0.5818021578341722 (over last 800 batches)\n",
      "Running average global loss: 0.7133875702321529 (over last 800 batches)\n",
      "Running average activity prediction loss: 0.40856997840106485 (Cross Entropy over last 800 batches)\n",
      "Running average time till next event prediction loss: 0.30481759214773774 (MAE over last 800 batches)\n",
      "------------------------------------------------------------\n"
     ]
    },
    {
     "name": "stderr",
     "output_type": "stream",
     "text": [
      "Batch calculation at epoch 65.: 4295it [01:34, 45.21it/s]\n"
     ]
    },
    {
     "name": "stdout",
     "output_type": "stream",
     "text": [
      "=======================================\n",
      "End of epoch 65\n",
      "=======================================\n",
      "Running average global loss: 0.7131022287905217 (over last 800 batches)\n",
      "Running average activity prediction loss: 0.4071657519042492 (Cross Entropy over last 800 batches)\n",
      "Running average time till next event prediction loss: 0.3059364756755531 (MAE over last 800 batches)\n"
     ]
    },
    {
     "name": "stderr",
     "output_type": "stream",
     "text": [
      "Validation batch calculation: 40it [00:22,  1.82it/s]\n"
     ]
    },
    {
     "name": "stdout",
     "output_type": "stream",
     "text": [
      "Avg MAE TTNE prediction validation set: 0.4620746672153473 (standardized) ; 17050.427083333332 (minutes)'\n",
      "Avg 1-(normalized) DL distance acitivty suffix prediction validation set: 0.8445951342582703\n",
      "Percentage of suffixes predicted to END: too early - 0.2978563601216494 ; right moment - 0.6342268244333082 ; too late - 0.0679168154450423\n",
      "Too early instances - avg amount of events too early: 1.6979868412017822\n",
      "Too late instances - avg amount of events too late: 2.8188905715942383\n",
      "Avg absolute amount of events predicted too early / too late: 0.6972062587738037\n",
      "Avg MAE RRT prediction validation set:  36828.63333333333 (minutes)'\n",
      " \n",
      "------------------------------------\n",
      "EPOCH 66:\n",
      "____________________________________\n"
     ]
    },
    {
     "name": "stderr",
     "output_type": "stream",
     "text": [
      "Batch calculation at epoch 66.: 807it [00:24, 45.11it/s]"
     ]
    },
    {
     "name": "stdout",
     "output_type": "stream",
     "text": [
      "------------------------------------------------------------\n",
      "Epoch 66, batch 799:\n",
      "Average original gradient norm: 0.5849534643813967 (over last 800 batches)\n",
      "Average clipped gradient norm: 0.5849534643813967 (over last 800 batches)\n",
      "Running average global loss: 0.711424557864666 (over last 800 batches)\n",
      "Running average activity prediction loss: 0.40642781760543584 (Cross Entropy over last 800 batches)\n",
      "Running average time till next event prediction loss: 0.3049967403523624 (MAE over last 800 batches)\n",
      "------------------------------------------------------------\n"
     ]
    },
    {
     "name": "stderr",
     "output_type": "stream",
     "text": [
      "Batch calculation at epoch 66.: 1600it [01:06, 14.61it/s]"
     ]
    },
    {
     "name": "stdout",
     "output_type": "stream",
     "text": [
      "------------------------------------------------------------\n",
      "Epoch 66, batch 1599:\n",
      "Average original gradient norm: 0.5859469331428409 (over last 800 batches)\n",
      "Average clipped gradient norm: 0.5859469331428409 (over last 800 batches)\n",
      "Running average global loss: 0.7149051361531019 (over last 800 batches)\n",
      "Running average activity prediction loss: 0.41080127634108066 (Cross Entropy over last 800 batches)\n",
      "Running average time till next event prediction loss: 0.3041038595326245 (MAE over last 800 batches)\n",
      "------------------------------------------------------------\n"
     ]
    },
    {
     "name": "stderr",
     "output_type": "stream",
     "text": [
      "Batch calculation at epoch 66.: 2404it [01:57, 23.16it/s]"
     ]
    },
    {
     "name": "stdout",
     "output_type": "stream",
     "text": [
      "------------------------------------------------------------\n",
      "Epoch 66, batch 2399:\n",
      "Average original gradient norm: 0.577430144585669 (over last 800 batches)\n",
      "Average clipped gradient norm: 0.577430144585669 (over last 800 batches)\n",
      "Running average global loss: 0.71028765052557 (over last 800 batches)\n",
      "Running average activity prediction loss: 0.406537430845201 (Cross Entropy over last 800 batches)\n",
      "Running average time till next event prediction loss: 0.30375021940097213 (MAE over last 800 batches)\n",
      "------------------------------------------------------------\n"
     ]
    },
    {
     "name": "stderr",
     "output_type": "stream",
     "text": [
      "Batch calculation at epoch 66.: 3203it [02:45, 32.40it/s]"
     ]
    },
    {
     "name": "stdout",
     "output_type": "stream",
     "text": [
      "------------------------------------------------------------\n",
      "Epoch 66, batch 3199:\n",
      "Average original gradient norm: 0.594123573154211 (over last 800 batches)\n",
      "Average clipped gradient norm: 0.594123573154211 (over last 800 batches)\n",
      "Running average global loss: 0.7143850366771222 (over last 800 batches)\n",
      "Running average activity prediction loss: 0.4104514680430293 (Cross Entropy over last 800 batches)\n",
      "Running average time till next event prediction loss: 0.30393356768414376 (MAE over last 800 batches)\n",
      "------------------------------------------------------------\n"
     ]
    },
    {
     "name": "stderr",
     "output_type": "stream",
     "text": [
      "Batch calculation at epoch 66.: 4007it [03:19, 42.99it/s]"
     ]
    },
    {
     "name": "stdout",
     "output_type": "stream",
     "text": [
      "------------------------------------------------------------\n",
      "Epoch 66, batch 3999:\n",
      "Average original gradient norm: 0.5874121242389083 (over last 800 batches)\n",
      "Average clipped gradient norm: 0.5874121242389083 (over last 800 batches)\n",
      "Running average global loss: 0.7139713757485151 (over last 800 batches)\n",
      "Running average activity prediction loss: 0.4094222003594041 (Cross Entropy over last 800 batches)\n",
      "Running average time till next event prediction loss: 0.3045491757616401 (MAE over last 800 batches)\n",
      "------------------------------------------------------------\n"
     ]
    },
    {
     "name": "stderr",
     "output_type": "stream",
     "text": [
      "Batch calculation at epoch 66.: 4295it [03:29, 20.47it/s]\n"
     ]
    },
    {
     "name": "stdout",
     "output_type": "stream",
     "text": [
      "=======================================\n",
      "End of epoch 66\n",
      "=======================================\n",
      "Running average global loss: 0.7127601616829634 (over last 800 batches)\n",
      "Running average activity prediction loss: 0.40818573366850613 (Cross Entropy over last 800 batches)\n",
      "Running average time till next event prediction loss: 0.3045744276419282 (MAE over last 800 batches)\n"
     ]
    },
    {
     "name": "stderr",
     "output_type": "stream",
     "text": [
      "Validation batch calculation: 40it [00:19,  2.02it/s]\n"
     ]
    },
    {
     "name": "stdout",
     "output_type": "stream",
     "text": [
      "Avg MAE TTNE prediction validation set: 0.46264293789863586 (standardized) ; 17070.565625 (minutes)'\n",
      "Avg 1-(normalized) DL distance acitivty suffix prediction validation set: 0.8445814847946167\n",
      "Percentage of suffixes predicted to END: too early - 0.29751160471329896 ; right moment - 0.634214511740153 ; too late - 0.06827388354654813\n",
      "Too early instances - avg amount of events too early: 1.6953192949295044\n",
      "Too late instances - avg amount of events too late: 2.838052272796631\n",
      "Avg absolute amount of events predicted too early / too late: 0.6981419920921326\n",
      "Avg MAE RRT prediction validation set:  36656.854166666664 (minutes)'\n",
      " \n",
      "------------------------------------\n",
      "EPOCH 67:\n",
      "____________________________________\n"
     ]
    },
    {
     "name": "stderr",
     "output_type": "stream",
     "text": [
      "Batch calculation at epoch 67.: 809it [00:27, 38.61it/s]"
     ]
    },
    {
     "name": "stdout",
     "output_type": "stream",
     "text": [
      "------------------------------------------------------------\n",
      "Epoch 67, batch 799:\n",
      "Average original gradient norm: 0.5795807909592986 (over last 800 batches)\n",
      "Average clipped gradient norm: 0.5795807909592986 (over last 800 batches)\n",
      "Running average global loss: 0.7119614432007074 (over last 800 batches)\n",
      "Running average activity prediction loss: 0.4086294194310904 (Cross Entropy over last 800 batches)\n",
      "Running average time till next event prediction loss: 0.3033320228010416 (MAE over last 800 batches)\n",
      "------------------------------------------------------------\n"
     ]
    },
    {
     "name": "stderr",
     "output_type": "stream",
     "text": [
      "Batch calculation at epoch 67.: 1602it [00:58, 28.96it/s]"
     ]
    },
    {
     "name": "stdout",
     "output_type": "stream",
     "text": [
      "------------------------------------------------------------\n",
      "Epoch 67, batch 1599:\n",
      "Average original gradient norm: 0.5890642080083489 (over last 800 batches)\n",
      "Average clipped gradient norm: 0.5890642080083489 (over last 800 batches)\n",
      "Running average global loss: 0.7117720924317836 (over last 800 batches)\n",
      "Running average activity prediction loss: 0.40752661243081095 (Cross Entropy over last 800 batches)\n",
      "Running average time till next event prediction loss: 0.3042454800568521 (MAE over last 800 batches)\n",
      "------------------------------------------------------------\n"
     ]
    },
    {
     "name": "stderr",
     "output_type": "stream",
     "text": [
      "Batch calculation at epoch 67.: 2400it [01:44, 20.63it/s]"
     ]
    },
    {
     "name": "stdout",
     "output_type": "stream",
     "text": [
      "------------------------------------------------------------\n",
      "Epoch 67, batch 2399:\n",
      "Average original gradient norm: 0.6019598902016878 (over last 800 batches)\n",
      "Average clipped gradient norm: 0.6019598902016878 (over last 800 batches)\n",
      "Running average global loss: 0.7142270313948393 (over last 800 batches)\n",
      "Running average activity prediction loss: 0.4091786908358335 (Cross Entropy over last 800 batches)\n",
      "Running average time till next event prediction loss: 0.3050483398884535 (MAE over last 800 batches)\n",
      "------------------------------------------------------------\n"
     ]
    },
    {
     "name": "stderr",
     "output_type": "stream",
     "text": [
      "Batch calculation at epoch 67.: 3204it [02:39, 24.58it/s]"
     ]
    },
    {
     "name": "stdout",
     "output_type": "stream",
     "text": [
      "------------------------------------------------------------\n",
      "Epoch 67, batch 3199:\n",
      "Average original gradient norm: 0.5876017136499285 (over last 800 batches)\n",
      "Average clipped gradient norm: 0.5876017136499285 (over last 800 batches)\n",
      "Running average global loss: 0.7143236204236746 (over last 800 batches)\n",
      "Running average activity prediction loss: 0.4088819846138358 (Cross Entropy over last 800 batches)\n",
      "Running average time till next event prediction loss: 0.3054416359588504 (MAE over last 800 batches)\n",
      "------------------------------------------------------------\n"
     ]
    },
    {
     "name": "stderr",
     "output_type": "stream",
     "text": [
      "Batch calculation at epoch 67.: 4008it [03:06, 40.87it/s]"
     ]
    },
    {
     "name": "stdout",
     "output_type": "stream",
     "text": [
      "------------------------------------------------------------\n",
      "Epoch 67, batch 3999:\n",
      "Average original gradient norm: 0.5896149541065097 (over last 800 batches)\n",
      "Average clipped gradient norm: 0.5896149541065097 (over last 800 batches)\n",
      "Running average global loss: 0.7116260214149952 (over last 800 batches)\n",
      "Running average activity prediction loss: 0.4074812863767147 (Cross Entropy over last 800 batches)\n",
      "Running average time till next event prediction loss: 0.304144735429436 (MAE over last 800 batches)\n",
      "------------------------------------------------------------\n"
     ]
    },
    {
     "name": "stderr",
     "output_type": "stream",
     "text": [
      "Batch calculation at epoch 67.: 4295it [03:16, 21.88it/s]\n"
     ]
    },
    {
     "name": "stdout",
     "output_type": "stream",
     "text": [
      "=======================================\n",
      "End of epoch 67\n",
      "=======================================\n",
      "Running average global loss: 0.7122641818970442 (over last 800 batches)\n",
      "Running average activity prediction loss: 0.4076412083208561 (Cross Entropy over last 800 batches)\n",
      "Running average time till next event prediction loss: 0.30462297316640613 (MAE over last 800 batches)\n"
     ]
    },
    {
     "name": "stderr",
     "output_type": "stream",
     "text": [
      "Validation batch calculation: 40it [00:18,  2.14it/s]\n"
     ]
    },
    {
     "name": "stdout",
     "output_type": "stream",
     "text": [
      "Avg MAE TTNE prediction validation set: 0.4630469083786011 (standardized) ; 17086.486458333333 (minutes)'\n",
      "Avg 1-(normalized) DL distance acitivty suffix prediction validation set: 0.8445671796798706\n",
      "Percentage of suffixes predicted to END: too early - 0.2980164251326693 ; right moment - 0.6340298213428223 ; too late - 0.06795375352450841\n",
      "Too early instances - avg amount of events too early: 1.6968683004379272\n",
      "Too late instances - avg amount of events too late: 2.8126471042633057\n",
      "Avg absolute amount of events predicted too early / too late: 0.6968245506286621\n",
      "Avg MAE RRT prediction validation set:  36751.59166666667 (minutes)'\n",
      " \n",
      "------------------------------------\n",
      "EPOCH 68:\n",
      "____________________________________\n"
     ]
    },
    {
     "name": "stderr",
     "output_type": "stream",
     "text": [
      "Batch calculation at epoch 68.: 805it [00:19, 39.86it/s]"
     ]
    },
    {
     "name": "stdout",
     "output_type": "stream",
     "text": [
      "------------------------------------------------------------\n",
      "Epoch 68, batch 799:\n",
      "Average original gradient norm: 0.5922324526309967 (over last 800 batches)\n",
      "Average clipped gradient norm: 0.5922324526309967 (over last 800 batches)\n",
      "Running average global loss: 0.7164096800982952 (over last 800 batches)\n",
      "Running average activity prediction loss: 0.41140026818960906 (Cross Entropy over last 800 batches)\n",
      "Running average time till next event prediction loss: 0.30500941287726163 (MAE over last 800 batches)\n",
      "------------------------------------------------------------\n"
     ]
    },
    {
     "name": "stderr",
     "output_type": "stream",
     "text": [
      "Batch calculation at epoch 68.: 1603it [00:42, 24.95it/s]"
     ]
    },
    {
     "name": "stdout",
     "output_type": "stream",
     "text": [
      "------------------------------------------------------------\n",
      "Epoch 68, batch 1599:\n",
      "Average original gradient norm: 0.5803673628345132 (over last 800 batches)\n",
      "Average clipped gradient norm: 0.5803673628345132 (over last 800 batches)\n",
      "Running average global loss: 0.713355979025364 (over last 800 batches)\n",
      "Running average activity prediction loss: 0.4095215712860227 (Cross Entropy over last 800 batches)\n",
      "Running average time till next event prediction loss: 0.3038344075344503 (MAE over last 800 batches)\n",
      "------------------------------------------------------------\n"
     ]
    },
    {
     "name": "stderr",
     "output_type": "stream",
     "text": [
      "Batch calculation at epoch 68.: 2403it [01:17, 16.02it/s]"
     ]
    },
    {
     "name": "stdout",
     "output_type": "stream",
     "text": [
      "------------------------------------------------------------\n",
      "Epoch 68, batch 2399:\n",
      "Average original gradient norm: 0.5911838539689779 (over last 800 batches)\n",
      "Average clipped gradient norm: 0.5911838539689779 (over last 800 batches)\n",
      "Running average global loss: 0.7091723342239856 (over last 800 batches)\n",
      "Running average activity prediction loss: 0.4051845547556877 (Cross Entropy over last 800 batches)\n",
      "Running average time till next event prediction loss: 0.30398777972906826 (MAE over last 800 batches)\n",
      "------------------------------------------------------------\n"
     ]
    },
    {
     "name": "stderr",
     "output_type": "stream",
     "text": [
      "Batch calculation at epoch 68.: 3202it [02:28, 11.33it/s]"
     ]
    },
    {
     "name": "stdout",
     "output_type": "stream",
     "text": [
      "------------------------------------------------------------\n",
      "Epoch 68, batch 3199:\n",
      "Average original gradient norm: 0.5869876093044877 (over last 800 batches)\n",
      "Average clipped gradient norm: 0.5869876093044877 (over last 800 batches)\n",
      "Running average global loss: 0.7091978593170642 (over last 800 batches)\n",
      "Running average activity prediction loss: 0.40584084782749413 (Cross Entropy over last 800 batches)\n",
      "Running average time till next event prediction loss: 0.30335701191797854 (MAE over last 800 batches)\n",
      "------------------------------------------------------------\n"
     ]
    },
    {
     "name": "stderr",
     "output_type": "stream",
     "text": [
      "Batch calculation at epoch 68.: 4001it [03:50, 10.33it/s]"
     ]
    },
    {
     "name": "stdout",
     "output_type": "stream",
     "text": [
      "------------------------------------------------------------\n",
      "Epoch 68, batch 3999:\n",
      "Average original gradient norm: 0.5890969847142696 (over last 800 batches)\n",
      "Average clipped gradient norm: 0.5890969847142696 (over last 800 batches)\n",
      "Running average global loss: 0.7120982560515404 (over last 800 batches)\n",
      "Running average activity prediction loss: 0.4066665605455637 (Cross Entropy over last 800 batches)\n",
      "Running average time till next event prediction loss: 0.30543169502168893 (MAE over last 800 batches)\n",
      "------------------------------------------------------------\n"
     ]
    },
    {
     "name": "stderr",
     "output_type": "stream",
     "text": [
      "Batch calculation at epoch 68.: 4295it [04:22, 16.35it/s]\n"
     ]
    },
    {
     "name": "stdout",
     "output_type": "stream",
     "text": [
      "=======================================\n",
      "End of epoch 68\n",
      "=======================================\n",
      "Running average global loss: 0.7139010287821292 (over last 800 batches)\n",
      "Running average activity prediction loss: 0.4088239523023367 (Cross Entropy over last 800 batches)\n",
      "Running average time till next event prediction loss: 0.3050770765170455 (MAE over last 800 batches)\n"
     ]
    },
    {
     "name": "stderr",
     "output_type": "stream",
     "text": [
      "Validation batch calculation: 40it [00:30,  1.31it/s]\n"
     ]
    },
    {
     "name": "stdout",
     "output_type": "stream",
     "text": [
      "Avg MAE TTNE prediction validation set: 0.46195805072784424 (standardized) ; 17043.234375 (minutes)'\n",
      "Avg 1-(normalized) DL distance acitivty suffix prediction validation set: 0.8446398973464966\n",
      "Percentage of suffixes predicted to END: too early - 0.29797948705320315 ; right moment - 0.6340667594222884 ; too late - 0.06795375352450841\n",
      "Too early instances - avg amount of events too early: 1.697161316871643\n",
      "Too late instances - avg amount of events too late: 2.8126471042633057\n",
      "Avg absolute amount of events predicted too early / too late: 0.6968491673469543\n",
      "Avg MAE RRT prediction validation set:  36950.04583333333 (minutes)'\n",
      " \n",
      "------------------------------------\n",
      "EPOCH 69:\n",
      "____________________________________\n"
     ]
    },
    {
     "name": "stderr",
     "output_type": "stream",
     "text": [
      "Batch calculation at epoch 69.: 801it [01:17,  9.13it/s]"
     ]
    },
    {
     "name": "stdout",
     "output_type": "stream",
     "text": [
      "------------------------------------------------------------\n",
      "Epoch 69, batch 799:\n",
      "Average original gradient norm: 0.5913633166626096 (over last 800 batches)\n",
      "Average clipped gradient norm: 0.5913633166626096 (over last 800 batches)\n",
      "Running average global loss: 0.7154401499778033 (over last 800 batches)\n",
      "Running average activity prediction loss: 0.4106617907062173 (Cross Entropy over last 800 batches)\n",
      "Running average time till next event prediction loss: 0.30477835981175305 (MAE over last 800 batches)\n",
      "------------------------------------------------------------\n"
     ]
    },
    {
     "name": "stderr",
     "output_type": "stream",
     "text": [
      "Batch calculation at epoch 69.: 1601it [02:43, 10.04it/s]"
     ]
    },
    {
     "name": "stdout",
     "output_type": "stream",
     "text": [
      "------------------------------------------------------------\n",
      "Epoch 69, batch 1599:\n",
      "Average original gradient norm: 0.5833301258832216 (over last 800 batches)\n",
      "Average clipped gradient norm: 0.5832617747038603 (over last 800 batches)\n",
      "Running average global loss: 0.7121665458381176 (over last 800 batches)\n",
      "Running average activity prediction loss: 0.40794053927063945 (Cross Entropy over last 800 batches)\n",
      "Running average time till next event prediction loss: 0.304226006064564 (MAE over last 800 batches)\n",
      "------------------------------------------------------------\n"
     ]
    },
    {
     "name": "stderr",
     "output_type": "stream",
     "text": [
      "Batch calculation at epoch 69.: 2401it [03:50, 12.59it/s]"
     ]
    },
    {
     "name": "stdout",
     "output_type": "stream",
     "text": [
      "------------------------------------------------------------\n",
      "Epoch 69, batch 2399:\n",
      "Average original gradient norm: 0.5879458025842905 (over last 800 batches)\n",
      "Average clipped gradient norm: 0.5879458025842905 (over last 800 batches)\n",
      "Running average global loss: 0.7091214287281037 (over last 800 batches)\n",
      "Running average activity prediction loss: 0.4053971190005541 (Cross Entropy over last 800 batches)\n",
      "Running average time till next event prediction loss: 0.3037243088334799 (MAE over last 800 batches)\n",
      "------------------------------------------------------------\n"
     ]
    },
    {
     "name": "stderr",
     "output_type": "stream",
     "text": [
      "Batch calculation at epoch 69.: 3202it [04:55, 12.16it/s]"
     ]
    },
    {
     "name": "stdout",
     "output_type": "stream",
     "text": [
      "------------------------------------------------------------\n",
      "Epoch 69, batch 3199:\n",
      "Average original gradient norm: 0.5872799467295409 (over last 800 batches)\n",
      "Average clipped gradient norm: 0.5872799467295409 (over last 800 batches)\n",
      "Running average global loss: 0.7135269220918417 (over last 800 batches)\n",
      "Running average activity prediction loss: 0.40875449068844316 (Cross Entropy over last 800 batches)\n",
      "Running average time till next event prediction loss: 0.30477243112400176 (MAE over last 800 batches)\n",
      "------------------------------------------------------------\n"
     ]
    },
    {
     "name": "stderr",
     "output_type": "stream",
     "text": [
      "Batch calculation at epoch 69.: 4001it [06:08, 11.60it/s]"
     ]
    },
    {
     "name": "stdout",
     "output_type": "stream",
     "text": [
      "------------------------------------------------------------\n",
      "Epoch 69, batch 3999:\n",
      "Average original gradient norm: 0.5771348327770829 (over last 800 batches)\n",
      "Average clipped gradient norm: 0.5771348327770829 (over last 800 batches)\n",
      "Running average global loss: 0.7121552440524102 (over last 800 batches)\n",
      "Running average activity prediction loss: 0.40826496306806803 (Cross Entropy over last 800 batches)\n",
      "Running average time till next event prediction loss: 0.3038902815245092 (MAE over last 800 batches)\n",
      "------------------------------------------------------------\n"
     ]
    },
    {
     "name": "stderr",
     "output_type": "stream",
     "text": [
      "Batch calculation at epoch 69.: 4295it [06:37, 10.80it/s]\n"
     ]
    },
    {
     "name": "stdout",
     "output_type": "stream",
     "text": [
      "=======================================\n",
      "End of epoch 69\n",
      "=======================================\n",
      "Running average global loss: 0.7115682177990675 (over last 800 batches)\n",
      "Running average activity prediction loss: 0.4070273721218109 (Cross Entropy over last 800 batches)\n",
      "Running average time till next event prediction loss: 0.30454084508121015 (MAE over last 800 batches)\n"
     ]
    },
    {
     "name": "stderr",
     "output_type": "stream",
     "text": [
      "Validation batch calculation: 40it [00:25,  1.54it/s]\n"
     ]
    },
    {
     "name": "stdout",
     "output_type": "stream",
     "text": [
      "Avg MAE TTNE prediction validation set: 0.4620375633239746 (standardized) ; 17047.782291666666 (minutes)'\n",
      "Avg 1-(normalized) DL distance acitivty suffix prediction validation set: 0.8445448279380798\n",
      "Percentage of suffixes predicted to END: too early - 0.29804105051898 ; right moment - 0.6339313197975793 ; too late - 0.06802762968344066\n",
      "Too early instances - avg amount of events too early: 1.696273684501648\n",
      "Too late instances - avg amount of events too late: 2.8238914012908936\n",
      "Avg absolute amount of events predicted too early / too late: 0.697661817073822\n",
      "Avg MAE RRT prediction validation set:  36803.03333333333 (minutes)'\n",
      " \n",
      "------------------------------------\n",
      "EPOCH 70:\n",
      "____________________________________\n"
     ]
    },
    {
     "name": "stderr",
     "output_type": "stream",
     "text": [
      "Batch calculation at epoch 70.: 804it [00:57, 24.06it/s]"
     ]
    },
    {
     "name": "stdout",
     "output_type": "stream",
     "text": [
      "------------------------------------------------------------\n",
      "Epoch 70, batch 799:\n",
      "Average original gradient norm: 0.5843683488294482 (over last 800 batches)\n",
      "Average clipped gradient norm: 0.5843683488294482 (over last 800 batches)\n",
      "Running average global loss: 0.7096766623854637 (over last 800 batches)\n",
      "Running average activity prediction loss: 0.4067326244711876 (Cross Entropy over last 800 batches)\n",
      "Running average time till next event prediction loss: 0.30294403780251744 (MAE over last 800 batches)\n",
      "------------------------------------------------------------\n"
     ]
    },
    {
     "name": "stderr",
     "output_type": "stream",
     "text": [
      "Batch calculation at epoch 70.: 1601it [02:15,  7.86it/s]"
     ]
    },
    {
     "name": "stdout",
     "output_type": "stream",
     "text": [
      "------------------------------------------------------------\n",
      "Epoch 70, batch 1599:\n",
      "Average original gradient norm: 0.5800248603150249 (over last 800 batches)\n",
      "Average clipped gradient norm: 0.5800248603150249 (over last 800 batches)\n",
      "Running average global loss: 0.7124963764846325 (over last 800 batches)\n",
      "Running average activity prediction loss: 0.40823953460901974 (Cross Entropy over last 800 batches)\n",
      "Running average time till next event prediction loss: 0.3042568429559469 (MAE over last 800 batches)\n",
      "------------------------------------------------------------\n"
     ]
    },
    {
     "name": "stderr",
     "output_type": "stream",
     "text": [
      "Batch calculation at epoch 70.: 2401it [03:39,  7.93it/s]"
     ]
    },
    {
     "name": "stdout",
     "output_type": "stream",
     "text": [
      "------------------------------------------------------------\n",
      "Epoch 70, batch 2399:\n",
      "Average original gradient norm: 0.5852569831907749 (over last 800 batches)\n",
      "Average clipped gradient norm: 0.5852569831907749 (over last 800 batches)\n",
      "Running average global loss: 0.7140804295986891 (over last 800 batches)\n",
      "Running average activity prediction loss: 0.4089562283828855 (Cross Entropy over last 800 batches)\n",
      "Running average time till next event prediction loss: 0.30512420075014235 (MAE over last 800 batches)\n",
      "------------------------------------------------------------\n"
     ]
    },
    {
     "name": "stderr",
     "output_type": "stream",
     "text": [
      "Batch calculation at epoch 70.: 3202it [04:33, 23.79it/s]"
     ]
    },
    {
     "name": "stdout",
     "output_type": "stream",
     "text": [
      "------------------------------------------------------------\n",
      "Epoch 70, batch 3199:\n",
      "Average original gradient norm: 0.591453263759613 (over last 800 batches)\n",
      "Average clipped gradient norm: 0.591453263759613 (over last 800 batches)\n",
      "Running average global loss: 0.711245734617114 (over last 800 batches)\n",
      "Running average activity prediction loss: 0.40687612622976305 (Cross Entropy over last 800 batches)\n",
      "Running average time till next event prediction loss: 0.30436960808932784 (MAE over last 800 batches)\n",
      "------------------------------------------------------------\n"
     ]
    },
    {
     "name": "stderr",
     "output_type": "stream",
     "text": [
      "Batch calculation at epoch 70.: 4001it [05:23, 10.39it/s]"
     ]
    },
    {
     "name": "stdout",
     "output_type": "stream",
     "text": [
      "------------------------------------------------------------\n",
      "Epoch 70, batch 3999:\n",
      "Average original gradient norm: 0.5873402305319906 (over last 800 batches)\n",
      "Average clipped gradient norm: 0.5873402305319906 (over last 800 batches)\n",
      "Running average global loss: 0.7128281173855067 (over last 800 batches)\n",
      "Running average activity prediction loss: 0.4081900457665324 (Cross Entropy over last 800 batches)\n",
      "Running average time till next event prediction loss: 0.3046380717866123 (MAE over last 800 batches)\n",
      "------------------------------------------------------------\n"
     ]
    },
    {
     "name": "stderr",
     "output_type": "stream",
     "text": [
      "Batch calculation at epoch 70.: 4295it [05:40, 12.60it/s]\n"
     ]
    },
    {
     "name": "stdout",
     "output_type": "stream",
     "text": [
      "=======================================\n",
      "End of epoch 70\n",
      "=======================================\n",
      "Running average global loss: 0.7123047072440386 (over last 800 batches)\n",
      "Running average activity prediction loss: 0.4078473636135459 (Cross Entropy over last 800 batches)\n",
      "Running average time till next event prediction loss: 0.3044573430530727 (MAE over last 800 batches)\n"
     ]
    },
    {
     "name": "stderr",
     "output_type": "stream",
     "text": [
      "Validation batch calculation: 40it [00:26,  1.53it/s]\n"
     ]
    },
    {
     "name": "stdout",
     "output_type": "stream",
     "text": [
      "Avg MAE TTNE prediction validation set: 0.4616956412792206 (standardized) ; 17035.320833333335 (minutes)'\n",
      "Avg 1-(normalized) DL distance acitivty suffix prediction validation set: 0.8445934057235718\n",
      "Percentage of suffixes predicted to END: too early - 0.2981026139847569 ; right moment - 0.6341160101949099 ; too late - 0.06778137582033318\n",
      "Too early instances - avg amount of events too early: 1.6981124877929688\n",
      "Too late instances - avg amount of events too late: 2.8098092079162598\n",
      "Avg absolute amount of events predicted too early / too late: 0.6966645121574402\n",
      "Avg MAE RRT prediction validation set:  36949.9375 (minutes)'\n",
      " \n",
      "------------------------------------\n",
      "EPOCH 71:\n",
      "____________________________________\n"
     ]
    },
    {
     "name": "stderr",
     "output_type": "stream",
     "text": [
      "Batch calculation at epoch 71.: 804it [00:31, 28.24it/s]"
     ]
    },
    {
     "name": "stdout",
     "output_type": "stream",
     "text": [
      "------------------------------------------------------------\n",
      "Epoch 71, batch 799:\n",
      "Average original gradient norm: 0.5893130381777882 (over last 800 batches)\n",
      "Average clipped gradient norm: 0.5893130381777882 (over last 800 batches)\n",
      "Running average global loss: 0.7125242561846972 (over last 800 batches)\n",
      "Running average activity prediction loss: 0.40787808794528246 (Cross Entropy over last 800 batches)\n",
      "Running average time till next event prediction loss: 0.304646168705076 (MAE over last 800 batches)\n",
      "------------------------------------------------------------\n"
     ]
    },
    {
     "name": "stderr",
     "output_type": "stream",
     "text": [
      "Batch calculation at epoch 71.: 1602it [01:36,  9.68it/s]"
     ]
    },
    {
     "name": "stdout",
     "output_type": "stream",
     "text": [
      "------------------------------------------------------------\n",
      "Epoch 71, batch 1599:\n",
      "Average original gradient norm: 0.5820364158600568 (over last 800 batches)\n",
      "Average clipped gradient norm: 0.5820364158600568 (over last 800 batches)\n",
      "Running average global loss: 0.7108155664801598 (over last 800 batches)\n",
      "Running average activity prediction loss: 0.4064163092523813 (Cross Entropy over last 800 batches)\n",
      "Running average time till next event prediction loss: 0.3043992568925023 (MAE over last 800 batches)\n",
      "------------------------------------------------------------\n"
     ]
    },
    {
     "name": "stderr",
     "output_type": "stream",
     "text": [
      "Batch calculation at epoch 71.: 2403it [02:41, 24.67it/s]"
     ]
    },
    {
     "name": "stdout",
     "output_type": "stream",
     "text": [
      "------------------------------------------------------------\n",
      "Epoch 71, batch 2399:\n",
      "Average original gradient norm: 0.5947073297947645 (over last 800 batches)\n",
      "Average clipped gradient norm: 0.5947073297947645 (over last 800 batches)\n",
      "Running average global loss: 0.7136608229577541 (over last 800 batches)\n",
      "Running average activity prediction loss: 0.40917443856596947 (Cross Entropy over last 800 batches)\n",
      "Running average time till next event prediction loss: 0.304486383497715 (MAE over last 800 batches)\n",
      "------------------------------------------------------------\n"
     ]
    },
    {
     "name": "stderr",
     "output_type": "stream",
     "text": [
      "Batch calculation at epoch 71.: 3204it [03:16, 21.74it/s]"
     ]
    },
    {
     "name": "stdout",
     "output_type": "stream",
     "text": [
      "------------------------------------------------------------\n",
      "Epoch 71, batch 3199:\n",
      "Average original gradient norm: 0.590632642172277 (over last 800 batches)\n",
      "Average clipped gradient norm: 0.590632642172277 (over last 800 batches)\n",
      "Running average global loss: 0.7129650843888521 (over last 800 batches)\n",
      "Running average activity prediction loss: 0.4092981181666255 (Cross Entropy over last 800 batches)\n",
      "Running average time till next event prediction loss: 0.3036669665388763 (MAE over last 800 batches)\n",
      "------------------------------------------------------------\n"
     ]
    },
    {
     "name": "stderr",
     "output_type": "stream",
     "text": [
      "Batch calculation at epoch 71.: 4002it [04:04, 12.36it/s]"
     ]
    },
    {
     "name": "stdout",
     "output_type": "stream",
     "text": [
      "------------------------------------------------------------\n",
      "Epoch 71, batch 3999:\n",
      "Average original gradient norm: 0.587215225957334 (over last 800 batches)\n",
      "Average clipped gradient norm: 0.587215225957334 (over last 800 batches)\n",
      "Running average global loss: 0.7099812319874763 (over last 800 batches)\n",
      "Running average activity prediction loss: 0.4056653374806046 (Cross Entropy over last 800 batches)\n",
      "Running average time till next event prediction loss: 0.30431589286774396 (MAE over last 800 batches)\n",
      "------------------------------------------------------------\n"
     ]
    },
    {
     "name": "stderr",
     "output_type": "stream",
     "text": [
      "Batch calculation at epoch 71.: 4295it [04:28, 16.01it/s]\n"
     ]
    },
    {
     "name": "stdout",
     "output_type": "stream",
     "text": [
      "=======================================\n",
      "End of epoch 71\n",
      "=======================================\n",
      "Running average global loss: 0.7099417601525784 (over last 800 batches)\n",
      "Running average activity prediction loss: 0.4060348281636834 (Cross Entropy over last 800 batches)\n",
      "Running average time till next event prediction loss: 0.303906931001693 (MAE over last 800 batches)\n"
     ]
    },
    {
     "name": "stderr",
     "output_type": "stream",
     "text": [
      "Validation batch calculation: 40it [00:22,  1.80it/s]\n"
     ]
    },
    {
     "name": "stdout",
     "output_type": "stream",
     "text": [
      "Avg MAE TTNE prediction validation set: 0.46211469173431396 (standardized) ; 17051.95625 (minutes)'\n",
      "Avg 1-(normalized) DL distance acitivty suffix prediction validation set: 0.8446713089942932\n",
      "Percentage of suffixes predicted to END: too early - 0.2981149266779123 ; right moment - 0.634017508649667 ; too late - 0.0678675646724208\n",
      "Too early instances - avg amount of events too early: 1.6960184574127197\n",
      "Too late instances - avg amount of events too late: 2.8174891471862793\n",
      "Avg absolute amount of events predicted too early / too late: 0.6968245506286621\n",
      "Avg MAE RRT prediction validation set:  36825.04583333333 (minutes)'\n",
      " \n",
      "------------------------------------\n",
      "EPOCH 72:\n",
      "____________________________________\n"
     ]
    },
    {
     "name": "stderr",
     "output_type": "stream",
     "text": [
      "Batch calculation at epoch 72.: 803it [00:18, 31.15it/s]"
     ]
    },
    {
     "name": "stdout",
     "output_type": "stream",
     "text": [
      "------------------------------------------------------------\n",
      "Epoch 72, batch 799:\n",
      "Average original gradient norm: 0.5799482576549053 (over last 800 batches)\n",
      "Average clipped gradient norm: 0.5799482576549053 (over last 800 batches)\n",
      "Running average global loss: 0.713662944585085 (over last 800 batches)\n",
      "Running average activity prediction loss: 0.4102486765757203 (Cross Entropy over last 800 batches)\n",
      "Running average time till next event prediction loss: 0.3034142685867846 (MAE over last 800 batches)\n",
      "------------------------------------------------------------\n"
     ]
    },
    {
     "name": "stderr",
     "output_type": "stream",
     "text": [
      "Batch calculation at epoch 72.: 1603it [00:46, 20.05it/s]"
     ]
    },
    {
     "name": "stdout",
     "output_type": "stream",
     "text": [
      "------------------------------------------------------------\n",
      "Epoch 72, batch 1599:\n",
      "Average original gradient norm: 0.5801156229153276 (over last 800 batches)\n",
      "Average clipped gradient norm: 0.5801156229153276 (over last 800 batches)\n",
      "Running average global loss: 0.7103199612349271 (over last 800 batches)\n",
      "Running average activity prediction loss: 0.4057011437788606 (Cross Entropy over last 800 batches)\n",
      "Running average time till next event prediction loss: 0.30461881631985305 (MAE over last 800 batches)\n",
      "------------------------------------------------------------\n"
     ]
    },
    {
     "name": "stderr",
     "output_type": "stream",
     "text": [
      "Batch calculation at epoch 72.: 2401it [01:22, 23.22it/s]"
     ]
    },
    {
     "name": "stdout",
     "output_type": "stream",
     "text": [
      "------------------------------------------------------------\n",
      "Epoch 72, batch 2399:\n",
      "Average original gradient norm: 0.5859446148574352 (over last 800 batches)\n",
      "Average clipped gradient norm: 0.5859446148574352 (over last 800 batches)\n",
      "Running average global loss: 0.7128935034573078 (over last 800 batches)\n",
      "Running average activity prediction loss: 0.4081153205037117 (Cross Entropy over last 800 batches)\n",
      "Running average time till next event prediction loss: 0.30477818366140125 (MAE over last 800 batches)\n",
      "------------------------------------------------------------\n"
     ]
    },
    {
     "name": "stderr",
     "output_type": "stream",
     "text": [
      "Batch calculation at epoch 72.: 3203it [02:03, 19.83it/s]"
     ]
    },
    {
     "name": "stdout",
     "output_type": "stream",
     "text": [
      "------------------------------------------------------------\n",
      "Epoch 72, batch 3199:\n",
      "Average original gradient norm: 0.5843652848526836 (over last 800 batches)\n",
      "Average clipped gradient norm: 0.5843652848526836 (over last 800 batches)\n",
      "Running average global loss: 0.7138227654248476 (over last 800 batches)\n",
      "Running average activity prediction loss: 0.40919337060302496 (Cross Entropy over last 800 batches)\n",
      "Running average time till next event prediction loss: 0.3046293956786394 (MAE over last 800 batches)\n",
      "------------------------------------------------------------\n"
     ]
    },
    {
     "name": "stderr",
     "output_type": "stream",
     "text": [
      "Batch calculation at epoch 72.: 4003it [02:43, 20.49it/s]"
     ]
    },
    {
     "name": "stdout",
     "output_type": "stream",
     "text": [
      "------------------------------------------------------------\n",
      "Epoch 72, batch 3999:\n",
      "Average original gradient norm: 0.5828476538509131 (over last 800 batches)\n",
      "Average clipped gradient norm: 0.5828476538509131 (over last 800 batches)\n",
      "Running average global loss: 0.7087795221805573 (over last 800 batches)\n",
      "Running average activity prediction loss: 0.40479048892855646 (Cross Entropy over last 800 batches)\n",
      "Running average time till next event prediction loss: 0.30398903265595434 (MAE over last 800 batches)\n",
      "------------------------------------------------------------\n"
     ]
    },
    {
     "name": "stderr",
     "output_type": "stream",
     "text": [
      "Batch calculation at epoch 72.: 4295it [02:57, 24.18it/s]\n"
     ]
    },
    {
     "name": "stdout",
     "output_type": "stream",
     "text": [
      "=======================================\n",
      "End of epoch 72\n",
      "=======================================\n",
      "Running average global loss: 0.7085071391612291 (over last 800 batches)\n",
      "Running average activity prediction loss: 0.40578483199700716 (Cross Entropy over last 800 batches)\n",
      "Running average time till next event prediction loss: 0.3027223074808717 (MAE over last 800 batches)\n"
     ]
    },
    {
     "name": "stderr",
     "output_type": "stream",
     "text": [
      "Validation batch calculation: 40it [00:24,  1.63it/s]\n"
     ]
    },
    {
     "name": "stdout",
     "output_type": "stream",
     "text": [
      "Avg MAE TTNE prediction validation set: 0.4615332782268524 (standardized) ; 17030.367708333335 (minutes)'\n",
      "Avg 1-(normalized) DL distance acitivty suffix prediction validation set: 0.8445858359336853\n",
      "Percentage of suffixes predicted to END: too early - 0.29745004124752206 ; right moment - 0.634054446729133 ; too late - 0.06849551202334486\n",
      "Too early instances - avg amount of events too early: 1.6948423385620117\n",
      "Too late instances - avg amount of events too late: 2.8383965492248535\n",
      "Avg absolute amount of events predicted too early / too late: 0.6985483169555664\n",
      "Avg MAE RRT prediction validation set:  36969.36666666667 (minutes)'\n",
      " \n",
      "------------------------------------\n",
      "EPOCH 73:\n",
      "____________________________________\n"
     ]
    },
    {
     "name": "stderr",
     "output_type": "stream",
     "text": [
      "Batch calculation at epoch 73.: 813it [00:12, 66.91it/s]"
     ]
    },
    {
     "name": "stdout",
     "output_type": "stream",
     "text": [
      "------------------------------------------------------------\n",
      "Epoch 73, batch 799:\n",
      "Average original gradient norm: 0.5876249625906348 (over last 800 batches)\n",
      "Average clipped gradient norm: 0.5876249625906348 (over last 800 batches)\n",
      "Running average global loss: 0.7121029324829579 (over last 800 batches)\n",
      "Running average activity prediction loss: 0.4078520434722304 (Cross Entropy over last 800 batches)\n",
      "Running average time till next event prediction loss: 0.3042508888989687 (MAE over last 800 batches)\n",
      "------------------------------------------------------------\n"
     ]
    },
    {
     "name": "stderr",
     "output_type": "stream",
     "text": [
      "Batch calculation at epoch 73.: 1607it [00:27, 58.23it/s]"
     ]
    },
    {
     "name": "stdout",
     "output_type": "stream",
     "text": [
      "------------------------------------------------------------\n",
      "Epoch 73, batch 1599:\n",
      "Average original gradient norm: 0.5805450054630638 (over last 800 batches)\n",
      "Average clipped gradient norm: 0.5805450054630638 (over last 800 batches)\n",
      "Running average global loss: 0.7112628267705441 (over last 800 batches)\n",
      "Running average activity prediction loss: 0.4078974958881736 (Cross Entropy over last 800 batches)\n",
      "Running average time till next event prediction loss: 0.303365331441164 (MAE over last 800 batches)\n",
      "------------------------------------------------------------\n"
     ]
    },
    {
     "name": "stderr",
     "output_type": "stream",
     "text": [
      "Batch calculation at epoch 73.: 2408it [00:39, 63.86it/s]"
     ]
    },
    {
     "name": "stdout",
     "output_type": "stream",
     "text": [
      "------------------------------------------------------------\n",
      "Epoch 73, batch 2399:\n",
      "Average original gradient norm: 0.5826897661387921 (over last 800 batches)\n",
      "Average clipped gradient norm: 0.5826897661387921 (over last 800 batches)\n",
      "Running average global loss: 0.7099200787395239 (over last 800 batches)\n",
      "Running average activity prediction loss: 0.40580625347793103 (Cross Entropy over last 800 batches)\n",
      "Running average time till next event prediction loss: 0.3041138247214258 (MAE over last 800 batches)\n",
      "------------------------------------------------------------\n"
     ]
    },
    {
     "name": "stderr",
     "output_type": "stream",
     "text": [
      "Batch calculation at epoch 73.: 3205it [00:58, 24.88it/s]"
     ]
    },
    {
     "name": "stdout",
     "output_type": "stream",
     "text": [
      "------------------------------------------------------------\n",
      "Epoch 73, batch 3199:\n",
      "Average original gradient norm: 0.5741685239970684 (over last 800 batches)\n",
      "Average clipped gradient norm: 0.5741685239970684 (over last 800 batches)\n",
      "Running average global loss: 0.713595237210393 (over last 800 batches)\n",
      "Running average activity prediction loss: 0.40938778113573787 (Cross Entropy over last 800 batches)\n",
      "Running average time till next event prediction loss: 0.3042074554599822 (MAE over last 800 batches)\n",
      "------------------------------------------------------------\n"
     ]
    },
    {
     "name": "stderr",
     "output_type": "stream",
     "text": [
      "Batch calculation at epoch 73.: 4001it [01:36, 18.54it/s]"
     ]
    },
    {
     "name": "stdout",
     "output_type": "stream",
     "text": [
      "------------------------------------------------------------\n",
      "Epoch 73, batch 3999:\n",
      "Average original gradient norm: 0.5837412390112877 (over last 800 batches)\n",
      "Average clipped gradient norm: 0.5837412390112877 (over last 800 batches)\n",
      "Running average global loss: 0.7133488139510155 (over last 800 batches)\n",
      "Running average activity prediction loss: 0.40886437345296145 (Cross Entropy over last 800 batches)\n",
      "Running average time till next event prediction loss: 0.30448444148525594 (MAE over last 800 batches)\n",
      "------------------------------------------------------------\n"
     ]
    },
    {
     "name": "stderr",
     "output_type": "stream",
     "text": [
      "Batch calculation at epoch 73.: 4295it [01:52, 38.07it/s]\n"
     ]
    },
    {
     "name": "stdout",
     "output_type": "stream",
     "text": [
      "=======================================\n",
      "End of epoch 73\n",
      "=======================================\n",
      "Running average global loss: 0.7120110488682986 (over last 800 batches)\n",
      "Running average activity prediction loss: 0.4082270025461912 (Cross Entropy over last 800 batches)\n",
      "Running average time till next event prediction loss: 0.3037840474024415 (MAE over last 800 batches)\n"
     ]
    },
    {
     "name": "stderr",
     "output_type": "stream",
     "text": [
      "Validation batch calculation: 40it [00:22,  1.81it/s]\n"
     ]
    },
    {
     "name": "stdout",
     "output_type": "stream",
     "text": [
      "Avg MAE TTNE prediction validation set: 0.4629325568675995 (standardized) ; 17080.875 (minutes)'\n",
      "Avg 1-(normalized) DL distance acitivty suffix prediction validation set: 0.844548225402832\n",
      "Percentage of suffixes predicted to END: too early - 0.29736385239543445 ; right moment - 0.6340913848085992 ; too late - 0.06854476279596636\n",
      "Too early instances - avg amount of events too early: 1.6951265335083008\n",
      "Too late instances - avg amount of events too late: 2.8338422775268555\n",
      "Avg absolute amount of events predicted too early / too late: 0.698314368724823\n",
      "Avg MAE RRT prediction validation set:  37014.57916666667 (minutes)'\n",
      " \n",
      "------------------------------------\n",
      "EPOCH 74:\n",
      "____________________________________\n"
     ]
    },
    {
     "name": "stderr",
     "output_type": "stream",
     "text": [
      "Batch calculation at epoch 74.: 804it [00:38, 27.28it/s]"
     ]
    },
    {
     "name": "stdout",
     "output_type": "stream",
     "text": [
      "------------------------------------------------------------\n",
      "Epoch 74, batch 799:\n",
      "Average original gradient norm: 0.5813571625575423 (over last 800 batches)\n",
      "Average clipped gradient norm: 0.5813571625575423 (over last 800 batches)\n",
      "Running average global loss: 0.7105966389924288 (over last 800 batches)\n",
      "Running average activity prediction loss: 0.4069691161811352 (Cross Entropy over last 800 batches)\n",
      "Running average time till next event prediction loss: 0.30362752117216585 (MAE over last 800 batches)\n",
      "------------------------------------------------------------\n"
     ]
    },
    {
     "name": "stderr",
     "output_type": "stream",
     "text": [
      "Batch calculation at epoch 74.: 1604it [00:58, 63.35it/s]"
     ]
    },
    {
     "name": "stdout",
     "output_type": "stream",
     "text": [
      "------------------------------------------------------------\n",
      "Epoch 74, batch 1599:\n",
      "Average original gradient norm: 0.5776253915205598 (over last 800 batches)\n",
      "Average clipped gradient norm: 0.5776253915205598 (over last 800 batches)\n",
      "Running average global loss: 0.7119849468022585 (over last 800 batches)\n",
      "Running average activity prediction loss: 0.4076568903774023 (Cross Entropy over last 800 batches)\n",
      "Running average time till next event prediction loss: 0.3043280562013388 (MAE over last 800 batches)\n",
      "------------------------------------------------------------\n"
     ]
    },
    {
     "name": "stderr",
     "output_type": "stream",
     "text": [
      "Batch calculation at epoch 74.: 2413it [01:14, 71.87it/s]"
     ]
    },
    {
     "name": "stdout",
     "output_type": "stream",
     "text": [
      "------------------------------------------------------------\n",
      "Epoch 74, batch 2399:\n",
      "Average original gradient norm: 0.5805700303986668 (over last 800 batches)\n",
      "Average clipped gradient norm: 0.5805700303986668 (over last 800 batches)\n",
      "Running average global loss: 0.7095924769341946 (over last 800 batches)\n",
      "Running average activity prediction loss: 0.40727627083659174 (Cross Entropy over last 800 batches)\n",
      "Running average time till next event prediction loss: 0.30231620686128735 (MAE over last 800 batches)\n",
      "------------------------------------------------------------\n"
     ]
    },
    {
     "name": "stderr",
     "output_type": "stream",
     "text": [
      "Batch calculation at epoch 74.: 3210it [01:28, 51.51it/s]"
     ]
    },
    {
     "name": "stdout",
     "output_type": "stream",
     "text": [
      "------------------------------------------------------------\n",
      "Epoch 74, batch 3199:\n",
      "Average original gradient norm: 0.5794134825095534 (over last 800 batches)\n",
      "Average clipped gradient norm: 0.5794134825095534 (over last 800 batches)\n",
      "Running average global loss: 0.7115474300086498 (over last 800 batches)\n",
      "Running average activity prediction loss: 0.4064504780992866 (Cross Entropy over last 800 batches)\n",
      "Running average time till next event prediction loss: 0.3050969508104026 (MAE over last 800 batches)\n",
      "------------------------------------------------------------\n"
     ]
    },
    {
     "name": "stderr",
     "output_type": "stream",
     "text": [
      "Batch calculation at epoch 74.: 4005it [01:43, 44.48it/s]"
     ]
    },
    {
     "name": "stdout",
     "output_type": "stream",
     "text": [
      "------------------------------------------------------------\n",
      "Epoch 74, batch 3999:\n",
      "Average original gradient norm: 0.5846384351328016 (over last 800 batches)\n",
      "Average clipped gradient norm: 0.5846384351328016 (over last 800 batches)\n",
      "Running average global loss: 0.7160634056478739 (over last 800 batches)\n",
      "Running average activity prediction loss: 0.410103969424963 (Cross Entropy over last 800 batches)\n",
      "Running average time till next event prediction loss: 0.3059594368189573 (MAE over last 800 batches)\n",
      "------------------------------------------------------------\n"
     ]
    },
    {
     "name": "stderr",
     "output_type": "stream",
     "text": [
      "Batch calculation at epoch 74.: 4295it [01:50, 38.92it/s]\n"
     ]
    },
    {
     "name": "stdout",
     "output_type": "stream",
     "text": [
      "=======================================\n",
      "End of epoch 74\n",
      "=======================================\n",
      "Running average global loss: 0.7135403486341239 (over last 800 batches)\n",
      "Running average activity prediction loss: 0.40939627416431906 (Cross Entropy over last 800 batches)\n",
      "Running average time till next event prediction loss: 0.30414407385513187 (MAE over last 800 batches)\n"
     ]
    },
    {
     "name": "stderr",
     "output_type": "stream",
     "text": [
      "Validation batch calculation: 40it [00:18,  2.19it/s]\n"
     ]
    },
    {
     "name": "stdout",
     "output_type": "stream",
     "text": [
      "Avg MAE TTNE prediction validation set: 0.46226659417152405 (standardized) ; 17056.177083333332 (minutes)'\n",
      "Avg 1-(normalized) DL distance acitivty suffix prediction validation set: 0.8445303440093994\n",
      "Percentage of suffixes predicted to END: too early - 0.2978563601216494 ; right moment - 0.6340421340359776 ; too late - 0.0681015058423729\n",
      "Too early instances - avg amount of events too early: 1.6968706846237183\n",
      "Too late instances - avg amount of events too late: 2.8199241161346436\n",
      "Avg absolute amount of events predicted too early / too late: 0.6974648237228394\n",
      "Avg MAE RRT prediction validation set:  36927.5875 (minutes)'\n",
      " \n",
      "------------------------------------\n",
      "EPOCH 75:\n",
      "____________________________________\n"
     ]
    },
    {
     "name": "stderr",
     "output_type": "stream",
     "text": [
      "Batch calculation at epoch 75.: 807it [00:15, 49.09it/s]"
     ]
    },
    {
     "name": "stdout",
     "output_type": "stream",
     "text": [
      "------------------------------------------------------------\n",
      "Epoch 75, batch 799:\n",
      "Average original gradient norm: 0.5765983571112155 (over last 800 batches)\n",
      "Average clipped gradient norm: 0.5765983571112155 (over last 800 batches)\n",
      "Running average global loss: 0.7092879659682513 (over last 800 batches)\n",
      "Running average activity prediction loss: 0.4068075615540147 (Cross Entropy over last 800 batches)\n",
      "Running average time till next event prediction loss: 0.3024804040230811 (MAE over last 800 batches)\n",
      "------------------------------------------------------------\n"
     ]
    },
    {
     "name": "stderr",
     "output_type": "stream",
     "text": [
      "Batch calculation at epoch 75.: 1610it [00:30, 66.34it/s]"
     ]
    },
    {
     "name": "stdout",
     "output_type": "stream",
     "text": [
      "------------------------------------------------------------\n",
      "Epoch 75, batch 1599:\n",
      "Average original gradient norm: 0.584776785299182 (over last 800 batches)\n",
      "Average clipped gradient norm: 0.584776785299182 (over last 800 batches)\n",
      "Running average global loss: 0.713363455682993 (over last 800 batches)\n",
      "Running average activity prediction loss: 0.4099250160902739 (Cross Entropy over last 800 batches)\n",
      "Running average time till next event prediction loss: 0.30343843886628746 (MAE over last 800 batches)\n",
      "------------------------------------------------------------\n"
     ]
    },
    {
     "name": "stderr",
     "output_type": "stream",
     "text": [
      "Batch calculation at epoch 75.: 2406it [00:52, 58.05it/s]"
     ]
    },
    {
     "name": "stdout",
     "output_type": "stream",
     "text": [
      "------------------------------------------------------------\n",
      "Epoch 75, batch 2399:\n",
      "Average original gradient norm: 0.5843581188097596 (over last 800 batches)\n",
      "Average clipped gradient norm: 0.5843581188097596 (over last 800 batches)\n",
      "Running average global loss: 0.713628555983305 (over last 800 batches)\n",
      "Running average activity prediction loss: 0.40898656971752645 (Cross Entropy over last 800 batches)\n",
      "Running average time till next event prediction loss: 0.30464198665693404 (MAE over last 800 batches)\n",
      "------------------------------------------------------------\n"
     ]
    },
    {
     "name": "stderr",
     "output_type": "stream",
     "text": [
      "Batch calculation at epoch 75.: 3208it [01:09, 47.08it/s]"
     ]
    },
    {
     "name": "stdout",
     "output_type": "stream",
     "text": [
      "------------------------------------------------------------\n",
      "Epoch 75, batch 3199:\n",
      "Average original gradient norm: 0.5802407423779369 (over last 800 batches)\n",
      "Average clipped gradient norm: 0.5802407423779369 (over last 800 batches)\n",
      "Running average global loss: 0.711429742500186 (over last 800 batches)\n",
      "Running average activity prediction loss: 0.4069126641005278 (Cross Entropy over last 800 batches)\n",
      "Running average time till next event prediction loss: 0.3045170782506466 (MAE over last 800 batches)\n",
      "------------------------------------------------------------\n"
     ]
    },
    {
     "name": "stderr",
     "output_type": "stream",
     "text": [
      "Batch calculation at epoch 75.: 4010it [01:25, 54.90it/s]"
     ]
    },
    {
     "name": "stdout",
     "output_type": "stream",
     "text": [
      "------------------------------------------------------------\n",
      "Epoch 75, batch 3999:\n",
      "Average original gradient norm: 0.5881440790742636 (over last 800 batches)\n",
      "Average clipped gradient norm: 0.5881440790742636 (over last 800 batches)\n",
      "Running average global loss: 0.711027794778347 (over last 800 batches)\n",
      "Running average activity prediction loss: 0.4060661951452494 (Cross Entropy over last 800 batches)\n",
      "Running average time till next event prediction loss: 0.30496159998700023 (MAE over last 800 batches)\n",
      "------------------------------------------------------------\n"
     ]
    },
    {
     "name": "stderr",
     "output_type": "stream",
     "text": [
      "Batch calculation at epoch 75.: 4295it [01:30, 47.53it/s]\n"
     ]
    },
    {
     "name": "stdout",
     "output_type": "stream",
     "text": [
      "=======================================\n",
      "End of epoch 75\n",
      "=======================================\n",
      "Running average global loss: 0.7120642606168985 (over last 800 batches)\n",
      "Running average activity prediction loss: 0.40677107606083157 (Cross Entropy over last 800 batches)\n",
      "Running average time till next event prediction loss: 0.3052931854315102 (MAE over last 800 batches)\n"
     ]
    },
    {
     "name": "stderr",
     "output_type": "stream",
     "text": [
      "Validation batch calculation: 40it [00:22,  1.81it/s]\n"
     ]
    },
    {
     "name": "stdout",
     "output_type": "stream",
     "text": [
      "Avg MAE TTNE prediction validation set: 0.46141183376312256 (standardized) ; 17025.829166666666 (minutes)'\n",
      "Avg 1-(normalized) DL distance acitivty suffix prediction validation set: 0.8446221947669983\n",
      "Percentage of suffixes predicted to END: too early - 0.29825036630262136 ; right moment - 0.6339436324907347 ; too late - 0.06780600120664393\n",
      "Too early instances - avg amount of events too early: 1.6972298622131348\n",
      "Too late instances - avg amount of events too late: 2.805701732635498\n",
      "Avg absolute amount of events predicted too early / too late: 0.6964428424835205\n",
      "Avg MAE RRT prediction validation set:  36888.57916666667 (minutes)'\n",
      " \n",
      "------------------------------------\n",
      "EPOCH 76:\n",
      "____________________________________\n"
     ]
    },
    {
     "name": "stderr",
     "output_type": "stream",
     "text": [
      "Batch calculation at epoch 76.: 812it [00:32, 67.01it/s]"
     ]
    },
    {
     "name": "stdout",
     "output_type": "stream",
     "text": [
      "------------------------------------------------------------\n",
      "Epoch 76, batch 799:\n",
      "Average original gradient norm: 0.5813775128126144 (over last 800 batches)\n",
      "Average clipped gradient norm: 0.5813775128126144 (over last 800 batches)\n",
      "Running average global loss: 0.7096928150951862 (over last 800 batches)\n",
      "Running average activity prediction loss: 0.4063731594197452 (Cross Entropy over last 800 batches)\n",
      "Running average time till next event prediction loss: 0.303319656252861 (MAE over last 800 batches)\n",
      "------------------------------------------------------------\n"
     ]
    },
    {
     "name": "stderr",
     "output_type": "stream",
     "text": [
      "Batch calculation at epoch 76.: 1602it [00:57, 19.89it/s]"
     ]
    },
    {
     "name": "stdout",
     "output_type": "stream",
     "text": [
      "------------------------------------------------------------\n",
      "Epoch 76, batch 1599:\n",
      "Average original gradient norm: 0.571537970341742 (over last 800 batches)\n",
      "Average clipped gradient norm: 0.571537970341742 (over last 800 batches)\n",
      "Running average global loss: 0.7104371310770512 (over last 800 batches)\n",
      "Running average activity prediction loss: 0.4061260773614049 (Cross Entropy over last 800 batches)\n",
      "Running average time till next event prediction loss: 0.3043110533989966 (MAE over last 800 batches)\n",
      "------------------------------------------------------------\n"
     ]
    },
    {
     "name": "stderr",
     "output_type": "stream",
     "text": [
      "Batch calculation at epoch 76.: 2403it [01:40, 18.05it/s]"
     ]
    },
    {
     "name": "stdout",
     "output_type": "stream",
     "text": [
      "------------------------------------------------------------\n",
      "Epoch 76, batch 2399:\n",
      "Average original gradient norm: 0.5826565632224083 (over last 800 batches)\n",
      "Average clipped gradient norm: 0.5826565632224083 (over last 800 batches)\n",
      "Running average global loss: 0.7104787626862525 (over last 800 batches)\n",
      "Running average activity prediction loss: 0.407172063216567 (Cross Entropy over last 800 batches)\n",
      "Running average time till next event prediction loss: 0.3033067001402378 (MAE over last 800 batches)\n",
      "------------------------------------------------------------\n"
     ]
    },
    {
     "name": "stderr",
     "output_type": "stream",
     "text": [
      "Batch calculation at epoch 76.: 3201it [02:17, 20.52it/s]"
     ]
    },
    {
     "name": "stdout",
     "output_type": "stream",
     "text": [
      "------------------------------------------------------------\n",
      "Epoch 76, batch 3199:\n",
      "Average original gradient norm: 0.5851920171454549 (over last 800 batches)\n",
      "Average clipped gradient norm: 0.5851920171454549 (over last 800 batches)\n",
      "Running average global loss: 0.7130306696146727 (over last 800 batches)\n",
      "Running average activity prediction loss: 0.40796848863363266 (Cross Entropy over last 800 batches)\n",
      "Running average time till next event prediction loss: 0.30506218066439034 (MAE over last 800 batches)\n",
      "------------------------------------------------------------\n"
     ]
    },
    {
     "name": "stderr",
     "output_type": "stream",
     "text": [
      "Batch calculation at epoch 76.: 4004it [02:54, 26.60it/s]"
     ]
    },
    {
     "name": "stdout",
     "output_type": "stream",
     "text": [
      "------------------------------------------------------------\n",
      "Epoch 76, batch 3999:\n",
      "Average original gradient norm: 0.5819705411046744 (over last 800 batches)\n",
      "Average clipped gradient norm: 0.5819705411046744 (over last 800 batches)\n",
      "Running average global loss: 0.7119929561764002 (over last 800 batches)\n",
      "Running average activity prediction loss: 0.40847691021859645 (Cross Entropy over last 800 batches)\n",
      "Running average time till next event prediction loss: 0.303516046423465 (MAE over last 800 batches)\n",
      "------------------------------------------------------------\n"
     ]
    },
    {
     "name": "stderr",
     "output_type": "stream",
     "text": [
      "Batch calculation at epoch 76.: 4295it [03:04, 23.27it/s]\n"
     ]
    },
    {
     "name": "stdout",
     "output_type": "stream",
     "text": [
      "=======================================\n",
      "End of epoch 76\n",
      "=======================================\n",
      "Running average global loss: 0.7136151457577944 (over last 800 batches)\n",
      "Running average activity prediction loss: 0.40913183107972145 (Cross Entropy over last 800 batches)\n",
      "Running average time till next event prediction loss: 0.3044833154976368 (MAE over last 800 batches)\n"
     ]
    },
    {
     "name": "stderr",
     "output_type": "stream",
     "text": [
      "Validation batch calculation: 40it [00:24,  1.66it/s]\n"
     ]
    },
    {
     "name": "stdout",
     "output_type": "stream",
     "text": [
      "Avg MAE TTNE prediction validation set: 0.46245676279067993 (standardized) ; 17063.135416666668 (minutes)'\n",
      "Avg 1-(normalized) DL distance acitivty suffix prediction validation set: 0.8446086049079895\n",
      "Percentage of suffixes predicted to END: too early - 0.29788098550796016 ; right moment - 0.6342883878990851 ; too late - 0.06783062659295468\n",
      "Too early instances - avg amount of events too early: 1.6982184648513794\n",
      "Too late instances - avg amount of events too late: 2.8215646743774414\n",
      "Avg absolute amount of events predicted too early / too late: 0.6972554922103882\n",
      "Avg MAE RRT prediction validation set:  36914.17083333333 (minutes)'\n",
      " \n",
      "------------------------------------\n",
      "EPOCH 77:\n",
      "____________________________________\n"
     ]
    },
    {
     "name": "stderr",
     "output_type": "stream",
     "text": [
      "Batch calculation at epoch 77.: 805it [00:15, 45.71it/s]"
     ]
    },
    {
     "name": "stdout",
     "output_type": "stream",
     "text": [
      "------------------------------------------------------------\n",
      "Epoch 77, batch 799:\n",
      "Average original gradient norm: 0.588487699367106 (over last 800 batches)\n",
      "Average clipped gradient norm: 0.588487699367106 (over last 800 batches)\n",
      "Running average global loss: 0.7078869420289994 (over last 800 batches)\n",
      "Running average activity prediction loss: 0.4041975786909461 (Cross Entropy over last 800 batches)\n",
      "Running average time till next event prediction loss: 0.3036893633566797 (MAE over last 800 batches)\n",
      "------------------------------------------------------------\n"
     ]
    },
    {
     "name": "stderr",
     "output_type": "stream",
     "text": [
      "Batch calculation at epoch 77.: 1610it [00:33, 51.51it/s]"
     ]
    },
    {
     "name": "stdout",
     "output_type": "stream",
     "text": [
      "------------------------------------------------------------\n",
      "Epoch 77, batch 1599:\n",
      "Average original gradient norm: 0.5750575021281839 (over last 800 batches)\n",
      "Average clipped gradient norm: 0.5750575021281839 (over last 800 batches)\n",
      "Running average global loss: 0.7135778855532408 (over last 800 batches)\n",
      "Running average activity prediction loss: 0.4093120110780001 (Cross Entropy over last 800 batches)\n",
      "Running average time till next event prediction loss: 0.3042658753879368 (MAE over last 800 batches)\n",
      "------------------------------------------------------------\n"
     ]
    },
    {
     "name": "stderr",
     "output_type": "stream",
     "text": [
      "Batch calculation at epoch 77.: 2412it [00:48, 64.88it/s]"
     ]
    },
    {
     "name": "stdout",
     "output_type": "stream",
     "text": [
      "------------------------------------------------------------\n",
      "Epoch 77, batch 2399:\n",
      "Average original gradient norm: 0.5786287675052881 (over last 800 batches)\n",
      "Average clipped gradient norm: 0.5786287675052881 (over last 800 batches)\n",
      "Running average global loss: 0.7152105825394393 (over last 800 batches)\n",
      "Running average activity prediction loss: 0.41078604392707346 (Cross Entropy over last 800 batches)\n",
      "Running average time till next event prediction loss: 0.30442453840747474 (MAE over last 800 batches)\n",
      "------------------------------------------------------------\n"
     ]
    },
    {
     "name": "stderr",
     "output_type": "stream",
     "text": [
      "Batch calculation at epoch 77.: 3203it [01:03, 28.97it/s]"
     ]
    },
    {
     "name": "stdout",
     "output_type": "stream",
     "text": [
      "------------------------------------------------------------\n",
      "Epoch 77, batch 3199:\n",
      "Average original gradient norm: 0.5760072499886155 (over last 800 batches)\n",
      "Average clipped gradient norm: 0.5760072499886155 (over last 800 batches)\n",
      "Running average global loss: 0.713018403351307 (over last 800 batches)\n",
      "Running average activity prediction loss: 0.40959936179220674 (Cross Entropy over last 800 batches)\n",
      "Running average time till next event prediction loss: 0.3034190410189331 (MAE over last 800 batches)\n",
      "------------------------------------------------------------\n"
     ]
    },
    {
     "name": "stderr",
     "output_type": "stream",
     "text": [
      "Batch calculation at epoch 77.: 4004it [01:27, 28.70it/s]"
     ]
    },
    {
     "name": "stdout",
     "output_type": "stream",
     "text": [
      "------------------------------------------------------------\n",
      "Epoch 77, batch 3999:\n",
      "Average original gradient norm: 0.5783956376090645 (over last 800 batches)\n",
      "Average clipped gradient norm: 0.5783956376090645 (over last 800 batches)\n",
      "Running average global loss: 0.7097614087164402 (over last 800 batches)\n",
      "Running average activity prediction loss: 0.4055357061326504 (Cross Entropy over last 800 batches)\n",
      "Running average time till next event prediction loss: 0.3042257029376924 (MAE over last 800 batches)\n",
      "------------------------------------------------------------\n"
     ]
    },
    {
     "name": "stderr",
     "output_type": "stream",
     "text": [
      "Batch calculation at epoch 77.: 4295it [01:36, 44.50it/s]\n"
     ]
    },
    {
     "name": "stdout",
     "output_type": "stream",
     "text": [
      "=======================================\n",
      "End of epoch 77\n",
      "=======================================\n",
      "Running average global loss: 0.7084742947667837 (over last 800 batches)\n",
      "Running average activity prediction loss: 0.40357033628970385 (Cross Entropy over last 800 batches)\n",
      "Running average time till next event prediction loss: 0.3049039582535624 (MAE over last 800 batches)\n"
     ]
    },
    {
     "name": "stderr",
     "output_type": "stream",
     "text": [
      "Validation batch calculation: 40it [00:16,  2.43it/s]\n"
     ]
    },
    {
     "name": "stdout",
     "output_type": "stream",
     "text": [
      "Avg MAE TTNE prediction validation set: 0.46272939443588257 (standardized) ; 17074.048958333333 (minutes)'\n",
      "Avg 1-(normalized) DL distance acitivty suffix prediction validation set: 0.8446753621101379\n",
      "Percentage of suffixes predicted to END: too early - 0.2981026139847569 ; right moment - 0.6343868894443282 ; too late - 0.06751049657091496\n",
      "Too early instances - avg amount of events too early: 1.6985667943954468\n",
      "Too late instances - avg amount of events too late: 2.8121466636657715\n",
      "Avg absolute amount of events predicted too early / too late: 0.6961966156959534\n",
      "Avg MAE RRT prediction validation set:  36832.76666666667 (minutes)'\n",
      " \n",
      "------------------------------------\n",
      "EPOCH 78:\n",
      "____________________________________\n"
     ]
    },
    {
     "name": "stderr",
     "output_type": "stream",
     "text": [
      "Batch calculation at epoch 78.: 803it [00:26, 21.98it/s]"
     ]
    },
    {
     "name": "stdout",
     "output_type": "stream",
     "text": [
      "------------------------------------------------------------\n",
      "Epoch 78, batch 799:\n",
      "Average original gradient norm: 0.5832022584602237 (over last 800 batches)\n",
      "Average clipped gradient norm: 0.5832022584602237 (over last 800 batches)\n",
      "Running average global loss: 0.7129247815161943 (over last 800 batches)\n",
      "Running average activity prediction loss: 0.40974408842623233 (Cross Entropy over last 800 batches)\n",
      "Running average time till next event prediction loss: 0.3031806930527091 (MAE over last 800 batches)\n",
      "------------------------------------------------------------\n"
     ]
    },
    {
     "name": "stderr",
     "output_type": "stream",
     "text": [
      "Batch calculation at epoch 78.: 1608it [00:46, 37.88it/s]"
     ]
    },
    {
     "name": "stdout",
     "output_type": "stream",
     "text": [
      "------------------------------------------------------------\n",
      "Epoch 78, batch 1599:\n",
      "Average original gradient norm: 0.5734833426773548 (over last 800 batches)\n",
      "Average clipped gradient norm: 0.5734833426773548 (over last 800 batches)\n",
      "Running average global loss: 0.7103922978788614 (over last 800 batches)\n",
      "Running average activity prediction loss: 0.40686920486390593 (Cross Entropy over last 800 batches)\n",
      "Running average time till next event prediction loss: 0.3035230938717723 (MAE over last 800 batches)\n",
      "------------------------------------------------------------\n"
     ]
    },
    {
     "name": "stderr",
     "output_type": "stream",
     "text": [
      "Batch calculation at epoch 78.: 2403it [01:06, 30.76it/s]"
     ]
    },
    {
     "name": "stdout",
     "output_type": "stream",
     "text": [
      "------------------------------------------------------------\n",
      "Epoch 78, batch 2399:\n",
      "Average original gradient norm: 0.5799303288757801 (over last 800 batches)\n",
      "Average clipped gradient norm: 0.5799303288757801 (over last 800 batches)\n",
      "Running average global loss: 0.7135059278458357 (over last 800 batches)\n",
      "Running average activity prediction loss: 0.4077583444863558 (Cross Entropy over last 800 batches)\n",
      "Running average time till next event prediction loss: 0.30574758296832444 (MAE over last 800 batches)\n",
      "------------------------------------------------------------\n"
     ]
    },
    {
     "name": "stderr",
     "output_type": "stream",
     "text": [
      "Batch calculation at epoch 78.: 3203it [01:36, 23.50it/s]"
     ]
    },
    {
     "name": "stdout",
     "output_type": "stream",
     "text": [
      "------------------------------------------------------------\n",
      "Epoch 78, batch 3199:\n",
      "Average original gradient norm: 0.5821757215261459 (over last 800 batches)\n",
      "Average clipped gradient norm: 0.5821757215261459 (over last 800 batches)\n",
      "Running average global loss: 0.7106566692888737 (over last 800 batches)\n",
      "Running average activity prediction loss: 0.40538147687911985 (Cross Entropy over last 800 batches)\n",
      "Running average time till next event prediction loss: 0.30527519289404154 (MAE over last 800 batches)\n",
      "------------------------------------------------------------\n"
     ]
    },
    {
     "name": "stderr",
     "output_type": "stream",
     "text": [
      "Batch calculation at epoch 78.: 4003it [02:14, 25.03it/s]"
     ]
    },
    {
     "name": "stdout",
     "output_type": "stream",
     "text": [
      "------------------------------------------------------------\n",
      "Epoch 78, batch 3999:\n",
      "Average original gradient norm: 0.5767696508392691 (over last 800 batches)\n",
      "Average clipped gradient norm: 0.5767696508392691 (over last 800 batches)\n",
      "Running average global loss: 0.7111052663624287 (over last 800 batches)\n",
      "Running average activity prediction loss: 0.407995488345623 (Cross Entropy over last 800 batches)\n",
      "Running average time till next event prediction loss: 0.3031097783148289 (MAE over last 800 batches)\n",
      "------------------------------------------------------------\n"
     ]
    },
    {
     "name": "stderr",
     "output_type": "stream",
     "text": [
      "Batch calculation at epoch 78.: 4295it [02:26, 29.23it/s]\n"
     ]
    },
    {
     "name": "stdout",
     "output_type": "stream",
     "text": [
      "=======================================\n",
      "End of epoch 78\n",
      "=======================================\n",
      "Running average global loss: 0.7100899415463209 (over last 800 batches)\n",
      "Running average activity prediction loss: 0.40756024163216353 (Cross Entropy over last 800 batches)\n",
      "Running average time till next event prediction loss: 0.3025297002866864 (MAE over last 800 batches)\n"
     ]
    },
    {
     "name": "stderr",
     "output_type": "stream",
     "text": [
      "Validation batch calculation: 40it [00:24,  1.66it/s]\n"
     ]
    },
    {
     "name": "stdout",
     "output_type": "stream",
     "text": [
      "Avg MAE TTNE prediction validation set: 0.4621991217136383 (standardized) ; 17054.507291666665 (minutes)'\n",
      "Avg 1-(normalized) DL distance acitivty suffix prediction validation set: 0.8445659875869751\n",
      "Percentage of suffixes predicted to END: too early - 0.2980533632121354 ; right moment - 0.6342021990469976 ; too late - 0.06774443774086707\n",
      "Too early instances - avg amount of events too early: 1.6977320909500122\n",
      "Too late instances - avg amount of events too late: 2.819338321685791\n",
      "Avg absolute amount of events predicted too early / too late: 0.697009265422821\n",
      "Avg MAE RRT prediction validation set:  36841.725 (minutes)'\n",
      " \n",
      "------------------------------------\n",
      "EPOCH 79:\n",
      "____________________________________\n"
     ]
    },
    {
     "name": "stderr",
     "output_type": "stream",
     "text": [
      "Batch calculation at epoch 79.: 803it [00:14, 40.25it/s]"
     ]
    },
    {
     "name": "stdout",
     "output_type": "stream",
     "text": [
      "------------------------------------------------------------\n",
      "Epoch 79, batch 799:\n",
      "Average original gradient norm: 0.573637919947505 (over last 800 batches)\n",
      "Average clipped gradient norm: 0.573637919947505 (over last 800 batches)\n",
      "Running average global loss: 0.7083358021825552 (over last 800 batches)\n",
      "Running average activity prediction loss: 0.4048126077838242 (Cross Entropy over last 800 batches)\n",
      "Running average time till next event prediction loss: 0.3035231956280768 (MAE over last 800 batches)\n",
      "------------------------------------------------------------\n"
     ]
    },
    {
     "name": "stderr",
     "output_type": "stream",
     "text": [
      "Batch calculation at epoch 79.: 1601it [00:41, 20.82it/s]"
     ]
    },
    {
     "name": "stdout",
     "output_type": "stream",
     "text": [
      "------------------------------------------------------------\n",
      "Epoch 79, batch 1599:\n",
      "Average original gradient norm: 0.5779041646048426 (over last 800 batches)\n",
      "Average clipped gradient norm: 0.5779041646048426 (over last 800 batches)\n",
      "Running average global loss: 0.7088189706206321 (over last 800 batches)\n",
      "Running average activity prediction loss: 0.4051649646088481 (Cross Entropy over last 800 batches)\n",
      "Running average time till next event prediction loss: 0.30365400517359376 (MAE over last 800 batches)\n",
      "------------------------------------------------------------\n"
     ]
    },
    {
     "name": "stderr",
     "output_type": "stream",
     "text": [
      "Batch calculation at epoch 79.: 2407it [01:13, 36.18it/s]"
     ]
    },
    {
     "name": "stdout",
     "output_type": "stream",
     "text": [
      "------------------------------------------------------------\n",
      "Epoch 79, batch 2399:\n",
      "Average original gradient norm: 0.5824885135516524 (over last 800 batches)\n",
      "Average clipped gradient norm: 0.5824885135516524 (over last 800 batches)\n",
      "Running average global loss: 0.7145543936640024 (over last 800 batches)\n",
      "Running average activity prediction loss: 0.409989631138742 (Cross Entropy over last 800 batches)\n",
      "Running average time till next event prediction loss: 0.3045647644065321 (MAE over last 800 batches)\n",
      "------------------------------------------------------------\n"
     ]
    },
    {
     "name": "stderr",
     "output_type": "stream",
     "text": [
      "Batch calculation at epoch 79.: 3204it [01:36, 34.19it/s]"
     ]
    },
    {
     "name": "stdout",
     "output_type": "stream",
     "text": [
      "------------------------------------------------------------\n",
      "Epoch 79, batch 3199:\n",
      "Average original gradient norm: 0.5829547274112702 (over last 800 batches)\n",
      "Average clipped gradient norm: 0.5829547274112702 (over last 800 batches)\n",
      "Running average global loss: 0.7109725094586611 (over last 800 batches)\n",
      "Running average activity prediction loss: 0.40707197461277245 (Cross Entropy over last 800 batches)\n",
      "Running average time till next event prediction loss: 0.3039005353674293 (MAE over last 800 batches)\n",
      "------------------------------------------------------------\n"
     ]
    },
    {
     "name": "stderr",
     "output_type": "stream",
     "text": [
      "Batch calculation at epoch 79.: 4003it [02:00, 23.88it/s]"
     ]
    },
    {
     "name": "stdout",
     "output_type": "stream",
     "text": [
      "------------------------------------------------------------\n",
      "Epoch 79, batch 3999:\n",
      "Average original gradient norm: 0.5791848215460778 (over last 800 batches)\n",
      "Average clipped gradient norm: 0.5790642304718494 (over last 800 batches)\n",
      "Running average global loss: 0.7131409338116645 (over last 800 batches)\n",
      "Running average activity prediction loss: 0.4085925306007266 (Cross Entropy over last 800 batches)\n",
      "Running average time till next event prediction loss: 0.3045484030805528 (MAE over last 800 batches)\n",
      "------------------------------------------------------------\n"
     ]
    },
    {
     "name": "stderr",
     "output_type": "stream",
     "text": [
      "Batch calculation at epoch 79.: 4295it [02:13, 32.20it/s]\n"
     ]
    },
    {
     "name": "stdout",
     "output_type": "stream",
     "text": [
      "=======================================\n",
      "End of epoch 79\n",
      "=======================================\n",
      "Running average global loss: 0.7126844081282616 (over last 800 batches)\n",
      "Running average activity prediction loss: 0.40901772122830155 (Cross Entropy over last 800 batches)\n",
      "Running average time till next event prediction loss: 0.30366668656468393 (MAE over last 800 batches)\n"
     ]
    },
    {
     "name": "stderr",
     "output_type": "stream",
     "text": [
      "Validation batch calculation: 40it [00:20,  1.92it/s]\n"
     ]
    },
    {
     "name": "stdout",
     "output_type": "stream",
     "text": [
      "Avg MAE TTNE prediction validation set: 0.4627041220664978 (standardized) ; 17069.452083333334 (minutes)'\n",
      "Avg 1-(normalized) DL distance acitivty suffix prediction validation set: 0.8445624709129333\n",
      "Percentage of suffixes predicted to END: too early - 0.29789329820111554 ; right moment - 0.6341652609675315 ; too late - 0.06794144083135305\n",
      "Too early instances - avg amount of events too early: 1.6974456310272217\n",
      "Too late instances - avg amount of events too late: 2.824936628341675\n",
      "Avg absolute amount of events predicted too early / too late: 0.6975879669189453\n",
      "Avg MAE RRT prediction validation set:  36872.4625 (minutes)'\n",
      " \n",
      "------------------------------------\n",
      "EPOCH 80:\n",
      "____________________________________\n"
     ]
    },
    {
     "name": "stderr",
     "output_type": "stream",
     "text": [
      "Batch calculation at epoch 80.: 804it [00:31, 19.91it/s]"
     ]
    },
    {
     "name": "stdout",
     "output_type": "stream",
     "text": [
      "------------------------------------------------------------\n",
      "Epoch 80, batch 799:\n",
      "Average original gradient norm: 0.5766669740155339 (over last 800 batches)\n",
      "Average clipped gradient norm: 0.5766669740155339 (over last 800 batches)\n",
      "Running average global loss: 0.7119042083621026 (over last 800 batches)\n",
      "Running average activity prediction loss: 0.40693641003221276 (Cross Entropy over last 800 batches)\n",
      "Running average time till next event prediction loss: 0.30496779704466465 (MAE over last 800 batches)\n",
      "------------------------------------------------------------\n"
     ]
    },
    {
     "name": "stderr",
     "output_type": "stream",
     "text": [
      "Batch calculation at epoch 80.: 1603it [01:07, 24.48it/s]"
     ]
    },
    {
     "name": "stdout",
     "output_type": "stream",
     "text": [
      "------------------------------------------------------------\n",
      "Epoch 80, batch 1599:\n",
      "Average original gradient norm: 0.5802458790689706 (over last 800 batches)\n",
      "Average clipped gradient norm: 0.5802458790689706 (over last 800 batches)\n",
      "Running average global loss: 0.7144252161681652 (over last 800 batches)\n",
      "Running average activity prediction loss: 0.41028899170458316 (Cross Entropy over last 800 batches)\n",
      "Running average time till next event prediction loss: 0.30413622461259365 (MAE over last 800 batches)\n",
      "------------------------------------------------------------\n"
     ]
    },
    {
     "name": "stderr",
     "output_type": "stream",
     "text": [
      "Batch calculation at epoch 80.: 2403it [01:47, 18.61it/s]"
     ]
    },
    {
     "name": "stdout",
     "output_type": "stream",
     "text": [
      "------------------------------------------------------------\n",
      "Epoch 80, batch 2399:\n",
      "Average original gradient norm: 0.5806044943258166 (over last 800 batches)\n",
      "Average clipped gradient norm: 0.5806044943258166 (over last 800 batches)\n",
      "Running average global loss: 0.7107631612569094 (over last 800 batches)\n",
      "Running average activity prediction loss: 0.40663076639175416 (Cross Entropy over last 800 batches)\n",
      "Running average time till next event prediction loss: 0.3041323953308165 (MAE over last 800 batches)\n",
      "------------------------------------------------------------\n"
     ]
    },
    {
     "name": "stderr",
     "output_type": "stream",
     "text": [
      "Batch calculation at epoch 80.: 3205it [02:32, 22.61it/s]"
     ]
    },
    {
     "name": "stdout",
     "output_type": "stream",
     "text": [
      "------------------------------------------------------------\n",
      "Epoch 80, batch 3199:\n",
      "Average original gradient norm: 0.5762953554093838 (over last 800 batches)\n",
      "Average clipped gradient norm: 0.5762953554093838 (over last 800 batches)\n",
      "Running average global loss: 0.7109347911924124 (over last 800 batches)\n",
      "Running average activity prediction loss: 0.40679085049778224 (Cross Entropy over last 800 batches)\n",
      "Running average time till next event prediction loss: 0.30414394024759533 (MAE over last 800 batches)\n",
      "------------------------------------------------------------\n"
     ]
    },
    {
     "name": "stderr",
     "output_type": "stream",
     "text": [
      "Batch calculation at epoch 80.: 4004it [03:17, 22.03it/s]"
     ]
    },
    {
     "name": "stdout",
     "output_type": "stream",
     "text": [
      "------------------------------------------------------------\n",
      "Epoch 80, batch 3999:\n",
      "Average original gradient norm: 0.5909228648617864 (over last 800 batches)\n",
      "Average clipped gradient norm: 0.5909228648617864 (over last 800 batches)\n",
      "Running average global loss: 0.7092310628294944 (over last 800 batches)\n",
      "Running average activity prediction loss: 0.4058263286203146 (Cross Entropy over last 800 batches)\n",
      "Running average time till next event prediction loss: 0.3034047329612076 (MAE over last 800 batches)\n",
      "------------------------------------------------------------\n"
     ]
    },
    {
     "name": "stderr",
     "output_type": "stream",
     "text": [
      "Batch calculation at epoch 80.: 4295it [03:29, 20.48it/s]\n"
     ]
    },
    {
     "name": "stdout",
     "output_type": "stream",
     "text": [
      "=======================================\n",
      "End of epoch 80\n",
      "=======================================\n",
      "Running average global loss: 0.7084527971595526 (over last 800 batches)\n",
      "Running average activity prediction loss: 0.40549141008406875 (Cross Entropy over last 800 batches)\n",
      "Running average time till next event prediction loss: 0.3029613868705928 (MAE over last 800 batches)\n"
     ]
    },
    {
     "name": "stderr",
     "output_type": "stream",
     "text": [
      "Validation batch calculation: 40it [00:28,  1.40it/s]\n"
     ]
    },
    {
     "name": "stdout",
     "output_type": "stream",
     "text": [
      "Avg MAE TTNE prediction validation set: 0.4625624418258667 (standardized) ; 17067.192708333332 (minutes)'\n",
      "Avg 1-(normalized) DL distance acitivty suffix prediction validation set: 0.8445087671279907\n",
      "Percentage of suffixes predicted to END: too early - 0.2978194220421833 ; right moment - 0.6341406355812207 ; too late - 0.06803994237659604\n",
      "Too early instances - avg amount of events too early: 1.6974118947982788\n",
      "Too late instances - avg amount of events too late: 2.82609486579895\n",
      "Avg absolute amount of events predicted too early / too late: 0.6978095769882202\n",
      "Avg MAE RRT prediction validation set:  36832.15 (minutes)'\n",
      " \n",
      "------------------------------------\n",
      "EPOCH 81:\n",
      "____________________________________\n"
     ]
    },
    {
     "name": "stderr",
     "output_type": "stream",
     "text": [
      "Batch calculation at epoch 81.: 802it [00:33, 25.10it/s]"
     ]
    },
    {
     "name": "stdout",
     "output_type": "stream",
     "text": [
      "------------------------------------------------------------\n",
      "Epoch 81, batch 799:\n",
      "Average original gradient norm: 0.5805963882431388 (over last 800 batches)\n",
      "Average clipped gradient norm: 0.5805963882431388 (over last 800 batches)\n",
      "Running average global loss: 0.7128795833140612 (over last 800 batches)\n",
      "Running average activity prediction loss: 0.4079181581735611 (Cross Entropy over last 800 batches)\n",
      "Running average time till next event prediction loss: 0.30496142553165556 (MAE over last 800 batches)\n",
      "------------------------------------------------------------\n"
     ]
    },
    {
     "name": "stderr",
     "output_type": "stream",
     "text": [
      "Batch calculation at epoch 81.: 1609it [01:06, 57.67it/s]"
     ]
    },
    {
     "name": "stdout",
     "output_type": "stream",
     "text": [
      "------------------------------------------------------------\n",
      "Epoch 81, batch 1599:\n",
      "Average original gradient norm: 0.5849452401325107 (over last 800 batches)\n",
      "Average clipped gradient norm: 0.5849452401325107 (over last 800 batches)\n",
      "Running average global loss: 0.7074758993089199 (over last 800 batches)\n",
      "Running average activity prediction loss: 0.40411398995667697 (Cross Entropy over last 800 batches)\n",
      "Running average time till next event prediction loss: 0.3033619091287255 (MAE over last 800 batches)\n",
      "------------------------------------------------------------\n"
     ]
    },
    {
     "name": "stderr",
     "output_type": "stream",
     "text": [
      "Batch calculation at epoch 81.: 2402it [01:29, 19.92it/s]"
     ]
    },
    {
     "name": "stdout",
     "output_type": "stream",
     "text": [
      "------------------------------------------------------------\n",
      "Epoch 81, batch 2399:\n",
      "Average original gradient norm: 0.5745413573458791 (over last 800 batches)\n",
      "Average clipped gradient norm: 0.5745413573458791 (over last 800 batches)\n",
      "Running average global loss: 0.7134382632374764 (over last 800 batches)\n",
      "Running average activity prediction loss: 0.41000799084082246 (Cross Entropy over last 800 batches)\n",
      "Running average time till next event prediction loss: 0.30343027245253323 (MAE over last 800 batches)\n",
      "------------------------------------------------------------\n"
     ]
    },
    {
     "name": "stderr",
     "output_type": "stream",
     "text": [
      "Batch calculation at epoch 81.: 3207it [01:49, 41.25it/s]"
     ]
    },
    {
     "name": "stdout",
     "output_type": "stream",
     "text": [
      "------------------------------------------------------------\n",
      "Epoch 81, batch 3199:\n",
      "Average original gradient norm: 0.5811092759668827 (over last 800 batches)\n",
      "Average clipped gradient norm: 0.5811092759668827 (over last 800 batches)\n",
      "Running average global loss: 0.711494965404272 (over last 800 batches)\n",
      "Running average activity prediction loss: 0.4081139234825969 (Cross Entropy over last 800 batches)\n",
      "Running average time till next event prediction loss: 0.3033810408785939 (MAE over last 800 batches)\n",
      "------------------------------------------------------------\n"
     ]
    },
    {
     "name": "stderr",
     "output_type": "stream",
     "text": [
      "Batch calculation at epoch 81.: 4002it [02:31, 15.47it/s]"
     ]
    },
    {
     "name": "stdout",
     "output_type": "stream",
     "text": [
      "------------------------------------------------------------\n",
      "Epoch 81, batch 3999:\n",
      "Average original gradient norm: 0.5894506730139255 (over last 800 batches)\n",
      "Average clipped gradient norm: 0.5894506730139255 (over last 800 batches)\n",
      "Running average global loss: 0.7113322757929563 (over last 800 batches)\n",
      "Running average activity prediction loss: 0.4067762961238623 (Cross Entropy over last 800 batches)\n",
      "Running average time till next event prediction loss: 0.3045559796877205 (MAE over last 800 batches)\n",
      "------------------------------------------------------------\n"
     ]
    },
    {
     "name": "stderr",
     "output_type": "stream",
     "text": [
      "Batch calculation at epoch 81.: 4295it [02:42, 26.49it/s]\n"
     ]
    },
    {
     "name": "stdout",
     "output_type": "stream",
     "text": [
      "=======================================\n",
      "End of epoch 81\n",
      "=======================================\n",
      "Running average global loss: 0.71194615483284 (over last 800 batches)\n",
      "Running average activity prediction loss: 0.40703573677688837 (Cross Entropy over last 800 batches)\n",
      "Running average time till next event prediction loss: 0.3049104194715619 (MAE over last 800 batches)\n"
     ]
    },
    {
     "name": "stderr",
     "output_type": "stream",
     "text": [
      "Validation batch calculation: 40it [00:18,  2.17it/s]\n"
     ]
    },
    {
     "name": "stdout",
     "output_type": "stream",
     "text": [
      "Avg MAE TTNE prediction validation set: 0.462029367685318 (standardized) ; 17046.790625 (minutes)'\n",
      "Avg 1-(normalized) DL distance acitivty suffix prediction validation set: 0.8445587158203125\n",
      "Percentage of suffixes predicted to END: too early - 0.29764704433800804 ; right moment - 0.634251449819619 ; too late - 0.0681015058423729\n",
      "Too early instances - avg amount of events too early: 1.697981357574463\n",
      "Too late instances - avg amount of events too late: 2.8188393115997314\n",
      "Avg absolute amount of events predicted too early / too late: 0.6973662972450256\n",
      "Avg MAE RRT prediction validation set:  36845.49166666667 (minutes)'\n",
      " \n",
      "------------------------------------\n",
      "EPOCH 82:\n",
      "____________________________________\n"
     ]
    },
    {
     "name": "stderr",
     "output_type": "stream",
     "text": [
      "Batch calculation at epoch 82.: 808it [00:19, 45.96it/s]"
     ]
    },
    {
     "name": "stdout",
     "output_type": "stream",
     "text": [
      "------------------------------------------------------------\n",
      "Epoch 82, batch 799:\n",
      "Average original gradient norm: 0.5761614095792175 (over last 800 batches)\n",
      "Average clipped gradient norm: 0.5761614095792175 (over last 800 batches)\n",
      "Running average global loss: 0.7088290517032146 (over last 800 batches)\n",
      "Running average activity prediction loss: 0.40464406613260506 (Cross Entropy over last 800 batches)\n",
      "Running average time till next event prediction loss: 0.3041849860548973 (MAE over last 800 batches)\n",
      "------------------------------------------------------------\n"
     ]
    },
    {
     "name": "stderr",
     "output_type": "stream",
     "text": [
      "Batch calculation at epoch 82.: 1604it [00:38, 40.45it/s]"
     ]
    },
    {
     "name": "stdout",
     "output_type": "stream",
     "text": [
      "------------------------------------------------------------\n",
      "Epoch 82, batch 1599:\n",
      "Average original gradient norm: 0.5889709800481796 (over last 800 batches)\n",
      "Average clipped gradient norm: 0.5889709800481796 (over last 800 batches)\n",
      "Running average global loss: 0.714131840839982 (over last 800 batches)\n",
      "Running average activity prediction loss: 0.4091649093478918 (Cross Entropy over last 800 batches)\n",
      "Running average time till next event prediction loss: 0.30496693175286055 (MAE over last 800 batches)\n",
      "------------------------------------------------------------\n"
     ]
    },
    {
     "name": "stderr",
     "output_type": "stream",
     "text": [
      "Batch calculation at epoch 82.: 2406it [00:58, 33.41it/s]"
     ]
    },
    {
     "name": "stdout",
     "output_type": "stream",
     "text": [
      "------------------------------------------------------------\n",
      "Epoch 82, batch 2399:\n",
      "Average original gradient norm: 0.574140560477972 (over last 800 batches)\n",
      "Average clipped gradient norm: 0.574140560477972 (over last 800 batches)\n",
      "Running average global loss: 0.7100158033519983 (over last 800 batches)\n",
      "Running average activity prediction loss: 0.4087725600041449 (Cross Entropy over last 800 batches)\n",
      "Running average time till next event prediction loss: 0.3012432430125773 (MAE over last 800 batches)\n",
      "------------------------------------------------------------\n"
     ]
    },
    {
     "name": "stderr",
     "output_type": "stream",
     "text": [
      "Batch calculation at epoch 82.: 3203it [01:24, 27.50it/s]"
     ]
    },
    {
     "name": "stdout",
     "output_type": "stream",
     "text": [
      "------------------------------------------------------------\n",
      "Epoch 82, batch 3199:\n",
      "Average original gradient norm: 0.5826495919376612 (over last 800 batches)\n",
      "Average clipped gradient norm: 0.5826495919376612 (over last 800 batches)\n",
      "Running average global loss: 0.7130393767356873 (over last 800 batches)\n",
      "Running average activity prediction loss: 0.40750840097665786 (Cross Entropy over last 800 batches)\n",
      "Running average time till next event prediction loss: 0.30553097628057 (MAE over last 800 batches)\n",
      "------------------------------------------------------------\n"
     ]
    },
    {
     "name": "stderr",
     "output_type": "stream",
     "text": [
      "Batch calculation at epoch 82.: 4004it [01:49, 23.50it/s]"
     ]
    },
    {
     "name": "stdout",
     "output_type": "stream",
     "text": [
      "------------------------------------------------------------\n",
      "Epoch 82, batch 3999:\n",
      "Average original gradient norm: 0.5687481125816702 (over last 800 batches)\n",
      "Average clipped gradient norm: 0.5687481125816702 (over last 800 batches)\n",
      "Running average global loss: 0.7096118085831403 (over last 800 batches)\n",
      "Running average activity prediction loss: 0.4055503638461232 (Cross Entropy over last 800 batches)\n",
      "Running average time till next event prediction loss: 0.30406144516542555 (MAE over last 800 batches)\n",
      "------------------------------------------------------------\n"
     ]
    },
    {
     "name": "stderr",
     "output_type": "stream",
     "text": [
      "Batch calculation at epoch 82.: 4295it [01:59, 35.82it/s]\n"
     ]
    },
    {
     "name": "stdout",
     "output_type": "stream",
     "text": [
      "=======================================\n",
      "End of epoch 82\n",
      "=======================================\n",
      "Running average global loss: 0.7113080894947053 (over last 800 batches)\n",
      "Running average activity prediction loss: 0.4073991432413459 (Cross Entropy over last 800 batches)\n",
      "Running average time till next event prediction loss: 0.30390894697979093 (MAE over last 800 batches)\n"
     ]
    },
    {
     "name": "stderr",
     "output_type": "stream",
     "text": [
      "Validation batch calculation: 40it [00:24,  1.64it/s]\n"
     ]
    },
    {
     "name": "stdout",
     "output_type": "stream",
     "text": [
      "Avg MAE TTNE prediction validation set: 0.4622291326522827 (standardized) ; 17055.501041666666 (minutes)'\n",
      "Avg 1-(normalized) DL distance acitivty suffix prediction validation set: 0.8445811867713928\n",
      "Percentage of suffixes predicted to END: too early - 0.2974746666338328 ; right moment - 0.6341283228880653 ; too late - 0.06839701047810187\n",
      "Too early instances - avg amount of events too early: 1.6954469680786133\n",
      "Too late instances - avg amount of events too late: 2.8316831588745117\n",
      "Avg absolute amount of events predicted too early / too late: 0.6980311870574951\n",
      "Avg MAE RRT prediction validation set:  36904.775 (minutes)'\n",
      " \n",
      "------------------------------------\n",
      "EPOCH 83:\n",
      "____________________________________\n"
     ]
    },
    {
     "name": "stderr",
     "output_type": "stream",
     "text": [
      "Batch calculation at epoch 83.: 802it [00:57, 11.49it/s]"
     ]
    },
    {
     "name": "stdout",
     "output_type": "stream",
     "text": [
      "------------------------------------------------------------\n",
      "Epoch 83, batch 799:\n",
      "Average original gradient norm: 0.5724416814371943 (over last 800 batches)\n",
      "Average clipped gradient norm: 0.5724416814371943 (over last 800 batches)\n",
      "Running average global loss: 0.7101650024205446 (over last 800 batches)\n",
      "Running average activity prediction loss: 0.4069007001444697 (Cross Entropy over last 800 batches)\n",
      "Running average time till next event prediction loss: 0.303264300879091 (MAE over last 800 batches)\n",
      "------------------------------------------------------------\n"
     ]
    },
    {
     "name": "stderr",
     "output_type": "stream",
     "text": [
      "Batch calculation at epoch 83.: 1601it [02:02, 10.38it/s]"
     ]
    },
    {
     "name": "stdout",
     "output_type": "stream",
     "text": [
      "------------------------------------------------------------\n",
      "Epoch 83, batch 1599:\n",
      "Average original gradient norm: 0.5829146204888821 (over last 800 batches)\n",
      "Average clipped gradient norm: 0.5829146204888821 (over last 800 batches)\n",
      "Running average global loss: 0.7114484841376543 (over last 800 batches)\n",
      "Running average activity prediction loss: 0.4060738109052181 (Cross Entropy over last 800 batches)\n",
      "Running average time till next event prediction loss: 0.3053746729902923 (MAE over last 800 batches)\n",
      "------------------------------------------------------------\n"
     ]
    },
    {
     "name": "stderr",
     "output_type": "stream",
     "text": [
      "Batch calculation at epoch 83.: 2404it [02:41, 20.59it/s]"
     ]
    },
    {
     "name": "stdout",
     "output_type": "stream",
     "text": [
      "------------------------------------------------------------\n",
      "Epoch 83, batch 2399:\n",
      "Average original gradient norm: 0.5763225756585598 (over last 800 batches)\n",
      "Average clipped gradient norm: 0.5763225756585598 (over last 800 batches)\n",
      "Running average global loss: 0.7143418702483177 (over last 800 batches)\n",
      "Running average activity prediction loss: 0.4105723746865988 (Cross Entropy over last 800 batches)\n",
      "Running average time till next event prediction loss: 0.30376949440687895 (MAE over last 800 batches)\n",
      "------------------------------------------------------------\n"
     ]
    },
    {
     "name": "stderr",
     "output_type": "stream",
     "text": [
      "Batch calculation at epoch 83.: 3202it [03:37, 25.66it/s]"
     ]
    },
    {
     "name": "stdout",
     "output_type": "stream",
     "text": [
      "------------------------------------------------------------\n",
      "Epoch 83, batch 3199:\n",
      "Average original gradient norm: 0.5825575687363744 (over last 800 batches)\n",
      "Average clipped gradient norm: 0.5825575687363744 (over last 800 batches)\n",
      "Running average global loss: 0.7096023839712143 (over last 800 batches)\n",
      "Running average activity prediction loss: 0.4056847522035241 (Cross Entropy over last 800 batches)\n",
      "Running average time till next event prediction loss: 0.303917631637305 (MAE over last 800 batches)\n",
      "------------------------------------------------------------\n"
     ]
    },
    {
     "name": "stderr",
     "output_type": "stream",
     "text": [
      "Batch calculation at epoch 83.: 4005it [04:10, 23.84it/s]"
     ]
    },
    {
     "name": "stdout",
     "output_type": "stream",
     "text": [
      "------------------------------------------------------------\n",
      "Epoch 83, batch 3999:\n",
      "Average original gradient norm: 0.5813150938972831 (over last 800 batches)\n",
      "Average clipped gradient norm: 0.5813150938972831 (over last 800 batches)\n",
      "Running average global loss: 0.7086613605171442 (over last 800 batches)\n",
      "Running average activity prediction loss: 0.4055630357936025 (Cross Entropy over last 800 batches)\n",
      "Running average time till next event prediction loss: 0.3030983247794211 (MAE over last 800 batches)\n",
      "------------------------------------------------------------\n"
     ]
    },
    {
     "name": "stderr",
     "output_type": "stream",
     "text": [
      "Batch calculation at epoch 83.: 4295it [04:22, 16.39it/s]\n"
     ]
    },
    {
     "name": "stdout",
     "output_type": "stream",
     "text": [
      "=======================================\n",
      "End of epoch 83\n",
      "=======================================\n",
      "Running average global loss: 0.7105240247398615 (over last 800 batches)\n",
      "Running average activity prediction loss: 0.4062658594921231 (Cross Entropy over last 800 batches)\n",
      "Running average time till next event prediction loss: 0.3042581666260958 (MAE over last 800 batches)\n"
     ]
    },
    {
     "name": "stderr",
     "output_type": "stream",
     "text": [
      "Validation batch calculation: 40it [00:24,  1.62it/s]\n"
     ]
    },
    {
     "name": "stdout",
     "output_type": "stream",
     "text": [
      "Avg MAE TTNE prediction validation set: 0.46161356568336487 (standardized) ; 17033.728125 (minutes)'\n",
      "Avg 1-(normalized) DL distance acitivty suffix prediction validation set: 0.8445552587509155\n",
      "Percentage of suffixes predicted to END: too early - 0.29789329820111554 ; right moment - 0.6341160101949099 ; too late - 0.06799069160397454\n",
      "Too early instances - avg amount of events too early: 1.6981070041656494\n",
      "Too late instances - avg amount of events too late: 2.8158276081085205\n",
      "Avg absolute amount of events predicted too early / too late: 0.6973047256469727\n",
      "Avg MAE RRT prediction validation set:  36944.9375 (minutes)'\n",
      " \n",
      "------------------------------------\n",
      "EPOCH 84:\n",
      "____________________________________\n"
     ]
    },
    {
     "name": "stderr",
     "output_type": "stream",
     "text": [
      "Batch calculation at epoch 84.: 803it [00:43, 20.19it/s]"
     ]
    },
    {
     "name": "stdout",
     "output_type": "stream",
     "text": [
      "------------------------------------------------------------\n",
      "Epoch 84, batch 799:\n",
      "Average original gradient norm: 0.5832782343775034 (over last 800 batches)\n",
      "Average clipped gradient norm: 0.5832782343775034 (over last 800 batches)\n",
      "Running average global loss: 0.7082034137845039 (over last 800 batches)\n",
      "Running average activity prediction loss: 0.4051864754781127 (Cross Entropy over last 800 batches)\n",
      "Running average time till next event prediction loss: 0.3030169381573796 (MAE over last 800 batches)\n",
      "------------------------------------------------------------\n"
     ]
    },
    {
     "name": "stderr",
     "output_type": "stream",
     "text": [
      "Batch calculation at epoch 84.: 1603it [01:14, 25.55it/s]"
     ]
    },
    {
     "name": "stdout",
     "output_type": "stream",
     "text": [
      "------------------------------------------------------------\n",
      "Epoch 84, batch 1599:\n",
      "Average original gradient norm: 0.571702067218721 (over last 800 batches)\n",
      "Average clipped gradient norm: 0.571702067218721 (over last 800 batches)\n",
      "Running average global loss: 0.7128261686116457 (over last 800 batches)\n",
      "Running average activity prediction loss: 0.4087512258440256 (Cross Entropy over last 800 batches)\n",
      "Running average time till next event prediction loss: 0.3040749434381723 (MAE over last 800 batches)\n",
      "------------------------------------------------------------\n"
     ]
    },
    {
     "name": "stderr",
     "output_type": "stream",
     "text": [
      "Batch calculation at epoch 84.: 2403it [01:48, 23.97it/s]"
     ]
    },
    {
     "name": "stdout",
     "output_type": "stream",
     "text": [
      "------------------------------------------------------------\n",
      "Epoch 84, batch 2399:\n",
      "Average original gradient norm: 0.5874328755959869 (over last 800 batches)\n",
      "Average clipped gradient norm: 0.5874328755959869 (over last 800 batches)\n",
      "Running average global loss: 0.7111837862432003 (over last 800 batches)\n",
      "Running average activity prediction loss: 0.4055234712734819 (Cross Entropy over last 800 batches)\n",
      "Running average time till next event prediction loss: 0.30566031524911524 (MAE over last 800 batches)\n",
      "------------------------------------------------------------\n"
     ]
    },
    {
     "name": "stderr",
     "output_type": "stream",
     "text": [
      "Batch calculation at epoch 84.: 3199it [02:24, 26.73it/s]"
     ]
    },
    {
     "name": "stdout",
     "output_type": "stream",
     "text": [
      "------------------------------------------------------------\n",
      "Epoch 84, batch 3199:\n",
      "Average original gradient norm: 0.5751181101053953 (over last 800 batches)\n",
      "Average clipped gradient norm: 0.5751181101053953 (over last 800 batches)\n",
      "Running average global loss: 0.7106391464173794 (over last 800 batches)\n",
      "Running average activity prediction loss: 0.4070907031744719 (Cross Entropy over last 800 batches)\n",
      "Running average time till next event prediction loss: 0.3035484429821372 (MAE over last 800 batches)\n",
      "------------------------------------------------------------\n"
     ]
    },
    {
     "name": "stderr",
     "output_type": "stream",
     "text": [
      "Batch calculation at epoch 84.: 4001it [03:37, 14.32it/s]"
     ]
    },
    {
     "name": "stdout",
     "output_type": "stream",
     "text": [
      "------------------------------------------------------------\n",
      "Epoch 84, batch 3999:\n",
      "Average original gradient norm: 0.5837270757555961 (over last 800 batches)\n",
      "Average clipped gradient norm: 0.5837270757555961 (over last 800 batches)\n",
      "Running average global loss: 0.7110261867940426 (over last 800 batches)\n",
      "Running average activity prediction loss: 0.40758480142802 (Cross Entropy over last 800 batches)\n",
      "Running average time till next event prediction loss: 0.3034413842484355 (MAE over last 800 batches)\n",
      "------------------------------------------------------------\n"
     ]
    },
    {
     "name": "stderr",
     "output_type": "stream",
     "text": [
      "Batch calculation at epoch 84.: 4295it [03:56, 18.14it/s]\n"
     ]
    },
    {
     "name": "stdout",
     "output_type": "stream",
     "text": [
      "=======================================\n",
      "End of epoch 84\n",
      "=======================================\n",
      "Running average global loss: 0.7110075338929892 (over last 800 batches)\n",
      "Running average activity prediction loss: 0.40769072134047746 (Cross Entropy over last 800 batches)\n",
      "Running average time till next event prediction loss: 0.3033168121986091 (MAE over last 800 batches)\n"
     ]
    },
    {
     "name": "stderr",
     "output_type": "stream",
     "text": [
      "Validation batch calculation: 40it [00:21,  1.90it/s]\n"
     ]
    },
    {
     "name": "stdout",
     "output_type": "stream",
     "text": [
      "Avg MAE TTNE prediction validation set: 0.4619256854057312 (standardized) ; 17043.161458333332 (minutes)'\n",
      "Avg 1-(normalized) DL distance acitivty suffix prediction validation set: 0.8446460366249084\n",
      "Percentage of suffixes predicted to END: too early - 0.2982257409163106 ; right moment - 0.6341406355812207 ; too late - 0.0676336235024687\n",
      "Too early instances - avg amount of events too early: 1.697906732559204\n",
      "Too late instances - avg amount of events too late: 2.808847665786743\n",
      "Avg absolute amount of events predicted too early / too late: 0.6963320374488831\n",
      "Avg MAE RRT prediction validation set:  36920.86666666667 (minutes)'\n",
      " \n",
      "------------------------------------\n",
      "EPOCH 85:\n",
      "____________________________________\n"
     ]
    },
    {
     "name": "stderr",
     "output_type": "stream",
     "text": [
      "Batch calculation at epoch 85.: 803it [00:34, 35.85it/s]"
     ]
    },
    {
     "name": "stdout",
     "output_type": "stream",
     "text": [
      "------------------------------------------------------------\n",
      "Epoch 85, batch 799:\n",
      "Average original gradient norm: 0.5759373116120696 (over last 800 batches)\n",
      "Average clipped gradient norm: 0.5759373116120696 (over last 800 batches)\n",
      "Running average global loss: 0.7133917250484229 (over last 800 batches)\n",
      "Running average activity prediction loss: 0.4098573961853981 (Cross Entropy over last 800 batches)\n",
      "Running average time till next event prediction loss: 0.3035343278385699 (MAE over last 800 batches)\n",
      "------------------------------------------------------------\n"
     ]
    },
    {
     "name": "stderr",
     "output_type": "stream",
     "text": [
      "Batch calculation at epoch 85.: 1602it [01:09, 26.61it/s]"
     ]
    },
    {
     "name": "stdout",
     "output_type": "stream",
     "text": [
      "------------------------------------------------------------\n",
      "Epoch 85, batch 1599:\n",
      "Average original gradient norm: 0.5727051068469882 (over last 800 batches)\n",
      "Average clipped gradient norm: 0.5727051068469882 (over last 800 batches)\n",
      "Running average global loss: 0.7118239878118038 (over last 800 batches)\n",
      "Running average activity prediction loss: 0.40741774674504994 (Cross Entropy over last 800 batches)\n",
      "Running average time till next event prediction loss: 0.30440624061971905 (MAE over last 800 batches)\n",
      "------------------------------------------------------------\n"
     ]
    },
    {
     "name": "stderr",
     "output_type": "stream",
     "text": [
      "Batch calculation at epoch 85.: 2402it [01:45, 14.51it/s]"
     ]
    },
    {
     "name": "stdout",
     "output_type": "stream",
     "text": [
      "------------------------------------------------------------\n",
      "Epoch 85, batch 2399:\n",
      "Average original gradient norm: 0.5782551889494062 (over last 800 batches)\n",
      "Average clipped gradient norm: 0.5782551889494062 (over last 800 batches)\n",
      "Running average global loss: 0.7100642342120409 (over last 800 batches)\n",
      "Running average activity prediction loss: 0.40752508386969566 (Cross Entropy over last 800 batches)\n",
      "Running average time till next event prediction loss: 0.30253915006294846 (MAE over last 800 batches)\n",
      "------------------------------------------------------------\n"
     ]
    },
    {
     "name": "stderr",
     "output_type": "stream",
     "text": [
      "Batch calculation at epoch 85.: 3203it [02:20, 26.54it/s]"
     ]
    },
    {
     "name": "stdout",
     "output_type": "stream",
     "text": [
      "------------------------------------------------------------\n",
      "Epoch 85, batch 3199:\n",
      "Average original gradient norm: 0.5798999487608671 (over last 800 batches)\n",
      "Average clipped gradient norm: 0.5798999487608671 (over last 800 batches)\n",
      "Running average global loss: 0.7092558526992798 (over last 800 batches)\n",
      "Running average activity prediction loss: 0.40526281036436557 (Cross Entropy over last 800 batches)\n",
      "Running average time till next event prediction loss: 0.30399304188787934 (MAE over last 800 batches)\n",
      "------------------------------------------------------------\n"
     ]
    },
    {
     "name": "stderr",
     "output_type": "stream",
     "text": [
      "Batch calculation at epoch 85.: 4002it [02:59, 22.98it/s]"
     ]
    },
    {
     "name": "stdout",
     "output_type": "stream",
     "text": [
      "------------------------------------------------------------\n",
      "Epoch 85, batch 3999:\n",
      "Average original gradient norm: 0.5737329179048538 (over last 800 batches)\n",
      "Average clipped gradient norm: 0.5737329179048538 (over last 800 batches)\n",
      "Running average global loss: 0.7103203812241554 (over last 800 batches)\n",
      "Running average activity prediction loss: 0.40446490701287985 (Cross Entropy over last 800 batches)\n",
      "Running average time till next event prediction loss: 0.3058554749004543 (MAE over last 800 batches)\n",
      "------------------------------------------------------------\n"
     ]
    },
    {
     "name": "stderr",
     "output_type": "stream",
     "text": [
      "Batch calculation at epoch 85.: 4295it [03:13, 22.22it/s]\n"
     ]
    },
    {
     "name": "stdout",
     "output_type": "stream",
     "text": [
      "=======================================\n",
      "End of epoch 85\n",
      "=======================================\n",
      "Running average global loss: 0.7119320864975452 (over last 800 batches)\n",
      "Running average activity prediction loss: 0.40647376522421835 (Cross Entropy over last 800 batches)\n",
      "Running average time till next event prediction loss: 0.3054583209939301 (MAE over last 800 batches)\n"
     ]
    },
    {
     "name": "stderr",
     "output_type": "stream",
     "text": [
      "Validation batch calculation: 40it [00:23,  1.73it/s]\n"
     ]
    },
    {
     "name": "stdout",
     "output_type": "stream",
     "text": [
      "Avg MAE TTNE prediction validation set: 0.4619414806365967 (standardized) ; 17044.859375 (minutes)'\n",
      "Avg 1-(normalized) DL distance acitivty suffix prediction validation set: 0.8446342349052429\n",
      "Percentage of suffixes predicted to END: too early - 0.2979179235874263 ; right moment - 0.6342021990469976 ; too late - 0.06787987736557617\n",
      "Too early instances - avg amount of events too early: 1.6973880529403687\n",
      "Too late instances - avg amount of events too late: 2.8070015907287598\n",
      "Avg absolute amount of events predicted too early / too late: 0.6962212324142456\n",
      "Avg MAE RRT prediction validation set:  36863.9375 (minutes)'\n",
      " \n",
      "------------------------------------\n",
      "EPOCH 86:\n",
      "____________________________________\n"
     ]
    },
    {
     "name": "stderr",
     "output_type": "stream",
     "text": [
      "Batch calculation at epoch 86.: 802it [00:36, 11.58it/s]"
     ]
    },
    {
     "name": "stdout",
     "output_type": "stream",
     "text": [
      "------------------------------------------------------------\n",
      "Epoch 86, batch 799:\n",
      "Average original gradient norm: 0.5789811628684401 (over last 800 batches)\n",
      "Average clipped gradient norm: 0.5789811628684401 (over last 800 batches)\n",
      "Running average global loss: 0.7113884945213794 (over last 800 batches)\n",
      "Running average activity prediction loss: 0.40663742419332266 (Cross Entropy over last 800 batches)\n",
      "Running average time till next event prediction loss: 0.30475107101723553 (MAE over last 800 batches)\n",
      "------------------------------------------------------------\n"
     ]
    },
    {
     "name": "stderr",
     "output_type": "stream",
     "text": [
      "Batch calculation at epoch 86.: 1603it [01:19, 19.90it/s]"
     ]
    },
    {
     "name": "stdout",
     "output_type": "stream",
     "text": [
      "------------------------------------------------------------\n",
      "Epoch 86, batch 1599:\n",
      "Average original gradient norm: 0.582911623455584 (over last 800 batches)\n",
      "Average clipped gradient norm: 0.582911623455584 (over last 800 batches)\n",
      "Running average global loss: 0.7126264255493879 (over last 800 batches)\n",
      "Running average activity prediction loss: 0.40886719558387996 (Cross Entropy over last 800 batches)\n",
      "Running average time till next event prediction loss: 0.30375922977924347 (MAE over last 800 batches)\n",
      "------------------------------------------------------------\n"
     ]
    },
    {
     "name": "stderr",
     "output_type": "stream",
     "text": [
      "Batch calculation at epoch 86.: 2403it [02:13, 15.31it/s]"
     ]
    },
    {
     "name": "stdout",
     "output_type": "stream",
     "text": [
      "------------------------------------------------------------\n",
      "Epoch 86, batch 2399:\n",
      "Average original gradient norm: 0.5749365478381514 (over last 800 batches)\n",
      "Average clipped gradient norm: 0.5749365478381514 (over last 800 batches)\n",
      "Running average global loss: 0.7089955078065395 (over last 800 batches)\n",
      "Running average activity prediction loss: 0.4062685389444232 (Cross Entropy over last 800 batches)\n",
      "Running average time till next event prediction loss: 0.30272696938365695 (MAE over last 800 batches)\n",
      "------------------------------------------------------------\n"
     ]
    },
    {
     "name": "stderr",
     "output_type": "stream",
     "text": [
      "Batch calculation at epoch 86.: 3203it [03:01, 21.38it/s]"
     ]
    },
    {
     "name": "stdout",
     "output_type": "stream",
     "text": [
      "------------------------------------------------------------\n",
      "Epoch 86, batch 3199:\n",
      "Average original gradient norm: 0.5791736377030611 (over last 800 batches)\n",
      "Average clipped gradient norm: 0.5788234712928534 (over last 800 batches)\n",
      "Running average global loss: 0.7094025747478008 (over last 800 batches)\n",
      "Running average activity prediction loss: 0.40633244317024947 (Cross Entropy over last 800 batches)\n",
      "Running average time till next event prediction loss: 0.3030701324902475 (MAE over last 800 batches)\n",
      "------------------------------------------------------------\n"
     ]
    },
    {
     "name": "stderr",
     "output_type": "stream",
     "text": [
      "Batch calculation at epoch 86.: 4001it [03:48, 14.82it/s]"
     ]
    },
    {
     "name": "stdout",
     "output_type": "stream",
     "text": [
      "------------------------------------------------------------\n",
      "Epoch 86, batch 3999:\n",
      "Average original gradient norm: 0.5767146189883351 (over last 800 batches)\n",
      "Average clipped gradient norm: 0.5767146189883351 (over last 800 batches)\n",
      "Running average global loss: 0.7113346089422703 (over last 800 batches)\n",
      "Running average activity prediction loss: 0.40712782740592957 (Cross Entropy over last 800 batches)\n",
      "Running average time till next event prediction loss: 0.3042067809961736 (MAE over last 800 batches)\n",
      "------------------------------------------------------------\n"
     ]
    },
    {
     "name": "stderr",
     "output_type": "stream",
     "text": [
      "Batch calculation at epoch 86.: 4295it [04:05, 17.50it/s]\n"
     ]
    },
    {
     "name": "stdout",
     "output_type": "stream",
     "text": [
      "=======================================\n",
      "End of epoch 86\n",
      "=======================================\n",
      "Running average global loss: 0.7127126959711313 (over last 800 batches)\n",
      "Running average activity prediction loss: 0.40811928573995826 (Cross Entropy over last 800 batches)\n",
      "Running average time till next event prediction loss: 0.30459341004490853 (MAE over last 800 batches)\n"
     ]
    },
    {
     "name": "stderr",
     "output_type": "stream",
     "text": [
      "Validation batch calculation: 40it [00:21,  1.84it/s]\n"
     ]
    },
    {
     "name": "stdout",
     "output_type": "stream",
     "text": [
      "Avg MAE TTNE prediction validation set: 0.46275901794433594 (standardized) ; 17075.616666666665 (minutes)'\n",
      "Avg 1-(normalized) DL distance acitivty suffix prediction validation set: 0.8446161150932312\n",
      "Percentage of suffixes predicted to END: too early - 0.29793023628058163 ; right moment - 0.634214511740153 ; too late - 0.06785525197926542\n",
      "Too early instances - avg amount of events too early: 1.6979790925979614\n",
      "Too late instances - avg amount of events too late: 2.8111050128936768\n",
      "Avg absolute amount of events predicted too early / too late: 0.6966275572776794\n",
      "Avg MAE RRT prediction validation set:  36841.270833333336 (minutes)'\n",
      " \n",
      "------------------------------------\n",
      "EPOCH 87:\n",
      "____________________________________\n"
     ]
    },
    {
     "name": "stderr",
     "output_type": "stream",
     "text": [
      "Batch calculation at epoch 87.: 801it [00:42, 12.81it/s]"
     ]
    },
    {
     "name": "stdout",
     "output_type": "stream",
     "text": [
      "------------------------------------------------------------\n",
      "Epoch 87, batch 799:\n",
      "Average original gradient norm: 0.5720357861369848 (over last 800 batches)\n",
      "Average clipped gradient norm: 0.5720357861369848 (over last 800 batches)\n",
      "Running average global loss: 0.7101569269597531 (over last 800 batches)\n",
      "Running average activity prediction loss: 0.40657974127680063 (Cross Entropy over last 800 batches)\n",
      "Running average time till next event prediction loss: 0.3035771846584976 (MAE over last 800 batches)\n",
      "------------------------------------------------------------\n"
     ]
    },
    {
     "name": "stderr",
     "output_type": "stream",
     "text": [
      "Batch calculation at epoch 87.: 1604it [01:31, 22.44it/s]"
     ]
    },
    {
     "name": "stdout",
     "output_type": "stream",
     "text": [
      "------------------------------------------------------------\n",
      "Epoch 87, batch 1599:\n",
      "Average original gradient norm: 0.5812508847936988 (over last 800 batches)\n",
      "Average clipped gradient norm: 0.581091265939176 (over last 800 batches)\n",
      "Running average global loss: 0.7134327021241188 (over last 800 batches)\n",
      "Running average activity prediction loss: 0.40946866761893036 (Cross Entropy over last 800 batches)\n",
      "Running average time till next event prediction loss: 0.3039640345796943 (MAE over last 800 batches)\n",
      "------------------------------------------------------------\n"
     ]
    },
    {
     "name": "stderr",
     "output_type": "stream",
     "text": [
      "Batch calculation at epoch 87.: 2402it [02:05, 23.07it/s]"
     ]
    },
    {
     "name": "stdout",
     "output_type": "stream",
     "text": [
      "------------------------------------------------------------\n",
      "Epoch 87, batch 2399:\n",
      "Average original gradient norm: 0.579931881763041 (over last 800 batches)\n",
      "Average clipped gradient norm: 0.579931881763041 (over last 800 batches)\n",
      "Running average global loss: 0.7125737623125314 (over last 800 batches)\n",
      "Running average activity prediction loss: 0.40893135908991096 (Cross Entropy over last 800 batches)\n",
      "Running average time till next event prediction loss: 0.3036424032412469 (MAE over last 800 batches)\n",
      "------------------------------------------------------------\n"
     ]
    },
    {
     "name": "stderr",
     "output_type": "stream",
     "text": [
      "Batch calculation at epoch 87.: 3204it [02:44, 18.50it/s]"
     ]
    },
    {
     "name": "stdout",
     "output_type": "stream",
     "text": [
      "------------------------------------------------------------\n",
      "Epoch 87, batch 3199:\n",
      "Average original gradient norm: 0.5801479062810541 (over last 800 batches)\n",
      "Average clipped gradient norm: 0.5801479062810541 (over last 800 batches)\n",
      "Running average global loss: 0.7112637314945459 (over last 800 batches)\n",
      "Running average activity prediction loss: 0.4074507239460945 (Cross Entropy over last 800 batches)\n",
      "Running average time till next event prediction loss: 0.3038130070455372 (MAE over last 800 batches)\n",
      "------------------------------------------------------------\n"
     ]
    },
    {
     "name": "stderr",
     "output_type": "stream",
     "text": [
      "Batch calculation at epoch 87.: 4007it [03:02, 63.17it/s]"
     ]
    },
    {
     "name": "stdout",
     "output_type": "stream",
     "text": [
      "------------------------------------------------------------\n",
      "Epoch 87, batch 3999:\n",
      "Average original gradient norm: 0.5709287714958191 (over last 800 batches)\n",
      "Average clipped gradient norm: 0.5709287714958191 (over last 800 batches)\n",
      "Running average global loss: 0.7087895805388689 (over last 800 batches)\n",
      "Running average activity prediction loss: 0.4035136378929019 (Cross Entropy over last 800 batches)\n",
      "Running average time till next event prediction loss: 0.3052759426087141 (MAE over last 800 batches)\n",
      "------------------------------------------------------------\n"
     ]
    },
    {
     "name": "stderr",
     "output_type": "stream",
     "text": [
      "Batch calculation at epoch 87.: 4295it [03:09, 22.69it/s]\n"
     ]
    },
    {
     "name": "stdout",
     "output_type": "stream",
     "text": [
      "=======================================\n",
      "End of epoch 87\n",
      "=======================================\n",
      "Running average global loss: 0.7088551883399486 (over last 800 batches)\n",
      "Running average activity prediction loss: 0.40542832005769014 (Cross Entropy over last 800 batches)\n",
      "Running average time till next event prediction loss: 0.3034268677048385 (MAE over last 800 batches)\n"
     ]
    },
    {
     "name": "stderr",
     "output_type": "stream",
     "text": [
      "Validation batch calculation: 40it [00:20,  1.95it/s]\n"
     ]
    },
    {
     "name": "stdout",
     "output_type": "stream",
     "text": [
      "Avg MAE TTNE prediction validation set: 0.46225130558013916 (standardized) ; 17056.516666666666 (minutes)'\n",
      "Avg 1-(normalized) DL distance acitivty suffix prediction validation set: 0.8446326851844788\n",
      "Percentage of suffixes predicted to END: too early - 0.2978194220421833 ; right moment - 0.6342883878990851 ; too late - 0.06789219005873155\n",
      "Too early instances - avg amount of events too early: 1.6975773572921753\n",
      "Too late instances - avg amount of events too late: 2.821363687515259\n",
      "Avg absolute amount of events predicted too early / too late: 0.6971200704574585\n",
      "Avg MAE RRT prediction validation set:  36874.25833333333 (minutes)'\n",
      " \n",
      "------------------------------------\n",
      "EPOCH 88:\n",
      "____________________________________\n"
     ]
    },
    {
     "name": "stderr",
     "output_type": "stream",
     "text": [
      "Batch calculation at epoch 88.: 803it [00:18, 20.03it/s]"
     ]
    },
    {
     "name": "stdout",
     "output_type": "stream",
     "text": [
      "------------------------------------------------------------\n",
      "Epoch 88, batch 799:\n",
      "Average original gradient norm: 0.5712424070015549 (over last 800 batches)\n",
      "Average clipped gradient norm: 0.5712424070015549 (over last 800 batches)\n",
      "Running average global loss: 0.7100240954756737 (over last 800 batches)\n",
      "Running average activity prediction loss: 0.40694490559399127 (Cross Entropy over last 800 batches)\n",
      "Running average time till next event prediction loss: 0.30307919103652237 (MAE over last 800 batches)\n",
      "------------------------------------------------------------\n"
     ]
    },
    {
     "name": "stderr",
     "output_type": "stream",
     "text": [
      "Batch calculation at epoch 88.: 1605it [00:50, 29.79it/s]"
     ]
    },
    {
     "name": "stdout",
     "output_type": "stream",
     "text": [
      "------------------------------------------------------------\n",
      "Epoch 88, batch 1599:\n",
      "Average original gradient norm: 0.5754943484812975 (over last 800 batches)\n",
      "Average clipped gradient norm: 0.5754943484812975 (over last 800 batches)\n",
      "Running average global loss: 0.7140669064968824 (over last 800 batches)\n",
      "Running average activity prediction loss: 0.4098928637802601 (Cross Entropy over last 800 batches)\n",
      "Running average time till next event prediction loss: 0.3041740425862372 (MAE over last 800 batches)\n",
      "------------------------------------------------------------\n"
     ]
    },
    {
     "name": "stderr",
     "output_type": "stream",
     "text": [
      "Batch calculation at epoch 88.: 2404it [01:28, 24.64it/s]"
     ]
    },
    {
     "name": "stdout",
     "output_type": "stream",
     "text": [
      "------------------------------------------------------------\n",
      "Epoch 88, batch 2399:\n",
      "Average original gradient norm: 0.5746657787263394 (over last 800 batches)\n",
      "Average clipped gradient norm: 0.5746657787263394 (over last 800 batches)\n",
      "Running average global loss: 0.7080186531692744 (over last 800 batches)\n",
      "Running average activity prediction loss: 0.4033610651269555 (Cross Entropy over last 800 batches)\n",
      "Running average time till next event prediction loss: 0.3046575877815485 (MAE over last 800 batches)\n",
      "------------------------------------------------------------\n"
     ]
    },
    {
     "name": "stderr",
     "output_type": "stream",
     "text": [
      "Batch calculation at epoch 88.: 3203it [02:03, 21.11it/s]"
     ]
    },
    {
     "name": "stdout",
     "output_type": "stream",
     "text": [
      "------------------------------------------------------------\n",
      "Epoch 88, batch 3199:\n",
      "Average original gradient norm: 0.5763194574043154 (over last 800 batches)\n",
      "Average clipped gradient norm: 0.5763194574043154 (over last 800 batches)\n",
      "Running average global loss: 0.7102159249782563 (over last 800 batches)\n",
      "Running average activity prediction loss: 0.4067078687250614 (Cross Entropy over last 800 batches)\n",
      "Running average time till next event prediction loss: 0.30350805550813675 (MAE over last 800 batches)\n",
      "------------------------------------------------------------\n"
     ]
    },
    {
     "name": "stderr",
     "output_type": "stream",
     "text": [
      "Batch calculation at epoch 88.: 4004it [02:41, 26.17it/s]"
     ]
    },
    {
     "name": "stdout",
     "output_type": "stream",
     "text": [
      "------------------------------------------------------------\n",
      "Epoch 88, batch 3999:\n",
      "Average original gradient norm: 0.5806842475384474 (over last 800 batches)\n",
      "Average clipped gradient norm: 0.5806842475384474 (over last 800 batches)\n",
      "Running average global loss: 0.7117143665254116 (over last 800 batches)\n",
      "Running average activity prediction loss: 0.4072087918408215 (Cross Entropy over last 800 batches)\n",
      "Running average time till next event prediction loss: 0.30450557377189397 (MAE over last 800 batches)\n",
      "------------------------------------------------------------\n"
     ]
    },
    {
     "name": "stderr",
     "output_type": "stream",
     "text": [
      "Batch calculation at epoch 88.: 4295it [02:54, 24.54it/s]\n"
     ]
    },
    {
     "name": "stdout",
     "output_type": "stream",
     "text": [
      "=======================================\n",
      "End of epoch 88\n",
      "=======================================\n",
      "Running average global loss: 0.710926431119442 (over last 800 batches)\n",
      "Running average activity prediction loss: 0.407382305432111 (Cross Entropy over last 800 batches)\n",
      "Running average time till next event prediction loss: 0.3035441257804632 (MAE over last 800 batches)\n"
     ]
    },
    {
     "name": "stderr",
     "output_type": "stream",
     "text": [
      "Validation batch calculation: 40it [00:22,  1.81it/s]\n"
     ]
    },
    {
     "name": "stdout",
     "output_type": "stream",
     "text": [
      "Avg MAE TTNE prediction validation set: 0.4626237154006958 (standardized) ; 17070.2875 (minutes)'\n",
      "Avg 1-(normalized) DL distance acitivty suffix prediction validation set: 0.8445649743080139\n",
      "Percentage of suffixes predicted to END: too early - 0.29770860780378494 ; right moment - 0.6341652609675315 ; too late - 0.06812613122868365\n",
      "Too early instances - avg amount of events too early: 1.697340726852417\n",
      "Too late instances - avg amount of events too late: 2.8181817531585693\n",
      "Avg absolute amount of events predicted too early / too late: 0.6973047256469727\n",
      "Avg MAE RRT prediction validation set:  36806.683333333334 (minutes)'\n",
      "No improvements in validation loss for 24 consecutive epochs. Final epoch: 88\n",
      "cuda\n"
     ]
    },
    {
     "name": "stderr",
     "output_type": "stream",
     "text": [
      "/media/usr/SSD/yongmin/PPM/TRAIN_EVAL_ED_LSTM.py:57: FutureWarning: You are using `torch.load` with `weights_only=False` (the current default value), which uses the default pickle module implicitly. It is possible to construct malicious pickle data which will execute arbitrary code during unpickling (See https://github.com/pytorch/pytorch/blob/main/SECURITY.md#untrusted-models for more details). In a future release, the default value for `weights_only` will be flipped to `True`. This limits the functions that could be executed during unpickling. Arbitrary objects will no longer be allowed to be loaded via this mode unless they are explicitly allowlisted by the user via `torch.serialization.add_safe_globals`. We recommend you start setting `weights_only=True` for any use case where you don't have full control of the loaded file. Please open an issue on GitHub for any issues related to this experimental feature.\n",
      "  checkpoint = torch.load(path_to_checkpoint)\n",
      "Validation batch calculation: 123it [01:16,  1.60it/s]\n"
     ]
    },
    {
     "name": "stdout",
     "output_type": "stream",
     "text": [
      "Avg MAE TTNE prediction validation set: 0.44398239254951477 (standardized) ; 16380.591666666667 (minutes)'\n",
      "Avg 1-(normalized) DL distance acitivty suffix prediction validation set: 0.8471186757087708\n",
      "Percentage of suffixes predicted to END: too early - 0.2519347821748588 ; right moment - 0.6483426131034346 ; too late - 0.09972260472170667\n",
      "Too early instances - avg amount of events too early: 1.661887526512146\n",
      "Too late instances - avg amount of events too late: 2.2184510231018066\n",
      "Avg absolute amount of events predicted too early / too late: 0.6399169564247131\n",
      "Avg MAE RRT prediction validation set:  30568.533333333333 (minutes)'\n"
     ]
    }
   ],
   "source": [
    "from TRAIN_EVAL_ED_LSTM import train_eval\n",
    "\n",
    "train_eval('BPIC_19', tss_index=1)"
   ]
  },
  {
   "cell_type": "code",
   "execution_count": null,
   "metadata": {},
   "outputs": [],
   "source": []
  }
 ],
 "metadata": {
  "kernelspec": {
   "display_name": "NDE",
   "language": "python",
   "name": "python3"
  },
  "language_info": {
   "codemirror_mode": {
    "name": "ipython",
    "version": 3
   },
   "file_extension": ".py",
   "mimetype": "text/x-python",
   "name": "python",
   "nbconvert_exporter": "python",
   "pygments_lexer": "ipython3",
   "version": "3.12.5"
  }
 },
 "nbformat": 4,
 "nbformat_minor": 2
}
