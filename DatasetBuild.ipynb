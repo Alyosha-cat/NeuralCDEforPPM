{
 "cells": [
  {
   "cell_type": "code",
   "execution_count": 8,
   "metadata": {},
   "outputs": [],
   "source": [
    "from create_BPIC17_OG_data import construct_BPIC17_datasets\n",
    "\n",
    "from create_BPIC19_data import construct_BPIC19_datasets"
   ]
  },
  {
   "cell_type": "code",
   "execution_count": null,
   "metadata": {},
   "outputs": [
    {
     "name": "stdout",
     "output_type": "stream",
     "text": [
      "Generating Dataframes...\n"
     ]
    },
    {
     "name": "stderr",
     "output_type": "stream",
     "text": [
      "/media/usr/SSD/yongmin/PPM/Preprocessing/create_benchmarks.py:85: UserWarning: Converting to PeriodArray/Index representation will drop timezone information.\n",
      "  case_stops_df['date'] = case_stops_df[timestamp].dt.to_period('M')\n",
      "100%|██████████| 7/7 [00:00<00:00, 16.01it/s]\n",
      "100%|██████████| 7/7 [00:00<00:00, 58.01it/s]\n",
      "100%|██████████| 87/87 [02:04<00:00,  1.43s/it]\n",
      "100%|██████████| 87/87 [00:18<00:00,  4.60it/s]\n",
      "100%|██████████| 87/87 [01:05<00:00,  1.32it/s]\n"
     ]
    },
    {
     "name": "stdout",
     "output_type": "stream",
     "text": [
      "Generating Tensors...\n",
      "Computing train set tensors\n",
      "Generating prefix tensors ...\n",
      "Generating (decoder) suffix tensors ...\n",
      "Generating time label tensors ...\n",
      "Generating activity label tensors ...\n",
      "____________________________\n",
      "Computing validation set tensors\n",
      "Generating prefix tensors ...\n",
      "Generating (decoder) suffix tensors ...\n",
      "Generating time label tensors ...\n",
      "Generating activity label tensors ...\n",
      "____________________________\n",
      "Computing test set tensors\n",
      "Generating prefix tensors ...\n",
      "Generating (decoder) suffix tensors ...\n",
      "Generating time label tensors ...\n",
      "Generating activity label tensors ...\n",
      "Generating Dataframes...\n"
     ]
    },
    {
     "name": "stderr",
     "output_type": "stream",
     "text": [
      "/media/usr/SSD/yongmin/PPM/Preprocessing/create_benchmarks.py:58: UserWarning: Converting to PeriodArray/Index representation will drop timezone information.\n",
      "  case_starts_df['date'] = case_starts_df[timestamp].dt.to_period('M')\n",
      "/media/usr/SSD/yongmin/PPM/Preprocessing/create_benchmarks.py:85: UserWarning: Converting to PeriodArray/Index representation will drop timezone information.\n",
      "  case_stops_df['date'] = case_stops_df[timestamp].dt.to_period('M')\n",
      "/media/usr/SSD/yongmin/PPM/Preprocessing/create_benchmarks.py:115: UserWarning: Converting to PeriodArray/Index representation will drop timezone information.\n",
      "  case_starts_df['date'] = case_starts_df[timestamp].dt.to_period('M')\n",
      "100%|██████████| 13/13 [00:00<00:00, 15.45it/s]\n",
      "100%|██████████| 13/13 [00:00<00:00, 56.89it/s]\n",
      "100%|██████████| 16/16 [00:04<00:00,  3.99it/s]\n",
      "100%|██████████| 16/16 [00:00<00:00, 16.28it/s]\n",
      "100%|██████████| 16/16 [00:01<00:00,  9.07it/s]\n"
     ]
    },
    {
     "name": "stdout",
     "output_type": "stream",
     "text": [
      "Generating Tensors...\n",
      "Computing train set tensors\n",
      "Generating prefix tensors ...\n",
      "Generating (decoder) suffix tensors ...\n",
      "Generating time label tensors ...\n",
      "Generating activity label tensors ...\n",
      "____________________________\n",
      "Computing validation set tensors\n",
      "Generating prefix tensors ...\n",
      "Generating (decoder) suffix tensors ...\n",
      "Generating time label tensors ...\n",
      "Generating activity label tensors ...\n",
      "____________________________\n",
      "Computing test set tensors\n",
      "Generating prefix tensors ...\n",
      "Generating (decoder) suffix tensors ...\n",
      "Generating time label tensors ...\n",
      "Generating activity label tensors ...\n"
     ]
    }
   ],
   "source": [
    "# # Execute at the root of the local repository \n",
    "# construct_BPIC17_datasets()\n",
    "# construct_BPIC19_datasets()"
   ]
  },
  {
   "cell_type": "code",
   "execution_count": null,
   "metadata": {},
   "outputs": [],
   "source": []
  }
 ],
 "metadata": {
  "kernelspec": {
   "display_name": "NDE",
   "language": "python",
   "name": "python3"
  },
  "language_info": {
   "codemirror_mode": {
    "name": "ipython",
    "version": 3
   },
   "file_extension": ".py",
   "mimetype": "text/x-python",
   "name": "python",
   "nbconvert_exporter": "python",
   "pygments_lexer": "ipython3",
   "version": "3.12.5"
  }
 },
 "nbformat": 4,
 "nbformat_minor": 2
}
