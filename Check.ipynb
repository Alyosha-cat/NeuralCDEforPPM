{
 "cells": [
  {
   "cell_type": "code",
   "execution_count": 2,
   "metadata": {},
   "outputs": [],
   "source": [
    "import warnings\n",
    "warnings.filterwarnings('ignore')\n",
    "from TRAIN_EVAL_NODE_ND import test\n",
    "\n",
    "miss = [0.5, 0.3, 0.1]\n",
    "hidden_dim = [64]"
   ]
  },
  {
   "cell_type": "code",
   "execution_count": 2,
   "metadata": {},
   "outputs": [
    {
     "name": "stdout",
     "output_type": "stream",
     "text": [
      "64_0.5\n"
     ]
    },
    {
     "name": "stderr",
     "output_type": "stream",
     "text": [
      "Validation batch calculation: 75it [11:55,  9.54s/it]\n"
     ]
    },
    {
     "name": "stdout",
     "output_type": "stream",
     "text": [
      "Avg MAE TTNE prediction validation set: 0.23768950998783112 (standardized) ; 806.9932942708333 (minutes)'\n",
      "Avg 1-(normalized) DL distance acitivty suffix prediction validation set: 0.093684621155262\n",
      "Percentage of suffixes predicted to END: too early - 0.0001408164735625258 ; right moment - 2.9473215396807724e-05 ; too late - 0.9998297103110406\n",
      "Too early instances - avg amount of events too early: 8.069766998291016\n",
      "Too late instances - avg amount of events too late: 66.72380065917969\n",
      "Avg absolute amount of events predicted too early / too late: 66.71357727050781\n",
      "Avg MAE RRT prediction validation set: 0.7854005694389343 (standardized) ; 13188.267708333333 (minutes)'\n",
      "64_0.5_19\n"
     ]
    },
    {
     "name": "stderr",
     "output_type": "stream",
     "text": [
      "Validation batch calculation: 62it [10:35, 10.26s/it]\n"
     ]
    },
    {
     "name": "stdout",
     "output_type": "stream",
     "text": [
      "Avg MAE TTNE prediction validation set: 0.5526150465011597 (standardized) ; 20297.735416666666 (minutes)'\n",
      "Avg 1-(normalized) DL distance acitivty suffix prediction validation set: 0.4094384014606476\n",
      "Percentage of suffixes predicted to END: too early - 0.6147239018938714 ; right moment - 0.12768165399429243 ; too late - 0.2575944441118362\n",
      "Too early instances - avg amount of events too early: 3.1655282974243164\n",
      "Too late instances - avg amount of events too late: 4.2064642906188965\n",
      "Avg absolute amount of events predicted too early / too late: 3.0294876098632812\n",
      "Avg MAE RRT prediction validation set: 0.8739299178123474 (standardized) ; 47696.870833333334 (minutes)'\n",
      "128_0.5\n"
     ]
    },
    {
     "name": "stderr",
     "output_type": "stream",
     "text": [
      "Validation batch calculation: 75it [20:45, 16.61s/it]\n"
     ]
    },
    {
     "name": "stdout",
     "output_type": "stream",
     "text": [
      "Avg MAE TTNE prediction validation set: 340991.6875 (standardized) ; 1254112051.2 (minutes)'\n",
      "Avg 1-(normalized) DL distance acitivty suffix prediction validation set: 0.07983047515153885\n",
      "Percentage of suffixes predicted to END: too early - 0.011275142290134332 ; right moment - 0.000435548627530603 ; too late - 0.988289309082335\n",
      "Too early instances - avg amount of events too early: 18.056636810302734\n",
      "Too late instances - avg amount of events too late: 64.5249252319336\n",
      "Avg absolute amount of events predicted too early / too late: 63.97288513183594\n",
      "Avg MAE RRT prediction validation set: 0.7777512669563293 (standardized) ; 13059.822916666666 (minutes)'\n",
      "128_0.5_19\n"
     ]
    },
    {
     "name": "stderr",
     "output_type": "stream",
     "text": [
      "Validation batch calculation: 24it [04:08, 10.34s/it]\n"
     ]
    },
    {
     "name": "stdout",
     "output_type": "stream",
     "text": [
      "256_0.5\n"
     ]
    },
    {
     "name": "stderr",
     "output_type": "stream",
     "text": [
      "Validation batch calculation: 75it [17:45, 14.20s/it]\n"
     ]
    },
    {
     "name": "stdout",
     "output_type": "stream",
     "text": [
      "Avg MAE TTNE prediction validation set: 0.4157371520996094 (standardized) ; 1448.919921875 (minutes)'\n",
      "Avg 1-(normalized) DL distance acitivty suffix prediction validation set: 0.07541140168905258\n",
      "Percentage of suffixes predicted to END: too early - 0.0 ; right moment - 1.964881026453848e-05 ; too late - 0.9999803511897355\n",
      "Too early instances - avg amount of events too early: nan\n",
      "Too late instances - avg amount of events too late: 66.86697387695312\n",
      "Avg absolute amount of events predicted too early / too late: 66.86566162109375\n",
      "Avg MAE RRT prediction validation set: 0.7869104743003845 (standardized) ; 13213.625 (minutes)'\n",
      "256_0.5_19\n"
     ]
    },
    {
     "name": "stderr",
     "output_type": "stream",
     "text": [
      "Validation batch calculation: 23it [03:00,  7.86s/it]\n"
     ]
    },
    {
     "name": "stdout",
     "output_type": "stream",
     "text": [
      "64_0.3\n"
     ]
    },
    {
     "name": "stderr",
     "output_type": "stream",
     "text": [
      "Validation batch calculation: 75it [08:07,  6.50s/it]\n"
     ]
    },
    {
     "name": "stdout",
     "output_type": "stream",
     "text": [
      "Avg MAE TTNE prediction validation set: 0.23891420662403107 (standardized) ; 871.5231770833333 (minutes)'\n",
      "Avg 1-(normalized) DL distance acitivty suffix prediction validation set: 0.07198278605937958\n",
      "Percentage of suffixes predicted to END: too early - 0.0 ; right moment - 1.964881026453848e-05 ; too late - 0.9999803511897355\n",
      "Too early instances - avg amount of events too early: nan\n",
      "Too late instances - avg amount of events too late: 66.86808776855469\n",
      "Avg absolute amount of events predicted too early / too late: 66.86677551269531\n",
      "Avg MAE RRT prediction validation set: 0.7848377823829651 (standardized) ; 13178.81875 (minutes)'\n",
      "64_0.3_19\n"
     ]
    },
    {
     "name": "stderr",
     "output_type": "stream",
     "text": [
      "Validation batch calculation: 62it [07:17,  7.06s/it]\n"
     ]
    },
    {
     "name": "stdout",
     "output_type": "stream",
     "text": [
      "Avg MAE TTNE prediction validation set: 11.082134246826172 (standardized) ; 408979.26666666666 (minutes)'\n",
      "Avg 1-(normalized) DL distance acitivty suffix prediction validation set: 0.4418056011199951\n",
      "Percentage of suffixes predicted to END: too early - 0.6239956893971143 ; right moment - 0.14610149873276257 ; too late - 0.22990281187012312\n",
      "Too early instances - avg amount of events too early: 3.0915191173553467\n",
      "Too late instances - avg amount of events too late: 3.7027828693389893\n",
      "Avg absolute amount of events predicted too early / too late: 2.780374765396118\n",
      "Avg MAE RRT prediction validation set: 0.8779476284980774 (standardized) ; 47916.34166666667 (minutes)'\n",
      "128_0.3\n"
     ]
    },
    {
     "name": "stderr",
     "output_type": "stream",
     "text": [
      "Validation batch calculation: 75it [19:28, 15.58s/it]\n"
     ]
    },
    {
     "name": "stdout",
     "output_type": "stream",
     "text": [
      "Avg MAE TTNE prediction validation set: 411449.9375 (standardized) ; 1501551684.2666667 (minutes)'\n",
      "Avg 1-(normalized) DL distance acitivty suffix prediction validation set: 0.07963506132364273\n",
      "Percentage of suffixes predicted to END: too early - 0.004037830509362658 ; right moment - 0.00020303770606689764 ; too late - 0.9957591317845704\n",
      "Too early instances - avg amount of events too early: 16.596107482910156\n",
      "Too late instances - avg amount of events too late: 65.78059387207031\n",
      "Avg absolute amount of events predicted too early / too late: 65.56863403320312\n",
      "Avg MAE RRT prediction validation set: 0.7769305109977722 (standardized) ; 13046.041666666666 (minutes)'\n",
      "128_0.3_19\n"
     ]
    },
    {
     "name": "stderr",
     "output_type": "stream",
     "text": [
      "Validation batch calculation: 25it [04:24, 10.58s/it]\n"
     ]
    },
    {
     "name": "stdout",
     "output_type": "stream",
     "text": [
      "256_0.3\n"
     ]
    },
    {
     "name": "stderr",
     "output_type": "stream",
     "text": [
      "Validation batch calculation: 75it [15:28, 12.39s/it]\n"
     ]
    },
    {
     "name": "stdout",
     "output_type": "stream",
     "text": [
      "Avg MAE TTNE prediction validation set: 0.4490986168384552 (standardized) ; 1575.4966145833334 (minutes)'\n",
      "Avg 1-(normalized) DL distance acitivty suffix prediction validation set: 0.0789264366030693\n",
      "Percentage of suffixes predicted to END: too early - 0.0 ; right moment - 1.964881026453848e-05 ; too late - 0.9999803511897355\n",
      "Too early instances - avg amount of events too early: nan\n",
      "Too late instances - avg amount of events too late: 66.86799621582031\n",
      "Avg absolute amount of events predicted too early / too late: 66.86668395996094\n",
      "Avg MAE RRT prediction validation set: 0.7896063923835754 (standardized) ; 13258.892708333333 (minutes)'\n",
      "256_0.3_19\n"
     ]
    },
    {
     "name": "stderr",
     "output_type": "stream",
     "text": [
      "Validation batch calculation: 23it [04:59, 13.02s/it]\n"
     ]
    },
    {
     "name": "stdout",
     "output_type": "stream",
     "text": [
      "64_0.1\n"
     ]
    },
    {
     "name": "stderr",
     "output_type": "stream",
     "text": [
      "Validation batch calculation: 75it [11:02,  8.84s/it]\n"
     ]
    },
    {
     "name": "stdout",
     "output_type": "stream",
     "text": [
      "Avg MAE TTNE prediction validation set: 0.22935792803764343 (standardized) ; 841.155078125 (minutes)'\n",
      "Avg 1-(normalized) DL distance acitivty suffix prediction validation set: 0.07776068150997162\n",
      "Percentage of suffixes predicted to END: too early - 0.0 ; right moment - 1.964881026453848e-05 ; too late - 0.9999803511897355\n",
      "Too early instances - avg amount of events too early: nan\n",
      "Too late instances - avg amount of events too late: 66.86808776855469\n",
      "Avg absolute amount of events predicted too early / too late: 66.86677551269531\n",
      "Avg MAE RRT prediction validation set: 0.7821472883224487 (standardized) ; 13133.640625 (minutes)'\n",
      "64_0.1_19\n",
      "128_0.1\n"
     ]
    },
    {
     "name": "stderr",
     "output_type": "stream",
     "text": [
      "Validation batch calculation: 75it [15:38, 12.51s/it]\n"
     ]
    },
    {
     "name": "stdout",
     "output_type": "stream",
     "text": [
      "Avg MAE TTNE prediction validation set: 0.22529591619968414 (standardized) ; 803.3493489583333 (minutes)'\n",
      "Avg 1-(normalized) DL distance acitivty suffix prediction validation set: 0.08906568586826324\n",
      "Percentage of suffixes predicted to END: too early - 7.532043934739751e-05 ; right moment - 2.619841368605131e-05 ; too late - 0.9998984811469666\n",
      "Too early instances - avg amount of events too early: 10.391304016113281\n",
      "Too late instances - avg amount of events too late: 66.62239837646484\n",
      "Avg absolute amount of events predicted too early / too late: 66.61641693115234\n",
      "Avg MAE RRT prediction validation set: 0.7797456383705139 (standardized) ; 13093.311458333334 (minutes)'\n",
      "128_0.1_19\n",
      "256_0.1\n"
     ]
    },
    {
     "name": "stderr",
     "output_type": "stream",
     "text": [
      "Validation batch calculation: 75it [13:31, 10.82s/it]\n"
     ]
    },
    {
     "name": "stdout",
     "output_type": "stream",
     "text": [
      "Avg MAE TTNE prediction validation set: 0.2836480140686035 (standardized) ; 794.8742838541667 (minutes)'\n",
      "Avg 1-(normalized) DL distance acitivty suffix prediction validation set: 0.08559811115264893\n",
      "Percentage of suffixes predicted to END: too early - 0.0 ; right moment - 1.964881026453848e-05 ; too late - 0.9999803511897355\n",
      "Too early instances - avg amount of events too early: nan\n",
      "Too late instances - avg amount of events too late: 66.86808776855469\n",
      "Avg absolute amount of events predicted too early / too late: 66.86677551269531\n",
      "Avg MAE RRT prediction validation set: 0.7918063998222351 (standardized) ; 13295.834375 (minutes)'\n",
      "256_0.1_19\n"
     ]
    }
   ],
   "source": [
    "for rate in miss:\n",
    "    for hidden in hidden_dim:\n",
    "        print(f\"{hidden}_{rate}\")\n",
    "        try:\n",
    "            test(log_name='BPIC_17', tss_index=5, hidden_dim=hidden, missingrate=rate, device='cuda')\n",
    "        except:\n",
    "            pass\n",
    "        print(f\"{hidden}_{rate}_19\")\n",
    "        try:\n",
    "            test(log_name='BPIC_19', tss_index=1, hidden_dim=hidden, missingrate=rate, device='cuda')\n",
    "        except:\n",
    "            pass"
   ]
  },
  {
   "cell_type": "code",
   "execution_count": 6,
   "metadata": {},
   "outputs": [
    {
     "name": "stdout",
     "output_type": "stream",
     "text": [
      "64_0.5_19\n"
     ]
    },
    {
     "name": "stderr",
     "output_type": "stream",
     "text": [
      "Validation batch calculation: 62it [03:58,  3.85s/it]\n"
     ]
    },
    {
     "name": "stdout",
     "output_type": "stream",
     "text": [
      "Avg MAE TTNE prediction validation set: 0.5546895265579224 (standardized) ; 20228.222916666666 (minutes)'\n",
      "Avg 1-(normalized) DL distance acitivty suffix prediction validation set: 0.3749260902404785\n",
      "Percentage of suffixes predicted to END: too early - 0.40497714981340677 ; right moment - 0.12533876149993015 ; too late - 0.46968408868666306\n",
      "Too early instances - avg amount of events too early: 3.2179174423217773\n",
      "Too late instances - avg amount of events too late: 3.009772539138794\n",
      "Avg absolute amount of events predicted too early / too late: 2.716825246810913\n",
      "Avg MAE RRT prediction validation set: 0.9642274975776672 (standardized) ; 52623.15833333333 (minutes)'\n",
      "64_0.3_19\n"
     ]
    },
    {
     "name": "stderr",
     "output_type": "stream",
     "text": [
      "Validation batch calculation: 62it [04:13,  4.08s/it]\n"
     ]
    },
    {
     "name": "stdout",
     "output_type": "stream",
     "text": [
      "Avg MAE TTNE prediction validation set: 0.5534541010856628 (standardized) ; 20343.835416666665 (minutes)'\n",
      "Avg 1-(normalized) DL distance acitivty suffix prediction validation set: 0.3548445403575897\n",
      "Percentage of suffixes predicted to END: too early - 0.6114071324512562 ; right moment - 0.11296972599732583 ; too late - 0.2756231415514179\n",
      "Too early instances - avg amount of events too early: 3.193080186843872\n",
      "Too late instances - avg amount of events too late: 6.619265556335449\n",
      "Avg absolute amount of events predicted too early / too late: 3.7766947746276855\n",
      "Avg MAE RRT prediction validation set: 0.8813073635101318 (standardized) ; 48099.47083333333 (minutes)'\n",
      "64_0.1_19\n"
     ]
    },
    {
     "ename": "IndexError",
     "evalue": "index 17 is out of bounds for dimension 1 with size 17",
     "output_type": "error",
     "traceback": [
      "\u001b[0;31m---------------------------------------------------------------------------\u001b[0m",
      "\u001b[0;31mIndexError\u001b[0m                                Traceback (most recent call last)",
      "Cell \u001b[0;32mIn[6], line 4\u001b[0m\n\u001b[1;32m      2\u001b[0m \u001b[38;5;28;01mfor\u001b[39;00m hidden \u001b[38;5;129;01min\u001b[39;00m hidden_dim:\n\u001b[1;32m      3\u001b[0m     \u001b[38;5;28mprint\u001b[39m(\u001b[38;5;124mf\u001b[39m\u001b[38;5;124m\"\u001b[39m\u001b[38;5;132;01m{\u001b[39;00mhidden\u001b[38;5;132;01m}\u001b[39;00m\u001b[38;5;124m_\u001b[39m\u001b[38;5;132;01m{\u001b[39;00mrate\u001b[38;5;132;01m}\u001b[39;00m\u001b[38;5;124m_19\u001b[39m\u001b[38;5;124m\"\u001b[39m)\n\u001b[0;32m----> 4\u001b[0m     \u001b[43mtest\u001b[49m\u001b[43m(\u001b[49m\u001b[43mlog_name\u001b[49m\u001b[38;5;241;43m=\u001b[39;49m\u001b[38;5;124;43m'\u001b[39;49m\u001b[38;5;124;43mBPIC_19\u001b[39;49m\u001b[38;5;124;43m'\u001b[39;49m\u001b[43m,\u001b[49m\u001b[43m \u001b[49m\u001b[43mtss_index\u001b[49m\u001b[38;5;241;43m=\u001b[39;49m\u001b[38;5;241;43m1\u001b[39;49m\u001b[43m,\u001b[49m\u001b[43m \u001b[49m\u001b[43mhidden_dim\u001b[49m\u001b[38;5;241;43m=\u001b[39;49m\u001b[43mhidden\u001b[49m\u001b[43m,\u001b[49m\u001b[43m \u001b[49m\u001b[43mmissingrate\u001b[49m\u001b[38;5;241;43m=\u001b[39;49m\u001b[43mrate\u001b[49m\u001b[43m,\u001b[49m\u001b[43m \u001b[49m\u001b[43mdevice\u001b[49m\u001b[38;5;241;43m=\u001b[39;49m\u001b[38;5;124;43m'\u001b[39;49m\u001b[38;5;124;43mcuda\u001b[39;49m\u001b[38;5;124;43m'\u001b[39;49m\u001b[43m)\u001b[49m\n",
      "File \u001b[0;32m/media/usr/SSD/yongmin/PPM/TRAIN_EVAL_NODE_ND.py:509\u001b[0m, in \u001b[0;36mtest\u001b[0;34m(log_name, tss_index, hidden_dim, missingrate, device)\u001b[0m\n\u001b[1;32m    506\u001b[0m val_dataset \u001b[38;5;241m=\u001b[39m prefix_alter(val_dataset, num_activities)\n\u001b[1;32m    508\u001b[0m \u001b[38;5;66;03m# need to add prefix_alter_test version to simulate MCR missingness\u001b[39;00m\n\u001b[0;32m--> 509\u001b[0m test_dataset \u001b[38;5;241m=\u001b[39m \u001b[43mprefix_alter_test\u001b[49m\u001b[43m(\u001b[49m\u001b[43mtest_dataset\u001b[49m\u001b[43m,\u001b[49m\u001b[43m \u001b[49m\u001b[43mmissingrate\u001b[49m\u001b[38;5;241;43m=\u001b[39;49m\u001b[43mmissingrate\u001b[49m\u001b[43m)\u001b[49m\n\u001b[1;32m    511\u001b[0m input_channels \u001b[38;5;241m=\u001b[39m train_dataset[\u001b[38;5;241m0\u001b[39m]\u001b[38;5;241m.\u001b[39mshape[\u001b[38;5;241m-\u001b[39m\u001b[38;5;241m1\u001b[39m]\n\u001b[1;32m    512\u001b[0m \u001b[38;5;66;03m# Creating TensorDataset for the training set \u001b[39;00m\n",
      "File \u001b[0;32m/media/usr/SSD/yongmin/PPM/NODE/tensor_utils.py:36\u001b[0m, in \u001b[0;36mprefix_alter_test\u001b[0;34m(dataset, missingrate)\u001b[0m\n\u001b[1;32m     34\u001b[0m     temp \u001b[38;5;241m=\u001b[39m torch\u001b[38;5;241m.\u001b[39mtensor([i \u001b[38;5;28;01mfor\u001b[39;00m i \u001b[38;5;129;01min\u001b[39;00m \u001b[38;5;28mrange\u001b[39m(count\u001b[38;5;241m-\u001b[39m\u001b[38;5;241m1\u001b[39m)])[mask]\n\u001b[1;32m     35\u001b[0m     drop[idx, \u001b[38;5;241m0\u001b[39m:count\u001b[38;5;241m-\u001b[39m\u001b[38;5;241m1\u001b[39m\u001b[38;5;241m-\u001b[39mnum] \u001b[38;5;241m=\u001b[39m inputs[idx][temp]\n\u001b[0;32m---> 36\u001b[0m     drop[idx, count\u001b[38;5;241m-\u001b[39m\u001b[38;5;241m1\u001b[39m\u001b[38;5;241m-\u001b[39mnum] \u001b[38;5;241m=\u001b[39m inputs[idx][count\u001b[38;5;241m-\u001b[39m\u001b[38;5;241m1\u001b[39m]\n\u001b[1;32m     38\u001b[0m     padding[idx][count\u001b[38;5;241m-\u001b[39mnum:] \u001b[38;5;241m=\u001b[39m \u001b[38;5;28;01mTrue\u001b[39;00m\n\u001b[1;32m     39\u001b[0m \u001b[38;5;28minput\u001b[39m \u001b[38;5;241m=\u001b[39m drop\n",
      "\u001b[0;31mIndexError\u001b[0m: index 17 is out of bounds for dimension 1 with size 17"
     ]
    }
   ],
   "source": [
    "for rate in miss:\n",
    "    for hidden in hidden_dim:\n",
    "        print(f\"{hidden}_{rate}_19\")\n",
    "        test(log_name='BPIC_19', tss_index=1, hidden_dim=hidden, missingrate=rate, device='cuda')\n"
   ]
  },
  {
   "cell_type": "code",
   "execution_count": 7,
   "metadata": {},
   "outputs": [
    {
     "name": "stdout",
     "output_type": "stream",
     "text": [
      "64_0.5_17\n"
     ]
    },
    {
     "name": "stderr",
     "output_type": "stream",
     "text": [
      "Validation batch calculation: 75it [04:09,  3.33s/it]\n"
     ]
    },
    {
     "name": "stdout",
     "output_type": "stream",
     "text": [
      "Avg MAE TTNE prediction validation set: 0.2560312747955322 (standardized) ; 847.9669921875 (minutes)'\n",
      "Avg 1-(normalized) DL distance acitivty suffix prediction validation set: 0.06725351512432098\n",
      "Percentage of suffixes predicted to END: too early - 0.0 ; right moment - 1.964881026453848e-05 ; too late - 0.9999803511897355\n",
      "Too early instances - avg amount of events too early: nan\n",
      "Too late instances - avg amount of events too late: 66.86808776855469\n",
      "Avg absolute amount of events predicted too early / too late: 66.86677551269531\n",
      "Avg MAE RRT prediction validation set: 0.7858269214630127 (standardized) ; 13195.428125 (minutes)'\n",
      "64_0.3_17\n"
     ]
    },
    {
     "name": "stderr",
     "output_type": "stream",
     "text": [
      "Validation batch calculation: 75it [03:35,  2.88s/it]\n"
     ]
    },
    {
     "name": "stdout",
     "output_type": "stream",
     "text": [
      "Avg MAE TTNE prediction validation set: 0.24119804799556732 (standardized) ; 832.8375651041666 (minutes)'\n",
      "Avg 1-(normalized) DL distance acitivty suffix prediction validation set: 0.07593531161546707\n",
      "Percentage of suffixes predicted to END: too early - 0.0 ; right moment - 1.964881026453848e-05 ; too late - 0.9999803511897355\n",
      "Too early instances - avg amount of events too early: nan\n",
      "Too late instances - avg amount of events too late: 66.86808776855469\n",
      "Avg absolute amount of events predicted too early / too late: 66.86677551269531\n",
      "Avg MAE RRT prediction validation set: 0.7904660701751709 (standardized) ; 13273.328125 (minutes)'\n",
      "64_0.1_17\n"
     ]
    },
    {
     "name": "stderr",
     "output_type": "stream",
     "text": [
      "Validation batch calculation: 75it [03:25,  2.74s/it]\n"
     ]
    },
    {
     "name": "stdout",
     "output_type": "stream",
     "text": [
      "Avg MAE TTNE prediction validation set: 0.23650027811527252 (standardized) ; 835.4039713541666 (minutes)'\n",
      "Avg 1-(normalized) DL distance acitivty suffix prediction validation set: 0.07227889448404312\n",
      "Percentage of suffixes predicted to END: too early - 0.0 ; right moment - 1.964881026453848e-05 ; too late - 0.9999803511897355\n",
      "Too early instances - avg amount of events too early: nan\n",
      "Too late instances - avg amount of events too late: 66.86808776855469\n",
      "Avg absolute amount of events predicted too early / too late: 66.86677551269531\n",
      "Avg MAE RRT prediction validation set: 0.7813087701797485 (standardized) ; 13119.560416666667 (minutes)'\n"
     ]
    }
   ],
   "source": [
    "for rate in miss:\n",
    "    for hidden in hidden_dim:\n",
    "        print(f\"{hidden}_{rate}_17\")\n",
    "        test(log_name='BPIC_17', tss_index=5, hidden_dim=hidden, missingrate=rate, device='cuda')\n"
   ]
  },
  {
   "cell_type": "code",
   "execution_count": 2,
   "metadata": {},
   "outputs": [
    {
     "name": "stderr",
     "output_type": "stream",
     "text": [
      "Validation batch calculation: 62it [01:06,  1.07s/it]\n"
     ]
    },
    {
     "name": "stdout",
     "output_type": "stream",
     "text": [
      "Avg MAE TTNE prediction validation set: 0.5826213359832764 (standardized) ; 21152.277083333334 (minutes)'\n",
      "Avg 1-(normalized) DL distance acitivty suffix prediction validation set: 0.25028496980667114\n",
      "Percentage of suffixes predicted to END: too early - 0.10893053144145762 ; right moment - 0.058983416152786926 ; too late - 0.8320860524057555\n",
      "Too early instances - avg amount of events too early: 2.654660701751709\n",
      "Too late instances - avg amount of events too late: 6.509207248687744\n",
      "Avg absolute amount of events predicted too early / too late: 5.705394268035889\n",
      "Avg MAE RRT prediction validation set: 0.8833224177360535 (standardized) ; 48209.70416666667 (minutes)'\n"
     ]
    }
   ],
   "source": [
    "test(log_name='BPIC_19', tss_index=1, hidden_dim=64, missingrate=0.1, device='cuda')"
   ]
  },
  {
   "cell_type": "code",
   "execution_count": 5,
   "metadata": {},
   "outputs": [
    {
     "name": "stderr",
     "output_type": "stream",
     "text": [
      "Validation batch calculation: 75it [04:43,  3.78s/it]\n"
     ]
    },
    {
     "name": "stdout",
     "output_type": "stream",
     "text": [
      "Avg MAE TTNE prediction validation set: 0.25578808784484863 (standardized) ; 859.5085286458333 (minutes)'\n",
      "Avg 1-(normalized) DL distance acitivty suffix prediction validation set: 0.08627665042877197\n",
      "Percentage of suffixes predicted to END: too early - 3.2748017107564136e-06 ; right moment - 1.964881026453848e-05 ; too late - 0.9999770763880247\n",
      "Too early instances - avg amount of events too early: 1.0\n",
      "Too late instances - avg amount of events too late: 66.751220703125\n",
      "Avg absolute amount of events predicted too early / too late: 66.74970245361328\n",
      "Avg MAE RRT prediction validation set: 0.7984994053840637 (standardized) ; 13408.221875 (minutes)'\n"
     ]
    }
   ],
   "source": [
    "test(log_name='BPIC_17', tss_index=5, hidden_dim=64, missingrate=0.7, device='cuda')"
   ]
  },
  {
   "cell_type": "code",
   "execution_count": 6,
   "metadata": {},
   "outputs": [
    {
     "name": "stderr",
     "output_type": "stream",
     "text": [
      "Validation batch calculation: 62it [06:31,  6.32s/it]\n"
     ]
    },
    {
     "name": "stdout",
     "output_type": "stream",
     "text": [
      "Avg MAE TTNE prediction validation set: 0.6115062832832336 (standardized) ; 21923.314583333333 (minutes)'\n",
      "Avg 1-(normalized) DL distance acitivty suffix prediction validation set: 0.3882824182510376\n",
      "Percentage of suffixes predicted to END: too early - 0.4262747211079846 ; right moment - 0.11778323255303438 ; too late - 0.455942046338981\n",
      "Too early instances - avg amount of events too early: 3.289379358291626\n",
      "Too late instances - avg amount of events too late: 3.969755172729492\n",
      "Avg absolute amount of events predicted too early / too late: 3.2121574878692627\n",
      "Avg MAE RRT prediction validation set: 0.8473384380340576 (standardized) ; 46242.558333333334 (minutes)'\n"
     ]
    }
   ],
   "source": [
    "test(log_name='BPIC_19', tss_index=1, hidden_dim=64, missingrate=0.7, device='cuda')"
   ]
  },
  {
   "cell_type": "code",
   "execution_count": 3,
   "metadata": {},
   "outputs": [
    {
     "name": "stderr",
     "output_type": "stream",
     "text": [
      "Validation batch calculation: 75it [22:22, 17.90s/it]\n"
     ]
    },
    {
     "name": "stdout",
     "output_type": "stream",
     "text": [
      "Avg MAE TTNE prediction validation set: 0.2675757110118866 (standardized) ; 944.2963541666667 (minutes)'\n",
      "Avg 1-(normalized) DL distance acitivty suffix prediction validation set: 0.08303767442703247\n",
      "Percentage of suffixes predicted to END: too early - 9.82440513226924e-06 ; right moment - 1.964881026453848e-05 ; too late - 0.9999705267846032\n",
      "Too early instances - avg amount of events too early: 27.33333396911621\n",
      "Too late instances - avg amount of events too late: 66.86673736572266\n",
      "Avg absolute amount of events predicted too early / too late: 66.86503601074219\n",
      "Avg MAE RRT prediction validation set: 0.790343165397644 (standardized) ; 13271.263541666667 (minutes)'\n"
     ]
    }
   ],
   "source": [
    "test(log_name='BPIC_17', tss_index=5, hidden_dim=64, missingrate=0.9, device='cuda')"
   ]
  },
  {
   "cell_type": "code",
   "execution_count": 4,
   "metadata": {},
   "outputs": [
    {
     "name": "stderr",
     "output_type": "stream",
     "text": [
      "Validation batch calculation: 62it [12:25, 12.03s/it]\n"
     ]
    },
    {
     "name": "stdout",
     "output_type": "stream",
     "text": [
      "Avg MAE TTNE prediction validation set: 0.6508722305297852 (standardized) ; 23075.08125 (minutes)'\n",
      "Avg 1-(normalized) DL distance acitivty suffix prediction validation set: 0.39154088497161865\n",
      "Percentage of suffixes predicted to END: too early - 0.34293639865094094 ; right moment - 0.1363627292502345 ; too late - 0.5207008720988245\n",
      "Too early instances - avg amount of events too early: 3.537470579147339\n",
      "Too late instances - avg amount of events too late: 3.353367805480957\n",
      "Avg absolute amount of events predicted too early / too late: 2.959228992462158\n",
      "Avg MAE RRT prediction validation set: 0.8078446388244629 (standardized) ; 44085.65 (minutes)'\n"
     ]
    }
   ],
   "source": [
    "test(log_name='BPIC_19', tss_index=1, hidden_dim=64, missingrate=0.9, device='cuda')"
   ]
  },
  {
   "cell_type": "code",
   "execution_count": null,
   "metadata": {},
   "outputs": [],
   "source": []
  }
 ],
 "metadata": {
  "kernelspec": {
   "display_name": "NDE",
   "language": "python",
   "name": "python3"
  },
  "language_info": {
   "codemirror_mode": {
    "name": "ipython",
    "version": 3
   },
   "file_extension": ".py",
   "mimetype": "text/x-python",
   "name": "python",
   "nbconvert_exporter": "python",
   "pygments_lexer": "ipython3",
   "version": "3.12.5"
  }
 },
 "nbformat": 4,
 "nbformat_minor": 2
}
