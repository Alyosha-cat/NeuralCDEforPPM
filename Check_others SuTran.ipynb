{
 "cells": [
  {
   "cell_type": "code",
   "execution_count": 1,
   "metadata": {},
   "outputs": [],
   "source": [
    "import warnings\n",
    "warnings.filterwarnings('ignore')\n",
    "from TRAIN_EVAL_SUTRAN_NDA import test\n",
    "\n",
    "miss = [0.3, 0.5]"
   ]
  },
  {
   "cell_type": "code",
   "execution_count": 2,
   "metadata": {},
   "outputs": [
    {
     "name": "stdout",
     "output_type": "stream",
     "text": [
      "0.3\n",
      "27\n",
      "device: cuda\n",
      "cuda\n"
     ]
    },
    {
     "name": "stderr",
     "output_type": "stream",
     "text": [
      "Validation batch calculation: 75it [1:37:09, 77.72s/it]\n"
     ]
    },
    {
     "name": "stdout",
     "output_type": "stream",
     "text": [
      "Avg MAE TTNE prediction validation set: 0.21682463586330414 (standardized) ; 803.398046875 (minutes)'\n",
      "Avg 1-(normalized) DL distance acitivty suffix prediction validation set: 0.3373035490512848\n",
      "Percentage of suffixes predicted to END: too early - 0.0843228692502669 ; right moment - 0.07650264276498057 ; too late - 0.8391744879847525\n",
      "Too early instances - avg amount of events too early: 9.706862449645996\n",
      "Too late instances - avg amount of events too late: 35.675846099853516\n",
      "Avg absolute amount of events predicted too early / too late: 30.756771087646484\n",
      "Avg MAE RRT prediction validation set: 0.557540237903595 (standardized) ; 9353.353125 (minutes)'\n",
      "BPIC_19\n",
      "41\n",
      "device: cuda\n",
      "cuda\n"
     ]
    },
    {
     "name": "stderr",
     "output_type": "stream",
     "text": [
      "Validation batch calculation: 62it [02:20,  2.26s/it]\n"
     ]
    },
    {
     "name": "stdout",
     "output_type": "stream",
     "text": [
      "Avg MAE TTNE prediction validation set: 0.5269656181335449 (standardized) ; 19437.891666666666 (minutes)'\n",
      "Avg 1-(normalized) DL distance acitivty suffix prediction validation set: 0.7713544964790344\n",
      "Percentage of suffixes predicted to END: too early - 0.22846993554052167 ; right moment - 0.5170807639346225 ; too late - 0.2544493005248558\n",
      "Too early instances - avg amount of events too early: 1.8382307291030884\n",
      "Too late instances - avg amount of events too late: 2.239729642868042\n",
      "Avg absolute amount of events predicted too early / too late: 0.9898780584335327\n",
      "Avg MAE RRT prediction validation set: 0.5809058547019958 (standardized) ; 31668.814583333333 (minutes)'\n",
      "0.5\n",
      "27\n",
      "device: cuda\n",
      "cuda\n"
     ]
    },
    {
     "name": "stderr",
     "output_type": "stream",
     "text": [
      "Validation batch calculation: 75it [1:28:57, 71.16s/it]\n"
     ]
    },
    {
     "name": "stdout",
     "output_type": "stream",
     "text": [
      "Avg MAE TTNE prediction validation set: 0.22256451845169067 (standardized) ; 824.6832682291666 (minutes)'\n",
      "Avg 1-(normalized) DL distance acitivty suffix prediction validation set: 0.3049992322921753\n",
      "Percentage of suffixes predicted to END: too early - 0.0783496309298472 ; right moment - 0.06302028412179643 ; too late - 0.8586300849483564\n",
      "Too early instances - avg amount of events too early: 9.565600395202637\n",
      "Too late instances - avg amount of events too late: 38.246620178222656\n",
      "Avg absolute amount of events predicted too early / too late: 33.58916091918945\n",
      "Avg MAE RRT prediction validation set: 0.5743167996406555 (standardized) ; 9635.145833333334 (minutes)'\n",
      "BPIC_19\n",
      "41\n",
      "device: cuda\n",
      "cuda\n"
     ]
    },
    {
     "name": "stderr",
     "output_type": "stream",
     "text": [
      "Validation batch calculation: 62it [02:48,  2.72s/it]\n"
     ]
    },
    {
     "name": "stdout",
     "output_type": "stream",
     "text": [
      "Avg MAE TTNE prediction validation set: 0.5477541089057922 (standardized) ; 20205.285416666666 (minutes)'\n",
      "Avg 1-(normalized) DL distance acitivty suffix prediction validation set: 0.7293965220451355\n",
      "Percentage of suffixes predicted to END: too early - 0.2219441617274342 ; right moment - 0.4526013291025564 ; too late - 0.3254545091700094\n",
      "Too early instances - avg amount of events too early: 1.94966459274292\n",
      "Too late instances - avg amount of events too late: 2.3779571056365967\n",
      "Avg absolute amount of events predicted too early / too late: 1.2066335678100586\n",
      "Avg MAE RRT prediction validation set: 0.6108469367027283 (standardized) ; 33305.722916666666 (minutes)'\n"
     ]
    }
   ],
   "source": [
    "for rate in miss:\n",
    "    print(f\"{rate}\")\n",
    "    test(log_name='BPIC_17', tss_index=5, missingrate=rate)\n",
    "    print(\"BPIC_19\")\n",
    "    test(log_name='BPIC_19', tss_index=1, missingrate=rate)"
   ]
  },
  {
   "cell_type": "code",
   "execution_count": 3,
   "metadata": {},
   "outputs": [
    {
     "name": "stdout",
     "output_type": "stream",
     "text": [
      "0.1\n",
      "27\n",
      "device: cuda\n",
      "cuda\n"
     ]
    },
    {
     "name": "stderr",
     "output_type": "stream",
     "text": [
      "Validation batch calculation: 75it [1:47:25, 85.94s/it]\n"
     ]
    },
    {
     "name": "stdout",
     "output_type": "stream",
     "text": [
      "Avg MAE TTNE prediction validation set: 0.20792752504348755 (standardized) ; 770.4098307291666 (minutes)'\n",
      "Avg 1-(normalized) DL distance acitivty suffix prediction validation set: 0.3762827515602112\n",
      "Percentage of suffixes predicted to END: too early - 0.09575847682422829 ; right moment - 0.09879094320838873 ; too late - 0.805450579967383\n",
      "Too early instances - avg amount of events too early: 10.009610176086426\n",
      "Too late instances - avg amount of events too late: 33.22824478149414\n",
      "Avg absolute amount of events predicted too early / too late: 27.72221565246582\n",
      "Avg MAE RRT prediction validation set: 0.541000247001648 (standardized) ; 9075.505208333334 (minutes)'\n",
      "BPIC_19\n",
      "41\n",
      "device: cuda\n",
      "cuda\n"
     ]
    },
    {
     "name": "stderr",
     "output_type": "stream",
     "text": [
      "Validation batch calculation: 62it [02:23,  2.32s/it]\n"
     ]
    },
    {
     "name": "stdout",
     "output_type": "stream",
     "text": [
      "Avg MAE TTNE prediction validation set: 0.4865642786026001 (standardized) ; 17948.120833333334 (minutes)'\n",
      "Avg 1-(normalized) DL distance acitivty suffix prediction validation set: 0.8192359805107117\n",
      "Percentage of suffixes predicted to END: too early - 0.24285457702209184 ; right moment - 0.6 ; too late - 0.15714542297790815\n",
      "Too early instances - avg amount of events too early: 1.7266212701797485\n",
      "Too late instances - avg amount of events too late: 2.2166006565093994\n",
      "Avg absolute amount of events predicted too early / too late: 0.7676465511322021\n",
      "Avg MAE RRT prediction validation set: 0.5510249733924866 (standardized) ; 30037.8 (minutes)'\n",
      "0\n",
      "27\n",
      "device: cuda\n",
      "cuda\n"
     ]
    },
    {
     "name": "stderr",
     "output_type": "stream",
     "text": [
      "Validation batch calculation: 75it [1:28:06, 70.49s/it]\n"
     ]
    },
    {
     "name": "stdout",
     "output_type": "stream",
     "text": [
      "Avg MAE TTNE prediction validation set: 0.2031465619802475 (standardized) ; 752.6828125 (minutes)'\n",
      "Avg 1-(normalized) DL distance acitivty suffix prediction validation set: 0.4012344479560852\n",
      "Percentage of suffixes predicted to END: too early - 0.1050589136827765 ; right moment - 0.11683837543636733 ; too late - 0.7781027108808561\n",
      "Too early instances - avg amount of events too early: 10.22642707824707\n",
      "Too late instances - avg amount of events too late: 32.134708404541016\n",
      "Avg absolute amount of events predicted too early / too late: 26.078479766845703\n",
      "Avg MAE RRT prediction validation set: 0.5318318605422974 (standardized) ; 8921.558333333332 (minutes)'\n",
      "BPIC_19\n",
      "41\n",
      "device: cuda\n",
      "cuda\n"
     ]
    },
    {
     "name": "stderr",
     "output_type": "stream",
     "text": [
      "Validation batch calculation: 62it [01:45,  1.70s/it]\n"
     ]
    },
    {
     "name": "stdout",
     "output_type": "stream",
     "text": [
      "Avg MAE TTNE prediction validation set: 0.45824968814849854 (standardized) ; 16904.398958333335 (minutes)'\n",
      "Avg 1-(normalized) DL distance acitivty suffix prediction validation set: 0.8444443345069885\n",
      "Percentage of suffixes predicted to END: too early - 0.25367897982398374 ; right moment - 0.6466622762378016 ; too late - 0.0996587439382147\n",
      "Too early instances - avg amount of events too early: 1.6701123714447021\n",
      "Too late instances - avg amount of events too late: 2.3510754108428955\n",
      "Avg absolute amount of events predicted too early / too late: 0.6579775810241699\n",
      "Avg MAE RRT prediction validation set: 0.5362576246261597 (standardized) ; 29232.7125 (minutes)'\n"
     ]
    }
   ],
   "source": [
    "miss = [0.1, 0]\n",
    "for rate in miss:\n",
    "    print(f\"{rate}\")\n",
    "    test(log_name='BPIC_17', tss_index=5, missingrate=rate)\n",
    "    print(\"BPIC_19\")\n",
    "    test(log_name='BPIC_19', tss_index=1, missingrate=rate)"
   ]
  },
  {
   "cell_type": "code",
   "execution_count": null,
   "metadata": {},
   "outputs": [
    {
     "name": "stdout",
     "output_type": "stream",
     "text": [
      "0.7\n",
      "27\n",
      "device: cuda\n",
      "cuda\n"
     ]
    },
    {
     "name": "stderr",
     "output_type": "stream",
     "text": [
      "Validation batch calculation: 75it [1:07:27, 53.97s/it]\n"
     ]
    },
    {
     "name": "stdout",
     "output_type": "stream",
     "text": [
      "Avg MAE TTNE prediction validation set: 0.22378818690776825 (standardized) ; 829.23203125 (minutes)'\n",
      "Avg 1-(normalized) DL distance acitivty suffix prediction validation set: 0.27134838700294495\n",
      "Percentage of suffixes predicted to END: too early - 0.07571341555268829 ; right moment - 0.05331377185111442 ; too late - 0.8709728125961973\n",
      "Too early instances - avg amount of events too early: 9.529325485229492\n",
      "Too late instances - avg amount of events too late: 41.39688491821289\n",
      "Avg absolute amount of events predicted too early / too late: 36.77705764770508\n",
      "Avg MAE RRT prediction validation set: 0.596260666847229 (standardized) ; 10002.808333333332 (minutes)'\n",
      "BPIC_19\n",
      "41\n",
      "device: cuda\n",
      "cuda\n"
     ]
    },
    {
     "name": "stderr",
     "output_type": "stream",
     "text": [
      "Validation batch calculation: 54it [01:50,  2.08s/it]"
     ]
    }
   ],
   "source": [
    "miss = [0.7]\n",
    "for rate in miss:\n",
    "    print(f\"{rate}\")\n",
    "    test(log_name='BPIC_17', tss_index=5, missingrate=rate)\n",
    "    print(\"BPIC_19\")\n",
    "    test(log_name='BPIC_19', tss_index=1, missingrate=rate)"
   ]
  },
  {
   "cell_type": "code",
   "execution_count": null,
   "metadata": {},
   "outputs": [],
   "source": []
  }
 ],
 "metadata": {
  "kernelspec": {
   "display_name": "NDE",
   "language": "python",
   "name": "python3"
  },
  "language_info": {
   "codemirror_mode": {
    "name": "ipython",
    "version": 3
   },
   "file_extension": ".py",
   "mimetype": "text/x-python",
   "name": "python",
   "nbconvert_exporter": "python",
   "pygments_lexer": "ipython3",
   "version": "3.12.5"
  }
 },
 "nbformat": 4,
 "nbformat_minor": 2
}
