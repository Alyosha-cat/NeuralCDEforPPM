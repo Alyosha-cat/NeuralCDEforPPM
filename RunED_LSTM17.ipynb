{
 "cells": [
  {
   "cell_type": "code",
   "execution_count": 1,
   "metadata": {},
   "outputs": [
    {
     "name": "stdout",
     "output_type": "stream",
     "text": [
      "27\n"
     ]
    },
    {
     "name": "stderr",
     "output_type": "stream",
     "text": [
      "/media/usr/SSD/yongmin/PPM/TRAIN_EVAL_ED_LSTM.py:166: FutureWarning: You are using `torch.load` with `weights_only=False` (the current default value), which uses the default pickle module implicitly. It is possible to construct malicious pickle data which will execute arbitrary code during unpickling (See https://github.com/pytorch/pytorch/blob/main/SECURITY.md#untrusted-models for more details). In a future release, the default value for `weights_only` will be flipped to `True`. This limits the functions that could be executed during unpickling. Arbitrary objects will no longer be allowed to be loaded via this mode unless they are explicitly allowlisted by the user via `torch.serialization.add_safe_globals`. We recommend you start setting `weights_only=True` for any use case where you don't have full control of the loaded file. Please open an issue on GitHub for any issues related to this experimental feature.\n",
      "  train_dataset = torch.load(temp_path)\n",
      "/media/usr/SSD/yongmin/PPM/TRAIN_EVAL_ED_LSTM.py:170: FutureWarning: You are using `torch.load` with `weights_only=False` (the current default value), which uses the default pickle module implicitly. It is possible to construct malicious pickle data which will execute arbitrary code during unpickling (See https://github.com/pytorch/pytorch/blob/main/SECURITY.md#untrusted-models for more details). In a future release, the default value for `weights_only` will be flipped to `True`. This limits the functions that could be executed during unpickling. Arbitrary objects will no longer be allowed to be loaded via this mode unless they are explicitly allowlisted by the user via `torch.serialization.add_safe_globals`. We recommend you start setting `weights_only=True` for any use case where you don't have full control of the loaded file. Please open an issue on GitHub for any issues related to this experimental feature.\n",
      "  val_dataset = torch.load(temp_path)\n",
      "/media/usr/SSD/yongmin/PPM/TRAIN_EVAL_ED_LSTM.py:174: FutureWarning: You are using `torch.load` with `weights_only=False` (the current default value), which uses the default pickle module implicitly. It is possible to construct malicious pickle data which will execute arbitrary code during unpickling (See https://github.com/pytorch/pytorch/blob/main/SECURITY.md#untrusted-models for more details). In a future release, the default value for `weights_only` will be flipped to `True`. This limits the functions that could be executed during unpickling. Arbitrary objects will no longer be allowed to be loaded via this mode unless they are explicitly allowlisted by the user via `torch.serialization.add_safe_globals`. We recommend you start setting `weights_only=True` for any use case where you don't have full control of the loaded file. Please open an issue on GitHub for any issues related to this experimental feature.\n",
      "  test_dataset = torch.load(temp_path)\n"
     ]
    },
    {
     "name": "stdout",
     "output_type": "stream",
     "text": [
      "device: cuda\n",
      "Device: cuda\n",
      " \n",
      "------------------------------------\n",
      "EPOCH 0:\n",
      "____________________________________\n"
     ]
    },
    {
     "name": "stderr",
     "output_type": "stream",
     "text": [
      "Batch calculation at epoch 0.: 807it [00:18, 32.50it/s]"
     ]
    },
    {
     "name": "stdout",
     "output_type": "stream",
     "text": [
      "------------------------------------------------------------\n",
      "Epoch 0, batch 799:\n",
      "Average original gradient norm: 0.6451949241571129 (over last 800 batches)\n",
      "Average clipped gradient norm: 0.641835061442107 (over last 800 batches)\n",
      "Running average global loss: 2.2144460225105287 (over last 800 batches)\n",
      "Running average activity prediction loss: 1.9881157828867435 (Cross Entropy over last 800 batches)\n",
      "Running average time till next event prediction loss: 0.22633024159818887 (MAE over last 800 batches)\n",
      "------------------------------------------------------------\n"
     ]
    },
    {
     "name": "stderr",
     "output_type": "stream",
     "text": [
      "Batch calculation at epoch 0.: 1605it [00:39, 36.58it/s]"
     ]
    },
    {
     "name": "stdout",
     "output_type": "stream",
     "text": [
      "------------------------------------------------------------\n",
      "Epoch 0, batch 1599:\n",
      "Average original gradient norm: 0.39109927581623194 (over last 800 batches)\n",
      "Average clipped gradient norm: 0.39109927581623194 (over last 800 batches)\n",
      "Running average global loss: 1.3971257534623147 (over last 800 batches)\n",
      "Running average activity prediction loss: 1.1766374454647304 (Cross Entropy over last 800 batches)\n",
      "Running average time till next event prediction loss: 0.22048830864951013 (MAE over last 800 batches)\n",
      "------------------------------------------------------------\n"
     ]
    },
    {
     "name": "stderr",
     "output_type": "stream",
     "text": [
      "Batch calculation at epoch 0.: 2411it [00:58, 59.84it/s]"
     ]
    },
    {
     "name": "stdout",
     "output_type": "stream",
     "text": [
      "------------------------------------------------------------\n",
      "Epoch 0, batch 2399:\n",
      "Average original gradient norm: 0.3506544735468924 (over last 800 batches)\n",
      "Average clipped gradient norm: 0.3506544735468924 (over last 800 batches)\n",
      "Running average global loss: 0.9776586442440748 (over last 800 batches)\n",
      "Running average activity prediction loss: 0.7650149019062519 (Cross Entropy over last 800 batches)\n",
      "Running average time till next event prediction loss: 0.2126437409222126 (MAE over last 800 batches)\n",
      "------------------------------------------------------------\n"
     ]
    },
    {
     "name": "stderr",
     "output_type": "stream",
     "text": [
      "Batch calculation at epoch 0.: 3208it [01:18, 36.47it/s]"
     ]
    },
    {
     "name": "stdout",
     "output_type": "stream",
     "text": [
      "------------------------------------------------------------\n",
      "Epoch 0, batch 3199:\n",
      "Average original gradient norm: 0.33555034395307304 (over last 800 batches)\n",
      "Average clipped gradient norm: 0.33555034395307304 (over last 800 batches)\n",
      "Running average global loss: 0.7692741240561008 (over last 800 batches)\n",
      "Running average activity prediction loss: 0.5734301810711622 (Cross Entropy over last 800 batches)\n",
      "Running average time till next event prediction loss: 0.1958439425751567 (MAE over last 800 batches)\n",
      "------------------------------------------------------------\n"
     ]
    },
    {
     "name": "stderr",
     "output_type": "stream",
     "text": [
      "Batch calculation at epoch 0.: 4003it [01:44, 24.06it/s]"
     ]
    },
    {
     "name": "stdout",
     "output_type": "stream",
     "text": [
      "------------------------------------------------------------\n",
      "Epoch 0, batch 3999:\n",
      "Average original gradient norm: 0.30259676167741417 (over last 800 batches)\n",
      "Average clipped gradient norm: 0.30259676167741417 (over last 800 batches)\n",
      "Running average global loss: 0.6787139001488686 (over last 800 batches)\n",
      "Running average activity prediction loss: 0.49521128214895727 (Cross Entropy over last 800 batches)\n",
      "Running average time till next event prediction loss: 0.1835026177763939 (MAE over last 800 batches)\n",
      "------------------------------------------------------------\n"
     ]
    },
    {
     "name": "stderr",
     "output_type": "stream",
     "text": [
      "Batch calculation at epoch 0.: 4798it [02:05, 38.32it/s]\n"
     ]
    },
    {
     "name": "stdout",
     "output_type": "stream",
     "text": [
      "=======================================\n",
      "End of epoch 0\n",
      "=======================================\n",
      "Running average global loss: 0.6303576935082674 (over last 800 batches)\n",
      "Running average activity prediction loss: 0.45317936152219773 (Cross Entropy over last 800 batches)\n",
      "Running average time till next event prediction loss: 0.17717833276838063 (MAE over last 800 batches)\n"
     ]
    },
    {
     "name": "stderr",
     "output_type": "stream",
     "text": [
      "Validation batch calculation: 72it [00:59,  1.21it/s]\n"
     ]
    },
    {
     "name": "stdout",
     "output_type": "stream",
     "text": [
      "Avg MAE TTNE prediction validation set: 0.21109196543693542 (standardized) ; 780.0212239583333 (minutes)'\n",
      "Avg 1-(normalized) DL distance acitivty suffix prediction validation set: 0.17644476890563965\n",
      "Percentage of suffixes predicted to END: too early - 0.014532720806569418 ; right moment - 0.07434281930688 ; too late - 0.9111244598865506\n",
      "Too early instances - avg amount of events too early: 2.3123531341552734\n",
      "Too late instances - avg amount of events too late: 65.22103118896484\n",
      "Avg absolute amount of events predicted too early / too late: 59.45808410644531\n",
      "Avg MAE RRT prediction validation set:  13917.596875 (minutes)'\n",
      " \n",
      "------------------------------------\n",
      "EPOCH 1:\n",
      "____________________________________\n"
     ]
    },
    {
     "name": "stderr",
     "output_type": "stream",
     "text": [
      "Batch calculation at epoch 1.: 802it [00:46, 17.49it/s]"
     ]
    },
    {
     "name": "stdout",
     "output_type": "stream",
     "text": [
      "------------------------------------------------------------\n",
      "Epoch 1, batch 799:\n",
      "Average original gradient norm: 0.40226755261421204 (over last 800 batches)\n",
      "Average clipped gradient norm: 0.40226755261421204 (over last 800 batches)\n",
      "Running average global loss: 0.5934667110443115 (over last 800 batches)\n",
      "Running average activity prediction loss: 0.416987568885088 (Cross Entropy over last 800 batches)\n",
      "Running average time till next event prediction loss: 0.1764791413396597 (MAE over last 800 batches)\n",
      "------------------------------------------------------------\n"
     ]
    },
    {
     "name": "stderr",
     "output_type": "stream",
     "text": [
      "Batch calculation at epoch 1.: 1603it [01:29, 16.77it/s]"
     ]
    },
    {
     "name": "stdout",
     "output_type": "stream",
     "text": [
      "------------------------------------------------------------\n",
      "Epoch 1, batch 1599:\n",
      "Average original gradient norm: 0.48345142442733047 (over last 800 batches)\n",
      "Average clipped gradient norm: 0.48284954447299244 (over last 800 batches)\n",
      "Running average global loss: 0.5700664044171572 (over last 800 batches)\n",
      "Running average activity prediction loss: 0.3962035448849201 (Cross Entropy over last 800 batches)\n",
      "Running average time till next event prediction loss: 0.17386285826563835 (MAE over last 800 batches)\n",
      "------------------------------------------------------------\n"
     ]
    },
    {
     "name": "stderr",
     "output_type": "stream",
     "text": [
      "Batch calculation at epoch 1.: 2402it [02:12, 18.96it/s]"
     ]
    },
    {
     "name": "stdout",
     "output_type": "stream",
     "text": [
      "------------------------------------------------------------\n",
      "Epoch 1, batch 2399:\n",
      "Average original gradient norm: 0.5326374311745167 (over last 800 batches)\n",
      "Average clipped gradient norm: 0.5326374311745167 (over last 800 batches)\n",
      "Running average global loss: 0.554448462985456 (over last 800 batches)\n",
      "Running average activity prediction loss: 0.38216109622269867 (Cross Entropy over last 800 batches)\n",
      "Running average time till next event prediction loss: 0.17228736756369473 (MAE over last 800 batches)\n",
      "------------------------------------------------------------\n"
     ]
    },
    {
     "name": "stderr",
     "output_type": "stream",
     "text": [
      "Batch calculation at epoch 1.: 3204it [02:55, 24.96it/s]"
     ]
    },
    {
     "name": "stdout",
     "output_type": "stream",
     "text": [
      "------------------------------------------------------------\n",
      "Epoch 1, batch 3199:\n",
      "Average original gradient norm: 0.528371580708772 (over last 800 batches)\n",
      "Average clipped gradient norm: 0.5253278894908726 (over last 800 batches)\n",
      "Running average global loss: 0.5446940465271473 (over last 800 batches)\n",
      "Running average activity prediction loss: 0.37265929229557515 (Cross Entropy over last 800 batches)\n",
      "Running average time till next event prediction loss: 0.17203475389629602 (MAE over last 800 batches)\n",
      "------------------------------------------------------------\n"
     ]
    },
    {
     "name": "stderr",
     "output_type": "stream",
     "text": [
      "Batch calculation at epoch 1.: 4000it [03:37, 11.58it/s]"
     ]
    },
    {
     "name": "stdout",
     "output_type": "stream",
     "text": [
      "------------------------------------------------------------\n",
      "Epoch 1, batch 3999:\n",
      "Average original gradient norm: 0.5216311140544713 (over last 800 batches)\n",
      "Average clipped gradient norm: 0.518957634139806 (over last 800 batches)\n",
      "Running average global loss: 0.5368688362836838 (over last 800 batches)\n",
      "Running average activity prediction loss: 0.3659809732809663 (Cross Entropy over last 800 batches)\n",
      "Running average time till next event prediction loss: 0.1708878629654646 (MAE over last 800 batches)\n",
      "------------------------------------------------------------\n"
     ]
    },
    {
     "name": "stderr",
     "output_type": "stream",
     "text": [
      "Batch calculation at epoch 1.: 4798it [04:09, 19.22it/s]\n"
     ]
    },
    {
     "name": "stdout",
     "output_type": "stream",
     "text": [
      "=======================================\n",
      "End of epoch 1\n",
      "=======================================\n",
      "Running average global loss: 0.5301621326431633 (over last 800 batches)\n",
      "Running average activity prediction loss: 0.35999119754880665 (Cross Entropy over last 800 batches)\n",
      "Running average time till next event prediction loss: 0.17017093569040298 (MAE over last 800 batches)\n"
     ]
    },
    {
     "name": "stderr",
     "output_type": "stream",
     "text": [
      "Validation batch calculation: 72it [01:36,  1.33s/it]\n"
     ]
    },
    {
     "name": "stdout",
     "output_type": "stream",
     "text": [
      "Avg MAE TTNE prediction validation set: 0.20610003173351288 (standardized) ; 761.8123697916667 (minutes)'\n",
      "Avg 1-(normalized) DL distance acitivty suffix prediction validation set: 0.18954724073410034\n",
      "Percentage of suffixes predicted to END: too early - 0.0020068670348198257 ; right moment - 0.08766049816719797 ; too late - 0.9103326347979822\n",
      "Too early instances - avg amount of events too early: 5.6598639488220215\n",
      "Too late instances - avg amount of events too late: 65.25553894042969\n",
      "Avg absolute amount of events predicted too early / too late: 59.41560745239258\n",
      "Avg MAE RRT prediction validation set:  12910.95 (minutes)'\n",
      " \n",
      "------------------------------------\n",
      "EPOCH 2:\n",
      "____________________________________\n"
     ]
    },
    {
     "name": "stderr",
     "output_type": "stream",
     "text": [
      "Batch calculation at epoch 2.: 805it [00:35, 25.37it/s]"
     ]
    },
    {
     "name": "stdout",
     "output_type": "stream",
     "text": [
      "------------------------------------------------------------\n",
      "Epoch 2, batch 799:\n",
      "Average original gradient norm: 0.4725874499976635 (over last 800 batches)\n",
      "Average clipped gradient norm: 0.4712256482243538 (over last 800 batches)\n",
      "Running average global loss: 0.5251708877831698 (over last 800 batches)\n",
      "Running average activity prediction loss: 0.3557303551957011 (Cross Entropy over last 800 batches)\n",
      "Running average time till next event prediction loss: 0.169440532643348 (MAE over last 800 batches)\n",
      "------------------------------------------------------------\n"
     ]
    },
    {
     "name": "stderr",
     "output_type": "stream",
     "text": [
      "Batch calculation at epoch 2.: 1609it [01:04, 46.78it/s]"
     ]
    },
    {
     "name": "stdout",
     "output_type": "stream",
     "text": [
      "------------------------------------------------------------\n",
      "Epoch 2, batch 1599:\n",
      "Average original gradient norm: 0.47320598416030407 (over last 800 batches)\n",
      "Average clipped gradient norm: 0.4683324224501848 (over last 800 batches)\n",
      "Running average global loss: 0.5212455607950688 (over last 800 batches)\n",
      "Running average activity prediction loss: 0.35250764738768336 (Cross Entropy over last 800 batches)\n",
      "Running average time till next event prediction loss: 0.1687379134632647 (MAE over last 800 batches)\n",
      "------------------------------------------------------------\n"
     ]
    },
    {
     "name": "stderr",
     "output_type": "stream",
     "text": [
      "Batch calculation at epoch 2.: 2409it [01:20, 53.13it/s]"
     ]
    },
    {
     "name": "stdout",
     "output_type": "stream",
     "text": [
      "------------------------------------------------------------\n",
      "Epoch 2, batch 2399:\n",
      "Average original gradient norm: 0.45759267795830966 (over last 800 batches)\n",
      "Average clipped gradient norm: 0.45289774794131515 (over last 800 batches)\n",
      "Running average global loss: 0.5183758195862174 (over last 800 batches)\n",
      "Running average activity prediction loss: 0.34928795278072355 (Cross Entropy over last 800 batches)\n",
      "Running average time till next event prediction loss: 0.1690878661070019 (MAE over last 800 batches)\n",
      "------------------------------------------------------------\n"
     ]
    },
    {
     "name": "stderr",
     "output_type": "stream",
     "text": [
      "Batch calculation at epoch 2.: 3203it [01:42, 50.30it/s]"
     ]
    },
    {
     "name": "stdout",
     "output_type": "stream",
     "text": [
      "------------------------------------------------------------\n",
      "Epoch 2, batch 3199:\n",
      "Average original gradient norm: 0.4576573334261775 (over last 800 batches)\n",
      "Average clipped gradient norm: 0.45298459645360706 (over last 800 batches)\n",
      "Running average global loss: 0.5164616063609719 (over last 800 batches)\n",
      "Running average activity prediction loss: 0.3474826769158244 (Cross Entropy over last 800 batches)\n",
      "Running average time till next event prediction loss: 0.1689789287187159 (MAE over last 800 batches)\n",
      "------------------------------------------------------------\n"
     ]
    },
    {
     "name": "stderr",
     "output_type": "stream",
     "text": [
      "Batch calculation at epoch 2.: 4011it [02:04, 51.53it/s]"
     ]
    },
    {
     "name": "stdout",
     "output_type": "stream",
     "text": [
      "------------------------------------------------------------\n",
      "Epoch 2, batch 3999:\n",
      "Average original gradient norm: 0.4255329225957394 (over last 800 batches)\n",
      "Average clipped gradient norm: 0.4255329225957394 (over last 800 batches)\n",
      "Running average global loss: 0.5134179288893939 (over last 800 batches)\n",
      "Running average activity prediction loss: 0.34588459312915804 (Cross Entropy over last 800 batches)\n",
      "Running average time till next event prediction loss: 0.16753333573229612 (MAE over last 800 batches)\n",
      "------------------------------------------------------------\n"
     ]
    },
    {
     "name": "stderr",
     "output_type": "stream",
     "text": [
      "Batch calculation at epoch 2.: 4798it [02:34, 30.96it/s]\n"
     ]
    },
    {
     "name": "stdout",
     "output_type": "stream",
     "text": [
      "=======================================\n",
      "End of epoch 2\n",
      "=======================================\n",
      "Running average global loss: 0.5111052747070789 (over last 800 batches)\n",
      "Running average activity prediction loss: 0.3435979623347521 (Cross Entropy over last 800 batches)\n",
      "Running average time till next event prediction loss: 0.1675073122791946 (MAE over last 800 batches)\n"
     ]
    },
    {
     "name": "stderr",
     "output_type": "stream",
     "text": [
      "Validation batch calculation: 72it [01:13,  1.02s/it]\n"
     ]
    },
    {
     "name": "stdout",
     "output_type": "stream",
     "text": [
      "Avg MAE TTNE prediction validation set: 0.20598909258842468 (standardized) ; 762.0337890625 (minutes)'\n",
      "Avg 1-(normalized) DL distance acitivty suffix prediction validation set: 0.19117391109466553\n",
      "Percentage of suffixes predicted to END: too early - 0.0008942162638142761 ; right moment - 0.08881410540830188 ; too late - 0.9102916783278838\n",
      "Too early instances - avg amount of events too early: 5.992366313934326\n",
      "Too late instances - avg amount of events too late: 65.2729263305664\n",
      "Avg absolute amount of events predicted too early / too late: 59.422760009765625\n",
      "Avg MAE RRT prediction validation set:  12313.344791666666 (minutes)'\n",
      " \n",
      "------------------------------------\n",
      "EPOCH 3:\n",
      "____________________________________\n"
     ]
    },
    {
     "name": "stderr",
     "output_type": "stream",
     "text": [
      "Batch calculation at epoch 3.: 801it [00:42, 27.06it/s]"
     ]
    },
    {
     "name": "stdout",
     "output_type": "stream",
     "text": [
      "------------------------------------------------------------\n",
      "Epoch 3, batch 799:\n",
      "Average original gradient norm: 0.4204058201983571 (over last 800 batches)\n",
      "Average clipped gradient norm: 0.41506744612008334 (over last 800 batches)\n",
      "Running average global loss: 0.5096684407815337 (over last 800 batches)\n",
      "Running average activity prediction loss: 0.3418549659103155 (Cross Entropy over last 800 batches)\n",
      "Running average time till next event prediction loss: 0.1678134757373482 (MAE over last 800 batches)\n",
      "------------------------------------------------------------\n"
     ]
    },
    {
     "name": "stderr",
     "output_type": "stream",
     "text": [
      "Batch calculation at epoch 3.: 1604it [01:15, 23.29it/s]"
     ]
    },
    {
     "name": "stdout",
     "output_type": "stream",
     "text": [
      "------------------------------------------------------------\n",
      "Epoch 3, batch 1599:\n",
      "Average original gradient norm: 0.4307969293743372 (over last 800 batches)\n",
      "Average clipped gradient norm: 0.39605269603431226 (over last 800 batches)\n",
      "Running average global loss: 0.5069937060773373 (over last 800 batches)\n",
      "Running average activity prediction loss: 0.34007531479001046 (Cross Entropy over last 800 batches)\n",
      "Running average time till next event prediction loss: 0.1669183921534568 (MAE over last 800 batches)\n",
      "------------------------------------------------------------\n"
     ]
    },
    {
     "name": "stderr",
     "output_type": "stream",
     "text": [
      "Batch calculation at epoch 3.: 2405it [01:49, 30.10it/s]"
     ]
    },
    {
     "name": "stdout",
     "output_type": "stream",
     "text": [
      "------------------------------------------------------------\n",
      "Epoch 3, batch 2399:\n",
      "Average original gradient norm: 0.4584913020022213 (over last 800 batches)\n",
      "Average clipped gradient norm: 0.4526476650126278 (over last 800 batches)\n",
      "Running average global loss: 0.5057164034992456 (over last 800 batches)\n",
      "Running average activity prediction loss: 0.33873745407909156 (Cross Entropy over last 800 batches)\n",
      "Running average time till next event prediction loss: 0.16697894863784313 (MAE over last 800 batches)\n",
      "------------------------------------------------------------\n"
     ]
    },
    {
     "name": "stderr",
     "output_type": "stream",
     "text": [
      "Batch calculation at epoch 3.: 3203it [02:27, 25.24it/s]"
     ]
    },
    {
     "name": "stdout",
     "output_type": "stream",
     "text": [
      "------------------------------------------------------------\n",
      "Epoch 3, batch 3199:\n",
      "Average original gradient norm: 0.41898235512897375 (over last 800 batches)\n",
      "Average clipped gradient norm: 0.4151741023175418 (over last 800 batches)\n",
      "Running average global loss: 0.5044829232990742 (over last 800 batches)\n",
      "Running average activity prediction loss: 0.3377263675630093 (Cross Entropy over last 800 batches)\n",
      "Running average time till next event prediction loss: 0.16675655530765654 (MAE over last 800 batches)\n",
      "------------------------------------------------------------\n"
     ]
    },
    {
     "name": "stderr",
     "output_type": "stream",
     "text": [
      "Batch calculation at epoch 3.: 4004it [03:10, 19.86it/s]"
     ]
    },
    {
     "name": "stdout",
     "output_type": "stream",
     "text": [
      "------------------------------------------------------------\n",
      "Epoch 3, batch 3999:\n",
      "Average original gradient norm: 0.4219380902312696 (over last 800 batches)\n",
      "Average clipped gradient norm: 0.4167857596836984 (over last 800 batches)\n",
      "Running average global loss: 0.5015320049598813 (over last 800 batches)\n",
      "Running average activity prediction loss: 0.3357871451228857 (Cross Entropy over last 800 batches)\n",
      "Running average time till next event prediction loss: 0.1657448601629585 (MAE over last 800 batches)\n",
      "------------------------------------------------------------\n"
     ]
    },
    {
     "name": "stderr",
     "output_type": "stream",
     "text": [
      "Batch calculation at epoch 3.: 4798it [03:55, 20.38it/s]\n"
     ]
    },
    {
     "name": "stdout",
     "output_type": "stream",
     "text": [
      "=======================================\n",
      "End of epoch 3\n",
      "=======================================\n",
      "Running average global loss: 0.500465099439025 (over last 800 batches)\n",
      "Running average activity prediction loss: 0.33317029919475316 (Cross Entropy over last 800 batches)\n",
      "Running average time till next event prediction loss: 0.16729479955509305 (MAE over last 800 batches)\n"
     ]
    },
    {
     "name": "stderr",
     "output_type": "stream",
     "text": [
      "Validation batch calculation: 72it [01:33,  1.29s/it]\n"
     ]
    },
    {
     "name": "stdout",
     "output_type": "stream",
     "text": [
      "Avg MAE TTNE prediction validation set: 0.20591174066066742 (standardized) ; 761.7227213541667 (minutes)'\n",
      "Avg 1-(normalized) DL distance acitivty suffix prediction validation set: 0.19352976977825165\n",
      "Percentage of suffixes predicted to END: too early - 0.002634866242994737 ; right moment - 0.09113497204720916 ; too late - 0.9062301617097961\n",
      "Too early instances - avg amount of events too early: 9.098445892333984\n",
      "Too late instances - avg amount of events too late: 65.21401977539062\n",
      "Avg absolute amount of events predicted too early / too late: 59.12288284301758\n",
      "Avg MAE RRT prediction validation set:  12299.882291666667 (minutes)'\n",
      " \n",
      "------------------------------------\n",
      "EPOCH 4:\n",
      "____________________________________\n"
     ]
    },
    {
     "name": "stderr",
     "output_type": "stream",
     "text": [
      "Batch calculation at epoch 4.: 804it [00:21, 26.56it/s]"
     ]
    },
    {
     "name": "stdout",
     "output_type": "stream",
     "text": [
      "------------------------------------------------------------\n",
      "Epoch 4, batch 799:\n",
      "Average original gradient norm: 0.4027461601421237 (over last 800 batches)\n",
      "Average clipped gradient norm: 0.40271236579865216 (over last 800 batches)\n",
      "Running average global loss: 0.4995265294983983 (over last 800 batches)\n",
      "Running average activity prediction loss: 0.33327189888805153 (Cross Entropy over last 800 batches)\n",
      "Running average time till next event prediction loss: 0.1662546313367784 (MAE over last 800 batches)\n",
      "------------------------------------------------------------\n"
     ]
    },
    {
     "name": "stderr",
     "output_type": "stream",
     "text": [
      "Batch calculation at epoch 4.: 1604it [00:51, 25.49it/s]"
     ]
    },
    {
     "name": "stdout",
     "output_type": "stream",
     "text": [
      "------------------------------------------------------------\n",
      "Epoch 4, batch 1599:\n",
      "Average original gradient norm: 0.4132186007872224 (over last 800 batches)\n",
      "Average clipped gradient norm: 0.41176963079720735 (over last 800 batches)\n",
      "Running average global loss: 0.498006343729794 (over last 800 batches)\n",
      "Running average activity prediction loss: 0.3329645835980773 (Cross Entropy over last 800 batches)\n",
      "Running average time till next event prediction loss: 0.1650417598336935 (MAE over last 800 batches)\n",
      "------------------------------------------------------------\n"
     ]
    },
    {
     "name": "stderr",
     "output_type": "stream",
     "text": [
      "Batch calculation at epoch 4.: 2402it [01:20, 30.00it/s]"
     ]
    },
    {
     "name": "stdout",
     "output_type": "stream",
     "text": [
      "------------------------------------------------------------\n",
      "Epoch 4, batch 2399:\n",
      "Average original gradient norm: 0.4183499265834689 (over last 800 batches)\n",
      "Average clipped gradient norm: 0.41738558109849694 (over last 800 batches)\n",
      "Running average global loss: 0.49608021054416895 (over last 800 batches)\n",
      "Running average activity prediction loss: 0.33076766785234213 (Cross Entropy over last 800 batches)\n",
      "Running average time till next event prediction loss: 0.16531254245899618 (MAE over last 800 batches)\n",
      "------------------------------------------------------------\n"
     ]
    },
    {
     "name": "stderr",
     "output_type": "stream",
     "text": [
      "Batch calculation at epoch 4.: 3209it [01:46, 45.43it/s]"
     ]
    },
    {
     "name": "stdout",
     "output_type": "stream",
     "text": [
      "------------------------------------------------------------\n",
      "Epoch 4, batch 3199:\n",
      "Average original gradient norm: 0.4205800109915435 (over last 800 batches)\n",
      "Average clipped gradient norm: 0.41693673191592096 (over last 800 batches)\n",
      "Running average global loss: 0.49606592442840336 (over last 800 batches)\n",
      "Running average activity prediction loss: 0.3297028726711869 (Cross Entropy over last 800 batches)\n",
      "Running average time till next event prediction loss: 0.16636305155232547 (MAE over last 800 batches)\n",
      "------------------------------------------------------------\n"
     ]
    },
    {
     "name": "stderr",
     "output_type": "stream",
     "text": [
      "Batch calculation at epoch 4.: 4002it [02:09, 27.36it/s]"
     ]
    },
    {
     "name": "stdout",
     "output_type": "stream",
     "text": [
      "------------------------------------------------------------\n",
      "Epoch 4, batch 3999:\n",
      "Average original gradient norm: 0.37207604279741646 (over last 800 batches)\n",
      "Average clipped gradient norm: 0.3685955703817308 (over last 800 batches)\n",
      "Running average global loss: 0.495422591753304 (over last 800 batches)\n",
      "Running average activity prediction loss: 0.33027105141431096 (Cross Entropy over last 800 batches)\n",
      "Running average time till next event prediction loss: 0.16515154094435275 (MAE over last 800 batches)\n",
      "------------------------------------------------------------\n"
     ]
    },
    {
     "name": "stderr",
     "output_type": "stream",
     "text": [
      "Batch calculation at epoch 4.: 4798it [02:44, 29.25it/s]\n"
     ]
    },
    {
     "name": "stdout",
     "output_type": "stream",
     "text": [
      "=======================================\n",
      "End of epoch 4\n",
      "=======================================\n",
      "Running average global loss: 0.49511024095118045 (over last 800 batches)\n",
      "Running average activity prediction loss: 0.3291657744720578 (Cross Entropy over last 800 batches)\n",
      "Running average time till next event prediction loss: 0.16594446601346136 (MAE over last 800 batches)\n"
     ]
    },
    {
     "name": "stderr",
     "output_type": "stream",
     "text": [
      "Validation batch calculation: 72it [01:15,  1.04s/it]\n"
     ]
    },
    {
     "name": "stdout",
     "output_type": "stream",
     "text": [
      "Avg MAE TTNE prediction validation set: 0.2063869833946228 (standardized) ; 763.7788411458333 (minutes)'\n",
      "Avg 1-(normalized) DL distance acitivty suffix prediction validation set: 0.20695242285728455\n",
      "Percentage of suffixes predicted to END: too early - 0.013426896113913596 ; right moment - 0.09800200686703482 ; too late - 0.8885710970190516\n",
      "Too early instances - avg amount of events too early: 9.956787109375\n",
      "Too late instances - avg amount of events too late: 64.72157287597656\n",
      "Avg absolute amount of events predicted too early / too late: 57.64340591430664\n",
      "Avg MAE RRT prediction validation set:  12022.496875 (minutes)'\n",
      " \n",
      "------------------------------------\n",
      "EPOCH 5:\n",
      "____________________________________\n"
     ]
    },
    {
     "name": "stderr",
     "output_type": "stream",
     "text": [
      "Batch calculation at epoch 5.: 802it [00:41, 16.39it/s]"
     ]
    },
    {
     "name": "stdout",
     "output_type": "stream",
     "text": [
      "------------------------------------------------------------\n",
      "Epoch 5, batch 799:\n",
      "Average original gradient norm: 0.41220235481858253 (over last 800 batches)\n",
      "Average clipped gradient norm: 0.41072805002331736 (over last 800 batches)\n",
      "Running average global loss: 0.4949426071718335 (over last 800 batches)\n",
      "Running average activity prediction loss: 0.3290697697922587 (Cross Entropy over last 800 batches)\n",
      "Running average time till next event prediction loss: 0.1658728374261409 (MAE over last 800 batches)\n",
      "------------------------------------------------------------\n"
     ]
    },
    {
     "name": "stderr",
     "output_type": "stream",
     "text": [
      "Batch calculation at epoch 5.: 1601it [01:23, 13.50it/s]"
     ]
    },
    {
     "name": "stdout",
     "output_type": "stream",
     "text": [
      "------------------------------------------------------------\n",
      "Epoch 5, batch 1599:\n",
      "Average original gradient norm: 0.41256275050342084 (over last 800 batches)\n",
      "Average clipped gradient norm: 0.4044176531583071 (over last 800 batches)\n",
      "Running average global loss: 0.4927455036342144 (over last 800 batches)\n",
      "Running average activity prediction loss: 0.3279604417458177 (Cross Entropy over last 800 batches)\n",
      "Running average time till next event prediction loss: 0.16478506166487933 (MAE over last 800 batches)\n",
      "------------------------------------------------------------\n"
     ]
    },
    {
     "name": "stderr",
     "output_type": "stream",
     "text": [
      "Batch calculation at epoch 5.: 2401it [02:11, 14.45it/s]"
     ]
    },
    {
     "name": "stdout",
     "output_type": "stream",
     "text": [
      "------------------------------------------------------------\n",
      "Epoch 5, batch 2399:\n",
      "Average original gradient norm: 0.4290821287035942 (over last 800 batches)\n",
      "Average clipped gradient norm: 0.42706515580415727 (over last 800 batches)\n",
      "Running average global loss: 0.49217172127217057 (over last 800 batches)\n",
      "Running average activity prediction loss: 0.32789427407085897 (Cross Entropy over last 800 batches)\n",
      "Running average time till next event prediction loss: 0.16427744667977096 (MAE over last 800 batches)\n",
      "------------------------------------------------------------\n"
     ]
    },
    {
     "name": "stderr",
     "output_type": "stream",
     "text": [
      "Batch calculation at epoch 5.: 3202it [02:54, 17.82it/s]"
     ]
    },
    {
     "name": "stdout",
     "output_type": "stream",
     "text": [
      "------------------------------------------------------------\n",
      "Epoch 5, batch 3199:\n",
      "Average original gradient norm: 0.42320585664361715 (over last 800 batches)\n",
      "Average clipped gradient norm: 0.4214721412584186 (over last 800 batches)\n",
      "Running average global loss: 0.49175668876618145 (over last 800 batches)\n",
      "Running average activity prediction loss: 0.3264471174776554 (Cross Entropy over last 800 batches)\n",
      "Running average time till next event prediction loss: 0.1653095716703683 (MAE over last 800 batches)\n",
      "------------------------------------------------------------\n"
     ]
    },
    {
     "name": "stderr",
     "output_type": "stream",
     "text": [
      "Batch calculation at epoch 5.: 4002it [03:40, 11.93it/s]"
     ]
    },
    {
     "name": "stdout",
     "output_type": "stream",
     "text": [
      "------------------------------------------------------------\n",
      "Epoch 5, batch 3999:\n",
      "Average original gradient norm: 0.40315043576061727 (over last 800 batches)\n",
      "Average clipped gradient norm: 0.40147101439535615 (over last 800 batches)\n",
      "Running average global loss: 0.4913997344300151 (over last 800 batches)\n",
      "Running average activity prediction loss: 0.3261864726245403 (Cross Entropy over last 800 batches)\n",
      "Running average time till next event prediction loss: 0.16521326165646313 (MAE over last 800 batches)\n",
      "------------------------------------------------------------\n"
     ]
    },
    {
     "name": "stderr",
     "output_type": "stream",
     "text": [
      "Batch calculation at epoch 5.: 4798it [04:33, 17.56it/s]\n"
     ]
    },
    {
     "name": "stdout",
     "output_type": "stream",
     "text": [
      "=======================================\n",
      "End of epoch 5\n",
      "=======================================\n",
      "Running average global loss: 0.4893411261960864 (over last 800 batches)\n",
      "Running average activity prediction loss: 0.32569191344082354 (Cross Entropy over last 800 batches)\n",
      "Running average time till next event prediction loss: 0.16364921178668737 (MAE over last 800 batches)\n"
     ]
    },
    {
     "name": "stderr",
     "output_type": "stream",
     "text": [
      "Validation batch calculation: 72it [01:32,  1.28s/it]\n"
     ]
    },
    {
     "name": "stdout",
     "output_type": "stream",
     "text": [
      "Avg MAE TTNE prediction validation set: 0.20558908581733704 (standardized) ; 761.0264322916667 (minutes)'\n",
      "Avg 1-(normalized) DL distance acitivty suffix prediction validation set: 0.2015758752822876\n",
      "Percentage of suffixes predicted to END: too early - 0.00876468460104985 ; right moment - 0.09551731434773408 ; too late - 0.895718001051216\n",
      "Too early instances - avg amount of events too early: 10.15186882019043\n",
      "Too late instances - avg amount of events too late: 64.93482208251953\n",
      "Avg absolute amount of events predicted too early / too late: 58.25226593017578\n",
      "Avg MAE RRT prediction validation set:  12158.685416666667 (minutes)'\n",
      " \n",
      "------------------------------------\n",
      "EPOCH 6:\n",
      "____________________________________\n"
     ]
    },
    {
     "name": "stderr",
     "output_type": "stream",
     "text": [
      "Batch calculation at epoch 6.: 802it [00:37, 20.77it/s]"
     ]
    },
    {
     "name": "stdout",
     "output_type": "stream",
     "text": [
      "------------------------------------------------------------\n",
      "Epoch 6, batch 799:\n",
      "Average original gradient norm: 0.4145470005087554 (over last 800 batches)\n",
      "Average clipped gradient norm: 0.413916303049773 (over last 800 batches)\n",
      "Running average global loss: 0.48903428852558134 (over last 800 batches)\n",
      "Running average activity prediction loss: 0.32522824976593256 (Cross Entropy over last 800 batches)\n",
      "Running average time till next event prediction loss: 0.16380603896453977 (MAE over last 800 batches)\n",
      "------------------------------------------------------------\n"
     ]
    },
    {
     "name": "stderr",
     "output_type": "stream",
     "text": [
      "Batch calculation at epoch 6.: 1603it [01:02, 33.03it/s]"
     ]
    },
    {
     "name": "stdout",
     "output_type": "stream",
     "text": [
      "------------------------------------------------------------\n",
      "Epoch 6, batch 1599:\n",
      "Average original gradient norm: 0.4101809844002128 (over last 800 batches)\n",
      "Average clipped gradient norm: 0.4045392348989844 (over last 800 batches)\n",
      "Running average global loss: 0.4902751775458455 (over last 800 batches)\n",
      "Running average activity prediction loss: 0.3255285058543086 (Cross Entropy over last 800 batches)\n",
      "Running average time till next event prediction loss: 0.16474667213857175 (MAE over last 800 batches)\n",
      "------------------------------------------------------------\n"
     ]
    },
    {
     "name": "stderr",
     "output_type": "stream",
     "text": [
      "Batch calculation at epoch 6.: 2402it [01:41, 16.48it/s]"
     ]
    },
    {
     "name": "stdout",
     "output_type": "stream",
     "text": [
      "------------------------------------------------------------\n",
      "Epoch 6, batch 2399:\n",
      "Average original gradient norm: 0.3875017802417278 (over last 800 batches)\n",
      "Average clipped gradient norm: 0.3875017802417278 (over last 800 batches)\n",
      "Running average global loss: 0.48877369344234467 (over last 800 batches)\n",
      "Running average activity prediction loss: 0.3248725572228432 (Cross Entropy over last 800 batches)\n",
      "Running average time till next event prediction loss: 0.16390113577246665 (MAE over last 800 batches)\n",
      "------------------------------------------------------------\n"
     ]
    },
    {
     "name": "stderr",
     "output_type": "stream",
     "text": [
      "Batch calculation at epoch 6.: 3204it [02:19, 20.45it/s]"
     ]
    },
    {
     "name": "stdout",
     "output_type": "stream",
     "text": [
      "------------------------------------------------------------\n",
      "Epoch 6, batch 3199:\n",
      "Average original gradient norm: 0.4177583579905331 (over last 800 batches)\n",
      "Average clipped gradient norm: 0.4109996240027249 (over last 800 batches)\n",
      "Running average global loss: 0.48827276401221753 (over last 800 batches)\n",
      "Running average activity prediction loss: 0.3237897428870201 (Cross Entropy over last 800 batches)\n",
      "Running average time till next event prediction loss: 0.16448302078992127 (MAE over last 800 batches)\n",
      "------------------------------------------------------------\n"
     ]
    },
    {
     "name": "stderr",
     "output_type": "stream",
     "text": [
      "Batch calculation at epoch 6.: 4003it [02:56, 24.14it/s]"
     ]
    },
    {
     "name": "stdout",
     "output_type": "stream",
     "text": [
      "------------------------------------------------------------\n",
      "Epoch 6, batch 3999:\n",
      "Average original gradient norm: 0.3996628739126027 (over last 800 batches)\n",
      "Average clipped gradient norm: 0.3986967864818871 (over last 800 batches)\n",
      "Running average global loss: 0.4879626433551312 (over last 800 batches)\n",
      "Running average activity prediction loss: 0.3233451093360782 (Cross Entropy over last 800 batches)\n",
      "Running average time till next event prediction loss: 0.16461753322742878 (MAE over last 800 batches)\n",
      "------------------------------------------------------------\n"
     ]
    },
    {
     "name": "stderr",
     "output_type": "stream",
     "text": [
      "Batch calculation at epoch 6.: 4798it [03:21, 23.77it/s]\n"
     ]
    },
    {
     "name": "stdout",
     "output_type": "stream",
     "text": [
      "=======================================\n",
      "End of epoch 6\n",
      "=======================================\n",
      "Running average global loss: 0.48768840711563827 (over last 800 batches)\n",
      "Running average activity prediction loss: 0.32383008558303117 (Cross Entropy over last 800 batches)\n",
      "Running average time till next event prediction loss: 0.16385832213796675 (MAE over last 800 batches)\n"
     ]
    },
    {
     "name": "stderr",
     "output_type": "stream",
     "text": [
      "Validation batch calculation: 72it [01:14,  1.03s/it]\n"
     ]
    },
    {
     "name": "stdout",
     "output_type": "stream",
     "text": [
      "Avg MAE TTNE prediction validation set: 0.20618587732315063 (standardized) ; 763.3371744791667 (minutes)'\n",
      "Avg 1-(normalized) DL distance acitivty suffix prediction validation set: 0.20475296676158905\n",
      "Percentage of suffixes predicted to END: too early - 0.010409769483334129 ; right moment - 0.09567431414977781 ; too late - 0.893915916366888\n",
      "Too early instances - avg amount of events too early: 9.77639389038086\n",
      "Too late instances - avg amount of events too late: 64.7171401977539\n",
      "Avg absolute amount of events predicted too early / too late: 57.953453063964844\n",
      "Avg MAE RRT prediction validation set:  12050.021875 (minutes)'\n",
      " \n",
      "------------------------------------\n",
      "EPOCH 7:\n",
      "____________________________________\n"
     ]
    },
    {
     "name": "stderr",
     "output_type": "stream",
     "text": [
      "Batch calculation at epoch 7.: 802it [00:51, 12.71it/s]"
     ]
    },
    {
     "name": "stdout",
     "output_type": "stream",
     "text": [
      "------------------------------------------------------------\n",
      "Epoch 7, batch 799:\n",
      "Average original gradient norm: 0.4204263569414616 (over last 800 batches)\n",
      "Average clipped gradient norm: 0.4204263569414616 (over last 800 batches)\n",
      "Running average global loss: 0.48654214791953565 (over last 800 batches)\n",
      "Running average activity prediction loss: 0.32253636680543424 (Cross Entropy over last 800 batches)\n",
      "Running average time till next event prediction loss: 0.1640057815797627 (MAE over last 800 batches)\n",
      "------------------------------------------------------------\n"
     ]
    },
    {
     "name": "stderr",
     "output_type": "stream",
     "text": [
      "Batch calculation at epoch 7.: 1602it [01:36, 18.34it/s]"
     ]
    },
    {
     "name": "stdout",
     "output_type": "stream",
     "text": [
      "------------------------------------------------------------\n",
      "Epoch 7, batch 1599:\n",
      "Average original gradient norm: 0.42907879730686543 (over last 800 batches)\n",
      "Average clipped gradient norm: 0.4256508662365377 (over last 800 batches)\n",
      "Running average global loss: 0.48621187832206486 (over last 800 batches)\n",
      "Running average activity prediction loss: 0.32199144244194033 (Cross Entropy over last 800 batches)\n",
      "Running average time till next event prediction loss: 0.16422043580561876 (MAE over last 800 batches)\n",
      "------------------------------------------------------------\n"
     ]
    },
    {
     "name": "stderr",
     "output_type": "stream",
     "text": [
      "Batch calculation at epoch 7.: 2402it [02:18, 21.44it/s]"
     ]
    },
    {
     "name": "stdout",
     "output_type": "stream",
     "text": [
      "------------------------------------------------------------\n",
      "Epoch 7, batch 2399:\n",
      "Average original gradient norm: 0.4003945193067193 (over last 800 batches)\n",
      "Average clipped gradient norm: 0.4003945193067193 (over last 800 batches)\n",
      "Running average global loss: 0.4859959665313363 (over last 800 batches)\n",
      "Running average activity prediction loss: 0.32234191421419384 (Cross Entropy over last 800 batches)\n",
      "Running average time till next event prediction loss: 0.16365405190736054 (MAE over last 800 batches)\n",
      "------------------------------------------------------------\n"
     ]
    },
    {
     "name": "stderr",
     "output_type": "stream",
     "text": [
      "Batch calculation at epoch 7.: 3204it [02:56, 22.90it/s]"
     ]
    },
    {
     "name": "stdout",
     "output_type": "stream",
     "text": [
      "------------------------------------------------------------\n",
      "Epoch 7, batch 3199:\n",
      "Average original gradient norm: 0.4116232630051673 (over last 800 batches)\n",
      "Average clipped gradient norm: 0.40768965119495987 (over last 800 batches)\n",
      "Running average global loss: 0.4847975554317236 (over last 800 batches)\n",
      "Running average activity prediction loss: 0.32151491224765777 (Cross Entropy over last 800 batches)\n",
      "Running average time till next event prediction loss: 0.16328264279291033 (MAE over last 800 batches)\n",
      "------------------------------------------------------------\n"
     ]
    },
    {
     "name": "stderr",
     "output_type": "stream",
     "text": [
      "Batch calculation at epoch 7.: 4004it [03:36, 22.75it/s]"
     ]
    },
    {
     "name": "stdout",
     "output_type": "stream",
     "text": [
      "------------------------------------------------------------\n",
      "Epoch 7, batch 3999:\n",
      "Average original gradient norm: 0.41100411877036097 (over last 800 batches)\n",
      "Average clipped gradient norm: 0.41100411877036097 (over last 800 batches)\n",
      "Running average global loss: 0.48558997198939324 (over last 800 batches)\n",
      "Running average activity prediction loss: 0.32189346313476563 (Cross Entropy over last 800 batches)\n",
      "Running average time till next event prediction loss: 0.16369650915265083 (MAE over last 800 batches)\n",
      "------------------------------------------------------------\n"
     ]
    },
    {
     "name": "stderr",
     "output_type": "stream",
     "text": [
      "Batch calculation at epoch 7.: 4798it [04:18, 18.59it/s]\n"
     ]
    },
    {
     "name": "stdout",
     "output_type": "stream",
     "text": [
      "=======================================\n",
      "End of epoch 7\n",
      "=======================================\n",
      "Running average global loss: 0.48441131733357906 (over last 800 batches)\n",
      "Running average activity prediction loss: 0.32081694424152374 (Cross Entropy over last 800 batches)\n",
      "Running average time till next event prediction loss: 0.16359437238425018 (MAE over last 800 batches)\n"
     ]
    },
    {
     "name": "stderr",
     "output_type": "stream",
     "text": [
      "Validation batch calculation: 72it [01:39,  1.38s/it]\n"
     ]
    },
    {
     "name": "stdout",
     "output_type": "stream",
     "text": [
      "Avg MAE TTNE prediction validation set: 0.20594629645347595 (standardized) ; 761.9401692708333 (minutes)'\n",
      "Avg 1-(normalized) DL distance acitivty suffix prediction validation set: 0.22421665489673615\n",
      "Percentage of suffixes predicted to END: too early - 0.02687427046287637 ; right moment - 0.10088943800896946 ; too late - 0.8722362915281542\n",
      "Too early instances - avg amount of events too early: 10.0518159866333\n",
      "Too late instances - avg amount of events too late: 63.26087188720703\n",
      "Avg absolute amount of events predicted too early / too late: 55.44856262207031\n",
      "Avg MAE RRT prediction validation set:  12203.360416666666 (minutes)'\n",
      " \n",
      "------------------------------------\n",
      "EPOCH 8:\n",
      "____________________________________\n"
     ]
    },
    {
     "name": "stderr",
     "output_type": "stream",
     "text": [
      "Batch calculation at epoch 8.: 805it [00:25, 27.27it/s]"
     ]
    },
    {
     "name": "stdout",
     "output_type": "stream",
     "text": [
      "------------------------------------------------------------\n",
      "Epoch 8, batch 799:\n",
      "Average original gradient norm: 0.4010752588137984 (over last 800 batches)\n",
      "Average clipped gradient norm: 0.3988234716281295 (over last 800 batches)\n",
      "Running average global loss: 0.48462061733007433 (over last 800 batches)\n",
      "Running average activity prediction loss: 0.3208130964636803 (Cross Entropy over last 800 batches)\n",
      "Running average time till next event prediction loss: 0.16380752097815277 (MAE over last 800 batches)\n",
      "------------------------------------------------------------\n"
     ]
    },
    {
     "name": "stderr",
     "output_type": "stream",
     "text": [
      "Batch calculation at epoch 8.: 1601it [01:03, 19.17it/s]"
     ]
    },
    {
     "name": "stdout",
     "output_type": "stream",
     "text": [
      "------------------------------------------------------------\n",
      "Epoch 8, batch 1599:\n",
      "Average original gradient norm: 0.40898701900616286 (over last 800 batches)\n",
      "Average clipped gradient norm: 0.4068963658250868 (over last 800 batches)\n",
      "Running average global loss: 0.48306888036429885 (over last 800 batches)\n",
      "Running average activity prediction loss: 0.3202640751376748 (Cross Entropy over last 800 batches)\n",
      "Running average time till next event prediction loss: 0.16280480495654046 (MAE over last 800 batches)\n",
      "------------------------------------------------------------\n"
     ]
    },
    {
     "name": "stderr",
     "output_type": "stream",
     "text": [
      "Batch calculation at epoch 8.: 2403it [01:46, 26.18it/s]"
     ]
    },
    {
     "name": "stdout",
     "output_type": "stream",
     "text": [
      "------------------------------------------------------------\n",
      "Epoch 8, batch 2399:\n",
      "Average original gradient norm: 0.4345625158213079 (over last 800 batches)\n",
      "Average clipped gradient norm: 0.4327559981308877 (over last 800 batches)\n",
      "Running average global loss: 0.48364376701414585 (over last 800 batches)\n",
      "Running average activity prediction loss: 0.3197477775812149 (Cross Entropy over last 800 batches)\n",
      "Running average time till next event prediction loss: 0.16389598995447158 (MAE over last 800 batches)\n",
      "------------------------------------------------------------\n"
     ]
    },
    {
     "name": "stderr",
     "output_type": "stream",
     "text": [
      "Batch calculation at epoch 8.: 3203it [02:27, 25.15it/s]"
     ]
    },
    {
     "name": "stdout",
     "output_type": "stream",
     "text": [
      "------------------------------------------------------------\n",
      "Epoch 8, batch 3199:\n",
      "Average original gradient norm: 0.4066706784814596 (over last 800 batches)\n",
      "Average clipped gradient norm: 0.4066706784814596 (over last 800 batches)\n",
      "Running average global loss: 0.48260717794299124 (over last 800 batches)\n",
      "Running average activity prediction loss: 0.31913122233003377 (Cross Entropy over last 800 batches)\n",
      "Running average time till next event prediction loss: 0.16347595578059554 (MAE over last 800 batches)\n",
      "------------------------------------------------------------\n"
     ]
    },
    {
     "name": "stderr",
     "output_type": "stream",
     "text": [
      "Batch calculation at epoch 8.: 4009it [02:49, 48.71it/s]"
     ]
    },
    {
     "name": "stdout",
     "output_type": "stream",
     "text": [
      "------------------------------------------------------------\n",
      "Epoch 8, batch 3999:\n",
      "Average original gradient norm: 0.4169855252094567 (over last 800 batches)\n",
      "Average clipped gradient norm: 0.4169855252094567 (over last 800 batches)\n",
      "Running average global loss: 0.48243982553482057 (over last 800 batches)\n",
      "Running average activity prediction loss: 0.3186205440759659 (Cross Entropy over last 800 batches)\n",
      "Running average time till next event prediction loss: 0.16381928199902177 (MAE over last 800 batches)\n",
      "------------------------------------------------------------\n"
     ]
    },
    {
     "name": "stderr",
     "output_type": "stream",
     "text": [
      "Batch calculation at epoch 8.: 4798it [03:11, 25.06it/s]\n"
     ]
    },
    {
     "name": "stdout",
     "output_type": "stream",
     "text": [
      "=======================================\n",
      "End of epoch 8\n",
      "=======================================\n",
      "Running average global loss: 0.4811063143610954 (over last 800 batches)\n",
      "Running average activity prediction loss: 0.31877837389707564 (Cross Entropy over last 800 batches)\n",
      "Running average time till next event prediction loss: 0.16232794010080398 (MAE over last 800 batches)\n"
     ]
    },
    {
     "name": "stderr",
     "output_type": "stream",
     "text": [
      "Validation batch calculation: 72it [01:13,  1.02s/it]\n"
     ]
    },
    {
     "name": "stdout",
     "output_type": "stream",
     "text": [
      "Avg MAE TTNE prediction validation set: 0.2059594988822937 (standardized) ; 762.3020182291667 (minutes)'\n",
      "Avg 1-(normalized) DL distance acitivty suffix prediction validation set: 0.2125980705022812\n",
      "Percentage of suffixes predicted to END: too early - 0.01634163156924715 ; right moment - 0.09550366219103464 ; too late - 0.8881547062397183\n",
      "Too early instances - avg amount of events too early: 10.059314727783203\n",
      "Too late instances - avg amount of events too late: 63.93697738647461\n",
      "Avg absolute amount of events predicted too early / too late: 56.950313568115234\n",
      "Avg MAE RRT prediction validation set:  12046.175 (minutes)'\n",
      " \n",
      "------------------------------------\n",
      "EPOCH 9:\n",
      "____________________________________\n"
     ]
    },
    {
     "name": "stderr",
     "output_type": "stream",
     "text": [
      "Batch calculation at epoch 9.: 803it [00:40, 20.40it/s]"
     ]
    },
    {
     "name": "stdout",
     "output_type": "stream",
     "text": [
      "------------------------------------------------------------\n",
      "Epoch 9, batch 799:\n",
      "Average original gradient norm: 0.3894624731875956 (over last 800 batches)\n",
      "Average clipped gradient norm: 0.38317148650065064 (over last 800 batches)\n",
      "Running average global loss: 0.4822710356861353 (over last 800 batches)\n",
      "Running average activity prediction loss: 0.3183599052205682 (Cross Entropy over last 800 batches)\n",
      "Running average time till next event prediction loss: 0.16391113052144646 (MAE over last 800 batches)\n",
      "------------------------------------------------------------\n"
     ]
    },
    {
     "name": "stderr",
     "output_type": "stream",
     "text": [
      "Batch calculation at epoch 9.: 1604it [01:26, 29.69it/s]"
     ]
    },
    {
     "name": "stdout",
     "output_type": "stream",
     "text": [
      "------------------------------------------------------------\n",
      "Epoch 9, batch 1599:\n",
      "Average original gradient norm: 0.4032026509381831 (over last 800 batches)\n",
      "Average clipped gradient norm: 0.4032026509381831 (over last 800 batches)\n",
      "Running average global loss: 0.47974927347153423 (over last 800 batches)\n",
      "Running average activity prediction loss: 0.317519820779562 (Cross Entropy over last 800 batches)\n",
      "Running average time till next event prediction loss: 0.16222945272922515 (MAE over last 800 batches)\n",
      "------------------------------------------------------------\n"
     ]
    },
    {
     "name": "stderr",
     "output_type": "stream",
     "text": [
      "Batch calculation at epoch 9.: 2403it [01:58, 27.53it/s]"
     ]
    },
    {
     "name": "stdout",
     "output_type": "stream",
     "text": [
      "------------------------------------------------------------\n",
      "Epoch 9, batch 2399:\n",
      "Average original gradient norm: 0.5234785143099725 (over last 800 batches)\n",
      "Average clipped gradient norm: 0.4033374657295644 (over last 800 batches)\n",
      "Running average global loss: 0.48027078732848166 (over last 800 batches)\n",
      "Running average activity prediction loss: 0.3179738186299801 (Cross Entropy over last 800 batches)\n",
      "Running average time till next event prediction loss: 0.16229696868918836 (MAE over last 800 batches)\n",
      "------------------------------------------------------------\n"
     ]
    },
    {
     "name": "stderr",
     "output_type": "stream",
     "text": [
      "Batch calculation at epoch 9.: 3204it [02:27, 28.79it/s]"
     ]
    },
    {
     "name": "stdout",
     "output_type": "stream",
     "text": [
      "------------------------------------------------------------\n",
      "Epoch 9, batch 3199:\n",
      "Average original gradient norm: 0.42346387865021823 (over last 800 batches)\n",
      "Average clipped gradient norm: 0.42346387865021823 (over last 800 batches)\n",
      "Running average global loss: 0.48080767922103407 (over last 800 batches)\n",
      "Running average activity prediction loss: 0.3175328268483281 (Cross Entropy over last 800 batches)\n",
      "Running average time till next event prediction loss: 0.16327485238201916 (MAE over last 800 batches)\n",
      "------------------------------------------------------------\n"
     ]
    },
    {
     "name": "stderr",
     "output_type": "stream",
     "text": [
      "Batch calculation at epoch 9.: 4005it [02:55, 23.93it/s]"
     ]
    },
    {
     "name": "stdout",
     "output_type": "stream",
     "text": [
      "------------------------------------------------------------\n",
      "Epoch 9, batch 3999:\n",
      "Average original gradient norm: 0.41043656166642906 (over last 800 batches)\n",
      "Average clipped gradient norm: 0.41043656166642906 (over last 800 batches)\n",
      "Running average global loss: 0.48009891986846925 (over last 800 batches)\n",
      "Running average activity prediction loss: 0.3167996725067496 (Cross Entropy over last 800 batches)\n",
      "Running average time till next event prediction loss: 0.1632992479670793 (MAE over last 800 batches)\n",
      "------------------------------------------------------------\n"
     ]
    },
    {
     "name": "stderr",
     "output_type": "stream",
     "text": [
      "Batch calculation at epoch 9.: 4798it [03:22, 23.73it/s]\n"
     ]
    },
    {
     "name": "stdout",
     "output_type": "stream",
     "text": [
      "=======================================\n",
      "End of epoch 9\n",
      "=======================================\n",
      "Running average global loss: 0.4803373168408871 (over last 800 batches)\n",
      "Running average activity prediction loss: 0.3171811410784721 (Cross Entropy over last 800 batches)\n",
      "Running average time till next event prediction loss: 0.16315617597661913 (MAE over last 800 batches)\n"
     ]
    },
    {
     "name": "stderr",
     "output_type": "stream",
     "text": [
      "Validation batch calculation: 72it [01:19,  1.11s/it]\n"
     ]
    },
    {
     "name": "stdout",
     "output_type": "stream",
     "text": [
      "Avg MAE TTNE prediction validation set: 0.206022247672081 (standardized) ; 762.487109375 (minutes)'\n",
      "Avg 1-(normalized) DL distance acitivty suffix prediction validation set: 0.2465486377477646\n",
      "Percentage of suffixes predicted to END: too early - 0.0427107722342437 ; right moment - 0.10456869423947249 ; too late - 0.8527205335262839\n",
      "Too early instances - avg amount of events too early: 9.93063735961914\n",
      "Too late instances - avg amount of events too late: 60.82236862182617\n",
      "Avg absolute amount of events predicted too early / too late: 52.28862762451172\n",
      "Avg MAE RRT prediction validation set:  11810.2625 (minutes)'\n",
      " \n",
      "------------------------------------\n",
      "EPOCH 10:\n",
      "____________________________________\n"
     ]
    },
    {
     "name": "stderr",
     "output_type": "stream",
     "text": [
      "Batch calculation at epoch 10.: 804it [00:29, 38.57it/s]"
     ]
    },
    {
     "name": "stdout",
     "output_type": "stream",
     "text": [
      "------------------------------------------------------------\n",
      "Epoch 10, batch 799:\n",
      "Average original gradient norm: 0.40955412907525895 (over last 800 batches)\n",
      "Average clipped gradient norm: 0.4084155615977943 (over last 800 batches)\n",
      "Running average global loss: 0.4785453123599291 (over last 800 batches)\n",
      "Running average activity prediction loss: 0.3157765408605337 (Cross Entropy over last 800 batches)\n",
      "Running average time till next event prediction loss: 0.1627687708567828 (MAE over last 800 batches)\n",
      "------------------------------------------------------------\n"
     ]
    },
    {
     "name": "stderr",
     "output_type": "stream",
     "text": [
      "Batch calculation at epoch 10.: 1607it [00:50, 53.93it/s]"
     ]
    },
    {
     "name": "stdout",
     "output_type": "stream",
     "text": [
      "------------------------------------------------------------\n",
      "Epoch 10, batch 1599:\n",
      "Average original gradient norm: 0.4211294827796519 (over last 800 batches)\n",
      "Average clipped gradient norm: 0.4211294827796519 (over last 800 batches)\n",
      "Running average global loss: 0.4791065108403563 (over last 800 batches)\n",
      "Running average activity prediction loss: 0.3163871706277132 (Cross Entropy over last 800 batches)\n",
      "Running average time till next event prediction loss: 0.16271934053860604 (MAE over last 800 batches)\n",
      "------------------------------------------------------------\n"
     ]
    },
    {
     "name": "stderr",
     "output_type": "stream",
     "text": [
      "Batch calculation at epoch 10.: 2406it [01:08, 30.24it/s]"
     ]
    },
    {
     "name": "stdout",
     "output_type": "stream",
     "text": [
      "------------------------------------------------------------\n",
      "Epoch 10, batch 2399:\n",
      "Average original gradient norm: 0.4137469932623208 (over last 800 batches)\n",
      "Average clipped gradient norm: 0.40155999721959235 (over last 800 batches)\n",
      "Running average global loss: 0.4786673367023468 (over last 800 batches)\n",
      "Running average activity prediction loss: 0.31563381146639585 (Cross Entropy over last 800 batches)\n",
      "Running average time till next event prediction loss: 0.16303352552466094 (MAE over last 800 batches)\n",
      "------------------------------------------------------------\n"
     ]
    },
    {
     "name": "stderr",
     "output_type": "stream",
     "text": [
      "Batch calculation at epoch 10.: 3204it [01:43, 21.59it/s]"
     ]
    },
    {
     "name": "stdout",
     "output_type": "stream",
     "text": [
      "------------------------------------------------------------\n",
      "Epoch 10, batch 3199:\n",
      "Average original gradient norm: 0.3940082421526313 (over last 800 batches)\n",
      "Average clipped gradient norm: 0.3940082421526313 (over last 800 batches)\n",
      "Running average global loss: 0.47873516399413346 (over last 800 batches)\n",
      "Running average activity prediction loss: 0.3158994837105274 (Cross Entropy over last 800 batches)\n",
      "Running average time till next event prediction loss: 0.16283568019047379 (MAE over last 800 batches)\n",
      "------------------------------------------------------------\n"
     ]
    },
    {
     "name": "stderr",
     "output_type": "stream",
     "text": [
      "Batch calculation at epoch 10.: 4002it [02:21, 27.83it/s]"
     ]
    },
    {
     "name": "stdout",
     "output_type": "stream",
     "text": [
      "------------------------------------------------------------\n",
      "Epoch 10, batch 3999:\n",
      "Average original gradient norm: 0.4276110654324293 (over last 800 batches)\n",
      "Average clipped gradient norm: 0.4276110654324293 (over last 800 batches)\n",
      "Running average global loss: 0.478279588855803 (over last 800 batches)\n",
      "Running average activity prediction loss: 0.31596097569912673 (Cross Entropy over last 800 batches)\n",
      "Running average time till next event prediction loss: 0.16231861313804985 (MAE over last 800 batches)\n",
      "------------------------------------------------------------\n"
     ]
    },
    {
     "name": "stderr",
     "output_type": "stream",
     "text": [
      "Batch calculation at epoch 10.: 4798it [02:45, 28.94it/s]\n"
     ]
    },
    {
     "name": "stdout",
     "output_type": "stream",
     "text": [
      "=======================================\n",
      "End of epoch 10\n",
      "=======================================\n",
      "Running average global loss: 0.47849185034632685 (over last 800 batches)\n",
      "Running average activity prediction loss: 0.3157888921350241 (Cross Entropy over last 800 batches)\n",
      "Running average time till next event prediction loss: 0.16270295831374823 (MAE over last 800 batches)\n"
     ]
    },
    {
     "name": "stderr",
     "output_type": "stream",
     "text": [
      "Validation batch calculation: 72it [01:00,  1.19it/s]\n"
     ]
    },
    {
     "name": "stdout",
     "output_type": "stream",
     "text": [
      "Avg MAE TTNE prediction validation set: 0.20585769414901733 (standardized) ; 762.0845052083333 (minutes)'\n",
      "Avg 1-(normalized) DL distance acitivty suffix prediction validation set: 0.2263014316558838\n",
      "Percentage of suffixes predicted to END: too early - 0.028369181621466653 ; right moment - 0.10215226250366902 ; too late - 0.8694785558748643\n",
      "Too early instances - avg amount of events too early: 9.903031349182129\n",
      "Too late instances - avg amount of events too late: 63.14936065673828\n",
      "Avg absolute amount of events predicted too early / too late: 55.187957763671875\n",
      "Avg MAE RRT prediction validation set:  12010.255208333334 (minutes)'\n",
      " \n",
      "------------------------------------\n",
      "EPOCH 11:\n",
      "____________________________________\n"
     ]
    },
    {
     "name": "stderr",
     "output_type": "stream",
     "text": [
      "Batch calculation at epoch 11.: 805it [00:20, 45.72it/s]"
     ]
    },
    {
     "name": "stdout",
     "output_type": "stream",
     "text": [
      "------------------------------------------------------------\n",
      "Epoch 11, batch 799:\n",
      "Average original gradient norm: 0.4257371243648231 (over last 800 batches)\n",
      "Average clipped gradient norm: 0.4102227563969791 (over last 800 batches)\n",
      "Running average global loss: 0.47731743831187484 (over last 800 batches)\n",
      "Running average activity prediction loss: 0.31567237302660944 (Cross Entropy over last 800 batches)\n",
      "Running average time till next event prediction loss: 0.16164506638422607 (MAE over last 800 batches)\n",
      "------------------------------------------------------------\n"
     ]
    },
    {
     "name": "stderr",
     "output_type": "stream",
     "text": [
      "Batch calculation at epoch 11.: 1603it [00:45, 26.18it/s]"
     ]
    },
    {
     "name": "stdout",
     "output_type": "stream",
     "text": [
      "------------------------------------------------------------\n",
      "Epoch 11, batch 1599:\n",
      "Average original gradient norm: 0.4118345068395138 (over last 800 batches)\n",
      "Average clipped gradient norm: 0.4118345068395138 (over last 800 batches)\n",
      "Running average global loss: 0.47756710696965454 (over last 800 batches)\n",
      "Running average activity prediction loss: 0.31467629231512545 (Cross Entropy over last 800 batches)\n",
      "Running average time till next event prediction loss: 0.1628908140026033 (MAE over last 800 batches)\n",
      "------------------------------------------------------------\n"
     ]
    },
    {
     "name": "stderr",
     "output_type": "stream",
     "text": [
      "Batch calculation at epoch 11.: 2403it [01:19, 18.07it/s]"
     ]
    },
    {
     "name": "stdout",
     "output_type": "stream",
     "text": [
      "------------------------------------------------------------\n",
      "Epoch 11, batch 2399:\n",
      "Average original gradient norm: 0.40174243729561565 (over last 800 batches)\n",
      "Average clipped gradient norm: 0.40174243729561565 (over last 800 batches)\n",
      "Running average global loss: 0.47591042298823594 (over last 800 batches)\n",
      "Running average activity prediction loss: 0.3136822057142854 (Cross Entropy over last 800 batches)\n",
      "Running average time till next event prediction loss: 0.1622282171808183 (MAE over last 800 batches)\n",
      "------------------------------------------------------------\n"
     ]
    },
    {
     "name": "stderr",
     "output_type": "stream",
     "text": [
      "Batch calculation at epoch 11.: 3206it [01:55, 36.66it/s]"
     ]
    },
    {
     "name": "stdout",
     "output_type": "stream",
     "text": [
      "------------------------------------------------------------\n",
      "Epoch 11, batch 3199:\n",
      "Average original gradient norm: 0.44453595316037536 (over last 800 batches)\n",
      "Average clipped gradient norm: 0.4435168435238302 (over last 800 batches)\n",
      "Running average global loss: 0.4778606151789427 (over last 800 batches)\n",
      "Running average activity prediction loss: 0.31514009218662975 (Cross Entropy over last 800 batches)\n",
      "Running average time till next event prediction loss: 0.16272052324377 (MAE over last 800 batches)\n",
      "------------------------------------------------------------\n"
     ]
    },
    {
     "name": "stderr",
     "output_type": "stream",
     "text": [
      "Batch calculation at epoch 11.: 4005it [02:23, 32.11it/s]"
     ]
    },
    {
     "name": "stdout",
     "output_type": "stream",
     "text": [
      "------------------------------------------------------------\n",
      "Epoch 11, batch 3999:\n",
      "Average original gradient norm: 0.41417853396385906 (over last 800 batches)\n",
      "Average clipped gradient norm: 0.4127309533581138 (over last 800 batches)\n",
      "Running average global loss: 0.47676987819373606 (over last 800 batches)\n",
      "Running average activity prediction loss: 0.31428739268332717 (Cross Entropy over last 800 batches)\n",
      "Running average time till next event prediction loss: 0.1624824857339263 (MAE over last 800 batches)\n",
      "------------------------------------------------------------\n"
     ]
    },
    {
     "name": "stderr",
     "output_type": "stream",
     "text": [
      "Batch calculation at epoch 11.: 4798it [02:51, 28.06it/s]\n"
     ]
    },
    {
     "name": "stdout",
     "output_type": "stream",
     "text": [
      "=======================================\n",
      "End of epoch 11\n",
      "=======================================\n",
      "Running average global loss: 0.47678126018494366 (over last 800 batches)\n",
      "Running average activity prediction loss: 0.3141588903963566 (Cross Entropy over last 800 batches)\n",
      "Running average time till next event prediction loss: 0.16262236959300935 (MAE over last 800 batches)\n"
     ]
    },
    {
     "name": "stderr",
     "output_type": "stream",
     "text": [
      "Validation batch calculation: 72it [01:14,  1.04s/it]\n"
     ]
    },
    {
     "name": "stdout",
     "output_type": "stream",
     "text": [
      "Avg MAE TTNE prediction validation set: 0.20619350671768188 (standardized) ; 763.5904947916666 (minutes)'\n",
      "Avg 1-(normalized) DL distance acitivty suffix prediction validation set: 0.24883170425891876\n",
      "Percentage of suffixes predicted to END: too early - 0.04154351283644034 ; right moment - 0.1041727816951883 ; too late - 0.8542837054683714\n",
      "Too early instances - avg amount of events too early: 9.755504608154297\n",
      "Too late instances - avg amount of events too late: 60.20302963256836\n",
      "Avg absolute amount of events predicted too early / too late: 51.83574295043945\n",
      "Avg MAE RRT prediction validation set:  12030.084375 (minutes)'\n",
      " \n",
      "------------------------------------\n",
      "EPOCH 12:\n",
      "____________________________________\n"
     ]
    },
    {
     "name": "stderr",
     "output_type": "stream",
     "text": [
      "Batch calculation at epoch 12.: 804it [00:29, 33.79it/s]"
     ]
    },
    {
     "name": "stdout",
     "output_type": "stream",
     "text": [
      "------------------------------------------------------------\n",
      "Epoch 12, batch 799:\n",
      "Average original gradient norm: 0.3866670736670494 (over last 800 batches)\n",
      "Average clipped gradient norm: 0.3866670736670494 (over last 800 batches)\n",
      "Running average global loss: 0.4749518115073442 (over last 800 batches)\n",
      "Running average activity prediction loss: 0.3134810272231698 (Cross Entropy over last 800 batches)\n",
      "Running average time till next event prediction loss: 0.16147078431211412 (MAE over last 800 batches)\n",
      "------------------------------------------------------------\n"
     ]
    },
    {
     "name": "stderr",
     "output_type": "stream",
     "text": [
      "Batch calculation at epoch 12.: 1602it [01:05, 18.34it/s]"
     ]
    },
    {
     "name": "stdout",
     "output_type": "stream",
     "text": [
      "------------------------------------------------------------\n",
      "Epoch 12, batch 1599:\n",
      "Average original gradient norm: 0.3914740408957005 (over last 800 batches)\n",
      "Average clipped gradient norm: 0.3914740408957005 (over last 800 batches)\n",
      "Running average global loss: 0.4766769015043974 (over last 800 batches)\n",
      "Running average activity prediction loss: 0.31464697360992433 (Cross Entropy over last 800 batches)\n",
      "Running average time till next event prediction loss: 0.1620299285184592 (MAE over last 800 batches)\n",
      "------------------------------------------------------------\n"
     ]
    },
    {
     "name": "stderr",
     "output_type": "stream",
     "text": [
      "Batch calculation at epoch 12.: 2407it [01:23, 40.27it/s]"
     ]
    },
    {
     "name": "stdout",
     "output_type": "stream",
     "text": [
      "------------------------------------------------------------\n",
      "Epoch 12, batch 2399:\n",
      "Average original gradient norm: 0.4320891980826855 (over last 800 batches)\n",
      "Average clipped gradient norm: 0.427255694270134 (over last 800 batches)\n",
      "Running average global loss: 0.4751191837340593 (over last 800 batches)\n",
      "Running average activity prediction loss: 0.3140808688849211 (Cross Entropy over last 800 batches)\n",
      "Running average time till next event prediction loss: 0.16103831549175085 (MAE over last 800 batches)\n",
      "------------------------------------------------------------\n"
     ]
    },
    {
     "name": "stderr",
     "output_type": "stream",
     "text": [
      "Batch calculation at epoch 12.: 3205it [01:39, 41.71it/s]"
     ]
    },
    {
     "name": "stdout",
     "output_type": "stream",
     "text": [
      "------------------------------------------------------------\n",
      "Epoch 12, batch 3199:\n",
      "Average original gradient norm: 0.40700427882373336 (over last 800 batches)\n",
      "Average clipped gradient norm: 0.40700427882373336 (over last 800 batches)\n",
      "Running average global loss: 0.4766966275125742 (over last 800 batches)\n",
      "Running average activity prediction loss: 0.3131635157763958 (Cross Entropy over last 800 batches)\n",
      "Running average time till next event prediction loss: 0.1635331114381552 (MAE over last 800 batches)\n",
      "------------------------------------------------------------\n"
     ]
    },
    {
     "name": "stderr",
     "output_type": "stream",
     "text": [
      "Batch calculation at epoch 12.: 4004it [01:55, 28.25it/s]"
     ]
    },
    {
     "name": "stdout",
     "output_type": "stream",
     "text": [
      "------------------------------------------------------------\n",
      "Epoch 12, batch 3999:\n",
      "Average original gradient norm: 0.4315997330099344 (over last 800 batches)\n",
      "Average clipped gradient norm: 0.42216173611581326 (over last 800 batches)\n",
      "Running average global loss: 0.4752717152237892 (over last 800 batches)\n",
      "Running average activity prediction loss: 0.312610674649477 (Cross Entropy over last 800 batches)\n",
      "Running average time till next event prediction loss: 0.162661040937528 (MAE over last 800 batches)\n",
      "------------------------------------------------------------\n"
     ]
    },
    {
     "name": "stderr",
     "output_type": "stream",
     "text": [
      "Batch calculation at epoch 12.: 4798it [02:19, 34.48it/s]\n"
     ]
    },
    {
     "name": "stdout",
     "output_type": "stream",
     "text": [
      "=======================================\n",
      "End of epoch 12\n",
      "=======================================\n",
      "Running average global loss: 0.47571390636265276 (over last 800 batches)\n",
      "Running average activity prediction loss: 0.3133429293707013 (Cross Entropy over last 800 batches)\n",
      "Running average time till next event prediction loss: 0.1623709764610976 (MAE over last 800 batches)\n"
     ]
    },
    {
     "name": "stderr",
     "output_type": "stream",
     "text": [
      "Validation batch calculation: 72it [01:00,  1.18it/s]\n"
     ]
    },
    {
     "name": "stdout",
     "output_type": "stream",
     "text": [
      "Avg MAE TTNE prediction validation set: 0.20628370344638824 (standardized) ; 763.9530598958333 (minutes)'\n",
      "Avg 1-(normalized) DL distance acitivty suffix prediction validation set: 0.22570671141147614\n",
      "Percentage of suffixes predicted to END: too early - 0.026887922619575826 ; right moment - 0.10211813211192038 ; too late - 0.8709939452685038\n",
      "Too early instances - avg amount of events too early: 10.103325843811035\n",
      "Too late instances - avg amount of events too late: 63.176483154296875\n",
      "Avg absolute amount of events predicted too early / too late: 55.29799270629883\n",
      "Avg MAE RRT prediction validation set:  11757.263541666667 (minutes)'\n",
      " \n",
      "------------------------------------\n",
      "EPOCH 13:\n",
      "____________________________________\n"
     ]
    },
    {
     "name": "stderr",
     "output_type": "stream",
     "text": [
      "Batch calculation at epoch 13.: 805it [00:30, 24.23it/s]"
     ]
    },
    {
     "name": "stdout",
     "output_type": "stream",
     "text": [
      "------------------------------------------------------------\n",
      "Epoch 13, batch 799:\n",
      "Average original gradient norm: 0.3871543709933758 (over last 800 batches)\n",
      "Average clipped gradient norm: 0.3871543709933758 (over last 800 batches)\n",
      "Running average global loss: 0.4746746518835425 (over last 800 batches)\n",
      "Running average activity prediction loss: 0.312825644351542 (Cross Entropy over last 800 batches)\n",
      "Running average time till next event prediction loss: 0.16184900753200054 (MAE over last 800 batches)\n",
      "------------------------------------------------------------\n"
     ]
    },
    {
     "name": "stderr",
     "output_type": "stream",
     "text": [
      "Batch calculation at epoch 13.: 1603it [01:07, 28.23it/s]"
     ]
    },
    {
     "name": "stdout",
     "output_type": "stream",
     "text": [
      "------------------------------------------------------------\n",
      "Epoch 13, batch 1599:\n",
      "Average original gradient norm: 0.451219033524394 (over last 800 batches)\n",
      "Average clipped gradient norm: 0.451219033524394 (over last 800 batches)\n",
      "Running average global loss: 0.475526342317462 (over last 800 batches)\n",
      "Running average activity prediction loss: 0.31320351876318453 (Cross Entropy over last 800 batches)\n",
      "Running average time till next event prediction loss: 0.1623228235077113 (MAE over last 800 batches)\n",
      "------------------------------------------------------------\n"
     ]
    },
    {
     "name": "stderr",
     "output_type": "stream",
     "text": [
      "Batch calculation at epoch 13.: 2406it [01:38, 27.18it/s]"
     ]
    },
    {
     "name": "stdout",
     "output_type": "stream",
     "text": [
      "------------------------------------------------------------\n",
      "Epoch 13, batch 2399:\n",
      "Average original gradient norm: 0.38102274799719454 (over last 800 batches)\n",
      "Average clipped gradient norm: 0.38102274799719454 (over last 800 batches)\n",
      "Running average global loss: 0.47477958362549544 (over last 800 batches)\n",
      "Running average activity prediction loss: 0.31287078116089106 (Cross Entropy over last 800 batches)\n",
      "Running average time till next event prediction loss: 0.16190880288369955 (MAE over last 800 batches)\n",
      "------------------------------------------------------------\n"
     ]
    },
    {
     "name": "stderr",
     "output_type": "stream",
     "text": [
      "Batch calculation at epoch 13.: 3206it [02:05, 51.96it/s]"
     ]
    },
    {
     "name": "stdout",
     "output_type": "stream",
     "text": [
      "------------------------------------------------------------\n",
      "Epoch 13, batch 3199:\n",
      "Average original gradient norm: 0.4310729686357081 (over last 800 batches)\n",
      "Average clipped gradient norm: 0.42793592968955635 (over last 800 batches)\n",
      "Running average global loss: 0.47331396527588365 (over last 800 batches)\n",
      "Running average activity prediction loss: 0.31204128574579953 (Cross Entropy over last 800 batches)\n",
      "Running average time till next event prediction loss: 0.1612726797349751 (MAE over last 800 batches)\n",
      "------------------------------------------------------------\n"
     ]
    },
    {
     "name": "stderr",
     "output_type": "stream",
     "text": [
      "Batch calculation at epoch 13.: 4007it [02:25, 39.63it/s]"
     ]
    },
    {
     "name": "stdout",
     "output_type": "stream",
     "text": [
      "------------------------------------------------------------\n",
      "Epoch 13, batch 3999:\n",
      "Average original gradient norm: 0.40223790977150203 (over last 800 batches)\n",
      "Average clipped gradient norm: 0.4015775350108743 (over last 800 batches)\n",
      "Running average global loss: 0.47554183695465324 (over last 800 batches)\n",
      "Running average activity prediction loss: 0.31257963337004185 (Cross Entropy over last 800 batches)\n",
      "Running average time till next event prediction loss: 0.16296220278367402 (MAE over last 800 batches)\n",
      "------------------------------------------------------------\n"
     ]
    },
    {
     "name": "stderr",
     "output_type": "stream",
     "text": [
      "Batch calculation at epoch 13.: 4798it [02:46, 28.88it/s]\n"
     ]
    },
    {
     "name": "stdout",
     "output_type": "stream",
     "text": [
      "=======================================\n",
      "End of epoch 13\n",
      "=======================================\n",
      "Running average global loss: 0.47447066444903613 (over last 800 batches)\n",
      "Running average activity prediction loss: 0.31283941481262445 (Cross Entropy over last 800 batches)\n",
      "Running average time till next event prediction loss: 0.1616312506981194 (MAE over last 800 batches)\n"
     ]
    },
    {
     "name": "stderr",
     "output_type": "stream",
     "text": [
      "Validation batch calculation: 72it [01:08,  1.05it/s]\n"
     ]
    },
    {
     "name": "stdout",
     "output_type": "stream",
     "text": [
      "Avg MAE TTNE prediction validation set: 0.206402987241745 (standardized) ; 764.3707682291666 (minutes)'\n",
      "Avg 1-(normalized) DL distance acitivty suffix prediction validation set: 0.24448207020759583\n",
      "Percentage of suffixes predicted to END: too early - 0.03782330013583896 ; right moment - 0.10257547936135211 ; too late - 0.859601220502809\n",
      "Too early instances - avg amount of events too early: 9.79335880279541\n",
      "Too late instances - avg amount of events too late: 60.54104995727539\n",
      "Avg absolute amount of events predicted too early / too late: 52.41157913208008\n",
      "Avg MAE RRT prediction validation set:  12057.169791666667 (minutes)'\n",
      " \n",
      "------------------------------------\n",
      "EPOCH 14:\n",
      "____________________________________\n"
     ]
    },
    {
     "name": "stderr",
     "output_type": "stream",
     "text": [
      "Batch calculation at epoch 14.: 806it [00:27, 31.25it/s]"
     ]
    },
    {
     "name": "stdout",
     "output_type": "stream",
     "text": [
      "------------------------------------------------------------\n",
      "Epoch 14, batch 799:\n",
      "Average original gradient norm: 0.3962764048576355 (over last 800 batches)\n",
      "Average clipped gradient norm: 0.3962764048576355 (over last 800 batches)\n",
      "Running average global loss: 0.47327792409807445 (over last 800 batches)\n",
      "Running average activity prediction loss: 0.31201951880007983 (Cross Entropy over last 800 batches)\n",
      "Running average time till next event prediction loss: 0.16125840545631945 (MAE over last 800 batches)\n",
      "------------------------------------------------------------\n"
     ]
    },
    {
     "name": "stderr",
     "output_type": "stream",
     "text": [
      "Batch calculation at epoch 14.: 1606it [00:54, 31.75it/s]"
     ]
    },
    {
     "name": "stdout",
     "output_type": "stream",
     "text": [
      "------------------------------------------------------------\n",
      "Epoch 14, batch 1599:\n",
      "Average original gradient norm: 0.4028991805016994 (over last 800 batches)\n",
      "Average clipped gradient norm: 0.40093359142541884 (over last 800 batches)\n",
      "Running average global loss: 0.47387394707649944 (over last 800 batches)\n",
      "Running average activity prediction loss: 0.3120525497943163 (Cross Entropy over last 800 batches)\n",
      "Running average time till next event prediction loss: 0.1618213968910277 (MAE over last 800 batches)\n",
      "------------------------------------------------------------\n"
     ]
    },
    {
     "name": "stderr",
     "output_type": "stream",
     "text": [
      "Batch calculation at epoch 14.: 2402it [01:27, 18.75it/s]"
     ]
    },
    {
     "name": "stdout",
     "output_type": "stream",
     "text": [
      "------------------------------------------------------------\n",
      "Epoch 14, batch 2399:\n",
      "Average original gradient norm: 0.3998056765832007 (over last 800 batches)\n",
      "Average clipped gradient norm: 0.3998056765832007 (over last 800 batches)\n",
      "Running average global loss: 0.47338187601417303 (over last 800 batches)\n",
      "Running average activity prediction loss: 0.31157142236828805 (Cross Entropy over last 800 batches)\n",
      "Running average time till next event prediction loss: 0.1618104534689337 (MAE over last 800 batches)\n",
      "------------------------------------------------------------\n"
     ]
    },
    {
     "name": "stderr",
     "output_type": "stream",
     "text": [
      "Batch calculation at epoch 14.: 3206it [01:54, 38.48it/s]"
     ]
    },
    {
     "name": "stdout",
     "output_type": "stream",
     "text": [
      "------------------------------------------------------------\n",
      "Epoch 14, batch 3199:\n",
      "Average original gradient norm: 0.41175746623426673 (over last 800 batches)\n",
      "Average clipped gradient norm: 0.41175746623426673 (over last 800 batches)\n",
      "Running average global loss: 0.47335459038615224 (over last 800 batches)\n",
      "Running average activity prediction loss: 0.31142429400235416 (Cross Entropy over last 800 batches)\n",
      "Running average time till next event prediction loss: 0.16193029613234103 (MAE over last 800 batches)\n",
      "------------------------------------------------------------\n"
     ]
    },
    {
     "name": "stderr",
     "output_type": "stream",
     "text": [
      "Batch calculation at epoch 14.: 4006it [02:22, 32.99it/s]"
     ]
    },
    {
     "name": "stdout",
     "output_type": "stream",
     "text": [
      "------------------------------------------------------------\n",
      "Epoch 14, batch 3999:\n",
      "Average original gradient norm: 0.40981088105589153 (over last 800 batches)\n",
      "Average clipped gradient norm: 0.40981088105589153 (over last 800 batches)\n",
      "Running average global loss: 0.473983247987926 (over last 800 batches)\n",
      "Running average activity prediction loss: 0.3118612240254879 (Cross Entropy over last 800 batches)\n",
      "Running average time till next event prediction loss: 0.1621220241021365 (MAE over last 800 batches)\n",
      "------------------------------------------------------------\n"
     ]
    },
    {
     "name": "stderr",
     "output_type": "stream",
     "text": [
      "Batch calculation at epoch 14.: 4798it [02:56, 27.19it/s]\n"
     ]
    },
    {
     "name": "stdout",
     "output_type": "stream",
     "text": [
      "=======================================\n",
      "End of epoch 14\n",
      "=======================================\n",
      "Running average global loss: 0.4743623308464885 (over last 800 batches)\n",
      "Running average activity prediction loss: 0.3125011270865798 (Cross Entropy over last 800 batches)\n",
      "Running average time till next event prediction loss: 0.16186120379716157 (MAE over last 800 batches)\n"
     ]
    },
    {
     "name": "stderr",
     "output_type": "stream",
     "text": [
      "Validation batch calculation: 72it [01:22,  1.14s/it]\n"
     ]
    },
    {
     "name": "stdout",
     "output_type": "stream",
     "text": [
      "Avg MAE TTNE prediction validation set: 0.20648635923862457 (standardized) ; 764.8376302083333 (minutes)'\n",
      "Avg 1-(normalized) DL distance acitivty suffix prediction validation set: 0.2104368805885315\n",
      "Percentage of suffixes predicted to END: too early - 0.013310852781968231 ; right moment - 0.09714874707331891 ; too late - 0.8895404001447128\n",
      "Too early instances - avg amount of events too early: 9.909231185913086\n",
      "Too late instances - avg amount of events too late: 64.18219757080078\n",
      "Avg absolute amount of events predicted too early / too late: 57.22455596923828\n",
      "Avg MAE RRT prediction validation set:  12118.45 (minutes)'\n",
      " \n",
      "------------------------------------\n",
      "EPOCH 15:\n",
      "____________________________________\n"
     ]
    },
    {
     "name": "stderr",
     "output_type": "stream",
     "text": [
      "Batch calculation at epoch 15.: 804it [00:21, 43.82it/s]"
     ]
    },
    {
     "name": "stdout",
     "output_type": "stream",
     "text": [
      "------------------------------------------------------------\n",
      "Epoch 15, batch 799:\n",
      "Average original gradient norm: 0.4055294463969767 (over last 800 batches)\n",
      "Average clipped gradient norm: 0.40509750777855513 (over last 800 batches)\n",
      "Running average global loss: 0.4734766611084342 (over last 800 batches)\n",
      "Running average activity prediction loss: 0.3116793783381581 (Cross Entropy over last 800 batches)\n",
      "Running average time till next event prediction loss: 0.16179728256538511 (MAE over last 800 batches)\n",
      "------------------------------------------------------------\n"
     ]
    },
    {
     "name": "stderr",
     "output_type": "stream",
     "text": [
      "Batch calculation at epoch 15.: 1605it [00:45, 41.49it/s]"
     ]
    },
    {
     "name": "stdout",
     "output_type": "stream",
     "text": [
      "------------------------------------------------------------\n",
      "Epoch 15, batch 1599:\n",
      "Average original gradient norm: 0.3972292154468596 (over last 800 batches)\n",
      "Average clipped gradient norm: 0.3972292154468596 (over last 800 batches)\n",
      "Running average global loss: 0.4721731436625123 (over last 800 batches)\n",
      "Running average activity prediction loss: 0.3109462425485253 (Cross Entropy over last 800 batches)\n",
      "Running average time till next event prediction loss: 0.161226900909096 (MAE over last 800 batches)\n",
      "------------------------------------------------------------\n"
     ]
    },
    {
     "name": "stderr",
     "output_type": "stream",
     "text": [
      "Batch calculation at epoch 15.: 2405it [01:08, 32.41it/s]"
     ]
    },
    {
     "name": "stdout",
     "output_type": "stream",
     "text": [
      "------------------------------------------------------------\n",
      "Epoch 15, batch 2399:\n",
      "Average original gradient norm: 0.43847662549465893 (over last 800 batches)\n",
      "Average clipped gradient norm: 0.43847662549465893 (over last 800 batches)\n",
      "Running average global loss: 0.4725677840411663 (over last 800 batches)\n",
      "Running average activity prediction loss: 0.3110913572460413 (Cross Entropy over last 800 batches)\n",
      "Running average time till next event prediction loss: 0.16147642714902757 (MAE over last 800 batches)\n",
      "------------------------------------------------------------\n"
     ]
    },
    {
     "name": "stderr",
     "output_type": "stream",
     "text": [
      "Batch calculation at epoch 15.: 3206it [01:33, 37.47it/s]"
     ]
    },
    {
     "name": "stdout",
     "output_type": "stream",
     "text": [
      "------------------------------------------------------------\n",
      "Epoch 15, batch 3199:\n",
      "Average original gradient norm: 0.3813045526482165 (over last 800 batches)\n",
      "Average clipped gradient norm: 0.3813045526482165 (over last 800 batches)\n",
      "Running average global loss: 0.4728923561424017 (over last 800 batches)\n",
      "Running average activity prediction loss: 0.31128469709306955 (Cross Entropy over last 800 batches)\n",
      "Running average time till next event prediction loss: 0.16160765893757342 (MAE over last 800 batches)\n",
      "------------------------------------------------------------\n"
     ]
    },
    {
     "name": "stderr",
     "output_type": "stream",
     "text": [
      "Batch calculation at epoch 15.: 4004it [01:54, 32.46it/s]"
     ]
    },
    {
     "name": "stdout",
     "output_type": "stream",
     "text": [
      "------------------------------------------------------------\n",
      "Epoch 15, batch 3999:\n",
      "Average original gradient norm: 0.38814605863764884 (over last 800 batches)\n",
      "Average clipped gradient norm: 0.38814605863764884 (over last 800 batches)\n",
      "Running average global loss: 0.472263765707612 (over last 800 batches)\n",
      "Running average activity prediction loss: 0.31079405296593904 (Cross Entropy over last 800 batches)\n",
      "Running average time till next event prediction loss: 0.16146971262991427 (MAE over last 800 batches)\n",
      "------------------------------------------------------------\n"
     ]
    },
    {
     "name": "stderr",
     "output_type": "stream",
     "text": [
      "Batch calculation at epoch 15.: 4798it [02:16, 35.06it/s]\n"
     ]
    },
    {
     "name": "stdout",
     "output_type": "stream",
     "text": [
      "=======================================\n",
      "End of epoch 15\n",
      "=======================================\n",
      "Running average global loss: 0.47357127994298936 (over last 800 batches)\n",
      "Running average activity prediction loss: 0.3114817701652646 (Cross Entropy over last 800 batches)\n",
      "Running average time till next event prediction loss: 0.16208950946107506 (MAE over last 800 batches)\n"
     ]
    },
    {
     "name": "stderr",
     "output_type": "stream",
     "text": [
      "Validation batch calculation: 72it [00:57,  1.26it/s]\n"
     ]
    },
    {
     "name": "stdout",
     "output_type": "stream",
     "text": [
      "Avg MAE TTNE prediction validation set: 0.206499382853508 (standardized) ; 764.7774739583333 (minutes)'\n",
      "Avg 1-(normalized) DL distance acitivty suffix prediction validation set: 0.22654469311237335\n",
      "Percentage of suffixes predicted to END: too early - 0.025884489102165915 ; right moment - 0.09866413646695837 ; too late - 0.8754513744308757\n",
      "Too early instances - avg amount of events too early: 10.051688194274902\n",
      "Too late instances - avg amount of events too late: 62.32865905761719\n",
      "Avg absolute amount of events predicted too early / too late: 54.82589340209961\n",
      "Avg MAE RRT prediction validation set:  11646.126041666666 (minutes)'\n",
      " \n",
      "------------------------------------\n",
      "EPOCH 16:\n",
      "____________________________________\n"
     ]
    },
    {
     "name": "stderr",
     "output_type": "stream",
     "text": [
      "Batch calculation at epoch 16.: 805it [00:32, 27.45it/s]"
     ]
    },
    {
     "name": "stdout",
     "output_type": "stream",
     "text": [
      "------------------------------------------------------------\n",
      "Epoch 16, batch 799:\n",
      "Average original gradient norm: 0.433709520008415 (over last 800 batches)\n",
      "Average clipped gradient norm: 0.42806430807337165 (over last 800 batches)\n",
      "Running average global loss: 0.47210507191717627 (over last 800 batches)\n",
      "Running average activity prediction loss: 0.31074301540851595 (Cross Entropy over last 800 batches)\n",
      "Running average time till next event prediction loss: 0.1613620560336858 (MAE over last 800 batches)\n",
      "------------------------------------------------------------\n"
     ]
    },
    {
     "name": "stderr",
     "output_type": "stream",
     "text": [
      "Batch calculation at epoch 16.: 1602it [01:06, 22.28it/s]"
     ]
    },
    {
     "name": "stdout",
     "output_type": "stream",
     "text": [
      "------------------------------------------------------------\n",
      "Epoch 16, batch 1599:\n",
      "Average original gradient norm: 0.3855171049572527 (over last 800 batches)\n",
      "Average clipped gradient norm: 0.3855171049572527 (over last 800 batches)\n",
      "Running average global loss: 0.471563129350543 (over last 800 batches)\n",
      "Running average activity prediction loss: 0.3099224766716361 (Cross Entropy over last 800 batches)\n",
      "Running average time till next event prediction loss: 0.16164065273478628 (MAE over last 800 batches)\n",
      "------------------------------------------------------------\n"
     ]
    },
    {
     "name": "stderr",
     "output_type": "stream",
     "text": [
      "Batch calculation at epoch 16.: 2406it [01:30, 35.08it/s]"
     ]
    },
    {
     "name": "stdout",
     "output_type": "stream",
     "text": [
      "------------------------------------------------------------\n",
      "Epoch 16, batch 2399:\n",
      "Average original gradient norm: 0.4099388786777854 (over last 800 batches)\n",
      "Average clipped gradient norm: 0.4099388786777854 (over last 800 batches)\n",
      "Running average global loss: 0.4723578220233321 (over last 800 batches)\n",
      "Running average activity prediction loss: 0.310638952255249 (Cross Entropy over last 800 batches)\n",
      "Running average time till next event prediction loss: 0.1617188696563244 (MAE over last 800 batches)\n",
      "------------------------------------------------------------\n"
     ]
    },
    {
     "name": "stderr",
     "output_type": "stream",
     "text": [
      "Batch calculation at epoch 16.: 3204it [01:50, 36.37it/s]"
     ]
    },
    {
     "name": "stdout",
     "output_type": "stream",
     "text": [
      "------------------------------------------------------------\n",
      "Epoch 16, batch 3199:\n",
      "Average original gradient norm: 0.3985296045616269 (over last 800 batches)\n",
      "Average clipped gradient norm: 0.3985296045616269 (over last 800 batches)\n",
      "Running average global loss: 0.47210244946181773 (over last 800 batches)\n",
      "Running average activity prediction loss: 0.31050142664462327 (Cross Entropy over last 800 batches)\n",
      "Running average time till next event prediction loss: 0.1616010229010135 (MAE over last 800 batches)\n",
      "------------------------------------------------------------\n"
     ]
    },
    {
     "name": "stderr",
     "output_type": "stream",
     "text": [
      "Batch calculation at epoch 16.: 4006it [02:14, 29.61it/s]"
     ]
    },
    {
     "name": "stdout",
     "output_type": "stream",
     "text": [
      "------------------------------------------------------------\n",
      "Epoch 16, batch 3999:\n",
      "Average original gradient norm: 0.41613163584843277 (over last 800 batches)\n",
      "Average clipped gradient norm: 0.41613163584843277 (over last 800 batches)\n",
      "Running average global loss: 0.4718241003155708 (over last 800 batches)\n",
      "Running average activity prediction loss: 0.31026322416961194 (Cross Entropy over last 800 batches)\n",
      "Running average time till next event prediction loss: 0.16156087609007955 (MAE over last 800 batches)\n",
      "------------------------------------------------------------\n"
     ]
    },
    {
     "name": "stderr",
     "output_type": "stream",
     "text": [
      "Batch calculation at epoch 16.: 4798it [02:43, 29.39it/s]\n"
     ]
    },
    {
     "name": "stdout",
     "output_type": "stream",
     "text": [
      "=======================================\n",
      "End of epoch 16\n",
      "=======================================\n",
      "Running average global loss: 0.4719421153515577 (over last 800 batches)\n",
      "Running average activity prediction loss: 0.3110750025883317 (Cross Entropy over last 800 batches)\n",
      "Running average time till next event prediction loss: 0.1608671131450683 (MAE over last 800 batches)\n"
     ]
    },
    {
     "name": "stderr",
     "output_type": "stream",
     "text": [
      "Validation batch calculation: 72it [01:21,  1.14s/it]\n"
     ]
    },
    {
     "name": "stdout",
     "output_type": "stream",
     "text": [
      "Avg MAE TTNE prediction validation set: 0.20631937682628632 (standardized) ; 763.84609375 (minutes)'\n",
      "Avg 1-(normalized) DL distance acitivty suffix prediction validation set: 0.20840147137641907\n",
      "Percentage of suffixes predicted to END: too early - 0.010266421837989856 ; right moment - 0.09608387885076144 ; too late - 0.8936496993112487\n",
      "Too early instances - avg amount of events too early: 9.66356372833252\n",
      "Too late instances - avg amount of events too late: 64.18882751464844\n",
      "Avg absolute amount of events predicted too early / too late: 57.46154022216797\n",
      "Avg MAE RRT prediction validation set:  12103.365625 (minutes)'\n",
      " \n",
      "------------------------------------\n",
      "EPOCH 17:\n",
      "____________________________________\n"
     ]
    },
    {
     "name": "stderr",
     "output_type": "stream",
     "text": [
      "Batch calculation at epoch 17.: 806it [00:17, 51.26it/s]"
     ]
    },
    {
     "name": "stdout",
     "output_type": "stream",
     "text": [
      "------------------------------------------------------------\n",
      "Epoch 17, batch 799:\n",
      "Average original gradient norm: 0.4360911927558482 (over last 800 batches)\n",
      "Average clipped gradient norm: 0.4360911927558482 (over last 800 batches)\n",
      "Running average global loss: 0.471595110706985 (over last 800 batches)\n",
      "Running average activity prediction loss: 0.31029064286500213 (Cross Entropy over last 800 batches)\n",
      "Running average time till next event prediction loss: 0.16130446740426124 (MAE over last 800 batches)\n",
      "------------------------------------------------------------\n"
     ]
    },
    {
     "name": "stderr",
     "output_type": "stream",
     "text": [
      "Batch calculation at epoch 17.: 1607it [00:34, 47.23it/s]"
     ]
    },
    {
     "name": "stdout",
     "output_type": "stream",
     "text": [
      "------------------------------------------------------------\n",
      "Epoch 17, batch 1599:\n",
      "Average original gradient norm: 0.38345864916220307 (over last 800 batches)\n",
      "Average clipped gradient norm: 0.38345864916220307 (over last 800 batches)\n",
      "Running average global loss: 0.47159324504435063 (over last 800 batches)\n",
      "Running average activity prediction loss: 0.3103214132040739 (Cross Entropy over last 800 batches)\n",
      "Running average time till next event prediction loss: 0.16127183185890318 (MAE over last 800 batches)\n",
      "------------------------------------------------------------\n"
     ]
    },
    {
     "name": "stderr",
     "output_type": "stream",
     "text": [
      "Batch calculation at epoch 17.: 2406it [01:00, 33.06it/s]"
     ]
    },
    {
     "name": "stdout",
     "output_type": "stream",
     "text": [
      "------------------------------------------------------------\n",
      "Epoch 17, batch 2399:\n",
      "Average original gradient norm: 0.42346139539033173 (over last 800 batches)\n",
      "Average clipped gradient norm: 0.42346139539033173 (over last 800 batches)\n",
      "Running average global loss: 0.4712629732489586 (over last 800 batches)\n",
      "Running average activity prediction loss: 0.3104247224330902 (Cross Entropy over last 800 batches)\n",
      "Running average time till next event prediction loss: 0.16083825009875 (MAE over last 800 batches)\n",
      "------------------------------------------------------------\n"
     ]
    },
    {
     "name": "stderr",
     "output_type": "stream",
     "text": [
      "Batch calculation at epoch 17.: 3205it [01:18, 34.24it/s]"
     ]
    },
    {
     "name": "stdout",
     "output_type": "stream",
     "text": [
      "------------------------------------------------------------\n",
      "Epoch 17, batch 3199:\n",
      "Average original gradient norm: 0.3858060317672789 (over last 800 batches)\n",
      "Average clipped gradient norm: 0.3858060317672789 (over last 800 batches)\n",
      "Running average global loss: 0.47000410240143536 (over last 800 batches)\n",
      "Running average activity prediction loss: 0.30906826626509426 (Cross Entropy over last 800 batches)\n",
      "Running average time till next event prediction loss: 0.16093583655543625 (MAE over last 800 batches)\n",
      "------------------------------------------------------------\n"
     ]
    },
    {
     "name": "stderr",
     "output_type": "stream",
     "text": [
      "Batch calculation at epoch 17.: 4011it [01:35, 58.39it/s]"
     ]
    },
    {
     "name": "stdout",
     "output_type": "stream",
     "text": [
      "------------------------------------------------------------\n",
      "Epoch 17, batch 3999:\n",
      "Average original gradient norm: 0.45205013986676934 (over last 800 batches)\n",
      "Average clipped gradient norm: 0.43604662012308837 (over last 800 batches)\n",
      "Running average global loss: 0.47168280951678754 (over last 800 batches)\n",
      "Running average activity prediction loss: 0.30962120890617373 (Cross Entropy over last 800 batches)\n",
      "Running average time till next event prediction loss: 0.16206159987486898 (MAE over last 800 batches)\n",
      "------------------------------------------------------------\n"
     ]
    },
    {
     "name": "stderr",
     "output_type": "stream",
     "text": [
      "Batch calculation at epoch 17.: 4798it [01:50, 43.60it/s]\n"
     ]
    },
    {
     "name": "stdout",
     "output_type": "stream",
     "text": [
      "=======================================\n",
      "End of epoch 17\n",
      "=======================================\n",
      "Running average global loss: 0.4708196284249425 (over last 800 batches)\n",
      "Running average activity prediction loss: 0.3092730387300253 (Cross Entropy over last 800 batches)\n",
      "Running average time till next event prediction loss: 0.16154659029096366 (MAE over last 800 batches)\n"
     ]
    },
    {
     "name": "stderr",
     "output_type": "stream",
     "text": [
      "Validation batch calculation: 72it [01:01,  1.17it/s]\n"
     ]
    },
    {
     "name": "stdout",
     "output_type": "stream",
     "text": [
      "Avg MAE TTNE prediction validation set: 0.20642274618148804 (standardized) ; 764.46015625 (minutes)'\n",
      "Avg 1-(normalized) DL distance acitivty suffix prediction validation set: 0.21676689386367798\n",
      "Percentage of suffixes predicted to END: too early - 0.01376820003139996 ; right moment - 0.09688253001767955 ; too late - 0.8893492699509205\n",
      "Too early instances - avg amount of events too early: 9.419930458068848\n",
      "Too late instances - avg amount of events too late: 63.01564407348633\n",
      "Avg absolute amount of events predicted too early / too late: 56.172611236572266\n",
      "Avg MAE RRT prediction validation set:  11693.363541666668 (minutes)'\n",
      " \n",
      "------------------------------------\n",
      "EPOCH 18:\n",
      "____________________________________\n"
     ]
    },
    {
     "name": "stderr",
     "output_type": "stream",
     "text": [
      "Batch calculation at epoch 18.: 803it [00:34, 19.78it/s]"
     ]
    },
    {
     "name": "stdout",
     "output_type": "stream",
     "text": [
      "------------------------------------------------------------\n",
      "Epoch 18, batch 799:\n",
      "Average original gradient norm: 0.4433891439065337 (over last 800 batches)\n",
      "Average clipped gradient norm: 0.4431859588250518 (over last 800 batches)\n",
      "Running average global loss: 0.470991096124053 (over last 800 batches)\n",
      "Running average activity prediction loss: 0.3093533632904291 (Cross Entropy over last 800 batches)\n",
      "Running average time till next event prediction loss: 0.16163773256354033 (MAE over last 800 batches)\n",
      "------------------------------------------------------------\n"
     ]
    },
    {
     "name": "stderr",
     "output_type": "stream",
     "text": [
      "Batch calculation at epoch 18.: 1602it [01:12, 21.28it/s]"
     ]
    },
    {
     "name": "stdout",
     "output_type": "stream",
     "text": [
      "------------------------------------------------------------\n",
      "Epoch 18, batch 1599:\n",
      "Average original gradient norm: 0.39529558092355727 (over last 800 batches)\n",
      "Average clipped gradient norm: 0.39529558092355727 (over last 800 batches)\n",
      "Running average global loss: 0.47142113097012045 (over last 800 batches)\n",
      "Running average activity prediction loss: 0.3096257857605815 (Cross Entropy over last 800 batches)\n",
      "Running average time till next event prediction loss: 0.16179534549824892 (MAE over last 800 batches)\n",
      "------------------------------------------------------------\n"
     ]
    },
    {
     "name": "stderr",
     "output_type": "stream",
     "text": [
      "Batch calculation at epoch 18.: 2402it [01:48, 24.61it/s]"
     ]
    },
    {
     "name": "stdout",
     "output_type": "stream",
     "text": [
      "------------------------------------------------------------\n",
      "Epoch 18, batch 2399:\n",
      "Average original gradient norm: 0.41556879276409747 (over last 800 batches)\n",
      "Average clipped gradient norm: 0.41533097634091976 (over last 800 batches)\n",
      "Running average global loss: 0.4700206180289388 (over last 800 batches)\n",
      "Running average activity prediction loss: 0.30949012249708174 (Cross Entropy over last 800 batches)\n",
      "Running average time till next event prediction loss: 0.16053049565292896 (MAE over last 800 batches)\n",
      "------------------------------------------------------------\n"
     ]
    },
    {
     "name": "stderr",
     "output_type": "stream",
     "text": [
      "Batch calculation at epoch 18.: 3203it [02:19, 19.72it/s]"
     ]
    },
    {
     "name": "stdout",
     "output_type": "stream",
     "text": [
      "------------------------------------------------------------\n",
      "Epoch 18, batch 3199:\n",
      "Average original gradient norm: 0.4148371171206236 (over last 800 batches)\n",
      "Average clipped gradient norm: 0.4148371171206236 (over last 800 batches)\n",
      "Running average global loss: 0.47139034554362297 (over last 800 batches)\n",
      "Running average activity prediction loss: 0.30944098606705667 (Cross Entropy over last 800 batches)\n",
      "Running average time till next event prediction loss: 0.1619493595417589 (MAE over last 800 batches)\n",
      "------------------------------------------------------------\n"
     ]
    },
    {
     "name": "stderr",
     "output_type": "stream",
     "text": [
      "Batch calculation at epoch 18.: 4002it [02:51, 19.41it/s]"
     ]
    },
    {
     "name": "stdout",
     "output_type": "stream",
     "text": [
      "------------------------------------------------------------\n",
      "Epoch 18, batch 3999:\n",
      "Average original gradient norm: 0.39761354006826877 (over last 800 batches)\n",
      "Average clipped gradient norm: 0.39761354006826877 (over last 800 batches)\n",
      "Running average global loss: 0.46973037280142305 (over last 800 batches)\n",
      "Running average activity prediction loss: 0.309017377756536 (Cross Entropy over last 800 batches)\n",
      "Running average time till next event prediction loss: 0.16071299481205642 (MAE over last 800 batches)\n",
      "------------------------------------------------------------\n"
     ]
    },
    {
     "name": "stderr",
     "output_type": "stream",
     "text": [
      "Batch calculation at epoch 18.: 4798it [03:18, 24.19it/s]\n"
     ]
    },
    {
     "name": "stdout",
     "output_type": "stream",
     "text": [
      "=======================================\n",
      "End of epoch 18\n",
      "=======================================\n",
      "Running average global loss: 0.46905281469225885 (over last 800 batches)\n",
      "Running average activity prediction loss: 0.30844858665019276 (Cross Entropy over last 800 batches)\n",
      "Running average time till next event prediction loss: 0.16060422794893384 (MAE over last 800 batches)\n"
     ]
    },
    {
     "name": "stderr",
     "output_type": "stream",
     "text": [
      "Validation batch calculation: 72it [01:19,  1.10s/it]\n"
     ]
    },
    {
     "name": "stdout",
     "output_type": "stream",
     "text": [
      "Avg MAE TTNE prediction validation set: 0.20630410313606262 (standardized) ; 763.90859375 (minutes)'\n",
      "Avg 1-(normalized) DL distance acitivty suffix prediction validation set: 0.24599327147006989\n",
      "Percentage of suffixes predicted to END: too early - 0.04009638422629815 ; right moment - 0.10491682423530857 ; too late - 0.8549867915383933\n",
      "Too early instances - avg amount of events too early: 9.953694343566895\n",
      "Too late instances - avg amount of events too late: 60.551700592041016\n",
      "Avg absolute amount of events predicted too early / too late: 52.17000961303711\n",
      "Avg MAE RRT prediction validation set:  11862.496875 (minutes)'\n",
      " \n",
      "------------------------------------\n",
      "EPOCH 19:\n",
      "____________________________________\n"
     ]
    },
    {
     "name": "stderr",
     "output_type": "stream",
     "text": [
      "Batch calculation at epoch 19.: 807it [00:15, 55.40it/s]"
     ]
    },
    {
     "name": "stdout",
     "output_type": "stream",
     "text": [
      "------------------------------------------------------------\n",
      "Epoch 19, batch 799:\n",
      "Average original gradient norm: 0.3807467672042549 (over last 800 batches)\n",
      "Average clipped gradient norm: 0.3807467672042549 (over last 800 batches)\n",
      "Running average global loss: 0.469941562525928 (over last 800 batches)\n",
      "Running average activity prediction loss: 0.3088962958008051 (Cross Entropy over last 800 batches)\n",
      "Running average time till next event prediction loss: 0.1610452666413039 (MAE over last 800 batches)\n",
      "------------------------------------------------------------\n"
     ]
    },
    {
     "name": "stderr",
     "output_type": "stream",
     "text": [
      "Batch calculation at epoch 19.: 1604it [00:37, 31.30it/s]"
     ]
    },
    {
     "name": "stdout",
     "output_type": "stream",
     "text": [
      "------------------------------------------------------------\n",
      "Epoch 19, batch 1599:\n",
      "Average original gradient norm: 0.41001958670094607 (over last 800 batches)\n",
      "Average clipped gradient norm: 0.41001958670094607 (over last 800 batches)\n",
      "Running average global loss: 0.46815738011151553 (over last 800 batches)\n",
      "Running average activity prediction loss: 0.30841380786150696 (Cross Entropy over last 800 batches)\n",
      "Running average time till next event prediction loss: 0.15974357226863503 (MAE over last 800 batches)\n",
      "------------------------------------------------------------\n"
     ]
    },
    {
     "name": "stderr",
     "output_type": "stream",
     "text": [
      "Batch calculation at epoch 19.: 2402it [00:58, 33.60it/s]"
     ]
    },
    {
     "name": "stdout",
     "output_type": "stream",
     "text": [
      "------------------------------------------------------------\n",
      "Epoch 19, batch 2399:\n",
      "Average original gradient norm: 0.4194540370255709 (over last 800 batches)\n",
      "Average clipped gradient norm: 0.4120717165619135 (over last 800 batches)\n",
      "Running average global loss: 0.4703051098063588 (over last 800 batches)\n",
      "Running average activity prediction loss: 0.30912490796297787 (Cross Entropy over last 800 batches)\n",
      "Running average time till next event prediction loss: 0.16118020201101899 (MAE over last 800 batches)\n",
      "------------------------------------------------------------\n"
     ]
    },
    {
     "name": "stderr",
     "output_type": "stream",
     "text": [
      "Batch calculation at epoch 19.: 3203it [01:20, 29.20it/s]"
     ]
    },
    {
     "name": "stdout",
     "output_type": "stream",
     "text": [
      "------------------------------------------------------------\n",
      "Epoch 19, batch 3199:\n",
      "Average original gradient norm: 0.39974973399192093 (over last 800 batches)\n",
      "Average clipped gradient norm: 0.39974973399192093 (over last 800 batches)\n",
      "Running average global loss: 0.4696418621018529 (over last 800 batches)\n",
      "Running average activity prediction loss: 0.30816499799489977 (Cross Entropy over last 800 batches)\n",
      "Running average time till next event prediction loss: 0.16147686405107378 (MAE over last 800 batches)\n",
      "------------------------------------------------------------\n"
     ]
    },
    {
     "name": "stderr",
     "output_type": "stream",
     "text": [
      "Batch calculation at epoch 19.: 4008it [01:43, 46.08it/s]"
     ]
    },
    {
     "name": "stdout",
     "output_type": "stream",
     "text": [
      "------------------------------------------------------------\n",
      "Epoch 19, batch 3999:\n",
      "Average original gradient norm: 0.3899666219763458 (over last 800 batches)\n",
      "Average clipped gradient norm: 0.3899666219763458 (over last 800 batches)\n",
      "Running average global loss: 0.47016242757439614 (over last 800 batches)\n",
      "Running average activity prediction loss: 0.30894276540726423 (Cross Entropy over last 800 batches)\n",
      "Running average time till next event prediction loss: 0.16121966218575834 (MAE over last 800 batches)\n",
      "------------------------------------------------------------\n"
     ]
    },
    {
     "name": "stderr",
     "output_type": "stream",
     "text": [
      "Batch calculation at epoch 19.: 4798it [02:00, 39.90it/s]\n"
     ]
    },
    {
     "name": "stdout",
     "output_type": "stream",
     "text": [
      "=======================================\n",
      "End of epoch 19\n",
      "=======================================\n",
      "Running average global loss: 0.47108514960855247 (over last 800 batches)\n",
      "Running average activity prediction loss: 0.3090736747905612 (Cross Entropy over last 800 batches)\n",
      "Running average time till next event prediction loss: 0.16201147538609803 (MAE over last 800 batches)\n"
     ]
    },
    {
     "name": "stderr",
     "output_type": "stream",
     "text": [
      "Validation batch calculation: 72it [01:02,  1.15it/s]\n"
     ]
    },
    {
     "name": "stdout",
     "output_type": "stream",
     "text": [
      "Avg MAE TTNE prediction validation set: 0.20610755681991577 (standardized) ; 763.3924479166667 (minutes)'\n",
      "Avg 1-(normalized) DL distance acitivty suffix prediction validation set: 0.23211857676506042\n",
      "Percentage of suffixes predicted to END: too early - 0.026055141060909098 ; right moment - 0.09863000607520973 ; too late - 0.8753148528638812\n",
      "Too early instances - avg amount of events too early: 9.838616371154785\n",
      "Too late instances - avg amount of events too late: 61.43667221069336\n",
      "Avg absolute amount of events predicted too early / too late: 54.032779693603516\n",
      "Avg MAE RRT prediction validation set:  12028.213541666666 (minutes)'\n",
      " \n",
      "------------------------------------\n",
      "EPOCH 20:\n",
      "____________________________________\n"
     ]
    },
    {
     "name": "stderr",
     "output_type": "stream",
     "text": [
      "Batch calculation at epoch 20.: 804it [00:22, 37.39it/s]"
     ]
    },
    {
     "name": "stdout",
     "output_type": "stream",
     "text": [
      "------------------------------------------------------------\n",
      "Epoch 20, batch 799:\n",
      "Average original gradient norm: 0.4011755805276334 (over last 800 batches)\n",
      "Average clipped gradient norm: 0.3995541668497026 (over last 800 batches)\n",
      "Running average global loss: 0.4707218995317817 (over last 800 batches)\n",
      "Running average activity prediction loss: 0.309060782790184 (Cross Entropy over last 800 batches)\n",
      "Running average time till next event prediction loss: 0.16166111656464635 (MAE over last 800 batches)\n",
      "------------------------------------------------------------\n"
     ]
    },
    {
     "name": "stderr",
     "output_type": "stream",
     "text": [
      "Batch calculation at epoch 20.: 1604it [00:46, 31.17it/s]"
     ]
    },
    {
     "name": "stdout",
     "output_type": "stream",
     "text": [
      "------------------------------------------------------------\n",
      "Epoch 20, batch 1599:\n",
      "Average original gradient norm: 0.4105773922428489 (over last 800 batches)\n",
      "Average clipped gradient norm: 0.4096778457984328 (over last 800 batches)\n",
      "Running average global loss: 0.4682433769851923 (over last 800 batches)\n",
      "Running average activity prediction loss: 0.30813761048018934 (Cross Entropy over last 800 batches)\n",
      "Running average time till next event prediction loss: 0.16010576664470136 (MAE over last 800 batches)\n",
      "------------------------------------------------------------\n"
     ]
    },
    {
     "name": "stderr",
     "output_type": "stream",
     "text": [
      "Batch calculation at epoch 20.: 2402it [01:19, 20.31it/s]"
     ]
    },
    {
     "name": "stdout",
     "output_type": "stream",
     "text": [
      "------------------------------------------------------------\n",
      "Epoch 20, batch 2399:\n",
      "Average original gradient norm: 0.3984627305343747 (over last 800 batches)\n",
      "Average clipped gradient norm: 0.3984627305343747 (over last 800 batches)\n",
      "Running average global loss: 0.46950962215662 (over last 800 batches)\n",
      "Running average activity prediction loss: 0.3082238594442606 (Cross Entropy over last 800 batches)\n",
      "Running average time till next event prediction loss: 0.1612857627402991 (MAE over last 800 batches)\n",
      "------------------------------------------------------------\n"
     ]
    },
    {
     "name": "stderr",
     "output_type": "stream",
     "text": [
      "Batch calculation at epoch 20.: 3202it [01:53, 17.83it/s]"
     ]
    },
    {
     "name": "stdout",
     "output_type": "stream",
     "text": [
      "------------------------------------------------------------\n",
      "Epoch 20, batch 3199:\n",
      "Average original gradient norm: 0.4140603342652321 (over last 800 batches)\n",
      "Average clipped gradient norm: 0.4140603342652321 (over last 800 batches)\n",
      "Running average global loss: 0.46897595331072806 (over last 800 batches)\n",
      "Running average activity prediction loss: 0.3081081631034613 (Cross Entropy over last 800 batches)\n",
      "Running average time till next event prediction loss: 0.16086779041215776 (MAE over last 800 batches)\n",
      "------------------------------------------------------------\n"
     ]
    },
    {
     "name": "stderr",
     "output_type": "stream",
     "text": [
      "Batch calculation at epoch 20.: 4005it [02:27, 29.12it/s]"
     ]
    },
    {
     "name": "stdout",
     "output_type": "stream",
     "text": [
      "------------------------------------------------------------\n",
      "Epoch 20, batch 3999:\n",
      "Average original gradient norm: 0.40701105115935204 (over last 800 batches)\n",
      "Average clipped gradient norm: 0.40701105115935204 (over last 800 batches)\n",
      "Running average global loss: 0.46831681445240975 (over last 800 batches)\n",
      "Running average activity prediction loss: 0.30778333742171526 (Cross Entropy over last 800 batches)\n",
      "Running average time till next event prediction loss: 0.16053347691893577 (MAE over last 800 batches)\n",
      "------------------------------------------------------------\n"
     ]
    },
    {
     "name": "stderr",
     "output_type": "stream",
     "text": [
      "Batch calculation at epoch 20.: 4798it [03:02, 26.36it/s]\n"
     ]
    },
    {
     "name": "stdout",
     "output_type": "stream",
     "text": [
      "=======================================\n",
      "End of epoch 20\n",
      "=======================================\n",
      "Running average global loss: 0.46944281823933126 (over last 800 batches)\n",
      "Running average activity prediction loss: 0.3078555856645107 (Cross Entropy over last 800 batches)\n",
      "Running average time till next event prediction loss: 0.16158723230473698 (MAE over last 800 batches)\n"
     ]
    },
    {
     "name": "stderr",
     "output_type": "stream",
     "text": [
      "Validation batch calculation: 72it [01:17,  1.07s/it]\n"
     ]
    },
    {
     "name": "stdout",
     "output_type": "stream",
     "text": [
      "Avg MAE TTNE prediction validation set: 0.20617380738258362 (standardized) ; 763.4651041666667 (minutes)'\n",
      "Avg 1-(normalized) DL distance acitivty suffix prediction validation set: 0.21162110567092896\n",
      "Percentage of suffixes predicted to END: too early - 0.012164071619214045 ; right moment - 0.09611800924251009 ; too late - 0.8917179191382759\n",
      "Too early instances - avg amount of events too early: 9.634119033813477\n",
      "Too late instances - avg amount of events too late: 63.7640495300293\n",
      "Avg absolute amount of events predicted too early / too late: 56.97673797607422\n",
      "Avg MAE RRT prediction validation set:  11897.095833333333 (minutes)'\n",
      " \n",
      "------------------------------------\n",
      "EPOCH 21:\n",
      "____________________________________\n"
     ]
    },
    {
     "name": "stderr",
     "output_type": "stream",
     "text": [
      "Batch calculation at epoch 21.: 804it [00:20, 33.76it/s]"
     ]
    },
    {
     "name": "stdout",
     "output_type": "stream",
     "text": [
      "------------------------------------------------------------\n",
      "Epoch 21, batch 799:\n",
      "Average original gradient norm: 0.4109293933212757 (over last 800 batches)\n",
      "Average clipped gradient norm: 0.4109293933212757 (over last 800 batches)\n",
      "Running average global loss: 0.46941864371299746 (over last 800 batches)\n",
      "Running average activity prediction loss: 0.30811519160866735 (Cross Entropy over last 800 batches)\n",
      "Running average time till next event prediction loss: 0.16130345225334167 (MAE over last 800 batches)\n",
      "------------------------------------------------------------\n"
     ]
    },
    {
     "name": "stderr",
     "output_type": "stream",
     "text": [
      "Batch calculation at epoch 21.: 1605it [00:41, 51.33it/s]"
     ]
    },
    {
     "name": "stdout",
     "output_type": "stream",
     "text": [
      "------------------------------------------------------------\n",
      "Epoch 21, batch 1599:\n",
      "Average original gradient norm: 0.4048762757331133 (over last 800 batches)\n",
      "Average clipped gradient norm: 0.4048762757331133 (over last 800 batches)\n",
      "Running average global loss: 0.4698348456993699 (over last 800 batches)\n",
      "Running average activity prediction loss: 0.3084396809712052 (Cross Entropy over last 800 batches)\n",
      "Running average time till next event prediction loss: 0.16139516433700918 (MAE over last 800 batches)\n",
      "------------------------------------------------------------\n"
     ]
    },
    {
     "name": "stderr",
     "output_type": "stream",
     "text": [
      "Batch calculation at epoch 21.: 2411it [01:01, 65.88it/s]"
     ]
    },
    {
     "name": "stdout",
     "output_type": "stream",
     "text": [
      "------------------------------------------------------------\n",
      "Epoch 21, batch 2399:\n",
      "Average original gradient norm: 0.4109232715889812 (over last 800 batches)\n",
      "Average clipped gradient norm: 0.40737456884235146 (over last 800 batches)\n",
      "Running average global loss: 0.4688551341369748 (over last 800 batches)\n",
      "Running average activity prediction loss: 0.30724139146506785 (Cross Entropy over last 800 batches)\n",
      "Running average time till next event prediction loss: 0.16161374273709952 (MAE over last 800 batches)\n",
      "------------------------------------------------------------\n"
     ]
    },
    {
     "name": "stderr",
     "output_type": "stream",
     "text": [
      "Batch calculation at epoch 21.: 3208it [01:17, 51.38it/s]"
     ]
    },
    {
     "name": "stdout",
     "output_type": "stream",
     "text": [
      "------------------------------------------------------------\n",
      "Epoch 21, batch 3199:\n",
      "Average original gradient norm: 0.4001356497593224 (over last 800 batches)\n",
      "Average clipped gradient norm: 0.4001356497593224 (over last 800 batches)\n",
      "Running average global loss: 0.4682752170786262 (over last 800 batches)\n",
      "Running average activity prediction loss: 0.3080236171558499 (Cross Entropy over last 800 batches)\n",
      "Running average time till next event prediction loss: 0.1602516000252217 (MAE over last 800 batches)\n",
      "------------------------------------------------------------\n"
     ]
    },
    {
     "name": "stderr",
     "output_type": "stream",
     "text": [
      "Batch calculation at epoch 21.: 4008it [01:36, 50.98it/s]"
     ]
    },
    {
     "name": "stdout",
     "output_type": "stream",
     "text": [
      "------------------------------------------------------------\n",
      "Epoch 21, batch 3999:\n",
      "Average original gradient norm: 0.38977275473997 (over last 800 batches)\n",
      "Average clipped gradient norm: 0.3891307641379535 (over last 800 batches)\n",
      "Running average global loss: 0.46648398753255604 (over last 800 batches)\n",
      "Running average activity prediction loss: 0.3061299164965749 (Cross Entropy over last 800 batches)\n",
      "Running average time till next event prediction loss: 0.16035407137125732 (MAE over last 800 batches)\n",
      "------------------------------------------------------------\n"
     ]
    },
    {
     "name": "stderr",
     "output_type": "stream",
     "text": [
      "Batch calculation at epoch 21.: 4798it [01:55, 41.69it/s]\n"
     ]
    },
    {
     "name": "stdout",
     "output_type": "stream",
     "text": [
      "=======================================\n",
      "End of epoch 21\n",
      "=======================================\n",
      "Running average global loss: 0.4688580331206322 (over last 800 batches)\n",
      "Running average activity prediction loss: 0.308300309330225 (Cross Entropy over last 800 batches)\n",
      "Running average time till next event prediction loss: 0.1605577237624675 (MAE over last 800 batches)\n"
     ]
    },
    {
     "name": "stderr",
     "output_type": "stream",
     "text": [
      "Validation batch calculation: 72it [00:54,  1.32it/s]\n"
     ]
    },
    {
     "name": "stdout",
     "output_type": "stream",
     "text": [
      "Avg MAE TTNE prediction validation set: 0.20640026032924652 (standardized) ; 764.3940755208333 (minutes)'\n",
      "Avg 1-(normalized) DL distance acitivty suffix prediction validation set: 0.2055087387561798\n",
      "Percentage of suffixes predicted to END: too early - 0.00659399168583657 ; right moment - 0.09449340259527499 ; too late - 0.8989126057188884\n",
      "Too early instances - avg amount of events too early: 9.214285850524902\n",
      "Too late instances - avg amount of events too late: 64.23737335205078\n",
      "Avg absolute amount of events predicted too early / too late: 57.804542541503906\n",
      "Avg MAE RRT prediction validation set:  11760.28125 (minutes)'\n",
      " \n",
      "------------------------------------\n",
      "EPOCH 22:\n",
      "____________________________________\n"
     ]
    },
    {
     "name": "stderr",
     "output_type": "stream",
     "text": [
      "Batch calculation at epoch 22.: 803it [00:24, 22.60it/s]"
     ]
    },
    {
     "name": "stdout",
     "output_type": "stream",
     "text": [
      "------------------------------------------------------------\n",
      "Epoch 22, batch 799:\n",
      "Average original gradient norm: 0.40176940845325587 (over last 800 batches)\n",
      "Average clipped gradient norm: 0.40176940845325587 (over last 800 batches)\n",
      "Running average global loss: 0.4677839186042547 (over last 800 batches)\n",
      "Running average activity prediction loss: 0.3066444847732782 (Cross Entropy over last 800 batches)\n",
      "Running average time till next event prediction loss: 0.16113943370990455 (MAE over last 800 batches)\n",
      "------------------------------------------------------------\n"
     ]
    },
    {
     "name": "stderr",
     "output_type": "stream",
     "text": [
      "Batch calculation at epoch 22.: 1606it [00:51, 32.68it/s]"
     ]
    },
    {
     "name": "stdout",
     "output_type": "stream",
     "text": [
      "------------------------------------------------------------\n",
      "Epoch 22, batch 1599:\n",
      "Average original gradient norm: 0.3998431979678571 (over last 800 batches)\n",
      "Average clipped gradient norm: 0.3988480447791517 (over last 800 batches)\n",
      "Running average global loss: 0.46812389228492973 (over last 800 batches)\n",
      "Running average activity prediction loss: 0.30756952583789826 (Cross Entropy over last 800 batches)\n",
      "Running average time till next event prediction loss: 0.16055436571128667 (MAE over last 800 batches)\n",
      "------------------------------------------------------------\n"
     ]
    },
    {
     "name": "stderr",
     "output_type": "stream",
     "text": [
      "Batch calculation at epoch 22.: 2406it [01:14, 37.22it/s]"
     ]
    },
    {
     "name": "stdout",
     "output_type": "stream",
     "text": [
      "------------------------------------------------------------\n",
      "Epoch 22, batch 2399:\n",
      "Average original gradient norm: 0.4192501460760832 (over last 800 batches)\n",
      "Average clipped gradient norm: 0.4192501460760832 (over last 800 batches)\n",
      "Running average global loss: 0.4680043430626392 (over last 800 batches)\n",
      "Running average activity prediction loss: 0.30703133400529625 (Cross Entropy over last 800 batches)\n",
      "Running average time till next event prediction loss: 0.16097300918772817 (MAE over last 800 batches)\n",
      "------------------------------------------------------------\n"
     ]
    },
    {
     "name": "stderr",
     "output_type": "stream",
     "text": [
      "Batch calculation at epoch 22.: 3207it [01:41, 34.33it/s]"
     ]
    },
    {
     "name": "stdout",
     "output_type": "stream",
     "text": [
      "------------------------------------------------------------\n",
      "Epoch 22, batch 3199:\n",
      "Average original gradient norm: 0.42827139511704443 (over last 800 batches)\n",
      "Average clipped gradient norm: 0.42519658386707304 (over last 800 batches)\n",
      "Running average global loss: 0.46922700308263304 (over last 800 batches)\n",
      "Running average activity prediction loss: 0.30819808777421714 (Cross Entropy over last 800 batches)\n",
      "Running average time till next event prediction loss: 0.16102891577407719 (MAE over last 800 batches)\n",
      "------------------------------------------------------------\n"
     ]
    },
    {
     "name": "stderr",
     "output_type": "stream",
     "text": [
      "Batch calculation at epoch 22.: 4002it [02:09, 22.68it/s]"
     ]
    },
    {
     "name": "stdout",
     "output_type": "stream",
     "text": [
      "------------------------------------------------------------\n",
      "Epoch 22, batch 3999:\n",
      "Average original gradient norm: 0.41479647904634476 (over last 800 batches)\n",
      "Average clipped gradient norm: 0.41479647904634476 (over last 800 batches)\n",
      "Running average global loss: 0.46714602518826726 (over last 800 batches)\n",
      "Running average activity prediction loss: 0.30684948444366456 (Cross Entropy over last 800 batches)\n",
      "Running average time till next event prediction loss: 0.1602965414058417 (MAE over last 800 batches)\n",
      "------------------------------------------------------------\n"
     ]
    },
    {
     "name": "stderr",
     "output_type": "stream",
     "text": [
      "Batch calculation at epoch 22.: 4798it [02:36, 30.63it/s]\n"
     ]
    },
    {
     "name": "stdout",
     "output_type": "stream",
     "text": [
      "=======================================\n",
      "End of epoch 22\n",
      "=======================================\n",
      "Running average global loss: 0.46787874471396207 (over last 800 batches)\n",
      "Running average activity prediction loss: 0.3070073639973998 (Cross Entropy over last 800 batches)\n",
      "Running average time till next event prediction loss: 0.16087138085626065 (MAE over last 800 batches)\n"
     ]
    },
    {
     "name": "stderr",
     "output_type": "stream",
     "text": [
      "Validation batch calculation: 72it [01:16,  1.06s/it]\n"
     ]
    },
    {
     "name": "stdout",
     "output_type": "stream",
     "text": [
      "Avg MAE TTNE prediction validation set: 0.20582102239131927 (standardized) ; 762.228125 (minutes)'\n",
      "Avg 1-(normalized) DL distance acitivty suffix prediction validation set: 0.22669480741024017\n",
      "Percentage of suffixes predicted to END: too early - 0.020334887403837622 ; right moment - 0.09897813607104583 ; too late - 0.8806869765251165\n",
      "Too early instances - avg amount of events too early: 9.551862716674805\n",
      "Too late instances - avg amount of events too late: 61.8102912902832\n",
      "Avg absolute amount of events predicted too early / too late: 54.62975311279297\n",
      "Avg MAE RRT prediction validation set:  11704.99375 (minutes)'\n",
      " \n",
      "------------------------------------\n",
      "EPOCH 23:\n",
      "____________________________________\n"
     ]
    },
    {
     "name": "stderr",
     "output_type": "stream",
     "text": [
      "Batch calculation at epoch 23.: 806it [00:25, 28.70it/s]"
     ]
    },
    {
     "name": "stdout",
     "output_type": "stream",
     "text": [
      "------------------------------------------------------------\n",
      "Epoch 23, batch 799:\n",
      "Average original gradient norm: 0.4000807902030647 (over last 800 batches)\n",
      "Average clipped gradient norm: 0.4000807902030647 (over last 800 batches)\n",
      "Running average global loss: 0.46767762780189515 (over last 800 batches)\n",
      "Running average activity prediction loss: 0.30689864840358494 (Cross Entropy over last 800 batches)\n",
      "Running average time till next event prediction loss: 0.16077897995710372 (MAE over last 800 batches)\n",
      "------------------------------------------------------------\n"
     ]
    },
    {
     "name": "stderr",
     "output_type": "stream",
     "text": [
      "Batch calculation at epoch 23.: 1607it [00:50, 33.21it/s]"
     ]
    },
    {
     "name": "stdout",
     "output_type": "stream",
     "text": [
      "------------------------------------------------------------\n",
      "Epoch 23, batch 1599:\n",
      "Average original gradient norm: 0.3905253035016358 (over last 800 batches)\n",
      "Average clipped gradient norm: 0.3905253035016358 (over last 800 batches)\n",
      "Running average global loss: 0.4665117448568344 (over last 800 batches)\n",
      "Running average activity prediction loss: 0.3054660441726446 (Cross Entropy over last 800 batches)\n",
      "Running average time till next event prediction loss: 0.16104570013470948 (MAE over last 800 batches)\n",
      "------------------------------------------------------------\n"
     ]
    },
    {
     "name": "stderr",
     "output_type": "stream",
     "text": [
      "Batch calculation at epoch 23.: 2406it [01:14, 38.19it/s]"
     ]
    },
    {
     "name": "stdout",
     "output_type": "stream",
     "text": [
      "------------------------------------------------------------\n",
      "Epoch 23, batch 2399:\n",
      "Average original gradient norm: 0.4148057565279305 (over last 800 batches)\n",
      "Average clipped gradient norm: 0.4148057565279305 (over last 800 batches)\n",
      "Running average global loss: 0.4686201763153076 (over last 800 batches)\n",
      "Running average activity prediction loss: 0.3079872949048877 (Cross Entropy over last 800 batches)\n",
      "Running average time till next event prediction loss: 0.16063288180157542 (MAE over last 800 batches)\n",
      "------------------------------------------------------------\n"
     ]
    },
    {
     "name": "stderr",
     "output_type": "stream",
     "text": [
      "Batch calculation at epoch 23.: 3206it [01:38, 33.42it/s]"
     ]
    },
    {
     "name": "stdout",
     "output_type": "stream",
     "text": [
      "------------------------------------------------------------\n",
      "Epoch 23, batch 3199:\n",
      "Average original gradient norm: 0.4025493128225207 (over last 800 batches)\n",
      "Average clipped gradient norm: 0.4022064548358321 (over last 800 batches)\n",
      "Running average global loss: 0.46780981712043285 (over last 800 batches)\n",
      "Running average activity prediction loss: 0.30655380204319954 (Cross Entropy over last 800 batches)\n",
      "Running average time till next event prediction loss: 0.16125601454637944 (MAE over last 800 batches)\n",
      "------------------------------------------------------------\n"
     ]
    },
    {
     "name": "stderr",
     "output_type": "stream",
     "text": [
      "Batch calculation at epoch 23.: 4007it [02:00, 47.76it/s]"
     ]
    },
    {
     "name": "stdout",
     "output_type": "stream",
     "text": [
      "------------------------------------------------------------\n",
      "Epoch 23, batch 3999:\n",
      "Average original gradient norm: 0.423003247436136 (over last 800 batches)\n",
      "Average clipped gradient norm: 0.4200775538943708 (over last 800 batches)\n",
      "Running average global loss: 0.4669812168926001 (over last 800 batches)\n",
      "Running average activity prediction loss: 0.3065051396936178 (Cross Entropy over last 800 batches)\n",
      "Running average time till next event prediction loss: 0.16047607643529774 (MAE over last 800 batches)\n",
      "------------------------------------------------------------\n"
     ]
    },
    {
     "name": "stderr",
     "output_type": "stream",
     "text": [
      "Batch calculation at epoch 23.: 4798it [02:19, 34.40it/s]\n"
     ]
    },
    {
     "name": "stdout",
     "output_type": "stream",
     "text": [
      "=======================================\n",
      "End of epoch 23\n",
      "=======================================\n",
      "Running average global loss: 0.4675839726626873 (over last 800 batches)\n",
      "Running average activity prediction loss: 0.3072318444401026 (Cross Entropy over last 800 batches)\n",
      "Running average time till next event prediction loss: 0.16035212838090956 (MAE over last 800 batches)\n"
     ]
    },
    {
     "name": "stderr",
     "output_type": "stream",
     "text": [
      "Validation batch calculation: 72it [01:02,  1.16it/s]\n"
     ]
    },
    {
     "name": "stdout",
     "output_type": "stream",
     "text": [
      "Avg MAE TTNE prediction validation set: 0.20628072321414948 (standardized) ; 764.0055989583333 (minutes)'\n",
      "Avg 1-(normalized) DL distance acitivty suffix prediction validation set: 0.2184809148311615\n",
      "Percentage of suffixes predicted to END: too early - 0.012819375140787867 ; right moment - 0.09531253199724227 ; too late - 0.8918680928619699\n",
      "Too early instances - avg amount of events too early: 9.022896766662598\n",
      "Too late instances - avg amount of events too late: 62.45121383666992\n",
      "Avg absolute amount of events predicted too early / too late: 55.81391525268555\n",
      "Avg MAE RRT prediction validation set:  11708.880208333334 (minutes)'\n",
      " \n",
      "------------------------------------\n",
      "EPOCH 24:\n",
      "____________________________________\n"
     ]
    },
    {
     "name": "stderr",
     "output_type": "stream",
     "text": [
      "Batch calculation at epoch 24.: 805it [00:26, 26.42it/s]"
     ]
    },
    {
     "name": "stdout",
     "output_type": "stream",
     "text": [
      "------------------------------------------------------------\n",
      "Epoch 24, batch 799:\n",
      "Average original gradient norm: 0.4182869811914861 (over last 800 batches)\n",
      "Average clipped gradient norm: 0.4182869811914861 (over last 800 batches)\n",
      "Running average global loss: 0.4679123850539327 (over last 800 batches)\n",
      "Running average activity prediction loss: 0.30668692994862795 (Cross Entropy over last 800 batches)\n",
      "Running average time till next event prediction loss: 0.16122545423917473 (MAE over last 800 batches)\n",
      "------------------------------------------------------------\n"
     ]
    },
    {
     "name": "stderr",
     "output_type": "stream",
     "text": [
      "Batch calculation at epoch 24.: 1604it [00:54, 27.79it/s]"
     ]
    },
    {
     "name": "stdout",
     "output_type": "stream",
     "text": [
      "------------------------------------------------------------\n",
      "Epoch 24, batch 1599:\n",
      "Average original gradient norm: 0.4032597635313869 (over last 800 batches)\n",
      "Average clipped gradient norm: 0.4032597635313869 (over last 800 batches)\n",
      "Running average global loss: 0.4660167257860303 (over last 800 batches)\n",
      "Running average activity prediction loss: 0.30600485380738973 (Cross Entropy over last 800 batches)\n",
      "Running average time till next event prediction loss: 0.1600118717458099 (MAE over last 800 batches)\n",
      "------------------------------------------------------------\n"
     ]
    },
    {
     "name": "stderr",
     "output_type": "stream",
     "text": [
      "Batch calculation at epoch 24.: 2402it [01:20, 16.35it/s]"
     ]
    },
    {
     "name": "stdout",
     "output_type": "stream",
     "text": [
      "------------------------------------------------------------\n",
      "Epoch 24, batch 2399:\n",
      "Average original gradient norm: 0.40606397718191145 (over last 800 batches)\n",
      "Average clipped gradient norm: 0.40606397718191145 (over last 800 batches)\n",
      "Running average global loss: 0.467007318995893 (over last 800 batches)\n",
      "Running average activity prediction loss: 0.3067080192640424 (Cross Entropy over last 800 batches)\n",
      "Running average time till next event prediction loss: 0.16029929949901997 (MAE over last 800 batches)\n",
      "------------------------------------------------------------\n"
     ]
    },
    {
     "name": "stderr",
     "output_type": "stream",
     "text": [
      "Batch calculation at epoch 24.: 3204it [01:55, 22.53it/s]"
     ]
    },
    {
     "name": "stdout",
     "output_type": "stream",
     "text": [
      "------------------------------------------------------------\n",
      "Epoch 24, batch 3199:\n",
      "Average original gradient norm: 0.3937776590511203 (over last 800 batches)\n",
      "Average clipped gradient norm: 0.393100290261209 (over last 800 batches)\n",
      "Running average global loss: 0.4667387599125504 (over last 800 batches)\n",
      "Running average activity prediction loss: 0.306078310534358 (Cross Entropy over last 800 batches)\n",
      "Running average time till next event prediction loss: 0.160660448865965 (MAE over last 800 batches)\n",
      "------------------------------------------------------------\n"
     ]
    },
    {
     "name": "stderr",
     "output_type": "stream",
     "text": [
      "Batch calculation at epoch 24.: 4006it [02:21, 37.18it/s]"
     ]
    },
    {
     "name": "stdout",
     "output_type": "stream",
     "text": [
      "------------------------------------------------------------\n",
      "Epoch 24, batch 3999:\n",
      "Average original gradient norm: 0.407730292622 (over last 800 batches)\n",
      "Average clipped gradient norm: 0.4050500702299178 (over last 800 batches)\n",
      "Running average global loss: 0.46697153061628344 (over last 800 batches)\n",
      "Running average activity prediction loss: 0.3066560199856758 (Cross Entropy over last 800 batches)\n",
      "Running average time till next event prediction loss: 0.16031551125459373 (MAE over last 800 batches)\n",
      "------------------------------------------------------------\n"
     ]
    },
    {
     "name": "stderr",
     "output_type": "stream",
     "text": [
      "Batch calculation at epoch 24.: 4798it [02:53, 27.70it/s]\n"
     ]
    },
    {
     "name": "stdout",
     "output_type": "stream",
     "text": [
      "=======================================\n",
      "End of epoch 24\n",
      "=======================================\n",
      "Running average global loss: 0.46736154101788996 (over last 800 batches)\n",
      "Running average activity prediction loss: 0.30591207832098005 (Cross Entropy over last 800 batches)\n",
      "Running average time till next event prediction loss: 0.16144946234300733 (MAE over last 800 batches)\n"
     ]
    },
    {
     "name": "stderr",
     "output_type": "stream",
     "text": [
      "Validation batch calculation: 72it [01:19,  1.10s/it]\n"
     ]
    },
    {
     "name": "stdout",
     "output_type": "stream",
     "text": [
      "Avg MAE TTNE prediction validation set: 0.20649467408657074 (standardized) ; 764.5057942708333 (minutes)'\n",
      "Avg 1-(normalized) DL distance acitivty suffix prediction validation set: 0.24839986860752106\n",
      "Percentage of suffixes predicted to END: too early - 0.03305187136937958 ; right moment - 0.10120343761305692 ; too late - 0.8657446910175635\n",
      "Too early instances - avg amount of events too early: 9.553903579711914\n",
      "Too late instances - avg amount of events too late: 58.918724060058594\n",
      "Avg absolute amount of events predicted too early / too late: 51.32434844970703\n",
      "Avg MAE RRT prediction validation set:  11836.198958333332 (minutes)'\n",
      " \n",
      "------------------------------------\n",
      "EPOCH 25:\n",
      "____________________________________\n"
     ]
    },
    {
     "name": "stderr",
     "output_type": "stream",
     "text": [
      "Batch calculation at epoch 25.: 808it [00:14, 51.18it/s]"
     ]
    },
    {
     "name": "stdout",
     "output_type": "stream",
     "text": [
      "------------------------------------------------------------\n",
      "Epoch 25, batch 799:\n",
      "Average original gradient norm: 0.39829017102718356 (over last 800 batches)\n",
      "Average clipped gradient norm: 0.39829017102718356 (over last 800 batches)\n",
      "Running average global loss: 0.46758150473237037 (over last 800 batches)\n",
      "Running average activity prediction loss: 0.3067060427367687 (Cross Entropy over last 800 batches)\n",
      "Running average time till next event prediction loss: 0.16087546224705876 (MAE over last 800 batches)\n",
      "------------------------------------------------------------\n"
     ]
    },
    {
     "name": "stderr",
     "output_type": "stream",
     "text": [
      "Batch calculation at epoch 25.: 1604it [00:34, 37.79it/s]"
     ]
    },
    {
     "name": "stdout",
     "output_type": "stream",
     "text": [
      "------------------------------------------------------------\n",
      "Epoch 25, batch 1599:\n",
      "Average original gradient norm: 0.40346343940123913 (over last 800 batches)\n",
      "Average clipped gradient norm: 0.40346343940123913 (over last 800 batches)\n",
      "Running average global loss: 0.46598372526466847 (over last 800 batches)\n",
      "Running average activity prediction loss: 0.3059059153869748 (Cross Entropy over last 800 batches)\n",
      "Running average time till next event prediction loss: 0.16007781015709044 (MAE over last 800 batches)\n",
      "------------------------------------------------------------\n"
     ]
    },
    {
     "name": "stderr",
     "output_type": "stream",
     "text": [
      "Batch calculation at epoch 25.: 2406it [00:59, 34.98it/s]"
     ]
    },
    {
     "name": "stdout",
     "output_type": "stream",
     "text": [
      "------------------------------------------------------------\n",
      "Epoch 25, batch 2399:\n",
      "Average original gradient norm: 0.39737918311730025 (over last 800 batches)\n",
      "Average clipped gradient norm: 0.39737918311730025 (over last 800 batches)\n",
      "Running average global loss: 0.4670922090113163 (over last 800 batches)\n",
      "Running average activity prediction loss: 0.3063220005854964 (Cross Entropy over last 800 batches)\n",
      "Running average time till next event prediction loss: 0.16077020833268763 (MAE over last 800 batches)\n",
      "------------------------------------------------------------\n"
     ]
    },
    {
     "name": "stderr",
     "output_type": "stream",
     "text": [
      "Batch calculation at epoch 25.: 3204it [01:20, 46.93it/s]"
     ]
    },
    {
     "name": "stdout",
     "output_type": "stream",
     "text": [
      "------------------------------------------------------------\n",
      "Epoch 25, batch 3199:\n",
      "Average original gradient norm: 0.3952745005115867 (over last 800 batches)\n",
      "Average clipped gradient norm: 0.3952745005115867 (over last 800 batches)\n",
      "Running average global loss: 0.46602583847939966 (over last 800 batches)\n",
      "Running average activity prediction loss: 0.3053971088305116 (Cross Entropy over last 800 batches)\n",
      "Running average time till next event prediction loss: 0.16062872954644264 (MAE over last 800 batches)\n",
      "------------------------------------------------------------\n"
     ]
    },
    {
     "name": "stderr",
     "output_type": "stream",
     "text": [
      "Batch calculation at epoch 25.: 4008it [01:35, 60.56it/s]"
     ]
    },
    {
     "name": "stdout",
     "output_type": "stream",
     "text": [
      "------------------------------------------------------------\n",
      "Epoch 25, batch 3999:\n",
      "Average original gradient norm: 0.44416408451274036 (over last 800 batches)\n",
      "Average clipped gradient norm: 0.43294170232489704 (over last 800 batches)\n",
      "Running average global loss: 0.46603077720850705 (over last 800 batches)\n",
      "Running average activity prediction loss: 0.30532003749161957 (Cross Entropy over last 800 batches)\n",
      "Running average time till next event prediction loss: 0.16071073963306845 (MAE over last 800 batches)\n",
      "------------------------------------------------------------\n"
     ]
    },
    {
     "name": "stderr",
     "output_type": "stream",
     "text": [
      "Batch calculation at epoch 25.: 4798it [01:52, 42.73it/s]\n"
     ]
    },
    {
     "name": "stdout",
     "output_type": "stream",
     "text": [
      "=======================================\n",
      "End of epoch 25\n",
      "=======================================\n",
      "Running average global loss: 0.4664486490190029 (over last 800 batches)\n",
      "Running average activity prediction loss: 0.30583285450935366 (Cross Entropy over last 800 batches)\n",
      "Running average time till next event prediction loss: 0.1606157950684428 (MAE over last 800 batches)\n"
     ]
    },
    {
     "name": "stderr",
     "output_type": "stream",
     "text": [
      "Validation batch calculation: 72it [00:59,  1.20it/s]\n"
     ]
    },
    {
     "name": "stdout",
     "output_type": "stream",
     "text": [
      "Avg MAE TTNE prediction validation set: 0.2062498778104782 (standardized) ; 763.7487630208333 (minutes)'\n",
      "Avg 1-(normalized) DL distance acitivty suffix prediction validation set: 0.22564908862113953\n",
      "Percentage of suffixes predicted to END: too early - 0.018007194686580612 ; right moment - 0.09853444097831354 ; too late - 0.8834583643351058\n",
      "Too early instances - avg amount of events too early: 9.344200134277344\n",
      "Too late instances - avg amount of events too late: 61.793949127197266\n",
      "Avg absolute amount of events predicted too early / too late: 54.760643005371094\n",
      "Avg MAE RRT prediction validation set:  11990.89375 (minutes)'\n",
      " \n",
      "------------------------------------\n",
      "EPOCH 26:\n",
      "____________________________________\n"
     ]
    },
    {
     "name": "stderr",
     "output_type": "stream",
     "text": [
      "Batch calculation at epoch 26.: 807it [00:20, 52.88it/s]"
     ]
    },
    {
     "name": "stdout",
     "output_type": "stream",
     "text": [
      "------------------------------------------------------------\n",
      "Epoch 26, batch 799:\n",
      "Average original gradient norm: 0.42578337498009206 (over last 800 batches)\n",
      "Average clipped gradient norm: 0.4080380257219076 (over last 800 batches)\n",
      "Running average global loss: 0.46634507935494185 (over last 800 batches)\n",
      "Running average activity prediction loss: 0.3057392893359065 (Cross Entropy over last 800 batches)\n",
      "Running average time till next event prediction loss: 0.16060579026117922 (MAE over last 800 batches)\n",
      "------------------------------------------------------------\n"
     ]
    },
    {
     "name": "stderr",
     "output_type": "stream",
     "text": [
      "Batch calculation at epoch 26.: 1609it [00:38, 45.32it/s]"
     ]
    },
    {
     "name": "stdout",
     "output_type": "stream",
     "text": [
      "------------------------------------------------------------\n",
      "Epoch 26, batch 1599:\n",
      "Average original gradient norm: 0.3904879872873426 (over last 800 batches)\n",
      "Average clipped gradient norm: 0.3904879872873426 (over last 800 batches)\n",
      "Running average global loss: 0.46707781583070757 (over last 800 batches)\n",
      "Running average activity prediction loss: 0.30663715973496436 (Cross Entropy over last 800 batches)\n",
      "Running average time till next event prediction loss: 0.16044065611436964 (MAE over last 800 batches)\n",
      "------------------------------------------------------------\n"
     ]
    },
    {
     "name": "stderr",
     "output_type": "stream",
     "text": [
      "Batch calculation at epoch 26.: 2408it [00:55, 56.52it/s]"
     ]
    },
    {
     "name": "stdout",
     "output_type": "stream",
     "text": [
      "------------------------------------------------------------\n",
      "Epoch 26, batch 2399:\n",
      "Average original gradient norm: 0.4059293697215617 (over last 800 batches)\n",
      "Average clipped gradient norm: 0.4059293697215617 (over last 800 batches)\n",
      "Running average global loss: 0.4656024374067783 (over last 800 batches)\n",
      "Running average activity prediction loss: 0.3053106229007244 (Cross Entropy over last 800 batches)\n",
      "Running average time till next event prediction loss: 0.1602918147854507 (MAE over last 800 batches)\n",
      "------------------------------------------------------------\n"
     ]
    },
    {
     "name": "stderr",
     "output_type": "stream",
     "text": [
      "Batch calculation at epoch 26.: 3208it [01:11, 58.12it/s]"
     ]
    },
    {
     "name": "stdout",
     "output_type": "stream",
     "text": [
      "------------------------------------------------------------\n",
      "Epoch 26, batch 3199:\n",
      "Average original gradient norm: 0.39541958559304474 (over last 800 batches)\n",
      "Average clipped gradient norm: 0.39541958559304474 (over last 800 batches)\n",
      "Running average global loss: 0.4669279009476304 (over last 800 batches)\n",
      "Running average activity prediction loss: 0.3053832647949457 (Cross Entropy over last 800 batches)\n",
      "Running average time till next event prediction loss: 0.16154463591054083 (MAE over last 800 batches)\n",
      "------------------------------------------------------------\n"
     ]
    },
    {
     "name": "stderr",
     "output_type": "stream",
     "text": [
      "Batch calculation at epoch 26.: 4003it [01:30, 25.94it/s]"
     ]
    },
    {
     "name": "stdout",
     "output_type": "stream",
     "text": [
      "------------------------------------------------------------\n",
      "Epoch 26, batch 3999:\n",
      "Average original gradient norm: 0.41351591603830457 (over last 800 batches)\n",
      "Average clipped gradient norm: 0.4101454867608845 (over last 800 batches)\n",
      "Running average global loss: 0.4651230615004897 (over last 800 batches)\n",
      "Running average activity prediction loss: 0.304932787232101 (Cross Entropy over last 800 batches)\n",
      "Running average time till next event prediction loss: 0.1601902737375349 (MAE over last 800 batches)\n",
      "------------------------------------------------------------\n"
     ]
    },
    {
     "name": "stderr",
     "output_type": "stream",
     "text": [
      "Batch calculation at epoch 26.: 4798it [01:55, 41.67it/s]\n"
     ]
    },
    {
     "name": "stdout",
     "output_type": "stream",
     "text": [
      "=======================================\n",
      "End of epoch 26\n",
      "=======================================\n",
      "Running average global loss: 0.46536265339702365 (over last 800 batches)\n",
      "Running average activity prediction loss: 0.3052165374904871 (Cross Entropy over last 800 batches)\n",
      "Running average time till next event prediction loss: 0.16014611592516304 (MAE over last 800 batches)\n"
     ]
    },
    {
     "name": "stderr",
     "output_type": "stream",
     "text": [
      "Validation batch calculation: 72it [01:07,  1.07it/s]\n"
     ]
    },
    {
     "name": "stdout",
     "output_type": "stream",
     "text": [
      "Avg MAE TTNE prediction validation set: 0.20629434287548065 (standardized) ; 763.7086588541666 (minutes)'\n",
      "Avg 1-(normalized) DL distance acitivty suffix prediction validation set: 0.25037655234336853\n",
      "Percentage of suffixes predicted to END: too early - 0.030430657283084295 ; right moment - 0.10035017781934101 ; too late - 0.8692191648975747\n",
      "Too early instances - avg amount of events too early: 9.505159378051758\n",
      "Too late instances - avg amount of events too late: 57.5900993347168\n",
      "Avg absolute amount of events predicted too early / too late: 50.3476676940918\n",
      "Avg MAE RRT prediction validation set:  11801.830208333333 (minutes)'\n",
      " \n",
      "------------------------------------\n",
      "EPOCH 27:\n",
      "____________________________________\n"
     ]
    },
    {
     "name": "stderr",
     "output_type": "stream",
     "text": [
      "Batch calculation at epoch 27.: 805it [00:29, 37.38it/s]"
     ]
    },
    {
     "name": "stdout",
     "output_type": "stream",
     "text": [
      "------------------------------------------------------------\n",
      "Epoch 27, batch 799:\n",
      "Average original gradient norm: 0.40575318053364756 (over last 800 batches)\n",
      "Average clipped gradient norm: 0.40575318053364756 (over last 800 batches)\n",
      "Running average global loss: 0.46506634686142206 (over last 800 batches)\n",
      "Running average activity prediction loss: 0.30504803992807866 (Cross Entropy over last 800 batches)\n",
      "Running average time till next event prediction loss: 0.16001830724999308 (MAE over last 800 batches)\n",
      "------------------------------------------------------------\n"
     ]
    },
    {
     "name": "stderr",
     "output_type": "stream",
     "text": [
      "Batch calculation at epoch 27.: 1604it [00:54, 31.98it/s]"
     ]
    },
    {
     "name": "stdout",
     "output_type": "stream",
     "text": [
      "------------------------------------------------------------\n",
      "Epoch 27, batch 1599:\n",
      "Average original gradient norm: 0.38958668941631913 (over last 800 batches)\n",
      "Average clipped gradient norm: 0.38958668941631913 (over last 800 batches)\n",
      "Running average global loss: 0.46485394082963466 (over last 800 batches)\n",
      "Running average activity prediction loss: 0.3051000215485692 (Cross Entropy over last 800 batches)\n",
      "Running average time till next event prediction loss: 0.15975391935557126 (MAE over last 800 batches)\n",
      "------------------------------------------------------------\n"
     ]
    },
    {
     "name": "stderr",
     "output_type": "stream",
     "text": [
      "Batch calculation at epoch 27.: 2405it [01:18, 37.07it/s]"
     ]
    },
    {
     "name": "stdout",
     "output_type": "stream",
     "text": [
      "------------------------------------------------------------\n",
      "Epoch 27, batch 2399:\n",
      "Average original gradient norm: 0.40721403865143657 (over last 800 batches)\n",
      "Average clipped gradient norm: 0.40721403865143657 (over last 800 batches)\n",
      "Running average global loss: 0.4666279362514615 (over last 800 batches)\n",
      "Running average activity prediction loss: 0.305640549659729 (Cross Entropy over last 800 batches)\n",
      "Running average time till next event prediction loss: 0.16098738725297154 (MAE over last 800 batches)\n",
      "------------------------------------------------------------\n"
     ]
    },
    {
     "name": "stderr",
     "output_type": "stream",
     "text": [
      "Batch calculation at epoch 27.: 3200it [01:38, 47.03it/s]"
     ]
    },
    {
     "name": "stdout",
     "output_type": "stream",
     "text": [
      "------------------------------------------------------------\n",
      "Epoch 27, batch 3199:\n",
      "Average original gradient norm: 0.42349413499236105 (over last 800 batches)\n",
      "Average clipped gradient norm: 0.4153170473873615 (over last 800 batches)\n",
      "Running average global loss: 0.46559377916157246 (over last 800 batches)\n",
      "Running average activity prediction loss: 0.30501736771315335 (Cross Entropy over last 800 batches)\n",
      "Running average time till next event prediction loss: 0.16057641135528683 (MAE over last 800 batches)\n",
      "------------------------------------------------------------\n"
     ]
    },
    {
     "name": "stderr",
     "output_type": "stream",
     "text": [
      "Batch calculation at epoch 27.: 4006it [01:59, 38.97it/s]"
     ]
    },
    {
     "name": "stdout",
     "output_type": "stream",
     "text": [
      "------------------------------------------------------------\n",
      "Epoch 27, batch 3999:\n",
      "Average original gradient norm: 0.4121772716753185 (over last 800 batches)\n",
      "Average clipped gradient norm: 0.4055031204037368 (over last 800 batches)\n",
      "Running average global loss: 0.46585622768849133 (over last 800 batches)\n",
      "Running average activity prediction loss: 0.30525854650884865 (Cross Entropy over last 800 batches)\n",
      "Running average time till next event prediction loss: 0.16059768175706268 (MAE over last 800 batches)\n",
      "------------------------------------------------------------\n"
     ]
    },
    {
     "name": "stderr",
     "output_type": "stream",
     "text": [
      "Batch calculation at epoch 27.: 4798it [02:20, 34.11it/s]\n"
     ]
    },
    {
     "name": "stdout",
     "output_type": "stream",
     "text": [
      "=======================================\n",
      "End of epoch 27\n",
      "=======================================\n",
      "Running average global loss: 0.46606675572693346 (over last 800 batches)\n",
      "Running average activity prediction loss: 0.3051089181751013 (Cross Entropy over last 800 batches)\n",
      "Running average time till next event prediction loss: 0.16095783749595285 (MAE over last 800 batches)\n"
     ]
    },
    {
     "name": "stderr",
     "output_type": "stream",
     "text": [
      "Validation batch calculation: 72it [00:57,  1.26it/s]\n"
     ]
    },
    {
     "name": "stdout",
     "output_type": "stream",
     "text": [
      "Avg MAE TTNE prediction validation set: 0.20547892153263092 (standardized) ; 760.6902994791667 (minutes)'\n",
      "Avg 1-(normalized) DL distance acitivty suffix prediction validation set: 0.2246587723493576\n",
      "Percentage of suffixes predicted to END: too early - 0.01531089373843833 ; right moment - 0.09627500904455381 ; too late - 0.8884140972170078\n",
      "Too early instances - avg amount of events too early: 9.230494499206543\n",
      "Too late instances - avg amount of events too late: 60.789390563964844\n",
      "Avg absolute amount of events predicted too early / too late: 54.14747619628906\n",
      "Avg MAE RRT prediction validation set:  11876.926041666668 (minutes)'\n",
      " \n",
      "------------------------------------\n",
      "EPOCH 28:\n",
      "____________________________________\n"
     ]
    },
    {
     "name": "stderr",
     "output_type": "stream",
     "text": [
      "Batch calculation at epoch 28.: 803it [00:30, 29.58it/s]"
     ]
    },
    {
     "name": "stdout",
     "output_type": "stream",
     "text": [
      "------------------------------------------------------------\n",
      "Epoch 28, batch 799:\n",
      "Average original gradient norm: 0.40394450357183814 (over last 800 batches)\n",
      "Average clipped gradient norm: 0.40394450357183814 (over last 800 batches)\n",
      "Running average global loss: 0.46614154767245053 (over last 800 batches)\n",
      "Running average activity prediction loss: 0.30509639289230106 (Cross Entropy over last 800 batches)\n",
      "Running average time till next event prediction loss: 0.1610451545100659 (MAE over last 800 batches)\n",
      "------------------------------------------------------------\n"
     ]
    },
    {
     "name": "stderr",
     "output_type": "stream",
     "text": [
      "Batch calculation at epoch 28.: 1604it [01:00, 23.98it/s]"
     ]
    },
    {
     "name": "stdout",
     "output_type": "stream",
     "text": [
      "------------------------------------------------------------\n",
      "Epoch 28, batch 1599:\n",
      "Average original gradient norm: 0.40259456807747485 (over last 800 batches)\n",
      "Average clipped gradient norm: 0.40259456807747485 (over last 800 batches)\n",
      "Running average global loss: 0.4659305784478784 (over last 800 batches)\n",
      "Running average activity prediction loss: 0.3054367111995816 (Cross Entropy over last 800 batches)\n",
      "Running average time till next event prediction loss: 0.1604938672669232 (MAE over last 800 batches)\n",
      "------------------------------------------------------------\n"
     ]
    },
    {
     "name": "stderr",
     "output_type": "stream",
     "text": [
      "Batch calculation at epoch 28.: 2405it [01:27, 25.56it/s]"
     ]
    },
    {
     "name": "stdout",
     "output_type": "stream",
     "text": [
      "------------------------------------------------------------\n",
      "Epoch 28, batch 2399:\n",
      "Average original gradient norm: 0.40644505275413395 (over last 800 batches)\n",
      "Average clipped gradient norm: 0.40644505275413395 (over last 800 batches)\n",
      "Running average global loss: 0.46515723459422587 (over last 800 batches)\n",
      "Running average activity prediction loss: 0.304753149934113 (Cross Entropy over last 800 batches)\n",
      "Running average time till next event prediction loss: 0.16040408451110125 (MAE over last 800 batches)\n",
      "------------------------------------------------------------\n"
     ]
    },
    {
     "name": "stderr",
     "output_type": "stream",
     "text": [
      "Batch calculation at epoch 28.: 3206it [01:54, 35.32it/s]"
     ]
    },
    {
     "name": "stdout",
     "output_type": "stream",
     "text": [
      "------------------------------------------------------------\n",
      "Epoch 28, batch 3199:\n",
      "Average original gradient norm: 0.4003605809248984 (over last 800 batches)\n",
      "Average clipped gradient norm: 0.4003605809248984 (over last 800 batches)\n",
      "Running average global loss: 0.4647969117760658 (over last 800 batches)\n",
      "Running average activity prediction loss: 0.30415522698312997 (Cross Entropy over last 800 batches)\n",
      "Running average time till next event prediction loss: 0.16064168489538133 (MAE over last 800 batches)\n",
      "------------------------------------------------------------\n"
     ]
    },
    {
     "name": "stderr",
     "output_type": "stream",
     "text": [
      "Batch calculation at epoch 28.: 4002it [02:14, 33.97it/s]"
     ]
    },
    {
     "name": "stdout",
     "output_type": "stream",
     "text": [
      "------------------------------------------------------------\n",
      "Epoch 28, batch 3999:\n",
      "Average original gradient norm: 0.39901248693466185 (over last 800 batches)\n",
      "Average clipped gradient norm: 0.39901248693466185 (over last 800 batches)\n",
      "Running average global loss: 0.46451075542718173 (over last 800 batches)\n",
      "Running average activity prediction loss: 0.3047959207370877 (Cross Entropy over last 800 batches)\n",
      "Running average time till next event prediction loss: 0.15971483441069723 (MAE over last 800 batches)\n",
      "------------------------------------------------------------\n"
     ]
    },
    {
     "name": "stderr",
     "output_type": "stream",
     "text": [
      "Batch calculation at epoch 28.: 4798it [02:35, 30.85it/s]\n"
     ]
    },
    {
     "name": "stdout",
     "output_type": "stream",
     "text": [
      "=======================================\n",
      "End of epoch 28\n",
      "=======================================\n",
      "Running average global loss: 0.4651596788316965 (over last 800 batches)\n",
      "Running average activity prediction loss: 0.30482404101639987 (Cross Entropy over last 800 batches)\n",
      "Running average time till next event prediction loss: 0.16033563746139406 (MAE over last 800 batches)\n"
     ]
    },
    {
     "name": "stderr",
     "output_type": "stream",
     "text": [
      "Validation batch calculation: 72it [01:02,  1.14it/s]\n"
     ]
    },
    {
     "name": "stdout",
     "output_type": "stream",
     "text": [
      "Avg MAE TTNE prediction validation set: 0.20618148148059845 (standardized) ; 763.4177083333333 (minutes)'\n",
      "Avg 1-(normalized) DL distance acitivty suffix prediction validation set: 0.23989762365818024\n",
      "Percentage of suffixes predicted to END: too early - 0.026369140664996554 ; right moment - 0.09931943998853218 ; too late - 0.8743114193464713\n",
      "Too early instances - avg amount of events too early: 9.446803092956543\n",
      "Too late instances - avg amount of events too late: 59.2260627746582\n",
      "Avg absolute amount of events predicted too early / too late: 52.0311279296875\n",
      "Avg MAE RRT prediction validation set:  11941.436458333334 (minutes)'\n",
      " \n",
      "------------------------------------\n",
      "EPOCH 29:\n",
      "____________________________________\n"
     ]
    },
    {
     "name": "stderr",
     "output_type": "stream",
     "text": [
      "Batch calculation at epoch 29.: 805it [00:34, 33.92it/s]"
     ]
    },
    {
     "name": "stdout",
     "output_type": "stream",
     "text": [
      "------------------------------------------------------------\n",
      "Epoch 29, batch 799:\n",
      "Average original gradient norm: 0.39917325323447583 (over last 800 batches)\n",
      "Average clipped gradient norm: 0.39917325323447583 (over last 800 batches)\n",
      "Running average global loss: 0.4653565889969468 (over last 800 batches)\n",
      "Running average activity prediction loss: 0.3044916962087154 (Cross Entropy over last 800 batches)\n",
      "Running average time till next event prediction loss: 0.16086489239707588 (MAE over last 800 batches)\n",
      "------------------------------------------------------------\n"
     ]
    },
    {
     "name": "stderr",
     "output_type": "stream",
     "text": [
      "Batch calculation at epoch 29.: 1607it [01:03, 37.16it/s]"
     ]
    },
    {
     "name": "stdout",
     "output_type": "stream",
     "text": [
      "------------------------------------------------------------\n",
      "Epoch 29, batch 1599:\n",
      "Average original gradient norm: 0.4010259016416967 (over last 800 batches)\n",
      "Average clipped gradient norm: 0.4010259016416967 (over last 800 batches)\n",
      "Running average global loss: 0.4645219574868679 (over last 800 batches)\n",
      "Running average activity prediction loss: 0.30465392988175155 (Cross Entropy over last 800 batches)\n",
      "Running average time till next event prediction loss: 0.1598680276144296 (MAE over last 800 batches)\n",
      "------------------------------------------------------------\n"
     ]
    },
    {
     "name": "stderr",
     "output_type": "stream",
     "text": [
      "Batch calculation at epoch 29.: 2401it [01:24, 36.67it/s]"
     ]
    },
    {
     "name": "stdout",
     "output_type": "stream",
     "text": [
      "------------------------------------------------------------\n",
      "Epoch 29, batch 2399:\n",
      "Average original gradient norm: 0.41178267762064935 (over last 800 batches)\n",
      "Average clipped gradient norm: 0.4111486227810383 (over last 800 batches)\n",
      "Running average global loss: 0.4644712495058775 (over last 800 batches)\n",
      "Running average activity prediction loss: 0.3045014403387904 (Cross Entropy over last 800 batches)\n",
      "Running average time till next event prediction loss: 0.15996980911120773 (MAE over last 800 batches)\n",
      "------------------------------------------------------------\n"
     ]
    },
    {
     "name": "stderr",
     "output_type": "stream",
     "text": [
      "Batch calculation at epoch 29.: 3207it [01:45, 36.64it/s]"
     ]
    },
    {
     "name": "stdout",
     "output_type": "stream",
     "text": [
      "------------------------------------------------------------\n",
      "Epoch 29, batch 3199:\n",
      "Average original gradient norm: 0.4229944541119039 (over last 800 batches)\n",
      "Average clipped gradient norm: 0.41983420809730887 (over last 800 batches)\n",
      "Running average global loss: 0.4647634455561638 (over last 800 batches)\n",
      "Running average activity prediction loss: 0.3048539365455508 (Cross Entropy over last 800 batches)\n",
      "Running average time till next event prediction loss: 0.1599095086194575 (MAE over last 800 batches)\n",
      "------------------------------------------------------------\n"
     ]
    },
    {
     "name": "stderr",
     "output_type": "stream",
     "text": [
      "Batch calculation at epoch 29.: 4001it [02:07, 36.88it/s]"
     ]
    },
    {
     "name": "stdout",
     "output_type": "stream",
     "text": [
      "------------------------------------------------------------\n",
      "Epoch 29, batch 3999:\n",
      "Average original gradient norm: 0.3891232464276254 (over last 800 batches)\n",
      "Average clipped gradient norm: 0.3880749446712434 (over last 800 batches)\n",
      "Running average global loss: 0.4644097164273262 (over last 800 batches)\n",
      "Running average activity prediction loss: 0.304064846560359 (Cross Entropy over last 800 batches)\n",
      "Running average time till next event prediction loss: 0.160344869941473 (MAE over last 800 batches)\n",
      "------------------------------------------------------------\n"
     ]
    },
    {
     "name": "stderr",
     "output_type": "stream",
     "text": [
      "Batch calculation at epoch 29.: 4798it [02:39, 30.09it/s]\n"
     ]
    },
    {
     "name": "stdout",
     "output_type": "stream",
     "text": [
      "=======================================\n",
      "End of epoch 29\n",
      "=======================================\n",
      "Running average global loss: 0.465978579595685 (over last 800 batches)\n",
      "Running average activity prediction loss: 0.30454617567360404 (Cross Entropy over last 800 batches)\n",
      "Running average time till next event prediction loss: 0.16143240360543132 (MAE over last 800 batches)\n"
     ]
    },
    {
     "name": "stderr",
     "output_type": "stream",
     "text": [
      "Validation batch calculation: 72it [01:14,  1.03s/it]\n"
     ]
    },
    {
     "name": "stdout",
     "output_type": "stream",
     "text": [
      "Avg MAE TTNE prediction validation set: 0.2062915563583374 (standardized) ; 763.9908203125 (minutes)'\n",
      "Avg 1-(normalized) DL distance acitivty suffix prediction validation set: 0.23624686896800995\n",
      "Percentage of suffixes predicted to END: too early - 0.022601145415947085 ; right moment - 0.09790644177013864 ; too late - 0.8794924128139143\n",
      "Too early instances - avg amount of events too early: 9.460585594177246\n",
      "Too late instances - avg amount of events too late: 59.22431945800781\n",
      "Avg absolute amount of events predicted too early / too late: 52.3011589050293\n",
      "Avg MAE RRT prediction validation set:  11788.814583333333 (minutes)'\n",
      " \n",
      "------------------------------------\n",
      "EPOCH 30:\n",
      "____________________________________\n"
     ]
    },
    {
     "name": "stderr",
     "output_type": "stream",
     "text": [
      "Batch calculation at epoch 30.: 805it [00:25, 34.51it/s]"
     ]
    },
    {
     "name": "stdout",
     "output_type": "stream",
     "text": [
      "------------------------------------------------------------\n",
      "Epoch 30, batch 799:\n",
      "Average original gradient norm: 0.40696600841358305 (over last 800 batches)\n",
      "Average clipped gradient norm: 0.40696600841358305 (over last 800 batches)\n",
      "Running average global loss: 0.46438419826328753 (over last 800 batches)\n",
      "Running average activity prediction loss: 0.3039618966728449 (Cross Entropy over last 800 batches)\n",
      "Running average time till next event prediction loss: 0.1604223022609949 (MAE over last 800 batches)\n",
      "------------------------------------------------------------\n"
     ]
    },
    {
     "name": "stderr",
     "output_type": "stream",
     "text": [
      "Batch calculation at epoch 30.: 1603it [00:50, 25.82it/s]"
     ]
    },
    {
     "name": "stdout",
     "output_type": "stream",
     "text": [
      "------------------------------------------------------------\n",
      "Epoch 30, batch 1599:\n",
      "Average original gradient norm: 0.40654520861804483 (over last 800 batches)\n",
      "Average clipped gradient norm: 0.40654520861804483 (over last 800 batches)\n",
      "Running average global loss: 0.46478908497840166 (over last 800 batches)\n",
      "Running average activity prediction loss: 0.3041922328993678 (Cross Entropy over last 800 batches)\n",
      "Running average time till next event prediction loss: 0.16059685224667192 (MAE over last 800 batches)\n",
      "------------------------------------------------------------\n"
     ]
    },
    {
     "name": "stderr",
     "output_type": "stream",
     "text": [
      "Batch calculation at epoch 30.: 2403it [01:17, 29.85it/s]"
     ]
    },
    {
     "name": "stdout",
     "output_type": "stream",
     "text": [
      "------------------------------------------------------------\n",
      "Epoch 30, batch 2399:\n",
      "Average original gradient norm: 0.3929234959743917 (over last 800 batches)\n",
      "Average clipped gradient norm: 0.3929234959743917 (over last 800 batches)\n",
      "Running average global loss: 0.4637746616080403 (over last 800 batches)\n",
      "Running average activity prediction loss: 0.30425822660326957 (Cross Entropy over last 800 batches)\n",
      "Running average time till next event prediction loss: 0.15951643515378236 (MAE over last 800 batches)\n",
      "------------------------------------------------------------\n"
     ]
    },
    {
     "name": "stderr",
     "output_type": "stream",
     "text": [
      "Batch calculation at epoch 30.: 3206it [01:45, 33.87it/s]"
     ]
    },
    {
     "name": "stdout",
     "output_type": "stream",
     "text": [
      "------------------------------------------------------------\n",
      "Epoch 30, batch 3199:\n",
      "Average original gradient norm: 0.40256145875900984 (over last 800 batches)\n",
      "Average clipped gradient norm: 0.40256145875900984 (over last 800 batches)\n",
      "Running average global loss: 0.4644490340352058 (over last 800 batches)\n",
      "Running average activity prediction loss: 0.30410568561404944 (Cross Entropy over last 800 batches)\n",
      "Running average time till next event prediction loss: 0.16034334876574577 (MAE over last 800 batches)\n",
      "------------------------------------------------------------\n"
     ]
    },
    {
     "name": "stderr",
     "output_type": "stream",
     "text": [
      "Batch calculation at epoch 30.: 4005it [02:13, 32.29it/s]"
     ]
    },
    {
     "name": "stdout",
     "output_type": "stream",
     "text": [
      "------------------------------------------------------------\n",
      "Epoch 30, batch 3999:\n",
      "Average original gradient norm: 0.3922842036560178 (over last 800 batches)\n",
      "Average clipped gradient norm: 0.3922842036560178 (over last 800 batches)\n",
      "Running average global loss: 0.4646783764660358 (over last 800 batches)\n",
      "Running average activity prediction loss: 0.30429750964045527 (Cross Entropy over last 800 batches)\n",
      "Running average time till next event prediction loss: 0.1603808669745922 (MAE over last 800 batches)\n",
      "------------------------------------------------------------\n"
     ]
    },
    {
     "name": "stderr",
     "output_type": "stream",
     "text": [
      "Batch calculation at epoch 30.: 4798it [02:42, 29.46it/s]\n"
     ]
    },
    {
     "name": "stdout",
     "output_type": "stream",
     "text": [
      "=======================================\n",
      "End of epoch 30\n",
      "=======================================\n",
      "Running average global loss: 0.4650184193998575 (over last 800 batches)\n",
      "Running average activity prediction loss: 0.30423145517706873 (Cross Entropy over last 800 batches)\n",
      "Running average time till next event prediction loss: 0.16078696483746172 (MAE over last 800 batches)\n"
     ]
    },
    {
     "name": "stderr",
     "output_type": "stream",
     "text": [
      "Validation batch calculation: 72it [01:06,  1.08it/s]\n"
     ]
    },
    {
     "name": "stdout",
     "output_type": "stream",
     "text": [
      "Avg MAE TTNE prediction validation set: 0.2061276137828827 (standardized) ; 763.0944010416666 (minutes)'\n",
      "Avg 1-(normalized) DL distance acitivty suffix prediction validation set: 0.24469485878944397\n",
      "Percentage of suffixes predicted to END: too early - 0.028130268879226195 ; right moment - 0.09918974449988736 ; too late - 0.8726799866208864\n",
      "Too early instances - avg amount of events too early: 9.474641799926758\n",
      "Too late instances - avg amount of events too late: 58.16444778442383\n",
      "Avg absolute amount of events predicted too early / too late: 51.025474548339844\n",
      "Avg MAE RRT prediction validation set:  12018.630208333334 (minutes)'\n",
      " \n",
      "------------------------------------\n",
      "EPOCH 31:\n",
      "____________________________________\n"
     ]
    },
    {
     "name": "stderr",
     "output_type": "stream",
     "text": [
      "Batch calculation at epoch 31.: 804it [00:28, 33.85it/s]"
     ]
    },
    {
     "name": "stdout",
     "output_type": "stream",
     "text": [
      "------------------------------------------------------------\n",
      "Epoch 31, batch 799:\n",
      "Average original gradient norm: 1.056623499020934 (over last 800 batches)\n",
      "Average clipped gradient norm: 0.40809395171701907 (over last 800 batches)\n",
      "Running average global loss: 0.46514516409486534 (over last 800 batches)\n",
      "Running average activity prediction loss: 0.3047274586185813 (Cross Entropy over last 800 batches)\n",
      "Running average time till next event prediction loss: 0.16041770592331886 (MAE over last 800 batches)\n",
      "------------------------------------------------------------\n"
     ]
    },
    {
     "name": "stderr",
     "output_type": "stream",
     "text": [
      "Batch calculation at epoch 31.: 1606it [00:52, 32.65it/s]"
     ]
    },
    {
     "name": "stdout",
     "output_type": "stream",
     "text": [
      "------------------------------------------------------------\n",
      "Epoch 31, batch 1599:\n",
      "Average original gradient norm: 0.372039205133915 (over last 800 batches)\n",
      "Average clipped gradient norm: 0.372039205133915 (over last 800 batches)\n",
      "Running average global loss: 0.46497256446629764 (over last 800 batches)\n",
      "Running average activity prediction loss: 0.30389359895139934 (Cross Entropy over last 800 batches)\n",
      "Running average time till next event prediction loss: 0.161078966492787 (MAE over last 800 batches)\n",
      "------------------------------------------------------------\n"
     ]
    },
    {
     "name": "stderr",
     "output_type": "stream",
     "text": [
      "Batch calculation at epoch 31.: 2402it [01:19, 21.26it/s]"
     ]
    },
    {
     "name": "stdout",
     "output_type": "stream",
     "text": [
      "------------------------------------------------------------\n",
      "Epoch 31, batch 2399:\n",
      "Average original gradient norm: 0.41060736410319804 (over last 800 batches)\n",
      "Average clipped gradient norm: 0.40750963844358923 (over last 800 batches)\n",
      "Running average global loss: 0.4623269576951861 (over last 800 batches)\n",
      "Running average activity prediction loss: 0.30293255325406787 (Cross Entropy over last 800 batches)\n",
      "Running average time till next event prediction loss: 0.1593944039195776 (MAE over last 800 batches)\n",
      "------------------------------------------------------------\n"
     ]
    },
    {
     "name": "stderr",
     "output_type": "stream",
     "text": [
      "Batch calculation at epoch 31.: 3202it [01:56, 22.35it/s]"
     ]
    },
    {
     "name": "stdout",
     "output_type": "stream",
     "text": [
      "------------------------------------------------------------\n",
      "Epoch 31, batch 3199:\n",
      "Average original gradient norm: 0.3901161206513643 (over last 800 batches)\n",
      "Average clipped gradient norm: 0.3901161206513643 (over last 800 batches)\n",
      "Running average global loss: 0.4639071200042963 (over last 800 batches)\n",
      "Running average activity prediction loss: 0.3037009480595589 (Cross Entropy over last 800 batches)\n",
      "Running average time till next event prediction loss: 0.16020617143251 (MAE over last 800 batches)\n",
      "------------------------------------------------------------\n"
     ]
    },
    {
     "name": "stderr",
     "output_type": "stream",
     "text": [
      "Batch calculation at epoch 31.: 4003it [02:33, 25.36it/s]"
     ]
    },
    {
     "name": "stdout",
     "output_type": "stream",
     "text": [
      "------------------------------------------------------------\n",
      "Epoch 31, batch 3999:\n",
      "Average original gradient norm: 0.3830043123476207 (over last 800 batches)\n",
      "Average clipped gradient norm: 0.3830043123476207 (over last 800 batches)\n",
      "Running average global loss: 0.46497961759567263 (over last 800 batches)\n",
      "Running average activity prediction loss: 0.30400603350251915 (Cross Entropy over last 800 batches)\n",
      "Running average time till next event prediction loss: 0.16097358401864767 (MAE over last 800 batches)\n",
      "------------------------------------------------------------\n"
     ]
    },
    {
     "name": "stderr",
     "output_type": "stream",
     "text": [
      "Batch calculation at epoch 31.: 4798it [02:59, 26.76it/s]\n"
     ]
    },
    {
     "name": "stdout",
     "output_type": "stream",
     "text": [
      "=======================================\n",
      "End of epoch 31\n",
      "=======================================\n",
      "Running average global loss: 0.46398303400725127 (over last 800 batches)\n",
      "Running average activity prediction loss: 0.30410663153976203 (Cross Entropy over last 800 batches)\n",
      "Running average time till next event prediction loss: 0.15987640222534538 (MAE over last 800 batches)\n"
     ]
    },
    {
     "name": "stderr",
     "output_type": "stream",
     "text": [
      "Validation batch calculation: 72it [01:23,  1.16s/it]\n"
     ]
    },
    {
     "name": "stdout",
     "output_type": "stream",
     "text": [
      "Avg MAE TTNE prediction validation set: 0.20621375739574432 (standardized) ; 763.6018880208334 (minutes)'\n",
      "Avg 1-(normalized) DL distance acitivty suffix prediction validation set: 0.22365669906139374\n",
      "Percentage of suffixes predicted to END: too early - 0.014942285507553056 ; right moment - 0.09630231335795272 ; too late - 0.8887554011344942\n",
      "Too early instances - avg amount of events too early: 8.746916770935059\n",
      "Too late instances - avg amount of events too late: 61.08014678955078\n",
      "Avg absolute amount of events predicted too early / too late: 54.41600799560547\n",
      "Avg MAE RRT prediction validation set:  11917.920833333334 (minutes)'\n",
      " \n",
      "------------------------------------\n",
      "EPOCH 32:\n",
      "____________________________________\n"
     ]
    },
    {
     "name": "stderr",
     "output_type": "stream",
     "text": [
      "Batch calculation at epoch 32.: 807it [00:24, 48.04it/s]"
     ]
    },
    {
     "name": "stdout",
     "output_type": "stream",
     "text": [
      "------------------------------------------------------------\n",
      "Epoch 32, batch 799:\n",
      "Average original gradient norm: 0.38680209156125783 (over last 800 batches)\n",
      "Average clipped gradient norm: 0.38482427041977646 (over last 800 batches)\n",
      "Running average global loss: 0.46401598405092953 (over last 800 batches)\n",
      "Running average activity prediction loss: 0.30371760338544845 (Cross Entropy over last 800 batches)\n",
      "Running average time till next event prediction loss: 0.16029838083311915 (MAE over last 800 batches)\n",
      "------------------------------------------------------------\n"
     ]
    },
    {
     "name": "stderr",
     "output_type": "stream",
     "text": [
      "Batch calculation at epoch 32.: 1609it [00:42, 49.93it/s]"
     ]
    },
    {
     "name": "stdout",
     "output_type": "stream",
     "text": [
      "------------------------------------------------------------\n",
      "Epoch 32, batch 1599:\n",
      "Average original gradient norm: 0.4033137465268373 (over last 800 batches)\n",
      "Average clipped gradient norm: 0.4033137465268373 (over last 800 batches)\n",
      "Running average global loss: 0.464348770044744 (over last 800 batches)\n",
      "Running average activity prediction loss: 0.30398349579423667 (Cross Entropy over last 800 batches)\n",
      "Running average time till next event prediction loss: 0.16036527450196444 (MAE over last 800 batches)\n",
      "------------------------------------------------------------\n"
     ]
    },
    {
     "name": "stderr",
     "output_type": "stream",
     "text": [
      "Batch calculation at epoch 32.: 2406it [01:00, 52.01it/s]"
     ]
    },
    {
     "name": "stdout",
     "output_type": "stream",
     "text": [
      "------------------------------------------------------------\n",
      "Epoch 32, batch 2399:\n",
      "Average original gradient norm: 0.3934294174425304 (over last 800 batches)\n",
      "Average clipped gradient norm: 0.3934294174425304 (over last 800 batches)\n",
      "Running average global loss: 0.46306350350379943 (over last 800 batches)\n",
      "Running average activity prediction loss: 0.3035843040049076 (Cross Entropy over last 800 batches)\n",
      "Running average time till next event prediction loss: 0.1594791995175183 (MAE over last 800 batches)\n",
      "------------------------------------------------------------\n"
     ]
    },
    {
     "name": "stderr",
     "output_type": "stream",
     "text": [
      "Batch calculation at epoch 32.: 3211it [01:17, 55.89it/s]"
     ]
    },
    {
     "name": "stdout",
     "output_type": "stream",
     "text": [
      "------------------------------------------------------------\n",
      "Epoch 32, batch 3199:\n",
      "Average original gradient norm: 0.40066170919686556 (over last 800 batches)\n",
      "Average clipped gradient norm: 0.40066170919686556 (over last 800 batches)\n",
      "Running average global loss: 0.46380077496170996 (over last 800 batches)\n",
      "Running average activity prediction loss: 0.30362512849271295 (Cross Entropy over last 800 batches)\n",
      "Running average time till next event prediction loss: 0.16017564652487637 (MAE over last 800 batches)\n",
      "------------------------------------------------------------\n"
     ]
    },
    {
     "name": "stderr",
     "output_type": "stream",
     "text": [
      "Batch calculation at epoch 32.: 4005it [01:32, 51.82it/s]"
     ]
    },
    {
     "name": "stdout",
     "output_type": "stream",
     "text": [
      "------------------------------------------------------------\n",
      "Epoch 32, batch 3999:\n",
      "Average original gradient norm: 0.4166767923347652 (over last 800 batches)\n",
      "Average clipped gradient norm: 0.4166767923347652 (over last 800 batches)\n",
      "Running average global loss: 0.4639694519713521 (over last 800 batches)\n",
      "Running average activity prediction loss: 0.3030269880965352 (Cross Entropy over last 800 batches)\n",
      "Running average time till next event prediction loss: 0.1609424636885524 (MAE over last 800 batches)\n",
      "------------------------------------------------------------\n"
     ]
    },
    {
     "name": "stderr",
     "output_type": "stream",
     "text": [
      "Batch calculation at epoch 32.: 4798it [01:50, 43.42it/s]\n"
     ]
    },
    {
     "name": "stdout",
     "output_type": "stream",
     "text": [
      "=======================================\n",
      "End of epoch 32\n",
      "=======================================\n",
      "Running average global loss: 0.46410273630172016 (over last 800 batches)\n",
      "Running average activity prediction loss: 0.3037110762670636 (Cross Entropy over last 800 batches)\n",
      "Running average time till next event prediction loss: 0.16039165969006716 (MAE over last 800 batches)\n"
     ]
    },
    {
     "name": "stderr",
     "output_type": "stream",
     "text": [
      "Validation batch calculation: 72it [01:00,  1.19it/s]\n"
     ]
    },
    {
     "name": "stdout",
     "output_type": "stream",
     "text": [
      "Avg MAE TTNE prediction validation set: 0.20627708733081818 (standardized) ; 763.8255208333334 (minutes)'\n",
      "Avg 1-(normalized) DL distance acitivty suffix prediction validation set: 0.23799943923950195\n",
      "Percentage of suffixes predicted to END: too early - 0.025024403230100276 ; right moment - 0.09795422431858673 ; too late - 0.877021372451313\n",
      "Too early instances - avg amount of events too early: 9.482542037963867\n",
      "Too late instances - avg amount of events too late: 59.48195266723633\n",
      "Avg absolute amount of events predicted too early / too late: 52.404239654541016\n",
      "Avg MAE RRT prediction validation set:  11814.953125 (minutes)'\n",
      " \n",
      "------------------------------------\n",
      "EPOCH 33:\n",
      "____________________________________\n"
     ]
    },
    {
     "name": "stderr",
     "output_type": "stream",
     "text": [
      "Batch calculation at epoch 33.: 803it [00:37, 22.82it/s]"
     ]
    },
    {
     "name": "stdout",
     "output_type": "stream",
     "text": [
      "------------------------------------------------------------\n",
      "Epoch 33, batch 799:\n",
      "Average original gradient norm: 0.3887054122984409 (over last 800 batches)\n",
      "Average clipped gradient norm: 0.3887054122984409 (over last 800 batches)\n",
      "Running average global loss: 0.46310656037181613 (over last 800 batches)\n",
      "Running average activity prediction loss: 0.30312080595642327 (Cross Entropy over last 800 batches)\n",
      "Running average time till next event prediction loss: 0.15998575418256222 (MAE over last 800 batches)\n",
      "------------------------------------------------------------\n"
     ]
    },
    {
     "name": "stderr",
     "output_type": "stream",
     "text": [
      "Batch calculation at epoch 33.: 1601it [01:15, 20.05it/s]"
     ]
    },
    {
     "name": "stdout",
     "output_type": "stream",
     "text": [
      "------------------------------------------------------------\n",
      "Epoch 33, batch 1599:\n",
      "Average original gradient norm: 0.3947395236231387 (over last 800 batches)\n",
      "Average clipped gradient norm: 0.3947395236231387 (over last 800 batches)\n",
      "Running average global loss: 0.4634777982160449 (over last 800 batches)\n",
      "Running average activity prediction loss: 0.3034550011903048 (Cross Entropy over last 800 batches)\n",
      "Running average time till next event prediction loss: 0.1600227970816195 (MAE over last 800 batches)\n",
      "------------------------------------------------------------\n"
     ]
    },
    {
     "name": "stderr",
     "output_type": "stream",
     "text": [
      "Batch calculation at epoch 33.: 2404it [01:53, 22.65it/s]"
     ]
    },
    {
     "name": "stdout",
     "output_type": "stream",
     "text": [
      "------------------------------------------------------------\n",
      "Epoch 33, batch 2399:\n",
      "Average original gradient norm: 0.39084739403799174 (over last 800 batches)\n",
      "Average clipped gradient norm: 0.39084739403799174 (over last 800 batches)\n",
      "Running average global loss: 0.4628656503558159 (over last 800 batches)\n",
      "Running average activity prediction loss: 0.3032921402528882 (Cross Entropy over last 800 batches)\n",
      "Running average time till next event prediction loss: 0.15957350980490445 (MAE over last 800 batches)\n",
      "------------------------------------------------------------\n"
     ]
    },
    {
     "name": "stderr",
     "output_type": "stream",
     "text": [
      "Batch calculation at epoch 33.: 3203it [02:19, 21.77it/s]"
     ]
    },
    {
     "name": "stdout",
     "output_type": "stream",
     "text": [
      "------------------------------------------------------------\n",
      "Epoch 33, batch 3199:\n",
      "Average original gradient norm: 0.39816607508808377 (over last 800 batches)\n",
      "Average clipped gradient norm: 0.39816607508808377 (over last 800 batches)\n",
      "Running average global loss: 0.4639791138470173 (over last 800 batches)\n",
      "Running average activity prediction loss: 0.3028198715671897 (Cross Entropy over last 800 batches)\n",
      "Running average time till next event prediction loss: 0.16115924169309437 (MAE over last 800 batches)\n",
      "------------------------------------------------------------\n"
     ]
    },
    {
     "name": "stderr",
     "output_type": "stream",
     "text": [
      "Batch calculation at epoch 33.: 4003it [02:51, 26.27it/s]"
     ]
    },
    {
     "name": "stdout",
     "output_type": "stream",
     "text": [
      "------------------------------------------------------------\n",
      "Epoch 33, batch 3999:\n",
      "Average original gradient norm: 0.3969558347389102 (over last 800 batches)\n",
      "Average clipped gradient norm: 0.3969558347389102 (over last 800 batches)\n",
      "Running average global loss: 0.46397393211722376 (over last 800 batches)\n",
      "Running average activity prediction loss: 0.3034316403418779 (Cross Entropy over last 800 batches)\n",
      "Running average time till next event prediction loss: 0.16054229239001871 (MAE over last 800 batches)\n",
      "------------------------------------------------------------\n"
     ]
    },
    {
     "name": "stderr",
     "output_type": "stream",
     "text": [
      "Batch calculation at epoch 33.: 4798it [03:24, 23.46it/s]\n"
     ]
    },
    {
     "name": "stdout",
     "output_type": "stream",
     "text": [
      "=======================================\n",
      "End of epoch 33\n",
      "=======================================\n",
      "Running average global loss: 0.4639296828582883 (over last 800 batches)\n",
      "Running average activity prediction loss: 0.30388374388217926 (Cross Entropy over last 800 batches)\n",
      "Running average time till next event prediction loss: 0.1600459385663271 (MAE over last 800 batches)\n"
     ]
    },
    {
     "name": "stderr",
     "output_type": "stream",
     "text": [
      "Validation batch calculation: 72it [01:18,  1.10s/it]\n"
     ]
    },
    {
     "name": "stdout",
     "output_type": "stream",
     "text": [
      "Avg MAE TTNE prediction validation set: 0.2061641365289688 (standardized) ; 763.2388671875 (minutes)'\n",
      "Avg 1-(normalized) DL distance acitivty suffix prediction validation set: 0.2221694439649582\n",
      "Percentage of suffixes predicted to END: too early - 0.011727202604831498 ; right moment - 0.09613166139920953 ; too late - 0.892141135995959\n",
      "Too early instances - avg amount of events too early: 8.613504409790039\n",
      "Too late instances - avg amount of events too late: 61.03828811645508\n",
      "Avg absolute amount of events predicted too early / too late: 54.55577850341797\n",
      "Avg MAE RRT prediction validation set:  11921.651041666666 (minutes)'\n",
      " \n",
      "------------------------------------\n",
      "EPOCH 34:\n",
      "____________________________________\n"
     ]
    },
    {
     "name": "stderr",
     "output_type": "stream",
     "text": [
      "Batch calculation at epoch 34.: 805it [00:18, 33.81it/s]"
     ]
    },
    {
     "name": "stdout",
     "output_type": "stream",
     "text": [
      "------------------------------------------------------------\n",
      "Epoch 34, batch 799:\n",
      "Average original gradient norm: 0.39299469577148555 (over last 800 batches)\n",
      "Average clipped gradient norm: 0.39299469577148555 (over last 800 batches)\n",
      "Running average global loss: 0.4634261243790388 (over last 800 batches)\n",
      "Running average activity prediction loss: 0.30324805930256843 (Cross Entropy over last 800 batches)\n",
      "Running average time till next event prediction loss: 0.16017806506715715 (MAE over last 800 batches)\n",
      "------------------------------------------------------------\n"
     ]
    },
    {
     "name": "stderr",
     "output_type": "stream",
     "text": [
      "Batch calculation at epoch 34.: 1606it [00:38, 50.69it/s]"
     ]
    },
    {
     "name": "stdout",
     "output_type": "stream",
     "text": [
      "------------------------------------------------------------\n",
      "Epoch 34, batch 1599:\n",
      "Average original gradient norm: 0.3888615106418729 (over last 800 batches)\n",
      "Average clipped gradient norm: 0.3888615106418729 (over last 800 batches)\n",
      "Running average global loss: 0.4636856685206294 (over last 800 batches)\n",
      "Running average activity prediction loss: 0.3030994122847915 (Cross Entropy over last 800 batches)\n",
      "Running average time till next event prediction loss: 0.16058625673875213 (MAE over last 800 batches)\n",
      "------------------------------------------------------------\n"
     ]
    },
    {
     "name": "stderr",
     "output_type": "stream",
     "text": [
      "Batch calculation at epoch 34.: 2412it [00:54, 53.42it/s]"
     ]
    },
    {
     "name": "stdout",
     "output_type": "stream",
     "text": [
      "------------------------------------------------------------\n",
      "Epoch 34, batch 2399:\n",
      "Average original gradient norm: 0.39024661196395755 (over last 800 batches)\n",
      "Average clipped gradient norm: 0.39024661196395755 (over last 800 batches)\n",
      "Running average global loss: 0.4632627724856138 (over last 800 batches)\n",
      "Running average activity prediction loss: 0.3030335615947843 (Cross Entropy over last 800 batches)\n",
      "Running average time till next event prediction loss: 0.16022921094670892 (MAE over last 800 batches)\n",
      "------------------------------------------------------------\n"
     ]
    },
    {
     "name": "stderr",
     "output_type": "stream",
     "text": [
      "Batch calculation at epoch 34.: 3207it [01:17, 38.16it/s]"
     ]
    },
    {
     "name": "stdout",
     "output_type": "stream",
     "text": [
      "------------------------------------------------------------\n",
      "Epoch 34, batch 3199:\n",
      "Average original gradient norm: 0.38518287958577274 (over last 800 batches)\n",
      "Average clipped gradient norm: 0.38518287958577274 (over last 800 batches)\n",
      "Running average global loss: 0.4628209923952818 (over last 800 batches)\n",
      "Running average activity prediction loss: 0.3029715034738183 (Cross Entropy over last 800 batches)\n",
      "Running average time till next event prediction loss: 0.1598494889587164 (MAE over last 800 batches)\n",
      "------------------------------------------------------------\n"
     ]
    },
    {
     "name": "stderr",
     "output_type": "stream",
     "text": [
      "Batch calculation at epoch 34.: 4005it [01:40, 46.28it/s]"
     ]
    },
    {
     "name": "stdout",
     "output_type": "stream",
     "text": [
      "------------------------------------------------------------\n",
      "Epoch 34, batch 3999:\n",
      "Average original gradient norm: 0.39937263414263724 (over last 800 batches)\n",
      "Average clipped gradient norm: 0.39937263414263724 (over last 800 batches)\n",
      "Running average global loss: 0.46358774427324534 (over last 800 batches)\n",
      "Running average activity prediction loss: 0.30353922475129363 (Cross Entropy over last 800 batches)\n",
      "Running average time till next event prediction loss: 0.16004851918667554 (MAE over last 800 batches)\n",
      "------------------------------------------------------------\n"
     ]
    },
    {
     "name": "stderr",
     "output_type": "stream",
     "text": [
      "Batch calculation at epoch 34.: 4798it [02:00, 39.92it/s]\n"
     ]
    },
    {
     "name": "stdout",
     "output_type": "stream",
     "text": [
      "=======================================\n",
      "End of epoch 34\n",
      "=======================================\n",
      "Running average global loss: 0.46314577519893646 (over last 800 batches)\n",
      "Running average activity prediction loss: 0.30291292440146206 (Cross Entropy over last 800 batches)\n",
      "Running average time till next event prediction loss: 0.16023285106755794 (MAE over last 800 batches)\n"
     ]
    },
    {
     "name": "stderr",
     "output_type": "stream",
     "text": [
      "Validation batch calculation: 72it [01:00,  1.18it/s]\n"
     ]
    },
    {
     "name": "stdout",
     "output_type": "stream",
     "text": [
      "Avg MAE TTNE prediction validation set: 0.2062523066997528 (standardized) ; 763.8279296875 (minutes)'\n",
      "Avg 1-(normalized) DL distance acitivty suffix prediction validation set: 0.2279982715845108\n",
      "Percentage of suffixes predicted to END: too early - 0.01564537157757497 ; right moment - 0.09610435708581064 ; too late - 0.8882502713366144\n",
      "Too early instances - avg amount of events too early: 8.904886245727539\n",
      "Too late instances - avg amount of events too late: 60.218509674072266\n",
      "Avg absolute amount of events predicted too early / too late: 53.6284294128418\n",
      "Avg MAE RRT prediction validation set:  11909.388541666667 (minutes)'\n",
      " \n",
      "------------------------------------\n",
      "EPOCH 35:\n",
      "____________________________________\n"
     ]
    },
    {
     "name": "stderr",
     "output_type": "stream",
     "text": [
      "Batch calculation at epoch 35.: 804it [00:24, 34.86it/s]"
     ]
    },
    {
     "name": "stdout",
     "output_type": "stream",
     "text": [
      "------------------------------------------------------------\n",
      "Epoch 35, batch 799:\n",
      "Average original gradient norm: 0.391898576952517 (over last 800 batches)\n",
      "Average clipped gradient norm: 0.391898576952517 (over last 800 batches)\n",
      "Running average global loss: 0.4633350672572851 (over last 800 batches)\n",
      "Running average activity prediction loss: 0.30272712621837855 (Cross Entropy over last 800 batches)\n",
      "Running average time till next event prediction loss: 0.1606079411506653 (MAE over last 800 batches)\n",
      "------------------------------------------------------------\n"
     ]
    },
    {
     "name": "stderr",
     "output_type": "stream",
     "text": [
      "Batch calculation at epoch 35.: 1604it [00:51, 21.48it/s]"
     ]
    },
    {
     "name": "stdout",
     "output_type": "stream",
     "text": [
      "------------------------------------------------------------\n",
      "Epoch 35, batch 1599:\n",
      "Average original gradient norm: 0.3813246099837124 (over last 800 batches)\n",
      "Average clipped gradient norm: 0.3813246099837124 (over last 800 batches)\n",
      "Running average global loss: 0.46263700786978007 (over last 800 batches)\n",
      "Running average activity prediction loss: 0.303608089722693 (Cross Entropy over last 800 batches)\n",
      "Running average time till next event prediction loss: 0.15902891838923097 (MAE over last 800 batches)\n",
      "------------------------------------------------------------\n"
     ]
    },
    {
     "name": "stderr",
     "output_type": "stream",
     "text": [
      "Batch calculation at epoch 35.: 2401it [01:26, 21.42it/s]"
     ]
    },
    {
     "name": "stdout",
     "output_type": "stream",
     "text": [
      "------------------------------------------------------------\n",
      "Epoch 35, batch 2399:\n",
      "Average original gradient norm: 0.3823049161210656 (over last 800 batches)\n",
      "Average clipped gradient norm: 0.3823049161210656 (over last 800 batches)\n",
      "Running average global loss: 0.4637782161682844 (over last 800 batches)\n",
      "Running average activity prediction loss: 0.3023865092545748 (Cross Entropy over last 800 batches)\n",
      "Running average time till next event prediction loss: 0.1613917071186006 (MAE over last 800 batches)\n",
      "------------------------------------------------------------\n"
     ]
    },
    {
     "name": "stderr",
     "output_type": "stream",
     "text": [
      "Batch calculation at epoch 35.: 3203it [01:59, 27.01it/s]"
     ]
    },
    {
     "name": "stdout",
     "output_type": "stream",
     "text": [
      "------------------------------------------------------------\n",
      "Epoch 35, batch 3199:\n",
      "Average original gradient norm: 0.3977700957655907 (over last 800 batches)\n",
      "Average clipped gradient norm: 0.3977700957655907 (over last 800 batches)\n",
      "Running average global loss: 0.46241613462567327 (over last 800 batches)\n",
      "Running average activity prediction loss: 0.30284045908600093 (Cross Entropy over last 800 batches)\n",
      "Running average time till next event prediction loss: 0.1595756755862385 (MAE over last 800 batches)\n",
      "------------------------------------------------------------\n"
     ]
    },
    {
     "name": "stderr",
     "output_type": "stream",
     "text": [
      "Batch calculation at epoch 35.: 4008it [02:33, 44.15it/s]"
     ]
    },
    {
     "name": "stdout",
     "output_type": "stream",
     "text": [
      "------------------------------------------------------------\n",
      "Epoch 35, batch 3999:\n",
      "Average original gradient norm: 0.4137975184060633 (over last 800 batches)\n",
      "Average clipped gradient norm: 0.4137975184060633 (over last 800 batches)\n",
      "Running average global loss: 0.4631145518645644 (over last 800 batches)\n",
      "Running average activity prediction loss: 0.3025218400731683 (Cross Entropy over last 800 batches)\n",
      "Running average time till next event prediction loss: 0.16059271167963743 (MAE over last 800 batches)\n",
      "------------------------------------------------------------\n"
     ]
    },
    {
     "name": "stderr",
     "output_type": "stream",
     "text": [
      "Batch calculation at epoch 35.: 4798it [03:06, 25.77it/s]\n"
     ]
    },
    {
     "name": "stdout",
     "output_type": "stream",
     "text": [
      "=======================================\n",
      "End of epoch 35\n",
      "=======================================\n",
      "Running average global loss: 0.4627731022983789 (over last 800 batches)\n",
      "Running average activity prediction loss: 0.3031013908982277 (Cross Entropy over last 800 batches)\n",
      "Running average time till next event prediction loss: 0.15967171175405384 (MAE over last 800 batches)\n"
     ]
    },
    {
     "name": "stderr",
     "output_type": "stream",
     "text": [
      "Validation batch calculation: 72it [01:21,  1.14s/it]\n"
     ]
    },
    {
     "name": "stdout",
     "output_type": "stream",
     "text": [
      "Avg MAE TTNE prediction validation set: 0.20624685287475586 (standardized) ; 763.7942057291667 (minutes)'\n",
      "Avg 1-(normalized) DL distance acitivty suffix prediction validation set: 0.24800710380077362\n",
      "Percentage of suffixes predicted to END: too early - 0.02657392301548837 ; right moment - 0.09854126705666327 ; too late - 0.8748848099278483\n",
      "Too early instances - avg amount of events too early: 9.40688419342041\n",
      "Too late instances - avg amount of events too late: 56.845436096191406\n",
      "Avg absolute amount of events predicted too early / too late: 49.98318862915039\n",
      "Avg MAE RRT prediction validation set:  11818.011458333332 (minutes)'\n",
      " \n",
      "------------------------------------\n",
      "EPOCH 36:\n",
      "____________________________________\n"
     ]
    },
    {
     "name": "stderr",
     "output_type": "stream",
     "text": [
      "Batch calculation at epoch 36.: 806it [00:18, 44.21it/s]"
     ]
    },
    {
     "name": "stdout",
     "output_type": "stream",
     "text": [
      "------------------------------------------------------------\n",
      "Epoch 36, batch 799:\n",
      "Average original gradient norm: 0.3946930324472487 (over last 800 batches)\n",
      "Average clipped gradient norm: 0.3946424468792975 (over last 800 batches)\n",
      "Running average global loss: 0.46341476127505304 (over last 800 batches)\n",
      "Running average activity prediction loss: 0.3025899516046047 (Cross Entropy over last 800 batches)\n",
      "Running average time till next event prediction loss: 0.1608248097728938 (MAE over last 800 batches)\n",
      "------------------------------------------------------------\n"
     ]
    },
    {
     "name": "stderr",
     "output_type": "stream",
     "text": [
      "Batch calculation at epoch 36.: 1609it [00:37, 52.20it/s]"
     ]
    },
    {
     "name": "stdout",
     "output_type": "stream",
     "text": [
      "------------------------------------------------------------\n",
      "Epoch 36, batch 1599:\n",
      "Average original gradient norm: 0.39522318858653305 (over last 800 batches)\n",
      "Average clipped gradient norm: 0.39504276785999537 (over last 800 batches)\n",
      "Running average global loss: 0.4636124382168055 (over last 800 batches)\n",
      "Running average activity prediction loss: 0.30300255931913855 (Cross Entropy over last 800 batches)\n",
      "Running average time till next event prediction loss: 0.16060987945646046 (MAE over last 800 batches)\n",
      "------------------------------------------------------------\n"
     ]
    },
    {
     "name": "stderr",
     "output_type": "stream",
     "text": [
      "Batch calculation at epoch 36.: 2410it [00:53, 52.44it/s]"
     ]
    },
    {
     "name": "stdout",
     "output_type": "stream",
     "text": [
      "------------------------------------------------------------\n",
      "Epoch 36, batch 2399:\n",
      "Average original gradient norm: 0.405046827159822 (over last 800 batches)\n",
      "Average clipped gradient norm: 0.405046827159822 (over last 800 batches)\n",
      "Running average global loss: 0.4623097152262926 (over last 800 batches)\n",
      "Running average activity prediction loss: 0.3021932668238878 (Cross Entropy over last 800 batches)\n",
      "Running average time till next event prediction loss: 0.16011644827201962 (MAE over last 800 batches)\n",
      "------------------------------------------------------------\n"
     ]
    },
    {
     "name": "stderr",
     "output_type": "stream",
     "text": [
      "Batch calculation at epoch 36.: 3207it [01:12, 40.48it/s]"
     ]
    },
    {
     "name": "stdout",
     "output_type": "stream",
     "text": [
      "------------------------------------------------------------\n",
      "Epoch 36, batch 3199:\n",
      "Average original gradient norm: 0.3941028637066484 (over last 800 batches)\n",
      "Average clipped gradient norm: 0.3941028637066484 (over last 800 batches)\n",
      "Running average global loss: 0.46197080813348296 (over last 800 batches)\n",
      "Running average activity prediction loss: 0.3027849265933037 (Cross Entropy over last 800 batches)\n",
      "Running average time till next event prediction loss: 0.15918588158674538 (MAE over last 800 batches)\n",
      "------------------------------------------------------------\n"
     ]
    },
    {
     "name": "stderr",
     "output_type": "stream",
     "text": [
      "Batch calculation at epoch 36.: 4007it [01:31, 50.68it/s]"
     ]
    },
    {
     "name": "stdout",
     "output_type": "stream",
     "text": [
      "------------------------------------------------------------\n",
      "Epoch 36, batch 3999:\n",
      "Average original gradient norm: 0.38709695434197783 (over last 800 batches)\n",
      "Average clipped gradient norm: 0.38709695434197783 (over last 800 batches)\n",
      "Running average global loss: 0.46169584829360244 (over last 800 batches)\n",
      "Running average activity prediction loss: 0.3022845133021474 (Cross Entropy over last 800 batches)\n",
      "Running average time till next event prediction loss: 0.1594113344885409 (MAE over last 800 batches)\n",
      "------------------------------------------------------------\n"
     ]
    },
    {
     "name": "stderr",
     "output_type": "stream",
     "text": [
      "Batch calculation at epoch 36.: 4798it [01:55, 41.49it/s]\n"
     ]
    },
    {
     "name": "stdout",
     "output_type": "stream",
     "text": [
      "=======================================\n",
      "End of epoch 36\n",
      "=======================================\n",
      "Running average global loss: 0.46361262690275906 (over last 800 batches)\n",
      "Running average activity prediction loss: 0.30282566204667094 (Cross Entropy over last 800 batches)\n",
      "Running average time till next event prediction loss: 0.1607869649771601 (MAE over last 800 batches)\n"
     ]
    },
    {
     "name": "stderr",
     "output_type": "stream",
     "text": [
      "Validation batch calculation: 72it [01:03,  1.14it/s]\n"
     ]
    },
    {
     "name": "stdout",
     "output_type": "stream",
     "text": [
      "Avg MAE TTNE prediction validation set: 0.20619885623455048 (standardized) ; 763.5604817708333 (minutes)'\n",
      "Avg 1-(normalized) DL distance acitivty suffix prediction validation set: 0.24739737808704376\n",
      "Percentage of suffixes predicted to END: too early - 0.028062008095728924 ; right moment - 0.09906687508959228 ; too late - 0.8728711168146788\n",
      "Too early instances - avg amount of events too early: 9.455606460571289\n",
      "Too late instances - avg amount of events too late: 57.3994026184082\n",
      "Avg absolute amount of events predicted too early / too late: 50.36762619018555\n",
      "Avg MAE RRT prediction validation set:  11899.305208333333 (minutes)'\n",
      " \n",
      "------------------------------------\n",
      "EPOCH 37:\n",
      "____________________________________\n"
     ]
    },
    {
     "name": "stderr",
     "output_type": "stream",
     "text": [
      "Batch calculation at epoch 37.: 804it [00:32, 24.38it/s]"
     ]
    },
    {
     "name": "stdout",
     "output_type": "stream",
     "text": [
      "------------------------------------------------------------\n",
      "Epoch 37, batch 799:\n",
      "Average original gradient norm: 0.40641569055616855 (over last 800 batches)\n",
      "Average clipped gradient norm: 0.40424924544990065 (over last 800 batches)\n",
      "Running average global loss: 0.4628118031844497 (over last 800 batches)\n",
      "Running average activity prediction loss: 0.30289058975875377 (Cross Entropy over last 800 batches)\n",
      "Running average time till next event prediction loss: 0.15992121278308333 (MAE over last 800 batches)\n",
      "------------------------------------------------------------\n"
     ]
    },
    {
     "name": "stderr",
     "output_type": "stream",
     "text": [
      "Batch calculation at epoch 37.: 1602it [01:09, 16.17it/s]"
     ]
    },
    {
     "name": "stdout",
     "output_type": "stream",
     "text": [
      "------------------------------------------------------------\n",
      "Epoch 37, batch 1599:\n",
      "Average original gradient norm: 0.4124460984580219 (over last 800 batches)\n",
      "Average clipped gradient norm: 0.4124460984580219 (over last 800 batches)\n",
      "Running average global loss: 0.4620624738186598 (over last 800 batches)\n",
      "Running average activity prediction loss: 0.3022405580803752 (Cross Entropy over last 800 batches)\n",
      "Running average time till next event prediction loss: 0.15982191619463265 (MAE over last 800 batches)\n",
      "------------------------------------------------------------\n"
     ]
    },
    {
     "name": "stderr",
     "output_type": "stream",
     "text": [
      "Batch calculation at epoch 37.: 2406it [01:40, 37.44it/s]"
     ]
    },
    {
     "name": "stdout",
     "output_type": "stream",
     "text": [
      "------------------------------------------------------------\n",
      "Epoch 37, batch 2399:\n",
      "Average original gradient norm: 0.39138304410502317 (over last 800 batches)\n",
      "Average clipped gradient norm: 0.3911407154612243 (over last 800 batches)\n",
      "Running average global loss: 0.46201588679105043 (over last 800 batches)\n",
      "Running average activity prediction loss: 0.30255888868123293 (Cross Entropy over last 800 batches)\n",
      "Running average time till next event prediction loss: 0.159456997923553 (MAE over last 800 batches)\n",
      "------------------------------------------------------------\n"
     ]
    },
    {
     "name": "stderr",
     "output_type": "stream",
     "text": [
      "Batch calculation at epoch 37.: 3206it [02:04, 33.18it/s]"
     ]
    },
    {
     "name": "stdout",
     "output_type": "stream",
     "text": [
      "------------------------------------------------------------\n",
      "Epoch 37, batch 3199:\n",
      "Average original gradient norm: 0.39484472809359433 (over last 800 batches)\n",
      "Average clipped gradient norm: 0.39484472809359433 (over last 800 batches)\n",
      "Running average global loss: 0.4637041495740414 (over last 800 batches)\n",
      "Running average activity prediction loss: 0.3023623038083315 (Cross Entropy over last 800 batches)\n",
      "Running average time till next event prediction loss: 0.16134184585884215 (MAE over last 800 batches)\n",
      "------------------------------------------------------------\n"
     ]
    },
    {
     "name": "stderr",
     "output_type": "stream",
     "text": [
      "Batch calculation at epoch 37.: 4004it [02:32, 24.90it/s]"
     ]
    },
    {
     "name": "stdout",
     "output_type": "stream",
     "text": [
      "------------------------------------------------------------\n",
      "Epoch 37, batch 3999:\n",
      "Average original gradient norm: 0.38411232765764 (over last 800 batches)\n",
      "Average clipped gradient norm: 0.38411232765764 (over last 800 batches)\n",
      "Running average global loss: 0.462741759493947 (over last 800 batches)\n",
      "Running average activity prediction loss: 0.3025018282234669 (Cross Entropy over last 800 batches)\n",
      "Running average time till next event prediction loss: 0.16023993168957532 (MAE over last 800 batches)\n",
      "------------------------------------------------------------\n"
     ]
    },
    {
     "name": "stderr",
     "output_type": "stream",
     "text": [
      "Batch calculation at epoch 37.: 4798it [03:06, 25.79it/s]\n"
     ]
    },
    {
     "name": "stdout",
     "output_type": "stream",
     "text": [
      "=======================================\n",
      "End of epoch 37\n",
      "=======================================\n",
      "Running average global loss: 0.46207589499652385 (over last 800 batches)\n",
      "Running average activity prediction loss: 0.3021806214377284 (Cross Entropy over last 800 batches)\n",
      "Running average time till next event prediction loss: 0.15989527389407157 (MAE over last 800 batches)\n"
     ]
    },
    {
     "name": "stderr",
     "output_type": "stream",
     "text": [
      "Validation batch calculation: 72it [01:18,  1.09s/it]\n"
     ]
    },
    {
     "name": "stdout",
     "output_type": "stream",
     "text": [
      "Avg MAE TTNE prediction validation set: 0.20616035163402557 (standardized) ; 763.4208984375 (minutes)'\n",
      "Avg 1-(normalized) DL distance acitivty suffix prediction validation set: 0.23349252343177795\n",
      "Percentage of suffixes predicted to END: too early - 0.01780923841443852 ; right moment - 0.09764022471449928 ; too late - 0.8845505368710622\n",
      "Too early instances - avg amount of events too early: 8.829052925109863\n",
      "Too late instances - avg amount of events too late: 58.942161560058594\n",
      "Avg absolute amount of events predicted too early / too late: 52.294559478759766\n",
      "Avg MAE RRT prediction validation set:  11837.361458333333 (minutes)'\n",
      " \n",
      "------------------------------------\n",
      "EPOCH 38:\n",
      "____________________________________\n"
     ]
    },
    {
     "name": "stderr",
     "output_type": "stream",
     "text": [
      "Batch calculation at epoch 38.: 805it [00:21, 31.51it/s]"
     ]
    },
    {
     "name": "stdout",
     "output_type": "stream",
     "text": [
      "------------------------------------------------------------\n",
      "Epoch 38, batch 799:\n",
      "Average original gradient norm: 0.3881509215570986 (over last 800 batches)\n",
      "Average clipped gradient norm: 0.3881509215570986 (over last 800 batches)\n",
      "Running average global loss: 0.461887548416853 (over last 800 batches)\n",
      "Running average activity prediction loss: 0.3016347749531269 (Cross Entropy over last 800 batches)\n",
      "Running average time till next event prediction loss: 0.16025277344509958 (MAE over last 800 batches)\n",
      "------------------------------------------------------------\n"
     ]
    },
    {
     "name": "stderr",
     "output_type": "stream",
     "text": [
      "Batch calculation at epoch 38.: 1607it [00:42, 44.25it/s]"
     ]
    },
    {
     "name": "stdout",
     "output_type": "stream",
     "text": [
      "------------------------------------------------------------\n",
      "Epoch 38, batch 1599:\n",
      "Average original gradient norm: 0.42333624957129357 (over last 800 batches)\n",
      "Average clipped gradient norm: 0.4076971266977489 (over last 800 batches)\n",
      "Running average global loss: 0.4620508137345314 (over last 800 batches)\n",
      "Running average activity prediction loss: 0.3020087014138699 (Cross Entropy over last 800 batches)\n",
      "Running average time till next event prediction loss: 0.16004211240448057 (MAE over last 800 batches)\n",
      "------------------------------------------------------------\n"
     ]
    },
    {
     "name": "stderr",
     "output_type": "stream",
     "text": [
      "Batch calculation at epoch 38.: 2406it [01:06, 33.14it/s]"
     ]
    },
    {
     "name": "stdout",
     "output_type": "stream",
     "text": [
      "------------------------------------------------------------\n",
      "Epoch 38, batch 2399:\n",
      "Average original gradient norm: 0.4107688979804516 (over last 800 batches)\n",
      "Average clipped gradient norm: 0.4107688979804516 (over last 800 batches)\n",
      "Running average global loss: 0.4627789841964841 (over last 800 batches)\n",
      "Running average activity prediction loss: 0.3023464634642005 (Cross Entropy over last 800 batches)\n",
      "Running average time till next event prediction loss: 0.16043252079747616 (MAE over last 800 batches)\n",
      "------------------------------------------------------------\n"
     ]
    },
    {
     "name": "stderr",
     "output_type": "stream",
     "text": [
      "Batch calculation at epoch 38.: 3203it [01:28, 30.43it/s]"
     ]
    },
    {
     "name": "stdout",
     "output_type": "stream",
     "text": [
      "------------------------------------------------------------\n",
      "Epoch 38, batch 3199:\n",
      "Average original gradient norm: 0.40130990512669085 (over last 800 batches)\n",
      "Average clipped gradient norm: 0.40130990512669085 (over last 800 batches)\n",
      "Running average global loss: 0.4631175629794598 (over last 800 batches)\n",
      "Running average activity prediction loss: 0.302782568782568 (Cross Entropy over last 800 batches)\n",
      "Running average time till next event prediction loss: 0.16033499429933726 (MAE over last 800 batches)\n",
      "------------------------------------------------------------\n"
     ]
    },
    {
     "name": "stderr",
     "output_type": "stream",
     "text": [
      "Batch calculation at epoch 38.: 4005it [01:54, 33.91it/s]"
     ]
    },
    {
     "name": "stdout",
     "output_type": "stream",
     "text": [
      "------------------------------------------------------------\n",
      "Epoch 38, batch 3999:\n",
      "Average original gradient norm: 0.38341442817822097 (over last 800 batches)\n",
      "Average clipped gradient norm: 0.38341442817822097 (over last 800 batches)\n",
      "Running average global loss: 0.4623301899433136 (over last 800 batches)\n",
      "Running average activity prediction loss: 0.3025335153564811 (Cross Entropy over last 800 batches)\n",
      "Running average time till next event prediction loss: 0.1597966738883406 (MAE over last 800 batches)\n",
      "------------------------------------------------------------\n"
     ]
    },
    {
     "name": "stderr",
     "output_type": "stream",
     "text": [
      "Batch calculation at epoch 38.: 4798it [02:18, 34.72it/s]\n"
     ]
    },
    {
     "name": "stdout",
     "output_type": "stream",
     "text": [
      "=======================================\n",
      "End of epoch 38\n",
      "=======================================\n",
      "Running average global loss: 0.4612462853640318 (over last 800 batches)\n",
      "Running average activity prediction loss: 0.30197990871965885 (Cross Entropy over last 800 batches)\n",
      "Running average time till next event prediction loss: 0.15926637702621518 (MAE over last 800 batches)\n"
     ]
    },
    {
     "name": "stderr",
     "output_type": "stream",
     "text": [
      "Validation batch calculation: 72it [01:02,  1.14it/s]\n"
     ]
    },
    {
     "name": "stdout",
     "output_type": "stream",
     "text": [
      "Avg MAE TTNE prediction validation set: 0.2062196582555771 (standardized) ; 763.7682942708333 (minutes)'\n",
      "Avg 1-(normalized) DL distance acitivty suffix prediction validation set: 0.24781973659992218\n",
      "Percentage of suffixes predicted to END: too early - 0.025829880475368095 ; right moment - 0.09906687508959228 ; too late - 0.8751032444350396\n",
      "Too early instances - avg amount of events too early: 9.11284351348877\n",
      "Too late instances - avg amount of events too late: 56.97430419921875\n",
      "Avg absolute amount of events predicted too early / too late: 50.09378433227539\n",
      "Avg MAE RRT prediction validation set:  11860.090625 (minutes)'\n",
      " \n",
      "------------------------------------\n",
      "EPOCH 39:\n",
      "____________________________________\n"
     ]
    },
    {
     "name": "stderr",
     "output_type": "stream",
     "text": [
      "Batch calculation at epoch 39.: 803it [00:29, 25.47it/s]"
     ]
    },
    {
     "name": "stdout",
     "output_type": "stream",
     "text": [
      "------------------------------------------------------------\n",
      "Epoch 39, batch 799:\n",
      "Average original gradient norm: 0.4009427604265511 (over last 800 batches)\n",
      "Average clipped gradient norm: 0.39712941290810705 (over last 800 batches)\n",
      "Running average global loss: 0.4621207258850336 (over last 800 batches)\n",
      "Running average activity prediction loss: 0.30189269315451384 (Cross Entropy over last 800 batches)\n",
      "Running average time till next event prediction loss: 0.16022803287021817 (MAE over last 800 batches)\n",
      "------------------------------------------------------------\n"
     ]
    },
    {
     "name": "stderr",
     "output_type": "stream",
     "text": [
      "Batch calculation at epoch 39.: 1606it [00:56, 35.40it/s]"
     ]
    },
    {
     "name": "stdout",
     "output_type": "stream",
     "text": [
      "------------------------------------------------------------\n",
      "Epoch 39, batch 1599:\n",
      "Average original gradient norm: 0.38752822127193215 (over last 800 batches)\n",
      "Average clipped gradient norm: 0.38752822127193215 (over last 800 batches)\n",
      "Running average global loss: 0.46201807785779236 (over last 800 batches)\n",
      "Running average activity prediction loss: 0.3021384095773101 (Cross Entropy over last 800 batches)\n",
      "Running average time till next event prediction loss: 0.15987966779619456 (MAE over last 800 batches)\n",
      "------------------------------------------------------------\n"
     ]
    },
    {
     "name": "stderr",
     "output_type": "stream",
     "text": [
      "Batch calculation at epoch 39.: 2408it [01:16, 47.46it/s]"
     ]
    },
    {
     "name": "stdout",
     "output_type": "stream",
     "text": [
      "------------------------------------------------------------\n",
      "Epoch 39, batch 2399:\n",
      "Average original gradient norm: 0.4059121234156191 (over last 800 batches)\n",
      "Average clipped gradient norm: 0.4059121234156191 (over last 800 batches)\n",
      "Running average global loss: 0.4620748401805759 (over last 800 batches)\n",
      "Running average activity prediction loss: 0.30230304431170224 (Cross Entropy over last 800 batches)\n",
      "Running average time till next event prediction loss: 0.15977179548703135 (MAE over last 800 batches)\n",
      "------------------------------------------------------------\n"
     ]
    },
    {
     "name": "stderr",
     "output_type": "stream",
     "text": [
      "Batch calculation at epoch 39.: 3202it [01:35, 34.21it/s]"
     ]
    },
    {
     "name": "stdout",
     "output_type": "stream",
     "text": [
      "------------------------------------------------------------\n",
      "Epoch 39, batch 3199:\n",
      "Average original gradient norm: 0.40085039228200914 (over last 800 batches)\n",
      "Average clipped gradient norm: 0.40085039228200914 (over last 800 batches)\n",
      "Running average global loss: 0.46081641275435686 (over last 800 batches)\n",
      "Running average activity prediction loss: 0.3016985059157014 (Cross Entropy over last 800 batches)\n",
      "Running average time till next event prediction loss: 0.15911790745332838 (MAE over last 800 batches)\n",
      "------------------------------------------------------------\n"
     ]
    },
    {
     "name": "stderr",
     "output_type": "stream",
     "text": [
      "Batch calculation at epoch 39.: 4002it [02:00, 24.57it/s]"
     ]
    },
    {
     "name": "stdout",
     "output_type": "stream",
     "text": [
      "------------------------------------------------------------\n",
      "Epoch 39, batch 3999:\n",
      "Average original gradient norm: 0.3926769726909697 (over last 800 batches)\n",
      "Average clipped gradient norm: 0.3913968985714018 (over last 800 batches)\n",
      "Running average global loss: 0.46289899840950965 (over last 800 batches)\n",
      "Running average activity prediction loss: 0.3016798488795757 (Cross Entropy over last 800 batches)\n",
      "Running average time till next event prediction loss: 0.16121914911083876 (MAE over last 800 batches)\n",
      "------------------------------------------------------------\n"
     ]
    },
    {
     "name": "stderr",
     "output_type": "stream",
     "text": [
      "Batch calculation at epoch 39.: 4798it [02:35, 30.81it/s]\n"
     ]
    },
    {
     "name": "stdout",
     "output_type": "stream",
     "text": [
      "=======================================\n",
      "End of epoch 39\n",
      "=======================================\n",
      "Running average global loss: 0.4621394447982311 (over last 800 batches)\n",
      "Running average activity prediction loss: 0.3022217270731926 (Cross Entropy over last 800 batches)\n",
      "Running average time till next event prediction loss: 0.15991771754808723 (MAE over last 800 batches)\n"
     ]
    },
    {
     "name": "stderr",
     "output_type": "stream",
     "text": [
      "Validation batch calculation: 72it [01:20,  1.11s/it]\n"
     ]
    },
    {
     "name": "stdout",
     "output_type": "stream",
     "text": [
      "Avg MAE TTNE prediction validation set: 0.20618115365505219 (standardized) ; 763.5984375 (minutes)'\n",
      "Avg 1-(normalized) DL distance acitivty suffix prediction validation set: 0.24042269587516785\n",
      "Percentage of suffixes predicted to END: too early - 0.019392888591575255 ; right moment - 0.097571963931002 ; too late - 0.8830351474774227\n",
      "Too early instances - avg amount of events too early: 8.538542747497559\n",
      "Too late instances - avg amount of events too late: 56.972286224365234\n",
      "Avg absolute amount of events predicted too early / too late: 50.474117279052734\n",
      "Avg MAE RRT prediction validation set:  11859.659375 (minutes)'\n",
      " \n",
      "------------------------------------\n",
      "EPOCH 40:\n",
      "____________________________________\n"
     ]
    },
    {
     "name": "stderr",
     "output_type": "stream",
     "text": [
      "Batch calculation at epoch 40.: 806it [00:18, 51.55it/s]"
     ]
    },
    {
     "name": "stdout",
     "output_type": "stream",
     "text": [
      "------------------------------------------------------------\n",
      "Epoch 40, batch 799:\n",
      "Average original gradient norm: 0.39309495624154805 (over last 800 batches)\n",
      "Average clipped gradient norm: 0.39309495624154805 (over last 800 batches)\n",
      "Running average global loss: 0.46110586255788805 (over last 800 batches)\n",
      "Running average activity prediction loss: 0.30165460642427205 (Cross Entropy over last 800 batches)\n",
      "Running average time till next event prediction loss: 0.15945125627331436 (MAE over last 800 batches)\n",
      "------------------------------------------------------------\n"
     ]
    },
    {
     "name": "stderr",
     "output_type": "stream",
     "text": [
      "Batch calculation at epoch 40.: 1604it [00:37, 38.81it/s]"
     ]
    },
    {
     "name": "stdout",
     "output_type": "stream",
     "text": [
      "------------------------------------------------------------\n",
      "Epoch 40, batch 1599:\n",
      "Average original gradient norm: 0.3912224220111966 (over last 800 batches)\n",
      "Average clipped gradient norm: 0.3912224220111966 (over last 800 batches)\n",
      "Running average global loss: 0.46305644165724513 (over last 800 batches)\n",
      "Running average activity prediction loss: 0.30249815825372933 (Cross Entropy over last 800 batches)\n",
      "Running average time till next event prediction loss: 0.16055828323587776 (MAE over last 800 batches)\n",
      "------------------------------------------------------------\n"
     ]
    },
    {
     "name": "stderr",
     "output_type": "stream",
     "text": [
      "Batch calculation at epoch 40.: 2406it [01:00, 35.19it/s]"
     ]
    },
    {
     "name": "stdout",
     "output_type": "stream",
     "text": [
      "------------------------------------------------------------\n",
      "Epoch 40, batch 2399:\n",
      "Average original gradient norm: 0.4035094480402768 (over last 800 batches)\n",
      "Average clipped gradient norm: 0.4026879769749939 (over last 800 batches)\n",
      "Running average global loss: 0.4617286291718483 (over last 800 batches)\n",
      "Running average activity prediction loss: 0.30184043433517216 (Cross Entropy over last 800 batches)\n",
      "Running average time till next event prediction loss: 0.15988819495774806 (MAE over last 800 batches)\n",
      "------------------------------------------------------------\n"
     ]
    },
    {
     "name": "stderr",
     "output_type": "stream",
     "text": [
      "Batch calculation at epoch 40.: 3207it [01:25, 39.46it/s]"
     ]
    },
    {
     "name": "stdout",
     "output_type": "stream",
     "text": [
      "------------------------------------------------------------\n",
      "Epoch 40, batch 3199:\n",
      "Average original gradient norm: 0.39124191999435426 (over last 800 batches)\n",
      "Average clipped gradient norm: 0.39124191999435426 (over last 800 batches)\n",
      "Running average global loss: 0.4602538180351257 (over last 800 batches)\n",
      "Running average activity prediction loss: 0.30112500980496404 (Cross Entropy over last 800 batches)\n",
      "Running average time till next event prediction loss: 0.15912880868650972 (MAE over last 800 batches)\n",
      "------------------------------------------------------------\n"
     ]
    },
    {
     "name": "stderr",
     "output_type": "stream",
     "text": [
      "Batch calculation at epoch 40.: 4002it [01:46, 34.78it/s]"
     ]
    },
    {
     "name": "stdout",
     "output_type": "stream",
     "text": [
      "------------------------------------------------------------\n",
      "Epoch 40, batch 3999:\n",
      "Average original gradient norm: 0.40332687811926005 (over last 800 batches)\n",
      "Average clipped gradient norm: 0.40261133613064887 (over last 800 batches)\n",
      "Running average global loss: 0.46172803934663537 (over last 800 batches)\n",
      "Running average activity prediction loss: 0.30184348709881303 (Cross Entropy over last 800 batches)\n",
      "Running average time till next event prediction loss: 0.15988455231301488 (MAE over last 800 batches)\n",
      "------------------------------------------------------------\n"
     ]
    },
    {
     "name": "stderr",
     "output_type": "stream",
     "text": [
      "Batch calculation at epoch 40.: 4798it [02:11, 36.41it/s]\n"
     ]
    },
    {
     "name": "stdout",
     "output_type": "stream",
     "text": [
      "=======================================\n",
      "End of epoch 40\n",
      "=======================================\n",
      "Running average global loss: 0.4632050033286214 (over last 800 batches)\n",
      "Running average activity prediction loss: 0.3020065063610673 (Cross Entropy over last 800 batches)\n",
      "Running average time till next event prediction loss: 0.16119849627837537 (MAE over last 800 batches)\n"
     ]
    },
    {
     "name": "stderr",
     "output_type": "stream",
     "text": [
      "Validation batch calculation: 72it [01:00,  1.20it/s]\n"
     ]
    },
    {
     "name": "stdout",
     "output_type": "stream",
     "text": [
      "Avg MAE TTNE prediction validation set: 0.20611269772052765 (standardized) ; 763.166015625 (minutes)'\n",
      "Avg 1-(normalized) DL distance acitivty suffix prediction validation set: 0.24046458303928375\n",
      "Percentage of suffixes predicted to END: too early - 0.018423585465913977 ; right moment - 0.09737400765885991 ; too late - 0.8842024068752261\n",
      "Too early instances - avg amount of events too early: 8.527973175048828\n",
      "Too late instances - avg amount of events too late: 57.14105224609375\n",
      "Avg absolute amount of events predicted too early / too late: 50.681373596191406\n",
      "Avg MAE RRT prediction validation set:  11920.225 (minutes)'\n",
      " \n",
      "------------------------------------\n",
      "EPOCH 41:\n",
      "____________________________________\n"
     ]
    },
    {
     "name": "stderr",
     "output_type": "stream",
     "text": [
      "Batch calculation at epoch 41.: 806it [00:19, 44.77it/s]"
     ]
    },
    {
     "name": "stdout",
     "output_type": "stream",
     "text": [
      "------------------------------------------------------------\n",
      "Epoch 41, batch 799:\n",
      "Average original gradient norm: 0.39102856451645496 (over last 800 batches)\n",
      "Average clipped gradient norm: 0.39090234169736504 (over last 800 batches)\n",
      "Running average global loss: 0.46137722570449113 (over last 800 batches)\n",
      "Running average activity prediction loss: 0.3018190624937415 (Cross Entropy over last 800 batches)\n",
      "Running average time till next event prediction loss: 0.15955816280096768 (MAE over last 800 batches)\n",
      "------------------------------------------------------------\n"
     ]
    },
    {
     "name": "stderr",
     "output_type": "stream",
     "text": [
      "Batch calculation at epoch 41.: 1610it [00:37, 52.56it/s]"
     ]
    },
    {
     "name": "stdout",
     "output_type": "stream",
     "text": [
      "------------------------------------------------------------\n",
      "Epoch 41, batch 1599:\n",
      "Average original gradient norm: 0.38316650804132224 (over last 800 batches)\n",
      "Average clipped gradient norm: 0.38316650804132224 (over last 800 batches)\n",
      "Running average global loss: 0.4618567951768637 (over last 800 batches)\n",
      "Running average activity prediction loss: 0.3021491665765643 (Cross Entropy over last 800 batches)\n",
      "Running average time till next event prediction loss: 0.15970762906596064 (MAE over last 800 batches)\n",
      "------------------------------------------------------------\n"
     ]
    },
    {
     "name": "stderr",
     "output_type": "stream",
     "text": [
      "Batch calculation at epoch 41.: 2404it [00:57, 41.91it/s]"
     ]
    },
    {
     "name": "stdout",
     "output_type": "stream",
     "text": [
      "------------------------------------------------------------\n",
      "Epoch 41, batch 2399:\n",
      "Average original gradient norm: 0.40636987835168836 (over last 800 batches)\n",
      "Average clipped gradient norm: 0.40636987835168836 (over last 800 batches)\n",
      "Running average global loss: 0.4611567299813032 (over last 800 batches)\n",
      "Running average activity prediction loss: 0.3018217094987631 (Cross Entropy over last 800 batches)\n",
      "Running average time till next event prediction loss: 0.1593350206874311 (MAE over last 800 batches)\n",
      "------------------------------------------------------------\n"
     ]
    },
    {
     "name": "stderr",
     "output_type": "stream",
     "text": [
      "Batch calculation at epoch 41.: 3207it [01:16, 46.70it/s]"
     ]
    },
    {
     "name": "stdout",
     "output_type": "stream",
     "text": [
      "------------------------------------------------------------\n",
      "Epoch 41, batch 3199:\n",
      "Average original gradient norm: 0.38125295206904414 (over last 800 batches)\n",
      "Average clipped gradient norm: 0.38125295206904414 (over last 800 batches)\n",
      "Running average global loss: 0.46019601356238127 (over last 800 batches)\n",
      "Running average activity prediction loss: 0.3003002671897411 (Cross Entropy over last 800 batches)\n",
      "Running average time till next event prediction loss: 0.159895745748654 (MAE over last 800 batches)\n",
      "------------------------------------------------------------\n"
     ]
    },
    {
     "name": "stderr",
     "output_type": "stream",
     "text": [
      "Batch calculation at epoch 41.: 4007it [01:34, 50.56it/s]"
     ]
    },
    {
     "name": "stdout",
     "output_type": "stream",
     "text": [
      "------------------------------------------------------------\n",
      "Epoch 41, batch 3999:\n",
      "Average original gradient norm: 0.398188583496958 (over last 800 batches)\n",
      "Average clipped gradient norm: 0.398188583496958 (over last 800 batches)\n",
      "Running average global loss: 0.46230663679540157 (over last 800 batches)\n",
      "Running average activity prediction loss: 0.301728856228292 (Cross Entropy over last 800 batches)\n",
      "Running average time till next event prediction loss: 0.1605777813307941 (MAE over last 800 batches)\n",
      "------------------------------------------------------------\n"
     ]
    },
    {
     "name": "stderr",
     "output_type": "stream",
     "text": [
      "Batch calculation at epoch 41.: 4798it [01:52, 42.52it/s]\n"
     ]
    },
    {
     "name": "stdout",
     "output_type": "stream",
     "text": [
      "=======================================\n",
      "End of epoch 41\n",
      "=======================================\n",
      "Running average global loss: 0.46285465229302647 (over last 800 batches)\n",
      "Running average activity prediction loss: 0.3019760850816965 (Cross Entropy over last 800 batches)\n",
      "Running average time till next event prediction loss: 0.16087856727652253 (MAE over last 800 batches)\n"
     ]
    },
    {
     "name": "stderr",
     "output_type": "stream",
     "text": [
      "Validation batch calculation: 72it [01:02,  1.16it/s]\n"
     ]
    },
    {
     "name": "stdout",
     "output_type": "stream",
     "text": [
      "Avg MAE TTNE prediction validation set: 0.20620542764663696 (standardized) ; 763.4420572916666 (minutes)'\n",
      "Avg 1-(normalized) DL distance acitivty suffix prediction validation set: 0.24052034318447113\n",
      "Percentage of suffixes predicted to END: too early - 0.017037891560919335 ; right moment - 0.09701222550632436 ; too late - 0.8859498829327563\n",
      "Too early instances - avg amount of events too early: 8.493989944458008\n",
      "Too late instances - avg amount of events too late: 56.5717887878418\n",
      "Avg absolute amount of events predicted too early / too late: 50.264488220214844\n",
      "Avg MAE RRT prediction validation set:  11936.753125 (minutes)'\n",
      " \n",
      "------------------------------------\n",
      "EPOCH 42:\n",
      "____________________________________\n"
     ]
    },
    {
     "name": "stderr",
     "output_type": "stream",
     "text": [
      "Batch calculation at epoch 42.: 805it [00:17, 44.45it/s]"
     ]
    },
    {
     "name": "stdout",
     "output_type": "stream",
     "text": [
      "------------------------------------------------------------\n",
      "Epoch 42, batch 799:\n",
      "Average original gradient norm: 0.4017353771813214 (over last 800 batches)\n",
      "Average clipped gradient norm: 0.4017353771813214 (over last 800 batches)\n",
      "Running average global loss: 0.4609386197477579 (over last 800 batches)\n",
      "Running average activity prediction loss: 0.3008144515007734 (Cross Entropy over last 800 batches)\n",
      "Running average time till next event prediction loss: 0.16012416808865965 (MAE over last 800 batches)\n",
      "------------------------------------------------------------\n"
     ]
    },
    {
     "name": "stderr",
     "output_type": "stream",
     "text": [
      "Batch calculation at epoch 42.: 1607it [00:39, 35.21it/s]"
     ]
    },
    {
     "name": "stdout",
     "output_type": "stream",
     "text": [
      "------------------------------------------------------------\n",
      "Epoch 42, batch 1599:\n",
      "Average original gradient norm: 0.38116705043241383 (over last 800 batches)\n",
      "Average clipped gradient norm: 0.38116705043241383 (over last 800 batches)\n",
      "Running average global loss: 0.4612260418385267 (over last 800 batches)\n",
      "Running average activity prediction loss: 0.3011077293753624 (Cross Entropy over last 800 batches)\n",
      "Running average time till next event prediction loss: 0.16011831213720143 (MAE over last 800 batches)\n",
      "------------------------------------------------------------\n"
     ]
    },
    {
     "name": "stderr",
     "output_type": "stream",
     "text": [
      "Batch calculation at epoch 42.: 2406it [01:03, 32.79it/s]"
     ]
    },
    {
     "name": "stdout",
     "output_type": "stream",
     "text": [
      "------------------------------------------------------------\n",
      "Epoch 42, batch 2399:\n",
      "Average original gradient norm: 0.40960894234478473 (over last 800 batches)\n",
      "Average clipped gradient norm: 0.40903010226786135 (over last 800 batches)\n",
      "Running average global loss: 0.46180392652750013 (over last 800 batches)\n",
      "Running average activity prediction loss: 0.3015192472189665 (Cross Entropy over last 800 batches)\n",
      "Running average time till next event prediction loss: 0.16028467893600465 (MAE over last 800 batches)\n",
      "------------------------------------------------------------\n"
     ]
    },
    {
     "name": "stderr",
     "output_type": "stream",
     "text": [
      "Batch calculation at epoch 42.: 3206it [01:24, 42.50it/s]"
     ]
    },
    {
     "name": "stdout",
     "output_type": "stream",
     "text": [
      "------------------------------------------------------------\n",
      "Epoch 42, batch 3199:\n",
      "Average original gradient norm: 0.400471700374037 (over last 800 batches)\n",
      "Average clipped gradient norm: 0.400471700374037 (over last 800 batches)\n",
      "Running average global loss: 0.4612569972127676 (over last 800 batches)\n",
      "Running average activity prediction loss: 0.3015520630404353 (Cross Entropy over last 800 batches)\n",
      "Running average time till next event prediction loss: 0.1597049340698868 (MAE over last 800 batches)\n",
      "------------------------------------------------------------\n"
     ]
    },
    {
     "name": "stderr",
     "output_type": "stream",
     "text": [
      "Batch calculation at epoch 42.: 4004it [01:46, 32.16it/s]"
     ]
    },
    {
     "name": "stdout",
     "output_type": "stream",
     "text": [
      "------------------------------------------------------------\n",
      "Epoch 42, batch 3999:\n",
      "Average original gradient norm: 0.3891359124518931 (over last 800 batches)\n",
      "Average clipped gradient norm: 0.3891359124518931 (over last 800 batches)\n",
      "Running average global loss: 0.4625639370828867 (over last 800 batches)\n",
      "Running average activity prediction loss: 0.30201812196522954 (Cross Entropy over last 800 batches)\n",
      "Running average time till next event prediction loss: 0.16054581464268267 (MAE over last 800 batches)\n",
      "------------------------------------------------------------\n"
     ]
    },
    {
     "name": "stderr",
     "output_type": "stream",
     "text": [
      "Batch calculation at epoch 42.: 4798it [02:10, 36.82it/s]\n"
     ]
    },
    {
     "name": "stdout",
     "output_type": "stream",
     "text": [
      "=======================================\n",
      "End of epoch 42\n",
      "=======================================\n",
      "Running average global loss: 0.46053989995270966 (over last 800 batches)\n",
      "Running average activity prediction loss: 0.3014278655126691 (Cross Entropy over last 800 batches)\n",
      "Running average time till next event prediction loss: 0.15911203439347446 (MAE over last 800 batches)\n"
     ]
    },
    {
     "name": "stderr",
     "output_type": "stream",
     "text": [
      "Validation batch calculation: 72it [01:02,  1.16it/s]\n"
     ]
    },
    {
     "name": "stdout",
     "output_type": "stream",
     "text": [
      "Avg MAE TTNE prediction validation set: 0.20600682497024536 (standardized) ; 762.9313802083333 (minutes)'\n",
      "Avg 1-(normalized) DL distance acitivty suffix prediction validation set: 0.23914600908756256\n",
      "Percentage of suffixes predicted to END: too early - 0.022075537383018082 ; right moment - 0.09792692000518782 ; too late - 0.8799975426117941\n",
      "Too early instances - avg amount of events too early: 8.86734676361084\n",
      "Too late instances - avg amount of events too late: 58.09865951538086\n",
      "Avg absolute amount of events predicted too early / too late: 51.32242965698242\n",
      "Avg MAE RRT prediction validation set:  11935.478125 (minutes)'\n",
      " \n",
      "------------------------------------\n",
      "EPOCH 43:\n",
      "____________________________________\n"
     ]
    },
    {
     "name": "stderr",
     "output_type": "stream",
     "text": [
      "Batch calculation at epoch 43.: 803it [00:28, 30.66it/s]"
     ]
    },
    {
     "name": "stdout",
     "output_type": "stream",
     "text": [
      "------------------------------------------------------------\n",
      "Epoch 43, batch 799:\n",
      "Average original gradient norm: 0.38697331853210926 (over last 800 batches)\n",
      "Average clipped gradient norm: 0.38697331853210926 (over last 800 batches)\n",
      "Running average global loss: 0.46186766114085914 (over last 800 batches)\n",
      "Running average activity prediction loss: 0.30119617119431497 (Cross Entropy over last 800 batches)\n",
      "Running average time till next event prediction loss: 0.16067149066366254 (MAE over last 800 batches)\n",
      "------------------------------------------------------------\n"
     ]
    },
    {
     "name": "stderr",
     "output_type": "stream",
     "text": [
      "Batch calculation at epoch 43.: 1603it [00:55, 27.26it/s]"
     ]
    },
    {
     "name": "stdout",
     "output_type": "stream",
     "text": [
      "------------------------------------------------------------\n",
      "Epoch 43, batch 1599:\n",
      "Average original gradient norm: 0.4031872020848095 (over last 800 batches)\n",
      "Average clipped gradient norm: 0.40214638771489264 (over last 800 batches)\n",
      "Running average global loss: 0.460287724211812 (over last 800 batches)\n",
      "Running average activity prediction loss: 0.301012405641377 (Cross Entropy over last 800 batches)\n",
      "Running average time till next event prediction loss: 0.1592753189522773 (MAE over last 800 batches)\n",
      "------------------------------------------------------------\n"
     ]
    },
    {
     "name": "stderr",
     "output_type": "stream",
     "text": [
      "Batch calculation at epoch 43.: 2404it [01:21, 26.64it/s]"
     ]
    },
    {
     "name": "stdout",
     "output_type": "stream",
     "text": [
      "------------------------------------------------------------\n",
      "Epoch 43, batch 2399:\n",
      "Average original gradient norm: 0.39433477323502303 (over last 800 batches)\n",
      "Average clipped gradient norm: 0.3921525324508548 (over last 800 batches)\n",
      "Running average global loss: 0.4602587980404496 (over last 800 batches)\n",
      "Running average activity prediction loss: 0.3006007060408592 (Cross Entropy over last 800 batches)\n",
      "Running average time till next event prediction loss: 0.15965809223242103 (MAE over last 800 batches)\n",
      "------------------------------------------------------------\n"
     ]
    },
    {
     "name": "stderr",
     "output_type": "stream",
     "text": [
      "Batch calculation at epoch 43.: 3203it [01:52, 26.46it/s]"
     ]
    },
    {
     "name": "stdout",
     "output_type": "stream",
     "text": [
      "------------------------------------------------------------\n",
      "Epoch 43, batch 3199:\n",
      "Average original gradient norm: 0.3807275965623558 (over last 800 batches)\n",
      "Average clipped gradient norm: 0.3807275965623558 (over last 800 batches)\n",
      "Running average global loss: 0.4616375882178545 (over last 800 batches)\n",
      "Running average activity prediction loss: 0.3016497487574816 (Cross Entropy over last 800 batches)\n",
      "Running average time till next event prediction loss: 0.15998783968389035 (MAE over last 800 batches)\n",
      "------------------------------------------------------------\n"
     ]
    },
    {
     "name": "stderr",
     "output_type": "stream",
     "text": [
      "Batch calculation at epoch 43.: 4007it [02:17, 46.02it/s]"
     ]
    },
    {
     "name": "stdout",
     "output_type": "stream",
     "text": [
      "------------------------------------------------------------\n",
      "Epoch 43, batch 3999:\n",
      "Average original gradient norm: 0.3921731614135206 (over last 800 batches)\n",
      "Average clipped gradient norm: 0.3921731614135206 (over last 800 batches)\n",
      "Running average global loss: 0.4619496399909258 (over last 800 batches)\n",
      "Running average activity prediction loss: 0.3017207155749202 (Cross Entropy over last 800 batches)\n",
      "Running average time till next event prediction loss: 0.16022892421111465 (MAE over last 800 batches)\n",
      "------------------------------------------------------------\n"
     ]
    },
    {
     "name": "stderr",
     "output_type": "stream",
     "text": [
      "Batch calculation at epoch 43.: 4798it [02:35, 30.78it/s]\n"
     ]
    },
    {
     "name": "stdout",
     "output_type": "stream",
     "text": [
      "=======================================\n",
      "End of epoch 43\n",
      "=======================================\n",
      "Running average global loss: 0.46162446577101945 (over last 800 batches)\n",
      "Running average activity prediction loss: 0.301518135368824 (Cross Entropy over last 800 batches)\n",
      "Running average time till next event prediction loss: 0.16010633026249707 (MAE over last 800 batches)\n"
     ]
    },
    {
     "name": "stderr",
     "output_type": "stream",
     "text": [
      "Validation batch calculation: 72it [01:02,  1.15it/s]\n"
     ]
    },
    {
     "name": "stdout",
     "output_type": "stream",
     "text": [
      "Avg MAE TTNE prediction validation set: 0.20628471672534943 (standardized) ; 764.0040364583333 (minutes)'\n",
      "Avg 1-(normalized) DL distance acitivty suffix prediction validation set: 0.2522243559360504\n",
      "Percentage of suffixes predicted to END: too early - 0.021611364055236625 ; right moment - 0.09804978941548291 ; too late - 0.8803388465292805\n",
      "Too early instances - avg amount of events too early: 8.480732917785645\n",
      "Too late instances - avg amount of events too late: 54.421966552734375\n",
      "Avg absolute amount of events predicted too early / too late: 48.09305191040039\n",
      "Avg MAE RRT prediction validation set:  11864.36875 (minutes)'\n",
      " \n",
      "------------------------------------\n",
      "EPOCH 44:\n",
      "____________________________________\n"
     ]
    },
    {
     "name": "stderr",
     "output_type": "stream",
     "text": [
      "Batch calculation at epoch 44.: 805it [00:32, 25.45it/s]"
     ]
    },
    {
     "name": "stdout",
     "output_type": "stream",
     "text": [
      "------------------------------------------------------------\n",
      "Epoch 44, batch 799:\n",
      "Average original gradient norm: 0.40717462588101627 (over last 800 batches)\n",
      "Average clipped gradient norm: 0.40717462588101627 (over last 800 batches)\n",
      "Running average global loss: 0.4624467070028186 (over last 800 batches)\n",
      "Running average activity prediction loss: 0.3019373504817486 (Cross Entropy over last 800 batches)\n",
      "Running average time till next event prediction loss: 0.16050935711711645 (MAE over last 800 batches)\n",
      "------------------------------------------------------------\n"
     ]
    },
    {
     "name": "stderr",
     "output_type": "stream",
     "text": [
      "Batch calculation at epoch 44.: 1602it [01:08, 17.95it/s]"
     ]
    },
    {
     "name": "stdout",
     "output_type": "stream",
     "text": [
      "------------------------------------------------------------\n",
      "Epoch 44, batch 1599:\n",
      "Average original gradient norm: 0.3975896108709276 (over last 800 batches)\n",
      "Average clipped gradient norm: 0.39339147305116057 (over last 800 batches)\n",
      "Running average global loss: 0.46061571188271044 (over last 800 batches)\n",
      "Running average activity prediction loss: 0.3009009059518576 (Cross Entropy over last 800 batches)\n",
      "Running average time till next event prediction loss: 0.15971480543725192 (MAE over last 800 batches)\n",
      "------------------------------------------------------------\n"
     ]
    },
    {
     "name": "stderr",
     "output_type": "stream",
     "text": [
      "Batch calculation at epoch 44.: 2407it [01:39, 31.64it/s]"
     ]
    },
    {
     "name": "stdout",
     "output_type": "stream",
     "text": [
      "------------------------------------------------------------\n",
      "Epoch 44, batch 2399:\n",
      "Average original gradient norm: 0.38959210393950344 (over last 800 batches)\n",
      "Average clipped gradient norm: 0.38959210393950344 (over last 800 batches)\n",
      "Running average global loss: 0.461336796246469 (over last 800 batches)\n",
      "Running average activity prediction loss: 0.30109025120735167 (Cross Entropy over last 800 batches)\n",
      "Running average time till next event prediction loss: 0.16024654456414283 (MAE over last 800 batches)\n",
      "------------------------------------------------------------\n"
     ]
    },
    {
     "name": "stderr",
     "output_type": "stream",
     "text": [
      "Batch calculation at epoch 44.: 3205it [02:06, 35.47it/s]"
     ]
    },
    {
     "name": "stdout",
     "output_type": "stream",
     "text": [
      "------------------------------------------------------------\n",
      "Epoch 44, batch 3199:\n",
      "Average original gradient norm: 0.3936993882246316 (over last 800 batches)\n",
      "Average clipped gradient norm: 0.392907509226352 (over last 800 batches)\n",
      "Running average global loss: 0.460443170517683 (over last 800 batches)\n",
      "Running average activity prediction loss: 0.3012401678040624 (Cross Entropy over last 800 batches)\n",
      "Running average time till next event prediction loss: 0.15920300289988518 (MAE over last 800 batches)\n",
      "------------------------------------------------------------\n"
     ]
    },
    {
     "name": "stderr",
     "output_type": "stream",
     "text": [
      "Batch calculation at epoch 44.: 4007it [02:28, 35.44it/s]"
     ]
    },
    {
     "name": "stdout",
     "output_type": "stream",
     "text": [
      "------------------------------------------------------------\n",
      "Epoch 44, batch 3999:\n",
      "Average original gradient norm: 0.3923612667433918 (over last 800 batches)\n",
      "Average clipped gradient norm: 0.391084347050637 (over last 800 batches)\n",
      "Running average global loss: 0.460248145237565 (over last 800 batches)\n",
      "Running average activity prediction loss: 0.3006663716584444 (Cross Entropy over last 800 batches)\n",
      "Running average time till next event prediction loss: 0.15958177322521805 (MAE over last 800 batches)\n",
      "------------------------------------------------------------\n"
     ]
    },
    {
     "name": "stderr",
     "output_type": "stream",
     "text": [
      "Batch calculation at epoch 44.: 4798it [02:53, 27.70it/s]\n"
     ]
    },
    {
     "name": "stdout",
     "output_type": "stream",
     "text": [
      "=======================================\n",
      "End of epoch 44\n",
      "=======================================\n",
      "Running average global loss: 0.46116210706532 (over last 800 batches)\n",
      "Running average activity prediction loss: 0.30085002183914183 (Cross Entropy over last 800 batches)\n",
      "Running average time till next event prediction loss: 0.1603120855707675 (MAE over last 800 batches)\n"
     ]
    },
    {
     "name": "stderr",
     "output_type": "stream",
     "text": [
      "Validation batch calculation: 72it [01:21,  1.13s/it]\n"
     ]
    },
    {
     "name": "stdout",
     "output_type": "stream",
     "text": [
      "Avg MAE TTNE prediction validation set: 0.20617260038852692 (standardized) ; 763.5063802083333 (minutes)'\n",
      "Avg 1-(normalized) DL distance acitivty suffix prediction validation set: 0.2432529330253601\n",
      "Percentage of suffixes predicted to END: too early - 0.016177805688853696 ; right moment - 0.09673918237233527 ; too late - 0.887083011938811\n",
      "Too early instances - avg amount of events too early: 8.376371383666992\n",
      "Too late instances - avg amount of events too late: 54.79962921142578\n",
      "Avg absolute amount of events predicted too early / too late: 48.74733352661133\n",
      "Avg MAE RRT prediction validation set:  11892.746875 (minutes)'\n",
      " \n",
      "------------------------------------\n",
      "EPOCH 45:\n",
      "____________________________________\n"
     ]
    },
    {
     "name": "stderr",
     "output_type": "stream",
     "text": [
      "Batch calculation at epoch 45.: 811it [00:14, 62.70it/s]"
     ]
    },
    {
     "name": "stdout",
     "output_type": "stream",
     "text": [
      "------------------------------------------------------------\n",
      "Epoch 45, batch 799:\n",
      "Average original gradient norm: 0.3946450943313539 (over last 800 batches)\n",
      "Average clipped gradient norm: 0.3946450943313539 (over last 800 batches)\n",
      "Running average global loss: 0.46070580042898657 (over last 800 batches)\n",
      "Running average activity prediction loss: 0.300701115205884 (Cross Entropy over last 800 batches)\n",
      "Running average time till next event prediction loss: 0.16000468540936708 (MAE over last 800 batches)\n",
      "------------------------------------------------------------\n"
     ]
    },
    {
     "name": "stderr",
     "output_type": "stream",
     "text": [
      "Batch calculation at epoch 45.: 1609it [00:28, 68.54it/s]"
     ]
    },
    {
     "name": "stdout",
     "output_type": "stream",
     "text": [
      "------------------------------------------------------------\n",
      "Epoch 45, batch 1599:\n",
      "Average original gradient norm: 0.39698932364583017 (over last 800 batches)\n",
      "Average clipped gradient norm: 0.3967390815913677 (over last 800 batches)\n",
      "Running average global loss: 0.46132602520287036 (over last 800 batches)\n",
      "Running average activity prediction loss: 0.30149341821670533 (Cross Entropy over last 800 batches)\n",
      "Running average time till next event prediction loss: 0.1598326069675386 (MAE over last 800 batches)\n",
      "------------------------------------------------------------\n"
     ]
    },
    {
     "name": "stderr",
     "output_type": "stream",
     "text": [
      "Batch calculation at epoch 45.: 2409it [00:41, 62.96it/s]"
     ]
    },
    {
     "name": "stdout",
     "output_type": "stream",
     "text": [
      "------------------------------------------------------------\n",
      "Epoch 45, batch 2399:\n",
      "Average original gradient norm: 0.3869656398147345 (over last 800 batches)\n",
      "Average clipped gradient norm: 0.383039635643363 (over last 800 batches)\n",
      "Running average global loss: 0.46108587734401224 (over last 800 batches)\n",
      "Running average activity prediction loss: 0.3009968101978302 (Cross Entropy over last 800 batches)\n",
      "Running average time till next event prediction loss: 0.1600890671275556 (MAE over last 800 batches)\n",
      "------------------------------------------------------------\n"
     ]
    },
    {
     "name": "stderr",
     "output_type": "stream",
     "text": [
      "Batch calculation at epoch 45.: 3204it [00:57, 44.63it/s]"
     ]
    },
    {
     "name": "stdout",
     "output_type": "stream",
     "text": [
      "------------------------------------------------------------\n",
      "Epoch 45, batch 3199:\n",
      "Average original gradient norm: 0.39502726450562475 (over last 800 batches)\n",
      "Average clipped gradient norm: 0.38722444891929625 (over last 800 batches)\n",
      "Running average global loss: 0.46025013029575346 (over last 800 batches)\n",
      "Running average activity prediction loss: 0.30163090929389 (Cross Entropy over last 800 batches)\n",
      "Running average time till next event prediction loss: 0.15861922081559895 (MAE over last 800 batches)\n",
      "------------------------------------------------------------\n"
     ]
    },
    {
     "name": "stderr",
     "output_type": "stream",
     "text": [
      "Batch calculation at epoch 45.: 4005it [01:14, 43.65it/s]"
     ]
    },
    {
     "name": "stdout",
     "output_type": "stream",
     "text": [
      "------------------------------------------------------------\n",
      "Epoch 45, batch 3999:\n",
      "Average original gradient norm: 0.395331307798624 (over last 800 batches)\n",
      "Average clipped gradient norm: 0.395331307798624 (over last 800 batches)\n",
      "Running average global loss: 0.46114719547331334 (over last 800 batches)\n",
      "Running average activity prediction loss: 0.29999109540134666 (Cross Entropy over last 800 batches)\n",
      "Running average time till next event prediction loss: 0.1611560999136418 (MAE over last 800 batches)\n",
      "------------------------------------------------------------\n"
     ]
    },
    {
     "name": "stderr",
     "output_type": "stream",
     "text": [
      "Batch calculation at epoch 45.: 4798it [01:33, 51.19it/s]\n"
     ]
    },
    {
     "name": "stdout",
     "output_type": "stream",
     "text": [
      "=======================================\n",
      "End of epoch 45\n",
      "=======================================\n",
      "Running average global loss: 0.4610240590572357 (over last 800 batches)\n",
      "Running average activity prediction loss: 0.30123421344906093 (Cross Entropy over last 800 batches)\n",
      "Running average time till next event prediction loss: 0.15978984523564577 (MAE over last 800 batches)\n"
     ]
    },
    {
     "name": "stderr",
     "output_type": "stream",
     "text": [
      "Validation batch calculation: 72it [00:53,  1.34it/s]\n"
     ]
    },
    {
     "name": "stdout",
     "output_type": "stream",
     "text": [
      "Avg MAE TTNE prediction validation set: 0.20602865517139435 (standardized) ; 763.0465494791666 (minutes)'\n",
      "Avg 1-(normalized) DL distance acitivty suffix prediction validation set: 0.24851234257221222\n",
      "Percentage of suffixes predicted to END: too early - 0.024116534809586546 ; right moment - 0.09888257097414964 ; too late - 0.8770008942162638\n",
      "Too early instances - avg amount of events too early: 8.911972999572754\n",
      "Too late instances - avg amount of events too late: 55.61418151855469\n",
      "Avg absolute amount of events predicted too early / too late: 48.98861312866211\n",
      "Avg MAE RRT prediction validation set:  11888.367708333333 (minutes)'\n",
      " \n",
      "------------------------------------\n",
      "EPOCH 46:\n",
      "____________________________________\n"
     ]
    },
    {
     "name": "stderr",
     "output_type": "stream",
     "text": [
      "Batch calculation at epoch 46.: 805it [00:23, 34.65it/s]"
     ]
    },
    {
     "name": "stdout",
     "output_type": "stream",
     "text": [
      "------------------------------------------------------------\n",
      "Epoch 46, batch 799:\n",
      "Average original gradient norm: 0.3898011304065585 (over last 800 batches)\n",
      "Average clipped gradient norm: 0.3898011304065585 (over last 800 batches)\n",
      "Running average global loss: 0.46009287584573033 (over last 800 batches)\n",
      "Running average activity prediction loss: 0.3005360556393862 (Cross Entropy over last 800 batches)\n",
      "Running average time till next event prediction loss: 0.1595568203739822 (MAE over last 800 batches)\n",
      "------------------------------------------------------------\n"
     ]
    },
    {
     "name": "stderr",
     "output_type": "stream",
     "text": [
      "Batch calculation at epoch 46.: 1607it [00:45, 34.90it/s]"
     ]
    },
    {
     "name": "stdout",
     "output_type": "stream",
     "text": [
      "------------------------------------------------------------\n",
      "Epoch 46, batch 1599:\n",
      "Average original gradient norm: 0.39844472587108615 (over last 800 batches)\n",
      "Average clipped gradient norm: 0.39824826657772067 (over last 800 batches)\n",
      "Running average global loss: 0.4613391751050949 (over last 800 batches)\n",
      "Running average activity prediction loss: 0.3008860867470503 (Cross Entropy over last 800 batches)\n",
      "Running average time till next event prediction loss: 0.160453088786453 (MAE over last 800 batches)\n",
      "------------------------------------------------------------\n"
     ]
    },
    {
     "name": "stderr",
     "output_type": "stream",
     "text": [
      "Batch calculation at epoch 46.: 2407it [01:08, 34.94it/s]"
     ]
    },
    {
     "name": "stdout",
     "output_type": "stream",
     "text": [
      "------------------------------------------------------------\n",
      "Epoch 46, batch 2399:\n",
      "Average original gradient norm: 0.40291829148307445 (over last 800 batches)\n",
      "Average clipped gradient norm: 0.40291829148307445 (over last 800 batches)\n",
      "Running average global loss: 0.46088405054062603 (over last 800 batches)\n",
      "Running average activity prediction loss: 0.3011538780480623 (Cross Entropy over last 800 batches)\n",
      "Running average time till next event prediction loss: 0.15973017232492567 (MAE over last 800 batches)\n",
      "------------------------------------------------------------\n"
     ]
    },
    {
     "name": "stderr",
     "output_type": "stream",
     "text": [
      "Batch calculation at epoch 46.: 3204it [01:29, 35.26it/s]"
     ]
    },
    {
     "name": "stdout",
     "output_type": "stream",
     "text": [
      "------------------------------------------------------------\n",
      "Epoch 46, batch 3199:\n",
      "Average original gradient norm: 0.4009509535320103 (over last 800 batches)\n",
      "Average clipped gradient norm: 0.4009509535320103 (over last 800 batches)\n",
      "Running average global loss: 0.4604721260815859 (over last 800 batches)\n",
      "Running average activity prediction loss: 0.3009023067355156 (Cross Entropy over last 800 batches)\n",
      "Running average time till next event prediction loss: 0.1595698189176619 (MAE over last 800 batches)\n",
      "------------------------------------------------------------\n"
     ]
    },
    {
     "name": "stderr",
     "output_type": "stream",
     "text": [
      "Batch calculation at epoch 46.: 4004it [01:52, 35.54it/s]"
     ]
    },
    {
     "name": "stdout",
     "output_type": "stream",
     "text": [
      "------------------------------------------------------------\n",
      "Epoch 46, batch 3999:\n",
      "Average original gradient norm: 0.3966922855935991 (over last 800 batches)\n",
      "Average clipped gradient norm: 0.3966922855935991 (over last 800 batches)\n",
      "Running average global loss: 0.46099515080451964 (over last 800 batches)\n",
      "Running average activity prediction loss: 0.300749455280602 (Cross Entropy over last 800 batches)\n",
      "Running average time till next event prediction loss: 0.16024569615721704 (MAE over last 800 batches)\n",
      "------------------------------------------------------------\n"
     ]
    },
    {
     "name": "stderr",
     "output_type": "stream",
     "text": [
      "Batch calculation at epoch 46.: 4798it [02:15, 35.35it/s]\n"
     ]
    },
    {
     "name": "stdout",
     "output_type": "stream",
     "text": [
      "=======================================\n",
      "End of epoch 46\n",
      "=======================================\n",
      "Running average global loss: 0.4605752397328615 (over last 800 batches)\n",
      "Running average activity prediction loss: 0.3007064136117697 (Cross Entropy over last 800 batches)\n",
      "Running average time till next event prediction loss: 0.159868825962767 (MAE over last 800 batches)\n"
     ]
    },
    {
     "name": "stderr",
     "output_type": "stream",
     "text": [
      "Validation batch calculation: 72it [01:09,  1.04it/s]\n"
     ]
    },
    {
     "name": "stdout",
     "output_type": "stream",
     "text": [
      "Avg MAE TTNE prediction validation set: 0.20607434213161469 (standardized) ; 763.2119791666667 (minutes)'\n",
      "Avg 1-(normalized) DL distance acitivty suffix prediction validation set: 0.25538328289985657\n",
      "Percentage of suffixes predicted to END: too early - 0.029038137299739926 ; right moment - 0.09930578783183273 ; too late - 0.8716560748684273\n",
      "Too early instances - avg amount of events too early: 8.95604133605957\n",
      "Too late instances - avg amount of events too late: 55.10109329223633\n",
      "Avg absolute amount of events predicted too early / too late: 48.289268493652344\n",
      "Avg MAE RRT prediction validation set:  11923.03125 (minutes)'\n",
      " \n",
      "------------------------------------\n",
      "EPOCH 47:\n",
      "____________________________________\n"
     ]
    },
    {
     "name": "stderr",
     "output_type": "stream",
     "text": [
      "Batch calculation at epoch 47.: 809it [00:15, 52.36it/s]"
     ]
    },
    {
     "name": "stdout",
     "output_type": "stream",
     "text": [
      "------------------------------------------------------------\n",
      "Epoch 47, batch 799:\n",
      "Average original gradient norm: 0.38467142594978215 (over last 800 batches)\n",
      "Average clipped gradient norm: 0.38467142594978215 (over last 800 batches)\n",
      "Running average global loss: 0.46169808600097895 (over last 800 batches)\n",
      "Running average activity prediction loss: 0.3009851114079356 (Cross Entropy over last 800 batches)\n",
      "Running average time till next event prediction loss: 0.16071297463960946 (MAE over last 800 batches)\n",
      "------------------------------------------------------------\n"
     ]
    },
    {
     "name": "stderr",
     "output_type": "stream",
     "text": [
      "Batch calculation at epoch 47.: 1606it [00:28, 51.62it/s]"
     ]
    },
    {
     "name": "stdout",
     "output_type": "stream",
     "text": [
      "------------------------------------------------------------\n",
      "Epoch 47, batch 1599:\n",
      "Average original gradient norm: 0.3878230271488428 (over last 800 batches)\n",
      "Average clipped gradient norm: 0.3878230271488428 (over last 800 batches)\n",
      "Running average global loss: 0.46082443561404945 (over last 800 batches)\n",
      "Running average activity prediction loss: 0.3009390687942505 (Cross Entropy over last 800 batches)\n",
      "Running average time till next event prediction loss: 0.15988536668941378 (MAE over last 800 batches)\n",
      "------------------------------------------------------------\n"
     ]
    },
    {
     "name": "stderr",
     "output_type": "stream",
     "text": [
      "Batch calculation at epoch 47.: 2409it [00:43, 52.59it/s]"
     ]
    },
    {
     "name": "stdout",
     "output_type": "stream",
     "text": [
      "------------------------------------------------------------\n",
      "Epoch 47, batch 2399:\n",
      "Average original gradient norm: 0.39316422659903766 (over last 800 batches)\n",
      "Average clipped gradient norm: 0.39316422659903766 (over last 800 batches)\n",
      "Running average global loss: 0.46102361369878053 (over last 800 batches)\n",
      "Running average activity prediction loss: 0.30092424146831037 (Cross Entropy over last 800 batches)\n",
      "Running average time till next event prediction loss: 0.16009937175549566 (MAE over last 800 batches)\n",
      "------------------------------------------------------------\n"
     ]
    },
    {
     "name": "stderr",
     "output_type": "stream",
     "text": [
      "Batch calculation at epoch 47.: 3211it [00:56, 68.40it/s]"
     ]
    },
    {
     "name": "stdout",
     "output_type": "stream",
     "text": [
      "------------------------------------------------------------\n",
      "Epoch 47, batch 3199:\n",
      "Average original gradient norm: 0.39939995486289265 (over last 800 batches)\n",
      "Average clipped gradient norm: 0.3987285381928086 (over last 800 batches)\n",
      "Running average global loss: 0.4606243967264891 (over last 800 batches)\n",
      "Running average activity prediction loss: 0.30046956438571215 (Cross Entropy over last 800 batches)\n",
      "Running average time till next event prediction loss: 0.16015483279712497 (MAE over last 800 batches)\n",
      "------------------------------------------------------------\n"
     ]
    },
    {
     "name": "stderr",
     "output_type": "stream",
     "text": [
      "Batch calculation at epoch 47.: 4010it [01:09, 53.30it/s]"
     ]
    },
    {
     "name": "stdout",
     "output_type": "stream",
     "text": [
      "------------------------------------------------------------\n",
      "Epoch 47, batch 3999:\n",
      "Average original gradient norm: 0.3945928397588432 (over last 800 batches)\n",
      "Average clipped gradient norm: 0.38771625531837345 (over last 800 batches)\n",
      "Running average global loss: 0.45937131516635415 (over last 800 batches)\n",
      "Running average activity prediction loss: 0.30000450428575276 (Cross Entropy over last 800 batches)\n",
      "Running average time till next event prediction loss: 0.1593668111693114 (MAE over last 800 batches)\n",
      "------------------------------------------------------------\n"
     ]
    },
    {
     "name": "stderr",
     "output_type": "stream",
     "text": [
      "Batch calculation at epoch 47.: 4798it [01:24, 56.49it/s]\n"
     ]
    },
    {
     "name": "stdout",
     "output_type": "stream",
     "text": [
      "=======================================\n",
      "End of epoch 47\n",
      "=======================================\n",
      "Running average global loss: 0.459671222679317 (over last 800 batches)\n",
      "Running average activity prediction loss: 0.30072000302374363 (Cross Entropy over last 800 batches)\n",
      "Running average time till next event prediction loss: 0.15895121960900724 (MAE over last 800 batches)\n"
     ]
    },
    {
     "name": "stderr",
     "output_type": "stream",
     "text": [
      "Validation batch calculation: 72it [00:45,  1.60it/s]\n"
     ]
    },
    {
     "name": "stdout",
     "output_type": "stream",
     "text": [
      "Avg MAE TTNE prediction validation set: 0.20608662068843842 (standardized) ; 763.1484375 (minutes)'\n",
      "Avg 1-(normalized) DL distance acitivty suffix prediction validation set: 0.244954913854599\n",
      "Percentage of suffixes predicted to END: too early - 0.020198365836843077 ; right moment - 0.09875970156385455 ; too late - 0.8810419325993024\n",
      "Too early instances - avg amount of events too early: 8.500507354736328\n",
      "Too late instances - avg amount of events too late: 55.71493911743164\n",
      "Avg absolute amount of events predicted too early / too late: 49.25889205932617\n",
      "Avg MAE RRT prediction validation set:  11894.091666666667 (minutes)'\n",
      " \n",
      "------------------------------------\n",
      "EPOCH 48:\n",
      "____________________________________\n"
     ]
    },
    {
     "name": "stderr",
     "output_type": "stream",
     "text": [
      "Batch calculation at epoch 48.: 805it [00:21, 41.43it/s]"
     ]
    },
    {
     "name": "stdout",
     "output_type": "stream",
     "text": [
      "------------------------------------------------------------\n",
      "Epoch 48, batch 799:\n",
      "Average original gradient norm: 0.3948831506446004 (over last 800 batches)\n",
      "Average clipped gradient norm: 0.3948831506446004 (over last 800 batches)\n",
      "Running average global loss: 0.4611007585376501 (over last 800 batches)\n",
      "Running average activity prediction loss: 0.3009324760362506 (Cross Entropy over last 800 batches)\n",
      "Running average time till next event prediction loss: 0.16016828267835082 (MAE over last 800 batches)\n",
      "------------------------------------------------------------\n"
     ]
    },
    {
     "name": "stderr",
     "output_type": "stream",
     "text": [
      "Batch calculation at epoch 48.: 1605it [00:42, 38.34it/s]"
     ]
    },
    {
     "name": "stdout",
     "output_type": "stream",
     "text": [
      "------------------------------------------------------------\n",
      "Epoch 48, batch 1599:\n",
      "Average original gradient norm: 0.39361354980617763 (over last 800 batches)\n",
      "Average clipped gradient norm: 0.39361354980617763 (over last 800 batches)\n",
      "Running average global loss: 0.45982103411108255 (over last 800 batches)\n",
      "Running average activity prediction loss: 0.30013112545013426 (Cross Entropy over last 800 batches)\n",
      "Running average time till next event prediction loss: 0.15968990840949118 (MAE over last 800 batches)\n",
      "------------------------------------------------------------\n"
     ]
    },
    {
     "name": "stderr",
     "output_type": "stream",
     "text": [
      "Batch calculation at epoch 48.: 2404it [01:03, 37.71it/s]"
     ]
    },
    {
     "name": "stdout",
     "output_type": "stream",
     "text": [
      "------------------------------------------------------------\n",
      "Epoch 48, batch 2399:\n",
      "Average original gradient norm: 0.39450822621583936 (over last 800 batches)\n",
      "Average clipped gradient norm: 0.39450822621583936 (over last 800 batches)\n",
      "Running average global loss: 0.46045271411538125 (over last 800 batches)\n",
      "Running average activity prediction loss: 0.30087720066308976 (Cross Entropy over last 800 batches)\n",
      "Running average time till next event prediction loss: 0.15957551329396666 (MAE over last 800 batches)\n",
      "------------------------------------------------------------\n"
     ]
    },
    {
     "name": "stderr",
     "output_type": "stream",
     "text": [
      "Batch calculation at epoch 48.: 3204it [01:25, 35.16it/s]"
     ]
    },
    {
     "name": "stdout",
     "output_type": "stream",
     "text": [
      "------------------------------------------------------------\n",
      "Epoch 48, batch 3199:\n",
      "Average original gradient norm: 0.38502256633713844 (over last 800 batches)\n",
      "Average clipped gradient norm: 0.38502256633713844 (over last 800 batches)\n",
      "Running average global loss: 0.45999853290617465 (over last 800 batches)\n",
      "Running average activity prediction loss: 0.29990871660411356 (Cross Entropy over last 800 batches)\n",
      "Running average time till next event prediction loss: 0.1600898160971701 (MAE over last 800 batches)\n",
      "------------------------------------------------------------\n"
     ]
    },
    {
     "name": "stderr",
     "output_type": "stream",
     "text": [
      "Batch calculation at epoch 48.: 4004it [01:49, 33.66it/s]"
     ]
    },
    {
     "name": "stdout",
     "output_type": "stream",
     "text": [
      "------------------------------------------------------------\n",
      "Epoch 48, batch 3999:\n",
      "Average original gradient norm: 0.38758773865178225 (over last 800 batches)\n",
      "Average clipped gradient norm: 0.38758773865178225 (over last 800 batches)\n",
      "Running average global loss: 0.45992126636207104 (over last 800 batches)\n",
      "Running average activity prediction loss: 0.30050733126699924 (Cross Entropy over last 800 batches)\n",
      "Running average time till next event prediction loss: 0.15941393489949404 (MAE over last 800 batches)\n",
      "------------------------------------------------------------\n"
     ]
    },
    {
     "name": "stderr",
     "output_type": "stream",
     "text": [
      "Batch calculation at epoch 48.: 4798it [02:12, 36.11it/s]\n"
     ]
    },
    {
     "name": "stdout",
     "output_type": "stream",
     "text": [
      "=======================================\n",
      "End of epoch 48\n",
      "=======================================\n",
      "Running average global loss: 0.460667981095612 (over last 800 batches)\n",
      "Running average activity prediction loss: 0.30053452409803866 (Cross Entropy over last 800 batches)\n",
      "Running average time till next event prediction loss: 0.16013345706276597 (MAE over last 800 batches)\n"
     ]
    },
    {
     "name": "stderr",
     "output_type": "stream",
     "text": [
      "Validation batch calculation: 72it [01:06,  1.09it/s]\n"
     ]
    },
    {
     "name": "stdout",
     "output_type": "stream",
     "text": [
      "Avg MAE TTNE prediction validation set: 0.206142857670784 (standardized) ; 763.36875 (minutes)'\n",
      "Avg 1-(normalized) DL distance acitivty suffix prediction validation set: 0.24734526872634888\n",
      "Percentage of suffixes predicted to END: too early - 0.018546454876209068 ; right moment - 0.09785183314334082 ; too late - 0.8836017119804501\n",
      "Too early instances - avg amount of events too early: 8.281929016113281\n",
      "Too late instances - avg amount of events too late: 54.18411636352539\n",
      "Avg absolute amount of events predicted too early / too late: 48.03077697753906\n",
      "Avg MAE RRT prediction validation set:  11891.670833333334 (minutes)'\n",
      " \n",
      "------------------------------------\n",
      "EPOCH 49:\n",
      "____________________________________\n"
     ]
    },
    {
     "name": "stderr",
     "output_type": "stream",
     "text": [
      "Batch calculation at epoch 49.: 813it [00:14, 68.29it/s]"
     ]
    },
    {
     "name": "stdout",
     "output_type": "stream",
     "text": [
      "------------------------------------------------------------\n",
      "Epoch 49, batch 799:\n",
      "Average original gradient norm: 0.39611667228862646 (over last 800 batches)\n",
      "Average clipped gradient norm: 0.39611667228862646 (over last 800 batches)\n",
      "Running average global loss: 0.4602044079825282 (over last 800 batches)\n",
      "Running average activity prediction loss: 0.30091801322996614 (Cross Entropy over last 800 batches)\n",
      "Running average time till next event prediction loss: 0.15928639441728593 (MAE over last 800 batches)\n",
      "------------------------------------------------------------\n"
     ]
    },
    {
     "name": "stderr",
     "output_type": "stream",
     "text": [
      "Batch calculation at epoch 49.: 1606it [00:29, 45.59it/s]"
     ]
    },
    {
     "name": "stdout",
     "output_type": "stream",
     "text": [
      "------------------------------------------------------------\n",
      "Epoch 49, batch 1599:\n",
      "Average original gradient norm: 0.39225123254582284 (over last 800 batches)\n",
      "Average clipped gradient norm: 0.39225123254582284 (over last 800 batches)\n",
      "Running average global loss: 0.4592562142387033 (over last 800 batches)\n",
      "Running average activity prediction loss: 0.29959721382707355 (Cross Entropy over last 800 batches)\n",
      "Running average time till next event prediction loss: 0.15965900010429324 (MAE over last 800 batches)\n",
      "------------------------------------------------------------\n"
     ]
    },
    {
     "name": "stderr",
     "output_type": "stream",
     "text": [
      "Batch calculation at epoch 49.: 2405it [00:45, 48.02it/s]"
     ]
    },
    {
     "name": "stdout",
     "output_type": "stream",
     "text": [
      "------------------------------------------------------------\n",
      "Epoch 49, batch 2399:\n",
      "Average original gradient norm: 0.39941557761281726 (over last 800 batches)\n",
      "Average clipped gradient norm: 0.39941557761281726 (over last 800 batches)\n",
      "Running average global loss: 0.45929261699318885 (over last 800 batches)\n",
      "Running average activity prediction loss: 0.3004643337801099 (Cross Entropy over last 800 batches)\n",
      "Running average time till next event prediction loss: 0.15882828324101866 (MAE over last 800 batches)\n",
      "------------------------------------------------------------\n"
     ]
    },
    {
     "name": "stderr",
     "output_type": "stream",
     "text": [
      "Batch calculation at epoch 49.: 3208it [01:00, 44.03it/s]"
     ]
    },
    {
     "name": "stdout",
     "output_type": "stream",
     "text": [
      "------------------------------------------------------------\n",
      "Epoch 49, batch 3199:\n",
      "Average original gradient norm: 0.39879549892619254 (over last 800 batches)\n",
      "Average clipped gradient norm: 0.3959953542239964 (over last 800 batches)\n",
      "Running average global loss: 0.4609170021489263 (over last 800 batches)\n",
      "Running average activity prediction loss: 0.3004766891151667 (Cross Entropy over last 800 batches)\n",
      "Running average time till next event prediction loss: 0.1604403131455183 (MAE over last 800 batches)\n",
      "------------------------------------------------------------\n"
     ]
    },
    {
     "name": "stderr",
     "output_type": "stream",
     "text": [
      "Batch calculation at epoch 49.: 4005it [01:16, 48.32it/s]"
     ]
    },
    {
     "name": "stdout",
     "output_type": "stream",
     "text": [
      "------------------------------------------------------------\n",
      "Epoch 49, batch 3999:\n",
      "Average original gradient norm: 0.3992855353280902 (over last 800 batches)\n",
      "Average clipped gradient norm: 0.3992855353280902 (over last 800 batches)\n",
      "Running average global loss: 0.4607577861845493 (over last 800 batches)\n",
      "Running average activity prediction loss: 0.3006910395622253 (Cross Entropy over last 800 batches)\n",
      "Running average time till next event prediction loss: 0.1600667463708669 (MAE over last 800 batches)\n",
      "------------------------------------------------------------\n"
     ]
    },
    {
     "name": "stderr",
     "output_type": "stream",
     "text": [
      "Batch calculation at epoch 49.: 4798it [01:29, 53.85it/s]\n"
     ]
    },
    {
     "name": "stdout",
     "output_type": "stream",
     "text": [
      "=======================================\n",
      "End of epoch 49\n",
      "=======================================\n",
      "Running average global loss: 0.4611513879522681 (over last 800 batches)\n",
      "Running average activity prediction loss: 0.30041451249271633 (Cross Entropy over last 800 batches)\n",
      "Running average time till next event prediction loss: 0.16073687468655407 (MAE over last 800 batches)\n"
     ]
    },
    {
     "name": "stderr",
     "output_type": "stream",
     "text": [
      "Validation batch calculation: 72it [00:52,  1.38it/s]\n"
     ]
    },
    {
     "name": "stdout",
     "output_type": "stream",
     "text": [
      "Avg MAE TTNE prediction validation set: 0.20616085827350616 (standardized) ; 763.5471354166667 (minutes)'\n",
      "Avg 1-(normalized) DL distance acitivty suffix prediction validation set: 0.2538202702999115\n",
      "Percentage of suffixes predicted to END: too early - 0.02247827600565199 ; right moment - 0.09892352744424801 ; too late - 0.8785981965501\n",
      "Too early instances - avg amount of events too early: 8.504707336425781\n",
      "Too late instances - avg amount of events too late: 53.791099548339844\n",
      "Avg absolute amount of events predicted too early / too late: 47.451934814453125\n",
      "Avg MAE RRT prediction validation set:  11885.044791666667 (minutes)'\n",
      " \n",
      "------------------------------------\n",
      "EPOCH 50:\n",
      "____________________________________\n"
     ]
    },
    {
     "name": "stderr",
     "output_type": "stream",
     "text": [
      "Batch calculation at epoch 50.: 805it [00:20, 43.33it/s]"
     ]
    },
    {
     "name": "stdout",
     "output_type": "stream",
     "text": [
      "------------------------------------------------------------\n",
      "Epoch 50, batch 799:\n",
      "Average original gradient norm: 0.39338283175602556 (over last 800 batches)\n",
      "Average clipped gradient norm: 0.39338283175602556 (over last 800 batches)\n",
      "Running average global loss: 0.4601159097626805 (over last 800 batches)\n",
      "Running average activity prediction loss: 0.3007336902618408 (Cross Entropy over last 800 batches)\n",
      "Running average time till next event prediction loss: 0.15938221886754037 (MAE over last 800 batches)\n",
      "------------------------------------------------------------\n"
     ]
    },
    {
     "name": "stderr",
     "output_type": "stream",
     "text": [
      "Batch calculation at epoch 50.: 1605it [00:41, 34.14it/s]"
     ]
    },
    {
     "name": "stdout",
     "output_type": "stream",
     "text": [
      "------------------------------------------------------------\n",
      "Epoch 50, batch 1599:\n",
      "Average original gradient norm: 0.39682829309254886 (over last 800 batches)\n",
      "Average clipped gradient norm: 0.39682829309254886 (over last 800 batches)\n",
      "Running average global loss: 0.46037187330424784 (over last 800 batches)\n",
      "Running average activity prediction loss: 0.300218492411077 (Cross Entropy over last 800 batches)\n",
      "Running average time till next event prediction loss: 0.16015338085591793 (MAE over last 800 batches)\n",
      "------------------------------------------------------------\n"
     ]
    },
    {
     "name": "stderr",
     "output_type": "stream",
     "text": [
      "Batch calculation at epoch 50.: 2406it [01:03, 32.78it/s]"
     ]
    },
    {
     "name": "stdout",
     "output_type": "stream",
     "text": [
      "------------------------------------------------------------\n",
      "Epoch 50, batch 2399:\n",
      "Average original gradient norm: 0.3925670054927468 (over last 800 batches)\n",
      "Average clipped gradient norm: 0.3925670054927468 (over last 800 batches)\n",
      "Running average global loss: 0.46043748773634435 (over last 800 batches)\n",
      "Running average activity prediction loss: 0.3001363367587328 (Cross Entropy over last 800 batches)\n",
      "Running average time till next event prediction loss: 0.16030115106143059 (MAE over last 800 batches)\n",
      "------------------------------------------------------------\n"
     ]
    },
    {
     "name": "stderr",
     "output_type": "stream",
     "text": [
      "Batch calculation at epoch 50.: 3206it [01:25, 32.69it/s]"
     ]
    },
    {
     "name": "stdout",
     "output_type": "stream",
     "text": [
      "------------------------------------------------------------\n",
      "Epoch 50, batch 3199:\n",
      "Average original gradient norm: 0.3894661219418049 (over last 800 batches)\n",
      "Average clipped gradient norm: 0.3894661219418049 (over last 800 batches)\n",
      "Running average global loss: 0.45952515967190266 (over last 800 batches)\n",
      "Running average activity prediction loss: 0.2999693660438061 (Cross Entropy over last 800 batches)\n",
      "Running average time till next event prediction loss: 0.15955579319037497 (MAE over last 800 batches)\n",
      "------------------------------------------------------------\n"
     ]
    },
    {
     "name": "stderr",
     "output_type": "stream",
     "text": [
      "Batch calculation at epoch 50.: 4002it [01:49, 35.87it/s]"
     ]
    },
    {
     "name": "stdout",
     "output_type": "stream",
     "text": [
      "------------------------------------------------------------\n",
      "Epoch 50, batch 3999:\n",
      "Average original gradient norm: 0.38964346539229155 (over last 800 batches)\n",
      "Average clipped gradient norm: 0.3879601502045989 (over last 800 batches)\n",
      "Running average global loss: 0.4598037977144122 (over last 800 batches)\n",
      "Running average activity prediction loss: 0.3003443446010351 (Cross Entropy over last 800 batches)\n",
      "Running average time till next event prediction loss: 0.1594594534765929 (MAE over last 800 batches)\n",
      "------------------------------------------------------------\n"
     ]
    },
    {
     "name": "stderr",
     "output_type": "stream",
     "text": [
      "Batch calculation at epoch 50.: 4798it [02:12, 36.16it/s]\n"
     ]
    },
    {
     "name": "stdout",
     "output_type": "stream",
     "text": [
      "=======================================\n",
      "End of epoch 50\n",
      "=======================================\n",
      "Running average global loss: 0.4602955984696746 (over last 800 batches)\n",
      "Running average activity prediction loss: 0.30024717513471844 (Cross Entropy over last 800 batches)\n",
      "Running average time till next event prediction loss: 0.1600484237447381 (MAE over last 800 batches)\n"
     ]
    },
    {
     "name": "stderr",
     "output_type": "stream",
     "text": [
      "Validation batch calculation: 72it [01:08,  1.05it/s]\n"
     ]
    },
    {
     "name": "stdout",
     "output_type": "stream",
     "text": [
      "Avg MAE TTNE prediction validation set: 0.20626868307590485 (standardized) ; 763.8934244791667 (minutes)'\n",
      "Avg 1-(normalized) DL distance acitivty suffix prediction validation set: 0.24658872187137604\n",
      "Percentage of suffixes predicted to END: too early - 0.016580544311487606 ; right moment - 0.097346703345461 ; too late - 0.8860727523430514\n",
      "Too early instances - avg amount of events too early: 8.160148620605469\n",
      "Too late instances - avg amount of events too late: 53.8318977355957\n",
      "Avg absolute amount of events predicted too early / too late: 47.83427810668945\n",
      "Avg MAE RRT prediction validation set:  11879.647916666667 (minutes)'\n",
      " \n",
      "------------------------------------\n",
      "EPOCH 51:\n",
      "____________________________________\n"
     ]
    },
    {
     "name": "stderr",
     "output_type": "stream",
     "text": [
      "Batch calculation at epoch 51.: 809it [00:16, 43.63it/s]"
     ]
    },
    {
     "name": "stdout",
     "output_type": "stream",
     "text": [
      "------------------------------------------------------------\n",
      "Epoch 51, batch 799:\n",
      "Average original gradient norm: 0.3898672726750374 (over last 800 batches)\n",
      "Average clipped gradient norm: 0.3898672726750374 (over last 800 batches)\n",
      "Running average global loss: 0.4607745448872447 (over last 800 batches)\n",
      "Running average activity prediction loss: 0.30039638821035625 (Cross Entropy over last 800 batches)\n",
      "Running average time till next event prediction loss: 0.1603781562205404 (MAE over last 800 batches)\n",
      "------------------------------------------------------------\n"
     ]
    },
    {
     "name": "stderr",
     "output_type": "stream",
     "text": [
      "Batch calculation at epoch 51.: 1608it [00:33, 52.28it/s]"
     ]
    },
    {
     "name": "stdout",
     "output_type": "stream",
     "text": [
      "------------------------------------------------------------\n",
      "Epoch 51, batch 1599:\n",
      "Average original gradient norm: 0.38786467745900155 (over last 800 batches)\n",
      "Average clipped gradient norm: 0.38786467745900155 (over last 800 batches)\n",
      "Running average global loss: 0.4602357065677643 (over last 800 batches)\n",
      "Running average activity prediction loss: 0.3005050881952047 (Cross Entropy over last 800 batches)\n",
      "Running average time till next event prediction loss: 0.15973061804659663 (MAE over last 800 batches)\n",
      "------------------------------------------------------------\n"
     ]
    },
    {
     "name": "stderr",
     "output_type": "stream",
     "text": [
      "Batch calculation at epoch 51.: 2408it [00:48, 42.84it/s]"
     ]
    },
    {
     "name": "stdout",
     "output_type": "stream",
     "text": [
      "------------------------------------------------------------\n",
      "Epoch 51, batch 2399:\n",
      "Average original gradient norm: 0.3997927554883063 (over last 800 batches)\n",
      "Average clipped gradient norm: 0.3989020025171339 (over last 800 batches)\n",
      "Running average global loss: 0.459468300268054 (over last 800 batches)\n",
      "Running average activity prediction loss: 0.3003029677271843 (Cross Entropy over last 800 batches)\n",
      "Running average time till next event prediction loss: 0.15916533223353327 (MAE over last 800 batches)\n",
      "------------------------------------------------------------\n"
     ]
    },
    {
     "name": "stderr",
     "output_type": "stream",
     "text": [
      "Batch calculation at epoch 51.: 3209it [01:03, 66.18it/s]"
     ]
    },
    {
     "name": "stdout",
     "output_type": "stream",
     "text": [
      "------------------------------------------------------------\n",
      "Epoch 51, batch 3199:\n",
      "Average original gradient norm: 0.39726430444046856 (over last 800 batches)\n",
      "Average clipped gradient norm: 0.39726430444046856 (over last 800 batches)\n",
      "Running average global loss: 0.4598623405396938 (over last 800 batches)\n",
      "Running average activity prediction loss: 0.2997864529490471 (Cross Entropy over last 800 batches)\n",
      "Running average time till next event prediction loss: 0.16007588779553772 (MAE over last 800 batches)\n",
      "------------------------------------------------------------\n"
     ]
    },
    {
     "name": "stderr",
     "output_type": "stream",
     "text": [
      "Batch calculation at epoch 51.: 4009it [01:17, 69.39it/s]"
     ]
    },
    {
     "name": "stdout",
     "output_type": "stream",
     "text": [
      "------------------------------------------------------------\n",
      "Epoch 51, batch 3999:\n",
      "Average original gradient norm: 0.40196411902084944 (over last 800 batches)\n",
      "Average clipped gradient norm: 0.40196411902084944 (over last 800 batches)\n",
      "Running average global loss: 0.4596735182777047 (over last 800 batches)\n",
      "Running average activity prediction loss: 0.2999630369246006 (Cross Entropy over last 800 batches)\n",
      "Running average time till next event prediction loss: 0.15971048154868187 (MAE over last 800 batches)\n",
      "------------------------------------------------------------\n"
     ]
    },
    {
     "name": "stderr",
     "output_type": "stream",
     "text": [
      "Batch calculation at epoch 51.: 4798it [01:32, 51.72it/s]\n"
     ]
    },
    {
     "name": "stdout",
     "output_type": "stream",
     "text": [
      "=======================================\n",
      "End of epoch 51\n",
      "=======================================\n",
      "Running average global loss: 0.45996555671095846 (over last 800 batches)\n",
      "Running average activity prediction loss: 0.30021477818489073 (Cross Entropy over last 800 batches)\n",
      "Running average time till next event prediction loss: 0.15975077902898194 (MAE over last 800 batches)\n"
     ]
    },
    {
     "name": "stderr",
     "output_type": "stream",
     "text": [
      "Validation batch calculation: 72it [00:46,  1.54it/s]\n"
     ]
    },
    {
     "name": "stdout",
     "output_type": "stream",
     "text": [
      "Avg MAE TTNE prediction validation set: 0.2061675488948822 (standardized) ; 763.5282552083333 (minutes)'\n",
      "Avg 1-(normalized) DL distance acitivty suffix prediction validation set: 0.244725301861763\n",
      "Percentage of suffixes predicted to END: too early - 0.01882632408854789 ; right moment - 0.09751735530420418 ; too late - 0.883656320607248\n",
      "Too early instances - avg amount of events too early: 8.451414108276367\n",
      "Too late instances - avg amount of events too late: 55.541988372802734\n",
      "Avg absolute amount of events predicted too early / too late: 49.239139556884766\n",
      "Avg MAE RRT prediction validation set:  11873.327083333334 (minutes)'\n",
      " \n",
      "------------------------------------\n",
      "EPOCH 52:\n",
      "____________________________________\n"
     ]
    },
    {
     "name": "stderr",
     "output_type": "stream",
     "text": [
      "Batch calculation at epoch 52.: 807it [00:24, 38.15it/s]"
     ]
    },
    {
     "name": "stdout",
     "output_type": "stream",
     "text": [
      "------------------------------------------------------------\n",
      "Epoch 52, batch 799:\n",
      "Average original gradient norm: 0.3962516414001584 (over last 800 batches)\n",
      "Average clipped gradient norm: 0.39383427146822214 (over last 800 batches)\n",
      "Running average global loss: 0.45969775699079035 (over last 800 batches)\n",
      "Running average activity prediction loss: 0.3004210801422596 (Cross Entropy over last 800 batches)\n",
      "Running average time till next event prediction loss: 0.15927667720243335 (MAE over last 800 batches)\n",
      "------------------------------------------------------------\n"
     ]
    },
    {
     "name": "stderr",
     "output_type": "stream",
     "text": [
      "Batch calculation at epoch 52.: 1608it [00:47, 40.53it/s]"
     ]
    },
    {
     "name": "stdout",
     "output_type": "stream",
     "text": [
      "------------------------------------------------------------\n",
      "Epoch 52, batch 1599:\n",
      "Average original gradient norm: 0.39326535319909456 (over last 800 batches)\n",
      "Average clipped gradient norm: 0.39326535319909456 (over last 800 batches)\n",
      "Running average global loss: 0.4612080025672913 (over last 800 batches)\n",
      "Running average activity prediction loss: 0.3006393898278475 (Cross Entropy over last 800 batches)\n",
      "Running average time till next event prediction loss: 0.1605686120968312 (MAE over last 800 batches)\n",
      "------------------------------------------------------------\n"
     ]
    },
    {
     "name": "stderr",
     "output_type": "stream",
     "text": [
      "Batch calculation at epoch 52.: 2404it [01:10, 36.79it/s]"
     ]
    },
    {
     "name": "stdout",
     "output_type": "stream",
     "text": [
      "------------------------------------------------------------\n",
      "Epoch 52, batch 2399:\n",
      "Average original gradient norm: 0.3868560971878469 (over last 800 batches)\n",
      "Average clipped gradient norm: 0.3868560971878469 (over last 800 batches)\n",
      "Running average global loss: 0.45951298959553244 (over last 800 batches)\n",
      "Running average activity prediction loss: 0.29977463830262424 (Cross Entropy over last 800 batches)\n",
      "Running average time till next event prediction loss: 0.15973835173994302 (MAE over last 800 batches)\n",
      "------------------------------------------------------------\n"
     ]
    },
    {
     "name": "stderr",
     "output_type": "stream",
     "text": [
      "Batch calculation at epoch 52.: 3206it [01:32, 35.77it/s]"
     ]
    },
    {
     "name": "stdout",
     "output_type": "stream",
     "text": [
      "------------------------------------------------------------\n",
      "Epoch 52, batch 3199:\n",
      "Average original gradient norm: 0.3868364894203842 (over last 800 batches)\n",
      "Average clipped gradient norm: 0.3868364894203842 (over last 800 batches)\n",
      "Running average global loss: 0.46014697272330524 (over last 800 batches)\n",
      "Running average activity prediction loss: 0.30040523171424866 (Cross Entropy over last 800 batches)\n",
      "Running average time till next event prediction loss: 0.15974174107424916 (MAE over last 800 batches)\n",
      "------------------------------------------------------------\n"
     ]
    },
    {
     "name": "stderr",
     "output_type": "stream",
     "text": [
      "Batch calculation at epoch 52.: 4005it [01:54, 31.80it/s]"
     ]
    },
    {
     "name": "stdout",
     "output_type": "stream",
     "text": [
      "------------------------------------------------------------\n",
      "Epoch 52, batch 3999:\n",
      "Average original gradient norm: 0.392026453576982 (over last 800 batches)\n",
      "Average clipped gradient norm: 0.3881270879134536 (over last 800 batches)\n",
      "Running average global loss: 0.45876349847763775 (over last 800 batches)\n",
      "Running average activity prediction loss: 0.2993219230696559 (Cross Entropy over last 800 batches)\n",
      "Running average time till next event prediction loss: 0.15944157589226962 (MAE over last 800 batches)\n",
      "------------------------------------------------------------\n"
     ]
    },
    {
     "name": "stderr",
     "output_type": "stream",
     "text": [
      "Batch calculation at epoch 52.: 4798it [02:17, 34.95it/s]\n"
     ]
    },
    {
     "name": "stdout",
     "output_type": "stream",
     "text": [
      "=======================================\n",
      "End of epoch 52\n",
      "=======================================\n",
      "Running average global loss: 0.4599921565130353 (over last 800 batches)\n",
      "Running average activity prediction loss: 0.2998701109737158 (Cross Entropy over last 800 batches)\n",
      "Running average time till next event prediction loss: 0.1601220449898392 (MAE over last 800 batches)\n"
     ]
    },
    {
     "name": "stderr",
     "output_type": "stream",
     "text": [
      "Validation batch calculation: 72it [01:09,  1.04it/s]\n"
     ]
    },
    {
     "name": "stdout",
     "output_type": "stream",
     "text": [
      "Avg MAE TTNE prediction validation set: 0.20610317587852478 (standardized) ; 763.2883463541667 (minutes)'\n",
      "Avg 1-(normalized) DL distance acitivty suffix prediction validation set: 0.25283733010292053\n",
      "Percentage of suffixes predicted to END: too early - 0.020580626224427804 ; right moment - 0.09894400567929719 ; too late - 0.880475368096275\n",
      "Too early instances - avg amount of events too early: 8.402984619140625\n",
      "Too late instances - avg amount of events too late: 53.15790557861328\n",
      "Avg absolute amount of events predicted too early / too late: 46.97716522216797\n",
      "Avg MAE RRT prediction validation set:  11943.601041666667 (minutes)'\n",
      " \n",
      "------------------------------------\n",
      "EPOCH 53:\n",
      "____________________________________\n"
     ]
    },
    {
     "name": "stderr",
     "output_type": "stream",
     "text": [
      "Batch calculation at epoch 53.: 809it [00:12, 67.98it/s]"
     ]
    },
    {
     "name": "stdout",
     "output_type": "stream",
     "text": [
      "------------------------------------------------------------\n",
      "Epoch 53, batch 799:\n",
      "Average original gradient norm: 0.3945066428929567 (over last 800 batches)\n",
      "Average clipped gradient norm: 0.3945066428929567 (over last 800 batches)\n",
      "Running average global loss: 0.45871995195746423 (over last 800 batches)\n",
      "Running average activity prediction loss: 0.2997208331152797 (Cross Entropy over last 800 batches)\n",
      "Running average time till next event prediction loss: 0.15899911877699197 (MAE over last 800 batches)\n",
      "------------------------------------------------------------\n"
     ]
    },
    {
     "name": "stderr",
     "output_type": "stream",
     "text": [
      "Batch calculation at epoch 53.: 1603it [00:29, 50.18it/s]"
     ]
    },
    {
     "name": "stdout",
     "output_type": "stream",
     "text": [
      "------------------------------------------------------------\n",
      "Epoch 53, batch 1599:\n",
      "Average original gradient norm: 0.3937441684678197 (over last 800 batches)\n",
      "Average clipped gradient norm: 0.3937441684678197 (over last 800 batches)\n",
      "Running average global loss: 0.4602190363034606 (over last 800 batches)\n",
      "Running average activity prediction loss: 0.30045147441327574 (Cross Entropy over last 800 batches)\n",
      "Running average time till next event prediction loss: 0.15976756180636584 (MAE over last 800 batches)\n",
      "------------------------------------------------------------\n"
     ]
    },
    {
     "name": "stderr",
     "output_type": "stream",
     "text": [
      "Batch calculation at epoch 53.: 2407it [00:45, 51.27it/s]"
     ]
    },
    {
     "name": "stdout",
     "output_type": "stream",
     "text": [
      "------------------------------------------------------------\n",
      "Epoch 53, batch 2399:\n",
      "Average original gradient norm: 0.3912407257407904 (over last 800 batches)\n",
      "Average clipped gradient norm: 0.3912407257407904 (over last 800 batches)\n",
      "Running average global loss: 0.4601669505983591 (over last 800 batches)\n",
      "Running average activity prediction loss: 0.3001637167111039 (Cross Entropy over last 800 batches)\n",
      "Running average time till next event prediction loss: 0.16000323463231325 (MAE over last 800 batches)\n",
      "------------------------------------------------------------\n"
     ]
    },
    {
     "name": "stderr",
     "output_type": "stream",
     "text": [
      "Batch calculation at epoch 53.: 3209it [01:01, 54.36it/s]"
     ]
    },
    {
     "name": "stdout",
     "output_type": "stream",
     "text": [
      "------------------------------------------------------------\n",
      "Epoch 53, batch 3199:\n",
      "Average original gradient norm: 0.41699934324249627 (over last 800 batches)\n",
      "Average clipped gradient norm: 0.4020821346901357 (over last 800 batches)\n",
      "Running average global loss: 0.46000526804476977 (over last 800 batches)\n",
      "Running average activity prediction loss: 0.29993930403143165 (Cross Entropy over last 800 batches)\n",
      "Running average time till next event prediction loss: 0.1600659639853984 (MAE over last 800 batches)\n",
      "------------------------------------------------------------\n"
     ]
    },
    {
     "name": "stderr",
     "output_type": "stream",
     "text": [
      "Batch calculation at epoch 53.: 4008it [01:15, 42.85it/s]"
     ]
    },
    {
     "name": "stdout",
     "output_type": "stream",
     "text": [
      "------------------------------------------------------------\n",
      "Epoch 53, batch 3999:\n",
      "Average original gradient norm: 0.3964418029785156 (over last 800 batches)\n",
      "Average clipped gradient norm: 0.3964418029785156 (over last 800 batches)\n",
      "Running average global loss: 0.4601110963150859 (over last 800 batches)\n",
      "Running average activity prediction loss: 0.2999986834079027 (Cross Entropy over last 800 batches)\n",
      "Running average time till next event prediction loss: 0.16011241315864028 (MAE over last 800 batches)\n",
      "------------------------------------------------------------\n"
     ]
    },
    {
     "name": "stderr",
     "output_type": "stream",
     "text": [
      "Batch calculation at epoch 53.: 4798it [01:31, 52.63it/s]\n"
     ]
    },
    {
     "name": "stdout",
     "output_type": "stream",
     "text": [
      "=======================================\n",
      "End of epoch 53\n",
      "=======================================\n",
      "Running average global loss: 0.4592065330967307 (over last 800 batches)\n",
      "Running average activity prediction loss: 0.29954392787069084 (Cross Entropy over last 800 batches)\n",
      "Running average time till next event prediction loss: 0.1596626049373299 (MAE over last 800 batches)\n"
     ]
    },
    {
     "name": "stderr",
     "output_type": "stream",
     "text": [
      "Validation batch calculation: 72it [00:45,  1.58it/s]\n"
     ]
    },
    {
     "name": "stdout",
     "output_type": "stream",
     "text": [
      "Avg MAE TTNE prediction validation set: 0.20620766282081604 (standardized) ; 763.5973307291666 (minutes)'\n",
      "Avg 1-(normalized) DL distance acitivty suffix prediction validation set: 0.25268658995628357\n",
      "Percentage of suffixes predicted to END: too early - 0.021037973473859533 ; right moment - 0.098473006273166 ; too late - 0.8804890202529745\n",
      "Too early instances - avg amount of events too early: 8.471122741699219\n",
      "Too late instances - avg amount of events too late: 53.419090270996094\n",
      "Avg absolute amount of events predicted too early / too late: 47.213138580322266\n",
      "Avg MAE RRT prediction validation set:  11918.155208333334 (minutes)'\n",
      " \n",
      "------------------------------------\n",
      "EPOCH 54:\n",
      "____________________________________\n"
     ]
    },
    {
     "name": "stderr",
     "output_type": "stream",
     "text": [
      "Batch calculation at epoch 54.: 806it [00:25, 31.11it/s]"
     ]
    },
    {
     "name": "stdout",
     "output_type": "stream",
     "text": [
      "------------------------------------------------------------\n",
      "Epoch 54, batch 799:\n",
      "Average original gradient norm: 0.3834637547843158 (over last 800 batches)\n",
      "Average clipped gradient norm: 0.3834637547843158 (over last 800 batches)\n",
      "Running average global loss: 0.4598604841902852 (over last 800 batches)\n",
      "Running average activity prediction loss: 0.30034772969782353 (Cross Entropy over last 800 batches)\n",
      "Running average time till next event prediction loss: 0.15951275418512523 (MAE over last 800 batches)\n",
      "------------------------------------------------------------\n"
     ]
    },
    {
     "name": "stderr",
     "output_type": "stream",
     "text": [
      "Batch calculation at epoch 54.: 1607it [00:47, 31.84it/s]"
     ]
    },
    {
     "name": "stdout",
     "output_type": "stream",
     "text": [
      "------------------------------------------------------------\n",
      "Epoch 54, batch 1599:\n",
      "Average original gradient norm: 0.3883723527193069 (over last 800 batches)\n",
      "Average clipped gradient norm: 0.3883723527193069 (over last 800 batches)\n",
      "Running average global loss: 0.45909788213670255 (over last 800 batches)\n",
      "Running average activity prediction loss: 0.29919302340596915 (Cross Entropy over last 800 batches)\n",
      "Running average time till next event prediction loss: 0.15990485886111855 (MAE over last 800 batches)\n",
      "------------------------------------------------------------\n"
     ]
    },
    {
     "name": "stderr",
     "output_type": "stream",
     "text": [
      "Batch calculation at epoch 54.: 2404it [01:11, 30.67it/s]"
     ]
    },
    {
     "name": "stdout",
     "output_type": "stream",
     "text": [
      "------------------------------------------------------------\n",
      "Epoch 54, batch 2399:\n",
      "Average original gradient norm: 0.39608459815382957 (over last 800 batches)\n",
      "Average clipped gradient norm: 0.39608459815382957 (over last 800 batches)\n",
      "Running average global loss: 0.46076830703765154 (over last 800 batches)\n",
      "Running average activity prediction loss: 0.2999217632040381 (Cross Entropy over last 800 batches)\n",
      "Running average time till next event prediction loss: 0.16084654416888952 (MAE over last 800 batches)\n",
      "------------------------------------------------------------\n"
     ]
    },
    {
     "name": "stderr",
     "output_type": "stream",
     "text": [
      "Batch calculation at epoch 54.: 3205it [01:34, 29.73it/s]"
     ]
    },
    {
     "name": "stdout",
     "output_type": "stream",
     "text": [
      "------------------------------------------------------------\n",
      "Epoch 54, batch 3199:\n",
      "Average original gradient norm: 0.38886413315311075 (over last 800 batches)\n",
      "Average clipped gradient norm: 0.38886413315311075 (over last 800 batches)\n",
      "Running average global loss: 0.4589198583737016 (over last 800 batches)\n",
      "Running average activity prediction loss: 0.2999354301765561 (Cross Entropy over last 800 batches)\n",
      "Running average time till next event prediction loss: 0.1589844283461571 (MAE over last 800 batches)\n",
      "------------------------------------------------------------\n"
     ]
    },
    {
     "name": "stderr",
     "output_type": "stream",
     "text": [
      "Batch calculation at epoch 54.: 4004it [01:56, 33.64it/s]"
     ]
    },
    {
     "name": "stdout",
     "output_type": "stream",
     "text": [
      "------------------------------------------------------------\n",
      "Epoch 54, batch 3999:\n",
      "Average original gradient norm: 0.4062490624003112 (over last 800 batches)\n",
      "Average clipped gradient norm: 0.39805703891441224 (over last 800 batches)\n",
      "Running average global loss: 0.45898639168590305 (over last 800 batches)\n",
      "Running average activity prediction loss: 0.29935735926032064 (Cross Entropy over last 800 batches)\n",
      "Running average time till next event prediction loss: 0.15962903235107662 (MAE over last 800 batches)\n",
      "------------------------------------------------------------\n"
     ]
    },
    {
     "name": "stderr",
     "output_type": "stream",
     "text": [
      "Batch calculation at epoch 54.: 4798it [02:18, 34.56it/s]\n"
     ]
    },
    {
     "name": "stdout",
     "output_type": "stream",
     "text": [
      "=======================================\n",
      "End of epoch 54\n",
      "=======================================\n",
      "Running average global loss: 0.45984331171959636 (over last 800 batches)\n",
      "Running average activity prediction loss: 0.3002143919467926 (Cross Entropy over last 800 batches)\n",
      "Running average time till next event prediction loss: 0.1596289193443954 (MAE over last 800 batches)\n"
     ]
    },
    {
     "name": "stderr",
     "output_type": "stream",
     "text": [
      "Validation batch calculation: 72it [01:09,  1.04it/s]\n"
     ]
    },
    {
     "name": "stdout",
     "output_type": "stream",
     "text": [
      "Avg MAE TTNE prediction validation set: 0.20620980858802795 (standardized) ; 763.7356119791667 (minutes)'\n",
      "Avg 1-(normalized) DL distance acitivty suffix prediction validation set: 0.2517995834350586\n",
      "Percentage of suffixes predicted to END: too early - 0.018887758793695433 ; right moment - 0.09826139784432446 ; too late - 0.8828508433619802\n",
      "Too early instances - avg amount of events too early: 8.100831031799316\n",
      "Too late instances - avg amount of events too late: 52.805057525634766\n",
      "Avg absolute amount of events predicted too early / too late: 46.771995544433594\n",
      "Avg MAE RRT prediction validation set:  11890.088541666666 (minutes)'\n",
      " \n",
      "------------------------------------\n",
      "EPOCH 55:\n",
      "____________________________________\n"
     ]
    },
    {
     "name": "stderr",
     "output_type": "stream",
     "text": [
      "Batch calculation at epoch 55.: 807it [00:16, 51.53it/s]"
     ]
    },
    {
     "name": "stdout",
     "output_type": "stream",
     "text": [
      "------------------------------------------------------------\n",
      "Epoch 55, batch 799:\n",
      "Average original gradient norm: 0.3828735530935228 (over last 800 batches)\n",
      "Average clipped gradient norm: 0.3817007284425199 (over last 800 batches)\n",
      "Running average global loss: 0.4584536212310195 (over last 800 batches)\n",
      "Running average activity prediction loss: 0.29967416256666185 (Cross Entropy over last 800 batches)\n",
      "Running average time till next event prediction loss: 0.1587794586457312 (MAE over last 800 batches)\n",
      "------------------------------------------------------------\n"
     ]
    },
    {
     "name": "stderr",
     "output_type": "stream",
     "text": [
      "Batch calculation at epoch 55.: 1601it [00:31, 52.14it/s]"
     ]
    },
    {
     "name": "stdout",
     "output_type": "stream",
     "text": [
      "------------------------------------------------------------\n",
      "Epoch 55, batch 1599:\n",
      "Average original gradient norm: 0.4084297916293144 (over last 800 batches)\n",
      "Average clipped gradient norm: 0.4084297916293144 (over last 800 batches)\n",
      "Running average global loss: 0.46008699595928193 (over last 800 batches)\n",
      "Running average activity prediction loss: 0.2996711311116815 (Cross Entropy over last 800 batches)\n",
      "Running average time till next event prediction loss: 0.16041586462408305 (MAE over last 800 batches)\n",
      "------------------------------------------------------------\n"
     ]
    },
    {
     "name": "stderr",
     "output_type": "stream",
     "text": [
      "Batch calculation at epoch 55.: 2406it [00:46, 52.15it/s]"
     ]
    },
    {
     "name": "stdout",
     "output_type": "stream",
     "text": [
      "------------------------------------------------------------\n",
      "Epoch 55, batch 2399:\n",
      "Average original gradient norm: 0.39586933704093097 (over last 800 batches)\n",
      "Average clipped gradient norm: 0.39586933704093097 (over last 800 batches)\n",
      "Running average global loss: 0.4598173606395721 (over last 800 batches)\n",
      "Running average activity prediction loss: 0.30001751448959113 (Cross Entropy over last 800 batches)\n",
      "Running average time till next event prediction loss: 0.15979984601959585 (MAE over last 800 batches)\n",
      "------------------------------------------------------------\n"
     ]
    },
    {
     "name": "stderr",
     "output_type": "stream",
     "text": [
      "Batch calculation at epoch 55.: 3208it [01:00, 69.37it/s]"
     ]
    },
    {
     "name": "stdout",
     "output_type": "stream",
     "text": [
      "------------------------------------------------------------\n",
      "Epoch 55, batch 3199:\n",
      "Average original gradient norm: 0.3931582308374345 (over last 800 batches)\n",
      "Average clipped gradient norm: 0.3931582308374345 (over last 800 batches)\n",
      "Running average global loss: 0.45883283495903016 (over last 800 batches)\n",
      "Running average activity prediction loss: 0.2992722153663635 (Cross Entropy over last 800 batches)\n",
      "Running average time till next event prediction loss: 0.15956061892211437 (MAE over last 800 batches)\n",
      "------------------------------------------------------------\n"
     ]
    },
    {
     "name": "stderr",
     "output_type": "stream",
     "text": [
      "Batch calculation at epoch 55.: 4007it [01:16, 60.43it/s]"
     ]
    },
    {
     "name": "stdout",
     "output_type": "stream",
     "text": [
      "------------------------------------------------------------\n",
      "Epoch 55, batch 3999:\n",
      "Average original gradient norm: 0.38321516770869496 (over last 800 batches)\n",
      "Average clipped gradient norm: 0.38321516770869496 (over last 800 batches)\n",
      "Running average global loss: 0.4605651353299618 (over last 800 batches)\n",
      "Running average activity prediction loss: 0.3002077231556177 (Cross Entropy over last 800 batches)\n",
      "Running average time till next event prediction loss: 0.160357412584126 (MAE over last 800 batches)\n",
      "------------------------------------------------------------\n"
     ]
    },
    {
     "name": "stderr",
     "output_type": "stream",
     "text": [
      "Batch calculation at epoch 55.: 4798it [01:31, 52.20it/s]\n"
     ]
    },
    {
     "name": "stdout",
     "output_type": "stream",
     "text": [
      "=======================================\n",
      "End of epoch 55\n",
      "=======================================\n",
      "Running average global loss: 0.45969312895089387 (over last 800 batches)\n",
      "Running average activity prediction loss: 0.29979463495314124 (Cross Entropy over last 800 batches)\n",
      "Running average time till next event prediction loss: 0.1598984941840172 (MAE over last 800 batches)\n"
     ]
    },
    {
     "name": "stderr",
     "output_type": "stream",
     "text": [
      "Validation batch calculation: 72it [00:49,  1.47it/s]\n"
     ]
    },
    {
     "name": "stdout",
     "output_type": "stream",
     "text": [
      "Avg MAE TTNE prediction validation set: 0.20618462562561035 (standardized) ; 763.6037760416667 (minutes)'\n",
      "Avg 1-(normalized) DL distance acitivty suffix prediction validation set: 0.24882350862026215\n",
      "Percentage of suffixes predicted to END: too early - 0.019925322702853982 ; right moment - 0.0984457019597671 ; too late - 0.8816289753373789\n",
      "Too early instances - avg amount of events too early: 8.340185165405273\n",
      "Too late instances - avg amount of events too late: 54.27201843261719\n",
      "Avg absolute amount of events predicted too early / too late: 48.01396560668945\n",
      "Avg MAE RRT prediction validation set:  11873.4125 (minutes)'\n",
      " \n",
      "------------------------------------\n",
      "EPOCH 56:\n",
      "____________________________________\n"
     ]
    },
    {
     "name": "stderr",
     "output_type": "stream",
     "text": [
      "Batch calculation at epoch 56.: 806it [00:18, 44.27it/s]"
     ]
    },
    {
     "name": "stdout",
     "output_type": "stream",
     "text": [
      "------------------------------------------------------------\n",
      "Epoch 56, batch 799:\n",
      "Average original gradient norm: 0.38923296084627507 (over last 800 batches)\n",
      "Average clipped gradient norm: 0.38923296084627507 (over last 800 batches)\n",
      "Running average global loss: 0.45871586821973326 (over last 800 batches)\n",
      "Running average activity prediction loss: 0.29963678047060965 (Cross Entropy over last 800 batches)\n",
      "Running average time till next event prediction loss: 0.15907908734865486 (MAE over last 800 batches)\n",
      "------------------------------------------------------------\n"
     ]
    },
    {
     "name": "stderr",
     "output_type": "stream",
     "text": [
      "Batch calculation at epoch 56.: 1607it [00:36, 50.82it/s]"
     ]
    },
    {
     "name": "stdout",
     "output_type": "stream",
     "text": [
      "------------------------------------------------------------\n",
      "Epoch 56, batch 1599:\n",
      "Average original gradient norm: 0.40184818921610715 (over last 800 batches)\n",
      "Average clipped gradient norm: 0.39961386455222964 (over last 800 batches)\n",
      "Running average global loss: 0.45887965328991415 (over last 800 batches)\n",
      "Running average activity prediction loss: 0.30000509664416314 (Cross Entropy over last 800 batches)\n",
      "Running average time till next event prediction loss: 0.15887455677613616 (MAE over last 800 batches)\n",
      "------------------------------------------------------------\n"
     ]
    },
    {
     "name": "stderr",
     "output_type": "stream",
     "text": [
      "Batch calculation at epoch 56.: 2406it [00:57, 36.38it/s]"
     ]
    },
    {
     "name": "stdout",
     "output_type": "stream",
     "text": [
      "------------------------------------------------------------\n",
      "Epoch 56, batch 2399:\n",
      "Average original gradient norm: 0.3902118891477585 (over last 800 batches)\n",
      "Average clipped gradient norm: 0.3902118891477585 (over last 800 batches)\n",
      "Running average global loss: 0.46076520092785356 (over last 800 batches)\n",
      "Running average activity prediction loss: 0.29944653280079364 (Cross Entropy over last 800 batches)\n",
      "Running average time till next event prediction loss: 0.161318668583408 (MAE over last 800 batches)\n",
      "------------------------------------------------------------\n"
     ]
    },
    {
     "name": "stderr",
     "output_type": "stream",
     "text": [
      "Batch calculation at epoch 56.: 3204it [01:20, 28.76it/s]"
     ]
    },
    {
     "name": "stdout",
     "output_type": "stream",
     "text": [
      "------------------------------------------------------------\n",
      "Epoch 56, batch 3199:\n",
      "Average original gradient norm: 0.38960584837943313 (over last 800 batches)\n",
      "Average clipped gradient norm: 0.38960584837943313 (over last 800 batches)\n",
      "Running average global loss: 0.4599438289552927 (over last 800 batches)\n",
      "Running average activity prediction loss: 0.30005367219448087 (Cross Entropy over last 800 batches)\n",
      "Running average time till next event prediction loss: 0.15989015677943827 (MAE over last 800 batches)\n",
      "------------------------------------------------------------\n"
     ]
    },
    {
     "name": "stderr",
     "output_type": "stream",
     "text": [
      "Batch calculation at epoch 56.: 4005it [01:44, 25.63it/s]"
     ]
    },
    {
     "name": "stdout",
     "output_type": "stream",
     "text": [
      "------------------------------------------------------------\n",
      "Epoch 56, batch 3999:\n",
      "Average original gradient norm: 0.3966018645837903 (over last 800 batches)\n",
      "Average clipped gradient norm: 0.39457642916589974 (over last 800 batches)\n",
      "Running average global loss: 0.4593690986931324 (over last 800 batches)\n",
      "Running average activity prediction loss: 0.2994284673407674 (Cross Entropy over last 800 batches)\n",
      "Running average time till next event prediction loss: 0.1599406313151121 (MAE over last 800 batches)\n",
      "------------------------------------------------------------\n"
     ]
    },
    {
     "name": "stderr",
     "output_type": "stream",
     "text": [
      "Batch calculation at epoch 56.: 4798it [02:08, 37.19it/s]\n"
     ]
    },
    {
     "name": "stdout",
     "output_type": "stream",
     "text": [
      "=======================================\n",
      "End of epoch 56\n",
      "=======================================\n",
      "Running average global loss: 0.4590583338961005 (over last 800 batches)\n",
      "Running average activity prediction loss: 0.299550773948431 (Cross Entropy over last 800 batches)\n",
      "Running average time till next event prediction loss: 0.1595075596868992 (MAE over last 800 batches)\n"
     ]
    },
    {
     "name": "stderr",
     "output_type": "stream",
     "text": [
      "Validation batch calculation: 72it [01:09,  1.04it/s]\n"
     ]
    },
    {
     "name": "stdout",
     "output_type": "stream",
     "text": [
      "Avg MAE TTNE prediction validation set: 0.20583544671535492 (standardized) ; 762.3428385416667 (minutes)'\n",
      "Avg 1-(normalized) DL distance acitivty suffix prediction validation set: 0.2552948296070099\n",
      "Percentage of suffixes predicted to END: too early - 0.022150624244865084 ; right moment - 0.09876652764220428 ; too late - 0.8790828481129307\n",
      "Too early instances - avg amount of events too early: 8.33466911315918\n",
      "Too late instances - avg amount of events too late: 52.583717346191406\n",
      "Avg absolute amount of events predicted too early / too late: 46.410064697265625\n",
      "Avg MAE RRT prediction validation set:  11941.919791666667 (minutes)'\n",
      " \n",
      "------------------------------------\n",
      "EPOCH 57:\n",
      "____________________________________\n"
     ]
    },
    {
     "name": "stderr",
     "output_type": "stream",
     "text": [
      "Batch calculation at epoch 57.: 805it [00:16, 50.74it/s]"
     ]
    },
    {
     "name": "stdout",
     "output_type": "stream",
     "text": [
      "------------------------------------------------------------\n",
      "Epoch 57, batch 799:\n",
      "Average original gradient norm: 0.38607290035113695 (over last 800 batches)\n",
      "Average clipped gradient norm: 0.38607290035113695 (over last 800 batches)\n",
      "Running average global loss: 0.4597650945186615 (over last 800 batches)\n",
      "Running average activity prediction loss: 0.2999594458565116 (Cross Entropy over last 800 batches)\n",
      "Running average time till next event prediction loss: 0.1598056488391012 (MAE over last 800 batches)\n",
      "------------------------------------------------------------\n"
     ]
    },
    {
     "name": "stderr",
     "output_type": "stream",
     "text": [
      "Batch calculation at epoch 57.: 1606it [00:33, 49.31it/s]"
     ]
    },
    {
     "name": "stdout",
     "output_type": "stream",
     "text": [
      "------------------------------------------------------------\n",
      "Epoch 57, batch 1599:\n",
      "Average original gradient norm: 0.38856483425945043 (over last 800 batches)\n",
      "Average clipped gradient norm: 0.38856483425945043 (over last 800 batches)\n",
      "Running average global loss: 0.45982890427112577 (over last 800 batches)\n",
      "Running average activity prediction loss: 0.29998658653348687 (Cross Entropy over last 800 batches)\n",
      "Running average time till next event prediction loss: 0.15984231857582926 (MAE over last 800 batches)\n",
      "------------------------------------------------------------\n"
     ]
    },
    {
     "name": "stderr",
     "output_type": "stream",
     "text": [
      "Batch calculation at epoch 57.: 2410it [00:49, 64.41it/s]"
     ]
    },
    {
     "name": "stdout",
     "output_type": "stream",
     "text": [
      "------------------------------------------------------------\n",
      "Epoch 57, batch 2399:\n",
      "Average original gradient norm: 0.4126757094077766 (over last 800 batches)\n",
      "Average clipped gradient norm: 0.40355129895731806 (over last 800 batches)\n",
      "Running average global loss: 0.4594124833121896 (over last 800 batches)\n",
      "Running average activity prediction loss: 0.2998638378083706 (Cross Entropy over last 800 batches)\n",
      "Running average time till next event prediction loss: 0.15954864474013447 (MAE over last 800 batches)\n",
      "------------------------------------------------------------\n"
     ]
    },
    {
     "name": "stderr",
     "output_type": "stream",
     "text": [
      "Batch calculation at epoch 57.: 3201it [01:06, 52.21it/s]"
     ]
    },
    {
     "name": "stdout",
     "output_type": "stream",
     "text": [
      "------------------------------------------------------------\n",
      "Epoch 57, batch 3199:\n",
      "Average original gradient norm: 0.39223706936463715 (over last 800 batches)\n",
      "Average clipped gradient norm: 0.39223706936463715 (over last 800 batches)\n",
      "Running average global loss: 0.45865679990500213 (over last 800 batches)\n",
      "Running average activity prediction loss: 0.2989854486659169 (Cross Entropy over last 800 batches)\n",
      "Running average time till next event prediction loss: 0.1596713511273265 (MAE over last 800 batches)\n",
      "------------------------------------------------------------\n"
     ]
    },
    {
     "name": "stderr",
     "output_type": "stream",
     "text": [
      "Batch calculation at epoch 57.: 4009it [01:21, 63.65it/s]"
     ]
    },
    {
     "name": "stdout",
     "output_type": "stream",
     "text": [
      "------------------------------------------------------------\n",
      "Epoch 57, batch 3999:\n",
      "Average original gradient norm: 0.39225247386842965 (over last 800 batches)\n",
      "Average clipped gradient norm: 0.38691946361213925 (over last 800 batches)\n",
      "Running average global loss: 0.4594162432104349 (over last 800 batches)\n",
      "Running average activity prediction loss: 0.29970196809619665 (Cross Entropy over last 800 batches)\n",
      "Running average time till next event prediction loss: 0.1597142752353102 (MAE over last 800 batches)\n",
      "------------------------------------------------------------\n"
     ]
    },
    {
     "name": "stderr",
     "output_type": "stream",
     "text": [
      "Batch calculation at epoch 57.: 4798it [01:35, 50.13it/s]\n"
     ]
    },
    {
     "name": "stdout",
     "output_type": "stream",
     "text": [
      "=======================================\n",
      "End of epoch 57\n",
      "=======================================\n",
      "Running average global loss: 0.458898255713284 (over last 800 batches)\n",
      "Running average activity prediction loss: 0.2990886142477393 (Cross Entropy over last 800 batches)\n",
      "Running average time till next event prediction loss: 0.15980964126065372 (MAE over last 800 batches)\n"
     ]
    },
    {
     "name": "stderr",
     "output_type": "stream",
     "text": [
      "Validation batch calculation: 72it [00:44,  1.62it/s]\n"
     ]
    },
    {
     "name": "stdout",
     "output_type": "stream",
     "text": [
      "Avg MAE TTNE prediction validation set: 0.20621541142463684 (standardized) ; 763.656640625 (minutes)'\n",
      "Avg 1-(normalized) DL distance acitivty suffix prediction validation set: 0.26396119594573975\n",
      "Percentage of suffixes predicted to END: too early - 0.024553403823969092 ; right moment - 0.09947643979057591 ; too late - 0.875970156385455\n",
      "Too early instances - avg amount of events too early: 8.30831241607666\n",
      "Too late instances - avg amount of events too late: 50.100765228271484\n",
      "Avg absolute amount of events predicted too early / too late: 44.09077453613281\n",
      "Avg MAE RRT prediction validation set:  11954.544791666667 (minutes)'\n",
      " \n",
      "------------------------------------\n",
      "EPOCH 58:\n",
      "____________________________________\n"
     ]
    },
    {
     "name": "stderr",
     "output_type": "stream",
     "text": [
      "Batch calculation at epoch 58.: 807it [00:18, 40.41it/s]"
     ]
    },
    {
     "name": "stdout",
     "output_type": "stream",
     "text": [
      "------------------------------------------------------------\n",
      "Epoch 58, batch 799:\n",
      "Average original gradient norm: 0.38500809064134955 (over last 800 batches)\n",
      "Average clipped gradient norm: 0.38500809064134955 (over last 800 batches)\n",
      "Running average global loss: 0.4578438596054912 (over last 800 batches)\n",
      "Running average activity prediction loss: 0.29892396632581947 (Cross Entropy over last 800 batches)\n",
      "Running average time till next event prediction loss: 0.15891989341937005 (MAE over last 800 batches)\n",
      "------------------------------------------------------------\n"
     ]
    },
    {
     "name": "stderr",
     "output_type": "stream",
     "text": [
      "Batch calculation at epoch 58.: 1606it [00:35, 40.46it/s]"
     ]
    },
    {
     "name": "stdout",
     "output_type": "stream",
     "text": [
      "------------------------------------------------------------\n",
      "Epoch 58, batch 1599:\n",
      "Average original gradient norm: 0.3882208296470344 (over last 800 batches)\n",
      "Average clipped gradient norm: 0.3882208296470344 (over last 800 batches)\n",
      "Running average global loss: 0.46067302286624906 (over last 800 batches)\n",
      "Running average activity prediction loss: 0.3003813995793462 (Cross Entropy over last 800 batches)\n",
      "Running average time till next event prediction loss: 0.16029162314720452 (MAE over last 800 batches)\n",
      "------------------------------------------------------------\n"
     ]
    },
    {
     "name": "stderr",
     "output_type": "stream",
     "text": [
      "Batch calculation at epoch 58.: 2407it [00:54, 48.98it/s]"
     ]
    },
    {
     "name": "stdout",
     "output_type": "stream",
     "text": [
      "------------------------------------------------------------\n",
      "Epoch 58, batch 2399:\n",
      "Average original gradient norm: 0.39697578974068165 (over last 800 batches)\n",
      "Average clipped gradient norm: 0.3910801664739847 (over last 800 batches)\n",
      "Running average global loss: 0.45942709609866145 (over last 800 batches)\n",
      "Running average activity prediction loss: 0.29988001186400653 (Cross Entropy over last 800 batches)\n",
      "Running average time till next event prediction loss: 0.15954708404839038 (MAE over last 800 batches)\n",
      "------------------------------------------------------------\n"
     ]
    },
    {
     "name": "stderr",
     "output_type": "stream",
     "text": [
      "Batch calculation at epoch 58.: 3206it [01:13, 43.87it/s]"
     ]
    },
    {
     "name": "stdout",
     "output_type": "stream",
     "text": [
      "------------------------------------------------------------\n",
      "Epoch 58, batch 3199:\n",
      "Average original gradient norm: 0.40159727443009613 (over last 800 batches)\n",
      "Average clipped gradient norm: 0.3938742332533002 (over last 800 batches)\n",
      "Running average global loss: 0.4588749735802412 (over last 800 batches)\n",
      "Running average activity prediction loss: 0.2990683123096824 (Cross Entropy over last 800 batches)\n",
      "Running average time till next event prediction loss: 0.15980666116811335 (MAE over last 800 batches)\n",
      "------------------------------------------------------------\n"
     ]
    },
    {
     "name": "stderr",
     "output_type": "stream",
     "text": [
      "Batch calculation at epoch 58.: 4005it [01:31, 44.68it/s]"
     ]
    },
    {
     "name": "stdout",
     "output_type": "stream",
     "text": [
      "------------------------------------------------------------\n",
      "Epoch 58, batch 3999:\n",
      "Average original gradient norm: 0.38872201070189477 (over last 800 batches)\n",
      "Average clipped gradient norm: 0.38872201070189477 (over last 800 batches)\n",
      "Running average global loss: 0.4590154454484582 (over last 800 batches)\n",
      "Running average activity prediction loss: 0.2991960749030113 (Cross Entropy over last 800 batches)\n",
      "Running average time till next event prediction loss: 0.15981937027536333 (MAE over last 800 batches)\n",
      "------------------------------------------------------------\n"
     ]
    },
    {
     "name": "stderr",
     "output_type": "stream",
     "text": [
      "Batch calculation at epoch 58.: 4798it [01:50, 43.44it/s]\n"
     ]
    },
    {
     "name": "stdout",
     "output_type": "stream",
     "text": [
      "=======================================\n",
      "End of epoch 58\n",
      "=======================================\n",
      "Running average global loss: 0.4596950636431575 (over last 800 batches)\n",
      "Running average activity prediction loss: 0.2995520768687129 (Cross Entropy over last 800 batches)\n",
      "Running average time till next event prediction loss: 0.1601429865695536 (MAE over last 800 batches)\n"
     ]
    },
    {
     "name": "stderr",
     "output_type": "stream",
     "text": [
      "Validation batch calculation: 72it [00:56,  1.26it/s]\n"
     ]
    },
    {
     "name": "stdout",
     "output_type": "stream",
     "text": [
      "Avg MAE TTNE prediction validation set: 0.20618261396884918 (standardized) ; 763.5239583333333 (minutes)'\n",
      "Avg 1-(normalized) DL distance acitivty suffix prediction validation set: 0.25261390209198\n",
      "Percentage of suffixes predicted to END: too early - 0.022034580912919717 ; right moment - 0.09933991822358137 ; too late - 0.8786255008634989\n",
      "Too early instances - avg amount of events too early: 8.404274940490723\n",
      "Too late instances - avg amount of events too late: 53.50212097167969\n",
      "Avg absolute amount of events predicted too early / too late: 47.193511962890625\n",
      "Avg MAE RRT prediction validation set:  11885.166666666666 (minutes)'\n",
      " \n",
      "------------------------------------\n",
      "EPOCH 59:\n",
      "____________________________________\n"
     ]
    },
    {
     "name": "stderr",
     "output_type": "stream",
     "text": [
      "Batch calculation at epoch 59.: 811it [00:13, 66.99it/s]"
     ]
    },
    {
     "name": "stdout",
     "output_type": "stream",
     "text": [
      "------------------------------------------------------------\n",
      "Epoch 59, batch 799:\n",
      "Average original gradient norm: 0.39617244999855755 (over last 800 batches)\n",
      "Average clipped gradient norm: 0.39617244999855755 (over last 800 batches)\n",
      "Running average global loss: 0.4594677513465285 (over last 800 batches)\n",
      "Running average activity prediction loss: 0.29921966310590503 (Cross Entropy over last 800 batches)\n",
      "Running average time till next event prediction loss: 0.1602480880357325 (MAE over last 800 batches)\n",
      "------------------------------------------------------------\n"
     ]
    },
    {
     "name": "stderr",
     "output_type": "stream",
     "text": [
      "Batch calculation at epoch 59.: 1612it [00:26, 66.37it/s]"
     ]
    },
    {
     "name": "stdout",
     "output_type": "stream",
     "text": [
      "------------------------------------------------------------\n",
      "Epoch 59, batch 1599:\n",
      "Average original gradient norm: 0.38870143273845315 (over last 800 batches)\n",
      "Average clipped gradient norm: 0.38870143273845315 (over last 800 batches)\n",
      "Running average global loss: 0.45926284294575453 (over last 800 batches)\n",
      "Running average activity prediction loss: 0.2995537589117885 (Cross Entropy over last 800 batches)\n",
      "Running average time till next event prediction loss: 0.15970908334478737 (MAE over last 800 batches)\n",
      "------------------------------------------------------------\n"
     ]
    },
    {
     "name": "stderr",
     "output_type": "stream",
     "text": [
      "Batch calculation at epoch 59.: 2408it [00:39, 45.48it/s]"
     ]
    },
    {
     "name": "stdout",
     "output_type": "stream",
     "text": [
      "------------------------------------------------------------\n",
      "Epoch 59, batch 2399:\n",
      "Average original gradient norm: 0.3940390967577696 (over last 800 batches)\n",
      "Average clipped gradient norm: 0.3938985697180033 (over last 800 batches)\n",
      "Running average global loss: 0.4593974751606584 (over last 800 batches)\n",
      "Running average activity prediction loss: 0.2996479007601738 (Cross Entropy over last 800 batches)\n",
      "Running average time till next event prediction loss: 0.1597495751455426 (MAE over last 800 batches)\n",
      "------------------------------------------------------------\n"
     ]
    },
    {
     "name": "stderr",
     "output_type": "stream",
     "text": [
      "Batch calculation at epoch 59.: 3208it [00:54, 56.39it/s]"
     ]
    },
    {
     "name": "stdout",
     "output_type": "stream",
     "text": [
      "------------------------------------------------------------\n",
      "Epoch 59, batch 3199:\n",
      "Average original gradient norm: 0.4200602724775672 (over last 800 batches)\n",
      "Average clipped gradient norm: 0.3976830614730716 (over last 800 batches)\n",
      "Running average global loss: 0.45797697935253384 (over last 800 batches)\n",
      "Running average activity prediction loss: 0.29899353854358196 (Cross Entropy over last 800 batches)\n",
      "Running average time till next event prediction loss: 0.15898344083689153 (MAE over last 800 batches)\n",
      "------------------------------------------------------------\n"
     ]
    },
    {
     "name": "stderr",
     "output_type": "stream",
     "text": [
      "Batch calculation at epoch 59.: 4007it [01:09, 52.21it/s]"
     ]
    },
    {
     "name": "stdout",
     "output_type": "stream",
     "text": [
      "------------------------------------------------------------\n",
      "Epoch 59, batch 3999:\n",
      "Average original gradient norm: 0.4032368882931769 (over last 800 batches)\n",
      "Average clipped gradient norm: 0.4032368882931769 (over last 800 batches)\n",
      "Running average global loss: 0.45944833248853684 (over last 800 batches)\n",
      "Running average activity prediction loss: 0.2993859887123108 (Cross Entropy over last 800 batches)\n",
      "Running average time till next event prediction loss: 0.16006234380416573 (MAE over last 800 batches)\n",
      "------------------------------------------------------------\n"
     ]
    },
    {
     "name": "stderr",
     "output_type": "stream",
     "text": [
      "Batch calculation at epoch 59.: 4798it [01:25, 56.26it/s]\n"
     ]
    },
    {
     "name": "stdout",
     "output_type": "stream",
     "text": [
      "=======================================\n",
      "End of epoch 59\n",
      "=======================================\n",
      "Running average global loss: 0.4591973292455077 (over last 800 batches)\n",
      "Running average activity prediction loss: 0.29962198074907065 (Cross Entropy over last 800 batches)\n",
      "Running average time till next event prediction loss: 0.15957534846849739 (MAE over last 800 batches)\n"
     ]
    },
    {
     "name": "stderr",
     "output_type": "stream",
     "text": [
      "Validation batch calculation: 72it [00:46,  1.55it/s]\n"
     ]
    },
    {
     "name": "stdout",
     "output_type": "stream",
     "text": [
      "Avg MAE TTNE prediction validation set: 0.2061592936515808 (standardized) ; 763.4813802083333 (minutes)'\n",
      "Avg 1-(normalized) DL distance acitivty suffix prediction validation set: 0.2498641163110733\n",
      "Percentage of suffixes predicted to END: too early - 0.018450889779312887 ; right moment - 0.09773578981139545 ; too late - 0.8838133204092916\n",
      "Too early instances - avg amount of events too early: 7.999629974365234\n",
      "Too late instances - avg amount of events too late: 53.21302795410156\n",
      "Avg absolute amount of events predicted too early / too late: 47.177982330322266\n",
      "Avg MAE RRT prediction validation set:  11910.159375 (minutes)'\n",
      " \n",
      "------------------------------------\n",
      "EPOCH 60:\n",
      "____________________________________\n"
     ]
    },
    {
     "name": "stderr",
     "output_type": "stream",
     "text": [
      "Batch calculation at epoch 60.: 807it [00:16, 46.79it/s]"
     ]
    },
    {
     "name": "stdout",
     "output_type": "stream",
     "text": [
      "------------------------------------------------------------\n",
      "Epoch 60, batch 799:\n",
      "Average original gradient norm: 0.39587708735838534 (over last 800 batches)\n",
      "Average clipped gradient norm: 0.39509183997288344 (over last 800 batches)\n",
      "Running average global loss: 0.45981207948178054 (over last 800 batches)\n",
      "Running average activity prediction loss: 0.29967842482030393 (Cross Entropy over last 800 batches)\n",
      "Running average time till next event prediction loss: 0.16013365381397307 (MAE over last 800 batches)\n",
      "------------------------------------------------------------\n"
     ]
    },
    {
     "name": "stderr",
     "output_type": "stream",
     "text": [
      "Batch calculation at epoch 60.: 1605it [00:33, 46.88it/s]"
     ]
    },
    {
     "name": "stdout",
     "output_type": "stream",
     "text": [
      "------------------------------------------------------------\n",
      "Epoch 60, batch 1599:\n",
      "Average original gradient norm: 0.40308138528838755 (over last 800 batches)\n",
      "Average clipped gradient norm: 0.40299223953858015 (over last 800 batches)\n",
      "Running average global loss: 0.45884402122348544 (over last 800 batches)\n",
      "Running average activity prediction loss: 0.2993870634958148 (Cross Entropy over last 800 batches)\n",
      "Running average time till next event prediction loss: 0.159456957699731 (MAE over last 800 batches)\n",
      "------------------------------------------------------------\n"
     ]
    },
    {
     "name": "stderr",
     "output_type": "stream",
     "text": [
      "Batch calculation at epoch 60.: 2402it [00:50, 42.62it/s]"
     ]
    },
    {
     "name": "stdout",
     "output_type": "stream",
     "text": [
      "------------------------------------------------------------\n",
      "Epoch 60, batch 2399:\n",
      "Average original gradient norm: 0.3896621039882302 (over last 800 batches)\n",
      "Average clipped gradient norm: 0.3896621039882302 (over last 800 batches)\n",
      "Running average global loss: 0.4583924327790737 (over last 800 batches)\n",
      "Running average activity prediction loss: 0.2990956474840641 (Cross Entropy over last 800 batches)\n",
      "Running average time till next event prediction loss: 0.15929678582586349 (MAE over last 800 batches)\n",
      "------------------------------------------------------------\n"
     ]
    },
    {
     "name": "stderr",
     "output_type": "stream",
     "text": [
      "Batch calculation at epoch 60.: 3209it [01:09, 46.15it/s]"
     ]
    },
    {
     "name": "stdout",
     "output_type": "stream",
     "text": [
      "------------------------------------------------------------\n",
      "Epoch 60, batch 3199:\n",
      "Average original gradient norm: 0.3924557723291218 (over last 800 batches)\n",
      "Average clipped gradient norm: 0.3924557723291218 (over last 800 batches)\n",
      "Running average global loss: 0.4590587977319956 (over last 800 batches)\n",
      "Running average activity prediction loss: 0.29900331914424894 (Cross Entropy over last 800 batches)\n",
      "Running average time till next event prediction loss: 0.1600554786901921 (MAE over last 800 batches)\n",
      "------------------------------------------------------------\n"
     ]
    },
    {
     "name": "stderr",
     "output_type": "stream",
     "text": [
      "Batch calculation at epoch 60.: 4008it [01:26, 49.56it/s]"
     ]
    },
    {
     "name": "stdout",
     "output_type": "stream",
     "text": [
      "------------------------------------------------------------\n",
      "Epoch 60, batch 3999:\n",
      "Average original gradient norm: 0.39930458249524237 (over last 800 batches)\n",
      "Average clipped gradient norm: 0.39930458249524237 (over last 800 batches)\n",
      "Running average global loss: 0.4586889320984483 (over last 800 batches)\n",
      "Running average activity prediction loss: 0.2990094058960676 (Cross Entropy over last 800 batches)\n",
      "Running average time till next event prediction loss: 0.1596795266214758 (MAE over last 800 batches)\n",
      "------------------------------------------------------------\n"
     ]
    },
    {
     "name": "stderr",
     "output_type": "stream",
     "text": [
      "Batch calculation at epoch 60.: 4798it [01:44, 45.76it/s]\n"
     ]
    },
    {
     "name": "stdout",
     "output_type": "stream",
     "text": [
      "=======================================\n",
      "End of epoch 60\n",
      "=======================================\n",
      "Running average global loss: 0.4593072238191962 (over last 800 batches)\n",
      "Running average activity prediction loss: 0.29962011337280275 (Cross Entropy over last 800 batches)\n",
      "Running average time till next event prediction loss: 0.15968711069785058 (MAE over last 800 batches)\n"
     ]
    },
    {
     "name": "stderr",
     "output_type": "stream",
     "text": [
      "Validation batch calculation: 72it [00:54,  1.33it/s]\n"
     ]
    },
    {
     "name": "stdout",
     "output_type": "stream",
     "text": [
      "Avg MAE TTNE prediction validation set: 0.20613031089305878 (standardized) ; 763.3828776041667 (minutes)'\n",
      "Avg 1-(normalized) DL distance acitivty suffix prediction validation set: 0.2639768719673157\n",
      "Percentage of suffixes predicted to END: too early - 0.025638750281575733 ; right moment - 0.09923752704833547 ; too late - 0.8751237226700888\n",
      "Too early instances - avg amount of events too early: 8.481363296508789\n",
      "Too late instances - avg amount of events too late: 50.41514587402344\n",
      "Avg absolute amount of events predicted too early / too late: 44.33694076538086\n",
      "Avg MAE RRT prediction validation set:  11951.303125 (minutes)'\n",
      " \n",
      "------------------------------------\n",
      "EPOCH 61:\n",
      "____________________________________\n"
     ]
    },
    {
     "name": "stderr",
     "output_type": "stream",
     "text": [
      "Batch calculation at epoch 61.: 805it [00:21, 41.61it/s]"
     ]
    },
    {
     "name": "stdout",
     "output_type": "stream",
     "text": [
      "------------------------------------------------------------\n",
      "Epoch 61, batch 799:\n",
      "Average original gradient norm: 0.397487717140466 (over last 800 batches)\n",
      "Average clipped gradient norm: 0.3953494848497212 (over last 800 batches)\n",
      "Running average global loss: 0.4589961055293679 (over last 800 batches)\n",
      "Running average activity prediction loss: 0.29935248877853154 (Cross Entropy over last 800 batches)\n",
      "Running average time till next event prediction loss: 0.15964361651800574 (MAE over last 800 batches)\n",
      "------------------------------------------------------------\n"
     ]
    },
    {
     "name": "stderr",
     "output_type": "stream",
     "text": [
      "Batch calculation at epoch 61.: 1606it [00:41, 36.06it/s]"
     ]
    },
    {
     "name": "stdout",
     "output_type": "stream",
     "text": [
      "------------------------------------------------------------\n",
      "Epoch 61, batch 1599:\n",
      "Average original gradient norm: 0.4058067459613085 (over last 800 batches)\n",
      "Average clipped gradient norm: 0.4057887003570795 (over last 800 batches)\n",
      "Running average global loss: 0.45990560252219437 (over last 800 batches)\n",
      "Running average activity prediction loss: 0.2992996020242572 (Cross Entropy over last 800 batches)\n",
      "Running average time till next event prediction loss: 0.1606060002744198 (MAE over last 800 batches)\n",
      "------------------------------------------------------------\n"
     ]
    },
    {
     "name": "stderr",
     "output_type": "stream",
     "text": [
      "Batch calculation at epoch 61.: 2406it [01:05, 33.82it/s]"
     ]
    },
    {
     "name": "stdout",
     "output_type": "stream",
     "text": [
      "------------------------------------------------------------\n",
      "Epoch 61, batch 2399:\n",
      "Average original gradient norm: 0.39294917589053513 (over last 800 batches)\n",
      "Average clipped gradient norm: 0.39294917589053513 (over last 800 batches)\n",
      "Running average global loss: 0.4580251455307007 (over last 800 batches)\n",
      "Running average activity prediction loss: 0.29874925706535577 (Cross Entropy over last 800 batches)\n",
      "Running average time till next event prediction loss: 0.15927588853985072 (MAE over last 800 batches)\n",
      "------------------------------------------------------------\n"
     ]
    },
    {
     "name": "stderr",
     "output_type": "stream",
     "text": [
      "Batch calculation at epoch 61.: 3204it [01:30, 32.63it/s]"
     ]
    },
    {
     "name": "stdout",
     "output_type": "stream",
     "text": [
      "------------------------------------------------------------\n",
      "Epoch 61, batch 3199:\n",
      "Average original gradient norm: 0.3953689498081803 (over last 800 batches)\n",
      "Average clipped gradient norm: 0.3953689498081803 (over last 800 batches)\n",
      "Running average global loss: 0.4584475884214044 (over last 800 batches)\n",
      "Running average activity prediction loss: 0.29882738247513774 (Cross Entropy over last 800 batches)\n",
      "Running average time till next event prediction loss: 0.15962020576000213 (MAE over last 800 batches)\n",
      "------------------------------------------------------------\n"
     ]
    },
    {
     "name": "stderr",
     "output_type": "stream",
     "text": [
      "Batch calculation at epoch 61.: 4006it [01:52, 38.32it/s]"
     ]
    },
    {
     "name": "stdout",
     "output_type": "stream",
     "text": [
      "------------------------------------------------------------\n",
      "Epoch 61, batch 3999:\n",
      "Average original gradient norm: 0.40094539696350695 (over last 800 batches)\n",
      "Average clipped gradient norm: 0.40094539696350695 (over last 800 batches)\n",
      "Running average global loss: 0.4593240389227867 (over last 800 batches)\n",
      "Running average activity prediction loss: 0.29982175547629597 (Cross Entropy over last 800 batches)\n",
      "Running average time till next event prediction loss: 0.15950228366069497 (MAE over last 800 batches)\n",
      "------------------------------------------------------------\n"
     ]
    },
    {
     "name": "stderr",
     "output_type": "stream",
     "text": [
      "Batch calculation at epoch 61.: 4798it [02:14, 35.75it/s]\n"
     ]
    },
    {
     "name": "stdout",
     "output_type": "stream",
     "text": [
      "=======================================\n",
      "End of epoch 61\n",
      "=======================================\n",
      "Running average global loss: 0.4591173881292343 (over last 800 batches)\n",
      "Running average activity prediction loss: 0.29942786034196617 (Cross Entropy over last 800 batches)\n",
      "Running average time till next event prediction loss: 0.1596895284485072 (MAE over last 800 batches)\n"
     ]
    },
    {
     "name": "stderr",
     "output_type": "stream",
     "text": [
      "Validation batch calculation: 72it [01:06,  1.09it/s]\n"
     ]
    },
    {
     "name": "stdout",
     "output_type": "stream",
     "text": [
      "Avg MAE TTNE prediction validation set: 0.20613117516040802 (standardized) ; 763.3544270833333 (minutes)'\n",
      "Avg 1-(normalized) DL distance acitivty suffix prediction validation set: 0.25509124994277954\n",
      "Percentage of suffixes predicted to END: too early - 0.021113060335706535 ; right moment - 0.09751735530420418 ; too late - 0.8813695843600893\n",
      "Too early instances - avg amount of events too early: 8.302942276000977\n",
      "Too late instances - avg amount of events too late: 52.22987365722656\n",
      "Avg absolute amount of events predicted too early / too late: 46.20912551879883\n",
      "Avg MAE RRT prediction validation set:  11920.197916666666 (minutes)'\n",
      " \n",
      "------------------------------------\n",
      "EPOCH 62:\n",
      "____________________________________\n"
     ]
    },
    {
     "name": "stderr",
     "output_type": "stream",
     "text": [
      "Batch calculation at epoch 62.: 808it [00:17, 51.98it/s]"
     ]
    },
    {
     "name": "stdout",
     "output_type": "stream",
     "text": [
      "------------------------------------------------------------\n",
      "Epoch 62, batch 799:\n",
      "Average original gradient norm: 0.38750127924606204 (over last 800 batches)\n",
      "Average clipped gradient norm: 0.38750127924606204 (over last 800 batches)\n",
      "Running average global loss: 0.45947535563260317 (over last 800 batches)\n",
      "Running average activity prediction loss: 0.299215546362102 (Cross Entropy over last 800 batches)\n",
      "Running average time till next event prediction loss: 0.16025980918668212 (MAE over last 800 batches)\n",
      "------------------------------------------------------------\n"
     ]
    },
    {
     "name": "stderr",
     "output_type": "stream",
     "text": [
      "Batch calculation at epoch 62.: 1605it [00:34, 43.68it/s]"
     ]
    },
    {
     "name": "stdout",
     "output_type": "stream",
     "text": [
      "------------------------------------------------------------\n",
      "Epoch 62, batch 1599:\n",
      "Average original gradient norm: 0.3932834639400244 (over last 800 batches)\n",
      "Average clipped gradient norm: 0.3932834639400244 (over last 800 batches)\n",
      "Running average global loss: 0.45723313026130197 (over last 800 batches)\n",
      "Running average activity prediction loss: 0.2984861451759934 (Cross Entropy over last 800 batches)\n",
      "Running average time till next event prediction loss: 0.15874698498286308 (MAE over last 800 batches)\n",
      "------------------------------------------------------------\n"
     ]
    },
    {
     "name": "stderr",
     "output_type": "stream",
     "text": [
      "Batch calculation at epoch 62.: 2407it [00:52, 47.70it/s]"
     ]
    },
    {
     "name": "stdout",
     "output_type": "stream",
     "text": [
      "------------------------------------------------------------\n",
      "Epoch 62, batch 2399:\n",
      "Average original gradient norm: 0.39448099240660667 (over last 800 batches)\n",
      "Average clipped gradient norm: 0.39448099240660667 (over last 800 batches)\n",
      "Running average global loss: 0.4597695110365748 (over last 800 batches)\n",
      "Running average activity prediction loss: 0.29954660166054964 (Cross Entropy over last 800 batches)\n",
      "Running average time till next event prediction loss: 0.16022290954366325 (MAE over last 800 batches)\n",
      "------------------------------------------------------------\n"
     ]
    },
    {
     "name": "stderr",
     "output_type": "stream",
     "text": [
      "Batch calculation at epoch 62.: 3205it [01:09, 53.02it/s]"
     ]
    },
    {
     "name": "stdout",
     "output_type": "stream",
     "text": [
      "------------------------------------------------------------\n",
      "Epoch 62, batch 3199:\n",
      "Average original gradient norm: 0.3934301118738949 (over last 800 batches)\n",
      "Average clipped gradient norm: 0.3934301118738949 (over last 800 batches)\n",
      "Running average global loss: 0.45893006078898907 (over last 800 batches)\n",
      "Running average activity prediction loss: 0.2991555800288916 (Cross Entropy over last 800 batches)\n",
      "Running average time till next event prediction loss: 0.1597744806855917 (MAE over last 800 batches)\n",
      "------------------------------------------------------------\n"
     ]
    },
    {
     "name": "stderr",
     "output_type": "stream",
     "text": [
      "Batch calculation at epoch 62.: 4006it [01:26, 46.15it/s]"
     ]
    },
    {
     "name": "stdout",
     "output_type": "stream",
     "text": [
      "------------------------------------------------------------\n",
      "Epoch 62, batch 3999:\n",
      "Average original gradient norm: 0.38808082612231376 (over last 800 batches)\n",
      "Average clipped gradient norm: 0.38808082612231376 (over last 800 batches)\n",
      "Running average global loss: 0.4581838788837194 (over last 800 batches)\n",
      "Running average activity prediction loss: 0.29934406977146866 (Cross Entropy over last 800 batches)\n",
      "Running average time till next event prediction loss: 0.15883980925194918 (MAE over last 800 batches)\n",
      "------------------------------------------------------------\n"
     ]
    },
    {
     "name": "stderr",
     "output_type": "stream",
     "text": [
      "Batch calculation at epoch 62.: 4798it [01:43, 46.25it/s]\n"
     ]
    },
    {
     "name": "stdout",
     "output_type": "stream",
     "text": [
      "=======================================\n",
      "End of epoch 62\n",
      "=======================================\n",
      "Running average global loss: 0.4596558482199907 (over last 800 batches)\n",
      "Running average activity prediction loss: 0.2993533507734537 (Cross Entropy over last 800 batches)\n",
      "Running average time till next event prediction loss: 0.1603024978097528 (MAE over last 800 batches)\n"
     ]
    },
    {
     "name": "stderr",
     "output_type": "stream",
     "text": [
      "Validation batch calculation: 72it [00:53,  1.35it/s]\n"
     ]
    },
    {
     "name": "stdout",
     "output_type": "stream",
     "text": [
      "Avg MAE TTNE prediction validation set: 0.206207275390625 (standardized) ; 763.6586588541667 (minutes)'\n",
      "Avg 1-(normalized) DL distance acitivty suffix prediction validation set: 0.2562226355075836\n",
      "Percentage of suffixes predicted to END: too early - 0.02107210386560817 ; right moment - 0.09840474548966872 ; too late - 0.8805231506447231\n",
      "Too early instances - avg amount of events too early: 8.128928184509277\n",
      "Too late instances - avg amount of events too late: 52.06239700317383\n",
      "Avg absolute amount of events predicted too early / too late: 46.0134391784668\n",
      "Avg MAE RRT prediction validation set:  11899.257291666667 (minutes)'\n",
      " \n",
      "------------------------------------\n",
      "EPOCH 63:\n",
      "____________________________________\n"
     ]
    },
    {
     "name": "stderr",
     "output_type": "stream",
     "text": [
      "Batch calculation at epoch 63.: 805it [00:19, 38.70it/s]"
     ]
    },
    {
     "name": "stdout",
     "output_type": "stream",
     "text": [
      "------------------------------------------------------------\n",
      "Epoch 63, batch 799:\n",
      "Average original gradient norm: 0.39834602316841483 (over last 800 batches)\n",
      "Average clipped gradient norm: 0.3980801025591791 (over last 800 batches)\n",
      "Running average global loss: 0.4571640783920884 (over last 800 batches)\n",
      "Running average activity prediction loss: 0.29840207260102036 (Cross Entropy over last 800 batches)\n",
      "Running average time till next event prediction loss: 0.15876200632192194 (MAE over last 800 batches)\n",
      "------------------------------------------------------------\n"
     ]
    },
    {
     "name": "stderr",
     "output_type": "stream",
     "text": [
      "Batch calculation at epoch 63.: 1604it [00:40, 40.70it/s]"
     ]
    },
    {
     "name": "stdout",
     "output_type": "stream",
     "text": [
      "------------------------------------------------------------\n",
      "Epoch 63, batch 1599:\n",
      "Average original gradient norm: 0.38853256303817035 (over last 800 batches)\n",
      "Average clipped gradient norm: 0.38853256303817035 (over last 800 batches)\n",
      "Running average global loss: 0.45926010865718125 (over last 800 batches)\n",
      "Running average activity prediction loss: 0.29929761108011005 (Cross Entropy over last 800 batches)\n",
      "Running average time till next event prediction loss: 0.1599624975025654 (MAE over last 800 batches)\n",
      "------------------------------------------------------------\n"
     ]
    },
    {
     "name": "stderr",
     "output_type": "stream",
     "text": [
      "Batch calculation at epoch 63.: 2407it [01:02, 35.20it/s]"
     ]
    },
    {
     "name": "stdout",
     "output_type": "stream",
     "text": [
      "------------------------------------------------------------\n",
      "Epoch 63, batch 2399:\n",
      "Average original gradient norm: 0.38866819808259606 (over last 800 batches)\n",
      "Average clipped gradient norm: 0.38866819808259606 (over last 800 batches)\n",
      "Running average global loss: 0.4579404513910413 (over last 800 batches)\n",
      "Running average activity prediction loss: 0.2982062652334571 (Cross Entropy over last 800 batches)\n",
      "Running average time till next event prediction loss: 0.15973418665118516 (MAE over last 800 batches)\n",
      "------------------------------------------------------------\n"
     ]
    },
    {
     "name": "stderr",
     "output_type": "stream",
     "text": [
      "Batch calculation at epoch 63.: 3204it [01:24, 35.05it/s]"
     ]
    },
    {
     "name": "stdout",
     "output_type": "stream",
     "text": [
      "------------------------------------------------------------\n",
      "Epoch 63, batch 3199:\n",
      "Average original gradient norm: 0.3913545151799917 (over last 800 batches)\n",
      "Average clipped gradient norm: 0.39106201596558093 (over last 800 batches)\n",
      "Running average global loss: 0.4583889180794358 (over last 800 batches)\n",
      "Running average activity prediction loss: 0.29911325830966234 (Cross Entropy over last 800 batches)\n",
      "Running average time till next event prediction loss: 0.15927565993741155 (MAE over last 800 batches)\n",
      "------------------------------------------------------------\n"
     ]
    },
    {
     "name": "stderr",
     "output_type": "stream",
     "text": [
      "Batch calculation at epoch 63.: 4005it [01:47, 36.38it/s]"
     ]
    },
    {
     "name": "stdout",
     "output_type": "stream",
     "text": [
      "------------------------------------------------------------\n",
      "Epoch 63, batch 3999:\n",
      "Average original gradient norm: 0.39499315109103916 (over last 800 batches)\n",
      "Average clipped gradient norm: 0.39303933557122944 (over last 800 batches)\n",
      "Running average global loss: 0.46012521293014286 (over last 800 batches)\n",
      "Running average activity prediction loss: 0.2998502716422081 (Cross Entropy over last 800 batches)\n",
      "Running average time till next event prediction loss: 0.1602749416604638 (MAE over last 800 batches)\n",
      "------------------------------------------------------------\n"
     ]
    },
    {
     "name": "stderr",
     "output_type": "stream",
     "text": [
      "Batch calculation at epoch 63.: 4798it [02:05, 38.30it/s]\n"
     ]
    },
    {
     "name": "stdout",
     "output_type": "stream",
     "text": [
      "=======================================\n",
      "End of epoch 63\n",
      "=======================================\n",
      "Running average global loss: 0.4600143829733133 (over last 800 batches)\n",
      "Running average activity prediction loss: 0.299861008040607 (Cross Entropy over last 800 batches)\n",
      "Running average time till next event prediction loss: 0.1601533746160567 (MAE over last 800 batches)\n"
     ]
    },
    {
     "name": "stderr",
     "output_type": "stream",
     "text": [
      "Validation batch calculation: 72it [00:44,  1.63it/s]\n"
     ]
    },
    {
     "name": "stdout",
     "output_type": "stream",
     "text": [
      "Avg MAE TTNE prediction validation set: 0.20612208545207977 (standardized) ; 763.2197916666667 (minutes)'\n",
      "Avg 1-(normalized) DL distance acitivty suffix prediction validation set: 0.2569645643234253\n",
      "Percentage of suffixes predicted to END: too early - 0.020901451906864987 ; right moment - 0.098097571963931 ; too late - 0.881000976129204\n",
      "Too early instances - avg amount of events too early: 8.032658576965332\n",
      "Too late instances - avg amount of events too late: 51.28568649291992\n",
      "Avg absolute amount of events predicted too early / too late: 45.35063552856445\n",
      "Avg MAE RRT prediction validation set:  11930.829166666666 (minutes)'\n",
      " \n",
      "------------------------------------\n",
      "EPOCH 64:\n",
      "____________________________________\n"
     ]
    },
    {
     "name": "stderr",
     "output_type": "stream",
     "text": [
      "Batch calculation at epoch 64.: 806it [00:14, 58.14it/s]"
     ]
    },
    {
     "name": "stdout",
     "output_type": "stream",
     "text": [
      "------------------------------------------------------------\n",
      "Epoch 64, batch 799:\n",
      "Average original gradient norm: 0.38752247046679256 (over last 800 batches)\n",
      "Average clipped gradient norm: 0.38752247046679256 (over last 800 batches)\n",
      "Running average global loss: 0.4591751282662153 (over last 800 batches)\n",
      "Running average activity prediction loss: 0.2987193306535482 (Cross Entropy over last 800 batches)\n",
      "Running average time till next event prediction loss: 0.16045579759404063 (MAE over last 800 batches)\n",
      "------------------------------------------------------------\n"
     ]
    },
    {
     "name": "stderr",
     "output_type": "stream",
     "text": [
      "Batch calculation at epoch 64.: 1609it [00:32, 47.44it/s]"
     ]
    },
    {
     "name": "stdout",
     "output_type": "stream",
     "text": [
      "------------------------------------------------------------\n",
      "Epoch 64, batch 1599:\n",
      "Average original gradient norm: 0.3981655862927437 (over last 800 batches)\n",
      "Average clipped gradient norm: 0.3953459504246712 (over last 800 batches)\n",
      "Running average global loss: 0.45955836214125156 (over last 800 batches)\n",
      "Running average activity prediction loss: 0.2990579845011234 (Cross Entropy over last 800 batches)\n",
      "Running average time till next event prediction loss: 0.1605003781337291 (MAE over last 800 batches)\n",
      "------------------------------------------------------------\n"
     ]
    },
    {
     "name": "stderr",
     "output_type": "stream",
     "text": [
      "Batch calculation at epoch 64.: 2403it [00:48, 38.20it/s]"
     ]
    },
    {
     "name": "stdout",
     "output_type": "stream",
     "text": [
      "------------------------------------------------------------\n",
      "Epoch 64, batch 2399:\n",
      "Average original gradient norm: 0.40142382197082044 (over last 800 batches)\n",
      "Average clipped gradient norm: 0.4006264515966177 (over last 800 batches)\n",
      "Running average global loss: 0.4583957189694047 (over last 800 batches)\n",
      "Running average activity prediction loss: 0.2990842096880078 (Cross Entropy over last 800 batches)\n",
      "Running average time till next event prediction loss: 0.15931150982156395 (MAE over last 800 batches)\n",
      "------------------------------------------------------------\n"
     ]
    },
    {
     "name": "stderr",
     "output_type": "stream",
     "text": [
      "Batch calculation at epoch 64.: 3206it [01:06, 47.65it/s]"
     ]
    },
    {
     "name": "stdout",
     "output_type": "stream",
     "text": [
      "------------------------------------------------------------\n",
      "Epoch 64, batch 3199:\n",
      "Average original gradient norm: 0.40052092898637054 (over last 800 batches)\n",
      "Average clipped gradient norm: 0.40052092898637054 (over last 800 batches)\n",
      "Running average global loss: 0.45826059486716986 (over last 800 batches)\n",
      "Running average activity prediction loss: 0.2987662401422858 (Cross Entropy over last 800 batches)\n",
      "Running average time till next event prediction loss: 0.15949435509741305 (MAE over last 800 batches)\n",
      "------------------------------------------------------------\n"
     ]
    },
    {
     "name": "stderr",
     "output_type": "stream",
     "text": [
      "Batch calculation at epoch 64.: 4005it [01:24, 45.98it/s]"
     ]
    },
    {
     "name": "stdout",
     "output_type": "stream",
     "text": [
      "------------------------------------------------------------\n",
      "Epoch 64, batch 3999:\n",
      "Average original gradient norm: 0.3852418765425682 (over last 800 batches)\n",
      "Average clipped gradient norm: 0.3852418765425682 (over last 800 batches)\n",
      "Running average global loss: 0.45896762490272525 (over last 800 batches)\n",
      "Running average activity prediction loss: 0.2997081068903208 (Cross Entropy over last 800 batches)\n",
      "Running average time till next event prediction loss: 0.15925951811484992 (MAE over last 800 batches)\n",
      "------------------------------------------------------------\n"
     ]
    },
    {
     "name": "stderr",
     "output_type": "stream",
     "text": [
      "Batch calculation at epoch 64.: 4798it [01:39, 47.99it/s]\n"
     ]
    },
    {
     "name": "stdout",
     "output_type": "stream",
     "text": [
      "=======================================\n",
      "End of epoch 64\n",
      "=======================================\n",
      "Running average global loss: 0.4578192176297307 (over last 800 batches)\n",
      "Running average activity prediction loss: 0.2987488149479032 (Cross Entropy over last 800 batches)\n",
      "Running average time till next event prediction loss: 0.15907040206715464 (MAE over last 800 batches)\n"
     ]
    },
    {
     "name": "stderr",
     "output_type": "stream",
     "text": [
      "Validation batch calculation: 72it [00:48,  1.48it/s]\n"
     ]
    },
    {
     "name": "stdout",
     "output_type": "stream",
     "text": [
      "Avg MAE TTNE prediction validation set: 0.2062593698501587 (standardized) ; 763.8490885416667 (minutes)'\n",
      "Avg 1-(normalized) DL distance acitivty suffix prediction validation set: 0.2536582350730896\n",
      "Percentage of suffixes predicted to END: too early - 0.019427018983323892 ; right moment - 0.09794057216188727 ; too late - 0.8826324088547889\n",
      "Too early instances - avg amount of events too early: 8.18200969696045\n",
      "Too late instances - avg amount of events too late: 52.358917236328125\n",
      "Avg absolute amount of events predicted too early / too late: 46.37262725830078\n",
      "Avg MAE RRT prediction validation set:  11900.403125 (minutes)'\n",
      " \n",
      "------------------------------------\n",
      "EPOCH 65:\n",
      "____________________________________\n"
     ]
    },
    {
     "name": "stderr",
     "output_type": "stream",
     "text": [
      "Batch calculation at epoch 65.: 807it [00:20, 38.84it/s]"
     ]
    },
    {
     "name": "stdout",
     "output_type": "stream",
     "text": [
      "------------------------------------------------------------\n",
      "Epoch 65, batch 799:\n",
      "Average original gradient norm: 0.39534462040290236 (over last 800 batches)\n",
      "Average clipped gradient norm: 0.3948153322003782 (over last 800 batches)\n",
      "Running average global loss: 0.45827954065054655 (over last 800 batches)\n",
      "Running average activity prediction loss: 0.2991170224547386 (Cross Entropy over last 800 batches)\n",
      "Running average time till next event prediction loss: 0.1591625182610005 (MAE over last 800 batches)\n",
      "------------------------------------------------------------\n"
     ]
    },
    {
     "name": "stderr",
     "output_type": "stream",
     "text": [
      "Batch calculation at epoch 65.: 1608it [00:40, 44.27it/s]"
     ]
    },
    {
     "name": "stdout",
     "output_type": "stream",
     "text": [
      "------------------------------------------------------------\n",
      "Epoch 65, batch 1599:\n",
      "Average original gradient norm: 0.4008499607630074 (over last 800 batches)\n",
      "Average clipped gradient norm: 0.39767277585342525 (over last 800 batches)\n",
      "Running average global loss: 0.4592650330066681 (over last 800 batches)\n",
      "Running average activity prediction loss: 0.2988548815995455 (Cross Entropy over last 800 batches)\n",
      "Running average time till next event prediction loss: 0.160410151258111 (MAE over last 800 batches)\n",
      "------------------------------------------------------------\n"
     ]
    },
    {
     "name": "stderr",
     "output_type": "stream",
     "text": [
      "Batch calculation at epoch 65.: 2407it [01:01, 37.83it/s]"
     ]
    },
    {
     "name": "stdout",
     "output_type": "stream",
     "text": [
      "------------------------------------------------------------\n",
      "Epoch 65, batch 2399:\n",
      "Average original gradient norm: 0.4319877916947007 (over last 800 batches)\n",
      "Average clipped gradient norm: 0.40694661278277633 (over last 800 batches)\n",
      "Running average global loss: 0.45798091441392896 (over last 800 batches)\n",
      "Running average activity prediction loss: 0.2985534158349037 (Cross Entropy over last 800 batches)\n",
      "Running average time till next event prediction loss: 0.15942749816924334 (MAE over last 800 batches)\n",
      "------------------------------------------------------------\n"
     ]
    },
    {
     "name": "stderr",
     "output_type": "stream",
     "text": [
      "Batch calculation at epoch 65.: 3207it [01:22, 44.22it/s]"
     ]
    },
    {
     "name": "stdout",
     "output_type": "stream",
     "text": [
      "------------------------------------------------------------\n",
      "Epoch 65, batch 3199:\n",
      "Average original gradient norm: 0.3943016802333295 (over last 800 batches)\n",
      "Average clipped gradient norm: 0.39405718898400666 (over last 800 batches)\n",
      "Running average global loss: 0.4592883547022939 (over last 800 batches)\n",
      "Running average activity prediction loss: 0.2996880454570055 (Cross Entropy over last 800 batches)\n",
      "Running average time till next event prediction loss: 0.1596003096085042 (MAE over last 800 batches)\n",
      "------------------------------------------------------------\n"
     ]
    },
    {
     "name": "stderr",
     "output_type": "stream",
     "text": [
      "Batch calculation at epoch 65.: 4003it [01:42, 45.63it/s]"
     ]
    },
    {
     "name": "stdout",
     "output_type": "stream",
     "text": [
      "------------------------------------------------------------\n",
      "Epoch 65, batch 3999:\n",
      "Average original gradient norm: 0.40486023848876357 (over last 800 batches)\n",
      "Average clipped gradient norm: 0.4033806339465082 (over last 800 batches)\n",
      "Running average global loss: 0.45772281266748904 (over last 800 batches)\n",
      "Running average activity prediction loss: 0.29850384678691627 (Cross Entropy over last 800 batches)\n",
      "Running average time till next event prediction loss: 0.15921896522864698 (MAE over last 800 batches)\n",
      "------------------------------------------------------------\n"
     ]
    },
    {
     "name": "stderr",
     "output_type": "stream",
     "text": [
      "Batch calculation at epoch 65.: 4798it [02:01, 39.58it/s]\n"
     ]
    },
    {
     "name": "stdout",
     "output_type": "stream",
     "text": [
      "=======================================\n",
      "End of epoch 65\n",
      "=======================================\n",
      "Running average global loss: 0.4593113225325942 (over last 800 batches)\n",
      "Running average activity prediction loss: 0.2990707518905401 (Cross Entropy over last 800 batches)\n",
      "Running average time till next event prediction loss: 0.1602405713312328 (MAE over last 800 batches)\n"
     ]
    },
    {
     "name": "stderr",
     "output_type": "stream",
     "text": [
      "Validation batch calculation: 72it [01:06,  1.09it/s]\n"
     ]
    },
    {
     "name": "stdout",
     "output_type": "stream",
     "text": [
      "Avg MAE TTNE prediction validation set: 0.20618148148059845 (standardized) ; 763.6028645833334 (minutes)'\n",
      "Avg 1-(normalized) DL distance acitivty suffix prediction validation set: 0.26743629574775696\n",
      "Percentage of suffixes predicted to END: too early - 0.01978197505750971 ; right moment - 0.09771531157634628 ; too late - 0.882502713366144\n",
      "Too early instances - avg amount of events too early: 8.090752601623535\n",
      "Too late instances - avg amount of events too late: 46.209632873535156\n",
      "Avg absolute amount of events predicted too early / too late: 40.94017791748047\n",
      "Avg MAE RRT prediction validation set:  12012.222916666668 (minutes)'\n",
      " \n",
      "------------------------------------\n",
      "EPOCH 66:\n",
      "____________________________________\n"
     ]
    },
    {
     "name": "stderr",
     "output_type": "stream",
     "text": [
      "Batch calculation at epoch 66.: 808it [00:15, 54.29it/s]"
     ]
    },
    {
     "name": "stdout",
     "output_type": "stream",
     "text": [
      "------------------------------------------------------------\n",
      "Epoch 66, batch 799:\n",
      "Average original gradient norm: 0.38641571659594776 (over last 800 batches)\n",
      "Average clipped gradient norm: 0.38641571659594776 (over last 800 batches)\n",
      "Running average global loss: 0.458051753975451 (over last 800 batches)\n",
      "Running average activity prediction loss: 0.29872817389667033 (Cross Entropy over last 800 batches)\n",
      "Running average time till next event prediction loss: 0.1593235801998526 (MAE over last 800 batches)\n",
      "------------------------------------------------------------\n"
     ]
    },
    {
     "name": "stderr",
     "output_type": "stream",
     "text": [
      "Batch calculation at epoch 66.: 1608it [00:28, 59.25it/s]"
     ]
    },
    {
     "name": "stdout",
     "output_type": "stream",
     "text": [
      "------------------------------------------------------------\n",
      "Epoch 66, batch 1599:\n",
      "Average original gradient norm: 0.3958621402457356 (over last 800 batches)\n",
      "Average clipped gradient norm: 0.3899269511178136 (over last 800 batches)\n",
      "Running average global loss: 0.4579849622771144 (over last 800 batches)\n",
      "Running average activity prediction loss: 0.2987477318197489 (Cross Entropy over last 800 batches)\n",
      "Running average time till next event prediction loss: 0.15923723071813584 (MAE over last 800 batches)\n",
      "------------------------------------------------------------\n"
     ]
    },
    {
     "name": "stderr",
     "output_type": "stream",
     "text": [
      "Batch calculation at epoch 66.: 2404it [00:45, 44.93it/s]"
     ]
    },
    {
     "name": "stdout",
     "output_type": "stream",
     "text": [
      "------------------------------------------------------------\n",
      "Epoch 66, batch 2399:\n",
      "Average original gradient norm: 0.3945849771052599 (over last 800 batches)\n",
      "Average clipped gradient norm: 0.3900090811401606 (over last 800 batches)\n",
      "Running average global loss: 0.4574442595988512 (over last 800 batches)\n",
      "Running average activity prediction loss: 0.298774404078722 (Cross Entropy over last 800 batches)\n",
      "Running average time till next event prediction loss: 0.15866985562257468 (MAE over last 800 batches)\n",
      "------------------------------------------------------------\n"
     ]
    },
    {
     "name": "stderr",
     "output_type": "stream",
     "text": [
      "Batch calculation at epoch 66.: 3205it [01:03, 47.58it/s]"
     ]
    },
    {
     "name": "stdout",
     "output_type": "stream",
     "text": [
      "------------------------------------------------------------\n",
      "Epoch 66, batch 3199:\n",
      "Average original gradient norm: 0.39391093207523226 (over last 800 batches)\n",
      "Average clipped gradient norm: 0.39391093207523226 (over last 800 batches)\n",
      "Running average global loss: 0.4596530881896615 (over last 800 batches)\n",
      "Running average activity prediction loss: 0.29931674659252167 (Cross Entropy over last 800 batches)\n",
      "Running average time till next event prediction loss: 0.16033634097315372 (MAE over last 800 batches)\n",
      "------------------------------------------------------------\n"
     ]
    },
    {
     "name": "stderr",
     "output_type": "stream",
     "text": [
      "Batch calculation at epoch 66.: 4008it [01:21, 47.79it/s]"
     ]
    },
    {
     "name": "stdout",
     "output_type": "stream",
     "text": [
      "------------------------------------------------------------\n",
      "Epoch 66, batch 3999:\n",
      "Average original gradient norm: 0.39232531292364003 (over last 800 batches)\n",
      "Average clipped gradient norm: 0.39232531292364003 (over last 800 batches)\n",
      "Running average global loss: 0.45950171649456023 (over last 800 batches)\n",
      "Running average activity prediction loss: 0.2995884818211198 (Cross Entropy over last 800 batches)\n",
      "Running average time till next event prediction loss: 0.15991323444992303 (MAE over last 800 batches)\n",
      "------------------------------------------------------------\n"
     ]
    },
    {
     "name": "stderr",
     "output_type": "stream",
     "text": [
      "Batch calculation at epoch 66.: 4798it [01:38, 48.70it/s]\n"
     ]
    },
    {
     "name": "stdout",
     "output_type": "stream",
     "text": [
      "=======================================\n",
      "End of epoch 66\n",
      "=======================================\n",
      "Running average global loss: 0.45900155398994685 (over last 800 batches)\n",
      "Running average activity prediction loss: 0.29837741315364835 (Cross Entropy over last 800 batches)\n",
      "Running average time till next event prediction loss: 0.16062414049170912 (MAE over last 800 batches)\n"
     ]
    },
    {
     "name": "stderr",
     "output_type": "stream",
     "text": [
      "Validation batch calculation: 72it [00:51,  1.39it/s]\n"
     ]
    },
    {
     "name": "stdout",
     "output_type": "stream",
     "text": [
      "Avg MAE TTNE prediction validation set: 0.20625238120555878 (standardized) ; 763.8182942708333 (minutes)'\n",
      "Avg 1-(normalized) DL distance acitivty suffix prediction validation set: 0.2673085331916809\n",
      "Percentage of suffixes predicted to END: too early - 0.022457797770602812 ; right moment - 0.09874604940715509 ; too late - 0.8787961528222421\n",
      "Too early instances - avg amount of events too early: 8.1218843460083\n",
      "Too late instances - avg amount of events too late: 47.64510726928711\n",
      "Avg absolute amount of events predicted too early / too late: 42.052738189697266\n",
      "Avg MAE RRT prediction validation set:  11953.733333333334 (minutes)'\n",
      " \n",
      "------------------------------------\n",
      "EPOCH 67:\n",
      "____________________________________\n"
     ]
    },
    {
     "name": "stderr",
     "output_type": "stream",
     "text": [
      "Batch calculation at epoch 67.: 806it [00:20, 46.63it/s]"
     ]
    },
    {
     "name": "stdout",
     "output_type": "stream",
     "text": [
      "------------------------------------------------------------\n",
      "Epoch 67, batch 799:\n",
      "Average original gradient norm: 0.39938522774726154 (over last 800 batches)\n",
      "Average clipped gradient norm: 0.39938522774726154 (over last 800 batches)\n",
      "Running average global loss: 0.458884602971375 (over last 800 batches)\n",
      "Running average activity prediction loss: 0.2992903923243284 (Cross Entropy over last 800 batches)\n",
      "Running average time till next event prediction loss: 0.15959421031177043 (MAE over last 800 batches)\n",
      "------------------------------------------------------------\n"
     ]
    },
    {
     "name": "stderr",
     "output_type": "stream",
     "text": [
      "Batch calculation at epoch 67.: 1606it [00:37, 46.69it/s]"
     ]
    },
    {
     "name": "stdout",
     "output_type": "stream",
     "text": [
      "------------------------------------------------------------\n",
      "Epoch 67, batch 1599:\n",
      "Average original gradient norm: 0.38858871717005966 (over last 800 batches)\n",
      "Average clipped gradient norm: 0.38858871717005966 (over last 800 batches)\n",
      "Running average global loss: 0.4586827497556806 (over last 800 batches)\n",
      "Running average activity prediction loss: 0.2988044714555144 (Cross Entropy over last 800 batches)\n",
      "Running average time till next event prediction loss: 0.15987827895209195 (MAE over last 800 batches)\n",
      "------------------------------------------------------------\n"
     ]
    },
    {
     "name": "stderr",
     "output_type": "stream",
     "text": [
      "Batch calculation at epoch 67.: 2409it [00:54, 46.69it/s]"
     ]
    },
    {
     "name": "stdout",
     "output_type": "stream",
     "text": [
      "------------------------------------------------------------\n",
      "Epoch 67, batch 2399:\n",
      "Average original gradient norm: 0.3853502202406526 (over last 800 batches)\n",
      "Average clipped gradient norm: 0.3853502202406526 (over last 800 batches)\n",
      "Running average global loss: 0.4583106120303273 (over last 800 batches)\n",
      "Running average activity prediction loss: 0.29854360833764076 (Cross Entropy over last 800 batches)\n",
      "Running average time till next event prediction loss: 0.1597670033760369 (MAE over last 800 batches)\n",
      "------------------------------------------------------------\n"
     ]
    },
    {
     "name": "stderr",
     "output_type": "stream",
     "text": [
      "Batch calculation at epoch 67.: 3209it [01:12, 46.83it/s]"
     ]
    },
    {
     "name": "stdout",
     "output_type": "stream",
     "text": [
      "------------------------------------------------------------\n",
      "Epoch 67, batch 3199:\n",
      "Average original gradient norm: 0.39588492857292296 (over last 800 batches)\n",
      "Average clipped gradient norm: 0.3931318971700966 (over last 800 batches)\n",
      "Running average global loss: 0.4580697120726109 (over last 800 batches)\n",
      "Running average activity prediction loss: 0.29835630364716054 (Cross Entropy over last 800 batches)\n",
      "Running average time till next event prediction loss: 0.15971340811811388 (MAE over last 800 batches)\n",
      "------------------------------------------------------------\n"
     ]
    },
    {
     "name": "stderr",
     "output_type": "stream",
     "text": [
      "Batch calculation at epoch 67.: 4007it [01:29, 46.94it/s]"
     ]
    },
    {
     "name": "stdout",
     "output_type": "stream",
     "text": [
      "------------------------------------------------------------\n",
      "Epoch 67, batch 3999:\n",
      "Average original gradient norm: 0.382841531727463 (over last 800 batches)\n",
      "Average clipped gradient norm: 0.382841531727463 (over last 800 batches)\n",
      "Running average global loss: 0.45898791559040547 (over last 800 batches)\n",
      "Running average activity prediction loss: 0.29901009183377025 (Cross Entropy over last 800 batches)\n",
      "Running average time till next event prediction loss: 0.1599778239056468 (MAE over last 800 batches)\n",
      "------------------------------------------------------------\n"
     ]
    },
    {
     "name": "stderr",
     "output_type": "stream",
     "text": [
      "Batch calculation at epoch 67.: 4798it [01:46, 45.12it/s]\n"
     ]
    },
    {
     "name": "stdout",
     "output_type": "stream",
     "text": [
      "=======================================\n",
      "End of epoch 67\n",
      "=======================================\n",
      "Running average global loss: 0.45826746214181185 (over last 800 batches)\n",
      "Running average activity prediction loss: 0.29913192849606274 (Cross Entropy over last 800 batches)\n",
      "Running average time till next event prediction loss: 0.15913553341291845 (MAE over last 800 batches)\n"
     ]
    },
    {
     "name": "stderr",
     "output_type": "stream",
     "text": [
      "Validation batch calculation: 72it [00:41,  1.75it/s]\n"
     ]
    },
    {
     "name": "stdout",
     "output_type": "stream",
     "text": [
      "Avg MAE TTNE prediction validation set: 0.20615214109420776 (standardized) ; 763.3524088541667 (minutes)'\n",
      "Avg 1-(normalized) DL distance acitivty suffix prediction validation set: 0.2566046714782715\n",
      "Percentage of suffixes predicted to END: too early - 0.022034580912919717 ; right moment - 0.09842522372471792 ; too late - 0.8795401953623624\n",
      "Too early instances - avg amount of events too early: 8.17781925201416\n",
      "Too late instances - avg amount of events too late: 51.61970520019531\n",
      "Avg absolute amount of events predicted too early / too late: 45.5817985534668\n",
      "Avg MAE RRT prediction validation set:  11948.213541666666 (minutes)'\n",
      " \n",
      "------------------------------------\n",
      "EPOCH 68:\n",
      "____________________________________\n"
     ]
    },
    {
     "name": "stderr",
     "output_type": "stream",
     "text": [
      "Batch calculation at epoch 68.: 811it [00:10, 72.80it/s]"
     ]
    },
    {
     "name": "stdout",
     "output_type": "stream",
     "text": [
      "------------------------------------------------------------\n",
      "Epoch 68, batch 799:\n",
      "Average original gradient norm: 0.39186337994411585 (over last 800 batches)\n",
      "Average clipped gradient norm: 0.39186337994411585 (over last 800 batches)\n",
      "Running average global loss: 0.4588345096260309 (over last 800 batches)\n",
      "Running average activity prediction loss: 0.2987531379237771 (Cross Entropy over last 800 batches)\n",
      "Running average time till next event prediction loss: 0.16008137159980834 (MAE over last 800 batches)\n",
      "------------------------------------------------------------\n"
     ]
    },
    {
     "name": "stderr",
     "output_type": "stream",
     "text": [
      "Batch calculation at epoch 68.: 1611it [00:21, 79.17it/s]"
     ]
    },
    {
     "name": "stdout",
     "output_type": "stream",
     "text": [
      "------------------------------------------------------------\n",
      "Epoch 68, batch 1599:\n",
      "Average original gradient norm: 0.41342152282595634 (over last 800 batches)\n",
      "Average clipped gradient norm: 0.4058642017841339 (over last 800 batches)\n",
      "Running average global loss: 0.4569761770963669 (over last 800 batches)\n",
      "Running average activity prediction loss: 0.29888611763715744 (Cross Entropy over last 800 batches)\n",
      "Running average time till next event prediction loss: 0.15809006011113524 (MAE over last 800 batches)\n",
      "------------------------------------------------------------\n"
     ]
    },
    {
     "name": "stderr",
     "output_type": "stream",
     "text": [
      "Batch calculation at epoch 68.: 2409it [00:34, 60.84it/s]"
     ]
    },
    {
     "name": "stdout",
     "output_type": "stream",
     "text": [
      "------------------------------------------------------------\n",
      "Epoch 68, batch 2399:\n",
      "Average original gradient norm: 0.38846754398196937 (over last 800 batches)\n",
      "Average clipped gradient norm: 0.38531083803623917 (over last 800 batches)\n",
      "Running average global loss: 0.4582592522352934 (over last 800 batches)\n",
      "Running average activity prediction loss: 0.29896771229803565 (Cross Entropy over last 800 batches)\n",
      "Running average time till next event prediction loss: 0.159291539946571 (MAE over last 800 batches)\n",
      "------------------------------------------------------------\n"
     ]
    },
    {
     "name": "stderr",
     "output_type": "stream",
     "text": [
      "Batch calculation at epoch 68.: 3209it [00:47, 57.32it/s]"
     ]
    },
    {
     "name": "stdout",
     "output_type": "stream",
     "text": [
      "------------------------------------------------------------\n",
      "Epoch 68, batch 3199:\n",
      "Average original gradient norm: 0.3919934812374413 (over last 800 batches)\n",
      "Average clipped gradient norm: 0.39143373237922785 (over last 800 batches)\n",
      "Running average global loss: 0.45900637336075306 (over last 800 batches)\n",
      "Running average activity prediction loss: 0.29904967032372953 (Cross Entropy over last 800 batches)\n",
      "Running average time till next event prediction loss: 0.15995670285075902 (MAE over last 800 batches)\n",
      "------------------------------------------------------------\n"
     ]
    },
    {
     "name": "stderr",
     "output_type": "stream",
     "text": [
      "Batch calculation at epoch 68.: 4009it [01:02, 53.78it/s]"
     ]
    },
    {
     "name": "stdout",
     "output_type": "stream",
     "text": [
      "------------------------------------------------------------\n",
      "Epoch 68, batch 3999:\n",
      "Average original gradient norm: 0.3918640662357211 (over last 800 batches)\n",
      "Average clipped gradient norm: 0.3918640662357211 (over last 800 batches)\n",
      "Running average global loss: 0.45840422172099354 (over last 800 batches)\n",
      "Running average activity prediction loss: 0.29869531739503147 (Cross Entropy over last 800 batches)\n",
      "Running average time till next event prediction loss: 0.159708904735744 (MAE over last 800 batches)\n",
      "------------------------------------------------------------\n"
     ]
    },
    {
     "name": "stderr",
     "output_type": "stream",
     "text": [
      "Batch calculation at epoch 68.: 4798it [01:16, 62.40it/s]\n"
     ]
    },
    {
     "name": "stdout",
     "output_type": "stream",
     "text": [
      "=======================================\n",
      "End of epoch 68\n",
      "=======================================\n",
      "Running average global loss: 0.4590590154379606 (over last 800 batches)\n",
      "Running average activity prediction loss: 0.2984216393530369 (Cross Entropy over last 800 batches)\n",
      "Running average time till next event prediction loss: 0.16063737623393537 (MAE over last 800 batches)\n"
     ]
    },
    {
     "name": "stderr",
     "output_type": "stream",
     "text": [
      "Validation batch calculation: 72it [00:35,  2.03it/s]\n"
     ]
    },
    {
     "name": "stdout",
     "output_type": "stream",
     "text": [
      "Avg MAE TTNE prediction validation set: 0.2062031477689743 (standardized) ; 763.6487630208334 (minutes)'\n",
      "Avg 1-(normalized) DL distance acitivty suffix prediction validation set: 0.26104095578193665\n",
      "Percentage of suffixes predicted to END: too early - 0.020860495436766623 ; right moment - 0.098172658825778 ; too late - 0.8809668457374554\n",
      "Too early instances - avg amount of events too early: 8.111910820007324\n",
      "Too late instances - avg amount of events too late: 49.497764587402344\n",
      "Avg absolute amount of events predicted too early / too late: 43.775108337402344\n",
      "Avg MAE RRT prediction validation set:  11958.001041666666 (minutes)'\n",
      " \n",
      "------------------------------------\n",
      "EPOCH 69:\n",
      "____________________________________\n"
     ]
    },
    {
     "name": "stderr",
     "output_type": "stream",
     "text": [
      "Batch calculation at epoch 69.: 807it [00:15, 49.01it/s]"
     ]
    },
    {
     "name": "stdout",
     "output_type": "stream",
     "text": [
      "------------------------------------------------------------\n",
      "Epoch 69, batch 799:\n",
      "Average original gradient norm: 0.3784040183387697 (over last 800 batches)\n",
      "Average clipped gradient norm: 0.3784040183387697 (over last 800 batches)\n",
      "Running average global loss: 0.4577976043149829 (over last 800 batches)\n",
      "Running average activity prediction loss: 0.2984718697890639 (Cross Entropy over last 800 batches)\n",
      "Running average time till next event prediction loss: 0.15932573460973798 (MAE over last 800 batches)\n",
      "------------------------------------------------------------\n"
     ]
    },
    {
     "name": "stderr",
     "output_type": "stream",
     "text": [
      "Batch calculation at epoch 69.: 1610it [00:31, 50.11it/s]"
     ]
    },
    {
     "name": "stdout",
     "output_type": "stream",
     "text": [
      "------------------------------------------------------------\n",
      "Epoch 69, batch 1599:\n",
      "Average original gradient norm: 0.3881687454693019 (over last 800 batches)\n",
      "Average clipped gradient norm: 0.3881687454693019 (over last 800 batches)\n",
      "Running average global loss: 0.45741374816745517 (over last 800 batches)\n",
      "Running average activity prediction loss: 0.2986632835119963 (Cross Entropy over last 800 batches)\n",
      "Running average time till next event prediction loss: 0.1587504641804844 (MAE over last 800 batches)\n",
      "------------------------------------------------------------\n"
     ]
    },
    {
     "name": "stderr",
     "output_type": "stream",
     "text": [
      "Batch calculation at epoch 69.: 2411it [00:46, 49.11it/s]"
     ]
    },
    {
     "name": "stdout",
     "output_type": "stream",
     "text": [
      "------------------------------------------------------------\n",
      "Epoch 69, batch 2399:\n",
      "Average original gradient norm: 0.40118129931390284 (over last 800 batches)\n",
      "Average clipped gradient norm: 0.3994238067418337 (over last 800 batches)\n",
      "Running average global loss: 0.4586216861382127 (over last 800 batches)\n",
      "Running average activity prediction loss: 0.2991257352754474 (Cross Entropy over last 800 batches)\n",
      "Running average time till next event prediction loss: 0.1594959507137537 (MAE over last 800 batches)\n",
      "------------------------------------------------------------\n"
     ]
    },
    {
     "name": "stderr",
     "output_type": "stream",
     "text": [
      "Batch calculation at epoch 69.: 3209it [01:01, 54.08it/s]"
     ]
    },
    {
     "name": "stdout",
     "output_type": "stream",
     "text": [
      "------------------------------------------------------------\n",
      "Epoch 69, batch 3199:\n",
      "Average original gradient norm: 0.38610894408077 (over last 800 batches)\n",
      "Average clipped gradient norm: 0.38610894408077 (over last 800 batches)\n",
      "Running average global loss: 0.4588611814752221 (over last 800 batches)\n",
      "Running average activity prediction loss: 0.2985778258368373 (Cross Entropy over last 800 batches)\n",
      "Running average time till next event prediction loss: 0.1602833556383848 (MAE over last 800 batches)\n",
      "------------------------------------------------------------\n"
     ]
    },
    {
     "name": "stderr",
     "output_type": "stream",
     "text": [
      "Batch calculation at epoch 69.: 4009it [01:16, 54.94it/s]"
     ]
    },
    {
     "name": "stdout",
     "output_type": "stream",
     "text": [
      "------------------------------------------------------------\n",
      "Epoch 69, batch 3999:\n",
      "Average original gradient norm: 0.3904659064300358 (over last 800 batches)\n",
      "Average clipped gradient norm: 0.3904659064300358 (over last 800 batches)\n",
      "Running average global loss: 0.459162506647408 (over last 800 batches)\n",
      "Running average activity prediction loss: 0.29879649098962546 (Cross Entropy over last 800 batches)\n",
      "Running average time till next event prediction loss: 0.16036601649597287 (MAE over last 800 batches)\n",
      "------------------------------------------------------------\n"
     ]
    },
    {
     "name": "stderr",
     "output_type": "stream",
     "text": [
      "Batch calculation at epoch 69.: 4798it [01:31, 52.62it/s]\n"
     ]
    },
    {
     "name": "stdout",
     "output_type": "stream",
     "text": [
      "=======================================\n",
      "End of epoch 69\n",
      "=======================================\n",
      "Running average global loss: 0.45842476163059476 (over last 800 batches)\n",
      "Running average activity prediction loss: 0.29889656957238914 (Cross Entropy over last 800 batches)\n",
      "Running average time till next event prediction loss: 0.15952819131314755 (MAE over last 800 batches)\n"
     ]
    },
    {
     "name": "stderr",
     "output_type": "stream",
     "text": [
      "Validation batch calculation: 72it [00:35,  2.02it/s]\n"
     ]
    },
    {
     "name": "stdout",
     "output_type": "stream",
     "text": [
      "Avg MAE TTNE prediction validation set: 0.2062191665172577 (standardized) ; 763.7283854166667 (minutes)'\n",
      "Avg 1-(normalized) DL distance acitivty suffix prediction validation set: 0.2648932933807373\n",
      "Percentage of suffixes predicted to END: too early - 0.022369058752056355 ; right moment - 0.09879383195560319 ; too late - 0.8788371092923405\n",
      "Too early instances - avg amount of events too early: 8.182483673095703\n",
      "Too late instances - avg amount of events too late: 48.7916374206543\n",
      "Avg absolute amount of events predicted too early / too late: 43.06293487548828\n",
      "Avg MAE RRT prediction validation set:  11962.789583333333 (minutes)'\n",
      " \n",
      "------------------------------------\n",
      "EPOCH 70:\n",
      "____________________________________\n"
     ]
    },
    {
     "name": "stderr",
     "output_type": "stream",
     "text": [
      "Batch calculation at epoch 70.: 808it [00:17, 45.79it/s]"
     ]
    },
    {
     "name": "stdout",
     "output_type": "stream",
     "text": [
      "------------------------------------------------------------\n",
      "Epoch 70, batch 799:\n",
      "Average original gradient norm: 0.39129152687266466 (over last 800 batches)\n",
      "Average clipped gradient norm: 0.39129152687266466 (over last 800 batches)\n",
      "Running average global loss: 0.45914444666355847 (over last 800 batches)\n",
      "Running average activity prediction loss: 0.2991789022833109 (Cross Entropy over last 800 batches)\n",
      "Running average time till next event prediction loss: 0.15996554483659564 (MAE over last 800 batches)\n",
      "------------------------------------------------------------\n"
     ]
    },
    {
     "name": "stderr",
     "output_type": "stream",
     "text": [
      "Batch calculation at epoch 70.: 1608it [00:34, 46.29it/s]"
     ]
    },
    {
     "name": "stdout",
     "output_type": "stream",
     "text": [
      "------------------------------------------------------------\n",
      "Epoch 70, batch 1599:\n",
      "Average original gradient norm: 0.38963165940716865 (over last 800 batches)\n",
      "Average clipped gradient norm: 0.38963165940716865 (over last 800 batches)\n",
      "Running average global loss: 0.4579215497523546 (over last 800 batches)\n",
      "Running average activity prediction loss: 0.2985817939788103 (Cross Entropy over last 800 batches)\n",
      "Running average time till next event prediction loss: 0.15933975610882045 (MAE over last 800 batches)\n",
      "------------------------------------------------------------\n"
     ]
    },
    {
     "name": "stderr",
     "output_type": "stream",
     "text": [
      "Batch calculation at epoch 70.: 2405it [00:52, 46.52it/s]"
     ]
    },
    {
     "name": "stdout",
     "output_type": "stream",
     "text": [
      "------------------------------------------------------------\n",
      "Epoch 70, batch 2399:\n",
      "Average original gradient norm: 0.40837153071537613 (over last 800 batches)\n",
      "Average clipped gradient norm: 0.3960595033504069 (over last 800 batches)\n",
      "Running average global loss: 0.45798081092536447 (over last 800 batches)\n",
      "Running average activity prediction loss: 0.29847511734813453 (Cross Entropy over last 800 batches)\n",
      "Running average time till next event prediction loss: 0.15950569371692835 (MAE over last 800 batches)\n",
      "------------------------------------------------------------\n"
     ]
    },
    {
     "name": "stderr",
     "output_type": "stream",
     "text": [
      "Batch calculation at epoch 70.: 3205it [01:09, 46.34it/s]"
     ]
    },
    {
     "name": "stdout",
     "output_type": "stream",
     "text": [
      "------------------------------------------------------------\n",
      "Epoch 70, batch 3199:\n",
      "Average original gradient norm: 0.3949784824252129 (over last 800 batches)\n",
      "Average clipped gradient norm: 0.3949784824252129 (over last 800 batches)\n",
      "Running average global loss: 0.45781829945743086 (over last 800 batches)\n",
      "Running average activity prediction loss: 0.2984967489168048 (Cross Entropy over last 800 batches)\n",
      "Running average time till next event prediction loss: 0.15932155085727573 (MAE over last 800 batches)\n",
      "------------------------------------------------------------\n"
     ]
    },
    {
     "name": "stderr",
     "output_type": "stream",
     "text": [
      "Batch calculation at epoch 70.: 4008it [01:26, 46.04it/s]"
     ]
    },
    {
     "name": "stdout",
     "output_type": "stream",
     "text": [
      "------------------------------------------------------------\n",
      "Epoch 70, batch 3999:\n",
      "Average original gradient norm: 0.39981130668893455 (over last 800 batches)\n",
      "Average clipped gradient norm: 0.3988941676355898 (over last 800 batches)\n",
      "Running average global loss: 0.45871932301670315 (over last 800 batches)\n",
      "Running average activity prediction loss: 0.2984499927982688 (Cross Entropy over last 800 batches)\n",
      "Running average time till next event prediction loss: 0.1602693298831582 (MAE over last 800 batches)\n",
      "------------------------------------------------------------\n"
     ]
    },
    {
     "name": "stderr",
     "output_type": "stream",
     "text": [
      "Batch calculation at epoch 70.: 4798it [01:43, 46.20it/s]\n"
     ]
    },
    {
     "name": "stdout",
     "output_type": "stream",
     "text": [
      "=======================================\n",
      "End of epoch 70\n",
      "=======================================\n",
      "Running average global loss: 0.4582000937312841 (over last 800 batches)\n",
      "Running average activity prediction loss: 0.2986356518790126 (Cross Entropy over last 800 batches)\n",
      "Running average time till next event prediction loss: 0.1595644420478493 (MAE over last 800 batches)\n"
     ]
    },
    {
     "name": "stderr",
     "output_type": "stream",
     "text": [
      "Validation batch calculation: 72it [00:42,  1.70it/s]\n"
     ]
    },
    {
     "name": "stdout",
     "output_type": "stream",
     "text": [
      "Avg MAE TTNE prediction validation set: 0.20616795122623444 (standardized) ; 763.5213541666667 (minutes)'\n",
      "Avg 1-(normalized) DL distance acitivty suffix prediction validation set: 0.2610946595668793\n",
      "Percentage of suffixes predicted to END: too early - 0.023488535601411634 ; right moment - 0.09911465763804037 ; too late - 0.877396806760548\n",
      "Too early instances - avg amount of events too early: 8.170008659362793\n",
      "Too late instances - avg amount of events too late: 50.96178436279297\n",
      "Avg absolute amount of events predicted too early / too late: 44.905609130859375\n",
      "Avg MAE RRT prediction validation set:  11931.280208333334 (minutes)'\n",
      " \n",
      "------------------------------------\n",
      "EPOCH 71:\n",
      "____________________________________\n"
     ]
    },
    {
     "name": "stderr",
     "output_type": "stream",
     "text": [
      "Batch calculation at epoch 71.: 809it [00:17, 46.73it/s]"
     ]
    },
    {
     "name": "stdout",
     "output_type": "stream",
     "text": [
      "------------------------------------------------------------\n",
      "Epoch 71, batch 799:\n",
      "Average original gradient norm: 0.3876566864736378 (over last 800 batches)\n",
      "Average clipped gradient norm: 0.3876566864736378 (over last 800 batches)\n",
      "Running average global loss: 0.45651995968073605 (over last 800 batches)\n",
      "Running average activity prediction loss: 0.29712149169296026 (Cross Entropy over last 800 batches)\n",
      "Running average time till next event prediction loss: 0.1593984682764858 (MAE over last 800 batches)\n",
      "------------------------------------------------------------\n"
     ]
    },
    {
     "name": "stderr",
     "output_type": "stream",
     "text": [
      "Batch calculation at epoch 71.: 1607it [00:34, 46.81it/s]"
     ]
    },
    {
     "name": "stdout",
     "output_type": "stream",
     "text": [
      "------------------------------------------------------------\n",
      "Epoch 71, batch 1599:\n",
      "Average original gradient norm: 0.3900513258576393 (over last 800 batches)\n",
      "Average clipped gradient norm: 0.3900513258576393 (over last 800 batches)\n",
      "Running average global loss: 0.4577527302876115 (over last 800 batches)\n",
      "Running average activity prediction loss: 0.2984564244747162 (Cross Entropy over last 800 batches)\n",
      "Running average time till next event prediction loss: 0.1592963057477027 (MAE over last 800 batches)\n",
      "------------------------------------------------------------\n"
     ]
    },
    {
     "name": "stderr",
     "output_type": "stream",
     "text": [
      "Batch calculation at epoch 71.: 2407it [00:51, 46.83it/s]"
     ]
    },
    {
     "name": "stdout",
     "output_type": "stream",
     "text": [
      "------------------------------------------------------------\n",
      "Epoch 71, batch 2399:\n",
      "Average original gradient norm: 0.3919828570634127 (over last 800 batches)\n",
      "Average clipped gradient norm: 0.3919828570634127 (over last 800 batches)\n",
      "Running average global loss: 0.4582691043615341 (over last 800 batches)\n",
      "Running average activity prediction loss: 0.2991124983876944 (Cross Entropy over last 800 batches)\n",
      "Running average time till next event prediction loss: 0.15915660690516234 (MAE over last 800 batches)\n",
      "------------------------------------------------------------\n"
     ]
    },
    {
     "name": "stderr",
     "output_type": "stream",
     "text": [
      "Batch calculation at epoch 71.: 3209it [01:09, 46.42it/s]"
     ]
    },
    {
     "name": "stdout",
     "output_type": "stream",
     "text": [
      "------------------------------------------------------------\n",
      "Epoch 71, batch 3199:\n",
      "Average original gradient norm: 0.39258098401129243 (over last 800 batches)\n",
      "Average clipped gradient norm: 0.39258098401129243 (over last 800 batches)\n",
      "Running average global loss: 0.4596079136803746 (over last 800 batches)\n",
      "Running average activity prediction loss: 0.29929954528808594 (Cross Entropy over last 800 batches)\n",
      "Running average time till next event prediction loss: 0.16030836829915643 (MAE over last 800 batches)\n",
      "------------------------------------------------------------\n"
     ]
    },
    {
     "name": "stderr",
     "output_type": "stream",
     "text": [
      "Batch calculation at epoch 71.: 4009it [01:26, 46.70it/s]"
     ]
    },
    {
     "name": "stdout",
     "output_type": "stream",
     "text": [
      "------------------------------------------------------------\n",
      "Epoch 71, batch 3999:\n",
      "Average original gradient norm: 0.3930745760910213 (over last 800 batches)\n",
      "Average clipped gradient norm: 0.3930745760910213 (over last 800 batches)\n",
      "Running average global loss: 0.45884329225867987 (over last 800 batches)\n",
      "Running average activity prediction loss: 0.2991300243511796 (Cross Entropy over last 800 batches)\n",
      "Running average time till next event prediction loss: 0.15971326774917544 (MAE over last 800 batches)\n",
      "------------------------------------------------------------\n"
     ]
    },
    {
     "name": "stderr",
     "output_type": "stream",
     "text": [
      "Batch calculation at epoch 71.: 4798it [01:43, 46.44it/s]\n"
     ]
    },
    {
     "name": "stdout",
     "output_type": "stream",
     "text": [
      "=======================================\n",
      "End of epoch 71\n",
      "=======================================\n",
      "Running average global loss: 0.4585086941346526 (over last 800 batches)\n",
      "Running average activity prediction loss: 0.29851179383695126 (Cross Entropy over last 800 batches)\n",
      "Running average time till next event prediction loss: 0.159996900819242 (MAE over last 800 batches)\n"
     ]
    },
    {
     "name": "stderr",
     "output_type": "stream",
     "text": [
      "Validation batch calculation: 72it [00:41,  1.72it/s]\n"
     ]
    },
    {
     "name": "stdout",
     "output_type": "stream",
     "text": [
      "Avg MAE TTNE prediction validation set: 0.2062646746635437 (standardized) ; 763.9466796875 (minutes)'\n",
      "Avg 1-(normalized) DL distance acitivty suffix prediction validation set: 0.27614644169807434\n",
      "Percentage of suffixes predicted to END: too early - 0.024369099708526454 ; right moment - 0.09933991822358137 ; too late - 0.8762909820678921\n",
      "Too early instances - avg amount of events too early: 8.165826797485352\n",
      "Too late instances - avg amount of events too late: 45.12545394897461\n",
      "Avg absolute amount of events predicted too early / too late: 39.74202346801758\n",
      "Avg MAE RRT prediction validation set:  12007.844791666666 (minutes)'\n",
      " \n",
      "------------------------------------\n",
      "EPOCH 72:\n",
      "____________________________________\n"
     ]
    },
    {
     "name": "stderr",
     "output_type": "stream",
     "text": [
      "Batch calculation at epoch 72.: 806it [00:17, 46.49it/s]"
     ]
    },
    {
     "name": "stdout",
     "output_type": "stream",
     "text": [
      "------------------------------------------------------------\n",
      "Epoch 72, batch 799:\n",
      "Average original gradient norm: 0.3908524429053068 (over last 800 batches)\n",
      "Average clipped gradient norm: 0.3908524429053068 (over last 800 batches)\n",
      "Running average global loss: 0.45788052305579185 (over last 800 batches)\n",
      "Running average activity prediction loss: 0.2980990305170417 (Cross Entropy over last 800 batches)\n",
      "Running average time till next event prediction loss: 0.15978149252012372 (MAE over last 800 batches)\n",
      "------------------------------------------------------------\n"
     ]
    },
    {
     "name": "stderr",
     "output_type": "stream",
     "text": [
      "Batch calculation at epoch 72.: 1606it [00:34, 46.45it/s]"
     ]
    },
    {
     "name": "stdout",
     "output_type": "stream",
     "text": [
      "------------------------------------------------------------\n",
      "Epoch 72, batch 1599:\n",
      "Average original gradient norm: 0.39613179391250014 (over last 800 batches)\n",
      "Average clipped gradient norm: 0.3954932630620897 (over last 800 batches)\n",
      "Running average global loss: 0.4586465487629175 (over last 800 batches)\n",
      "Running average activity prediction loss: 0.2992301205545664 (Cross Entropy over last 800 batches)\n",
      "Running average time till next event prediction loss: 0.1594164280500263 (MAE over last 800 batches)\n",
      "------------------------------------------------------------\n"
     ]
    },
    {
     "name": "stderr",
     "output_type": "stream",
     "text": [
      "Batch calculation at epoch 72.: 2405it [00:51, 46.85it/s]"
     ]
    },
    {
     "name": "stdout",
     "output_type": "stream",
     "text": [
      "------------------------------------------------------------\n",
      "Epoch 72, batch 2399:\n",
      "Average original gradient norm: 0.3954353541880846 (over last 800 batches)\n",
      "Average clipped gradient norm: 0.3901609808951616 (over last 800 batches)\n",
      "Running average global loss: 0.45831800639629366 (over last 800 batches)\n",
      "Running average activity prediction loss: 0.29878230653703214 (Cross Entropy over last 800 batches)\n",
      "Running average time till next event prediction loss: 0.15953569990582764 (MAE over last 800 batches)\n",
      "------------------------------------------------------------\n"
     ]
    },
    {
     "name": "stderr",
     "output_type": "stream",
     "text": [
      "Batch calculation at epoch 72.: 3205it [01:09, 42.21it/s]"
     ]
    },
    {
     "name": "stdout",
     "output_type": "stream",
     "text": [
      "------------------------------------------------------------\n",
      "Epoch 72, batch 3199:\n",
      "Average original gradient norm: 0.3869690577499568 (over last 800 batches)\n",
      "Average clipped gradient norm: 0.38627342550083993 (over last 800 batches)\n",
      "Running average global loss: 0.4578695620596409 (over last 800 batches)\n",
      "Running average activity prediction loss: 0.2983694154769182 (Cross Entropy over last 800 batches)\n",
      "Running average time till next event prediction loss: 0.1595001466665417 (MAE over last 800 batches)\n",
      "------------------------------------------------------------\n"
     ]
    },
    {
     "name": "stderr",
     "output_type": "stream",
     "text": [
      "Batch calculation at epoch 72.: 4005it [01:26, 46.65it/s]"
     ]
    },
    {
     "name": "stdout",
     "output_type": "stream",
     "text": [
      "------------------------------------------------------------\n",
      "Epoch 72, batch 3999:\n",
      "Average original gradient norm: 0.38691348081454635 (over last 800 batches)\n",
      "Average clipped gradient norm: 0.38691348081454635 (over last 800 batches)\n",
      "Running average global loss: 0.45803239032626153 (over last 800 batches)\n",
      "Running average activity prediction loss: 0.2984761480242014 (Cross Entropy over last 800 batches)\n",
      "Running average time till next event prediction loss: 0.15955624169670046 (MAE over last 800 batches)\n",
      "------------------------------------------------------------\n"
     ]
    },
    {
     "name": "stderr",
     "output_type": "stream",
     "text": [
      "Batch calculation at epoch 72.: 4798it [01:43, 46.39it/s]\n"
     ]
    },
    {
     "name": "stdout",
     "output_type": "stream",
     "text": [
      "=======================================\n",
      "End of epoch 72\n",
      "=======================================\n",
      "Running average global loss: 0.45822266817092894 (over last 800 batches)\n",
      "Running average activity prediction loss: 0.2981544227153063 (Cross Entropy over last 800 batches)\n",
      "Running average time till next event prediction loss: 0.16006824501790107 (MAE over last 800 batches)\n"
     ]
    },
    {
     "name": "stderr",
     "output_type": "stream",
     "text": [
      "Validation batch calculation: 72it [00:41,  1.73it/s]\n"
     ]
    },
    {
     "name": "stdout",
     "output_type": "stream",
     "text": [
      "Avg MAE TTNE prediction validation set: 0.20620831847190857 (standardized) ; 763.6616536458333 (minutes)'\n",
      "Avg 1-(normalized) DL distance acitivty suffix prediction validation set: 0.2585618197917938\n",
      "Percentage of suffixes predicted to END: too early - 0.02238271090875581 ; right moment - 0.09860270176181082 ; too late - 0.8790145873294334\n",
      "Too early instances - avg amount of events too early: 8.258920669555664\n",
      "Too late instances - avg amount of events too late: 51.25643539428711\n",
      "Avg absolute amount of events predicted too early / too late: 45.240013122558594\n",
      "Avg MAE RRT prediction validation set:  11929.691666666668 (minutes)'\n",
      " \n",
      "------------------------------------\n",
      "EPOCH 73:\n",
      "____________________________________\n"
     ]
    },
    {
     "name": "stderr",
     "output_type": "stream",
     "text": [
      "Batch calculation at epoch 73.: 807it [00:17, 46.60it/s]"
     ]
    },
    {
     "name": "stdout",
     "output_type": "stream",
     "text": [
      "------------------------------------------------------------\n",
      "Epoch 73, batch 799:\n",
      "Average original gradient norm: 0.3950647122040391 (over last 800 batches)\n",
      "Average clipped gradient norm: 0.3950647122040391 (over last 800 batches)\n",
      "Running average global loss: 0.45702801741659643 (over last 800 batches)\n",
      "Running average activity prediction loss: 0.2980701907351613 (Cross Entropy over last 800 batches)\n",
      "Running average time till next event prediction loss: 0.1589578265324235 (MAE over last 800 batches)\n",
      "------------------------------------------------------------\n"
     ]
    },
    {
     "name": "stderr",
     "output_type": "stream",
     "text": [
      "Batch calculation at epoch 73.: 1607it [00:34, 46.38it/s]"
     ]
    },
    {
     "name": "stdout",
     "output_type": "stream",
     "text": [
      "------------------------------------------------------------\n",
      "Epoch 73, batch 1599:\n",
      "Average original gradient norm: 0.3967971735261381 (over last 800 batches)\n",
      "Average clipped gradient norm: 0.39386803751811383 (over last 800 batches)\n",
      "Running average global loss: 0.45749416910111906 (over last 800 batches)\n",
      "Running average activity prediction loss: 0.29870634160935877 (Cross Entropy over last 800 batches)\n",
      "Running average time till next event prediction loss: 0.15878782739862798 (MAE over last 800 batches)\n",
      "------------------------------------------------------------\n"
     ]
    },
    {
     "name": "stderr",
     "output_type": "stream",
     "text": [
      "Batch calculation at epoch 73.: 2409it [00:51, 46.23it/s]"
     ]
    },
    {
     "name": "stdout",
     "output_type": "stream",
     "text": [
      "------------------------------------------------------------\n",
      "Epoch 73, batch 2399:\n",
      "Average original gradient norm: 0.39562892431393265 (over last 800 batches)\n",
      "Average clipped gradient norm: 0.39327991718426347 (over last 800 batches)\n",
      "Running average global loss: 0.45866828061640263 (over last 800 batches)\n",
      "Running average activity prediction loss: 0.2984012271091342 (Cross Entropy over last 800 batches)\n",
      "Running average time till next event prediction loss: 0.1602670536469668 (MAE over last 800 batches)\n",
      "------------------------------------------------------------\n"
     ]
    },
    {
     "name": "stderr",
     "output_type": "stream",
     "text": [
      "Batch calculation at epoch 73.: 3209it [01:09, 45.91it/s]"
     ]
    },
    {
     "name": "stdout",
     "output_type": "stream",
     "text": [
      "------------------------------------------------------------\n",
      "Epoch 73, batch 3199:\n",
      "Average original gradient norm: 0.4056752549484372 (over last 800 batches)\n",
      "Average clipped gradient norm: 0.39880318943411114 (over last 800 batches)\n",
      "Running average global loss: 0.4579622695595026 (over last 800 batches)\n",
      "Running average activity prediction loss: 0.29851535707712173 (Cross Entropy over last 800 batches)\n",
      "Running average time till next event prediction loss: 0.15944691242650152 (MAE over last 800 batches)\n",
      "------------------------------------------------------------\n"
     ]
    },
    {
     "name": "stderr",
     "output_type": "stream",
     "text": [
      "Batch calculation at epoch 73.: 4007it [01:26, 46.91it/s]"
     ]
    },
    {
     "name": "stdout",
     "output_type": "stream",
     "text": [
      "------------------------------------------------------------\n",
      "Epoch 73, batch 3999:\n",
      "Average original gradient norm: 0.39225876023992895 (over last 800 batches)\n",
      "Average clipped gradient norm: 0.39225876023992895 (over last 800 batches)\n",
      "Running average global loss: 0.45807107239961625 (over last 800 batches)\n",
      "Running average activity prediction loss: 0.29845994502305984 (Cross Entropy over last 800 batches)\n",
      "Running average time till next event prediction loss: 0.15961112756282092 (MAE over last 800 batches)\n",
      "------------------------------------------------------------\n"
     ]
    },
    {
     "name": "stderr",
     "output_type": "stream",
     "text": [
      "Batch calculation at epoch 73.: 4798it [01:43, 46.27it/s]\n"
     ]
    },
    {
     "name": "stdout",
     "output_type": "stream",
     "text": [
      "=======================================\n",
      "End of epoch 73\n",
      "=======================================\n",
      "Running average global loss: 0.4592201454937458 (over last 800 batches)\n",
      "Running average activity prediction loss: 0.2987413270398974 (Cross Entropy over last 800 batches)\n",
      "Running average time till next event prediction loss: 0.1604788186494261 (MAE over last 800 batches)\n"
     ]
    },
    {
     "name": "stderr",
     "output_type": "stream",
     "text": [
      "Validation batch calculation: 72it [00:44,  1.61it/s]\n"
     ]
    },
    {
     "name": "stdout",
     "output_type": "stream",
     "text": [
      "Avg MAE TTNE prediction validation set: 0.2061689794063568 (standardized) ; 763.5119791666667 (minutes)'\n",
      "Avg 1-(normalized) DL distance acitivty suffix prediction validation set: 0.26317551732063293\n",
      "Percentage of suffixes predicted to END: too early - 0.023276927172570086 ; right moment - 0.099148788029789 ; too late - 0.8775742847976409\n",
      "Too early instances - avg amount of events too early: 8.194721221923828\n",
      "Too late instances - avg amount of events too late: 49.98305130004883\n",
      "Avg absolute amount of events predicted too early / too late: 44.054588317871094\n",
      "Avg MAE RRT prediction validation set:  11958.471875 (minutes)'\n",
      " \n",
      "------------------------------------\n",
      "EPOCH 74:\n",
      "____________________________________\n"
     ]
    },
    {
     "name": "stderr",
     "output_type": "stream",
     "text": [
      "Batch calculation at epoch 74.: 807it [00:17, 46.29it/s]"
     ]
    },
    {
     "name": "stdout",
     "output_type": "stream",
     "text": [
      "------------------------------------------------------------\n",
      "Epoch 74, batch 799:\n",
      "Average original gradient norm: 0.399692282024771 (over last 800 batches)\n",
      "Average clipped gradient norm: 0.3995445940829814 (over last 800 batches)\n",
      "Running average global loss: 0.4582150272652507 (over last 800 batches)\n",
      "Running average activity prediction loss: 0.29817280031740667 (Cross Entropy over last 800 batches)\n",
      "Running average time till next event prediction loss: 0.16004222741350532 (MAE over last 800 batches)\n",
      "------------------------------------------------------------\n"
     ]
    },
    {
     "name": "stderr",
     "output_type": "stream",
     "text": [
      "Batch calculation at epoch 74.: 1607it [00:35, 45.27it/s]"
     ]
    },
    {
     "name": "stdout",
     "output_type": "stream",
     "text": [
      "------------------------------------------------------------\n",
      "Epoch 74, batch 1599:\n",
      "Average original gradient norm: 0.39712791511788964 (over last 800 batches)\n",
      "Average clipped gradient norm: 0.39712791511788964 (over last 800 batches)\n",
      "Running average global loss: 0.4580357340723276 (over last 800 batches)\n",
      "Running average activity prediction loss: 0.29848261300474405 (Cross Entropy over last 800 batches)\n",
      "Running average time till next event prediction loss: 0.15955312095582486 (MAE over last 800 batches)\n",
      "------------------------------------------------------------\n"
     ]
    },
    {
     "name": "stderr",
     "output_type": "stream",
     "text": [
      "Batch calculation at epoch 74.: 2407it [00:52, 45.48it/s]"
     ]
    },
    {
     "name": "stdout",
     "output_type": "stream",
     "text": [
      "------------------------------------------------------------\n",
      "Epoch 74, batch 2399:\n",
      "Average original gradient norm: 0.45571367954835296 (over last 800 batches)\n",
      "Average clipped gradient norm: 0.3976985638402402 (over last 800 batches)\n",
      "Running average global loss: 0.45821475446224214 (over last 800 batches)\n",
      "Running average activity prediction loss: 0.29833544958382846 (Cross Entropy over last 800 batches)\n",
      "Running average time till next event prediction loss: 0.15987930487841367 (MAE over last 800 batches)\n",
      "------------------------------------------------------------\n"
     ]
    },
    {
     "name": "stderr",
     "output_type": "stream",
     "text": [
      "Batch calculation at epoch 74.: 3208it [01:09, 46.52it/s]"
     ]
    },
    {
     "name": "stdout",
     "output_type": "stream",
     "text": [
      "------------------------------------------------------------\n",
      "Epoch 74, batch 3199:\n",
      "Average original gradient norm: 0.3966333421133459 (over last 800 batches)\n",
      "Average clipped gradient norm: 0.3966333421133459 (over last 800 batches)\n",
      "Running average global loss: 0.4592168816179037 (over last 800 batches)\n",
      "Running average activity prediction loss: 0.2991481700539589 (Cross Entropy over last 800 batches)\n",
      "Running average time till next event prediction loss: 0.16006871148012577 (MAE over last 800 batches)\n",
      "------------------------------------------------------------\n"
     ]
    },
    {
     "name": "stderr",
     "output_type": "stream",
     "text": [
      "Batch calculation at epoch 74.: 4008it [01:27, 46.42it/s]"
     ]
    },
    {
     "name": "stdout",
     "output_type": "stream",
     "text": [
      "------------------------------------------------------------\n",
      "Epoch 74, batch 3999:\n",
      "Average original gradient norm: 0.4007175961136818 (over last 800 batches)\n",
      "Average clipped gradient norm: 0.4007175961136818 (over last 800 batches)\n",
      "Running average global loss: 0.45728844560682774 (over last 800 batches)\n",
      "Running average activity prediction loss: 0.29832120414823293 (Cross Entropy over last 800 batches)\n",
      "Running average time till next event prediction loss: 0.15896724155172706 (MAE over last 800 batches)\n",
      "------------------------------------------------------------\n"
     ]
    },
    {
     "name": "stderr",
     "output_type": "stream",
     "text": [
      "Batch calculation at epoch 74.: 4798it [01:43, 46.14it/s]\n"
     ]
    },
    {
     "name": "stdout",
     "output_type": "stream",
     "text": [
      "=======================================\n",
      "End of epoch 74\n",
      "=======================================\n",
      "Running average global loss: 0.4574117624387145 (over last 800 batches)\n",
      "Running average activity prediction loss: 0.2982076783850789 (Cross Entropy over last 800 batches)\n",
      "Running average time till next event prediction loss: 0.15920408454723656 (MAE over last 800 batches)\n"
     ]
    },
    {
     "name": "stderr",
     "output_type": "stream",
     "text": [
      "Validation batch calculation: 72it [00:42,  1.69it/s]\n"
     ]
    },
    {
     "name": "stdout",
     "output_type": "stream",
     "text": [
      "Avg MAE TTNE prediction validation set: 0.20626163482666016 (standardized) ; 763.93359375 (minutes)'\n",
      "Avg 1-(normalized) DL distance acitivty suffix prediction validation set: 0.26207235455513\n",
      "Percentage of suffixes predicted to END: too early - 0.02114036464910544 ; right moment - 0.09802931118043373 ; too late - 0.8808303241704608\n",
      "Too early instances - avg amount of events too early: 8.08072280883789\n",
      "Too late instances - avg amount of events too late: 49.55870819091797\n",
      "Avg absolute amount of events predicted too early / too late: 43.82364273071289\n",
      "Avg MAE RRT prediction validation set:  11936.919791666667 (minutes)'\n",
      " \n",
      "------------------------------------\n",
      "EPOCH 75:\n",
      "____________________________________\n"
     ]
    },
    {
     "name": "stderr",
     "output_type": "stream",
     "text": [
      "Batch calculation at epoch 75.: 806it [00:17, 37.67it/s]"
     ]
    },
    {
     "name": "stdout",
     "output_type": "stream",
     "text": [
      "------------------------------------------------------------\n",
      "Epoch 75, batch 799:\n",
      "Average original gradient norm: 0.38086390441283585 (over last 800 batches)\n",
      "Average clipped gradient norm: 0.38086390441283585 (over last 800 batches)\n",
      "Running average global loss: 0.45775758527219296 (over last 800 batches)\n",
      "Running average activity prediction loss: 0.2983105604723096 (Cross Entropy over last 800 batches)\n",
      "Running average time till next event prediction loss: 0.1594470250606537 (MAE over last 800 batches)\n",
      "------------------------------------------------------------\n"
     ]
    },
    {
     "name": "stderr",
     "output_type": "stream",
     "text": [
      "Batch calculation at epoch 75.: 1606it [00:35, 46.53it/s]"
     ]
    },
    {
     "name": "stdout",
     "output_type": "stream",
     "text": [
      "------------------------------------------------------------\n",
      "Epoch 75, batch 1599:\n",
      "Average original gradient norm: 0.4247145736031234 (over last 800 batches)\n",
      "Average clipped gradient norm: 0.3930897615663707 (over last 800 batches)\n",
      "Running average global loss: 0.45850180644541977 (over last 800 batches)\n",
      "Running average activity prediction loss: 0.29843484502285716 (Cross Entropy over last 800 batches)\n",
      "Running average time till next event prediction loss: 0.16006696116179228 (MAE over last 800 batches)\n",
      "------------------------------------------------------------\n"
     ]
    },
    {
     "name": "stderr",
     "output_type": "stream",
     "text": [
      "Batch calculation at epoch 75.: 2407it [00:54, 46.57it/s]"
     ]
    },
    {
     "name": "stdout",
     "output_type": "stream",
     "text": [
      "------------------------------------------------------------\n",
      "Epoch 75, batch 2399:\n",
      "Average original gradient norm: 0.40704528348520397 (over last 800 batches)\n",
      "Average clipped gradient norm: 0.4039101708121598 (over last 800 batches)\n",
      "Running average global loss: 0.4576147998124361 (over last 800 batches)\n",
      "Running average activity prediction loss: 0.29834863666445016 (Cross Entropy over last 800 batches)\n",
      "Running average time till next event prediction loss: 0.1592661642562598 (MAE over last 800 batches)\n",
      "------------------------------------------------------------\n"
     ]
    },
    {
     "name": "stderr",
     "output_type": "stream",
     "text": [
      "Batch calculation at epoch 75.: 3207it [01:11, 46.48it/s]"
     ]
    },
    {
     "name": "stdout",
     "output_type": "stream",
     "text": [
      "------------------------------------------------------------\n",
      "Epoch 75, batch 3199:\n",
      "Average original gradient norm: 0.3922376384399831 (over last 800 batches)\n",
      "Average clipped gradient norm: 0.38919780841097235 (over last 800 batches)\n",
      "Running average global loss: 0.4578549284860492 (over last 800 batches)\n",
      "Running average activity prediction loss: 0.2979264046996832 (Cross Entropy over last 800 batches)\n",
      "Running average time till next event prediction loss: 0.15992852435447275 (MAE over last 800 batches)\n",
      "------------------------------------------------------------\n"
     ]
    },
    {
     "name": "stderr",
     "output_type": "stream",
     "text": [
      "Batch calculation at epoch 75.: 4009it [01:28, 46.34it/s]"
     ]
    },
    {
     "name": "stdout",
     "output_type": "stream",
     "text": [
      "------------------------------------------------------------\n",
      "Epoch 75, batch 3999:\n",
      "Average original gradient norm: 0.3899911817535758 (over last 800 batches)\n",
      "Average clipped gradient norm: 0.3899911817535758 (over last 800 batches)\n",
      "Running average global loss: 0.4583386757224798 (over last 800 batches)\n",
      "Running average activity prediction loss: 0.29868225630372763 (Cross Entropy over last 800 batches)\n",
      "Running average time till next event prediction loss: 0.1596564195305109 (MAE over last 800 batches)\n",
      "------------------------------------------------------------\n"
     ]
    },
    {
     "name": "stderr",
     "output_type": "stream",
     "text": [
      "Batch calculation at epoch 75.: 4798it [01:45, 45.49it/s]\n"
     ]
    },
    {
     "name": "stdout",
     "output_type": "stream",
     "text": [
      "=======================================\n",
      "End of epoch 75\n",
      "=======================================\n",
      "Running average global loss: 0.45796537958085537 (over last 800 batches)\n",
      "Running average activity prediction loss: 0.29867780063301325 (Cross Entropy over last 800 batches)\n",
      "Running average time till next event prediction loss: 0.15928757866844534 (MAE over last 800 batches)\n"
     ]
    },
    {
     "name": "stderr",
     "output_type": "stream",
     "text": [
      "Validation batch calculation: 72it [00:41,  1.74it/s]\n"
     ]
    },
    {
     "name": "stdout",
     "output_type": "stream",
     "text": [
      "Avg MAE TTNE prediction validation set: 0.20625142753124237 (standardized) ; 763.87578125 (minutes)'\n",
      "Avg 1-(normalized) DL distance acitivty suffix prediction validation set: 0.2705793082714081\n",
      "Percentage of suffixes predicted to END: too early - 0.021338320921247534 ; right moment - 0.09832965862782173 ; too late - 0.8803320204509307\n",
      "Too early instances - avg amount of events too early: 7.970569610595703\n",
      "Too late instances - avg amount of events too late: 45.858543395996094\n",
      "Avg absolute amount of events predicted too early / too late: 40.54082489013672\n",
      "Avg MAE RRT prediction validation set:  11987.710416666667 (minutes)'\n",
      " \n",
      "------------------------------------\n",
      "EPOCH 76:\n",
      "____________________________________\n"
     ]
    },
    {
     "name": "stderr",
     "output_type": "stream",
     "text": [
      "Batch calculation at epoch 76.: 812it [00:12, 77.90it/s]"
     ]
    },
    {
     "name": "stdout",
     "output_type": "stream",
     "text": [
      "------------------------------------------------------------\n",
      "Epoch 76, batch 799:\n",
      "Average original gradient norm: 0.39866873182356355 (over last 800 batches)\n",
      "Average clipped gradient norm: 0.39866873182356355 (over last 800 batches)\n",
      "Running average global loss: 0.4571756407245994 (over last 800 batches)\n",
      "Running average activity prediction loss: 0.298418207205832 (Cross Entropy over last 800 batches)\n",
      "Running average time till next event prediction loss: 0.15875743405893444 (MAE over last 800 batches)\n",
      "------------------------------------------------------------\n"
     ]
    },
    {
     "name": "stderr",
     "output_type": "stream",
     "text": [
      "Batch calculation at epoch 76.: 1607it [00:23, 66.50it/s]"
     ]
    },
    {
     "name": "stdout",
     "output_type": "stream",
     "text": [
      "------------------------------------------------------------\n",
      "Epoch 76, batch 1599:\n",
      "Average original gradient norm: 0.3959886070713401 (over last 800 batches)\n",
      "Average clipped gradient norm: 0.3942188548669219 (over last 800 batches)\n",
      "Running average global loss: 0.4583411793410778 (over last 800 batches)\n",
      "Running average activity prediction loss: 0.2986553483083844 (Cross Entropy over last 800 batches)\n",
      "Running average time till next event prediction loss: 0.15968583120964466 (MAE over last 800 batches)\n",
      "------------------------------------------------------------\n"
     ]
    },
    {
     "name": "stderr",
     "output_type": "stream",
     "text": [
      "Batch calculation at epoch 76.: 2411it [00:35, 85.07it/s]"
     ]
    },
    {
     "name": "stdout",
     "output_type": "stream",
     "text": [
      "------------------------------------------------------------\n",
      "Epoch 76, batch 2399:\n",
      "Average original gradient norm: 0.38376071443781257 (over last 800 batches)\n",
      "Average clipped gradient norm: 0.38376071443781257 (over last 800 batches)\n",
      "Running average global loss: 0.45878316842019556 (over last 800 batches)\n",
      "Running average activity prediction loss: 0.2986757732182741 (Cross Entropy over last 800 batches)\n",
      "Running average time till next event prediction loss: 0.16010739494115114 (MAE over last 800 batches)\n",
      "------------------------------------------------------------\n"
     ]
    },
    {
     "name": "stderr",
     "output_type": "stream",
     "text": [
      "Batch calculation at epoch 76.: 3211it [00:45, 75.01it/s]"
     ]
    },
    {
     "name": "stdout",
     "output_type": "stream",
     "text": [
      "------------------------------------------------------------\n",
      "Epoch 76, batch 3199:\n",
      "Average original gradient norm: 0.38626316986978054 (over last 800 batches)\n",
      "Average clipped gradient norm: 0.38626316986978054 (over last 800 batches)\n",
      "Running average global loss: 0.4580497041344643 (over last 800 batches)\n",
      "Running average activity prediction loss: 0.2981688516959548 (Cross Entropy over last 800 batches)\n",
      "Running average time till next event prediction loss: 0.15988085235469043 (MAE over last 800 batches)\n",
      "------------------------------------------------------------\n"
     ]
    },
    {
     "name": "stderr",
     "output_type": "stream",
     "text": [
      "Batch calculation at epoch 76.: 4008it [00:59, 54.41it/s]"
     ]
    },
    {
     "name": "stdout",
     "output_type": "stream",
     "text": [
      "------------------------------------------------------------\n",
      "Epoch 76, batch 3999:\n",
      "Average original gradient norm: 0.38962373297661546 (over last 800 batches)\n",
      "Average clipped gradient norm: 0.38962373297661546 (over last 800 batches)\n",
      "Running average global loss: 0.45797039844095705 (over last 800 batches)\n",
      "Running average activity prediction loss: 0.2986347257718444 (Cross Entropy over last 800 batches)\n",
      "Running average time till next event prediction loss: 0.1593356730416417 (MAE over last 800 batches)\n",
      "------------------------------------------------------------\n"
     ]
    },
    {
     "name": "stderr",
     "output_type": "stream",
     "text": [
      "Batch calculation at epoch 76.: 4798it [01:13, 65.23it/s]\n"
     ]
    },
    {
     "name": "stdout",
     "output_type": "stream",
     "text": [
      "=======================================\n",
      "End of epoch 76\n",
      "=======================================\n",
      "Running average global loss: 0.45785941649228334 (over last 800 batches)\n",
      "Running average activity prediction loss: 0.297877943366766 (Cross Entropy over last 800 batches)\n",
      "Running average time till next event prediction loss: 0.15998147377744318 (MAE over last 800 batches)\n"
     ]
    },
    {
     "name": "stderr",
     "output_type": "stream",
     "text": [
      "Validation batch calculation: 72it [00:35,  2.05it/s]\n"
     ]
    },
    {
     "name": "stdout",
     "output_type": "stream",
     "text": [
      "Avg MAE TTNE prediction validation set: 0.2061672955751419 (standardized) ; 763.479296875 (minutes)'\n",
      "Avg 1-(normalized) DL distance acitivty suffix prediction validation set: 0.2732992172241211\n",
      "Percentage of suffixes predicted to END: too early - 0.02344757913131327 ; right moment - 0.09879383195560319 ; too late - 0.8777585889130836\n",
      "Too early instances - avg amount of events too early: 8.140028953552246\n",
      "Too late instances - avg amount of events too late: 45.67303466796875\n",
      "Avg absolute amount of events predicted too early / too late: 40.28076171875\n",
      "Avg MAE RRT prediction validation set:  12037.24375 (minutes)'\n",
      " \n",
      "------------------------------------\n",
      "EPOCH 77:\n",
      "____________________________________\n"
     ]
    },
    {
     "name": "stderr",
     "output_type": "stream",
     "text": [
      "Batch calculation at epoch 77.: 811it [00:14, 54.91it/s]"
     ]
    },
    {
     "name": "stdout",
     "output_type": "stream",
     "text": [
      "------------------------------------------------------------\n",
      "Epoch 77, batch 799:\n",
      "Average original gradient norm: 0.3983844269439578 (over last 800 batches)\n",
      "Average clipped gradient norm: 0.3983844269439578 (over last 800 batches)\n",
      "Running average global loss: 0.45757788348942996 (over last 800 batches)\n",
      "Running average activity prediction loss: 0.29801173191517594 (Cross Entropy over last 800 batches)\n",
      "Running average time till next event prediction loss: 0.1595661512296647 (MAE over last 800 batches)\n",
      "------------------------------------------------------------\n"
     ]
    },
    {
     "name": "stderr",
     "output_type": "stream",
     "text": [
      "Batch calculation at epoch 77.: 1609it [00:29, 51.36it/s]"
     ]
    },
    {
     "name": "stdout",
     "output_type": "stream",
     "text": [
      "------------------------------------------------------------\n",
      "Epoch 77, batch 1599:\n",
      "Average original gradient norm: 0.4041211831942201 (over last 800 batches)\n",
      "Average clipped gradient norm: 0.3971832126751542 (over last 800 batches)\n",
      "Running average global loss: 0.4573371325433254 (over last 800 batches)\n",
      "Running average activity prediction loss: 0.2980315049365163 (Cross Entropy over last 800 batches)\n",
      "Running average time till next event prediction loss: 0.15930562725290656 (MAE over last 800 batches)\n",
      "------------------------------------------------------------\n"
     ]
    },
    {
     "name": "stderr",
     "output_type": "stream",
     "text": [
      "Batch calculation at epoch 77.: 2407it [00:43, 57.83it/s]"
     ]
    },
    {
     "name": "stdout",
     "output_type": "stream",
     "text": [
      "------------------------------------------------------------\n",
      "Epoch 77, batch 2399:\n",
      "Average original gradient norm: 0.3885114060342312 (over last 800 batches)\n",
      "Average clipped gradient norm: 0.38739269122481346 (over last 800 batches)\n",
      "Running average global loss: 0.45796472873538735 (over last 800 batches)\n",
      "Running average activity prediction loss: 0.2983464633300901 (Cross Entropy over last 800 batches)\n",
      "Running average time till next event prediction loss: 0.15961826625280082 (MAE over last 800 batches)\n",
      "------------------------------------------------------------\n"
     ]
    },
    {
     "name": "stderr",
     "output_type": "stream",
     "text": [
      "Batch calculation at epoch 77.: 3208it [00:58, 51.30it/s]"
     ]
    },
    {
     "name": "stdout",
     "output_type": "stream",
     "text": [
      "------------------------------------------------------------\n",
      "Epoch 77, batch 3199:\n",
      "Average original gradient norm: 0.39683088041841985 (over last 800 batches)\n",
      "Average clipped gradient norm: 0.39683088041841985 (over last 800 batches)\n",
      "Running average global loss: 0.4586579881235957 (over last 800 batches)\n",
      "Running average activity prediction loss: 0.2989886562526226 (Cross Entropy over last 800 batches)\n",
      "Running average time till next event prediction loss: 0.15966933136805891 (MAE over last 800 batches)\n",
      "------------------------------------------------------------\n"
     ]
    },
    {
     "name": "stderr",
     "output_type": "stream",
     "text": [
      "Batch calculation at epoch 77.: 4009it [01:13, 56.54it/s]"
     ]
    },
    {
     "name": "stdout",
     "output_type": "stream",
     "text": [
      "------------------------------------------------------------\n",
      "Epoch 77, batch 3999:\n",
      "Average original gradient norm: 0.40677676668390633 (over last 800 batches)\n",
      "Average clipped gradient norm: 0.3916209969483316 (over last 800 batches)\n",
      "Running average global loss: 0.45737159784883263 (over last 800 batches)\n",
      "Running average activity prediction loss: 0.29774737093597653 (Cross Entropy over last 800 batches)\n",
      "Running average time till next event prediction loss: 0.15962422674521803 (MAE over last 800 batches)\n",
      "------------------------------------------------------------\n"
     ]
    },
    {
     "name": "stderr",
     "output_type": "stream",
     "text": [
      "Batch calculation at epoch 77.: 4798it [01:27, 54.71it/s]\n"
     ]
    },
    {
     "name": "stdout",
     "output_type": "stream",
     "text": [
      "=======================================\n",
      "End of epoch 77\n",
      "=======================================\n",
      "Running average global loss: 0.4585574493184686 (over last 800 batches)\n",
      "Running average activity prediction loss: 0.2987662386894226 (Cross Entropy over last 800 batches)\n",
      "Running average time till next event prediction loss: 0.15979121077805758 (MAE over last 800 batches)\n"
     ]
    },
    {
     "name": "stderr",
     "output_type": "stream",
     "text": [
      "Validation batch calculation: 72it [00:36,  1.98it/s]\n"
     ]
    },
    {
     "name": "stdout",
     "output_type": "stream",
     "text": [
      "Avg MAE TTNE prediction validation set: 0.20626454055309296 (standardized) ; 763.8891276041667 (minutes)'\n",
      "Avg 1-(normalized) DL distance acitivty suffix prediction validation set: 0.2621767222881317\n",
      "Percentage of suffixes predicted to END: too early - 0.022696710512843266 ; right moment - 0.09856857137006218 ; too late - 0.8787347181170946\n",
      "Too early instances - avg amount of events too early: 8.13533878326416\n",
      "Too late instances - avg amount of events too late: 49.95464324951172\n",
      "Avg absolute amount of events predicted too early / too late: 44.08152389526367\n",
      "Avg MAE RRT prediction validation set:  11930.25625 (minutes)'\n",
      " \n",
      "------------------------------------\n",
      "EPOCH 78:\n",
      "____________________________________\n"
     ]
    },
    {
     "name": "stderr",
     "output_type": "stream",
     "text": [
      "Batch calculation at epoch 78.: 809it [00:17, 46.10it/s]"
     ]
    },
    {
     "name": "stdout",
     "output_type": "stream",
     "text": [
      "------------------------------------------------------------\n",
      "Epoch 78, batch 799:\n",
      "Average original gradient norm: 0.3885459453240037 (over last 800 batches)\n",
      "Average clipped gradient norm: 0.3885459453240037 (over last 800 batches)\n",
      "Running average global loss: 0.45687477428466083 (over last 800 batches)\n",
      "Running average activity prediction loss: 0.29809365775436164 (Cross Entropy over last 800 batches)\n",
      "Running average time till next event prediction loss: 0.15878111604601144 (MAE over last 800 batches)\n",
      "------------------------------------------------------------\n"
     ]
    },
    {
     "name": "stderr",
     "output_type": "stream",
     "text": [
      "Batch calculation at epoch 78.: 1605it [00:34, 46.60it/s]"
     ]
    },
    {
     "name": "stdout",
     "output_type": "stream",
     "text": [
      "------------------------------------------------------------\n",
      "Epoch 78, batch 1599:\n",
      "Average original gradient norm: 0.39211811712011696 (over last 800 batches)\n",
      "Average clipped gradient norm: 0.38606366550549864 (over last 800 batches)\n",
      "Running average global loss: 0.45839503265917303 (over last 800 batches)\n",
      "Running average activity prediction loss: 0.29855423625558614 (Cross Entropy over last 800 batches)\n",
      "Running average time till next event prediction loss: 0.15984079611487687 (MAE over last 800 batches)\n",
      "------------------------------------------------------------\n"
     ]
    },
    {
     "name": "stderr",
     "output_type": "stream",
     "text": [
      "Batch calculation at epoch 78.: 2405it [00:52, 46.69it/s]"
     ]
    },
    {
     "name": "stdout",
     "output_type": "stream",
     "text": [
      "------------------------------------------------------------\n",
      "Epoch 78, batch 2399:\n",
      "Average original gradient norm: 0.40651874044910075 (over last 800 batches)\n",
      "Average clipped gradient norm: 0.3984335186518729 (over last 800 batches)\n",
      "Running average global loss: 0.4576890515163541 (over last 800 batches)\n",
      "Running average activity prediction loss: 0.2977831327915192 (Cross Entropy over last 800 batches)\n",
      "Running average time till next event prediction loss: 0.1599059182778001 (MAE over last 800 batches)\n",
      "------------------------------------------------------------\n"
     ]
    },
    {
     "name": "stderr",
     "output_type": "stream",
     "text": [
      "Batch calculation at epoch 78.: 3207it [01:09, 46.94it/s]"
     ]
    },
    {
     "name": "stdout",
     "output_type": "stream",
     "text": [
      "------------------------------------------------------------\n",
      "Epoch 78, batch 3199:\n",
      "Average original gradient norm: 0.39453507989645004 (over last 800 batches)\n",
      "Average clipped gradient norm: 0.38901352211833 (over last 800 batches)\n",
      "Running average global loss: 0.4584780650958419 (over last 800 batches)\n",
      "Running average activity prediction loss: 0.29891409691423176 (Cross Entropy over last 800 batches)\n",
      "Running average time till next event prediction loss: 0.15956396806053819 (MAE over last 800 batches)\n",
      "------------------------------------------------------------\n"
     ]
    },
    {
     "name": "stderr",
     "output_type": "stream",
     "text": [
      "Batch calculation at epoch 78.: 4007it [01:26, 46.32it/s]"
     ]
    },
    {
     "name": "stdout",
     "output_type": "stream",
     "text": [
      "------------------------------------------------------------\n",
      "Epoch 78, batch 3999:\n",
      "Average original gradient norm: 0.3917723260447383 (over last 800 batches)\n",
      "Average clipped gradient norm: 0.3917723260447383 (over last 800 batches)\n",
      "Running average global loss: 0.45878979671746495 (over last 800 batches)\n",
      "Running average activity prediction loss: 0.29860094308853147 (Cross Entropy over last 800 batches)\n",
      "Running average time till next event prediction loss: 0.16018885360099375 (MAE over last 800 batches)\n",
      "------------------------------------------------------------\n"
     ]
    },
    {
     "name": "stderr",
     "output_type": "stream",
     "text": [
      "Batch calculation at epoch 78.: 4798it [01:43, 46.16it/s]\n"
     ]
    },
    {
     "name": "stdout",
     "output_type": "stream",
     "text": [
      "=======================================\n",
      "End of epoch 78\n",
      "=======================================\n",
      "Running average global loss: 0.45735343378037213 (over last 800 batches)\n",
      "Running average activity prediction loss: 0.29786193918436765 (Cross Entropy over last 800 batches)\n",
      "Running average time till next event prediction loss: 0.1594914943445474 (MAE over last 800 batches)\n"
     ]
    },
    {
     "name": "stderr",
     "output_type": "stream",
     "text": [
      "Validation batch calculation: 72it [00:42,  1.70it/s]\n"
     ]
    },
    {
     "name": "stdout",
     "output_type": "stream",
     "text": [
      "Avg MAE TTNE prediction validation set: 0.206199511885643 (standardized) ; 763.6442708333333 (minutes)'\n",
      "Avg 1-(normalized) DL distance acitivty suffix prediction validation set: 0.27029234170913696\n",
      "Percentage of suffixes predicted to END: too early - 0.02172058130883226 ; right moment - 0.09872557117210591 ; too late - 0.8795538475190618\n",
      "Too early instances - avg amount of events too early: 7.99560022354126\n",
      "Too late instances - avg amount of events too late: 46.10589599609375\n",
      "Avg absolute amount of events predicted too early / too late: 40.726287841796875\n",
      "Avg MAE RRT prediction validation set:  12004.592708333334 (minutes)'\n",
      " \n",
      "------------------------------------\n",
      "EPOCH 79:\n",
      "____________________________________\n"
     ]
    },
    {
     "name": "stderr",
     "output_type": "stream",
     "text": [
      "Batch calculation at epoch 79.: 807it [00:17, 46.20it/s]"
     ]
    },
    {
     "name": "stdout",
     "output_type": "stream",
     "text": [
      "------------------------------------------------------------\n",
      "Epoch 79, batch 799:\n",
      "Average original gradient norm: 0.3870875231549144 (over last 800 batches)\n",
      "Average clipped gradient norm: 0.3870875231549144 (over last 800 batches)\n",
      "Running average global loss: 0.45708144914358856 (over last 800 batches)\n",
      "Running average activity prediction loss: 0.29784780673682687 (Cross Entropy over last 800 batches)\n",
      "Running average time till next event prediction loss: 0.15923364268615842 (MAE over last 800 batches)\n",
      "------------------------------------------------------------\n"
     ]
    },
    {
     "name": "stderr",
     "output_type": "stream",
     "text": [
      "Batch calculation at epoch 79.: 1607it [00:34, 46.70it/s]"
     ]
    },
    {
     "name": "stdout",
     "output_type": "stream",
     "text": [
      "------------------------------------------------------------\n",
      "Epoch 79, batch 1599:\n",
      "Average original gradient norm: 0.40299958864226937 (over last 800 batches)\n",
      "Average clipped gradient norm: 0.40299958864226937 (over last 800 batches)\n",
      "Running average global loss: 0.459070825278759 (over last 800 batches)\n",
      "Running average activity prediction loss: 0.2988346208259463 (Cross Entropy over last 800 batches)\n",
      "Running average time till next event prediction loss: 0.16023620372638106 (MAE over last 800 batches)\n",
      "------------------------------------------------------------\n"
     ]
    },
    {
     "name": "stderr",
     "output_type": "stream",
     "text": [
      "Batch calculation at epoch 79.: 2407it [00:52, 46.42it/s]"
     ]
    },
    {
     "name": "stdout",
     "output_type": "stream",
     "text": [
      "------------------------------------------------------------\n",
      "Epoch 79, batch 2399:\n",
      "Average original gradient norm: 0.4003128086030483 (over last 800 batches)\n",
      "Average clipped gradient norm: 0.3953446818888187 (over last 800 batches)\n",
      "Running average global loss: 0.4575275816395879 (over last 800 batches)\n",
      "Running average activity prediction loss: 0.2981670144945383 (Cross Entropy over last 800 batches)\n",
      "Running average time till next event prediction loss: 0.15936056709848345 (MAE over last 800 batches)\n",
      "------------------------------------------------------------\n"
     ]
    },
    {
     "name": "stderr",
     "output_type": "stream",
     "text": [
      "Batch calculation at epoch 79.: 3207it [01:09, 45.99it/s]"
     ]
    },
    {
     "name": "stdout",
     "output_type": "stream",
     "text": [
      "------------------------------------------------------------\n",
      "Epoch 79, batch 3199:\n",
      "Average original gradient norm: 0.39301107585430145 (over last 800 batches)\n",
      "Average clipped gradient norm: 0.39301107585430145 (over last 800 batches)\n",
      "Running average global loss: 0.4576509314402938 (over last 800 batches)\n",
      "Running average activity prediction loss: 0.29789295095950363 (Cross Entropy over last 800 batches)\n",
      "Running average time till next event prediction loss: 0.15975798055529594 (MAE over last 800 batches)\n",
      "------------------------------------------------------------\n"
     ]
    },
    {
     "name": "stderr",
     "output_type": "stream",
     "text": [
      "Batch calculation at epoch 79.: 4009it [01:26, 46.63it/s]"
     ]
    },
    {
     "name": "stdout",
     "output_type": "stream",
     "text": [
      "------------------------------------------------------------\n",
      "Epoch 79, batch 3999:\n",
      "Average original gradient norm: 0.3892356473021209 (over last 800 batches)\n",
      "Average clipped gradient norm: 0.3892356473021209 (over last 800 batches)\n",
      "Running average global loss: 0.45781468715518714 (over last 800 batches)\n",
      "Running average activity prediction loss: 0.29840841200202706 (Cross Entropy over last 800 batches)\n",
      "Running average time till next event prediction loss: 0.15940627575851976 (MAE over last 800 batches)\n",
      "------------------------------------------------------------\n"
     ]
    },
    {
     "name": "stderr",
     "output_type": "stream",
     "text": [
      "Batch calculation at epoch 79.: 4798it [01:43, 46.23it/s]\n"
     ]
    },
    {
     "name": "stdout",
     "output_type": "stream",
     "text": [
      "=======================================\n",
      "End of epoch 79\n",
      "=======================================\n",
      "Running average global loss: 0.45784544080495837 (over last 800 batches)\n",
      "Running average activity prediction loss: 0.29821920324116946 (Cross Entropy over last 800 batches)\n",
      "Running average time till next event prediction loss: 0.15962623750790952 (MAE over last 800 batches)\n"
     ]
    },
    {
     "name": "stderr",
     "output_type": "stream",
     "text": [
      "Validation batch calculation: 72it [00:41,  1.73it/s]\n"
     ]
    },
    {
     "name": "stdout",
     "output_type": "stream",
     "text": [
      "Avg MAE TTNE prediction validation set: 0.2062065154314041 (standardized) ; 763.663671875 (minutes)'\n",
      "Avg 1-(normalized) DL distance acitivty suffix prediction validation set: 0.2565916180610657\n",
      "Percentage of suffixes predicted to END: too early - 0.02077175641822017 ; right moment - 0.09840474548966872 ; too late - 0.8808234980921111\n",
      "Too early instances - avg amount of events too early: 8.241866111755371\n",
      "Too late instances - avg amount of events too late: 51.58857727050781\n",
      "Avg absolute amount of events predicted too early / too late: 45.611629486083984\n",
      "Avg MAE RRT prediction validation set:  11903.148958333333 (minutes)'\n",
      " \n",
      "------------------------------------\n",
      "EPOCH 80:\n",
      "____________________________________\n"
     ]
    },
    {
     "name": "stderr",
     "output_type": "stream",
     "text": [
      "Batch calculation at epoch 80.: 806it [00:17, 46.55it/s]"
     ]
    },
    {
     "name": "stdout",
     "output_type": "stream",
     "text": [
      "------------------------------------------------------------\n",
      "Epoch 80, batch 799:\n",
      "Average original gradient norm: 0.39270428536459806 (over last 800 batches)\n",
      "Average clipped gradient norm: 0.39270428536459806 (over last 800 batches)\n",
      "Running average global loss: 0.45707626082003117 (over last 800 batches)\n",
      "Running average activity prediction loss: 0.29777243826538324 (Cross Entropy over last 800 batches)\n",
      "Running average time till next event prediction loss: 0.15930382296442985 (MAE over last 800 batches)\n",
      "------------------------------------------------------------\n"
     ]
    },
    {
     "name": "stderr",
     "output_type": "stream",
     "text": [
      "Batch calculation at epoch 80.: 1609it [00:34, 46.44it/s]"
     ]
    },
    {
     "name": "stdout",
     "output_type": "stream",
     "text": [
      "------------------------------------------------------------\n",
      "Epoch 80, batch 1599:\n",
      "Average original gradient norm: 0.39407111283391716 (over last 800 batches)\n",
      "Average clipped gradient norm: 0.39407111283391716 (over last 800 batches)\n",
      "Running average global loss: 0.45795657772570847 (over last 800 batches)\n",
      "Running average activity prediction loss: 0.29794987592846156 (Cross Entropy over last 800 batches)\n",
      "Running average time till next event prediction loss: 0.1600067020021379 (MAE over last 800 batches)\n",
      "------------------------------------------------------------\n"
     ]
    },
    {
     "name": "stderr",
     "output_type": "stream",
     "text": [
      "Batch calculation at epoch 80.: 2409it [00:52, 45.94it/s]"
     ]
    },
    {
     "name": "stdout",
     "output_type": "stream",
     "text": [
      "------------------------------------------------------------\n",
      "Epoch 80, batch 2399:\n",
      "Average original gradient norm: 0.4008757208287716 (over last 800 batches)\n",
      "Average clipped gradient norm: 0.4008757208287716 (over last 800 batches)\n",
      "Running average global loss: 0.45811694107949735 (over last 800 batches)\n",
      "Running average activity prediction loss: 0.2979094769060612 (Cross Entropy over last 800 batches)\n",
      "Running average time till next event prediction loss: 0.16020746412687004 (MAE over last 800 batches)\n",
      "------------------------------------------------------------\n"
     ]
    },
    {
     "name": "stderr",
     "output_type": "stream",
     "text": [
      "Batch calculation at epoch 80.: 3206it [01:09, 46.61it/s]"
     ]
    },
    {
     "name": "stdout",
     "output_type": "stream",
     "text": [
      "------------------------------------------------------------\n",
      "Epoch 80, batch 3199:\n",
      "Average original gradient norm: 0.4006566421315074 (over last 800 batches)\n",
      "Average clipped gradient norm: 0.39717985834926367 (over last 800 batches)\n",
      "Running average global loss: 0.4583164469525218 (over last 800 batches)\n",
      "Running average activity prediction loss: 0.2985498151555657 (Cross Entropy over last 800 batches)\n",
      "Running average time till next event prediction loss: 0.1597666318528354 (MAE over last 800 batches)\n",
      "------------------------------------------------------------\n"
     ]
    },
    {
     "name": "stderr",
     "output_type": "stream",
     "text": [
      "Batch calculation at epoch 80.: 4006it [01:26, 46.47it/s]"
     ]
    },
    {
     "name": "stdout",
     "output_type": "stream",
     "text": [
      "------------------------------------------------------------\n",
      "Epoch 80, batch 3999:\n",
      "Average original gradient norm: 0.39509639898315074 (over last 800 batches)\n",
      "Average clipped gradient norm: 0.39509639898315074 (over last 800 batches)\n",
      "Running average global loss: 0.4567767820134759 (over last 800 batches)\n",
      "Running average activity prediction loss: 0.298439467959106 (Cross Entropy over last 800 batches)\n",
      "Running average time till next event prediction loss: 0.15833731377497315 (MAE over last 800 batches)\n",
      "------------------------------------------------------------\n"
     ]
    },
    {
     "name": "stderr",
     "output_type": "stream",
     "text": [
      "Batch calculation at epoch 80.: 4798it [01:43, 46.36it/s]\n"
     ]
    },
    {
     "name": "stdout",
     "output_type": "stream",
     "text": [
      "=======================================\n",
      "End of epoch 80\n",
      "=======================================\n",
      "Running average global loss: 0.45843435943126676 (over last 800 batches)\n",
      "Running average activity prediction loss: 0.2985880134254694 (Cross Entropy over last 800 batches)\n",
      "Running average time till next event prediction loss: 0.15984634627588093 (MAE over last 800 batches)\n"
     ]
    },
    {
     "name": "stderr",
     "output_type": "stream",
     "text": [
      "Validation batch calculation: 72it [00:42,  1.71it/s]\n"
     ]
    },
    {
     "name": "stdout",
     "output_type": "stream",
     "text": [
      "Avg MAE TTNE prediction validation set: 0.20622317492961884 (standardized) ; 763.7833333333333 (minutes)'\n",
      "Avg 1-(normalized) DL distance acitivty suffix prediction validation set: 0.2521953880786896\n",
      "Percentage of suffixes predicted to END: too early - 0.018553280954558795 ; right moment - 0.09768800726294737 ; too late - 0.8837587117824939\n",
      "Too early instances - avg amount of events too early: 8.047093391418457\n",
      "Too late instances - avg amount of events too late: 52.61338806152344\n",
      "Avg absolute amount of events predicted too early / too late: 46.6468391418457\n",
      "Avg MAE RRT prediction validation set:  11881.714583333332 (minutes)'\n",
      " \n",
      "------------------------------------\n",
      "EPOCH 81:\n",
      "____________________________________\n"
     ]
    },
    {
     "name": "stderr",
     "output_type": "stream",
     "text": [
      "Batch calculation at epoch 81.: 808it [00:17, 46.62it/s]"
     ]
    },
    {
     "name": "stdout",
     "output_type": "stream",
     "text": [
      "------------------------------------------------------------\n",
      "Epoch 81, batch 799:\n",
      "Average original gradient norm: 0.3899641495384276 (over last 800 batches)\n",
      "Average clipped gradient norm: 0.3899641495384276 (over last 800 batches)\n",
      "Running average global loss: 0.45773834925144913 (over last 800 batches)\n",
      "Running average activity prediction loss: 0.29841515351086856 (Cross Entropy over last 800 batches)\n",
      "Running average time till next event prediction loss: 0.15932319526560604 (MAE over last 800 batches)\n",
      "------------------------------------------------------------\n"
     ]
    },
    {
     "name": "stderr",
     "output_type": "stream",
     "text": [
      "Batch calculation at epoch 81.: 1609it [00:34, 46.29it/s]"
     ]
    },
    {
     "name": "stdout",
     "output_type": "stream",
     "text": [
      "------------------------------------------------------------\n",
      "Epoch 81, batch 1599:\n",
      "Average original gradient norm: 0.3871095269545913 (over last 800 batches)\n",
      "Average clipped gradient norm: 0.3871095269545913 (over last 800 batches)\n",
      "Running average global loss: 0.4580757424980402 (over last 800 batches)\n",
      "Running average activity prediction loss: 0.29802654463797806 (Cross Entropy over last 800 batches)\n",
      "Running average time till next event prediction loss: 0.16004919818602503 (MAE over last 800 batches)\n",
      "------------------------------------------------------------\n"
     ]
    },
    {
     "name": "stderr",
     "output_type": "stream",
     "text": [
      "Batch calculation at epoch 81.: 2409it [00:52, 46.59it/s]"
     ]
    },
    {
     "name": "stdout",
     "output_type": "stream",
     "text": [
      "------------------------------------------------------------\n",
      "Epoch 81, batch 2399:\n",
      "Average original gradient norm: 0.4223612829484045 (over last 800 batches)\n",
      "Average clipped gradient norm: 0.39289768347516657 (over last 800 batches)\n",
      "Running average global loss: 0.45795727349817755 (over last 800 batches)\n",
      "Running average activity prediction loss: 0.2981208353489637 (Cross Entropy over last 800 batches)\n",
      "Running average time till next event prediction loss: 0.15983643910847603 (MAE over last 800 batches)\n",
      "------------------------------------------------------------\n"
     ]
    },
    {
     "name": "stderr",
     "output_type": "stream",
     "text": [
      "Batch calculation at epoch 81.: 3208it [01:09, 46.64it/s]"
     ]
    },
    {
     "name": "stdout",
     "output_type": "stream",
     "text": [
      "------------------------------------------------------------\n",
      "Epoch 81, batch 3199:\n",
      "Average original gradient norm: 0.3937710930965841 (over last 800 batches)\n",
      "Average clipped gradient norm: 0.3937710930965841 (over last 800 batches)\n",
      "Running average global loss: 0.4574485616013408 (over last 800 batches)\n",
      "Running average activity prediction loss: 0.2983910170570016 (Cross Entropy over last 800 batches)\n",
      "Running average time till next event prediction loss: 0.15905754515901208 (MAE over last 800 batches)\n",
      "------------------------------------------------------------\n"
     ]
    },
    {
     "name": "stderr",
     "output_type": "stream",
     "text": [
      "Batch calculation at epoch 81.: 4008it [01:26, 46.29it/s]"
     ]
    },
    {
     "name": "stdout",
     "output_type": "stream",
     "text": [
      "------------------------------------------------------------\n",
      "Epoch 81, batch 3999:\n",
      "Average original gradient norm: 0.3973759881593287 (over last 800 batches)\n",
      "Average clipped gradient norm: 0.39500520208850504 (over last 800 batches)\n",
      "Running average global loss: 0.45806652259081604 (over last 800 batches)\n",
      "Running average activity prediction loss: 0.2980122358724475 (Cross Entropy over last 800 batches)\n",
      "Running average time till next event prediction loss: 0.16005428668111563 (MAE over last 800 batches)\n",
      "------------------------------------------------------------\n"
     ]
    },
    {
     "name": "stderr",
     "output_type": "stream",
     "text": [
      "Batch calculation at epoch 81.: 4798it [01:43, 46.34it/s]\n"
     ]
    },
    {
     "name": "stdout",
     "output_type": "stream",
     "text": [
      "=======================================\n",
      "End of epoch 81\n",
      "=======================================\n",
      "Running average global loss: 0.4574478985369205 (over last 800 batches)\n",
      "Running average activity prediction loss: 0.29808940663933753 (Cross Entropy over last 800 batches)\n",
      "Running average time till next event prediction loss: 0.1593584918230772 (MAE over last 800 batches)\n"
     ]
    },
    {
     "name": "stderr",
     "output_type": "stream",
     "text": [
      "Validation batch calculation: 72it [00:42,  1.70it/s]\n"
     ]
    },
    {
     "name": "stdout",
     "output_type": "stream",
     "text": [
      "Avg MAE TTNE prediction validation set: 0.20624509453773499 (standardized) ; 763.8434895833333 (minutes)'\n",
      "Avg 1-(normalized) DL distance acitivty suffix prediction validation set: 0.27337926626205444\n",
      "Percentage of suffixes predicted to END: too early - 0.023078970900427997 ; right moment - 0.09907370116794201 ; too late - 0.87784732793163\n",
      "Too early instances - avg amount of events too early: 8.116828918457031\n",
      "Too late instances - avg amount of events too late: 45.89162063598633\n",
      "Avg absolute amount of events predicted too early / too late: 40.47316360473633\n",
      "Avg MAE RRT prediction validation set:  11994.083333333334 (minutes)'\n",
      " \n",
      "------------------------------------\n",
      "EPOCH 82:\n",
      "____________________________________\n"
     ]
    },
    {
     "name": "stderr",
     "output_type": "stream",
     "text": [
      "Batch calculation at epoch 82.: 807it [00:17, 46.27it/s]"
     ]
    },
    {
     "name": "stdout",
     "output_type": "stream",
     "text": [
      "------------------------------------------------------------\n",
      "Epoch 82, batch 799:\n",
      "Average original gradient norm: 0.38608557475730776 (over last 800 batches)\n",
      "Average clipped gradient norm: 0.38608557475730776 (over last 800 batches)\n",
      "Running average global loss: 0.45731264527887105 (over last 800 batches)\n",
      "Running average activity prediction loss: 0.29754654861986635 (Cross Entropy over last 800 batches)\n",
      "Running average time till next event prediction loss: 0.15976609721779822 (MAE over last 800 batches)\n",
      "------------------------------------------------------------\n"
     ]
    },
    {
     "name": "stderr",
     "output_type": "stream",
     "text": [
      "Batch calculation at epoch 82.: 1607it [00:34, 46.97it/s]"
     ]
    },
    {
     "name": "stdout",
     "output_type": "stream",
     "text": [
      "------------------------------------------------------------\n",
      "Epoch 82, batch 1599:\n",
      "Average original gradient norm: 0.3983644946664572 (over last 800 batches)\n",
      "Average clipped gradient norm: 0.3982331032305956 (over last 800 batches)\n",
      "Running average global loss: 0.45786363393068313 (over last 800 batches)\n",
      "Running average activity prediction loss: 0.2986196503043175 (Cross Entropy over last 800 batches)\n",
      "Running average time till next event prediction loss: 0.15924398445524277 (MAE over last 800 batches)\n",
      "------------------------------------------------------------\n"
     ]
    },
    {
     "name": "stderr",
     "output_type": "stream",
     "text": [
      "Batch calculation at epoch 82.: 2407it [00:51, 46.70it/s]"
     ]
    },
    {
     "name": "stdout",
     "output_type": "stream",
     "text": [
      "------------------------------------------------------------\n",
      "Epoch 82, batch 2399:\n",
      "Average original gradient norm: 0.39016345916315914 (over last 800 batches)\n",
      "Average clipped gradient norm: 0.39016345916315914 (over last 800 batches)\n",
      "Running average global loss: 0.45772389456629753 (over last 800 batches)\n",
      "Running average activity prediction loss: 0.2981831445544958 (Cross Entropy over last 800 batches)\n",
      "Running average time till next event prediction loss: 0.1595407502539456 (MAE over last 800 batches)\n",
      "------------------------------------------------------------\n"
     ]
    },
    {
     "name": "stderr",
     "output_type": "stream",
     "text": [
      "Batch calculation at epoch 82.: 3209it [01:08, 46.41it/s]"
     ]
    },
    {
     "name": "stdout",
     "output_type": "stream",
     "text": [
      "------------------------------------------------------------\n",
      "Epoch 82, batch 3199:\n",
      "Average original gradient norm: 0.3930374160595238 (over last 800 batches)\n",
      "Average clipped gradient norm: 0.39021529274061323 (over last 800 batches)\n",
      "Running average global loss: 0.45716626070439814 (over last 800 batches)\n",
      "Running average activity prediction loss: 0.2977413561567664 (Cross Entropy over last 800 batches)\n",
      "Running average time till next event prediction loss: 0.15942490446381272 (MAE over last 800 batches)\n",
      "------------------------------------------------------------\n"
     ]
    },
    {
     "name": "stderr",
     "output_type": "stream",
     "text": [
      "Batch calculation at epoch 82.: 4009it [01:26, 46.36it/s]"
     ]
    },
    {
     "name": "stdout",
     "output_type": "stream",
     "text": [
      "------------------------------------------------------------\n",
      "Epoch 82, batch 3999:\n",
      "Average original gradient norm: 0.3978149313479662 (over last 800 batches)\n",
      "Average clipped gradient norm: 0.3972551225870848 (over last 800 batches)\n",
      "Running average global loss: 0.45837122842669487 (over last 800 batches)\n",
      "Running average activity prediction loss: 0.2986463773995638 (Cross Entropy over last 800 batches)\n",
      "Running average time till next event prediction loss: 0.15972485054284336 (MAE over last 800 batches)\n",
      "------------------------------------------------------------\n"
     ]
    },
    {
     "name": "stderr",
     "output_type": "stream",
     "text": [
      "Batch calculation at epoch 82.: 4798it [01:43, 46.48it/s]\n"
     ]
    },
    {
     "name": "stdout",
     "output_type": "stream",
     "text": [
      "=======================================\n",
      "End of epoch 82\n",
      "=======================================\n",
      "Running average global loss: 0.458091848641634 (over last 800 batches)\n",
      "Running average activity prediction loss: 0.2982856834679842 (Cross Entropy over last 800 batches)\n",
      "Running average time till next event prediction loss: 0.15980616548098625 (MAE over last 800 batches)\n"
     ]
    },
    {
     "name": "stderr",
     "output_type": "stream",
     "text": [
      "Validation batch calculation: 72it [00:42,  1.71it/s]\n"
     ]
    },
    {
     "name": "stdout",
     "output_type": "stream",
     "text": [
      "Avg MAE TTNE prediction validation set: 0.20620156824588776 (standardized) ; 763.6137369791667 (minutes)'\n",
      "Avg 1-(normalized) DL distance acitivty suffix prediction validation set: 0.27008700370788574\n",
      "Percentage of suffixes predicted to END: too early - 0.023106275213826903 ; right moment - 0.09923070096998574 ; too late - 0.8776630238161873\n",
      "Too early instances - avg amount of events too early: 8.129984855651855\n",
      "Too late instances - avg amount of events too late: 47.1067008972168\n",
      "Avg absolute amount of events predicted too early / too late: 41.53166198730469\n",
      "Avg MAE RRT prediction validation set:  11994.195833333333 (minutes)'\n",
      " \n",
      "------------------------------------\n",
      "EPOCH 83:\n",
      "____________________________________\n"
     ]
    },
    {
     "name": "stderr",
     "output_type": "stream",
     "text": [
      "Batch calculation at epoch 83.: 809it [00:17, 46.54it/s]"
     ]
    },
    {
     "name": "stdout",
     "output_type": "stream",
     "text": [
      "------------------------------------------------------------\n",
      "Epoch 83, batch 799:\n",
      "Average original gradient norm: 0.3895543492212892 (over last 800 batches)\n",
      "Average clipped gradient norm: 0.3895543492212892 (over last 800 batches)\n",
      "Running average global loss: 0.4578783321380615 (over last 800 batches)\n",
      "Running average activity prediction loss: 0.29829416047781704 (Cross Entropy over last 800 batches)\n",
      "Running average time till next event prediction loss: 0.15958417100831868 (MAE over last 800 batches)\n",
      "------------------------------------------------------------\n"
     ]
    },
    {
     "name": "stderr",
     "output_type": "stream",
     "text": [
      "Batch calculation at epoch 83.: 1609it [00:34, 46.75it/s]"
     ]
    },
    {
     "name": "stdout",
     "output_type": "stream",
     "text": [
      "------------------------------------------------------------\n",
      "Epoch 83, batch 1599:\n",
      "Average original gradient norm: 0.39914290288463233 (over last 800 batches)\n",
      "Average clipped gradient norm: 0.39914290288463233 (over last 800 batches)\n",
      "Running average global loss: 0.4571391968429089 (over last 800 batches)\n",
      "Running average activity prediction loss: 0.2978464449569583 (Cross Entropy over last 800 batches)\n",
      "Running average time till next event prediction loss: 0.1592927514668554 (MAE over last 800 batches)\n",
      "------------------------------------------------------------\n"
     ]
    },
    {
     "name": "stderr",
     "output_type": "stream",
     "text": [
      "Batch calculation at epoch 83.: 2406it [00:51, 46.29it/s]"
     ]
    },
    {
     "name": "stdout",
     "output_type": "stream",
     "text": [
      "------------------------------------------------------------\n",
      "Epoch 83, batch 2399:\n",
      "Average original gradient norm: 0.38639286348596213 (over last 800 batches)\n",
      "Average clipped gradient norm: 0.38639286348596213 (over last 800 batches)\n",
      "Running average global loss: 0.457767299041152 (over last 800 batches)\n",
      "Running average activity prediction loss: 0.2987629236280918 (Cross Entropy over last 800 batches)\n",
      "Running average time till next event prediction loss: 0.15900437536649406 (MAE over last 800 batches)\n",
      "------------------------------------------------------------\n"
     ]
    },
    {
     "name": "stderr",
     "output_type": "stream",
     "text": [
      "Batch calculation at epoch 83.: 3206it [01:09, 46.72it/s]"
     ]
    },
    {
     "name": "stdout",
     "output_type": "stream",
     "text": [
      "------------------------------------------------------------\n",
      "Epoch 83, batch 3199:\n",
      "Average original gradient norm: 0.3896590019017458 (over last 800 batches)\n",
      "Average clipped gradient norm: 0.388661083355546 (over last 800 batches)\n",
      "Running average global loss: 0.4583770829066634 (over last 800 batches)\n",
      "Running average activity prediction loss: 0.29820356201380493 (Cross Entropy over last 800 batches)\n",
      "Running average time till next event prediction loss: 0.16017352079041303 (MAE over last 800 batches)\n",
      "------------------------------------------------------------\n"
     ]
    },
    {
     "name": "stderr",
     "output_type": "stream",
     "text": [
      "Batch calculation at epoch 83.: 4008it [01:26, 46.52it/s]"
     ]
    },
    {
     "name": "stdout",
     "output_type": "stream",
     "text": [
      "------------------------------------------------------------\n",
      "Epoch 83, batch 3999:\n",
      "Average original gradient norm: 0.3934872564487159 (over last 800 batches)\n",
      "Average clipped gradient norm: 0.3934872564487159 (over last 800 batches)\n",
      "Running average global loss: 0.4571045039594173 (over last 800 batches)\n",
      "Running average activity prediction loss: 0.29784379944205286 (Cross Entropy over last 800 batches)\n",
      "Running average time till next event prediction loss: 0.15926070502959191 (MAE over last 800 batches)\n",
      "------------------------------------------------------------\n"
     ]
    },
    {
     "name": "stderr",
     "output_type": "stream",
     "text": [
      "Batch calculation at epoch 83.: 4798it [01:43, 46.44it/s]\n"
     ]
    },
    {
     "name": "stdout",
     "output_type": "stream",
     "text": [
      "=======================================\n",
      "End of epoch 83\n",
      "=======================================\n",
      "Running average global loss: 0.4579340398311615 (over last 800 batches)\n",
      "Running average activity prediction loss: 0.29771947670727966 (Cross Entropy over last 800 batches)\n",
      "Running average time till next event prediction loss: 0.16021456273272633 (MAE over last 800 batches)\n"
     ]
    },
    {
     "name": "stderr",
     "output_type": "stream",
     "text": [
      "Validation batch calculation: 72it [00:42,  1.71it/s]\n"
     ]
    },
    {
     "name": "stdout",
     "output_type": "stream",
     "text": [
      "Avg MAE TTNE prediction validation set: 0.2062034159898758 (standardized) ; 763.6639322916667 (minutes)'\n",
      "Avg 1-(normalized) DL distance acitivty suffix prediction validation set: 0.2626025378704071\n",
      "Percentage of suffixes predicted to END: too early - 0.021918537580974354 ; right moment - 0.09918974449988736 ; too late - 0.8788917179191382\n",
      "Too early instances - avg amount of events too early: 8.1065092086792\n",
      "Too late instances - avg amount of events too late: 49.50265121459961\n",
      "Avg absolute amount of events predicted too early / too late: 43.68515396118164\n",
      "Avg MAE RRT prediction validation set:  11952.213541666666 (minutes)'\n",
      " \n",
      "------------------------------------\n",
      "EPOCH 84:\n",
      "____________________________________\n"
     ]
    },
    {
     "name": "stderr",
     "output_type": "stream",
     "text": [
      "Batch calculation at epoch 84.: 808it [00:17, 46.51it/s]"
     ]
    },
    {
     "name": "stdout",
     "output_type": "stream",
     "text": [
      "------------------------------------------------------------\n",
      "Epoch 84, batch 799:\n",
      "Average original gradient norm: 0.3968335818685591 (over last 800 batches)\n",
      "Average clipped gradient norm: 0.3937722944654524 (over last 800 batches)\n",
      "Running average global loss: 0.4573625325039029 (over last 800 batches)\n",
      "Running average activity prediction loss: 0.2980683815851808 (Cross Entropy over last 800 batches)\n",
      "Running average time till next event prediction loss: 0.15929415023885668 (MAE over last 800 batches)\n",
      "------------------------------------------------------------\n"
     ]
    },
    {
     "name": "stderr",
     "output_type": "stream",
     "text": [
      "Batch calculation at epoch 84.: 1606it [00:34, 47.13it/s]"
     ]
    },
    {
     "name": "stdout",
     "output_type": "stream",
     "text": [
      "------------------------------------------------------------\n",
      "Epoch 84, batch 1599:\n",
      "Average original gradient norm: 0.3938578764535487 (over last 800 batches)\n",
      "Average clipped gradient norm: 0.3929775201715529 (over last 800 batches)\n",
      "Running average global loss: 0.45791770827025174 (over last 800 batches)\n",
      "Running average activity prediction loss: 0.29828208617866037 (Cross Entropy over last 800 batches)\n",
      "Running average time till next event prediction loss: 0.15963562256656588 (MAE over last 800 batches)\n",
      "------------------------------------------------------------\n"
     ]
    },
    {
     "name": "stderr",
     "output_type": "stream",
     "text": [
      "Batch calculation at epoch 84.: 2409it [00:51, 70.25it/s]"
     ]
    },
    {
     "name": "stdout",
     "output_type": "stream",
     "text": [
      "------------------------------------------------------------\n",
      "Epoch 84, batch 2399:\n",
      "Average original gradient norm: 0.3898430958203971 (over last 800 batches)\n",
      "Average clipped gradient norm: 0.3898430958203971 (over last 800 batches)\n",
      "Running average global loss: 0.45808245211839677 (over last 800 batches)\n",
      "Running average activity prediction loss: 0.2980499196797609 (Cross Entropy over last 800 batches)\n",
      "Running average time till next event prediction loss: 0.16003253211267293 (MAE over last 800 batches)\n",
      "------------------------------------------------------------\n"
     ]
    },
    {
     "name": "stderr",
     "output_type": "stream",
     "text": [
      "Batch calculation at epoch 84.: 3213it [01:02, 72.46it/s]"
     ]
    },
    {
     "name": "stdout",
     "output_type": "stream",
     "text": [
      "------------------------------------------------------------\n",
      "Epoch 84, batch 3199:\n",
      "Average original gradient norm: 0.38948446145281196 (over last 800 batches)\n",
      "Average clipped gradient norm: 0.38948446145281196 (over last 800 batches)\n",
      "Running average global loss: 0.45722161311656234 (over last 800 batches)\n",
      "Running average activity prediction loss: 0.2979530491307378 (Cross Entropy over last 800 batches)\n",
      "Running average time till next event prediction loss: 0.15926856373436749 (MAE over last 800 batches)\n",
      "------------------------------------------------------------\n"
     ]
    },
    {
     "name": "stderr",
     "output_type": "stream",
     "text": [
      "Batch calculation at epoch 84.: 4011it [01:13, 77.62it/s]"
     ]
    },
    {
     "name": "stdout",
     "output_type": "stream",
     "text": [
      "------------------------------------------------------------\n",
      "Epoch 84, batch 3999:\n",
      "Average original gradient norm: 0.40011335112154484 (over last 800 batches)\n",
      "Average clipped gradient norm: 0.40011335112154484 (over last 800 batches)\n",
      "Running average global loss: 0.45814722135663033 (over last 800 batches)\n",
      "Running average activity prediction loss: 0.2983280450105667 (Cross Entropy over last 800 batches)\n",
      "Running average time till next event prediction loss: 0.15981917600147427 (MAE over last 800 batches)\n",
      "------------------------------------------------------------\n"
     ]
    },
    {
     "name": "stderr",
     "output_type": "stream",
     "text": [
      "Batch calculation at epoch 84.: 4798it [01:25, 56.30it/s]\n"
     ]
    },
    {
     "name": "stdout",
     "output_type": "stream",
     "text": [
      "=======================================\n",
      "End of epoch 84\n",
      "=======================================\n",
      "Running average global loss: 0.4573938323929906 (over last 800 batches)\n",
      "Running average activity prediction loss: 0.2978164743632078 (Cross Entropy over last 800 batches)\n",
      "Running average time till next event prediction loss: 0.159577358039096 (MAE over last 800 batches)\n"
     ]
    },
    {
     "name": "stderr",
     "output_type": "stream",
     "text": [
      "Validation batch calculation: 72it [00:34,  2.09it/s]\n"
     ]
    },
    {
     "name": "stdout",
     "output_type": "stream",
     "text": [
      "Avg MAE TTNE prediction validation set: 0.2062191218137741 (standardized) ; 763.7390625 (minutes)'\n",
      "Avg 1-(normalized) DL distance acitivty suffix prediction validation set: 0.2614847719669342\n",
      "Percentage of suffixes predicted to END: too early - 0.022089189539717537 ; right moment - 0.0985207888216141 ; too late - 0.8793900216386684\n",
      "Too early instances - avg amount of events too early: 8.122064590454102\n",
      "Too late instances - avg amount of events too late: 50.06953430175781\n",
      "Avg absolute amount of events predicted too early / too late: 44.210060119628906\n",
      "Avg MAE RRT prediction validation set:  11931.427083333334 (minutes)'\n",
      " \n",
      "------------------------------------\n",
      "EPOCH 85:\n",
      "____________________________________\n"
     ]
    },
    {
     "name": "stderr",
     "output_type": "stream",
     "text": [
      "Batch calculation at epoch 85.: 806it [00:14, 54.94it/s]"
     ]
    },
    {
     "name": "stdout",
     "output_type": "stream",
     "text": [
      "------------------------------------------------------------\n",
      "Epoch 85, batch 799:\n",
      "Average original gradient norm: 0.3961930279992521 (over last 800 batches)\n",
      "Average clipped gradient norm: 0.38796243449673057 (over last 800 batches)\n",
      "Running average global loss: 0.4578998866677284 (over last 800 batches)\n",
      "Running average activity prediction loss: 0.29870781559497117 (Cross Entropy over last 800 batches)\n",
      "Running average time till next event prediction loss: 0.15919207111932338 (MAE over last 800 batches)\n",
      "------------------------------------------------------------\n"
     ]
    },
    {
     "name": "stderr",
     "output_type": "stream",
     "text": [
      "Batch calculation at epoch 85.: 1606it [00:29, 55.61it/s]"
     ]
    },
    {
     "name": "stdout",
     "output_type": "stream",
     "text": [
      "------------------------------------------------------------\n",
      "Epoch 85, batch 1599:\n",
      "Average original gradient norm: 0.4040117267332971 (over last 800 batches)\n",
      "Average clipped gradient norm: 0.4023512779735029 (over last 800 batches)\n",
      "Running average global loss: 0.45827617004513743 (over last 800 batches)\n",
      "Running average activity prediction loss: 0.2985036611929536 (Cross Entropy over last 800 batches)\n",
      "Running average time till next event prediction loss: 0.15977250812575222 (MAE over last 800 batches)\n",
      "------------------------------------------------------------\n"
     ]
    },
    {
     "name": "stderr",
     "output_type": "stream",
     "text": [
      "Batch calculation at epoch 85.: 2410it [00:44, 55.39it/s]"
     ]
    },
    {
     "name": "stdout",
     "output_type": "stream",
     "text": [
      "------------------------------------------------------------\n",
      "Epoch 85, batch 2399:\n",
      "Average original gradient norm: 0.39030625600367785 (over last 800 batches)\n",
      "Average clipped gradient norm: 0.39030625600367785 (over last 800 batches)\n",
      "Running average global loss: 0.45679236941039564 (over last 800 batches)\n",
      "Running average activity prediction loss: 0.29747360400855544 (Cross Entropy over last 800 batches)\n",
      "Running average time till next event prediction loss: 0.15931876543909312 (MAE over last 800 batches)\n",
      "------------------------------------------------------------\n"
     ]
    },
    {
     "name": "stderr",
     "output_type": "stream",
     "text": [
      "Batch calculation at epoch 85.: 3209it [00:59, 59.33it/s]"
     ]
    },
    {
     "name": "stdout",
     "output_type": "stream",
     "text": [
      "------------------------------------------------------------\n",
      "Epoch 85, batch 3199:\n",
      "Average original gradient norm: 0.3988273259066045 (over last 800 batches)\n",
      "Average clipped gradient norm: 0.3988273259066045 (over last 800 batches)\n",
      "Running average global loss: 0.4569969728961587 (over last 800 batches)\n",
      "Running average activity prediction loss: 0.2978073590993881 (Cross Entropy over last 800 batches)\n",
      "Running average time till next event prediction loss: 0.15918961383402347 (MAE over last 800 batches)\n",
      "------------------------------------------------------------\n"
     ]
    },
    {
     "name": "stderr",
     "output_type": "stream",
     "text": [
      "Batch calculation at epoch 85.: 4006it [01:13, 60.06it/s]"
     ]
    },
    {
     "name": "stdout",
     "output_type": "stream",
     "text": [
      "------------------------------------------------------------\n",
      "Epoch 85, batch 3999:\n",
      "Average original gradient norm: 0.3951569530181587 (over last 800 batches)\n",
      "Average clipped gradient norm: 0.3951569530181587 (over last 800 batches)\n",
      "Running average global loss: 0.45819103099405767 (over last 800 batches)\n",
      "Running average activity prediction loss: 0.29809432245790957 (Cross Entropy over last 800 batches)\n",
      "Running average time till next event prediction loss: 0.16009670861065387 (MAE over last 800 batches)\n",
      "------------------------------------------------------------\n"
     ]
    },
    {
     "name": "stderr",
     "output_type": "stream",
     "text": [
      "Batch calculation at epoch 85.: 4798it [01:27, 54.62it/s]\n"
     ]
    },
    {
     "name": "stdout",
     "output_type": "stream",
     "text": [
      "=======================================\n",
      "End of epoch 85\n",
      "=======================================\n",
      "Running average global loss: 0.45757611967623235 (over last 800 batches)\n",
      "Running average activity prediction loss: 0.29782427750527857 (Cross Entropy over last 800 batches)\n",
      "Running average time till next event prediction loss: 0.15975184190087022 (MAE over last 800 batches)\n"
     ]
    },
    {
     "name": "stderr",
     "output_type": "stream",
     "text": [
      "Validation batch calculation: 72it [00:35,  2.02it/s]\n"
     ]
    },
    {
     "name": "stdout",
     "output_type": "stream",
     "text": [
      "Avg MAE TTNE prediction validation set: 0.20620033144950867 (standardized) ; 763.6475260416667 (minutes)'\n",
      "Avg 1-(normalized) DL distance acitivty suffix prediction validation set: 0.28013259172439575\n",
      "Percentage of suffixes predicted to END: too early - 0.026335010273247916 ; right moment - 0.10012491723380001 ; too late - 0.8735400724929521\n",
      "Too early instances - avg amount of events too early: 8.239501953125\n",
      "Too late instances - avg amount of events too late: 44.376625061035156\n",
      "Avg absolute amount of events predicted too early / too late: 38.981746673583984\n",
      "Avg MAE RRT prediction validation set:  12040.033333333333 (minutes)'\n",
      " \n",
      "------------------------------------\n",
      "EPOCH 86:\n",
      "____________________________________\n"
     ]
    },
    {
     "name": "stderr",
     "output_type": "stream",
     "text": [
      "Batch calculation at epoch 86.: 805it [00:14, 50.53it/s]"
     ]
    },
    {
     "name": "stdout",
     "output_type": "stream",
     "text": [
      "------------------------------------------------------------\n",
      "Epoch 86, batch 799:\n",
      "Average original gradient norm: 0.4259038009680808 (over last 800 batches)\n",
      "Average clipped gradient norm: 0.3975235098041594 (over last 800 batches)\n",
      "Running average global loss: 0.45703558553010226 (over last 800 batches)\n",
      "Running average activity prediction loss: 0.2976151426881552 (Cross Entropy over last 800 batches)\n",
      "Running average time till next event prediction loss: 0.1594204428140074 (MAE over last 800 batches)\n",
      "------------------------------------------------------------\n"
     ]
    },
    {
     "name": "stderr",
     "output_type": "stream",
     "text": [
      "Batch calculation at epoch 86.: 1605it [00:30, 54.15it/s]"
     ]
    },
    {
     "name": "stdout",
     "output_type": "stream",
     "text": [
      "------------------------------------------------------------\n",
      "Epoch 86, batch 1599:\n",
      "Average original gradient norm: 0.39780386263504625 (over last 800 batches)\n",
      "Average clipped gradient norm: 0.39780386263504625 (over last 800 batches)\n",
      "Running average global loss: 0.4582911267876625 (over last 800 batches)\n",
      "Running average activity prediction loss: 0.2980897183343768 (Cross Entropy over last 800 batches)\n",
      "Running average time till next event prediction loss: 0.1602014081645757 (MAE over last 800 batches)\n",
      "------------------------------------------------------------\n"
     ]
    },
    {
     "name": "stderr",
     "output_type": "stream",
     "text": [
      "Batch calculation at epoch 86.: 2406it [00:44, 55.06it/s]"
     ]
    },
    {
     "name": "stdout",
     "output_type": "stream",
     "text": [
      "------------------------------------------------------------\n",
      "Epoch 86, batch 2399:\n",
      "Average original gradient norm: 0.3980256035551429 (over last 800 batches)\n",
      "Average clipped gradient norm: 0.3980256035551429 (over last 800 batches)\n",
      "Running average global loss: 0.45711504634469746 (over last 800 batches)\n",
      "Running average activity prediction loss: 0.29773515596985817 (Cross Entropy over last 800 batches)\n",
      "Running average time till next event prediction loss: 0.15937989025376736 (MAE over last 800 batches)\n",
      "------------------------------------------------------------\n"
     ]
    },
    {
     "name": "stderr",
     "output_type": "stream",
     "text": [
      "Batch calculation at epoch 86.: 3206it [01:01, 46.31it/s]"
     ]
    },
    {
     "name": "stdout",
     "output_type": "stream",
     "text": [
      "------------------------------------------------------------\n",
      "Epoch 86, batch 3199:\n",
      "Average original gradient norm: 0.3988137201219797 (over last 800 batches)\n",
      "Average clipped gradient norm: 0.39344156987965107 (over last 800 batches)\n",
      "Running average global loss: 0.45842470780014993 (over last 800 batches)\n",
      "Running average activity prediction loss: 0.2984994742646813 (Cross Entropy over last 800 batches)\n",
      "Running average time till next event prediction loss: 0.1599252339731902 (MAE over last 800 batches)\n",
      "------------------------------------------------------------\n"
     ]
    },
    {
     "name": "stderr",
     "output_type": "stream",
     "text": [
      "Batch calculation at epoch 86.: 4006it [01:18, 45.95it/s]"
     ]
    },
    {
     "name": "stdout",
     "output_type": "stream",
     "text": [
      "------------------------------------------------------------\n",
      "Epoch 86, batch 3999:\n",
      "Average original gradient norm: 0.39349788654595613 (over last 800 batches)\n",
      "Average clipped gradient norm: 0.39349788654595613 (over last 800 batches)\n",
      "Running average global loss: 0.45738127317279575 (over last 800 batches)\n",
      "Running average activity prediction loss: 0.298127143420279 (Cross Entropy over last 800 batches)\n",
      "Running average time till next event prediction loss: 0.15925413007847966 (MAE over last 800 batches)\n",
      "------------------------------------------------------------\n"
     ]
    },
    {
     "name": "stderr",
     "output_type": "stream",
     "text": [
      "Batch calculation at epoch 86.: 4798it [01:35, 50.22it/s]\n"
     ]
    },
    {
     "name": "stdout",
     "output_type": "stream",
     "text": [
      "=======================================\n",
      "End of epoch 86\n",
      "=======================================\n",
      "Running average global loss: 0.45723674066364767 (over last 800 batches)\n",
      "Running average activity prediction loss: 0.2980002187564969 (Cross Entropy over last 800 batches)\n",
      "Running average time till next event prediction loss: 0.15923652200028302 (MAE over last 800 batches)\n"
     ]
    },
    {
     "name": "stderr",
     "output_type": "stream",
     "text": [
      "Validation batch calculation: 72it [00:42,  1.70it/s]\n"
     ]
    },
    {
     "name": "stdout",
     "output_type": "stream",
     "text": [
      "Avg MAE TTNE prediction validation set: 0.206180602312088 (standardized) ; 763.626953125 (minutes)'\n",
      "Avg 1-(normalized) DL distance acitivty suffix prediction validation set: 0.26799851655960083\n",
      "Percentage of suffixes predicted to END: too early - 0.023003884038580995 ; right moment - 0.09887574489579991 ; too late - 0.8781203710656191\n",
      "Too early instances - avg amount of events too early: 8.162314414978027\n",
      "Too late instances - avg amount of events too late: 47.646156311035156\n",
      "Avg absolute amount of events predicted too early / too late: 42.026824951171875\n",
      "Avg MAE RRT prediction validation set:  11978.467708333334 (minutes)'\n",
      " \n",
      "------------------------------------\n",
      "EPOCH 87:\n",
      "____________________________________\n"
     ]
    },
    {
     "name": "stderr",
     "output_type": "stream",
     "text": [
      "Batch calculation at epoch 87.: 809it [00:17, 46.40it/s]"
     ]
    },
    {
     "name": "stdout",
     "output_type": "stream",
     "text": [
      "------------------------------------------------------------\n",
      "Epoch 87, batch 799:\n",
      "Average original gradient norm: 0.38987807113677264 (over last 800 batches)\n",
      "Average clipped gradient norm: 0.38987807113677264 (over last 800 batches)\n",
      "Running average global loss: 0.45802358161658047 (over last 800 batches)\n",
      "Running average activity prediction loss: 0.2982255874946713 (Cross Entropy over last 800 batches)\n",
      "Running average time till next event prediction loss: 0.1597979941777885 (MAE over last 800 batches)\n",
      "------------------------------------------------------------\n"
     ]
    },
    {
     "name": "stderr",
     "output_type": "stream",
     "text": [
      "Batch calculation at epoch 87.: 1609it [00:34, 45.74it/s]"
     ]
    },
    {
     "name": "stdout",
     "output_type": "stream",
     "text": [
      "------------------------------------------------------------\n",
      "Epoch 87, batch 1599:\n",
      "Average original gradient norm: 0.3884625058062375 (over last 800 batches)\n",
      "Average clipped gradient norm: 0.3884625058062375 (over last 800 batches)\n",
      "Running average global loss: 0.4584822847694159 (over last 800 batches)\n",
      "Running average activity prediction loss: 0.2985403354093432 (Cross Entropy over last 800 batches)\n",
      "Running average time till next event prediction loss: 0.1599419493507594 (MAE over last 800 batches)\n",
      "------------------------------------------------------------\n"
     ]
    },
    {
     "name": "stderr",
     "output_type": "stream",
     "text": [
      "Batch calculation at epoch 87.: 2409it [00:52, 46.37it/s]"
     ]
    },
    {
     "name": "stdout",
     "output_type": "stream",
     "text": [
      "------------------------------------------------------------\n",
      "Epoch 87, batch 2399:\n",
      "Average original gradient norm: 0.38492346258834004 (over last 800 batches)\n",
      "Average clipped gradient norm: 0.38492346258834004 (over last 800 batches)\n",
      "Running average global loss: 0.45727758068591356 (over last 800 batches)\n",
      "Running average activity prediction loss: 0.29772441208362577 (Cross Entropy over last 800 batches)\n",
      "Running average time till next event prediction loss: 0.1595531688723713 (MAE over last 800 batches)\n",
      "------------------------------------------------------------\n"
     ]
    },
    {
     "name": "stderr",
     "output_type": "stream",
     "text": [
      "Batch calculation at epoch 87.: 3207it [01:09, 44.25it/s]"
     ]
    },
    {
     "name": "stdout",
     "output_type": "stream",
     "text": [
      "------------------------------------------------------------\n",
      "Epoch 87, batch 3199:\n",
      "Average original gradient norm: 0.37957576783373953 (over last 800 batches)\n",
      "Average clipped gradient norm: 0.37957576783373953 (over last 800 batches)\n",
      "Running average global loss: 0.45589609391987324 (over last 800 batches)\n",
      "Running average activity prediction loss: 0.29745918821543454 (Cross Entropy over last 800 batches)\n",
      "Running average time till next event prediction loss: 0.1584369061794132 (MAE over last 800 batches)\n",
      "------------------------------------------------------------\n"
     ]
    },
    {
     "name": "stderr",
     "output_type": "stream",
     "text": [
      "Batch calculation at epoch 87.: 4007it [01:26, 46.80it/s]"
     ]
    },
    {
     "name": "stdout",
     "output_type": "stream",
     "text": [
      "------------------------------------------------------------\n",
      "Epoch 87, batch 3999:\n",
      "Average original gradient norm: 0.3945484962128103 (over last 800 batches)\n",
      "Average clipped gradient norm: 0.3945484962128103 (over last 800 batches)\n",
      "Running average global loss: 0.4579881230741739 (over last 800 batches)\n",
      "Running average activity prediction loss: 0.2977354132756591 (Cross Entropy over last 800 batches)\n",
      "Running average time till next event prediction loss: 0.16025270980782808 (MAE over last 800 batches)\n",
      "------------------------------------------------------------\n"
     ]
    },
    {
     "name": "stderr",
     "output_type": "stream",
     "text": [
      "Batch calculation at epoch 87.: 4798it [01:43, 46.29it/s]\n"
     ]
    },
    {
     "name": "stdout",
     "output_type": "stream",
     "text": [
      "=======================================\n",
      "End of epoch 87\n",
      "=======================================\n",
      "Running average global loss: 0.45831787660717965 (over last 800 batches)\n",
      "Running average activity prediction loss: 0.2987745637074113 (Cross Entropy over last 800 batches)\n",
      "Running average time till next event prediction loss: 0.159543313132599 (MAE over last 800 batches)\n"
     ]
    },
    {
     "name": "stderr",
     "output_type": "stream",
     "text": [
      "Validation batch calculation: 72it [00:42,  1.70it/s]\n"
     ]
    },
    {
     "name": "stdout",
     "output_type": "stream",
     "text": [
      "Avg MAE TTNE prediction validation set: 0.20588330924510956 (standardized) ; 762.4928385416666 (minutes)'\n",
      "Avg 1-(normalized) DL distance acitivty suffix prediction validation set: 0.2624046206474304\n",
      "Percentage of suffixes predicted to END: too early - 0.0215294511150399 ; right moment - 0.09815218059072882 ; too late - 0.8803183682942313\n",
      "Too early instances - avg amount of events too early: 8.124920845031738\n",
      "Too late instances - avg amount of events too late: 49.12734603881836\n",
      "Avg absolute amount of events predicted too early / too late: 43.422630310058594\n",
      "Avg MAE RRT prediction validation set:  12003.288541666667 (minutes)'\n",
      " \n",
      "------------------------------------\n",
      "EPOCH 88:\n",
      "____________________________________\n"
     ]
    },
    {
     "name": "stderr",
     "output_type": "stream",
     "text": [
      "Batch calculation at epoch 88.: 808it [00:17, 46.67it/s]"
     ]
    },
    {
     "name": "stdout",
     "output_type": "stream",
     "text": [
      "------------------------------------------------------------\n",
      "Epoch 88, batch 799:\n",
      "Average original gradient norm: 0.3860980744846165 (over last 800 batches)\n",
      "Average clipped gradient norm: 0.3860980744846165 (over last 800 batches)\n",
      "Running average global loss: 0.45768960084766147 (over last 800 batches)\n",
      "Running average activity prediction loss: 0.2982213398441672 (Cross Entropy over last 800 batches)\n",
      "Running average time till next event prediction loss: 0.15946826048195362 (MAE over last 800 batches)\n",
      "------------------------------------------------------------\n"
     ]
    },
    {
     "name": "stderr",
     "output_type": "stream",
     "text": [
      "Batch calculation at epoch 88.: 1606it [00:34, 46.76it/s]"
     ]
    },
    {
     "name": "stdout",
     "output_type": "stream",
     "text": [
      "------------------------------------------------------------\n",
      "Epoch 88, batch 1599:\n",
      "Average original gradient norm: 0.3882874580658972 (over last 800 batches)\n",
      "Average clipped gradient norm: 0.3882874580658972 (over last 800 batches)\n",
      "Running average global loss: 0.4569560818001628 (over last 800 batches)\n",
      "Running average activity prediction loss: 0.2971490605548024 (Cross Entropy over last 800 batches)\n",
      "Running average time till next event prediction loss: 0.15980702139437197 (MAE over last 800 batches)\n",
      "------------------------------------------------------------\n"
     ]
    },
    {
     "name": "stderr",
     "output_type": "stream",
     "text": [
      "Batch calculation at epoch 88.: 2406it [00:51, 46.57it/s]"
     ]
    },
    {
     "name": "stdout",
     "output_type": "stream",
     "text": [
      "------------------------------------------------------------\n",
      "Epoch 88, batch 2399:\n",
      "Average original gradient norm: 0.39294903341680765 (over last 800 batches)\n",
      "Average clipped gradient norm: 0.39294903341680765 (over last 800 batches)\n",
      "Running average global loss: 0.4569795723631978 (over last 800 batches)\n",
      "Running average activity prediction loss: 0.2976845880970359 (Cross Entropy over last 800 batches)\n",
      "Running average time till next event prediction loss: 0.15929498403333128 (MAE over last 800 batches)\n",
      "------------------------------------------------------------\n"
     ]
    },
    {
     "name": "stderr",
     "output_type": "stream",
     "text": [
      "Batch calculation at epoch 88.: 3209it [01:09, 46.52it/s]"
     ]
    },
    {
     "name": "stdout",
     "output_type": "stream",
     "text": [
      "------------------------------------------------------------\n",
      "Epoch 88, batch 3199:\n",
      "Average original gradient norm: 0.39470676992088555 (over last 800 batches)\n",
      "Average clipped gradient norm: 0.39470676992088555 (over last 800 batches)\n",
      "Running average global loss: 0.4577251688018441 (over last 800 batches)\n",
      "Running average activity prediction loss: 0.29789396211504937 (Cross Entropy over last 800 batches)\n",
      "Running average time till next event prediction loss: 0.15983120707795023 (MAE over last 800 batches)\n",
      "------------------------------------------------------------\n"
     ]
    },
    {
     "name": "stderr",
     "output_type": "stream",
     "text": [
      "Batch calculation at epoch 88.: 4009it [01:26, 46.82it/s]"
     ]
    },
    {
     "name": "stdout",
     "output_type": "stream",
     "text": [
      "------------------------------------------------------------\n",
      "Epoch 88, batch 3999:\n",
      "Average original gradient norm: 0.3830764337442815 (over last 800 batches)\n",
      "Average clipped gradient norm: 0.3830764337442815 (over last 800 batches)\n",
      "Running average global loss: 0.45864039424806835 (over last 800 batches)\n",
      "Running average activity prediction loss: 0.2983229801431298 (Cross Entropy over last 800 batches)\n",
      "Running average time till next event prediction loss: 0.16031741400249302 (MAE over last 800 batches)\n",
      "------------------------------------------------------------\n"
     ]
    },
    {
     "name": "stderr",
     "output_type": "stream",
     "text": [
      "Batch calculation at epoch 88.: 4798it [01:43, 46.38it/s]\n"
     ]
    },
    {
     "name": "stdout",
     "output_type": "stream",
     "text": [
      "=======================================\n",
      "End of epoch 88\n",
      "=======================================\n",
      "Running average global loss: 0.45750117510557176 (over last 800 batches)\n",
      "Running average activity prediction loss: 0.29870830845087765 (Cross Entropy over last 800 batches)\n",
      "Running average time till next event prediction loss: 0.15879286617971958 (MAE over last 800 batches)\n"
     ]
    },
    {
     "name": "stderr",
     "output_type": "stream",
     "text": [
      "Validation batch calculation: 72it [00:42,  1.71it/s]\n"
     ]
    },
    {
     "name": "stdout",
     "output_type": "stream",
     "text": [
      "Avg MAE TTNE prediction validation set: 0.20621663331985474 (standardized) ; 763.6502604166667 (minutes)'\n",
      "Avg 1-(normalized) DL distance acitivty suffix prediction validation set: 0.2775753438472748\n",
      "Percentage of suffixes predicted to END: too early - 0.02471040362601282 ; right moment - 0.09947643979057591 ; too late - 0.8758131565834113\n",
      "Too early instances - avg amount of events too early: 8.061326026916504\n",
      "Too late instances - avg amount of events too late: 44.7419548034668\n",
      "Avg absolute amount of events predicted too early / too late: 39.38479232788086\n",
      "Avg MAE RRT prediction validation set:  12025.864583333334 (minutes)'\n",
      " \n",
      "------------------------------------\n",
      "EPOCH 89:\n",
      "____________________________________\n"
     ]
    },
    {
     "name": "stderr",
     "output_type": "stream",
     "text": [
      "Batch calculation at epoch 89.: 809it [00:17, 46.66it/s]"
     ]
    },
    {
     "name": "stdout",
     "output_type": "stream",
     "text": [
      "------------------------------------------------------------\n",
      "Epoch 89, batch 799:\n",
      "Average original gradient norm: 0.38668372625485065 (over last 800 batches)\n",
      "Average clipped gradient norm: 0.38668372625485065 (over last 800 batches)\n",
      "Running average global loss: 0.4586463737115264 (over last 800 batches)\n",
      "Running average activity prediction loss: 0.29881226520985366 (Cross Entropy over last 800 batches)\n",
      "Running average time till next event prediction loss: 0.1598341091070324 (MAE over last 800 batches)\n",
      "------------------------------------------------------------\n"
     ]
    },
    {
     "name": "stderr",
     "output_type": "stream",
     "text": [
      "Batch calculation at epoch 89.: 1607it [00:34, 46.48it/s]"
     ]
    },
    {
     "name": "stdout",
     "output_type": "stream",
     "text": [
      "------------------------------------------------------------\n",
      "Epoch 89, batch 1599:\n",
      "Average original gradient norm: 0.380562586504966 (over last 800 batches)\n",
      "Average clipped gradient norm: 0.380562586504966 (over last 800 batches)\n",
      "Running average global loss: 0.45769223365932704 (over last 800 batches)\n",
      "Running average activity prediction loss: 0.29789221338927746 (Cross Entropy over last 800 batches)\n",
      "Running average time till next event prediction loss: 0.15980002063326537 (MAE over last 800 batches)\n",
      "------------------------------------------------------------\n"
     ]
    },
    {
     "name": "stderr",
     "output_type": "stream",
     "text": [
      "Batch calculation at epoch 89.: 2407it [00:52, 42.01it/s]"
     ]
    },
    {
     "name": "stdout",
     "output_type": "stream",
     "text": [
      "------------------------------------------------------------\n",
      "Epoch 89, batch 2399:\n",
      "Average original gradient norm: 0.3905265694670379 (over last 800 batches)\n",
      "Average clipped gradient norm: 0.3905265694670379 (over last 800 batches)\n",
      "Running average global loss: 0.4587693740427494 (over last 800 batches)\n",
      "Running average activity prediction loss: 0.2987720963358879 (Cross Entropy over last 800 batches)\n",
      "Running average time till next event prediction loss: 0.15999727783724665 (MAE over last 800 batches)\n",
      "------------------------------------------------------------\n"
     ]
    },
    {
     "name": "stderr",
     "output_type": "stream",
     "text": [
      "Batch calculation at epoch 89.: 3209it [01:09, 46.30it/s]"
     ]
    },
    {
     "name": "stdout",
     "output_type": "stream",
     "text": [
      "------------------------------------------------------------\n",
      "Epoch 89, batch 3199:\n",
      "Average original gradient norm: 0.3886949210986495 (over last 800 batches)\n",
      "Average clipped gradient norm: 0.3886949210986495 (over last 800 batches)\n",
      "Running average global loss: 0.4566248295083642 (over last 800 batches)\n",
      "Running average activity prediction loss: 0.29700068935751917 (Cross Entropy over last 800 batches)\n",
      "Running average time till next event prediction loss: 0.15962413977831602 (MAE over last 800 batches)\n",
      "------------------------------------------------------------\n"
     ]
    },
    {
     "name": "stderr",
     "output_type": "stream",
     "text": [
      "Batch calculation at epoch 89.: 4009it [01:26, 46.29it/s]"
     ]
    },
    {
     "name": "stdout",
     "output_type": "stream",
     "text": [
      "------------------------------------------------------------\n",
      "Epoch 89, batch 3999:\n",
      "Average original gradient norm: 0.4049220224656165 (over last 800 batches)\n",
      "Average clipped gradient norm: 0.39093688810244204 (over last 800 batches)\n",
      "Running average global loss: 0.4563482643663883 (over last 800 batches)\n",
      "Running average activity prediction loss: 0.29784532222896815 (Cross Entropy over last 800 batches)\n",
      "Running average time till next event prediction loss: 0.15850294227711856 (MAE over last 800 batches)\n",
      "------------------------------------------------------------\n"
     ]
    },
    {
     "name": "stderr",
     "output_type": "stream",
     "text": [
      "Batch calculation at epoch 89.: 4798it [01:43, 46.40it/s]\n"
     ]
    },
    {
     "name": "stdout",
     "output_type": "stream",
     "text": [
      "=======================================\n",
      "End of epoch 89\n",
      "=======================================\n",
      "Running average global loss: 0.4571975028887391 (over last 800 batches)\n",
      "Running average activity prediction loss: 0.29767737846821546 (Cross Entropy over last 800 batches)\n",
      "Running average time till next event prediction loss: 0.15952012423425913 (MAE over last 800 batches)\n"
     ]
    },
    {
     "name": "stderr",
     "output_type": "stream",
     "text": [
      "Validation batch calculation: 72it [00:41,  1.72it/s]\n"
     ]
    },
    {
     "name": "stdout",
     "output_type": "stream",
     "text": [
      "Avg MAE TTNE prediction validation set: 0.20618698000907898 (standardized) ; 763.597265625 (minutes)'\n",
      "Avg 1-(normalized) DL distance acitivty suffix prediction validation set: 0.2690097689628601\n",
      "Percentage of suffixes predicted to END: too early - 0.023078970900427997 ; right moment - 0.09906687508959228 ; too late - 0.8778541540099797\n",
      "Too early instances - avg amount of events too early: 8.105589866638184\n",
      "Too late instances - avg amount of events too late: 47.22214126586914\n",
      "Avg absolute amount of events predicted too early / too late: 41.64122009277344\n",
      "Avg MAE RRT prediction validation set:  11993.539583333333 (minutes)'\n",
      " \n",
      "------------------------------------\n",
      "EPOCH 90:\n",
      "____________________________________\n"
     ]
    },
    {
     "name": "stderr",
     "output_type": "stream",
     "text": [
      "Batch calculation at epoch 90.: 805it [00:17, 46.16it/s]"
     ]
    },
    {
     "name": "stdout",
     "output_type": "stream",
     "text": [
      "------------------------------------------------------------\n",
      "Epoch 90, batch 799:\n",
      "Average original gradient norm: 0.39540343061089517 (over last 800 batches)\n",
      "Average clipped gradient norm: 0.39540343061089517 (over last 800 batches)\n",
      "Running average global loss: 0.45741367142647504 (over last 800 batches)\n",
      "Running average activity prediction loss: 0.29815303020179273 (Cross Entropy over last 800 batches)\n",
      "Running average time till next event prediction loss: 0.15926064148545266 (MAE over last 800 batches)\n",
      "------------------------------------------------------------\n"
     ]
    },
    {
     "name": "stderr",
     "output_type": "stream",
     "text": [
      "Batch calculation at epoch 90.: 1605it [00:34, 45.66it/s]"
     ]
    },
    {
     "name": "stdout",
     "output_type": "stream",
     "text": [
      "------------------------------------------------------------\n",
      "Epoch 90, batch 1599:\n",
      "Average original gradient norm: 0.383480507619679 (over last 800 batches)\n",
      "Average clipped gradient norm: 0.383480507619679 (over last 800 batches)\n",
      "Running average global loss: 0.4571439015492797 (over last 800 batches)\n",
      "Running average activity prediction loss: 0.29776082150638106 (Cross Entropy over last 800 batches)\n",
      "Running average time till next event prediction loss: 0.15938308008946478 (MAE over last 800 batches)\n",
      "------------------------------------------------------------\n"
     ]
    },
    {
     "name": "stderr",
     "output_type": "stream",
     "text": [
      "Batch calculation at epoch 90.: 2407it [00:51, 46.56it/s]"
     ]
    },
    {
     "name": "stdout",
     "output_type": "stream",
     "text": [
      "------------------------------------------------------------\n",
      "Epoch 90, batch 2399:\n",
      "Average original gradient norm: 0.38838837763294576 (over last 800 batches)\n",
      "Average clipped gradient norm: 0.38838837763294576 (over last 800 batches)\n",
      "Running average global loss: 0.45797638650983574 (over last 800 batches)\n",
      "Running average activity prediction loss: 0.2976331112906337 (Cross Entropy over last 800 batches)\n",
      "Running average time till next event prediction loss: 0.16034327535890042 (MAE over last 800 batches)\n",
      "------------------------------------------------------------\n"
     ]
    },
    {
     "name": "stderr",
     "output_type": "stream",
     "text": [
      "Batch calculation at epoch 90.: 3207it [01:09, 46.33it/s]"
     ]
    },
    {
     "name": "stdout",
     "output_type": "stream",
     "text": [
      "------------------------------------------------------------\n",
      "Epoch 90, batch 3199:\n",
      "Average original gradient norm: 0.39280823040753604 (over last 800 batches)\n",
      "Average clipped gradient norm: 0.39253864634782076 (over last 800 batches)\n",
      "Running average global loss: 0.4573336873576045 (over last 800 batches)\n",
      "Running average activity prediction loss: 0.29831657841801645 (Cross Entropy over last 800 batches)\n",
      "Running average time till next event prediction loss: 0.1590171088837087 (MAE over last 800 batches)\n",
      "------------------------------------------------------------\n"
     ]
    },
    {
     "name": "stderr",
     "output_type": "stream",
     "text": [
      "Batch calculation at epoch 90.: 4007it [01:26, 46.35it/s]"
     ]
    },
    {
     "name": "stdout",
     "output_type": "stream",
     "text": [
      "------------------------------------------------------------\n",
      "Epoch 90, batch 3999:\n",
      "Average original gradient norm: 0.3913404079899192 (over last 800 batches)\n",
      "Average clipped gradient norm: 0.3913404079899192 (over last 800 batches)\n",
      "Running average global loss: 0.45757703997194765 (over last 800 batches)\n",
      "Running average activity prediction loss: 0.29737652257084846 (Cross Entropy over last 800 batches)\n",
      "Running average time till next event prediction loss: 0.1602005170006305 (MAE over last 800 batches)\n",
      "------------------------------------------------------------\n"
     ]
    },
    {
     "name": "stderr",
     "output_type": "stream",
     "text": [
      "Batch calculation at epoch 90.: 4798it [01:43, 46.41it/s]\n"
     ]
    },
    {
     "name": "stdout",
     "output_type": "stream",
     "text": [
      "=======================================\n",
      "End of epoch 90\n",
      "=======================================\n",
      "Running average global loss: 0.45772093620151283 (over last 800 batches)\n",
      "Running average activity prediction loss: 0.2984552634134889 (Cross Entropy over last 800 batches)\n",
      "Running average time till next event prediction loss: 0.15926567266695202 (MAE over last 800 batches)\n"
     ]
    },
    {
     "name": "stderr",
     "output_type": "stream",
     "text": [
      "Validation batch calculation: 72it [00:41,  1.72it/s]\n"
     ]
    },
    {
     "name": "stdout",
     "output_type": "stream",
     "text": [
      "Avg MAE TTNE prediction validation set: 0.20617793500423431 (standardized) ; 763.5621744791666 (minutes)'\n",
      "Avg 1-(normalized) DL distance acitivty suffix prediction validation set: 0.2731143832206726\n",
      "Percentage of suffixes predicted to END: too early - 0.02129736445114917 ; right moment - 0.0984457019597671 ; too late - 0.8802569335890837\n",
      "Too early instances - avg amount of events too early: 7.995512962341309\n",
      "Too late instances - avg amount of events too late: 45.07464599609375\n",
      "Avg absolute amount of events predicted too early / too late: 39.84755325317383\n",
      "Avg MAE RRT prediction validation set:  12036.808333333332 (minutes)'\n",
      " \n",
      "------------------------------------\n",
      "EPOCH 91:\n",
      "____________________________________\n"
     ]
    },
    {
     "name": "stderr",
     "output_type": "stream",
     "text": [
      "Batch calculation at epoch 91.: 807it [00:17, 46.72it/s]"
     ]
    },
    {
     "name": "stdout",
     "output_type": "stream",
     "text": [
      "------------------------------------------------------------\n",
      "Epoch 91, batch 799:\n",
      "Average original gradient norm: 0.4006975704804063 (over last 800 batches)\n",
      "Average clipped gradient norm: 0.39557896364480255 (over last 800 batches)\n",
      "Running average global loss: 0.4569633670523763 (over last 800 batches)\n",
      "Running average activity prediction loss: 0.29801352709531787 (Cross Entropy over last 800 batches)\n",
      "Running average time till next event prediction loss: 0.15894983955658973 (MAE over last 800 batches)\n",
      "------------------------------------------------------------\n"
     ]
    },
    {
     "name": "stderr",
     "output_type": "stream",
     "text": [
      "Batch calculation at epoch 91.: 1607it [00:34, 46.29it/s]"
     ]
    },
    {
     "name": "stdout",
     "output_type": "stream",
     "text": [
      "------------------------------------------------------------\n",
      "Epoch 91, batch 1599:\n",
      "Average original gradient norm: 0.3877122974768281 (over last 800 batches)\n",
      "Average clipped gradient norm: 0.3877122974768281 (over last 800 batches)\n",
      "Running average global loss: 0.45800552889704704 (over last 800 batches)\n",
      "Running average activity prediction loss: 0.2974974272027612 (Cross Entropy over last 800 batches)\n",
      "Running average time till next event prediction loss: 0.16050810193642973 (MAE over last 800 batches)\n",
      "------------------------------------------------------------\n"
     ]
    },
    {
     "name": "stderr",
     "output_type": "stream",
     "text": [
      "Batch calculation at epoch 91.: 2405it [00:51, 46.49it/s]"
     ]
    },
    {
     "name": "stdout",
     "output_type": "stream",
     "text": [
      "------------------------------------------------------------\n",
      "Epoch 91, batch 2399:\n",
      "Average original gradient norm: 0.3846347291767597 (over last 800 batches)\n",
      "Average clipped gradient norm: 0.3846347291767597 (over last 800 batches)\n",
      "Running average global loss: 0.4563804246857762 (over last 800 batches)\n",
      "Running average activity prediction loss: 0.2971899391338229 (Cross Entropy over last 800 batches)\n",
      "Running average time till next event prediction loss: 0.15919048649258913 (MAE over last 800 batches)\n",
      "------------------------------------------------------------\n"
     ]
    },
    {
     "name": "stderr",
     "output_type": "stream",
     "text": [
      "Batch calculation at epoch 91.: 3205it [01:08, 46.48it/s]"
     ]
    },
    {
     "name": "stdout",
     "output_type": "stream",
     "text": [
      "------------------------------------------------------------\n",
      "Epoch 91, batch 3199:\n",
      "Average original gradient norm: 0.3866760774329305 (over last 800 batches)\n",
      "Average clipped gradient norm: 0.3866760774329305 (over last 800 batches)\n",
      "Running average global loss: 0.45729817662388084 (over last 800 batches)\n",
      "Running average activity prediction loss: 0.29787199970334766 (Cross Entropy over last 800 batches)\n",
      "Running average time till next event prediction loss: 0.15942617753520608 (MAE over last 800 batches)\n",
      "------------------------------------------------------------\n"
     ]
    },
    {
     "name": "stderr",
     "output_type": "stream",
     "text": [
      "Batch calculation at epoch 91.: 4004it [01:26, 52.28it/s]"
     ]
    },
    {
     "name": "stdout",
     "output_type": "stream",
     "text": [
      "------------------------------------------------------------\n",
      "Epoch 91, batch 3999:\n",
      "Average original gradient norm: 0.39540040304884316 (over last 800 batches)\n",
      "Average clipped gradient norm: 0.39540040304884316 (over last 800 batches)\n",
      "Running average global loss: 0.4586188825592399 (over last 800 batches)\n",
      "Running average activity prediction loss: 0.29862015388906005 (Cross Entropy over last 800 batches)\n",
      "Running average time till next event prediction loss: 0.15999872871674597 (MAE over last 800 batches)\n",
      "------------------------------------------------------------\n"
     ]
    },
    {
     "name": "stderr",
     "output_type": "stream",
     "text": [
      "Batch calculation at epoch 91.: 4798it [01:43, 46.45it/s]\n"
     ]
    },
    {
     "name": "stdout",
     "output_type": "stream",
     "text": [
      "=======================================\n",
      "End of epoch 91\n",
      "=======================================\n",
      "Running average global loss: 0.4576402834430337 (over last 800 batches)\n",
      "Running average activity prediction loss: 0.2983671173080802 (Cross Entropy over last 800 batches)\n",
      "Running average time till next event prediction loss: 0.15927316556684673 (MAE over last 800 batches)\n"
     ]
    },
    {
     "name": "stderr",
     "output_type": "stream",
     "text": [
      "Validation batch calculation: 72it [00:41,  1.73it/s]\n"
     ]
    },
    {
     "name": "stdout",
     "output_type": "stream",
     "text": [
      "Avg MAE TTNE prediction validation set: 0.2062026709318161 (standardized) ; 763.6276692708333 (minutes)'\n",
      "Avg 1-(normalized) DL distance acitivty suffix prediction validation set: 0.2643622159957886\n",
      "Percentage of suffixes predicted to END: too early - 0.02241001522215472 ; right moment - 0.09871874509375618 ; too late - 0.8788712396840891\n",
      "Too early instances - avg amount of events too early: 8.151081085205078\n",
      "Too late instances - avg amount of events too late: 48.81230545043945\n",
      "Avg absolute amount of events predicted too early / too late: 43.0823974609375\n",
      "Avg MAE RRT prediction validation set:  11975.545833333334 (minutes)'\n",
      " \n",
      "------------------------------------\n",
      "EPOCH 92:\n",
      "____________________________________\n"
     ]
    },
    {
     "name": "stderr",
     "output_type": "stream",
     "text": [
      "Batch calculation at epoch 92.: 808it [00:17, 46.47it/s]"
     ]
    },
    {
     "name": "stdout",
     "output_type": "stream",
     "text": [
      "------------------------------------------------------------\n",
      "Epoch 92, batch 799:\n",
      "Average original gradient norm: 0.39072255544364454 (over last 800 batches)\n",
      "Average clipped gradient norm: 0.39072255544364454 (over last 800 batches)\n",
      "Running average global loss: 0.456875334456563 (over last 800 batches)\n",
      "Running average activity prediction loss: 0.2976559006050229 (Cross Entropy over last 800 batches)\n",
      "Running average time till next event prediction loss: 0.15921943441964687 (MAE over last 800 batches)\n",
      "------------------------------------------------------------\n"
     ]
    },
    {
     "name": "stderr",
     "output_type": "stream",
     "text": [
      "Batch calculation at epoch 92.: 1609it [00:34, 46.47it/s]"
     ]
    },
    {
     "name": "stdout",
     "output_type": "stream",
     "text": [
      "------------------------------------------------------------\n",
      "Epoch 92, batch 1599:\n",
      "Average original gradient norm: 0.39092590272426603 (over last 800 batches)\n",
      "Average clipped gradient norm: 0.39092590272426603 (over last 800 batches)\n",
      "Running average global loss: 0.4573245885595679 (over last 800 batches)\n",
      "Running average activity prediction loss: 0.2975465808063745 (Cross Entropy over last 800 batches)\n",
      "Running average time till next event prediction loss: 0.15977800825610758 (MAE over last 800 batches)\n",
      "------------------------------------------------------------\n"
     ]
    },
    {
     "name": "stderr",
     "output_type": "stream",
     "text": [
      "Batch calculation at epoch 92.: 2409it [00:51, 46.53it/s]"
     ]
    },
    {
     "name": "stdout",
     "output_type": "stream",
     "text": [
      "------------------------------------------------------------\n",
      "Epoch 92, batch 2399:\n",
      "Average original gradient norm: 0.3824301200918853 (over last 800 batches)\n",
      "Average clipped gradient norm: 0.3824301200918853 (over last 800 batches)\n",
      "Running average global loss: 0.4583830521255732 (over last 800 batches)\n",
      "Running average activity prediction loss: 0.2979011904448271 (Cross Entropy over last 800 batches)\n",
      "Running average time till next event prediction loss: 0.16048186153173447 (MAE over last 800 batches)\n",
      "------------------------------------------------------------\n"
     ]
    },
    {
     "name": "stderr",
     "output_type": "stream",
     "text": [
      "Batch calculation at epoch 92.: 3209it [01:03, 72.00it/s]"
     ]
    },
    {
     "name": "stdout",
     "output_type": "stream",
     "text": [
      "------------------------------------------------------------\n",
      "Epoch 92, batch 3199:\n",
      "Average original gradient norm: 0.3900380724668503 (over last 800 batches)\n",
      "Average clipped gradient norm: 0.3895719400048256 (over last 800 batches)\n",
      "Running average global loss: 0.4576814752072096 (over last 800 batches)\n",
      "Running average activity prediction loss: 0.2981485130637884 (Cross Entropy over last 800 batches)\n",
      "Running average time till next event prediction loss: 0.1595329623296857 (MAE over last 800 batches)\n",
      "------------------------------------------------------------\n"
     ]
    },
    {
     "name": "stderr",
     "output_type": "stream",
     "text": [
      "Batch calculation at epoch 92.: 4008it [01:15, 64.00it/s]"
     ]
    },
    {
     "name": "stdout",
     "output_type": "stream",
     "text": [
      "------------------------------------------------------------\n",
      "Epoch 92, batch 3999:\n",
      "Average original gradient norm: 0.3964443450793624 (over last 800 batches)\n",
      "Average clipped gradient norm: 0.3964443450793624 (over last 800 batches)\n",
      "Running average global loss: 0.45699853379279376 (over last 800 batches)\n",
      "Running average activity prediction loss: 0.2979449872300029 (Cross Entropy over last 800 batches)\n",
      "Running average time till next event prediction loss: 0.15905354688875378 (MAE over last 800 batches)\n",
      "------------------------------------------------------------\n"
     ]
    },
    {
     "name": "stderr",
     "output_type": "stream",
     "text": [
      "Batch calculation at epoch 92.: 4798it [01:27, 54.67it/s]\n"
     ]
    },
    {
     "name": "stdout",
     "output_type": "stream",
     "text": [
      "=======================================\n",
      "End of epoch 92\n",
      "=======================================\n",
      "Running average global loss: 0.4571595178171992 (over last 800 batches)\n",
      "Running average activity prediction loss: 0.29786058895289896 (Cross Entropy over last 800 batches)\n",
      "Running average time till next event prediction loss: 0.15929892845451832 (MAE over last 800 batches)\n"
     ]
    },
    {
     "name": "stderr",
     "output_type": "stream",
     "text": [
      "Validation batch calculation: 72it [00:34,  2.07it/s]\n"
     ]
    },
    {
     "name": "stdout",
     "output_type": "stream",
     "text": [
      "Avg MAE TTNE prediction validation set: 0.2062257081270218 (standardized) ; 763.7872395833333 (minutes)'\n",
      "Avg 1-(normalized) DL distance acitivty suffix prediction validation set: 0.2735258638858795\n",
      "Percentage of suffixes predicted to END: too early - 0.022949275411783175 ; right moment - 0.09864365823190918 ; too late - 0.8784070663563076\n",
      "Too early instances - avg amount of events too early: 8.084473609924316\n",
      "Too late instances - avg amount of events too late: 45.365478515625\n",
      "Avg absolute amount of events predicted too early / too late: 40.034889221191406\n",
      "Avg MAE RRT prediction validation set:  12014.073958333332 (minutes)'\n",
      " \n",
      "------------------------------------\n",
      "EPOCH 93:\n",
      "____________________________________\n"
     ]
    },
    {
     "name": "stderr",
     "output_type": "stream",
     "text": [
      "Batch calculation at epoch 93.: 806it [00:14, 54.75it/s]"
     ]
    },
    {
     "name": "stdout",
     "output_type": "stream",
     "text": [
      "------------------------------------------------------------\n",
      "Epoch 93, batch 799:\n",
      "Average original gradient norm: 0.43575369477272036 (over last 800 batches)\n",
      "Average clipped gradient norm: 0.40467808708548547 (over last 800 batches)\n",
      "Running average global loss: 0.45783231914043426 (over last 800 batches)\n",
      "Running average activity prediction loss: 0.2981649014353752 (Cross Entropy over last 800 batches)\n",
      "Running average time till next event prediction loss: 0.1596674178633839 (MAE over last 800 batches)\n",
      "------------------------------------------------------------\n"
     ]
    },
    {
     "name": "stderr",
     "output_type": "stream",
     "text": [
      "Batch calculation at epoch 93.: 1609it [00:28, 53.25it/s]"
     ]
    },
    {
     "name": "stdout",
     "output_type": "stream",
     "text": [
      "------------------------------------------------------------\n",
      "Epoch 93, batch 1599:\n",
      "Average original gradient norm: 0.38493896756321194 (over last 800 batches)\n",
      "Average clipped gradient norm: 0.38493896756321194 (over last 800 batches)\n",
      "Running average global loss: 0.45720106802880767 (over last 800 batches)\n",
      "Running average activity prediction loss: 0.2975923015549779 (Cross Entropy over last 800 batches)\n",
      "Running average time till next event prediction loss: 0.15960876647382974 (MAE over last 800 batches)\n",
      "------------------------------------------------------------\n"
     ]
    },
    {
     "name": "stderr",
     "output_type": "stream",
     "text": [
      "Batch calculation at epoch 93.: 2409it [00:43, 54.98it/s]"
     ]
    },
    {
     "name": "stdout",
     "output_type": "stream",
     "text": [
      "------------------------------------------------------------\n",
      "Epoch 93, batch 2399:\n",
      "Average original gradient norm: 0.38330389380455016 (over last 800 batches)\n",
      "Average clipped gradient norm: 0.38330389380455016 (over last 800 batches)\n",
      "Running average global loss: 0.4569527428224683 (over last 800 batches)\n",
      "Running average activity prediction loss: 0.29784857042133805 (Cross Entropy over last 800 batches)\n",
      "Running average time till next event prediction loss: 0.15910417234525084 (MAE over last 800 batches)\n",
      "------------------------------------------------------------\n"
     ]
    },
    {
     "name": "stderr",
     "output_type": "stream",
     "text": [
      "Batch calculation at epoch 93.: 3207it [00:57, 55.82it/s]"
     ]
    },
    {
     "name": "stdout",
     "output_type": "stream",
     "text": [
      "------------------------------------------------------------\n",
      "Epoch 93, batch 3199:\n",
      "Average original gradient norm: 0.38424290157854557 (over last 800 batches)\n",
      "Average clipped gradient norm: 0.38424290157854557 (over last 800 batches)\n",
      "Running average global loss: 0.45762323383241893 (over last 800 batches)\n",
      "Running average activity prediction loss: 0.29767478816211224 (Cross Entropy over last 800 batches)\n",
      "Running average time till next event prediction loss: 0.15994844559580088 (MAE over last 800 batches)\n",
      "------------------------------------------------------------\n"
     ]
    },
    {
     "name": "stderr",
     "output_type": "stream",
     "text": [
      "Batch calculation at epoch 93.: 4011it [01:12, 54.84it/s]"
     ]
    },
    {
     "name": "stdout",
     "output_type": "stream",
     "text": [
      "------------------------------------------------------------\n",
      "Epoch 93, batch 3999:\n",
      "Average original gradient norm: 0.39071691112592816 (over last 800 batches)\n",
      "Average clipped gradient norm: 0.3901418340392411 (over last 800 batches)\n",
      "Running average global loss: 0.4572145510837436 (over last 800 batches)\n",
      "Running average activity prediction loss: 0.29794738709926605 (Cross Entropy over last 800 batches)\n",
      "Running average time till next event prediction loss: 0.15926716363988816 (MAE over last 800 batches)\n",
      "------------------------------------------------------------\n"
     ]
    },
    {
     "name": "stderr",
     "output_type": "stream",
     "text": [
      "Batch calculation at epoch 93.: 4798it [01:26, 55.23it/s]\n"
     ]
    },
    {
     "name": "stdout",
     "output_type": "stream",
     "text": [
      "=======================================\n",
      "End of epoch 93\n",
      "=======================================\n",
      "Running average global loss: 0.4577453199774027 (over last 800 batches)\n",
      "Running average activity prediction loss: 0.2980132381990552 (Cross Entropy over last 800 batches)\n",
      "Running average time till next event prediction loss: 0.15973208141513168 (MAE over last 800 batches)\n"
     ]
    },
    {
     "name": "stderr",
     "output_type": "stream",
     "text": [
      "Validation batch calculation: 72it [00:35,  2.02it/s]\n"
     ]
    },
    {
     "name": "stdout",
     "output_type": "stream",
     "text": [
      "Avg MAE TTNE prediction validation set: 0.20622345805168152 (standardized) ; 763.7549479166667 (minutes)'\n",
      "Avg 1-(normalized) DL distance acitivty suffix prediction validation set: 0.25940874218940735\n",
      "Percentage of suffixes predicted to END: too early - 0.02008232250489771 ; right moment - 0.09798835471033536 ; too late - 0.8819293227847669\n",
      "Too early instances - avg amount of events too early: 8.01937484741211\n",
      "Too late instances - avg amount of events too late: 49.87836837768555\n",
      "Avg absolute amount of events predicted too early / too late: 44.15024185180664\n",
      "Avg MAE RRT prediction validation set:  11940.417708333332 (minutes)'\n",
      " \n",
      "------------------------------------\n",
      "EPOCH 94:\n",
      "____________________________________\n"
     ]
    },
    {
     "name": "stderr",
     "output_type": "stream",
     "text": [
      "Batch calculation at epoch 94.: 806it [00:14, 57.85it/s]"
     ]
    },
    {
     "name": "stdout",
     "output_type": "stream",
     "text": [
      "------------------------------------------------------------\n",
      "Epoch 94, batch 799:\n",
      "Average original gradient norm: 0.4190196237526834 (over last 800 batches)\n",
      "Average clipped gradient norm: 0.3919832809828222 (over last 800 batches)\n",
      "Running average global loss: 0.4567608204111457 (over last 800 batches)\n",
      "Running average activity prediction loss: 0.2971742621064186 (Cross Entropy over last 800 batches)\n",
      "Running average time till next event prediction loss: 0.15958655809052288 (MAE over last 800 batches)\n",
      "------------------------------------------------------------\n"
     ]
    },
    {
     "name": "stderr",
     "output_type": "stream",
     "text": [
      "Batch calculation at epoch 94.: 1606it [00:29, 51.45it/s]"
     ]
    },
    {
     "name": "stdout",
     "output_type": "stream",
     "text": [
      "------------------------------------------------------------\n",
      "Epoch 94, batch 1599:\n",
      "Average original gradient norm: 0.38602660229429603 (over last 800 batches)\n",
      "Average clipped gradient norm: 0.38383769130334255 (over last 800 batches)\n",
      "Running average global loss: 0.457024112790823 (over last 800 batches)\n",
      "Running average activity prediction loss: 0.29766276832669974 (Cross Entropy over last 800 batches)\n",
      "Running average time till next event prediction loss: 0.15936134422197937 (MAE over last 800 batches)\n",
      "------------------------------------------------------------\n"
     ]
    },
    {
     "name": "stderr",
     "output_type": "stream",
     "text": [
      "Batch calculation at epoch 94.: 2410it [00:44, 57.58it/s]"
     ]
    },
    {
     "name": "stdout",
     "output_type": "stream",
     "text": [
      "------------------------------------------------------------\n",
      "Epoch 94, batch 2399:\n",
      "Average original gradient norm: 0.3869407953321934 (over last 800 batches)\n",
      "Average clipped gradient norm: 0.3869407953321934 (over last 800 batches)\n",
      "Running average global loss: 0.4577260631322861 (over last 800 batches)\n",
      "Running average activity prediction loss: 0.29831710893660784 (Cross Entropy over last 800 batches)\n",
      "Running average time till next event prediction loss: 0.15940895485691725 (MAE over last 800 batches)\n",
      "------------------------------------------------------------\n"
     ]
    },
    {
     "name": "stderr",
     "output_type": "stream",
     "text": [
      "Batch calculation at epoch 94.: 3206it [01:00, 46.21it/s]"
     ]
    },
    {
     "name": "stdout",
     "output_type": "stream",
     "text": [
      "------------------------------------------------------------\n",
      "Epoch 94, batch 3199:\n",
      "Average original gradient norm: 0.4147050523944199 (over last 800 batches)\n",
      "Average clipped gradient norm: 0.39290176110342145 (over last 800 batches)\n",
      "Running average global loss: 0.45783129513263704 (over last 800 batches)\n",
      "Running average activity prediction loss: 0.2977075098454952 (Cross Entropy over last 800 batches)\n",
      "Running average time till next event prediction loss: 0.1601237849984318 (MAE over last 800 batches)\n",
      "------------------------------------------------------------\n"
     ]
    },
    {
     "name": "stderr",
     "output_type": "stream",
     "text": [
      "Batch calculation at epoch 94.: 4006it [01:18, 46.67it/s]"
     ]
    },
    {
     "name": "stdout",
     "output_type": "stream",
     "text": [
      "------------------------------------------------------------\n",
      "Epoch 94, batch 3999:\n",
      "Average original gradient norm: 0.3930266953259707 (over last 800 batches)\n",
      "Average clipped gradient norm: 0.3930266953259707 (over last 800 batches)\n",
      "Running average global loss: 0.4576682733371854 (over last 800 batches)\n",
      "Running average activity prediction loss: 0.2981845673173666 (Cross Entropy over last 800 batches)\n",
      "Running average time till next event prediction loss: 0.15948370626196265 (MAE over last 800 batches)\n",
      "------------------------------------------------------------\n"
     ]
    },
    {
     "name": "stderr",
     "output_type": "stream",
     "text": [
      "Batch calculation at epoch 94.: 4798it [01:35, 50.40it/s]\n"
     ]
    },
    {
     "name": "stdout",
     "output_type": "stream",
     "text": [
      "=======================================\n",
      "End of epoch 94\n",
      "=======================================\n",
      "Running average global loss: 0.457254852540791 (over last 800 batches)\n",
      "Running average activity prediction loss: 0.2979093158990145 (Cross Entropy over last 800 batches)\n",
      "Running average time till next event prediction loss: 0.15934553665108978 (MAE over last 800 batches)\n"
     ]
    },
    {
     "name": "stderr",
     "output_type": "stream",
     "text": [
      "Validation batch calculation: 72it [00:42,  1.71it/s]\n"
     ]
    },
    {
     "name": "stdout",
     "output_type": "stream",
     "text": [
      "Avg MAE TTNE prediction validation set: 0.20622386038303375 (standardized) ; 763.7477864583333 (minutes)'\n",
      "Avg 1-(normalized) DL distance acitivty suffix prediction validation set: 0.273852676153183\n",
      "Percentage of suffixes predicted to END: too early - 0.02266258012109463 ; right moment - 0.09883478842570155 ; too late - 0.8785026314532038\n",
      "Too early instances - avg amount of events too early: 8.036445617675781\n",
      "Too late instances - avg amount of events too late: 45.25022888183594\n",
      "Avg absolute amount of events predicted too early / too late: 39.9345703125\n",
      "Avg MAE RRT prediction validation set:  12011.836458333333 (minutes)'\n",
      " \n",
      "------------------------------------\n",
      "EPOCH 95:\n",
      "____________________________________\n"
     ]
    },
    {
     "name": "stderr",
     "output_type": "stream",
     "text": [
      "Batch calculation at epoch 95.: 805it [00:17, 46.36it/s]"
     ]
    },
    {
     "name": "stdout",
     "output_type": "stream",
     "text": [
      "------------------------------------------------------------\n",
      "Epoch 95, batch 799:\n",
      "Average original gradient norm: 0.3927713611908257 (over last 800 batches)\n",
      "Average clipped gradient norm: 0.3927713611908257 (over last 800 batches)\n",
      "Running average global loss: 0.45764897733926774 (over last 800 batches)\n",
      "Running average activity prediction loss: 0.29801208559423686 (Cross Entropy over last 800 batches)\n",
      "Running average time till next event prediction loss: 0.1596368914935738 (MAE over last 800 batches)\n",
      "------------------------------------------------------------\n"
     ]
    },
    {
     "name": "stderr",
     "output_type": "stream",
     "text": [
      "Batch calculation at epoch 95.: 1605it [00:34, 46.90it/s]"
     ]
    },
    {
     "name": "stdout",
     "output_type": "stream",
     "text": [
      "------------------------------------------------------------\n",
      "Epoch 95, batch 1599:\n",
      "Average original gradient norm: 0.38529111742973327 (over last 800 batches)\n",
      "Average clipped gradient norm: 0.38529111742973327 (over last 800 batches)\n",
      "Running average global loss: 0.4577359541505575 (over last 800 batches)\n",
      "Running average activity prediction loss: 0.2978028117865324 (Cross Entropy over last 800 batches)\n",
      "Running average time till next event prediction loss: 0.1599331423547119 (MAE over last 800 batches)\n",
      "------------------------------------------------------------\n"
     ]
    },
    {
     "name": "stderr",
     "output_type": "stream",
     "text": [
      "Batch calculation at epoch 95.: 2408it [00:51, 46.74it/s]"
     ]
    },
    {
     "name": "stdout",
     "output_type": "stream",
     "text": [
      "------------------------------------------------------------\n",
      "Epoch 95, batch 2399:\n",
      "Average original gradient norm: 0.38524949334561825 (over last 800 batches)\n",
      "Average clipped gradient norm: 0.38524949334561825 (over last 800 batches)\n",
      "Running average global loss: 0.4570921342074871 (over last 800 batches)\n",
      "Running average activity prediction loss: 0.2976842899620533 (Cross Entropy over last 800 batches)\n",
      "Running average time till next event prediction loss: 0.1594078439567238 (MAE over last 800 batches)\n",
      "------------------------------------------------------------\n"
     ]
    },
    {
     "name": "stderr",
     "output_type": "stream",
     "text": [
      "Batch calculation at epoch 95.: 3208it [01:09, 46.74it/s]"
     ]
    },
    {
     "name": "stdout",
     "output_type": "stream",
     "text": [
      "------------------------------------------------------------\n",
      "Epoch 95, batch 3199:\n",
      "Average original gradient norm: 0.40129925595596433 (over last 800 batches)\n",
      "Average clipped gradient norm: 0.3941617052443325 (over last 800 batches)\n",
      "Running average global loss: 0.45654302325099705 (over last 800 batches)\n",
      "Running average activity prediction loss: 0.29742853842675687 (Cross Entropy over last 800 batches)\n",
      "Running average time till next event prediction loss: 0.1591144849732518 (MAE over last 800 batches)\n",
      "------------------------------------------------------------\n"
     ]
    },
    {
     "name": "stderr",
     "output_type": "stream",
     "text": [
      "Batch calculation at epoch 95.: 4009it [01:26, 46.53it/s]"
     ]
    },
    {
     "name": "stdout",
     "output_type": "stream",
     "text": [
      "------------------------------------------------------------\n",
      "Epoch 95, batch 3999:\n",
      "Average original gradient norm: 0.39365859488025307 (over last 800 batches)\n",
      "Average clipped gradient norm: 0.39365859488025307 (over last 800 batches)\n",
      "Running average global loss: 0.4572531348839402 (over last 800 batches)\n",
      "Running average activity prediction loss: 0.2978976692259312 (Cross Entropy over last 800 batches)\n",
      "Running average time till next event prediction loss: 0.1593554656393826 (MAE over last 800 batches)\n",
      "------------------------------------------------------------\n"
     ]
    },
    {
     "name": "stderr",
     "output_type": "stream",
     "text": [
      "Batch calculation at epoch 95.: 4798it [01:43, 46.25it/s]\n"
     ]
    },
    {
     "name": "stdout",
     "output_type": "stream",
     "text": [
      "=======================================\n",
      "End of epoch 95\n",
      "=======================================\n",
      "Running average global loss: 0.4581043855845928 (over last 800 batches)\n",
      "Running average activity prediction loss: 0.2982105072215199 (Cross Entropy over last 800 batches)\n",
      "Running average time till next event prediction loss: 0.15989387870766222 (MAE over last 800 batches)\n"
     ]
    },
    {
     "name": "stderr",
     "output_type": "stream",
     "text": [
      "Validation batch calculation: 72it [00:41,  1.73it/s]\n"
     ]
    },
    {
     "name": "stdout",
     "output_type": "stream",
     "text": [
      "Avg MAE TTNE prediction validation set: 0.2061975598335266 (standardized) ; 763.6070963541666 (minutes)'\n",
      "Avg 1-(normalized) DL distance acitivty suffix prediction validation set: 0.26283708214759827\n",
      "Percentage of suffixes predicted to END: too early - 0.02001406172140044 ; right moment - 0.09774261588974519 ; too late - 0.8822433223888544\n",
      "Too early instances - avg amount of events too early: 7.964529514312744\n",
      "Too late instances - avg amount of events too late: 48.62344741821289\n",
      "Avg absolute amount of events predicted too early / too late: 43.05711364746094\n",
      "Avg MAE RRT prediction validation set:  11979.91875 (minutes)'\n",
      " \n",
      "------------------------------------\n",
      "EPOCH 96:\n",
      "____________________________________\n"
     ]
    },
    {
     "name": "stderr",
     "output_type": "stream",
     "text": [
      "Batch calculation at epoch 96.: 809it [00:17, 46.49it/s]"
     ]
    },
    {
     "name": "stdout",
     "output_type": "stream",
     "text": [
      "------------------------------------------------------------\n",
      "Epoch 96, batch 799:\n",
      "Average original gradient norm: 0.38132368566468355 (over last 800 batches)\n",
      "Average clipped gradient norm: 0.38132368566468355 (over last 800 batches)\n",
      "Running average global loss: 0.4570887814089656 (over last 800 batches)\n",
      "Running average activity prediction loss: 0.2973700548708439 (Cross Entropy over last 800 batches)\n",
      "Running average time till next event prediction loss: 0.15971872638911008 (MAE over last 800 batches)\n",
      "------------------------------------------------------------\n"
     ]
    },
    {
     "name": "stderr",
     "output_type": "stream",
     "text": [
      "Batch calculation at epoch 96.: 1609it [00:34, 46.02it/s]"
     ]
    },
    {
     "name": "stdout",
     "output_type": "stream",
     "text": [
      "------------------------------------------------------------\n",
      "Epoch 96, batch 1599:\n",
      "Average original gradient norm: 0.3919168347120285 (over last 800 batches)\n",
      "Average clipped gradient norm: 0.3919168347120285 (over last 800 batches)\n",
      "Running average global loss: 0.4578267493098974 (over last 800 batches)\n",
      "Running average activity prediction loss: 0.2983454451709986 (Cross Entropy over last 800 batches)\n",
      "Running average time till next event prediction loss: 0.15948130414821207 (MAE over last 800 batches)\n",
      "------------------------------------------------------------\n"
     ]
    },
    {
     "name": "stderr",
     "output_type": "stream",
     "text": [
      "Batch calculation at epoch 96.: 2409it [00:51, 46.37it/s]"
     ]
    },
    {
     "name": "stdout",
     "output_type": "stream",
     "text": [
      "------------------------------------------------------------\n",
      "Epoch 96, batch 2399:\n",
      "Average original gradient norm: 0.39111442493274806 (over last 800 batches)\n",
      "Average clipped gradient norm: 0.39084534170106056 (over last 800 batches)\n",
      "Running average global loss: 0.45836033336818216 (over last 800 batches)\n",
      "Running average activity prediction loss: 0.2982457364723086 (Cross Entropy over last 800 batches)\n",
      "Running average time till next event prediction loss: 0.1601145969610661 (MAE over last 800 batches)\n",
      "------------------------------------------------------------\n"
     ]
    },
    {
     "name": "stderr",
     "output_type": "stream",
     "text": [
      "Batch calculation at epoch 96.: 3209it [01:09, 46.63it/s]"
     ]
    },
    {
     "name": "stdout",
     "output_type": "stream",
     "text": [
      "------------------------------------------------------------\n",
      "Epoch 96, batch 3199:\n",
      "Average original gradient norm: 0.39896625274792313 (over last 800 batches)\n",
      "Average clipped gradient norm: 0.39896625274792313 (over last 800 batches)\n",
      "Running average global loss: 0.45663354616612195 (over last 800 batches)\n",
      "Running average activity prediction loss: 0.2974334605410695 (Cross Entropy over last 800 batches)\n",
      "Running average time till next event prediction loss: 0.15920008536428212 (MAE over last 800 batches)\n",
      "------------------------------------------------------------\n"
     ]
    },
    {
     "name": "stderr",
     "output_type": "stream",
     "text": [
      "Batch calculation at epoch 96.: 4007it [01:26, 46.43it/s]"
     ]
    },
    {
     "name": "stdout",
     "output_type": "stream",
     "text": [
      "------------------------------------------------------------\n",
      "Epoch 96, batch 3999:\n",
      "Average original gradient norm: 0.3969396369345486 (over last 800 batches)\n",
      "Average clipped gradient norm: 0.3917786844260991 (over last 800 batches)\n",
      "Running average global loss: 0.45739578165113925 (over last 800 batches)\n",
      "Running average activity prediction loss: 0.2979587672650814 (Cross Entropy over last 800 batches)\n",
      "Running average time till next event prediction loss: 0.15943701474927366 (MAE over last 800 batches)\n",
      "------------------------------------------------------------\n"
     ]
    },
    {
     "name": "stderr",
     "output_type": "stream",
     "text": [
      "Batch calculation at epoch 96.: 4798it [01:43, 46.41it/s]\n"
     ]
    },
    {
     "name": "stdout",
     "output_type": "stream",
     "text": [
      "=======================================\n",
      "End of epoch 96\n",
      "=======================================\n",
      "Running average global loss: 0.4568208509683609 (over last 800 batches)\n",
      "Running average activity prediction loss: 0.29755650497972963 (Cross Entropy over last 800 batches)\n",
      "Running average time till next event prediction loss: 0.1592643460445106 (MAE over last 800 batches)\n"
     ]
    },
    {
     "name": "stderr",
     "output_type": "stream",
     "text": [
      "Validation batch calculation: 72it [00:41,  1.72it/s]\n"
     ]
    },
    {
     "name": "stdout",
     "output_type": "stream",
     "text": [
      "Avg MAE TTNE prediction validation set: 0.20626641809940338 (standardized) ; 763.8983723958333 (minutes)'\n",
      "Avg 1-(normalized) DL distance acitivty suffix prediction validation set: 0.2734152674674988\n",
      "Percentage of suffixes predicted to END: too early - 0.021638668368635535 ; right moment - 0.09843887588141736 ; too late - 0.8799224557499471\n",
      "Too early instances - avg amount of events too early: 7.946372032165527\n",
      "Too late instances - avg amount of events too late: 45.04594039916992\n",
      "Avg absolute amount of events predicted too early / too late: 39.80888366699219\n",
      "Avg MAE RRT prediction validation set:  12009.396875 (minutes)'\n",
      " \n",
      "------------------------------------\n",
      "EPOCH 97:\n",
      "____________________________________\n"
     ]
    },
    {
     "name": "stderr",
     "output_type": "stream",
     "text": [
      "Batch calculation at epoch 97.: 809it [00:17, 45.03it/s]"
     ]
    },
    {
     "name": "stdout",
     "output_type": "stream",
     "text": [
      "------------------------------------------------------------\n",
      "Epoch 97, batch 799:\n",
      "Average original gradient norm: 0.4091526000574231 (over last 800 batches)\n",
      "Average clipped gradient norm: 0.4032118349149823 (over last 800 batches)\n",
      "Running average global loss: 0.45790633112192153 (over last 800 batches)\n",
      "Running average activity prediction loss: 0.29808306075632574 (Cross Entropy over last 800 batches)\n",
      "Running average time till next event prediction loss: 0.15982327041216193 (MAE over last 800 batches)\n",
      "------------------------------------------------------------\n"
     ]
    },
    {
     "name": "stderr",
     "output_type": "stream",
     "text": [
      "Batch calculation at epoch 97.: 1609it [00:34, 46.35it/s]"
     ]
    },
    {
     "name": "stdout",
     "output_type": "stream",
     "text": [
      "------------------------------------------------------------\n",
      "Epoch 97, batch 1599:\n",
      "Average original gradient norm: 0.39289689088240265 (over last 800 batches)\n",
      "Average clipped gradient norm: 0.39289689088240265 (over last 800 batches)\n",
      "Running average global loss: 0.4579955439269543 (over last 800 batches)\n",
      "Running average activity prediction loss: 0.2984773909300566 (Cross Entropy over last 800 batches)\n",
      "Running average time till next event prediction loss: 0.15951815268956124 (MAE over last 800 batches)\n",
      "------------------------------------------------------------\n"
     ]
    },
    {
     "name": "stderr",
     "output_type": "stream",
     "text": [
      "Batch calculation at epoch 97.: 2406it [00:51, 46.30it/s]"
     ]
    },
    {
     "name": "stdout",
     "output_type": "stream",
     "text": [
      "------------------------------------------------------------\n",
      "Epoch 97, batch 2399:\n",
      "Average original gradient norm: 0.39031388480216267 (over last 800 batches)\n",
      "Average clipped gradient norm: 0.39031388480216267 (over last 800 batches)\n",
      "Running average global loss: 0.4570556200668216 (over last 800 batches)\n",
      "Running average activity prediction loss: 0.2975482267141342 (Cross Entropy over last 800 batches)\n",
      "Running average time till next event prediction loss: 0.15950739303603767 (MAE over last 800 batches)\n",
      "------------------------------------------------------------\n"
     ]
    },
    {
     "name": "stderr",
     "output_type": "stream",
     "text": [
      "Batch calculation at epoch 97.: 3206it [01:09, 46.65it/s]"
     ]
    },
    {
     "name": "stdout",
     "output_type": "stream",
     "text": [
      "------------------------------------------------------------\n",
      "Epoch 97, batch 3199:\n",
      "Average original gradient norm: 0.3844752146303654 (over last 800 batches)\n",
      "Average clipped gradient norm: 0.3844752146303654 (over last 800 batches)\n",
      "Running average global loss: 0.4566929502040148 (over last 800 batches)\n",
      "Running average activity prediction loss: 0.2977054486423731 (Cross Entropy over last 800 batches)\n",
      "Running average time till next event prediction loss: 0.15898750212043525 (MAE over last 800 batches)\n",
      "------------------------------------------------------------\n"
     ]
    },
    {
     "name": "stderr",
     "output_type": "stream",
     "text": [
      "Batch calculation at epoch 97.: 4007it [01:26, 46.52it/s]"
     ]
    },
    {
     "name": "stdout",
     "output_type": "stream",
     "text": [
      "------------------------------------------------------------\n",
      "Epoch 97, batch 3999:\n",
      "Average original gradient norm: 0.39407666385173795 (over last 800 batches)\n",
      "Average clipped gradient norm: 0.39407666385173795 (over last 800 batches)\n",
      "Running average global loss: 0.4573093097656965 (over last 800 batches)\n",
      "Running average activity prediction loss: 0.29783769402652976 (Cross Entropy over last 800 batches)\n",
      "Running average time till next event prediction loss: 0.15947161632589996 (MAE over last 800 batches)\n",
      "------------------------------------------------------------\n"
     ]
    },
    {
     "name": "stderr",
     "output_type": "stream",
     "text": [
      "Batch calculation at epoch 97.: 4798it [01:43, 46.41it/s]\n"
     ]
    },
    {
     "name": "stdout",
     "output_type": "stream",
     "text": [
      "=======================================\n",
      "End of epoch 97\n",
      "=======================================\n",
      "Running average global loss: 0.4573074622452259 (over last 800 batches)\n",
      "Running average activity prediction loss: 0.2972269617766142 (Cross Entropy over last 800 batches)\n",
      "Running average time till next event prediction loss: 0.16008050052449108 (MAE over last 800 batches)\n"
     ]
    },
    {
     "name": "stderr",
     "output_type": "stream",
     "text": [
      "Validation batch calculation: 72it [00:41,  1.73it/s]\n"
     ]
    },
    {
     "name": "stdout",
     "output_type": "stream",
     "text": [
      "Avg MAE TTNE prediction validation set: 0.20619821548461914 (standardized) ; 763.6721354166667 (minutes)'\n",
      "Avg 1-(normalized) DL distance acitivty suffix prediction validation set: 0.2730344831943512\n",
      "Percentage of suffixes predicted to END: too early - 0.022375884830406083 ; right moment - 0.098698266858707 ; too late - 0.8789258483108869\n",
      "Too early instances - avg amount of events too early: 7.974069595336914\n",
      "Too late instances - avg amount of events too late: 45.5118293762207\n",
      "Avg absolute amount of events predicted too early / too late: 40.17995071411133\n",
      "Avg MAE RRT prediction validation set:  12015.513541666667 (minutes)'\n",
      " \n",
      "------------------------------------\n",
      "EPOCH 98:\n",
      "____________________________________\n"
     ]
    },
    {
     "name": "stderr",
     "output_type": "stream",
     "text": [
      "Batch calculation at epoch 98.: 806it [00:17, 46.71it/s]"
     ]
    },
    {
     "name": "stdout",
     "output_type": "stream",
     "text": [
      "------------------------------------------------------------\n",
      "Epoch 98, batch 799:\n",
      "Average original gradient norm: 0.3966200114041567 (over last 800 batches)\n",
      "Average clipped gradient norm: 0.3961905264109373 (over last 800 batches)\n",
      "Running average global loss: 0.4572427347674966 (over last 800 batches)\n",
      "Running average activity prediction loss: 0.29765934571623803 (Cross Entropy over last 800 batches)\n",
      "Running average time till next event prediction loss: 0.159583388697356 (MAE over last 800 batches)\n",
      "------------------------------------------------------------\n"
     ]
    },
    {
     "name": "stderr",
     "output_type": "stream",
     "text": [
      "Batch calculation at epoch 98.: 1606it [00:34, 46.39it/s]"
     ]
    },
    {
     "name": "stdout",
     "output_type": "stream",
     "text": [
      "------------------------------------------------------------\n",
      "Epoch 98, batch 1599:\n",
      "Average original gradient norm: 0.4031213468685746 (over last 800 batches)\n",
      "Average clipped gradient norm: 0.39903443951159717 (over last 800 batches)\n",
      "Running average global loss: 0.45779375106096265 (over last 800 batches)\n",
      "Running average activity prediction loss: 0.29827224150300025 (Cross Entropy over last 800 batches)\n",
      "Running average time till next event prediction loss: 0.15952150946483015 (MAE over last 800 batches)\n",
      "------------------------------------------------------------\n"
     ]
    },
    {
     "name": "stderr",
     "output_type": "stream",
     "text": [
      "Batch calculation at epoch 98.: 2406it [00:51, 46.53it/s]"
     ]
    },
    {
     "name": "stdout",
     "output_type": "stream",
     "text": [
      "------------------------------------------------------------\n",
      "Epoch 98, batch 2399:\n",
      "Average original gradient norm: 0.400183533038944 (over last 800 batches)\n",
      "Average clipped gradient norm: 0.3932817161642015 (over last 800 batches)\n",
      "Running average global loss: 0.4575827131792903 (over last 800 batches)\n",
      "Running average activity prediction loss: 0.29810320023447273 (Cross Entropy over last 800 batches)\n",
      "Running average time till next event prediction loss: 0.15947951358743012 (MAE over last 800 batches)\n",
      "------------------------------------------------------------\n"
     ]
    },
    {
     "name": "stderr",
     "output_type": "stream",
     "text": [
      "Batch calculation at epoch 98.: 3205it [01:09, 46.67it/s]"
     ]
    },
    {
     "name": "stdout",
     "output_type": "stream",
     "text": [
      "------------------------------------------------------------\n",
      "Epoch 98, batch 3199:\n",
      "Average original gradient norm: 0.3829755424335599 (over last 800 batches)\n",
      "Average clipped gradient norm: 0.3829755424335599 (over last 800 batches)\n",
      "Running average global loss: 0.45738557882606984 (over last 800 batches)\n",
      "Running average activity prediction loss: 0.2973897691443563 (Cross Entropy over last 800 batches)\n",
      "Running average time till next event prediction loss: 0.15999580960720777 (MAE over last 800 batches)\n",
      "------------------------------------------------------------\n"
     ]
    },
    {
     "name": "stderr",
     "output_type": "stream",
     "text": [
      "Batch calculation at epoch 98.: 4005it [01:26, 46.52it/s]"
     ]
    },
    {
     "name": "stdout",
     "output_type": "stream",
     "text": [
      "------------------------------------------------------------\n",
      "Epoch 98, batch 3999:\n",
      "Average original gradient norm: 0.3897726159542799 (over last 800 batches)\n",
      "Average clipped gradient norm: 0.38757669664919375 (over last 800 batches)\n",
      "Running average global loss: 0.45731618501245974 (over last 800 batches)\n",
      "Running average activity prediction loss: 0.29768156610429286 (Cross Entropy over last 800 batches)\n",
      "Running average time till next event prediction loss: 0.15963461904786527 (MAE over last 800 batches)\n",
      "------------------------------------------------------------\n"
     ]
    },
    {
     "name": "stderr",
     "output_type": "stream",
     "text": [
      "Batch calculation at epoch 98.: 4798it [01:43, 46.41it/s]\n"
     ]
    },
    {
     "name": "stdout",
     "output_type": "stream",
     "text": [
      "=======================================\n",
      "End of epoch 98\n",
      "=======================================\n",
      "Running average global loss: 0.45646832648664715 (over last 800 batches)\n",
      "Running average activity prediction loss: 0.29749277677387 (Cross Entropy over last 800 batches)\n",
      "Running average time till next event prediction loss: 0.15897555002942682 (MAE over last 800 batches)\n"
     ]
    },
    {
     "name": "stderr",
     "output_type": "stream",
     "text": [
      "Validation batch calculation: 72it [00:42,  1.71it/s]\n"
     ]
    },
    {
     "name": "stdout",
     "output_type": "stream",
     "text": [
      "Avg MAE TTNE prediction validation set: 0.20622175931930542 (standardized) ; 763.7242838541666 (minutes)'\n",
      "Avg 1-(normalized) DL distance acitivty suffix prediction validation set: 0.27954337000846863\n",
      "Percentage of suffixes predicted to END: too early - 0.02538618538263582 ; right moment - 0.099824569786412 ; too late - 0.8747892448309522\n",
      "Too early instances - avg amount of events too early: 8.08093547821045\n",
      "Too late instances - avg amount of events too late: 44.12200927734375\n",
      "Avg absolute amount of events predicted too early / too late: 38.80260467529297\n",
      "Avg MAE RRT prediction validation set:  12035.183333333332 (minutes)'\n",
      " \n",
      "------------------------------------\n",
      "EPOCH 99:\n",
      "____________________________________\n"
     ]
    },
    {
     "name": "stderr",
     "output_type": "stream",
     "text": [
      "Batch calculation at epoch 99.: 809it [00:17, 46.34it/s]"
     ]
    },
    {
     "name": "stdout",
     "output_type": "stream",
     "text": [
      "------------------------------------------------------------\n",
      "Epoch 99, batch 799:\n",
      "Average original gradient norm: 0.4007522769644856 (over last 800 batches)\n",
      "Average clipped gradient norm: 0.39932761941105127 (over last 800 batches)\n",
      "Running average global loss: 0.4574140229076147 (over last 800 batches)\n",
      "Running average activity prediction loss: 0.2980840043723583 (Cross Entropy over last 800 batches)\n",
      "Running average time till next event prediction loss: 0.15933001855388285 (MAE over last 800 batches)\n",
      "------------------------------------------------------------\n"
     ]
    },
    {
     "name": "stderr",
     "output_type": "stream",
     "text": [
      "Batch calculation at epoch 99.: 1607it [00:34, 46.51it/s]"
     ]
    },
    {
     "name": "stdout",
     "output_type": "stream",
     "text": [
      "------------------------------------------------------------\n",
      "Epoch 99, batch 1599:\n",
      "Average original gradient norm: 0.3873277581855655 (over last 800 batches)\n",
      "Average clipped gradient norm: 0.3873277581855655 (over last 800 batches)\n",
      "Running average global loss: 0.4579443083330989 (over last 800 batches)\n",
      "Running average activity prediction loss: 0.29764690313488246 (Cross Entropy over last 800 batches)\n",
      "Running average time till next event prediction loss: 0.16029740538448095 (MAE over last 800 batches)\n",
      "------------------------------------------------------------\n"
     ]
    },
    {
     "name": "stderr",
     "output_type": "stream",
     "text": [
      "Batch calculation at epoch 99.: 2407it [00:51, 39.39it/s]"
     ]
    },
    {
     "name": "stdout",
     "output_type": "stream",
     "text": [
      "------------------------------------------------------------\n",
      "Epoch 99, batch 2399:\n",
      "Average original gradient norm: 0.3900579345971346 (over last 800 batches)\n",
      "Average clipped gradient norm: 0.38930988870561123 (over last 800 batches)\n",
      "Running average global loss: 0.45818575531244277 (over last 800 batches)\n",
      "Running average activity prediction loss: 0.2981436333805323 (Cross Entropy over last 800 batches)\n",
      "Running average time till next event prediction loss: 0.16004212166182696 (MAE over last 800 batches)\n",
      "------------------------------------------------------------\n"
     ]
    },
    {
     "name": "stderr",
     "output_type": "stream",
     "text": [
      "Batch calculation at epoch 99.: 3212it [01:09, 61.01it/s]"
     ]
    },
    {
     "name": "stdout",
     "output_type": "stream",
     "text": [
      "------------------------------------------------------------\n",
      "Epoch 99, batch 3199:\n",
      "Average original gradient norm: 0.39146993815898895 (over last 800 batches)\n",
      "Average clipped gradient norm: 0.39146993815898895 (over last 800 batches)\n",
      "Running average global loss: 0.45777091190218927 (over last 800 batches)\n",
      "Running average activity prediction loss: 0.2977945385873318 (Cross Entropy over last 800 batches)\n",
      "Running average time till next event prediction loss: 0.15997637360356748 (MAE over last 800 batches)\n",
      "------------------------------------------------------------\n"
     ]
    },
    {
     "name": "stderr",
     "output_type": "stream",
     "text": [
      "Batch calculation at epoch 99.: 4009it [01:26, 46.43it/s]"
     ]
    },
    {
     "name": "stdout",
     "output_type": "stream",
     "text": [
      "------------------------------------------------------------\n",
      "Epoch 99, batch 3999:\n",
      "Average original gradient norm: 0.39305788991972807 (over last 800 batches)\n",
      "Average clipped gradient norm: 0.391986493896693 (over last 800 batches)\n",
      "Running average global loss: 0.4564606577157974 (over last 800 batches)\n",
      "Running average activity prediction loss: 0.2975983997806907 (Cross Entropy over last 800 batches)\n",
      "Running average time till next event prediction loss: 0.15886225796304643 (MAE over last 800 batches)\n",
      "------------------------------------------------------------\n"
     ]
    },
    {
     "name": "stderr",
     "output_type": "stream",
     "text": [
      "Batch calculation at epoch 99.: 4798it [01:43, 46.36it/s]\n"
     ]
    },
    {
     "name": "stdout",
     "output_type": "stream",
     "text": [
      "=======================================\n",
      "End of epoch 99\n",
      "=======================================\n",
      "Running average global loss: 0.45597393810749054 (over last 800 batches)\n",
      "Running average activity prediction loss: 0.29717822279781103 (Cross Entropy over last 800 batches)\n",
      "Running average time till next event prediction loss: 0.1587957150582224 (MAE over last 800 batches)\n"
     ]
    },
    {
     "name": "stderr",
     "output_type": "stream",
     "text": [
      "Validation batch calculation: 72it [00:41,  1.72it/s]\n"
     ]
    },
    {
     "name": "stdout",
     "output_type": "stream",
     "text": [
      "Avg MAE TTNE prediction validation set: 0.20619122684001923 (standardized) ; 763.61484375 (minutes)'\n",
      "Avg 1-(normalized) DL distance acitivty suffix prediction validation set: 0.27595487236976624\n",
      "Percentage of suffixes predicted to END: too early - 0.023857143832296906 ; right moment - 0.09916244018648845 ; too late - 0.8769804159812147\n",
      "Too early instances - avg amount of events too early: 8.0412015914917\n",
      "Too late instances - avg amount of events too late: 44.830230712890625\n",
      "Avg absolute amount of events predicted too early / too late: 39.507076263427734\n",
      "Avg MAE RRT prediction validation set:  12037.179166666667 (minutes)'\n",
      " \n",
      "------------------------------------\n",
      "EPOCH 100:\n",
      "____________________________________\n"
     ]
    },
    {
     "name": "stderr",
     "output_type": "stream",
     "text": [
      "Batch calculation at epoch 100.: 809it [00:17, 46.43it/s]"
     ]
    },
    {
     "name": "stdout",
     "output_type": "stream",
     "text": [
      "------------------------------------------------------------\n",
      "Epoch 100, batch 799:\n",
      "Average original gradient norm: 0.39366527179256083 (over last 800 batches)\n",
      "Average clipped gradient norm: 0.39336276227608324 (over last 800 batches)\n",
      "Running average global loss: 0.4567104723677039 (over last 800 batches)\n",
      "Running average activity prediction loss: 0.2972277983278036 (Cross Entropy over last 800 batches)\n",
      "Running average time till next event prediction loss: 0.15948267394676804 (MAE over last 800 batches)\n",
      "------------------------------------------------------------\n"
     ]
    },
    {
     "name": "stderr",
     "output_type": "stream",
     "text": [
      "Batch calculation at epoch 100.: 1609it [00:35, 46.06it/s]"
     ]
    },
    {
     "name": "stdout",
     "output_type": "stream",
     "text": [
      "------------------------------------------------------------\n",
      "Epoch 100, batch 1599:\n",
      "Average original gradient norm: 0.3869415503554046 (over last 800 batches)\n",
      "Average clipped gradient norm: 0.3869415503554046 (over last 800 batches)\n",
      "Running average global loss: 0.4571517962962389 (over last 800 batches)\n",
      "Running average activity prediction loss: 0.2979259534180164 (Cross Entropy over last 800 batches)\n",
      "Running average time till next event prediction loss: 0.1592258424218744 (MAE over last 800 batches)\n",
      "------------------------------------------------------------\n"
     ]
    },
    {
     "name": "stderr",
     "output_type": "stream",
     "text": [
      "Batch calculation at epoch 100.: 2405it [00:52, 46.57it/s]"
     ]
    },
    {
     "name": "stdout",
     "output_type": "stream",
     "text": [
      "------------------------------------------------------------\n",
      "Epoch 100, batch 2399:\n",
      "Average original gradient norm: 0.38494707440957426 (over last 800 batches)\n",
      "Average clipped gradient norm: 0.38494707440957426 (over last 800 batches)\n",
      "Running average global loss: 0.4570761028677225 (over last 800 batches)\n",
      "Running average activity prediction loss: 0.29826160944998265 (Cross Entropy over last 800 batches)\n",
      "Running average time till next event prediction loss: 0.15881449344567955 (MAE over last 800 batches)\n",
      "------------------------------------------------------------\n"
     ]
    },
    {
     "name": "stderr",
     "output_type": "stream",
     "text": [
      "Batch calculation at epoch 100.: 3205it [01:09, 46.70it/s]"
     ]
    },
    {
     "name": "stdout",
     "output_type": "stream",
     "text": [
      "------------------------------------------------------------\n",
      "Epoch 100, batch 3199:\n",
      "Average original gradient norm: 0.39833235112950205 (over last 800 batches)\n",
      "Average clipped gradient norm: 0.39164270205423235 (over last 800 batches)\n",
      "Running average global loss: 0.4580284959077835 (over last 800 batches)\n",
      "Running average activity prediction loss: 0.29816447984427213 (Cross Entropy over last 800 batches)\n",
      "Running average time till next event prediction loss: 0.1598640161473304 (MAE over last 800 batches)\n",
      "------------------------------------------------------------\n"
     ]
    },
    {
     "name": "stderr",
     "output_type": "stream",
     "text": [
      "Batch calculation at epoch 100.: 4008it [01:21, 74.87it/s]"
     ]
    },
    {
     "name": "stdout",
     "output_type": "stream",
     "text": [
      "------------------------------------------------------------\n",
      "Epoch 100, batch 3999:\n",
      "Average original gradient norm: 0.39508176323026417 (over last 800 batches)\n",
      "Average clipped gradient norm: 0.39508176323026417 (over last 800 batches)\n",
      "Running average global loss: 0.45778992377221583 (over last 800 batches)\n",
      "Running average activity prediction loss: 0.29775298461318017 (Cross Entropy over last 800 batches)\n",
      "Running average time till next event prediction loss: 0.16003693961538373 (MAE over last 800 batches)\n",
      "------------------------------------------------------------\n"
     ]
    },
    {
     "name": "stderr",
     "output_type": "stream",
     "text": [
      "Batch calculation at epoch 100.: 4798it [01:31, 52.27it/s]\n"
     ]
    },
    {
     "name": "stdout",
     "output_type": "stream",
     "text": [
      "=======================================\n",
      "End of epoch 100\n",
      "=======================================\n",
      "Running average global loss: 0.45713672738522293 (over last 800 batches)\n",
      "Running average activity prediction loss: 0.29723357617855073 (Cross Entropy over last 800 batches)\n",
      "Running average time till next event prediction loss: 0.15990315101109445 (MAE over last 800 batches)\n"
     ]
    },
    {
     "name": "stderr",
     "output_type": "stream",
     "text": [
      "Validation batch calculation: 72it [00:22,  3.23it/s]\n"
     ]
    },
    {
     "name": "stdout",
     "output_type": "stream",
     "text": [
      "Avg MAE TTNE prediction validation set: 0.20620132982730865 (standardized) ; 763.6420572916667 (minutes)'\n",
      "Avg 1-(normalized) DL distance acitivty suffix prediction validation set: 0.2773139178752899\n",
      "Percentage of suffixes predicted to END: too early - 0.024894707741455458 ; right moment - 0.09948326586892564 ; too late - 0.875622026389619\n",
      "Too early instances - avg amount of events too early: 8.107759475708008\n",
      "Too late instances - avg amount of events too late: 44.5860481262207\n",
      "Avg absolute amount of events predicted too early / too late: 39.242366790771484\n",
      "Avg MAE RRT prediction validation set:  12040.241666666667 (minutes)'\n",
      " \n",
      "------------------------------------\n",
      "EPOCH 101:\n",
      "____________________________________\n"
     ]
    },
    {
     "name": "stderr",
     "output_type": "stream",
     "text": [
      "Batch calculation at epoch 101.: 806it [00:14, 56.31it/s]"
     ]
    },
    {
     "name": "stdout",
     "output_type": "stream",
     "text": [
      "------------------------------------------------------------\n",
      "Epoch 101, batch 799:\n",
      "Average original gradient norm: 0.388694306332618 (over last 800 batches)\n",
      "Average clipped gradient norm: 0.388694306332618 (over last 800 batches)\n",
      "Running average global loss: 0.4578010892868042 (over last 800 batches)\n",
      "Running average activity prediction loss: 0.29798021629452703 (Cross Entropy over last 800 batches)\n",
      "Running average time till next event prediction loss: 0.1598208727966994 (MAE over last 800 batches)\n",
      "------------------------------------------------------------\n"
     ]
    },
    {
     "name": "stderr",
     "output_type": "stream",
     "text": [
      "Batch calculation at epoch 101.: 1608it [00:28, 56.63it/s]"
     ]
    },
    {
     "name": "stdout",
     "output_type": "stream",
     "text": [
      "------------------------------------------------------------\n",
      "Epoch 101, batch 1599:\n",
      "Average original gradient norm: 0.3859938183054328 (over last 800 batches)\n",
      "Average clipped gradient norm: 0.3859938183054328 (over last 800 batches)\n",
      "Running average global loss: 0.4568958877399564 (over last 800 batches)\n",
      "Running average activity prediction loss: 0.2971698278188705 (Cross Entropy over last 800 batches)\n",
      "Running average time till next event prediction loss: 0.15972606049850582 (MAE over last 800 batches)\n",
      "------------------------------------------------------------\n"
     ]
    },
    {
     "name": "stderr",
     "output_type": "stream",
     "text": [
      "Batch calculation at epoch 101.: 2410it [00:43, 56.21it/s]"
     ]
    },
    {
     "name": "stdout",
     "output_type": "stream",
     "text": [
      "------------------------------------------------------------\n",
      "Epoch 101, batch 2399:\n",
      "Average original gradient norm: 0.4115627553500235 (over last 800 batches)\n",
      "Average clipped gradient norm: 0.3948807811178267 (over last 800 batches)\n",
      "Running average global loss: 0.4579346464574337 (over last 800 batches)\n",
      "Running average activity prediction loss: 0.2980698155239224 (Cross Entropy over last 800 batches)\n",
      "Running average time till next event prediction loss: 0.15986483043059707 (MAE over last 800 batches)\n",
      "------------------------------------------------------------\n"
     ]
    },
    {
     "name": "stderr",
     "output_type": "stream",
     "text": [
      "Batch calculation at epoch 101.: 3207it [00:57, 57.03it/s]"
     ]
    },
    {
     "name": "stdout",
     "output_type": "stream",
     "text": [
      "------------------------------------------------------------\n",
      "Epoch 101, batch 3199:\n",
      "Average original gradient norm: 0.3873330039717257 (over last 800 batches)\n",
      "Average clipped gradient norm: 0.3873330039717257 (over last 800 batches)\n",
      "Running average global loss: 0.45782059103250505 (over last 800 batches)\n",
      "Running average activity prediction loss: 0.2981953317672014 (Cross Entropy over last 800 batches)\n",
      "Running average time till next event prediction loss: 0.15962525935843586 (MAE over last 800 batches)\n",
      "------------------------------------------------------------\n"
     ]
    },
    {
     "name": "stderr",
     "output_type": "stream",
     "text": [
      "Batch calculation at epoch 101.: 4007it [01:11, 53.06it/s]"
     ]
    },
    {
     "name": "stdout",
     "output_type": "stream",
     "text": [
      "------------------------------------------------------------\n",
      "Epoch 101, batch 3999:\n",
      "Average original gradient norm: 0.3897390181943774 (over last 800 batches)\n",
      "Average clipped gradient norm: 0.38803452532738447 (over last 800 batches)\n",
      "Running average global loss: 0.4562276344746351 (over last 800 batches)\n",
      "Running average activity prediction loss: 0.2974938341230154 (Cross Entropy over last 800 batches)\n",
      "Running average time till next event prediction loss: 0.1587337997648865 (MAE over last 800 batches)\n",
      "------------------------------------------------------------\n"
     ]
    },
    {
     "name": "stderr",
     "output_type": "stream",
     "text": [
      "Batch calculation at epoch 101.: 4798it [01:26, 55.28it/s]\n"
     ]
    },
    {
     "name": "stdout",
     "output_type": "stream",
     "text": [
      "=======================================\n",
      "End of epoch 101\n",
      "=======================================\n",
      "Running average global loss: 0.45713786203414203 (over last 800 batches)\n",
      "Running average activity prediction loss: 0.2976049445569515 (Cross Entropy over last 800 batches)\n",
      "Running average time till next event prediction loss: 0.15953291759826244 (MAE over last 800 batches)\n"
     ]
    },
    {
     "name": "stderr",
     "output_type": "stream",
     "text": [
      "Validation batch calculation: 72it [00:36,  1.98it/s]\n"
     ]
    },
    {
     "name": "stdout",
     "output_type": "stream",
     "text": [
      "Avg MAE TTNE prediction validation set: 0.20623070001602173 (standardized) ; 763.7184244791666 (minutes)'\n",
      "Avg 1-(normalized) DL distance acitivty suffix prediction validation set: 0.27038609981536865\n",
      "Percentage of suffixes predicted to END: too early - 0.022792275609739447 ; right moment - 0.09886891881745019 ; too late - 0.8783388055728104\n",
      "Too early instances - avg amount of events too early: 8.118298530578613\n",
      "Too late instances - avg amount of events too late: 46.651187896728516\n",
      "Avg absolute amount of events predicted too early / too late: 41.16058349609375\n",
      "Avg MAE RRT prediction validation set:  11994.336458333333 (minutes)'\n",
      " \n",
      "------------------------------------\n",
      "EPOCH 102:\n",
      "____________________________________\n"
     ]
    },
    {
     "name": "stderr",
     "output_type": "stream",
     "text": [
      "Batch calculation at epoch 102.: 811it [00:14, 57.99it/s]"
     ]
    },
    {
     "name": "stdout",
     "output_type": "stream",
     "text": [
      "------------------------------------------------------------\n",
      "Epoch 102, batch 799:\n",
      "Average original gradient norm: 0.38769195809960366 (over last 800 batches)\n",
      "Average clipped gradient norm: 0.38769195809960366 (over last 800 batches)\n",
      "Running average global loss: 0.45707345187664034 (over last 800 batches)\n",
      "Running average activity prediction loss: 0.2979361430555582 (Cross Entropy over last 800 batches)\n",
      "Running average time till next event prediction loss: 0.15913730883970856 (MAE over last 800 batches)\n",
      "------------------------------------------------------------\n"
     ]
    },
    {
     "name": "stderr",
     "output_type": "stream",
     "text": [
      "Batch calculation at epoch 102.: 1611it [00:29, 55.94it/s]"
     ]
    },
    {
     "name": "stdout",
     "output_type": "stream",
     "text": [
      "------------------------------------------------------------\n",
      "Epoch 102, batch 1599:\n",
      "Average original gradient norm: 0.3926298893243074 (over last 800 batches)\n",
      "Average clipped gradient norm: 0.384403622969985 (over last 800 batches)\n",
      "Running average global loss: 0.4572818803414702 (over last 800 batches)\n",
      "Running average activity prediction loss: 0.2977286759018898 (Cross Entropy over last 800 batches)\n",
      "Running average time till next event prediction loss: 0.1595532047562301 (MAE over last 800 batches)\n",
      "------------------------------------------------------------\n"
     ]
    },
    {
     "name": "stderr",
     "output_type": "stream",
     "text": [
      "Batch calculation at epoch 102.: 2410it [00:43, 57.31it/s]"
     ]
    },
    {
     "name": "stdout",
     "output_type": "stream",
     "text": [
      "------------------------------------------------------------\n",
      "Epoch 102, batch 2399:\n",
      "Average original gradient norm: 0.3895822608284652 (over last 800 batches)\n",
      "Average clipped gradient norm: 0.38944254292175173 (over last 800 batches)\n",
      "Running average global loss: 0.4575379640609026 (over last 800 batches)\n",
      "Running average activity prediction loss: 0.2976525279134512 (Cross Entropy over last 800 batches)\n",
      "Running average time till next event prediction loss: 0.159885436585173 (MAE over last 800 batches)\n",
      "------------------------------------------------------------\n"
     ]
    },
    {
     "name": "stderr",
     "output_type": "stream",
     "text": [
      "Batch calculation at epoch 102.: 3211it [00:57, 51.03it/s]"
     ]
    },
    {
     "name": "stdout",
     "output_type": "stream",
     "text": [
      "------------------------------------------------------------\n",
      "Epoch 102, batch 3199:\n",
      "Average original gradient norm: 0.3903915470279753 (over last 800 batches)\n",
      "Average clipped gradient norm: 0.3903915470279753 (over last 800 batches)\n",
      "Running average global loss: 0.4571943194419146 (over last 800 batches)\n",
      "Running average activity prediction loss: 0.2972981393709779 (Cross Entropy over last 800 batches)\n",
      "Running average time till next event prediction loss: 0.15989617952145635 (MAE over last 800 batches)\n",
      "------------------------------------------------------------\n"
     ]
    },
    {
     "name": "stderr",
     "output_type": "stream",
     "text": [
      "Batch calculation at epoch 102.: 4006it [01:12, 55.99it/s]"
     ]
    },
    {
     "name": "stdout",
     "output_type": "stream",
     "text": [
      "------------------------------------------------------------\n",
      "Epoch 102, batch 3999:\n",
      "Average original gradient norm: 0.38981751115992663 (over last 800 batches)\n",
      "Average clipped gradient norm: 0.38981751115992663 (over last 800 batches)\n",
      "Running average global loss: 0.4572541079670191 (over last 800 batches)\n",
      "Running average activity prediction loss: 0.2980139311030507 (Cross Entropy over last 800 batches)\n",
      "Running average time till next event prediction loss: 0.15924017678014935 (MAE over last 800 batches)\n",
      "------------------------------------------------------------\n"
     ]
    },
    {
     "name": "stderr",
     "output_type": "stream",
     "text": [
      "Batch calculation at epoch 102.: 4798it [01:28, 54.49it/s]\n"
     ]
    },
    {
     "name": "stdout",
     "output_type": "stream",
     "text": [
      "=======================================\n",
      "End of epoch 102\n",
      "=======================================\n",
      "Running average global loss: 0.4573070177063346 (over last 800 batches)\n",
      "Running average activity prediction loss: 0.2977354971319437 (Cross Entropy over last 800 batches)\n",
      "Running average time till next event prediction loss: 0.15957152107730507 (MAE over last 800 batches)\n"
     ]
    },
    {
     "name": "stderr",
     "output_type": "stream",
     "text": [
      "Validation batch calculation: 72it [00:43,  1.66it/s]\n"
     ]
    },
    {
     "name": "stdout",
     "output_type": "stream",
     "text": [
      "Avg MAE TTNE prediction validation set: 0.20622581243515015 (standardized) ; 763.7076171875 (minutes)'\n",
      "Avg 1-(normalized) DL distance acitivty suffix prediction validation set: 0.26355257630348206\n",
      "Percentage of suffixes predicted to END: too early - 0.021160842884154624 ; right moment - 0.0982750500010239 ; too late - 0.8805641071148215\n",
      "Too early instances - avg amount of events too early: 8.080645561218262\n",
      "Too late instances - avg amount of events too late: 48.812347412109375\n",
      "Avg absolute amount of events predicted too early / too late: 43.15339660644531\n",
      "Avg MAE RRT prediction validation set:  11966.0375 (minutes)'\n",
      " \n",
      "------------------------------------\n",
      "EPOCH 103:\n",
      "____________________________________\n"
     ]
    },
    {
     "name": "stderr",
     "output_type": "stream",
     "text": [
      "Batch calculation at epoch 103.: 808it [00:17, 46.61it/s]"
     ]
    },
    {
     "name": "stdout",
     "output_type": "stream",
     "text": [
      "------------------------------------------------------------\n",
      "Epoch 103, batch 799:\n",
      "Average original gradient norm: 0.39550138177350164 (over last 800 batches)\n",
      "Average clipped gradient norm: 0.3945439793355763 (over last 800 batches)\n",
      "Running average global loss: 0.4568186339363456 (over last 800 batches)\n",
      "Running average activity prediction loss: 0.29721698455512524 (Cross Entropy over last 800 batches)\n",
      "Running average time till next event prediction loss: 0.15960164964199067 (MAE over last 800 batches)\n",
      "------------------------------------------------------------\n"
     ]
    },
    {
     "name": "stderr",
     "output_type": "stream",
     "text": [
      "Batch calculation at epoch 103.: 1605it [00:34, 46.20it/s]"
     ]
    },
    {
     "name": "stdout",
     "output_type": "stream",
     "text": [
      "------------------------------------------------------------\n",
      "Epoch 103, batch 1599:\n",
      "Average original gradient norm: 0.3966509074345231 (over last 800 batches)\n",
      "Average clipped gradient norm: 0.3966509074345231 (over last 800 batches)\n",
      "Running average global loss: 0.45884521178901194 (over last 800 batches)\n",
      "Running average activity prediction loss: 0.2982102009654045 (Cross Entropy over last 800 batches)\n",
      "Running average time till next event prediction loss: 0.16063501065596938 (MAE over last 800 batches)\n",
      "------------------------------------------------------------\n"
     ]
    },
    {
     "name": "stderr",
     "output_type": "stream",
     "text": [
      "Batch calculation at epoch 103.: 2405it [00:51, 46.35it/s]"
     ]
    },
    {
     "name": "stdout",
     "output_type": "stream",
     "text": [
      "------------------------------------------------------------\n",
      "Epoch 103, batch 2399:\n",
      "Average original gradient norm: 0.3878526201099157 (over last 800 batches)\n",
      "Average clipped gradient norm: 0.3878526201099157 (over last 800 batches)\n",
      "Running average global loss: 0.4570643151178956 (over last 800 batches)\n",
      "Running average activity prediction loss: 0.2977329680323601 (Cross Entropy over last 800 batches)\n",
      "Running average time till next event prediction loss: 0.15933134744875133 (MAE over last 800 batches)\n",
      "------------------------------------------------------------\n"
     ]
    },
    {
     "name": "stderr",
     "output_type": "stream",
     "text": [
      "Batch calculation at epoch 103.: 3207it [01:09, 46.49it/s]"
     ]
    },
    {
     "name": "stdout",
     "output_type": "stream",
     "text": [
      "------------------------------------------------------------\n",
      "Epoch 103, batch 3199:\n",
      "Average original gradient norm: 0.3884194367937744 (over last 800 batches)\n",
      "Average clipped gradient norm: 0.3884194367937744 (over last 800 batches)\n",
      "Running average global loss: 0.4562368305772543 (over last 800 batches)\n",
      "Running average activity prediction loss: 0.297363802716136 (Cross Entropy over last 800 batches)\n",
      "Running average time till next event prediction loss: 0.1588730278518051 (MAE over last 800 batches)\n",
      "------------------------------------------------------------\n"
     ]
    },
    {
     "name": "stderr",
     "output_type": "stream",
     "text": [
      "Batch calculation at epoch 103.: 4007it [01:26, 46.19it/s]"
     ]
    },
    {
     "name": "stdout",
     "output_type": "stream",
     "text": [
      "------------------------------------------------------------\n",
      "Epoch 103, batch 3999:\n",
      "Average original gradient norm: 0.4050874240323901 (over last 800 batches)\n",
      "Average clipped gradient norm: 0.3901789138838649 (over last 800 batches)\n",
      "Running average global loss: 0.4574656885489821 (over last 800 batches)\n",
      "Running average activity prediction loss: 0.2981438739970326 (Cross Entropy over last 800 batches)\n",
      "Running average time till next event prediction loss: 0.15932181472890078 (MAE over last 800 batches)\n",
      "------------------------------------------------------------\n"
     ]
    },
    {
     "name": "stderr",
     "output_type": "stream",
     "text": [
      "Batch calculation at epoch 103.: 4798it [01:43, 46.32it/s]\n"
     ]
    },
    {
     "name": "stdout",
     "output_type": "stream",
     "text": [
      "=======================================\n",
      "End of epoch 103\n",
      "=======================================\n",
      "Running average global loss: 0.45717321053147314 (over last 800 batches)\n",
      "Running average activity prediction loss: 0.2976682360842824 (Cross Entropy over last 800 batches)\n",
      "Running average time till next event prediction loss: 0.15950497462414204 (MAE over last 800 batches)\n"
     ]
    },
    {
     "name": "stderr",
     "output_type": "stream",
     "text": [
      "Validation batch calculation: 72it [00:42,  1.71it/s]\n"
     ]
    },
    {
     "name": "stdout",
     "output_type": "stream",
     "text": [
      "Avg MAE TTNE prediction validation set: 0.20624127984046936 (standardized) ; 763.8155598958333 (minutes)'\n",
      "Avg 1-(normalized) DL distance acitivty suffix prediction validation set: 0.28058770298957825\n",
      "Percentage of suffixes predicted to END: too early - 0.025270142050690458 ; right moment - 0.10018635193894755 ; too late - 0.874543506010362\n",
      "Too early instances - avg amount of events too early: 8.080496788024902\n",
      "Too late instances - avg amount of events too late: 43.68755340576172\n",
      "Avg absolute amount of events predicted too early / too late: 38.41086196899414\n",
      "Avg MAE RRT prediction validation set:  12031.203125 (minutes)'\n",
      " \n",
      "------------------------------------\n",
      "EPOCH 104:\n",
      "____________________________________\n"
     ]
    },
    {
     "name": "stderr",
     "output_type": "stream",
     "text": [
      "Batch calculation at epoch 104.: 808it [00:17, 46.12it/s]"
     ]
    },
    {
     "name": "stdout",
     "output_type": "stream",
     "text": [
      "------------------------------------------------------------\n",
      "Epoch 104, batch 799:\n",
      "Average original gradient norm: 0.39304648937657477 (over last 800 batches)\n",
      "Average clipped gradient norm: 0.39304648937657477 (over last 800 batches)\n",
      "Running average global loss: 0.45676780749112367 (over last 800 batches)\n",
      "Running average activity prediction loss: 0.2972316886112094 (Cross Entropy over last 800 batches)\n",
      "Running average time till next event prediction loss: 0.1595361188147217 (MAE over last 800 batches)\n",
      "------------------------------------------------------------\n"
     ]
    },
    {
     "name": "stderr",
     "output_type": "stream",
     "text": [
      "Batch calculation at epoch 104.: 1605it [00:34, 46.59it/s]"
     ]
    },
    {
     "name": "stdout",
     "output_type": "stream",
     "text": [
      "------------------------------------------------------------\n",
      "Epoch 104, batch 1599:\n",
      "Average original gradient norm: 0.3863545281998813 (over last 800 batches)\n",
      "Average clipped gradient norm: 0.3863545281998813 (over last 800 batches)\n",
      "Running average global loss: 0.4579590468853712 (over last 800 batches)\n",
      "Running average activity prediction loss: 0.29793497011065484 (Cross Entropy over last 800 batches)\n",
      "Running average time till next event prediction loss: 0.16002407657913864 (MAE over last 800 batches)\n",
      "------------------------------------------------------------\n"
     ]
    },
    {
     "name": "stderr",
     "output_type": "stream",
     "text": [
      "Batch calculation at epoch 104.: 2405it [00:51, 46.53it/s]"
     ]
    },
    {
     "name": "stdout",
     "output_type": "stream",
     "text": [
      "------------------------------------------------------------\n",
      "Epoch 104, batch 2399:\n",
      "Average original gradient norm: 0.38795664589852097 (over last 800 batches)\n",
      "Average clipped gradient norm: 0.38795664589852097 (over last 800 batches)\n",
      "Running average global loss: 0.45717147275805475 (over last 800 batches)\n",
      "Running average activity prediction loss: 0.29813722979277374 (Cross Entropy over last 800 batches)\n",
      "Running average time till next event prediction loss: 0.15903424384072423 (MAE over last 800 batches)\n",
      "------------------------------------------------------------\n"
     ]
    },
    {
     "name": "stderr",
     "output_type": "stream",
     "text": [
      "Batch calculation at epoch 104.: 3206it [01:09, 46.63it/s]"
     ]
    },
    {
     "name": "stdout",
     "output_type": "stream",
     "text": [
      "------------------------------------------------------------\n",
      "Epoch 104, batch 3199:\n",
      "Average original gradient norm: 0.4292256728745997 (over last 800 batches)\n",
      "Average clipped gradient norm: 0.4004627359844744 (over last 800 batches)\n",
      "Running average global loss: 0.45648749127984045 (over last 800 batches)\n",
      "Running average activity prediction loss: 0.2972582718357444 (Cross Entropy over last 800 batches)\n",
      "Running average time till next event prediction loss: 0.15922921979799867 (MAE over last 800 batches)\n",
      "------------------------------------------------------------\n"
     ]
    },
    {
     "name": "stderr",
     "output_type": "stream",
     "text": [
      "Batch calculation at epoch 104.: 4006it [01:26, 46.33it/s]"
     ]
    },
    {
     "name": "stdout",
     "output_type": "stream",
     "text": [
      "------------------------------------------------------------\n",
      "Epoch 104, batch 3999:\n",
      "Average original gradient norm: 0.3911092478595674 (over last 800 batches)\n",
      "Average clipped gradient norm: 0.38938501199707387 (over last 800 batches)\n",
      "Running average global loss: 0.4587326085567474 (over last 800 batches)\n",
      "Running average activity prediction loss: 0.298294738791883 (Cross Entropy over last 800 batches)\n",
      "Running average time till next event prediction loss: 0.16043787055648864 (MAE over last 800 batches)\n",
      "------------------------------------------------------------\n"
     ]
    },
    {
     "name": "stderr",
     "output_type": "stream",
     "text": [
      "Batch calculation at epoch 104.: 4798it [01:43, 46.47it/s]\n"
     ]
    },
    {
     "name": "stdout",
     "output_type": "stream",
     "text": [
      "=======================================\n",
      "End of epoch 104\n",
      "=======================================\n",
      "Running average global loss: 0.4561059643700719 (over last 800 batches)\n",
      "Running average activity prediction loss: 0.2971498266980052 (Cross Entropy over last 800 batches)\n",
      "Running average time till next event prediction loss: 0.15895613768137992 (MAE over last 800 batches)\n"
     ]
    },
    {
     "name": "stderr",
     "output_type": "stream",
     "text": [
      "Validation batch calculation: 72it [00:41,  1.73it/s]\n"
     ]
    },
    {
     "name": "stdout",
     "output_type": "stream",
     "text": [
      "Avg MAE TTNE prediction validation set: 0.2062005251646042 (standardized) ; 763.6282552083334 (minutes)'\n",
      "Avg 1-(normalized) DL distance acitivty suffix prediction validation set: 0.2733847200870514\n",
      "Percentage of suffixes predicted to END: too early - 0.021495320723291262 ; right moment - 0.098473006273166 ; too late - 0.8800316730035427\n",
      "Too early instances - avg amount of events too early: 7.911082744598389\n",
      "Too late instances - avg amount of events too late: 45.01634979248047\n",
      "Avg absolute amount of events predicted too early / too late: 39.785865783691406\n",
      "Avg MAE RRT prediction validation set:  12026.552083333334 (minutes)'\n",
      " \n",
      "------------------------------------\n",
      "EPOCH 105:\n",
      "____________________________________\n"
     ]
    },
    {
     "name": "stderr",
     "output_type": "stream",
     "text": [
      "Batch calculation at epoch 105.: 809it [00:17, 46.63it/s]"
     ]
    },
    {
     "name": "stdout",
     "output_type": "stream",
     "text": [
      "------------------------------------------------------------\n",
      "Epoch 105, batch 799:\n",
      "Average original gradient norm: 0.3851643474213779 (over last 800 batches)\n",
      "Average clipped gradient norm: 0.3851643474213779 (over last 800 batches)\n",
      "Running average global loss: 0.45710372883826494 (over last 800 batches)\n",
      "Running average activity prediction loss: 0.29767424918711183 (Cross Entropy over last 800 batches)\n",
      "Running average time till next event prediction loss: 0.15942947900854051 (MAE over last 800 batches)\n",
      "------------------------------------------------------------\n"
     ]
    },
    {
     "name": "stderr",
     "output_type": "stream",
     "text": [
      "Batch calculation at epoch 105.: 1609it [00:34, 46.85it/s]"
     ]
    },
    {
     "name": "stdout",
     "output_type": "stream",
     "text": [
      "------------------------------------------------------------\n",
      "Epoch 105, batch 1599:\n",
      "Average original gradient norm: 0.39227638438344004 (over last 800 batches)\n",
      "Average clipped gradient norm: 0.39227638438344004 (over last 800 batches)\n",
      "Running average global loss: 0.4564680828154087 (over last 800 batches)\n",
      "Running average activity prediction loss: 0.29745934378355743 (Cross Entropy over last 800 batches)\n",
      "Running average time till next event prediction loss: 0.15900873909704388 (MAE over last 800 batches)\n",
      "------------------------------------------------------------\n"
     ]
    },
    {
     "name": "stderr",
     "output_type": "stream",
     "text": [
      "Batch calculation at epoch 105.: 2409it [00:51, 46.53it/s]"
     ]
    },
    {
     "name": "stdout",
     "output_type": "stream",
     "text": [
      "------------------------------------------------------------\n",
      "Epoch 105, batch 2399:\n",
      "Average original gradient norm: 0.38871835405007005 (over last 800 batches)\n",
      "Average clipped gradient norm: 0.38871835405007005 (over last 800 batches)\n",
      "Running average global loss: 0.4577970641106367 (over last 800 batches)\n",
      "Running average activity prediction loss: 0.2984681513905525 (Cross Entropy over last 800 batches)\n",
      "Running average time till next event prediction loss: 0.15932891248725356 (MAE over last 800 batches)\n",
      "------------------------------------------------------------\n"
     ]
    },
    {
     "name": "stderr",
     "output_type": "stream",
     "text": [
      "Batch calculation at epoch 105.: 3206it [01:09, 46.35it/s]"
     ]
    },
    {
     "name": "stdout",
     "output_type": "stream",
     "text": [
      "------------------------------------------------------------\n",
      "Epoch 105, batch 3199:\n",
      "Average original gradient norm: 0.3873696595057845 (over last 800 batches)\n",
      "Average clipped gradient norm: 0.38634741377085446 (over last 800 batches)\n",
      "Running average global loss: 0.45772172886878254 (over last 800 batches)\n",
      "Running average activity prediction loss: 0.2977125170826912 (Cross Entropy over last 800 batches)\n",
      "Running average time till next event prediction loss: 0.16000921121798456 (MAE over last 800 batches)\n",
      "------------------------------------------------------------\n"
     ]
    },
    {
     "name": "stderr",
     "output_type": "stream",
     "text": [
      "Batch calculation at epoch 105.: 4006it [01:26, 46.45it/s]"
     ]
    },
    {
     "name": "stdout",
     "output_type": "stream",
     "text": [
      "------------------------------------------------------------\n",
      "Epoch 105, batch 3999:\n",
      "Average original gradient norm: 0.38623647574335335 (over last 800 batches)\n",
      "Average clipped gradient norm: 0.38623647574335335 (over last 800 batches)\n",
      "Running average global loss: 0.4569338000938296 (over last 800 batches)\n",
      "Running average activity prediction loss: 0.2973399052768946 (Cross Entropy over last 800 batches)\n",
      "Running average time till next event prediction loss: 0.15959389448165895 (MAE over last 800 batches)\n",
      "------------------------------------------------------------\n"
     ]
    },
    {
     "name": "stderr",
     "output_type": "stream",
     "text": [
      "Batch calculation at epoch 105.: 4798it [01:43, 46.49it/s]\n"
     ]
    },
    {
     "name": "stdout",
     "output_type": "stream",
     "text": [
      "=======================================\n",
      "End of epoch 105\n",
      "=======================================\n",
      "Running average global loss: 0.4571158164739609 (over last 800 batches)\n",
      "Running average activity prediction loss: 0.2972349401563406 (Cross Entropy over last 800 batches)\n",
      "Running average time till next event prediction loss: 0.1598808762896806 (MAE over last 800 batches)\n"
     ]
    },
    {
     "name": "stderr",
     "output_type": "stream",
     "text": [
      "Validation batch calculation: 72it [00:41,  1.72it/s]\n"
     ]
    },
    {
     "name": "stdout",
     "output_type": "stream",
     "text": [
      "Avg MAE TTNE prediction validation set: 0.20624518394470215 (standardized) ; 763.8533854166667 (minutes)'\n",
      "Avg 1-(normalized) DL distance acitivty suffix prediction validation set: 0.263321191072464\n",
      "Percentage of suffixes predicted to END: too early - 0.020928756220263897 ; right moment - 0.09825457176597473 ; too late - 0.8808166720137613\n",
      "Too early instances - avg amount of events too early: 8.050228118896484\n",
      "Too late instances - avg amount of events too late: 48.838905334472656\n",
      "Avg absolute amount of events predicted too early / too late: 43.18660354614258\n",
      "Avg MAE RRT prediction validation set:  11951.297916666666 (minutes)'\n",
      " \n",
      "------------------------------------\n",
      "EPOCH 106:\n",
      "____________________________________\n"
     ]
    },
    {
     "name": "stderr",
     "output_type": "stream",
     "text": [
      "Batch calculation at epoch 106.: 808it [00:17, 46.51it/s]"
     ]
    },
    {
     "name": "stdout",
     "output_type": "stream",
     "text": [
      "------------------------------------------------------------\n",
      "Epoch 106, batch 799:\n",
      "Average original gradient norm: 0.3945478775911033 (over last 800 batches)\n",
      "Average clipped gradient norm: 0.39330597100779413 (over last 800 batches)\n",
      "Running average global loss: 0.45696876507252454 (over last 800 batches)\n",
      "Running average activity prediction loss: 0.29730608638376 (Cross Entropy over last 800 batches)\n",
      "Running average time till next event prediction loss: 0.15966267922893165 (MAE over last 800 batches)\n",
      "------------------------------------------------------------\n"
     ]
    },
    {
     "name": "stderr",
     "output_type": "stream",
     "text": [
      "Batch calculation at epoch 106.: 1608it [00:34, 46.38it/s]"
     ]
    },
    {
     "name": "stdout",
     "output_type": "stream",
     "text": [
      "------------------------------------------------------------\n",
      "Epoch 106, batch 1599:\n",
      "Average original gradient norm: 0.3955502021871507 (over last 800 batches)\n",
      "Average clipped gradient norm: 0.39554550549015405 (over last 800 batches)\n",
      "Running average global loss: 0.457466844022274 (over last 800 batches)\n",
      "Running average activity prediction loss: 0.297907490208745 (Cross Entropy over last 800 batches)\n",
      "Running average time till next event prediction loss: 0.15955935421399772 (MAE over last 800 batches)\n",
      "------------------------------------------------------------\n"
     ]
    },
    {
     "name": "stderr",
     "output_type": "stream",
     "text": [
      "Batch calculation at epoch 106.: 2405it [00:51, 46.73it/s]"
     ]
    },
    {
     "name": "stdout",
     "output_type": "stream",
     "text": [
      "------------------------------------------------------------\n",
      "Epoch 106, batch 2399:\n",
      "Average original gradient norm: 0.39101761562749743 (over last 800 batches)\n",
      "Average clipped gradient norm: 0.39101761562749743 (over last 800 batches)\n",
      "Running average global loss: 0.457801272906363 (over last 800 batches)\n",
      "Running average activity prediction loss: 0.2977359575405717 (Cross Entropy over last 800 batches)\n",
      "Running average time till next event prediction loss: 0.16006531490944326 (MAE over last 800 batches)\n",
      "------------------------------------------------------------\n"
     ]
    },
    {
     "name": "stderr",
     "output_type": "stream",
     "text": [
      "Batch calculation at epoch 106.: 3205it [01:08, 46.58it/s]"
     ]
    },
    {
     "name": "stdout",
     "output_type": "stream",
     "text": [
      "------------------------------------------------------------\n",
      "Epoch 106, batch 3199:\n",
      "Average original gradient norm: 0.39010802200064065 (over last 800 batches)\n",
      "Average clipped gradient norm: 0.39010802200064065 (over last 800 batches)\n",
      "Running average global loss: 0.4570295967534184 (over last 800 batches)\n",
      "Running average activity prediction loss: 0.2979245350509882 (Cross Entropy over last 800 batches)\n",
      "Running average time till next event prediction loss: 0.15910506149753928 (MAE over last 800 batches)\n",
      "------------------------------------------------------------\n"
     ]
    },
    {
     "name": "stderr",
     "output_type": "stream",
     "text": [
      "Batch calculation at epoch 106.: 4005it [01:26, 47.28it/s]"
     ]
    },
    {
     "name": "stdout",
     "output_type": "stream",
     "text": [
      "------------------------------------------------------------\n",
      "Epoch 106, batch 3999:\n",
      "Average original gradient norm: 0.38987840820103886 (over last 800 batches)\n",
      "Average clipped gradient norm: 0.3898313445225358 (over last 800 batches)\n",
      "Running average global loss: 0.4568797219544649 (over last 800 batches)\n",
      "Running average activity prediction loss: 0.29725366823375227 (Cross Entropy over last 800 batches)\n",
      "Running average time till next event prediction loss: 0.1596260531526059 (MAE over last 800 batches)\n",
      "------------------------------------------------------------\n"
     ]
    },
    {
     "name": "stderr",
     "output_type": "stream",
     "text": [
      "Batch calculation at epoch 106.: 4798it [01:43, 46.47it/s]\n"
     ]
    },
    {
     "name": "stdout",
     "output_type": "stream",
     "text": [
      "=======================================\n",
      "End of epoch 106\n",
      "=======================================\n",
      "Running average global loss: 0.4571141345798969 (over last 800 batches)\n",
      "Running average activity prediction loss: 0.2979853244498372 (Cross Entropy over last 800 batches)\n",
      "Running average time till next event prediction loss: 0.15912880999967455 (MAE over last 800 batches)\n"
     ]
    },
    {
     "name": "stderr",
     "output_type": "stream",
     "text": [
      "Validation batch calculation: 72it [00:41,  1.73it/s]\n"
     ]
    },
    {
     "name": "stdout",
     "output_type": "stream",
     "text": [
      "Avg MAE TTNE prediction validation set: 0.20621007680892944 (standardized) ; 763.6807942708333 (minutes)'\n",
      "Avg 1-(normalized) DL distance acitivty suffix prediction validation set: 0.27157047390937805\n",
      "Percentage of suffixes predicted to END: too early - 0.023754752657050997 ; right moment - 0.09888257097414964 ; too late - 0.8773626763687994\n",
      "Too early instances - avg amount of events too early: 8.153735160827637\n",
      "Too late instances - avg amount of events too late: 46.57474899291992\n",
      "Avg absolute amount of events predicted too early / too late: 41.056636810302734\n",
      "Avg MAE RRT prediction validation set:  12002.882291666667 (minutes)'\n",
      " \n",
      "------------------------------------\n",
      "EPOCH 107:\n",
      "____________________________________\n"
     ]
    },
    {
     "name": "stderr",
     "output_type": "stream",
     "text": [
      "Batch calculation at epoch 107.: 806it [00:17, 46.88it/s]"
     ]
    },
    {
     "name": "stdout",
     "output_type": "stream",
     "text": [
      "------------------------------------------------------------\n",
      "Epoch 107, batch 799:\n",
      "Average original gradient norm: 0.37675793113186956 (over last 800 batches)\n",
      "Average clipped gradient norm: 0.37675793113186956 (over last 800 batches)\n",
      "Running average global loss: 0.45774212121963503 (over last 800 batches)\n",
      "Running average activity prediction loss: 0.2979053854942322 (Cross Entropy over last 800 batches)\n",
      "Running average time till next event prediction loss: 0.15983673643320798 (MAE over last 800 batches)\n",
      "------------------------------------------------------------\n"
     ]
    },
    {
     "name": "stderr",
     "output_type": "stream",
     "text": [
      "Batch calculation at epoch 107.: 1606it [00:34, 46.43it/s]"
     ]
    },
    {
     "name": "stdout",
     "output_type": "stream",
     "text": [
      "------------------------------------------------------------\n",
      "Epoch 107, batch 1599:\n",
      "Average original gradient norm: 0.3928072687797248 (over last 800 batches)\n",
      "Average clipped gradient norm: 0.3912354443781078 (over last 800 batches)\n",
      "Running average global loss: 0.45644160579890014 (over last 800 batches)\n",
      "Running average activity prediction loss: 0.29732524018734696 (Cross Entropy over last 800 batches)\n",
      "Running average time till next event prediction loss: 0.15911636556498707 (MAE over last 800 batches)\n",
      "------------------------------------------------------------\n"
     ]
    },
    {
     "name": "stderr",
     "output_type": "stream",
     "text": [
      "Batch calculation at epoch 107.: 2409it [00:51, 46.55it/s]"
     ]
    },
    {
     "name": "stdout",
     "output_type": "stream",
     "text": [
      "------------------------------------------------------------\n",
      "Epoch 107, batch 2399:\n",
      "Average original gradient norm: 0.38482080297544596 (over last 800 batches)\n",
      "Average clipped gradient norm: 0.38260488109663127 (over last 800 batches)\n",
      "Running average global loss: 0.4578542906418443 (over last 800 batches)\n",
      "Running average activity prediction loss: 0.2977974720299244 (Cross Entropy over last 800 batches)\n",
      "Running average time till next event prediction loss: 0.1600568185467273 (MAE over last 800 batches)\n",
      "------------------------------------------------------------\n"
     ]
    },
    {
     "name": "stderr",
     "output_type": "stream",
     "text": [
      "Batch calculation at epoch 107.: 3209it [01:08, 46.78it/s]"
     ]
    },
    {
     "name": "stdout",
     "output_type": "stream",
     "text": [
      "------------------------------------------------------------\n",
      "Epoch 107, batch 3199:\n",
      "Average original gradient norm: 0.3969756198115647 (over last 800 batches)\n",
      "Average clipped gradient norm: 0.3947309252806008 (over last 800 batches)\n",
      "Running average global loss: 0.45753039162606 (over last 800 batches)\n",
      "Running average activity prediction loss: 0.297666346617043 (Cross Entropy over last 800 batches)\n",
      "Running average time till next event prediction loss: 0.15986404485069217 (MAE over last 800 batches)\n",
      "------------------------------------------------------------\n"
     ]
    },
    {
     "name": "stderr",
     "output_type": "stream",
     "text": [
      "Batch calculation at epoch 107.: 4009it [01:26, 46.16it/s]"
     ]
    },
    {
     "name": "stdout",
     "output_type": "stream",
     "text": [
      "------------------------------------------------------------\n",
      "Epoch 107, batch 3999:\n",
      "Average original gradient norm: 0.38581526486203077 (over last 800 batches)\n",
      "Average clipped gradient norm: 0.38581526486203077 (over last 800 batches)\n",
      "Running average global loss: 0.45659789551049473 (over last 800 batches)\n",
      "Running average activity prediction loss: 0.29749259039759635 (Cross Entropy over last 800 batches)\n",
      "Running average time till next event prediction loss: 0.15910530471242965 (MAE over last 800 batches)\n",
      "------------------------------------------------------------\n"
     ]
    },
    {
     "name": "stderr",
     "output_type": "stream",
     "text": [
      "Batch calculation at epoch 107.: 4798it [01:43, 46.55it/s]\n"
     ]
    },
    {
     "name": "stdout",
     "output_type": "stream",
     "text": [
      "=======================================\n",
      "End of epoch 107\n",
      "=======================================\n",
      "Running average global loss: 0.4566890252381563 (over last 800 batches)\n",
      "Running average activity prediction loss: 0.297546424344182 (Cross Entropy over last 800 batches)\n",
      "Running average time till next event prediction loss: 0.1591426002793014 (MAE over last 800 batches)\n"
     ]
    },
    {
     "name": "stderr",
     "output_type": "stream",
     "text": [
      "Validation batch calculation: 72it [00:41,  1.73it/s]\n"
     ]
    },
    {
     "name": "stdout",
     "output_type": "stream",
     "text": [
      "Avg MAE TTNE prediction validation set: 0.20620204508304596 (standardized) ; 763.6430338541667 (minutes)'\n",
      "Avg 1-(normalized) DL distance acitivty suffix prediction validation set: 0.2716370224952698\n",
      "Percentage of suffixes predicted to END: too early - 0.02142023386144426 ; right moment - 0.09831600647112228 ; too late - 0.8802637596674334\n",
      "Too early instances - avg amount of events too early: 7.9764180183410645\n",
      "Too late instances - avg amount of events too late: 45.803314208984375\n",
      "Avg absolute amount of events predicted too early / too late: 40.48985290527344\n",
      "Avg MAE RRT prediction validation set:  12015.716666666667 (minutes)'\n",
      " \n",
      "------------------------------------\n",
      "EPOCH 108:\n",
      "____________________________________\n"
     ]
    },
    {
     "name": "stderr",
     "output_type": "stream",
     "text": [
      "Batch calculation at epoch 108.: 807it [00:17, 46.35it/s]"
     ]
    },
    {
     "name": "stdout",
     "output_type": "stream",
     "text": [
      "------------------------------------------------------------\n",
      "Epoch 108, batch 799:\n",
      "Average original gradient norm: 0.39089696628972886 (over last 800 batches)\n",
      "Average clipped gradient norm: 0.39089696628972886 (over last 800 batches)\n",
      "Running average global loss: 0.45725091729313133 (over last 800 batches)\n",
      "Running average activity prediction loss: 0.29780445136129857 (Cross Entropy over last 800 batches)\n",
      "Running average time till next event prediction loss: 0.15944646596908568 (MAE over last 800 batches)\n",
      "------------------------------------------------------------\n"
     ]
    },
    {
     "name": "stderr",
     "output_type": "stream",
     "text": [
      "Batch calculation at epoch 108.: 1607it [00:34, 46.44it/s]"
     ]
    },
    {
     "name": "stdout",
     "output_type": "stream",
     "text": [
      "------------------------------------------------------------\n",
      "Epoch 108, batch 1599:\n",
      "Average original gradient norm: 0.3848360628820956 (over last 800 batches)\n",
      "Average clipped gradient norm: 0.3848360628820956 (over last 800 batches)\n",
      "Running average global loss: 0.45675552390515806 (over last 800 batches)\n",
      "Running average activity prediction loss: 0.29758395105600355 (Cross Entropy over last 800 batches)\n",
      "Running average time till next event prediction loss: 0.15917157277464866 (MAE over last 800 batches)\n",
      "------------------------------------------------------------\n"
     ]
    },
    {
     "name": "stderr",
     "output_type": "stream",
     "text": [
      "Batch calculation at epoch 108.: 2406it [00:51, 46.40it/s]"
     ]
    },
    {
     "name": "stdout",
     "output_type": "stream",
     "text": [
      "------------------------------------------------------------\n",
      "Epoch 108, batch 2399:\n",
      "Average original gradient norm: 0.379156609736383 (over last 800 batches)\n",
      "Average clipped gradient norm: 0.379156609736383 (over last 800 batches)\n",
      "Running average global loss: 0.45784364223480223 (over last 800 batches)\n",
      "Running average activity prediction loss: 0.2976582136750221 (Cross Entropy over last 800 batches)\n",
      "Running average time till next event prediction loss: 0.16018542849458753 (MAE over last 800 batches)\n",
      "------------------------------------------------------------\n"
     ]
    },
    {
     "name": "stderr",
     "output_type": "stream",
     "text": [
      "Batch calculation at epoch 108.: 3206it [01:08, 46.78it/s]"
     ]
    },
    {
     "name": "stdout",
     "output_type": "stream",
     "text": [
      "------------------------------------------------------------\n",
      "Epoch 108, batch 3199:\n",
      "Average original gradient norm: 0.41447593439370395 (over last 800 batches)\n",
      "Average clipped gradient norm: 0.3916078706458211 (over last 800 batches)\n",
      "Running average global loss: 0.45650946605950593 (over last 800 batches)\n",
      "Running average activity prediction loss: 0.2975351271405816 (Cross Entropy over last 800 batches)\n",
      "Running average time till next event prediction loss: 0.15897433914244175 (MAE over last 800 batches)\n",
      "------------------------------------------------------------\n"
     ]
    },
    {
     "name": "stderr",
     "output_type": "stream",
     "text": [
      "Batch calculation at epoch 108.: 4007it [01:26, 46.98it/s]"
     ]
    },
    {
     "name": "stdout",
     "output_type": "stream",
     "text": [
      "------------------------------------------------------------\n",
      "Epoch 108, batch 3999:\n",
      "Average original gradient norm: 0.3974696970172226 (over last 800 batches)\n",
      "Average clipped gradient norm: 0.3932563048787415 (over last 800 batches)\n",
      "Running average global loss: 0.4577608881890774 (over last 800 batches)\n",
      "Running average activity prediction loss: 0.2978344973921776 (Cross Entropy over last 800 batches)\n",
      "Running average time till next event prediction loss: 0.15992639067582787 (MAE over last 800 batches)\n",
      "------------------------------------------------------------\n"
     ]
    },
    {
     "name": "stderr",
     "output_type": "stream",
     "text": [
      "Batch calculation at epoch 108.: 4798it [01:43, 46.46it/s]\n"
     ]
    },
    {
     "name": "stdout",
     "output_type": "stream",
     "text": [
      "=======================================\n",
      "End of epoch 108\n",
      "=======================================\n",
      "Running average global loss: 0.45666939541697504 (over last 800 batches)\n",
      "Running average activity prediction loss: 0.29729883667081597 (Cross Entropy over last 800 batches)\n",
      "Running average time till next event prediction loss: 0.15937055858783425 (MAE over last 800 batches)\n"
     ]
    },
    {
     "name": "stderr",
     "output_type": "stream",
     "text": [
      "Validation batch calculation: 72it [00:27,  2.59it/s]\n"
     ]
    },
    {
     "name": "stdout",
     "output_type": "stream",
     "text": [
      "Avg MAE TTNE prediction validation set: 0.20621882379055023 (standardized) ; 763.729296875 (minutes)'\n",
      "Avg 1-(normalized) DL distance acitivty suffix prediction validation set: 0.27084481716156006\n",
      "Percentage of suffixes predicted to END: too early - 0.02281275384478863 ; right moment - 0.09897813607104583 ; too late - 0.8782091100841656\n",
      "Too early instances - avg amount of events too early: 8.034709930419922\n",
      "Too late instances - avg amount of events too late: 46.50109100341797\n",
      "Avg absolute amount of events predicted too early / too late: 41.02097702026367\n",
      "Avg MAE RRT prediction validation set:  11993.801041666668 (minutes)'\n",
      " \n",
      "------------------------------------\n",
      "EPOCH 109:\n",
      "____________________________________\n"
     ]
    },
    {
     "name": "stderr",
     "output_type": "stream",
     "text": [
      "Batch calculation at epoch 109.: 810it [00:14, 54.70it/s]"
     ]
    },
    {
     "name": "stdout",
     "output_type": "stream",
     "text": [
      "------------------------------------------------------------\n",
      "Epoch 109, batch 799:\n",
      "Average original gradient norm: 0.3963411739468575 (over last 800 batches)\n",
      "Average clipped gradient norm: 0.3963411739468575 (over last 800 batches)\n",
      "Running average global loss: 0.4567259472236037 (over last 800 batches)\n",
      "Running average activity prediction loss: 0.29746226195245984 (Cross Entropy over last 800 batches)\n",
      "Running average time till next event prediction loss: 0.15926368502900004 (MAE over last 800 batches)\n",
      "------------------------------------------------------------\n"
     ]
    },
    {
     "name": "stderr",
     "output_type": "stream",
     "text": [
      "Batch calculation at epoch 109.: 1609it [00:28, 57.53it/s]"
     ]
    },
    {
     "name": "stdout",
     "output_type": "stream",
     "text": [
      "------------------------------------------------------------\n",
      "Epoch 109, batch 1599:\n",
      "Average original gradient norm: 0.3888657234236598 (over last 800 batches)\n",
      "Average clipped gradient norm: 0.3888657234236598 (over last 800 batches)\n",
      "Running average global loss: 0.4569527878239751 (over last 800 batches)\n",
      "Running average activity prediction loss: 0.29750515017658474 (Cross Entropy over last 800 batches)\n",
      "Running average time till next event prediction loss: 0.1594476383086294 (MAE over last 800 batches)\n",
      "------------------------------------------------------------\n"
     ]
    },
    {
     "name": "stderr",
     "output_type": "stream",
     "text": [
      "Batch calculation at epoch 109.: 2407it [00:42, 53.97it/s]"
     ]
    },
    {
     "name": "stdout",
     "output_type": "stream",
     "text": [
      "------------------------------------------------------------\n",
      "Epoch 109, batch 2399:\n",
      "Average original gradient norm: 0.392522829528898 (over last 800 batches)\n",
      "Average clipped gradient norm: 0.392522829528898 (over last 800 batches)\n",
      "Running average global loss: 0.4575188862532377 (over last 800 batches)\n",
      "Running average activity prediction loss: 0.29792907610535624 (Cross Entropy over last 800 batches)\n",
      "Running average time till next event prediction loss: 0.1595898103620857 (MAE over last 800 batches)\n",
      "------------------------------------------------------------\n"
     ]
    },
    {
     "name": "stderr",
     "output_type": "stream",
     "text": [
      "Batch calculation at epoch 109.: 3210it [00:57, 58.60it/s]"
     ]
    },
    {
     "name": "stdout",
     "output_type": "stream",
     "text": [
      "------------------------------------------------------------\n",
      "Epoch 109, batch 3199:\n",
      "Average original gradient norm: 0.3916096847318113 (over last 800 batches)\n",
      "Average clipped gradient norm: 0.3916096847318113 (over last 800 batches)\n",
      "Running average global loss: 0.45796606976538895 (over last 800 batches)\n",
      "Running average activity prediction loss: 0.29813437469303605 (Cross Entropy over last 800 batches)\n",
      "Running average time till next event prediction loss: 0.15983169574290515 (MAE over last 800 batches)\n",
      "------------------------------------------------------------\n"
     ]
    },
    {
     "name": "stderr",
     "output_type": "stream",
     "text": [
      "Batch calculation at epoch 109.: 4007it [01:11, 54.84it/s]"
     ]
    },
    {
     "name": "stdout",
     "output_type": "stream",
     "text": [
      "------------------------------------------------------------\n",
      "Epoch 109, batch 3999:\n",
      "Average original gradient norm: 0.38211135754361747 (over last 800 batches)\n",
      "Average clipped gradient norm: 0.38211135754361747 (over last 800 batches)\n",
      "Running average global loss: 0.45694859717041253 (over last 800 batches)\n",
      "Running average activity prediction loss: 0.2973202773928642 (Cross Entropy over last 800 batches)\n",
      "Running average time till next event prediction loss: 0.1596283196657896 (MAE over last 800 batches)\n",
      "------------------------------------------------------------\n"
     ]
    },
    {
     "name": "stderr",
     "output_type": "stream",
     "text": [
      "Batch calculation at epoch 109.: 4798it [01:25, 55.81it/s]\n"
     ]
    },
    {
     "name": "stdout",
     "output_type": "stream",
     "text": [
      "=======================================\n",
      "End of epoch 109\n",
      "=======================================\n",
      "Running average global loss: 0.45663230437785385 (over last 800 batches)\n",
      "Running average activity prediction loss: 0.29725515238940714 (Cross Entropy over last 800 batches)\n",
      "Running average time till next event prediction loss: 0.15937715207226574 (MAE over last 800 batches)\n"
     ]
    },
    {
     "name": "stderr",
     "output_type": "stream",
     "text": [
      "Validation batch calculation: 72it [00:35,  2.01it/s]\n"
     ]
    },
    {
     "name": "stdout",
     "output_type": "stream",
     "text": [
      "Avg MAE TTNE prediction validation set: 0.20619791746139526 (standardized) ; 763.634375 (minutes)'\n",
      "Avg 1-(normalized) DL distance acitivty suffix prediction validation set: 0.26522859930992126\n",
      "Percentage of suffixes predicted to END: too early - 0.021734233465531716 ; right moment - 0.09865731038860864 ; too late - 0.8796084561458597\n",
      "Too early instances - avg amount of events too early: 8.079145431518555\n",
      "Too late instances - avg amount of events too late: 48.31569290161133\n",
      "Avg absolute amount of events predicted too early / too late: 42.67448425292969\n",
      "Avg MAE RRT prediction validation set:  11981.251041666666 (minutes)'\n",
      " \n",
      "------------------------------------\n",
      "EPOCH 110:\n",
      "____________________________________\n"
     ]
    },
    {
     "name": "stderr",
     "output_type": "stream",
     "text": [
      "Batch calculation at epoch 110.: 807it [00:14, 55.40it/s]"
     ]
    },
    {
     "name": "stdout",
     "output_type": "stream",
     "text": [
      "------------------------------------------------------------\n",
      "Epoch 110, batch 799:\n",
      "Average original gradient norm: 0.39410773465409876 (over last 800 batches)\n",
      "Average clipped gradient norm: 0.39360196435824035 (over last 800 batches)\n",
      "Running average global loss: 0.456634610183537 (over last 800 batches)\n",
      "Running average activity prediction loss: 0.29743465565145016 (Cross Entropy over last 800 batches)\n",
      "Running average time till next event prediction loss: 0.15919995442964135 (MAE over last 800 batches)\n",
      "------------------------------------------------------------\n"
     ]
    },
    {
     "name": "stderr",
     "output_type": "stream",
     "text": [
      "Batch calculation at epoch 110.: 1610it [00:29, 54.63it/s]"
     ]
    },
    {
     "name": "stdout",
     "output_type": "stream",
     "text": [
      "------------------------------------------------------------\n",
      "Epoch 110, batch 1599:\n",
      "Average original gradient norm: 0.4074596182070673 (over last 800 batches)\n",
      "Average clipped gradient norm: 0.3961736271344125 (over last 800 batches)\n",
      "Running average global loss: 0.45894010208547115 (over last 800 batches)\n",
      "Running average activity prediction loss: 0.2987226069718599 (Cross Entropy over last 800 batches)\n",
      "Running average time till next event prediction loss: 0.16021749506704508 (MAE over last 800 batches)\n",
      "------------------------------------------------------------\n"
     ]
    },
    {
     "name": "stderr",
     "output_type": "stream",
     "text": [
      "Batch calculation at epoch 110.: 2408it [00:43, 54.43it/s]"
     ]
    },
    {
     "name": "stdout",
     "output_type": "stream",
     "text": [
      "------------------------------------------------------------\n",
      "Epoch 110, batch 2399:\n",
      "Average original gradient norm: 0.4018188822641969 (over last 800 batches)\n",
      "Average clipped gradient norm: 0.397590548582375 (over last 800 batches)\n",
      "Running average global loss: 0.4576131845638156 (over last 800 batches)\n",
      "Running average activity prediction loss: 0.2981686963886023 (Cross Entropy over last 800 batches)\n",
      "Running average time till next event prediction loss: 0.1594444883707911 (MAE over last 800 batches)\n",
      "------------------------------------------------------------\n"
     ]
    },
    {
     "name": "stderr",
     "output_type": "stream",
     "text": [
      "Batch calculation at epoch 110.: 3206it [00:58, 56.80it/s]"
     ]
    },
    {
     "name": "stdout",
     "output_type": "stream",
     "text": [
      "------------------------------------------------------------\n",
      "Epoch 110, batch 3199:\n",
      "Average original gradient norm: 0.38619042990729213 (over last 800 batches)\n",
      "Average clipped gradient norm: 0.38619042990729213 (over last 800 batches)\n",
      "Running average global loss: 0.45599930480122564 (over last 800 batches)\n",
      "Running average activity prediction loss: 0.2965456872433424 (Cross Entropy over last 800 batches)\n",
      "Running average time till next event prediction loss: 0.1594536177162081 (MAE over last 800 batches)\n",
      "------------------------------------------------------------\n"
     ]
    },
    {
     "name": "stderr",
     "output_type": "stream",
     "text": [
      "Batch calculation at epoch 110.: 4010it [01:12, 56.64it/s]"
     ]
    },
    {
     "name": "stdout",
     "output_type": "stream",
     "text": [
      "------------------------------------------------------------\n",
      "Epoch 110, batch 3999:\n",
      "Average original gradient norm: 0.40185468601062896 (over last 800 batches)\n",
      "Average clipped gradient norm: 0.39143850283697246 (over last 800 batches)\n",
      "Running average global loss: 0.4561924364045262 (over last 800 batches)\n",
      "Running average activity prediction loss: 0.2973667801171541 (Cross Entropy over last 800 batches)\n",
      "Running average time till next event prediction loss: 0.15882565648294986 (MAE over last 800 batches)\n",
      "------------------------------------------------------------\n"
     ]
    },
    {
     "name": "stderr",
     "output_type": "stream",
     "text": [
      "Batch calculation at epoch 110.: 4798it [01:28, 54.26it/s]\n"
     ]
    },
    {
     "name": "stdout",
     "output_type": "stream",
     "text": [
      "=======================================\n",
      "End of epoch 110\n",
      "=======================================\n",
      "Running average global loss: 0.4572220864146948 (over last 800 batches)\n",
      "Running average activity prediction loss: 0.29738815054297446 (Cross Entropy over last 800 batches)\n",
      "Running average time till next event prediction loss: 0.15983393588103353 (MAE over last 800 batches)\n"
     ]
    },
    {
     "name": "stderr",
     "output_type": "stream",
     "text": [
      "Validation batch calculation: 72it [00:42,  1.69it/s]\n"
     ]
    },
    {
     "name": "stdout",
     "output_type": "stream",
     "text": [
      "Avg MAE TTNE prediction validation set: 0.20619802176952362 (standardized) ; 763.6619791666667 (minutes)'\n",
      "Avg 1-(normalized) DL distance acitivty suffix prediction validation set: 0.27297866344451904\n",
      "Percentage of suffixes predicted to END: too early - 0.023181362075673905 ; right moment - 0.09901909254114419 ; too late - 0.877799545383182\n",
      "Too early instances - avg amount of events too early: 8.078033447265625\n",
      "Too late instances - avg amount of events too late: 45.89560317993164\n",
      "Avg absolute amount of events predicted too early / too late: 40.47439956665039\n",
      "Avg MAE RRT prediction validation set:  12005.769791666668 (minutes)'\n",
      " \n",
      "------------------------------------\n",
      "EPOCH 111:\n",
      "____________________________________\n"
     ]
    },
    {
     "name": "stderr",
     "output_type": "stream",
     "text": [
      "Batch calculation at epoch 111.: 808it [00:17, 46.48it/s]"
     ]
    },
    {
     "name": "stdout",
     "output_type": "stream",
     "text": [
      "------------------------------------------------------------\n",
      "Epoch 111, batch 799:\n",
      "Average original gradient norm: 0.39344437621533873 (over last 800 batches)\n",
      "Average clipped gradient norm: 0.3876831126958132 (over last 800 batches)\n",
      "Running average global loss: 0.4571628120914102 (over last 800 batches)\n",
      "Running average activity prediction loss: 0.29733523454517125 (Cross Entropy over last 800 batches)\n",
      "Running average time till next event prediction loss: 0.1598275774810463 (MAE over last 800 batches)\n",
      "------------------------------------------------------------\n"
     ]
    },
    {
     "name": "stderr",
     "output_type": "stream",
     "text": [
      "Batch calculation at epoch 111.: 1609it [00:34, 46.51it/s]"
     ]
    },
    {
     "name": "stdout",
     "output_type": "stream",
     "text": [
      "------------------------------------------------------------\n",
      "Epoch 111, batch 1599:\n",
      "Average original gradient norm: 0.389411014392972 (over last 800 batches)\n",
      "Average clipped gradient norm: 0.389411014392972 (over last 800 batches)\n",
      "Running average global loss: 0.45590271048247816 (over last 800 batches)\n",
      "Running average activity prediction loss: 0.2970935733243823 (Cross Entropy over last 800 batches)\n",
      "Running average time till next event prediction loss: 0.15880913723260165 (MAE over last 800 batches)\n",
      "------------------------------------------------------------\n"
     ]
    },
    {
     "name": "stderr",
     "output_type": "stream",
     "text": [
      "Batch calculation at epoch 111.: 2409it [00:52, 46.48it/s]"
     ]
    },
    {
     "name": "stdout",
     "output_type": "stream",
     "text": [
      "------------------------------------------------------------\n",
      "Epoch 111, batch 2399:\n",
      "Average original gradient norm: 0.3871439088881016 (over last 800 batches)\n",
      "Average clipped gradient norm: 0.3871439088881016 (over last 800 batches)\n",
      "Running average global loss: 0.45754130091518164 (over last 800 batches)\n",
      "Running average activity prediction loss: 0.29814649432897566 (Cross Entropy over last 800 batches)\n",
      "Running average time till next event prediction loss: 0.15939480652101337 (MAE over last 800 batches)\n",
      "------------------------------------------------------------\n"
     ]
    },
    {
     "name": "stderr",
     "output_type": "stream",
     "text": [
      "Batch calculation at epoch 111.: 3205it [01:09, 46.01it/s]"
     ]
    },
    {
     "name": "stdout",
     "output_type": "stream",
     "text": [
      "------------------------------------------------------------\n",
      "Epoch 111, batch 3199:\n",
      "Average original gradient norm: 0.39351914055645465 (over last 800 batches)\n",
      "Average clipped gradient norm: 0.3932386489957571 (over last 800 batches)\n",
      "Running average global loss: 0.45747362602502106 (over last 800 batches)\n",
      "Running average activity prediction loss: 0.29801339719444514 (Cross Entropy over last 800 batches)\n",
      "Running average time till next event prediction loss: 0.15946022879332303 (MAE over last 800 batches)\n",
      "------------------------------------------------------------\n"
     ]
    },
    {
     "name": "stderr",
     "output_type": "stream",
     "text": [
      "Batch calculation at epoch 111.: 4005it [01:26, 46.45it/s]"
     ]
    },
    {
     "name": "stdout",
     "output_type": "stream",
     "text": [
      "------------------------------------------------------------\n",
      "Epoch 111, batch 3999:\n",
      "Average original gradient norm: 0.39485349409282205 (over last 800 batches)\n",
      "Average clipped gradient norm: 0.39485349409282205 (over last 800 batches)\n",
      "Running average global loss: 0.4580441529676318 (over last 800 batches)\n",
      "Running average activity prediction loss: 0.29784246742725373 (Cross Entropy over last 800 batches)\n",
      "Running average time till next event prediction loss: 0.16020168525166809 (MAE over last 800 batches)\n",
      "------------------------------------------------------------\n"
     ]
    },
    {
     "name": "stderr",
     "output_type": "stream",
     "text": [
      "Batch calculation at epoch 111.: 4798it [01:43, 46.33it/s]\n"
     ]
    },
    {
     "name": "stdout",
     "output_type": "stream",
     "text": [
      "=======================================\n",
      "End of epoch 111\n",
      "=======================================\n",
      "Running average global loss: 0.45653474003076555 (over last 800 batches)\n",
      "Running average activity prediction loss: 0.29715800303965806 (Cross Entropy over last 800 batches)\n",
      "Running average time till next event prediction loss: 0.1593767365347594 (MAE over last 800 batches)\n"
     ]
    },
    {
     "name": "stderr",
     "output_type": "stream",
     "text": [
      "Validation batch calculation: 72it [00:42,  1.70it/s]\n"
     ]
    },
    {
     "name": "stdout",
     "output_type": "stream",
     "text": [
      "Avg MAE TTNE prediction validation set: 0.20620375871658325 (standardized) ; 763.68046875 (minutes)'\n",
      "Avg 1-(normalized) DL distance acitivty suffix prediction validation set: 0.27337053418159485\n",
      "Percentage of suffixes predicted to END: too early - 0.022416841300504448 ; right moment - 0.0988211362690021 ; too late - 0.8787620224304935\n",
      "Too early instances - avg amount of events too early: 8.047807693481445\n",
      "Too late instances - avg amount of events too late: 45.54208755493164\n",
      "Avg absolute amount of events predicted too early / too late: 40.2010612487793\n",
      "Avg MAE RRT prediction validation set:  12017.565625 (minutes)'\n",
      " \n",
      "------------------------------------\n",
      "EPOCH 112:\n",
      "____________________________________\n"
     ]
    },
    {
     "name": "stderr",
     "output_type": "stream",
     "text": [
      "Batch calculation at epoch 112.: 805it [00:17, 46.40it/s]"
     ]
    },
    {
     "name": "stdout",
     "output_type": "stream",
     "text": [
      "------------------------------------------------------------\n",
      "Epoch 112, batch 799:\n",
      "Average original gradient norm: 0.385295334700495 (over last 800 batches)\n",
      "Average clipped gradient norm: 0.385295334700495 (over last 800 batches)\n",
      "Running average global loss: 0.45724277433007954 (over last 800 batches)\n",
      "Running average activity prediction loss: 0.2976099779456854 (Cross Entropy over last 800 batches)\n",
      "Running average time till next event prediction loss: 0.15963279652409257 (MAE over last 800 batches)\n",
      "------------------------------------------------------------\n"
     ]
    },
    {
     "name": "stderr",
     "output_type": "stream",
     "text": [
      "Batch calculation at epoch 112.: 1605it [00:34, 46.44it/s]"
     ]
    },
    {
     "name": "stdout",
     "output_type": "stream",
     "text": [
      "------------------------------------------------------------\n",
      "Epoch 112, batch 1599:\n",
      "Average original gradient norm: 0.39558363547548653 (over last 800 batches)\n",
      "Average clipped gradient norm: 0.38970196222886444 (over last 800 batches)\n",
      "Running average global loss: 0.4575230499729514 (over last 800 batches)\n",
      "Running average activity prediction loss: 0.2972427072003484 (Cross Entropy over last 800 batches)\n",
      "Running average time till next event prediction loss: 0.16028034244664013 (MAE over last 800 batches)\n",
      "------------------------------------------------------------\n"
     ]
    },
    {
     "name": "stderr",
     "output_type": "stream",
     "text": [
      "Batch calculation at epoch 112.: 2409it [00:52, 52.37it/s]"
     ]
    },
    {
     "name": "stdout",
     "output_type": "stream",
     "text": [
      "------------------------------------------------------------\n",
      "Epoch 112, batch 2399:\n",
      "Average original gradient norm: 0.3827997977472842 (over last 800 batches)\n",
      "Average clipped gradient norm: 0.3827997977472842 (over last 800 batches)\n",
      "Running average global loss: 0.45742722567170857 (over last 800 batches)\n",
      "Running average activity prediction loss: 0.2979013346135616 (Cross Entropy over last 800 batches)\n",
      "Running average time till next event prediction loss: 0.15952589120715857 (MAE over last 800 batches)\n",
      "------------------------------------------------------------\n"
     ]
    },
    {
     "name": "stderr",
     "output_type": "stream",
     "text": [
      "Batch calculation at epoch 112.: 3206it [01:09, 46.32it/s]"
     ]
    },
    {
     "name": "stdout",
     "output_type": "stream",
     "text": [
      "------------------------------------------------------------\n",
      "Epoch 112, batch 3199:\n",
      "Average original gradient norm: 0.3901322524808347 (over last 800 batches)\n",
      "Average clipped gradient norm: 0.3901322524808347 (over last 800 batches)\n",
      "Running average global loss: 0.4565788598358631 (over last 800 batches)\n",
      "Running average activity prediction loss: 0.2975405228883028 (Cross Entropy over last 800 batches)\n",
      "Running average time till next event prediction loss: 0.15903833743184806 (MAE over last 800 batches)\n",
      "------------------------------------------------------------\n"
     ]
    },
    {
     "name": "stderr",
     "output_type": "stream",
     "text": [
      "Batch calculation at epoch 112.: 4006it [01:26, 46.15it/s]"
     ]
    },
    {
     "name": "stdout",
     "output_type": "stream",
     "text": [
      "------------------------------------------------------------\n",
      "Epoch 112, batch 3999:\n",
      "Average original gradient norm: 0.40340909400954844 (over last 800 batches)\n",
      "Average clipped gradient norm: 0.3901973975636065 (over last 800 batches)\n",
      "Running average global loss: 0.4569286185503006 (over last 800 batches)\n",
      "Running average activity prediction loss: 0.29787960946559905 (Cross Entropy over last 800 batches)\n",
      "Running average time till next event prediction loss: 0.1590490090008825 (MAE over last 800 batches)\n",
      "------------------------------------------------------------\n"
     ]
    },
    {
     "name": "stderr",
     "output_type": "stream",
     "text": [
      "Batch calculation at epoch 112.: 4798it [01:43, 46.33it/s]\n"
     ]
    },
    {
     "name": "stdout",
     "output_type": "stream",
     "text": [
      "=======================================\n",
      "End of epoch 112\n",
      "=======================================\n",
      "Running average global loss: 0.4569636746495962 (over last 800 batches)\n",
      "Running average activity prediction loss: 0.2973889134824276 (Cross Entropy over last 800 batches)\n",
      "Running average time till next event prediction loss: 0.15957476088777184 (MAE over last 800 batches)\n"
     ]
    },
    {
     "name": "stderr",
     "output_type": "stream",
     "text": [
      "Validation batch calculation: 72it [00:42,  1.70it/s]\n"
     ]
    },
    {
     "name": "stdout",
     "output_type": "stream",
     "text": [
      "Avg MAE TTNE prediction validation set: 0.2061726599931717 (standardized) ; 763.5235026041667 (minutes)'\n",
      "Avg 1-(normalized) DL distance acitivty suffix prediction validation set: 0.27102357149124146\n",
      "Percentage of suffixes predicted to END: too early - 0.02271718874789245 ; right moment - 0.09880065803395291 ; too late - 0.8784821532181546\n",
      "Too early instances - avg amount of events too early: 8.06881046295166\n",
      "Too late instances - avg amount of events too late: 46.49241256713867\n",
      "Avg absolute amount of events predicted too early / too late: 41.02605438232422\n",
      "Avg MAE RRT prediction validation set:  12015.175 (minutes)'\n",
      " \n",
      "------------------------------------\n",
      "EPOCH 113:\n",
      "____________________________________\n"
     ]
    },
    {
     "name": "stderr",
     "output_type": "stream",
     "text": [
      "Batch calculation at epoch 113.: 806it [00:17, 46.59it/s]"
     ]
    },
    {
     "name": "stdout",
     "output_type": "stream",
     "text": [
      "------------------------------------------------------------\n",
      "Epoch 113, batch 799:\n",
      "Average original gradient norm: 0.39148863496258857 (over last 800 batches)\n",
      "Average clipped gradient norm: 0.3859144532866776 (over last 800 batches)\n",
      "Running average global loss: 0.4570393780246377 (over last 800 batches)\n",
      "Running average activity prediction loss: 0.2976633110269904 (Cross Entropy over last 800 batches)\n",
      "Running average time till next event prediction loss: 0.15937606717459857 (MAE over last 800 batches)\n",
      "------------------------------------------------------------\n"
     ]
    },
    {
     "name": "stderr",
     "output_type": "stream",
     "text": [
      "Batch calculation at epoch 113.: 1606it [00:34, 45.85it/s]"
     ]
    },
    {
     "name": "stdout",
     "output_type": "stream",
     "text": [
      "------------------------------------------------------------\n",
      "Epoch 113, batch 1599:\n",
      "Average original gradient norm: 0.3816436057165265 (over last 800 batches)\n",
      "Average clipped gradient norm: 0.3816436057165265 (over last 800 batches)\n",
      "Running average global loss: 0.4567195239290595 (over last 800 batches)\n",
      "Running average activity prediction loss: 0.2974517445638776 (Cross Entropy over last 800 batches)\n",
      "Running average time till next event prediction loss: 0.15926777982152998 (MAE over last 800 batches)\n",
      "------------------------------------------------------------\n"
     ]
    },
    {
     "name": "stderr",
     "output_type": "stream",
     "text": [
      "Batch calculation at epoch 113.: 2407it [00:51, 46.42it/s]"
     ]
    },
    {
     "name": "stdout",
     "output_type": "stream",
     "text": [
      "------------------------------------------------------------\n",
      "Epoch 113, batch 2399:\n",
      "Average original gradient norm: 0.38531166773289444 (over last 800 batches)\n",
      "Average clipped gradient norm: 0.38531166773289444 (over last 800 batches)\n",
      "Running average global loss: 0.4565512653440237 (over last 800 batches)\n",
      "Running average activity prediction loss: 0.2977282503992319 (Cross Entropy over last 800 batches)\n",
      "Running average time till next event prediction loss: 0.15882301532663404 (MAE over last 800 batches)\n",
      "------------------------------------------------------------\n"
     ]
    },
    {
     "name": "stderr",
     "output_type": "stream",
     "text": [
      "Batch calculation at epoch 113.: 3207it [01:09, 46.30it/s]"
     ]
    },
    {
     "name": "stdout",
     "output_type": "stream",
     "text": [
      "------------------------------------------------------------\n",
      "Epoch 113, batch 3199:\n",
      "Average original gradient norm: 0.38777025997638703 (over last 800 batches)\n",
      "Average clipped gradient norm: 0.38777025997638703 (over last 800 batches)\n",
      "Running average global loss: 0.4571594647690654 (over last 800 batches)\n",
      "Running average activity prediction loss: 0.297545174844563 (Cross Entropy over last 800 batches)\n",
      "Running average time till next event prediction loss: 0.15961428981274367 (MAE over last 800 batches)\n",
      "------------------------------------------------------------\n"
     ]
    },
    {
     "name": "stderr",
     "output_type": "stream",
     "text": [
      "Batch calculation at epoch 113.: 4006it [01:26, 46.22it/s]"
     ]
    },
    {
     "name": "stdout",
     "output_type": "stream",
     "text": [
      "------------------------------------------------------------\n",
      "Epoch 113, batch 3999:\n",
      "Average original gradient norm: 0.3929623866267502 (over last 800 batches)\n",
      "Average clipped gradient norm: 0.3929623866267502 (over last 800 batches)\n",
      "Running average global loss: 0.45867269549518824 (over last 800 batches)\n",
      "Running average activity prediction loss: 0.29804383814334867 (Cross Entropy over last 800 batches)\n",
      "Running average time till next event prediction loss: 0.16062885692343115 (MAE over last 800 batches)\n",
      "------------------------------------------------------------\n"
     ]
    },
    {
     "name": "stderr",
     "output_type": "stream",
     "text": [
      "Batch calculation at epoch 113.: 4798it [01:43, 46.42it/s]\n"
     ]
    },
    {
     "name": "stdout",
     "output_type": "stream",
     "text": [
      "=======================================\n",
      "End of epoch 113\n",
      "=======================================\n",
      "Running average global loss: 0.4564995800331235 (over last 800 batches)\n",
      "Running average activity prediction loss: 0.2970649237930775 (Cross Entropy over last 800 batches)\n",
      "Running average time till next event prediction loss: 0.15943465586751698 (MAE over last 800 batches)\n"
     ]
    },
    {
     "name": "stderr",
     "output_type": "stream",
     "text": [
      "Validation batch calculation: 72it [00:41,  1.74it/s]\n"
     ]
    },
    {
     "name": "stdout",
     "output_type": "stream",
     "text": [
      "Avg MAE TTNE prediction validation set: 0.20620660483837128 (standardized) ; 763.6811848958333 (minutes)'\n",
      "Avg 1-(normalized) DL distance acitivty suffix prediction validation set: 0.2614653408527374\n",
      "Percentage of suffixes predicted to END: too early - 0.02154992935008908 ; right moment - 0.09867778862365782 ; too late - 0.8797722820262531\n",
      "Too early instances - avg amount of events too early: 8.133670806884766\n",
      "Too late instances - avg amount of events too late: 49.895904541015625\n",
      "Avg absolute amount of events predicted too early / too late: 44.07231521606445\n",
      "Avg MAE RRT prediction validation set:  11944.684375 (minutes)'\n",
      " \n",
      "------------------------------------\n",
      "EPOCH 114:\n",
      "____________________________________\n"
     ]
    },
    {
     "name": "stderr",
     "output_type": "stream",
     "text": [
      "Batch calculation at epoch 114.: 809it [00:17, 46.62it/s]"
     ]
    },
    {
     "name": "stdout",
     "output_type": "stream",
     "text": [
      "------------------------------------------------------------\n",
      "Epoch 114, batch 799:\n",
      "Average original gradient norm: 0.3915448602475226 (over last 800 batches)\n",
      "Average clipped gradient norm: 0.3915448602475226 (over last 800 batches)\n",
      "Running average global loss: 0.4570501696318388 (over last 800 batches)\n",
      "Running average activity prediction loss: 0.2971645829081535 (Cross Entropy over last 800 batches)\n",
      "Running average time till next event prediction loss: 0.159885586919263 (MAE over last 800 batches)\n",
      "------------------------------------------------------------\n"
     ]
    },
    {
     "name": "stderr",
     "output_type": "stream",
     "text": [
      "Batch calculation at epoch 114.: 1609it [00:34, 46.15it/s]"
     ]
    },
    {
     "name": "stdout",
     "output_type": "stream",
     "text": [
      "------------------------------------------------------------\n",
      "Epoch 114, batch 1599:\n",
      "Average original gradient norm: 0.3889590885676444 (over last 800 batches)\n",
      "Average clipped gradient norm: 0.3889590885676444 (over last 800 batches)\n",
      "Running average global loss: 0.456915080472827 (over last 800 batches)\n",
      "Running average activity prediction loss: 0.2977464401721954 (Cross Entropy over last 800 batches)\n",
      "Running average time till next event prediction loss: 0.1591686401423067 (MAE over last 800 batches)\n",
      "------------------------------------------------------------\n"
     ]
    },
    {
     "name": "stderr",
     "output_type": "stream",
     "text": [
      "Batch calculation at epoch 114.: 2409it [00:52, 46.16it/s]"
     ]
    },
    {
     "name": "stdout",
     "output_type": "stream",
     "text": [
      "------------------------------------------------------------\n",
      "Epoch 114, batch 2399:\n",
      "Average original gradient norm: 0.38959652418270707 (over last 800 batches)\n",
      "Average clipped gradient norm: 0.38848651045933363 (over last 800 batches)\n",
      "Running average global loss: 0.4568752643465996 (over last 800 batches)\n",
      "Running average activity prediction loss: 0.29776176482439043 (Cross Entropy over last 800 batches)\n",
      "Running average time till next event prediction loss: 0.159113499680534 (MAE over last 800 batches)\n",
      "------------------------------------------------------------\n"
     ]
    },
    {
     "name": "stderr",
     "output_type": "stream",
     "text": [
      "Batch calculation at epoch 114.: 3207it [01:09, 46.16it/s]"
     ]
    },
    {
     "name": "stdout",
     "output_type": "stream",
     "text": [
      "------------------------------------------------------------\n",
      "Epoch 114, batch 3199:\n",
      "Average original gradient norm: 0.39231660289689896 (over last 800 batches)\n",
      "Average clipped gradient norm: 0.3914888253621757 (over last 800 batches)\n",
      "Running average global loss: 0.45776202738285066 (over last 800 batches)\n",
      "Running average activity prediction loss: 0.29787336114794016 (Cross Entropy over last 800 batches)\n",
      "Running average time till next event prediction loss: 0.1598886659555137 (MAE over last 800 batches)\n",
      "------------------------------------------------------------\n"
     ]
    },
    {
     "name": "stderr",
     "output_type": "stream",
     "text": [
      "Batch calculation at epoch 114.: 4007it [01:26, 46.39it/s]"
     ]
    },
    {
     "name": "stdout",
     "output_type": "stream",
     "text": [
      "------------------------------------------------------------\n",
      "Epoch 114, batch 3999:\n",
      "Average original gradient norm: 0.41452878193929793 (over last 800 batches)\n",
      "Average clipped gradient norm: 0.390978112090379 (over last 800 batches)\n",
      "Running average global loss: 0.45752577416598794 (over last 800 batches)\n",
      "Running average activity prediction loss: 0.2979423139616847 (Cross Entropy over last 800 batches)\n",
      "Running average time till next event prediction loss: 0.15958345995284617 (MAE over last 800 batches)\n",
      "------------------------------------------------------------\n"
     ]
    },
    {
     "name": "stderr",
     "output_type": "stream",
     "text": [
      "Batch calculation at epoch 114.: 4798it [01:43, 46.39it/s]\n"
     ]
    },
    {
     "name": "stdout",
     "output_type": "stream",
     "text": [
      "=======================================\n",
      "End of epoch 114\n",
      "=======================================\n",
      "Running average global loss: 0.45644045162945984 (over last 800 batches)\n",
      "Running average activity prediction loss: 0.29707512315362694 (Cross Entropy over last 800 batches)\n",
      "Running average time till next event prediction loss: 0.1593653292581439 (MAE over last 800 batches)\n"
     ]
    },
    {
     "name": "stderr",
     "output_type": "stream",
     "text": [
      "Validation batch calculation: 72it [00:41,  1.72it/s]\n"
     ]
    },
    {
     "name": "stdout",
     "output_type": "stream",
     "text": [
      "Avg MAE TTNE prediction validation set: 0.20623387396335602 (standardized) ; 763.7622395833333 (minutes)'\n",
      "Avg 1-(normalized) DL distance acitivty suffix prediction validation set: 0.2751556634902954\n",
      "Percentage of suffixes predicted to END: too early - 0.023099449135477176 ; right moment - 0.09903957077619337 ; too late - 0.8778609800883295\n",
      "Too early instances - avg amount of events too early: 7.9689717292785645\n",
      "Too late instances - avg amount of events too late: 45.12376022338867\n",
      "Avg absolute amount of events predicted too early / too late: 39.79646682739258\n",
      "Avg MAE RRT prediction validation set:  12020.788541666667 (minutes)'\n",
      " \n",
      "------------------------------------\n",
      "EPOCH 115:\n",
      "____________________________________\n"
     ]
    },
    {
     "name": "stderr",
     "output_type": "stream",
     "text": [
      "Batch calculation at epoch 115.: 806it [00:17, 46.76it/s]"
     ]
    },
    {
     "name": "stdout",
     "output_type": "stream",
     "text": [
      "------------------------------------------------------------\n",
      "Epoch 115, batch 799:\n",
      "Average original gradient norm: 0.3965819348953664 (over last 800 batches)\n",
      "Average clipped gradient norm: 0.3965819348953664 (over last 800 batches)\n",
      "Running average global loss: 0.4568787095323205 (over last 800 batches)\n",
      "Running average activity prediction loss: 0.29716147284954786 (Cross Entropy over last 800 batches)\n",
      "Running average time till next event prediction loss: 0.15971723645925523 (MAE over last 800 batches)\n",
      "------------------------------------------------------------\n"
     ]
    },
    {
     "name": "stderr",
     "output_type": "stream",
     "text": [
      "Batch calculation at epoch 115.: 1606it [00:34, 46.64it/s]"
     ]
    },
    {
     "name": "stdout",
     "output_type": "stream",
     "text": [
      "------------------------------------------------------------\n",
      "Epoch 115, batch 1599:\n",
      "Average original gradient norm: 0.39377403143793344 (over last 800 batches)\n",
      "Average clipped gradient norm: 0.39377403143793344 (over last 800 batches)\n",
      "Running average global loss: 0.45693300738930703 (over last 800 batches)\n",
      "Running average activity prediction loss: 0.29768224004656074 (Cross Entropy over last 800 batches)\n",
      "Running average time till next event prediction loss: 0.15925076716579498 (MAE over last 800 batches)\n",
      "------------------------------------------------------------\n"
     ]
    },
    {
     "name": "stderr",
     "output_type": "stream",
     "text": [
      "Batch calculation at epoch 115.: 2407it [00:51, 46.47it/s]"
     ]
    },
    {
     "name": "stdout",
     "output_type": "stream",
     "text": [
      "------------------------------------------------------------\n",
      "Epoch 115, batch 2399:\n",
      "Average original gradient norm: 0.40786681599915026 (over last 800 batches)\n",
      "Average clipped gradient norm: 0.3985864645987749 (over last 800 batches)\n",
      "Running average global loss: 0.4571154848486185 (over last 800 batches)\n",
      "Running average activity prediction loss: 0.2971853225305676 (Cross Entropy over last 800 batches)\n",
      "Running average time till next event prediction loss: 0.1599301626160741 (MAE over last 800 batches)\n",
      "------------------------------------------------------------\n"
     ]
    },
    {
     "name": "stderr",
     "output_type": "stream",
     "text": [
      "Batch calculation at epoch 115.: 3207it [01:09, 46.34it/s]"
     ]
    },
    {
     "name": "stdout",
     "output_type": "stream",
     "text": [
      "------------------------------------------------------------\n",
      "Epoch 115, batch 3199:\n",
      "Average original gradient norm: 0.3885734991542995 (over last 800 batches)\n",
      "Average clipped gradient norm: 0.38828292904421685 (over last 800 batches)\n",
      "Running average global loss: 0.4572259137779474 (over last 800 batches)\n",
      "Running average activity prediction loss: 0.29768521912395957 (Cross Entropy over last 800 batches)\n",
      "Running average time till next event prediction loss: 0.15954069410450755 (MAE over last 800 batches)\n",
      "------------------------------------------------------------\n"
     ]
    },
    {
     "name": "stderr",
     "output_type": "stream",
     "text": [
      "Batch calculation at epoch 115.: 4009it [01:26, 45.92it/s]"
     ]
    },
    {
     "name": "stdout",
     "output_type": "stream",
     "text": [
      "------------------------------------------------------------\n",
      "Epoch 115, batch 3999:\n",
      "Average original gradient norm: 0.3901520901173353 (over last 800 batches)\n",
      "Average clipped gradient norm: 0.3901520901173353 (over last 800 batches)\n",
      "Running average global loss: 0.4568236219882965 (over last 800 batches)\n",
      "Running average activity prediction loss: 0.297965926900506 (Cross Entropy over last 800 batches)\n",
      "Running average time till next event prediction loss: 0.15885769465006888 (MAE over last 800 batches)\n",
      "------------------------------------------------------------\n"
     ]
    },
    {
     "name": "stderr",
     "output_type": "stream",
     "text": [
      "Batch calculation at epoch 115.: 4798it [01:43, 46.34it/s]\n"
     ]
    },
    {
     "name": "stdout",
     "output_type": "stream",
     "text": [
      "=======================================\n",
      "End of epoch 115\n",
      "=======================================\n",
      "Running average global loss: 0.4576754700765014 (over last 800 batches)\n",
      "Running average activity prediction loss: 0.2978739811480045 (Cross Entropy over last 800 batches)\n",
      "Running average time till next event prediction loss: 0.15980148836039007 (MAE over last 800 batches)\n"
     ]
    },
    {
     "name": "stderr",
     "output_type": "stream",
     "text": [
      "Validation batch calculation: 72it [00:41,  1.72it/s]\n"
     ]
    },
    {
     "name": "stdout",
     "output_type": "stream",
     "text": [
      "Avg MAE TTNE prediction validation set: 0.2062492072582245 (standardized) ; 763.8591145833333 (minutes)'\n",
      "Avg 1-(normalized) DL distance acitivty suffix prediction validation set: 0.2595038414001465\n",
      "Percentage of suffixes predicted to END: too early - 0.02053966975432944 ; right moment - 0.09826139784432446 ; too late - 0.8811989324013461\n",
      "Too early instances - avg amount of events too early: 8.142572402954102\n",
      "Too late instances - avg amount of events too late: 50.314579010009766\n",
      "Avg absolute amount of events predicted too early / too late: 44.504398345947266\n",
      "Avg MAE RRT prediction validation set:  11928.677083333334 (minutes)'\n",
      " \n",
      "------------------------------------\n",
      "EPOCH 116:\n",
      "____________________________________\n"
     ]
    },
    {
     "name": "stderr",
     "output_type": "stream",
     "text": [
      "Batch calculation at epoch 116.: 806it [00:17, 46.29it/s]"
     ]
    },
    {
     "name": "stdout",
     "output_type": "stream",
     "text": [
      "------------------------------------------------------------\n",
      "Epoch 116, batch 799:\n",
      "Average original gradient norm: 0.39439974339678885 (over last 800 batches)\n",
      "Average clipped gradient norm: 0.39439974339678885 (over last 800 batches)\n",
      "Running average global loss: 0.4572686233371496 (over last 800 batches)\n",
      "Running average activity prediction loss: 0.2975114570185542 (Cross Entropy over last 800 batches)\n",
      "Running average time till next event prediction loss: 0.15975716667249798 (MAE over last 800 batches)\n",
      "------------------------------------------------------------\n"
     ]
    },
    {
     "name": "stderr",
     "output_type": "stream",
     "text": [
      "Batch calculation at epoch 116.: 1606it [00:34, 46.70it/s]"
     ]
    },
    {
     "name": "stdout",
     "output_type": "stream",
     "text": [
      "------------------------------------------------------------\n",
      "Epoch 116, batch 1599:\n",
      "Average original gradient norm: 0.3970397988334298 (over last 800 batches)\n",
      "Average clipped gradient norm: 0.3912465626373887 (over last 800 batches)\n",
      "Running average global loss: 0.4572403087466955 (over last 800 batches)\n",
      "Running average activity prediction loss: 0.2971844498068094 (Cross Entropy over last 800 batches)\n",
      "Running average time till next event prediction loss: 0.16005585862323643 (MAE over last 800 batches)\n",
      "------------------------------------------------------------\n"
     ]
    },
    {
     "name": "stderr",
     "output_type": "stream",
     "text": [
      "Batch calculation at epoch 116.: 2409it [00:51, 46.47it/s]"
     ]
    },
    {
     "name": "stdout",
     "output_type": "stream",
     "text": [
      "------------------------------------------------------------\n",
      "Epoch 116, batch 2399:\n",
      "Average original gradient norm: 0.3932992574945092 (over last 800 batches)\n",
      "Average clipped gradient norm: 0.38829497519880535 (over last 800 batches)\n",
      "Running average global loss: 0.45588872089982035 (over last 800 batches)\n",
      "Running average activity prediction loss: 0.2969985077902675 (Cross Entropy over last 800 batches)\n",
      "Running average time till next event prediction loss: 0.15889021293260158 (MAE over last 800 batches)\n",
      "------------------------------------------------------------\n"
     ]
    },
    {
     "name": "stderr",
     "output_type": "stream",
     "text": [
      "Batch calculation at epoch 116.: 3209it [01:09, 46.58it/s]"
     ]
    },
    {
     "name": "stdout",
     "output_type": "stream",
     "text": [
      "------------------------------------------------------------\n",
      "Epoch 116, batch 3199:\n",
      "Average original gradient norm: 0.38896040031686424 (over last 800 batches)\n",
      "Average clipped gradient norm: 0.38896040031686424 (over last 800 batches)\n",
      "Running average global loss: 0.45806260749697686 (over last 800 batches)\n",
      "Running average activity prediction loss: 0.29839985609054565 (Cross Entropy over last 800 batches)\n",
      "Running average time till next event prediction loss: 0.15966275107115507 (MAE over last 800 batches)\n",
      "------------------------------------------------------------\n"
     ]
    },
    {
     "name": "stderr",
     "output_type": "stream",
     "text": [
      "Batch calculation at epoch 116.: 4009it [01:26, 46.97it/s]"
     ]
    },
    {
     "name": "stdout",
     "output_type": "stream",
     "text": [
      "------------------------------------------------------------\n",
      "Epoch 116, batch 3999:\n",
      "Average original gradient norm: 0.3839627974666655 (over last 800 batches)\n",
      "Average clipped gradient norm: 0.3839627974666655 (over last 800 batches)\n",
      "Running average global loss: 0.4579766151309013 (over last 800 batches)\n",
      "Running average activity prediction loss: 0.2985974216461182 (Cross Entropy over last 800 batches)\n",
      "Running average time till next event prediction loss: 0.15937919344753027 (MAE over last 800 batches)\n",
      "------------------------------------------------------------\n"
     ]
    },
    {
     "name": "stderr",
     "output_type": "stream",
     "text": [
      "Batch calculation at epoch 116.: 4798it [01:43, 46.50it/s]\n"
     ]
    },
    {
     "name": "stdout",
     "output_type": "stream",
     "text": [
      "=======================================\n",
      "End of epoch 116\n",
      "=======================================\n",
      "Running average global loss: 0.456358990855515 (over last 800 batches)\n",
      "Running average activity prediction loss: 0.2971267148479819 (Cross Entropy over last 800 batches)\n",
      "Running average time till next event prediction loss: 0.15923227610997856 (MAE over last 800 batches)\n"
     ]
    },
    {
     "name": "stderr",
     "output_type": "stream",
     "text": [
      "Validation batch calculation: 72it [00:42,  1.70it/s]\n"
     ]
    },
    {
     "name": "stdout",
     "output_type": "stream",
     "text": [
      "Avg MAE TTNE prediction validation set: 0.20622652769088745 (standardized) ; 763.773828125 (minutes)'\n",
      "Avg 1-(normalized) DL distance acitivty suffix prediction validation set: 0.2756233513355255\n",
      "Percentage of suffixes predicted to END: too early - 0.023863969910646633 ; right moment - 0.09902591861949392 ; too late - 0.8771101114698594\n",
      "Too early instances - avg amount of events too early: 8.081235885620117\n",
      "Too late instances - avg amount of events too late: 45.229007720947266\n",
      "Avg absolute amount of events predicted too early / too late: 39.863670349121094\n",
      "Avg MAE RRT prediction validation set:  12018.666666666666 (minutes)'\n",
      " \n",
      "------------------------------------\n",
      "EPOCH 117:\n",
      "____________________________________\n"
     ]
    },
    {
     "name": "stderr",
     "output_type": "stream",
     "text": [
      "Batch calculation at epoch 117.: 813it [00:09, 83.67it/s]"
     ]
    },
    {
     "name": "stdout",
     "output_type": "stream",
     "text": [
      "------------------------------------------------------------\n",
      "Epoch 117, batch 799:\n",
      "Average original gradient norm: 0.39329538568854333 (over last 800 batches)\n",
      "Average clipped gradient norm: 0.39329538568854333 (over last 800 batches)\n",
      "Running average global loss: 0.45715397864580154 (over last 800 batches)\n",
      "Running average activity prediction loss: 0.2973285573720932 (Cross Entropy over last 800 batches)\n",
      "Running average time till next event prediction loss: 0.15982542142271997 (MAE over last 800 batches)\n",
      "------------------------------------------------------------\n"
     ]
    },
    {
     "name": "stderr",
     "output_type": "stream",
     "text": [
      "Batch calculation at epoch 117.: 1611it [00:21, 63.34it/s]"
     ]
    },
    {
     "name": "stdout",
     "output_type": "stream",
     "text": [
      "------------------------------------------------------------\n",
      "Epoch 117, batch 1599:\n",
      "Average original gradient norm: 0.3822056693769991 (over last 800 batches)\n",
      "Average clipped gradient norm: 0.3822056693769991 (over last 800 batches)\n",
      "Running average global loss: 0.4569979903846979 (over last 800 batches)\n",
      "Running average activity prediction loss: 0.29781026009470224 (Cross Entropy over last 800 batches)\n",
      "Running average time till next event prediction loss: 0.15918773001991213 (MAE over last 800 batches)\n",
      "------------------------------------------------------------\n"
     ]
    },
    {
     "name": "stderr",
     "output_type": "stream",
     "text": [
      "Batch calculation at epoch 117.: 2406it [00:35, 53.05it/s]"
     ]
    },
    {
     "name": "stdout",
     "output_type": "stream",
     "text": [
      "------------------------------------------------------------\n",
      "Epoch 117, batch 2399:\n",
      "Average original gradient norm: 0.38054151844233275 (over last 800 batches)\n",
      "Average clipped gradient norm: 0.38054151844233275 (over last 800 batches)\n",
      "Running average global loss: 0.4561914515867829 (over last 800 batches)\n",
      "Running average activity prediction loss: 0.2970516192913055 (Cross Entropy over last 800 batches)\n",
      "Running average time till next event prediction loss: 0.15913983191363512 (MAE over last 800 batches)\n",
      "------------------------------------------------------------\n"
     ]
    },
    {
     "name": "stderr",
     "output_type": "stream",
     "text": [
      "Batch calculation at epoch 117.: 3208it [00:49, 52.36it/s]"
     ]
    },
    {
     "name": "stdout",
     "output_type": "stream",
     "text": [
      "------------------------------------------------------------\n",
      "Epoch 117, batch 3199:\n",
      "Average original gradient norm: 0.4033510557562113 (over last 800 batches)\n",
      "Average clipped gradient norm: 0.39645483903586864 (over last 800 batches)\n",
      "Running average global loss: 0.45795572686940433 (over last 800 batches)\n",
      "Running average activity prediction loss: 0.2981666819378734 (Cross Entropy over last 800 batches)\n",
      "Running average time till next event prediction loss: 0.15978904538787903 (MAE over last 800 batches)\n",
      "------------------------------------------------------------\n"
     ]
    },
    {
     "name": "stderr",
     "output_type": "stream",
     "text": [
      "Batch calculation at epoch 117.: 4008it [01:03, 57.57it/s]"
     ]
    },
    {
     "name": "stdout",
     "output_type": "stream",
     "text": [
      "------------------------------------------------------------\n",
      "Epoch 117, batch 3999:\n",
      "Average original gradient norm: 0.38699827767908573 (over last 800 batches)\n",
      "Average clipped gradient norm: 0.38699827767908573 (over last 800 batches)\n",
      "Running average global loss: 0.45698718886822465 (over last 800 batches)\n",
      "Running average activity prediction loss: 0.29742010083049536 (Cross Entropy over last 800 batches)\n",
      "Running average time till next event prediction loss: 0.1595670881215483 (MAE over last 800 batches)\n",
      "------------------------------------------------------------\n"
     ]
    },
    {
     "name": "stderr",
     "output_type": "stream",
     "text": [
      "Batch calculation at epoch 117.: 4798it [01:17, 61.73it/s]\n"
     ]
    },
    {
     "name": "stdout",
     "output_type": "stream",
     "text": [
      "=======================================\n",
      "End of epoch 117\n",
      "=======================================\n",
      "Running average global loss: 0.45730817563831805 (over last 800 batches)\n",
      "Running average activity prediction loss: 0.29764598574489354 (Cross Entropy over last 800 batches)\n",
      "Running average time till next event prediction loss: 0.15966219013556837 (MAE over last 800 batches)\n"
     ]
    },
    {
     "name": "stderr",
     "output_type": "stream",
     "text": [
      "Validation batch calculation: 72it [00:35,  2.02it/s]\n"
     ]
    },
    {
     "name": "stdout",
     "output_type": "stream",
     "text": [
      "Avg MAE TTNE prediction validation set: 0.20622344315052032 (standardized) ; 763.7459635416667 (minutes)'\n",
      "Avg 1-(normalized) DL distance acitivty suffix prediction validation set: 0.2673863470554352\n",
      "Percentage of suffixes predicted to END: too early - 0.022000450521171083 ; right moment - 0.09862317999686 ; too late - 0.879376369481969\n",
      "Too early instances - avg amount of events too early: 8.104560852050781\n",
      "Too late instances - avg amount of events too late: 47.555538177490234\n",
      "Avg absolute amount of events predicted too early / too late: 41.997520446777344\n",
      "Avg MAE RRT prediction validation set:  11985.113541666668 (minutes)'\n",
      " \n",
      "------------------------------------\n",
      "EPOCH 118:\n",
      "____________________________________\n"
     ]
    },
    {
     "name": "stderr",
     "output_type": "stream",
     "text": [
      "Batch calculation at epoch 118.: 806it [00:14, 60.83it/s]"
     ]
    },
    {
     "name": "stdout",
     "output_type": "stream",
     "text": [
      "------------------------------------------------------------\n",
      "Epoch 118, batch 799:\n",
      "Average original gradient norm: 0.3914555124565959 (over last 800 batches)\n",
      "Average clipped gradient norm: 0.3858086676523089 (over last 800 batches)\n",
      "Running average global loss: 0.45713212590664626 (over last 800 batches)\n",
      "Running average activity prediction loss: 0.2975651378929615 (Cross Entropy over last 800 batches)\n",
      "Running average time till next event prediction loss: 0.15956698822788895 (MAE over last 800 batches)\n",
      "------------------------------------------------------------\n"
     ]
    },
    {
     "name": "stderr",
     "output_type": "stream",
     "text": [
      "Batch calculation at epoch 118.: 1608it [00:28, 55.17it/s]"
     ]
    },
    {
     "name": "stdout",
     "output_type": "stream",
     "text": [
      "------------------------------------------------------------\n",
      "Epoch 118, batch 1599:\n",
      "Average original gradient norm: 0.38820790354162454 (over last 800 batches)\n",
      "Average clipped gradient norm: 0.38820790354162454 (over last 800 batches)\n",
      "Running average global loss: 0.4574816717579961 (over last 800 batches)\n",
      "Running average activity prediction loss: 0.2979390368238091 (Cross Entropy over last 800 batches)\n",
      "Running average time till next event prediction loss: 0.15954263512045144 (MAE over last 800 batches)\n",
      "------------------------------------------------------------\n"
     ]
    },
    {
     "name": "stderr",
     "output_type": "stream",
     "text": [
      "Batch calculation at epoch 118.: 2405it [00:43, 56.05it/s]"
     ]
    },
    {
     "name": "stdout",
     "output_type": "stream",
     "text": [
      "------------------------------------------------------------\n",
      "Epoch 118, batch 2399:\n",
      "Average original gradient norm: 0.39300078263506294 (over last 800 batches)\n",
      "Average clipped gradient norm: 0.38796624487265946 (over last 800 batches)\n",
      "Running average global loss: 0.4565029266104102 (over last 800 batches)\n",
      "Running average activity prediction loss: 0.29722141366451976 (Cross Entropy over last 800 batches)\n",
      "Running average time till next event prediction loss: 0.15928151357918977 (MAE over last 800 batches)\n",
      "------------------------------------------------------------\n"
     ]
    },
    {
     "name": "stderr",
     "output_type": "stream",
     "text": [
      "Batch calculation at epoch 118.: 3211it [00:57, 56.87it/s]"
     ]
    },
    {
     "name": "stdout",
     "output_type": "stream",
     "text": [
      "------------------------------------------------------------\n",
      "Epoch 118, batch 3199:\n",
      "Average original gradient norm: 0.38612737921997903 (over last 800 batches)\n",
      "Average clipped gradient norm: 0.38612737921997903 (over last 800 batches)\n",
      "Running average global loss: 0.45720395509153605 (over last 800 batches)\n",
      "Running average activity prediction loss: 0.29764071591198443 (Cross Entropy over last 800 batches)\n",
      "Running average time till next event prediction loss: 0.15956323950551451 (MAE over last 800 batches)\n",
      "------------------------------------------------------------\n"
     ]
    },
    {
     "name": "stderr",
     "output_type": "stream",
     "text": [
      "Batch calculation at epoch 118.: 4007it [01:11, 59.07it/s]"
     ]
    },
    {
     "name": "stdout",
     "output_type": "stream",
     "text": [
      "------------------------------------------------------------\n",
      "Epoch 118, batch 3999:\n",
      "Average original gradient norm: 0.39481292545795443 (over last 800 batches)\n",
      "Average clipped gradient norm: 0.39366298496723173 (over last 800 batches)\n",
      "Running average global loss: 0.4570520936697722 (over last 800 batches)\n",
      "Running average activity prediction loss: 0.29754284042865037 (Cross Entropy over last 800 batches)\n",
      "Running average time till next event prediction loss: 0.15950925322249532 (MAE over last 800 batches)\n",
      "------------------------------------------------------------\n"
     ]
    },
    {
     "name": "stderr",
     "output_type": "stream",
     "text": [
      "Batch calculation at epoch 118.: 4798it [01:25, 55.85it/s]\n"
     ]
    },
    {
     "name": "stdout",
     "output_type": "stream",
     "text": [
      "=======================================\n",
      "End of epoch 118\n",
      "=======================================\n",
      "Running average global loss: 0.45702830143272877 (over last 800 batches)\n",
      "Running average activity prediction loss: 0.29751739103347064 (Cross Entropy over last 800 batches)\n",
      "Running average time till next event prediction loss: 0.15951090982183813 (MAE over last 800 batches)\n"
     ]
    },
    {
     "name": "stderr",
     "output_type": "stream",
     "text": [
      "Validation batch calculation: 72it [00:36,  1.99it/s]\n"
     ]
    },
    {
     "name": "stdout",
     "output_type": "stream",
     "text": [
      "Avg MAE TTNE prediction validation set: 0.20622386038303375 (standardized) ; 763.7598958333333 (minutes)'\n",
      "Avg 1-(normalized) DL distance acitivty suffix prediction validation set: 0.27560004591941833\n",
      "Percentage of suffixes predicted to END: too early - 0.023365666191116543 ; right moment - 0.09899178822774528 ; too late - 0.8776425455811382\n",
      "Too early instances - avg amount of events too early: 8.06368637084961\n",
      "Too late instances - avg amount of events too late: 44.915462493896484\n",
      "Avg absolute amount of events predicted too early / too late: 39.60813522338867\n",
      "Avg MAE RRT prediction validation set:  12022.085416666667 (minutes)'\n",
      " \n",
      "------------------------------------\n",
      "EPOCH 119:\n",
      "____________________________________\n"
     ]
    },
    {
     "name": "stderr",
     "output_type": "stream",
     "text": [
      "Batch calculation at epoch 119.: 809it [00:17, 46.27it/s]"
     ]
    },
    {
     "name": "stdout",
     "output_type": "stream",
     "text": [
      "------------------------------------------------------------\n",
      "Epoch 119, batch 799:\n",
      "Average original gradient norm: 0.3895615951903164 (over last 800 batches)\n",
      "Average clipped gradient norm: 0.38823391454294326 (over last 800 batches)\n",
      "Running average global loss: 0.4567819386348128 (over last 800 batches)\n",
      "Running average activity prediction loss: 0.2978560850769281 (Cross Entropy over last 800 batches)\n",
      "Running average time till next event prediction loss: 0.15892585433088244 (MAE over last 800 batches)\n",
      "------------------------------------------------------------\n"
     ]
    },
    {
     "name": "stderr",
     "output_type": "stream",
     "text": [
      "Batch calculation at epoch 119.: 1606it [00:34, 46.68it/s]"
     ]
    },
    {
     "name": "stdout",
     "output_type": "stream",
     "text": [
      "------------------------------------------------------------\n",
      "Epoch 119, batch 1599:\n",
      "Average original gradient norm: 0.3940222001820803 (over last 800 batches)\n",
      "Average clipped gradient norm: 0.3940222001820803 (over last 800 batches)\n",
      "Running average global loss: 0.4579055919498205 (over last 800 batches)\n",
      "Running average activity prediction loss: 0.2981366439536214 (Cross Entropy over last 800 batches)\n",
      "Running average time till next event prediction loss: 0.15976894805207847 (MAE over last 800 batches)\n",
      "------------------------------------------------------------\n"
     ]
    },
    {
     "name": "stderr",
     "output_type": "stream",
     "text": [
      "Batch calculation at epoch 119.: 2406it [00:52, 42.30it/s]"
     ]
    },
    {
     "name": "stdout",
     "output_type": "stream",
     "text": [
      "------------------------------------------------------------\n",
      "Epoch 119, batch 2399:\n",
      "Average original gradient norm: 0.39138009149581193 (over last 800 batches)\n",
      "Average clipped gradient norm: 0.3889045277610421 (over last 800 batches)\n",
      "Running average global loss: 0.45822854194790125 (over last 800 batches)\n",
      "Running average activity prediction loss: 0.29799582473933695 (Cross Entropy over last 800 batches)\n",
      "Running average time till next event prediction loss: 0.16023271734826267 (MAE over last 800 batches)\n",
      "------------------------------------------------------------\n"
     ]
    },
    {
     "name": "stderr",
     "output_type": "stream",
     "text": [
      "Batch calculation at epoch 119.: 3206it [01:09, 46.37it/s]"
     ]
    },
    {
     "name": "stdout",
     "output_type": "stream",
     "text": [
      "------------------------------------------------------------\n",
      "Epoch 119, batch 3199:\n",
      "Average original gradient norm: 0.4083528589643538 (over last 800 batches)\n",
      "Average clipped gradient norm: 0.39271345460787416 (over last 800 batches)\n",
      "Running average global loss: 0.4568054746463895 (over last 800 batches)\n",
      "Running average activity prediction loss: 0.29676620572805407 (Cross Entropy over last 800 batches)\n",
      "Running average time till next event prediction loss: 0.16003926930949092 (MAE over last 800 batches)\n",
      "------------------------------------------------------------\n"
     ]
    },
    {
     "name": "stderr",
     "output_type": "stream",
     "text": [
      "Batch calculation at epoch 119.: 4006it [01:26, 46.54it/s]"
     ]
    },
    {
     "name": "stdout",
     "output_type": "stream",
     "text": [
      "------------------------------------------------------------\n",
      "Epoch 119, batch 3999:\n",
      "Average original gradient norm: 0.405710974317044 (over last 800 batches)\n",
      "Average clipped gradient norm: 0.38414505971595647 (over last 800 batches)\n",
      "Running average global loss: 0.45619264408946036 (over last 800 batches)\n",
      "Running average activity prediction loss: 0.2967986924946308 (Cross Entropy over last 800 batches)\n",
      "Running average time till next event prediction loss: 0.1593939517531544 (MAE over last 800 batches)\n",
      "------------------------------------------------------------\n"
     ]
    },
    {
     "name": "stderr",
     "output_type": "stream",
     "text": [
      "Batch calculation at epoch 119.: 4798it [01:44, 46.09it/s]\n"
     ]
    },
    {
     "name": "stdout",
     "output_type": "stream",
     "text": [
      "=======================================\n",
      "End of epoch 119\n",
      "=======================================\n",
      "Running average global loss: 0.45640155028551815 (over last 800 batches)\n",
      "Running average activity prediction loss: 0.2976162788644433 (Cross Entropy over last 800 batches)\n",
      "Running average time till next event prediction loss: 0.15878527087159455 (MAE over last 800 batches)\n"
     ]
    },
    {
     "name": "stderr",
     "output_type": "stream",
     "text": [
      "Validation batch calculation: 72it [00:42,  1.70it/s]\n"
     ]
    },
    {
     "name": "stdout",
     "output_type": "stream",
     "text": [
      "Avg MAE TTNE prediction validation set: 0.20622141659259796 (standardized) ; 763.7619791666667 (minutes)'\n",
      "Avg 1-(normalized) DL distance acitivty suffix prediction validation set: 0.2733423113822937\n",
      "Percentage of suffixes predicted to END: too early - 0.021945841894373264 ; right moment - 0.09887574489579991 ; too late - 0.8791784132098268\n",
      "Too early instances - avg amount of events too early: 8.026749610900879\n",
      "Too late instances - avg amount of events too late: 45.33308410644531\n",
      "Avg absolute amount of events predicted too early / too late: 40.032020568847656\n",
      "Avg MAE RRT prediction validation set:  12013.415625 (minutes)'\n",
      " \n",
      "------------------------------------\n",
      "EPOCH 120:\n",
      "____________________________________\n"
     ]
    },
    {
     "name": "stderr",
     "output_type": "stream",
     "text": [
      "Batch calculation at epoch 120.: 809it [00:17, 46.60it/s]"
     ]
    },
    {
     "name": "stdout",
     "output_type": "stream",
     "text": [
      "------------------------------------------------------------\n",
      "Epoch 120, batch 799:\n",
      "Average original gradient norm: 0.388478868547827 (over last 800 batches)\n",
      "Average clipped gradient norm: 0.386326776240021 (over last 800 batches)\n",
      "Running average global loss: 0.4572882359102368 (over last 800 batches)\n",
      "Running average activity prediction loss: 0.2976265246793628 (Cross Entropy over last 800 batches)\n",
      "Running average time till next event prediction loss: 0.1596617118548602 (MAE over last 800 batches)\n",
      "------------------------------------------------------------\n"
     ]
    },
    {
     "name": "stderr",
     "output_type": "stream",
     "text": [
      "Batch calculation at epoch 120.: 1606it [00:34, 46.04it/s]"
     ]
    },
    {
     "name": "stdout",
     "output_type": "stream",
     "text": [
      "------------------------------------------------------------\n",
      "Epoch 120, batch 1599:\n",
      "Average original gradient norm: 0.39186418063938616 (over last 800 batches)\n",
      "Average clipped gradient norm: 0.39186418063938616 (over last 800 batches)\n",
      "Running average global loss: 0.4569211586564779 (over last 800 batches)\n",
      "Running average activity prediction loss: 0.2975821295008063 (Cross Entropy over last 800 batches)\n",
      "Running average time till next event prediction loss: 0.15933902942575515 (MAE over last 800 batches)\n",
      "------------------------------------------------------------\n"
     ]
    },
    {
     "name": "stderr",
     "output_type": "stream",
     "text": [
      "Batch calculation at epoch 120.: 2406it [00:51, 46.76it/s]"
     ]
    },
    {
     "name": "stdout",
     "output_type": "stream",
     "text": [
      "------------------------------------------------------------\n",
      "Epoch 120, batch 2399:\n",
      "Average original gradient norm: 0.38326370988041164 (over last 800 batches)\n",
      "Average clipped gradient norm: 0.38326370988041164 (over last 800 batches)\n",
      "Running average global loss: 0.45681036725640295 (over last 800 batches)\n",
      "Running average activity prediction loss: 0.29766761425882576 (Cross Entropy over last 800 batches)\n",
      "Running average time till next event prediction loss: 0.15914275299757719 (MAE over last 800 batches)\n",
      "------------------------------------------------------------\n"
     ]
    },
    {
     "name": "stderr",
     "output_type": "stream",
     "text": [
      "Batch calculation at epoch 120.: 3206it [01:09, 46.51it/s]"
     ]
    },
    {
     "name": "stdout",
     "output_type": "stream",
     "text": [
      "------------------------------------------------------------\n",
      "Epoch 120, batch 3199:\n",
      "Average original gradient norm: 0.3822858552634716 (over last 800 batches)\n",
      "Average clipped gradient norm: 0.3822858552634716 (over last 800 batches)\n",
      "Running average global loss: 0.45711435057222843 (over last 800 batches)\n",
      "Running average activity prediction loss: 0.2977167666330934 (Cross Entropy over last 800 batches)\n",
      "Running average time till next event prediction loss: 0.15939758359454573 (MAE over last 800 batches)\n",
      "------------------------------------------------------------\n"
     ]
    },
    {
     "name": "stderr",
     "output_type": "stream",
     "text": [
      "Batch calculation at epoch 120.: 4006it [01:26, 46.94it/s]"
     ]
    },
    {
     "name": "stdout",
     "output_type": "stream",
     "text": [
      "------------------------------------------------------------\n",
      "Epoch 120, batch 3999:\n",
      "Average original gradient norm: 0.39558486625552175 (over last 800 batches)\n",
      "Average clipped gradient norm: 0.3925375135242939 (over last 800 batches)\n",
      "Running average global loss: 0.4576656476780772 (over last 800 batches)\n",
      "Running average activity prediction loss: 0.2973547825962305 (Cross Entropy over last 800 batches)\n",
      "Running average time till next event prediction loss: 0.16031086511909962 (MAE over last 800 batches)\n",
      "------------------------------------------------------------\n"
     ]
    },
    {
     "name": "stderr",
     "output_type": "stream",
     "text": [
      "Batch calculation at epoch 120.: 4798it [01:43, 46.41it/s]\n"
     ]
    },
    {
     "name": "stdout",
     "output_type": "stream",
     "text": [
      "=======================================\n",
      "End of epoch 120\n",
      "=======================================\n",
      "Running average global loss: 0.456744396686554 (over last 800 batches)\n",
      "Running average activity prediction loss: 0.2974289169535041 (Cross Entropy over last 800 batches)\n",
      "Running average time till next event prediction loss: 0.1593154798820615 (MAE over last 800 batches)\n"
     ]
    },
    {
     "name": "stderr",
     "output_type": "stream",
     "text": [
      "Validation batch calculation: 72it [00:42,  1.71it/s]\n"
     ]
    },
    {
     "name": "stdout",
     "output_type": "stream",
     "text": [
      "Avg MAE TTNE prediction validation set: 0.2062310129404068 (standardized) ; 763.781640625 (minutes)'\n",
      "Avg 1-(normalized) DL distance acitivty suffix prediction validation set: 0.27571791410446167\n",
      "Percentage of suffixes predicted to END: too early - 0.02339297050451545 ; right moment - 0.09903274469784364 ; too late - 0.8775742847976409\n",
      "Too early instances - avg amount of events too early: 8.03735065460205\n",
      "Too late instances - avg amount of events too late: 44.867340087890625\n",
      "Avg absolute amount of events predicted too early / too late: 39.562442779541016\n",
      "Avg MAE RRT prediction validation set:  12018.910416666668 (minutes)'\n",
      " \n",
      "------------------------------------\n",
      "EPOCH 121:\n",
      "____________________________________\n"
     ]
    },
    {
     "name": "stderr",
     "output_type": "stream",
     "text": [
      "Batch calculation at epoch 121.: 805it [00:17, 47.04it/s]"
     ]
    },
    {
     "name": "stdout",
     "output_type": "stream",
     "text": [
      "------------------------------------------------------------\n",
      "Epoch 121, batch 799:\n",
      "Average original gradient norm: 0.38794852191582324 (over last 800 batches)\n",
      "Average clipped gradient norm: 0.38486023316159845 (over last 800 batches)\n",
      "Running average global loss: 0.4571683881804347 (over last 800 batches)\n",
      "Running average activity prediction loss: 0.297488071359694 (Cross Entropy over last 800 batches)\n",
      "Running average time till next event prediction loss: 0.1596803165692836 (MAE over last 800 batches)\n",
      "------------------------------------------------------------\n"
     ]
    },
    {
     "name": "stderr",
     "output_type": "stream",
     "text": [
      "Batch calculation at epoch 121.: 1605it [00:34, 46.72it/s]"
     ]
    },
    {
     "name": "stdout",
     "output_type": "stream",
     "text": [
      "------------------------------------------------------------\n",
      "Epoch 121, batch 1599:\n",
      "Average original gradient norm: 0.39007453989237545 (over last 800 batches)\n",
      "Average clipped gradient norm: 0.39007453989237545 (over last 800 batches)\n",
      "Running average global loss: 0.4575901423022151 (over last 800 batches)\n",
      "Running average activity prediction loss: 0.2979609340801835 (Cross Entropy over last 800 batches)\n",
      "Running average time till next event prediction loss: 0.1596292079705745 (MAE over last 800 batches)\n",
      "------------------------------------------------------------\n"
     ]
    },
    {
     "name": "stderr",
     "output_type": "stream",
     "text": [
      "Batch calculation at epoch 121.: 2408it [00:51, 46.79it/s]"
     ]
    },
    {
     "name": "stdout",
     "output_type": "stream",
     "text": [
      "------------------------------------------------------------\n",
      "Epoch 121, batch 2399:\n",
      "Average original gradient norm: 0.39382887359708546 (over last 800 batches)\n",
      "Average clipped gradient norm: 0.39382887359708546 (over last 800 batches)\n",
      "Running average global loss: 0.45641470573842524 (over last 800 batches)\n",
      "Running average activity prediction loss: 0.29706415873020886 (Cross Entropy over last 800 batches)\n",
      "Running average time till next event prediction loss: 0.15935054695233702 (MAE over last 800 batches)\n",
      "------------------------------------------------------------\n"
     ]
    },
    {
     "name": "stderr",
     "output_type": "stream",
     "text": [
      "Batch calculation at epoch 121.: 3208it [01:09, 46.42it/s]"
     ]
    },
    {
     "name": "stdout",
     "output_type": "stream",
     "text": [
      "------------------------------------------------------------\n",
      "Epoch 121, batch 3199:\n",
      "Average original gradient norm: 0.39142600240185854 (over last 800 batches)\n",
      "Average clipped gradient norm: 0.39142600240185854 (over last 800 batches)\n",
      "Running average global loss: 0.45721020840108395 (over last 800 batches)\n",
      "Running average activity prediction loss: 0.2976911048218608 (Cross Entropy over last 800 batches)\n",
      "Running average time till next event prediction loss: 0.15951910409145056 (MAE over last 800 batches)\n",
      "------------------------------------------------------------\n"
     ]
    },
    {
     "name": "stderr",
     "output_type": "stream",
     "text": [
      "Batch calculation at epoch 121.: 4009it [01:26, 46.37it/s]"
     ]
    },
    {
     "name": "stdout",
     "output_type": "stream",
     "text": [
      "------------------------------------------------------------\n",
      "Epoch 121, batch 3999:\n",
      "Average original gradient norm: 0.3913870834186673 (over last 800 batches)\n",
      "Average clipped gradient norm: 0.3898289056494832 (over last 800 batches)\n",
      "Running average global loss: 0.4569380336254835 (over last 800 batches)\n",
      "Running average activity prediction loss: 0.2977144470438361 (Cross Entropy over last 800 batches)\n",
      "Running average time till next event prediction loss: 0.159223586441949 (MAE over last 800 batches)\n",
      "------------------------------------------------------------\n"
     ]
    },
    {
     "name": "stderr",
     "output_type": "stream",
     "text": [
      "Batch calculation at epoch 121.: 4798it [01:43, 46.52it/s]\n"
     ]
    },
    {
     "name": "stdout",
     "output_type": "stream",
     "text": [
      "=======================================\n",
      "End of epoch 121\n",
      "=======================================\n",
      "Running average global loss: 0.4570958356931806 (over last 800 batches)\n",
      "Running average activity prediction loss: 0.2974471668899059 (Cross Entropy over last 800 batches)\n",
      "Running average time till next event prediction loss: 0.159648668859154 (MAE over last 800 batches)\n"
     ]
    },
    {
     "name": "stderr",
     "output_type": "stream",
     "text": [
      "Validation batch calculation: 72it [00:41,  1.73it/s]\n"
     ]
    },
    {
     "name": "stdout",
     "output_type": "stream",
     "text": [
      "Avg MAE TTNE prediction validation set: 0.2062428742647171 (standardized) ; 763.8194661458333 (minutes)'\n",
      "Avg 1-(normalized) DL distance acitivty suffix prediction validation set: 0.27340996265411377\n",
      "Percentage of suffixes predicted to END: too early - 0.023119927370526358 ; right moment - 0.09890987528754855 ; too late - 0.877970197341925\n",
      "Too early instances - avg amount of events too early: 8.061116218566895\n",
      "Too late instances - avg amount of events too late: 45.77277374267578\n",
      "Avg absolute amount of events predicted too early / too late: 40.37350082397461\n",
      "Avg MAE RRT prediction validation set:  12005.067708333334 (minutes)'\n",
      " \n",
      "------------------------------------\n",
      "EPOCH 122:\n",
      "____________________________________\n"
     ]
    },
    {
     "name": "stderr",
     "output_type": "stream",
     "text": [
      "Batch calculation at epoch 122.: 808it [00:17, 47.08it/s]"
     ]
    },
    {
     "name": "stdout",
     "output_type": "stream",
     "text": [
      "------------------------------------------------------------\n",
      "Epoch 122, batch 799:\n",
      "Average original gradient norm: 0.3919061725772917 (over last 800 batches)\n",
      "Average clipped gradient norm: 0.3906177560426295 (over last 800 batches)\n",
      "Running average global loss: 0.4569052254781127 (over last 800 batches)\n",
      "Running average activity prediction loss: 0.29703712604939936 (Cross Entropy over last 800 batches)\n",
      "Running average time till next event prediction loss: 0.1598680989537388 (MAE over last 800 batches)\n",
      "------------------------------------------------------------\n"
     ]
    },
    {
     "name": "stderr",
     "output_type": "stream",
     "text": [
      "Batch calculation at epoch 122.: 1606it [00:34, 46.43it/s]"
     ]
    },
    {
     "name": "stdout",
     "output_type": "stream",
     "text": [
      "------------------------------------------------------------\n",
      "Epoch 122, batch 1599:\n",
      "Average original gradient norm: 0.3861325960047543 (over last 800 batches)\n",
      "Average clipped gradient norm: 0.3861325960047543 (over last 800 batches)\n",
      "Running average global loss: 0.4559847069531679 (over last 800 batches)\n",
      "Running average activity prediction loss: 0.29706165663897993 (Cross Entropy over last 800 batches)\n",
      "Running average time till next event prediction loss: 0.15892305053770542 (MAE over last 800 batches)\n",
      "------------------------------------------------------------\n"
     ]
    },
    {
     "name": "stderr",
     "output_type": "stream",
     "text": [
      "Batch calculation at epoch 122.: 2406it [00:51, 46.54it/s]"
     ]
    },
    {
     "name": "stdout",
     "output_type": "stream",
     "text": [
      "------------------------------------------------------------\n",
      "Epoch 122, batch 2399:\n",
      "Average original gradient norm: 0.39114138577133417 (over last 800 batches)\n",
      "Average clipped gradient norm: 0.39081984136253595 (over last 800 batches)\n",
      "Running average global loss: 0.45736904360353947 (over last 800 batches)\n",
      "Running average activity prediction loss: 0.29817381378263236 (Cross Entropy over last 800 batches)\n",
      "Running average time till next event prediction loss: 0.15919522994197904 (MAE over last 800 batches)\n",
      "------------------------------------------------------------\n"
     ]
    },
    {
     "name": "stderr",
     "output_type": "stream",
     "text": [
      "Batch calculation at epoch 122.: 3202it [01:08, 46.71it/s]"
     ]
    },
    {
     "name": "stdout",
     "output_type": "stream",
     "text": [
      "------------------------------------------------------------\n",
      "Epoch 122, batch 3199:\n",
      "Average original gradient norm: 0.3876084040850401 (over last 800 batches)\n",
      "Average clipped gradient norm: 0.3875462915748358 (over last 800 batches)\n",
      "Running average global loss: 0.457019518725574 (over last 800 batches)\n",
      "Running average activity prediction loss: 0.2974442956969142 (Cross Entropy over last 800 batches)\n",
      "Running average time till next event prediction loss: 0.1595752229169011 (MAE over last 800 batches)\n",
      "------------------------------------------------------------\n"
     ]
    },
    {
     "name": "stderr",
     "output_type": "stream",
     "text": [
      "Batch calculation at epoch 122.: 4007it [01:26, 46.47it/s]"
     ]
    },
    {
     "name": "stdout",
     "output_type": "stream",
     "text": [
      "------------------------------------------------------------\n",
      "Epoch 122, batch 3999:\n",
      "Average original gradient norm: 0.40338147681206465 (over last 800 batches)\n",
      "Average clipped gradient norm: 0.393058366291225 (over last 800 batches)\n",
      "Running average global loss: 0.457625803463161 (over last 800 batches)\n",
      "Running average activity prediction loss: 0.2981640536338091 (Cross Entropy over last 800 batches)\n",
      "Running average time till next event prediction loss: 0.15946174983866512 (MAE over last 800 batches)\n",
      "------------------------------------------------------------\n"
     ]
    },
    {
     "name": "stderr",
     "output_type": "stream",
     "text": [
      "Batch calculation at epoch 122.: 4798it [01:43, 46.45it/s]\n"
     ]
    },
    {
     "name": "stdout",
     "output_type": "stream",
     "text": [
      "=======================================\n",
      "End of epoch 122\n",
      "=======================================\n",
      "Running average global loss: 0.45740829065442085 (over last 800 batches)\n",
      "Running average activity prediction loss: 0.2974073237925768 (Cross Entropy over last 800 batches)\n",
      "Running average time till next event prediction loss: 0.16000096637755631 (MAE over last 800 batches)\n"
     ]
    },
    {
     "name": "stderr",
     "output_type": "stream",
     "text": [
      "Validation batch calculation: 72it [00:41,  1.72it/s]\n"
     ]
    },
    {
     "name": "stdout",
     "output_type": "stream",
     "text": [
      "Avg MAE TTNE prediction validation set: 0.20621950924396515 (standardized) ; 763.7417317708333 (minutes)'\n",
      "Avg 1-(normalized) DL distance acitivty suffix prediction validation set: 0.2741672992706299\n",
      "Percentage of suffixes predicted to END: too early - 0.02331788364266845 ; right moment - 0.09923070096998574 ; too late - 0.8774514153873458\n",
      "Too early instances - avg amount of events too early: 8.055912971496582\n",
      "Too late instances - avg amount of events too late: 45.46681213378906\n",
      "Avg absolute amount of events predicted too early / too late: 40.082767486572266\n",
      "Avg MAE RRT prediction validation set:  12012.271875 (minutes)'\n",
      " \n",
      "------------------------------------\n",
      "EPOCH 123:\n",
      "____________________________________\n"
     ]
    },
    {
     "name": "stderr",
     "output_type": "stream",
     "text": [
      "Batch calculation at epoch 123.: 806it [00:17, 47.01it/s]"
     ]
    },
    {
     "name": "stdout",
     "output_type": "stream",
     "text": [
      "------------------------------------------------------------\n",
      "Epoch 123, batch 799:\n",
      "Average original gradient norm: 0.38813729813322423 (over last 800 batches)\n",
      "Average clipped gradient norm: 0.38680809861049054 (over last 800 batches)\n",
      "Running average global loss: 0.4571838278695941 (over last 800 batches)\n",
      "Running average activity prediction loss: 0.297671960555017 (Cross Entropy over last 800 batches)\n",
      "Running average time till next event prediction loss: 0.15951186726801098 (MAE over last 800 batches)\n",
      "------------------------------------------------------------\n"
     ]
    },
    {
     "name": "stderr",
     "output_type": "stream",
     "text": [
      "Batch calculation at epoch 123.: 1606it [00:34, 46.22it/s]"
     ]
    },
    {
     "name": "stdout",
     "output_type": "stream",
     "text": [
      "------------------------------------------------------------\n",
      "Epoch 123, batch 1599:\n",
      "Average original gradient norm: 0.39899886021390557 (over last 800 batches)\n",
      "Average clipped gradient norm: 0.39586737463250754 (over last 800 batches)\n",
      "Running average global loss: 0.45774155758321283 (over last 800 batches)\n",
      "Running average activity prediction loss: 0.2980712615698576 (Cross Entropy over last 800 batches)\n",
      "Running average time till next event prediction loss: 0.15967029630206525 (MAE over last 800 batches)\n",
      "------------------------------------------------------------\n"
     ]
    },
    {
     "name": "stderr",
     "output_type": "stream",
     "text": [
      "Batch calculation at epoch 123.: 2409it [00:51, 46.76it/s]"
     ]
    },
    {
     "name": "stdout",
     "output_type": "stream",
     "text": [
      "------------------------------------------------------------\n",
      "Epoch 123, batch 2399:\n",
      "Average original gradient norm: 0.3837678190879524 (over last 800 batches)\n",
      "Average clipped gradient norm: 0.38319547144696114 (over last 800 batches)\n",
      "Running average global loss: 0.45685197796672583 (over last 800 batches)\n",
      "Running average activity prediction loss: 0.29711509045213463 (Cross Entropy over last 800 batches)\n",
      "Running average time till next event prediction loss: 0.159736886927858 (MAE over last 800 batches)\n",
      "------------------------------------------------------------\n"
     ]
    },
    {
     "name": "stderr",
     "output_type": "stream",
     "text": [
      "Batch calculation at epoch 123.: 3209it [01:08, 46.23it/s]"
     ]
    },
    {
     "name": "stdout",
     "output_type": "stream",
     "text": [
      "------------------------------------------------------------\n",
      "Epoch 123, batch 3199:\n",
      "Average original gradient norm: 0.393825151566416 (over last 800 batches)\n",
      "Average clipped gradient norm: 0.39275459611788394 (over last 800 batches)\n",
      "Running average global loss: 0.4579651723429561 (over last 800 batches)\n",
      "Running average activity prediction loss: 0.2978898825496435 (Cross Entropy over last 800 batches)\n",
      "Running average time till next event prediction loss: 0.16007528987713157 (MAE over last 800 batches)\n",
      "------------------------------------------------------------\n"
     ]
    },
    {
     "name": "stderr",
     "output_type": "stream",
     "text": [
      "Batch calculation at epoch 123.: 4006it [01:26, 47.17it/s]"
     ]
    },
    {
     "name": "stdout",
     "output_type": "stream",
     "text": [
      "------------------------------------------------------------\n",
      "Epoch 123, batch 3999:\n",
      "Average original gradient norm: 0.3874850296601653 (over last 800 batches)\n",
      "Average clipped gradient norm: 0.3874850296601653 (over last 800 batches)\n",
      "Running average global loss: 0.45567980643361805 (over last 800 batches)\n",
      "Running average activity prediction loss: 0.2970211931690574 (Cross Entropy over last 800 batches)\n",
      "Running average time till next event prediction loss: 0.15865861325524747 (MAE over last 800 batches)\n",
      "------------------------------------------------------------\n"
     ]
    },
    {
     "name": "stderr",
     "output_type": "stream",
     "text": [
      "Batch calculation at epoch 123.: 4798it [01:43, 46.47it/s]\n"
     ]
    },
    {
     "name": "stdout",
     "output_type": "stream",
     "text": [
      "=======================================\n",
      "End of epoch 123\n",
      "=======================================\n",
      "Running average global loss: 0.4565902981162071 (over last 800 batches)\n",
      "Running average activity prediction loss: 0.29732608519494536 (Cross Entropy over last 800 batches)\n",
      "Running average time till next event prediction loss: 0.15926421267911792 (MAE over last 800 batches)\n"
     ]
    },
    {
     "name": "stderr",
     "output_type": "stream",
     "text": [
      "Validation batch calculation: 72it [00:41,  1.75it/s]\n"
     ]
    },
    {
     "name": "stdout",
     "output_type": "stream",
     "text": [
      "Avg MAE TTNE prediction validation set: 0.2062351405620575 (standardized) ; 763.7867838541666 (minutes)'\n",
      "Avg 1-(normalized) DL distance acitivty suffix prediction validation set: 0.27205222845077515\n",
      "Percentage of suffixes predicted to END: too early - 0.021966320129422446 ; right moment - 0.098773353720554 ; too late - 0.8792603261500236\n",
      "Too early instances - avg amount of events too early: 8.016469955444336\n",
      "Too late instances - avg amount of events too late: 45.826316833496094\n",
      "Avg absolute amount of events predicted too early / too late: 40.46935272216797\n",
      "Avg MAE RRT prediction validation set:  12004.265625 (minutes)'\n",
      " \n",
      "------------------------------------\n",
      "EPOCH 124:\n",
      "____________________________________\n"
     ]
    },
    {
     "name": "stderr",
     "output_type": "stream",
     "text": [
      "Batch calculation at epoch 124.: 808it [00:17, 46.84it/s]"
     ]
    },
    {
     "name": "stdout",
     "output_type": "stream",
     "text": [
      "------------------------------------------------------------\n",
      "Epoch 124, batch 799:\n",
      "Average original gradient norm: 0.42001821134239437 (over last 800 batches)\n",
      "Average clipped gradient norm: 0.39781269628554583 (over last 800 batches)\n",
      "Running average global loss: 0.4571459520235658 (over last 800 batches)\n",
      "Running average activity prediction loss: 0.29740906253457067 (Cross Entropy over last 800 batches)\n",
      "Running average time till next event prediction loss: 0.15973688998259605 (MAE over last 800 batches)\n",
      "------------------------------------------------------------\n"
     ]
    },
    {
     "name": "stderr",
     "output_type": "stream",
     "text": [
      "Batch calculation at epoch 124.: 1608it [00:34, 46.56it/s]"
     ]
    },
    {
     "name": "stdout",
     "output_type": "stream",
     "text": [
      "------------------------------------------------------------\n",
      "Epoch 124, batch 1599:\n",
      "Average original gradient norm: 0.3834409254975617 (over last 800 batches)\n",
      "Average clipped gradient norm: 0.3834409254975617 (over last 800 batches)\n",
      "Running average global loss: 0.45633250012993815 (over last 800 batches)\n",
      "Running average activity prediction loss: 0.2975030352175236 (Cross Entropy over last 800 batches)\n",
      "Running average time till next event prediction loss: 0.15882946556434036 (MAE over last 800 batches)\n",
      "------------------------------------------------------------\n"
     ]
    },
    {
     "name": "stderr",
     "output_type": "stream",
     "text": [
      "Batch calculation at epoch 124.: 2406it [00:51, 46.40it/s]"
     ]
    },
    {
     "name": "stdout",
     "output_type": "stream",
     "text": [
      "------------------------------------------------------------\n",
      "Epoch 124, batch 2399:\n",
      "Average original gradient norm: 0.4052073523961008 (over last 800 batches)\n",
      "Average clipped gradient norm: 0.3905006184242666 (over last 800 batches)\n",
      "Running average global loss: 0.45599277414381506 (over last 800 batches)\n",
      "Running average activity prediction loss: 0.2970483735203743 (Cross Entropy over last 800 batches)\n",
      "Running average time till next event prediction loss: 0.15894440077245237 (MAE over last 800 batches)\n",
      "------------------------------------------------------------\n"
     ]
    },
    {
     "name": "stderr",
     "output_type": "stream",
     "text": [
      "Batch calculation at epoch 124.: 3206it [01:08, 46.46it/s]"
     ]
    },
    {
     "name": "stdout",
     "output_type": "stream",
     "text": [
      "------------------------------------------------------------\n",
      "Epoch 124, batch 3199:\n",
      "Average original gradient norm: 0.399828936047852 (over last 800 batches)\n",
      "Average clipped gradient norm: 0.399828936047852 (over last 800 batches)\n",
      "Running average global loss: 0.45855285119265315 (over last 800 batches)\n",
      "Running average activity prediction loss: 0.29816281333565714 (Cross Entropy over last 800 batches)\n",
      "Running average time till next event prediction loss: 0.1603900380525738 (MAE over last 800 batches)\n",
      "------------------------------------------------------------\n"
     ]
    },
    {
     "name": "stderr",
     "output_type": "stream",
     "text": [
      "Batch calculation at epoch 124.: 4006it [01:26, 53.70it/s]"
     ]
    },
    {
     "name": "stdout",
     "output_type": "stream",
     "text": [
      "------------------------------------------------------------\n",
      "Epoch 124, batch 3999:\n",
      "Average original gradient norm: 0.3775134768523276 (over last 800 batches)\n",
      "Average clipped gradient norm: 0.3775134768523276 (over last 800 batches)\n",
      "Running average global loss: 0.45665941540151833 (over last 800 batches)\n",
      "Running average activity prediction loss: 0.2972772654518485 (Cross Entropy over last 800 batches)\n",
      "Running average time till next event prediction loss: 0.15938214998692274 (MAE over last 800 batches)\n",
      "------------------------------------------------------------\n"
     ]
    },
    {
     "name": "stderr",
     "output_type": "stream",
     "text": [
      "Batch calculation at epoch 124.: 4798it [01:43, 46.47it/s]\n"
     ]
    },
    {
     "name": "stdout",
     "output_type": "stream",
     "text": [
      "=======================================\n",
      "End of epoch 124\n",
      "=======================================\n",
      "Running average global loss: 0.4575843897089362 (over last 800 batches)\n",
      "Running average activity prediction loss: 0.2977593543380499 (Cross Entropy over last 800 batches)\n",
      "Running average time till next event prediction loss: 0.15982503519393504 (MAE over last 800 batches)\n"
     ]
    },
    {
     "name": "stderr",
     "output_type": "stream",
     "text": [
      "Validation batch calculation: 72it [00:41,  1.73it/s]\n"
     ]
    },
    {
     "name": "stdout",
     "output_type": "stream",
     "text": [
      "Avg MAE TTNE prediction validation set: 0.2062232345342636 (standardized) ; 763.7495442708333 (minutes)'\n",
      "Avg 1-(normalized) DL distance acitivty suffix prediction validation set: 0.2725147008895874\n",
      "Percentage of suffixes predicted to END: too early - 0.021836624640777628 ; right moment - 0.09859587568346109 ; too late - 0.8795674996757613\n",
      "Too early instances - avg amount of events too early: 8.011253356933594\n",
      "Too late instances - avg amount of events too late: 45.558143615722656\n",
      "Avg absolute amount of events predicted too early / too late: 40.246402740478516\n",
      "Avg MAE RRT prediction validation set:  12013.747916666667 (minutes)'\n",
      " \n",
      "------------------------------------\n",
      "EPOCH 125:\n",
      "____________________________________\n"
     ]
    },
    {
     "name": "stderr",
     "output_type": "stream",
     "text": [
      "Batch calculation at epoch 125.: 813it [00:11, 73.77it/s]"
     ]
    },
    {
     "name": "stdout",
     "output_type": "stream",
     "text": [
      "------------------------------------------------------------\n",
      "Epoch 125, batch 799:\n",
      "Average original gradient norm: 0.3933277675695717 (over last 800 batches)\n",
      "Average clipped gradient norm: 0.3930995080061257 (over last 800 batches)\n",
      "Running average global loss: 0.4562637135758996 (over last 800 batches)\n",
      "Running average activity prediction loss: 0.2971799276024103 (Cross Entropy over last 800 batches)\n",
      "Running average time till next event prediction loss: 0.1590837865881622 (MAE over last 800 batches)\n",
      "------------------------------------------------------------\n"
     ]
    },
    {
     "name": "stderr",
     "output_type": "stream",
     "text": [
      "Batch calculation at epoch 125.: 1612it [00:22, 77.88it/s]"
     ]
    },
    {
     "name": "stdout",
     "output_type": "stream",
     "text": [
      "------------------------------------------------------------\n",
      "Epoch 125, batch 1599:\n",
      "Average original gradient norm: 0.39842034397646786 (over last 800 batches)\n",
      "Average clipped gradient norm: 0.39094720674678685 (over last 800 batches)\n",
      "Running average global loss: 0.4570717937871814 (over last 800 batches)\n",
      "Running average activity prediction loss: 0.2973709544539452 (Cross Entropy over last 800 batches)\n",
      "Running average time till next event prediction loss: 0.15970083927735687 (MAE over last 800 batches)\n",
      "------------------------------------------------------------\n"
     ]
    },
    {
     "name": "stderr",
     "output_type": "stream",
     "text": [
      "Batch calculation at epoch 125.: 2409it [00:31, 74.21it/s]"
     ]
    },
    {
     "name": "stdout",
     "output_type": "stream",
     "text": [
      "------------------------------------------------------------\n",
      "Epoch 125, batch 2399:\n",
      "Average original gradient norm: 0.39516972748562695 (over last 800 batches)\n",
      "Average clipped gradient norm: 0.39516972748562695 (over last 800 batches)\n",
      "Running average global loss: 0.4575907338410616 (over last 800 batches)\n",
      "Running average activity prediction loss: 0.29775392953306434 (Cross Entropy over last 800 batches)\n",
      "Running average time till next event prediction loss: 0.1598368042241782 (MAE over last 800 batches)\n",
      "------------------------------------------------------------\n"
     ]
    },
    {
     "name": "stderr",
     "output_type": "stream",
     "text": [
      "Batch calculation at epoch 125.: 3208it [00:45, 55.65it/s]"
     ]
    },
    {
     "name": "stdout",
     "output_type": "stream",
     "text": [
      "------------------------------------------------------------\n",
      "Epoch 125, batch 3199:\n",
      "Average original gradient norm: 0.39301872957497835 (over last 800 batches)\n",
      "Average clipped gradient norm: 0.39301872957497835 (over last 800 batches)\n",
      "Running average global loss: 0.45782278340309857 (over last 800 batches)\n",
      "Running average activity prediction loss: 0.2980490871891379 (Cross Entropy over last 800 batches)\n",
      "Running average time till next event prediction loss: 0.15977369614876807 (MAE over last 800 batches)\n",
      "------------------------------------------------------------\n"
     ]
    },
    {
     "name": "stderr",
     "output_type": "stream",
     "text": [
      "Batch calculation at epoch 125.: 4010it [01:00, 54.73it/s]"
     ]
    },
    {
     "name": "stdout",
     "output_type": "stream",
     "text": [
      "------------------------------------------------------------\n",
      "Epoch 125, batch 3999:\n",
      "Average original gradient norm: 0.38599826673045756 (over last 800 batches)\n",
      "Average clipped gradient norm: 0.3853173379041255 (over last 800 batches)\n",
      "Running average global loss: 0.4569016373902559 (over last 800 batches)\n",
      "Running average activity prediction loss: 0.29764849442988633 (Cross Entropy over last 800 batches)\n",
      "Running average time till next event prediction loss: 0.159253143183887 (MAE over last 800 batches)\n",
      "------------------------------------------------------------\n"
     ]
    },
    {
     "name": "stderr",
     "output_type": "stream",
     "text": [
      "Batch calculation at epoch 125.: 4798it [01:14, 64.10it/s]\n"
     ]
    },
    {
     "name": "stdout",
     "output_type": "stream",
     "text": [
      "=======================================\n",
      "End of epoch 125\n",
      "=======================================\n",
      "Running average global loss: 0.4567667958512902 (over last 800 batches)\n",
      "Running average activity prediction loss: 0.29735000371932985 (Cross Entropy over last 800 batches)\n",
      "Running average time till next event prediction loss: 0.1594167922437191 (MAE over last 800 batches)\n"
     ]
    },
    {
     "name": "stderr",
     "output_type": "stream",
     "text": [
      "Validation batch calculation: 72it [00:35,  2.05it/s]\n"
     ]
    },
    {
     "name": "stdout",
     "output_type": "stream",
     "text": [
      "Avg MAE TTNE prediction validation set: 0.20620876550674438 (standardized) ; 763.6866536458333 (minutes)'\n",
      "Avg 1-(normalized) DL distance acitivty suffix prediction validation set: 0.27292224764823914\n",
      "Percentage of suffixes predicted to END: too early - 0.0225055803190509 ; right moment - 0.09885526666075073 ; too late - 0.8786391530201983\n",
      "Too early instances - avg amount of events too early: 8.032453536987305\n",
      "Too late instances - avg amount of events too late: 45.665470123291016\n",
      "Avg absolute amount of events predicted too early / too late: 40.30424499511719\n",
      "Avg MAE RRT prediction validation set:  12015.552083333334 (minutes)'\n",
      " \n",
      "------------------------------------\n",
      "EPOCH 126:\n",
      "____________________________________\n"
     ]
    },
    {
     "name": "stderr",
     "output_type": "stream",
     "text": [
      "Batch calculation at epoch 126.: 810it [00:14, 52.49it/s]"
     ]
    },
    {
     "name": "stdout",
     "output_type": "stream",
     "text": [
      "------------------------------------------------------------\n",
      "Epoch 126, batch 799:\n",
      "Average original gradient norm: 0.38993602519854903 (over last 800 batches)\n",
      "Average clipped gradient norm: 0.38993602519854903 (over last 800 batches)\n",
      "Running average global loss: 0.45606830436736345 (over last 800 batches)\n",
      "Running average activity prediction loss: 0.2973475404828787 (Cross Entropy over last 800 batches)\n",
      "Running average time till next event prediction loss: 0.15872076394967735 (MAE over last 800 batches)\n",
      "------------------------------------------------------------\n"
     ]
    },
    {
     "name": "stderr",
     "output_type": "stream",
     "text": [
      "Batch calculation at epoch 126.: 1607it [00:29, 57.57it/s]"
     ]
    },
    {
     "name": "stdout",
     "output_type": "stream",
     "text": [
      "------------------------------------------------------------\n",
      "Epoch 126, batch 1599:\n",
      "Average original gradient norm: 0.3846955402195454 (over last 800 batches)\n",
      "Average clipped gradient norm: 0.3846955402195454 (over last 800 batches)\n",
      "Running average global loss: 0.45614915326237676 (over last 800 batches)\n",
      "Running average activity prediction loss: 0.2968331652134657 (Cross Entropy over last 800 batches)\n",
      "Running average time till next event prediction loss: 0.15931598794646562 (MAE over last 800 batches)\n",
      "------------------------------------------------------------\n"
     ]
    },
    {
     "name": "stderr",
     "output_type": "stream",
     "text": [
      "Batch calculation at epoch 126.: 2406it [00:44, 54.36it/s]"
     ]
    },
    {
     "name": "stdout",
     "output_type": "stream",
     "text": [
      "------------------------------------------------------------\n",
      "Epoch 126, batch 2399:\n",
      "Average original gradient norm: 0.4160686638578773 (over last 800 batches)\n",
      "Average clipped gradient norm: 0.394621848128736 (over last 800 batches)\n",
      "Running average global loss: 0.4576337128505111 (over last 800 batches)\n",
      "Running average activity prediction loss: 0.2979287974908948 (Cross Entropy over last 800 batches)\n",
      "Running average time till next event prediction loss: 0.15970491478219628 (MAE over last 800 batches)\n",
      "------------------------------------------------------------\n"
     ]
    },
    {
     "name": "stderr",
     "output_type": "stream",
     "text": [
      "Batch calculation at epoch 126.: 3209it [00:58, 55.82it/s]"
     ]
    },
    {
     "name": "stdout",
     "output_type": "stream",
     "text": [
      "------------------------------------------------------------\n",
      "Epoch 126, batch 3199:\n",
      "Average original gradient norm: 0.3918656577169895 (over last 800 batches)\n",
      "Average clipped gradient norm: 0.39097672924399374 (over last 800 batches)\n",
      "Running average global loss: 0.45693256381899117 (over last 800 batches)\n",
      "Running average activity prediction loss: 0.29717195317149164 (Cross Entropy over last 800 batches)\n",
      "Running average time till next event prediction loss: 0.15976061108522116 (MAE over last 800 batches)\n",
      "------------------------------------------------------------\n"
     ]
    },
    {
     "name": "stderr",
     "output_type": "stream",
     "text": [
      "Batch calculation at epoch 126.: 4007it [01:13, 53.49it/s]"
     ]
    },
    {
     "name": "stdout",
     "output_type": "stream",
     "text": [
      "------------------------------------------------------------\n",
      "Epoch 126, batch 3999:\n",
      "Average original gradient norm: 0.3867956171929836 (over last 800 batches)\n",
      "Average clipped gradient norm: 0.3867956171929836 (over last 800 batches)\n",
      "Running average global loss: 0.45725403502583506 (over last 800 batches)\n",
      "Running average activity prediction loss: 0.29727910868823526 (Cross Entropy over last 800 batches)\n",
      "Running average time till next event prediction loss: 0.15997492625378074 (MAE over last 800 batches)\n",
      "------------------------------------------------------------\n"
     ]
    },
    {
     "name": "stderr",
     "output_type": "stream",
     "text": [
      "Batch calculation at epoch 126.: 4798it [01:27, 54.69it/s]\n"
     ]
    },
    {
     "name": "stdout",
     "output_type": "stream",
     "text": [
      "=======================================\n",
      "End of epoch 126\n",
      "=======================================\n",
      "Running average global loss: 0.4578747613355517 (over last 800 batches)\n",
      "Running average activity prediction loss: 0.29833399802446364 (Cross Entropy over last 800 batches)\n",
      "Running average time till next event prediction loss: 0.15954076354391872 (MAE over last 800 batches)\n"
     ]
    },
    {
     "name": "stderr",
     "output_type": "stream",
     "text": [
      "Validation batch calculation: 72it [00:35,  2.05it/s]\n"
     ]
    },
    {
     "name": "stdout",
     "output_type": "stream",
     "text": [
      "Avg MAE TTNE prediction validation set: 0.20621027052402496 (standardized) ; 763.6438802083334 (minutes)'\n",
      "Avg 1-(normalized) DL distance acitivty suffix prediction validation set: 0.27133384346961975\n",
      "Percentage of suffixes predicted to END: too early - 0.022143798166515356 ; right moment - 0.09879383195560319 ; too late - 0.8790623698778814\n",
      "Too early instances - avg amount of events too early: 8.084155082702637\n",
      "Too late instances - avg amount of events too late: 46.13898849487305\n",
      "Avg absolute amount of events predicted too early / too late: 40.73806381225586\n",
      "Avg MAE RRT prediction validation set:  12008.460416666667 (minutes)'\n",
      " \n",
      "------------------------------------\n",
      "EPOCH 127:\n",
      "____________________________________\n"
     ]
    },
    {
     "name": "stderr",
     "output_type": "stream",
     "text": [
      "Batch calculation at epoch 127.: 808it [00:17, 44.92it/s]"
     ]
    },
    {
     "name": "stdout",
     "output_type": "stream",
     "text": [
      "------------------------------------------------------------\n",
      "Epoch 127, batch 799:\n",
      "Average original gradient norm: 0.38214488452300427 (over last 800 batches)\n",
      "Average clipped gradient norm: 0.38214488452300427 (over last 800 batches)\n",
      "Running average global loss: 0.4563761541992426 (over last 800 batches)\n",
      "Running average activity prediction loss: 0.2972543024644256 (Cross Entropy over last 800 batches)\n",
      "Running average time till next event prediction loss: 0.1591218516230583 (MAE over last 800 batches)\n",
      "------------------------------------------------------------\n"
     ]
    },
    {
     "name": "stderr",
     "output_type": "stream",
     "text": [
      "Batch calculation at epoch 127.: 1605it [00:34, 46.24it/s]"
     ]
    },
    {
     "name": "stdout",
     "output_type": "stream",
     "text": [
      "------------------------------------------------------------\n",
      "Epoch 127, batch 1599:\n",
      "Average original gradient norm: 0.38670939579606056 (over last 800 batches)\n",
      "Average clipped gradient norm: 0.3848764714598656 (over last 800 batches)\n",
      "Running average global loss: 0.4572619258239865 (over last 800 batches)\n",
      "Running average activity prediction loss: 0.2973677185550332 (Cross Entropy over last 800 batches)\n",
      "Running average time till next event prediction loss: 0.15989420699886978 (MAE over last 800 batches)\n",
      "------------------------------------------------------------\n"
     ]
    },
    {
     "name": "stderr",
     "output_type": "stream",
     "text": [
      "Batch calculation at epoch 127.: 2405it [00:51, 46.24it/s]"
     ]
    },
    {
     "name": "stdout",
     "output_type": "stream",
     "text": [
      "------------------------------------------------------------\n",
      "Epoch 127, batch 2399:\n",
      "Average original gradient norm: 0.38338714331388474 (over last 800 batches)\n",
      "Average clipped gradient norm: 0.38215535700321196 (over last 800 batches)\n",
      "Running average global loss: 0.45661860730499026 (over last 800 batches)\n",
      "Running average activity prediction loss: 0.29787800144404175 (Cross Entropy over last 800 batches)\n",
      "Running average time till next event prediction loss: 0.15874060585163532 (MAE over last 800 batches)\n",
      "------------------------------------------------------------\n"
     ]
    },
    {
     "name": "stderr",
     "output_type": "stream",
     "text": [
      "Batch calculation at epoch 127.: 3206it [01:09, 47.07it/s]"
     ]
    },
    {
     "name": "stdout",
     "output_type": "stream",
     "text": [
      "------------------------------------------------------------\n",
      "Epoch 127, batch 3199:\n",
      "Average original gradient norm: 0.39793582061305643 (over last 800 batches)\n",
      "Average clipped gradient norm: 0.39793582061305643 (over last 800 batches)\n",
      "Running average global loss: 0.4570214391499758 (over last 800 batches)\n",
      "Running average activity prediction loss: 0.2967852839827538 (Cross Entropy over last 800 batches)\n",
      "Running average time till next event prediction loss: 0.16023615445010364 (MAE over last 800 batches)\n",
      "------------------------------------------------------------\n"
     ]
    },
    {
     "name": "stderr",
     "output_type": "stream",
     "text": [
      "Batch calculation at epoch 127.: 4006it [01:26, 46.39it/s]"
     ]
    },
    {
     "name": "stdout",
     "output_type": "stream",
     "text": [
      "------------------------------------------------------------\n",
      "Epoch 127, batch 3999:\n",
      "Average original gradient norm: 0.3963030103966594 (over last 800 batches)\n",
      "Average clipped gradient norm: 0.3954016135260463 (over last 800 batches)\n",
      "Running average global loss: 0.45716932162642476 (over last 800 batches)\n",
      "Running average activity prediction loss: 0.2979935127869248 (Cross Entropy over last 800 batches)\n",
      "Running average time till next event prediction loss: 0.15917580892331898 (MAE over last 800 batches)\n",
      "------------------------------------------------------------\n"
     ]
    },
    {
     "name": "stderr",
     "output_type": "stream",
     "text": [
      "Batch calculation at epoch 127.: 4798it [01:43, 46.28it/s]\n"
     ]
    },
    {
     "name": "stdout",
     "output_type": "stream",
     "text": [
      "=======================================\n",
      "End of epoch 127\n",
      "=======================================\n",
      "Running average global loss: 0.45737096533179283 (over last 800 batches)\n",
      "Running average activity prediction loss: 0.29768970131874084 (Cross Entropy over last 800 batches)\n",
      "Running average time till next event prediction loss: 0.1596812638733536 (MAE over last 800 batches)\n"
     ]
    },
    {
     "name": "stderr",
     "output_type": "stream",
     "text": [
      "Validation batch calculation: 72it [00:41,  1.73it/s]\n"
     ]
    },
    {
     "name": "stdout",
     "output_type": "stream",
     "text": [
      "Avg MAE TTNE prediction validation set: 0.20621730387210846 (standardized) ; 763.7189453125 (minutes)'\n",
      "Avg 1-(normalized) DL distance acitivty suffix prediction validation set: 0.2765061557292938\n",
      "Percentage of suffixes predicted to END: too early - 0.023891274224045543 ; right moment - 0.09923752704833547 ; too late - 0.876871198727619\n",
      "Too early instances - avg amount of events too early: 8.039142608642578\n",
      "Too late instances - avg amount of events too late: 44.78782272338867\n",
      "Avg absolute amount of events predicted too early / too late: 39.46521759033203\n",
      "Avg MAE RRT prediction validation set:  12026.198958333332 (minutes)'\n",
      "No improvements in validation loss for 24 consecutive epochs. Final epoch: 127\n",
      "cuda\n"
     ]
    },
    {
     "name": "stderr",
     "output_type": "stream",
     "text": [
      "/media/usr/SSD/yongmin/PPM/TRAIN_EVAL_ED_LSTM.py:57: FutureWarning: You are using `torch.load` with `weights_only=False` (the current default value), which uses the default pickle module implicitly. It is possible to construct malicious pickle data which will execute arbitrary code during unpickling (See https://github.com/pytorch/pytorch/blob/main/SECURITY.md#untrusted-models for more details). In a future release, the default value for `weights_only` will be flipped to `True`. This limits the functions that could be executed during unpickling. Arbitrary objects will no longer be allowed to be loaded via this mode unless they are explicitly allowlisted by the user via `torch.serialization.add_safe_globals`. We recommend you start setting `weights_only=True` for any use case where you don't have full control of the loaded file. Please open an issue on GitHub for any issues related to this experimental feature.\n",
      "  checkpoint = torch.load(path_to_checkpoint)\n",
      "Validation batch calculation: 150it [01:30,  1.66it/s]\n"
     ]
    },
    {
     "name": "stdout",
     "output_type": "stream",
     "text": [
      "Avg MAE TTNE prediction validation set: 0.20032106339931488 (standardized) ; 741.5716796875 (minutes)'\n",
      "Avg 1-(normalized) DL distance acitivty suffix prediction validation set: 0.2676844000816345\n",
      "Percentage of suffixes predicted to END: too early - 0.042975222850256414 ; right moment - 0.11154629587178497 ; too late - 0.8454784812779587\n",
      "Too early instances - avg amount of events too early: 9.45279312133789\n",
      "Too late instances - avg amount of events too late: 55.71609115600586\n",
      "Avg absolute amount of events predicted too early / too late: 47.51299285888672\n",
      "Avg MAE RRT prediction validation set:  12043.925 (minutes)'\n"
     ]
    }
   ],
   "source": [
    "from TRAIN_EVAL_ED_LSTM import train_eval\n",
    "\n",
    "train_eval(log_name='BPIC_17', tss_index=5)"
   ]
  },
  {
   "cell_type": "code",
   "execution_count": null,
   "metadata": {},
   "outputs": [],
   "source": []
  }
 ],
 "metadata": {
  "kernelspec": {
   "display_name": "NDE",
   "language": "python",
   "name": "python3"
  },
  "language_info": {
   "codemirror_mode": {
    "name": "ipython",
    "version": 3
   },
   "file_extension": ".py",
   "mimetype": "text/x-python",
   "name": "python",
   "nbconvert_exporter": "python",
   "pygments_lexer": "ipython3",
   "version": "3.12.5"
  }
 },
 "nbformat": 4,
 "nbformat_minor": 2
}
