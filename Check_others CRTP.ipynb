{
 "cells": [
  {
   "cell_type": "code",
   "execution_count": 1,
   "metadata": {},
   "outputs": [],
   "source": [
    "import warnings\n",
    "warnings.filterwarnings('ignore')\n",
    "from TRAIN_EVAL_CRTP_LSTM_ND import test\n",
    "\n",
    "miss = [0, 0.3, 0.5, 0.1]"
   ]
  },
  {
   "cell_type": "code",
   "execution_count": 2,
   "metadata": {},
   "outputs": [
    {
     "name": "stdout",
     "output_type": "stream",
     "text": [
      "0\n",
      "27\n",
      "device: cuda\n",
      "cuda\n"
     ]
    },
    {
     "name": "stderr",
     "output_type": "stream",
     "text": [
      "Validation batch calculation: 150it [05:50,  2.33s/it]\n"
     ]
    },
    {
     "name": "stdout",
     "output_type": "stream",
     "text": [
      "Avg 1-(normalized) DL distance acitivty suffix prediction validation set: 0.33003515005111694\n",
      "Percentage of suffixes predicted to END: too early - 0.03483734059902673 ; right moment - 0.11042958848841702 ; too late - 0.8547330709125562\n",
      "Too early instances - avg amount of events too early: 8.372814178466797\n",
      "Too late instances - avg amount of events too late: 41.03593063354492\n",
      "Avg absolute amount of events predicted too early / too late: 35.366451263427734\n",
      "Avg MAE TTNE prediction validation set: 0.266308069229126 (standardized) ; 986.9561848958333 (minutes)'\n",
      "Avg MAE RRT prediction validation set: 0.5314725637435913 (standardized) ; 8912.590625 (minutes)'\n",
      "Avg validation loss: 1.967111349105835\n",
      "BPIC_19\n",
      "41\n",
      "device: cuda\n",
      "cuda\n"
     ]
    },
    {
     "name": "stderr",
     "output_type": "stream",
     "text": [
      "Validation batch calculation: 123it [00:39,  3.11it/s]\n"
     ]
    },
    {
     "name": "stdout",
     "output_type": "stream",
     "text": [
      "Avg 1-(normalized) DL distance acitivty suffix prediction validation set: 0.8425371795892715\n",
      "Percentage of suffixes predicted to END: too early - 0.25309625017461934 ; right moment - 0.6472330319902613 ; too late - 0.09967071783511944\n",
      "Too early instances - avg amount of events too early: 1.6556487083435059\n",
      "Too late instances - avg amount of events too late: 2.304180860519409\n",
      "Avg absolute amount of events predicted too early / too late: 0.6486977934837341\n",
      "Avg MAE TTNE prediction validation set: 0.4710004925727844 (standardized) ; 17384.425 (minutes)'\n",
      "Avg MAE RRT prediction validation set: 0.5399301052093506 (standardized) ; 29436.347916666666 (minutes)'\n",
      "Avg validation loss: 1.582929253578186\n",
      "0.3\n",
      "27\n",
      "device: cuda\n",
      "cuda\n"
     ]
    },
    {
     "name": "stderr",
     "output_type": "stream",
     "text": [
      "Validation batch calculation: 150it [06:00,  2.41s/it]\n"
     ]
    },
    {
     "name": "stdout",
     "output_type": "stream",
     "text": [
      "Avg 1-(normalized) DL distance acitivty suffix prediction validation set: 0.26472771167755127\n",
      "Percentage of suffixes predicted to END: too early - 0.07476044825485817 ; right moment - 0.05908397246546722 ; too late - 0.8661555792796746\n",
      "Too early instances - avg amount of events too early: 12.38994312286377\n",
      "Too late instances - avg amount of events too late: 46.34398651123047\n",
      "Avg absolute amount of events predicted too early / too late: 41.067378997802734\n",
      "Avg MAE TTNE prediction validation set: 0.30937519669532776 (standardized) ; 1146.5658854166666 (minutes)'\n",
      "Avg MAE RRT prediction validation set: 0.5602752566337585 (standardized) ; 9386.636458333332 (minutes)'\n",
      "Avg validation loss: 2.514639377593994\n",
      "BPIC_19\n",
      "41\n",
      "device: cuda\n",
      "cuda\n"
     ]
    },
    {
     "name": "stderr",
     "output_type": "stream",
     "text": [
      "Validation batch calculation: 123it [00:35,  3.51it/s]\n"
     ]
    },
    {
     "name": "stdout",
     "output_type": "stream",
     "text": [
      "Avg 1-(normalized) DL distance acitivty suffix prediction validation set: 0.7652973532676697\n",
      "Percentage of suffixes predicted to END: too early - 0.21946955636711968 ; right moment - 0.49735975573250313 ; too late - 0.2831706879003772\n",
      "Too early instances - avg amount of events too early: 1.7498499155044556\n",
      "Too late instances - avg amount of events too late: 1.8781343698501587\n",
      "Avg absolute amount of events predicted too early / too late: 0.9158713817596436\n",
      "Avg MAE TTNE prediction validation set: 0.525078535079956 (standardized) ; 19380.425 (minutes)'\n",
      "Avg MAE RRT prediction validation set: 0.5837798714637756 (standardized) ; 31759.652083333334 (minutes)'\n",
      "Avg validation loss: 2.3980538845062256\n",
      "0.5\n",
      "27\n",
      "device: cuda\n",
      "cuda\n"
     ]
    },
    {
     "name": "stderr",
     "output_type": "stream",
     "text": [
      "Validation batch calculation: 150it [05:59,  2.40s/it]\n"
     ]
    },
    {
     "name": "stdout",
     "output_type": "stream",
     "text": [
      "Avg 1-(normalized) DL distance acitivty suffix prediction validation set: 0.2199556827545166\n",
      "Percentage of suffixes predicted to END: too early - 0.210117827365553 ; right moment - 0.03603264322345282 ; too late - 0.7538495294109941\n",
      "Too early instances - avg amount of events too early: 13.988139152526855\n",
      "Too late instances - avg amount of events too late: 49.985225677490234\n",
      "Avg absolute amount of events predicted too early / too late: 40.62049102783203\n",
      "Avg MAE TTNE prediction validation set: 0.3128480911254883 (standardized) ; 1159.43671875 (minutes)'\n",
      "Avg MAE RRT prediction validation set: 0.588860273361206 (standardized) ; 9833.371875 (minutes)'\n",
      "Avg validation loss: 3.1340858936309814\n",
      "BPIC_19\n",
      "41\n",
      "device: cuda\n",
      "cuda\n"
     ]
    },
    {
     "name": "stderr",
     "output_type": "stream",
     "text": [
      "Validation batch calculation: 123it [00:41,  2.95it/s]\n"
     ]
    },
    {
     "name": "stdout",
     "output_type": "stream",
     "text": [
      "Avg 1-(normalized) DL distance acitivty suffix prediction validation set: 0.7227224707603455\n",
      "Percentage of suffixes predicted to END: too early - 0.2006226426390469 ; right moment - 0.4242551238300505 ; too late - 0.3751222335309026\n",
      "Too early instances - avg amount of events too early: 1.8035013675689697\n",
      "Too late instances - avg amount of events too late: 1.958738088607788\n",
      "Avg absolute amount of events predicted too early / too late: 1.09658944606781\n",
      "Avg MAE TTNE prediction validation set: 0.5510844588279724 (standardized) ; 20340.289583333335 (minutes)'\n",
      "Avg MAE RRT prediction validation set: 0.6141247153282166 (standardized) ; 33394.54791666667 (minutes)'\n",
      "Avg validation loss: 2.910294771194458\n",
      "0.1\n",
      "27\n",
      "device: cuda\n",
      "cuda\n"
     ]
    },
    {
     "name": "stderr",
     "output_type": "stream",
     "text": [
      "Validation batch calculation: 150it [05:34,  2.23s/it]\n"
     ]
    },
    {
     "name": "stdout",
     "output_type": "stream",
     "text": [
      "Avg 1-(normalized) DL distance acitivty suffix prediction validation set: 0.3104786276817322\n",
      "Percentage of suffixes predicted to END: too early - 0.032469658962149844 ; right moment - 0.09181561556447757 ; too late - 0.8757147254733726\n",
      "Too early instances - avg amount of events too early: 8.525668144226074\n",
      "Too late instances - avg amount of events too late: 42.56980514526367\n",
      "Avg absolute amount of events predicted too early / too late: 37.55583190917969\n",
      "Avg MAE TTNE prediction validation set: 0.2886616289615631 (standardized) ; 1069.7999348958333 (minutes)'\n",
      "Avg MAE RRT prediction validation set: 0.5398470759391785 (standardized) ; 9052.505208333334 (minutes)'\n",
      "Avg validation loss: 2.121861457824707\n",
      "BPIC_19\n",
      "41\n",
      "device: cuda\n",
      "cuda\n"
     ]
    },
    {
     "name": "stderr",
     "output_type": "stream",
     "text": [
      "Validation batch calculation: 123it [00:30,  4.00it/s]\n"
     ]
    },
    {
     "name": "stdout",
     "output_type": "stream",
     "text": [
      "Avg 1-(normalized) DL distance acitivty suffix prediction validation set: 0.8157618343830109\n",
      "Percentage of suffixes predicted to END: too early - 0.2409946317028877 ; right moment - 0.5927837314654054 ; too late - 0.16622163683170688\n",
      "Too early instances - avg amount of events too early: 1.6887544393539429\n",
      "Too late instances - avg amount of events too late: 1.9643182754516602\n",
      "Avg absolute amount of events predicted too early / too late: 0.7334929704666138\n",
      "Avg MAE TTNE prediction validation set: 0.49073562026023865 (standardized) ; 18112.841666666667 (minutes)'\n",
      "Avg MAE RRT prediction validation set: 0.5542627573013306 (standardized) ; 30196.027083333334 (minutes)'\n",
      "Avg validation loss: 1.857224702835083\n"
     ]
    }
   ],
   "source": [
    "for rate in miss:\n",
    "    print(f\"{rate}\")\n",
    "    test(log_name='BPIC_17', tss_index=5, missingrate=rate)\n",
    "    print(\"BPIC_19\")\n",
    "    test(log_name='BPIC_19', tss_index=1, missingrate=rate)"
   ]
  },
  {
   "cell_type": "code",
   "execution_count": 2,
   "metadata": {},
   "outputs": [
    {
     "name": "stdout",
     "output_type": "stream",
     "text": [
      "0.7\n",
      "27\n",
      "device: cuda\n",
      "cuda\n"
     ]
    },
    {
     "name": "stderr",
     "output_type": "stream",
     "text": [
      "Validation batch calculation: 150it [07:05,  2.83s/it]\n"
     ]
    },
    {
     "name": "stdout",
     "output_type": "stream",
     "text": [
      "Avg 1-(normalized) DL distance acitivty suffix prediction validation set: 0.19399696588516235\n",
      "Percentage of suffixes predicted to END: too early - 0.3257216025569652 ; right moment - 0.024976912647939168 ; too late - 0.6493014847950956\n",
      "Too early instances - avg amount of events too early: 13.656706809997559\n",
      "Too late instances - avg amount of events too late: 52.10844802856445\n",
      "Avg absolute amount of events predicted too early / too late: 38.28237533569336\n",
      "Avg MAE TTNE prediction validation set: 0.31037163734436035 (standardized) ; 1150.2587239583333 (minutes)'\n",
      "Avg MAE RRT prediction validation set: 0.6208921670913696 (standardized) ; 10315.694791666667 (minutes)'\n",
      "Avg validation loss: 3.933422565460205\n",
      "BPIC_19\n",
      "41\n",
      "device: cuda\n",
      "cuda\n"
     ]
    },
    {
     "name": "stderr",
     "output_type": "stream",
     "text": [
      "Validation batch calculation: 123it [00:25,  4.84it/s]\n"
     ]
    },
    {
     "name": "stdout",
     "output_type": "stream",
     "text": [
      "Avg 1-(normalized) DL distance acitivty suffix prediction validation set: 0.6930981576442719\n",
      "Percentage of suffixes predicted to END: too early - 0.18439002973517732 ; right moment - 0.37762876928296313 ; too late - 0.43798120098185955\n",
      "Too early instances - avg amount of events too early: 1.8508377075195312\n",
      "Too late instances - avg amount of events too late: 2.068866491317749\n",
      "Avg absolute amount of events predicted too early / too late: 1.2474006414413452\n",
      "Avg MAE TTNE prediction validation set: 0.5694838166236877 (standardized) ; 21019.404166666667 (minutes)'\n",
      "Avg MAE RRT prediction validation set: 0.6416239738464355 (standardized) ; 34915.0125 (minutes)'\n",
      "Avg validation loss: 3.3613057136535645\n"
     ]
    }
   ],
   "source": [
    "miss = [0.7]\n",
    "for rate in miss:\n",
    "    print(f\"{rate}\")\n",
    "    test(log_name='BPIC_17', tss_index=5, missingrate=rate)\n",
    "    print(\"BPIC_19\")\n",
    "    test(log_name='BPIC_19', tss_index=1, missingrate=rate)"
   ]
  },
  {
   "cell_type": "code",
   "execution_count": 2,
   "metadata": {},
   "outputs": [
    {
     "name": "stdout",
     "output_type": "stream",
     "text": [
      "0.9\n",
      "27\n",
      "device: cuda\n",
      "cuda\n"
     ]
    },
    {
     "name": "stderr",
     "output_type": "stream",
     "text": [
      "Validation batch calculation: 150it [07:17,  2.92s/it]\n"
     ]
    },
    {
     "name": "stdout",
     "output_type": "stream",
     "text": [
      "Avg 1-(normalized) DL distance acitivty suffix prediction validation set: 0.1847670078277588\n",
      "Percentage of suffixes predicted to END: too early - 0.27619350148348515 ; right moment - 0.017218907395157225 ; too late - 0.7065875911213576\n",
      "Too early instances - avg amount of events too early: 13.035665512084961\n",
      "Too late instances - avg amount of events too late: 51.99789047241211\n",
      "Avg absolute amount of events predicted too early / too late: 40.3414306640625\n",
      "Avg MAE TTNE prediction validation set: 0.31525957584381104 (standardized) ; 1168.373828125 (minutes)'\n",
      "Avg MAE RRT prediction validation set: 0.6681436896324158 (standardized) ; 11101.65 (minutes)'\n",
      "Avg validation loss: 4.66771125793457\n",
      "BPIC_19\n",
      "41\n",
      "device: cuda\n",
      "cuda\n"
     ]
    },
    {
     "name": "stderr",
     "output_type": "stream",
     "text": [
      "Validation batch calculation: 123it [00:34,  3.61it/s]\n"
     ]
    },
    {
     "name": "stdout",
     "output_type": "stream",
     "text": [
      "Avg 1-(normalized) DL distance acitivty suffix prediction validation set: 0.6768043339252472\n",
      "Percentage of suffixes predicted to END: too early - 0.1668881837594045 ; right moment - 0.3558442595142589 ; too late - 0.4772675567263366\n",
      "Too early instances - avg amount of events too early: 1.8968981504440308\n",
      "Too late instances - avg amount of events too late: 2.1823678016662598\n",
      "Avg absolute amount of events predicted too early / too late: 1.3581432104110718\n",
      "Avg MAE TTNE prediction validation set: 0.5820282101631165 (standardized) ; 21482.410416666666 (minutes)'\n",
      "Avg MAE RRT prediction validation set: 0.6641635298728943 (standardized) ; 36189.35 (minutes)'\n",
      "Avg validation loss: 3.7494468688964844\n"
     ]
    }
   ],
   "source": [
    "miss = [0.9]\n",
    "for rate in miss:\n",
    "    print(f\"{rate}\")\n",
    "    test(log_name='BPIC_17', tss_index=5, missingrate=rate)\n",
    "    print(\"BPIC_19\")\n",
    "    test(log_name='BPIC_19', tss_index=1, missingrate=rate)"
   ]
  },
  {
   "cell_type": "code",
   "execution_count": null,
   "metadata": {},
   "outputs": [],
   "source": []
  }
 ],
 "metadata": {
  "kernelspec": {
   "display_name": "NDE",
   "language": "python",
   "name": "python3"
  },
  "language_info": {
   "codemirror_mode": {
    "name": "ipython",
    "version": 3
   },
   "file_extension": ".py",
   "mimetype": "text/x-python",
   "name": "python",
   "nbconvert_exporter": "python",
   "pygments_lexer": "ipython3",
   "version": "3.12.5"
  }
 },
 "nbformat": 4,
 "nbformat_minor": 2
}
