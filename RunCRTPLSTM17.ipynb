{
 "cells": [
  {
   "cell_type": "code",
   "execution_count": 1,
   "metadata": {},
   "outputs": [
    {
     "name": "stdout",
     "output_type": "stream",
     "text": [
      "27\n"
     ]
    },
    {
     "name": "stderr",
     "output_type": "stream",
     "text": [
      "/media/usr/SSD/yongmin/PPM/TRAIN_EVAL_CRTP_LSTM_ND.py:165: FutureWarning: You are using `torch.load` with `weights_only=False` (the current default value), which uses the default pickle module implicitly. It is possible to construct malicious pickle data which will execute arbitrary code during unpickling (See https://github.com/pytorch/pytorch/blob/main/SECURITY.md#untrusted-models for more details). In a future release, the default value for `weights_only` will be flipped to `True`. This limits the functions that could be executed during unpickling. Arbitrary objects will no longer be allowed to be loaded via this mode unless they are explicitly allowlisted by the user via `torch.serialization.add_safe_globals`. We recommend you start setting `weights_only=True` for any use case where you don't have full control of the loaded file. Please open an issue on GitHub for any issues related to this experimental feature.\n",
      "  train_dataset = torch.load(temp_path)\n",
      "/media/usr/SSD/yongmin/PPM/TRAIN_EVAL_CRTP_LSTM_ND.py:169: FutureWarning: You are using `torch.load` with `weights_only=False` (the current default value), which uses the default pickle module implicitly. It is possible to construct malicious pickle data which will execute arbitrary code during unpickling (See https://github.com/pytorch/pytorch/blob/main/SECURITY.md#untrusted-models for more details). In a future release, the default value for `weights_only` will be flipped to `True`. This limits the functions that could be executed during unpickling. Arbitrary objects will no longer be allowed to be loaded via this mode unless they are explicitly allowlisted by the user via `torch.serialization.add_safe_globals`. We recommend you start setting `weights_only=True` for any use case where you don't have full control of the loaded file. Please open an issue on GitHub for any issues related to this experimental feature.\n",
      "  val_dataset = torch.load(temp_path)\n",
      "/media/usr/SSD/yongmin/PPM/TRAIN_EVAL_CRTP_LSTM_ND.py:173: FutureWarning: You are using `torch.load` with `weights_only=False` (the current default value), which uses the default pickle module implicitly. It is possible to construct malicious pickle data which will execute arbitrary code during unpickling (See https://github.com/pytorch/pytorch/blob/main/SECURITY.md#untrusted-models for more details). In a future release, the default value for `weights_only` will be flipped to `True`. This limits the functions that could be executed during unpickling. Arbitrary objects will no longer be allowed to be loaded via this mode unless they are explicitly allowlisted by the user via `torch.serialization.add_safe_globals`. We recommend you start setting `weights_only=True` for any use case where you don't have full control of the loaded file. Please open an issue on GitHub for any issues related to this experimental feature.\n",
      "  test_dataset = torch.load(temp_path)\n"
     ]
    },
    {
     "name": "stdout",
     "output_type": "stream",
     "text": [
      "device: cuda\n"
     ]
    },
    {
     "name": "stderr",
     "output_type": "stream",
     "text": [
      "/home/yongmin/anaconda3/envs/NDE/lib/python3.12/site-packages/torch/optim/lr_scheduler.py:60: UserWarning: The verbose parameter is deprecated. Please use get_last_lr() to access the learning rate.\n",
      "  warnings.warn(\n"
     ]
    },
    {
     "name": "stdout",
     "output_type": "stream",
     "text": [
      "Device: cuda\n",
      " \n",
      "------------------------------------\n",
      "EPOCH 0:\n",
      "____________________________________\n"
     ]
    },
    {
     "name": "stderr",
     "output_type": "stream",
     "text": [
      "Batch calculation at epoch 0.: 1603it [00:59, 18.85it/s]"
     ]
    },
    {
     "name": "stdout",
     "output_type": "stream",
     "text": [
      "------------------------------------------------------------\n",
      "Epoch 0, batch 1599:\n",
      "Average original gradient norm: 1.1443684818129987 (over last 1600 batches)\n",
      "Average clipped gradient norm: 1.1137355049233884 (over last 1600 batches)\n",
      "Running average global loss: 2.2524788128584623 (over last 1600 batches)\n",
      "Running average activity prediction loss: 1.7936458437144756 (Cross Entropy over last 1600 batches)\n",
      "Running average (complete) remaining runtime prediction loss: 0.4588329720310867 (MAE over last 1600 batches)\n",
      "------------------------------------------------------------\n"
     ]
    },
    {
     "name": "stderr",
     "output_type": "stream",
     "text": [
      "Batch calculation at epoch 0.: 3204it [02:07, 35.77it/s]"
     ]
    },
    {
     "name": "stdout",
     "output_type": "stream",
     "text": [
      "------------------------------------------------------------\n",
      "Epoch 0, batch 3199:\n",
      "Average original gradient norm: 1.0187787924893201 (over last 1600 batches)\n",
      "Average clipped gradient norm: 1.0120528431423008 (over last 1600 batches)\n",
      "Running average global loss: 2.1032738289237023 (over last 1600 batches)\n",
      "Running average activity prediction loss: 1.663226905167103 (Cross Entropy over last 1600 batches)\n",
      "Running average (complete) remaining runtime prediction loss: 0.440046921800822 (MAE over last 1600 batches)\n",
      "------------------------------------------------------------\n"
     ]
    },
    {
     "name": "stderr",
     "output_type": "stream",
     "text": [
      "Batch calculation at epoch 0.: 4798it [02:56, 27.19it/s]\n"
     ]
    },
    {
     "name": "stdout",
     "output_type": "stream",
     "text": [
      "=======================================\n",
      "End of epoch 0\n",
      "=======================================\n",
      "Running average global loss: 2.0662335545569657 (over last 1600 batches)\n",
      "Running average activity prediction loss: 1.6253762870281934 (Cross Entropy over last 1600 batches)\n",
      "Running average (complete) remaining runtime prediction loss: 0.4408572670817375 (MAE over last 1600 batches)\n"
     ]
    },
    {
     "name": "stderr",
     "output_type": "stream",
     "text": [
      "Validation batch calculation: 72it [12:08, 10.12s/it]\n"
     ]
    },
    {
     "name": "stdout",
     "output_type": "stream",
     "text": [
      "Avg 1-(normalized) DL distance acitivty suffix prediction validation set: 0.21422314643859863\n",
      "Percentage of suffixes predicted to END: too early - 0.02766609555144474 ; right moment - 0.018792193696799252 ; too late - 0.953541710751756\n",
      "Too early instances - avg amount of events too early: 1.3195163011550903\n",
      "Too late instances - avg amount of events too late: 44.12887191772461\n",
      "Avg absolute amount of events predicted too early / too late: 42.1152229309082\n",
      "Avg MAE TTNE prediction validation set: 1090.3260416666667 (minutes)'\n",
      "Avg MAE RRT prediction validation set: 0.5270994901657104 (standardized) ; 8850.934375 (minutes)'\n",
      "Avg validation loss: 2.1912312507629395\n",
      " \n",
      "------------------------------------\n",
      "EPOCH 1:\n",
      "____________________________________\n"
     ]
    },
    {
     "name": "stderr",
     "output_type": "stream",
     "text": [
      "Batch calculation at epoch 1.: 1601it [01:25, 13.87it/s]"
     ]
    },
    {
     "name": "stdout",
     "output_type": "stream",
     "text": [
      "------------------------------------------------------------\n",
      "Epoch 1, batch 1599:\n",
      "Average original gradient norm: 1.0251540899649263 (over last 1600 batches)\n",
      "Average clipped gradient norm: 0.9989695109799505 (over last 1600 batches)\n",
      "Running average global loss: 2.030614565908909 (over last 1600 batches)\n",
      "Running average activity prediction loss: 1.591913793310523 (Cross Entropy over last 1600 batches)\n",
      "Running average (complete) remaining runtime prediction loss: 0.43870077535510066 (MAE over last 1600 batches)\n",
      "------------------------------------------------------------\n"
     ]
    },
    {
     "name": "stderr",
     "output_type": "stream",
     "text": [
      "Batch calculation at epoch 1.: 3202it [03:31, 14.94it/s]"
     ]
    },
    {
     "name": "stdout",
     "output_type": "stream",
     "text": [
      "------------------------------------------------------------\n",
      "Epoch 1, batch 3199:\n",
      "Average original gradient norm: 0.9932952184975147 (over last 1600 batches)\n",
      "Average clipped gradient norm: 0.9723077598959208 (over last 1600 batches)\n",
      "Running average global loss: 2.0098183083534242 (over last 1600 batches)\n",
      "Running average activity prediction loss: 1.5717962872236968 (Cross Entropy over last 1600 batches)\n",
      "Running average (complete) remaining runtime prediction loss: 0.43802202146500346 (MAE over last 1600 batches)\n",
      "------------------------------------------------------------\n"
     ]
    },
    {
     "name": "stderr",
     "output_type": "stream",
     "text": [
      "Batch calculation at epoch 1.: 4798it [05:27, 14.63it/s]\n"
     ]
    },
    {
     "name": "stdout",
     "output_type": "stream",
     "text": [
      "=======================================\n",
      "End of epoch 1\n",
      "=======================================\n",
      "Running average global loss: 2.00072098121047 (over last 1600 batches)\n",
      "Running average activity prediction loss: 1.5614539250731467 (Cross Entropy over last 1600 batches)\n",
      "Running average (complete) remaining runtime prediction loss: 0.4392670590430498 (MAE over last 1600 batches)\n"
     ]
    },
    {
     "name": "stderr",
     "output_type": "stream",
     "text": [
      "Validation batch calculation: 72it [12:28, 10.40s/it]\n"
     ]
    },
    {
     "name": "stdout",
     "output_type": "stream",
     "text": [
      "Avg 1-(normalized) DL distance acitivty suffix prediction validation set: 0.24821996688842773\n",
      "Percentage of suffixes predicted to END: too early - 0.016232414315651516 ; right moment - 0.04656750650183963 ; too late - 0.9372000791825088\n",
      "Too early instances - avg amount of events too early: 1.9962153434753418\n",
      "Too late instances - avg amount of events too late: 43.59202575683594\n",
      "Avg absolute amount of events predicted too early / too late: 40.8868522644043\n",
      "Avg MAE TTNE prediction validation set: 1106.5361979166667 (minutes)'\n",
      "Avg MAE RRT prediction validation set: 0.5238978862762451 (standardized) ; 8797.170833333334 (minutes)'\n",
      "Avg validation loss: 1.998633623123169\n",
      " \n",
      "------------------------------------\n",
      "EPOCH 2:\n",
      "____________________________________\n"
     ]
    },
    {
     "name": "stderr",
     "output_type": "stream",
     "text": [
      "Batch calculation at epoch 2.: 1605it [01:16, 30.96it/s]"
     ]
    },
    {
     "name": "stdout",
     "output_type": "stream",
     "text": [
      "------------------------------------------------------------\n",
      "Epoch 2, batch 1599:\n",
      "Average original gradient norm: 0.953654933013022 (over last 1600 batches)\n",
      "Average clipped gradient norm: 0.9136694813147187 (over last 1600 batches)\n",
      "Running average global loss: 1.9901250701397657 (over last 1600 batches)\n",
      "Running average activity prediction loss: 1.552153099924326 (Cross Entropy over last 1600 batches)\n",
      "Running average (complete) remaining runtime prediction loss: 0.43797196907922625 (MAE over last 1600 batches)\n",
      "------------------------------------------------------------\n"
     ]
    },
    {
     "name": "stderr",
     "output_type": "stream",
     "text": [
      "Batch calculation at epoch 2.: 3203it [02:36, 18.98it/s]"
     ]
    },
    {
     "name": "stdout",
     "output_type": "stream",
     "text": [
      "------------------------------------------------------------\n",
      "Epoch 2, batch 3199:\n",
      "Average original gradient norm: 0.9263052292726934 (over last 1600 batches)\n",
      "Average clipped gradient norm: 0.8905900930427015 (over last 1600 batches)\n",
      "Running average global loss: 1.977791650518775 (over last 1600 batches)\n",
      "Running average activity prediction loss: 1.5402737860381603 (Cross Entropy over last 1600 batches)\n",
      "Running average (complete) remaining runtime prediction loss: 0.43751786250621083 (MAE over last 1600 batches)\n",
      "------------------------------------------------------------\n"
     ]
    },
    {
     "name": "stderr",
     "output_type": "stream",
     "text": [
      "Batch calculation at epoch 2.: 4798it [03:44, 21.35it/s]\n"
     ]
    },
    {
     "name": "stdout",
     "output_type": "stream",
     "text": [
      "=======================================\n",
      "End of epoch 2\n",
      "=======================================\n",
      "Running average global loss: 1.9685401260852813 (over last 1600 batches)\n",
      "Running average activity prediction loss: 1.533606464713812 (Cross Entropy over last 1600 batches)\n",
      "Running average (complete) remaining runtime prediction loss: 0.4349336608313024 (MAE over last 1600 batches)\n"
     ]
    },
    {
     "name": "stderr",
     "output_type": "stream",
     "text": [
      "Validation batch calculation: 72it [10:56,  9.11s/it]\n"
     ]
    },
    {
     "name": "stdout",
     "output_type": "stream",
     "text": [
      "Avg 1-(normalized) DL distance acitivty suffix prediction validation set: 0.2685573101043701\n",
      "Percentage of suffixes predicted to END: too early - 0.01977514897915998 ; right moment - 0.07116186679590708 ; too late - 0.9090629842249329\n",
      "Too early instances - avg amount of events too early: 2.200206995010376\n",
      "Too late instances - avg amount of events too late: 43.91032028198242\n",
      "Avg absolute amount of events predicted too early / too late: 39.960758209228516\n",
      "Avg MAE TTNE prediction validation set: 1088.7677083333333 (minutes)'\n",
      "Avg MAE RRT prediction validation set: 0.5110770463943481 (standardized) ; 8581.783854166666 (minutes)'\n",
      "Avg validation loss: 1.9769136905670166\n",
      " \n",
      "------------------------------------\n",
      "EPOCH 3:\n",
      "____________________________________\n"
     ]
    },
    {
     "name": "stderr",
     "output_type": "stream",
     "text": [
      "Batch calculation at epoch 3.: 1606it [00:34, 52.37it/s]"
     ]
    },
    {
     "name": "stdout",
     "output_type": "stream",
     "text": [
      "------------------------------------------------------------\n",
      "Epoch 3, batch 1599:\n",
      "Average original gradient norm: 0.837767802271992 (over last 1600 batches)\n",
      "Average clipped gradient norm: 0.808489884827286 (over last 1600 batches)\n",
      "Running average global loss: 1.9624833059310913 (over last 1600 batches)\n",
      "Running average activity prediction loss: 1.52831997230649 (Cross Entropy over last 1600 batches)\n",
      "Running average (complete) remaining runtime prediction loss: 0.4341633347980678 (MAE over last 1600 batches)\n",
      "------------------------------------------------------------\n"
     ]
    },
    {
     "name": "stderr",
     "output_type": "stream",
     "text": [
      "Batch calculation at epoch 3.: 3201it [01:42, 16.12it/s]"
     ]
    },
    {
     "name": "stdout",
     "output_type": "stream",
     "text": [
      "------------------------------------------------------------\n",
      "Epoch 3, batch 3199:\n",
      "Average original gradient norm: 1.0142696698196232 (over last 1600 batches)\n",
      "Average clipped gradient norm: 0.807839214745909 (over last 1600 batches)\n",
      "Running average global loss: 1.967320448383689 (over last 1600 batches)\n",
      "Running average activity prediction loss: 1.5315313766151666 (Cross Entropy over last 1600 batches)\n",
      "Running average (complete) remaining runtime prediction loss: 0.43578907126560806 (MAE over last 1600 batches)\n",
      "------------------------------------------------------------\n"
     ]
    },
    {
     "name": "stderr",
     "output_type": "stream",
     "text": [
      "Batch calculation at epoch 3.: 4798it [03:16, 24.45it/s]\n"
     ]
    },
    {
     "name": "stdout",
     "output_type": "stream",
     "text": [
      "=======================================\n",
      "End of epoch 3\n",
      "=======================================\n",
      "Running average global loss: 1.9570073062926532 (over last 1600 batches)\n",
      "Running average activity prediction loss: 1.523332347124815 (Cross Entropy over last 1600 batches)\n",
      "Running average (complete) remaining runtime prediction loss: 0.43367495777085424 (MAE over last 1600 batches)\n"
     ]
    },
    {
     "name": "stderr",
     "output_type": "stream",
     "text": [
      "Validation batch calculation: 72it [14:15, 11.88s/it]\n"
     ]
    },
    {
     "name": "stdout",
     "output_type": "stream",
     "text": [
      "Avg 1-(normalized) DL distance acitivty suffix prediction validation set: 0.2792204022407532\n",
      "Percentage of suffixes predicted to END: too early - 0.01897649781224189 ; right moment - 0.07419947166153573 ; too late - 0.9068240305262224\n",
      "Too early instances - avg amount of events too early: 2.344964027404785\n",
      "Too late instances - avg amount of events too late: 43.56066131591797\n",
      "Avg absolute amount of events predicted too early / too late: 39.54635238647461\n",
      "Avg MAE TTNE prediction validation set: 1074.683203125 (minutes)'\n",
      "Avg MAE RRT prediction validation set: 0.5061073899269104 (standardized) ; 8492.818229166667 (minutes)'\n",
      "Avg validation loss: 1.9653725624084473\n",
      " \n",
      "------------------------------------\n",
      "EPOCH 4:\n",
      "____________________________________\n"
     ]
    },
    {
     "name": "stderr",
     "output_type": "stream",
     "text": [
      "Batch calculation at epoch 4.: 1601it [01:11, 14.92it/s]"
     ]
    },
    {
     "name": "stdout",
     "output_type": "stream",
     "text": [
      "------------------------------------------------------------\n",
      "Epoch 4, batch 1599:\n",
      "Average original gradient norm: 0.9973933730274439 (over last 1600 batches)\n",
      "Average clipped gradient norm: 0.7689345277100802 (over last 1600 batches)\n",
      "Running average global loss: 1.9598911431431771 (over last 1600 batches)\n",
      "Running average activity prediction loss: 1.5255165426433086 (Cross Entropy over last 1600 batches)\n",
      "Running average (complete) remaining runtime prediction loss: 0.43437460068613293 (MAE over last 1600 batches)\n",
      "------------------------------------------------------------\n"
     ]
    },
    {
     "name": "stderr",
     "output_type": "stream",
     "text": [
      "Batch calculation at epoch 4.: 3201it [02:41, 15.27it/s]"
     ]
    },
    {
     "name": "stdout",
     "output_type": "stream",
     "text": [
      "------------------------------------------------------------\n",
      "Epoch 4, batch 3199:\n",
      "Average original gradient norm: 0.7770602819696069 (over last 1600 batches)\n",
      "Average clipped gradient norm: 0.7433740923181176 (over last 1600 batches)\n",
      "Running average global loss: 1.9528934431821108 (over last 1600 batches)\n",
      "Running average activity prediction loss: 1.5192255038022995 (Cross Entropy over last 1600 batches)\n",
      "Running average (complete) remaining runtime prediction loss: 0.4336679405160248 (MAE over last 1600 batches)\n",
      "------------------------------------------------------------\n"
     ]
    },
    {
     "name": "stderr",
     "output_type": "stream",
     "text": [
      "Batch calculation at epoch 4.: 4798it [04:17, 18.63it/s]\n"
     ]
    },
    {
     "name": "stdout",
     "output_type": "stream",
     "text": [
      "=======================================\n",
      "End of epoch 4\n",
      "=======================================\n",
      "Running average global loss: 1.9515735496580602 (over last 1600 batches)\n",
      "Running average activity prediction loss: 1.5184533208608628 (Cross Entropy over last 1600 batches)\n",
      "Running average (complete) remaining runtime prediction loss: 0.4331202290020883 (MAE over last 1600 batches)\n"
     ]
    },
    {
     "name": "stderr",
     "output_type": "stream",
     "text": [
      "Validation batch calculation: 72it [11:26,  9.53s/it]\n"
     ]
    },
    {
     "name": "stdout",
     "output_type": "stream",
     "text": [
      "Avg 1-(normalized) DL distance acitivty suffix prediction validation set: 0.2797233462333679\n",
      "Percentage of suffixes predicted to END: too early - 0.012867157689235957 ; right moment - 0.07144856208659563 ; too late - 0.9156842802241684\n",
      "Too early instances - avg amount of events too early: 1.8801060914993286\n",
      "Too late instances - avg amount of events too late: 42.977882385253906\n",
      "Avg absolute amount of events predicted too early / too late: 39.378360748291016\n",
      "Avg MAE TTNE prediction validation set: 1021.1622395833333 (minutes)'\n",
      "Avg MAE RRT prediction validation set: 0.5042623281478882 (standardized) ; 8467.449479166668 (minutes)'\n",
      "Avg validation loss: 1.96747624874115\n",
      " \n",
      "------------------------------------\n",
      "EPOCH 5:\n",
      "____________________________________\n"
     ]
    },
    {
     "name": "stderr",
     "output_type": "stream",
     "text": [
      "Batch calculation at epoch 5.: 1606it [01:42, 35.39it/s]"
     ]
    },
    {
     "name": "stdout",
     "output_type": "stream",
     "text": [
      "------------------------------------------------------------\n",
      "Epoch 5, batch 1599:\n",
      "Average original gradient norm: 0.7247444310970604 (over last 1600 batches)\n",
      "Average clipped gradient norm: 0.67184605659917 (over last 1600 batches)\n",
      "Running average global loss: 1.9516278456896543 (over last 1600 batches)\n",
      "Running average activity prediction loss: 1.5170633801072837 (Cross Entropy over last 1600 batches)\n",
      "Running average (complete) remaining runtime prediction loss: 0.4345644642971456 (MAE over last 1600 batches)\n",
      "------------------------------------------------------------\n"
     ]
    },
    {
     "name": "stderr",
     "output_type": "stream",
     "text": [
      "Batch calculation at epoch 5.: 3203it [02:44, 24.21it/s]"
     ]
    },
    {
     "name": "stdout",
     "output_type": "stream",
     "text": [
      "------------------------------------------------------------\n",
      "Epoch 5, batch 3199:\n",
      "Average original gradient norm: 0.6639847885817289 (over last 1600 batches)\n",
      "Average clipped gradient norm: 0.6491194017231464 (over last 1600 batches)\n",
      "Running average global loss: 1.9462152242660522 (over last 1600 batches)\n",
      "Running average activity prediction loss: 1.5134293720126153 (Cross Entropy over last 1600 batches)\n",
      "Running average (complete) remaining runtime prediction loss: 0.432785853613168 (MAE over last 1600 batches)\n",
      "------------------------------------------------------------\n"
     ]
    },
    {
     "name": "stderr",
     "output_type": "stream",
     "text": [
      "Batch calculation at epoch 5.: 4798it [03:53, 20.56it/s]\n"
     ]
    },
    {
     "name": "stdout",
     "output_type": "stream",
     "text": [
      "=======================================\n",
      "End of epoch 5\n",
      "=======================================\n",
      "Running average global loss: 1.9415436205267906 (over last 1600 batches)\n",
      "Running average activity prediction loss: 1.5098711355775594 (Cross Entropy over last 1600 batches)\n",
      "Running average (complete) remaining runtime prediction loss: 0.43167248416692017 (MAE over last 1600 batches)\n"
     ]
    },
    {
     "name": "stderr",
     "output_type": "stream",
     "text": [
      "Validation batch calculation: 72it [11:33,  9.64s/it]\n"
     ]
    },
    {
     "name": "stdout",
     "output_type": "stream",
     "text": [
      "Avg 1-(normalized) DL distance acitivty suffix prediction validation set: 0.2779540419578552\n",
      "Percentage of suffixes predicted to END: too early - 0.01457367727666778 ; right moment - 0.08013815982579849 ; too late - 0.9052881628975338\n",
      "Too early instances - avg amount of events too early: 3.3259952068328857\n",
      "Too late instances - avg amount of events too late: 43.270076751708984\n",
      "Avg absolute amount of events predicted too early / too late: 39.220359802246094\n",
      "Avg MAE TTNE prediction validation set: 1006.1936848958334 (minutes)'\n",
      "Avg MAE RRT prediction validation set: 0.4990178048610687 (standardized) ; 8378.7890625 (minutes)'\n",
      "Avg validation loss: 1.9684323072433472\n",
      " \n",
      "------------------------------------\n",
      "EPOCH 6:\n",
      "____________________________________\n"
     ]
    },
    {
     "name": "stderr",
     "output_type": "stream",
     "text": [
      "Batch calculation at epoch 6.: 1603it [01:21, 26.10it/s]"
     ]
    },
    {
     "name": "stdout",
     "output_type": "stream",
     "text": [
      "------------------------------------------------------------\n",
      "Epoch 6, batch 1599:\n",
      "Average original gradient norm: 0.6566140524391085 (over last 1600 batches)\n",
      "Average clipped gradient norm: 0.6359714220557362 (over last 1600 batches)\n",
      "Running average global loss: 1.942397883757949 (over last 1600 batches)\n",
      "Running average activity prediction loss: 1.509583786353469 (Cross Entropy over last 1600 batches)\n",
      "Running average (complete) remaining runtime prediction loss: 0.4328140968643129 (MAE over last 1600 batches)\n",
      "------------------------------------------------------------\n"
     ]
    },
    {
     "name": "stderr",
     "output_type": "stream",
     "text": [
      "Batch calculation at epoch 6.: 3203it [02:25, 25.16it/s]"
     ]
    },
    {
     "name": "stdout",
     "output_type": "stream",
     "text": [
      "------------------------------------------------------------\n",
      "Epoch 6, batch 3199:\n",
      "Average original gradient norm: 0.6116366931051016 (over last 1600 batches)\n",
      "Average clipped gradient norm: 0.5911584056913852 (over last 1600 batches)\n",
      "Running average global loss: 1.9429177443683148 (over last 1600 batches)\n",
      "Running average activity prediction loss: 1.51008899345994 (Cross Entropy over last 1600 batches)\n",
      "Running average (complete) remaining runtime prediction loss: 0.4328287510760129 (MAE over last 1600 batches)\n",
      "------------------------------------------------------------\n"
     ]
    },
    {
     "name": "stderr",
     "output_type": "stream",
     "text": [
      "Batch calculation at epoch 6.: 4798it [03:26, 23.24it/s]\n"
     ]
    },
    {
     "name": "stdout",
     "output_type": "stream",
     "text": [
      "=======================================\n",
      "End of epoch 6\n",
      "=======================================\n",
      "Running average global loss: 1.9433849278092383 (over last 1600 batches)\n",
      "Running average activity prediction loss: 1.5108999071270228 (Cross Entropy over last 1600 batches)\n",
      "Running average (complete) remaining runtime prediction loss: 0.43248502230271696 (MAE over last 1600 batches)\n"
     ]
    },
    {
     "name": "stderr",
     "output_type": "stream",
     "text": [
      "Validation batch calculation: 72it [13:45, 11.47s/it]\n"
     ]
    },
    {
     "name": "stdout",
     "output_type": "stream",
     "text": [
      "Avg 1-(normalized) DL distance acitivty suffix prediction validation set: 0.2831546664237976\n",
      "Percentage of suffixes predicted to END: too early - 0.01677167450527997 ; right moment - 0.08015181198249793 ; too late - 0.9030765135122221\n",
      "Too early instances - avg amount of events too early: 3.082214117050171\n",
      "Too late instances - avg amount of events too late: 43.03887939453125\n",
      "Avg absolute amount of events predicted too early / too late: 38.919097900390625\n",
      "Avg MAE TTNE prediction validation set: 1050.8860026041666 (minutes)'\n",
      "Avg MAE RRT prediction validation set: 0.5022611021995544 (standardized) ; 8433.346354166666 (minutes)'\n",
      "Avg validation loss: 1.9596879482269287\n",
      " \n",
      "------------------------------------\n",
      "EPOCH 7:\n",
      "____________________________________\n"
     ]
    },
    {
     "name": "stderr",
     "output_type": "stream",
     "text": [
      "Batch calculation at epoch 7.: 1610it [00:42, 54.58it/s]"
     ]
    },
    {
     "name": "stdout",
     "output_type": "stream",
     "text": [
      "------------------------------------------------------------\n",
      "Epoch 7, batch 1599:\n",
      "Average original gradient norm: 0.5921598512586206 (over last 1600 batches)\n",
      "Average clipped gradient norm: 0.5744339084532112 (over last 1600 batches)\n",
      "Running average global loss: 1.9386564001441002 (over last 1600 batches)\n",
      "Running average activity prediction loss: 1.5059458366781473 (Cross Entropy over last 1600 batches)\n",
      "Running average (complete) remaining runtime prediction loss: 0.4327105636522174 (MAE over last 1600 batches)\n",
      "------------------------------------------------------------\n"
     ]
    },
    {
     "name": "stderr",
     "output_type": "stream",
     "text": [
      "Batch calculation at epoch 7.: 3205it [01:28, 51.93it/s]"
     ]
    },
    {
     "name": "stdout",
     "output_type": "stream",
     "text": [
      "------------------------------------------------------------\n",
      "Epoch 7, batch 3199:\n",
      "Average original gradient norm: 0.59292554509826 (over last 1600 batches)\n",
      "Average clipped gradient norm: 0.571375862332061 (over last 1600 batches)\n",
      "Running average global loss: 1.936604327559471 (over last 1600 batches)\n",
      "Running average activity prediction loss: 1.5054927565902472 (Cross Entropy over last 1600 batches)\n",
      "Running average (complete) remaining runtime prediction loss: 0.43111157104372977 (MAE over last 1600 batches)\n",
      "------------------------------------------------------------\n"
     ]
    },
    {
     "name": "stderr",
     "output_type": "stream",
     "text": [
      "Batch calculation at epoch 7.: 4798it [02:16, 35.11it/s]\n"
     ]
    },
    {
     "name": "stdout",
     "output_type": "stream",
     "text": [
      "=======================================\n",
      "End of epoch 7\n",
      "=======================================\n",
      "Running average global loss: 1.9385988661646842 (over last 1600 batches)\n",
      "Running average activity prediction loss: 1.5057828904688357 (Cross Entropy over last 1600 batches)\n",
      "Running average (complete) remaining runtime prediction loss: 0.4328159762918949 (MAE over last 1600 batches)\n"
     ]
    },
    {
     "name": "stderr",
     "output_type": "stream",
     "text": [
      "Validation batch calculation: 72it [13:06, 10.92s/it]\n"
     ]
    },
    {
     "name": "stdout",
     "output_type": "stream",
     "text": [
      "Avg 1-(normalized) DL distance acitivty suffix prediction validation set: 0.28666508197784424\n",
      "Percentage of suffixes predicted to END: too early - 0.020819538966668258 ; right moment - 0.08450684996962395 ; too late - 0.8946736110637078\n",
      "Too early instances - avg amount of events too early: 6.801967144012451\n",
      "Too late instances - avg amount of events too late: 43.5665283203125\n",
      "Avg absolute amount of events predicted too early / too late: 39.11943435668945\n",
      "Avg MAE TTNE prediction validation set: 1014.6383463541666 (minutes)'\n",
      "Avg MAE RRT prediction validation set: 0.49142131209373474 (standardized) ; 8251.790625 (minutes)'\n",
      "Avg validation loss: 1.9475417137145996\n",
      " \n",
      "------------------------------------\n",
      "EPOCH 8:\n",
      "____________________________________\n"
     ]
    },
    {
     "name": "stderr",
     "output_type": "stream",
     "text": [
      "Batch calculation at epoch 8.: 1602it [00:36, 20.78it/s]"
     ]
    },
    {
     "name": "stdout",
     "output_type": "stream",
     "text": [
      "------------------------------------------------------------\n",
      "Epoch 8, batch 1599:\n",
      "Average original gradient norm: 0.5726423361618072 (over last 1600 batches)\n",
      "Average clipped gradient norm: 0.5387681615073234 (over last 1600 batches)\n",
      "Running average global loss: 1.9333798791468144 (over last 1600 batches)\n",
      "Running average activity prediction loss: 1.5031858500093223 (Cross Entropy over last 1600 batches)\n",
      "Running average (complete) remaining runtime prediction loss: 0.430194028429687 (MAE over last 1600 batches)\n",
      "------------------------------------------------------------\n"
     ]
    },
    {
     "name": "stderr",
     "output_type": "stream",
     "text": [
      "Batch calculation at epoch 8.: 3200it [01:50, 12.17it/s]"
     ]
    },
    {
     "name": "stdout",
     "output_type": "stream",
     "text": [
      "------------------------------------------------------------\n",
      "Epoch 8, batch 3199:\n",
      "Average original gradient norm: 0.5390934793185442 (over last 1600 batches)\n",
      "Average clipped gradient norm: 0.5294395560305566 (over last 1600 batches)\n",
      "Running average global loss: 1.9356713972985744 (over last 1600 batches)\n",
      "Running average activity prediction loss: 1.502772389948368 (Cross Entropy over last 1600 batches)\n",
      "Running average (complete) remaining runtime prediction loss: 0.43289900697767736 (MAE over last 1600 batches)\n",
      "------------------------------------------------------------\n"
     ]
    },
    {
     "name": "stderr",
     "output_type": "stream",
     "text": [
      "Batch calculation at epoch 8.: 4798it [03:12, 24.92it/s]\n"
     ]
    },
    {
     "name": "stdout",
     "output_type": "stream",
     "text": [
      "=======================================\n",
      "End of epoch 8\n",
      "=======================================\n",
      "Running average global loss: 1.9351291333138942 (over last 1600 batches)\n",
      "Running average activity prediction loss: 1.5027005954831838 (Cross Entropy over last 1600 batches)\n",
      "Running average (complete) remaining runtime prediction loss: 0.43242853714153173 (MAE over last 1600 batches)\n"
     ]
    },
    {
     "name": "stderr",
     "output_type": "stream",
     "text": [
      "Validation batch calculation: 72it [11:55,  9.93s/it]\n"
     ]
    },
    {
     "name": "stdout",
     "output_type": "stream",
     "text": [
      "Avg 1-(normalized) DL distance acitivty suffix prediction validation set: 0.2942444086074829\n",
      "Percentage of suffixes predicted to END: too early - 0.02728383516386001 ; right moment - 0.08959227834017079 ; too late - 0.8831238864959692\n",
      "Too early instances - avg amount of events too early: 7.347010135650635\n",
      "Too late instances - avg amount of events too late: 43.236515045166016\n",
      "Avg absolute amount of events predicted too early / too late: 38.38365173339844\n",
      "Avg MAE TTNE prediction validation set: 1005.621875 (minutes)'\n",
      "Avg MAE RRT prediction validation set: 0.488467276096344 (standardized) ; 8197.415625 (minutes)'\n",
      "Avg validation loss: 1.9401763677597046\n",
      " \n",
      "------------------------------------\n",
      "EPOCH 9:\n",
      "____________________________________\n"
     ]
    },
    {
     "name": "stderr",
     "output_type": "stream",
     "text": [
      "Batch calculation at epoch 9.: 1606it [01:02, 36.63it/s]"
     ]
    },
    {
     "name": "stdout",
     "output_type": "stream",
     "text": [
      "------------------------------------------------------------\n",
      "Epoch 9, batch 1599:\n",
      "Average original gradient norm: 0.5258777848910541 (over last 1600 batches)\n",
      "Average clipped gradient norm: 0.5125145106296987 (over last 1600 batches)\n",
      "Running average global loss: 1.9336079535633326 (over last 1600 batches)\n",
      "Running average activity prediction loss: 1.5009959087520839 (Cross Entropy over last 1600 batches)\n",
      "Running average (complete) remaining runtime prediction loss: 0.4326120434328914 (MAE over last 1600 batches)\n",
      "------------------------------------------------------------\n"
     ]
    },
    {
     "name": "stderr",
     "output_type": "stream",
     "text": [
      "Batch calculation at epoch 9.: 3200it [02:20, 11.82it/s]"
     ]
    },
    {
     "name": "stdout",
     "output_type": "stream",
     "text": [
      "------------------------------------------------------------\n",
      "Epoch 9, batch 3199:\n",
      "Average original gradient norm: 0.505836650757119 (over last 1600 batches)\n",
      "Average clipped gradient norm: 0.4958916877489537 (over last 1600 batches)\n",
      "Running average global loss: 1.93212715215981 (over last 1600 batches)\n",
      "Running average activity prediction loss: 1.5013768760114907 (Cross Entropy over last 1600 batches)\n",
      "Running average (complete) remaining runtime prediction loss: 0.4307502764835954 (MAE over last 1600 batches)\n",
      "------------------------------------------------------------\n"
     ]
    },
    {
     "name": "stderr",
     "output_type": "stream",
     "text": [
      "Batch calculation at epoch 9.: 4798it [04:03, 19.67it/s]\n"
     ]
    },
    {
     "name": "stdout",
     "output_type": "stream",
     "text": [
      "=======================================\n",
      "End of epoch 9\n",
      "=======================================\n",
      "Running average global loss: 1.9296359297633172 (over last 1600 batches)\n",
      "Running average activity prediction loss: 1.4982770984619855 (Cross Entropy over last 1600 batches)\n",
      "Running average (complete) remaining runtime prediction loss: 0.43135883133858444 (MAE over last 1600 batches)\n"
     ]
    },
    {
     "name": "stderr",
     "output_type": "stream",
     "text": [
      "Validation batch calculation: 72it [11:59,  9.99s/it]\n"
     ]
    },
    {
     "name": "stdout",
     "output_type": "stream",
     "text": [
      "Avg 1-(normalized) DL distance acitivty suffix prediction validation set: 0.2955743074417114\n",
      "Percentage of suffixes predicted to END: too early - 0.027242878693761647 ; right moment - 0.08910080069899043 ; too late - 0.883656320607248\n",
      "Too early instances - avg amount of events too early: 7.78351354598999\n",
      "Too late instances - avg amount of events too late: 43.161109924316406\n",
      "Avg absolute amount of events predicted too early / too late: 38.35163116455078\n",
      "Avg MAE TTNE prediction validation set: 999.98671875 (minutes)'\n",
      "Avg MAE RRT prediction validation set: 0.4874098300933838 (standardized) ; 8184.416145833334 (minutes)'\n",
      "Avg validation loss: 1.947975754737854\n",
      " \n",
      "------------------------------------\n",
      "EPOCH 10:\n",
      "____________________________________\n"
     ]
    },
    {
     "name": "stderr",
     "output_type": "stream",
     "text": [
      "Batch calculation at epoch 10.: 1601it [01:30, 14.01it/s]"
     ]
    },
    {
     "name": "stdout",
     "output_type": "stream",
     "text": [
      "------------------------------------------------------------\n",
      "Epoch 10, batch 1599:\n",
      "Average original gradient norm: 0.5034924941230565 (over last 1600 batches)\n",
      "Average clipped gradient norm: 0.4972660763282329 (over last 1600 batches)\n",
      "Running average global loss: 1.9283640795946122 (over last 1600 batches)\n",
      "Running average activity prediction loss: 1.496886729001999 (Cross Entropy over last 1600 batches)\n",
      "Running average (complete) remaining runtime prediction loss: 0.4314773496799171 (MAE over last 1600 batches)\n",
      "------------------------------------------------------------\n"
     ]
    },
    {
     "name": "stderr",
     "output_type": "stream",
     "text": [
      "Batch calculation at epoch 10.: 3202it [03:39, 11.55it/s]"
     ]
    },
    {
     "name": "stdout",
     "output_type": "stream",
     "text": [
      "------------------------------------------------------------\n",
      "Epoch 10, batch 3199:\n",
      "Average original gradient norm: 0.48142445360310376 (over last 1600 batches)\n",
      "Average clipped gradient norm: 0.47041373399086295 (over last 1600 batches)\n",
      "Running average global loss: 1.930016486942768 (over last 1600 batches)\n",
      "Running average activity prediction loss: 1.4995464641600846 (Cross Entropy over last 1600 batches)\n",
      "Running average (complete) remaining runtime prediction loss: 0.43047002106904986 (MAE over last 1600 batches)\n",
      "------------------------------------------------------------\n"
     ]
    },
    {
     "name": "stderr",
     "output_type": "stream",
     "text": [
      "Batch calculation at epoch 10.: 4798it [05:36, 14.26it/s]\n"
     ]
    },
    {
     "name": "stdout",
     "output_type": "stream",
     "text": [
      "=======================================\n",
      "End of epoch 10\n",
      "=======================================\n",
      "Running average global loss: 1.9283704330027103 (over last 1600 batches)\n",
      "Running average activity prediction loss: 1.496500308662653 (Cross Entropy over last 1600 batches)\n",
      "Running average (complete) remaining runtime prediction loss: 0.43187012400478125 (MAE over last 1600 batches)\n"
     ]
    },
    {
     "name": "stderr",
     "output_type": "stream",
     "text": [
      "Validation batch calculation: 72it [07:40,  6.40s/it]\n"
     ]
    },
    {
     "name": "stdout",
     "output_type": "stream",
     "text": [
      "Avg 1-(normalized) DL distance acitivty suffix prediction validation set: 0.2961474657058716\n",
      "Percentage of suffixes predicted to END: too early - 0.03129756923349966 ; right moment - 0.09437735926332963 ; too late - 0.8743250715031707\n",
      "Too early instances - avg amount of events too early: 7.849727153778076\n",
      "Too late instances - avg amount of events too late: 43.4402961730957\n",
      "Avg absolute amount of events predicted too early / too late: 38.226619720458984\n",
      "Avg MAE TTNE prediction validation set: 1012.0131510416667 (minutes)'\n",
      "Avg MAE RRT prediction validation set: 0.48813164234161377 (standardized) ; 8196.557291666666 (minutes)'\n",
      "Avg validation loss: 1.942879319190979\n",
      " \n",
      "------------------------------------\n",
      "EPOCH 11:\n",
      "____________________________________\n"
     ]
    },
    {
     "name": "stderr",
     "output_type": "stream",
     "text": [
      "Batch calculation at epoch 11.: 1608it [00:45, 34.83it/s]"
     ]
    },
    {
     "name": "stdout",
     "output_type": "stream",
     "text": [
      "------------------------------------------------------------\n",
      "Epoch 11, batch 1599:\n",
      "Average original gradient norm: 0.5979714727215469 (over last 1600 batches)\n",
      "Average clipped gradient norm: 0.4881419687531888 (over last 1600 batches)\n",
      "Running average global loss: 1.9344302263110875 (over last 1600 batches)\n",
      "Running average activity prediction loss: 1.5032856080681085 (Cross Entropy over last 1600 batches)\n",
      "Running average (complete) remaining runtime prediction loss: 0.43114461787045 (MAE over last 1600 batches)\n",
      "------------------------------------------------------------\n"
     ]
    },
    {
     "name": "stderr",
     "output_type": "stream",
     "text": [
      "Batch calculation at epoch 11.: 3203it [01:38, 26.09it/s]"
     ]
    },
    {
     "name": "stdout",
     "output_type": "stream",
     "text": [
      "------------------------------------------------------------\n",
      "Epoch 11, batch 3199:\n",
      "Average original gradient norm: 0.46741494540125134 (over last 1600 batches)\n",
      "Average clipped gradient norm: 0.45753253396600485 (over last 1600 batches)\n",
      "Running average global loss: 1.9250549177825451 (over last 1600 batches)\n",
      "Running average activity prediction loss: 1.4946843113005162 (Cross Entropy over last 1600 batches)\n",
      "Running average (complete) remaining runtime prediction loss: 0.43037060568109153 (MAE over last 1600 batches)\n",
      "------------------------------------------------------------\n"
     ]
    },
    {
     "name": "stderr",
     "output_type": "stream",
     "text": [
      "Batch calculation at epoch 11.: 4798it [02:32, 31.56it/s]\n"
     ]
    },
    {
     "name": "stdout",
     "output_type": "stream",
     "text": [
      "=======================================\n",
      "End of epoch 11\n",
      "=======================================\n",
      "Running average global loss: 1.9275377554446458 (over last 1600 batches)\n",
      "Running average activity prediction loss: 1.4951262113451957 (Cross Entropy over last 1600 batches)\n",
      "Running average (complete) remaining runtime prediction loss: 0.43241154655814174 (MAE over last 1600 batches)\n"
     ]
    },
    {
     "name": "stderr",
     "output_type": "stream",
     "text": [
      "Validation batch calculation: 72it [12:19, 10.27s/it]\n"
     ]
    },
    {
     "name": "stdout",
     "output_type": "stream",
     "text": [
      "Avg 1-(normalized) DL distance acitivty suffix prediction validation set: 0.3074309229850769\n",
      "Percentage of suffixes predicted to END: too early - 0.03754343092350014 ; right moment - 0.0990463968545431 ; too late - 0.8634101722219568\n",
      "Too early instances - avg amount of events too early: 8.981818199157715\n",
      "Too late instances - avg amount of events too late: 43.15839767456055\n",
      "Avg absolute amount of events predicted too early / too late: 37.60060501098633\n",
      "Avg MAE TTNE prediction validation set: 1008.7164713541666 (minutes)'\n",
      "Avg MAE RRT prediction validation set: 0.48785486817359924 (standardized) ; 8191.7578125 (minutes)'\n",
      "Avg validation loss: 1.928970456123352\n",
      " \n",
      "------------------------------------\n",
      "EPOCH 12:\n",
      "____________________________________\n"
     ]
    },
    {
     "name": "stderr",
     "output_type": "stream",
     "text": [
      "Batch calculation at epoch 12.: 1607it [00:56, 46.58it/s]"
     ]
    },
    {
     "name": "stdout",
     "output_type": "stream",
     "text": [
      "------------------------------------------------------------\n",
      "Epoch 12, batch 1599:\n",
      "Average original gradient norm: 0.48637840599752963 (over last 1600 batches)\n",
      "Average clipped gradient norm: 0.47380657949484883 (over last 1600 batches)\n",
      "Running average global loss: 1.927627047225833 (over last 1600 batches)\n",
      "Running average activity prediction loss: 1.4970519544184209 (Cross Entropy over last 1600 batches)\n",
      "Running average (complete) remaining runtime prediction loss: 0.43057509273290634 (MAE over last 1600 batches)\n",
      "------------------------------------------------------------\n"
     ]
    },
    {
     "name": "stderr",
     "output_type": "stream",
     "text": [
      "Batch calculation at epoch 12.: 3206it [01:32, 48.24it/s]"
     ]
    },
    {
     "name": "stdout",
     "output_type": "stream",
     "text": [
      "------------------------------------------------------------\n",
      "Epoch 12, batch 3199:\n",
      "Average original gradient norm: 0.4834821586031467 (over last 1600 batches)\n",
      "Average clipped gradient norm: 0.4717898810375482 (over last 1600 batches)\n",
      "Running average global loss: 1.9255797757208348 (over last 1600 batches)\n",
      "Running average activity prediction loss: 1.4952658566832542 (Cross Entropy over last 1600 batches)\n",
      "Running average (complete) remaining runtime prediction loss: 0.4303139195218682 (MAE over last 1600 batches)\n",
      "------------------------------------------------------------\n"
     ]
    },
    {
     "name": "stderr",
     "output_type": "stream",
     "text": [
      "Batch calculation at epoch 12.: 4798it [02:32, 31.51it/s]\n"
     ]
    },
    {
     "name": "stdout",
     "output_type": "stream",
     "text": [
      "=======================================\n",
      "End of epoch 12\n",
      "=======================================\n",
      "Running average global loss: 1.92828747369349 (over last 1600 batches)\n",
      "Running average activity prediction loss: 1.4964010287076235 (Cross Entropy over last 1600 batches)\n",
      "Running average (complete) remaining runtime prediction loss: 0.4318864462897182 (MAE over last 1600 batches)\n"
     ]
    },
    {
     "name": "stderr",
     "output_type": "stream",
     "text": [
      "Validation batch calculation: 72it [16:41, 13.91s/it]\n"
     ]
    },
    {
     "name": "stdout",
     "output_type": "stream",
     "text": [
      "Avg 1-(normalized) DL distance acitivty suffix prediction validation set: 0.2898736000061035\n",
      "Percentage of suffixes predicted to END: too early - 0.014805763940558509 ; right moment - 0.08497102329740541 ; too late - 0.9002232127620361\n",
      "Too early instances - avg amount of events too early: 6.159059524536133\n",
      "Too late instances - avg amount of events too late: 42.92670822143555\n",
      "Avg absolute amount of events predicted too early / too late: 38.734806060791016\n",
      "Avg MAE TTNE prediction validation set: 1024.5320963541667 (minutes)'\n",
      "Avg MAE RRT prediction validation set: 0.4889126420021057 (standardized) ; 8209.684375 (minutes)'\n",
      "Avg validation loss: 1.9436970949172974\n",
      " \n",
      "------------------------------------\n",
      "EPOCH 13:\n",
      "____________________________________\n"
     ]
    },
    {
     "name": "stderr",
     "output_type": "stream",
     "text": [
      "Batch calculation at epoch 13.: 1602it [01:25, 18.50it/s]"
     ]
    },
    {
     "name": "stdout",
     "output_type": "stream",
     "text": [
      "------------------------------------------------------------\n",
      "Epoch 13, batch 1599:\n",
      "Average original gradient norm: 0.4877494115196168 (over last 1600 batches)\n",
      "Average clipped gradient norm: 0.4630564120225608 (over last 1600 batches)\n",
      "Running average global loss: 1.9253900381922722 (over last 1600 batches)\n",
      "Running average activity prediction loss: 1.4937345656752585 (Cross Entropy over last 1600 batches)\n",
      "Running average (complete) remaining runtime prediction loss: 0.43165547367185353 (MAE over last 1600 batches)\n",
      "------------------------------------------------------------\n"
     ]
    },
    {
     "name": "stderr",
     "output_type": "stream",
     "text": [
      "Batch calculation at epoch 13.: 3201it [02:45, 13.69it/s]"
     ]
    },
    {
     "name": "stdout",
     "output_type": "stream",
     "text": [
      "------------------------------------------------------------\n",
      "Epoch 13, batch 3199:\n",
      "Average original gradient norm: 0.8667817698139697 (over last 1600 batches)\n",
      "Average clipped gradient norm: 0.46882943239994346 (over last 1600 batches)\n",
      "Running average global loss: 1.9284219192713499 (over last 1600 batches)\n",
      "Running average activity prediction loss: 1.4984489240497352 (Cross Entropy over last 1600 batches)\n",
      "Running average (complete) remaining runtime prediction loss: 0.4299729959666729 (MAE over last 1600 batches)\n",
      "------------------------------------------------------------\n"
     ]
    },
    {
     "name": "stderr",
     "output_type": "stream",
     "text": [
      "Batch calculation at epoch 13.: 4798it [04:40, 17.13it/s]\n"
     ]
    },
    {
     "name": "stdout",
     "output_type": "stream",
     "text": [
      "=======================================\n",
      "End of epoch 13\n",
      "=======================================\n",
      "Running average global loss: 1.9273788610100746 (over last 1600 batches)\n",
      "Running average activity prediction loss: 1.4964694034308195 (Cross Entropy over last 1600 batches)\n",
      "Running average (complete) remaining runtime prediction loss: 0.43090945651754736 (MAE over last 1600 batches)\n"
     ]
    },
    {
     "name": "stderr",
     "output_type": "stream",
     "text": [
      "Validation batch calculation: 72it [09:53,  8.24s/it]\n"
     ]
    },
    {
     "name": "stdout",
     "output_type": "stream",
     "text": [
      "Avg 1-(normalized) DL distance acitivty suffix prediction validation set: 0.2969400882720947\n",
      "Percentage of suffixes predicted to END: too early - 0.027242878693761647 ; right moment - 0.094793750042663 ; too late - 0.8779633712635754\n",
      "Too early instances - avg amount of events too early: 8.174643516540527\n",
      "Too late instances - avg amount of events too late: 43.0898551940918\n",
      "Avg absolute amount of events predicted too early / too late: 38.05401611328125\n",
      "Avg MAE TTNE prediction validation set: 1026.7157552083333 (minutes)'\n",
      "Avg MAE RRT prediction validation set: 0.48906514048576355 (standardized) ; 8209.660416666668 (minutes)'\n",
      "Avg validation loss: 1.9361891746520996\n",
      " \n",
      "------------------------------------\n",
      "EPOCH 14:\n",
      "____________________________________\n"
     ]
    },
    {
     "name": "stderr",
     "output_type": "stream",
     "text": [
      "Batch calculation at epoch 14.: 1603it [01:38, 19.10it/s]"
     ]
    },
    {
     "name": "stdout",
     "output_type": "stream",
     "text": [
      "------------------------------------------------------------\n",
      "Epoch 14, batch 1599:\n",
      "Average original gradient norm: 0.516421909192577 (over last 1600 batches)\n",
      "Average clipped gradient norm: 0.46050614924170075 (over last 1600 batches)\n",
      "Running average global loss: 1.9248926678299905 (over last 1600 batches)\n",
      "Running average activity prediction loss: 1.4941737920790912 (Cross Entropy over last 1600 batches)\n",
      "Running average (complete) remaining runtime prediction loss: 0.4307188738696277 (MAE over last 1600 batches)\n",
      "------------------------------------------------------------\n"
     ]
    },
    {
     "name": "stderr",
     "output_type": "stream",
     "text": [
      "Batch calculation at epoch 14.: 3204it [03:04, 38.49it/s]"
     ]
    },
    {
     "name": "stdout",
     "output_type": "stream",
     "text": [
      "------------------------------------------------------------\n",
      "Epoch 14, batch 3199:\n",
      "Average original gradient norm: 0.4548728449922055 (over last 1600 batches)\n",
      "Average clipped gradient norm: 0.4265482837986201 (over last 1600 batches)\n",
      "Running average global loss: 1.9228838984668255 (over last 1600 batches)\n",
      "Running average activity prediction loss: 1.4921533513069152 (Cross Entropy over last 1600 batches)\n",
      "Running average (complete) remaining runtime prediction loss: 0.43073054689913987 (MAE over last 1600 batches)\n",
      "------------------------------------------------------------\n"
     ]
    },
    {
     "name": "stderr",
     "output_type": "stream",
     "text": [
      "Batch calculation at epoch 14.: 4798it [04:38, 17.25it/s]\n"
     ]
    },
    {
     "name": "stdout",
     "output_type": "stream",
     "text": [
      "=======================================\n",
      "End of epoch 14\n",
      "=======================================\n",
      "Running average global loss: 1.9237161234766245 (over last 1600 batches)\n",
      "Running average activity prediction loss: 1.4928718977421522 (Cross Entropy over last 1600 batches)\n",
      "Running average (complete) remaining runtime prediction loss: 0.43084422431886193 (MAE over last 1600 batches)\n"
     ]
    },
    {
     "name": "stderr",
     "output_type": "stream",
     "text": [
      "Validation batch calculation: 72it [11:14,  9.37s/it]\n"
     ]
    },
    {
     "name": "stdout",
     "output_type": "stream",
     "text": [
      "Avg 1-(normalized) DL distance acitivty suffix prediction validation set: 0.2944134473800659\n",
      "Percentage of suffixes predicted to END: too early - 0.016116370983706153 ; right moment - 0.09396096848399627 ; too late - 0.8899226605322976\n",
      "Too early instances - avg amount of events too early: 7.745023727416992\n",
      "Too late instances - avg amount of events too late: 43.36267852783203\n",
      "Avg absolute amount of events predicted too early / too late: 38.71425247192383\n",
      "Avg MAE TTNE prediction validation set: 1015.4590494791667 (minutes)'\n",
      "Avg MAE RRT prediction validation set: 0.48982828855514526 (standardized) ; 8207.7859375 (minutes)'\n",
      "Avg validation loss: 1.9465786218643188\n",
      " \n",
      "------------------------------------\n",
      "EPOCH 15:\n",
      "____________________________________\n"
     ]
    },
    {
     "name": "stderr",
     "output_type": "stream",
     "text": [
      "Batch calculation at epoch 15.: 1604it [00:58, 44.45it/s]"
     ]
    },
    {
     "name": "stdout",
     "output_type": "stream",
     "text": [
      "------------------------------------------------------------\n",
      "Epoch 15, batch 1599:\n",
      "Average original gradient norm: 0.4368757078051567 (over last 1600 batches)\n",
      "Average clipped gradient norm: 0.42500161796808245 (over last 1600 batches)\n",
      "Running average global loss: 1.9231325252354146 (over last 1600 batches)\n",
      "Running average activity prediction loss: 1.4918270007520915 (Cross Entropy over last 1600 batches)\n",
      "Running average (complete) remaining runtime prediction loss: 0.43130552580580117 (MAE over last 1600 batches)\n",
      "------------------------------------------------------------\n"
     ]
    },
    {
     "name": "stderr",
     "output_type": "stream",
     "text": [
      "Batch calculation at epoch 15.: 3202it [02:14, 18.53it/s]"
     ]
    },
    {
     "name": "stdout",
     "output_type": "stream",
     "text": [
      "------------------------------------------------------------\n",
      "Epoch 15, batch 3199:\n",
      "Average original gradient norm: 0.4273338730353862 (over last 1600 batches)\n",
      "Average clipped gradient norm: 0.42179228116758166 (over last 1600 batches)\n",
      "Running average global loss: 1.9209621934592724 (over last 1600 batches)\n",
      "Running average activity prediction loss: 1.4900742249190808 (Cross Entropy over last 1600 batches)\n",
      "Running average (complete) remaining runtime prediction loss: 0.4308879688382149 (MAE over last 1600 batches)\n",
      "------------------------------------------------------------\n"
     ]
    },
    {
     "name": "stderr",
     "output_type": "stream",
     "text": [
      "Batch calculation at epoch 15.: 4798it [03:39, 21.91it/s]\n"
     ]
    },
    {
     "name": "stdout",
     "output_type": "stream",
     "text": [
      "=======================================\n",
      "End of epoch 15\n",
      "=======================================\n",
      "Running average global loss: 1.9214858563244344 (over last 1600 batches)\n",
      "Running average activity prediction loss: 1.491822514757514 (Cross Entropy over last 1600 batches)\n",
      "Running average (complete) remaining runtime prediction loss: 0.4296633419767022 (MAE over last 1600 batches)\n"
     ]
    },
    {
     "name": "stderr",
     "output_type": "stream",
     "text": [
      "Validation batch calculation: 72it [12:24, 10.34s/it]\n"
     ]
    },
    {
     "name": "stdout",
     "output_type": "stream",
     "text": [
      "Avg 1-(normalized) DL distance acitivty suffix prediction validation set: 0.2921300530433655\n",
      "Percentage of suffixes predicted to END: too early - 0.01886728055864625 ; right moment - 0.09209062301617098 ; too late - 0.8890420964251827\n",
      "Too early instances - avg amount of events too early: 8.213096618652344\n",
      "Too late instances - avg amount of events too late: 43.4017333984375\n",
      "Avg absolute amount of events predicted too early / too late: 38.74092483520508\n",
      "Avg MAE TTNE prediction validation set: 1001.7669921875 (minutes)'\n",
      "Avg MAE RRT prediction validation set: 0.4901827573776245 (standardized) ; 8231.035416666668 (minutes)'\n",
      "Avg validation loss: 1.9272814989089966\n",
      " \n",
      "------------------------------------\n",
      "EPOCH 16:\n",
      "____________________________________\n"
     ]
    },
    {
     "name": "stderr",
     "output_type": "stream",
     "text": [
      "Batch calculation at epoch 16.: 1610it [00:42, 47.55it/s]"
     ]
    },
    {
     "name": "stdout",
     "output_type": "stream",
     "text": [
      "------------------------------------------------------------\n",
      "Epoch 16, batch 1599:\n",
      "Average original gradient norm: 0.41741325324401257 (over last 1600 batches)\n",
      "Average clipped gradient norm: 0.4123552275262773 (over last 1600 batches)\n",
      "Running average global loss: 1.920584345087409 (over last 1600 batches)\n",
      "Running average activity prediction loss: 1.4896157228201627 (Cross Entropy over last 1600 batches)\n",
      "Running average (complete) remaining runtime prediction loss: 0.4309686212055385 (MAE over last 1600 batches)\n",
      "------------------------------------------------------------\n"
     ]
    },
    {
     "name": "stderr",
     "output_type": "stream",
     "text": [
      "Batch calculation at epoch 16.: 3204it [01:24, 29.93it/s]"
     ]
    },
    {
     "name": "stdout",
     "output_type": "stream",
     "text": [
      "------------------------------------------------------------\n",
      "Epoch 16, batch 3199:\n",
      "Average original gradient norm: 0.42669776735827325 (over last 1600 batches)\n",
      "Average clipped gradient norm: 0.41987480452284215 (over last 1600 batches)\n",
      "Running average global loss: 1.9211877658218146 (over last 1600 batches)\n",
      "Running average activity prediction loss: 1.490792422965169 (Cross Entropy over last 1600 batches)\n",
      "Running average (complete) remaining runtime prediction loss: 0.4303953433968127 (MAE over last 1600 batches)\n",
      "------------------------------------------------------------\n"
     ]
    },
    {
     "name": "stderr",
     "output_type": "stream",
     "text": [
      "Batch calculation at epoch 16.: 4798it [02:14, 35.68it/s]\n"
     ]
    },
    {
     "name": "stdout",
     "output_type": "stream",
     "text": [
      "=======================================\n",
      "End of epoch 16\n",
      "=======================================\n",
      "Running average global loss: 1.9196085350215435 (over last 1600 batches)\n",
      "Running average activity prediction loss: 1.4903049275279046 (Cross Entropy over last 1600 batches)\n",
      "Running average (complete) remaining runtime prediction loss: 0.42930360712111 (MAE over last 1600 batches)\n"
     ]
    },
    {
     "name": "stderr",
     "output_type": "stream",
     "text": [
      "Validation batch calculation: 72it [08:19,  6.93s/it]\n"
     ]
    },
    {
     "name": "stdout",
     "output_type": "stream",
     "text": [
      "Avg 1-(normalized) DL distance acitivty suffix prediction validation set: 0.2918664216995239\n",
      "Percentage of suffixes predicted to END: too early - 0.01980927937090862 ; right moment - 0.09336027358922026 ; too late - 0.8868304470398711\n",
      "Too early instances - avg amount of events too early: 7.240868091583252\n",
      "Too late instances - avg amount of events too late: 43.066219329833984\n",
      "Avg absolute amount of events predicted too early / too late: 38.33586883544922\n",
      "Avg MAE TTNE prediction validation set: 1037.4622395833333 (minutes)'\n",
      "Avg MAE RRT prediction validation set: 0.48855310678482056 (standardized) ; 8200.125 (minutes)'\n",
      "Avg validation loss: 1.9349133968353271\n",
      " \n",
      "------------------------------------\n",
      "EPOCH 17:\n",
      "____________________________________\n"
     ]
    },
    {
     "name": "stderr",
     "output_type": "stream",
     "text": [
      "Batch calculation at epoch 17.: 1601it [00:39, 20.52it/s]"
     ]
    },
    {
     "name": "stdout",
     "output_type": "stream",
     "text": [
      "------------------------------------------------------------\n",
      "Epoch 17, batch 1599:\n",
      "Average original gradient norm: 0.42628017837181686 (over last 1600 batches)\n",
      "Average clipped gradient norm: 0.41991131240502 (over last 1600 batches)\n",
      "Running average global loss: 1.9181345180422067 (over last 1600 batches)\n",
      "Running average activity prediction loss: 1.489542243257165 (Cross Entropy over last 1600 batches)\n",
      "Running average (complete) remaining runtime prediction loss: 0.4285922745987773 (MAE over last 1600 batches)\n",
      "------------------------------------------------------------\n"
     ]
    },
    {
     "name": "stderr",
     "output_type": "stream",
     "text": [
      "Batch calculation at epoch 17.: 3203it [01:46, 22.07it/s]"
     ]
    },
    {
     "name": "stdout",
     "output_type": "stream",
     "text": [
      "------------------------------------------------------------\n",
      "Epoch 17, batch 3199:\n",
      "Average original gradient norm: 0.4052009762171656 (over last 1600 batches)\n",
      "Average clipped gradient norm: 0.3991589464340359 (over last 1600 batches)\n",
      "Running average global loss: 1.9187422867119313 (over last 1600 batches)\n",
      "Running average activity prediction loss: 1.4874802543222905 (Cross Entropy over last 1600 batches)\n",
      "Running average (complete) remaining runtime prediction loss: 0.4312620322406292 (MAE over last 1600 batches)\n",
      "------------------------------------------------------------\n"
     ]
    },
    {
     "name": "stderr",
     "output_type": "stream",
     "text": [
      "Batch calculation at epoch 17.: 4798it [03:27, 23.15it/s]\n"
     ]
    },
    {
     "name": "stdout",
     "output_type": "stream",
     "text": [
      "=======================================\n",
      "End of epoch 17\n",
      "=======================================\n",
      "Running average global loss: 1.9187699051201343 (over last 1600 batches)\n",
      "Running average activity prediction loss: 1.4880113286525012 (Cross Entropy over last 1600 batches)\n",
      "Running average (complete) remaining runtime prediction loss: 0.43075857432559134 (MAE over last 1600 batches)\n"
     ]
    },
    {
     "name": "stderr",
     "output_type": "stream",
     "text": [
      "Validation batch calculation: 72it [11:20,  9.46s/it]\n"
     ]
    },
    {
     "name": "stdout",
     "output_type": "stream",
     "text": [
      "Avg 1-(normalized) DL distance acitivty suffix prediction validation set: 0.2917848229408264\n",
      "Percentage of suffixes predicted to END: too early - 0.018990149968941345 ; right moment - 0.09417940299118753 ; too late - 0.8868304470398711\n",
      "Too early instances - avg amount of events too early: 7.545291423797607\n",
      "Too late instances - avg amount of events too late: 43.66421127319336\n",
      "Avg absolute amount of events predicted too early / too late: 38.86603927612305\n",
      "Avg MAE TTNE prediction validation set: 1019.4764973958333 (minutes)'\n",
      "Avg MAE RRT prediction validation set: 0.489332914352417 (standardized) ; 8196.379166666668 (minutes)'\n",
      "Avg validation loss: 1.938220500946045\n",
      " \n",
      "------------------------------------\n",
      "EPOCH 18:\n",
      "____________________________________\n"
     ]
    },
    {
     "name": "stderr",
     "output_type": "stream",
     "text": [
      "Batch calculation at epoch 18.: 1605it [00:43, 39.16it/s]"
     ]
    },
    {
     "name": "stdout",
     "output_type": "stream",
     "text": [
      "------------------------------------------------------------\n",
      "Epoch 18, batch 1599:\n",
      "Average original gradient norm: 0.4041335322614759 (over last 1600 batches)\n",
      "Average clipped gradient norm: 0.39544270767830314 (over last 1600 batches)\n",
      "Running average global loss: 1.9183191778510809 (over last 1600 batches)\n",
      "Running average activity prediction loss: 1.488078509196639 (Cross Entropy over last 1600 batches)\n",
      "Running average (complete) remaining runtime prediction loss: 0.4302406674809754 (MAE over last 1600 batches)\n",
      "------------------------------------------------------------\n"
     ]
    },
    {
     "name": "stderr",
     "output_type": "stream",
     "text": [
      "Batch calculation at epoch 18.: 3205it [01:25, 42.60it/s]"
     ]
    },
    {
     "name": "stdout",
     "output_type": "stream",
     "text": [
      "------------------------------------------------------------\n",
      "Epoch 18, batch 3199:\n",
      "Average original gradient norm: 0.4287657096795738 (over last 1600 batches)\n",
      "Average clipped gradient norm: 0.41560276536270974 (over last 1600 batches)\n",
      "Running average global loss: 1.9182158029079437 (over last 1600 batches)\n",
      "Running average activity prediction loss: 1.4881350979208947 (Cross Entropy over last 1600 batches)\n",
      "Running average (complete) remaining runtime prediction loss: 0.4300807061418891 (MAE over last 1600 batches)\n",
      "------------------------------------------------------------\n"
     ]
    },
    {
     "name": "stderr",
     "output_type": "stream",
     "text": [
      "Batch calculation at epoch 18.: 4798it [02:13, 35.86it/s]\n"
     ]
    },
    {
     "name": "stdout",
     "output_type": "stream",
     "text": [
      "=======================================\n",
      "End of epoch 18\n",
      "=======================================\n",
      "Running average global loss: 1.9154977793246508 (over last 1600 batches)\n",
      "Running average activity prediction loss: 1.4857667069882154 (Cross Entropy over last 1600 batches)\n",
      "Running average (complete) remaining runtime prediction loss: 0.42973107380792497 (MAE over last 1600 batches)\n"
     ]
    },
    {
     "name": "stderr",
     "output_type": "stream",
     "text": [
      "Validation batch calculation: 72it [14:28, 12.07s/it]\n"
     ]
    },
    {
     "name": "stdout",
     "output_type": "stream",
     "text": [
      "Avg 1-(normalized) DL distance acitivty suffix prediction validation set: 0.3054794669151306\n",
      "Percentage of suffixes predicted to END: too early - 0.030232701010942203 ; right moment - 0.098022485102084 ; too late - 0.8717448138869738\n",
      "Too early instances - avg amount of events too early: 8.19936752319336\n",
      "Too late instances - avg amount of events too late: 43.2826042175293\n",
      "Avg absolute amount of events predicted too early / too late: 37.97927474975586\n",
      "Avg MAE TTNE prediction validation set: 1031.0713541666667 (minutes)'\n",
      "Avg MAE RRT prediction validation set: 0.48977118730545044 (standardized) ; 8224.081770833332 (minutes)'\n",
      "Avg validation loss: 1.9356614351272583\n",
      " \n",
      "------------------------------------\n",
      "EPOCH 19:\n",
      "____________________________________\n"
     ]
    },
    {
     "name": "stderr",
     "output_type": "stream",
     "text": [
      "Batch calculation at epoch 19.: 1603it [01:15, 18.31it/s]"
     ]
    },
    {
     "name": "stdout",
     "output_type": "stream",
     "text": [
      "------------------------------------------------------------\n",
      "Epoch 19, batch 1599:\n",
      "Average original gradient norm: 0.4870555751491338 (over last 1600 batches)\n",
      "Average clipped gradient norm: 0.40502342094667254 (over last 1600 batches)\n",
      "Running average global loss: 1.9168490877002478 (over last 1600 batches)\n",
      "Running average activity prediction loss: 1.4879707448929549 (Cross Entropy over last 1600 batches)\n",
      "Running average (complete) remaining runtime prediction loss: 0.4288783419504762 (MAE over last 1600 batches)\n",
      "------------------------------------------------------------\n"
     ]
    },
    {
     "name": "stderr",
     "output_type": "stream",
     "text": [
      "Batch calculation at epoch 19.: 3207it [02:10, 37.93it/s]"
     ]
    },
    {
     "name": "stdout",
     "output_type": "stream",
     "text": [
      "------------------------------------------------------------\n",
      "Epoch 19, batch 3199:\n",
      "Average original gradient norm: 0.4170396793540567 (over last 1600 batches)\n",
      "Average clipped gradient norm: 0.40264098352752625 (over last 1600 batches)\n",
      "Running average global loss: 1.9145339385420084 (over last 1600 batches)\n",
      "Running average activity prediction loss: 1.4844405809789896 (Cross Entropy over last 1600 batches)\n",
      "Running average (complete) remaining runtime prediction loss: 0.4300933559052646 (MAE over last 1600 batches)\n",
      "------------------------------------------------------------\n"
     ]
    },
    {
     "name": "stderr",
     "output_type": "stream",
     "text": [
      "Batch calculation at epoch 19.: 4798it [03:58, 20.11it/s]\n"
     ]
    },
    {
     "name": "stdout",
     "output_type": "stream",
     "text": [
      "=======================================\n",
      "End of epoch 19\n",
      "=======================================\n",
      "Running average global loss: 1.9168382117152214 (over last 1600 batches)\n",
      "Running average activity prediction loss: 1.4861350505053996 (Cross Entropy over last 1600 batches)\n",
      "Running average (complete) remaining runtime prediction loss: 0.43070316208526493 (MAE over last 1600 batches)\n"
     ]
    },
    {
     "name": "stderr",
     "output_type": "stream",
     "text": [
      "Validation batch calculation: 72it [14:03, 11.71s/it]\n"
     ]
    },
    {
     "name": "stdout",
     "output_type": "stream",
     "text": [
      "Avg 1-(normalized) DL distance acitivty suffix prediction validation set: 0.2999749779701233\n",
      "Percentage of suffixes predicted to END: too early - 0.028335051229718015 ; right moment - 0.09762657255779982 ; too late - 0.8740383762124821\n",
      "Too early instances - avg amount of events too early: 8.211756706237793\n",
      "Too late instances - avg amount of events too late: 43.54049301147461\n",
      "Avg absolute amount of events predicted too early / too late: 38.28874206542969\n",
      "Avg MAE TTNE prediction validation set: 1026.4154947916666 (minutes)'\n",
      "Avg MAE RRT prediction validation set: 0.48940223455429077 (standardized) ; 8217.021875 (minutes)'\n",
      "Avg validation loss: 1.9414660930633545\n",
      " \n",
      "------------------------------------\n",
      "EPOCH 20:\n",
      "____________________________________\n"
     ]
    },
    {
     "name": "stderr",
     "output_type": "stream",
     "text": [
      "Batch calculation at epoch 20.: 1606it [00:35, 60.32it/s]"
     ]
    },
    {
     "name": "stdout",
     "output_type": "stream",
     "text": [
      "------------------------------------------------------------\n",
      "Epoch 20, batch 1599:\n",
      "Average original gradient norm: 0.4227259789966047 (over last 1600 batches)\n",
      "Average clipped gradient norm: 0.409950637947768 (over last 1600 batches)\n",
      "Running average global loss: 1.9137236306816339 (over last 1600 batches)\n",
      "Running average activity prediction loss: 1.4855346867442132 (Cross Entropy over last 1600 batches)\n",
      "Running average (complete) remaining runtime prediction loss: 0.42818894401192664 (MAE over last 1600 batches)\n",
      "------------------------------------------------------------\n"
     ]
    },
    {
     "name": "stderr",
     "output_type": "stream",
     "text": [
      "Batch calculation at epoch 20.: 3211it [01:01, 70.61it/s]"
     ]
    },
    {
     "name": "stdout",
     "output_type": "stream",
     "text": [
      "------------------------------------------------------------\n",
      "Epoch 20, batch 3199:\n",
      "Average original gradient norm: 0.41869913212954996 (over last 1600 batches)\n",
      "Average clipped gradient norm: 0.4028311963379383 (over last 1600 batches)\n",
      "Running average global loss: 1.9165880758315326 (over last 1600 batches)\n",
      "Running average activity prediction loss: 1.486378154978156 (Cross Entropy over last 1600 batches)\n",
      "Running average (complete) remaining runtime prediction loss: 0.4302099208906293 (MAE over last 1600 batches)\n",
      "------------------------------------------------------------\n"
     ]
    },
    {
     "name": "stderr",
     "output_type": "stream",
     "text": [
      "Batch calculation at epoch 20.: 4798it [01:28, 54.01it/s]\n"
     ]
    },
    {
     "name": "stdout",
     "output_type": "stream",
     "text": [
      "=======================================\n",
      "End of epoch 20\n",
      "=======================================\n",
      "Running average global loss: 1.9165170001238585 (over last 1600 batches)\n",
      "Running average activity prediction loss: 1.4854341101646424 (Cross Entropy over last 1600 batches)\n",
      "Running average (complete) remaining runtime prediction loss: 0.43108289025723934 (MAE over last 1600 batches)\n"
     ]
    },
    {
     "name": "stderr",
     "output_type": "stream",
     "text": [
      "Validation batch calculation: 72it [10:31,  8.77s/it]\n"
     ]
    },
    {
     "name": "stdout",
     "output_type": "stream",
     "text": [
      "Avg 1-(normalized) DL distance acitivty suffix prediction validation set: 0.3019943833351135\n",
      "Percentage of suffixes predicted to END: too early - 0.033823218222898764 ; right moment - 0.09662996511873963 ; too late - 0.8695468166583616\n",
      "Too early instances - avg amount of events too early: 7.5307769775390625\n",
      "Too late instances - avg amount of events too late: 43.24863052368164\n",
      "Avg absolute amount of events predicted too early / too late: 37.86142349243164\n",
      "Avg MAE TTNE prediction validation set: 1012.9002604166667 (minutes)'\n",
      "Avg MAE RRT prediction validation set: 0.49044865369796753 (standardized) ; 8233.629166666668 (minutes)'\n",
      "Avg validation loss: 1.94395112991333\n",
      " \n",
      "------------------------------------\n",
      "EPOCH 21:\n",
      "____________________________________\n"
     ]
    },
    {
     "name": "stderr",
     "output_type": "stream",
     "text": [
      "Batch calculation at epoch 21.: 1604it [00:35, 21.19it/s]"
     ]
    },
    {
     "name": "stdout",
     "output_type": "stream",
     "text": [
      "------------------------------------------------------------\n",
      "Epoch 21, batch 1599:\n",
      "Average original gradient norm: 0.4506823843624443 (over last 1600 batches)\n",
      "Average clipped gradient norm: 0.42565564057789745 (over last 1600 batches)\n",
      "Running average global loss: 1.916117775142193 (over last 1600 batches)\n",
      "Running average activity prediction loss: 1.485818415954709 (Cross Entropy over last 1600 batches)\n",
      "Running average (complete) remaining runtime prediction loss: 0.4302993602305651 (MAE over last 1600 batches)\n",
      "------------------------------------------------------------\n"
     ]
    },
    {
     "name": "stderr",
     "output_type": "stream",
     "text": [
      "Batch calculation at epoch 21.: 3206it [01:09, 47.38it/s]"
     ]
    },
    {
     "name": "stdout",
     "output_type": "stream",
     "text": [
      "------------------------------------------------------------\n",
      "Epoch 21, batch 3199:\n",
      "Average original gradient norm: 0.3970316883269697 (over last 1600 batches)\n",
      "Average clipped gradient norm: 0.38975901626981796 (over last 1600 batches)\n",
      "Running average global loss: 1.9157180809229613 (over last 1600 batches)\n",
      "Running average activity prediction loss: 1.4852125729620456 (Cross Entropy over last 1600 batches)\n",
      "Running average (complete) remaining runtime prediction loss: 0.4305055073089898 (MAE over last 1600 batches)\n",
      "------------------------------------------------------------\n"
     ]
    },
    {
     "name": "stderr",
     "output_type": "stream",
     "text": [
      "Batch calculation at epoch 21.: 4798it [01:53, 42.22it/s]\n"
     ]
    },
    {
     "name": "stdout",
     "output_type": "stream",
     "text": [
      "=======================================\n",
      "End of epoch 21\n",
      "=======================================\n",
      "Running average global loss: 1.9138397461175918 (over last 1600 batches)\n",
      "Running average activity prediction loss: 1.4856611471623182 (Cross Entropy over last 1600 batches)\n",
      "Running average (complete) remaining runtime prediction loss: 0.42817859884351495 (MAE over last 1600 batches)\n"
     ]
    },
    {
     "name": "stderr",
     "output_type": "stream",
     "text": [
      "Validation batch calculation: 72it [08:18,  6.93s/it]\n"
     ]
    },
    {
     "name": "stdout",
     "output_type": "stream",
     "text": [
      "Avg 1-(normalized) DL distance acitivty suffix prediction validation set: 0.30362647771835327\n",
      "Percentage of suffixes predicted to END: too early - 0.022792275609739447 ; right moment - 0.09695079080117681 ; too late - 0.8802569335890837\n",
      "Too early instances - avg amount of events too early: 8.52410888671875\n",
      "Too late instances - avg amount of events too late: 43.63432693481445\n",
      "Avg absolute amount of events predicted too early / too late: 38.60370635986328\n",
      "Avg MAE TTNE prediction validation set: 1028.8896484375 (minutes)'\n",
      "Avg MAE RRT prediction validation set: 0.48655855655670166 (standardized) ; 8170.128125 (minutes)'\n",
      "Avg validation loss: 1.9442800283432007\n",
      " \n",
      "------------------------------------\n",
      "EPOCH 22:\n",
      "____________________________________\n"
     ]
    },
    {
     "name": "stderr",
     "output_type": "stream",
     "text": [
      "Batch calculation at epoch 22.: 1603it [00:59, 25.77it/s]"
     ]
    },
    {
     "name": "stdout",
     "output_type": "stream",
     "text": [
      "------------------------------------------------------------\n",
      "Epoch 22, batch 1599:\n",
      "Average original gradient norm: 0.41999807611107826 (over last 1600 batches)\n",
      "Average clipped gradient norm: 0.40733976937830446 (over last 1600 batches)\n",
      "Running average global loss: 1.9134807151556015 (over last 1600 batches)\n",
      "Running average activity prediction loss: 1.4840296380221845 (Cross Entropy over last 1600 batches)\n",
      "Running average (complete) remaining runtime prediction loss: 0.4294510786421597 (MAE over last 1600 batches)\n",
      "------------------------------------------------------------\n"
     ]
    },
    {
     "name": "stderr",
     "output_type": "stream",
     "text": [
      "Batch calculation at epoch 22.: 3202it [02:26, 18.35it/s]"
     ]
    },
    {
     "name": "stdout",
     "output_type": "stream",
     "text": [
      "------------------------------------------------------------\n",
      "Epoch 22, batch 3199:\n",
      "Average original gradient norm: 0.4083455233834684 (over last 1600 batches)\n",
      "Average clipped gradient norm: 0.39772861836478113 (over last 1600 batches)\n",
      "Running average global loss: 1.9157019656896592 (over last 1600 batches)\n",
      "Running average activity prediction loss: 1.4857544481009244 (Cross Entropy over last 1600 batches)\n",
      "Running average (complete) remaining runtime prediction loss: 0.42994751857593655 (MAE over last 1600 batches)\n",
      "------------------------------------------------------------\n"
     ]
    },
    {
     "name": "stderr",
     "output_type": "stream",
     "text": [
      "Batch calculation at epoch 22.: 4798it [04:18, 18.54it/s]\n"
     ]
    },
    {
     "name": "stdout",
     "output_type": "stream",
     "text": [
      "=======================================\n",
      "End of epoch 22\n",
      "=======================================\n",
      "Running average global loss: 1.91583989597857 (over last 1600 batches)\n",
      "Running average activity prediction loss: 1.486279728114605 (Cross Entropy over last 1600 batches)\n",
      "Running average (complete) remaining runtime prediction loss: 0.42956016764044763 (MAE over last 1600 batches)\n"
     ]
    },
    {
     "name": "stderr",
     "output_type": "stream",
     "text": [
      "Validation batch calculation: 72it [13:44, 11.45s/it]\n"
     ]
    },
    {
     "name": "stdout",
     "output_type": "stream",
     "text": [
      "Avg 1-(normalized) DL distance acitivty suffix prediction validation set: 0.3017359972000122\n",
      "Percentage of suffixes predicted to END: too early - 0.03021222277589302 ; right moment - 0.09953104841737373 ; too late - 0.8702567288067332\n",
      "Too early instances - avg amount of events too early: 8.809308052062988\n",
      "Too late instances - avg amount of events too late: 43.859619140625\n",
      "Avg absolute amount of events predicted too early / too late: 38.435279846191406\n",
      "Avg MAE TTNE prediction validation set: 998.887109375 (minutes)'\n",
      "Avg MAE RRT prediction validation set: 0.491244912147522 (standardized) ; 8235.645833333334 (minutes)'\n",
      "Avg validation loss: 1.9344887733459473\n",
      " \n",
      "------------------------------------\n",
      "EPOCH 23:\n",
      "____________________________________\n"
     ]
    },
    {
     "name": "stderr",
     "output_type": "stream",
     "text": [
      "Batch calculation at epoch 23.: 1607it [00:56, 31.49it/s]"
     ]
    },
    {
     "name": "stdout",
     "output_type": "stream",
     "text": [
      "------------------------------------------------------------\n",
      "Epoch 23, batch 1599:\n",
      "Average original gradient norm: 0.4052323166374117 (over last 1600 batches)\n",
      "Average clipped gradient norm: 0.3924392135534436 (over last 1600 batches)\n",
      "Running average global loss: 1.910614149197936 (over last 1600 batches)\n",
      "Running average activity prediction loss: 1.4814410031586887 (Cross Entropy over last 1600 batches)\n",
      "Running average (complete) remaining runtime prediction loss: 0.4291731449961662 (MAE over last 1600 batches)\n",
      "------------------------------------------------------------\n"
     ]
    },
    {
     "name": "stderr",
     "output_type": "stream",
     "text": [
      "Batch calculation at epoch 23.: 3203it [01:55, 25.21it/s]"
     ]
    },
    {
     "name": "stdout",
     "output_type": "stream",
     "text": [
      "------------------------------------------------------------\n",
      "Epoch 23, batch 3199:\n",
      "Average original gradient norm: 0.5178086006548256 (over last 1600 batches)\n",
      "Average clipped gradient norm: 0.3955832595285028 (over last 1600 batches)\n",
      "Running average global loss: 1.9146485406160354 (over last 1600 batches)\n",
      "Running average activity prediction loss: 1.485449283644557 (Cross Entropy over last 1600 batches)\n",
      "Running average (complete) remaining runtime prediction loss: 0.42919925685971977 (MAE over last 1600 batches)\n",
      "------------------------------------------------------------\n"
     ]
    },
    {
     "name": "stderr",
     "output_type": "stream",
     "text": [
      "Batch calculation at epoch 23.: 4798it [02:45, 29.02it/s]\n"
     ]
    },
    {
     "name": "stdout",
     "output_type": "stream",
     "text": [
      "=======================================\n",
      "End of epoch 23\n",
      "=======================================\n",
      "Running average global loss: 1.9145738580077887 (over last 1600 batches)\n",
      "Running average activity prediction loss: 1.484622622951865 (Cross Entropy over last 1600 batches)\n",
      "Running average (complete) remaining runtime prediction loss: 0.4299512336961925 (MAE over last 1600 batches)\n"
     ]
    },
    {
     "name": "stderr",
     "output_type": "stream",
     "text": [
      "Validation batch calculation: 72it [10:37,  8.85s/it]\n"
     ]
    },
    {
     "name": "stdout",
     "output_type": "stream",
     "text": [
      "Avg 1-(normalized) DL distance acitivty suffix prediction validation set: 0.3047424554824829\n",
      "Percentage of suffixes predicted to END: too early - 0.025024403230100276 ; right moment - 0.09721700785681618 ; too late - 0.8777585889130836\n",
      "Too early instances - avg amount of events too early: 8.256683349609375\n",
      "Too late instances - avg amount of events too late: 43.503421783447266\n",
      "Avg absolute amount of events predicted too early / too late: 38.39211654663086\n",
      "Avg MAE TTNE prediction validation set: 1014.3518229166667 (minutes)'\n",
      "Avg MAE RRT prediction validation set: 0.4899674654006958 (standardized) ; 8227.394791666668 (minutes)'\n",
      "Avg validation loss: 1.929028868675232\n",
      " \n",
      "------------------------------------\n",
      "EPOCH 24:\n",
      "____________________________________\n"
     ]
    },
    {
     "name": "stderr",
     "output_type": "stream",
     "text": [
      "Batch calculation at epoch 24.: 1606it [00:41, 39.15it/s]"
     ]
    },
    {
     "name": "stdout",
     "output_type": "stream",
     "text": [
      "------------------------------------------------------------\n",
      "Epoch 24, batch 1599:\n",
      "Average original gradient norm: 0.39620882434770466 (over last 1600 batches)\n",
      "Average clipped gradient norm: 0.3869775581173599 (over last 1600 batches)\n",
      "Running average global loss: 1.9128007017821074 (over last 1600 batches)\n",
      "Running average activity prediction loss: 1.48310611076653 (Cross Entropy over last 1600 batches)\n",
      "Running average (complete) remaining runtime prediction loss: 0.42969458978623154 (MAE over last 1600 batches)\n",
      "------------------------------------------------------------\n"
     ]
    },
    {
     "name": "stderr",
     "output_type": "stream",
     "text": [
      "Batch calculation at epoch 24.: 3202it [01:54, 12.90it/s]"
     ]
    },
    {
     "name": "stdout",
     "output_type": "stream",
     "text": [
      "------------------------------------------------------------\n",
      "Epoch 24, batch 3199:\n",
      "Average original gradient norm: 0.428497316762805 (over last 1600 batches)\n",
      "Average clipped gradient norm: 0.3885718858987093 (over last 1600 batches)\n",
      "Running average global loss: 1.9123412349820137 (over last 1600 batches)\n",
      "Running average activity prediction loss: 1.4833526047319174 (Cross Entropy over last 1600 batches)\n",
      "Running average (complete) remaining runtime prediction loss: 0.4289886286482215 (MAE over last 1600 batches)\n",
      "------------------------------------------------------------\n"
     ]
    },
    {
     "name": "stderr",
     "output_type": "stream",
     "text": [
      "Batch calculation at epoch 24.: 4798it [02:37, 30.46it/s]\n"
     ]
    },
    {
     "name": "stdout",
     "output_type": "stream",
     "text": [
      "=======================================\n",
      "End of epoch 24\n",
      "=======================================\n",
      "Running average global loss: 1.9133890285342932 (over last 1600 batches)\n",
      "Running average activity prediction loss: 1.4836097751557826 (Cross Entropy over last 1600 batches)\n",
      "Running average (complete) remaining runtime prediction loss: 0.42977925354614854 (MAE over last 1600 batches)\n"
     ]
    },
    {
     "name": "stderr",
     "output_type": "stream",
     "text": [
      "Validation batch calculation: 72it [14:11, 11.83s/it]\n"
     ]
    },
    {
     "name": "stdout",
     "output_type": "stream",
     "text": [
      "Avg 1-(normalized) DL distance acitivty suffix prediction validation set: 0.2974597215652466\n",
      "Percentage of suffixes predicted to END: too early - 0.01755667351549861 ; right moment - 0.09257527457900162 ; too late - 0.8898680519054998\n",
      "Too early instances - avg amount of events too early: 6.629471302032471\n",
      "Too late instances - avg amount of events too late: 43.99394226074219\n",
      "Avg absolute amount of events predicted too early / too late: 39.265193939208984\n",
      "Avg MAE TTNE prediction validation set: 1019.073828125 (minutes)'\n",
      "Avg MAE RRT prediction validation set: 0.4892629384994507 (standardized) ; 8215.560416666667 (minutes)'\n",
      "Avg validation loss: 1.9300106763839722\n",
      " \n",
      "------------------------------------\n",
      "EPOCH 25:\n",
      "____________________________________\n"
     ]
    },
    {
     "name": "stderr",
     "output_type": "stream",
     "text": [
      "Batch calculation at epoch 25.: 1609it [00:38, 49.55it/s]"
     ]
    },
    {
     "name": "stdout",
     "output_type": "stream",
     "text": [
      "------------------------------------------------------------\n",
      "Epoch 25, batch 1599:\n",
      "Average original gradient norm: 0.412134697092697 (over last 1600 batches)\n",
      "Average clipped gradient norm: 0.39788389193825424 (over last 1600 batches)\n",
      "Running average global loss: 1.9121267534047366 (over last 1600 batches)\n",
      "Running average activity prediction loss: 1.4830069188773631 (Cross Entropy over last 1600 batches)\n",
      "Running average (complete) remaining runtime prediction loss: 0.429119835421443 (MAE over last 1600 batches)\n",
      "------------------------------------------------------------\n"
     ]
    },
    {
     "name": "stderr",
     "output_type": "stream",
     "text": [
      "Batch calculation at epoch 25.: 3210it [01:15, 66.25it/s]"
     ]
    },
    {
     "name": "stdout",
     "output_type": "stream",
     "text": [
      "------------------------------------------------------------\n",
      "Epoch 25, batch 3199:\n",
      "Average original gradient norm: 0.3989318762160838 (over last 1600 batches)\n",
      "Average clipped gradient norm: 0.3834604359604418 (over last 1600 batches)\n",
      "Running average global loss: 1.9121103130280972 (over last 1600 batches)\n",
      "Running average activity prediction loss: 1.4824060222506523 (Cross Entropy over last 1600 batches)\n",
      "Running average (complete) remaining runtime prediction loss: 0.4297042929008603 (MAE over last 1600 batches)\n",
      "------------------------------------------------------------\n"
     ]
    },
    {
     "name": "stderr",
     "output_type": "stream",
     "text": [
      "Batch calculation at epoch 25.: 4798it [01:44, 45.95it/s]\n"
     ]
    },
    {
     "name": "stdout",
     "output_type": "stream",
     "text": [
      "=======================================\n",
      "End of epoch 25\n",
      "=======================================\n",
      "Running average global loss: 1.9089024811238051 (over last 1600 batches)\n",
      "Running average activity prediction loss: 1.4800013185292482 (Cross Entropy over last 1600 batches)\n",
      "Running average (complete) remaining runtime prediction loss: 0.42890116250142457 (MAE over last 1600 batches)\n"
     ]
    },
    {
     "name": "stderr",
     "output_type": "stream",
     "text": [
      "Validation batch calculation: 72it [07:21,  6.13s/it]\n"
     ]
    },
    {
     "name": "stdout",
     "output_type": "stream",
     "text": [
      "Avg 1-(normalized) DL distance acitivty suffix prediction validation set: 0.3138437271118164\n",
      "Percentage of suffixes predicted to END: too early - 0.02705857457831901 ; right moment - 0.10190652368307883 ; too late - 0.8710349017386022\n",
      "Too early instances - avg amount of events too early: 8.836276054382324\n",
      "Too late instances - avg amount of events too late: 43.521785736083984\n",
      "Avg absolute amount of events predicted too early / too late: 38.14809036254883\n",
      "Avg MAE TTNE prediction validation set: 1037.0893880208334 (minutes)'\n",
      "Avg MAE RRT prediction validation set: 0.4885854125022888 (standardized) ; 8193.652604166668 (minutes)'\n",
      "Avg validation loss: 1.9347022771835327\n",
      " \n",
      "------------------------------------\n",
      "EPOCH 26:\n",
      "____________________________________\n"
     ]
    },
    {
     "name": "stderr",
     "output_type": "stream",
     "text": [
      "Batch calculation at epoch 26.: 1606it [00:30, 52.15it/s]"
     ]
    },
    {
     "name": "stdout",
     "output_type": "stream",
     "text": [
      "------------------------------------------------------------\n",
      "Epoch 26, batch 1599:\n",
      "Average original gradient norm: 0.47904242704622446 (over last 1600 batches)\n",
      "Average clipped gradient norm: 0.4001878997962922 (over last 1600 batches)\n",
      "Running average global loss: 1.9144860640913248 (over last 1600 batches)\n",
      "Running average activity prediction loss: 1.484851586446166 (Cross Entropy over last 1600 batches)\n",
      "Running average (complete) remaining runtime prediction loss: 0.4296344784274697 (MAE over last 1600 batches)\n",
      "------------------------------------------------------------\n"
     ]
    },
    {
     "name": "stderr",
     "output_type": "stream",
     "text": [
      "Batch calculation at epoch 26.: 3203it [01:13, 22.56it/s]"
     ]
    },
    {
     "name": "stdout",
     "output_type": "stream",
     "text": [
      "------------------------------------------------------------\n",
      "Epoch 26, batch 3199:\n",
      "Average original gradient norm: 0.4004416543804109 (over last 1600 batches)\n",
      "Average clipped gradient norm: 0.3854084677062929 (over last 1600 batches)\n",
      "Running average global loss: 1.9100388737022878 (over last 1600 batches)\n",
      "Running average activity prediction loss: 1.4813463458418845 (Cross Entropy over last 1600 batches)\n",
      "Running average (complete) remaining runtime prediction loss: 0.42869252886623144 (MAE over last 1600 batches)\n",
      "------------------------------------------------------------\n"
     ]
    },
    {
     "name": "stderr",
     "output_type": "stream",
     "text": [
      "Batch calculation at epoch 26.: 4798it [02:09, 37.11it/s]\n"
     ]
    },
    {
     "name": "stdout",
     "output_type": "stream",
     "text": [
      "=======================================\n",
      "End of epoch 26\n",
      "=======================================\n",
      "Running average global loss: 1.9116029124706984 (over last 1600 batches)\n",
      "Running average activity prediction loss: 1.4824395530670882 (Cross Entropy over last 1600 batches)\n",
      "Running average (complete) remaining runtime prediction loss: 0.4291633583419025 (MAE over last 1600 batches)\n"
     ]
    },
    {
     "name": "stderr",
     "output_type": "stream",
     "text": [
      "Validation batch calculation: 72it [09:06,  7.59s/it]\n"
     ]
    },
    {
     "name": "stdout",
     "output_type": "stream",
     "text": [
      "Avg 1-(normalized) DL distance acitivty suffix prediction validation set: 0.30384331941604614\n",
      "Percentage of suffixes predicted to END: too early - 0.032608176276647305 ; right moment - 0.10293726151388766 ; too late - 0.864454562209465\n",
      "Too early instances - avg amount of events too early: 8.877747535705566\n",
      "Too late instances - avg amount of events too late: 43.75360107421875\n",
      "Avg absolute amount of events predicted too early / too late: 38.11248779296875\n",
      "Avg MAE TTNE prediction validation set: 1026.471484375 (minutes)'\n",
      "Avg MAE RRT prediction validation set: 0.4899894595146179 (standardized) ; 8227.683854166668 (minutes)'\n",
      "Avg validation loss: 1.9263404607772827\n",
      " \n",
      "------------------------------------\n",
      "EPOCH 27:\n",
      "____________________________________\n"
     ]
    },
    {
     "name": "stderr",
     "output_type": "stream",
     "text": [
      "Batch calculation at epoch 27.: 1602it [01:48, 13.03it/s]"
     ]
    },
    {
     "name": "stdout",
     "output_type": "stream",
     "text": [
      "------------------------------------------------------------\n",
      "Epoch 27, batch 1599:\n",
      "Average original gradient norm: 0.3929439750406891 (over last 1600 batches)\n",
      "Average clipped gradient norm: 0.3915827318374068 (over last 1600 batches)\n",
      "Running average global loss: 1.9107473965734243 (over last 1600 batches)\n",
      "Running average activity prediction loss: 1.481946817263961 (Cross Entropy over last 1600 batches)\n",
      "Running average (complete) remaining runtime prediction loss: 0.4288005790859461 (MAE over last 1600 batches)\n",
      "------------------------------------------------------------\n"
     ]
    },
    {
     "name": "stderr",
     "output_type": "stream",
     "text": [
      "Batch calculation at epoch 27.: 3202it [03:36, 16.77it/s]"
     ]
    },
    {
     "name": "stdout",
     "output_type": "stream",
     "text": [
      "------------------------------------------------------------\n",
      "Epoch 27, batch 3199:\n",
      "Average original gradient norm: 1.7822417087014764 (over last 1600 batches)\n",
      "Average clipped gradient norm: 0.38692069857381284 (over last 1600 batches)\n",
      "Running average global loss: 1.9112841299176215 (over last 1600 batches)\n",
      "Running average activity prediction loss: 1.4814654257148505 (Cross Entropy over last 1600 batches)\n",
      "Running average (complete) remaining runtime prediction loss: 0.42981870178133247 (MAE over last 1600 batches)\n",
      "------------------------------------------------------------\n"
     ]
    },
    {
     "name": "stderr",
     "output_type": "stream",
     "text": [
      "Batch calculation at epoch 27.: 4798it [05:31, 14.46it/s]\n"
     ]
    },
    {
     "name": "stdout",
     "output_type": "stream",
     "text": [
      "=======================================\n",
      "End of epoch 27\n",
      "=======================================\n",
      "Running average global loss: 1.9110449115931987 (over last 1600 batches)\n",
      "Running average activity prediction loss: 1.4824191879481077 (Cross Entropy over last 1600 batches)\n",
      "Running average (complete) remaining runtime prediction loss: 0.4286257217824459 (MAE over last 1600 batches)\n"
     ]
    },
    {
     "name": "stderr",
     "output_type": "stream",
     "text": [
      "Validation batch calculation: 72it [11:46,  9.81s/it]\n"
     ]
    },
    {
     "name": "stdout",
     "output_type": "stream",
     "text": [
      "Avg 1-(normalized) DL distance acitivty suffix prediction validation set: 0.30314451456069946\n",
      "Percentage of suffixes predicted to END: too early - 0.03486078213205731 ; right moment - 0.10323078288292593 ; too late - 0.8619084349850168\n",
      "Too early instances - avg amount of events too early: 9.796749114990234\n",
      "Too late instances - avg amount of events too late: 43.76560592651367\n",
      "Avg absolute amount of events predicted too early / too late: 38.06346893310547\n",
      "Avg MAE TTNE prediction validation set: 1028.8328125 (minutes)'\n",
      "Avg MAE RRT prediction validation set: 0.4907818138599396 (standardized) ; 8240.2421875 (minutes)'\n",
      "Avg validation loss: 1.9253044128417969\n",
      " \n",
      "------------------------------------\n",
      "EPOCH 28:\n",
      "____________________________________\n"
     ]
    },
    {
     "name": "stderr",
     "output_type": "stream",
     "text": [
      "Batch calculation at epoch 28.: 1607it [00:52, 44.96it/s]"
     ]
    },
    {
     "name": "stdout",
     "output_type": "stream",
     "text": [
      "------------------------------------------------------------\n",
      "Epoch 28, batch 1599:\n",
      "Average original gradient norm: 0.3900803948752582 (over last 1600 batches)\n",
      "Average clipped gradient norm: 0.3792566099576652 (over last 1600 batches)\n",
      "Running average global loss: 1.9119359090179204 (over last 1600 batches)\n",
      "Running average activity prediction loss: 1.4817552034556867 (Cross Entropy over last 1600 batches)\n",
      "Running average (complete) remaining runtime prediction loss: 0.430180705357343 (MAE over last 1600 batches)\n",
      "------------------------------------------------------------\n"
     ]
    },
    {
     "name": "stderr",
     "output_type": "stream",
     "text": [
      "Batch calculation at epoch 28.: 3206it [01:33, 36.53it/s]"
     ]
    },
    {
     "name": "stdout",
     "output_type": "stream",
     "text": [
      "------------------------------------------------------------\n",
      "Epoch 28, batch 3199:\n",
      "Average original gradient norm: 0.3757449044194072 (over last 1600 batches)\n",
      "Average clipped gradient norm: 0.37223785794340075 (over last 1600 batches)\n",
      "Running average global loss: 1.9099563546478748 (over last 1600 batches)\n",
      "Running average activity prediction loss: 1.4804139195382595 (Cross Entropy over last 1600 batches)\n",
      "Running average (complete) remaining runtime prediction loss: 0.4295424375869334 (MAE over last 1600 batches)\n",
      "------------------------------------------------------------\n"
     ]
    },
    {
     "name": "stderr",
     "output_type": "stream",
     "text": [
      "Batch calculation at epoch 28.: 4798it [02:12, 36.33it/s]\n"
     ]
    },
    {
     "name": "stdout",
     "output_type": "stream",
     "text": [
      "=======================================\n",
      "End of epoch 28\n",
      "=======================================\n",
      "Running average global loss: 1.9069887099415064 (over last 1600 batches)\n",
      "Running average activity prediction loss: 1.4795250853151083 (Cross Entropy over last 1600 batches)\n",
      "Running average (complete) remaining runtime prediction loss: 0.42746362507343294 (MAE over last 1600 batches)\n"
     ]
    },
    {
     "name": "stderr",
     "output_type": "stream",
     "text": [
      "Validation batch calculation: 72it [10:37,  8.85s/it]\n"
     ]
    },
    {
     "name": "stdout",
     "output_type": "stream",
     "text": [
      "Avg 1-(normalized) DL distance acitivty suffix prediction validation set: 0.31023234128952026\n",
      "Percentage of suffixes predicted to END: too early - 0.021256407981050808 ; right moment - 0.09803613725878346 ; too late - 0.8807074547601658\n",
      "Too early instances - avg amount of events too early: 7.05394983291626\n",
      "Too late instances - avg amount of events too late: 42.977394104003906\n",
      "Avg absolute amount of events predicted too early / too late: 38.000450134277344\n",
      "Avg MAE TTNE prediction validation set: 1021.0737630208333 (minutes)'\n",
      "Avg MAE RRT prediction validation set: 0.48943936824798584 (standardized) ; 8218.450520833334 (minutes)'\n",
      "Avg validation loss: 1.9260145425796509\n",
      " \n",
      "------------------------------------\n",
      "EPOCH 29:\n",
      "____________________________________\n"
     ]
    },
    {
     "name": "stderr",
     "output_type": "stream",
     "text": [
      "Batch calculation at epoch 29.: 1611it [00:47, 54.03it/s]"
     ]
    },
    {
     "name": "stdout",
     "output_type": "stream",
     "text": [
      "------------------------------------------------------------\n",
      "Epoch 29, batch 1599:\n",
      "Average original gradient norm: 0.38445921082049606 (over last 1600 batches)\n",
      "Average clipped gradient norm: 0.372759900726378 (over last 1600 batches)\n",
      "Running average global loss: 1.906713589951396 (over last 1600 batches)\n",
      "Running average activity prediction loss: 1.4793770464509726 (Cross Entropy over last 1600 batches)\n",
      "Running average (complete) remaining runtime prediction loss: 0.42733654484152794 (MAE over last 1600 batches)\n",
      "------------------------------------------------------------\n"
     ]
    },
    {
     "name": "stderr",
     "output_type": "stream",
     "text": [
      "Batch calculation at epoch 29.: 3201it [01:30, 70.29it/s]"
     ]
    },
    {
     "name": "stdout",
     "output_type": "stream",
     "text": [
      "------------------------------------------------------------\n",
      "Epoch 29, batch 3199:\n",
      "Average original gradient norm: 0.37344616632908584 (over last 1600 batches)\n",
      "Average clipped gradient norm: 0.3688192417100072 (over last 1600 batches)\n",
      "Running average global loss: 1.9095194406807423 (over last 1600 batches)\n",
      "Running average activity prediction loss: 1.4808788886666298 (Cross Entropy over last 1600 batches)\n",
      "Running average (complete) remaining runtime prediction loss: 0.42864055221900343 (MAE over last 1600 batches)\n",
      "------------------------------------------------------------\n"
     ]
    },
    {
     "name": "stderr",
     "output_type": "stream",
     "text": [
      "Batch calculation at epoch 29.: 4798it [02:14, 35.61it/s]\n"
     ]
    },
    {
     "name": "stdout",
     "output_type": "stream",
     "text": [
      "=======================================\n",
      "End of epoch 29\n",
      "=======================================\n",
      "Running average global loss: 1.9096255286037922 (over last 1600 batches)\n",
      "Running average activity prediction loss: 1.4789197988808156 (Cross Entropy over last 1600 batches)\n",
      "Running average (complete) remaining runtime prediction loss: 0.43070573011413216 (MAE over last 1600 batches)\n"
     ]
    },
    {
     "name": "stderr",
     "output_type": "stream",
     "text": [
      "Validation batch calculation: 72it [10:22,  8.65s/it]\n"
     ]
    },
    {
     "name": "stdout",
     "output_type": "stream",
     "text": [
      "Avg 1-(normalized) DL distance acitivty suffix prediction validation set: 0.30734163522720337\n",
      "Percentage of suffixes predicted to END: too early - 0.02223253718506181 ; right moment - 0.09949009194727537 ; too late - 0.8782773708676628\n",
      "Too early instances - avg amount of events too early: 7.747006416320801\n",
      "Too late instances - avg amount of events too late: 43.99856185913086\n",
      "Avg absolute amount of events predicted too early / too late: 38.81517791748047\n",
      "Avg MAE TTNE prediction validation set: 1033.2958984375 (minutes)'\n",
      "Avg MAE RRT prediction validation set: 0.4883999228477478 (standardized) ; 8196.746354166668 (minutes)'\n",
      "Avg validation loss: 1.928769588470459\n",
      " \n",
      "------------------------------------\n",
      "EPOCH 30:\n",
      "____________________________________\n"
     ]
    },
    {
     "name": "stderr",
     "output_type": "stream",
     "text": [
      "Batch calculation at epoch 30.: 1607it [00:36, 59.48it/s]"
     ]
    },
    {
     "name": "stdout",
     "output_type": "stream",
     "text": [
      "------------------------------------------------------------\n",
      "Epoch 30, batch 1599:\n",
      "Average original gradient norm: 0.4139942334871739 (over last 1600 batches)\n",
      "Average clipped gradient norm: 0.38522887173108755 (over last 1600 batches)\n",
      "Running average global loss: 1.9104727965593338 (over last 1600 batches)\n",
      "Running average activity prediction loss: 1.4801152024418116 (Cross Entropy over last 1600 batches)\n",
      "Running average (complete) remaining runtime prediction loss: 0.4303575919009745 (MAE over last 1600 batches)\n",
      "------------------------------------------------------------\n"
     ]
    },
    {
     "name": "stderr",
     "output_type": "stream",
     "text": [
      "Batch calculation at epoch 30.: 3207it [01:08, 53.59it/s]"
     ]
    },
    {
     "name": "stdout",
     "output_type": "stream",
     "text": [
      "------------------------------------------------------------\n",
      "Epoch 30, batch 3199:\n",
      "Average original gradient norm: 0.38167725160717964 (over last 1600 batches)\n",
      "Average clipped gradient norm: 0.3703979851305485 (over last 1600 batches)\n",
      "Running average global loss: 1.9051823412626983 (over last 1600 batches)\n",
      "Running average activity prediction loss: 1.478203551620245 (Cross Entropy over last 1600 batches)\n",
      "Running average (complete) remaining runtime prediction loss: 0.42697878973558545 (MAE over last 1600 batches)\n",
      "------------------------------------------------------------\n"
     ]
    },
    {
     "name": "stderr",
     "output_type": "stream",
     "text": [
      "Batch calculation at epoch 30.: 4798it [01:41, 47.30it/s]\n"
     ]
    },
    {
     "name": "stdout",
     "output_type": "stream",
     "text": [
      "=======================================\n",
      "End of epoch 30\n",
      "=======================================\n",
      "Running average global loss: 1.9094994881004095 (over last 1600 batches)\n",
      "Running average activity prediction loss: 1.4807212033122779 (Cross Entropy over last 1600 batches)\n",
      "Running average (complete) remaining runtime prediction loss: 0.4287782828323543 (MAE over last 1600 batches)\n"
     ]
    },
    {
     "name": "stderr",
     "output_type": "stream",
     "text": [
      "Validation batch calculation: 72it [11:25,  9.52s/it]\n"
     ]
    },
    {
     "name": "stdout",
     "output_type": "stream",
     "text": [
      "Avg 1-(normalized) DL distance acitivty suffix prediction validation set: 0.309853732585907\n",
      "Percentage of suffixes predicted to END: too early - 0.016710239800132427 ; right moment - 0.0968483996259309 ; too late - 0.8864413605739366\n",
      "Too early instances - avg amount of events too early: 7.278186321258545\n",
      "Too late instances - avg amount of events too late: 43.45786666870117\n",
      "Avg absolute amount of events predicted too early / too late: 38.64447021484375\n",
      "Avg MAE TTNE prediction validation set: 996.1780598958334 (minutes)'\n",
      "Avg MAE RRT prediction validation set: 0.4906577169895172 (standardized) ; 8238.99375 (minutes)'\n",
      "Avg validation loss: 1.9268653392791748\n",
      " \n",
      "------------------------------------\n",
      "EPOCH 31:\n",
      "____________________________________\n"
     ]
    },
    {
     "name": "stderr",
     "output_type": "stream",
     "text": [
      "Batch calculation at epoch 31.: 1605it [00:38, 41.44it/s]"
     ]
    },
    {
     "name": "stdout",
     "output_type": "stream",
     "text": [
      "------------------------------------------------------------\n",
      "Epoch 31, batch 1599:\n",
      "Average original gradient norm: 0.3727102764323354 (over last 1600 batches)\n",
      "Average clipped gradient norm: 0.3649771726503968 (over last 1600 batches)\n",
      "Running average global loss: 1.9084929890185593 (over last 1600 batches)\n",
      "Running average activity prediction loss: 1.479085044041276 (Cross Entropy over last 1600 batches)\n",
      "Running average (complete) remaining runtime prediction loss: 0.42940794533118604 (MAE over last 1600 batches)\n",
      "------------------------------------------------------------\n"
     ]
    },
    {
     "name": "stderr",
     "output_type": "stream",
     "text": [
      "Batch calculation at epoch 31.: 3202it [01:52, 22.56it/s]"
     ]
    },
    {
     "name": "stdout",
     "output_type": "stream",
     "text": [
      "------------------------------------------------------------\n",
      "Epoch 31, batch 3199:\n",
      "Average original gradient norm: 0.38014166085980833 (over last 1600 batches)\n",
      "Average clipped gradient norm: 0.3711129694338888 (over last 1600 batches)\n",
      "Running average global loss: 1.9071003292500972 (over last 1600 batches)\n",
      "Running average activity prediction loss: 1.4786482498794795 (Cross Entropy over last 1600 batches)\n",
      "Running average (complete) remaining runtime prediction loss: 0.4284520802460611 (MAE over last 1600 batches)\n",
      "------------------------------------------------------------\n"
     ]
    },
    {
     "name": "stderr",
     "output_type": "stream",
     "text": [
      "Batch calculation at epoch 31.: 4798it [02:42, 29.56it/s]\n"
     ]
    },
    {
     "name": "stdout",
     "output_type": "stream",
     "text": [
      "=======================================\n",
      "End of epoch 31\n",
      "=======================================\n",
      "Running average global loss: 1.9080345298349857 (over last 1600 batches)\n",
      "Running average activity prediction loss: 1.479813312664628 (Cross Entropy over last 1600 batches)\n",
      "Running average (complete) remaining runtime prediction loss: 0.4282212169654667 (MAE over last 1600 batches)\n"
     ]
    },
    {
     "name": "stderr",
     "output_type": "stream",
     "text": [
      "Validation batch calculation: 72it [09:47,  8.16s/it]\n"
     ]
    },
    {
     "name": "stdout",
     "output_type": "stream",
     "text": [
      "Avg 1-(normalized) DL distance acitivty suffix prediction validation set: 0.30819863080978394\n",
      "Percentage of suffixes predicted to END: too early - 0.023980013242592 ; right moment - 0.10166761094083838 ; too late - 0.8743523758165697\n",
      "Too early instances - avg amount of events too early: 8.882152557373047\n",
      "Too late instances - avg amount of events too late: 43.31561279296875\n",
      "Avg absolute amount of events predicted too early / too late: 38.08610534667969\n",
      "Avg MAE TTNE prediction validation set: 1029.3349609375 (minutes)'\n",
      "Avg MAE RRT prediction validation set: 0.4912690222263336 (standardized) ; 8239.958854166667 (minutes)'\n",
      "Avg validation loss: 1.9262192249298096\n",
      " \n",
      "------------------------------------\n",
      "EPOCH 32:\n",
      "____________________________________\n"
     ]
    },
    {
     "name": "stderr",
     "output_type": "stream",
     "text": [
      "Batch calculation at epoch 32.: 1602it [00:49, 22.36it/s]"
     ]
    },
    {
     "name": "stdout",
     "output_type": "stream",
     "text": [
      "------------------------------------------------------------\n",
      "Epoch 32, batch 1599:\n",
      "Average original gradient norm: 0.3872298546228558 (over last 1600 batches)\n",
      "Average clipped gradient norm: 0.37757502467371523 (over last 1600 batches)\n",
      "Running average global loss: 1.9076118314266204 (over last 1600 batches)\n",
      "Running average activity prediction loss: 1.4788558036088943 (Cross Entropy over last 1600 batches)\n",
      "Running average (complete) remaining runtime prediction loss: 0.428756029009819 (MAE over last 1600 batches)\n",
      "------------------------------------------------------------\n"
     ]
    },
    {
     "name": "stderr",
     "output_type": "stream",
     "text": [
      "Batch calculation at epoch 32.: 3207it [01:47, 45.50it/s]"
     ]
    },
    {
     "name": "stdout",
     "output_type": "stream",
     "text": [
      "------------------------------------------------------------\n",
      "Epoch 32, batch 3199:\n",
      "Average original gradient norm: 0.6452155332453549 (over last 1600 batches)\n",
      "Average clipped gradient norm: 0.4459824621118605 (over last 1600 batches)\n",
      "Running average global loss: 1.9189167050272227 (over last 1600 batches)\n",
      "Running average activity prediction loss: 1.4897022712230683 (Cross Entropy over last 1600 batches)\n",
      "Running average (complete) remaining runtime prediction loss: 0.42921443589031694 (MAE over last 1600 batches)\n",
      "------------------------------------------------------------\n"
     ]
    },
    {
     "name": "stderr",
     "output_type": "stream",
     "text": [
      "Batch calculation at epoch 32.: 4798it [02:37, 30.54it/s]\n"
     ]
    },
    {
     "name": "stdout",
     "output_type": "stream",
     "text": [
      "=======================================\n",
      "End of epoch 32\n",
      "=======================================\n",
      "Running average global loss: 1.9073168157041074 (over last 1600 batches)\n",
      "Running average activity prediction loss: 1.4788735136389732 (Cross Entropy over last 1600 batches)\n",
      "Running average (complete) remaining runtime prediction loss: 0.4284433039464057 (MAE over last 1600 batches)\n"
     ]
    },
    {
     "name": "stderr",
     "output_type": "stream",
     "text": [
      "Validation batch calculation: 72it [08:48,  7.35s/it]\n"
     ]
    },
    {
     "name": "stdout",
     "output_type": "stream",
     "text": [
      "Avg 1-(normalized) DL distance acitivty suffix prediction validation set: 0.30327773094177246\n",
      "Percentage of suffixes predicted to END: too early - 0.027652443394745284 ; right moment - 0.10228195799231384 ; too late - 0.8700655986129409\n",
      "Too early instances - avg amount of events too early: 10.218217849731445\n",
      "Too late instances - avg amount of events too late: 43.26586151123047\n",
      "Avg absolute amount of events predicted too early / too late: 37.926692962646484\n",
      "Avg MAE TTNE prediction validation set: 1014.5997395833333 (minutes)'\n",
      "Avg MAE RRT prediction validation set: 0.4952846169471741 (standardized) ; 8316.5421875 (minutes)'\n",
      "Avg validation loss: 1.9362776279449463\n",
      " \n",
      "------------------------------------\n",
      "EPOCH 33:\n",
      "____________________________________\n"
     ]
    },
    {
     "name": "stderr",
     "output_type": "stream",
     "text": [
      "Batch calculation at epoch 33.: 1607it [00:41, 68.03it/s]"
     ]
    },
    {
     "name": "stdout",
     "output_type": "stream",
     "text": [
      "------------------------------------------------------------\n",
      "Epoch 33, batch 1599:\n",
      "Average original gradient norm: 0.37785232954658565 (over last 1600 batches)\n",
      "Average clipped gradient norm: 0.368589349174872 (over last 1600 batches)\n",
      "Running average global loss: 1.9061586352437734 (over last 1600 batches)\n",
      "Running average activity prediction loss: 1.4777594724297523 (Cross Entropy over last 1600 batches)\n",
      "Running average (complete) remaining runtime prediction loss: 0.4283991619758308 (MAE over last 1600 batches)\n",
      "------------------------------------------------------------\n"
     ]
    },
    {
     "name": "stderr",
     "output_type": "stream",
     "text": [
      "Batch calculation at epoch 33.: 3210it [01:14, 54.28it/s]"
     ]
    },
    {
     "name": "stdout",
     "output_type": "stream",
     "text": [
      "------------------------------------------------------------\n",
      "Epoch 33, batch 3199:\n",
      "Average original gradient norm: 0.40328312646597625 (over last 1600 batches)\n",
      "Average clipped gradient norm: 0.388711987324059 (over last 1600 batches)\n",
      "Running average global loss: 1.9073401127010583 (over last 1600 batches)\n",
      "Running average activity prediction loss: 1.4796355842798947 (Cross Entropy over last 1600 batches)\n",
      "Running average (complete) remaining runtime prediction loss: 0.4277045296691358 (MAE over last 1600 batches)\n",
      "------------------------------------------------------------\n"
     ]
    },
    {
     "name": "stderr",
     "output_type": "stream",
     "text": [
      "Batch calculation at epoch 33.: 4798it [01:46, 45.14it/s]\n"
     ]
    },
    {
     "name": "stdout",
     "output_type": "stream",
     "text": [
      "=======================================\n",
      "End of epoch 33\n",
      "=======================================\n",
      "Running average global loss: 1.908940090686083 (over last 1600 batches)\n",
      "Running average activity prediction loss: 1.4792629051953554 (Cross Entropy over last 1600 batches)\n",
      "Running average (complete) remaining runtime prediction loss: 0.42967718502506613 (MAE over last 1600 batches)\n"
     ]
    },
    {
     "name": "stderr",
     "output_type": "stream",
     "text": [
      "Validation batch calculation: 72it [10:55,  9.10s/it]\n"
     ]
    },
    {
     "name": "stdout",
     "output_type": "stream",
     "text": [
      "Avg 1-(normalized) DL distance acitivty suffix prediction validation set: 0.3070305585861206\n",
      "Percentage of suffixes predicted to END: too early - 0.01694915254237288 ; right moment - 0.0994218311637781 ; too late - 0.883629016293849\n",
      "Too early instances - avg amount of events too early: 7.294402122497559\n",
      "Too late instances - avg amount of events too late: 43.520179748535156\n",
      "Avg absolute amount of events predicted too early / too late: 38.57933044433594\n",
      "Avg MAE TTNE prediction validation set: 1028.3781901041666 (minutes)'\n",
      "Avg MAE RRT prediction validation set: 0.49261870980262756 (standardized) ; 8271.927083333334 (minutes)'\n",
      "Avg validation loss: 1.9301159381866455\n",
      " \n",
      "------------------------------------\n",
      "EPOCH 34:\n",
      "____________________________________\n"
     ]
    },
    {
     "name": "stderr",
     "output_type": "stream",
     "text": [
      "Batch calculation at epoch 34.: 1602it [01:10, 21.57it/s]"
     ]
    },
    {
     "name": "stdout",
     "output_type": "stream",
     "text": [
      "------------------------------------------------------------\n",
      "Epoch 34, batch 1599:\n",
      "Average original gradient norm: 0.37043366353958845 (over last 1600 batches)\n",
      "Average clipped gradient norm: 0.36417921017855404 (over last 1600 batches)\n",
      "Running average global loss: 1.9077264605462552 (over last 1600 batches)\n",
      "Running average activity prediction loss: 1.4787113018333913 (Cross Entropy over last 1600 batches)\n",
      "Running average (complete) remaining runtime prediction loss: 0.42901516020298003 (MAE over last 1600 batches)\n",
      "------------------------------------------------------------\n"
     ]
    },
    {
     "name": "stderr",
     "output_type": "stream",
     "text": [
      "Batch calculation at epoch 34.: 3205it [01:52, 36.21it/s]"
     ]
    },
    {
     "name": "stdout",
     "output_type": "stream",
     "text": [
      "------------------------------------------------------------\n",
      "Epoch 34, batch 3199:\n",
      "Average original gradient norm: 0.36535788102075456 (over last 1600 batches)\n",
      "Average clipped gradient norm: 0.361434294115752 (over last 1600 batches)\n",
      "Running average global loss: 1.9052457060664891 (over last 1600 batches)\n",
      "Running average activity prediction loss: 1.4784591360390187 (Cross Entropy over last 1600 batches)\n",
      "Running average (complete) remaining runtime prediction loss: 0.4267865685746074 (MAE over last 1600 batches)\n",
      "------------------------------------------------------------\n"
     ]
    },
    {
     "name": "stderr",
     "output_type": "stream",
     "text": [
      "Batch calculation at epoch 34.: 4798it [02:30, 31.83it/s]\n"
     ]
    },
    {
     "name": "stdout",
     "output_type": "stream",
     "text": [
      "=======================================\n",
      "End of epoch 34\n",
      "=======================================\n",
      "Running average global loss: 1.911343225762248 (over last 1600 batches)\n",
      "Running average activity prediction loss: 1.481801010966301 (Cross Entropy over last 1600 batches)\n",
      "Running average (complete) remaining runtime prediction loss: 0.4295422149263322 (MAE over last 1600 batches)\n"
     ]
    },
    {
     "name": "stderr",
     "output_type": "stream",
     "text": [
      "Validation batch calculation: 72it [08:34,  7.14s/it]\n"
     ]
    },
    {
     "name": "stdout",
     "output_type": "stream",
     "text": [
      "Avg 1-(normalized) DL distance acitivty suffix prediction validation set: 0.31125879287719727\n",
      "Percentage of suffixes predicted to END: too early - 0.03481299958360922 ; right moment - 0.10453456384772385 ; too late - 0.860652436568667\n",
      "Too early instances - avg amount of events too early: 11.364509582519531\n",
      "Too late instances - avg amount of events too late: 43.68354034423828\n",
      "Avg absolute amount of events predicted too early / too late: 37.99197769165039\n",
      "Avg MAE TTNE prediction validation set: 1020.0356770833333 (minutes)'\n",
      "Avg MAE RRT prediction validation set: 0.4914703369140625 (standardized) ; 8245.244270833333 (minutes)'\n",
      "Avg validation loss: 1.9225718975067139\n",
      " \n",
      "------------------------------------\n",
      "EPOCH 35:\n",
      "____________________________________\n"
     ]
    },
    {
     "name": "stderr",
     "output_type": "stream",
     "text": [
      "Batch calculation at epoch 35.: 1603it [00:45, 24.84it/s]"
     ]
    },
    {
     "name": "stdout",
     "output_type": "stream",
     "text": [
      "------------------------------------------------------------\n",
      "Epoch 35, batch 1599:\n",
      "Average original gradient norm: 0.4133705738093704 (over last 1600 batches)\n",
      "Average clipped gradient norm: 0.39308014332316815 (over last 1600 batches)\n",
      "Running average global loss: 1.9090723632276059 (over last 1600 batches)\n",
      "Running average activity prediction loss: 1.4820966401696205 (Cross Entropy over last 1600 batches)\n",
      "Running average (complete) remaining runtime prediction loss: 0.42697572080418467 (MAE over last 1600 batches)\n",
      "------------------------------------------------------------\n"
     ]
    },
    {
     "name": "stderr",
     "output_type": "stream",
     "text": [
      "Batch calculation at epoch 35.: 3208it [01:19, 44.40it/s]"
     ]
    },
    {
     "name": "stdout",
     "output_type": "stream",
     "text": [
      "------------------------------------------------------------\n",
      "Epoch 35, batch 3199:\n",
      "Average original gradient norm: 0.3757698174472898 (over last 1600 batches)\n",
      "Average clipped gradient norm: 0.368847578978166 (over last 1600 batches)\n",
      "Running average global loss: 1.9096357680112124 (over last 1600 batches)\n",
      "Running average activity prediction loss: 1.4797902234643698 (Cross Entropy over last 1600 batches)\n",
      "Running average (complete) remaining runtime prediction loss: 0.42984554536640646 (MAE over last 1600 batches)\n",
      "------------------------------------------------------------\n"
     ]
    },
    {
     "name": "stderr",
     "output_type": "stream",
     "text": [
      "Batch calculation at epoch 35.: 4798it [01:48, 44.21it/s]\n"
     ]
    },
    {
     "name": "stdout",
     "output_type": "stream",
     "text": [
      "=======================================\n",
      "End of epoch 35\n",
      "=======================================\n",
      "Running average global loss: 1.9058665706962348 (over last 1600 batches)\n",
      "Running average activity prediction loss: 1.4776734840124846 (Cross Entropy over last 1600 batches)\n",
      "Running average (complete) remaining runtime prediction loss: 0.4281930864416063 (MAE over last 1600 batches)\n"
     ]
    },
    {
     "name": "stderr",
     "output_type": "stream",
     "text": [
      "Validation batch calculation: 72it [08:22,  6.98s/it]\n"
     ]
    },
    {
     "name": "stdout",
     "output_type": "stream",
     "text": [
      "Avg 1-(normalized) DL distance acitivty suffix prediction validation set: 0.30723267793655396\n",
      "Percentage of suffixes predicted to END: too early - 0.025270142050690458 ; right moment - 0.10165395878413892 ; too late - 0.8730758991651706\n",
      "Too early instances - avg amount of events too early: 8.803079605102539\n",
      "Too late instances - avg amount of events too late: 43.17206573486328\n",
      "Avg absolute amount of events predicted too early / too late: 37.914947509765625\n",
      "Avg MAE TTNE prediction validation set: 996.6241536458333 (minutes)'\n",
      "Avg MAE RRT prediction validation set: 0.49172571301460266 (standardized) ; 8256.927604166667 (minutes)'\n",
      "Avg validation loss: 1.926006555557251\n",
      " \n",
      "------------------------------------\n",
      "EPOCH 36:\n",
      "____________________________________\n"
     ]
    },
    {
     "name": "stderr",
     "output_type": "stream",
     "text": [
      "Batch calculation at epoch 36.: 1604it [00:41, 37.78it/s]"
     ]
    },
    {
     "name": "stdout",
     "output_type": "stream",
     "text": [
      "------------------------------------------------------------\n",
      "Epoch 36, batch 1599:\n",
      "Average original gradient norm: 0.3974522227887064 (over last 1600 batches)\n",
      "Average clipped gradient norm: 0.3839487314317375 (over last 1600 batches)\n",
      "Running average global loss: 1.9096567469090224 (over last 1600 batches)\n",
      "Running average activity prediction loss: 1.4799038609862327 (Cross Entropy over last 1600 batches)\n",
      "Running average (complete) remaining runtime prediction loss: 0.429752884209156 (MAE over last 1600 batches)\n",
      "------------------------------------------------------------\n"
     ]
    },
    {
     "name": "stderr",
     "output_type": "stream",
     "text": [
      "Batch calculation at epoch 36.: 3206it [01:31, 33.91it/s]"
     ]
    },
    {
     "name": "stdout",
     "output_type": "stream",
     "text": [
      "------------------------------------------------------------\n",
      "Epoch 36, batch 3199:\n",
      "Average original gradient norm: 0.3738976983260363 (over last 1600 batches)\n",
      "Average clipped gradient norm: 0.36518757755868136 (over last 1600 batches)\n",
      "Running average global loss: 1.9053103598207235 (over last 1600 batches)\n",
      "Running average activity prediction loss: 1.4788296637684106 (Cross Entropy over last 1600 batches)\n",
      "Running average (complete) remaining runtime prediction loss: 0.4264806980639696 (MAE over last 1600 batches)\n",
      "------------------------------------------------------------\n"
     ]
    },
    {
     "name": "stderr",
     "output_type": "stream",
     "text": [
      "Batch calculation at epoch 36.: 4798it [02:32, 31.49it/s]\n"
     ]
    },
    {
     "name": "stdout",
     "output_type": "stream",
     "text": [
      "=======================================\n",
      "End of epoch 36\n",
      "=======================================\n",
      "Running average global loss: 1.9053464870899917 (over last 1600 batches)\n",
      "Running average activity prediction loss: 1.476831236258149 (Cross Entropy over last 1600 batches)\n",
      "Running average (complete) remaining runtime prediction loss: 0.4285152501799166 (MAE over last 1600 batches)\n"
     ]
    },
    {
     "name": "stderr",
     "output_type": "stream",
     "text": [
      "Validation batch calculation: 72it [10:19,  8.61s/it]\n"
     ]
    },
    {
     "name": "stdout",
     "output_type": "stream",
     "text": [
      "Avg 1-(normalized) DL distance acitivty suffix prediction validation set: 0.3051958680152893\n",
      "Percentage of suffixes predicted to END: too early - 0.01831436821231834 ; right moment - 0.09993378704000765 ; too late - 0.881751844747674\n",
      "Too early instances - avg amount of events too early: 8.032425880432129\n",
      "Too late instances - avg amount of events too late: 43.948326110839844\n",
      "Avg absolute amount of events predicted too early / too late: 38.898624420166016\n",
      "Avg MAE TTNE prediction validation set: 1016.9024739583333 (minutes)'\n",
      "Avg MAE RRT prediction validation set: 0.48943525552749634 (standardized) ; 8218.4703125 (minutes)'\n",
      "Avg validation loss: 1.9338289499282837\n",
      " \n",
      "------------------------------------\n",
      "EPOCH 37:\n",
      "____________________________________\n"
     ]
    },
    {
     "name": "stderr",
     "output_type": "stream",
     "text": [
      "Batch calculation at epoch 37.: 1607it [00:51, 44.33it/s]"
     ]
    },
    {
     "name": "stdout",
     "output_type": "stream",
     "text": [
      "------------------------------------------------------------\n",
      "Epoch 37, batch 1599:\n",
      "Average original gradient norm: 0.4207893543783575 (over last 1600 batches)\n",
      "Average clipped gradient norm: 0.3782464048359543 (over last 1600 batches)\n",
      "Running average global loss: 1.9060395681858062 (over last 1600 batches)\n",
      "Running average activity prediction loss: 1.4776347219198942 (Cross Entropy over last 1600 batches)\n",
      "Running average (complete) remaining runtime prediction loss: 0.4284048460051417 (MAE over last 1600 batches)\n",
      "------------------------------------------------------------\n"
     ]
    },
    {
     "name": "stderr",
     "output_type": "stream",
     "text": [
      "Batch calculation at epoch 37.: 3208it [01:29, 43.50it/s]"
     ]
    },
    {
     "name": "stdout",
     "output_type": "stream",
     "text": [
      "------------------------------------------------------------\n",
      "Epoch 37, batch 3199:\n",
      "Average original gradient norm: 0.4265796130616218 (over last 1600 batches)\n",
      "Average clipped gradient norm: 0.3568973819632083 (over last 1600 batches)\n",
      "Running average global loss: 1.906615590751171 (over last 1600 batches)\n",
      "Running average activity prediction loss: 1.4785272260010243 (Cross Entropy over last 1600 batches)\n",
      "Running average (complete) remaining runtime prediction loss: 0.428088365662843 (MAE over last 1600 batches)\n",
      "------------------------------------------------------------\n"
     ]
    },
    {
     "name": "stderr",
     "output_type": "stream",
     "text": [
      "Batch calculation at epoch 37.: 4798it [02:28, 32.37it/s]\n"
     ]
    },
    {
     "name": "stdout",
     "output_type": "stream",
     "text": [
      "=======================================\n",
      "End of epoch 37\n",
      "=======================================\n",
      "Running average global loss: 1.907381777316332 (over last 1600 batches)\n",
      "Running average activity prediction loss: 1.4792723888903856 (Cross Entropy over last 1600 batches)\n",
      "Running average (complete) remaining runtime prediction loss: 0.4281093883514404 (MAE over last 1600 batches)\n"
     ]
    },
    {
     "name": "stderr",
     "output_type": "stream",
     "text": [
      "Validation batch calculation: 72it [07:56,  6.62s/it]\n"
     ]
    },
    {
     "name": "stdout",
     "output_type": "stream",
     "text": [
      "Avg 1-(normalized) DL distance acitivty suffix prediction validation set: 0.30520033836364746\n",
      "Percentage of suffixes predicted to END: too early - 0.022580667180897903 ; right moment - 0.10043209075953774 ; too late - 0.8769872420595644\n",
      "Too early instances - avg amount of events too early: 7.912938594818115\n",
      "Too late instances - avg amount of events too late: 43.585384368896484\n",
      "Avg absolute amount of events predicted too early / too late: 38.40250778198242\n",
      "Avg MAE TTNE prediction validation set: 1019.473828125 (minutes)'\n",
      "Avg MAE RRT prediction validation set: 0.493597149848938 (standardized) ; 8278.686979166667 (minutes)'\n",
      "Avg validation loss: 1.9272249937057495\n",
      " \n",
      "------------------------------------\n",
      "EPOCH 38:\n",
      "____________________________________\n"
     ]
    },
    {
     "name": "stderr",
     "output_type": "stream",
     "text": [
      "Batch calculation at epoch 38.: 1611it [00:28, 71.03it/s]"
     ]
    },
    {
     "name": "stdout",
     "output_type": "stream",
     "text": [
      "------------------------------------------------------------\n",
      "Epoch 38, batch 1599:\n",
      "Average original gradient norm: 0.44029363749548794 (over last 1600 batches)\n",
      "Average clipped gradient norm: 0.38680035328492524 (over last 1600 batches)\n",
      "Running average global loss: 1.9087760487943888 (over last 1600 batches)\n",
      "Running average activity prediction loss: 1.4810305319726467 (Cross Entropy over last 1600 batches)\n",
      "Running average (complete) remaining runtime prediction loss: 0.4277455164119601 (MAE over last 1600 batches)\n",
      "------------------------------------------------------------\n"
     ]
    },
    {
     "name": "stderr",
     "output_type": "stream",
     "text": [
      "Batch calculation at epoch 38.: 3205it [00:57, 40.83it/s]"
     ]
    },
    {
     "name": "stdout",
     "output_type": "stream",
     "text": [
      "------------------------------------------------------------\n",
      "Epoch 38, batch 3199:\n",
      "Average original gradient norm: 0.5504330205265433 (over last 1600 batches)\n",
      "Average clipped gradient norm: 0.40797706932760774 (over last 1600 batches)\n",
      "Running average global loss: 1.9146499608457088 (over last 1600 batches)\n",
      "Running average activity prediction loss: 1.4846062953025103 (Cross Entropy over last 1600 batches)\n",
      "Running average (complete) remaining runtime prediction loss: 0.43004366571083663 (MAE over last 1600 batches)\n",
      "------------------------------------------------------------\n"
     ]
    },
    {
     "name": "stderr",
     "output_type": "stream",
     "text": [
      "Batch calculation at epoch 38.: 4798it [01:35, 50.07it/s]\n"
     ]
    },
    {
     "name": "stdout",
     "output_type": "stream",
     "text": [
      "=======================================\n",
      "End of epoch 38\n",
      "=======================================\n",
      "Running average global loss: 1.9043190570175648 (over last 1600 batches)\n",
      "Running average activity prediction loss: 1.4769783655554056 (Cross Entropy over last 1600 batches)\n",
      "Running average (complete) remaining runtime prediction loss: 0.42734069326892493 (MAE over last 1600 batches)\n"
     ]
    },
    {
     "name": "stderr",
     "output_type": "stream",
     "text": [
      "Validation batch calculation: 72it [08:30,  7.09s/it]\n"
     ]
    },
    {
     "name": "stdout",
     "output_type": "stream",
     "text": [
      "Avg 1-(normalized) DL distance acitivty suffix prediction validation set: 0.30630236864089966\n",
      "Percentage of suffixes predicted to END: too early - 0.025713837143422732 ; right moment - 0.10193382799647774 ; too late - 0.8723523348600996\n",
      "Too early instances - avg amount of events too early: 8.406689643859863\n",
      "Too late instances - avg amount of events too late: 42.85769271850586\n",
      "Avg absolute amount of events predicted too early / too late: 37.603179931640625\n",
      "Avg MAE TTNE prediction validation set: 1012.1724609375 (minutes)'\n",
      "Avg MAE RRT prediction validation set: 0.4926488399505615 (standardized) ; 8271.653125 (minutes)'\n",
      "Avg validation loss: 1.9306787252426147\n",
      " \n",
      "------------------------------------\n",
      "EPOCH 39:\n",
      "____________________________________\n"
     ]
    },
    {
     "name": "stderr",
     "output_type": "stream",
     "text": [
      "Batch calculation at epoch 39.: 1605it [00:34, 34.69it/s]"
     ]
    },
    {
     "name": "stdout",
     "output_type": "stream",
     "text": [
      "------------------------------------------------------------\n",
      "Epoch 39, batch 1599:\n",
      "Average original gradient norm: 0.3779391962755472 (over last 1600 batches)\n",
      "Average clipped gradient norm: 0.37348359142430126 (over last 1600 batches)\n",
      "Running average global loss: 1.9053231381624938 (over last 1600 batches)\n",
      "Running average activity prediction loss: 1.47588617131114 (Cross Entropy over last 1600 batches)\n",
      "Running average (complete) remaining runtime prediction loss: 0.4294369673356414 (MAE over last 1600 batches)\n",
      "------------------------------------------------------------\n"
     ]
    },
    {
     "name": "stderr",
     "output_type": "stream",
     "text": [
      "Batch calculation at epoch 39.: 3203it [01:48, 23.05it/s]"
     ]
    },
    {
     "name": "stdout",
     "output_type": "stream",
     "text": [
      "------------------------------------------------------------\n",
      "Epoch 39, batch 3199:\n",
      "Average original gradient norm: 0.3708950883708894 (over last 1600 batches)\n",
      "Average clipped gradient norm: 0.3656179886870086 (over last 1600 batches)\n",
      "Running average global loss: 1.9037427911162377 (over last 1600 batches)\n",
      "Running average activity prediction loss: 1.4777500489354134 (Cross Entropy over last 1600 batches)\n",
      "Running average (complete) remaining runtime prediction loss: 0.42599274139851334 (MAE over last 1600 batches)\n",
      "------------------------------------------------------------\n"
     ]
    },
    {
     "name": "stderr",
     "output_type": "stream",
     "text": [
      "Batch calculation at epoch 39.: 4798it [03:02, 26.24it/s]\n"
     ]
    },
    {
     "name": "stdout",
     "output_type": "stream",
     "text": [
      "=======================================\n",
      "End of epoch 39\n",
      "=======================================\n",
      "Running average global loss: 1.9072433001548053 (over last 1600 batches)\n",
      "Running average activity prediction loss: 1.4787286415696144 (Cross Entropy over last 1600 batches)\n",
      "Running average (complete) remaining runtime prediction loss: 0.42851465808227657 (MAE over last 1600 batches)\n"
     ]
    },
    {
     "name": "stderr",
     "output_type": "stream",
     "text": [
      "Validation batch calculation: 72it [10:05,  8.41s/it]\n"
     ]
    },
    {
     "name": "stdout",
     "output_type": "stream",
     "text": [
      "Avg 1-(normalized) DL distance acitivty suffix prediction validation set: 0.2976682782173157\n",
      "Percentage of suffixes predicted to END: too early - 0.015754588831170604 ; right moment - 0.09475961965091435 ; too late - 0.8894857915179151\n",
      "Too early instances - avg amount of events too early: 7.766464710235596\n",
      "Too late instances - avg amount of events too late: 43.706138610839844\n",
      "Avg absolute amount of events predicted too early / too late: 38.998348236083984\n",
      "Avg MAE TTNE prediction validation set: 1009.9630208333333 (minutes)'\n",
      "Avg MAE RRT prediction validation set: 0.49484455585479736 (standardized) ; 8307.472395833332 (minutes)'\n",
      "Avg validation loss: 1.9323145151138306\n",
      " \n",
      "------------------------------------\n",
      "EPOCH 40:\n",
      "____________________________________\n"
     ]
    },
    {
     "name": "stderr",
     "output_type": "stream",
     "text": [
      "Batch calculation at epoch 40.: 1604it [00:39, 41.48it/s]"
     ]
    },
    {
     "name": "stdout",
     "output_type": "stream",
     "text": [
      "------------------------------------------------------------\n",
      "Epoch 40, batch 1599:\n",
      "Average original gradient norm: 0.36659159265458585 (over last 1600 batches)\n",
      "Average clipped gradient norm: 0.35887765914201736 (over last 1600 batches)\n",
      "Running average global loss: 1.9052423282712698 (over last 1600 batches)\n",
      "Running average activity prediction loss: 1.47705043643713 (Cross Entropy over last 1600 batches)\n",
      "Running average (complete) remaining runtime prediction loss: 0.4281918923184276 (MAE over last 1600 batches)\n",
      "------------------------------------------------------------\n"
     ]
    },
    {
     "name": "stderr",
     "output_type": "stream",
     "text": [
      "Batch calculation at epoch 40.: 3202it [01:36, 16.33it/s]"
     ]
    },
    {
     "name": "stdout",
     "output_type": "stream",
     "text": [
      "------------------------------------------------------------\n",
      "Epoch 40, batch 3199:\n",
      "Average original gradient norm: 0.4200023383833468 (over last 1600 batches)\n",
      "Average clipped gradient norm: 0.3745581050403416 (over last 1600 batches)\n",
      "Running average global loss: 1.905196814611554 (over last 1600 batches)\n",
      "Running average activity prediction loss: 1.4775027443468571 (Cross Entropy over last 1600 batches)\n",
      "Running average (complete) remaining runtime prediction loss: 0.4276940701901913 (MAE over last 1600 batches)\n",
      "------------------------------------------------------------\n"
     ]
    },
    {
     "name": "stderr",
     "output_type": "stream",
     "text": [
      "Batch calculation at epoch 40.: 4798it [03:23, 23.54it/s]\n"
     ]
    },
    {
     "name": "stdout",
     "output_type": "stream",
     "text": [
      "=======================================\n",
      "End of epoch 40\n",
      "=======================================\n",
      "Running average global loss: 1.9077935018390417 (over last 1600 batches)\n",
      "Running average activity prediction loss: 1.4795647571980952 (Cross Entropy over last 1600 batches)\n",
      "Running average (complete) remaining runtime prediction loss: 0.4282287459075451 (MAE over last 1600 batches)\n"
     ]
    },
    {
     "name": "stderr",
     "output_type": "stream",
     "text": [
      "Validation batch calculation: 72it [11:25,  9.52s/it]\n"
     ]
    },
    {
     "name": "stdout",
     "output_type": "stream",
     "text": [
      "Avg 1-(normalized) DL distance acitivty suffix prediction validation set: 0.30385929346084595\n",
      "Percentage of suffixes predicted to END: too early - 0.022642101886045447 ; right moment - 0.10151743721714437 ; too late - 0.8758404608968102\n",
      "Too early instances - avg amount of events too early: 8.817304611206055\n",
      "Too late instances - avg amount of events too late: 43.360103607177734\n",
      "Avg absolute amount of events predicted too early / too late: 38.17617416381836\n",
      "Avg MAE TTNE prediction validation set: 1017.44765625 (minutes)'\n",
      "Avg MAE RRT prediction validation set: 0.49102771282196045 (standardized) ; 8230.7828125 (minutes)'\n",
      "Avg validation loss: 1.926142692565918\n",
      " \n",
      "------------------------------------\n",
      "EPOCH 41:\n",
      "____________________________________\n"
     ]
    },
    {
     "name": "stderr",
     "output_type": "stream",
     "text": [
      "Batch calculation at epoch 41.: 1607it [00:40, 44.26it/s]"
     ]
    },
    {
     "name": "stdout",
     "output_type": "stream",
     "text": [
      "------------------------------------------------------------\n",
      "Epoch 41, batch 1599:\n",
      "Average original gradient norm: 0.3778614171408117 (over last 1600 batches)\n",
      "Average clipped gradient norm: 0.3703173845820129 (over last 1600 batches)\n",
      "Running average global loss: 1.9045673367381095 (over last 1600 batches)\n",
      "Running average activity prediction loss: 1.4773160381615162 (Cross Entropy over last 1600 batches)\n",
      "Running average (complete) remaining runtime prediction loss: 0.42725129885599017 (MAE over last 1600 batches)\n",
      "------------------------------------------------------------\n"
     ]
    },
    {
     "name": "stderr",
     "output_type": "stream",
     "text": [
      "Batch calculation at epoch 41.: 3206it [01:15, 37.37it/s]"
     ]
    },
    {
     "name": "stdout",
     "output_type": "stream",
     "text": [
      "------------------------------------------------------------\n",
      "Epoch 41, batch 3199:\n",
      "Average original gradient norm: 0.3639776940271258 (over last 1600 batches)\n",
      "Average clipped gradient norm: 0.3593242063745856 (over last 1600 batches)\n",
      "Running average global loss: 1.9030777209997176 (over last 1600 batches)\n",
      "Running average activity prediction loss: 1.4765969206392766 (Cross Entropy over last 1600 batches)\n",
      "Running average (complete) remaining runtime prediction loss: 0.42648080134764316 (MAE over last 1600 batches)\n",
      "------------------------------------------------------------\n"
     ]
    },
    {
     "name": "stderr",
     "output_type": "stream",
     "text": [
      "Batch calculation at epoch 41.: 4798it [02:12, 36.15it/s]\n"
     ]
    },
    {
     "name": "stdout",
     "output_type": "stream",
     "text": [
      "=======================================\n",
      "End of epoch 41\n",
      "=======================================\n",
      "Running average global loss: 1.9092280416190623 (over last 1600 batches)\n",
      "Running average activity prediction loss: 1.4791307716071607 (Cross Entropy over last 1600 batches)\n",
      "Running average (complete) remaining runtime prediction loss: 0.43009726896882056 (MAE over last 1600 batches)\n"
     ]
    },
    {
     "name": "stderr",
     "output_type": "stream",
     "text": [
      "Validation batch calculation: 72it [09:41,  8.08s/it]\n"
     ]
    },
    {
     "name": "stdout",
     "output_type": "stream",
     "text": [
      "Avg 1-(normalized) DL distance acitivty suffix prediction validation set: 0.3188514709472656\n",
      "Percentage of suffixes predicted to END: too early - 0.03357747940230858 ; right moment - 0.10486221560851075 ; too late - 0.8615603049891807\n",
      "Too early instances - avg amount of events too early: 10.134173393249512\n",
      "Too late instances - avg amount of events too late: 42.889610290527344\n",
      "Avg absolute amount of events predicted too early / too late: 37.292266845703125\n",
      "Avg MAE TTNE prediction validation set: 1022.230859375 (minutes)'\n",
      "Avg MAE RRT prediction validation set: 0.4919759929180145 (standardized) ; 8255.05 (minutes)'\n",
      "Avg validation loss: 1.9238804578781128\n",
      " \n",
      "------------------------------------\n",
      "EPOCH 42:\n",
      "____________________________________\n"
     ]
    },
    {
     "name": "stderr",
     "output_type": "stream",
     "text": [
      "Batch calculation at epoch 42.: 1602it [00:32, 40.91it/s]"
     ]
    },
    {
     "name": "stdout",
     "output_type": "stream",
     "text": [
      "------------------------------------------------------------\n",
      "Epoch 42, batch 1599:\n",
      "Average original gradient norm: 0.3701192865148187 (over last 1600 batches)\n",
      "Average clipped gradient norm: 0.3573779222741723 (over last 1600 batches)\n",
      "Running average global loss: 1.9042619378119707 (over last 1600 batches)\n",
      "Running average activity prediction loss: 1.4760286658257247 (Cross Entropy over last 1600 batches)\n",
      "Running average (complete) remaining runtime prediction loss: 0.4282332709990442 (MAE over last 1600 batches)\n",
      "------------------------------------------------------------\n"
     ]
    },
    {
     "name": "stderr",
     "output_type": "stream",
     "text": [
      "Batch calculation at epoch 42.: 3209it [01:10, 45.54it/s]"
     ]
    },
    {
     "name": "stdout",
     "output_type": "stream",
     "text": [
      "------------------------------------------------------------\n",
      "Epoch 42, batch 3199:\n",
      "Average original gradient norm: 0.38772260935045777 (over last 1600 batches)\n",
      "Average clipped gradient norm: 0.3736676026228815 (over last 1600 batches)\n",
      "Running average global loss: 1.9039037393778562 (over last 1600 batches)\n",
      "Running average activity prediction loss: 1.4767597472667695 (Cross Entropy over last 1600 batches)\n",
      "Running average (complete) remaining runtime prediction loss: 0.42714399138465525 (MAE over last 1600 batches)\n",
      "------------------------------------------------------------\n"
     ]
    },
    {
     "name": "stderr",
     "output_type": "stream",
     "text": [
      "Batch calculation at epoch 42.: 4798it [01:42, 46.95it/s]\n"
     ]
    },
    {
     "name": "stdout",
     "output_type": "stream",
     "text": [
      "=======================================\n",
      "End of epoch 42\n",
      "=======================================\n",
      "Running average global loss: 1.9058229778707028 (over last 1600 batches)\n",
      "Running average activity prediction loss: 1.4775637938827275 (Cross Entropy over last 1600 batches)\n",
      "Running average (complete) remaining runtime prediction loss: 0.42825918419286607 (MAE over last 1600 batches)\n"
     ]
    },
    {
     "name": "stderr",
     "output_type": "stream",
     "text": [
      "Validation batch calculation: 72it [10:06,  8.43s/it]\n"
     ]
    },
    {
     "name": "stdout",
     "output_type": "stream",
     "text": [
      "Avg 1-(normalized) DL distance acitivty suffix prediction validation set: 0.3079081177711487\n",
      "Percentage of suffixes predicted to END: too early - 0.02144753817484317 ; right moment - 0.10121708976975638 ; too late - 0.8773353720554005\n",
      "Too early instances - avg amount of events too early: 9.602481842041016\n",
      "Too late instances - avg amount of events too late: 43.55540084838867\n",
      "Avg absolute amount of events predicted too early / too late: 38.418643951416016\n",
      "Avg MAE TTNE prediction validation set: 1027.00625 (minutes)'\n",
      "Avg MAE RRT prediction validation set: 0.4941551089286804 (standardized) ; 8291.2484375 (minutes)'\n",
      "Avg validation loss: 1.9323314428329468\n",
      " \n",
      "------------------------------------\n",
      "EPOCH 43:\n",
      "____________________________________\n"
     ]
    },
    {
     "name": "stderr",
     "output_type": "stream",
     "text": [
      "Batch calculation at epoch 43.: 1603it [00:32, 36.59it/s]"
     ]
    },
    {
     "name": "stdout",
     "output_type": "stream",
     "text": [
      "------------------------------------------------------------\n",
      "Epoch 43, batch 1599:\n",
      "Average original gradient norm: 0.37836050275713207 (over last 1600 batches)\n",
      "Average clipped gradient norm: 0.3663963642343879 (over last 1600 batches)\n",
      "Running average global loss: 1.9068005909770727 (over last 1600 batches)\n",
      "Running average activity prediction loss: 1.477154059931636 (Cross Entropy over last 1600 batches)\n",
      "Running average (complete) remaining runtime prediction loss: 0.42964653063565494 (MAE over last 1600 batches)\n",
      "------------------------------------------------------------\n"
     ]
    },
    {
     "name": "stderr",
     "output_type": "stream",
     "text": [
      "Batch calculation at epoch 43.: 3208it [01:05, 54.44it/s]"
     ]
    },
    {
     "name": "stdout",
     "output_type": "stream",
     "text": [
      "------------------------------------------------------------\n",
      "Epoch 43, batch 3199:\n",
      "Average original gradient norm: 0.3755300517193973 (over last 1600 batches)\n",
      "Average clipped gradient norm: 0.3685510500334203 (over last 1600 batches)\n",
      "Running average global loss: 1.900929789841175 (over last 1600 batches)\n",
      "Running average activity prediction loss: 1.4746448259800673 (Cross Entropy over last 1600 batches)\n",
      "Running average (complete) remaining runtime prediction loss: 0.4262849649041891 (MAE over last 1600 batches)\n",
      "------------------------------------------------------------\n"
     ]
    },
    {
     "name": "stderr",
     "output_type": "stream",
     "text": [
      "Batch calculation at epoch 43.: 4798it [01:35, 50.49it/s]\n"
     ]
    },
    {
     "name": "stdout",
     "output_type": "stream",
     "text": [
      "=======================================\n",
      "End of epoch 43\n",
      "=======================================\n",
      "Running average global loss: 1.9056772957742214 (over last 1600 batches)\n",
      "Running average activity prediction loss: 1.4783045665174723 (Cross Entropy over last 1600 batches)\n",
      "Running average (complete) remaining runtime prediction loss: 0.42737272853031755 (MAE over last 1600 batches)\n"
     ]
    },
    {
     "name": "stderr",
     "output_type": "stream",
     "text": [
      "Validation batch calculation: 72it [11:38,  9.71s/it]\n"
     ]
    },
    {
     "name": "stdout",
     "output_type": "stream",
     "text": [
      "Avg 1-(normalized) DL distance acitivty suffix prediction validation set: 0.30200380086898804\n",
      "Percentage of suffixes predicted to END: too early - 0.024901533819805182 ; right moment - 0.10211130603357066 ; too late - 0.8729871601466241\n",
      "Too early instances - avg amount of events too early: 9.260965347290039\n",
      "Too late instances - avg amount of events too late: 43.5557746887207\n",
      "Avg absolute amount of events predicted too early / too late: 38.25424575805664\n",
      "Avg MAE TTNE prediction validation set: 996.0689453125 (minutes)'\n",
      "Avg MAE RRT prediction validation set: 0.4908613860607147 (standardized) ; 8237.382291666667 (minutes)'\n",
      "Avg validation loss: 1.924311876296997\n",
      " \n",
      "------------------------------------\n",
      "EPOCH 44:\n",
      "____________________________________\n"
     ]
    },
    {
     "name": "stderr",
     "output_type": "stream",
     "text": [
      "Batch calculation at epoch 44.: 1602it [01:15, 23.46it/s]"
     ]
    },
    {
     "name": "stdout",
     "output_type": "stream",
     "text": [
      "------------------------------------------------------------\n",
      "Epoch 44, batch 1599:\n",
      "Average original gradient norm: 0.3901942130085081 (over last 1600 batches)\n",
      "Average clipped gradient norm: 0.37022622919641435 (over last 1600 batches)\n",
      "Running average global loss: 1.9041534481197595 (over last 1600 batches)\n",
      "Running average activity prediction loss: 1.4768198236823082 (Cross Entropy over last 1600 batches)\n",
      "Running average (complete) remaining runtime prediction loss: 0.42733362421393395 (MAE over last 1600 batches)\n",
      "------------------------------------------------------------\n"
     ]
    },
    {
     "name": "stderr",
     "output_type": "stream",
     "text": [
      "Batch calculation at epoch 44.: 3208it [02:13, 63.92it/s]"
     ]
    },
    {
     "name": "stdout",
     "output_type": "stream",
     "text": [
      "------------------------------------------------------------\n",
      "Epoch 44, batch 3199:\n",
      "Average original gradient norm: 0.38173787415958943 (over last 1600 batches)\n",
      "Average clipped gradient norm: 0.36712359660305083 (over last 1600 batches)\n",
      "Running average global loss: 1.903339623734355 (over last 1600 batches)\n",
      "Running average activity prediction loss: 1.4754784566164016 (Cross Entropy over last 1600 batches)\n",
      "Running average (complete) remaining runtime prediction loss: 0.4278611664660275 (MAE over last 1600 batches)\n",
      "------------------------------------------------------------\n"
     ]
    },
    {
     "name": "stderr",
     "output_type": "stream",
     "text": [
      "Batch calculation at epoch 44.: 4798it [02:54, 27.46it/s]\n"
     ]
    },
    {
     "name": "stdout",
     "output_type": "stream",
     "text": [
      "=======================================\n",
      "End of epoch 44\n",
      "=======================================\n",
      "Running average global loss: 1.910723365843296 (over last 1600 batches)\n",
      "Running average activity prediction loss: 1.4826256307214498 (Cross Entropy over last 1600 batches)\n",
      "Running average (complete) remaining runtime prediction loss: 0.4280977331660688 (MAE over last 1600 batches)\n"
     ]
    },
    {
     "name": "stderr",
     "output_type": "stream",
     "text": [
      "Validation batch calculation: 72it [10:01,  8.35s/it]\n"
     ]
    },
    {
     "name": "stdout",
     "output_type": "stream",
     "text": [
      "Avg 1-(normalized) DL distance acitivty suffix prediction validation set: 0.3060184121131897\n",
      "Percentage of suffixes predicted to END: too early - 0.0192290627111818 ; right moment - 0.0985207888216141 ; too late - 0.8822501484672041\n",
      "Too early instances - avg amount of events too early: 7.800497055053711\n",
      "Too late instances - avg amount of events too late: 43.287967681884766\n",
      "Avg absolute amount of events predicted too early / too late: 38.34081268310547\n",
      "Avg MAE TTNE prediction validation set: 1021.8151692708333 (minutes)'\n",
      "Avg MAE RRT prediction validation set: 0.4949159622192383 (standardized) ; 8310.436979166667 (minutes)'\n",
      "Avg validation loss: 1.9309712648391724\n",
      " \n",
      "------------------------------------\n",
      "EPOCH 45:\n",
      "____________________________________\n"
     ]
    },
    {
     "name": "stderr",
     "output_type": "stream",
     "text": [
      "Batch calculation at epoch 45.: 1603it [01:42, 17.55it/s]"
     ]
    },
    {
     "name": "stdout",
     "output_type": "stream",
     "text": [
      "------------------------------------------------------------\n",
      "Epoch 45, batch 1599:\n",
      "Average original gradient norm: 0.38530691564083097 (over last 1600 batches)\n",
      "Average clipped gradient norm: 0.37078969307243825 (over last 1600 batches)\n",
      "Running average global loss: 1.9038200686126947 (over last 1600 batches)\n",
      "Running average activity prediction loss: 1.476537772938609 (Cross Entropy over last 1600 batches)\n",
      "Running average (complete) remaining runtime prediction loss: 0.4272822960652411 (MAE over last 1600 batches)\n",
      "------------------------------------------------------------\n"
     ]
    },
    {
     "name": "stderr",
     "output_type": "stream",
     "text": [
      "Batch calculation at epoch 45.: 3205it [03:23, 38.46it/s]"
     ]
    },
    {
     "name": "stdout",
     "output_type": "stream",
     "text": [
      "------------------------------------------------------------\n",
      "Epoch 45, batch 3199:\n",
      "Average original gradient norm: 0.37193881085142494 (over last 1600 batches)\n",
      "Average clipped gradient norm: 0.36607535837218164 (over last 1600 batches)\n",
      "Running average global loss: 1.9048182038962842 (over last 1600 batches)\n",
      "Running average activity prediction loss: 1.476834156885743 (Cross Entropy over last 1600 batches)\n",
      "Running average (complete) remaining runtime prediction loss: 0.4279840482398868 (MAE over last 1600 batches)\n",
      "------------------------------------------------------------\n"
     ]
    },
    {
     "name": "stderr",
     "output_type": "stream",
     "text": [
      "Batch calculation at epoch 45.: 4798it [04:07, 19.35it/s]\n"
     ]
    },
    {
     "name": "stdout",
     "output_type": "stream",
     "text": [
      "=======================================\n",
      "End of epoch 45\n",
      "=======================================\n",
      "Running average global loss: 1.904747508391738 (over last 1600 batches)\n",
      "Running average activity prediction loss: 1.4771781100332737 (Cross Entropy over last 1600 batches)\n",
      "Running average (complete) remaining runtime prediction loss: 0.4275693985633552 (MAE over last 1600 batches)\n"
     ]
    },
    {
     "name": "stderr",
     "output_type": "stream",
     "text": [
      "Validation batch calculation: 72it [08:09,  6.80s/it]\n"
     ]
    },
    {
     "name": "stdout",
     "output_type": "stream",
     "text": [
      "Avg 1-(normalized) DL distance acitivty suffix prediction validation set: 0.2641971707344055\n",
      "Percentage of suffixes predicted to END: too early - 0.02225984149846072 ; right moment - 0.07868420513730656 ; too late - 0.8990559533642327\n",
      "Too early instances - avg amount of events too early: 8.467647552490234\n",
      "Too late instances - avg amount of events too late: 46.52085876464844\n",
      "Avg absolute amount of events predicted too early / too late: 42.013343811035156\n",
      "Avg MAE TTNE prediction validation set: 1047.3279947916667 (minutes)'\n",
      "Avg MAE RRT prediction validation set: 0.5009089708328247 (standardized) ; 8401.6484375 (minutes)'\n",
      "Avg validation loss: 1.9928488731384277\n",
      " \n",
      "------------------------------------\n",
      "EPOCH 46:\n",
      "____________________________________\n"
     ]
    },
    {
     "name": "stderr",
     "output_type": "stream",
     "text": [
      "Batch calculation at epoch 46.: 1607it [00:36, 37.68it/s]"
     ]
    },
    {
     "name": "stdout",
     "output_type": "stream",
     "text": [
      "------------------------------------------------------------\n",
      "Epoch 46, batch 1599:\n",
      "Average original gradient norm: 0.5199142323993147 (over last 1600 batches)\n",
      "Average clipped gradient norm: 0.4592817713133991 (over last 1600 batches)\n",
      "Running average global loss: 1.9336491139978171 (over last 1600 batches)\n",
      "Running average activity prediction loss: 1.504129309952259 (Cross Entropy over last 1600 batches)\n",
      "Running average (complete) remaining runtime prediction loss: 0.42951980508863924 (MAE over last 1600 batches)\n",
      "------------------------------------------------------------\n"
     ]
    },
    {
     "name": "stderr",
     "output_type": "stream",
     "text": [
      "Batch calculation at epoch 46.: 3203it [01:31, 27.09it/s]"
     ]
    },
    {
     "name": "stdout",
     "output_type": "stream",
     "text": [
      "------------------------------------------------------------\n",
      "Epoch 46, batch 3199:\n",
      "Average original gradient norm: 0.43066520186141133 (over last 1600 batches)\n",
      "Average clipped gradient norm: 0.3994935098476708 (over last 1600 batches)\n",
      "Running average global loss: 1.925526391863823 (over last 1600 batches)\n",
      "Running average activity prediction loss: 1.4968561406433583 (Cross Entropy over last 1600 batches)\n",
      "Running average (complete) remaining runtime prediction loss: 0.4286702507548034 (MAE over last 1600 batches)\n",
      "------------------------------------------------------------\n"
     ]
    },
    {
     "name": "stderr",
     "output_type": "stream",
     "text": [
      "Batch calculation at epoch 46.: 4798it [02:11, 36.54it/s]\n"
     ]
    },
    {
     "name": "stdout",
     "output_type": "stream",
     "text": [
      "=======================================\n",
      "End of epoch 46\n",
      "=======================================\n",
      "Running average global loss: 1.9225801722705365 (over last 1600 batches)\n",
      "Running average activity prediction loss: 1.4934902469068765 (Cross Entropy over last 1600 batches)\n",
      "Running average (complete) remaining runtime prediction loss: 0.42908992564305665 (MAE over last 1600 batches)\n"
     ]
    },
    {
     "name": "stderr",
     "output_type": "stream",
     "text": [
      "Validation batch calculation: 72it [10:44,  8.95s/it]\n"
     ]
    },
    {
     "name": "stdout",
     "output_type": "stream",
     "text": [
      "Avg 1-(normalized) DL distance acitivty suffix prediction validation set: 0.288327693939209\n",
      "Percentage of suffixes predicted to END: too early - 0.00838925029181485 ; right moment - 0.08933971344123087 ; too late - 0.9022710362669543\n",
      "Too early instances - avg amount of events too early: 9.735557556152344\n",
      "Too late instances - avg amount of events too late: 43.88292694091797\n",
      "Avg absolute amount of events predicted too early / too late: 39.67596435546875\n",
      "Avg MAE TTNE prediction validation set: 1016.9119140625 (minutes)'\n",
      "Avg MAE RRT prediction validation set: 0.4931209683418274 (standardized) ; 8279.0921875 (minutes)'\n",
      "Avg validation loss: 1.9450066089630127\n",
      " \n",
      "------------------------------------\n",
      "EPOCH 47:\n",
      "____________________________________\n"
     ]
    },
    {
     "name": "stderr",
     "output_type": "stream",
     "text": [
      "Batch calculation at epoch 47.: 1602it [00:28, 55.22it/s]"
     ]
    },
    {
     "name": "stdout",
     "output_type": "stream",
     "text": [
      "------------------------------------------------------------\n",
      "Epoch 47, batch 1599:\n",
      "Average original gradient norm: 0.40946158189326526 (over last 1600 batches)\n",
      "Average clipped gradient norm: 0.3841049074009061 (over last 1600 batches)\n",
      "Running average global loss: 1.9188759358972312 (over last 1600 batches)\n",
      "Running average activity prediction loss: 1.4894719553738833 (Cross Entropy over last 1600 batches)\n",
      "Running average (complete) remaining runtime prediction loss: 0.4294039801321924 (MAE over last 1600 batches)\n",
      "------------------------------------------------------------\n"
     ]
    },
    {
     "name": "stderr",
     "output_type": "stream",
     "text": [
      "Batch calculation at epoch 47.: 3210it [01:03, 45.36it/s]"
     ]
    },
    {
     "name": "stdout",
     "output_type": "stream",
     "text": [
      "------------------------------------------------------------\n",
      "Epoch 47, batch 3199:\n",
      "Average original gradient norm: 0.7628029477037489 (over last 1600 batches)\n",
      "Average clipped gradient norm: 0.5122401539422572 (over last 1600 batches)\n",
      "Running average global loss: 1.93311010889709 (over last 1600 batches)\n",
      "Running average activity prediction loss: 1.5041418546438217 (Cross Entropy over last 1600 batches)\n",
      "Running average (complete) remaining runtime prediction loss: 0.4289682529680431 (MAE over last 1600 batches)\n",
      "------------------------------------------------------------\n"
     ]
    },
    {
     "name": "stderr",
     "output_type": "stream",
     "text": [
      "Batch calculation at epoch 47.: 4798it [01:33, 51.29it/s]\n"
     ]
    },
    {
     "name": "stdout",
     "output_type": "stream",
     "text": [
      "=======================================\n",
      "End of epoch 47\n",
      "=======================================\n",
      "Running average global loss: 1.926502924412489 (over last 1600 batches)\n",
      "Running average activity prediction loss: 1.497895706295967 (Cross Entropy over last 1600 batches)\n",
      "Running average (complete) remaining runtime prediction loss: 0.42860721791163087 (MAE over last 1600 batches)\n"
     ]
    },
    {
     "name": "stderr",
     "output_type": "stream",
     "text": [
      "Validation batch calculation: 72it [07:52,  6.56s/it]\n"
     ]
    },
    {
     "name": "stdout",
     "output_type": "stream",
     "text": [
      "Avg 1-(normalized) DL distance acitivty suffix prediction validation set: 0.2862759232521057\n",
      "Percentage of suffixes predicted to END: too early - 0.006348252865246387 ; right moment - 0.0890939746206407 ; too late - 0.904557772514113\n",
      "Too early instances - avg amount of events too early: 6.178494930267334\n",
      "Too late instances - avg amount of events too late: 43.70252990722656\n",
      "Avg absolute amount of events predicted too early / too late: 39.57068634033203\n",
      "Avg MAE TTNE prediction validation set: 1015.6137369791667 (minutes)'\n",
      "Avg MAE RRT prediction validation set: 0.4902554452419281 (standardized) ; 8232.194791666667 (minutes)'\n",
      "Avg validation loss: 1.942824125289917\n",
      " \n",
      "------------------------------------\n",
      "EPOCH 48:\n",
      "____________________________________\n"
     ]
    },
    {
     "name": "stderr",
     "output_type": "stream",
     "text": [
      "Batch calculation at epoch 48.: 1603it [01:02, 19.08it/s]"
     ]
    },
    {
     "name": "stdout",
     "output_type": "stream",
     "text": [
      "------------------------------------------------------------\n",
      "Epoch 48, batch 1599:\n",
      "Average original gradient norm: 0.458495563082397 (over last 1600 batches)\n",
      "Average clipped gradient norm: 0.4188142292574048 (over last 1600 batches)\n",
      "Running average global loss: 1.9190582973510026 (over last 1600 batches)\n",
      "Running average activity prediction loss: 1.4899022447317838 (Cross Entropy over last 1600 batches)\n",
      "Running average (complete) remaining runtime prediction loss: 0.4291560518927872 (MAE over last 1600 batches)\n",
      "------------------------------------------------------------\n"
     ]
    },
    {
     "name": "stderr",
     "output_type": "stream",
     "text": [
      "Batch calculation at epoch 48.: 3202it [02:25, 16.47it/s]"
     ]
    },
    {
     "name": "stdout",
     "output_type": "stream",
     "text": [
      "------------------------------------------------------------\n",
      "Epoch 48, batch 3199:\n",
      "Average original gradient norm: 0.49043337875045834 (over last 1600 batches)\n",
      "Average clipped gradient norm: 0.4145498140994459 (over last 1600 batches)\n",
      "Running average global loss: 1.916680182442069 (over last 1600 batches)\n",
      "Running average activity prediction loss: 1.4890568493306637 (Cross Entropy over last 1600 batches)\n",
      "Running average (complete) remaining runtime prediction loss: 0.4276233322173357 (MAE over last 1600 batches)\n",
      "------------------------------------------------------------\n"
     ]
    },
    {
     "name": "stderr",
     "output_type": "stream",
     "text": [
      "Batch calculation at epoch 48.: 4798it [03:52, 20.62it/s]\n"
     ]
    },
    {
     "name": "stdout",
     "output_type": "stream",
     "text": [
      "=======================================\n",
      "End of epoch 48\n",
      "=======================================\n",
      "Running average global loss: 1.9138642232865095 (over last 1600 batches)\n",
      "Running average activity prediction loss: 1.4850590278208256 (Cross Entropy over last 1600 batches)\n",
      "Running average (complete) remaining runtime prediction loss: 0.42880519598722455 (MAE over last 1600 batches)\n"
     ]
    },
    {
     "name": "stderr",
     "output_type": "stream",
     "text": [
      "Validation batch calculation: 72it [08:15,  6.88s/it]\n"
     ]
    },
    {
     "name": "stdout",
     "output_type": "stream",
     "text": [
      "Avg 1-(normalized) DL distance acitivty suffix prediction validation set: 0.2912423610687256\n",
      "Percentage of suffixes predicted to END: too early - 0.011235724963651134 ; right moment - 0.08915540932578823 ; too late - 0.8996088657105606\n",
      "Too early instances - avg amount of events too early: 7.424058437347412\n",
      "Too late instances - avg amount of events too late: 43.687095642089844\n",
      "Avg absolute amount of events predicted too early / too late: 39.38471221923828\n",
      "Avg MAE TTNE prediction validation set: 1022.5147786458333 (minutes)'\n",
      "Avg MAE RRT prediction validation set: 0.4896910786628723 (standardized) ; 8212.409375 (minutes)'\n",
      "Avg validation loss: 1.9376224279403687\n",
      " \n",
      "------------------------------------\n",
      "EPOCH 49:\n",
      "____________________________________\n"
     ]
    },
    {
     "name": "stderr",
     "output_type": "stream",
     "text": [
      "Batch calculation at epoch 49.: 1608it [00:54, 32.25it/s]"
     ]
    },
    {
     "name": "stdout",
     "output_type": "stream",
     "text": [
      "------------------------------------------------------------\n",
      "Epoch 49, batch 1599:\n",
      "Average original gradient norm: 0.4009539292939007 (over last 1600 batches)\n",
      "Average clipped gradient norm: 0.3762603040970862 (over last 1600 batches)\n",
      "Running average global loss: 1.9144997226446867 (over last 1600 batches)\n",
      "Running average activity prediction loss: 1.4855600321292877 (Cross Entropy over last 1600 batches)\n",
      "Running average (complete) remaining runtime prediction loss: 0.42893969124183057 (MAE over last 1600 batches)\n",
      "------------------------------------------------------------\n"
     ]
    },
    {
     "name": "stderr",
     "output_type": "stream",
     "text": [
      "Batch calculation at epoch 49.: 3202it [02:05, 18.80it/s]"
     ]
    },
    {
     "name": "stdout",
     "output_type": "stream",
     "text": [
      "------------------------------------------------------------\n",
      "Epoch 49, batch 3199:\n",
      "Average original gradient norm: 0.5122262499947101 (over last 1600 batches)\n",
      "Average clipped gradient norm: 0.4341777084488422 (over last 1600 batches)\n",
      "Running average global loss: 1.9150510650128125 (over last 1600 batches)\n",
      "Running average activity prediction loss: 1.4876982308924198 (Cross Entropy over last 1600 batches)\n",
      "Running average (complete) remaining runtime prediction loss: 0.4273528331331909 (MAE over last 1600 batches)\n",
      "------------------------------------------------------------\n"
     ]
    },
    {
     "name": "stderr",
     "output_type": "stream",
     "text": [
      "Batch calculation at epoch 49.: 4798it [03:30, 22.77it/s]\n"
     ]
    },
    {
     "name": "stdout",
     "output_type": "stream",
     "text": [
      "=======================================\n",
      "End of epoch 49\n",
      "=======================================\n",
      "Running average global loss: 1.9176836017519236 (over last 1600 batches)\n",
      "Running average activity prediction loss: 1.487874814271927 (Cross Entropy over last 1600 batches)\n",
      "Running average (complete) remaining runtime prediction loss: 0.4298087886534631 (MAE over last 1600 batches)\n"
     ]
    },
    {
     "name": "stderr",
     "output_type": "stream",
     "text": [
      "Validation batch calculation: 72it [10:30,  8.75s/it]\n"
     ]
    },
    {
     "name": "stdout",
     "output_type": "stream",
     "text": [
      "Avg 1-(normalized) DL distance acitivty suffix prediction validation set: 0.2820090055465698\n",
      "Percentage of suffixes predicted to END: too early - 0.005488166993180748 ; right moment - 0.08810419325993024 ; too late - 0.906407639746889\n",
      "Too early instances - avg amount of events too early: 4.564676284790039\n",
      "Too late instances - avg amount of events too late: 44.12712860107422\n",
      "Avg absolute amount of events predicted too early / too late: 40.022220611572266\n",
      "Avg MAE TTNE prediction validation set: 1011.8179036458333 (minutes)'\n",
      "Avg MAE RRT prediction validation set: 0.492523729801178 (standardized) ; 8266.577604166667 (minutes)'\n",
      "Avg validation loss: 1.952149510383606\n",
      " \n",
      "------------------------------------\n",
      "EPOCH 50:\n",
      "____________________________________\n"
     ]
    },
    {
     "name": "stderr",
     "output_type": "stream",
     "text": [
      "Batch calculation at epoch 50.: 1603it [00:43, 30.98it/s]"
     ]
    },
    {
     "name": "stdout",
     "output_type": "stream",
     "text": [
      "------------------------------------------------------------\n",
      "Epoch 50, batch 1599:\n",
      "Average original gradient norm: 0.38843524880707264 (over last 1600 batches)\n",
      "Average clipped gradient norm: 0.37408639281988143 (over last 1600 batches)\n",
      "Running average global loss: 1.9141087731719018 (over last 1600 batches)\n",
      "Running average activity prediction loss: 1.4853009662777186 (Cross Entropy over last 1600 batches)\n",
      "Running average (complete) remaining runtime prediction loss: 0.4288078049570322 (MAE over last 1600 batches)\n",
      "------------------------------------------------------------\n"
     ]
    },
    {
     "name": "stderr",
     "output_type": "stream",
     "text": [
      "Batch calculation at epoch 50.: 3201it [01:34, 31.70it/s]"
     ]
    },
    {
     "name": "stdout",
     "output_type": "stream",
     "text": [
      "------------------------------------------------------------\n",
      "Epoch 50, batch 3199:\n",
      "Average original gradient norm: 0.3661411882098764 (over last 1600 batches)\n",
      "Average clipped gradient norm: 0.3595926782395691 (over last 1600 batches)\n",
      "Running average global loss: 1.910283902361989 (over last 1600 batches)\n",
      "Running average activity prediction loss: 1.4820798117667437 (Cross Entropy over last 1600 batches)\n",
      "Running average (complete) remaining runtime prediction loss: 0.42820409286767247 (MAE over last 1600 batches)\n",
      "------------------------------------------------------------\n"
     ]
    },
    {
     "name": "stderr",
     "output_type": "stream",
     "text": [
      "Batch calculation at epoch 50.: 4798it [02:14, 35.75it/s]\n"
     ]
    },
    {
     "name": "stdout",
     "output_type": "stream",
     "text": [
      "=======================================\n",
      "End of epoch 50\n",
      "=======================================\n",
      "Running average global loss: 1.9107236135005952 (over last 1600 batches)\n",
      "Running average activity prediction loss: 1.4825112133473157 (Cross Entropy over last 1600 batches)\n",
      "Running average (complete) remaining runtime prediction loss: 0.42821239920333026 (MAE over last 1600 batches)\n"
     ]
    },
    {
     "name": "stderr",
     "output_type": "stream",
     "text": [
      "Validation batch calculation: 72it [08:30,  7.09s/it]\n"
     ]
    },
    {
     "name": "stdout",
     "output_type": "stream",
     "text": [
      "Avg 1-(normalized) DL distance acitivty suffix prediction validation set: 0.28812968730926514\n",
      "Percentage of suffixes predicted to END: too early - 0.008751032444350396 ; right moment - 0.09168105831518734 ; too late - 0.8995679092404623\n",
      "Too early instances - avg amount of events too early: 11.296411514282227\n",
      "Too late instances - avg amount of events too late: 43.83958435058594\n",
      "Avg absolute amount of events predicted too early / too late: 39.53554153442383\n",
      "Avg MAE TTNE prediction validation set: 1028.8147786458333 (minutes)'\n",
      "Avg MAE RRT prediction validation set: 0.4938819706439972 (standardized) ; 8265.270833333334 (minutes)'\n",
      "Avg validation loss: 1.9381232261657715\n",
      " \n",
      "------------------------------------\n",
      "EPOCH 51:\n",
      "____________________________________\n"
     ]
    },
    {
     "name": "stderr",
     "output_type": "stream",
     "text": [
      "Batch calculation at epoch 51.: 1610it [00:31, 49.66it/s]"
     ]
    },
    {
     "name": "stdout",
     "output_type": "stream",
     "text": [
      "------------------------------------------------------------\n",
      "Epoch 51, batch 1599:\n",
      "Average original gradient norm: 0.3949443774204701 (over last 1600 batches)\n",
      "Average clipped gradient norm: 0.37842630031518637 (over last 1600 batches)\n",
      "Running average global loss: 1.9119135244190693 (over last 1600 batches)\n",
      "Running average activity prediction loss: 1.482371055483818 (Cross Entropy over last 1600 batches)\n",
      "Running average (complete) remaining runtime prediction loss: 0.4295424679853022 (MAE over last 1600 batches)\n",
      "------------------------------------------------------------\n"
     ]
    },
    {
     "name": "stderr",
     "output_type": "stream",
     "text": [
      "Batch calculation at epoch 51.: 3207it [01:11, 49.78it/s]"
     ]
    },
    {
     "name": "stdout",
     "output_type": "stream",
     "text": [
      "------------------------------------------------------------\n",
      "Epoch 51, batch 3199:\n",
      "Average original gradient norm: 0.3791258320119232 (over last 1600 batches)\n",
      "Average clipped gradient norm: 0.3583901677187532 (over last 1600 batches)\n",
      "Running average global loss: 1.9097487384080887 (over last 1600 batches)\n",
      "Running average activity prediction loss: 1.482294384241104 (Cross Entropy over last 1600 batches)\n",
      "Running average (complete) remaining runtime prediction loss: 0.427454355340451 (MAE over last 1600 batches)\n",
      "------------------------------------------------------------\n"
     ]
    },
    {
     "name": "stderr",
     "output_type": "stream",
     "text": [
      "Batch calculation at epoch 51.: 4798it [01:43, 46.33it/s]\n"
     ]
    },
    {
     "name": "stdout",
     "output_type": "stream",
     "text": [
      "=======================================\n",
      "End of epoch 51\n",
      "=======================================\n",
      "Running average global loss: 1.90817647613585 (over last 1600 batches)\n",
      "Running average activity prediction loss: 1.4805523907393217 (Cross Entropy over last 1600 batches)\n",
      "Running average (complete) remaining runtime prediction loss: 0.42762408634647725 (MAE over last 1600 batches)\n"
     ]
    },
    {
     "name": "stderr",
     "output_type": "stream",
     "text": [
      "Validation batch calculation: 72it [08:24,  7.01s/it]\n"
     ]
    },
    {
     "name": "stdout",
     "output_type": "stream",
     "text": [
      "Avg 1-(normalized) DL distance acitivty suffix prediction validation set: 0.29270172119140625\n",
      "Percentage of suffixes predicted to END: too early - 0.011904680641924409 ; right moment - 0.0957971835600729 ; too late - 0.8922981357980027\n",
      "Too early instances - avg amount of events too early: 10.238532066345215\n",
      "Too late instances - avg amount of events too late: 43.358890533447266\n",
      "Avg absolute amount of events predicted too early / too late: 38.810943603515625\n",
      "Avg MAE TTNE prediction validation set: 1021.9512369791667 (minutes)'\n",
      "Avg MAE RRT prediction validation set: 0.49275699257850647 (standardized) ; 8273.9046875 (minutes)'\n",
      "Avg validation loss: 1.9281505346298218\n",
      " \n",
      "------------------------------------\n",
      "EPOCH 52:\n",
      "____________________________________\n"
     ]
    },
    {
     "name": "stderr",
     "output_type": "stream",
     "text": [
      "Batch calculation at epoch 52.: 1610it [00:51, 48.04it/s]"
     ]
    },
    {
     "name": "stdout",
     "output_type": "stream",
     "text": [
      "------------------------------------------------------------\n",
      "Epoch 52, batch 1599:\n",
      "Average original gradient norm: 0.33405085632577536 (over last 1600 batches)\n",
      "Average clipped gradient norm: 0.3205402803607285 (over last 1600 batches)\n",
      "Running average global loss: 1.9071318519860505 (over last 1600 batches)\n",
      "Running average activity prediction loss: 1.4788296093046664 (Cross Entropy over last 1600 batches)\n",
      "Running average (complete) remaining runtime prediction loss: 0.428302242141217 (MAE over last 1600 batches)\n",
      "------------------------------------------------------------\n"
     ]
    },
    {
     "name": "stderr",
     "output_type": "stream",
     "text": [
      "Batch calculation at epoch 52.: 3204it [01:31, 26.13it/s]"
     ]
    },
    {
     "name": "stdout",
     "output_type": "stream",
     "text": [
      "------------------------------------------------------------\n",
      "Epoch 52, batch 3199:\n",
      "Average original gradient norm: 0.3356287446152419 (over last 1600 batches)\n",
      "Average clipped gradient norm: 0.3211446887534112 (over last 1600 batches)\n",
      "Running average global loss: 1.9052993608266116 (over last 1600 batches)\n",
      "Running average activity prediction loss: 1.4777771027386188 (Cross Entropy over last 1600 batches)\n",
      "Running average (complete) remaining runtime prediction loss: 0.4275222556479275 (MAE over last 1600 batches)\n",
      "------------------------------------------------------------\n"
     ]
    },
    {
     "name": "stderr",
     "output_type": "stream",
     "text": [
      "Batch calculation at epoch 52.: 4798it [02:42, 29.46it/s]\n"
     ]
    },
    {
     "name": "stdout",
     "output_type": "stream",
     "text": [
      "=======================================\n",
      "End of epoch 52\n",
      "=======================================\n",
      "Running average global loss: 1.9026258686929942 (over last 1600 batches)\n",
      "Running average activity prediction loss: 1.4764074797183275 (Cross Entropy over last 1600 batches)\n",
      "Running average (complete) remaining runtime prediction loss: 0.42621838869526985 (MAE over last 1600 batches)\n"
     ]
    },
    {
     "name": "stderr",
     "output_type": "stream",
     "text": [
      "Validation batch calculation: 72it [09:47,  8.15s/it]\n"
     ]
    },
    {
     "name": "stdout",
     "output_type": "stream",
     "text": [
      "Avg 1-(normalized) DL distance acitivty suffix prediction validation set: 0.2994195818901062\n",
      "Percentage of suffixes predicted to END: too early - 0.013317678860317959 ; right moment - 0.09743544236400746 ; too late - 0.8892468787756745\n",
      "Too early instances - avg amount of events too early: 9.482830047607422\n",
      "Too late instances - avg amount of events too late: 43.51860427856445\n",
      "Avg absolute amount of events predicted too early / too late: 38.8250732421875\n",
      "Avg MAE TTNE prediction validation set: 1021.8021484375 (minutes)'\n",
      "Avg MAE RRT prediction validation set: 0.49248042702674866 (standardized) ; 8269.094791666666 (minutes)'\n",
      "Avg validation loss: 1.9301738739013672\n",
      " \n",
      "------------------------------------\n",
      "EPOCH 53:\n",
      "____________________________________\n"
     ]
    },
    {
     "name": "stderr",
     "output_type": "stream",
     "text": [
      "Batch calculation at epoch 53.: 1611it [00:31, 56.88it/s]"
     ]
    },
    {
     "name": "stdout",
     "output_type": "stream",
     "text": [
      "------------------------------------------------------------\n",
      "Epoch 53, batch 1599:\n",
      "Average original gradient norm: 0.34394774853251875 (over last 1600 batches)\n",
      "Average clipped gradient norm: 0.3292935641016811 (over last 1600 batches)\n",
      "Running average global loss: 1.9033774450421332 (over last 1600 batches)\n",
      "Running average activity prediction loss: 1.4772007236629725 (Cross Entropy over last 1600 batches)\n",
      "Running average (complete) remaining runtime prediction loss: 0.4261767215281725 (MAE over last 1600 batches)\n",
      "------------------------------------------------------------\n"
     ]
    },
    {
     "name": "stderr",
     "output_type": "stream",
     "text": [
      "Batch calculation at epoch 53.: 3211it [01:03, 51.06it/s]"
     ]
    },
    {
     "name": "stdout",
     "output_type": "stream",
     "text": [
      "------------------------------------------------------------\n",
      "Epoch 53, batch 3199:\n",
      "Average original gradient norm: 0.32356358057819307 (over last 1600 batches)\n",
      "Average clipped gradient norm: 0.31684272675774994 (over last 1600 batches)\n",
      "Running average global loss: 1.9046220627427102 (over last 1600 batches)\n",
      "Running average activity prediction loss: 1.477287432178855 (Cross Entropy over last 1600 batches)\n",
      "Running average (complete) remaining runtime prediction loss: 0.4273346295207739 (MAE over last 1600 batches)\n",
      "------------------------------------------------------------\n"
     ]
    },
    {
     "name": "stderr",
     "output_type": "stream",
     "text": [
      "Batch calculation at epoch 53.: 4798it [01:36, 49.79it/s]\n"
     ]
    },
    {
     "name": "stdout",
     "output_type": "stream",
     "text": [
      "=======================================\n",
      "End of epoch 53\n",
      "=======================================\n",
      "Running average global loss: 1.902591656818986 (over last 1600 batches)\n",
      "Running average activity prediction loss: 1.4745411361008882 (Cross Entropy over last 1600 batches)\n",
      "Running average (complete) remaining runtime prediction loss: 0.4280505209043622 (MAE over last 1600 batches)\n"
     ]
    },
    {
     "name": "stderr",
     "output_type": "stream",
     "text": [
      "Validation batch calculation: 72it [08:38,  7.20s/it]\n"
     ]
    },
    {
     "name": "stdout",
     "output_type": "stream",
     "text": [
      "Avg 1-(normalized) DL distance acitivty suffix prediction validation set: 0.29965710639953613\n",
      "Percentage of suffixes predicted to END: too early - 0.018635193894755524 ; right moment - 0.10075974252032464 ; too late - 0.8806050635849199\n",
      "Too early instances - avg amount of events too early: 9.075091361999512\n",
      "Too late instances - avg amount of events too late: 43.59081268310547\n",
      "Avg absolute amount of events predicted too early / too late: 38.55540466308594\n",
      "Avg MAE TTNE prediction validation set: 1016.6613932291667 (minutes)'\n",
      "Avg MAE RRT prediction validation set: 0.49174609780311584 (standardized) ; 8239.9078125 (minutes)'\n",
      "Avg validation loss: 1.9326375722885132\n",
      " \n",
      "------------------------------------\n",
      "EPOCH 54:\n",
      "____________________________________\n"
     ]
    },
    {
     "name": "stderr",
     "output_type": "stream",
     "text": [
      "Batch calculation at epoch 54.: 1601it [01:31, 19.72it/s]"
     ]
    },
    {
     "name": "stdout",
     "output_type": "stream",
     "text": [
      "------------------------------------------------------------\n",
      "Epoch 54, batch 1599:\n",
      "Average original gradient norm: 0.34890683894976976 (over last 1600 batches)\n",
      "Average clipped gradient norm: 0.34056192813441155 (over last 1600 batches)\n",
      "Running average global loss: 1.9041222401708364 (over last 1600 batches)\n",
      "Running average activity prediction loss: 1.4764028692245483 (Cross Entropy over last 1600 batches)\n",
      "Running average (complete) remaining runtime prediction loss: 0.42771937200799587 (MAE over last 1600 batches)\n",
      "------------------------------------------------------------\n"
     ]
    },
    {
     "name": "stderr",
     "output_type": "stream",
     "text": [
      "Batch calculation at epoch 54.: 3201it [03:00, 14.84it/s]"
     ]
    },
    {
     "name": "stdout",
     "output_type": "stream",
     "text": [
      "------------------------------------------------------------\n",
      "Epoch 54, batch 3199:\n",
      "Average original gradient norm: 0.3421843483671546 (over last 1600 batches)\n",
      "Average clipped gradient norm: 0.33653917264193295 (over last 1600 batches)\n",
      "Running average global loss: 1.9043015404045582 (over last 1600 batches)\n",
      "Running average activity prediction loss: 1.476607873737812 (Cross Entropy over last 1600 batches)\n",
      "Running average (complete) remaining runtime prediction loss: 0.42769366633147 (MAE over last 1600 batches)\n",
      "------------------------------------------------------------\n"
     ]
    },
    {
     "name": "stderr",
     "output_type": "stream",
     "text": [
      "Batch calculation at epoch 54.: 4798it [04:46, 16.72it/s]\n"
     ]
    },
    {
     "name": "stdout",
     "output_type": "stream",
     "text": [
      "=======================================\n",
      "End of epoch 54\n",
      "=======================================\n",
      "Running average global loss: 1.9029786845296621 (over last 1600 batches)\n",
      "Running average activity prediction loss: 1.4771228078752756 (Cross Entropy over last 1600 batches)\n",
      "Running average (complete) remaining runtime prediction loss: 0.4258558775112033 (MAE over last 1600 batches)\n"
     ]
    },
    {
     "name": "stderr",
     "output_type": "stream",
     "text": [
      "Validation batch calculation: 72it [11:39,  9.71s/it]\n"
     ]
    },
    {
     "name": "stdout",
     "output_type": "stream",
     "text": [
      "Avg 1-(normalized) DL distance acitivty suffix prediction validation set: 0.3011965751647949\n",
      "Percentage of suffixes predicted to END: too early - 0.024614838529116636 ; right moment - 0.10385195601275111 ; too late - 0.8715332054581323\n",
      "Too early instances - avg amount of events too early: 10.168885231018066\n",
      "Too late instances - avg amount of events too late: 43.842864990234375\n",
      "Avg absolute amount of events predicted too early / too late: 38.4608154296875\n",
      "Avg MAE TTNE prediction validation set: 1013.133203125 (minutes)'\n",
      "Avg MAE RRT prediction validation set: 0.4913890063762665 (standardized) ; 8251.218229166667 (minutes)'\n",
      "Avg validation loss: 1.9307692050933838\n",
      " \n",
      "------------------------------------\n",
      "EPOCH 55:\n",
      "____________________________________\n"
     ]
    },
    {
     "name": "stderr",
     "output_type": "stream",
     "text": [
      "Batch calculation at epoch 55.: 1606it [00:54, 44.36it/s]"
     ]
    },
    {
     "name": "stdout",
     "output_type": "stream",
     "text": [
      "------------------------------------------------------------\n",
      "Epoch 55, batch 1599:\n",
      "Average original gradient norm: 0.32599726448766886 (over last 1600 batches)\n",
      "Average clipped gradient norm: 0.32456959995441137 (over last 1600 batches)\n",
      "Running average global loss: 1.9005172432214021 (over last 1600 batches)\n",
      "Running average activity prediction loss: 1.4739893765747547 (Cross Entropy over last 1600 batches)\n",
      "Running average (complete) remaining runtime prediction loss: 0.42652786621823907 (MAE over last 1600 batches)\n",
      "------------------------------------------------------------\n"
     ]
    },
    {
     "name": "stderr",
     "output_type": "stream",
     "text": [
      "Batch calculation at epoch 55.: 3208it [01:36, 48.32it/s]"
     ]
    },
    {
     "name": "stdout",
     "output_type": "stream",
     "text": [
      "------------------------------------------------------------\n",
      "Epoch 55, batch 3199:\n",
      "Average original gradient norm: 0.3510398459620774 (over last 1600 batches)\n",
      "Average clipped gradient norm: 0.3372522977180779 (over last 1600 batches)\n",
      "Running average global loss: 1.9036102130264043 (over last 1600 batches)\n",
      "Running average activity prediction loss: 1.4763764134049415 (Cross Entropy over last 1600 batches)\n",
      "Running average (complete) remaining runtime prediction loss: 0.4272337996400893 (MAE over last 1600 batches)\n",
      "------------------------------------------------------------\n"
     ]
    },
    {
     "name": "stderr",
     "output_type": "stream",
     "text": [
      "Batch calculation at epoch 55.: 4798it [02:18, 34.60it/s]\n"
     ]
    },
    {
     "name": "stdout",
     "output_type": "stream",
     "text": [
      "=======================================\n",
      "End of epoch 55\n",
      "=======================================\n",
      "Running average global loss: 1.9037392625957728 (over last 1600 batches)\n",
      "Running average activity prediction loss: 1.4767060193419457 (Cross Entropy over last 1600 batches)\n",
      "Running average (complete) remaining runtime prediction loss: 0.4270332437939942 (MAE over last 1600 batches)\n"
     ]
    },
    {
     "name": "stderr",
     "output_type": "stream",
     "text": [
      "Validation batch calculation: 72it [09:11,  7.66s/it]\n"
     ]
    },
    {
     "name": "stdout",
     "output_type": "stream",
     "text": [
      "Avg 1-(normalized) DL distance acitivty suffix prediction validation set: 0.3000659942626953\n",
      "Percentage of suffixes predicted to END: too early - 0.025939097728963734 ; right moment - 0.1045755203178222 ; too late - 0.869485381953214\n",
      "Too early instances - avg amount of events too early: 11.600525856018066\n",
      "Too late instances - avg amount of events too late: 43.66672134399414\n",
      "Avg absolute amount of events predicted too early / too late: 38.26848220825195\n",
      "Avg MAE TTNE prediction validation set: 1017.5811197916667 (minutes)'\n",
      "Avg MAE RRT prediction validation set: 0.49182015657424927 (standardized) ; 8256.4859375 (minutes)'\n",
      "Avg validation loss: 1.9340426921844482\n",
      " \n",
      "------------------------------------\n",
      "EPOCH 56:\n",
      "____________________________________\n"
     ]
    },
    {
     "name": "stderr",
     "output_type": "stream",
     "text": [
      "Batch calculation at epoch 56.: 1604it [00:56, 27.85it/s]"
     ]
    },
    {
     "name": "stdout",
     "output_type": "stream",
     "text": [
      "------------------------------------------------------------\n",
      "Epoch 56, batch 1599:\n",
      "Average original gradient norm: 0.33642167720012367 (over last 1600 batches)\n",
      "Average clipped gradient norm: 0.3331274593900889 (over last 1600 batches)\n",
      "Running average global loss: 1.9017403297126294 (over last 1600 batches)\n",
      "Running average activity prediction loss: 1.4761742280423642 (Cross Entropy over last 1600 batches)\n",
      "Running average (complete) remaining runtime prediction loss: 0.4255661013536155 (MAE over last 1600 batches)\n",
      "------------------------------------------------------------\n"
     ]
    },
    {
     "name": "stderr",
     "output_type": "stream",
     "text": [
      "Batch calculation at epoch 56.: 3209it [01:35, 53.70it/s]"
     ]
    },
    {
     "name": "stdout",
     "output_type": "stream",
     "text": [
      "------------------------------------------------------------\n",
      "Epoch 56, batch 3199:\n",
      "Average original gradient norm: 0.36127233515493573 (over last 1600 batches)\n",
      "Average clipped gradient norm: 0.3261647720169276 (over last 1600 batches)\n",
      "Running average global loss: 1.9017882299423219 (over last 1600 batches)\n",
      "Running average activity prediction loss: 1.4745733878761529 (Cross Entropy over last 1600 batches)\n",
      "Running average (complete) remaining runtime prediction loss: 0.4272148418985307 (MAE over last 1600 batches)\n",
      "------------------------------------------------------------\n"
     ]
    },
    {
     "name": "stderr",
     "output_type": "stream",
     "text": [
      "Batch calculation at epoch 56.: 4798it [02:02, 39.31it/s]\n"
     ]
    },
    {
     "name": "stdout",
     "output_type": "stream",
     "text": [
      "=======================================\n",
      "End of epoch 56\n",
      "=======================================\n",
      "Running average global loss: 1.9023193096369504 (over last 1600 batches)\n",
      "Running average activity prediction loss: 1.4752906403690575 (Cross Entropy over last 1600 batches)\n",
      "Running average (complete) remaining runtime prediction loss: 0.4270286696963012 (MAE over last 1600 batches)\n"
     ]
    },
    {
     "name": "stderr",
     "output_type": "stream",
     "text": [
      "Validation batch calculation: 72it [10:29,  8.74s/it]\n"
     ]
    },
    {
     "name": "stdout",
     "output_type": "stream",
     "text": [
      "Avg 1-(normalized) DL distance acitivty suffix prediction validation set: 0.28824931383132935\n",
      "Percentage of suffixes predicted to END: too early - 0.028887963576045925 ; right moment - 0.0839948940933944 ; too late - 0.8871171423305597\n",
      "Too early instances - avg amount of events too early: 10.354206085205078\n",
      "Too late instances - avg amount of events too late: 43.424190521240234\n",
      "Avg absolute amount of events predicted too early / too late: 38.82145690917969\n",
      "Avg MAE TTNE prediction validation set: 1031.9650390625 (minutes)'\n",
      "Avg MAE RRT prediction validation set: 0.4974692165851593 (standardized) ; 8349.88125 (minutes)'\n",
      "Avg validation loss: 1.946158528327942\n",
      " \n",
      "------------------------------------\n",
      "EPOCH 57:\n",
      "____________________________________\n"
     ]
    },
    {
     "name": "stderr",
     "output_type": "stream",
     "text": [
      "Batch calculation at epoch 57.: 1602it [01:11, 16.86it/s]"
     ]
    },
    {
     "name": "stdout",
     "output_type": "stream",
     "text": [
      "------------------------------------------------------------\n",
      "Epoch 57, batch 1599:\n",
      "Average original gradient norm: 0.37237362534739077 (over last 1600 batches)\n",
      "Average clipped gradient norm: 0.36322889090515675 (over last 1600 batches)\n",
      "Running average global loss: 1.9090998805314303 (over last 1600 batches)\n",
      "Running average activity prediction loss: 1.481612019687891 (Cross Entropy over last 1600 batches)\n",
      "Running average (complete) remaining runtime prediction loss: 0.42748786019161344 (MAE over last 1600 batches)\n",
      "------------------------------------------------------------\n"
     ]
    },
    {
     "name": "stderr",
     "output_type": "stream",
     "text": [
      "Batch calculation at epoch 57.: 3210it [02:20, 54.10it/s]"
     ]
    },
    {
     "name": "stdout",
     "output_type": "stream",
     "text": [
      "------------------------------------------------------------\n",
      "Epoch 57, batch 3199:\n",
      "Average original gradient norm: 0.3383627186343074 (over last 1600 batches)\n",
      "Average clipped gradient norm: 0.3369399918243289 (over last 1600 batches)\n",
      "Running average global loss: 1.9034807512909173 (over last 1600 batches)\n",
      "Running average activity prediction loss: 1.4781548358500003 (Cross Entropy over last 1600 batches)\n",
      "Running average (complete) remaining runtime prediction loss: 0.4253259155154228 (MAE over last 1600 batches)\n",
      "------------------------------------------------------------\n"
     ]
    },
    {
     "name": "stderr",
     "output_type": "stream",
     "text": [
      "Batch calculation at epoch 57.: 4798it [02:55, 27.32it/s]\n"
     ]
    },
    {
     "name": "stdout",
     "output_type": "stream",
     "text": [
      "=======================================\n",
      "End of epoch 57\n",
      "=======================================\n",
      "Running average global loss: 1.90420060031116 (over last 1600 batches)\n",
      "Running average activity prediction loss: 1.4768671498447656 (Cross Entropy over last 1600 batches)\n",
      "Running average (complete) remaining runtime prediction loss: 0.42733344800770284 (MAE over last 1600 batches)\n"
     ]
    },
    {
     "name": "stderr",
     "output_type": "stream",
     "text": [
      "Validation batch calculation: 72it [09:40,  8.07s/it]\n"
     ]
    },
    {
     "name": "stdout",
     "output_type": "stream",
     "text": [
      "Avg 1-(normalized) DL distance acitivty suffix prediction validation set: 0.3045738935470581\n",
      "Percentage of suffixes predicted to END: too early - 0.02056014798937862 ; right moment - 0.10145600251199684 ; too late - 0.8779838494986245\n",
      "Too early instances - avg amount of events too early: 8.89741039276123\n",
      "Too late instances - avg amount of events too late: 43.25141906738281\n",
      "Avg absolute amount of events predicted too early / too late: 38.156978607177734\n",
      "Avg MAE TTNE prediction validation set: 1021.2600260416667 (minutes)'\n",
      "Avg MAE RRT prediction validation set: 0.4924616515636444 (standardized) ; 8264.861979166666 (minutes)'\n",
      "Avg validation loss: 1.9308764934539795\n",
      " \n",
      "------------------------------------\n",
      "EPOCH 58:\n",
      "____________________________________\n"
     ]
    },
    {
     "name": "stderr",
     "output_type": "stream",
     "text": [
      "Batch calculation at epoch 58.: 1606it [00:40, 41.37it/s]"
     ]
    },
    {
     "name": "stdout",
     "output_type": "stream",
     "text": [
      "------------------------------------------------------------\n",
      "Epoch 58, batch 1599:\n",
      "Average original gradient norm: 0.3425432731769979 (over last 1600 batches)\n",
      "Average clipped gradient norm: 0.339655890148133 (over last 1600 batches)\n",
      "Running average global loss: 1.9020748651772736 (over last 1600 batches)\n",
      "Running average activity prediction loss: 1.4757133670896292 (Cross Entropy over last 1600 batches)\n",
      "Running average (complete) remaining runtime prediction loss: 0.4263614981621504 (MAE over last 1600 batches)\n",
      "------------------------------------------------------------\n"
     ]
    },
    {
     "name": "stderr",
     "output_type": "stream",
     "text": [
      "Batch calculation at epoch 58.: 3204it [01:40, 40.59it/s]"
     ]
    },
    {
     "name": "stdout",
     "output_type": "stream",
     "text": [
      "------------------------------------------------------------\n",
      "Epoch 58, batch 3199:\n",
      "Average original gradient norm: 0.47716179438866674 (over last 1600 batches)\n",
      "Average clipped gradient norm: 0.32914598361589015 (over last 1600 batches)\n",
      "Running average global loss: 1.9025881859660148 (over last 1600 batches)\n",
      "Running average activity prediction loss: 1.4754751894623042 (Cross Entropy over last 1600 batches)\n",
      "Running average (complete) remaining runtime prediction loss: 0.4271129943057895 (MAE over last 1600 batches)\n",
      "------------------------------------------------------------\n"
     ]
    },
    {
     "name": "stderr",
     "output_type": "stream",
     "text": [
      "Batch calculation at epoch 58.: 4798it [02:30, 31.99it/s]\n"
     ]
    },
    {
     "name": "stdout",
     "output_type": "stream",
     "text": [
      "=======================================\n",
      "End of epoch 58\n",
      "=======================================\n",
      "Running average global loss: 1.8988796382397413 (over last 1600 batches)\n",
      "Running average activity prediction loss: 1.4731887619197368 (Cross Entropy over last 1600 batches)\n",
      "Running average (complete) remaining runtime prediction loss: 0.4256908768042922 (MAE over last 1600 batches)\n"
     ]
    },
    {
     "name": "stderr",
     "output_type": "stream",
     "text": [
      "Validation batch calculation: 72it [10:24,  8.68s/it]\n"
     ]
    },
    {
     "name": "stdout",
     "output_type": "stream",
     "text": [
      "Avg 1-(normalized) DL distance acitivty suffix prediction validation set: 0.29938948154449463\n",
      "Percentage of suffixes predicted to END: too early - 0.026218966941302553 ; right moment - 0.10295773974893684 ; too late - 0.8708232933097606\n",
      "Too early instances - avg amount of events too early: 10.975006103515625\n",
      "Too late instances - avg amount of events too late: 43.47917556762695\n",
      "Avg absolute amount of events predicted too early / too late: 38.15043258666992\n",
      "Avg MAE TTNE prediction validation set: 1009.050390625 (minutes)'\n",
      "Avg MAE RRT prediction validation set: 0.4930921792984009 (standardized) ; 8279.738020833332 (minutes)'\n",
      "Avg validation loss: 1.9407298564910889\n",
      " \n",
      "------------------------------------\n",
      "EPOCH 59:\n",
      "____________________________________\n"
     ]
    },
    {
     "name": "stderr",
     "output_type": "stream",
     "text": [
      "Batch calculation at epoch 59.: 1601it [01:17, 17.34it/s]"
     ]
    },
    {
     "name": "stdout",
     "output_type": "stream",
     "text": [
      "------------------------------------------------------------\n",
      "Epoch 59, batch 1599:\n",
      "Average original gradient norm: 0.3382593310531229 (over last 1600 batches)\n",
      "Average clipped gradient norm: 0.3332506716158241 (over last 1600 batches)\n",
      "Running average global loss: 1.9008440732210874 (over last 1600 batches)\n",
      "Running average activity prediction loss: 1.4732327841967345 (Cross Entropy over last 1600 batches)\n",
      "Running average (complete) remaining runtime prediction loss: 0.4276112869940698 (MAE over last 1600 batches)\n",
      "------------------------------------------------------------\n"
     ]
    },
    {
     "name": "stderr",
     "output_type": "stream",
     "text": [
      "Batch calculation at epoch 59.: 3204it [02:46, 33.91it/s]"
     ]
    },
    {
     "name": "stdout",
     "output_type": "stream",
     "text": [
      "------------------------------------------------------------\n",
      "Epoch 59, batch 3199:\n",
      "Average original gradient norm: 0.35093331630341706 (over last 1600 batches)\n",
      "Average clipped gradient norm: 0.3407951040100306 (over last 1600 batches)\n",
      "Running average global loss: 1.8995118683576584 (over last 1600 batches)\n",
      "Running average activity prediction loss: 1.4757577171176672 (Cross Entropy over last 1600 batches)\n",
      "Running average (complete) remaining runtime prediction loss: 0.42375415019690993 (MAE over last 1600 batches)\n",
      "------------------------------------------------------------\n"
     ]
    },
    {
     "name": "stderr",
     "output_type": "stream",
     "text": [
      "Batch calculation at epoch 59.: 4798it [03:40, 21.71it/s]\n"
     ]
    },
    {
     "name": "stdout",
     "output_type": "stream",
     "text": [
      "=======================================\n",
      "End of epoch 59\n",
      "=======================================\n",
      "Running average global loss: 1.8986914034187794 (over last 1600 batches)\n",
      "Running average activity prediction loss: 1.4717304998636245 (Cross Entropy over last 1600 batches)\n",
      "Running average (complete) remaining runtime prediction loss: 0.4269609030149877 (MAE over last 1600 batches)\n"
     ]
    },
    {
     "name": "stderr",
     "output_type": "stream",
     "text": [
      "Validation batch calculation: 72it [08:43,  7.27s/it]\n"
     ]
    },
    {
     "name": "stdout",
     "output_type": "stream",
     "text": [
      "Avg 1-(normalized) DL distance acitivty suffix prediction validation set: 0.30591195821762085\n",
      "Percentage of suffixes predicted to END: too early - 0.0286558769121552 ; right moment - 0.10447995522092603 ; too late - 0.8668641678669188\n",
      "Too early instances - avg amount of events too early: 10.222249031066895\n",
      "Too late instances - avg amount of events too late: 43.41211700439453\n",
      "Avg absolute amount of events predicted too early / too late: 37.92533493041992\n",
      "Avg MAE TTNE prediction validation set: 1021.5098958333333 (minutes)'\n",
      "Avg MAE RRT prediction validation set: 0.49415069818496704 (standardized) ; 8295.571875 (minutes)'\n",
      "Avg validation loss: 1.926304578781128\n",
      " \n",
      "------------------------------------\n",
      "EPOCH 60:\n",
      "____________________________________\n"
     ]
    },
    {
     "name": "stderr",
     "output_type": "stream",
     "text": [
      "Batch calculation at epoch 60.: 1611it [00:35, 72.51it/s]"
     ]
    },
    {
     "name": "stdout",
     "output_type": "stream",
     "text": [
      "------------------------------------------------------------\n",
      "Epoch 60, batch 1599:\n",
      "Average original gradient norm: 0.3288956875726581 (over last 1600 batches)\n",
      "Average clipped gradient norm: 0.3270849731937051 (over last 1600 batches)\n",
      "Running average global loss: 1.8993502081930638 (over last 1600 batches)\n",
      "Running average activity prediction loss: 1.47346263833344 (Cross Entropy over last 1600 batches)\n",
      "Running average (complete) remaining runtime prediction loss: 0.42588757099583746 (MAE over last 1600 batches)\n",
      "------------------------------------------------------------\n"
     ]
    },
    {
     "name": "stderr",
     "output_type": "stream",
     "text": [
      "Batch calculation at epoch 60.: 3208it [01:05, 49.10it/s]"
     ]
    },
    {
     "name": "stdout",
     "output_type": "stream",
     "text": [
      "------------------------------------------------------------\n",
      "Epoch 60, batch 3199:\n",
      "Average original gradient norm: 0.3581373045966029 (over last 1600 batches)\n",
      "Average clipped gradient norm: 0.3460559367015958 (over last 1600 batches)\n",
      "Running average global loss: 1.8988519372791053 (over last 1600 batches)\n",
      "Running average activity prediction loss: 1.4729296111315489 (Cross Entropy over last 1600 batches)\n",
      "Running average (complete) remaining runtime prediction loss: 0.4259223262965679 (MAE over last 1600 batches)\n",
      "------------------------------------------------------------\n"
     ]
    },
    {
     "name": "stderr",
     "output_type": "stream",
     "text": [
      "Batch calculation at epoch 60.: 4798it [01:36, 49.70it/s]\n"
     ]
    },
    {
     "name": "stdout",
     "output_type": "stream",
     "text": [
      "=======================================\n",
      "End of epoch 60\n",
      "=======================================\n",
      "Running average global loss: 1.898484878614545 (over last 1600 batches)\n",
      "Running average activity prediction loss: 1.4721639610081911 (Cross Entropy over last 1600 batches)\n",
      "Running average (complete) remaining runtime prediction loss: 0.42632091691717505 (MAE over last 1600 batches)\n"
     ]
    },
    {
     "name": "stderr",
     "output_type": "stream",
     "text": [
      "Validation batch calculation: 72it [08:09,  6.80s/it]\n"
     ]
    },
    {
     "name": "stdout",
     "output_type": "stream",
     "text": [
      "Avg 1-(normalized) DL distance acitivty suffix prediction validation set: 0.30550622940063477\n",
      "Percentage of suffixes predicted to END: too early - 0.03011665767899684 ; right moment - 0.10490999815695884 ; too late - 0.8649733441640444\n",
      "Too early instances - avg amount of events too early: 10.439709663391113\n",
      "Too late instances - avg amount of events too late: 43.49346923828125\n",
      "Avg absolute amount of events predicted too early / too late: 37.935096740722656\n",
      "Avg MAE TTNE prediction validation set: 1009.3414713541666 (minutes)'\n",
      "Avg MAE RRT prediction validation set: 0.4952717125415802 (standardized) ; 8298.9546875 (minutes)'\n",
      "Avg validation loss: 1.9354057312011719\n",
      " \n",
      "------------------------------------\n",
      "EPOCH 61:\n",
      "____________________________________\n"
     ]
    },
    {
     "name": "stderr",
     "output_type": "stream",
     "text": [
      "Batch calculation at epoch 61.: 1609it [00:35, 55.70it/s]"
     ]
    },
    {
     "name": "stdout",
     "output_type": "stream",
     "text": [
      "------------------------------------------------------------\n",
      "Epoch 61, batch 1599:\n",
      "Average original gradient norm: 0.33669218135997653 (over last 1600 batches)\n",
      "Average clipped gradient norm: 0.33160820400342345 (over last 1600 batches)\n",
      "Running average global loss: 1.8994284392148257 (over last 1600 batches)\n",
      "Running average activity prediction loss: 1.4726745237410068 (Cross Entropy over last 1600 batches)\n",
      "Running average (complete) remaining runtime prediction loss: 0.4267539153806865 (MAE over last 1600 batches)\n",
      "------------------------------------------------------------\n"
     ]
    },
    {
     "name": "stderr",
     "output_type": "stream",
     "text": [
      "Batch calculation at epoch 61.: 3204it [01:14, 22.69it/s]"
     ]
    },
    {
     "name": "stdout",
     "output_type": "stream",
     "text": [
      "------------------------------------------------------------\n",
      "Epoch 61, batch 3199:\n",
      "Average original gradient norm: 0.33769409283064306 (over last 1600 batches)\n",
      "Average clipped gradient norm: 0.3335757529642433 (over last 1600 batches)\n",
      "Running average global loss: 1.8967744347453117 (over last 1600 batches)\n",
      "Running average activity prediction loss: 1.4709120447933675 (Cross Entropy over last 1600 batches)\n",
      "Running average (complete) remaining runtime prediction loss: 0.4258623893931508 (MAE over last 1600 batches)\n",
      "------------------------------------------------------------\n"
     ]
    },
    {
     "name": "stderr",
     "output_type": "stream",
     "text": [
      "Batch calculation at epoch 61.: 4798it [01:49, 43.94it/s]\n"
     ]
    },
    {
     "name": "stdout",
     "output_type": "stream",
     "text": [
      "=======================================\n",
      "End of epoch 61\n",
      "=======================================\n",
      "Running average global loss: 1.8987074198573828 (over last 1600 batches)\n",
      "Running average activity prediction loss: 1.4731881971657277 (Cross Entropy over last 1600 batches)\n",
      "Running average (complete) remaining runtime prediction loss: 0.4255192218907177 (MAE over last 1600 batches)\n"
     ]
    },
    {
     "name": "stderr",
     "output_type": "stream",
     "text": [
      "Validation batch calculation: 72it [07:57,  6.63s/it]\n"
     ]
    },
    {
     "name": "stdout",
     "output_type": "stream",
     "text": [
      "Avg 1-(normalized) DL distance acitivty suffix prediction validation set: 0.30190110206604004\n",
      "Percentage of suffixes predicted to END: too early - 0.0222052328716629 ; right moment - 0.1015993501573411 ; too late - 0.876195416970996\n",
      "Too early instances - avg amount of events too early: 8.959114074707031\n",
      "Too late instances - avg amount of events too late: 43.53126907348633\n",
      "Avg absolute amount of events predicted too early / too late: 38.34083938598633\n",
      "Avg MAE TTNE prediction validation set: 1010.3197916666667 (minutes)'\n",
      "Avg MAE RRT prediction validation set: 0.49376097321510315 (standardized) ; 8291.0234375 (minutes)'\n",
      "Avg validation loss: 1.923546552658081\n",
      " \n",
      "------------------------------------\n",
      "EPOCH 62:\n",
      "____________________________________\n"
     ]
    },
    {
     "name": "stderr",
     "output_type": "stream",
     "text": [
      "Batch calculation at epoch 62.: 1609it [00:28, 53.30it/s]"
     ]
    },
    {
     "name": "stdout",
     "output_type": "stream",
     "text": [
      "------------------------------------------------------------\n",
      "Epoch 62, batch 1599:\n",
      "Average original gradient norm: 0.3309541951492429 (over last 1600 batches)\n",
      "Average clipped gradient norm: 0.33082260500639676 (over last 1600 batches)\n",
      "Running average global loss: 1.8952007591724396 (over last 1600 batches)\n",
      "Running average activity prediction loss: 1.4699838896095754 (Cross Entropy over last 1600 batches)\n",
      "Running average (complete) remaining runtime prediction loss: 0.42521687105298045 (MAE over last 1600 batches)\n",
      "------------------------------------------------------------\n"
     ]
    },
    {
     "name": "stderr",
     "output_type": "stream",
     "text": [
      "Batch calculation at epoch 62.: 3210it [01:10, 47.91it/s]"
     ]
    },
    {
     "name": "stdout",
     "output_type": "stream",
     "text": [
      "------------------------------------------------------------\n",
      "Epoch 62, batch 3199:\n",
      "Average original gradient norm: 0.33143371910788116 (over last 1600 batches)\n",
      "Average clipped gradient norm: 0.3301813284400851 (over last 1600 batches)\n",
      "Running average global loss: 1.8994144608825445 (over last 1600 batches)\n",
      "Running average activity prediction loss: 1.472235453054309 (Cross Entropy over last 1600 batches)\n",
      "Running average (complete) remaining runtime prediction loss: 0.42717900751158594 (MAE over last 1600 batches)\n",
      "------------------------------------------------------------\n"
     ]
    },
    {
     "name": "stderr",
     "output_type": "stream",
     "text": [
      "Batch calculation at epoch 62.: 4798it [01:48, 44.11it/s]\n"
     ]
    },
    {
     "name": "stdout",
     "output_type": "stream",
     "text": [
      "=======================================\n",
      "End of epoch 62\n",
      "=======================================\n",
      "Running average global loss: 1.897513556331396 (over last 1600 batches)\n",
      "Running average activity prediction loss: 1.472389425560832 (Cross Entropy over last 1600 batches)\n",
      "Running average (complete) remaining runtime prediction loss: 0.42512413220480083 (MAE over last 1600 batches)\n"
     ]
    },
    {
     "name": "stderr",
     "output_type": "stream",
     "text": [
      "Validation batch calculation: 72it [10:06,  8.42s/it]\n"
     ]
    },
    {
     "name": "stdout",
     "output_type": "stream",
     "text": [
      "Avg 1-(normalized) DL distance acitivty suffix prediction validation set: 0.30638909339904785\n",
      "Percentage of suffixes predicted to END: too early - 0.02546809832283255 ; right moment - 0.10245943602940674 ; too late - 0.8720724656477608\n",
      "Too early instances - avg amount of events too early: 8.9458589553833\n",
      "Too late instances - avg amount of events too late: 43.50358200073242\n",
      "Avg absolute amount of events predicted too early / too late: 38.16611099243164\n",
      "Avg MAE TTNE prediction validation set: 1016.0880208333333 (minutes)'\n",
      "Avg MAE RRT prediction validation set: 0.49260762333869934 (standardized) ; 8259.9625 (minutes)'\n",
      "Avg validation loss: 1.9294384717941284\n",
      " \n",
      "------------------------------------\n",
      "EPOCH 63:\n",
      "____________________________________\n"
     ]
    },
    {
     "name": "stderr",
     "output_type": "stream",
     "text": [
      "Batch calculation at epoch 63.: 1601it [01:34, 16.18it/s]"
     ]
    },
    {
     "name": "stdout",
     "output_type": "stream",
     "text": [
      "------------------------------------------------------------\n",
      "Epoch 63, batch 1599:\n",
      "Average original gradient norm: 0.33198972024954854 (over last 1600 batches)\n",
      "Average clipped gradient norm: 0.3297451212350279 (over last 1600 batches)\n",
      "Running average global loss: 1.8962034271657466 (over last 1600 batches)\n",
      "Running average activity prediction loss: 1.4708353588730096 (Cross Entropy over last 1600 batches)\n",
      "Running average (complete) remaining runtime prediction loss: 0.4253680667094886 (MAE over last 1600 batches)\n",
      "------------------------------------------------------------\n"
     ]
    },
    {
     "name": "stderr",
     "output_type": "stream",
     "text": [
      "Batch calculation at epoch 63.: 3209it [02:35, 53.08it/s]"
     ]
    },
    {
     "name": "stdout",
     "output_type": "stream",
     "text": [
      "------------------------------------------------------------\n",
      "Epoch 63, batch 3199:\n",
      "Average original gradient norm: 0.3383845837134868 (over last 1600 batches)\n",
      "Average clipped gradient norm: 0.33560607467778025 (over last 1600 batches)\n",
      "Running average global loss: 1.8953472033888101 (over last 1600 batches)\n",
      "Running average activity prediction loss: 1.470265568345785 (Cross Entropy over last 1600 batches)\n",
      "Running average (complete) remaining runtime prediction loss: 0.4250816331803799 (MAE over last 1600 batches)\n",
      "------------------------------------------------------------\n"
     ]
    },
    {
     "name": "stderr",
     "output_type": "stream",
     "text": [
      "Batch calculation at epoch 63.: 4798it [03:12, 24.87it/s]\n"
     ]
    },
    {
     "name": "stdout",
     "output_type": "stream",
     "text": [
      "=======================================\n",
      "End of epoch 63\n",
      "=======================================\n",
      "Running average global loss: 1.8990625561773777 (over last 1600 batches)\n",
      "Running average activity prediction loss: 1.4723390667140484 (Cross Entropy over last 1600 batches)\n",
      "Running average (complete) remaining runtime prediction loss: 0.4267234881594777 (MAE over last 1600 batches)\n"
     ]
    },
    {
     "name": "stderr",
     "output_type": "stream",
     "text": [
      "Validation batch calculation: 72it [08:35,  7.15s/it]\n"
     ]
    },
    {
     "name": "stdout",
     "output_type": "stream",
     "text": [
      "Avg 1-(normalized) DL distance acitivty suffix prediction validation set: 0.30659353733062744\n",
      "Percentage of suffixes predicted to END: too early - 0.023174535997324178 ; right moment - 0.10270517484999693 ; too late - 0.8741202891526789\n",
      "Too early instances - avg amount of events too early: 8.960824966430664\n",
      "Too late instances - avg amount of events too late: 43.154823303222656\n",
      "Avg absolute amount of events predicted too early / too late: 37.93016815185547\n",
      "Avg MAE TTNE prediction validation set: 1003.1839192708334 (minutes)'\n",
      "Avg MAE RRT prediction validation set: 0.49516260623931885 (standardized) ; 8303.5421875 (minutes)'\n",
      "Avg validation loss: 1.9218251705169678\n",
      " \n",
      "------------------------------------\n",
      "EPOCH 64:\n",
      "____________________________________\n"
     ]
    },
    {
     "name": "stderr",
     "output_type": "stream",
     "text": [
      "Batch calculation at epoch 64.: 1608it [00:50, 43.57it/s]"
     ]
    },
    {
     "name": "stdout",
     "output_type": "stream",
     "text": [
      "------------------------------------------------------------\n",
      "Epoch 64, batch 1599:\n",
      "Average original gradient norm: 0.3390239172521979 (over last 1600 batches)\n",
      "Average clipped gradient norm: 0.33814398967660964 (over last 1600 batches)\n",
      "Running average global loss: 1.897582190707326 (over last 1600 batches)\n",
      "Running average activity prediction loss: 1.4708631213754415 (Cross Entropy over last 1600 batches)\n",
      "Running average (complete) remaining runtime prediction loss: 0.42671906892210243 (MAE over last 1600 batches)\n",
      "------------------------------------------------------------\n"
     ]
    },
    {
     "name": "stderr",
     "output_type": "stream",
     "text": [
      "Batch calculation at epoch 64.: 3201it [01:47, 20.54it/s]"
     ]
    },
    {
     "name": "stdout",
     "output_type": "stream",
     "text": [
      "------------------------------------------------------------\n",
      "Epoch 64, batch 3199:\n",
      "Average original gradient norm: 0.3372861892357469 (over last 1600 batches)\n",
      "Average clipped gradient norm: 0.33231355767697096 (over last 1600 batches)\n",
      "Running average global loss: 1.8962664492428303 (over last 1600 batches)\n",
      "Running average activity prediction loss: 1.4702653169631958 (Cross Entropy over last 1600 batches)\n",
      "Running average (complete) remaining runtime prediction loss: 0.4260011319071054 (MAE over last 1600 batches)\n",
      "------------------------------------------------------------\n"
     ]
    },
    {
     "name": "stderr",
     "output_type": "stream",
     "text": [
      "Batch calculation at epoch 64.: 4798it [02:55, 27.39it/s]\n"
     ]
    },
    {
     "name": "stdout",
     "output_type": "stream",
     "text": [
      "=======================================\n",
      "End of epoch 64\n",
      "=======================================\n",
      "Running average global loss: 1.8953552128374576 (over last 1600 batches)\n",
      "Running average activity prediction loss: 1.4711649475246669 (Cross Entropy over last 1600 batches)\n",
      "Running average (complete) remaining runtime prediction loss: 0.42419026501476764 (MAE over last 1600 batches)\n"
     ]
    },
    {
     "name": "stderr",
     "output_type": "stream",
     "text": [
      "Validation batch calculation: 72it [13:40, 11.40s/it]\n"
     ]
    },
    {
     "name": "stdout",
     "output_type": "stream",
     "text": [
      "Avg 1-(normalized) DL distance acitivty suffix prediction validation set: 0.30594003200531006\n",
      "Percentage of suffixes predicted to END: too early - 0.025788924005269734 ; right moment - 0.10303965268913357 ; too late - 0.8711714233055967\n",
      "Too early instances - avg amount of events too early: 9.611964225769043\n",
      "Too late instances - avg amount of events too late: 43.36341094970703\n",
      "Avg absolute amount of events predicted too early / too late: 38.024845123291016\n",
      "Avg MAE TTNE prediction validation set: 1019.1379557291667 (minutes)'\n",
      "Avg MAE RRT prediction validation set: 0.4932672381401062 (standardized) ; 8266.0984375 (minutes)'\n",
      "Avg validation loss: 1.9285138845443726\n",
      " \n",
      "------------------------------------\n",
      "EPOCH 65:\n",
      "____________________________________\n"
     ]
    },
    {
     "name": "stderr",
     "output_type": "stream",
     "text": [
      "Batch calculation at epoch 65.: 1610it [00:28, 54.11it/s]"
     ]
    },
    {
     "name": "stdout",
     "output_type": "stream",
     "text": [
      "------------------------------------------------------------\n",
      "Epoch 65, batch 1599:\n",
      "Average original gradient norm: 0.36628547419793905 (over last 1600 batches)\n",
      "Average clipped gradient norm: 0.3533496664930135 (over last 1600 batches)\n",
      "Running average global loss: 1.894198707640171 (over last 1600 batches)\n",
      "Running average activity prediction loss: 1.4698443573713302 (Cross Entropy over last 1600 batches)\n",
      "Running average (complete) remaining runtime prediction loss: 0.42435435051098463 (MAE over last 1600 batches)\n",
      "------------------------------------------------------------\n"
     ]
    },
    {
     "name": "stderr",
     "output_type": "stream",
     "text": [
      "Batch calculation at epoch 65.: 3208it [01:00, 54.65it/s]"
     ]
    },
    {
     "name": "stdout",
     "output_type": "stream",
     "text": [
      "------------------------------------------------------------\n",
      "Epoch 65, batch 3199:\n",
      "Average original gradient norm: 0.3407402736041695 (over last 1600 batches)\n",
      "Average clipped gradient norm: 0.3296997868362814 (over last 1600 batches)\n",
      "Running average global loss: 1.89641985014081 (over last 1600 batches)\n",
      "Running average activity prediction loss: 1.4704066717624664 (Cross Entropy over last 1600 batches)\n",
      "Running average (complete) remaining runtime prediction loss: 0.4260131785087287 (MAE over last 1600 batches)\n",
      "------------------------------------------------------------\n"
     ]
    },
    {
     "name": "stderr",
     "output_type": "stream",
     "text": [
      "Batch calculation at epoch 65.: 4798it [01:34, 50.91it/s]\n"
     ]
    },
    {
     "name": "stdout",
     "output_type": "stream",
     "text": [
      "=======================================\n",
      "End of epoch 65\n",
      "=======================================\n",
      "Running average global loss: 1.8967796121537686 (over last 1600 batches)\n",
      "Running average activity prediction loss: 1.4705465745180846 (Cross Entropy over last 1600 batches)\n",
      "Running average (complete) remaining runtime prediction loss: 0.42623303666710854 (MAE over last 1600 batches)\n"
     ]
    },
    {
     "name": "stderr",
     "output_type": "stream",
     "text": [
      "Validation batch calculation: 72it [08:11,  6.82s/it]\n"
     ]
    },
    {
     "name": "stdout",
     "output_type": "stream",
     "text": [
      "Avg 1-(normalized) DL distance acitivty suffix prediction validation set: 0.30260056257247925\n",
      "Percentage of suffixes predicted to END: too early - 0.023782056970449907 ; right moment - 0.1040499122848932 ; too late - 0.8721680307446569\n",
      "Too early instances - avg amount of events too early: 11.033581733703613\n",
      "Too late instances - avg amount of events too late: 43.47806167602539\n",
      "Avg absolute amount of events predicted too early / too late: 38.18257522583008\n",
      "Avg MAE TTNE prediction validation set: 1015.5768229166666 (minutes)'\n",
      "Avg MAE RRT prediction validation set: 0.49506592750549316 (standardized) ; 8304.696875 (minutes)'\n",
      "Avg validation loss: 1.923744797706604\n",
      " \n",
      "------------------------------------\n",
      "EPOCH 66:\n",
      "____________________________________\n"
     ]
    },
    {
     "name": "stderr",
     "output_type": "stream",
     "text": [
      "Batch calculation at epoch 66.: 1601it [00:37, 30.89it/s]"
     ]
    },
    {
     "name": "stdout",
     "output_type": "stream",
     "text": [
      "------------------------------------------------------------\n",
      "Epoch 66, batch 1599:\n",
      "Average original gradient norm: 0.3419658446125686 (over last 1600 batches)\n",
      "Average clipped gradient norm: 0.3409461168013513 (over last 1600 batches)\n",
      "Running average global loss: 1.8940647491067648 (over last 1600 batches)\n",
      "Running average activity prediction loss: 1.4694614316523076 (Cross Entropy over last 1600 batches)\n",
      "Running average (complete) remaining runtime prediction loss: 0.42460331667214635 (MAE over last 1600 batches)\n",
      "------------------------------------------------------------\n"
     ]
    },
    {
     "name": "stderr",
     "output_type": "stream",
     "text": [
      "Batch calculation at epoch 66.: 3208it [01:12, 55.28it/s]"
     ]
    },
    {
     "name": "stdout",
     "output_type": "stream",
     "text": [
      "------------------------------------------------------------\n",
      "Epoch 66, batch 3199:\n",
      "Average original gradient norm: 0.3658075932133943 (over last 1600 batches)\n",
      "Average clipped gradient norm: 0.34415496801026163 (over last 1600 batches)\n",
      "Running average global loss: 1.8960204628109931 (over last 1600 batches)\n",
      "Running average activity prediction loss: 1.4703498155623675 (Cross Entropy over last 1600 batches)\n",
      "Running average (complete) remaining runtime prediction loss: 0.4256706468388438 (MAE over last 1600 batches)\n",
      "------------------------------------------------------------\n"
     ]
    },
    {
     "name": "stderr",
     "output_type": "stream",
     "text": [
      "Batch calculation at epoch 66.: 4798it [01:38, 48.80it/s]\n"
     ]
    },
    {
     "name": "stdout",
     "output_type": "stream",
     "text": [
      "=======================================\n",
      "End of epoch 66\n",
      "=======================================\n",
      "Running average global loss: 1.8970102344453335 (over last 1600 batches)\n",
      "Running average activity prediction loss: 1.4708058296889066 (Cross Entropy over last 1600 batches)\n",
      "Running average (complete) remaining runtime prediction loss: 0.4262044033780694 (MAE over last 1600 batches)\n"
     ]
    },
    {
     "name": "stderr",
     "output_type": "stream",
     "text": [
      "Validation batch calculation: 72it [08:14,  6.87s/it]\n"
     ]
    },
    {
     "name": "stdout",
     "output_type": "stream",
     "text": [
      "Avg 1-(normalized) DL distance acitivty suffix prediction validation set: 0.3089747428894043\n",
      "Percentage of suffixes predicted to END: too early - 0.025550011263029276 ; right moment - 0.1045482160044233 ; too late - 0.8699017727325474\n",
      "Too early instances - avg amount of events too early: 9.60993766784668\n",
      "Too late instances - avg amount of events too late: 43.194305419921875\n",
      "Avg absolute amount of events predicted too early / too late: 37.82033920288086\n",
      "Avg MAE TTNE prediction validation set: 1013.7164713541666 (minutes)'\n",
      "Avg MAE RRT prediction validation set: 0.49390846490859985 (standardized) ; 8281.673958333333 (minutes)'\n",
      "Avg validation loss: 1.925589680671692\n",
      " \n",
      "------------------------------------\n",
      "EPOCH 67:\n",
      "____________________________________\n"
     ]
    },
    {
     "name": "stderr",
     "output_type": "stream",
     "text": [
      "Batch calculation at epoch 67.: 1604it [00:52, 48.62it/s]"
     ]
    },
    {
     "name": "stdout",
     "output_type": "stream",
     "text": [
      "------------------------------------------------------------\n",
      "Epoch 67, batch 1599:\n",
      "Average original gradient norm: 0.33848182679153976 (over last 1600 batches)\n",
      "Average clipped gradient norm: 0.3318963116500527 (over last 1600 batches)\n",
      "Running average global loss: 1.8958492241054774 (over last 1600 batches)\n",
      "Running average activity prediction loss: 1.47058438077569 (Cross Entropy over last 1600 batches)\n",
      "Running average (complete) remaining runtime prediction loss: 0.4252648444287479 (MAE over last 1600 batches)\n",
      "------------------------------------------------------------\n"
     ]
    },
    {
     "name": "stderr",
     "output_type": "stream",
     "text": [
      "Batch calculation at epoch 67.: 3207it [01:27, 59.23it/s]"
     ]
    },
    {
     "name": "stdout",
     "output_type": "stream",
     "text": [
      "------------------------------------------------------------\n",
      "Epoch 67, batch 3199:\n",
      "Average original gradient norm: 0.34761383892968295 (over last 1600 batches)\n",
      "Average clipped gradient norm: 0.34096485437825325 (over last 1600 batches)\n",
      "Running average global loss: 1.8942798559367657 (over last 1600 batches)\n",
      "Running average activity prediction loss: 1.4689214388281107 (Cross Entropy over last 1600 batches)\n",
      "Running average (complete) remaining runtime prediction loss: 0.4253584177419543 (MAE over last 1600 batches)\n",
      "------------------------------------------------------------\n"
     ]
    },
    {
     "name": "stderr",
     "output_type": "stream",
     "text": [
      "Batch calculation at epoch 67.: 4798it [02:00, 39.87it/s]\n"
     ]
    },
    {
     "name": "stdout",
     "output_type": "stream",
     "text": [
      "=======================================\n",
      "End of epoch 67\n",
      "=======================================\n",
      "Running average global loss: 1.8953371144086122 (over last 1600 batches)\n",
      "Running average activity prediction loss: 1.4698122613132 (Cross Entropy over last 1600 batches)\n",
      "Running average (complete) remaining runtime prediction loss: 0.4255248521640897 (MAE over last 1600 batches)\n"
     ]
    },
    {
     "name": "stderr",
     "output_type": "stream",
     "text": [
      "Validation batch calculation: 72it [08:32,  7.12s/it]\n"
     ]
    },
    {
     "name": "stdout",
     "output_type": "stream",
     "text": [
      "Avg 1-(normalized) DL distance acitivty suffix prediction validation set: 0.3038254976272583\n",
      "Percentage of suffixes predicted to END: too early - 0.022976579725182085 ; right moment - 0.10318300033447785 ; too late - 0.8738404199403401\n",
      "Too early instances - avg amount of events too early: 9.041592597961426\n",
      "Too late instances - avg amount of events too late: 43.44525909423828\n",
      "Avg absolute amount of events predicted too early / too late: 38.17197036743164\n",
      "Avg MAE TTNE prediction validation set: 1017.1509765625 (minutes)'\n",
      "Avg MAE RRT prediction validation set: 0.4951642155647278 (standardized) ; 8314.552604166667 (minutes)'\n",
      "Avg validation loss: 1.9311481714248657\n",
      " \n",
      "------------------------------------\n",
      "EPOCH 68:\n",
      "____________________________________\n"
     ]
    },
    {
     "name": "stderr",
     "output_type": "stream",
     "text": [
      "Batch calculation at epoch 68.: 1609it [00:47, 48.52it/s]"
     ]
    },
    {
     "name": "stdout",
     "output_type": "stream",
     "text": [
      "------------------------------------------------------------\n",
      "Epoch 68, batch 1599:\n",
      "Average original gradient norm: 0.3834226190857589 (over last 1600 batches)\n",
      "Average clipped gradient norm: 0.3594857140444219 (over last 1600 batches)\n",
      "Running average global loss: 1.8944209335744382 (over last 1600 batches)\n",
      "Running average activity prediction loss: 1.469622840359807 (Cross Entropy over last 1600 batches)\n",
      "Running average (complete) remaining runtime prediction loss: 0.4247980939410627 (MAE over last 1600 batches)\n",
      "------------------------------------------------------------\n"
     ]
    },
    {
     "name": "stderr",
     "output_type": "stream",
     "text": [
      "Batch calculation at epoch 68.: 3208it [01:31, 41.78it/s]"
     ]
    },
    {
     "name": "stdout",
     "output_type": "stream",
     "text": [
      "------------------------------------------------------------\n",
      "Epoch 68, batch 3199:\n",
      "Average original gradient norm: 0.3484373624995351 (over last 1600 batches)\n",
      "Average clipped gradient norm: 0.3379380106553435 (over last 1600 batches)\n",
      "Running average global loss: 1.8948926570266484 (over last 1600 batches)\n",
      "Running average activity prediction loss: 1.469706770926714 (Cross Entropy over last 1600 batches)\n",
      "Running average (complete) remaining runtime prediction loss: 0.4251858864352107 (MAE over last 1600 batches)\n",
      "------------------------------------------------------------\n"
     ]
    },
    {
     "name": "stderr",
     "output_type": "stream",
     "text": [
      "Batch calculation at epoch 68.: 4798it [02:27, 32.51it/s]\n"
     ]
    },
    {
     "name": "stdout",
     "output_type": "stream",
     "text": [
      "=======================================\n",
      "End of epoch 68\n",
      "=======================================\n",
      "Running average global loss: 1.8966226334124803 (over last 1600 batches)\n",
      "Running average activity prediction loss: 1.4710722295194865 (Cross Entropy over last 1600 batches)\n",
      "Running average (complete) remaining runtime prediction loss: 0.42555040381848813 (MAE over last 1600 batches)\n"
     ]
    },
    {
     "name": "stderr",
     "output_type": "stream",
     "text": [
      "Validation batch calculation: 72it [10:09,  8.47s/it]\n"
     ]
    },
    {
     "name": "stdout",
     "output_type": "stream",
     "text": [
      "Avg 1-(normalized) DL distance acitivty suffix prediction validation set: 0.3063005208969116\n",
      "Percentage of suffixes predicted to END: too early - 0.019911670546154527 ; right moment - 0.10179048035113347 ; too late - 0.878297849102712\n",
      "Too early instances - avg amount of events too early: 8.800823211669922\n",
      "Too late instances - avg amount of events too late: 43.47736358642578\n",
      "Avg absolute amount of events predicted too early / too late: 38.36131286621094\n",
      "Avg MAE TTNE prediction validation set: 1017.8503255208333 (minutes)'\n",
      "Avg MAE RRT prediction validation set: 0.49350300431251526 (standardized) ; 8281.382291666667 (minutes)'\n",
      "Avg validation loss: 1.9185256958007812\n",
      " \n",
      "------------------------------------\n",
      "EPOCH 69:\n",
      "____________________________________\n"
     ]
    },
    {
     "name": "stderr",
     "output_type": "stream",
     "text": [
      "Batch calculation at epoch 69.: 1604it [00:46, 37.94it/s]"
     ]
    },
    {
     "name": "stdout",
     "output_type": "stream",
     "text": [
      "------------------------------------------------------------\n",
      "Epoch 69, batch 1599:\n",
      "Average original gradient norm: 0.3540100661013275 (over last 1600 batches)\n",
      "Average clipped gradient norm: 0.3484715514723212 (over last 1600 batches)\n",
      "Running average global loss: 1.8926168336719273 (over last 1600 batches)\n",
      "Running average activity prediction loss: 1.468173824250698 (Cross Entropy over last 1600 batches)\n",
      "Running average (complete) remaining runtime prediction loss: 0.4244430083967745 (MAE over last 1600 batches)\n",
      "------------------------------------------------------------\n"
     ]
    },
    {
     "name": "stderr",
     "output_type": "stream",
     "text": [
      "Batch calculation at epoch 69.: 3204it [01:30, 24.84it/s]"
     ]
    },
    {
     "name": "stdout",
     "output_type": "stream",
     "text": [
      "------------------------------------------------------------\n",
      "Epoch 69, batch 3199:\n",
      "Average original gradient norm: 0.35751434423960743 (over last 1600 batches)\n",
      "Average clipped gradient norm: 0.34830070548690856 (over last 1600 batches)\n",
      "Running average global loss: 1.8963185073435307 (over last 1600 batches)\n",
      "Running average activity prediction loss: 1.4706162123382092 (Cross Entropy over last 1600 batches)\n",
      "Running average (complete) remaining runtime prediction loss: 0.42570229517295954 (MAE over last 1600 batches)\n",
      "------------------------------------------------------------\n"
     ]
    },
    {
     "name": "stderr",
     "output_type": "stream",
     "text": [
      "Batch calculation at epoch 69.: 4798it [02:49, 28.37it/s]\n"
     ]
    },
    {
     "name": "stdout",
     "output_type": "stream",
     "text": [
      "=======================================\n",
      "End of epoch 69\n",
      "=======================================\n",
      "Running average global loss: 1.89598239839077 (over last 1600 batches)\n",
      "Running average activity prediction loss: 1.4701936431974172 (Cross Entropy over last 1600 batches)\n",
      "Running average (complete) remaining runtime prediction loss: 0.42578875496983526 (MAE over last 1600 batches)\n"
     ]
    },
    {
     "name": "stderr",
     "output_type": "stream",
     "text": [
      "Validation batch calculation: 72it [12:36, 10.51s/it]\n"
     ]
    },
    {
     "name": "stdout",
     "output_type": "stream",
     "text": [
      "Avg 1-(normalized) DL distance acitivty suffix prediction validation set: 0.3131248354911804\n",
      "Percentage of suffixes predicted to END: too early - 0.02202775483456999 ; right moment - 0.10198843662327556 ; too late - 0.8759838085421544\n",
      "Too early instances - avg amount of events too early: 9.279206275939941\n",
      "Too late instances - avg amount of events too late: 43.42189025878906\n",
      "Avg absolute amount of events predicted too early / too late: 38.241275787353516\n",
      "Avg MAE TTNE prediction validation set: 1009.1305338541666 (minutes)'\n",
      "Avg MAE RRT prediction validation set: 0.4929036498069763 (standardized) ; 8276.633854166666 (minutes)'\n",
      "Avg validation loss: 1.9247335195541382\n",
      " \n",
      "------------------------------------\n",
      "EPOCH 70:\n",
      "____________________________________\n"
     ]
    },
    {
     "name": "stderr",
     "output_type": "stream",
     "text": [
      "Batch calculation at epoch 70.: 1604it [01:09, 19.91it/s]"
     ]
    },
    {
     "name": "stdout",
     "output_type": "stream",
     "text": [
      "------------------------------------------------------------\n",
      "Epoch 70, batch 1599:\n",
      "Average original gradient norm: 0.44804494905285536 (over last 1600 batches)\n",
      "Average clipped gradient norm: 0.35799209925346076 (over last 1600 batches)\n",
      "Running average global loss: 1.894806547164917 (over last 1600 batches)\n",
      "Running average activity prediction loss: 1.4700446806848049 (Cross Entropy over last 1600 batches)\n",
      "Running average (complete) remaining runtime prediction loss: 0.4247618673183024 (MAE over last 1600 batches)\n",
      "------------------------------------------------------------\n"
     ]
    },
    {
     "name": "stderr",
     "output_type": "stream",
     "text": [
      "Batch calculation at epoch 70.: 3212it [01:59, 56.83it/s]"
     ]
    },
    {
     "name": "stdout",
     "output_type": "stream",
     "text": [
      "------------------------------------------------------------\n",
      "Epoch 70, batch 3199:\n",
      "Average original gradient norm: 0.3390390950627625 (over last 1600 batches)\n",
      "Average clipped gradient norm: 0.3364893427677453 (over last 1600 batches)\n",
      "Running average global loss: 1.8910437665134667 (over last 1600 batches)\n",
      "Running average activity prediction loss: 1.4680147461593152 (Cross Entropy over last 1600 batches)\n",
      "Running average (complete) remaining runtime prediction loss: 0.42302902024239303 (MAE over last 1600 batches)\n",
      "------------------------------------------------------------\n"
     ]
    },
    {
     "name": "stderr",
     "output_type": "stream",
     "text": [
      "Batch calculation at epoch 70.: 4798it [02:29, 32.17it/s]\n"
     ]
    },
    {
     "name": "stdout",
     "output_type": "stream",
     "text": [
      "=======================================\n",
      "End of epoch 70\n",
      "=======================================\n",
      "Running average global loss: 1.9032815264165401 (over last 1600 batches)\n",
      "Running average activity prediction loss: 1.4753426358103752 (Cross Entropy over last 1600 batches)\n",
      "Running average (complete) remaining runtime prediction loss: 0.4279388913884759 (MAE over last 1600 batches)\n"
     ]
    },
    {
     "name": "stderr",
     "output_type": "stream",
     "text": [
      "Validation batch calculation: 72it [09:08,  7.62s/it]\n"
     ]
    },
    {
     "name": "stdout",
     "output_type": "stream",
     "text": [
      "Avg 1-(normalized) DL distance acitivty suffix prediction validation set: 0.28994691371917725\n",
      "Percentage of suffixes predicted to END: too early - 0.012218680246011865 ; right moment - 0.09100527655856434 ; too late - 0.8967760431954238\n",
      "Too early instances - avg amount of events too early: 10.769831657409668\n",
      "Too late instances - avg amount of events too late: 43.17375183105469\n",
      "Avg absolute amount of events predicted too early / too late: 38.84878158569336\n",
      "Avg MAE TTNE prediction validation set: 1012.336328125 (minutes)'\n",
      "Avg MAE RRT prediction validation set: 0.4940952956676483 (standardized) ; 8292.426041666668 (minutes)'\n",
      "Avg validation loss: 1.93938148021698\n",
      " \n",
      "------------------------------------\n",
      "EPOCH 71:\n",
      "____________________________________\n"
     ]
    },
    {
     "name": "stderr",
     "output_type": "stream",
     "text": [
      "Batch calculation at epoch 71.: 1607it [00:31, 59.36it/s]"
     ]
    },
    {
     "name": "stdout",
     "output_type": "stream",
     "text": [
      "------------------------------------------------------------\n",
      "Epoch 71, batch 1599:\n",
      "Average original gradient norm: 0.6304631113447249 (over last 1600 batches)\n",
      "Average clipped gradient norm: 0.5489895585365594 (over last 1600 batches)\n",
      "Running average global loss: 1.9877379397302866 (over last 1600 batches)\n",
      "Running average activity prediction loss: 1.55594816416502 (Cross Entropy over last 1600 batches)\n",
      "Running average (complete) remaining runtime prediction loss: 0.43178977478295566 (MAE over last 1600 batches)\n",
      "------------------------------------------------------------\n"
     ]
    },
    {
     "name": "stderr",
     "output_type": "stream",
     "text": [
      "Batch calculation at epoch 71.: 3206it [01:17, 45.67it/s]"
     ]
    },
    {
     "name": "stdout",
     "output_type": "stream",
     "text": [
      "------------------------------------------------------------\n",
      "Epoch 71, batch 3199:\n",
      "Average original gradient norm: 0.7178687488287687 (over last 1600 batches)\n",
      "Average clipped gradient norm: 0.6700859423726797 (over last 1600 batches)\n",
      "Running average global loss: 1.9774477332085372 (over last 1600 batches)\n",
      "Running average activity prediction loss: 1.544957536160946 (Cross Entropy over last 1600 batches)\n",
      "Running average (complete) remaining runtime prediction loss: 0.4324901971966028 (MAE over last 1600 batches)\n",
      "------------------------------------------------------------\n"
     ]
    },
    {
     "name": "stderr",
     "output_type": "stream",
     "text": [
      "Batch calculation at epoch 71.: 4798it [02:19, 34.38it/s]\n"
     ]
    },
    {
     "name": "stdout",
     "output_type": "stream",
     "text": [
      "=======================================\n",
      "End of epoch 71\n",
      "=======================================\n",
      "Running average global loss: 1.9559695418179035 (over last 1600 batches)\n",
      "Running average activity prediction loss: 1.5239118481427432 (Cross Entropy over last 1600 batches)\n",
      "Running average (complete) remaining runtime prediction loss: 0.43205769134685396 (MAE over last 1600 batches)\n"
     ]
    },
    {
     "name": "stderr",
     "output_type": "stream",
     "text": [
      "Validation batch calculation: 72it [09:39,  8.05s/it]\n"
     ]
    },
    {
     "name": "stdout",
     "output_type": "stream",
     "text": [
      "Avg 1-(normalized) DL distance acitivty suffix prediction validation set: 0.2947765588760376\n",
      "Percentage of suffixes predicted to END: too early - 0.017222195676361973 ; right moment - 0.09780405059489272 ; too late - 0.8849737537287453\n",
      "Too early instances - avg amount of events too early: 8.116131782531738\n",
      "Too late instances - avg amount of events too late: 43.77463150024414\n",
      "Avg absolute amount of events predicted too early / too late: 38.87917709350586\n",
      "Avg MAE TTNE prediction validation set: 1138.805859375 (minutes)'\n",
      "Avg MAE RRT prediction validation set: 0.49398234486579895 (standardized) ; 8294.263020833334 (minutes)'\n",
      "Avg validation loss: 1.9617559909820557\n",
      " \n",
      "------------------------------------\n",
      "EPOCH 72:\n",
      "____________________________________\n"
     ]
    },
    {
     "name": "stderr",
     "output_type": "stream",
     "text": [
      "Batch calculation at epoch 72.: 1603it [01:24, 21.37it/s]"
     ]
    },
    {
     "name": "stdout",
     "output_type": "stream",
     "text": [
      "------------------------------------------------------------\n",
      "Epoch 72, batch 1599:\n",
      "Average original gradient norm: 0.581660775654018 (over last 1600 batches)\n",
      "Average clipped gradient norm: 0.577788256816566 (over last 1600 batches)\n",
      "Running average global loss: 1.9432944065332414 (over last 1600 batches)\n",
      "Running average activity prediction loss: 1.5128874652832747 (Cross Entropy over last 1600 batches)\n",
      "Running average (complete) remaining runtime prediction loss: 0.43040694076567887 (MAE over last 1600 batches)\n",
      "------------------------------------------------------------\n"
     ]
    },
    {
     "name": "stderr",
     "output_type": "stream",
     "text": [
      "Batch calculation at epoch 72.: 3206it [02:58, 35.50it/s]"
     ]
    },
    {
     "name": "stdout",
     "output_type": "stream",
     "text": [
      "------------------------------------------------------------\n",
      "Epoch 72, batch 3199:\n",
      "Average original gradient norm: 0.5526208997797221 (over last 1600 batches)\n",
      "Average clipped gradient norm: 0.5463534469436854 (over last 1600 batches)\n",
      "Running average global loss: 1.93407393977046 (over last 1600 batches)\n",
      "Running average activity prediction loss: 1.5046444150060416 (Cross Entropy over last 1600 batches)\n",
      "Running average (complete) remaining runtime prediction loss: 0.42942952394485473 (MAE over last 1600 batches)\n",
      "------------------------------------------------------------\n"
     ]
    },
    {
     "name": "stderr",
     "output_type": "stream",
     "text": [
      "Batch calculation at epoch 72.: 4798it [04:09, 19.23it/s]\n"
     ]
    },
    {
     "name": "stdout",
     "output_type": "stream",
     "text": [
      "=======================================\n",
      "End of epoch 72\n",
      "=======================================\n",
      "Running average global loss: 1.9277046666294337 (over last 1600 batches)\n",
      "Running average activity prediction loss: 1.4997119198739528 (Cross Entropy over last 1600 batches)\n",
      "Running average (complete) remaining runtime prediction loss: 0.4279927471652627 (MAE over last 1600 batches)\n"
     ]
    },
    {
     "name": "stderr",
     "output_type": "stream",
     "text": [
      "Validation batch calculation: 72it [09:34,  7.98s/it]\n"
     ]
    },
    {
     "name": "stdout",
     "output_type": "stream",
     "text": [
      "Avg 1-(normalized) DL distance acitivty suffix prediction validation set: 0.3026687502861023\n",
      "Percentage of suffixes predicted to END: too early - 0.014798937862208782 ; right moment - 0.09765387687119872 ; too late - 0.8875471852665925\n",
      "Too early instances - avg amount of events too early: 7.676660537719727\n",
      "Too late instances - avg amount of events too late: 43.64376449584961\n",
      "Avg absolute amount of events predicted too early / too late: 38.84950637817383\n",
      "Avg MAE TTNE prediction validation set: 1137.5197916666666 (minutes)'\n",
      "Avg MAE RRT prediction validation set: 0.49569424986839294 (standardized) ; 8318.3 (minutes)'\n",
      "Avg validation loss: 1.9516292810440063\n",
      " \n",
      "------------------------------------\n",
      "EPOCH 73:\n",
      "____________________________________\n"
     ]
    },
    {
     "name": "stderr",
     "output_type": "stream",
     "text": [
      "Batch calculation at epoch 73.: 1606it [00:42, 40.72it/s]"
     ]
    },
    {
     "name": "stdout",
     "output_type": "stream",
     "text": [
      "------------------------------------------------------------\n",
      "Epoch 73, batch 1599:\n",
      "Average original gradient norm: 0.5173127302154898 (over last 1600 batches)\n",
      "Average clipped gradient norm: 0.5117073768004775 (over last 1600 batches)\n",
      "Running average global loss: 1.9229458783566953 (over last 1600 batches)\n",
      "Running average activity prediction loss: 1.49661883816123 (Cross Entropy over last 1600 batches)\n",
      "Running average (complete) remaining runtime prediction loss: 0.4263270414993167 (MAE over last 1600 batches)\n",
      "------------------------------------------------------------\n"
     ]
    },
    {
     "name": "stderr",
     "output_type": "stream",
     "text": [
      "Batch calculation at epoch 73.: 3204it [01:17, 42.34it/s]"
     ]
    },
    {
     "name": "stdout",
     "output_type": "stream",
     "text": [
      "------------------------------------------------------------\n",
      "Epoch 73, batch 3199:\n",
      "Average original gradient norm: 0.48006994182243945 (over last 1600 batches)\n",
      "Average clipped gradient norm: 0.4784977567382157 (over last 1600 batches)\n",
      "Running average global loss: 1.9238052330166102 (over last 1600 batches)\n",
      "Running average activity prediction loss: 1.4954072353988885 (Cross Entropy over last 1600 batches)\n",
      "Running average (complete) remaining runtime prediction loss: 0.42839800015091895 (MAE over last 1600 batches)\n",
      "------------------------------------------------------------\n"
     ]
    },
    {
     "name": "stderr",
     "output_type": "stream",
     "text": [
      "Batch calculation at epoch 73.: 4798it [02:00, 39.98it/s]\n"
     ]
    },
    {
     "name": "stdout",
     "output_type": "stream",
     "text": [
      "=======================================\n",
      "End of epoch 73\n",
      "=======================================\n",
      "Running average global loss: 1.9248321166634559 (over last 1600 batches)\n",
      "Running average activity prediction loss: 1.4953018579632045 (Cross Entropy over last 1600 batches)\n",
      "Running average (complete) remaining runtime prediction loss: 0.42953025886788965 (MAE over last 1600 batches)\n"
     ]
    },
    {
     "name": "stderr",
     "output_type": "stream",
     "text": [
      "Validation batch calculation: 72it [08:46,  7.31s/it]\n"
     ]
    },
    {
     "name": "stdout",
     "output_type": "stream",
     "text": [
      "Avg 1-(normalized) DL distance acitivty suffix prediction validation set: 0.30194777250289917\n",
      "Percentage of suffixes predicted to END: too early - 0.018409933309214522 ; right moment - 0.10015904762554864 ; too late - 0.8814310190652368\n",
      "Too early instances - avg amount of events too early: 7.994809150695801\n",
      "Too late instances - avg amount of events too late: 43.5163459777832\n",
      "Avg absolute amount of events predicted too early / too late: 38.503841400146484\n",
      "Avg MAE TTNE prediction validation set: 1144.3265625 (minutes)'\n",
      "Avg MAE RRT prediction validation set: 0.496306836605072 (standardized) ; 8332.171875 (minutes)'\n",
      "Avg validation loss: 1.9468681812286377\n",
      " \n",
      "------------------------------------\n",
      "EPOCH 74:\n",
      "____________________________________\n"
     ]
    },
    {
     "name": "stderr",
     "output_type": "stream",
     "text": [
      "Batch calculation at epoch 74.: 1609it [00:28, 55.92it/s]"
     ]
    },
    {
     "name": "stdout",
     "output_type": "stream",
     "text": [
      "------------------------------------------------------------\n",
      "Epoch 74, batch 1599:\n",
      "Average original gradient norm: 0.49283560454845426 (over last 1600 batches)\n",
      "Average clipped gradient norm: 0.48414492785930635 (over last 1600 batches)\n",
      "Running average global loss: 1.920773216113448 (over last 1600 batches)\n",
      "Running average activity prediction loss: 1.4931698051095008 (Cross Entropy over last 1600 batches)\n",
      "Running average (complete) remaining runtime prediction loss: 0.42760341173037886 (MAE over last 1600 batches)\n",
      "------------------------------------------------------------\n"
     ]
    },
    {
     "name": "stderr",
     "output_type": "stream",
     "text": [
      "Batch calculation at epoch 74.: 3206it [00:59, 53.36it/s]"
     ]
    },
    {
     "name": "stdout",
     "output_type": "stream",
     "text": [
      "------------------------------------------------------------\n",
      "Epoch 74, batch 3199:\n",
      "Average original gradient norm: 0.4872042230516672 (over last 1600 batches)\n",
      "Average clipped gradient norm: 0.46661111041903497 (over last 1600 batches)\n",
      "Running average global loss: 1.9193024240434169 (over last 1600 batches)\n",
      "Running average activity prediction loss: 1.4907979641109705 (Cross Entropy over last 1600 batches)\n",
      "Running average (complete) remaining runtime prediction loss: 0.4285044589266181 (MAE over last 1600 batches)\n",
      "------------------------------------------------------------\n"
     ]
    },
    {
     "name": "stderr",
     "output_type": "stream",
     "text": [
      "Batch calculation at epoch 74.: 4798it [01:41, 47.32it/s]\n"
     ]
    },
    {
     "name": "stdout",
     "output_type": "stream",
     "text": [
      "=======================================\n",
      "End of epoch 74\n",
      "=======================================\n",
      "Running average global loss: 1.916599943265319 (over last 1600 batches)\n",
      "Running average activity prediction loss: 1.4899292831867934 (Cross Entropy over last 1600 batches)\n",
      "Running average (complete) remaining runtime prediction loss: 0.42667065901681783 (MAE over last 1600 batches)\n"
     ]
    },
    {
     "name": "stderr",
     "output_type": "stream",
     "text": [
      "Validation batch calculation: 72it [13:38, 11.37s/it]\n"
     ]
    },
    {
     "name": "stdout",
     "output_type": "stream",
     "text": [
      "Avg 1-(normalized) DL distance acitivty suffix prediction validation set: 0.304890513420105\n",
      "Percentage of suffixes predicted to END: too early - 0.01922223663283207 ; right moment - 0.10086895977392028 ; too late - 0.8799088035932476\n",
      "Too early instances - avg amount of events too early: 8.267755508422852\n",
      "Too late instances - avg amount of events too late: 43.251956939697266\n",
      "Avg absolute amount of events predicted too early / too late: 38.21670150756836\n",
      "Avg MAE TTNE prediction validation set: 1115.5440104166667 (minutes)'\n",
      "Avg MAE RRT prediction validation set: 0.4940144419670105 (standardized) ; 8291.972395833332 (minutes)'\n",
      "Avg validation loss: 1.9401394128799438\n",
      " \n",
      "------------------------------------\n",
      "EPOCH 75:\n",
      "____________________________________\n"
     ]
    },
    {
     "name": "stderr",
     "output_type": "stream",
     "text": [
      "Batch calculation at epoch 75.: 1603it [00:38, 30.41it/s]"
     ]
    },
    {
     "name": "stdout",
     "output_type": "stream",
     "text": [
      "------------------------------------------------------------\n",
      "Epoch 75, batch 1599:\n",
      "Average original gradient norm: 0.46531111843883993 (over last 1600 batches)\n",
      "Average clipped gradient norm: 0.454061069637537 (over last 1600 batches)\n",
      "Running average global loss: 1.915897590368986 (over last 1600 batches)\n",
      "Running average activity prediction loss: 1.4890607138723135 (Cross Entropy over last 1600 batches)\n",
      "Running average (complete) remaining runtime prediction loss: 0.42683687681332233 (MAE over last 1600 batches)\n",
      "------------------------------------------------------------\n"
     ]
    },
    {
     "name": "stderr",
     "output_type": "stream",
     "text": [
      "Batch calculation at epoch 75.: 3206it [01:14, 51.04it/s]"
     ]
    },
    {
     "name": "stdout",
     "output_type": "stream",
     "text": [
      "------------------------------------------------------------\n",
      "Epoch 75, batch 3199:\n",
      "Average original gradient norm: 0.4512890989147127 (over last 1600 batches)\n",
      "Average clipped gradient norm: 0.4442992606572807 (over last 1600 batches)\n",
      "Running average global loss: 1.913760541677475 (over last 1600 batches)\n",
      "Running average activity prediction loss: 1.487037189528346 (Cross Entropy over last 1600 batches)\n",
      "Running average (complete) remaining runtime prediction loss: 0.42672335175797343 (MAE over last 1600 batches)\n",
      "------------------------------------------------------------\n"
     ]
    },
    {
     "name": "stderr",
     "output_type": "stream",
     "text": [
      "Batch calculation at epoch 75.: 4798it [02:00, 39.95it/s]\n"
     ]
    },
    {
     "name": "stdout",
     "output_type": "stream",
     "text": [
      "=======================================\n",
      "End of epoch 75\n",
      "=======================================\n",
      "Running average global loss: 1.9173223213851451 (over last 1600 batches)\n",
      "Running average activity prediction loss: 1.489534617215395 (Cross Entropy over last 1600 batches)\n",
      "Running average (complete) remaining runtime prediction loss: 0.42778770327568055 (MAE over last 1600 batches)\n"
     ]
    },
    {
     "name": "stderr",
     "output_type": "stream",
     "text": [
      "Validation batch calculation: 72it [08:49,  7.36s/it]\n"
     ]
    },
    {
     "name": "stdout",
     "output_type": "stream",
     "text": [
      "Avg 1-(normalized) DL distance acitivty suffix prediction validation set: 0.3012157678604126\n",
      "Percentage of suffixes predicted to END: too early - 0.018860454480296523 ; right moment - 0.10108056820276183 ; too late - 0.8800589773169416\n",
      "Too early instances - avg amount of events too early: 8.048136711120605\n",
      "Too late instances - avg amount of events too late: 43.507965087890625\n",
      "Avg absolute amount of events predicted too early / too late: 38.441368103027344\n",
      "Avg MAE TTNE prediction validation set: 1103.13125 (minutes)'\n",
      "Avg MAE RRT prediction validation set: 0.49444901943206787 (standardized) ; 8299.289583333333 (minutes)'\n",
      "Avg validation loss: 1.9379088878631592\n",
      " \n",
      "------------------------------------\n",
      "EPOCH 76:\n",
      "____________________________________\n"
     ]
    },
    {
     "name": "stderr",
     "output_type": "stream",
     "text": [
      "Batch calculation at epoch 76.: 1606it [00:33, 52.30it/s]"
     ]
    },
    {
     "name": "stdout",
     "output_type": "stream",
     "text": [
      "------------------------------------------------------------\n",
      "Epoch 76, batch 1599:\n",
      "Average original gradient norm: 0.4508429642673582 (over last 1600 batches)\n",
      "Average clipped gradient norm: 0.43307077801786364 (over last 1600 batches)\n",
      "Running average global loss: 1.9149269320815803 (over last 1600 batches)\n",
      "Running average activity prediction loss: 1.4880829428881406 (Cross Entropy over last 1600 batches)\n",
      "Running average (complete) remaining runtime prediction loss: 0.4268439897336066 (MAE over last 1600 batches)\n",
      "------------------------------------------------------------\n"
     ]
    },
    {
     "name": "stderr",
     "output_type": "stream",
     "text": [
      "Batch calculation at epoch 76.: 3208it [01:05, 48.71it/s]"
     ]
    },
    {
     "name": "stdout",
     "output_type": "stream",
     "text": [
      "------------------------------------------------------------\n",
      "Epoch 76, batch 3199:\n",
      "Average original gradient norm: 0.44260283074341716 (over last 1600 batches)\n",
      "Average clipped gradient norm: 0.4366745278146118 (over last 1600 batches)\n",
      "Running average global loss: 1.913184733390808 (over last 1600 batches)\n",
      "Running average activity prediction loss: 1.485652000308037 (Cross Entropy over last 1600 batches)\n",
      "Running average (complete) remaining runtime prediction loss: 0.42753273420035837 (MAE over last 1600 batches)\n",
      "------------------------------------------------------------\n"
     ]
    },
    {
     "name": "stderr",
     "output_type": "stream",
     "text": [
      "Batch calculation at epoch 76.: 4798it [01:42, 46.81it/s]\n"
     ]
    },
    {
     "name": "stdout",
     "output_type": "stream",
     "text": [
      "=======================================\n",
      "End of epoch 76\n",
      "=======================================\n",
      "Running average global loss: 1.9115331143885852 (over last 1600 batches)\n",
      "Running average activity prediction loss: 1.4852345744520425 (Cross Entropy over last 1600 batches)\n",
      "Running average (complete) remaining runtime prediction loss: 0.4262985414080322 (MAE over last 1600 batches)\n"
     ]
    },
    {
     "name": "stderr",
     "output_type": "stream",
     "text": [
      "Validation batch calculation: 72it [11:37,  9.68s/it]\n"
     ]
    },
    {
     "name": "stdout",
     "output_type": "stream",
     "text": [
      "Avg 1-(normalized) DL distance acitivty suffix prediction validation set: 0.3067355751991272\n",
      "Percentage of suffixes predicted to END: too early - 0.023686491873553726 ; right moment - 0.10267104445824829 ; too late - 0.873642463668198\n",
      "Too early instances - avg amount of events too early: 8.510951042175293\n",
      "Too late instances - avg amount of events too late: 43.15105438232422\n",
      "Avg absolute amount of events predicted too early / too late: 37.90018844604492\n",
      "Avg MAE TTNE prediction validation set: 1075.8069010416666 (minutes)'\n",
      "Avg MAE RRT prediction validation set: 0.49465668201446533 (standardized) ; 8297.909895833332 (minutes)'\n",
      "Avg validation loss: 1.943577766418457\n",
      " \n",
      "------------------------------------\n",
      "EPOCH 77:\n",
      "____________________________________\n"
     ]
    },
    {
     "name": "stderr",
     "output_type": "stream",
     "text": [
      "Batch calculation at epoch 77.: 1602it [00:45, 35.84it/s]"
     ]
    },
    {
     "name": "stdout",
     "output_type": "stream",
     "text": [
      "------------------------------------------------------------\n",
      "Epoch 77, batch 1599:\n",
      "Average original gradient norm: 0.43953273550607264 (over last 1600 batches)\n",
      "Average clipped gradient norm: 0.4320042772684246 (over last 1600 batches)\n",
      "Running average global loss: 1.911601823270321 (over last 1600 batches)\n",
      "Running average activity prediction loss: 1.48495785869658 (Cross Entropy over last 1600 batches)\n",
      "Running average (complete) remaining runtime prediction loss: 0.42664396453648806 (MAE over last 1600 batches)\n",
      "------------------------------------------------------------\n"
     ]
    },
    {
     "name": "stderr",
     "output_type": "stream",
     "text": [
      "Batch calculation at epoch 77.: 3207it [01:29, 42.12it/s]"
     ]
    },
    {
     "name": "stdout",
     "output_type": "stream",
     "text": [
      "------------------------------------------------------------\n",
      "Epoch 77, batch 3199:\n",
      "Average original gradient norm: 0.4222175978310406 (over last 1600 batches)\n",
      "Average clipped gradient norm: 0.4192125119455159 (over last 1600 batches)\n",
      "Running average global loss: 1.9101942470669746 (over last 1600 batches)\n",
      "Running average activity prediction loss: 1.4845997768640518 (Cross Entropy over last 1600 batches)\n",
      "Running average (complete) remaining runtime prediction loss: 0.4255944721214473 (MAE over last 1600 batches)\n",
      "------------------------------------------------------------\n"
     ]
    },
    {
     "name": "stderr",
     "output_type": "stream",
     "text": [
      "Batch calculation at epoch 77.: 4798it [02:09, 36.99it/s]\n"
     ]
    },
    {
     "name": "stdout",
     "output_type": "stream",
     "text": [
      "=======================================\n",
      "End of epoch 77\n",
      "=======================================\n",
      "Running average global loss: 1.9118798957020045 (over last 1600 batches)\n",
      "Running average activity prediction loss: 1.4843499176949262 (Cross Entropy over last 1600 batches)\n",
      "Running average (complete) remaining runtime prediction loss: 0.4275299788080156 (MAE over last 1600 batches)\n"
     ]
    },
    {
     "name": "stderr",
     "output_type": "stream",
     "text": [
      "Validation batch calculation: 72it [08:12,  6.84s/it]\n"
     ]
    },
    {
     "name": "stdout",
     "output_type": "stream",
     "text": [
      "Avg 1-(normalized) DL distance acitivty suffix prediction validation set: 0.3056219816207886\n",
      "Percentage of suffixes predicted to END: too early - 0.022826406001488084 ; right moment - 0.1032990436664232 ; too late - 0.8738745503320887\n",
      "Too early instances - avg amount of events too early: 9.282296180725098\n",
      "Too late instances - avg amount of events too late: 43.604087829589844\n",
      "Avg absolute amount of events predicted too early / too late: 38.316383361816406\n",
      "Avg MAE TTNE prediction validation set: 1094.4377604166666 (minutes)'\n",
      "Avg MAE RRT prediction validation set: 0.49679306149482727 (standardized) ; 8341.846875 (minutes)'\n",
      "Avg validation loss: 1.9372413158416748\n",
      " \n",
      "------------------------------------\n",
      "EPOCH 78:\n",
      "____________________________________\n"
     ]
    },
    {
     "name": "stderr",
     "output_type": "stream",
     "text": [
      "Batch calculation at epoch 78.: 1606it [00:36, 41.65it/s]"
     ]
    },
    {
     "name": "stdout",
     "output_type": "stream",
     "text": [
      "------------------------------------------------------------\n",
      "Epoch 78, batch 1599:\n",
      "Average original gradient norm: 0.4234887432027608 (over last 1600 batches)\n",
      "Average clipped gradient norm: 0.41926112038083374 (over last 1600 batches)\n",
      "Running average global loss: 1.9108695311844348 (over last 1600 batches)\n",
      "Running average activity prediction loss: 1.4844419720023871 (Cross Entropy over last 1600 batches)\n",
      "Running average (complete) remaining runtime prediction loss: 0.42642755690962075 (MAE over last 1600 batches)\n",
      "------------------------------------------------------------\n"
     ]
    },
    {
     "name": "stderr",
     "output_type": "stream",
     "text": [
      "Batch calculation at epoch 78.: 3202it [01:18, 22.61it/s]"
     ]
    },
    {
     "name": "stdout",
     "output_type": "stream",
     "text": [
      "------------------------------------------------------------\n",
      "Epoch 78, batch 3199:\n",
      "Average original gradient norm: 0.41536465484648943 (over last 1600 batches)\n",
      "Average clipped gradient norm: 0.41264660242944956 (over last 1600 batches)\n",
      "Running average global loss: 1.9089096570760011 (over last 1600 batches)\n",
      "Running average activity prediction loss: 1.4827576317638158 (Cross Entropy over last 1600 batches)\n",
      "Running average (complete) remaining runtime prediction loss: 0.4261520269140601 (MAE over last 1600 batches)\n",
      "------------------------------------------------------------\n"
     ]
    },
    {
     "name": "stderr",
     "output_type": "stream",
     "text": [
      "Batch calculation at epoch 78.: 4798it [02:21, 33.96it/s]\n"
     ]
    },
    {
     "name": "stdout",
     "output_type": "stream",
     "text": [
      "=======================================\n",
      "End of epoch 78\n",
      "=======================================\n",
      "Running average global loss: 1.90868475317955 (over last 1600 batches)\n",
      "Running average activity prediction loss: 1.481965282484889 (Cross Entropy over last 1600 batches)\n",
      "Running average (complete) remaining runtime prediction loss: 0.42671947050839665 (MAE over last 1600 batches)\n"
     ]
    },
    {
     "name": "stderr",
     "output_type": "stream",
     "text": [
      "Validation batch calculation: 72it [09:53,  8.24s/it]\n"
     ]
    },
    {
     "name": "stdout",
     "output_type": "stream",
     "text": [
      "Avg 1-(normalized) DL distance acitivty suffix prediction validation set: 0.3041875958442688\n",
      "Percentage of suffixes predicted to END: too early - 0.02081271288831853 ; right moment - 0.10290313112213902 ; too late - 0.8762841559895425\n",
      "Too early instances - avg amount of events too early: 8.537553787231445\n",
      "Too late instances - avg amount of events too late: 43.92485427856445\n",
      "Avg absolute amount of events predicted too early / too late: 38.66834259033203\n",
      "Avg MAE TTNE prediction validation set: 1073.4059895833334 (minutes)'\n",
      "Avg MAE RRT prediction validation set: 0.4940776824951172 (standardized) ; 8296.1671875 (minutes)'\n",
      "Avg validation loss: 1.943297266960144\n",
      " \n",
      "------------------------------------\n",
      "EPOCH 79:\n",
      "____________________________________\n"
     ]
    },
    {
     "name": "stderr",
     "output_type": "stream",
     "text": [
      "Batch calculation at epoch 79.: 1605it [00:48, 29.07it/s]"
     ]
    },
    {
     "name": "stdout",
     "output_type": "stream",
     "text": [
      "------------------------------------------------------------\n",
      "Epoch 79, batch 1599:\n",
      "Average original gradient norm: 0.4186313361581415 (over last 1600 batches)\n",
      "Average clipped gradient norm: 0.4127633923199028 (over last 1600 batches)\n",
      "Running average global loss: 1.9069346334785222 (over last 1600 batches)\n",
      "Running average activity prediction loss: 1.4811155965924263 (Cross Entropy over last 1600 batches)\n",
      "Running average (complete) remaining runtime prediction loss: 0.4258190356567502 (MAE over last 1600 batches)\n",
      "------------------------------------------------------------\n"
     ]
    },
    {
     "name": "stderr",
     "output_type": "stream",
     "text": [
      "Batch calculation at epoch 79.: 3202it [01:55, 17.80it/s]"
     ]
    },
    {
     "name": "stdout",
     "output_type": "stream",
     "text": [
      "------------------------------------------------------------\n",
      "Epoch 79, batch 3199:\n",
      "Average original gradient norm: 0.4134347310848534 (over last 1600 batches)\n",
      "Average clipped gradient norm: 0.41247670175507667 (over last 1600 batches)\n",
      "Running average global loss: 1.9096199192851782 (over last 1600 batches)\n",
      "Running average activity prediction loss: 1.4830476278066635 (Cross Entropy over last 1600 batches)\n",
      "Running average (complete) remaining runtime prediction loss: 0.42657229050993917 (MAE over last 1600 batches)\n",
      "------------------------------------------------------------\n"
     ]
    },
    {
     "name": "stderr",
     "output_type": "stream",
     "text": [
      "Batch calculation at epoch 79.: 4798it [03:01, 26.49it/s]\n"
     ]
    },
    {
     "name": "stdout",
     "output_type": "stream",
     "text": [
      "=======================================\n",
      "End of epoch 79\n",
      "=======================================\n",
      "Running average global loss: 1.907936535179615 (over last 1600 batches)\n",
      "Running average activity prediction loss: 1.4816445410251617 (Cross Entropy over last 1600 batches)\n",
      "Running average (complete) remaining runtime prediction loss: 0.42629199258983136 (MAE over last 1600 batches)\n"
     ]
    },
    {
     "name": "stderr",
     "output_type": "stream",
     "text": [
      "Validation batch calculation: 72it [09:40,  8.06s/it]\n"
     ]
    },
    {
     "name": "stdout",
     "output_type": "stream",
     "text": [
      "Avg 1-(normalized) DL distance acitivty suffix prediction validation set: 0.30424225330352783\n",
      "Percentage of suffixes predicted to END: too early - 0.024949316368253274 ; right moment - 0.10536051932804084 ; too late - 0.8696901643037058\n",
      "Too early instances - avg amount of events too early: 9.21532154083252\n",
      "Too late instances - avg amount of events too late: 43.923030853271484\n",
      "Avg absolute amount of events predicted too early / too late: 38.42934799194336\n",
      "Avg MAE TTNE prediction validation set: 1054.1962239583333 (minutes)'\n",
      "Avg MAE RRT prediction validation set: 0.49181562662124634 (standardized) ; 8258.290625 (minutes)'\n",
      "Avg validation loss: 1.9297113418579102\n",
      " \n",
      "------------------------------------\n",
      "EPOCH 80:\n",
      "____________________________________\n"
     ]
    },
    {
     "name": "stderr",
     "output_type": "stream",
     "text": [
      "Batch calculation at epoch 80.: 1605it [00:50, 40.44it/s]"
     ]
    },
    {
     "name": "stdout",
     "output_type": "stream",
     "text": [
      "------------------------------------------------------------\n",
      "Epoch 80, batch 1599:\n",
      "Average original gradient norm: 0.45401817893609403 (over last 1600 batches)\n",
      "Average clipped gradient norm: 0.4146901267580688 (over last 1600 batches)\n",
      "Running average global loss: 1.9061980201303959 (over last 1600 batches)\n",
      "Running average activity prediction loss: 1.479264004677534 (Cross Entropy over last 1600 batches)\n",
      "Running average (complete) remaining runtime prediction loss: 0.4269340163841844 (MAE over last 1600 batches)\n",
      "------------------------------------------------------------\n"
     ]
    },
    {
     "name": "stderr",
     "output_type": "stream",
     "text": [
      "Batch calculation at epoch 80.: 3208it [01:35, 46.50it/s]"
     ]
    },
    {
     "name": "stdout",
     "output_type": "stream",
     "text": [
      "------------------------------------------------------------\n",
      "Epoch 80, batch 3199:\n",
      "Average original gradient norm: 0.43559284885413946 (over last 1600 batches)\n",
      "Average clipped gradient norm: 0.4217188606131822 (over last 1600 batches)\n",
      "Running average global loss: 1.9099039348959923 (over last 1600 batches)\n",
      "Running average activity prediction loss: 1.4829085554927588 (Cross Entropy over last 1600 batches)\n",
      "Running average (complete) remaining runtime prediction loss: 0.4269953793101013 (MAE over last 1600 batches)\n",
      "------------------------------------------------------------\n"
     ]
    },
    {
     "name": "stderr",
     "output_type": "stream",
     "text": [
      "Batch calculation at epoch 80.: 4798it [02:07, 37.62it/s]\n"
     ]
    },
    {
     "name": "stdout",
     "output_type": "stream",
     "text": [
      "=======================================\n",
      "End of epoch 80\n",
      "=======================================\n",
      "Running average global loss: 1.9056048362702132 (over last 1600 batches)\n",
      "Running average activity prediction loss: 1.481227301582694 (Cross Entropy over last 1600 batches)\n",
      "Running average (complete) remaining runtime prediction loss: 0.4243775359354913 (MAE over last 1600 batches)\n"
     ]
    },
    {
     "name": "stderr",
     "output_type": "stream",
     "text": [
      "Validation batch calculation: 72it [08:38,  7.21s/it]\n"
     ]
    },
    {
     "name": "stdout",
     "output_type": "stream",
     "text": [
      "Avg 1-(normalized) DL distance acitivty suffix prediction validation set: 0.30523431301116943\n",
      "Percentage of suffixes predicted to END: too early - 0.02392540461579418 ; right moment - 0.10338778268496966 ; too late - 0.8726868126992362\n",
      "Too early instances - avg amount of events too early: 10.622824668884277\n",
      "Too late instances - avg amount of events too late: 44.061073303222656\n",
      "Avg absolute amount of events predicted too early / too late: 38.70567321777344\n",
      "Avg MAE TTNE prediction validation set: 1075.9388671875 (minutes)'\n",
      "Avg MAE RRT prediction validation set: 0.4952690005302429 (standardized) ; 8316.271875 (minutes)'\n",
      "Avg validation loss: 1.929826259613037\n",
      " \n",
      "------------------------------------\n",
      "EPOCH 81:\n",
      "____________________________________\n"
     ]
    },
    {
     "name": "stderr",
     "output_type": "stream",
     "text": [
      "Batch calculation at epoch 81.: 1605it [00:49, 42.89it/s]"
     ]
    },
    {
     "name": "stdout",
     "output_type": "stream",
     "text": [
      "------------------------------------------------------------\n",
      "Epoch 81, batch 1599:\n",
      "Average original gradient norm: 0.401629647128284 (over last 1600 batches)\n",
      "Average clipped gradient norm: 0.4002487606182694 (over last 1600 batches)\n",
      "Running average global loss: 1.908299567103386 (over last 1600 batches)\n",
      "Running average activity prediction loss: 1.4816445244848728 (Cross Entropy over last 1600 batches)\n",
      "Running average (complete) remaining runtime prediction loss: 0.4266550436243415 (MAE over last 1600 batches)\n",
      "------------------------------------------------------------\n"
     ]
    },
    {
     "name": "stderr",
     "output_type": "stream",
     "text": [
      "Batch calculation at epoch 81.: 3203it [01:37, 19.88it/s]"
     ]
    },
    {
     "name": "stdout",
     "output_type": "stream",
     "text": [
      "------------------------------------------------------------\n",
      "Epoch 81, batch 3199:\n",
      "Average original gradient norm: 0.3968881346751004 (over last 1600 batches)\n",
      "Average clipped gradient norm: 0.3871808866132051 (over last 1600 batches)\n",
      "Running average global loss: 1.9058745355159044 (over last 1600 batches)\n",
      "Running average activity prediction loss: 1.4802094664424659 (Cross Entropy over last 1600 batches)\n",
      "Running average (complete) remaining runtime prediction loss: 0.42566506799310444 (MAE over last 1600 batches)\n",
      "------------------------------------------------------------\n"
     ]
    },
    {
     "name": "stderr",
     "output_type": "stream",
     "text": [
      "Batch calculation at epoch 81.: 4798it [02:51, 28.02it/s]\n"
     ]
    },
    {
     "name": "stdout",
     "output_type": "stream",
     "text": [
      "=======================================\n",
      "End of epoch 81\n",
      "=======================================\n",
      "Running average global loss: 1.903849070072174 (over last 1600 batches)\n",
      "Running average activity prediction loss: 1.47856872305274 (Cross Entropy over last 1600 batches)\n",
      "Running average (complete) remaining runtime prediction loss: 0.4252803481929004 (MAE over last 1600 batches)\n"
     ]
    },
    {
     "name": "stderr",
     "output_type": "stream",
     "text": [
      "Validation batch calculation: 72it [08:36,  7.17s/it]\n"
     ]
    },
    {
     "name": "stdout",
     "output_type": "stream",
     "text": [
      "Avg 1-(normalized) DL distance acitivty suffix prediction validation set: 0.3026251792907715\n",
      "Percentage of suffixes predicted to END: too early - 0.019365584278176345 ; right moment - 0.1025481750479532 ; too late - 0.8780862406738704\n",
      "Too early instances - avg amount of events too early: 9.057455062866211\n",
      "Too late instances - avg amount of events too late: 44.44145965576172\n",
      "Avg absolute amount of events predicted too early / too late: 39.19883728027344\n",
      "Avg MAE TTNE prediction validation set: 1057.6794921875 (minutes)'\n",
      "Avg MAE RRT prediction validation set: 0.49171197414398193 (standardized) ; 8256.483333333334 (minutes)'\n",
      "Avg validation loss: 1.933270812034607\n",
      " \n",
      "------------------------------------\n",
      "EPOCH 82:\n",
      "____________________________________\n"
     ]
    },
    {
     "name": "stderr",
     "output_type": "stream",
     "text": [
      "Batch calculation at epoch 82.: 1603it [01:27, 19.58it/s]"
     ]
    },
    {
     "name": "stdout",
     "output_type": "stream",
     "text": [
      "------------------------------------------------------------\n",
      "Epoch 82, batch 1599:\n",
      "Average original gradient norm: 0.40726930792443455 (over last 1600 batches)\n",
      "Average clipped gradient norm: 0.40175112928263845 (over last 1600 batches)\n",
      "Running average global loss: 1.9061503822356463 (over last 1600 batches)\n",
      "Running average activity prediction loss: 1.4802522315084934 (Cross Entropy over last 1600 batches)\n",
      "Running average (complete) remaining runtime prediction loss: 0.4258981513977051 (MAE over last 1600 batches)\n",
      "------------------------------------------------------------\n"
     ]
    },
    {
     "name": "stderr",
     "output_type": "stream",
     "text": [
      "Batch calculation at epoch 82.: 3208it [02:28, 45.56it/s]"
     ]
    },
    {
     "name": "stdout",
     "output_type": "stream",
     "text": [
      "------------------------------------------------------------\n",
      "Epoch 82, batch 3199:\n",
      "Average original gradient norm: 0.40556150913238526 (over last 1600 batches)\n",
      "Average clipped gradient norm: 0.40111103139817716 (over last 1600 batches)\n",
      "Running average global loss: 1.905933525338769 (over last 1600 batches)\n",
      "Running average activity prediction loss: 1.4792945625633 (Cross Entropy over last 1600 batches)\n",
      "Running average (complete) remaining runtime prediction loss: 0.42663896227255466 (MAE over last 1600 batches)\n",
      "------------------------------------------------------------\n"
     ]
    },
    {
     "name": "stderr",
     "output_type": "stream",
     "text": [
      "Batch calculation at epoch 82.: 4798it [03:44, 21.34it/s]\n"
     ]
    },
    {
     "name": "stdout",
     "output_type": "stream",
     "text": [
      "=======================================\n",
      "End of epoch 82\n",
      "=======================================\n",
      "Running average global loss: 1.9034040028601884 (over last 1600 batches)\n",
      "Running average activity prediction loss: 1.4787873575091361 (Cross Entropy over last 1600 batches)\n",
      "Running average (complete) remaining runtime prediction loss: 0.42461664605885746 (MAE over last 1600 batches)\n"
     ]
    },
    {
     "name": "stderr",
     "output_type": "stream",
     "text": [
      "Validation batch calculation: 72it [12:49, 10.69s/it]\n"
     ]
    },
    {
     "name": "stdout",
     "output_type": "stream",
     "text": [
      "Avg 1-(normalized) DL distance acitivty suffix prediction validation set: 0.3013690710067749\n",
      "Percentage of suffixes predicted to END: too early - 0.02044410465743326 ; right moment - 0.10321713072622647 ; too late - 0.8763387646163403\n",
      "Too early instances - avg amount of events too early: 9.101836204528809\n",
      "Too late instances - avg amount of events too late: 43.98723220825195\n",
      "Avg absolute amount of events predicted too early / too late: 38.733795166015625\n",
      "Avg MAE TTNE prediction validation set: 1068.8231770833333 (minutes)'\n",
      "Avg MAE RRT prediction validation set: 0.49345335364341736 (standardized) ; 8285.834375 (minutes)'\n",
      "Avg validation loss: 1.926961898803711\n",
      " \n",
      "------------------------------------\n",
      "EPOCH 83:\n",
      "____________________________________\n"
     ]
    },
    {
     "name": "stderr",
     "output_type": "stream",
     "text": [
      "Batch calculation at epoch 83.: 1602it [00:45, 25.96it/s]"
     ]
    },
    {
     "name": "stdout",
     "output_type": "stream",
     "text": [
      "------------------------------------------------------------\n",
      "Epoch 83, batch 1599:\n",
      "Average original gradient norm: 0.39979180282913146 (over last 1600 batches)\n",
      "Average clipped gradient norm: 0.39829165606759487 (over last 1600 batches)\n",
      "Running average global loss: 1.903153799548745 (over last 1600 batches)\n",
      "Running average activity prediction loss: 1.4782308454811572 (Cross Entropy over last 1600 batches)\n",
      "Running average (complete) remaining runtime prediction loss: 0.42492295349016784 (MAE over last 1600 batches)\n",
      "------------------------------------------------------------\n"
     ]
    },
    {
     "name": "stderr",
     "output_type": "stream",
     "text": [
      "Batch calculation at epoch 83.: 3204it [01:48, 28.65it/s]"
     ]
    },
    {
     "name": "stdout",
     "output_type": "stream",
     "text": [
      "------------------------------------------------------------\n",
      "Epoch 83, batch 3199:\n",
      "Average original gradient norm: 0.4199365300498903 (over last 1600 batches)\n",
      "Average clipped gradient norm: 0.3939014568738639 (over last 1600 batches)\n",
      "Running average global loss: 1.9070357678085565 (over last 1600 batches)\n",
      "Running average activity prediction loss: 1.4810563661158085 (Cross Entropy over last 1600 batches)\n",
      "Running average (complete) remaining runtime prediction loss: 0.42597940132021905 (MAE over last 1600 batches)\n",
      "------------------------------------------------------------\n"
     ]
    },
    {
     "name": "stderr",
     "output_type": "stream",
     "text": [
      "Batch calculation at epoch 83.: 4798it [03:05, 25.85it/s]\n"
     ]
    },
    {
     "name": "stdout",
     "output_type": "stream",
     "text": [
      "=======================================\n",
      "End of epoch 83\n",
      "=======================================\n",
      "Running average global loss: 1.902857787311077 (over last 1600 batches)\n",
      "Running average activity prediction loss: 1.4772284363210202 (Cross Entropy over last 1600 batches)\n",
      "Running average (complete) remaining runtime prediction loss: 0.42562935143709185 (MAE over last 1600 batches)\n"
     ]
    },
    {
     "name": "stderr",
     "output_type": "stream",
     "text": [
      "Validation batch calculation: 72it [16:35, 13.82s/it]\n"
     ]
    },
    {
     "name": "stdout",
     "output_type": "stream",
     "text": [
      "Avg 1-(normalized) DL distance acitivty suffix prediction validation set: 0.3088541030883789\n",
      "Percentage of suffixes predicted to END: too early - 0.025092664013597547 ; right moment - 0.10543560618988784 ; too late - 0.8694717297965147\n",
      "Too early instances - avg amount of events too early: 10.46871566772461\n",
      "Too late instances - avg amount of events too late: 43.815040588378906\n",
      "Avg absolute amount of events predicted too early / too late: 38.35862731933594\n",
      "Avg MAE TTNE prediction validation set: 1059.459375 (minutes)'\n",
      "Avg MAE RRT prediction validation set: 0.4954097270965576 (standardized) ; 8316.2703125 (minutes)'\n",
      "Avg validation loss: 1.926025152206421\n",
      " \n",
      "------------------------------------\n",
      "EPOCH 84:\n",
      "____________________________________\n"
     ]
    },
    {
     "name": "stderr",
     "output_type": "stream",
     "text": [
      "Batch calculation at epoch 84.: 1610it [00:37, 47.78it/s]"
     ]
    },
    {
     "name": "stdout",
     "output_type": "stream",
     "text": [
      "------------------------------------------------------------\n",
      "Epoch 84, batch 1599:\n",
      "Average original gradient norm: 0.3825823076721281 (over last 1600 batches)\n",
      "Average clipped gradient norm: 0.38131480566225945 (over last 1600 batches)\n",
      "Running average global loss: 1.9038646595180035 (over last 1600 batches)\n",
      "Running average activity prediction loss: 1.4781275451928377 (Cross Entropy over last 1600 batches)\n",
      "Running average (complete) remaining runtime prediction loss: 0.425737114995718 (MAE over last 1600 batches)\n",
      "------------------------------------------------------------\n"
     ]
    },
    {
     "name": "stderr",
     "output_type": "stream",
     "text": [
      "Batch calculation at epoch 84.: 3206it [01:11, 46.74it/s]"
     ]
    },
    {
     "name": "stdout",
     "output_type": "stream",
     "text": [
      "------------------------------------------------------------\n",
      "Epoch 84, batch 3199:\n",
      "Average original gradient norm: 0.3893745696730912 (over last 1600 batches)\n",
      "Average clipped gradient norm: 0.3861930142529309 (over last 1600 batches)\n",
      "Running average global loss: 1.9024571654200555 (over last 1600 batches)\n",
      "Running average activity prediction loss: 1.4779288943111897 (Cross Entropy over last 1600 batches)\n",
      "Running average (complete) remaining runtime prediction loss: 0.4245282686501741 (MAE over last 1600 batches)\n",
      "------------------------------------------------------------\n"
     ]
    },
    {
     "name": "stderr",
     "output_type": "stream",
     "text": [
      "Batch calculation at epoch 84.: 4798it [01:46, 45.26it/s]\n"
     ]
    },
    {
     "name": "stdout",
     "output_type": "stream",
     "text": [
      "=======================================\n",
      "End of epoch 84\n",
      "=======================================\n",
      "Running average global loss: 1.9058480115234853 (over last 1600 batches)\n",
      "Running average activity prediction loss: 1.4794603767991066 (Cross Entropy over last 1600 batches)\n",
      "Running average (complete) remaining runtime prediction loss: 0.42638763340190056 (MAE over last 1600 batches)\n"
     ]
    },
    {
     "name": "stderr",
     "output_type": "stream",
     "text": [
      "Validation batch calculation: 72it [07:57,  6.63s/it]\n"
     ]
    },
    {
     "name": "stdout",
     "output_type": "stream",
     "text": [
      "Avg 1-(normalized) DL distance acitivty suffix prediction validation set: 0.31088554859161377\n",
      "Percentage of suffixes predicted to END: too early - 0.029126876318286383 ; right moment - 0.10583834481252176 ; too late - 0.8650347788691919\n",
      "Too early instances - avg amount of events too early: 9.719474792480469\n",
      "Too late instances - avg amount of events too late: 43.227508544921875\n",
      "Avg absolute amount of events predicted too early / too late: 37.676395416259766\n",
      "Avg MAE TTNE prediction validation set: 1064.0875 (minutes)'\n",
      "Avg MAE RRT prediction validation set: 0.49626559019088745 (standardized) ; 8325.026041666666 (minutes)'\n",
      "Avg validation loss: 1.9344502687454224\n",
      " \n",
      "------------------------------------\n",
      "EPOCH 85:\n",
      "____________________________________\n"
     ]
    },
    {
     "name": "stderr",
     "output_type": "stream",
     "text": [
      "Batch calculation at epoch 85.: 1605it [00:38, 48.15it/s]"
     ]
    },
    {
     "name": "stdout",
     "output_type": "stream",
     "text": [
      "------------------------------------------------------------\n",
      "Epoch 85, batch 1599:\n",
      "Average original gradient norm: 0.3906966773234308 (over last 1600 batches)\n",
      "Average clipped gradient norm: 0.3902073243074119 (over last 1600 batches)\n",
      "Running average global loss: 1.9052969475090504 (over last 1600 batches)\n",
      "Running average activity prediction loss: 1.4797681918740273 (Cross Entropy over last 1600 batches)\n",
      "Running average (complete) remaining runtime prediction loss: 0.42552875500172377 (MAE over last 1600 batches)\n",
      "------------------------------------------------------------\n"
     ]
    },
    {
     "name": "stderr",
     "output_type": "stream",
     "text": [
      "Batch calculation at epoch 85.: 3202it [01:53, 17.50it/s]"
     ]
    },
    {
     "name": "stdout",
     "output_type": "stream",
     "text": [
      "------------------------------------------------------------\n",
      "Epoch 85, batch 3199:\n",
      "Average original gradient norm: 0.39035338036715983 (over last 1600 batches)\n",
      "Average clipped gradient norm: 0.38463346630334855 (over last 1600 batches)\n",
      "Running average global loss: 1.900773395076394 (over last 1600 batches)\n",
      "Running average activity prediction loss: 1.4764109782874584 (Cross Entropy over last 1600 batches)\n",
      "Running average (complete) remaining runtime prediction loss: 0.4243624154850841 (MAE over last 1600 batches)\n",
      "------------------------------------------------------------\n"
     ]
    },
    {
     "name": "stderr",
     "output_type": "stream",
     "text": [
      "Batch calculation at epoch 85.: 4798it [03:12, 24.97it/s]\n"
     ]
    },
    {
     "name": "stdout",
     "output_type": "stream",
     "text": [
      "=======================================\n",
      "End of epoch 85\n",
      "=======================================\n",
      "Running average global loss: 1.9029130987823009 (over last 1600 batches)\n",
      "Running average activity prediction loss: 1.4766447022557259 (Cross Entropy over last 1600 batches)\n",
      "Running average (complete) remaining runtime prediction loss: 0.42626839691773055 (MAE over last 1600 batches)\n"
     ]
    },
    {
     "name": "stderr",
     "output_type": "stream",
     "text": [
      "Validation batch calculation: 72it [12:25, 10.36s/it]\n"
     ]
    },
    {
     "name": "stdout",
     "output_type": "stream",
     "text": [
      "Avg 1-(normalized) DL distance acitivty suffix prediction validation set: 0.3078562021255493\n",
      "Percentage of suffixes predicted to END: too early - 0.02266258012109463 ; right moment - 0.10394752110964729 ; too late - 0.8733898987692581\n",
      "Too early instances - avg amount of events too early: 8.940662384033203\n",
      "Too late instances - avg amount of events too late: 44.114906311035156\n",
      "Avg absolute amount of events predicted too early / too late: 38.73213195800781\n",
      "Avg MAE TTNE prediction validation set: 1058.1287760416667 (minutes)'\n",
      "Avg MAE RRT prediction validation set: 0.49812644720077515 (standardized) ; 8364.345833333333 (minutes)'\n",
      "Avg validation loss: 1.9338765144348145\n",
      " \n",
      "------------------------------------\n",
      "EPOCH 86:\n",
      "____________________________________\n"
     ]
    },
    {
     "name": "stderr",
     "output_type": "stream",
     "text": [
      "Batch calculation at epoch 86.: 1601it [00:44, 38.37it/s]"
     ]
    },
    {
     "name": "stdout",
     "output_type": "stream",
     "text": [
      "------------------------------------------------------------\n",
      "Epoch 86, batch 1599:\n",
      "Average original gradient norm: 0.36246565146371723 (over last 1600 batches)\n",
      "Average clipped gradient norm: 0.36246565146371723 (over last 1600 batches)\n",
      "Running average global loss: 1.899863394498825 (over last 1600 batches)\n",
      "Running average activity prediction loss: 1.475310134962201 (Cross Entropy over last 1600 batches)\n",
      "Running average (complete) remaining runtime prediction loss: 0.4245532587915659 (MAE over last 1600 batches)\n",
      "------------------------------------------------------------\n"
     ]
    },
    {
     "name": "stderr",
     "output_type": "stream",
     "text": [
      "Batch calculation at epoch 86.: 3206it [01:24, 38.59it/s]"
     ]
    },
    {
     "name": "stdout",
     "output_type": "stream",
     "text": [
      "------------------------------------------------------------\n",
      "Epoch 86, batch 3199:\n",
      "Average original gradient norm: 0.3741839440446347 (over last 1600 batches)\n",
      "Average clipped gradient norm: 0.37145779150538144 (over last 1600 batches)\n",
      "Running average global loss: 1.9009421399235726 (over last 1600 batches)\n",
      "Running average activity prediction loss: 1.475236900523305 (Cross Entropy over last 1600 batches)\n",
      "Running average (complete) remaining runtime prediction loss: 0.4257052397727966 (MAE over last 1600 batches)\n",
      "------------------------------------------------------------\n"
     ]
    },
    {
     "name": "stderr",
     "output_type": "stream",
     "text": [
      "Batch calculation at epoch 86.: 4798it [02:12, 36.34it/s]\n"
     ]
    },
    {
     "name": "stdout",
     "output_type": "stream",
     "text": [
      "=======================================\n",
      "End of epoch 86\n",
      "=======================================\n",
      "Running average global loss: 1.8988165057450532 (over last 1600 batches)\n",
      "Running average activity prediction loss: 1.475466807410121 (Cross Entropy over last 1600 batches)\n",
      "Running average (complete) remaining runtime prediction loss: 0.4233496989309788 (MAE over last 1600 batches)\n"
     ]
    },
    {
     "name": "stderr",
     "output_type": "stream",
     "text": [
      "Validation batch calculation: 72it [09:01,  7.52s/it]\n"
     ]
    },
    {
     "name": "stdout",
     "output_type": "stream",
     "text": [
      "Avg 1-(normalized) DL distance acitivty suffix prediction validation set: 0.30530303716659546\n",
      "Percentage of suffixes predicted to END: too early - 0.020266626620340348 ; right moment - 0.10288947896543957 ; too late - 0.8768438944142201\n",
      "Too early instances - avg amount of events too early: 8.726507186889648\n",
      "Too late instances - avg amount of events too late: 43.74045944213867\n",
      "Avg absolute amount of events predicted too early / too late: 38.53041458129883\n",
      "Avg MAE TTNE prediction validation set: 1048.9119140625 (minutes)'\n",
      "Avg MAE RRT prediction validation set: 0.49550876021385193 (standardized) ; 8316.86875 (minutes)'\n",
      "Avg validation loss: 1.9270687103271484\n",
      " \n",
      "------------------------------------\n",
      "EPOCH 87:\n",
      "____________________________________\n"
     ]
    },
    {
     "name": "stderr",
     "output_type": "stream",
     "text": [
      "Batch calculation at epoch 87.: 1607it [00:33, 52.36it/s]"
     ]
    },
    {
     "name": "stdout",
     "output_type": "stream",
     "text": [
      "------------------------------------------------------------\n",
      "Epoch 87, batch 1599:\n",
      "Average original gradient norm: 0.37236606478691103 (over last 1600 batches)\n",
      "Average clipped gradient norm: 0.3700827090442181 (over last 1600 batches)\n",
      "Running average global loss: 1.9010353281348944 (over last 1600 batches)\n",
      "Running average activity prediction loss: 1.4766584630310535 (Cross Entropy over last 1600 batches)\n",
      "Running average (complete) remaining runtime prediction loss: 0.4243768660351634 (MAE over last 1600 batches)\n",
      "------------------------------------------------------------\n"
     ]
    },
    {
     "name": "stderr",
     "output_type": "stream",
     "text": [
      "Batch calculation at epoch 87.: 3210it [01:32, 52.10it/s]"
     ]
    },
    {
     "name": "stdout",
     "output_type": "stream",
     "text": [
      "------------------------------------------------------------\n",
      "Epoch 87, batch 3199:\n",
      "Average original gradient norm: 0.3624422476347536 (over last 1600 batches)\n",
      "Average clipped gradient norm: 0.361701710736379 (over last 1600 batches)\n",
      "Running average global loss: 1.897160715609789 (over last 1600 batches)\n",
      "Running average activity prediction loss: 1.4736954990774394 (Cross Entropy over last 1600 batches)\n",
      "Running average (complete) remaining runtime prediction loss: 0.4234652173705399 (MAE over last 1600 batches)\n",
      "------------------------------------------------------------\n"
     ]
    },
    {
     "name": "stderr",
     "output_type": "stream",
     "text": [
      "Batch calculation at epoch 87.: 4798it [02:06, 37.88it/s]\n"
     ]
    },
    {
     "name": "stdout",
     "output_type": "stream",
     "text": [
      "=======================================\n",
      "End of epoch 87\n",
      "=======================================\n",
      "Running average global loss: 1.899829266294837 (over last 1600 batches)\n",
      "Running average activity prediction loss: 1.4744027645885944 (Cross Entropy over last 1600 batches)\n",
      "Running average (complete) remaining runtime prediction loss: 0.42542650138959287 (MAE over last 1600 batches)\n"
     ]
    },
    {
     "name": "stderr",
     "output_type": "stream",
     "text": [
      "Validation batch calculation: 72it [11:48,  9.84s/it]\n"
     ]
    },
    {
     "name": "stdout",
     "output_type": "stream",
     "text": [
      "Avg 1-(normalized) DL distance acitivty suffix prediction validation set: 0.3088630437850952\n",
      "Percentage of suffixes predicted to END: too early - 0.024498795197171273 ; right moment - 0.10490317207860912 ; too late - 0.8705980327242197\n",
      "Too early instances - avg amount of events too early: 9.753692626953125\n",
      "Too late instances - avg amount of events too late: 43.71068572998047\n",
      "Avg absolute amount of events predicted too early / too late: 38.293392181396484\n",
      "Avg MAE TTNE prediction validation set: 1058.4370442708334 (minutes)'\n",
      "Avg MAE RRT prediction validation set: 0.49462684988975525 (standardized) ; 8304.623958333334 (minutes)'\n",
      "Avg validation loss: 1.9268875122070312\n",
      " \n",
      "------------------------------------\n",
      "EPOCH 88:\n",
      "____________________________________\n"
     ]
    },
    {
     "name": "stderr",
     "output_type": "stream",
     "text": [
      "Batch calculation at epoch 88.: 1602it [00:57, 20.64it/s]"
     ]
    },
    {
     "name": "stdout",
     "output_type": "stream",
     "text": [
      "------------------------------------------------------------\n",
      "Epoch 88, batch 1599:\n",
      "Average original gradient norm: 0.37865538355894385 (over last 1600 batches)\n",
      "Average clipped gradient norm: 0.37320865591056646 (over last 1600 batches)\n",
      "Running average global loss: 1.8985942690074444 (over last 1600 batches)\n",
      "Running average activity prediction loss: 1.4742910566926002 (Cross Entropy over last 1600 batches)\n",
      "Running average (complete) remaining runtime prediction loss: 0.424303212556988 (MAE over last 1600 batches)\n",
      "------------------------------------------------------------\n"
     ]
    },
    {
     "name": "stderr",
     "output_type": "stream",
     "text": [
      "Batch calculation at epoch 88.: 3201it [02:14, 20.11it/s]"
     ]
    },
    {
     "name": "stdout",
     "output_type": "stream",
     "text": [
      "------------------------------------------------------------\n",
      "Epoch 88, batch 3199:\n",
      "Average original gradient norm: 0.39211746311746537 (over last 1600 batches)\n",
      "Average clipped gradient norm: 0.37428538418374957 (over last 1600 batches)\n",
      "Running average global loss: 1.897712710723281 (over last 1600 batches)\n",
      "Running average activity prediction loss: 1.4742292950302363 (Cross Entropy over last 1600 batches)\n",
      "Running average (complete) remaining runtime prediction loss: 0.4234834155626595 (MAE over last 1600 batches)\n",
      "------------------------------------------------------------\n"
     ]
    },
    {
     "name": "stderr",
     "output_type": "stream",
     "text": [
      "Batch calculation at epoch 88.: 4798it [03:24, 23.49it/s]\n"
     ]
    },
    {
     "name": "stdout",
     "output_type": "stream",
     "text": [
      "=======================================\n",
      "End of epoch 88\n",
      "=======================================\n",
      "Running average global loss: 1.8996278228610755 (over last 1600 batches)\n",
      "Running average activity prediction loss: 1.4745231060683728 (Cross Entropy over last 1600 batches)\n",
      "Running average (complete) remaining runtime prediction loss: 0.4251047159545124 (MAE over last 1600 batches)\n"
     ]
    },
    {
     "name": "stderr",
     "output_type": "stream",
     "text": [
      "Validation batch calculation: 72it [13:19, 11.11s/it]\n"
     ]
    },
    {
     "name": "stdout",
     "output_type": "stream",
     "text": [
      "Avg 1-(normalized) DL distance acitivty suffix prediction validation set: 0.3056848645210266\n",
      "Percentage of suffixes predicted to END: too early - 0.021188147197553533 ; right moment - 0.10325126111797511 ; too late - 0.8755605916844713\n",
      "Too early instances - avg amount of events too early: 9.104059219360352\n",
      "Too late instances - avg amount of events too late: 43.70467758178711\n",
      "Avg absolute amount of events predicted too early / too late: 38.45899200439453\n",
      "Avg MAE TTNE prediction validation set: 1046.2896484375 (minutes)'\n",
      "Avg MAE RRT prediction validation set: 0.4953550100326538 (standardized) ; 8315.891145833333 (minutes)'\n",
      "Avg validation loss: 1.9304478168487549\n",
      " \n",
      "------------------------------------\n",
      "EPOCH 89:\n",
      "____________________________________\n"
     ]
    },
    {
     "name": "stderr",
     "output_type": "stream",
     "text": [
      "Batch calculation at epoch 89.: 1607it [00:51, 41.65it/s]"
     ]
    },
    {
     "name": "stdout",
     "output_type": "stream",
     "text": [
      "------------------------------------------------------------\n",
      "Epoch 89, batch 1599:\n",
      "Average original gradient norm: 0.37936708740890024 (over last 1600 batches)\n",
      "Average clipped gradient norm: 0.375598124563694 (over last 1600 batches)\n",
      "Running average global loss: 1.8996762377023697 (over last 1600 batches)\n",
      "Running average activity prediction loss: 1.475190387442708 (Cross Entropy over last 1600 batches)\n",
      "Running average (complete) remaining runtime prediction loss: 0.4244858490116894 (MAE over last 1600 batches)\n",
      "------------------------------------------------------------\n"
     ]
    },
    {
     "name": "stderr",
     "output_type": "stream",
     "text": [
      "Batch calculation at epoch 89.: 3204it [01:27, 40.16it/s]"
     ]
    },
    {
     "name": "stdout",
     "output_type": "stream",
     "text": [
      "------------------------------------------------------------\n",
      "Epoch 89, batch 3199:\n",
      "Average original gradient norm: 0.37706345302052796 (over last 1600 batches)\n",
      "Average clipped gradient norm: 0.37196017366833983 (over last 1600 batches)\n",
      "Running average global loss: 1.8981318648904562 (over last 1600 batches)\n",
      "Running average activity prediction loss: 1.472994846627116 (Cross Entropy over last 1600 batches)\n",
      "Running average (complete) remaining runtime prediction loss: 0.42513701880350707 (MAE over last 1600 batches)\n",
      "------------------------------------------------------------\n"
     ]
    },
    {
     "name": "stderr",
     "output_type": "stream",
     "text": [
      "Batch calculation at epoch 89.: 4798it [02:26, 32.85it/s]\n"
     ]
    },
    {
     "name": "stdout",
     "output_type": "stream",
     "text": [
      "=======================================\n",
      "End of epoch 89\n",
      "=======================================\n",
      "Running average global loss: 1.8967728970199824 (over last 1600 batches)\n",
      "Running average activity prediction loss: 1.4742737961560488 (Cross Entropy over last 1600 batches)\n",
      "Running average (complete) remaining runtime prediction loss: 0.4224991012178361 (MAE over last 1600 batches)\n"
     ]
    },
    {
     "name": "stderr",
     "output_type": "stream",
     "text": [
      "Validation batch calculation: 72it [11:34,  9.65s/it]\n"
     ]
    },
    {
     "name": "stdout",
     "output_type": "stream",
     "text": [
      "Avg 1-(normalized) DL distance acitivty suffix prediction validation set: 0.2998647093772888\n",
      "Percentage of suffixes predicted to END: too early - 0.020266626620340348 ; right moment - 0.1032990436664232 ; too late - 0.8764343297132364\n",
      "Too early instances - avg amount of events too early: 8.82249927520752\n",
      "Too late instances - avg amount of events too late: 44.02006149291992\n",
      "Avg absolute amount of events predicted too early / too late: 38.759498596191406\n",
      "Avg MAE TTNE prediction validation set: 1060.4321614583334 (minutes)'\n",
      "Avg MAE RRT prediction validation set: 0.49550962448120117 (standardized) ; 8319.976041666667 (minutes)'\n",
      "Avg validation loss: 1.9391454458236694\n",
      " \n",
      "------------------------------------\n",
      "EPOCH 90:\n",
      "____________________________________\n"
     ]
    },
    {
     "name": "stderr",
     "output_type": "stream",
     "text": [
      "Batch calculation at epoch 90.: 1602it [00:56, 21.21it/s]"
     ]
    },
    {
     "name": "stdout",
     "output_type": "stream",
     "text": [
      "------------------------------------------------------------\n",
      "Epoch 90, batch 1599:\n",
      "Average original gradient norm: 0.3699484938941896 (over last 1600 batches)\n",
      "Average clipped gradient norm: 0.3695656075887382 (over last 1600 batches)\n",
      "Running average global loss: 1.8991679944843054 (over last 1600 batches)\n",
      "Running average activity prediction loss: 1.4751707196980715 (Cross Entropy over last 1600 batches)\n",
      "Running average (complete) remaining runtime prediction loss: 0.42399727350100874 (MAE over last 1600 batches)\n",
      "------------------------------------------------------------\n"
     ]
    },
    {
     "name": "stderr",
     "output_type": "stream",
     "text": [
      "Batch calculation at epoch 90.: 3202it [02:04, 20.25it/s]"
     ]
    },
    {
     "name": "stdout",
     "output_type": "stream",
     "text": [
      "------------------------------------------------------------\n",
      "Epoch 90, batch 3199:\n",
      "Average original gradient norm: 0.3732677634246647 (over last 1600 batches)\n",
      "Average clipped gradient norm: 0.37079428726807234 (over last 1600 batches)\n",
      "Running average global loss: 1.8980519738793373 (over last 1600 batches)\n",
      "Running average activity prediction loss: 1.473918889835477 (Cross Entropy over last 1600 batches)\n",
      "Running average (complete) remaining runtime prediction loss: 0.42413308393210175 (MAE over last 1600 batches)\n",
      "------------------------------------------------------------\n"
     ]
    },
    {
     "name": "stderr",
     "output_type": "stream",
     "text": [
      "Batch calculation at epoch 90.: 4798it [02:59, 26.66it/s]\n"
     ]
    },
    {
     "name": "stdout",
     "output_type": "stream",
     "text": [
      "=======================================\n",
      "End of epoch 90\n",
      "=======================================\n",
      "Running average global loss: 1.8969311977177858 (over last 1600 batches)\n",
      "Running average activity prediction loss: 1.4727138062566518 (Cross Entropy over last 1600 batches)\n",
      "Running average (complete) remaining runtime prediction loss: 0.4242173910140991 (MAE over last 1600 batches)\n"
     ]
    },
    {
     "name": "stderr",
     "output_type": "stream",
     "text": [
      "Validation batch calculation: 72it [10:17,  8.58s/it]\n"
     ]
    },
    {
     "name": "stdout",
     "output_type": "stream",
     "text": [
      "Avg 1-(normalized) DL distance acitivty suffix prediction validation set: 0.30294913053512573\n",
      "Percentage of suffixes predicted to END: too early - 0.01834167252571725 ; right moment - 0.10223417544386575 ; too late - 0.879424152030417\n",
      "Too early instances - avg amount of events too early: 8.577223777770996\n",
      "Too late instances - avg amount of events too late: 43.79429626464844\n",
      "Avg absolute amount of events predicted too early / too late: 38.671085357666016\n",
      "Avg MAE TTNE prediction validation set: 1036.5282552083333 (minutes)'\n",
      "Avg MAE RRT prediction validation set: 0.49483275413513184 (standardized) ; 8301.941145833332 (minutes)'\n",
      "Avg validation loss: 1.931699275970459\n",
      " \n",
      "------------------------------------\n",
      "EPOCH 91:\n",
      "____________________________________\n"
     ]
    },
    {
     "name": "stderr",
     "output_type": "stream",
     "text": [
      "Batch calculation at epoch 91.: 1603it [00:33, 38.24it/s]"
     ]
    },
    {
     "name": "stdout",
     "output_type": "stream",
     "text": [
      "------------------------------------------------------------\n",
      "Epoch 91, batch 1599:\n",
      "Average original gradient norm: 0.3697299729473889 (over last 1600 batches)\n",
      "Average clipped gradient norm: 0.36968300634995105 (over last 1600 batches)\n",
      "Running average global loss: 1.897581245675683 (over last 1600 batches)\n",
      "Running average activity prediction loss: 1.4734380520880221 (Cross Entropy over last 1600 batches)\n",
      "Running average (complete) remaining runtime prediction loss: 0.4241431935317814 (MAE over last 1600 batches)\n",
      "------------------------------------------------------------\n"
     ]
    },
    {
     "name": "stderr",
     "output_type": "stream",
     "text": [
      "Batch calculation at epoch 91.: 3204it [01:11, 31.65it/s]"
     ]
    },
    {
     "name": "stdout",
     "output_type": "stream",
     "text": [
      "------------------------------------------------------------\n",
      "Epoch 91, batch 3199:\n",
      "Average original gradient norm: 0.3669014365691692 (over last 1600 batches)\n",
      "Average clipped gradient norm: 0.36682424415834247 (over last 1600 batches)\n",
      "Running average global loss: 1.8961720046401025 (over last 1600 batches)\n",
      "Running average activity prediction loss: 1.47217665463686 (Cross Entropy over last 1600 batches)\n",
      "Running average (complete) remaining runtime prediction loss: 0.4239953507483005 (MAE over last 1600 batches)\n",
      "------------------------------------------------------------\n"
     ]
    },
    {
     "name": "stderr",
     "output_type": "stream",
     "text": [
      "Batch calculation at epoch 91.: 4798it [01:49, 44.00it/s]\n"
     ]
    },
    {
     "name": "stdout",
     "output_type": "stream",
     "text": [
      "=======================================\n",
      "End of epoch 91\n",
      "=======================================\n",
      "Running average global loss: 1.8994924619793891 (over last 1600 batches)\n",
      "Running average activity prediction loss: 1.475650106444955 (Cross Entropy over last 1600 batches)\n",
      "Running average (complete) remaining runtime prediction loss: 0.4238423557765782 (MAE over last 1600 batches)\n"
     ]
    },
    {
     "name": "stderr",
     "output_type": "stream",
     "text": [
      "Validation batch calculation: 72it [09:36,  8.01s/it]\n"
     ]
    },
    {
     "name": "stdout",
     "output_type": "stream",
     "text": [
      "Avg 1-(normalized) DL distance acitivty suffix prediction validation set: 0.3047691583633423\n",
      "Percentage of suffixes predicted to END: too early - 0.017945759981433065 ; right moment - 0.10209082779852147 ; too late - 0.8799634122200455\n",
      "Too early instances - avg amount of events too early: 8.826169967651367\n",
      "Too late instances - avg amount of events too late: 43.733158111572266\n",
      "Avg absolute amount of events predicted too early / too late: 38.641971588134766\n",
      "Avg MAE TTNE prediction validation set: 1051.7919270833333 (minutes)'\n",
      "Avg MAE RRT prediction validation set: 0.49528855085372925 (standardized) ; 8313.238541666668 (minutes)'\n",
      "Avg validation loss: 1.9379397630691528\n",
      " \n",
      "------------------------------------\n",
      "EPOCH 92:\n",
      "____________________________________\n"
     ]
    },
    {
     "name": "stderr",
     "output_type": "stream",
     "text": [
      "Batch calculation at epoch 92.: 1606it [00:32, 51.91it/s]"
     ]
    },
    {
     "name": "stdout",
     "output_type": "stream",
     "text": [
      "------------------------------------------------------------\n",
      "Epoch 92, batch 1599:\n",
      "Average original gradient norm: 0.39209123491309583 (over last 1600 batches)\n",
      "Average clipped gradient norm: 0.3869600210990757 (over last 1600 batches)\n",
      "Running average global loss: 1.8956098961085082 (over last 1600 batches)\n",
      "Running average activity prediction loss: 1.4718564753234387 (Cross Entropy over last 1600 batches)\n",
      "Running average (complete) remaining runtime prediction loss: 0.4237534222751856 (MAE over last 1600 batches)\n",
      "------------------------------------------------------------\n"
     ]
    },
    {
     "name": "stderr",
     "output_type": "stream",
     "text": [
      "Batch calculation at epoch 92.: 3206it [01:04, 54.82it/s]"
     ]
    },
    {
     "name": "stdout",
     "output_type": "stream",
     "text": [
      "------------------------------------------------------------\n",
      "Epoch 92, batch 3199:\n",
      "Average original gradient norm: 0.38539401192218065 (over last 1600 batches)\n",
      "Average clipped gradient norm: 0.38539401192218065 (over last 1600 batches)\n",
      "Running average global loss: 1.8993714489787816 (over last 1600 batches)\n",
      "Running average activity prediction loss: 1.4749699445813895 (Cross Entropy over last 1600 batches)\n",
      "Running average (complete) remaining runtime prediction loss: 0.42440150370821356 (MAE over last 1600 batches)\n",
      "------------------------------------------------------------\n"
     ]
    },
    {
     "name": "stderr",
     "output_type": "stream",
     "text": [
      "Batch calculation at epoch 92.: 4798it [01:41, 47.29it/s]\n"
     ]
    },
    {
     "name": "stdout",
     "output_type": "stream",
     "text": [
      "=======================================\n",
      "End of epoch 92\n",
      "=======================================\n",
      "Running average global loss: 1.8970684290677309 (over last 1600 batches)\n",
      "Running average activity prediction loss: 1.4736630070954562 (Cross Entropy over last 1600 batches)\n",
      "Running average (complete) remaining runtime prediction loss: 0.42340542079880833 (MAE over last 1600 batches)\n"
     ]
    },
    {
     "name": "stderr",
     "output_type": "stream",
     "text": [
      "Validation batch calculation: 72it [10:03,  8.38s/it]\n"
     ]
    },
    {
     "name": "stdout",
     "output_type": "stream",
     "text": [
      "Avg 1-(normalized) DL distance acitivty suffix prediction validation set: 0.30743515491485596\n",
      "Percentage of suffixes predicted to END: too early - 0.02352949207151 ; right moment - 0.10441852051577848 ; too late - 0.8720519874127115\n",
      "Too early instances - avg amount of events too early: 9.346097946166992\n",
      "Too late instances - avg amount of events too late: 43.57133102416992\n",
      "Avg absolute amount of events predicted too early / too late: 38.216373443603516\n",
      "Avg MAE TTNE prediction validation set: 1055.95234375 (minutes)'\n",
      "Avg MAE RRT prediction validation set: 0.4942772388458252 (standardized) ; 8294.882291666667 (minutes)'\n",
      "Avg validation loss: 1.925998568534851\n",
      " \n",
      "------------------------------------\n",
      "EPOCH 93:\n",
      "____________________________________\n"
     ]
    },
    {
     "name": "stderr",
     "output_type": "stream",
     "text": [
      "Batch calculation at epoch 93.: 1601it [00:50, 21.54it/s]"
     ]
    },
    {
     "name": "stdout",
     "output_type": "stream",
     "text": [
      "------------------------------------------------------------\n",
      "Epoch 93, batch 1599:\n",
      "Average original gradient norm: 0.39046853066422044 (over last 1600 batches)\n",
      "Average clipped gradient norm: 0.3901867438200861 (over last 1600 batches)\n",
      "Running average global loss: 1.8968582747876643 (over last 1600 batches)\n",
      "Running average activity prediction loss: 1.4726420847326518 (Cross Entropy over last 1600 batches)\n",
      "Running average (complete) remaining runtime prediction loss: 0.42421618960797786 (MAE over last 1600 batches)\n",
      "------------------------------------------------------------\n"
     ]
    },
    {
     "name": "stderr",
     "output_type": "stream",
     "text": [
      "Batch calculation at epoch 93.: 3205it [01:48, 27.75it/s]"
     ]
    },
    {
     "name": "stdout",
     "output_type": "stream",
     "text": [
      "------------------------------------------------------------\n",
      "Epoch 93, batch 3199:\n",
      "Average original gradient norm: 0.3820713884755969 (over last 1600 batches)\n",
      "Average clipped gradient norm: 0.381768046207726 (over last 1600 batches)\n",
      "Running average global loss: 1.8961593386530877 (over last 1600 batches)\n",
      "Running average activity prediction loss: 1.4730416669696569 (Cross Entropy over last 1600 batches)\n",
      "Running average (complete) remaining runtime prediction loss: 0.4231176732107997 (MAE over last 1600 batches)\n",
      "------------------------------------------------------------\n"
     ]
    },
    {
     "name": "stderr",
     "output_type": "stream",
     "text": [
      "Batch calculation at epoch 93.: 4798it [02:36, 30.61it/s]\n"
     ]
    },
    {
     "name": "stdout",
     "output_type": "stream",
     "text": [
      "=======================================\n",
      "End of epoch 93\n",
      "=======================================\n",
      "Running average global loss: 1.898093945607543 (over last 1600 batches)\n",
      "Running average activity prediction loss: 1.4739881321787833 (Cross Entropy over last 1600 batches)\n",
      "Running average (complete) remaining runtime prediction loss: 0.42410581089556215 (MAE over last 1600 batches)\n"
     ]
    },
    {
     "name": "stderr",
     "output_type": "stream",
     "text": [
      "Validation batch calculation: 72it [10:12,  8.51s/it]\n"
     ]
    },
    {
     "name": "stdout",
     "output_type": "stream",
     "text": [
      "Avg 1-(normalized) DL distance acitivty suffix prediction validation set: 0.31117528676986694\n",
      "Percentage of suffixes predicted to END: too early - 0.028662702990504926 ; right moment - 0.1070260824453743 ; too late - 0.8643112145641207\n",
      "Too early instances - avg amount of events too early: 10.098833084106445\n",
      "Too late instances - avg amount of events too late: 43.637393951416016\n",
      "Avg absolute amount of events predicted too early / too late: 38.0057487487793\n",
      "Avg MAE TTNE prediction validation set: 1051.5946614583333 (minutes)'\n",
      "Avg MAE RRT prediction validation set: 0.49496304988861084 (standardized) ; 8311.152604166668 (minutes)'\n",
      "Avg validation loss: 1.9315032958984375\n",
      " \n",
      "------------------------------------\n",
      "EPOCH 94:\n",
      "____________________________________\n"
     ]
    },
    {
     "name": "stderr",
     "output_type": "stream",
     "text": [
      "Batch calculation at epoch 94.: 1607it [00:39, 44.04it/s]"
     ]
    },
    {
     "name": "stdout",
     "output_type": "stream",
     "text": [
      "------------------------------------------------------------\n",
      "Epoch 94, batch 1599:\n",
      "Average original gradient norm: 0.37932804856449365 (over last 1600 batches)\n",
      "Average clipped gradient norm: 0.37765809264034034 (over last 1600 batches)\n",
      "Running average global loss: 1.8969848739355804 (over last 1600 batches)\n",
      "Running average activity prediction loss: 1.4727483151853085 (Cross Entropy over last 1600 batches)\n",
      "Running average (complete) remaining runtime prediction loss: 0.42423655834048984 (MAE over last 1600 batches)\n",
      "------------------------------------------------------------\n"
     ]
    },
    {
     "name": "stderr",
     "output_type": "stream",
     "text": [
      "Batch calculation at epoch 94.: 3205it [01:23, 33.84it/s]"
     ]
    },
    {
     "name": "stdout",
     "output_type": "stream",
     "text": [
      "------------------------------------------------------------\n",
      "Epoch 94, batch 3199:\n",
      "Average original gradient norm: 0.3802029370609671 (over last 1600 batches)\n",
      "Average clipped gradient norm: 0.3792935515288264 (over last 1600 batches)\n",
      "Running average global loss: 1.898258386850357 (over last 1600 batches)\n",
      "Running average activity prediction loss: 1.473356457874179 (Cross Entropy over last 1600 batches)\n",
      "Running average (complete) remaining runtime prediction loss: 0.42490192769095303 (MAE over last 1600 batches)\n",
      "------------------------------------------------------------\n"
     ]
    },
    {
     "name": "stderr",
     "output_type": "stream",
     "text": [
      "Batch calculation at epoch 94.: 4798it [02:10, 36.82it/s]\n"
     ]
    },
    {
     "name": "stdout",
     "output_type": "stream",
     "text": [
      "=======================================\n",
      "End of epoch 94\n",
      "=======================================\n",
      "Running average global loss: 1.8946840053796767 (over last 1600 batches)\n",
      "Running average activity prediction loss: 1.4726436077803373 (Cross Entropy over last 1600 batches)\n",
      "Running average (complete) remaining runtime prediction loss: 0.4220403980836272 (MAE over last 1600 batches)\n"
     ]
    },
    {
     "name": "stderr",
     "output_type": "stream",
     "text": [
      "Validation batch calculation: 72it [09:40,  8.06s/it]\n"
     ]
    },
    {
     "name": "stdout",
     "output_type": "stream",
     "text": [
      "Avg 1-(normalized) DL distance acitivty suffix prediction validation set: 0.3025519847869873\n",
      "Percentage of suffixes predicted to END: too early - 0.02043727857908353 ; right moment - 0.10290995720048875 ; too late - 0.8766527642204277\n",
      "Too early instances - avg amount of events too early: 10.242485046386719\n",
      "Too late instances - avg amount of events too late: 43.84225082397461\n",
      "Avg absolute amount of events predicted too early / too late: 38.643760681152344\n",
      "Avg MAE TTNE prediction validation set: 1038.5377604166667 (minutes)'\n",
      "Avg MAE RRT prediction validation set: 0.4935843348503113 (standardized) ; 8288.069270833334 (minutes)'\n",
      "Avg validation loss: 1.9327434301376343\n",
      " \n",
      "------------------------------------\n",
      "EPOCH 95:\n",
      "____________________________________\n"
     ]
    },
    {
     "name": "stderr",
     "output_type": "stream",
     "text": [
      "Batch calculation at epoch 95.: 1608it [00:43, 44.97it/s]"
     ]
    },
    {
     "name": "stdout",
     "output_type": "stream",
     "text": [
      "------------------------------------------------------------\n",
      "Epoch 95, batch 1599:\n",
      "Average original gradient norm: 0.38666192142292855 (over last 1600 batches)\n",
      "Average clipped gradient norm: 0.38628566650673746 (over last 1600 batches)\n",
      "Running average global loss: 1.8973075333237648 (over last 1600 batches)\n",
      "Running average activity prediction loss: 1.4729789682477712 (Cross Entropy over last 1600 batches)\n",
      "Running average (complete) remaining runtime prediction loss: 0.4243285656347871 (MAE over last 1600 batches)\n",
      "------------------------------------------------------------\n"
     ]
    },
    {
     "name": "stderr",
     "output_type": "stream",
     "text": [
      "Batch calculation at epoch 95.: 3204it [01:22, 37.08it/s]"
     ]
    },
    {
     "name": "stdout",
     "output_type": "stream",
     "text": [
      "------------------------------------------------------------\n",
      "Epoch 95, batch 3199:\n",
      "Average original gradient norm: 0.38005993791855874 (over last 1600 batches)\n",
      "Average clipped gradient norm: 0.378371164733544 (over last 1600 batches)\n",
      "Running average global loss: 1.8948645858466626 (over last 1600 batches)\n",
      "Running average activity prediction loss: 1.4721145901829005 (Cross Entropy over last 1600 batches)\n",
      "Running average (complete) remaining runtime prediction loss: 0.4227499953657389 (MAE over last 1600 batches)\n",
      "------------------------------------------------------------\n"
     ]
    },
    {
     "name": "stderr",
     "output_type": "stream",
     "text": [
      "Batch calculation at epoch 95.: 4798it [02:02, 39.15it/s]\n"
     ]
    },
    {
     "name": "stdout",
     "output_type": "stream",
     "text": [
      "=======================================\n",
      "End of epoch 95\n",
      "=======================================\n",
      "Running average global loss: 1.8973468267917633 (over last 1600 batches)\n",
      "Running average activity prediction loss: 1.4731953781098128 (Cross Entropy over last 1600 batches)\n",
      "Running average (complete) remaining runtime prediction loss: 0.42415144925937054 (MAE over last 1600 batches)\n"
     ]
    },
    {
     "name": "stderr",
     "output_type": "stream",
     "text": [
      "Validation batch calculation: 72it [09:15,  7.72s/it]\n"
     ]
    },
    {
     "name": "stdout",
     "output_type": "stream",
     "text": [
      "Avg 1-(normalized) DL distance acitivty suffix prediction validation set: 0.3026077151298523\n",
      "Percentage of suffixes predicted to END: too early - 0.01909936722253698 ; right moment - 0.10279391386854338 ; too late - 0.8781067189089197\n",
      "Too early instances - avg amount of events too early: 8.827019691467285\n",
      "Too late instances - avg amount of events too late: 43.89093017578125\n",
      "Avg absolute amount of events predicted too early / too late: 38.709510803222656\n",
      "Avg MAE TTNE prediction validation set: 1044.5313151041667 (minutes)'\n",
      "Avg MAE RRT prediction validation set: 0.4932464063167572 (standardized) ; 8281.409375 (minutes)'\n",
      "Avg validation loss: 1.9287997484207153\n",
      " \n",
      "------------------------------------\n",
      "EPOCH 96:\n",
      "____________________________________\n"
     ]
    },
    {
     "name": "stderr",
     "output_type": "stream",
     "text": [
      "Batch calculation at epoch 96.: 1607it [00:32, 54.31it/s]"
     ]
    },
    {
     "name": "stdout",
     "output_type": "stream",
     "text": [
      "------------------------------------------------------------\n",
      "Epoch 96, batch 1599:\n",
      "Average original gradient norm: 0.37636227254755794 (over last 1600 batches)\n",
      "Average clipped gradient norm: 0.37636227254755794 (over last 1600 batches)\n",
      "Running average global loss: 1.8973389410972594 (over last 1600 batches)\n",
      "Running average activity prediction loss: 1.4736007521301508 (Cross Entropy over last 1600 batches)\n",
      "Running average (complete) remaining runtime prediction loss: 0.4237381904385984 (MAE over last 1600 batches)\n",
      "------------------------------------------------------------\n"
     ]
    },
    {
     "name": "stderr",
     "output_type": "stream",
     "text": [
      "Batch calculation at epoch 96.: 3212it [01:02, 47.43it/s]"
     ]
    },
    {
     "name": "stdout",
     "output_type": "stream",
     "text": [
      "------------------------------------------------------------\n",
      "Epoch 96, batch 3199:\n",
      "Average original gradient norm: 0.38203359642997387 (over last 1600 batches)\n",
      "Average clipped gradient norm: 0.38203359642997387 (over last 1600 batches)\n",
      "Running average global loss: 1.8962607645988465 (over last 1600 batches)\n",
      "Running average activity prediction loss: 1.4715209259837865 (Cross Entropy over last 1600 batches)\n",
      "Running average (complete) remaining runtime prediction loss: 0.42473983807489274 (MAE over last 1600 batches)\n",
      "------------------------------------------------------------\n"
     ]
    },
    {
     "name": "stderr",
     "output_type": "stream",
     "text": [
      "Batch calculation at epoch 96.: 4798it [01:39, 48.01it/s]\n"
     ]
    },
    {
     "name": "stdout",
     "output_type": "stream",
     "text": [
      "=======================================\n",
      "End of epoch 96\n",
      "=======================================\n",
      "Running average global loss: 1.895117163285613 (over last 1600 batches)\n",
      "Running average activity prediction loss: 1.4727801517397165 (Cross Entropy over last 1600 batches)\n",
      "Running average (complete) remaining runtime prediction loss: 0.4223370124027133 (MAE over last 1600 batches)\n"
     ]
    },
    {
     "name": "stderr",
     "output_type": "stream",
     "text": [
      "Validation batch calculation: 72it [10:20,  8.62s/it]\n"
     ]
    },
    {
     "name": "stdout",
     "output_type": "stream",
     "text": [
      "Avg 1-(normalized) DL distance acitivty suffix prediction validation set: 0.301724910736084\n",
      "Percentage of suffixes predicted to END: too early - 0.02089462582851526 ; right moment - 0.10326491327467456 ; too late - 0.8758404608968102\n",
      "Too early instances - avg amount of events too early: 9.552760124206543\n",
      "Too late instances - avg amount of events too late: 43.61634063720703\n",
      "Avg absolute amount of events predicted too early / too late: 38.40055465698242\n",
      "Avg MAE TTNE prediction validation set: 1039.4944661458333 (minutes)'\n",
      "Avg MAE RRT prediction validation set: 0.493650883436203 (standardized) ; 8289.1203125 (minutes)'\n",
      "Avg validation loss: 1.9343831539154053\n",
      " \n",
      "------------------------------------\n",
      "EPOCH 97:\n",
      "____________________________________\n"
     ]
    },
    {
     "name": "stderr",
     "output_type": "stream",
     "text": [
      "Batch calculation at epoch 97.: 1608it [00:35, 45.86it/s]"
     ]
    },
    {
     "name": "stdout",
     "output_type": "stream",
     "text": [
      "------------------------------------------------------------\n",
      "Epoch 97, batch 1599:\n",
      "Average original gradient norm: 0.38109140974469485 (over last 1600 batches)\n",
      "Average clipped gradient norm: 0.3804756609071046 (over last 1600 batches)\n",
      "Running average global loss: 1.8964128691703082 (over last 1600 batches)\n",
      "Running average activity prediction loss: 1.4738048351556063 (Cross Entropy over last 1600 batches)\n",
      "Running average (complete) remaining runtime prediction loss: 0.4226080336049199 (MAE over last 1600 batches)\n",
      "------------------------------------------------------------\n"
     ]
    },
    {
     "name": "stderr",
     "output_type": "stream",
     "text": [
      "Batch calculation at epoch 97.: 3203it [01:17, 27.07it/s]"
     ]
    },
    {
     "name": "stdout",
     "output_type": "stream",
     "text": [
      "------------------------------------------------------------\n",
      "Epoch 97, batch 3199:\n",
      "Average original gradient norm: 0.3906258781719953 (over last 1600 batches)\n",
      "Average clipped gradient norm: 0.3847783935535699 (over last 1600 batches)\n",
      "Running average global loss: 1.8965488255769014 (over last 1600 batches)\n",
      "Running average activity prediction loss: 1.472421501427889 (Cross Entropy over last 1600 batches)\n",
      "Running average (complete) remaining runtime prediction loss: 0.4241273241117597 (MAE over last 1600 batches)\n",
      "------------------------------------------------------------\n"
     ]
    },
    {
     "name": "stderr",
     "output_type": "stream",
     "text": [
      "Batch calculation at epoch 97.: 4798it [02:12, 36.08it/s]\n"
     ]
    },
    {
     "name": "stdout",
     "output_type": "stream",
     "text": [
      "=======================================\n",
      "End of epoch 97\n",
      "=======================================\n",
      "Running average global loss: 1.8942088239639998 (over last 1600 batches)\n",
      "Running average activity prediction loss: 1.4705294512957334 (Cross Entropy over last 1600 batches)\n",
      "Running average (complete) remaining runtime prediction loss: 0.42367937179282306 (MAE over last 1600 batches)\n"
     ]
    },
    {
     "name": "stderr",
     "output_type": "stream",
     "text": [
      "Validation batch calculation: 72it [09:32,  7.95s/it]\n"
     ]
    },
    {
     "name": "stdout",
     "output_type": "stream",
     "text": [
      "Avg 1-(normalized) DL distance acitivty suffix prediction validation set: 0.30602598190307617\n",
      "Percentage of suffixes predicted to END: too early - 0.021563581506788537 ; right moment - 0.10402943404984402 ; too late - 0.8744069844433674\n",
      "Too early instances - avg amount of events too early: 9.338714599609375\n",
      "Too late instances - avg amount of events too late: 44.023216247558594\n",
      "Avg absolute amount of events predicted too early / too late: 38.69558334350586\n",
      "Avg MAE TTNE prediction validation set: 1054.7946614583334 (minutes)'\n",
      "Avg MAE RRT prediction validation set: 0.4968891143798828 (standardized) ; 8343.4453125 (minutes)'\n",
      "Avg validation loss: 1.9336302280426025\n",
      " \n",
      "------------------------------------\n",
      "EPOCH 98:\n",
      "____________________________________\n"
     ]
    },
    {
     "name": "stderr",
     "output_type": "stream",
     "text": [
      "Batch calculation at epoch 98.: 1606it [00:41, 34.67it/s]"
     ]
    },
    {
     "name": "stdout",
     "output_type": "stream",
     "text": [
      "------------------------------------------------------------\n",
      "Epoch 98, batch 1599:\n",
      "Average original gradient norm: 0.38733506947755814 (over last 1600 batches)\n",
      "Average clipped gradient norm: 0.3854758832603693 (over last 1600 batches)\n",
      "Running average global loss: 1.8928654775023461 (over last 1600 batches)\n",
      "Running average activity prediction loss: 1.471013934314251 (Cross Entropy over last 1600 batches)\n",
      "Running average (complete) remaining runtime prediction loss: 0.42185154303908345 (MAE over last 1600 batches)\n",
      "------------------------------------------------------------\n"
     ]
    },
    {
     "name": "stderr",
     "output_type": "stream",
     "text": [
      "Batch calculation at epoch 98.: 3203it [01:29, 28.88it/s]"
     ]
    },
    {
     "name": "stdout",
     "output_type": "stream",
     "text": [
      "------------------------------------------------------------\n",
      "Epoch 98, batch 3199:\n",
      "Average original gradient norm: 0.3872674736566842 (over last 1600 batches)\n",
      "Average clipped gradient norm: 0.3872674736566842 (over last 1600 batches)\n",
      "Running average global loss: 1.8980287968367338 (over last 1600 batches)\n",
      "Running average activity prediction loss: 1.473675849735737 (Cross Entropy over last 1600 batches)\n",
      "Running average (complete) remaining runtime prediction loss: 0.4243529477342963 (MAE over last 1600 batches)\n",
      "------------------------------------------------------------\n"
     ]
    },
    {
     "name": "stderr",
     "output_type": "stream",
     "text": [
      "Batch calculation at epoch 98.: 4798it [02:21, 33.80it/s]\n"
     ]
    },
    {
     "name": "stdout",
     "output_type": "stream",
     "text": [
      "=======================================\n",
      "End of epoch 98\n",
      "=======================================\n",
      "Running average global loss: 1.8959758433699607 (over last 1600 batches)\n",
      "Running average activity prediction loss: 1.4721253982931375 (Cross Entropy over last 1600 batches)\n",
      "Running average (complete) remaining runtime prediction loss: 0.4238504435494542 (MAE over last 1600 batches)\n"
     ]
    },
    {
     "name": "stderr",
     "output_type": "stream",
     "text": [
      "Validation batch calculation: 72it [08:53,  7.42s/it]\n"
     ]
    },
    {
     "name": "stdout",
     "output_type": "stream",
     "text": [
      "Avg 1-(normalized) DL distance acitivty suffix prediction validation set: 0.30491507053375244\n",
      "Percentage of suffixes predicted to END: too early - 0.02268988443449354 ; right moment - 0.10381099954265276 ; too late - 0.8734991160228537\n",
      "Too early instances - avg amount of events too early: 8.91456127166748\n",
      "Too late instances - avg amount of events too late: 43.62558364868164\n",
      "Avg absolute amount of events predicted too early / too late: 38.309181213378906\n",
      "Avg MAE TTNE prediction validation set: 1044.5078125 (minutes)'\n",
      "Avg MAE RRT prediction validation set: 0.49561643600463867 (standardized) ; 8315.9953125 (minutes)'\n",
      "Avg validation loss: 1.9346203804016113\n",
      " \n",
      "------------------------------------\n",
      "EPOCH 99:\n",
      "____________________________________\n"
     ]
    },
    {
     "name": "stderr",
     "output_type": "stream",
     "text": [
      "Batch calculation at epoch 99.: 1610it [00:43, 67.45it/s]"
     ]
    },
    {
     "name": "stdout",
     "output_type": "stream",
     "text": [
      "------------------------------------------------------------\n",
      "Epoch 99, batch 1599:\n",
      "Average original gradient norm: 0.38373474854975936 (over last 1600 batches)\n",
      "Average clipped gradient norm: 0.38367707896977665 (over last 1600 batches)\n",
      "Running average global loss: 1.895381842777133 (over last 1600 batches)\n",
      "Running average activity prediction loss: 1.4723921928554773 (Cross Entropy over last 1600 batches)\n",
      "Running average (complete) remaining runtime prediction loss: 0.42298964839428665 (MAE over last 1600 batches)\n",
      "------------------------------------------------------------\n"
     ]
    },
    {
     "name": "stderr",
     "output_type": "stream",
     "text": [
      "Batch calculation at epoch 99.: 3209it [01:13, 69.78it/s]"
     ]
    },
    {
     "name": "stdout",
     "output_type": "stream",
     "text": [
      "------------------------------------------------------------\n",
      "Epoch 99, batch 3199:\n",
      "Average original gradient norm: 0.3871053913142532 (over last 1600 batches)\n",
      "Average clipped gradient norm: 0.38640601172111927 (over last 1600 batches)\n",
      "Running average global loss: 1.896082192361355 (over last 1600 batches)\n",
      "Running average activity prediction loss: 1.4719794426113366 (Cross Entropy over last 1600 batches)\n",
      "Running average (complete) remaining runtime prediction loss: 0.4241027502529323 (MAE over last 1600 batches)\n",
      "------------------------------------------------------------\n"
     ]
    },
    {
     "name": "stderr",
     "output_type": "stream",
     "text": [
      "Batch calculation at epoch 99.: 4798it [01:47, 44.70it/s]\n"
     ]
    },
    {
     "name": "stdout",
     "output_type": "stream",
     "text": [
      "=======================================\n",
      "End of epoch 99\n",
      "=======================================\n",
      "Running average global loss: 1.8947142639011145 (over last 1600 batches)\n",
      "Running average activity prediction loss: 1.4716988671571016 (Cross Entropy over last 1600 batches)\n",
      "Running average (complete) remaining runtime prediction loss: 0.42301539780572056 (MAE over last 1600 batches)\n"
     ]
    },
    {
     "name": "stderr",
     "output_type": "stream",
     "text": [
      "Validation batch calculation: 72it [08:11,  6.82s/it]\n"
     ]
    },
    {
     "name": "stdout",
     "output_type": "stream",
     "text": [
      "Avg 1-(normalized) DL distance acitivty suffix prediction validation set: 0.30671775341033936\n",
      "Percentage of suffixes predicted to END: too early - 0.024116534809586546 ; right moment - 0.10423421640033584 ; too late - 0.8716492487900777\n",
      "Too early instances - avg amount of events too early: 9.874327659606934\n",
      "Too late instances - avg amount of events too late: 43.80998229980469\n",
      "Avg absolute amount of events predicted too early / too late: 38.425071716308594\n",
      "Avg MAE TTNE prediction validation set: 1044.9494791666666 (minutes)'\n",
      "Avg MAE RRT prediction validation set: 0.493743896484375 (standardized) ; 8289.4609375 (minutes)'\n",
      "Avg validation loss: 1.928706407546997\n",
      " \n",
      "------------------------------------\n",
      "EPOCH 100:\n",
      "____________________________________\n"
     ]
    },
    {
     "name": "stderr",
     "output_type": "stream",
     "text": [
      "Batch calculation at epoch 100.: 1603it [00:29, 31.97it/s]"
     ]
    },
    {
     "name": "stdout",
     "output_type": "stream",
     "text": [
      "------------------------------------------------------------\n",
      "Epoch 100, batch 1599:\n",
      "Average original gradient norm: 0.38264835146255793 (over last 1600 batches)\n",
      "Average clipped gradient norm: 0.38264835146255793 (over last 1600 batches)\n",
      "Running average global loss: 1.8942279566079379 (over last 1600 batches)\n",
      "Running average activity prediction loss: 1.470267171636224 (Cross Entropy over last 1600 batches)\n",
      "Running average (complete) remaining runtime prediction loss: 0.42396078469231724 (MAE over last 1600 batches)\n",
      "------------------------------------------------------------\n"
     ]
    },
    {
     "name": "stderr",
     "output_type": "stream",
     "text": [
      "Batch calculation at epoch 100.: 3209it [01:05, 47.56it/s]"
     ]
    },
    {
     "name": "stdout",
     "output_type": "stream",
     "text": [
      "------------------------------------------------------------\n",
      "Epoch 100, batch 3199:\n",
      "Average original gradient norm: 0.3870429755654186 (over last 1600 batches)\n",
      "Average clipped gradient norm: 0.3859416352119297 (over last 1600 batches)\n",
      "Running average global loss: 1.8958699172735214 (over last 1600 batches)\n",
      "Running average activity prediction loss: 1.4728661468625068 (Cross Entropy over last 1600 batches)\n",
      "Running average (complete) remaining runtime prediction loss: 0.4230037690140307 (MAE over last 1600 batches)\n",
      "------------------------------------------------------------\n"
     ]
    },
    {
     "name": "stderr",
     "output_type": "stream",
     "text": [
      "Batch calculation at epoch 100.: 4798it [01:39, 48.13it/s]\n"
     ]
    },
    {
     "name": "stdout",
     "output_type": "stream",
     "text": [
      "=======================================\n",
      "End of epoch 100\n",
      "=======================================\n",
      "Running average global loss: 1.8956138949096202 (over last 1600 batches)\n",
      "Running average activity prediction loss: 1.4721445203572512 (Cross Entropy over last 1600 batches)\n",
      "Running average (complete) remaining runtime prediction loss: 0.4234693761914968 (MAE over last 1600 batches)\n"
     ]
    },
    {
     "name": "stderr",
     "output_type": "stream",
     "text": [
      "Validation batch calculation: 72it [08:23,  6.99s/it]\n"
     ]
    },
    {
     "name": "stdout",
     "output_type": "stream",
     "text": [
      "Avg 1-(normalized) DL distance acitivty suffix prediction validation set: 0.3076067566871643\n",
      "Percentage of suffixes predicted to END: too early - 0.02339297050451545 ; right moment - 0.10469156364976757 ; too late - 0.871915465845717\n",
      "Too early instances - avg amount of events too early: 9.989495277404785\n",
      "Too late instances - avg amount of events too late: 43.778507232666016\n",
      "Avg absolute amount of events predicted too early / too late: 38.404842376708984\n",
      "Avg MAE TTNE prediction validation set: 1051.6496744791666 (minutes)'\n",
      "Avg MAE RRT prediction validation set: 0.49531346559524536 (standardized) ; 8311.876041666666 (minutes)'\n",
      "Avg validation loss: 1.927761197090149\n",
      " \n",
      "------------------------------------\n",
      "EPOCH 101:\n",
      "____________________________________\n"
     ]
    },
    {
     "name": "stderr",
     "output_type": "stream",
     "text": [
      "Batch calculation at epoch 101.: 1607it [00:34, 50.47it/s]"
     ]
    },
    {
     "name": "stdout",
     "output_type": "stream",
     "text": [
      "------------------------------------------------------------\n",
      "Epoch 101, batch 1599:\n",
      "Average original gradient norm: 0.41465517587959766 (over last 1600 batches)\n",
      "Average clipped gradient norm: 0.40006270036101343 (over last 1600 batches)\n",
      "Running average global loss: 1.8954577538371087 (over last 1600 batches)\n",
      "Running average activity prediction loss: 1.4715176182240248 (Cross Entropy over last 1600 batches)\n",
      "Running average (complete) remaining runtime prediction loss: 0.4239401360414922 (MAE over last 1600 batches)\n",
      "------------------------------------------------------------\n"
     ]
    },
    {
     "name": "stderr",
     "output_type": "stream",
     "text": [
      "Batch calculation at epoch 101.: 3206it [01:16, 34.31it/s]"
     ]
    },
    {
     "name": "stdout",
     "output_type": "stream",
     "text": [
      "------------------------------------------------------------\n",
      "Epoch 101, batch 3199:\n",
      "Average original gradient norm: 0.39040886419825255 (over last 1600 batches)\n",
      "Average clipped gradient norm: 0.38809803309850394 (over last 1600 batches)\n",
      "Running average global loss: 1.8967965421825648 (over last 1600 batches)\n",
      "Running average activity prediction loss: 1.4719860504567623 (Cross Entropy over last 1600 batches)\n",
      "Running average (complete) remaining runtime prediction loss: 0.4248104897886515 (MAE over last 1600 batches)\n",
      "------------------------------------------------------------\n"
     ]
    },
    {
     "name": "stderr",
     "output_type": "stream",
     "text": [
      "Batch calculation at epoch 101.: 4798it [02:04, 38.51it/s]\n"
     ]
    },
    {
     "name": "stdout",
     "output_type": "stream",
     "text": [
      "=======================================\n",
      "End of epoch 101\n",
      "=======================================\n",
      "Running average global loss: 1.8926160648465156 (over last 1600 batches)\n",
      "Running average activity prediction loss: 1.4715262241661549 (Cross Entropy over last 1600 batches)\n",
      "Running average (complete) remaining runtime prediction loss: 0.4210898401774466 (MAE over last 1600 batches)\n"
     ]
    },
    {
     "name": "stderr",
     "output_type": "stream",
     "text": [
      "Validation batch calculation: 72it [10:03,  8.38s/it]\n"
     ]
    },
    {
     "name": "stdout",
     "output_type": "stream",
     "text": [
      "Avg 1-(normalized) DL distance acitivty suffix prediction validation set: 0.3054596781730652\n",
      "Percentage of suffixes predicted to END: too early - 0.021229103667651898 ; right moment - 0.10362669542721012 ; too late - 0.875144200905138\n",
      "Too early instances - avg amount of events too early: 9.057877540588379\n",
      "Too late instances - avg amount of events too late: 43.56269454956055\n",
      "Avg absolute amount of events predicted too early / too late: 38.3159294128418\n",
      "Avg MAE TTNE prediction validation set: 1041.5250651041667 (minutes)'\n",
      "Avg MAE RRT prediction validation set: 0.4958764612674713 (standardized) ; 8326.284375 (minutes)'\n",
      "Avg validation loss: 1.9262349605560303\n",
      " \n",
      "------------------------------------\n",
      "EPOCH 102:\n",
      "____________________________________\n"
     ]
    },
    {
     "name": "stderr",
     "output_type": "stream",
     "text": [
      "Batch calculation at epoch 102.: 1608it [00:39, 44.01it/s]"
     ]
    },
    {
     "name": "stdout",
     "output_type": "stream",
     "text": [
      "------------------------------------------------------------\n",
      "Epoch 102, batch 1599:\n",
      "Average original gradient norm: 0.389173447592184 (over last 1600 batches)\n",
      "Average clipped gradient norm: 0.38490805636160075 (over last 1600 batches)\n",
      "Running average global loss: 1.894521477073431 (over last 1600 batches)\n",
      "Running average activity prediction loss: 1.470995834246278 (Cross Entropy over last 1600 batches)\n",
      "Running average (complete) remaining runtime prediction loss: 0.4235256428644061 (MAE over last 1600 batches)\n",
      "------------------------------------------------------------\n"
     ]
    },
    {
     "name": "stderr",
     "output_type": "stream",
     "text": [
      "Batch calculation at epoch 102.: 3209it [01:16, 49.41it/s]"
     ]
    },
    {
     "name": "stdout",
     "output_type": "stream",
     "text": [
      "------------------------------------------------------------\n",
      "Epoch 102, batch 3199:\n",
      "Average original gradient norm: 0.3994588564429432 (over last 1600 batches)\n",
      "Average clipped gradient norm: 0.3841113135311753 (over last 1600 batches)\n",
      "Running average global loss: 1.8964046919345856 (over last 1600 batches)\n",
      "Running average activity prediction loss: 1.4721226950734854 (Cross Entropy over last 1600 batches)\n",
      "Running average (complete) remaining runtime prediction loss: 0.4242819981276989 (MAE over last 1600 batches)\n",
      "------------------------------------------------------------\n"
     ]
    },
    {
     "name": "stderr",
     "output_type": "stream",
     "text": [
      "Batch calculation at epoch 102.: 4798it [02:04, 38.64it/s]\n"
     ]
    },
    {
     "name": "stdout",
     "output_type": "stream",
     "text": [
      "=======================================\n",
      "End of epoch 102\n",
      "=======================================\n",
      "Running average global loss: 1.8936155104637147 (over last 1600 batches)\n",
      "Running average activity prediction loss: 1.4712129441648722 (Cross Entropy over last 1600 batches)\n",
      "Running average (complete) remaining runtime prediction loss: 0.42240256546065214 (MAE over last 1600 batches)\n"
     ]
    },
    {
     "name": "stderr",
     "output_type": "stream",
     "text": [
      "Validation batch calculation: 72it [07:45,  6.46s/it]\n"
     ]
    },
    {
     "name": "stdout",
     "output_type": "stream",
     "text": [
      "Avg 1-(normalized) DL distance acitivty suffix prediction validation set: 0.30296790599823\n",
      "Percentage of suffixes predicted to END: too early - 0.020676191321323985 ; right moment - 0.10325808719632484 ; too late - 0.8760657214823512\n",
      "Too early instances - avg amount of events too early: 9.54869556427002\n",
      "Too late instances - avg amount of events too late: 43.841373443603516\n",
      "Avg absolute amount of events predicted too early / too late: 38.6053581237793\n",
      "Avg MAE TTNE prediction validation set: 1035.0037109375 (minutes)'\n",
      "Avg MAE RRT prediction validation set: 0.49507883191108704 (standardized) ; 8312.861979166666 (minutes)'\n",
      "Avg validation loss: 1.9335191249847412\n",
      " \n",
      "------------------------------------\n",
      "EPOCH 103:\n",
      "____________________________________\n"
     ]
    },
    {
     "name": "stderr",
     "output_type": "stream",
     "text": [
      "Batch calculation at epoch 103.: 1607it [00:47, 39.23it/s]"
     ]
    },
    {
     "name": "stdout",
     "output_type": "stream",
     "text": [
      "------------------------------------------------------------\n",
      "Epoch 103, batch 1599:\n",
      "Average original gradient norm: 0.37295811702497306 (over last 1600 batches)\n",
      "Average clipped gradient norm: 0.37287233491428196 (over last 1600 batches)\n",
      "Running average global loss: 1.894386161789298 (over last 1600 batches)\n",
      "Running average activity prediction loss: 1.4705226883292197 (Cross Entropy over last 1600 batches)\n",
      "Running average (complete) remaining runtime prediction loss: 0.42386347414925696 (MAE over last 1600 batches)\n",
      "------------------------------------------------------------\n"
     ]
    },
    {
     "name": "stderr",
     "output_type": "stream",
     "text": [
      "Batch calculation at epoch 103.: 3208it [01:31, 46.95it/s]"
     ]
    },
    {
     "name": "stdout",
     "output_type": "stream",
     "text": [
      "------------------------------------------------------------\n",
      "Epoch 103, batch 3199:\n",
      "Average original gradient norm: 0.3801429856568575 (over last 1600 batches)\n",
      "Average clipped gradient norm: 0.3800447253882885 (over last 1600 batches)\n",
      "Running average global loss: 1.8912962625175715 (over last 1600 batches)\n",
      "Running average activity prediction loss: 1.4702306199073791 (Cross Entropy over last 1600 batches)\n",
      "Running average (complete) remaining runtime prediction loss: 0.42106563940644265 (MAE over last 1600 batches)\n",
      "------------------------------------------------------------\n"
     ]
    },
    {
     "name": "stderr",
     "output_type": "stream",
     "text": [
      "Batch calculation at epoch 103.: 4798it [02:11, 36.54it/s]\n"
     ]
    },
    {
     "name": "stdout",
     "output_type": "stream",
     "text": [
      "=======================================\n",
      "End of epoch 103\n",
      "=======================================\n",
      "Running average global loss: 1.8934246595948934 (over last 1600 batches)\n",
      "Running average activity prediction loss: 1.4699508840590716 (Cross Entropy over last 1600 batches)\n",
      "Running average (complete) remaining runtime prediction loss: 0.42347377581521867 (MAE over last 1600 batches)\n"
     ]
    },
    {
     "name": "stderr",
     "output_type": "stream",
     "text": [
      "Validation batch calculation: 72it [09:19,  7.77s/it]\n"
     ]
    },
    {
     "name": "stdout",
     "output_type": "stream",
     "text": [
      "Avg 1-(normalized) DL distance acitivty suffix prediction validation set: 0.3075442314147949\n",
      "Percentage of suffixes predicted to END: too early - 0.02109940817900708 ; right moment - 0.1033741305282702 ; too late - 0.8755264612927227\n",
      "Too early instances - avg amount of events too early: 8.838887214660645\n",
      "Too late instances - avg amount of events too late: 43.581520080566406\n",
      "Avg absolute amount of events predicted too early / too late: 38.34326934814453\n",
      "Avg MAE TTNE prediction validation set: 1047.2085286458334 (minutes)'\n",
      "Avg MAE RRT prediction validation set: 0.49562186002731323 (standardized) ; 8321.778125 (minutes)'\n",
      "Avg validation loss: 1.9315170049667358\n",
      " \n",
      "------------------------------------\n",
      "EPOCH 104:\n",
      "____________________________________\n"
     ]
    },
    {
     "name": "stderr",
     "output_type": "stream",
     "text": [
      "Batch calculation at epoch 104.: 1611it [00:32, 75.66it/s]"
     ]
    },
    {
     "name": "stdout",
     "output_type": "stream",
     "text": [
      "------------------------------------------------------------\n",
      "Epoch 104, batch 1599:\n",
      "Average original gradient norm: 0.3838255077321082 (over last 1600 batches)\n",
      "Average clipped gradient norm: 0.3815457673836499 (over last 1600 batches)\n",
      "Running average global loss: 1.895208348184824 (over last 1600 batches)\n",
      "Running average activity prediction loss: 1.4702030040323735 (Cross Entropy over last 1600 batches)\n",
      "Running average (complete) remaining runtime prediction loss: 0.42500534364953635 (MAE over last 1600 batches)\n",
      "------------------------------------------------------------\n"
     ]
    },
    {
     "name": "stderr",
     "output_type": "stream",
     "text": [
      "Batch calculation at epoch 104.: 3209it [00:58, 55.00it/s]"
     ]
    },
    {
     "name": "stdout",
     "output_type": "stream",
     "text": [
      "------------------------------------------------------------\n",
      "Epoch 104, batch 3199:\n",
      "Average original gradient norm: 0.38069612946361303 (over last 1600 batches)\n",
      "Average clipped gradient norm: 0.37778757337480784 (over last 1600 batches)\n",
      "Running average global loss: 1.8894335393607617 (over last 1600 batches)\n",
      "Running average activity prediction loss: 1.469001472070813 (Cross Entropy over last 1600 batches)\n",
      "Running average (complete) remaining runtime prediction loss: 0.42043206552043555 (MAE over last 1600 batches)\n",
      "------------------------------------------------------------\n"
     ]
    },
    {
     "name": "stderr",
     "output_type": "stream",
     "text": [
      "Batch calculation at epoch 104.: 4798it [01:30, 52.77it/s]\n"
     ]
    },
    {
     "name": "stdout",
     "output_type": "stream",
     "text": [
      "=======================================\n",
      "End of epoch 104\n",
      "=======================================\n",
      "Running average global loss: 1.8937897570431232 (over last 1600 batches)\n",
      "Running average activity prediction loss: 1.4708979697525502 (Cross Entropy over last 1600 batches)\n",
      "Running average (complete) remaining runtime prediction loss: 0.42289178658276794 (MAE over last 1600 batches)\n"
     ]
    },
    {
     "name": "stderr",
     "output_type": "stream",
     "text": [
      "Validation batch calculation: 72it [08:21,  6.96s/it]\n"
     ]
    },
    {
     "name": "stdout",
     "output_type": "stream",
     "text": [
      "Avg 1-(normalized) DL distance acitivty suffix prediction validation set: 0.30734145641326904\n",
      "Percentage of suffixes predicted to END: too early - 0.021795668170679263 ; right moment - 0.10334000013652157 ; too late - 0.8748643316927992\n",
      "Too early instances - avg amount of events too early: 9.041340827941895\n",
      "Too late instances - avg amount of events too late: 43.240699768066406\n",
      "Avg absolute amount of events predicted too early / too late: 38.02680587768555\n",
      "Avg MAE TTNE prediction validation set: 1049.305078125 (minutes)'\n",
      "Avg MAE RRT prediction validation set: 0.4965401291847229 (standardized) ; 8328.4390625 (minutes)'\n",
      "Avg validation loss: 1.9282153844833374\n",
      " \n",
      "------------------------------------\n",
      "EPOCH 105:\n",
      "____________________________________\n"
     ]
    },
    {
     "name": "stderr",
     "output_type": "stream",
     "text": [
      "Batch calculation at epoch 105.: 1608it [00:29, 47.80it/s]"
     ]
    },
    {
     "name": "stdout",
     "output_type": "stream",
     "text": [
      "------------------------------------------------------------\n",
      "Epoch 105, batch 1599:\n",
      "Average original gradient norm: 0.3933863158989698 (over last 1600 batches)\n",
      "Average clipped gradient norm: 0.38599357624538244 (over last 1600 batches)\n",
      "Running average global loss: 1.8912764806300402 (over last 1600 batches)\n",
      "Running average activity prediction loss: 1.469003829434514 (Cross Entropy over last 1600 batches)\n",
      "Running average (complete) remaining runtime prediction loss: 0.42227265091612937 (MAE over last 1600 batches)\n",
      "------------------------------------------------------------\n"
     ]
    },
    {
     "name": "stderr",
     "output_type": "stream",
     "text": [
      "Batch calculation at epoch 105.: 3204it [01:07, 48.90it/s]"
     ]
    },
    {
     "name": "stdout",
     "output_type": "stream",
     "text": [
      "------------------------------------------------------------\n",
      "Epoch 105, batch 3199:\n",
      "Average original gradient norm: 0.3824806243833154 (over last 1600 batches)\n",
      "Average clipped gradient norm: 0.3824806243833154 (over last 1600 batches)\n",
      "Running average global loss: 1.8934999373555184 (over last 1600 batches)\n",
      "Running average activity prediction loss: 1.4714068596065044 (Cross Entropy over last 1600 batches)\n",
      "Running average (complete) remaining runtime prediction loss: 0.4220930770039558 (MAE over last 1600 batches)\n",
      "------------------------------------------------------------\n"
     ]
    },
    {
     "name": "stderr",
     "output_type": "stream",
     "text": [
      "Batch calculation at epoch 105.: 4798it [01:47, 44.64it/s]\n"
     ]
    },
    {
     "name": "stdout",
     "output_type": "stream",
     "text": [
      "=======================================\n",
      "End of epoch 105\n",
      "=======================================\n",
      "Running average global loss: 1.8935369071364403 (over last 1600 batches)\n",
      "Running average activity prediction loss: 1.4696315701305867 (Cross Entropy over last 1600 batches)\n",
      "Running average (complete) remaining runtime prediction loss: 0.4239053362235427 (MAE over last 1600 batches)\n"
     ]
    },
    {
     "name": "stderr",
     "output_type": "stream",
     "text": [
      "Validation batch calculation: 72it [08:15,  6.88s/it]\n"
     ]
    },
    {
     "name": "stdout",
     "output_type": "stream",
     "text": [
      "Avg 1-(normalized) DL distance acitivty suffix prediction validation set: 0.3086082935333252\n",
      "Percentage of suffixes predicted to END: too early - 0.023816187362198545 ; right moment - 0.10444582482917739 ; too late - 0.8717379878086241\n",
      "Too early instances - avg amount of events too early: 9.129262924194336\n",
      "Too late instances - avg amount of events too late: 43.70514678955078\n",
      "Avg absolute amount of events predicted too early / too late: 38.31686019897461\n",
      "Avg MAE TTNE prediction validation set: 1043.0016276041667 (minutes)'\n",
      "Avg MAE RRT prediction validation set: 0.49567925930023193 (standardized) ; 8322.185416666667 (minutes)'\n",
      "Avg validation loss: 1.9283745288848877\n",
      " \n",
      "------------------------------------\n",
      "EPOCH 106:\n",
      "____________________________________\n"
     ]
    },
    {
     "name": "stderr",
     "output_type": "stream",
     "text": [
      "Batch calculation at epoch 106.: 1609it [00:47, 42.73it/s]"
     ]
    },
    {
     "name": "stdout",
     "output_type": "stream",
     "text": [
      "------------------------------------------------------------\n",
      "Epoch 106, batch 1599:\n",
      "Average original gradient norm: 0.3891681858897209 (over last 1600 batches)\n",
      "Average clipped gradient norm: 0.3861386827379465 (over last 1600 batches)\n",
      "Running average global loss: 1.8938085925579071 (over last 1600 batches)\n",
      "Running average activity prediction loss: 1.4699112018942833 (Cross Entropy over last 1600 batches)\n",
      "Running average (complete) remaining runtime prediction loss: 0.42389739146456124 (MAE over last 1600 batches)\n",
      "------------------------------------------------------------\n"
     ]
    },
    {
     "name": "stderr",
     "output_type": "stream",
     "text": [
      "Batch calculation at epoch 106.: 3210it [01:18, 46.74it/s]"
     ]
    },
    {
     "name": "stdout",
     "output_type": "stream",
     "text": [
      "------------------------------------------------------------\n",
      "Epoch 106, batch 3199:\n",
      "Average original gradient norm: 0.391202011955902 (over last 1600 batches)\n",
      "Average clipped gradient norm: 0.3832254529278725 (over last 1600 batches)\n",
      "Running average global loss: 1.894295546784997 (over last 1600 batches)\n",
      "Running average activity prediction loss: 1.471442844197154 (Cross Entropy over last 1600 batches)\n",
      "Running average (complete) remaining runtime prediction loss: 0.4228527025692165 (MAE over last 1600 batches)\n",
      "------------------------------------------------------------\n"
     ]
    },
    {
     "name": "stderr",
     "output_type": "stream",
     "text": [
      "Batch calculation at epoch 106.: 4798it [01:56, 41.26it/s]\n"
     ]
    },
    {
     "name": "stdout",
     "output_type": "stream",
     "text": [
      "=======================================\n",
      "End of epoch 106\n",
      "=======================================\n",
      "Running average global loss: 1.889587071314454 (over last 1600 batches)\n",
      "Running average activity prediction loss: 1.4683372037112712 (Cross Entropy over last 1600 batches)\n",
      "Running average (complete) remaining runtime prediction loss: 0.4212498691678047 (MAE over last 1600 batches)\n"
     ]
    },
    {
     "name": "stderr",
     "output_type": "stream",
     "text": [
      "Validation batch calculation: 72it [06:54,  5.75s/it]\n"
     ]
    },
    {
     "name": "stdout",
     "output_type": "stream",
     "text": [
      "Avg 1-(normalized) DL distance acitivty suffix prediction validation set: 0.3052300810813904\n",
      "Percentage of suffixes predicted to END: too early - 0.01852597664115989 ; right moment - 0.10178365427278374 ; too late - 0.8796903690860564\n",
      "Too early instances - avg amount of events too early: 8.990788459777832\n",
      "Too late instances - avg amount of events too late: 43.79654312133789\n",
      "Avg absolute amount of events predicted too early / too late: 38.6939582824707\n",
      "Avg MAE TTNE prediction validation set: 1047.7810546875 (minutes)'\n",
      "Avg MAE RRT prediction validation set: 0.4956355690956116 (standardized) ; 8319.750520833333 (minutes)'\n",
      "Avg validation loss: 1.9334067106246948\n",
      " \n",
      "------------------------------------\n",
      "EPOCH 107:\n",
      "____________________________________\n"
     ]
    },
    {
     "name": "stderr",
     "output_type": "stream",
     "text": [
      "Batch calculation at epoch 107.: 1602it [00:48, 28.18it/s]"
     ]
    },
    {
     "name": "stdout",
     "output_type": "stream",
     "text": [
      "------------------------------------------------------------\n",
      "Epoch 107, batch 1599:\n",
      "Average original gradient norm: 0.3841484729573131 (over last 1600 batches)\n",
      "Average clipped gradient norm: 0.3841484729573131 (over last 1600 batches)\n",
      "Running average global loss: 1.8925986208021641 (over last 1600 batches)\n",
      "Running average activity prediction loss: 1.469204986989498 (Cross Entropy over last 1600 batches)\n",
      "Running average (complete) remaining runtime prediction loss: 0.4233936329372227 (MAE over last 1600 batches)\n",
      "------------------------------------------------------------\n"
     ]
    },
    {
     "name": "stderr",
     "output_type": "stream",
     "text": [
      "Batch calculation at epoch 107.: 3205it [01:40, 27.47it/s]"
     ]
    },
    {
     "name": "stdout",
     "output_type": "stream",
     "text": [
      "------------------------------------------------------------\n",
      "Epoch 107, batch 3199:\n",
      "Average original gradient norm: 0.39072942002676425 (over last 1600 batches)\n",
      "Average clipped gradient norm: 0.38955707161687314 (over last 1600 batches)\n",
      "Running average global loss: 1.8945912212133407 (over last 1600 batches)\n",
      "Running average activity prediction loss: 1.4708230686932802 (Cross Entropy over last 1600 batches)\n",
      "Running average (complete) remaining runtime prediction loss: 0.4237681532278657 (MAE over last 1600 batches)\n",
      "------------------------------------------------------------\n"
     ]
    },
    {
     "name": "stderr",
     "output_type": "stream",
     "text": [
      "Batch calculation at epoch 107.: 4798it [02:33, 31.16it/s]\n"
     ]
    },
    {
     "name": "stdout",
     "output_type": "stream",
     "text": [
      "=======================================\n",
      "End of epoch 107\n",
      "=======================================\n",
      "Running average global loss: 1.8896675574034452 (over last 1600 batches)\n",
      "Running average activity prediction loss: 1.4690354246646167 (Cross Entropy over last 1600 batches)\n",
      "Running average (complete) remaining runtime prediction loss: 0.42063213407993316 (MAE over last 1600 batches)\n"
     ]
    },
    {
     "name": "stderr",
     "output_type": "stream",
     "text": [
      "Validation batch calculation: 72it [08:19,  6.94s/it]\n"
     ]
    },
    {
     "name": "stdout",
     "output_type": "stream",
     "text": [
      "Avg 1-(normalized) DL distance acitivty suffix prediction validation set: 0.3028099536895752\n",
      "Percentage of suffixes predicted to END: too early - 0.02066253916462453 ; right moment - 0.10323760896127565 ; too late - 0.8760998518740998\n",
      "Too early instances - avg amount of events too early: 8.841756820678711\n",
      "Too late instances - avg amount of events too late: 43.8721923828125\n",
      "Avg absolute amount of events predicted too early / too late: 38.619110107421875\n",
      "Avg MAE TTNE prediction validation set: 1037.7041666666667 (minutes)'\n",
      "Avg MAE RRT prediction validation set: 0.49402916431427 (standardized) ; 8295.319270833334 (minutes)'\n",
      "Avg validation loss: 1.931044340133667\n",
      " \n",
      "------------------------------------\n",
      "EPOCH 108:\n",
      "____________________________________\n"
     ]
    },
    {
     "name": "stderr",
     "output_type": "stream",
     "text": [
      "Batch calculation at epoch 108.: 1605it [00:55, 30.51it/s]"
     ]
    },
    {
     "name": "stdout",
     "output_type": "stream",
     "text": [
      "------------------------------------------------------------\n",
      "Epoch 108, batch 1599:\n",
      "Average original gradient norm: 0.38887619648128746 (over last 1600 batches)\n",
      "Average clipped gradient norm: 0.38501928981393574 (over last 1600 batches)\n",
      "Running average global loss: 1.8899928772449492 (over last 1600 batches)\n",
      "Running average activity prediction loss: 1.468868868201971 (Cross Entropy over last 1600 batches)\n",
      "Running average (complete) remaining runtime prediction loss: 0.42112400874495504 (MAE over last 1600 batches)\n",
      "------------------------------------------------------------\n"
     ]
    },
    {
     "name": "stderr",
     "output_type": "stream",
     "text": [
      "Batch calculation at epoch 108.: 3209it [01:55, 35.91it/s]"
     ]
    },
    {
     "name": "stdout",
     "output_type": "stream",
     "text": [
      "------------------------------------------------------------\n",
      "Epoch 108, batch 3199:\n",
      "Average original gradient norm: 0.3912416636385024 (over last 1600 batches)\n",
      "Average clipped gradient norm: 0.38600433873012663 (over last 1600 batches)\n",
      "Running average global loss: 1.892485674098134 (over last 1600 batches)\n",
      "Running average activity prediction loss: 1.469591359049082 (Cross Entropy over last 1600 batches)\n",
      "Running average (complete) remaining runtime prediction loss: 0.4228943178988993 (MAE over last 1600 batches)\n",
      "------------------------------------------------------------\n"
     ]
    },
    {
     "name": "stderr",
     "output_type": "stream",
     "text": [
      "Batch calculation at epoch 108.: 4798it [02:47, 28.61it/s]\n"
     ]
    },
    {
     "name": "stdout",
     "output_type": "stream",
     "text": [
      "=======================================\n",
      "End of epoch 108\n",
      "=======================================\n",
      "Running average global loss: 1.8941919194161891 (over last 1600 batches)\n",
      "Running average activity prediction loss: 1.4705119732767344 (Cross Entropy over last 1600 batches)\n",
      "Running average (complete) remaining runtime prediction loss: 0.42367994626984 (MAE over last 1600 batches)\n"
     ]
    },
    {
     "name": "stderr",
     "output_type": "stream",
     "text": [
      "Validation batch calculation: 72it [08:42,  7.26s/it]\n"
     ]
    },
    {
     "name": "stdout",
     "output_type": "stream",
     "text": [
      "Avg 1-(normalized) DL distance acitivty suffix prediction validation set: 0.3057186007499695\n",
      "Percentage of suffixes predicted to END: too early - 0.022416841300504448 ; right moment - 0.10418643385188775 ; too late - 0.8733967248476078\n",
      "Too early instances - avg amount of events too early: 8.845311164855957\n",
      "Too late instances - avg amount of events too late: 43.925228118896484\n",
      "Avg absolute amount of events predicted too early / too late: 38.562435150146484\n",
      "Avg MAE TTNE prediction validation set: 1043.0716145833333 (minutes)'\n",
      "Avg MAE RRT prediction validation set: 0.4961407482624054 (standardized) ; 8329.1671875 (minutes)'\n",
      "Avg validation loss: 1.929126262664795\n",
      " \n",
      "------------------------------------\n",
      "EPOCH 109:\n",
      "____________________________________\n"
     ]
    },
    {
     "name": "stderr",
     "output_type": "stream",
     "text": [
      "Batch calculation at epoch 109.: 1605it [00:28, 52.97it/s]"
     ]
    },
    {
     "name": "stdout",
     "output_type": "stream",
     "text": [
      "------------------------------------------------------------\n",
      "Epoch 109, batch 1599:\n",
      "Average original gradient norm: 0.3840279223956168 (over last 1600 batches)\n",
      "Average clipped gradient norm: 0.3840279223956168 (over last 1600 batches)\n",
      "Running average global loss: 1.8911149860918521 (over last 1600 batches)\n",
      "Running average activity prediction loss: 1.469284237474203 (Cross Entropy over last 1600 batches)\n",
      "Running average (complete) remaining runtime prediction loss: 0.42183074751868843 (MAE over last 1600 batches)\n",
      "------------------------------------------------------------\n"
     ]
    },
    {
     "name": "stderr",
     "output_type": "stream",
     "text": [
      "Batch calculation at epoch 109.: 3206it [00:59, 43.37it/s]"
     ]
    },
    {
     "name": "stdout",
     "output_type": "stream",
     "text": [
      "------------------------------------------------------------\n",
      "Epoch 109, batch 3199:\n",
      "Average original gradient norm: 0.38909460038878024 (over last 1600 batches)\n",
      "Average clipped gradient norm: 0.38909460038878024 (over last 1600 batches)\n",
      "Running average global loss: 1.893840175047517 (over last 1600 batches)\n",
      "Running average activity prediction loss: 1.4707702312618494 (Cross Entropy over last 1600 batches)\n",
      "Running average (complete) remaining runtime prediction loss: 0.42306994412094356 (MAE over last 1600 batches)\n",
      "------------------------------------------------------------\n"
     ]
    },
    {
     "name": "stderr",
     "output_type": "stream",
     "text": [
      "Batch calculation at epoch 109.: 4798it [01:33, 51.59it/s]\n"
     ]
    },
    {
     "name": "stdout",
     "output_type": "stream",
     "text": [
      "=======================================\n",
      "End of epoch 109\n",
      "=======================================\n",
      "Running average global loss: 1.8913701882958411 (over last 1600 batches)\n",
      "Running average activity prediction loss: 1.4688517615944148 (Cross Entropy over last 1600 batches)\n",
      "Running average (complete) remaining runtime prediction loss: 0.4225184256769717 (MAE over last 1600 batches)\n"
     ]
    },
    {
     "name": "stderr",
     "output_type": "stream",
     "text": [
      "Validation batch calculation: 72it [09:27,  7.88s/it]\n"
     ]
    },
    {
     "name": "stdout",
     "output_type": "stream",
     "text": [
      "Avg 1-(normalized) DL distance acitivty suffix prediction validation set: 0.30670928955078125\n",
      "Percentage of suffixes predicted to END: too early - 0.022881014628285904 ; right moment - 0.10426834679208448 ; too late - 0.8728506385796296\n",
      "Too early instances - avg amount of events too early: 9.25059700012207\n",
      "Too late instances - avg amount of events too late: 43.74291229248047\n",
      "Avg absolute amount of events predicted too early / too late: 38.3926887512207\n",
      "Avg MAE TTNE prediction validation set: 1042.9129557291667 (minutes)'\n",
      "Avg MAE RRT prediction validation set: 0.49515390396118164 (standardized) ; 8313.869270833333 (minutes)'\n",
      "Avg validation loss: 1.927220106124878\n",
      " \n",
      "------------------------------------\n",
      "EPOCH 110:\n",
      "____________________________________\n"
     ]
    },
    {
     "name": "stderr",
     "output_type": "stream",
     "text": [
      "Batch calculation at epoch 110.: 1609it [00:41, 45.93it/s]"
     ]
    },
    {
     "name": "stdout",
     "output_type": "stream",
     "text": [
      "------------------------------------------------------------\n",
      "Epoch 110, batch 1599:\n",
      "Average original gradient norm: 0.38970925838686526 (over last 1600 batches)\n",
      "Average clipped gradient norm: 0.38887131624855104 (over last 1600 batches)\n",
      "Running average global loss: 1.8925620639324188 (over last 1600 batches)\n",
      "Running average activity prediction loss: 1.470891271829605 (Cross Entropy over last 1600 batches)\n",
      "Running average (complete) remaining runtime prediction loss: 0.4216707914881408 (MAE over last 1600 batches)\n",
      "------------------------------------------------------------\n"
     ]
    },
    {
     "name": "stderr",
     "output_type": "stream",
     "text": [
      "Batch calculation at epoch 110.: 3208it [01:16, 54.21it/s]"
     ]
    },
    {
     "name": "stdout",
     "output_type": "stream",
     "text": [
      "------------------------------------------------------------\n",
      "Epoch 110, batch 3199:\n",
      "Average original gradient norm: 0.3921216310933232 (over last 1600 batches)\n",
      "Average clipped gradient norm: 0.3895856199041009 (over last 1600 batches)\n",
      "Running average global loss: 1.8922579932957888 (over last 1600 batches)\n",
      "Running average activity prediction loss: 1.4686564287543298 (Cross Entropy over last 1600 batches)\n",
      "Running average (complete) remaining runtime prediction loss: 0.423601564578712 (MAE over last 1600 batches)\n",
      "------------------------------------------------------------\n"
     ]
    },
    {
     "name": "stderr",
     "output_type": "stream",
     "text": [
      "Batch calculation at epoch 110.: 4798it [01:48, 44.35it/s]\n"
     ]
    },
    {
     "name": "stdout",
     "output_type": "stream",
     "text": [
      "=======================================\n",
      "End of epoch 110\n",
      "=======================================\n",
      "Running average global loss: 1.8911183287203313 (over last 1600 batches)\n",
      "Running average activity prediction loss: 1.4689978857338428 (Cross Entropy over last 1600 batches)\n",
      "Running average (complete) remaining runtime prediction loss: 0.4221204435639083 (MAE over last 1600 batches)\n"
     ]
    },
    {
     "name": "stderr",
     "output_type": "stream",
     "text": [
      "Validation batch calculation: 72it [09:33,  7.96s/it]\n"
     ]
    },
    {
     "name": "stdout",
     "output_type": "stream",
     "text": [
      "Avg 1-(normalized) DL distance acitivty suffix prediction validation set: 0.3041524887084961\n",
      "Percentage of suffixes predicted to END: too early - 0.020130105053345802 ; right moment - 0.10276660955514448 ; too late - 0.8771032853915097\n",
      "Too early instances - avg amount of events too early: 9.212953567504883\n",
      "Too late instances - avg amount of events too late: 43.79014587402344\n",
      "Avg absolute amount of events predicted too early / too late: 38.593936920166016\n",
      "Avg MAE TTNE prediction validation set: 1032.5020182291667 (minutes)'\n",
      "Avg MAE RRT prediction validation set: 0.49646586179733276 (standardized) ; 8335.9796875 (minutes)'\n",
      "Avg validation loss: 1.9278615713119507\n",
      " \n",
      "------------------------------------\n",
      "EPOCH 111:\n",
      "____________________________________\n"
     ]
    },
    {
     "name": "stderr",
     "output_type": "stream",
     "text": [
      "Batch calculation at epoch 111.: 1604it [00:43, 38.07it/s]"
     ]
    },
    {
     "name": "stdout",
     "output_type": "stream",
     "text": [
      "------------------------------------------------------------\n",
      "Epoch 111, batch 1599:\n",
      "Average original gradient norm: 0.39069123527035116 (over last 1600 batches)\n",
      "Average clipped gradient norm: 0.39062046257779004 (over last 1600 batches)\n",
      "Running average global loss: 1.887755628824234 (over last 1600 batches)\n",
      "Running average activity prediction loss: 1.4667354620993138 (Cross Entropy over last 1600 batches)\n",
      "Running average (complete) remaining runtime prediction loss: 0.4210201671533287 (MAE over last 1600 batches)\n",
      "------------------------------------------------------------\n"
     ]
    },
    {
     "name": "stderr",
     "output_type": "stream",
     "text": [
      "Batch calculation at epoch 111.: 3204it [01:27, 37.01it/s]"
     ]
    },
    {
     "name": "stdout",
     "output_type": "stream",
     "text": [
      "------------------------------------------------------------\n",
      "Epoch 111, batch 3199:\n",
      "Average original gradient norm: 0.38972875334322454 (over last 1600 batches)\n",
      "Average clipped gradient norm: 0.38934268690645696 (over last 1600 batches)\n",
      "Running average global loss: 1.8962017514556646 (over last 1600 batches)\n",
      "Running average activity prediction loss: 1.4731166554987432 (Cross Entropy over last 1600 batches)\n",
      "Running average (complete) remaining runtime prediction loss: 0.4230850968323648 (MAE over last 1600 batches)\n",
      "------------------------------------------------------------\n"
     ]
    },
    {
     "name": "stderr",
     "output_type": "stream",
     "text": [
      "Batch calculation at epoch 111.: 4798it [02:06, 37.86it/s]\n"
     ]
    },
    {
     "name": "stdout",
     "output_type": "stream",
     "text": [
      "=======================================\n",
      "End of epoch 111\n",
      "=======================================\n",
      "Running average global loss: 1.8912108834832906 (over last 1600 batches)\n",
      "Running average activity prediction loss: 1.4684596109390258 (Cross Entropy over last 1600 batches)\n",
      "Running average (complete) remaining runtime prediction loss: 0.42275127276778224 (MAE over last 1600 batches)\n"
     ]
    },
    {
     "name": "stderr",
     "output_type": "stream",
     "text": [
      "Validation batch calculation: 72it [08:02,  6.71s/it]\n"
     ]
    },
    {
     "name": "stdout",
     "output_type": "stream",
     "text": [
      "Avg 1-(normalized) DL distance acitivty suffix prediction validation set: 0.3085126280784607\n",
      "Percentage of suffixes predicted to END: too early - 0.02316770991897445 ; right moment - 0.10448678129927576 ; too late - 0.8723455087817498\n",
      "Too early instances - avg amount of events too early: 9.535061836242676\n",
      "Too late instances - avg amount of events too late: 43.82048797607422\n",
      "Avg absolute amount of events predicted too early / too late: 38.447509765625\n",
      "Avg MAE TTNE prediction validation set: 1043.8166015625 (minutes)'\n",
      "Avg MAE RRT prediction validation set: 0.49678635597229004 (standardized) ; 8341.478645833333 (minutes)'\n",
      "Avg validation loss: 1.9282753467559814\n",
      " \n",
      "------------------------------------\n",
      "EPOCH 112:\n",
      "____________________________________\n"
     ]
    },
    {
     "name": "stderr",
     "output_type": "stream",
     "text": [
      "Batch calculation at epoch 112.: 1605it [00:38, 44.20it/s]"
     ]
    },
    {
     "name": "stdout",
     "output_type": "stream",
     "text": [
      "------------------------------------------------------------\n",
      "Epoch 112, batch 1599:\n",
      "Average original gradient norm: 0.4044716321397573 (over last 1600 batches)\n",
      "Average clipped gradient norm: 0.3981946561206132 (over last 1600 batches)\n",
      "Running average global loss: 1.8916157706081866 (over last 1600 batches)\n",
      "Running average activity prediction loss: 1.468790406435728 (Cross Entropy over last 1600 batches)\n",
      "Running average (complete) remaining runtime prediction loss: 0.42282536417245864 (MAE over last 1600 batches)\n",
      "------------------------------------------------------------\n"
     ]
    },
    {
     "name": "stderr",
     "output_type": "stream",
     "text": [
      "Batch calculation at epoch 112.: 3204it [01:32, 30.37it/s]"
     ]
    },
    {
     "name": "stdout",
     "output_type": "stream",
     "text": [
      "------------------------------------------------------------\n",
      "Epoch 112, batch 3199:\n",
      "Average original gradient norm: 0.39747657280415294 (over last 1600 batches)\n",
      "Average clipped gradient norm: 0.3947830710187554 (over last 1600 batches)\n",
      "Running average global loss: 1.8904908100515605 (over last 1600 batches)\n",
      "Running average activity prediction loss: 1.4681854581087828 (Cross Entropy over last 1600 batches)\n",
      "Running average (complete) remaining runtime prediction loss: 0.4223053527809679 (MAE over last 1600 batches)\n",
      "------------------------------------------------------------\n"
     ]
    },
    {
     "name": "stderr",
     "output_type": "stream",
     "text": [
      "Batch calculation at epoch 112.: 4798it [02:13, 35.84it/s]\n"
     ]
    },
    {
     "name": "stdout",
     "output_type": "stream",
     "text": [
      "=======================================\n",
      "End of epoch 112\n",
      "=======================================\n",
      "Running average global loss: 1.8928555665910245 (over last 1600 batches)\n",
      "Running average activity prediction loss: 1.470901580899954 (Cross Entropy over last 1600 batches)\n",
      "Running average (complete) remaining runtime prediction loss: 0.4219539863802493 (MAE over last 1600 batches)\n"
     ]
    },
    {
     "name": "stderr",
     "output_type": "stream",
     "text": [
      "Validation batch calculation: 72it [09:33,  7.96s/it]\n"
     ]
    },
    {
     "name": "stdout",
     "output_type": "stream",
     "text": [
      "Avg 1-(normalized) DL distance acitivty suffix prediction validation set: 0.30406618118286133\n",
      "Percentage of suffixes predicted to END: too early - 0.018532802719509616 ; right moment - 0.10217956681706793 ; too late - 0.8792876304634225\n",
      "Too early instances - avg amount of events too early: 9.240883827209473\n",
      "Too late instances - avg amount of events too late: 43.58037567138672\n",
      "Avg absolute amount of events predicted too early / too late: 38.490943908691406\n",
      "Avg MAE TTNE prediction validation set: 1048.2110026041667 (minutes)'\n",
      "Avg MAE RRT prediction validation set: 0.49505358934402466 (standardized) ; 8312.703645833333 (minutes)'\n",
      "Avg validation loss: 1.9288076162338257\n",
      " \n",
      "------------------------------------\n",
      "EPOCH 113:\n",
      "____________________________________\n"
     ]
    },
    {
     "name": "stderr",
     "output_type": "stream",
     "text": [
      "Batch calculation at epoch 113.: 1605it [00:43, 34.55it/s]"
     ]
    },
    {
     "name": "stdout",
     "output_type": "stream",
     "text": [
      "------------------------------------------------------------\n",
      "Epoch 113, batch 1599:\n",
      "Average original gradient norm: 0.3960235718078911 (over last 1600 batches)\n",
      "Average clipped gradient norm: 0.3934486142732203 (over last 1600 batches)\n",
      "Running average global loss: 1.8914731292426585 (over last 1600 batches)\n",
      "Running average activity prediction loss: 1.469310598447919 (Cross Entropy over last 1600 batches)\n",
      "Running average (complete) remaining runtime prediction loss: 0.4221625298447907 (MAE over last 1600 batches)\n",
      "------------------------------------------------------------\n"
     ]
    },
    {
     "name": "stderr",
     "output_type": "stream",
     "text": [
      "Batch calculation at epoch 113.: 3208it [01:26, 44.08it/s]"
     ]
    },
    {
     "name": "stdout",
     "output_type": "stream",
     "text": [
      "------------------------------------------------------------\n",
      "Epoch 113, batch 3199:\n",
      "Average original gradient norm: 0.4028999406285584 (over last 1600 batches)\n",
      "Average clipped gradient norm: 0.39575365828350184 (over last 1600 batches)\n",
      "Running average global loss: 1.8924145943671464 (over last 1600 batches)\n",
      "Running average activity prediction loss: 1.470568770468235 (Cross Entropy over last 1600 batches)\n",
      "Running average (complete) remaining runtime prediction loss: 0.4218458229117095 (MAE over last 1600 batches)\n",
      "------------------------------------------------------------\n"
     ]
    },
    {
     "name": "stderr",
     "output_type": "stream",
     "text": [
      "Batch calculation at epoch 113.: 4798it [02:10, 36.71it/s]\n"
     ]
    },
    {
     "name": "stdout",
     "output_type": "stream",
     "text": [
      "=======================================\n",
      "End of epoch 113\n",
      "=======================================\n",
      "Running average global loss: 1.8913400497287511 (over last 1600 batches)\n",
      "Running average activity prediction loss: 1.4682636608183384 (Cross Entropy over last 1600 batches)\n",
      "Running average (complete) remaining runtime prediction loss: 0.42307638680562376 (MAE over last 1600 batches)\n"
     ]
    },
    {
     "name": "stderr",
     "output_type": "stream",
     "text": [
      "Validation batch calculation: 72it [07:48,  6.50s/it]\n"
     ]
    },
    {
     "name": "stdout",
     "output_type": "stream",
     "text": [
      "Avg 1-(normalized) DL distance acitivty suffix prediction validation set: 0.305048406124115\n",
      "Percentage of suffixes predicted to END: too early - 0.022116493853116446 ; right moment - 0.10426834679208448 ; too late - 0.873615159354799\n",
      "Too early instances - avg amount of events too early: 9.577777862548828\n",
      "Too late instances - avg amount of events too late: 43.602413177490234\n",
      "Avg absolute amount of events predicted too early / too late: 38.30355453491211\n",
      "Avg MAE TTNE prediction validation set: 1040.5655598958333 (minutes)'\n",
      "Avg MAE RRT prediction validation set: 0.49714526534080505 (standardized) ; 8345.2375 (minutes)'\n",
      "Avg validation loss: 1.9298958778381348\n",
      " \n",
      "------------------------------------\n",
      "EPOCH 114:\n",
      "____________________________________\n"
     ]
    },
    {
     "name": "stderr",
     "output_type": "stream",
     "text": [
      "Batch calculation at epoch 114.: 1608it [00:37, 55.76it/s]"
     ]
    },
    {
     "name": "stdout",
     "output_type": "stream",
     "text": [
      "------------------------------------------------------------\n",
      "Epoch 114, batch 1599:\n",
      "Average original gradient norm: 0.4002151244040579 (over last 1600 batches)\n",
      "Average clipped gradient norm: 0.3984658684488386 (over last 1600 batches)\n",
      "Running average global loss: 1.8926542944461107 (over last 1600 batches)\n",
      "Running average activity prediction loss: 1.4704209404438735 (Cross Entropy over last 1600 batches)\n",
      "Running average (complete) remaining runtime prediction loss: 0.42223335212096574 (MAE over last 1600 batches)\n",
      "------------------------------------------------------------\n"
     ]
    },
    {
     "name": "stderr",
     "output_type": "stream",
     "text": [
      "Batch calculation at epoch 114.: 3207it [01:17, 45.60it/s]"
     ]
    },
    {
     "name": "stdout",
     "output_type": "stream",
     "text": [
      "------------------------------------------------------------\n",
      "Epoch 114, batch 3199:\n",
      "Average original gradient norm: 0.3931341975647956 (over last 1600 batches)\n",
      "Average clipped gradient norm: 0.3926552900392562 (over last 1600 batches)\n",
      "Running average global loss: 1.8934446465224029 (over last 1600 batches)\n",
      "Running average activity prediction loss: 1.470709194689989 (Cross Entropy over last 1600 batches)\n",
      "Running average (complete) remaining runtime prediction loss: 0.4227354507893324 (MAE over last 1600 batches)\n",
      "------------------------------------------------------------\n"
     ]
    },
    {
     "name": "stderr",
     "output_type": "stream",
     "text": [
      "Batch calculation at epoch 114.: 4798it [01:56, 41.33it/s]\n"
     ]
    },
    {
     "name": "stdout",
     "output_type": "stream",
     "text": [
      "=======================================\n",
      "End of epoch 114\n",
      "=======================================\n",
      "Running average global loss: 1.888558327704668 (over last 1600 batches)\n",
      "Running average activity prediction loss: 1.466513207256794 (Cross Entropy over last 1600 batches)\n",
      "Running average (complete) remaining runtime prediction loss: 0.422045119125396 (MAE over last 1600 batches)\n"
     ]
    },
    {
     "name": "stderr",
     "output_type": "stream",
     "text": [
      "Validation batch calculation: 72it [07:24,  6.18s/it]\n"
     ]
    },
    {
     "name": "stdout",
     "output_type": "stream",
     "text": [
      "Avg 1-(normalized) DL distance acitivty suffix prediction validation set: 0.3062138557434082\n",
      "Percentage of suffixes predicted to END: too early - 0.020997017003761168 ; right moment - 0.10314204386437947 ; too late - 0.8758609391318594\n",
      "Too early instances - avg amount of events too early: 9.070871353149414\n",
      "Too late instances - avg amount of events too late: 43.67515563964844\n",
      "Avg absolute amount of events predicted too early / too late: 38.443824768066406\n",
      "Avg MAE TTNE prediction validation set: 1042.4263020833334 (minutes)'\n",
      "Avg MAE RRT prediction validation set: 0.4954395294189453 (standardized) ; 8316.2125 (minutes)'\n",
      "Avg validation loss: 1.9304898977279663\n",
      " \n",
      "------------------------------------\n",
      "EPOCH 115:\n",
      "____________________________________\n"
     ]
    },
    {
     "name": "stderr",
     "output_type": "stream",
     "text": [
      "Batch calculation at epoch 115.: 1608it [00:39, 50.53it/s]"
     ]
    },
    {
     "name": "stdout",
     "output_type": "stream",
     "text": [
      "------------------------------------------------------------\n",
      "Epoch 115, batch 1599:\n",
      "Average original gradient norm: 0.391684389654547 (over last 1600 batches)\n",
      "Average clipped gradient norm: 0.3916754388250411 (over last 1600 batches)\n",
      "Running average global loss: 1.890065876916051 (over last 1600 batches)\n",
      "Running average activity prediction loss: 1.468221675902605 (Cross Entropy over last 1600 batches)\n",
      "Running average (complete) remaining runtime prediction loss: 0.4218441998772323 (MAE over last 1600 batches)\n",
      "------------------------------------------------------------\n"
     ]
    },
    {
     "name": "stderr",
     "output_type": "stream",
     "text": [
      "Batch calculation at epoch 115.: 3205it [01:19, 29.21it/s]"
     ]
    },
    {
     "name": "stdout",
     "output_type": "stream",
     "text": [
      "------------------------------------------------------------\n",
      "Epoch 115, batch 3199:\n",
      "Average original gradient norm: 0.40091679108329115 (over last 1600 batches)\n",
      "Average clipped gradient norm: 0.3986494350153953 (over last 1600 batches)\n",
      "Running average global loss: 1.891993643194437 (over last 1600 batches)\n",
      "Running average activity prediction loss: 1.4698174560070039 (Cross Entropy over last 1600 batches)\n",
      "Running average (complete) remaining runtime prediction loss: 0.4221761875972152 (MAE over last 1600 batches)\n",
      "------------------------------------------------------------\n"
     ]
    },
    {
     "name": "stderr",
     "output_type": "stream",
     "text": [
      "Batch calculation at epoch 115.: 4798it [02:08, 37.34it/s]\n"
     ]
    },
    {
     "name": "stdout",
     "output_type": "stream",
     "text": [
      "=======================================\n",
      "End of epoch 115\n",
      "=======================================\n",
      "Running average global loss: 1.891710499227047 (over last 1600 batches)\n",
      "Running average activity prediction loss: 1.4689771050214768 (Cross Entropy over last 1600 batches)\n",
      "Running average (complete) remaining runtime prediction loss: 0.4227333945780993 (MAE over last 1600 batches)\n"
     ]
    },
    {
     "name": "stderr",
     "output_type": "stream",
     "text": [
      "Validation batch calculation: 72it [07:01,  5.85s/it]\n"
     ]
    },
    {
     "name": "stdout",
     "output_type": "stream",
     "text": [
      "Avg 1-(normalized) DL distance acitivty suffix prediction validation set: 0.3052747845649719\n",
      "Percentage of suffixes predicted to END: too early - 0.02094923445531308 ; right moment - 0.10332634797982211 ; too late - 0.8757244175648649\n",
      "Too early instances - avg amount of events too early: 9.643531799316406\n",
      "Too late instances - avg amount of events too late: 43.6904296875\n",
      "Avg absolute amount of events predicted too early / too late: 38.46280288696289\n",
      "Avg MAE TTNE prediction validation set: 1048.2018880208334 (minutes)'\n",
      "Avg MAE RRT prediction validation set: 0.4966418743133545 (standardized) ; 8338.725520833334 (minutes)'\n",
      "Avg validation loss: 1.930277705192566\n",
      " \n",
      "------------------------------------\n",
      "EPOCH 116:\n",
      "____________________________________\n"
     ]
    },
    {
     "name": "stderr",
     "output_type": "stream",
     "text": [
      "Batch calculation at epoch 116.: 1603it [00:50, 24.53it/s]"
     ]
    },
    {
     "name": "stdout",
     "output_type": "stream",
     "text": [
      "------------------------------------------------------------\n",
      "Epoch 116, batch 1599:\n",
      "Average original gradient norm: 0.41562063387595116 (over last 1600 batches)\n",
      "Average clipped gradient norm: 0.40582609510980544 (over last 1600 batches)\n",
      "Running average global loss: 1.89026068367064 (over last 1600 batches)\n",
      "Running average activity prediction loss: 1.4675815764069557 (Cross Entropy over last 1600 batches)\n",
      "Running average (complete) remaining runtime prediction loss: 0.42267910826951266 (MAE over last 1600 batches)\n",
      "------------------------------------------------------------\n"
     ]
    },
    {
     "name": "stderr",
     "output_type": "stream",
     "text": [
      "Batch calculation at epoch 116.: 3205it [01:51, 27.86it/s]"
     ]
    },
    {
     "name": "stdout",
     "output_type": "stream",
     "text": [
      "------------------------------------------------------------\n",
      "Epoch 116, batch 3199:\n",
      "Average original gradient norm: 0.40176630872301755 (over last 1600 batches)\n",
      "Average clipped gradient norm: 0.40160155857913193 (over last 1600 batches)\n",
      "Running average global loss: 1.8909168767929077 (over last 1600 batches)\n",
      "Running average activity prediction loss: 1.46911442540586 (Cross Entropy over last 1600 batches)\n",
      "Running average (complete) remaining runtime prediction loss: 0.42180245101451874 (MAE over last 1600 batches)\n",
      "------------------------------------------------------------\n"
     ]
    },
    {
     "name": "stderr",
     "output_type": "stream",
     "text": [
      "Batch calculation at epoch 116.: 4798it [02:46, 28.78it/s]\n"
     ]
    },
    {
     "name": "stdout",
     "output_type": "stream",
     "text": [
      "=======================================\n",
      "End of epoch 116\n",
      "=======================================\n",
      "Running average global loss: 1.8925579392164946 (over last 1600 batches)\n",
      "Running average activity prediction loss: 1.4702426934987307 (Cross Entropy over last 1600 batches)\n",
      "Running average (complete) remaining runtime prediction loss: 0.42231524605304005 (MAE over last 1600 batches)\n"
     ]
    },
    {
     "name": "stderr",
     "output_type": "stream",
     "text": [
      "Validation batch calculation: 72it [09:12,  7.68s/it]\n"
     ]
    },
    {
     "name": "stdout",
     "output_type": "stream",
     "text": [
      "Avg 1-(normalized) DL distance acitivty suffix prediction validation set: 0.3123294711112976\n",
      "Percentage of suffixes predicted to END: too early - 0.02564557635992546 ; right moment - 0.10565404069707912 ; too late - 0.8687003829429955\n",
      "Too early instances - avg amount of events too early: 9.55150318145752\n",
      "Too late instances - avg amount of events too late: 43.563724517822266\n",
      "Avg absolute amount of events predicted too early / too late: 38.08877944946289\n",
      "Avg MAE TTNE prediction validation set: 1036.8018880208333 (minutes)'\n",
      "Avg MAE RRT prediction validation set: 0.49623429775238037 (standardized) ; 8331.71875 (minutes)'\n",
      "Avg validation loss: 1.9236661195755005\n",
      " \n",
      "------------------------------------\n",
      "EPOCH 117:\n",
      "____________________________________\n"
     ]
    },
    {
     "name": "stderr",
     "output_type": "stream",
     "text": [
      "Batch calculation at epoch 117.: 1603it [00:36, 38.97it/s]"
     ]
    },
    {
     "name": "stdout",
     "output_type": "stream",
     "text": [
      "------------------------------------------------------------\n",
      "Epoch 117, batch 1599:\n",
      "Average original gradient norm: 0.4079885657690465 (over last 1600 batches)\n",
      "Average clipped gradient norm: 0.3982471815310419 (over last 1600 batches)\n",
      "Running average global loss: 1.890787380412221 (over last 1600 batches)\n",
      "Running average activity prediction loss: 1.4679236168414354 (Cross Entropy over last 1600 batches)\n",
      "Running average (complete) remaining runtime prediction loss: 0.42286376310512425 (MAE over last 1600 batches)\n",
      "------------------------------------------------------------\n"
     ]
    },
    {
     "name": "stderr",
     "output_type": "stream",
     "text": [
      "Batch calculation at epoch 117.: 3203it [01:17, 27.50it/s]"
     ]
    },
    {
     "name": "stdout",
     "output_type": "stream",
     "text": [
      "------------------------------------------------------------\n",
      "Epoch 117, batch 3199:\n",
      "Average original gradient norm: 0.39169833111576735 (over last 1600 batches)\n",
      "Average clipped gradient norm: 0.39169833111576735 (over last 1600 batches)\n",
      "Running average global loss: 1.8928630961477757 (over last 1600 batches)\n",
      "Running average activity prediction loss: 1.4698489294946193 (Cross Entropy over last 1600 batches)\n",
      "Running average (complete) remaining runtime prediction loss: 0.42301416512578727 (MAE over last 1600 batches)\n",
      "------------------------------------------------------------\n"
     ]
    },
    {
     "name": "stderr",
     "output_type": "stream",
     "text": [
      "Batch calculation at epoch 117.: 4798it [02:02, 39.08it/s]\n"
     ]
    },
    {
     "name": "stdout",
     "output_type": "stream",
     "text": [
      "=======================================\n",
      "End of epoch 117\n",
      "=======================================\n",
      "Running average global loss: 1.8900323106348516 (over last 1600 batches)\n",
      "Running average activity prediction loss: 1.469067559465766 (Cross Entropy over last 1600 batches)\n",
      "Running average (complete) remaining runtime prediction loss: 0.4209647506847978 (MAE over last 1600 batches)\n"
     ]
    },
    {
     "name": "stderr",
     "output_type": "stream",
     "text": [
      "Validation batch calculation: 72it [07:33,  6.30s/it]\n"
     ]
    },
    {
     "name": "stdout",
     "output_type": "stream",
     "text": [
      "Avg 1-(normalized) DL distance acitivty suffix prediction validation set: 0.30541014671325684\n",
      "Percentage of suffixes predicted to END: too early - 0.018389455074165343 ; right moment - 0.1022751319139641 ; too late - 0.8793354130118706\n",
      "Too early instances - avg amount of events too early: 8.973274230957031\n",
      "Too late instances - avg amount of events too late: 43.80889892578125\n",
      "Avg absolute amount of events predicted too early / too late: 38.68772888183594\n",
      "Avg MAE TTNE prediction validation set: 1047.2205078125 (minutes)'\n",
      "Avg MAE RRT prediction validation set: 0.49664342403411865 (standardized) ; 8338.2484375 (minutes)'\n",
      "Avg validation loss: 1.929695963859558\n",
      " \n",
      "------------------------------------\n",
      "EPOCH 118:\n",
      "____________________________________\n"
     ]
    },
    {
     "name": "stderr",
     "output_type": "stream",
     "text": [
      "Batch calculation at epoch 118.: 1608it [00:29, 60.12it/s]"
     ]
    },
    {
     "name": "stdout",
     "output_type": "stream",
     "text": [
      "------------------------------------------------------------\n",
      "Epoch 118, batch 1599:\n",
      "Average original gradient norm: 0.40336137109436093 (over last 1600 batches)\n",
      "Average clipped gradient norm: 0.39955697902478277 (over last 1600 batches)\n",
      "Running average global loss: 1.8916086250543593 (over last 1600 batches)\n",
      "Running average activity prediction loss: 1.469697685316205 (Cross Entropy over last 1600 batches)\n",
      "Running average (complete) remaining runtime prediction loss: 0.42191094156354664 (MAE over last 1600 batches)\n",
      "------------------------------------------------------------\n"
     ]
    },
    {
     "name": "stderr",
     "output_type": "stream",
     "text": [
      "Batch calculation at epoch 118.: 3206it [01:00, 52.14it/s]"
     ]
    },
    {
     "name": "stdout",
     "output_type": "stream",
     "text": [
      "------------------------------------------------------------\n",
      "Epoch 118, batch 3199:\n",
      "Average original gradient norm: 0.40801536198705435 (over last 1600 batches)\n",
      "Average clipped gradient norm: 0.4020703257247806 (over last 1600 batches)\n",
      "Running average global loss: 1.8906634693592788 (over last 1600 batches)\n",
      "Running average activity prediction loss: 1.4684452666342258 (Cross Entropy over last 1600 batches)\n",
      "Running average (complete) remaining runtime prediction loss: 0.4222182024270296 (MAE over last 1600 batches)\n",
      "------------------------------------------------------------\n"
     ]
    },
    {
     "name": "stderr",
     "output_type": "stream",
     "text": [
      "Batch calculation at epoch 118.: 4798it [01:35, 50.27it/s]\n"
     ]
    },
    {
     "name": "stdout",
     "output_type": "stream",
     "text": [
      "=======================================\n",
      "End of epoch 118\n",
      "=======================================\n",
      "Running average global loss: 1.890896285995841 (over last 1600 batches)\n",
      "Running average activity prediction loss: 1.4685555327683688 (Cross Entropy over last 1600 batches)\n",
      "Running average (complete) remaining runtime prediction loss: 0.4223407526127994 (MAE over last 1600 batches)\n"
     ]
    },
    {
     "name": "stderr",
     "output_type": "stream",
     "text": [
      "Validation batch calculation: 72it [09:37,  8.03s/it]\n"
     ]
    },
    {
     "name": "stdout",
     "output_type": "stream",
     "text": [
      "Avg 1-(normalized) DL distance acitivty suffix prediction validation set: 0.3098047971725464\n",
      "Percentage of suffixes predicted to END: too early - 0.024068752261138453 ; right moment - 0.1048485634518113 ; too late - 0.8710826842870503\n",
      "Too early instances - avg amount of events too early: 9.30913257598877\n",
      "Too late instances - avg amount of events too late: 43.75413131713867\n",
      "Avg absolute amount of events predicted too early / too late: 38.337520599365234\n",
      "Avg MAE TTNE prediction validation set: 1034.7969401041667 (minutes)'\n",
      "Avg MAE RRT prediction validation set: 0.49579310417175293 (standardized) ; 8323.821354166666 (minutes)'\n",
      "Avg validation loss: 1.9266009330749512\n",
      " \n",
      "------------------------------------\n",
      "EPOCH 119:\n",
      "____________________________________\n"
     ]
    },
    {
     "name": "stderr",
     "output_type": "stream",
     "text": [
      "Batch calculation at epoch 119.: 1606it [00:38, 56.01it/s]"
     ]
    },
    {
     "name": "stdout",
     "output_type": "stream",
     "text": [
      "------------------------------------------------------------\n",
      "Epoch 119, batch 1599:\n",
      "Average original gradient norm: 0.3966595849674195 (over last 1600 batches)\n",
      "Average clipped gradient norm: 0.3959805395733565 (over last 1600 batches)\n",
      "Running average global loss: 1.892851132005453 (over last 1600 batches)\n",
      "Running average activity prediction loss: 1.4699416402727365 (Cross Entropy over last 1600 batches)\n",
      "Running average (complete) remaining runtime prediction loss: 0.422909490801394 (MAE over last 1600 batches)\n",
      "------------------------------------------------------------\n"
     ]
    },
    {
     "name": "stderr",
     "output_type": "stream",
     "text": [
      "Batch calculation at epoch 119.: 3205it [01:18, 33.29it/s]"
     ]
    },
    {
     "name": "stdout",
     "output_type": "stream",
     "text": [
      "------------------------------------------------------------\n",
      "Epoch 119, batch 3199:\n",
      "Average original gradient norm: 0.407392336120829 (over last 1600 batches)\n",
      "Average clipped gradient norm: 0.40585222012363376 (over last 1600 batches)\n",
      "Running average global loss: 1.8915182696282864 (over last 1600 batches)\n",
      "Running average activity prediction loss: 1.4689053965359926 (Cross Entropy over last 1600 batches)\n",
      "Running average (complete) remaining runtime prediction loss: 0.4226128719188273 (MAE over last 1600 batches)\n",
      "------------------------------------------------------------\n"
     ]
    },
    {
     "name": "stderr",
     "output_type": "stream",
     "text": [
      "Batch calculation at epoch 119.: 4798it [01:59, 40.02it/s]\n"
     ]
    },
    {
     "name": "stdout",
     "output_type": "stream",
     "text": [
      "=======================================\n",
      "End of epoch 119\n",
      "=======================================\n",
      "Running average global loss: 1.888374594375491 (over last 1600 batches)\n",
      "Running average activity prediction loss: 1.4670821926742792 (Cross Entropy over last 1600 batches)\n",
      "Running average (complete) remaining runtime prediction loss: 0.42129240348935126 (MAE over last 1600 batches)\n"
     ]
    },
    {
     "name": "stderr",
     "output_type": "stream",
     "text": [
      "Validation batch calculation: 72it [08:46,  7.32s/it]\n"
     ]
    },
    {
     "name": "stdout",
     "output_type": "stream",
     "text": [
      "Avg 1-(normalized) DL distance acitivty suffix prediction validation set: 0.30803078413009644\n",
      "Percentage of suffixes predicted to END: too early - 0.022218885028362355 ; right moment - 0.1043980422807293 ; too late - 0.8733830726909083\n",
      "Too early instances - avg amount of events too early: 9.738248825073242\n",
      "Too late instances - avg amount of events too late: 43.63501739501953\n",
      "Avg absolute amount of events predicted too early / too late: 38.32645797729492\n",
      "Avg MAE TTNE prediction validation set: 1039.978515625 (minutes)'\n",
      "Avg MAE RRT prediction validation set: 0.49625205993652344 (standardized) ; 8329.1625 (minutes)'\n",
      "Avg validation loss: 1.927428126335144\n",
      " \n",
      "------------------------------------\n",
      "EPOCH 120:\n",
      "____________________________________\n"
     ]
    },
    {
     "name": "stderr",
     "output_type": "stream",
     "text": [
      "Batch calculation at epoch 120.: 1606it [00:32, 54.14it/s]"
     ]
    },
    {
     "name": "stdout",
     "output_type": "stream",
     "text": [
      "------------------------------------------------------------\n",
      "Epoch 120, batch 1599:\n",
      "Average original gradient norm: 0.39225242046639325 (over last 1600 batches)\n",
      "Average clipped gradient norm: 0.3922408286295831 (over last 1600 batches)\n",
      "Running average global loss: 1.888270360082388 (over last 1600 batches)\n",
      "Running average activity prediction loss: 1.4666064716130496 (Cross Entropy over last 1600 batches)\n",
      "Running average (complete) remaining runtime prediction loss: 0.42166388854384423 (MAE over last 1600 batches)\n",
      "------------------------------------------------------------\n"
     ]
    },
    {
     "name": "stderr",
     "output_type": "stream",
     "text": [
      "Batch calculation at epoch 120.: 3210it [01:07, 50.42it/s]"
     ]
    },
    {
     "name": "stdout",
     "output_type": "stream",
     "text": [
      "------------------------------------------------------------\n",
      "Epoch 120, batch 3199:\n",
      "Average original gradient norm: 0.3911477578151971 (over last 1600 batches)\n",
      "Average clipped gradient norm: 0.3911477578151971 (over last 1600 batches)\n",
      "Running average global loss: 1.8907417627424001 (over last 1600 batches)\n",
      "Running average activity prediction loss: 1.468872594833374 (Cross Entropy over last 1600 batches)\n",
      "Running average (complete) remaining runtime prediction loss: 0.4218691676482558 (MAE over last 1600 batches)\n",
      "------------------------------------------------------------\n"
     ]
    },
    {
     "name": "stderr",
     "output_type": "stream",
     "text": [
      "Batch calculation at epoch 120.: 4798it [01:46, 44.85it/s]\n"
     ]
    },
    {
     "name": "stdout",
     "output_type": "stream",
     "text": [
      "=======================================\n",
      "End of epoch 120\n",
      "=======================================\n",
      "Running average global loss: 1.8915990679711103 (over last 1600 batches)\n",
      "Running average activity prediction loss: 1.469083464294672 (Cross Entropy over last 1600 batches)\n",
      "Running average (complete) remaining runtime prediction loss: 0.42251560509204866 (MAE over last 1600 batches)\n"
     ]
    },
    {
     "name": "stderr",
     "output_type": "stream",
     "text": [
      "Validation batch calculation: 72it [08:15,  6.88s/it]\n"
     ]
    },
    {
     "name": "stdout",
     "output_type": "stream",
     "text": [
      "Avg 1-(normalized) DL distance acitivty suffix prediction validation set: 0.30827295780181885\n",
      "Percentage of suffixes predicted to END: too early - 0.020157409366744712 ; right moment - 0.10271882700669638 ; too late - 0.8771237636265589\n",
      "Too early instances - avg amount of events too early: 8.884862899780273\n",
      "Too late instances - avg amount of events too late: 43.29952621459961\n",
      "Avg absolute amount of events predicted too early / too late: 38.158138275146484\n",
      "Avg MAE TTNE prediction validation set: 1038.7344401041667 (minutes)'\n",
      "Avg MAE RRT prediction validation set: 0.49516531825065613 (standardized) ; 8312.335416666667 (minutes)'\n",
      "Avg validation loss: 1.928238868713379\n",
      " \n",
      "------------------------------------\n",
      "EPOCH 121:\n",
      "____________________________________\n"
     ]
    },
    {
     "name": "stderr",
     "output_type": "stream",
     "text": [
      "Batch calculation at epoch 121.: 1604it [00:36, 50.03it/s]"
     ]
    },
    {
     "name": "stdout",
     "output_type": "stream",
     "text": [
      "------------------------------------------------------------\n",
      "Epoch 121, batch 1599:\n",
      "Average original gradient norm: 0.3938245675805956 (over last 1600 batches)\n",
      "Average clipped gradient norm: 0.3936457572970539 (over last 1600 batches)\n",
      "Running average global loss: 1.8878626919537782 (over last 1600 batches)\n",
      "Running average activity prediction loss: 1.4663432589173317 (Cross Entropy over last 1600 batches)\n",
      "Running average (complete) remaining runtime prediction loss: 0.4215194337256253 (MAE over last 1600 batches)\n",
      "------------------------------------------------------------\n"
     ]
    },
    {
     "name": "stderr",
     "output_type": "stream",
     "text": [
      "Batch calculation at epoch 121.: 3205it [01:22, 26.92it/s]"
     ]
    },
    {
     "name": "stdout",
     "output_type": "stream",
     "text": [
      "------------------------------------------------------------\n",
      "Epoch 121, batch 3199:\n",
      "Average original gradient norm: 0.39863763584755363 (over last 1600 batches)\n",
      "Average clipped gradient norm: 0.3983368350472301 (over last 1600 batches)\n",
      "Running average global loss: 1.8901663302630185 (over last 1600 batches)\n",
      "Running average activity prediction loss: 1.4682048554718494 (Cross Entropy over last 1600 batches)\n",
      "Running average (complete) remaining runtime prediction loss: 0.4219614746980369 (MAE over last 1600 batches)\n",
      "------------------------------------------------------------\n"
     ]
    },
    {
     "name": "stderr",
     "output_type": "stream",
     "text": [
      "Batch calculation at epoch 121.: 4798it [02:16, 35.06it/s]\n"
     ]
    },
    {
     "name": "stdout",
     "output_type": "stream",
     "text": [
      "=======================================\n",
      "End of epoch 121\n",
      "=======================================\n",
      "Running average global loss: 1.892029412984848 (over last 1600 batches)\n",
      "Running average activity prediction loss: 1.4697916129231452 (Cross Entropy over last 1600 batches)\n",
      "Running average (complete) remaining runtime prediction loss: 0.4222377987578511 (MAE over last 1600 batches)\n"
     ]
    },
    {
     "name": "stderr",
     "output_type": "stream",
     "text": [
      "Validation batch calculation: 72it [08:22,  6.98s/it]\n"
     ]
    },
    {
     "name": "stdout",
     "output_type": "stream",
     "text": [
      "Avg 1-(normalized) DL distance acitivty suffix prediction validation set: 0.3072248697280884\n",
      "Percentage of suffixes predicted to END: too early - 0.020833191123367713 ; right moment - 0.10339460876331938 ; too late - 0.8757722001133129\n",
      "Too early instances - avg amount of events too early: 9.038335800170898\n",
      "Too late instances - avg amount of events too late: 43.58377456665039\n",
      "Avg absolute amount of events predicted too early / too late: 38.35775375366211\n",
      "Avg MAE TTNE prediction validation set: 1041.8340494791667 (minutes)'\n",
      "Avg MAE RRT prediction validation set: 0.4956494867801666 (standardized) ; 8321.25625 (minutes)'\n",
      "Avg validation loss: 1.9293789863586426\n",
      " \n",
      "------------------------------------\n",
      "EPOCH 122:\n",
      "____________________________________\n"
     ]
    },
    {
     "name": "stderr",
     "output_type": "stream",
     "text": [
      "Batch calculation at epoch 122.: 1605it [00:49, 45.39it/s]"
     ]
    },
    {
     "name": "stdout",
     "output_type": "stream",
     "text": [
      "------------------------------------------------------------\n",
      "Epoch 122, batch 1599:\n",
      "Average original gradient norm: 0.3957638470456004 (over last 1600 batches)\n",
      "Average clipped gradient norm: 0.39459961365908386 (over last 1600 batches)\n",
      "Running average global loss: 1.887296409085393 (over last 1600 batches)\n",
      "Running average activity prediction loss: 1.4667949904501438 (Cross Entropy over last 1600 batches)\n",
      "Running average (complete) remaining runtime prediction loss: 0.4205014172568917 (MAE over last 1600 batches)\n",
      "------------------------------------------------------------\n"
     ]
    },
    {
     "name": "stderr",
     "output_type": "stream",
     "text": [
      "Batch calculation at epoch 122.: 3202it [01:31, 33.00it/s]"
     ]
    },
    {
     "name": "stdout",
     "output_type": "stream",
     "text": [
      "------------------------------------------------------------\n",
      "Epoch 122, batch 3199:\n",
      "Average original gradient norm: 0.40092834145762024 (over last 1600 batches)\n",
      "Average clipped gradient norm: 0.3980045769456774 (over last 1600 batches)\n",
      "Running average global loss: 1.8905530302226543 (over last 1600 batches)\n",
      "Running average activity prediction loss: 1.4685276529937983 (Cross Entropy over last 1600 batches)\n",
      "Running average (complete) remaining runtime prediction loss: 0.422025376483798 (MAE over last 1600 batches)\n",
      "------------------------------------------------------------\n"
     ]
    },
    {
     "name": "stderr",
     "output_type": "stream",
     "text": [
      "Batch calculation at epoch 122.: 4798it [02:26, 32.75it/s]\n"
     ]
    },
    {
     "name": "stdout",
     "output_type": "stream",
     "text": [
      "=======================================\n",
      "End of epoch 122\n",
      "=======================================\n",
      "Running average global loss: 1.8918835218250751 (over last 1600 batches)\n",
      "Running average activity prediction loss: 1.4687604968249799 (Cross Entropy over last 1600 batches)\n",
      "Running average (complete) remaining runtime prediction loss: 0.4231230248697102 (MAE over last 1600 batches)\n"
     ]
    },
    {
     "name": "stderr",
     "output_type": "stream",
     "text": [
      "Validation batch calculation: 72it [08:30,  7.10s/it]\n"
     ]
    },
    {
     "name": "stdout",
     "output_type": "stream",
     "text": [
      "Avg 1-(normalized) DL distance acitivty suffix prediction validation set: 0.30520880222320557\n",
      "Percentage of suffixes predicted to END: too early - 0.01894919349884298 ; right moment - 0.10252769681290402 ; too late - 0.878523109688253\n",
      "Too early instances - avg amount of events too early: 8.959293365478516\n",
      "Too late instances - avg amount of events too late: 43.618343353271484\n",
      "Avg absolute amount of events predicted too early / too late: 38.4894905090332\n",
      "Avg MAE TTNE prediction validation set: 1043.9204427083334 (minutes)'\n",
      "Avg MAE RRT prediction validation set: 0.4968791902065277 (standardized) ; 8341.018229166666 (minutes)'\n",
      "Avg validation loss: 1.9311182498931885\n",
      " \n",
      "------------------------------------\n",
      "EPOCH 123:\n",
      "____________________________________\n"
     ]
    },
    {
     "name": "stderr",
     "output_type": "stream",
     "text": [
      "Batch calculation at epoch 123.: 1604it [00:34, 39.01it/s]"
     ]
    },
    {
     "name": "stdout",
     "output_type": "stream",
     "text": [
      "------------------------------------------------------------\n",
      "Epoch 123, batch 1599:\n",
      "Average original gradient norm: 0.3972520121559501 (over last 1600 batches)\n",
      "Average clipped gradient norm: 0.3964317363128066 (over last 1600 batches)\n",
      "Running average global loss: 1.8903888955712318 (over last 1600 batches)\n",
      "Running average activity prediction loss: 1.4680716677755117 (Cross Entropy over last 1600 batches)\n",
      "Running average (complete) remaining runtime prediction loss: 0.42231722570955754 (MAE over last 1600 batches)\n",
      "------------------------------------------------------------\n"
     ]
    },
    {
     "name": "stderr",
     "output_type": "stream",
     "text": [
      "Batch calculation at epoch 123.: 3206it [01:12, 39.74it/s]"
     ]
    },
    {
     "name": "stdout",
     "output_type": "stream",
     "text": [
      "------------------------------------------------------------\n",
      "Epoch 123, batch 3199:\n",
      "Average original gradient norm: 0.39259623096324503 (over last 1600 batches)\n",
      "Average clipped gradient norm: 0.39259623096324503 (over last 1600 batches)\n",
      "Running average global loss: 1.8918731121718884 (over last 1600 batches)\n",
      "Running average activity prediction loss: 1.4691546245664358 (Cross Entropy over last 1600 batches)\n",
      "Running average (complete) remaining runtime prediction loss: 0.4227184880338609 (MAE over last 1600 batches)\n",
      "------------------------------------------------------------\n"
     ]
    },
    {
     "name": "stderr",
     "output_type": "stream",
     "text": [
      "Batch calculation at epoch 123.: 4798it [01:42, 46.91it/s]\n"
     ]
    },
    {
     "name": "stdout",
     "output_type": "stream",
     "text": [
      "=======================================\n",
      "End of epoch 123\n",
      "=======================================\n",
      "Running average global loss: 1.8865991074591875 (over last 1600 batches)\n",
      "Running average activity prediction loss: 1.466133868470788 (Cross Entropy over last 1600 batches)\n",
      "Running average (complete) remaining runtime prediction loss: 0.42046523962169885 (MAE over last 1600 batches)\n"
     ]
    },
    {
     "name": "stderr",
     "output_type": "stream",
     "text": [
      "Validation batch calculation: 72it [09:05,  7.58s/it]\n"
     ]
    },
    {
     "name": "stdout",
     "output_type": "stream",
     "text": [
      "Avg 1-(normalized) DL distance acitivty suffix prediction validation set: 0.3048540949821472\n",
      "Percentage of suffixes predicted to END: too early - 0.02074445210482126 ; right moment - 0.10352430425196421 ; too late - 0.8757312436432145\n",
      "Too early instances - avg amount of events too early: 8.980586051940918\n",
      "Too late instances - avg amount of events too late: 43.753849029541016\n",
      "Avg absolute amount of events predicted too early / too late: 38.50291061401367\n",
      "Avg MAE TTNE prediction validation set: 1044.02578125 (minutes)'\n",
      "Avg MAE RRT prediction validation set: 0.49667301774024963 (standardized) ; 8339.813020833333 (minutes)'\n",
      "Avg validation loss: 1.9313734769821167\n",
      " \n",
      "------------------------------------\n",
      "EPOCH 124:\n",
      "____________________________________\n"
     ]
    },
    {
     "name": "stderr",
     "output_type": "stream",
     "text": [
      "Batch calculation at epoch 124.: 1606it [00:31, 53.93it/s]"
     ]
    },
    {
     "name": "stdout",
     "output_type": "stream",
     "text": [
      "------------------------------------------------------------\n",
      "Epoch 124, batch 1599:\n",
      "Average original gradient norm: 0.3979066012147814 (over last 1600 batches)\n",
      "Average clipped gradient norm: 0.3979066012147814 (over last 1600 batches)\n",
      "Running average global loss: 1.887943719625473 (over last 1600 batches)\n",
      "Running average activity prediction loss: 1.4660826136171818 (Cross Entropy over last 1600 batches)\n",
      "Running average (complete) remaining runtime prediction loss: 0.4218611055612564 (MAE over last 1600 batches)\n",
      "------------------------------------------------------------\n"
     ]
    },
    {
     "name": "stderr",
     "output_type": "stream",
     "text": [
      "Batch calculation at epoch 124.: 3203it [01:14, 26.19it/s]"
     ]
    },
    {
     "name": "stdout",
     "output_type": "stream",
     "text": [
      "------------------------------------------------------------\n",
      "Epoch 124, batch 3199:\n",
      "Average original gradient norm: 0.4055124327261001 (over last 1600 batches)\n",
      "Average clipped gradient norm: 0.4000595543254167 (over last 1600 batches)\n",
      "Running average global loss: 1.8910426031053067 (over last 1600 batches)\n",
      "Running average activity prediction loss: 1.4698188079893588 (Cross Entropy over last 1600 batches)\n",
      "Running average (complete) remaining runtime prediction loss: 0.42122379487380385 (MAE over last 1600 batches)\n",
      "------------------------------------------------------------\n"
     ]
    },
    {
     "name": "stderr",
     "output_type": "stream",
     "text": [
      "Batch calculation at epoch 124.: 4798it [02:11, 36.50it/s]\n"
     ]
    },
    {
     "name": "stdout",
     "output_type": "stream",
     "text": [
      "=======================================\n",
      "End of epoch 124\n",
      "=======================================\n",
      "Running average global loss: 1.8903322565555571 (over last 1600 batches)\n",
      "Running average activity prediction loss: 1.4679031743854285 (Cross Entropy over last 1600 batches)\n",
      "Running average (complete) remaining runtime prediction loss: 0.42242908338084817 (MAE over last 1600 batches)\n"
     ]
    },
    {
     "name": "stderr",
     "output_type": "stream",
     "text": [
      "Validation batch calculation: 72it [09:51,  8.22s/it]\n"
     ]
    },
    {
     "name": "stdout",
     "output_type": "stream",
     "text": [
      "Avg 1-(normalized) DL distance acitivty suffix prediction validation set: 0.3062993884086609\n",
      "Percentage of suffixes predicted to END: too early - 0.021536277193389627 ; right moment - 0.10388608640449976 ; too late - 0.8745776364021106\n",
      "Too early instances - avg amount of events too early: 9.385737419128418\n",
      "Too late instances - avg amount of events too late: 43.751075744628906\n",
      "Avg absolute amount of events predicted too early / too late: 38.46584701538086\n",
      "Avg MAE TTNE prediction validation set: 1047.1721354166666 (minutes)'\n",
      "Avg MAE RRT prediction validation set: 0.49795159697532654 (standardized) ; 8360.571354166666 (minutes)'\n",
      "Avg validation loss: 1.9302358627319336\n",
      " \n",
      "------------------------------------\n",
      "EPOCH 125:\n",
      "____________________________________\n"
     ]
    },
    {
     "name": "stderr",
     "output_type": "stream",
     "text": [
      "Batch calculation at epoch 125.: 1606it [00:35, 43.35it/s]"
     ]
    },
    {
     "name": "stdout",
     "output_type": "stream",
     "text": [
      "------------------------------------------------------------\n",
      "Epoch 125, batch 1599:\n",
      "Average original gradient norm: 0.3970086926687509 (over last 1600 batches)\n",
      "Average clipped gradient norm: 0.3970086926687509 (over last 1600 batches)\n",
      "Running average global loss: 1.8871185966581105 (over last 1600 batches)\n",
      "Running average activity prediction loss: 1.4657513061910867 (Cross Entropy over last 1600 batches)\n",
      "Running average (complete) remaining runtime prediction loss: 0.4213672906719148 (MAE over last 1600 batches)\n",
      "------------------------------------------------------------\n"
     ]
    },
    {
     "name": "stderr",
     "output_type": "stream",
     "text": [
      "Batch calculation at epoch 125.: 3205it [01:12, 51.47it/s]"
     ]
    },
    {
     "name": "stdout",
     "output_type": "stream",
     "text": [
      "------------------------------------------------------------\n",
      "Epoch 125, batch 3199:\n",
      "Average original gradient norm: 0.4058135283738375 (over last 1600 batches)\n",
      "Average clipped gradient norm: 0.4054648016393185 (over last 1600 batches)\n",
      "Running average global loss: 1.8921413196623325 (over last 1600 batches)\n",
      "Running average activity prediction loss: 1.4697327154129745 (Cross Entropy over last 1600 batches)\n",
      "Running average (complete) remaining runtime prediction loss: 0.4224086035974324 (MAE over last 1600 batches)\n",
      "------------------------------------------------------------\n"
     ]
    },
    {
     "name": "stderr",
     "output_type": "stream",
     "text": [
      "Batch calculation at epoch 125.: 4798it [01:47, 44.83it/s]\n"
     ]
    },
    {
     "name": "stdout",
     "output_type": "stream",
     "text": [
      "=======================================\n",
      "End of epoch 125\n",
      "=======================================\n",
      "Running average global loss: 1.8893749061971903 (over last 1600 batches)\n",
      "Running average activity prediction loss: 1.4680176519602537 (Cross Entropy over last 1600 batches)\n",
      "Running average (complete) remaining runtime prediction loss: 0.42135725351050496 (MAE over last 1600 batches)\n"
     ]
    },
    {
     "name": "stderr",
     "output_type": "stream",
     "text": [
      "Validation batch calculation: 72it [07:38,  6.36s/it]\n"
     ]
    },
    {
     "name": "stdout",
     "output_type": "stream",
     "text": [
      "Avg 1-(normalized) DL distance acitivty suffix prediction validation set: 0.30841588973999023\n",
      "Percentage of suffixes predicted to END: too early - 0.020519191519280257 ; right moment - 0.10331952190147238 ; too late - 0.8761612865792474\n",
      "Too early instances - avg amount of events too early: 9.0768461227417\n",
      "Too late instances - avg amount of events too late: 43.685855865478516\n",
      "Avg absolute amount of events predicted too early / too late: 38.46210479736328\n",
      "Avg MAE TTNE prediction validation set: 1037.65390625 (minutes)'\n",
      "Avg MAE RRT prediction validation set: 0.4966224730014801 (standardized) ; 8339.020833333334 (minutes)'\n",
      "Avg validation loss: 1.9263702630996704\n",
      " \n",
      "------------------------------------\n",
      "EPOCH 126:\n",
      "____________________________________\n"
     ]
    },
    {
     "name": "stderr",
     "output_type": "stream",
     "text": [
      "Batch calculation at epoch 126.: 1605it [00:42, 48.46it/s]"
     ]
    },
    {
     "name": "stdout",
     "output_type": "stream",
     "text": [
      "------------------------------------------------------------\n",
      "Epoch 126, batch 1599:\n",
      "Average original gradient norm: 0.4002341454848647 (over last 1600 batches)\n",
      "Average clipped gradient norm: 0.39950828287750484 (over last 1600 batches)\n",
      "Running average global loss: 1.8862303683906794 (over last 1600 batches)\n",
      "Running average activity prediction loss: 1.4657814507186413 (Cross Entropy over last 1600 batches)\n",
      "Running average (complete) remaining runtime prediction loss: 0.42044891767203807 (MAE over last 1600 batches)\n",
      "------------------------------------------------------------\n"
     ]
    },
    {
     "name": "stderr",
     "output_type": "stream",
     "text": [
      "Batch calculation at epoch 126.: 3210it [01:21, 48.35it/s]"
     ]
    },
    {
     "name": "stdout",
     "output_type": "stream",
     "text": [
      "------------------------------------------------------------\n",
      "Epoch 126, batch 3199:\n",
      "Average original gradient norm: 0.4010250538308173 (over last 1600 batches)\n",
      "Average clipped gradient norm: 0.39967957806773485 (over last 1600 batches)\n",
      "Running average global loss: 1.8901592108607292 (over last 1600 batches)\n",
      "Running average activity prediction loss: 1.4681119979918003 (Cross Entropy over last 1600 batches)\n",
      "Running average (complete) remaining runtime prediction loss: 0.42204721314832566 (MAE over last 1600 batches)\n",
      "------------------------------------------------------------\n"
     ]
    },
    {
     "name": "stderr",
     "output_type": "stream",
     "text": [
      "Batch calculation at epoch 126.: 4798it [02:00, 39.78it/s]\n"
     ]
    },
    {
     "name": "stdout",
     "output_type": "stream",
     "text": [
      "=======================================\n",
      "End of epoch 126\n",
      "=======================================\n",
      "Running average global loss: 1.8920893615484238 (over last 1600 batches)\n",
      "Running average activity prediction loss: 1.4693677470833064 (Cross Entropy over last 1600 batches)\n",
      "Running average (complete) remaining runtime prediction loss: 0.42272161521017554 (MAE over last 1600 batches)\n"
     ]
    },
    {
     "name": "stderr",
     "output_type": "stream",
     "text": [
      "Validation batch calculation: 72it [07:31,  6.27s/it]\n"
     ]
    },
    {
     "name": "stdout",
     "output_type": "stream",
     "text": [
      "Avg 1-(normalized) DL distance acitivty suffix prediction validation set: 0.30777186155319214\n",
      "Percentage of suffixes predicted to END: too early - 0.022266667576810447 ; right moment - 0.10402260797149429 ; too late - 0.8737107244516953\n",
      "Too early instances - avg amount of events too early: 9.241569519042969\n",
      "Too late instances - avg amount of events too late: 43.44002151489258\n",
      "Avg absolute amount of events predicted too early / too late: 38.1597900390625\n",
      "Avg MAE TTNE prediction validation set: 1041.9044921875 (minutes)'\n",
      "Avg MAE RRT prediction validation set: 0.496550053358078 (standardized) ; 8332.95 (minutes)'\n",
      "Avg validation loss: 1.9291170835494995\n",
      " \n",
      "------------------------------------\n",
      "EPOCH 127:\n",
      "____________________________________\n"
     ]
    },
    {
     "name": "stderr",
     "output_type": "stream",
     "text": [
      "Batch calculation at epoch 127.: 1603it [00:40, 39.59it/s]"
     ]
    },
    {
     "name": "stdout",
     "output_type": "stream",
     "text": [
      "------------------------------------------------------------\n",
      "Epoch 127, batch 1599:\n",
      "Average original gradient norm: 0.3975902310013771 (over last 1600 batches)\n",
      "Average clipped gradient norm: 0.39723446786403654 (over last 1600 batches)\n",
      "Running average global loss: 1.8866746163368224 (over last 1600 batches)\n",
      "Running average activity prediction loss: 1.4657993595302106 (Cross Entropy over last 1600 batches)\n",
      "Running average (complete) remaining runtime prediction loss: 0.42087525621056554 (MAE over last 1600 batches)\n",
      "------------------------------------------------------------\n"
     ]
    },
    {
     "name": "stderr",
     "output_type": "stream",
     "text": [
      "Batch calculation at epoch 127.: 3210it [01:17, 48.20it/s]"
     ]
    },
    {
     "name": "stdout",
     "output_type": "stream",
     "text": [
      "------------------------------------------------------------\n",
      "Epoch 127, batch 3199:\n",
      "Average original gradient norm: 0.40223474827595057 (over last 1600 batches)\n",
      "Average clipped gradient norm: 0.40172351454384625 (over last 1600 batches)\n",
      "Running average global loss: 1.8908880117535591 (over last 1600 batches)\n",
      "Running average activity prediction loss: 1.4684290086477996 (Cross Entropy over last 1600 batches)\n",
      "Running average (complete) remaining runtime prediction loss: 0.4224590016156435 (MAE over last 1600 batches)\n",
      "------------------------------------------------------------\n"
     ]
    },
    {
     "name": "stderr",
     "output_type": "stream",
     "text": [
      "Batch calculation at epoch 127.: 4798it [01:59, 40.02it/s]\n"
     ]
    },
    {
     "name": "stdout",
     "output_type": "stream",
     "text": [
      "=======================================\n",
      "End of epoch 127\n",
      "=======================================\n",
      "Running average global loss: 1.8911668375134467 (over last 1600 batches)\n",
      "Running average activity prediction loss: 1.4691253634542227 (Cross Entropy over last 1600 batches)\n",
      "Running average (complete) remaining runtime prediction loss: 0.4220414759032428 (MAE over last 1600 batches)\n"
     ]
    },
    {
     "name": "stderr",
     "output_type": "stream",
     "text": [
      "Validation batch calculation: 72it [10:23,  8.67s/it]\n"
     ]
    },
    {
     "name": "stdout",
     "output_type": "stream",
     "text": [
      "Avg 1-(normalized) DL distance acitivty suffix prediction validation set: 0.30702924728393555\n",
      "Percentage of suffixes predicted to END: too early - 0.02003453995644962 ; right moment - 0.10291678327883848 ; too late - 0.8770486767647119\n",
      "Too early instances - avg amount of events too early: 9.202726364135742\n",
      "Too late instances - avg amount of events too late: 43.859439849853516\n",
      "Avg absolute amount of events predicted too early / too late: 38.6512336730957\n",
      "Avg MAE TTNE prediction validation set: 1041.1966145833333 (minutes)'\n",
      "Avg MAE RRT prediction validation set: 0.4965890944004059 (standardized) ; 8335.178125 (minutes)'\n",
      "Avg validation loss: 1.9276002645492554\n",
      "No improvements in validation loss for 59 consecutive epochs. Final epoch: 127\n",
      "cuda\n"
     ]
    },
    {
     "name": "stderr",
     "output_type": "stream",
     "text": [
      "/media/usr/SSD/yongmin/PPM/TRAIN_EVAL_CRTP_LSTM_ND.py:56: FutureWarning: You are using `torch.load` with `weights_only=False` (the current default value), which uses the default pickle module implicitly. It is possible to construct malicious pickle data which will execute arbitrary code during unpickling (See https://github.com/pytorch/pytorch/blob/main/SECURITY.md#untrusted-models for more details). In a future release, the default value for `weights_only` will be flipped to `True`. This limits the functions that could be executed during unpickling. Arbitrary objects will no longer be allowed to be loaded via this mode unless they are explicitly allowlisted by the user via `torch.serialization.add_safe_globals`. We recommend you start setting `weights_only=True` for any use case where you don't have full control of the loaded file. Please open an issue on GitHub for any issues related to this experimental feature.\n",
      "  checkpoint = torch.load(path_to_checkpoint)\n",
      "Validation batch calculation: 150it [15:32,  6.22s/it]\n"
     ]
    },
    {
     "name": "stdout",
     "output_type": "stream",
     "text": [
      "Avg 1-(normalized) DL distance acitivty suffix prediction validation set: 0.33003515005111694\n",
      "Percentage of suffixes predicted to END: too early - 0.03483734059902673 ; right moment - 0.11042958848841702 ; too late - 0.8547330709125562\n",
      "Too early instances - avg amount of events too early: 8.372814178466797\n",
      "Too late instances - avg amount of events too late: 41.03593063354492\n",
      "Avg absolute amount of events predicted too early / too late: 35.366451263427734\n",
      "Avg MAE TTNE prediction validation set: 986.9561848958333 (minutes)'\n",
      "Avg MAE RRT prediction validation set: 0.5314725637435913 (standardized) ; 8912.590625 (minutes)'\n",
      "Avg validation loss: 1.967111349105835\n"
     ]
    }
   ],
   "source": [
    "from TRAIN_EVAL_CRTP_LSTM_ND import train_eval\n",
    "\n",
    "train_eval(log_name='BPIC_17', tss_index=5)"
   ]
  },
  {
   "cell_type": "code",
   "execution_count": null,
   "metadata": {},
   "outputs": [],
   "source": []
  }
 ],
 "metadata": {
  "kernelspec": {
   "display_name": "NDE",
   "language": "python",
   "name": "python3"
  },
  "language_info": {
   "codemirror_mode": {
    "name": "ipython",
    "version": 3
   },
   "file_extension": ".py",
   "mimetype": "text/x-python",
   "name": "python",
   "nbconvert_exporter": "python",
   "pygments_lexer": "ipython3",
   "version": "3.12.5"
  }
 },
 "nbformat": 4,
 "nbformat_minor": 2
}
