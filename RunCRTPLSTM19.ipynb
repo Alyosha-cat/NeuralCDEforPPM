{
 "cells": [
  {
   "cell_type": "code",
   "execution_count": 1,
   "metadata": {},
   "outputs": [
    {
     "name": "stdout",
     "output_type": "stream",
     "text": [
      "41\n"
     ]
    },
    {
     "name": "stderr",
     "output_type": "stream",
     "text": [
      "/media/usr/SSD/yongmin/PPM/TRAIN_EVAL_CRTP_LSTM_ND.py:165: FutureWarning: You are using `torch.load` with `weights_only=False` (the current default value), which uses the default pickle module implicitly. It is possible to construct malicious pickle data which will execute arbitrary code during unpickling (See https://github.com/pytorch/pytorch/blob/main/SECURITY.md#untrusted-models for more details). In a future release, the default value for `weights_only` will be flipped to `True`. This limits the functions that could be executed during unpickling. Arbitrary objects will no longer be allowed to be loaded via this mode unless they are explicitly allowlisted by the user via `torch.serialization.add_safe_globals`. We recommend you start setting `weights_only=True` for any use case where you don't have full control of the loaded file. Please open an issue on GitHub for any issues related to this experimental feature.\n",
      "  train_dataset = torch.load(temp_path)\n",
      "/media/usr/SSD/yongmin/PPM/TRAIN_EVAL_CRTP_LSTM_ND.py:169: FutureWarning: You are using `torch.load` with `weights_only=False` (the current default value), which uses the default pickle module implicitly. It is possible to construct malicious pickle data which will execute arbitrary code during unpickling (See https://github.com/pytorch/pytorch/blob/main/SECURITY.md#untrusted-models for more details). In a future release, the default value for `weights_only` will be flipped to `True`. This limits the functions that could be executed during unpickling. Arbitrary objects will no longer be allowed to be loaded via this mode unless they are explicitly allowlisted by the user via `torch.serialization.add_safe_globals`. We recommend you start setting `weights_only=True` for any use case where you don't have full control of the loaded file. Please open an issue on GitHub for any issues related to this experimental feature.\n",
      "  val_dataset = torch.load(temp_path)\n",
      "/media/usr/SSD/yongmin/PPM/TRAIN_EVAL_CRTP_LSTM_ND.py:173: FutureWarning: You are using `torch.load` with `weights_only=False` (the current default value), which uses the default pickle module implicitly. It is possible to construct malicious pickle data which will execute arbitrary code during unpickling (See https://github.com/pytorch/pytorch/blob/main/SECURITY.md#untrusted-models for more details). In a future release, the default value for `weights_only` will be flipped to `True`. This limits the functions that could be executed during unpickling. Arbitrary objects will no longer be allowed to be loaded via this mode unless they are explicitly allowlisted by the user via `torch.serialization.add_safe_globals`. We recommend you start setting `weights_only=True` for any use case where you don't have full control of the loaded file. Please open an issue on GitHub for any issues related to this experimental feature.\n",
      "  test_dataset = torch.load(temp_path)\n"
     ]
    },
    {
     "name": "stdout",
     "output_type": "stream",
     "text": [
      "device: cuda\n"
     ]
    },
    {
     "name": "stderr",
     "output_type": "stream",
     "text": [
      "/home/yongmin/anaconda3/envs/NDE/lib/python3.12/site-packages/torch/optim/lr_scheduler.py:60: UserWarning: The verbose parameter is deprecated. Please use get_last_lr() to access the learning rate.\n",
      "  warnings.warn(\n"
     ]
    },
    {
     "name": "stdout",
     "output_type": "stream",
     "text": [
      "Device: cuda\n",
      " \n",
      "------------------------------------\n",
      "EPOCH 0:\n",
      "____________________________________\n"
     ]
    },
    {
     "name": "stderr",
     "output_type": "stream",
     "text": [
      "Batch calculation at epoch 0.: 1603it [00:39, 31.53it/s]"
     ]
    },
    {
     "name": "stdout",
     "output_type": "stream",
     "text": [
      "------------------------------------------------------------\n",
      "Epoch 0, batch 1599:\n",
      "Average original gradient norm: 1.3116375015862287 (over last 1600 batches)\n",
      "Average clipped gradient norm: 1.2650755722261966 (over last 1600 batches)\n",
      "Running average global loss: 1.6663983061909675 (over last 1600 batches)\n",
      "Running average activity prediction loss: 1.0932863087207079 (Cross Entropy over last 1600 batches)\n",
      "Running average (complete) remaining runtime prediction loss: 0.5731119966879487 (MAE over last 1600 batches)\n",
      "------------------------------------------------------------\n"
     ]
    },
    {
     "name": "stderr",
     "output_type": "stream",
     "text": [
      "Batch calculation at epoch 0.: 3205it [01:17, 32.27it/s]"
     ]
    },
    {
     "name": "stdout",
     "output_type": "stream",
     "text": [
      "------------------------------------------------------------\n",
      "Epoch 0, batch 3199:\n",
      "Average original gradient norm: 0.9662603580206632 (over last 1600 batches)\n",
      "Average clipped gradient norm: 0.9661288064718246 (over last 1600 batches)\n",
      "Running average global loss: 1.4653330074250699 (over last 1600 batches)\n",
      "Running average activity prediction loss: 0.9407312063500285 (Cross Entropy over last 1600 batches)\n",
      "Running average (complete) remaining runtime prediction loss: 0.5246017999015749 (MAE over last 1600 batches)\n",
      "------------------------------------------------------------\n"
     ]
    },
    {
     "name": "stderr",
     "output_type": "stream",
     "text": [
      "Batch calculation at epoch 0.: 4295it [02:03, 34.89it/s]\n"
     ]
    },
    {
     "name": "stdout",
     "output_type": "stream",
     "text": [
      "=======================================\n",
      "End of epoch 0\n",
      "=======================================\n",
      "Running average global loss: 1.4362516602128743 (over last 1600 batches)\n",
      "Running average activity prediction loss: 0.9185046406090259 (Cross Entropy over last 1600 batches)\n",
      "Running average (complete) remaining runtime prediction loss: 0.5177470201067627 (MAE over last 1600 batches)\n"
     ]
    },
    {
     "name": "stderr",
     "output_type": "stream",
     "text": [
      "Validation batch calculation: 40it [00:25,  1.55it/s]\n"
     ]
    },
    {
     "name": "stdout",
     "output_type": "stream",
     "text": [
      "Avg 1-(normalized) DL distance acitivty suffix prediction validation set: 0.8365222662687302\n",
      "Percentage of suffixes predicted to END: too early - 0.2935592302104239 ; right moment - 0.6300158833741705 ; too late - 0.07642488641540564\n",
      "Too early instances - avg amount of events too early: 1.6512037515640259\n",
      "Too late instances - avg amount of events too late: 2.8980183601379395\n",
      "Avg absolute amount of events predicted too early / too late: 0.7062067985534668\n",
      "Avg MAE TTNE prediction validation set: 17900.5375 (minutes)'\n",
      "Avg MAE RRT prediction validation set: 0.6227331161499023 (standardized) ; 33978.60833333333 (minutes)'\n",
      "Avg validation loss: 1.5445761680603027\n",
      " \n",
      "------------------------------------\n",
      "EPOCH 1:\n",
      "____________________________________\n"
     ]
    },
    {
     "name": "stderr",
     "output_type": "stream",
     "text": [
      "Batch calculation at epoch 1.: 1602it [01:15, 14.93it/s]"
     ]
    },
    {
     "name": "stdout",
     "output_type": "stream",
     "text": [
      "------------------------------------------------------------\n",
      "Epoch 1, batch 1599:\n",
      "Average original gradient norm: 0.8201258974708616 (over last 1600 batches)\n",
      "Average clipped gradient norm: 0.8201258974708616 (over last 1600 batches)\n",
      "Running average global loss: 1.4255519004166126 (over last 1600 batches)\n",
      "Running average activity prediction loss: 0.9109118771925568 (Cross Entropy over last 1600 batches)\n",
      "Running average (complete) remaining runtime prediction loss: 0.5146400244347751 (MAE over last 1600 batches)\n",
      "------------------------------------------------------------\n"
     ]
    },
    {
     "name": "stderr",
     "output_type": "stream",
     "text": [
      "Batch calculation at epoch 1.: 3200it [03:02, 10.26it/s]"
     ]
    },
    {
     "name": "stdout",
     "output_type": "stream",
     "text": [
      "------------------------------------------------------------\n",
      "Epoch 1, batch 3199:\n",
      "Average original gradient norm: 0.762808128260076 (over last 1600 batches)\n",
      "Average clipped gradient norm: 0.762808128260076 (over last 1600 batches)\n",
      "Running average global loss: 1.4134614790976048 (over last 1600 batches)\n",
      "Running average activity prediction loss: 0.9037711770832538 (Cross Entropy over last 1600 batches)\n",
      "Running average (complete) remaining runtime prediction loss: 0.5096903021261096 (MAE over last 1600 batches)\n",
      "------------------------------------------------------------\n"
     ]
    },
    {
     "name": "stderr",
     "output_type": "stream",
     "text": [
      "Batch calculation at epoch 1.: 4295it [04:09, 17.21it/s]\n"
     ]
    },
    {
     "name": "stdout",
     "output_type": "stream",
     "text": [
      "=======================================\n",
      "End of epoch 1\n",
      "=======================================\n",
      "Running average global loss: 1.4102214766293764 (over last 1600 batches)\n",
      "Running average activity prediction loss: 0.9008872316777706 (Cross Entropy over last 1600 batches)\n",
      "Running average (complete) remaining runtime prediction loss: 0.5093342445977033 (MAE over last 1600 batches)\n"
     ]
    },
    {
     "name": "stderr",
     "output_type": "stream",
     "text": [
      "Validation batch calculation: 40it [00:34,  1.17it/s]\n"
     ]
    },
    {
     "name": "stdout",
     "output_type": "stream",
     "text": [
      "Avg 1-(normalized) DL distance acitivty suffix prediction validation set: 0.8398568630218506\n",
      "Percentage of suffixes predicted to END: too early - 0.29268502899639237 ; right moment - 0.6314195303938831 ; too late - 0.07589544060972457\n",
      "Too early instances - avg amount of events too early: 1.6547894477844238\n",
      "Too late instances - avg amount of events too late: 2.914503574371338\n",
      "Avg absolute amount of events predicted too early / too late: 0.7055296301841736\n",
      "Avg MAE TTNE prediction validation set: 17759.516666666666 (minutes)'\n",
      "Avg MAE RRT prediction validation set: 0.6187545657157898 (standardized) ; 33761.575 (minutes)'\n",
      "Avg validation loss: 1.5147318840026855\n",
      " \n",
      "------------------------------------\n",
      "EPOCH 2:\n",
      "____________________________________\n"
     ]
    },
    {
     "name": "stderr",
     "output_type": "stream",
     "text": [
      "Batch calculation at epoch 2.: 1603it [01:36, 20.65it/s]"
     ]
    },
    {
     "name": "stdout",
     "output_type": "stream",
     "text": [
      "------------------------------------------------------------\n",
      "Epoch 2, batch 1599:\n",
      "Average original gradient norm: 0.7007319257594645 (over last 1600 batches)\n",
      "Average clipped gradient norm: 0.7007319257594645 (over last 1600 batches)\n",
      "Running average global loss: 1.4051950027048588 (over last 1600 batches)\n",
      "Running average activity prediction loss: 0.8966230524331331 (Cross Entropy over last 1600 batches)\n",
      "Running average (complete) remaining runtime prediction loss: 0.5085719504766166 (MAE over last 1600 batches)\n",
      "------------------------------------------------------------\n"
     ]
    },
    {
     "name": "stderr",
     "output_type": "stream",
     "text": [
      "Batch calculation at epoch 2.: 3205it [02:29, 30.41it/s]"
     ]
    },
    {
     "name": "stdout",
     "output_type": "stream",
     "text": [
      "------------------------------------------------------------\n",
      "Epoch 2, batch 3199:\n",
      "Average original gradient norm: 0.6721038876473904 (over last 1600 batches)\n",
      "Average clipped gradient norm: 0.6721038876473904 (over last 1600 batches)\n",
      "Running average global loss: 1.3968030373379587 (over last 1600 batches)\n",
      "Running average activity prediction loss: 0.8923540336638689 (Cross Entropy over last 1600 batches)\n",
      "Running average (complete) remaining runtime prediction loss: 0.5044490037858487 (MAE over last 1600 batches)\n",
      "------------------------------------------------------------\n"
     ]
    },
    {
     "name": "stderr",
     "output_type": "stream",
     "text": [
      "Batch calculation at epoch 2.: 4295it [03:17, 21.73it/s]\n"
     ]
    },
    {
     "name": "stdout",
     "output_type": "stream",
     "text": [
      "=======================================\n",
      "End of epoch 2\n",
      "=======================================\n",
      "Running average global loss: 1.400538552030921 (over last 1600 batches)\n",
      "Running average activity prediction loss: 0.8951426703855395 (Cross Entropy over last 1600 batches)\n",
      "Running average (complete) remaining runtime prediction loss: 0.505395881626755 (MAE over last 1600 batches)\n"
     ]
    },
    {
     "name": "stderr",
     "output_type": "stream",
     "text": [
      "Validation batch calculation: 40it [00:33,  1.20it/s]\n"
     ]
    },
    {
     "name": "stdout",
     "output_type": "stream",
     "text": [
      "Avg 1-(normalized) DL distance acitivty suffix prediction validation set: 0.8402567803859711\n",
      "Percentage of suffixes predicted to END: too early - 0.2918723912481377 ; right moment - 0.6332171835945677 ; too late - 0.07491042515729465\n",
      "Too early instances - avg amount of events too early: 1.6376292705535889\n",
      "Too late instances - avg amount of events too late: 3.0138068199157715\n",
      "Avg absolute amount of events predicted too early / too late: 0.7037442922592163\n",
      "Avg MAE TTNE prediction validation set: 17738.835416666665 (minutes)'\n",
      "Avg MAE RRT prediction validation set: 0.6192730665206909 (standardized) ; 33794.43125 (minutes)'\n",
      "Avg validation loss: 1.5086255073547363\n",
      " \n",
      "------------------------------------\n",
      "EPOCH 3:\n",
      "____________________________________\n"
     ]
    },
    {
     "name": "stderr",
     "output_type": "stream",
     "text": [
      "Batch calculation at epoch 3.: 1603it [01:07, 26.56it/s]"
     ]
    },
    {
     "name": "stdout",
     "output_type": "stream",
     "text": [
      "------------------------------------------------------------\n",
      "Epoch 3, batch 1599:\n",
      "Average original gradient norm: 0.6312124815396964 (over last 1600 batches)\n",
      "Average clipped gradient norm: 0.6312124815396964 (over last 1600 batches)\n",
      "Running average global loss: 1.398063507154584 (over last 1600 batches)\n",
      "Running average activity prediction loss: 0.8937801406905055 (Cross Entropy over last 1600 batches)\n",
      "Running average (complete) remaining runtime prediction loss: 0.5042833679169416 (MAE over last 1600 batches)\n",
      "------------------------------------------------------------\n"
     ]
    },
    {
     "name": "stderr",
     "output_type": "stream",
     "text": [
      "Batch calculation at epoch 3.: 3204it [02:15, 20.42it/s]"
     ]
    },
    {
     "name": "stdout",
     "output_type": "stream",
     "text": [
      "------------------------------------------------------------\n",
      "Epoch 3, batch 3199:\n",
      "Average original gradient norm: 0.6163165077008307 (over last 1600 batches)\n",
      "Average clipped gradient norm: 0.6163165077008307 (over last 1600 batches)\n",
      "Running average global loss: 1.3864952706545592 (over last 1600 batches)\n",
      "Running average activity prediction loss: 0.8842863359674812 (Cross Entropy over last 1600 batches)\n",
      "Running average (complete) remaining runtime prediction loss: 0.5022089350037277 (MAE over last 1600 batches)\n",
      "------------------------------------------------------------\n"
     ]
    },
    {
     "name": "stderr",
     "output_type": "stream",
     "text": [
      "Batch calculation at epoch 3.: 4295it [03:24, 21.05it/s]\n"
     ]
    },
    {
     "name": "stdout",
     "output_type": "stream",
     "text": [
      "=======================================\n",
      "End of epoch 3\n",
      "=======================================\n",
      "Running average global loss: 1.38841765768826 (over last 1600 batches)\n",
      "Running average activity prediction loss: 0.8842059598490596 (Cross Entropy over last 1600 batches)\n",
      "Running average (complete) remaining runtime prediction loss: 0.5042116972990334 (MAE over last 1600 batches)\n"
     ]
    },
    {
     "name": "stderr",
     "output_type": "stream",
     "text": [
      "Validation batch calculation: 40it [00:27,  1.44it/s]\n"
     ]
    },
    {
     "name": "stdout",
     "output_type": "stream",
     "text": [
      "Avg 1-(normalized) DL distance acitivty suffix prediction validation set: 0.8392663151025772\n",
      "Percentage of suffixes predicted to END: too early - 0.29082581232993093 ; right moment - 0.6318751000406319 ; too late - 0.07729908762943719\n",
      "Too early instances - avg amount of events too early: 1.6518628597259521\n",
      "Too late instances - avg amount of events too late: 2.9214718341827393\n",
      "Avg absolute amount of events predicted too early / too late: 0.706231415271759\n",
      "Avg MAE TTNE prediction validation set: 17771.827083333334 (minutes)'\n",
      "Avg MAE RRT prediction validation set: 0.6209670305252075 (standardized) ; 33890.01458333333 (minutes)'\n",
      "Avg validation loss: 1.5028626918792725\n",
      " \n",
      "------------------------------------\n",
      "EPOCH 4:\n",
      "____________________________________\n"
     ]
    },
    {
     "name": "stderr",
     "output_type": "stream",
     "text": [
      "Batch calculation at epoch 4.: 1603it [01:20, 21.61it/s]"
     ]
    },
    {
     "name": "stdout",
     "output_type": "stream",
     "text": [
      "------------------------------------------------------------\n",
      "Epoch 4, batch 1599:\n",
      "Average original gradient norm: 0.5882151885516942 (over last 1600 batches)\n",
      "Average clipped gradient norm: 0.5882151885516942 (over last 1600 batches)\n",
      "Running average global loss: 1.3884427197277547 (over last 1600 batches)\n",
      "Running average activity prediction loss: 0.8866184794902802 (Cross Entropy over last 1600 batches)\n",
      "Running average (complete) remaining runtime prediction loss: 0.5018242399580777 (MAE over last 1600 batches)\n",
      "------------------------------------------------------------\n"
     ]
    },
    {
     "name": "stderr",
     "output_type": "stream",
     "text": [
      "Batch calculation at epoch 4.: 3202it [02:41, 24.83it/s]"
     ]
    },
    {
     "name": "stdout",
     "output_type": "stream",
     "text": [
      "------------------------------------------------------------\n",
      "Epoch 4, batch 3199:\n",
      "Average original gradient norm: 0.5796352577209473 (over last 1600 batches)\n",
      "Average clipped gradient norm: 0.5796352577209473 (over last 1600 batches)\n",
      "Running average global loss: 1.3847950271517038 (over last 1600 batches)\n",
      "Running average activity prediction loss: 0.8830998428910971 (Cross Entropy over last 1600 batches)\n",
      "Running average (complete) remaining runtime prediction loss: 0.5016951847262681 (MAE over last 1600 batches)\n",
      "------------------------------------------------------------\n"
     ]
    },
    {
     "name": "stderr",
     "output_type": "stream",
     "text": [
      "Batch calculation at epoch 4.: 4295it [03:40, 19.47it/s]\n"
     ]
    },
    {
     "name": "stdout",
     "output_type": "stream",
     "text": [
      "=======================================\n",
      "End of epoch 4\n",
      "=======================================\n",
      "Running average global loss: 1.3863183696940542 (over last 1600 batches)\n",
      "Running average activity prediction loss: 0.8838729089125991 (Cross Entropy over last 1600 batches)\n",
      "Running average (complete) remaining runtime prediction loss: 0.502445461358875 (MAE over last 1600 batches)\n"
     ]
    },
    {
     "name": "stderr",
     "output_type": "stream",
     "text": [
      "Validation batch calculation: 40it [00:27,  1.44it/s]\n"
     ]
    },
    {
     "name": "stdout",
     "output_type": "stream",
     "text": [
      "Avg 1-(normalized) DL distance acitivty suffix prediction validation set: 0.8403280824422836\n",
      "Percentage of suffixes predicted to END: too early - 0.2897915461048795 ; right moment - 0.632244480835293 ; too late - 0.07796397305982737\n",
      "Too early instances - avg amount of events too early: 1.6329452991485596\n",
      "Too late instances - avg amount of events too late: 2.984996795654297\n",
      "Avg absolute amount of events predicted too early / too late: 0.7059359550476074\n",
      "Avg MAE TTNE prediction validation set: 17873.347916666666 (minutes)'\n",
      "Avg MAE RRT prediction validation set: 0.6191179156303406 (standardized) ; 33785.27291666667 (minutes)'\n",
      "Avg validation loss: 1.4985419511795044\n",
      " \n",
      "------------------------------------\n",
      "EPOCH 5:\n",
      "____________________________________\n"
     ]
    },
    {
     "name": "stderr",
     "output_type": "stream",
     "text": [
      "Batch calculation at epoch 5.: 1601it [02:09, 11.91it/s]"
     ]
    },
    {
     "name": "stdout",
     "output_type": "stream",
     "text": [
      "------------------------------------------------------------\n",
      "Epoch 5, batch 1599:\n",
      "Average original gradient norm: 0.5559614220447838 (over last 1600 batches)\n",
      "Average clipped gradient norm: 0.5559614220447838 (over last 1600 batches)\n",
      "Running average global loss: 1.3836840012669562 (over last 1600 batches)\n",
      "Running average activity prediction loss: 0.882507292740047 (Cross Entropy over last 1600 batches)\n",
      "Running average (complete) remaining runtime prediction loss: 0.5011767070926726 (MAE over last 1600 batches)\n",
      "------------------------------------------------------------\n"
     ]
    },
    {
     "name": "stderr",
     "output_type": "stream",
     "text": [
      "Batch calculation at epoch 5.: 3200it [04:33,  9.34it/s]"
     ]
    },
    {
     "name": "stdout",
     "output_type": "stream",
     "text": [
      "------------------------------------------------------------\n",
      "Epoch 5, batch 3199:\n",
      "Average original gradient norm: 0.5643055199366063 (over last 1600 batches)\n",
      "Average clipped gradient norm: 0.5643055199366063 (over last 1600 batches)\n",
      "Running average global loss: 1.3755090866982937 (over last 1600 batches)\n",
      "Running average activity prediction loss: 0.8772104386612773 (Cross Entropy over last 1600 batches)\n",
      "Running average (complete) remaining runtime prediction loss: 0.49829864824190734 (MAE over last 1600 batches)\n",
      "------------------------------------------------------------\n"
     ]
    },
    {
     "name": "stderr",
     "output_type": "stream",
     "text": [
      "Batch calculation at epoch 5.: 4295it [06:02, 11.86it/s]\n"
     ]
    },
    {
     "name": "stdout",
     "output_type": "stream",
     "text": [
      "=======================================\n",
      "End of epoch 5\n",
      "=======================================\n",
      "Running average global loss: 1.3804883316904306 (over last 1600 batches)\n",
      "Running average activity prediction loss: 0.8805368860065937 (Cross Entropy over last 1600 batches)\n",
      "Running average (complete) remaining runtime prediction loss: 0.49995144544169307 (MAE over last 1600 batches)\n"
     ]
    },
    {
     "name": "stderr",
     "output_type": "stream",
     "text": [
      "Validation batch calculation: 40it [00:28,  1.41it/s]\n"
     ]
    },
    {
     "name": "stdout",
     "output_type": "stream",
     "text": [
      "Avg 1-(normalized) DL distance acitivty suffix prediction validation set: 0.840863361954689\n",
      "Percentage of suffixes predicted to END: too early - 0.29025942844478375 ; right moment - 0.6317889111885443 ; too late - 0.077951660366672\n",
      "Too early instances - avg amount of events too early: 1.63349449634552\n",
      "Too late instances - avg amount of events too late: 3.022587299346924\n",
      "Avg absolute amount of events predicted too early / too late: 0.7097528576850891\n",
      "Avg MAE TTNE prediction validation set: 17926.216666666667 (minutes)'\n",
      "Avg MAE RRT prediction validation set: 0.6138729453086853 (standardized) ; 33500.84166666667 (minutes)'\n",
      "Avg validation loss: 1.5019699335098267\n",
      " \n",
      "------------------------------------\n",
      "EPOCH 6:\n",
      "____________________________________\n"
     ]
    },
    {
     "name": "stderr",
     "output_type": "stream",
     "text": [
      "Batch calculation at epoch 6.: 1603it [01:25, 21.29it/s]"
     ]
    },
    {
     "name": "stdout",
     "output_type": "stream",
     "text": [
      "------------------------------------------------------------\n",
      "Epoch 6, batch 1599:\n",
      "Average original gradient norm: 0.5418493314087391 (over last 1600 batches)\n",
      "Average clipped gradient norm: 0.5418493314087391 (over last 1600 batches)\n",
      "Running average global loss: 1.3775050476938486 (over last 1600 batches)\n",
      "Running average activity prediction loss: 0.8789822301641107 (Cross Entropy over last 1600 batches)\n",
      "Running average (complete) remaining runtime prediction loss: 0.4985228154249489 (MAE over last 1600 batches)\n",
      "------------------------------------------------------------\n"
     ]
    },
    {
     "name": "stderr",
     "output_type": "stream",
     "text": [
      "Batch calculation at epoch 6.: 3204it [03:07, 17.80it/s]"
     ]
    },
    {
     "name": "stdout",
     "output_type": "stream",
     "text": [
      "------------------------------------------------------------\n",
      "Epoch 6, batch 3199:\n",
      "Average original gradient norm: 0.5378509362693876 (over last 1600 batches)\n",
      "Average clipped gradient norm: 0.5378509362693876 (over last 1600 batches)\n",
      "Running average global loss: 1.3773387394100427 (over last 1600 batches)\n",
      "Running average activity prediction loss: 0.8783866746723652 (Cross Entropy over last 1600 batches)\n",
      "Running average (complete) remaining runtime prediction loss: 0.4989520644024015 (MAE over last 1600 batches)\n",
      "------------------------------------------------------------\n"
     ]
    },
    {
     "name": "stderr",
     "output_type": "stream",
     "text": [
      "Batch calculation at epoch 6.: 4295it [04:05, 17.49it/s]\n"
     ]
    },
    {
     "name": "stdout",
     "output_type": "stream",
     "text": [
      "=======================================\n",
      "End of epoch 6\n",
      "=======================================\n",
      "Running average global loss: 1.3766055457293986 (over last 1600 batches)\n",
      "Running average activity prediction loss: 0.8773273755982518 (Cross Entropy over last 1600 batches)\n",
      "Running average (complete) remaining runtime prediction loss: 0.4992781704105437 (MAE over last 1600 batches)\n"
     ]
    },
    {
     "name": "stderr",
     "output_type": "stream",
     "text": [
      "Validation batch calculation: 40it [00:37,  1.08it/s]\n"
     ]
    },
    {
     "name": "stdout",
     "output_type": "stream",
     "text": [
      "Avg 1-(normalized) DL distance acitivty suffix prediction validation set: 0.8410281836986542\n",
      "Percentage of suffixes predicted to END: too early - 0.2905918711599788 ; right moment - 0.632244480835293 ; too late - 0.07716364800472808\n",
      "Too early instances - avg amount of events too early: 1.6378118991851807\n",
      "Too late instances - avg amount of events too late: 2.9336206912994385\n",
      "Avg absolute amount of events predicted too early / too late: 0.7023037075996399\n",
      "Avg MAE TTNE prediction validation set: 17808.345833333333 (minutes)'\n",
      "Avg MAE RRT prediction validation set: 0.6119750738143921 (standardized) ; 33399.48541666667 (minutes)'\n",
      "Avg validation loss: 1.4986399412155151\n",
      " \n",
      "------------------------------------\n",
      "EPOCH 7:\n",
      "____________________________________\n"
     ]
    },
    {
     "name": "stderr",
     "output_type": "stream",
     "text": [
      "Batch calculation at epoch 7.: 1601it [02:26, 16.75it/s]"
     ]
    },
    {
     "name": "stdout",
     "output_type": "stream",
     "text": [
      "------------------------------------------------------------\n",
      "Epoch 7, batch 1599:\n",
      "Average original gradient norm: 0.531440802635625 (over last 1600 batches)\n",
      "Average clipped gradient norm: 0.531440802635625 (over last 1600 batches)\n",
      "Running average global loss: 1.3732343409582972 (over last 1600 batches)\n",
      "Running average activity prediction loss: 0.8746676852181554 (Cross Entropy over last 1600 batches)\n",
      "Running average (complete) remaining runtime prediction loss: 0.4985666552744806 (MAE over last 1600 batches)\n",
      "------------------------------------------------------------\n"
     ]
    },
    {
     "name": "stderr",
     "output_type": "stream",
     "text": [
      "Batch calculation at epoch 7.: 3203it [04:17, 20.70it/s]"
     ]
    },
    {
     "name": "stdout",
     "output_type": "stream",
     "text": [
      "------------------------------------------------------------\n",
      "Epoch 7, batch 3199:\n",
      "Average original gradient norm: 0.5288092376012355 (over last 1600 batches)\n",
      "Average clipped gradient norm: 0.5288092376012355 (over last 1600 batches)\n",
      "Running average global loss: 1.3759540851414203 (over last 1600 batches)\n",
      "Running average activity prediction loss: 0.8786113810911774 (Cross Entropy over last 1600 batches)\n",
      "Running average (complete) remaining runtime prediction loss: 0.4973427054844797 (MAE over last 1600 batches)\n",
      "------------------------------------------------------------\n"
     ]
    },
    {
     "name": "stderr",
     "output_type": "stream",
     "text": [
      "Batch calculation at epoch 7.: 4295it [05:23, 13.28it/s]\n"
     ]
    },
    {
     "name": "stdout",
     "output_type": "stream",
     "text": [
      "=======================================\n",
      "End of epoch 7\n",
      "=======================================\n",
      "Running average global loss: 1.3748210272192956 (over last 1600 batches)\n",
      "Running average activity prediction loss: 0.8770502583310008 (Cross Entropy over last 1600 batches)\n",
      "Running average (complete) remaining runtime prediction loss: 0.49777077078819276 (MAE over last 1600 batches)\n"
     ]
    },
    {
     "name": "stderr",
     "output_type": "stream",
     "text": [
      "Validation batch calculation: 40it [00:30,  1.30it/s]\n"
     ]
    },
    {
     "name": "stdout",
     "output_type": "stream",
     "text": [
      "Avg 1-(normalized) DL distance acitivty suffix prediction validation set: 0.8409274369478226\n",
      "Percentage of suffixes predicted to END: too early - 0.2910351281135723 ; right moment - 0.6323922331531576 ; too late - 0.07657263873327012\n",
      "Too early instances - avg amount of events too early: 1.6362905502319336\n",
      "Too late instances - avg amount of events too late: 2.991638660430908\n",
      "Avg absolute amount of events predicted too early / too late: 0.7052956819534302\n",
      "Avg MAE TTNE prediction validation set: 17695.26875 (minutes)'\n",
      "Avg MAE RRT prediction validation set: 0.6156088709831238 (standardized) ; 33583.47708333333 (minutes)'\n",
      "Avg validation loss: 1.501859188079834\n",
      " \n",
      "------------------------------------\n",
      "EPOCH 8:\n",
      "____________________________________\n"
     ]
    },
    {
     "name": "stderr",
     "output_type": "stream",
     "text": [
      "Batch calculation at epoch 8.: 1604it [02:21, 24.18it/s]"
     ]
    },
    {
     "name": "stdout",
     "output_type": "stream",
     "text": [
      "------------------------------------------------------------\n",
      "Epoch 8, batch 1599:\n",
      "Average original gradient norm: 0.5094319848809391 (over last 1600 batches)\n",
      "Average clipped gradient norm: 0.5094319848809391 (over last 1600 batches)\n",
      "Running average global loss: 1.3695525054633617 (over last 1600 batches)\n",
      "Running average activity prediction loss: 0.8730895004794001 (Cross Entropy over last 1600 batches)\n",
      "Running average (complete) remaining runtime prediction loss: 0.49646300604566934 (MAE over last 1600 batches)\n",
      "------------------------------------------------------------\n"
     ]
    },
    {
     "name": "stderr",
     "output_type": "stream",
     "text": [
      "Batch calculation at epoch 8.: 3205it [03:38, 27.43it/s]"
     ]
    },
    {
     "name": "stdout",
     "output_type": "stream",
     "text": [
      "------------------------------------------------------------\n",
      "Epoch 8, batch 3199:\n",
      "Average original gradient norm: 0.5161849267967046 (over last 1600 batches)\n",
      "Average clipped gradient norm: 0.5161849267967046 (over last 1600 batches)\n",
      "Running average global loss: 1.3736877256631852 (over last 1600 batches)\n",
      "Running average activity prediction loss: 0.8758748874068261 (Cross Entropy over last 1600 batches)\n",
      "Running average (complete) remaining runtime prediction loss: 0.4978128383867443 (MAE over last 1600 batches)\n",
      "------------------------------------------------------------\n"
     ]
    },
    {
     "name": "stderr",
     "output_type": "stream",
     "text": [
      "Batch calculation at epoch 8.: 4295it [04:46, 14.97it/s]\n"
     ]
    },
    {
     "name": "stdout",
     "output_type": "stream",
     "text": [
      "=======================================\n",
      "End of epoch 8\n",
      "=======================================\n",
      "Running average global loss: 1.3729877939075232 (over last 1600 batches)\n",
      "Running average activity prediction loss: 0.8751776533946395 (Cross Entropy over last 1600 batches)\n",
      "Running average (complete) remaining runtime prediction loss: 0.49781014109030364 (MAE over last 1600 batches)\n"
     ]
    },
    {
     "name": "stderr",
     "output_type": "stream",
     "text": [
      "Validation batch calculation: 40it [00:28,  1.40it/s]\n"
     ]
    },
    {
     "name": "stdout",
     "output_type": "stream",
     "text": [
      "Avg 1-(normalized) DL distance acitivty suffix prediction validation set: 0.8407711684703827\n",
      "Percentage of suffixes predicted to END: too early - 0.2944580568107662 ; right moment - 0.6335988770823843 ; too late - 0.07194306610684956\n",
      "Too early instances - avg amount of events too early: 1.6381769180297852\n",
      "Too late instances - avg amount of events too late: 3.0383365154266357\n",
      "Avg absolute amount of events predicted too early / too late: 0.7009615898132324\n",
      "Avg MAE TTNE prediction validation set: 17579.170833333334 (minutes)'\n",
      "Avg MAE RRT prediction validation set: 0.6161101460456848 (standardized) ; 33612.302083333336 (minutes)'\n",
      "Avg validation loss: 1.5025944709777832\n",
      " \n",
      "------------------------------------\n",
      "EPOCH 9:\n",
      "____________________________________\n"
     ]
    },
    {
     "name": "stderr",
     "output_type": "stream",
     "text": [
      "Batch calculation at epoch 9.: 1602it [00:56, 43.32it/s]"
     ]
    },
    {
     "name": "stdout",
     "output_type": "stream",
     "text": [
      "------------------------------------------------------------\n",
      "Epoch 9, batch 1599:\n",
      "Average original gradient norm: 0.4993433823250234 (over last 1600 batches)\n",
      "Average clipped gradient norm: 0.4993433823250234 (over last 1600 batches)\n",
      "Running average global loss: 1.3692431780695915 (over last 1600 batches)\n",
      "Running average activity prediction loss: 0.8741278718039394 (Cross Entropy over last 1600 batches)\n",
      "Running average (complete) remaining runtime prediction loss: 0.4951153047569096 (MAE over last 1600 batches)\n",
      "------------------------------------------------------------\n"
     ]
    },
    {
     "name": "stderr",
     "output_type": "stream",
     "text": [
      "Batch calculation at epoch 9.: 3202it [01:47, 27.39it/s]"
     ]
    },
    {
     "name": "stdout",
     "output_type": "stream",
     "text": [
      "------------------------------------------------------------\n",
      "Epoch 9, batch 3199:\n",
      "Average original gradient norm: 0.4986939575057477 (over last 1600 batches)\n",
      "Average clipped gradient norm: 0.4986939575057477 (over last 1600 batches)\n",
      "Running average global loss: 1.367204243913293 (over last 1600 batches)\n",
      "Running average activity prediction loss: 0.8701691026985645 (Cross Entropy over last 1600 batches)\n",
      "Running average (complete) remaining runtime prediction loss: 0.49703513976186514 (MAE over last 1600 batches)\n",
      "------------------------------------------------------------\n"
     ]
    },
    {
     "name": "stderr",
     "output_type": "stream",
     "text": [
      "Batch calculation at epoch 9.: 4295it [02:16, 31.53it/s]\n"
     ]
    },
    {
     "name": "stdout",
     "output_type": "stream",
     "text": [
      "=======================================\n",
      "End of epoch 9\n",
      "=======================================\n",
      "Running average global loss: 1.372356486953795 (over last 1600 batches)\n",
      "Running average activity prediction loss: 0.8752165643498302 (Cross Entropy over last 1600 batches)\n",
      "Running average (complete) remaining runtime prediction loss: 0.4971399199962616 (MAE over last 1600 batches)\n"
     ]
    },
    {
     "name": "stderr",
     "output_type": "stream",
     "text": [
      "Validation batch calculation: 40it [00:25,  1.59it/s]\n"
     ]
    },
    {
     "name": "stdout",
     "output_type": "stream",
     "text": [
      "Avg 1-(normalized) DL distance acitivty suffix prediction validation set: 0.8411691337823868\n",
      "Percentage of suffixes predicted to END: too early - 0.2953445707179531 ; right moment - 0.6342760752059298 ; too late - 0.07037935407611706\n",
      "Too early instances - avg amount of events too early: 1.6477258205413818\n",
      "Too late instances - avg amount of events too late: 2.9662351608276367\n",
      "Avg absolute amount of events predicted too early / too late: 0.6954085826873779\n",
      "Avg MAE TTNE prediction validation set: 17600.716666666667 (minutes)'\n",
      "Avg MAE RRT prediction validation set: 0.6133223176002502 (standardized) ; 33449.35208333333 (minutes)'\n",
      "Avg validation loss: 1.4987461566925049\n",
      " \n",
      "------------------------------------\n",
      "EPOCH 10:\n",
      "____________________________________\n"
     ]
    },
    {
     "name": "stderr",
     "output_type": "stream",
     "text": [
      "Batch calculation at epoch 10.: 1607it [00:37, 50.48it/s]"
     ]
    },
    {
     "name": "stdout",
     "output_type": "stream",
     "text": [
      "------------------------------------------------------------\n",
      "Epoch 10, batch 1599:\n",
      "Average original gradient norm: 0.4924225290026516 (over last 1600 batches)\n",
      "Average clipped gradient norm: 0.4924225290026516 (over last 1600 batches)\n",
      "Running average global loss: 1.3702989687025546 (over last 1600 batches)\n",
      "Running average activity prediction loss: 0.873670091740787 (Cross Entropy over last 1600 batches)\n",
      "Running average (complete) remaining runtime prediction loss: 0.49662887616083023 (MAE over last 1600 batches)\n",
      "------------------------------------------------------------\n"
     ]
    },
    {
     "name": "stderr",
     "output_type": "stream",
     "text": [
      "Batch calculation at epoch 10.: 3204it [01:16, 29.97it/s]"
     ]
    },
    {
     "name": "stdout",
     "output_type": "stream",
     "text": [
      "------------------------------------------------------------\n",
      "Epoch 10, batch 3199:\n",
      "Average original gradient norm: 0.492464665947482 (over last 1600 batches)\n",
      "Average clipped gradient norm: 0.492464665947482 (over last 1600 batches)\n",
      "Running average global loss: 1.3668900043517351 (over last 1600 batches)\n",
      "Running average activity prediction loss: 0.8717165673524141 (Cross Entropy over last 1600 batches)\n",
      "Running average (complete) remaining runtime prediction loss: 0.4951734376512468 (MAE over last 1600 batches)\n",
      "------------------------------------------------------------\n"
     ]
    },
    {
     "name": "stderr",
     "output_type": "stream",
     "text": [
      "Batch calculation at epoch 10.: 4295it [01:54, 37.54it/s]\n"
     ]
    },
    {
     "name": "stdout",
     "output_type": "stream",
     "text": [
      "=======================================\n",
      "End of epoch 10\n",
      "=======================================\n",
      "Running average global loss: 1.3666526681929827 (over last 1600 batches)\n",
      "Running average activity prediction loss: 0.8716505294293165 (Cross Entropy over last 1600 batches)\n",
      "Running average (complete) remaining runtime prediction loss: 0.49500213775783775 (MAE over last 1600 batches)\n"
     ]
    },
    {
     "name": "stderr",
     "output_type": "stream",
     "text": [
      "Validation batch calculation: 40it [00:29,  1.34it/s]\n"
     ]
    },
    {
     "name": "stdout",
     "output_type": "stream",
     "text": [
      "Avg 1-(normalized) DL distance acitivty suffix prediction validation set: 0.8412102311849594\n",
      "Percentage of suffixes predicted to END: too early - 0.29378085868722065 ; right moment - 0.633032493197237 ; too late - 0.07318664811554232\n",
      "Too early instances - avg amount of events too early: 1.6445096731185913\n",
      "Too late instances - avg amount of events too late: 2.991419792175293\n",
      "Avg absolute amount of events predicted too early / too late: 0.702057421207428\n",
      "Avg MAE TTNE prediction validation set: 17745.5625 (minutes)'\n",
      "Avg MAE RRT prediction validation set: 0.6114611029624939 (standardized) ; 33362.94583333333 (minutes)'\n",
      "Avg validation loss: 1.496450662612915\n",
      " \n",
      "------------------------------------\n",
      "EPOCH 11:\n",
      "____________________________________\n"
     ]
    },
    {
     "name": "stderr",
     "output_type": "stream",
     "text": [
      "Batch calculation at epoch 11.: 1602it [00:54, 21.44it/s]"
     ]
    },
    {
     "name": "stdout",
     "output_type": "stream",
     "text": [
      "------------------------------------------------------------\n",
      "Epoch 11, batch 1599:\n",
      "Average original gradient norm: 0.48876457531005146 (over last 1600 batches)\n",
      "Average clipped gradient norm: 0.48876457531005146 (over last 1600 batches)\n",
      "Running average global loss: 1.3681042409688233 (over last 1600 batches)\n",
      "Running average activity prediction loss: 0.8719780999422073 (Cross Entropy over last 1600 batches)\n",
      "Running average (complete) remaining runtime prediction loss: 0.4961261408962309 (MAE over last 1600 batches)\n",
      "------------------------------------------------------------\n"
     ]
    },
    {
     "name": "stderr",
     "output_type": "stream",
     "text": [
      "Batch calculation at epoch 11.: 3205it [01:54, 50.56it/s]"
     ]
    },
    {
     "name": "stdout",
     "output_type": "stream",
     "text": [
      "------------------------------------------------------------\n",
      "Epoch 11, batch 3199:\n",
      "Average original gradient norm: 0.4781077369209379 (over last 1600 batches)\n",
      "Average clipped gradient norm: 0.4781077369209379 (over last 1600 batches)\n",
      "Running average global loss: 1.3652129346877337 (over last 1600 batches)\n",
      "Running average activity prediction loss: 0.869701516777277 (Cross Entropy over last 1600 batches)\n",
      "Running average (complete) remaining runtime prediction loss: 0.49551141874864696 (MAE over last 1600 batches)\n",
      "------------------------------------------------------------\n"
     ]
    },
    {
     "name": "stderr",
     "output_type": "stream",
     "text": [
      "Batch calculation at epoch 11.: 4295it [02:23, 30.00it/s]\n"
     ]
    },
    {
     "name": "stdout",
     "output_type": "stream",
     "text": [
      "=======================================\n",
      "End of epoch 11\n",
      "=======================================\n",
      "Running average global loss: 1.3667448494583367 (over last 1600 batches)\n",
      "Running average activity prediction loss: 0.8729636252298951 (Cross Entropy over last 1600 batches)\n",
      "Running average (complete) remaining runtime prediction loss: 0.4937812237069011 (MAE over last 1600 batches)\n"
     ]
    },
    {
     "name": "stderr",
     "output_type": "stream",
     "text": [
      "Validation batch calculation: 40it [00:25,  1.59it/s]\n"
     ]
    },
    {
     "name": "stdout",
     "output_type": "stream",
     "text": [
      "Avg 1-(normalized) DL distance acitivty suffix prediction validation set: 0.8407226502895355\n",
      "Percentage of suffixes predicted to END: too early - 0.2895083541623059 ; right moment - 0.6318012238816997 ; too late - 0.07869042195599443\n",
      "Too early instances - avg amount of events too early: 1.635095477104187\n",
      "Too late instances - avg amount of events too late: 3.0503833293914795\n",
      "Avg absolute amount of events predicted too early / too late: 0.7134097218513489\n",
      "Avg MAE TTNE prediction validation set: 17757.220833333333 (minutes)'\n",
      "Avg MAE RRT prediction validation set: 0.6114585995674133 (standardized) ; 33370.79791666667 (minutes)'\n",
      "Avg validation loss: 1.5015521049499512\n",
      " \n",
      "------------------------------------\n",
      "EPOCH 12:\n",
      "____________________________________\n"
     ]
    },
    {
     "name": "stderr",
     "output_type": "stream",
     "text": [
      "Batch calculation at epoch 12.: 1608it [00:40, 41.58it/s]"
     ]
    },
    {
     "name": "stdout",
     "output_type": "stream",
     "text": [
      "------------------------------------------------------------\n",
      "Epoch 12, batch 1599:\n",
      "Average original gradient norm: 0.47741428096778693 (over last 1600 batches)\n",
      "Average clipped gradient norm: 0.47741428096778693 (over last 1600 batches)\n",
      "Running average global loss: 1.3574588214606047 (over last 1600 batches)\n",
      "Running average activity prediction loss: 0.8653017746657133 (Cross Entropy over last 1600 batches)\n",
      "Running average (complete) remaining runtime prediction loss: 0.49215704686939715 (MAE over last 1600 batches)\n",
      "------------------------------------------------------------\n"
     ]
    },
    {
     "name": "stderr",
     "output_type": "stream",
     "text": [
      "Batch calculation at epoch 12.: 3204it [01:26, 44.80it/s]"
     ]
    },
    {
     "name": "stdout",
     "output_type": "stream",
     "text": [
      "------------------------------------------------------------\n",
      "Epoch 12, batch 3199:\n",
      "Average original gradient norm: 0.4774818757548928 (over last 1600 batches)\n",
      "Average clipped gradient norm: 0.4774818757548928 (over last 1600 batches)\n",
      "Running average global loss: 1.3686703303456307 (over last 1600 batches)\n",
      "Running average activity prediction loss: 0.8717303220182657 (Cross Entropy over last 1600 batches)\n",
      "Running average (complete) remaining runtime prediction loss: 0.49694000830873847 (MAE over last 1600 batches)\n",
      "------------------------------------------------------------\n"
     ]
    },
    {
     "name": "stderr",
     "output_type": "stream",
     "text": [
      "Batch calculation at epoch 12.: 4295it [01:52, 38.14it/s]\n"
     ]
    },
    {
     "name": "stdout",
     "output_type": "stream",
     "text": [
      "=======================================\n",
      "End of epoch 12\n",
      "=======================================\n",
      "Running average global loss: 1.3706271076202392 (over last 1600 batches)\n",
      "Running average activity prediction loss: 0.875449409969151 (Cross Entropy over last 1600 batches)\n",
      "Running average (complete) remaining runtime prediction loss: 0.4951776984333992 (MAE over last 1600 batches)\n"
     ]
    },
    {
     "name": "stderr",
     "output_type": "stream",
     "text": [
      "Validation batch calculation: 40it [00:25,  1.54it/s]\n"
     ]
    },
    {
     "name": "stdout",
     "output_type": "stream",
     "text": [
      "Avg 1-(normalized) DL distance acitivty suffix prediction validation set: 0.8417467027902603\n",
      "Percentage of suffixes predicted to END: too early - 0.29061649654628957 ; right moment - 0.6327739266409742 ; too late - 0.07660957681273625\n",
      "Too early instances - avg amount of events too early: 1.6395374536514282\n",
      "Too late instances - avg amount of events too late: 2.98891019821167\n",
      "Avg absolute amount of events predicted too early / too late: 0.7054557204246521\n",
      "Avg MAE TTNE prediction validation set: 17698.735416666666 (minutes)'\n",
      "Avg MAE RRT prediction validation set: 0.6181625127792358 (standardized) ; 33736.87708333333 (minutes)'\n",
      "Avg validation loss: 1.4985531568527222\n",
      " \n",
      "------------------------------------\n",
      "EPOCH 13:\n",
      "____________________________________\n"
     ]
    },
    {
     "name": "stderr",
     "output_type": "stream",
     "text": [
      "Batch calculation at epoch 13.: 1612it [00:34, 57.48it/s]"
     ]
    },
    {
     "name": "stdout",
     "output_type": "stream",
     "text": [
      "------------------------------------------------------------\n",
      "Epoch 13, batch 1599:\n",
      "Average original gradient norm: 0.47418363743461667 (over last 1600 batches)\n",
      "Average clipped gradient norm: 0.4741474790219218 (over last 1600 batches)\n",
      "Running average global loss: 1.3632275621220469 (over last 1600 batches)\n",
      "Running average activity prediction loss: 0.8691569745540619 (Cross Entropy over last 1600 batches)\n",
      "Running average (complete) remaining runtime prediction loss: 0.4940705870464444 (MAE over last 1600 batches)\n",
      "------------------------------------------------------------\n"
     ]
    },
    {
     "name": "stderr",
     "output_type": "stream",
     "text": [
      "Batch calculation at epoch 13.: 3202it [01:17, 23.03it/s]"
     ]
    },
    {
     "name": "stdout",
     "output_type": "stream",
     "text": [
      "------------------------------------------------------------\n",
      "Epoch 13, batch 3199:\n",
      "Average original gradient norm: 0.47338577086105943 (over last 1600 batches)\n",
      "Average clipped gradient norm: 0.47338577086105943 (over last 1600 batches)\n",
      "Running average global loss: 1.3612492556869984 (over last 1600 batches)\n",
      "Running average activity prediction loss: 0.8675068123266101 (Cross Entropy over last 1600 batches)\n",
      "Running average (complete) remaining runtime prediction loss: 0.4937424442358315 (MAE over last 1600 batches)\n",
      "------------------------------------------------------------\n"
     ]
    },
    {
     "name": "stderr",
     "output_type": "stream",
     "text": [
      "Batch calculation at epoch 13.: 4295it [02:08, 33.46it/s]\n"
     ]
    },
    {
     "name": "stdout",
     "output_type": "stream",
     "text": [
      "=======================================\n",
      "End of epoch 13\n",
      "=======================================\n",
      "Running average global loss: 1.3646812973544002 (over last 1600 batches)\n",
      "Running average activity prediction loss: 0.87065922614187 (Cross Entropy over last 1600 batches)\n",
      "Running average (complete) remaining runtime prediction loss: 0.4940220718830824 (MAE over last 1600 batches)\n"
     ]
    },
    {
     "name": "stderr",
     "output_type": "stream",
     "text": [
      "Validation batch calculation: 40it [00:24,  1.60it/s]\n"
     ]
    },
    {
     "name": "stdout",
     "output_type": "stream",
     "text": [
      "Avg 1-(normalized) DL distance acitivty suffix prediction validation set: 0.8420154303312302\n",
      "Percentage of suffixes predicted to END: too early - 0.29227871012226503 ; right moment - 0.6334264993782089 ; too late - 0.07429479049952596\n",
      "Too early instances - avg amount of events too early: 1.6468530893325806\n",
      "Too late instances - avg amount of events too late: 2.900397777557373\n",
      "Avg absolute amount of events predicted too early / too late: 0.6968245506286621\n",
      "Avg MAE TTNE prediction validation set: 17624.358333333334 (minutes)'\n",
      "Avg MAE RRT prediction validation set: 0.6145043969154358 (standardized) ; 33530.791666666664 (minutes)'\n",
      "Avg validation loss: 1.4991403818130493\n",
      " \n",
      "------------------------------------\n",
      "EPOCH 14:\n",
      "____________________________________\n"
     ]
    },
    {
     "name": "stderr",
     "output_type": "stream",
     "text": [
      "Batch calculation at epoch 14.: 1606it [00:49, 40.96it/s]"
     ]
    },
    {
     "name": "stdout",
     "output_type": "stream",
     "text": [
      "------------------------------------------------------------\n",
      "Epoch 14, batch 1599:\n",
      "Average original gradient norm: 0.4727065189462155 (over last 1600 batches)\n",
      "Average clipped gradient norm: 0.4727065189462155 (over last 1600 batches)\n",
      "Running average global loss: 1.3649061599373817 (over last 1600 batches)\n",
      "Running average activity prediction loss: 0.8701087276637555 (Cross Entropy over last 1600 batches)\n",
      "Running average (complete) remaining runtime prediction loss: 0.4947974324785173 (MAE over last 1600 batches)\n",
      "------------------------------------------------------------\n"
     ]
    },
    {
     "name": "stderr",
     "output_type": "stream",
     "text": [
      "Batch calculation at epoch 14.: 3203it [01:46, 22.31it/s]"
     ]
    },
    {
     "name": "stdout",
     "output_type": "stream",
     "text": [
      "------------------------------------------------------------\n",
      "Epoch 14, batch 3199:\n",
      "Average original gradient norm: 0.4681355684995651 (over last 1600 batches)\n",
      "Average clipped gradient norm: 0.4681355684995651 (over last 1600 batches)\n",
      "Running average global loss: 1.3589953136444093 (over last 1600 batches)\n",
      "Running average activity prediction loss: 0.8666914435103535 (Cross Entropy over last 1600 batches)\n",
      "Running average (complete) remaining runtime prediction loss: 0.49230387071147563 (MAE over last 1600 batches)\n",
      "------------------------------------------------------------\n"
     ]
    },
    {
     "name": "stderr",
     "output_type": "stream",
     "text": [
      "Batch calculation at epoch 14.: 4295it [02:41, 26.66it/s]\n"
     ]
    },
    {
     "name": "stdout",
     "output_type": "stream",
     "text": [
      "=======================================\n",
      "End of epoch 14\n",
      "=======================================\n",
      "Running average global loss: 1.358122554048896 (over last 1600 batches)\n",
      "Running average activity prediction loss: 0.8656942451745272 (Cross Entropy over last 1600 batches)\n",
      "Running average (complete) remaining runtime prediction loss: 0.49242831107228996 (MAE over last 1600 batches)\n"
     ]
    },
    {
     "name": "stderr",
     "output_type": "stream",
     "text": [
      "Validation batch calculation: 40it [00:35,  1.12it/s]\n"
     ]
    },
    {
     "name": "stdout",
     "output_type": "stream",
     "text": [
      "Avg 1-(normalized) DL distance acitivty suffix prediction validation set: 0.8420396149158478\n",
      "Percentage of suffixes predicted to END: too early - 0.2942364283339695 ; right moment - 0.6337589420934041 ; too late - 0.07200462957262642\n",
      "Too early instances - avg amount of events too early: 1.6543079614639282\n",
      "Too late instances - avg amount of events too late: 2.9471614360809326\n",
      "Avg absolute amount of events predicted too early / too late: 0.698966920375824\n",
      "Avg MAE TTNE prediction validation set: 17696.402083333334 (minutes)'\n",
      "Avg MAE RRT prediction validation set: 0.6148352026939392 (standardized) ; 33552.80416666667 (minutes)'\n",
      "Avg validation loss: 1.4983160495758057\n",
      " \n",
      "------------------------------------\n",
      "EPOCH 15:\n",
      "____________________________________\n"
     ]
    },
    {
     "name": "stderr",
     "output_type": "stream",
     "text": [
      "Batch calculation at epoch 15.: 1604it [00:39, 33.24it/s]"
     ]
    },
    {
     "name": "stdout",
     "output_type": "stream",
     "text": [
      "------------------------------------------------------------\n",
      "Epoch 15, batch 1599:\n",
      "Average original gradient norm: 0.4577103061974049 (over last 1600 batches)\n",
      "Average clipped gradient norm: 0.4577103061974049 (over last 1600 batches)\n",
      "Running average global loss: 1.3583069641888141 (over last 1600 batches)\n",
      "Running average activity prediction loss: 0.8667613331228494 (Cross Entropy over last 1600 batches)\n",
      "Running average (complete) remaining runtime prediction loss: 0.49154563127085565 (MAE over last 1600 batches)\n",
      "------------------------------------------------------------\n"
     ]
    },
    {
     "name": "stderr",
     "output_type": "stream",
     "text": [
      "Batch calculation at epoch 15.: 3207it [01:20, 44.39it/s]"
     ]
    },
    {
     "name": "stdout",
     "output_type": "stream",
     "text": [
      "------------------------------------------------------------\n",
      "Epoch 15, batch 3199:\n",
      "Average original gradient norm: 0.4615617717895657 (over last 1600 batches)\n",
      "Average clipped gradient norm: 0.4615617717895657 (over last 1600 batches)\n",
      "Running average global loss: 1.3674219688773155 (over last 1600 batches)\n",
      "Running average activity prediction loss: 0.8727099549397827 (Cross Entropy over last 1600 batches)\n",
      "Running average (complete) remaining runtime prediction loss: 0.49471201369538903 (MAE over last 1600 batches)\n",
      "------------------------------------------------------------\n"
     ]
    },
    {
     "name": "stderr",
     "output_type": "stream",
     "text": [
      "Batch calculation at epoch 15.: 4295it [01:48, 39.74it/s]\n"
     ]
    },
    {
     "name": "stdout",
     "output_type": "stream",
     "text": [
      "=======================================\n",
      "End of epoch 15\n",
      "=======================================\n",
      "Running average global loss: 1.3539005886763333 (over last 1600 batches)\n",
      "Running average activity prediction loss: 0.8625630197301507 (Cross Entropy over last 1600 batches)\n",
      "Running average (complete) remaining runtime prediction loss: 0.4913375688716769 (MAE over last 1600 batches)\n"
     ]
    },
    {
     "name": "stderr",
     "output_type": "stream",
     "text": [
      "Validation batch calculation: 40it [00:24,  1.64it/s]\n"
     ]
    },
    {
     "name": "stdout",
     "output_type": "stream",
     "text": [
      "Avg 1-(normalized) DL distance acitivty suffix prediction validation set: 0.8419221490621567\n",
      "Percentage of suffixes predicted to END: too early - 0.2953568834111085 ; right moment - 0.6331556201287908 ; too late - 0.07148749646010072\n",
      "Too early instances - avg amount of events too early: 1.6617892980575562\n",
      "Too late instances - avg amount of events too late: 2.819669485092163\n",
      "Avg absolute amount of events predicted too early / too late: 0.6923919916152954\n",
      "Avg MAE TTNE prediction validation set: 17634.085416666665 (minutes)'\n",
      "Avg MAE RRT prediction validation set: 0.6172186732292175 (standardized) ; 33685.472916666666 (minutes)'\n",
      "Avg validation loss: 1.4995616674423218\n",
      " \n",
      "------------------------------------\n",
      "EPOCH 16:\n",
      "____________________________________\n"
     ]
    },
    {
     "name": "stderr",
     "output_type": "stream",
     "text": [
      "Batch calculation at epoch 16.: 1607it [00:37, 55.59it/s]"
     ]
    },
    {
     "name": "stdout",
     "output_type": "stream",
     "text": [
      "------------------------------------------------------------\n",
      "Epoch 16, batch 1599:\n",
      "Average original gradient norm: 0.46881016038358214 (over last 1600 batches)\n",
      "Average clipped gradient norm: 0.46008802480995653 (over last 1600 batches)\n",
      "Running average global loss: 1.3651145327463745 (over last 1600 batches)\n",
      "Running average activity prediction loss: 0.8707178827933967 (Cross Entropy over last 1600 batches)\n",
      "Running average (complete) remaining runtime prediction loss: 0.49439664917066695 (MAE over last 1600 batches)\n",
      "------------------------------------------------------------\n"
     ]
    },
    {
     "name": "stderr",
     "output_type": "stream",
     "text": [
      "Batch calculation at epoch 16.: 3207it [01:25, 30.74it/s]"
     ]
    },
    {
     "name": "stdout",
     "output_type": "stream",
     "text": [
      "------------------------------------------------------------\n",
      "Epoch 16, batch 3199:\n",
      "Average original gradient norm: 0.45940760638564826 (over last 1600 batches)\n",
      "Average clipped gradient norm: 0.45940760638564826 (over last 1600 batches)\n",
      "Running average global loss: 1.3602769188955426 (over last 1600 batches)\n",
      "Running average activity prediction loss: 0.8684054658561945 (Cross Entropy over last 1600 batches)\n",
      "Running average (complete) remaining runtime prediction loss: 0.491871452704072 (MAE over last 1600 batches)\n",
      "------------------------------------------------------------\n"
     ]
    },
    {
     "name": "stderr",
     "output_type": "stream",
     "text": [
      "Batch calculation at epoch 16.: 4295it [01:49, 39.09it/s]\n"
     ]
    },
    {
     "name": "stdout",
     "output_type": "stream",
     "text": [
      "=======================================\n",
      "End of epoch 16\n",
      "=======================================\n",
      "Running average global loss: 1.3532432736456395 (over last 1600 batches)\n",
      "Running average activity prediction loss: 0.8623739068210124 (Cross Entropy over last 1600 batches)\n",
      "Running average (complete) remaining runtime prediction loss: 0.4908693678304553 (MAE over last 1600 batches)\n"
     ]
    },
    {
     "name": "stderr",
     "output_type": "stream",
     "text": [
      "Validation batch calculation: 40it [00:25,  1.56it/s]\n"
     ]
    },
    {
     "name": "stdout",
     "output_type": "stream",
     "text": [
      "Avg 1-(normalized) DL distance acitivty suffix prediction validation set: 0.841573566198349\n",
      "Percentage of suffixes predicted to END: too early - 0.2909489392614847 ; right moment - 0.6334018739918983 ; too late - 0.07564918674661708\n",
      "Too early instances - avg amount of events too early: 1.6339823007583618\n",
      "Too late instances - avg amount of events too late: 2.9899089336395264\n",
      "Avg absolute amount of events predicted too early / too late: 0.7015895247459412\n",
      "Avg MAE TTNE prediction validation set: 17627.34375 (minutes)'\n",
      "Avg MAE RRT prediction validation set: 0.6141961812973022 (standardized) ; 33518.597916666666 (minutes)'\n",
      "Avg validation loss: 1.4955073595046997\n",
      " \n",
      "------------------------------------\n",
      "EPOCH 17:\n",
      "____________________________________\n"
     ]
    },
    {
     "name": "stderr",
     "output_type": "stream",
     "text": [
      "Batch calculation at epoch 17.: 1608it [00:45, 38.28it/s]"
     ]
    },
    {
     "name": "stdout",
     "output_type": "stream",
     "text": [
      "------------------------------------------------------------\n",
      "Epoch 17, batch 1599:\n",
      "Average original gradient norm: 0.46121906002052127 (over last 1600 batches)\n",
      "Average clipped gradient norm: 0.4607919864822179 (over last 1600 batches)\n",
      "Running average global loss: 1.3584324749559165 (over last 1600 batches)\n",
      "Running average activity prediction loss: 0.8668763966858387 (Cross Entropy over last 1600 batches)\n",
      "Running average (complete) remaining runtime prediction loss: 0.4915560779906809 (MAE over last 1600 batches)\n",
      "------------------------------------------------------------\n"
     ]
    },
    {
     "name": "stderr",
     "output_type": "stream",
     "text": [
      "Batch calculation at epoch 17.: 3202it [01:45, 22.69it/s]"
     ]
    },
    {
     "name": "stdout",
     "output_type": "stream",
     "text": [
      "------------------------------------------------------------\n",
      "Epoch 17, batch 3199:\n",
      "Average original gradient norm: 0.4539690688345581 (over last 1600 batches)\n",
      "Average clipped gradient norm: 0.4537994834873825 (over last 1600 batches)\n",
      "Running average global loss: 1.355002077780664 (over last 1600 batches)\n",
      "Running average activity prediction loss: 0.8626008369028568 (Cross Entropy over last 1600 batches)\n",
      "Running average (complete) remaining runtime prediction loss: 0.4924012399092317 (MAE over last 1600 batches)\n",
      "------------------------------------------------------------\n"
     ]
    },
    {
     "name": "stderr",
     "output_type": "stream",
     "text": [
      "Batch calculation at epoch 17.: 4295it [02:53, 24.73it/s]\n"
     ]
    },
    {
     "name": "stdout",
     "output_type": "stream",
     "text": [
      "=======================================\n",
      "End of epoch 17\n",
      "=======================================\n",
      "Running average global loss: 1.3628036335110665 (over last 1600 batches)\n",
      "Running average activity prediction loss: 0.8698891529068351 (Cross Entropy over last 1600 batches)\n",
      "Running average (complete) remaining runtime prediction loss: 0.4929144799336791 (MAE over last 1600 batches)\n"
     ]
    },
    {
     "name": "stderr",
     "output_type": "stream",
     "text": [
      "Validation batch calculation: 40it [00:29,  1.36it/s]\n"
     ]
    },
    {
     "name": "stdout",
     "output_type": "stream",
     "text": [
      "Avg 1-(normalized) DL distance acitivty suffix prediction validation set: 0.8415128737688065\n",
      "Percentage of suffixes predicted to END: too early - 0.29072731078468794 ; right moment - 0.6331186820493246 ; too late - 0.07615400716598741\n",
      "Too early instances - avg amount of events too early: 1.6369643211364746\n",
      "Too late instances - avg amount of events too late: 2.9995148181915283\n",
      "Avg absolute amount of events predicted too early / too late: 0.7043352723121643\n",
      "Avg MAE TTNE prediction validation set: 17753.783333333333 (minutes)'\n",
      "Avg MAE RRT prediction validation set: 0.6127524971961975 (standardized) ; 33435.25833333333 (minutes)'\n",
      "Avg validation loss: 1.4959588050842285\n",
      " \n",
      "------------------------------------\n",
      "EPOCH 18:\n",
      "____________________________________\n"
     ]
    },
    {
     "name": "stderr",
     "output_type": "stream",
     "text": [
      "Batch calculation at epoch 18.: 1602it [01:20, 12.65it/s]"
     ]
    },
    {
     "name": "stdout",
     "output_type": "stream",
     "text": [
      "------------------------------------------------------------\n",
      "Epoch 18, batch 1599:\n",
      "Average original gradient norm: 0.45627895748242736 (over last 1600 batches)\n",
      "Average clipped gradient norm: 0.45627895748242736 (over last 1600 batches)\n",
      "Running average global loss: 1.3600897565856576 (over last 1600 batches)\n",
      "Running average activity prediction loss: 0.8684815593063832 (Cross Entropy over last 1600 batches)\n",
      "Running average (complete) remaining runtime prediction loss: 0.4916081993281841 (MAE over last 1600 batches)\n",
      "------------------------------------------------------------\n"
     ]
    },
    {
     "name": "stderr",
     "output_type": "stream",
     "text": [
      "Batch calculation at epoch 18.: 3205it [02:51, 35.67it/s]"
     ]
    },
    {
     "name": "stdout",
     "output_type": "stream",
     "text": [
      "------------------------------------------------------------\n",
      "Epoch 18, batch 3199:\n",
      "Average original gradient norm: 0.4531076818238944 (over last 1600 batches)\n",
      "Average clipped gradient norm: 0.4531076818238944 (over last 1600 batches)\n",
      "Running average global loss: 1.3549684550240635 (over last 1600 batches)\n",
      "Running average activity prediction loss: 0.863039437532425 (Cross Entropy over last 1600 batches)\n",
      "Running average (complete) remaining runtime prediction loss: 0.49192901769652964 (MAE over last 1600 batches)\n",
      "------------------------------------------------------------\n"
     ]
    },
    {
     "name": "stderr",
     "output_type": "stream",
     "text": [
      "Batch calculation at epoch 18.: 4295it [04:02, 17.71it/s]\n"
     ]
    },
    {
     "name": "stdout",
     "output_type": "stream",
     "text": [
      "=======================================\n",
      "End of epoch 18\n",
      "=======================================\n",
      "Running average global loss: 1.356443646363914 (over last 1600 batches)\n",
      "Running average activity prediction loss: 0.8648546518012882 (Cross Entropy over last 1600 batches)\n",
      "Running average (complete) remaining runtime prediction loss: 0.4915889940038323 (MAE over last 1600 batches)\n"
     ]
    },
    {
     "name": "stderr",
     "output_type": "stream",
     "text": [
      "Validation batch calculation: 40it [00:42,  1.05s/it]\n"
     ]
    },
    {
     "name": "stdout",
     "output_type": "stream",
     "text": [
      "Avg 1-(normalized) DL distance acitivty suffix prediction validation set: 0.8416248857975006\n",
      "Percentage of suffixes predicted to END: too early - 0.29043180614895897 ; right moment - 0.6333895612987429 ; too late - 0.07617863255229816\n",
      "Too early instances - avg amount of events too early: 1.647150993347168\n",
      "Too late instances - avg amount of events too late: 2.9115889072418213\n",
      "Avg absolute amount of events predicted too early / too late: 0.7001858949661255\n",
      "Avg MAE TTNE prediction validation set: 17697.154166666667 (minutes)'\n",
      "Avg MAE RRT prediction validation set: 0.6139512658119202 (standardized) ; 33492.89375 (minutes)'\n",
      "Avg validation loss: 1.499963402748108\n",
      " \n",
      "------------------------------------\n",
      "EPOCH 19:\n",
      "____________________________________\n"
     ]
    },
    {
     "name": "stderr",
     "output_type": "stream",
     "text": [
      "Batch calculation at epoch 19.: 1602it [01:10, 32.96it/s]"
     ]
    },
    {
     "name": "stdout",
     "output_type": "stream",
     "text": [
      "------------------------------------------------------------\n",
      "Epoch 19, batch 1599:\n",
      "Average original gradient norm: 0.4532941332645714 (over last 1600 batches)\n",
      "Average clipped gradient norm: 0.4532941332645714 (over last 1600 batches)\n",
      "Running average global loss: 1.3533049292862416 (over last 1600 batches)\n",
      "Running average activity prediction loss: 0.8627498844265937 (Cross Entropy over last 1600 batches)\n",
      "Running average (complete) remaining runtime prediction loss: 0.4905550453811884 (MAE over last 1600 batches)\n",
      "------------------------------------------------------------\n"
     ]
    },
    {
     "name": "stderr",
     "output_type": "stream",
     "text": [
      "Batch calculation at epoch 19.: 3203it [02:19, 17.40it/s]"
     ]
    },
    {
     "name": "stdout",
     "output_type": "stream",
     "text": [
      "------------------------------------------------------------\n",
      "Epoch 19, batch 3199:\n",
      "Average original gradient norm: 0.4516463576070964 (over last 1600 batches)\n",
      "Average clipped gradient norm: 0.4516463576070964 (over last 1600 batches)\n",
      "Running average global loss: 1.3605309967324137 (over last 1600 batches)\n",
      "Running average activity prediction loss: 0.8685444309562445 (Cross Entropy over last 1600 batches)\n",
      "Running average (complete) remaining runtime prediction loss: 0.4919865661114454 (MAE over last 1600 batches)\n",
      "------------------------------------------------------------\n"
     ]
    },
    {
     "name": "stderr",
     "output_type": "stream",
     "text": [
      "Batch calculation at epoch 19.: 4295it [03:08, 22.73it/s]\n"
     ]
    },
    {
     "name": "stdout",
     "output_type": "stream",
     "text": [
      "=======================================\n",
      "End of epoch 19\n",
      "=======================================\n",
      "Running average global loss: 1.358215615004301 (over last 1600 batches)\n",
      "Running average activity prediction loss: 0.8659749617800117 (Cross Entropy over last 1600 batches)\n",
      "Running average (complete) remaining runtime prediction loss: 0.4922406523115933 (MAE over last 1600 batches)\n"
     ]
    },
    {
     "name": "stderr",
     "output_type": "stream",
     "text": [
      "Validation batch calculation: 40it [00:30,  1.31it/s]\n"
     ]
    },
    {
     "name": "stdout",
     "output_type": "stream",
     "text": [
      "Avg 1-(normalized) DL distance acitivty suffix prediction validation set: 0.8416658937931061\n",
      "Percentage of suffixes predicted to END: too early - 0.29392861100508516 ; right moment - 0.6341036975017545 ; too late - 0.0719676914931603\n",
      "Too early instances - avg amount of events too early: 1.6421749591827393\n",
      "Too late instances - avg amount of events too late: 3.028400421142578\n",
      "Avg absolute amount of events predicted too early / too late: 0.7006291747093201\n",
      "Avg MAE TTNE prediction validation set: 17764.772916666665 (minutes)'\n",
      "Avg MAE RRT prediction validation set: 0.610509991645813 (standardized) ; 33317.535416666666 (minutes)'\n",
      "Avg validation loss: 1.4977779388427734\n",
      " \n",
      "------------------------------------\n",
      "EPOCH 20:\n",
      "____________________________________\n"
     ]
    },
    {
     "name": "stderr",
     "output_type": "stream",
     "text": [
      "Batch calculation at epoch 20.: 1601it [01:07, 18.43it/s]"
     ]
    },
    {
     "name": "stdout",
     "output_type": "stream",
     "text": [
      "------------------------------------------------------------\n",
      "Epoch 20, batch 1599:\n",
      "Average original gradient norm: 0.44755583558231593 (over last 1600 batches)\n",
      "Average clipped gradient norm: 0.44755583558231593 (over last 1600 batches)\n",
      "Running average global loss: 1.3579526817053555 (over last 1600 batches)\n",
      "Running average activity prediction loss: 0.8656263878196477 (Cross Entropy over last 1600 batches)\n",
      "Running average (complete) remaining runtime prediction loss: 0.4923262927867472 (MAE over last 1600 batches)\n",
      "------------------------------------------------------------\n"
     ]
    },
    {
     "name": "stderr",
     "output_type": "stream",
     "text": [
      "Batch calculation at epoch 20.: 3202it [02:16, 39.23it/s]"
     ]
    },
    {
     "name": "stdout",
     "output_type": "stream",
     "text": [
      "------------------------------------------------------------\n",
      "Epoch 20, batch 3199:\n",
      "Average original gradient norm: 0.4577789490763098 (over last 1600 batches)\n",
      "Average clipped gradient norm: 0.45516067133285104 (over last 1600 batches)\n",
      "Running average global loss: 1.35139518648386 (over last 1600 batches)\n",
      "Running average activity prediction loss: 0.8606931868195534 (Cross Entropy over last 1600 batches)\n",
      "Running average (complete) remaining runtime prediction loss: 0.49070199927315117 (MAE over last 1600 batches)\n",
      "------------------------------------------------------------\n"
     ]
    },
    {
     "name": "stderr",
     "output_type": "stream",
     "text": [
      "Batch calculation at epoch 20.: 4295it [03:03, 23.38it/s]\n"
     ]
    },
    {
     "name": "stdout",
     "output_type": "stream",
     "text": [
      "=======================================\n",
      "End of epoch 20\n",
      "=======================================\n",
      "Running average global loss: 1.3565074837952853 (over last 1600 batches)\n",
      "Running average activity prediction loss: 0.8663538134470582 (Cross Entropy over last 1600 batches)\n",
      "Running average (complete) remaining runtime prediction loss: 0.49015366861596704 (MAE over last 1600 batches)\n"
     ]
    },
    {
     "name": "stderr",
     "output_type": "stream",
     "text": [
      "Validation batch calculation: 40it [00:34,  1.14it/s]\n"
     ]
    },
    {
     "name": "stdout",
     "output_type": "stream",
     "text": [
      "Avg 1-(normalized) DL distance acitivty suffix prediction validation set: 0.8409519493579865\n",
      "Percentage of suffixes predicted to END: too early - 0.2904071807626482 ; right moment - 0.6321336665968947 ; too late - 0.07745915264045705\n",
      "Too early instances - avg amount of events too early: 1.6386839151382446\n",
      "Too late instances - avg amount of events too late: 3.0507073402404785\n",
      "Avg absolute amount of events predicted too early / too late: 0.7121908068656921\n",
      "Avg MAE TTNE prediction validation set: 17763.99375 (minutes)'\n",
      "Avg MAE RRT prediction validation set: 0.6124118566513062 (standardized) ; 33420.13958333333 (minutes)'\n",
      "Avg validation loss: 1.4993468523025513\n",
      " \n",
      "------------------------------------\n",
      "EPOCH 21:\n",
      "____________________________________\n"
     ]
    },
    {
     "name": "stderr",
     "output_type": "stream",
     "text": [
      "Batch calculation at epoch 21.: 1604it [02:13, 14.23it/s]"
     ]
    },
    {
     "name": "stdout",
     "output_type": "stream",
     "text": [
      "------------------------------------------------------------\n",
      "Epoch 21, batch 1599:\n",
      "Average original gradient norm: 0.4565015280339867 (over last 1600 batches)\n",
      "Average clipped gradient norm: 0.4565015280339867 (over last 1600 batches)\n",
      "Running average global loss: 1.3551186637580395 (over last 1600 batches)\n",
      "Running average activity prediction loss: 0.8641621004417539 (Cross Entropy over last 1600 batches)\n",
      "Running average (complete) remaining runtime prediction loss: 0.4909565629810095 (MAE over last 1600 batches)\n",
      "------------------------------------------------------------\n"
     ]
    },
    {
     "name": "stderr",
     "output_type": "stream",
     "text": [
      "Batch calculation at epoch 21.: 3202it [04:39, 11.80it/s]"
     ]
    },
    {
     "name": "stdout",
     "output_type": "stream",
     "text": [
      "------------------------------------------------------------\n",
      "Epoch 21, batch 3199:\n",
      "Average original gradient norm: 0.44763025986030697 (over last 1600 batches)\n",
      "Average clipped gradient norm: 0.44763025986030697 (over last 1600 batches)\n",
      "Running average global loss: 1.353992222994566 (over last 1600 batches)\n",
      "Running average activity prediction loss: 0.8636118981614709 (Cross Entropy over last 1600 batches)\n",
      "Running average (complete) remaining runtime prediction loss: 0.490380325820297 (MAE over last 1600 batches)\n",
      "------------------------------------------------------------\n"
     ]
    },
    {
     "name": "stderr",
     "output_type": "stream",
     "text": [
      "Batch calculation at epoch 21.: 4295it [05:51, 12.20it/s]\n"
     ]
    },
    {
     "name": "stdout",
     "output_type": "stream",
     "text": [
      "=======================================\n",
      "End of epoch 21\n",
      "=======================================\n",
      "Running average global loss: 1.3541971059888602 (over last 1600 batches)\n",
      "Running average activity prediction loss: 0.8633386066183448 (Cross Entropy over last 1600 batches)\n",
      "Running average (complete) remaining runtime prediction loss: 0.4908584998175502 (MAE over last 1600 batches)\n"
     ]
    },
    {
     "name": "stderr",
     "output_type": "stream",
     "text": [
      "Validation batch calculation: 40it [00:43,  1.08s/it]\n"
     ]
    },
    {
     "name": "stdout",
     "output_type": "stream",
     "text": [
      "Avg 1-(normalized) DL distance acitivty suffix prediction validation set: 0.8410438597202301\n",
      "Percentage of suffixes predicted to END: too early - 0.2889050321976926 ; right moment - 0.6319489761995641 ; too late - 0.07914599160274327\n",
      "Too early instances - avg amount of events too early: 1.6340351104736328\n",
      "Too late instances - avg amount of events too late: 3.034536600112915\n",
      "Avg absolute amount of events predicted too early / too late: 0.7122523188591003\n",
      "Avg MAE TTNE prediction validation set: 17857.460416666665 (minutes)'\n",
      "Avg MAE RRT prediction validation set: 0.6082074642181396 (standardized) ; 33191.75625 (minutes)'\n",
      "Avg validation loss: 1.4951510429382324\n",
      " \n",
      "------------------------------------\n",
      "EPOCH 22:\n",
      "____________________________________\n"
     ]
    },
    {
     "name": "stderr",
     "output_type": "stream",
     "text": [
      "Batch calculation at epoch 22.: 1601it [01:16, 11.99it/s]"
     ]
    },
    {
     "name": "stdout",
     "output_type": "stream",
     "text": [
      "------------------------------------------------------------\n",
      "Epoch 22, batch 1599:\n",
      "Average original gradient norm: 0.4471186877507716 (over last 1600 batches)\n",
      "Average clipped gradient norm: 0.44696389776654544 (over last 1600 batches)\n",
      "Running average global loss: 1.3539533368498087 (over last 1600 batches)\n",
      "Running average activity prediction loss: 0.862412605881691 (Cross Entropy over last 1600 batches)\n",
      "Running average (complete) remaining runtime prediction loss: 0.4915407332032919 (MAE over last 1600 batches)\n",
      "------------------------------------------------------------\n"
     ]
    },
    {
     "name": "stderr",
     "output_type": "stream",
     "text": [
      "Batch calculation at epoch 22.: 3203it [03:47, 14.82it/s]"
     ]
    },
    {
     "name": "stdout",
     "output_type": "stream",
     "text": [
      "------------------------------------------------------------\n",
      "Epoch 22, batch 3199:\n",
      "Average original gradient norm: 0.4590958303492516 (over last 1600 batches)\n",
      "Average clipped gradient norm: 0.4570173805486411 (over last 1600 batches)\n",
      "Running average global loss: 1.353383133634925 (over last 1600 batches)\n",
      "Running average activity prediction loss: 0.8636883250251413 (Cross Entropy over last 1600 batches)\n",
      "Running average (complete) remaining runtime prediction loss: 0.4896948087774217 (MAE over last 1600 batches)\n",
      "------------------------------------------------------------\n"
     ]
    },
    {
     "name": "stderr",
     "output_type": "stream",
     "text": [
      "Batch calculation at epoch 22.: 4295it [04:57, 14.46it/s]\n"
     ]
    },
    {
     "name": "stdout",
     "output_type": "stream",
     "text": [
      "=======================================\n",
      "End of epoch 22\n",
      "=======================================\n",
      "Running average global loss: 1.3538320921361446 (over last 1600 batches)\n",
      "Running average activity prediction loss: 0.8647687102854252 (Cross Entropy over last 1600 batches)\n",
      "Running average (complete) remaining runtime prediction loss: 0.48906338069587946 (MAE over last 1600 batches)\n"
     ]
    },
    {
     "name": "stderr",
     "output_type": "stream",
     "text": [
      "Validation batch calculation: 40it [00:29,  1.36it/s]\n"
     ]
    },
    {
     "name": "stdout",
     "output_type": "stream",
     "text": [
      "Avg 1-(normalized) DL distance acitivty suffix prediction validation set: 0.8419685065746307\n",
      "Percentage of suffixes predicted to END: too early - 0.2901239888200746 ; right moment - 0.6333649359124321 ; too late - 0.07651107526749326\n",
      "Too early instances - avg amount of events too early: 1.6383312940597534\n",
      "Too late instances - avg amount of events too late: 3.009977340698242\n",
      "Avg absolute amount of events predicted too early / too late: 0.7056158185005188\n",
      "Avg MAE TTNE prediction validation set: 17657.697916666668 (minutes)'\n",
      "Avg MAE RRT prediction validation set: 0.6143017411231995 (standardized) ; 33523.85833333333 (minutes)'\n",
      "Avg validation loss: 1.4973829984664917\n",
      " \n",
      "------------------------------------\n",
      "EPOCH 23:\n",
      "____________________________________\n"
     ]
    },
    {
     "name": "stderr",
     "output_type": "stream",
     "text": [
      "Batch calculation at epoch 23.: 1601it [01:57, 13.34it/s]"
     ]
    },
    {
     "name": "stdout",
     "output_type": "stream",
     "text": [
      "------------------------------------------------------------\n",
      "Epoch 23, batch 1599:\n",
      "Average original gradient norm: 0.4459020951483399 (over last 1600 batches)\n",
      "Average clipped gradient norm: 0.4459020951483399 (over last 1600 batches)\n",
      "Running average global loss: 1.3498971981555223 (over last 1600 batches)\n",
      "Running average activity prediction loss: 0.8606955038383604 (Cross Entropy over last 1600 batches)\n",
      "Running average (complete) remaining runtime prediction loss: 0.4892016942799091 (MAE over last 1600 batches)\n",
      "------------------------------------------------------------\n"
     ]
    },
    {
     "name": "stderr",
     "output_type": "stream",
     "text": [
      "Batch calculation at epoch 23.: 3200it [04:22, 12.55it/s]"
     ]
    },
    {
     "name": "stdout",
     "output_type": "stream",
     "text": [
      "------------------------------------------------------------\n",
      "Epoch 23, batch 3199:\n",
      "Average original gradient norm: 0.45234583283774554 (over last 1600 batches)\n",
      "Average clipped gradient norm: 0.45234583283774554 (over last 1600 batches)\n",
      "Running average global loss: 1.355458156466484 (over last 1600 batches)\n",
      "Running average activity prediction loss: 0.8648750792816281 (Cross Entropy over last 1600 batches)\n",
      "Running average (complete) remaining runtime prediction loss: 0.4905830761604011 (MAE over last 1600 batches)\n",
      "------------------------------------------------------------\n"
     ]
    },
    {
     "name": "stderr",
     "output_type": "stream",
     "text": [
      "Batch calculation at epoch 23.: 4295it [05:37, 12.71it/s]\n"
     ]
    },
    {
     "name": "stdout",
     "output_type": "stream",
     "text": [
      "=======================================\n",
      "End of epoch 23\n",
      "=======================================\n",
      "Running average global loss: 1.3564222365617753 (over last 1600 batches)\n",
      "Running average activity prediction loss: 0.8658463773131371 (Cross Entropy over last 1600 batches)\n",
      "Running average (complete) remaining runtime prediction loss: 0.49057585928589104 (MAE over last 1600 batches)\n"
     ]
    },
    {
     "name": "stderr",
     "output_type": "stream",
     "text": [
      "Validation batch calculation: 40it [00:29,  1.36it/s]\n"
     ]
    },
    {
     "name": "stdout",
     "output_type": "stream",
     "text": [
      "Avg 1-(normalized) DL distance acitivty suffix prediction validation set: 0.8418602496385574\n",
      "Percentage of suffixes predicted to END: too early - 0.2889789083566248 ; right moment - 0.63313099474248 ; too late - 0.07789009690089513\n",
      "Too early instances - avg amount of events too early: 1.6377503871917725\n",
      "Too late instances - avg amount of events too late: 2.9600062370300293\n",
      "Avg absolute amount of events predicted too early / too late: 0.7038304805755615\n",
      "Avg MAE TTNE prediction validation set: 17719.989583333332 (minutes)'\n",
      "Avg MAE RRT prediction validation set: 0.614295244216919 (standardized) ; 33524.504166666666 (minutes)'\n",
      "Avg validation loss: 1.4963350296020508\n",
      " \n",
      "------------------------------------\n",
      "EPOCH 24:\n",
      "____________________________________\n"
     ]
    },
    {
     "name": "stderr",
     "output_type": "stream",
     "text": [
      "Batch calculation at epoch 24.: 1602it [02:04, 14.42it/s]"
     ]
    },
    {
     "name": "stdout",
     "output_type": "stream",
     "text": [
      "------------------------------------------------------------\n",
      "Epoch 24, batch 1599:\n",
      "Average original gradient norm: 0.44725069190375505 (over last 1600 batches)\n",
      "Average clipped gradient norm: 0.44725069190375505 (over last 1600 batches)\n",
      "Running average global loss: 1.3517284885048866 (over last 1600 batches)\n",
      "Running average activity prediction loss: 0.8617336847260595 (Cross Entropy over last 1600 batches)\n",
      "Running average (complete) remaining runtime prediction loss: 0.4899948025122285 (MAE over last 1600 batches)\n",
      "------------------------------------------------------------\n"
     ]
    },
    {
     "name": "stderr",
     "output_type": "stream",
     "text": [
      "Batch calculation at epoch 24.: 3202it [03:46, 17.57it/s]"
     ]
    },
    {
     "name": "stdout",
     "output_type": "stream",
     "text": [
      "------------------------------------------------------------\n",
      "Epoch 24, batch 3199:\n",
      "Average original gradient norm: 0.4451805182825774 (over last 1600 batches)\n",
      "Average clipped gradient norm: 0.4451805182825774 (over last 1600 batches)\n",
      "Running average global loss: 1.351897299066186 (over last 1600 batches)\n",
      "Running average activity prediction loss: 0.8637406912446022 (Cross Entropy over last 1600 batches)\n",
      "Running average (complete) remaining runtime prediction loss: 0.4881566077284515 (MAE over last 1600 batches)\n",
      "------------------------------------------------------------\n"
     ]
    },
    {
     "name": "stderr",
     "output_type": "stream",
     "text": [
      "Batch calculation at epoch 24.: 4295it [05:30, 12.98it/s]\n"
     ]
    },
    {
     "name": "stdout",
     "output_type": "stream",
     "text": [
      "=======================================\n",
      "End of epoch 24\n",
      "=======================================\n",
      "Running average global loss: 1.3521434637904166 (over last 1600 batches)\n",
      "Running average activity prediction loss: 0.8620946270599962 (Cross Entropy over last 1600 batches)\n",
      "Running average (complete) remaining runtime prediction loss: 0.49004883704707025 (MAE over last 1600 batches)\n"
     ]
    },
    {
     "name": "stderr",
     "output_type": "stream",
     "text": [
      "Validation batch calculation: 40it [00:36,  1.09it/s]\n"
     ]
    },
    {
     "name": "stdout",
     "output_type": "stream",
     "text": [
      "Avg 1-(normalized) DL distance acitivty suffix prediction validation set: 0.8418688327074051\n",
      "Percentage of suffixes predicted to END: too early - 0.29151532314663187 ; right moment - 0.6334634374576751 ; too late - 0.07502123939569302\n",
      "Too early instances - avg amount of events too early: 1.6449569463729858\n",
      "Too late instances - avg amount of events too late: 2.9634006023406982\n",
      "Avg absolute amount of events predicted too early / too late: 0.7018481492996216\n",
      "Avg MAE TTNE prediction validation set: 17707.858333333334 (minutes)'\n",
      "Avg MAE RRT prediction validation set: 0.6076928973197937 (standardized) ; 33162.61875 (minutes)'\n",
      "Avg validation loss: 1.4930447340011597\n",
      " \n",
      "------------------------------------\n",
      "EPOCH 25:\n",
      "____________________________________\n"
     ]
    },
    {
     "name": "stderr",
     "output_type": "stream",
     "text": [
      "Batch calculation at epoch 25.: 1602it [02:07, 13.89it/s]"
     ]
    },
    {
     "name": "stdout",
     "output_type": "stream",
     "text": [
      "------------------------------------------------------------\n",
      "Epoch 25, batch 1599:\n",
      "Average original gradient norm: 0.4495408290345222 (over last 1600 batches)\n",
      "Average clipped gradient norm: 0.4495408290345222 (over last 1600 batches)\n",
      "Running average global loss: 1.3497179438173772 (over last 1600 batches)\n",
      "Running average activity prediction loss: 0.8598094981908798 (Cross Entropy over last 1600 batches)\n",
      "Running average (complete) remaining runtime prediction loss: 0.4899084453843534 (MAE over last 1600 batches)\n",
      "------------------------------------------------------------\n"
     ]
    },
    {
     "name": "stderr",
     "output_type": "stream",
     "text": [
      "Batch calculation at epoch 25.: 3201it [04:24,  8.46it/s]"
     ]
    },
    {
     "name": "stdout",
     "output_type": "stream",
     "text": [
      "------------------------------------------------------------\n",
      "Epoch 25, batch 3199:\n",
      "Average original gradient norm: 0.44758924666792155 (over last 1600 batches)\n",
      "Average clipped gradient norm: 0.44758924666792155 (over last 1600 batches)\n",
      "Running average global loss: 1.354398343488574 (over last 1600 batches)\n",
      "Running average activity prediction loss: 0.8642979491129518 (Cross Entropy over last 1600 batches)\n",
      "Running average (complete) remaining runtime prediction loss: 0.49010039411485196 (MAE over last 1600 batches)\n",
      "------------------------------------------------------------\n"
     ]
    },
    {
     "name": "stderr",
     "output_type": "stream",
     "text": [
      "Batch calculation at epoch 25.: 4295it [06:24, 11.17it/s]\n"
     ]
    },
    {
     "name": "stdout",
     "output_type": "stream",
     "text": [
      "=======================================\n",
      "End of epoch 25\n",
      "=======================================\n",
      "Running average global loss: 1.3511468403041362 (over last 1600 batches)\n",
      "Running average activity prediction loss: 0.862775696478784 (Cross Entropy over last 1600 batches)\n",
      "Running average (complete) remaining runtime prediction loss: 0.4883711431734264 (MAE over last 1600 batches)\n"
     ]
    },
    {
     "name": "stderr",
     "output_type": "stream",
     "text": [
      "Validation batch calculation: 40it [00:48,  1.22s/it]\n"
     ]
    },
    {
     "name": "stdout",
     "output_type": "stream",
     "text": [
      "Avg 1-(normalized) DL distance acitivty suffix prediction validation set: 0.8418997377157211\n",
      "Percentage of suffixes predicted to END: too early - 0.29146607237401034 ; right moment - 0.633327997832966 ; too late - 0.07520592979302362\n",
      "Too early instances - avg amount of events too early: 1.6462064981460571\n",
      "Too late instances - avg amount of events too late: 2.954322099685669\n",
      "Avg absolute amount of events predicted too early / too late: 0.701995849609375\n",
      "Avg MAE TTNE prediction validation set: 17834.160416666666 (minutes)'\n",
      "Avg MAE RRT prediction validation set: 0.6123067140579224 (standardized) ; 33416.42083333333 (minutes)'\n",
      "Avg validation loss: 1.4971920251846313\n",
      " \n",
      "------------------------------------\n",
      "EPOCH 26:\n",
      "____________________________________\n"
     ]
    },
    {
     "name": "stderr",
     "output_type": "stream",
     "text": [
      "Batch calculation at epoch 26.: 1602it [01:33, 17.05it/s]"
     ]
    },
    {
     "name": "stdout",
     "output_type": "stream",
     "text": [
      "------------------------------------------------------------\n",
      "Epoch 26, batch 1599:\n",
      "Average original gradient norm: 0.4473050941899419 (over last 1600 batches)\n",
      "Average clipped gradient norm: 0.4473050941899419 (over last 1600 batches)\n",
      "Running average global loss: 1.352263466641307 (over last 1600 batches)\n",
      "Running average activity prediction loss: 0.8617692157253622 (Cross Entropy over last 1600 batches)\n",
      "Running average (complete) remaining runtime prediction loss: 0.49049425253644585 (MAE over last 1600 batches)\n",
      "------------------------------------------------------------\n"
     ]
    },
    {
     "name": "stderr",
     "output_type": "stream",
     "text": [
      "Batch calculation at epoch 26.: 3202it [03:20, 13.06it/s]"
     ]
    },
    {
     "name": "stdout",
     "output_type": "stream",
     "text": [
      "------------------------------------------------------------\n",
      "Epoch 26, batch 3199:\n",
      "Average original gradient norm: 0.45261921437457203 (over last 1600 batches)\n",
      "Average clipped gradient norm: 0.45261921437457203 (over last 1600 batches)\n",
      "Running average global loss: 1.348522396683693 (over last 1600 batches)\n",
      "Running average activity prediction loss: 0.8598175515606999 (Cross Entropy over last 1600 batches)\n",
      "Running average (complete) remaining runtime prediction loss: 0.4887048459984362 (MAE over last 1600 batches)\n",
      "------------------------------------------------------------\n"
     ]
    },
    {
     "name": "stderr",
     "output_type": "stream",
     "text": [
      "Batch calculation at epoch 26.: 4295it [04:38, 15.42it/s]\n"
     ]
    },
    {
     "name": "stdout",
     "output_type": "stream",
     "text": [
      "=======================================\n",
      "End of epoch 26\n",
      "=======================================\n",
      "Running average global loss: 1.3523020090162754 (over last 1600 batches)\n",
      "Running average activity prediction loss: 0.8636978797242045 (Cross Entropy over last 1600 batches)\n",
      "Running average (complete) remaining runtime prediction loss: 0.4886041296087205 (MAE over last 1600 batches)\n"
     ]
    },
    {
     "name": "stderr",
     "output_type": "stream",
     "text": [
      "Validation batch calculation: 40it [00:53,  1.33s/it]\n"
     ]
    },
    {
     "name": "stdout",
     "output_type": "stream",
     "text": [
      "Avg 1-(normalized) DL distance acitivty suffix prediction validation set: 0.8418407589197159\n",
      "Percentage of suffixes predicted to END: too early - 0.2919585801002253 ; right moment - 0.6332418089808783 ; too late - 0.0747996109188963\n",
      "Too early instances - avg amount of events too early: 1.6425859928131104\n",
      "Too late instances - avg amount of events too late: 2.9818930625915527\n",
      "Avg absolute amount of events predicted too early / too late: 0.70261150598526\n",
      "Avg MAE TTNE prediction validation set: 17688.729166666668 (minutes)'\n",
      "Avg MAE RRT prediction validation set: 0.6155118346214294 (standardized) ; 33584.94375 (minutes)'\n",
      "Avg validation loss: 1.4971271753311157\n",
      " \n",
      "------------------------------------\n",
      "EPOCH 27:\n",
      "____________________________________\n"
     ]
    },
    {
     "name": "stderr",
     "output_type": "stream",
     "text": [
      "Batch calculation at epoch 27.: 1606it [01:36, 30.04it/s]"
     ]
    },
    {
     "name": "stdout",
     "output_type": "stream",
     "text": [
      "------------------------------------------------------------\n",
      "Epoch 27, batch 1599:\n",
      "Average original gradient norm: 0.44756553230807183 (over last 1600 batches)\n",
      "Average clipped gradient norm: 0.44756553230807183 (over last 1600 batches)\n",
      "Running average global loss: 1.3508650966733695 (over last 1600 batches)\n",
      "Running average activity prediction loss: 0.8624836544692517 (Cross Entropy over last 1600 batches)\n",
      "Running average (complete) remaining runtime prediction loss: 0.48838144052773713 (MAE over last 1600 batches)\n",
      "------------------------------------------------------------\n"
     ]
    },
    {
     "name": "stderr",
     "output_type": "stream",
     "text": [
      "Batch calculation at epoch 27.: 3201it [03:13, 15.21it/s]"
     ]
    },
    {
     "name": "stdout",
     "output_type": "stream",
     "text": [
      "------------------------------------------------------------\n",
      "Epoch 27, batch 3199:\n",
      "Average original gradient norm: 0.45315598758868875 (over last 1600 batches)\n",
      "Average clipped gradient norm: 0.45300053025595843 (over last 1600 batches)\n",
      "Running average global loss: 1.3490871451422572 (over last 1600 batches)\n",
      "Running average activity prediction loss: 0.860859353467822 (Cross Entropy over last 1600 batches)\n",
      "Running average (complete) remaining runtime prediction loss: 0.48822779091075064 (MAE over last 1600 batches)\n",
      "------------------------------------------------------------\n"
     ]
    },
    {
     "name": "stderr",
     "output_type": "stream",
     "text": [
      "Batch calculation at epoch 27.: 4295it [04:24, 16.22it/s]\n"
     ]
    },
    {
     "name": "stdout",
     "output_type": "stream",
     "text": [
      "=======================================\n",
      "End of epoch 27\n",
      "=======================================\n",
      "Running average global loss: 1.3511011700332165 (over last 1600 batches)\n",
      "Running average activity prediction loss: 0.8609165180101991 (Cross Entropy over last 1600 batches)\n",
      "Running average (complete) remaining runtime prediction loss: 0.4901846516132355 (MAE over last 1600 batches)\n"
     ]
    },
    {
     "name": "stderr",
     "output_type": "stream",
     "text": [
      "Validation batch calculation: 40it [00:40,  1.02s/it]\n"
     ]
    },
    {
     "name": "stdout",
     "output_type": "stream",
     "text": [
      "Avg 1-(normalized) DL distance acitivty suffix prediction validation set: 0.8420043587684631\n",
      "Percentage of suffixes predicted to END: too early - 0.2934607286651809 ; right moment - 0.633857443638647 ; too late - 0.07268182769617199\n",
      "Too early instances - avg amount of events too early: 1.6582612991333008\n",
      "Too late instances - avg amount of events too late: 2.8829410076141357\n",
      "Avg absolute amount of events predicted too early / too late: 0.6961719393730164\n",
      "Avg MAE TTNE prediction validation set: 17838.520833333332 (minutes)'\n",
      "Avg MAE RRT prediction validation set: 0.6127374768257141 (standardized) ; 33439.2 (minutes)'\n",
      "Avg validation loss: 1.4993653297424316\n",
      " \n",
      "------------------------------------\n",
      "EPOCH 28:\n",
      "____________________________________\n"
     ]
    },
    {
     "name": "stderr",
     "output_type": "stream",
     "text": [
      "Batch calculation at epoch 28.: 1612it [00:40, 57.24it/s]"
     ]
    },
    {
     "name": "stdout",
     "output_type": "stream",
     "text": [
      "------------------------------------------------------------\n",
      "Epoch 28, batch 1599:\n",
      "Average original gradient norm: 0.449679107144475 (over last 1600 batches)\n",
      "Average clipped gradient norm: 0.449679107144475 (over last 1600 batches)\n",
      "Running average global loss: 1.3469122269004583 (over last 1600 batches)\n",
      "Running average activity prediction loss: 0.8584931976720691 (Cross Entropy over last 1600 batches)\n",
      "Running average (complete) remaining runtime prediction loss: 0.4884190286882222 (MAE over last 1600 batches)\n",
      "------------------------------------------------------------\n"
     ]
    },
    {
     "name": "stderr",
     "output_type": "stream",
     "text": [
      "Batch calculation at epoch 28.: 3205it [01:21, 30.35it/s]"
     ]
    },
    {
     "name": "stdout",
     "output_type": "stream",
     "text": [
      "------------------------------------------------------------\n",
      "Epoch 28, batch 3199:\n",
      "Average original gradient norm: 0.4474287024978548 (over last 1600 batches)\n",
      "Average clipped gradient norm: 0.4470454937312752 (over last 1600 batches)\n",
      "Running average global loss: 1.3513241183012723 (over last 1600 batches)\n",
      "Running average activity prediction loss: 0.8626519586145878 (Cross Entropy over last 1600 batches)\n",
      "Running average (complete) remaining runtime prediction loss: 0.4886721591092646 (MAE over last 1600 batches)\n",
      "------------------------------------------------------------\n"
     ]
    },
    {
     "name": "stderr",
     "output_type": "stream",
     "text": [
      "Batch calculation at epoch 28.: 4295it [01:57, 36.47it/s]\n"
     ]
    },
    {
     "name": "stdout",
     "output_type": "stream",
     "text": [
      "=======================================\n",
      "End of epoch 28\n",
      "=======================================\n",
      "Running average global loss: 1.350079001635313 (over last 1600 batches)\n",
      "Running average activity prediction loss: 0.8616515720263124 (Cross Entropy over last 1600 batches)\n",
      "Running average (complete) remaining runtime prediction loss: 0.4884274290315807 (MAE over last 1600 batches)\n"
     ]
    },
    {
     "name": "stderr",
     "output_type": "stream",
     "text": [
      "Validation batch calculation: 40it [00:32,  1.24it/s]\n"
     ]
    },
    {
     "name": "stdout",
     "output_type": "stream",
     "text": [
      "Avg 1-(normalized) DL distance acitivty suffix prediction validation set: 0.8422257304191589\n",
      "Percentage of suffixes predicted to END: too early - 0.29128138197667974 ; right moment - 0.6336111897755397 ; too late - 0.07510742824778063\n",
      "Too early instances - avg amount of events too early: 1.6431922912597656\n",
      "Too late instances - avg amount of events too late: 2.92032790184021\n",
      "Avg absolute amount of events predicted too early / too late: 0.6979696154594421\n",
      "Avg MAE TTNE prediction validation set: 17583.489583333332 (minutes)'\n",
      "Avg MAE RRT prediction validation set: 0.613852322101593 (standardized) ; 33497.0625 (minutes)'\n",
      "Avg validation loss: 1.4971200227737427\n",
      " \n",
      "------------------------------------\n",
      "EPOCH 29:\n",
      "____________________________________\n"
     ]
    },
    {
     "name": "stderr",
     "output_type": "stream",
     "text": [
      "Batch calculation at epoch 29.: 1604it [00:59, 22.38it/s]"
     ]
    },
    {
     "name": "stdout",
     "output_type": "stream",
     "text": [
      "------------------------------------------------------------\n",
      "Epoch 29, batch 1599:\n",
      "Average original gradient norm: 0.44682897393591703 (over last 1600 batches)\n",
      "Average clipped gradient norm: 0.44682897393591703 (over last 1600 batches)\n",
      "Running average global loss: 1.354532539099455 (over last 1600 batches)\n",
      "Running average activity prediction loss: 0.8650974946096539 (Cross Entropy over last 1600 batches)\n",
      "Running average (complete) remaining runtime prediction loss: 0.48943504413589833 (MAE over last 1600 batches)\n",
      "------------------------------------------------------------\n"
     ]
    },
    {
     "name": "stderr",
     "output_type": "stream",
     "text": [
      "Batch calculation at epoch 29.: 3201it [02:29, 15.44it/s]"
     ]
    },
    {
     "name": "stdout",
     "output_type": "stream",
     "text": [
      "------------------------------------------------------------\n",
      "Epoch 29, batch 3199:\n",
      "Average original gradient norm: 0.4522340676281601 (over last 1600 batches)\n",
      "Average clipped gradient norm: 0.4522340676281601 (over last 1600 batches)\n",
      "Running average global loss: 1.3429965936392545 (over last 1600 batches)\n",
      "Running average activity prediction loss: 0.8558284593746066 (Cross Entropy over last 1600 batches)\n",
      "Running average (complete) remaining runtime prediction loss: 0.48716813553124666 (MAE over last 1600 batches)\n",
      "------------------------------------------------------------\n"
     ]
    },
    {
     "name": "stderr",
     "output_type": "stream",
     "text": [
      "Batch calculation at epoch 29.: 4295it [03:32, 20.17it/s]\n"
     ]
    },
    {
     "name": "stdout",
     "output_type": "stream",
     "text": [
      "=======================================\n",
      "End of epoch 29\n",
      "=======================================\n",
      "Running average global loss: 1.349698757454753 (over last 1600 batches)\n",
      "Running average activity prediction loss: 0.8611825562641025 (Cross Entropy over last 1600 batches)\n",
      "Running average (complete) remaining runtime prediction loss: 0.48851620076224206 (MAE over last 1600 batches)\n"
     ]
    },
    {
     "name": "stderr",
     "output_type": "stream",
     "text": [
      "Validation batch calculation: 40it [00:25,  1.57it/s]\n"
     ]
    },
    {
     "name": "stdout",
     "output_type": "stream",
     "text": [
      "Avg 1-(normalized) DL distance acitivty suffix prediction validation set: 0.8421193212270737\n",
      "Percentage of suffixes predicted to END: too early - 0.2891882241402662 ; right moment - 0.6335742516960735 ; too late - 0.07723752416366032\n",
      "Too early instances - avg amount of events too early: 1.6371183395385742\n",
      "Too late instances - avg amount of events too late: 2.9767258167266846\n",
      "Avg absolute amount of events predicted too early / too late: 0.7033502459526062\n",
      "Avg MAE TTNE prediction validation set: 17733.302083333332 (minutes)'\n",
      "Avg MAE RRT prediction validation set: 0.612548291683197 (standardized) ; 33428.010416666664 (minutes)'\n",
      "Avg validation loss: 1.4948210716247559\n",
      " \n",
      "------------------------------------\n",
      "EPOCH 30:\n",
      "____________________________________\n"
     ]
    },
    {
     "name": "stderr",
     "output_type": "stream",
     "text": [
      "Batch calculation at epoch 30.: 1601it [01:00, 19.01it/s]"
     ]
    },
    {
     "name": "stdout",
     "output_type": "stream",
     "text": [
      "------------------------------------------------------------\n",
      "Epoch 30, batch 1599:\n",
      "Average original gradient norm: 0.4546344325132668 (over last 1600 batches)\n",
      "Average clipped gradient norm: 0.4546344325132668 (over last 1600 batches)\n",
      "Running average global loss: 1.3466379749029875 (over last 1600 batches)\n",
      "Running average activity prediction loss: 0.8582063192874193 (Cross Entropy over last 1600 batches)\n",
      "Running average (complete) remaining runtime prediction loss: 0.4884316564165056 (MAE over last 1600 batches)\n",
      "------------------------------------------------------------\n"
     ]
    },
    {
     "name": "stderr",
     "output_type": "stream",
     "text": [
      "Batch calculation at epoch 30.: 3203it [02:13, 29.11it/s]"
     ]
    },
    {
     "name": "stdout",
     "output_type": "stream",
     "text": [
      "------------------------------------------------------------\n",
      "Epoch 30, batch 3199:\n",
      "Average original gradient norm: 0.45676772729493675 (over last 1600 batches)\n",
      "Average clipped gradient norm: 0.45676772729493675 (over last 1600 batches)\n",
      "Running average global loss: 1.3483665186166762 (over last 1600 batches)\n",
      "Running average activity prediction loss: 0.8591839653253556 (Cross Entropy over last 1600 batches)\n",
      "Running average (complete) remaining runtime prediction loss: 0.489182553216815 (MAE over last 1600 batches)\n",
      "------------------------------------------------------------\n"
     ]
    },
    {
     "name": "stderr",
     "output_type": "stream",
     "text": [
      "Batch calculation at epoch 30.: 4295it [03:20, 21.43it/s]\n"
     ]
    },
    {
     "name": "stdout",
     "output_type": "stream",
     "text": [
      "=======================================\n",
      "End of epoch 30\n",
      "=======================================\n",
      "Running average global loss: 1.3507701447606086 (over last 1600 batches)\n",
      "Running average activity prediction loss: 0.8631317619606853 (Cross Entropy over last 1600 batches)\n",
      "Running average (complete) remaining runtime prediction loss: 0.4876383821852505 (MAE over last 1600 batches)\n"
     ]
    },
    {
     "name": "stderr",
     "output_type": "stream",
     "text": [
      "Validation batch calculation: 40it [00:34,  1.17it/s]\n"
     ]
    },
    {
     "name": "stdout",
     "output_type": "stream",
     "text": [
      "Avg 1-(normalized) DL distance acitivty suffix prediction validation set: 0.841742530465126\n",
      "Percentage of suffixes predicted to END: too early - 0.2897792334117241 ; right moment - 0.6328108647204403 ; too late - 0.07740990186783556\n",
      "Too early instances - avg amount of events too early: 1.6397705078125\n",
      "Too late instances - avg amount of events too late: 3.0057260990142822\n",
      "Avg absolute amount of events predicted too early / too late: 0.7078443765640259\n",
      "Avg MAE TTNE prediction validation set: 17579.666666666668 (minutes)'\n",
      "Avg MAE RRT prediction validation set: 0.6156216859817505 (standardized) ; 33597.839583333334 (minutes)'\n",
      "Avg validation loss: 1.4962100982666016\n",
      " \n",
      "------------------------------------\n",
      "EPOCH 31:\n",
      "____________________________________\n"
     ]
    },
    {
     "name": "stderr",
     "output_type": "stream",
     "text": [
      "Batch calculation at epoch 31.: 1602it [01:35, 15.44it/s]"
     ]
    },
    {
     "name": "stdout",
     "output_type": "stream",
     "text": [
      "------------------------------------------------------------\n",
      "Epoch 31, batch 1599:\n",
      "Average original gradient norm: 0.44916609157808124 (over last 1600 batches)\n",
      "Average clipped gradient norm: 0.44916609157808124 (over last 1600 batches)\n",
      "Running average global loss: 1.347738742530346 (over last 1600 batches)\n",
      "Running average activity prediction loss: 0.8594403848424554 (Cross Entropy over last 1600 batches)\n",
      "Running average (complete) remaining runtime prediction loss: 0.48829835809767247 (MAE over last 1600 batches)\n",
      "------------------------------------------------------------\n"
     ]
    },
    {
     "name": "stderr",
     "output_type": "stream",
     "text": [
      "Batch calculation at epoch 31.: 3202it [03:24, 14.60it/s]"
     ]
    },
    {
     "name": "stdout",
     "output_type": "stream",
     "text": [
      "------------------------------------------------------------\n",
      "Epoch 31, batch 3199:\n",
      "Average original gradient norm: 0.44559421164914964 (over last 1600 batches)\n",
      "Average clipped gradient norm: 0.4452868441306055 (over last 1600 batches)\n",
      "Running average global loss: 1.3485327842086554 (over last 1600 batches)\n",
      "Running average activity prediction loss: 0.8603977831453085 (Cross Entropy over last 1600 batches)\n",
      "Running average (complete) remaining runtime prediction loss: 0.48813500214368105 (MAE over last 1600 batches)\n",
      "------------------------------------------------------------\n"
     ]
    },
    {
     "name": "stderr",
     "output_type": "stream",
     "text": [
      "Batch calculation at epoch 31.: 4295it [04:42, 15.18it/s]\n"
     ]
    },
    {
     "name": "stdout",
     "output_type": "stream",
     "text": [
      "=======================================\n",
      "End of epoch 31\n",
      "=======================================\n",
      "Running average global loss: 1.351775869652629 (over last 1600 batches)\n",
      "Running average activity prediction loss: 0.8623926776275038 (Cross Entropy over last 1600 batches)\n",
      "Running average (complete) remaining runtime prediction loss: 0.48938319377601147 (MAE over last 1600 batches)\n"
     ]
    },
    {
     "name": "stderr",
     "output_type": "stream",
     "text": [
      "Validation batch calculation: 40it [00:50,  1.27s/it]\n"
     ]
    },
    {
     "name": "stdout",
     "output_type": "stream",
     "text": [
      "Avg 1-(normalized) DL distance acitivty suffix prediction validation set: 0.8362855017185211\n",
      "Percentage of suffixes predicted to END: too early - 0.2892374749128877 ; right moment - 0.6324537966189344 ; too late - 0.07830872846817784\n",
      "Too early instances - avg amount of events too early: 1.647013783454895\n",
      "Too late instances - avg amount of events too late: 2.984591245651245\n",
      "Avg absolute amount of events predicted too early / too late: 0.71009761095047\n",
      "Avg MAE TTNE prediction validation set: 17702.6625 (minutes)'\n",
      "Avg MAE RRT prediction validation set: 0.6161622405052185 (standardized) ; 33626.32916666667 (minutes)'\n",
      "Avg validation loss: 1.4984325170516968\n",
      " \n",
      "------------------------------------\n",
      "EPOCH 32:\n",
      "____________________________________\n"
     ]
    },
    {
     "name": "stderr",
     "output_type": "stream",
     "text": [
      "Batch calculation at epoch 32.: 1603it [01:59, 14.56it/s]"
     ]
    },
    {
     "name": "stdout",
     "output_type": "stream",
     "text": [
      "------------------------------------------------------------\n",
      "Epoch 32, batch 1599:\n",
      "Average original gradient norm: 0.44956694192253055 (over last 1600 batches)\n",
      "Average clipped gradient norm: 0.44956694192253055 (over last 1600 batches)\n",
      "Running average global loss: 1.3506016417592763 (over last 1600 batches)\n",
      "Running average activity prediction loss: 0.8615936404466629 (Cross Entropy over last 1600 batches)\n",
      "Running average (complete) remaining runtime prediction loss: 0.4890080016665161 (MAE over last 1600 batches)\n",
      "------------------------------------------------------------\n"
     ]
    },
    {
     "name": "stderr",
     "output_type": "stream",
     "text": [
      "Batch calculation at epoch 32.: 3201it [03:51, 10.87it/s]"
     ]
    },
    {
     "name": "stdout",
     "output_type": "stream",
     "text": [
      "------------------------------------------------------------\n",
      "Epoch 32, batch 3199:\n",
      "Average original gradient norm: 0.45518435498699544 (over last 1600 batches)\n",
      "Average clipped gradient norm: 0.45518435498699544 (over last 1600 batches)\n",
      "Running average global loss: 1.3464460162073373 (over last 1600 batches)\n",
      "Running average activity prediction loss: 0.8598503432795406 (Cross Entropy over last 1600 batches)\n",
      "Running average (complete) remaining runtime prediction loss: 0.48659567434340717 (MAE over last 1600 batches)\n",
      "------------------------------------------------------------\n"
     ]
    },
    {
     "name": "stderr",
     "output_type": "stream",
     "text": [
      "Batch calculation at epoch 32.: 4295it [05:03, 14.17it/s]\n"
     ]
    },
    {
     "name": "stdout",
     "output_type": "stream",
     "text": [
      "=======================================\n",
      "End of epoch 32\n",
      "=======================================\n",
      "Running average global loss: 1.347142021842301 (over last 1600 batches)\n",
      "Running average activity prediction loss: 0.8590461303666234 (Cross Entropy over last 1600 batches)\n",
      "Running average (complete) remaining runtime prediction loss: 0.48809589287266136 (MAE over last 1600 batches)\n"
     ]
    },
    {
     "name": "stderr",
     "output_type": "stream",
     "text": [
      "Validation batch calculation: 40it [00:30,  1.33it/s]\n"
     ]
    },
    {
     "name": "stdout",
     "output_type": "stream",
     "text": [
      "Avg 1-(normalized) DL distance acitivty suffix prediction validation set: 0.8418358564376831\n",
      "Percentage of suffixes predicted to END: too early - 0.29284509400741227 ; right moment - 0.6341406355812207 ; too late - 0.07301427041136707\n",
      "Too early instances - avg amount of events too early: 1.6526235342025757\n",
      "Too late instances - avg amount of events too late: 2.9338955879211426\n",
      "Avg absolute amount of events predicted too early / too late: 0.6981789469718933\n",
      "Avg MAE TTNE prediction validation set: 17566.670833333334 (minutes)'\n",
      "Avg MAE RRT prediction validation set: 0.6193819642066956 (standardized) ; 33801.10833333333 (minutes)'\n",
      "Avg validation loss: 1.499162197113037\n",
      " \n",
      "------------------------------------\n",
      "EPOCH 33:\n",
      "____________________________________\n"
     ]
    },
    {
     "name": "stderr",
     "output_type": "stream",
     "text": [
      "Batch calculation at epoch 33.: 1604it [01:10, 35.89it/s]"
     ]
    },
    {
     "name": "stdout",
     "output_type": "stream",
     "text": [
      "------------------------------------------------------------\n",
      "Epoch 33, batch 1599:\n",
      "Average original gradient norm: 0.44736883068457245 (over last 1600 batches)\n",
      "Average clipped gradient norm: 0.44736883068457245 (over last 1600 batches)\n",
      "Running average global loss: 1.3479626019299031 (over last 1600 batches)\n",
      "Running average activity prediction loss: 0.8590123677253723 (Cross Entropy over last 1600 batches)\n",
      "Running average (complete) remaining runtime prediction loss: 0.4889502339437604 (MAE over last 1600 batches)\n",
      "------------------------------------------------------------\n"
     ]
    },
    {
     "name": "stderr",
     "output_type": "stream",
     "text": [
      "Batch calculation at epoch 33.: 3203it [02:07, 14.82it/s]"
     ]
    },
    {
     "name": "stdout",
     "output_type": "stream",
     "text": [
      "------------------------------------------------------------\n",
      "Epoch 33, batch 3199:\n",
      "Average original gradient norm: 0.4550619446672499 (over last 1600 batches)\n",
      "Average clipped gradient norm: 0.4550619446672499 (over last 1600 batches)\n",
      "Running average global loss: 1.3494001012295485 (over last 1600 batches)\n",
      "Running average activity prediction loss: 0.8624922151118517 (Cross Entropy over last 1600 batches)\n",
      "Running average (complete) remaining runtime prediction loss: 0.48690788498148324 (MAE over last 1600 batches)\n",
      "------------------------------------------------------------\n"
     ]
    },
    {
     "name": "stderr",
     "output_type": "stream",
     "text": [
      "Batch calculation at epoch 33.: 4295it [03:39, 19.57it/s]\n"
     ]
    },
    {
     "name": "stdout",
     "output_type": "stream",
     "text": [
      "=======================================\n",
      "End of epoch 33\n",
      "=======================================\n",
      "Running average global loss: 1.3461110653728248 (over last 1600 batches)\n",
      "Running average activity prediction loss: 0.859139275290072 (Cross Entropy over last 1600 batches)\n",
      "Running average (complete) remaining runtime prediction loss: 0.48697179071605207 (MAE over last 1600 batches)\n"
     ]
    },
    {
     "name": "stderr",
     "output_type": "stream",
     "text": [
      "Validation batch calculation: 40it [00:39,  1.01it/s]\n"
     ]
    },
    {
     "name": "stdout",
     "output_type": "stream",
     "text": [
      "Avg 1-(normalized) DL distance acitivty suffix prediction validation set: 0.8407613784074783\n",
      "Percentage of suffixes predicted to END: too early - 0.2907765615573094 ; right moment - 0.6325892362436436 ; too late - 0.076634202199047\n",
      "Too early instances - avg amount of events too early: 1.6447747945785522\n",
      "Too late instances - avg amount of events too late: 3.020404815673828\n",
      "Avg absolute amount of events predicted too early / too late: 0.7097282409667969\n",
      "Avg MAE TTNE prediction validation set: 17868.466666666667 (minutes)'\n",
      "Avg MAE RRT prediction validation set: 0.6128182411193848 (standardized) ; 33441.81458333333 (minutes)'\n",
      "Avg validation loss: 1.500113606452942\n",
      " \n",
      "------------------------------------\n",
      "EPOCH 34:\n",
      "____________________________________\n"
     ]
    },
    {
     "name": "stderr",
     "output_type": "stream",
     "text": [
      "Batch calculation at epoch 34.: 1600it [01:38, 15.18it/s]"
     ]
    },
    {
     "name": "stdout",
     "output_type": "stream",
     "text": [
      "------------------------------------------------------------\n",
      "Epoch 34, batch 1599:\n",
      "Average original gradient norm: 0.4484753618855029 (over last 1600 batches)\n",
      "Average clipped gradient norm: 0.4484753618855029 (over last 1600 batches)\n",
      "Running average global loss: 1.347431995049119 (over last 1600 batches)\n",
      "Running average activity prediction loss: 0.8599399105086922 (Cross Entropy over last 1600 batches)\n",
      "Running average (complete) remaining runtime prediction loss: 0.48749208433553576 (MAE over last 1600 batches)\n",
      "------------------------------------------------------------\n"
     ]
    },
    {
     "name": "stderr",
     "output_type": "stream",
     "text": [
      "Batch calculation at epoch 34.: 3201it [04:32,  9.11it/s]"
     ]
    },
    {
     "name": "stdout",
     "output_type": "stream",
     "text": [
      "------------------------------------------------------------\n",
      "Epoch 34, batch 3199:\n",
      "Average original gradient norm: 0.44789052683860064 (over last 1600 batches)\n",
      "Average clipped gradient norm: 0.44789052683860064 (over last 1600 batches)\n",
      "Running average global loss: 1.3482456306368114 (over last 1600 batches)\n",
      "Running average activity prediction loss: 0.8602581407502293 (Cross Entropy over last 1600 batches)\n",
      "Running average (complete) remaining runtime prediction loss: 0.4879874889925122 (MAE over last 1600 batches)\n",
      "------------------------------------------------------------\n"
     ]
    },
    {
     "name": "stderr",
     "output_type": "stream",
     "text": [
      "Batch calculation at epoch 34.: 4295it [06:29, 11.02it/s]\n"
     ]
    },
    {
     "name": "stdout",
     "output_type": "stream",
     "text": [
      "=======================================\n",
      "End of epoch 34\n",
      "=======================================\n",
      "Running average global loss: 1.3485521561279894 (over last 1600 batches)\n",
      "Running average activity prediction loss: 0.8609611920267344 (Cross Entropy over last 1600 batches)\n",
      "Running average (complete) remaining runtime prediction loss: 0.48759096544235947 (MAE over last 1600 batches)\n"
     ]
    },
    {
     "name": "stderr",
     "output_type": "stream",
     "text": [
      "Validation batch calculation: 40it [00:33,  1.20it/s]\n"
     ]
    },
    {
     "name": "stdout",
     "output_type": "stream",
     "text": [
      "Avg 1-(normalized) DL distance acitivty suffix prediction validation set: 0.8420981913805008\n",
      "Percentage of suffixes predicted to END: too early - 0.2910474408067277 ; right moment - 0.6331556201287908 ; too late - 0.07579693906448158\n",
      "Too early instances - avg amount of events too early: 1.6465437412261963\n",
      "Too late instances - avg amount of events too late: 2.9506173133850098\n",
      "Avg absolute amount of events predicted too early / too late: 0.7028700709342957\n",
      "Avg MAE TTNE prediction validation set: 17775.485416666666 (minutes)'\n",
      "Avg MAE RRT prediction validation set: 0.6125861406326294 (standardized) ; 33431.385416666664 (minutes)'\n",
      "Avg validation loss: 1.4987536668777466\n",
      " \n",
      "------------------------------------\n",
      "EPOCH 35:\n",
      "____________________________________\n"
     ]
    },
    {
     "name": "stderr",
     "output_type": "stream",
     "text": [
      "Batch calculation at epoch 35.: 1602it [01:24, 10.61it/s]"
     ]
    },
    {
     "name": "stdout",
     "output_type": "stream",
     "text": [
      "------------------------------------------------------------\n",
      "Epoch 35, batch 1599:\n",
      "Average original gradient norm: 0.4477989408094436 (over last 1600 batches)\n",
      "Average clipped gradient norm: 0.4477989408094436 (over last 1600 batches)\n",
      "Running average global loss: 1.3411836104094983 (over last 1600 batches)\n",
      "Running average activity prediction loss: 0.8549300972744822 (Cross Entropy over last 1600 batches)\n",
      "Running average (complete) remaining runtime prediction loss: 0.48625351216644047 (MAE over last 1600 batches)\n",
      "------------------------------------------------------------\n"
     ]
    },
    {
     "name": "stderr",
     "output_type": "stream",
     "text": [
      "Batch calculation at epoch 35.: 3201it [04:25,  9.35it/s]"
     ]
    },
    {
     "name": "stdout",
     "output_type": "stream",
     "text": [
      "------------------------------------------------------------\n",
      "Epoch 35, batch 3199:\n",
      "Average original gradient norm: 0.45357409552671013 (over last 1600 batches)\n",
      "Average clipped gradient norm: 0.45357409552671013 (over last 1600 batches)\n",
      "Running average global loss: 1.347287775054574 (over last 1600 batches)\n",
      "Running average activity prediction loss: 0.8601744656264781 (Cross Entropy over last 1600 batches)\n",
      "Running average (complete) remaining runtime prediction loss: 0.48711330857127905 (MAE over last 1600 batches)\n",
      "------------------------------------------------------------\n"
     ]
    },
    {
     "name": "stderr",
     "output_type": "stream",
     "text": [
      "Batch calculation at epoch 35.: 4295it [05:53, 12.16it/s]\n"
     ]
    },
    {
     "name": "stdout",
     "output_type": "stream",
     "text": [
      "=======================================\n",
      "End of epoch 35\n",
      "=======================================\n",
      "Running average global loss: 1.352785854563117 (over last 1600 batches)\n",
      "Running average activity prediction loss: 0.8638513571023941 (Cross Entropy over last 1600 batches)\n",
      "Running average (complete) remaining runtime prediction loss: 0.48893449682742357 (MAE over last 1600 batches)\n"
     ]
    },
    {
     "name": "stderr",
     "output_type": "stream",
     "text": [
      "Validation batch calculation: 40it [00:29,  1.34it/s]\n"
     ]
    },
    {
     "name": "stdout",
     "output_type": "stream",
     "text": [
      "Avg 1-(normalized) DL distance acitivty suffix prediction validation set: 0.8379873782396317\n",
      "Percentage of suffixes predicted to END: too early - 0.2925619020648386 ; right moment - 0.6337958801728703 ; too late - 0.07364221776229114\n",
      "Too early instances - avg amount of events too early: 1.6504356861114502\n",
      "Too late instances - avg amount of events too late: 2.89500093460083\n",
      "Avg absolute amount of events predicted too early / too late: 0.6960488557815552\n",
      "Avg MAE TTNE prediction validation set: 17741.48125 (minutes)'\n",
      "Avg MAE RRT prediction validation set: 0.6178920865058899 (standardized) ; 33719.07083333333 (minutes)'\n",
      "Avg validation loss: 1.4999548196792603\n",
      " \n",
      "------------------------------------\n",
      "EPOCH 36:\n",
      "____________________________________\n"
     ]
    },
    {
     "name": "stderr",
     "output_type": "stream",
     "text": [
      "Batch calculation at epoch 36.: 1602it [01:33, 21.22it/s]"
     ]
    },
    {
     "name": "stdout",
     "output_type": "stream",
     "text": [
      "------------------------------------------------------------\n",
      "Epoch 36, batch 1599:\n",
      "Average original gradient norm: 0.44419575403444467 (over last 1600 batches)\n",
      "Average clipped gradient norm: 0.44419575403444467 (over last 1600 batches)\n",
      "Running average global loss: 1.3470928750932216 (over last 1600 batches)\n",
      "Running average activity prediction loss: 0.8597733012959361 (Cross Entropy over last 1600 batches)\n",
      "Running average (complete) remaining runtime prediction loss: 0.487319572661072 (MAE over last 1600 batches)\n",
      "------------------------------------------------------------\n"
     ]
    },
    {
     "name": "stderr",
     "output_type": "stream",
     "text": [
      "Batch calculation at epoch 36.: 3202it [03:34,  9.67it/s]"
     ]
    },
    {
     "name": "stdout",
     "output_type": "stream",
     "text": [
      "------------------------------------------------------------\n",
      "Epoch 36, batch 3199:\n",
      "Average original gradient norm: 0.4496725635975599 (over last 1600 batches)\n",
      "Average clipped gradient norm: 0.4496725635975599 (over last 1600 batches)\n",
      "Running average global loss: 1.3468967201933264 (over last 1600 batches)\n",
      "Running average activity prediction loss: 0.8585455300658942 (Cross Entropy over last 1600 batches)\n",
      "Running average (complete) remaining runtime prediction loss: 0.48835118951275946 (MAE over last 1600 batches)\n",
      "------------------------------------------------------------\n"
     ]
    },
    {
     "name": "stderr",
     "output_type": "stream",
     "text": [
      "Batch calculation at epoch 36.: 4295it [04:44, 15.08it/s]\n"
     ]
    },
    {
     "name": "stdout",
     "output_type": "stream",
     "text": [
      "=======================================\n",
      "End of epoch 36\n",
      "=======================================\n",
      "Running average global loss: 1.3464817693829536 (over last 1600 batches)\n",
      "Running average activity prediction loss: 0.8601083217188716 (Cross Entropy over last 1600 batches)\n",
      "Running average (complete) remaining runtime prediction loss: 0.4863734480366111 (MAE over last 1600 batches)\n"
     ]
    },
    {
     "name": "stderr",
     "output_type": "stream",
     "text": [
      "Validation batch calculation: 40it [00:33,  1.20it/s]\n"
     ]
    },
    {
     "name": "stdout",
     "output_type": "stream",
     "text": [
      "Avg 1-(normalized) DL distance acitivty suffix prediction validation set: 0.8422448486089706\n",
      "Percentage of suffixes predicted to END: too early - 0.29514756762746713 ; right moment - 0.6345346417621927 ; too late - 0.0703177906103402\n",
      "Too early instances - avg amount of events too early: 1.6572107076644897\n",
      "Too late instances - avg amount of events too late: 2.9576256275177\n",
      "Avg absolute amount of events predicted too early / too late: 0.6970953941345215\n",
      "Avg MAE TTNE prediction validation set: 17467.35625 (minutes)'\n",
      "Avg MAE RRT prediction validation set: 0.6245666146278381 (standardized) ; 34085.410416666666 (minutes)'\n",
      "Avg validation loss: 1.504700779914856\n",
      " \n",
      "------------------------------------\n",
      "EPOCH 37:\n",
      "____________________________________\n"
     ]
    },
    {
     "name": "stderr",
     "output_type": "stream",
     "text": [
      "Batch calculation at epoch 37.: 1602it [01:22, 14.00it/s]"
     ]
    },
    {
     "name": "stdout",
     "output_type": "stream",
     "text": [
      "------------------------------------------------------------\n",
      "Epoch 37, batch 1599:\n",
      "Average original gradient norm: 0.45032362451776864 (over last 1600 batches)\n",
      "Average clipped gradient norm: 0.45032362451776864 (over last 1600 batches)\n",
      "Running average global loss: 1.346547623835504 (over last 1600 batches)\n",
      "Running average activity prediction loss: 0.8583092424646019 (Cross Entropy over last 1600 batches)\n",
      "Running average (complete) remaining runtime prediction loss: 0.48823838073760273 (MAE over last 1600 batches)\n",
      "------------------------------------------------------------\n"
     ]
    },
    {
     "name": "stderr",
     "output_type": "stream",
     "text": [
      "Batch calculation at epoch 37.: 3203it [02:33, 18.18it/s]"
     ]
    },
    {
     "name": "stdout",
     "output_type": "stream",
     "text": [
      "------------------------------------------------------------\n",
      "Epoch 37, batch 3199:\n",
      "Average original gradient norm: 0.45123159603215757 (over last 1600 batches)\n",
      "Average clipped gradient norm: 0.45123159603215757 (over last 1600 batches)\n",
      "Running average global loss: 1.345806765370071 (over last 1600 batches)\n",
      "Running average activity prediction loss: 0.8598389621824026 (Cross Entropy over last 1600 batches)\n",
      "Running average (complete) remaining runtime prediction loss: 0.48596780333667994 (MAE over last 1600 batches)\n",
      "------------------------------------------------------------\n"
     ]
    },
    {
     "name": "stderr",
     "output_type": "stream",
     "text": [
      "Batch calculation at epoch 37.: 4295it [03:37, 19.73it/s]\n"
     ]
    },
    {
     "name": "stdout",
     "output_type": "stream",
     "text": [
      "=======================================\n",
      "End of epoch 37\n",
      "=======================================\n",
      "Running average global loss: 1.3494742960110306 (over last 1600 batches)\n",
      "Running average activity prediction loss: 0.8623048612475395 (Cross Entropy over last 1600 batches)\n",
      "Running average (complete) remaining runtime prediction loss: 0.4871694350801408 (MAE over last 1600 batches)\n"
     ]
    },
    {
     "name": "stderr",
     "output_type": "stream",
     "text": [
      "Validation batch calculation: 40it [00:35,  1.14it/s]\n"
     ]
    },
    {
     "name": "stdout",
     "output_type": "stream",
     "text": [
      "Avg 1-(normalized) DL distance acitivty suffix prediction validation set: 0.8427258133888245\n",
      "Percentage of suffixes predicted to END: too early - 0.29485206299173816 ; right moment - 0.633525000923452 ; too late - 0.07162293608480982\n",
      "Too early instances - avg amount of events too early: 1.6593310832977295\n",
      "Too late instances - avg amount of events too late: 2.8523294925689697\n",
      "Avg absolute amount of events predicted too early / too late: 0.693549394607544\n",
      "Avg MAE TTNE prediction validation set: 17738.660416666666 (minutes)'\n",
      "Avg MAE RRT prediction validation set: 0.616285502910614 (standardized) ; 33623.4 (minutes)'\n",
      "Avg validation loss: 1.5019418001174927\n",
      " \n",
      "------------------------------------\n",
      "EPOCH 38:\n",
      "____________________________________\n"
     ]
    },
    {
     "name": "stderr",
     "output_type": "stream",
     "text": [
      "Batch calculation at epoch 38.: 1601it [01:45, 14.98it/s]"
     ]
    },
    {
     "name": "stdout",
     "output_type": "stream",
     "text": [
      "------------------------------------------------------------\n",
      "Epoch 38, batch 1599:\n",
      "Average original gradient norm: 0.45214684509672226 (over last 1600 batches)\n",
      "Average clipped gradient norm: 0.45214684509672226 (over last 1600 batches)\n",
      "Running average global loss: 1.3427837186306715 (over last 1600 batches)\n",
      "Running average activity prediction loss: 0.8564617168158293 (Cross Entropy over last 1600 batches)\n",
      "Running average (complete) remaining runtime prediction loss: 0.48632200315594676 (MAE over last 1600 batches)\n",
      "------------------------------------------------------------\n"
     ]
    },
    {
     "name": "stderr",
     "output_type": "stream",
     "text": [
      "Batch calculation at epoch 38.: 3201it [03:18,  8.53it/s]"
     ]
    },
    {
     "name": "stdout",
     "output_type": "stream",
     "text": [
      "------------------------------------------------------------\n",
      "Epoch 38, batch 3199:\n",
      "Average original gradient norm: 0.4517077394388616 (over last 1600 batches)\n",
      "Average clipped gradient norm: 0.4517077394388616 (over last 1600 batches)\n",
      "Running average global loss: 1.3470205703005194 (over last 1600 batches)\n",
      "Running average activity prediction loss: 0.8594493973255157 (Cross Entropy over last 1600 batches)\n",
      "Running average (complete) remaining runtime prediction loss: 0.48757117286324503 (MAE over last 1600 batches)\n",
      "------------------------------------------------------------\n"
     ]
    },
    {
     "name": "stderr",
     "output_type": "stream",
     "text": [
      "Batch calculation at epoch 38.: 4295it [05:12, 13.74it/s]\n"
     ]
    },
    {
     "name": "stdout",
     "output_type": "stream",
     "text": [
      "=======================================\n",
      "End of epoch 38\n",
      "=======================================\n",
      "Running average global loss: 1.348133282698691 (over last 1600 batches)\n",
      "Running average activity prediction loss: 0.8597196348011493 (Cross Entropy over last 1600 batches)\n",
      "Running average (complete) remaining runtime prediction loss: 0.4884136476367712 (MAE over last 1600 batches)\n"
     ]
    },
    {
     "name": "stderr",
     "output_type": "stream",
     "text": [
      "Validation batch calculation: 40it [00:28,  1.40it/s]\n"
     ]
    },
    {
     "name": "stdout",
     "output_type": "stream",
     "text": [
      "Avg 1-(normalized) DL distance acitivty suffix prediction validation set: 0.8365043252706528\n",
      "Percentage of suffixes predicted to END: too early - 0.29161382469187486 ; right moment - 0.6330817439698585 ; too late - 0.07530443133826661\n",
      "Too early instances - avg amount of events too early: 1.6563080549240112\n",
      "Too late instances - avg amount of events too late: 2.956834316253662\n",
      "Avg absolute amount of events predicted too early / too late: 0.7056650519371033\n",
      "Avg MAE TTNE prediction validation set: 17694.804166666665 (minutes)'\n",
      "Avg MAE RRT prediction validation set: 0.6202348470687866 (standardized) ; 33845.04791666667 (minutes)'\n",
      "Avg validation loss: 1.505462408065796\n",
      " \n",
      "------------------------------------\n",
      "EPOCH 39:\n",
      "____________________________________\n"
     ]
    },
    {
     "name": "stderr",
     "output_type": "stream",
     "text": [
      "Batch calculation at epoch 39.: 1603it [01:18, 15.57it/s]"
     ]
    },
    {
     "name": "stdout",
     "output_type": "stream",
     "text": [
      "------------------------------------------------------------\n",
      "Epoch 39, batch 1599:\n",
      "Average original gradient norm: 0.45208400627598166 (over last 1600 batches)\n",
      "Average clipped gradient norm: 0.45208400627598166 (over last 1600 batches)\n",
      "Running average global loss: 1.3404089667648078 (over last 1600 batches)\n",
      "Running average activity prediction loss: 0.854918360337615 (Cross Entropy over last 1600 batches)\n",
      "Running average (complete) remaining runtime prediction loss: 0.4854906056262553 (MAE over last 1600 batches)\n",
      "------------------------------------------------------------\n"
     ]
    },
    {
     "name": "stderr",
     "output_type": "stream",
     "text": [
      "Batch calculation at epoch 39.: 3200it [03:33,  5.77it/s]"
     ]
    },
    {
     "name": "stdout",
     "output_type": "stream",
     "text": [
      "------------------------------------------------------------\n",
      "Epoch 39, batch 3199:\n",
      "Average original gradient norm: 0.44906245813705026 (over last 1600 batches)\n",
      "Average clipped gradient norm: 0.44906245813705026 (over last 1600 batches)\n",
      "Running average global loss: 1.3489456930011512 (over last 1600 batches)\n",
      "Running average activity prediction loss: 0.8606479482725262 (Cross Entropy over last 1600 batches)\n",
      "Running average (complete) remaining runtime prediction loss: 0.48829774467274545 (MAE over last 1600 batches)\n",
      "------------------------------------------------------------\n"
     ]
    },
    {
     "name": "stderr",
     "output_type": "stream",
     "text": [
      "Batch calculation at epoch 39.: 4295it [04:42, 15.19it/s]\n"
     ]
    },
    {
     "name": "stdout",
     "output_type": "stream",
     "text": [
      "=======================================\n",
      "End of epoch 39\n",
      "=======================================\n",
      "Running average global loss: 1.3467992359399796 (over last 1600 batches)\n",
      "Running average activity prediction loss: 0.8597515156492591 (Cross Entropy over last 1600 batches)\n",
      "Running average (complete) remaining runtime prediction loss: 0.4870477185957134 (MAE over last 1600 batches)\n"
     ]
    },
    {
     "name": "stderr",
     "output_type": "stream",
     "text": [
      "Validation batch calculation: 40it [00:40,  1.00s/it]\n"
     ]
    },
    {
     "name": "stdout",
     "output_type": "stream",
     "text": [
      "Avg 1-(normalized) DL distance acitivty suffix prediction validation set: 0.8370727300643921\n",
      "Percentage of suffixes predicted to END: too early - 0.29128138197667974 ; right moment - 0.6327739266409742 ; too late - 0.07594469138234607\n",
      "Too early instances - avg amount of events too early: 1.6486451625823975\n",
      "Too late instances - avg amount of events too late: 2.987840414047241\n",
      "Avg absolute amount of events predicted too early / too late: 0.7071302533149719\n",
      "Avg MAE TTNE prediction validation set: 17749.264583333334 (minutes)'\n",
      "Avg MAE RRT prediction validation set: 0.612261176109314 (standardized) ; 33415.370833333334 (minutes)'\n",
      "Avg validation loss: 1.4998183250427246\n",
      " \n",
      "------------------------------------\n",
      "EPOCH 40:\n",
      "____________________________________\n"
     ]
    },
    {
     "name": "stderr",
     "output_type": "stream",
     "text": [
      "Batch calculation at epoch 40.: 1609it [01:00, 51.55it/s]"
     ]
    },
    {
     "name": "stdout",
     "output_type": "stream",
     "text": [
      "------------------------------------------------------------\n",
      "Epoch 40, batch 1599:\n",
      "Average original gradient norm: 0.44638097727671266 (over last 1600 batches)\n",
      "Average clipped gradient norm: 0.44638097727671266 (over last 1600 batches)\n",
      "Running average global loss: 1.343668943271041 (over last 1600 batches)\n",
      "Running average activity prediction loss: 0.8572557261586189 (Cross Entropy over last 1600 batches)\n",
      "Running average (complete) remaining runtime prediction loss: 0.4864132167771459 (MAE over last 1600 batches)\n",
      "------------------------------------------------------------\n"
     ]
    },
    {
     "name": "stderr",
     "output_type": "stream",
     "text": [
      "Batch calculation at epoch 40.: 3203it [02:01, 27.48it/s]"
     ]
    },
    {
     "name": "stdout",
     "output_type": "stream",
     "text": [
      "------------------------------------------------------------\n",
      "Epoch 40, batch 3199:\n",
      "Average original gradient norm: 0.4480427881423384 (over last 1600 batches)\n",
      "Average clipped gradient norm: 0.4480427881423384 (over last 1600 batches)\n",
      "Running average global loss: 1.3435792024806141 (over last 1600 batches)\n",
      "Running average activity prediction loss: 0.8567542196810245 (Cross Entropy over last 1600 batches)\n",
      "Running average (complete) remaining runtime prediction loss: 0.48682498455047607 (MAE over last 1600 batches)\n",
      "------------------------------------------------------------\n"
     ]
    },
    {
     "name": "stderr",
     "output_type": "stream",
     "text": [
      "Batch calculation at epoch 40.: 4295it [02:50, 25.20it/s]\n"
     ]
    },
    {
     "name": "stdout",
     "output_type": "stream",
     "text": [
      "=======================================\n",
      "End of epoch 40\n",
      "=======================================\n",
      "Running average global loss: 1.3445079520344734 (over last 1600 batches)\n",
      "Running average activity prediction loss: 0.8582037969678641 (Cross Entropy over last 1600 batches)\n",
      "Running average (complete) remaining runtime prediction loss: 0.4863041567057371 (MAE over last 1600 batches)\n"
     ]
    },
    {
     "name": "stderr",
     "output_type": "stream",
     "text": [
      "Validation batch calculation: 40it [00:26,  1.48it/s]\n"
     ]
    },
    {
     "name": "stdout",
     "output_type": "stream",
     "text": [
      "Avg 1-(normalized) DL distance acitivty suffix prediction validation set: 0.8360487371683121\n",
      "Percentage of suffixes predicted to END: too early - 0.29071499809153256 ; right moment - 0.6323799204600022 ; too late - 0.07690508144846522\n",
      "Too early instances - avg amount of events too early: 1.6513913869857788\n",
      "Too late instances - avg amount of events too late: 2.9494078159332275\n",
      "Avg absolute amount of events predicted too early / too late: 0.706908643245697\n",
      "Avg MAE TTNE prediction validation set: 17838.066666666666 (minutes)'\n",
      "Avg MAE RRT prediction validation set: 0.6129794716835022 (standardized) ; 33453.85208333333 (minutes)'\n",
      "Avg validation loss: 1.5013651847839355\n",
      " \n",
      "------------------------------------\n",
      "EPOCH 41:\n",
      "____________________________________\n"
     ]
    },
    {
     "name": "stderr",
     "output_type": "stream",
     "text": [
      "Batch calculation at epoch 41.: 1608it [00:33, 51.00it/s]"
     ]
    },
    {
     "name": "stdout",
     "output_type": "stream",
     "text": [
      "------------------------------------------------------------\n",
      "Epoch 41, batch 1599:\n",
      "Average original gradient norm: 0.45045475034974514 (over last 1600 batches)\n",
      "Average clipped gradient norm: 0.45045475034974514 (over last 1600 batches)\n",
      "Running average global loss: 1.346079034768045 (over last 1600 batches)\n",
      "Running average activity prediction loss: 0.858381163738668 (Cross Entropy over last 1600 batches)\n",
      "Running average (complete) remaining runtime prediction loss: 0.48769787076860666 (MAE over last 1600 batches)\n",
      "------------------------------------------------------------\n"
     ]
    },
    {
     "name": "stderr",
     "output_type": "stream",
     "text": [
      "Batch calculation at epoch 41.: 3209it [01:04, 63.77it/s]"
     ]
    },
    {
     "name": "stdout",
     "output_type": "stream",
     "text": [
      "------------------------------------------------------------\n",
      "Epoch 41, batch 3199:\n",
      "Average original gradient norm: 0.4492637323774397 (over last 1600 batches)\n",
      "Average clipped gradient norm: 0.4492637323774397 (over last 1600 batches)\n",
      "Running average global loss: 1.348365202397108 (over last 1600 batches)\n",
      "Running average activity prediction loss: 0.8605644115805626 (Cross Entropy over last 1600 batches)\n",
      "Running average (complete) remaining runtime prediction loss: 0.48780079059302806 (MAE over last 1600 batches)\n",
      "------------------------------------------------------------\n"
     ]
    },
    {
     "name": "stderr",
     "output_type": "stream",
     "text": [
      "Batch calculation at epoch 41.: 4295it [01:49, 39.07it/s]\n"
     ]
    },
    {
     "name": "stdout",
     "output_type": "stream",
     "text": [
      "=======================================\n",
      "End of epoch 41\n",
      "=======================================\n",
      "Running average global loss: 1.3398405379801988 (over last 1600 batches)\n",
      "Running average activity prediction loss: 0.8548389727249741 (Cross Entropy over last 1600 batches)\n",
      "Running average (complete) remaining runtime prediction loss: 0.485001566670835 (MAE over last 1600 batches)\n"
     ]
    },
    {
     "name": "stderr",
     "output_type": "stream",
     "text": [
      "Validation batch calculation: 40it [00:43,  1.09s/it]\n"
     ]
    },
    {
     "name": "stdout",
     "output_type": "stream",
     "text": [
      "Avg 1-(normalized) DL distance acitivty suffix prediction validation set: 0.8422809988260269\n",
      "Percentage of suffixes predicted to END: too early - 0.2910474408067277 ; right moment - 0.6336111897755397 ; too late - 0.07534136941773274\n",
      "Too early instances - avg amount of events too early: 1.6465437412261963\n",
      "Too late instances - avg amount of events too late: 2.919921636581421\n",
      "Avg absolute amount of events predicted too early / too late: 0.6992132067680359\n",
      "Avg MAE TTNE prediction validation set: 17683.652083333334 (minutes)'\n",
      "Avg MAE RRT prediction validation set: 0.6166826486587524 (standardized) ; 33643.552083333336 (minutes)'\n",
      "Avg validation loss: 1.5007190704345703\n",
      " \n",
      "------------------------------------\n",
      "EPOCH 42:\n",
      "____________________________________\n"
     ]
    },
    {
     "name": "stderr",
     "output_type": "stream",
     "text": [
      "Batch calculation at epoch 42.: 1602it [01:15, 15.49it/s]"
     ]
    },
    {
     "name": "stdout",
     "output_type": "stream",
     "text": [
      "------------------------------------------------------------\n",
      "Epoch 42, batch 1599:\n",
      "Average original gradient norm: 0.44793123987503347 (over last 1600 batches)\n",
      "Average clipped gradient norm: 0.44793123987503347 (over last 1600 batches)\n",
      "Running average global loss: 1.3397016348689794 (over last 1600 batches)\n",
      "Running average activity prediction loss: 0.8548652935400605 (Cross Entropy over last 1600 batches)\n",
      "Running average (complete) remaining runtime prediction loss: 0.4848363408073783 (MAE over last 1600 batches)\n",
      "------------------------------------------------------------\n"
     ]
    },
    {
     "name": "stderr",
     "output_type": "stream",
     "text": [
      "Batch calculation at epoch 42.: 3206it [02:19, 47.30it/s]"
     ]
    },
    {
     "name": "stdout",
     "output_type": "stream",
     "text": [
      "------------------------------------------------------------\n",
      "Epoch 42, batch 3199:\n",
      "Average original gradient norm: 0.44171727476641537 (over last 1600 batches)\n",
      "Average clipped gradient norm: 0.44171727476641537 (over last 1600 batches)\n",
      "Running average global loss: 1.339579357430339 (over last 1600 batches)\n",
      "Running average activity prediction loss: 0.8546935201063752 (Cross Entropy over last 1600 batches)\n",
      "Running average (complete) remaining runtime prediction loss: 0.48488583670929075 (MAE over last 1600 batches)\n",
      "------------------------------------------------------------\n"
     ]
    },
    {
     "name": "stderr",
     "output_type": "stream",
     "text": [
      "Batch calculation at epoch 42.: 4295it [02:51, 25.01it/s]\n"
     ]
    },
    {
     "name": "stdout",
     "output_type": "stream",
     "text": [
      "=======================================\n",
      "End of epoch 42\n",
      "=======================================\n",
      "Running average global loss: 1.3366757591068745 (over last 1600 batches)\n",
      "Running average activity prediction loss: 0.8511049762740731 (Cross Entropy over last 1600 batches)\n",
      "Running average (complete) remaining runtime prediction loss: 0.48557078171521423 (MAE over last 1600 batches)\n"
     ]
    },
    {
     "name": "stderr",
     "output_type": "stream",
     "text": [
      "Validation batch calculation: 40it [00:39,  1.02it/s]\n"
     ]
    },
    {
     "name": "stdout",
     "output_type": "stream",
     "text": [
      "Avg 1-(normalized) DL distance acitivty suffix prediction validation set: 0.842650443315506\n",
      "Percentage of suffixes predicted to END: too early - 0.2922048339633328 ; right moment - 0.6347070194663679 ; too late - 0.07308814657029933\n",
      "Too early instances - avg amount of events too early: 1.6554441452026367\n",
      "Too late instances - avg amount of events too late: 2.969507932662964\n",
      "Avg absolute amount of events predicted too early / too late: 0.7007645964622498\n",
      "Avg MAE TTNE prediction validation set: 17695.56875 (minutes)'\n",
      "Avg MAE RRT prediction validation set: 0.6189398765563965 (standardized) ; 33775.59166666667 (minutes)'\n",
      "Avg validation loss: 1.500059962272644\n",
      " \n",
      "------------------------------------\n",
      "EPOCH 43:\n",
      "____________________________________\n"
     ]
    },
    {
     "name": "stderr",
     "output_type": "stream",
     "text": [
      "Batch calculation at epoch 43.: 1601it [01:00, 15.06it/s]"
     ]
    },
    {
     "name": "stdout",
     "output_type": "stream",
     "text": [
      "------------------------------------------------------------\n",
      "Epoch 43, batch 1599:\n",
      "Average original gradient norm: 0.4495559184066951 (over last 1600 batches)\n",
      "Average clipped gradient norm: 0.44937273574993014 (over last 1600 batches)\n",
      "Running average global loss: 1.334603235796094 (over last 1600 batches)\n",
      "Running average activity prediction loss: 0.8506040270626545 (Cross Entropy over last 1600 batches)\n",
      "Running average (complete) remaining runtime prediction loss: 0.4839992089755833 (MAE over last 1600 batches)\n",
      "------------------------------------------------------------\n"
     ]
    },
    {
     "name": "stderr",
     "output_type": "stream",
     "text": [
      "Batch calculation at epoch 43.: 3203it [02:30, 16.24it/s]"
     ]
    },
    {
     "name": "stdout",
     "output_type": "stream",
     "text": [
      "------------------------------------------------------------\n",
      "Epoch 43, batch 3199:\n",
      "Average original gradient norm: 0.44805297680199146 (over last 1600 batches)\n",
      "Average clipped gradient norm: 0.44805297680199146 (over last 1600 batches)\n",
      "Running average global loss: 1.3366697293519973 (over last 1600 batches)\n",
      "Running average activity prediction loss: 0.8523608278855681 (Cross Entropy over last 1600 batches)\n",
      "Running average (complete) remaining runtime prediction loss: 0.4843089008331299 (MAE over last 1600 batches)\n",
      "------------------------------------------------------------\n"
     ]
    },
    {
     "name": "stderr",
     "output_type": "stream",
     "text": [
      "Batch calculation at epoch 43.: 4295it [03:29, 20.55it/s]\n"
     ]
    },
    {
     "name": "stdout",
     "output_type": "stream",
     "text": [
      "=======================================\n",
      "End of epoch 43\n",
      "=======================================\n",
      "Running average global loss: 1.3416906350851059 (over last 1600 batches)\n",
      "Running average activity prediction loss: 0.8561490714550019 (Cross Entropy over last 1600 batches)\n",
      "Running average (complete) remaining runtime prediction loss: 0.48554156322032216 (MAE over last 1600 batches)\n"
     ]
    },
    {
     "name": "stderr",
     "output_type": "stream",
     "text": [
      "Validation batch calculation: 40it [00:28,  1.43it/s]\n"
     ]
    },
    {
     "name": "stdout",
     "output_type": "stream",
     "text": [
      "Avg 1-(normalized) DL distance acitivty suffix prediction validation set: 0.8368307799100876\n",
      "Percentage of suffixes predicted to END: too early - 0.2904933696147358 ; right moment - 0.6321213539037394 ; too late - 0.07738527648152481\n",
      "Too early instances - avg amount of events too early: 1.6531175374984741\n",
      "Too late instances - avg amount of events too late: 2.9094672203063965\n",
      "Avg absolute amount of events predicted too early / too late: 0.7053695321083069\n",
      "Avg MAE TTNE prediction validation set: 17828.854166666668 (minutes)'\n",
      "Avg MAE RRT prediction validation set: 0.6151605844497681 (standardized) ; 33572.7625 (minutes)'\n",
      "Avg validation loss: 1.5024930238723755\n",
      " \n",
      "------------------------------------\n",
      "EPOCH 44:\n",
      "____________________________________\n"
     ]
    },
    {
     "name": "stderr",
     "output_type": "stream",
     "text": [
      "Batch calculation at epoch 44.: 1606it [00:48, 38.04it/s]"
     ]
    },
    {
     "name": "stdout",
     "output_type": "stream",
     "text": [
      "------------------------------------------------------------\n",
      "Epoch 44, batch 1599:\n",
      "Average original gradient norm: 0.44372360516339543 (over last 1600 batches)\n",
      "Average clipped gradient norm: 0.44372360516339543 (over last 1600 batches)\n",
      "Running average global loss: 1.3361098900064825 (over last 1600 batches)\n",
      "Running average activity prediction loss: 0.8519290512055159 (Cross Entropy over last 1600 batches)\n",
      "Running average (complete) remaining runtime prediction loss: 0.48418083978816867 (MAE over last 1600 batches)\n",
      "------------------------------------------------------------\n"
     ]
    },
    {
     "name": "stderr",
     "output_type": "stream",
     "text": [
      "Batch calculation at epoch 44.: 3209it [01:48, 41.05it/s]"
     ]
    },
    {
     "name": "stdout",
     "output_type": "stream",
     "text": [
      "------------------------------------------------------------\n",
      "Epoch 44, batch 3199:\n",
      "Average original gradient norm: 0.44842588463798166 (over last 1600 batches)\n",
      "Average clipped gradient norm: 0.44842588463798166 (over last 1600 batches)\n",
      "Running average global loss: 1.3375725511088967 (over last 1600 batches)\n",
      "Running average activity prediction loss: 0.853930254764855 (Cross Entropy over last 1600 batches)\n",
      "Running average (complete) remaining runtime prediction loss: 0.4836422969959676 (MAE over last 1600 batches)\n",
      "------------------------------------------------------------\n"
     ]
    },
    {
     "name": "stderr",
     "output_type": "stream",
     "text": [
      "Batch calculation at epoch 44.: 4295it [02:14, 31.92it/s]\n"
     ]
    },
    {
     "name": "stdout",
     "output_type": "stream",
     "text": [
      "=======================================\n",
      "End of epoch 44\n",
      "=======================================\n",
      "Running average global loss: 1.3377114111557602 (over last 1600 batches)\n",
      "Running average activity prediction loss: 0.8528339599817991 (Cross Entropy over last 1600 batches)\n",
      "Running average (complete) remaining runtime prediction loss: 0.48487745083868505 (MAE over last 1600 batches)\n"
     ]
    },
    {
     "name": "stderr",
     "output_type": "stream",
     "text": [
      "Validation batch calculation: 40it [00:27,  1.46it/s]\n"
     ]
    },
    {
     "name": "stdout",
     "output_type": "stream",
     "text": [
      "Avg 1-(normalized) DL distance acitivty suffix prediction validation set: 0.837902694940567\n",
      "Percentage of suffixes predicted to END: too early - 0.2953199453316424 ; right moment - 0.6349286479431646 ; too late - 0.069751406725193\n",
      "Too early instances - avg amount of events too early: 1.6603710651397705\n",
      "Too late instances - avg amount of events too late: 2.9113855361938477\n",
      "Avg absolute amount of events predicted too early / too late: 0.6934139132499695\n",
      "Avg MAE TTNE prediction validation set: 17903.295833333334 (minutes)'\n",
      "Avg MAE RRT prediction validation set: 0.6150058507919312 (standardized) ; 33561.31458333333 (minutes)'\n",
      "Avg validation loss: 1.5031665563583374\n",
      " \n",
      "------------------------------------\n",
      "EPOCH 45:\n",
      "____________________________________\n"
     ]
    },
    {
     "name": "stderr",
     "output_type": "stream",
     "text": [
      "Batch calculation at epoch 45.: 1602it [01:00, 25.11it/s]"
     ]
    },
    {
     "name": "stdout",
     "output_type": "stream",
     "text": [
      "------------------------------------------------------------\n",
      "Epoch 45, batch 1599:\n",
      "Average original gradient norm: 0.4533011575229466 (over last 1600 batches)\n",
      "Average clipped gradient norm: 0.4533011575229466 (over last 1600 batches)\n",
      "Running average global loss: 1.3367494577914476 (over last 1600 batches)\n",
      "Running average activity prediction loss: 0.8517400436103344 (Cross Entropy over last 1600 batches)\n",
      "Running average (complete) remaining runtime prediction loss: 0.4850094141252339 (MAE over last 1600 batches)\n",
      "------------------------------------------------------------\n"
     ]
    },
    {
     "name": "stderr",
     "output_type": "stream",
     "text": [
      "Batch calculation at epoch 45.: 3202it [01:57, 29.12it/s]"
     ]
    },
    {
     "name": "stdout",
     "output_type": "stream",
     "text": [
      "------------------------------------------------------------\n",
      "Epoch 45, batch 3199:\n",
      "Average original gradient norm: 0.44885040167719126 (over last 1600 batches)\n",
      "Average clipped gradient norm: 0.44885040167719126 (over last 1600 batches)\n",
      "Running average global loss: 1.3378580340743065 (over last 1600 batches)\n",
      "Running average activity prediction loss: 0.8547548399493098 (Cross Entropy over last 1600 batches)\n",
      "Running average (complete) remaining runtime prediction loss: 0.48310319447889927 (MAE over last 1600 batches)\n",
      "------------------------------------------------------------\n"
     ]
    },
    {
     "name": "stderr",
     "output_type": "stream",
     "text": [
      "Batch calculation at epoch 45.: 4295it [02:35, 27.55it/s]\n"
     ]
    },
    {
     "name": "stdout",
     "output_type": "stream",
     "text": [
      "=======================================\n",
      "End of epoch 45\n",
      "=======================================\n",
      "Running average global loss: 1.339261503443122 (over last 1600 batches)\n",
      "Running average activity prediction loss: 0.8539857537485659 (Cross Entropy over last 1600 batches)\n",
      "Running average (complete) remaining runtime prediction loss: 0.48527574952691793 (MAE over last 1600 batches)\n"
     ]
    },
    {
     "name": "stderr",
     "output_type": "stream",
     "text": [
      "Validation batch calculation: 40it [00:31,  1.28it/s]\n"
     ]
    },
    {
     "name": "stdout",
     "output_type": "stream",
     "text": [
      "Avg 1-(normalized) DL distance acitivty suffix prediction validation set: 0.8390284925699234\n",
      "Percentage of suffixes predicted to END: too early - 0.2943595552655232 ; right moment - 0.6333403105261214 ; too late - 0.07230013420835539\n",
      "Too early instances - avg amount of events too early: 1.6573807001113892\n",
      "Too late instances - avg amount of events too late: 2.874659299850464\n",
      "Avg absolute amount of events predicted too early / too late: 0.6957041025161743\n",
      "Avg MAE TTNE prediction validation set: 17742.375 (minutes)'\n",
      "Avg MAE RRT prediction validation set: 0.6180498600006104 (standardized) ; 33727.8 (minutes)'\n",
      "Avg validation loss: 1.5037951469421387\n",
      " \n",
      "------------------------------------\n",
      "EPOCH 46:\n",
      "____________________________________\n"
     ]
    },
    {
     "name": "stderr",
     "output_type": "stream",
     "text": [
      "Batch calculation at epoch 46.: 1603it [00:44, 31.40it/s]"
     ]
    },
    {
     "name": "stdout",
     "output_type": "stream",
     "text": [
      "------------------------------------------------------------\n",
      "Epoch 46, batch 1599:\n",
      "Average original gradient norm: 0.45554290141910314 (over last 1600 batches)\n",
      "Average clipped gradient norm: 0.45554290141910314 (over last 1600 batches)\n",
      "Running average global loss: 1.3369353191927076 (over last 1600 batches)\n",
      "Running average activity prediction loss: 0.8522320943698287 (Cross Entropy over last 1600 batches)\n",
      "Running average (complete) remaining runtime prediction loss: 0.48470322497189045 (MAE over last 1600 batches)\n",
      "------------------------------------------------------------\n"
     ]
    },
    {
     "name": "stderr",
     "output_type": "stream",
     "text": [
      "Batch calculation at epoch 46.: 3204it [01:25, 25.77it/s]"
     ]
    },
    {
     "name": "stdout",
     "output_type": "stream",
     "text": [
      "------------------------------------------------------------\n",
      "Epoch 46, batch 3199:\n",
      "Average original gradient norm: 0.45746946500614283 (over last 1600 batches)\n",
      "Average clipped gradient norm: 0.45742024468258025 (over last 1600 batches)\n",
      "Running average global loss: 1.3351068252325058 (over last 1600 batches)\n",
      "Running average activity prediction loss: 0.8523479173704982 (Cross Entropy over last 1600 batches)\n",
      "Running average (complete) remaining runtime prediction loss: 0.4827589074149728 (MAE over last 1600 batches)\n",
      "------------------------------------------------------------\n"
     ]
    },
    {
     "name": "stderr",
     "output_type": "stream",
     "text": [
      "Batch calculation at epoch 46.: 4295it [02:11, 32.70it/s]\n"
     ]
    },
    {
     "name": "stdout",
     "output_type": "stream",
     "text": [
      "=======================================\n",
      "End of epoch 46\n",
      "=======================================\n",
      "Running average global loss: 1.3377911051362752 (over last 1600 batches)\n",
      "Running average activity prediction loss: 0.8531971839442849 (Cross Entropy over last 1600 batches)\n",
      "Running average (complete) remaining runtime prediction loss: 0.4845939207822084 (MAE over last 1600 batches)\n"
     ]
    },
    {
     "name": "stderr",
     "output_type": "stream",
     "text": [
      "Validation batch calculation: 40it [00:43,  1.09s/it]\n"
     ]
    },
    {
     "name": "stdout",
     "output_type": "stream",
     "text": [
      "Avg 1-(normalized) DL distance acitivty suffix prediction validation set: 0.8390246033668518\n",
      "Percentage of suffixes predicted to END: too early - 0.2946304345149415 ; right moment - 0.6333156851398106 ; too late - 0.07205388034524791\n",
      "Too early instances - avg amount of events too early: 1.6617075204849243\n",
      "Too late instances - avg amount of events too late: 2.8395419120788574\n",
      "Avg absolute amount of events predicted too early / too late: 0.6941896080970764\n",
      "Avg MAE TTNE prediction validation set: 17722.883333333335 (minutes)'\n",
      "Avg MAE RRT prediction validation set: 0.6209717392921448 (standardized) ; 33889.41875 (minutes)'\n",
      "Avg validation loss: 1.5097200870513916\n",
      " \n",
      "------------------------------------\n",
      "EPOCH 47:\n",
      "____________________________________\n"
     ]
    },
    {
     "name": "stderr",
     "output_type": "stream",
     "text": [
      "Batch calculation at epoch 47.: 1602it [01:32, 17.86it/s]"
     ]
    },
    {
     "name": "stdout",
     "output_type": "stream",
     "text": [
      "------------------------------------------------------------\n",
      "Epoch 47, batch 1599:\n",
      "Average original gradient norm: 0.4551541878003627 (over last 1600 batches)\n",
      "Average clipped gradient norm: 0.4551541878003627 (over last 1600 batches)\n",
      "Running average global loss: 1.3349370561167597 (over last 1600 batches)\n",
      "Running average activity prediction loss: 0.8505599831975996 (Cross Entropy over last 1600 batches)\n",
      "Running average (complete) remaining runtime prediction loss: 0.48437707234174016 (MAE over last 1600 batches)\n",
      "------------------------------------------------------------\n"
     ]
    },
    {
     "name": "stderr",
     "output_type": "stream",
     "text": [
      "Batch calculation at epoch 47.: 3201it [03:02, 10.50it/s]"
     ]
    },
    {
     "name": "stdout",
     "output_type": "stream",
     "text": [
      "------------------------------------------------------------\n",
      "Epoch 47, batch 3199:\n",
      "Average original gradient norm: 0.453175446446985 (over last 1600 batches)\n",
      "Average clipped gradient norm: 0.453175446446985 (over last 1600 batches)\n",
      "Running average global loss: 1.3410583029314875 (over last 1600 batches)\n",
      "Running average activity prediction loss: 0.8561966172605753 (Cross Entropy over last 1600 batches)\n",
      "Running average (complete) remaining runtime prediction loss: 0.48486168602481483 (MAE over last 1600 batches)\n",
      "------------------------------------------------------------\n"
     ]
    },
    {
     "name": "stderr",
     "output_type": "stream",
     "text": [
      "Batch calculation at epoch 47.: 4295it [03:41, 19.39it/s]\n"
     ]
    },
    {
     "name": "stdout",
     "output_type": "stream",
     "text": [
      "=======================================\n",
      "End of epoch 47\n",
      "=======================================\n",
      "Running average global loss: 1.3385872802883387 (over last 1600 batches)\n",
      "Running average activity prediction loss: 0.8545446076244115 (Cross Entropy over last 1600 batches)\n",
      "Running average (complete) remaining runtime prediction loss: 0.48404267279431223 (MAE over last 1600 batches)\n"
     ]
    },
    {
     "name": "stderr",
     "output_type": "stream",
     "text": [
      "Validation batch calculation: 40it [00:26,  1.53it/s]\n"
     ]
    },
    {
     "name": "stdout",
     "output_type": "stream",
     "text": [
      "Avg 1-(normalized) DL distance acitivty suffix prediction validation set: 0.8383717238903046\n",
      "Percentage of suffixes predicted to END: too early - 0.2899639238090548 ; right moment - 0.6325769235504882 ; too late - 0.07745915264045705\n",
      "Too early instances - avg amount of events too early: 1.6498514413833618\n",
      "Too late instances - avg amount of events too late: 2.8820536136627197\n",
      "Avg absolute amount of events predicted too early / too late: 0.7016388177871704\n",
      "Avg MAE TTNE prediction validation set: 17688.633333333335 (minutes)'\n",
      "Avg MAE RRT prediction validation set: 0.619810938835144 (standardized) ; 33822.441666666666 (minutes)'\n",
      "Avg validation loss: 1.5060179233551025\n",
      " \n",
      "------------------------------------\n",
      "EPOCH 48:\n",
      "____________________________________\n"
     ]
    },
    {
     "name": "stderr",
     "output_type": "stream",
     "text": [
      "Batch calculation at epoch 48.: 1601it [01:19, 14.58it/s]"
     ]
    },
    {
     "name": "stdout",
     "output_type": "stream",
     "text": [
      "------------------------------------------------------------\n",
      "Epoch 48, batch 1599:\n",
      "Average original gradient norm: 0.45774645113386214 (over last 1600 batches)\n",
      "Average clipped gradient norm: 0.45774645113386214 (over last 1600 batches)\n",
      "Running average global loss: 1.337874551154673 (over last 1600 batches)\n",
      "Running average activity prediction loss: 0.8533748259022832 (Cross Entropy over last 1600 batches)\n",
      "Running average (complete) remaining runtime prediction loss: 0.48449972495436666 (MAE over last 1600 batches)\n",
      "------------------------------------------------------------\n"
     ]
    },
    {
     "name": "stderr",
     "output_type": "stream",
     "text": [
      "Batch calculation at epoch 48.: 3202it [02:55, 15.34it/s]"
     ]
    },
    {
     "name": "stdout",
     "output_type": "stream",
     "text": [
      "------------------------------------------------------------\n",
      "Epoch 48, batch 3199:\n",
      "Average original gradient norm: 0.45348566298373044 (over last 1600 batches)\n",
      "Average clipped gradient norm: 0.45348566298373044 (over last 1600 batches)\n",
      "Running average global loss: 1.3333959322050213 (over last 1600 batches)\n",
      "Running average activity prediction loss: 0.8500232173129916 (Cross Entropy over last 1600 batches)\n",
      "Running average (complete) remaining runtime prediction loss: 0.4833727153018117 (MAE over last 1600 batches)\n",
      "------------------------------------------------------------\n"
     ]
    },
    {
     "name": "stderr",
     "output_type": "stream",
     "text": [
      "Batch calculation at epoch 48.: 4295it [04:07, 17.34it/s]\n"
     ]
    },
    {
     "name": "stdout",
     "output_type": "stream",
     "text": [
      "=======================================\n",
      "End of epoch 48\n",
      "=======================================\n",
      "Running average global loss: 1.3363697778061032 (over last 1600 batches)\n",
      "Running average activity prediction loss: 0.853128966242075 (Cross Entropy over last 1600 batches)\n",
      "Running average (complete) remaining runtime prediction loss: 0.48324081119149925 (MAE over last 1600 batches)\n"
     ]
    },
    {
     "name": "stderr",
     "output_type": "stream",
     "text": [
      "Validation batch calculation: 40it [00:36,  1.08it/s]\n"
     ]
    },
    {
     "name": "stdout",
     "output_type": "stream",
     "text": [
      "Avg 1-(normalized) DL distance acitivty suffix prediction validation set: 0.8392491638660431\n",
      "Percentage of suffixes predicted to END: too early - 0.2932883509610057 ; right moment - 0.634017508649667 ; too late - 0.07269414038932735\n",
      "Too early instances - avg amount of events too early: 1.6563812494277954\n",
      "Too late instances - avg amount of events too late: 2.8966803550720215\n",
      "Avg absolute amount of events predicted too early / too late: 0.6963689923286438\n",
      "Avg MAE TTNE prediction validation set: 17790.322916666668 (minutes)'\n",
      "Avg MAE RRT prediction validation set: 0.6169369220733643 (standardized) ; 33670.33541666667 (minutes)'\n",
      "Avg validation loss: 1.5053226947784424\n",
      " \n",
      "------------------------------------\n",
      "EPOCH 49:\n",
      "____________________________________\n"
     ]
    },
    {
     "name": "stderr",
     "output_type": "stream",
     "text": [
      "Batch calculation at epoch 49.: 1603it [01:42, 22.76it/s]"
     ]
    },
    {
     "name": "stdout",
     "output_type": "stream",
     "text": [
      "------------------------------------------------------------\n",
      "Epoch 49, batch 1599:\n",
      "Average original gradient norm: 0.4521262176148593 (over last 1600 batches)\n",
      "Average clipped gradient norm: 0.4521262176148593 (over last 1600 batches)\n",
      "Running average global loss: 1.3340861918777227 (over last 1600 batches)\n",
      "Running average activity prediction loss: 0.8513658355921507 (Cross Entropy over last 1600 batches)\n",
      "Running average (complete) remaining runtime prediction loss: 0.4827203544601798 (MAE over last 1600 batches)\n",
      "------------------------------------------------------------\n"
     ]
    },
    {
     "name": "stderr",
     "output_type": "stream",
     "text": [
      "Batch calculation at epoch 49.: 3205it [02:46, 44.69it/s]"
     ]
    },
    {
     "name": "stdout",
     "output_type": "stream",
     "text": [
      "------------------------------------------------------------\n",
      "Epoch 49, batch 3199:\n",
      "Average original gradient norm: 0.4547189601045102 (over last 1600 batches)\n",
      "Average clipped gradient norm: 0.45233206334523857 (over last 1600 batches)\n",
      "Running average global loss: 1.3402746119350195 (over last 1600 batches)\n",
      "Running average activity prediction loss: 0.8548238613083958 (Cross Entropy over last 1600 batches)\n",
      "Running average (complete) remaining runtime prediction loss: 0.48545075085014106 (MAE over last 1600 batches)\n",
      "------------------------------------------------------------\n"
     ]
    },
    {
     "name": "stderr",
     "output_type": "stream",
     "text": [
      "Batch calculation at epoch 49.: 4295it [03:25, 20.89it/s]\n"
     ]
    },
    {
     "name": "stdout",
     "output_type": "stream",
     "text": [
      "=======================================\n",
      "End of epoch 49\n",
      "=======================================\n",
      "Running average global loss: 1.3338037281483412 (over last 1600 batches)\n",
      "Running average activity prediction loss: 0.8501664642617106 (Cross Entropy over last 1600 batches)\n",
      "Running average (complete) remaining runtime prediction loss: 0.4836372635513544 (MAE over last 1600 batches)\n"
     ]
    },
    {
     "name": "stderr",
     "output_type": "stream",
     "text": [
      "Validation batch calculation: 40it [00:23,  1.67it/s]\n"
     ]
    },
    {
     "name": "stdout",
     "output_type": "stream",
     "text": [
      "Avg 1-(normalized) DL distance acitivty suffix prediction validation set: 0.8391801416873932\n",
      "Percentage of suffixes predicted to END: too early - 0.294285679106591 ; right moment - 0.6331679328219462 ; too late - 0.07254638807146287\n",
      "Too early instances - avg amount of events too early: 1.65436589717865\n",
      "Too late instances - avg amount of events too late: 2.8849287033081055\n",
      "Avg absolute amount of events predicted too early / too late: 0.6961473226547241\n",
      "Avg MAE TTNE prediction validation set: 17752.53125 (minutes)'\n",
      "Avg MAE RRT prediction validation set: 0.6198664307594299 (standardized) ; 33825.75 (minutes)'\n",
      "Avg validation loss: 1.5047599077224731\n",
      " \n",
      "------------------------------------\n",
      "EPOCH 50:\n",
      "____________________________________\n"
     ]
    },
    {
     "name": "stderr",
     "output_type": "stream",
     "text": [
      "Batch calculation at epoch 50.: 1601it [00:42, 26.04it/s]"
     ]
    },
    {
     "name": "stdout",
     "output_type": "stream",
     "text": [
      "------------------------------------------------------------\n",
      "Epoch 50, batch 1599:\n",
      "Average original gradient norm: 0.45888093053363266 (over last 1600 batches)\n",
      "Average clipped gradient norm: 0.45888093053363266 (over last 1600 batches)\n",
      "Running average global loss: 1.335601089335978 (over last 1600 batches)\n",
      "Running average activity prediction loss: 0.8519776037335396 (Cross Entropy over last 1600 batches)\n",
      "Running average (complete) remaining runtime prediction loss: 0.48362348522990944 (MAE over last 1600 batches)\n",
      "------------------------------------------------------------\n"
     ]
    },
    {
     "name": "stderr",
     "output_type": "stream",
     "text": [
      "Batch calculation at epoch 50.: 3206it [01:33, 34.89it/s]"
     ]
    },
    {
     "name": "stdout",
     "output_type": "stream",
     "text": [
      "------------------------------------------------------------\n",
      "Epoch 50, batch 3199:\n",
      "Average original gradient norm: 0.4507271558512002 (over last 1600 batches)\n",
      "Average clipped gradient norm: 0.45044151877053085 (over last 1600 batches)\n",
      "Running average global loss: 1.3349139176309108 (over last 1600 batches)\n",
      "Running average activity prediction loss: 0.8512555473670363 (Cross Entropy over last 1600 batches)\n",
      "Running average (complete) remaining runtime prediction loss: 0.4836583724245429 (MAE over last 1600 batches)\n",
      "------------------------------------------------------------\n"
     ]
    },
    {
     "name": "stderr",
     "output_type": "stream",
     "text": [
      "Batch calculation at epoch 50.: 4295it [02:24, 29.63it/s]\n"
     ]
    },
    {
     "name": "stdout",
     "output_type": "stream",
     "text": [
      "=======================================\n",
      "End of epoch 50\n",
      "=======================================\n",
      "Running average global loss: 1.3372941810637713 (over last 1600 batches)\n",
      "Running average activity prediction loss: 0.8535932682827115 (Cross Entropy over last 1600 batches)\n",
      "Running average (complete) remaining runtime prediction loss: 0.48370091371238233 (MAE over last 1600 batches)\n"
     ]
    },
    {
     "name": "stderr",
     "output_type": "stream",
     "text": [
      "Validation batch calculation: 40it [00:33,  1.19it/s]\n"
     ]
    },
    {
     "name": "stdout",
     "output_type": "stream",
     "text": [
      "Avg 1-(normalized) DL distance acitivty suffix prediction validation set: 0.8391817361116409\n",
      "Percentage of suffixes predicted to END: too early - 0.2943226171860571 ; right moment - 0.6338328182523363 ; too late - 0.07184456456160657\n",
      "Too early instances - avg amount of events too early: 1.6570448875427246\n",
      "Too late instances - avg amount of events too late: 2.933161973953247\n",
      "Avg absolute amount of events predicted too early / too late: 0.698437511920929\n",
      "Avg MAE TTNE prediction validation set: 17769.535416666666 (minutes)'\n",
      "Avg MAE RRT prediction validation set: 0.6202043890953064 (standardized) ; 33846.50833333333 (minutes)'\n",
      "Avg validation loss: 1.5048824548721313\n",
      " \n",
      "------------------------------------\n",
      "EPOCH 51:\n",
      "____________________________________\n"
     ]
    },
    {
     "name": "stderr",
     "output_type": "stream",
     "text": [
      "Batch calculation at epoch 51.: 1601it [02:55,  8.13it/s]"
     ]
    },
    {
     "name": "stdout",
     "output_type": "stream",
     "text": [
      "------------------------------------------------------------\n",
      "Epoch 51, batch 1599:\n",
      "Average original gradient norm: 0.4538801812194288 (over last 1600 batches)\n",
      "Average clipped gradient norm: 0.4538801812194288 (over last 1600 batches)\n",
      "Running average global loss: 1.334341084435582 (over last 1600 batches)\n",
      "Running average activity prediction loss: 0.851265509352088 (Cross Entropy over last 1600 batches)\n",
      "Running average (complete) remaining runtime prediction loss: 0.48307557398453355 (MAE over last 1600 batches)\n",
      "------------------------------------------------------------\n"
     ]
    },
    {
     "name": "stderr",
     "output_type": "stream",
     "text": [
      "Batch calculation at epoch 51.: 3201it [05:26,  9.66it/s]"
     ]
    },
    {
     "name": "stdout",
     "output_type": "stream",
     "text": [
      "------------------------------------------------------------\n",
      "Epoch 51, batch 3199:\n",
      "Average original gradient norm: 0.45449058680795135 (over last 1600 batches)\n",
      "Average clipped gradient norm: 0.45449058680795135 (over last 1600 batches)\n",
      "Running average global loss: 1.3330919407308102 (over last 1600 batches)\n",
      "Running average activity prediction loss: 0.8500248251855373 (Cross Entropy over last 1600 batches)\n",
      "Running average (complete) remaining runtime prediction loss: 0.4830671150237322 (MAE over last 1600 batches)\n",
      "------------------------------------------------------------\n"
     ]
    },
    {
     "name": "stderr",
     "output_type": "stream",
     "text": [
      "Batch calculation at epoch 51.: 4295it [06:59, 10.23it/s]\n"
     ]
    },
    {
     "name": "stdout",
     "output_type": "stream",
     "text": [
      "=======================================\n",
      "End of epoch 51\n",
      "=======================================\n",
      "Running average global loss: 1.3396506350487472 (over last 1600 batches)\n",
      "Running average activity prediction loss: 0.8546148681268096 (Cross Entropy over last 1600 batches)\n",
      "Running average (complete) remaining runtime prediction loss: 0.48503576751798394 (MAE over last 1600 batches)\n"
     ]
    },
    {
     "name": "stderr",
     "output_type": "stream",
     "text": [
      "Validation batch calculation: 40it [00:31,  1.27it/s]\n"
     ]
    },
    {
     "name": "stdout",
     "output_type": "stream",
     "text": [
      "Avg 1-(normalized) DL distance acitivty suffix prediction validation set: 0.8393927216529846\n",
      "Percentage of suffixes predicted to END: too early - 0.29359616828989005 ; right moment - 0.6338081928660256 ; too late - 0.07259563884408436\n",
      "Too early instances - avg amount of events too early: 1.6569931507110596\n",
      "Too late instances - avg amount of events too late: 2.919097661972046\n",
      "Avg absolute amount of events predicted too early / too late: 0.6984005570411682\n",
      "Avg MAE TTNE prediction validation set: 17707.625 (minutes)'\n",
      "Avg MAE RRT prediction validation set: 0.6219133734703064 (standardized) ; 33938.61875 (minutes)'\n",
      "Avg validation loss: 1.504738450050354\n",
      " \n",
      "------------------------------------\n",
      "EPOCH 52:\n",
      "____________________________________\n"
     ]
    },
    {
     "name": "stderr",
     "output_type": "stream",
     "text": [
      "Batch calculation at epoch 52.: 1605it [01:59, 27.04it/s]"
     ]
    },
    {
     "name": "stdout",
     "output_type": "stream",
     "text": [
      "------------------------------------------------------------\n",
      "Epoch 52, batch 1599:\n",
      "Average original gradient norm: 0.4562199765443802 (over last 1600 batches)\n",
      "Average clipped gradient norm: 0.4562199765443802 (over last 1600 batches)\n",
      "Running average global loss: 1.3361597725376486 (over last 1600 batches)\n",
      "Running average activity prediction loss: 0.8514661365374923 (Cross Entropy over last 1600 batches)\n",
      "Running average (complete) remaining runtime prediction loss: 0.48469363633543255 (MAE over last 1600 batches)\n",
      "------------------------------------------------------------\n"
     ]
    },
    {
     "name": "stderr",
     "output_type": "stream",
     "text": [
      "Batch calculation at epoch 52.: 3202it [03:31, 18.58it/s]"
     ]
    },
    {
     "name": "stdout",
     "output_type": "stream",
     "text": [
      "------------------------------------------------------------\n",
      "Epoch 52, batch 3199:\n",
      "Average original gradient norm: 0.4566659647040069 (over last 1600 batches)\n",
      "Average clipped gradient norm: 0.4566659647040069 (over last 1600 batches)\n",
      "Running average global loss: 1.3345569437742233 (over last 1600 batches)\n",
      "Running average activity prediction loss: 0.852396652288735 (Cross Entropy over last 1600 batches)\n",
      "Running average (complete) remaining runtime prediction loss: 0.48216029297560453 (MAE over last 1600 batches)\n",
      "------------------------------------------------------------\n"
     ]
    },
    {
     "name": "stderr",
     "output_type": "stream",
     "text": [
      "Batch calculation at epoch 52.: 4295it [04:43, 15.15it/s]\n"
     ]
    },
    {
     "name": "stdout",
     "output_type": "stream",
     "text": [
      "=======================================\n",
      "End of epoch 52\n",
      "=======================================\n",
      "Running average global loss: 1.3361671344190835 (over last 1600 batches)\n",
      "Running average activity prediction loss: 0.8526157566159963 (Cross Entropy over last 1600 batches)\n",
      "Running average (complete) remaining runtime prediction loss: 0.48355137852951885 (MAE over last 1600 batches)\n"
     ]
    },
    {
     "name": "stderr",
     "output_type": "stream",
     "text": [
      "Validation batch calculation: 40it [00:40,  1.01s/it]\n"
     ]
    },
    {
     "name": "stdout",
     "output_type": "stream",
     "text": [
      "Avg 1-(normalized) DL distance acitivty suffix prediction validation set: 0.8390741348266602\n",
      "Percentage of suffixes predicted to END: too early - 0.2938177967666868 ; right moment - 0.6335742516960735 ; too late - 0.07260795153723974\n",
      "Too early instances - avg amount of events too early: 1.6567069292068481\n",
      "Too late instances - avg amount of events too late: 2.917076349258423\n",
      "Avg absolute amount of events predicted too early / too late: 0.6985729336738586\n",
      "Avg MAE TTNE prediction validation set: 17683.064583333333 (minutes)'\n",
      "Avg MAE RRT prediction validation set: 0.6200875043869019 (standardized) ; 33841.44375 (minutes)'\n",
      "Avg validation loss: 1.5056087970733643\n",
      " \n",
      "------------------------------------\n",
      "EPOCH 53:\n",
      "____________________________________\n"
     ]
    },
    {
     "name": "stderr",
     "output_type": "stream",
     "text": [
      "Batch calculation at epoch 53.: 1602it [02:11, 12.41it/s]"
     ]
    },
    {
     "name": "stdout",
     "output_type": "stream",
     "text": [
      "------------------------------------------------------------\n",
      "Epoch 53, batch 1599:\n",
      "Average original gradient norm: 0.4623928588349372 (over last 1600 batches)\n",
      "Average clipped gradient norm: 0.4622006482351571 (over last 1600 batches)\n",
      "Running average global loss: 1.3320535764843227 (over last 1600 batches)\n",
      "Running average activity prediction loss: 0.8495153106376528 (Cross Entropy over last 1600 batches)\n",
      "Running average (complete) remaining runtime prediction loss: 0.4825382673367858 (MAE over last 1600 batches)\n",
      "------------------------------------------------------------\n"
     ]
    },
    {
     "name": "stderr",
     "output_type": "stream",
     "text": [
      "Batch calculation at epoch 53.: 3202it [04:39, 20.53it/s]"
     ]
    },
    {
     "name": "stdout",
     "output_type": "stream",
     "text": [
      "------------------------------------------------------------\n",
      "Epoch 53, batch 3199:\n",
      "Average original gradient norm: 0.457316701002419 (over last 1600 batches)\n",
      "Average clipped gradient norm: 0.457316701002419 (over last 1600 batches)\n",
      "Running average global loss: 1.3354523604363202 (over last 1600 batches)\n",
      "Running average activity prediction loss: 0.8525176288932562 (Cross Entropy over last 1600 batches)\n",
      "Running average (complete) remaining runtime prediction loss: 0.4829347318969667 (MAE over last 1600 batches)\n",
      "------------------------------------------------------------\n"
     ]
    },
    {
     "name": "stderr",
     "output_type": "stream",
     "text": [
      "Batch calculation at epoch 53.: 4295it [06:12, 11.53it/s]\n"
     ]
    },
    {
     "name": "stdout",
     "output_type": "stream",
     "text": [
      "=======================================\n",
      "End of epoch 53\n",
      "=======================================\n",
      "Running average global loss: 1.339426604770124 (over last 1600 batches)\n",
      "Running average activity prediction loss: 0.8543901966139674 (Cross Entropy over last 1600 batches)\n",
      "Running average (complete) remaining runtime prediction loss: 0.48503640891984107 (MAE over last 1600 batches)\n"
     ]
    },
    {
     "name": "stderr",
     "output_type": "stream",
     "text": [
      "Validation batch calculation: 40it [00:41,  1.04s/it]\n"
     ]
    },
    {
     "name": "stdout",
     "output_type": "stream",
     "text": [
      "Avg 1-(normalized) DL distance acitivty suffix prediction validation set: 0.8393411934375763\n",
      "Percentage of suffixes predicted to END: too early - 0.2947904995259613 ; right moment - 0.634054446729133 ; too late - 0.07115505374490562\n",
      "Too early instances - avg amount of events too early: 1.6618077754974365\n",
      "Too late instances - avg amount of events too late: 2.8932340145111084\n",
      "Avg absolute amount of events predicted too early / too late: 0.6957533359527588\n",
      "Avg MAE TTNE prediction validation set: 17824.69375 (minutes)'\n",
      "Avg MAE RRT prediction validation set: 0.6175111532211304 (standardized) ; 33700.36041666667 (minutes)'\n",
      "Avg validation loss: 1.5054806470870972\n",
      " \n",
      "------------------------------------\n",
      "EPOCH 54:\n",
      "____________________________________\n"
     ]
    },
    {
     "name": "stderr",
     "output_type": "stream",
     "text": [
      "Batch calculation at epoch 54.: 1601it [02:11,  8.98it/s]"
     ]
    },
    {
     "name": "stdout",
     "output_type": "stream",
     "text": [
      "------------------------------------------------------------\n",
      "Epoch 54, batch 1599:\n",
      "Average original gradient norm: 0.45841656654141844 (over last 1600 batches)\n",
      "Average clipped gradient norm: 0.45841656654141844 (over last 1600 batches)\n",
      "Running average global loss: 1.332376291640103 (over last 1600 batches)\n",
      "Running average activity prediction loss: 0.8491885755211115 (Cross Entropy over last 1600 batches)\n",
      "Running average (complete) remaining runtime prediction loss: 0.4831877161562443 (MAE over last 1600 batches)\n",
      "------------------------------------------------------------\n"
     ]
    },
    {
     "name": "stderr",
     "output_type": "stream",
     "text": [
      "Batch calculation at epoch 54.: 3202it [05:00, 17.41it/s]"
     ]
    },
    {
     "name": "stdout",
     "output_type": "stream",
     "text": [
      "------------------------------------------------------------\n",
      "Epoch 54, batch 3199:\n",
      "Average original gradient norm: 0.4561376061104238 (over last 1600 batches)\n",
      "Average clipped gradient norm: 0.4561376061104238 (over last 1600 batches)\n",
      "Running average global loss: 1.335031688399613 (over last 1600 batches)\n",
      "Running average activity prediction loss: 0.851823971234262 (Cross Entropy over last 1600 batches)\n",
      "Running average (complete) remaining runtime prediction loss: 0.48320771791040895 (MAE over last 1600 batches)\n",
      "------------------------------------------------------------\n"
     ]
    },
    {
     "name": "stderr",
     "output_type": "stream",
     "text": [
      "Batch calculation at epoch 54.: 4295it [06:58, 10.27it/s]\n"
     ]
    },
    {
     "name": "stdout",
     "output_type": "stream",
     "text": [
      "=======================================\n",
      "End of epoch 54\n",
      "=======================================\n",
      "Running average global loss: 1.3352709839493035 (over last 1600 batches)\n",
      "Running average activity prediction loss: 0.8518977966904641 (Cross Entropy over last 1600 batches)\n",
      "Running average (complete) remaining runtime prediction loss: 0.48337318904697896 (MAE over last 1600 batches)\n"
     ]
    },
    {
     "name": "stderr",
     "output_type": "stream",
     "text": [
      "Validation batch calculation: 40it [00:43,  1.09s/it]\n"
     ]
    },
    {
     "name": "stdout",
     "output_type": "stream",
     "text": [
      "Avg 1-(normalized) DL distance acitivty suffix prediction validation set: 0.839023545384407\n",
      "Percentage of suffixes predicted to END: too early - 0.29105975349988306 ; right moment - 0.6331063693561693 ; too late - 0.0758338771439477\n",
      "Too early instances - avg amount of events too early: 1.655738353729248\n",
      "Too late instances - avg amount of events too late: 2.9155707359313965\n",
      "Avg absolute amount of events predicted too early / too late: 0.7030178308486938\n",
      "Avg MAE TTNE prediction validation set: 17931.820833333335 (minutes)'\n",
      "Avg MAE RRT prediction validation set: 0.6164434552192688 (standardized) ; 33631.17916666667 (minutes)'\n",
      "Avg validation loss: 1.5037811994552612\n",
      " \n",
      "------------------------------------\n",
      "EPOCH 55:\n",
      "____________________________________\n"
     ]
    },
    {
     "name": "stderr",
     "output_type": "stream",
     "text": [
      "Batch calculation at epoch 55.: 1601it [02:19, 12.20it/s]"
     ]
    },
    {
     "name": "stdout",
     "output_type": "stream",
     "text": [
      "------------------------------------------------------------\n",
      "Epoch 55, batch 1599:\n",
      "Average original gradient norm: 0.4588492541387677 (over last 1600 batches)\n",
      "Average clipped gradient norm: 0.4586733577027917 (over last 1600 batches)\n",
      "Running average global loss: 1.330695612616837 (over last 1600 batches)\n",
      "Running average activity prediction loss: 0.8483279478922486 (Cross Entropy over last 1600 batches)\n",
      "Running average (complete) remaining runtime prediction loss: 0.4823676649667323 (MAE over last 1600 batches)\n",
      "------------------------------------------------------------\n"
     ]
    },
    {
     "name": "stderr",
     "output_type": "stream",
     "text": [
      "Batch calculation at epoch 55.: 3201it [05:21, 17.27it/s]"
     ]
    },
    {
     "name": "stdout",
     "output_type": "stream",
     "text": [
      "------------------------------------------------------------\n",
      "Epoch 55, batch 3199:\n",
      "Average original gradient norm: 0.46176134460605683 (over last 1600 batches)\n",
      "Average clipped gradient norm: 0.46176134460605683 (over last 1600 batches)\n",
      "Running average global loss: 1.3360674829781056 (over last 1600 batches)\n",
      "Running average activity prediction loss: 0.8525861746072769 (Cross Entropy over last 1600 batches)\n",
      "Running average (complete) remaining runtime prediction loss: 0.48348130924627186 (MAE over last 1600 batches)\n",
      "------------------------------------------------------------\n"
     ]
    },
    {
     "name": "stderr",
     "output_type": "stream",
     "text": [
      "Batch calculation at epoch 55.: 4295it [07:26,  9.62it/s]\n"
     ]
    },
    {
     "name": "stdout",
     "output_type": "stream",
     "text": [
      "=======================================\n",
      "End of epoch 55\n",
      "=======================================\n",
      "Running average global loss: 1.3401684817671775 (over last 1600 batches)\n",
      "Running average activity prediction loss: 0.8549194475635886 (Cross Entropy over last 1600 batches)\n",
      "Running average (complete) remaining runtime prediction loss: 0.4852490347251296 (MAE over last 1600 batches)\n"
     ]
    },
    {
     "name": "stderr",
     "output_type": "stream",
     "text": [
      "Validation batch calculation: 40it [00:32,  1.24it/s]\n"
     ]
    },
    {
     "name": "stdout",
     "output_type": "stream",
     "text": [
      "Avg 1-(normalized) DL distance acitivty suffix prediction validation set: 0.8386247307062149\n",
      "Percentage of suffixes predicted to END: too early - 0.29105975349988306 ; right moment - 0.6330940566630139 ; too late - 0.07584618983710308\n",
      "Too early instances - avg amount of events too early: 1.6505351066589355\n",
      "Too late instances - avg amount of events too late: 2.928084373474121\n",
      "Avg absolute amount of events predicted too early / too late: 0.702488362789154\n",
      "Avg MAE TTNE prediction validation set: 17720.59375 (minutes)'\n",
      "Avg MAE RRT prediction validation set: 0.6213819980621338 (standardized) ; 33910.12708333333 (minutes)'\n",
      "Avg validation loss: 1.5047354698181152\n",
      " \n",
      "------------------------------------\n",
      "EPOCH 56:\n",
      "____________________________________\n"
     ]
    },
    {
     "name": "stderr",
     "output_type": "stream",
     "text": [
      "Batch calculation at epoch 56.: 1603it [01:19, 21.13it/s]"
     ]
    },
    {
     "name": "stdout",
     "output_type": "stream",
     "text": [
      "------------------------------------------------------------\n",
      "Epoch 56, batch 1599:\n",
      "Average original gradient norm: 0.46275183000601827 (over last 1600 batches)\n",
      "Average clipped gradient norm: 0.46275183000601827 (over last 1600 batches)\n",
      "Running average global loss: 1.3325849486887456 (over last 1600 batches)\n",
      "Running average activity prediction loss: 0.8504230156168342 (Cross Entropy over last 1600 batches)\n",
      "Running average (complete) remaining runtime prediction loss: 0.48216193126514556 (MAE over last 1600 batches)\n",
      "------------------------------------------------------------\n"
     ]
    },
    {
     "name": "stderr",
     "output_type": "stream",
     "text": [
      "Batch calculation at epoch 56.: 3204it [03:14, 21.51it/s]"
     ]
    },
    {
     "name": "stdout",
     "output_type": "stream",
     "text": [
      "------------------------------------------------------------\n",
      "Epoch 56, batch 3199:\n",
      "Average original gradient norm: 0.46277207324281333 (over last 1600 batches)\n",
      "Average clipped gradient norm: 0.46277207324281333 (over last 1600 batches)\n",
      "Running average global loss: 1.334852205812931 (over last 1600 batches)\n",
      "Running average activity prediction loss: 0.8517549457401037 (Cross Entropy over last 1600 batches)\n",
      "Running average (complete) remaining runtime prediction loss: 0.4830972614698112 (MAE over last 1600 batches)\n",
      "------------------------------------------------------------\n"
     ]
    },
    {
     "name": "stderr",
     "output_type": "stream",
     "text": [
      "Batch calculation at epoch 56.: 4295it [04:11, 17.08it/s]\n"
     ]
    },
    {
     "name": "stdout",
     "output_type": "stream",
     "text": [
      "=======================================\n",
      "End of epoch 56\n",
      "=======================================\n",
      "Running average global loss: 1.3370755933970213 (over last 1600 batches)\n",
      "Running average activity prediction loss: 0.8520851271227002 (Cross Entropy over last 1600 batches)\n",
      "Running average (complete) remaining runtime prediction loss: 0.4849904667958617 (MAE over last 1600 batches)\n"
     ]
    },
    {
     "name": "stderr",
     "output_type": "stream",
     "text": [
      "Validation batch calculation: 40it [00:29,  1.38it/s]\n"
     ]
    },
    {
     "name": "stdout",
     "output_type": "stream",
     "text": [
      "Avg 1-(normalized) DL distance acitivty suffix prediction validation set: 0.8392874449491501\n",
      "Percentage of suffixes predicted to END: too early - 0.29467968528756294 ; right moment - 0.633919007104424 ; too late - 0.0714013076080131\n",
      "Too early instances - avg amount of events too early: 1.6647306680679321\n",
      "Too late instances - avg amount of events too late: 2.849456787109375\n",
      "Avg absolute amount of events predicted too early / too late: 0.694017231464386\n",
      "Avg MAE TTNE prediction validation set: 17741.802083333332 (minutes)'\n",
      "Avg MAE RRT prediction validation set: 0.6207951307296753 (standardized) ; 33879.175 (minutes)'\n",
      "Avg validation loss: 1.5053573846817017\n",
      " \n",
      "------------------------------------\n",
      "EPOCH 57:\n",
      "____________________________________\n"
     ]
    },
    {
     "name": "stderr",
     "output_type": "stream",
     "text": [
      "Batch calculation at epoch 57.: 1602it [00:58, 18.98it/s]"
     ]
    },
    {
     "name": "stdout",
     "output_type": "stream",
     "text": [
      "------------------------------------------------------------\n",
      "Epoch 57, batch 1599:\n",
      "Average original gradient norm: 0.4569485776498914 (over last 1600 batches)\n",
      "Average clipped gradient norm: 0.4569485776498914 (over last 1600 batches)\n",
      "Running average global loss: 1.3329908229783178 (over last 1600 batches)\n",
      "Running average activity prediction loss: 0.8497157159820199 (Cross Entropy over last 1600 batches)\n",
      "Running average (complete) remaining runtime prediction loss: 0.4832751057296991 (MAE over last 1600 batches)\n",
      "------------------------------------------------------------\n"
     ]
    },
    {
     "name": "stderr",
     "output_type": "stream",
     "text": [
      "Batch calculation at epoch 57.: 3201it [02:11,  9.58it/s]"
     ]
    },
    {
     "name": "stdout",
     "output_type": "stream",
     "text": [
      "------------------------------------------------------------\n",
      "Epoch 57, batch 3199:\n",
      "Average original gradient norm: 0.455864195600152 (over last 1600 batches)\n",
      "Average clipped gradient norm: 0.455864195600152 (over last 1600 batches)\n",
      "Running average global loss: 1.3344650809466838 (over last 1600 batches)\n",
      "Running average activity prediction loss: 0.8519846525415778 (Cross Entropy over last 1600 batches)\n",
      "Running average (complete) remaining runtime prediction loss: 0.4824804284051061 (MAE over last 1600 batches)\n",
      "------------------------------------------------------------\n"
     ]
    },
    {
     "name": "stderr",
     "output_type": "stream",
     "text": [
      "Batch calculation at epoch 57.: 4295it [03:18, 21.65it/s]\n"
     ]
    },
    {
     "name": "stdout",
     "output_type": "stream",
     "text": [
      "=======================================\n",
      "End of epoch 57\n",
      "=======================================\n",
      "Running average global loss: 1.3374467343091965 (over last 1600 batches)\n",
      "Running average activity prediction loss: 0.8534882960468531 (Cross Entropy over last 1600 batches)\n",
      "Running average (complete) remaining runtime prediction loss: 0.4839584374800324 (MAE over last 1600 batches)\n"
     ]
    },
    {
     "name": "stderr",
     "output_type": "stream",
     "text": [
      "Validation batch calculation: 40it [00:37,  1.07it/s]\n"
     ]
    },
    {
     "name": "stdout",
     "output_type": "stream",
     "text": [
      "Avg 1-(normalized) DL distance acitivty suffix prediction validation set: 0.8388969451189041\n",
      "Percentage of suffixes predicted to END: too early - 0.2917862023960501 ; right moment - 0.6331925582082569 ; too late - 0.07502123939569302\n",
      "Too early instances - avg amount of events too early: 1.6528398990631104\n",
      "Too late instances - avg amount of events too late: 2.944526433944702\n",
      "Avg absolute amount of events predicted too early / too late: 0.7031778693199158\n",
      "Avg MAE TTNE prediction validation set: 17854.614583333332 (minutes)'\n",
      "Avg MAE RRT prediction validation set: 0.6174512505531311 (standardized) ; 33697.27291666667 (minutes)'\n",
      "Avg validation loss: 1.504517674446106\n",
      " \n",
      "------------------------------------\n",
      "EPOCH 58:\n",
      "____________________________________\n"
     ]
    },
    {
     "name": "stderr",
     "output_type": "stream",
     "text": [
      "Batch calculation at epoch 58.: 1609it [01:10, 48.45it/s]"
     ]
    },
    {
     "name": "stdout",
     "output_type": "stream",
     "text": [
      "------------------------------------------------------------\n",
      "Epoch 58, batch 1599:\n",
      "Average original gradient norm: 0.4637913849204779 (over last 1600 batches)\n",
      "Average clipped gradient norm: 0.46040774762630465 (over last 1600 batches)\n",
      "Running average global loss: 1.3324632465839386 (over last 1600 batches)\n",
      "Running average activity prediction loss: 0.8493661338463425 (Cross Entropy over last 1600 batches)\n",
      "Running average (complete) remaining runtime prediction loss: 0.4830971108935773 (MAE over last 1600 batches)\n",
      "------------------------------------------------------------\n"
     ]
    },
    {
     "name": "stderr",
     "output_type": "stream",
     "text": [
      "Batch calculation at epoch 58.: 3201it [02:28,  8.82it/s]"
     ]
    },
    {
     "name": "stdout",
     "output_type": "stream",
     "text": [
      "------------------------------------------------------------\n",
      "Epoch 58, batch 3199:\n",
      "Average original gradient norm: 0.4594569496996701 (over last 1600 batches)\n",
      "Average clipped gradient norm: 0.4594569496996701 (over last 1600 batches)\n",
      "Running average global loss: 1.3335973373800516 (over last 1600 batches)\n",
      "Running average activity prediction loss: 0.8507967244833707 (Cross Entropy over last 1600 batches)\n",
      "Running average (complete) remaining runtime prediction loss: 0.48280061295256016 (MAE over last 1600 batches)\n",
      "------------------------------------------------------------\n"
     ]
    },
    {
     "name": "stderr",
     "output_type": "stream",
     "text": [
      "Batch calculation at epoch 58.: 4295it [03:51, 18.59it/s]\n"
     ]
    },
    {
     "name": "stdout",
     "output_type": "stream",
     "text": [
      "=======================================\n",
      "End of epoch 58\n",
      "=======================================\n",
      "Running average global loss: 1.337631827890873 (over last 1600 batches)\n",
      "Running average activity prediction loss: 0.8535578069463372 (Cross Entropy over last 1600 batches)\n",
      "Running average (complete) remaining runtime prediction loss: 0.484074020255357 (MAE over last 1600 batches)\n"
     ]
    },
    {
     "name": "stderr",
     "output_type": "stream",
     "text": [
      "Validation batch calculation: 40it [00:34,  1.16it/s]\n"
     ]
    },
    {
     "name": "stdout",
     "output_type": "stream",
     "text": [
      "Avg 1-(normalized) DL distance acitivty suffix prediction validation set: 0.8388884365558624\n",
      "Percentage of suffixes predicted to END: too early - 0.2916630754644963 ; right moment - 0.6331433074356354 ; too late - 0.07519361709986826\n",
      "Too early instances - avg amount of events too early: 1.6582235097885132\n",
      "Too late instances - avg amount of events too late: 2.8948745727539062\n",
      "Avg absolute amount of events predicted too early / too late: 0.7013186812400818\n",
      "Avg MAE TTNE prediction validation set: 17979.170833333334 (minutes)'\n",
      "Avg MAE RRT prediction validation set: 0.6190762519836426 (standardized) ; 33785.25208333333 (minutes)'\n",
      "Avg validation loss: 1.5076007843017578\n",
      " \n",
      "------------------------------------\n",
      "EPOCH 59:\n",
      "____________________________________\n"
     ]
    },
    {
     "name": "stderr",
     "output_type": "stream",
     "text": [
      "Batch calculation at epoch 59.: 1603it [01:39, 18.92it/s]"
     ]
    },
    {
     "name": "stdout",
     "output_type": "stream",
     "text": [
      "------------------------------------------------------------\n",
      "Epoch 59, batch 1599:\n",
      "Average original gradient norm: 0.4571310768276453 (over last 1600 batches)\n",
      "Average clipped gradient norm: 0.45713056601583957 (over last 1600 batches)\n",
      "Running average global loss: 1.33357893794775 (over last 1600 batches)\n",
      "Running average activity prediction loss: 0.850787654183805 (Cross Entropy over last 1600 batches)\n",
      "Running average (complete) remaining runtime prediction loss: 0.48279128374531866 (MAE over last 1600 batches)\n",
      "------------------------------------------------------------\n"
     ]
    },
    {
     "name": "stderr",
     "output_type": "stream",
     "text": [
      "Batch calculation at epoch 59.: 3201it [03:42,  7.47it/s]"
     ]
    },
    {
     "name": "stdout",
     "output_type": "stream",
     "text": [
      "------------------------------------------------------------\n",
      "Epoch 59, batch 3199:\n",
      "Average original gradient norm: 0.45908893443644044 (over last 1600 batches)\n",
      "Average clipped gradient norm: 0.45908893443644044 (over last 1600 batches)\n",
      "Running average global loss: 1.329713108241558 (over last 1600 batches)\n",
      "Running average activity prediction loss: 0.8485970295593143 (Cross Entropy over last 1600 batches)\n",
      "Running average (complete) remaining runtime prediction loss: 0.4811160785518587 (MAE over last 1600 batches)\n",
      "------------------------------------------------------------\n"
     ]
    },
    {
     "name": "stderr",
     "output_type": "stream",
     "text": [
      "Batch calculation at epoch 59.: 4295it [04:53, 14.62it/s]\n"
     ]
    },
    {
     "name": "stdout",
     "output_type": "stream",
     "text": [
      "=======================================\n",
      "End of epoch 59\n",
      "=======================================\n",
      "Running average global loss: 1.3329345539957285 (over last 1600 batches)\n",
      "Running average activity prediction loss: 0.8495582965016365 (Cross Entropy over last 1600 batches)\n",
      "Running average (complete) remaining runtime prediction loss: 0.48337625807151197 (MAE over last 1600 batches)\n"
     ]
    },
    {
     "name": "stderr",
     "output_type": "stream",
     "text": [
      "Validation batch calculation: 40it [00:36,  1.08it/s]\n"
     ]
    },
    {
     "name": "stdout",
     "output_type": "stream",
     "text": [
      "Avg 1-(normalized) DL distance acitivty suffix prediction validation set: 0.839082881808281\n",
      "Percentage of suffixes predicted to END: too early - 0.2921063324180898 ; right moment - 0.6331925582082569 ; too late - 0.0747011093736533\n",
      "Too early instances - avg amount of events too early: 1.6529674530029297\n",
      "Too late instances - avg amount of events too late: 2.892698287963867\n",
      "Avg absolute amount of events predicted too early / too late: 0.698930025100708\n",
      "Avg MAE TTNE prediction validation set: 17809.59375 (minutes)'\n",
      "Avg MAE RRT prediction validation set: 0.6184766888618469 (standardized) ; 33753.03958333333 (minutes)'\n",
      "Avg validation loss: 1.504635214805603\n",
      " \n",
      "------------------------------------\n",
      "EPOCH 60:\n",
      "____________________________________\n"
     ]
    },
    {
     "name": "stderr",
     "output_type": "stream",
     "text": [
      "Batch calculation at epoch 60.: 1603it [00:52, 34.42it/s]"
     ]
    },
    {
     "name": "stdout",
     "output_type": "stream",
     "text": [
      "------------------------------------------------------------\n",
      "Epoch 60, batch 1599:\n",
      "Average original gradient norm: 0.4566211976483464 (over last 1600 batches)\n",
      "Average clipped gradient norm: 0.4566211976483464 (over last 1600 batches)\n",
      "Running average global loss: 1.3339136370271445 (over last 1600 batches)\n",
      "Running average activity prediction loss: 0.8501633675023913 (Cross Entropy over last 1600 batches)\n",
      "Running average (complete) remaining runtime prediction loss: 0.4837502696737647 (MAE over last 1600 batches)\n",
      "------------------------------------------------------------\n"
     ]
    },
    {
     "name": "stderr",
     "output_type": "stream",
     "text": [
      "Batch calculation at epoch 60.: 3201it [02:05, 14.31it/s]"
     ]
    },
    {
     "name": "stdout",
     "output_type": "stream",
     "text": [
      "------------------------------------------------------------\n",
      "Epoch 60, batch 3199:\n",
      "Average original gradient norm: 0.4569105919171125 (over last 1600 batches)\n",
      "Average clipped gradient norm: 0.4569105919171125 (over last 1600 batches)\n",
      "Running average global loss: 1.3270891200378536 (over last 1600 batches)\n",
      "Running average activity prediction loss: 0.8460055150836706 (Cross Entropy over last 1600 batches)\n",
      "Running average (complete) remaining runtime prediction loss: 0.48108360469341277 (MAE over last 1600 batches)\n",
      "------------------------------------------------------------\n"
     ]
    },
    {
     "name": "stderr",
     "output_type": "stream",
     "text": [
      "Batch calculation at epoch 60.: 4295it [03:07, 22.90it/s]\n"
     ]
    },
    {
     "name": "stdout",
     "output_type": "stream",
     "text": [
      "=======================================\n",
      "End of epoch 60\n",
      "=======================================\n",
      "Running average global loss: 1.3323040084540845 (over last 1600 batches)\n",
      "Running average activity prediction loss: 0.8501916047371924 (Cross Entropy over last 1600 batches)\n",
      "Running average (complete) remaining runtime prediction loss: 0.48211240261793137 (MAE over last 1600 batches)\n"
     ]
    },
    {
     "name": "stderr",
     "output_type": "stream",
     "text": [
      "Validation batch calculation: 40it [00:35,  1.14it/s]\n"
     ]
    },
    {
     "name": "stdout",
     "output_type": "stream",
     "text": [
      "Avg 1-(normalized) DL distance acitivty suffix prediction validation set: 0.8391865640878677\n",
      "Percentage of suffixes predicted to END: too early - 0.29350997943780244 ; right moment - 0.6335742516960735 ; too late - 0.07291576886612408\n",
      "Too early instances - avg amount of events too early: 1.6560114622116089\n",
      "Too late instances - avg amount of events too late: 2.917426347732544\n",
      "Avg absolute amount of events predicted too early / too late: 0.6987822651863098\n",
      "Avg MAE TTNE prediction validation set: 17749.927083333332 (minutes)'\n",
      "Avg MAE RRT prediction validation set: 0.6222104430198669 (standardized) ; 33956.40833333333 (minutes)'\n",
      "Avg validation loss: 1.5060670375823975\n",
      " \n",
      "------------------------------------\n",
      "EPOCH 61:\n",
      "____________________________________\n"
     ]
    },
    {
     "name": "stderr",
     "output_type": "stream",
     "text": [
      "Batch calculation at epoch 61.: 1606it [00:41, 39.17it/s]"
     ]
    },
    {
     "name": "stdout",
     "output_type": "stream",
     "text": [
      "------------------------------------------------------------\n",
      "Epoch 61, batch 1599:\n",
      "Average original gradient norm: 0.4588507838267833 (over last 1600 batches)\n",
      "Average clipped gradient norm: 0.4588507838267833 (over last 1600 batches)\n",
      "Running average global loss: 1.3335142543911933 (over last 1600 batches)\n",
      "Running average activity prediction loss: 0.8511061339825392 (Cross Entropy over last 1600 batches)\n",
      "Running average (complete) remaining runtime prediction loss: 0.48240812089294194 (MAE over last 1600 batches)\n",
      "------------------------------------------------------------\n"
     ]
    },
    {
     "name": "stderr",
     "output_type": "stream",
     "text": [
      "Batch calculation at epoch 61.: 3206it [01:21, 47.16it/s]"
     ]
    },
    {
     "name": "stdout",
     "output_type": "stream",
     "text": [
      "------------------------------------------------------------\n",
      "Epoch 61, batch 3199:\n",
      "Average original gradient norm: 0.4601608424447477 (over last 1600 batches)\n",
      "Average clipped gradient norm: 0.4595154102705419 (over last 1600 batches)\n",
      "Running average global loss: 1.3284813063591718 (over last 1600 batches)\n",
      "Running average activity prediction loss: 0.8466886940598488 (Cross Entropy over last 1600 batches)\n",
      "Running average (complete) remaining runtime prediction loss: 0.48179261226207015 (MAE over last 1600 batches)\n",
      "------------------------------------------------------------\n"
     ]
    },
    {
     "name": "stderr",
     "output_type": "stream",
     "text": [
      "Batch calculation at epoch 61.: 4295it [01:39, 43.20it/s]\n"
     ]
    },
    {
     "name": "stdout",
     "output_type": "stream",
     "text": [
      "=======================================\n",
      "End of epoch 61\n",
      "=======================================\n",
      "Running average global loss: 1.3292560370266437 (over last 1600 batches)\n",
      "Running average activity prediction loss: 0.8477884203195571 (Cross Entropy over last 1600 batches)\n",
      "Running average (complete) remaining runtime prediction loss: 0.4814676166884601 (MAE over last 1600 batches)\n"
     ]
    },
    {
     "name": "stderr",
     "output_type": "stream",
     "text": [
      "Validation batch calculation: 40it [00:26,  1.52it/s]\n"
     ]
    },
    {
     "name": "stdout",
     "output_type": "stream",
     "text": [
      "Avg 1-(normalized) DL distance acitivty suffix prediction validation set: 0.8392238467931747\n",
      "Percentage of suffixes predicted to END: too early - 0.29246340051959563 ; right moment - 0.6333649359124321 ; too late - 0.07417166356797222\n",
      "Too early instances - avg amount of events too early: 1.6561697721481323\n",
      "Too late instances - avg amount of events too late: 2.8783202171325684\n",
      "Avg absolute amount of events predicted too early / too late: 0.6978588104248047\n",
      "Avg MAE TTNE prediction validation set: 17883.679166666665 (minutes)'\n",
      "Avg MAE RRT prediction validation set: 0.6188861727714539 (standardized) ; 33774.55625 (minutes)'\n",
      "Avg validation loss: 1.506680965423584\n",
      " \n",
      "------------------------------------\n",
      "EPOCH 62:\n",
      "____________________________________\n"
     ]
    },
    {
     "name": "stderr",
     "output_type": "stream",
     "text": [
      "Batch calculation at epoch 62.: 1608it [00:35, 40.69it/s]"
     ]
    },
    {
     "name": "stdout",
     "output_type": "stream",
     "text": [
      "------------------------------------------------------------\n",
      "Epoch 62, batch 1599:\n",
      "Average original gradient norm: 0.4597954147960991 (over last 1600 batches)\n",
      "Average clipped gradient norm: 0.4597954147960991 (over last 1600 batches)\n",
      "Running average global loss: 1.3310126278549432 (over last 1600 batches)\n",
      "Running average activity prediction loss: 0.8495122365653515 (Cross Entropy over last 1600 batches)\n",
      "Running average (complete) remaining runtime prediction loss: 0.48150038987398147 (MAE over last 1600 batches)\n",
      "------------------------------------------------------------\n"
     ]
    },
    {
     "name": "stderr",
     "output_type": "stream",
     "text": [
      "Batch calculation at epoch 62.: 3201it [01:10, 33.78it/s]"
     ]
    },
    {
     "name": "stdout",
     "output_type": "stream",
     "text": [
      "------------------------------------------------------------\n",
      "Epoch 62, batch 3199:\n",
      "Average original gradient norm: 0.46760295337997376 (over last 1600 batches)\n",
      "Average clipped gradient norm: 0.46760295337997376 (over last 1600 batches)\n",
      "Running average global loss: 1.3300153857469559 (over last 1600 batches)\n",
      "Running average activity prediction loss: 0.8476514486223459 (Cross Entropy over last 1600 batches)\n",
      "Running average (complete) remaining runtime prediction loss: 0.48236393705010416 (MAE over last 1600 batches)\n",
      "------------------------------------------------------------\n"
     ]
    },
    {
     "name": "stderr",
     "output_type": "stream",
     "text": [
      "Batch calculation at epoch 62.: 4295it [01:38, 43.76it/s]\n"
     ]
    },
    {
     "name": "stdout",
     "output_type": "stream",
     "text": [
      "=======================================\n",
      "End of epoch 62\n",
      "=======================================\n",
      "Running average global loss: 1.3309058214351535 (over last 1600 batches)\n",
      "Running average activity prediction loss: 0.8481956867873669 (Cross Entropy over last 1600 batches)\n",
      "Running average (complete) remaining runtime prediction loss: 0.48271013556048276 (MAE over last 1600 batches)\n"
     ]
    },
    {
     "name": "stderr",
     "output_type": "stream",
     "text": [
      "Validation batch calculation: 40it [00:26,  1.52it/s]\n"
     ]
    },
    {
     "name": "stdout",
     "output_type": "stream",
     "text": [
      "Avg 1-(normalized) DL distance acitivty suffix prediction validation set: 0.8395624905824661\n",
      "Percentage of suffixes predicted to END: too early - 0.2947043106738737 ; right moment - 0.6341036975017545 ; too late - 0.07119199182437175\n",
      "Too early instances - avg amount of events too early: 1.6576980352401733\n",
      "Too late instances - avg amount of events too late: 2.8929436206817627\n",
      "Avg absolute amount of events predicted too early / too late: 0.6944851279258728\n",
      "Avg MAE TTNE prediction validation set: 17878.220833333333 (minutes)'\n",
      "Avg MAE RRT prediction validation set: 0.6190725564956665 (standardized) ; 33785.74375 (minutes)'\n",
      "Avg validation loss: 1.5046906471252441\n",
      " \n",
      "------------------------------------\n",
      "EPOCH 63:\n",
      "____________________________________\n"
     ]
    },
    {
     "name": "stderr",
     "output_type": "stream",
     "text": [
      "Batch calculation at epoch 63.: 1604it [01:16, 43.53it/s]"
     ]
    },
    {
     "name": "stdout",
     "output_type": "stream",
     "text": [
      "------------------------------------------------------------\n",
      "Epoch 63, batch 1599:\n",
      "Average original gradient norm: 0.46284489897079767 (over last 1600 batches)\n",
      "Average clipped gradient norm: 0.46284489897079767 (over last 1600 batches)\n",
      "Running average global loss: 1.3304551673680545 (over last 1600 batches)\n",
      "Running average activity prediction loss: 0.8492875478416682 (Cross Entropy over last 1600 batches)\n",
      "Running average (complete) remaining runtime prediction loss: 0.4811676214821637 (MAE over last 1600 batches)\n",
      "------------------------------------------------------------\n"
     ]
    },
    {
     "name": "stderr",
     "output_type": "stream",
     "text": [
      "Batch calculation at epoch 63.: 3204it [02:26, 20.83it/s]"
     ]
    },
    {
     "name": "stdout",
     "output_type": "stream",
     "text": [
      "------------------------------------------------------------\n",
      "Epoch 63, batch 3199:\n",
      "Average original gradient norm: 0.4671120572183281 (over last 1600 batches)\n",
      "Average clipped gradient norm: 0.4671120572183281 (over last 1600 batches)\n",
      "Running average global loss: 1.3251874847337604 (over last 1600 batches)\n",
      "Running average activity prediction loss: 0.8437012784928083 (Cross Entropy over last 1600 batches)\n",
      "Running average (complete) remaining runtime prediction loss: 0.4814862057380378 (MAE over last 1600 batches)\n",
      "------------------------------------------------------------\n"
     ]
    },
    {
     "name": "stderr",
     "output_type": "stream",
     "text": [
      "Batch calculation at epoch 63.: 4295it [03:40, 19.49it/s]\n"
     ]
    },
    {
     "name": "stdout",
     "output_type": "stream",
     "text": [
      "=======================================\n",
      "End of epoch 63\n",
      "=======================================\n",
      "Running average global loss: 1.332806621566415 (over last 1600 batches)\n",
      "Running average activity prediction loss: 0.8501815268024803 (Cross Entropy over last 1600 batches)\n",
      "Running average (complete) remaining runtime prediction loss: 0.4826250939629972 (MAE over last 1600 batches)\n"
     ]
    },
    {
     "name": "stderr",
     "output_type": "stream",
     "text": [
      "Validation batch calculation: 40it [00:28,  1.42it/s]\n"
     ]
    },
    {
     "name": "stdout",
     "output_type": "stream",
     "text": [
      "Avg 1-(normalized) DL distance acitivty suffix prediction validation set: 0.8389215767383575\n",
      "Percentage of suffixes predicted to END: too early - 0.2915768866124087 ; right moment - 0.6331186820493246 ; too late - 0.07530443133826661\n",
      "Too early instances - avg amount of events too early: 1.6583759784698486\n",
      "Too late instances - avg amount of events too late: 2.8719749450683594\n",
      "Avg absolute amount of events predicted too early / too late: 0.6998165249824524\n",
      "Avg MAE TTNE prediction validation set: 17793.679166666665 (minutes)'\n",
      "Avg MAE RRT prediction validation set: 0.6193292140960693 (standardized) ; 33801.191666666666 (minutes)'\n",
      "Avg validation loss: 1.5058475732803345\n",
      " \n",
      "------------------------------------\n",
      "EPOCH 64:\n",
      "____________________________________\n"
     ]
    },
    {
     "name": "stderr",
     "output_type": "stream",
     "text": [
      "Batch calculation at epoch 64.: 1606it [00:41, 40.24it/s]"
     ]
    },
    {
     "name": "stdout",
     "output_type": "stream",
     "text": [
      "------------------------------------------------------------\n",
      "Epoch 64, batch 1599:\n",
      "Average original gradient norm: 0.46946172750554976 (over last 1600 batches)\n",
      "Average clipped gradient norm: 0.46577321699820456 (over last 1600 batches)\n",
      "Running average global loss: 1.3287379882857204 (over last 1600 batches)\n",
      "Running average activity prediction loss: 0.8469239676371216 (Cross Entropy over last 1600 batches)\n",
      "Running average (complete) remaining runtime prediction loss: 0.48181402174755933 (MAE over last 1600 batches)\n",
      "------------------------------------------------------------\n"
     ]
    },
    {
     "name": "stderr",
     "output_type": "stream",
     "text": [
      "Batch calculation at epoch 64.: 3202it [01:30, 19.91it/s]"
     ]
    },
    {
     "name": "stdout",
     "output_type": "stream",
     "text": [
      "------------------------------------------------------------\n",
      "Epoch 64, batch 3199:\n",
      "Average original gradient norm: 0.46472461582161484 (over last 1600 batches)\n",
      "Average clipped gradient norm: 0.46472461582161484 (over last 1600 batches)\n",
      "Running average global loss: 1.3303946486860514 (over last 1600 batches)\n",
      "Running average activity prediction loss: 0.848492402099073 (Cross Entropy over last 1600 batches)\n",
      "Running average (complete) remaining runtime prediction loss: 0.48190224716439845 (MAE over last 1600 batches)\n",
      "------------------------------------------------------------\n"
     ]
    },
    {
     "name": "stderr",
     "output_type": "stream",
     "text": [
      "Batch calculation at epoch 64.: 4295it [02:11, 32.71it/s]\n"
     ]
    },
    {
     "name": "stdout",
     "output_type": "stream",
     "text": [
      "=======================================\n",
      "End of epoch 64\n",
      "=======================================\n",
      "Running average global loss: 1.3344036889076234 (over last 1600 batches)\n",
      "Running average activity prediction loss: 0.8515329889953136 (Cross Entropy over last 1600 batches)\n",
      "Running average (complete) remaining runtime prediction loss: 0.482870699968189 (MAE over last 1600 batches)\n"
     ]
    },
    {
     "name": "stderr",
     "output_type": "stream",
     "text": [
      "Validation batch calculation: 40it [00:28,  1.38it/s]\n"
     ]
    },
    {
     "name": "stdout",
     "output_type": "stream",
     "text": [
      "Avg 1-(normalized) DL distance acitivty suffix prediction validation set: 0.8392538577318192\n",
      "Percentage of suffixes predicted to END: too early - 0.29369466983513304 ; right moment - 0.6343868894443282 ; too late - 0.07191844072053881\n",
      "Too early instances - avg amount of events too early: 1.6598751544952393\n",
      "Too late instances - avg amount of events too late: 2.8943674564361572\n",
      "Avg absolute amount of events predicted too early / too late: 0.6956548094749451\n",
      "Avg MAE TTNE prediction validation set: 17806.902083333334 (minutes)'\n",
      "Avg MAE RRT prediction validation set: 0.6202778816223145 (standardized) ; 33852.39166666667 (minutes)'\n",
      "Avg validation loss: 1.505192756652832\n",
      " \n",
      "------------------------------------\n",
      "EPOCH 65:\n",
      "____________________________________\n"
     ]
    },
    {
     "name": "stderr",
     "output_type": "stream",
     "text": [
      "Batch calculation at epoch 65.: 1601it [01:15, 13.54it/s]"
     ]
    },
    {
     "name": "stdout",
     "output_type": "stream",
     "text": [
      "------------------------------------------------------------\n",
      "Epoch 65, batch 1599:\n",
      "Average original gradient norm: 0.46494481838308277 (over last 1600 batches)\n",
      "Average clipped gradient norm: 0.46494481838308277 (over last 1600 batches)\n",
      "Running average global loss: 1.3330347155034543 (over last 1600 batches)\n",
      "Running average activity prediction loss: 0.8510028097406029 (Cross Entropy over last 1600 batches)\n",
      "Running average (complete) remaining runtime prediction loss: 0.48203190792351963 (MAE over last 1600 batches)\n",
      "------------------------------------------------------------\n"
     ]
    },
    {
     "name": "stderr",
     "output_type": "stream",
     "text": [
      "Batch calculation at epoch 65.: 3205it [02:30, 51.88it/s]"
     ]
    },
    {
     "name": "stdout",
     "output_type": "stream",
     "text": [
      "------------------------------------------------------------\n",
      "Epoch 65, batch 3199:\n",
      "Average original gradient norm: 0.46629011011682453 (over last 1600 batches)\n",
      "Average clipped gradient norm: 0.46629011011682453 (over last 1600 batches)\n",
      "Running average global loss: 1.3281813238561153 (over last 1600 batches)\n",
      "Running average activity prediction loss: 0.8468742999061942 (Cross Entropy over last 1600 batches)\n",
      "Running average (complete) remaining runtime prediction loss: 0.48130702406167986 (MAE over last 1600 batches)\n",
      "------------------------------------------------------------\n"
     ]
    },
    {
     "name": "stderr",
     "output_type": "stream",
     "text": [
      "Batch calculation at epoch 65.: 4295it [03:01, 23.65it/s]\n"
     ]
    },
    {
     "name": "stdout",
     "output_type": "stream",
     "text": [
      "=======================================\n",
      "End of epoch 65\n",
      "=======================================\n",
      "Running average global loss: 1.32635297100991 (over last 1600 batches)\n",
      "Running average activity prediction loss: 0.8445742439106106 (Cross Entropy over last 1600 batches)\n",
      "Running average (complete) remaining runtime prediction loss: 0.48177872808650135 (MAE over last 1600 batches)\n"
     ]
    },
    {
     "name": "stderr",
     "output_type": "stream",
     "text": [
      "Validation batch calculation: 40it [00:30,  1.32it/s]\n"
     ]
    },
    {
     "name": "stdout",
     "output_type": "stream",
     "text": [
      "Avg 1-(normalized) DL distance acitivty suffix prediction validation set: 0.8388992846012115\n",
      "Percentage of suffixes predicted to END: too early - 0.29115825504512605 ; right moment - 0.6335373136166074 ; too late - 0.07530443133826661\n",
      "Too early instances - avg amount of events too early: 1.6523449420928955\n",
      "Too late instances - avg amount of events too late: 2.8780248165130615\n",
      "Avg absolute amount of events predicted too early / too late: 0.697821855545044\n",
      "Avg MAE TTNE prediction validation set: 17792.629166666666 (minutes)'\n",
      "Avg MAE RRT prediction validation set: 0.6218817234039307 (standardized) ; 33939.7 (minutes)'\n",
      "Avg validation loss: 1.5071425437927246\n",
      " \n",
      "------------------------------------\n",
      "EPOCH 66:\n",
      "____________________________________\n"
     ]
    },
    {
     "name": "stderr",
     "output_type": "stream",
     "text": [
      "Batch calculation at epoch 66.: 1603it [01:46, 28.61it/s]"
     ]
    },
    {
     "name": "stdout",
     "output_type": "stream",
     "text": [
      "------------------------------------------------------------\n",
      "Epoch 66, batch 1599:\n",
      "Average original gradient norm: 0.46698512726463376 (over last 1600 batches)\n",
      "Average clipped gradient norm: 0.4662752279732376 (over last 1600 batches)\n",
      "Running average global loss: 1.3290360693633556 (over last 1600 batches)\n",
      "Running average activity prediction loss: 0.8474313647672534 (Cross Entropy over last 1600 batches)\n",
      "Running average (complete) remaining runtime prediction loss: 0.48160470396280286 (MAE over last 1600 batches)\n",
      "------------------------------------------------------------\n"
     ]
    },
    {
     "name": "stderr",
     "output_type": "stream",
     "text": [
      "Batch calculation at epoch 66.: 3204it [02:47, 27.59it/s]"
     ]
    },
    {
     "name": "stdout",
     "output_type": "stream",
     "text": [
      "------------------------------------------------------------\n",
      "Epoch 66, batch 3199:\n",
      "Average original gradient norm: 0.4681929329689592 (over last 1600 batches)\n",
      "Average clipped gradient norm: 0.4681929329689592 (over last 1600 batches)\n",
      "Running average global loss: 1.331376539245248 (over last 1600 batches)\n",
      "Running average activity prediction loss: 0.8495245241373778 (Cross Entropy over last 1600 batches)\n",
      "Running average (complete) remaining runtime prediction loss: 0.48185201494023205 (MAE over last 1600 batches)\n",
      "------------------------------------------------------------\n"
     ]
    },
    {
     "name": "stderr",
     "output_type": "stream",
     "text": [
      "Batch calculation at epoch 66.: 4295it [04:12, 17.02it/s]\n"
     ]
    },
    {
     "name": "stdout",
     "output_type": "stream",
     "text": [
      "=======================================\n",
      "End of epoch 66\n",
      "=======================================\n",
      "Running average global loss: 1.331363814920187 (over last 1600 batches)\n",
      "Running average activity prediction loss: 0.8492262442037464 (Cross Entropy over last 1600 batches)\n",
      "Running average (complete) remaining runtime prediction loss: 0.48213757006451485 (MAE over last 1600 batches)\n"
     ]
    },
    {
     "name": "stderr",
     "output_type": "stream",
     "text": [
      "Validation batch calculation: 40it [00:29,  1.36it/s]\n"
     ]
    },
    {
     "name": "stdout",
     "output_type": "stream",
     "text": [
      "Avg 1-(normalized) DL distance acitivty suffix prediction validation set: 0.8395614922046661\n",
      "Percentage of suffixes predicted to END: too early - 0.29439649334498935 ; right moment - 0.634251449819619 ; too late - 0.0713520568353916\n",
      "Too early instances - avg amount of events too early: 1.653868556022644\n",
      "Too late instances - avg amount of events too late: 2.8902502059936523\n",
      "Avg absolute amount of events predicted too early / too late: 0.6931183934211731\n",
      "Avg MAE TTNE prediction validation set: 17819.8 (minutes)'\n",
      "Avg MAE RRT prediction validation set: 0.620638906955719 (standardized) ; 33870.99791666667 (minutes)'\n",
      "Avg validation loss: 1.507091760635376\n",
      " \n",
      "------------------------------------\n",
      "EPOCH 67:\n",
      "____________________________________\n"
     ]
    },
    {
     "name": "stderr",
     "output_type": "stream",
     "text": [
      "Batch calculation at epoch 67.: 1601it [02:16,  9.05it/s]"
     ]
    },
    {
     "name": "stdout",
     "output_type": "stream",
     "text": [
      "------------------------------------------------------------\n",
      "Epoch 67, batch 1599:\n",
      "Average original gradient norm: 0.47049082566052675 (over last 1600 batches)\n",
      "Average clipped gradient norm: 0.47049082566052675 (over last 1600 batches)\n",
      "Running average global loss: 1.327296151071787 (over last 1600 batches)\n",
      "Running average activity prediction loss: 0.845814399830997 (Cross Entropy over last 1600 batches)\n",
      "Running average (complete) remaining runtime prediction loss: 0.48148174993693826 (MAE over last 1600 batches)\n",
      "------------------------------------------------------------\n"
     ]
    },
    {
     "name": "stderr",
     "output_type": "stream",
     "text": [
      "Batch calculation at epoch 67.: 3204it [03:31, 26.11it/s]"
     ]
    },
    {
     "name": "stdout",
     "output_type": "stream",
     "text": [
      "------------------------------------------------------------\n",
      "Epoch 67, batch 3199:\n",
      "Average original gradient norm: 0.46861833228729666 (over last 1600 batches)\n",
      "Average clipped gradient norm: 0.46861833228729666 (over last 1600 batches)\n",
      "Running average global loss: 1.3316573922336101 (over last 1600 batches)\n",
      "Running average activity prediction loss: 0.8501303872838616 (Cross Entropy over last 1600 batches)\n",
      "Running average (complete) remaining runtime prediction loss: 0.4815270057320595 (MAE over last 1600 batches)\n",
      "------------------------------------------------------------\n"
     ]
    },
    {
     "name": "stderr",
     "output_type": "stream",
     "text": [
      "Batch calculation at epoch 67.: 4295it [04:12, 17.02it/s]\n"
     ]
    },
    {
     "name": "stdout",
     "output_type": "stream",
     "text": [
      "=======================================\n",
      "End of epoch 67\n",
      "=======================================\n",
      "Running average global loss: 1.3305331952869892 (over last 1600 batches)\n",
      "Running average activity prediction loss: 0.8490332446619868 (Cross Entropy over last 1600 batches)\n",
      "Running average (complete) remaining runtime prediction loss: 0.4814999520592391 (MAE over last 1600 batches)\n"
     ]
    },
    {
     "name": "stderr",
     "output_type": "stream",
     "text": [
      "Validation batch calculation: 40it [00:29,  1.37it/s]\n"
     ]
    },
    {
     "name": "stdout",
     "output_type": "stream",
     "text": [
      "Avg 1-(normalized) DL distance acitivty suffix prediction validation set: 0.8390975445508957\n",
      "Percentage of suffixes predicted to END: too early - 0.291847765861827 ; right moment - 0.6331556201287908 ; too late - 0.07499661400938228\n",
      "Too early instances - avg amount of events too early: 1.6548116207122803\n",
      "Too late instances - avg amount of events too late: 2.904120922088623\n",
      "Avg absolute amount of events predicted too early / too late: 0.700752317905426\n",
      "Avg MAE TTNE prediction validation set: 17815.039583333335 (minutes)'\n",
      "Avg MAE RRT prediction validation set: 0.6209702491760254 (standardized) ; 33888.58541666667 (minutes)'\n",
      "Avg validation loss: 1.5067057609558105\n",
      " \n",
      "------------------------------------\n",
      "EPOCH 68:\n",
      "____________________________________\n"
     ]
    },
    {
     "name": "stderr",
     "output_type": "stream",
     "text": [
      "Batch calculation at epoch 68.: 1602it [02:32, 10.68it/s]"
     ]
    },
    {
     "name": "stdout",
     "output_type": "stream",
     "text": [
      "------------------------------------------------------------\n",
      "Epoch 68, batch 1599:\n",
      "Average original gradient norm: 0.47074343788437545 (over last 1600 batches)\n",
      "Average clipped gradient norm: 0.47074343788437545 (over last 1600 batches)\n",
      "Running average global loss: 1.3339059022814035 (over last 1600 batches)\n",
      "Running average activity prediction loss: 0.8512309071049095 (Cross Entropy over last 1600 batches)\n",
      "Running average (complete) remaining runtime prediction loss: 0.48267499631270766 (MAE over last 1600 batches)\n",
      "------------------------------------------------------------\n"
     ]
    },
    {
     "name": "stderr",
     "output_type": "stream",
     "text": [
      "Batch calculation at epoch 68.: 3204it [04:38, 26.07it/s]"
     ]
    },
    {
     "name": "stdout",
     "output_type": "stream",
     "text": [
      "------------------------------------------------------------\n",
      "Epoch 68, batch 3199:\n",
      "Average original gradient norm: 0.4781498543638736 (over last 1600 batches)\n",
      "Average clipped gradient norm: 0.4781498543638736 (over last 1600 batches)\n",
      "Running average global loss: 1.324193679280579 (over last 1600 batches)\n",
      "Running average activity prediction loss: 0.8441360838338733 (Cross Entropy over last 1600 batches)\n",
      "Running average (complete) remaining runtime prediction loss: 0.48005759514868257 (MAE over last 1600 batches)\n",
      "------------------------------------------------------------\n"
     ]
    },
    {
     "name": "stderr",
     "output_type": "stream",
     "text": [
      "Batch calculation at epoch 68.: 4295it [05:31, 12.96it/s]\n"
     ]
    },
    {
     "name": "stdout",
     "output_type": "stream",
     "text": [
      "=======================================\n",
      "End of epoch 68\n",
      "=======================================\n",
      "Running average global loss: 1.328969273082912 (over last 1600 batches)\n",
      "Running average activity prediction loss: 0.8480220407992601 (Cross Entropy over last 1600 batches)\n",
      "Running average (complete) remaining runtime prediction loss: 0.4809472338669002 (MAE over last 1600 batches)\n"
     ]
    },
    {
     "name": "stderr",
     "output_type": "stream",
     "text": [
      "Validation batch calculation: 40it [00:27,  1.48it/s]\n"
     ]
    },
    {
     "name": "stdout",
     "output_type": "stream",
     "text": [
      "Avg 1-(normalized) DL distance acitivty suffix prediction validation set: 0.8393464386463165\n",
      "Percentage of suffixes predicted to END: too early - 0.2932391001883842 ; right moment - 0.6337589420934041 ; too late - 0.0730019577182117\n",
      "Too early instances - avg amount of events too early: 1.6557776927947998\n",
      "Too late instances - avg amount of events too late: 2.891718626022339\n",
      "Avg absolute amount of events predicted too early / too late: 0.6966398358345032\n",
      "Avg MAE TTNE prediction validation set: 17887.55625 (minutes)'\n",
      "Avg MAE RRT prediction validation set: 0.61970055103302 (standardized) ; 33820.7125 (minutes)'\n",
      "Avg validation loss: 1.505954623222351\n",
      " \n",
      "------------------------------------\n",
      "EPOCH 69:\n",
      "____________________________________\n"
     ]
    },
    {
     "name": "stderr",
     "output_type": "stream",
     "text": [
      "Batch calculation at epoch 69.: 1601it [02:04,  9.66it/s]"
     ]
    },
    {
     "name": "stdout",
     "output_type": "stream",
     "text": [
      "------------------------------------------------------------\n",
      "Epoch 69, batch 1599:\n",
      "Average original gradient norm: 0.4774389496073127 (over last 1600 batches)\n",
      "Average clipped gradient norm: 0.47640814784914254 (over last 1600 batches)\n",
      "Running average global loss: 1.3321015057712793 (over last 1600 batches)\n",
      "Running average activity prediction loss: 0.8497033416852355 (Cross Entropy over last 1600 batches)\n",
      "Running average (complete) remaining runtime prediction loss: 0.4823981653340161 (MAE over last 1600 batches)\n",
      "------------------------------------------------------------\n"
     ]
    },
    {
     "name": "stderr",
     "output_type": "stream",
     "text": [
      "Batch calculation at epoch 69.: 3201it [04:20, 20.20it/s]"
     ]
    },
    {
     "name": "stdout",
     "output_type": "stream",
     "text": [
      "------------------------------------------------------------\n",
      "Epoch 69, batch 3199:\n",
      "Average original gradient norm: 0.470333708031103 (over last 1600 batches)\n",
      "Average clipped gradient norm: 0.4702598790358752 (over last 1600 batches)\n",
      "Running average global loss: 1.3259093938022852 (over last 1600 batches)\n",
      "Running average activity prediction loss: 0.8452067647501826 (Cross Entropy over last 1600 batches)\n",
      "Running average (complete) remaining runtime prediction loss: 0.4807026287354529 (MAE over last 1600 batches)\n",
      "------------------------------------------------------------\n"
     ]
    },
    {
     "name": "stderr",
     "output_type": "stream",
     "text": [
      "Batch calculation at epoch 69.: 4295it [05:23, 13.27it/s]\n"
     ]
    },
    {
     "name": "stdout",
     "output_type": "stream",
     "text": [
      "=======================================\n",
      "End of epoch 69\n",
      "=======================================\n",
      "Running average global loss: 1.331395318992436 (over last 1600 batches)\n",
      "Running average activity prediction loss: 0.8496915411949157 (Cross Entropy over last 1600 batches)\n",
      "Running average (complete) remaining runtime prediction loss: 0.48170377641916273 (MAE over last 1600 batches)\n"
     ]
    },
    {
     "name": "stderr",
     "output_type": "stream",
     "text": [
      "Validation batch calculation: 40it [00:47,  1.18s/it]\n"
     ]
    },
    {
     "name": "stdout",
     "output_type": "stream",
     "text": [
      "Avg 1-(normalized) DL distance acitivty suffix prediction validation set: 0.8390251845121384\n",
      "Percentage of suffixes predicted to END: too early - 0.2928204686211015 ; right moment - 0.6328601154930618 ; too late - 0.07431941588583671\n",
      "Too early instances - avg amount of events too early: 1.653687596321106\n",
      "Too late instances - avg amount of events too late: 2.8658053874969482\n",
      "Avg absolute amount of events predicted too early / too late: 0.6972185373306274\n",
      "Avg MAE TTNE prediction validation set: 17849.675 (minutes)'\n",
      "Avg MAE RRT prediction validation set: 0.6218084096908569 (standardized) ; 33935.5125 (minutes)'\n",
      "Avg validation loss: 1.5074176788330078\n",
      " \n",
      "------------------------------------\n",
      "EPOCH 70:\n",
      "____________________________________\n"
     ]
    },
    {
     "name": "stderr",
     "output_type": "stream",
     "text": [
      "Batch calculation at epoch 70.: 1601it [01:14, 23.79it/s]"
     ]
    },
    {
     "name": "stdout",
     "output_type": "stream",
     "text": [
      "------------------------------------------------------------\n",
      "Epoch 70, batch 1599:\n",
      "Average original gradient norm: 0.47013038060627876 (over last 1600 batches)\n",
      "Average clipped gradient norm: 0.47013038060627876 (over last 1600 batches)\n",
      "Running average global loss: 1.3278224578499793 (over last 1600 batches)\n",
      "Running average activity prediction loss: 0.847188949175179 (Cross Entropy over last 1600 batches)\n",
      "Running average (complete) remaining runtime prediction loss: 0.4806335098855197 (MAE over last 1600 batches)\n",
      "------------------------------------------------------------\n"
     ]
    },
    {
     "name": "stderr",
     "output_type": "stream",
     "text": [
      "Batch calculation at epoch 70.: 3206it [02:10, 39.56it/s]"
     ]
    },
    {
     "name": "stdout",
     "output_type": "stream",
     "text": [
      "------------------------------------------------------------\n",
      "Epoch 70, batch 3199:\n",
      "Average original gradient norm: 0.47246994722634555 (over last 1600 batches)\n",
      "Average clipped gradient norm: 0.47246994722634555 (over last 1600 batches)\n",
      "Running average global loss: 1.329173599034548 (over last 1600 batches)\n",
      "Running average activity prediction loss: 0.8488044509664178 (Cross Entropy over last 1600 batches)\n",
      "Running average (complete) remaining runtime prediction loss: 0.4803691478818655 (MAE over last 1600 batches)\n",
      "------------------------------------------------------------\n"
     ]
    },
    {
     "name": "stderr",
     "output_type": "stream",
     "text": [
      "Batch calculation at epoch 70.: 4295it [02:46, 25.80it/s]\n"
     ]
    },
    {
     "name": "stdout",
     "output_type": "stream",
     "text": [
      "=======================================\n",
      "End of epoch 70\n",
      "=======================================\n",
      "Running average global loss: 1.329885794892907 (over last 1600 batches)\n",
      "Running average activity prediction loss: 0.8468363488838077 (Cross Entropy over last 1600 batches)\n",
      "Running average (complete) remaining runtime prediction loss: 0.4830494463071227 (MAE over last 1600 batches)\n"
     ]
    },
    {
     "name": "stderr",
     "output_type": "stream",
     "text": [
      "Validation batch calculation: 40it [00:34,  1.17it/s]\n"
     ]
    },
    {
     "name": "stdout",
     "output_type": "stream",
     "text": [
      "Avg 1-(normalized) DL distance acitivty suffix prediction validation set: 0.8389660120010376\n",
      "Percentage of suffixes predicted to END: too early - 0.29379317138037603 ; right moment - 0.6331802455151015 ; too late - 0.07302658310452245\n",
      "Too early instances - avg amount of events too early: 1.6563849449157715\n",
      "Too late instances - avg amount of events too late: 2.8737144470214844\n",
      "Avg absolute amount of events predicted too early / too late: 0.696492075920105\n",
      "Avg MAE TTNE prediction validation set: 17909.7375 (minutes)'\n",
      "Avg MAE RRT prediction validation set: 0.618624210357666 (standardized) ; 33758.475 (minutes)'\n",
      "Avg validation loss: 1.5069907903671265\n",
      " \n",
      "------------------------------------\n",
      "EPOCH 71:\n",
      "____________________________________\n"
     ]
    },
    {
     "name": "stderr",
     "output_type": "stream",
     "text": [
      "Batch calculation at epoch 71.: 1605it [00:39, 33.28it/s]"
     ]
    },
    {
     "name": "stdout",
     "output_type": "stream",
     "text": [
      "------------------------------------------------------------\n",
      "Epoch 71, batch 1599:\n",
      "Average original gradient norm: 0.46995365963317454 (over last 1600 batches)\n",
      "Average clipped gradient norm: 0.46995365963317454 (over last 1600 batches)\n",
      "Running average global loss: 1.3261695736274124 (over last 1600 batches)\n",
      "Running average activity prediction loss: 0.8458862290903926 (Cross Entropy over last 1600 batches)\n",
      "Running average (complete) remaining runtime prediction loss: 0.48028334334492684 (MAE over last 1600 batches)\n",
      "------------------------------------------------------------\n"
     ]
    },
    {
     "name": "stderr",
     "output_type": "stream",
     "text": [
      "Batch calculation at epoch 71.: 3207it [01:29, 36.61it/s]"
     ]
    },
    {
     "name": "stdout",
     "output_type": "stream",
     "text": [
      "------------------------------------------------------------\n",
      "Epoch 71, batch 3199:\n",
      "Average original gradient norm: 0.47038581015542147 (over last 1600 batches)\n",
      "Average clipped gradient norm: 0.47038581015542147 (over last 1600 batches)\n",
      "Running average global loss: 1.3325108452141285 (over last 1600 batches)\n",
      "Running average activity prediction loss: 0.8501668257266283 (Cross Entropy over last 1600 batches)\n",
      "Running average (complete) remaining runtime prediction loss: 0.48234401853755116 (MAE over last 1600 batches)\n",
      "------------------------------------------------------------\n"
     ]
    },
    {
     "name": "stderr",
     "output_type": "stream",
     "text": [
      "Batch calculation at epoch 71.: 4295it [01:51, 38.51it/s]\n"
     ]
    },
    {
     "name": "stdout",
     "output_type": "stream",
     "text": [
      "=======================================\n",
      "End of epoch 71\n",
      "=======================================\n",
      "Running average global loss: 1.327958190217614 (over last 1600 batches)\n",
      "Running average activity prediction loss: 0.8469850062951445 (Cross Entropy over last 1600 batches)\n",
      "Running average (complete) remaining runtime prediction loss: 0.4809731835126877 (MAE over last 1600 batches)\n"
     ]
    },
    {
     "name": "stderr",
     "output_type": "stream",
     "text": [
      "Validation batch calculation: 40it [00:25,  1.56it/s]\n"
     ]
    },
    {
     "name": "stdout",
     "output_type": "stream",
     "text": [
      "Avg 1-(normalized) DL distance acitivty suffix prediction validation set: 0.8392793387174606\n",
      "Percentage of suffixes predicted to END: too early - 0.2933868525062487 ; right moment - 0.6333403105261214 ; too late - 0.07327283696762993\n",
      "Too early instances - avg amount of events too early: 1.657042145729065\n",
      "Too late instances - avg amount of events too late: 2.8667449951171875\n",
      "Avg absolute amount of events predicted too early / too late: 0.6962088942527771\n",
      "Avg MAE TTNE prediction validation set: 17796.360416666666 (minutes)'\n",
      "Avg MAE RRT prediction validation set: 0.6204443573951721 (standardized) ; 33856.708333333336 (minutes)'\n",
      "Avg validation loss: 1.5069897174835205\n",
      " \n",
      "------------------------------------\n",
      "EPOCH 72:\n",
      "____________________________________\n"
     ]
    },
    {
     "name": "stderr",
     "output_type": "stream",
     "text": [
      "Batch calculation at epoch 72.: 1608it [00:27, 65.58it/s]"
     ]
    },
    {
     "name": "stdout",
     "output_type": "stream",
     "text": [
      "------------------------------------------------------------\n",
      "Epoch 72, batch 1599:\n",
      "Average original gradient norm: 0.47230280834250155 (over last 1600 batches)\n",
      "Average clipped gradient norm: 0.47226323316805063 (over last 1600 batches)\n",
      "Running average global loss: 1.3283464340120554 (over last 1600 batches)\n",
      "Running average activity prediction loss: 0.8470800545811653 (Cross Entropy over last 1600 batches)\n",
      "Running average (complete) remaining runtime prediction loss: 0.48126637963578106 (MAE over last 1600 batches)\n",
      "------------------------------------------------------------\n"
     ]
    },
    {
     "name": "stderr",
     "output_type": "stream",
     "text": [
      "Batch calculation at epoch 72.: 3212it [00:57, 45.64it/s]"
     ]
    },
    {
     "name": "stdout",
     "output_type": "stream",
     "text": [
      "------------------------------------------------------------\n",
      "Epoch 72, batch 3199:\n",
      "Average original gradient norm: 0.47364439263008534 (over last 1600 batches)\n",
      "Average clipped gradient norm: 0.47364439263008534 (over last 1600 batches)\n",
      "Running average global loss: 1.3315116365253925 (over last 1600 batches)\n",
      "Running average activity prediction loss: 0.849241286329925 (Cross Entropy over last 1600 batches)\n",
      "Running average (complete) remaining runtime prediction loss: 0.48227035004645585 (MAE over last 1600 batches)\n",
      "------------------------------------------------------------\n"
     ]
    },
    {
     "name": "stderr",
     "output_type": "stream",
     "text": [
      "Batch calculation at epoch 72.: 4295it [01:23, 51.41it/s]\n"
     ]
    },
    {
     "name": "stdout",
     "output_type": "stream",
     "text": [
      "=======================================\n",
      "End of epoch 72\n",
      "=======================================\n",
      "Running average global loss: 1.3277358638495207 (over last 1600 batches)\n",
      "Running average activity prediction loss: 0.8472933179140091 (Cross Entropy over last 1600 batches)\n",
      "Running average (complete) remaining runtime prediction loss: 0.48044254722073676 (MAE over last 1600 batches)\n"
     ]
    },
    {
     "name": "stderr",
     "output_type": "stream",
     "text": [
      "Validation batch calculation: 40it [00:25,  1.60it/s]\n"
     ]
    },
    {
     "name": "stdout",
     "output_type": "stream",
     "text": [
      "Avg 1-(normalized) DL distance acitivty suffix prediction validation set: 0.839086502790451\n",
      "Percentage of suffixes predicted to END: too early - 0.29125675659036904 ; right moment - 0.6332787470603445 ; too late - 0.07546449634928648\n",
      "Too early instances - avg amount of events too early: 1.6504333019256592\n",
      "Too late instances - avg amount of events too late: 2.9469733238220215\n",
      "Avg absolute amount of events predicted too early / too late: 0.7030916810035706\n",
      "Avg MAE TTNE prediction validation set: 17683.045833333334 (minutes)'\n",
      "Avg MAE RRT prediction validation set: 0.6264964938163757 (standardized) ; 34189.36041666667 (minutes)'\n",
      "Avg validation loss: 1.5084770917892456\n",
      " \n",
      "------------------------------------\n",
      "EPOCH 73:\n",
      "____________________________________\n"
     ]
    },
    {
     "name": "stderr",
     "output_type": "stream",
     "text": [
      "Batch calculation at epoch 73.: 1603it [00:52, 17.55it/s]"
     ]
    },
    {
     "name": "stdout",
     "output_type": "stream",
     "text": [
      "------------------------------------------------------------\n",
      "Epoch 73, batch 1599:\n",
      "Average original gradient norm: 0.46951265664771197 (over last 1600 batches)\n",
      "Average clipped gradient norm: 0.46951265664771197 (over last 1600 batches)\n",
      "Running average global loss: 1.3298533152043819 (over last 1600 batches)\n",
      "Running average activity prediction loss: 0.8481225258111954 (Cross Entropy over last 1600 batches)\n",
      "Running average (complete) remaining runtime prediction loss: 0.48173079036176203 (MAE over last 1600 batches)\n",
      "------------------------------------------------------------\n"
     ]
    },
    {
     "name": "stderr",
     "output_type": "stream",
     "text": [
      "Batch calculation at epoch 73.: 3206it [01:32, 32.92it/s]"
     ]
    },
    {
     "name": "stdout",
     "output_type": "stream",
     "text": [
      "------------------------------------------------------------\n",
      "Epoch 73, batch 3199:\n",
      "Average original gradient norm: 0.47493737340904774 (over last 1600 batches)\n",
      "Average clipped gradient norm: 0.47493737340904774 (over last 1600 batches)\n",
      "Running average global loss: 1.3287386396899818 (over last 1600 batches)\n",
      "Running average activity prediction loss: 0.8475627037882805 (Cross Entropy over last 1600 batches)\n",
      "Running average (complete) remaining runtime prediction loss: 0.48117593687027693 (MAE over last 1600 batches)\n",
      "------------------------------------------------------------\n"
     ]
    },
    {
     "name": "stderr",
     "output_type": "stream",
     "text": [
      "Batch calculation at epoch 73.: 4295it [02:12, 32.34it/s]\n"
     ]
    },
    {
     "name": "stdout",
     "output_type": "stream",
     "text": [
      "=======================================\n",
      "End of epoch 73\n",
      "=======================================\n",
      "Running average global loss: 1.3290922980010509 (over last 1600 batches)\n",
      "Running average activity prediction loss: 0.8483603120967745 (Cross Entropy over last 1600 batches)\n",
      "Running average (complete) remaining runtime prediction loss: 0.48073198774829506 (MAE over last 1600 batches)\n"
     ]
    },
    {
     "name": "stderr",
     "output_type": "stream",
     "text": [
      "Validation batch calculation: 40it [00:24,  1.65it/s]\n"
     ]
    },
    {
     "name": "stdout",
     "output_type": "stream",
     "text": [
      "Avg 1-(normalized) DL distance acitivty suffix prediction validation set: 0.8394626080989838\n",
      "Percentage of suffixes predicted to END: too early - 0.29269734168954775 ; right moment - 0.6335988770823843 ; too late - 0.07370378122806802\n",
      "Too early instances - avg amount of events too early: 1.659557580947876\n",
      "Too late instances - avg amount of events too late: 2.872034788131714\n",
      "Avg absolute amount of events predicted too early / too late: 0.6974278688430786\n",
      "Avg MAE TTNE prediction validation set: 17837.452083333334 (minutes)'\n",
      "Avg MAE RRT prediction validation set: 0.6195695400238037 (standardized) ; 33814.02291666667 (minutes)'\n",
      "Avg validation loss: 1.5069797039031982\n",
      " \n",
      "------------------------------------\n",
      "EPOCH 74:\n",
      "____________________________________\n"
     ]
    },
    {
     "name": "stderr",
     "output_type": "stream",
     "text": [
      "Batch calculation at epoch 74.: 1606it [00:34, 32.67it/s]"
     ]
    },
    {
     "name": "stdout",
     "output_type": "stream",
     "text": [
      "------------------------------------------------------------\n",
      "Epoch 74, batch 1599:\n",
      "Average original gradient norm: 0.4741761509887874 (over last 1600 batches)\n",
      "Average clipped gradient norm: 0.4741761509887874 (over last 1600 batches)\n",
      "Running average global loss: 1.3265895882993937 (over last 1600 batches)\n",
      "Running average activity prediction loss: 0.8462723472341895 (Cross Entropy over last 1600 batches)\n",
      "Running average (complete) remaining runtime prediction loss: 0.48031724158674477 (MAE over last 1600 batches)\n",
      "------------------------------------------------------------\n"
     ]
    },
    {
     "name": "stderr",
     "output_type": "stream",
     "text": [
      "Batch calculation at epoch 74.: 3208it [01:06, 70.61it/s]"
     ]
    },
    {
     "name": "stdout",
     "output_type": "stream",
     "text": [
      "------------------------------------------------------------\n",
      "Epoch 74, batch 3199:\n",
      "Average original gradient norm: 0.47443682718090713 (over last 1600 batches)\n",
      "Average clipped gradient norm: 0.47428185093216596 (over last 1600 batches)\n",
      "Running average global loss: 1.3258843094110488 (over last 1600 batches)\n",
      "Running average activity prediction loss: 0.845379453226924 (Cross Entropy over last 1600 batches)\n",
      "Running average (complete) remaining runtime prediction loss: 0.4805048568919301 (MAE over last 1600 batches)\n",
      "------------------------------------------------------------\n"
     ]
    },
    {
     "name": "stderr",
     "output_type": "stream",
     "text": [
      "Batch calculation at epoch 74.: 4295it [01:26, 49.41it/s]\n"
     ]
    },
    {
     "name": "stdout",
     "output_type": "stream",
     "text": [
      "=======================================\n",
      "End of epoch 74\n",
      "=======================================\n",
      "Running average global loss: 1.3350549774616958 (over last 1600 batches)\n",
      "Running average activity prediction loss: 0.8511531229317189 (Cross Entropy over last 1600 batches)\n",
      "Running average (complete) remaining runtime prediction loss: 0.4839018556289375 (MAE over last 1600 batches)\n"
     ]
    },
    {
     "name": "stderr",
     "output_type": "stream",
     "text": [
      "Validation batch calculation: 40it [00:25,  1.58it/s]\n"
     ]
    },
    {
     "name": "stdout",
     "output_type": "stream",
     "text": [
      "Avg 1-(normalized) DL distance acitivty suffix prediction validation set: 0.8388496041297913\n",
      "Percentage of suffixes predicted to END: too early - 0.2913183200561459 ; right moment - 0.6326138616299544 ; too late - 0.0760678183138998\n",
      "Too early instances - avg amount of events too early: 1.6582417488098145\n",
      "Too late instances - avg amount of events too late: 2.8709938526153564\n",
      "Avg absolute amount of events predicted too early / too late: 0.70146644115448\n",
      "Avg MAE TTNE prediction validation set: 17803.360416666666 (minutes)'\n",
      "Avg MAE RRT prediction validation set: 0.6239142417907715 (standardized) ; 34050.35625 (minutes)'\n",
      "Avg validation loss: 1.508452296257019\n",
      " \n",
      "------------------------------------\n",
      "EPOCH 75:\n",
      "____________________________________\n"
     ]
    },
    {
     "name": "stderr",
     "output_type": "stream",
     "text": [
      "Batch calculation at epoch 75.: 1603it [01:03, 28.37it/s]"
     ]
    },
    {
     "name": "stdout",
     "output_type": "stream",
     "text": [
      "------------------------------------------------------------\n",
      "Epoch 75, batch 1599:\n",
      "Average original gradient norm: 0.4751375993154943 (over last 1600 batches)\n",
      "Average clipped gradient norm: 0.4751375993154943 (over last 1600 batches)\n",
      "Running average global loss: 1.3290453714132309 (over last 1600 batches)\n",
      "Running average activity prediction loss: 0.8485188204795122 (Cross Entropy over last 1600 batches)\n",
      "Running average (complete) remaining runtime prediction loss: 0.4805265506915748 (MAE over last 1600 batches)\n",
      "------------------------------------------------------------\n"
     ]
    },
    {
     "name": "stderr",
     "output_type": "stream",
     "text": [
      "Batch calculation at epoch 75.: 3202it [02:22, 15.34it/s]"
     ]
    },
    {
     "name": "stdout",
     "output_type": "stream",
     "text": [
      "------------------------------------------------------------\n",
      "Epoch 75, batch 3199:\n",
      "Average original gradient norm: 0.47213771069422367 (over last 1600 batches)\n",
      "Average clipped gradient norm: 0.47213771069422367 (over last 1600 batches)\n",
      "Running average global loss: 1.331352000720799 (over last 1600 batches)\n",
      "Running average activity prediction loss: 0.8492699749395252 (Cross Entropy over last 1600 batches)\n",
      "Running average (complete) remaining runtime prediction loss: 0.4820820263773203 (MAE over last 1600 batches)\n",
      "------------------------------------------------------------\n"
     ]
    },
    {
     "name": "stderr",
     "output_type": "stream",
     "text": [
      "Batch calculation at epoch 75.: 4295it [03:27, 20.66it/s]\n"
     ]
    },
    {
     "name": "stdout",
     "output_type": "stream",
     "text": [
      "=======================================\n",
      "End of epoch 75\n",
      "=======================================\n",
      "Running average global loss: 1.3279563114792108 (over last 1600 batches)\n",
      "Running average activity prediction loss: 0.8464451955631376 (Cross Entropy over last 1600 batches)\n",
      "Running average (complete) remaining runtime prediction loss: 0.4815111143514514 (MAE over last 1600 batches)\n"
     ]
    },
    {
     "name": "stderr",
     "output_type": "stream",
     "text": [
      "Validation batch calculation: 40it [00:35,  1.14it/s]\n"
     ]
    },
    {
     "name": "stdout",
     "output_type": "stream",
     "text": [
      "Avg 1-(normalized) DL distance acitivty suffix prediction validation set: 0.8390291929244995\n",
      "Percentage of suffixes predicted to END: too early - 0.2923033355085758 ; right moment - 0.6330940566630139 ; too late - 0.07460260782841031\n",
      "Too early instances - avg amount of events too early: 1.6581718921661377\n",
      "Too late instances - avg amount of events too late: 2.8496451377868652\n",
      "Avg absolute amount of events predicted too early / too late: 0.6972801089286804\n",
      "Avg MAE TTNE prediction validation set: 17794.516666666666 (minutes)'\n",
      "Avg MAE RRT prediction validation set: 0.6229868531227112 (standardized) ; 33997.635416666664 (minutes)'\n",
      "Avg validation loss: 1.5085471868515015\n",
      " \n",
      "------------------------------------\n",
      "EPOCH 76:\n",
      "____________________________________\n"
     ]
    },
    {
     "name": "stderr",
     "output_type": "stream",
     "text": [
      "Batch calculation at epoch 76.: 1601it [00:55, 21.82it/s]"
     ]
    },
    {
     "name": "stdout",
     "output_type": "stream",
     "text": [
      "------------------------------------------------------------\n",
      "Epoch 76, batch 1599:\n",
      "Average original gradient norm: 0.4720605157315731 (over last 1600 batches)\n",
      "Average clipped gradient norm: 0.4720605157315731 (over last 1600 batches)\n",
      "Running average global loss: 1.3254615145921707 (over last 1600 batches)\n",
      "Running average activity prediction loss: 0.8451216879859567 (Cross Entropy over last 1600 batches)\n",
      "Running average (complete) remaining runtime prediction loss: 0.4803398258052766 (MAE over last 1600 batches)\n",
      "------------------------------------------------------------\n"
     ]
    },
    {
     "name": "stderr",
     "output_type": "stream",
     "text": [
      "Batch calculation at epoch 76.: 3203it [02:21, 19.78it/s]"
     ]
    },
    {
     "name": "stdout",
     "output_type": "stream",
     "text": [
      "------------------------------------------------------------\n",
      "Epoch 76, batch 3199:\n",
      "Average original gradient norm: 0.47301160318776964 (over last 1600 batches)\n",
      "Average clipped gradient norm: 0.47301160318776964 (over last 1600 batches)\n",
      "Running average global loss: 1.3255856231972576 (over last 1600 batches)\n",
      "Running average activity prediction loss: 0.8456176384538412 (Cross Entropy over last 1600 batches)\n",
      "Running average (complete) remaining runtime prediction loss: 0.4799679822847247 (MAE over last 1600 batches)\n",
      "------------------------------------------------------------\n"
     ]
    },
    {
     "name": "stderr",
     "output_type": "stream",
     "text": [
      "Batch calculation at epoch 76.: 4295it [03:19, 21.54it/s]\n"
     ]
    },
    {
     "name": "stdout",
     "output_type": "stream",
     "text": [
      "=======================================\n",
      "End of epoch 76\n",
      "=======================================\n",
      "Running average global loss: 1.33017263751477 (over last 1600 batches)\n",
      "Running average activity prediction loss: 0.8484563363343477 (Cross Entropy over last 1600 batches)\n",
      "Running average (complete) remaining runtime prediction loss: 0.4817163005098701 (MAE over last 1600 batches)\n"
     ]
    },
    {
     "name": "stderr",
     "output_type": "stream",
     "text": [
      "Validation batch calculation: 40it [00:40,  1.00s/it]\n"
     ]
    },
    {
     "name": "stdout",
     "output_type": "stream",
     "text": [
      "Avg 1-(normalized) DL distance acitivty suffix prediction validation set: 0.839344784617424\n",
      "Percentage of suffixes predicted to END: too early - 0.293891672925619 ; right moment - 0.6336727532413164 ; too late - 0.07243557383306451\n",
      "Too early instances - avg amount of events too early: 1.656919002532959\n",
      "Too late instances - avg amount of events too late: 2.833418369293213\n",
      "Avg absolute amount of events predicted too early / too late: 0.6921949982643127\n",
      "Avg MAE TTNE prediction validation set: 17790.883333333335 (minutes)'\n",
      "Avg MAE RRT prediction validation set: 0.6250563263893127 (standardized) ; 34111.50833333333 (minutes)'\n",
      "Avg validation loss: 1.5090827941894531\n",
      " \n",
      "------------------------------------\n",
      "EPOCH 77:\n",
      "____________________________________\n"
     ]
    },
    {
     "name": "stderr",
     "output_type": "stream",
     "text": [
      "Batch calculation at epoch 77.: 1604it [00:57, 24.04it/s]"
     ]
    },
    {
     "name": "stdout",
     "output_type": "stream",
     "text": [
      "------------------------------------------------------------\n",
      "Epoch 77, batch 1599:\n",
      "Average original gradient norm: 0.47169000008143486 (over last 1600 batches)\n",
      "Average clipped gradient norm: 0.47169000008143486 (over last 1600 batches)\n",
      "Running average global loss: 1.3265918431431054 (over last 1600 batches)\n",
      "Running average activity prediction loss: 0.8448339546844363 (Cross Entropy over last 1600 batches)\n",
      "Running average (complete) remaining runtime prediction loss: 0.4817578888684511 (MAE over last 1600 batches)\n",
      "------------------------------------------------------------\n"
     ]
    },
    {
     "name": "stderr",
     "output_type": "stream",
     "text": [
      "Batch calculation at epoch 77.: 3202it [02:04, 24.51it/s]"
     ]
    },
    {
     "name": "stdout",
     "output_type": "stream",
     "text": [
      "------------------------------------------------------------\n",
      "Epoch 77, batch 3199:\n",
      "Average original gradient norm: 0.46874207234941423 (over last 1600 batches)\n",
      "Average clipped gradient norm: 0.46874207234941423 (over last 1600 batches)\n",
      "Running average global loss: 1.333008845485747 (over last 1600 batches)\n",
      "Running average activity prediction loss: 0.8518072484433651 (Cross Entropy over last 1600 batches)\n",
      "Running average (complete) remaining runtime prediction loss: 0.4812015970051289 (MAE over last 1600 batches)\n",
      "------------------------------------------------------------\n"
     ]
    },
    {
     "name": "stderr",
     "output_type": "stream",
     "text": [
      "Batch calculation at epoch 77.: 4295it [03:12, 22.33it/s]\n"
     ]
    },
    {
     "name": "stdout",
     "output_type": "stream",
     "text": [
      "=======================================\n",
      "End of epoch 77\n",
      "=======================================\n",
      "Running average global loss: 1.3214944275096059 (over last 1600 batches)\n",
      "Running average activity prediction loss: 0.842793571986258 (Cross Entropy over last 1600 batches)\n",
      "Running average (complete) remaining runtime prediction loss: 0.47870085556060077 (MAE over last 1600 batches)\n"
     ]
    },
    {
     "name": "stderr",
     "output_type": "stream",
     "text": [
      "Validation batch calculation: 40it [00:38,  1.04it/s]\n"
     ]
    },
    {
     "name": "stdout",
     "output_type": "stream",
     "text": [
      "Avg 1-(normalized) DL distance acitivty suffix prediction validation set: 0.8393542319536209\n",
      "Percentage of suffixes predicted to END: too early - 0.2927342797690139 ; right moment - 0.6336973786276272 ; too late - 0.0735683416033589\n",
      "Too early instances - avg amount of events too early: 1.6568243503570557\n",
      "Too late instances - avg amount of events too late: 2.874309778213501\n",
      "Avg absolute amount of events predicted too early / too late: 0.6964674592018127\n",
      "Avg MAE TTNE prediction validation set: 17824.941666666666 (minutes)'\n",
      "Avg MAE RRT prediction validation set: 0.6216912865638733 (standardized) ; 33929.520833333336 (minutes)'\n",
      "Avg validation loss: 1.506553053855896\n",
      " \n",
      "------------------------------------\n",
      "EPOCH 78:\n",
      "____________________________________\n"
     ]
    },
    {
     "name": "stderr",
     "output_type": "stream",
     "text": [
      "Batch calculation at epoch 78.: 1607it [00:34, 34.92it/s]"
     ]
    },
    {
     "name": "stdout",
     "output_type": "stream",
     "text": [
      "------------------------------------------------------------\n",
      "Epoch 78, batch 1599:\n",
      "Average original gradient norm: 0.47339240671135485 (over last 1600 batches)\n",
      "Average clipped gradient norm: 0.47339240671135485 (over last 1600 batches)\n",
      "Running average global loss: 1.328199042752385 (over last 1600 batches)\n",
      "Running average activity prediction loss: 0.8477182816714048 (Cross Entropy over last 1600 batches)\n",
      "Running average (complete) remaining runtime prediction loss: 0.48048076007515195 (MAE over last 1600 batches)\n",
      "------------------------------------------------------------\n"
     ]
    },
    {
     "name": "stderr",
     "output_type": "stream",
     "text": [
      "Batch calculation at epoch 78.: 3202it [01:42, 13.77it/s]"
     ]
    },
    {
     "name": "stdout",
     "output_type": "stream",
     "text": [
      "------------------------------------------------------------\n",
      "Epoch 78, batch 3199:\n",
      "Average original gradient norm: 0.4719575610011816 (over last 1600 batches)\n",
      "Average clipped gradient norm: 0.4719575610011816 (over last 1600 batches)\n",
      "Running average global loss: 1.3224819028005004 (over last 1600 batches)\n",
      "Running average activity prediction loss: 0.8425178818032145 (Cross Entropy over last 1600 batches)\n",
      "Running average (complete) remaining runtime prediction loss: 0.4799640208669007 (MAE over last 1600 batches)\n",
      "------------------------------------------------------------\n"
     ]
    },
    {
     "name": "stderr",
     "output_type": "stream",
     "text": [
      "Batch calculation at epoch 78.: 4295it [02:37, 27.33it/s]\n"
     ]
    },
    {
     "name": "stdout",
     "output_type": "stream",
     "text": [
      "=======================================\n",
      "End of epoch 78\n",
      "=======================================\n",
      "Running average global loss: 1.328846756182611 (over last 1600 batches)\n",
      "Running average activity prediction loss: 0.8477382253110409 (Cross Entropy over last 1600 batches)\n",
      "Running average (complete) remaining runtime prediction loss: 0.4811085309460759 (MAE over last 1600 batches)\n"
     ]
    },
    {
     "name": "stderr",
     "output_type": "stream",
     "text": [
      "Validation batch calculation: 40it [00:24,  1.62it/s]\n"
     ]
    },
    {
     "name": "stdout",
     "output_type": "stream",
     "text": [
      "Avg 1-(normalized) DL distance acitivty suffix prediction validation set: 0.8390545845031738\n",
      "Percentage of suffixes predicted to END: too early - 0.2922540847359543 ; right moment - 0.6333895612987429 ; too late - 0.07435635396530282\n",
      "Too early instances - avg amount of events too early: 1.6537326574325562\n",
      "Too late instances - avg amount of events too late: 2.9125683307647705\n",
      "Avg absolute amount of events predicted too early / too late: 0.6998780965805054\n",
      "Avg MAE TTNE prediction validation set: 17837.285416666666 (minutes)'\n",
      "Avg MAE RRT prediction validation set: 0.6223214864730835 (standardized) ; 33962.729166666664 (minutes)'\n",
      "Avg validation loss: 1.5070412158966064\n",
      " \n",
      "------------------------------------\n",
      "EPOCH 79:\n",
      "____________________________________\n"
     ]
    },
    {
     "name": "stderr",
     "output_type": "stream",
     "text": [
      "Batch calculation at epoch 79.: 1603it [00:44, 19.26it/s]"
     ]
    },
    {
     "name": "stdout",
     "output_type": "stream",
     "text": [
      "------------------------------------------------------------\n",
      "Epoch 79, batch 1599:\n",
      "Average original gradient norm: 0.4715443708375096 (over last 1600 batches)\n",
      "Average clipped gradient norm: 0.4714492145553231 (over last 1600 batches)\n",
      "Running average global loss: 1.3203926860168576 (over last 1600 batches)\n",
      "Running average activity prediction loss: 0.8416172572597861 (Cross Entropy over last 1600 batches)\n",
      "Running average (complete) remaining runtime prediction loss: 0.47877542946487667 (MAE over last 1600 batches)\n",
      "------------------------------------------------------------\n"
     ]
    },
    {
     "name": "stderr",
     "output_type": "stream",
     "text": [
      "Batch calculation at epoch 79.: 3200it [02:07, 22.14it/s]"
     ]
    },
    {
     "name": "stdout",
     "output_type": "stream",
     "text": [
      "------------------------------------------------------------\n",
      "Epoch 79, batch 3199:\n",
      "Average original gradient norm: 0.46951194224879145 (over last 1600 batches)\n",
      "Average clipped gradient norm: 0.46951194224879145 (over last 1600 batches)\n",
      "Running average global loss: 1.3302176274359225 (over last 1600 batches)\n",
      "Running average activity prediction loss: 0.8481584711372853 (Cross Entropy over last 1600 batches)\n",
      "Running average (complete) remaining runtime prediction loss: 0.4820591565966606 (MAE over last 1600 batches)\n",
      "------------------------------------------------------------\n"
     ]
    },
    {
     "name": "stderr",
     "output_type": "stream",
     "text": [
      "Batch calculation at epoch 79.: 4295it [02:50, 25.25it/s]\n"
     ]
    },
    {
     "name": "stdout",
     "output_type": "stream",
     "text": [
      "=======================================\n",
      "End of epoch 79\n",
      "=======================================\n",
      "Running average global loss: 1.3275603836774825 (over last 1600 batches)\n",
      "Running average activity prediction loss: 0.8471366423740982 (Cross Entropy over last 1600 batches)\n",
      "Running average (complete) remaining runtime prediction loss: 0.4804237396456301 (MAE over last 1600 batches)\n"
     ]
    },
    {
     "name": "stderr",
     "output_type": "stream",
     "text": [
      "Validation batch calculation: 40it [00:27,  1.44it/s]\n"
     ]
    },
    {
     "name": "stdout",
     "output_type": "stream",
     "text": [
      "Avg 1-(normalized) DL distance acitivty suffix prediction validation set: 0.839219406247139\n",
      "Percentage of suffixes predicted to END: too early - 0.2928081559279461 ; right moment - 0.6334141866850537 ; too late - 0.07377765738700026\n",
      "Too early instances - avg amount of events too early: 1.656700611114502\n",
      "Too late instances - avg amount of events too late: 2.951101541519165\n",
      "Avg absolute amount of events predicted too early / too late: 0.7028208374977112\n",
      "Avg MAE TTNE prediction validation set: 17768.714583333334 (minutes)'\n",
      "Avg MAE RRT prediction validation set: 0.6243254542350769 (standardized) ; 34073.683333333334 (minutes)'\n",
      "Avg validation loss: 1.5076687335968018\n",
      " \n",
      "------------------------------------\n",
      "EPOCH 80:\n",
      "____________________________________\n"
     ]
    },
    {
     "name": "stderr",
     "output_type": "stream",
     "text": [
      "Batch calculation at epoch 80.: 1602it [00:58, 22.86it/s]"
     ]
    },
    {
     "name": "stdout",
     "output_type": "stream",
     "text": [
      "------------------------------------------------------------\n",
      "Epoch 80, batch 1599:\n",
      "Average original gradient norm: 0.47755256059579554 (over last 1600 batches)\n",
      "Average clipped gradient norm: 0.47674890483729543 (over last 1600 batches)\n",
      "Running average global loss: 1.3289686327427626 (over last 1600 batches)\n",
      "Running average activity prediction loss: 0.8479694816470146 (Cross Entropy over last 1600 batches)\n",
      "Running average (complete) remaining runtime prediction loss: 0.48099915239959956 (MAE over last 1600 batches)\n",
      "------------------------------------------------------------\n"
     ]
    },
    {
     "name": "stderr",
     "output_type": "stream",
     "text": [
      "Batch calculation at epoch 80.: 3204it [02:25, 26.53it/s]"
     ]
    },
    {
     "name": "stdout",
     "output_type": "stream",
     "text": [
      "------------------------------------------------------------\n",
      "Epoch 80, batch 3199:\n",
      "Average original gradient norm: 0.4810849313437939 (over last 1600 batches)\n",
      "Average clipped gradient norm: 0.4802994933724403 (over last 1600 batches)\n",
      "Running average global loss: 1.3253420452401041 (over last 1600 batches)\n",
      "Running average activity prediction loss: 0.8449033553525805 (Cross Entropy over last 1600 batches)\n",
      "Running average (complete) remaining runtime prediction loss: 0.48043869053944943 (MAE over last 1600 batches)\n",
      "------------------------------------------------------------\n"
     ]
    },
    {
     "name": "stderr",
     "output_type": "stream",
     "text": [
      "Batch calculation at epoch 80.: 4295it [02:52, 24.90it/s]\n"
     ]
    },
    {
     "name": "stdout",
     "output_type": "stream",
     "text": [
      "=======================================\n",
      "End of epoch 80\n",
      "=======================================\n",
      "Running average global loss: 1.3256772146001459 (over last 1600 batches)\n",
      "Running average activity prediction loss: 0.8450838733837008 (Cross Entropy over last 1600 batches)\n",
      "Running average (complete) remaining runtime prediction loss: 0.4805933407321572 (MAE over last 1600 batches)\n"
     ]
    },
    {
     "name": "stderr",
     "output_type": "stream",
     "text": [
      "Validation batch calculation: 40it [00:23,  1.71it/s]\n"
     ]
    },
    {
     "name": "stdout",
     "output_type": "stream",
     "text": [
      "Avg 1-(normalized) DL distance acitivty suffix prediction validation set: 0.839259073138237\n",
      "Percentage of suffixes predicted to END: too early - 0.2931159732568305 ; right moment - 0.6332664343671891 ; too late - 0.0736175923759804\n",
      "Too early instances - avg amount of events too early: 1.6573132276535034\n",
      "Too late instances - avg amount of events too late: 2.873222827911377\n",
      "Avg absolute amount of events predicted too early / too late: 0.6973047256469727\n",
      "Avg MAE TTNE prediction validation set: 17878.410416666666 (minutes)'\n",
      "Avg MAE RRT prediction validation set: 0.6219489574432373 (standardized) ; 33940.20208333333 (minutes)'\n",
      "Avg validation loss: 1.5079535245895386\n",
      " \n",
      "------------------------------------\n",
      "EPOCH 81:\n",
      "____________________________________\n"
     ]
    },
    {
     "name": "stderr",
     "output_type": "stream",
     "text": [
      "Batch calculation at epoch 81.: 1611it [00:56, 53.52it/s]"
     ]
    },
    {
     "name": "stdout",
     "output_type": "stream",
     "text": [
      "------------------------------------------------------------\n",
      "Epoch 81, batch 1599:\n",
      "Average original gradient norm: 0.4762161896470934 (over last 1600 batches)\n",
      "Average clipped gradient norm: 0.4762161896470934 (over last 1600 batches)\n",
      "Running average global loss: 1.3253408019617199 (over last 1600 batches)\n",
      "Running average activity prediction loss: 0.8442583129927516 (Cross Entropy over last 1600 batches)\n",
      "Running average (complete) remaining runtime prediction loss: 0.48108248751610516 (MAE over last 1600 batches)\n",
      "------------------------------------------------------------\n"
     ]
    },
    {
     "name": "stderr",
     "output_type": "stream",
     "text": [
      "Batch calculation at epoch 81.: 3208it [01:36, 41.44it/s]"
     ]
    },
    {
     "name": "stdout",
     "output_type": "stream",
     "text": [
      "------------------------------------------------------------\n",
      "Epoch 81, batch 3199:\n",
      "Average original gradient norm: 0.4790459748730063 (over last 1600 batches)\n",
      "Average clipped gradient norm: 0.4790459748730063 (over last 1600 batches)\n",
      "Running average global loss: 1.330276472121477 (over last 1600 batches)\n",
      "Running average activity prediction loss: 0.8499047328159213 (Cross Entropy over last 1600 batches)\n",
      "Running average (complete) remaining runtime prediction loss: 0.4803717375546694 (MAE over last 1600 batches)\n",
      "------------------------------------------------------------\n"
     ]
    },
    {
     "name": "stderr",
     "output_type": "stream",
     "text": [
      "Batch calculation at epoch 81.: 4295it [02:05, 34.30it/s]\n"
     ]
    },
    {
     "name": "stdout",
     "output_type": "stream",
     "text": [
      "=======================================\n",
      "End of epoch 81\n",
      "=======================================\n",
      "Running average global loss: 1.3246271622553467 (over last 1600 batches)\n",
      "Running average activity prediction loss: 0.8444085547700524 (Cross Entropy over last 1600 batches)\n",
      "Running average (complete) remaining runtime prediction loss: 0.48021860731765625 (MAE over last 1600 batches)\n"
     ]
    },
    {
     "name": "stderr",
     "output_type": "stream",
     "text": [
      "Validation batch calculation: 40it [00:24,  1.66it/s]\n"
     ]
    },
    {
     "name": "stdout",
     "output_type": "stream",
     "text": [
      "Avg 1-(normalized) DL distance acitivty suffix prediction validation set: 0.8394242525100708\n",
      "Percentage of suffixes predicted to END: too early - 0.2937316079145992 ; right moment - 0.633525000923452 ; too late - 0.07274339116194885\n",
      "Too early instances - avg amount of events too early: 1.658157229423523\n",
      "Too late instances - avg amount of events too late: 2.858835458755493\n",
      "Avg absolute amount of events predicted too early / too late: 0.6950145959854126\n",
      "Avg MAE TTNE prediction validation set: 17916.245833333334 (minutes)'\n",
      "Avg MAE RRT prediction validation set: 0.6224344968795776 (standardized) ; 33969.77916666667 (minutes)'\n",
      "Avg validation loss: 1.5087037086486816\n",
      " \n",
      "------------------------------------\n",
      "EPOCH 82:\n",
      "____________________________________\n"
     ]
    },
    {
     "name": "stderr",
     "output_type": "stream",
     "text": [
      "Batch calculation at epoch 82.: 1600it [01:39, 10.67it/s]"
     ]
    },
    {
     "name": "stdout",
     "output_type": "stream",
     "text": [
      "------------------------------------------------------------\n",
      "Epoch 82, batch 1599:\n",
      "Average original gradient norm: 0.47960499141365287 (over last 1600 batches)\n",
      "Average clipped gradient norm: 0.47960499141365287 (over last 1600 batches)\n",
      "Running average global loss: 1.3252460127323866 (over last 1600 batches)\n",
      "Running average activity prediction loss: 0.844460884295404 (Cross Entropy over last 1600 batches)\n",
      "Running average (complete) remaining runtime prediction loss: 0.48078512886539104 (MAE over last 1600 batches)\n",
      "------------------------------------------------------------\n"
     ]
    },
    {
     "name": "stderr",
     "output_type": "stream",
     "text": [
      "Batch calculation at epoch 82.: 3200it [03:43,  6.08it/s]"
     ]
    },
    {
     "name": "stdout",
     "output_type": "stream",
     "text": [
      "------------------------------------------------------------\n",
      "Epoch 82, batch 3199:\n",
      "Average original gradient norm: 0.4839382033701986 (over last 1600 batches)\n",
      "Average clipped gradient norm: 0.48202805801294746 (over last 1600 batches)\n",
      "Running average global loss: 1.3267810237780213 (over last 1600 batches)\n",
      "Running average activity prediction loss: 0.8467016238346696 (Cross Entropy over last 1600 batches)\n",
      "Running average (complete) remaining runtime prediction loss: 0.48007940214127304 (MAE over last 1600 batches)\n",
      "------------------------------------------------------------\n"
     ]
    },
    {
     "name": "stderr",
     "output_type": "stream",
     "text": [
      "Batch calculation at epoch 82.: 4295it [05:27, 13.11it/s]\n"
     ]
    },
    {
     "name": "stdout",
     "output_type": "stream",
     "text": [
      "=======================================\n",
      "End of epoch 82\n",
      "=======================================\n",
      "Running average global loss: 1.3277062789350749 (over last 1600 batches)\n",
      "Running average activity prediction loss: 0.8462700529024005 (Cross Entropy over last 1600 batches)\n",
      "Running average (complete) remaining runtime prediction loss: 0.48143622631207106 (MAE over last 1600 batches)\n"
     ]
    },
    {
     "name": "stderr",
     "output_type": "stream",
     "text": [
      "Validation batch calculation: 40it [00:35,  1.14it/s]\n"
     ]
    },
    {
     "name": "stdout",
     "output_type": "stream",
     "text": [
      "Avg 1-(normalized) DL distance acitivty suffix prediction validation set: 0.8390321135520935\n",
      "Percentage of suffixes predicted to END: too early - 0.29250033859906177 ; right moment - 0.6331063693561693 ; too late - 0.07439329204476895\n",
      "Too early instances - avg amount of events too early: 1.6574759483337402\n",
      "Too late instances - avg amount of events too late: 2.8704073429107666\n",
      "Avg absolute amount of events predicted too early / too late: 0.6983513236045837\n",
      "Avg MAE TTNE prediction validation set: 17906.020833333332 (minutes)'\n",
      "Avg MAE RRT prediction validation set: 0.6220870614051819 (standardized) ; 33950.88333333333 (minutes)'\n",
      "Avg validation loss: 1.5069612264633179\n",
      " \n",
      "------------------------------------\n",
      "EPOCH 83:\n",
      "____________________________________\n"
     ]
    },
    {
     "name": "stderr",
     "output_type": "stream",
     "text": [
      "Batch calculation at epoch 83.: 1603it [01:57, 14.70it/s]"
     ]
    },
    {
     "name": "stdout",
     "output_type": "stream",
     "text": [
      "------------------------------------------------------------\n",
      "Epoch 83, batch 1599:\n",
      "Average original gradient norm: 0.4814390709344298 (over last 1600 batches)\n",
      "Average clipped gradient norm: 0.4814390709344298 (over last 1600 batches)\n",
      "Running average global loss: 1.324816956780851 (over last 1600 batches)\n",
      "Running average activity prediction loss: 0.8452682425826787 (Cross Entropy over last 1600 batches)\n",
      "Running average (complete) remaining runtime prediction loss: 0.4795487143844366 (MAE over last 1600 batches)\n",
      "------------------------------------------------------------\n"
     ]
    },
    {
     "name": "stderr",
     "output_type": "stream",
     "text": [
      "Batch calculation at epoch 83.: 3202it [04:23, 11.82it/s]"
     ]
    },
    {
     "name": "stdout",
     "output_type": "stream",
     "text": [
      "------------------------------------------------------------\n",
      "Epoch 83, batch 3199:\n",
      "Average original gradient norm: 0.4758644924592227 (over last 1600 batches)\n",
      "Average clipped gradient norm: 0.4758644924592227 (over last 1600 batches)\n",
      "Running average global loss: 1.3280000535026193 (over last 1600 batches)\n",
      "Running average activity prediction loss: 0.8470463501289487 (Cross Entropy over last 1600 batches)\n",
      "Running average (complete) remaining runtime prediction loss: 0.4809537042118609 (MAE over last 1600 batches)\n",
      "------------------------------------------------------------\n"
     ]
    },
    {
     "name": "stderr",
     "output_type": "stream",
     "text": [
      "Batch calculation at epoch 83.: 4295it [05:52, 12.19it/s]\n"
     ]
    },
    {
     "name": "stdout",
     "output_type": "stream",
     "text": [
      "=======================================\n",
      "End of epoch 83\n",
      "=======================================\n",
      "Running average global loss: 1.3239971796795726 (over last 1600 batches)\n",
      "Running average activity prediction loss: 0.8436508455500007 (Cross Entropy over last 1600 batches)\n",
      "Running average (complete) remaining runtime prediction loss: 0.48034633373841645 (MAE over last 1600 batches)\n"
     ]
    },
    {
     "name": "stderr",
     "output_type": "stream",
     "text": [
      "Validation batch calculation: 40it [00:35,  1.13it/s]\n"
     ]
    },
    {
     "name": "stdout",
     "output_type": "stream",
     "text": [
      "Avg 1-(normalized) DL distance acitivty suffix prediction validation set: 0.8394993394613266\n",
      "Percentage of suffixes predicted to END: too early - 0.2939162983119298 ; right moment - 0.633722004013938 ; too late - 0.07236169767413227\n",
      "Too early instances - avg amount of events too early: 1.660382866859436\n",
      "Too late instances - avg amount of events too late: 2.863706111907959\n",
      "Avg absolute amount of events predicted too early / too late: 0.6952362060546875\n",
      "Avg MAE TTNE prediction validation set: 17835.1375 (minutes)'\n",
      "Avg MAE RRT prediction validation set: 0.6236768960952759 (standardized) ; 34038.40833333333 (minutes)'\n",
      "Avg validation loss: 1.5060601234436035\n",
      "No improvements in validation loss for 59 consecutive epochs. Final epoch: 83\n",
      "cuda\n"
     ]
    },
    {
     "name": "stderr",
     "output_type": "stream",
     "text": [
      "/media/usr/SSD/yongmin/PPM/TRAIN_EVAL_CRTP_LSTM_ND.py:56: FutureWarning: You are using `torch.load` with `weights_only=False` (the current default value), which uses the default pickle module implicitly. It is possible to construct malicious pickle data which will execute arbitrary code during unpickling (See https://github.com/pytorch/pytorch/blob/main/SECURITY.md#untrusted-models for more details). In a future release, the default value for `weights_only` will be flipped to `True`. This limits the functions that could be executed during unpickling. Arbitrary objects will no longer be allowed to be loaded via this mode unless they are explicitly allowlisted by the user via `torch.serialization.add_safe_globals`. We recommend you start setting `weights_only=True` for any use case where you don't have full control of the loaded file. Please open an issue on GitHub for any issues related to this experimental feature.\n",
      "  checkpoint = torch.load(path_to_checkpoint)\n",
      "Validation batch calculation: 123it [01:36,  1.27it/s]\n"
     ]
    },
    {
     "name": "stdout",
     "output_type": "stream",
     "text": [
      "Avg 1-(normalized) DL distance acitivty suffix prediction validation set: 0.8425371795892715\n",
      "Percentage of suffixes predicted to END: too early - 0.25309625017461934 ; right moment - 0.6472330319902613 ; too late - 0.09967071783511944\n",
      "Too early instances - avg amount of events too early: 1.6556487083435059\n",
      "Too late instances - avg amount of events too late: 2.304180860519409\n",
      "Avg absolute amount of events predicted too early / too late: 0.6486977934837341\n",
      "Avg MAE TTNE prediction validation set: 17384.425 (minutes)'\n",
      "Avg MAE RRT prediction validation set: 0.5399301052093506 (standardized) ; 29436.347916666666 (minutes)'\n",
      "Avg validation loss: 1.582929253578186\n"
     ]
    }
   ],
   "source": [
    "from TRAIN_EVAL_CRTP_LSTM_ND import train_eval\n",
    "\n",
    "train_eval(log_name='BPIC_19', tss_index=1)"
   ]
  },
  {
   "cell_type": "code",
   "execution_count": null,
   "metadata": {},
   "outputs": [],
   "source": []
  }
 ],
 "metadata": {
  "kernelspec": {
   "display_name": "NDE",
   "language": "python",
   "name": "python3"
  },
  "language_info": {
   "codemirror_mode": {
    "name": "ipython",
    "version": 3
   },
   "file_extension": ".py",
   "mimetype": "text/x-python",
   "name": "python",
   "nbconvert_exporter": "python",
   "pygments_lexer": "ipython3",
   "version": "3.12.5"
  }
 },
 "nbformat": 4,
 "nbformat_minor": 2
}
