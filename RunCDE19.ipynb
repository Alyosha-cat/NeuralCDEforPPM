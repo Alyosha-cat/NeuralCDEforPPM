{
 "cells": [
  {
   "cell_type": "code",
   "execution_count": 1,
   "metadata": {},
   "outputs": [
    {
     "name": "stdout",
     "output_type": "stream",
     "text": [
      "41\n"
     ]
    },
    {
     "name": "stderr",
     "output_type": "stream",
     "text": [
      "/media/usr/SSD/yongmin/PPM/TRAIN_EVAL_NODE_ND.py:161: FutureWarning: You are using `torch.load` with `weights_only=False` (the current default value), which uses the default pickle module implicitly. It is possible to construct malicious pickle data which will execute arbitrary code during unpickling (See https://github.com/pytorch/pytorch/blob/main/SECURITY.md#untrusted-models for more details). In a future release, the default value for `weights_only` will be flipped to `True`. This limits the functions that could be executed during unpickling. Arbitrary objects will no longer be allowed to be loaded via this mode unless they are explicitly allowlisted by the user via `torch.serialization.add_safe_globals`. We recommend you start setting `weights_only=True` for any use case where you don't have full control of the loaded file. Please open an issue on GitHub for any issues related to this experimental feature.\n",
      "  train_dataset = torch.load(temp_path)\n",
      "/media/usr/SSD/yongmin/PPM/TRAIN_EVAL_NODE_ND.py:165: FutureWarning: You are using `torch.load` with `weights_only=False` (the current default value), which uses the default pickle module implicitly. It is possible to construct malicious pickle data which will execute arbitrary code during unpickling (See https://github.com/pytorch/pytorch/blob/main/SECURITY.md#untrusted-models for more details). In a future release, the default value for `weights_only` will be flipped to `True`. This limits the functions that could be executed during unpickling. Arbitrary objects will no longer be allowed to be loaded via this mode unless they are explicitly allowlisted by the user via `torch.serialization.add_safe_globals`. We recommend you start setting `weights_only=True` for any use case where you don't have full control of the loaded file. Please open an issue on GitHub for any issues related to this experimental feature.\n",
      "  val_dataset = torch.load(temp_path)\n",
      "/media/usr/SSD/yongmin/PPM/TRAIN_EVAL_NODE_ND.py:169: FutureWarning: You are using `torch.load` with `weights_only=False` (the current default value), which uses the default pickle module implicitly. It is possible to construct malicious pickle data which will execute arbitrary code during unpickling (See https://github.com/pytorch/pytorch/blob/main/SECURITY.md#untrusted-models for more details). In a future release, the default value for `weights_only` will be flipped to `True`. This limits the functions that could be executed during unpickling. Arbitrary objects will no longer be allowed to be loaded via this mode unless they are explicitly allowlisted by the user via `torch.serialization.add_safe_globals`. We recommend you start setting `weights_only=True` for any use case where you don't have full control of the loaded file. Please open an issue on GitHub for any issues related to this experimental feature.\n",
      "  test_dataset = torch.load(temp_path)\n"
     ]
    },
    {
     "name": "stdout",
     "output_type": "stream",
     "text": [
      "Device: cuda\n",
      " \n",
      "------------------------------------\n",
      "EPOCH 0:\n",
      "____________________________________\n"
     ]
    },
    {
     "name": "stderr",
     "output_type": "stream",
     "text": [
      "Batch calculation at epoch 0.: 537it [1:46:13, 11.87s/it]\n"
     ]
    },
    {
     "name": "stdout",
     "output_type": "stream",
     "text": [
      "=======================================\n",
      "End of epoch 0\n",
      "=======================================\n",
      "Running average global loss: 0.44887708796886727 (over last 4096 batches)\n",
      "Running average activity prediction loss: 0.26309794062399305 (Cross Entropy over last 4096 batches)\n",
      "Running average time till next event prediction loss: 0.07535423341323622 (MAE over last 4096 batches)\n",
      "Running average (complete) remaining runtime prediction loss: 0.11042491308762692 (MAE over last 4096 batches)\n"
     ]
    },
    {
     "name": "stderr",
     "output_type": "stream",
     "text": [
      "Validation batch calculation: 20it [00:37,  1.85s/it]\n"
     ]
    },
    {
     "name": "stdout",
     "output_type": "stream",
     "text": [
      "Avg MAE TTNE prediction validation set: 0.5786471366882324 (standardized) ; 21357.616666666665 (minutes)'\n",
      "Avg 1-(normalized) DL distance acitivty suffix prediction validation set: 0.2818160355091095\n",
      "Percentage of suffixes predicted to END: too early - 0.9708927933806961 ; right moment - 0.02910720661930384 ; too late - 0.0\n",
      "Too early instances - avg amount of events too early: 3.5158333778381348\n",
      "Too late instances - avg amount of events too late: nan\n",
      "Avg absolute amount of events predicted too early / too late: 3.41349720954895\n",
      "Avg MAE RRT prediction validation set: 0.7978824973106384 (standardized) ; 43546.67083333333 (minutes)'\n",
      " \n",
      "------------------------------------\n",
      "EPOCH 1:\n",
      "____________________________________\n"
     ]
    },
    {
     "name": "stderr",
     "output_type": "stream",
     "text": [
      "Batch calculation at epoch 1.: 537it [23:15,  2.60s/it]\n"
     ]
    },
    {
     "name": "stdout",
     "output_type": "stream",
     "text": [
      "=======================================\n",
      "End of epoch 1\n",
      "=======================================\n",
      "Running average global loss: 0.4400347819318995 (over last 4096 batches)\n",
      "Running average activity prediction loss: 0.254581361397868 (Cross Entropy over last 4096 batches)\n",
      "Running average time till next event prediction loss: 0.07505900660180487 (MAE over last 4096 batches)\n",
      "Running average (complete) remaining runtime prediction loss: 0.11039441387401894 (MAE over last 4096 batches)\n"
     ]
    },
    {
     "name": "stderr",
     "output_type": "stream",
     "text": [
      "Validation batch calculation: 20it [00:36,  1.84s/it]\n"
     ]
    },
    {
     "name": "stdout",
     "output_type": "stream",
     "text": [
      "Avg MAE TTNE prediction validation set: 0.5783459544181824 (standardized) ; 21346.491666666665 (minutes)'\n",
      "Avg 1-(normalized) DL distance acitivty suffix prediction validation set: 0.2818160355091095\n",
      "Percentage of suffixes predicted to END: too early - 0.9708927933806961 ; right moment - 0.02910720661930384 ; too late - 0.0\n",
      "Too early instances - avg amount of events too early: 3.5158333778381348\n",
      "Too late instances - avg amount of events too late: nan\n",
      "Avg absolute amount of events predicted too early / too late: 3.41349720954895\n",
      "Avg MAE RRT prediction validation set: 0.7963161468505859 (standardized) ; 43461.1875 (minutes)'\n",
      " \n",
      "------------------------------------\n",
      "EPOCH 2:\n",
      "____________________________________\n"
     ]
    },
    {
     "name": "stderr",
     "output_type": "stream",
     "text": [
      "Batch calculation at epoch 2.: 537it [23:15,  2.60s/it]\n"
     ]
    },
    {
     "name": "stdout",
     "output_type": "stream",
     "text": [
      "=======================================\n",
      "End of epoch 2\n",
      "=======================================\n",
      "Running average global loss: 0.4399663786171004 (over last 4096 batches)\n",
      "Running average activity prediction loss: 0.25454315019305795 (Cross Entropy over last 4096 batches)\n",
      "Running average time till next event prediction loss: 0.07503277334035374 (MAE over last 4096 batches)\n",
      "Running average (complete) remaining runtime prediction loss: 0.11039045508368872 (MAE over last 4096 batches)\n"
     ]
    },
    {
     "name": "stderr",
     "output_type": "stream",
     "text": [
      "Validation batch calculation: 20it [00:36,  1.84s/it]\n"
     ]
    },
    {
     "name": "stdout",
     "output_type": "stream",
     "text": [
      "Avg MAE TTNE prediction validation set: 0.5789322257041931 (standardized) ; 21368.13125 (minutes)'\n",
      "Avg 1-(normalized) DL distance acitivty suffix prediction validation set: 0.2818160355091095\n",
      "Percentage of suffixes predicted to END: too early - 0.9708927933806961 ; right moment - 0.02910720661930384 ; too late - 0.0\n",
      "Too early instances - avg amount of events too early: 3.5158333778381348\n",
      "Too late instances - avg amount of events too late: nan\n",
      "Avg absolute amount of events predicted too early / too late: 3.41349720954895\n",
      "Avg MAE RRT prediction validation set: 0.7971341013908386 (standardized) ; 43505.82916666667 (minutes)'\n",
      " \n",
      "------------------------------------\n",
      "EPOCH 3:\n",
      "____________________________________\n"
     ]
    },
    {
     "name": "stderr",
     "output_type": "stream",
     "text": [
      "Batch calculation at epoch 3.: 537it [23:15,  2.60s/it]\n"
     ]
    },
    {
     "name": "stdout",
     "output_type": "stream",
     "text": [
      "=======================================\n",
      "End of epoch 3\n",
      "=======================================\n",
      "Running average global loss: 0.4399372786283493 (over last 4096 batches)\n",
      "Running average activity prediction loss: 0.2545242849737406 (Cross Entropy over last 4096 batches)\n",
      "Running average time till next event prediction loss: 0.07502487079182174 (MAE over last 4096 batches)\n",
      "Running average (complete) remaining runtime prediction loss: 0.11038812226615846 (MAE over last 4096 batches)\n"
     ]
    },
    {
     "name": "stderr",
     "output_type": "stream",
     "text": [
      "Validation batch calculation: 20it [00:36,  1.82s/it]\n"
     ]
    },
    {
     "name": "stdout",
     "output_type": "stream",
     "text": [
      "Avg MAE TTNE prediction validation set: 0.5795889496803284 (standardized) ; 21392.366666666665 (minutes)'\n",
      "Avg 1-(normalized) DL distance acitivty suffix prediction validation set: 0.2818160355091095\n",
      "Percentage of suffixes predicted to END: too early - 0.9708927933806961 ; right moment - 0.02910720661930384 ; too late - 0.0\n",
      "Too early instances - avg amount of events too early: 3.5158333778381348\n",
      "Too late instances - avg amount of events too late: nan\n",
      "Avg absolute amount of events predicted too early / too late: 3.41349720954895\n",
      "Avg MAE RRT prediction validation set: 0.7955213189125061 (standardized) ; 43417.8 (minutes)'\n",
      " \n",
      "------------------------------------\n",
      "EPOCH 4:\n",
      "____________________________________\n"
     ]
    },
    {
     "name": "stderr",
     "output_type": "stream",
     "text": [
      "Batch calculation at epoch 4.: 537it [16:41,  1.87s/it]\n"
     ]
    },
    {
     "name": "stdout",
     "output_type": "stream",
     "text": [
      "=======================================\n",
      "End of epoch 4\n",
      "=======================================\n",
      "Running average global loss: 0.43988469656324014 (over last 4096 batches)\n",
      "Running average activity prediction loss: 0.2544791112886742 (Cross Entropy over last 4096 batches)\n",
      "Running average time till next event prediction loss: 0.07501877579488792 (MAE over last 4096 batches)\n",
      "Running average (complete) remaining runtime prediction loss: 0.11038680934871081 (MAE over last 4096 batches)\n"
     ]
    },
    {
     "name": "stderr",
     "output_type": "stream",
     "text": [
      "Validation batch calculation: 20it [00:08,  2.44it/s]\n"
     ]
    },
    {
     "name": "stdout",
     "output_type": "stream",
     "text": [
      "Avg MAE TTNE prediction validation set: 0.5794897675514221 (standardized) ; 21388.714583333334 (minutes)'\n",
      "Avg 1-(normalized) DL distance acitivty suffix prediction validation set: 0.2818160355091095\n",
      "Percentage of suffixes predicted to END: too early - 0.9708927933806961 ; right moment - 0.02910720661930384 ; too late - 0.0\n",
      "Too early instances - avg amount of events too early: 3.5158333778381348\n",
      "Too late instances - avg amount of events too late: nan\n",
      "Avg absolute amount of events predicted too early / too late: 3.41349720954895\n",
      "Avg MAE RRT prediction validation set: 0.7962852120399475 (standardized) ; 43459.495833333334 (minutes)'\n",
      " \n",
      "------------------------------------\n",
      "EPOCH 5:\n",
      "____________________________________\n"
     ]
    },
    {
     "name": "stderr",
     "output_type": "stream",
     "text": [
      "Batch calculation at epoch 5.: 537it [16:01,  1.79s/it]\n"
     ]
    },
    {
     "name": "stdout",
     "output_type": "stream",
     "text": [
      "=======================================\n",
      "End of epoch 5\n",
      "=======================================\n",
      "Running average global loss: 0.4398301406763494 (over last 4096 batches)\n",
      "Running average activity prediction loss: 0.25443099104450084 (Cross Entropy over last 4096 batches)\n",
      "Running average time till next event prediction loss: 0.07501268375199288 (MAE over last 4096 batches)\n",
      "Running average (complete) remaining runtime prediction loss: 0.11038646529777907 (MAE over last 4096 batches)\n"
     ]
    },
    {
     "name": "stderr",
     "output_type": "stream",
     "text": [
      "Validation batch calculation: 20it [00:24,  1.23s/it]\n"
     ]
    },
    {
     "name": "stdout",
     "output_type": "stream",
     "text": [
      "Avg MAE TTNE prediction validation set: 0.579862654209137 (standardized) ; 21402.477083333335 (minutes)'\n",
      "Avg 1-(normalized) DL distance acitivty suffix prediction validation set: 0.2818160355091095\n",
      "Percentage of suffixes predicted to END: too early - 0.9708927933806961 ; right moment - 0.02910720661930384 ; too late - 0.0\n",
      "Too early instances - avg amount of events too early: 3.5158333778381348\n",
      "Too late instances - avg amount of events too late: nan\n",
      "Avg absolute amount of events predicted too early / too late: 3.41349720954895\n",
      "Avg MAE RRT prediction validation set: 0.7954687476158142 (standardized) ; 43414.941666666666 (minutes)'\n",
      " \n",
      "------------------------------------\n",
      "EPOCH 6:\n",
      "____________________________________\n"
     ]
    },
    {
     "name": "stderr",
     "output_type": "stream",
     "text": [
      "Batch calculation at epoch 6.: 537it [16:20,  1.83s/it]\n"
     ]
    },
    {
     "name": "stdout",
     "output_type": "stream",
     "text": [
      "=======================================\n",
      "End of epoch 6\n",
      "=======================================\n",
      "Running average global loss: 0.4398036668426357 (over last 4096 batches)\n",
      "Running average activity prediction loss: 0.2544037275365554 (Cross Entropy over last 4096 batches)\n",
      "Running average time till next event prediction loss: 0.07501239885459654 (MAE over last 4096 batches)\n",
      "Running average (complete) remaining runtime prediction loss: 0.11038754056789912 (MAE over last 4096 batches)\n"
     ]
    },
    {
     "name": "stderr",
     "output_type": "stream",
     "text": [
      "Validation batch calculation: 20it [00:24,  1.21s/it]\n"
     ]
    },
    {
     "name": "stdout",
     "output_type": "stream",
     "text": [
      "Avg MAE TTNE prediction validation set: 0.5795672535896301 (standardized) ; 21391.558333333334 (minutes)'\n",
      "Avg 1-(normalized) DL distance acitivty suffix prediction validation set: 0.2818160355091095\n",
      "Percentage of suffixes predicted to END: too early - 0.9708927933806961 ; right moment - 0.02910720661930384 ; too late - 0.0\n",
      "Too early instances - avg amount of events too early: 3.5158333778381348\n",
      "Too late instances - avg amount of events too late: nan\n",
      "Avg absolute amount of events predicted too early / too late: 3.41349720954895\n",
      "Avg MAE RRT prediction validation set: 0.79630446434021 (standardized) ; 43460.55 (minutes)'\n",
      " \n",
      "------------------------------------\n",
      "EPOCH 7:\n",
      "____________________________________\n"
     ]
    },
    {
     "name": "stderr",
     "output_type": "stream",
     "text": [
      "Batch calculation at epoch 7.: 537it [16:20,  1.83s/it]\n"
     ]
    },
    {
     "name": "stdout",
     "output_type": "stream",
     "text": [
      "=======================================\n",
      "End of epoch 7\n",
      "=======================================\n",
      "Running average global loss: 0.43977034103590995 (over last 4096 batches)\n",
      "Running average activity prediction loss: 0.25437558215344325 (Cross Entropy over last 4096 batches)\n",
      "Running average time till next event prediction loss: 0.07500888816139195 (MAE over last 4096 batches)\n",
      "Running average (complete) remaining runtime prediction loss: 0.11038587127404753 (MAE over last 4096 batches)\n"
     ]
    },
    {
     "name": "stderr",
     "output_type": "stream",
     "text": [
      "Validation batch calculation: 20it [00:24,  1.20s/it]\n"
     ]
    },
    {
     "name": "stdout",
     "output_type": "stream",
     "text": [
      "Avg MAE TTNE prediction validation set: 0.579552948474884 (standardized) ; 21391.052083333332 (minutes)'\n",
      "Avg 1-(normalized) DL distance acitivty suffix prediction validation set: 0.2818160355091095\n",
      "Percentage of suffixes predicted to END: too early - 0.9708927933806961 ; right moment - 0.02910720661930384 ; too late - 0.0\n",
      "Too early instances - avg amount of events too early: 3.5158333778381348\n",
      "Too late instances - avg amount of events too late: nan\n",
      "Avg absolute amount of events predicted too early / too late: 3.41349720954895\n",
      "Avg MAE RRT prediction validation set: 0.7968078851699829 (standardized) ; 43488.025 (minutes)'\n",
      " \n",
      "------------------------------------\n",
      "EPOCH 8:\n",
      "____________________________________\n"
     ]
    },
    {
     "name": "stderr",
     "output_type": "stream",
     "text": [
      "Batch calculation at epoch 8.: 537it [16:19,  1.82s/it]\n"
     ]
    },
    {
     "name": "stdout",
     "output_type": "stream",
     "text": [
      "=======================================\n",
      "End of epoch 8\n",
      "=======================================\n",
      "Running average global loss: 0.43974639289081097 (over last 4096 batches)\n",
      "Running average activity prediction loss: 0.2543534039577935 (Cross Entropy over last 4096 batches)\n",
      "Running average time till next event prediction loss: 0.07500754324428272 (MAE over last 4096 batches)\n",
      "Running average (complete) remaining runtime prediction loss: 0.11038544548500795 (MAE over last 4096 batches)\n"
     ]
    },
    {
     "name": "stderr",
     "output_type": "stream",
     "text": [
      "Validation batch calculation: 20it [00:24,  1.23s/it]\n"
     ]
    },
    {
     "name": "stdout",
     "output_type": "stream",
     "text": [
      "Avg MAE TTNE prediction validation set: 0.5786702036857605 (standardized) ; 21358.46875 (minutes)'\n",
      "Avg 1-(normalized) DL distance acitivty suffix prediction validation set: 0.2818160355091095\n",
      "Percentage of suffixes predicted to END: too early - 0.9708927933806961 ; right moment - 0.02910720661930384 ; too late - 0.0\n",
      "Too early instances - avg amount of events too early: 3.5158333778381348\n",
      "Too late instances - avg amount of events too late: nan\n",
      "Avg absolute amount of events predicted too early / too late: 3.41349720954895\n",
      "Avg MAE RRT prediction validation set: 0.7953171730041504 (standardized) ; 43406.666666666664 (minutes)'\n",
      " \n",
      "------------------------------------\n",
      "EPOCH 9:\n",
      "____________________________________\n"
     ]
    },
    {
     "name": "stderr",
     "output_type": "stream",
     "text": [
      "Batch calculation at epoch 9.: 537it [15:24,  1.72s/it]\n"
     ]
    },
    {
     "name": "stdout",
     "output_type": "stream",
     "text": [
      "=======================================\n",
      "End of epoch 9\n",
      "=======================================\n",
      "Running average global loss: 0.43972505821147934 (over last 4096 batches)\n",
      "Running average activity prediction loss: 0.2543268129520584 (Cross Entropy over last 4096 batches)\n",
      "Running average time till next event prediction loss: 0.07501153256453108 (MAE over last 4096 batches)\n",
      "Running average (complete) remaining runtime prediction loss: 0.11038671211281326 (MAE over last 4096 batches)\n"
     ]
    },
    {
     "name": "stderr",
     "output_type": "stream",
     "text": [
      "Validation batch calculation: 20it [00:24,  1.23s/it]\n"
     ]
    },
    {
     "name": "stdout",
     "output_type": "stream",
     "text": [
      "Avg MAE TTNE prediction validation set: 0.5792987942695618 (standardized) ; 21381.672916666666 (minutes)'\n",
      "Avg 1-(normalized) DL distance acitivty suffix prediction validation set: 0.2818160355091095\n",
      "Percentage of suffixes predicted to END: too early - 0.9708927933806961 ; right moment - 0.02910720661930384 ; too late - 0.0\n",
      "Too early instances - avg amount of events too early: 3.5158333778381348\n",
      "Too late instances - avg amount of events too late: nan\n",
      "Avg absolute amount of events predicted too early / too late: 3.41349720954895\n",
      "Avg MAE RRT prediction validation set: 0.7962052226066589 (standardized) ; 43455.13333333333 (minutes)'\n",
      " \n",
      "------------------------------------\n",
      "EPOCH 10:\n",
      "____________________________________\n"
     ]
    },
    {
     "name": "stderr",
     "output_type": "stream",
     "text": [
      "Batch calculation at epoch 10.: 537it [16:20,  1.83s/it]\n"
     ]
    },
    {
     "name": "stdout",
     "output_type": "stream",
     "text": [
      "=======================================\n",
      "End of epoch 10\n",
      "=======================================\n",
      "Running average global loss: 0.4397198421647772 (over last 4096 batches)\n",
      "Running average activity prediction loss: 0.2543301419063937 (Cross Entropy over last 4096 batches)\n",
      "Running average time till next event prediction loss: 0.07500463211908937 (MAE over last 4096 batches)\n",
      "Running average (complete) remaining runtime prediction loss: 0.11038506749900989 (MAE over last 4096 batches)\n"
     ]
    },
    {
     "name": "stderr",
     "output_type": "stream",
     "text": [
      "Validation batch calculation: 20it [00:24,  1.24s/it]\n"
     ]
    },
    {
     "name": "stdout",
     "output_type": "stream",
     "text": [
      "Avg MAE TTNE prediction validation set: 0.5797592997550964 (standardized) ; 21398.6625 (minutes)'\n",
      "Avg 1-(normalized) DL distance acitivty suffix prediction validation set: 0.2818160355091095\n",
      "Percentage of suffixes predicted to END: too early - 0.9708927933806961 ; right moment - 0.02910720661930384 ; too late - 0.0\n",
      "Too early instances - avg amount of events too early: 3.5158333778381348\n",
      "Too late instances - avg amount of events too late: nan\n",
      "Avg absolute amount of events predicted too early / too late: 3.41349720954895\n",
      "Avg MAE RRT prediction validation set: 0.7944447994232178 (standardized) ; 43359.04583333333 (minutes)'\n",
      " \n",
      "------------------------------------\n",
      "EPOCH 11:\n",
      "____________________________________\n"
     ]
    },
    {
     "name": "stderr",
     "output_type": "stream",
     "text": [
      "Batch calculation at epoch 11.: 537it [16:19,  1.82s/it]\n"
     ]
    },
    {
     "name": "stdout",
     "output_type": "stream",
     "text": [
      "=======================================\n",
      "End of epoch 11\n",
      "=======================================\n",
      "Running average global loss: 0.4397062742500566 (over last 4096 batches)\n",
      "Running average activity prediction loss: 0.2543139078479726 (Cross Entropy over last 4096 batches)\n",
      "Running average time till next event prediction loss: 0.0750073305243859 (MAE over last 4096 batches)\n",
      "Running average (complete) remaining runtime prediction loss: 0.11038503545569256 (MAE over last 4096 batches)\n"
     ]
    },
    {
     "name": "stderr",
     "output_type": "stream",
     "text": [
      "Validation batch calculation: 20it [00:24,  1.22s/it]\n"
     ]
    },
    {
     "name": "stdout",
     "output_type": "stream",
     "text": [
      "Avg MAE TTNE prediction validation set: 0.5799705982208252 (standardized) ; 21406.464583333334 (minutes)'\n",
      "Avg 1-(normalized) DL distance acitivty suffix prediction validation set: 0.2818160355091095\n",
      "Percentage of suffixes predicted to END: too early - 0.9708927933806961 ; right moment - 0.02910720661930384 ; too late - 0.0\n",
      "Too early instances - avg amount of events too early: 3.5158333778381348\n",
      "Too late instances - avg amount of events too late: nan\n",
      "Avg absolute amount of events predicted too early / too late: 3.41349720954895\n",
      "Avg MAE RRT prediction validation set: 0.7956249117851257 (standardized) ; 43423.458333333336 (minutes)'\n",
      " \n",
      "------------------------------------\n",
      "EPOCH 12:\n",
      "____________________________________\n"
     ]
    },
    {
     "name": "stderr",
     "output_type": "stream",
     "text": [
      "Batch calculation at epoch 12.: 537it [16:20,  1.83s/it]\n"
     ]
    },
    {
     "name": "stdout",
     "output_type": "stream",
     "text": [
      "=======================================\n",
      "End of epoch 12\n",
      "=======================================\n",
      "Running average global loss: 0.4396962731843814 (over last 4096 batches)\n",
      "Running average activity prediction loss: 0.25430678462726064 (Cross Entropy over last 4096 batches)\n",
      "Running average time till next event prediction loss: 0.07500511955004185 (MAE over last 4096 batches)\n",
      "Running average (complete) remaining runtime prediction loss: 0.11038436894887127 (MAE over last 4096 batches)\n"
     ]
    },
    {
     "name": "stderr",
     "output_type": "stream",
     "text": [
      "Validation batch calculation: 20it [00:24,  1.23s/it]\n"
     ]
    },
    {
     "name": "stdout",
     "output_type": "stream",
     "text": [
      "Avg MAE TTNE prediction validation set: 0.5794937014579773 (standardized) ; 21388.8625 (minutes)'\n",
      "Avg 1-(normalized) DL distance acitivty suffix prediction validation set: 0.2818160355091095\n",
      "Percentage of suffixes predicted to END: too early - 0.9708927933806961 ; right moment - 0.02910720661930384 ; too late - 0.0\n",
      "Too early instances - avg amount of events too early: 3.5158333778381348\n",
      "Too late instances - avg amount of events too late: nan\n",
      "Avg absolute amount of events predicted too early / too late: 3.41349720954895\n",
      "Avg MAE RRT prediction validation set: 0.7975876331329346 (standardized) ; 43530.57916666667 (minutes)'\n",
      " \n",
      "------------------------------------\n",
      "EPOCH 13:\n",
      "____________________________________\n"
     ]
    },
    {
     "name": "stderr",
     "output_type": "stream",
     "text": [
      "Batch calculation at epoch 13.: 537it [16:22,  1.83s/it]\n"
     ]
    },
    {
     "name": "stdout",
     "output_type": "stream",
     "text": [
      "=======================================\n",
      "End of epoch 13\n",
      "=======================================\n",
      "Running average global loss: 0.439695926499553 (over last 4096 batches)\n",
      "Running average activity prediction loss: 0.254303243389586 (Cross Entropy over last 4096 batches)\n",
      "Running average time till next event prediction loss: 0.07500661083031446 (MAE over last 4096 batches)\n",
      "Running average (complete) remaining runtime prediction loss: 0.11038607309455983 (MAE over last 4096 batches)\n"
     ]
    },
    {
     "name": "stderr",
     "output_type": "stream",
     "text": [
      "Validation batch calculation: 20it [00:24,  1.22s/it]\n"
     ]
    },
    {
     "name": "stdout",
     "output_type": "stream",
     "text": [
      "Avg MAE TTNE prediction validation set: 0.5795115828514099 (standardized) ; 21389.525 (minutes)'\n",
      "Avg 1-(normalized) DL distance acitivty suffix prediction validation set: 0.2818160355091095\n",
      "Percentage of suffixes predicted to END: too early - 0.9708927933806961 ; right moment - 0.02910720661930384 ; too late - 0.0\n",
      "Too early instances - avg amount of events too early: 3.5158333778381348\n",
      "Too late instances - avg amount of events too late: nan\n",
      "Avg absolute amount of events predicted too early / too late: 3.41349720954895\n",
      "Avg MAE RRT prediction validation set: 0.7976455092430115 (standardized) ; 43533.74166666667 (minutes)'\n",
      " \n",
      "------------------------------------\n",
      "EPOCH 14:\n",
      "____________________________________\n"
     ]
    },
    {
     "name": "stderr",
     "output_type": "stream",
     "text": [
      "Batch calculation at epoch 14.: 537it [15:38,  1.75s/it]\n"
     ]
    },
    {
     "name": "stdout",
     "output_type": "stream",
     "text": [
      "=======================================\n",
      "End of epoch 14\n",
      "=======================================\n",
      "Running average global loss: 0.4396903730230406 (over last 4096 batches)\n",
      "Running average activity prediction loss: 0.2542989892826881 (Cross Entropy over last 4096 batches)\n",
      "Running average time till next event prediction loss: 0.07500383372826036 (MAE over last 4096 batches)\n",
      "Running average (complete) remaining runtime prediction loss: 0.11038754976470955 (MAE over last 4096 batches)\n"
     ]
    },
    {
     "name": "stderr",
     "output_type": "stream",
     "text": [
      "Validation batch calculation: 20it [00:24,  1.21s/it]\n"
     ]
    },
    {
     "name": "stdout",
     "output_type": "stream",
     "text": [
      "Avg MAE TTNE prediction validation set: 0.579744279384613 (standardized) ; 21398.110416666666 (minutes)'\n",
      "Avg 1-(normalized) DL distance acitivty suffix prediction validation set: 0.2818160355091095\n",
      "Percentage of suffixes predicted to END: too early - 0.9708927933806961 ; right moment - 0.02910720661930384 ; too late - 0.0\n",
      "Too early instances - avg amount of events too early: 3.5158333778381348\n",
      "Too late instances - avg amount of events too late: nan\n",
      "Avg absolute amount of events predicted too early / too late: 3.41349720954895\n",
      "Avg MAE RRT prediction validation set: 0.7968538403511047 (standardized) ; 43490.52916666667 (minutes)'\n",
      " \n",
      "------------------------------------\n",
      "EPOCH 15:\n",
      "____________________________________\n"
     ]
    },
    {
     "name": "stderr",
     "output_type": "stream",
     "text": [
      "Batch calculation at epoch 15.: 537it [16:49,  1.88s/it]\n"
     ]
    },
    {
     "name": "stdout",
     "output_type": "stream",
     "text": [
      "=======================================\n",
      "End of epoch 15\n",
      "=======================================\n",
      "Running average global loss: 0.4396812928025611 (over last 4096 batches)\n",
      "Running average activity prediction loss: 0.25429095767321996 (Cross Entropy over last 4096 batches)\n",
      "Running average time till next event prediction loss: 0.07500484288902953 (MAE over last 4096 batches)\n",
      "Running average (complete) remaining runtime prediction loss: 0.11038549318618607 (MAE over last 4096 batches)\n"
     ]
    },
    {
     "name": "stderr",
     "output_type": "stream",
     "text": [
      "Validation batch calculation: 20it [00:24,  1.23s/it]\n"
     ]
    },
    {
     "name": "stdout",
     "output_type": "stream",
     "text": [
      "Avg MAE TTNE prediction validation set: 0.5787793397903442 (standardized) ; 21362.5 (minutes)'\n",
      "Avg 1-(normalized) DL distance acitivty suffix prediction validation set: 0.2818160355091095\n",
      "Percentage of suffixes predicted to END: too early - 0.9708927933806961 ; right moment - 0.02910720661930384 ; too late - 0.0\n",
      "Too early instances - avg amount of events too early: 3.5158333778381348\n",
      "Too late instances - avg amount of events too late: nan\n",
      "Avg absolute amount of events predicted too early / too late: 3.41349720954895\n",
      "Avg MAE RRT prediction validation set: 0.7970203161239624 (standardized) ; 43499.6125 (minutes)'\n",
      " \n",
      "------------------------------------\n",
      "EPOCH 16:\n",
      "____________________________________\n"
     ]
    },
    {
     "name": "stderr",
     "output_type": "stream",
     "text": [
      "Batch calculation at epoch 16.: 537it [17:55,  2.00s/it]\n"
     ]
    },
    {
     "name": "stdout",
     "output_type": "stream",
     "text": [
      "=======================================\n",
      "End of epoch 16\n",
      "=======================================\n",
      "Running average global loss: 0.43968666961882263 (over last 4096 batches)\n",
      "Running average activity prediction loss: 0.2542973333329428 (Cross Entropy over last 4096 batches)\n",
      "Running average time till next event prediction loss: 0.07500415317190345 (MAE over last 4096 batches)\n",
      "Running average (complete) remaining runtime prediction loss: 0.11038518317218404 (MAE over last 4096 batches)\n"
     ]
    },
    {
     "name": "stderr",
     "output_type": "stream",
     "text": [
      "Validation batch calculation: 20it [00:24,  1.24s/it]\n"
     ]
    },
    {
     "name": "stdout",
     "output_type": "stream",
     "text": [
      "Avg MAE TTNE prediction validation set: 0.5791803002357483 (standardized) ; 21377.297916666666 (minutes)'\n",
      "Avg 1-(normalized) DL distance acitivty suffix prediction validation set: 0.2818160355091095\n",
      "Percentage of suffixes predicted to END: too early - 0.9708927933806961 ; right moment - 0.02910720661930384 ; too late - 0.0\n",
      "Too early instances - avg amount of events too early: 3.5158333778381348\n",
      "Too late instances - avg amount of events too late: nan\n",
      "Avg absolute amount of events predicted too early / too late: 3.41349720954895\n",
      "Avg MAE RRT prediction validation set: 0.7980992197990417 (standardized) ; 43558.5 (minutes)'\n",
      " \n",
      "------------------------------------\n",
      "EPOCH 17:\n",
      "____________________________________\n"
     ]
    },
    {
     "name": "stderr",
     "output_type": "stream",
     "text": [
      "Batch calculation at epoch 17.: 537it [17:59,  2.01s/it]\n"
     ]
    },
    {
     "name": "stdout",
     "output_type": "stream",
     "text": [
      "=======================================\n",
      "End of epoch 17\n",
      "=======================================\n",
      "Running average global loss: 0.4396862916764803 (over last 4096 batches)\n",
      "Running average activity prediction loss: 0.25429606286343187 (Cross Entropy over last 4096 batches)\n",
      "Running average time till next event prediction loss: 0.07500554162834305 (MAE over last 4096 batches)\n",
      "Running average (complete) remaining runtime prediction loss: 0.11038468734477647 (MAE over last 4096 batches)\n"
     ]
    },
    {
     "name": "stderr",
     "output_type": "stream",
     "text": [
      "Validation batch calculation: 20it [00:24,  1.24s/it]\n"
     ]
    },
    {
     "name": "stdout",
     "output_type": "stream",
     "text": [
      "Avg MAE TTNE prediction validation set: 0.5794474482536316 (standardized) ; 21387.158333333333 (minutes)'\n",
      "Avg 1-(normalized) DL distance acitivty suffix prediction validation set: 0.2818160355091095\n",
      "Percentage of suffixes predicted to END: too early - 0.9708927933806961 ; right moment - 0.02910720661930384 ; too late - 0.0\n",
      "Too early instances - avg amount of events too early: 3.5158333778381348\n",
      "Too late instances - avg amount of events too late: nan\n",
      "Avg absolute amount of events predicted too early / too late: 3.41349720954895\n",
      "Avg MAE RRT prediction validation set: 0.795998752117157 (standardized) ; 43443.854166666664 (minutes)'\n",
      " \n",
      "------------------------------------\n",
      "EPOCH 18:\n",
      "____________________________________\n"
     ]
    },
    {
     "name": "stderr",
     "output_type": "stream",
     "text": [
      "Batch calculation at epoch 18.: 537it [17:51,  2.00s/it]\n"
     ]
    },
    {
     "name": "stdout",
     "output_type": "stream",
     "text": [
      "=======================================\n",
      "End of epoch 18\n",
      "=======================================\n",
      "Running average global loss: 0.43967937590787187 (over last 4096 batches)\n",
      "Running average activity prediction loss: 0.25428961843135767 (Cross Entropy over last 4096 batches)\n",
      "Running average time till next event prediction loss: 0.07500372013601009 (MAE over last 4096 batches)\n",
      "Running average (complete) remaining runtime prediction loss: 0.11038603742781561 (MAE over last 4096 batches)\n"
     ]
    },
    {
     "name": "stderr",
     "output_type": "stream",
     "text": [
      "Validation batch calculation: 20it [00:24,  1.23s/it]\n"
     ]
    },
    {
     "name": "stdout",
     "output_type": "stream",
     "text": [
      "Avg MAE TTNE prediction validation set: 0.5795652866363525 (standardized) ; 21391.50625 (minutes)'\n",
      "Avg 1-(normalized) DL distance acitivty suffix prediction validation set: 0.2818160355091095\n",
      "Percentage of suffixes predicted to END: too early - 0.9708927933806961 ; right moment - 0.02910720661930384 ; too late - 0.0\n",
      "Too early instances - avg amount of events too early: 3.5158333778381348\n",
      "Too late instances - avg amount of events too late: nan\n",
      "Avg absolute amount of events predicted too early / too late: 3.41349720954895\n",
      "Avg MAE RRT prediction validation set: 0.7966110706329346 (standardized) ; 43477.27916666667 (minutes)'\n",
      " \n",
      "------------------------------------\n",
      "EPOCH 19:\n",
      "____________________________________\n"
     ]
    },
    {
     "name": "stderr",
     "output_type": "stream",
     "text": [
      "Batch calculation at epoch 19.: 537it [16:08,  1.80s/it]\n"
     ]
    },
    {
     "name": "stdout",
     "output_type": "stream",
     "text": [
      "=======================================\n",
      "End of epoch 19\n",
      "=======================================\n",
      "Running average global loss: 0.43967679544584826 (over last 4096 batches)\n",
      "Running average activity prediction loss: 0.2542895802471321 (Cross Entropy over last 4096 batches)\n",
      "Running average time till next event prediction loss: 0.07500273913319688 (MAE over last 4096 batches)\n",
      "Running average (complete) remaining runtime prediction loss: 0.11038447584724054 (MAE over last 4096 batches)\n"
     ]
    },
    {
     "name": "stderr",
     "output_type": "stream",
     "text": [
      "Validation batch calculation: 20it [00:24,  1.24s/it]\n"
     ]
    },
    {
     "name": "stdout",
     "output_type": "stream",
     "text": [
      "Avg MAE TTNE prediction validation set: 0.579018235206604 (standardized) ; 21371.3125 (minutes)'\n",
      "Avg 1-(normalized) DL distance acitivty suffix prediction validation set: 0.2818160355091095\n",
      "Percentage of suffixes predicted to END: too early - 0.9708927933806961 ; right moment - 0.02910720661930384 ; too late - 0.0\n",
      "Too early instances - avg amount of events too early: 3.5158333778381348\n",
      "Too late instances - avg amount of events too late: nan\n",
      "Avg absolute amount of events predicted too early / too late: 3.41349720954895\n",
      "Avg MAE RRT prediction validation set: 0.7961618304252625 (standardized) ; 43452.76666666667 (minutes)'\n",
      " \n",
      "------------------------------------\n",
      "EPOCH 20:\n",
      "____________________________________\n"
     ]
    },
    {
     "name": "stderr",
     "output_type": "stream",
     "text": [
      "Batch calculation at epoch 20.: 537it [17:56,  2.00s/it]\n"
     ]
    },
    {
     "name": "stdout",
     "output_type": "stream",
     "text": [
      "=======================================\n",
      "End of epoch 20\n",
      "=======================================\n",
      "Running average global loss: 0.4396717651979998 (over last 4096 batches)\n",
      "Running average activity prediction loss: 0.2542826187273022 (Cross Entropy over last 4096 batches)\n",
      "Running average time till next event prediction loss: 0.07500436018744949 (MAE over last 4096 batches)\n",
      "Running average (complete) remaining runtime prediction loss: 0.11038478699629195 (MAE over last 4096 batches)\n"
     ]
    },
    {
     "name": "stderr",
     "output_type": "stream",
     "text": [
      "Validation batch calculation: 20it [00:25,  1.25s/it]\n"
     ]
    },
    {
     "name": "stdout",
     "output_type": "stream",
     "text": [
      "Avg MAE TTNE prediction validation set: 0.5794331431388855 (standardized) ; 21386.627083333333 (minutes)'\n",
      "Avg 1-(normalized) DL distance acitivty suffix prediction validation set: 0.2818160355091095\n",
      "Percentage of suffixes predicted to END: too early - 0.9708927933806961 ; right moment - 0.02910720661930384 ; too late - 0.0\n",
      "Too early instances - avg amount of events too early: 3.5158333778381348\n",
      "Too late instances - avg amount of events too late: nan\n",
      "Avg absolute amount of events predicted too early / too late: 3.41349720954895\n",
      "Avg MAE RRT prediction validation set: 0.7970202565193176 (standardized) ; 43499.60833333333 (minutes)'\n",
      " \n",
      "------------------------------------\n",
      "EPOCH 21:\n",
      "____________________________________\n"
     ]
    },
    {
     "name": "stderr",
     "output_type": "stream",
     "text": [
      "Batch calculation at epoch 21.: 537it [17:58,  2.01s/it]\n"
     ]
    },
    {
     "name": "stdout",
     "output_type": "stream",
     "text": [
      "=======================================\n",
      "End of epoch 21\n",
      "=======================================\n",
      "Running average global loss: 0.43967155017890036 (over last 4096 batches)\n",
      "Running average activity prediction loss: 0.25428448122693226 (Cross Entropy over last 4096 batches)\n",
      "Running average time till next event prediction loss: 0.07500288107257802 (MAE over last 4096 batches)\n",
      "Running average (complete) remaining runtime prediction loss: 0.11038418769021519 (MAE over last 4096 batches)\n"
     ]
    },
    {
     "name": "stderr",
     "output_type": "stream",
     "text": [
      "Validation batch calculation: 20it [00:24,  1.24s/it]\n"
     ]
    },
    {
     "name": "stdout",
     "output_type": "stream",
     "text": [
      "Avg MAE TTNE prediction validation set: 0.5794901847839355 (standardized) ; 21388.735416666666 (minutes)'\n",
      "Avg 1-(normalized) DL distance acitivty suffix prediction validation set: 0.2818160355091095\n",
      "Percentage of suffixes predicted to END: too early - 0.9708927933806961 ; right moment - 0.02910720661930384 ; too late - 0.0\n",
      "Too early instances - avg amount of events too early: 3.5158333778381348\n",
      "Too late instances - avg amount of events too late: nan\n",
      "Avg absolute amount of events predicted too early / too late: 3.41349720954895\n",
      "Avg MAE RRT prediction validation set: 0.7984355092048645 (standardized) ; 43576.854166666664 (minutes)'\n",
      " \n",
      "------------------------------------\n",
      "EPOCH 22:\n",
      "____________________________________\n"
     ]
    },
    {
     "name": "stderr",
     "output_type": "stream",
     "text": [
      "Batch calculation at epoch 22.: 537it [17:46,  1.99s/it]\n"
     ]
    },
    {
     "name": "stdout",
     "output_type": "stream",
     "text": [
      "=======================================\n",
      "End of epoch 22\n",
      "=======================================\n",
      "Running average global loss: 0.4396711143781431 (over last 4096 batches)\n",
      "Running average activity prediction loss: 0.2542844529671129 (Cross Entropy over last 4096 batches)\n",
      "Running average time till next event prediction loss: 0.07500237577187363 (MAE over last 4096 batches)\n",
      "Running average (complete) remaining runtime prediction loss: 0.11038428518804722 (MAE over last 4096 batches)\n"
     ]
    },
    {
     "name": "stderr",
     "output_type": "stream",
     "text": [
      "Validation batch calculation: 20it [00:24,  1.22s/it]\n"
     ]
    },
    {
     "name": "stdout",
     "output_type": "stream",
     "text": [
      "Avg MAE TTNE prediction validation set: 0.5791866183280945 (standardized) ; 21377.533333333333 (minutes)'\n",
      "Avg 1-(normalized) DL distance acitivty suffix prediction validation set: 0.2818160355091095\n",
      "Percentage of suffixes predicted to END: too early - 0.9708927933806961 ; right moment - 0.02910720661930384 ; too late - 0.0\n",
      "Too early instances - avg amount of events too early: 3.5158333778381348\n",
      "Too late instances - avg amount of events too late: nan\n",
      "Avg absolute amount of events predicted too early / too late: 3.41349720954895\n",
      "Avg MAE RRT prediction validation set: 0.7948336005210876 (standardized) ; 43380.275 (minutes)'\n",
      " \n",
      "------------------------------------\n",
      "EPOCH 23:\n",
      "____________________________________\n"
     ]
    },
    {
     "name": "stderr",
     "output_type": "stream",
     "text": [
      "Batch calculation at epoch 23.: 537it [17:52,  2.00s/it]\n"
     ]
    },
    {
     "name": "stdout",
     "output_type": "stream",
     "text": [
      "=======================================\n",
      "End of epoch 23\n",
      "=======================================\n",
      "Running average global loss: 0.4396749670850113 (over last 4096 batches)\n",
      "Running average activity prediction loss: 0.25428738884511404 (Cross Entropy over last 4096 batches)\n",
      "Running average time till next event prediction loss: 0.07500296254875138 (MAE over last 4096 batches)\n",
      "Running average (complete) remaining runtime prediction loss: 0.11038461624411866 (MAE over last 4096 batches)\n"
     ]
    },
    {
     "name": "stderr",
     "output_type": "stream",
     "text": [
      "Validation batch calculation: 20it [00:24,  1.23s/it]\n"
     ]
    },
    {
     "name": "stdout",
     "output_type": "stream",
     "text": [
      "Avg MAE TTNE prediction validation set: 0.5796326994895935 (standardized) ; 21393.989583333332 (minutes)'\n",
      "Avg 1-(normalized) DL distance acitivty suffix prediction validation set: 0.2818160355091095\n",
      "Percentage of suffixes predicted to END: too early - 0.9708927933806961 ; right moment - 0.02910720661930384 ; too late - 0.0\n",
      "Too early instances - avg amount of events too early: 3.5158333778381348\n",
      "Too late instances - avg amount of events too late: nan\n",
      "Avg absolute amount of events predicted too early / too late: 3.41349720954895\n",
      "Avg MAE RRT prediction validation set: 0.7955464124679565 (standardized) ; 43419.175 (minutes)'\n",
      " \n",
      "------------------------------------\n",
      "EPOCH 24:\n",
      "____________________________________\n"
     ]
    },
    {
     "name": "stderr",
     "output_type": "stream",
     "text": [
      "Batch calculation at epoch 24.: 537it [15:59,  1.79s/it]\n"
     ]
    },
    {
     "name": "stdout",
     "output_type": "stream",
     "text": [
      "=======================================\n",
      "End of epoch 24\n",
      "=======================================\n",
      "Running average global loss: 0.4396757619106211 (over last 4096 batches)\n",
      "Running average activity prediction loss: 0.2542895988735836 (Cross Entropy over last 4096 batches)\n",
      "Running average time till next event prediction loss: 0.07500143228389788 (MAE over last 4096 batches)\n",
      "Running average (complete) remaining runtime prediction loss: 0.11038473283406347 (MAE over last 4096 batches)\n"
     ]
    },
    {
     "name": "stderr",
     "output_type": "stream",
     "text": [
      "Validation batch calculation: 20it [00:24,  1.25s/it]\n"
     ]
    },
    {
     "name": "stdout",
     "output_type": "stream",
     "text": [
      "Avg MAE TTNE prediction validation set: 0.5793840885162354 (standardized) ; 21384.814583333333 (minutes)'\n",
      "Avg 1-(normalized) DL distance acitivty suffix prediction validation set: 0.2818160355091095\n",
      "Percentage of suffixes predicted to END: too early - 0.9708927933806961 ; right moment - 0.02910720661930384 ; too late - 0.0\n",
      "Too early instances - avg amount of events too early: 3.5158333778381348\n",
      "Too late instances - avg amount of events too late: nan\n",
      "Avg absolute amount of events predicted too early / too late: 3.41349720954895\n",
      "Avg MAE RRT prediction validation set: 0.7957177758216858 (standardized) ; 43428.520833333336 (minutes)'\n",
      " \n",
      "------------------------------------\n",
      "EPOCH 25:\n",
      "____________________________________\n"
     ]
    },
    {
     "name": "stderr",
     "output_type": "stream",
     "text": [
      "Batch calculation at epoch 25.: 537it [18:02,  2.02s/it]\n"
     ]
    },
    {
     "name": "stdout",
     "output_type": "stream",
     "text": [
      "=======================================\n",
      "End of epoch 25\n",
      "=======================================\n",
      "Running average global loss: 0.4396676124888472 (over last 4096 batches)\n",
      "Running average activity prediction loss: 0.2542810551240109 (Cross Entropy over last 4096 batches)\n",
      "Running average time till next event prediction loss: 0.0750028427282814 (MAE over last 4096 batches)\n",
      "Running average (complete) remaining runtime prediction loss: 0.11038371386530343 (MAE over last 4096 batches)\n"
     ]
    },
    {
     "name": "stderr",
     "output_type": "stream",
     "text": [
      "Validation batch calculation: 20it [00:24,  1.23s/it]\n"
     ]
    },
    {
     "name": "stdout",
     "output_type": "stream",
     "text": [
      "Avg MAE TTNE prediction validation set: 0.5795518159866333 (standardized) ; 21391.0 (minutes)'\n",
      "Avg 1-(normalized) DL distance acitivty suffix prediction validation set: 0.2818160355091095\n",
      "Percentage of suffixes predicted to END: too early - 0.9708927933806961 ; right moment - 0.02910720661930384 ; too late - 0.0\n",
      "Too early instances - avg amount of events too early: 3.5158333778381348\n",
      "Too late instances - avg amount of events too late: nan\n",
      "Avg absolute amount of events predicted too early / too late: 3.41349720954895\n",
      "Avg MAE RRT prediction validation set: 0.7965755462646484 (standardized) ; 43475.34583333333 (minutes)'\n",
      " \n",
      "------------------------------------\n",
      "EPOCH 26:\n",
      "____________________________________\n"
     ]
    },
    {
     "name": "stderr",
     "output_type": "stream",
     "text": [
      "Batch calculation at epoch 26.: 537it [17:52,  2.00s/it]\n"
     ]
    },
    {
     "name": "stdout",
     "output_type": "stream",
     "text": [
      "=======================================\n",
      "End of epoch 26\n",
      "=======================================\n",
      "Running average global loss: 0.43967131746467203 (over last 4096 batches)\n",
      "Running average activity prediction loss: 0.2542835600906983 (Cross Entropy over last 4096 batches)\n",
      "Running average time till next event prediction loss: 0.075001984150731 (MAE over last 4096 batches)\n",
      "Running average (complete) remaining runtime prediction loss: 0.11038577268482186 (MAE over last 4096 batches)\n"
     ]
    },
    {
     "name": "stderr",
     "output_type": "stream",
     "text": [
      "Validation batch calculation: 20it [00:23,  1.19s/it]\n"
     ]
    },
    {
     "name": "stdout",
     "output_type": "stream",
     "text": [
      "Avg MAE TTNE prediction validation set: 0.579331636428833 (standardized) ; 21382.88125 (minutes)'\n",
      "Avg 1-(normalized) DL distance acitivty suffix prediction validation set: 0.2818160355091095\n",
      "Percentage of suffixes predicted to END: too early - 0.9708927933806961 ; right moment - 0.02910720661930384 ; too late - 0.0\n",
      "Too early instances - avg amount of events too early: 3.5158333778381348\n",
      "Too late instances - avg amount of events too late: nan\n",
      "Avg absolute amount of events predicted too early / too late: 3.41349720954895\n",
      "Avg MAE RRT prediction validation set: 0.7953438758850098 (standardized) ; 43408.125 (minutes)'\n",
      " \n",
      "------------------------------------\n",
      "EPOCH 27:\n",
      "____________________________________\n"
     ]
    },
    {
     "name": "stderr",
     "output_type": "stream",
     "text": [
      "Batch calculation at epoch 27.: 537it [17:55,  2.00s/it]\n"
     ]
    },
    {
     "name": "stdout",
     "output_type": "stream",
     "text": [
      "=======================================\n",
      "End of epoch 27\n",
      "=======================================\n",
      "Running average global loss: 0.4396671612630598 (over last 4096 batches)\n",
      "Running average activity prediction loss: 0.2542805496195797 (Cross Entropy over last 4096 batches)\n",
      "Running average time till next event prediction loss: 0.07500360172707587 (MAE over last 4096 batches)\n",
      "Running average (complete) remaining runtime prediction loss: 0.11038300974178128 (MAE over last 4096 batches)\n"
     ]
    },
    {
     "name": "stderr",
     "output_type": "stream",
     "text": [
      "Validation batch calculation: 20it [00:25,  1.25s/it]\n"
     ]
    },
    {
     "name": "stdout",
     "output_type": "stream",
     "text": [
      "Avg MAE TTNE prediction validation set: 0.5791599750518799 (standardized) ; 21376.535416666666 (minutes)'\n",
      "Avg 1-(normalized) DL distance acitivty suffix prediction validation set: 0.2818160355091095\n",
      "Percentage of suffixes predicted to END: too early - 0.9708927933806961 ; right moment - 0.02910720661930384 ; too late - 0.0\n",
      "Too early instances - avg amount of events too early: 3.5158333778381348\n",
      "Too late instances - avg amount of events too late: nan\n",
      "Avg absolute amount of events predicted too early / too late: 3.41349720954895\n",
      "Avg MAE RRT prediction validation set: 0.7953245639801025 (standardized) ; 43407.066666666666 (minutes)'\n",
      " \n",
      "------------------------------------\n",
      "EPOCH 28:\n",
      "____________________________________\n"
     ]
    },
    {
     "name": "stderr",
     "output_type": "stream",
     "text": [
      "Batch calculation at epoch 28.: 537it [17:43,  1.98s/it]\n"
     ]
    },
    {
     "name": "stdout",
     "output_type": "stream",
     "text": [
      "=======================================\n",
      "End of epoch 28\n",
      "=======================================\n",
      "Running average global loss: 0.43967017449904233 (over last 4096 batches)\n",
      "Running average activity prediction loss: 0.25428098149131984 (Cross Entropy over last 4096 batches)\n",
      "Running average time till next event prediction loss: 0.07500494983105455 (MAE over last 4096 batches)\n",
      "Running average (complete) remaining runtime prediction loss: 0.11038424276921432 (MAE over last 4096 batches)\n"
     ]
    },
    {
     "name": "stderr",
     "output_type": "stream",
     "text": [
      "Validation batch calculation: 20it [00:24,  1.23s/it]\n"
     ]
    },
    {
     "name": "stdout",
     "output_type": "stream",
     "text": [
      "Avg MAE TTNE prediction validation set: 0.579329788684845 (standardized) ; 21382.789583333335 (minutes)'\n",
      "Avg 1-(normalized) DL distance acitivty suffix prediction validation set: 0.2818160355091095\n",
      "Percentage of suffixes predicted to END: too early - 0.9708927933806961 ; right moment - 0.02910720661930384 ; too late - 0.0\n",
      "Too early instances - avg amount of events too early: 3.5158333778381348\n",
      "Too late instances - avg amount of events too late: nan\n",
      "Avg absolute amount of events predicted too early / too late: 3.41349720954895\n",
      "Avg MAE RRT prediction validation set: 0.7968010902404785 (standardized) ; 43487.645833333336 (minutes)'\n",
      " \n",
      "------------------------------------\n",
      "EPOCH 29:\n",
      "____________________________________\n"
     ]
    },
    {
     "name": "stderr",
     "output_type": "stream",
     "text": [
      "Batch calculation at epoch 29.: 537it [16:02,  1.79s/it]\n"
     ]
    },
    {
     "name": "stdout",
     "output_type": "stream",
     "text": [
      "=======================================\n",
      "End of epoch 29\n",
      "=======================================\n",
      "Running average global loss: 0.43966760457260534 (over last 4096 batches)\n",
      "Running average activity prediction loss: 0.2542824998963624 (Cross Entropy over last 4096 batches)\n",
      "Running average time till next event prediction loss: 0.0750011834606994 (MAE over last 4096 batches)\n",
      "Running average (complete) remaining runtime prediction loss: 0.11038392125919927 (MAE over last 4096 batches)\n"
     ]
    },
    {
     "name": "stderr",
     "output_type": "stream",
     "text": [
      "Validation batch calculation: 20it [00:24,  1.24s/it]\n"
     ]
    },
    {
     "name": "stdout",
     "output_type": "stream",
     "text": [
      "Avg MAE TTNE prediction validation set: 0.5796347260475159 (standardized) ; 21394.045833333334 (minutes)'\n",
      "Avg 1-(normalized) DL distance acitivty suffix prediction validation set: 0.2818160355091095\n",
      "Percentage of suffixes predicted to END: too early - 0.9708927933806961 ; right moment - 0.02910720661930384 ; too late - 0.0\n",
      "Too early instances - avg amount of events too early: 3.5158333778381348\n",
      "Too late instances - avg amount of events too late: nan\n",
      "Avg absolute amount of events predicted too early / too late: 3.41349720954895\n",
      "Avg MAE RRT prediction validation set: 0.7971874475479126 (standardized) ; 43508.7375 (minutes)'\n",
      " \n",
      "------------------------------------\n",
      "EPOCH 30:\n",
      "____________________________________\n"
     ]
    },
    {
     "name": "stderr",
     "output_type": "stream",
     "text": [
      "Batch calculation at epoch 30.: 537it [17:37,  1.97s/it]\n"
     ]
    },
    {
     "name": "stdout",
     "output_type": "stream",
     "text": [
      "=======================================\n",
      "End of epoch 30\n",
      "=======================================\n",
      "Running average global loss: 0.43966521363472566 (over last 4096 batches)\n",
      "Running average activity prediction loss: 0.2542781507363543 (Cross Entropy over last 4096 batches)\n",
      "Running average time till next event prediction loss: 0.07500399138370994 (MAE over last 4096 batches)\n",
      "Running average (complete) remaining runtime prediction loss: 0.1103830717765959 (MAE over last 4096 batches)\n"
     ]
    },
    {
     "name": "stderr",
     "output_type": "stream",
     "text": [
      "Validation batch calculation: 20it [00:24,  1.24s/it]\n"
     ]
    },
    {
     "name": "stdout",
     "output_type": "stream",
     "text": [
      "Avg MAE TTNE prediction validation set: 0.5795543789863586 (standardized) ; 21391.0875 (minutes)'\n",
      "Avg 1-(normalized) DL distance acitivty suffix prediction validation set: 0.2818160355091095\n",
      "Percentage of suffixes predicted to END: too early - 0.9708927933806961 ; right moment - 0.02910720661930384 ; too late - 0.0\n",
      "Too early instances - avg amount of events too early: 3.5158333778381348\n",
      "Too late instances - avg amount of events too late: nan\n",
      "Avg absolute amount of events predicted too early / too late: 3.41349720954895\n",
      "Avg MAE RRT prediction validation set: 0.796803891658783 (standardized) ; 43487.80416666667 (minutes)'\n",
      " \n",
      "------------------------------------\n",
      "EPOCH 31:\n",
      "____________________________________\n"
     ]
    },
    {
     "name": "stderr",
     "output_type": "stream",
     "text": [
      "Batch calculation at epoch 31.: 537it [17:50,  1.99s/it]\n"
     ]
    },
    {
     "name": "stdout",
     "output_type": "stream",
     "text": [
      "=======================================\n",
      "End of epoch 31\n",
      "=======================================\n",
      "Running average global loss: 0.43966832611477 (over last 4096 batches)\n",
      "Running average activity prediction loss: 0.2542813338513952 (Cross Entropy over last 4096 batches)\n",
      "Running average time till next event prediction loss: 0.07500081443868112 (MAE over last 4096 batches)\n",
      "Running average (complete) remaining runtime prediction loss: 0.11038617722806521 (MAE over last 4096 batches)\n"
     ]
    },
    {
     "name": "stderr",
     "output_type": "stream",
     "text": [
      "Validation batch calculation: 20it [00:24,  1.24s/it]\n"
     ]
    },
    {
     "name": "stdout",
     "output_type": "stream",
     "text": [
      "Avg MAE TTNE prediction validation set: 0.579513669013977 (standardized) ; 21389.595833333333 (minutes)'\n",
      "Avg 1-(normalized) DL distance acitivty suffix prediction validation set: 0.2818160355091095\n",
      "Percentage of suffixes predicted to END: too early - 0.9708927933806961 ; right moment - 0.02910720661930384 ; too late - 0.0\n",
      "Too early instances - avg amount of events too early: 3.5158333778381348\n",
      "Too late instances - avg amount of events too late: nan\n",
      "Avg absolute amount of events predicted too early / too late: 3.41349720954895\n",
      "Avg MAE RRT prediction validation set: 0.796152651309967 (standardized) ; 43452.2625 (minutes)'\n",
      " \n",
      "------------------------------------\n",
      "EPOCH 32:\n",
      "____________________________________\n"
     ]
    },
    {
     "name": "stderr",
     "output_type": "stream",
     "text": [
      "Batch calculation at epoch 32.: 537it [17:42,  1.98s/it]\n"
     ]
    },
    {
     "name": "stdout",
     "output_type": "stream",
     "text": [
      "=======================================\n",
      "End of epoch 32\n",
      "=======================================\n",
      "Running average global loss: 0.43966074771014974 (over last 4096 batches)\n",
      "Running average activity prediction loss: 0.25427797427983023 (Cross Entropy over last 4096 batches)\n",
      "Running average time till next event prediction loss: 0.07500074835843407 (MAE over last 4096 batches)\n",
      "Running average (complete) remaining runtime prediction loss: 0.11038202491181437 (MAE over last 4096 batches)\n"
     ]
    },
    {
     "name": "stderr",
     "output_type": "stream",
     "text": [
      "Validation batch calculation: 20it [00:24,  1.23s/it]\n"
     ]
    },
    {
     "name": "stdout",
     "output_type": "stream",
     "text": [
      "Avg MAE TTNE prediction validation set: 0.57932049036026 (standardized) ; 21382.460416666665 (minutes)'\n",
      "Avg 1-(normalized) DL distance acitivty suffix prediction validation set: 0.2818160355091095\n",
      "Percentage of suffixes predicted to END: too early - 0.9708927933806961 ; right moment - 0.02910720661930384 ; too late - 0.0\n",
      "Too early instances - avg amount of events too early: 3.5158333778381348\n",
      "Too late instances - avg amount of events too late: nan\n",
      "Avg absolute amount of events predicted too early / too late: 3.41349720954895\n",
      "Avg MAE RRT prediction validation set: 0.7965685129165649 (standardized) ; 43474.958333333336 (minutes)'\n",
      " \n",
      "------------------------------------\n",
      "EPOCH 33:\n",
      "____________________________________\n"
     ]
    },
    {
     "name": "stderr",
     "output_type": "stream",
     "text": [
      "Batch calculation at epoch 33.: 537it [17:46,  1.99s/it]\n"
     ]
    },
    {
     "name": "stdout",
     "output_type": "stream",
     "text": [
      "=======================================\n",
      "End of epoch 33\n",
      "=======================================\n",
      "Running average global loss: 0.4396682990482077 (over last 4096 batches)\n",
      "Running average activity prediction loss: 0.2542812541942112 (Cross Entropy over last 4096 batches)\n",
      "Running average time till next event prediction loss: 0.07500158641778398 (MAE over last 4096 batches)\n",
      "Running average (complete) remaining runtime prediction loss: 0.11038545744668227 (MAE over last 4096 batches)\n"
     ]
    },
    {
     "name": "stderr",
     "output_type": "stream",
     "text": [
      "Validation batch calculation: 20it [00:24,  1.22s/it]\n"
     ]
    },
    {
     "name": "stdout",
     "output_type": "stream",
     "text": [
      "Avg MAE TTNE prediction validation set: 0.5792816281318665 (standardized) ; 21381.029166666667 (minutes)'\n",
      "Avg 1-(normalized) DL distance acitivty suffix prediction validation set: 0.2818160355091095\n",
      "Percentage of suffixes predicted to END: too early - 0.9708927933806961 ; right moment - 0.02910720661930384 ; too late - 0.0\n",
      "Too early instances - avg amount of events too early: 3.5158333778381348\n",
      "Too late instances - avg amount of events too late: nan\n",
      "Avg absolute amount of events predicted too early / too late: 3.41349720954895\n",
      "Avg MAE RRT prediction validation set: 0.7960361242294312 (standardized) ; 43445.895833333336 (minutes)'\n",
      " \n",
      "------------------------------------\n",
      "EPOCH 34:\n",
      "____________________________________\n"
     ]
    },
    {
     "name": "stderr",
     "output_type": "stream",
     "text": [
      "Batch calculation at epoch 34.: 537it [16:49,  1.88s/it]\n"
     ]
    },
    {
     "name": "stdout",
     "output_type": "stream",
     "text": [
      "=======================================\n",
      "End of epoch 34\n",
      "=======================================\n",
      "Running average global loss: 0.43966304062632844 (over last 4096 batches)\n",
      "Running average activity prediction loss: 0.25427748268703 (Cross Entropy over last 4096 batches)\n",
      "Running average time till next event prediction loss: 0.07500197441549972 (MAE over last 4096 batches)\n",
      "Running average (complete) remaining runtime prediction loss: 0.11038358417863492 (MAE over last 4096 batches)\n"
     ]
    },
    {
     "name": "stderr",
     "output_type": "stream",
     "text": [
      "Validation batch calculation: 20it [00:25,  1.27s/it]\n",
      "/media/usr/SSD/yongmin/PPM/TRAIN_EVAL_NODE_ND.py:51: FutureWarning: You are using `torch.load` with `weights_only=False` (the current default value), which uses the default pickle module implicitly. It is possible to construct malicious pickle data which will execute arbitrary code during unpickling (See https://github.com/pytorch/pytorch/blob/main/SECURITY.md#untrusted-models for more details). In a future release, the default value for `weights_only` will be flipped to `True`. This limits the functions that could be executed during unpickling. Arbitrary objects will no longer be allowed to be loaded via this mode unless they are explicitly allowlisted by the user via `torch.serialization.add_safe_globals`. We recommend you start setting `weights_only=True` for any use case where you don't have full control of the loaded file. Please open an issue on GitHub for any issues related to this experimental feature.\n",
      "  checkpoint = torch.load(path_to_checkpoint)\n"
     ]
    },
    {
     "name": "stdout",
     "output_type": "stream",
     "text": [
      "Avg MAE TTNE prediction validation set: 0.5794782638549805 (standardized) ; 21388.283333333333 (minutes)'\n",
      "Avg 1-(normalized) DL distance acitivty suffix prediction validation set: 0.2818160355091095\n",
      "Percentage of suffixes predicted to END: too early - 0.9708927933806961 ; right moment - 0.02910720661930384 ; too late - 0.0\n",
      "Too early instances - avg amount of events too early: 3.5158333778381348\n",
      "Too late instances - avg amount of events too late: nan\n",
      "Avg absolute amount of events predicted too early / too late: 3.41349720954895\n",
      "Avg MAE RRT prediction validation set: 0.796372652053833 (standardized) ; 43464.270833333336 (minutes)'\n",
      "No improvements in validation loss for 24 consecutive epochs. Final epoch: 34\n"
     ]
    },
    {
     "name": "stderr",
     "output_type": "stream",
     "text": [
      "Validation batch calculation: 20it [00:24,  1.24s/it]\n"
     ]
    },
    {
     "name": "stdout",
     "output_type": "stream",
     "text": [
      "Avg MAE TTNE prediction validation set: 0.5797592997550964 (standardized) ; 21398.6625 (minutes)'\n",
      "Avg 1-(normalized) DL distance acitivty suffix prediction validation set: 0.2818160355091095\n",
      "Percentage of suffixes predicted to END: too early - 0.9708927933806961 ; right moment - 0.02910720661930384 ; too late - 0.0\n",
      "Too early instances - avg amount of events too early: 3.5158333778381348\n",
      "Too late instances - avg amount of events too late: nan\n",
      "Avg absolute amount of events predicted too early / too late: 3.41349720954895\n",
      "Avg MAE RRT prediction validation set: 0.7944447994232178 (standardized) ; 43359.04583333333 (minutes)'\n"
     ]
    }
   ],
   "source": [
    "from TRAIN_EVAL_NODE_ND import train_eval\n",
    "\n",
    "train_eval(log_name='BPIC_19', tss_index=1, hidden_dim=64, device='cuda')"
   ]
  },
  {
   "cell_type": "code",
   "execution_count": null,
   "metadata": {},
   "outputs": [],
   "source": []
  }
 ],
 "metadata": {
  "kernelspec": {
   "display_name": "NDE",
   "language": "python",
   "name": "python3"
  },
  "language_info": {
   "codemirror_mode": {
    "name": "ipython",
    "version": 3
   },
   "file_extension": ".py",
   "mimetype": "text/x-python",
   "name": "python",
   "nbconvert_exporter": "python",
   "pygments_lexer": "ipython3",
   "version": "3.12.5"
  }
 },
 "nbformat": 4,
 "nbformat_minor": 2
}
