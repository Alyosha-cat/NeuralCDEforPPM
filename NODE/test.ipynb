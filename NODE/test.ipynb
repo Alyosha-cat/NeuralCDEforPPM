{
 "cells": [
  {
   "cell_type": "code",
   "execution_count": 5,
   "metadata": {},
   "outputs": [
    {
     "name": "stdout",
     "output_type": "stream",
     "text": [
      "Activity logits (softmax probs for first instance):\n",
      "tensor([0.0643, 0.1190, 0.1084, 0.0970, 0.0879, 0.1257, 0.1183, 0.0857, 0.1062,\n",
      "        0.0875], grad_fn=<SoftmaxBackward0>)\n",
      "\n",
      "Remaining Runtime Predictions:\n",
      "tensor([0.1469, 0.3285])\n"
     ]
    }
   ],
   "source": [
    "import torch\n",
    "import torchcde\n",
    "import torch.nn as nn\n",
    "\n",
    "class CDEFunc(nn.Module):\n",
    "    def __init__(self, hidden_dim, input_channels):\n",
    "        super().__init__()\n",
    "        self.linear = nn.Linear(hidden_dim, hidden_dim * input_channels)\n",
    "\n",
    "    def forward(self, t, z):  # Adjusted to accept time 't'\n",
    "        out = self.linear(z)\n",
    "        return out.view(z.size(0), z.size(1), -1)\n",
    "\n",
    "\n",
    "class CRTP_CDE_no_context(nn.Module):\n",
    "    def __init__(self, input_channels, hidden_dim, num_activities, dropout=0.2):\n",
    "        super().__init__()\n",
    "        self.hidden_dim = hidden_dim\n",
    "        self.num_activities = num_activities\n",
    "\n",
    "        self.initial = nn.Linear(input_channels, hidden_dim)\n",
    "        self.func = CDEFunc(hidden_dim, input_channels)\n",
    "        self.dropout = nn.Dropout(dropout)\n",
    "\n",
    "        self.activity_head = nn.Sequential(\n",
    "            nn.Linear(hidden_dim, hidden_dim),\n",
    "            nn.ReLU(),\n",
    "            nn.Linear(hidden_dim, num_activities)\n",
    "        )\n",
    "        self.rrt_head = nn.Sequential(\n",
    "            nn.Linear(hidden_dim, hidden_dim),\n",
    "            nn.ReLU(),\n",
    "            nn.Linear(hidden_dim, 1)\n",
    "        )\n",
    "\n",
    "    def forward(self, data, ts):\n",
    "        coeffs = torchcde.linear_interpolation_coeffs(data)\n",
    "        X = torchcde.LinearInterpolation(coeffs)\n",
    "        z0 = self.initial(X.evaluate(ts[0]))\n",
    "        z_t = torchcde.cdeint(X=X, z0=z0, func=self.func, t=ts)\n",
    "        z_T = z_t[:, -1, :]  # final hidden state\n",
    "        z_T = self.dropout(z_T)\n",
    "        activity_logits = self.activity_head(z_T)\n",
    "        rrt = self.rrt_head(z_T).squeeze(-1)\n",
    "        return activity_logits, rrt\n",
    "\n",
    "\n",
    "# Run test\n",
    "if __name__ == \"__main__\":\n",
    "    torch.manual_seed(0)\n",
    "    batch_size, sequence_len, input_dim, hidden_dim, num_activities = 2, 12, 6, 32, 10\n",
    "    data = torch.randn(batch_size, sequence_len, input_dim)\n",
    "    ts = torch.linspace(0, 1, sequence_len)\n",
    "\n",
    "    model = CRTP_CDE_no_context(input_channels=input_dim, hidden_dim=hidden_dim, num_activities=num_activities)\n",
    "    activity_logits, rrt = model(data, ts)\n",
    "\n",
    "print(\"Activity logits (softmax probs for first instance):\")\n",
    "print(torch.softmax(activity_logits[0], dim=-1))\n",
    "print(\"\\nRemaining Runtime Predictions:\")\n",
    "print(rrt.detach())\n",
    "\n"
   ]
  },
  {
   "cell_type": "code",
   "execution_count": null,
   "metadata": {},
   "outputs": [],
   "source": []
  }
 ],
 "metadata": {
  "kernelspec": {
   "display_name": "NDE",
   "language": "python",
   "name": "python3"
  },
  "language_info": {
   "codemirror_mode": {
    "name": "ipython",
    "version": 3
   },
   "file_extension": ".py",
   "mimetype": "text/x-python",
   "name": "python",
   "nbconvert_exporter": "python",
   "pygments_lexer": "ipython3",
   "version": "3.12.5"
  }
 },
 "nbformat": 4,
 "nbformat_minor": 2
}
