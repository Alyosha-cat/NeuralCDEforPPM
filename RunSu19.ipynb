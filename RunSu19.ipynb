{
 "cells": [
  {
   "cell_type": "code",
   "execution_count": 1,
   "metadata": {},
   "outputs": [
    {
     "name": "stdout",
     "output_type": "stream",
     "text": [
      "41\n"
     ]
    },
    {
     "name": "stderr",
     "output_type": "stream",
     "text": [
      "/media/usr/SSD/yongmin/PPM/TRAIN_EVAL_SUTRAN_NDA.py:181: FutureWarning: You are using `torch.load` with `weights_only=False` (the current default value), which uses the default pickle module implicitly. It is possible to construct malicious pickle data which will execute arbitrary code during unpickling (See https://github.com/pytorch/pytorch/blob/main/SECURITY.md#untrusted-models for more details). In a future release, the default value for `weights_only` will be flipped to `True`. This limits the functions that could be executed during unpickling. Arbitrary objects will no longer be allowed to be loaded via this mode unless they are explicitly allowlisted by the user via `torch.serialization.add_safe_globals`. We recommend you start setting `weights_only=True` for any use case where you don't have full control of the loaded file. Please open an issue on GitHub for any issues related to this experimental feature.\n",
      "  train_dataset = torch.load(temp_path)\n",
      "/media/usr/SSD/yongmin/PPM/TRAIN_EVAL_SUTRAN_NDA.py:185: FutureWarning: You are using `torch.load` with `weights_only=False` (the current default value), which uses the default pickle module implicitly. It is possible to construct malicious pickle data which will execute arbitrary code during unpickling (See https://github.com/pytorch/pytorch/blob/main/SECURITY.md#untrusted-models for more details). In a future release, the default value for `weights_only` will be flipped to `True`. This limits the functions that could be executed during unpickling. Arbitrary objects will no longer be allowed to be loaded via this mode unless they are explicitly allowlisted by the user via `torch.serialization.add_safe_globals`. We recommend you start setting `weights_only=True` for any use case where you don't have full control of the loaded file. Please open an issue on GitHub for any issues related to this experimental feature.\n",
      "  val_dataset = torch.load(temp_path)\n",
      "/media/usr/SSD/yongmin/PPM/TRAIN_EVAL_SUTRAN_NDA.py:189: FutureWarning: You are using `torch.load` with `weights_only=False` (the current default value), which uses the default pickle module implicitly. It is possible to construct malicious pickle data which will execute arbitrary code during unpickling (See https://github.com/pytorch/pytorch/blob/main/SECURITY.md#untrusted-models for more details). In a future release, the default value for `weights_only` will be flipped to `True`. This limits the functions that could be executed during unpickling. Arbitrary objects will no longer be allowed to be loaded via this mode unless they are explicitly allowlisted by the user via `torch.serialization.add_safe_globals`. We recommend you start setting `weights_only=True` for any use case where you don't have full control of the loaded file. Please open an issue on GitHub for any issues related to this experimental feature.\n",
      "  test_dataset = torch.load(temp_path)\n"
     ]
    },
    {
     "name": "stdout",
     "output_type": "stream",
     "text": [
      "device: cuda\n",
      "Device: cuda\n",
      " \n",
      "------------------------------------\n",
      "EPOCH 0:\n",
      "____________________________________\n"
     ]
    },
    {
     "name": "stderr",
     "output_type": "stream",
     "text": [
      "Batch calculation at epoch 0.: 801it [01:41,  8.11it/s]"
     ]
    },
    {
     "name": "stdout",
     "output_type": "stream",
     "text": [
      "------------------------------------------------------------\n",
      "Epoch 0, batch 799:\n",
      "Average original gradient norm: 1.6416287737339734 (over last 800 batches)\n",
      "Average clipped gradient norm: 1.564592770859599 (over last 800 batches)\n",
      "Running average global loss: 1.8777113692462444 (over last 800 batches)\n",
      "Running average activity prediction loss: 0.8628594908118248 (Cross Entropy over last 800 batches)\n",
      "Running average time till next event prediction loss: 0.4173892218619585 (MAE over last 800 batches)\n",
      "Running average (complete) remaining runtime prediction loss: 0.5974626554176211 (MAE over last 800 batches)\n",
      "------------------------------------------------------------\n"
     ]
    },
    {
     "name": "stderr",
     "output_type": "stream",
     "text": [
      "Batch calculation at epoch 0.: 1601it [03:54,  5.78it/s]"
     ]
    },
    {
     "name": "stdout",
     "output_type": "stream",
     "text": [
      "------------------------------------------------------------\n",
      "Epoch 0, batch 1599:\n",
      "Average original gradient norm: 1.5314401242882014 (over last 800 batches)\n",
      "Average clipped gradient norm: 1.517455978617072 (over last 800 batches)\n",
      "Running average global loss: 1.494478770494461 (over last 800 batches)\n",
      "Running average activity prediction loss: 0.5784341303631664 (Cross Entropy over last 800 batches)\n",
      "Running average time till next event prediction loss: 0.36266068439930677 (MAE over last 800 batches)\n",
      "Running average (complete) remaining runtime prediction loss: 0.5533839557692408 (MAE over last 800 batches)\n",
      "------------------------------------------------------------\n"
     ]
    },
    {
     "name": "stderr",
     "output_type": "stream",
     "text": [
      "Batch calculation at epoch 0.: 2401it [06:18,  9.04it/s]"
     ]
    },
    {
     "name": "stdout",
     "output_type": "stream",
     "text": [
      "------------------------------------------------------------\n",
      "Epoch 0, batch 2399:\n",
      "Average original gradient norm: 1.5623082675039768 (over last 800 batches)\n",
      "Average clipped gradient norm: 1.5448849649727345 (over last 800 batches)\n",
      "Running average global loss: 1.441244821548462 (over last 800 batches)\n",
      "Running average activity prediction loss: 0.5414348497986794 (Cross Entropy over last 800 batches)\n",
      "Running average time till next event prediction loss: 0.35482262019068 (MAE over last 800 batches)\n",
      "Running average (complete) remaining runtime prediction loss: 0.5449873534217476 (MAE over last 800 batches)\n",
      "------------------------------------------------------------\n"
     ]
    },
    {
     "name": "stderr",
     "output_type": "stream",
     "text": [
      "Batch calculation at epoch 0.: 3201it [08:25,  8.52it/s]"
     ]
    },
    {
     "name": "stdout",
     "output_type": "stream",
     "text": [
      "------------------------------------------------------------\n",
      "Epoch 0, batch 3199:\n",
      "Average original gradient norm: 1.541823955476284 (over last 800 batches)\n",
      "Average clipped gradient norm: 1.529744007587433 (over last 800 batches)\n",
      "Running average global loss: 1.401778138577938 (over last 800 batches)\n",
      "Running average activity prediction loss: 0.5156050592660903 (Cross Entropy over last 800 batches)\n",
      "Running average time till next event prediction loss: 0.34765150837600234 (MAE over last 800 batches)\n",
      "Running average (complete) remaining runtime prediction loss: 0.5385215683653951 (MAE over last 800 batches)\n",
      "------------------------------------------------------------\n"
     ]
    },
    {
     "name": "stderr",
     "output_type": "stream",
     "text": [
      "Batch calculation at epoch 0.: 4000it [10:22,  4.79it/s]"
     ]
    },
    {
     "name": "stdout",
     "output_type": "stream",
     "text": [
      "------------------------------------------------------------\n",
      "Epoch 0, batch 3999:\n",
      "Average original gradient norm: 1.5738806761801243 (over last 800 batches)\n",
      "Average clipped gradient norm: 1.555021940767765 (over last 800 batches)\n",
      "Running average global loss: 1.3851275968551635 (over last 800 batches)\n",
      "Running average activity prediction loss: 0.5050730527192354 (Cross Entropy over last 800 batches)\n",
      "Running average time till next event prediction loss: 0.34569904863834383 (MAE over last 800 batches)\n",
      "Running average (complete) remaining runtime prediction loss: 0.5343554970994592 (MAE over last 800 batches)\n",
      "------------------------------------------------------------\n"
     ]
    },
    {
     "name": "stderr",
     "output_type": "stream",
     "text": [
      "Batch calculation at epoch 0.: 4295it [11:04,  6.47it/s]\n"
     ]
    },
    {
     "name": "stdout",
     "output_type": "stream",
     "text": [
      "=======================================\n",
      "End of epoch 0\n",
      "=======================================\n",
      "Running average global loss: 1.3754007503390313 (over last 800 batches)\n",
      "Running average activity prediction loss: 0.498780647367239 (Cross Entropy over last 800 batches)\n",
      "Running average time till next event prediction loss: 0.3436257676780224 (MAE over last 800 batches)\n",
      "Running average (complete) remaining runtime prediction loss: 0.5329943349584937 (MAE over last 800 batches)\n"
     ]
    },
    {
     "name": "stderr",
     "output_type": "stream",
     "text": [
      "Validation batch calculation: 20it [00:55,  2.77s/it]\n"
     ]
    },
    {
     "name": "stdout",
     "output_type": "stream",
     "text": [
      "Avg MAE TTNE prediction validation set: 0.4613620340824127 (standardized) ; 17019.448958333334 (minutes)'\n",
      "Avg 1-(normalized) DL distance acitivty suffix prediction validation set: 0.8345665335655212\n",
      "Percentage of suffixes predicted to END: too early - 0.29548001034266225 ; right moment - 0.6263097627344029 ; too late - 0.07821022692293485\n",
      "Too early instances - avg amount of events too early: 1.670222520828247\n",
      "Too late instances - avg amount of events too late: 4.596505165100098\n",
      "Avg absolute amount of events predicted too early / too late: 0.8530110716819763\n",
      "Avg MAE RRT prediction validation set: 0.6295080780982971 (standardized) ; 34213.3375 (minutes)'\n",
      " \n",
      "------------------------------------\n",
      "EPOCH 1:\n",
      "____________________________________\n"
     ]
    },
    {
     "name": "stderr",
     "output_type": "stream",
     "text": [
      "Batch calculation at epoch 1.: 801it [02:22,  8.87it/s]"
     ]
    },
    {
     "name": "stdout",
     "output_type": "stream",
     "text": [
      "------------------------------------------------------------\n",
      "Epoch 1, batch 799:\n",
      "Average original gradient norm: 1.5535541648417712 (over last 800 batches)\n",
      "Average clipped gradient norm: 1.5374902947992086 (over last 800 batches)\n",
      "Running average global loss: 1.3668289722502232 (over last 800 batches)\n",
      "Running average activity prediction loss: 0.49377460055053235 (Cross Entropy over last 800 batches)\n",
      "Running average time till next event prediction loss: 0.3406575732305646 (MAE over last 800 batches)\n",
      "Running average (complete) remaining runtime prediction loss: 0.532396798580885 (MAE over last 800 batches)\n",
      "------------------------------------------------------------\n"
     ]
    },
    {
     "name": "stderr",
     "output_type": "stream",
     "text": [
      "Batch calculation at epoch 1.: 1601it [04:59,  6.27it/s]"
     ]
    },
    {
     "name": "stdout",
     "output_type": "stream",
     "text": [
      "------------------------------------------------------------\n",
      "Epoch 1, batch 1599:\n",
      "Average original gradient norm: 1.5645971766859292 (over last 800 batches)\n",
      "Average clipped gradient norm: 1.5437416145950555 (over last 800 batches)\n",
      "Running average global loss: 1.3553135246038437 (over last 800 batches)\n",
      "Running average activity prediction loss: 0.4889002810791135 (Cross Entropy over last 800 batches)\n",
      "Running average time till next event prediction loss: 0.33894191395491363 (MAE over last 800 batches)\n",
      "Running average (complete) remaining runtime prediction loss: 0.527471325211227 (MAE over last 800 batches)\n",
      "------------------------------------------------------------\n"
     ]
    },
    {
     "name": "stderr",
     "output_type": "stream",
     "text": [
      "Batch calculation at epoch 1.: 2400it [07:35,  4.10it/s]"
     ]
    },
    {
     "name": "stdout",
     "output_type": "stream",
     "text": [
      "------------------------------------------------------------\n",
      "Epoch 1, batch 2399:\n",
      "Average original gradient norm: 1.5600867868214845 (over last 800 batches)\n",
      "Average clipped gradient norm: 1.5426087642461062 (over last 800 batches)\n",
      "Running average global loss: 1.3453760243952275 (over last 800 batches)\n",
      "Running average activity prediction loss: 0.4815690859407187 (Cross Entropy over last 800 batches)\n",
      "Running average time till next event prediction loss: 0.3370318101346493 (MAE over last 800 batches)\n",
      "Running average (complete) remaining runtime prediction loss: 0.5267751293629408 (MAE over last 800 batches)\n",
      "------------------------------------------------------------\n"
     ]
    },
    {
     "name": "stderr",
     "output_type": "stream",
     "text": [
      "Batch calculation at epoch 1.: 3200it [10:53,  3.55it/s]"
     ]
    },
    {
     "name": "stdout",
     "output_type": "stream",
     "text": [
      "------------------------------------------------------------\n",
      "Epoch 1, batch 3199:\n",
      "Average original gradient norm: 1.54720589004457 (over last 800 batches)\n",
      "Average clipped gradient norm: 1.5346363731473684 (over last 800 batches)\n",
      "Running average global loss: 1.342842847406864 (over last 800 batches)\n",
      "Running average activity prediction loss: 0.4809115260839462 (Cross Entropy over last 800 batches)\n",
      "Running average time till next event prediction loss: 0.33578176755458117 (MAE over last 800 batches)\n",
      "Running average (complete) remaining runtime prediction loss: 0.5261495544016361 (MAE over last 800 batches)\n",
      "------------------------------------------------------------\n"
     ]
    },
    {
     "name": "stderr",
     "output_type": "stream",
     "text": [
      "Batch calculation at epoch 1.: 4001it [13:41,  6.78it/s]"
     ]
    },
    {
     "name": "stdout",
     "output_type": "stream",
     "text": [
      "------------------------------------------------------------\n",
      "Epoch 1, batch 3999:\n",
      "Average original gradient norm: 1.5585028809309005 (over last 800 batches)\n",
      "Average clipped gradient norm: 1.5449851697683334 (over last 800 batches)\n",
      "Running average global loss: 1.3361620931327343 (over last 800 batches)\n",
      "Running average activity prediction loss: 0.4766979631781578 (Cross Entropy over last 800 batches)\n",
      "Running average time till next event prediction loss: 0.33444554878398775 (MAE over last 800 batches)\n",
      "Running average (complete) remaining runtime prediction loss: 0.5250185810029506 (MAE over last 800 batches)\n",
      "------------------------------------------------------------\n"
     ]
    },
    {
     "name": "stderr",
     "output_type": "stream",
     "text": [
      "Batch calculation at epoch 1.: 4295it [14:35,  4.91it/s]\n"
     ]
    },
    {
     "name": "stdout",
     "output_type": "stream",
     "text": [
      "=======================================\n",
      "End of epoch 1\n",
      "=======================================\n",
      "Running average global loss: 1.3346516667306423 (over last 800 batches)\n",
      "Running average activity prediction loss: 0.4759024881199002 (Cross Entropy over last 800 batches)\n",
      "Running average time till next event prediction loss: 0.3335551897250116 (MAE over last 800 batches)\n",
      "Running average (complete) remaining runtime prediction loss: 0.5251939887553454 (MAE over last 800 batches)\n"
     ]
    },
    {
     "name": "stderr",
     "output_type": "stream",
     "text": [
      "Validation batch calculation: 20it [01:05,  3.29s/it]\n"
     ]
    },
    {
     "name": "stdout",
     "output_type": "stream",
     "text": [
      "Avg MAE TTNE prediction validation set: 0.4702722728252411 (standardized) ; 17293.935416666667 (minutes)'\n",
      "Avg 1-(normalized) DL distance acitivty suffix prediction validation set: 0.8364999294281006\n",
      "Percentage of suffixes predicted to END: too early - 0.2952460691727101 ; right moment - 0.6279350382309122 ; too late - 0.0768188925963776\n",
      "Too early instances - avg amount of events too early: 1.6658326387405396\n",
      "Too late instances - avg amount of events too late: 4.30133056640625\n",
      "Avg absolute amount of events predicted too early / too late: 0.822253942489624\n",
      "Avg MAE RRT prediction validation set: 0.6144123077392578 (standardized) ; 33473.652083333334 (minutes)'\n",
      " \n",
      "------------------------------------\n",
      "EPOCH 2:\n",
      "____________________________________\n"
     ]
    },
    {
     "name": "stderr",
     "output_type": "stream",
     "text": [
      "Batch calculation at epoch 2.: 800it [02:26,  6.58it/s]"
     ]
    },
    {
     "name": "stdout",
     "output_type": "stream",
     "text": [
      "------------------------------------------------------------\n",
      "Epoch 2, batch 799:\n",
      "Average original gradient norm: 1.5650145702809095 (over last 800 batches)\n",
      "Average clipped gradient norm: 1.547191935107112 (over last 800 batches)\n",
      "Running average global loss: 1.3239458283782006 (over last 800 batches)\n",
      "Running average activity prediction loss: 0.4704575689136982 (Cross Entropy over last 800 batches)\n",
      "Running average time till next event prediction loss: 0.33192294266074895 (MAE over last 800 batches)\n",
      "Running average (complete) remaining runtime prediction loss: 0.5215653139352798 (MAE over last 800 batches)\n",
      "------------------------------------------------------------\n"
     ]
    },
    {
     "name": "stderr",
     "output_type": "stream",
     "text": [
      "Batch calculation at epoch 2.: 1601it [04:41,  5.83it/s]"
     ]
    },
    {
     "name": "stdout",
     "output_type": "stream",
     "text": [
      "------------------------------------------------------------\n",
      "Epoch 2, batch 1599:\n",
      "Average original gradient norm: 1.5814803594350815 (over last 800 batches)\n",
      "Average clipped gradient norm: 1.559339960962534 (over last 800 batches)\n",
      "Running average global loss: 1.324562935233116 (over last 800 batches)\n",
      "Running average activity prediction loss: 0.46848116513341664 (Cross Entropy over last 800 batches)\n",
      "Running average time till next event prediction loss: 0.33183684416115283 (MAE over last 800 batches)\n",
      "Running average (complete) remaining runtime prediction loss: 0.5242449235171079 (MAE over last 800 batches)\n",
      "------------------------------------------------------------\n"
     ]
    },
    {
     "name": "stderr",
     "output_type": "stream",
     "text": [
      "Batch calculation at epoch 2.: 2400it [06:59,  4.15it/s]"
     ]
    },
    {
     "name": "stdout",
     "output_type": "stream",
     "text": [
      "------------------------------------------------------------\n",
      "Epoch 2, batch 2399:\n",
      "Average original gradient norm: 1.5895113198459148 (over last 800 batches)\n",
      "Average clipped gradient norm: 1.5643548913300038 (over last 800 batches)\n",
      "Running average global loss: 1.3120649673044682 (over last 800 batches)\n",
      "Running average activity prediction loss: 0.4627345373854041 (Cross Entropy over last 800 batches)\n",
      "Running average time till next event prediction loss: 0.3285680753737688 (MAE over last 800 batches)\n",
      "Running average (complete) remaining runtime prediction loss: 0.5207623540237546 (MAE over last 800 batches)\n",
      "------------------------------------------------------------\n"
     ]
    },
    {
     "name": "stderr",
     "output_type": "stream",
     "text": [
      "Batch calculation at epoch 2.: 3200it [09:53,  3.68it/s]"
     ]
    },
    {
     "name": "stdout",
     "output_type": "stream",
     "text": [
      "------------------------------------------------------------\n",
      "Epoch 2, batch 3199:\n",
      "Average original gradient norm: 1.5969272371381522 (over last 800 batches)\n",
      "Average clipped gradient norm: 1.573205668106675 (over last 800 batches)\n",
      "Running average global loss: 1.3131282050907611 (over last 800 batches)\n",
      "Running average activity prediction loss: 0.4657503753900528 (Cross Entropy over last 800 batches)\n",
      "Running average time till next event prediction loss: 0.3292136600613594 (MAE over last 800 batches)\n",
      "Running average (complete) remaining runtime prediction loss: 0.5181641697138548 (MAE over last 800 batches)\n",
      "------------------------------------------------------------\n"
     ]
    },
    {
     "name": "stderr",
     "output_type": "stream",
     "text": [
      "Batch calculation at epoch 2.: 4001it [12:19,  7.24it/s]"
     ]
    },
    {
     "name": "stdout",
     "output_type": "stream",
     "text": [
      "------------------------------------------------------------\n",
      "Epoch 2, batch 3999:\n",
      "Average original gradient norm: 1.5834084697812796 (over last 800 batches)\n",
      "Average clipped gradient norm: 1.5632834526151418 (over last 800 batches)\n",
      "Running average global loss: 1.3084286975860595 (over last 800 batches)\n",
      "Running average activity prediction loss: 0.46283099226653573 (Cross Entropy over last 800 batches)\n",
      "Running average time till next event prediction loss: 0.3276123383641243 (MAE over last 800 batches)\n",
      "Running average (complete) remaining runtime prediction loss: 0.5179853663221001 (MAE over last 800 batches)\n",
      "------------------------------------------------------------\n"
     ]
    },
    {
     "name": "stderr",
     "output_type": "stream",
     "text": [
      "Batch calculation at epoch 2.: 4295it [12:52,  5.56it/s]\n"
     ]
    },
    {
     "name": "stdout",
     "output_type": "stream",
     "text": [
      "=======================================\n",
      "End of epoch 2\n",
      "=======================================\n",
      "Running average global loss: 1.3063547319173814 (over last 800 batches)\n",
      "Running average activity prediction loss: 0.46171253625303504 (Cross Entropy over last 800 batches)\n",
      "Running average time till next event prediction loss: 0.3276733107492328 (MAE over last 800 batches)\n",
      "Running average (complete) remaining runtime prediction loss: 0.5169688839837909 (MAE over last 800 batches)\n"
     ]
    },
    {
     "name": "stderr",
     "output_type": "stream",
     "text": [
      "Validation batch calculation: 20it [00:44,  2.23s/it]\n"
     ]
    },
    {
     "name": "stdout",
     "output_type": "stream",
     "text": [
      "Avg MAE TTNE prediction validation set: 0.4599764347076416 (standardized) ; 16963.733333333334 (minutes)'\n",
      "Avg 1-(normalized) DL distance acitivty suffix prediction validation set: 0.8362343311309814\n",
      "Percentage of suffixes predicted to END: too early - 0.29261115283746014 ; right moment - 0.6270854624031914 ; too late - 0.08030338475934841\n",
      "Too early instances - avg amount of events too early: 1.6486430168151855\n",
      "Too late instances - avg amount of events too late: 4.236737251281738\n",
      "Avg absolute amount of events predicted too early / too late: 0.8226356506347656\n",
      "Avg MAE RRT prediction validation set: 0.6196515560150146 (standardized) ; 33785.45416666667 (minutes)'\n",
      " \n",
      "------------------------------------\n",
      "EPOCH 3:\n",
      "____________________________________\n"
     ]
    },
    {
     "name": "stderr",
     "output_type": "stream",
     "text": [
      "Batch calculation at epoch 3.: 800it [02:27,  9.44it/s]"
     ]
    },
    {
     "name": "stdout",
     "output_type": "stream",
     "text": [
      "------------------------------------------------------------\n",
      "Epoch 3, batch 799:\n",
      "Average original gradient norm: 1.6463099154829979 (over last 800 batches)\n",
      "Average clipped gradient norm: 1.6113658985495567 (over last 800 batches)\n",
      "Running average global loss: 1.305556611418724 (over last 800 batches)\n",
      "Running average activity prediction loss: 0.46235780101269486 (Cross Entropy over last 800 batches)\n",
      "Running average time till next event prediction loss: 0.32593465231359003 (MAE over last 800 batches)\n",
      "Running average (complete) remaining runtime prediction loss: 0.5172641569748521 (MAE over last 800 batches)\n",
      "------------------------------------------------------------\n"
     ]
    },
    {
     "name": "stderr",
     "output_type": "stream",
     "text": [
      "Batch calculation at epoch 3.: 1601it [04:00, 10.19it/s]"
     ]
    },
    {
     "name": "stdout",
     "output_type": "stream",
     "text": [
      "------------------------------------------------------------\n",
      "Epoch 3, batch 1599:\n",
      "Average original gradient norm: 1.620980103239417 (over last 800 batches)\n",
      "Average clipped gradient norm: 1.5912406354397535 (over last 800 batches)\n",
      "Running average global loss: 1.301051652878523 (over last 800 batches)\n",
      "Running average activity prediction loss: 0.45804021060466765 (Cross Entropy over last 800 batches)\n",
      "Running average time till next event prediction loss: 0.3262485620751977 (MAE over last 800 batches)\n",
      "Running average (complete) remaining runtime prediction loss: 0.5167628823965787 (MAE over last 800 batches)\n",
      "------------------------------------------------------------\n"
     ]
    },
    {
     "name": "stderr",
     "output_type": "stream",
     "text": [
      "Batch calculation at epoch 3.: 2401it [05:33,  7.91it/s]"
     ]
    },
    {
     "name": "stdout",
     "output_type": "stream",
     "text": [
      "------------------------------------------------------------\n",
      "Epoch 3, batch 2399:\n",
      "Average original gradient norm: 1.5803510081022978 (over last 800 batches)\n",
      "Average clipped gradient norm: 1.5590015725046396 (over last 800 batches)\n",
      "Running average global loss: 1.291231482475996 (over last 800 batches)\n",
      "Running average activity prediction loss: 0.45254145476967095 (Cross Entropy over last 800 batches)\n",
      "Running average time till next event prediction loss: 0.32429993998259304 (MAE over last 800 batches)\n",
      "Running average (complete) remaining runtime prediction loss: 0.5143900872766971 (MAE over last 800 batches)\n",
      "------------------------------------------------------------\n"
     ]
    },
    {
     "name": "stderr",
     "output_type": "stream",
     "text": [
      "Batch calculation at epoch 3.: 3200it [07:50,  3.51it/s]"
     ]
    },
    {
     "name": "stdout",
     "output_type": "stream",
     "text": [
      "------------------------------------------------------------\n",
      "Epoch 3, batch 3199:\n",
      "Average original gradient norm: 1.5974525737017393 (over last 800 batches)\n",
      "Average clipped gradient norm: 1.5680771828442812 (over last 800 batches)\n",
      "Running average global loss: 1.2913123512268065 (over last 800 batches)\n",
      "Running average activity prediction loss: 0.45229627795517446 (Cross Entropy over last 800 batches)\n",
      "Running average time till next event prediction loss: 0.32397869680076835 (MAE over last 800 batches)\n",
      "Running average (complete) remaining runtime prediction loss: 0.5150373763591051 (MAE over last 800 batches)\n",
      "------------------------------------------------------------\n"
     ]
    },
    {
     "name": "stderr",
     "output_type": "stream",
     "text": [
      "Batch calculation at epoch 3.: 4001it [09:18,  8.99it/s]"
     ]
    },
    {
     "name": "stdout",
     "output_type": "stream",
     "text": [
      "------------------------------------------------------------\n",
      "Epoch 3, batch 3999:\n",
      "Average original gradient norm: 1.6531716682761908 (over last 800 batches)\n",
      "Average clipped gradient norm: 1.6178146304935217 (over last 800 batches)\n",
      "Running average global loss: 1.2949443808197976 (over last 800 batches)\n",
      "Running average activity prediction loss: 0.4540411473065615 (Cross Entropy over last 800 batches)\n",
      "Running average time till next event prediction loss: 0.32475240133702754 (MAE over last 800 batches)\n",
      "Running average (complete) remaining runtime prediction loss: 0.5161508298665285 (MAE over last 800 batches)\n",
      "------------------------------------------------------------\n"
     ]
    },
    {
     "name": "stderr",
     "output_type": "stream",
     "text": [
      "Batch calculation at epoch 3.: 4295it [09:54,  7.23it/s]\n"
     ]
    },
    {
     "name": "stdout",
     "output_type": "stream",
     "text": [
      "=======================================\n",
      "End of epoch 3\n",
      "=======================================\n",
      "Running average global loss: 1.2956698662042618 (over last 800 batches)\n",
      "Running average activity prediction loss: 0.45512674253433943 (Cross Entropy over last 800 batches)\n",
      "Running average time till next event prediction loss: 0.324180261939764 (MAE over last 800 batches)\n",
      "Running average (complete) remaining runtime prediction loss: 0.5163628609851003 (MAE over last 800 batches)\n"
     ]
    },
    {
     "name": "stderr",
     "output_type": "stream",
     "text": [
      "Validation batch calculation: 20it [00:38,  1.94s/it]\n"
     ]
    },
    {
     "name": "stdout",
     "output_type": "stream",
     "text": [
      "Avg MAE TTNE prediction validation set: 0.47195032238960266 (standardized) ; 17399.071875 (minutes)'\n",
      "Avg 1-(normalized) DL distance acitivty suffix prediction validation set: 0.8359553813934326\n",
      "Percentage of suffixes predicted to END: too early - 0.2908750631025524 ; right moment - 0.6279350382309122 ; too late - 0.08118989866653534\n",
      "Too early instances - avg amount of events too early: 1.6460802555084229\n",
      "Too late instances - avg amount of events too late: 4.459205150604248\n",
      "Avg absolute amount of events predicted too early / too late: 0.8408461213111877\n",
      "Avg MAE RRT prediction validation set: 0.6168333888053894 (standardized) ; 33643.37291666667 (minutes)'\n",
      " \n",
      "------------------------------------\n",
      "EPOCH 4:\n",
      "____________________________________\n"
     ]
    },
    {
     "name": "stderr",
     "output_type": "stream",
     "text": [
      "Batch calculation at epoch 4.: 800it [02:09,  6.16it/s]"
     ]
    },
    {
     "name": "stdout",
     "output_type": "stream",
     "text": [
      "------------------------------------------------------------\n",
      "Epoch 4, batch 799:\n",
      "Average original gradient norm: 1.6161484993994235 (over last 800 batches)\n",
      "Average clipped gradient norm: 1.586448327600956 (over last 800 batches)\n",
      "Running average global loss: 1.2887110927700995 (over last 800 batches)\n",
      "Running average activity prediction loss: 0.45131040915846826 (Cross Entropy over last 800 batches)\n",
      "Running average time till next event prediction loss: 0.322427763864398 (MAE over last 800 batches)\n",
      "Running average (complete) remaining runtime prediction loss: 0.5149729221314192 (MAE over last 800 batches)\n",
      "------------------------------------------------------------\n"
     ]
    },
    {
     "name": "stderr",
     "output_type": "stream",
     "text": [
      "Batch calculation at epoch 4.: 1602it [03:45, 10.10it/s]"
     ]
    },
    {
     "name": "stdout",
     "output_type": "stream",
     "text": [
      "------------------------------------------------------------\n",
      "Epoch 4, batch 1599:\n",
      "Average original gradient norm: 1.576622433066368 (over last 800 batches)\n",
      "Average clipped gradient norm: 1.5608626860380173 (over last 800 batches)\n",
      "Running average global loss: 1.2866236600279808 (over last 800 batches)\n",
      "Running average activity prediction loss: 0.45219780907034873 (Cross Entropy over last 800 batches)\n",
      "Running average time till next event prediction loss: 0.3220016979426146 (MAE over last 800 batches)\n",
      "Running average (complete) remaining runtime prediction loss: 0.5124241555854678 (MAE over last 800 batches)\n",
      "------------------------------------------------------------\n"
     ]
    },
    {
     "name": "stderr",
     "output_type": "stream",
     "text": [
      "Batch calculation at epoch 4.: 2401it [05:26,  8.16it/s]"
     ]
    },
    {
     "name": "stdout",
     "output_type": "stream",
     "text": [
      "------------------------------------------------------------\n",
      "Epoch 4, batch 2399:\n",
      "Average original gradient norm: 1.6469145353138446 (over last 800 batches)\n",
      "Average clipped gradient norm: 1.6130620093643666 (over last 800 batches)\n",
      "Running average global loss: 1.2829807424545288 (over last 800 batches)\n",
      "Running average activity prediction loss: 0.4487996727600694 (Cross Entropy over last 800 batches)\n",
      "Running average time till next event prediction loss: 0.32119265012443066 (MAE over last 800 batches)\n",
      "Running average (complete) remaining runtime prediction loss: 0.5129884198307991 (MAE over last 800 batches)\n",
      "------------------------------------------------------------\n"
     ]
    },
    {
     "name": "stderr",
     "output_type": "stream",
     "text": [
      "Batch calculation at epoch 4.: 3201it [07:21,  9.16it/s]"
     ]
    },
    {
     "name": "stdout",
     "output_type": "stream",
     "text": [
      "------------------------------------------------------------\n",
      "Epoch 4, batch 3199:\n",
      "Average original gradient norm: 1.6247085673362016 (over last 800 batches)\n",
      "Average clipped gradient norm: 1.5970990539342165 (over last 800 batches)\n",
      "Running average global loss: 1.2817492923140525 (over last 800 batches)\n",
      "Running average activity prediction loss: 0.4485032358393073 (Cross Entropy over last 800 batches)\n",
      "Running average time till next event prediction loss: 0.32064797446131704 (MAE over last 800 batches)\n",
      "Running average (complete) remaining runtime prediction loss: 0.5125980805978179 (MAE over last 800 batches)\n",
      "------------------------------------------------------------\n"
     ]
    },
    {
     "name": "stderr",
     "output_type": "stream",
     "text": [
      "Batch calculation at epoch 4.: 4001it [09:22,  7.96it/s]"
     ]
    },
    {
     "name": "stdout",
     "output_type": "stream",
     "text": [
      "------------------------------------------------------------\n",
      "Epoch 4, batch 3999:\n",
      "Average original gradient norm: 1.5986212170869112 (over last 800 batches)\n",
      "Average clipped gradient norm: 1.5740332693606616 (over last 800 batches)\n",
      "Running average global loss: 1.285548609495163 (over last 800 batches)\n",
      "Running average activity prediction loss: 0.447862242795527 (Cross Entropy over last 800 batches)\n",
      "Running average time till next event prediction loss: 0.3229055192321539 (MAE over last 800 batches)\n",
      "Running average (complete) remaining runtime prediction loss: 0.5147808492928744 (MAE over last 800 batches)\n",
      "------------------------------------------------------------\n"
     ]
    },
    {
     "name": "stderr",
     "output_type": "stream",
     "text": [
      "Batch calculation at epoch 4.: 4295it [09:57,  7.18it/s]\n"
     ]
    },
    {
     "name": "stdout",
     "output_type": "stream",
     "text": [
      "=======================================\n",
      "End of epoch 4\n",
      "=======================================\n",
      "Running average global loss: 1.281176668331027 (over last 800 batches)\n",
      "Running average activity prediction loss: 0.4476068776845932 (Cross Entropy over last 800 batches)\n",
      "Running average time till next event prediction loss: 0.3211232489347458 (MAE over last 800 batches)\n",
      "Running average (complete) remaining runtime prediction loss: 0.5124465443566442 (MAE over last 800 batches)\n"
     ]
    },
    {
     "name": "stderr",
     "output_type": "stream",
     "text": [
      "Validation batch calculation: 20it [00:40,  2.04s/it]\n"
     ]
    },
    {
     "name": "stdout",
     "output_type": "stream",
     "text": [
      "Avg MAE TTNE prediction validation set: 0.46797680854797363 (standardized) ; 17194.865625 (minutes)'\n",
      "Avg 1-(normalized) DL distance acitivty suffix prediction validation set: 0.8384734392166138\n",
      "Percentage of suffixes predicted to END: too early - 0.29344841597202553 ; right moment - 0.6293509979437802 ; too late - 0.0772005860841942\n",
      "Too early instances - avg amount of events too early: 1.6642050743103027\n",
      "Too late instances - avg amount of events too late: 3.8414673805236816\n",
      "Avg absolute amount of events predicted too early / too late: 0.7849218845367432\n",
      "Avg MAE RRT prediction validation set: 0.6140468716621399 (standardized) ; 33476.90416666667 (minutes)'\n",
      " \n",
      "------------------------------------\n",
      "EPOCH 5:\n",
      "____________________________________\n"
     ]
    },
    {
     "name": "stderr",
     "output_type": "stream",
     "text": [
      "Batch calculation at epoch 5.: 801it [02:08,  7.82it/s]"
     ]
    },
    {
     "name": "stdout",
     "output_type": "stream",
     "text": [
      "------------------------------------------------------------\n",
      "Epoch 5, batch 799:\n",
      "Average original gradient norm: 1.6124725725501776 (over last 800 batches)\n",
      "Average clipped gradient norm: 1.5760819054394961 (over last 800 batches)\n",
      "Running average global loss: 1.2777085915207862 (over last 800 batches)\n",
      "Running average activity prediction loss: 0.44622183732688425 (Cross Entropy over last 800 batches)\n",
      "Running average time till next event prediction loss: 0.31990522745996713 (MAE over last 800 batches)\n",
      "Running average (complete) remaining runtime prediction loss: 0.5115815250575543 (MAE over last 800 batches)\n",
      "------------------------------------------------------------\n"
     ]
    },
    {
     "name": "stderr",
     "output_type": "stream",
     "text": [
      "Batch calculation at epoch 5.: 1601it [04:00,  8.08it/s]"
     ]
    },
    {
     "name": "stdout",
     "output_type": "stream",
     "text": [
      "------------------------------------------------------------\n",
      "Epoch 5, batch 1599:\n",
      "Average original gradient norm: 1.6566948570311069 (over last 800 batches)\n",
      "Average clipped gradient norm: 1.624044253528118 (over last 800 batches)\n",
      "Running average global loss: 1.280623676329851 (over last 800 batches)\n",
      "Running average activity prediction loss: 0.44492877285927535 (Cross Entropy over last 800 batches)\n",
      "Running average time till next event prediction loss: 0.3216957548260689 (MAE over last 800 batches)\n",
      "Running average (complete) remaining runtime prediction loss: 0.5139991509541869 (MAE over last 800 batches)\n",
      "------------------------------------------------------------\n"
     ]
    },
    {
     "name": "stderr",
     "output_type": "stream",
     "text": [
      "Batch calculation at epoch 5.: 2401it [06:02,  6.41it/s]"
     ]
    },
    {
     "name": "stdout",
     "output_type": "stream",
     "text": [
      "------------------------------------------------------------\n",
      "Epoch 5, batch 2399:\n",
      "Average original gradient norm: 1.6590890938043594 (over last 800 batches)\n",
      "Average clipped gradient norm: 1.6220454984903336 (over last 800 batches)\n",
      "Running average global loss: 1.2721140843629837 (over last 800 batches)\n",
      "Running average activity prediction loss: 0.44598493341356515 (Cross Entropy over last 800 batches)\n",
      "Running average time till next event prediction loss: 0.31745222080498936 (MAE over last 800 batches)\n",
      "Running average (complete) remaining runtime prediction loss: 0.5086769291386009 (MAE over last 800 batches)\n",
      "------------------------------------------------------------\n"
     ]
    },
    {
     "name": "stderr",
     "output_type": "stream",
     "text": [
      "Batch calculation at epoch 5.: 3201it [07:51,  5.65it/s]"
     ]
    },
    {
     "name": "stdout",
     "output_type": "stream",
     "text": [
      "------------------------------------------------------------\n",
      "Epoch 5, batch 3199:\n",
      "Average original gradient norm: 1.6224085170030593 (over last 800 batches)\n",
      "Average clipped gradient norm: 1.5918851129710674 (over last 800 batches)\n",
      "Running average global loss: 1.2653625356405973 (over last 800 batches)\n",
      "Running average activity prediction loss: 0.43710388489067553 (Cross Entropy over last 800 batches)\n",
      "Running average time till next event prediction loss: 0.3180899867229164 (MAE over last 800 batches)\n",
      "Running average (complete) remaining runtime prediction loss: 0.5101686653867364 (MAE over last 800 batches)\n",
      "------------------------------------------------------------\n"
     ]
    },
    {
     "name": "stderr",
     "output_type": "stream",
     "text": [
      "Batch calculation at epoch 5.: 4001it [09:45,  6.94it/s]"
     ]
    },
    {
     "name": "stdout",
     "output_type": "stream",
     "text": [
      "------------------------------------------------------------\n",
      "Epoch 5, batch 3999:\n",
      "Average original gradient norm: 1.6594450666755438 (over last 800 batches)\n",
      "Average clipped gradient norm: 1.624636644795537 (over last 800 batches)\n",
      "Running average global loss: 1.2774818846583367 (over last 800 batches)\n",
      "Running average activity prediction loss: 0.4480333184450865 (Cross Entropy over last 800 batches)\n",
      "Running average time till next event prediction loss: 0.31916827216744426 (MAE over last 800 batches)\n",
      "Running average (complete) remaining runtime prediction loss: 0.5102802922949194 (MAE over last 800 batches)\n",
      "------------------------------------------------------------\n"
     ]
    },
    {
     "name": "stderr",
     "output_type": "stream",
     "text": [
      "Batch calculation at epoch 5.: 4295it [10:18,  6.94it/s]\n"
     ]
    },
    {
     "name": "stdout",
     "output_type": "stream",
     "text": [
      "=======================================\n",
      "End of epoch 5\n",
      "=======================================\n",
      "Running average global loss: 1.2740279471874236 (over last 800 batches)\n",
      "Running average activity prediction loss: 0.4456773778051138 (Cross Entropy over last 800 batches)\n",
      "Running average time till next event prediction loss: 0.31893055237829687 (MAE over last 800 batches)\n",
      "Running average (complete) remaining runtime prediction loss: 0.5094200152531266 (MAE over last 800 batches)\n"
     ]
    },
    {
     "name": "stderr",
     "output_type": "stream",
     "text": [
      "Validation batch calculation: 20it [00:49,  2.49s/it]\n"
     ]
    },
    {
     "name": "stdout",
     "output_type": "stream",
     "text": [
      "Avg MAE TTNE prediction validation set: 0.4801843464374542 (standardized) ; 17641.975 (minutes)'\n",
      "Avg 1-(normalized) DL distance acitivty suffix prediction validation set: 0.8365222811698914\n",
      "Percentage of suffixes predicted to END: too early - 0.2905056823078912 ; right moment - 0.6273932797320758 ; too late - 0.082101037960033\n",
      "Too early instances - avg amount of events too early: 1.6430025100708008\n",
      "Too late instances - avg amount of events too late: 4.26604700088501\n",
      "Avg absolute amount of events predicted too early / too late: 0.8275484442710876\n",
      "Avg MAE RRT prediction validation set: 0.6092560887336731 (standardized) ; 33240.71666666667 (minutes)'\n",
      " \n",
      "------------------------------------\n",
      "EPOCH 6:\n",
      "____________________________________\n"
     ]
    },
    {
     "name": "stderr",
     "output_type": "stream",
     "text": [
      "Batch calculation at epoch 6.: 801it [01:57,  5.97it/s]"
     ]
    },
    {
     "name": "stdout",
     "output_type": "stream",
     "text": [
      "------------------------------------------------------------\n",
      "Epoch 6, batch 799:\n",
      "Average original gradient norm: 1.6702290569245815 (over last 800 batches)\n",
      "Average clipped gradient norm: 1.623393298983574 (over last 800 batches)\n",
      "Running average global loss: 1.267172639966011 (over last 800 batches)\n",
      "Running average activity prediction loss: 0.44025542415678504 (Cross Entropy over last 800 batches)\n",
      "Running average time till next event prediction loss: 0.31813623420894144 (MAE over last 800 batches)\n",
      "Running average (complete) remaining runtime prediction loss: 0.5087809814512729 (MAE over last 800 batches)\n",
      "------------------------------------------------------------\n"
     ]
    },
    {
     "name": "stderr",
     "output_type": "stream",
     "text": [
      "Batch calculation at epoch 6.: 1601it [04:08,  7.28it/s]"
     ]
    },
    {
     "name": "stdout",
     "output_type": "stream",
     "text": [
      "------------------------------------------------------------\n",
      "Epoch 6, batch 1599:\n",
      "Average original gradient norm: 1.6311270608752966 (over last 800 batches)\n",
      "Average clipped gradient norm: 1.5980598858743906 (over last 800 batches)\n",
      "Running average global loss: 1.2685583405196668 (over last 800 batches)\n",
      "Running average activity prediction loss: 0.44373615093529223 (Cross Entropy over last 800 batches)\n",
      "Running average time till next event prediction loss: 0.3172526441887021 (MAE over last 800 batches)\n",
      "Running average (complete) remaining runtime prediction loss: 0.5075695450976491 (MAE over last 800 batches)\n",
      "------------------------------------------------------------\n"
     ]
    },
    {
     "name": "stderr",
     "output_type": "stream",
     "text": [
      "Batch calculation at epoch 6.: 2401it [06:31,  8.36it/s]"
     ]
    },
    {
     "name": "stdout",
     "output_type": "stream",
     "text": [
      "------------------------------------------------------------\n",
      "Epoch 6, batch 2399:\n",
      "Average original gradient norm: 1.6324614630639553 (over last 800 batches)\n",
      "Average clipped gradient norm: 1.5999376285076141 (over last 800 batches)\n",
      "Running average global loss: 1.2655039459466935 (over last 800 batches)\n",
      "Running average activity prediction loss: 0.43895487844944 (Cross Entropy over last 800 batches)\n",
      "Running average time till next event prediction loss: 0.31790185380727054 (MAE over last 800 batches)\n",
      "Running average (complete) remaining runtime prediction loss: 0.5086472125723958 (MAE over last 800 batches)\n",
      "------------------------------------------------------------\n"
     ]
    },
    {
     "name": "stderr",
     "output_type": "stream",
     "text": [
      "Batch calculation at epoch 6.: 3201it [09:13,  7.74it/s]"
     ]
    },
    {
     "name": "stdout",
     "output_type": "stream",
     "text": [
      "------------------------------------------------------------\n",
      "Epoch 6, batch 3199:\n",
      "Average original gradient norm: 1.5870459408313036 (over last 800 batches)\n",
      "Average clipped gradient norm: 1.5671586210280657 (over last 800 batches)\n",
      "Running average global loss: 1.2667374661564827 (over last 800 batches)\n",
      "Running average activity prediction loss: 0.44152230117470026 (Cross Entropy over last 800 batches)\n",
      "Running average time till next event prediction loss: 0.31678814632818103 (MAE over last 800 batches)\n",
      "Running average (complete) remaining runtime prediction loss: 0.5084270192310214 (MAE over last 800 batches)\n",
      "------------------------------------------------------------\n"
     ]
    },
    {
     "name": "stderr",
     "output_type": "stream",
     "text": [
      "Batch calculation at epoch 6.: 4000it [11:33,  3.37it/s]"
     ]
    },
    {
     "name": "stdout",
     "output_type": "stream",
     "text": [
      "------------------------------------------------------------\n",
      "Epoch 6, batch 3999:\n",
      "Average original gradient norm: 1.6977225445210933 (over last 800 batches)\n",
      "Average clipped gradient norm: 1.640233894586563 (over last 800 batches)\n",
      "Running average global loss: 1.2661251813173293 (over last 800 batches)\n",
      "Running average activity prediction loss: 0.4388606870919466 (Cross Entropy over last 800 batches)\n",
      "Running average time till next event prediction loss: 0.3172607259824872 (MAE over last 800 batches)\n",
      "Running average (complete) remaining runtime prediction loss: 0.510003768093884 (MAE over last 800 batches)\n",
      "------------------------------------------------------------\n"
     ]
    },
    {
     "name": "stderr",
     "output_type": "stream",
     "text": [
      "Batch calculation at epoch 6.: 4295it [12:12,  5.86it/s]\n"
     ]
    },
    {
     "name": "stdout",
     "output_type": "stream",
     "text": [
      "=======================================\n",
      "End of epoch 6\n",
      "=======================================\n",
      "Running average global loss: 1.2682101806998254 (over last 800 batches)\n",
      "Running average activity prediction loss: 0.4396785458549857 (Cross Entropy over last 800 batches)\n",
      "Running average time till next event prediction loss: 0.317429573610425 (MAE over last 800 batches)\n",
      "Running average (complete) remaining runtime prediction loss: 0.5111020614951849 (MAE over last 800 batches)\n"
     ]
    },
    {
     "name": "stderr",
     "output_type": "stream",
     "text": [
      "Validation batch calculation: 20it [00:58,  2.94s/it]\n"
     ]
    },
    {
     "name": "stdout",
     "output_type": "stream",
     "text": [
      "Avg MAE TTNE prediction validation set: 0.47103554010391235 (standardized) ; 17374.588541666668 (minutes)'\n",
      "Avg 1-(normalized) DL distance acitivty suffix prediction validation set: 0.8377524614334106\n",
      "Percentage of suffixes predicted to END: too early - 0.29277121784848 ; right moment - 0.62868611251339 ; too late - 0.07854266963812995\n",
      "Too early instances - avg amount of events too early: 1.6535452604293823\n",
      "Too late instances - avg amount of events too late: 4.148142337799072\n",
      "Avg absolute amount of events predicted too early / too late: 0.809916615486145\n",
      "Avg MAE RRT prediction validation set: 0.6074157357215881 (standardized) ; 33140.03958333333 (minutes)'\n",
      " \n",
      "------------------------------------\n",
      "EPOCH 7:\n",
      "____________________________________\n"
     ]
    },
    {
     "name": "stderr",
     "output_type": "stream",
     "text": [
      "Batch calculation at epoch 7.: 801it [02:20,  7.26it/s]"
     ]
    },
    {
     "name": "stdout",
     "output_type": "stream",
     "text": [
      "------------------------------------------------------------\n",
      "Epoch 7, batch 799:\n",
      "Average original gradient norm: 1.621658877953887 (over last 800 batches)\n",
      "Average clipped gradient norm: 1.5882604498416186 (over last 800 batches)\n",
      "Running average global loss: 1.2601214863359929 (over last 800 batches)\n",
      "Running average activity prediction loss: 0.4343616561964154 (Cross Entropy over last 800 batches)\n",
      "Running average time till next event prediction loss: 0.31648888856172563 (MAE over last 800 batches)\n",
      "Running average (complete) remaining runtime prediction loss: 0.5092709426954388 (MAE over last 800 batches)\n",
      "------------------------------------------------------------\n"
     ]
    },
    {
     "name": "stderr",
     "output_type": "stream",
     "text": [
      "Batch calculation at epoch 7.: 1600it [04:58,  4.62it/s]"
     ]
    },
    {
     "name": "stdout",
     "output_type": "stream",
     "text": [
      "------------------------------------------------------------\n",
      "Epoch 7, batch 1599:\n",
      "Average original gradient norm: 1.6281425987929106 (over last 800 batches)\n",
      "Average clipped gradient norm: 1.595491971001029 (over last 800 batches)\n",
      "Running average global loss: 1.2618438443541526 (over last 800 batches)\n",
      "Running average activity prediction loss: 0.43918664041906597 (Cross Entropy over last 800 batches)\n",
      "Running average time till next event prediction loss: 0.31601722972467544 (MAE over last 800 batches)\n",
      "Running average (complete) remaining runtime prediction loss: 0.5066399756073952 (MAE over last 800 batches)\n",
      "------------------------------------------------------------\n"
     ]
    },
    {
     "name": "stderr",
     "output_type": "stream",
     "text": [
      "Batch calculation at epoch 7.: 2401it [07:25,  3.76it/s]"
     ]
    },
    {
     "name": "stdout",
     "output_type": "stream",
     "text": [
      "------------------------------------------------------------\n",
      "Epoch 7, batch 2399:\n",
      "Average original gradient norm: 1.6414212313294412 (over last 800 batches)\n",
      "Average clipped gradient norm: 1.6089011612534523 (over last 800 batches)\n",
      "Running average global loss: 1.2607752795517444 (over last 800 batches)\n",
      "Running average activity prediction loss: 0.4391486145555973 (Cross Entropy over last 800 batches)\n",
      "Running average time till next event prediction loss: 0.31615814968943595 (MAE over last 800 batches)\n",
      "Running average (complete) remaining runtime prediction loss: 0.5054685134068131 (MAE over last 800 batches)\n",
      "------------------------------------------------------------\n"
     ]
    },
    {
     "name": "stderr",
     "output_type": "stream",
     "text": [
      "Batch calculation at epoch 7.: 3201it [10:00,  4.43it/s]"
     ]
    },
    {
     "name": "stdout",
     "output_type": "stream",
     "text": [
      "------------------------------------------------------------\n",
      "Epoch 7, batch 3199:\n",
      "Average original gradient norm: 1.6598244158178568 (over last 800 batches)\n",
      "Average clipped gradient norm: 1.6210100231319666 (over last 800 batches)\n",
      "Running average global loss: 1.2627768528461456 (over last 800 batches)\n",
      "Running average activity prediction loss: 0.43788248095661403 (Cross Entropy over last 800 batches)\n",
      "Running average time till next event prediction loss: 0.3157892360538244 (MAE over last 800 batches)\n",
      "Running average (complete) remaining runtime prediction loss: 0.5091051348298788 (MAE over last 800 batches)\n",
      "------------------------------------------------------------\n"
     ]
    },
    {
     "name": "stderr",
     "output_type": "stream",
     "text": [
      "Batch calculation at epoch 7.: 4001it [12:11,  7.31it/s]"
     ]
    },
    {
     "name": "stdout",
     "output_type": "stream",
     "text": [
      "------------------------------------------------------------\n",
      "Epoch 7, batch 3999:\n",
      "Average original gradient norm: 1.6297445987910033 (over last 800 batches)\n",
      "Average clipped gradient norm: 1.5946177668124437 (over last 800 batches)\n",
      "Running average global loss: 1.2551939542591573 (over last 800 batches)\n",
      "Running average activity prediction loss: 0.43518630679696796 (Cross Entropy over last 800 batches)\n",
      "Running average time till next event prediction loss: 0.3150041116029024 (MAE over last 800 batches)\n",
      "Running average (complete) remaining runtime prediction loss: 0.5050035368278623 (MAE over last 800 batches)\n",
      "------------------------------------------------------------\n"
     ]
    },
    {
     "name": "stderr",
     "output_type": "stream",
     "text": [
      "Batch calculation at epoch 7.: 4295it [12:58,  5.52it/s]\n"
     ]
    },
    {
     "name": "stdout",
     "output_type": "stream",
     "text": [
      "=======================================\n",
      "End of epoch 7\n",
      "=======================================\n",
      "Running average global loss: 1.2596918526291847 (over last 800 batches)\n",
      "Running average activity prediction loss: 0.437656911239028 (Cross Entropy over last 800 batches)\n",
      "Running average time till next event prediction loss: 0.31497481383383275 (MAE over last 800 batches)\n",
      "Running average (complete) remaining runtime prediction loss: 0.5070601306483149 (MAE over last 800 batches)\n"
     ]
    },
    {
     "name": "stderr",
     "output_type": "stream",
     "text": [
      "Validation batch calculation: 20it [01:06,  3.31s/it]\n"
     ]
    },
    {
     "name": "stdout",
     "output_type": "stream",
     "text": [
      "Avg MAE TTNE prediction validation set: 0.46452265977859497 (standardized) ; 17080.263541666667 (minutes)'\n",
      "Avg 1-(normalized) DL distance acitivty suffix prediction validation set: 0.8394659757614136\n",
      "Percentage of suffixes predicted to END: too early - 0.2954184468768854 ; right moment - 0.6295603137274216 ; too late - 0.07502123939569302\n",
      "Too early instances - avg amount of events too early: 1.6650272607803345\n",
      "Too late instances - avg amount of events too late: 3.731823444366455\n",
      "Avg absolute amount of events predicted too early / too late: 0.771845817565918\n",
      "Avg MAE RRT prediction validation set: 0.6108713150024414 (standardized) ; 33309.722916666666 (minutes)'\n",
      " \n",
      "------------------------------------\n",
      "EPOCH 8:\n",
      "____________________________________\n"
     ]
    },
    {
     "name": "stderr",
     "output_type": "stream",
     "text": [
      "Batch calculation at epoch 8.: 802it [02:20, 10.57it/s]"
     ]
    },
    {
     "name": "stdout",
     "output_type": "stream",
     "text": [
      "------------------------------------------------------------\n",
      "Epoch 8, batch 799:\n",
      "Average original gradient norm: 1.6315810162574054 (over last 800 batches)\n",
      "Average clipped gradient norm: 1.601325532272458 (over last 800 batches)\n",
      "Running average global loss: 1.2519728672504424 (over last 800 batches)\n",
      "Running average activity prediction loss: 0.43358674947172404 (Cross Entropy over last 800 batches)\n",
      "Running average time till next event prediction loss: 0.3140987146273255 (MAE over last 800 batches)\n",
      "Running average (complete) remaining runtime prediction loss: 0.5042874015495181 (MAE over last 800 batches)\n",
      "------------------------------------------------------------\n"
     ]
    },
    {
     "name": "stderr",
     "output_type": "stream",
     "text": [
      "Batch calculation at epoch 8.: 1601it [03:57,  9.90it/s]"
     ]
    },
    {
     "name": "stdout",
     "output_type": "stream",
     "text": [
      "------------------------------------------------------------\n",
      "Epoch 8, batch 1599:\n",
      "Average original gradient norm: 1.64635421782732 (over last 800 batches)\n",
      "Average clipped gradient norm: 1.6146147079765796 (over last 800 batches)\n",
      "Running average global loss: 1.255949926674366 (over last 800 batches)\n",
      "Running average activity prediction loss: 0.4348765401914716 (Cross Entropy over last 800 batches)\n",
      "Running average time till next event prediction loss: 0.3148425109311938 (MAE over last 800 batches)\n",
      "Running average (complete) remaining runtime prediction loss: 0.5062308748438954 (MAE over last 800 batches)\n",
      "------------------------------------------------------------\n"
     ]
    },
    {
     "name": "stderr",
     "output_type": "stream",
     "text": [
      "Batch calculation at epoch 8.: 2400it [05:25,  3.71it/s]"
     ]
    },
    {
     "name": "stdout",
     "output_type": "stream",
     "text": [
      "------------------------------------------------------------\n",
      "Epoch 8, batch 2399:\n",
      "Average original gradient norm: 1.6597549011558295 (over last 800 batches)\n",
      "Average clipped gradient norm: 1.6230028972774744 (over last 800 batches)\n",
      "Running average global loss: 1.2575994084775448 (over last 800 batches)\n",
      "Running average activity prediction loss: 0.4367656770348549 (Cross Entropy over last 800 batches)\n",
      "Running average time till next event prediction loss: 0.3148207744583488 (MAE over last 800 batches)\n",
      "Running average (complete) remaining runtime prediction loss: 0.5060129584744573 (MAE over last 800 batches)\n",
      "------------------------------------------------------------\n"
     ]
    },
    {
     "name": "stderr",
     "output_type": "stream",
     "text": [
      "Batch calculation at epoch 8.: 3202it [07:24,  7.14it/s]"
     ]
    },
    {
     "name": "stdout",
     "output_type": "stream",
     "text": [
      "------------------------------------------------------------\n",
      "Epoch 8, batch 3199:\n",
      "Average original gradient norm: 1.648499983921647 (over last 800 batches)\n",
      "Average clipped gradient norm: 1.6145651162415744 (over last 800 batches)\n",
      "Running average global loss: 1.2572226506471633 (over last 800 batches)\n",
      "Running average activity prediction loss: 0.43430237133055927 (Cross Entropy over last 800 batches)\n",
      "Running average time till next event prediction loss: 0.3158771475404501 (MAE over last 800 batches)\n",
      "Running average (complete) remaining runtime prediction loss: 0.5070431304350496 (MAE over last 800 batches)\n",
      "------------------------------------------------------------\n"
     ]
    },
    {
     "name": "stderr",
     "output_type": "stream",
     "text": [
      "Batch calculation at epoch 8.: 4000it [09:24,  3.98it/s]"
     ]
    },
    {
     "name": "stdout",
     "output_type": "stream",
     "text": [
      "------------------------------------------------------------\n",
      "Epoch 8, batch 3999:\n",
      "Average original gradient norm: 1.6251213748008013 (over last 800 batches)\n",
      "Average clipped gradient norm: 1.5944816321879625 (over last 800 batches)\n",
      "Running average global loss: 1.256289115101099 (over last 800 batches)\n",
      "Running average activity prediction loss: 0.43436704549938443 (Cross Entropy over last 800 batches)\n",
      "Running average time till next event prediction loss: 0.31418692603707316 (MAE over last 800 batches)\n",
      "Running average (complete) remaining runtime prediction loss: 0.5077351430058479 (MAE over last 800 batches)\n",
      "------------------------------------------------------------\n"
     ]
    },
    {
     "name": "stderr",
     "output_type": "stream",
     "text": [
      "Batch calculation at epoch 8.: 4295it [10:20,  6.92it/s]\n"
     ]
    },
    {
     "name": "stdout",
     "output_type": "stream",
     "text": [
      "=======================================\n",
      "End of epoch 8\n",
      "=======================================\n",
      "Running average global loss: 1.2531061012297868 (over last 800 batches)\n",
      "Running average activity prediction loss: 0.431666315831244 (Cross Entropy over last 800 batches)\n",
      "Running average time till next event prediction loss: 0.3137080295570195 (MAE over last 800 batches)\n",
      "Running average (complete) remaining runtime prediction loss: 0.5077317558974027 (MAE over last 800 batches)\n"
     ]
    },
    {
     "name": "stderr",
     "output_type": "stream",
     "text": [
      "Validation batch calculation: 20it [00:43,  2.16s/it]\n"
     ]
    },
    {
     "name": "stdout",
     "output_type": "stream",
     "text": [
      "Avg MAE TTNE prediction validation set: 0.4681099057197571 (standardized) ; 17260.767708333333 (minutes)'\n",
      "Avg 1-(normalized) DL distance acitivty suffix prediction validation set: 0.8387283682823181\n",
      "Percentage of suffixes predicted to END: too early - 0.2922171466564882 ; right moment - 0.6295356883411108 ; too late - 0.07824716500240098\n",
      "Too early instances - avg amount of events too early: 1.6474950313568115\n",
      "Too late instances - avg amount of events too late: 4.030055046081543\n",
      "Avg absolute amount of events predicted too early / too late: 0.7967666983604431\n",
      "Avg MAE RRT prediction validation set: 0.6141888499259949 (standardized) ; 33504.395833333336 (minutes)'\n",
      " \n",
      "------------------------------------\n",
      "EPOCH 9:\n",
      "____________________________________\n"
     ]
    },
    {
     "name": "stderr",
     "output_type": "stream",
     "text": [
      "Batch calculation at epoch 9.: 801it [01:39,  7.19it/s]"
     ]
    },
    {
     "name": "stdout",
     "output_type": "stream",
     "text": [
      "------------------------------------------------------------\n",
      "Epoch 9, batch 799:\n",
      "Average original gradient norm: 1.6671687022596597 (over last 800 batches)\n",
      "Average clipped gradient norm: 1.618533342257142 (over last 800 batches)\n",
      "Running average global loss: 1.2508043028414249 (over last 800 batches)\n",
      "Running average activity prediction loss: 0.43492682721465825 (Cross Entropy over last 800 batches)\n",
      "Running average time till next event prediction loss: 0.31319474523887036 (MAE over last 800 batches)\n",
      "Running average (complete) remaining runtime prediction loss: 0.5026827309653163 (MAE over last 800 batches)\n",
      "------------------------------------------------------------\n"
     ]
    },
    {
     "name": "stderr",
     "output_type": "stream",
     "text": [
      "Batch calculation at epoch 9.: 1601it [03:20,  8.83it/s]"
     ]
    },
    {
     "name": "stdout",
     "output_type": "stream",
     "text": [
      "------------------------------------------------------------\n",
      "Epoch 9, batch 1599:\n",
      "Average original gradient norm: 1.6568388655781745 (over last 800 batches)\n",
      "Average clipped gradient norm: 1.6252421671152115 (over last 800 batches)\n",
      "Running average global loss: 1.2475956055521964 (over last 800 batches)\n",
      "Running average activity prediction loss: 0.4319666630029678 (Cross Entropy over last 800 batches)\n",
      "Running average time till next event prediction loss: 0.31264358388260005 (MAE over last 800 batches)\n",
      "Running average (complete) remaining runtime prediction loss: 0.5029853563383222 (MAE over last 800 batches)\n",
      "------------------------------------------------------------\n"
     ]
    },
    {
     "name": "stderr",
     "output_type": "stream",
     "text": [
      "Batch calculation at epoch 9.: 2402it [05:02,  9.97it/s]"
     ]
    },
    {
     "name": "stdout",
     "output_type": "stream",
     "text": [
      "------------------------------------------------------------\n",
      "Epoch 9, batch 2399:\n",
      "Average original gradient norm: 1.621497093141079 (over last 800 batches)\n",
      "Average clipped gradient norm: 1.5909677907824515 (over last 800 batches)\n",
      "Running average global loss: 1.2516009360551834 (over last 800 batches)\n",
      "Running average activity prediction loss: 0.42981282889842987 (Cross Entropy over last 800 batches)\n",
      "Running average time till next event prediction loss: 0.31471024712547657 (MAE over last 800 batches)\n",
      "Running average (complete) remaining runtime prediction loss: 0.5070778611674904 (MAE over last 800 batches)\n",
      "------------------------------------------------------------\n"
     ]
    },
    {
     "name": "stderr",
     "output_type": "stream",
     "text": [
      "Batch calculation at epoch 9.: 3201it [06:55,  7.90it/s]"
     ]
    },
    {
     "name": "stdout",
     "output_type": "stream",
     "text": [
      "------------------------------------------------------------\n",
      "Epoch 9, batch 3199:\n",
      "Average original gradient norm: 1.6722539409250021 (over last 800 batches)\n",
      "Average clipped gradient norm: 1.6321257341653108 (over last 800 batches)\n",
      "Running average global loss: 1.2466591746360063 (over last 800 batches)\n",
      "Running average activity prediction loss: 0.4289844426885247 (Cross Entropy over last 800 batches)\n",
      "Running average time till next event prediction loss: 0.3134743928536773 (MAE over last 800 batches)\n",
      "Running average (complete) remaining runtime prediction loss: 0.5042003383487463 (MAE over last 800 batches)\n",
      "------------------------------------------------------------\n"
     ]
    },
    {
     "name": "stderr",
     "output_type": "stream",
     "text": [
      "Batch calculation at epoch 9.: 4001it [08:47,  5.72it/s]"
     ]
    },
    {
     "name": "stdout",
     "output_type": "stream",
     "text": [
      "------------------------------------------------------------\n",
      "Epoch 9, batch 3999:\n",
      "Average original gradient norm: 1.6819179891049862 (over last 800 batches)\n",
      "Average clipped gradient norm: 1.6315492743253708 (over last 800 batches)\n",
      "Running average global loss: 1.2530423876643182 (over last 800 batches)\n",
      "Running average activity prediction loss: 0.43315272945910693 (Cross Entropy over last 800 batches)\n",
      "Running average time till next event prediction loss: 0.3132921642251313 (MAE over last 800 batches)\n",
      "Running average (complete) remaining runtime prediction loss: 0.5065974947437644 (MAE over last 800 batches)\n",
      "------------------------------------------------------------\n"
     ]
    },
    {
     "name": "stderr",
     "output_type": "stream",
     "text": [
      "Batch calculation at epoch 9.: 4295it [09:37,  7.43it/s]\n"
     ]
    },
    {
     "name": "stdout",
     "output_type": "stream",
     "text": [
      "=======================================\n",
      "End of epoch 9\n",
      "=======================================\n",
      "Running average global loss: 1.2559412717819214 (over last 800 batches)\n",
      "Running average activity prediction loss: 0.43508166655898095 (Cross Entropy over last 800 batches)\n",
      "Running average time till next event prediction loss: 0.31378975020721556 (MAE over last 800 batches)\n",
      "Running average (complete) remaining runtime prediction loss: 0.5070698553323746 (MAE over last 800 batches)\n"
     ]
    },
    {
     "name": "stderr",
     "output_type": "stream",
     "text": [
      "Validation batch calculation: 20it [00:42,  2.14s/it]\n"
     ]
    },
    {
     "name": "stdout",
     "output_type": "stream",
     "text": [
      "Avg MAE TTNE prediction validation set: 0.45953574776649475 (standardized) ; 16933.633333333335 (minutes)'\n",
      "Avg 1-(normalized) DL distance acitivty suffix prediction validation set: 0.8395658135414124\n",
      "Percentage of suffixes predicted to END: too early - 0.29396554908455125 ; right moment - 0.6304222022482978 ; too late - 0.07561224866715097\n",
      "Too early instances - avg amount of events too early: 1.6652565002441406\n",
      "Too late instances - avg amount of events too late: 3.6893014907836914\n",
      "Avg absolute amount of events predicted too early / too late: 0.7684844136238098\n",
      "Avg MAE RRT prediction validation set: 0.6086863279342651 (standardized) ; 33197.74166666667 (minutes)'\n",
      " \n",
      "------------------------------------\n",
      "EPOCH 10:\n",
      "____________________________________\n"
     ]
    },
    {
     "name": "stderr",
     "output_type": "stream",
     "text": [
      "Batch calculation at epoch 10.: 800it [02:13,  2.62it/s]"
     ]
    },
    {
     "name": "stdout",
     "output_type": "stream",
     "text": [
      "------------------------------------------------------------\n",
      "Epoch 10, batch 799:\n",
      "Average original gradient norm: 1.631396895647049 (over last 800 batches)\n",
      "Average clipped gradient norm: 1.5999408046901227 (over last 800 batches)\n",
      "Running average global loss: 1.246654442846775 (over last 800 batches)\n",
      "Running average activity prediction loss: 0.43074335746467113 (Cross Entropy over last 800 batches)\n",
      "Running average time till next event prediction loss: 0.3117176380008459 (MAE over last 800 batches)\n",
      "Running average (complete) remaining runtime prediction loss: 0.5041934496536851 (MAE over last 800 batches)\n",
      "------------------------------------------------------------\n"
     ]
    },
    {
     "name": "stderr",
     "output_type": "stream",
     "text": [
      "Batch calculation at epoch 10.: 1601it [03:53,  7.57it/s]"
     ]
    },
    {
     "name": "stdout",
     "output_type": "stream",
     "text": [
      "------------------------------------------------------------\n",
      "Epoch 10, batch 1599:\n",
      "Average original gradient norm: 1.6729536410421133 (over last 800 batches)\n",
      "Average clipped gradient norm: 1.6270323922485113 (over last 800 batches)\n",
      "Running average global loss: 1.2478406650573015 (over last 800 batches)\n",
      "Running average activity prediction loss: 0.4305651491507888 (Cross Entropy over last 800 batches)\n",
      "Running average time till next event prediction loss: 0.31291044192388656 (MAE over last 800 batches)\n",
      "Running average (complete) remaining runtime prediction loss: 0.5043650735542178 (MAE over last 800 batches)\n",
      "------------------------------------------------------------\n"
     ]
    },
    {
     "name": "stderr",
     "output_type": "stream",
     "text": [
      "Batch calculation at epoch 10.: 2401it [06:04,  6.73it/s]"
     ]
    },
    {
     "name": "stdout",
     "output_type": "stream",
     "text": [
      "------------------------------------------------------------\n",
      "Epoch 10, batch 2399:\n",
      "Average original gradient norm: 1.605676751434803 (over last 800 batches)\n",
      "Average clipped gradient norm: 1.5843926215171813 (over last 800 batches)\n",
      "Running average global loss: 1.244496016651392 (over last 800 batches)\n",
      "Running average activity prediction loss: 0.4286810666322708 (Cross Entropy over last 800 batches)\n",
      "Running average time till next event prediction loss: 0.3118769219517708 (MAE over last 800 batches)\n",
      "Running average (complete) remaining runtime prediction loss: 0.5039380290359259 (MAE over last 800 batches)\n",
      "------------------------------------------------------------\n"
     ]
    },
    {
     "name": "stderr",
     "output_type": "stream",
     "text": [
      "Batch calculation at epoch 10.: 3201it [08:04,  5.19it/s]"
     ]
    },
    {
     "name": "stdout",
     "output_type": "stream",
     "text": [
      "------------------------------------------------------------\n",
      "Epoch 10, batch 3199:\n",
      "Average original gradient norm: 1.6488239479064941 (over last 800 batches)\n",
      "Average clipped gradient norm: 1.6136027474701404 (over last 800 batches)\n",
      "Running average global loss: 1.2461720398068428 (over last 800 batches)\n",
      "Running average activity prediction loss: 0.4298649422451854 (Cross Entropy over last 800 batches)\n",
      "Running average time till next event prediction loss: 0.3124450228922069 (MAE over last 800 batches)\n",
      "Running average (complete) remaining runtime prediction loss: 0.5038620721548795 (MAE over last 800 batches)\n",
      "------------------------------------------------------------\n"
     ]
    },
    {
     "name": "stderr",
     "output_type": "stream",
     "text": [
      "Batch calculation at epoch 10.: 4001it [10:08,  6.47it/s]"
     ]
    },
    {
     "name": "stdout",
     "output_type": "stream",
     "text": [
      "------------------------------------------------------------\n",
      "Epoch 10, batch 3999:\n",
      "Average original gradient norm: 1.6376962948590517 (over last 800 batches)\n",
      "Average clipped gradient norm: 1.5996289471536875 (over last 800 batches)\n",
      "Running average global loss: 1.2446425429731607 (over last 800 batches)\n",
      "Running average activity prediction loss: 0.4289086945727468 (Cross Entropy over last 800 batches)\n",
      "Running average time till next event prediction loss: 0.3122172751836479 (MAE over last 800 batches)\n",
      "Running average (complete) remaining runtime prediction loss: 0.5035165743902326 (MAE over last 800 batches)\n",
      "------------------------------------------------------------\n"
     ]
    },
    {
     "name": "stderr",
     "output_type": "stream",
     "text": [
      "Batch calculation at epoch 10.: 4295it [10:49,  6.61it/s]\n"
     ]
    },
    {
     "name": "stdout",
     "output_type": "stream",
     "text": [
      "=======================================\n",
      "End of epoch 10\n",
      "=======================================\n",
      "Running average global loss: 1.242624139636755 (over last 800 batches)\n",
      "Running average activity prediction loss: 0.4275093575567007 (Cross Entropy over last 800 batches)\n",
      "Running average time till next event prediction loss: 0.3123898898996413 (MAE over last 800 batches)\n",
      "Running average (complete) remaining runtime prediction loss: 0.5027248947322369 (MAE over last 800 batches)\n"
     ]
    },
    {
     "name": "stderr",
     "output_type": "stream",
     "text": [
      "Validation batch calculation: 20it [00:52,  2.63s/it]\n"
     ]
    },
    {
     "name": "stdout",
     "output_type": "stream",
     "text": [
      "Avg MAE TTNE prediction validation set: 0.4713670313358307 (standardized) ; 17375.909375 (minutes)'\n",
      "Avg 1-(normalized) DL distance acitivty suffix prediction validation set: 0.8409230709075928\n",
      "Percentage of suffixes predicted to END: too early - 0.29546769764950687 ; right moment - 0.6310501495992218 ; too late - 0.07348215275127129\n",
      "Too early instances - avg amount of events too early: 1.6592490673065186\n",
      "Too late instances - avg amount of events too late: 3.5484249591827393\n",
      "Avg absolute amount of events predicted too early / too late: 0.7510004043579102\n",
      "Avg MAE RRT prediction validation set: 0.6133401393890381 (standardized) ; 33450.072916666664 (minutes)'\n",
      " \n",
      "------------------------------------\n",
      "EPOCH 11:\n",
      "____________________________________\n"
     ]
    },
    {
     "name": "stderr",
     "output_type": "stream",
     "text": [
      "Batch calculation at epoch 11.: 801it [01:59,  7.96it/s]"
     ]
    },
    {
     "name": "stdout",
     "output_type": "stream",
     "text": [
      "------------------------------------------------------------\n",
      "Epoch 11, batch 799:\n",
      "Average original gradient norm: 1.6591107457876206 (over last 800 batches)\n",
      "Average clipped gradient norm: 1.6237410220503807 (over last 800 batches)\n",
      "Running average global loss: 1.2481055869162083 (over last 800 batches)\n",
      "Running average activity prediction loss: 0.4286309788748622 (Cross Entropy over last 800 batches)\n",
      "Running average time till next event prediction loss: 0.31367934672161935 (MAE over last 800 batches)\n",
      "Running average (complete) remaining runtime prediction loss: 0.5057952605187893 (MAE over last 800 batches)\n",
      "------------------------------------------------------------\n"
     ]
    },
    {
     "name": "stderr",
     "output_type": "stream",
     "text": [
      "Batch calculation at epoch 11.: 1601it [04:01,  7.65it/s]"
     ]
    },
    {
     "name": "stdout",
     "output_type": "stream",
     "text": [
      "------------------------------------------------------------\n",
      "Epoch 11, batch 1599:\n",
      "Average original gradient norm: 1.6349715176969766 (over last 800 batches)\n",
      "Average clipped gradient norm: 1.6010861671715975 (over last 800 batches)\n",
      "Running average global loss: 1.2444462148845197 (over last 800 batches)\n",
      "Running average activity prediction loss: 0.42957950733602046 (Cross Entropy over last 800 batches)\n",
      "Running average time till next event prediction loss: 0.31149686614051464 (MAE over last 800 batches)\n",
      "Running average (complete) remaining runtime prediction loss: 0.50336984179914 (MAE over last 800 batches)\n",
      "------------------------------------------------------------\n"
     ]
    },
    {
     "name": "stderr",
     "output_type": "stream",
     "text": [
      "Batch calculation at epoch 11.: 2401it [06:08,  7.73it/s]"
     ]
    },
    {
     "name": "stdout",
     "output_type": "stream",
     "text": [
      "------------------------------------------------------------\n",
      "Epoch 11, batch 2399:\n",
      "Average original gradient norm: 1.677013592198491 (over last 800 batches)\n",
      "Average clipped gradient norm: 1.632579124197364 (over last 800 batches)\n",
      "Running average global loss: 1.2395494492352008 (over last 800 batches)\n",
      "Running average activity prediction loss: 0.42451013714075087 (Cross Entropy over last 800 batches)\n",
      "Running average time till next event prediction loss: 0.3114574512653053 (MAE over last 800 batches)\n",
      "Running average (complete) remaining runtime prediction loss: 0.5035818606242537 (MAE over last 800 batches)\n",
      "------------------------------------------------------------\n"
     ]
    },
    {
     "name": "stderr",
     "output_type": "stream",
     "text": [
      "Batch calculation at epoch 11.: 3201it [08:11,  7.63it/s]"
     ]
    },
    {
     "name": "stdout",
     "output_type": "stream",
     "text": [
      "------------------------------------------------------------\n",
      "Epoch 11, batch 3199:\n",
      "Average original gradient norm: 1.6651479755342007 (over last 800 batches)\n",
      "Average clipped gradient norm: 1.6243060484528542 (over last 800 batches)\n",
      "Running average global loss: 1.2426965264976024 (over last 800 batches)\n",
      "Running average activity prediction loss: 0.42887817941606043 (Cross Entropy over last 800 batches)\n",
      "Running average time till next event prediction loss: 0.31113335127010944 (MAE over last 800 batches)\n",
      "Running average (complete) remaining runtime prediction loss: 0.5026849934086204 (MAE over last 800 batches)\n",
      "------------------------------------------------------------\n"
     ]
    },
    {
     "name": "stderr",
     "output_type": "stream",
     "text": [
      "Batch calculation at epoch 11.: 4000it [10:38,  4.44it/s]"
     ]
    },
    {
     "name": "stdout",
     "output_type": "stream",
     "text": [
      "------------------------------------------------------------\n",
      "Epoch 11, batch 3999:\n",
      "Average original gradient norm: 1.651718901246786 (over last 800 batches)\n",
      "Average clipped gradient norm: 1.6211756180226802 (over last 800 batches)\n",
      "Running average global loss: 1.23619052156806 (over last 800 batches)\n",
      "Running average activity prediction loss: 0.4263169567659497 (Cross Entropy over last 800 batches)\n",
      "Running average time till next event prediction loss: 0.30950716027989983 (MAE over last 800 batches)\n",
      "Running average (complete) remaining runtime prediction loss: 0.5003664024174214 (MAE over last 800 batches)\n",
      "------------------------------------------------------------\n"
     ]
    },
    {
     "name": "stderr",
     "output_type": "stream",
     "text": [
      "Batch calculation at epoch 11.: 4295it [11:43,  6.11it/s]\n"
     ]
    },
    {
     "name": "stdout",
     "output_type": "stream",
     "text": [
      "=======================================\n",
      "End of epoch 11\n",
      "=======================================\n",
      "Running average global loss: 1.2400330974161624 (over last 800 batches)\n",
      "Running average activity prediction loss: 0.4267289352789521 (Cross Entropy over last 800 batches)\n",
      "Running average time till next event prediction loss: 0.31023846723139287 (MAE over last 800 batches)\n",
      "Running average (complete) remaining runtime prediction loss: 0.5030656948685646 (MAE over last 800 batches)\n"
     ]
    },
    {
     "name": "stderr",
     "output_type": "stream",
     "text": [
      "Validation batch calculation: 20it [01:09,  3.46s/it]\n"
     ]
    },
    {
     "name": "stdout",
     "output_type": "stream",
     "text": [
      "Avg MAE TTNE prediction validation set: 0.4786786437034607 (standardized) ; 17640.8 (minutes)'\n",
      "Avg 1-(normalized) DL distance acitivty suffix prediction validation set: 0.8385328650474548\n",
      "Percentage of suffixes predicted to END: too early - 0.2902224903653176 ; right moment - 0.6295356883411108 ; too late - 0.08024182129357155\n",
      "Too early instances - avg amount of events too early: 1.6434177160263062\n",
      "Too late instances - avg amount of events too late: 4.042043685913086\n",
      "Avg absolute amount of events predicted too early / too late: 0.8012977838516235\n",
      "Avg MAE RRT prediction validation set: 0.6096996665000916 (standardized) ; 33257.60833333333 (minutes)'\n",
      " \n",
      "------------------------------------\n",
      "EPOCH 12:\n",
      "____________________________________\n"
     ]
    },
    {
     "name": "stderr",
     "output_type": "stream",
     "text": [
      "Batch calculation at epoch 12.: 801it [02:09,  5.87it/s]"
     ]
    },
    {
     "name": "stdout",
     "output_type": "stream",
     "text": [
      "------------------------------------------------------------\n",
      "Epoch 12, batch 799:\n",
      "Average original gradient norm: 1.6713905812054872 (over last 800 batches)\n",
      "Average clipped gradient norm: 1.6296519937366247 (over last 800 batches)\n",
      "Running average global loss: 1.2362595146894455 (over last 800 batches)\n",
      "Running average activity prediction loss: 0.4218920329213142 (Cross Entropy over last 800 batches)\n",
      "Running average time till next event prediction loss: 0.31087643023580314 (MAE over last 800 batches)\n",
      "Running average (complete) remaining runtime prediction loss: 0.5034910512715578 (MAE over last 800 batches)\n",
      "------------------------------------------------------------\n"
     ]
    },
    {
     "name": "stderr",
     "output_type": "stream",
     "text": [
      "Batch calculation at epoch 12.: 1601it [04:28,  6.39it/s]"
     ]
    },
    {
     "name": "stdout",
     "output_type": "stream",
     "text": [
      "------------------------------------------------------------\n",
      "Epoch 12, batch 1599:\n",
      "Average original gradient norm: 1.6552886825799942 (over last 800 batches)\n",
      "Average clipped gradient norm: 1.6225228148698807 (over last 800 batches)\n",
      "Running average global loss: 1.2367982010543346 (over last 800 batches)\n",
      "Running average activity prediction loss: 0.42778083607554435 (Cross Entropy over last 800 batches)\n",
      "Running average time till next event prediction loss: 0.3095799269527197 (MAE over last 800 batches)\n",
      "Running average (complete) remaining runtime prediction loss: 0.49943743873387575 (MAE over last 800 batches)\n",
      "------------------------------------------------------------\n"
     ]
    },
    {
     "name": "stderr",
     "output_type": "stream",
     "text": [
      "Batch calculation at epoch 12.: 2400it [07:37,  5.58it/s]"
     ]
    },
    {
     "name": "stdout",
     "output_type": "stream",
     "text": [
      "------------------------------------------------------------\n",
      "Epoch 12, batch 2399:\n",
      "Average original gradient norm: 1.6313423262536526 (over last 800 batches)\n",
      "Average clipped gradient norm: 1.6033504858613015 (over last 800 batches)\n",
      "Running average global loss: 1.2407717210799456 (over last 800 batches)\n",
      "Running average activity prediction loss: 0.4247364821471274 (Cross Entropy over last 800 batches)\n",
      "Running average time till next event prediction loss: 0.31174466650933025 (MAE over last 800 batches)\n",
      "Running average (complete) remaining runtime prediction loss: 0.5042905728146434 (MAE over last 800 batches)\n",
      "------------------------------------------------------------\n"
     ]
    },
    {
     "name": "stderr",
     "output_type": "stream",
     "text": [
      "Batch calculation at epoch 12.: 3201it [09:38,  6.59it/s]"
     ]
    },
    {
     "name": "stdout",
     "output_type": "stream",
     "text": [
      "------------------------------------------------------------\n",
      "Epoch 12, batch 3199:\n",
      "Average original gradient norm: 1.6843307203799487 (over last 800 batches)\n",
      "Average clipped gradient norm: 1.6383540164679289 (over last 800 batches)\n",
      "Running average global loss: 1.2398781180381775 (over last 800 batches)\n",
      "Running average activity prediction loss: 0.42799955945461987 (Cross Entropy over last 800 batches)\n",
      "Running average time till next event prediction loss: 0.3103121041134 (MAE over last 800 batches)\n",
      "Running average (complete) remaining runtime prediction loss: 0.5015664559230208 (MAE over last 800 batches)\n",
      "------------------------------------------------------------\n"
     ]
    },
    {
     "name": "stderr",
     "output_type": "stream",
     "text": [
      "Batch calculation at epoch 12.: 4000it [11:48,  4.20it/s]"
     ]
    },
    {
     "name": "stdout",
     "output_type": "stream",
     "text": [
      "------------------------------------------------------------\n",
      "Epoch 12, batch 3999:\n",
      "Average original gradient norm: 1.652684847712517 (over last 800 batches)\n",
      "Average clipped gradient norm: 1.6233429445326328 (over last 800 batches)\n",
      "Running average global loss: 1.238603012636304 (over last 800 batches)\n",
      "Running average activity prediction loss: 0.4263451761752367 (Cross Entropy over last 800 batches)\n",
      "Running average time till next event prediction loss: 0.3093999390862882 (MAE over last 800 batches)\n",
      "Running average (complete) remaining runtime prediction loss: 0.5028578964248299 (MAE over last 800 batches)\n",
      "------------------------------------------------------------\n"
     ]
    },
    {
     "name": "stderr",
     "output_type": "stream",
     "text": [
      "Batch calculation at epoch 12.: 4295it [12:55,  5.53it/s]\n"
     ]
    },
    {
     "name": "stdout",
     "output_type": "stream",
     "text": [
      "=======================================\n",
      "End of epoch 12\n",
      "=======================================\n",
      "Running average global loss: 1.2364575360715389 (over last 800 batches)\n",
      "Running average activity prediction loss: 0.4251712767779827 (Cross Entropy over last 800 batches)\n",
      "Running average time till next event prediction loss: 0.3097730763442814 (MAE over last 800 batches)\n",
      "Running average (complete) remaining runtime prediction loss: 0.5015131809934974 (MAE over last 800 batches)\n"
     ]
    },
    {
     "name": "stderr",
     "output_type": "stream",
     "text": [
      "Validation batch calculation: 20it [01:05,  3.25s/it]\n"
     ]
    },
    {
     "name": "stdout",
     "output_type": "stream",
     "text": [
      "Avg MAE TTNE prediction validation set: 0.46661585569381714 (standardized) ; 17178.710416666665 (minutes)'\n",
      "Avg 1-(normalized) DL distance acitivty suffix prediction validation set: 0.8407759070396423\n",
      "Percentage of suffixes predicted to END: too early - 0.29434724257236783 ; right moment - 0.630890084588202 ; too late - 0.07476267283943017\n",
      "Too early instances - avg amount of events too early: 1.6579937934875488\n",
      "Too late instances - avg amount of events too late: 3.340085744857788\n",
      "Avg absolute amount of events predicted too early / too late: 0.737739622592926\n",
      "Avg MAE RRT prediction validation set: 0.6126763224601746 (standardized) ; 33418.145833333336 (minutes)'\n",
      " \n",
      "------------------------------------\n",
      "EPOCH 13:\n",
      "____________________________________\n"
     ]
    },
    {
     "name": "stderr",
     "output_type": "stream",
     "text": [
      "Batch calculation at epoch 13.: 801it [02:22,  6.72it/s]"
     ]
    },
    {
     "name": "stdout",
     "output_type": "stream",
     "text": [
      "------------------------------------------------------------\n",
      "Epoch 13, batch 799:\n",
      "Average original gradient norm: 1.6737583070248365 (over last 800 batches)\n",
      "Average clipped gradient norm: 1.6300395487993955 (over last 800 batches)\n",
      "Running average global loss: 1.2332356514036655 (over last 800 batches)\n",
      "Running average activity prediction loss: 0.4231328186765313 (Cross Entropy over last 800 batches)\n",
      "Running average time till next event prediction loss: 0.3091736671887338 (MAE over last 800 batches)\n",
      "Running average (complete) remaining runtime prediction loss: 0.5009291648864747 (MAE over last 800 batches)\n",
      "------------------------------------------------------------\n"
     ]
    },
    {
     "name": "stderr",
     "output_type": "stream",
     "text": [
      "Batch calculation at epoch 13.: 1601it [04:32,  7.07it/s]"
     ]
    },
    {
     "name": "stdout",
     "output_type": "stream",
     "text": [
      "------------------------------------------------------------\n",
      "Epoch 13, batch 1599:\n",
      "Average original gradient norm: 1.6406248223036528 (over last 800 batches)\n",
      "Average clipped gradient norm: 1.6137903124839068 (over last 800 batches)\n",
      "Running average global loss: 1.2378609997034073 (over last 800 batches)\n",
      "Running average activity prediction loss: 0.4255432039871812 (Cross Entropy over last 800 batches)\n",
      "Running average time till next event prediction loss: 0.3097337748855352 (MAE over last 800 batches)\n",
      "Running average (complete) remaining runtime prediction loss: 0.5025840191915631 (MAE over last 800 batches)\n",
      "------------------------------------------------------------\n"
     ]
    },
    {
     "name": "stderr",
     "output_type": "stream",
     "text": [
      "Batch calculation at epoch 13.: 2401it [06:38,  7.33it/s]"
     ]
    },
    {
     "name": "stdout",
     "output_type": "stream",
     "text": [
      "------------------------------------------------------------\n",
      "Epoch 13, batch 2399:\n",
      "Average original gradient norm: 1.6272863440215588 (over last 800 batches)\n",
      "Average clipped gradient norm: 1.599029084444046 (over last 800 batches)\n",
      "Running average global loss: 1.236649729460478 (over last 800 batches)\n",
      "Running average activity prediction loss: 0.4249137619137764 (Cross Entropy over last 800 batches)\n",
      "Running average time till next event prediction loss: 0.3100154047086835 (MAE over last 800 batches)\n",
      "Running average (complete) remaining runtime prediction loss: 0.5017205634713173 (MAE over last 800 batches)\n",
      "------------------------------------------------------------\n"
     ]
    },
    {
     "name": "stderr",
     "output_type": "stream",
     "text": [
      "Batch calculation at epoch 13.: 3200it [08:17,  7.03it/s]"
     ]
    },
    {
     "name": "stdout",
     "output_type": "stream",
     "text": [
      "------------------------------------------------------------\n",
      "Epoch 13, batch 3199:\n",
      "Average original gradient norm: 1.7187173303961754 (over last 800 batches)\n",
      "Average clipped gradient norm: 1.6619616137444972 (over last 800 batches)\n",
      "Running average global loss: 1.2324624196439982 (over last 800 batches)\n",
      "Running average activity prediction loss: 0.4224964114651084 (Cross Entropy over last 800 batches)\n",
      "Running average time till next event prediction loss: 0.30960454419255257 (MAE over last 800 batches)\n",
      "Running average (complete) remaining runtime prediction loss: 0.5003614633157849 (MAE over last 800 batches)\n",
      "------------------------------------------------------------\n"
     ]
    },
    {
     "name": "stderr",
     "output_type": "stream",
     "text": [
      "Batch calculation at epoch 13.: 4001it [10:01,  9.44it/s]"
     ]
    },
    {
     "name": "stdout",
     "output_type": "stream",
     "text": [
      "------------------------------------------------------------\n",
      "Epoch 13, batch 3999:\n",
      "Average original gradient norm: 1.6849884990602733 (over last 800 batches)\n",
      "Average clipped gradient norm: 1.6480614123493433 (over last 800 batches)\n",
      "Running average global loss: 1.239515457600355 (over last 800 batches)\n",
      "Running average activity prediction loss: 0.42655474960803985 (Cross Entropy over last 800 batches)\n",
      "Running average time till next event prediction loss: 0.31018155671656134 (MAE over last 800 batches)\n",
      "Running average (complete) remaining runtime prediction loss: 0.5027791511267423 (MAE over last 800 batches)\n",
      "------------------------------------------------------------\n"
     ]
    },
    {
     "name": "stderr",
     "output_type": "stream",
     "text": [
      "Batch calculation at epoch 13.: 4295it [10:36,  6.75it/s]\n"
     ]
    },
    {
     "name": "stdout",
     "output_type": "stream",
     "text": [
      "=======================================\n",
      "End of epoch 13\n",
      "=======================================\n",
      "Running average global loss: 1.2387684866786004 (over last 800 batches)\n",
      "Running average activity prediction loss: 0.4258759851753712 (Cross Entropy over last 800 batches)\n",
      "Running average time till next event prediction loss: 0.3104608781076968 (MAE over last 800 batches)\n",
      "Running average (complete) remaining runtime prediction loss: 0.5024316270649433 (MAE over last 800 batches)\n"
     ]
    },
    {
     "name": "stderr",
     "output_type": "stream",
     "text": [
      "Validation batch calculation: 20it [00:44,  2.21s/it]\n"
     ]
    },
    {
     "name": "stdout",
     "output_type": "stream",
     "text": [
      "Avg MAE TTNE prediction validation set: 0.46488064527511597 (standardized) ; 17137.058333333334 (minutes)'\n",
      "Avg 1-(normalized) DL distance acitivty suffix prediction validation set: 0.8410773873329163\n",
      "Percentage of suffixes predicted to END: too early - 0.29496287723013653 ; right moment - 0.6311117130649987 ; too late - 0.07392540970486475\n",
      "Too early instances - avg amount of events too early: 1.6693521738052368\n",
      "Too late instances - avg amount of events too late: 3.362758159637451\n",
      "Avg absolute amount of events predicted too early / too late: 0.740990161895752\n",
      "Avg MAE RRT prediction validation set: 0.6066630482673645 (standardized) ; 33095.98125 (minutes)'\n",
      " \n",
      "------------------------------------\n",
      "EPOCH 14:\n",
      "____________________________________\n"
     ]
    },
    {
     "name": "stderr",
     "output_type": "stream",
     "text": [
      "Batch calculation at epoch 14.: 801it [01:31,  8.01it/s]"
     ]
    },
    {
     "name": "stdout",
     "output_type": "stream",
     "text": [
      "------------------------------------------------------------\n",
      "Epoch 14, batch 799:\n",
      "Average original gradient norm: 1.6820395344495773 (over last 800 batches)\n",
      "Average clipped gradient norm: 1.6400249940156937 (over last 800 batches)\n",
      "Running average global loss: 1.232001333758235 (over last 800 batches)\n",
      "Running average activity prediction loss: 0.42118561249226333 (Cross Entropy over last 800 batches)\n",
      "Running average time till next event prediction loss: 0.30908179489895704 (MAE over last 800 batches)\n",
      "Running average (complete) remaining runtime prediction loss: 0.5017339260131121 (MAE over last 800 batches)\n",
      "------------------------------------------------------------\n"
     ]
    },
    {
     "name": "stderr",
     "output_type": "stream",
     "text": [
      "Batch calculation at epoch 14.: 1601it [02:50, 10.54it/s]"
     ]
    },
    {
     "name": "stdout",
     "output_type": "stream",
     "text": [
      "------------------------------------------------------------\n",
      "Epoch 14, batch 1599:\n",
      "Average original gradient norm: 1.7035132037103176 (over last 800 batches)\n",
      "Average clipped gradient norm: 1.6615423367917537 (over last 800 batches)\n",
      "Running average global loss: 1.2356916950643062 (over last 800 batches)\n",
      "Running average activity prediction loss: 0.4255374579876661 (Cross Entropy over last 800 batches)\n",
      "Running average time till next event prediction loss: 0.309829589985311 (MAE over last 800 batches)\n",
      "Running average (complete) remaining runtime prediction loss: 0.5003246465325355 (MAE over last 800 batches)\n",
      "------------------------------------------------------------\n"
     ]
    },
    {
     "name": "stderr",
     "output_type": "stream",
     "text": [
      "Batch calculation at epoch 14.: 2401it [04:50,  7.94it/s]"
     ]
    },
    {
     "name": "stdout",
     "output_type": "stream",
     "text": [
      "------------------------------------------------------------\n",
      "Epoch 14, batch 2399:\n",
      "Average original gradient norm: 1.6699038346111774 (over last 800 batches)\n",
      "Average clipped gradient norm: 1.6344780223071576 (over last 800 batches)\n",
      "Running average global loss: 1.2317648953199387 (over last 800 batches)\n",
      "Running average activity prediction loss: 0.42219665251672267 (Cross Entropy over last 800 batches)\n",
      "Running average time till next event prediction loss: 0.30992754781618714 (MAE over last 800 batches)\n",
      "Running average (complete) remaining runtime prediction loss: 0.4996406953036785 (MAE over last 800 batches)\n",
      "------------------------------------------------------------\n"
     ]
    },
    {
     "name": "stderr",
     "output_type": "stream",
     "text": [
      "Batch calculation at epoch 14.: 3201it [06:47,  6.14it/s]"
     ]
    },
    {
     "name": "stdout",
     "output_type": "stream",
     "text": [
      "------------------------------------------------------------\n",
      "Epoch 14, batch 3199:\n",
      "Average original gradient norm: 1.6771879413723945 (over last 800 batches)\n",
      "Average clipped gradient norm: 1.6345702195167542 (over last 800 batches)\n",
      "Running average global loss: 1.2336685939133167 (over last 800 batches)\n",
      "Running average activity prediction loss: 0.42263336952775715 (Cross Entropy over last 800 batches)\n",
      "Running average time till next event prediction loss: 0.308742105178535 (MAE over last 800 batches)\n",
      "Running average (complete) remaining runtime prediction loss: 0.5022931191697717 (MAE over last 800 batches)\n",
      "------------------------------------------------------------\n"
     ]
    },
    {
     "name": "stderr",
     "output_type": "stream",
     "text": [
      "Batch calculation at epoch 14.: 4000it [08:23, 10.40it/s]"
     ]
    },
    {
     "name": "stdout",
     "output_type": "stream",
     "text": [
      "------------------------------------------------------------\n",
      "Epoch 14, batch 3999:\n",
      "Average original gradient norm: 1.648464203476906 (over last 800 batches)\n",
      "Average clipped gradient norm: 1.617776014059782 (over last 800 batches)\n",
      "Running average global loss: 1.2279892374575139 (over last 800 batches)\n",
      "Running average activity prediction loss: 0.4222643554583192 (Cross Entropy over last 800 batches)\n",
      "Running average time till next event prediction loss: 0.3072087538987398 (MAE over last 800 batches)\n",
      "Running average (complete) remaining runtime prediction loss: 0.49851612728089095 (MAE over last 800 batches)\n",
      "------------------------------------------------------------\n"
     ]
    },
    {
     "name": "stderr",
     "output_type": "stream",
     "text": [
      "Batch calculation at epoch 14.: 4295it [08:52,  8.06it/s]\n"
     ]
    },
    {
     "name": "stdout",
     "output_type": "stream",
     "text": [
      "=======================================\n",
      "End of epoch 14\n",
      "=======================================\n",
      "Running average global loss: 1.2329862271994352 (over last 800 batches)\n",
      "Running average activity prediction loss: 0.4235443652048707 (Cross Entropy over last 800 batches)\n",
      "Running average time till next event prediction loss: 0.307390702329576 (MAE over last 800 batches)\n",
      "Running average (complete) remaining runtime prediction loss: 0.5020511588454246 (MAE over last 800 batches)\n"
     ]
    },
    {
     "name": "stderr",
     "output_type": "stream",
     "text": [
      "Validation batch calculation: 20it [00:38,  1.90s/it]\n"
     ]
    },
    {
     "name": "stdout",
     "output_type": "stream",
     "text": [
      "Avg MAE TTNE prediction validation set: 0.4713088870048523 (standardized) ; 17358.047916666666 (minutes)'\n",
      "Avg 1-(normalized) DL distance acitivty suffix prediction validation set: 0.8415275812149048\n",
      "Percentage of suffixes predicted to END: too early - 0.295701638819459 ; right moment - 0.6315795954049029 ; too late - 0.0727187657756381\n",
      "Too early instances - avg amount of events too early: 1.6607261896133423\n",
      "Too late instances - avg amount of events too late: 3.3848628997802734\n",
      "Avg absolute amount of events predicted too early / too late: 0.7372224926948547\n",
      "Avg MAE RRT prediction validation set: 0.6107302308082581 (standardized) ; 33308.40416666667 (minutes)'\n",
      " \n",
      "------------------------------------\n",
      "EPOCH 15:\n",
      "____________________________________\n"
     ]
    },
    {
     "name": "stderr",
     "output_type": "stream",
     "text": [
      "Batch calculation at epoch 15.: 801it [01:53,  6.32it/s]"
     ]
    },
    {
     "name": "stdout",
     "output_type": "stream",
     "text": [
      "------------------------------------------------------------\n",
      "Epoch 15, batch 799:\n",
      "Average original gradient norm: 1.6601291018724442 (over last 800 batches)\n",
      "Average clipped gradient norm: 1.6267113663256167 (over last 800 batches)\n",
      "Running average global loss: 1.2250521180778742 (over last 800 batches)\n",
      "Running average activity prediction loss: 0.4198928575962782 (Cross Entropy over last 800 batches)\n",
      "Running average time till next event prediction loss: 0.30866872269660234 (MAE over last 800 batches)\n",
      "Running average (complete) remaining runtime prediction loss: 0.4964905372262001 (MAE over last 800 batches)\n",
      "------------------------------------------------------------\n"
     ]
    },
    {
     "name": "stderr",
     "output_type": "stream",
     "text": [
      "Batch calculation at epoch 15.: 1601it [03:59,  5.50it/s]"
     ]
    },
    {
     "name": "stdout",
     "output_type": "stream",
     "text": [
      "------------------------------------------------------------\n",
      "Epoch 15, batch 1599:\n",
      "Average original gradient norm: 1.6874276815354825 (over last 800 batches)\n",
      "Average clipped gradient norm: 1.6383976051211357 (over last 800 batches)\n",
      "Running average global loss: 1.2321254097670318 (over last 800 batches)\n",
      "Running average activity prediction loss: 0.4222960509173572 (Cross Entropy over last 800 batches)\n",
      "Running average time till next event prediction loss: 0.30917107466608285 (MAE over last 800 batches)\n",
      "Running average (complete) remaining runtime prediction loss: 0.5006582837179303 (MAE over last 800 batches)\n",
      "------------------------------------------------------------\n"
     ]
    },
    {
     "name": "stderr",
     "output_type": "stream",
     "text": [
      "Batch calculation at epoch 15.: 2401it [05:37,  6.67it/s]"
     ]
    },
    {
     "name": "stdout",
     "output_type": "stream",
     "text": [
      "------------------------------------------------------------\n",
      "Epoch 15, batch 2399:\n",
      "Average original gradient norm: 1.683357578292489 (over last 800 batches)\n",
      "Average clipped gradient norm: 1.64377385802567 (over last 800 batches)\n",
      "Running average global loss: 1.2361911615729333 (over last 800 batches)\n",
      "Running average activity prediction loss: 0.42458357121795415 (Cross Entropy over last 800 batches)\n",
      "Running average time till next event prediction loss: 0.3077288392558694 (MAE over last 800 batches)\n",
      "Running average (complete) remaining runtime prediction loss: 0.5038787499815226 (MAE over last 800 batches)\n",
      "------------------------------------------------------------\n"
     ]
    },
    {
     "name": "stderr",
     "output_type": "stream",
     "text": [
      "Batch calculation at epoch 15.: 3200it [07:32,  4.43it/s]"
     ]
    },
    {
     "name": "stdout",
     "output_type": "stream",
     "text": [
      "------------------------------------------------------------\n",
      "Epoch 15, batch 3199:\n",
      "Average original gradient norm: 1.6641347037255765 (over last 800 batches)\n",
      "Average clipped gradient norm: 1.6333490394055843 (over last 800 batches)\n",
      "Running average global loss: 1.2302103845775127 (over last 800 batches)\n",
      "Running average activity prediction loss: 0.42276079054921867 (Cross Entropy over last 800 batches)\n",
      "Running average time till next event prediction loss: 0.30737520154565573 (MAE over last 800 batches)\n",
      "Running average (complete) remaining runtime prediction loss: 0.5000743915885687 (MAE over last 800 batches)\n",
      "------------------------------------------------------------\n"
     ]
    },
    {
     "name": "stderr",
     "output_type": "stream",
     "text": [
      "Batch calculation at epoch 15.: 4000it [09:31,  9.37it/s]"
     ]
    },
    {
     "name": "stdout",
     "output_type": "stream",
     "text": [
      "------------------------------------------------------------\n",
      "Epoch 15, batch 3999:\n",
      "Average original gradient norm: 1.6783332673460245 (over last 800 batches)\n",
      "Average clipped gradient norm: 1.6419697841256857 (over last 800 batches)\n",
      "Running average global loss: 1.2252749694883824 (over last 800 batches)\n",
      "Running average activity prediction loss: 0.4188154437765479 (Cross Entropy over last 800 batches)\n",
      "Running average time till next event prediction loss: 0.30668040450662376 (MAE over last 800 batches)\n",
      "Running average (complete) remaining runtime prediction loss: 0.49977912347763775 (MAE over last 800 batches)\n",
      "------------------------------------------------------------\n"
     ]
    },
    {
     "name": "stderr",
     "output_type": "stream",
     "text": [
      "Batch calculation at epoch 15.: 4295it [10:05,  7.10it/s]\n"
     ]
    },
    {
     "name": "stdout",
     "output_type": "stream",
     "text": [
      "=======================================\n",
      "End of epoch 15\n",
      "=======================================\n",
      "Running average global loss: 1.2266565047204494 (over last 800 batches)\n",
      "Running average activity prediction loss: 0.420671368688345 (Cross Entropy over last 800 batches)\n",
      "Running average time till next event prediction loss: 0.30737558390945197 (MAE over last 800 batches)\n",
      "Running average (complete) remaining runtime prediction loss: 0.498609554246068 (MAE over last 800 batches)\n"
     ]
    },
    {
     "name": "stderr",
     "output_type": "stream",
     "text": [
      "Validation batch calculation: 20it [00:45,  2.29s/it]\n"
     ]
    },
    {
     "name": "stdout",
     "output_type": "stream",
     "text": [
      "Avg MAE TTNE prediction validation set: 0.4674278199672699 (standardized) ; 17236.244791666668 (minutes)'\n",
      "Avg 1-(normalized) DL distance acitivty suffix prediction validation set: 0.841589093208313\n",
      "Percentage of suffixes predicted to END: too early - 0.2989152517330116 ; right moment - 0.6316904096433013 ; too late - 0.06939433862368716\n",
      "Too early instances - avg amount of events too early: 1.7052353620529175\n",
      "Too late instances - avg amount of events too late: 3.1754791736602783\n",
      "Avg absolute amount of events predicted too early / too late: 0.7300811409950256\n",
      "Avg MAE RRT prediction validation set: 0.6116965413093567 (standardized) ; 33365.870833333334 (minutes)'\n",
      " \n",
      "------------------------------------\n",
      "EPOCH 16:\n",
      "____________________________________\n"
     ]
    },
    {
     "name": "stderr",
     "output_type": "stream",
     "text": [
      "Batch calculation at epoch 16.: 801it [01:58,  5.84it/s]"
     ]
    },
    {
     "name": "stdout",
     "output_type": "stream",
     "text": [
      "------------------------------------------------------------\n",
      "Epoch 16, batch 799:\n",
      "Average original gradient norm: 1.652881271392107 (over last 800 batches)\n",
      "Average clipped gradient norm: 1.6238115322589874 (over last 800 batches)\n",
      "Running average global loss: 1.2287150775641202 (over last 800 batches)\n",
      "Running average activity prediction loss: 0.42069065272808076 (Cross Entropy over last 800 batches)\n",
      "Running average time till next event prediction loss: 0.307823438141495 (MAE over last 800 batches)\n",
      "Running average (complete) remaining runtime prediction loss: 0.500200986340642 (MAE over last 800 batches)\n",
      "------------------------------------------------------------\n"
     ]
    },
    {
     "name": "stderr",
     "output_type": "stream",
     "text": [
      "Batch calculation at epoch 16.: 1600it [04:17,  5.52it/s]"
     ]
    },
    {
     "name": "stdout",
     "output_type": "stream",
     "text": [
      "------------------------------------------------------------\n",
      "Epoch 16, batch 1599:\n",
      "Average original gradient norm: 1.6789327782392502 (over last 800 batches)\n",
      "Average clipped gradient norm: 1.644076777100563 (over last 800 batches)\n",
      "Running average global loss: 1.2302741656452418 (over last 800 batches)\n",
      "Running average activity prediction loss: 0.4227972005307674 (Cross Entropy over last 800 batches)\n",
      "Running average time till next event prediction loss: 0.3071305635012686 (MAE over last 800 batches)\n",
      "Running average (complete) remaining runtime prediction loss: 0.5003464019298554 (MAE over last 800 batches)\n",
      "------------------------------------------------------------\n"
     ]
    },
    {
     "name": "stderr",
     "output_type": "stream",
     "text": [
      "Batch calculation at epoch 16.: 2401it [06:56,  4.86it/s]"
     ]
    },
    {
     "name": "stdout",
     "output_type": "stream",
     "text": [
      "------------------------------------------------------------\n",
      "Epoch 16, batch 2399:\n",
      "Average original gradient norm: 1.703962005674839 (over last 800 batches)\n",
      "Average clipped gradient norm: 1.6592309859395027 (over last 800 batches)\n",
      "Running average global loss: 1.228494255244732 (over last 800 batches)\n",
      "Running average activity prediction loss: 0.4216230508312583 (Cross Entropy over last 800 batches)\n",
      "Running average time till next event prediction loss: 0.3076453383266926 (MAE over last 800 batches)\n",
      "Running average (complete) remaining runtime prediction loss: 0.49922586616128684 (MAE over last 800 batches)\n",
      "------------------------------------------------------------\n"
     ]
    },
    {
     "name": "stderr",
     "output_type": "stream",
     "text": [
      "Batch calculation at epoch 16.: 3201it [09:42,  8.00it/s]"
     ]
    },
    {
     "name": "stdout",
     "output_type": "stream",
     "text": [
      "------------------------------------------------------------\n",
      "Epoch 16, batch 3199:\n",
      "Average original gradient norm: 1.6809293775260448 (over last 800 batches)\n",
      "Average clipped gradient norm: 1.6416740669310093 (over last 800 batches)\n",
      "Running average global loss: 1.2288007792830467 (over last 800 batches)\n",
      "Running average activity prediction loss: 0.42152710396796467 (Cross Entropy over last 800 batches)\n",
      "Running average time till next event prediction loss: 0.3077035649307072 (MAE over last 800 batches)\n",
      "Running average (complete) remaining runtime prediction loss: 0.49957011234015225 (MAE over last 800 batches)\n",
      "------------------------------------------------------------\n"
     ]
    },
    {
     "name": "stderr",
     "output_type": "stream",
     "text": [
      "Batch calculation at epoch 16.: 4001it [11:26,  7.55it/s]"
     ]
    },
    {
     "name": "stdout",
     "output_type": "stream",
     "text": [
      "------------------------------------------------------------\n",
      "Epoch 16, batch 3999:\n",
      "Average original gradient norm: 1.6805660387873649 (over last 800 batches)\n",
      "Average clipped gradient norm: 1.6344096422195435 (over last 800 batches)\n",
      "Running average global loss: 1.2210071470588446 (over last 800 batches)\n",
      "Running average activity prediction loss: 0.4130729824304581 (Cross Entropy over last 800 batches)\n",
      "Running average time till next event prediction loss: 0.30731466664001345 (MAE over last 800 batches)\n",
      "Running average (complete) remaining runtime prediction loss: 0.5006194994971156 (MAE over last 800 batches)\n",
      "------------------------------------------------------------\n"
     ]
    },
    {
     "name": "stderr",
     "output_type": "stream",
     "text": [
      "Batch calculation at epoch 16.: 4295it [12:28,  5.74it/s]\n"
     ]
    },
    {
     "name": "stdout",
     "output_type": "stream",
     "text": [
      "=======================================\n",
      "End of epoch 16\n",
      "=======================================\n",
      "Running average global loss: 1.222002211213112 (over last 800 batches)\n",
      "Running average activity prediction loss: 0.41534941129386427 (Cross Entropy over last 800 batches)\n",
      "Running average time till next event prediction loss: 0.30681896628811955 (MAE over last 800 batches)\n",
      "Running average (complete) remaining runtime prediction loss: 0.49983383536338805 (MAE over last 800 batches)\n"
     ]
    },
    {
     "name": "stderr",
     "output_type": "stream",
     "text": [
      "Validation batch calculation: 20it [01:09,  3.45s/it]\n"
     ]
    },
    {
     "name": "stdout",
     "output_type": "stream",
     "text": [
      "Avg MAE TTNE prediction validation set: 0.4693944454193115 (standardized) ; 17288.376041666666 (minutes)'\n",
      "Avg 1-(normalized) DL distance acitivty suffix prediction validation set: 0.8411521911621094\n",
      "Percentage of suffixes predicted to END: too early - 0.2925865274511494 ; right moment - 0.6305822672593177 ; too late - 0.07683120528953298\n",
      "Too early instances - avg amount of events too early: 1.6418802738189697\n",
      "Too late instances - avg amount of events too late: 3.463301181793213\n",
      "Avg absolute amount of events predicted too early / too late: 0.7464816570281982\n",
      "Avg MAE RRT prediction validation set: 0.609460711479187 (standardized) ; 33234.76875 (minutes)'\n",
      " \n",
      "------------------------------------\n",
      "EPOCH 17:\n",
      "____________________________________\n"
     ]
    },
    {
     "name": "stderr",
     "output_type": "stream",
     "text": [
      "Batch calculation at epoch 17.: 801it [02:32,  5.51it/s]"
     ]
    },
    {
     "name": "stdout",
     "output_type": "stream",
     "text": [
      "------------------------------------------------------------\n",
      "Epoch 17, batch 799:\n",
      "Average original gradient norm: 1.6536778181791305 (over last 800 batches)\n",
      "Average clipped gradient norm: 1.6235874718427659 (over last 800 batches)\n",
      "Running average global loss: 1.2264227835834027 (over last 800 batches)\n",
      "Running average activity prediction loss: 0.419053943157196 (Cross Entropy over last 800 batches)\n",
      "Running average time till next event prediction loss: 0.30781606571748854 (MAE over last 800 batches)\n",
      "Running average (complete) remaining runtime prediction loss: 0.49955277338624 (MAE over last 800 batches)\n",
      "------------------------------------------------------------\n"
     ]
    },
    {
     "name": "stderr",
     "output_type": "stream",
     "text": [
      "Batch calculation at epoch 17.: 1600it [05:30,  2.65it/s]"
     ]
    },
    {
     "name": "stdout",
     "output_type": "stream",
     "text": [
      "------------------------------------------------------------\n",
      "Epoch 17, batch 1599:\n",
      "Average original gradient norm: 1.656427840217948 (over last 800 batches)\n",
      "Average clipped gradient norm: 1.623232088163495 (over last 800 batches)\n",
      "Running average global loss: 1.2243013260513544 (over last 800 batches)\n",
      "Running average activity prediction loss: 0.4200531159341335 (Cross Entropy over last 800 batches)\n",
      "Running average time till next event prediction loss: 0.3060377407073975 (MAE over last 800 batches)\n",
      "Running average (complete) remaining runtime prediction loss: 0.4982104678824544 (MAE over last 800 batches)\n",
      "------------------------------------------------------------\n"
     ]
    },
    {
     "name": "stderr",
     "output_type": "stream",
     "text": [
      "Batch calculation at epoch 17.: 2400it [08:46,  3.08it/s]"
     ]
    },
    {
     "name": "stdout",
     "output_type": "stream",
     "text": [
      "------------------------------------------------------------\n",
      "Epoch 17, batch 2399:\n",
      "Average original gradient norm: 1.7249208809435368 (over last 800 batches)\n",
      "Average clipped gradient norm: 1.679596509486437 (over last 800 batches)\n",
      "Running average global loss: 1.2197582401335239 (over last 800 batches)\n",
      "Running average activity prediction loss: 0.41495676767081024 (Cross Entropy over last 800 batches)\n",
      "Running average time till next event prediction loss: 0.30643360583111645 (MAE over last 800 batches)\n",
      "Running average (complete) remaining runtime prediction loss: 0.49836786910891534 (MAE over last 800 batches)\n",
      "------------------------------------------------------------\n"
     ]
    },
    {
     "name": "stderr",
     "output_type": "stream",
     "text": [
      "Batch calculation at epoch 17.: 3201it [11:45,  5.76it/s]"
     ]
    },
    {
     "name": "stdout",
     "output_type": "stream",
     "text": [
      "------------------------------------------------------------\n",
      "Epoch 17, batch 3199:\n",
      "Average original gradient norm: 1.6615169990062713 (over last 800 batches)\n",
      "Average clipped gradient norm: 1.630082025527954 (over last 800 batches)\n",
      "Running average global loss: 1.2277359429001808 (over last 800 batches)\n",
      "Running average activity prediction loss: 0.4190985068306327 (Cross Entropy over last 800 batches)\n",
      "Running average time till next event prediction loss: 0.3080649317242205 (MAE over last 800 batches)\n",
      "Running average (complete) remaining runtime prediction loss: 0.5005725050345063 (MAE over last 800 batches)\n",
      "------------------------------------------------------------\n"
     ]
    },
    {
     "name": "stderr",
     "output_type": "stream",
     "text": [
      "Batch calculation at epoch 17.: 4000it [14:03,  4.51it/s]"
     ]
    },
    {
     "name": "stdout",
     "output_type": "stream",
     "text": [
      "------------------------------------------------------------\n",
      "Epoch 17, batch 3999:\n",
      "Average original gradient norm: 1.6714935827255248 (over last 800 batches)\n",
      "Average clipped gradient norm: 1.6362681494653224 (over last 800 batches)\n",
      "Running average global loss: 1.228059362769127 (over last 800 batches)\n",
      "Running average activity prediction loss: 0.4217726856842637 (Cross Entropy over last 800 batches)\n",
      "Running average time till next event prediction loss: 0.30692343628033997 (MAE over last 800 batches)\n",
      "Running average (complete) remaining runtime prediction loss: 0.4993632433936 (MAE over last 800 batches)\n",
      "------------------------------------------------------------\n"
     ]
    },
    {
     "name": "stderr",
     "output_type": "stream",
     "text": [
      "Batch calculation at epoch 17.: 4295it [14:55,  4.79it/s]\n"
     ]
    },
    {
     "name": "stdout",
     "output_type": "stream",
     "text": [
      "=======================================\n",
      "End of epoch 17\n",
      "=======================================\n",
      "Running average global loss: 1.224318552017212 (over last 800 batches)\n",
      "Running average activity prediction loss: 0.42028683353215457 (Cross Entropy over last 800 batches)\n",
      "Running average time till next event prediction loss: 0.3059605968184769 (MAE over last 800 batches)\n",
      "Running average (complete) remaining runtime prediction loss: 0.4980711241438985 (MAE over last 800 batches)\n"
     ]
    },
    {
     "name": "stderr",
     "output_type": "stream",
     "text": [
      "Validation batch calculation: 20it [01:16,  3.84s/it]\n"
     ]
    },
    {
     "name": "stdout",
     "output_type": "stream",
     "text": [
      "Avg MAE TTNE prediction validation set: 0.463631272315979 (standardized) ; 17096.41875 (minutes)'\n",
      "Avg 1-(normalized) DL distance acitivty suffix prediction validation set: 0.8410910367965698\n",
      "Percentage of suffixes predicted to END: too early - 0.29284509400741227 ; right moment - 0.6311486511444648 ; too late - 0.07600625484812293\n",
      "Too early instances - avg amount of events too early: 1.6447612047195435\n",
      "Too late instances - avg amount of events too late: 3.4171390533447266\n",
      "Avg absolute amount of events predicted too early / too late: 0.7413842082023621\n",
      "Avg MAE RRT prediction validation set: 0.6103989481925964 (standardized) ; 33291.995833333334 (minutes)'\n",
      " \n",
      "------------------------------------\n",
      "EPOCH 18:\n",
      "____________________________________\n"
     ]
    },
    {
     "name": "stderr",
     "output_type": "stream",
     "text": [
      "Batch calculation at epoch 18.: 801it [02:33,  6.30it/s]"
     ]
    },
    {
     "name": "stdout",
     "output_type": "stream",
     "text": [
      "------------------------------------------------------------\n",
      "Epoch 18, batch 799:\n",
      "Average original gradient norm: 1.6946405175328254 (over last 800 batches)\n",
      "Average clipped gradient norm: 1.6563760581612588 (over last 800 batches)\n",
      "Running average global loss: 1.2263632392138242 (over last 800 batches)\n",
      "Running average activity prediction loss: 0.42053892847150565 (Cross Entropy over last 800 batches)\n",
      "Running average time till next event prediction loss: 0.3069786755740643 (MAE over last 800 batches)\n",
      "Running average (complete) remaining runtime prediction loss: 0.4988456363603473 (MAE over last 800 batches)\n",
      "------------------------------------------------------------\n"
     ]
    },
    {
     "name": "stderr",
     "output_type": "stream",
     "text": [
      "Batch calculation at epoch 18.: 1601it [04:58,  5.33it/s]"
     ]
    },
    {
     "name": "stdout",
     "output_type": "stream",
     "text": [
      "------------------------------------------------------------\n",
      "Epoch 18, batch 1599:\n",
      "Average original gradient norm: 1.6318516741693019 (over last 800 batches)\n",
      "Average clipped gradient norm: 1.6089139319956303 (over last 800 batches)\n",
      "Running average global loss: 1.222971682474017 (over last 800 batches)\n",
      "Running average activity prediction loss: 0.41704367626458405 (Cross Entropy over last 800 batches)\n",
      "Running average time till next event prediction loss: 0.3060845502465963 (MAE over last 800 batches)\n",
      "Running average (complete) remaining runtime prediction loss: 0.49984345588833096 (MAE over last 800 batches)\n",
      "------------------------------------------------------------\n"
     ]
    },
    {
     "name": "stderr",
     "output_type": "stream",
     "text": [
      "Batch calculation at epoch 18.: 2401it [08:23,  5.42it/s]"
     ]
    },
    {
     "name": "stdout",
     "output_type": "stream",
     "text": [
      "------------------------------------------------------------\n",
      "Epoch 18, batch 2399:\n",
      "Average original gradient norm: 1.687905688881874 (over last 800 batches)\n",
      "Average clipped gradient norm: 1.6501570875942706 (over last 800 batches)\n",
      "Running average global loss: 1.2238927349448203 (over last 800 batches)\n",
      "Running average activity prediction loss: 0.41645923171192406 (Cross Entropy over last 800 batches)\n",
      "Running average time till next event prediction loss: 0.3073260812833905 (MAE over last 800 batches)\n",
      "Running average (complete) remaining runtime prediction loss: 0.5001074218004942 (MAE over last 800 batches)\n",
      "------------------------------------------------------------\n"
     ]
    },
    {
     "name": "stderr",
     "output_type": "stream",
     "text": [
      "Batch calculation at epoch 18.: 3201it [11:25,  7.92it/s]"
     ]
    },
    {
     "name": "stdout",
     "output_type": "stream",
     "text": [
      "------------------------------------------------------------\n",
      "Epoch 18, batch 3199:\n",
      "Average original gradient norm: 1.6591122142970562 (over last 800 batches)\n",
      "Average clipped gradient norm: 1.6277557939291 (over last 800 batches)\n",
      "Running average global loss: 1.2199790488183497 (over last 800 batches)\n",
      "Running average activity prediction loss: 0.4172178018465638 (Cross Entropy over last 800 batches)\n",
      "Running average time till next event prediction loss: 0.30520704155787826 (MAE over last 800 batches)\n",
      "Running average (complete) remaining runtime prediction loss: 0.49755420606583356 (MAE over last 800 batches)\n",
      "------------------------------------------------------------\n"
     ]
    },
    {
     "name": "stderr",
     "output_type": "stream",
     "text": [
      "Batch calculation at epoch 18.: 4000it [14:57,  2.81it/s]"
     ]
    },
    {
     "name": "stdout",
     "output_type": "stream",
     "text": [
      "------------------------------------------------------------\n",
      "Epoch 18, batch 3999:\n",
      "Average original gradient norm: 1.6646698834002018 (over last 800 batches)\n",
      "Average clipped gradient norm: 1.6348518945276738 (over last 800 batches)\n",
      "Running average global loss: 1.2218037474155425 (over last 800 batches)\n",
      "Running average activity prediction loss: 0.4168781300261617 (Cross Entropy over last 800 batches)\n",
      "Running average time till next event prediction loss: 0.3061914894357324 (MAE over last 800 batches)\n",
      "Running average (complete) remaining runtime prediction loss: 0.4987341270968318 (MAE over last 800 batches)\n",
      "------------------------------------------------------------\n"
     ]
    },
    {
     "name": "stderr",
     "output_type": "stream",
     "text": [
      "Batch calculation at epoch 18.: 4295it [15:36,  4.58it/s]\n"
     ]
    },
    {
     "name": "stdout",
     "output_type": "stream",
     "text": [
      "=======================================\n",
      "End of epoch 18\n",
      "=======================================\n",
      "Running average global loss: 1.2253322745114565 (over last 800 batches)\n",
      "Running average activity prediction loss: 0.42005490317940714 (Cross Entropy over last 800 batches)\n",
      "Running average time till next event prediction loss: 0.3059952939860523 (MAE over last 800 batches)\n",
      "Running average (complete) remaining runtime prediction loss: 0.49928207527846097 (MAE over last 800 batches)\n"
     ]
    },
    {
     "name": "stderr",
     "output_type": "stream",
     "text": [
      "Validation batch calculation: 20it [00:46,  2.30s/it]\n"
     ]
    },
    {
     "name": "stdout",
     "output_type": "stream",
     "text": [
      "Avg MAE TTNE prediction validation set: 0.4647164046764374 (standardized) ; 17111.209375 (minutes)'\n",
      "Avg 1-(normalized) DL distance acitivty suffix prediction validation set: 0.8409081697463989\n",
      "Percentage of suffixes predicted to END: too early - 0.291650762771341 ; right moment - 0.6312348399965525 ; too late - 0.07711439723210659\n",
      "Too early instances - avg amount of events too early: 1.6428420543670654\n",
      "Too late instances - avg amount of events too late: 3.5724093914031982\n",
      "Avg absolute amount of events predicted too early / too late: 0.7546203136444092\n",
      "Avg MAE RRT prediction validation set: 0.6103649139404297 (standardized) ; 33292.9375 (minutes)'\n",
      " \n",
      "------------------------------------\n",
      "EPOCH 19:\n",
      "____________________________________\n"
     ]
    },
    {
     "name": "stderr",
     "output_type": "stream",
     "text": [
      "Batch calculation at epoch 19.: 800it [02:09,  6.98it/s]"
     ]
    },
    {
     "name": "stdout",
     "output_type": "stream",
     "text": [
      "------------------------------------------------------------\n",
      "Epoch 19, batch 799:\n",
      "Average original gradient norm: 1.6481494359672069 (over last 800 batches)\n",
      "Average clipped gradient norm: 1.626394298672676 (over last 800 batches)\n",
      "Running average global loss: 1.2247477276623249 (over last 800 batches)\n",
      "Running average activity prediction loss: 0.4172678164765239 (Cross Entropy over last 800 batches)\n",
      "Running average time till next event prediction loss: 0.3066191386990249 (MAE over last 800 batches)\n",
      "Running average (complete) remaining runtime prediction loss: 0.5008607755228877 (MAE over last 800 batches)\n",
      "------------------------------------------------------------\n"
     ]
    },
    {
     "name": "stderr",
     "output_type": "stream",
     "text": [
      "Batch calculation at epoch 19.: 1601it [04:16,  5.69it/s]"
     ]
    },
    {
     "name": "stdout",
     "output_type": "stream",
     "text": [
      "------------------------------------------------------------\n",
      "Epoch 19, batch 1599:\n",
      "Average original gradient norm: 1.660099155008793 (over last 800 batches)\n",
      "Average clipped gradient norm: 1.632257538586855 (over last 800 batches)\n",
      "Running average global loss: 1.2157421258091927 (over last 800 batches)\n",
      "Running average activity prediction loss: 0.41627260416746137 (Cross Entropy over last 800 batches)\n",
      "Running average time till next event prediction loss: 0.3044889323413372 (MAE over last 800 batches)\n",
      "Running average (complete) remaining runtime prediction loss: 0.4949805872887373 (MAE over last 800 batches)\n",
      "------------------------------------------------------------\n"
     ]
    },
    {
     "name": "stderr",
     "output_type": "stream",
     "text": [
      "Batch calculation at epoch 19.: 2401it [06:20,  9.28it/s]"
     ]
    },
    {
     "name": "stdout",
     "output_type": "stream",
     "text": [
      "------------------------------------------------------------\n",
      "Epoch 19, batch 2399:\n",
      "Average original gradient norm: 1.652181395739317 (over last 800 batches)\n",
      "Average clipped gradient norm: 1.6223387528955937 (over last 800 batches)\n",
      "Running average global loss: 1.2182689065486192 (over last 800 batches)\n",
      "Running average activity prediction loss: 0.4151452798768878 (Cross Entropy over last 800 batches)\n",
      "Running average time till next event prediction loss: 0.3047387333028018 (MAE over last 800 batches)\n",
      "Running average (complete) remaining runtime prediction loss: 0.49838489178568124 (MAE over last 800 batches)\n",
      "------------------------------------------------------------\n"
     ]
    },
    {
     "name": "stderr",
     "output_type": "stream",
     "text": [
      "Batch calculation at epoch 19.: 3201it [08:34,  6.95it/s]"
     ]
    },
    {
     "name": "stdout",
     "output_type": "stream",
     "text": [
      "------------------------------------------------------------\n",
      "Epoch 19, batch 3199:\n",
      "Average original gradient norm: 1.7058715522289276 (over last 800 batches)\n",
      "Average clipped gradient norm: 1.662222604304552 (over last 800 batches)\n",
      "Running average global loss: 1.2262533841282128 (over last 800 batches)\n",
      "Running average activity prediction loss: 0.41991648729890585 (Cross Entropy over last 800 batches)\n",
      "Running average time till next event prediction loss: 0.30682204430922866 (MAE over last 800 batches)\n",
      "Running average (complete) remaining runtime prediction loss: 0.49951485216617586 (MAE over last 800 batches)\n",
      "------------------------------------------------------------\n"
     ]
    },
    {
     "name": "stderr",
     "output_type": "stream",
     "text": [
      "Batch calculation at epoch 19.: 4001it [10:34, 11.58it/s]"
     ]
    },
    {
     "name": "stdout",
     "output_type": "stream",
     "text": [
      "------------------------------------------------------------\n",
      "Epoch 19, batch 3999:\n",
      "Average original gradient norm: 1.6844959909468888 (over last 800 batches)\n",
      "Average clipped gradient norm: 1.6494691086560487 (over last 800 batches)\n",
      "Running average global loss: 1.221331735253334 (over last 800 batches)\n",
      "Running average activity prediction loss: 0.4160123961791396 (Cross Entropy over last 800 batches)\n",
      "Running average time till next event prediction loss: 0.306095395963639 (MAE over last 800 batches)\n",
      "Running average (complete) remaining runtime prediction loss: 0.49922394171357154 (MAE over last 800 batches)\n",
      "------------------------------------------------------------\n"
     ]
    },
    {
     "name": "stderr",
     "output_type": "stream",
     "text": [
      "Batch calculation at epoch 19.: 4295it [11:11,  6.39it/s]\n"
     ]
    },
    {
     "name": "stdout",
     "output_type": "stream",
     "text": [
      "=======================================\n",
      "End of epoch 19\n",
      "=======================================\n",
      "Running average global loss: 1.2161322988569736 (over last 800 batches)\n",
      "Running average activity prediction loss: 0.41486911833286283 (Cross Entropy over last 800 batches)\n",
      "Running average time till next event prediction loss: 0.3054006821475923 (MAE over last 800 batches)\n",
      "Running average (complete) remaining runtime prediction loss: 0.4958624994009733 (MAE over last 800 batches)\n"
     ]
    },
    {
     "name": "stderr",
     "output_type": "stream",
     "text": [
      "Validation batch calculation: 20it [00:40,  2.02s/it]\n"
     ]
    },
    {
     "name": "stdout",
     "output_type": "stream",
     "text": [
      "Avg MAE TTNE prediction validation set: 0.46621447801589966 (standardized) ; 17198.2 (minutes)'\n",
      "Avg 1-(normalized) DL distance acitivty suffix prediction validation set: 0.8408184051513672\n",
      "Percentage of suffixes predicted to END: too early - 0.29109669157934914 ; right moment - 0.6317765984953889 ; too late - 0.07712670992526195\n",
      "Too early instances - avg amount of events too early: 1.6380170583724976\n",
      "Too late instances - avg amount of events too late: 3.466315507888794\n",
      "Avg absolute amount of events predicted too early / too late: 0.7441668510437012\n",
      "Avg MAE RRT prediction validation set: 0.607285737991333 (standardized) ; 33130.229166666664 (minutes)'\n",
      " \n",
      "------------------------------------\n",
      "EPOCH 20:\n",
      "____________________________________\n"
     ]
    },
    {
     "name": "stderr",
     "output_type": "stream",
     "text": [
      "Batch calculation at epoch 20.: 801it [01:40,  7.60it/s]"
     ]
    },
    {
     "name": "stdout",
     "output_type": "stream",
     "text": [
      "------------------------------------------------------------\n",
      "Epoch 20, batch 799:\n",
      "Average original gradient norm: 1.6563066183030606 (over last 800 batches)\n",
      "Average clipped gradient norm: 1.6288020603358746 (over last 800 batches)\n",
      "Running average global loss: 1.2188089096546173 (over last 800 batches)\n",
      "Running average activity prediction loss: 0.4163177442550659 (Cross Entropy over last 800 batches)\n",
      "Running average time till next event prediction loss: 0.3051025830022991 (MAE over last 800 batches)\n",
      "Running average (complete) remaining runtime prediction loss: 0.4973885831609368 (MAE over last 800 batches)\n",
      "------------------------------------------------------------\n"
     ]
    },
    {
     "name": "stderr",
     "output_type": "stream",
     "text": [
      "Batch calculation at epoch 20.: 1601it [03:29,  8.12it/s]"
     ]
    },
    {
     "name": "stdout",
     "output_type": "stream",
     "text": [
      "------------------------------------------------------------\n",
      "Epoch 20, batch 1599:\n",
      "Average original gradient norm: 1.6703499076515436 (over last 800 batches)\n",
      "Average clipped gradient norm: 1.6376082802563905 (over last 800 batches)\n",
      "Running average global loss: 1.2215650355815888 (over last 800 batches)\n",
      "Running average activity prediction loss: 0.41663717839866876 (Cross Entropy over last 800 batches)\n",
      "Running average time till next event prediction loss: 0.30532130792737006 (MAE over last 800 batches)\n",
      "Running average (complete) remaining runtime prediction loss: 0.49960654985159636 (MAE over last 800 batches)\n",
      "------------------------------------------------------------\n"
     ]
    },
    {
     "name": "stderr",
     "output_type": "stream",
     "text": [
      "Batch calculation at epoch 20.: 2401it [05:06,  7.97it/s]"
     ]
    },
    {
     "name": "stdout",
     "output_type": "stream",
     "text": [
      "------------------------------------------------------------\n",
      "Epoch 20, batch 2399:\n",
      "Average original gradient norm: 1.6497218897938728 (over last 800 batches)\n",
      "Average clipped gradient norm: 1.617692334204912 (over last 800 batches)\n",
      "Running average global loss: 1.2175582525134088 (over last 800 batches)\n",
      "Running average activity prediction loss: 0.413743283059448 (Cross Entropy over last 800 batches)\n",
      "Running average time till next event prediction loss: 0.3053615062683821 (MAE over last 800 batches)\n",
      "Running average (complete) remaining runtime prediction loss: 0.4984534630924463 (MAE over last 800 batches)\n",
      "------------------------------------------------------------\n"
     ]
    },
    {
     "name": "stderr",
     "output_type": "stream",
     "text": [
      "Batch calculation at epoch 20.: 3201it [07:03,  8.01it/s]"
     ]
    },
    {
     "name": "stdout",
     "output_type": "stream",
     "text": [
      "------------------------------------------------------------\n",
      "Epoch 20, batch 3199:\n",
      "Average original gradient norm: 1.6802422159910202 (over last 800 batches)\n",
      "Average clipped gradient norm: 1.644836963713169 (over last 800 batches)\n",
      "Running average global loss: 1.2169390573352574 (over last 800 batches)\n",
      "Running average activity prediction loss: 0.4143854347616434 (Cross Entropy over last 800 batches)\n",
      "Running average time till next event prediction loss: 0.3050611228682101 (MAE over last 800 batches)\n",
      "Running average (complete) remaining runtime prediction loss: 0.497492499910295 (MAE over last 800 batches)\n",
      "------------------------------------------------------------\n"
     ]
    },
    {
     "name": "stderr",
     "output_type": "stream",
     "text": [
      "Batch calculation at epoch 20.: 4001it [08:35,  9.02it/s]"
     ]
    },
    {
     "name": "stdout",
     "output_type": "stream",
     "text": [
      "------------------------------------------------------------\n",
      "Epoch 20, batch 3999:\n",
      "Average original gradient norm: 1.7361169375479222 (over last 800 batches)\n",
      "Average clipped gradient norm: 1.684927451312542 (over last 800 batches)\n",
      "Running average global loss: 1.2186792413145304 (over last 800 batches)\n",
      "Running average activity prediction loss: 0.41716739028692246 (Cross Entropy over last 800 batches)\n",
      "Running average time till next event prediction loss: 0.30515954066067935 (MAE over last 800 batches)\n",
      "Running average (complete) remaining runtime prediction loss: 0.49635231025516985 (MAE over last 800 batches)\n",
      "------------------------------------------------------------\n"
     ]
    },
    {
     "name": "stderr",
     "output_type": "stream",
     "text": [
      "Batch calculation at epoch 20.: 4295it [09:12,  7.77it/s]\n"
     ]
    },
    {
     "name": "stdout",
     "output_type": "stream",
     "text": [
      "=======================================\n",
      "End of epoch 20\n",
      "=======================================\n",
      "Running average global loss: 1.2168700162321329 (over last 800 batches)\n",
      "Running average activity prediction loss: 0.41695310290902854 (Cross Entropy over last 800 batches)\n",
      "Running average time till next event prediction loss: 0.30478647181764246 (MAE over last 800 batches)\n",
      "Running average (complete) remaining runtime prediction loss: 0.49513044267892836 (MAE over last 800 batches)\n"
     ]
    },
    {
     "name": "stderr",
     "output_type": "stream",
     "text": [
      "Validation batch calculation: 20it [00:33,  1.66s/it]\n"
     ]
    },
    {
     "name": "stdout",
     "output_type": "stream",
     "text": [
      "Avg MAE TTNE prediction validation set: 0.4660911560058594 (standardized) ; 17169.308333333334 (minutes)'\n",
      "Avg 1-(normalized) DL distance acitivty suffix prediction validation set: 0.8411754965782166\n",
      "Percentage of suffixes predicted to END: too early - 0.2914045089082335 ; right moment - 0.6312840907691739 ; too late - 0.07731140032259257\n",
      "Too early instances - avg amount of events too early: 1.6370474100112915\n",
      "Too late instances - avg amount of events too late: 3.439082622528076\n",
      "Avg absolute amount of events predicted too early / too late: 0.7429232597351074\n",
      "Avg MAE RRT prediction validation set: 0.6068234443664551 (standardized) ; 33106.92083333333 (minutes)'\n",
      " \n",
      "------------------------------------\n",
      "EPOCH 21:\n",
      "____________________________________\n"
     ]
    },
    {
     "name": "stderr",
     "output_type": "stream",
     "text": [
      "Batch calculation at epoch 21.: 801it [01:45,  7.01it/s]"
     ]
    },
    {
     "name": "stdout",
     "output_type": "stream",
     "text": [
      "------------------------------------------------------------\n",
      "Epoch 21, batch 799:\n",
      "Average original gradient norm: 1.6850241056084634 (over last 800 batches)\n",
      "Average clipped gradient norm: 1.647836553454399 (over last 800 batches)\n",
      "Running average global loss: 1.2142324650287628 (over last 800 batches)\n",
      "Running average activity prediction loss: 0.4129304471239448 (Cross Entropy over last 800 batches)\n",
      "Running average time till next event prediction loss: 0.30427164942026136 (MAE over last 800 batches)\n",
      "Running average (complete) remaining runtime prediction loss: 0.49703036710619924 (MAE over last 800 batches)\n",
      "------------------------------------------------------------\n"
     ]
    },
    {
     "name": "stderr",
     "output_type": "stream",
     "text": [
      "Batch calculation at epoch 21.: 1600it [03:31,  5.55it/s]"
     ]
    },
    {
     "name": "stdout",
     "output_type": "stream",
     "text": [
      "------------------------------------------------------------\n",
      "Epoch 21, batch 1599:\n",
      "Average original gradient norm: 1.699339092373848 (over last 800 batches)\n",
      "Average clipped gradient norm: 1.6546655917167663 (over last 800 batches)\n",
      "Running average global loss: 1.2194123657047748 (over last 800 batches)\n",
      "Running average activity prediction loss: 0.416198621429503 (Cross Entropy over last 800 batches)\n",
      "Running average time till next event prediction loss: 0.3055539784952998 (MAE over last 800 batches)\n",
      "Running average (complete) remaining runtime prediction loss: 0.49765976712107657 (MAE over last 800 batches)\n",
      "------------------------------------------------------------\n"
     ]
    },
    {
     "name": "stderr",
     "output_type": "stream",
     "text": [
      "Batch calculation at epoch 21.: 2401it [05:34,  6.87it/s]"
     ]
    },
    {
     "name": "stdout",
     "output_type": "stream",
     "text": [
      "------------------------------------------------------------\n",
      "Epoch 21, batch 2399:\n",
      "Average original gradient norm: 1.6742805834114551 (over last 800 batches)\n",
      "Average clipped gradient norm: 1.64131792396307 (over last 800 batches)\n",
      "Running average global loss: 1.2171053187549115 (over last 800 batches)\n",
      "Running average activity prediction loss: 0.4163469264283776 (Cross Entropy over last 800 batches)\n",
      "Running average time till next event prediction loss: 0.303501743376255 (MAE over last 800 batches)\n",
      "Running average (complete) remaining runtime prediction loss: 0.497256649620831 (MAE over last 800 batches)\n",
      "------------------------------------------------------------\n"
     ]
    },
    {
     "name": "stderr",
     "output_type": "stream",
     "text": [
      "Batch calculation at epoch 21.: 3201it [07:32,  7.77it/s]"
     ]
    },
    {
     "name": "stdout",
     "output_type": "stream",
     "text": [
      "------------------------------------------------------------\n",
      "Epoch 21, batch 3199:\n",
      "Average original gradient norm: 1.6549170331656933 (over last 800 batches)\n",
      "Average clipped gradient norm: 1.6289881908893584 (over last 800 batches)\n",
      "Running average global loss: 1.2152177035063505 (over last 800 batches)\n",
      "Running average activity prediction loss: 0.41370383810251954 (Cross Entropy over last 800 batches)\n",
      "Running average time till next event prediction loss: 0.3057277017273009 (MAE over last 800 batches)\n",
      "Running average (complete) remaining runtime prediction loss: 0.49578616630285977 (MAE over last 800 batches)\n",
      "------------------------------------------------------------\n"
     ]
    },
    {
     "name": "stderr",
     "output_type": "stream",
     "text": [
      "Batch calculation at epoch 21.: 4001it [09:20,  5.64it/s]"
     ]
    },
    {
     "name": "stdout",
     "output_type": "stream",
     "text": [
      "------------------------------------------------------------\n",
      "Epoch 21, batch 3999:\n",
      "Average original gradient norm: 1.6806007009744643 (over last 800 batches)\n",
      "Average clipped gradient norm: 1.64984775647521 (over last 800 batches)\n",
      "Running average global loss: 1.2196460146456958 (over last 800 batches)\n",
      "Running average activity prediction loss: 0.41669455252587795 (Cross Entropy over last 800 batches)\n",
      "Running average time till next event prediction loss: 0.3041889843158424 (MAE over last 800 batches)\n",
      "Running average (complete) remaining runtime prediction loss: 0.49876247748732566 (MAE over last 800 batches)\n",
      "------------------------------------------------------------\n"
     ]
    },
    {
     "name": "stderr",
     "output_type": "stream",
     "text": [
      "Batch calculation at epoch 21.: 4295it [10:17,  6.96it/s]\n"
     ]
    },
    {
     "name": "stdout",
     "output_type": "stream",
     "text": [
      "=======================================\n",
      "End of epoch 21\n",
      "=======================================\n",
      "Running average global loss: 1.2189914900809526 (over last 800 batches)\n",
      "Running average activity prediction loss: 0.4162983190640807 (Cross Entropy over last 800 batches)\n",
      "Running average time till next event prediction loss: 0.3045257838256657 (MAE over last 800 batches)\n",
      "Running average (complete) remaining runtime prediction loss: 0.4981673887372017 (MAE over last 800 batches)\n"
     ]
    },
    {
     "name": "stderr",
     "output_type": "stream",
     "text": [
      "Validation batch calculation: 20it [00:49,  2.47s/it]\n"
     ]
    },
    {
     "name": "stdout",
     "output_type": "stream",
     "text": [
      "Avg MAE TTNE prediction validation set: 0.4743034839630127 (standardized) ; 17490.045833333334 (minutes)'\n",
      "Avg 1-(normalized) DL distance acitivty suffix prediction validation set: 0.8420502543449402\n",
      "Percentage of suffixes predicted to END: too early - 0.29546769764950687 ; right moment - 0.6315426573254368 ; too late - 0.07298964502505632\n",
      "Too early instances - avg amount of events too early: 1.670167088508606\n",
      "Too late instances - avg amount of events too late: 3.276653289794922\n",
      "Avg absolute amount of events predicted too early / too late: 0.7326421737670898\n",
      "Avg MAE RRT prediction validation set: 0.6091108322143555 (standardized) ; 33229.8625 (minutes)'\n",
      " \n",
      "------------------------------------\n",
      "EPOCH 22:\n",
      "____________________________________\n"
     ]
    },
    {
     "name": "stderr",
     "output_type": "stream",
     "text": [
      "Batch calculation at epoch 22.: 801it [02:07,  7.43it/s]"
     ]
    },
    {
     "name": "stdout",
     "output_type": "stream",
     "text": [
      "------------------------------------------------------------\n",
      "Epoch 22, batch 799:\n",
      "Average original gradient norm: 1.702907949835062 (over last 800 batches)\n",
      "Average clipped gradient norm: 1.669153463691473 (over last 800 batches)\n",
      "Running average global loss: 1.218419952839613 (over last 800 batches)\n",
      "Running average activity prediction loss: 0.41501415938138964 (Cross Entropy over last 800 batches)\n",
      "Running average time till next event prediction loss: 0.3054669822379947 (MAE over last 800 batches)\n",
      "Running average (complete) remaining runtime prediction loss: 0.4979388112947345 (MAE over last 800 batches)\n",
      "------------------------------------------------------------\n"
     ]
    },
    {
     "name": "stderr",
     "output_type": "stream",
     "text": [
      "Batch calculation at epoch 22.: 1601it [04:10,  9.44it/s]"
     ]
    },
    {
     "name": "stdout",
     "output_type": "stream",
     "text": [
      "------------------------------------------------------------\n",
      "Epoch 22, batch 1599:\n",
      "Average original gradient norm: 1.6755997323989869 (over last 800 batches)\n",
      "Average clipped gradient norm: 1.6486370001733304 (over last 800 batches)\n",
      "Running average global loss: 1.2189447201043366 (over last 800 batches)\n",
      "Running average activity prediction loss: 0.41264487098902464 (Cross Entropy over last 800 batches)\n",
      "Running average time till next event prediction loss: 0.3054744535125792 (MAE over last 800 batches)\n",
      "Running average (complete) remaining runtime prediction loss: 0.5008253953233361 (MAE over last 800 batches)\n",
      "------------------------------------------------------------\n"
     ]
    },
    {
     "name": "stderr",
     "output_type": "stream",
     "text": [
      "Batch calculation at epoch 22.: 2401it [06:10,  7.68it/s]"
     ]
    },
    {
     "name": "stdout",
     "output_type": "stream",
     "text": [
      "------------------------------------------------------------\n",
      "Epoch 22, batch 2399:\n",
      "Average original gradient norm: 1.6812481708824634 (over last 800 batches)\n",
      "Average clipped gradient norm: 1.650404856055975 (over last 800 batches)\n",
      "Running average global loss: 1.2150902026891708 (over last 800 batches)\n",
      "Running average activity prediction loss: 0.41428673673421146 (Cross Entropy over last 800 batches)\n",
      "Running average time till next event prediction loss: 0.3042346561141312 (MAE over last 800 batches)\n",
      "Running average (complete) remaining runtime prediction loss: 0.4965688093006611 (MAE over last 800 batches)\n",
      "------------------------------------------------------------\n"
     ]
    },
    {
     "name": "stderr",
     "output_type": "stream",
     "text": [
      "Batch calculation at epoch 22.: 3201it [08:25,  8.25it/s]"
     ]
    },
    {
     "name": "stdout",
     "output_type": "stream",
     "text": [
      "------------------------------------------------------------\n",
      "Epoch 22, batch 3199:\n",
      "Average original gradient norm: 1.6608092734217643 (over last 800 batches)\n",
      "Average clipped gradient norm: 1.6364659886062145 (over last 800 batches)\n",
      "Running average global loss: 1.2113524476438762 (over last 800 batches)\n",
      "Running average activity prediction loss: 0.41429020047187803 (Cross Entropy over last 800 batches)\n",
      "Running average time till next event prediction loss: 0.3026387936063111 (MAE over last 800 batches)\n",
      "Running average (complete) remaining runtime prediction loss: 0.4944234548136592 (MAE over last 800 batches)\n",
      "------------------------------------------------------------\n"
     ]
    },
    {
     "name": "stderr",
     "output_type": "stream",
     "text": [
      "Batch calculation at epoch 22.: 4001it [10:53,  7.61it/s]"
     ]
    },
    {
     "name": "stdout",
     "output_type": "stream",
     "text": [
      "------------------------------------------------------------\n",
      "Epoch 22, batch 3999:\n",
      "Average original gradient norm: 1.6714212319254875 (over last 800 batches)\n",
      "Average clipped gradient norm: 1.6442890572547912 (over last 800 batches)\n",
      "Running average global loss: 1.2164480477571487 (over last 800 batches)\n",
      "Running average activity prediction loss: 0.41334584817290304 (Cross Entropy over last 800 batches)\n",
      "Running average time till next event prediction loss: 0.3052250764332712 (MAE over last 800 batches)\n",
      "Running average (complete) remaining runtime prediction loss: 0.4978771210834384 (MAE over last 800 batches)\n",
      "------------------------------------------------------------\n"
     ]
    },
    {
     "name": "stderr",
     "output_type": "stream",
     "text": [
      "Batch calculation at epoch 22.: 4295it [11:44,  6.09it/s]\n"
     ]
    },
    {
     "name": "stdout",
     "output_type": "stream",
     "text": [
      "=======================================\n",
      "End of epoch 22\n",
      "=======================================\n",
      "Running average global loss: 1.215049470514059 (over last 800 batches)\n",
      "Running average activity prediction loss: 0.41577918980270623 (Cross Entropy over last 800 batches)\n",
      "Running average time till next event prediction loss: 0.3039859222434461 (MAE over last 800 batches)\n",
      "Running average (complete) remaining runtime prediction loss: 0.4952843564748764 (MAE over last 800 batches)\n"
     ]
    },
    {
     "name": "stderr",
     "output_type": "stream",
     "text": [
      "Validation batch calculation: 20it [00:50,  2.53s/it]\n"
     ]
    },
    {
     "name": "stdout",
     "output_type": "stream",
     "text": [
      "Avg MAE TTNE prediction validation set: 0.4626230299472809 (standardized) ; 17040.603125 (minutes)'\n",
      "Avg 1-(normalized) DL distance acitivty suffix prediction validation set: 0.8423970341682434\n",
      "Percentage of suffixes predicted to END: too early - 0.2946304345149415 ; right moment - 0.63230604430107 ; too late - 0.07306352118398858\n",
      "Too early instances - avg amount of events too early: 1.6620419025421143\n",
      "Too late instances - avg amount of events too late: 3.258847236633301\n",
      "Avg absolute amount of events predicted too early / too late: 0.7277909517288208\n",
      "Avg MAE RRT prediction validation set: 0.6093047857284546 (standardized) ; 33235.777083333334 (minutes)'\n",
      " \n",
      "------------------------------------\n",
      "EPOCH 23:\n",
      "____________________________________\n"
     ]
    },
    {
     "name": "stderr",
     "output_type": "stream",
     "text": [
      "Batch calculation at epoch 23.: 801it [02:15,  6.01it/s]"
     ]
    },
    {
     "name": "stdout",
     "output_type": "stream",
     "text": [
      "------------------------------------------------------------\n",
      "Epoch 23, batch 799:\n",
      "Average original gradient norm: 1.6983760723471641 (over last 800 batches)\n",
      "Average clipped gradient norm: 1.6606876608729362 (over last 800 batches)\n",
      "Running average global loss: 1.2117649544775486 (over last 800 batches)\n",
      "Running average activity prediction loss: 0.4132686884701252 (Cross Entropy over last 800 batches)\n",
      "Running average time till next event prediction loss: 0.3022375438734889 (MAE over last 800 batches)\n",
      "Running average (complete) remaining runtime prediction loss: 0.4962587232887745 (MAE over last 800 batches)\n",
      "------------------------------------------------------------\n"
     ]
    },
    {
     "name": "stderr",
     "output_type": "stream",
     "text": [
      "Batch calculation at epoch 23.: 1600it [04:14,  7.58it/s]"
     ]
    },
    {
     "name": "stdout",
     "output_type": "stream",
     "text": [
      "------------------------------------------------------------\n",
      "Epoch 23, batch 1599:\n",
      "Average original gradient norm: 1.7079257342219352 (over last 800 batches)\n",
      "Average clipped gradient norm: 1.6685913509130479 (over last 800 batches)\n",
      "Running average global loss: 1.2125026182085277 (over last 800 batches)\n",
      "Running average activity prediction loss: 0.4121962175145745 (Cross Entropy over last 800 batches)\n",
      "Running average time till next event prediction loss: 0.3042771275155246 (MAE over last 800 batches)\n",
      "Running average (complete) remaining runtime prediction loss: 0.4960292724147439 (MAE over last 800 batches)\n",
      "------------------------------------------------------------\n"
     ]
    },
    {
     "name": "stderr",
     "output_type": "stream",
     "text": [
      "Batch calculation at epoch 23.: 2401it [06:03,  7.55it/s]"
     ]
    },
    {
     "name": "stdout",
     "output_type": "stream",
     "text": [
      "------------------------------------------------------------\n",
      "Epoch 23, batch 2399:\n",
      "Average original gradient norm: 1.6867617109417916 (over last 800 batches)\n",
      "Average clipped gradient norm: 1.6531397534906864 (over last 800 batches)\n",
      "Running average global loss: 1.2122294162213803 (over last 800 batches)\n",
      "Running average activity prediction loss: 0.41257316775619984 (Cross Entropy over last 800 batches)\n",
      "Running average time till next event prediction loss: 0.3032490614056587 (MAE over last 800 batches)\n",
      "Running average (complete) remaining runtime prediction loss: 0.4964071887731552 (MAE over last 800 batches)\n",
      "------------------------------------------------------------\n"
     ]
    },
    {
     "name": "stderr",
     "output_type": "stream",
     "text": [
      "Batch calculation at epoch 23.: 3201it [07:59,  7.53it/s]"
     ]
    },
    {
     "name": "stdout",
     "output_type": "stream",
     "text": [
      "------------------------------------------------------------\n",
      "Epoch 23, batch 3199:\n",
      "Average original gradient norm: 1.646863863915205 (over last 800 batches)\n",
      "Average clipped gradient norm: 1.6254645816981792 (over last 800 batches)\n",
      "Running average global loss: 1.2179928638786077 (over last 800 batches)\n",
      "Running average activity prediction loss: 0.4153330979496241 (Cross Entropy over last 800 batches)\n",
      "Running average time till next event prediction loss: 0.3052662886492908 (MAE over last 800 batches)\n",
      "Running average (complete) remaining runtime prediction loss: 0.49739347834140063 (MAE over last 800 batches)\n",
      "------------------------------------------------------------\n"
     ]
    },
    {
     "name": "stderr",
     "output_type": "stream",
     "text": [
      "Batch calculation at epoch 23.: 4001it [09:47,  5.74it/s]"
     ]
    },
    {
     "name": "stdout",
     "output_type": "stream",
     "text": [
      "------------------------------------------------------------\n",
      "Epoch 23, batch 3999:\n",
      "Average original gradient norm: 1.7058757046610118 (over last 800 batches)\n",
      "Average clipped gradient norm: 1.6665989675372839 (over last 800 batches)\n",
      "Running average global loss: 1.2162647668272257 (over last 800 batches)\n",
      "Running average activity prediction loss: 0.4147528735920787 (Cross Entropy over last 800 batches)\n",
      "Running average time till next event prediction loss: 0.3043645517155528 (MAE over last 800 batches)\n",
      "Running average (complete) remaining runtime prediction loss: 0.4971473402902484 (MAE over last 800 batches)\n",
      "------------------------------------------------------------\n"
     ]
    },
    {
     "name": "stderr",
     "output_type": "stream",
     "text": [
      "Batch calculation at epoch 23.: 4295it [10:31,  6.80it/s]\n"
     ]
    },
    {
     "name": "stdout",
     "output_type": "stream",
     "text": [
      "=======================================\n",
      "End of epoch 23\n",
      "=======================================\n",
      "Running average global loss: 1.2136711037904024 (over last 800 batches)\n",
      "Running average activity prediction loss: 0.41200954299420117 (Cross Entropy over last 800 batches)\n",
      "Running average time till next event prediction loss: 0.3048095131851733 (MAE over last 800 batches)\n",
      "Running average (complete) remaining runtime prediction loss: 0.49685204692184926 (MAE over last 800 batches)\n"
     ]
    },
    {
     "name": "stderr",
     "output_type": "stream",
     "text": [
      "Validation batch calculation: 20it [00:37,  1.88s/it]\n"
     ]
    },
    {
     "name": "stdout",
     "output_type": "stream",
     "text": [
      "Avg MAE TTNE prediction validation set: 0.46401891112327576 (standardized) ; 17119.922916666666 (minutes)'\n",
      "Avg 1-(normalized) DL distance acitivty suffix prediction validation set: 0.84202641248703\n",
      "Percentage of suffixes predicted to END: too early - 0.2941379267887265 ; right moment - 0.6319736015858749 ; too late - 0.07388847162539862\n",
      "Too early instances - avg amount of events too early: 1.660178303718567\n",
      "Too late instances - avg amount of events too late: 3.2801198959350586\n",
      "Avg absolute amount of events predicted too early / too late: 0.7306844592094421\n",
      "Avg MAE RRT prediction validation set: 0.60941082239151 (standardized) ; 33233.777083333334 (minutes)'\n",
      " \n",
      "------------------------------------\n",
      "EPOCH 24:\n",
      "____________________________________\n"
     ]
    },
    {
     "name": "stderr",
     "output_type": "stream",
     "text": [
      "Batch calculation at epoch 24.: 800it [01:54,  5.88it/s]"
     ]
    },
    {
     "name": "stdout",
     "output_type": "stream",
     "text": [
      "------------------------------------------------------------\n",
      "Epoch 24, batch 799:\n",
      "Average original gradient norm: 1.6631607238948345 (over last 800 batches)\n",
      "Average clipped gradient norm: 1.638731211423874 (over last 800 batches)\n",
      "Running average global loss: 1.2138430438935757 (over last 800 batches)\n",
      "Running average activity prediction loss: 0.41337959475815295 (Cross Entropy over last 800 batches)\n",
      "Running average time till next event prediction loss: 0.30409369558095933 (MAE over last 800 batches)\n",
      "Running average (complete) remaining runtime prediction loss: 0.49636975549161433 (MAE over last 800 batches)\n",
      "------------------------------------------------------------\n"
     ]
    },
    {
     "name": "stderr",
     "output_type": "stream",
     "text": [
      "Batch calculation at epoch 24.: 1601it [03:27,  8.49it/s]"
     ]
    },
    {
     "name": "stdout",
     "output_type": "stream",
     "text": [
      "------------------------------------------------------------\n",
      "Epoch 24, batch 1599:\n",
      "Average original gradient norm: 1.7025637911260127 (over last 800 batches)\n",
      "Average clipped gradient norm: 1.6639505098760128 (over last 800 batches)\n",
      "Running average global loss: 1.2102116024494172 (over last 800 batches)\n",
      "Running average activity prediction loss: 0.41045410875231025 (Cross Entropy over last 800 batches)\n",
      "Running average time till next event prediction loss: 0.30385389279574154 (MAE over last 800 batches)\n",
      "Running average (complete) remaining runtime prediction loss: 0.49590359967201947 (MAE over last 800 batches)\n",
      "------------------------------------------------------------\n"
     ]
    },
    {
     "name": "stderr",
     "output_type": "stream",
     "text": [
      "Batch calculation at epoch 24.: 2401it [04:55,  8.91it/s]"
     ]
    },
    {
     "name": "stdout",
     "output_type": "stream",
     "text": [
      "------------------------------------------------------------\n",
      "Epoch 24, batch 2399:\n",
      "Average original gradient norm: 1.679756459221244 (over last 800 batches)\n",
      "Average clipped gradient norm: 1.6477316122502088 (over last 800 batches)\n",
      "Running average global loss: 1.2099798446148633 (over last 800 batches)\n",
      "Running average activity prediction loss: 0.41243300050497056 (Cross Entropy over last 800 batches)\n",
      "Running average time till next event prediction loss: 0.30282551273703573 (MAE over last 800 batches)\n",
      "Running average (complete) remaining runtime prediction loss: 0.4947213339433074 (MAE over last 800 batches)\n",
      "------------------------------------------------------------\n"
     ]
    },
    {
     "name": "stderr",
     "output_type": "stream",
     "text": [
      "Batch calculation at epoch 24.: 3201it [07:03,  5.15it/s]"
     ]
    },
    {
     "name": "stdout",
     "output_type": "stream",
     "text": [
      "------------------------------------------------------------\n",
      "Epoch 24, batch 3199:\n",
      "Average original gradient norm: 1.6849366043508054 (over last 800 batches)\n",
      "Average clipped gradient norm: 1.6531299285590648 (over last 800 batches)\n",
      "Running average global loss: 1.2077170620858668 (over last 800 batches)\n",
      "Running average activity prediction loss: 0.41307829301804305 (Cross Entropy over last 800 batches)\n",
      "Running average time till next event prediction loss: 0.3018148529529572 (MAE over last 800 batches)\n",
      "Running average (complete) remaining runtime prediction loss: 0.4928239138424397 (MAE over last 800 batches)\n",
      "------------------------------------------------------------\n"
     ]
    },
    {
     "name": "stderr",
     "output_type": "stream",
     "text": [
      "Batch calculation at epoch 24.: 4001it [08:34,  7.87it/s]"
     ]
    },
    {
     "name": "stdout",
     "output_type": "stream",
     "text": [
      "------------------------------------------------------------\n",
      "Epoch 24, batch 3999:\n",
      "Average original gradient norm: 1.6791687986254693 (over last 800 batches)\n",
      "Average clipped gradient norm: 1.6496650479733943 (over last 800 batches)\n",
      "Running average global loss: 1.2165406461060047 (over last 800 batches)\n",
      "Running average activity prediction loss: 0.4129300122708082 (Cross Entropy over last 800 batches)\n",
      "Running average time till next event prediction loss: 0.3041035764291882 (MAE over last 800 batches)\n",
      "Running average (complete) remaining runtime prediction loss: 0.4995070584118366 (MAE over last 800 batches)\n",
      "------------------------------------------------------------\n"
     ]
    },
    {
     "name": "stderr",
     "output_type": "stream",
     "text": [
      "Batch calculation at epoch 24.: 4295it [09:14,  7.74it/s]\n"
     ]
    },
    {
     "name": "stdout",
     "output_type": "stream",
     "text": [
      "=======================================\n",
      "End of epoch 24\n",
      "=======================================\n",
      "Running average global loss: 1.2195702612400054 (over last 800 batches)\n",
      "Running average activity prediction loss: 0.414705751799047 (Cross Entropy over last 800 batches)\n",
      "Running average time till next event prediction loss: 0.3050039670243859 (MAE over last 800 batches)\n",
      "Running average (complete) remaining runtime prediction loss: 0.4998605428263545 (MAE over last 800 batches)\n"
     ]
    },
    {
     "name": "stderr",
     "output_type": "stream",
     "text": [
      "Validation batch calculation: 20it [00:32,  1.61s/it]\n"
     ]
    },
    {
     "name": "stdout",
     "output_type": "stream",
     "text": [
      "Avg MAE TTNE prediction validation set: 0.46400415897369385 (standardized) ; 17106.773958333335 (minutes)'\n",
      "Avg 1-(normalized) DL distance acitivty suffix prediction validation set: 0.8414575457572937\n",
      "Percentage of suffixes predicted to END: too early - 0.29222945934964356 ; right moment - 0.6317027223364566 ; too late - 0.0760678183138998\n",
      "Too early instances - avg amount of events too early: 1.6517653465270996\n",
      "Too late instances - avg amount of events too late: 3.4350922107696533\n",
      "Avg absolute amount of events predicted too early / too late: 0.7439944744110107\n",
      "Avg MAE RRT prediction validation set: 0.6058865785598755 (standardized) ; 33051.15416666667 (minutes)'\n",
      " \n",
      "------------------------------------\n",
      "EPOCH 25:\n",
      "____________________________________\n"
     ]
    },
    {
     "name": "stderr",
     "output_type": "stream",
     "text": [
      "Batch calculation at epoch 25.: 801it [01:29,  8.04it/s]"
     ]
    },
    {
     "name": "stdout",
     "output_type": "stream",
     "text": [
      "------------------------------------------------------------\n",
      "Epoch 25, batch 799:\n",
      "Average original gradient norm: 1.672494591474533 (over last 800 batches)\n",
      "Average clipped gradient norm: 1.6408778001368045 (over last 800 batches)\n",
      "Running average global loss: 1.2091953806579112 (over last 800 batches)\n",
      "Running average activity prediction loss: 0.4096780103817582 (Cross Entropy over last 800 batches)\n",
      "Running average time till next event prediction loss: 0.3034194101393223 (MAE over last 800 batches)\n",
      "Running average (complete) remaining runtime prediction loss: 0.49609796073287726 (MAE over last 800 batches)\n",
      "------------------------------------------------------------\n"
     ]
    },
    {
     "name": "stderr",
     "output_type": "stream",
     "text": [
      "Batch calculation at epoch 25.: 1601it [03:10,  7.29it/s]"
     ]
    },
    {
     "name": "stdout",
     "output_type": "stream",
     "text": [
      "------------------------------------------------------------\n",
      "Epoch 25, batch 1599:\n",
      "Average original gradient norm: 1.7363555167615414 (over last 800 batches)\n",
      "Average clipped gradient norm: 1.698075433075428 (over last 800 batches)\n",
      "Running average global loss: 1.2113926232606174 (over last 800 batches)\n",
      "Running average activity prediction loss: 0.4108208452165127 (Cross Entropy over last 800 batches)\n",
      "Running average time till next event prediction loss: 0.3039400157146156 (MAE over last 800 batches)\n",
      "Running average (complete) remaining runtime prediction loss: 0.4966317630186677 (MAE over last 800 batches)\n",
      "------------------------------------------------------------\n"
     ]
    },
    {
     "name": "stderr",
     "output_type": "stream",
     "text": [
      "Batch calculation at epoch 25.: 2401it [04:57, 10.52it/s]"
     ]
    },
    {
     "name": "stdout",
     "output_type": "stream",
     "text": [
      "------------------------------------------------------------\n",
      "Epoch 25, batch 2399:\n",
      "Average original gradient norm: 1.7009526272118092 (over last 800 batches)\n",
      "Average clipped gradient norm: 1.661110105663538 (over last 800 batches)\n",
      "Running average global loss: 1.2116387604922056 (over last 800 batches)\n",
      "Running average activity prediction loss: 0.4132666202634573 (Cross Entropy over last 800 batches)\n",
      "Running average time till next event prediction loss: 0.3022684731334448 (MAE over last 800 batches)\n",
      "Running average (complete) remaining runtime prediction loss: 0.4961036667227745 (MAE over last 800 batches)\n",
      "------------------------------------------------------------\n"
     ]
    },
    {
     "name": "stderr",
     "output_type": "stream",
     "text": [
      "Batch calculation at epoch 25.: 3201it [06:58,  5.71it/s]"
     ]
    },
    {
     "name": "stdout",
     "output_type": "stream",
     "text": [
      "------------------------------------------------------------\n",
      "Epoch 25, batch 3199:\n",
      "Average original gradient norm: 1.6592343071103095 (over last 800 batches)\n",
      "Average clipped gradient norm: 1.6305522681772708 (over last 800 batches)\n",
      "Running average global loss: 1.210492586940527 (over last 800 batches)\n",
      "Running average activity prediction loss: 0.4114678227156401 (Cross Entropy over last 800 batches)\n",
      "Running average time till next event prediction loss: 0.30397147973999383 (MAE over last 800 batches)\n",
      "Running average (complete) remaining runtime prediction loss: 0.49505328472703697 (MAE over last 800 batches)\n",
      "------------------------------------------------------------\n"
     ]
    },
    {
     "name": "stderr",
     "output_type": "stream",
     "text": [
      "Batch calculation at epoch 25.: 4001it [08:16,  9.33it/s]"
     ]
    },
    {
     "name": "stdout",
     "output_type": "stream",
     "text": [
      "------------------------------------------------------------\n",
      "Epoch 25, batch 3999:\n",
      "Average original gradient norm: 1.6976671984791756 (over last 800 batches)\n",
      "Average clipped gradient norm: 1.6664316542446613 (over last 800 batches)\n",
      "Running average global loss: 1.2096961621940137 (over last 800 batches)\n",
      "Running average activity prediction loss: 0.4140873213857412 (Cross Entropy over last 800 batches)\n",
      "Running average time till next event prediction loss: 0.30168588845059274 (MAE over last 800 batches)\n",
      "Running average (complete) remaining runtime prediction loss: 0.4939229527488351 (MAE over last 800 batches)\n",
      "------------------------------------------------------------\n"
     ]
    },
    {
     "name": "stderr",
     "output_type": "stream",
     "text": [
      "Batch calculation at epoch 25.: 4295it [08:47,  8.14it/s]\n"
     ]
    },
    {
     "name": "stdout",
     "output_type": "stream",
     "text": [
      "=======================================\n",
      "End of epoch 25\n",
      "=======================================\n",
      "Running average global loss: 1.2069625455141066 (over last 800 batches)\n",
      "Running average activity prediction loss: 0.4117205134779215 (Cross Entropy over last 800 batches)\n",
      "Running average time till next event prediction loss: 0.3024965894781053 (MAE over last 800 batches)\n",
      "Running average (complete) remaining runtime prediction loss: 0.49274544287472966 (MAE over last 800 batches)\n"
     ]
    },
    {
     "name": "stderr",
     "output_type": "stream",
     "text": [
      "Validation batch calculation: 20it [00:32,  1.63s/it]\n"
     ]
    },
    {
     "name": "stdout",
     "output_type": "stream",
     "text": [
      "Avg MAE TTNE prediction validation set: 0.46376582980155945 (standardized) ; 17101.742708333335 (minutes)'\n",
      "Avg 1-(normalized) DL distance acitivty suffix prediction validation set: 0.8424558043479919\n",
      "Percentage of suffixes predicted to END: too early - 0.2965758400334905 ; right moment - 0.6323429823805361 ; too late - 0.07108117758597338\n",
      "Too early instances - avg amount of events too early: 1.6842695474624634\n",
      "Too late instances - avg amount of events too late: 3.156764268875122\n",
      "Avg absolute amount of events predicted too early / too late: 0.7239001393318176\n",
      "Avg MAE RRT prediction validation set: 0.6105940341949463 (standardized) ; 33308.19583333333 (minutes)'\n",
      " \n",
      "------------------------------------\n",
      "EPOCH 26:\n",
      "____________________________________\n"
     ]
    },
    {
     "name": "stderr",
     "output_type": "stream",
     "text": [
      "Batch calculation at epoch 26.: 801it [01:23, 10.59it/s]"
     ]
    },
    {
     "name": "stdout",
     "output_type": "stream",
     "text": [
      "------------------------------------------------------------\n",
      "Epoch 26, batch 799:\n",
      "Average original gradient norm: 1.6593638306856155 (over last 800 batches)\n",
      "Average clipped gradient norm: 1.6356414783000945 (over last 800 batches)\n",
      "Running average global loss: 1.2091109853237867 (over last 800 batches)\n",
      "Running average activity prediction loss: 0.4111399557068944 (Cross Entropy over last 800 batches)\n",
      "Running average time till next event prediction loss: 0.30197365749627353 (MAE over last 800 batches)\n",
      "Running average (complete) remaining runtime prediction loss: 0.4959973703697324 (MAE over last 800 batches)\n",
      "------------------------------------------------------------\n"
     ]
    },
    {
     "name": "stderr",
     "output_type": "stream",
     "text": [
      "Batch calculation at epoch 26.: 1600it [03:03,  5.86it/s]"
     ]
    },
    {
     "name": "stdout",
     "output_type": "stream",
     "text": [
      "------------------------------------------------------------\n",
      "Epoch 26, batch 1599:\n",
      "Average original gradient norm: 1.720232199281454 (over last 800 batches)\n",
      "Average clipped gradient norm: 1.6795394152402878 (over last 800 batches)\n",
      "Running average global loss: 1.210933885127306 (over last 800 batches)\n",
      "Running average activity prediction loss: 0.41177277721464633 (Cross Entropy over last 800 batches)\n",
      "Running average time till next event prediction loss: 0.3031817142665386 (MAE over last 800 batches)\n",
      "Running average (complete) remaining runtime prediction loss: 0.49597939316183326 (MAE over last 800 batches)\n",
      "------------------------------------------------------------\n"
     ]
    },
    {
     "name": "stderr",
     "output_type": "stream",
     "text": [
      "Batch calculation at epoch 26.: 2402it [04:55, 11.51it/s]"
     ]
    },
    {
     "name": "stdout",
     "output_type": "stream",
     "text": [
      "------------------------------------------------------------\n",
      "Epoch 26, batch 2399:\n",
      "Average original gradient norm: 1.6681395166367292 (over last 800 batches)\n",
      "Average clipped gradient norm: 1.6399353151768445 (over last 800 batches)\n",
      "Running average global loss: 1.2077181024849415 (over last 800 batches)\n",
      "Running average activity prediction loss: 0.4084545795246959 (Cross Entropy over last 800 batches)\n",
      "Running average time till next event prediction loss: 0.303171008490026 (MAE over last 800 batches)\n",
      "Running average (complete) remaining runtime prediction loss: 0.49609251253306863 (MAE over last 800 batches)\n",
      "------------------------------------------------------------\n"
     ]
    },
    {
     "name": "stderr",
     "output_type": "stream",
     "text": [
      "Batch calculation at epoch 26.: 3201it [06:46, 10.74it/s]"
     ]
    },
    {
     "name": "stdout",
     "output_type": "stream",
     "text": [
      "------------------------------------------------------------\n",
      "Epoch 26, batch 3199:\n",
      "Average original gradient norm: 1.7200675737857818 (over last 800 batches)\n",
      "Average clipped gradient norm: 1.6808347390592098 (over last 800 batches)\n",
      "Running average global loss: 1.2087115698307753 (over last 800 batches)\n",
      "Running average activity prediction loss: 0.41119271457195283 (Cross Entropy over last 800 batches)\n",
      "Running average time till next event prediction loss: 0.3024486596137285 (MAE over last 800 batches)\n",
      "Running average (complete) remaining runtime prediction loss: 0.49507019590586426 (MAE over last 800 batches)\n",
      "------------------------------------------------------------\n"
     ]
    },
    {
     "name": "stderr",
     "output_type": "stream",
     "text": [
      "Batch calculation at epoch 26.: 4001it [08:26,  7.69it/s]"
     ]
    },
    {
     "name": "stdout",
     "output_type": "stream",
     "text": [
      "------------------------------------------------------------\n",
      "Epoch 26, batch 3999:\n",
      "Average original gradient norm: 1.6706923238933087 (over last 800 batches)\n",
      "Average clipped gradient norm: 1.639366077631712 (over last 800 batches)\n",
      "Running average global loss: 1.2100672149658203 (over last 800 batches)\n",
      "Running average activity prediction loss: 0.4124261663109064 (Cross Entropy over last 800 batches)\n",
      "Running average time till next event prediction loss: 0.3027118050865829 (MAE over last 800 batches)\n",
      "Running average (complete) remaining runtime prediction loss: 0.49492924604564903 (MAE over last 800 batches)\n",
      "------------------------------------------------------------\n"
     ]
    },
    {
     "name": "stderr",
     "output_type": "stream",
     "text": [
      "Batch calculation at epoch 26.: 4295it [09:07,  7.85it/s]\n"
     ]
    },
    {
     "name": "stdout",
     "output_type": "stream",
     "text": [
      "=======================================\n",
      "End of epoch 26\n",
      "=======================================\n",
      "Running average global loss: 1.208423401862383 (over last 800 batches)\n",
      "Running average activity prediction loss: 0.4122148562595248 (Cross Entropy over last 800 batches)\n",
      "Running average time till next event prediction loss: 0.3022720556333661 (MAE over last 800 batches)\n",
      "Running average (complete) remaining runtime prediction loss: 0.4939364933222532 (MAE over last 800 batches)\n"
     ]
    },
    {
     "name": "stderr",
     "output_type": "stream",
     "text": [
      "Validation batch calculation: 20it [00:45,  2.28s/it]\n"
     ]
    },
    {
     "name": "stdout",
     "output_type": "stream",
     "text": [
      "Avg MAE TTNE prediction validation set: 0.47026175260543823 (standardized) ; 17328.121875 (minutes)'\n",
      "Avg 1-(normalized) DL distance acitivty suffix prediction validation set: 0.84173583984375\n",
      "Percentage of suffixes predicted to END: too early - 0.2923033355085758 ; right moment - 0.6319982269721857 ; too late - 0.07569843751923859\n",
      "Too early instances - avg amount of events too early: 1.6408171653747559\n",
      "Too late instances - avg amount of events too late: 3.3693883419036865\n",
      "Avg absolute amount of events predicted too early / too late: 0.734673798084259\n",
      "Avg MAE RRT prediction validation set: 0.6092694997787476 (standardized) ; 33243.427083333336 (minutes)'\n",
      " \n",
      "------------------------------------\n",
      "EPOCH 27:\n",
      "____________________________________\n"
     ]
    },
    {
     "name": "stderr",
     "output_type": "stream",
     "text": [
      "Batch calculation at epoch 27.: 800it [02:14,  5.60it/s]"
     ]
    },
    {
     "name": "stdout",
     "output_type": "stream",
     "text": [
      "------------------------------------------------------------\n",
      "Epoch 27, batch 799:\n",
      "Average original gradient norm: 1.6822765311598777 (over last 800 batches)\n",
      "Average clipped gradient norm: 1.649160212725401 (over last 800 batches)\n",
      "Running average global loss: 1.2073622029274702 (over last 800 batches)\n",
      "Running average activity prediction loss: 0.4114253732189536 (Cross Entropy over last 800 batches)\n",
      "Running average time till next event prediction loss: 0.3023807307891548 (MAE over last 800 batches)\n",
      "Running average (complete) remaining runtime prediction loss: 0.4935561007633805 (MAE over last 800 batches)\n",
      "------------------------------------------------------------\n"
     ]
    },
    {
     "name": "stderr",
     "output_type": "stream",
     "text": [
      "Batch calculation at epoch 27.: 1600it [04:50,  3.33it/s]"
     ]
    },
    {
     "name": "stdout",
     "output_type": "stream",
     "text": [
      "------------------------------------------------------------\n",
      "Epoch 27, batch 1599:\n",
      "Average original gradient norm: 1.6798977890610696 (over last 800 batches)\n",
      "Average clipped gradient norm: 1.6553116938471795 (over last 800 batches)\n",
      "Running average global loss: 1.2097520687431098 (over last 800 batches)\n",
      "Running average activity prediction loss: 0.4118355929851532 (Cross Entropy over last 800 batches)\n",
      "Running average time till next event prediction loss: 0.3025349829904735 (MAE over last 800 batches)\n",
      "Running average (complete) remaining runtime prediction loss: 0.4953814931586385 (MAE over last 800 batches)\n",
      "------------------------------------------------------------\n"
     ]
    },
    {
     "name": "stderr",
     "output_type": "stream",
     "text": [
      "Batch calculation at epoch 27.: 2400it [07:11,  2.76it/s]"
     ]
    },
    {
     "name": "stdout",
     "output_type": "stream",
     "text": [
      "------------------------------------------------------------\n",
      "Epoch 27, batch 2399:\n",
      "Average original gradient norm: 1.6919697623699903 (over last 800 batches)\n",
      "Average clipped gradient norm: 1.662187585607171 (over last 800 batches)\n",
      "Running average global loss: 1.2089891776442527 (over last 800 batches)\n",
      "Running average activity prediction loss: 0.41214772380888465 (Cross Entropy over last 800 batches)\n",
      "Running average time till next event prediction loss: 0.30198687117546796 (MAE over last 800 batches)\n",
      "Running average (complete) remaining runtime prediction loss: 0.4948545829579234 (MAE over last 800 batches)\n",
      "------------------------------------------------------------\n"
     ]
    },
    {
     "name": "stderr",
     "output_type": "stream",
     "text": [
      "Batch calculation at epoch 27.: 3200it [09:05, 10.14it/s]"
     ]
    },
    {
     "name": "stdout",
     "output_type": "stream",
     "text": [
      "------------------------------------------------------------\n",
      "Epoch 27, batch 3199:\n",
      "Average original gradient norm: 1.7307591131329536 (over last 800 batches)\n",
      "Average clipped gradient norm: 1.6872857210040093 (over last 800 batches)\n",
      "Running average global loss: 1.2022691430151462 (over last 800 batches)\n",
      "Running average activity prediction loss: 0.40768842546269296 (Cross Entropy over last 800 batches)\n",
      "Running average time till next event prediction loss: 0.3017453574948013 (MAE over last 800 batches)\n",
      "Running average (complete) remaining runtime prediction loss: 0.4928353614732623 (MAE over last 800 batches)\n",
      "------------------------------------------------------------\n"
     ]
    },
    {
     "name": "stderr",
     "output_type": "stream",
     "text": [
      "Batch calculation at epoch 27.: 4001it [11:02,  7.34it/s]"
     ]
    },
    {
     "name": "stdout",
     "output_type": "stream",
     "text": [
      "------------------------------------------------------------\n",
      "Epoch 27, batch 3999:\n",
      "Average original gradient norm: 1.6521019420027734 (over last 800 batches)\n",
      "Average clipped gradient norm: 1.634157031327486 (over last 800 batches)\n",
      "Running average global loss: 1.2057566384971141 (over last 800 batches)\n",
      "Running average activity prediction loss: 0.4061542375385761 (Cross Entropy over last 800 batches)\n",
      "Running average time till next event prediction loss: 0.3024635718762875 (MAE over last 800 batches)\n",
      "Running average (complete) remaining runtime prediction loss: 0.4971388278156519 (MAE over last 800 batches)\n",
      "------------------------------------------------------------\n"
     ]
    },
    {
     "name": "stderr",
     "output_type": "stream",
     "text": [
      "Batch calculation at epoch 27.: 4295it [11:45,  6.09it/s]\n"
     ]
    },
    {
     "name": "stdout",
     "output_type": "stream",
     "text": [
      "=======================================\n",
      "End of epoch 27\n",
      "=======================================\n",
      "Running average global loss: 1.2125674495100975 (over last 800 batches)\n",
      "Running average activity prediction loss: 0.4106714478507638 (Cross Entropy over last 800 batches)\n",
      "Running average time till next event prediction loss: 0.30302305724471806 (MAE over last 800 batches)\n",
      "Running average (complete) remaining runtime prediction loss: 0.4988729416579008 (MAE over last 800 batches)\n"
     ]
    },
    {
     "name": "stderr",
     "output_type": "stream",
     "text": [
      "Validation batch calculation: 20it [00:46,  2.33s/it]\n"
     ]
    },
    {
     "name": "stdout",
     "output_type": "stream",
     "text": [
      "Avg MAE TTNE prediction validation set: 0.46587347984313965 (standardized) ; 17170.509375 (minutes)'\n",
      "Avg 1-(normalized) DL distance acitivty suffix prediction validation set: 0.8421368598937988\n",
      "Percentage of suffixes predicted to END: too early - 0.29567701343314823 ; right moment - 0.6321213539037394 ; too late - 0.0722016326631124\n",
      "Too early instances - avg amount of events too early: 1.667777180671692\n",
      "Too late instances - avg amount of events too late: 3.2604024410247803\n",
      "Avg absolute amount of events predicted too early / too late: 0.7285297513008118\n",
      "Avg MAE RRT prediction validation set: 0.6060503721237183 (standardized) ; 33063.9875 (minutes)'\n",
      " \n",
      "------------------------------------\n",
      "EPOCH 28:\n",
      "____________________________________\n"
     ]
    },
    {
     "name": "stderr",
     "output_type": "stream",
     "text": [
      "Batch calculation at epoch 28.: 800it [03:15,  4.32it/s]"
     ]
    },
    {
     "name": "stdout",
     "output_type": "stream",
     "text": [
      "------------------------------------------------------------\n",
      "Epoch 28, batch 799:\n",
      "Average original gradient norm: 1.6867448477447033 (over last 800 batches)\n",
      "Average clipped gradient norm: 1.6534363885223866 (over last 800 batches)\n",
      "Running average global loss: 1.2038137620687486 (over last 800 batches)\n",
      "Running average activity prediction loss: 0.40780757620930674 (Cross Entropy over last 800 batches)\n",
      "Running average time till next event prediction loss: 0.3026747823879123 (MAE over last 800 batches)\n",
      "Running average (complete) remaining runtime prediction loss: 0.4933314035460353 (MAE over last 800 batches)\n",
      "------------------------------------------------------------\n"
     ]
    },
    {
     "name": "stderr",
     "output_type": "stream",
     "text": [
      "Batch calculation at epoch 28.: 1600it [05:16,  3.83it/s]"
     ]
    },
    {
     "name": "stdout",
     "output_type": "stream",
     "text": [
      "------------------------------------------------------------\n",
      "Epoch 28, batch 1599:\n",
      "Average original gradient norm: 1.7314438283443452 (over last 800 batches)\n",
      "Average clipped gradient norm: 1.6934563365578652 (over last 800 batches)\n",
      "Running average global loss: 1.2062532032281161 (over last 800 batches)\n",
      "Running average activity prediction loss: 0.40949669625610113 (Cross Entropy over last 800 batches)\n",
      "Running average time till next event prediction loss: 0.30183512343093755 (MAE over last 800 batches)\n",
      "Running average (complete) remaining runtime prediction loss: 0.494921384267509 (MAE over last 800 batches)\n",
      "------------------------------------------------------------\n"
     ]
    },
    {
     "name": "stderr",
     "output_type": "stream",
     "text": [
      "Batch calculation at epoch 28.: 2401it [07:13,  7.29it/s]"
     ]
    },
    {
     "name": "stdout",
     "output_type": "stream",
     "text": [
      "------------------------------------------------------------\n",
      "Epoch 28, batch 2399:\n",
      "Average original gradient norm: 1.6992792108654975 (over last 800 batches)\n",
      "Average clipped gradient norm: 1.667529633641243 (over last 800 batches)\n",
      "Running average global loss: 1.2103030886501074 (over last 800 batches)\n",
      "Running average activity prediction loss: 0.41199208788573743 (Cross Entropy over last 800 batches)\n",
      "Running average time till next event prediction loss: 0.3011694202385843 (MAE over last 800 batches)\n",
      "Running average (complete) remaining runtime prediction loss: 0.4971415798738599 (MAE over last 800 batches)\n",
      "------------------------------------------------------------\n"
     ]
    },
    {
     "name": "stderr",
     "output_type": "stream",
     "text": [
      "Batch calculation at epoch 28.: 3200it [08:58,  3.66it/s]"
     ]
    },
    {
     "name": "stdout",
     "output_type": "stream",
     "text": [
      "------------------------------------------------------------\n",
      "Epoch 28, batch 3199:\n",
      "Average original gradient norm: 1.6781215238571168 (over last 800 batches)\n",
      "Average clipped gradient norm: 1.653454855978489 (over last 800 batches)\n",
      "Running average global loss: 1.205637298822403 (over last 800 batches)\n",
      "Running average activity prediction loss: 0.4102027985826135 (Cross Entropy over last 800 batches)\n",
      "Running average time till next event prediction loss: 0.3012506357207894 (MAE over last 800 batches)\n",
      "Running average (complete) remaining runtime prediction loss: 0.4941838644072413 (MAE over last 800 batches)\n",
      "------------------------------------------------------------\n"
     ]
    },
    {
     "name": "stderr",
     "output_type": "stream",
     "text": [
      "Batch calculation at epoch 28.: 4001it [10:43,  7.91it/s]"
     ]
    },
    {
     "name": "stdout",
     "output_type": "stream",
     "text": [
      "------------------------------------------------------------\n",
      "Epoch 28, batch 3999:\n",
      "Average original gradient norm: 1.7271771888434886 (over last 800 batches)\n",
      "Average clipped gradient norm: 1.686840312331915 (over last 800 batches)\n",
      "Running average global loss: 1.2068757274001838 (over last 800 batches)\n",
      "Running average activity prediction loss: 0.40843707256019113 (Cross Entropy over last 800 batches)\n",
      "Running average time till next event prediction loss: 0.3031758201122284 (MAE over last 800 batches)\n",
      "Running average (complete) remaining runtime prediction loss: 0.4952628319710493 (MAE over last 800 batches)\n",
      "------------------------------------------------------------\n"
     ]
    },
    {
     "name": "stderr",
     "output_type": "stream",
     "text": [
      "Batch calculation at epoch 28.: 4295it [11:32,  6.20it/s]\n"
     ]
    },
    {
     "name": "stdout",
     "output_type": "stream",
     "text": [
      "=======================================\n",
      "End of epoch 28\n",
      "=======================================\n",
      "Running average global loss: 1.2089819221943616 (over last 800 batches)\n",
      "Running average activity prediction loss: 0.4103893433511257 (Cross Entropy over last 800 batches)\n",
      "Running average time till next event prediction loss: 0.30334608467295765 (MAE over last 800 batches)\n",
      "Running average (complete) remaining runtime prediction loss: 0.4952464940398931 (MAE over last 800 batches)\n"
     ]
    },
    {
     "name": "stderr",
     "output_type": "stream",
     "text": [
      "Validation batch calculation: 20it [00:53,  2.69s/it]\n"
     ]
    },
    {
     "name": "stdout",
     "output_type": "stream",
     "text": [
      "Avg MAE TTNE prediction validation set: 0.4652404487133026 (standardized) ; 17147.61875 (minutes)'\n",
      "Avg 1-(normalized) DL distance acitivty suffix prediction validation set: 0.8419907093048096\n",
      "Percentage of suffixes predicted to END: too early - 0.29401479985717277 ; right moment - 0.6315795954049029 ; too late - 0.07440560473792433\n",
      "Too early instances - avg amount of events too early: 1.6600779294967651\n",
      "Too late instances - avg amount of events too late: 3.223233461380005\n",
      "Avg absolute amount of events predicted too early / too late: 0.7279140949249268\n",
      "Avg MAE RRT prediction validation set: 0.606681764125824 (standardized) ; 33100.46875 (minutes)'\n",
      " \n",
      "------------------------------------\n",
      "EPOCH 29:\n",
      "____________________________________\n"
     ]
    },
    {
     "name": "stderr",
     "output_type": "stream",
     "text": [
      "Batch calculation at epoch 29.: 801it [01:39,  8.55it/s]"
     ]
    },
    {
     "name": "stdout",
     "output_type": "stream",
     "text": [
      "------------------------------------------------------------\n",
      "Epoch 29, batch 799:\n",
      "Average original gradient norm: 1.6699010479450225 (over last 800 batches)\n",
      "Average clipped gradient norm: 1.6482472829520702 (over last 800 batches)\n",
      "Running average global loss: 1.203492764979601 (over last 800 batches)\n",
      "Running average activity prediction loss: 0.40885016195476054 (Cross Entropy over last 800 batches)\n",
      "Running average time till next event prediction loss: 0.3008377164229751 (MAE over last 800 batches)\n",
      "Running average (complete) remaining runtime prediction loss: 0.4938048875704408 (MAE over last 800 batches)\n",
      "------------------------------------------------------------\n"
     ]
    },
    {
     "name": "stderr",
     "output_type": "stream",
     "text": [
      "Batch calculation at epoch 29.: 1601it [03:15,  8.54it/s]"
     ]
    },
    {
     "name": "stdout",
     "output_type": "stream",
     "text": [
      "------------------------------------------------------------\n",
      "Epoch 29, batch 1599:\n",
      "Average original gradient norm: 1.72002788990736 (over last 800 batches)\n",
      "Average clipped gradient norm: 1.677939965724945 (over last 800 batches)\n",
      "Running average global loss: 1.2099968264251948 (over last 800 batches)\n",
      "Running average activity prediction loss: 0.412706764601171 (Cross Entropy over last 800 batches)\n",
      "Running average time till next event prediction loss: 0.30216596322134137 (MAE over last 800 batches)\n",
      "Running average (complete) remaining runtime prediction loss: 0.4951240963116288 (MAE over last 800 batches)\n",
      "------------------------------------------------------------\n"
     ]
    },
    {
     "name": "stderr",
     "output_type": "stream",
     "text": [
      "Batch calculation at epoch 29.: 2401it [05:15,  7.10it/s]"
     ]
    },
    {
     "name": "stdout",
     "output_type": "stream",
     "text": [
      "------------------------------------------------------------\n",
      "Epoch 29, batch 2399:\n",
      "Average original gradient norm: 1.6932062090933322 (over last 800 batches)\n",
      "Average clipped gradient norm: 1.6591344438493252 (over last 800 batches)\n",
      "Running average global loss: 1.2015585981309413 (over last 800 batches)\n",
      "Running average activity prediction loss: 0.40707495413720607 (Cross Entropy over last 800 batches)\n",
      "Running average time till next event prediction loss: 0.3013003443740308 (MAE over last 800 batches)\n",
      "Running average (complete) remaining runtime prediction loss: 0.49318330362439156 (MAE over last 800 batches)\n",
      "------------------------------------------------------------\n"
     ]
    },
    {
     "name": "stderr",
     "output_type": "stream",
     "text": [
      "Batch calculation at epoch 29.: 3202it [06:50, 12.25it/s]"
     ]
    },
    {
     "name": "stdout",
     "output_type": "stream",
     "text": [
      "------------------------------------------------------------\n",
      "Epoch 29, batch 3199:\n",
      "Average original gradient norm: 1.6886423321068287 (over last 800 batches)\n",
      "Average clipped gradient norm: 1.662041755914688 (over last 800 batches)\n",
      "Running average global loss: 1.2024600530415774 (over last 800 batches)\n",
      "Running average activity prediction loss: 0.40600627709180115 (Cross Entropy over last 800 batches)\n",
      "Running average time till next event prediction loss: 0.3030516340583563 (MAE over last 800 batches)\n",
      "Running average (complete) remaining runtime prediction loss: 0.49340214222669604 (MAE over last 800 batches)\n",
      "------------------------------------------------------------\n"
     ]
    },
    {
     "name": "stderr",
     "output_type": "stream",
     "text": [
      "Batch calculation at epoch 29.: 4002it [08:05, 11.09it/s]"
     ]
    },
    {
     "name": "stdout",
     "output_type": "stream",
     "text": [
      "------------------------------------------------------------\n",
      "Epoch 29, batch 3999:\n",
      "Average original gradient norm: 1.6628708070516587 (over last 800 batches)\n",
      "Average clipped gradient norm: 1.6378149484097957 (over last 800 batches)\n",
      "Running average global loss: 1.2076881958544254 (over last 800 batches)\n",
      "Running average activity prediction loss: 0.41124666094779966 (Cross Entropy over last 800 batches)\n",
      "Running average time till next event prediction loss: 0.3014966684021056 (MAE over last 800 batches)\n",
      "Running average (complete) remaining runtime prediction loss: 0.49494486723095177 (MAE over last 800 batches)\n",
      "------------------------------------------------------------\n"
     ]
    },
    {
     "name": "stderr",
     "output_type": "stream",
     "text": [
      "Batch calculation at epoch 29.: 4295it [08:37,  8.30it/s]\n"
     ]
    },
    {
     "name": "stdout",
     "output_type": "stream",
     "text": [
      "=======================================\n",
      "End of epoch 29\n",
      "=======================================\n",
      "Running average global loss: 1.2068714139610528 (over last 800 batches)\n",
      "Running average activity prediction loss: 0.41044912062585354 (Cross Entropy over last 800 batches)\n",
      "Running average time till next event prediction loss: 0.30131899122148753 (MAE over last 800 batches)\n",
      "Running average (complete) remaining runtime prediction loss: 0.49510330356657506 (MAE over last 800 batches)\n"
     ]
    },
    {
     "name": "stderr",
     "output_type": "stream",
     "text": [
      "Validation batch calculation: 20it [00:31,  1.59s/it]\n"
     ]
    },
    {
     "name": "stdout",
     "output_type": "stream",
     "text": [
      "Avg MAE TTNE prediction validation set: 0.46525487303733826 (standardized) ; 17154.738541666666 (minutes)'\n",
      "Avg 1-(normalized) DL distance acitivty suffix prediction validation set: 0.8422220945358276\n",
      "Percentage of suffixes predicted to END: too early - 0.29405173793663886 ; right moment - 0.632010539665341 ; too late - 0.07393772239802011\n",
      "Too early instances - avg amount of events too early: 1.649150013923645\n",
      "Too late instances - avg amount of events too late: 3.2629475593566895\n",
      "Avg absolute amount of events predicted too early / too late: 0.7261903285980225\n",
      "Avg MAE RRT prediction validation set: 0.6076046228408813 (standardized) ; 33144.65833333333 (minutes)'\n",
      " \n",
      "------------------------------------\n",
      "EPOCH 30:\n",
      "____________________________________\n"
     ]
    },
    {
     "name": "stderr",
     "output_type": "stream",
     "text": [
      "Batch calculation at epoch 30.: 802it [01:22, 10.90it/s]"
     ]
    },
    {
     "name": "stdout",
     "output_type": "stream",
     "text": [
      "------------------------------------------------------------\n",
      "Epoch 30, batch 799:\n",
      "Average original gradient norm: 1.6902677769958974 (over last 800 batches)\n",
      "Average clipped gradient norm: 1.6588778565824032 (over last 800 batches)\n",
      "Running average global loss: 1.2059255051612854 (over last 800 batches)\n",
      "Running average activity prediction loss: 0.4069336211308837 (Cross Entropy over last 800 batches)\n",
      "Running average time till next event prediction loss: 0.30104296369478106 (MAE over last 800 batches)\n",
      "Running average (complete) remaining runtime prediction loss: 0.4979489203542471 (MAE over last 800 batches)\n",
      "------------------------------------------------------------\n"
     ]
    },
    {
     "name": "stderr",
     "output_type": "stream",
     "text": [
      "Batch calculation at epoch 30.: 1602it [03:12, 10.16it/s]"
     ]
    },
    {
     "name": "stdout",
     "output_type": "stream",
     "text": [
      "------------------------------------------------------------\n",
      "Epoch 30, batch 1599:\n",
      "Average original gradient norm: 1.6977944126725197 (over last 800 batches)\n",
      "Average clipped gradient norm: 1.6687340386211873 (over last 800 batches)\n",
      "Running average global loss: 1.2029798287898301 (over last 800 batches)\n",
      "Running average activity prediction loss: 0.4086255068331957 (Cross Entropy over last 800 batches)\n",
      "Running average time till next event prediction loss: 0.30088780881837013 (MAE over last 800 batches)\n",
      "Running average (complete) remaining runtime prediction loss: 0.49346651319414375 (MAE over last 800 batches)\n",
      "------------------------------------------------------------\n"
     ]
    },
    {
     "name": "stderr",
     "output_type": "stream",
     "text": [
      "Batch calculation at epoch 30.: 2401it [04:30, 11.55it/s]"
     ]
    },
    {
     "name": "stdout",
     "output_type": "stream",
     "text": [
      "------------------------------------------------------------\n",
      "Epoch 30, batch 2399:\n",
      "Average original gradient norm: 1.6860946947336197 (over last 800 batches)\n",
      "Average clipped gradient norm: 1.6612860657274724 (over last 800 batches)\n",
      "Running average global loss: 1.2065071977674962 (over last 800 batches)\n",
      "Running average activity prediction loss: 0.4099881663545966 (Cross Entropy over last 800 batches)\n",
      "Running average time till next event prediction loss: 0.3017928382195532 (MAE over last 800 batches)\n",
      "Running average (complete) remaining runtime prediction loss: 0.49472619105130433 (MAE over last 800 batches)\n",
      "------------------------------------------------------------\n"
     ]
    },
    {
     "name": "stderr",
     "output_type": "stream",
     "text": [
      "Batch calculation at epoch 30.: 3202it [06:22, 10.11it/s]"
     ]
    },
    {
     "name": "stdout",
     "output_type": "stream",
     "text": [
      "------------------------------------------------------------\n",
      "Epoch 30, batch 3199:\n",
      "Average original gradient norm: 1.7073448267579079 (over last 800 batches)\n",
      "Average clipped gradient norm: 1.6751795548200608 (over last 800 batches)\n",
      "Running average global loss: 1.2026565946638583 (over last 800 batches)\n",
      "Running average activity prediction loss: 0.4061633672565222 (Cross Entropy over last 800 batches)\n",
      "Running average time till next event prediction loss: 0.3031781396269798 (MAE over last 800 batches)\n",
      "Running average (complete) remaining runtime prediction loss: 0.4933150898292661 (MAE over last 800 batches)\n",
      "------------------------------------------------------------\n"
     ]
    },
    {
     "name": "stderr",
     "output_type": "stream",
     "text": [
      "Batch calculation at epoch 30.: 4002it [07:51, 10.46it/s]"
     ]
    },
    {
     "name": "stdout",
     "output_type": "stream",
     "text": [
      "------------------------------------------------------------\n",
      "Epoch 30, batch 3999:\n",
      "Average original gradient norm: 1.6983174477517604 (over last 800 batches)\n",
      "Average clipped gradient norm: 1.6696059884130954 (over last 800 batches)\n",
      "Running average global loss: 1.2008433973044157 (over last 800 batches)\n",
      "Running average activity prediction loss: 0.40915696423500775 (Cross Entropy over last 800 batches)\n",
      "Running average time till next event prediction loss: 0.3004325518757105 (MAE over last 800 batches)\n",
      "Running average (complete) remaining runtime prediction loss: 0.4912538828700781 (MAE over last 800 batches)\n",
      "------------------------------------------------------------\n"
     ]
    },
    {
     "name": "stderr",
     "output_type": "stream",
     "text": [
      "Batch calculation at epoch 30.: 4295it [08:28,  8.45it/s]\n"
     ]
    },
    {
     "name": "stdout",
     "output_type": "stream",
     "text": [
      "=======================================\n",
      "End of epoch 30\n",
      "=======================================\n",
      "Running average global loss: 1.20659697458148 (over last 800 batches)\n",
      "Running average activity prediction loss: 0.411379725523293 (Cross Entropy over last 800 batches)\n",
      "Running average time till next event prediction loss: 0.30113666815683243 (MAE over last 800 batches)\n",
      "Running average (complete) remaining runtime prediction loss: 0.4940805825963616 (MAE over last 800 batches)\n"
     ]
    },
    {
     "name": "stderr",
     "output_type": "stream",
     "text": [
      "Validation batch calculation: 20it [00:32,  1.62s/it]\n"
     ]
    },
    {
     "name": "stdout",
     "output_type": "stream",
     "text": [
      "Avg MAE TTNE prediction validation set: 0.46271172165870667 (standardized) ; 17057.454166666666 (minutes)'\n",
      "Avg 1-(normalized) DL distance acitivty suffix prediction validation set: 0.8421310782432556\n",
      "Percentage of suffixes predicted to END: too early - 0.2919339547139146 ; right moment - 0.632109041210584 ; too late - 0.07595700407550143\n",
      "Too early instances - avg amount of events too early: 1.6434415578842163\n",
      "Too late instances - avg amount of events too late: 3.30588436126709\n",
      "Avg absolute amount of events predicted too early / too late: 0.7308814525604248\n",
      "Avg MAE RRT prediction validation set: 0.6069082021713257 (standardized) ; 33114.88333333333 (minutes)'\n",
      " \n",
      "------------------------------------\n",
      "EPOCH 31:\n",
      "____________________________________\n"
     ]
    },
    {
     "name": "stderr",
     "output_type": "stream",
     "text": [
      "Batch calculation at epoch 31.: 801it [01:50,  9.30it/s]"
     ]
    },
    {
     "name": "stdout",
     "output_type": "stream",
     "text": [
      "------------------------------------------------------------\n",
      "Epoch 31, batch 799:\n",
      "Average original gradient norm: 1.7252499285340308 (over last 800 batches)\n",
      "Average clipped gradient norm: 1.6813586793839932 (over last 800 batches)\n",
      "Running average global loss: 1.2013876286894083 (over last 800 batches)\n",
      "Running average activity prediction loss: 0.40811392210423947 (Cross Entropy over last 800 batches)\n",
      "Running average time till next event prediction loss: 0.30060606027022 (MAE over last 800 batches)\n",
      "Running average (complete) remaining runtime prediction loss: 0.4926676455512643 (MAE over last 800 batches)\n",
      "------------------------------------------------------------\n"
     ]
    },
    {
     "name": "stderr",
     "output_type": "stream",
     "text": [
      "Batch calculation at epoch 31.: 1600it [03:19,  5.49it/s]"
     ]
    },
    {
     "name": "stdout",
     "output_type": "stream",
     "text": [
      "------------------------------------------------------------\n",
      "Epoch 31, batch 1599:\n",
      "Average original gradient norm: 1.673105766326189 (over last 800 batches)\n",
      "Average clipped gradient norm: 1.6470390033721924 (over last 800 batches)\n",
      "Running average global loss: 1.1995556174963713 (over last 800 batches)\n",
      "Running average activity prediction loss: 0.40509047970175743 (Cross Entropy over last 800 batches)\n",
      "Running average time till next event prediction loss: 0.30215007558465 (MAE over last 800 batches)\n",
      "Running average (complete) remaining runtime prediction loss: 0.492315063662827 (MAE over last 800 batches)\n",
      "------------------------------------------------------------\n"
     ]
    },
    {
     "name": "stderr",
     "output_type": "stream",
     "text": [
      "Batch calculation at epoch 31.: 2401it [05:13,  6.45it/s]"
     ]
    },
    {
     "name": "stdout",
     "output_type": "stream",
     "text": [
      "------------------------------------------------------------\n",
      "Epoch 31, batch 2399:\n",
      "Average original gradient norm: 1.7015944100916385 (over last 800 batches)\n",
      "Average clipped gradient norm: 1.6702368815243245 (over last 800 batches)\n",
      "Running average global loss: 1.204515598937869 (over last 800 batches)\n",
      "Running average activity prediction loss: 0.4096966941468418 (Cross Entropy over last 800 batches)\n",
      "Running average time till next event prediction loss: 0.3004591093398631 (MAE over last 800 batches)\n",
      "Running average (complete) remaining runtime prediction loss: 0.4943597953021526 (MAE over last 800 batches)\n",
      "------------------------------------------------------------\n"
     ]
    },
    {
     "name": "stderr",
     "output_type": "stream",
     "text": [
      "Batch calculation at epoch 31.: 3201it [07:19,  4.79it/s]"
     ]
    },
    {
     "name": "stdout",
     "output_type": "stream",
     "text": [
      "------------------------------------------------------------\n",
      "Epoch 31, batch 3199:\n",
      "Average original gradient norm: 1.701608157157898 (over last 800 batches)\n",
      "Average clipped gradient norm: 1.6725498867034911 (over last 800 batches)\n",
      "Running average global loss: 1.2032754800468684 (over last 800 batches)\n",
      "Running average activity prediction loss: 0.4071150629594922 (Cross Entropy over last 800 batches)\n",
      "Running average time till next event prediction loss: 0.301230338960886 (MAE over last 800 batches)\n",
      "Running average (complete) remaining runtime prediction loss: 0.494930080473423 (MAE over last 800 batches)\n",
      "------------------------------------------------------------\n"
     ]
    },
    {
     "name": "stderr",
     "output_type": "stream",
     "text": [
      "Batch calculation at epoch 31.: 4001it [09:28,  8.01it/s]"
     ]
    },
    {
     "name": "stdout",
     "output_type": "stream",
     "text": [
      "------------------------------------------------------------\n",
      "Epoch 31, batch 3999:\n",
      "Average original gradient norm: 1.7054284158349038 (over last 800 batches)\n",
      "Average clipped gradient norm: 1.6758729527890681 (over last 800 batches)\n",
      "Running average global loss: 1.2022141613066197 (over last 800 batches)\n",
      "Running average activity prediction loss: 0.40670991491526365 (Cross Entropy over last 800 batches)\n",
      "Running average time till next event prediction loss: 0.30122312195599077 (MAE over last 800 batches)\n",
      "Running average (complete) remaining runtime prediction loss: 0.4942811231687665 (MAE over last 800 batches)\n",
      "------------------------------------------------------------\n"
     ]
    },
    {
     "name": "stderr",
     "output_type": "stream",
     "text": [
      "Batch calculation at epoch 31.: 4295it [10:02,  7.12it/s]\n"
     ]
    },
    {
     "name": "stdout",
     "output_type": "stream",
     "text": [
      "=======================================\n",
      "End of epoch 31\n",
      "=======================================\n",
      "Running average global loss: 1.2068886204063893 (over last 800 batches)\n",
      "Running average activity prediction loss: 0.41008164070546627 (Cross Entropy over last 800 batches)\n",
      "Running average time till next event prediction loss: 0.301136027444154 (MAE over last 800 batches)\n",
      "Running average (complete) remaining runtime prediction loss: 0.4956709522008896 (MAE over last 800 batches)\n"
     ]
    },
    {
     "name": "stderr",
     "output_type": "stream",
     "text": [
      "Validation batch calculation: 20it [00:41,  2.08s/it]\n"
     ]
    },
    {
     "name": "stdout",
     "output_type": "stream",
     "text": [
      "Avg MAE TTNE prediction validation set: 0.46052372455596924 (standardized) ; 16978.097916666666 (minutes)'\n",
      "Avg 1-(normalized) DL distance acitivty suffix prediction validation set: 0.8420285582542419\n",
      "Percentage of suffixes predicted to END: too early - 0.29368235714197766 ; right moment - 0.6318627873474765 ; too late - 0.07445485551054583\n",
      "Too early instances - avg amount of events too early: 1.6543266773223877\n",
      "Too late instances - avg amount of events too late: 3.2220935821533203\n",
      "Avg absolute amount of events predicted too early / too late: 0.7257470488548279\n",
      "Avg MAE RRT prediction validation set: 0.6122125387191772 (standardized) ; 33394.8125 (minutes)'\n",
      " \n",
      "------------------------------------\n",
      "EPOCH 32:\n",
      "____________________________________\n"
     ]
    },
    {
     "name": "stderr",
     "output_type": "stream",
     "text": [
      "Batch calculation at epoch 32.: 801it [01:46, 10.03it/s]"
     ]
    },
    {
     "name": "stdout",
     "output_type": "stream",
     "text": [
      "------------------------------------------------------------\n",
      "Epoch 32, batch 799:\n",
      "Average original gradient norm: 1.7104009912908078 (over last 800 batches)\n",
      "Average clipped gradient norm: 1.6792642973363399 (over last 800 batches)\n",
      "Running average global loss: 1.2035318506509065 (over last 800 batches)\n",
      "Running average activity prediction loss: 0.4091028886288404 (Cross Entropy over last 800 batches)\n",
      "Running average time till next event prediction loss: 0.30071193285286424 (MAE over last 800 batches)\n",
      "Running average (complete) remaining runtime prediction loss: 0.4937170285359025 (MAE over last 800 batches)\n",
      "------------------------------------------------------------\n"
     ]
    },
    {
     "name": "stderr",
     "output_type": "stream",
     "text": [
      "Batch calculation at epoch 32.: 1601it [03:34,  6.22it/s]"
     ]
    },
    {
     "name": "stdout",
     "output_type": "stream",
     "text": [
      "------------------------------------------------------------\n",
      "Epoch 32, batch 1599:\n",
      "Average original gradient norm: 1.7116074648499489 (over last 800 batches)\n",
      "Average clipped gradient norm: 1.6811417466402054 (over last 800 batches)\n",
      "Running average global loss: 1.2076592235267163 (over last 800 batches)\n",
      "Running average activity prediction loss: 0.4094705444201827 (Cross Entropy over last 800 batches)\n",
      "Running average time till next event prediction loss: 0.30189454874023797 (MAE over last 800 batches)\n",
      "Running average (complete) remaining runtime prediction loss: 0.4962941309064627 (MAE over last 800 batches)\n",
      "------------------------------------------------------------\n"
     ]
    },
    {
     "name": "stderr",
     "output_type": "stream",
     "text": [
      "Batch calculation at epoch 32.: 2402it [05:44,  9.93it/s]"
     ]
    },
    {
     "name": "stdout",
     "output_type": "stream",
     "text": [
      "------------------------------------------------------------\n",
      "Epoch 32, batch 2399:\n",
      "Average original gradient norm: 1.708223644644022 (over last 800 batches)\n",
      "Average clipped gradient norm: 1.674713182747364 (over last 800 batches)\n",
      "Running average global loss: 1.2006263568252324 (over last 800 batches)\n",
      "Running average activity prediction loss: 0.4074628395587206 (Cross Entropy over last 800 batches)\n",
      "Running average time till next event prediction loss: 0.3014379086531699 (MAE over last 800 batches)\n",
      "Running average (complete) remaining runtime prediction loss: 0.49172560960054396 (MAE over last 800 batches)\n",
      "------------------------------------------------------------\n"
     ]
    },
    {
     "name": "stderr",
     "output_type": "stream",
     "text": [
      "Batch calculation at epoch 32.: 3201it [07:43,  7.49it/s]"
     ]
    },
    {
     "name": "stdout",
     "output_type": "stream",
     "text": [
      "------------------------------------------------------------\n",
      "Epoch 32, batch 3199:\n",
      "Average original gradient norm: 1.705594825744629 (over last 800 batches)\n",
      "Average clipped gradient norm: 1.675941266566515 (over last 800 batches)\n",
      "Running average global loss: 1.1992373275011778 (over last 800 batches)\n",
      "Running average activity prediction loss: 0.40647054351866246 (Cross Entropy over last 800 batches)\n",
      "Running average time till next event prediction loss: 0.29979389972984793 (MAE over last 800 batches)\n",
      "Running average (complete) remaining runtime prediction loss: 0.49297288347035645 (MAE over last 800 batches)\n",
      "------------------------------------------------------------\n"
     ]
    },
    {
     "name": "stderr",
     "output_type": "stream",
     "text": [
      "Batch calculation at epoch 32.: 4001it [09:51,  7.02it/s]"
     ]
    },
    {
     "name": "stdout",
     "output_type": "stream",
     "text": [
      "------------------------------------------------------------\n",
      "Epoch 32, batch 3999:\n",
      "Average original gradient norm: 1.6923161079734563 (over last 800 batches)\n",
      "Average clipped gradient norm: 1.6686162463575602 (over last 800 batches)\n",
      "Running average global loss: 1.201730281189084 (over last 800 batches)\n",
      "Running average activity prediction loss: 0.40604135699570176 (Cross Entropy over last 800 batches)\n",
      "Running average time till next event prediction loss: 0.30157094014808533 (MAE over last 800 batches)\n",
      "Running average (complete) remaining runtime prediction loss: 0.49411798164248466 (MAE over last 800 batches)\n",
      "------------------------------------------------------------\n"
     ]
    },
    {
     "name": "stderr",
     "output_type": "stream",
     "text": [
      "Batch calculation at epoch 32.: 4295it [10:31,  6.80it/s]\n"
     ]
    },
    {
     "name": "stdout",
     "output_type": "stream",
     "text": [
      "=======================================\n",
      "End of epoch 32\n",
      "=======================================\n",
      "Running average global loss: 1.2032693184167147 (over last 800 batches)\n",
      "Running average activity prediction loss: 0.407578980512917 (Cross Entropy over last 800 batches)\n",
      "Running average time till next event prediction loss: 0.301439301148057 (MAE over last 800 batches)\n",
      "Running average (complete) remaining runtime prediction loss: 0.4942510358989239 (MAE over last 800 batches)\n"
     ]
    },
    {
     "name": "stderr",
     "output_type": "stream",
     "text": [
      "Validation batch calculation: 20it [00:56,  2.82s/it]\n"
     ]
    },
    {
     "name": "stdout",
     "output_type": "stream",
     "text": [
      "Avg MAE TTNE prediction validation set: 0.46526220440864563 (standardized) ; 17152.63125 (minutes)'\n",
      "Avg 1-(normalized) DL distance acitivty suffix prediction validation set: 0.8424877524375916\n",
      "Percentage of suffixes predicted to END: too early - 0.2957385768989251 ; right moment - 0.6317889111885443 ; too late - 0.07247251191253062\n",
      "Too early instances - avg amount of events too early: 1.6749656200408936\n",
      "Too late instances - avg amount of events too late: 3.0536866188049316\n",
      "Avg absolute amount of events predicted too early / too late: 0.7166603207588196\n",
      "Avg MAE RRT prediction validation set: 0.6117235422134399 (standardized) ; 33370.98125 (minutes)'\n",
      " \n",
      "------------------------------------\n",
      "EPOCH 33:\n",
      "____________________________________\n"
     ]
    },
    {
     "name": "stderr",
     "output_type": "stream",
     "text": [
      "Batch calculation at epoch 33.: 801it [01:54,  7.54it/s]"
     ]
    },
    {
     "name": "stdout",
     "output_type": "stream",
     "text": [
      "------------------------------------------------------------\n",
      "Epoch 33, batch 799:\n",
      "Average original gradient norm: 1.6846504475176334 (over last 800 batches)\n",
      "Average clipped gradient norm: 1.6634376426041126 (over last 800 batches)\n",
      "Running average global loss: 1.2047458942234517 (over last 800 batches)\n",
      "Running average activity prediction loss: 0.4083919648826122 (Cross Entropy over last 800 batches)\n",
      "Running average time till next event prediction loss: 0.30104555606842043 (MAE over last 800 batches)\n",
      "Running average (complete) remaining runtime prediction loss: 0.4953083742037416 (MAE over last 800 batches)\n",
      "------------------------------------------------------------\n"
     ]
    },
    {
     "name": "stderr",
     "output_type": "stream",
     "text": [
      "Batch calculation at epoch 33.: 1601it [04:01,  8.19it/s]"
     ]
    },
    {
     "name": "stdout",
     "output_type": "stream",
     "text": [
      "------------------------------------------------------------\n",
      "Epoch 33, batch 1599:\n",
      "Average original gradient norm: 1.7210437753796577 (over last 800 batches)\n",
      "Average clipped gradient norm: 1.6881269201636315 (over last 800 batches)\n",
      "Running average global loss: 1.2005283941328526 (over last 800 batches)\n",
      "Running average activity prediction loss: 0.4071668764203787 (Cross Entropy over last 800 batches)\n",
      "Running average time till next event prediction loss: 0.3002208349108696 (MAE over last 800 batches)\n",
      "Running average (complete) remaining runtime prediction loss: 0.4931406847015023 (MAE over last 800 batches)\n",
      "------------------------------------------------------------\n"
     ]
    },
    {
     "name": "stderr",
     "output_type": "stream",
     "text": [
      "Batch calculation at epoch 33.: 2401it [05:42,  8.02it/s]"
     ]
    },
    {
     "name": "stdout",
     "output_type": "stream",
     "text": [
      "------------------------------------------------------------\n",
      "Epoch 33, batch 2399:\n",
      "Average original gradient norm: 1.7002327300608158 (over last 800 batches)\n",
      "Average clipped gradient norm: 1.6717931067943572 (over last 800 batches)\n",
      "Running average global loss: 1.2035031957924367 (over last 800 batches)\n",
      "Running average activity prediction loss: 0.40725385811179876 (Cross Entropy over last 800 batches)\n",
      "Running average time till next event prediction loss: 0.30101772686466577 (MAE over last 800 batches)\n",
      "Running average (complete) remaining runtime prediction loss: 0.49523161314427855 (MAE over last 800 batches)\n",
      "------------------------------------------------------------\n"
     ]
    },
    {
     "name": "stderr",
     "output_type": "stream",
     "text": [
      "Batch calculation at epoch 33.: 3201it [07:59,  6.56it/s]"
     ]
    },
    {
     "name": "stdout",
     "output_type": "stream",
     "text": [
      "------------------------------------------------------------\n",
      "Epoch 33, batch 3199:\n",
      "Average original gradient norm: 1.7141903030872345 (over last 800 batches)\n",
      "Average clipped gradient norm: 1.6813376657664776 (over last 800 batches)\n",
      "Running average global loss: 1.1973233329504729 (over last 800 batches)\n",
      "Running average activity prediction loss: 0.4083937818557024 (Cross Entropy over last 800 batches)\n",
      "Running average time till next event prediction loss: 0.29881172960624097 (MAE over last 800 batches)\n",
      "Running average (complete) remaining runtime prediction loss: 0.4901178202778101 (MAE over last 800 batches)\n",
      "------------------------------------------------------------\n"
     ]
    },
    {
     "name": "stderr",
     "output_type": "stream",
     "text": [
      "Batch calculation at epoch 33.: 4001it [10:08,  7.38it/s]"
     ]
    },
    {
     "name": "stdout",
     "output_type": "stream",
     "text": [
      "------------------------------------------------------------\n",
      "Epoch 33, batch 3999:\n",
      "Average original gradient norm: 1.6887510886788368 (over last 800 batches)\n",
      "Average clipped gradient norm: 1.6612023110687733 (over last 800 batches)\n",
      "Running average global loss: 1.1977760741114616 (over last 800 batches)\n",
      "Running average activity prediction loss: 0.40501804418861864 (Cross Entropy over last 800 batches)\n",
      "Running average time till next event prediction loss: 0.300620002951473 (MAE over last 800 batches)\n",
      "Running average (complete) remaining runtime prediction loss: 0.49213802836835385 (MAE over last 800 batches)\n",
      "------------------------------------------------------------\n"
     ]
    },
    {
     "name": "stderr",
     "output_type": "stream",
     "text": [
      "Batch calculation at epoch 33.: 4295it [10:54,  6.56it/s]\n"
     ]
    },
    {
     "name": "stdout",
     "output_type": "stream",
     "text": [
      "=======================================\n",
      "End of epoch 33\n",
      "=======================================\n",
      "Running average global loss: 1.2015654204785824 (over last 800 batches)\n",
      "Running average activity prediction loss: 0.40568151194602253 (Cross Entropy over last 800 batches)\n",
      "Running average time till next event prediction loss: 0.30189197218045594 (MAE over last 800 batches)\n",
      "Running average (complete) remaining runtime prediction loss: 0.4939919385313988 (MAE over last 800 batches)\n"
     ]
    },
    {
     "name": "stderr",
     "output_type": "stream",
     "text": [
      "Validation batch calculation: 20it [01:04,  3.25s/it]\n"
     ]
    },
    {
     "name": "stdout",
     "output_type": "stream",
     "text": [
      "Avg MAE TTNE prediction validation set: 0.46598032116889954 (standardized) ; 17180.75625 (minutes)'\n",
      "Avg 1-(normalized) DL distance acitivty suffix prediction validation set: 0.8412326574325562\n",
      "Percentage of suffixes predicted to END: too early - 0.29124444389721366 ; right moment - 0.6315919080980583 ; too late - 0.07716364800472808\n",
      "Too early instances - avg amount of events too early: 1.642090082168579\n",
      "Too late instances - avg amount of events too late: 3.2857825756073\n",
      "Avg absolute amount of events predicted too early / too late: 0.7317926287651062\n",
      "Avg MAE RRT prediction validation set: 0.6064112782478333 (standardized) ; 33081.066666666666 (minutes)'\n",
      " \n",
      "------------------------------------\n",
      "EPOCH 34:\n",
      "____________________________________\n"
     ]
    },
    {
     "name": "stderr",
     "output_type": "stream",
     "text": [
      "Batch calculation at epoch 34.: 801it [02:01,  6.97it/s]"
     ]
    },
    {
     "name": "stdout",
     "output_type": "stream",
     "text": [
      "------------------------------------------------------------\n",
      "Epoch 34, batch 799:\n",
      "Average original gradient norm: 1.7321379300951958 (over last 800 batches)\n",
      "Average clipped gradient norm: 1.693137593716383 (over last 800 batches)\n",
      "Running average global loss: 1.1995675149559974 (over last 800 batches)\n",
      "Running average activity prediction loss: 0.4058592226356268 (Cross Entropy over last 800 batches)\n",
      "Running average time till next event prediction loss: 0.3004061141051352 (MAE over last 800 batches)\n",
      "Running average (complete) remaining runtime prediction loss: 0.49330218255519864 (MAE over last 800 batches)\n",
      "------------------------------------------------------------\n"
     ]
    },
    {
     "name": "stderr",
     "output_type": "stream",
     "text": [
      "Batch calculation at epoch 34.: 1601it [03:42,  9.96it/s]"
     ]
    },
    {
     "name": "stdout",
     "output_type": "stream",
     "text": [
      "------------------------------------------------------------\n",
      "Epoch 34, batch 1599:\n",
      "Average original gradient norm: 1.6952469420433045 (over last 800 batches)\n",
      "Average clipped gradient norm: 1.6722161376476288 (over last 800 batches)\n",
      "Running average global loss: 1.2009488611668349 (over last 800 batches)\n",
      "Running average activity prediction loss: 0.4069018058478832 (Cross Entropy over last 800 batches)\n",
      "Running average time till next event prediction loss: 0.3000101651251316 (MAE over last 800 batches)\n",
      "Running average (complete) remaining runtime prediction loss: 0.49403689432889225 (MAE over last 800 batches)\n",
      "------------------------------------------------------------\n"
     ]
    },
    {
     "name": "stderr",
     "output_type": "stream",
     "text": [
      "Batch calculation at epoch 34.: 2402it [05:09,  9.25it/s]"
     ]
    },
    {
     "name": "stdout",
     "output_type": "stream",
     "text": [
      "------------------------------------------------------------\n",
      "Epoch 34, batch 2399:\n",
      "Average original gradient norm: 1.704679146707058 (over last 800 batches)\n",
      "Average clipped gradient norm: 1.6760777662694455 (over last 800 batches)\n",
      "Running average global loss: 1.1992510229349136 (over last 800 batches)\n",
      "Running average activity prediction loss: 0.40554925832897426 (Cross Entropy over last 800 batches)\n",
      "Running average time till next event prediction loss: 0.3000153570622206 (MAE over last 800 batches)\n",
      "Running average (complete) remaining runtime prediction loss: 0.4936864085868001 (MAE over last 800 batches)\n",
      "------------------------------------------------------------\n"
     ]
    },
    {
     "name": "stderr",
     "output_type": "stream",
     "text": [
      "Batch calculation at epoch 34.: 3201it [06:42,  8.98it/s]"
     ]
    },
    {
     "name": "stdout",
     "output_type": "stream",
     "text": [
      "------------------------------------------------------------\n",
      "Epoch 34, batch 3199:\n",
      "Average original gradient norm: 1.686953247487545 (over last 800 batches)\n",
      "Average clipped gradient norm: 1.6567591963708401 (over last 800 batches)\n",
      "Running average global loss: 1.2003544190526008 (over last 800 batches)\n",
      "Running average activity prediction loss: 0.40765883143991233 (Cross Entropy over last 800 batches)\n",
      "Running average time till next event prediction loss: 0.2998901248537004 (MAE over last 800 batches)\n",
      "Running average (complete) remaining runtime prediction loss: 0.49280546441674233 (MAE over last 800 batches)\n",
      "------------------------------------------------------------\n"
     ]
    },
    {
     "name": "stderr",
     "output_type": "stream",
     "text": [
      "Batch calculation at epoch 34.: 4001it [08:14,  7.97it/s]"
     ]
    },
    {
     "name": "stdout",
     "output_type": "stream",
     "text": [
      "------------------------------------------------------------\n",
      "Epoch 34, batch 3999:\n",
      "Average original gradient norm: 1.6924868312478065 (over last 800 batches)\n",
      "Average clipped gradient norm: 1.6627868515253068 (over last 800 batches)\n",
      "Running average global loss: 1.1998906235396862 (over last 800 batches)\n",
      "Running average activity prediction loss: 0.4068330155685544 (Cross Entropy over last 800 batches)\n",
      "Running average time till next event prediction loss: 0.30100190537050364 (MAE over last 800 batches)\n",
      "Running average (complete) remaining runtime prediction loss: 0.4920557051151991 (MAE over last 800 batches)\n",
      "------------------------------------------------------------\n"
     ]
    },
    {
     "name": "stderr",
     "output_type": "stream",
     "text": [
      "Batch calculation at epoch 34.: 4295it [09:02,  7.92it/s]\n"
     ]
    },
    {
     "name": "stdout",
     "output_type": "stream",
     "text": [
      "=======================================\n",
      "End of epoch 34\n",
      "=======================================\n",
      "Running average global loss: 1.2000637233257294 (over last 800 batches)\n",
      "Running average activity prediction loss: 0.40764737121760847 (Cross Entropy over last 800 batches)\n",
      "Running average time till next event prediction loss: 0.3011983688734472 (MAE over last 800 batches)\n",
      "Running average (complete) remaining runtime prediction loss: 0.49121798276901246 (MAE over last 800 batches)\n"
     ]
    },
    {
     "name": "stderr",
     "output_type": "stream",
     "text": [
      "Validation batch calculation: 20it [00:34,  1.75s/it]\n"
     ]
    },
    {
     "name": "stdout",
     "output_type": "stream",
     "text": [
      "Avg MAE TTNE prediction validation set: 0.4661206007003784 (standardized) ; 17192.627083333333 (minutes)'\n",
      "Avg 1-(normalized) DL distance acitivty suffix prediction validation set: 0.8426497578620911\n",
      "Percentage of suffixes predicted to END: too early - 0.29403942524348353 ; right moment - 0.6322567935284484 ; too late - 0.07370378122806802\n",
      "Too early instances - avg amount of events too early: 1.6590176820755005\n",
      "Too late instances - avg amount of events too late: 3.099231481552124\n",
      "Avg absolute amount of events predicted too early / too late: 0.7162416577339172\n",
      "Avg MAE RRT prediction validation set: 0.6068633198738098 (standardized) ; 33109.175 (minutes)'\n",
      " \n",
      "------------------------------------\n",
      "EPOCH 35:\n",
      "____________________________________\n"
     ]
    },
    {
     "name": "stderr",
     "output_type": "stream",
     "text": [
      "Batch calculation at epoch 35.: 801it [01:26,  8.00it/s]"
     ]
    },
    {
     "name": "stdout",
     "output_type": "stream",
     "text": [
      "------------------------------------------------------------\n",
      "Epoch 35, batch 799:\n",
      "Average original gradient norm: 1.693452051654458 (over last 800 batches)\n",
      "Average clipped gradient norm: 1.6696604239195585 (over last 800 batches)\n",
      "Running average global loss: 1.1992781706154347 (over last 800 batches)\n",
      "Running average activity prediction loss: 0.40395438510924575 (Cross Entropy over last 800 batches)\n",
      "Running average time till next event prediction loss: 0.3011720493622124 (MAE over last 800 batches)\n",
      "Running average (complete) remaining runtime prediction loss: 0.4941517378017306 (MAE over last 800 batches)\n",
      "------------------------------------------------------------\n"
     ]
    },
    {
     "name": "stderr",
     "output_type": "stream",
     "text": [
      "Batch calculation at epoch 35.: 1601it [02:50,  6.21it/s]"
     ]
    },
    {
     "name": "stdout",
     "output_type": "stream",
     "text": [
      "------------------------------------------------------------\n",
      "Epoch 35, batch 1599:\n",
      "Average original gradient norm: 1.6954692259430886 (over last 800 batches)\n",
      "Average clipped gradient norm: 1.6652643537521363 (over last 800 batches)\n",
      "Running average global loss: 1.2004985179752112 (over last 800 batches)\n",
      "Running average activity prediction loss: 0.4066119335219264 (Cross Entropy over last 800 batches)\n",
      "Running average time till next event prediction loss: 0.301600135397166 (MAE over last 800 batches)\n",
      "Running average (complete) remaining runtime prediction loss: 0.4922864494845271 (MAE over last 800 batches)\n",
      "------------------------------------------------------------\n"
     ]
    },
    {
     "name": "stderr",
     "output_type": "stream",
     "text": [
      "Batch calculation at epoch 35.: 2401it [04:35,  5.89it/s]"
     ]
    },
    {
     "name": "stdout",
     "output_type": "stream",
     "text": [
      "------------------------------------------------------------\n",
      "Epoch 35, batch 2399:\n",
      "Average original gradient norm: 1.7221045458316804 (over last 800 batches)\n",
      "Average clipped gradient norm: 1.6841603641211986 (over last 800 batches)\n",
      "Running average global loss: 1.1950728871673346 (over last 800 batches)\n",
      "Running average activity prediction loss: 0.4070073529332876 (Cross Entropy over last 800 batches)\n",
      "Running average time till next event prediction loss: 0.29768363209441306 (MAE over last 800 batches)\n",
      "Running average (complete) remaining runtime prediction loss: 0.4903819017484784 (MAE over last 800 batches)\n",
      "------------------------------------------------------------\n"
     ]
    },
    {
     "name": "stderr",
     "output_type": "stream",
     "text": [
      "Batch calculation at epoch 35.: 3202it [05:58, 11.57it/s]"
     ]
    },
    {
     "name": "stdout",
     "output_type": "stream",
     "text": [
      "------------------------------------------------------------\n",
      "Epoch 35, batch 3199:\n",
      "Average original gradient norm: 1.7238839554786682 (over last 800 batches)\n",
      "Average clipped gradient norm: 1.6874986551702023 (over last 800 batches)\n",
      "Running average global loss: 1.1939708964526654 (over last 800 batches)\n",
      "Running average activity prediction loss: 0.4055412545241415 (Cross Entropy over last 800 batches)\n",
      "Running average time till next event prediction loss: 0.29867510529235003 (MAE over last 800 batches)\n",
      "Running average (complete) remaining runtime prediction loss: 0.48975453786551953 (MAE over last 800 batches)\n",
      "------------------------------------------------------------\n"
     ]
    },
    {
     "name": "stderr",
     "output_type": "stream",
     "text": [
      "Batch calculation at epoch 35.: 4001it [07:36,  9.52it/s]"
     ]
    },
    {
     "name": "stdout",
     "output_type": "stream",
     "text": [
      "------------------------------------------------------------\n",
      "Epoch 35, batch 3999:\n",
      "Average original gradient norm: 1.7077689047157765 (over last 800 batches)\n",
      "Average clipped gradient norm: 1.6749104426801205 (over last 800 batches)\n",
      "Running average global loss: 1.2043569348007441 (over last 800 batches)\n",
      "Running average activity prediction loss: 0.4081909791752696 (Cross Entropy over last 800 batches)\n",
      "Running average time till next event prediction loss: 0.3007427642866969 (MAE over last 800 batches)\n",
      "Running average (complete) remaining runtime prediction loss: 0.4954231899604201 (MAE over last 800 batches)\n",
      "------------------------------------------------------------\n"
     ]
    },
    {
     "name": "stderr",
     "output_type": "stream",
     "text": [
      "Batch calculation at epoch 35.: 4295it [08:16,  8.65it/s]\n"
     ]
    },
    {
     "name": "stdout",
     "output_type": "stream",
     "text": [
      "=======================================\n",
      "End of epoch 35\n",
      "=======================================\n",
      "Running average global loss: 1.2071505629271269 (over last 800 batches)\n",
      "Running average activity prediction loss: 0.4082180382683873 (Cross Entropy over last 800 batches)\n",
      "Running average time till next event prediction loss: 0.3010495255701244 (MAE over last 800 batches)\n",
      "Running average (complete) remaining runtime prediction loss: 0.4978829984739423 (MAE over last 800 batches)\n"
     ]
    },
    {
     "name": "stderr",
     "output_type": "stream",
     "text": [
      "Validation batch calculation: 20it [00:30,  1.50s/it]\n"
     ]
    },
    {
     "name": "stdout",
     "output_type": "stream",
     "text": [
      "Avg MAE TTNE prediction validation set: 0.46441414952278137 (standardized) ; 17116.340625 (minutes)'\n",
      "Avg 1-(normalized) DL distance acitivty suffix prediction validation set: 0.841766893863678\n",
      "Percentage of suffixes predicted to END: too early - 0.29189701663444845 ; right moment - 0.6318012238816997 ; too late - 0.0763017594838519\n",
      "Too early instances - avg amount of events too early: 1.6485848426818848\n",
      "Too late instances - avg amount of events too late: 3.389543294906616\n",
      "Avg absolute amount of events predicted too early / too late: 0.7398450970649719\n",
      "Avg MAE RRT prediction validation set: 0.607964813709259 (standardized) ; 33151.81458333333 (minutes)'\n",
      " \n",
      "------------------------------------\n",
      "EPOCH 36:\n",
      "____________________________________\n"
     ]
    },
    {
     "name": "stderr",
     "output_type": "stream",
     "text": [
      "Batch calculation at epoch 36.: 802it [01:19, 14.87it/s]"
     ]
    },
    {
     "name": "stdout",
     "output_type": "stream",
     "text": [
      "------------------------------------------------------------\n",
      "Epoch 36, batch 799:\n",
      "Average original gradient norm: 1.6738938073813916 (over last 800 batches)\n",
      "Average clipped gradient norm: 1.6555633421242237 (over last 800 batches)\n",
      "Running average global loss: 1.1944820430129766 (over last 800 batches)\n",
      "Running average activity prediction loss: 0.4051595875248313 (Cross Entropy over last 800 batches)\n",
      "Running average time till next event prediction loss: 0.2988395080715418 (MAE over last 800 batches)\n",
      "Running average (complete) remaining runtime prediction loss: 0.49048294860869646 (MAE over last 800 batches)\n",
      "------------------------------------------------------------\n"
     ]
    },
    {
     "name": "stderr",
     "output_type": "stream",
     "text": [
      "Batch calculation at epoch 36.: 1601it [02:40,  8.62it/s]"
     ]
    },
    {
     "name": "stdout",
     "output_type": "stream",
     "text": [
      "------------------------------------------------------------\n",
      "Epoch 36, batch 1599:\n",
      "Average original gradient norm: 1.6518887658417225 (over last 800 batches)\n",
      "Average clipped gradient norm: 1.636446322351694 (over last 800 batches)\n",
      "Running average global loss: 1.20048807002604 (over last 800 batches)\n",
      "Running average activity prediction loss: 0.4077774130925536 (Cross Entropy over last 800 batches)\n",
      "Running average time till next event prediction loss: 0.2995991967432201 (MAE over last 800 batches)\n",
      "Running average (complete) remaining runtime prediction loss: 0.4931114599108696 (MAE over last 800 batches)\n",
      "------------------------------------------------------------\n"
     ]
    },
    {
     "name": "stderr",
     "output_type": "stream",
     "text": [
      "Batch calculation at epoch 36.: 2401it [04:17,  7.32it/s]"
     ]
    },
    {
     "name": "stdout",
     "output_type": "stream",
     "text": [
      "------------------------------------------------------------\n",
      "Epoch 36, batch 2399:\n",
      "Average original gradient norm: 1.7334088926017284 (over last 800 batches)\n",
      "Average clipped gradient norm: 1.6945002052187919 (over last 800 batches)\n",
      "Running average global loss: 1.1993653736263514 (over last 800 batches)\n",
      "Running average activity prediction loss: 0.40415847800672056 (Cross Entropy over last 800 batches)\n",
      "Running average time till next event prediction loss: 0.30064291462302206 (MAE over last 800 batches)\n",
      "Running average (complete) remaining runtime prediction loss: 0.4945639805868268 (MAE over last 800 batches)\n",
      "------------------------------------------------------------\n"
     ]
    },
    {
     "name": "stderr",
     "output_type": "stream",
     "text": [
      "Batch calculation at epoch 36.: 3201it [06:18,  6.23it/s]"
     ]
    },
    {
     "name": "stdout",
     "output_type": "stream",
     "text": [
      "------------------------------------------------------------\n",
      "Epoch 36, batch 3199:\n",
      "Average original gradient norm: 1.6913234834372997 (over last 800 batches)\n",
      "Average clipped gradient norm: 1.6650844947993755 (over last 800 batches)\n",
      "Running average global loss: 1.1999803280085326 (over last 800 batches)\n",
      "Running average activity prediction loss: 0.4064826580137014 (Cross Entropy over last 800 batches)\n",
      "Running average time till next event prediction loss: 0.30034268021583554 (MAE over last 800 batches)\n",
      "Running average (complete) remaining runtime prediction loss: 0.4931549895182252 (MAE over last 800 batches)\n",
      "------------------------------------------------------------\n"
     ]
    },
    {
     "name": "stderr",
     "output_type": "stream",
     "text": [
      "Batch calculation at epoch 36.: 4002it [08:28, 10.77it/s]"
     ]
    },
    {
     "name": "stdout",
     "output_type": "stream",
     "text": [
      "------------------------------------------------------------\n",
      "Epoch 36, batch 3999:\n",
      "Average original gradient norm: 1.7076439443230629 (over last 800 batches)\n",
      "Average clipped gradient norm: 1.6787796549499034 (over last 800 batches)\n",
      "Running average global loss: 1.1983117136359214 (over last 800 batches)\n",
      "Running average activity prediction loss: 0.40454299952834843 (Cross Entropy over last 800 batches)\n",
      "Running average time till next event prediction loss: 0.2999284625425935 (MAE over last 800 batches)\n",
      "Running average (complete) remaining runtime prediction loss: 0.49384024944156407 (MAE over last 800 batches)\n",
      "------------------------------------------------------------\n"
     ]
    },
    {
     "name": "stderr",
     "output_type": "stream",
     "text": [
      "Batch calculation at epoch 36.: 4295it [09:05,  7.87it/s]\n"
     ]
    },
    {
     "name": "stdout",
     "output_type": "stream",
     "text": [
      "=======================================\n",
      "End of epoch 36\n",
      "=======================================\n",
      "Running average global loss: 1.1989610705524683 (over last 800 batches)\n",
      "Running average activity prediction loss: 0.406420734860003 (Cross Entropy over last 800 batches)\n",
      "Running average time till next event prediction loss: 0.3005769006721675 (MAE over last 800 batches)\n",
      "Running average (complete) remaining runtime prediction loss: 0.4919634349644184 (MAE over last 800 batches)\n"
     ]
    },
    {
     "name": "stderr",
     "output_type": "stream",
     "text": [
      "Validation batch calculation: 20it [00:34,  1.74s/it]\n"
     ]
    },
    {
     "name": "stdout",
     "output_type": "stream",
     "text": [
      "Avg MAE TTNE prediction validation set: 0.4623175859451294 (standardized) ; 17047.722916666666 (minutes)'\n",
      "Avg 1-(normalized) DL distance acitivty suffix prediction validation set: 0.8420457243919373\n",
      "Percentage of suffixes predicted to END: too early - 0.2938177967666868 ; right moment - 0.632010539665341 ; too late - 0.07417166356797222\n",
      "Too early instances - avg amount of events too early: 1.6554498672485352\n",
      "Too late instances - avg amount of events too late: 3.292994737625122\n",
      "Avg absolute amount of events predicted too early / too late: 0.7306475043296814\n",
      "Avg MAE RRT prediction validation set: 0.6112666130065918 (standardized) ; 33337.27916666667 (minutes)'\n",
      " \n",
      "------------------------------------\n",
      "EPOCH 37:\n",
      "____________________________________\n"
     ]
    },
    {
     "name": "stderr",
     "output_type": "stream",
     "text": [
      "Batch calculation at epoch 37.: 801it [01:57,  9.53it/s]"
     ]
    },
    {
     "name": "stdout",
     "output_type": "stream",
     "text": [
      "------------------------------------------------------------\n",
      "Epoch 37, batch 799:\n",
      "Average original gradient norm: 1.6957207995653152 (over last 800 batches)\n",
      "Average clipped gradient norm: 1.6693039338290692 (over last 800 batches)\n",
      "Running average global loss: 1.1974311343580484 (over last 800 batches)\n",
      "Running average activity prediction loss: 0.40430027920752765 (Cross Entropy over last 800 batches)\n",
      "Running average time till next event prediction loss: 0.29997608499601486 (MAE over last 800 batches)\n",
      "Running average (complete) remaining runtime prediction loss: 0.49315477315336465 (MAE over last 800 batches)\n",
      "------------------------------------------------------------\n"
     ]
    },
    {
     "name": "stderr",
     "output_type": "stream",
     "text": [
      "Batch calculation at epoch 37.: 1601it [04:03,  5.55it/s]"
     ]
    },
    {
     "name": "stdout",
     "output_type": "stream",
     "text": [
      "------------------------------------------------------------\n",
      "Epoch 37, batch 1599:\n",
      "Average original gradient norm: 1.7239869222044946 (over last 800 batches)\n",
      "Average clipped gradient norm: 1.6879444096982479 (over last 800 batches)\n",
      "Running average global loss: 1.200037897527218 (over last 800 batches)\n",
      "Running average activity prediction loss: 0.40552740639075635 (Cross Entropy over last 800 batches)\n",
      "Running average time till next event prediction loss: 0.30079183604568244 (MAE over last 800 batches)\n",
      "Running average (complete) remaining runtime prediction loss: 0.4937186561152339 (MAE over last 800 batches)\n",
      "------------------------------------------------------------\n"
     ]
    },
    {
     "name": "stderr",
     "output_type": "stream",
     "text": [
      "Batch calculation at epoch 37.: 2401it [05:54,  7.18it/s]"
     ]
    },
    {
     "name": "stdout",
     "output_type": "stream",
     "text": [
      "------------------------------------------------------------\n",
      "Epoch 37, batch 2399:\n",
      "Average original gradient norm: 1.704325715303421 (over last 800 batches)\n",
      "Average clipped gradient norm: 1.6760637614130973 (over last 800 batches)\n",
      "Running average global loss: 1.19525249697268 (over last 800 batches)\n",
      "Running average activity prediction loss: 0.4041825148835778 (Cross Entropy over last 800 batches)\n",
      "Running average time till next event prediction loss: 0.2985765314288437 (MAE over last 800 batches)\n",
      "Running average (complete) remaining runtime prediction loss: 0.4924934509769082 (MAE over last 800 batches)\n",
      "------------------------------------------------------------\n"
     ]
    },
    {
     "name": "stderr",
     "output_type": "stream",
     "text": [
      "Batch calculation at epoch 37.: 3201it [07:44,  7.71it/s]"
     ]
    },
    {
     "name": "stdout",
     "output_type": "stream",
     "text": [
      "------------------------------------------------------------\n",
      "Epoch 37, batch 3199:\n",
      "Average original gradient norm: 1.724790052473545 (over last 800 batches)\n",
      "Average clipped gradient norm: 1.688969334959984 (over last 800 batches)\n",
      "Running average global loss: 1.1998116932064296 (over last 800 batches)\n",
      "Running average activity prediction loss: 0.40678868571296334 (Cross Entropy over last 800 batches)\n",
      "Running average time till next event prediction loss: 0.30048236064612865 (MAE over last 800 batches)\n",
      "Running average (complete) remaining runtime prediction loss: 0.49254064612090587 (MAE over last 800 batches)\n",
      "------------------------------------------------------------\n"
     ]
    },
    {
     "name": "stderr",
     "output_type": "stream",
     "text": [
      "Batch calculation at epoch 37.: 4001it [09:55,  7.69it/s]"
     ]
    },
    {
     "name": "stdout",
     "output_type": "stream",
     "text": [
      "------------------------------------------------------------\n",
      "Epoch 37, batch 3999:\n",
      "Average original gradient norm: 1.6827268332242966 (over last 800 batches)\n",
      "Average clipped gradient norm: 1.6598211593925953 (over last 800 batches)\n",
      "Running average global loss: 1.1946257077157498 (over last 800 batches)\n",
      "Running average activity prediction loss: 0.4051944714784622 (Cross Entropy over last 800 batches)\n",
      "Running average time till next event prediction loss: 0.29946767857298257 (MAE over last 800 batches)\n",
      "Running average (complete) remaining runtime prediction loss: 0.4899635574221611 (MAE over last 800 batches)\n",
      "------------------------------------------------------------\n"
     ]
    },
    {
     "name": "stderr",
     "output_type": "stream",
     "text": [
      "Batch calculation at epoch 37.: 4295it [10:39,  6.72it/s]\n"
     ]
    },
    {
     "name": "stdout",
     "output_type": "stream",
     "text": [
      "=======================================\n",
      "End of epoch 37\n",
      "=======================================\n",
      "Running average global loss: 1.1945789300650358 (over last 800 batches)\n",
      "Running average activity prediction loss: 0.4050815740600228 (Cross Entropy over last 800 batches)\n",
      "Running average time till next event prediction loss: 0.2985800547711551 (MAE over last 800 batches)\n",
      "Running average (complete) remaining runtime prediction loss: 0.4909173004329205 (MAE over last 800 batches)\n"
     ]
    },
    {
     "name": "stderr",
     "output_type": "stream",
     "text": [
      "Validation batch calculation: 20it [01:05,  3.30s/it]\n"
     ]
    },
    {
     "name": "stdout",
     "output_type": "stream",
     "text": [
      "Avg MAE TTNE prediction validation set: 0.4615386426448822 (standardized) ; 17025.00625 (minutes)'\n",
      "Avg 1-(normalized) DL distance acitivty suffix prediction validation set: 0.8421503305435181\n",
      "Percentage of suffixes predicted to END: too early - 0.2938054840735314 ; right moment - 0.6314564684733491 ; too late - 0.07473804745311942\n",
      "Too early instances - avg amount of events too early: 1.6558964252471924\n",
      "Too late instances - avg amount of events too late: 3.2431631088256836\n",
      "Avg absolute amount of events predicted too early / too late: 0.7288991212844849\n",
      "Avg MAE RRT prediction validation set: 0.6081948280334473 (standardized) ; 33179.525 (minutes)'\n",
      " \n",
      "------------------------------------\n",
      "EPOCH 38:\n",
      "____________________________________\n"
     ]
    },
    {
     "name": "stderr",
     "output_type": "stream",
     "text": [
      "Batch calculation at epoch 38.: 801it [01:57,  6.67it/s]"
     ]
    },
    {
     "name": "stdout",
     "output_type": "stream",
     "text": [
      "------------------------------------------------------------\n",
      "Epoch 38, batch 799:\n",
      "Average original gradient norm: 1.6959748288989067 (over last 800 batches)\n",
      "Average clipped gradient norm: 1.6717552800476552 (over last 800 batches)\n",
      "Running average global loss: 1.195917778238654 (over last 800 batches)\n",
      "Running average activity prediction loss: 0.40402334902435544 (Cross Entropy over last 800 batches)\n",
      "Running average time till next event prediction loss: 0.29947165187448266 (MAE over last 800 batches)\n",
      "Running average (complete) remaining runtime prediction loss: 0.49242277450859545 (MAE over last 800 batches)\n",
      "------------------------------------------------------------\n"
     ]
    },
    {
     "name": "stderr",
     "output_type": "stream",
     "text": [
      "Batch calculation at epoch 38.: 1601it [04:13,  7.39it/s]"
     ]
    },
    {
     "name": "stdout",
     "output_type": "stream",
     "text": [
      "------------------------------------------------------------\n",
      "Epoch 38, batch 1599:\n",
      "Average original gradient norm: 1.7070370365679264 (over last 800 batches)\n",
      "Average clipped gradient norm: 1.6822006586194038 (over last 800 batches)\n",
      "Running average global loss: 1.1943594389408827 (over last 800 batches)\n",
      "Running average activity prediction loss: 0.4044898639246821 (Cross Entropy over last 800 batches)\n",
      "Running average time till next event prediction loss: 0.2999578231945634 (MAE over last 800 batches)\n",
      "Running average (complete) remaining runtime prediction loss: 0.4899117512628436 (MAE over last 800 batches)\n",
      "------------------------------------------------------------\n"
     ]
    },
    {
     "name": "stderr",
     "output_type": "stream",
     "text": [
      "Batch calculation at epoch 38.: 2401it [06:14,  8.64it/s]"
     ]
    },
    {
     "name": "stdout",
     "output_type": "stream",
     "text": [
      "------------------------------------------------------------\n",
      "Epoch 38, batch 2399:\n",
      "Average original gradient norm: 1.7104337850213052 (over last 800 batches)\n",
      "Average clipped gradient norm: 1.6801264114677905 (over last 800 batches)\n",
      "Running average global loss: 1.1943116062134504 (over last 800 batches)\n",
      "Running average activity prediction loss: 0.40441565558314324 (Cross Entropy over last 800 batches)\n",
      "Running average time till next event prediction loss: 0.29956307405605914 (MAE over last 800 batches)\n",
      "Running average (complete) remaining runtime prediction loss: 0.49033287845551965 (MAE over last 800 batches)\n",
      "------------------------------------------------------------\n"
     ]
    },
    {
     "name": "stderr",
     "output_type": "stream",
     "text": [
      "Batch calculation at epoch 38.: 3201it [08:27,  5.80it/s]"
     ]
    },
    {
     "name": "stdout",
     "output_type": "stream",
     "text": [
      "------------------------------------------------------------\n",
      "Epoch 38, batch 3199:\n",
      "Average original gradient norm: 1.697065948843956 (over last 800 batches)\n",
      "Average clipped gradient norm: 1.672820469737053 (over last 800 batches)\n",
      "Running average global loss: 1.1997803127765656 (over last 800 batches)\n",
      "Running average activity prediction loss: 0.4067873090133071 (Cross Entropy over last 800 batches)\n",
      "Running average time till next event prediction loss: 0.2990638784132898 (MAE over last 800 batches)\n",
      "Running average (complete) remaining runtime prediction loss: 0.4939291227608919 (MAE over last 800 batches)\n",
      "------------------------------------------------------------\n"
     ]
    },
    {
     "name": "stderr",
     "output_type": "stream",
     "text": [
      "Batch calculation at epoch 38.: 4000it [10:55, 10.28it/s]"
     ]
    },
    {
     "name": "stdout",
     "output_type": "stream",
     "text": [
      "------------------------------------------------------------\n",
      "Epoch 38, batch 3999:\n",
      "Average original gradient norm: 1.697185115814209 (over last 800 batches)\n",
      "Average clipped gradient norm: 1.6737611675262452 (over last 800 batches)\n",
      "Running average global loss: 1.2012691742926835 (over last 800 batches)\n",
      "Running average activity prediction loss: 0.406805447973311 (Cross Entropy over last 800 batches)\n",
      "Running average time till next event prediction loss: 0.2997890134342015 (MAE over last 800 batches)\n",
      "Running average (complete) remaining runtime prediction loss: 0.49467471178621053 (MAE over last 800 batches)\n",
      "------------------------------------------------------------\n"
     ]
    },
    {
     "name": "stderr",
     "output_type": "stream",
     "text": [
      "Batch calculation at epoch 38.: 4295it [11:36,  6.16it/s]\n"
     ]
    },
    {
     "name": "stdout",
     "output_type": "stream",
     "text": [
      "=======================================\n",
      "End of epoch 38\n",
      "=======================================\n",
      "Running average global loss: 1.196005882769823 (over last 800 batches)\n",
      "Running average activity prediction loss: 0.4038672163337469 (Cross Entropy over last 800 batches)\n",
      "Running average time till next event prediction loss: 0.29972500801086427 (MAE over last 800 batches)\n",
      "Running average (complete) remaining runtime prediction loss: 0.49241365894675254 (MAE over last 800 batches)\n"
     ]
    },
    {
     "name": "stderr",
     "output_type": "stream",
     "text": [
      "Validation batch calculation: 20it [00:49,  2.48s/it]\n"
     ]
    },
    {
     "name": "stdout",
     "output_type": "stream",
     "text": [
      "Avg MAE TTNE prediction validation set: 0.46667012572288513 (standardized) ; 17193.291666666668 (minutes)'\n",
      "Avg 1-(normalized) DL distance acitivty suffix prediction validation set: 0.842036247253418\n",
      "Percentage of suffixes predicted to END: too early - 0.29434724257236783 ; right moment - 0.6317889111885443 ; too late - 0.07386384623908787\n",
      "Too early instances - avg amount of events too early: 1.6594160795211792\n",
      "Too late instances - avg amount of events too late: 3.2622103691101074\n",
      "Avg absolute amount of events predicted too early / too late: 0.7294039130210876\n",
      "Avg MAE RRT prediction validation set: 0.6104915142059326 (standardized) ; 33296.54583333333 (minutes)'\n",
      " \n",
      "------------------------------------\n",
      "EPOCH 39:\n",
      "____________________________________\n"
     ]
    },
    {
     "name": "stderr",
     "output_type": "stream",
     "text": [
      "Batch calculation at epoch 39.: 800it [02:08,  4.36it/s]"
     ]
    },
    {
     "name": "stdout",
     "output_type": "stream",
     "text": [
      "------------------------------------------------------------\n",
      "Epoch 39, batch 799:\n",
      "Average original gradient norm: 1.6932435247302056 (over last 800 batches)\n",
      "Average clipped gradient norm: 1.6626158000528812 (over last 800 batches)\n",
      "Running average global loss: 1.1981888030469419 (over last 800 batches)\n",
      "Running average activity prediction loss: 0.40611027408391237 (Cross Entropy over last 800 batches)\n",
      "Running average time till next event prediction loss: 0.29951070606708524 (MAE over last 800 batches)\n",
      "Running average (complete) remaining runtime prediction loss: 0.4925678264722228 (MAE over last 800 batches)\n",
      "------------------------------------------------------------\n"
     ]
    },
    {
     "name": "stderr",
     "output_type": "stream",
     "text": [
      "Batch calculation at epoch 39.: 1600it [04:12,  4.32it/s]"
     ]
    },
    {
     "name": "stdout",
     "output_type": "stream",
     "text": [
      "------------------------------------------------------------\n",
      "Epoch 39, batch 1599:\n",
      "Average original gradient norm: 1.693054428100586 (over last 800 batches)\n",
      "Average clipped gradient norm: 1.6670934151113033 (over last 800 batches)\n",
      "Running average global loss: 1.1885669470578433 (over last 800 batches)\n",
      "Running average activity prediction loss: 0.40050879381597043 (Cross Entropy over last 800 batches)\n",
      "Running average time till next event prediction loss: 0.2992045737989247 (MAE over last 800 batches)\n",
      "Running average (complete) remaining runtime prediction loss: 0.4888535805791616 (MAE over last 800 batches)\n",
      "------------------------------------------------------------\n"
     ]
    },
    {
     "name": "stderr",
     "output_type": "stream",
     "text": [
      "Batch calculation at epoch 39.: 2401it [06:09,  5.80it/s]"
     ]
    },
    {
     "name": "stdout",
     "output_type": "stream",
     "text": [
      "------------------------------------------------------------\n",
      "Epoch 39, batch 2399:\n",
      "Average original gradient norm: 1.7176329617202282 (over last 800 batches)\n",
      "Average clipped gradient norm: 1.688688214570284 (over last 800 batches)\n",
      "Running average global loss: 1.1987477374821902 (over last 800 batches)\n",
      "Running average activity prediction loss: 0.4067079975269735 (Cross Entropy over last 800 batches)\n",
      "Running average time till next event prediction loss: 0.2997507767751813 (MAE over last 800 batches)\n",
      "Running average (complete) remaining runtime prediction loss: 0.4922889626771212 (MAE over last 800 batches)\n",
      "------------------------------------------------------------\n"
     ]
    },
    {
     "name": "stderr",
     "output_type": "stream",
     "text": [
      "Batch calculation at epoch 39.: 3201it [08:14,  9.24it/s]"
     ]
    },
    {
     "name": "stdout",
     "output_type": "stream",
     "text": [
      "------------------------------------------------------------\n",
      "Epoch 39, batch 3199:\n",
      "Average original gradient norm: 1.7140798449516297 (over last 800 batches)\n",
      "Average clipped gradient norm: 1.6884011270105839 (over last 800 batches)\n",
      "Running average global loss: 1.1986479902267455 (over last 800 batches)\n",
      "Running average activity prediction loss: 0.4045943081751466 (Cross Entropy over last 800 batches)\n",
      "Running average time till next event prediction loss: 0.29914419453591107 (MAE over last 800 batches)\n",
      "Running average (complete) remaining runtime prediction loss: 0.4949094865471125 (MAE over last 800 batches)\n",
      "------------------------------------------------------------\n"
     ]
    },
    {
     "name": "stderr",
     "output_type": "stream",
     "text": [
      "Batch calculation at epoch 39.: 4001it [09:27, 11.77it/s]"
     ]
    },
    {
     "name": "stdout",
     "output_type": "stream",
     "text": [
      "------------------------------------------------------------\n",
      "Epoch 39, batch 3999:\n",
      "Average original gradient norm: 1.6998404932022095 (over last 800 batches)\n",
      "Average clipped gradient norm: 1.6698506504297257 (over last 800 batches)\n",
      "Running average global loss: 1.199924722313881 (over last 800 batches)\n",
      "Running average activity prediction loss: 0.4056497712805867 (Cross Entropy over last 800 batches)\n",
      "Running average time till next event prediction loss: 0.300123853739351 (MAE over last 800 batches)\n",
      "Running average (complete) remaining runtime prediction loss: 0.4941510958969593 (MAE over last 800 batches)\n",
      "------------------------------------------------------------\n"
     ]
    },
    {
     "name": "stderr",
     "output_type": "stream",
     "text": [
      "Batch calculation at epoch 39.: 4295it [09:52,  7.25it/s]\n"
     ]
    },
    {
     "name": "stdout",
     "output_type": "stream",
     "text": [
      "=======================================\n",
      "End of epoch 39\n",
      "=======================================\n",
      "Running average global loss: 1.1994594277441502 (over last 800 batches)\n",
      "Running average activity prediction loss: 0.40469907170161606 (Cross Entropy over last 800 batches)\n",
      "Running average time till next event prediction loss: 0.3007040185108781 (MAE over last 800 batches)\n",
      "Running average (complete) remaining runtime prediction loss: 0.4940563359111547 (MAE over last 800 batches)\n"
     ]
    },
    {
     "name": "stderr",
     "output_type": "stream",
     "text": [
      "Validation batch calculation: 20it [00:29,  1.49s/it]\n"
     ]
    },
    {
     "name": "stdout",
     "output_type": "stream",
     "text": [
      "Avg MAE TTNE prediction validation set: 0.4659467935562134 (standardized) ; 17179.633333333335 (minutes)'\n",
      "Avg 1-(normalized) DL distance acitivty suffix prediction validation set: 0.84272700548172\n",
      "Percentage of suffixes predicted to END: too early - 0.29475356144649517 ; right moment - 0.6321829173695163 ; too late - 0.07306352118398858\n",
      "Too early instances - avg amount of events too early: 1.65971839427948\n",
      "Too late instances - avg amount of events too late: 3.148803472518921\n",
      "Avg absolute amount of events predicted too early / too late: 0.7192705869674683\n",
      "Avg MAE RRT prediction validation set: 0.6075255274772644 (standardized) ; 33143.15 (minutes)'\n",
      " \n",
      "------------------------------------\n",
      "EPOCH 40:\n",
      "____________________________________\n"
     ]
    },
    {
     "name": "stderr",
     "output_type": "stream",
     "text": [
      "Batch calculation at epoch 40.: 801it [01:10, 12.63it/s]"
     ]
    },
    {
     "name": "stdout",
     "output_type": "stream",
     "text": [
      "------------------------------------------------------------\n",
      "Epoch 40, batch 799:\n",
      "Average original gradient norm: 1.6829371494054794 (over last 800 batches)\n",
      "Average clipped gradient norm: 1.6612245307862759 (over last 800 batches)\n",
      "Running average global loss: 1.1925705481320619 (over last 800 batches)\n",
      "Running average activity prediction loss: 0.40297590374946596 (Cross Entropy over last 800 batches)\n",
      "Running average time till next event prediction loss: 0.2989565233513713 (MAE over last 800 batches)\n",
      "Running average (complete) remaining runtime prediction loss: 0.4906381222605705 (MAE over last 800 batches)\n",
      "------------------------------------------------------------\n"
     ]
    },
    {
     "name": "stderr",
     "output_type": "stream",
     "text": [
      "Batch calculation at epoch 40.: 1601it [02:27,  7.51it/s]"
     ]
    },
    {
     "name": "stdout",
     "output_type": "stream",
     "text": [
      "------------------------------------------------------------\n",
      "Epoch 40, batch 1599:\n",
      "Average original gradient norm: 1.6816410091519356 (over last 800 batches)\n",
      "Average clipped gradient norm: 1.6635723854601383 (over last 800 batches)\n",
      "Running average global loss: 1.1980025139451027 (over last 800 batches)\n",
      "Running average activity prediction loss: 0.40545719902962446 (Cross Entropy over last 800 batches)\n",
      "Running average time till next event prediction loss: 0.2994893308728933 (MAE over last 800 batches)\n",
      "Running average (complete) remaining runtime prediction loss: 0.4930559813603759 (MAE over last 800 batches)\n",
      "------------------------------------------------------------\n"
     ]
    },
    {
     "name": "stderr",
     "output_type": "stream",
     "text": [
      "Batch calculation at epoch 40.: 2401it [03:52, 12.99it/s]"
     ]
    },
    {
     "name": "stdout",
     "output_type": "stream",
     "text": [
      "------------------------------------------------------------\n",
      "Epoch 40, batch 2399:\n",
      "Average original gradient norm: 1.6960063536465169 (over last 800 batches)\n",
      "Average clipped gradient norm: 1.6767073832452297 (over last 800 batches)\n",
      "Running average global loss: 1.1955192275345325 (over last 800 batches)\n",
      "Running average activity prediction loss: 0.4050752205401659 (Cross Entropy over last 800 batches)\n",
      "Running average time till next event prediction loss: 0.2991554146260023 (MAE over last 800 batches)\n",
      "Running average (complete) remaining runtime prediction loss: 0.4912885916233063 (MAE over last 800 batches)\n",
      "------------------------------------------------------------\n"
     ]
    },
    {
     "name": "stderr",
     "output_type": "stream",
     "text": [
      "Batch calculation at epoch 40.: 3202it [05:15, 13.31it/s]"
     ]
    },
    {
     "name": "stdout",
     "output_type": "stream",
     "text": [
      "------------------------------------------------------------\n",
      "Epoch 40, batch 3199:\n",
      "Average original gradient norm: 1.6854523167014122 (over last 800 batches)\n",
      "Average clipped gradient norm: 1.6624353754520416 (over last 800 batches)\n",
      "Running average global loss: 1.1932998250424862 (over last 800 batches)\n",
      "Running average activity prediction loss: 0.40315990917384625 (Cross Entropy over last 800 batches)\n",
      "Running average time till next event prediction loss: 0.29906696124002335 (MAE over last 800 batches)\n",
      "Running average (complete) remaining runtime prediction loss: 0.4910729520022869 (MAE over last 800 batches)\n",
      "------------------------------------------------------------\n"
     ]
    },
    {
     "name": "stderr",
     "output_type": "stream",
     "text": [
      "Batch calculation at epoch 40.: 4001it [06:43,  8.34it/s]"
     ]
    },
    {
     "name": "stdout",
     "output_type": "stream",
     "text": [
      "------------------------------------------------------------\n",
      "Epoch 40, batch 3999:\n",
      "Average original gradient norm: 1.7055002401769161 (over last 800 batches)\n",
      "Average clipped gradient norm: 1.679472039192915 (over last 800 batches)\n",
      "Running average global loss: 1.1947897500544786 (over last 800 batches)\n",
      "Running average activity prediction loss: 0.40294043626636267 (Cross Entropy over last 800 batches)\n",
      "Running average time till next event prediction loss: 0.2987693180888891 (MAE over last 800 batches)\n",
      "Running average (complete) remaining runtime prediction loss: 0.4930799988657236 (MAE over last 800 batches)\n",
      "------------------------------------------------------------\n"
     ]
    },
    {
     "name": "stderr",
     "output_type": "stream",
     "text": [
      "Batch calculation at epoch 40.: 4295it [07:20,  9.75it/s]\n"
     ]
    },
    {
     "name": "stdout",
     "output_type": "stream",
     "text": [
      "=======================================\n",
      "End of epoch 40\n",
      "=======================================\n",
      "Running average global loss: 1.197554266154766 (over last 800 batches)\n",
      "Running average activity prediction loss: 0.4051487426832318 (Cross Entropy over last 800 batches)\n",
      "Running average time till next event prediction loss: 0.29930854028090836 (MAE over last 800 batches)\n",
      "Running average (complete) remaining runtime prediction loss: 0.4930969852954149 (MAE over last 800 batches)\n"
     ]
    },
    {
     "name": "stderr",
     "output_type": "stream",
     "text": [
      "Validation batch calculation: 20it [00:32,  1.61s/it]\n"
     ]
    },
    {
     "name": "stdout",
     "output_type": "stream",
     "text": [
      "Avg MAE TTNE prediction validation set: 0.4632963240146637 (standardized) ; 17092.43125 (minutes)'\n",
      "Avg 1-(normalized) DL distance acitivty suffix prediction validation set: 0.842292845249176\n",
      "Percentage of suffixes predicted to END: too early - 0.29539382149057464 ; right moment - 0.6322198554489824 ; too late - 0.07238632306044301\n",
      "Too early instances - avg amount of events too early: 1.6662081480026245\n",
      "Too late instances - avg amount of events too late: 3.1277427673339844\n",
      "Avg absolute amount of events predicted too early / too late: 0.718593418598175\n",
      "Avg MAE RRT prediction validation set: 0.6067507863044739 (standardized) ; 33096.28958333333 (minutes)'\n",
      " \n",
      "------------------------------------\n",
      "EPOCH 41:\n",
      "____________________________________\n"
     ]
    },
    {
     "name": "stderr",
     "output_type": "stream",
     "text": [
      "Batch calculation at epoch 41.: 802it [01:34, 10.97it/s]"
     ]
    },
    {
     "name": "stdout",
     "output_type": "stream",
     "text": [
      "------------------------------------------------------------\n",
      "Epoch 41, batch 799:\n",
      "Average original gradient norm: 1.6879369558393955 (over last 800 batches)\n",
      "Average clipped gradient norm: 1.6663496527075767 (over last 800 batches)\n",
      "Running average global loss: 1.1982776679843665 (over last 800 batches)\n",
      "Running average activity prediction loss: 0.40647260304540395 (Cross Entropy over last 800 batches)\n",
      "Running average time till next event prediction loss: 0.2999188799969852 (MAE over last 800 batches)\n",
      "Running average (complete) remaining runtime prediction loss: 0.49188618544489143 (MAE over last 800 batches)\n",
      "------------------------------------------------------------\n"
     ]
    },
    {
     "name": "stderr",
     "output_type": "stream",
     "text": [
      "Batch calculation at epoch 41.: 1602it [02:51, 10.94it/s]"
     ]
    },
    {
     "name": "stdout",
     "output_type": "stream",
     "text": [
      "------------------------------------------------------------\n",
      "Epoch 41, batch 1599:\n",
      "Average original gradient norm: 1.6940582457184792 (over last 800 batches)\n",
      "Average clipped gradient norm: 1.667206213325262 (over last 800 batches)\n",
      "Running average global loss: 1.1968077310919762 (over last 800 batches)\n",
      "Running average activity prediction loss: 0.4029943523928523 (Cross Entropy over last 800 batches)\n",
      "Running average time till next event prediction loss: 0.30046129524707793 (MAE over last 800 batches)\n",
      "Running average (complete) remaining runtime prediction loss: 0.4933520824089646 (MAE over last 800 batches)\n",
      "------------------------------------------------------------\n"
     ]
    },
    {
     "name": "stderr",
     "output_type": "stream",
     "text": [
      "Batch calculation at epoch 41.: 2401it [04:12,  7.31it/s]"
     ]
    },
    {
     "name": "stdout",
     "output_type": "stream",
     "text": [
      "------------------------------------------------------------\n",
      "Epoch 41, batch 2399:\n",
      "Average original gradient norm: 1.7008409939706326 (over last 800 batches)\n",
      "Average clipped gradient norm: 1.675219190120697 (over last 800 batches)\n",
      "Running average global loss: 1.1931087753921747 (over last 800 batches)\n",
      "Running average activity prediction loss: 0.4041318969801068 (Cross Entropy over last 800 batches)\n",
      "Running average time till next event prediction loss: 0.2980091537348926 (MAE over last 800 batches)\n",
      "Running average (complete) remaining runtime prediction loss: 0.49096772618591783 (MAE over last 800 batches)\n",
      "------------------------------------------------------------\n"
     ]
    },
    {
     "name": "stderr",
     "output_type": "stream",
     "text": [
      "Batch calculation at epoch 41.: 3202it [05:58,  8.71it/s]"
     ]
    },
    {
     "name": "stdout",
     "output_type": "stream",
     "text": [
      "------------------------------------------------------------\n",
      "Epoch 41, batch 3199:\n",
      "Average original gradient norm: 1.717975722104311 (over last 800 batches)\n",
      "Average clipped gradient norm: 1.6909377831220627 (over last 800 batches)\n",
      "Running average global loss: 1.1964047712832688 (over last 800 batches)\n",
      "Running average activity prediction loss: 0.4047545936703682 (Cross Entropy over last 800 batches)\n",
      "Running average time till next event prediction loss: 0.29852386709302664 (MAE over last 800 batches)\n",
      "Running average (complete) remaining runtime prediction loss: 0.49312631275504826 (MAE over last 800 batches)\n",
      "------------------------------------------------------------\n"
     ]
    },
    {
     "name": "stderr",
     "output_type": "stream",
     "text": [
      "Batch calculation at epoch 41.: 4001it [07:36,  6.38it/s]"
     ]
    },
    {
     "name": "stdout",
     "output_type": "stream",
     "text": [
      "------------------------------------------------------------\n",
      "Epoch 41, batch 3999:\n",
      "Average original gradient norm: 1.7439521086215972 (over last 800 batches)\n",
      "Average clipped gradient norm: 1.704320554435253 (over last 800 batches)\n",
      "Running average global loss: 1.1905095317959786 (over last 800 batches)\n",
      "Running average activity prediction loss: 0.4014172767847776 (Cross Entropy over last 800 batches)\n",
      "Running average time till next event prediction loss: 0.29864782011136415 (MAE over last 800 batches)\n",
      "Running average (complete) remaining runtime prediction loss: 0.4904444348067045 (MAE over last 800 batches)\n",
      "------------------------------------------------------------\n"
     ]
    },
    {
     "name": "stderr",
     "output_type": "stream",
     "text": [
      "Batch calculation at epoch 41.: 4295it [08:30,  8.41it/s]\n"
     ]
    },
    {
     "name": "stdout",
     "output_type": "stream",
     "text": [
      "=======================================\n",
      "End of epoch 41\n",
      "=======================================\n",
      "Running average global loss: 1.1883220451325178 (over last 800 batches)\n",
      "Running average activity prediction loss: 0.4006972510367632 (Cross Entropy over last 800 batches)\n",
      "Running average time till next event prediction loss: 0.298212181981653 (MAE over last 800 batches)\n",
      "Running average (complete) remaining runtime prediction loss: 0.489412611015141 (MAE over last 800 batches)\n"
     ]
    },
    {
     "name": "stderr",
     "output_type": "stream",
     "text": [
      "Validation batch calculation: 20it [00:35,  1.75s/it]\n"
     ]
    },
    {
     "name": "stdout",
     "output_type": "stream",
     "text": [
      "Avg MAE TTNE prediction validation set: 0.4609578847885132 (standardized) ; 17004.460416666665 (minutes)'\n",
      "Avg 1-(normalized) DL distance acitivty suffix prediction validation set: 0.8420231342315674\n",
      "Percentage of suffixes predicted to END: too early - 0.293990174470862 ; right moment - 0.63132102884864 ; too late - 0.07468879668049792\n",
      "Too early instances - avg amount of events too early: 1.6565313339233398\n",
      "Too late instances - avg amount of events too late: 3.2159578800201416\n",
      "Avg absolute amount of events predicted too early / too late: 0.7271999716758728\n",
      "Avg MAE RRT prediction validation set: 0.610602855682373 (standardized) ; 33304.13333333333 (minutes)'\n",
      " \n",
      "------------------------------------\n",
      "EPOCH 42:\n",
      "____________________________________\n"
     ]
    },
    {
     "name": "stderr",
     "output_type": "stream",
     "text": [
      "Batch calculation at epoch 42.: 802it [01:54, 10.36it/s]"
     ]
    },
    {
     "name": "stdout",
     "output_type": "stream",
     "text": [
      "------------------------------------------------------------\n",
      "Epoch 42, batch 799:\n",
      "Average original gradient norm: 1.6933229918777943 (over last 800 batches)\n",
      "Average clipped gradient norm: 1.6677515175938606 (over last 800 batches)\n",
      "Running average global loss: 1.1935997942835093 (over last 800 batches)\n",
      "Running average activity prediction loss: 0.40322438057512044 (Cross Entropy over last 800 batches)\n",
      "Running average time till next event prediction loss: 0.29818013824522493 (MAE over last 800 batches)\n",
      "Running average (complete) remaining runtime prediction loss: 0.49219527892768383 (MAE over last 800 batches)\n",
      "------------------------------------------------------------\n"
     ]
    },
    {
     "name": "stderr",
     "output_type": "stream",
     "text": [
      "Batch calculation at epoch 42.: 1601it [03:33,  7.67it/s]"
     ]
    },
    {
     "name": "stdout",
     "output_type": "stream",
     "text": [
      "------------------------------------------------------------\n",
      "Epoch 42, batch 1599:\n",
      "Average original gradient norm: 1.7074343301355839 (over last 800 batches)\n",
      "Average clipped gradient norm: 1.679385413080454 (over last 800 batches)\n",
      "Running average global loss: 1.1949890806525945 (over last 800 batches)\n",
      "Running average activity prediction loss: 0.4043568653985858 (Cross Entropy over last 800 batches)\n",
      "Running average time till next event prediction loss: 0.2991404974646866 (MAE over last 800 batches)\n",
      "Running average (complete) remaining runtime prediction loss: 0.4914917179942131 (MAE over last 800 batches)\n",
      "------------------------------------------------------------\n"
     ]
    },
    {
     "name": "stderr",
     "output_type": "stream",
     "text": [
      "Batch calculation at epoch 42.: 2401it [05:22,  6.05it/s]"
     ]
    },
    {
     "name": "stdout",
     "output_type": "stream",
     "text": [
      "------------------------------------------------------------\n",
      "Epoch 42, batch 2399:\n",
      "Average original gradient norm: 1.6982750354707241 (over last 800 batches)\n",
      "Average clipped gradient norm: 1.6735452218353748 (over last 800 batches)\n",
      "Running average global loss: 1.1943119559437037 (over last 800 batches)\n",
      "Running average activity prediction loss: 0.40442110758274796 (Cross Entropy over last 800 batches)\n",
      "Running average time till next event prediction loss: 0.2990921560116112 (MAE over last 800 batches)\n",
      "Running average (complete) remaining runtime prediction loss: 0.49079869478940963 (MAE over last 800 batches)\n",
      "------------------------------------------------------------\n"
     ]
    },
    {
     "name": "stderr",
     "output_type": "stream",
     "text": [
      "Batch calculation at epoch 42.: 3201it [07:14,  9.33it/s]"
     ]
    },
    {
     "name": "stdout",
     "output_type": "stream",
     "text": [
      "------------------------------------------------------------\n",
      "Epoch 42, batch 3199:\n",
      "Average original gradient norm: 1.7200039045512676 (over last 800 batches)\n",
      "Average clipped gradient norm: 1.6899234125018119 (over last 800 batches)\n",
      "Running average global loss: 1.1922016625851393 (over last 800 batches)\n",
      "Running average activity prediction loss: 0.403974993750453 (Cross Entropy over last 800 batches)\n",
      "Running average time till next event prediction loss: 0.29814614228904246 (MAE over last 800 batches)\n",
      "Running average (complete) remaining runtime prediction loss: 0.4900805278122425 (MAE over last 800 batches)\n",
      "------------------------------------------------------------\n"
     ]
    },
    {
     "name": "stderr",
     "output_type": "stream",
     "text": [
      "Batch calculation at epoch 42.: 4002it [09:09,  8.04it/s]"
     ]
    },
    {
     "name": "stdout",
     "output_type": "stream",
     "text": [
      "------------------------------------------------------------\n",
      "Epoch 42, batch 3999:\n",
      "Average original gradient norm: 1.6998637267947196 (over last 800 batches)\n",
      "Average clipped gradient norm: 1.6733048452436925 (over last 800 batches)\n",
      "Running average global loss: 1.195100965127349 (over last 800 batches)\n",
      "Running average activity prediction loss: 0.4023366799578071 (Cross Entropy over last 800 batches)\n",
      "Running average time till next event prediction loss: 0.2995061279833317 (MAE over last 800 batches)\n",
      "Running average (complete) remaining runtime prediction loss: 0.49325815655291083 (MAE over last 800 batches)\n",
      "------------------------------------------------------------\n"
     ]
    },
    {
     "name": "stderr",
     "output_type": "stream",
     "text": [
      "Batch calculation at epoch 42.: 4295it [09:48,  7.30it/s]\n"
     ]
    },
    {
     "name": "stdout",
     "output_type": "stream",
     "text": [
      "=======================================\n",
      "End of epoch 42\n",
      "=======================================\n",
      "Running average global loss: 1.1970019929856062 (over last 800 batches)\n",
      "Running average activity prediction loss: 0.4030427800118923 (Cross Entropy over last 800 batches)\n",
      "Running average time till next event prediction loss: 0.30017124619334934 (MAE over last 800 batches)\n",
      "Running average (complete) remaining runtime prediction loss: 0.49378796689212323 (MAE over last 800 batches)\n"
     ]
    },
    {
     "name": "stderr",
     "output_type": "stream",
     "text": [
      "Validation batch calculation: 20it [00:52,  2.60s/it]\n"
     ]
    },
    {
     "name": "stdout",
     "output_type": "stream",
     "text": [
      "Avg MAE TTNE prediction validation set: 0.4669421315193176 (standardized) ; 17206.172916666666 (minutes)'\n",
      "Avg 1-(normalized) DL distance acitivty suffix prediction validation set: 0.8426464796066284\n",
      "Percentage of suffixes predicted to END: too early - 0.2923895243606634 ; right moment - 0.632404545846313 ; too late - 0.07520592979302362\n",
      "Too early instances - avg amount of events too early: 1.6467764377593994\n",
      "Too late instances - avg amount of events too late: 3.1519320011138916\n",
      "Avg absolute amount of events predicted too early / too late: 0.7185441255569458\n",
      "Avg MAE RRT prediction validation set: 0.6087340712547302 (standardized) ; 33204.01875 (minutes)'\n",
      " \n",
      "------------------------------------\n",
      "EPOCH 43:\n",
      "____________________________________\n"
     ]
    },
    {
     "name": "stderr",
     "output_type": "stream",
     "text": [
      "Batch calculation at epoch 43.: 801it [01:47,  8.25it/s]"
     ]
    },
    {
     "name": "stdout",
     "output_type": "stream",
     "text": [
      "------------------------------------------------------------\n",
      "Epoch 43, batch 799:\n",
      "Average original gradient norm: 1.723322522342205 (over last 800 batches)\n",
      "Average clipped gradient norm: 1.6958474250137805 (over last 800 batches)\n",
      "Running average global loss: 1.1923646964877843 (over last 800 batches)\n",
      "Running average activity prediction loss: 0.4020557430386543 (Cross Entropy over last 800 batches)\n",
      "Running average time till next event prediction loss: 0.29994674943387506 (MAE over last 800 batches)\n",
      "Running average (complete) remaining runtime prediction loss: 0.4903622033447027 (MAE over last 800 batches)\n",
      "------------------------------------------------------------\n"
     ]
    },
    {
     "name": "stderr",
     "output_type": "stream",
     "text": [
      "Batch calculation at epoch 43.: 1601it [03:57,  6.10it/s]"
     ]
    },
    {
     "name": "stdout",
     "output_type": "stream",
     "text": [
      "------------------------------------------------------------\n",
      "Epoch 43, batch 1599:\n",
      "Average original gradient norm: 1.7040998421609401 (over last 800 batches)\n",
      "Average clipped gradient norm: 1.678323311805725 (over last 800 batches)\n",
      "Running average global loss: 1.1896315586566926 (over last 800 batches)\n",
      "Running average activity prediction loss: 0.40172178745269777 (Cross Entropy over last 800 batches)\n",
      "Running average time till next event prediction loss: 0.2976061909645796 (MAE over last 800 batches)\n",
      "Running average (complete) remaining runtime prediction loss: 0.49030357841402294 (MAE over last 800 batches)\n",
      "------------------------------------------------------------\n"
     ]
    },
    {
     "name": "stderr",
     "output_type": "stream",
     "text": [
      "Batch calculation at epoch 43.: 2400it [06:19,  4.72it/s]"
     ]
    },
    {
     "name": "stdout",
     "output_type": "stream",
     "text": [
      "------------------------------------------------------------\n",
      "Epoch 43, batch 2399:\n",
      "Average original gradient norm: 1.7113153123855591 (over last 800 batches)\n",
      "Average clipped gradient norm: 1.6855174712836742 (over last 800 batches)\n",
      "Running average global loss: 1.191111226528883 (over last 800 batches)\n",
      "Running average activity prediction loss: 0.403152408786118 (Cross Entropy over last 800 batches)\n",
      "Running average time till next event prediction loss: 0.29780612226575615 (MAE over last 800 batches)\n",
      "Running average (complete) remaining runtime prediction loss: 0.4901526965200901 (MAE over last 800 batches)\n",
      "------------------------------------------------------------\n"
     ]
    },
    {
     "name": "stderr",
     "output_type": "stream",
     "text": [
      "Batch calculation at epoch 43.: 3201it [08:23,  7.24it/s]"
     ]
    },
    {
     "name": "stdout",
     "output_type": "stream",
     "text": [
      "------------------------------------------------------------\n",
      "Epoch 43, batch 3199:\n",
      "Average original gradient norm: 1.701234025657177 (over last 800 batches)\n",
      "Average clipped gradient norm: 1.680997370183468 (over last 800 batches)\n",
      "Running average global loss: 1.1951415932178497 (over last 800 batches)\n",
      "Running average activity prediction loss: 0.40325899567455054 (Cross Entropy over last 800 batches)\n",
      "Running average time till next event prediction loss: 0.29834328623488543 (MAE over last 800 batches)\n",
      "Running average (complete) remaining runtime prediction loss: 0.4935393100976944 (MAE over last 800 batches)\n",
      "------------------------------------------------------------\n"
     ]
    },
    {
     "name": "stderr",
     "output_type": "stream",
     "text": [
      "Batch calculation at epoch 43.: 4001it [10:17,  6.90it/s]"
     ]
    },
    {
     "name": "stdout",
     "output_type": "stream",
     "text": [
      "------------------------------------------------------------\n",
      "Epoch 43, batch 3999:\n",
      "Average original gradient norm: 1.7548310409486294 (over last 800 batches)\n",
      "Average clipped gradient norm: 1.7170041573047639 (over last 800 batches)\n",
      "Running average global loss: 1.1975460872799157 (over last 800 batches)\n",
      "Running average activity prediction loss: 0.40573135286569595 (Cross Entropy over last 800 batches)\n",
      "Running average time till next event prediction loss: 0.2989443333633244 (MAE over last 800 batches)\n",
      "Running average (complete) remaining runtime prediction loss: 0.49287040017545225 (MAE over last 800 batches)\n",
      "------------------------------------------------------------\n"
     ]
    },
    {
     "name": "stderr",
     "output_type": "stream",
     "text": [
      "Batch calculation at epoch 43.: 4295it [10:54,  6.57it/s]\n"
     ]
    },
    {
     "name": "stdout",
     "output_type": "stream",
     "text": [
      "=======================================\n",
      "End of epoch 43\n",
      "=======================================\n",
      "Running average global loss: 1.1979761109501124 (over last 800 batches)\n",
      "Running average activity prediction loss: 0.4061376468837261 (Cross Entropy over last 800 batches)\n",
      "Running average time till next event prediction loss: 0.299366134237498 (MAE over last 800 batches)\n",
      "Running average (complete) remaining runtime prediction loss: 0.4924723279476166 (MAE over last 800 batches)\n"
     ]
    },
    {
     "name": "stderr",
     "output_type": "stream",
     "text": [
      "Validation batch calculation: 20it [00:47,  2.40s/it]\n"
     ]
    },
    {
     "name": "stdout",
     "output_type": "stream",
     "text": [
      "Avg MAE TTNE prediction validation set: 0.46846505999565125 (standardized) ; 17268.896875 (minutes)'\n",
      "Avg 1-(normalized) DL distance acitivty suffix prediction validation set: 0.8427062034606934\n",
      "Percentage of suffixes predicted to END: too early - 0.2941379267887265 ; right moment - 0.6321459792900501 ; too late - 0.07371609392122339\n",
      "Too early instances - avg amount of events too early: 1.663150429725647\n",
      "Too late instances - avg amount of events too late: 3.059295177459717\n",
      "Avg absolute amount of events predicted too early / too late: 0.7147148847579956\n",
      "Avg MAE RRT prediction validation set: 0.6090431213378906 (standardized) ; 33226.28333333333 (minutes)'\n",
      " \n",
      "------------------------------------\n",
      "EPOCH 44:\n",
      "____________________________________\n"
     ]
    },
    {
     "name": "stderr",
     "output_type": "stream",
     "text": [
      "Batch calculation at epoch 44.: 801it [01:44,  8.90it/s]"
     ]
    },
    {
     "name": "stdout",
     "output_type": "stream",
     "text": [
      "------------------------------------------------------------\n",
      "Epoch 44, batch 799:\n",
      "Average original gradient norm: 1.706849373281002 (over last 800 batches)\n",
      "Average clipped gradient norm: 1.6839419695734978 (over last 800 batches)\n",
      "Running average global loss: 1.1905293788015843 (over last 800 batches)\n",
      "Running average activity prediction loss: 0.4011107873916626 (Cross Entropy over last 800 batches)\n",
      "Running average time till next event prediction loss: 0.2973550958186388 (MAE over last 800 batches)\n",
      "Running average (complete) remaining runtime prediction loss: 0.4920634941756725 (MAE over last 800 batches)\n",
      "------------------------------------------------------------\n"
     ]
    },
    {
     "name": "stderr",
     "output_type": "stream",
     "text": [
      "Batch calculation at epoch 44.: 1601it [04:02,  7.88it/s]"
     ]
    },
    {
     "name": "stdout",
     "output_type": "stream",
     "text": [
      "------------------------------------------------------------\n",
      "Epoch 44, batch 1599:\n",
      "Average original gradient norm: 1.6752924798429012 (over last 800 batches)\n",
      "Average clipped gradient norm: 1.6570786295831204 (over last 800 batches)\n",
      "Running average global loss: 1.1952000652253627 (over last 800 batches)\n",
      "Running average activity prediction loss: 0.40398064063861966 (Cross Entropy over last 800 batches)\n",
      "Running average time till next event prediction loss: 0.2994919313117862 (MAE over last 800 batches)\n",
      "Running average (complete) remaining runtime prediction loss: 0.4917274922132492 (MAE over last 800 batches)\n",
      "------------------------------------------------------------\n"
     ]
    },
    {
     "name": "stderr",
     "output_type": "stream",
     "text": [
      "Batch calculation at epoch 44.: 2401it [05:52,  5.95it/s]"
     ]
    },
    {
     "name": "stdout",
     "output_type": "stream",
     "text": [
      "------------------------------------------------------------\n",
      "Epoch 44, batch 2399:\n",
      "Average original gradient norm: 1.6949003857374192 (over last 800 batches)\n",
      "Average clipped gradient norm: 1.6685283656418324 (over last 800 batches)\n",
      "Running average global loss: 1.1931536492705346 (over last 800 batches)\n",
      "Running average activity prediction loss: 0.40425862416625025 (Cross Entropy over last 800 batches)\n",
      "Running average time till next event prediction loss: 0.29861836357042193 (MAE over last 800 batches)\n",
      "Running average (complete) remaining runtime prediction loss: 0.49027666069567205 (MAE over last 800 batches)\n",
      "------------------------------------------------------------\n"
     ]
    },
    {
     "name": "stderr",
     "output_type": "stream",
     "text": [
      "Batch calculation at epoch 44.: 3202it [07:31,  9.60it/s]"
     ]
    },
    {
     "name": "stdout",
     "output_type": "stream",
     "text": [
      "------------------------------------------------------------\n",
      "Epoch 44, batch 3199:\n",
      "Average original gradient norm: 1.6738981610536576 (over last 800 batches)\n",
      "Average clipped gradient norm: 1.6514049680531024 (over last 800 batches)\n",
      "Running average global loss: 1.1926075901091098 (over last 800 batches)\n",
      "Running average activity prediction loss: 0.4020940262451768 (Cross Entropy over last 800 batches)\n",
      "Running average time till next event prediction loss: 0.2991047172434628 (MAE over last 800 batches)\n",
      "Running average (complete) remaining runtime prediction loss: 0.4914088461920619 (MAE over last 800 batches)\n",
      "------------------------------------------------------------\n"
     ]
    },
    {
     "name": "stderr",
     "output_type": "stream",
     "text": [
      "Batch calculation at epoch 44.: 4001it [08:50, 11.48it/s]"
     ]
    },
    {
     "name": "stdout",
     "output_type": "stream",
     "text": [
      "------------------------------------------------------------\n",
      "Epoch 44, batch 3999:\n",
      "Average original gradient norm: 1.6932045674324037 (over last 800 batches)\n",
      "Average clipped gradient norm: 1.6713685569167138 (over last 800 batches)\n",
      "Running average global loss: 1.1938663728535175 (over last 800 batches)\n",
      "Running average activity prediction loss: 0.4041614867001772 (Cross Entropy over last 800 batches)\n",
      "Running average time till next event prediction loss: 0.29854153510183096 (MAE over last 800 batches)\n",
      "Running average (complete) remaining runtime prediction loss: 0.4911633534729481 (MAE over last 800 batches)\n",
      "------------------------------------------------------------\n"
     ]
    },
    {
     "name": "stderr",
     "output_type": "stream",
     "text": [
      "Batch calculation at epoch 44.: 4295it [09:26,  7.59it/s]\n"
     ]
    },
    {
     "name": "stdout",
     "output_type": "stream",
     "text": [
      "=======================================\n",
      "End of epoch 44\n",
      "=======================================\n",
      "Running average global loss: 1.192391656935215 (over last 800 batches)\n",
      "Running average activity prediction loss: 0.4046210662648082 (Cross Entropy over last 800 batches)\n",
      "Running average time till next event prediction loss: 0.2976664212718606 (MAE over last 800 batches)\n",
      "Running average (complete) remaining runtime prediction loss: 0.490104170627892 (MAE over last 800 batches)\n"
     ]
    },
    {
     "name": "stderr",
     "output_type": "stream",
     "text": [
      "Validation batch calculation: 20it [00:33,  1.66s/it]\n"
     ]
    },
    {
     "name": "stdout",
     "output_type": "stream",
     "text": [
      "Avg MAE TTNE prediction validation set: 0.46239277720451355 (standardized) ; 17060.204166666666 (minutes)'\n",
      "Avg 1-(normalized) DL distance acitivty suffix prediction validation set: 0.8426399230957031\n",
      "Percentage of suffixes predicted to END: too early - 0.29520913109324404 ; right moment - 0.6322937316079146 ; too late - 0.07249713729884137\n",
      "Too early instances - avg amount of events too early: 1.6636219024658203\n",
      "Too late instances - avg amount of events too late: 3.1640625\n",
      "Avg absolute amount of events predicted too early / too late: 0.7205018401145935\n",
      "Avg MAE RRT prediction validation set: 0.6109690070152283 (standardized) ; 33322.260416666664 (minutes)'\n",
      " \n",
      "------------------------------------\n",
      "EPOCH 45:\n",
      "____________________________________\n"
     ]
    },
    {
     "name": "stderr",
     "output_type": "stream",
     "text": [
      "Batch calculation at epoch 45.: 801it [01:23,  6.88it/s]"
     ]
    },
    {
     "name": "stdout",
     "output_type": "stream",
     "text": [
      "------------------------------------------------------------\n",
      "Epoch 45, batch 799:\n",
      "Average original gradient norm: 1.7177488870918751 (over last 800 batches)\n",
      "Average clipped gradient norm: 1.6908517621457577 (over last 800 batches)\n",
      "Running average global loss: 1.191606540158391 (over last 800 batches)\n",
      "Running average activity prediction loss: 0.4024369164928794 (Cross Entropy over last 800 batches)\n",
      "Running average time till next event prediction loss: 0.29846006983891127 (MAE over last 800 batches)\n",
      "Running average (complete) remaining runtime prediction loss: 0.49070955358445645 (MAE over last 800 batches)\n",
      "------------------------------------------------------------\n"
     ]
    },
    {
     "name": "stderr",
     "output_type": "stream",
     "text": [
      "Batch calculation at epoch 45.: 1601it [02:45, 10.75it/s]"
     ]
    },
    {
     "name": "stdout",
     "output_type": "stream",
     "text": [
      "------------------------------------------------------------\n",
      "Epoch 45, batch 1599:\n",
      "Average original gradient norm: 1.7219673191010951 (over last 800 batches)\n",
      "Average clipped gradient norm: 1.6912714444100856 (over last 800 batches)\n",
      "Running average global loss: 1.1939208150655032 (over last 800 batches)\n",
      "Running average activity prediction loss: 0.4027598746493459 (Cross Entropy over last 800 batches)\n",
      "Running average time till next event prediction loss: 0.2983850770443678 (MAE over last 800 batches)\n",
      "Running average (complete) remaining runtime prediction loss: 0.4927758644521236 (MAE over last 800 batches)\n",
      "------------------------------------------------------------\n"
     ]
    },
    {
     "name": "stderr",
     "output_type": "stream",
     "text": [
      "Batch calculation at epoch 45.: 2402it [04:04, 11.10it/s]"
     ]
    },
    {
     "name": "stdout",
     "output_type": "stream",
     "text": [
      "------------------------------------------------------------\n",
      "Epoch 45, batch 2399:\n",
      "Average original gradient norm: 1.7188906329870224 (over last 800 batches)\n",
      "Average clipped gradient norm: 1.6946801403164864 (over last 800 batches)\n",
      "Running average global loss: 1.1872450106590986 (over last 800 batches)\n",
      "Running average activity prediction loss: 0.40221321702003476 (Cross Entropy over last 800 batches)\n",
      "Running average time till next event prediction loss: 0.2980866919085383 (MAE over last 800 batches)\n",
      "Running average (complete) remaining runtime prediction loss: 0.48694510363042354 (MAE over last 800 batches)\n",
      "------------------------------------------------------------\n"
     ]
    },
    {
     "name": "stderr",
     "output_type": "stream",
     "text": [
      "Batch calculation at epoch 45.: 3201it [05:28,  9.93it/s]"
     ]
    },
    {
     "name": "stdout",
     "output_type": "stream",
     "text": [
      "------------------------------------------------------------\n",
      "Epoch 45, batch 3199:\n",
      "Average original gradient norm: 1.6895688340067863 (over last 800 batches)\n",
      "Average clipped gradient norm: 1.6684997794032097 (over last 800 batches)\n",
      "Running average global loss: 1.1950260029733182 (over last 800 batches)\n",
      "Running average activity prediction loss: 0.4045862876623869 (Cross Entropy over last 800 batches)\n",
      "Running average time till next event prediction loss: 0.29819245686754586 (MAE over last 800 batches)\n",
      "Running average (complete) remaining runtime prediction loss: 0.4922472616657615 (MAE over last 800 batches)\n",
      "------------------------------------------------------------\n"
     ]
    },
    {
     "name": "stderr",
     "output_type": "stream",
     "text": [
      "Batch calculation at epoch 45.: 4001it [07:14,  5.62it/s]"
     ]
    },
    {
     "name": "stdout",
     "output_type": "stream",
     "text": [
      "------------------------------------------------------------\n",
      "Epoch 45, batch 3999:\n",
      "Average original gradient norm: 1.717211874872446 (over last 800 batches)\n",
      "Average clipped gradient norm: 1.6921543294191361 (over last 800 batches)\n",
      "Running average global loss: 1.1934971386939288 (over last 800 batches)\n",
      "Running average activity prediction loss: 0.4022997231036425 (Cross Entropy over last 800 batches)\n",
      "Running average time till next event prediction loss: 0.2980229882337153 (MAE over last 800 batches)\n",
      "Running average (complete) remaining runtime prediction loss: 0.49317442409694195 (MAE over last 800 batches)\n",
      "------------------------------------------------------------\n"
     ]
    },
    {
     "name": "stderr",
     "output_type": "stream",
     "text": [
      "Batch calculation at epoch 45.: 4295it [08:06,  8.82it/s]\n"
     ]
    },
    {
     "name": "stdout",
     "output_type": "stream",
     "text": [
      "=======================================\n",
      "End of epoch 45\n",
      "=======================================\n",
      "Running average global loss: 1.194709681943059 (over last 800 batches)\n",
      "Running average activity prediction loss: 0.40238517861813305 (Cross Entropy over last 800 batches)\n",
      "Running average time till next event prediction loss: 0.29810153326019645 (MAE over last 800 batches)\n",
      "Running average (complete) remaining runtime prediction loss: 0.49422296840697527 (MAE over last 800 batches)\n"
     ]
    },
    {
     "name": "stderr",
     "output_type": "stream",
     "text": [
      "Validation batch calculation: 20it [00:32,  1.63s/it]\n"
     ]
    },
    {
     "name": "stdout",
     "output_type": "stream",
     "text": [
      "Avg MAE TTNE prediction validation set: 0.462813138961792 (standardized) ; 17074.039583333335 (minutes)'\n",
      "Avg 1-(normalized) DL distance acitivty suffix prediction validation set: 0.8425360321998596\n",
      "Percentage of suffixes predicted to END: too early - 0.2948028122191167 ; right moment - 0.6319489761995641 ; too late - 0.07324821158131918\n",
      "Too early instances - avg amount of events too early: 1.658438801765442\n",
      "Too late instances - avg amount of events too late: 3.17750883102417\n",
      "Avg absolute amount of events predicted too early / too late: 0.721659243106842\n",
      "Avg MAE RRT prediction validation set: 0.6082921028137207 (standardized) ; 33177.239583333336 (minutes)'\n",
      " \n",
      "------------------------------------\n",
      "EPOCH 46:\n",
      "____________________________________\n"
     ]
    },
    {
     "name": "stderr",
     "output_type": "stream",
     "text": [
      "Batch calculation at epoch 46.: 801it [01:49,  9.74it/s]"
     ]
    },
    {
     "name": "stdout",
     "output_type": "stream",
     "text": [
      "------------------------------------------------------------\n",
      "Epoch 46, batch 799:\n",
      "Average original gradient norm: 1.7166646993160248 (over last 800 batches)\n",
      "Average clipped gradient norm: 1.6913106215000153 (over last 800 batches)\n",
      "Running average global loss: 1.1914783331006766 (over last 800 batches)\n",
      "Running average activity prediction loss: 0.4011795314401388 (Cross Entropy over last 800 batches)\n",
      "Running average time till next event prediction loss: 0.2989196535758674 (MAE over last 800 batches)\n",
      "Running average (complete) remaining runtime prediction loss: 0.4913791474699974 (MAE over last 800 batches)\n",
      "------------------------------------------------------------\n"
     ]
    },
    {
     "name": "stderr",
     "output_type": "stream",
     "text": [
      "Batch calculation at epoch 46.: 1601it [03:55,  7.33it/s]"
     ]
    },
    {
     "name": "stdout",
     "output_type": "stream",
     "text": [
      "------------------------------------------------------------\n",
      "Epoch 46, batch 1599:\n",
      "Average original gradient norm: 1.7304466034471988 (over last 800 batches)\n",
      "Average clipped gradient norm: 1.6990783141553403 (over last 800 batches)\n",
      "Running average global loss: 1.193615996465087 (over last 800 batches)\n",
      "Running average activity prediction loss: 0.404254046715796 (Cross Entropy over last 800 batches)\n",
      "Running average time till next event prediction loss: 0.2978077595308423 (MAE over last 800 batches)\n",
      "Running average (complete) remaining runtime prediction loss: 0.4915541898459196 (MAE over last 800 batches)\n",
      "------------------------------------------------------------\n"
     ]
    },
    {
     "name": "stderr",
     "output_type": "stream",
     "text": [
      "Batch calculation at epoch 46.: 2401it [05:39, 12.29it/s]"
     ]
    },
    {
     "name": "stdout",
     "output_type": "stream",
     "text": [
      "------------------------------------------------------------\n",
      "Epoch 46, batch 2399:\n",
      "Average original gradient norm: 1.7094866022467614 (over last 800 batches)\n",
      "Average clipped gradient norm: 1.6874688456952571 (over last 800 batches)\n",
      "Running average global loss: 1.1921813184022902 (over last 800 batches)\n",
      "Running average activity prediction loss: 0.4029843128845096 (Cross Entropy over last 800 batches)\n",
      "Running average time till next event prediction loss: 0.29923680290579796 (MAE over last 800 batches)\n",
      "Running average (complete) remaining runtime prediction loss: 0.48996020402759316 (MAE over last 800 batches)\n",
      "------------------------------------------------------------\n"
     ]
    },
    {
     "name": "stderr",
     "output_type": "stream",
     "text": [
      "Batch calculation at epoch 46.: 3200it [07:46,  5.11it/s]"
     ]
    },
    {
     "name": "stdout",
     "output_type": "stream",
     "text": [
      "------------------------------------------------------------\n",
      "Epoch 46, batch 3199:\n",
      "Average original gradient norm: 1.7147207367420196 (over last 800 batches)\n",
      "Average clipped gradient norm: 1.6868273654580117 (over last 800 batches)\n",
      "Running average global loss: 1.188526518717408 (over last 800 batches)\n",
      "Running average activity prediction loss: 0.40085178673267363 (Cross Entropy over last 800 batches)\n",
      "Running average time till next event prediction loss: 0.29789717791602016 (MAE over last 800 batches)\n",
      "Running average (complete) remaining runtime prediction loss: 0.4897775549069047 (MAE over last 800 batches)\n",
      "------------------------------------------------------------\n"
     ]
    },
    {
     "name": "stderr",
     "output_type": "stream",
     "text": [
      "Batch calculation at epoch 46.: 4001it [09:25,  8.73it/s]"
     ]
    },
    {
     "name": "stdout",
     "output_type": "stream",
     "text": [
      "------------------------------------------------------------\n",
      "Epoch 46, batch 3999:\n",
      "Average original gradient norm: 1.7017832213640214 (over last 800 batches)\n",
      "Average clipped gradient norm: 1.680852997004986 (over last 800 batches)\n",
      "Running average global loss: 1.1926983562856912 (over last 800 batches)\n",
      "Running average activity prediction loss: 0.402571672052145 (Cross Entropy over last 800 batches)\n",
      "Running average time till next event prediction loss: 0.2983705999515951 (MAE over last 800 batches)\n",
      "Running average (complete) remaining runtime prediction loss: 0.491756082624197 (MAE over last 800 batches)\n",
      "------------------------------------------------------------\n"
     ]
    },
    {
     "name": "stderr",
     "output_type": "stream",
     "text": [
      "Batch calculation at epoch 46.: 4295it [10:04,  7.10it/s]\n"
     ]
    },
    {
     "name": "stdout",
     "output_type": "stream",
     "text": [
      "=======================================\n",
      "End of epoch 46\n",
      "=======================================\n",
      "Running average global loss: 1.1914508643746375 (over last 800 batches)\n",
      "Running average activity prediction loss: 0.4017181903868914 (Cross Entropy over last 800 batches)\n",
      "Running average time till next event prediction loss: 0.29793506862595676 (MAE over last 800 batches)\n",
      "Running average (complete) remaining runtime prediction loss: 0.4917976054176688 (MAE over last 800 batches)\n"
     ]
    },
    {
     "name": "stderr",
     "output_type": "stream",
     "text": [
      "Validation batch calculation: 20it [00:35,  1.80s/it]\n"
     ]
    },
    {
     "name": "stdout",
     "output_type": "stream",
     "text": [
      "Avg MAE TTNE prediction validation set: 0.4600490927696228 (standardized) ; 16967.994791666668 (minutes)'\n",
      "Avg 1-(normalized) DL distance acitivty suffix prediction validation set: 0.8424339890480042\n",
      "Percentage of suffixes predicted to END: too early - 0.2937069825282884 ; right moment - 0.6327369885615081 ; too late - 0.07355602891020353\n",
      "Too early instances - avg amount of events too early: 1.6505826711654663\n",
      "Too late instances - avg amount of events too late: 3.327251434326172\n",
      "Avg absolute amount of events predicted too early / too late: 0.7295270562171936\n",
      "Avg MAE RRT prediction validation set: 0.6107007265090942 (standardized) ; 33322.79791666667 (minutes)'\n",
      " \n",
      "------------------------------------\n",
      "EPOCH 47:\n",
      "____________________________________\n"
     ]
    },
    {
     "name": "stderr",
     "output_type": "stream",
     "text": [
      "Batch calculation at epoch 47.: 800it [02:16,  5.22it/s]"
     ]
    },
    {
     "name": "stdout",
     "output_type": "stream",
     "text": [
      "------------------------------------------------------------\n",
      "Epoch 47, batch 799:\n",
      "Average original gradient norm: 1.7391707834601402 (over last 800 batches)\n",
      "Average clipped gradient norm: 1.7095225125551223 (over last 800 batches)\n",
      "Running average global loss: 1.191178741157055 (over last 800 batches)\n",
      "Running average activity prediction loss: 0.3997547937743366 (Cross Entropy over last 800 batches)\n",
      "Running average time till next event prediction loss: 0.29856522819027304 (MAE over last 800 batches)\n",
      "Running average (complete) remaining runtime prediction loss: 0.49285872001200914 (MAE over last 800 batches)\n",
      "------------------------------------------------------------\n"
     ]
    },
    {
     "name": "stderr",
     "output_type": "stream",
     "text": [
      "Batch calculation at epoch 47.: 1600it [04:28,  9.50it/s]"
     ]
    },
    {
     "name": "stdout",
     "output_type": "stream",
     "text": [
      "------------------------------------------------------------\n",
      "Epoch 47, batch 1599:\n",
      "Average original gradient norm: 1.7098462991416454 (over last 800 batches)\n",
      "Average clipped gradient norm: 1.6843128629028796 (over last 800 batches)\n",
      "Running average global loss: 1.1895399205386639 (over last 800 batches)\n",
      "Running average activity prediction loss: 0.4015681267902255 (Cross Entropy over last 800 batches)\n",
      "Running average time till next event prediction loss: 0.2978668699786067 (MAE over last 800 batches)\n",
      "Running average (complete) remaining runtime prediction loss: 0.4901049256324768 (MAE over last 800 batches)\n",
      "------------------------------------------------------------\n"
     ]
    },
    {
     "name": "stderr",
     "output_type": "stream",
     "text": [
      "Batch calculation at epoch 47.: 2401it [06:41,  9.51it/s]"
     ]
    },
    {
     "name": "stdout",
     "output_type": "stream",
     "text": [
      "------------------------------------------------------------\n",
      "Epoch 47, batch 2399:\n",
      "Average original gradient norm: 1.7148654177784919 (over last 800 batches)\n",
      "Average clipped gradient norm: 1.6910095316171647 (over last 800 batches)\n",
      "Running average global loss: 1.1899167907983064 (over last 800 batches)\n",
      "Running average activity prediction loss: 0.4027162144333124 (Cross Entropy over last 800 batches)\n",
      "Running average time till next event prediction loss: 0.29799848672002555 (MAE over last 800 batches)\n",
      "Running average (complete) remaining runtime prediction loss: 0.48920209255069497 (MAE over last 800 batches)\n",
      "------------------------------------------------------------\n"
     ]
    },
    {
     "name": "stderr",
     "output_type": "stream",
     "text": [
      "Batch calculation at epoch 47.: 3201it [08:25,  9.07it/s]"
     ]
    },
    {
     "name": "stdout",
     "output_type": "stream",
     "text": [
      "------------------------------------------------------------\n",
      "Epoch 47, batch 3199:\n",
      "Average original gradient norm: 1.7100759664177894 (over last 800 batches)\n",
      "Average clipped gradient norm: 1.6890496005117894 (over last 800 batches)\n",
      "Running average global loss: 1.1930606647580861 (over last 800 batches)\n",
      "Running average activity prediction loss: 0.40415992598980666 (Cross Entropy over last 800 batches)\n",
      "Running average time till next event prediction loss: 0.298096425216645 (MAE over last 800 batches)\n",
      "Running average (complete) remaining runtime prediction loss: 0.4908043137937784 (MAE over last 800 batches)\n",
      "------------------------------------------------------------\n"
     ]
    },
    {
     "name": "stderr",
     "output_type": "stream",
     "text": [
      "Batch calculation at epoch 47.: 4001it [10:47,  6.40it/s]"
     ]
    },
    {
     "name": "stdout",
     "output_type": "stream",
     "text": [
      "------------------------------------------------------------\n",
      "Epoch 47, batch 3999:\n",
      "Average original gradient norm: 1.6743923860788346 (over last 800 batches)\n",
      "Average clipped gradient norm: 1.6564646215736867 (over last 800 batches)\n",
      "Running average global loss: 1.1905249232053756 (over last 800 batches)\n",
      "Running average activity prediction loss: 0.401994557082653 (Cross Entropy over last 800 batches)\n",
      "Running average time till next event prediction loss: 0.2979189680144191 (MAE over last 800 batches)\n",
      "Running average (complete) remaining runtime prediction loss: 0.4906113985180855 (MAE over last 800 batches)\n",
      "------------------------------------------------------------\n"
     ]
    },
    {
     "name": "stderr",
     "output_type": "stream",
     "text": [
      "Batch calculation at epoch 47.: 4295it [11:27,  6.25it/s]\n"
     ]
    },
    {
     "name": "stdout",
     "output_type": "stream",
     "text": [
      "=======================================\n",
      "End of epoch 47\n",
      "=======================================\n",
      "Running average global loss: 1.1931403625011443 (over last 800 batches)\n",
      "Running average activity prediction loss: 0.40271003510802983 (Cross Entropy over last 800 batches)\n",
      "Running average time till next event prediction loss: 0.297524407915771 (MAE over last 800 batches)\n",
      "Running average (complete) remaining runtime prediction loss: 0.49290591914206744 (MAE over last 800 batches)\n"
     ]
    },
    {
     "name": "stderr",
     "output_type": "stream",
     "text": [
      "Validation batch calculation: 20it [00:57,  2.85s/it]\n"
     ]
    },
    {
     "name": "stdout",
     "output_type": "stream",
     "text": [
      "Avg MAE TTNE prediction validation set: 0.4634442627429962 (standardized) ; 17088.808333333334 (minutes)'\n",
      "Avg 1-(normalized) DL distance acitivty suffix prediction validation set: 0.8424819707870483\n",
      "Percentage of suffixes predicted to END: too early - 0.29424874102712484 ; right moment - 0.6322198554489824 ; too late - 0.07353140352389279\n",
      "Too early instances - avg amount of events too early: 1.6543643474578857\n",
      "Too late instances - avg amount of events too late: 3.2193570137023926\n",
      "Avg absolute amount of events predicted too early / too late: 0.7235184907913208\n",
      "Avg MAE RRT prediction validation set: 0.6090111136436462 (standardized) ; 33224.504166666666 (minutes)'\n",
      " \n",
      "------------------------------------\n",
      "EPOCH 48:\n",
      "____________________________________\n"
     ]
    },
    {
     "name": "stderr",
     "output_type": "stream",
     "text": [
      "Batch calculation at epoch 48.: 800it [02:01,  5.33it/s]"
     ]
    },
    {
     "name": "stdout",
     "output_type": "stream",
     "text": [
      "------------------------------------------------------------\n",
      "Epoch 48, batch 799:\n",
      "Average original gradient norm: 1.7134647063910962 (over last 800 batches)\n",
      "Average clipped gradient norm: 1.6881548196077347 (over last 800 batches)\n",
      "Running average global loss: 1.1908938279747963 (over last 800 batches)\n",
      "Running average activity prediction loss: 0.4021594178676605 (Cross Entropy over last 800 batches)\n",
      "Running average time till next event prediction loss: 0.2975792489387095 (MAE over last 800 batches)\n",
      "Running average (complete) remaining runtime prediction loss: 0.4911551592499018 (MAE over last 800 batches)\n",
      "------------------------------------------------------------\n"
     ]
    },
    {
     "name": "stderr",
     "output_type": "stream",
     "text": [
      "Batch calculation at epoch 48.: 1601it [04:16, 10.44it/s]"
     ]
    },
    {
     "name": "stdout",
     "output_type": "stream",
     "text": [
      "------------------------------------------------------------\n",
      "Epoch 48, batch 1599:\n",
      "Average original gradient norm: 1.6794077786803245 (over last 800 batches)\n",
      "Average clipped gradient norm: 1.6598363056778909 (over last 800 batches)\n",
      "Running average global loss: 1.191439332962036 (over last 800 batches)\n",
      "Running average activity prediction loss: 0.40226118490099905 (Cross Entropy over last 800 batches)\n",
      "Running average time till next event prediction loss: 0.2983492369018495 (MAE over last 800 batches)\n",
      "Running average (complete) remaining runtime prediction loss: 0.49082890823483466 (MAE over last 800 batches)\n",
      "------------------------------------------------------------\n"
     ]
    },
    {
     "name": "stderr",
     "output_type": "stream",
     "text": [
      "Batch calculation at epoch 48.: 2400it [06:03,  9.28it/s]"
     ]
    },
    {
     "name": "stdout",
     "output_type": "stream",
     "text": [
      "------------------------------------------------------------\n",
      "Epoch 48, batch 2399:\n",
      "Average original gradient norm: 1.7153421688079833 (over last 800 batches)\n",
      "Average clipped gradient norm: 1.6871499815583229 (over last 800 batches)\n",
      "Running average global loss: 1.186419441252947 (over last 800 batches)\n",
      "Running average activity prediction loss: 0.399802853949368 (Cross Entropy over last 800 batches)\n",
      "Running average time till next event prediction loss: 0.2971471491269767 (MAE over last 800 batches)\n",
      "Running average (complete) remaining runtime prediction loss: 0.4894694366678596 (MAE over last 800 batches)\n",
      "------------------------------------------------------------\n"
     ]
    },
    {
     "name": "stderr",
     "output_type": "stream",
     "text": [
      "Batch calculation at epoch 48.: 3200it [08:06,  4.04it/s]"
     ]
    },
    {
     "name": "stdout",
     "output_type": "stream",
     "text": [
      "------------------------------------------------------------\n",
      "Epoch 48, batch 3199:\n",
      "Average original gradient norm: 1.6907992465794086 (over last 800 batches)\n",
      "Average clipped gradient norm: 1.6691354970633983 (over last 800 batches)\n",
      "Running average global loss: 1.1897449968010188 (over last 800 batches)\n",
      "Running average activity prediction loss: 0.40134420100599527 (Cross Entropy over last 800 batches)\n",
      "Running average time till next event prediction loss: 0.29901694191619754 (MAE over last 800 batches)\n",
      "Running average (complete) remaining runtime prediction loss: 0.48938385233283044 (MAE over last 800 batches)\n",
      "------------------------------------------------------------\n"
     ]
    },
    {
     "name": "stderr",
     "output_type": "stream",
     "text": [
      "Batch calculation at epoch 48.: 4001it [10:11,  8.26it/s]"
     ]
    },
    {
     "name": "stdout",
     "output_type": "stream",
     "text": [
      "------------------------------------------------------------\n",
      "Epoch 48, batch 3999:\n",
      "Average original gradient norm: 1.694475559145212 (over last 800 batches)\n",
      "Average clipped gradient norm: 1.6701810505986214 (over last 800 batches)\n",
      "Running average global loss: 1.1917714168131353 (over last 800 batches)\n",
      "Running average activity prediction loss: 0.40250600915402174 (Cross Entropy over last 800 batches)\n",
      "Running average time till next event prediction loss: 0.2975531225837767 (MAE over last 800 batches)\n",
      "Running average (complete) remaining runtime prediction loss: 0.4917122822627425 (MAE over last 800 batches)\n",
      "------------------------------------------------------------\n"
     ]
    },
    {
     "name": "stderr",
     "output_type": "stream",
     "text": [
      "Batch calculation at epoch 48.: 4295it [11:00,  6.50it/s]\n"
     ]
    },
    {
     "name": "stdout",
     "output_type": "stream",
     "text": [
      "=======================================\n",
      "End of epoch 48\n",
      "=======================================\n",
      "Running average global loss: 1.194669893682003 (over last 800 batches)\n",
      "Running average activity prediction loss: 0.4041565039381385 (Cross Entropy over last 800 batches)\n",
      "Running average time till next event prediction loss: 0.29797473158687354 (MAE over last 800 batches)\n",
      "Running average (complete) remaining runtime prediction loss: 0.492538655474782 (MAE over last 800 batches)\n"
     ]
    },
    {
     "name": "stderr",
     "output_type": "stream",
     "text": [
      "Validation batch calculation: 20it [00:54,  2.72s/it]\n"
     ]
    },
    {
     "name": "stdout",
     "output_type": "stream",
     "text": [
      "Avg MAE TTNE prediction validation set: 0.4654354751110077 (standardized) ; 17161.858333333334 (minutes)'\n",
      "Avg 1-(normalized) DL distance acitivty suffix prediction validation set: 0.8429762125015259\n",
      "Percentage of suffixes predicted to END: too early - 0.29502444069591344 ; right moment - 0.6327246758683527 ; too late - 0.0722508834357339\n",
      "Too early instances - avg amount of events too early: 1.6670422554016113\n",
      "Too late instances - avg amount of events too late: 3.103783130645752\n",
      "Avg absolute amount of events predicted too early / too late: 0.7160692811012268\n",
      "Avg MAE RRT prediction validation set: 0.6077606081962585 (standardized) ; 33153.0 (minutes)'\n",
      " \n",
      "------------------------------------\n",
      "EPOCH 49:\n",
      "____________________________________\n"
     ]
    },
    {
     "name": "stderr",
     "output_type": "stream",
     "text": [
      "Batch calculation at epoch 49.: 801it [01:55,  8.61it/s]"
     ]
    },
    {
     "name": "stdout",
     "output_type": "stream",
     "text": [
      "------------------------------------------------------------\n",
      "Epoch 49, batch 799:\n",
      "Average original gradient norm: 1.6961869506537914 (over last 800 batches)\n",
      "Average clipped gradient norm: 1.6753294914960861 (over last 800 batches)\n",
      "Running average global loss: 1.1890374310314655 (over last 800 batches)\n",
      "Running average activity prediction loss: 0.40136265505105256 (Cross Entropy over last 800 batches)\n",
      "Running average time till next event prediction loss: 0.297925698235631 (MAE over last 800 batches)\n",
      "Running average (complete) remaining runtime prediction loss: 0.4897490771487355 (MAE over last 800 batches)\n",
      "------------------------------------------------------------\n"
     ]
    },
    {
     "name": "stderr",
     "output_type": "stream",
     "text": [
      "Batch calculation at epoch 49.: 1600it [03:51, 11.59it/s]"
     ]
    },
    {
     "name": "stdout",
     "output_type": "stream",
     "text": [
      "------------------------------------------------------------\n",
      "Epoch 49, batch 1599:\n",
      "Average original gradient norm: 1.6859354025125504 (over last 800 batches)\n",
      "Average clipped gradient norm: 1.6665499575436116 (over last 800 batches)\n",
      "Running average global loss: 1.1877336960285902 (over last 800 batches)\n",
      "Running average activity prediction loss: 0.40021754808723925 (Cross Entropy over last 800 batches)\n",
      "Running average time till next event prediction loss: 0.2991903507709503 (MAE over last 800 batches)\n",
      "Running average (complete) remaining runtime prediction loss: 0.4883257957175374 (MAE over last 800 batches)\n",
      "------------------------------------------------------------\n"
     ]
    },
    {
     "name": "stderr",
     "output_type": "stream",
     "text": [
      "Batch calculation at epoch 49.: 2402it [05:17, 10.26it/s]"
     ]
    },
    {
     "name": "stdout",
     "output_type": "stream",
     "text": [
      "------------------------------------------------------------\n",
      "Epoch 49, batch 2399:\n",
      "Average original gradient norm: 1.683936034142971 (over last 800 batches)\n",
      "Average clipped gradient norm: 1.6644315174221993 (over last 800 batches)\n",
      "Running average global loss: 1.194415955990553 (over last 800 batches)\n",
      "Running average activity prediction loss: 0.4044244472309947 (Cross Entropy over last 800 batches)\n",
      "Running average time till next event prediction loss: 0.2982200707495213 (MAE over last 800 batches)\n",
      "Running average (complete) remaining runtime prediction loss: 0.49177144091576336 (MAE over last 800 batches)\n",
      "------------------------------------------------------------\n"
     ]
    },
    {
     "name": "stderr",
     "output_type": "stream",
     "text": [
      "Batch calculation at epoch 49.: 3201it [07:09,  5.98it/s]"
     ]
    },
    {
     "name": "stdout",
     "output_type": "stream",
     "text": [
      "------------------------------------------------------------\n",
      "Epoch 49, batch 3199:\n",
      "Average original gradient norm: 1.7109465603530407 (over last 800 batches)\n",
      "Average clipped gradient norm: 1.6823287765681743 (over last 800 batches)\n",
      "Running average global loss: 1.1912497129291295 (over last 800 batches)\n",
      "Running average activity prediction loss: 0.4013369568809867 (Cross Entropy over last 800 batches)\n",
      "Running average time till next event prediction loss: 0.29655120538547636 (MAE over last 800 batches)\n",
      "Running average (complete) remaining runtime prediction loss: 0.49336155150085687 (MAE over last 800 batches)\n",
      "------------------------------------------------------------\n"
     ]
    },
    {
     "name": "stderr",
     "output_type": "stream",
     "text": [
      "Batch calculation at epoch 49.: 4000it [09:22,  6.98it/s]"
     ]
    },
    {
     "name": "stdout",
     "output_type": "stream",
     "text": [
      "------------------------------------------------------------\n",
      "Epoch 49, batch 3999:\n",
      "Average original gradient norm: 1.7179736958444118 (over last 800 batches)\n",
      "Average clipped gradient norm: 1.6932751923799514 (over last 800 batches)\n",
      "Running average global loss: 1.1895849604904651 (over last 800 batches)\n",
      "Running average activity prediction loss: 0.4019278247654438 (Cross Entropy over last 800 batches)\n",
      "Running average time till next event prediction loss: 0.2975479032099247 (MAE over last 800 batches)\n",
      "Running average (complete) remaining runtime prediction loss: 0.49010923340916634 (MAE over last 800 batches)\n",
      "------------------------------------------------------------\n"
     ]
    },
    {
     "name": "stderr",
     "output_type": "stream",
     "text": [
      "Batch calculation at epoch 49.: 4295it [10:00,  7.15it/s]\n"
     ]
    },
    {
     "name": "stdout",
     "output_type": "stream",
     "text": [
      "=======================================\n",
      "End of epoch 49\n",
      "=======================================\n",
      "Running average global loss: 1.1896486172825098 (over last 800 batches)\n",
      "Running average activity prediction loss: 0.40259689338505267 (Cross Entropy over last 800 batches)\n",
      "Running average time till next event prediction loss: 0.297206892259419 (MAE over last 800 batches)\n",
      "Running average (complete) remaining runtime prediction loss: 0.4898448311910033 (MAE over last 800 batches)\n"
     ]
    },
    {
     "name": "stderr",
     "output_type": "stream",
     "text": [
      "Validation batch calculation: 20it [00:31,  1.60s/it]\n"
     ]
    },
    {
     "name": "stdout",
     "output_type": "stream",
     "text": [
      "Avg MAE TTNE prediction validation set: 0.46457070112228394 (standardized) ; 17131.23125 (minutes)'\n",
      "Avg 1-(normalized) DL distance acitivty suffix prediction validation set: 0.8426362872123718\n",
      "Percentage of suffixes predicted to END: too early - 0.2953199453316424 ; right moment - 0.6323183569942253 ; too late - 0.07236169767413227\n",
      "Too early instances - avg amount of events too early: 1.6670001745224\n",
      "Too late instances - avg amount of events too late: 3.0888209342956543\n",
      "Avg absolute amount of events predicted too early / too late: 0.7158107161521912\n",
      "Avg MAE RRT prediction validation set: 0.6088076829910278 (standardized) ; 33213.92916666667 (minutes)'\n",
      " \n",
      "------------------------------------\n",
      "EPOCH 50:\n",
      "____________________________________\n"
     ]
    },
    {
     "name": "stderr",
     "output_type": "stream",
     "text": [
      "Batch calculation at epoch 50.: 801it [01:52,  7.39it/s]"
     ]
    },
    {
     "name": "stdout",
     "output_type": "stream",
     "text": [
      "------------------------------------------------------------\n",
      "Epoch 50, batch 799:\n",
      "Average original gradient norm: 1.6951661747694016 (over last 800 batches)\n",
      "Average clipped gradient norm: 1.6751296803355218 (over last 800 batches)\n",
      "Running average global loss: 1.1854324040561914 (over last 800 batches)\n",
      "Running average activity prediction loss: 0.40123082503676416 (Cross Entropy over last 800 batches)\n",
      "Running average time till next event prediction loss: 0.29704035066068174 (MAE over last 800 batches)\n",
      "Running average (complete) remaining runtime prediction loss: 0.487161228582263 (MAE over last 800 batches)\n",
      "------------------------------------------------------------\n"
     ]
    },
    {
     "name": "stderr",
     "output_type": "stream",
     "text": [
      "Batch calculation at epoch 50.: 1601it [03:24,  6.02it/s]"
     ]
    },
    {
     "name": "stdout",
     "output_type": "stream",
     "text": [
      "------------------------------------------------------------\n",
      "Epoch 50, batch 1599:\n",
      "Average original gradient norm: 1.6810473139584063 (over last 800 batches)\n",
      "Average clipped gradient norm: 1.6609712593257426 (over last 800 batches)\n",
      "Running average global loss: 1.189613883793354 (over last 800 batches)\n",
      "Running average activity prediction loss: 0.40134235136210916 (Cross Entropy over last 800 batches)\n",
      "Running average time till next event prediction loss: 0.29746005333960057 (MAE over last 800 batches)\n",
      "Running average (complete) remaining runtime prediction loss: 0.4908114792779088 (MAE over last 800 batches)\n",
      "------------------------------------------------------------\n"
     ]
    },
    {
     "name": "stderr",
     "output_type": "stream",
     "text": [
      "Batch calculation at epoch 50.: 2401it [05:01,  9.72it/s]"
     ]
    },
    {
     "name": "stdout",
     "output_type": "stream",
     "text": [
      "------------------------------------------------------------\n",
      "Epoch 50, batch 2399:\n",
      "Average original gradient norm: 1.6803532387316227 (over last 800 batches)\n",
      "Average clipped gradient norm: 1.661479191482067 (over last 800 batches)\n",
      "Running average global loss: 1.1924507509171962 (over last 800 batches)\n",
      "Running average activity prediction loss: 0.40136538568884134 (Cross Entropy over last 800 batches)\n",
      "Running average time till next event prediction loss: 0.29845951160416007 (MAE over last 800 batches)\n",
      "Running average (complete) remaining runtime prediction loss: 0.4926258554682136 (MAE over last 800 batches)\n",
      "------------------------------------------------------------\n"
     ]
    },
    {
     "name": "stderr",
     "output_type": "stream",
     "text": [
      "Batch calculation at epoch 50.: 3202it [06:31, 10.43it/s]"
     ]
    },
    {
     "name": "stdout",
     "output_type": "stream",
     "text": [
      "------------------------------------------------------------\n",
      "Epoch 50, batch 3199:\n",
      "Average original gradient norm: 1.6971918261051178 (over last 800 batches)\n",
      "Average clipped gradient norm: 1.6752858512103557 (over last 800 batches)\n",
      "Running average global loss: 1.189988214597106 (over last 800 batches)\n",
      "Running average activity prediction loss: 0.40136620406061413 (Cross Entropy over last 800 batches)\n",
      "Running average time till next event prediction loss: 0.2973561834916472 (MAE over last 800 batches)\n",
      "Running average (complete) remaining runtime prediction loss: 0.4912658304348588 (MAE over last 800 batches)\n",
      "------------------------------------------------------------\n"
     ]
    },
    {
     "name": "stderr",
     "output_type": "stream",
     "text": [
      "Batch calculation at epoch 50.: 4001it [07:55,  9.99it/s]"
     ]
    },
    {
     "name": "stdout",
     "output_type": "stream",
     "text": [
      "------------------------------------------------------------\n",
      "Epoch 50, batch 3999:\n",
      "Average original gradient norm: 1.6807541194558144 (over last 800 batches)\n",
      "Average clipped gradient norm: 1.6606551718711853 (over last 800 batches)\n",
      "Running average global loss: 1.1904570810496806 (over last 800 batches)\n",
      "Running average activity prediction loss: 0.40224574945867064 (Cross Entropy over last 800 batches)\n",
      "Running average time till next event prediction loss: 0.2977355560101569 (MAE over last 800 batches)\n",
      "Running average (complete) remaining runtime prediction loss: 0.4904757796227932 (MAE over last 800 batches)\n",
      "------------------------------------------------------------\n"
     ]
    },
    {
     "name": "stderr",
     "output_type": "stream",
     "text": [
      "Batch calculation at epoch 50.: 4295it [08:35,  8.33it/s]\n"
     ]
    },
    {
     "name": "stdout",
     "output_type": "stream",
     "text": [
      "=======================================\n",
      "End of epoch 50\n",
      "=======================================\n",
      "Running average global loss: 1.1897216046601533 (over last 800 batches)\n",
      "Running average activity prediction loss: 0.40241558287292717 (Cross Entropy over last 800 batches)\n",
      "Running average time till next event prediction loss: 0.29775542609393596 (MAE over last 800 batches)\n",
      "Running average (complete) remaining runtime prediction loss: 0.48955059841275217 (MAE over last 800 batches)\n"
     ]
    },
    {
     "name": "stderr",
     "output_type": "stream",
     "text": [
      "Validation batch calculation: 20it [00:30,  1.52s/it]\n"
     ]
    },
    {
     "name": "stdout",
     "output_type": "stream",
     "text": [
      "Avg MAE TTNE prediction validation set: 0.4647842049598694 (standardized) ; 17138.319791666665 (minutes)'\n",
      "Avg 1-(normalized) DL distance acitivty suffix prediction validation set: 0.8419268727302551\n",
      "Percentage of suffixes predicted to END: too early - 0.2931159732568305 ; right moment - 0.6322567935284484 ; too late - 0.07462723321472106\n",
      "Too early instances - avg amount of events too early: 1.6466437578201294\n",
      "Too late instances - avg amount of events too late: 3.2580432891845703\n",
      "Avg absolute amount of events predicted too early / too late: 0.7257963418960571\n",
      "Avg MAE RRT prediction validation set: 0.6094846725463867 (standardized) ; 33245.229166666664 (minutes)'\n",
      " \n",
      "------------------------------------\n",
      "EPOCH 51:\n",
      "____________________________________\n"
     ]
    },
    {
     "name": "stderr",
     "output_type": "stream",
     "text": [
      "Batch calculation at epoch 51.: 801it [01:28,  7.15it/s]"
     ]
    },
    {
     "name": "stdout",
     "output_type": "stream",
     "text": [
      "------------------------------------------------------------\n",
      "Epoch 51, batch 799:\n",
      "Average original gradient norm: 1.6970275354385376 (over last 800 batches)\n",
      "Average clipped gradient norm: 1.6803911991417408 (over last 800 batches)\n",
      "Running average global loss: 1.1838036777824164 (over last 800 batches)\n",
      "Running average activity prediction loss: 0.39885332334786655 (Cross Entropy over last 800 batches)\n",
      "Running average time till next event prediction loss: 0.2964689490199089 (MAE over last 800 batches)\n",
      "Running average (complete) remaining runtime prediction loss: 0.4884814036637545 (MAE over last 800 batches)\n",
      "------------------------------------------------------------\n"
     ]
    },
    {
     "name": "stderr",
     "output_type": "stream",
     "text": [
      "Batch calculation at epoch 51.: 1602it [03:21,  8.59it/s]"
     ]
    },
    {
     "name": "stdout",
     "output_type": "stream",
     "text": [
      "------------------------------------------------------------\n",
      "Epoch 51, batch 1599:\n",
      "Average original gradient norm: 1.727602583616972 (over last 800 batches)\n",
      "Average clipped gradient norm: 1.69980524122715 (over last 800 batches)\n",
      "Running average global loss: 1.1897310871630906 (over last 800 batches)\n",
      "Running average activity prediction loss: 0.4018489225581288 (Cross Entropy over last 800 batches)\n",
      "Running average time till next event prediction loss: 0.29654495103284717 (MAE over last 800 batches)\n",
      "Running average (complete) remaining runtime prediction loss: 0.491337211728096 (MAE over last 800 batches)\n",
      "------------------------------------------------------------\n"
     ]
    },
    {
     "name": "stderr",
     "output_type": "stream",
     "text": [
      "Batch calculation at epoch 51.: 2401it [05:03,  5.86it/s]"
     ]
    },
    {
     "name": "stdout",
     "output_type": "stream",
     "text": [
      "------------------------------------------------------------\n",
      "Epoch 51, batch 2399:\n",
      "Average original gradient norm: 1.6923584869503976 (over last 800 batches)\n",
      "Average clipped gradient norm: 1.6724227164685725 (over last 800 batches)\n",
      "Running average global loss: 1.191344152316451 (over last 800 batches)\n",
      "Running average activity prediction loss: 0.402514002174139 (Cross Entropy over last 800 batches)\n",
      "Running average time till next event prediction loss: 0.29811061376705766 (MAE over last 800 batches)\n",
      "Running average (complete) remaining runtime prediction loss: 0.4907195362821221 (MAE over last 800 batches)\n",
      "------------------------------------------------------------\n"
     ]
    },
    {
     "name": "stderr",
     "output_type": "stream",
     "text": [
      "Batch calculation at epoch 51.: 3201it [06:39,  8.69it/s]"
     ]
    },
    {
     "name": "stdout",
     "output_type": "stream",
     "text": [
      "------------------------------------------------------------\n",
      "Epoch 51, batch 3199:\n",
      "Average original gradient norm: 1.7022821494936944 (over last 800 batches)\n",
      "Average clipped gradient norm: 1.6849897497892379 (over last 800 batches)\n",
      "Running average global loss: 1.1873767673224211 (over last 800 batches)\n",
      "Running average activity prediction loss: 0.398936212323606 (Cross Entropy over last 800 batches)\n",
      "Running average time till next event prediction loss: 0.2991614147089422 (MAE over last 800 batches)\n",
      "Running average (complete) remaining runtime prediction loss: 0.4892791422083974 (MAE over last 800 batches)\n",
      "------------------------------------------------------------\n"
     ]
    },
    {
     "name": "stderr",
     "output_type": "stream",
     "text": [
      "Batch calculation at epoch 51.: 4002it [08:05, 10.60it/s]"
     ]
    },
    {
     "name": "stdout",
     "output_type": "stream",
     "text": [
      "------------------------------------------------------------\n",
      "Epoch 51, batch 3999:\n",
      "Average original gradient norm: 1.722639241963625 (over last 800 batches)\n",
      "Average clipped gradient norm: 1.693893355578184 (over last 800 batches)\n",
      "Running average global loss: 1.1940903244167567 (over last 800 batches)\n",
      "Running average activity prediction loss: 0.40393841579556466 (Cross Entropy over last 800 batches)\n",
      "Running average time till next event prediction loss: 0.2976435670442879 (MAE over last 800 batches)\n",
      "Running average (complete) remaining runtime prediction loss: 0.49250834055244924 (MAE over last 800 batches)\n",
      "------------------------------------------------------------\n"
     ]
    },
    {
     "name": "stderr",
     "output_type": "stream",
     "text": [
      "Batch calculation at epoch 51.: 4295it [08:38,  8.29it/s]\n"
     ]
    },
    {
     "name": "stdout",
     "output_type": "stream",
     "text": [
      "=======================================\n",
      "End of epoch 51\n",
      "=======================================\n",
      "Running average global loss: 1.1900528967380524 (over last 800 batches)\n",
      "Running average activity prediction loss: 0.40215939935296774 (Cross Entropy over last 800 batches)\n",
      "Running average time till next event prediction loss: 0.29670391937717794 (MAE over last 800 batches)\n",
      "Running average (complete) remaining runtime prediction loss: 0.49118957821279763 (MAE over last 800 batches)\n"
     ]
    },
    {
     "name": "stderr",
     "output_type": "stream",
     "text": [
      "Validation batch calculation: 20it [00:38,  1.93s/it]\n"
     ]
    },
    {
     "name": "stdout",
     "output_type": "stream",
     "text": [
      "Avg MAE TTNE prediction validation set: 0.46137720346450806 (standardized) ; 17021.055208333335 (minutes)'\n",
      "Avg 1-(normalized) DL distance acitivty suffix prediction validation set: 0.8422863483428955\n",
      "Percentage of suffixes predicted to END: too early - 0.2931898494157627 ; right moment - 0.6323552950736915 ; too late - 0.07445485551054583\n",
      "Too early instances - avg amount of events too early: 1.6488745212554932\n",
      "Too late instances - avg amount of events too late: 3.32743501663208\n",
      "Avg absolute amount of events predicted too early / too late: 0.7311769723892212\n",
      "Avg MAE RRT prediction validation set: 0.6088369488716125 (standardized) ; 33213.583333333336 (minutes)'\n",
      " \n",
      "------------------------------------\n",
      "EPOCH 52:\n",
      "____________________________________\n"
     ]
    },
    {
     "name": "stderr",
     "output_type": "stream",
     "text": [
      "Batch calculation at epoch 52.: 800it [01:47,  5.12it/s]"
     ]
    },
    {
     "name": "stdout",
     "output_type": "stream",
     "text": [
      "------------------------------------------------------------\n",
      "Epoch 52, batch 799:\n",
      "Average original gradient norm: 1.6884712190926074 (over last 800 batches)\n",
      "Average clipped gradient norm: 1.6657630443572997 (over last 800 batches)\n",
      "Running average global loss: 1.1917858067899942 (over last 800 batches)\n",
      "Running average activity prediction loss: 0.4037945373728871 (Cross Entropy over last 800 batches)\n",
      "Running average time till next event prediction loss: 0.2982484116218984 (MAE over last 800 batches)\n",
      "Running average (complete) remaining runtime prediction loss: 0.4897428591176867 (MAE over last 800 batches)\n",
      "------------------------------------------------------------\n"
     ]
    },
    {
     "name": "stderr",
     "output_type": "stream",
     "text": [
      "Batch calculation at epoch 52.: 1600it [03:47,  4.20it/s]"
     ]
    },
    {
     "name": "stdout",
     "output_type": "stream",
     "text": [
      "------------------------------------------------------------\n",
      "Epoch 52, batch 1599:\n",
      "Average original gradient norm: 1.6954997234046458 (over last 800 batches)\n",
      "Average clipped gradient norm: 1.6758318619430066 (over last 800 batches)\n",
      "Running average global loss: 1.1884661328792572 (over last 800 batches)\n",
      "Running average activity prediction loss: 0.39942701388150453 (Cross Entropy over last 800 batches)\n",
      "Running average time till next event prediction loss: 0.2971630589663982 (MAE over last 800 batches)\n",
      "Running average (complete) remaining runtime prediction loss: 0.4918760583549738 (MAE over last 800 batches)\n",
      "------------------------------------------------------------\n"
     ]
    },
    {
     "name": "stderr",
     "output_type": "stream",
     "text": [
      "Batch calculation at epoch 52.: 2401it [06:01,  6.72it/s]"
     ]
    },
    {
     "name": "stdout",
     "output_type": "stream",
     "text": [
      "------------------------------------------------------------\n",
      "Epoch 52, batch 2399:\n",
      "Average original gradient norm: 1.7239605796337127 (over last 800 batches)\n",
      "Average clipped gradient norm: 1.698929255604744 (over last 800 batches)\n",
      "Running average global loss: 1.1887407860904933 (over last 800 batches)\n",
      "Running average activity prediction loss: 0.40189002465456725 (Cross Entropy over last 800 batches)\n",
      "Running average time till next event prediction loss: 0.29882337994873526 (MAE over last 800 batches)\n",
      "Running average (complete) remaining runtime prediction loss: 0.4880273833870888 (MAE over last 800 batches)\n",
      "------------------------------------------------------------\n"
     ]
    },
    {
     "name": "stderr",
     "output_type": "stream",
     "text": [
      "Batch calculation at epoch 52.: 3201it [08:41,  8.44it/s]"
     ]
    },
    {
     "name": "stdout",
     "output_type": "stream",
     "text": [
      "------------------------------------------------------------\n",
      "Epoch 52, batch 3199:\n",
      "Average original gradient norm: 1.694943432509899 (over last 800 batches)\n",
      "Average clipped gradient norm: 1.6807151030004024 (over last 800 batches)\n",
      "Running average global loss: 1.1868602004647255 (over last 800 batches)\n",
      "Running average activity prediction loss: 0.39978827649727466 (Cross Entropy over last 800 batches)\n",
      "Running average time till next event prediction loss: 0.29550820112228393 (MAE over last 800 batches)\n",
      "Running average (complete) remaining runtime prediction loss: 0.49156372275203464 (MAE over last 800 batches)\n",
      "------------------------------------------------------------\n"
     ]
    },
    {
     "name": "stderr",
     "output_type": "stream",
     "text": [
      "Batch calculation at epoch 52.: 4001it [10:33,  8.71it/s]"
     ]
    },
    {
     "name": "stdout",
     "output_type": "stream",
     "text": [
      "------------------------------------------------------------\n",
      "Epoch 52, batch 3999:\n",
      "Average original gradient norm: 1.7436005616188048 (over last 800 batches)\n",
      "Average clipped gradient norm: 1.7145264853537083 (over last 800 batches)\n",
      "Running average global loss: 1.190889628380537 (over last 800 batches)\n",
      "Running average activity prediction loss: 0.4019918744638562 (Cross Entropy over last 800 batches)\n",
      "Running average time till next event prediction loss: 0.29809510650113225 (MAE over last 800 batches)\n",
      "Running average (complete) remaining runtime prediction loss: 0.49080264892429115 (MAE over last 800 batches)\n",
      "------------------------------------------------------------\n"
     ]
    },
    {
     "name": "stderr",
     "output_type": "stream",
     "text": [
      "Batch calculation at epoch 52.: 4295it [11:09,  6.42it/s]\n"
     ]
    },
    {
     "name": "stdout",
     "output_type": "stream",
     "text": [
      "=======================================\n",
      "End of epoch 52\n",
      "=======================================\n",
      "Running average global loss: 1.1890584889054299 (over last 800 batches)\n",
      "Running average activity prediction loss: 0.4022823867201805 (Cross Entropy over last 800 batches)\n",
      "Running average time till next event prediction loss: 0.2973095964081585 (MAE over last 800 batches)\n",
      "Running average (complete) remaining runtime prediction loss: 0.4894665060937405 (MAE over last 800 batches)\n"
     ]
    },
    {
     "name": "stderr",
     "output_type": "stream",
     "text": [
      "Validation batch calculation: 20it [00:58,  2.91s/it]\n"
     ]
    },
    {
     "name": "stdout",
     "output_type": "stream",
     "text": [
      "Avg MAE TTNE prediction validation set: 0.46550253033638 (standardized) ; 17168.144791666666 (minutes)'\n",
      "Avg 1-(normalized) DL distance acitivty suffix prediction validation set: 0.8422496914863586\n",
      "Percentage of suffixes predicted to END: too early - 0.2946304345149415 ; right moment - 0.6317027223364566 ; too late - 0.07366684314860189\n",
      "Too early instances - avg amount of events too early: 1.6601612567901611\n",
      "Too late instances - avg amount of events too late: 3.1942169666290283\n",
      "Avg absolute amount of events predicted too early / too late: 0.7244419455528259\n",
      "Avg MAE RRT prediction validation set: 0.610362708568573 (standardized) ; 33293.70416666667 (minutes)'\n",
      " \n",
      "------------------------------------\n",
      "EPOCH 53:\n",
      "____________________________________\n"
     ]
    },
    {
     "name": "stderr",
     "output_type": "stream",
     "text": [
      "Batch calculation at epoch 53.: 800it [02:13,  4.95it/s]"
     ]
    },
    {
     "name": "stdout",
     "output_type": "stream",
     "text": [
      "------------------------------------------------------------\n",
      "Epoch 53, batch 799:\n",
      "Average original gradient norm: 1.6926283048093318 (over last 800 batches)\n",
      "Average clipped gradient norm: 1.6740739369392394 (over last 800 batches)\n",
      "Running average global loss: 1.1838482233136893 (over last 800 batches)\n",
      "Running average activity prediction loss: 0.39817892655730247 (Cross Entropy over last 800 batches)\n",
      "Running average time till next event prediction loss: 0.29741433560848235 (MAE over last 800 batches)\n",
      "Running average (complete) remaining runtime prediction loss: 0.4882549588754773 (MAE over last 800 batches)\n",
      "------------------------------------------------------------\n"
     ]
    },
    {
     "name": "stderr",
     "output_type": "stream",
     "text": [
      "Batch calculation at epoch 53.: 1601it [04:25,  6.90it/s]"
     ]
    },
    {
     "name": "stdout",
     "output_type": "stream",
     "text": [
      "------------------------------------------------------------\n",
      "Epoch 53, batch 1599:\n",
      "Average original gradient norm: 1.7150029361248016 (over last 800 batches)\n",
      "Average clipped gradient norm: 1.69617543682456 (over last 800 batches)\n",
      "Running average global loss: 1.1870807760953903 (over last 800 batches)\n",
      "Running average activity prediction loss: 0.4008052846044302 (Cross Entropy over last 800 batches)\n",
      "Running average time till next event prediction loss: 0.2972763876989484 (MAE over last 800 batches)\n",
      "Running average (complete) remaining runtime prediction loss: 0.48899910140782593 (MAE over last 800 batches)\n",
      "------------------------------------------------------------\n"
     ]
    },
    {
     "name": "stderr",
     "output_type": "stream",
     "text": [
      "Batch calculation at epoch 53.: 2401it [06:28,  8.86it/s]"
     ]
    },
    {
     "name": "stdout",
     "output_type": "stream",
     "text": [
      "------------------------------------------------------------\n",
      "Epoch 53, batch 2399:\n",
      "Average original gradient norm: 1.6944018344581127 (over last 800 batches)\n",
      "Average clipped gradient norm: 1.674584793895483 (over last 800 batches)\n",
      "Running average global loss: 1.1903673396259546 (over last 800 batches)\n",
      "Running average activity prediction loss: 0.4018591111525893 (Cross Entropy over last 800 batches)\n",
      "Running average time till next event prediction loss: 0.29752388650551437 (MAE over last 800 batches)\n",
      "Running average (complete) remaining runtime prediction loss: 0.49098434288054704 (MAE over last 800 batches)\n",
      "------------------------------------------------------------\n"
     ]
    },
    {
     "name": "stderr",
     "output_type": "stream",
     "text": [
      "Batch calculation at epoch 53.: 3201it [08:16,  8.21it/s]"
     ]
    },
    {
     "name": "stdout",
     "output_type": "stream",
     "text": [
      "------------------------------------------------------------\n",
      "Epoch 53, batch 3199:\n",
      "Average original gradient norm: 1.7079696036875247 (over last 800 batches)\n",
      "Average clipped gradient norm: 1.6844754973053933 (over last 800 batches)\n",
      "Running average global loss: 1.1864660055935383 (over last 800 batches)\n",
      "Running average activity prediction loss: 0.39967874526977537 (Cross Entropy over last 800 batches)\n",
      "Running average time till next event prediction loss: 0.2971357595734298 (MAE over last 800 batches)\n",
      "Running average (complete) remaining runtime prediction loss: 0.4896514988318086 (MAE over last 800 batches)\n",
      "------------------------------------------------------------\n"
     ]
    },
    {
     "name": "stderr",
     "output_type": "stream",
     "text": [
      "Batch calculation at epoch 53.: 4001it [09:59,  8.41it/s]"
     ]
    },
    {
     "name": "stdout",
     "output_type": "stream",
     "text": [
      "------------------------------------------------------------\n",
      "Epoch 53, batch 3999:\n",
      "Average original gradient norm: 1.6900804717838764 (over last 800 batches)\n",
      "Average clipped gradient norm: 1.6718631516397 (over last 800 batches)\n",
      "Running average global loss: 1.1904902314394712 (over last 800 batches)\n",
      "Running average activity prediction loss: 0.4019156255573034 (Cross Entropy over last 800 batches)\n",
      "Running average time till next event prediction loss: 0.2971172140724957 (MAE over last 800 batches)\n",
      "Running average (complete) remaining runtime prediction loss: 0.49145739287137985 (MAE over last 800 batches)\n",
      "------------------------------------------------------------\n"
     ]
    },
    {
     "name": "stderr",
     "output_type": "stream",
     "text": [
      "Batch calculation at epoch 53.: 4295it [10:38,  6.73it/s]\n"
     ]
    },
    {
     "name": "stdout",
     "output_type": "stream",
     "text": [
      "=======================================\n",
      "End of epoch 53\n",
      "=======================================\n",
      "Running average global loss: 1.1941218240559102 (over last 800 batches)\n",
      "Running average activity prediction loss: 0.4034611960873008 (Cross Entropy over last 800 batches)\n",
      "Running average time till next event prediction loss: 0.29737277505919335 (MAE over last 800 batches)\n",
      "Running average (complete) remaining runtime prediction loss: 0.49328785374760625 (MAE over last 800 batches)\n"
     ]
    },
    {
     "name": "stderr",
     "output_type": "stream",
     "text": [
      "Validation batch calculation: 20it [00:50,  2.55s/it]\n"
     ]
    },
    {
     "name": "stdout",
     "output_type": "stream",
     "text": [
      "Avg MAE TTNE prediction validation set: 0.4656517207622528 (standardized) ; 17178.628125 (minutes)'\n",
      "Avg 1-(normalized) DL distance acitivty suffix prediction validation set: 0.8428491353988647\n",
      "Percentage of suffixes predicted to END: too early - 0.2945565583560092 ; right moment - 0.6331925582082569 ; too late - 0.0722508834357339\n",
      "Too early instances - avg amount of events too early: 1.6607030630111694\n",
      "Too late instances - avg amount of events too late: 3.1593387126922607\n",
      "Avg absolute amount of events predicted too early / too late: 0.7174360156059265\n",
      "Avg MAE RRT prediction validation set: 0.6073914170265198 (standardized) ; 33139.26875 (minutes)'\n",
      " \n",
      "------------------------------------\n",
      "EPOCH 54:\n",
      "____________________________________\n"
     ]
    },
    {
     "name": "stderr",
     "output_type": "stream",
     "text": [
      "Batch calculation at epoch 54.: 801it [01:29, 12.11it/s]"
     ]
    },
    {
     "name": "stdout",
     "output_type": "stream",
     "text": [
      "------------------------------------------------------------\n",
      "Epoch 54, batch 799:\n",
      "Average original gradient norm: 1.7099456903338432 (over last 800 batches)\n",
      "Average clipped gradient norm: 1.6883846908807754 (over last 800 batches)\n",
      "Running average global loss: 1.1861094074696303 (over last 800 batches)\n",
      "Running average activity prediction loss: 0.4002890281006694 (Cross Entropy over last 800 batches)\n",
      "Running average time till next event prediction loss: 0.2970806719735265 (MAE over last 800 batches)\n",
      "Running average (complete) remaining runtime prediction loss: 0.48873970720916987 (MAE over last 800 batches)\n",
      "------------------------------------------------------------\n"
     ]
    },
    {
     "name": "stderr",
     "output_type": "stream",
     "text": [
      "Batch calculation at epoch 54.: 1602it [02:44, 13.38it/s]"
     ]
    },
    {
     "name": "stdout",
     "output_type": "stream",
     "text": [
      "------------------------------------------------------------\n",
      "Epoch 54, batch 1599:\n",
      "Average original gradient norm: 1.70707271784544 (over last 800 batches)\n",
      "Average clipped gradient norm: 1.6836770255863667 (over last 800 batches)\n",
      "Running average global loss: 1.1846236164867878 (over last 800 batches)\n",
      "Running average activity prediction loss: 0.3997534948773682 (Cross Entropy over last 800 batches)\n",
      "Running average time till next event prediction loss: 0.29548530725762245 (MAE over last 800 batches)\n",
      "Running average (complete) remaining runtime prediction loss: 0.4893848153203726 (MAE over last 800 batches)\n",
      "------------------------------------------------------------\n"
     ]
    },
    {
     "name": "stderr",
     "output_type": "stream",
     "text": [
      "Batch calculation at epoch 54.: 2401it [04:18,  9.39it/s]"
     ]
    },
    {
     "name": "stdout",
     "output_type": "stream",
     "text": [
      "------------------------------------------------------------\n",
      "Epoch 54, batch 2399:\n",
      "Average original gradient norm: 1.6930496461689473 (over last 800 batches)\n",
      "Average clipped gradient norm: 1.6719155038893223 (over last 800 batches)\n",
      "Running average global loss: 1.1929828441888093 (over last 800 batches)\n",
      "Running average activity prediction loss: 0.40212783303111793 (Cross Entropy over last 800 batches)\n",
      "Running average time till next event prediction loss: 0.2982887327298522 (MAE over last 800 batches)\n",
      "Running average (complete) remaining runtime prediction loss: 0.4925662797689438 (MAE over last 800 batches)\n",
      "------------------------------------------------------------\n"
     ]
    },
    {
     "name": "stderr",
     "output_type": "stream",
     "text": [
      "Batch calculation at epoch 54.: 3200it [05:59,  9.65it/s]"
     ]
    },
    {
     "name": "stdout",
     "output_type": "stream",
     "text": [
      "------------------------------------------------------------\n",
      "Epoch 54, batch 3199:\n",
      "Average original gradient norm: 1.683934015929699 (over last 800 batches)\n",
      "Average clipped gradient norm: 1.6687698225677012 (over last 800 batches)\n",
      "Running average global loss: 1.1860118083655835 (over last 800 batches)\n",
      "Running average activity prediction loss: 0.3991420984640717 (Cross Entropy over last 800 batches)\n",
      "Running average time till next event prediction loss: 0.2984586294926703 (MAE over last 800 batches)\n",
      "Running average (complete) remaining runtime prediction loss: 0.48841108072549105 (MAE over last 800 batches)\n",
      "------------------------------------------------------------\n"
     ]
    },
    {
     "name": "stderr",
     "output_type": "stream",
     "text": [
      "Batch calculation at epoch 54.: 4001it [07:39,  6.72it/s]"
     ]
    },
    {
     "name": "stdout",
     "output_type": "stream",
     "text": [
      "------------------------------------------------------------\n",
      "Epoch 54, batch 3999:\n",
      "Average original gradient norm: 1.7005928476154804 (over last 800 batches)\n",
      "Average clipped gradient norm: 1.6817582222819327 (over last 800 batches)\n",
      "Running average global loss: 1.1898857713490725 (over last 800 batches)\n",
      "Running average activity prediction loss: 0.4008566254749894 (Cross Entropy over last 800 batches)\n",
      "Running average time till next event prediction loss: 0.2978623040765524 (MAE over last 800 batches)\n",
      "Running average (complete) remaining runtime prediction loss: 0.49116684272885325 (MAE over last 800 batches)\n",
      "------------------------------------------------------------\n"
     ]
    },
    {
     "name": "stderr",
     "output_type": "stream",
     "text": [
      "Batch calculation at epoch 54.: 4295it [08:14,  8.69it/s]\n"
     ]
    },
    {
     "name": "stdout",
     "output_type": "stream",
     "text": [
      "=======================================\n",
      "End of epoch 54\n",
      "=======================================\n",
      "Running average global loss: 1.1878252428770066 (over last 800 batches)\n",
      "Running average activity prediction loss: 0.4019493817538023 (Cross Entropy over last 800 batches)\n",
      "Running average time till next event prediction loss: 0.29640707744285466 (MAE over last 800 batches)\n",
      "Running average (complete) remaining runtime prediction loss: 0.4894687842577696 (MAE over last 800 batches)\n"
     ]
    },
    {
     "name": "stderr",
     "output_type": "stream",
     "text": [
      "Validation batch calculation: 20it [00:36,  1.82s/it]\n"
     ]
    },
    {
     "name": "stdout",
     "output_type": "stream",
     "text": [
      "Avg MAE TTNE prediction validation set: 0.4647720754146576 (standardized) ; 17144.026041666668 (minutes)'\n",
      "Avg 1-(normalized) DL distance acitivty suffix prediction validation set: 0.8426297307014465\n",
      "Percentage of suffixes predicted to END: too early - 0.29359616828989005 ; right moment - 0.632244480835293 ; too late - 0.07415935087481684\n",
      "Too early instances - avg amount of events too early: 1.6552317142486572\n",
      "Too late instances - avg amount of events too late: 3.1761579513549805\n",
      "Avg absolute amount of events predicted too early / too late: 0.7215114831924438\n",
      "Avg MAE RRT prediction validation set: 0.6068000793457031 (standardized) ; 33106.23333333333 (minutes)'\n",
      " \n",
      "------------------------------------\n",
      "EPOCH 55:\n",
      "____________________________________\n"
     ]
    },
    {
     "name": "stderr",
     "output_type": "stream",
     "text": [
      "Batch calculation at epoch 55.: 802it [01:29, 10.72it/s]"
     ]
    },
    {
     "name": "stdout",
     "output_type": "stream",
     "text": [
      "------------------------------------------------------------\n",
      "Epoch 55, batch 799:\n",
      "Average original gradient norm: 1.7024428257346154 (over last 800 batches)\n",
      "Average clipped gradient norm: 1.684403063505888 (over last 800 batches)\n",
      "Running average global loss: 1.1782876481115818 (over last 800 batches)\n",
      "Running average activity prediction loss: 0.39748539386317133 (Cross Entropy over last 800 batches)\n",
      "Running average time till next event prediction loss: 0.29623749108985065 (MAE over last 800 batches)\n",
      "Running average (complete) remaining runtime prediction loss: 0.4845647630095482 (MAE over last 800 batches)\n",
      "------------------------------------------------------------\n"
     ]
    },
    {
     "name": "stderr",
     "output_type": "stream",
     "text": [
      "Batch calculation at epoch 55.: 1601it [02:48,  7.80it/s]"
     ]
    },
    {
     "name": "stdout",
     "output_type": "stream",
     "text": [
      "------------------------------------------------------------\n",
      "Epoch 55, batch 1599:\n",
      "Average original gradient norm: 1.7213594090938569 (over last 800 batches)\n",
      "Average clipped gradient norm: 1.6949988973140717 (over last 800 batches)\n",
      "Running average global loss: 1.1899877860397101 (over last 800 batches)\n",
      "Running average activity prediction loss: 0.4004147708415985 (Cross Entropy over last 800 batches)\n",
      "Running average time till next event prediction loss: 0.29834219329059125 (MAE over last 800 batches)\n",
      "Running average (complete) remaining runtime prediction loss: 0.49123082056641576 (MAE over last 800 batches)\n",
      "------------------------------------------------------------\n"
     ]
    },
    {
     "name": "stderr",
     "output_type": "stream",
     "text": [
      "Batch calculation at epoch 55.: 2400it [04:22,  5.22it/s]"
     ]
    },
    {
     "name": "stdout",
     "output_type": "stream",
     "text": [
      "------------------------------------------------------------\n",
      "Epoch 55, batch 2399:\n",
      "Average original gradient norm: 1.7130283531546593 (over last 800 batches)\n",
      "Average clipped gradient norm: 1.6939002244174481 (over last 800 batches)\n",
      "Running average global loss: 1.1849869064986707 (over last 800 batches)\n",
      "Running average activity prediction loss: 0.40026043329387906 (Cross Entropy over last 800 batches)\n",
      "Running average time till next event prediction loss: 0.295944699216634 (MAE over last 800 batches)\n",
      "Running average (complete) remaining runtime prediction loss: 0.48878177501261233 (MAE over last 800 batches)\n",
      "------------------------------------------------------------\n"
     ]
    },
    {
     "name": "stderr",
     "output_type": "stream",
     "text": [
      "Batch calculation at epoch 55.: 3201it [06:10, 10.96it/s]"
     ]
    },
    {
     "name": "stdout",
     "output_type": "stream",
     "text": [
      "------------------------------------------------------------\n",
      "Epoch 55, batch 3199:\n",
      "Average original gradient norm: 1.7342906047403812 (over last 800 batches)\n",
      "Average clipped gradient norm: 1.7088037437200547 (over last 800 batches)\n",
      "Running average global loss: 1.1918278785794973 (over last 800 batches)\n",
      "Running average activity prediction loss: 0.40301545314490794 (Cross Entropy over last 800 batches)\n",
      "Running average time till next event prediction loss: 0.29685754200443626 (MAE over last 800 batches)\n",
      "Running average (complete) remaining runtime prediction loss: 0.4919548834487796 (MAE over last 800 batches)\n",
      "------------------------------------------------------------\n"
     ]
    },
    {
     "name": "stderr",
     "output_type": "stream",
     "text": [
      "Batch calculation at epoch 55.: 4001it [07:28,  9.02it/s]"
     ]
    },
    {
     "name": "stdout",
     "output_type": "stream",
     "text": [
      "------------------------------------------------------------\n",
      "Epoch 55, batch 3999:\n",
      "Average original gradient norm: 1.7180348879098892 (over last 800 batches)\n",
      "Average clipped gradient norm: 1.6925416593253613 (over last 800 batches)\n",
      "Running average global loss: 1.190099487528205 (over last 800 batches)\n",
      "Running average activity prediction loss: 0.4003146021813154 (Cross Entropy over last 800 batches)\n",
      "Running average time till next event prediction loss: 0.2979391650669277 (MAE over last 800 batches)\n",
      "Running average (complete) remaining runtime prediction loss: 0.4918457220867276 (MAE over last 800 batches)\n",
      "------------------------------------------------------------\n"
     ]
    },
    {
     "name": "stderr",
     "output_type": "stream",
     "text": [
      "Batch calculation at epoch 55.: 4295it [08:12,  8.72it/s]\n"
     ]
    },
    {
     "name": "stdout",
     "output_type": "stream",
     "text": [
      "=======================================\n",
      "End of epoch 55\n",
      "=======================================\n",
      "Running average global loss: 1.192359921708703 (over last 800 batches)\n",
      "Running average activity prediction loss: 0.4020778635516763 (Cross Entropy over last 800 batches)\n",
      "Running average time till next event prediction loss: 0.29841140888631346 (MAE over last 800 batches)\n",
      "Running average (complete) remaining runtime prediction loss: 0.4918706504628062 (MAE over last 800 batches)\n"
     ]
    },
    {
     "name": "stderr",
     "output_type": "stream",
     "text": [
      "Validation batch calculation: 20it [00:35,  1.77s/it]\n"
     ]
    },
    {
     "name": "stdout",
     "output_type": "stream",
     "text": [
      "Avg MAE TTNE prediction validation set: 0.4611152708530426 (standardized) ; 17013.246875 (minutes)'\n",
      "Avg 1-(normalized) DL distance acitivty suffix prediction validation set: 0.8426326513290405\n",
      "Percentage of suffixes predicted to END: too early - 0.2943226171860571 ; right moment - 0.6323429823805361 ; too late - 0.0733344004334068\n",
      "Too early instances - avg amount of events too early: 1.659638524055481\n",
      "Too late instances - avg amount of events too late: 3.1037609577178955\n",
      "Avg absolute amount of events predicted too early / too late: 0.7160816192626953\n",
      "Avg MAE RRT prediction validation set: 0.6069782376289368 (standardized) ; 33115.61666666667 (minutes)'\n",
      " \n",
      "------------------------------------\n",
      "EPOCH 56:\n",
      "____________________________________\n"
     ]
    },
    {
     "name": "stderr",
     "output_type": "stream",
     "text": [
      "Batch calculation at epoch 56.: 801it [01:34, 10.34it/s]"
     ]
    },
    {
     "name": "stdout",
     "output_type": "stream",
     "text": [
      "------------------------------------------------------------\n",
      "Epoch 56, batch 799:\n",
      "Average original gradient norm: 1.7077895687520503 (over last 800 batches)\n",
      "Average clipped gradient norm: 1.687567251175642 (over last 800 batches)\n",
      "Running average global loss: 1.1882488045841455 (over last 800 batches)\n",
      "Running average activity prediction loss: 0.4004107157886028 (Cross Entropy over last 800 batches)\n",
      "Running average time till next event prediction loss: 0.2970910416357219 (MAE over last 800 batches)\n",
      "Running average (complete) remaining runtime prediction loss: 0.49074704602360725 (MAE over last 800 batches)\n",
      "------------------------------------------------------------\n"
     ]
    },
    {
     "name": "stderr",
     "output_type": "stream",
     "text": [
      "Batch calculation at epoch 56.: 1600it [03:22,  8.21it/s]"
     ]
    },
    {
     "name": "stdout",
     "output_type": "stream",
     "text": [
      "------------------------------------------------------------\n",
      "Epoch 56, batch 1599:\n",
      "Average original gradient norm: 1.6877642093598844 (over last 800 batches)\n",
      "Average clipped gradient norm: 1.6687936408817767 (over last 800 batches)\n",
      "Running average global loss: 1.1831270345300435 (over last 800 batches)\n",
      "Running average activity prediction loss: 0.3992290432751179 (Cross Entropy over last 800 batches)\n",
      "Running average time till next event prediction loss: 0.29638686155900357 (MAE over last 800 batches)\n",
      "Running average (complete) remaining runtime prediction loss: 0.48751113150268793 (MAE over last 800 batches)\n",
      "------------------------------------------------------------\n"
     ]
    },
    {
     "name": "stderr",
     "output_type": "stream",
     "text": [
      "Batch calculation at epoch 56.: 2401it [04:53, 10.92it/s]"
     ]
    },
    {
     "name": "stdout",
     "output_type": "stream",
     "text": [
      "------------------------------------------------------------\n",
      "Epoch 56, batch 2399:\n",
      "Average original gradient norm: 1.712632673829794 (over last 800 batches)\n",
      "Average clipped gradient norm: 1.68936927318573 (over last 800 batches)\n",
      "Running average global loss: 1.187553696334362 (over last 800 batches)\n",
      "Running average activity prediction loss: 0.39918793451040985 (Cross Entropy over last 800 batches)\n",
      "Running average time till next event prediction loss: 0.29834076600149273 (MAE over last 800 batches)\n",
      "Running average (complete) remaining runtime prediction loss: 0.4900249957665801 (MAE over last 800 batches)\n",
      "------------------------------------------------------------\n"
     ]
    },
    {
     "name": "stderr",
     "output_type": "stream",
     "text": [
      "Batch calculation at epoch 56.: 3201it [06:30,  8.02it/s]"
     ]
    },
    {
     "name": "stdout",
     "output_type": "stream",
     "text": [
      "------------------------------------------------------------\n",
      "Epoch 56, batch 3199:\n",
      "Average original gradient norm: 1.6970131076872348 (over last 800 batches)\n",
      "Average clipped gradient norm: 1.679570953696966 (over last 800 batches)\n",
      "Running average global loss: 1.1888112585246562 (over last 800 batches)\n",
      "Running average activity prediction loss: 0.4012751725688577 (Cross Entropy over last 800 batches)\n",
      "Running average time till next event prediction loss: 0.29770954413339495 (MAE over last 800 batches)\n",
      "Running average (complete) remaining runtime prediction loss: 0.4898265441134572 (MAE over last 800 batches)\n",
      "------------------------------------------------------------\n"
     ]
    },
    {
     "name": "stderr",
     "output_type": "stream",
     "text": [
      "Batch calculation at epoch 56.: 4001it [07:57,  6.17it/s]"
     ]
    },
    {
     "name": "stdout",
     "output_type": "stream",
     "text": [
      "------------------------------------------------------------\n",
      "Epoch 56, batch 3999:\n",
      "Average original gradient norm: 1.680550625026226 (over last 800 batches)\n",
      "Average clipped gradient norm: 1.6666019427776337 (over last 800 batches)\n",
      "Running average global loss: 1.1892702145129441 (over last 800 batches)\n",
      "Running average activity prediction loss: 0.40190489068627355 (Cross Entropy over last 800 batches)\n",
      "Running average time till next event prediction loss: 0.29701190408319234 (MAE over last 800 batches)\n",
      "Running average (complete) remaining runtime prediction loss: 0.4903534222394228 (MAE over last 800 batches)\n",
      "------------------------------------------------------------\n"
     ]
    },
    {
     "name": "stderr",
     "output_type": "stream",
     "text": [
      "Batch calculation at epoch 56.: 4295it [08:33,  8.37it/s]\n"
     ]
    },
    {
     "name": "stdout",
     "output_type": "stream",
     "text": [
      "=======================================\n",
      "End of epoch 56\n",
      "=======================================\n",
      "Running average global loss: 1.1881376564502717 (over last 800 batches)\n",
      "Running average activity prediction loss: 0.4012286194041371 (Cross Entropy over last 800 batches)\n",
      "Running average time till next event prediction loss: 0.2969996649958193 (MAE over last 800 batches)\n",
      "Running average (complete) remaining runtime prediction loss: 0.4899093747511506 (MAE over last 800 batches)\n"
     ]
    },
    {
     "name": "stderr",
     "output_type": "stream",
     "text": [
      "Validation batch calculation: 20it [00:37,  1.89s/it]\n"
     ]
    },
    {
     "name": "stdout",
     "output_type": "stream",
     "text": [
      "Avg MAE TTNE prediction validation set: 0.4643743634223938 (standardized) ; 17131.884375 (minutes)'\n",
      "Avg 1-(normalized) DL distance acitivty suffix prediction validation set: 0.8428964018821716\n",
      "Percentage of suffixes predicted to END: too early - 0.2947412487533398 ; right moment - 0.6322567935284484 ; too late - 0.0730019577182117\n",
      "Too early instances - avg amount of events too early: 1.6563622951507568\n",
      "Too late instances - avg amount of events too late: 3.148085594177246\n",
      "Avg absolute amount of events predicted too early / too late: 0.7180147171020508\n",
      "Avg MAE RRT prediction validation set: 0.6080138683319092 (standardized) ; 33169.129166666666 (minutes)'\n",
      " \n",
      "------------------------------------\n",
      "EPOCH 57:\n",
      "____________________________________\n"
     ]
    },
    {
     "name": "stderr",
     "output_type": "stream",
     "text": [
      "Batch calculation at epoch 57.: 801it [01:41,  6.92it/s]"
     ]
    },
    {
     "name": "stdout",
     "output_type": "stream",
     "text": [
      "------------------------------------------------------------\n",
      "Epoch 57, batch 799:\n",
      "Average original gradient norm: 1.687883135229349 (over last 800 batches)\n",
      "Average clipped gradient norm: 1.6693846295773982 (over last 800 batches)\n",
      "Running average global loss: 1.18319774761796 (over last 800 batches)\n",
      "Running average activity prediction loss: 0.398972427546978 (Cross Entropy over last 800 batches)\n",
      "Running average time till next event prediction loss: 0.2967334133386612 (MAE over last 800 batches)\n",
      "Running average (complete) remaining runtime prediction loss: 0.487491905502975 (MAE over last 800 batches)\n",
      "------------------------------------------------------------\n"
     ]
    },
    {
     "name": "stderr",
     "output_type": "stream",
     "text": [
      "Batch calculation at epoch 57.: 1601it [03:34,  8.41it/s]"
     ]
    },
    {
     "name": "stdout",
     "output_type": "stream",
     "text": [
      "------------------------------------------------------------\n",
      "Epoch 57, batch 1599:\n",
      "Average original gradient norm: 1.6992235028743743 (over last 800 batches)\n",
      "Average clipped gradient norm: 1.6814823338389397 (over last 800 batches)\n",
      "Running average global loss: 1.1888475815206767 (over last 800 batches)\n",
      "Running average activity prediction loss: 0.39960228025913236 (Cross Entropy over last 800 batches)\n",
      "Running average time till next event prediction loss: 0.29756840284913777 (MAE over last 800 batches)\n",
      "Running average (complete) remaining runtime prediction loss: 0.49167689830064776 (MAE over last 800 batches)\n",
      "------------------------------------------------------------\n"
     ]
    },
    {
     "name": "stderr",
     "output_type": "stream",
     "text": [
      "Batch calculation at epoch 57.: 2400it [05:32,  4.99it/s]"
     ]
    },
    {
     "name": "stdout",
     "output_type": "stream",
     "text": [
      "------------------------------------------------------------\n",
      "Epoch 57, batch 2399:\n",
      "Average original gradient norm: 1.7154215742647647 (over last 800 batches)\n",
      "Average clipped gradient norm: 1.6942366729676723 (over last 800 batches)\n",
      "Running average global loss: 1.183995547965169 (over last 800 batches)\n",
      "Running average activity prediction loss: 0.3974588780105114 (Cross Entropy over last 800 batches)\n",
      "Running average time till next event prediction loss: 0.29700568690896034 (MAE over last 800 batches)\n",
      "Running average (complete) remaining runtime prediction loss: 0.4895309839770198 (MAE over last 800 batches)\n",
      "------------------------------------------------------------\n"
     ]
    },
    {
     "name": "stderr",
     "output_type": "stream",
     "text": [
      "Batch calculation at epoch 57.: 3201it [07:40,  8.20it/s]"
     ]
    },
    {
     "name": "stdout",
     "output_type": "stream",
     "text": [
      "------------------------------------------------------------\n",
      "Epoch 57, batch 3199:\n",
      "Average original gradient norm: 1.7247520695626735 (over last 800 batches)\n",
      "Average clipped gradient norm: 1.703200840651989 (over last 800 batches)\n",
      "Running average global loss: 1.187486837282777 (over last 800 batches)\n",
      "Running average activity prediction loss: 0.4032318337634206 (Cross Entropy over last 800 batches)\n",
      "Running average time till next event prediction loss: 0.29605056712403893 (MAE over last 800 batches)\n",
      "Running average (complete) remaining runtime prediction loss: 0.48820443388074636 (MAE over last 800 batches)\n",
      "------------------------------------------------------------\n"
     ]
    },
    {
     "name": "stderr",
     "output_type": "stream",
     "text": [
      "Batch calculation at epoch 57.: 4001it [09:28,  9.11it/s]"
     ]
    },
    {
     "name": "stdout",
     "output_type": "stream",
     "text": [
      "------------------------------------------------------------\n",
      "Epoch 57, batch 3999:\n",
      "Average original gradient norm: 1.7092085619270803 (over last 800 batches)\n",
      "Average clipped gradient norm: 1.6868104553222656 (over last 800 batches)\n",
      "Running average global loss: 1.1894730443507433 (over last 800 batches)\n",
      "Running average activity prediction loss: 0.3997237430885434 (Cross Entropy over last 800 batches)\n",
      "Running average time till next event prediction loss: 0.29786572080105544 (MAE over last 800 batches)\n",
      "Running average (complete) remaining runtime prediction loss: 0.49188358034938573 (MAE over last 800 batches)\n",
      "------------------------------------------------------------\n"
     ]
    },
    {
     "name": "stderr",
     "output_type": "stream",
     "text": [
      "Batch calculation at epoch 57.: 4295it [10:18,  6.94it/s]\n"
     ]
    },
    {
     "name": "stdout",
     "output_type": "stream",
     "text": [
      "=======================================\n",
      "End of epoch 57\n",
      "=======================================\n",
      "Running average global loss: 1.1908181036263705 (over last 800 batches)\n",
      "Running average activity prediction loss: 0.4016011094301939 (Cross Entropy over last 800 batches)\n",
      "Running average time till next event prediction loss: 0.2973275781236589 (MAE over last 800 batches)\n",
      "Running average (complete) remaining runtime prediction loss: 0.49188941683620213 (MAE over last 800 batches)\n"
     ]
    },
    {
     "name": "stderr",
     "output_type": "stream",
     "text": [
      "Validation batch calculation: 20it [00:55,  2.80s/it]\n"
     ]
    },
    {
     "name": "stdout",
     "output_type": "stream",
     "text": [
      "Avg MAE TTNE prediction validation set: 0.4637257754802704 (standardized) ; 17098.854166666668 (minutes)'\n",
      "Avg 1-(normalized) DL distance acitivty suffix prediction validation set: 0.8426154851913452\n",
      "Percentage of suffixes predicted to END: too early - 0.29456887104916457 ; right moment - 0.6325522981641775 ; too late - 0.07287883078665797\n",
      "Too early instances - avg amount of events too early: 1.655993938446045\n",
      "Too late instances - avg amount of events too late: 3.196316957473755\n",
      "Avg absolute amount of events predicted too early / too late: 0.7207481265068054\n",
      "Avg MAE RRT prediction validation set: 0.6086041331291199 (standardized) ; 33199.302083333336 (minutes)'\n",
      " \n",
      "------------------------------------\n",
      "EPOCH 58:\n",
      "____________________________________\n"
     ]
    },
    {
     "name": "stderr",
     "output_type": "stream",
     "text": [
      "Batch calculation at epoch 58.: 801it [01:39,  7.30it/s]"
     ]
    },
    {
     "name": "stdout",
     "output_type": "stream",
     "text": [
      "------------------------------------------------------------\n",
      "Epoch 58, batch 799:\n",
      "Average original gradient norm: 1.694628735780716 (over last 800 batches)\n",
      "Average clipped gradient norm: 1.6769969160854816 (over last 800 batches)\n",
      "Running average global loss: 1.1873406286537647 (over last 800 batches)\n",
      "Running average activity prediction loss: 0.39896714113652704 (Cross Entropy over last 800 batches)\n",
      "Running average time till next event prediction loss: 0.2973434735275805 (MAE over last 800 batches)\n",
      "Running average (complete) remaining runtime prediction loss: 0.49103001445531846 (MAE over last 800 batches)\n",
      "------------------------------------------------------------\n"
     ]
    },
    {
     "name": "stderr",
     "output_type": "stream",
     "text": [
      "Batch calculation at epoch 58.: 1601it [03:34,  5.12it/s]"
     ]
    },
    {
     "name": "stdout",
     "output_type": "stream",
     "text": [
      "------------------------------------------------------------\n",
      "Epoch 58, batch 1599:\n",
      "Average original gradient norm: 1.700727636963129 (over last 800 batches)\n",
      "Average clipped gradient norm: 1.68197644084692 (over last 800 batches)\n",
      "Running average global loss: 1.18539042532444 (over last 800 batches)\n",
      "Running average activity prediction loss: 0.39787811852991584 (Cross Entropy over last 800 batches)\n",
      "Running average time till next event prediction loss: 0.29670176865532993 (MAE over last 800 batches)\n",
      "Running average (complete) remaining runtime prediction loss: 0.49081053625792265 (MAE over last 800 batches)\n",
      "------------------------------------------------------------\n"
     ]
    },
    {
     "name": "stderr",
     "output_type": "stream",
     "text": [
      "Batch calculation at epoch 58.: 2401it [05:35,  7.49it/s]"
     ]
    },
    {
     "name": "stdout",
     "output_type": "stream",
     "text": [
      "------------------------------------------------------------\n",
      "Epoch 58, batch 2399:\n",
      "Average original gradient norm: 1.6972604578733443 (over last 800 batches)\n",
      "Average clipped gradient norm: 1.679986589550972 (over last 800 batches)\n",
      "Running average global loss: 1.1820666405558586 (over last 800 batches)\n",
      "Running average activity prediction loss: 0.3975846364349127 (Cross Entropy over last 800 batches)\n",
      "Running average time till next event prediction loss: 0.2964644977636635 (MAE over last 800 batches)\n",
      "Running average (complete) remaining runtime prediction loss: 0.4880175075680018 (MAE over last 800 batches)\n",
      "------------------------------------------------------------\n"
     ]
    },
    {
     "name": "stderr",
     "output_type": "stream",
     "text": [
      "Batch calculation at epoch 58.: 3201it [07:43,  8.16it/s]"
     ]
    },
    {
     "name": "stdout",
     "output_type": "stream",
     "text": [
      "------------------------------------------------------------\n",
      "Epoch 58, batch 3199:\n",
      "Average original gradient norm: 1.702663253247738 (over last 800 batches)\n",
      "Average clipped gradient norm: 1.6824394002556802 (over last 800 batches)\n",
      "Running average global loss: 1.1890937291830779 (over last 800 batches)\n",
      "Running average activity prediction loss: 0.40219690784811973 (Cross Entropy over last 800 batches)\n",
      "Running average time till next event prediction loss: 0.29724412117153404 (MAE over last 800 batches)\n",
      "Running average (complete) remaining runtime prediction loss: 0.48965270090848206 (MAE over last 800 batches)\n",
      "------------------------------------------------------------\n"
     ]
    },
    {
     "name": "stderr",
     "output_type": "stream",
     "text": [
      "Batch calculation at epoch 58.: 4000it [09:27,  4.77it/s]"
     ]
    },
    {
     "name": "stdout",
     "output_type": "stream",
     "text": [
      "------------------------------------------------------------\n",
      "Epoch 58, batch 3999:\n",
      "Average original gradient norm: 1.719401466846466 (over last 800 batches)\n",
      "Average clipped gradient norm: 1.6985458497703076 (over last 800 batches)\n",
      "Running average global loss: 1.186814342662692 (over last 800 batches)\n",
      "Running average activity prediction loss: 0.401696653328836 (Cross Entropy over last 800 batches)\n",
      "Running average time till next event prediction loss: 0.2967071316577494 (MAE over last 800 batches)\n",
      "Running average (complete) remaining runtime prediction loss: 0.48841055773198605 (MAE over last 800 batches)\n",
      "------------------------------------------------------------\n"
     ]
    },
    {
     "name": "stderr",
     "output_type": "stream",
     "text": [
      "Batch calculation at epoch 58.: 4295it [10:11,  7.03it/s]\n"
     ]
    },
    {
     "name": "stdout",
     "output_type": "stream",
     "text": [
      "=======================================\n",
      "End of epoch 58\n",
      "=======================================\n",
      "Running average global loss: 1.1867731809616089 (over last 800 batches)\n",
      "Running average activity prediction loss: 0.39985384173691274 (Cross Entropy over last 800 batches)\n",
      "Running average time till next event prediction loss: 0.29687808522954584 (MAE over last 800 batches)\n",
      "Running average (complete) remaining runtime prediction loss: 0.49004125569015744 (MAE over last 800 batches)\n"
     ]
    },
    {
     "name": "stderr",
     "output_type": "stream",
     "text": [
      "Validation batch calculation: 20it [00:50,  2.50s/it]\n"
     ]
    },
    {
     "name": "stdout",
     "output_type": "stream",
     "text": [
      "Avg MAE TTNE prediction validation set: 0.4640546143054962 (standardized) ; 17109.455208333333 (minutes)'\n",
      "Avg 1-(normalized) DL distance acitivty suffix prediction validation set: 0.8428471088409424\n",
      "Percentage of suffixes predicted to END: too early - 0.2940024871640174 ; right moment - 0.6327000504820419 ; too late - 0.07329746235394068\n",
      "Too early instances - avg amount of events too early: 1.6542423963546753\n",
      "Too late instances - avg amount of events too late: 3.086678981781006\n",
      "Avg absolute amount of events predicted too early / too late: 0.712597131729126\n",
      "Avg MAE RRT prediction validation set: 0.6072156429290771 (standardized) ; 33128.64791666667 (minutes)'\n",
      " \n",
      "------------------------------------\n",
      "EPOCH 59:\n",
      "____________________________________\n"
     ]
    },
    {
     "name": "stderr",
     "output_type": "stream",
     "text": [
      "Batch calculation at epoch 59.: 801it [01:53,  5.90it/s]"
     ]
    },
    {
     "name": "stdout",
     "output_type": "stream",
     "text": [
      "------------------------------------------------------------\n",
      "Epoch 59, batch 799:\n",
      "Average original gradient norm: 1.7155041126906871 (over last 800 batches)\n",
      "Average clipped gradient norm: 1.6929101751744746 (over last 800 batches)\n",
      "Running average global loss: 1.183045433536172 (over last 800 batches)\n",
      "Running average activity prediction loss: 0.39752523774281145 (Cross Entropy over last 800 batches)\n",
      "Running average time till next event prediction loss: 0.29745415680110454 (MAE over last 800 batches)\n",
      "Running average (complete) remaining runtime prediction loss: 0.4880660394579172 (MAE over last 800 batches)\n",
      "------------------------------------------------------------\n"
     ]
    },
    {
     "name": "stderr",
     "output_type": "stream",
     "text": [
      "Batch calculation at epoch 59.: 1602it [03:26,  8.40it/s]"
     ]
    },
    {
     "name": "stdout",
     "output_type": "stream",
     "text": [
      "------------------------------------------------------------\n",
      "Epoch 59, batch 1599:\n",
      "Average original gradient norm: 1.6905113951861859 (over last 800 batches)\n",
      "Average clipped gradient norm: 1.6743439318239688 (over last 800 batches)\n",
      "Running average global loss: 1.1878019385039806 (over last 800 batches)\n",
      "Running average activity prediction loss: 0.40220782164484264 (Cross Entropy over last 800 batches)\n",
      "Running average time till next event prediction loss: 0.29639204835519195 (MAE over last 800 batches)\n",
      "Running average (complete) remaining runtime prediction loss: 0.4892020684853196 (MAE over last 800 batches)\n",
      "------------------------------------------------------------\n"
     ]
    },
    {
     "name": "stderr",
     "output_type": "stream",
     "text": [
      "Batch calculation at epoch 59.: 2401it [04:56,  8.48it/s]"
     ]
    },
    {
     "name": "stdout",
     "output_type": "stream",
     "text": [
      "------------------------------------------------------------\n",
      "Epoch 59, batch 2399:\n",
      "Average original gradient norm: 1.7221807053685187 (over last 800 batches)\n",
      "Average clipped gradient norm: 1.6974052254855634 (over last 800 batches)\n",
      "Running average global loss: 1.179649476930499 (over last 800 batches)\n",
      "Running average activity prediction loss: 0.39733892407268284 (Cross Entropy over last 800 batches)\n",
      "Running average time till next event prediction loss: 0.29605989618226886 (MAE over last 800 batches)\n",
      "Running average (complete) remaining runtime prediction loss: 0.4862506565451622 (MAE over last 800 batches)\n",
      "------------------------------------------------------------\n"
     ]
    },
    {
     "name": "stderr",
     "output_type": "stream",
     "text": [
      "Batch calculation at epoch 59.: 3201it [06:43,  7.16it/s]"
     ]
    },
    {
     "name": "stdout",
     "output_type": "stream",
     "text": [
      "------------------------------------------------------------\n",
      "Epoch 59, batch 3199:\n",
      "Average original gradient norm: 1.7187852063775062 (over last 800 batches)\n",
      "Average clipped gradient norm: 1.696462928801775 (over last 800 batches)\n",
      "Running average global loss: 1.190365719422698 (over last 800 batches)\n",
      "Running average activity prediction loss: 0.40112032266333697 (Cross Entropy over last 800 batches)\n",
      "Running average time till next event prediction loss: 0.29745027923956513 (MAE over last 800 batches)\n",
      "Running average (complete) remaining runtime prediction loss: 0.4917951131612062 (MAE over last 800 batches)\n",
      "------------------------------------------------------------\n"
     ]
    },
    {
     "name": "stderr",
     "output_type": "stream",
     "text": [
      "Batch calculation at epoch 59.: 4001it [08:12,  7.13it/s]"
     ]
    },
    {
     "name": "stdout",
     "output_type": "stream",
     "text": [
      "------------------------------------------------------------\n",
      "Epoch 59, batch 3999:\n",
      "Average original gradient norm: 1.73083521977067 (over last 800 batches)\n",
      "Average clipped gradient norm: 1.7062132433056831 (over last 800 batches)\n",
      "Running average global loss: 1.1894803258031608 (over last 800 batches)\n",
      "Running average activity prediction loss: 0.40060826323926446 (Cross Entropy over last 800 batches)\n",
      "Running average time till next event prediction loss: 0.2969070758856833 (MAE over last 800 batches)\n",
      "Running average (complete) remaining runtime prediction loss: 0.4919649834558368 (MAE over last 800 batches)\n",
      "------------------------------------------------------------\n"
     ]
    },
    {
     "name": "stderr",
     "output_type": "stream",
     "text": [
      "Batch calculation at epoch 59.: 4295it [08:56,  8.00it/s]\n"
     ]
    },
    {
     "name": "stdout",
     "output_type": "stream",
     "text": [
      "=======================================\n",
      "End of epoch 59\n",
      "=======================================\n",
      "Running average global loss: 1.1894958602637054 (over last 800 batches)\n",
      "Running average activity prediction loss: 0.40144539024680853 (Cross Entropy over last 800 batches)\n",
      "Running average time till next event prediction loss: 0.2965803325921297 (MAE over last 800 batches)\n",
      "Running average (complete) remaining runtime prediction loss: 0.4914701351895928 (MAE over last 800 batches)\n"
     ]
    },
    {
     "name": "stderr",
     "output_type": "stream",
     "text": [
      "Validation batch calculation: 20it [00:35,  1.76s/it]\n"
     ]
    },
    {
     "name": "stdout",
     "output_type": "stream",
     "text": [
      "Avg MAE TTNE prediction validation set: 0.46630603075027466 (standardized) ; 17197.296875 (minutes)'\n",
      "Avg 1-(normalized) DL distance acitivty suffix prediction validation set: 0.8427901864051819\n",
      "Percentage of suffixes predicted to END: too early - 0.294088676016105 ; right moment - 0.6325646108573328 ; too late - 0.07334671312656217\n",
      "Too early instances - avg amount of events too early: 1.6554322242736816\n",
      "Too late instances - avg amount of events too late: 3.1326169967651367\n",
      "Avg absolute amount of events predicted too early / too late: 0.7166110277175903\n",
      "Avg MAE RRT prediction validation set: 0.6091436147689819 (standardized) ; 33228.88125 (minutes)'\n",
      " \n",
      "------------------------------------\n",
      "EPOCH 60:\n",
      "____________________________________\n"
     ]
    },
    {
     "name": "stderr",
     "output_type": "stream",
     "text": [
      "Batch calculation at epoch 60.: 801it [02:02,  5.49it/s]"
     ]
    },
    {
     "name": "stdout",
     "output_type": "stream",
     "text": [
      "------------------------------------------------------------\n",
      "Epoch 60, batch 799:\n",
      "Average original gradient norm: 1.7046683628857136 (over last 800 batches)\n",
      "Average clipped gradient norm: 1.6816914953291415 (over last 800 batches)\n",
      "Running average global loss: 1.182639873623848 (over last 800 batches)\n",
      "Running average activity prediction loss: 0.3992597589641809 (Cross Entropy over last 800 batches)\n",
      "Running average time till next event prediction loss: 0.2962634480185807 (MAE over last 800 batches)\n",
      "Running average (complete) remaining runtime prediction loss: 0.4871166652068496 (MAE over last 800 batches)\n",
      "------------------------------------------------------------\n"
     ]
    },
    {
     "name": "stderr",
     "output_type": "stream",
     "text": [
      "Batch calculation at epoch 60.: 1602it [03:53, 11.77it/s]"
     ]
    },
    {
     "name": "stdout",
     "output_type": "stream",
     "text": [
      "------------------------------------------------------------\n",
      "Epoch 60, batch 1599:\n",
      "Average original gradient norm: 1.7148373186588288 (over last 800 batches)\n",
      "Average clipped gradient norm: 1.6962759372591973 (over last 800 batches)\n",
      "Running average global loss: 1.1894864742457867 (over last 800 batches)\n",
      "Running average activity prediction loss: 0.4010677255131304 (Cross Entropy over last 800 batches)\n",
      "Running average time till next event prediction loss: 0.2967714707739651 (MAE over last 800 batches)\n",
      "Running average (complete) remaining runtime prediction loss: 0.4916472777724266 (MAE over last 800 batches)\n",
      "------------------------------------------------------------\n"
     ]
    },
    {
     "name": "stderr",
     "output_type": "stream",
     "text": [
      "Batch calculation at epoch 60.: 2400it [05:19,  6.90it/s]"
     ]
    },
    {
     "name": "stdout",
     "output_type": "stream",
     "text": [
      "------------------------------------------------------------\n",
      "Epoch 60, batch 2399:\n",
      "Average original gradient norm: 1.7081696186959743 (over last 800 batches)\n",
      "Average clipped gradient norm: 1.6875510361790658 (over last 800 batches)\n",
      "Running average global loss: 1.1833504953235388 (over last 800 batches)\n",
      "Running average activity prediction loss: 0.396356706880033 (Cross Entropy over last 800 batches)\n",
      "Running average time till next event prediction loss: 0.2975232945010066 (MAE over last 800 batches)\n",
      "Running average (complete) remaining runtime prediction loss: 0.4894704942777753 (MAE over last 800 batches)\n",
      "------------------------------------------------------------\n"
     ]
    },
    {
     "name": "stderr",
     "output_type": "stream",
     "text": [
      "Batch calculation at epoch 60.: 3201it [06:51,  6.02it/s]"
     ]
    },
    {
     "name": "stdout",
     "output_type": "stream",
     "text": [
      "------------------------------------------------------------\n",
      "Epoch 60, batch 3199:\n",
      "Average original gradient norm: 1.724026860743761 (over last 800 batches)\n",
      "Average clipped gradient norm: 1.700111158490181 (over last 800 batches)\n",
      "Running average global loss: 1.1837731364369393 (over last 800 batches)\n",
      "Running average activity prediction loss: 0.4000583380833268 (Cross Entropy over last 800 batches)\n",
      "Running average time till next event prediction loss: 0.2957486428692937 (MAE over last 800 batches)\n",
      "Running average (complete) remaining runtime prediction loss: 0.4879661565274 (MAE over last 800 batches)\n",
      "------------------------------------------------------------\n"
     ]
    },
    {
     "name": "stderr",
     "output_type": "stream",
     "text": [
      "Batch calculation at epoch 60.: 4001it [08:15,  9.40it/s]"
     ]
    },
    {
     "name": "stdout",
     "output_type": "stream",
     "text": [
      "------------------------------------------------------------\n",
      "Epoch 60, batch 3999:\n",
      "Average original gradient norm: 1.6874767032265663 (over last 800 batches)\n",
      "Average clipped gradient norm: 1.6723957566916943 (over last 800 batches)\n",
      "Running average global loss: 1.1858784829825162 (over last 800 batches)\n",
      "Running average activity prediction loss: 0.39990636583417655 (Cross Entropy over last 800 batches)\n",
      "Running average time till next event prediction loss: 0.2958895117230713 (MAE over last 800 batches)\n",
      "Running average (complete) remaining runtime prediction loss: 0.4900826059281826 (MAE over last 800 batches)\n",
      "------------------------------------------------------------\n"
     ]
    },
    {
     "name": "stderr",
     "output_type": "stream",
     "text": [
      "Batch calculation at epoch 60.: 4295it [08:44,  8.19it/s]\n"
     ]
    },
    {
     "name": "stdout",
     "output_type": "stream",
     "text": [
      "=======================================\n",
      "End of epoch 60\n",
      "=======================================\n",
      "Running average global loss: 1.1885639683157205 (over last 800 batches)\n",
      "Running average activity prediction loss: 0.4001921965368092 (Cross Entropy over last 800 batches)\n",
      "Running average time till next event prediction loss: 0.2973531113192439 (MAE over last 800 batches)\n",
      "Running average (complete) remaining runtime prediction loss: 0.4910186608508229 (MAE over last 800 batches)\n"
     ]
    },
    {
     "name": "stderr",
     "output_type": "stream",
     "text": [
      "Validation batch calculation: 20it [00:31,  1.59s/it]\n"
     ]
    },
    {
     "name": "stdout",
     "output_type": "stream",
     "text": [
      "Avg MAE TTNE prediction validation set: 0.46363213658332825 (standardized) ; 17094.308333333334 (minutes)'\n",
      "Avg 1-(normalized) DL distance acitivty suffix prediction validation set: 0.8428715467453003\n",
      "Percentage of suffixes predicted to END: too early - 0.2951721930137779 ; right moment - 0.6323922331531576 ; too late - 0.07243557383306451\n",
      "Too early instances - avg amount of events too early: 1.6634130477905273\n",
      "Too late instances - avg amount of events too late: 3.0761516094207764\n",
      "Avg absolute amount of events predicted too early / too late: 0.7138160467147827\n",
      "Avg MAE RRT prediction validation set: 0.6083376407623291 (standardized) ; 33180.53333333333 (minutes)'\n",
      " \n",
      "------------------------------------\n",
      "EPOCH 61:\n",
      "____________________________________\n"
     ]
    },
    {
     "name": "stderr",
     "output_type": "stream",
     "text": [
      "Batch calculation at epoch 61.: 802it [01:25,  9.23it/s]"
     ]
    },
    {
     "name": "stdout",
     "output_type": "stream",
     "text": [
      "------------------------------------------------------------\n",
      "Epoch 61, batch 799:\n",
      "Average original gradient norm: 1.6910192354023457 (over last 800 batches)\n",
      "Average clipped gradient norm: 1.6736104814708233 (over last 800 batches)\n",
      "Running average global loss: 1.184630082026124 (over last 800 batches)\n",
      "Running average activity prediction loss: 0.39834054190665485 (Cross Entropy over last 800 batches)\n",
      "Running average time till next event prediction loss: 0.29725479703396557 (MAE over last 800 batches)\n",
      "Running average (complete) remaining runtime prediction loss: 0.4890347430482507 (MAE over last 800 batches)\n",
      "------------------------------------------------------------\n"
     ]
    },
    {
     "name": "stderr",
     "output_type": "stream",
     "text": [
      "Batch calculation at epoch 61.: 1602it [02:46, 11.82it/s]"
     ]
    },
    {
     "name": "stdout",
     "output_type": "stream",
     "text": [
      "------------------------------------------------------------\n",
      "Epoch 61, batch 1599:\n",
      "Average original gradient norm: 1.7221316865086556 (over last 800 batches)\n",
      "Average clipped gradient norm: 1.69914042070508 (over last 800 batches)\n",
      "Running average global loss: 1.1916582830995321 (over last 800 batches)\n",
      "Running average activity prediction loss: 0.4019785629585385 (Cross Entropy over last 800 batches)\n",
      "Running average time till next event prediction loss: 0.29719070414081217 (MAE over last 800 batches)\n",
      "Running average (complete) remaining runtime prediction loss: 0.4924890176579356 (MAE over last 800 batches)\n",
      "------------------------------------------------------------\n"
     ]
    },
    {
     "name": "stderr",
     "output_type": "stream",
     "text": [
      "Batch calculation at epoch 61.: 2402it [04:11, 10.73it/s]"
     ]
    },
    {
     "name": "stdout",
     "output_type": "stream",
     "text": [
      "------------------------------------------------------------\n",
      "Epoch 61, batch 2399:\n",
      "Average original gradient norm: 1.6978016218543053 (over last 800 batches)\n",
      "Average clipped gradient norm: 1.6813740745186805 (over last 800 batches)\n",
      "Running average global loss: 1.1839972001314163 (over last 800 batches)\n",
      "Running average activity prediction loss: 0.39956309620291 (Cross Entropy over last 800 batches)\n",
      "Running average time till next event prediction loss: 0.2952446008473635 (MAE over last 800 batches)\n",
      "Running average (complete) remaining runtime prediction loss: 0.4891895029693842 (MAE over last 800 batches)\n",
      "------------------------------------------------------------\n"
     ]
    },
    {
     "name": "stderr",
     "output_type": "stream",
     "text": [
      "Batch calculation at epoch 61.: 3201it [05:48,  5.66it/s]"
     ]
    },
    {
     "name": "stdout",
     "output_type": "stream",
     "text": [
      "------------------------------------------------------------\n",
      "Epoch 61, batch 3199:\n",
      "Average original gradient norm: 1.7093418577313424 (over last 800 batches)\n",
      "Average clipped gradient norm: 1.6902362206578254 (over last 800 batches)\n",
      "Running average global loss: 1.1849419278651476 (over last 800 batches)\n",
      "Running average activity prediction loss: 0.3983029517903924 (Cross Entropy over last 800 batches)\n",
      "Running average time till next event prediction loss: 0.2979771574772894 (MAE over last 800 batches)\n",
      "Running average (complete) remaining runtime prediction loss: 0.4886618208140135 (MAE over last 800 batches)\n",
      "------------------------------------------------------------\n"
     ]
    },
    {
     "name": "stderr",
     "output_type": "stream",
     "text": [
      "Batch calculation at epoch 61.: 4001it [07:49,  9.89it/s]"
     ]
    },
    {
     "name": "stdout",
     "output_type": "stream",
     "text": [
      "------------------------------------------------------------\n",
      "Epoch 61, batch 3999:\n",
      "Average original gradient norm: 1.7150601474940776 (over last 800 batches)\n",
      "Average clipped gradient norm: 1.6958580385148525 (over last 800 batches)\n",
      "Running average global loss: 1.181608703508973 (over last 800 batches)\n",
      "Running average activity prediction loss: 0.3985311748832464 (Cross Entropy over last 800 batches)\n",
      "Running average time till next event prediction loss: 0.29607889799401166 (MAE over last 800 batches)\n",
      "Running average (complete) remaining runtime prediction loss: 0.48699863132089377 (MAE over last 800 batches)\n",
      "------------------------------------------------------------\n"
     ]
    },
    {
     "name": "stderr",
     "output_type": "stream",
     "text": [
      "Batch calculation at epoch 61.: 4295it [08:26,  8.48it/s]\n"
     ]
    },
    {
     "name": "stdout",
     "output_type": "stream",
     "text": [
      "=======================================\n",
      "End of epoch 61\n",
      "=======================================\n",
      "Running average global loss: 1.1855094994604587 (over last 800 batches)\n",
      "Running average activity prediction loss: 0.4005723363533616 (Cross Entropy over last 800 batches)\n",
      "Running average time till next event prediction loss: 0.2963745297305286 (MAE over last 800 batches)\n",
      "Running average (complete) remaining runtime prediction loss: 0.4885626332834363 (MAE over last 800 batches)\n"
     ]
    },
    {
     "name": "stderr",
     "output_type": "stream",
     "text": [
      "Validation batch calculation: 20it [00:39,  1.96s/it]\n"
     ]
    },
    {
     "name": "stdout",
     "output_type": "stream",
     "text": [
      "Avg MAE TTNE prediction validation set: 0.4661710560321808 (standardized) ; 17193.472916666666 (minutes)'\n",
      "Avg 1-(normalized) DL distance acitivty suffix prediction validation set: 0.8430926203727722\n",
      "Percentage of suffixes predicted to END: too early - 0.29482743760542746 ; right moment - 0.6327246758683527 ; too late - 0.07244788652621988\n",
      "Too early instances - avg amount of events too early: 1.6581332683563232\n",
      "Too late instances - avg amount of events too late: 3.118626832962036\n",
      "Avg absolute amount of events predicted too early / too late: 0.7148010730743408\n",
      "Avg MAE RRT prediction validation set: 0.608797550201416 (standardized) ; 33211.99375 (minutes)'\n",
      " \n",
      "------------------------------------\n",
      "EPOCH 62:\n",
      "____________________________________\n"
     ]
    },
    {
     "name": "stderr",
     "output_type": "stream",
     "text": [
      "Batch calculation at epoch 62.: 801it [01:35,  9.24it/s]"
     ]
    },
    {
     "name": "stdout",
     "output_type": "stream",
     "text": [
      "------------------------------------------------------------\n",
      "Epoch 62, batch 799:\n",
      "Average original gradient norm: 1.7173754413425923 (over last 800 batches)\n",
      "Average clipped gradient norm: 1.6949335971474648 (over last 800 batches)\n",
      "Running average global loss: 1.1850950595736505 (over last 800 batches)\n",
      "Running average activity prediction loss: 0.40080583959817884 (Cross Entropy over last 800 batches)\n",
      "Running average time till next event prediction loss: 0.29593555042520164 (MAE over last 800 batches)\n",
      "Running average (complete) remaining runtime prediction loss: 0.48835367154330017 (MAE over last 800 batches)\n",
      "------------------------------------------------------------\n"
     ]
    },
    {
     "name": "stderr",
     "output_type": "stream",
     "text": [
      "Batch calculation at epoch 62.: 1601it [03:29,  8.70it/s]"
     ]
    },
    {
     "name": "stdout",
     "output_type": "stream",
     "text": [
      "------------------------------------------------------------\n",
      "Epoch 62, batch 1599:\n",
      "Average original gradient norm: 1.6833804479241372 (over last 800 batches)\n",
      "Average clipped gradient norm: 1.6695146837830543 (over last 800 batches)\n",
      "Running average global loss: 1.1831836070120334 (over last 800 batches)\n",
      "Running average activity prediction loss: 0.39757601330056785 (Cross Entropy over last 800 batches)\n",
      "Running average time till next event prediction loss: 0.29613125896081327 (MAE over last 800 batches)\n",
      "Running average (complete) remaining runtime prediction loss: 0.4894763334095478 (MAE over last 800 batches)\n",
      "------------------------------------------------------------\n"
     ]
    },
    {
     "name": "stderr",
     "output_type": "stream",
     "text": [
      "Batch calculation at epoch 62.: 2401it [05:14,  7.45it/s]"
     ]
    },
    {
     "name": "stdout",
     "output_type": "stream",
     "text": [
      "------------------------------------------------------------\n",
      "Epoch 62, batch 2399:\n",
      "Average original gradient norm: 1.7179381665587425 (over last 800 batches)\n",
      "Average clipped gradient norm: 1.6971662269532681 (over last 800 batches)\n",
      "Running average global loss: 1.1841450523585082 (over last 800 batches)\n",
      "Running average activity prediction loss: 0.3984161916002631 (Cross Entropy over last 800 batches)\n",
      "Running average time till next event prediction loss: 0.29697594257071613 (MAE over last 800 batches)\n",
      "Running average (complete) remaining runtime prediction loss: 0.4887529203295708 (MAE over last 800 batches)\n",
      "------------------------------------------------------------\n"
     ]
    },
    {
     "name": "stderr",
     "output_type": "stream",
     "text": [
      "Batch calculation at epoch 62.: 3200it [07:14,  4.11it/s]"
     ]
    },
    {
     "name": "stdout",
     "output_type": "stream",
     "text": [
      "------------------------------------------------------------\n",
      "Epoch 62, batch 3199:\n",
      "Average original gradient norm: 1.700342814028263 (over last 800 batches)\n",
      "Average clipped gradient norm: 1.684683696180582 (over last 800 batches)\n",
      "Running average global loss: 1.1885970845818519 (over last 800 batches)\n",
      "Running average activity prediction loss: 0.3999793220870197 (Cross Entropy over last 800 batches)\n",
      "Running average time till next event prediction loss: 0.29755271326750515 (MAE over last 800 batches)\n",
      "Running average (complete) remaining runtime prediction loss: 0.49106504771858456 (MAE over last 800 batches)\n",
      "------------------------------------------------------------\n"
     ]
    },
    {
     "name": "stderr",
     "output_type": "stream",
     "text": [
      "Batch calculation at epoch 62.: 4001it [09:25,  6.46it/s]"
     ]
    },
    {
     "name": "stdout",
     "output_type": "stream",
     "text": [
      "------------------------------------------------------------\n",
      "Epoch 62, batch 3999:\n",
      "Average original gradient norm: 1.7053084935247897 (over last 800 batches)\n",
      "Average clipped gradient norm: 1.686372230052948 (over last 800 batches)\n",
      "Running average global loss: 1.1829389654099942 (over last 800 batches)\n",
      "Running average activity prediction loss: 0.39859913643449546 (Cross Entropy over last 800 batches)\n",
      "Running average time till next event prediction loss: 0.29638977617025375 (MAE over last 800 batches)\n",
      "Running average (complete) remaining runtime prediction loss: 0.48795005336403846 (MAE over last 800 batches)\n",
      "------------------------------------------------------------\n"
     ]
    },
    {
     "name": "stderr",
     "output_type": "stream",
     "text": [
      "Batch calculation at epoch 62.: 4295it [10:00,  7.15it/s]\n"
     ]
    },
    {
     "name": "stdout",
     "output_type": "stream",
     "text": [
      "=======================================\n",
      "End of epoch 62\n",
      "=======================================\n",
      "Running average global loss: 1.18363883420825 (over last 800 batches)\n",
      "Running average activity prediction loss: 0.3983804051578045 (Cross Entropy over last 800 batches)\n",
      "Running average time till next event prediction loss: 0.29676352597773076 (MAE over last 800 batches)\n",
      "Running average (complete) remaining runtime prediction loss: 0.48849490445107224 (MAE over last 800 batches)\n"
     ]
    },
    {
     "name": "stderr",
     "output_type": "stream",
     "text": [
      "Validation batch calculation: 20it [00:57,  2.88s/it]\n"
     ]
    },
    {
     "name": "stdout",
     "output_type": "stream",
     "text": [
      "Avg MAE TTNE prediction validation set: 0.46575987339019775 (standardized) ; 17167.75 (minutes)'\n",
      "Avg 1-(normalized) DL distance acitivty suffix prediction validation set: 0.8430042266845703\n",
      "Percentage of suffixes predicted to END: too early - 0.29618183385251856 ; right moment - 0.6325030473915559 ; too late - 0.07131511875592549\n",
      "Too early instances - avg amount of events too early: 1.6645188331604004\n",
      "Too late instances - avg amount of events too late: 3.0885703563690186\n",
      "Avg absolute amount of events predicted too early / too late: 0.7132620215415955\n",
      "Avg MAE RRT prediction validation set: 0.6074791550636292 (standardized) ; 33141.53125 (minutes)'\n",
      " \n",
      "------------------------------------\n",
      "EPOCH 63:\n",
      "____________________________________\n"
     ]
    },
    {
     "name": "stderr",
     "output_type": "stream",
     "text": [
      "Batch calculation at epoch 63.: 801it [01:52,  6.63it/s]"
     ]
    },
    {
     "name": "stdout",
     "output_type": "stream",
     "text": [
      "------------------------------------------------------------\n",
      "Epoch 63, batch 799:\n",
      "Average original gradient norm: 1.7052517339587212 (over last 800 batches)\n",
      "Average clipped gradient norm: 1.6816762061417103 (over last 800 batches)\n",
      "Running average global loss: 1.1854952622950077 (over last 800 batches)\n",
      "Running average activity prediction loss: 0.3991743816807866 (Cross Entropy over last 800 batches)\n",
      "Running average time till next event prediction loss: 0.2967439522407949 (MAE over last 800 batches)\n",
      "Running average (complete) remaining runtime prediction loss: 0.4895769249275327 (MAE over last 800 batches)\n",
      "------------------------------------------------------------\n"
     ]
    },
    {
     "name": "stderr",
     "output_type": "stream",
     "text": [
      "Batch calculation at epoch 63.: 1601it [03:37,  7.24it/s]"
     ]
    },
    {
     "name": "stdout",
     "output_type": "stream",
     "text": [
      "------------------------------------------------------------\n",
      "Epoch 63, batch 1599:\n",
      "Average original gradient norm: 1.7075792466104032 (over last 800 batches)\n",
      "Average clipped gradient norm: 1.6864393438398837 (over last 800 batches)\n",
      "Running average global loss: 1.1838451033085584 (over last 800 batches)\n",
      "Running average activity prediction loss: 0.39974375754594804 (Cross Entropy over last 800 batches)\n",
      "Running average time till next event prediction loss: 0.29612716380506754 (MAE over last 800 batches)\n",
      "Running average (complete) remaining runtime prediction loss: 0.48797418039292095 (MAE over last 800 batches)\n",
      "------------------------------------------------------------\n"
     ]
    },
    {
     "name": "stderr",
     "output_type": "stream",
     "text": [
      "Batch calculation at epoch 63.: 2400it [05:42,  4.91it/s]"
     ]
    },
    {
     "name": "stdout",
     "output_type": "stream",
     "text": [
      "------------------------------------------------------------\n",
      "Epoch 63, batch 2399:\n",
      "Average original gradient norm: 1.6965775457024574 (over last 800 batches)\n",
      "Average clipped gradient norm: 1.6745117175579072 (over last 800 batches)\n",
      "Running average global loss: 1.1832313094288112 (over last 800 batches)\n",
      "Running average activity prediction loss: 0.3977500707656145 (Cross Entropy over last 800 batches)\n",
      "Running average time till next event prediction loss: 0.29622239246964455 (MAE over last 800 batches)\n",
      "Running average (complete) remaining runtime prediction loss: 0.48925884503871203 (MAE over last 800 batches)\n",
      "------------------------------------------------------------\n"
     ]
    },
    {
     "name": "stderr",
     "output_type": "stream",
     "text": [
      "Batch calculation at epoch 63.: 3201it [07:25,  6.99it/s]"
     ]
    },
    {
     "name": "stdout",
     "output_type": "stream",
     "text": [
      "------------------------------------------------------------\n",
      "Epoch 63, batch 3199:\n",
      "Average original gradient norm: 1.7289414159953593 (over last 800 batches)\n",
      "Average clipped gradient norm: 1.7083905401825905 (over last 800 batches)\n",
      "Running average global loss: 1.1823778887093068 (over last 800 batches)\n",
      "Running average activity prediction loss: 0.39664361756294964 (Cross Entropy over last 800 batches)\n",
      "Running average time till next event prediction loss: 0.29647921849042175 (MAE over last 800 batches)\n",
      "Running average (complete) remaining runtime prediction loss: 0.48925505436956884 (MAE over last 800 batches)\n",
      "------------------------------------------------------------\n"
     ]
    },
    {
     "name": "stderr",
     "output_type": "stream",
     "text": [
      "Batch calculation at epoch 63.: 4002it [09:38, 10.74it/s]"
     ]
    },
    {
     "name": "stdout",
     "output_type": "stream",
     "text": [
      "------------------------------------------------------------\n",
      "Epoch 63, batch 3999:\n",
      "Average original gradient norm: 1.7020420292019844 (over last 800 batches)\n",
      "Average clipped gradient norm: 1.6855116257071494 (over last 800 batches)\n",
      "Running average global loss: 1.1908322005718945 (over last 800 batches)\n",
      "Running average activity prediction loss: 0.4033870806545019 (Cross Entropy over last 800 batches)\n",
      "Running average time till next event prediction loss: 0.29671994568780063 (MAE over last 800 batches)\n",
      "Running average (complete) remaining runtime prediction loss: 0.4907251745834947 (MAE over last 800 batches)\n",
      "------------------------------------------------------------\n"
     ]
    },
    {
     "name": "stderr",
     "output_type": "stream",
     "text": [
      "Batch calculation at epoch 63.: 4295it [10:12,  7.02it/s]\n"
     ]
    },
    {
     "name": "stdout",
     "output_type": "stream",
     "text": [
      "=======================================\n",
      "End of epoch 63\n",
      "=======================================\n",
      "Running average global loss: 1.1858738806843758 (over last 800 batches)\n",
      "Running average activity prediction loss: 0.4006880084425211 (Cross Entropy over last 800 batches)\n",
      "Running average time till next event prediction loss: 0.29588481603190303 (MAE over last 800 batches)\n",
      "Running average (complete) remaining runtime prediction loss: 0.48930105481296776 (MAE over last 800 batches)\n"
     ]
    },
    {
     "name": "stderr",
     "output_type": "stream",
     "text": [
      "Validation batch calculation: 20it [00:57,  2.88s/it]\n"
     ]
    },
    {
     "name": "stdout",
     "output_type": "stream",
     "text": [
      "Avg MAE TTNE prediction validation set: 0.4659704566001892 (standardized) ; 17183.103125 (minutes)'\n",
      "Avg 1-(normalized) DL distance acitivty suffix prediction validation set: 0.8430172801017761\n",
      "Percentage of suffixes predicted to END: too early - 0.29459349643547533 ; right moment - 0.6325892362436436 ; too late - 0.07281726732088109\n",
      "Too early instances - avg amount of events too early: 1.6580289602279663\n",
      "Too late instances - avg amount of events too late: 3.1234359741210938\n",
      "Avg absolute amount of events predicted too early / too late: 0.7158846259117126\n",
      "Avg MAE RRT prediction validation set: 0.6086277365684509 (standardized) ; 33205.29583333333 (minutes)'\n",
      " \n",
      "------------------------------------\n",
      "EPOCH 64:\n",
      "____________________________________\n"
     ]
    },
    {
     "name": "stderr",
     "output_type": "stream",
     "text": [
      "Batch calculation at epoch 64.: 801it [02:08,  7.74it/s]"
     ]
    },
    {
     "name": "stdout",
     "output_type": "stream",
     "text": [
      "------------------------------------------------------------\n",
      "Epoch 64, batch 799:\n",
      "Average original gradient norm: 1.7062899136543275 (over last 800 batches)\n",
      "Average clipped gradient norm: 1.689150377959013 (over last 800 batches)\n",
      "Running average global loss: 1.1837847524881362 (over last 800 batches)\n",
      "Running average activity prediction loss: 0.39851572789251805 (Cross Entropy over last 800 batches)\n",
      "Running average time till next event prediction loss: 0.2963269578292966 (MAE over last 800 batches)\n",
      "Running average (complete) remaining runtime prediction loss: 0.4889420663192868 (MAE over last 800 batches)\n",
      "------------------------------------------------------------\n"
     ]
    },
    {
     "name": "stderr",
     "output_type": "stream",
     "text": [
      "Batch calculation at epoch 64.: 1601it [03:51,  6.25it/s]"
     ]
    },
    {
     "name": "stdout",
     "output_type": "stream",
     "text": [
      "------------------------------------------------------------\n",
      "Epoch 64, batch 1599:\n",
      "Average original gradient norm: 1.719591358602047 (over last 800 batches)\n",
      "Average clipped gradient norm: 1.701399984061718 (over last 800 batches)\n",
      "Running average global loss: 1.1848527310043573 (over last 800 batches)\n",
      "Running average activity prediction loss: 0.3993915769457817 (Cross Entropy over last 800 batches)\n",
      "Running average time till next event prediction loss: 0.2964459635317326 (MAE over last 800 batches)\n",
      "Running average (complete) remaining runtime prediction loss: 0.48901519142091276 (MAE over last 800 batches)\n",
      "------------------------------------------------------------\n"
     ]
    },
    {
     "name": "stderr",
     "output_type": "stream",
     "text": [
      "Batch calculation at epoch 64.: 2401it [05:32,  7.63it/s]"
     ]
    },
    {
     "name": "stdout",
     "output_type": "stream",
     "text": [
      "------------------------------------------------------------\n",
      "Epoch 64, batch 2399:\n",
      "Average original gradient norm: 1.7233216857910156 (over last 800 batches)\n",
      "Average clipped gradient norm: 1.7000836457312107 (over last 800 batches)\n",
      "Running average global loss: 1.1785964612662791 (over last 800 batches)\n",
      "Running average activity prediction loss: 0.3957617897540331 (Cross Entropy over last 800 batches)\n",
      "Running average time till next event prediction loss: 0.29521045703440907 (MAE over last 800 batches)\n",
      "Running average (complete) remaining runtime prediction loss: 0.48762421291321517 (MAE over last 800 batches)\n",
      "------------------------------------------------------------\n"
     ]
    },
    {
     "name": "stderr",
     "output_type": "stream",
     "text": [
      "Batch calculation at epoch 64.: 3201it [07:13,  8.20it/s]"
     ]
    },
    {
     "name": "stdout",
     "output_type": "stream",
     "text": [
      "------------------------------------------------------------\n",
      "Epoch 64, batch 3199:\n",
      "Average original gradient norm: 1.7161355416476727 (over last 800 batches)\n",
      "Average clipped gradient norm: 1.6956588803231716 (over last 800 batches)\n",
      "Running average global loss: 1.1893271563202144 (over last 800 batches)\n",
      "Running average activity prediction loss: 0.40329116489738226 (Cross Entropy over last 800 batches)\n",
      "Running average time till next event prediction loss: 0.2969561753235757 (MAE over last 800 batches)\n",
      "Running average (complete) remaining runtime prediction loss: 0.4890798137336969 (MAE over last 800 batches)\n",
      "------------------------------------------------------------\n"
     ]
    },
    {
     "name": "stderr",
     "output_type": "stream",
     "text": [
      "Batch calculation at epoch 64.: 4001it [08:48,  9.40it/s]"
     ]
    },
    {
     "name": "stdout",
     "output_type": "stream",
     "text": [
      "------------------------------------------------------------\n",
      "Epoch 64, batch 3999:\n",
      "Average original gradient norm: 1.7088355033099651 (over last 800 batches)\n",
      "Average clipped gradient norm: 1.6900236357748508 (over last 800 batches)\n",
      "Running average global loss: 1.1875260588526726 (over last 800 batches)\n",
      "Running average activity prediction loss: 0.39878401067107916 (Cross Entropy over last 800 batches)\n",
      "Running average time till next event prediction loss: 0.29748869486153123 (MAE over last 800 batches)\n",
      "Running average (complete) remaining runtime prediction loss: 0.4912533528357744 (MAE over last 800 batches)\n",
      "------------------------------------------------------------\n"
     ]
    },
    {
     "name": "stderr",
     "output_type": "stream",
     "text": [
      "Batch calculation at epoch 64.: 4295it [09:15,  7.74it/s]\n"
     ]
    },
    {
     "name": "stdout",
     "output_type": "stream",
     "text": [
      "=======================================\n",
      "End of epoch 64\n",
      "=======================================\n",
      "Running average global loss: 1.1869640281796456 (over last 800 batches)\n",
      "Running average activity prediction loss: 0.39913766473531725 (Cross Entropy over last 800 batches)\n",
      "Running average time till next event prediction loss: 0.2975549507141113 (MAE over last 800 batches)\n",
      "Running average (complete) remaining runtime prediction loss: 0.49027141187340023 (MAE over last 800 batches)\n"
     ]
    },
    {
     "name": "stderr",
     "output_type": "stream",
     "text": [
      "Validation batch calculation: 20it [00:26,  1.35s/it]\n"
     ]
    },
    {
     "name": "stdout",
     "output_type": "stream",
     "text": [
      "Avg MAE TTNE prediction validation set: 0.462933212518692 (standardized) ; 17070.340625 (minutes)'\n",
      "Avg 1-(normalized) DL distance acitivty suffix prediction validation set: 0.8429793119430542\n",
      "Percentage of suffixes predicted to END: too early - 0.29504906608222414 ; right moment - 0.6327123631751973 ; too late - 0.07223857074257853\n",
      "Too early instances - avg amount of events too early: 1.6616450548171997\n",
      "Too late instances - avg amount of events too late: 3.1392533779144287\n",
      "Avg absolute amount of events predicted too early / too late: 0.7170419692993164\n",
      "Avg MAE RRT prediction validation set: 0.6092255115509033 (standardized) ; 33231.308333333334 (minutes)'\n",
      " \n",
      "------------------------------------\n",
      "EPOCH 65:\n",
      "____________________________________\n"
     ]
    },
    {
     "name": "stderr",
     "output_type": "stream",
     "text": [
      "Batch calculation at epoch 65.: 801it [01:42,  7.82it/s]"
     ]
    },
    {
     "name": "stdout",
     "output_type": "stream",
     "text": [
      "------------------------------------------------------------\n",
      "Epoch 65, batch 799:\n",
      "Average original gradient norm: 1.7201277598738671 (over last 800 batches)\n",
      "Average clipped gradient norm: 1.7005569717288018 (over last 800 batches)\n",
      "Running average global loss: 1.186678743287921 (over last 800 batches)\n",
      "Running average activity prediction loss: 0.40131168216466906 (Cross Entropy over last 800 batches)\n",
      "Running average time till next event prediction loss: 0.29558927996084094 (MAE over last 800 batches)\n",
      "Running average (complete) remaining runtime prediction loss: 0.4897777806967497 (MAE over last 800 batches)\n",
      "------------------------------------------------------------\n"
     ]
    },
    {
     "name": "stderr",
     "output_type": "stream",
     "text": [
      "Batch calculation at epoch 65.: 1600it [03:31,  5.95it/s]"
     ]
    },
    {
     "name": "stdout",
     "output_type": "stream",
     "text": [
      "------------------------------------------------------------\n",
      "Epoch 65, batch 1599:\n",
      "Average original gradient norm: 1.708126843571663 (over last 800 batches)\n",
      "Average clipped gradient norm: 1.6892312909662723 (over last 800 batches)\n",
      "Running average global loss: 1.184218616336584 (over last 800 batches)\n",
      "Running average activity prediction loss: 0.3992137662321329 (Cross Entropy over last 800 batches)\n",
      "Running average time till next event prediction loss: 0.29710461050271986 (MAE over last 800 batches)\n",
      "Running average (complete) remaining runtime prediction loss: 0.48790023777633906 (MAE over last 800 batches)\n",
      "------------------------------------------------------------\n"
     ]
    },
    {
     "name": "stderr",
     "output_type": "stream",
     "text": [
      "Batch calculation at epoch 65.: 2401it [05:31,  6.91it/s]"
     ]
    },
    {
     "name": "stdout",
     "output_type": "stream",
     "text": [
      "------------------------------------------------------------\n",
      "Epoch 65, batch 2399:\n",
      "Average original gradient norm: 1.713502956479788 (over last 800 batches)\n",
      "Average clipped gradient norm: 1.6912102329730987 (over last 800 batches)\n",
      "Running average global loss: 1.1836659290641547 (over last 800 batches)\n",
      "Running average activity prediction loss: 0.3985212936252356 (Cross Entropy over last 800 batches)\n",
      "Running average time till next event prediction loss: 0.2960359793715179 (MAE over last 800 batches)\n",
      "Running average (complete) remaining runtime prediction loss: 0.4891086556762457 (MAE over last 800 batches)\n",
      "------------------------------------------------------------\n"
     ]
    },
    {
     "name": "stderr",
     "output_type": "stream",
     "text": [
      "Batch calculation at epoch 65.: 3201it [07:41,  9.27it/s]"
     ]
    },
    {
     "name": "stdout",
     "output_type": "stream",
     "text": [
      "------------------------------------------------------------\n",
      "Epoch 65, batch 3199:\n",
      "Average original gradient norm: 1.721939979940653 (over last 800 batches)\n",
      "Average clipped gradient norm: 1.6990122532844543 (over last 800 batches)\n",
      "Running average global loss: 1.1787924934923648 (over last 800 batches)\n",
      "Running average activity prediction loss: 0.3975703126192093 (Cross Entropy over last 800 batches)\n",
      "Running average time till next event prediction loss: 0.2953005568310618 (MAE over last 800 batches)\n",
      "Running average (complete) remaining runtime prediction loss: 0.4859216237813234 (MAE over last 800 batches)\n",
      "------------------------------------------------------------\n"
     ]
    },
    {
     "name": "stderr",
     "output_type": "stream",
     "text": [
      "Batch calculation at epoch 65.: 4002it [09:46, 12.64it/s]"
     ]
    },
    {
     "name": "stdout",
     "output_type": "stream",
     "text": [
      "------------------------------------------------------------\n",
      "Epoch 65, batch 3999:\n",
      "Average original gradient norm: 1.6901274994015694 (over last 800 batches)\n",
      "Average clipped gradient norm: 1.6724989640712737 (over last 800 batches)\n",
      "Running average global loss: 1.1875615310668945 (over last 800 batches)\n",
      "Running average activity prediction loss: 0.39944433510303495 (Cross Entropy over last 800 batches)\n",
      "Running average time till next event prediction loss: 0.29701942613348364 (MAE over last 800 batches)\n",
      "Running average (complete) remaining runtime prediction loss: 0.4910977665707469 (MAE over last 800 batches)\n",
      "------------------------------------------------------------\n"
     ]
    },
    {
     "name": "stderr",
     "output_type": "stream",
     "text": [
      "Batch calculation at epoch 65.: 4295it [10:20,  6.92it/s]\n"
     ]
    },
    {
     "name": "stdout",
     "output_type": "stream",
     "text": [
      "=======================================\n",
      "End of epoch 65\n",
      "=======================================\n",
      "Running average global loss: 1.1865476079285144 (over last 800 batches)\n",
      "Running average activity prediction loss: 0.3979025076702237 (Cross Entropy over last 800 batches)\n",
      "Running average time till next event prediction loss: 0.29790970660746097 (MAE over last 800 batches)\n",
      "Running average (complete) remaining runtime prediction loss: 0.49073539208620787 (MAE over last 800 batches)\n"
     ]
    },
    {
     "name": "stderr",
     "output_type": "stream",
     "text": [
      "Validation batch calculation: 20it [00:32,  1.65s/it]\n"
     ]
    },
    {
     "name": "stdout",
     "output_type": "stream",
     "text": [
      "Avg MAE TTNE prediction validation set: 0.4627120792865753 (standardized) ; 17069.6 (minutes)'\n",
      "Avg 1-(normalized) DL distance acitivty suffix prediction validation set: 0.8430100679397583\n",
      "Percentage of suffixes predicted to END: too early - 0.2948766883780489 ; right moment - 0.6325892362436436 ; too late - 0.0725340753783075\n",
      "Too early instances - avg amount of events too early: 1.6591089963912964\n",
      "Too late instances - avg amount of events too late: 3.108640193939209\n",
      "Avg absolute amount of events predicted too early / too late: 0.7147148847579956\n",
      "Avg MAE RRT prediction validation set: 0.6087985634803772 (standardized) ; 33216.69375 (minutes)'\n",
      " \n",
      "------------------------------------\n",
      "EPOCH 66:\n",
      "____________________________________\n"
     ]
    },
    {
     "name": "stderr",
     "output_type": "stream",
     "text": [
      "Batch calculation at epoch 66.: 801it [02:11,  7.44it/s]"
     ]
    },
    {
     "name": "stdout",
     "output_type": "stream",
     "text": [
      "------------------------------------------------------------\n",
      "Epoch 66, batch 799:\n",
      "Average original gradient norm: 1.6986987753212452 (over last 800 batches)\n",
      "Average clipped gradient norm: 1.6815786278247833 (over last 800 batches)\n",
      "Running average global loss: 1.182464981675148 (over last 800 batches)\n",
      "Running average activity prediction loss: 0.39626068633049727 (Cross Entropy over last 800 batches)\n",
      "Running average time till next event prediction loss: 0.29686295419931413 (MAE over last 800 batches)\n",
      "Running average (complete) remaining runtime prediction loss: 0.4893413423001766 (MAE over last 800 batches)\n",
      "------------------------------------------------------------\n"
     ]
    },
    {
     "name": "stderr",
     "output_type": "stream",
     "text": [
      "Batch calculation at epoch 66.: 1601it [03:42,  9.54it/s]"
     ]
    },
    {
     "name": "stdout",
     "output_type": "stream",
     "text": [
      "------------------------------------------------------------\n",
      "Epoch 66, batch 1599:\n",
      "Average original gradient norm: 1.708572325706482 (over last 800 batches)\n",
      "Average clipped gradient norm: 1.687249060869217 (over last 800 batches)\n",
      "Running average global loss: 1.1875588424503802 (over last 800 batches)\n",
      "Running average activity prediction loss: 0.4016602772474289 (Cross Entropy over last 800 batches)\n",
      "Running average time till next event prediction loss: 0.2965495231375098 (MAE over last 800 batches)\n",
      "Running average (complete) remaining runtime prediction loss: 0.48934904497116805 (MAE over last 800 batches)\n",
      "------------------------------------------------------------\n"
     ]
    },
    {
     "name": "stderr",
     "output_type": "stream",
     "text": [
      "Batch calculation at epoch 66.: 2402it [05:17, 10.61it/s]"
     ]
    },
    {
     "name": "stdout",
     "output_type": "stream",
     "text": [
      "------------------------------------------------------------\n",
      "Epoch 66, batch 2399:\n",
      "Average original gradient norm: 1.6934089295566082 (over last 800 batches)\n",
      "Average clipped gradient norm: 1.6790959732234478 (over last 800 batches)\n",
      "Running average global loss: 1.182357753664255 (over last 800 batches)\n",
      "Running average activity prediction loss: 0.39719302555546165 (Cross Entropy over last 800 batches)\n",
      "Running average time till next event prediction loss: 0.29603954328224064 (MAE over last 800 batches)\n",
      "Running average (complete) remaining runtime prediction loss: 0.48912518721073867 (MAE over last 800 batches)\n",
      "------------------------------------------------------------\n"
     ]
    },
    {
     "name": "stderr",
     "output_type": "stream",
     "text": [
      "Batch calculation at epoch 66.: 3201it [06:49,  7.46it/s]"
     ]
    },
    {
     "name": "stdout",
     "output_type": "stream",
     "text": [
      "------------------------------------------------------------\n",
      "Epoch 66, batch 3199:\n",
      "Average original gradient norm: 1.7014256729185582 (over last 800 batches)\n",
      "Average clipped gradient norm: 1.6868823930621146 (over last 800 batches)\n",
      "Running average global loss: 1.1885242868959904 (over last 800 batches)\n",
      "Running average activity prediction loss: 0.40164895813912155 (Cross Entropy over last 800 batches)\n",
      "Running average time till next event prediction loss: 0.2961983669362962 (MAE over last 800 batches)\n",
      "Running average (complete) remaining runtime prediction loss: 0.4906769605353475 (MAE over last 800 batches)\n",
      "------------------------------------------------------------\n"
     ]
    },
    {
     "name": "stderr",
     "output_type": "stream",
     "text": [
      "Batch calculation at epoch 66.: 4001it [08:36,  8.36it/s]"
     ]
    },
    {
     "name": "stdout",
     "output_type": "stream",
     "text": [
      "------------------------------------------------------------\n",
      "Epoch 66, batch 3999:\n",
      "Average original gradient norm: 1.6984301646053792 (over last 800 batches)\n",
      "Average clipped gradient norm: 1.6810079148411752 (over last 800 batches)\n",
      "Running average global loss: 1.185421016663313 (over last 800 batches)\n",
      "Running average activity prediction loss: 0.40028200622648 (Cross Entropy over last 800 batches)\n",
      "Running average time till next event prediction loss: 0.2966428592428565 (MAE over last 800 batches)\n",
      "Running average (complete) remaining runtime prediction loss: 0.488496152870357 (MAE over last 800 batches)\n",
      "------------------------------------------------------------\n"
     ]
    },
    {
     "name": "stderr",
     "output_type": "stream",
     "text": [
      "Batch calculation at epoch 66.: 4295it [09:19,  7.67it/s]\n"
     ]
    },
    {
     "name": "stdout",
     "output_type": "stream",
     "text": [
      "=======================================\n",
      "End of epoch 66\n",
      "=======================================\n",
      "Running average global loss: 1.1840611363202334 (over last 800 batches)\n",
      "Running average activity prediction loss: 0.39856395531445743 (Cross Entropy over last 800 batches)\n",
      "Running average time till next event prediction loss: 0.2966492988914251 (MAE over last 800 batches)\n",
      "Running average (complete) remaining runtime prediction loss: 0.4888478820025921 (MAE over last 800 batches)\n"
     ]
    },
    {
     "name": "stderr",
     "output_type": "stream",
     "text": [
      "Validation batch calculation: 20it [00:46,  2.32s/it]\n"
     ]
    },
    {
     "name": "stdout",
     "output_type": "stream",
     "text": [
      "Avg MAE TTNE prediction validation set: 0.4646565914154053 (standardized) ; 17141.132291666665 (minutes)'\n",
      "Avg 1-(normalized) DL distance acitivty suffix prediction validation set: 0.8428771495819092\n",
      "Percentage of suffixes predicted to END: too early - 0.29434724257236783 ; right moment - 0.632835490106751 ; too late - 0.07281726732088109\n",
      "Too early instances - avg amount of events too early: 1.6555676460266113\n",
      "Too late instances - avg amount of events too late: 3.1783902645111084\n",
      "Avg absolute amount of events predicted too early / too late: 0.718753457069397\n",
      "Avg MAE RRT prediction validation set: 0.6082532405853271 (standardized) ; 33185.875 (minutes)'\n",
      " \n",
      "------------------------------------\n",
      "EPOCH 67:\n",
      "____________________________________\n"
     ]
    },
    {
     "name": "stderr",
     "output_type": "stream",
     "text": [
      "Batch calculation at epoch 67.: 801it [01:27,  7.37it/s]"
     ]
    },
    {
     "name": "stdout",
     "output_type": "stream",
     "text": [
      "------------------------------------------------------------\n",
      "Epoch 67, batch 799:\n",
      "Average original gradient norm: 1.7017616836726666 (over last 800 batches)\n",
      "Average clipped gradient norm: 1.6822291769087314 (over last 800 batches)\n",
      "Running average global loss: 1.1837157247215508 (over last 800 batches)\n",
      "Running average activity prediction loss: 0.3986462552845478 (Cross Entropy over last 800 batches)\n",
      "Running average time till next event prediction loss: 0.2951946990005672 (MAE over last 800 batches)\n",
      "Running average (complete) remaining runtime prediction loss: 0.4898747717216611 (MAE over last 800 batches)\n",
      "------------------------------------------------------------\n"
     ]
    },
    {
     "name": "stderr",
     "output_type": "stream",
     "text": [
      "Batch calculation at epoch 67.: 1601it [03:44,  6.36it/s]"
     ]
    },
    {
     "name": "stdout",
     "output_type": "stream",
     "text": [
      "------------------------------------------------------------\n",
      "Epoch 67, batch 1599:\n",
      "Average original gradient norm: 1.6924420015513897 (over last 800 batches)\n",
      "Average clipped gradient norm: 1.6743100130558013 (over last 800 batches)\n",
      "Running average global loss: 1.182723104134202 (over last 800 batches)\n",
      "Running average activity prediction loss: 0.3977054735273123 (Cross Entropy over last 800 batches)\n",
      "Running average time till next event prediction loss: 0.2965136990137398 (MAE over last 800 batches)\n",
      "Running average (complete) remaining runtime prediction loss: 0.48850393053144214 (MAE over last 800 batches)\n",
      "------------------------------------------------------------\n"
     ]
    },
    {
     "name": "stderr",
     "output_type": "stream",
     "text": [
      "Batch calculation at epoch 67.: 2402it [05:56,  8.70it/s]"
     ]
    },
    {
     "name": "stdout",
     "output_type": "stream",
     "text": [
      "------------------------------------------------------------\n",
      "Epoch 67, batch 2399:\n",
      "Average original gradient norm: 1.7123943269252777 (over last 800 batches)\n",
      "Average clipped gradient norm: 1.6965509939193726 (over last 800 batches)\n",
      "Running average global loss: 1.1862984774261713 (over last 800 batches)\n",
      "Running average activity prediction loss: 0.39968264564871786 (Cross Entropy over last 800 batches)\n",
      "Running average time till next event prediction loss: 0.29679303182289 (MAE over last 800 batches)\n",
      "Running average (complete) remaining runtime prediction loss: 0.48982280064374206 (MAE over last 800 batches)\n",
      "------------------------------------------------------------\n"
     ]
    },
    {
     "name": "stderr",
     "output_type": "stream",
     "text": [
      "Batch calculation at epoch 67.: 3201it [07:54,  6.16it/s]"
     ]
    },
    {
     "name": "stdout",
     "output_type": "stream",
     "text": [
      "------------------------------------------------------------\n",
      "Epoch 67, batch 3199:\n",
      "Average original gradient norm: 1.6965936347842216 (over last 800 batches)\n",
      "Average clipped gradient norm: 1.6789252807199955 (over last 800 batches)\n",
      "Running average global loss: 1.1842099896818399 (over last 800 batches)\n",
      "Running average activity prediction loss: 0.3993415263667703 (Cross Entropy over last 800 batches)\n",
      "Running average time till next event prediction loss: 0.2965810096636414 (MAE over last 800 batches)\n",
      "Running average (complete) remaining runtime prediction loss: 0.4882874521613121 (MAE over last 800 batches)\n",
      "------------------------------------------------------------\n"
     ]
    },
    {
     "name": "stderr",
     "output_type": "stream",
     "text": [
      "Batch calculation at epoch 67.: 4001it [10:19,  8.09it/s]"
     ]
    },
    {
     "name": "stdout",
     "output_type": "stream",
     "text": [
      "------------------------------------------------------------\n",
      "Epoch 67, batch 3999:\n",
      "Average original gradient norm: 1.6940685960650443 (over last 800 batches)\n",
      "Average clipped gradient norm: 1.6792871591448784 (over last 800 batches)\n",
      "Running average global loss: 1.181348541006446 (over last 800 batches)\n",
      "Running average activity prediction loss: 0.3980126194655895 (Cross Entropy over last 800 batches)\n",
      "Running average time till next event prediction loss: 0.29589150473475456 (MAE over last 800 batches)\n",
      "Running average (complete) remaining runtime prediction loss: 0.4874444166943431 (MAE over last 800 batches)\n",
      "------------------------------------------------------------\n"
     ]
    },
    {
     "name": "stderr",
     "output_type": "stream",
     "text": [
      "Batch calculation at epoch 67.: 4295it [10:56,  6.54it/s]\n"
     ]
    },
    {
     "name": "stdout",
     "output_type": "stream",
     "text": [
      "=======================================\n",
      "End of epoch 67\n",
      "=======================================\n",
      "Running average global loss: 1.182353197336197 (over last 800 batches)\n",
      "Running average activity prediction loss: 0.39800543248653414 (Cross Entropy over last 800 batches)\n",
      "Running average time till next event prediction loss: 0.29656415682286025 (MAE over last 800 batches)\n",
      "Running average (complete) remaining runtime prediction loss: 0.4877836087346077 (MAE over last 800 batches)\n"
     ]
    },
    {
     "name": "stderr",
     "output_type": "stream",
     "text": [
      "Validation batch calculation: 20it [00:47,  2.39s/it]\n"
     ]
    },
    {
     "name": "stdout",
     "output_type": "stream",
     "text": [
      "Avg MAE TTNE prediction validation set: 0.4668261706829071 (standardized) ; 17216.4 (minutes)'\n",
      "Avg 1-(normalized) DL distance acitivty suffix prediction validation set: 0.842915415763855\n",
      "Percentage of suffixes predicted to END: too early - 0.29350997943780244 ; right moment - 0.6326754250957312 ; too late - 0.07381459546646638\n",
      "Too early instances - avg amount of events too early: 1.6565147638320923\n",
      "Too late instances - avg amount of events too late: 3.109257698059082\n",
      "Avg absolute amount of events predicted too early / too late: 0.7157122492790222\n",
      "Avg MAE RRT prediction validation set: 0.6086828112602234 (standardized) ; 33207.7 (minutes)'\n",
      " \n",
      "------------------------------------\n",
      "EPOCH 68:\n",
      "____________________________________\n"
     ]
    },
    {
     "name": "stderr",
     "output_type": "stream",
     "text": [
      "Batch calculation at epoch 68.: 801it [01:51,  5.26it/s]"
     ]
    },
    {
     "name": "stdout",
     "output_type": "stream",
     "text": [
      "------------------------------------------------------------\n",
      "Epoch 68, batch 799:\n",
      "Average original gradient norm: 1.7149476830661297 (over last 800 batches)\n",
      "Average clipped gradient norm: 1.6964244610071182 (over last 800 batches)\n",
      "Running average global loss: 1.187840716317296 (over last 800 batches)\n",
      "Running average activity prediction loss: 0.4011917765438557 (Cross Entropy over last 800 batches)\n",
      "Running average time till next event prediction loss: 0.296758585460484 (MAE over last 800 batches)\n",
      "Running average (complete) remaining runtime prediction loss: 0.489890356361866 (MAE over last 800 batches)\n",
      "------------------------------------------------------------\n"
     ]
    },
    {
     "name": "stderr",
     "output_type": "stream",
     "text": [
      "Batch calculation at epoch 68.: 1601it [03:40,  6.54it/s]"
     ]
    },
    {
     "name": "stdout",
     "output_type": "stream",
     "text": [
      "------------------------------------------------------------\n",
      "Epoch 68, batch 1599:\n",
      "Average original gradient norm: 1.7002434650063514 (over last 800 batches)\n",
      "Average clipped gradient norm: 1.6838860262930393 (over last 800 batches)\n",
      "Running average global loss: 1.1823818989843131 (over last 800 batches)\n",
      "Running average activity prediction loss: 0.39945274498313665 (Cross Entropy over last 800 batches)\n",
      "Running average time till next event prediction loss: 0.2955328712426126 (MAE over last 800 batches)\n",
      "Running average (complete) remaining runtime prediction loss: 0.4873962833359837 (MAE over last 800 batches)\n",
      "------------------------------------------------------------\n"
     ]
    },
    {
     "name": "stderr",
     "output_type": "stream",
     "text": [
      "Batch calculation at epoch 68.: 2402it [05:37,  9.01it/s]"
     ]
    },
    {
     "name": "stdout",
     "output_type": "stream",
     "text": [
      "------------------------------------------------------------\n",
      "Epoch 68, batch 2399:\n",
      "Average original gradient norm: 1.693334617316723 (over last 800 batches)\n",
      "Average clipped gradient norm: 1.6795695811510085 (over last 800 batches)\n",
      "Running average global loss: 1.1789121613651514 (over last 800 batches)\n",
      "Running average activity prediction loss: 0.39623248159885405 (Cross Entropy over last 800 batches)\n",
      "Running average time till next event prediction loss: 0.29608850030228495 (MAE over last 800 batches)\n",
      "Running average (complete) remaining runtime prediction loss: 0.4865911807492375 (MAE over last 800 batches)\n",
      "------------------------------------------------------------\n"
     ]
    },
    {
     "name": "stderr",
     "output_type": "stream",
     "text": [
      "Batch calculation at epoch 68.: 3201it [07:15,  8.18it/s]"
     ]
    },
    {
     "name": "stdout",
     "output_type": "stream",
     "text": [
      "------------------------------------------------------------\n",
      "Epoch 68, batch 3199:\n",
      "Average original gradient norm: 1.6985224469006062 (over last 800 batches)\n",
      "Average clipped gradient norm: 1.6787209667265415 (over last 800 batches)\n",
      "Running average global loss: 1.1814959330111743 (over last 800 batches)\n",
      "Running average activity prediction loss: 0.39720618426799775 (Cross Entropy over last 800 batches)\n",
      "Running average time till next event prediction loss: 0.2952152483165264 (MAE over last 800 batches)\n",
      "Running average (complete) remaining runtime prediction loss: 0.48907450042665007 (MAE over last 800 batches)\n",
      "------------------------------------------------------------\n"
     ]
    },
    {
     "name": "stderr",
     "output_type": "stream",
     "text": [
      "Batch calculation at epoch 68.: 4001it [09:02,  5.47it/s]"
     ]
    },
    {
     "name": "stdout",
     "output_type": "stream",
     "text": [
      "------------------------------------------------------------\n",
      "Epoch 68, batch 3999:\n",
      "Average original gradient norm: 1.6984967225790024 (over last 800 batches)\n",
      "Average clipped gradient norm: 1.6803513921797275 (over last 800 batches)\n",
      "Running average global loss: 1.1850170669704676 (over last 800 batches)\n",
      "Running average activity prediction loss: 0.39694635700434444 (Cross Entropy over last 800 batches)\n",
      "Running average time till next event prediction loss: 0.29714359616860747 (MAE over last 800 batches)\n",
      "Running average (complete) remaining runtime prediction loss: 0.49092711266130207 (MAE over last 800 batches)\n",
      "------------------------------------------------------------\n"
     ]
    },
    {
     "name": "stderr",
     "output_type": "stream",
     "text": [
      "Batch calculation at epoch 68.: 4295it [09:43,  7.36it/s]\n"
     ]
    },
    {
     "name": "stdout",
     "output_type": "stream",
     "text": [
      "=======================================\n",
      "End of epoch 68\n",
      "=======================================\n",
      "Running average global loss: 1.1874405197799205 (over last 800 batches)\n",
      "Running average activity prediction loss: 0.3993740860000253 (Cross Entropy over last 800 batches)\n",
      "Running average time till next event prediction loss: 0.29712544417008757 (MAE over last 800 batches)\n",
      "Running average (complete) remaining runtime prediction loss: 0.4909409876540303 (MAE over last 800 batches)\n"
     ]
    },
    {
     "name": "stderr",
     "output_type": "stream",
     "text": [
      "Validation batch calculation: 20it [00:55,  2.78s/it]\n"
     ]
    },
    {
     "name": "stdout",
     "output_type": "stream",
     "text": [
      "Avg MAE TTNE prediction validation set: 0.46549689769744873 (standardized) ; 17169.627083333333 (minutes)'\n",
      "Avg 1-(normalized) DL distance acitivty suffix prediction validation set: 0.8433334827423096\n",
      "Percentage of suffixes predicted to END: too early - 0.29519681840008866 ; right moment - 0.6330448058903924 ; too late - 0.07175837570951894\n",
      "Too early instances - avg amount of events too early: 1.6630656719207764\n",
      "Too late instances - avg amount of events too late: 3.0640013217926025\n",
      "Avg absolute amount of events predicted too early / too late: 0.7107994556427002\n",
      "Avg MAE RRT prediction validation set: 0.6100361347198486 (standardized) ; 33279.291666666664 (minutes)'\n",
      " \n",
      "------------------------------------\n",
      "EPOCH 69:\n",
      "____________________________________\n"
     ]
    },
    {
     "name": "stderr",
     "output_type": "stream",
     "text": [
      "Batch calculation at epoch 69.: 800it [02:22,  3.82it/s]"
     ]
    },
    {
     "name": "stdout",
     "output_type": "stream",
     "text": [
      "------------------------------------------------------------\n",
      "Epoch 69, batch 799:\n",
      "Average original gradient norm: 1.707660668194294 (over last 800 batches)\n",
      "Average clipped gradient norm: 1.6884224000573158 (over last 800 batches)\n",
      "Running average global loss: 1.1881341470032931 (over last 800 batches)\n",
      "Running average activity prediction loss: 0.4003781491518021 (Cross Entropy over last 800 batches)\n",
      "Running average time till next event prediction loss: 0.29633843529969456 (MAE over last 800 batches)\n",
      "Running average (complete) remaining runtime prediction loss: 0.4914175613224506 (MAE over last 800 batches)\n",
      "------------------------------------------------------------\n"
     ]
    },
    {
     "name": "stderr",
     "output_type": "stream",
     "text": [
      "Batch calculation at epoch 69.: 1601it [04:11,  9.92it/s]"
     ]
    },
    {
     "name": "stdout",
     "output_type": "stream",
     "text": [
      "------------------------------------------------------------\n",
      "Epoch 69, batch 1599:\n",
      "Average original gradient norm: 1.704669272005558 (over last 800 batches)\n",
      "Average clipped gradient norm: 1.6862524354457855 (over last 800 batches)\n",
      "Running average global loss: 1.1796726194024085 (over last 800 batches)\n",
      "Running average activity prediction loss: 0.3969733039289713 (Cross Entropy over last 800 batches)\n",
      "Running average time till next event prediction loss: 0.2964032058045268 (MAE over last 800 batches)\n",
      "Running average (complete) remaining runtime prediction loss: 0.4862961094453931 (MAE over last 800 batches)\n",
      "------------------------------------------------------------\n"
     ]
    },
    {
     "name": "stderr",
     "output_type": "stream",
     "text": [
      "Batch calculation at epoch 69.: 2401it [06:11, 10.56it/s]"
     ]
    },
    {
     "name": "stdout",
     "output_type": "stream",
     "text": [
      "------------------------------------------------------------\n",
      "Epoch 69, batch 2399:\n",
      "Average original gradient norm: 1.6973025794327259 (over last 800 batches)\n",
      "Average clipped gradient norm: 1.6807179445028304 (over last 800 batches)\n",
      "Running average global loss: 1.178425482288003 (over last 800 batches)\n",
      "Running average activity prediction loss: 0.396501171477139 (Cross Entropy over last 800 batches)\n",
      "Running average time till next event prediction loss: 0.2954966041818261 (MAE over last 800 batches)\n",
      "Running average (complete) remaining runtime prediction loss: 0.4864277062192559 (MAE over last 800 batches)\n",
      "------------------------------------------------------------\n"
     ]
    },
    {
     "name": "stderr",
     "output_type": "stream",
     "text": [
      "Batch calculation at epoch 69.: 3200it [08:06,  5.57it/s]"
     ]
    },
    {
     "name": "stdout",
     "output_type": "stream",
     "text": [
      "------------------------------------------------------------\n",
      "Epoch 69, batch 3199:\n",
      "Average original gradient norm: 1.7032203786820173 (over last 800 batches)\n",
      "Average clipped gradient norm: 1.6815879749506712 (over last 800 batches)\n",
      "Running average global loss: 1.18493846334517 (over last 800 batches)\n",
      "Running average activity prediction loss: 0.39905060730874536 (Cross Entropy over last 800 batches)\n",
      "Running average time till next event prediction loss: 0.29619594929739834 (MAE over last 800 batches)\n",
      "Running average (complete) remaining runtime prediction loss: 0.4896919080987573 (MAE over last 800 batches)\n",
      "------------------------------------------------------------\n"
     ]
    },
    {
     "name": "stderr",
     "output_type": "stream",
     "text": [
      "Batch calculation at epoch 69.: 4001it [10:01,  6.60it/s]"
     ]
    },
    {
     "name": "stdout",
     "output_type": "stream",
     "text": [
      "------------------------------------------------------------\n",
      "Epoch 69, batch 3999:\n",
      "Average original gradient norm: 1.7167165286839008 (over last 800 batches)\n",
      "Average clipped gradient norm: 1.6957548816502095 (over last 800 batches)\n",
      "Running average global loss: 1.1862212638556957 (over last 800 batches)\n",
      "Running average activity prediction loss: 0.3991563503444195 (Cross Entropy over last 800 batches)\n",
      "Running average time till next event prediction loss: 0.296272733323276 (MAE over last 800 batches)\n",
      "Running average (complete) remaining runtime prediction loss: 0.49079218100756405 (MAE over last 800 batches)\n",
      "------------------------------------------------------------\n"
     ]
    },
    {
     "name": "stderr",
     "output_type": "stream",
     "text": [
      "Batch calculation at epoch 69.: 4295it [10:43,  6.67it/s]\n"
     ]
    },
    {
     "name": "stdout",
     "output_type": "stream",
     "text": [
      "=======================================\n",
      "End of epoch 69\n",
      "=======================================\n",
      "Running average global loss: 1.1842262692749501 (over last 800 batches)\n",
      "Running average activity prediction loss: 0.3982408191636205 (Cross Entropy over last 800 batches)\n",
      "Running average time till next event prediction loss: 0.2965322093479335 (MAE over last 800 batches)\n",
      "Running average (complete) remaining runtime prediction loss: 0.4894532421976328 (MAE over last 800 batches)\n"
     ]
    },
    {
     "name": "stderr",
     "output_type": "stream",
     "text": [
      "Validation batch calculation: 20it [00:30,  1.53s/it]\n"
     ]
    },
    {
     "name": "stdout",
     "output_type": "stream",
     "text": [
      "Avg MAE TTNE prediction validation set: 0.4638770818710327 (standardized) ; 17108.552083333332 (minutes)'\n",
      "Avg 1-(normalized) DL distance acitivty suffix prediction validation set: 0.8431763052940369\n",
      "Percentage of suffixes predicted to END: too early - 0.29467968528756294 ; right moment - 0.632601548936799 ; too late - 0.0727187657756381\n",
      "Too early instances - avg amount of events too early: 1.657711148262024\n",
      "Too late instances - avg amount of events too late: 3.062648057937622\n",
      "Avg absolute amount of events predicted too early / too late: 0.711205780506134\n",
      "Avg MAE RRT prediction validation set: 0.6100999116897583 (standardized) ; 33285.94375 (minutes)'\n",
      " \n",
      "------------------------------------\n",
      "EPOCH 70:\n",
      "____________________________________\n"
     ]
    },
    {
     "name": "stderr",
     "output_type": "stream",
     "text": [
      "Batch calculation at epoch 70.: 801it [01:42, 11.27it/s]"
     ]
    },
    {
     "name": "stdout",
     "output_type": "stream",
     "text": [
      "------------------------------------------------------------\n",
      "Epoch 70, batch 799:\n",
      "Average original gradient norm: 1.7005331978201865 (over last 800 batches)\n",
      "Average clipped gradient norm: 1.6832268619537354 (over last 800 batches)\n",
      "Running average global loss: 1.1790295211225748 (over last 800 batches)\n",
      "Running average activity prediction loss: 0.3973502112552524 (Cross Entropy over last 800 batches)\n",
      "Running average time till next event prediction loss: 0.2946165537834167 (MAE over last 800 batches)\n",
      "Running average (complete) remaining runtime prediction loss: 0.48706275831907986 (MAE over last 800 batches)\n",
      "------------------------------------------------------------\n"
     ]
    },
    {
     "name": "stderr",
     "output_type": "stream",
     "text": [
      "Batch calculation at epoch 70.: 1601it [02:57,  6.06it/s]"
     ]
    },
    {
     "name": "stdout",
     "output_type": "stream",
     "text": [
      "------------------------------------------------------------\n",
      "Epoch 70, batch 1599:\n",
      "Average original gradient norm: 1.6980483943223954 (over last 800 batches)\n",
      "Average clipped gradient norm: 1.6833950905501842 (over last 800 batches)\n",
      "Running average global loss: 1.1836612275987863 (over last 800 batches)\n",
      "Running average activity prediction loss: 0.398682775888592 (Cross Entropy over last 800 batches)\n",
      "Running average time till next event prediction loss: 0.29600149773061274 (MAE over last 800 batches)\n",
      "Running average (complete) remaining runtime prediction loss: 0.4889769523963332 (MAE over last 800 batches)\n",
      "------------------------------------------------------------\n"
     ]
    },
    {
     "name": "stderr",
     "output_type": "stream",
     "text": [
      "Batch calculation at epoch 70.: 2401it [04:33, 10.42it/s]"
     ]
    },
    {
     "name": "stdout",
     "output_type": "stream",
     "text": [
      "------------------------------------------------------------\n",
      "Epoch 70, batch 2399:\n",
      "Average original gradient norm: 1.7060686729848384 (over last 800 batches)\n",
      "Average clipped gradient norm: 1.6878653898835183 (over last 800 batches)\n",
      "Running average global loss: 1.1855960495769977 (over last 800 batches)\n",
      "Running average activity prediction loss: 0.39976677391678095 (Cross Entropy over last 800 batches)\n",
      "Running average time till next event prediction loss: 0.2973247347027063 (MAE over last 800 batches)\n",
      "Running average (complete) remaining runtime prediction loss: 0.48850453868508337 (MAE over last 800 batches)\n",
      "------------------------------------------------------------\n"
     ]
    },
    {
     "name": "stderr",
     "output_type": "stream",
     "text": [
      "Batch calculation at epoch 70.: 3201it [05:55, 12.42it/s]"
     ]
    },
    {
     "name": "stdout",
     "output_type": "stream",
     "text": [
      "------------------------------------------------------------\n",
      "Epoch 70, batch 3199:\n",
      "Average original gradient norm: 1.6819040548801423 (over last 800 batches)\n",
      "Average clipped gradient norm: 1.6654558655619622 (over last 800 batches)\n",
      "Running average global loss: 1.1837391071766614 (over last 800 batches)\n",
      "Running average activity prediction loss: 0.39716678488999607 (Cross Entropy over last 800 batches)\n",
      "Running average time till next event prediction loss: 0.29645928082987666 (MAE over last 800 batches)\n",
      "Running average (complete) remaining runtime prediction loss: 0.49011304054409266 (MAE over last 800 batches)\n",
      "------------------------------------------------------------\n"
     ]
    },
    {
     "name": "stderr",
     "output_type": "stream",
     "text": [
      "Batch calculation at epoch 70.: 4001it [07:25,  9.45it/s]"
     ]
    },
    {
     "name": "stdout",
     "output_type": "stream",
     "text": [
      "------------------------------------------------------------\n",
      "Epoch 70, batch 3999:\n",
      "Average original gradient norm: 1.7148962269723416 (over last 800 batches)\n",
      "Average clipped gradient norm: 1.6982999992370607 (over last 800 batches)\n",
      "Running average global loss: 1.1843539544939994 (over last 800 batches)\n",
      "Running average activity prediction loss: 0.3989096653088927 (Cross Entropy over last 800 batches)\n",
      "Running average time till next event prediction loss: 0.2967227120883763 (MAE over last 800 batches)\n",
      "Running average (complete) remaining runtime prediction loss: 0.4887215738743544 (MAE over last 800 batches)\n",
      "------------------------------------------------------------\n"
     ]
    },
    {
     "name": "stderr",
     "output_type": "stream",
     "text": [
      "Batch calculation at epoch 70.: 4295it [08:03,  8.89it/s]\n"
     ]
    },
    {
     "name": "stdout",
     "output_type": "stream",
     "text": [
      "=======================================\n",
      "End of epoch 70\n",
      "=======================================\n",
      "Running average global loss: 1.185888931527734 (over last 800 batches)\n",
      "Running average activity prediction loss: 0.39834466550499203 (Cross Entropy over last 800 batches)\n",
      "Running average time till next event prediction loss: 0.2964995900169015 (MAE over last 800 batches)\n",
      "Running average (complete) remaining runtime prediction loss: 0.4910446736216545 (MAE over last 800 batches)\n"
     ]
    },
    {
     "name": "stderr",
     "output_type": "stream",
     "text": [
      "Validation batch calculation: 20it [00:35,  1.76s/it]\n"
     ]
    },
    {
     "name": "stdout",
     "output_type": "stream",
     "text": [
      "Avg MAE TTNE prediction validation set: 0.4645316004753113 (standardized) ; 17126.770833333332 (minutes)'\n",
      "Avg 1-(normalized) DL distance acitivty suffix prediction validation set: 0.8433948755264282\n",
      "Percentage of suffixes predicted to END: too early - 0.2948028122191167 ; right moment - 0.6333526232192768 ; too late - 0.07184456456160657\n",
      "Too early instances - avg amount of events too early: 1.660819411277771\n",
      "Too late instances - avg amount of events too late: 3.0464439392089844\n",
      "Avg absolute amount of events predicted too early / too late: 0.7084846496582031\n",
      "Avg MAE RRT prediction validation set: 0.6090920567512512 (standardized) ; 33229.802083333336 (minutes)'\n",
      " \n",
      "------------------------------------\n",
      "EPOCH 71:\n",
      "____________________________________\n"
     ]
    },
    {
     "name": "stderr",
     "output_type": "stream",
     "text": [
      "Batch calculation at epoch 71.: 801it [01:19,  9.70it/s]"
     ]
    },
    {
     "name": "stdout",
     "output_type": "stream",
     "text": [
      "------------------------------------------------------------\n",
      "Epoch 71, batch 799:\n",
      "Average original gradient norm: 1.7012109437584877 (over last 800 batches)\n",
      "Average clipped gradient norm: 1.6799062639474869 (over last 800 batches)\n",
      "Running average global loss: 1.1823021854460238 (over last 800 batches)\n",
      "Running average activity prediction loss: 0.3980821216851473 (Cross Entropy over last 800 batches)\n",
      "Running average time till next event prediction loss: 0.2961903592757881 (MAE over last 800 batches)\n",
      "Running average (complete) remaining runtime prediction loss: 0.4880297064036131 (MAE over last 800 batches)\n",
      "------------------------------------------------------------\n"
     ]
    },
    {
     "name": "stderr",
     "output_type": "stream",
     "text": [
      "Batch calculation at epoch 71.: 1601it [02:51, 10.19it/s]"
     ]
    },
    {
     "name": "stdout",
     "output_type": "stream",
     "text": [
      "------------------------------------------------------------\n",
      "Epoch 71, batch 1599:\n",
      "Average original gradient norm: 1.707731095701456 (over last 800 batches)\n",
      "Average clipped gradient norm: 1.6902320164442062 (over last 800 batches)\n",
      "Running average global loss: 1.1802700175344945 (over last 800 batches)\n",
      "Running average activity prediction loss: 0.3962931284680963 (Cross Entropy over last 800 batches)\n",
      "Running average time till next event prediction loss: 0.29647631734609603 (MAE over last 800 batches)\n",
      "Running average (complete) remaining runtime prediction loss: 0.48750057045370343 (MAE over last 800 batches)\n",
      "------------------------------------------------------------\n"
     ]
    },
    {
     "name": "stderr",
     "output_type": "stream",
     "text": [
      "Batch calculation at epoch 71.: 2401it [04:22,  6.24it/s]"
     ]
    },
    {
     "name": "stdout",
     "output_type": "stream",
     "text": [
      "------------------------------------------------------------\n",
      "Epoch 71, batch 2399:\n",
      "Average original gradient norm: 1.7004387545585633 (over last 800 batches)\n",
      "Average clipped gradient norm: 1.6839694592356682 (over last 800 batches)\n",
      "Running average global loss: 1.1850605212152003 (over last 800 batches)\n",
      "Running average activity prediction loss: 0.40009799975901844 (Cross Entropy over last 800 batches)\n",
      "Running average time till next event prediction loss: 0.29639470007270574 (MAE over last 800 batches)\n",
      "Running average (complete) remaining runtime prediction loss: 0.48856782354414463 (MAE over last 800 batches)\n",
      "------------------------------------------------------------\n"
     ]
    },
    {
     "name": "stderr",
     "output_type": "stream",
     "text": [
      "Batch calculation at epoch 71.: 3201it [06:22,  8.12it/s]"
     ]
    },
    {
     "name": "stdout",
     "output_type": "stream",
     "text": [
      "------------------------------------------------------------\n",
      "Epoch 71, batch 3199:\n",
      "Average original gradient norm: 1.7138215321302415 (over last 800 batches)\n",
      "Average clipped gradient norm: 1.6925686730444431 (over last 800 batches)\n",
      "Running average global loss: 1.186428870484233 (over last 800 batches)\n",
      "Running average activity prediction loss: 0.39966290911659597 (Cross Entropy over last 800 batches)\n",
      "Running average time till next event prediction loss: 0.2953641118295491 (MAE over last 800 batches)\n",
      "Running average (complete) remaining runtime prediction loss: 0.4914018527045846 (MAE over last 800 batches)\n",
      "------------------------------------------------------------\n"
     ]
    },
    {
     "name": "stderr",
     "output_type": "stream",
     "text": [
      "Batch calculation at epoch 71.: 4001it [08:41,  8.87it/s]"
     ]
    },
    {
     "name": "stdout",
     "output_type": "stream",
     "text": [
      "------------------------------------------------------------\n",
      "Epoch 71, batch 3999:\n",
      "Average original gradient norm: 1.6953308603167534 (over last 800 batches)\n",
      "Average clipped gradient norm: 1.6814091101288795 (over last 800 batches)\n",
      "Running average global loss: 1.1819861872494222 (over last 800 batches)\n",
      "Running average activity prediction loss: 0.3968289341032505 (Cross Entropy over last 800 batches)\n",
      "Running average time till next event prediction loss: 0.29637430610135196 (MAE over last 800 batches)\n",
      "Running average (complete) remaining runtime prediction loss: 0.48878294847905635 (MAE over last 800 batches)\n",
      "------------------------------------------------------------\n"
     ]
    },
    {
     "name": "stderr",
     "output_type": "stream",
     "text": [
      "Batch calculation at epoch 71.: 4295it [09:14,  7.75it/s]\n"
     ]
    },
    {
     "name": "stdout",
     "output_type": "stream",
     "text": [
      "=======================================\n",
      "End of epoch 71\n",
      "=======================================\n",
      "Running average global loss: 1.1810433787107468 (over last 800 batches)\n",
      "Running average activity prediction loss: 0.39685282625257967 (Cross Entropy over last 800 batches)\n",
      "Running average time till next event prediction loss: 0.2959607024677098 (MAE over last 800 batches)\n",
      "Running average (complete) remaining runtime prediction loss: 0.48822984896600247 (MAE over last 800 batches)\n"
     ]
    },
    {
     "name": "stderr",
     "output_type": "stream",
     "text": [
      "Validation batch calculation: 20it [00:35,  1.77s/it]\n"
     ]
    },
    {
     "name": "stdout",
     "output_type": "stream",
     "text": [
      "Avg MAE TTNE prediction validation set: 0.46400439739227295 (standardized) ; 17116.197916666668 (minutes)'\n",
      "Avg 1-(normalized) DL distance acitivty suffix prediction validation set: 0.8432775139808655\n",
      "Percentage of suffixes predicted to END: too early - 0.29572626420576975 ; right moment - 0.6326138616299544 ; too late - 0.07165987416427595\n",
      "Too early instances - avg amount of events too early: 1.6667499542236328\n",
      "Too late instances - avg amount of events too late: 3.0589346885681152\n",
      "Avg absolute amount of events predicted too early / too late: 0.7121046185493469\n",
      "Avg MAE RRT prediction validation set: 0.6082086563110352 (standardized) ; 33183.364583333336 (minutes)'\n",
      " \n",
      "------------------------------------\n",
      "EPOCH 72:\n",
      "____________________________________\n"
     ]
    },
    {
     "name": "stderr",
     "output_type": "stream",
     "text": [
      "Batch calculation at epoch 72.: 801it [01:38,  7.25it/s]"
     ]
    },
    {
     "name": "stdout",
     "output_type": "stream",
     "text": [
      "------------------------------------------------------------\n",
      "Epoch 72, batch 799:\n",
      "Average original gradient norm: 1.6891064044833184 (over last 800 batches)\n",
      "Average clipped gradient norm: 1.6764323419332505 (over last 800 batches)\n",
      "Running average global loss: 1.1836729815602303 (over last 800 batches)\n",
      "Running average activity prediction loss: 0.3996568739041686 (Cross Entropy over last 800 batches)\n",
      "Running average time till next event prediction loss: 0.29559167169034484 (MAE over last 800 batches)\n",
      "Running average (complete) remaining runtime prediction loss: 0.4884244360402226 (MAE over last 800 batches)\n",
      "------------------------------------------------------------\n"
     ]
    },
    {
     "name": "stderr",
     "output_type": "stream",
     "text": [
      "Batch calculation at epoch 72.: 1601it [03:23,  8.94it/s]"
     ]
    },
    {
     "name": "stdout",
     "output_type": "stream",
     "text": [
      "------------------------------------------------------------\n",
      "Epoch 72, batch 1599:\n",
      "Average original gradient norm: 1.6959849175810815 (over last 800 batches)\n",
      "Average clipped gradient norm: 1.6785639864206314 (over last 800 batches)\n",
      "Running average global loss: 1.1805554942786693 (over last 800 batches)\n",
      "Running average activity prediction loss: 0.39546752996742723 (Cross Entropy over last 800 batches)\n",
      "Running average time till next event prediction loss: 0.2960263592377305 (MAE over last 800 batches)\n",
      "Running average (complete) remaining runtime prediction loss: 0.4890616051852703 (MAE over last 800 batches)\n",
      "------------------------------------------------------------\n"
     ]
    },
    {
     "name": "stderr",
     "output_type": "stream",
     "text": [
      "Batch calculation at epoch 72.: 2401it [04:56,  8.33it/s]"
     ]
    },
    {
     "name": "stdout",
     "output_type": "stream",
     "text": [
      "------------------------------------------------------------\n",
      "Epoch 72, batch 2399:\n",
      "Average original gradient norm: 1.6950982120633125 (over last 800 batches)\n",
      "Average clipped gradient norm: 1.6774995143711566 (over last 800 batches)\n",
      "Running average global loss: 1.184035209044814 (over last 800 batches)\n",
      "Running average activity prediction loss: 0.3982702539116144 (Cross Entropy over last 800 batches)\n",
      "Running average time till next event prediction loss: 0.29646194675937293 (MAE over last 800 batches)\n",
      "Running average (complete) remaining runtime prediction loss: 0.48930300656706094 (MAE over last 800 batches)\n",
      "------------------------------------------------------------\n"
     ]
    },
    {
     "name": "stderr",
     "output_type": "stream",
     "text": [
      "Batch calculation at epoch 72.: 3201it [06:43,  6.77it/s]"
     ]
    },
    {
     "name": "stdout",
     "output_type": "stream",
     "text": [
      "------------------------------------------------------------\n",
      "Epoch 72, batch 3199:\n",
      "Average original gradient norm: 1.6928040006756782 (over last 800 batches)\n",
      "Average clipped gradient norm: 1.6827160057425499 (over last 800 batches)\n",
      "Running average global loss: 1.18633348621428 (over last 800 batches)\n",
      "Running average activity prediction loss: 0.3992859328538179 (Cross Entropy over last 800 batches)\n",
      "Running average time till next event prediction loss: 0.29669701602309945 (MAE over last 800 batches)\n",
      "Running average (complete) remaining runtime prediction loss: 0.49035053625702857 (MAE over last 800 batches)\n",
      "------------------------------------------------------------\n"
     ]
    },
    {
     "name": "stderr",
     "output_type": "stream",
     "text": [
      "Batch calculation at epoch 72.: 4000it [09:03, 10.72it/s]"
     ]
    },
    {
     "name": "stdout",
     "output_type": "stream",
     "text": [
      "------------------------------------------------------------\n",
      "Epoch 72, batch 3999:\n",
      "Average original gradient norm: 1.706071455180645 (over last 800 batches)\n",
      "Average clipped gradient norm: 1.688668045848608 (over last 800 batches)\n",
      "Running average global loss: 1.1774451292306185 (over last 800 batches)\n",
      "Running average activity prediction loss: 0.39571169707924125 (Cross Entropy over last 800 batches)\n",
      "Running average time till next event prediction loss: 0.2955421191826463 (MAE over last 800 batches)\n",
      "Running average (complete) remaining runtime prediction loss: 0.48619131330400706 (MAE over last 800 batches)\n",
      "------------------------------------------------------------\n"
     ]
    },
    {
     "name": "stderr",
     "output_type": "stream",
     "text": [
      "Batch calculation at epoch 72.: 4295it [09:46,  7.33it/s]\n"
     ]
    },
    {
     "name": "stdout",
     "output_type": "stream",
     "text": [
      "=======================================\n",
      "End of epoch 72\n",
      "=======================================\n",
      "Running average global loss: 1.1767701464891434 (over last 800 batches)\n",
      "Running average activity prediction loss: 0.3965253983996809 (Cross Entropy over last 800 batches)\n",
      "Running average time till next event prediction loss: 0.29449458442628385 (MAE over last 800 batches)\n",
      "Running average (complete) remaining runtime prediction loss: 0.48575016561895606 (MAE over last 800 batches)\n"
     ]
    },
    {
     "name": "stderr",
     "output_type": "stream",
     "text": [
      "Validation batch calculation: 20it [00:59,  2.95s/it]\n"
     ]
    },
    {
     "name": "stdout",
     "output_type": "stream",
     "text": [
      "Avg MAE TTNE prediction validation set: 0.4626595675945282 (standardized) ; 17062.608333333334 (minutes)'\n",
      "Avg 1-(normalized) DL distance acitivty suffix prediction validation set: 0.8427236080169678\n",
      "Percentage of suffixes predicted to END: too early - 0.29364541906251157 ; right moment - 0.6326261743231097 ; too late - 0.07372840661437877\n",
      "Too early instances - avg amount of events too early: 1.6543670892715454\n",
      "Too late instances - avg amount of events too late: 3.1825318336486816\n",
      "Avg absolute amount of events predicted too early / too late: 0.7204403281211853\n",
      "Avg MAE RRT prediction validation set: 0.6108459234237671 (standardized) ; 33319.11875 (minutes)'\n",
      " \n",
      "------------------------------------\n",
      "EPOCH 73:\n",
      "____________________________________\n"
     ]
    },
    {
     "name": "stderr",
     "output_type": "stream",
     "text": [
      "Batch calculation at epoch 73.: 800it [02:39,  5.72it/s]"
     ]
    },
    {
     "name": "stdout",
     "output_type": "stream",
     "text": [
      "------------------------------------------------------------\n",
      "Epoch 73, batch 799:\n",
      "Average original gradient norm: 1.6884293808043003 (over last 800 batches)\n",
      "Average clipped gradient norm: 1.6746990264952182 (over last 800 batches)\n",
      "Running average global loss: 1.183608887642622 (over last 800 batches)\n",
      "Running average activity prediction loss: 0.3971534240618348 (Cross Entropy over last 800 batches)\n",
      "Running average time till next event prediction loss: 0.29636609071865677 (MAE over last 800 batches)\n",
      "Running average (complete) remaining runtime prediction loss: 0.49008937261998653 (MAE over last 800 batches)\n",
      "------------------------------------------------------------\n"
     ]
    },
    {
     "name": "stderr",
     "output_type": "stream",
     "text": [
      "Batch calculation at epoch 73.: 1601it [04:48,  5.60it/s]"
     ]
    },
    {
     "name": "stdout",
     "output_type": "stream",
     "text": [
      "------------------------------------------------------------\n",
      "Epoch 73, batch 1599:\n",
      "Average original gradient norm: 1.6955390366911889 (over last 800 batches)\n",
      "Average clipped gradient norm: 1.6792831599712372 (over last 800 batches)\n",
      "Running average global loss: 1.1801418840885163 (over last 800 batches)\n",
      "Running average activity prediction loss: 0.3972046465054154 (Cross Entropy over last 800 batches)\n",
      "Running average time till next event prediction loss: 0.2945040074549615 (MAE over last 800 batches)\n",
      "Running average (complete) remaining runtime prediction loss: 0.48843322958797214 (MAE over last 800 batches)\n",
      "------------------------------------------------------------\n"
     ]
    },
    {
     "name": "stderr",
     "output_type": "stream",
     "text": [
      "Batch calculation at epoch 73.: 2401it [06:53,  7.01it/s]"
     ]
    },
    {
     "name": "stdout",
     "output_type": "stream",
     "text": [
      "------------------------------------------------------------\n",
      "Epoch 73, batch 2399:\n",
      "Average original gradient norm: 1.7074543280899526 (over last 800 batches)\n",
      "Average clipped gradient norm: 1.6887166680395602 (over last 800 batches)\n",
      "Running average global loss: 1.179085180386901 (over last 800 batches)\n",
      "Running average activity prediction loss: 0.3954709079489112 (Cross Entropy over last 800 batches)\n",
      "Running average time till next event prediction loss: 0.29583792651072144 (MAE over last 800 batches)\n",
      "Running average (complete) remaining runtime prediction loss: 0.4877763447165489 (MAE over last 800 batches)\n",
      "------------------------------------------------------------\n"
     ]
    },
    {
     "name": "stderr",
     "output_type": "stream",
     "text": [
      "Batch calculation at epoch 73.: 3201it [08:44,  6.49it/s]"
     ]
    },
    {
     "name": "stdout",
     "output_type": "stream",
     "text": [
      "------------------------------------------------------------\n",
      "Epoch 73, batch 3199:\n",
      "Average original gradient norm: 1.7061831510066987 (over last 800 batches)\n",
      "Average clipped gradient norm: 1.684671615064144 (over last 800 batches)\n",
      "Running average global loss: 1.1852175469696522 (over last 800 batches)\n",
      "Running average activity prediction loss: 0.40041173696517945 (Cross Entropy over last 800 batches)\n",
      "Running average time till next event prediction loss: 0.29577438505366443 (MAE over last 800 batches)\n",
      "Running average (complete) remaining runtime prediction loss: 0.48903142638504504 (MAE over last 800 batches)\n",
      "------------------------------------------------------------\n"
     ]
    },
    {
     "name": "stderr",
     "output_type": "stream",
     "text": [
      "Batch calculation at epoch 73.: 4001it [10:39,  6.40it/s]"
     ]
    },
    {
     "name": "stdout",
     "output_type": "stream",
     "text": [
      "------------------------------------------------------------\n",
      "Epoch 73, batch 3999:\n",
      "Average original gradient norm: 1.7280469045042992 (over last 800 batches)\n",
      "Average clipped gradient norm: 1.7080572831630707 (over last 800 batches)\n",
      "Running average global loss: 1.1840795919299125 (over last 800 batches)\n",
      "Running average activity prediction loss: 0.3995673055574298 (Cross Entropy over last 800 batches)\n",
      "Running average time till next event prediction loss: 0.2959260440804064 (MAE over last 800 batches)\n",
      "Running average (complete) remaining runtime prediction loss: 0.4885862409323454 (MAE over last 800 batches)\n",
      "------------------------------------------------------------\n"
     ]
    },
    {
     "name": "stderr",
     "output_type": "stream",
     "text": [
      "Batch calculation at epoch 73.: 4295it [11:27,  6.25it/s]\n"
     ]
    },
    {
     "name": "stdout",
     "output_type": "stream",
     "text": [
      "=======================================\n",
      "End of epoch 73\n",
      "=======================================\n",
      "Running average global loss: 1.1809587744623422 (over last 800 batches)\n",
      "Running average activity prediction loss: 0.3994444409385324 (Cross Entropy over last 800 batches)\n",
      "Running average time till next event prediction loss: 0.29574243241921067 (MAE over last 800 batches)\n",
      "Running average (complete) remaining runtime prediction loss: 0.48577190026640893 (MAE over last 800 batches)\n"
     ]
    },
    {
     "name": "stderr",
     "output_type": "stream",
     "text": [
      "Validation batch calculation: 20it [01:02,  3.11s/it]\n"
     ]
    },
    {
     "name": "stdout",
     "output_type": "stream",
     "text": [
      "Avg MAE TTNE prediction validation set: 0.46310749650001526 (standardized) ; 17081.275 (minutes)'\n",
      "Avg 1-(normalized) DL distance acitivty suffix prediction validation set: 0.8430933952331543\n",
      "Percentage of suffixes predicted to END: too early - 0.29416255217503723 ; right moment - 0.632835490106751 ; too late - 0.0730019577182117\n",
      "Too early instances - avg amount of events too early: 1.6561466455459595\n",
      "Too late instances - avg amount of events too late: 3.10288405418396\n",
      "Avg absolute amount of events predicted too early / too late: 0.7136929631233215\n",
      "Avg MAE RRT prediction validation set: 0.6093002557754517 (standardized) ; 33236.11666666667 (minutes)'\n",
      " \n",
      "------------------------------------\n",
      "EPOCH 74:\n",
      "____________________________________\n"
     ]
    },
    {
     "name": "stderr",
     "output_type": "stream",
     "text": [
      "Batch calculation at epoch 74.: 801it [01:57,  7.86it/s]"
     ]
    },
    {
     "name": "stdout",
     "output_type": "stream",
     "text": [
      "------------------------------------------------------------\n",
      "Epoch 74, batch 799:\n",
      "Average original gradient norm: 1.7123101842403412 (over last 800 batches)\n",
      "Average clipped gradient norm: 1.6910125669836997 (over last 800 batches)\n",
      "Running average global loss: 1.1814650185406208 (over last 800 batches)\n",
      "Running average activity prediction loss: 0.39727635473012923 (Cross Entropy over last 800 batches)\n",
      "Running average time till next event prediction loss: 0.2955387685634196 (MAE over last 800 batches)\n",
      "Running average (complete) remaining runtime prediction loss: 0.48864989448338747 (MAE over last 800 batches)\n",
      "------------------------------------------------------------\n"
     ]
    },
    {
     "name": "stderr",
     "output_type": "stream",
     "text": [
      "Batch calculation at epoch 74.: 1601it [03:43,  7.09it/s]"
     ]
    },
    {
     "name": "stdout",
     "output_type": "stream",
     "text": [
      "------------------------------------------------------------\n",
      "Epoch 74, batch 1599:\n",
      "Average original gradient norm: 1.7023058788478374 (over last 800 batches)\n",
      "Average clipped gradient norm: 1.6865349623560906 (over last 800 batches)\n",
      "Running average global loss: 1.1831271209567786 (over last 800 batches)\n",
      "Running average activity prediction loss: 0.39832636758685114 (Cross Entropy over last 800 batches)\n",
      "Running average time till next event prediction loss: 0.2956690194830298 (MAE over last 800 batches)\n",
      "Running average (complete) remaining runtime prediction loss: 0.48913173373788593 (MAE over last 800 batches)\n",
      "------------------------------------------------------------\n"
     ]
    },
    {
     "name": "stderr",
     "output_type": "stream",
     "text": [
      "Batch calculation at epoch 74.: 2401it [05:17,  7.45it/s]"
     ]
    },
    {
     "name": "stdout",
     "output_type": "stream",
     "text": [
      "------------------------------------------------------------\n",
      "Epoch 74, batch 2399:\n",
      "Average original gradient norm: 1.7019304923713208 (over last 800 batches)\n",
      "Average clipped gradient norm: 1.6853236313164235 (over last 800 batches)\n",
      "Running average global loss: 1.1769973336160182 (over last 800 batches)\n",
      "Running average activity prediction loss: 0.39798348408192397 (Cross Entropy over last 800 batches)\n",
      "Running average time till next event prediction loss: 0.29436230011284353 (MAE over last 800 batches)\n",
      "Running average (complete) remaining runtime prediction loss: 0.48465154975652697 (MAE over last 800 batches)\n",
      "------------------------------------------------------------\n"
     ]
    },
    {
     "name": "stderr",
     "output_type": "stream",
     "text": [
      "Batch calculation at epoch 74.: 3201it [06:46,  9.52it/s]"
     ]
    },
    {
     "name": "stdout",
     "output_type": "stream",
     "text": [
      "------------------------------------------------------------\n",
      "Epoch 74, batch 3199:\n",
      "Average original gradient norm: 1.7055720691382885 (over last 800 batches)\n",
      "Average clipped gradient norm: 1.6894155314564705 (over last 800 batches)\n",
      "Running average global loss: 1.1854959443956614 (over last 800 batches)\n",
      "Running average activity prediction loss: 0.3975868060439825 (Cross Entropy over last 800 batches)\n",
      "Running average time till next event prediction loss: 0.2971832736954093 (MAE over last 800 batches)\n",
      "Running average (complete) remaining runtime prediction loss: 0.4907258655875921 (MAE over last 800 batches)\n",
      "------------------------------------------------------------\n"
     ]
    },
    {
     "name": "stderr",
     "output_type": "stream",
     "text": [
      "Batch calculation at epoch 74.: 4001it [08:14, 11.68it/s]"
     ]
    },
    {
     "name": "stdout",
     "output_type": "stream",
     "text": [
      "------------------------------------------------------------\n",
      "Epoch 74, batch 3999:\n",
      "Average original gradient norm: 1.7077879187464715 (over last 800 batches)\n",
      "Average clipped gradient norm: 1.6908892057836056 (over last 800 batches)\n",
      "Running average global loss: 1.1874124056845903 (over last 800 batches)\n",
      "Running average activity prediction loss: 0.4002351788058877 (Cross Entropy over last 800 batches)\n",
      "Running average time till next event prediction loss: 0.2974778274074197 (MAE over last 800 batches)\n",
      "Running average (complete) remaining runtime prediction loss: 0.4896993964910507 (MAE over last 800 batches)\n",
      "------------------------------------------------------------\n"
     ]
    },
    {
     "name": "stderr",
     "output_type": "stream",
     "text": [
      "Batch calculation at epoch 74.: 4295it [08:45,  8.17it/s]\n"
     ]
    },
    {
     "name": "stdout",
     "output_type": "stream",
     "text": [
      "=======================================\n",
      "End of epoch 74\n",
      "=======================================\n",
      "Running average global loss: 1.1841177133470773 (over last 800 batches)\n",
      "Running average activity prediction loss: 0.3998114750906825 (Cross Entropy over last 800 batches)\n",
      "Running average time till next event prediction loss: 0.29619094701483845 (MAE over last 800 batches)\n",
      "Running average (complete) remaining runtime prediction loss: 0.4881152892112732 (MAE over last 800 batches)\n"
     ]
    },
    {
     "name": "stderr",
     "output_type": "stream",
     "text": [
      "Validation batch calculation: 20it [00:30,  1.55s/it]\n"
     ]
    },
    {
     "name": "stdout",
     "output_type": "stream",
     "text": [
      "Avg MAE TTNE prediction validation set: 0.4625372886657715 (standardized) ; 17057.223958333332 (minutes)'\n",
      "Avg 1-(normalized) DL distance acitivty suffix prediction validation set: 0.8431602120399475\n",
      "Percentage of suffixes predicted to END: too early - 0.29591095460310035 ; right moment - 0.6326261743231097 ; too late - 0.07146287107378997\n",
      "Too early instances - avg amount of events too early: 1.6652519702911377\n",
      "Too late instances - avg amount of events too late: 3.062887668609619\n",
      "Avg absolute amount of events predicted too early / too late: 0.7116490602493286\n",
      "Avg MAE RRT prediction validation set: 0.610352635383606 (standardized) ; 33293.31041666667 (minutes)'\n",
      " \n",
      "------------------------------------\n",
      "EPOCH 75:\n",
      "____________________________________\n"
     ]
    },
    {
     "name": "stderr",
     "output_type": "stream",
     "text": [
      "Batch calculation at epoch 75.: 801it [01:37,  8.39it/s]"
     ]
    },
    {
     "name": "stdout",
     "output_type": "stream",
     "text": [
      "------------------------------------------------------------\n",
      "Epoch 75, batch 799:\n",
      "Average original gradient norm: 1.7050588539242744 (over last 800 batches)\n",
      "Average clipped gradient norm: 1.6866790091991424 (over last 800 batches)\n",
      "Running average global loss: 1.1791960646957158 (over last 800 batches)\n",
      "Running average activity prediction loss: 0.39721297577023507 (Cross Entropy over last 800 batches)\n",
      "Running average time till next event prediction loss: 0.29436827648431063 (MAE over last 800 batches)\n",
      "Running average (complete) remaining runtime prediction loss: 0.4876148121058941 (MAE over last 800 batches)\n",
      "------------------------------------------------------------\n"
     ]
    },
    {
     "name": "stderr",
     "output_type": "stream",
     "text": [
      "Batch calculation at epoch 75.: 1601it [02:55, 12.80it/s]"
     ]
    },
    {
     "name": "stdout",
     "output_type": "stream",
     "text": [
      "------------------------------------------------------------\n",
      "Epoch 75, batch 1599:\n",
      "Average original gradient norm: 1.697076823413372 (over last 800 batches)\n",
      "Average clipped gradient norm: 1.6794459797441958 (over last 800 batches)\n",
      "Running average global loss: 1.1830016719549894 (over last 800 batches)\n",
      "Running average activity prediction loss: 0.39997540801763537 (Cross Entropy over last 800 batches)\n",
      "Running average time till next event prediction loss: 0.2953297453187406 (MAE over last 800 batches)\n",
      "Running average (complete) remaining runtime prediction loss: 0.4876965169236064 (MAE over last 800 batches)\n",
      "------------------------------------------------------------\n"
     ]
    },
    {
     "name": "stderr",
     "output_type": "stream",
     "text": [
      "Batch calculation at epoch 75.: 2401it [04:39,  7.90it/s]"
     ]
    },
    {
     "name": "stdout",
     "output_type": "stream",
     "text": [
      "------------------------------------------------------------\n",
      "Epoch 75, batch 2399:\n",
      "Average original gradient norm: 1.6885591839253902 (over last 800 batches)\n",
      "Average clipped gradient norm: 1.6744568885862827 (over last 800 batches)\n",
      "Running average global loss: 1.1863582462072373 (over last 800 batches)\n",
      "Running average activity prediction loss: 0.3998469607532024 (Cross Entropy over last 800 batches)\n",
      "Running average time till next event prediction loss: 0.2963544452749193 (MAE over last 800 batches)\n",
      "Running average (complete) remaining runtime prediction loss: 0.49015683952718975 (MAE over last 800 batches)\n",
      "------------------------------------------------------------\n"
     ]
    },
    {
     "name": "stderr",
     "output_type": "stream",
     "text": [
      "Batch calculation at epoch 75.: 3200it [06:10, 10.27it/s]"
     ]
    },
    {
     "name": "stdout",
     "output_type": "stream",
     "text": [
      "------------------------------------------------------------\n",
      "Epoch 75, batch 3199:\n",
      "Average original gradient norm: 1.7171988317370415 (over last 800 batches)\n",
      "Average clipped gradient norm: 1.6990971972048283 (over last 800 batches)\n",
      "Running average global loss: 1.1802770724147558 (over last 800 batches)\n",
      "Running average activity prediction loss: 0.3967608642205596 (Cross Entropy over last 800 batches)\n",
      "Running average time till next event prediction loss: 0.29630117636173964 (MAE over last 800 batches)\n",
      "Running average (complete) remaining runtime prediction loss: 0.48721503138542177 (MAE over last 800 batches)\n",
      "------------------------------------------------------------\n"
     ]
    },
    {
     "name": "stderr",
     "output_type": "stream",
     "text": [
      "Batch calculation at epoch 75.: 4001it [07:40,  8.36it/s]"
     ]
    },
    {
     "name": "stdout",
     "output_type": "stream",
     "text": [
      "------------------------------------------------------------\n",
      "Epoch 75, batch 3999:\n",
      "Average original gradient norm: 1.7135600428283215 (over last 800 batches)\n",
      "Average clipped gradient norm: 1.6953233620524406 (over last 800 batches)\n",
      "Running average global loss: 1.1818268892914057 (over last 800 batches)\n",
      "Running average activity prediction loss: 0.39639823101460936 (Cross Entropy over last 800 batches)\n",
      "Running average time till next event prediction loss: 0.2963549488224089 (MAE over last 800 batches)\n",
      "Running average (complete) remaining runtime prediction loss: 0.48907370734959843 (MAE over last 800 batches)\n",
      "------------------------------------------------------------\n"
     ]
    },
    {
     "name": "stderr",
     "output_type": "stream",
     "text": [
      "Batch calculation at epoch 75.: 4295it [08:14,  8.68it/s]\n"
     ]
    },
    {
     "name": "stdout",
     "output_type": "stream",
     "text": [
      "=======================================\n",
      "End of epoch 75\n",
      "=======================================\n",
      "Running average global loss: 1.1817553980648519 (over last 800 batches)\n",
      "Running average activity prediction loss: 0.3962216056510806 (Cross Entropy over last 800 batches)\n",
      "Running average time till next event prediction loss: 0.29677901731804013 (MAE over last 800 batches)\n",
      "Running average (complete) remaining runtime prediction loss: 0.48875477351248264 (MAE over last 800 batches)\n"
     ]
    },
    {
     "name": "stderr",
     "output_type": "stream",
     "text": [
      "Validation batch calculation: 20it [00:33,  1.66s/it]\n"
     ]
    },
    {
     "name": "stdout",
     "output_type": "stream",
     "text": [
      "Avg MAE TTNE prediction validation set: 0.46390411257743835 (standardized) ; 17110.415625 (minutes)'\n",
      "Avg 1-(normalized) DL distance acitivty suffix prediction validation set: 0.8433737754821777\n",
      "Percentage of suffixes predicted to END: too early - 0.2965142765677137 ; right moment - 0.6326754250957312 ; too late - 0.07081029833655515\n",
      "Too early instances - avg amount of events too early: 1.666306734085083\n",
      "Too late instances - avg amount of events too late: 3.033907175064087\n",
      "Avg absolute amount of events predicted too early / too late: 0.708915650844574\n",
      "Avg MAE RRT prediction validation set: 0.6087130904197693 (standardized) ; 33207.47083333333 (minutes)'\n",
      " \n",
      "------------------------------------\n",
      "EPOCH 76:\n",
      "____________________________________\n"
     ]
    },
    {
     "name": "stderr",
     "output_type": "stream",
     "text": [
      "Batch calculation at epoch 76.: 801it [01:20, 13.78it/s]"
     ]
    },
    {
     "name": "stdout",
     "output_type": "stream",
     "text": [
      "------------------------------------------------------------\n",
      "Epoch 76, batch 799:\n",
      "Average original gradient norm: 1.6959837740659713 (over last 800 batches)\n",
      "Average clipped gradient norm: 1.6835465615987777 (over last 800 batches)\n",
      "Running average global loss: 1.1812052605301142 (over last 800 batches)\n",
      "Running average activity prediction loss: 0.39758468721061946 (Cross Entropy over last 800 batches)\n",
      "Running average time till next event prediction loss: 0.295243911575526 (MAE over last 800 batches)\n",
      "Running average (complete) remaining runtime prediction loss: 0.48837666217237713 (MAE over last 800 batches)\n",
      "------------------------------------------------------------\n"
     ]
    },
    {
     "name": "stderr",
     "output_type": "stream",
     "text": [
      "Batch calculation at epoch 76.: 1601it [02:51,  6.82it/s]"
     ]
    },
    {
     "name": "stdout",
     "output_type": "stream",
     "text": [
      "------------------------------------------------------------\n",
      "Epoch 76, batch 1599:\n",
      "Average original gradient norm: 1.6790202744305134 (over last 800 batches)\n",
      "Average clipped gradient norm: 1.6661422437429427 (over last 800 batches)\n",
      "Running average global loss: 1.182298852354288 (over last 800 batches)\n",
      "Running average activity prediction loss: 0.3966907149925828 (Cross Entropy over last 800 batches)\n",
      "Running average time till next event prediction loss: 0.29601490968838334 (MAE over last 800 batches)\n",
      "Running average (complete) remaining runtime prediction loss: 0.4895932262763381 (MAE over last 800 batches)\n",
      "------------------------------------------------------------\n"
     ]
    },
    {
     "name": "stderr",
     "output_type": "stream",
     "text": [
      "Batch calculation at epoch 76.: 2401it [04:31,  8.80it/s]"
     ]
    },
    {
     "name": "stdout",
     "output_type": "stream",
     "text": [
      "------------------------------------------------------------\n",
      "Epoch 76, batch 2399:\n",
      "Average original gradient norm: 1.7031696949899198 (over last 800 batches)\n",
      "Average clipped gradient norm: 1.6841888123750686 (over last 800 batches)\n",
      "Running average global loss: 1.1791040446609258 (over last 800 batches)\n",
      "Running average activity prediction loss: 0.39702615212649106 (Cross Entropy over last 800 batches)\n",
      "Running average time till next event prediction loss: 0.295110007096082 (MAE over last 800 batches)\n",
      "Running average (complete) remaining runtime prediction loss: 0.4869678879529238 (MAE over last 800 batches)\n",
      "------------------------------------------------------------\n"
     ]
    },
    {
     "name": "stderr",
     "output_type": "stream",
     "text": [
      "Batch calculation at epoch 76.: 3201it [06:09,  8.64it/s]"
     ]
    },
    {
     "name": "stdout",
     "output_type": "stream",
     "text": [
      "------------------------------------------------------------\n",
      "Epoch 76, batch 3199:\n",
      "Average original gradient norm: 1.6910566671192646 (over last 800 batches)\n",
      "Average clipped gradient norm: 1.6748611617088318 (over last 800 batches)\n",
      "Running average global loss: 1.1839227393269538 (over last 800 batches)\n",
      "Running average activity prediction loss: 0.398723509721458 (Cross Entropy over last 800 batches)\n",
      "Running average time till next event prediction loss: 0.2968564382381737 (MAE over last 800 batches)\n",
      "Running average (complete) remaining runtime prediction loss: 0.48834279298782346 (MAE over last 800 batches)\n",
      "------------------------------------------------------------\n"
     ]
    },
    {
     "name": "stderr",
     "output_type": "stream",
     "text": [
      "Batch calculation at epoch 76.: 4000it [07:57, 10.13it/s]"
     ]
    },
    {
     "name": "stdout",
     "output_type": "stream",
     "text": [
      "------------------------------------------------------------\n",
      "Epoch 76, batch 3999:\n",
      "Average original gradient norm: 1.7232056675851346 (over last 800 batches)\n",
      "Average clipped gradient norm: 1.7055693362653255 (over last 800 batches)\n",
      "Running average global loss: 1.1818405248969794 (over last 800 batches)\n",
      "Running average activity prediction loss: 0.39805021772161125 (Cross Entropy over last 800 batches)\n",
      "Running average time till next event prediction loss: 0.29546340186148884 (MAE over last 800 batches)\n",
      "Running average (complete) remaining runtime prediction loss: 0.4883269026875496 (MAE over last 800 batches)\n",
      "------------------------------------------------------------\n"
     ]
    },
    {
     "name": "stderr",
     "output_type": "stream",
     "text": [
      "Batch calculation at epoch 76.: 4295it [08:31,  8.39it/s]\n"
     ]
    },
    {
     "name": "stdout",
     "output_type": "stream",
     "text": [
      "=======================================\n",
      "End of epoch 76\n",
      "=======================================\n",
      "Running average global loss: 1.1858408446609974 (over last 800 batches)\n",
      "Running average activity prediction loss: 0.39952702293172476 (Cross Entropy over last 800 batches)\n",
      "Running average time till next event prediction loss: 0.29639759520068765 (MAE over last 800 batches)\n",
      "Running average (complete) remaining runtime prediction loss: 0.4899162233248353 (MAE over last 800 batches)\n"
     ]
    },
    {
     "name": "stderr",
     "output_type": "stream",
     "text": [
      "Validation batch calculation: 20it [00:37,  1.90s/it]\n"
     ]
    },
    {
     "name": "stdout",
     "output_type": "stream",
     "text": [
      "Avg MAE TTNE prediction validation set: 0.46338024735450745 (standardized) ; 17088.397916666665 (minutes)'\n",
      "Avg 1-(normalized) DL distance acitivty suffix prediction validation set: 0.8430887460708618\n",
      "Percentage of suffixes predicted to END: too early - 0.2945565583560092 ; right moment - 0.6326631124025758 ; too late - 0.07278032924141498\n",
      "Too early instances - avg amount of events too early: 1.658654808998108\n",
      "Too late instances - avg amount of events too late: 3.1285738945007324\n",
      "Avg absolute amount of events predicted too early / too late: 0.7162662744522095\n",
      "Avg MAE RRT prediction validation set: 0.6113232970237732 (standardized) ; 33345.08125 (minutes)'\n",
      " \n",
      "------------------------------------\n",
      "EPOCH 77:\n",
      "____________________________________\n"
     ]
    },
    {
     "name": "stderr",
     "output_type": "stream",
     "text": [
      "Batch calculation at epoch 77.: 801it [02:20,  5.02it/s]"
     ]
    },
    {
     "name": "stdout",
     "output_type": "stream",
     "text": [
      "------------------------------------------------------------\n",
      "Epoch 77, batch 799:\n",
      "Average original gradient norm: 1.7028853520751 (over last 800 batches)\n",
      "Average clipped gradient norm: 1.6860968090593815 (over last 800 batches)\n",
      "Running average global loss: 1.1771546919643878 (over last 800 batches)\n",
      "Running average activity prediction loss: 0.3944216314703226 (Cross Entropy over last 800 batches)\n",
      "Running average time till next event prediction loss: 0.2955761374346912 (MAE over last 800 batches)\n",
      "Running average (complete) remaining runtime prediction loss: 0.487156923674047 (MAE over last 800 batches)\n",
      "------------------------------------------------------------\n"
     ]
    },
    {
     "name": "stderr",
     "output_type": "stream",
     "text": [
      "Batch calculation at epoch 77.: 1601it [04:28,  5.63it/s]"
     ]
    },
    {
     "name": "stdout",
     "output_type": "stream",
     "text": [
      "------------------------------------------------------------\n",
      "Epoch 77, batch 1599:\n",
      "Average original gradient norm: 1.7162169262766838 (over last 800 batches)\n",
      "Average clipped gradient norm: 1.6966247403621673 (over last 800 batches)\n",
      "Running average global loss: 1.187390367910266 (over last 800 batches)\n",
      "Running average activity prediction loss: 0.3998325210809708 (Cross Entropy over last 800 batches)\n",
      "Running average time till next event prediction loss: 0.2961592270992696 (MAE over last 800 batches)\n",
      "Running average (complete) remaining runtime prediction loss: 0.49139862224459646 (MAE over last 800 batches)\n",
      "------------------------------------------------------------\n"
     ]
    },
    {
     "name": "stderr",
     "output_type": "stream",
     "text": [
      "Batch calculation at epoch 77.: 2401it [06:30,  7.04it/s]"
     ]
    },
    {
     "name": "stdout",
     "output_type": "stream",
     "text": [
      "------------------------------------------------------------\n",
      "Epoch 77, batch 2399:\n",
      "Average original gradient norm: 1.6986118757724762 (over last 800 batches)\n",
      "Average clipped gradient norm: 1.681836941242218 (over last 800 batches)\n",
      "Running average global loss: 1.1865721313655377 (over last 800 batches)\n",
      "Running average activity prediction loss: 0.4015175585448742 (Cross Entropy over last 800 batches)\n",
      "Running average time till next event prediction loss: 0.2963330102339387 (MAE over last 800 batches)\n",
      "Running average (complete) remaining runtime prediction loss: 0.4887215629592538 (MAE over last 800 batches)\n",
      "------------------------------------------------------------\n"
     ]
    },
    {
     "name": "stderr",
     "output_type": "stream",
     "text": [
      "Batch calculation at epoch 77.: 3201it [08:34,  6.14it/s]"
     ]
    },
    {
     "name": "stdout",
     "output_type": "stream",
     "text": [
      "------------------------------------------------------------\n",
      "Epoch 77, batch 3199:\n",
      "Average original gradient norm: 1.6933814202249051 (over last 800 batches)\n",
      "Average clipped gradient norm: 1.6772177129983903 (over last 800 batches)\n",
      "Running average global loss: 1.1840030379593371 (over last 800 batches)\n",
      "Running average activity prediction loss: 0.3991747369244695 (Cross Entropy over last 800 batches)\n",
      "Running average time till next event prediction loss: 0.2953825164027512 (MAE over last 800 batches)\n",
      "Running average (complete) remaining runtime prediction loss: 0.4894457849115133 (MAE over last 800 batches)\n",
      "------------------------------------------------------------\n"
     ]
    },
    {
     "name": "stderr",
     "output_type": "stream",
     "text": [
      "Batch calculation at epoch 77.: 4000it [10:39,  4.24it/s]"
     ]
    },
    {
     "name": "stdout",
     "output_type": "stream",
     "text": [
      "------------------------------------------------------------\n",
      "Epoch 77, batch 3999:\n",
      "Average original gradient norm: 1.6897283734381199 (over last 800 batches)\n",
      "Average clipped gradient norm: 1.6770994451642036 (over last 800 batches)\n",
      "Running average global loss: 1.1798198248445988 (over last 800 batches)\n",
      "Running average activity prediction loss: 0.39609102871268986 (Cross Entropy over last 800 batches)\n",
      "Running average time till next event prediction loss: 0.29606614865362646 (MAE over last 800 batches)\n",
      "Running average (complete) remaining runtime prediction loss: 0.4876626472175121 (MAE over last 800 batches)\n",
      "------------------------------------------------------------\n"
     ]
    },
    {
     "name": "stderr",
     "output_type": "stream",
     "text": [
      "Batch calculation at epoch 77.: 4295it [11:26,  6.26it/s]\n"
     ]
    },
    {
     "name": "stdout",
     "output_type": "stream",
     "text": [
      "=======================================\n",
      "End of epoch 77\n",
      "=======================================\n",
      "Running average global loss: 1.17831897161901 (over last 800 batches)\n",
      "Running average activity prediction loss: 0.394181153960526 (Cross Entropy over last 800 batches)\n",
      "Running average time till next event prediction loss: 0.29659993458539247 (MAE over last 800 batches)\n",
      "Running average (complete) remaining runtime prediction loss: 0.4875378842651844 (MAE over last 800 batches)\n"
     ]
    },
    {
     "name": "stderr",
     "output_type": "stream",
     "text": [
      "Validation batch calculation: 20it [00:54,  2.74s/it]\n"
     ]
    },
    {
     "name": "stdout",
     "output_type": "stream",
     "text": [
      "Avg MAE TTNE prediction validation set: 0.4645034372806549 (standardized) ; 17136.846875 (minutes)'\n",
      "Avg 1-(normalized) DL distance acitivty suffix prediction validation set: 0.8428096175193787\n",
      "Percentage of suffixes predicted to END: too early - 0.2943718679586786 ; right moment - 0.632601548936799 ; too late - 0.07302658310452245\n",
      "Too early instances - avg amount of events too early: 1.658691644668579\n",
      "Too late instances - avg amount of events too late: 3.112459897994995\n",
      "Avg absolute amount of events predicted too early / too late: 0.715564489364624\n",
      "Avg MAE RRT prediction validation set: 0.6093156337738037 (standardized) ; 33239.98333333333 (minutes)'\n",
      " \n",
      "------------------------------------\n",
      "EPOCH 78:\n",
      "____________________________________\n"
     ]
    },
    {
     "name": "stderr",
     "output_type": "stream",
     "text": [
      "Batch calculation at epoch 78.: 801it [02:03,  5.90it/s]"
     ]
    },
    {
     "name": "stdout",
     "output_type": "stream",
     "text": [
      "------------------------------------------------------------\n",
      "Epoch 78, batch 799:\n",
      "Average original gradient norm: 1.7039915597438813 (over last 800 batches)\n",
      "Average clipped gradient norm: 1.6877437669038773 (over last 800 batches)\n",
      "Running average global loss: 1.182458818629384 (over last 800 batches)\n",
      "Running average activity prediction loss: 0.3998601080104709 (Cross Entropy over last 800 batches)\n",
      "Running average time till next event prediction loss: 0.29460221288725735 (MAE over last 800 batches)\n",
      "Running average (complete) remaining runtime prediction loss: 0.48799649748951196 (MAE over last 800 batches)\n",
      "------------------------------------------------------------\n"
     ]
    },
    {
     "name": "stderr",
     "output_type": "stream",
     "text": [
      "Batch calculation at epoch 78.: 1601it [04:18,  8.01it/s]"
     ]
    },
    {
     "name": "stdout",
     "output_type": "stream",
     "text": [
      "------------------------------------------------------------\n",
      "Epoch 78, batch 1599:\n",
      "Average original gradient norm: 1.706778660416603 (over last 800 batches)\n",
      "Average clipped gradient norm: 1.6891446919739246 (over last 800 batches)\n",
      "Running average global loss: 1.1802003260701894 (over last 800 batches)\n",
      "Running average activity prediction loss: 0.3973768128827214 (Cross Entropy over last 800 batches)\n",
      "Running average time till next event prediction loss: 0.29525164905935525 (MAE over last 800 batches)\n",
      "Running average (complete) remaining runtime prediction loss: 0.48757186375558376 (MAE over last 800 batches)\n",
      "------------------------------------------------------------\n"
     ]
    },
    {
     "name": "stderr",
     "output_type": "stream",
     "text": [
      "Batch calculation at epoch 78.: 2401it [06:06,  9.12it/s]"
     ]
    },
    {
     "name": "stdout",
     "output_type": "stream",
     "text": [
      "------------------------------------------------------------\n",
      "Epoch 78, batch 2399:\n",
      "Average original gradient norm: 1.7207046960294248 (over last 800 batches)\n",
      "Average clipped gradient norm: 1.6966265136003493 (over last 800 batches)\n",
      "Running average global loss: 1.1824649849534035 (over last 800 batches)\n",
      "Running average activity prediction loss: 0.3971837855502963 (Cross Entropy over last 800 batches)\n",
      "Running average time till next event prediction loss: 0.2971229485422373 (MAE over last 800 batches)\n",
      "Running average (complete) remaining runtime prediction loss: 0.48815824888646603 (MAE over last 800 batches)\n",
      "------------------------------------------------------------\n"
     ]
    },
    {
     "name": "stderr",
     "output_type": "stream",
     "text": [
      "Batch calculation at epoch 78.: 3200it [08:15,  4.32it/s]"
     ]
    },
    {
     "name": "stdout",
     "output_type": "stream",
     "text": [
      "------------------------------------------------------------\n",
      "Epoch 78, batch 3199:\n",
      "Average original gradient norm: 1.688944626301527 (over last 800 batches)\n",
      "Average clipped gradient norm: 1.6744838827848434 (over last 800 batches)\n",
      "Running average global loss: 1.182460430264473 (over last 800 batches)\n",
      "Running average activity prediction loss: 0.3954807773977518 (Cross Entropy over last 800 batches)\n",
      "Running average time till next event prediction loss: 0.2973219252005219 (MAE over last 800 batches)\n",
      "Running average (complete) remaining runtime prediction loss: 0.489657727368176 (MAE over last 800 batches)\n",
      "------------------------------------------------------------\n"
     ]
    },
    {
     "name": "stderr",
     "output_type": "stream",
     "text": [
      "Batch calculation at epoch 78.: 4001it [10:33,  5.36it/s]"
     ]
    },
    {
     "name": "stdout",
     "output_type": "stream",
     "text": [
      "------------------------------------------------------------\n",
      "Epoch 78, batch 3999:\n",
      "Average original gradient norm: 1.6835281328856946 (over last 800 batches)\n",
      "Average clipped gradient norm: 1.6671730937063693 (over last 800 batches)\n",
      "Running average global loss: 1.1823664985597133 (over last 800 batches)\n",
      "Running average activity prediction loss: 0.3987926048785448 (Cross Entropy over last 800 batches)\n",
      "Running average time till next event prediction loss: 0.2949739188887179 (MAE over last 800 batches)\n",
      "Running average (complete) remaining runtime prediction loss: 0.48859997406601907 (MAE over last 800 batches)\n",
      "------------------------------------------------------------\n"
     ]
    },
    {
     "name": "stderr",
     "output_type": "stream",
     "text": [
      "Batch calculation at epoch 78.: 4295it [11:11,  6.39it/s]\n"
     ]
    },
    {
     "name": "stdout",
     "output_type": "stream",
     "text": [
      "=======================================\n",
      "End of epoch 78\n",
      "=======================================\n",
      "Running average global loss: 1.1808852353692054 (over last 800 batches)\n",
      "Running average activity prediction loss: 0.3978230695053935 (Cross Entropy over last 800 batches)\n",
      "Running average time till next event prediction loss: 0.2947363433241844 (MAE over last 800 batches)\n",
      "Running average (complete) remaining runtime prediction loss: 0.4883258219435811 (MAE over last 800 batches)\n"
     ]
    },
    {
     "name": "stderr",
     "output_type": "stream",
     "text": [
      "Validation batch calculation: 20it [00:57,  2.90s/it]\n"
     ]
    },
    {
     "name": "stdout",
     "output_type": "stream",
     "text": [
      "Avg MAE TTNE prediction validation set: 0.463020384311676 (standardized) ; 17080.721875 (minutes)'\n",
      "Avg 1-(normalized) DL distance acitivty suffix prediction validation set: 0.8431594967842102\n",
      "Percentage of suffixes predicted to END: too early - 0.29571395151261437 ; right moment - 0.632798552027285 ; too late - 0.07148749646010072\n",
      "Too early instances - avg amount of events too early: 1.6629886627197266\n",
      "Too late instances - avg amount of events too late: 3.077850580215454\n",
      "Avg absolute amount of events predicted too early / too late: 0.7117968201637268\n",
      "Avg MAE RRT prediction validation set: 0.6097081303596497 (standardized) ; 33261.90833333333 (minutes)'\n",
      " \n",
      "------------------------------------\n",
      "EPOCH 79:\n",
      "____________________________________\n"
     ]
    },
    {
     "name": "stderr",
     "output_type": "stream",
     "text": [
      "Batch calculation at epoch 79.: 801it [02:07,  8.68it/s]"
     ]
    },
    {
     "name": "stdout",
     "output_type": "stream",
     "text": [
      "------------------------------------------------------------\n",
      "Epoch 79, batch 799:\n",
      "Average original gradient norm: 1.6912886439263821 (over last 800 batches)\n",
      "Average clipped gradient norm: 1.6742069531977177 (over last 800 batches)\n",
      "Running average global loss: 1.1765634302049874 (over last 800 batches)\n",
      "Running average activity prediction loss: 0.39565099492669104 (Cross Entropy over last 800 batches)\n",
      "Running average time till next event prediction loss: 0.29536121387034653 (MAE over last 800 batches)\n",
      "Running average (complete) remaining runtime prediction loss: 0.4855512201413512 (MAE over last 800 batches)\n",
      "------------------------------------------------------------\n"
     ]
    },
    {
     "name": "stderr",
     "output_type": "stream",
     "text": [
      "Batch calculation at epoch 79.: 1602it [03:50,  9.85it/s]"
     ]
    },
    {
     "name": "stdout",
     "output_type": "stream",
     "text": [
      "------------------------------------------------------------\n",
      "Epoch 79, batch 1599:\n",
      "Average original gradient norm: 1.6911155983805657 (over last 800 batches)\n",
      "Average clipped gradient norm: 1.6758346457779407 (over last 800 batches)\n",
      "Running average global loss: 1.1785494717210532 (over last 800 batches)\n",
      "Running average activity prediction loss: 0.3960715229809284 (Cross Entropy over last 800 batches)\n",
      "Running average time till next event prediction loss: 0.295314601380378 (MAE over last 800 batches)\n",
      "Running average (complete) remaining runtime prediction loss: 0.48716334797441957 (MAE over last 800 batches)\n",
      "------------------------------------------------------------\n"
     ]
    },
    {
     "name": "stderr",
     "output_type": "stream",
     "text": [
      "Batch calculation at epoch 79.: 2401it [05:53,  5.54it/s]"
     ]
    },
    {
     "name": "stdout",
     "output_type": "stream",
     "text": [
      "------------------------------------------------------------\n",
      "Epoch 79, batch 2399:\n",
      "Average original gradient norm: 1.691338216215372 (over last 800 batches)\n",
      "Average clipped gradient norm: 1.6763590724766255 (over last 800 batches)\n",
      "Running average global loss: 1.1868421807140113 (over last 800 batches)\n",
      "Running average activity prediction loss: 0.39954520657658577 (Cross Entropy over last 800 batches)\n",
      "Running average time till next event prediction loss: 0.2962341012246907 (MAE over last 800 batches)\n",
      "Running average (complete) remaining runtime prediction loss: 0.49106287352740763 (MAE over last 800 batches)\n",
      "------------------------------------------------------------\n"
     ]
    },
    {
     "name": "stderr",
     "output_type": "stream",
     "text": [
      "Batch calculation at epoch 79.: 3201it [08:07,  6.43it/s]"
     ]
    },
    {
     "name": "stdout",
     "output_type": "stream",
     "text": [
      "------------------------------------------------------------\n",
      "Epoch 79, batch 3199:\n",
      "Average original gradient norm: 1.692069291472435 (over last 800 batches)\n",
      "Average clipped gradient norm: 1.6748660556972026 (over last 800 batches)\n",
      "Running average global loss: 1.184717781096697 (over last 800 batches)\n",
      "Running average activity prediction loss: 0.39721543598920106 (Cross Entropy over last 800 batches)\n",
      "Running average time till next event prediction loss: 0.29609893504530194 (MAE over last 800 batches)\n",
      "Running average (complete) remaining runtime prediction loss: 0.49140341110527513 (MAE over last 800 batches)\n",
      "------------------------------------------------------------\n"
     ]
    },
    {
     "name": "stderr",
     "output_type": "stream",
     "text": [
      "Batch calculation at epoch 79.: 4001it [10:12,  7.38it/s]"
     ]
    },
    {
     "name": "stdout",
     "output_type": "stream",
     "text": [
      "------------------------------------------------------------\n",
      "Epoch 79, batch 3999:\n",
      "Average original gradient norm: 1.6851602628827096 (over last 800 batches)\n",
      "Average clipped gradient norm: 1.6712158089876175 (over last 800 batches)\n",
      "Running average global loss: 1.1847228844463826 (over last 800 batches)\n",
      "Running average activity prediction loss: 0.3986011941730976 (Cross Entropy over last 800 batches)\n",
      "Running average time till next event prediction loss: 0.2961600678227842 (MAE over last 800 batches)\n",
      "Running average (complete) remaining runtime prediction loss: 0.4899616244062781 (MAE over last 800 batches)\n",
      "------------------------------------------------------------\n"
     ]
    },
    {
     "name": "stderr",
     "output_type": "stream",
     "text": [
      "Batch calculation at epoch 79.: 4295it [10:46,  6.64it/s]\n"
     ]
    },
    {
     "name": "stdout",
     "output_type": "stream",
     "text": [
      "=======================================\n",
      "End of epoch 79\n",
      "=======================================\n",
      "Running average global loss: 1.1815473733842372 (over last 800 batches)\n",
      "Running average activity prediction loss: 0.3987121495977044 (Cross Entropy over last 800 batches)\n",
      "Running average time till next event prediction loss: 0.2954770392924547 (MAE over last 800 batches)\n",
      "Running average (complete) remaining runtime prediction loss: 0.4873581875860691 (MAE over last 800 batches)\n"
     ]
    },
    {
     "name": "stderr",
     "output_type": "stream",
     "text": [
      "Validation batch calculation: 20it [00:29,  1.49s/it]\n"
     ]
    },
    {
     "name": "stdout",
     "output_type": "stream",
     "text": [
      "Avg MAE TTNE prediction validation set: 0.46398550271987915 (standardized) ; 17114.515625 (minutes)'\n",
      "Avg 1-(normalized) DL distance acitivty suffix prediction validation set: 0.8433139324188232\n",
      "Percentage of suffixes predicted to END: too early - 0.29448268219707696 ; right moment - 0.6330817439698585 ; too late - 0.07243557383306451\n",
      "Too early instances - avg amount of events too early: 1.6573567390441895\n",
      "Too late instances - avg amount of events too late: 3.0899200439453125\n",
      "Avg absolute amount of events predicted too early / too late: 0.711883008480072\n",
      "Avg MAE RRT prediction validation set: 0.6096667051315308 (standardized) ; 33259.21875 (minutes)'\n",
      " \n",
      "------------------------------------\n",
      "EPOCH 80:\n",
      "____________________________________\n"
     ]
    },
    {
     "name": "stderr",
     "output_type": "stream",
     "text": [
      "Batch calculation at epoch 80.: 800it [01:58,  5.50it/s]"
     ]
    },
    {
     "name": "stdout",
     "output_type": "stream",
     "text": [
      "------------------------------------------------------------\n",
      "Epoch 80, batch 799:\n",
      "Average original gradient norm: 1.6915953050553798 (over last 800 batches)\n",
      "Average clipped gradient norm: 1.67406130194664 (over last 800 batches)\n",
      "Running average global loss: 1.1830149911344052 (over last 800 batches)\n",
      "Running average activity prediction loss: 0.3976126254722476 (Cross Entropy over last 800 batches)\n",
      "Running average time till next event prediction loss: 0.2966365323215723 (MAE over last 800 batches)\n",
      "Running average (complete) remaining runtime prediction loss: 0.48876583103090526 (MAE over last 800 batches)\n",
      "------------------------------------------------------------\n"
     ]
    },
    {
     "name": "stderr",
     "output_type": "stream",
     "text": [
      "Batch calculation at epoch 80.: 1601it [03:41,  6.93it/s]"
     ]
    },
    {
     "name": "stdout",
     "output_type": "stream",
     "text": [
      "------------------------------------------------------------\n",
      "Epoch 80, batch 1599:\n",
      "Average original gradient norm: 1.6843959768116474 (over last 800 batches)\n",
      "Average clipped gradient norm: 1.672394939661026 (over last 800 batches)\n",
      "Running average global loss: 1.1844225673377513 (over last 800 batches)\n",
      "Running average activity prediction loss: 0.40017058435827496 (Cross Entropy over last 800 batches)\n",
      "Running average time till next event prediction loss: 0.29559154948219657 (MAE over last 800 batches)\n",
      "Running average (complete) remaining runtime prediction loss: 0.4886604318022728 (MAE over last 800 batches)\n",
      "------------------------------------------------------------\n"
     ]
    },
    {
     "name": "stderr",
     "output_type": "stream",
     "text": [
      "Batch calculation at epoch 80.: 2401it [05:44, 11.96it/s]"
     ]
    },
    {
     "name": "stdout",
     "output_type": "stream",
     "text": [
      "------------------------------------------------------------\n",
      "Epoch 80, batch 2399:\n",
      "Average original gradient norm: 1.6836172506213187 (over last 800 batches)\n",
      "Average clipped gradient norm: 1.6697351452708245 (over last 800 batches)\n",
      "Running average global loss: 1.182556257247925 (over last 800 batches)\n",
      "Running average activity prediction loss: 0.3971626798994839 (Cross Entropy over last 800 batches)\n",
      "Running average time till next event prediction loss: 0.2956452417187393 (MAE over last 800 batches)\n",
      "Running average (complete) remaining runtime prediction loss: 0.48974833481013774 (MAE over last 800 batches)\n",
      "------------------------------------------------------------\n"
     ]
    },
    {
     "name": "stderr",
     "output_type": "stream",
     "text": [
      "Batch calculation at epoch 80.: 3201it [07:07, 11.52it/s]"
     ]
    },
    {
     "name": "stdout",
     "output_type": "stream",
     "text": [
      "------------------------------------------------------------\n",
      "Epoch 80, batch 3199:\n",
      "Average original gradient norm: 1.7002989187836648 (over last 800 batches)\n",
      "Average clipped gradient norm: 1.685608782172203 (over last 800 batches)\n",
      "Running average global loss: 1.1806383881717921 (over last 800 batches)\n",
      "Running average activity prediction loss: 0.39741267539560793 (Cross Entropy over last 800 batches)\n",
      "Running average time till next event prediction loss: 0.29583238016813995 (MAE over last 800 batches)\n",
      "Running average (complete) remaining runtime prediction loss: 0.4873933332785964 (MAE over last 800 batches)\n",
      "------------------------------------------------------------\n"
     ]
    },
    {
     "name": "stderr",
     "output_type": "stream",
     "text": [
      "Batch calculation at epoch 80.: 4001it [08:38,  7.29it/s]"
     ]
    },
    {
     "name": "stdout",
     "output_type": "stream",
     "text": [
      "------------------------------------------------------------\n",
      "Epoch 80, batch 3999:\n",
      "Average original gradient norm: 1.698021769374609 (over last 800 batches)\n",
      "Average clipped gradient norm: 1.6824004420638083 (over last 800 batches)\n",
      "Running average global loss: 1.1776242857426404 (over last 800 batches)\n",
      "Running average activity prediction loss: 0.39585446413606407 (Cross Entropy over last 800 batches)\n",
      "Running average time till next event prediction loss: 0.2949570168927312 (MAE over last 800 batches)\n",
      "Running average (complete) remaining runtime prediction loss: 0.4868128041177988 (MAE over last 800 batches)\n",
      "------------------------------------------------------------\n"
     ]
    },
    {
     "name": "stderr",
     "output_type": "stream",
     "text": [
      "Batch calculation at epoch 80.: 4295it [09:24,  7.60it/s]\n"
     ]
    },
    {
     "name": "stdout",
     "output_type": "stream",
     "text": [
      "=======================================\n",
      "End of epoch 80\n",
      "=======================================\n",
      "Running average global loss: 1.1769155616313218 (over last 800 batches)\n",
      "Running average activity prediction loss: 0.39513599272817373 (Cross Entropy over last 800 batches)\n",
      "Running average time till next event prediction loss: 0.294365106690675 (MAE over last 800 batches)\n",
      "Running average (complete) remaining runtime prediction loss: 0.48741446182131765 (MAE over last 800 batches)\n"
     ]
    },
    {
     "name": "stderr",
     "output_type": "stream",
     "text": [
      "Validation batch calculation: 20it [00:30,  1.53s/it]\n"
     ]
    },
    {
     "name": "stdout",
     "output_type": "stream",
     "text": [
      "Avg MAE TTNE prediction validation set: 0.4637400805950165 (standardized) ; 17108.94375 (minutes)'\n",
      "Avg 1-(normalized) DL distance acitivty suffix prediction validation set: 0.8437181711196899\n",
      "Percentage of suffixes predicted to END: too early - 0.2956893261263036 ; right moment - 0.6335496263097627 ; too late - 0.07076104756393366\n",
      "Too early instances - avg amount of events too early: 1.6665416955947876\n",
      "Too late instances - avg amount of events too late: 3.026796579360962\n",
      "Avg absolute amount of events predicted too early / too late: 0.7069578766822815\n",
      "Avg MAE RRT prediction validation set: 0.6092907190322876 (standardized) ; 33238.45 (minutes)'\n",
      " \n",
      "------------------------------------\n",
      "EPOCH 81:\n",
      "____________________________________\n"
     ]
    },
    {
     "name": "stderr",
     "output_type": "stream",
     "text": [
      "Batch calculation at epoch 81.: 801it [01:20,  6.15it/s]"
     ]
    },
    {
     "name": "stdout",
     "output_type": "stream",
     "text": [
      "------------------------------------------------------------\n",
      "Epoch 81, batch 799:\n",
      "Average original gradient norm: 1.699722551703453 (over last 800 batches)\n",
      "Average clipped gradient norm: 1.6866054704785347 (over last 800 batches)\n",
      "Running average global loss: 1.1864361315965652 (over last 800 batches)\n",
      "Running average activity prediction loss: 0.39811478335410355 (Cross Entropy over last 800 batches)\n",
      "Running average time till next event prediction loss: 0.29702218605205416 (MAE over last 800 batches)\n",
      "Running average (complete) remaining runtime prediction loss: 0.4912991628050804 (MAE over last 800 batches)\n",
      "------------------------------------------------------------\n"
     ]
    },
    {
     "name": "stderr",
     "output_type": "stream",
     "text": [
      "Batch calculation at epoch 81.: 1602it [02:46, 13.86it/s]"
     ]
    },
    {
     "name": "stdout",
     "output_type": "stream",
     "text": [
      "------------------------------------------------------------\n",
      "Epoch 81, batch 1599:\n",
      "Average original gradient norm: 1.700888783633709 (over last 800 batches)\n",
      "Average clipped gradient norm: 1.6805164176225662 (over last 800 batches)\n",
      "Running average global loss: 1.1785163220018149 (over last 800 batches)\n",
      "Running average activity prediction loss: 0.39471111034974454 (Cross Entropy over last 800 batches)\n",
      "Running average time till next event prediction loss: 0.2953981377184391 (MAE over last 800 batches)\n",
      "Running average (complete) remaining runtime prediction loss: 0.4884070724248886 (MAE over last 800 batches)\n",
      "------------------------------------------------------------\n"
     ]
    },
    {
     "name": "stderr",
     "output_type": "stream",
     "text": [
      "Batch calculation at epoch 81.: 2401it [04:41,  7.36it/s]"
     ]
    },
    {
     "name": "stdout",
     "output_type": "stream",
     "text": [
      "------------------------------------------------------------\n",
      "Epoch 81, batch 2399:\n",
      "Average original gradient norm: 1.7119386215507983 (over last 800 batches)\n",
      "Average clipped gradient norm: 1.6934325590729713 (over last 800 batches)\n",
      "Running average global loss: 1.182307947576046 (over last 800 batches)\n",
      "Running average activity prediction loss: 0.4001105497218668 (Cross Entropy over last 800 batches)\n",
      "Running average time till next event prediction loss: 0.29438187073916194 (MAE over last 800 batches)\n",
      "Running average (complete) remaining runtime prediction loss: 0.487815524302423 (MAE over last 800 batches)\n",
      "------------------------------------------------------------\n"
     ]
    },
    {
     "name": "stderr",
     "output_type": "stream",
     "text": [
      "Batch calculation at epoch 81.: 3200it [06:09, 10.81it/s]"
     ]
    },
    {
     "name": "stdout",
     "output_type": "stream",
     "text": [
      "------------------------------------------------------------\n",
      "Epoch 81, batch 3199:\n",
      "Average original gradient norm: 1.6855711750686169 (over last 800 batches)\n",
      "Average clipped gradient norm: 1.6713970209658147 (over last 800 batches)\n",
      "Running average global loss: 1.1823306850343942 (over last 800 batches)\n",
      "Running average activity prediction loss: 0.39872957710176704 (Cross Entropy over last 800 batches)\n",
      "Running average time till next event prediction loss: 0.29515412855893375 (MAE over last 800 batches)\n",
      "Running average (complete) remaining runtime prediction loss: 0.48844697993248704 (MAE over last 800 batches)\n",
      "------------------------------------------------------------\n"
     ]
    },
    {
     "name": "stderr",
     "output_type": "stream",
     "text": [
      "Batch calculation at epoch 81.: 4001it [07:41, 10.36it/s]"
     ]
    },
    {
     "name": "stdout",
     "output_type": "stream",
     "text": [
      "------------------------------------------------------------\n",
      "Epoch 81, batch 3999:\n",
      "Average original gradient norm: 1.7194119453430177 (over last 800 batches)\n",
      "Average clipped gradient norm: 1.69941549628973 (over last 800 batches)\n",
      "Running average global loss: 1.1785467762500048 (over last 800 batches)\n",
      "Running average activity prediction loss: 0.39625244416296485 (Cross Entropy over last 800 batches)\n",
      "Running average time till next event prediction loss: 0.2961500233411789 (MAE over last 800 batches)\n",
      "Running average (complete) remaining runtime prediction loss: 0.4861443067342043 (MAE over last 800 batches)\n",
      "------------------------------------------------------------\n"
     ]
    },
    {
     "name": "stderr",
     "output_type": "stream",
     "text": [
      "Batch calculation at epoch 81.: 4295it [08:12,  8.73it/s]\n"
     ]
    },
    {
     "name": "stdout",
     "output_type": "stream",
     "text": [
      "=======================================\n",
      "End of epoch 81\n",
      "=======================================\n",
      "Running average global loss: 1.1790524005889893 (over last 800 batches)\n",
      "Running average activity prediction loss: 0.39662999160587786 (Cross Entropy over last 800 batches)\n",
      "Running average time till next event prediction loss: 0.2967362478561699 (MAE over last 800 batches)\n",
      "Running average (complete) remaining runtime prediction loss: 0.4856861596927047 (MAE over last 800 batches)\n"
     ]
    },
    {
     "name": "stderr",
     "output_type": "stream",
     "text": [
      "Validation batch calculation: 20it [00:35,  1.78s/it]\n"
     ]
    },
    {
     "name": "stdout",
     "output_type": "stream",
     "text": [
      "Avg MAE TTNE prediction validation set: 0.46276673674583435 (standardized) ; 17074.744791666668 (minutes)'\n",
      "Avg 1-(normalized) DL distance acitivty suffix prediction validation set: 0.8430715799331665\n",
      "Percentage of suffixes predicted to END: too early - 0.2947043106738737 ; right moment - 0.6327246758683527 ; too late - 0.07257101345777361\n",
      "Too early instances - avg amount of events too early: 1.6581993103027344\n",
      "Too late instances - avg amount of events too late: 3.1191041469573975\n",
      "Avg absolute amount of events predicted too early / too late: 0.7150350213050842\n",
      "Avg MAE RRT prediction validation set: 0.609636664390564 (standardized) ; 33260.22708333333 (minutes)'\n",
      " \n",
      "------------------------------------\n",
      "EPOCH 82:\n",
      "____________________________________\n"
     ]
    },
    {
     "name": "stderr",
     "output_type": "stream",
     "text": [
      "Batch calculation at epoch 82.: 801it [01:30,  8.84it/s]"
     ]
    },
    {
     "name": "stdout",
     "output_type": "stream",
     "text": [
      "------------------------------------------------------------\n",
      "Epoch 82, batch 799:\n",
      "Average original gradient norm: 1.7087400947511195 (over last 800 batches)\n",
      "Average clipped gradient norm: 1.6886319200694562 (over last 800 batches)\n",
      "Running average global loss: 1.180810323804617 (over last 800 batches)\n",
      "Running average activity prediction loss: 0.3950847589969635 (Cross Entropy over last 800 batches)\n",
      "Running average time till next event prediction loss: 0.2959307271242142 (MAE over last 800 batches)\n",
      "Running average (complete) remaining runtime prediction loss: 0.4897948382422328 (MAE over last 800 batches)\n",
      "------------------------------------------------------------\n"
     ]
    },
    {
     "name": "stderr",
     "output_type": "stream",
     "text": [
      "Batch calculation at epoch 82.: 1602it [03:13,  9.58it/s]"
     ]
    },
    {
     "name": "stdout",
     "output_type": "stream",
     "text": [
      "------------------------------------------------------------\n",
      "Epoch 82, batch 1599:\n",
      "Average original gradient norm: 1.7097717544436455 (over last 800 batches)\n",
      "Average clipped gradient norm: 1.692550745010376 (over last 800 batches)\n",
      "Running average global loss: 1.1850285559892655 (over last 800 batches)\n",
      "Running average activity prediction loss: 0.3992469888925552 (Cross Entropy over last 800 batches)\n",
      "Running average time till next event prediction loss: 0.29688535202294586 (MAE over last 800 batches)\n",
      "Running average (complete) remaining runtime prediction loss: 0.4888962154835463 (MAE over last 800 batches)\n",
      "------------------------------------------------------------\n"
     ]
    },
    {
     "name": "stderr",
     "output_type": "stream",
     "text": [
      "Batch calculation at epoch 82.: 2401it [04:30,  8.55it/s]"
     ]
    },
    {
     "name": "stdout",
     "output_type": "stream",
     "text": [
      "------------------------------------------------------------\n",
      "Epoch 82, batch 2399:\n",
      "Average original gradient norm: 1.689429233968258 (over last 800 batches)\n",
      "Average clipped gradient norm: 1.672019493430853 (over last 800 batches)\n",
      "Running average global loss: 1.1768175085633994 (over last 800 batches)\n",
      "Running average activity prediction loss: 0.39892687696963547 (Cross Entropy over last 800 batches)\n",
      "Running average time till next event prediction loss: 0.2928062784858048 (MAE over last 800 batches)\n",
      "Running average (complete) remaining runtime prediction loss: 0.48508435375988485 (MAE over last 800 batches)\n",
      "------------------------------------------------------------\n"
     ]
    },
    {
     "name": "stderr",
     "output_type": "stream",
     "text": [
      "Batch calculation at epoch 82.: 3202it [06:48,  9.93it/s]"
     ]
    },
    {
     "name": "stdout",
     "output_type": "stream",
     "text": [
      "------------------------------------------------------------\n",
      "Epoch 82, batch 3199:\n",
      "Average original gradient norm: 1.705795501023531 (over last 800 batches)\n",
      "Average clipped gradient norm: 1.687427914738655 (over last 800 batches)\n",
      "Running average global loss: 1.185986107736826 (over last 800 batches)\n",
      "Running average activity prediction loss: 0.3973880807682872 (Cross Entropy over last 800 batches)\n",
      "Running average time till next event prediction loss: 0.2969990456663072 (MAE over last 800 batches)\n",
      "Running average (complete) remaining runtime prediction loss: 0.4915989813953638 (MAE over last 800 batches)\n",
      "------------------------------------------------------------\n"
     ]
    },
    {
     "name": "stderr",
     "output_type": "stream",
     "text": [
      "Batch calculation at epoch 82.: 4000it [08:33,  7.66it/s]"
     ]
    },
    {
     "name": "stdout",
     "output_type": "stream",
     "text": [
      "------------------------------------------------------------\n",
      "Epoch 82, batch 3999:\n",
      "Average original gradient norm: 1.695309317857027 (over last 800 batches)\n",
      "Average clipped gradient norm: 1.6788089722394943 (over last 800 batches)\n",
      "Running average global loss: 1.1755466036498547 (over last 800 batches)\n",
      "Running average activity prediction loss: 0.3954570232704282 (Cross Entropy over last 800 batches)\n",
      "Running average time till next event prediction loss: 0.29516692930832505 (MAE over last 800 batches)\n",
      "Running average (complete) remaining runtime prediction loss: 0.4849226505309343 (MAE over last 800 batches)\n",
      "------------------------------------------------------------\n"
     ]
    },
    {
     "name": "stderr",
     "output_type": "stream",
     "text": [
      "Batch calculation at epoch 82.: 4295it [09:10,  7.80it/s]\n"
     ]
    },
    {
     "name": "stdout",
     "output_type": "stream",
     "text": [
      "=======================================\n",
      "End of epoch 82\n",
      "=======================================\n",
      "Running average global loss: 1.1783570225536824 (over last 800 batches)\n",
      "Running average activity prediction loss: 0.39713397637009623 (Cross Entropy over last 800 batches)\n",
      "Running average time till next event prediction loss: 0.2953553774021566 (MAE over last 800 batches)\n",
      "Running average (complete) remaining runtime prediction loss: 0.4858676689490676 (MAE over last 800 batches)\n"
     ]
    },
    {
     "name": "stderr",
     "output_type": "stream",
     "text": [
      "Validation batch calculation: 20it [01:05,  3.27s/it]\n"
     ]
    },
    {
     "name": "stdout",
     "output_type": "stream",
     "text": [
      "Avg MAE TTNE prediction validation set: 0.46354979276657104 (standardized) ; 17100.280208333334 (minutes)'\n",
      "Avg 1-(normalized) DL distance acitivty suffix prediction validation set: 0.8431476354598999\n",
      "Percentage of suffixes predicted to END: too early - 0.29472893606018447 ; right moment - 0.632995555117771 ; too late - 0.07227550882204464\n",
      "Too early instances - avg amount of events too early: 1.6584784984588623\n",
      "Too late instances - avg amount of events too late: 3.114821195602417\n",
      "Avg absolute amount of events predicted too early / too late: 0.7139269113540649\n",
      "Avg MAE RRT prediction validation set: 0.6086094975471497 (standardized) ; 33204.84166666667 (minutes)'\n",
      " \n",
      "------------------------------------\n",
      "EPOCH 83:\n",
      "____________________________________\n"
     ]
    },
    {
     "name": "stderr",
     "output_type": "stream",
     "text": [
      "Batch calculation at epoch 83.: 801it [01:58,  6.27it/s]"
     ]
    },
    {
     "name": "stdout",
     "output_type": "stream",
     "text": [
      "------------------------------------------------------------\n",
      "Epoch 83, batch 799:\n",
      "Average original gradient norm: 1.6957986098527909 (over last 800 batches)\n",
      "Average clipped gradient norm: 1.6808494848012925 (over last 800 batches)\n",
      "Running average global loss: 1.1808201892673968 (over last 800 batches)\n",
      "Running average activity prediction loss: 0.397877846993506 (Cross Entropy over last 800 batches)\n",
      "Running average time till next event prediction loss: 0.2948606853559613 (MAE over last 800 batches)\n",
      "Running average (complete) remaining runtime prediction loss: 0.48808165587484836 (MAE over last 800 batches)\n",
      "------------------------------------------------------------\n"
     ]
    },
    {
     "name": "stderr",
     "output_type": "stream",
     "text": [
      "Batch calculation at epoch 83.: 1601it [04:32,  8.13it/s]"
     ]
    },
    {
     "name": "stdout",
     "output_type": "stream",
     "text": [
      "------------------------------------------------------------\n",
      "Epoch 83, batch 1599:\n",
      "Average original gradient norm: 1.6951660066843033 (over last 800 batches)\n",
      "Average clipped gradient norm: 1.6801536282896996 (over last 800 batches)\n",
      "Running average global loss: 1.1802972781658172 (over last 800 batches)\n",
      "Running average activity prediction loss: 0.3961525970324874 (Cross Entropy over last 800 batches)\n",
      "Running average time till next event prediction loss: 0.29622679559513926 (MAE over last 800 batches)\n",
      "Running average (complete) remaining runtime prediction loss: 0.4879178860038519 (MAE over last 800 batches)\n",
      "------------------------------------------------------------\n"
     ]
    },
    {
     "name": "stderr",
     "output_type": "stream",
     "text": [
      "Batch calculation at epoch 83.: 2401it [06:30,  6.40it/s]"
     ]
    },
    {
     "name": "stdout",
     "output_type": "stream",
     "text": [
      "------------------------------------------------------------\n",
      "Epoch 83, batch 2399:\n",
      "Average original gradient norm: 1.698160172700882 (over last 800 batches)\n",
      "Average clipped gradient norm: 1.6816973499953747 (over last 800 batches)\n",
      "Running average global loss: 1.1827892445027828 (over last 800 batches)\n",
      "Running average activity prediction loss: 0.4005046756193042 (Cross Entropy over last 800 batches)\n",
      "Running average time till next event prediction loss: 0.2949284927546978 (MAE over last 800 batches)\n",
      "Running average (complete) remaining runtime prediction loss: 0.4873560747504234 (MAE over last 800 batches)\n",
      "------------------------------------------------------------\n"
     ]
    },
    {
     "name": "stderr",
     "output_type": "stream",
     "text": [
      "Batch calculation at epoch 83.: 3201it [08:41,  7.68it/s]"
     ]
    },
    {
     "name": "stdout",
     "output_type": "stream",
     "text": [
      "------------------------------------------------------------\n",
      "Epoch 83, batch 3199:\n",
      "Average original gradient norm: 1.7110826781392097 (over last 800 batches)\n",
      "Average clipped gradient norm: 1.6897374328970909 (over last 800 batches)\n",
      "Running average global loss: 1.1805065063387155 (over last 800 batches)\n",
      "Running average activity prediction loss: 0.3960833557322621 (Cross Entropy over last 800 batches)\n",
      "Running average time till next event prediction loss: 0.295573152564466 (MAE over last 800 batches)\n",
      "Running average (complete) remaining runtime prediction loss: 0.4888499954715371 (MAE over last 800 batches)\n",
      "------------------------------------------------------------\n"
     ]
    },
    {
     "name": "stderr",
     "output_type": "stream",
     "text": [
      "Batch calculation at epoch 83.: 4001it [10:40,  8.49it/s]"
     ]
    },
    {
     "name": "stdout",
     "output_type": "stream",
     "text": [
      "------------------------------------------------------------\n",
      "Epoch 83, batch 3999:\n",
      "Average original gradient norm: 1.7106980177760125 (over last 800 batches)\n",
      "Average clipped gradient norm: 1.6940721036493778 (over last 800 batches)\n",
      "Running average global loss: 1.178244516402483 (over last 800 batches)\n",
      "Running average activity prediction loss: 0.3958321233838797 (Cross Entropy over last 800 batches)\n",
      "Running average time till next event prediction loss: 0.2946017207950354 (MAE over last 800 batches)\n",
      "Running average (complete) remaining runtime prediction loss: 0.4878106735274196 (MAE over last 800 batches)\n",
      "------------------------------------------------------------\n"
     ]
    },
    {
     "name": "stderr",
     "output_type": "stream",
     "text": [
      "Batch calculation at epoch 83.: 4295it [11:36,  6.17it/s]\n"
     ]
    },
    {
     "name": "stdout",
     "output_type": "stream",
     "text": [
      "=======================================\n",
      "End of epoch 83\n",
      "=======================================\n",
      "Running average global loss: 1.1803034806251527 (over last 800 batches)\n",
      "Running average activity prediction loss: 0.39671879306435587 (Cross Entropy over last 800 batches)\n",
      "Running average time till next event prediction loss: 0.2955898343026638 (MAE over last 800 batches)\n",
      "Running average (complete) remaining runtime prediction loss: 0.4879948529601097 (MAE over last 800 batches)\n"
     ]
    },
    {
     "name": "stderr",
     "output_type": "stream",
     "text": [
      "Validation batch calculation: 20it [00:47,  2.38s/it]\n"
     ]
    },
    {
     "name": "stdout",
     "output_type": "stream",
     "text": [
      "Avg MAE TTNE prediction validation set: 0.4634450078010559 (standardized) ; 17095.95 (minutes)'\n",
      "Avg 1-(normalized) DL distance acitivty suffix prediction validation set: 0.8434334993362427\n",
      "Percentage of suffixes predicted to END: too early - 0.2952583818658655 ; right moment - 0.6332418089808783 ; too late - 0.07149980915325609\n",
      "Too early instances - avg amount of events too early: 1.6676397323608398\n",
      "Too late instances - avg amount of events too late: 3.017392873764038\n",
      "Avg absolute amount of events predicted too early / too late: 0.7081276178359985\n",
      "Avg MAE RRT prediction validation set: 0.6089591979980469 (standardized) ; 33224.510416666664 (minutes)'\n",
      " \n",
      "------------------------------------\n",
      "EPOCH 84:\n",
      "____________________________________\n"
     ]
    },
    {
     "name": "stderr",
     "output_type": "stream",
     "text": [
      "Batch calculation at epoch 84.: 801it [01:55,  5.40it/s]"
     ]
    },
    {
     "name": "stdout",
     "output_type": "stream",
     "text": [
      "------------------------------------------------------------\n",
      "Epoch 84, batch 799:\n",
      "Average original gradient norm: 1.705454259812832 (over last 800 batches)\n",
      "Average clipped gradient norm: 1.68600895896554 (over last 800 batches)\n",
      "Running average global loss: 1.1792082071304322 (over last 800 batches)\n",
      "Running average activity prediction loss: 0.39574451666325333 (Cross Entropy over last 800 batches)\n",
      "Running average time till next event prediction loss: 0.29457505693659186 (MAE over last 800 batches)\n",
      "Running average (complete) remaining runtime prediction loss: 0.4888886314257979 (MAE over last 800 batches)\n",
      "------------------------------------------------------------\n"
     ]
    },
    {
     "name": "stderr",
     "output_type": "stream",
     "text": [
      "Batch calculation at epoch 84.: 1601it [03:53,  5.98it/s]"
     ]
    },
    {
     "name": "stdout",
     "output_type": "stream",
     "text": [
      "------------------------------------------------------------\n",
      "Epoch 84, batch 1599:\n",
      "Average original gradient norm: 1.7046817122399807 (over last 800 batches)\n",
      "Average clipped gradient norm: 1.6910093049705028 (over last 800 batches)\n",
      "Running average global loss: 1.1838258542120457 (over last 800 batches)\n",
      "Running average activity prediction loss: 0.399027356505394 (Cross Entropy over last 800 batches)\n",
      "Running average time till next event prediction loss: 0.29599851245060566 (MAE over last 800 batches)\n",
      "Running average (complete) remaining runtime prediction loss: 0.4887999873608351 (MAE over last 800 batches)\n",
      "------------------------------------------------------------\n"
     ]
    },
    {
     "name": "stderr",
     "output_type": "stream",
     "text": [
      "Batch calculation at epoch 84.: 2402it [05:22, 10.37it/s]"
     ]
    },
    {
     "name": "stdout",
     "output_type": "stream",
     "text": [
      "------------------------------------------------------------\n",
      "Epoch 84, batch 2399:\n",
      "Average original gradient norm: 1.7046971900761128 (over last 800 batches)\n",
      "Average clipped gradient norm: 1.686566949635744 (over last 800 batches)\n",
      "Running average global loss: 1.1797884129732847 (over last 800 batches)\n",
      "Running average activity prediction loss: 0.3953764324635267 (Cross Entropy over last 800 batches)\n",
      "Running average time till next event prediction loss: 0.2976027647405863 (MAE over last 800 batches)\n",
      "Running average (complete) remaining runtime prediction loss: 0.4868092149496078 (MAE over last 800 batches)\n",
      "------------------------------------------------------------\n"
     ]
    },
    {
     "name": "stderr",
     "output_type": "stream",
     "text": [
      "Batch calculation at epoch 84.: 3201it [06:41,  8.39it/s]"
     ]
    },
    {
     "name": "stdout",
     "output_type": "stream",
     "text": [
      "------------------------------------------------------------\n",
      "Epoch 84, batch 3199:\n",
      "Average original gradient norm: 1.6862728515267371 (over last 800 batches)\n",
      "Average clipped gradient norm: 1.6738687781989574 (over last 800 batches)\n",
      "Running average global loss: 1.1801781710237265 (over last 800 batches)\n",
      "Running average activity prediction loss: 0.39742893151938913 (Cross Entropy over last 800 batches)\n",
      "Running average time till next event prediction loss: 0.29527113370597363 (MAE over last 800 batches)\n",
      "Running average (complete) remaining runtime prediction loss: 0.4874781058728695 (MAE over last 800 batches)\n",
      "------------------------------------------------------------\n"
     ]
    },
    {
     "name": "stderr",
     "output_type": "stream",
     "text": [
      "Batch calculation at epoch 84.: 4000it [08:03, 10.08it/s]"
     ]
    },
    {
     "name": "stdout",
     "output_type": "stream",
     "text": [
      "------------------------------------------------------------\n",
      "Epoch 84, batch 3999:\n",
      "Average original gradient norm: 1.7034442509710788 (over last 800 batches)\n",
      "Average clipped gradient norm: 1.6886082582175732 (over last 800 batches)\n",
      "Running average global loss: 1.1800215858221055 (over last 800 batches)\n",
      "Running average activity prediction loss: 0.3980707483738661 (Cross Entropy over last 800 batches)\n",
      "Running average time till next event prediction loss: 0.29495355231687426 (MAE over last 800 batches)\n",
      "Running average (complete) remaining runtime prediction loss: 0.48699728682637217 (MAE over last 800 batches)\n",
      "------------------------------------------------------------\n"
     ]
    },
    {
     "name": "stderr",
     "output_type": "stream",
     "text": [
      "Batch calculation at epoch 84.: 4295it [08:34,  8.34it/s]\n"
     ]
    },
    {
     "name": "stdout",
     "output_type": "stream",
     "text": [
      "=======================================\n",
      "End of epoch 84\n",
      "=======================================\n",
      "Running average global loss: 1.1807349106669427 (over last 800 batches)\n",
      "Running average activity prediction loss: 0.39799641840159894 (Cross Entropy over last 800 batches)\n",
      "Running average time till next event prediction loss: 0.29499196879565714 (MAE over last 800 batches)\n",
      "Running average (complete) remaining runtime prediction loss: 0.487746522910893 (MAE over last 800 batches)\n"
     ]
    },
    {
     "name": "stderr",
     "output_type": "stream",
     "text": [
      "Validation batch calculation: 20it [00:31,  1.56s/it]\n"
     ]
    },
    {
     "name": "stdout",
     "output_type": "stream",
     "text": [
      "Avg MAE TTNE prediction validation set: 0.4641742706298828 (standardized) ; 17118.602083333335 (minutes)'\n",
      "Avg 1-(normalized) DL distance acitivty suffix prediction validation set: 0.8432917594909668\n",
      "Percentage of suffixes predicted to END: too early - 0.2949751899232919 ; right moment - 0.6329093662656833 ; too late - 0.07211544381102479\n",
      "Too early instances - avg amount of events too early: 1.659848928451538\n",
      "Too late instances - avg amount of events too late: 3.0751237869262695\n",
      "Avg absolute amount of events predicted too early / too late: 0.7113781571388245\n",
      "Avg MAE RRT prediction validation set: 0.6099249124526978 (standardized) ; 33272.46875 (minutes)'\n",
      " \n",
      "------------------------------------\n",
      "EPOCH 85:\n",
      "____________________________________\n"
     ]
    },
    {
     "name": "stderr",
     "output_type": "stream",
     "text": [
      "Batch calculation at epoch 85.: 800it [02:16,  9.22it/s]"
     ]
    },
    {
     "name": "stdout",
     "output_type": "stream",
     "text": [
      "------------------------------------------------------------\n",
      "Epoch 85, batch 799:\n",
      "Average original gradient norm: 1.687262713611126 (over last 800 batches)\n",
      "Average clipped gradient norm: 1.6727927932143212 (over last 800 batches)\n",
      "Running average global loss: 1.183073915168643 (over last 800 batches)\n",
      "Running average activity prediction loss: 0.3997958479449153 (Cross Entropy over last 800 batches)\n",
      "Running average time till next event prediction loss: 0.2950295411795378 (MAE over last 800 batches)\n",
      "Running average (complete) remaining runtime prediction loss: 0.4882485261932015 (MAE over last 800 batches)\n",
      "------------------------------------------------------------\n"
     ]
    },
    {
     "name": "stderr",
     "output_type": "stream",
     "text": [
      "Batch calculation at epoch 85.: 1601it [03:43,  9.32it/s]"
     ]
    },
    {
     "name": "stdout",
     "output_type": "stream",
     "text": [
      "------------------------------------------------------------\n",
      "Epoch 85, batch 1599:\n",
      "Average original gradient norm: 1.6985836072266103 (over last 800 batches)\n",
      "Average clipped gradient norm: 1.6839857278764248 (over last 800 batches)\n",
      "Running average global loss: 1.1834045541286469 (over last 800 batches)\n",
      "Running average activity prediction loss: 0.3976861103624105 (Cross Entropy over last 800 batches)\n",
      "Running average time till next event prediction loss: 0.2958898745290935 (MAE over last 800 batches)\n",
      "Running average (complete) remaining runtime prediction loss: 0.4898285708576441 (MAE over last 800 batches)\n",
      "------------------------------------------------------------\n"
     ]
    },
    {
     "name": "stderr",
     "output_type": "stream",
     "text": [
      "Batch calculation at epoch 85.: 2401it [05:03, 12.51it/s]"
     ]
    },
    {
     "name": "stdout",
     "output_type": "stream",
     "text": [
      "------------------------------------------------------------\n",
      "Epoch 85, batch 2399:\n",
      "Average original gradient norm: 1.703910157084465 (over last 800 batches)\n",
      "Average clipped gradient norm: 1.6844380471110343 (over last 800 batches)\n",
      "Running average global loss: 1.177157023102045 (over last 800 batches)\n",
      "Running average activity prediction loss: 0.39719967167824505 (Cross Entropy over last 800 batches)\n",
      "Running average time till next event prediction loss: 0.2942679624632001 (MAE over last 800 batches)\n",
      "Running average (complete) remaining runtime prediction loss: 0.48568938743323087 (MAE over last 800 batches)\n",
      "------------------------------------------------------------\n"
     ]
    },
    {
     "name": "stderr",
     "output_type": "stream",
     "text": [
      "Batch calculation at epoch 85.: 3201it [06:48,  6.38it/s]"
     ]
    },
    {
     "name": "stdout",
     "output_type": "stream",
     "text": [
      "------------------------------------------------------------\n",
      "Epoch 85, batch 3199:\n",
      "Average original gradient norm: 1.7017290791869164 (over last 800 batches)\n",
      "Average clipped gradient norm: 1.6866917450726033 (over last 800 batches)\n",
      "Running average global loss: 1.1791108556836845 (over last 800 batches)\n",
      "Running average activity prediction loss: 0.39630557924509047 (Cross Entropy over last 800 batches)\n",
      "Running average time till next event prediction loss: 0.29565814344212415 (MAE over last 800 batches)\n",
      "Running average (complete) remaining runtime prediction loss: 0.48714713256806136 (MAE over last 800 batches)\n",
      "------------------------------------------------------------\n"
     ]
    },
    {
     "name": "stderr",
     "output_type": "stream",
     "text": [
      "Batch calculation at epoch 85.: 4001it [08:25,  5.55it/s]"
     ]
    },
    {
     "name": "stdout",
     "output_type": "stream",
     "text": [
      "------------------------------------------------------------\n",
      "Epoch 85, batch 3999:\n",
      "Average original gradient norm: 1.6892403356730938 (over last 800 batches)\n",
      "Average clipped gradient norm: 1.6735425265133381 (over last 800 batches)\n",
      "Running average global loss: 1.1835520797967911 (over last 800 batches)\n",
      "Running average activity prediction loss: 0.3945514462888241 (Cross Entropy over last 800 batches)\n",
      "Running average time till next event prediction loss: 0.29741252897307274 (MAE over last 800 batches)\n",
      "Running average (complete) remaining runtime prediction loss: 0.4915881047025323 (MAE over last 800 batches)\n",
      "------------------------------------------------------------\n"
     ]
    },
    {
     "name": "stderr",
     "output_type": "stream",
     "text": [
      "Batch calculation at epoch 85.: 4295it [09:11,  7.78it/s]\n"
     ]
    },
    {
     "name": "stdout",
     "output_type": "stream",
     "text": [
      "=======================================\n",
      "End of epoch 85\n",
      "=======================================\n",
      "Running average global loss: 1.1829280032962561 (over last 800 batches)\n",
      "Running average activity prediction loss: 0.3960865567624569 (Cross Entropy over last 800 batches)\n",
      "Running average time till next event prediction loss: 0.29683544298633935 (MAE over last 800 batches)\n",
      "Running average (complete) remaining runtime prediction loss: 0.4900060023367405 (MAE over last 800 batches)\n"
     ]
    },
    {
     "name": "stderr",
     "output_type": "stream",
     "text": [
      "Validation batch calculation: 20it [00:34,  1.74s/it]\n"
     ]
    },
    {
     "name": "stdout",
     "output_type": "stream",
     "text": [
      "Avg MAE TTNE prediction validation set: 0.4633820652961731 (standardized) ; 17090.239583333332 (minutes)'\n",
      "Avg 1-(normalized) DL distance acitivty suffix prediction validation set: 0.8433206081390381\n",
      "Percentage of suffixes predicted to END: too early - 0.2955169484221284 ; right moment - 0.6329832424246156 ; too late - 0.07149980915325609\n",
      "Too early instances - avg amount of events too early: 1.667805552482605\n",
      "Too late instances - avg amount of events too late: 2.9867401123046875\n",
      "Avg absolute amount of events predicted too early / too late: 0.706416130065918\n",
      "Avg MAE RRT prediction validation set: 0.6091619729995728 (standardized) ; 33231.333333333336 (minutes)'\n",
      " \n",
      "------------------------------------\n",
      "EPOCH 86:\n",
      "____________________________________\n"
     ]
    },
    {
     "name": "stderr",
     "output_type": "stream",
     "text": [
      "Batch calculation at epoch 86.: 801it [01:22,  5.72it/s]"
     ]
    },
    {
     "name": "stdout",
     "output_type": "stream",
     "text": [
      "------------------------------------------------------------\n",
      "Epoch 86, batch 799:\n",
      "Average original gradient norm: 1.699243797659874 (over last 800 batches)\n",
      "Average clipped gradient norm: 1.6847462287545205 (over last 800 batches)\n",
      "Running average global loss: 1.1805589529126883 (over last 800 batches)\n",
      "Running average activity prediction loss: 0.3966262637078762 (Cross Entropy over last 800 batches)\n",
      "Running average time till next event prediction loss: 0.29600206807255747 (MAE over last 800 batches)\n",
      "Running average (complete) remaining runtime prediction loss: 0.48793061915785074 (MAE over last 800 batches)\n",
      "------------------------------------------------------------\n"
     ]
    },
    {
     "name": "stderr",
     "output_type": "stream",
     "text": [
      "Batch calculation at epoch 86.: 1602it [03:05,  9.90it/s]"
     ]
    },
    {
     "name": "stdout",
     "output_type": "stream",
     "text": [
      "------------------------------------------------------------\n",
      "Epoch 86, batch 1599:\n",
      "Average original gradient norm: 1.6962152369320393 (over last 800 batches)\n",
      "Average clipped gradient norm: 1.6777021296322345 (over last 800 batches)\n",
      "Running average global loss: 1.182249361127615 (over last 800 batches)\n",
      "Running average activity prediction loss: 0.3989869472011924 (Cross Entropy over last 800 batches)\n",
      "Running average time till next event prediction loss: 0.2951639322936535 (MAE over last 800 batches)\n",
      "Running average (complete) remaining runtime prediction loss: 0.48809848096221686 (MAE over last 800 batches)\n",
      "------------------------------------------------------------\n"
     ]
    },
    {
     "name": "stderr",
     "output_type": "stream",
     "text": [
      "Batch calculation at epoch 86.: 2401it [04:39, 10.80it/s]"
     ]
    },
    {
     "name": "stdout",
     "output_type": "stream",
     "text": [
      "------------------------------------------------------------\n",
      "Epoch 86, batch 2399:\n",
      "Average original gradient norm: 1.6962452778220176 (over last 800 batches)\n",
      "Average clipped gradient norm: 1.6797631868720055 (over last 800 batches)\n",
      "Running average global loss: 1.1774807621538639 (over last 800 batches)\n",
      "Running average activity prediction loss: 0.396173744648695 (Cross Entropy over last 800 batches)\n",
      "Running average time till next event prediction loss: 0.2948178703151643 (MAE over last 800 batches)\n",
      "Running average (complete) remaining runtime prediction loss: 0.4864891464263201 (MAE over last 800 batches)\n",
      "------------------------------------------------------------\n"
     ]
    },
    {
     "name": "stderr",
     "output_type": "stream",
     "text": [
      "Batch calculation at epoch 86.: 3202it [06:04, 11.85it/s]"
     ]
    },
    {
     "name": "stdout",
     "output_type": "stream",
     "text": [
      "------------------------------------------------------------\n",
      "Epoch 86, batch 3199:\n",
      "Average original gradient norm: 1.6838179056346416 (over last 800 batches)\n",
      "Average clipped gradient norm: 1.6691140921413898 (over last 800 batches)\n",
      "Running average global loss: 1.1775371865183115 (over last 800 batches)\n",
      "Running average activity prediction loss: 0.3958755219727755 (Cross Entropy over last 800 batches)\n",
      "Running average time till next event prediction loss: 0.29467798041179777 (MAE over last 800 batches)\n",
      "Running average (complete) remaining runtime prediction loss: 0.4869836873561144 (MAE over last 800 batches)\n",
      "------------------------------------------------------------\n"
     ]
    },
    {
     "name": "stderr",
     "output_type": "stream",
     "text": [
      "Batch calculation at epoch 86.: 4001it [07:47,  6.76it/s]"
     ]
    },
    {
     "name": "stdout",
     "output_type": "stream",
     "text": [
      "------------------------------------------------------------\n",
      "Epoch 86, batch 3999:\n",
      "Average original gradient norm: 1.7015376836061478 (over last 800 batches)\n",
      "Average clipped gradient norm: 1.6872954086959362 (over last 800 batches)\n",
      "Running average global loss: 1.1809760500490665 (over last 800 batches)\n",
      "Running average activity prediction loss: 0.3969871739670634 (Cross Entropy over last 800 batches)\n",
      "Running average time till next event prediction loss: 0.29563662251457573 (MAE over last 800 batches)\n",
      "Running average (complete) remaining runtime prediction loss: 0.48835225570946933 (MAE over last 800 batches)\n",
      "------------------------------------------------------------\n"
     ]
    },
    {
     "name": "stderr",
     "output_type": "stream",
     "text": [
      "Batch calculation at epoch 86.: 4295it [08:40,  8.25it/s]\n"
     ]
    },
    {
     "name": "stdout",
     "output_type": "stream",
     "text": [
      "=======================================\n",
      "End of epoch 86\n",
      "=======================================\n",
      "Running average global loss: 1.1857104046642781 (over last 800 batches)\n",
      "Running average activity prediction loss: 0.3990568967163563 (Cross Entropy over last 800 batches)\n",
      "Running average time till next event prediction loss: 0.2962049787864089 (MAE over last 800 batches)\n",
      "Running average (complete) remaining runtime prediction loss: 0.4904485310614109 (MAE over last 800 batches)\n"
     ]
    },
    {
     "name": "stderr",
     "output_type": "stream",
     "text": [
      "Validation batch calculation: 20it [00:34,  1.74s/it]\n"
     ]
    },
    {
     "name": "stdout",
     "output_type": "stream",
     "text": [
      "Avg MAE TTNE prediction validation set: 0.46337243914604187 (standardized) ; 17089.96875 (minutes)'\n",
      "Avg 1-(normalized) DL distance acitivty suffix prediction validation set: 0.8431380391120911\n",
      "Percentage of suffixes predicted to END: too early - 0.29429799179974636 ; right moment - 0.6329216789588387 ; too late - 0.07278032924141498\n",
      "Too early instances - avg amount of events too early: 1.6568487882614136\n",
      "Too late instances - avg amount of events too late: 3.140416145324707\n",
      "Avg absolute amount of events predicted too early / too late: 0.7161678075790405\n",
      "Avg MAE RRT prediction validation set: 0.609586238861084 (standardized) ; 33257.76666666667 (minutes)'\n",
      " \n",
      "------------------------------------\n",
      "EPOCH 87:\n",
      "____________________________________\n"
     ]
    },
    {
     "name": "stderr",
     "output_type": "stream",
     "text": [
      "Batch calculation at epoch 87.: 801it [01:28,  6.47it/s]"
     ]
    },
    {
     "name": "stdout",
     "output_type": "stream",
     "text": [
      "------------------------------------------------------------\n",
      "Epoch 87, batch 799:\n",
      "Average original gradient norm: 1.6787438581883907 (over last 800 batches)\n",
      "Average clipped gradient norm: 1.6685358573496343 (over last 800 batches)\n",
      "Running average global loss: 1.1808310253173113 (over last 800 batches)\n",
      "Running average activity prediction loss: 0.3963085054606199 (Cross Entropy over last 800 batches)\n",
      "Running average time till next event prediction loss: 0.2953529524616897 (MAE over last 800 batches)\n",
      "Running average (complete) remaining runtime prediction loss: 0.4891695686802268 (MAE over last 800 batches)\n",
      "------------------------------------------------------------\n"
     ]
    },
    {
     "name": "stderr",
     "output_type": "stream",
     "text": [
      "Batch calculation at epoch 87.: 1601it [03:25,  6.01it/s]"
     ]
    },
    {
     "name": "stdout",
     "output_type": "stream",
     "text": [
      "------------------------------------------------------------\n",
      "Epoch 87, batch 1599:\n",
      "Average original gradient norm: 1.7065058939158917 (over last 800 batches)\n",
      "Average clipped gradient norm: 1.68895374879241 (over last 800 batches)\n",
      "Running average global loss: 1.1819398346543313 (over last 800 batches)\n",
      "Running average activity prediction loss: 0.39907412718981505 (Cross Entropy over last 800 batches)\n",
      "Running average time till next event prediction loss: 0.2949533984437585 (MAE over last 800 batches)\n",
      "Running average (complete) remaining runtime prediction loss: 0.4879123097285628 (MAE over last 800 batches)\n",
      "------------------------------------------------------------\n"
     ]
    },
    {
     "name": "stderr",
     "output_type": "stream",
     "text": [
      "Batch calculation at epoch 87.: 2402it [05:13, 10.82it/s]"
     ]
    },
    {
     "name": "stdout",
     "output_type": "stream",
     "text": [
      "------------------------------------------------------------\n",
      "Epoch 87, batch 2399:\n",
      "Average original gradient norm: 1.6939535185694694 (over last 800 batches)\n",
      "Average clipped gradient norm: 1.6775244039297104 (over last 800 batches)\n",
      "Running average global loss: 1.1819196904450655 (over last 800 batches)\n",
      "Running average activity prediction loss: 0.39831513062119484 (Cross Entropy over last 800 batches)\n",
      "Running average time till next event prediction loss: 0.29500539356842637 (MAE over last 800 batches)\n",
      "Running average (complete) remaining runtime prediction loss: 0.4885991660505533 (MAE over last 800 batches)\n",
      "------------------------------------------------------------\n"
     ]
    },
    {
     "name": "stderr",
     "output_type": "stream",
     "text": [
      "Batch calculation at epoch 87.: 3201it [06:43,  7.49it/s]"
     ]
    },
    {
     "name": "stdout",
     "output_type": "stream",
     "text": [
      "------------------------------------------------------------\n",
      "Epoch 87, batch 3199:\n",
      "Average original gradient norm: 1.6876905962824822 (over last 800 batches)\n",
      "Average clipped gradient norm: 1.670882781893015 (over last 800 batches)\n",
      "Running average global loss: 1.1787808657437564 (over last 800 batches)\n",
      "Running average activity prediction loss: 0.396949239782989 (Cross Entropy over last 800 batches)\n",
      "Running average time till next event prediction loss: 0.2954825739748776 (MAE over last 800 batches)\n",
      "Running average (complete) remaining runtime prediction loss: 0.4863490537926555 (MAE over last 800 batches)\n",
      "------------------------------------------------------------\n"
     ]
    },
    {
     "name": "stderr",
     "output_type": "stream",
     "text": [
      "Batch calculation at epoch 87.: 4001it [08:50,  7.96it/s]"
     ]
    },
    {
     "name": "stdout",
     "output_type": "stream",
     "text": [
      "------------------------------------------------------------\n",
      "Epoch 87, batch 3999:\n",
      "Average original gradient norm: 1.7034556652605533 (over last 800 batches)\n",
      "Average clipped gradient norm: 1.6821600930392742 (over last 800 batches)\n",
      "Running average global loss: 1.1794896283000709 (over last 800 batches)\n",
      "Running average activity prediction loss: 0.3947074764594436 (Cross Entropy over last 800 batches)\n",
      "Running average time till next event prediction loss: 0.2970537901856005 (MAE over last 800 batches)\n",
      "Running average (complete) remaining runtime prediction loss: 0.48772836167365313 (MAE over last 800 batches)\n",
      "------------------------------------------------------------\n"
     ]
    },
    {
     "name": "stderr",
     "output_type": "stream",
     "text": [
      "Batch calculation at epoch 87.: 4295it [09:33,  7.49it/s]\n"
     ]
    },
    {
     "name": "stdout",
     "output_type": "stream",
     "text": [
      "=======================================\n",
      "End of epoch 87\n",
      "=======================================\n",
      "Running average global loss: 1.1788383153825999 (over last 800 batches)\n",
      "Running average activity prediction loss: 0.3966479318961501 (Cross Entropy over last 800 batches)\n",
      "Running average time till next event prediction loss: 0.2952896453440189 (MAE over last 800 batches)\n",
      "Running average (complete) remaining runtime prediction loss: 0.4869007409363985 (MAE over last 800 batches)\n"
     ]
    },
    {
     "name": "stderr",
     "output_type": "stream",
     "text": [
      "Validation batch calculation: 20it [00:58,  2.95s/it]\n"
     ]
    },
    {
     "name": "stdout",
     "output_type": "stream",
     "text": [
      "Avg MAE TTNE prediction validation set: 0.4639500081539154 (standardized) ; 17112.376041666666 (minutes)'\n",
      "Avg 1-(normalized) DL distance acitivty suffix prediction validation set: 0.8429131507873535\n",
      "Percentage of suffixes predicted to END: too early - 0.293891672925619 ; right moment - 0.6325399854710221 ; too late - 0.0735683416033589\n",
      "Too early instances - avg amount of events too early: 1.656248688697815\n",
      "Too late instances - avg amount of events too late: 3.110962390899658\n",
      "Avg absolute amount of events predicted too early / too late: 0.715626060962677\n",
      "Avg MAE RRT prediction validation set: 0.6084837317466736 (standardized) ; 33199.13333333333 (minutes)'\n",
      " \n",
      "------------------------------------\n",
      "EPOCH 88:\n",
      "____________________________________\n"
     ]
    },
    {
     "name": "stderr",
     "output_type": "stream",
     "text": [
      "Batch calculation at epoch 88.: 801it [02:04,  7.61it/s]"
     ]
    },
    {
     "name": "stdout",
     "output_type": "stream",
     "text": [
      "------------------------------------------------------------\n",
      "Epoch 88, batch 799:\n",
      "Average original gradient norm: 1.6952721270918847 (over last 800 batches)\n",
      "Average clipped gradient norm: 1.6804752069711686 (over last 800 batches)\n",
      "Running average global loss: 1.1787986657768488 (over last 800 batches)\n",
      "Running average activity prediction loss: 0.39751572377979755 (Cross Entropy over last 800 batches)\n",
      "Running average time till next event prediction loss: 0.29462068509310485 (MAE over last 800 batches)\n",
      "Running average (complete) remaining runtime prediction loss: 0.4866622544825077 (MAE over last 800 batches)\n",
      "------------------------------------------------------------\n"
     ]
    },
    {
     "name": "stderr",
     "output_type": "stream",
     "text": [
      "Batch calculation at epoch 88.: 1600it [04:05,  4.10it/s]"
     ]
    },
    {
     "name": "stdout",
     "output_type": "stream",
     "text": [
      "------------------------------------------------------------\n",
      "Epoch 88, batch 1599:\n",
      "Average original gradient norm: 1.7115298733115196 (over last 800 batches)\n",
      "Average clipped gradient norm: 1.6914420613646508 (over last 800 batches)\n",
      "Running average global loss: 1.1849828820675612 (over last 800 batches)\n",
      "Running average activity prediction loss: 0.39989841513335705 (Cross Entropy over last 800 batches)\n",
      "Running average time till next event prediction loss: 0.29580509904772045 (MAE over last 800 batches)\n",
      "Running average (complete) remaining runtime prediction loss: 0.48927936486899853 (MAE over last 800 batches)\n",
      "------------------------------------------------------------\n"
     ]
    },
    {
     "name": "stderr",
     "output_type": "stream",
     "text": [
      "Batch calculation at epoch 88.: 2401it [05:53,  6.73it/s]"
     ]
    },
    {
     "name": "stdout",
     "output_type": "stream",
     "text": [
      "------------------------------------------------------------\n",
      "Epoch 88, batch 2399:\n",
      "Average original gradient norm: 1.7036921939253806 (over last 800 batches)\n",
      "Average clipped gradient norm: 1.6881968274712562 (over last 800 batches)\n",
      "Running average global loss: 1.1763810785859823 (over last 800 batches)\n",
      "Running average activity prediction loss: 0.39408415351063014 (Cross Entropy over last 800 batches)\n",
      "Running average time till next event prediction loss: 0.2962294730916619 (MAE over last 800 batches)\n",
      "Running average (complete) remaining runtime prediction loss: 0.4860674506425858 (MAE over last 800 batches)\n",
      "------------------------------------------------------------\n"
     ]
    },
    {
     "name": "stderr",
     "output_type": "stream",
     "text": [
      "Batch calculation at epoch 88.: 3201it [07:38,  7.56it/s]"
     ]
    },
    {
     "name": "stdout",
     "output_type": "stream",
     "text": [
      "------------------------------------------------------------\n",
      "Epoch 88, batch 3199:\n",
      "Average original gradient norm: 1.6915065884590148 (over last 800 batches)\n",
      "Average clipped gradient norm: 1.6765469174087047 (over last 800 batches)\n",
      "Running average global loss: 1.1795479223877192 (over last 800 batches)\n",
      "Running average activity prediction loss: 0.39671504963189363 (Cross Entropy over last 800 batches)\n",
      "Running average time till next event prediction loss: 0.2950823140516877 (MAE over last 800 batches)\n",
      "Running average (complete) remaining runtime prediction loss: 0.48775055814534424 (MAE over last 800 batches)\n",
      "------------------------------------------------------------\n"
     ]
    },
    {
     "name": "stderr",
     "output_type": "stream",
     "text": [
      "Batch calculation at epoch 88.: 4001it [09:43,  5.60it/s]"
     ]
    },
    {
     "name": "stdout",
     "output_type": "stream",
     "text": [
      "------------------------------------------------------------\n",
      "Epoch 88, batch 3999:\n",
      "Average original gradient norm: 1.6872301717102527 (over last 800 batches)\n",
      "Average clipped gradient norm: 1.6745752926170825 (over last 800 batches)\n",
      "Running average global loss: 1.1827879207581282 (over last 800 batches)\n",
      "Running average activity prediction loss: 0.3971052456460893 (Cross Entropy over last 800 batches)\n",
      "Running average time till next event prediction loss: 0.29617695599794386 (MAE over last 800 batches)\n",
      "Running average (complete) remaining runtime prediction loss: 0.48950571823865174 (MAE over last 800 batches)\n",
      "------------------------------------------------------------\n"
     ]
    },
    {
     "name": "stderr",
     "output_type": "stream",
     "text": [
      "Batch calculation at epoch 88.: 4295it [10:44,  6.66it/s]\n"
     ]
    },
    {
     "name": "stdout",
     "output_type": "stream",
     "text": [
      "=======================================\n",
      "End of epoch 88\n",
      "=======================================\n",
      "Running average global loss: 1.1830197003483773 (over last 800 batches)\n",
      "Running average activity prediction loss: 0.3973376737721264 (Cross Entropy over last 800 batches)\n",
      "Running average time till next event prediction loss: 0.29534310506656763 (MAE over last 800 batches)\n",
      "Running average (complete) remaining runtime prediction loss: 0.4903389219939709 (MAE over last 800 batches)\n"
     ]
    },
    {
     "name": "stderr",
     "output_type": "stream",
     "text": [
      "Validation batch calculation: 20it [01:03,  3.16s/it]\n"
     ]
    },
    {
     "name": "stdout",
     "output_type": "stream",
     "text": [
      "Avg MAE TTNE prediction validation set: 0.4646798074245453 (standardized) ; 17138.894791666666 (minutes)'\n",
      "Avg 1-(normalized) DL distance acitivty suffix prediction validation set: 0.8433210849761963\n",
      "Percentage of suffixes predicted to END: too early - 0.2951229422411564 ; right moment - 0.6329709297314602 ; too late - 0.07190612802738343\n",
      "Too early instances - avg amount of events too early: 1.6595185995101929\n",
      "Too late instances - avg amount of events too late: 3.098287582397461\n",
      "Avg absolute amount of events predicted too early / too late: 0.7125478386878967\n",
      "Avg MAE RRT prediction validation set: 0.6096155643463135 (standardized) ; 33255.61041666667 (minutes)'\n",
      " \n",
      "------------------------------------\n",
      "EPOCH 89:\n",
      "____________________________________\n"
     ]
    },
    {
     "name": "stderr",
     "output_type": "stream",
     "text": [
      "Batch calculation at epoch 89.: 801it [01:42,  6.96it/s]"
     ]
    },
    {
     "name": "stdout",
     "output_type": "stream",
     "text": [
      "------------------------------------------------------------\n",
      "Epoch 89, batch 799:\n",
      "Average original gradient norm: 1.6922232265770436 (over last 800 batches)\n",
      "Average clipped gradient norm: 1.6774921700358392 (over last 800 batches)\n",
      "Running average global loss: 1.17671371281147 (over last 800 batches)\n",
      "Running average activity prediction loss: 0.3961646236851811 (Cross Entropy over last 800 batches)\n",
      "Running average time till next event prediction loss: 0.2947361568920314 (MAE over last 800 batches)\n",
      "Running average (complete) remaining runtime prediction loss: 0.4858129308000207 (MAE over last 800 batches)\n",
      "------------------------------------------------------------\n"
     ]
    },
    {
     "name": "stderr",
     "output_type": "stream",
     "text": [
      "Batch calculation at epoch 89.: 1601it [03:29,  7.12it/s]"
     ]
    },
    {
     "name": "stdout",
     "output_type": "stream",
     "text": [
      "------------------------------------------------------------\n",
      "Epoch 89, batch 1599:\n",
      "Average original gradient norm: 1.6947007808089256 (over last 800 batches)\n",
      "Average clipped gradient norm: 1.678562054783106 (over last 800 batches)\n",
      "Running average global loss: 1.1807531066983938 (over last 800 batches)\n",
      "Running average activity prediction loss: 0.39748950898647306 (Cross Entropy over last 800 batches)\n",
      "Running average time till next event prediction loss: 0.2965875421091914 (MAE over last 800 batches)\n",
      "Running average (complete) remaining runtime prediction loss: 0.4866760537028313 (MAE over last 800 batches)\n",
      "------------------------------------------------------------\n"
     ]
    },
    {
     "name": "stderr",
     "output_type": "stream",
     "text": [
      "Batch calculation at epoch 89.: 2401it [05:35, 10.45it/s]"
     ]
    },
    {
     "name": "stdout",
     "output_type": "stream",
     "text": [
      "------------------------------------------------------------\n",
      "Epoch 89, batch 2399:\n",
      "Average original gradient norm: 1.7151585228741169 (over last 800 batches)\n",
      "Average clipped gradient norm: 1.695974541902542 (over last 800 batches)\n",
      "Running average global loss: 1.1841549222171306 (over last 800 batches)\n",
      "Running average activity prediction loss: 0.39905690036714075 (Cross Entropy over last 800 batches)\n",
      "Running average time till next event prediction loss: 0.29556459033861754 (MAE over last 800 batches)\n",
      "Running average (complete) remaining runtime prediction loss: 0.48953342873603106 (MAE over last 800 batches)\n",
      "------------------------------------------------------------\n"
     ]
    },
    {
     "name": "stderr",
     "output_type": "stream",
     "text": [
      "Batch calculation at epoch 89.: 3201it [07:06,  8.74it/s]"
     ]
    },
    {
     "name": "stdout",
     "output_type": "stream",
     "text": [
      "------------------------------------------------------------\n",
      "Epoch 89, batch 3199:\n",
      "Average original gradient norm: 1.6922817781567574 (over last 800 batches)\n",
      "Average clipped gradient norm: 1.677525366693735 (over last 800 batches)\n",
      "Running average global loss: 1.1811775932461024 (over last 800 batches)\n",
      "Running average activity prediction loss: 0.39680929061025383 (Cross Entropy over last 800 batches)\n",
      "Running average time till next event prediction loss: 0.29500852938741445 (MAE over last 800 batches)\n",
      "Running average (complete) remaining runtime prediction loss: 0.48935977526009083 (MAE over last 800 batches)\n",
      "------------------------------------------------------------\n"
     ]
    },
    {
     "name": "stderr",
     "output_type": "stream",
     "text": [
      "Batch calculation at epoch 89.: 4001it [08:52,  6.47it/s]"
     ]
    },
    {
     "name": "stdout",
     "output_type": "stream",
     "text": [
      "------------------------------------------------------------\n",
      "Epoch 89, batch 3999:\n",
      "Average original gradient norm: 1.6948178251087667 (over last 800 batches)\n",
      "Average clipped gradient norm: 1.6795833373069764 (over last 800 batches)\n",
      "Running average global loss: 1.1808161479234696 (over last 800 batches)\n",
      "Running average activity prediction loss: 0.39611995734274386 (Cross Entropy over last 800 batches)\n",
      "Running average time till next event prediction loss: 0.2957786583900452 (MAE over last 800 batches)\n",
      "Running average (complete) remaining runtime prediction loss: 0.4889175302535296 (MAE over last 800 batches)\n",
      "------------------------------------------------------------\n"
     ]
    },
    {
     "name": "stderr",
     "output_type": "stream",
     "text": [
      "Batch calculation at epoch 89.: 4295it [09:40,  7.40it/s]\n"
     ]
    },
    {
     "name": "stdout",
     "output_type": "stream",
     "text": [
      "=======================================\n",
      "End of epoch 89\n",
      "=======================================\n",
      "Running average global loss: 1.1792221400886773 (over last 800 batches)\n",
      "Running average activity prediction loss: 0.39562894083559513 (Cross Entropy over last 800 batches)\n",
      "Running average time till next event prediction loss: 0.2953891478292644 (MAE over last 800 batches)\n",
      "Running average (complete) remaining runtime prediction loss: 0.4882040490210056 (MAE over last 800 batches)\n"
     ]
    },
    {
     "name": "stderr",
     "output_type": "stream",
     "text": [
      "Validation batch calculation: 20it [00:31,  1.59s/it]\n"
     ]
    },
    {
     "name": "stdout",
     "output_type": "stream",
     "text": [
      "Avg MAE TTNE prediction validation set: 0.46323347091674805 (standardized) ; 17081.54375 (minutes)'\n",
      "Avg 1-(normalized) DL distance acitivty suffix prediction validation set: 0.8432026505470276\n",
      "Percentage of suffixes predicted to END: too early - 0.29495056453698115 ; right moment - 0.6330694312767031 ; too late - 0.07198000418631567\n",
      "Too early instances - avg amount of events too early: 1.6608223915100098\n",
      "Too late instances - avg amount of events too late: 3.089462995529175\n",
      "Avg absolute amount of events predicted too early / too late: 0.7122400403022766\n",
      "Avg MAE RRT prediction validation set: 0.6087489724159241 (standardized) ; 33211.075 (minutes)'\n",
      " \n",
      "------------------------------------\n",
      "EPOCH 90:\n",
      "____________________________________\n"
     ]
    },
    {
     "name": "stderr",
     "output_type": "stream",
     "text": [
      "Batch calculation at epoch 90.: 801it [01:29,  5.69it/s]"
     ]
    },
    {
     "name": "stdout",
     "output_type": "stream",
     "text": [
      "------------------------------------------------------------\n",
      "Epoch 90, batch 799:\n",
      "Average original gradient norm: 1.7042595134675502 (over last 800 batches)\n",
      "Average clipped gradient norm: 1.688648151755333 (over last 800 batches)\n",
      "Running average global loss: 1.1818757256120442 (over last 800 batches)\n",
      "Running average activity prediction loss: 0.39568060997873544 (Cross Entropy over last 800 batches)\n",
      "Running average time till next event prediction loss: 0.2964240052737296 (MAE over last 800 batches)\n",
      "Running average (complete) remaining runtime prediction loss: 0.48977111116051675 (MAE over last 800 batches)\n",
      "------------------------------------------------------------\n"
     ]
    },
    {
     "name": "stderr",
     "output_type": "stream",
     "text": [
      "Batch calculation at epoch 90.: 1601it [03:17,  6.59it/s]"
     ]
    },
    {
     "name": "stdout",
     "output_type": "stream",
     "text": [
      "------------------------------------------------------------\n",
      "Epoch 90, batch 1599:\n",
      "Average original gradient norm: 1.6752354323863983 (over last 800 batches)\n",
      "Average clipped gradient norm: 1.6639503069221973 (over last 800 batches)\n",
      "Running average global loss: 1.1769397157430648 (over last 800 batches)\n",
      "Running average activity prediction loss: 0.3955563148856163 (Cross Entropy over last 800 batches)\n",
      "Running average time till next event prediction loss: 0.29447975372895596 (MAE over last 800 batches)\n",
      "Running average (complete) remaining runtime prediction loss: 0.48690364710986617 (MAE over last 800 batches)\n",
      "------------------------------------------------------------\n"
     ]
    },
    {
     "name": "stderr",
     "output_type": "stream",
     "text": [
      "Batch calculation at epoch 90.: 2401it [04:47,  8.49it/s]"
     ]
    },
    {
     "name": "stdout",
     "output_type": "stream",
     "text": [
      "------------------------------------------------------------\n",
      "Epoch 90, batch 2399:\n",
      "Average original gradient norm: 1.6862828369438647 (over last 800 batches)\n",
      "Average clipped gradient norm: 1.6727710278332233 (over last 800 batches)\n",
      "Running average global loss: 1.1819714991003274 (over last 800 batches)\n",
      "Running average activity prediction loss: 0.3962593572586775 (Cross Entropy over last 800 batches)\n",
      "Running average time till next event prediction loss: 0.2960143290646374 (MAE over last 800 batches)\n",
      "Running average (complete) remaining runtime prediction loss: 0.48969781275838614 (MAE over last 800 batches)\n",
      "------------------------------------------------------------\n"
     ]
    },
    {
     "name": "stderr",
     "output_type": "stream",
     "text": [
      "Batch calculation at epoch 90.: 3201it [06:21, 11.98it/s]"
     ]
    },
    {
     "name": "stdout",
     "output_type": "stream",
     "text": [
      "------------------------------------------------------------\n",
      "Epoch 90, batch 3199:\n",
      "Average original gradient norm: 1.6875045934319497 (over last 800 batches)\n",
      "Average clipped gradient norm: 1.6721010045707225 (over last 800 batches)\n",
      "Running average global loss: 1.1833285357058048 (over last 800 batches)\n",
      "Running average activity prediction loss: 0.4002037173509598 (Cross Entropy over last 800 batches)\n",
      "Running average time till next event prediction loss: 0.29492203252390026 (MAE over last 800 batches)\n",
      "Running average (complete) remaining runtime prediction loss: 0.48820278789848087 (MAE over last 800 batches)\n",
      "------------------------------------------------------------\n"
     ]
    },
    {
     "name": "stderr",
     "output_type": "stream",
     "text": [
      "Batch calculation at epoch 90.: 4001it [07:58,  6.46it/s]"
     ]
    },
    {
     "name": "stdout",
     "output_type": "stream",
     "text": [
      "------------------------------------------------------------\n",
      "Epoch 90, batch 3999:\n",
      "Average original gradient norm: 1.6828021043539048 (over last 800 batches)\n",
      "Average clipped gradient norm: 1.667578081637621 (over last 800 batches)\n",
      "Running average global loss: 1.175466168001294 (over last 800 batches)\n",
      "Running average activity prediction loss: 0.3957237305492163 (Cross Entropy over last 800 batches)\n",
      "Running average time till next event prediction loss: 0.29470933493226764 (MAE over last 800 batches)\n",
      "Running average (complete) remaining runtime prediction loss: 0.48503310516476633 (MAE over last 800 batches)\n",
      "------------------------------------------------------------\n"
     ]
    },
    {
     "name": "stderr",
     "output_type": "stream",
     "text": [
      "Batch calculation at epoch 90.: 4295it [08:48,  8.13it/s]\n"
     ]
    },
    {
     "name": "stdout",
     "output_type": "stream",
     "text": [
      "=======================================\n",
      "End of epoch 90\n",
      "=======================================\n",
      "Running average global loss: 1.1808541497588159 (over last 800 batches)\n",
      "Running average activity prediction loss: 0.39752636160701516 (Cross Entropy over last 800 batches)\n",
      "Running average time till next event prediction loss: 0.295303199570626 (MAE over last 800 batches)\n",
      "Running average (complete) remaining runtime prediction loss: 0.48802458986639974 (MAE over last 800 batches)\n"
     ]
    },
    {
     "name": "stderr",
     "output_type": "stream",
     "text": [
      "Validation batch calculation: 20it [00:35,  1.77s/it]\n"
     ]
    },
    {
     "name": "stdout",
     "output_type": "stream",
     "text": [
      "Avg MAE TTNE prediction validation set: 0.4630723297595978 (standardized) ; 17083.533333333333 (minutes)'\n",
      "Avg 1-(normalized) DL distance acitivty suffix prediction validation set: 0.8433192372322083\n",
      "Percentage of suffixes predicted to END: too early - 0.2948766883780489 ; right moment - 0.6330940566630139 ; too late - 0.07202925495893717\n",
      "Too early instances - avg amount of events too early: 1.6604868173599243\n",
      "Too late instances - avg amount of events too late: 3.0611965656280518\n",
      "Avg absolute amount of events predicted too early / too late: 0.7101345658302307\n",
      "Avg MAE RRT prediction validation set: 0.6093332767486572 (standardized) ; 33242.32708333333 (minutes)'\n",
      " \n",
      "------------------------------------\n",
      "EPOCH 91:\n",
      "____________________________________\n"
     ]
    },
    {
     "name": "stderr",
     "output_type": "stream",
     "text": [
      "Batch calculation at epoch 91.: 801it [01:48,  9.24it/s]"
     ]
    },
    {
     "name": "stdout",
     "output_type": "stream",
     "text": [
      "------------------------------------------------------------\n",
      "Epoch 91, batch 799:\n",
      "Average original gradient norm: 1.704076192677021 (over last 800 batches)\n",
      "Average clipped gradient norm: 1.6882914800941944 (over last 800 batches)\n",
      "Running average global loss: 1.1821491234749555 (over last 800 batches)\n",
      "Running average activity prediction loss: 0.39649040017277004 (Cross Entropy over last 800 batches)\n",
      "Running average time till next event prediction loss: 0.29533534687012436 (MAE over last 800 batches)\n",
      "Running average (complete) remaining runtime prediction loss: 0.49032337572425605 (MAE over last 800 batches)\n",
      "------------------------------------------------------------\n"
     ]
    },
    {
     "name": "stderr",
     "output_type": "stream",
     "text": [
      "Batch calculation at epoch 91.: 1602it [03:42, 10.05it/s]"
     ]
    },
    {
     "name": "stdout",
     "output_type": "stream",
     "text": [
      "------------------------------------------------------------\n",
      "Epoch 91, batch 1599:\n",
      "Average original gradient norm: 1.6907151117920876 (over last 800 batches)\n",
      "Average clipped gradient norm: 1.6763568297028542 (over last 800 batches)\n",
      "Running average global loss: 1.1854431219398975 (over last 800 batches)\n",
      "Running average activity prediction loss: 0.40021095525473355 (Cross Entropy over last 800 batches)\n",
      "Running average time till next event prediction loss: 0.2964667988009751 (MAE over last 800 batches)\n",
      "Running average (complete) remaining runtime prediction loss: 0.48876536805182696 (MAE over last 800 batches)\n",
      "------------------------------------------------------------\n"
     ]
    },
    {
     "name": "stderr",
     "output_type": "stream",
     "text": [
      "Batch calculation at epoch 91.: 2401it [05:24,  5.75it/s]"
     ]
    },
    {
     "name": "stdout",
     "output_type": "stream",
     "text": [
      "------------------------------------------------------------\n",
      "Epoch 91, batch 2399:\n",
      "Average original gradient norm: 1.7026623913645744 (over last 800 batches)\n",
      "Average clipped gradient norm: 1.6878320737183095 (over last 800 batches)\n",
      "Running average global loss: 1.1785060445219278 (over last 800 batches)\n",
      "Running average activity prediction loss: 0.3965544329211116 (Cross Entropy over last 800 batches)\n",
      "Running average time till next event prediction loss: 0.2952747808210552 (MAE over last 800 batches)\n",
      "Running average (complete) remaining runtime prediction loss: 0.4866768325865269 (MAE over last 800 batches)\n",
      "------------------------------------------------------------\n"
     ]
    },
    {
     "name": "stderr",
     "output_type": "stream",
     "text": [
      "Batch calculation at epoch 91.: 3201it [07:20,  6.39it/s]"
     ]
    },
    {
     "name": "stdout",
     "output_type": "stream",
     "text": [
      "------------------------------------------------------------\n",
      "Epoch 91, batch 3199:\n",
      "Average original gradient norm: 1.6909453082084656 (over last 800 batches)\n",
      "Average clipped gradient norm: 1.67621039763093 (over last 800 batches)\n",
      "Running average global loss: 1.1816245751082897 (over last 800 batches)\n",
      "Running average activity prediction loss: 0.39774935588240623 (Cross Entropy over last 800 batches)\n",
      "Running average time till next event prediction loss: 0.29491054695099594 (MAE over last 800 batches)\n",
      "Running average (complete) remaining runtime prediction loss: 0.48896467316895725 (MAE over last 800 batches)\n",
      "------------------------------------------------------------\n"
     ]
    },
    {
     "name": "stderr",
     "output_type": "stream",
     "text": [
      "Batch calculation at epoch 91.: 4001it [09:14,  9.92it/s]"
     ]
    },
    {
     "name": "stdout",
     "output_type": "stream",
     "text": [
      "------------------------------------------------------------\n",
      "Epoch 91, batch 3999:\n",
      "Average original gradient norm: 1.6829129871726036 (over last 800 batches)\n",
      "Average clipped gradient norm: 1.6696776174008847 (over last 800 batches)\n",
      "Running average global loss: 1.1779286158829927 (over last 800 batches)\n",
      "Running average activity prediction loss: 0.3953660300374031 (Cross Entropy over last 800 batches)\n",
      "Running average time till next event prediction loss: 0.29545676935464144 (MAE over last 800 batches)\n",
      "Running average (complete) remaining runtime prediction loss: 0.48710581798106434 (MAE over last 800 batches)\n",
      "------------------------------------------------------------\n"
     ]
    },
    {
     "name": "stderr",
     "output_type": "stream",
     "text": [
      "Batch calculation at epoch 91.: 4295it [09:45,  7.34it/s]\n"
     ]
    },
    {
     "name": "stdout",
     "output_type": "stream",
     "text": [
      "=======================================\n",
      "End of epoch 91\n",
      "=======================================\n",
      "Running average global loss: 1.1771861941367388 (over last 800 batches)\n",
      "Running average activity prediction loss: 0.3946820307150483 (Cross Entropy over last 800 batches)\n",
      "Running average time till next event prediction loss: 0.2950896550156176 (MAE over last 800 batches)\n",
      "Running average (complete) remaining runtime prediction loss: 0.48741450875997544 (MAE over last 800 batches)\n"
     ]
    },
    {
     "name": "stderr",
     "output_type": "stream",
     "text": [
      "Validation batch calculation: 20it [00:34,  1.72s/it]\n"
     ]
    },
    {
     "name": "stdout",
     "output_type": "stream",
     "text": [
      "Avg MAE TTNE prediction validation set: 0.4644944369792938 (standardized) ; 17133.353125 (minutes)'\n",
      "Avg 1-(normalized) DL distance acitivty suffix prediction validation set: 0.843260645866394\n",
      "Percentage of suffixes predicted to END: too early - 0.2945196202765431 ; right moment - 0.6330940566630139 ; too late - 0.07238632306044301\n",
      "Too early instances - avg amount of events too early: 1.657232403755188\n",
      "Too late instances - avg amount of events too late: 3.11277437210083\n",
      "Avg absolute amount of events predicted too early / too late: 0.7134097814559937\n",
      "Avg MAE RRT prediction validation set: 0.6091765761375427 (standardized) ; 33233.816666666666 (minutes)'\n",
      " \n",
      "------------------------------------\n",
      "EPOCH 92:\n",
      "____________________________________\n"
     ]
    },
    {
     "name": "stderr",
     "output_type": "stream",
     "text": [
      "Batch calculation at epoch 92.: 801it [02:10,  8.17it/s]"
     ]
    },
    {
     "name": "stdout",
     "output_type": "stream",
     "text": [
      "------------------------------------------------------------\n",
      "Epoch 92, batch 799:\n",
      "Average original gradient norm: 1.7019204999506474 (over last 800 batches)\n",
      "Average clipped gradient norm: 1.683963523209095 (over last 800 batches)\n",
      "Running average global loss: 1.1823209600150586 (over last 800 batches)\n",
      "Running average activity prediction loss: 0.3983425237983465 (Cross Entropy over last 800 batches)\n",
      "Running average time till next event prediction loss: 0.2953960055671632 (MAE over last 800 batches)\n",
      "Running average (complete) remaining runtime prediction loss: 0.4885824313759804 (MAE over last 800 batches)\n",
      "------------------------------------------------------------\n"
     ]
    },
    {
     "name": "stderr",
     "output_type": "stream",
     "text": [
      "Batch calculation at epoch 92.: 1601it [04:16,  8.38it/s]"
     ]
    },
    {
     "name": "stdout",
     "output_type": "stream",
     "text": [
      "------------------------------------------------------------\n",
      "Epoch 92, batch 1599:\n",
      "Average original gradient norm: 1.6853321102261543 (over last 800 batches)\n",
      "Average clipped gradient norm: 1.6733974696695804 (over last 800 batches)\n",
      "Running average global loss: 1.1742261764407158 (over last 800 batches)\n",
      "Running average activity prediction loss: 0.3935218436457217 (Cross Entropy over last 800 batches)\n",
      "Running average time till next event prediction loss: 0.29533734327182176 (MAE over last 800 batches)\n",
      "Running average (complete) remaining runtime prediction loss: 0.4853669888153672 (MAE over last 800 batches)\n",
      "------------------------------------------------------------\n"
     ]
    },
    {
     "name": "stderr",
     "output_type": "stream",
     "text": [
      "Batch calculation at epoch 92.: 2401it [06:01,  5.69it/s]"
     ]
    },
    {
     "name": "stdout",
     "output_type": "stream",
     "text": [
      "------------------------------------------------------------\n",
      "Epoch 92, batch 2399:\n",
      "Average original gradient norm: 1.6978055787086488 (over last 800 batches)\n",
      "Average clipped gradient norm: 1.6817233389616013 (over last 800 batches)\n",
      "Running average global loss: 1.178039075806737 (over last 800 batches)\n",
      "Running average activity prediction loss: 0.39537504483014346 (Cross Entropy over last 800 batches)\n",
      "Running average time till next event prediction loss: 0.2955335286445916 (MAE over last 800 batches)\n",
      "Running average (complete) remaining runtime prediction loss: 0.4871305013075471 (MAE over last 800 batches)\n",
      "------------------------------------------------------------\n"
     ]
    },
    {
     "name": "stderr",
     "output_type": "stream",
     "text": [
      "Batch calculation at epoch 92.: 3201it [07:57,  7.00it/s]"
     ]
    },
    {
     "name": "stdout",
     "output_type": "stream",
     "text": [
      "------------------------------------------------------------\n",
      "Epoch 92, batch 3199:\n",
      "Average original gradient norm: 1.6945489786565304 (over last 800 batches)\n",
      "Average clipped gradient norm: 1.68049849614501 (over last 800 batches)\n",
      "Running average global loss: 1.1818085596710444 (over last 800 batches)\n",
      "Running average activity prediction loss: 0.39959005035459993 (Cross Entropy over last 800 batches)\n",
      "Running average time till next event prediction loss: 0.2937223443761468 (MAE over last 800 batches)\n",
      "Running average (complete) remaining runtime prediction loss: 0.48849616535007956 (MAE over last 800 batches)\n",
      "------------------------------------------------------------\n"
     ]
    },
    {
     "name": "stderr",
     "output_type": "stream",
     "text": [
      "Batch calculation at epoch 92.: 4001it [10:17,  6.36it/s]"
     ]
    },
    {
     "name": "stdout",
     "output_type": "stream",
     "text": [
      "------------------------------------------------------------\n",
      "Epoch 92, batch 3999:\n",
      "Average original gradient norm: 1.6975187377631664 (over last 800 batches)\n",
      "Average clipped gradient norm: 1.6834702889621258 (over last 800 batches)\n",
      "Running average global loss: 1.1822799035161733 (over last 800 batches)\n",
      "Running average activity prediction loss: 0.39650115109980105 (Cross Entropy over last 800 batches)\n",
      "Running average time till next event prediction loss: 0.29625987788662317 (MAE over last 800 batches)\n",
      "Running average (complete) remaining runtime prediction loss: 0.4895188708975911 (MAE over last 800 batches)\n",
      "------------------------------------------------------------\n"
     ]
    },
    {
     "name": "stderr",
     "output_type": "stream",
     "text": [
      "Batch calculation at epoch 92.: 4295it [11:12,  6.38it/s]\n"
     ]
    },
    {
     "name": "stdout",
     "output_type": "stream",
     "text": [
      "=======================================\n",
      "End of epoch 92\n",
      "=======================================\n",
      "Running average global loss: 1.180175072774291 (over last 800 batches)\n",
      "Running average activity prediction loss: 0.3974888148158789 (Cross Entropy over last 800 batches)\n",
      "Running average time till next event prediction loss: 0.2957639125175774 (MAE over last 800 batches)\n",
      "Running average (complete) remaining runtime prediction loss: 0.48692234337329865 (MAE over last 800 batches)\n"
     ]
    },
    {
     "name": "stderr",
     "output_type": "stream",
     "text": [
      "Validation batch calculation: 20it [00:51,  2.59s/it]\n"
     ]
    },
    {
     "name": "stdout",
     "output_type": "stream",
     "text": [
      "Avg MAE TTNE prediction validation set: 0.464091032743454 (standardized) ; 17114.230208333334 (minutes)'\n",
      "Avg 1-(normalized) DL distance acitivty suffix prediction validation set: 0.8432115912437439\n",
      "Percentage of suffixes predicted to END: too early - 0.29439649334498935 ; right moment - 0.632995555117771 ; too late - 0.07260795153723974\n",
      "Too early instances - avg amount of events too early: 1.6568800210952759\n",
      "Too late instances - avg amount of events too late: 3.119382619857788\n",
      "Avg absolute amount of events predicted too early / too late: 0.7142716646194458\n",
      "Avg MAE RRT prediction validation set: 0.609043300151825 (standardized) ; 33225.7875 (minutes)'\n",
      " \n",
      "------------------------------------\n",
      "EPOCH 93:\n",
      "____________________________________\n"
     ]
    },
    {
     "name": "stderr",
     "output_type": "stream",
     "text": [
      "Batch calculation at epoch 93.: 801it [01:50,  8.45it/s]"
     ]
    },
    {
     "name": "stdout",
     "output_type": "stream",
     "text": [
      "------------------------------------------------------------\n",
      "Epoch 93, batch 799:\n",
      "Average original gradient norm: 1.6919754700362681 (over last 800 batches)\n",
      "Average clipped gradient norm: 1.6769977578520774 (over last 800 batches)\n",
      "Running average global loss: 1.179929627329111 (over last 800 batches)\n",
      "Running average activity prediction loss: 0.3961220645532012 (Cross Entropy over last 800 batches)\n",
      "Running average time till next event prediction loss: 0.2946875853650272 (MAE over last 800 batches)\n",
      "Running average (complete) remaining runtime prediction loss: 0.4891199779137969 (MAE over last 800 batches)\n",
      "------------------------------------------------------------\n"
     ]
    },
    {
     "name": "stderr",
     "output_type": "stream",
     "text": [
      "Batch calculation at epoch 93.: 1601it [03:39,  6.80it/s]"
     ]
    },
    {
     "name": "stdout",
     "output_type": "stream",
     "text": [
      "------------------------------------------------------------\n",
      "Epoch 93, batch 1599:\n",
      "Average original gradient norm: 1.6794398348033428 (over last 800 batches)\n",
      "Average clipped gradient norm: 1.667250030040741 (over last 800 batches)\n",
      "Running average global loss: 1.1781813336908817 (over last 800 batches)\n",
      "Running average activity prediction loss: 0.39567857794463634 (Cross Entropy over last 800 batches)\n",
      "Running average time till next event prediction loss: 0.29479217290878296 (MAE over last 800 batches)\n",
      "Running average (complete) remaining runtime prediction loss: 0.4877105804905295 (MAE over last 800 batches)\n",
      "------------------------------------------------------------\n"
     ]
    },
    {
     "name": "stderr",
     "output_type": "stream",
     "text": [
      "Batch calculation at epoch 93.: 2401it [06:03,  7.89it/s]"
     ]
    },
    {
     "name": "stdout",
     "output_type": "stream",
     "text": [
      "------------------------------------------------------------\n",
      "Epoch 93, batch 2399:\n",
      "Average original gradient norm: 1.7003350976109504 (over last 800 batches)\n",
      "Average clipped gradient norm: 1.6865593719482421 (over last 800 batches)\n",
      "Running average global loss: 1.1769031323492527 (over last 800 batches)\n",
      "Running average activity prediction loss: 0.3959890378639102 (Cross Entropy over last 800 batches)\n",
      "Running average time till next event prediction loss: 0.2944927711598575 (MAE over last 800 batches)\n",
      "Running average (complete) remaining runtime prediction loss: 0.48642132338136435 (MAE over last 800 batches)\n",
      "------------------------------------------------------------\n"
     ]
    },
    {
     "name": "stderr",
     "output_type": "stream",
     "text": [
      "Batch calculation at epoch 93.: 3201it [08:31,  4.99it/s]"
     ]
    },
    {
     "name": "stdout",
     "output_type": "stream",
     "text": [
      "------------------------------------------------------------\n",
      "Epoch 93, batch 3199:\n",
      "Average original gradient norm: 1.6924671475589275 (over last 800 batches)\n",
      "Average clipped gradient norm: 1.6781390568614005 (over last 800 batches)\n",
      "Running average global loss: 1.1806185590475797 (over last 800 batches)\n",
      "Running average activity prediction loss: 0.3989181641489267 (Cross Entropy over last 800 batches)\n",
      "Running average time till next event prediction loss: 0.2951823139563203 (MAE over last 800 batches)\n",
      "Running average (complete) remaining runtime prediction loss: 0.48651807934045793 (MAE over last 800 batches)\n",
      "------------------------------------------------------------\n"
     ]
    },
    {
     "name": "stderr",
     "output_type": "stream",
     "text": [
      "Batch calculation at epoch 93.: 4001it [10:18,  9.34it/s]"
     ]
    },
    {
     "name": "stdout",
     "output_type": "stream",
     "text": [
      "------------------------------------------------------------\n",
      "Epoch 93, batch 3999:\n",
      "Average original gradient norm: 1.7207952737808228 (over last 800 batches)\n",
      "Average clipped gradient norm: 1.7001985776424409 (over last 800 batches)\n",
      "Running average global loss: 1.1835279659181834 (over last 800 batches)\n",
      "Running average activity prediction loss: 0.3966627338901162 (Cross Entropy over last 800 batches)\n",
      "Running average time till next event prediction loss: 0.29685455814003947 (MAE over last 800 batches)\n",
      "Running average (complete) remaining runtime prediction loss: 0.4900106741115451 (MAE over last 800 batches)\n",
      "------------------------------------------------------------\n"
     ]
    },
    {
     "name": "stderr",
     "output_type": "stream",
     "text": [
      "Batch calculation at epoch 93.: 4295it [11:07,  6.43it/s]\n"
     ]
    },
    {
     "name": "stdout",
     "output_type": "stream",
     "text": [
      "=======================================\n",
      "End of epoch 93\n",
      "=======================================\n",
      "Running average global loss: 1.1810327192395926 (over last 800 batches)\n",
      "Running average activity prediction loss: 0.39705987211316823 (Cross Entropy over last 800 batches)\n",
      "Running average time till next event prediction loss: 0.296183808632195 (MAE over last 800 batches)\n",
      "Running average (complete) remaining runtime prediction loss: 0.48778903916478156 (MAE over last 800 batches)\n"
     ]
    },
    {
     "name": "stderr",
     "output_type": "stream",
     "text": [
      "Validation batch calculation: 20it [00:49,  2.48s/it]\n"
     ]
    },
    {
     "name": "stdout",
     "output_type": "stream",
     "text": [
      "Avg MAE TTNE prediction validation set: 0.4644891023635864 (standardized) ; 17131.236458333333 (minutes)'\n",
      "Avg 1-(normalized) DL distance acitivty suffix prediction validation set: 0.843291163444519\n",
      "Percentage of suffixes predicted to END: too early - 0.29485206299173816 ; right moment - 0.6329463043451494 ; too late - 0.0722016326631124\n",
      "Too early instances - avg amount of events too early: 1.6591639518737793\n",
      "Too late instances - avg amount of events too late: 3.0798089504241943\n",
      "Avg absolute amount of events predicted too early / too late: 0.7115751504898071\n",
      "Avg MAE RRT prediction validation set: 0.6089498996734619 (standardized) ; 33223.16875 (minutes)'\n",
      " \n",
      "------------------------------------\n",
      "EPOCH 94:\n",
      "____________________________________\n"
     ]
    },
    {
     "name": "stderr",
     "output_type": "stream",
     "text": [
      "Batch calculation at epoch 94.: 801it [02:12,  8.81it/s]"
     ]
    },
    {
     "name": "stdout",
     "output_type": "stream",
     "text": [
      "------------------------------------------------------------\n",
      "Epoch 94, batch 799:\n",
      "Average original gradient norm: 1.6826580367982387 (over last 800 batches)\n",
      "Average clipped gradient norm: 1.6705160644650459 (over last 800 batches)\n",
      "Running average global loss: 1.1830243568867445 (over last 800 batches)\n",
      "Running average activity prediction loss: 0.39731677586212755 (Cross Entropy over last 800 batches)\n",
      "Running average time till next event prediction loss: 0.29569505324587225 (MAE over last 800 batches)\n",
      "Running average (complete) remaining runtime prediction loss: 0.4900125288963318 (MAE over last 800 batches)\n",
      "------------------------------------------------------------\n"
     ]
    },
    {
     "name": "stderr",
     "output_type": "stream",
     "text": [
      "Batch calculation at epoch 94.: 1600it [04:00,  6.10it/s]"
     ]
    },
    {
     "name": "stdout",
     "output_type": "stream",
     "text": [
      "------------------------------------------------------------\n",
      "Epoch 94, batch 1599:\n",
      "Average original gradient norm: 1.6855189481377602 (over last 800 batches)\n",
      "Average clipped gradient norm: 1.6751292495429515 (over last 800 batches)\n",
      "Running average global loss: 1.1830191420018672 (over last 800 batches)\n",
      "Running average activity prediction loss: 0.39813625227659943 (Cross Entropy over last 800 batches)\n",
      "Running average time till next event prediction loss: 0.296380015257746 (MAE over last 800 batches)\n",
      "Running average (complete) remaining runtime prediction loss: 0.48850287407636644 (MAE over last 800 batches)\n",
      "------------------------------------------------------------\n"
     ]
    },
    {
     "name": "stderr",
     "output_type": "stream",
     "text": [
      "Batch calculation at epoch 94.: 2401it [05:54,  9.16it/s]"
     ]
    },
    {
     "name": "stdout",
     "output_type": "stream",
     "text": [
      "------------------------------------------------------------\n",
      "Epoch 94, batch 2399:\n",
      "Average original gradient norm: 1.6918852305412293 (over last 800 batches)\n",
      "Average clipped gradient norm: 1.6773556330800057 (over last 800 batches)\n",
      "Running average global loss: 1.1784581166505814 (over last 800 batches)\n",
      "Running average activity prediction loss: 0.39727571364492176 (Cross Entropy over last 800 batches)\n",
      "Running average time till next event prediction loss: 0.294097586683929 (MAE over last 800 batches)\n",
      "Running average (complete) remaining runtime prediction loss: 0.487084816172719 (MAE over last 800 batches)\n",
      "------------------------------------------------------------\n"
     ]
    },
    {
     "name": "stderr",
     "output_type": "stream",
     "text": [
      "Batch calculation at epoch 94.: 3201it [07:16, 12.82it/s]"
     ]
    },
    {
     "name": "stdout",
     "output_type": "stream",
     "text": [
      "------------------------------------------------------------\n",
      "Epoch 94, batch 3199:\n",
      "Average original gradient norm: 1.6977399653196334 (over last 800 batches)\n",
      "Average clipped gradient norm: 1.681889009028673 (over last 800 batches)\n",
      "Running average global loss: 1.1809575356543065 (over last 800 batches)\n",
      "Running average activity prediction loss: 0.39853620026260617 (Cross Entropy over last 800 batches)\n",
      "Running average time till next event prediction loss: 0.2953304100781679 (MAE over last 800 batches)\n",
      "Running average (complete) remaining runtime prediction loss: 0.4870909229293466 (MAE over last 800 batches)\n",
      "------------------------------------------------------------\n"
     ]
    },
    {
     "name": "stderr",
     "output_type": "stream",
     "text": [
      "Batch calculation at epoch 94.: 4001it [08:55,  7.80it/s]"
     ]
    },
    {
     "name": "stdout",
     "output_type": "stream",
     "text": [
      "------------------------------------------------------------\n",
      "Epoch 94, batch 3999:\n",
      "Average original gradient norm: 1.6948058900237084 (over last 800 batches)\n",
      "Average clipped gradient norm: 1.6800998401641847 (over last 800 batches)\n",
      "Running average global loss: 1.177324976325035 (over last 800 batches)\n",
      "Running average activity prediction loss: 0.39404703319072726 (Cross Entropy over last 800 batches)\n",
      "Running average time till next event prediction loss: 0.2957437181659043 (MAE over last 800 batches)\n",
      "Running average (complete) remaining runtime prediction loss: 0.48753422532230617 (MAE over last 800 batches)\n",
      "------------------------------------------------------------\n"
     ]
    },
    {
     "name": "stderr",
     "output_type": "stream",
     "text": [
      "Batch calculation at epoch 94.: 4295it [09:31,  7.51it/s]\n"
     ]
    },
    {
     "name": "stdout",
     "output_type": "stream",
     "text": [
      "=======================================\n",
      "End of epoch 94\n",
      "=======================================\n",
      "Running average global loss: 1.1767203365266323 (over last 800 batches)\n",
      "Running average activity prediction loss: 0.39495520835742354 (Cross Entropy over last 800 batches)\n",
      "Running average time till next event prediction loss: 0.29504523186013104 (MAE over last 800 batches)\n",
      "Running average (complete) remaining runtime prediction loss: 0.48671989552676675 (MAE over last 800 batches)\n"
     ]
    },
    {
     "name": "stderr",
     "output_type": "stream",
     "text": [
      "Validation batch calculation: 20it [00:28,  1.44s/it]\n"
     ]
    },
    {
     "name": "stdout",
     "output_type": "stream",
     "text": [
      "Avg MAE TTNE prediction validation set: 0.4642315208911896 (standardized) ; 17122.5375 (minutes)'\n",
      "Avg 1-(normalized) DL distance acitivty suffix prediction validation set: 0.8431292772293091\n",
      "Percentage of suffixes predicted to END: too early - 0.29402711255032815 ; right moment - 0.632933991651994 ; too late - 0.07303889579767782\n",
      "Too early instances - avg amount of events too early: 1.65510892868042\n",
      "Too late instances - avg amount of events too late: 3.15981125831604\n",
      "Avg absolute amount of events predicted too early / too late: 0.7174360156059265\n",
      "Avg MAE RRT prediction validation set: 0.6093531847000122 (standardized) ; 33242.479166666664 (minutes)'\n",
      " \n",
      "------------------------------------\n",
      "EPOCH 95:\n",
      "____________________________________\n"
     ]
    },
    {
     "name": "stderr",
     "output_type": "stream",
     "text": [
      "Batch calculation at epoch 95.: 802it [01:35, 11.43it/s]"
     ]
    },
    {
     "name": "stdout",
     "output_type": "stream",
     "text": [
      "------------------------------------------------------------\n",
      "Epoch 95, batch 799:\n",
      "Average original gradient norm: 1.6952212786674499 (over last 800 batches)\n",
      "Average clipped gradient norm: 1.6817780922353267 (over last 800 batches)\n",
      "Running average global loss: 1.1775325371325016 (over last 800 batches)\n",
      "Running average activity prediction loss: 0.3969789920374751 (Cross Entropy over last 800 batches)\n",
      "Running average time till next event prediction loss: 0.29470157738775016 (MAE over last 800 batches)\n",
      "Running average (complete) remaining runtime prediction loss: 0.48585196781903506 (MAE over last 800 batches)\n",
      "------------------------------------------------------------\n"
     ]
    },
    {
     "name": "stderr",
     "output_type": "stream",
     "text": [
      "Batch calculation at epoch 95.: 1601it [02:46, 11.80it/s]"
     ]
    },
    {
     "name": "stdout",
     "output_type": "stream",
     "text": [
      "------------------------------------------------------------\n",
      "Epoch 95, batch 1599:\n",
      "Average original gradient norm: 1.6913080763816835 (over last 800 batches)\n",
      "Average clipped gradient norm: 1.6782090838253498 (over last 800 batches)\n",
      "Running average global loss: 1.1849581811577081 (over last 800 batches)\n",
      "Running average activity prediction loss: 0.40004861980676654 (Cross Entropy over last 800 batches)\n",
      "Running average time till next event prediction loss: 0.29579652097076176 (MAE over last 800 batches)\n",
      "Running average (complete) remaining runtime prediction loss: 0.4891130404546857 (MAE over last 800 batches)\n",
      "------------------------------------------------------------\n"
     ]
    },
    {
     "name": "stderr",
     "output_type": "stream",
     "text": [
      "Batch calculation at epoch 95.: 2401it [04:16, 13.10it/s]"
     ]
    },
    {
     "name": "stdout",
     "output_type": "stream",
     "text": [
      "------------------------------------------------------------\n",
      "Epoch 95, batch 2399:\n",
      "Average original gradient norm: 1.6897301477193833 (over last 800 batches)\n",
      "Average clipped gradient norm: 1.6758380056917668 (over last 800 batches)\n",
      "Running average global loss: 1.1782783054560424 (over last 800 batches)\n",
      "Running average activity prediction loss: 0.3965560584515333 (Cross Entropy over last 800 batches)\n",
      "Running average time till next event prediction loss: 0.2951320826075971 (MAE over last 800 batches)\n",
      "Running average (complete) remaining runtime prediction loss: 0.48659016624093054 (MAE over last 800 batches)\n",
      "------------------------------------------------------------\n"
     ]
    },
    {
     "name": "stderr",
     "output_type": "stream",
     "text": [
      "Batch calculation at epoch 95.: 3201it [05:33,  7.62it/s]"
     ]
    },
    {
     "name": "stdout",
     "output_type": "stream",
     "text": [
      "------------------------------------------------------------\n",
      "Epoch 95, batch 3199:\n",
      "Average original gradient norm: 1.6897325812280177 (over last 800 batches)\n",
      "Average clipped gradient norm: 1.679053751975298 (over last 800 batches)\n",
      "Running average global loss: 1.180204514861107 (over last 800 batches)\n",
      "Running average activity prediction loss: 0.3958938771486282 (Cross Entropy over last 800 batches)\n",
      "Running average time till next event prediction loss: 0.29567008357495067 (MAE over last 800 batches)\n",
      "Running average (complete) remaining runtime prediction loss: 0.4886405538395047 (MAE over last 800 batches)\n",
      "------------------------------------------------------------\n"
     ]
    },
    {
     "name": "stderr",
     "output_type": "stream",
     "text": [
      "Batch calculation at epoch 95.: 4001it [06:51,  8.56it/s]"
     ]
    },
    {
     "name": "stdout",
     "output_type": "stream",
     "text": [
      "------------------------------------------------------------\n",
      "Epoch 95, batch 3999:\n",
      "Average original gradient norm: 1.7048815773427486 (over last 800 batches)\n",
      "Average clipped gradient norm: 1.6870122449100018 (over last 800 batches)\n",
      "Running average global loss: 1.1829248371720313 (over last 800 batches)\n",
      "Running average activity prediction loss: 0.39668907765299083 (Cross Entropy over last 800 batches)\n",
      "Running average time till next event prediction loss: 0.29578681809827684 (MAE over last 800 batches)\n",
      "Running average (complete) remaining runtime prediction loss: 0.4904489417746663 (MAE over last 800 batches)\n",
      "------------------------------------------------------------\n"
     ]
    },
    {
     "name": "stderr",
     "output_type": "stream",
     "text": [
      "Batch calculation at epoch 95.: 4295it [07:21,  9.73it/s]\n"
     ]
    },
    {
     "name": "stdout",
     "output_type": "stream",
     "text": [
      "=======================================\n",
      "End of epoch 95\n",
      "=======================================\n",
      "Running average global loss: 1.1811205891519785 (over last 800 batches)\n",
      "Running average activity prediction loss: 0.39636675745248795 (Cross Entropy over last 800 batches)\n",
      "Running average time till next event prediction loss: 0.29564097959548236 (MAE over last 800 batches)\n",
      "Running average (complete) remaining runtime prediction loss: 0.489112851023674 (MAE over last 800 batches)\n"
     ]
    },
    {
     "name": "stderr",
     "output_type": "stream",
     "text": [
      "Validation batch calculation: 20it [00:31,  1.59s/it]\n"
     ]
    },
    {
     "name": "stdout",
     "output_type": "stream",
     "text": [
      "Avg MAE TTNE prediction validation set: 0.4632560908794403 (standardized) ; 17088.042708333334 (minutes)'\n",
      "Avg 1-(normalized) DL distance acitivty suffix prediction validation set: 0.8435572981834412\n",
      "Percentage of suffixes predicted to END: too early - 0.29539382149057464 ; right moment - 0.6332664343671891 ; too late - 0.07133974414223623\n",
      "Too early instances - avg amount of events too early: 1.6617064476013184\n",
      "Too late instances - avg amount of events too late: 3.048325777053833\n",
      "Avg absolute amount of events predicted too early / too late: 0.7083246111869812\n",
      "Avg MAE RRT prediction validation set: 0.6091582179069519 (standardized) ; 33232.43125 (minutes)'\n",
      " \n",
      "------------------------------------\n",
      "EPOCH 96:\n",
      "____________________________________\n"
     ]
    },
    {
     "name": "stderr",
     "output_type": "stream",
     "text": [
      "Batch calculation at epoch 96.: 802it [01:51,  9.29it/s]"
     ]
    },
    {
     "name": "stdout",
     "output_type": "stream",
     "text": [
      "------------------------------------------------------------\n",
      "Epoch 96, batch 799:\n",
      "Average original gradient norm: 1.6989674238860608 (over last 800 batches)\n",
      "Average clipped gradient norm: 1.6817420834302903 (over last 800 batches)\n",
      "Running average global loss: 1.1818254455924033 (over last 800 batches)\n",
      "Running average activity prediction loss: 0.39831093277782204 (Cross Entropy over last 800 batches)\n",
      "Running average time till next event prediction loss: 0.29441981224343183 (MAE over last 800 batches)\n",
      "Running average (complete) remaining runtime prediction loss: 0.48909469939768313 (MAE over last 800 batches)\n",
      "------------------------------------------------------------\n"
     ]
    },
    {
     "name": "stderr",
     "output_type": "stream",
     "text": [
      "Batch calculation at epoch 96.: 1601it [03:36,  7.27it/s]"
     ]
    },
    {
     "name": "stdout",
     "output_type": "stream",
     "text": [
      "------------------------------------------------------------\n",
      "Epoch 96, batch 1599:\n",
      "Average original gradient norm: 1.6985710164904595 (over last 800 batches)\n",
      "Average clipped gradient norm: 1.684029939621687 (over last 800 batches)\n",
      "Running average global loss: 1.1774054405093193 (over last 800 batches)\n",
      "Running average activity prediction loss: 0.39683806896209717 (Cross Entropy over last 800 batches)\n",
      "Running average time till next event prediction loss: 0.29530385794118047 (MAE over last 800 batches)\n",
      "Running average (complete) remaining runtime prediction loss: 0.485263514816761 (MAE over last 800 batches)\n",
      "------------------------------------------------------------\n"
     ]
    },
    {
     "name": "stderr",
     "output_type": "stream",
     "text": [
      "Batch calculation at epoch 96.: 2401it [05:29, 10.59it/s]"
     ]
    },
    {
     "name": "stdout",
     "output_type": "stream",
     "text": [
      "------------------------------------------------------------\n",
      "Epoch 96, batch 2399:\n",
      "Average original gradient norm: 1.6893701224029065 (over last 800 batches)\n",
      "Average clipped gradient norm: 1.6758745171129703 (over last 800 batches)\n",
      "Running average global loss: 1.1781598025560378 (over last 800 batches)\n",
      "Running average activity prediction loss: 0.39528272062540054 (Cross Entropy over last 800 batches)\n",
      "Running average time till next event prediction loss: 0.2953189808875322 (MAE over last 800 batches)\n",
      "Running average (complete) remaining runtime prediction loss: 0.48755810178816317 (MAE over last 800 batches)\n",
      "------------------------------------------------------------\n"
     ]
    },
    {
     "name": "stderr",
     "output_type": "stream",
     "text": [
      "Batch calculation at epoch 96.: 3201it [06:49, 11.48it/s]"
     ]
    },
    {
     "name": "stdout",
     "output_type": "stream",
     "text": [
      "------------------------------------------------------------\n",
      "Epoch 96, batch 3199:\n",
      "Average original gradient norm: 1.6981302584707736 (over last 800 batches)\n",
      "Average clipped gradient norm: 1.684940909743309 (over last 800 batches)\n",
      "Running average global loss: 1.1784997020661832 (over last 800 batches)\n",
      "Running average activity prediction loss: 0.3949273130297661 (Cross Entropy over last 800 batches)\n",
      "Running average time till next event prediction loss: 0.2958441090025008 (MAE over last 800 batches)\n",
      "Running average (complete) remaining runtime prediction loss: 0.4877282794564962 (MAE over last 800 batches)\n",
      "------------------------------------------------------------\n"
     ]
    },
    {
     "name": "stderr",
     "output_type": "stream",
     "text": [
      "Batch calculation at epoch 96.: 4001it [08:17,  6.91it/s]"
     ]
    },
    {
     "name": "stdout",
     "output_type": "stream",
     "text": [
      "------------------------------------------------------------\n",
      "Epoch 96, batch 3999:\n",
      "Average original gradient norm: 1.694011412411928 (over last 800 batches)\n",
      "Average clipped gradient norm: 1.679864671677351 (over last 800 batches)\n",
      "Running average global loss: 1.1844742949306966 (over last 800 batches)\n",
      "Running average activity prediction loss: 0.39954688865691423 (Cross Entropy over last 800 batches)\n",
      "Running average time till next event prediction loss: 0.2949493908137083 (MAE over last 800 batches)\n",
      "Running average (complete) remaining runtime prediction loss: 0.4899780174717307 (MAE over last 800 batches)\n",
      "------------------------------------------------------------\n"
     ]
    },
    {
     "name": "stderr",
     "output_type": "stream",
     "text": [
      "Batch calculation at epoch 96.: 4295it [09:08,  7.83it/s]\n"
     ]
    },
    {
     "name": "stdout",
     "output_type": "stream",
     "text": [
      "=======================================\n",
      "End of epoch 96\n",
      "=======================================\n",
      "Running average global loss: 1.1803757034242153 (over last 800 batches)\n",
      "Running average activity prediction loss: 0.3969941468536854 (Cross Entropy over last 800 batches)\n",
      "Running average time till next event prediction loss: 0.29473783964291217 (MAE over last 800 batches)\n",
      "Running average (complete) remaining runtime prediction loss: 0.4886437173560262 (MAE over last 800 batches)\n"
     ]
    },
    {
     "name": "stderr",
     "output_type": "stream",
     "text": [
      "Validation batch calculation: 20it [00:32,  1.62s/it]\n"
     ]
    },
    {
     "name": "stdout",
     "output_type": "stream",
     "text": [
      "Avg MAE TTNE prediction validation set: 0.4642440378665924 (standardized) ; 17123.204166666666 (minutes)'\n",
      "Avg 1-(normalized) DL distance acitivty suffix prediction validation set: 0.8434721827507019\n",
      "Percentage of suffixes predicted to END: too early - 0.29492593915067045 ; right moment - 0.633229496287723 ; too late - 0.07184456456160657\n",
      "Too early instances - avg amount of events too early: 1.6599173545837402\n",
      "Too late instances - avg amount of events too late: 3.071979522705078\n",
      "Avg absolute amount of events predicted too early / too late: 0.7102577090263367\n",
      "Avg MAE RRT prediction validation set: 0.6087117195129395 (standardized) ; 33210.691666666666 (minutes)'\n",
      " \n",
      "------------------------------------\n",
      "EPOCH 97:\n",
      "____________________________________\n"
     ]
    },
    {
     "name": "stderr",
     "output_type": "stream",
     "text": [
      "Batch calculation at epoch 97.: 801it [01:31,  6.04it/s]"
     ]
    },
    {
     "name": "stdout",
     "output_type": "stream",
     "text": [
      "------------------------------------------------------------\n",
      "Epoch 97, batch 799:\n",
      "Average original gradient norm: 1.6980505961179733 (over last 800 batches)\n",
      "Average clipped gradient norm: 1.6777218551933766 (over last 800 batches)\n",
      "Running average global loss: 1.1792654473334552 (over last 800 batches)\n",
      "Running average activity prediction loss: 0.39772593848407267 (Cross Entropy over last 800 batches)\n",
      "Running average time till next event prediction loss: 0.2945928926765919 (MAE over last 800 batches)\n",
      "Running average (complete) remaining runtime prediction loss: 0.48694661907851694 (MAE over last 800 batches)\n",
      "------------------------------------------------------------\n"
     ]
    },
    {
     "name": "stderr",
     "output_type": "stream",
     "text": [
      "Batch calculation at epoch 97.: 1602it [03:01, 10.93it/s]"
     ]
    },
    {
     "name": "stdout",
     "output_type": "stream",
     "text": [
      "------------------------------------------------------------\n",
      "Epoch 97, batch 1599:\n",
      "Average original gradient norm: 1.6980394254624844 (over last 800 batches)\n",
      "Average clipped gradient norm: 1.6839469462633132 (over last 800 batches)\n",
      "Running average global loss: 1.1796228240430355 (over last 800 batches)\n",
      "Running average activity prediction loss: 0.39610963154584167 (Cross Entropy over last 800 batches)\n",
      "Running average time till next event prediction loss: 0.295516430940479 (MAE over last 800 batches)\n",
      "Running average (complete) remaining runtime prediction loss: 0.4879967623576522 (MAE over last 800 batches)\n",
      "------------------------------------------------------------\n"
     ]
    },
    {
     "name": "stderr",
     "output_type": "stream",
     "text": [
      "Batch calculation at epoch 97.: 2401it [04:31,  8.48it/s]"
     ]
    },
    {
     "name": "stdout",
     "output_type": "stream",
     "text": [
      "------------------------------------------------------------\n",
      "Epoch 97, batch 2399:\n",
      "Average original gradient norm: 1.6815642765164376 (over last 800 batches)\n",
      "Average clipped gradient norm: 1.6682747177779675 (over last 800 batches)\n",
      "Running average global loss: 1.1808681344985963 (over last 800 batches)\n",
      "Running average activity prediction loss: 0.3970832064002752 (Cross Entropy over last 800 batches)\n",
      "Running average time till next event prediction loss: 0.29584051605314016 (MAE over last 800 batches)\n",
      "Running average (complete) remaining runtime prediction loss: 0.4879444117844105 (MAE over last 800 batches)\n",
      "------------------------------------------------------------\n"
     ]
    },
    {
     "name": "stderr",
     "output_type": "stream",
     "text": [
      "Batch calculation at epoch 97.: 3201it [06:26,  6.35it/s]"
     ]
    },
    {
     "name": "stdout",
     "output_type": "stream",
     "text": [
      "------------------------------------------------------------\n",
      "Epoch 97, batch 3199:\n",
      "Average original gradient norm: 1.697701276242733 (over last 800 batches)\n",
      "Average clipped gradient norm: 1.6857398383319377 (over last 800 batches)\n",
      "Running average global loss: 1.1795688601583243 (over last 800 batches)\n",
      "Running average activity prediction loss: 0.3966192888095975 (Cross Entropy over last 800 batches)\n",
      "Running average time till next event prediction loss: 0.2950418081693351 (MAE over last 800 batches)\n",
      "Running average (complete) remaining runtime prediction loss: 0.48790776420384646 (MAE over last 800 batches)\n",
      "------------------------------------------------------------\n"
     ]
    },
    {
     "name": "stderr",
     "output_type": "stream",
     "text": [
      "Batch calculation at epoch 97.: 4000it [08:19, 10.17it/s]"
     ]
    },
    {
     "name": "stdout",
     "output_type": "stream",
     "text": [
      "------------------------------------------------------------\n",
      "Epoch 97, batch 3999:\n",
      "Average original gradient norm: 1.6955954205989838 (over last 800 batches)\n",
      "Average clipped gradient norm: 1.6841304092109204 (over last 800 batches)\n",
      "Running average global loss: 1.180818677470088 (over last 800 batches)\n",
      "Running average activity prediction loss: 0.3962309484183788 (Cross Entropy over last 800 batches)\n",
      "Running average time till next event prediction loss: 0.2953493675403297 (MAE over last 800 batches)\n",
      "Running average (complete) remaining runtime prediction loss: 0.4892383613809943 (MAE over last 800 batches)\n",
      "------------------------------------------------------------\n"
     ]
    },
    {
     "name": "stderr",
     "output_type": "stream",
     "text": [
      "Batch calculation at epoch 97.: 4295it [08:54,  8.04it/s]\n"
     ]
    },
    {
     "name": "stdout",
     "output_type": "stream",
     "text": [
      "=======================================\n",
      "End of epoch 97\n",
      "=======================================\n",
      "Running average global loss: 1.1806058798730374 (over last 800 batches)\n",
      "Running average activity prediction loss: 0.3974735249765217 (Cross Entropy over last 800 batches)\n",
      "Running average time till next event prediction loss: 0.29530888026580215 (MAE over last 800 batches)\n",
      "Running average (complete) remaining runtime prediction loss: 0.48782347481697796 (MAE over last 800 batches)\n"
     ]
    },
    {
     "name": "stderr",
     "output_type": "stream",
     "text": [
      "Validation batch calculation: 20it [00:50,  2.53s/it]\n"
     ]
    },
    {
     "name": "stdout",
     "output_type": "stream",
     "text": [
      "Avg MAE TTNE prediction validation set: 0.4629198908805847 (standardized) ; 17074.8625 (minutes)'\n",
      "Avg 1-(normalized) DL distance acitivty suffix prediction validation set: 0.8435612916946411\n",
      "Percentage of suffixes predicted to END: too early - 0.2951229422411564 ; right moment - 0.6333526232192768 ; too late - 0.07152443453956683\n",
      "Too early instances - avg amount of events too early: 1.65976881980896\n",
      "Too late instances - avg amount of events too late: 3.067481517791748\n",
      "Avg absolute amount of events predicted too early / too late: 0.7092357277870178\n",
      "Avg MAE RRT prediction validation set: 0.6084789633750916 (standardized) ; 33193.85833333333 (minutes)'\n",
      " \n",
      "------------------------------------\n",
      "EPOCH 98:\n",
      "____________________________________\n"
     ]
    },
    {
     "name": "stderr",
     "output_type": "stream",
     "text": [
      "Batch calculation at epoch 98.: 801it [02:33,  6.10it/s]"
     ]
    },
    {
     "name": "stdout",
     "output_type": "stream",
     "text": [
      "------------------------------------------------------------\n",
      "Epoch 98, batch 799:\n",
      "Average original gradient norm: 1.686932906806469 (over last 800 batches)\n",
      "Average clipped gradient norm: 1.6708061656355857 (over last 800 batches)\n",
      "Running average global loss: 1.1809905108064414 (over last 800 batches)\n",
      "Running average activity prediction loss: 0.39566405791789294 (Cross Entropy over last 800 batches)\n",
      "Running average time till next event prediction loss: 0.29566173305734994 (MAE over last 800 batches)\n",
      "Running average (complete) remaining runtime prediction loss: 0.4896647187322378 (MAE over last 800 batches)\n",
      "------------------------------------------------------------\n"
     ]
    },
    {
     "name": "stderr",
     "output_type": "stream",
     "text": [
      "Batch calculation at epoch 98.: 1601it [04:49,  8.17it/s]"
     ]
    },
    {
     "name": "stdout",
     "output_type": "stream",
     "text": [
      "------------------------------------------------------------\n",
      "Epoch 98, batch 1599:\n",
      "Average original gradient norm: 1.7091304980218411 (over last 800 batches)\n",
      "Average clipped gradient norm: 1.6899946694076062 (over last 800 batches)\n",
      "Running average global loss: 1.1774830640107394 (over last 800 batches)\n",
      "Running average activity prediction loss: 0.3952411699295044 (Cross Entropy over last 800 batches)\n",
      "Running average time till next event prediction loss: 0.29443406412377954 (MAE over last 800 batches)\n",
      "Running average (complete) remaining runtime prediction loss: 0.4878078294545412 (MAE over last 800 batches)\n",
      "------------------------------------------------------------\n"
     ]
    },
    {
     "name": "stderr",
     "output_type": "stream",
     "text": [
      "Batch calculation at epoch 98.: 2401it [06:37,  9.44it/s]"
     ]
    },
    {
     "name": "stdout",
     "output_type": "stream",
     "text": [
      "------------------------------------------------------------\n",
      "Epoch 98, batch 2399:\n",
      "Average original gradient norm: 1.6907794123888016 (over last 800 batches)\n",
      "Average clipped gradient norm: 1.6769740298390388 (over last 800 batches)\n",
      "Running average global loss: 1.1800174398720265 (over last 800 batches)\n",
      "Running average activity prediction loss: 0.39809600461274386 (Cross Entropy over last 800 batches)\n",
      "Running average time till next event prediction loss: 0.2950774998962879 (MAE over last 800 batches)\n",
      "Running average (complete) remaining runtime prediction loss: 0.4868439382314682 (MAE over last 800 batches)\n",
      "------------------------------------------------------------\n"
     ]
    },
    {
     "name": "stderr",
     "output_type": "stream",
     "text": [
      "Batch calculation at epoch 98.: 3201it [08:21,  8.99it/s]"
     ]
    },
    {
     "name": "stdout",
     "output_type": "stream",
     "text": [
      "------------------------------------------------------------\n",
      "Epoch 98, batch 3199:\n",
      "Average original gradient norm: 1.6913348668813706 (over last 800 batches)\n",
      "Average clipped gradient norm: 1.6755385214090348 (over last 800 batches)\n",
      "Running average global loss: 1.1775869804620742 (over last 800 batches)\n",
      "Running average activity prediction loss: 0.39736621171236036 (Cross Entropy over last 800 batches)\n",
      "Running average time till next event prediction loss: 0.29401326093822716 (MAE over last 800 batches)\n",
      "Running average (complete) remaining runtime prediction loss: 0.4862075065076351 (MAE over last 800 batches)\n",
      "------------------------------------------------------------\n"
     ]
    },
    {
     "name": "stderr",
     "output_type": "stream",
     "text": [
      "Batch calculation at epoch 98.: 4000it [10:08,  5.89it/s]"
     ]
    },
    {
     "name": "stdout",
     "output_type": "stream",
     "text": [
      "------------------------------------------------------------\n",
      "Epoch 98, batch 3999:\n",
      "Average original gradient norm: 1.6787189927697181 (over last 800 batches)\n",
      "Average clipped gradient norm: 1.667556911110878 (over last 800 batches)\n",
      "Running average global loss: 1.1802375848591327 (over last 800 batches)\n",
      "Running average activity prediction loss: 0.3962248311936855 (Cross Entropy over last 800 batches)\n",
      "Running average time till next event prediction loss: 0.2956514452397823 (MAE over last 800 batches)\n",
      "Running average (complete) remaining runtime prediction loss: 0.488361307233572 (MAE over last 800 batches)\n",
      "------------------------------------------------------------\n"
     ]
    },
    {
     "name": "stderr",
     "output_type": "stream",
     "text": [
      "Batch calculation at epoch 98.: 4295it [10:53,  6.57it/s]\n"
     ]
    },
    {
     "name": "stdout",
     "output_type": "stream",
     "text": [
      "=======================================\n",
      "End of epoch 98\n",
      "=======================================\n",
      "Running average global loss: 1.1810562501102686 (over last 800 batches)\n",
      "Running average activity prediction loss: 0.3968423219025135 (Cross Entropy over last 800 batches)\n",
      "Running average time till next event prediction loss: 0.29603058462962506 (MAE over last 800 batches)\n",
      "Running average (complete) remaining runtime prediction loss: 0.48818334385752676 (MAE over last 800 batches)\n"
     ]
    },
    {
     "name": "stderr",
     "output_type": "stream",
     "text": [
      "Validation batch calculation: 20it [00:50,  2.51s/it]\n"
     ]
    },
    {
     "name": "stdout",
     "output_type": "stream",
     "text": [
      "Avg MAE TTNE prediction validation set: 0.4631960988044739 (standardized) ; 17089.05625 (minutes)'\n",
      "Avg 1-(normalized) DL distance acitivty suffix prediction validation set: 0.8431971669197083\n",
      "Percentage of suffixes predicted to END: too early - 0.29424874102712484 ; right moment - 0.6329832424246156 ; too late - 0.0727680165482596\n",
      "Too early instances - avg amount of events too early: 1.6575446128845215\n",
      "Too late instances - avg amount of events too late: 3.142301082611084\n",
      "Avg absolute amount of events predicted too early / too late: 0.7163894176483154\n",
      "Avg MAE RRT prediction validation set: 0.6093826293945312 (standardized) ; 33246.025 (minutes)'\n",
      " \n",
      "------------------------------------\n",
      "EPOCH 99:\n",
      "____________________________________\n"
     ]
    },
    {
     "name": "stderr",
     "output_type": "stream",
     "text": [
      "Batch calculation at epoch 99.: 801it [01:57,  8.64it/s]"
     ]
    },
    {
     "name": "stdout",
     "output_type": "stream",
     "text": [
      "------------------------------------------------------------\n",
      "Epoch 99, batch 799:\n",
      "Average original gradient norm: 1.6895499268174172 (over last 800 batches)\n",
      "Average clipped gradient norm: 1.6766834700107573 (over last 800 batches)\n",
      "Running average global loss: 1.1800275076925755 (over last 800 batches)\n",
      "Running average activity prediction loss: 0.3973429241962731 (Cross Entropy over last 800 batches)\n",
      "Running average time till next event prediction loss: 0.2955631240643561 (MAE over last 800 batches)\n",
      "Running average (complete) remaining runtime prediction loss: 0.48712145898491144 (MAE over last 800 batches)\n",
      "------------------------------------------------------------\n"
     ]
    },
    {
     "name": "stderr",
     "output_type": "stream",
     "text": [
      "Batch calculation at epoch 99.: 1601it [03:50,  6.45it/s]"
     ]
    },
    {
     "name": "stdout",
     "output_type": "stream",
     "text": [
      "------------------------------------------------------------\n",
      "Epoch 99, batch 1599:\n",
      "Average original gradient norm: 1.6923337955772877 (over last 800 batches)\n",
      "Average clipped gradient norm: 1.6758013707399368 (over last 800 batches)\n",
      "Running average global loss: 1.1789220052957534 (over last 800 batches)\n",
      "Running average activity prediction loss: 0.3982757800072432 (Cross Entropy over last 800 batches)\n",
      "Running average time till next event prediction loss: 0.2942610954865813 (MAE over last 800 batches)\n",
      "Running average (complete) remaining runtime prediction loss: 0.48638512957841157 (MAE over last 800 batches)\n",
      "------------------------------------------------------------\n"
     ]
    },
    {
     "name": "stderr",
     "output_type": "stream",
     "text": [
      "Batch calculation at epoch 99.: 2401it [05:54,  6.27it/s]"
     ]
    },
    {
     "name": "stdout",
     "output_type": "stream",
     "text": [
      "------------------------------------------------------------\n",
      "Epoch 99, batch 2399:\n",
      "Average original gradient norm: 1.7025461027026176 (over last 800 batches)\n",
      "Average clipped gradient norm: 1.6879056492447853 (over last 800 batches)\n",
      "Running average global loss: 1.180659945383668 (over last 800 batches)\n",
      "Running average activity prediction loss: 0.3952960604056716 (Cross Entropy over last 800 batches)\n",
      "Running average time till next event prediction loss: 0.29537561316043137 (MAE over last 800 batches)\n",
      "Running average (complete) remaining runtime prediction loss: 0.48998827289789915 (MAE over last 800 batches)\n",
      "------------------------------------------------------------\n"
     ]
    },
    {
     "name": "stderr",
     "output_type": "stream",
     "text": [
      "Batch calculation at epoch 99.: 3200it [07:35, 12.41it/s]"
     ]
    },
    {
     "name": "stdout",
     "output_type": "stream",
     "text": [
      "------------------------------------------------------------\n",
      "Epoch 99, batch 3199:\n",
      "Average original gradient norm: 1.6910513715445996 (over last 800 batches)\n",
      "Average clipped gradient norm: 1.6781328532099724 (over last 800 batches)\n",
      "Running average global loss: 1.1811381761729718 (over last 800 batches)\n",
      "Running average activity prediction loss: 0.3969632987305522 (Cross Entropy over last 800 batches)\n",
      "Running average time till next event prediction loss: 0.29557369140908124 (MAE over last 800 batches)\n",
      "Running average (complete) remaining runtime prediction loss: 0.48860118571668865 (MAE over last 800 batches)\n",
      "------------------------------------------------------------\n"
     ]
    },
    {
     "name": "stderr",
     "output_type": "stream",
     "text": [
      "Batch calculation at epoch 99.: 4001it [09:05,  9.32it/s]"
     ]
    },
    {
     "name": "stdout",
     "output_type": "stream",
     "text": [
      "------------------------------------------------------------\n",
      "Epoch 99, batch 3999:\n",
      "Average original gradient norm: 1.687994914650917 (over last 800 batches)\n",
      "Average clipped gradient norm: 1.6714404550194741 (over last 800 batches)\n",
      "Running average global loss: 1.1766656824946404 (over last 800 batches)\n",
      "Running average activity prediction loss: 0.3954039381444454 (Cross Entropy over last 800 batches)\n",
      "Running average time till next event prediction loss: 0.29487432369962335 (MAE over last 800 batches)\n",
      "Running average (complete) remaining runtime prediction loss: 0.4863874215632677 (MAE over last 800 batches)\n",
      "------------------------------------------------------------\n"
     ]
    },
    {
     "name": "stderr",
     "output_type": "stream",
     "text": [
      "Batch calculation at epoch 99.: 4295it [09:39,  7.41it/s]\n"
     ]
    },
    {
     "name": "stdout",
     "output_type": "stream",
     "text": [
      "=======================================\n",
      "End of epoch 99\n",
      "=======================================\n",
      "Running average global loss: 1.1782781786471606 (over last 800 batches)\n",
      "Running average activity prediction loss: 0.3958012983202934 (Cross Entropy over last 800 batches)\n",
      "Running average time till next event prediction loss: 0.2950898798182607 (MAE over last 800 batches)\n",
      "Running average (complete) remaining runtime prediction loss: 0.4873870027065277 (MAE over last 800 batches)\n"
     ]
    },
    {
     "name": "stderr",
     "output_type": "stream",
     "text": [
      "Validation batch calculation: 20it [00:39,  1.96s/it]\n"
     ]
    },
    {
     "name": "stdout",
     "output_type": "stream",
     "text": [
      "Avg MAE TTNE prediction validation set: 0.46248263120651245 (standardized) ; 17058.6375 (minutes)'\n",
      "Avg 1-(normalized) DL distance acitivty suffix prediction validation set: 0.8434110283851624\n",
      "Percentage of suffixes predicted to END: too early - 0.2948766883780489 ; right moment - 0.6330940566630139 ; too late - 0.07202925495893717\n",
      "Too early instances - avg amount of events too early: 1.6599857807159424\n",
      "Too late instances - avg amount of events too late: 3.074187994003296\n",
      "Avg absolute amount of events predicted too early / too late: 0.7109225988388062\n",
      "Avg MAE RRT prediction validation set: 0.60976642370224 (standardized) ; 33265.28125 (minutes)'\n",
      " \n",
      "------------------------------------\n",
      "EPOCH 100:\n",
      "____________________________________\n"
     ]
    },
    {
     "name": "stderr",
     "output_type": "stream",
     "text": [
      "Batch calculation at epoch 100.: 801it [01:44,  8.34it/s]"
     ]
    },
    {
     "name": "stdout",
     "output_type": "stream",
     "text": [
      "------------------------------------------------------------\n",
      "Epoch 100, batch 799:\n",
      "Average original gradient norm: 1.703849451392889 (over last 800 batches)\n",
      "Average clipped gradient norm: 1.684786994457245 (over last 800 batches)\n",
      "Running average global loss: 1.1828944761306048 (over last 800 batches)\n",
      "Running average activity prediction loss: 0.3987261889874935 (Cross Entropy over last 800 batches)\n",
      "Running average time till next event prediction loss: 0.2946447180211544 (MAE over last 800 batches)\n",
      "Running average (complete) remaining runtime prediction loss: 0.4895235691964626 (MAE over last 800 batches)\n",
      "------------------------------------------------------------\n"
     ]
    },
    {
     "name": "stderr",
     "output_type": "stream",
     "text": [
      "Batch calculation at epoch 100.: 1602it [03:12, 12.15it/s]"
     ]
    },
    {
     "name": "stdout",
     "output_type": "stream",
     "text": [
      "------------------------------------------------------------\n",
      "Epoch 100, batch 1599:\n",
      "Average original gradient norm: 1.7020815108716487 (over last 800 batches)\n",
      "Average clipped gradient norm: 1.6884990005195142 (over last 800 batches)\n",
      "Running average global loss: 1.1729487728327512 (over last 800 batches)\n",
      "Running average activity prediction loss: 0.39336092960089447 (Cross Entropy over last 800 batches)\n",
      "Running average time till next event prediction loss: 0.29447499779984354 (MAE over last 800 batches)\n",
      "Running average (complete) remaining runtime prediction loss: 0.48511284563690427 (MAE over last 800 batches)\n",
      "------------------------------------------------------------\n"
     ]
    },
    {
     "name": "stderr",
     "output_type": "stream",
     "text": [
      "Batch calculation at epoch 100.: 2401it [04:55,  5.54it/s]"
     ]
    },
    {
     "name": "stdout",
     "output_type": "stream",
     "text": [
      "------------------------------------------------------------\n",
      "Epoch 100, batch 2399:\n",
      "Average original gradient norm: 1.7024293884634971 (over last 800 batches)\n",
      "Average clipped gradient norm: 1.6858783665299415 (over last 800 batches)\n",
      "Running average global loss: 1.1785039201378822 (over last 800 batches)\n",
      "Running average activity prediction loss: 0.3967098719999194 (Cross Entropy over last 800 batches)\n",
      "Running average time till next event prediction loss: 0.29486415317282083 (MAE over last 800 batches)\n",
      "Running average (complete) remaining runtime prediction loss: 0.4869298942759633 (MAE over last 800 batches)\n",
      "------------------------------------------------------------\n"
     ]
    },
    {
     "name": "stderr",
     "output_type": "stream",
     "text": [
      "Batch calculation at epoch 100.: 3201it [06:58,  7.62it/s]"
     ]
    },
    {
     "name": "stdout",
     "output_type": "stream",
     "text": [
      "------------------------------------------------------------\n",
      "Epoch 100, batch 3199:\n",
      "Average original gradient norm: 1.691981676965952 (over last 800 batches)\n",
      "Average clipped gradient norm: 1.6781470195949078 (over last 800 batches)\n",
      "Running average global loss: 1.1815214899927378 (over last 800 batches)\n",
      "Running average activity prediction loss: 0.39796035684645176 (Cross Entropy over last 800 batches)\n",
      "Running average time till next event prediction loss: 0.2955588787049055 (MAE over last 800 batches)\n",
      "Running average (complete) remaining runtime prediction loss: 0.4880022518336773 (MAE over last 800 batches)\n",
      "------------------------------------------------------------\n"
     ]
    },
    {
     "name": "stderr",
     "output_type": "stream",
     "text": [
      "Batch calculation at epoch 100.: 4001it [08:45,  5.49it/s]"
     ]
    },
    {
     "name": "stdout",
     "output_type": "stream",
     "text": [
      "------------------------------------------------------------\n",
      "Epoch 100, batch 3999:\n",
      "Average original gradient norm: 1.6924766834080218 (over last 800 batches)\n",
      "Average clipped gradient norm: 1.6787232062220574 (over last 800 batches)\n",
      "Running average global loss: 1.1823605794459582 (over last 800 batches)\n",
      "Running average activity prediction loss: 0.3955853898078203 (Cross Entropy over last 800 batches)\n",
      "Running average time till next event prediction loss: 0.2967899828590453 (MAE over last 800 batches)\n",
      "Running average (complete) remaining runtime prediction loss: 0.4899852077290416 (MAE over last 800 batches)\n",
      "------------------------------------------------------------\n"
     ]
    },
    {
     "name": "stderr",
     "output_type": "stream",
     "text": [
      "Batch calculation at epoch 100.: 4295it [09:26,  7.58it/s]\n"
     ]
    },
    {
     "name": "stdout",
     "output_type": "stream",
     "text": [
      "=======================================\n",
      "End of epoch 100\n",
      "=======================================\n",
      "Running average global loss: 1.1790191781520845 (over last 800 batches)\n",
      "Running average activity prediction loss: 0.3956808238103986 (Cross Entropy over last 800 batches)\n",
      "Running average time till next event prediction loss: 0.2957728221639991 (MAE over last 800 batches)\n",
      "Running average (complete) remaining runtime prediction loss: 0.4875655319541693 (MAE over last 800 batches)\n"
     ]
    },
    {
     "name": "stderr",
     "output_type": "stream",
     "text": [
      "Validation batch calculation: 20it [00:35,  1.76s/it]\n"
     ]
    },
    {
     "name": "stdout",
     "output_type": "stream",
     "text": [
      "Avg MAE TTNE prediction validation set: 0.4630683362483978 (standardized) ; 17079.907291666666 (minutes)'\n",
      "Avg 1-(normalized) DL distance acitivty suffix prediction validation set: 0.8433292508125305\n",
      "Percentage of suffixes predicted to END: too early - 0.2954553849563515 ; right moment - 0.6328108647204403 ; too late - 0.0717337503232082\n",
      "Too early instances - avg amount of events too early: 1.6632355451583862\n",
      "Too late instances - avg amount of events too late: 3.0593888759613037\n",
      "Avg absolute amount of events predicted too early / too late: 0.7108733654022217\n",
      "Avg MAE RRT prediction validation set: 0.6096500754356384 (standardized) ; 33257.916666666664 (minutes)'\n",
      " \n",
      "------------------------------------\n",
      "EPOCH 101:\n",
      "____________________________________\n"
     ]
    },
    {
     "name": "stderr",
     "output_type": "stream",
     "text": [
      "Batch calculation at epoch 101.: 801it [01:38,  7.61it/s]"
     ]
    },
    {
     "name": "stdout",
     "output_type": "stream",
     "text": [
      "------------------------------------------------------------\n",
      "Epoch 101, batch 799:\n",
      "Average original gradient norm: 1.6790921434760093 (over last 800 batches)\n",
      "Average clipped gradient norm: 1.6662563262879848 (over last 800 batches)\n",
      "Running average global loss: 1.1749730995297432 (over last 800 batches)\n",
      "Running average activity prediction loss: 0.394162971675396 (Cross Entropy over last 800 batches)\n",
      "Running average time till next event prediction loss: 0.29499302957206963 (MAE over last 800 batches)\n",
      "Running average (complete) remaining runtime prediction loss: 0.4858171005919576 (MAE over last 800 batches)\n",
      "------------------------------------------------------------\n"
     ]
    },
    {
     "name": "stderr",
     "output_type": "stream",
     "text": [
      "Batch calculation at epoch 101.: 1601it [03:36, 10.72it/s]"
     ]
    },
    {
     "name": "stdout",
     "output_type": "stream",
     "text": [
      "------------------------------------------------------------\n",
      "Epoch 101, batch 1599:\n",
      "Average original gradient norm: 1.6925731913745403 (over last 800 batches)\n",
      "Average clipped gradient norm: 1.6769802750647067 (over last 800 batches)\n",
      "Running average global loss: 1.181977625861764 (over last 800 batches)\n",
      "Running average activity prediction loss: 0.3977014808356762 (Cross Entropy over last 800 batches)\n",
      "Running average time till next event prediction loss: 0.29535499043762686 (MAE over last 800 batches)\n",
      "Running average (complete) remaining runtime prediction loss: 0.4889211551472545 (MAE over last 800 batches)\n",
      "------------------------------------------------------------\n"
     ]
    },
    {
     "name": "stderr",
     "output_type": "stream",
     "text": [
      "Batch calculation at epoch 101.: 2401it [05:34,  5.45it/s]"
     ]
    },
    {
     "name": "stdout",
     "output_type": "stream",
     "text": [
      "------------------------------------------------------------\n",
      "Epoch 101, batch 2399:\n",
      "Average original gradient norm: 1.6912048988044261 (over last 800 batches)\n",
      "Average clipped gradient norm: 1.6784811043739318 (over last 800 batches)\n",
      "Running average global loss: 1.1817274089902639 (over last 800 batches)\n",
      "Running average activity prediction loss: 0.4004138507694006 (Cross Entropy over last 800 batches)\n",
      "Running average time till next event prediction loss: 0.2943711958453059 (MAE over last 800 batches)\n",
      "Running average (complete) remaining runtime prediction loss: 0.48694236379116773 (MAE over last 800 batches)\n",
      "------------------------------------------------------------\n"
     ]
    },
    {
     "name": "stderr",
     "output_type": "stream",
     "text": [
      "Batch calculation at epoch 101.: 3201it [07:02,  9.32it/s]"
     ]
    },
    {
     "name": "stdout",
     "output_type": "stream",
     "text": [
      "------------------------------------------------------------\n",
      "Epoch 101, batch 3199:\n",
      "Average original gradient norm: 1.6962252178788184 (over last 800 batches)\n",
      "Average clipped gradient norm: 1.6782410560548306 (over last 800 batches)\n",
      "Running average global loss: 1.1813132490217686 (over last 800 batches)\n",
      "Running average activity prediction loss: 0.3980358064547181 (Cross Entropy over last 800 batches)\n",
      "Running average time till next event prediction loss: 0.2953516804240644 (MAE over last 800 batches)\n",
      "Running average (complete) remaining runtime prediction loss: 0.4879257635399699 (MAE over last 800 batches)\n",
      "------------------------------------------------------------\n"
     ]
    },
    {
     "name": "stderr",
     "output_type": "stream",
     "text": [
      "Batch calculation at epoch 101.: 4001it [09:02,  6.61it/s]"
     ]
    },
    {
     "name": "stdout",
     "output_type": "stream",
     "text": [
      "------------------------------------------------------------\n",
      "Epoch 101, batch 3999:\n",
      "Average original gradient norm: 1.6741115613281727 (over last 800 batches)\n",
      "Average clipped gradient norm: 1.6622972819209099 (over last 800 batches)\n",
      "Running average global loss: 1.1771129459142684 (over last 800 batches)\n",
      "Running average activity prediction loss: 0.39417028732597825 (Cross Entropy over last 800 batches)\n",
      "Running average time till next event prediction loss: 0.2955825469084084 (MAE over last 800 batches)\n",
      "Running average (complete) remaining runtime prediction loss: 0.4873601137846708 (MAE over last 800 batches)\n",
      "------------------------------------------------------------\n"
     ]
    },
    {
     "name": "stderr",
     "output_type": "stream",
     "text": [
      "Batch calculation at epoch 101.: 4295it [09:37,  7.43it/s]\n"
     ]
    },
    {
     "name": "stdout",
     "output_type": "stream",
     "text": [
      "=======================================\n",
      "End of epoch 101\n",
      "=======================================\n",
      "Running average global loss: 1.1796123284846545 (over last 800 batches)\n",
      "Running average activity prediction loss: 0.39512402899563315 (Cross Entropy over last 800 batches)\n",
      "Running average time till next event prediction loss: 0.29550651913508774 (MAE over last 800 batches)\n",
      "Running average (complete) remaining runtime prediction loss: 0.4889817827567458 (MAE over last 800 batches)\n"
     ]
    },
    {
     "name": "stderr",
     "output_type": "stream",
     "text": [
      "Validation batch calculation: 20it [00:34,  1.71s/it]\n"
     ]
    },
    {
     "name": "stdout",
     "output_type": "stream",
     "text": [
      "Avg MAE TTNE prediction validation set: 0.46399369835853577 (standardized) ; 17113.952083333334 (minutes)'\n",
      "Avg 1-(normalized) DL distance acitivty suffix prediction validation set: 0.8431468605995178\n",
      "Percentage of suffixes predicted to END: too early - 0.29466737259440756 ; right moment - 0.6329093662656833 ; too late - 0.07242326113990913\n",
      "Too early instances - avg amount of events too early: 1.6604963541030884\n",
      "Too late instances - avg amount of events too late: 3.095885753631592\n",
      "Avg absolute amount of events predicted too early / too late: 0.7135082483291626\n",
      "Avg MAE RRT prediction validation set: 0.6095578670501709 (standardized) ; 33254.24375 (minutes)'\n",
      " \n",
      "------------------------------------\n",
      "EPOCH 102:\n",
      "____________________________________\n"
     ]
    },
    {
     "name": "stderr",
     "output_type": "stream",
     "text": [
      "Batch calculation at epoch 102.: 801it [01:38, 11.42it/s]"
     ]
    },
    {
     "name": "stdout",
     "output_type": "stream",
     "text": [
      "------------------------------------------------------------\n",
      "Epoch 102, batch 799:\n",
      "Average original gradient norm: 1.6887989220023156 (over last 800 batches)\n",
      "Average clipped gradient norm: 1.6747875361144542 (over last 800 batches)\n",
      "Running average global loss: 1.1846293553709983 (over last 800 batches)\n",
      "Running average activity prediction loss: 0.39730414748191833 (Cross Entropy over last 800 batches)\n",
      "Running average time till next event prediction loss: 0.29584189042449 (MAE over last 800 batches)\n",
      "Running average (complete) remaining runtime prediction loss: 0.49148331746459006 (MAE over last 800 batches)\n",
      "------------------------------------------------------------\n"
     ]
    },
    {
     "name": "stderr",
     "output_type": "stream",
     "text": [
      "Batch calculation at epoch 102.: 1601it [03:26,  9.82it/s]"
     ]
    },
    {
     "name": "stdout",
     "output_type": "stream",
     "text": [
      "------------------------------------------------------------\n",
      "Epoch 102, batch 1599:\n",
      "Average original gradient norm: 1.691946310698986 (over last 800 batches)\n",
      "Average clipped gradient norm: 1.6736890813708305 (over last 800 batches)\n",
      "Running average global loss: 1.1765951285511256 (over last 800 batches)\n",
      "Running average activity prediction loss: 0.3954140765219927 (Cross Entropy over last 800 batches)\n",
      "Running average time till next event prediction loss: 0.2944070247747004 (MAE over last 800 batches)\n",
      "Running average (complete) remaining runtime prediction loss: 0.4867740282043815 (MAE over last 800 batches)\n",
      "------------------------------------------------------------\n"
     ]
    },
    {
     "name": "stderr",
     "output_type": "stream",
     "text": [
      "Batch calculation at epoch 102.: 2401it [05:06,  8.42it/s]"
     ]
    },
    {
     "name": "stdout",
     "output_type": "stream",
     "text": [
      "------------------------------------------------------------\n",
      "Epoch 102, batch 2399:\n",
      "Average original gradient norm: 1.6854164181649685 (over last 800 batches)\n",
      "Average clipped gradient norm: 1.6731838984787464 (over last 800 batches)\n",
      "Running average global loss: 1.1759770329296588 (over last 800 batches)\n",
      "Running average activity prediction loss: 0.3946743276715279 (Cross Entropy over last 800 batches)\n",
      "Running average time till next event prediction loss: 0.2950521042197943 (MAE over last 800 batches)\n",
      "Running average (complete) remaining runtime prediction loss: 0.48625059857964514 (MAE over last 800 batches)\n",
      "------------------------------------------------------------\n"
     ]
    },
    {
     "name": "stderr",
     "output_type": "stream",
     "text": [
      "Batch calculation at epoch 102.: 3201it [06:59,  7.95it/s]"
     ]
    },
    {
     "name": "stdout",
     "output_type": "stream",
     "text": [
      "------------------------------------------------------------\n",
      "Epoch 102, batch 3199:\n",
      "Average original gradient norm: 1.6831246884167195 (over last 800 batches)\n",
      "Average clipped gradient norm: 1.671729863733053 (over last 800 batches)\n",
      "Running average global loss: 1.1792627712339163 (over last 800 batches)\n",
      "Running average activity prediction loss: 0.39693752489984035 (Cross Entropy over last 800 batches)\n",
      "Running average time till next event prediction loss: 0.2953653773292899 (MAE over last 800 batches)\n",
      "Running average (complete) remaining runtime prediction loss: 0.4869598680734634 (MAE over last 800 batches)\n",
      "------------------------------------------------------------\n"
     ]
    },
    {
     "name": "stderr",
     "output_type": "stream",
     "text": [
      "Batch calculation at epoch 102.: 4001it [08:53,  6.45it/s]"
     ]
    },
    {
     "name": "stdout",
     "output_type": "stream",
     "text": [
      "------------------------------------------------------------\n",
      "Epoch 102, batch 3999:\n",
      "Average original gradient norm: 1.7036853586137295 (over last 800 batches)\n",
      "Average clipped gradient norm: 1.6821212716400624 (over last 800 batches)\n",
      "Running average global loss: 1.1815629104524852 (over last 800 batches)\n",
      "Running average activity prediction loss: 0.3976632734760642 (Cross Entropy over last 800 batches)\n",
      "Running average time till next event prediction loss: 0.29517316350713374 (MAE over last 800 batches)\n",
      "Running average (complete) remaining runtime prediction loss: 0.48872647430747745 (MAE over last 800 batches)\n",
      "------------------------------------------------------------\n"
     ]
    },
    {
     "name": "stderr",
     "output_type": "stream",
     "text": [
      "Batch calculation at epoch 102.: 4295it [09:38,  7.43it/s]\n"
     ]
    },
    {
     "name": "stdout",
     "output_type": "stream",
     "text": [
      "=======================================\n",
      "End of epoch 102\n",
      "=======================================\n",
      "Running average global loss: 1.182632993236184 (over last 800 batches)\n",
      "Running average activity prediction loss: 0.39911683190613984 (Cross Entropy over last 800 batches)\n",
      "Running average time till next event prediction loss: 0.29568737672641876 (MAE over last 800 batches)\n",
      "Running average (complete) remaining runtime prediction loss: 0.48782878767699 (MAE over last 800 batches)\n"
     ]
    },
    {
     "name": "stderr",
     "output_type": "stream",
     "text": [
      "Validation batch calculation: 20it [00:41,  2.05s/it]\n"
     ]
    },
    {
     "name": "stdout",
     "output_type": "stream",
     "text": [
      "Avg MAE TTNE prediction validation set: 0.4634323716163635 (standardized) ; 17092.625 (minutes)'\n",
      "Avg 1-(normalized) DL distance acitivty suffix prediction validation set: 0.843228816986084\n",
      "Percentage of suffixes predicted to END: too early - 0.29491362645751507 ; right moment - 0.632933991651994 ; too late - 0.0721523818904909\n",
      "Too early instances - avg amount of events too early: 1.6606546640396118\n",
      "Too late instances - avg amount of events too late: 3.0953924655914307\n",
      "Avg absolute amount of events predicted too early / too late: 0.713089644908905\n",
      "Avg MAE RRT prediction validation set: 0.6097396016120911 (standardized) ; 33264.14375 (minutes)'\n",
      " \n",
      "------------------------------------\n",
      "EPOCH 103:\n",
      "____________________________________\n"
     ]
    },
    {
     "name": "stderr",
     "output_type": "stream",
     "text": [
      "Batch calculation at epoch 103.: 800it [01:49,  3.39it/s]"
     ]
    },
    {
     "name": "stdout",
     "output_type": "stream",
     "text": [
      "------------------------------------------------------------\n",
      "Epoch 103, batch 799:\n",
      "Average original gradient norm: 1.6949957433342933 (over last 800 batches)\n",
      "Average clipped gradient norm: 1.6795756186544895 (over last 800 batches)\n",
      "Running average global loss: 1.175776458978653 (over last 800 batches)\n",
      "Running average activity prediction loss: 0.3950102242827416 (Cross Entropy over last 800 batches)\n",
      "Running average time till next event prediction loss: 0.2943154946528375 (MAE over last 800 batches)\n",
      "Running average (complete) remaining runtime prediction loss: 0.486450741738081 (MAE over last 800 batches)\n",
      "------------------------------------------------------------\n"
     ]
    },
    {
     "name": "stderr",
     "output_type": "stream",
     "text": [
      "Batch calculation at epoch 103.: 1601it [04:06,  6.70it/s]"
     ]
    },
    {
     "name": "stdout",
     "output_type": "stream",
     "text": [
      "------------------------------------------------------------\n",
      "Epoch 103, batch 1599:\n",
      "Average original gradient norm: 1.6992087195813657 (over last 800 batches)\n",
      "Average clipped gradient norm: 1.6809686532616614 (over last 800 batches)\n",
      "Running average global loss: 1.1791971559822558 (over last 800 batches)\n",
      "Running average activity prediction loss: 0.3967273320630193 (Cross Entropy over last 800 batches)\n",
      "Running average time till next event prediction loss: 0.29527531810104846 (MAE over last 800 batches)\n",
      "Running average (complete) remaining runtime prediction loss: 0.48719450548291204 (MAE over last 800 batches)\n",
      "------------------------------------------------------------\n"
     ]
    },
    {
     "name": "stderr",
     "output_type": "stream",
     "text": [
      "Batch calculation at epoch 103.: 2401it [06:07,  7.10it/s]"
     ]
    },
    {
     "name": "stdout",
     "output_type": "stream",
     "text": [
      "------------------------------------------------------------\n",
      "Epoch 103, batch 2399:\n",
      "Average original gradient norm: 1.6839973670244217 (over last 800 batches)\n",
      "Average clipped gradient norm: 1.6731312514841556 (over last 800 batches)\n",
      "Running average global loss: 1.1839753314852715 (over last 800 batches)\n",
      "Running average activity prediction loss: 0.3979665029793978 (Cross Entropy over last 800 batches)\n",
      "Running average time till next event prediction loss: 0.2958786277472973 (MAE over last 800 batches)\n",
      "Running average (complete) remaining runtime prediction loss: 0.49013020310550925 (MAE over last 800 batches)\n",
      "------------------------------------------------------------\n"
     ]
    },
    {
     "name": "stderr",
     "output_type": "stream",
     "text": [
      "Batch calculation at epoch 103.: 3201it [07:39, 11.03it/s]"
     ]
    },
    {
     "name": "stdout",
     "output_type": "stream",
     "text": [
      "------------------------------------------------------------\n",
      "Epoch 103, batch 3199:\n",
      "Average original gradient norm: 1.6914800441265105 (over last 800 batches)\n",
      "Average clipped gradient norm: 1.6766635219752788 (over last 800 batches)\n",
      "Running average global loss: 1.178668783903122 (over last 800 batches)\n",
      "Running average activity prediction loss: 0.3964347946643829 (Cross Entropy over last 800 batches)\n",
      "Running average time till next event prediction loss: 0.2950819588452578 (MAE over last 800 batches)\n",
      "Running average (complete) remaining runtime prediction loss: 0.4871520299464464 (MAE over last 800 batches)\n",
      "------------------------------------------------------------\n"
     ]
    },
    {
     "name": "stderr",
     "output_type": "stream",
     "text": [
      "Batch calculation at epoch 103.: 4001it [09:43,  7.92it/s]"
     ]
    },
    {
     "name": "stdout",
     "output_type": "stream",
     "text": [
      "------------------------------------------------------------\n",
      "Epoch 103, batch 3999:\n",
      "Average original gradient norm: 1.6975737117230891 (over last 800 batches)\n",
      "Average clipped gradient norm: 1.6803528311848641 (over last 800 batches)\n",
      "Running average global loss: 1.1815596225857734 (over last 800 batches)\n",
      "Running average activity prediction loss: 0.39880547873675826 (Cross Entropy over last 800 batches)\n",
      "Running average time till next event prediction loss: 0.2949054873548448 (MAE over last 800 batches)\n",
      "Running average (complete) remaining runtime prediction loss: 0.4878486579284072 (MAE over last 800 batches)\n",
      "------------------------------------------------------------\n"
     ]
    },
    {
     "name": "stderr",
     "output_type": "stream",
     "text": [
      "Batch calculation at epoch 103.: 4295it [10:25,  6.87it/s]\n"
     ]
    },
    {
     "name": "stdout",
     "output_type": "stream",
     "text": [
      "=======================================\n",
      "End of epoch 103\n",
      "=======================================\n",
      "Running average global loss: 1.1794225841760635 (over last 800 batches)\n",
      "Running average activity prediction loss: 0.3950474487990141 (Cross Entropy over last 800 batches)\n",
      "Running average time till next event prediction loss: 0.29537525311112406 (MAE over last 800 batches)\n",
      "Running average (complete) remaining runtime prediction loss: 0.48899988289922475 (MAE over last 800 batches)\n"
     ]
    },
    {
     "name": "stderr",
     "output_type": "stream",
     "text": [
      "Validation batch calculation: 20it [00:53,  2.67s/it]\n"
     ]
    },
    {
     "name": "stdout",
     "output_type": "stream",
     "text": [
      "Avg MAE TTNE prediction validation set: 0.46342071890830994 (standardized) ; 17091.967708333334 (minutes)'\n",
      "Avg 1-(normalized) DL distance acitivty suffix prediction validation set: 0.843511700630188\n",
      "Percentage of suffixes predicted to END: too early - 0.29504906608222414 ; right moment - 0.6332048709014123 ; too late - 0.07174606301636358\n",
      "Too early instances - avg amount of events too early: 1.6603096723556519\n",
      "Too late instances - avg amount of events too late: 3.076368570327759\n",
      "Avg absolute amount of events predicted too early / too late: 0.710590124130249\n",
      "Avg MAE RRT prediction validation set: 0.609356164932251 (standardized) ; 33243.99791666667 (minutes)'\n",
      " \n",
      "------------------------------------\n",
      "EPOCH 104:\n",
      "____________________________________\n"
     ]
    },
    {
     "name": "stderr",
     "output_type": "stream",
     "text": [
      "Batch calculation at epoch 104.: 801it [02:13,  8.20it/s]"
     ]
    },
    {
     "name": "stdout",
     "output_type": "stream",
     "text": [
      "------------------------------------------------------------\n",
      "Epoch 104, batch 799:\n",
      "Average original gradient norm: 1.6866479656100273 (over last 800 batches)\n",
      "Average clipped gradient norm: 1.670194842517376 (over last 800 batches)\n",
      "Running average global loss: 1.177916481718421 (over last 800 batches)\n",
      "Running average activity prediction loss: 0.395770847722888 (Cross Entropy over last 800 batches)\n",
      "Running average time till next event prediction loss: 0.2942605271562934 (MAE over last 800 batches)\n",
      "Running average (complete) remaining runtime prediction loss: 0.4878851043432951 (MAE over last 800 batches)\n",
      "------------------------------------------------------------\n"
     ]
    },
    {
     "name": "stderr",
     "output_type": "stream",
     "text": [
      "Batch calculation at epoch 104.: 1601it [04:08,  5.81it/s]"
     ]
    },
    {
     "name": "stdout",
     "output_type": "stream",
     "text": [
      "------------------------------------------------------------\n",
      "Epoch 104, batch 1599:\n",
      "Average original gradient norm: 1.6985504731535912 (over last 800 batches)\n",
      "Average clipped gradient norm: 1.68230404779315 (over last 800 batches)\n",
      "Running average global loss: 1.1803502949327231 (over last 800 batches)\n",
      "Running average activity prediction loss: 0.39707871749997137 (Cross Entropy over last 800 batches)\n",
      "Running average time till next event prediction loss: 0.29544961530715225 (MAE over last 800 batches)\n",
      "Running average (complete) remaining runtime prediction loss: 0.4878219597786665 (MAE over last 800 batches)\n",
      "------------------------------------------------------------\n"
     ]
    },
    {
     "name": "stderr",
     "output_type": "stream",
     "text": [
      "Batch calculation at epoch 104.: 2400it [06:29,  5.88it/s]"
     ]
    },
    {
     "name": "stdout",
     "output_type": "stream",
     "text": [
      "------------------------------------------------------------\n",
      "Epoch 104, batch 2399:\n",
      "Average original gradient norm: 1.6775547029078006 (over last 800 batches)\n",
      "Average clipped gradient norm: 1.6658513289690018 (over last 800 batches)\n",
      "Running average global loss: 1.1821257358044386 (over last 800 batches)\n",
      "Running average activity prediction loss: 0.39786429967731235 (Cross Entropy over last 800 batches)\n",
      "Running average time till next event prediction loss: 0.2950457479991019 (MAE over last 800 batches)\n",
      "Running average (complete) remaining runtime prediction loss: 0.48921568986028435 (MAE over last 800 batches)\n",
      "------------------------------------------------------------\n"
     ]
    },
    {
     "name": "stderr",
     "output_type": "stream",
     "text": [
      "Batch calculation at epoch 104.: 3201it [08:52,  7.36it/s]"
     ]
    },
    {
     "name": "stdout",
     "output_type": "stream",
     "text": [
      "------------------------------------------------------------\n",
      "Epoch 104, batch 3199:\n",
      "Average original gradient norm: 1.6938166484236716 (over last 800 batches)\n",
      "Average clipped gradient norm: 1.679812395721674 (over last 800 batches)\n",
      "Running average global loss: 1.1774384946376086 (over last 800 batches)\n",
      "Running average activity prediction loss: 0.3937529081851244 (Cross Entropy over last 800 batches)\n",
      "Running average time till next event prediction loss: 0.2960427566617727 (MAE over last 800 batches)\n",
      "Running average (complete) remaining runtime prediction loss: 0.4876428318396211 (MAE over last 800 batches)\n",
      "------------------------------------------------------------\n"
     ]
    },
    {
     "name": "stderr",
     "output_type": "stream",
     "text": [
      "Batch calculation at epoch 104.: 4002it [10:44, 10.19it/s]"
     ]
    },
    {
     "name": "stdout",
     "output_type": "stream",
     "text": [
      "------------------------------------------------------------\n",
      "Epoch 104, batch 3999:\n",
      "Average original gradient norm: 1.6921153463423253 (over last 800 batches)\n",
      "Average clipped gradient norm: 1.680057320445776 (over last 800 batches)\n",
      "Running average global loss: 1.1791289614886045 (over last 800 batches)\n",
      "Running average activity prediction loss: 0.39852908104658125 (Cross Entropy over last 800 batches)\n",
      "Running average time till next event prediction loss: 0.29384582670405507 (MAE over last 800 batches)\n",
      "Running average (complete) remaining runtime prediction loss: 0.4867540531605482 (MAE over last 800 batches)\n",
      "------------------------------------------------------------\n"
     ]
    },
    {
     "name": "stderr",
     "output_type": "stream",
     "text": [
      "Batch calculation at epoch 104.: 4295it [11:17,  6.34it/s]\n"
     ]
    },
    {
     "name": "stdout",
     "output_type": "stream",
     "text": [
      "=======================================\n",
      "End of epoch 104\n",
      "=======================================\n",
      "Running average global loss: 1.1794637535512447 (over last 800 batches)\n",
      "Running average activity prediction loss: 0.3977987677976489 (Cross Entropy over last 800 batches)\n",
      "Running average time till next event prediction loss: 0.2950922767072916 (MAE over last 800 batches)\n",
      "Running average (complete) remaining runtime prediction loss: 0.48657270923256873 (MAE over last 800 batches)\n"
     ]
    },
    {
     "name": "stderr",
     "output_type": "stream",
     "text": [
      "Validation batch calculation: 20it [00:29,  1.48s/it]\n"
     ]
    },
    {
     "name": "stdout",
     "output_type": "stream",
     "text": [
      "Avg MAE TTNE prediction validation set: 0.4633692502975464 (standardized) ; 17091.4625 (minutes)'\n",
      "Avg 1-(normalized) DL distance acitivty suffix prediction validation set: 0.8433336019515991\n",
      "Percentage of suffixes predicted to END: too early - 0.2944703695039216 ; right moment - 0.6328108647204403 ; too late - 0.0727187657756381\n",
      "Too early instances - avg amount of events too early: 1.657091498374939\n",
      "Too late instances - avg amount of events too late: 3.0816118717193604\n",
      "Avg absolute amount of events predicted too early / too late: 0.7120553851127625\n",
      "Avg MAE RRT prediction validation set: 0.6094936728477478 (standardized) ; 33250.69583333333 (minutes)'\n",
      "No improvements in validation loss for 24 consecutive epochs. Final epoch: 104\n",
      "cuda\n"
     ]
    },
    {
     "name": "stderr",
     "output_type": "stream",
     "text": [
      "/media/usr/SSD/yongmin/PPM/TRAIN_EVAL_SUTRAN_NDA.py:56: FutureWarning: You are using `torch.load` with `weights_only=False` (the current default value), which uses the default pickle module implicitly. It is possible to construct malicious pickle data which will execute arbitrary code during unpickling (See https://github.com/pytorch/pytorch/blob/main/SECURITY.md#untrusted-models for more details). In a future release, the default value for `weights_only` will be flipped to `True`. This limits the functions that could be executed during unpickling. Arbitrary objects will no longer be allowed to be loaded via this mode unless they are explicitly allowlisted by the user via `torch.serialization.add_safe_globals`. We recommend you start setting `weights_only=True` for any use case where you don't have full control of the loaded file. Please open an issue on GitHub for any issues related to this experimental feature.\n",
      "  checkpoint = torch.load(path_to_checkpoint)\n",
      "Validation batch calculation: 62it [01:36,  1.55s/it]\n"
     ]
    },
    {
     "name": "stdout",
     "output_type": "stream",
     "text": [
      "Avg MAE TTNE prediction validation set: 0.45824968814849854 (standardized) ; 16904.398958333335 (minutes)'\n",
      "Avg 1-(normalized) DL distance acitivty suffix prediction validation set: 0.8444443345069885\n",
      "Percentage of suffixes predicted to END: too early - 0.25367897982398374 ; right moment - 0.6466622762378016 ; too late - 0.0996587439382147\n",
      "Too early instances - avg amount of events too early: 1.6701123714447021\n",
      "Too late instances - avg amount of events too late: 2.3510754108428955\n",
      "Avg absolute amount of events predicted too early / too late: 0.6579775810241699\n",
      "Avg MAE RRT prediction validation set: 0.5362576246261597 (standardized) ; 29232.7125 (minutes)'\n"
     ]
    }
   ],
   "source": [
    "from TRAIN_EVAL_SUTRAN_NDA import train_eval\n",
    "\n",
    "train_eval('BPIC_19', tss_index=1)"
   ]
  },
  {
   "cell_type": "code",
   "execution_count": null,
   "metadata": {},
   "outputs": [],
   "source": []
  }
 ],
 "metadata": {
  "kernelspec": {
   "display_name": "NDE",
   "language": "python",
   "name": "python3"
  },
  "language_info": {
   "codemirror_mode": {
    "name": "ipython",
    "version": 3
   },
   "file_extension": ".py",
   "mimetype": "text/x-python",
   "name": "python",
   "nbconvert_exporter": "python",
   "pygments_lexer": "ipython3",
   "version": "3.12.5"
  }
 },
 "nbformat": 4,
 "nbformat_minor": 2
}
