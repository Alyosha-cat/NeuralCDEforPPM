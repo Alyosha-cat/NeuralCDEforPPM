{
 "cells": [
  {
   "cell_type": "code",
   "execution_count": 1,
   "metadata": {},
   "outputs": [],
   "source": [
    "import warnings\n",
    "warnings.filterwarnings('ignore')\n",
    "\n",
    "miss = [0.3, 0.5, 0, 0.1]"
   ]
  },
  {
   "cell_type": "code",
   "execution_count": 2,
   "metadata": {},
   "outputs": [
    {
     "name": "stdout",
     "output_type": "stream",
     "text": [
      "0.9\n",
      "27\n",
      "device: cuda\n",
      "cuda\n"
     ]
    },
    {
     "name": "stderr",
     "output_type": "stream",
     "text": [
      "Validation batch calculation: 150it [02:39,  1.06s/it]\n"
     ]
    },
    {
     "name": "stdout",
     "output_type": "stream",
     "text": [
      "Avg MAE TTNE prediction validation set: 0.24909383058547974 (standardized) ; 915.6352213541667 (minutes)'\n",
      "Avg 1-(normalized) DL distance acitivty suffix prediction validation set: 0.053932465612888336\n",
      "Percentage of suffixes predicted to END: too early - 0.002495398903596387 ; right moment - 0.000871097255061206 ; too late - 0.9966335038413424\n",
      "Too early instances - avg amount of events too early: 10.612860679626465\n",
      "Too late instances - avg amount of events too late: 66.63804626464844\n",
      "Avg absolute amount of events predicted too early / too late: 66.44020080566406\n",
      "Avg MAE RRT prediction validation set: 0.8672590851783752 (standardized) ; 14562.817708333334 (minutes)'\n",
      "BPIC_19\n",
      "41\n",
      "device: cuda\n",
      "cuda\n"
     ]
    },
    {
     "name": "stderr",
     "output_type": "stream",
     "text": [
      "Validation batch calculation: 123it [00:33,  3.65it/s]\n"
     ]
    },
    {
     "name": "stdout",
     "output_type": "stream",
     "text": [
      "Avg MAE TTNE prediction validation set: 0.5792660117149353 (standardized) ; 21170.489583333332 (minutes)'\n",
      "Avg 1-(normalized) DL distance acitivty suffix prediction validation set: 0.45484495162963867\n",
      "Percentage of suffixes predicted to END: too early - 0.1404498193937217 ; right moment - 0.1891316929094574 ; too late - 0.6704184876968209\n",
      "Too early instances - avg amount of events too early: 1.8103952407836914\n",
      "Too late instances - avg amount of events too late: 6.505423545837402\n",
      "Avg absolute amount of events predicted too early / too late: 4.615625858306885\n",
      "Avg MAE RRT prediction validation set: 0.7540830373764038 (standardized) ; 41156.191666666666 (minutes)'\n"
     ]
    }
   ],
   "source": [
    "from TRAIN_EVAL_ED_LSTM import test\n",
    "\n",
    "miss = [0.9]\n",
    "for rate in miss:\n",
    "    print(f\"{rate}\")\n",
    "    test(log_name='BPIC_17', tss_index=5, missingrate=rate)\n",
    "    print(\"BPIC_19\")\n",
    "    test(log_name='BPIC_19', tss_index=1, missingrate=rate)"
   ]
  },
  {
   "cell_type": "code",
   "execution_count": 5,
   "metadata": {},
   "outputs": [
    {
     "name": "stdout",
     "output_type": "stream",
     "text": [
      "0.3\n",
      "27\n",
      "torch.Size([305362, 88])\n",
      "torch.Size([305362, 88, 2])\n",
      "device: cuda\n",
      "cuda\n"
     ]
    },
    {
     "name": "stderr",
     "output_type": "stream",
     "text": [
      "Validation batch calculation: 150it [02:46,  1.11s/it]\n"
     ]
    },
    {
     "name": "stdout",
     "output_type": "stream",
     "text": [
      "Avg MAE TTNE prediction validation set: 0.2359229475259781 (standardized) ; 867.5974609375 (minutes)'\n",
      "Avg 1-(normalized) DL distance acitivty suffix prediction validation set: 0.20218856632709503\n",
      "Percentage of suffixes predicted to END: too early - 0.02852679770239912 ; right moment - 0.06738559480223473 ; too late - 0.9040876074953662\n",
      "Too early instances - avg amount of events too early: 7.989094257354736\n",
      "Too late instances - avg amount of events too late: 59.56252670288086\n",
      "Avg absolute amount of events predicted too early / too late: 54.07764434814453\n",
      "Avg MAE RRT prediction validation set: 0.7487252950668335 (standardized) ; 12572.427083333334 (minutes)'\n",
      "BPIC_19\n",
      "41\n",
      "torch.Size([250545, 17])\n",
      "torch.Size([250545, 17, 2])\n",
      "device: cuda\n",
      "cuda\n"
     ]
    },
    {
     "name": "stderr",
     "output_type": "stream",
     "text": [
      "Validation batch calculation: 123it [00:35,  3.44it/s]\n"
     ]
    },
    {
     "name": "stdout",
     "output_type": "stream",
     "text": [
      "Avg MAE TTNE prediction validation set: 0.5323858261108398 (standardized) ; 19543.945833333335 (minutes)'\n",
      "Avg 1-(normalized) DL distance acitivty suffix prediction validation set: 0.7150795459747314\n",
      "Percentage of suffixes predicted to END: too early - 0.21887884411981878 ; right moment - 0.44646670258835736 ; too late - 0.3346544532918238\n",
      "Too early instances - avg amount of events too early: 1.7482084035873413\n",
      "Too late instances - avg amount of events too late: 3.0087661743164062\n",
      "Avg absolute amount of events predicted too early / too late: 1.389542818069458\n",
      "Avg MAE RRT prediction validation set: 0.6332811117172241 (standardized) ; 34563.09166666667 (minutes)'\n",
      "0.5\n",
      "27\n",
      "torch.Size([305362, 88])\n",
      "torch.Size([305362, 88, 2])\n",
      "device: cuda\n",
      "cuda\n"
     ]
    },
    {
     "name": "stderr",
     "output_type": "stream",
     "text": [
      "Validation batch calculation: 150it [02:45,  1.10s/it]\n"
     ]
    },
    {
     "name": "stdout",
     "output_type": "stream",
     "text": [
      "Avg MAE TTNE prediction validation set: 0.25496968626976013 (standardized) ; 929.1076822916667 (minutes)'\n",
      "Avg 1-(normalized) DL distance acitivty suffix prediction validation set: 0.14348536729812622\n",
      "Percentage of suffixes predicted to END: too early - 0.02378815962693459 ; right moment - 0.036091589654246435 ; too late - 0.940120250718819\n",
      "Too early instances - avg amount of events too early: 8.108755111694336\n",
      "Too late instances - avg amount of events too late: 63.394309997558594\n",
      "Avg absolute amount of events predicted too early / too late: 59.79116439819336\n",
      "Avg MAE RRT prediction validation set: 0.7717874050140381 (standardized) ; 12959.679166666667 (minutes)'\n",
      "BPIC_19\n",
      "41\n",
      "torch.Size([250545, 17])\n",
      "torch.Size([250545, 17, 2])\n",
      "device: cuda\n",
      "cuda\n"
     ]
    },
    {
     "name": "stderr",
     "output_type": "stream",
     "text": [
      "Validation batch calculation: 123it [00:35,  3.45it/s]\n"
     ]
    },
    {
     "name": "stdout",
     "output_type": "stream",
     "text": [
      "Avg MAE TTNE prediction validation set: 0.5639013648033142 (standardized) ; 20674.55625 (minutes)'\n",
      "Avg 1-(normalized) DL distance acitivty suffix prediction validation set: 0.6294726133346558\n",
      "Percentage of suffixes predicted to END: too early - 0.1974136382685745 ; right moment - 0.3408329840946736 ; too late - 0.4617533776367519\n",
      "Too early instances - avg amount of events too early: 1.7828794717788696\n",
      "Too late instances - avg amount of events too late: 3.8530209064483643\n",
      "Avg absolute amount of events predicted too early / too late: 2.131110191345215\n",
      "Avg MAE RRT prediction validation set: 0.6776151061058044 (standardized) ; 36982.7375 (minutes)'\n",
      "0\n",
      "27\n",
      "device: cuda\n",
      "cuda\n"
     ]
    },
    {
     "name": "stderr",
     "output_type": "stream",
     "text": [
      "Validation batch calculation: 150it [02:32,  1.02s/it]\n"
     ]
    },
    {
     "name": "stdout",
     "output_type": "stream",
     "text": [
      "Avg MAE TTNE prediction validation set: 0.20032106339931488 (standardized) ; 741.5716796875 (minutes)'\n",
      "Avg 1-(normalized) DL distance acitivty suffix prediction validation set: 0.2676844000816345\n",
      "Percentage of suffixes predicted to END: too early - 0.042975222850256414 ; right moment - 0.11154629587178497 ; too late - 0.8454784812779587\n",
      "Too early instances - avg amount of events too early: 9.45279312133789\n",
      "Too late instances - avg amount of events too late: 55.71609115600586\n",
      "Avg absolute amount of events predicted too early / too late: 47.51299285888672\n",
      "Avg MAE RRT prediction validation set: 0.7172515392303467 (standardized) ; 12043.925 (minutes)'\n",
      "BPIC_19\n",
      "41\n",
      "device: cuda\n",
      "cuda\n"
     ]
    },
    {
     "name": "stderr",
     "output_type": "stream",
     "text": [
      "Validation batch calculation: 123it [00:35,  3.42it/s]\n"
     ]
    },
    {
     "name": "stdout",
     "output_type": "stream",
     "text": [
      "Avg MAE TTNE prediction validation set: 0.44398239254951477 (standardized) ; 16380.591666666667 (minutes)'\n",
      "Avg 1-(normalized) DL distance acitivty suffix prediction validation set: 0.8471186757087708\n",
      "Percentage of suffixes predicted to END: too early - 0.2519347821748588 ; right moment - 0.6483426131034346 ; too late - 0.09972260472170667\n",
      "Too early instances - avg amount of events too early: 1.661887526512146\n",
      "Too late instances - avg amount of events too late: 2.2184510231018066\n",
      "Avg absolute amount of events predicted too early / too late: 0.6399169564247131\n",
      "Avg MAE RRT prediction validation set: 0.5600910186767578 (standardized) ; 30568.533333333333 (minutes)'\n",
      "0.1\n",
      "27\n",
      "torch.Size([305362, 88])\n",
      "torch.Size([305362, 88, 2])\n",
      "device: cuda\n",
      "cuda\n"
     ]
    },
    {
     "name": "stderr",
     "output_type": "stream",
     "text": [
      "Validation batch calculation: 150it [02:41,  1.07s/it]\n"
     ]
    },
    {
     "name": "stdout",
     "output_type": "stream",
     "text": [
      "Avg MAE TTNE prediction validation set: 0.21345467865467072 (standardized) ; 789.0257161458334 (minutes)'\n",
      "Avg 1-(normalized) DL distance acitivty suffix prediction validation set: 0.24713002145290375\n",
      "Percentage of suffixes predicted to END: too early - 0.03501417989140757 ; right moment - 0.09606630818503939 ; too late - 0.868919511923553\n",
      "Too early instances - avg amount of events too early: 8.665170669555664\n",
      "Too late instances - avg amount of events too late: 56.460147857666016\n",
      "Avg absolute amount of events predicted too early / too late: 49.362728118896484\n",
      "Avg MAE RRT prediction validation set: 0.7286561131477356 (standardized) ; 12235.429166666667 (minutes)'\n",
      "BPIC_19\n",
      "41\n",
      "torch.Size([250545, 17])\n",
      "torch.Size([250545, 17, 2])\n",
      "device: cuda\n",
      "cuda\n"
     ]
    },
    {
     "name": "stderr",
     "output_type": "stream",
     "text": [
      "Validation batch calculation: 123it [00:35,  3.45it/s]\n"
     ]
    },
    {
     "name": "stdout",
     "output_type": "stream",
     "text": [
      "Avg MAE TTNE prediction validation set: 0.48033177852630615 (standardized) ; 17678.772916666665 (minutes)'\n",
      "Avg 1-(normalized) DL distance acitivty suffix prediction validation set: 0.8024106025695801\n",
      "Percentage of suffixes predicted to END: too early - 0.2404518150432058 ; right moment - 0.574391825819713 ; too late - 0.18515635913708117\n",
      "Too early instances - avg amount of events too early: 1.6952725648880005\n",
      "Too late instances - avg amount of events too late: 2.4133434295654297\n",
      "Avg absolute amount of events predicted too early / too late: 0.8544772267341614\n",
      "Avg MAE RRT prediction validation set: 0.5853217840194702 (standardized) ; 31945.570833333335 (minutes)'\n"
     ]
    }
   ],
   "source": [
    "from TRAIN_EVAL_ED_LSTM import test\n",
    "for rate in miss:\n",
    "    print(f\"{rate}\")\n",
    "    test(log_name='BPIC_17', tss_index=5, missingrate=rate)\n",
    "    print(\"BPIC_19\")\n",
    "    test(log_name='BPIC_19', tss_index=1, missingrate=rate)"
   ]
  },
  {
   "cell_type": "code",
   "execution_count": 2,
   "metadata": {},
   "outputs": [
    {
     "name": "stdout",
     "output_type": "stream",
     "text": [
      "0.7\n",
      "27\n",
      "device: cuda\n",
      "cuda\n"
     ]
    },
    {
     "name": "stderr",
     "output_type": "stream",
     "text": [
      "Validation batch calculation: 150it [01:46,  1.41it/s]\n"
     ]
    },
    {
     "name": "stdout",
     "output_type": "stream",
     "text": [
      "Avg MAE TTNE prediction validation set: 0.26494136452674866 (standardized) ; 961.8071614583333 (minutes)'\n",
      "Avg 1-(normalized) DL distance acitivty suffix prediction validation set: 0.09325944632291794\n",
      "Percentage of suffixes predicted to END: too early - 0.013056634420785822 ; right moment - 0.013318618557646334 ; too late - 0.9736247470215679\n",
      "Too early instances - avg amount of events too early: 8.310257911682129\n",
      "Too late instances - avg amount of events too late: 65.44962310791016\n",
      "Avg absolute amount of events predicted too early / too late: 63.831878662109375\n",
      "Avg MAE RRT prediction validation set: 0.8130949139595032 (standardized) ; 13653.308333333332 (minutes)'\n",
      "BPIC_19\n",
      "41\n",
      "device: cuda\n",
      "cuda\n"
     ]
    },
    {
     "name": "stderr",
     "output_type": "stream",
     "text": [
      "Validation batch calculation: 123it [00:27,  4.44it/s]\n"
     ]
    },
    {
     "name": "stdout",
     "output_type": "stream",
     "text": [
      "Avg MAE TTNE prediction validation set: 0.5775040984153748 (standardized) ; 21146.133333333335 (minutes)'\n",
      "Avg 1-(normalized) DL distance acitivty suffix prediction validation set: 0.5433033108711243\n",
      "Percentage of suffixes predicted to END: too early - 0.17253188050050888 ; right moment - 0.25689197549342435 ; too late - 0.5705761440060668\n",
      "Too early instances - avg amount of events too early: 1.7996159791946411\n",
      "Too late instances - avg amount of events too late: 5.015732288360596\n",
      "Avg absolute amount of events predicted too early / too late: 3.1723482608795166\n",
      "Avg MAE RRT prediction validation set: 0.718788743019104 (standardized) ; 39229.90416666667 (minutes)'\n"
     ]
    }
   ],
   "source": [
    "from TRAIN_EVAL_ED_LSTM import test\n",
    "\n",
    "miss = [0.7]\n",
    "for rate in miss:\n",
    "    print(f\"{rate}\")\n",
    "    test(log_name='BPIC_17', tss_index=5, missingrate=rate)\n",
    "    print(\"BPIC_19\")\n",
    "    test(log_name='BPIC_19', tss_index=1, missingrate=rate)"
   ]
  },
  {
   "cell_type": "code",
   "execution_count": null,
   "metadata": {},
   "outputs": [],
   "source": []
  }
 ],
 "metadata": {
  "kernelspec": {
   "display_name": "NDE",
   "language": "python",
   "name": "python3"
  },
  "language_info": {
   "codemirror_mode": {
    "name": "ipython",
    "version": 3
   },
   "file_extension": ".py",
   "mimetype": "text/x-python",
   "name": "python",
   "nbconvert_exporter": "python",
   "pygments_lexer": "ipython3",
   "version": "3.12.5"
  }
 },
 "nbformat": 4,
 "nbformat_minor": 2
}
