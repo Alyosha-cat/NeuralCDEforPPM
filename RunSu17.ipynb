{
 "cells": [
  {
   "cell_type": "code",
   "execution_count": 1,
   "metadata": {},
   "outputs": [
    {
     "name": "stdout",
     "output_type": "stream",
     "text": [
      "27\n"
     ]
    },
    {
     "name": "stderr",
     "output_type": "stream",
     "text": [
      "/media/usr/SSD/yongmin/PPM/TRAIN_EVAL_SUTRAN_NDA.py:181: FutureWarning: You are using `torch.load` with `weights_only=False` (the current default value), which uses the default pickle module implicitly. It is possible to construct malicious pickle data which will execute arbitrary code during unpickling (See https://github.com/pytorch/pytorch/blob/main/SECURITY.md#untrusted-models for more details). In a future release, the default value for `weights_only` will be flipped to `True`. This limits the functions that could be executed during unpickling. Arbitrary objects will no longer be allowed to be loaded via this mode unless they are explicitly allowlisted by the user via `torch.serialization.add_safe_globals`. We recommend you start setting `weights_only=True` for any use case where you don't have full control of the loaded file. Please open an issue on GitHub for any issues related to this experimental feature.\n",
      "  train_dataset = torch.load(temp_path)\n",
      "/media/usr/SSD/yongmin/PPM/TRAIN_EVAL_SUTRAN_NDA.py:185: FutureWarning: You are using `torch.load` with `weights_only=False` (the current default value), which uses the default pickle module implicitly. It is possible to construct malicious pickle data which will execute arbitrary code during unpickling (See https://github.com/pytorch/pytorch/blob/main/SECURITY.md#untrusted-models for more details). In a future release, the default value for `weights_only` will be flipped to `True`. This limits the functions that could be executed during unpickling. Arbitrary objects will no longer be allowed to be loaded via this mode unless they are explicitly allowlisted by the user via `torch.serialization.add_safe_globals`. We recommend you start setting `weights_only=True` for any use case where you don't have full control of the loaded file. Please open an issue on GitHub for any issues related to this experimental feature.\n",
      "  val_dataset = torch.load(temp_path)\n",
      "/media/usr/SSD/yongmin/PPM/TRAIN_EVAL_SUTRAN_NDA.py:189: FutureWarning: You are using `torch.load` with `weights_only=False` (the current default value), which uses the default pickle module implicitly. It is possible to construct malicious pickle data which will execute arbitrary code during unpickling (See https://github.com/pytorch/pytorch/blob/main/SECURITY.md#untrusted-models for more details). In a future release, the default value for `weights_only` will be flipped to `True`. This limits the functions that could be executed during unpickling. Arbitrary objects will no longer be allowed to be loaded via this mode unless they are explicitly allowlisted by the user via `torch.serialization.add_safe_globals`. We recommend you start setting `weights_only=True` for any use case where you don't have full control of the loaded file. Please open an issue on GitHub for any issues related to this experimental feature.\n",
      "  test_dataset = torch.load(temp_path)\n"
     ]
    },
    {
     "name": "stdout",
     "output_type": "stream",
     "text": [
      "device: cuda\n",
      "Device: cuda\n",
      " \n",
      "------------------------------------\n",
      "EPOCH 0:\n",
      "____________________________________\n"
     ]
    },
    {
     "name": "stderr",
     "output_type": "stream",
     "text": [
      "Batch calculation at epoch 0.: 801it [01:36, 11.11it/s]"
     ]
    },
    {
     "name": "stdout",
     "output_type": "stream",
     "text": [
      "------------------------------------------------------------\n",
      "Epoch 0, batch 799:\n",
      "Average original gradient norm: 1.3314113278687 (over last 800 batches)\n",
      "Average clipped gradient norm: 1.2952706743776798 (over last 800 batches)\n",
      "Running average global loss: 1.8171680663526057 (over last 800 batches)\n",
      "Running average activity prediction loss: 0.9924053563177586 (Cross Entropy over last 800 batches)\n",
      "Running average time till next event prediction loss: 0.24093761768192054 (MAE over last 800 batches)\n",
      "Running average (complete) remaining runtime prediction loss: 0.5838250893726945 (MAE over last 800 batches)\n",
      "------------------------------------------------------------\n"
     ]
    },
    {
     "name": "stderr",
     "output_type": "stream",
     "text": [
      "Batch calculation at epoch 0.: 1601it [03:16,  6.96it/s]"
     ]
    },
    {
     "name": "stdout",
     "output_type": "stream",
     "text": [
      "------------------------------------------------------------\n",
      "Epoch 0, batch 1599:\n",
      "Average original gradient norm: 1.2280171398073434 (over last 800 batches)\n",
      "Average clipped gradient norm: 1.2275191523879767 (over last 800 batches)\n",
      "Running average global loss: 1.3094405257701873 (over last 800 batches)\n",
      "Running average activity prediction loss: 0.5508921992406249 (Cross Entropy over last 800 batches)\n",
      "Running average time till next event prediction loss: 0.19380909888073802 (MAE over last 800 batches)\n",
      "Running average (complete) remaining runtime prediction loss: 0.564739229939878 (MAE over last 800 batches)\n",
      "------------------------------------------------------------\n"
     ]
    },
    {
     "name": "stderr",
     "output_type": "stream",
     "text": [
      "Batch calculation at epoch 0.: 2400it [05:37,  5.14it/s]"
     ]
    },
    {
     "name": "stdout",
     "output_type": "stream",
     "text": [
      "------------------------------------------------------------\n",
      "Epoch 0, batch 2399:\n",
      "Average original gradient norm: 1.2260341732949018 (over last 800 batches)\n",
      "Average clipped gradient norm: 1.225195261016488 (over last 800 batches)\n",
      "Running average global loss: 1.2127354031801223 (over last 800 batches)\n",
      "Running average activity prediction loss: 0.466955078355968 (Cross Entropy over last 800 batches)\n",
      "Running average time till next event prediction loss: 0.18555101286619902 (MAE over last 800 batches)\n",
      "Running average (complete) remaining runtime prediction loss: 0.5602293113991618 (MAE over last 800 batches)\n",
      "------------------------------------------------------------\n"
     ]
    },
    {
     "name": "stderr",
     "output_type": "stream",
     "text": [
      "Batch calculation at epoch 0.: 3201it [07:40,  6.53it/s]"
     ]
    },
    {
     "name": "stdout",
     "output_type": "stream",
     "text": [
      "------------------------------------------------------------\n",
      "Epoch 0, batch 3199:\n",
      "Average original gradient norm: 1.1996770975738764 (over last 800 batches)\n",
      "Average clipped gradient norm: 1.1980098790675402 (over last 800 batches)\n",
      "Running average global loss: 1.1732604835182427 (over last 800 batches)\n",
      "Running average activity prediction loss: 0.4357908682152629 (Cross Entropy over last 800 batches)\n",
      "Running average time till next event prediction loss: 0.1818398989737034 (MAE over last 800 batches)\n",
      "Running average (complete) remaining runtime prediction loss: 0.5556297170370817 (MAE over last 800 batches)\n",
      "------------------------------------------------------------\n"
     ]
    },
    {
     "name": "stderr",
     "output_type": "stream",
     "text": [
      "Batch calculation at epoch 0.: 4001it [09:27,  6.24it/s]"
     ]
    },
    {
     "name": "stdout",
     "output_type": "stream",
     "text": [
      "------------------------------------------------------------\n",
      "Epoch 0, batch 3999:\n",
      "Average original gradient norm: 1.1969602137804032 (over last 800 batches)\n",
      "Average clipped gradient norm: 1.1964815928041934 (over last 800 batches)\n",
      "Running average global loss: 1.1547821336984634 (over last 800 batches)\n",
      "Running average activity prediction loss: 0.41795809142291546 (Cross Entropy over last 800 batches)\n",
      "Running average time till next event prediction loss: 0.1801771852374077 (MAE over last 800 batches)\n",
      "Running average (complete) remaining runtime prediction loss: 0.5566468556970358 (MAE over last 800 batches)\n",
      "------------------------------------------------------------\n"
     ]
    },
    {
     "name": "stderr",
     "output_type": "stream",
     "text": [
      "Batch calculation at epoch 0.: 4798it [11:25,  7.00it/s]\n"
     ]
    },
    {
     "name": "stdout",
     "output_type": "stream",
     "text": [
      "=======================================\n",
      "End of epoch 0\n",
      "=======================================\n",
      "Running average global loss: 1.1344495061039925 (over last 800 batches)\n",
      "Running average activity prediction loss: 0.404684378169477 (Cross Entropy over last 800 batches)\n",
      "Running average time till next event prediction loss: 0.17592528162524104 (MAE over last 800 batches)\n",
      "Running average (complete) remaining runtime prediction loss: 0.5538398454710841 (MAE over last 800 batches)\n"
     ]
    },
    {
     "name": "stderr",
     "output_type": "stream",
     "text": [
      "Validation batch calculation: 36it [29:47, 49.66s/it]\n"
     ]
    },
    {
     "name": "stdout",
     "output_type": "stream",
     "text": [
      "Avg MAE TTNE prediction validation set: 0.21786151826381683 (standardized) ; 806.0325520833334 (minutes)'\n",
      "Avg 1-(normalized) DL distance acitivty suffix prediction validation set: 0.1779521405696869\n",
      "Percentage of suffixes predicted to END: too early - 0.0037884734840986506 ; right moment - 0.08287541724403913 ; too late - 0.9133361092718623\n",
      "Too early instances - avg amount of events too early: 1.8018018007278442\n",
      "Too late instances - avg amount of events too late: 65.17943572998047\n",
      "Avg absolute amount of events predicted too early / too late: 59.537559509277344\n",
      "Avg MAE RRT prediction validation set: 0.49825072288513184 (standardized) ; 8363.202083333334 (minutes)'\n",
      " \n",
      "------------------------------------\n",
      "EPOCH 1:\n",
      "____________________________________\n"
     ]
    },
    {
     "name": "stderr",
     "output_type": "stream",
     "text": [
      "Batch calculation at epoch 1.: 800it [02:16,  4.21it/s]"
     ]
    },
    {
     "name": "stdout",
     "output_type": "stream",
     "text": [
      "------------------------------------------------------------\n",
      "Epoch 1, batch 799:\n",
      "Average original gradient norm: 1.1964121542870998 (over last 800 batches)\n",
      "Average clipped gradient norm: 1.1961943340301513 (over last 800 batches)\n",
      "Running average global loss: 1.1248731449991465 (over last 800 batches)\n",
      "Running average activity prediction loss: 0.39506564680486916 (Cross Entropy over last 800 batches)\n",
      "Running average time till next event prediction loss: 0.1757320368103683 (MAE over last 800 batches)\n",
      "Running average (complete) remaining runtime prediction loss: 0.5540754596889019 (MAE over last 800 batches)\n",
      "------------------------------------------------------------\n"
     ]
    },
    {
     "name": "stderr",
     "output_type": "stream",
     "text": [
      "Batch calculation at epoch 1.: 1601it [04:28,  6.24it/s]"
     ]
    },
    {
     "name": "stdout",
     "output_type": "stream",
     "text": [
      "------------------------------------------------------------\n",
      "Epoch 1, batch 1599:\n",
      "Average original gradient norm: 1.1809485705941916 (over last 800 batches)\n",
      "Average clipped gradient norm: 1.1799975614994764 (over last 800 batches)\n",
      "Running average global loss: 1.110482316315174 (over last 800 batches)\n",
      "Running average activity prediction loss: 0.38892108015716076 (Cross Entropy over last 800 batches)\n",
      "Running average time till next event prediction loss: 0.17365358779206871 (MAE over last 800 batches)\n",
      "Running average (complete) remaining runtime prediction loss: 0.5479076493158936 (MAE over last 800 batches)\n",
      "------------------------------------------------------------\n"
     ]
    },
    {
     "name": "stderr",
     "output_type": "stream",
     "text": [
      "Batch calculation at epoch 1.: 2400it [07:05,  3.52it/s]"
     ]
    },
    {
     "name": "stdout",
     "output_type": "stream",
     "text": [
      "------------------------------------------------------------\n",
      "Epoch 1, batch 2399:\n",
      "Average original gradient norm: 1.1780863317102195 (over last 800 batches)\n",
      "Average clipped gradient norm: 1.177136175557971 (over last 800 batches)\n",
      "Running average global loss: 1.102474430501461 (over last 800 batches)\n",
      "Running average activity prediction loss: 0.38284242160618304 (Cross Entropy over last 800 batches)\n",
      "Running average time till next event prediction loss: 0.17236791387200356 (MAE over last 800 batches)\n",
      "Running average (complete) remaining runtime prediction loss: 0.5472640972957015 (MAE over last 800 batches)\n",
      "------------------------------------------------------------\n"
     ]
    },
    {
     "name": "stderr",
     "output_type": "stream",
     "text": [
      "Batch calculation at epoch 1.: 3201it [09:03,  8.01it/s]"
     ]
    },
    {
     "name": "stdout",
     "output_type": "stream",
     "text": [
      "------------------------------------------------------------\n",
      "Epoch 1, batch 3199:\n",
      "Average original gradient norm: 1.1753837879747153 (over last 800 batches)\n",
      "Average clipped gradient norm: 1.174969886764884 (over last 800 batches)\n",
      "Running average global loss: 1.1009641382843256 (over last 800 batches)\n",
      "Running average activity prediction loss: 0.37868180222809317 (Cross Entropy over last 800 batches)\n",
      "Running average time till next event prediction loss: 0.17227722357958555 (MAE over last 800 batches)\n",
      "Running average (complete) remaining runtime prediction loss: 0.5500051142647863 (MAE over last 800 batches)\n",
      "------------------------------------------------------------\n"
     ]
    },
    {
     "name": "stderr",
     "output_type": "stream",
     "text": [
      "Batch calculation at epoch 1.: 4001it [11:00,  7.62it/s]"
     ]
    },
    {
     "name": "stdout",
     "output_type": "stream",
     "text": [
      "------------------------------------------------------------\n",
      "Epoch 1, batch 3999:\n",
      "Average original gradient norm: 1.1769495276361703 (over last 800 batches)\n",
      "Average clipped gradient norm: 1.1761105787009 (over last 800 batches)\n",
      "Running average global loss: 1.0967715037614107 (over last 800 batches)\n",
      "Running average activity prediction loss: 0.3748401816189289 (Cross Entropy over last 800 batches)\n",
      "Running average time till next event prediction loss: 0.17120348516851663 (MAE over last 800 batches)\n",
      "Running average (complete) remaining runtime prediction loss: 0.5507278349995613 (MAE over last 800 batches)\n",
      "------------------------------------------------------------\n"
     ]
    },
    {
     "name": "stderr",
     "output_type": "stream",
     "text": [
      "Batch calculation at epoch 1.: 4798it [12:47,  6.25it/s]\n"
     ]
    },
    {
     "name": "stdout",
     "output_type": "stream",
     "text": [
      "=======================================\n",
      "End of epoch 1\n",
      "=======================================\n",
      "Running average global loss: 1.0895005317777395 (over last 800 batches)\n",
      "Running average activity prediction loss: 0.37125434294342996 (Cross Entropy over last 800 batches)\n",
      "Running average time till next event prediction loss: 0.17073268245905637 (MAE over last 800 batches)\n",
      "Running average (complete) remaining runtime prediction loss: 0.5475135047733783 (MAE over last 800 batches)\n"
     ]
    },
    {
     "name": "stderr",
     "output_type": "stream",
     "text": [
      "Validation batch calculation: 36it [29:14, 48.74s/it]\n"
     ]
    },
    {
     "name": "stdout",
     "output_type": "stream",
     "text": [
      "Avg MAE TTNE prediction validation set: 0.21483059227466583 (standardized) ; 795.6724609375 (minutes)'\n",
      "Avg 1-(normalized) DL distance acitivty suffix prediction validation set: 0.1803438812494278\n",
      "Percentage of suffixes predicted to END: too early - 0.0031263438841751027 ; right moment - 0.08458193683147096 ; too late - 0.9122917192843539\n",
      "Too early instances - avg amount of events too early: 3.2161571979522705\n",
      "Too late instances - avg amount of events too late: 65.15082550048828\n",
      "Avg absolute amount of events predicted too early / too late: 59.446617126464844\n",
      "Avg MAE RRT prediction validation set: 0.501870334148407 (standardized) ; 8413.0328125 (minutes)'\n",
      " \n",
      "------------------------------------\n",
      "EPOCH 2:\n",
      "____________________________________\n"
     ]
    },
    {
     "name": "stderr",
     "output_type": "stream",
     "text": [
      "Batch calculation at epoch 2.: 801it [02:05,  6.53it/s]"
     ]
    },
    {
     "name": "stdout",
     "output_type": "stream",
     "text": [
      "------------------------------------------------------------\n",
      "Epoch 2, batch 799:\n",
      "Average original gradient norm: 1.1645201332122088 (over last 800 batches)\n",
      "Average clipped gradient norm: 1.1645201332122088 (over last 800 batches)\n",
      "Running average global loss: 1.0866736025363206 (over last 800 batches)\n",
      "Running average activity prediction loss: 0.36732801228761675 (Cross Entropy over last 800 batches)\n",
      "Running average time till next event prediction loss: 0.17022873597219587 (MAE over last 800 batches)\n",
      "Running average (complete) remaining runtime prediction loss: 0.5491168566420674 (MAE over last 800 batches)\n",
      "------------------------------------------------------------\n"
     ]
    },
    {
     "name": "stderr",
     "output_type": "stream",
     "text": [
      "Batch calculation at epoch 2.: 1601it [04:15,  5.81it/s]"
     ]
    },
    {
     "name": "stdout",
     "output_type": "stream",
     "text": [
      "------------------------------------------------------------\n",
      "Epoch 2, batch 1599:\n",
      "Average original gradient norm: 1.1744374956190586 (over last 800 batches)\n",
      "Average clipped gradient norm: 1.1742216600477695 (over last 800 batches)\n",
      "Running average global loss: 1.078384357392788 (over last 800 batches)\n",
      "Running average activity prediction loss: 0.3641582579538226 (Cross Entropy over last 800 batches)\n",
      "Running average time till next event prediction loss: 0.16954321904107927 (MAE over last 800 batches)\n",
      "Running average (complete) remaining runtime prediction loss: 0.5446828812360763 (MAE over last 800 batches)\n",
      "------------------------------------------------------------\n"
     ]
    },
    {
     "name": "stderr",
     "output_type": "stream",
     "text": [
      "Batch calculation at epoch 2.: 2401it [06:56,  8.17it/s]"
     ]
    },
    {
     "name": "stdout",
     "output_type": "stream",
     "text": [
      "------------------------------------------------------------\n",
      "Epoch 2, batch 2399:\n",
      "Average original gradient norm: 1.2133032720535994 (over last 800 batches)\n",
      "Average clipped gradient norm: 1.2116901720315219 (over last 800 batches)\n",
      "Running average global loss: 1.0796345593780279 (over last 800 batches)\n",
      "Running average activity prediction loss: 0.3613822764158249 (Cross Entropy over last 800 batches)\n",
      "Running average time till next event prediction loss: 0.1700215005967766 (MAE over last 800 batches)\n",
      "Running average (complete) remaining runtime prediction loss: 0.5482307808473706 (MAE over last 800 batches)\n",
      "------------------------------------------------------------\n"
     ]
    },
    {
     "name": "stderr",
     "output_type": "stream",
     "text": [
      "Batch calculation at epoch 2.: 3201it [08:53,  8.06it/s]"
     ]
    },
    {
     "name": "stdout",
     "output_type": "stream",
     "text": [
      "------------------------------------------------------------\n",
      "Epoch 2, batch 3199:\n",
      "Average original gradient norm: 1.180040317699313 (over last 800 batches)\n",
      "Average clipped gradient norm: 1.1796447607129812 (over last 800 batches)\n",
      "Running average global loss: 1.076914401128888 (over last 800 batches)\n",
      "Running average activity prediction loss: 0.35894473098218443 (Cross Entropy over last 800 batches)\n",
      "Running average time till next event prediction loss: 0.17000241052359344 (MAE over last 800 batches)\n",
      "Running average (complete) remaining runtime prediction loss: 0.5479672608524561 (MAE over last 800 batches)\n",
      "------------------------------------------------------------\n"
     ]
    },
    {
     "name": "stderr",
     "output_type": "stream",
     "text": [
      "Batch calculation at epoch 2.: 4001it [10:38,  8.18it/s]"
     ]
    },
    {
     "name": "stdout",
     "output_type": "stream",
     "text": [
      "------------------------------------------------------------\n",
      "Epoch 2, batch 3999:\n",
      "Average original gradient norm: 1.1992001075297594 (over last 800 batches)\n",
      "Average clipped gradient norm: 1.1987012072652579 (over last 800 batches)\n",
      "Running average global loss: 1.0712194415181875 (over last 800 batches)\n",
      "Running average activity prediction loss: 0.3567985562607646 (Cross Entropy over last 800 batches)\n",
      "Running average time till next event prediction loss: 0.16862678684294224 (MAE over last 800 batches)\n",
      "Running average (complete) remaining runtime prediction loss: 0.5457941006869078 (MAE over last 800 batches)\n",
      "------------------------------------------------------------\n"
     ]
    },
    {
     "name": "stderr",
     "output_type": "stream",
     "text": [
      "Batch calculation at epoch 2.: 4798it [13:00,  6.14it/s]\n"
     ]
    },
    {
     "name": "stdout",
     "output_type": "stream",
     "text": [
      "=======================================\n",
      "End of epoch 2\n",
      "=======================================\n",
      "Running average global loss: 1.0673560893535614 (over last 800 batches)\n",
      "Running average activity prediction loss: 0.35460837066173556 (Cross Entropy over last 800 batches)\n",
      "Running average time till next event prediction loss: 0.16856496695429088 (MAE over last 800 batches)\n",
      "Running average (complete) remaining runtime prediction loss: 0.5441827505081892 (MAE over last 800 batches)\n"
     ]
    },
    {
     "name": "stderr",
     "output_type": "stream",
     "text": [
      "Validation batch calculation: 36it [30:14, 50.41s/it]\n"
     ]
    },
    {
     "name": "stdout",
     "output_type": "stream",
     "text": [
      "Avg MAE TTNE prediction validation set: 0.21003705263137817 (standardized) ; 777.5518229166667 (minutes)'\n",
      "Avg 1-(normalized) DL distance acitivty suffix prediction validation set: 0.1810242384672165\n",
      "Percentage of suffixes predicted to END: too early - 0.0030376048656286475 ; right moment - 0.08544884878188631 ; too late - 0.911513546352485\n",
      "Too early instances - avg amount of events too early: 2.233707904815674\n",
      "Too late instances - avg amount of events too late: 65.21417236328125\n",
      "Avg absolute amount of events predicted too early / too late: 59.45038604736328\n",
      "Avg MAE RRT prediction validation set: 0.4954884350299835 (standardized) ; 8303.757291666667 (minutes)'\n",
      " \n",
      "------------------------------------\n",
      "EPOCH 3:\n",
      "____________________________________\n"
     ]
    },
    {
     "name": "stderr",
     "output_type": "stream",
     "text": [
      "Batch calculation at epoch 3.: 801it [01:51,  8.11it/s]"
     ]
    },
    {
     "name": "stdout",
     "output_type": "stream",
     "text": [
      "------------------------------------------------------------\n",
      "Epoch 3, batch 799:\n",
      "Average original gradient norm: 1.1972618874907495 (over last 800 batches)\n",
      "Average clipped gradient norm: 1.1964768387377263 (over last 800 batches)\n",
      "Running average global loss: 1.0667131445556879 (over last 800 batches)\n",
      "Running average activity prediction loss: 0.3527570802345872 (Cross Entropy over last 800 batches)\n",
      "Running average time till next event prediction loss: 0.16888214404694735 (MAE over last 800 batches)\n",
      "Running average (complete) remaining runtime prediction loss: 0.5450739205256104 (MAE over last 800 batches)\n",
      "------------------------------------------------------------\n"
     ]
    },
    {
     "name": "stderr",
     "output_type": "stream",
     "text": [
      "Batch calculation at epoch 3.: 1600it [04:06,  5.09it/s]"
     ]
    },
    {
     "name": "stdout",
     "output_type": "stream",
     "text": [
      "------------------------------------------------------------\n",
      "Epoch 3, batch 1599:\n",
      "Average original gradient norm: 1.20415092818439 (over last 800 batches)\n",
      "Average clipped gradient norm: 1.203289378657937 (over last 800 batches)\n",
      "Running average global loss: 1.062504741549492 (over last 800 batches)\n",
      "Running average activity prediction loss: 0.3508143221586943 (Cross Entropy over last 800 batches)\n",
      "Running average time till next event prediction loss: 0.16803118467330933 (MAE over last 800 batches)\n",
      "Running average (complete) remaining runtime prediction loss: 0.5436592322215438 (MAE over last 800 batches)\n",
      "------------------------------------------------------------\n"
     ]
    },
    {
     "name": "stderr",
     "output_type": "stream",
     "text": [
      "Batch calculation at epoch 3.: 2401it [06:40,  7.87it/s]"
     ]
    },
    {
     "name": "stdout",
     "output_type": "stream",
     "text": [
      "------------------------------------------------------------\n",
      "Epoch 3, batch 2399:\n",
      "Average original gradient norm: 1.203218069449067 (over last 800 batches)\n",
      "Average clipped gradient norm: 1.2023340833932161 (over last 800 batches)\n",
      "Running average global loss: 1.0644037225842475 (over last 800 batches)\n",
      "Running average activity prediction loss: 0.349859356880188 (Cross Entropy over last 800 batches)\n",
      "Running average time till next event prediction loss: 0.16805369706824422 (MAE over last 800 batches)\n",
      "Running average (complete) remaining runtime prediction loss: 0.546490666680038 (MAE over last 800 batches)\n",
      "------------------------------------------------------------\n"
     ]
    },
    {
     "name": "stderr",
     "output_type": "stream",
     "text": [
      "Batch calculation at epoch 3.: 3200it [08:37,  3.78it/s]"
     ]
    },
    {
     "name": "stdout",
     "output_type": "stream",
     "text": [
      "------------------------------------------------------------\n",
      "Epoch 3, batch 3199:\n",
      "Average original gradient norm: 1.1977222948521375 (over last 800 batches)\n",
      "Average clipped gradient norm: 1.1976863250881433 (over last 800 batches)\n",
      "Running average global loss: 1.060446404889226 (over last 800 batches)\n",
      "Running average activity prediction loss: 0.348749707005918 (Cross Entropy over last 800 batches)\n",
      "Running average time till next event prediction loss: 0.1679473107494414 (MAE over last 800 batches)\n",
      "Running average (complete) remaining runtime prediction loss: 0.5437493847683073 (MAE over last 800 batches)\n",
      "------------------------------------------------------------\n"
     ]
    },
    {
     "name": "stderr",
     "output_type": "stream",
     "text": [
      "Batch calculation at epoch 3.: 4001it [10:54,  8.09it/s]"
     ]
    },
    {
     "name": "stdout",
     "output_type": "stream",
     "text": [
      "------------------------------------------------------------\n",
      "Epoch 3, batch 3999:\n",
      "Average original gradient norm: 1.2464654953032732 (over last 800 batches)\n",
      "Average clipped gradient norm: 1.2460392955690622 (over last 800 batches)\n",
      "Running average global loss: 1.0577046588808299 (over last 800 batches)\n",
      "Running average activity prediction loss: 0.3460805406048894 (Cross Entropy over last 800 batches)\n",
      "Running average time till next event prediction loss: 0.16690048852935432 (MAE over last 800 batches)\n",
      "Running average (complete) remaining runtime prediction loss: 0.5447236286848783 (MAE over last 800 batches)\n",
      "------------------------------------------------------------\n"
     ]
    },
    {
     "name": "stderr",
     "output_type": "stream",
     "text": [
      "Batch calculation at epoch 3.: 4798it [13:14,  6.04it/s]\n"
     ]
    },
    {
     "name": "stdout",
     "output_type": "stream",
     "text": [
      "=======================================\n",
      "End of epoch 3\n",
      "=======================================\n",
      "Running average global loss: 1.0585471555590629 (over last 800 batches)\n",
      "Running average activity prediction loss: 0.3435147112980485 (Cross Entropy over last 800 batches)\n",
      "Running average time till next event prediction loss: 0.1686103804782033 (MAE over last 800 batches)\n",
      "Running average (complete) remaining runtime prediction loss: 0.5464220630005002 (MAE over last 800 batches)\n"
     ]
    },
    {
     "name": "stderr",
     "output_type": "stream",
     "text": [
      "Validation batch calculation: 36it [34:48, 58.03s/it]\n"
     ]
    },
    {
     "name": "stdout",
     "output_type": "stream",
     "text": [
      "Avg MAE TTNE prediction validation set: 0.20991362631320953 (standardized) ; 777.499609375 (minutes)'\n",
      "Avg 1-(normalized) DL distance acitivty suffix prediction validation set: 0.18830470740795135\n",
      "Percentage of suffixes predicted to END: too early - 0.007692990300142665 ; right moment - 0.08714854229096841 ; too late - 0.905158467408889\n",
      "Too early instances - avg amount of events too early: 9.419698715209961\n",
      "Too late instances - avg amount of events too late: 64.98275756835938\n",
      "Avg absolute amount of events predicted too early / too late: 58.89216232299805\n",
      "Avg MAE RRT prediction validation set: 0.4959869086742401 (standardized) ; 8317.896354166667 (minutes)'\n",
      " \n",
      "------------------------------------\n",
      "EPOCH 4:\n",
      "____________________________________\n"
     ]
    },
    {
     "name": "stderr",
     "output_type": "stream",
     "text": [
      "Batch calculation at epoch 4.: 801it [01:38,  5.80it/s]"
     ]
    },
    {
     "name": "stdout",
     "output_type": "stream",
     "text": [
      "------------------------------------------------------------\n",
      "Epoch 4, batch 799:\n",
      "Average original gradient norm: 1.2158049879968167 (over last 800 batches)\n",
      "Average clipped gradient norm: 1.2144234012067319 (over last 800 batches)\n",
      "Running average global loss: 1.0530638559907675 (over last 800 batches)\n",
      "Running average activity prediction loss: 0.3430547088757157 (Cross Entropy over last 800 batches)\n",
      "Running average time till next event prediction loss: 0.16751208709552884 (MAE over last 800 batches)\n",
      "Running average (complete) remaining runtime prediction loss: 0.5424970617517829 (MAE over last 800 batches)\n",
      "------------------------------------------------------------\n"
     ]
    },
    {
     "name": "stderr",
     "output_type": "stream",
     "text": [
      "Batch calculation at epoch 4.: 1601it [03:51,  8.01it/s]"
     ]
    },
    {
     "name": "stdout",
     "output_type": "stream",
     "text": [
      "------------------------------------------------------------\n",
      "Epoch 4, batch 1599:\n",
      "Average original gradient norm: 1.2577344220876694 (over last 800 batches)\n",
      "Average clipped gradient norm: 1.2553656987845898 (over last 800 batches)\n",
      "Running average global loss: 1.052555437386036 (over last 800 batches)\n",
      "Running average activity prediction loss: 0.3426809494569898 (Cross Entropy over last 800 batches)\n",
      "Running average time till next event prediction loss: 0.16625809317454696 (MAE over last 800 batches)\n",
      "Running average (complete) remaining runtime prediction loss: 0.543616394214332 (MAE over last 800 batches)\n",
      "------------------------------------------------------------\n"
     ]
    },
    {
     "name": "stderr",
     "output_type": "stream",
     "text": [
      "Batch calculation at epoch 4.: 2401it [05:34, 10.84it/s]"
     ]
    },
    {
     "name": "stdout",
     "output_type": "stream",
     "text": [
      "------------------------------------------------------------\n",
      "Epoch 4, batch 2399:\n",
      "Average original gradient norm: 1.2742956764996052 (over last 800 batches)\n",
      "Average clipped gradient norm: 1.2699729201197625 (over last 800 batches)\n",
      "Running average global loss: 1.051036386936903 (over last 800 batches)\n",
      "Running average activity prediction loss: 0.34003987554460763 (Cross Entropy over last 800 batches)\n",
      "Running average time till next event prediction loss: 0.16656751066446304 (MAE over last 800 batches)\n",
      "Running average (complete) remaining runtime prediction loss: 0.5444290015846491 (MAE over last 800 batches)\n",
      "------------------------------------------------------------\n"
     ]
    },
    {
     "name": "stderr",
     "output_type": "stream",
     "text": [
      "Batch calculation at epoch 4.: 3201it [07:20,  6.98it/s]"
     ]
    },
    {
     "name": "stdout",
     "output_type": "stream",
     "text": [
      "------------------------------------------------------------\n",
      "Epoch 4, batch 3199:\n",
      "Average original gradient norm: 1.266600327566266 (over last 800 batches)\n",
      "Average clipped gradient norm: 1.264289559200406 (over last 800 batches)\n",
      "Running average global loss: 1.049874259456992 (over last 800 batches)\n",
      "Running average activity prediction loss: 0.3387251060083509 (Cross Entropy over last 800 batches)\n",
      "Running average time till next event prediction loss: 0.16775487845763565 (MAE over last 800 batches)\n",
      "Running average (complete) remaining runtime prediction loss: 0.5433942753076554 (MAE over last 800 batches)\n",
      "------------------------------------------------------------\n"
     ]
    },
    {
     "name": "stderr",
     "output_type": "stream",
     "text": [
      "Batch calculation at epoch 4.: 4001it [09:24,  5.33it/s]"
     ]
    },
    {
     "name": "stdout",
     "output_type": "stream",
     "text": [
      "------------------------------------------------------------\n",
      "Epoch 4, batch 3999:\n",
      "Average original gradient norm: 1.303661323785782 (over last 800 batches)\n",
      "Average clipped gradient norm: 1.300826646089554 (over last 800 batches)\n",
      "Running average global loss: 1.0463923016935588 (over last 800 batches)\n",
      "Running average activity prediction loss: 0.339057105332613 (Cross Entropy over last 800 batches)\n",
      "Running average time till next event prediction loss: 0.1664018318615854 (MAE over last 800 batches)\n",
      "Running average (complete) remaining runtime prediction loss: 0.5409333629161119 (MAE over last 800 batches)\n",
      "------------------------------------------------------------\n"
     ]
    },
    {
     "name": "stderr",
     "output_type": "stream",
     "text": [
      "Batch calculation at epoch 4.: 4798it [11:34,  6.90it/s]\n"
     ]
    },
    {
     "name": "stdout",
     "output_type": "stream",
     "text": [
      "=======================================\n",
      "End of epoch 4\n",
      "=======================================\n",
      "Running average global loss: 1.0491759467869997 (over last 800 batches)\n",
      "Running average activity prediction loss: 0.33742585133761166 (Cross Entropy over last 800 batches)\n",
      "Running average time till next event prediction loss: 0.16727332174777984 (MAE over last 800 batches)\n",
      "Running average (complete) remaining runtime prediction loss: 0.5444767770543695 (MAE over last 800 batches)\n"
     ]
    },
    {
     "name": "stderr",
     "output_type": "stream",
     "text": [
      "Validation batch calculation: 36it [23:01, 38.38s/it]\n"
     ]
    },
    {
     "name": "stdout",
     "output_type": "stream",
     "text": [
      "Avg MAE TTNE prediction validation set: 0.20944814383983612 (standardized) ; 775.3573567708333 (minutes)'\n",
      "Avg 1-(normalized) DL distance acitivty suffix prediction validation set: 0.22360000014305115\n",
      "Percentage of suffixes predicted to END: too early - 0.022225711106712082 ; right moment - 0.08884823580005051 ; too late - 0.8889260530932374\n",
      "Too early instances - avg amount of events too early: 9.002763748168945\n",
      "Too late instances - avg amount of events too late: 60.38406753540039\n",
      "Avg absolute amount of events predicted too early / too late: 53.8770637512207\n",
      "Avg MAE RRT prediction validation set: 0.4997568726539612 (standardized) ; 8368.840625 (minutes)'\n",
      " \n",
      "------------------------------------\n",
      "EPOCH 5:\n",
      "____________________________________\n"
     ]
    },
    {
     "name": "stderr",
     "output_type": "stream",
     "text": [
      "Batch calculation at epoch 5.: 802it [01:50,  9.73it/s]"
     ]
    },
    {
     "name": "stdout",
     "output_type": "stream",
     "text": [
      "------------------------------------------------------------\n",
      "Epoch 5, batch 799:\n",
      "Average original gradient norm: 1.2984531237185002 (over last 800 batches)\n",
      "Average clipped gradient norm: 1.2963849134743213 (over last 800 batches)\n",
      "Running average global loss: 1.0484659731388093 (over last 800 batches)\n",
      "Running average activity prediction loss: 0.3361689239740372 (Cross Entropy over last 800 batches)\n",
      "Running average time till next event prediction loss: 0.16712080484256148 (MAE over last 800 batches)\n",
      "Running average (complete) remaining runtime prediction loss: 0.5451762438938021 (MAE over last 800 batches)\n",
      "------------------------------------------------------------\n"
     ]
    },
    {
     "name": "stderr",
     "output_type": "stream",
     "text": [
      "Batch calculation at epoch 5.: 1601it [03:56,  6.61it/s]"
     ]
    },
    {
     "name": "stdout",
     "output_type": "stream",
     "text": [
      "------------------------------------------------------------\n",
      "Epoch 5, batch 1599:\n",
      "Average original gradient norm: 1.3645308137685062 (over last 800 batches)\n",
      "Average clipped gradient norm: 1.3592746060341596 (over last 800 batches)\n",
      "Running average global loss: 1.041957203000784 (over last 800 batches)\n",
      "Running average activity prediction loss: 0.3346302931383252 (Cross Entropy over last 800 batches)\n",
      "Running average time till next event prediction loss: 0.16608407247811555 (MAE over last 800 batches)\n",
      "Running average (complete) remaining runtime prediction loss: 0.5412428389117122 (MAE over last 800 batches)\n",
      "------------------------------------------------------------\n"
     ]
    },
    {
     "name": "stderr",
     "output_type": "stream",
     "text": [
      "Batch calculation at epoch 5.: 2401it [06:00,  7.00it/s]"
     ]
    },
    {
     "name": "stdout",
     "output_type": "stream",
     "text": [
      "------------------------------------------------------------\n",
      "Epoch 5, batch 2399:\n",
      "Average original gradient norm: 1.3783894707262516 (over last 800 batches)\n",
      "Average clipped gradient norm: 1.3743847641348839 (over last 800 batches)\n",
      "Running average global loss: 1.039194326326251 (over last 800 batches)\n",
      "Running average activity prediction loss: 0.33382859505712986 (Cross Entropy over last 800 batches)\n",
      "Running average time till next event prediction loss: 0.16558008617721498 (MAE over last 800 batches)\n",
      "Running average (complete) remaining runtime prediction loss: 0.539785645455122 (MAE over last 800 batches)\n",
      "------------------------------------------------------------\n"
     ]
    },
    {
     "name": "stderr",
     "output_type": "stream",
     "text": [
      "Batch calculation at epoch 5.: 3201it [08:09,  7.10it/s]"
     ]
    },
    {
     "name": "stdout",
     "output_type": "stream",
     "text": [
      "------------------------------------------------------------\n",
      "Epoch 5, batch 3199:\n",
      "Average original gradient norm: 1.4650226332992315 (over last 800 batches)\n",
      "Average clipped gradient norm: 1.454565688893199 (over last 800 batches)\n",
      "Running average global loss: 1.0422900173813106 (over last 800 batches)\n",
      "Running average activity prediction loss: 0.3320231730863452 (Cross Entropy over last 800 batches)\n",
      "Running average time till next event prediction loss: 0.1666251369100064 (MAE over last 800 batches)\n",
      "Running average (complete) remaining runtime prediction loss: 0.543641708791256 (MAE over last 800 batches)\n",
      "------------------------------------------------------------\n"
     ]
    },
    {
     "name": "stderr",
     "output_type": "stream",
     "text": [
      "Batch calculation at epoch 5.: 4001it [09:52,  5.64it/s]"
     ]
    },
    {
     "name": "stdout",
     "output_type": "stream",
     "text": [
      "------------------------------------------------------------\n",
      "Epoch 5, batch 3999:\n",
      "Average original gradient norm: 1.570422685444355 (over last 800 batches)\n",
      "Average clipped gradient norm: 1.5412019868195057 (over last 800 batches)\n",
      "Running average global loss: 1.0394441030919552 (over last 800 batches)\n",
      "Running average activity prediction loss: 0.3310033540427685 (Cross Entropy over last 800 batches)\n",
      "Running average time till next event prediction loss: 0.16648438753560185 (MAE over last 800 batches)\n",
      "Running average (complete) remaining runtime prediction loss: 0.5419563634321094 (MAE over last 800 batches)\n",
      "------------------------------------------------------------\n"
     ]
    },
    {
     "name": "stderr",
     "output_type": "stream",
     "text": [
      "Batch calculation at epoch 5.: 4798it [11:37,  6.88it/s]\n"
     ]
    },
    {
     "name": "stdout",
     "output_type": "stream",
     "text": [
      "=======================================\n",
      "End of epoch 5\n",
      "=======================================\n",
      "Running average global loss: 1.0355056229233741 (over last 800 batches)\n",
      "Running average activity prediction loss: 0.3301399207115173 (Cross Entropy over last 800 batches)\n",
      "Running average time till next event prediction loss: 0.1649110677372664 (MAE over last 800 batches)\n",
      "Running average (complete) remaining runtime prediction loss: 0.5404546346515418 (MAE over last 800 batches)\n"
     ]
    },
    {
     "name": "stderr",
     "output_type": "stream",
     "text": [
      "Validation batch calculation: 36it [23:17, 38.81s/it]\n"
     ]
    },
    {
     "name": "stdout",
     "output_type": "stream",
     "text": [
      "Avg MAE TTNE prediction validation set: 0.2092767357826233 (standardized) ; 774.4070963541667 (minutes)'\n",
      "Avg 1-(normalized) DL distance acitivty suffix prediction validation set: 0.2652042508125305\n",
      "Percentage of suffixes predicted to END: too early - 0.053953323276244566 ; right moment - 0.09449340259527499 ; too late - 0.8515532741284805\n",
      "Too early instances - avg amount of events too early: 10.264169692993164\n",
      "Too late instances - avg amount of events too late: 56.56553268432617\n",
      "Avg absolute amount of events predicted too early / too late: 48.72235107421875\n",
      "Avg MAE RRT prediction validation set: 0.495988667011261 (standardized) ; 8316.119270833333 (minutes)'\n",
      " \n",
      "------------------------------------\n",
      "EPOCH 6:\n",
      "____________________________________\n"
     ]
    },
    {
     "name": "stderr",
     "output_type": "stream",
     "text": [
      "Batch calculation at epoch 6.: 801it [01:54,  5.47it/s]"
     ]
    },
    {
     "name": "stdout",
     "output_type": "stream",
     "text": [
      "------------------------------------------------------------\n",
      "Epoch 6, batch 799:\n",
      "Average original gradient norm: 1.8724803775548935 (over last 800 batches)\n",
      "Average clipped gradient norm: 1.6818749848008157 (over last 800 batches)\n",
      "Running average global loss: 1.0317518221586943 (over last 800 batches)\n",
      "Running average activity prediction loss: 0.328958226069808 (Cross Entropy over last 800 batches)\n",
      "Running average time till next event prediction loss: 0.16510413264855742 (MAE over last 800 batches)\n",
      "Running average (complete) remaining runtime prediction loss: 0.5376894610747694 (MAE over last 800 batches)\n",
      "------------------------------------------------------------\n"
     ]
    },
    {
     "name": "stderr",
     "output_type": "stream",
     "text": [
      "Batch calculation at epoch 6.: 1601it [03:32,  7.44it/s]"
     ]
    },
    {
     "name": "stdout",
     "output_type": "stream",
     "text": [
      "------------------------------------------------------------\n",
      "Epoch 6, batch 1599:\n",
      "Average original gradient norm: 1.988140678703785 (over last 800 batches)\n",
      "Average clipped gradient norm: 1.7309480063617229 (over last 800 batches)\n",
      "Running average global loss: 1.0363600597530604 (over last 800 batches)\n",
      "Running average activity prediction loss: 0.32812290377914904 (Cross Entropy over last 800 batches)\n",
      "Running average time till next event prediction loss: 0.16597416428849102 (MAE over last 800 batches)\n",
      "Running average (complete) remaining runtime prediction loss: 0.5422629910334945 (MAE over last 800 batches)\n",
      "------------------------------------------------------------\n"
     ]
    },
    {
     "name": "stderr",
     "output_type": "stream",
     "text": [
      "Batch calculation at epoch 6.: 2401it [05:53,  4.80it/s]"
     ]
    },
    {
     "name": "stdout",
     "output_type": "stream",
     "text": [
      "------------------------------------------------------------\n",
      "Epoch 6, batch 2399:\n",
      "Average original gradient norm: 2.2004681599885227 (over last 800 batches)\n",
      "Average clipped gradient norm: 1.8016548833996058 (over last 800 batches)\n",
      "Running average global loss: 1.0334420163929463 (over last 800 batches)\n",
      "Running average activity prediction loss: 0.3272776124253869 (Cross Entropy over last 800 batches)\n",
      "Running average time till next event prediction loss: 0.1651688496954739 (MAE over last 800 batches)\n",
      "Running average (complete) remaining runtime prediction loss: 0.5409955527260899 (MAE over last 800 batches)\n",
      "------------------------------------------------------------\n"
     ]
    },
    {
     "name": "stderr",
     "output_type": "stream",
     "text": [
      "Batch calculation at epoch 6.: 3201it [08:05,  6.42it/s]"
     ]
    },
    {
     "name": "stdout",
     "output_type": "stream",
     "text": [
      "------------------------------------------------------------\n",
      "Epoch 6, batch 3199:\n",
      "Average original gradient norm: 2.3882473421096804 (over last 800 batches)\n",
      "Average clipped gradient norm: 1.8296863451600074 (over last 800 batches)\n",
      "Running average global loss: 1.03283317245543 (over last 800 batches)\n",
      "Running average activity prediction loss: 0.32592235460877417 (Cross Entropy over last 800 batches)\n",
      "Running average time till next event prediction loss: 0.16573980564251542 (MAE over last 800 batches)\n",
      "Running average (complete) remaining runtime prediction loss: 0.5411710133776069 (MAE over last 800 batches)\n",
      "------------------------------------------------------------\n"
     ]
    },
    {
     "name": "stderr",
     "output_type": "stream",
     "text": [
      "Batch calculation at epoch 6.: 4001it [10:11,  8.71it/s]"
     ]
    },
    {
     "name": "stdout",
     "output_type": "stream",
     "text": [
      "------------------------------------------------------------\n",
      "Epoch 6, batch 3999:\n",
      "Average original gradient norm: 2.4997881086170675 (over last 800 batches)\n",
      "Average clipped gradient norm: 1.8550487287342547 (over last 800 batches)\n",
      "Running average global loss: 1.033177414610982 (over last 800 batches)\n",
      "Running average activity prediction loss: 0.32526294376701115 (Cross Entropy over last 800 batches)\n",
      "Running average time till next event prediction loss: 0.16583374250680208 (MAE over last 800 batches)\n",
      "Running average (complete) remaining runtime prediction loss: 0.5420807304978371 (MAE over last 800 batches)\n",
      "------------------------------------------------------------\n"
     ]
    },
    {
     "name": "stderr",
     "output_type": "stream",
     "text": [
      "Batch calculation at epoch 6.: 4798it [12:16,  6.51it/s]\n"
     ]
    },
    {
     "name": "stdout",
     "output_type": "stream",
     "text": [
      "=======================================\n",
      "End of epoch 6\n",
      "=======================================\n",
      "Running average global loss: 1.0322631093859673 (over last 800 batches)\n",
      "Running average activity prediction loss: 0.32544888988137244 (Cross Entropy over last 800 batches)\n",
      "Running average time till next event prediction loss: 0.16508151967078447 (MAE over last 800 batches)\n",
      "Running average (complete) remaining runtime prediction loss: 0.5417327001690865 (MAE over last 800 batches)\n"
     ]
    },
    {
     "name": "stderr",
     "output_type": "stream",
     "text": [
      "Validation batch calculation: 36it [23:50, 39.75s/it]\n"
     ]
    },
    {
     "name": "stdout",
     "output_type": "stream",
     "text": [
      "Avg MAE TTNE prediction validation set: 0.21014808118343353 (standardized) ; 778.1499348958333 (minutes)'\n",
      "Avg 1-(normalized) DL distance acitivty suffix prediction validation set: 0.2302427440881729\n",
      "Percentage of suffixes predicted to END: too early - 0.02705857457831901 ; right moment - 0.0919950579192748 ; too late - 0.8809463675024062\n",
      "Too early instances - avg amount of events too early: 9.142532348632812\n",
      "Too late instances - avg amount of events too late: 60.19569778442383\n",
      "Avg absolute amount of events predicted too early / too late: 53.27656555175781\n",
      "Avg MAE RRT prediction validation set: 0.4978242516517639 (standardized) ; 8329.855729166668 (minutes)'\n",
      " \n",
      "------------------------------------\n",
      "EPOCH 7:\n",
      "____________________________________\n"
     ]
    },
    {
     "name": "stderr",
     "output_type": "stream",
     "text": [
      "Batch calculation at epoch 7.: 801it [01:29,  8.62it/s]"
     ]
    },
    {
     "name": "stdout",
     "output_type": "stream",
     "text": [
      "------------------------------------------------------------\n",
      "Epoch 7, batch 799:\n",
      "Average original gradient norm: 2.876606939211488 (over last 800 batches)\n",
      "Average clipped gradient norm: 1.8997814636677504 (over last 800 batches)\n",
      "Running average global loss: 1.0286142055690288 (over last 800 batches)\n",
      "Running average activity prediction loss: 0.3241631640121341 (Cross Entropy over last 800 batches)\n",
      "Running average time till next event prediction loss: 0.165173345413059 (MAE over last 800 batches)\n",
      "Running average (complete) remaining runtime prediction loss: 0.5392776970937848 (MAE over last 800 batches)\n",
      "------------------------------------------------------------\n"
     ]
    },
    {
     "name": "stderr",
     "output_type": "stream",
     "text": [
      "Batch calculation at epoch 7.: 1602it [03:05, 10.28it/s]"
     ]
    },
    {
     "name": "stdout",
     "output_type": "stream",
     "text": [
      "------------------------------------------------------------\n",
      "Epoch 7, batch 1599:\n",
      "Average original gradient norm: 2.8858933529257773 (over last 800 batches)\n",
      "Average clipped gradient norm: 1.8895529977977277 (over last 800 batches)\n",
      "Running average global loss: 1.0292952167242766 (over last 800 batches)\n",
      "Running average activity prediction loss: 0.3232400469109416 (Cross Entropy over last 800 batches)\n",
      "Running average time till next event prediction loss: 0.16534973077476026 (MAE over last 800 batches)\n",
      "Running average (complete) remaining runtime prediction loss: 0.5407054367288947 (MAE over last 800 batches)\n",
      "------------------------------------------------------------\n"
     ]
    },
    {
     "name": "stderr",
     "output_type": "stream",
     "text": [
      "Batch calculation at epoch 7.: 2401it [04:45, 11.10it/s]"
     ]
    },
    {
     "name": "stdout",
     "output_type": "stream",
     "text": [
      "------------------------------------------------------------\n",
      "Epoch 7, batch 2399:\n",
      "Average original gradient norm: 3.1004890859127046 (over last 800 batches)\n",
      "Average clipped gradient norm: 1.9234335015714168 (over last 800 batches)\n",
      "Running average global loss: 1.0290827945619823 (over last 800 batches)\n",
      "Running average activity prediction loss: 0.3233060394972563 (Cross Entropy over last 800 batches)\n",
      "Running average time till next event prediction loss: 0.16489405683241784 (MAE over last 800 batches)\n",
      "Running average (complete) remaining runtime prediction loss: 0.5408826994523406 (MAE over last 800 batches)\n",
      "------------------------------------------------------------\n"
     ]
    },
    {
     "name": "stderr",
     "output_type": "stream",
     "text": [
      "Batch calculation at epoch 7.: 3201it [06:18,  8.32it/s]"
     ]
    },
    {
     "name": "stdout",
     "output_type": "stream",
     "text": [
      "------------------------------------------------------------\n",
      "Epoch 7, batch 3199:\n",
      "Average original gradient norm: 3.135221874713898 (over last 800 batches)\n",
      "Average clipped gradient norm: 1.929163657873869 (over last 800 batches)\n",
      "Running average global loss: 1.0260551675409078 (over last 800 batches)\n",
      "Running average activity prediction loss: 0.322181396111846 (Cross Entropy over last 800 batches)\n",
      "Running average time till next event prediction loss: 0.1644762693438679 (MAE over last 800 batches)\n",
      "Running average (complete) remaining runtime prediction loss: 0.5393975007161498 (MAE over last 800 batches)\n",
      "------------------------------------------------------------\n"
     ]
    },
    {
     "name": "stderr",
     "output_type": "stream",
     "text": [
      "Batch calculation at epoch 7.: 4001it [07:54,  7.77it/s]"
     ]
    },
    {
     "name": "stdout",
     "output_type": "stream",
     "text": [
      "------------------------------------------------------------\n",
      "Epoch 7, batch 3999:\n",
      "Average original gradient norm: 3.1112199868261814 (over last 800 batches)\n",
      "Average clipped gradient norm: 1.9294095727801324 (over last 800 batches)\n",
      "Running average global loss: 1.0284396788477899 (over last 800 batches)\n",
      "Running average activity prediction loss: 0.3230923467501998 (Cross Entropy over last 800 batches)\n",
      "Running average time till next event prediction loss: 0.16487858625128865 (MAE over last 800 batches)\n",
      "Running average (complete) remaining runtime prediction loss: 0.5404687435179949 (MAE over last 800 batches)\n",
      "------------------------------------------------------------\n"
     ]
    },
    {
     "name": "stderr",
     "output_type": "stream",
     "text": [
      "Batch calculation at epoch 7.: 4798it [09:35,  8.33it/s]\n"
     ]
    },
    {
     "name": "stdout",
     "output_type": "stream",
     "text": [
      "=======================================\n",
      "End of epoch 7\n",
      "=======================================\n",
      "Running average global loss: 1.0263833099603652 (over last 800 batches)\n",
      "Running average activity prediction loss: 0.3217512048408389 (Cross Entropy over last 800 batches)\n",
      "Running average time till next event prediction loss: 0.16470716479234399 (MAE over last 800 batches)\n",
      "Running average (complete) remaining runtime prediction loss: 0.5399249411001802 (MAE over last 800 batches)\n"
     ]
    },
    {
     "name": "stderr",
     "output_type": "stream",
     "text": [
      "Validation batch calculation: 36it [22:22, 37.29s/it]\n"
     ]
    },
    {
     "name": "stdout",
     "output_type": "stream",
     "text": [
      "Avg MAE TTNE prediction validation set: 0.21144472062587738 (standardized) ; 783.0199869791667 (minutes)'\n",
      "Avg 1-(normalized) DL distance acitivty suffix prediction validation set: 0.2756309509277344\n",
      "Percentage of suffixes predicted to END: too early - 0.04021925363659324 ; right moment - 0.09443196789012745 ; too late - 0.8653487784732793\n",
      "Too early instances - avg amount of events too early: 8.703665733337402\n",
      "Too late instances - avg amount of events too late: 56.64189147949219\n",
      "Avg absolute amount of events predicted too early / too late: 49.36504364013672\n",
      "Avg MAE RRT prediction validation set: 0.48800674080848694 (standardized) ; 8192.946875 (minutes)'\n",
      " \n",
      "------------------------------------\n",
      "EPOCH 8:\n",
      "____________________________________\n"
     ]
    },
    {
     "name": "stderr",
     "output_type": "stream",
     "text": [
      "Batch calculation at epoch 8.: 802it [01:42, 10.48it/s]"
     ]
    },
    {
     "name": "stdout",
     "output_type": "stream",
     "text": [
      "------------------------------------------------------------\n",
      "Epoch 8, batch 799:\n",
      "Average original gradient norm: 3.1022580144554377 (over last 800 batches)\n",
      "Average clipped gradient norm: 1.9210938396304846 (over last 800 batches)\n",
      "Running average global loss: 1.0252365182340144 (over last 800 batches)\n",
      "Running average activity prediction loss: 0.3214225643873215 (Cross Entropy over last 800 batches)\n",
      "Running average time till next event prediction loss: 0.16474932081997395 (MAE over last 800 batches)\n",
      "Running average (complete) remaining runtime prediction loss: 0.5390646317601204 (MAE over last 800 batches)\n",
      "------------------------------------------------------------\n"
     ]
    },
    {
     "name": "stderr",
     "output_type": "stream",
     "text": [
      "Batch calculation at epoch 8.: 1601it [03:17,  7.51it/s]"
     ]
    },
    {
     "name": "stdout",
     "output_type": "stream",
     "text": [
      "------------------------------------------------------------\n",
      "Epoch 8, batch 1599:\n",
      "Average original gradient norm: 3.4196535502374172 (over last 800 batches)\n",
      "Average clipped gradient norm: 1.9400131179392337 (over last 800 batches)\n",
      "Running average global loss: 1.0229827652871608 (over last 800 batches)\n",
      "Running average activity prediction loss: 0.32094737466424705 (Cross Entropy over last 800 batches)\n",
      "Running average time till next event prediction loss: 0.16378486921079458 (MAE over last 800 batches)\n",
      "Running average (complete) remaining runtime prediction loss: 0.538250520825386 (MAE over last 800 batches)\n",
      "------------------------------------------------------------\n"
     ]
    },
    {
     "name": "stderr",
     "output_type": "stream",
     "text": [
      "Batch calculation at epoch 8.: 2401it [05:21,  6.20it/s]"
     ]
    },
    {
     "name": "stdout",
     "output_type": "stream",
     "text": [
      "------------------------------------------------------------\n",
      "Epoch 8, batch 2399:\n",
      "Average original gradient norm: 3.6557632593810556 (over last 800 batches)\n",
      "Average clipped gradient norm: 1.9447093832492828 (over last 800 batches)\n",
      "Running average global loss: 1.0254676862061023 (over last 800 batches)\n",
      "Running average activity prediction loss: 0.3204433010518551 (Cross Entropy over last 800 batches)\n",
      "Running average time till next event prediction loss: 0.16483596921898425 (MAE over last 800 batches)\n",
      "Running average (complete) remaining runtime prediction loss: 0.5401884157583118 (MAE over last 800 batches)\n",
      "------------------------------------------------------------\n"
     ]
    },
    {
     "name": "stderr",
     "output_type": "stream",
     "text": [
      "Batch calculation at epoch 8.: 3201it [07:08,  7.93it/s]"
     ]
    },
    {
     "name": "stdout",
     "output_type": "stream",
     "text": [
      "------------------------------------------------------------\n",
      "Epoch 8, batch 3199:\n",
      "Average original gradient norm: 3.3851507906615734 (over last 800 batches)\n",
      "Average clipped gradient norm: 1.933415170609951 (over last 800 batches)\n",
      "Running average global loss: 1.025957843363285 (over last 800 batches)\n",
      "Running average activity prediction loss: 0.31993179351091383 (Cross Entropy over last 800 batches)\n",
      "Running average time till next event prediction loss: 0.1643084822781384 (MAE over last 800 batches)\n",
      "Running average (complete) remaining runtime prediction loss: 0.541717567704618 (MAE over last 800 batches)\n",
      "------------------------------------------------------------\n"
     ]
    },
    {
     "name": "stderr",
     "output_type": "stream",
     "text": [
      "Batch calculation at epoch 8.: 4001it [09:00,  8.12it/s]"
     ]
    },
    {
     "name": "stdout",
     "output_type": "stream",
     "text": [
      "------------------------------------------------------------\n",
      "Epoch 8, batch 3999:\n",
      "Average original gradient norm: 3.6306014655530454 (over last 800 batches)\n",
      "Average clipped gradient norm: 1.9468379358947276 (over last 800 batches)\n",
      "Running average global loss: 1.02407249905169 (over last 800 batches)\n",
      "Running average activity prediction loss: 0.3192325757071376 (Cross Entropy over last 800 batches)\n",
      "Running average time till next event prediction loss: 0.1647002521343529 (MAE over last 800 batches)\n",
      "Running average (complete) remaining runtime prediction loss: 0.5401396689191461 (MAE over last 800 batches)\n",
      "------------------------------------------------------------\n"
     ]
    },
    {
     "name": "stderr",
     "output_type": "stream",
     "text": [
      "Batch calculation at epoch 8.: 4798it [11:07,  7.19it/s]\n"
     ]
    },
    {
     "name": "stdout",
     "output_type": "stream",
     "text": [
      "=======================================\n",
      "End of epoch 8\n",
      "=======================================\n",
      "Running average global loss: 1.0199303071200847 (over last 800 batches)\n",
      "Running average activity prediction loss: 0.31941475164145233 (Cross Entropy over last 800 batches)\n",
      "Running average time till next event prediction loss: 0.1630602279305458 (MAE over last 800 batches)\n",
      "Running average (complete) remaining runtime prediction loss: 0.5374553292244673 (MAE over last 800 batches)\n"
     ]
    },
    {
     "name": "stderr",
     "output_type": "stream",
     "text": [
      "Validation batch calculation: 36it [22:20, 37.24s/it]\n"
     ]
    },
    {
     "name": "stdout",
     "output_type": "stream",
     "text": [
      "Avg MAE TTNE prediction validation set: 0.20936229825019836 (standardized) ; 775.3753255208334 (minutes)'\n",
      "Avg 1-(normalized) DL distance acitivty suffix prediction validation set: 0.25987502932548523\n",
      "Percentage of suffixes predicted to END: too early - 0.03806221287807941 ; right moment - 0.09598831375386527 ; too late - 0.8659494733680553\n",
      "Too early instances - avg amount of events too early: 9.323708534240723\n",
      "Too late instances - avg amount of events too late: 59.06708908081055\n",
      "Avg absolute amount of events predicted too early / too late: 51.503997802734375\n",
      "Avg MAE RRT prediction validation set: 0.4925673007965088 (standardized) ; 8249.468229166667 (minutes)'\n",
      " \n",
      "------------------------------------\n",
      "EPOCH 9:\n",
      "____________________________________\n"
     ]
    },
    {
     "name": "stderr",
     "output_type": "stream",
     "text": [
      "Batch calculation at epoch 9.: 801it [01:32,  8.99it/s]"
     ]
    },
    {
     "name": "stdout",
     "output_type": "stream",
     "text": [
      "------------------------------------------------------------\n",
      "Epoch 9, batch 799:\n",
      "Average original gradient norm: 3.5205086813867092 (over last 800 batches)\n",
      "Average clipped gradient norm: 1.9472780266404153 (over last 800 batches)\n",
      "Running average global loss: 1.0244663835316896 (over last 800 batches)\n",
      "Running average activity prediction loss: 0.3186169973388314 (Cross Entropy over last 800 batches)\n",
      "Running average time till next event prediction loss: 0.16453889385797082 (MAE over last 800 batches)\n",
      "Running average (complete) remaining runtime prediction loss: 0.5413104934245347 (MAE over last 800 batches)\n",
      "------------------------------------------------------------\n"
     ]
    },
    {
     "name": "stderr",
     "output_type": "stream",
     "text": [
      "Batch calculation at epoch 9.: 1602it [03:13, 10.94it/s]"
     ]
    },
    {
     "name": "stdout",
     "output_type": "stream",
     "text": [
      "------------------------------------------------------------\n",
      "Epoch 9, batch 1599:\n",
      "Average original gradient norm: 3.795569030791521 (over last 800 batches)\n",
      "Average clipped gradient norm: 1.9566983807086944 (over last 800 batches)\n",
      "Running average global loss: 1.0166656649112702 (over last 800 batches)\n",
      "Running average activity prediction loss: 0.3177923197299242 (Cross Entropy over last 800 batches)\n",
      "Running average time till next event prediction loss: 0.16285488698631526 (MAE over last 800 batches)\n",
      "Running average (complete) remaining runtime prediction loss: 0.5360184594988823 (MAE over last 800 batches)\n",
      "------------------------------------------------------------\n"
     ]
    },
    {
     "name": "stderr",
     "output_type": "stream",
     "text": [
      "Batch calculation at epoch 9.: 2402it [05:02, 10.24it/s]"
     ]
    },
    {
     "name": "stdout",
     "output_type": "stream",
     "text": [
      "------------------------------------------------------------\n",
      "Epoch 9, batch 2399:\n",
      "Average original gradient norm: 3.690264464020729 (over last 800 batches)\n",
      "Average clipped gradient norm: 1.957321960926056 (over last 800 batches)\n",
      "Running average global loss: 1.0194532332569362 (over last 800 batches)\n",
      "Running average activity prediction loss: 0.3181908944994211 (Cross Entropy over last 800 batches)\n",
      "Running average time till next event prediction loss: 0.16293229420669378 (MAE over last 800 batches)\n",
      "Running average (complete) remaining runtime prediction loss: 0.5383300455659628 (MAE over last 800 batches)\n",
      "------------------------------------------------------------\n"
     ]
    },
    {
     "name": "stderr",
     "output_type": "stream",
     "text": [
      "Batch calculation at epoch 9.: 3201it [06:42,  8.20it/s]"
     ]
    },
    {
     "name": "stdout",
     "output_type": "stream",
     "text": [
      "------------------------------------------------------------\n",
      "Epoch 9, batch 3199:\n",
      "Average original gradient norm: 4.0007606562972065 (over last 800 batches)\n",
      "Average clipped gradient norm: 1.9577332554757596 (over last 800 batches)\n",
      "Running average global loss: 1.0210567588359118 (over last 800 batches)\n",
      "Running average activity prediction loss: 0.3183390176296234 (Cross Entropy over last 800 batches)\n",
      "Running average time till next event prediction loss: 0.1637938051391393 (MAE over last 800 batches)\n",
      "Running average (complete) remaining runtime prediction loss: 0.5389239383488893 (MAE over last 800 batches)\n",
      "------------------------------------------------------------\n"
     ]
    },
    {
     "name": "stderr",
     "output_type": "stream",
     "text": [
      "Batch calculation at epoch 9.: 4001it [08:16,  8.99it/s]"
     ]
    },
    {
     "name": "stdout",
     "output_type": "stream",
     "text": [
      "------------------------------------------------------------\n",
      "Epoch 9, batch 3999:\n",
      "Average original gradient norm: 3.7764336481690406 (over last 800 batches)\n",
      "Average clipped gradient norm: 1.968943560421467 (over last 800 batches)\n",
      "Running average global loss: 1.0209449242055415 (over last 800 batches)\n",
      "Running average activity prediction loss: 0.31673489086329937 (Cross Entropy over last 800 batches)\n",
      "Running average time till next event prediction loss: 0.16380855061113833 (MAE over last 800 batches)\n",
      "Running average (complete) remaining runtime prediction loss: 0.5404014804959297 (MAE over last 800 batches)\n",
      "------------------------------------------------------------\n"
     ]
    },
    {
     "name": "stderr",
     "output_type": "stream",
     "text": [
      "Batch calculation at epoch 9.: 4798it [09:55,  8.05it/s]\n"
     ]
    },
    {
     "name": "stdout",
     "output_type": "stream",
     "text": [
      "=======================================\n",
      "End of epoch 9\n",
      "=======================================\n",
      "Running average global loss: 1.0203794325888156 (over last 800 batches)\n",
      "Running average activity prediction loss: 0.31767447888851164 (Cross Entropy over last 800 batches)\n",
      "Running average time till next event prediction loss: 0.16357305594719945 (MAE over last 800 batches)\n",
      "Running average (complete) remaining runtime prediction loss: 0.5391318954154849 (MAE over last 800 batches)\n"
     ]
    },
    {
     "name": "stderr",
     "output_type": "stream",
     "text": [
      "Validation batch calculation: 36it [22:23, 37.32s/it]\n"
     ]
    },
    {
     "name": "stdout",
     "output_type": "stream",
     "text": [
      "Avg MAE TTNE prediction validation set: 0.20972535014152527 (standardized) ; 776.936328125 (minutes)'\n",
      "Avg 1-(normalized) DL distance acitivty suffix prediction validation set: 0.2787148952484131\n",
      "Percentage of suffixes predicted to END: too early - 0.044936073776254803 ; right moment - 0.09854126705666327 ; too late - 0.8565226591670819\n",
      "Too early instances - avg amount of events too early: 9.718973159790039\n",
      "Too late instances - avg amount of events too late: 56.90437316894531\n",
      "Avg absolute amount of events predicted too early / too late: 49.17661666870117\n",
      "Avg MAE RRT prediction validation set: 0.49314939975738525 (standardized) ; 8276.622395833334 (minutes)'\n",
      " \n",
      "------------------------------------\n",
      "EPOCH 10:\n",
      "____________________________________\n"
     ]
    },
    {
     "name": "stderr",
     "output_type": "stream",
     "text": [
      "Batch calculation at epoch 10.: 801it [01:40,  6.47it/s]"
     ]
    },
    {
     "name": "stdout",
     "output_type": "stream",
     "text": [
      "------------------------------------------------------------\n",
      "Epoch 10, batch 799:\n",
      "Average original gradient norm: 3.946903554648161 (over last 800 batches)\n",
      "Average clipped gradient norm: 1.9612211039662362 (over last 800 batches)\n",
      "Running average global loss: 1.0154361491650343 (over last 800 batches)\n",
      "Running average activity prediction loss: 0.3159693558141589 (Cross Entropy over last 800 batches)\n",
      "Running average time till next event prediction loss: 0.16314434925094246 (MAE over last 800 batches)\n",
      "Running average (complete) remaining runtime prediction loss: 0.5363224444538355 (MAE over last 800 batches)\n",
      "------------------------------------------------------------\n"
     ]
    },
    {
     "name": "stderr",
     "output_type": "stream",
     "text": [
      "Batch calculation at epoch 10.: 1601it [03:29, 10.24it/s]"
     ]
    },
    {
     "name": "stdout",
     "output_type": "stream",
     "text": [
      "------------------------------------------------------------\n",
      "Epoch 10, batch 1599:\n",
      "Average original gradient norm: 3.944224236905575 (over last 800 batches)\n",
      "Average clipped gradient norm: 1.971618018001318 (over last 800 batches)\n",
      "Running average global loss: 1.0181252824515103 (over last 800 batches)\n",
      "Running average activity prediction loss: 0.31640857830643654 (Cross Entropy over last 800 batches)\n",
      "Running average time till next event prediction loss: 0.16311848437413573 (MAE over last 800 batches)\n",
      "Running average (complete) remaining runtime prediction loss: 0.5385982185974717 (MAE over last 800 batches)\n",
      "------------------------------------------------------------\n"
     ]
    },
    {
     "name": "stderr",
     "output_type": "stream",
     "text": [
      "Batch calculation at epoch 10.: 2401it [04:58,  9.19it/s]"
     ]
    },
    {
     "name": "stdout",
     "output_type": "stream",
     "text": [
      "------------------------------------------------------------\n",
      "Epoch 10, batch 2399:\n",
      "Average original gradient norm: 3.9946342699229715 (over last 800 batches)\n",
      "Average clipped gradient norm: 1.9715618477761745 (over last 800 batches)\n",
      "Running average global loss: 1.018652642145753 (over last 800 batches)\n",
      "Running average activity prediction loss: 0.31599738910794256 (Cross Entropy over last 800 batches)\n",
      "Running average time till next event prediction loss: 0.16333205769769849 (MAE over last 800 batches)\n",
      "Running average (complete) remaining runtime prediction loss: 0.5393231948837638 (MAE over last 800 batches)\n",
      "------------------------------------------------------------\n"
     ]
    },
    {
     "name": "stderr",
     "output_type": "stream",
     "text": [
      "Batch calculation at epoch 10.: 3201it [06:24,  8.57it/s]"
     ]
    },
    {
     "name": "stdout",
     "output_type": "stream",
     "text": [
      "------------------------------------------------------------\n",
      "Epoch 10, batch 3199:\n",
      "Average original gradient norm: 4.081562098711729 (over last 800 batches)\n",
      "Average clipped gradient norm: 1.97181161403656 (over last 800 batches)\n",
      "Running average global loss: 1.0166639251261949 (over last 800 batches)\n",
      "Running average activity prediction loss: 0.3164054885879159 (Cross Entropy over last 800 batches)\n",
      "Running average time till next event prediction loss: 0.16312948949635028 (MAE over last 800 batches)\n",
      "Running average (complete) remaining runtime prediction loss: 0.537128946594894 (MAE over last 800 batches)\n",
      "------------------------------------------------------------\n"
     ]
    },
    {
     "name": "stderr",
     "output_type": "stream",
     "text": [
      "Batch calculation at epoch 10.: 4001it [08:04,  9.04it/s]"
     ]
    },
    {
     "name": "stdout",
     "output_type": "stream",
     "text": [
      "------------------------------------------------------------\n",
      "Epoch 10, batch 3999:\n",
      "Average original gradient norm: 3.9044392709434033 (over last 800 batches)\n",
      "Average clipped gradient norm: 1.9609191627800464 (over last 800 batches)\n",
      "Running average global loss: 1.0167252664268016 (over last 800 batches)\n",
      "Running average activity prediction loss: 0.31582247763872145 (Cross Entropy over last 800 batches)\n",
      "Running average time till next event prediction loss: 0.16257169701159 (MAE over last 800 batches)\n",
      "Running average (complete) remaining runtime prediction loss: 0.538331091441214 (MAE over last 800 batches)\n",
      "------------------------------------------------------------\n"
     ]
    },
    {
     "name": "stderr",
     "output_type": "stream",
     "text": [
      "Batch calculation at epoch 10.: 4798it [09:54,  8.06it/s]\n"
     ]
    },
    {
     "name": "stdout",
     "output_type": "stream",
     "text": [
      "=======================================\n",
      "End of epoch 10\n",
      "=======================================\n",
      "Running average global loss: 1.0201561299711466 (over last 800 batches)\n",
      "Running average activity prediction loss: 0.3156023680791259 (Cross Entropy over last 800 batches)\n",
      "Running average time till next event prediction loss: 0.1628478869330138 (MAE over last 800 batches)\n",
      "Running average (complete) remaining runtime prediction loss: 0.541705873310566 (MAE over last 800 batches)\n"
     ]
    },
    {
     "name": "stderr",
     "output_type": "stream",
     "text": [
      "Validation batch calculation: 36it [22:24, 37.36s/it]\n"
     ]
    },
    {
     "name": "stdout",
     "output_type": "stream",
     "text": [
      "Avg MAE TTNE prediction validation set: 0.21136942505836487 (standardized) ; 782.86015625 (minutes)'\n",
      "Avg 1-(normalized) DL distance acitivty suffix prediction validation set: 0.2806210517883301\n",
      "Percentage of suffixes predicted to END: too early - 0.047161375318265905 ; right moment - 0.09920339665658683 ; too late - 0.8536352280251472\n",
      "Too early instances - avg amount of events too early: 9.281805992126465\n",
      "Too late instances - avg amount of events too late: 55.76153564453125\n",
      "Avg absolute amount of events predicted too early / too late: 48.03775405883789\n",
      "Avg MAE RRT prediction validation set: 0.48849955201148987 (standardized) ; 8195.894791666668 (minutes)'\n",
      " \n",
      "------------------------------------\n",
      "EPOCH 11:\n",
      "____________________________________\n"
     ]
    },
    {
     "name": "stderr",
     "output_type": "stream",
     "text": [
      "Batch calculation at epoch 11.: 801it [02:12,  7.29it/s]"
     ]
    },
    {
     "name": "stdout",
     "output_type": "stream",
     "text": [
      "------------------------------------------------------------\n",
      "Epoch 11, batch 799:\n",
      "Average original gradient norm: 3.9311450678110123 (over last 800 batches)\n",
      "Average clipped gradient norm: 1.9629613453149795 (over last 800 batches)\n",
      "Running average global loss: 1.012933751270175 (over last 800 batches)\n",
      "Running average activity prediction loss: 0.315465301387012 (Cross Entropy over last 800 batches)\n",
      "Running average time till next event prediction loss: 0.16188840514048933 (MAE over last 800 batches)\n",
      "Running average (complete) remaining runtime prediction loss: 0.5355800449103117 (MAE over last 800 batches)\n",
      "------------------------------------------------------------\n"
     ]
    },
    {
     "name": "stderr",
     "output_type": "stream",
     "text": [
      "Batch calculation at epoch 11.: 1602it [03:52,  9.77it/s]"
     ]
    },
    {
     "name": "stdout",
     "output_type": "stream",
     "text": [
      "------------------------------------------------------------\n",
      "Epoch 11, batch 1599:\n",
      "Average original gradient norm: 4.352215328216553 (over last 800 batches)\n",
      "Average clipped gradient norm: 1.9670802918076515 (over last 800 batches)\n",
      "Running average global loss: 1.0161236774176359 (over last 800 batches)\n",
      "Running average activity prediction loss: 0.31451883267611264 (Cross Entropy over last 800 batches)\n",
      "Running average time till next event prediction loss: 0.16299947320483624 (MAE over last 800 batches)\n",
      "Running average (complete) remaining runtime prediction loss: 0.5386053711175919 (MAE over last 800 batches)\n",
      "------------------------------------------------------------\n"
     ]
    },
    {
     "name": "stderr",
     "output_type": "stream",
     "text": [
      "Batch calculation at epoch 11.: 2401it [05:44,  5.47it/s]"
     ]
    },
    {
     "name": "stdout",
     "output_type": "stream",
     "text": [
      "------------------------------------------------------------\n",
      "Epoch 11, batch 2399:\n",
      "Average original gradient norm: 3.9850677271187305 (over last 800 batches)\n",
      "Average clipped gradient norm: 1.9741607320308685 (over last 800 batches)\n",
      "Running average global loss: 1.0118501687049866 (over last 800 batches)\n",
      "Running average activity prediction loss: 0.31341176547110083 (Cross Entropy over last 800 batches)\n",
      "Running average time till next event prediction loss: 0.16249592833220958 (MAE over last 800 batches)\n",
      "Running average (complete) remaining runtime prediction loss: 0.5359424759447574 (MAE over last 800 batches)\n",
      "------------------------------------------------------------\n"
     ]
    },
    {
     "name": "stderr",
     "output_type": "stream",
     "text": [
      "Batch calculation at epoch 11.: 3201it [07:40,  8.77it/s]"
     ]
    },
    {
     "name": "stdout",
     "output_type": "stream",
     "text": [
      "------------------------------------------------------------\n",
      "Epoch 11, batch 3199:\n",
      "Average original gradient norm: 3.8996976889669894 (over last 800 batches)\n",
      "Average clipped gradient norm: 1.9707423645257949 (over last 800 batches)\n",
      "Running average global loss: 1.0161933568120003 (over last 800 batches)\n",
      "Running average activity prediction loss: 0.31483436428010464 (Cross Entropy over last 800 batches)\n",
      "Running average time till next event prediction loss: 0.16287589398212732 (MAE over last 800 batches)\n",
      "Running average (complete) remaining runtime prediction loss: 0.5384830994904042 (MAE over last 800 batches)\n",
      "------------------------------------------------------------\n"
     ]
    },
    {
     "name": "stderr",
     "output_type": "stream",
     "text": [
      "Batch calculation at epoch 11.: 4001it [09:28,  5.83it/s]"
     ]
    },
    {
     "name": "stdout",
     "output_type": "stream",
     "text": [
      "------------------------------------------------------------\n",
      "Epoch 11, batch 3999:\n",
      "Average original gradient norm: 4.211167835146188 (over last 800 batches)\n",
      "Average clipped gradient norm: 1.9818104708194733 (over last 800 batches)\n",
      "Running average global loss: 1.0151640409231186 (over last 800 batches)\n",
      "Running average activity prediction loss: 0.31364915546029803 (Cross Entropy over last 800 batches)\n",
      "Running average time till next event prediction loss: 0.16262494161725044 (MAE over last 800 batches)\n",
      "Running average (complete) remaining runtime prediction loss: 0.5388899440690875 (MAE over last 800 batches)\n",
      "------------------------------------------------------------\n"
     ]
    },
    {
     "name": "stderr",
     "output_type": "stream",
     "text": [
      "Batch calculation at epoch 11.: 4798it [11:22,  7.03it/s]\n"
     ]
    },
    {
     "name": "stdout",
     "output_type": "stream",
     "text": [
      "=======================================\n",
      "End of epoch 11\n",
      "=======================================\n",
      "Running average global loss: 1.0178383184224367 (over last 800 batches)\n",
      "Running average activity prediction loss: 0.3137531321495771 (Cross Entropy over last 800 batches)\n",
      "Running average time till next event prediction loss: 0.16284376177936793 (MAE over last 800 batches)\n",
      "Running average (complete) remaining runtime prediction loss: 0.5412414247170091 (MAE over last 800 batches)\n"
     ]
    },
    {
     "name": "stderr",
     "output_type": "stream",
     "text": [
      "Validation batch calculation: 36it [22:13, 37.05s/it]\n"
     ]
    },
    {
     "name": "stdout",
     "output_type": "stream",
     "text": [
      "Avg MAE TTNE prediction validation set: 0.20803825557231903 (standardized) ; 770.0324869791667 (minutes)'\n",
      "Avg 1-(normalized) DL distance acitivty suffix prediction validation set: 0.2681194543838501\n",
      "Percentage of suffixes predicted to END: too early - 0.04474494358246244 ; right moment - 0.09934674430193109 ; too late - 0.8559083121156065\n",
      "Too early instances - avg amount of events too early: 9.629595756530762\n",
      "Too late instances - avg amount of events too late: 57.49440002441406\n",
      "Avg absolute amount of events predicted too early / too late: 49.640811920166016\n",
      "Avg MAE RRT prediction validation set: 0.494610071182251 (standardized) ; 8299.475 (minutes)'\n",
      " \n",
      "------------------------------------\n",
      "EPOCH 12:\n",
      "____________________________________\n"
     ]
    },
    {
     "name": "stderr",
     "output_type": "stream",
     "text": [
      "Batch calculation at epoch 12.: 801it [01:50,  8.80it/s]"
     ]
    },
    {
     "name": "stdout",
     "output_type": "stream",
     "text": [
      "------------------------------------------------------------\n",
      "Epoch 12, batch 799:\n",
      "Average original gradient norm: 4.036830165982247 (over last 800 batches)\n",
      "Average clipped gradient norm: 1.9798490785062313 (over last 800 batches)\n",
      "Running average global loss: 1.0126630523055793 (over last 800 batches)\n",
      "Running average activity prediction loss: 0.31301721539348365 (Cross Entropy over last 800 batches)\n",
      "Running average time till next event prediction loss: 0.16157409041188658 (MAE over last 800 batches)\n",
      "Running average (complete) remaining runtime prediction loss: 0.53807174641639 (MAE over last 800 batches)\n",
      "------------------------------------------------------------\n"
     ]
    },
    {
     "name": "stderr",
     "output_type": "stream",
     "text": [
      "Batch calculation at epoch 12.: 1601it [03:29,  8.04it/s]"
     ]
    },
    {
     "name": "stdout",
     "output_type": "stream",
     "text": [
      "------------------------------------------------------------\n",
      "Epoch 12, batch 1599:\n",
      "Average original gradient norm: 4.341755224317312 (over last 800 batches)\n",
      "Average clipped gradient norm: 1.980685167312622 (over last 800 batches)\n",
      "Running average global loss: 1.0132820462435483 (over last 800 batches)\n",
      "Running average activity prediction loss: 0.3142114820703864 (Cross Entropy over last 800 batches)\n",
      "Running average time till next event prediction loss: 0.16227516351267696 (MAE over last 800 batches)\n",
      "Running average (complete) remaining runtime prediction loss: 0.5367954002693296 (MAE over last 800 batches)\n",
      "------------------------------------------------------------\n"
     ]
    },
    {
     "name": "stderr",
     "output_type": "stream",
     "text": [
      "Batch calculation at epoch 12.: 2401it [05:07,  6.86it/s]"
     ]
    },
    {
     "name": "stdout",
     "output_type": "stream",
     "text": [
      "------------------------------------------------------------\n",
      "Epoch 12, batch 2399:\n",
      "Average original gradient norm: 4.151404139697552 (over last 800 batches)\n",
      "Average clipped gradient norm: 1.9744208540022372 (over last 800 batches)\n",
      "Running average global loss: 1.008371931090951 (over last 800 batches)\n",
      "Running average activity prediction loss: 0.3128846949338913 (Cross Entropy over last 800 batches)\n",
      "Running average time till next event prediction loss: 0.16114937295205892 (MAE over last 800 batches)\n",
      "Running average (complete) remaining runtime prediction loss: 0.5343378621339798 (MAE over last 800 batches)\n",
      "------------------------------------------------------------\n"
     ]
    },
    {
     "name": "stderr",
     "output_type": "stream",
     "text": [
      "Batch calculation at epoch 12.: 3201it [06:49,  6.96it/s]"
     ]
    },
    {
     "name": "stdout",
     "output_type": "stream",
     "text": [
      "------------------------------------------------------------\n",
      "Epoch 12, batch 3199:\n",
      "Average original gradient norm: 4.347214961498976 (over last 800 batches)\n",
      "Average clipped gradient norm: 1.9846673540771007 (over last 800 batches)\n",
      "Running average global loss: 1.0173932322859764 (over last 800 batches)\n",
      "Running average activity prediction loss: 0.31237077139317987 (Cross Entropy over last 800 batches)\n",
      "Running average time till next event prediction loss: 0.16360408034175633 (MAE over last 800 batches)\n",
      "Running average (complete) remaining runtime prediction loss: 0.5414183819293976 (MAE over last 800 batches)\n",
      "------------------------------------------------------------\n"
     ]
    },
    {
     "name": "stderr",
     "output_type": "stream",
     "text": [
      "Batch calculation at epoch 12.: 4001it [08:56,  5.62it/s]"
     ]
    },
    {
     "name": "stdout",
     "output_type": "stream",
     "text": [
      "------------------------------------------------------------\n",
      "Epoch 12, batch 3999:\n",
      "Average original gradient norm: 4.57978458493948 (over last 800 batches)\n",
      "Average clipped gradient norm: 1.984752562493086 (over last 800 batches)\n",
      "Running average global loss: 1.0131459106504916 (over last 800 batches)\n",
      "Running average activity prediction loss: 0.3117036064714193 (Cross Entropy over last 800 batches)\n",
      "Running average time till next event prediction loss: 0.16271764979697764 (MAE over last 800 batches)\n",
      "Running average (complete) remaining runtime prediction loss: 0.5387246542051435 (MAE over last 800 batches)\n",
      "------------------------------------------------------------\n"
     ]
    },
    {
     "name": "stderr",
     "output_type": "stream",
     "text": [
      "Batch calculation at epoch 12.: 4798it [10:52,  7.35it/s]\n"
     ]
    },
    {
     "name": "stdout",
     "output_type": "stream",
     "text": [
      "=======================================\n",
      "End of epoch 12\n",
      "=======================================\n",
      "Running average global loss: 1.0123325046896934 (over last 800 batches)\n",
      "Running average activity prediction loss: 0.31245081309229134 (Cross Entropy over last 800 batches)\n",
      "Running average time till next event prediction loss: 0.16243896950036288 (MAE over last 800 batches)\n",
      "Running average (complete) remaining runtime prediction loss: 0.5374427226558328 (MAE over last 800 batches)\n"
     ]
    },
    {
     "name": "stderr",
     "output_type": "stream",
     "text": [
      "Validation batch calculation: 36it [21:10, 35.30s/it]\n"
     ]
    },
    {
     "name": "stdout",
     "output_type": "stream",
     "text": [
      "Avg MAE TTNE prediction validation set: 0.21185417473316193 (standardized) ; 784.8470703125 (minutes)'\n",
      "Avg 1-(normalized) DL distance acitivty suffix prediction validation set: 0.28008773922920227\n",
      "Percentage of suffixes predicted to END: too early - 0.046833723557478994 ; right moment - 0.09878700587725346 ; too late - 0.8543792705652675\n",
      "Too early instances - avg amount of events too early: 9.600933074951172\n",
      "Too late instances - avg amount of events too late: 57.35374450683594\n",
      "Avg absolute amount of events predicted too early / too late: 49.45149612426758\n",
      "Avg MAE RRT prediction validation set: 0.48961037397384644 (standardized) ; 8221.302604166667 (minutes)'\n",
      " \n",
      "------------------------------------\n",
      "EPOCH 13:\n",
      "____________________________________\n"
     ]
    },
    {
     "name": "stderr",
     "output_type": "stream",
     "text": [
      "Batch calculation at epoch 13.: 802it [01:52,  9.36it/s]"
     ]
    },
    {
     "name": "stdout",
     "output_type": "stream",
     "text": [
      "------------------------------------------------------------\n",
      "Epoch 13, batch 799:\n",
      "Average original gradient norm: 4.556889917105436 (over last 800 batches)\n",
      "Average clipped gradient norm: 1.978749814480543 (over last 800 batches)\n",
      "Running average global loss: 1.0106369816511869 (over last 800 batches)\n",
      "Running average activity prediction loss: 0.3115393021330237 (Cross Entropy over last 800 batches)\n",
      "Running average time till next event prediction loss: 0.16187502726912498 (MAE over last 800 batches)\n",
      "Running average (complete) remaining runtime prediction loss: 0.5372226509451866 (MAE over last 800 batches)\n",
      "------------------------------------------------------------\n"
     ]
    },
    {
     "name": "stderr",
     "output_type": "stream",
     "text": [
      "Batch calculation at epoch 13.: 1601it [03:35,  9.64it/s]"
     ]
    },
    {
     "name": "stdout",
     "output_type": "stream",
     "text": [
      "------------------------------------------------------------\n",
      "Epoch 13, batch 1599:\n",
      "Average original gradient norm: 4.166624725908041 (over last 800 batches)\n",
      "Average clipped gradient norm: 1.979783492833376 (over last 800 batches)\n",
      "Running average global loss: 1.0121904399245978 (over last 800 batches)\n",
      "Running average activity prediction loss: 0.31188091296702625 (Cross Entropy over last 800 batches)\n",
      "Running average time till next event prediction loss: 0.1624295625463128 (MAE over last 800 batches)\n",
      "Running average (complete) remaining runtime prediction loss: 0.5378799644857645 (MAE over last 800 batches)\n",
      "------------------------------------------------------------\n"
     ]
    },
    {
     "name": "stderr",
     "output_type": "stream",
     "text": [
      "Batch calculation at epoch 13.: 2401it [05:21,  6.84it/s]"
     ]
    },
    {
     "name": "stdout",
     "output_type": "stream",
     "text": [
      "------------------------------------------------------------\n",
      "Epoch 13, batch 2399:\n",
      "Average original gradient norm: 4.457162293791771 (over last 800 batches)\n",
      "Average clipped gradient norm: 1.9824674952030181 (over last 800 batches)\n",
      "Running average global loss: 1.0093828326463699 (over last 800 batches)\n",
      "Running average activity prediction loss: 0.3118459179997444 (Cross Entropy over last 800 batches)\n",
      "Running average time till next event prediction loss: 0.1619025681167841 (MAE over last 800 batches)\n",
      "Running average (complete) remaining runtime prediction loss: 0.5356343448907137 (MAE over last 800 batches)\n",
      "------------------------------------------------------------\n"
     ]
    },
    {
     "name": "stderr",
     "output_type": "stream",
     "text": [
      "Batch calculation at epoch 13.: 3201it [07:21,  8.97it/s]"
     ]
    },
    {
     "name": "stdout",
     "output_type": "stream",
     "text": [
      "------------------------------------------------------------\n",
      "Epoch 13, batch 3199:\n",
      "Average original gradient norm: 4.459330850839615 (over last 800 batches)\n",
      "Average clipped gradient norm: 1.9888687546551227 (over last 800 batches)\n",
      "Running average global loss: 1.007168908789754 (over last 800 batches)\n",
      "Running average activity prediction loss: 0.31092786394059657 (Cross Entropy over last 800 batches)\n",
      "Running average time till next event prediction loss: 0.16117938819341363 (MAE over last 800 batches)\n",
      "Running average (complete) remaining runtime prediction loss: 0.5350616567209363 (MAE over last 800 batches)\n",
      "------------------------------------------------------------\n"
     ]
    },
    {
     "name": "stderr",
     "output_type": "stream",
     "text": [
      "Batch calculation at epoch 13.: 4000it [09:05,  5.84it/s]"
     ]
    },
    {
     "name": "stdout",
     "output_type": "stream",
     "text": [
      "------------------------------------------------------------\n",
      "Epoch 13, batch 3999:\n",
      "Average original gradient norm: 4.328785017281771 (over last 800 batches)\n",
      "Average clipped gradient norm: 1.9890059745311737 (over last 800 batches)\n",
      "Running average global loss: 1.0137048229575156 (over last 800 batches)\n",
      "Running average activity prediction loss: 0.31094263684004547 (Cross Entropy over last 800 batches)\n",
      "Running average time till next event prediction loss: 0.16283504938706755 (MAE over last 800 batches)\n",
      "Running average (complete) remaining runtime prediction loss: 0.5399271376058459 (MAE over last 800 batches)\n",
      "------------------------------------------------------------\n"
     ]
    },
    {
     "name": "stderr",
     "output_type": "stream",
     "text": [
      "Batch calculation at epoch 13.: 4798it [11:17,  7.08it/s]\n"
     ]
    },
    {
     "name": "stdout",
     "output_type": "stream",
     "text": [
      "=======================================\n",
      "End of epoch 13\n",
      "=======================================\n",
      "Running average global loss: 1.0106327071785928 (over last 800 batches)\n",
      "Running average activity prediction loss: 0.31162070129066705 (Cross Entropy over last 800 batches)\n",
      "Running average time till next event prediction loss: 0.16152724100276827 (MAE over last 800 batches)\n",
      "Running average (complete) remaining runtime prediction loss: 0.5374847657606006 (MAE over last 800 batches)\n"
     ]
    },
    {
     "name": "stderr",
     "output_type": "stream",
     "text": [
      "Validation batch calculation: 36it [22:11, 36.99s/it]\n"
     ]
    },
    {
     "name": "stdout",
     "output_type": "stream",
     "text": [
      "Avg MAE TTNE prediction validation set: 0.21000994741916656 (standardized) ; 777.9828776041667 (minutes)'\n",
      "Avg 1-(normalized) DL distance acitivty suffix prediction validation set: 0.37669962644577026\n",
      "Percentage of suffixes predicted to END: too early - 0.0822678962709134 ; right moment - 0.10267787053659802 ; too late - 0.8150542331924886\n",
      "Too early instances - avg amount of events too early: 9.40184211730957\n",
      "Too late instances - avg amount of events too late: 35.379730224609375\n",
      "Avg absolute amount of events predicted too early / too late: 29.6098690032959\n",
      "Avg MAE RRT prediction validation set: 0.4938333332538605 (standardized) ; 8277.832291666668 (minutes)'\n",
      " \n",
      "------------------------------------\n",
      "EPOCH 14:\n",
      "____________________________________\n"
     ]
    },
    {
     "name": "stderr",
     "output_type": "stream",
     "text": [
      "Batch calculation at epoch 14.: 801it [01:56,  6.58it/s]"
     ]
    },
    {
     "name": "stdout",
     "output_type": "stream",
     "text": [
      "------------------------------------------------------------\n",
      "Epoch 14, batch 799:\n",
      "Average original gradient norm: 4.655319013595581 (over last 800 batches)\n",
      "Average clipped gradient norm: 1.9863319286704064 (over last 800 batches)\n",
      "Running average global loss: 1.008389599919319 (over last 800 batches)\n",
      "Running average activity prediction loss: 0.3105711103975773 (Cross Entropy over last 800 batches)\n",
      "Running average time till next event prediction loss: 0.1611044569965452 (MAE over last 800 batches)\n",
      "Running average (complete) remaining runtime prediction loss: 0.536714031919837 (MAE over last 800 batches)\n",
      "------------------------------------------------------------\n"
     ]
    },
    {
     "name": "stderr",
     "output_type": "stream",
     "text": [
      "Batch calculation at epoch 14.: 1601it [04:21,  5.69it/s]"
     ]
    },
    {
     "name": "stdout",
     "output_type": "stream",
     "text": [
      "------------------------------------------------------------\n",
      "Epoch 14, batch 1599:\n",
      "Average original gradient norm: 4.676764230430126 (over last 800 batches)\n",
      "Average clipped gradient norm: 1.9851621386408806 (over last 800 batches)\n",
      "Running average global loss: 1.008799022063613 (over last 800 batches)\n",
      "Running average activity prediction loss: 0.3102989352867007 (Cross Entropy over last 800 batches)\n",
      "Running average time till next event prediction loss: 0.16168477782979607 (MAE over last 800 batches)\n",
      "Running average (complete) remaining runtime prediction loss: 0.5368153070285916 (MAE over last 800 batches)\n",
      "------------------------------------------------------------\n"
     ]
    },
    {
     "name": "stderr",
     "output_type": "stream",
     "text": [
      "Batch calculation at epoch 14.: 2400it [06:31,  4.80it/s]"
     ]
    },
    {
     "name": "stdout",
     "output_type": "stream",
     "text": [
      "------------------------------------------------------------\n",
      "Epoch 14, batch 2399:\n",
      "Average original gradient norm: 4.44473943144083 (over last 800 batches)\n",
      "Average clipped gradient norm: 1.9883847321569919 (over last 800 batches)\n",
      "Running average global loss: 1.0088604575395583 (over last 800 batches)\n",
      "Running average activity prediction loss: 0.31016086038202045 (Cross Entropy over last 800 batches)\n",
      "Running average time till next event prediction loss: 0.16167950574308634 (MAE over last 800 batches)\n",
      "Running average (complete) remaining runtime prediction loss: 0.5370200901851058 (MAE over last 800 batches)\n",
      "------------------------------------------------------------\n"
     ]
    },
    {
     "name": "stderr",
     "output_type": "stream",
     "text": [
      "Batch calculation at epoch 14.: 3201it [08:44,  6.93it/s]"
     ]
    },
    {
     "name": "stdout",
     "output_type": "stream",
     "text": [
      "------------------------------------------------------------\n",
      "Epoch 14, batch 3199:\n",
      "Average original gradient norm: 4.806229833513498 (over last 800 batches)\n",
      "Average clipped gradient norm: 1.99168741106987 (over last 800 batches)\n",
      "Running average global loss: 1.0092711132019758 (over last 800 batches)\n",
      "Running average activity prediction loss: 0.3099701137468219 (Cross Entropy over last 800 batches)\n",
      "Running average time till next event prediction loss: 0.16182772522792221 (MAE over last 800 batches)\n",
      "Running average (complete) remaining runtime prediction loss: 0.5374732755124569 (MAE over last 800 batches)\n",
      "------------------------------------------------------------\n"
     ]
    },
    {
     "name": "stderr",
     "output_type": "stream",
     "text": [
      "Batch calculation at epoch 14.: 4001it [10:49,  5.45it/s]"
     ]
    },
    {
     "name": "stdout",
     "output_type": "stream",
     "text": [
      "------------------------------------------------------------\n",
      "Epoch 14, batch 3999:\n",
      "Average original gradient norm: 4.798823337256908 (over last 800 batches)\n",
      "Average clipped gradient norm: 1.9897128683328629 (over last 800 batches)\n",
      "Running average global loss: 1.0090737608075142 (over last 800 batches)\n",
      "Running average activity prediction loss: 0.3103396663814783 (Cross Entropy over last 800 batches)\n",
      "Running average time till next event prediction loss: 0.16175687740556896 (MAE over last 800 batches)\n",
      "Running average (complete) remaining runtime prediction loss: 0.5369772178679705 (MAE over last 800 batches)\n",
      "------------------------------------------------------------\n"
     ]
    },
    {
     "name": "stderr",
     "output_type": "stream",
     "text": [
      "Batch calculation at epoch 14.: 4798it [13:05,  6.11it/s]\n"
     ]
    },
    {
     "name": "stdout",
     "output_type": "stream",
     "text": [
      "=======================================\n",
      "End of epoch 14\n",
      "=======================================\n",
      "Running average global loss: 1.0083825916796922 (over last 800 batches)\n",
      "Running average activity prediction loss: 0.310333874411881 (Cross Entropy over last 800 batches)\n",
      "Running average time till next event prediction loss: 0.1616447203513235 (MAE over last 800 batches)\n",
      "Running average (complete) remaining runtime prediction loss: 0.5364039986208081 (MAE over last 800 batches)\n"
     ]
    },
    {
     "name": "stderr",
     "output_type": "stream",
     "text": [
      "Validation batch calculation: 36it [22:14, 37.07s/it]\n"
     ]
    },
    {
     "name": "stdout",
     "output_type": "stream",
     "text": [
      "Avg MAE TTNE prediction validation set: 0.2103763222694397 (standardized) ; 779.2250651041667 (minutes)'\n",
      "Avg 1-(normalized) DL distance acitivty suffix prediction validation set: 0.2836039960384369\n",
      "Percentage of suffixes predicted to END: too early - 0.04032847089018888 ; right moment - 0.09598831375386527 ; too late - 0.8636832153559458\n",
      "Too early instances - avg amount of events too early: 9.607481002807617\n",
      "Too late instances - avg amount of events too late: 52.75209426879883\n",
      "Avg absolute amount of events predicted too early / too late: 45.948551177978516\n",
      "Avg MAE RRT prediction validation set: 0.49573054909706116 (standardized) ; 8316.916145833333 (minutes)'\n",
      " \n",
      "------------------------------------\n",
      "EPOCH 15:\n",
      "____________________________________\n"
     ]
    },
    {
     "name": "stderr",
     "output_type": "stream",
     "text": [
      "Batch calculation at epoch 15.: 801it [01:25,  6.46it/s]"
     ]
    },
    {
     "name": "stdout",
     "output_type": "stream",
     "text": [
      "------------------------------------------------------------\n",
      "Epoch 15, batch 799:\n",
      "Average original gradient norm: 4.55450441673398 (over last 800 batches)\n",
      "Average clipped gradient norm: 1.9878215841948985 (over last 800 batches)\n",
      "Running average global loss: 1.0095835795253516 (over last 800 batches)\n",
      "Running average activity prediction loss: 0.3097184784337878 (Cross Entropy over last 800 batches)\n",
      "Running average time till next event prediction loss: 0.1615569288097322 (MAE over last 800 batches)\n",
      "Running average (complete) remaining runtime prediction loss: 0.5383081701770425 (MAE over last 800 batches)\n",
      "------------------------------------------------------------\n"
     ]
    },
    {
     "name": "stderr",
     "output_type": "stream",
     "text": [
      "Batch calculation at epoch 15.: 1601it [03:22, 10.95it/s]"
     ]
    },
    {
     "name": "stdout",
     "output_type": "stream",
     "text": [
      "------------------------------------------------------------\n",
      "Epoch 15, batch 1599:\n",
      "Average original gradient norm: 4.808721707612276 (over last 800 batches)\n",
      "Average clipped gradient norm: 1.990597904920578 (over last 800 batches)\n",
      "Running average global loss: 1.0060416439175606 (over last 800 batches)\n",
      "Running average activity prediction loss: 0.3091704000160098 (Cross Entropy over last 800 batches)\n",
      "Running average time till next event prediction loss: 0.1610454818047583 (MAE over last 800 batches)\n",
      "Running average (complete) remaining runtime prediction loss: 0.535825760550797 (MAE over last 800 batches)\n",
      "------------------------------------------------------------\n"
     ]
    },
    {
     "name": "stderr",
     "output_type": "stream",
     "text": [
      "Batch calculation at epoch 15.: 2401it [04:53,  9.34it/s]"
     ]
    },
    {
     "name": "stdout",
     "output_type": "stream",
     "text": [
      "------------------------------------------------------------\n",
      "Epoch 15, batch 2399:\n",
      "Average original gradient norm: 4.623618517816067 (over last 800 batches)\n",
      "Average clipped gradient norm: 1.9882658100128174 (over last 800 batches)\n",
      "Running average global loss: 1.007635392472148 (over last 800 batches)\n",
      "Running average activity prediction loss: 0.3093409113958478 (Cross Entropy over last 800 batches)\n",
      "Running average time till next event prediction loss: 0.16118240566924213 (MAE over last 800 batches)\n",
      "Running average (complete) remaining runtime prediction loss: 0.537112074829638 (MAE over last 800 batches)\n",
      "------------------------------------------------------------\n"
     ]
    },
    {
     "name": "stderr",
     "output_type": "stream",
     "text": [
      "Batch calculation at epoch 15.: 3201it [06:17,  7.97it/s]"
     ]
    },
    {
     "name": "stdout",
     "output_type": "stream",
     "text": [
      "------------------------------------------------------------\n",
      "Epoch 15, batch 3199:\n",
      "Average original gradient norm: 4.5010733519494535 (over last 800 batches)\n",
      "Average clipped gradient norm: 1.985412921011448 (over last 800 batches)\n",
      "Running average global loss: 1.0059055014699698 (over last 800 batches)\n",
      "Running average activity prediction loss: 0.3093214783445001 (Cross Entropy over last 800 batches)\n",
      "Running average time till next event prediction loss: 0.16147886637598277 (MAE over last 800 batches)\n",
      "Running average (complete) remaining runtime prediction loss: 0.5351051577180624 (MAE over last 800 batches)\n",
      "------------------------------------------------------------\n"
     ]
    },
    {
     "name": "stderr",
     "output_type": "stream",
     "text": [
      "Batch calculation at epoch 15.: 4001it [08:06,  6.51it/s]"
     ]
    },
    {
     "name": "stdout",
     "output_type": "stream",
     "text": [
      "------------------------------------------------------------\n",
      "Epoch 15, batch 3999:\n",
      "Average original gradient norm: 4.806867720484734 (over last 800 batches)\n",
      "Average clipped gradient norm: 1.9909210669994355 (over last 800 batches)\n",
      "Running average global loss: 1.007212738096714 (over last 800 batches)\n",
      "Running average activity prediction loss: 0.30877855032682416 (Cross Entropy over last 800 batches)\n",
      "Running average time till next event prediction loss: 0.16119069673120975 (MAE over last 800 batches)\n",
      "Running average (complete) remaining runtime prediction loss: 0.5372434909641742 (MAE over last 800 batches)\n",
      "------------------------------------------------------------\n"
     ]
    },
    {
     "name": "stderr",
     "output_type": "stream",
     "text": [
      "Batch calculation at epoch 15.: 4798it [09:48,  8.15it/s]\n"
     ]
    },
    {
     "name": "stdout",
     "output_type": "stream",
     "text": [
      "=======================================\n",
      "End of epoch 15\n",
      "=======================================\n",
      "Running average global loss: 1.0075217919051647 (over last 800 batches)\n",
      "Running average activity prediction loss: 0.30928269773721695 (Cross Entropy over last 800 batches)\n",
      "Running average time till next event prediction loss: 0.1617163319978863 (MAE over last 800 batches)\n",
      "Running average (complete) remaining runtime prediction loss: 0.5365227614715695 (MAE over last 800 batches)\n"
     ]
    },
    {
     "name": "stderr",
     "output_type": "stream",
     "text": [
      "Validation batch calculation: 36it [22:23, 37.31s/it]\n"
     ]
    },
    {
     "name": "stdout",
     "output_type": "stream",
     "text": [
      "Avg MAE TTNE prediction validation set: 0.21014541387557983 (standardized) ; 778.6349609375 (minutes)'\n",
      "Avg 1-(normalized) DL distance acitivty suffix prediction validation set: 0.31505587697029114\n",
      "Percentage of suffixes predicted to END: too early - 0.05763257950674758 ; right moment - 0.10022730840904592 ; too late - 0.8421401120842065\n",
      "Too early instances - avg amount of events too early: 9.601799964904785\n",
      "Too late instances - avg amount of events too late: 48.64302062988281\n",
      "Avg absolute amount of events predicted too early / too late: 41.517616271972656\n",
      "Avg MAE RRT prediction validation set: 0.48891907930374146 (standardized) ; 8208.464583333332 (minutes)'\n",
      " \n",
      "------------------------------------\n",
      "EPOCH 16:\n",
      "____________________________________\n"
     ]
    },
    {
     "name": "stderr",
     "output_type": "stream",
     "text": [
      "Batch calculation at epoch 16.: 801it [02:06,  6.11it/s]"
     ]
    },
    {
     "name": "stdout",
     "output_type": "stream",
     "text": [
      "------------------------------------------------------------\n",
      "Epoch 16, batch 799:\n",
      "Average original gradient norm: 4.5396475693583485 (over last 800 batches)\n",
      "Average clipped gradient norm: 1.991503815948963 (over last 800 batches)\n",
      "Running average global loss: 1.0083764877170325 (over last 800 batches)\n",
      "Running average activity prediction loss: 0.3083234650269151 (Cross Entropy over last 800 batches)\n",
      "Running average time till next event prediction loss: 0.1611683152988553 (MAE over last 800 batches)\n",
      "Running average (complete) remaining runtime prediction loss: 0.5388847057893872 (MAE over last 800 batches)\n",
      "------------------------------------------------------------\n"
     ]
    },
    {
     "name": "stderr",
     "output_type": "stream",
     "text": [
      "Batch calculation at epoch 16.: 1601it [03:51,  7.77it/s]"
     ]
    },
    {
     "name": "stdout",
     "output_type": "stream",
     "text": [
      "------------------------------------------------------------\n",
      "Epoch 16, batch 1599:\n",
      "Average original gradient norm: 4.754054294675589 (over last 800 batches)\n",
      "Average clipped gradient norm: 1.9922803911566733 (over last 800 batches)\n",
      "Running average global loss: 1.0056659331917763 (over last 800 batches)\n",
      "Running average activity prediction loss: 0.3073103315010667 (Cross Entropy over last 800 batches)\n",
      "Running average time till next event prediction loss: 0.16133569896221162 (MAE over last 800 batches)\n",
      "Running average (complete) remaining runtime prediction loss: 0.537019903883338 (MAE over last 800 batches)\n",
      "------------------------------------------------------------\n"
     ]
    },
    {
     "name": "stderr",
     "output_type": "stream",
     "text": [
      "Batch calculation at epoch 16.: 2401it [05:46,  7.22it/s]"
     ]
    },
    {
     "name": "stdout",
     "output_type": "stream",
     "text": [
      "------------------------------------------------------------\n",
      "Epoch 16, batch 2399:\n",
      "Average original gradient norm: 4.554476916342974 (over last 800 batches)\n",
      "Average clipped gradient norm: 1.9922936901450157 (over last 800 batches)\n",
      "Running average global loss: 1.0046240463107825 (over last 800 batches)\n",
      "Running average activity prediction loss: 0.308064486309886 (Cross Entropy over last 800 batches)\n",
      "Running average time till next event prediction loss: 0.16144684050232172 (MAE over last 800 batches)\n",
      "Running average (complete) remaining runtime prediction loss: 0.535112718604505 (MAE over last 800 batches)\n",
      "------------------------------------------------------------\n"
     ]
    },
    {
     "name": "stderr",
     "output_type": "stream",
     "text": [
      "Batch calculation at epoch 16.: 3201it [07:43, 10.95it/s]"
     ]
    },
    {
     "name": "stdout",
     "output_type": "stream",
     "text": [
      "------------------------------------------------------------\n",
      "Epoch 16, batch 3199:\n",
      "Average original gradient norm: 4.56865316003561 (over last 800 batches)\n",
      "Average clipped gradient norm: 1.9920754988491536 (over last 800 batches)\n",
      "Running average global loss: 1.00537188090384 (over last 800 batches)\n",
      "Running average activity prediction loss: 0.30794006649404765 (Cross Entropy over last 800 batches)\n",
      "Running average time till next event prediction loss: 0.16122508338652553 (MAE over last 800 batches)\n",
      "Running average (complete) remaining runtime prediction loss: 0.5362067311257124 (MAE over last 800 batches)\n",
      "------------------------------------------------------------\n"
     ]
    },
    {
     "name": "stderr",
     "output_type": "stream",
     "text": [
      "Batch calculation at epoch 16.: 4001it [09:39,  6.69it/s]"
     ]
    },
    {
     "name": "stdout",
     "output_type": "stream",
     "text": [
      "------------------------------------------------------------\n",
      "Epoch 16, batch 3999:\n",
      "Average original gradient norm: 4.656095748394728 (over last 800 batches)\n",
      "Average clipped gradient norm: 1.9933423045277596 (over last 800 batches)\n",
      "Running average global loss: 1.004564901664853 (over last 800 batches)\n",
      "Running average activity prediction loss: 0.30766814198344944 (Cross Entropy over last 800 batches)\n",
      "Running average time till next event prediction loss: 0.16119221517816185 (MAE over last 800 batches)\n",
      "Running average (complete) remaining runtime prediction loss: 0.5357045442238451 (MAE over last 800 batches)\n",
      "------------------------------------------------------------\n"
     ]
    },
    {
     "name": "stderr",
     "output_type": "stream",
     "text": [
      "Batch calculation at epoch 16.: 4798it [11:47,  6.78it/s]\n"
     ]
    },
    {
     "name": "stdout",
     "output_type": "stream",
     "text": [
      "=======================================\n",
      "End of epoch 16\n",
      "=======================================\n",
      "Running average global loss: 1.0046522839367389 (over last 800 batches)\n",
      "Running average activity prediction loss: 0.30870278157293796 (Cross Entropy over last 800 batches)\n",
      "Running average time till next event prediction loss: 0.16049473685212434 (MAE over last 800 batches)\n",
      "Running average (complete) remaining runtime prediction loss: 0.5354547661915422 (MAE over last 800 batches)\n"
     ]
    },
    {
     "name": "stderr",
     "output_type": "stream",
     "text": [
      "Validation batch calculation: 36it [22:34, 37.63s/it]\n"
     ]
    },
    {
     "name": "stdout",
     "output_type": "stream",
     "text": [
      "Avg MAE TTNE prediction validation set: 0.20957566797733307 (standardized) ; 776.6141276041667 (minutes)'\n",
      "Avg 1-(normalized) DL distance acitivty suffix prediction validation set: 0.2583180069923401\n",
      "Percentage of suffixes predicted to END: too early - 0.026205314784603098 ; right moment - 0.09568114022812754 ; too late - 0.8781135449872693\n",
      "Too early instances - avg amount of events too early: 9.318572998046875\n",
      "Too late instances - avg amount of events too late: 58.13243865966797\n",
      "Avg absolute amount of events predicted too early / too late: 51.29107666015625\n",
      "Avg MAE RRT prediction validation set: 0.49246710538864136 (standardized) ; 8260.935416666667 (minutes)'\n",
      " \n",
      "------------------------------------\n",
      "EPOCH 17:\n",
      "____________________________________\n"
     ]
    },
    {
     "name": "stderr",
     "output_type": "stream",
     "text": [
      "Batch calculation at epoch 17.: 801it [01:49, 10.24it/s]"
     ]
    },
    {
     "name": "stdout",
     "output_type": "stream",
     "text": [
      "------------------------------------------------------------\n",
      "Epoch 17, batch 799:\n",
      "Average original gradient norm: 4.333422762602567 (over last 800 batches)\n",
      "Average clipped gradient norm: 1.9912608096003532 (over last 800 batches)\n",
      "Running average global loss: 1.0040335486829282 (over last 800 batches)\n",
      "Running average activity prediction loss: 0.30748666226863863 (Cross Entropy over last 800 batches)\n",
      "Running average time till next event prediction loss: 0.16088929833844304 (MAE over last 800 batches)\n",
      "Running average (complete) remaining runtime prediction loss: 0.5356575897708535 (MAE over last 800 batches)\n",
      "------------------------------------------------------------\n"
     ]
    },
    {
     "name": "stderr",
     "output_type": "stream",
     "text": [
      "Batch calculation at epoch 17.: 1601it [03:34,  7.46it/s]"
     ]
    },
    {
     "name": "stdout",
     "output_type": "stream",
     "text": [
      "------------------------------------------------------------\n",
      "Epoch 17, batch 1599:\n",
      "Average original gradient norm: 4.776287920922041 (over last 800 batches)\n",
      "Average clipped gradient norm: 1.9930538058280944 (over last 800 batches)\n",
      "Running average global loss: 1.001702313348651 (over last 800 batches)\n",
      "Running average activity prediction loss: 0.30770750280469655 (Cross Entropy over last 800 batches)\n",
      "Running average time till next event prediction loss: 0.16085735780186952 (MAE over last 800 batches)\n",
      "Running average (complete) remaining runtime prediction loss: 0.5331374523043633 (MAE over last 800 batches)\n",
      "------------------------------------------------------------\n"
     ]
    },
    {
     "name": "stderr",
     "output_type": "stream",
     "text": [
      "Batch calculation at epoch 17.: 2401it [04:55,  8.54it/s]"
     ]
    },
    {
     "name": "stdout",
     "output_type": "stream",
     "text": [
      "------------------------------------------------------------\n",
      "Epoch 17, batch 2399:\n",
      "Average original gradient norm: 4.822609222531319 (over last 800 batches)\n",
      "Average clipped gradient norm: 1.992769511193037 (over last 800 batches)\n",
      "Running average global loss: 1.0070220540463923 (over last 800 batches)\n",
      "Running average activity prediction loss: 0.30752386040985585 (Cross Entropy over last 800 batches)\n",
      "Running average time till next event prediction loss: 0.1604947393294424 (MAE over last 800 batches)\n",
      "Running average (complete) remaining runtime prediction loss: 0.5390034546330571 (MAE over last 800 batches)\n",
      "------------------------------------------------------------\n"
     ]
    },
    {
     "name": "stderr",
     "output_type": "stream",
     "text": [
      "Batch calculation at epoch 17.: 3201it [06:25,  8.12it/s]"
     ]
    },
    {
     "name": "stdout",
     "output_type": "stream",
     "text": [
      "------------------------------------------------------------\n",
      "Epoch 17, batch 3199:\n",
      "Average original gradient norm: 4.79293714389205 (over last 800 batches)\n",
      "Average clipped gradient norm: 1.9932354900240898 (over last 800 batches)\n",
      "Running average global loss: 1.0031547231972218 (over last 800 batches)\n",
      "Running average activity prediction loss: 0.30642661448568104 (Cross Entropy over last 800 batches)\n",
      "Running average time till next event prediction loss: 0.16061227841302753 (MAE over last 800 batches)\n",
      "Running average (complete) remaining runtime prediction loss: 0.5361158323287963 (MAE over last 800 batches)\n",
      "------------------------------------------------------------\n"
     ]
    },
    {
     "name": "stderr",
     "output_type": "stream",
     "text": [
      "Batch calculation at epoch 17.: 4001it [08:22,  5.59it/s]"
     ]
    },
    {
     "name": "stdout",
     "output_type": "stream",
     "text": [
      "------------------------------------------------------------\n",
      "Epoch 17, batch 3999:\n",
      "Average original gradient norm: 4.738896114826202 (over last 800 batches)\n",
      "Average clipped gradient norm: 1.9937986880540848 (over last 800 batches)\n",
      "Running average global loss: 1.0058605501055717 (over last 800 batches)\n",
      "Running average activity prediction loss: 0.3068196045607328 (Cross Entropy over last 800 batches)\n",
      "Running average time till next event prediction loss: 0.16168500530533492 (MAE over last 800 batches)\n",
      "Running average (complete) remaining runtime prediction loss: 0.5373559396341443 (MAE over last 800 batches)\n",
      "------------------------------------------------------------\n"
     ]
    },
    {
     "name": "stderr",
     "output_type": "stream",
     "text": [
      "Batch calculation at epoch 17.: 4798it [10:16,  7.78it/s]\n"
     ]
    },
    {
     "name": "stdout",
     "output_type": "stream",
     "text": [
      "=======================================\n",
      "End of epoch 17\n",
      "=======================================\n",
      "Running average global loss: 1.0031876907497645 (over last 800 batches)\n",
      "Running average activity prediction loss: 0.30646649196743964 (Cross Entropy over last 800 batches)\n",
      "Running average time till next event prediction loss: 0.16122761847451328 (MAE over last 800 batches)\n",
      "Running average (complete) remaining runtime prediction loss: 0.5354935819655657 (MAE over last 800 batches)\n"
     ]
    },
    {
     "name": "stderr",
     "output_type": "stream",
     "text": [
      "Validation batch calculation: 36it [22:26, 37.39s/it]\n"
     ]
    },
    {
     "name": "stdout",
     "output_type": "stream",
     "text": [
      "Avg MAE TTNE prediction validation set: 0.2088451385498047 (standardized) ; 773.5147135416667 (minutes)'\n",
      "Avg 1-(normalized) DL distance acitivty suffix prediction validation set: 0.2513144016265869\n",
      "Percentage of suffixes predicted to END: too early - 0.02481279480125873 ; right moment - 0.09355822986136235 ; too late - 0.8816289753373789\n",
      "Too early instances - avg amount of events too early: 8.335901260375977\n",
      "Too late instances - avg amount of events too late: 59.28973388671875\n",
      "Avg absolute amount of events predicted too early / too late: 52.47838592529297\n",
      "Avg MAE RRT prediction validation set: 0.48803403973579407 (standardized) ; 8184.761979166667 (minutes)'\n",
      " \n",
      "------------------------------------\n",
      "EPOCH 18:\n",
      "____________________________________\n"
     ]
    },
    {
     "name": "stderr",
     "output_type": "stream",
     "text": [
      "Batch calculation at epoch 18.: 801it [01:47,  6.66it/s]"
     ]
    },
    {
     "name": "stdout",
     "output_type": "stream",
     "text": [
      "------------------------------------------------------------\n",
      "Epoch 18, batch 799:\n",
      "Average original gradient norm: 4.694767062962055 (over last 800 batches)\n",
      "Average clipped gradient norm: 1.990145397335291 (over last 800 batches)\n",
      "Running average global loss: 1.0043164289742708 (over last 800 batches)\n",
      "Running average activity prediction loss: 0.30623407270759345 (Cross Entropy over last 800 batches)\n",
      "Running average time till next event prediction loss: 0.1612222119886428 (MAE over last 800 batches)\n",
      "Running average (complete) remaining runtime prediction loss: 0.536860145367682 (MAE over last 800 batches)\n",
      "------------------------------------------------------------\n"
     ]
    },
    {
     "name": "stderr",
     "output_type": "stream",
     "text": [
      "Batch calculation at epoch 18.: 1601it [03:55,  6.80it/s]"
     ]
    },
    {
     "name": "stdout",
     "output_type": "stream",
     "text": [
      "------------------------------------------------------------\n",
      "Epoch 18, batch 1599:\n",
      "Average original gradient norm: 4.76762730255723 (over last 800 batches)\n",
      "Average clipped gradient norm: 1.9945252494513988 (over last 800 batches)\n",
      "Running average global loss: 1.0044259651005267 (over last 800 batches)\n",
      "Running average activity prediction loss: 0.30637173235416415 (Cross Entropy over last 800 batches)\n",
      "Running average time till next event prediction loss: 0.16136594004929067 (MAE over last 800 batches)\n",
      "Running average (complete) remaining runtime prediction loss: 0.5366882941871881 (MAE over last 800 batches)\n",
      "------------------------------------------------------------\n"
     ]
    },
    {
     "name": "stderr",
     "output_type": "stream",
     "text": [
      "Batch calculation at epoch 18.: 2401it [06:19,  5.79it/s]"
     ]
    },
    {
     "name": "stdout",
     "output_type": "stream",
     "text": [
      "------------------------------------------------------------\n",
      "Epoch 18, batch 2399:\n",
      "Average original gradient norm: 4.7973158819973465 (over last 800 batches)\n",
      "Average clipped gradient norm: 1.994204878360033 (over last 800 batches)\n",
      "Running average global loss: 1.0026129097491503 (over last 800 batches)\n",
      "Running average activity prediction loss: 0.3060690279304981 (Cross Entropy over last 800 batches)\n",
      "Running average time till next event prediction loss: 0.16001908192411066 (MAE over last 800 batches)\n",
      "Running average (complete) remaining runtime prediction loss: 0.536524797976017 (MAE over last 800 batches)\n",
      "------------------------------------------------------------\n"
     ]
    },
    {
     "name": "stderr",
     "output_type": "stream",
     "text": [
      "Batch calculation at epoch 18.: 3201it [08:37,  5.29it/s]"
     ]
    },
    {
     "name": "stdout",
     "output_type": "stream",
     "text": [
      "------------------------------------------------------------\n",
      "Epoch 18, batch 3199:\n",
      "Average original gradient norm: 4.818134659677744 (over last 800 batches)\n",
      "Average clipped gradient norm: 1.9951482954621316 (over last 800 batches)\n",
      "Running average global loss: 1.0040850792825222 (over last 800 batches)\n",
      "Running average activity prediction loss: 0.3063981482386589 (Cross Entropy over last 800 batches)\n",
      "Running average time till next event prediction loss: 0.16149759978987277 (MAE over last 800 batches)\n",
      "Running average (complete) remaining runtime prediction loss: 0.5361893322318793 (MAE over last 800 batches)\n",
      "------------------------------------------------------------\n"
     ]
    },
    {
     "name": "stderr",
     "output_type": "stream",
     "text": [
      "Batch calculation at epoch 18.: 4001it [10:27,  6.95it/s]"
     ]
    },
    {
     "name": "stdout",
     "output_type": "stream",
     "text": [
      "------------------------------------------------------------\n",
      "Epoch 18, batch 3999:\n",
      "Average original gradient norm: 4.8820549698174 (over last 800 batches)\n",
      "Average clipped gradient norm: 1.9941178289055825 (over last 800 batches)\n",
      "Running average global loss: 1.0009682724624873 (over last 800 batches)\n",
      "Running average activity prediction loss: 0.30612561233341695 (Cross Entropy over last 800 batches)\n",
      "Running average time till next event prediction loss: 0.16027744634076954 (MAE over last 800 batches)\n",
      "Running average (complete) remaining runtime prediction loss: 0.5345652145147324 (MAE over last 800 batches)\n",
      "------------------------------------------------------------\n"
     ]
    },
    {
     "name": "stderr",
     "output_type": "stream",
     "text": [
      "Batch calculation at epoch 18.: 4798it [12:22,  6.46it/s]\n"
     ]
    },
    {
     "name": "stdout",
     "output_type": "stream",
     "text": [
      "=======================================\n",
      "End of epoch 18\n",
      "=======================================\n",
      "Running average global loss: 0.999495043233037 (over last 800 batches)\n",
      "Running average activity prediction loss: 0.3053262513875961 (Cross Entropy over last 800 batches)\n",
      "Running average time till next event prediction loss: 0.16016762742772697 (MAE over last 800 batches)\n",
      "Running average (complete) remaining runtime prediction loss: 0.5340011645108461 (MAE over last 800 batches)\n"
     ]
    },
    {
     "name": "stderr",
     "output_type": "stream",
     "text": [
      "Validation batch calculation: 36it [21:41, 36.15s/it]\n"
     ]
    },
    {
     "name": "stdout",
     "output_type": "stream",
     "text": [
      "Avg MAE TTNE prediction validation set: 0.21159106492996216 (standardized) ; 784.1392578125 (minutes)'\n",
      "Avg 1-(normalized) DL distance acitivty suffix prediction validation set: 0.3591402471065521\n",
      "Percentage of suffixes predicted to END: too early - 0.06777613193444235 ; right moment - 0.10309426131593138 ; too late - 0.8291296067496263\n",
      "Too early instances - avg amount of events too early: 9.366300582885742\n",
      "Too late instances - avg amount of events too late: 39.58528137207031\n",
      "Avg absolute amount of events predicted too early / too late: 33.456138610839844\n",
      "Avg MAE RRT prediction validation set: 0.4910052418708801 (standardized) ; 8239.759895833333 (minutes)'\n",
      " \n",
      "------------------------------------\n",
      "EPOCH 19:\n",
      "____________________________________\n"
     ]
    },
    {
     "name": "stderr",
     "output_type": "stream",
     "text": [
      "Batch calculation at epoch 19.: 801it [01:32,  6.00it/s]"
     ]
    },
    {
     "name": "stdout",
     "output_type": "stream",
     "text": [
      "------------------------------------------------------------\n",
      "Epoch 19, batch 799:\n",
      "Average original gradient norm: 4.986295112222433 (over last 800 batches)\n",
      "Average clipped gradient norm: 1.9954082155227661 (over last 800 batches)\n",
      "Running average global loss: 1.002386189699173 (over last 800 batches)\n",
      "Running average activity prediction loss: 0.3056053389236331 (Cross Entropy over last 800 batches)\n",
      "Running average time till next event prediction loss: 0.16053147424943745 (MAE over last 800 batches)\n",
      "Running average (complete) remaining runtime prediction loss: 0.5362493784725666 (MAE over last 800 batches)\n",
      "------------------------------------------------------------\n"
     ]
    },
    {
     "name": "stderr",
     "output_type": "stream",
     "text": [
      "Batch calculation at epoch 19.: 1601it [03:45,  5.59it/s]"
     ]
    },
    {
     "name": "stdout",
     "output_type": "stream",
     "text": [
      "------------------------------------------------------------\n",
      "Epoch 19, batch 1599:\n",
      "Average original gradient norm: 4.770661900788546 (over last 800 batches)\n",
      "Average clipped gradient norm: 1.9941207315027714 (over last 800 batches)\n",
      "Running average global loss: 0.9974332240968943 (over last 800 batches)\n",
      "Running average activity prediction loss: 0.3048800090327859 (Cross Entropy over last 800 batches)\n",
      "Running average time till next event prediction loss: 0.15921947398222983 (MAE over last 800 batches)\n",
      "Running average (complete) remaining runtime prediction loss: 0.5333337421342731 (MAE over last 800 batches)\n",
      "------------------------------------------------------------\n"
     ]
    },
    {
     "name": "stderr",
     "output_type": "stream",
     "text": [
      "Batch calculation at epoch 19.: 2401it [05:57,  5.65it/s]"
     ]
    },
    {
     "name": "stdout",
     "output_type": "stream",
     "text": [
      "------------------------------------------------------------\n",
      "Epoch 19, batch 2399:\n",
      "Average original gradient norm: 5.33222976192832 (over last 800 batches)\n",
      "Average clipped gradient norm: 1.9973829630017281 (over last 800 batches)\n",
      "Running average global loss: 1.00388995654881 (over last 800 batches)\n",
      "Running average activity prediction loss: 0.30560677640140055 (Cross Entropy over last 800 batches)\n",
      "Running average time till next event prediction loss: 0.16090973212383688 (MAE over last 800 batches)\n",
      "Running average (complete) remaining runtime prediction loss: 0.5373734461516142 (MAE over last 800 batches)\n",
      "------------------------------------------------------------\n"
     ]
    },
    {
     "name": "stderr",
     "output_type": "stream",
     "text": [
      "Batch calculation at epoch 19.: 3201it [08:02,  7.46it/s]"
     ]
    },
    {
     "name": "stdout",
     "output_type": "stream",
     "text": [
      "------------------------------------------------------------\n",
      "Epoch 19, batch 3199:\n",
      "Average original gradient norm: 5.040735693573952 (over last 800 batches)\n",
      "Average clipped gradient norm: 1.994229427576065 (over last 800 batches)\n",
      "Running average global loss: 1.0011527760326862 (over last 800 batches)\n",
      "Running average activity prediction loss: 0.3044663203507662 (Cross Entropy over last 800 batches)\n",
      "Running average time till next event prediction loss: 0.16101265161298214 (MAE over last 800 batches)\n",
      "Running average (complete) remaining runtime prediction loss: 0.5356738049164415 (MAE over last 800 batches)\n",
      "------------------------------------------------------------\n"
     ]
    },
    {
     "name": "stderr",
     "output_type": "stream",
     "text": [
      "Batch calculation at epoch 19.: 4001it [09:37,  7.82it/s]"
     ]
    },
    {
     "name": "stdout",
     "output_type": "stream",
     "text": [
      "------------------------------------------------------------\n",
      "Epoch 19, batch 3999:\n",
      "Average original gradient norm: 5.078678342550993 (over last 800 batches)\n",
      "Average clipped gradient norm: 1.997244760990143 (over last 800 batches)\n",
      "Running average global loss: 1.0013855278491974 (over last 800 batches)\n",
      "Running average activity prediction loss: 0.30545603517442943 (Cross Entropy over last 800 batches)\n",
      "Running average time till next event prediction loss: 0.16059570556506514 (MAE over last 800 batches)\n",
      "Running average (complete) remaining runtime prediction loss: 0.5353337880596518 (MAE over last 800 batches)\n",
      "------------------------------------------------------------\n"
     ]
    },
    {
     "name": "stderr",
     "output_type": "stream",
     "text": [
      "Batch calculation at epoch 19.: 4798it [11:25,  7.00it/s]\n"
     ]
    },
    {
     "name": "stdout",
     "output_type": "stream",
     "text": [
      "=======================================\n",
      "End of epoch 19\n",
      "=======================================\n",
      "Running average global loss: 1.0034970834851265 (over last 800 batches)\n",
      "Running average activity prediction loss: 0.30609416622668506 (Cross Entropy over last 800 batches)\n",
      "Running average time till next event prediction loss: 0.16149129413999616 (MAE over last 800 batches)\n",
      "Running average (complete) remaining runtime prediction loss: 0.5359116216748953 (MAE over last 800 batches)\n"
     ]
    },
    {
     "name": "stderr",
     "output_type": "stream",
     "text": [
      "Validation batch calculation: 36it [21:28, 35.78s/it]\n"
     ]
    },
    {
     "name": "stdout",
     "output_type": "stream",
     "text": [
      "Avg MAE TTNE prediction validation set: 0.21003364026546478 (standardized) ; 778.2337239583334 (minutes)'\n",
      "Avg 1-(normalized) DL distance acitivty suffix prediction validation set: 0.37302860617637634\n",
      "Percentage of suffixes predicted to END: too early - 0.059386881642627495 ; right moment - 0.10040478644613883 ; too late - 0.8402083319112337\n",
      "Too early instances - avg amount of events too early: 8.852298736572266\n",
      "Too late instances - avg amount of events too late: 35.37166213989258\n",
      "Avg absolute amount of events predicted too early / too late: 30.245275497436523\n",
      "Avg MAE RRT prediction validation set: 0.4905034899711609 (standardized) ; 8223.808854166668 (minutes)'\n",
      " \n",
      "------------------------------------\n",
      "EPOCH 20:\n",
      "____________________________________\n"
     ]
    },
    {
     "name": "stderr",
     "output_type": "stream",
     "text": [
      "Batch calculation at epoch 20.: 801it [01:49,  8.85it/s]"
     ]
    },
    {
     "name": "stdout",
     "output_type": "stream",
     "text": [
      "------------------------------------------------------------\n",
      "Epoch 20, batch 799:\n",
      "Average original gradient norm: 4.880075388848781 (over last 800 batches)\n",
      "Average clipped gradient norm: 1.9918377542495727 (over last 800 batches)\n",
      "Running average global loss: 1.0028188534080982 (over last 800 batches)\n",
      "Running average activity prediction loss: 0.3052603343874216 (Cross Entropy over last 800 batches)\n",
      "Running average time till next event prediction loss: 0.16117693978361786 (MAE over last 800 batches)\n",
      "Running average (complete) remaining runtime prediction loss: 0.5363815789297223 (MAE over last 800 batches)\n",
      "------------------------------------------------------------\n"
     ]
    },
    {
     "name": "stderr",
     "output_type": "stream",
     "text": [
      "Batch calculation at epoch 20.: 1601it [03:20,  9.41it/s]"
     ]
    },
    {
     "name": "stdout",
     "output_type": "stream",
     "text": [
      "------------------------------------------------------------\n",
      "Epoch 20, batch 1599:\n",
      "Average original gradient norm: 5.131684973835945 (over last 800 batches)\n",
      "Average clipped gradient norm: 1.9948098085820676 (over last 800 batches)\n",
      "Running average global loss: 0.9981876614689827 (over last 800 batches)\n",
      "Running average activity prediction loss: 0.30426737528294323 (Cross Entropy over last 800 batches)\n",
      "Running average time till next event prediction loss: 0.15966800780966878 (MAE over last 800 batches)\n",
      "Running average (complete) remaining runtime prediction loss: 0.5342522785440087 (MAE over last 800 batches)\n",
      "------------------------------------------------------------\n"
     ]
    },
    {
     "name": "stderr",
     "output_type": "stream",
     "text": [
      "Batch calculation at epoch 20.: 2401it [05:23,  5.09it/s]"
     ]
    },
    {
     "name": "stdout",
     "output_type": "stream",
     "text": [
      "------------------------------------------------------------\n",
      "Epoch 20, batch 2399:\n",
      "Average original gradient norm: 4.8881732645630835 (over last 800 batches)\n",
      "Average clipped gradient norm: 1.9972569343447686 (over last 800 batches)\n",
      "Running average global loss: 1.0011181673407554 (over last 800 batches)\n",
      "Running average activity prediction loss: 0.3045446417480707 (Cross Entropy over last 800 batches)\n",
      "Running average time till next event prediction loss: 0.1607956932671368 (MAE over last 800 batches)\n",
      "Running average (complete) remaining runtime prediction loss: 0.535777831710875 (MAE over last 800 batches)\n",
      "------------------------------------------------------------\n"
     ]
    },
    {
     "name": "stderr",
     "output_type": "stream",
     "text": [
      "Batch calculation at epoch 20.: 3200it [07:37,  6.14it/s]"
     ]
    },
    {
     "name": "stdout",
     "output_type": "stream",
     "text": [
      "------------------------------------------------------------\n",
      "Epoch 20, batch 3199:\n",
      "Average original gradient norm: 5.304228882491588 (over last 800 batches)\n",
      "Average clipped gradient norm: 1.9966563273966313 (over last 800 batches)\n",
      "Running average global loss: 0.9978375808149577 (over last 800 batches)\n",
      "Running average activity prediction loss: 0.3043654443696141 (Cross Entropy over last 800 batches)\n",
      "Running average time till next event prediction loss: 0.16034556108526885 (MAE over last 800 batches)\n",
      "Running average (complete) remaining runtime prediction loss: 0.533126575499773 (MAE over last 800 batches)\n",
      "------------------------------------------------------------\n"
     ]
    },
    {
     "name": "stderr",
     "output_type": "stream",
     "text": [
      "Batch calculation at epoch 20.: 4001it [09:55,  6.63it/s]"
     ]
    },
    {
     "name": "stdout",
     "output_type": "stream",
     "text": [
      "------------------------------------------------------------\n",
      "Epoch 20, batch 3999:\n",
      "Average original gradient norm: 5.177282926440239 (over last 800 batches)\n",
      "Average clipped gradient norm: 1.9979916770756245 (over last 800 batches)\n",
      "Running average global loss: 0.9978175877034664 (over last 800 batches)\n",
      "Running average activity prediction loss: 0.3040292400866747 (Cross Entropy over last 800 batches)\n",
      "Running average time till next event prediction loss: 0.15985061230137945 (MAE over last 800 batches)\n",
      "Running average (complete) remaining runtime prediction loss: 0.5339377343282103 (MAE over last 800 batches)\n",
      "------------------------------------------------------------\n"
     ]
    },
    {
     "name": "stderr",
     "output_type": "stream",
     "text": [
      "Batch calculation at epoch 20.: 4798it [12:06,  6.60it/s]\n"
     ]
    },
    {
     "name": "stdout",
     "output_type": "stream",
     "text": [
      "=======================================\n",
      "End of epoch 20\n",
      "=======================================\n",
      "Running average global loss: 1.0033229067921638 (over last 800 batches)\n",
      "Running average activity prediction loss: 0.304201777279377 (Cross Entropy over last 800 batches)\n",
      "Running average time till next event prediction loss: 0.1610366426408291 (MAE over last 800 batches)\n",
      "Running average (complete) remaining runtime prediction loss: 0.5380844870582223 (MAE over last 800 batches)\n"
     ]
    },
    {
     "name": "stderr",
     "output_type": "stream",
     "text": [
      "Validation batch calculation: 36it [22:09, 36.93s/it]\n"
     ]
    },
    {
     "name": "stdout",
     "output_type": "stream",
     "text": [
      "Avg MAE TTNE prediction validation set: 0.21139498054981232 (standardized) ; 783.3454427083333 (minutes)'\n",
      "Avg 1-(normalized) DL distance acitivty suffix prediction validation set: 0.35368090867996216\n",
      "Percentage of suffixes predicted to END: too early - 0.05641753756049612 ; right moment - 0.1013467852584012 ; too late - 0.8422356771811027\n",
      "Too early instances - avg amount of events too early: 9.062553405761719\n",
      "Too late instances - avg amount of events too late: 40.109954833984375\n",
      "Avg absolute amount of events predicted too early / too late: 34.2933235168457\n",
      "Avg MAE RRT prediction validation set: 0.49185681343078613 (standardized) ; 8248.4234375 (minutes)'\n",
      " \n",
      "------------------------------------\n",
      "EPOCH 21:\n",
      "____________________________________\n"
     ]
    },
    {
     "name": "stderr",
     "output_type": "stream",
     "text": [
      "Batch calculation at epoch 21.: 801it [01:33,  8.46it/s]"
     ]
    },
    {
     "name": "stdout",
     "output_type": "stream",
     "text": [
      "------------------------------------------------------------\n",
      "Epoch 21, batch 799:\n",
      "Average original gradient norm: 5.124957952946424 (over last 800 batches)\n",
      "Average clipped gradient norm: 1.9967898377776145 (over last 800 batches)\n",
      "Running average global loss: 0.9993924531340599 (over last 800 batches)\n",
      "Running average activity prediction loss: 0.3043689125403762 (Cross Entropy over last 800 batches)\n",
      "Running average time till next event prediction loss: 0.1606878342386335 (MAE over last 800 batches)\n",
      "Running average (complete) remaining runtime prediction loss: 0.5343357064574957 (MAE over last 800 batches)\n",
      "------------------------------------------------------------\n"
     ]
    },
    {
     "name": "stderr",
     "output_type": "stream",
     "text": [
      "Batch calculation at epoch 21.: 1601it [02:58,  9.01it/s]"
     ]
    },
    {
     "name": "stdout",
     "output_type": "stream",
     "text": [
      "------------------------------------------------------------\n",
      "Epoch 21, batch 1599:\n",
      "Average original gradient norm: 5.257141456156969 (over last 800 batches)\n",
      "Average clipped gradient norm: 1.9973084670305252 (over last 800 batches)\n",
      "Running average global loss: 1.0028153757750988 (over last 800 batches)\n",
      "Running average activity prediction loss: 0.30431105732917785 (Cross Entropy over last 800 batches)\n",
      "Running average time till next event prediction loss: 0.16086492265574634 (MAE over last 800 batches)\n",
      "Running average (complete) remaining runtime prediction loss: 0.537639397084713 (MAE over last 800 batches)\n",
      "------------------------------------------------------------\n"
     ]
    },
    {
     "name": "stderr",
     "output_type": "stream",
     "text": [
      "Batch calculation at epoch 21.: 2401it [04:27,  7.16it/s]"
     ]
    },
    {
     "name": "stdout",
     "output_type": "stream",
     "text": [
      "------------------------------------------------------------\n",
      "Epoch 21, batch 2399:\n",
      "Average original gradient norm: 4.882598103284836 (over last 800 batches)\n",
      "Average clipped gradient norm: 1.9958043786883355 (over last 800 batches)\n",
      "Running average global loss: 1.0004706405103208 (over last 800 batches)\n",
      "Running average activity prediction loss: 0.3032332997024059 (Cross Entropy over last 800 batches)\n",
      "Running average time till next event prediction loss: 0.1610684627201408 (MAE over last 800 batches)\n",
      "Running average (complete) remaining runtime prediction loss: 0.536168878339231 (MAE over last 800 batches)\n",
      "------------------------------------------------------------\n"
     ]
    },
    {
     "name": "stderr",
     "output_type": "stream",
     "text": [
      "Batch calculation at epoch 21.: 3201it [06:12,  6.87it/s]"
     ]
    },
    {
     "name": "stdout",
     "output_type": "stream",
     "text": [
      "------------------------------------------------------------\n",
      "Epoch 21, batch 3199:\n",
      "Average original gradient norm: 4.98727471858263 (over last 800 batches)\n",
      "Average clipped gradient norm: 1.995615920126438 (over last 800 batches)\n",
      "Running average global loss: 0.9972490582615137 (over last 800 batches)\n",
      "Running average activity prediction loss: 0.30407560110092163 (Cross Entropy over last 800 batches)\n",
      "Running average time till next event prediction loss: 0.15966885627247393 (MAE over last 800 batches)\n",
      "Running average (complete) remaining runtime prediction loss: 0.5335045998543501 (MAE over last 800 batches)\n",
      "------------------------------------------------------------\n"
     ]
    },
    {
     "name": "stderr",
     "output_type": "stream",
     "text": [
      "Batch calculation at epoch 21.: 4001it [07:57,  7.71it/s]"
     ]
    },
    {
     "name": "stdout",
     "output_type": "stream",
     "text": [
      "------------------------------------------------------------\n",
      "Epoch 21, batch 3999:\n",
      "Average original gradient norm: 5.110280508995056 (over last 800 batches)\n",
      "Average clipped gradient norm: 1.9969951911270618 (over last 800 batches)\n",
      "Running average global loss: 0.9972402600198984 (over last 800 batches)\n",
      "Running average activity prediction loss: 0.3019481896609068 (Cross Entropy over last 800 batches)\n",
      "Running average time till next event prediction loss: 0.159676203308627 (MAE over last 800 batches)\n",
      "Running average (complete) remaining runtime prediction loss: 0.5356158665940165 (MAE over last 800 batches)\n",
      "------------------------------------------------------------\n"
     ]
    },
    {
     "name": "stderr",
     "output_type": "stream",
     "text": [
      "Batch calculation at epoch 21.: 4798it [09:40,  8.27it/s]\n"
     ]
    },
    {
     "name": "stdout",
     "output_type": "stream",
     "text": [
      "=======================================\n",
      "End of epoch 21\n",
      "=======================================\n",
      "Running average global loss: 0.9980269508063793 (over last 800 batches)\n",
      "Running average activity prediction loss: 0.3044184114784002 (Cross Entropy over last 800 batches)\n",
      "Running average time till next event prediction loss: 0.1599916008859873 (MAE over last 800 batches)\n",
      "Running average (complete) remaining runtime prediction loss: 0.5336169368773699 (MAE over last 800 batches)\n"
     ]
    },
    {
     "name": "stderr",
     "output_type": "stream",
     "text": [
      "Validation batch calculation: 36it [19:39, 32.75s/it]\n"
     ]
    },
    {
     "name": "stdout",
     "output_type": "stream",
     "text": [
      "Avg MAE TTNE prediction validation set: 0.21155039966106415 (standardized) ; 784.0111979166667 (minutes)'\n",
      "Avg 1-(normalized) DL distance acitivty suffix prediction validation set: 0.36410194635391235\n",
      "Percentage of suffixes predicted to END: too early - 0.046396854543096444 ; right moment - 0.09778357235984354 ; too late - 0.85581957309706\n",
      "Too early instances - avg amount of events too early: 8.625864028930664\n",
      "Too late instances - avg amount of events too late: 36.35039520263672\n",
      "Avg absolute amount of events predicted too early / too late: 31.509593963623047\n",
      "Avg MAE RRT prediction validation set: 0.4899713099002838 (standardized) ; 8216.739583333334 (minutes)'\n",
      " \n",
      "------------------------------------\n",
      "EPOCH 22:\n",
      "____________________________________\n"
     ]
    },
    {
     "name": "stderr",
     "output_type": "stream",
     "text": [
      "Batch calculation at epoch 22.: 801it [01:41,  7.56it/s]"
     ]
    },
    {
     "name": "stdout",
     "output_type": "stream",
     "text": [
      "------------------------------------------------------------\n",
      "Epoch 22, batch 799:\n",
      "Average original gradient norm: 5.180572933703661 (over last 800 batches)\n",
      "Average clipped gradient norm: 1.9968398992717267 (over last 800 batches)\n",
      "Running average global loss: 0.9974322152882814 (over last 800 batches)\n",
      "Running average activity prediction loss: 0.30204085513949397 (Cross Entropy over last 800 batches)\n",
      "Running average time till next event prediction loss: 0.1604427807405591 (MAE over last 800 batches)\n",
      "Running average (complete) remaining runtime prediction loss: 0.5349485788121819 (MAE over last 800 batches)\n",
      "------------------------------------------------------------\n"
     ]
    },
    {
     "name": "stderr",
     "output_type": "stream",
     "text": [
      "Batch calculation at epoch 22.: 1601it [03:27,  7.52it/s]"
     ]
    },
    {
     "name": "stdout",
     "output_type": "stream",
     "text": [
      "------------------------------------------------------------\n",
      "Epoch 22, batch 1599:\n",
      "Average original gradient norm: 5.050920085310936 (over last 800 batches)\n",
      "Average clipped gradient norm: 1.9976735399663448 (over last 800 batches)\n",
      "Running average global loss: 0.9981220243871212 (over last 800 batches)\n",
      "Running average activity prediction loss: 0.3032339579984546 (Cross Entropy over last 800 batches)\n",
      "Running average time till next event prediction loss: 0.15995255306363107 (MAE over last 800 batches)\n",
      "Running average (complete) remaining runtime prediction loss: 0.5349355152249337 (MAE over last 800 batches)\n",
      "------------------------------------------------------------\n"
     ]
    },
    {
     "name": "stderr",
     "output_type": "stream",
     "text": [
      "Batch calculation at epoch 22.: 2401it [04:56,  9.17it/s]"
     ]
    },
    {
     "name": "stdout",
     "output_type": "stream",
     "text": [
      "------------------------------------------------------------\n",
      "Epoch 22, batch 2399:\n",
      "Average original gradient norm: 5.516736370623112 (over last 800 batches)\n",
      "Average clipped gradient norm: 1.9973289546370507 (over last 800 batches)\n",
      "Running average global loss: 0.9980924583226443 (over last 800 batches)\n",
      "Running average activity prediction loss: 0.3024827380105853 (Cross Entropy over last 800 batches)\n",
      "Running average time till next event prediction loss: 0.1604025315027684 (MAE over last 800 batches)\n",
      "Running average (complete) remaining runtime prediction loss: 0.5352071889489889 (MAE over last 800 batches)\n",
      "------------------------------------------------------------\n"
     ]
    },
    {
     "name": "stderr",
     "output_type": "stream",
     "text": [
      "Batch calculation at epoch 22.: 3201it [06:33,  8.12it/s]"
     ]
    },
    {
     "name": "stdout",
     "output_type": "stream",
     "text": [
      "------------------------------------------------------------\n",
      "Epoch 22, batch 3199:\n",
      "Average original gradient norm: 5.040770003944635 (over last 800 batches)\n",
      "Average clipped gradient norm: 1.9984829398989676 (over last 800 batches)\n",
      "Running average global loss: 0.9986394753307104 (over last 800 batches)\n",
      "Running average activity prediction loss: 0.3039437907934189 (Cross Entropy over last 800 batches)\n",
      "Running average time till next event prediction loss: 0.16030652211047708 (MAE over last 800 batches)\n",
      "Running average (complete) remaining runtime prediction loss: 0.5343891633301974 (MAE over last 800 batches)\n",
      "------------------------------------------------------------\n"
     ]
    },
    {
     "name": "stderr",
     "output_type": "stream",
     "text": [
      "Batch calculation at epoch 22.: 4001it [08:10,  9.57it/s]"
     ]
    },
    {
     "name": "stdout",
     "output_type": "stream",
     "text": [
      "------------------------------------------------------------\n",
      "Epoch 22, batch 3999:\n",
      "Average original gradient norm: 5.37002827450633 (over last 800 batches)\n",
      "Average clipped gradient norm: 1.9988963907957078 (over last 800 batches)\n",
      "Running average global loss: 0.9968608098477125 (over last 800 batches)\n",
      "Running average activity prediction loss: 0.3025937314704061 (Cross Entropy over last 800 batches)\n",
      "Running average time till next event prediction loss: 0.15972726671025156 (MAE over last 800 batches)\n",
      "Running average (complete) remaining runtime prediction loss: 0.5345398123189807 (MAE over last 800 batches)\n",
      "------------------------------------------------------------\n"
     ]
    },
    {
     "name": "stderr",
     "output_type": "stream",
     "text": [
      "Batch calculation at epoch 22.: 4798it [09:42,  8.24it/s]\n"
     ]
    },
    {
     "name": "stdout",
     "output_type": "stream",
     "text": [
      "=======================================\n",
      "End of epoch 22\n",
      "=======================================\n",
      "Running average global loss: 0.9975175815820694 (over last 800 batches)\n",
      "Running average activity prediction loss: 0.3028601772710681 (Cross Entropy over last 800 batches)\n",
      "Running average time till next event prediction loss: 0.16013081070035695 (MAE over last 800 batches)\n",
      "Running average (complete) remaining runtime prediction loss: 0.5345265940576792 (MAE over last 800 batches)\n"
     ]
    },
    {
     "name": "stderr",
     "output_type": "stream",
     "text": [
      "Validation batch calculation: 36it [19:42, 32.84s/it]\n"
     ]
    },
    {
     "name": "stdout",
     "output_type": "stream",
     "text": [
      "Avg MAE TTNE prediction validation set: 0.20815588533878326 (standardized) ; 771.2255208333333 (minutes)'\n",
      "Avg 1-(normalized) DL distance acitivty suffix prediction validation set: 0.2795586884021759\n",
      "Percentage of suffixes predicted to END: too early - 0.04077216598292115 ; right moment - 0.0994696137122262 ; too late - 0.8597582203048526\n",
      "Too early instances - avg amount of events too early: 9.00770092010498\n",
      "Too late instances - avg amount of events too late: 56.229434967041016\n",
      "Avg absolute amount of events predicted too early / too late: 48.71098327636719\n",
      "Avg MAE RRT prediction validation set: 0.4916600286960602 (standardized) ; 8248.047916666666 (minutes)'\n",
      " \n",
      "------------------------------------\n",
      "EPOCH 23:\n",
      "____________________________________\n"
     ]
    },
    {
     "name": "stderr",
     "output_type": "stream",
     "text": [
      "Batch calculation at epoch 23.: 801it [01:41,  7.71it/s]"
     ]
    },
    {
     "name": "stdout",
     "output_type": "stream",
     "text": [
      "------------------------------------------------------------\n",
      "Epoch 23, batch 799:\n",
      "Average original gradient norm: 5.2823615898191925 (over last 800 batches)\n",
      "Average clipped gradient norm: 1.9988537710905074 (over last 800 batches)\n",
      "Running average global loss: 0.9953369680047035 (over last 800 batches)\n",
      "Running average activity prediction loss: 0.3023959134146571 (Cross Entropy over last 800 batches)\n",
      "Running average time till next event prediction loss: 0.1601612517889589 (MAE over last 800 batches)\n",
      "Running average (complete) remaining runtime prediction loss: 0.5327798011153937 (MAE over last 800 batches)\n",
      "------------------------------------------------------------\n"
     ]
    },
    {
     "name": "stderr",
     "output_type": "stream",
     "text": [
      "Batch calculation at epoch 23.: 1601it [03:22,  8.15it/s]"
     ]
    },
    {
     "name": "stdout",
     "output_type": "stream",
     "text": [
      "------------------------------------------------------------\n",
      "Epoch 23, batch 1599:\n",
      "Average original gradient norm: 5.151796930283308 (over last 800 batches)\n",
      "Average clipped gradient norm: 1.9975313818454743 (over last 800 batches)\n",
      "Running average global loss: 0.9983362729102373 (over last 800 batches)\n",
      "Running average activity prediction loss: 0.3008664966747165 (Cross Entropy over last 800 batches)\n",
      "Running average time till next event prediction loss: 0.16036045201122762 (MAE over last 800 batches)\n",
      "Running average (complete) remaining runtime prediction loss: 0.5371093256026507 (MAE over last 800 batches)\n",
      "------------------------------------------------------------\n"
     ]
    },
    {
     "name": "stderr",
     "output_type": "stream",
     "text": [
      "Batch calculation at epoch 23.: 2401it [04:53,  6.86it/s]"
     ]
    },
    {
     "name": "stdout",
     "output_type": "stream",
     "text": [
      "------------------------------------------------------------\n",
      "Epoch 23, batch 2399:\n",
      "Average original gradient norm: 5.520398048311472 (over last 800 batches)\n",
      "Average clipped gradient norm: 1.998408130556345 (over last 800 batches)\n",
      "Running average global loss: 0.9989010630548001 (over last 800 batches)\n",
      "Running average activity prediction loss: 0.30343552466481927 (Cross Entropy over last 800 batches)\n",
      "Running average time till next event prediction loss: 0.1599105588532984 (MAE over last 800 batches)\n",
      "Running average (complete) remaining runtime prediction loss: 0.5355549805611372 (MAE over last 800 batches)\n",
      "------------------------------------------------------------\n"
     ]
    },
    {
     "name": "stderr",
     "output_type": "stream",
     "text": [
      "Batch calculation at epoch 23.: 3201it [06:27,  8.57it/s]"
     ]
    },
    {
     "name": "stdout",
     "output_type": "stream",
     "text": [
      "------------------------------------------------------------\n",
      "Epoch 23, batch 3199:\n",
      "Average original gradient norm: 5.487974863052369 (over last 800 batches)\n",
      "Average clipped gradient norm: 1.9981101356446742 (over last 800 batches)\n",
      "Running average global loss: 0.9980414622277022 (over last 800 batches)\n",
      "Running average activity prediction loss: 0.30221319384872913 (Cross Entropy over last 800 batches)\n",
      "Running average time till next event prediction loss: 0.16056539757177235 (MAE over last 800 batches)\n",
      "Running average (complete) remaining runtime prediction loss: 0.5352628707885743 (MAE over last 800 batches)\n",
      "------------------------------------------------------------\n"
     ]
    },
    {
     "name": "stderr",
     "output_type": "stream",
     "text": [
      "Batch calculation at epoch 23.: 4001it [08:10,  7.36it/s]"
     ]
    },
    {
     "name": "stdout",
     "output_type": "stream",
     "text": [
      "------------------------------------------------------------\n",
      "Epoch 23, batch 3999:\n",
      "Average original gradient norm: 5.282959496676922 (over last 800 batches)\n",
      "Average clipped gradient norm: 1.998510271459818 (over last 800 batches)\n",
      "Running average global loss: 0.9942262165993452 (over last 800 batches)\n",
      "Running average activity prediction loss: 0.3019953212887049 (Cross Entropy over last 800 batches)\n",
      "Running average time till next event prediction loss: 0.15981258045881985 (MAE over last 800 batches)\n",
      "Running average (complete) remaining runtime prediction loss: 0.5324183144792914 (MAE over last 800 batches)\n",
      "------------------------------------------------------------\n"
     ]
    },
    {
     "name": "stderr",
     "output_type": "stream",
     "text": [
      "Batch calculation at epoch 23.: 4798it [09:30,  8.41it/s]\n"
     ]
    },
    {
     "name": "stdout",
     "output_type": "stream",
     "text": [
      "=======================================\n",
      "End of epoch 23\n",
      "=======================================\n",
      "Running average global loss: 0.9968226140737534 (over last 800 batches)\n",
      "Running average activity prediction loss: 0.30251204781234264 (Cross Entropy over last 800 batches)\n",
      "Running average time till next event prediction loss: 0.15978257377631963 (MAE over last 800 batches)\n",
      "Running average (complete) remaining runtime prediction loss: 0.5345279924944043 (MAE over last 800 batches)\n"
     ]
    },
    {
     "name": "stderr",
     "output_type": "stream",
     "text": [
      "Validation batch calculation: 36it [20:00, 33.34s/it]\n"
     ]
    },
    {
     "name": "stdout",
     "output_type": "stream",
     "text": [
      "Avg MAE TTNE prediction validation set: 0.21168634295463562 (standardized) ; 784.1136067708334 (minutes)'\n",
      "Avg 1-(normalized) DL distance acitivty suffix prediction validation set: 0.24916428327560425\n",
      "Percentage of suffixes predicted to END: too early - 0.01357024375925787 ; right moment - 0.0915445367481928 ; too late - 0.8948852194925493\n",
      "Too early instances - avg amount of events too early: 9.804326057434082\n",
      "Too late instances - avg amount of events too late: 56.09721755981445\n",
      "Avg absolute amount of events predicted too early / too late: 50.3336181640625\n",
      "Avg MAE RRT prediction validation set: 0.4907454252243042 (standardized) ; 8231.278645833334 (minutes)'\n",
      " \n",
      "------------------------------------\n",
      "EPOCH 24:\n",
      "____________________________________\n"
     ]
    },
    {
     "name": "stderr",
     "output_type": "stream",
     "text": [
      "Batch calculation at epoch 24.: 802it [01:24, 10.33it/s]"
     ]
    },
    {
     "name": "stdout",
     "output_type": "stream",
     "text": [
      "------------------------------------------------------------\n",
      "Epoch 24, batch 799:\n",
      "Average original gradient norm: 5.281209825575352 (over last 800 batches)\n",
      "Average clipped gradient norm: 1.9981958790123462 (over last 800 batches)\n",
      "Running average global loss: 0.9970462525635958 (over last 800 batches)\n",
      "Running average activity prediction loss: 0.30202784270048144 (Cross Entropy over last 800 batches)\n",
      "Running average time till next event prediction loss: 0.16054996214807032 (MAE over last 800 batches)\n",
      "Running average (complete) remaining runtime prediction loss: 0.5344684490188957 (MAE over last 800 batches)\n",
      "------------------------------------------------------------\n"
     ]
    },
    {
     "name": "stderr",
     "output_type": "stream",
     "text": [
      "Batch calculation at epoch 24.: 1602it [02:57, 10.00it/s]"
     ]
    },
    {
     "name": "stdout",
     "output_type": "stream",
     "text": [
      "------------------------------------------------------------\n",
      "Epoch 24, batch 1599:\n",
      "Average original gradient norm: 5.347748767882585 (over last 800 batches)\n",
      "Average clipped gradient norm: 1.9969225113093854 (over last 800 batches)\n",
      "Running average global loss: 0.9946412914246321 (over last 800 batches)\n",
      "Running average activity prediction loss: 0.3012231608107686 (Cross Entropy over last 800 batches)\n",
      "Running average time till next event prediction loss: 0.15939628791064023 (MAE over last 800 batches)\n",
      "Running average (complete) remaining runtime prediction loss: 0.5340218409150839 (MAE over last 800 batches)\n",
      "------------------------------------------------------------\n"
     ]
    },
    {
     "name": "stderr",
     "output_type": "stream",
     "text": [
      "Batch calculation at epoch 24.: 2401it [04:27,  7.49it/s]"
     ]
    },
    {
     "name": "stdout",
     "output_type": "stream",
     "text": [
      "------------------------------------------------------------\n",
      "Epoch 24, batch 2399:\n",
      "Average original gradient norm: 5.299076945483685 (over last 800 batches)\n",
      "Average clipped gradient norm: 1.9989730460941793 (over last 800 batches)\n",
      "Running average global loss: 0.9936340528726578 (over last 800 batches)\n",
      "Running average activity prediction loss: 0.30198189336806536 (Cross Entropy over last 800 batches)\n",
      "Running average time till next event prediction loss: 0.15951907346956432 (MAE over last 800 batches)\n",
      "Running average (complete) remaining runtime prediction loss: 0.5321330896392464 (MAE over last 800 batches)\n",
      "------------------------------------------------------------\n"
     ]
    },
    {
     "name": "stderr",
     "output_type": "stream",
     "text": [
      "Batch calculation at epoch 24.: 3201it [06:06, 10.05it/s]"
     ]
    },
    {
     "name": "stdout",
     "output_type": "stream",
     "text": [
      "------------------------------------------------------------\n",
      "Epoch 24, batch 3199:\n",
      "Average original gradient norm: 5.633467901796102 (over last 800 batches)\n",
      "Average clipped gradient norm: 1.9970110906660556 (over last 800 batches)\n",
      "Running average global loss: 0.9963118532299995 (over last 800 batches)\n",
      "Running average activity prediction loss: 0.3014327945560217 (Cross Entropy over last 800 batches)\n",
      "Running average time till next event prediction loss: 0.16002340719103814 (MAE over last 800 batches)\n",
      "Running average (complete) remaining runtime prediction loss: 0.5348556502163411 (MAE over last 800 batches)\n",
      "------------------------------------------------------------\n"
     ]
    },
    {
     "name": "stderr",
     "output_type": "stream",
     "text": [
      "Batch calculation at epoch 24.: 4001it [07:52,  8.18it/s]"
     ]
    },
    {
     "name": "stdout",
     "output_type": "stream",
     "text": [
      "------------------------------------------------------------\n",
      "Epoch 24, batch 3999:\n",
      "Average original gradient norm: 5.579864111095667 (over last 800 batches)\n",
      "Average clipped gradient norm: 1.9976954613626003 (over last 800 batches)\n",
      "Running average global loss: 0.9960017766058445 (over last 800 batches)\n",
      "Running average activity prediction loss: 0.3017692136019468 (Cross Entropy over last 800 batches)\n",
      "Running average time till next event prediction loss: 0.159612954845652 (MAE over last 800 batches)\n",
      "Running average (complete) remaining runtime prediction loss: 0.5346196088194847 (MAE over last 800 batches)\n",
      "------------------------------------------------------------\n"
     ]
    },
    {
     "name": "stderr",
     "output_type": "stream",
     "text": [
      "Batch calculation at epoch 24.: 4798it [09:35,  8.33it/s]\n"
     ]
    },
    {
     "name": "stdout",
     "output_type": "stream",
     "text": [
      "=======================================\n",
      "End of epoch 24\n",
      "=======================================\n",
      "Running average global loss: 0.9983152500540018 (over last 800 batches)\n",
      "Running average activity prediction loss: 0.3014387045428157 (Cross Entropy over last 800 batches)\n",
      "Running average time till next event prediction loss: 0.1607081012800336 (MAE over last 800 batches)\n",
      "Running average (complete) remaining runtime prediction loss: 0.5361684448644519 (MAE over last 800 batches)\n"
     ]
    },
    {
     "name": "stderr",
     "output_type": "stream",
     "text": [
      "Validation batch calculation: 36it [19:50, 33.06s/it]\n"
     ]
    },
    {
     "name": "stdout",
     "output_type": "stream",
     "text": [
      "Avg MAE TTNE prediction validation set: 0.20942339301109314 (standardized) ; 776.0130208333334 (minutes)'\n",
      "Avg 1-(normalized) DL distance acitivty suffix prediction validation set: 0.38027504086494446\n",
      "Percentage of suffixes predicted to END: too early - 0.06329822453702123 ; right moment - 0.09926483136173438 ; too late - 0.8374369441012444\n",
      "Too early instances - avg amount of events too early: 8.844818115234375\n",
      "Too late instances - avg amount of events too late: 33.852928161621094\n",
      "Avg absolute amount of events predicted too early / too late: 28.90955352783203\n",
      "Avg MAE RRT prediction validation set: 0.48963209986686707 (standardized) ; 8218.326041666667 (minutes)'\n",
      " \n",
      "------------------------------------\n",
      "EPOCH 25:\n",
      "____________________________________\n"
     ]
    },
    {
     "name": "stderr",
     "output_type": "stream",
     "text": [
      "Batch calculation at epoch 25.: 801it [01:45,  7.70it/s]"
     ]
    },
    {
     "name": "stdout",
     "output_type": "stream",
     "text": [
      "------------------------------------------------------------\n",
      "Epoch 25, batch 799:\n",
      "Average original gradient norm: 5.266921023130417 (over last 800 batches)\n",
      "Average clipped gradient norm: 1.998608756661415 (over last 800 batches)\n",
      "Running average global loss: 0.9969874127954245 (over last 800 batches)\n",
      "Running average activity prediction loss: 0.30168799657374623 (Cross Entropy over last 800 batches)\n",
      "Running average time till next event prediction loss: 0.16015013713389636 (MAE over last 800 batches)\n",
      "Running average (complete) remaining runtime prediction loss: 0.5351492794975639 (MAE over last 800 batches)\n",
      "------------------------------------------------------------\n"
     ]
    },
    {
     "name": "stderr",
     "output_type": "stream",
     "text": [
      "Batch calculation at epoch 25.: 1601it [03:22, 10.01it/s]"
     ]
    },
    {
     "name": "stdout",
     "output_type": "stream",
     "text": [
      "------------------------------------------------------------\n",
      "Epoch 25, batch 1599:\n",
      "Average original gradient norm: 5.47586252450943 (over last 800 batches)\n",
      "Average clipped gradient norm: 1.9977675119042397 (over last 800 batches)\n",
      "Running average global loss: 0.993647223636508 (over last 800 batches)\n",
      "Running average activity prediction loss: 0.3011956954374909 (Cross Entropy over last 800 batches)\n",
      "Running average time till next event prediction loss: 0.15937649968080222 (MAE over last 800 batches)\n",
      "Running average (complete) remaining runtime prediction loss: 0.5330750288441777 (MAE over last 800 batches)\n",
      "------------------------------------------------------------\n"
     ]
    },
    {
     "name": "stderr",
     "output_type": "stream",
     "text": [
      "Batch calculation at epoch 25.: 2402it [04:52, 10.88it/s]"
     ]
    },
    {
     "name": "stdout",
     "output_type": "stream",
     "text": [
      "------------------------------------------------------------\n",
      "Epoch 25, batch 2399:\n",
      "Average original gradient norm: 5.333465431034565 (over last 800 batches)\n",
      "Average clipped gradient norm: 1.9976157602667808 (over last 800 batches)\n",
      "Running average global loss: 0.9976237555593253 (over last 800 batches)\n",
      "Running average activity prediction loss: 0.30129440989345313 (Cross Entropy over last 800 batches)\n",
      "Running average time till next event prediction loss: 0.16001886058598758 (MAE over last 800 batches)\n",
      "Running average (complete) remaining runtime prediction loss: 0.5363104857876897 (MAE over last 800 batches)\n",
      "------------------------------------------------------------\n"
     ]
    },
    {
     "name": "stderr",
     "output_type": "stream",
     "text": [
      "Batch calculation at epoch 25.: 3201it [06:26, 10.18it/s]"
     ]
    },
    {
     "name": "stdout",
     "output_type": "stream",
     "text": [
      "------------------------------------------------------------\n",
      "Epoch 25, batch 3199:\n",
      "Average original gradient norm: 5.286843145787716 (over last 800 batches)\n",
      "Average clipped gradient norm: 1.9961325019598006 (over last 800 batches)\n",
      "Running average global loss: 0.9968482154607773 (over last 800 batches)\n",
      "Running average activity prediction loss: 0.3007401001825929 (Cross Entropy over last 800 batches)\n",
      "Running average time till next event prediction loss: 0.1599296411499381 (MAE over last 800 batches)\n",
      "Running average (complete) remaining runtime prediction loss: 0.5361784755438567 (MAE over last 800 batches)\n",
      "------------------------------------------------------------\n"
     ]
    },
    {
     "name": "stderr",
     "output_type": "stream",
     "text": [
      "Batch calculation at epoch 25.: 4002it [08:00,  9.78it/s]"
     ]
    },
    {
     "name": "stdout",
     "output_type": "stream",
     "text": [
      "------------------------------------------------------------\n",
      "Epoch 25, batch 3999:\n",
      "Average original gradient norm: 5.653487068712711 (over last 800 batches)\n",
      "Average clipped gradient norm: 1.9989807227253913 (over last 800 batches)\n",
      "Running average global loss: 0.9928328442573547 (over last 800 batches)\n",
      "Running average activity prediction loss: 0.30003420405089853 (Cross Entropy over last 800 batches)\n",
      "Running average time till next event prediction loss: 0.1599581775907427 (MAE over last 800 batches)\n",
      "Running average (complete) remaining runtime prediction loss: 0.53284046176821 (MAE over last 800 batches)\n",
      "------------------------------------------------------------\n"
     ]
    },
    {
     "name": "stderr",
     "output_type": "stream",
     "text": [
      "Batch calculation at epoch 25.: 4798it [09:32,  8.38it/s]\n"
     ]
    },
    {
     "name": "stdout",
     "output_type": "stream",
     "text": [
      "=======================================\n",
      "End of epoch 25\n",
      "=======================================\n",
      "Running average global loss: 0.9923474515229463 (over last 800 batches)\n",
      "Running average activity prediction loss: 0.3007475196570158 (Cross Entropy over last 800 batches)\n",
      "Running average time till next event prediction loss: 0.1598205621354282 (MAE over last 800 batches)\n",
      "Running average (complete) remaining runtime prediction loss: 0.5317793699353933 (MAE over last 800 batches)\n"
     ]
    },
    {
     "name": "stderr",
     "output_type": "stream",
     "text": [
      "Validation batch calculation: 36it [20:01, 33.39s/it]\n"
     ]
    },
    {
     "name": "stdout",
     "output_type": "stream",
     "text": [
      "Avg MAE TTNE prediction validation set: 0.2107636034488678 (standardized) ; 780.9959635416667 (minutes)'\n",
      "Avg 1-(normalized) DL distance acitivty suffix prediction validation set: 0.3485921025276184\n",
      "Percentage of suffixes predicted to END: too early - 0.047427592373905265 ; right moment - 0.09620674826105655 ; too late - 0.8563656593650382\n",
      "Too early instances - avg amount of events too early: 8.513240814208984\n",
      "Too late instances - avg amount of events too late: 40.739540100097656\n",
      "Avg absolute amount of events predicted too early / too late: 35.29170608520508\n",
      "Avg MAE RRT prediction validation set: 0.4886849820613861 (standardized) ; 8197.865104166667 (minutes)'\n",
      " \n",
      "------------------------------------\n",
      "EPOCH 26:\n",
      "____________________________________\n"
     ]
    },
    {
     "name": "stderr",
     "output_type": "stream",
     "text": [
      "Batch calculation at epoch 26.: 801it [01:25,  8.62it/s]"
     ]
    },
    {
     "name": "stdout",
     "output_type": "stream",
     "text": [
      "------------------------------------------------------------\n",
      "Epoch 26, batch 799:\n",
      "Average original gradient norm: 5.664550175964832 (over last 800 batches)\n",
      "Average clipped gradient norm: 1.9981807035207748 (over last 800 batches)\n",
      "Running average global loss: 0.9948061899095774 (over last 800 batches)\n",
      "Running average activity prediction loss: 0.30059108264744283 (Cross Entropy over last 800 batches)\n",
      "Running average time till next event prediction loss: 0.1599204023182392 (MAE over last 800 batches)\n",
      "Running average (complete) remaining runtime prediction loss: 0.5342947051674127 (MAE over last 800 batches)\n",
      "------------------------------------------------------------\n"
     ]
    },
    {
     "name": "stderr",
     "output_type": "stream",
     "text": [
      "Batch calculation at epoch 26.: 1601it [02:59,  9.05it/s]"
     ]
    },
    {
     "name": "stdout",
     "output_type": "stream",
     "text": [
      "------------------------------------------------------------\n",
      "Epoch 26, batch 1599:\n",
      "Average original gradient norm: 5.755257083773613 (over last 800 batches)\n",
      "Average clipped gradient norm: 1.9993024876713752 (over last 800 batches)\n",
      "Running average global loss: 0.9950669332593679 (over last 800 batches)\n",
      "Running average activity prediction loss: 0.3012467087432742 (Cross Entropy over last 800 batches)\n",
      "Running average time till next event prediction loss: 0.1596654880233109 (MAE over last 800 batches)\n",
      "Running average (complete) remaining runtime prediction loss: 0.5341547363996506 (MAE over last 800 batches)\n",
      "------------------------------------------------------------\n"
     ]
    },
    {
     "name": "stderr",
     "output_type": "stream",
     "text": [
      "Batch calculation at epoch 26.: 2402it [04:36,  9.78it/s]"
     ]
    },
    {
     "name": "stdout",
     "output_type": "stream",
     "text": [
      "------------------------------------------------------------\n",
      "Epoch 26, batch 2399:\n",
      "Average original gradient norm: 5.636236327290535 (over last 800 batches)\n",
      "Average clipped gradient norm: 1.9985695831477641 (over last 800 batches)\n",
      "Running average global loss: 0.9919562864303589 (over last 800 batches)\n",
      "Running average activity prediction loss: 0.30019945360720157 (Cross Entropy over last 800 batches)\n",
      "Running average time till next event prediction loss: 0.15964861813001335 (MAE over last 800 batches)\n",
      "Running average (complete) remaining runtime prediction loss: 0.5321082142367959 (MAE over last 800 batches)\n",
      "------------------------------------------------------------\n"
     ]
    },
    {
     "name": "stderr",
     "output_type": "stream",
     "text": [
      "Batch calculation at epoch 26.: 3202it [06:06, 10.36it/s]"
     ]
    },
    {
     "name": "stdout",
     "output_type": "stream",
     "text": [
      "------------------------------------------------------------\n",
      "Epoch 26, batch 3199:\n",
      "Average original gradient norm: 5.6944514518976215 (over last 800 batches)\n",
      "Average clipped gradient norm: 1.9993367025256157 (over last 800 batches)\n",
      "Running average global loss: 0.9965675415843726 (over last 800 batches)\n",
      "Running average activity prediction loss: 0.3001933195069432 (Cross Entropy over last 800 batches)\n",
      "Running average time till next event prediction loss: 0.1608317963965237 (MAE over last 800 batches)\n",
      "Running average (complete) remaining runtime prediction loss: 0.5355424259230495 (MAE over last 800 batches)\n",
      "------------------------------------------------------------\n"
     ]
    },
    {
     "name": "stderr",
     "output_type": "stream",
     "text": [
      "Batch calculation at epoch 26.: 4001it [07:50,  6.88it/s]"
     ]
    },
    {
     "name": "stdout",
     "output_type": "stream",
     "text": [
      "------------------------------------------------------------\n",
      "Epoch 26, batch 3999:\n",
      "Average original gradient norm: 5.666214498728514 (over last 800 batches)\n",
      "Average clipped gradient norm: 1.9987954092025757 (over last 800 batches)\n",
      "Running average global loss: 0.9938040333241225 (over last 800 batches)\n",
      "Running average activity prediction loss: 0.2998062605783343 (Cross Entropy over last 800 batches)\n",
      "Running average time till next event prediction loss: 0.1594072101265192 (MAE over last 800 batches)\n",
      "Running average (complete) remaining runtime prediction loss: 0.5345905604213477 (MAE over last 800 batches)\n",
      "------------------------------------------------------------\n"
     ]
    },
    {
     "name": "stderr",
     "output_type": "stream",
     "text": [
      "Batch calculation at epoch 26.: 4798it [09:20,  8.55it/s]\n"
     ]
    },
    {
     "name": "stdout",
     "output_type": "stream",
     "text": [
      "=======================================\n",
      "End of epoch 26\n",
      "=======================================\n",
      "Running average global loss: 0.9918263067305088 (over last 800 batches)\n",
      "Running average activity prediction loss: 0.30011555410921575 (Cross Entropy over last 800 batches)\n",
      "Running average time till next event prediction loss: 0.15924143277108668 (MAE over last 800 batches)\n",
      "Running average (complete) remaining runtime prediction loss: 0.5324693211913109 (MAE over last 800 batches)\n"
     ]
    },
    {
     "name": "stderr",
     "output_type": "stream",
     "text": [
      "Validation batch calculation: 36it [19:41, 32.82s/it]\n"
     ]
    },
    {
     "name": "stdout",
     "output_type": "stream",
     "text": [
      "Avg MAE TTNE prediction validation set: 0.21058687567710876 (standardized) ; 780.1474609375 (minutes)'\n",
      "Avg 1-(normalized) DL distance acitivty suffix prediction validation set: 0.2923552989959717\n",
      "Percentage of suffixes predicted to END: too early - 0.031413612565445025 ; right moment - 0.09832965862782173 ; too late - 0.8702567288067332\n",
      "Too early instances - avg amount of events too early: 9.599087715148926\n",
      "Too late instances - avg amount of events too late: 49.109779357910156\n",
      "Avg absolute amount of events predicted too early / too late: 43.0396614074707\n",
      "Avg MAE RRT prediction validation set: 0.49062272906303406 (standardized) ; 8230.978645833333 (minutes)'\n",
      " \n",
      "------------------------------------\n",
      "EPOCH 27:\n",
      "____________________________________\n"
     ]
    },
    {
     "name": "stderr",
     "output_type": "stream",
     "text": [
      "Batch calculation at epoch 27.: 801it [01:25,  8.54it/s]"
     ]
    },
    {
     "name": "stdout",
     "output_type": "stream",
     "text": [
      "------------------------------------------------------------\n",
      "Epoch 27, batch 799:\n",
      "Average original gradient norm: 5.541326380223036 (over last 800 batches)\n",
      "Average clipped gradient norm: 1.998237723261118 (over last 800 batches)\n",
      "Running average global loss: 0.9915767960995435 (over last 800 batches)\n",
      "Running average activity prediction loss: 0.2995851269736886 (Cross Entropy over last 800 batches)\n",
      "Running average time till next event prediction loss: 0.15930721260607242 (MAE over last 800 batches)\n",
      "Running average (complete) remaining runtime prediction loss: 0.5326844573765993 (MAE over last 800 batches)\n",
      "------------------------------------------------------------\n"
     ]
    },
    {
     "name": "stderr",
     "output_type": "stream",
     "text": [
      "Batch calculation at epoch 27.: 1601it [02:56,  6.31it/s]"
     ]
    },
    {
     "name": "stdout",
     "output_type": "stream",
     "text": [
      "------------------------------------------------------------\n",
      "Epoch 27, batch 1599:\n",
      "Average original gradient norm: 5.43287161692977 (over last 800 batches)\n",
      "Average clipped gradient norm: 1.998345929980278 (over last 800 batches)\n",
      "Running average global loss: 0.9906084554642439 (over last 800 batches)\n",
      "Running average activity prediction loss: 0.29980448592454195 (Cross Entropy over last 800 batches)\n",
      "Running average time till next event prediction loss: 0.1590186632797122 (MAE over last 800 batches)\n",
      "Running average (complete) remaining runtime prediction loss: 0.5317853056266904 (MAE over last 800 batches)\n",
      "------------------------------------------------------------\n"
     ]
    },
    {
     "name": "stderr",
     "output_type": "stream",
     "text": [
      "Batch calculation at epoch 27.: 2401it [04:35,  9.60it/s]"
     ]
    },
    {
     "name": "stdout",
     "output_type": "stream",
     "text": [
      "------------------------------------------------------------\n",
      "Epoch 27, batch 2399:\n",
      "Average original gradient norm: 5.59421306848526 (over last 800 batches)\n",
      "Average clipped gradient norm: 1.9985292553901672 (over last 800 batches)\n",
      "Running average global loss: 0.9964660055935383 (over last 800 batches)\n",
      "Running average activity prediction loss: 0.29999117746949194 (Cross Entropy over last 800 batches)\n",
      "Running average time till next event prediction loss: 0.1601428447663784 (MAE over last 800 batches)\n",
      "Running average (complete) remaining runtime prediction loss: 0.536331983320415 (MAE over last 800 batches)\n",
      "------------------------------------------------------------\n"
     ]
    },
    {
     "name": "stderr",
     "output_type": "stream",
     "text": [
      "Batch calculation at epoch 27.: 3201it [05:59,  9.58it/s]"
     ]
    },
    {
     "name": "stdout",
     "output_type": "stream",
     "text": [
      "------------------------------------------------------------\n",
      "Epoch 27, batch 3199:\n",
      "Average original gradient norm: 5.702830234616995 (over last 800 batches)\n",
      "Average clipped gradient norm: 1.998558893352747 (over last 800 batches)\n",
      "Running average global loss: 0.9919208975881338 (over last 800 batches)\n",
      "Running average activity prediction loss: 0.2994507193565369 (Cross Entropy over last 800 batches)\n",
      "Running average time till next event prediction loss: 0.15970557144843042 (MAE over last 800 batches)\n",
      "Running average (complete) remaining runtime prediction loss: 0.5327646061778069 (MAE over last 800 batches)\n",
      "------------------------------------------------------------\n"
     ]
    },
    {
     "name": "stderr",
     "output_type": "stream",
     "text": [
      "Batch calculation at epoch 27.: 4001it [07:29,  6.45it/s]"
     ]
    },
    {
     "name": "stdout",
     "output_type": "stream",
     "text": [
      "------------------------------------------------------------\n",
      "Epoch 27, batch 3999:\n",
      "Average original gradient norm: 5.7088840602338315 (over last 800 batches)\n",
      "Average clipped gradient norm: 1.999087055325508 (over last 800 batches)\n",
      "Running average global loss: 0.9925386570394039 (over last 800 batches)\n",
      "Running average activity prediction loss: 0.29984223648905756 (Cross Entropy over last 800 batches)\n",
      "Running average time till next event prediction loss: 0.1597312558349222 (MAE over last 800 batches)\n",
      "Running average (complete) remaining runtime prediction loss: 0.532965164296329 (MAE over last 800 batches)\n",
      "------------------------------------------------------------\n"
     ]
    },
    {
     "name": "stderr",
     "output_type": "stream",
     "text": [
      "Batch calculation at epoch 27.: 4798it [09:15,  8.63it/s]\n"
     ]
    },
    {
     "name": "stdout",
     "output_type": "stream",
     "text": [
      "=======================================\n",
      "End of epoch 27\n",
      "=======================================\n",
      "Running average global loss: 0.9956878845393657 (over last 800 batches)\n",
      "Running average activity prediction loss: 0.2997414978593588 (Cross Entropy over last 800 batches)\n",
      "Running average time till next event prediction loss: 0.1601733768824488 (MAE over last 800 batches)\n",
      "Running average (complete) remaining runtime prediction loss: 0.5357730098813772 (MAE over last 800 batches)\n"
     ]
    },
    {
     "name": "stderr",
     "output_type": "stream",
     "text": [
      "Validation batch calculation: 36it [19:16, 32.12s/it]\n"
     ]
    },
    {
     "name": "stdout",
     "output_type": "stream",
     "text": [
      "Avg MAE TTNE prediction validation set: 0.21020400524139404 (standardized) ; 778.9506510416667 (minutes)'\n",
      "Avg 1-(normalized) DL distance acitivty suffix prediction validation set: 0.38688331842422485\n",
      "Percentage of suffixes predicted to END: too early - 0.07116869287425681 ; right moment - 0.10260960975310075 ; too late - 0.8262216973726424\n",
      "Too early instances - avg amount of events too early: 9.200268745422363\n",
      "Too late instances - avg amount of events too late: 32.53937911987305\n",
      "Avg absolute amount of events predicted too early / too late: 27.539512634277344\n",
      "Avg MAE RRT prediction validation set: 0.49530771374702454 (standardized) ; 8309.0625 (minutes)'\n",
      " \n",
      "------------------------------------\n",
      "EPOCH 28:\n",
      "____________________________________\n"
     ]
    },
    {
     "name": "stderr",
     "output_type": "stream",
     "text": [
      "Batch calculation at epoch 28.: 801it [01:32,  6.18it/s]"
     ]
    },
    {
     "name": "stdout",
     "output_type": "stream",
     "text": [
      "------------------------------------------------------------\n",
      "Epoch 28, batch 799:\n",
      "Average original gradient norm: 5.923462059795856 (over last 800 batches)\n",
      "Average clipped gradient norm: 1.9987728334963322 (over last 800 batches)\n",
      "Running average global loss: 0.9943783077597618 (over last 800 batches)\n",
      "Running average activity prediction loss: 0.29954889297485354 (Cross Entropy over last 800 batches)\n",
      "Running average time till next event prediction loss: 0.160224543036893 (MAE over last 800 batches)\n",
      "Running average (complete) remaining runtime prediction loss: 0.5346048720180988 (MAE over last 800 batches)\n",
      "------------------------------------------------------------\n"
     ]
    },
    {
     "name": "stderr",
     "output_type": "stream",
     "text": [
      "Batch calculation at epoch 28.: 1601it [03:11,  8.72it/s]"
     ]
    },
    {
     "name": "stdout",
     "output_type": "stream",
     "text": [
      "------------------------------------------------------------\n",
      "Epoch 28, batch 1599:\n",
      "Average original gradient norm: 6.002164815664291 (over last 800 batches)\n",
      "Average clipped gradient norm: 1.999338236451149 (over last 800 batches)\n",
      "Running average global loss: 0.9935334233194589 (over last 800 batches)\n",
      "Running average activity prediction loss: 0.2999880925565958 (Cross Entropy over last 800 batches)\n",
      "Running average time till next event prediction loss: 0.15979390507563948 (MAE over last 800 batches)\n",
      "Running average (complete) remaining runtime prediction loss: 0.5337514243647457 (MAE over last 800 batches)\n",
      "------------------------------------------------------------\n"
     ]
    },
    {
     "name": "stderr",
     "output_type": "stream",
     "text": [
      "Batch calculation at epoch 28.: 2401it [04:39,  8.97it/s]"
     ]
    },
    {
     "name": "stdout",
     "output_type": "stream",
     "text": [
      "------------------------------------------------------------\n",
      "Epoch 28, batch 2399:\n",
      "Average original gradient norm: 5.66509102344513 (over last 800 batches)\n",
      "Average clipped gradient norm: 1.9991009084880351 (over last 800 batches)\n",
      "Running average global loss: 0.9943697466701269 (over last 800 batches)\n",
      "Running average activity prediction loss: 0.29925539929419753 (Cross Entropy over last 800 batches)\n",
      "Running average time till next event prediction loss: 0.15957936414517462 (MAE over last 800 batches)\n",
      "Running average (complete) remaining runtime prediction loss: 0.5355349831655621 (MAE over last 800 batches)\n",
      "------------------------------------------------------------\n"
     ]
    },
    {
     "name": "stderr",
     "output_type": "stream",
     "text": [
      "Batch calculation at epoch 28.: 3201it [06:17,  8.63it/s]"
     ]
    },
    {
     "name": "stdout",
     "output_type": "stream",
     "text": [
      "------------------------------------------------------------\n",
      "Epoch 28, batch 3199:\n",
      "Average original gradient norm: 5.816620902717114 (over last 800 batches)\n",
      "Average clipped gradient norm: 1.9978331170976162 (over last 800 batches)\n",
      "Running average global loss: 0.9930651831626892 (over last 800 batches)\n",
      "Running average activity prediction loss: 0.2983734345436096 (Cross Entropy over last 800 batches)\n",
      "Running average time till next event prediction loss: 0.15989364955574273 (MAE over last 800 batches)\n",
      "Running average (complete) remaining runtime prediction loss: 0.534798098988831 (MAE over last 800 batches)\n",
      "------------------------------------------------------------\n"
     ]
    },
    {
     "name": "stderr",
     "output_type": "stream",
     "text": [
      "Batch calculation at epoch 28.: 4001it [07:58,  8.89it/s]"
     ]
    },
    {
     "name": "stdout",
     "output_type": "stream",
     "text": [
      "------------------------------------------------------------\n",
      "Epoch 28, batch 3999:\n",
      "Average original gradient norm: 5.888163161575794 (over last 800 batches)\n",
      "Average clipped gradient norm: 1.9990119197964669 (over last 800 batches)\n",
      "Running average global loss: 0.9898955589532852 (over last 800 batches)\n",
      "Running average activity prediction loss: 0.29926670629531144 (Cross Entropy over last 800 batches)\n",
      "Running average time till next event prediction loss: 0.15884826727211476 (MAE over last 800 batches)\n",
      "Running average (complete) remaining runtime prediction loss: 0.5317805853113532 (MAE over last 800 batches)\n",
      "------------------------------------------------------------\n"
     ]
    },
    {
     "name": "stderr",
     "output_type": "stream",
     "text": [
      "Batch calculation at epoch 28.: 4798it [09:27,  8.45it/s]\n"
     ]
    },
    {
     "name": "stdout",
     "output_type": "stream",
     "text": [
      "=======================================\n",
      "End of epoch 28\n",
      "=======================================\n",
      "Running average global loss: 0.9897067992389202 (over last 800 batches)\n",
      "Running average activity prediction loss: 0.2990572598576546 (Cross Entropy over last 800 batches)\n",
      "Running average time till next event prediction loss: 0.15941589583642782 (MAE over last 800 batches)\n",
      "Running average (complete) remaining runtime prediction loss: 0.5312336428463459 (MAE over last 800 batches)\n"
     ]
    },
    {
     "name": "stderr",
     "output_type": "stream",
     "text": [
      "Validation batch calculation: 36it [20:09, 33.60s/it]\n"
     ]
    },
    {
     "name": "stdout",
     "output_type": "stream",
     "text": [
      "Avg MAE TTNE prediction validation set: 0.21031570434570312 (standardized) ; 779.2636067708333 (minutes)'\n",
      "Avg 1-(normalized) DL distance acitivty suffix prediction validation set: 0.36864525079727173\n",
      "Percentage of suffixes predicted to END: too early - 0.06227431278456214 ; right moment - 0.10272565308504611 ; too late - 0.8350000341303917\n",
      "Too early instances - avg amount of events too early: 8.940370559692383\n",
      "Too late instances - avg amount of events too late: 36.735198974609375\n",
      "Avg absolute amount of events predicted too early / too late: 31.23064613342285\n",
      "Avg MAE RRT prediction validation set: 0.49074479937553406 (standardized) ; 8236.2796875 (minutes)'\n",
      " \n",
      "------------------------------------\n",
      "EPOCH 29:\n",
      "____________________________________\n"
     ]
    },
    {
     "name": "stderr",
     "output_type": "stream",
     "text": [
      "Batch calculation at epoch 29.: 802it [01:23,  9.16it/s]"
     ]
    },
    {
     "name": "stdout",
     "output_type": "stream",
     "text": [
      "------------------------------------------------------------\n",
      "Epoch 29, batch 799:\n",
      "Average original gradient norm: 5.8038229654729365 (over last 800 batches)\n",
      "Average clipped gradient norm: 1.9987692733108997 (over last 800 batches)\n",
      "Running average global loss: 0.9923532248288393 (over last 800 batches)\n",
      "Running average activity prediction loss: 0.2984438367560506 (Cross Entropy over last 800 batches)\n",
      "Running average time till next event prediction loss: 0.16005726461298764 (MAE over last 800 batches)\n",
      "Running average (complete) remaining runtime prediction loss: 0.533852121680975 (MAE over last 800 batches)\n",
      "------------------------------------------------------------\n"
     ]
    },
    {
     "name": "stderr",
     "output_type": "stream",
     "text": [
      "Batch calculation at epoch 29.: 1601it [02:52,  7.33it/s]"
     ]
    },
    {
     "name": "stdout",
     "output_type": "stream",
     "text": [
      "------------------------------------------------------------\n",
      "Epoch 29, batch 1599:\n",
      "Average original gradient norm: 5.922387129068374 (over last 800 batches)\n",
      "Average clipped gradient norm: 1.9995493765175343 (over last 800 batches)\n",
      "Running average global loss: 0.9886784778535366 (over last 800 batches)\n",
      "Running average activity prediction loss: 0.2988658007234335 (Cross Entropy over last 800 batches)\n",
      "Running average time till next event prediction loss: 0.1590122076589614 (MAE over last 800 batches)\n",
      "Running average (complete) remaining runtime prediction loss: 0.5308004689589143 (MAE over last 800 batches)\n",
      "------------------------------------------------------------\n"
     ]
    },
    {
     "name": "stderr",
     "output_type": "stream",
     "text": [
      "Batch calculation at epoch 29.: 2402it [04:35,  9.95it/s]"
     ]
    },
    {
     "name": "stdout",
     "output_type": "stream",
     "text": [
      "------------------------------------------------------------\n",
      "Epoch 29, batch 2399:\n",
      "Average original gradient norm: 6.054421999305487 (over last 800 batches)\n",
      "Average clipped gradient norm: 1.9995231120288373 (over last 800 batches)\n",
      "Running average global loss: 0.9909920134395361 (over last 800 batches)\n",
      "Running average activity prediction loss: 0.29906416837126015 (Cross Entropy over last 800 batches)\n",
      "Running average time till next event prediction loss: 0.1592881481256336 (MAE over last 800 batches)\n",
      "Running average (complete) remaining runtime prediction loss: 0.5326396968960762 (MAE over last 800 batches)\n",
      "------------------------------------------------------------\n"
     ]
    },
    {
     "name": "stderr",
     "output_type": "stream",
     "text": [
      "Batch calculation at epoch 29.: 3202it [06:12, 10.15it/s]"
     ]
    },
    {
     "name": "stdout",
     "output_type": "stream",
     "text": [
      "------------------------------------------------------------\n",
      "Epoch 29, batch 3199:\n",
      "Average original gradient norm: 6.031608860641718 (over last 800 batches)\n",
      "Average clipped gradient norm: 1.9986127778887748 (over last 800 batches)\n",
      "Running average global loss: 0.989829471707344 (over last 800 batches)\n",
      "Running average activity prediction loss: 0.2991977746784687 (Cross Entropy over last 800 batches)\n",
      "Running average time till next event prediction loss: 0.159136217283085 (MAE over last 800 batches)\n",
      "Running average (complete) remaining runtime prediction loss: 0.5314954799413681 (MAE over last 800 batches)\n",
      "------------------------------------------------------------\n"
     ]
    },
    {
     "name": "stderr",
     "output_type": "stream",
     "text": [
      "Batch calculation at epoch 29.: 4001it [07:59,  7.06it/s]"
     ]
    },
    {
     "name": "stdout",
     "output_type": "stream",
     "text": [
      "------------------------------------------------------------\n",
      "Epoch 29, batch 3999:\n",
      "Average original gradient norm: 5.820947850197554 (over last 800 batches)\n",
      "Average clipped gradient norm: 1.999028653949499 (over last 800 batches)\n",
      "Running average global loss: 0.9924490819871425 (over last 800 batches)\n",
      "Running average activity prediction loss: 0.2982179741933942 (Cross Entropy over last 800 batches)\n",
      "Running average time till next event prediction loss: 0.1596394398249686 (MAE over last 800 batches)\n",
      "Running average (complete) remaining runtime prediction loss: 0.5345916686207056 (MAE over last 800 batches)\n",
      "------------------------------------------------------------\n"
     ]
    },
    {
     "name": "stderr",
     "output_type": "stream",
     "text": [
      "Batch calculation at epoch 29.: 4798it [09:21,  8.54it/s]\n"
     ]
    },
    {
     "name": "stdout",
     "output_type": "stream",
     "text": [
      "=======================================\n",
      "End of epoch 29\n",
      "=======================================\n",
      "Running average global loss: 0.9947406636178493 (over last 800 batches)\n",
      "Running average activity prediction loss: 0.2985996643826365 (Cross Entropy over last 800 batches)\n",
      "Running average time till next event prediction loss: 0.16038684766739608 (MAE over last 800 batches)\n",
      "Running average (complete) remaining runtime prediction loss: 0.5357541516423225 (MAE over last 800 batches)\n"
     ]
    },
    {
     "name": "stderr",
     "output_type": "stream",
     "text": [
      "Validation batch calculation: 36it [16:41, 27.83s/it]\n"
     ]
    },
    {
     "name": "stdout",
     "output_type": "stream",
     "text": [
      "Avg MAE TTNE prediction validation set: 0.21118971705436707 (standardized) ; 782.6836588541667 (minutes)'\n",
      "Avg 1-(normalized) DL distance acitivty suffix prediction validation set: 0.360569030046463\n",
      "Percentage of suffixes predicted to END: too early - 0.04972115469941364 ; right moment - 0.10245943602940674 ; too late - 0.8478194092711796\n",
      "Too early instances - avg amount of events too early: 8.700302124023438\n",
      "Too late instances - avg amount of events too late: 37.68598175048828\n",
      "Avg absolute amount of events predicted too early / too late: 32.38349533081055\n",
      "Avg MAE RRT prediction validation set: 0.49084222316741943 (standardized) ; 8231.892708333333 (minutes)'\n",
      " \n",
      "------------------------------------\n",
      "EPOCH 30:\n",
      "____________________________________\n"
     ]
    },
    {
     "name": "stderr",
     "output_type": "stream",
     "text": [
      "Batch calculation at epoch 30.: 802it [01:17, 10.62it/s]"
     ]
    },
    {
     "name": "stdout",
     "output_type": "stream",
     "text": [
      "------------------------------------------------------------\n",
      "Epoch 30, batch 799:\n",
      "Average original gradient norm: 5.567092386484146 (over last 800 batches)\n",
      "Average clipped gradient norm: 1.9995448835194112 (over last 800 batches)\n",
      "Running average global loss: 0.9918984607607126 (over last 800 batches)\n",
      "Running average activity prediction loss: 0.2981260669231415 (Cross Entropy over last 800 batches)\n",
      "Running average time till next event prediction loss: 0.1595618669781834 (MAE over last 800 batches)\n",
      "Running average (complete) remaining runtime prediction loss: 0.5342105275392532 (MAE over last 800 batches)\n",
      "------------------------------------------------------------\n"
     ]
    },
    {
     "name": "stderr",
     "output_type": "stream",
     "text": [
      "Batch calculation at epoch 30.: 1602it [02:44,  9.73it/s]"
     ]
    },
    {
     "name": "stdout",
     "output_type": "stream",
     "text": [
      "------------------------------------------------------------\n",
      "Epoch 30, batch 1599:\n",
      "Average original gradient norm: 5.759412227123976 (over last 800 batches)\n",
      "Average clipped gradient norm: 1.9991669787466526 (over last 800 batches)\n",
      "Running average global loss: 0.9921432144939899 (over last 800 batches)\n",
      "Running average activity prediction loss: 0.29811642091721297 (Cross Entropy over last 800 batches)\n",
      "Running average time till next event prediction loss: 0.15968545559793712 (MAE over last 800 batches)\n",
      "Running average (complete) remaining runtime prediction loss: 0.5343413370847702 (MAE over last 800 batches)\n",
      "------------------------------------------------------------\n"
     ]
    },
    {
     "name": "stderr",
     "output_type": "stream",
     "text": [
      "Batch calculation at epoch 30.: 2401it [04:26,  7.67it/s]"
     ]
    },
    {
     "name": "stdout",
     "output_type": "stream",
     "text": [
      "------------------------------------------------------------\n",
      "Epoch 30, batch 2399:\n",
      "Average original gradient norm: 6.05953288897872 (over last 800 batches)\n",
      "Average clipped gradient norm: 1.9983640630543231 (over last 800 batches)\n",
      "Running average global loss: 0.9886496339738369 (over last 800 batches)\n",
      "Running average activity prediction loss: 0.29821578465402127 (Cross Entropy over last 800 batches)\n",
      "Running average time till next event prediction loss: 0.15870591725222766 (MAE over last 800 batches)\n",
      "Running average (complete) remaining runtime prediction loss: 0.531727935038507 (MAE over last 800 batches)\n",
      "------------------------------------------------------------\n"
     ]
    },
    {
     "name": "stderr",
     "output_type": "stream",
     "text": [
      "Batch calculation at epoch 30.: 3200it [06:05,  9.61it/s]"
     ]
    },
    {
     "name": "stdout",
     "output_type": "stream",
     "text": [
      "------------------------------------------------------------\n",
      "Epoch 30, batch 3199:\n",
      "Average original gradient norm: 6.01893555700779 (over last 800 batches)\n",
      "Average clipped gradient norm: 1.9987893894314765 (over last 800 batches)\n",
      "Running average global loss: 0.9905182545632124 (over last 800 batches)\n",
      "Running average activity prediction loss: 0.2978969380259514 (Cross Entropy over last 800 batches)\n",
      "Running average time till next event prediction loss: 0.15937975528649986 (MAE over last 800 batches)\n",
      "Running average (complete) remaining runtime prediction loss: 0.5332415606454015 (MAE over last 800 batches)\n",
      "------------------------------------------------------------\n"
     ]
    },
    {
     "name": "stderr",
     "output_type": "stream",
     "text": [
      "Batch calculation at epoch 30.: 4001it [07:41,  7.35it/s]"
     ]
    },
    {
     "name": "stdout",
     "output_type": "stream",
     "text": [
      "------------------------------------------------------------\n",
      "Epoch 30, batch 3999:\n",
      "Average original gradient norm: 6.064407509416342 (over last 800 batches)\n",
      "Average clipped gradient norm: 1.999560063034296 (over last 800 batches)\n",
      "Running average global loss: 0.992568973377347 (over last 800 batches)\n",
      "Running average activity prediction loss: 0.29850276466459036 (Cross Entropy over last 800 batches)\n",
      "Running average time till next event prediction loss: 0.15954948484897613 (MAE over last 800 batches)\n",
      "Running average (complete) remaining runtime prediction loss: 0.5345167259126902 (MAE over last 800 batches)\n",
      "------------------------------------------------------------\n"
     ]
    },
    {
     "name": "stderr",
     "output_type": "stream",
     "text": [
      "Batch calculation at epoch 30.: 4798it [09:12,  8.69it/s]\n"
     ]
    },
    {
     "name": "stdout",
     "output_type": "stream",
     "text": [
      "=======================================\n",
      "End of epoch 30\n",
      "=======================================\n",
      "Running average global loss: 0.9896283292770386 (over last 800 batches)\n",
      "Running average activity prediction loss: 0.29835221406072376 (Cross Entropy over last 800 batches)\n",
      "Running average time till next event prediction loss: 0.16008731045760213 (MAE over last 800 batches)\n",
      "Running average (complete) remaining runtime prediction loss: 0.5311888033151626 (MAE over last 800 batches)\n"
     ]
    },
    {
     "name": "stderr",
     "output_type": "stream",
     "text": [
      "Validation batch calculation: 36it [17:07, 28.55s/it]\n"
     ]
    },
    {
     "name": "stdout",
     "output_type": "stream",
     "text": [
      "Avg MAE TTNE prediction validation set: 0.20963479578495026 (standardized) ; 776.9184895833333 (minutes)'\n",
      "Avg 1-(normalized) DL distance acitivty suffix prediction validation set: 0.38374337553977966\n",
      "Percentage of suffixes predicted to END: too early - 0.062014921807272506 ; right moment - 0.10194065407482747 ; too late - 0.8360444241179\n",
      "Too early instances - avg amount of events too early: 8.566978454589844\n",
      "Too late instances - avg amount of events too late: 33.30274963378906\n",
      "Avg absolute amount of events predicted too early / too late: 28.373857498168945\n",
      "Avg MAE RRT prediction validation set: 0.4906643331050873 (standardized) ; 8235.766145833333 (minutes)'\n",
      " \n",
      "------------------------------------\n",
      "EPOCH 31:\n",
      "____________________________________\n"
     ]
    },
    {
     "name": "stderr",
     "output_type": "stream",
     "text": [
      "Batch calculation at epoch 31.: 801it [01:16,  7.04it/s]"
     ]
    },
    {
     "name": "stdout",
     "output_type": "stream",
     "text": [
      "------------------------------------------------------------\n",
      "Epoch 31, batch 799:\n",
      "Average original gradient norm: 6.157996741831303 (over last 800 batches)\n",
      "Average clipped gradient norm: 1.9976284700632094 (over last 800 batches)\n",
      "Running average global loss: 0.990501262396574 (over last 800 batches)\n",
      "Running average activity prediction loss: 0.2985763346776366 (Cross Entropy over last 800 batches)\n",
      "Running average time till next event prediction loss: 0.159497282281518 (MAE over last 800 batches)\n",
      "Running average (complete) remaining runtime prediction loss: 0.5324276441335678 (MAE over last 800 batches)\n",
      "------------------------------------------------------------\n"
     ]
    },
    {
     "name": "stderr",
     "output_type": "stream",
     "text": [
      "Batch calculation at epoch 31.: 1601it [02:49,  9.64it/s]"
     ]
    },
    {
     "name": "stdout",
     "output_type": "stream",
     "text": [
      "------------------------------------------------------------\n",
      "Epoch 31, batch 1599:\n",
      "Average original gradient norm: 6.112658823877573 (over last 800 batches)\n",
      "Average clipped gradient norm: 1.9997890593111516 (over last 800 batches)\n",
      "Running average global loss: 0.991227426379919 (over last 800 batches)\n",
      "Running average activity prediction loss: 0.29780208840966227 (Cross Entropy over last 800 batches)\n",
      "Running average time till next event prediction loss: 0.16019077993929387 (MAE over last 800 batches)\n",
      "Running average (complete) remaining runtime prediction loss: 0.5332345565780997 (MAE over last 800 batches)\n",
      "------------------------------------------------------------\n"
     ]
    },
    {
     "name": "stderr",
     "output_type": "stream",
     "text": [
      "Batch calculation at epoch 31.: 2402it [04:17, 11.00it/s]"
     ]
    },
    {
     "name": "stdout",
     "output_type": "stream",
     "text": [
      "------------------------------------------------------------\n",
      "Epoch 31, batch 2399:\n",
      "Average original gradient norm: 6.002923801094294 (over last 800 batches)\n",
      "Average clipped gradient norm: 1.999794203490019 (over last 800 batches)\n",
      "Running average global loss: 0.9883246416598559 (over last 800 batches)\n",
      "Running average activity prediction loss: 0.2970235964655876 (Cross Entropy over last 800 batches)\n",
      "Running average time till next event prediction loss: 0.15854284463450313 (MAE over last 800 batches)\n",
      "Running average (complete) remaining runtime prediction loss: 0.5327582011371851 (MAE over last 800 batches)\n",
      "------------------------------------------------------------\n"
     ]
    },
    {
     "name": "stderr",
     "output_type": "stream",
     "text": [
      "Batch calculation at epoch 31.: 3202it [05:34, 12.59it/s]"
     ]
    },
    {
     "name": "stdout",
     "output_type": "stream",
     "text": [
      "------------------------------------------------------------\n",
      "Epoch 31, batch 3199:\n",
      "Average original gradient norm: 5.911324979662895 (over last 800 batches)\n",
      "Average clipped gradient norm: 1.9983915300667285 (over last 800 batches)\n",
      "Running average global loss: 0.989722323641181 (over last 800 batches)\n",
      "Running average activity prediction loss: 0.2974803943373263 (Cross Entropy over last 800 batches)\n",
      "Running average time till next event prediction loss: 0.15933234685100614 (MAE over last 800 batches)\n",
      "Running average (complete) remaining runtime prediction loss: 0.5329095826297998 (MAE over last 800 batches)\n",
      "------------------------------------------------------------\n"
     ]
    },
    {
     "name": "stderr",
     "output_type": "stream",
     "text": [
      "Batch calculation at epoch 31.: 4001it [06:58,  6.20it/s]"
     ]
    },
    {
     "name": "stdout",
     "output_type": "stream",
     "text": [
      "------------------------------------------------------------\n",
      "Epoch 31, batch 3999:\n",
      "Average original gradient norm: 5.755144415944815 (over last 800 batches)\n",
      "Average clipped gradient norm: 1.9983926384150983 (over last 800 batches)\n",
      "Running average global loss: 0.9933034031093121 (over last 800 batches)\n",
      "Running average activity prediction loss: 0.29808013163506986 (Cross Entropy over last 800 batches)\n",
      "Running average time till next event prediction loss: 0.160146270301193 (MAE over last 800 batches)\n",
      "Running average (complete) remaining runtime prediction loss: 0.5350770012661815 (MAE over last 800 batches)\n",
      "------------------------------------------------------------\n"
     ]
    },
    {
     "name": "stderr",
     "output_type": "stream",
     "text": [
      "Batch calculation at epoch 31.: 4798it [08:35,  9.30it/s]\n"
     ]
    },
    {
     "name": "stdout",
     "output_type": "stream",
     "text": [
      "=======================================\n",
      "End of epoch 31\n",
      "=======================================\n",
      "Running average global loss: 0.9886516183614731 (over last 800 batches)\n",
      "Running average activity prediction loss: 0.29784667387604713 (Cross Entropy over last 800 batches)\n",
      "Running average time till next event prediction loss: 0.1591082617919892 (MAE over last 800 batches)\n",
      "Running average (complete) remaining runtime prediction loss: 0.5316966837272048 (MAE over last 800 batches)\n"
     ]
    },
    {
     "name": "stderr",
     "output_type": "stream",
     "text": [
      "Validation batch calculation: 36it [17:05, 28.50s/it]\n"
     ]
    },
    {
     "name": "stdout",
     "output_type": "stream",
     "text": [
      "Avg MAE TTNE prediction validation set: 0.20910578966140747 (standardized) ; 774.5930989583334 (minutes)'\n",
      "Avg 1-(normalized) DL distance acitivty suffix prediction validation set: 0.3167443871498108\n",
      "Percentage of suffixes predicted to END: too early - 0.04577568141327126 ; right moment - 0.09595418336211663 ; too late - 0.8582701352246122\n",
      "Too early instances - avg amount of events too early: 10.044587135314941\n",
      "Too late instances - avg amount of events too late: 43.03858947753906\n",
      "Avg absolute amount of events predicted too early / too late: 37.39853286743164\n",
      "Avg MAE RRT prediction validation set: 0.4881669878959656 (standardized) ; 8195.244270833333 (minutes)'\n",
      " \n",
      "------------------------------------\n",
      "EPOCH 32:\n",
      "____________________________________\n"
     ]
    },
    {
     "name": "stderr",
     "output_type": "stream",
     "text": [
      "Batch calculation at epoch 32.: 800it [00:54, 13.25it/s]"
     ]
    },
    {
     "name": "stdout",
     "output_type": "stream",
     "text": [
      "------------------------------------------------------------\n",
      "Epoch 32, batch 799:\n",
      "Average original gradient norm: 6.052682459801435 (over last 800 batches)\n",
      "Average clipped gradient norm: 1.9995923778414726 (over last 800 batches)\n",
      "Running average global loss: 0.9898296724259853 (over last 800 batches)\n",
      "Running average activity prediction loss: 0.2973759940639138 (Cross Entropy over last 800 batches)\n",
      "Running average time till next event prediction loss: 0.15929046478122472 (MAE over last 800 batches)\n",
      "Running average (complete) remaining runtime prediction loss: 0.533163213133812 (MAE over last 800 batches)\n",
      "------------------------------------------------------------\n"
     ]
    },
    {
     "name": "stderr",
     "output_type": "stream",
     "text": [
      "Batch calculation at epoch 32.: 1602it [01:52, 16.94it/s]"
     ]
    },
    {
     "name": "stdout",
     "output_type": "stream",
     "text": [
      "------------------------------------------------------------\n",
      "Epoch 32, batch 1599:\n",
      "Average original gradient norm: 5.954775573760271 (over last 800 batches)\n",
      "Average clipped gradient norm: 1.9989480186998845 (over last 800 batches)\n",
      "Running average global loss: 0.990076038017869 (over last 800 batches)\n",
      "Running average activity prediction loss: 0.2978297194838524 (Cross Entropy over last 800 batches)\n",
      "Running average time till next event prediction loss: 0.15954073840752245 (MAE over last 800 batches)\n",
      "Running average (complete) remaining runtime prediction loss: 0.5327055805921554 (MAE over last 800 batches)\n",
      "------------------------------------------------------------\n"
     ]
    },
    {
     "name": "stderr",
     "output_type": "stream",
     "text": [
      "Batch calculation at epoch 32.: 2402it [02:36, 14.11it/s]"
     ]
    },
    {
     "name": "stdout",
     "output_type": "stream",
     "text": [
      "------------------------------------------------------------\n",
      "Epoch 32, batch 2399:\n",
      "Average original gradient norm: 6.203859748244286 (over last 800 batches)\n",
      "Average clipped gradient norm: 1.9993413923680783 (over last 800 batches)\n",
      "Running average global loss: 0.9864515617489815 (over last 800 batches)\n",
      "Running average activity prediction loss: 0.29711498878896236 (Cross Entropy over last 800 batches)\n",
      "Running average time till next event prediction loss: 0.15856598174199463 (MAE over last 800 batches)\n",
      "Running average (complete) remaining runtime prediction loss: 0.5307705903425812 (MAE over last 800 batches)\n",
      "------------------------------------------------------------\n"
     ]
    },
    {
     "name": "stderr",
     "output_type": "stream",
     "text": [
      "Batch calculation at epoch 32.: 3202it [03:30, 14.71it/s]"
     ]
    },
    {
     "name": "stdout",
     "output_type": "stream",
     "text": [
      "------------------------------------------------------------\n",
      "Epoch 32, batch 3199:\n",
      "Average original gradient norm: 6.097697078883648 (over last 800 batches)\n",
      "Average clipped gradient norm: 1.9989161708950995 (over last 800 batches)\n",
      "Running average global loss: 0.991751164495945 (over last 800 batches)\n",
      "Running average activity prediction loss: 0.2973785629868507 (Cross Entropy over last 800 batches)\n",
      "Running average time till next event prediction loss: 0.1592649007588625 (MAE over last 800 batches)\n",
      "Running average (complete) remaining runtime prediction loss: 0.5351077001169324 (MAE over last 800 batches)\n",
      "------------------------------------------------------------\n"
     ]
    },
    {
     "name": "stderr",
     "output_type": "stream",
     "text": [
      "Batch calculation at epoch 32.: 4003it [04:33, 13.56it/s]"
     ]
    },
    {
     "name": "stdout",
     "output_type": "stream",
     "text": [
      "------------------------------------------------------------\n",
      "Epoch 32, batch 3999:\n",
      "Average original gradient norm: 6.057916709035635 (over last 800 batches)\n",
      "Average clipped gradient norm: 1.999091055393219 (over last 800 batches)\n",
      "Running average global loss: 0.9897684988379478 (over last 800 batches)\n",
      "Running average activity prediction loss: 0.29706512179225686 (Cross Entropy over last 800 batches)\n",
      "Running average time till next event prediction loss: 0.16011208994314075 (MAE over last 800 batches)\n",
      "Running average (complete) remaining runtime prediction loss: 0.5325912879034876 (MAE over last 800 batches)\n",
      "------------------------------------------------------------\n"
     ]
    },
    {
     "name": "stderr",
     "output_type": "stream",
     "text": [
      "Batch calculation at epoch 32.: 4798it [05:16, 15.14it/s]\n"
     ]
    },
    {
     "name": "stdout",
     "output_type": "stream",
     "text": [
      "=======================================\n",
      "End of epoch 32\n",
      "=======================================\n",
      "Running average global loss: 0.9887971086055041 (over last 800 batches)\n",
      "Running average activity prediction loss: 0.29706688251346347 (Cross Entropy over last 800 batches)\n",
      "Running average time till next event prediction loss: 0.1595064663980156 (MAE over last 800 batches)\n",
      "Running average (complete) remaining runtime prediction loss: 0.5322237602248788 (MAE over last 800 batches)\n"
     ]
    },
    {
     "name": "stderr",
     "output_type": "stream",
     "text": [
      "Validation batch calculation: 36it [21:02, 35.07s/it]\n"
     ]
    },
    {
     "name": "stdout",
     "output_type": "stream",
     "text": [
      "Avg MAE TTNE prediction validation set: 0.2097529023885727 (standardized) ; 777.1910807291666 (minutes)'\n",
      "Avg 1-(normalized) DL distance acitivty suffix prediction validation set: 0.3465200364589691\n",
      "Percentage of suffixes predicted to END: too early - 0.05385775817934838 ; right moment - 0.10114200290790938 ; too late - 0.8450002389127422\n",
      "Too early instances - avg amount of events too early: 9.763751983642578\n",
      "Too late instances - avg amount of events too late: 40.94768524169922\n",
      "Avg absolute amount of events predicted too early / too late: 35.12665939331055\n",
      "Avg MAE RRT prediction validation set: 0.4936016798019409 (standardized) ; 8278.5890625 (minutes)'\n",
      " \n",
      "------------------------------------\n",
      "EPOCH 33:\n",
      "____________________________________\n"
     ]
    },
    {
     "name": "stderr",
     "output_type": "stream",
     "text": [
      "Batch calculation at epoch 33.: 803it [01:01, 13.64it/s]"
     ]
    },
    {
     "name": "stdout",
     "output_type": "stream",
     "text": [
      "------------------------------------------------------------\n",
      "Epoch 33, batch 799:\n",
      "Average original gradient norm: 6.057902774065733 (over last 800 batches)\n",
      "Average clipped gradient norm: 1.9988416159152984 (over last 800 batches)\n",
      "Running average global loss: 0.9880025856941939 (over last 800 batches)\n",
      "Running average activity prediction loss: 0.29656482350081204 (Cross Entropy over last 800 batches)\n",
      "Running average time till next event prediction loss: 0.15916469980031253 (MAE over last 800 batches)\n",
      "Running average (complete) remaining runtime prediction loss: 0.532273060977459 (MAE over last 800 batches)\n",
      "------------------------------------------------------------\n"
     ]
    },
    {
     "name": "stderr",
     "output_type": "stream",
     "text": [
      "Batch calculation at epoch 33.: 1603it [01:45, 18.13it/s]"
     ]
    },
    {
     "name": "stdout",
     "output_type": "stream",
     "text": [
      "------------------------------------------------------------\n",
      "Epoch 33, batch 1599:\n",
      "Average original gradient norm: 6.060467763394118 (over last 800 batches)\n",
      "Average clipped gradient norm: 1.9992087176442146 (over last 800 batches)\n",
      "Running average global loss: 0.9885551095753908 (over last 800 batches)\n",
      "Running average activity prediction loss: 0.2971781662851572 (Cross Entropy over last 800 batches)\n",
      "Running average time till next event prediction loss: 0.15913098210468887 (MAE over last 800 batches)\n",
      "Running average (complete) remaining runtime prediction loss: 0.5322459585219622 (MAE over last 800 batches)\n",
      "------------------------------------------------------------\n"
     ]
    },
    {
     "name": "stderr",
     "output_type": "stream",
     "text": [
      "Batch calculation at epoch 33.: 2402it [02:33, 14.31it/s]"
     ]
    },
    {
     "name": "stdout",
     "output_type": "stream",
     "text": [
      "------------------------------------------------------------\n",
      "Epoch 33, batch 2399:\n",
      "Average original gradient norm: 6.266001975238323 (over last 800 batches)\n",
      "Average clipped gradient norm: 1.9987963038682937 (over last 800 batches)\n",
      "Running average global loss: 0.9873573905974626 (over last 800 batches)\n",
      "Running average activity prediction loss: 0.2967077873274684 (Cross Entropy over last 800 batches)\n",
      "Running average time till next event prediction loss: 0.15862264338880777 (MAE over last 800 batches)\n",
      "Running average (complete) remaining runtime prediction loss: 0.5320269596576691 (MAE over last 800 batches)\n",
      "------------------------------------------------------------\n"
     ]
    },
    {
     "name": "stderr",
     "output_type": "stream",
     "text": [
      "Batch calculation at epoch 33.: 3202it [03:29, 15.33it/s]"
     ]
    },
    {
     "name": "stdout",
     "output_type": "stream",
     "text": [
      "------------------------------------------------------------\n",
      "Epoch 33, batch 3199:\n",
      "Average original gradient norm: 6.302356245666743 (over last 800 batches)\n",
      "Average clipped gradient norm: 1.9995527796447277 (over last 800 batches)\n",
      "Running average global loss: 0.9899239561706782 (over last 800 batches)\n",
      "Running average activity prediction loss: 0.29621487818658354 (Cross Entropy over last 800 batches)\n",
      "Running average time till next event prediction loss: 0.16019724242389202 (MAE over last 800 batches)\n",
      "Running average (complete) remaining runtime prediction loss: 0.533511836566031 (MAE over last 800 batches)\n",
      "------------------------------------------------------------\n"
     ]
    },
    {
     "name": "stderr",
     "output_type": "stream",
     "text": [
      "Batch calculation at epoch 33.: 4003it [04:27, 18.96it/s]"
     ]
    },
    {
     "name": "stdout",
     "output_type": "stream",
     "text": [
      "------------------------------------------------------------\n",
      "Epoch 33, batch 3999:\n",
      "Average original gradient norm: 6.287457703053951 (over last 800 batches)\n",
      "Average clipped gradient norm: 1.9996090307831764 (over last 800 batches)\n",
      "Running average global loss: 0.9900804405659437 (over last 800 batches)\n",
      "Running average activity prediction loss: 0.29712654795497656 (Cross Entropy over last 800 batches)\n",
      "Running average time till next event prediction loss: 0.15955443656072021 (MAE over last 800 batches)\n",
      "Running average (complete) remaining runtime prediction loss: 0.5333994554355741 (MAE over last 800 batches)\n",
      "------------------------------------------------------------\n"
     ]
    },
    {
     "name": "stderr",
     "output_type": "stream",
     "text": [
      "Batch calculation at epoch 33.: 4798it [05:10, 15.48it/s]\n"
     ]
    },
    {
     "name": "stdout",
     "output_type": "stream",
     "text": [
      "=======================================\n",
      "End of epoch 33\n",
      "=======================================\n",
      "Running average global loss: 0.989333824813366 (over last 800 batches)\n",
      "Running average activity prediction loss: 0.2973300506919622 (Cross Entropy over last 800 batches)\n",
      "Running average time till next event prediction loss: 0.1590906523820013 (MAE over last 800 batches)\n",
      "Running average (complete) remaining runtime prediction loss: 0.5329131236672402 (MAE over last 800 batches)\n"
     ]
    },
    {
     "name": "stderr",
     "output_type": "stream",
     "text": [
      "Validation batch calculation: 36it [21:20, 35.56s/it]\n"
     ]
    },
    {
     "name": "stdout",
     "output_type": "stream",
     "text": [
      "Avg MAE TTNE prediction validation set: 0.21133922040462494 (standardized) ; 783.1791666666667 (minutes)'\n",
      "Avg 1-(normalized) DL distance acitivty suffix prediction validation set: 0.347262442111969\n",
      "Percentage of suffixes predicted to END: too early - 0.04621937650600354 ; right moment - 0.10030922134924265 ; too late - 0.8534714021447538\n",
      "Too early instances - avg amount of events too early: 9.082557678222656\n",
      "Too late instances - avg amount of events too late: 39.235862731933594\n",
      "Avg absolute amount of events predicted too early / too late: 33.90647506713867\n",
      "Avg MAE RRT prediction validation set: 0.4927155077457428 (standardized) ; 8267.473958333334 (minutes)'\n",
      " \n",
      "------------------------------------\n",
      "EPOCH 34:\n",
      "____________________________________\n"
     ]
    },
    {
     "name": "stderr",
     "output_type": "stream",
     "text": [
      "Batch calculation at epoch 34.: 803it [00:56, 17.01it/s]"
     ]
    },
    {
     "name": "stdout",
     "output_type": "stream",
     "text": [
      "------------------------------------------------------------\n",
      "Epoch 34, batch 799:\n",
      "Average original gradient norm: 6.232654176205397 (over last 800 batches)\n",
      "Average clipped gradient norm: 1.9999189138412476 (over last 800 batches)\n",
      "Running average global loss: 0.9893407767266035 (over last 800 batches)\n",
      "Running average activity prediction loss: 0.2965738759562373 (Cross Entropy over last 800 batches)\n",
      "Running average time till next event prediction loss: 0.15928759380243718 (MAE over last 800 batches)\n",
      "Running average (complete) remaining runtime prediction loss: 0.5334793069213629 (MAE over last 800 batches)\n",
      "------------------------------------------------------------\n"
     ]
    },
    {
     "name": "stderr",
     "output_type": "stream",
     "text": [
      "Batch calculation at epoch 34.: 1602it [01:39, 15.92it/s]"
     ]
    },
    {
     "name": "stdout",
     "output_type": "stream",
     "text": [
      "------------------------------------------------------------\n",
      "Epoch 34, batch 1599:\n",
      "Average original gradient norm: 6.197061116844416 (over last 800 batches)\n",
      "Average clipped gradient norm: 1.9999257418513299 (over last 800 batches)\n",
      "Running average global loss: 0.9872306292504072 (over last 800 batches)\n",
      "Running average activity prediction loss: 0.2966411685571074 (Cross Entropy over last 800 batches)\n",
      "Running average time till next event prediction loss: 0.15964189590886235 (MAE over last 800 batches)\n",
      "Running average (complete) remaining runtime prediction loss: 0.5309475649148225 (MAE over last 800 batches)\n",
      "------------------------------------------------------------\n"
     ]
    },
    {
     "name": "stderr",
     "output_type": "stream",
     "text": [
      "Batch calculation at epoch 34.: 2401it [02:35, 13.96it/s]"
     ]
    },
    {
     "name": "stdout",
     "output_type": "stream",
     "text": [
      "------------------------------------------------------------\n",
      "Epoch 34, batch 2399:\n",
      "Average original gradient norm: 6.204404521882534 (over last 800 batches)\n",
      "Average clipped gradient norm: 1.9999996078014375 (over last 800 batches)\n",
      "Running average global loss: 0.9871265984326602 (over last 800 batches)\n",
      "Running average activity prediction loss: 0.29629303712397814 (Cross Entropy over last 800 batches)\n",
      "Running average time till next event prediction loss: 0.15924669201485814 (MAE over last 800 batches)\n",
      "Running average (complete) remaining runtime prediction loss: 0.5315868700295687 (MAE over last 800 batches)\n",
      "------------------------------------------------------------\n"
     ]
    },
    {
     "name": "stderr",
     "output_type": "stream",
     "text": [
      "Batch calculation at epoch 34.: 3201it [03:39, 11.30it/s]"
     ]
    },
    {
     "name": "stdout",
     "output_type": "stream",
     "text": [
      "------------------------------------------------------------\n",
      "Epoch 34, batch 3199:\n",
      "Average original gradient norm: 5.9570867820084095 (over last 800 batches)\n",
      "Average clipped gradient norm: 1.9986603076756 (over last 800 batches)\n",
      "Running average global loss: 0.9883710301667452 (over last 800 batches)\n",
      "Running average activity prediction loss: 0.2964405917748809 (Cross Entropy over last 800 batches)\n",
      "Running average time till next event prediction loss: 0.1589150361251086 (MAE over last 800 batches)\n",
      "Running average (complete) remaining runtime prediction loss: 0.5330154019221663 (MAE over last 800 batches)\n",
      "------------------------------------------------------------\n"
     ]
    },
    {
     "name": "stderr",
     "output_type": "stream",
     "text": [
      "Batch calculation at epoch 34.: 4002it [04:23, 17.23it/s]"
     ]
    },
    {
     "name": "stdout",
     "output_type": "stream",
     "text": [
      "------------------------------------------------------------\n",
      "Epoch 34, batch 3999:\n",
      "Average original gradient norm: 6.285555454343557 (over last 800 batches)\n",
      "Average clipped gradient norm: 1.99992374509573 (over last 800 batches)\n",
      "Running average global loss: 0.9888807988166809 (over last 800 batches)\n",
      "Running average activity prediction loss: 0.296889610029757 (Cross Entropy over last 800 batches)\n",
      "Running average time till next event prediction loss: 0.15905393057502806 (MAE over last 800 batches)\n",
      "Running average (complete) remaining runtime prediction loss: 0.5329372585937381 (MAE over last 800 batches)\n",
      "------------------------------------------------------------\n"
     ]
    },
    {
     "name": "stderr",
     "output_type": "stream",
     "text": [
      "Batch calculation at epoch 34.: 4798it [05:16, 15.14it/s]\n"
     ]
    },
    {
     "name": "stdout",
     "output_type": "stream",
     "text": [
      "=======================================\n",
      "End of epoch 34\n",
      "=======================================\n",
      "Running average global loss: 0.9888410244882107 (over last 800 batches)\n",
      "Running average activity prediction loss: 0.29633287005126474 (Cross Entropy over last 800 batches)\n",
      "Running average time till next event prediction loss: 0.15937007104977965 (MAE over last 800 batches)\n",
      "Running average (complete) remaining runtime prediction loss: 0.5331380840018392 (MAE over last 800 batches)\n"
     ]
    },
    {
     "name": "stderr",
     "output_type": "stream",
     "text": [
      "Validation batch calculation: 36it [21:00, 35.01s/it]\n"
     ]
    },
    {
     "name": "stdout",
     "output_type": "stream",
     "text": [
      "Avg MAE TTNE prediction validation set: 0.20851774513721466 (standardized) ; 772.4236979166667 (minutes)'\n",
      "Avg 1-(normalized) DL distance acitivty suffix prediction validation set: 0.2507990300655365\n",
      "Percentage of suffixes predicted to END: too early - 0.016000327651760786 ; right moment - 0.095544618661133 ; too late - 0.8884550536871062\n",
      "Too early instances - avg amount of events too early: 10.485494613647461\n",
      "Too late instances - avg amount of events too late: 52.27386474609375\n",
      "Avg absolute amount of events predicted too early / too late: 46.610748291015625\n",
      "Avg MAE RRT prediction validation set: 0.4938001036643982 (standardized) ; 8281.2015625 (minutes)'\n",
      " \n",
      "------------------------------------\n",
      "EPOCH 35:\n",
      "____________________________________\n"
     ]
    },
    {
     "name": "stderr",
     "output_type": "stream",
     "text": [
      "Batch calculation at epoch 35.: 803it [00:57, 18.88it/s]"
     ]
    },
    {
     "name": "stdout",
     "output_type": "stream",
     "text": [
      "------------------------------------------------------------\n",
      "Epoch 35, batch 799:\n",
      "Average original gradient norm: 6.513145422786474 (over last 800 batches)\n",
      "Average clipped gradient norm: 1.9988761478662491 (over last 800 batches)\n",
      "Running average global loss: 0.9875932815670967 (over last 800 batches)\n",
      "Running average activity prediction loss: 0.2960280781984329 (Cross Entropy over last 800 batches)\n",
      "Running average time till next event prediction loss: 0.15962325177155434 (MAE over last 800 batches)\n",
      "Running average (complete) remaining runtime prediction loss: 0.5319419518858194 (MAE over last 800 batches)\n",
      "------------------------------------------------------------\n"
     ]
    },
    {
     "name": "stderr",
     "output_type": "stream",
     "text": [
      "Batch calculation at epoch 35.: 1603it [01:40, 19.22it/s]"
     ]
    },
    {
     "name": "stdout",
     "output_type": "stream",
     "text": [
      "------------------------------------------------------------\n",
      "Epoch 35, batch 1599:\n",
      "Average original gradient norm: 6.054222856014967 (over last 800 batches)\n",
      "Average clipped gradient norm: 1.9985117810964583 (over last 800 batches)\n",
      "Running average global loss: 0.9854491677135229 (over last 800 batches)\n",
      "Running average activity prediction loss: 0.29651268061250446 (Cross Entropy over last 800 batches)\n",
      "Running average time till next event prediction loss: 0.1580333181284368 (MAE over last 800 batches)\n",
      "Running average (complete) remaining runtime prediction loss: 0.5309031697362662 (MAE over last 800 batches)\n",
      "------------------------------------------------------------\n"
     ]
    },
    {
     "name": "stderr",
     "output_type": "stream",
     "text": [
      "Batch calculation at epoch 35.: 2401it [02:35, 14.60it/s]"
     ]
    },
    {
     "name": "stdout",
     "output_type": "stream",
     "text": [
      "------------------------------------------------------------\n",
      "Epoch 35, batch 2399:\n",
      "Average original gradient norm: 6.433216883689165 (over last 800 batches)\n",
      "Average clipped gradient norm: 1.9996491031348704 (over last 800 batches)\n",
      "Running average global loss: 0.9911318465322256 (over last 800 batches)\n",
      "Running average activity prediction loss: 0.2960556997358799 (Cross Entropy over last 800 batches)\n",
      "Running average time till next event prediction loss: 0.16026369472034274 (MAE over last 800 batches)\n",
      "Running average (complete) remaining runtime prediction loss: 0.5348124527186155 (MAE over last 800 batches)\n",
      "------------------------------------------------------------\n"
     ]
    },
    {
     "name": "stderr",
     "output_type": "stream",
     "text": [
      "Batch calculation at epoch 35.: 3201it [03:38, 13.98it/s]"
     ]
    },
    {
     "name": "stdout",
     "output_type": "stream",
     "text": [
      "------------------------------------------------------------\n",
      "Epoch 35, batch 3199:\n",
      "Average original gradient norm: 6.424722390174866 (over last 800 batches)\n",
      "Average clipped gradient norm: 1.999035312384367 (over last 800 batches)\n",
      "Running average global loss: 0.9867691489309073 (over last 800 batches)\n",
      "Running average activity prediction loss: 0.2961278908327222 (Cross Entropy over last 800 batches)\n",
      "Running average time till next event prediction loss: 0.1586606147978455 (MAE over last 800 batches)\n",
      "Running average (complete) remaining runtime prediction loss: 0.5319806435704231 (MAE over last 800 batches)\n",
      "------------------------------------------------------------\n"
     ]
    },
    {
     "name": "stderr",
     "output_type": "stream",
     "text": [
      "Batch calculation at epoch 35.: 4004it [04:23, 16.21it/s]"
     ]
    },
    {
     "name": "stdout",
     "output_type": "stream",
     "text": [
      "------------------------------------------------------------\n",
      "Epoch 35, batch 3999:\n",
      "Average original gradient norm: 6.254757715463638 (over last 800 batches)\n",
      "Average clipped gradient norm: 1.9986679860949517 (over last 800 batches)\n",
      "Running average global loss: 0.9874580627679825 (over last 800 batches)\n",
      "Running average activity prediction loss: 0.2955647604167461 (Cross Entropy over last 800 batches)\n",
      "Running average time till next event prediction loss: 0.15964835784398018 (MAE over last 800 batches)\n",
      "Running average (complete) remaining runtime prediction loss: 0.5322449443861842 (MAE over last 800 batches)\n",
      "------------------------------------------------------------\n"
     ]
    },
    {
     "name": "stderr",
     "output_type": "stream",
     "text": [
      "Batch calculation at epoch 35.: 4798it [05:16, 15.18it/s]\n"
     ]
    },
    {
     "name": "stdout",
     "output_type": "stream",
     "text": [
      "=======================================\n",
      "End of epoch 35\n",
      "=======================================\n",
      "Running average global loss: 0.98751130156219 (over last 800 batches)\n",
      "Running average activity prediction loss: 0.296162370108068 (Cross Entropy over last 800 batches)\n",
      "Running average time till next event prediction loss: 0.15876446971669794 (MAE over last 800 batches)\n",
      "Running average (complete) remaining runtime prediction loss: 0.5325844612717628 (MAE over last 800 batches)\n"
     ]
    },
    {
     "name": "stderr",
     "output_type": "stream",
     "text": [
      "Validation batch calculation: 36it [21:09, 35.27s/it]\n"
     ]
    },
    {
     "name": "stdout",
     "output_type": "stream",
     "text": [
      "Avg MAE TTNE prediction validation set: 0.20948868989944458 (standardized) ; 776.2639322916667 (minutes)'\n",
      "Avg 1-(normalized) DL distance acitivty suffix prediction validation set: 0.37019142508506775\n",
      "Percentage of suffixes predicted to END: too early - 0.05461545287616811 ; right moment - 0.10118978545635747 ; too late - 0.8441947616674744\n",
      "Too early instances - avg amount of events too early: 8.724909782409668\n",
      "Too late instances - avg amount of events too late: 34.4540901184082\n",
      "Avg absolute amount of events predicted too early / too late: 29.562475204467773\n",
      "Avg MAE RRT prediction validation set: 0.48883023858070374 (standardized) ; 8206.202604166667 (minutes)'\n",
      " \n",
      "------------------------------------\n",
      "EPOCH 36:\n",
      "____________________________________\n"
     ]
    },
    {
     "name": "stderr",
     "output_type": "stream",
     "text": [
      "Batch calculation at epoch 36.: 802it [00:44, 14.80it/s]"
     ]
    },
    {
     "name": "stdout",
     "output_type": "stream",
     "text": [
      "------------------------------------------------------------\n",
      "Epoch 36, batch 799:\n",
      "Average original gradient norm: 6.763058409392833 (over last 800 batches)\n",
      "Average clipped gradient norm: 1.9986280873417854 (over last 800 batches)\n",
      "Running average global loss: 0.9879313721507788 (over last 800 batches)\n",
      "Running average activity prediction loss: 0.29564478501677516 (Cross Entropy over last 800 batches)\n",
      "Running average time till next event prediction loss: 0.1598231373168528 (MAE over last 800 batches)\n",
      "Running average (complete) remaining runtime prediction loss: 0.5324634520336986 (MAE over last 800 batches)\n",
      "------------------------------------------------------------\n"
     ]
    },
    {
     "name": "stderr",
     "output_type": "stream",
     "text": [
      "Batch calculation at epoch 36.: 1601it [01:40, 14.14it/s]"
     ]
    },
    {
     "name": "stdout",
     "output_type": "stream",
     "text": [
      "------------------------------------------------------------\n",
      "Epoch 36, batch 1599:\n",
      "Average original gradient norm: 6.196895994544029 (over last 800 batches)\n",
      "Average clipped gradient norm: 1.9999351608753204 (over last 800 batches)\n",
      "Running average global loss: 0.9913073834776879 (over last 800 batches)\n",
      "Running average activity prediction loss: 0.29602443605661394 (Cross Entropy over last 800 batches)\n",
      "Running average time till next event prediction loss: 0.1596790872979909 (MAE over last 800 batches)\n",
      "Running average (complete) remaining runtime prediction loss: 0.5356038578227162 (MAE over last 800 batches)\n",
      "------------------------------------------------------------\n"
     ]
    },
    {
     "name": "stderr",
     "output_type": "stream",
     "text": [
      "Batch calculation at epoch 36.: 2403it [02:42, 17.87it/s]"
     ]
    },
    {
     "name": "stdout",
     "output_type": "stream",
     "text": [
      "------------------------------------------------------------\n",
      "Epoch 36, batch 2399:\n",
      "Average original gradient norm: 6.428811678886413 (over last 800 batches)\n",
      "Average clipped gradient norm: 1.9999996154010296 (over last 800 batches)\n",
      "Running average global loss: 0.9878061141073704 (over last 800 batches)\n",
      "Running average activity prediction loss: 0.2951698550581932 (Cross Entropy over last 800 batches)\n",
      "Running average time till next event prediction loss: 0.15916049906052648 (MAE over last 800 batches)\n",
      "Running average (complete) remaining runtime prediction loss: 0.5334757605940104 (MAE over last 800 batches)\n",
      "------------------------------------------------------------\n"
     ]
    },
    {
     "name": "stderr",
     "output_type": "stream",
     "text": [
      "Batch calculation at epoch 36.: 3203it [03:26, 19.75it/s]"
     ]
    },
    {
     "name": "stdout",
     "output_type": "stream",
     "text": [
      "------------------------------------------------------------\n",
      "Epoch 36, batch 3199:\n",
      "Average original gradient norm: 6.385727484226226 (over last 800 batches)\n",
      "Average clipped gradient norm: 1.9995497903227806 (over last 800 batches)\n",
      "Running average global loss: 0.9840134128183127 (over last 800 batches)\n",
      "Running average activity prediction loss: 0.29590550359338524 (Cross Entropy over last 800 batches)\n",
      "Running average time till next event prediction loss: 0.15807228650897742 (MAE over last 800 batches)\n",
      "Running average (complete) remaining runtime prediction loss: 0.5300356245040894 (MAE over last 800 batches)\n",
      "------------------------------------------------------------\n"
     ]
    },
    {
     "name": "stderr",
     "output_type": "stream",
     "text": [
      "Batch calculation at epoch 36.: 4001it [04:14, 14.11it/s]"
     ]
    },
    {
     "name": "stdout",
     "output_type": "stream",
     "text": [
      "------------------------------------------------------------\n",
      "Epoch 36, batch 3999:\n",
      "Average original gradient norm: 6.519716559201479 (over last 800 batches)\n",
      "Average clipped gradient norm: 1.999214718490839 (over last 800 batches)\n",
      "Running average global loss: 0.9835870522260666 (over last 800 batches)\n",
      "Running average activity prediction loss: 0.2955386035889387 (Cross Entropy over last 800 batches)\n",
      "Running average time till next event prediction loss: 0.1583736928459257 (MAE over last 800 batches)\n",
      "Running average (complete) remaining runtime prediction loss: 0.5296747552976012 (MAE over last 800 batches)\n",
      "------------------------------------------------------------\n"
     ]
    },
    {
     "name": "stderr",
     "output_type": "stream",
     "text": [
      "Batch calculation at epoch 36.: 4798it [05:10, 15.46it/s]\n"
     ]
    },
    {
     "name": "stdout",
     "output_type": "stream",
     "text": [
      "=======================================\n",
      "End of epoch 36\n",
      "=======================================\n",
      "Running average global loss: 0.9874045674502849 (over last 800 batches)\n",
      "Running average activity prediction loss: 0.2956445183232427 (Cross Entropy over last 800 batches)\n",
      "Running average time till next event prediction loss: 0.15982911789789797 (MAE over last 800 batches)\n",
      "Running average (complete) remaining runtime prediction loss: 0.5319309303537011 (MAE over last 800 batches)\n"
     ]
    },
    {
     "name": "stderr",
     "output_type": "stream",
     "text": [
      "Validation batch calculation: 36it [21:11, 35.31s/it]\n"
     ]
    },
    {
     "name": "stdout",
     "output_type": "stream",
     "text": [
      "Avg MAE TTNE prediction validation set: 0.2106575071811676 (standardized) ; 780.2859375 (minutes)'\n",
      "Avg 1-(normalized) DL distance acitivty suffix prediction validation set: 0.37280407547950745\n",
      "Percentage of suffixes predicted to END: too early - 0.07198782227622409 ; right moment - 0.10386560816945056 ; too late - 0.8241465695543253\n",
      "Too early instances - avg amount of events too early: 9.672102928161621\n",
      "Too late instances - avg amount of events too late: 35.427242279052734\n",
      "Avg absolute amount of events predicted too early / too late: 29.893512725830078\n",
      "Avg MAE RRT prediction validation set: 0.49008649587631226 (standardized) ; 8222.802083333334 (minutes)'\n",
      " \n",
      "------------------------------------\n",
      "EPOCH 37:\n",
      "____________________________________\n"
     ]
    },
    {
     "name": "stderr",
     "output_type": "stream",
     "text": [
      "Batch calculation at epoch 37.: 801it [00:44, 14.91it/s]"
     ]
    },
    {
     "name": "stdout",
     "output_type": "stream",
     "text": [
      "------------------------------------------------------------\n",
      "Epoch 37, batch 799:\n",
      "Average original gradient norm: 6.4754764315485955 (over last 800 batches)\n",
      "Average clipped gradient norm: 1.999999619424343 (over last 800 batches)\n",
      "Running average global loss: 0.9859724613279104 (over last 800 batches)\n",
      "Running average activity prediction loss: 0.29578829314559696 (Cross Entropy over last 800 batches)\n",
      "Running average time till next event prediction loss: 0.15899714411236346 (MAE over last 800 batches)\n",
      "Running average (complete) remaining runtime prediction loss: 0.5311870260164142 (MAE over last 800 batches)\n",
      "------------------------------------------------------------\n"
     ]
    },
    {
     "name": "stderr",
     "output_type": "stream",
     "text": [
      "Batch calculation at epoch 37.: 1602it [01:38, 14.44it/s]"
     ]
    },
    {
     "name": "stdout",
     "output_type": "stream",
     "text": [
      "------------------------------------------------------------\n",
      "Epoch 37, batch 1599:\n",
      "Average original gradient norm: 6.629110487103462 (over last 800 batches)\n",
      "Average clipped gradient norm: 1.999100188612938 (over last 800 batches)\n",
      "Running average global loss: 0.9873107656091452 (over last 800 batches)\n",
      "Running average activity prediction loss: 0.29513136148452757 (Cross Entropy over last 800 batches)\n",
      "Running average time till next event prediction loss: 0.1588426054921001 (MAE over last 800 batches)\n",
      "Running average (complete) remaining runtime prediction loss: 0.533336798734963 (MAE over last 800 batches)\n",
      "------------------------------------------------------------\n"
     ]
    },
    {
     "name": "stderr",
     "output_type": "stream",
     "text": [
      "Batch calculation at epoch 37.: 2403it [02:42, 18.69it/s]"
     ]
    },
    {
     "name": "stdout",
     "output_type": "stream",
     "text": [
      "------------------------------------------------------------\n",
      "Epoch 37, batch 2399:\n",
      "Average original gradient norm: 6.484056133329869 (over last 800 batches)\n",
      "Average clipped gradient norm: 1.9999996209144593 (over last 800 batches)\n",
      "Running average global loss: 0.9822213692218065 (over last 800 batches)\n",
      "Running average activity prediction loss: 0.29524067014455796 (Cross Entropy over last 800 batches)\n",
      "Running average time till next event prediction loss: 0.15835482904687523 (MAE over last 800 batches)\n",
      "Running average (complete) remaining runtime prediction loss: 0.528625868037343 (MAE over last 800 batches)\n",
      "------------------------------------------------------------\n"
     ]
    },
    {
     "name": "stderr",
     "output_type": "stream",
     "text": [
      "Batch calculation at epoch 37.: 3202it [03:24, 19.18it/s]"
     ]
    },
    {
     "name": "stdout",
     "output_type": "stream",
     "text": [
      "------------------------------------------------------------\n",
      "Epoch 37, batch 3199:\n",
      "Average original gradient norm: 6.411410113275051 (over last 800 batches)\n",
      "Average clipped gradient norm: 1.9999996080994606 (over last 800 batches)\n",
      "Running average global loss: 0.9904952618479729 (over last 800 batches)\n",
      "Running average activity prediction loss: 0.29567741755396126 (Cross Entropy over last 800 batches)\n",
      "Running average time till next event prediction loss: 0.1603230906650424 (MAE over last 800 batches)\n",
      "Running average (complete) remaining runtime prediction loss: 0.5344947515428067 (MAE over last 800 batches)\n",
      "------------------------------------------------------------\n"
     ]
    },
    {
     "name": "stderr",
     "output_type": "stream",
     "text": [
      "Batch calculation at epoch 37.: 4001it [04:11, 14.59it/s]"
     ]
    },
    {
     "name": "stdout",
     "output_type": "stream",
     "text": [
      "------------------------------------------------------------\n",
      "Epoch 37, batch 3999:\n",
      "Average original gradient norm: 6.56444904729724 (over last 800 batches)\n",
      "Average clipped gradient norm: 1.9997914165258408 (over last 800 batches)\n",
      "Running average global loss: 0.9887575682997704 (over last 800 batches)\n",
      "Running average activity prediction loss: 0.295358679369092 (Cross Entropy over last 800 batches)\n",
      "Running average time till next event prediction loss: 0.1592214214708656 (MAE over last 800 batches)\n",
      "Running average (complete) remaining runtime prediction loss: 0.534177469573915 (MAE over last 800 batches)\n",
      "------------------------------------------------------------\n"
     ]
    },
    {
     "name": "stderr",
     "output_type": "stream",
     "text": [
      "Batch calculation at epoch 37.: 4798it [05:06, 15.67it/s]\n"
     ]
    },
    {
     "name": "stdout",
     "output_type": "stream",
     "text": [
      "=======================================\n",
      "End of epoch 37\n",
      "=======================================\n",
      "Running average global loss: 0.9844002790749073 (over last 800 batches)\n",
      "Running average activity prediction loss: 0.29493384167551995 (Cross Entropy over last 800 batches)\n",
      "Running average time till next event prediction loss: 0.1589524469152093 (MAE over last 800 batches)\n",
      "Running average (complete) remaining runtime prediction loss: 0.5305139910802246 (MAE over last 800 batches)\n"
     ]
    },
    {
     "name": "stderr",
     "output_type": "stream",
     "text": [
      "Validation batch calculation: 36it [21:27, 35.76s/it]\n"
     ]
    },
    {
     "name": "stdout",
     "output_type": "stream",
     "text": [
      "Avg MAE TTNE prediction validation set: 0.21150201559066772 (standardized) ; 783.7192708333333 (minutes)'\n",
      "Avg 1-(normalized) DL distance acitivty suffix prediction validation set: 0.38658416271209717\n",
      "Percentage of suffixes predicted to END: too early - 0.076745598885984 ; right moment - 0.10354478248701339 ; too late - 0.8197096186270026\n",
      "Too early instances - avg amount of events too early: 9.502801895141602\n",
      "Too late instances - avg amount of events too late: 32.961692810058594\n",
      "Avg absolute amount of events predicted too early / too late: 27.748315811157227\n",
      "Avg MAE RRT prediction validation set: 0.4920251667499542 (standardized) ; 8248.3515625 (minutes)'\n",
      " \n",
      "------------------------------------\n",
      "EPOCH 38:\n",
      "____________________________________\n"
     ]
    },
    {
     "name": "stderr",
     "output_type": "stream",
     "text": [
      "Batch calculation at epoch 38.: 800it [00:55, 13.45it/s]"
     ]
    },
    {
     "name": "stdout",
     "output_type": "stream",
     "text": [
      "------------------------------------------------------------\n",
      "Epoch 38, batch 799:\n",
      "Average original gradient norm: 6.602870039194823 (over last 800 batches)\n",
      "Average clipped gradient norm: 1.999813271611929 (over last 800 batches)\n",
      "Running average global loss: 0.9858828996121883 (over last 800 batches)\n",
      "Running average activity prediction loss: 0.294327137619257 (Cross Entropy over last 800 batches)\n",
      "Running average time till next event prediction loss: 0.1593353525083512 (MAE over last 800 batches)\n",
      "Running average (complete) remaining runtime prediction loss: 0.5322204091027379 (MAE over last 800 batches)\n",
      "------------------------------------------------------------\n"
     ]
    },
    {
     "name": "stderr",
     "output_type": "stream",
     "text": [
      "Batch calculation at epoch 38.: 1602it [01:52, 18.09it/s]"
     ]
    },
    {
     "name": "stdout",
     "output_type": "stream",
     "text": [
      "------------------------------------------------------------\n",
      "Epoch 38, batch 1599:\n",
      "Average original gradient norm: 6.880607981234789 (over last 800 batches)\n",
      "Average clipped gradient norm: 1.9996664057672024 (over last 800 batches)\n",
      "Running average global loss: 0.9849239081144333 (over last 800 batches)\n",
      "Running average activity prediction loss: 0.2947029334679246 (Cross Entropy over last 800 batches)\n",
      "Running average time till next event prediction loss: 0.15901243187487124 (MAE over last 800 batches)\n",
      "Running average (complete) remaining runtime prediction loss: 0.53120854023844 (MAE over last 800 batches)\n",
      "------------------------------------------------------------\n"
     ]
    },
    {
     "name": "stderr",
     "output_type": "stream",
     "text": [
      "Batch calculation at epoch 38.: 2403it [02:35, 17.32it/s]"
     ]
    },
    {
     "name": "stdout",
     "output_type": "stream",
     "text": [
      "------------------------------------------------------------\n",
      "Epoch 38, batch 2399:\n",
      "Average original gradient norm: 6.567671466618776 (over last 800 batches)\n",
      "Average clipped gradient norm: 1.9999008926749229 (over last 800 batches)\n",
      "Running average global loss: 0.9855752065777779 (over last 800 batches)\n",
      "Running average activity prediction loss: 0.2954716328904033 (Cross Entropy over last 800 batches)\n",
      "Running average time till next event prediction loss: 0.15952374760061502 (MAE over last 800 batches)\n",
      "Running average (complete) remaining runtime prediction loss: 0.530579825900495 (MAE over last 800 batches)\n",
      "------------------------------------------------------------\n"
     ]
    },
    {
     "name": "stderr",
     "output_type": "stream",
     "text": [
      "Batch calculation at epoch 38.: 3202it [03:30, 14.50it/s]"
     ]
    },
    {
     "name": "stdout",
     "output_type": "stream",
     "text": [
      "------------------------------------------------------------\n",
      "Epoch 38, batch 3199:\n",
      "Average original gradient norm: 6.620415913015604 (over last 800 batches)\n",
      "Average clipped gradient norm: 1.999746308028698 (over last 800 batches)\n",
      "Running average global loss: 0.989180962741375 (over last 800 batches)\n",
      "Running average activity prediction loss: 0.29561228647828103 (Cross Entropy over last 800 batches)\n",
      "Running average time till next event prediction loss: 0.1593118215352297 (MAE over last 800 batches)\n",
      "Running average (complete) remaining runtime prediction loss: 0.5342568539083004 (MAE over last 800 batches)\n",
      "------------------------------------------------------------\n"
     ]
    },
    {
     "name": "stderr",
     "output_type": "stream",
     "text": [
      "Batch calculation at epoch 38.: 4002it [04:31,  9.78it/s]"
     ]
    },
    {
     "name": "stdout",
     "output_type": "stream",
     "text": [
      "------------------------------------------------------------\n",
      "Epoch 38, batch 3999:\n",
      "Average original gradient norm: 6.440644712895155 (over last 800 batches)\n",
      "Average clipped gradient norm: 1.9999783225357533 (over last 800 batches)\n",
      "Running average global loss: 0.9852268471568822 (over last 800 batches)\n",
      "Running average activity prediction loss: 0.29508478447794917 (Cross Entropy over last 800 batches)\n",
      "Running average time till next event prediction loss: 0.15865189294330775 (MAE over last 800 batches)\n",
      "Running average (complete) remaining runtime prediction loss: 0.5314901715889573 (MAE over last 800 batches)\n",
      "------------------------------------------------------------\n"
     ]
    },
    {
     "name": "stderr",
     "output_type": "stream",
     "text": [
      "Batch calculation at epoch 38.: 4798it [05:18, 15.07it/s]\n"
     ]
    },
    {
     "name": "stdout",
     "output_type": "stream",
     "text": [
      "=======================================\n",
      "End of epoch 38\n",
      "=======================================\n",
      "Running average global loss: 0.9844593152403831 (over last 800 batches)\n",
      "Running average activity prediction loss: 0.29463303461670876 (Cross Entropy over last 800 batches)\n",
      "Running average time till next event prediction loss: 0.1584062439482659 (MAE over last 800 batches)\n",
      "Running average (complete) remaining runtime prediction loss: 0.5314200374111533 (MAE over last 800 batches)\n"
     ]
    },
    {
     "name": "stderr",
     "output_type": "stream",
     "text": [
      "Validation batch calculation: 36it [21:02, 35.06s/it]\n"
     ]
    },
    {
     "name": "stdout",
     "output_type": "stream",
     "text": [
      "Avg MAE TTNE prediction validation set: 0.2090858668088913 (standardized) ; 774.7138020833333 (minutes)'\n",
      "Avg 1-(normalized) DL distance acitivty suffix prediction validation set: 0.3909517526626587\n",
      "Percentage of suffixes predicted to END: too early - 0.08439763271602832 ; right moment - 0.1064731700990464 ; too late - 0.8091291971849253\n",
      "Too early instances - avg amount of events too early: 9.077564239501953\n",
      "Too late instances - avg amount of events too late: 32.23650360107422\n",
      "Avg absolute amount of events predicted too early / too late: 26.849620819091797\n",
      "Avg MAE RRT prediction validation set: 0.49116045236587524 (standardized) ; 8235.219270833333 (minutes)'\n",
      " \n",
      "------------------------------------\n",
      "EPOCH 39:\n",
      "____________________________________\n"
     ]
    },
    {
     "name": "stderr",
     "output_type": "stream",
     "text": [
      "Batch calculation at epoch 39.: 801it [00:57, 10.64it/s]"
     ]
    },
    {
     "name": "stdout",
     "output_type": "stream",
     "text": [
      "------------------------------------------------------------\n",
      "Epoch 39, batch 799:\n",
      "Average original gradient norm: 6.608290501087904 (over last 800 batches)\n",
      "Average clipped gradient norm: 1.999798350185156 (over last 800 batches)\n",
      "Running average global loss: 0.9851930253207684 (over last 800 batches)\n",
      "Running average activity prediction loss: 0.2944167338684201 (Cross Entropy over last 800 batches)\n",
      "Running average time till next event prediction loss: 0.15912916466593743 (MAE over last 800 batches)\n",
      "Running average (complete) remaining runtime prediction loss: 0.5316471276804805 (MAE over last 800 batches)\n",
      "------------------------------------------------------------\n"
     ]
    },
    {
     "name": "stderr",
     "output_type": "stream",
     "text": [
      "Batch calculation at epoch 39.: 1603it [01:48, 18.05it/s]"
     ]
    },
    {
     "name": "stdout",
     "output_type": "stream",
     "text": [
      "------------------------------------------------------------\n",
      "Epoch 39, batch 1599:\n",
      "Average original gradient norm: 6.393097885400056 (over last 800 batches)\n",
      "Average clipped gradient norm: 1.9995869880914687 (over last 800 batches)\n",
      "Running average global loss: 0.984094580039382 (over last 800 batches)\n",
      "Running average activity prediction loss: 0.29486540049314497 (Cross Entropy over last 800 batches)\n",
      "Running average time till next event prediction loss: 0.15883822835981845 (MAE over last 800 batches)\n",
      "Running average (complete) remaining runtime prediction loss: 0.5303909506648778 (MAE over last 800 batches)\n",
      "------------------------------------------------------------\n"
     ]
    },
    {
     "name": "stderr",
     "output_type": "stream",
     "text": [
      "Batch calculation at epoch 39.: 2403it [02:34, 14.88it/s]"
     ]
    },
    {
     "name": "stdout",
     "output_type": "stream",
     "text": [
      "------------------------------------------------------------\n",
      "Epoch 39, batch 2399:\n",
      "Average original gradient norm: 6.670946841686964 (over last 800 batches)\n",
      "Average clipped gradient norm: 1.9990048544108867 (over last 800 batches)\n",
      "Running average global loss: 0.9838194431364536 (over last 800 batches)\n",
      "Running average activity prediction loss: 0.2947586415335536 (Cross Entropy over last 800 batches)\n",
      "Running average time till next event prediction loss: 0.15868708178400992 (MAE over last 800 batches)\n",
      "Running average (complete) remaining runtime prediction loss: 0.5303737211599946 (MAE over last 800 batches)\n",
      "------------------------------------------------------------\n"
     ]
    },
    {
     "name": "stderr",
     "output_type": "stream",
     "text": [
      "Batch calculation at epoch 39.: 3201it [03:29, 14.96it/s]"
     ]
    },
    {
     "name": "stdout",
     "output_type": "stream",
     "text": [
      "------------------------------------------------------------\n",
      "Epoch 39, batch 3199:\n",
      "Average original gradient norm: 6.521534933745861 (over last 800 batches)\n",
      "Average clipped gradient norm: 1.9992612844705582 (over last 800 batches)\n",
      "Running average global loss: 0.9831940805912018 (over last 800 batches)\n",
      "Running average activity prediction loss: 0.29466552272439 (Cross Entropy over last 800 batches)\n",
      "Running average time till next event prediction loss: 0.15812890543602406 (MAE over last 800 batches)\n",
      "Running average (complete) remaining runtime prediction loss: 0.5303996520861983 (MAE over last 800 batches)\n",
      "------------------------------------------------------------\n"
     ]
    },
    {
     "name": "stderr",
     "output_type": "stream",
     "text": [
      "Batch calculation at epoch 39.: 4002it [04:29, 19.74it/s]"
     ]
    },
    {
     "name": "stdout",
     "output_type": "stream",
     "text": [
      "------------------------------------------------------------\n",
      "Epoch 39, batch 3999:\n",
      "Average original gradient norm: 6.6396917706727985 (over last 800 batches)\n",
      "Average clipped gradient norm: 1.9999192169308662 (over last 800 batches)\n",
      "Running average global loss: 0.9896026220917702 (over last 800 batches)\n",
      "Running average activity prediction loss: 0.2946019568294287 (Cross Entropy over last 800 batches)\n",
      "Running average time till next event prediction loss: 0.16013683973811565 (MAE over last 800 batches)\n",
      "Running average (complete) remaining runtime prediction loss: 0.5348638252541423 (MAE over last 800 batches)\n",
      "------------------------------------------------------------\n"
     ]
    },
    {
     "name": "stderr",
     "output_type": "stream",
     "text": [
      "Batch calculation at epoch 39.: 4798it [05:11, 15.39it/s]\n"
     ]
    },
    {
     "name": "stdout",
     "output_type": "stream",
     "text": [
      "=======================================\n",
      "End of epoch 39\n",
      "=======================================\n",
      "Running average global loss: 0.9868318150937557 (over last 800 batches)\n",
      "Running average activity prediction loss: 0.294903458468616 (Cross Entropy over last 800 batches)\n",
      "Running average time till next event prediction loss: 0.15886920891702175 (MAE over last 800 batches)\n",
      "Running average (complete) remaining runtime prediction loss: 0.5330591478571296 (MAE over last 800 batches)\n"
     ]
    },
    {
     "name": "stderr",
     "output_type": "stream",
     "text": [
      "Validation batch calculation: 36it [17:15, 28.78s/it]\n"
     ]
    },
    {
     "name": "stdout",
     "output_type": "stream",
     "text": [
      "Avg MAE TTNE prediction validation set: 0.20937037467956543 (standardized) ; 775.5759765625 (minutes)'\n",
      "Avg 1-(normalized) DL distance acitivty suffix prediction validation set: 0.31758397817611694\n",
      "Percentage of suffixes predicted to END: too early - 0.04822624354082336 ; right moment - 0.10273930524174557 ; too late - 0.849034451217431\n",
      "Too early instances - avg amount of events too early: 10.03524398803711\n",
      "Too late instances - avg amount of events too late: 44.69087600708008\n",
      "Avg absolute amount of events predicted too early / too late: 38.42805480957031\n",
      "Avg MAE RRT prediction validation set: 0.49081364274024963 (standardized) ; 8236.771875 (minutes)'\n",
      " \n",
      "------------------------------------\n",
      "EPOCH 40:\n",
      "____________________________________\n"
     ]
    },
    {
     "name": "stderr",
     "output_type": "stream",
     "text": [
      "Batch calculation at epoch 40.: 804it [00:37, 21.68it/s]"
     ]
    },
    {
     "name": "stdout",
     "output_type": "stream",
     "text": [
      "------------------------------------------------------------\n",
      "Epoch 40, batch 799:\n",
      "Average original gradient norm: 6.672163375765085 (over last 800 batches)\n",
      "Average clipped gradient norm: 1.9988709905743598 (over last 800 batches)\n",
      "Running average global loss: 0.9830688651651144 (over last 800 batches)\n",
      "Running average activity prediction loss: 0.29422504708170893 (Cross Entropy over last 800 batches)\n",
      "Running average time till next event prediction loss: 0.1583224291820079 (MAE over last 800 batches)\n",
      "Running average (complete) remaining runtime prediction loss: 0.5305213900282979 (MAE over last 800 batches)\n",
      "------------------------------------------------------------\n"
     ]
    },
    {
     "name": "stderr",
     "output_type": "stream",
     "text": [
      "Batch calculation at epoch 40.: 1602it [01:14, 21.47it/s]"
     ]
    },
    {
     "name": "stdout",
     "output_type": "stream",
     "text": [
      "------------------------------------------------------------\n",
      "Epoch 40, batch 1599:\n",
      "Average original gradient norm: 7.203337362259626 (over last 800 batches)\n",
      "Average clipped gradient norm: 1.9998720635473728 (over last 800 batches)\n",
      "Running average global loss: 0.9878454183787108 (over last 800 batches)\n",
      "Running average activity prediction loss: 0.2947296575084329 (Cross Entropy over last 800 batches)\n",
      "Running average time till next event prediction loss: 0.15944310463033617 (MAE over last 800 batches)\n",
      "Running average (complete) remaining runtime prediction loss: 0.5336726569384337 (MAE over last 800 batches)\n",
      "------------------------------------------------------------\n"
     ]
    },
    {
     "name": "stderr",
     "output_type": "stream",
     "text": [
      "Batch calculation at epoch 40.: 2403it [01:52, 21.26it/s]"
     ]
    },
    {
     "name": "stdout",
     "output_type": "stream",
     "text": [
      "------------------------------------------------------------\n",
      "Epoch 40, batch 2399:\n",
      "Average original gradient norm: 6.644981636404991 (over last 800 batches)\n",
      "Average clipped gradient norm: 1.9999996297061444 (over last 800 batches)\n",
      "Running average global loss: 0.9857421296834946 (over last 800 batches)\n",
      "Running average activity prediction loss: 0.2943752550333738 (Cross Entropy over last 800 batches)\n",
      "Running average time till next event prediction loss: 0.15889319241978228 (MAE over last 800 batches)\n",
      "Running average (complete) remaining runtime prediction loss: 0.5324736821651459 (MAE over last 800 batches)\n",
      "------------------------------------------------------------\n"
     ]
    },
    {
     "name": "stderr",
     "output_type": "stream",
     "text": [
      "Batch calculation at epoch 40.: 3204it [02:29, 21.32it/s]"
     ]
    },
    {
     "name": "stdout",
     "output_type": "stream",
     "text": [
      "------------------------------------------------------------\n",
      "Epoch 40, batch 3199:\n",
      "Average original gradient norm: 6.62242963835597 (over last 800 batches)\n",
      "Average clipped gradient norm: 1.9998666560649871 (over last 800 batches)\n",
      "Running average global loss: 0.9810214506089687 (over last 800 batches)\n",
      "Running average activity prediction loss: 0.29372264347970484 (Cross Entropy over last 800 batches)\n",
      "Running average time till next event prediction loss: 0.15810776339843868 (MAE over last 800 batches)\n",
      "Running average (complete) remaining runtime prediction loss: 0.5291910446807742 (MAE over last 800 batches)\n",
      "------------------------------------------------------------\n"
     ]
    },
    {
     "name": "stderr",
     "output_type": "stream",
     "text": [
      "Batch calculation at epoch 40.: 4004it [03:07, 21.26it/s]"
     ]
    },
    {
     "name": "stdout",
     "output_type": "stream",
     "text": [
      "------------------------------------------------------------\n",
      "Epoch 40, batch 3999:\n",
      "Average original gradient norm: 6.986623005270958 (over last 800 batches)\n",
      "Average clipped gradient norm: 1.9998324660956859 (over last 800 batches)\n",
      "Running average global loss: 0.9836492263525725 (over last 800 batches)\n",
      "Running average activity prediction loss: 0.2947989077866077 (Cross Entropy over last 800 batches)\n",
      "Running average time till next event prediction loss: 0.15885232819244266 (MAE over last 800 batches)\n",
      "Running average (complete) remaining runtime prediction loss: 0.529997990578413 (MAE over last 800 batches)\n",
      "------------------------------------------------------------\n"
     ]
    },
    {
     "name": "stderr",
     "output_type": "stream",
     "text": [
      "Batch calculation at epoch 40.: 4798it [03:45, 21.30it/s]\n"
     ]
    },
    {
     "name": "stdout",
     "output_type": "stream",
     "text": [
      "=======================================\n",
      "End of epoch 40\n",
      "=======================================\n",
      "Running average global loss: 0.9874912668764592 (over last 800 batches)\n",
      "Running average activity prediction loss: 0.2944698382169008 (Cross Entropy over last 800 batches)\n",
      "Running average time till next event prediction loss: 0.16016750377602876 (MAE over last 800 batches)\n",
      "Running average (complete) remaining runtime prediction loss: 0.5328539251908659 (MAE over last 800 batches)\n"
     ]
    },
    {
     "name": "stderr",
     "output_type": "stream",
     "text": [
      "Validation batch calculation: 36it [15:44, 26.25s/it]\n"
     ]
    },
    {
     "name": "stdout",
     "output_type": "stream",
     "text": [
      "Avg MAE TTNE prediction validation set: 0.20787718892097473 (standardized) ; 770.11796875 (minutes)'\n",
      "Avg 1-(normalized) DL distance acitivty suffix prediction validation set: 0.30643171072006226\n",
      "Percentage of suffixes predicted to END: too early - 0.030430657283084295 ; right moment - 0.10016587370389837 ; too late - 0.8694034690130173\n",
      "Too early instances - avg amount of events too early: 8.951996803283691\n",
      "Too late instances - avg amount of events too late: 43.81574249267578\n",
      "Avg absolute amount of events predicted too early / too late: 38.36597442626953\n",
      "Avg MAE RRT prediction validation set: 0.4901513457298279 (standardized) ; 8220.106770833334 (minutes)'\n",
      " \n",
      "------------------------------------\n",
      "EPOCH 41:\n",
      "____________________________________\n"
     ]
    },
    {
     "name": "stderr",
     "output_type": "stream",
     "text": [
      "Batch calculation at epoch 41.: 804it [00:37, 21.68it/s]"
     ]
    },
    {
     "name": "stdout",
     "output_type": "stream",
     "text": [
      "------------------------------------------------------------\n",
      "Epoch 41, batch 799:\n",
      "Average original gradient norm: 6.567840411067009 (over last 800 batches)\n",
      "Average clipped gradient norm: 1.999191946387291 (over last 800 batches)\n",
      "Running average global loss: 0.9846015301346779 (over last 800 batches)\n",
      "Running average activity prediction loss: 0.29399194318801164 (Cross Entropy over last 800 batches)\n",
      "Running average time till next event prediction loss: 0.15851972746662796 (MAE over last 800 batches)\n",
      "Running average (complete) remaining runtime prediction loss: 0.5320898596197366 (MAE over last 800 batches)\n",
      "------------------------------------------------------------\n"
     ]
    },
    {
     "name": "stderr",
     "output_type": "stream",
     "text": [
      "Batch calculation at epoch 41.: 1602it [01:15, 21.49it/s]"
     ]
    },
    {
     "name": "stdout",
     "output_type": "stream",
     "text": [
      "------------------------------------------------------------\n",
      "Epoch 41, batch 1599:\n",
      "Average original gradient norm: 6.721288277357817 (over last 800 batches)\n",
      "Average clipped gradient norm: 1.999998269379139 (over last 800 batches)\n",
      "Running average global loss: 0.982096448019147 (over last 800 batches)\n",
      "Running average activity prediction loss: 0.29437812700867655 (Cross Entropy over last 800 batches)\n",
      "Running average time till next event prediction loss: 0.15847647002898158 (MAE over last 800 batches)\n",
      "Running average (complete) remaining runtime prediction loss: 0.5292418502271176 (MAE over last 800 batches)\n",
      "------------------------------------------------------------\n"
     ]
    },
    {
     "name": "stderr",
     "output_type": "stream",
     "text": [
      "Batch calculation at epoch 41.: 2403it [01:52, 21.24it/s]"
     ]
    },
    {
     "name": "stdout",
     "output_type": "stream",
     "text": [
      "------------------------------------------------------------\n",
      "Epoch 41, batch 2399:\n",
      "Average original gradient norm: 6.732886179387569 (over last 800 batches)\n",
      "Average clipped gradient norm: 1.9999996423721313 (over last 800 batches)\n",
      "Running average global loss: 0.9847412839531898 (over last 800 batches)\n",
      "Running average activity prediction loss: 0.2944031311571598 (Cross Entropy over last 800 batches)\n",
      "Running average time till next event prediction loss: 0.1583848760649562 (MAE over last 800 batches)\n",
      "Running average (complete) remaining runtime prediction loss: 0.5319532789289951 (MAE over last 800 batches)\n",
      "------------------------------------------------------------\n"
     ]
    },
    {
     "name": "stderr",
     "output_type": "stream",
     "text": [
      "Batch calculation at epoch 41.: 3204it [02:30, 21.33it/s]"
     ]
    },
    {
     "name": "stdout",
     "output_type": "stream",
     "text": [
      "------------------------------------------------------------\n",
      "Epoch 41, batch 3199:\n",
      "Average original gradient norm: 6.638876470327378 (over last 800 batches)\n",
      "Average clipped gradient norm: 1.9999966053664684 (over last 800 batches)\n",
      "Running average global loss: 0.9810857290774584 (over last 800 batches)\n",
      "Running average activity prediction loss: 0.29323514249175786 (Cross Entropy over last 800 batches)\n",
      "Running average time till next event prediction loss: 0.15887084449641406 (MAE over last 800 batches)\n",
      "Running average (complete) remaining runtime prediction loss: 0.5289797417074442 (MAE over last 800 batches)\n",
      "------------------------------------------------------------\n"
     ]
    },
    {
     "name": "stderr",
     "output_type": "stream",
     "text": [
      "Batch calculation at epoch 41.: 4002it [03:07, 21.39it/s]"
     ]
    },
    {
     "name": "stdout",
     "output_type": "stream",
     "text": [
      "------------------------------------------------------------\n",
      "Epoch 41, batch 3999:\n",
      "Average original gradient norm: 6.8107877446711065 (over last 800 batches)\n",
      "Average clipped gradient norm: 1.9998404070734979 (over last 800 batches)\n",
      "Running average global loss: 0.987018661275506 (over last 800 batches)\n",
      "Running average activity prediction loss: 0.2940947063267231 (Cross Entropy over last 800 batches)\n",
      "Running average time till next event prediction loss: 0.15948653895407916 (MAE over last 800 batches)\n",
      "Running average (complete) remaining runtime prediction loss: 0.5334374164044857 (MAE over last 800 batches)\n",
      "------------------------------------------------------------\n"
     ]
    },
    {
     "name": "stderr",
     "output_type": "stream",
     "text": [
      "Batch calculation at epoch 41.: 4798it [03:45, 21.24it/s]\n"
     ]
    },
    {
     "name": "stdout",
     "output_type": "stream",
     "text": [
      "=======================================\n",
      "End of epoch 41\n",
      "=======================================\n",
      "Running average global loss: 0.9871674892306328 (over last 800 batches)\n",
      "Running average activity prediction loss: 0.29427951388061047 (Cross Entropy over last 800 batches)\n",
      "Running average time till next event prediction loss: 0.1598073512967676 (MAE over last 800 batches)\n",
      "Running average (complete) remaining runtime prediction loss: 0.5330806229263544 (MAE over last 800 batches)\n"
     ]
    },
    {
     "name": "stderr",
     "output_type": "stream",
     "text": [
      "Validation batch calculation: 36it [15:45, 26.28s/it]\n"
     ]
    },
    {
     "name": "stdout",
     "output_type": "stream",
     "text": [
      "Avg MAE TTNE prediction validation set: 0.21105732023715973 (standardized) ; 781.8630859375 (minutes)'\n",
      "Avg 1-(normalized) DL distance acitivty suffix prediction validation set: 0.3553490936756134\n",
      "Percentage of suffixes predicted to END: too early - 0.047434418452254996 ; right moment - 0.10034335174099128 ; too late - 0.8522222298067538\n",
      "Too early instances - avg amount of events too early: 9.475895881652832\n",
      "Too late instances - avg amount of events too late: 37.50893783569336\n",
      "Avg absolute amount of events predicted too early / too late: 32.415435791015625\n",
      "Avg MAE RRT prediction validation set: 0.4904903769493103 (standardized) ; 8228.966145833334 (minutes)'\n",
      " \n",
      "------------------------------------\n",
      "EPOCH 42:\n",
      "____________________________________\n"
     ]
    },
    {
     "name": "stderr",
     "output_type": "stream",
     "text": [
      "Batch calculation at epoch 42.: 804it [00:37, 21.63it/s]"
     ]
    },
    {
     "name": "stdout",
     "output_type": "stream",
     "text": [
      "------------------------------------------------------------\n",
      "Epoch 42, batch 799:\n",
      "Average original gradient norm: 6.78170220002532 (over last 800 batches)\n",
      "Average clipped gradient norm: 1.9991528442502022 (over last 800 batches)\n",
      "Running average global loss: 0.9827080965042114 (over last 800 batches)\n",
      "Running average activity prediction loss: 0.2934091187641025 (Cross Entropy over last 800 batches)\n",
      "Running average time till next event prediction loss: 0.1590424798987806 (MAE over last 800 batches)\n",
      "Running average (complete) remaining runtime prediction loss: 0.530256498157978 (MAE over last 800 batches)\n",
      "------------------------------------------------------------\n"
     ]
    },
    {
     "name": "stderr",
     "output_type": "stream",
     "text": [
      "Batch calculation at epoch 42.: 1604it [01:15, 21.11it/s]"
     ]
    },
    {
     "name": "stdout",
     "output_type": "stream",
     "text": [
      "------------------------------------------------------------\n",
      "Epoch 42, batch 1599:\n",
      "Average original gradient norm: 6.901250478774309 (over last 800 batches)\n",
      "Average clipped gradient norm: 1.9995785965025425 (over last 800 batches)\n",
      "Running average global loss: 0.9875738294422627 (over last 800 batches)\n",
      "Running average activity prediction loss: 0.29357458885759113 (Cross Entropy over last 800 batches)\n",
      "Running average time till next event prediction loss: 0.15904715036973358 (MAE over last 800 batches)\n",
      "Running average (complete) remaining runtime prediction loss: 0.5349520906433463 (MAE over last 800 batches)\n",
      "------------------------------------------------------------\n"
     ]
    },
    {
     "name": "stderr",
     "output_type": "stream",
     "text": [
      "Batch calculation at epoch 42.: 2402it [01:52, 20.85it/s]"
     ]
    },
    {
     "name": "stdout",
     "output_type": "stream",
     "text": [
      "------------------------------------------------------------\n",
      "Epoch 42, batch 2399:\n",
      "Average original gradient norm: 6.978835381567478 (over last 800 batches)\n",
      "Average clipped gradient norm: 1.999953680038452 (over last 800 batches)\n",
      "Running average global loss: 0.984824927970767 (over last 800 batches)\n",
      "Running average activity prediction loss: 0.2937133787572384 (Cross Entropy over last 800 batches)\n",
      "Running average time till next event prediction loss: 0.15916189152747393 (MAE over last 800 batches)\n",
      "Running average (complete) remaining runtime prediction loss: 0.5319496564567089 (MAE over last 800 batches)\n",
      "------------------------------------------------------------\n"
     ]
    },
    {
     "name": "stderr",
     "output_type": "stream",
     "text": [
      "Batch calculation at epoch 42.: 3203it [02:31, 21.20it/s]"
     ]
    },
    {
     "name": "stdout",
     "output_type": "stream",
     "text": [
      "------------------------------------------------------------\n",
      "Epoch 42, batch 3199:\n",
      "Average original gradient norm: 6.674427859038115 (over last 800 batches)\n",
      "Average clipped gradient norm: 1.999586427807808 (over last 800 batches)\n",
      "Running average global loss: 0.9829238916188479 (over last 800 batches)\n",
      "Running average activity prediction loss: 0.29373001981526614 (Cross Entropy over last 800 batches)\n",
      "Running average time till next event prediction loss: 0.1585602565575391 (MAE over last 800 batches)\n",
      "Running average (complete) remaining runtime prediction loss: 0.5306336146593094 (MAE over last 800 batches)\n",
      "------------------------------------------------------------\n"
     ]
    },
    {
     "name": "stderr",
     "output_type": "stream",
     "text": [
      "Batch calculation at epoch 42.: 4004it [03:09, 21.31it/s]"
     ]
    },
    {
     "name": "stdout",
     "output_type": "stream",
     "text": [
      "------------------------------------------------------------\n",
      "Epoch 42, batch 3999:\n",
      "Average original gradient norm: 6.866022943556309 (over last 800 batches)\n",
      "Average clipped gradient norm: 1.9991762395203114 (over last 800 batches)\n",
      "Running average global loss: 0.9861646890640259 (over last 800 batches)\n",
      "Running average activity prediction loss: 0.293858314268291 (Cross Entropy over last 800 batches)\n",
      "Running average time till next event prediction loss: 0.15950330017134548 (MAE over last 800 batches)\n",
      "Running average (complete) remaining runtime prediction loss: 0.5328030744567513 (MAE over last 800 batches)\n",
      "------------------------------------------------------------\n"
     ]
    },
    {
     "name": "stderr",
     "output_type": "stream",
     "text": [
      "Batch calculation at epoch 42.: 4798it [03:47, 21.13it/s]\n"
     ]
    },
    {
     "name": "stdout",
     "output_type": "stream",
     "text": [
      "=======================================\n",
      "End of epoch 42\n",
      "=======================================\n",
      "Running average global loss: 0.9804120613634586 (over last 800 batches)\n",
      "Running average activity prediction loss: 0.2939876464381814 (Cross Entropy over last 800 batches)\n",
      "Running average time till next event prediction loss: 0.15801459800451995 (MAE over last 800 batches)\n",
      "Running average (complete) remaining runtime prediction loss: 0.5284098157286644 (MAE over last 800 batches)\n"
     ]
    },
    {
     "name": "stderr",
     "output_type": "stream",
     "text": [
      "Validation batch calculation: 36it [15:44, 26.24s/it]\n"
     ]
    },
    {
     "name": "stdout",
     "output_type": "stream",
     "text": [
      "Avg MAE TTNE prediction validation set: 0.2106253057718277 (standardized) ; 780.5208333333334 (minutes)'\n",
      "Avg 1-(normalized) DL distance acitivty suffix prediction validation set: 0.3704129755496979\n",
      "Percentage of suffixes predicted to END: too early - 0.07064991091967754 ; right moment - 0.10512160658580039 ; too late - 0.8242284824945221\n",
      "Too early instances - avg amount of events too early: 9.621932029724121\n",
      "Too late instances - avg amount of events too late: 35.2121696472168\n",
      "Avg absolute amount of events predicted too early / too late: 29.70266342163086\n",
      "Avg MAE RRT prediction validation set: 0.4917300045490265 (standardized) ; 8250.976041666667 (minutes)'\n",
      " \n",
      "------------------------------------\n",
      "EPOCH 43:\n",
      "____________________________________\n"
     ]
    },
    {
     "name": "stderr",
     "output_type": "stream",
     "text": [
      "Batch calculation at epoch 43.: 804it [00:37, 20.08it/s]"
     ]
    },
    {
     "name": "stdout",
     "output_type": "stream",
     "text": [
      "------------------------------------------------------------\n",
      "Epoch 43, batch 799:\n",
      "Average original gradient norm: 7.087519005835056 (over last 800 batches)\n",
      "Average clipped gradient norm: 1.9997606727480888 (over last 800 batches)\n",
      "Running average global loss: 0.9855767603218556 (over last 800 batches)\n",
      "Running average activity prediction loss: 0.29333903923630716 (Cross Entropy over last 800 batches)\n",
      "Running average time till next event prediction loss: 0.15958296538330616 (MAE over last 800 batches)\n",
      "Running average (complete) remaining runtime prediction loss: 0.5326547556743025 (MAE over last 800 batches)\n",
      "------------------------------------------------------------\n"
     ]
    },
    {
     "name": "stderr",
     "output_type": "stream",
     "text": [
      "Batch calculation at epoch 43.: 1602it [01:15, 21.10it/s]"
     ]
    },
    {
     "name": "stdout",
     "output_type": "stream",
     "text": [
      "------------------------------------------------------------\n",
      "Epoch 43, batch 1599:\n",
      "Average original gradient norm: 6.882613660991192 (over last 800 batches)\n",
      "Average clipped gradient norm: 1.999999635964632 (over last 800 batches)\n",
      "Running average global loss: 0.9816072771698237 (over last 800 batches)\n",
      "Running average activity prediction loss: 0.2932014017924666 (Cross Entropy over last 800 batches)\n",
      "Running average time till next event prediction loss: 0.15811131414957344 (MAE over last 800 batches)\n",
      "Running average (complete) remaining runtime prediction loss: 0.5302945610508323 (MAE over last 800 batches)\n",
      "------------------------------------------------------------\n"
     ]
    },
    {
     "name": "stderr",
     "output_type": "stream",
     "text": [
      "Batch calculation at epoch 43.: 2404it [01:53, 21.15it/s]"
     ]
    },
    {
     "name": "stdout",
     "output_type": "stream",
     "text": [
      "------------------------------------------------------------\n",
      "Epoch 43, batch 2399:\n",
      "Average original gradient norm: 6.733364277929067 (over last 800 batches)\n",
      "Average clipped gradient norm: 1.999854344278574 (over last 800 batches)\n",
      "Running average global loss: 0.982519056648016 (over last 800 batches)\n",
      "Running average activity prediction loss: 0.292920713275671 (Cross Entropy over last 800 batches)\n",
      "Running average time till next event prediction loss: 0.1585402038693428 (MAE over last 800 batches)\n",
      "Running average (complete) remaining runtime prediction loss: 0.5310581402480602 (MAE over last 800 batches)\n",
      "------------------------------------------------------------\n"
     ]
    },
    {
     "name": "stderr",
     "output_type": "stream",
     "text": [
      "Batch calculation at epoch 43.: 3202it [02:31, 21.22it/s]"
     ]
    },
    {
     "name": "stdout",
     "output_type": "stream",
     "text": [
      "------------------------------------------------------------\n",
      "Epoch 43, batch 3199:\n",
      "Average original gradient norm: 6.970470461845398 (over last 800 batches)\n",
      "Average clipped gradient norm: 1.9999996384978294 (over last 800 batches)\n",
      "Running average global loss: 0.9850150205940008 (over last 800 batches)\n",
      "Running average activity prediction loss: 0.29379296086728574 (Cross Entropy over last 800 batches)\n",
      "Running average time till next event prediction loss: 0.15877515223808586 (MAE over last 800 batches)\n",
      "Running average (complete) remaining runtime prediction loss: 0.5324469070136547 (MAE over last 800 batches)\n",
      "------------------------------------------------------------\n"
     ]
    },
    {
     "name": "stderr",
     "output_type": "stream",
     "text": [
      "Batch calculation at epoch 43.: 4003it [03:09, 21.26it/s]"
     ]
    },
    {
     "name": "stdout",
     "output_type": "stream",
     "text": [
      "------------------------------------------------------------\n",
      "Epoch 43, batch 3999:\n",
      "Average original gradient norm: 7.068710638284683 (over last 800 batches)\n",
      "Average clipped gradient norm: 1.9997731909155845 (over last 800 batches)\n",
      "Running average global loss: 0.9843441719561815 (over last 800 batches)\n",
      "Running average activity prediction loss: 0.2940246859192848 (Cross Entropy over last 800 batches)\n",
      "Running average time till next event prediction loss: 0.1591193662956357 (MAE over last 800 batches)\n",
      "Running average (complete) remaining runtime prediction loss: 0.531200119741261 (MAE over last 800 batches)\n",
      "------------------------------------------------------------\n"
     ]
    },
    {
     "name": "stderr",
     "output_type": "stream",
     "text": [
      "Batch calculation at epoch 43.: 4798it [03:48, 20.98it/s]\n"
     ]
    },
    {
     "name": "stdout",
     "output_type": "stream",
     "text": [
      "=======================================\n",
      "End of epoch 43\n",
      "=======================================\n",
      "Running average global loss: 0.9828453500568867 (over last 800 batches)\n",
      "Running average activity prediction loss: 0.2939768051728606 (Cross Entropy over last 800 batches)\n",
      "Running average time till next event prediction loss: 0.15895266347564757 (MAE over last 800 batches)\n",
      "Running average (complete) remaining runtime prediction loss: 0.5299158830568195 (MAE over last 800 batches)\n"
     ]
    },
    {
     "name": "stderr",
     "output_type": "stream",
     "text": [
      "Validation batch calculation: 36it [15:45, 26.27s/it]\n"
     ]
    },
    {
     "name": "stdout",
     "output_type": "stream",
     "text": [
      "Avg MAE TTNE prediction validation set: 0.21057277917861938 (standardized) ; 780.3125651041667 (minutes)'\n",
      "Avg 1-(normalized) DL distance acitivty suffix prediction validation set: 0.365315318107605\n",
      "Percentage of suffixes predicted to END: too early - 0.05800801381598258 ; right moment - 0.10313521778602974 ; too late - 0.8388567683979876\n",
      "Too early instances - avg amount of events too early: 8.804189682006836\n",
      "Too late instances - avg amount of events too late: 36.347686767578125\n",
      "Avg absolute amount of events predicted too early / too late: 31.0012149810791\n",
      "Avg MAE RRT prediction validation set: 0.48963236808776855 (standardized) ; 8217.569270833334 (minutes)'\n",
      " \n",
      "------------------------------------\n",
      "EPOCH 44:\n",
      "____________________________________\n"
     ]
    },
    {
     "name": "stderr",
     "output_type": "stream",
     "text": [
      "Batch calculation at epoch 44.: 804it [00:37, 21.73it/s]"
     ]
    },
    {
     "name": "stdout",
     "output_type": "stream",
     "text": [
      "------------------------------------------------------------\n",
      "Epoch 44, batch 799:\n",
      "Average original gradient norm: 7.096368942409754 (over last 800 batches)\n",
      "Average clipped gradient norm: 1.9999543556571007 (over last 800 batches)\n",
      "Running average global loss: 0.9854684552550316 (over last 800 batches)\n",
      "Running average activity prediction loss: 0.29380506865680217 (Cross Entropy over last 800 batches)\n",
      "Running average time till next event prediction loss: 0.15922317942604422 (MAE over last 800 batches)\n",
      "Running average (complete) remaining runtime prediction loss: 0.5324402053281665 (MAE over last 800 batches)\n",
      "------------------------------------------------------------\n"
     ]
    },
    {
     "name": "stderr",
     "output_type": "stream",
     "text": [
      "Batch calculation at epoch 44.: 1602it [01:15, 21.51it/s]"
     ]
    },
    {
     "name": "stdout",
     "output_type": "stream",
     "text": [
      "------------------------------------------------------------\n",
      "Epoch 44, batch 1599:\n",
      "Average original gradient norm: 6.914802363961935 (over last 800 batches)\n",
      "Average clipped gradient norm: 1.9997042155265807 (over last 800 batches)\n",
      "Running average global loss: 0.9830716451257467 (over last 800 batches)\n",
      "Running average activity prediction loss: 0.2932384768128395 (Cross Entropy over last 800 batches)\n",
      "Running average time till next event prediction loss: 0.15860514788888394 (MAE over last 800 batches)\n",
      "Running average (complete) remaining runtime prediction loss: 0.5312280203402042 (MAE over last 800 batches)\n",
      "------------------------------------------------------------\n"
     ]
    },
    {
     "name": "stderr",
     "output_type": "stream",
     "text": [
      "Batch calculation at epoch 44.: 2403it [01:53, 21.36it/s]"
     ]
    },
    {
     "name": "stdout",
     "output_type": "stream",
     "text": [
      "------------------------------------------------------------\n",
      "Epoch 44, batch 2399:\n",
      "Average original gradient norm: 7.034399635642767 (over last 800 batches)\n",
      "Average clipped gradient norm: 1.999765623509884 (over last 800 batches)\n",
      "Running average global loss: 0.9841171840578318 (over last 800 batches)\n",
      "Running average activity prediction loss: 0.2932304748147726 (Cross Entropy over last 800 batches)\n",
      "Running average time till next event prediction loss: 0.15910259847529232 (MAE over last 800 batches)\n",
      "Running average (complete) remaining runtime prediction loss: 0.5317841116711497 (MAE over last 800 batches)\n",
      "------------------------------------------------------------\n"
     ]
    },
    {
     "name": "stderr",
     "output_type": "stream",
     "text": [
      "Batch calculation at epoch 44.: 3203it [02:31, 20.91it/s]"
     ]
    },
    {
     "name": "stdout",
     "output_type": "stream",
     "text": [
      "------------------------------------------------------------\n",
      "Epoch 44, batch 3199:\n",
      "Average original gradient norm: 7.044153495132923 (over last 800 batches)\n",
      "Average clipped gradient norm: 1.9996787576377393 (over last 800 batches)\n",
      "Running average global loss: 0.9819370076805353 (over last 800 batches)\n",
      "Running average activity prediction loss: 0.2932817097380757 (Cross Entropy over last 800 batches)\n",
      "Running average time till next event prediction loss: 0.15811807166785002 (MAE over last 800 batches)\n",
      "Running average (complete) remaining runtime prediction loss: 0.5305372257158161 (MAE over last 800 batches)\n",
      "------------------------------------------------------------\n"
     ]
    },
    {
     "name": "stderr",
     "output_type": "stream",
     "text": [
      "Batch calculation at epoch 44.: 4004it [03:09, 20.96it/s]"
     ]
    },
    {
     "name": "stdout",
     "output_type": "stream",
     "text": [
      "------------------------------------------------------------\n",
      "Epoch 44, batch 3999:\n",
      "Average original gradient norm: 6.8674470157921315 (over last 800 batches)\n",
      "Average clipped gradient norm: 1.999652280807495 (over last 800 batches)\n",
      "Running average global loss: 0.9814073661714793 (over last 800 batches)\n",
      "Running average activity prediction loss: 0.2929779328033328 (Cross Entropy over last 800 batches)\n",
      "Running average time till next event prediction loss: 0.15852894485928118 (MAE over last 800 batches)\n",
      "Running average (complete) remaining runtime prediction loss: 0.5299004891142249 (MAE over last 800 batches)\n",
      "------------------------------------------------------------\n"
     ]
    },
    {
     "name": "stderr",
     "output_type": "stream",
     "text": [
      "Batch calculation at epoch 44.: 4798it [03:48, 20.97it/s]\n"
     ]
    },
    {
     "name": "stdout",
     "output_type": "stream",
     "text": [
      "=======================================\n",
      "End of epoch 44\n",
      "=======================================\n",
      "Running average global loss: 0.9821752954274416 (over last 800 batches)\n",
      "Running average activity prediction loss: 0.2929429540038109 (Cross Entropy over last 800 batches)\n",
      "Running average time till next event prediction loss: 0.1590706701297313 (MAE over last 800 batches)\n",
      "Running average (complete) remaining runtime prediction loss: 0.5301616719737648 (MAE over last 800 batches)\n"
     ]
    },
    {
     "name": "stderr",
     "output_type": "stream",
     "text": [
      "Validation batch calculation: 36it [15:47, 26.33s/it]\n"
     ]
    },
    {
     "name": "stdout",
     "output_type": "stream",
     "text": [
      "Avg MAE TTNE prediction validation set: 0.21078817546367645 (standardized) ; 781.1731770833334 (minutes)'\n",
      "Avg 1-(normalized) DL distance acitivty suffix prediction validation set: 0.35549506545066833\n",
      "Percentage of suffixes predicted to END: too early - 0.056574537362539846 ; right moment - 0.10257547936135211 ; too late - 0.840849983276108\n",
      "Too early instances - avg amount of events too early: 9.237934112548828\n",
      "Too late instances - avg amount of events too late: 38.39358139038086\n",
      "Avg absolute amount of events predicted too early / too late: 32.80587387084961\n",
      "Avg MAE RRT prediction validation set: 0.4916659891605377 (standardized) ; 8252.703125 (minutes)'\n",
      " \n",
      "------------------------------------\n",
      "EPOCH 45:\n",
      "____________________________________\n"
     ]
    },
    {
     "name": "stderr",
     "output_type": "stream",
     "text": [
      "Batch calculation at epoch 45.: 804it [00:37, 21.56it/s]"
     ]
    },
    {
     "name": "stdout",
     "output_type": "stream",
     "text": [
      "------------------------------------------------------------\n",
      "Epoch 45, batch 799:\n",
      "Average original gradient norm: 7.009636179506779 (over last 800 batches)\n",
      "Average clipped gradient norm: 1.999999653995037 (over last 800 batches)\n",
      "Running average global loss: 0.9812292698025703 (over last 800 batches)\n",
      "Running average activity prediction loss: 0.29246631916612387 (Cross Entropy over last 800 batches)\n",
      "Running average time till next event prediction loss: 0.15878385465592146 (MAE over last 800 batches)\n",
      "Running average (complete) remaining runtime prediction loss: 0.5299790969491005 (MAE over last 800 batches)\n",
      "------------------------------------------------------------\n"
     ]
    },
    {
     "name": "stderr",
     "output_type": "stream",
     "text": [
      "Batch calculation at epoch 45.: 1602it [01:14, 21.44it/s]"
     ]
    },
    {
     "name": "stdout",
     "output_type": "stream",
     "text": [
      "------------------------------------------------------------\n",
      "Epoch 45, batch 1599:\n",
      "Average original gradient norm: 7.078774056881667 (over last 800 batches)\n",
      "Average clipped gradient norm: 1.9999652671813966 (over last 800 batches)\n",
      "Running average global loss: 0.9839387661963701 (over last 800 batches)\n",
      "Running average activity prediction loss: 0.2934016077592969 (Cross Entropy over last 800 batches)\n",
      "Running average time till next event prediction loss: 0.15877397931180895 (MAE over last 800 batches)\n",
      "Running average (complete) remaining runtime prediction loss: 0.5317631796747446 (MAE over last 800 batches)\n",
      "------------------------------------------------------------\n"
     ]
    },
    {
     "name": "stderr",
     "output_type": "stream",
     "text": [
      "Batch calculation at epoch 45.: 2403it [01:52, 21.30it/s]"
     ]
    },
    {
     "name": "stdout",
     "output_type": "stream",
     "text": [
      "------------------------------------------------------------\n",
      "Epoch 45, batch 2399:\n",
      "Average original gradient norm: 7.046721129715443 (over last 800 batches)\n",
      "Average clipped gradient norm: 1.999999642521143 (over last 800 batches)\n",
      "Running average global loss: 0.9879508044570684 (over last 800 batches)\n",
      "Running average activity prediction loss: 0.2931354119628668 (Cross Entropy over last 800 batches)\n",
      "Running average time till next event prediction loss: 0.15898930717259646 (MAE over last 800 batches)\n",
      "Running average (complete) remaining runtime prediction loss: 0.5358260839059948 (MAE over last 800 batches)\n",
      "------------------------------------------------------------\n"
     ]
    },
    {
     "name": "stderr",
     "output_type": "stream",
     "text": [
      "Batch calculation at epoch 45.: 3204it [02:30, 21.26it/s]"
     ]
    },
    {
     "name": "stdout",
     "output_type": "stream",
     "text": [
      "------------------------------------------------------------\n",
      "Epoch 45, batch 3199:\n",
      "Average original gradient norm: 7.173545151352882 (over last 800 batches)\n",
      "Average clipped gradient norm: 1.9996887516975403 (over last 800 batches)\n",
      "Running average global loss: 0.9790827249735594 (over last 800 batches)\n",
      "Running average activity prediction loss: 0.29334491066634655 (Cross Entropy over last 800 batches)\n",
      "Running average time till next event prediction loss: 0.15747233835980295 (MAE over last 800 batches)\n",
      "Running average (complete) remaining runtime prediction loss: 0.5282654758170247 (MAE over last 800 batches)\n",
      "------------------------------------------------------------\n"
     ]
    },
    {
     "name": "stderr",
     "output_type": "stream",
     "text": [
      "Batch calculation at epoch 45.: 4004it [03:08, 20.88it/s]"
     ]
    },
    {
     "name": "stdout",
     "output_type": "stream",
     "text": [
      "------------------------------------------------------------\n",
      "Epoch 45, batch 3999:\n",
      "Average original gradient norm: 7.252057039737702 (over last 800 batches)\n",
      "Average clipped gradient norm: 1.9999996443092822 (over last 800 batches)\n",
      "Running average global loss: 0.9837230820208788 (over last 800 batches)\n",
      "Running average activity prediction loss: 0.2922627430781722 (Cross Entropy over last 800 batches)\n",
      "Running average time till next event prediction loss: 0.15989855497144162 (MAE over last 800 batches)\n",
      "Running average (complete) remaining runtime prediction loss: 0.5315617836266756 (MAE over last 800 batches)\n",
      "------------------------------------------------------------\n"
     ]
    },
    {
     "name": "stderr",
     "output_type": "stream",
     "text": [
      "Batch calculation at epoch 45.: 4798it [03:46, 21.19it/s]\n"
     ]
    },
    {
     "name": "stdout",
     "output_type": "stream",
     "text": [
      "=======================================\n",
      "End of epoch 45\n",
      "=======================================\n",
      "Running average global loss: 0.9824739861488342 (over last 800 batches)\n",
      "Running average activity prediction loss: 0.29331342715770004 (Cross Entropy over last 800 batches)\n",
      "Running average time till next event prediction loss: 0.15867668686434627 (MAE over last 800 batches)\n",
      "Running average (complete) remaining runtime prediction loss: 0.5304838733747601 (MAE over last 800 batches)\n"
     ]
    },
    {
     "name": "stderr",
     "output_type": "stream",
     "text": [
      "Validation batch calculation: 36it [15:46, 26.28s/it]\n"
     ]
    },
    {
     "name": "stdout",
     "output_type": "stream",
     "text": [
      "Avg MAE TTNE prediction validation set: 0.20849739015102386 (standardized) ; 772.5442057291667 (minutes)'\n",
      "Avg 1-(normalized) DL distance acitivty suffix prediction validation set: 0.3492410182952881\n",
      "Percentage of suffixes predicted to END: too early - 0.05690901520167649 ; right moment - 0.10402943404984402 ; too late - 0.8390615507484795\n",
      "Too early instances - avg amount of events too early: 9.38694953918457\n",
      "Too late instances - avg amount of events too late: 38.528011322021484\n",
      "Avg absolute amount of events predicted too early / too late: 32.861572265625\n",
      "Avg MAE RRT prediction validation set: 0.49121949076652527 (standardized) ; 8246.109375 (minutes)'\n",
      " \n",
      "------------------------------------\n",
      "EPOCH 46:\n",
      "____________________________________\n"
     ]
    },
    {
     "name": "stderr",
     "output_type": "stream",
     "text": [
      "Batch calculation at epoch 46.: 804it [00:37, 21.64it/s]"
     ]
    },
    {
     "name": "stdout",
     "output_type": "stream",
     "text": [
      "------------------------------------------------------------\n",
      "Epoch 46, batch 799:\n",
      "Average original gradient norm: 6.901071417927742 (over last 800 batches)\n",
      "Average clipped gradient norm: 1.9999996349215508 (over last 800 batches)\n",
      "Running average global loss: 0.981805859953165 (over last 800 batches)\n",
      "Running average activity prediction loss: 0.2926619516313076 (Cross Entropy over last 800 batches)\n",
      "Running average time till next event prediction loss: 0.15854832028970123 (MAE over last 800 batches)\n",
      "Running average (complete) remaining runtime prediction loss: 0.530595588311553 (MAE over last 800 batches)\n",
      "------------------------------------------------------------\n"
     ]
    },
    {
     "name": "stderr",
     "output_type": "stream",
     "text": [
      "Batch calculation at epoch 46.: 1602it [01:14, 21.44it/s]"
     ]
    },
    {
     "name": "stdout",
     "output_type": "stream",
     "text": [
      "------------------------------------------------------------\n",
      "Epoch 46, batch 1599:\n",
      "Average original gradient norm: 6.689373232424259 (over last 800 batches)\n",
      "Average clipped gradient norm: 1.9995218957960605 (over last 800 batches)\n",
      "Running average global loss: 0.9852483352273702 (over last 800 batches)\n",
      "Running average activity prediction loss: 0.2930755287408829 (Cross Entropy over last 800 batches)\n",
      "Running average time till next event prediction loss: 0.1592776263318956 (MAE over last 800 batches)\n",
      "Running average (complete) remaining runtime prediction loss: 0.5328951798379421 (MAE over last 800 batches)\n",
      "------------------------------------------------------------\n"
     ]
    },
    {
     "name": "stderr",
     "output_type": "stream",
     "text": [
      "Batch calculation at epoch 46.: 2403it [01:52, 20.48it/s]"
     ]
    },
    {
     "name": "stdout",
     "output_type": "stream",
     "text": [
      "------------------------------------------------------------\n",
      "Epoch 46, batch 2399:\n",
      "Average original gradient norm: 7.112349921762943 (over last 800 batches)\n",
      "Average clipped gradient norm: 1.9998048393428325 (over last 800 batches)\n",
      "Running average global loss: 0.9812771276384592 (over last 800 batches)\n",
      "Running average activity prediction loss: 0.2929017821326852 (Cross Entropy over last 800 batches)\n",
      "Running average time till next event prediction loss: 0.15839052136056125 (MAE over last 800 batches)\n",
      "Running average (complete) remaining runtime prediction loss: 0.5299848227202892 (MAE over last 800 batches)\n",
      "------------------------------------------------------------\n"
     ]
    },
    {
     "name": "stderr",
     "output_type": "stream",
     "text": [
      "Batch calculation at epoch 46.: 3204it [02:30, 20.69it/s]"
     ]
    },
    {
     "name": "stdout",
     "output_type": "stream",
     "text": [
      "------------------------------------------------------------\n",
      "Epoch 46, batch 3199:\n",
      "Average original gradient norm: 7.050585814714432 (over last 800 batches)\n",
      "Average clipped gradient norm: 1.9993100881576538 (over last 800 batches)\n",
      "Running average global loss: 0.97832265175879 (over last 800 batches)\n",
      "Running average activity prediction loss: 0.2925334860384464 (Cross Entropy over last 800 batches)\n",
      "Running average time till next event prediction loss: 0.15836026853881777 (MAE over last 800 batches)\n",
      "Running average (complete) remaining runtime prediction loss: 0.5274288965389132 (MAE over last 800 batches)\n",
      "------------------------------------------------------------\n"
     ]
    },
    {
     "name": "stderr",
     "output_type": "stream",
     "text": [
      "Batch calculation at epoch 46.: 4002it [03:08, 20.99it/s]"
     ]
    },
    {
     "name": "stdout",
     "output_type": "stream",
     "text": [
      "------------------------------------------------------------\n",
      "Epoch 46, batch 3999:\n",
      "Average original gradient norm: 7.44580017477274 (over last 800 batches)\n",
      "Average clipped gradient norm: 1.9999996630847454 (over last 800 batches)\n",
      "Running average global loss: 0.9842379631102085 (over last 800 batches)\n",
      "Running average activity prediction loss: 0.2927162243425846 (Cross Entropy over last 800 batches)\n",
      "Running average time till next event prediction loss: 0.15901845699176193 (MAE over last 800 batches)\n",
      "Running average (complete) remaining runtime prediction loss: 0.53250327963382 (MAE over last 800 batches)\n",
      "------------------------------------------------------------\n"
     ]
    },
    {
     "name": "stderr",
     "output_type": "stream",
     "text": [
      "Batch calculation at epoch 46.: 4798it [03:46, 21.16it/s]\n"
     ]
    },
    {
     "name": "stdout",
     "output_type": "stream",
     "text": [
      "=======================================\n",
      "End of epoch 46\n",
      "=======================================\n",
      "Running average global loss: 0.9826185800880194 (over last 800 batches)\n",
      "Running average activity prediction loss: 0.2925932067632675 (Cross Entropy over last 800 batches)\n",
      "Running average time till next event prediction loss: 0.15866883664391934 (MAE over last 800 batches)\n",
      "Running average (complete) remaining runtime prediction loss: 0.5313565374538303 (MAE over last 800 batches)\n"
     ]
    },
    {
     "name": "stderr",
     "output_type": "stream",
     "text": [
      "Validation batch calculation: 36it [15:46, 26.30s/it]\n"
     ]
    },
    {
     "name": "stdout",
     "output_type": "stream",
     "text": [
      "Avg MAE TTNE prediction validation set: 0.21101203560829163 (standardized) ; 782.0123046875 (minutes)'\n",
      "Avg 1-(normalized) DL distance acitivty suffix prediction validation set: 0.3477866053581238\n",
      "Percentage of suffixes predicted to END: too early - 0.04877232980880154 ; right moment - 0.10308743523758165 ; too late - 0.8481402349536168\n",
      "Too early instances - avg amount of events too early: 9.3080472946167\n",
      "Too late instances - avg amount of events too late: 41.36601257324219\n",
      "Avg absolute amount of events predicted too early / too late: 35.53815460205078\n",
      "Avg MAE RRT prediction validation set: 0.4917105734348297 (standardized) ; 8252.525 (minutes)'\n",
      " \n",
      "------------------------------------\n",
      "EPOCH 47:\n",
      "____________________________________\n"
     ]
    },
    {
     "name": "stderr",
     "output_type": "stream",
     "text": [
      "Batch calculation at epoch 47.: 804it [00:37, 20.53it/s]"
     ]
    },
    {
     "name": "stdout",
     "output_type": "stream",
     "text": [
      "------------------------------------------------------------\n",
      "Epoch 47, batch 799:\n",
      "Average original gradient norm: 7.01341355368495 (over last 800 batches)\n",
      "Average clipped gradient norm: 1.9990310649573804 (over last 800 batches)\n",
      "Running average global loss: 0.9817467281967401 (over last 800 batches)\n",
      "Running average activity prediction loss: 0.29263520792126657 (Cross Entropy over last 800 batches)\n",
      "Running average time till next event prediction loss: 0.1594922406319529 (MAE over last 800 batches)\n",
      "Running average (complete) remaining runtime prediction loss: 0.5296192787587642 (MAE over last 800 batches)\n",
      "------------------------------------------------------------\n"
     ]
    },
    {
     "name": "stderr",
     "output_type": "stream",
     "text": [
      "Batch calculation at epoch 47.: 1602it [01:15, 21.31it/s]"
     ]
    },
    {
     "name": "stdout",
     "output_type": "stream",
     "text": [
      "------------------------------------------------------------\n",
      "Epoch 47, batch 1599:\n",
      "Average original gradient norm: 7.318949646055699 (over last 800 batches)\n",
      "Average clipped gradient norm: 1.9999996601045131 (over last 800 batches)\n",
      "Running average global loss: 0.9825686723738909 (over last 800 batches)\n",
      "Running average activity prediction loss: 0.2927634738385677 (Cross Entropy over last 800 batches)\n",
      "Running average time till next event prediction loss: 0.15873804794624446 (MAE over last 800 batches)\n",
      "Running average (complete) remaining runtime prediction loss: 0.5310671517252922 (MAE over last 800 batches)\n",
      "------------------------------------------------------------\n"
     ]
    },
    {
     "name": "stderr",
     "output_type": "stream",
     "text": [
      "Batch calculation at epoch 47.: 2403it [01:53, 21.17it/s]"
     ]
    },
    {
     "name": "stdout",
     "output_type": "stream",
     "text": [
      "------------------------------------------------------------\n",
      "Epoch 47, batch 2399:\n",
      "Average original gradient norm: 7.343977571278811 (over last 800 batches)\n",
      "Average clipped gradient norm: 1.9998895417153835 (over last 800 batches)\n",
      "Running average global loss: 0.9841828694194555 (over last 800 batches)\n",
      "Running average activity prediction loss: 0.292457563392818 (Cross Entropy over last 800 batches)\n",
      "Running average time till next event prediction loss: 0.15907846312969923 (MAE over last 800 batches)\n",
      "Running average (complete) remaining runtime prediction loss: 0.5326468421146273 (MAE over last 800 batches)\n",
      "------------------------------------------------------------\n"
     ]
    },
    {
     "name": "stderr",
     "output_type": "stream",
     "text": [
      "Batch calculation at epoch 47.: 3204it [02:31, 21.16it/s]"
     ]
    },
    {
     "name": "stdout",
     "output_type": "stream",
     "text": [
      "------------------------------------------------------------\n",
      "Epoch 47, batch 3199:\n",
      "Average original gradient norm: 7.139406855404377 (over last 800 batches)\n",
      "Average clipped gradient norm: 1.9995200027525426 (over last 800 batches)\n",
      "Running average global loss: 0.9818918135017156 (over last 800 batches)\n",
      "Running average activity prediction loss: 0.29245741821825505 (Cross Entropy over last 800 batches)\n",
      "Running average time till next event prediction loss: 0.15892433024942876 (MAE over last 800 batches)\n",
      "Running average (complete) remaining runtime prediction loss: 0.5305100640654564 (MAE over last 800 batches)\n",
      "------------------------------------------------------------\n"
     ]
    },
    {
     "name": "stderr",
     "output_type": "stream",
     "text": [
      "Batch calculation at epoch 47.: 4002it [03:09, 21.22it/s]"
     ]
    },
    {
     "name": "stdout",
     "output_type": "stream",
     "text": [
      "------------------------------------------------------------\n",
      "Epoch 47, batch 3999:\n",
      "Average original gradient norm: 7.259888824224472 (over last 800 batches)\n",
      "Average clipped gradient norm: 1.9998203897476197 (over last 800 batches)\n",
      "Running average global loss: 0.981940698698163 (over last 800 batches)\n",
      "Running average activity prediction loss: 0.29193046502768993 (Cross Entropy over last 800 batches)\n",
      "Running average time till next event prediction loss: 0.15817481784150003 (MAE over last 800 batches)\n",
      "Running average (complete) remaining runtime prediction loss: 0.5318354151770472 (MAE over last 800 batches)\n",
      "------------------------------------------------------------\n"
     ]
    },
    {
     "name": "stderr",
     "output_type": "stream",
     "text": [
      "Batch calculation at epoch 47.: 4798it [03:47, 21.08it/s]\n"
     ]
    },
    {
     "name": "stdout",
     "output_type": "stream",
     "text": [
      "=======================================\n",
      "End of epoch 47\n",
      "=======================================\n",
      "Running average global loss: 0.9790724213421345 (over last 800 batches)\n",
      "Running average activity prediction loss: 0.29266177654266357 (Cross Entropy over last 800 batches)\n",
      "Running average time till next event prediction loss: 0.1577864161785692 (MAE over last 800 batches)\n",
      "Running average (complete) remaining runtime prediction loss: 0.528624228015542 (MAE over last 800 batches)\n"
     ]
    },
    {
     "name": "stderr",
     "output_type": "stream",
     "text": [
      "Validation batch calculation: 36it [15:48, 26.36s/it]\n"
     ]
    },
    {
     "name": "stdout",
     "output_type": "stream",
     "text": [
      "Avg MAE TTNE prediction validation set: 0.21046112477779388 (standardized) ; 779.9585286458333 (minutes)'\n",
      "Avg 1-(normalized) DL distance acitivty suffix prediction validation set: 0.3744378983974457\n",
      "Percentage of suffixes predicted to END: too early - 0.06411735393898851 ; right moment - 0.10411134699004075 ; too late - 0.8317712990709707\n",
      "Too early instances - avg amount of events too early: 8.873310089111328\n",
      "Too late instances - avg amount of events too late: 35.36486053466797\n",
      "Avg absolute amount of events predicted too early / too late: 29.98440933227539\n",
      "Avg MAE RRT prediction validation set: 0.4937063455581665 (standardized) ; 8282.158333333333 (minutes)'\n",
      " \n",
      "------------------------------------\n",
      "EPOCH 48:\n",
      "____________________________________\n"
     ]
    },
    {
     "name": "stderr",
     "output_type": "stream",
     "text": [
      "Batch calculation at epoch 48.: 804it [00:37, 21.68it/s]"
     ]
    },
    {
     "name": "stdout",
     "output_type": "stream",
     "text": [
      "------------------------------------------------------------\n",
      "Epoch 48, batch 799:\n",
      "Average original gradient norm: 7.189931628108025 (over last 800 batches)\n",
      "Average clipped gradient norm: 1.9992046312987803 (over last 800 batches)\n",
      "Running average global loss: 0.9831387053430081 (over last 800 batches)\n",
      "Running average activity prediction loss: 0.29274867810308935 (Cross Entropy over last 800 batches)\n",
      "Running average time till next event prediction loss: 0.15912872952409088 (MAE over last 800 batches)\n",
      "Running average (complete) remaining runtime prediction loss: 0.5312612973898649 (MAE over last 800 batches)\n",
      "------------------------------------------------------------\n"
     ]
    },
    {
     "name": "stderr",
     "output_type": "stream",
     "text": [
      "Batch calculation at epoch 48.: 1602it [01:15, 21.38it/s]"
     ]
    },
    {
     "name": "stdout",
     "output_type": "stream",
     "text": [
      "------------------------------------------------------------\n",
      "Epoch 48, batch 1599:\n",
      "Average original gradient norm: 7.296509851515293 (over last 800 batches)\n",
      "Average clipped gradient norm: 1.9994750207662582 (over last 800 batches)\n",
      "Running average global loss: 0.9813069525361061 (over last 800 batches)\n",
      "Running average activity prediction loss: 0.29211525388062 (Cross Entropy over last 800 batches)\n",
      "Running average time till next event prediction loss: 0.15851929700933398 (MAE over last 800 batches)\n",
      "Running average (complete) remaining runtime prediction loss: 0.5306723999604582 (MAE over last 800 batches)\n",
      "------------------------------------------------------------\n"
     ]
    },
    {
     "name": "stderr",
     "output_type": "stream",
     "text": [
      "Batch calculation at epoch 48.: 2402it [01:53, 21.02it/s]"
     ]
    },
    {
     "name": "stdout",
     "output_type": "stream",
     "text": [
      "------------------------------------------------------------\n",
      "Epoch 48, batch 2399:\n",
      "Average original gradient norm: 7.544575534462929 (over last 800 batches)\n",
      "Average clipped gradient norm: 1.9998936252295971 (over last 800 batches)\n",
      "Running average global loss: 0.9816770158708096 (over last 800 batches)\n",
      "Running average activity prediction loss: 0.29280062664300205 (Cross Entropy over last 800 batches)\n",
      "Running average time till next event prediction loss: 0.15833509027957915 (MAE over last 800 batches)\n",
      "Running average (complete) remaining runtime prediction loss: 0.53054129909724 (MAE over last 800 batches)\n",
      "------------------------------------------------------------\n"
     ]
    },
    {
     "name": "stderr",
     "output_type": "stream",
     "text": [
      "Batch calculation at epoch 48.: 3203it [02:31, 21.07it/s]"
     ]
    },
    {
     "name": "stdout",
     "output_type": "stream",
     "text": [
      "------------------------------------------------------------\n",
      "Epoch 48, batch 3199:\n",
      "Average original gradient norm: 7.405038451552391 (over last 800 batches)\n",
      "Average clipped gradient norm: 1.9999996702373029 (over last 800 batches)\n",
      "Running average global loss: 0.9808016709983349 (over last 800 batches)\n",
      "Running average activity prediction loss: 0.29165755994617937 (Cross Entropy over last 800 batches)\n",
      "Running average time till next event prediction loss: 0.15897665404714645 (MAE over last 800 batches)\n",
      "Running average (complete) remaining runtime prediction loss: 0.5301674573868513 (MAE over last 800 batches)\n",
      "------------------------------------------------------------\n"
     ]
    },
    {
     "name": "stderr",
     "output_type": "stream",
     "text": [
      "Batch calculation at epoch 48.: 4004it [03:10, 18.27it/s]"
     ]
    },
    {
     "name": "stdout",
     "output_type": "stream",
     "text": [
      "------------------------------------------------------------\n",
      "Epoch 48, batch 3999:\n",
      "Average original gradient norm: 7.3770466634631156 (over last 800 batches)\n",
      "Average clipped gradient norm: 1.999999649822712 (over last 800 batches)\n",
      "Running average global loss: 0.9800741381943225 (over last 800 batches)\n",
      "Running average activity prediction loss: 0.2926440991461277 (Cross Entropy over last 800 batches)\n",
      "Running average time till next event prediction loss: 0.15818647319450974 (MAE over last 800 batches)\n",
      "Running average (complete) remaining runtime prediction loss: 0.5292435663565993 (MAE over last 800 batches)\n",
      "------------------------------------------------------------\n"
     ]
    },
    {
     "name": "stderr",
     "output_type": "stream",
     "text": [
      "Batch calculation at epoch 48.: 4798it [03:48, 21.01it/s]\n"
     ]
    },
    {
     "name": "stdout",
     "output_type": "stream",
     "text": [
      "=======================================\n",
      "End of epoch 48\n",
      "=======================================\n",
      "Running average global loss: 0.983027425929904 (over last 800 batches)\n",
      "Running average activity prediction loss: 0.2917399524524808 (Cross Entropy over last 800 batches)\n",
      "Running average time till next event prediction loss: 0.1588723802473396 (MAE over last 800 batches)\n",
      "Running average (complete) remaining runtime prediction loss: 0.532415093369782 (MAE over last 800 batches)\n"
     ]
    },
    {
     "name": "stderr",
     "output_type": "stream",
     "text": [
      "Validation batch calculation: 36it [15:44, 26.25s/it]\n"
     ]
    },
    {
     "name": "stdout",
     "output_type": "stream",
     "text": [
      "Avg MAE TTNE prediction validation set: 0.2115960568189621 (standardized) ; 784.0354166666667 (minutes)'\n",
      "Avg 1-(normalized) DL distance acitivty suffix prediction validation set: 0.3443107306957245\n",
      "Percentage of suffixes predicted to END: too early - 0.04519546475354444 ; right moment - 0.10129217663160338 ; too late - 0.8535123586148522\n",
      "Too early instances - avg amount of events too early: 8.93445110321045\n",
      "Too late instances - avg amount of events too late: 40.91679382324219\n",
      "Avg absolute amount of events predicted too early / too late: 35.326786041259766\n",
      "Avg MAE RRT prediction validation set: 0.491352379322052 (standardized) ; 8245.836979166666 (minutes)'\n",
      " \n",
      "------------------------------------\n",
      "EPOCH 49:\n",
      "____________________________________\n"
     ]
    },
    {
     "name": "stderr",
     "output_type": "stream",
     "text": [
      "Batch calculation at epoch 49.: 802it [00:37, 21.62it/s]"
     ]
    },
    {
     "name": "stdout",
     "output_type": "stream",
     "text": [
      "------------------------------------------------------------\n",
      "Epoch 49, batch 799:\n",
      "Average original gradient norm: 7.323463012874126 (over last 800 batches)\n",
      "Average clipped gradient norm: 1.9999996358156205 (over last 800 batches)\n",
      "Running average global loss: 0.980629198551178 (over last 800 batches)\n",
      "Running average activity prediction loss: 0.2921152150258422 (Cross Entropy over last 800 batches)\n",
      "Running average time till next event prediction loss: 0.15805990711785853 (MAE over last 800 batches)\n",
      "Running average (complete) remaining runtime prediction loss: 0.5304540752619505 (MAE over last 800 batches)\n",
      "------------------------------------------------------------\n"
     ]
    },
    {
     "name": "stderr",
     "output_type": "stream",
     "text": [
      "Batch calculation at epoch 49.: 1603it [01:15, 21.42it/s]"
     ]
    },
    {
     "name": "stdout",
     "output_type": "stream",
     "text": [
      "------------------------------------------------------------\n",
      "Epoch 49, batch 1599:\n",
      "Average original gradient norm: 7.650359469503164 (over last 800 batches)\n",
      "Average clipped gradient norm: 1.9995912855863571 (over last 800 batches)\n",
      "Running average global loss: 0.9791002074629068 (over last 800 batches)\n",
      "Running average activity prediction loss: 0.29104974448680876 (Cross Entropy over last 800 batches)\n",
      "Running average time till next event prediction loss: 0.1584185632597655 (MAE over last 800 batches)\n",
      "Running average (complete) remaining runtime prediction loss: 0.5296319003030657 (MAE over last 800 batches)\n",
      "------------------------------------------------------------\n"
     ]
    },
    {
     "name": "stderr",
     "output_type": "stream",
     "text": [
      "Batch calculation at epoch 49.: 2404it [01:52, 21.25it/s]"
     ]
    },
    {
     "name": "stdout",
     "output_type": "stream",
     "text": [
      "------------------------------------------------------------\n",
      "Epoch 49, batch 2399:\n",
      "Average original gradient norm: 7.308649870753288 (over last 800 batches)\n",
      "Average clipped gradient norm: 1.9999996528029442 (over last 800 batches)\n",
      "Running average global loss: 0.9770065132528544 (over last 800 batches)\n",
      "Running average activity prediction loss: 0.2921465366333723 (Cross Entropy over last 800 batches)\n",
      "Running average time till next event prediction loss: 0.1576412484422326 (MAE over last 800 batches)\n",
      "Running average (complete) remaining runtime prediction loss: 0.5272187276929617 (MAE over last 800 batches)\n",
      "------------------------------------------------------------\n"
     ]
    },
    {
     "name": "stderr",
     "output_type": "stream",
     "text": [
      "Batch calculation at epoch 49.: 3202it [02:30, 21.34it/s]"
     ]
    },
    {
     "name": "stdout",
     "output_type": "stream",
     "text": [
      "------------------------------------------------------------\n",
      "Epoch 49, batch 3199:\n",
      "Average original gradient norm: 7.737770628035069 (over last 800 batches)\n",
      "Average clipped gradient norm: 1.9999996733665466 (over last 800 batches)\n",
      "Running average global loss: 0.9832356608659029 (over last 800 batches)\n",
      "Running average activity prediction loss: 0.2921082353964448 (Cross Entropy over last 800 batches)\n",
      "Running average time till next event prediction loss: 0.15918147803284227 (MAE over last 800 batches)\n",
      "Running average (complete) remaining runtime prediction loss: 0.5319459478929639 (MAE over last 800 batches)\n",
      "------------------------------------------------------------\n"
     ]
    },
    {
     "name": "stderr",
     "output_type": "stream",
     "text": [
      "Batch calculation at epoch 49.: 4003it [03:08, 21.28it/s]"
     ]
    },
    {
     "name": "stdout",
     "output_type": "stream",
     "text": [
      "------------------------------------------------------------\n",
      "Epoch 49, batch 3999:\n",
      "Average original gradient norm: 7.386346566528082 (over last 800 batches)\n",
      "Average clipped gradient norm: 1.9997284753620626 (over last 800 batches)\n",
      "Running average global loss: 0.9831745767593384 (over last 800 batches)\n",
      "Running average activity prediction loss: 0.2921563001722097 (Cross Entropy over last 800 batches)\n",
      "Running average time till next event prediction loss: 0.1589519132208079 (MAE over last 800 batches)\n",
      "Running average (complete) remaining runtime prediction loss: 0.5320663641393185 (MAE over last 800 batches)\n",
      "------------------------------------------------------------\n"
     ]
    },
    {
     "name": "stderr",
     "output_type": "stream",
     "text": [
      "Batch calculation at epoch 49.: 4798it [03:45, 21.26it/s]\n"
     ]
    },
    {
     "name": "stdout",
     "output_type": "stream",
     "text": [
      "=======================================\n",
      "End of epoch 49\n",
      "=======================================\n",
      "Running average global loss: 0.9850418379157782 (over last 800 batches)\n",
      "Running average activity prediction loss: 0.29194297179579737 (Cross Entropy over last 800 batches)\n",
      "Running average time till next event prediction loss: 0.15948712759651243 (MAE over last 800 batches)\n",
      "Running average (complete) remaining runtime prediction loss: 0.533611737638712 (MAE over last 800 batches)\n"
     ]
    },
    {
     "name": "stderr",
     "output_type": "stream",
     "text": [
      "Validation batch calculation: 36it [15:47, 26.32s/it]\n"
     ]
    },
    {
     "name": "stdout",
     "output_type": "stream",
     "text": [
      "Avg MAE TTNE prediction validation set: 0.21064980328083038 (standardized) ; 780.5342447916667 (minutes)'\n",
      "Avg 1-(normalized) DL distance acitivty suffix prediction validation set: 0.36004582047462463\n",
      "Percentage of suffixes predicted to END: too early - 0.0643903970729776 ; right moment - 0.10342873915506802 ; too late - 0.8321808637719543\n",
      "Too early instances - avg amount of events too early: 9.288667678833008\n",
      "Too late instances - avg amount of events too late: 38.216461181640625\n",
      "Avg absolute amount of events predicted too early / too late: 32.40110778808594\n",
      "Avg MAE RRT prediction validation set: 0.490644633769989 (standardized) ; 8226.9125 (minutes)'\n",
      " \n",
      "------------------------------------\n",
      "EPOCH 50:\n",
      "____________________________________\n"
     ]
    },
    {
     "name": "stderr",
     "output_type": "stream",
     "text": [
      "Batch calculation at epoch 50.: 802it [00:40, 20.48it/s]"
     ]
    },
    {
     "name": "stdout",
     "output_type": "stream",
     "text": [
      "------------------------------------------------------------\n",
      "Epoch 50, batch 799:\n",
      "Average original gradient norm: 7.477423713505268 (over last 800 batches)\n",
      "Average clipped gradient norm: 1.9999996581673622 (over last 800 batches)\n",
      "Running average global loss: 0.980850952938199 (over last 800 batches)\n",
      "Running average activity prediction loss: 0.2923532980307937 (Cross Entropy over last 800 batches)\n",
      "Running average time till next event prediction loss: 0.15826422098092735 (MAE over last 800 batches)\n",
      "Running average (complete) remaining runtime prediction loss: 0.5302334341779351 (MAE over last 800 batches)\n",
      "------------------------------------------------------------\n"
     ]
    },
    {
     "name": "stderr",
     "output_type": "stream",
     "text": [
      "Batch calculation at epoch 50.: 1603it [01:19, 20.34it/s]"
     ]
    },
    {
     "name": "stdout",
     "output_type": "stream",
     "text": [
      "------------------------------------------------------------\n",
      "Epoch 50, batch 1599:\n",
      "Average original gradient norm: 7.239903002977371 (over last 800 batches)\n",
      "Average clipped gradient norm: 1.9997509583830833 (over last 800 batches)\n",
      "Running average global loss: 0.9825276195257903 (over last 800 batches)\n",
      "Running average activity prediction loss: 0.2915088736265898 (Cross Entropy over last 800 batches)\n",
      "Running average time till next event prediction loss: 0.15888613601215185 (MAE over last 800 batches)\n",
      "Running average (complete) remaining runtime prediction loss: 0.5321326093375682 (MAE over last 800 batches)\n",
      "------------------------------------------------------------\n"
     ]
    },
    {
     "name": "stderr",
     "output_type": "stream",
     "text": [
      "Batch calculation at epoch 50.: 2404it [01:57, 21.35it/s]"
     ]
    },
    {
     "name": "stdout",
     "output_type": "stream",
     "text": [
      "------------------------------------------------------------\n",
      "Epoch 50, batch 2399:\n",
      "Average original gradient norm: 7.338251047134399 (over last 800 batches)\n",
      "Average clipped gradient norm: 1.9999996480345725 (over last 800 batches)\n",
      "Running average global loss: 0.9812486030906439 (over last 800 batches)\n",
      "Running average activity prediction loss: 0.29144498117268086 (Cross Entropy over last 800 batches)\n",
      "Running average time till next event prediction loss: 0.15911089736036957 (MAE over last 800 batches)\n",
      "Running average (complete) remaining runtime prediction loss: 0.5306927245855332 (MAE over last 800 batches)\n",
      "------------------------------------------------------------\n"
     ]
    },
    {
     "name": "stderr",
     "output_type": "stream",
     "text": [
      "Batch calculation at epoch 50.: 3202it [02:35, 21.23it/s]"
     ]
    },
    {
     "name": "stdout",
     "output_type": "stream",
     "text": [
      "------------------------------------------------------------\n",
      "Epoch 50, batch 3199:\n",
      "Average original gradient norm: 7.476770796179771 (over last 800 batches)\n",
      "Average clipped gradient norm: 1.9999213710427284 (over last 800 batches)\n",
      "Running average global loss: 0.9804998985677957 (over last 800 batches)\n",
      "Running average activity prediction loss: 0.29147902466356757 (Cross Entropy over last 800 batches)\n",
      "Running average time till next event prediction loss: 0.15841983788646757 (MAE over last 800 batches)\n",
      "Running average (complete) remaining runtime prediction loss: 0.5306010369211436 (MAE over last 800 batches)\n",
      "------------------------------------------------------------\n"
     ]
    },
    {
     "name": "stderr",
     "output_type": "stream",
     "text": [
      "Batch calculation at epoch 50.: 4003it [03:13, 21.17it/s]"
     ]
    },
    {
     "name": "stdout",
     "output_type": "stream",
     "text": [
      "------------------------------------------------------------\n",
      "Epoch 50, batch 3999:\n",
      "Average original gradient norm: 7.393564069718122 (over last 800 batches)\n",
      "Average clipped gradient norm: 1.999889094978571 (over last 800 batches)\n",
      "Running average global loss: 0.9794897373765707 (over last 800 batches)\n",
      "Running average activity prediction loss: 0.2921285260468721 (Cross Entropy over last 800 batches)\n",
      "Running average time till next event prediction loss: 0.15823804919607937 (MAE over last 800 batches)\n",
      "Running average (complete) remaining runtime prediction loss: 0.5291231633722782 (MAE over last 800 batches)\n",
      "------------------------------------------------------------\n"
     ]
    },
    {
     "name": "stderr",
     "output_type": "stream",
     "text": [
      "Batch calculation at epoch 50.: 4798it [03:50, 20.78it/s]\n"
     ]
    },
    {
     "name": "stdout",
     "output_type": "stream",
     "text": [
      "=======================================\n",
      "End of epoch 50\n",
      "=======================================\n",
      "Running average global loss: 0.9814178226888179 (over last 800 batches)\n",
      "Running average activity prediction loss: 0.2919847506284714 (Cross Entropy over last 800 batches)\n",
      "Running average time till next event prediction loss: 0.15881020428612827 (MAE over last 800 batches)\n",
      "Running average (complete) remaining runtime prediction loss: 0.5306228674575686 (MAE over last 800 batches)\n"
     ]
    },
    {
     "name": "stderr",
     "output_type": "stream",
     "text": [
      "Validation batch calculation: 36it [15:45, 26.28s/it]\n"
     ]
    },
    {
     "name": "stdout",
     "output_type": "stream",
     "text": [
      "Avg MAE TTNE prediction validation set: 0.2106388509273529 (standardized) ; 780.4892578125 (minutes)'\n",
      "Avg 1-(normalized) DL distance acitivty suffix prediction validation set: 0.355042040348053\n",
      "Percentage of suffixes predicted to END: too early - 0.053646149750506834 ; right moment - 0.10420691208693693 ; too late - 0.8421469381625563\n",
      "Too early instances - avg amount of events too early: 9.271917343139648\n",
      "Too late instances - avg amount of events too late: 38.63471603393555\n",
      "Avg absolute amount of events predicted too early / too late: 33.03350830078125\n",
      "Avg MAE RRT prediction validation set: 0.4914689064025879 (standardized) ; 8249.7515625 (minutes)'\n",
      " \n",
      "------------------------------------\n",
      "EPOCH 51:\n",
      "____________________________________\n"
     ]
    },
    {
     "name": "stderr",
     "output_type": "stream",
     "text": [
      "Batch calculation at epoch 51.: 803it [00:37, 20.75it/s]"
     ]
    },
    {
     "name": "stdout",
     "output_type": "stream",
     "text": [
      "------------------------------------------------------------\n",
      "Epoch 51, batch 799:\n",
      "Average original gradient norm: 7.342219253182411 (over last 800 batches)\n",
      "Average clipped gradient norm: 1.999999657869339 (over last 800 batches)\n",
      "Running average global loss: 0.9835865653306246 (over last 800 batches)\n",
      "Running average activity prediction loss: 0.2917993899807334 (Cross Entropy over last 800 batches)\n",
      "Running average time till next event prediction loss: 0.15902802707627417 (MAE over last 800 batches)\n",
      "Running average (complete) remaining runtime prediction loss: 0.5327591487020255 (MAE over last 800 batches)\n",
      "------------------------------------------------------------\n"
     ]
    },
    {
     "name": "stderr",
     "output_type": "stream",
     "text": [
      "Batch calculation at epoch 51.: 1604it [01:16, 20.58it/s]"
     ]
    },
    {
     "name": "stdout",
     "output_type": "stream",
     "text": [
      "------------------------------------------------------------\n",
      "Epoch 51, batch 1599:\n",
      "Average original gradient norm: 7.528575436770916 (over last 800 batches)\n",
      "Average clipped gradient norm: 1.9994221226871014 (over last 800 batches)\n",
      "Running average global loss: 0.9814671092480421 (over last 800 batches)\n",
      "Running average activity prediction loss: 0.2918714840337634 (Cross Entropy over last 800 batches)\n",
      "Running average time till next event prediction loss: 0.15844918676652014 (MAE over last 800 batches)\n",
      "Running average (complete) remaining runtime prediction loss: 0.5311464396119118 (MAE over last 800 batches)\n",
      "------------------------------------------------------------\n"
     ]
    },
    {
     "name": "stderr",
     "output_type": "stream",
     "text": [
      "Batch calculation at epoch 51.: 2402it [01:55, 20.39it/s]"
     ]
    },
    {
     "name": "stdout",
     "output_type": "stream",
     "text": [
      "------------------------------------------------------------\n",
      "Epoch 51, batch 2399:\n",
      "Average original gradient norm: 7.476830536723137 (over last 800 batches)\n",
      "Average clipped gradient norm: 1.999743137806654 (over last 800 batches)\n",
      "Running average global loss: 0.9786827129870653 (over last 800 batches)\n",
      "Running average activity prediction loss: 0.29169735390692947 (Cross Entropy over last 800 batches)\n",
      "Running average time till next event prediction loss: 0.15794699312187732 (MAE over last 800 batches)\n",
      "Running average (complete) remaining runtime prediction loss: 0.5290383671224117 (MAE over last 800 batches)\n",
      "------------------------------------------------------------\n"
     ]
    },
    {
     "name": "stderr",
     "output_type": "stream",
     "text": [
      "Batch calculation at epoch 51.: 3204it [02:34, 20.30it/s]"
     ]
    },
    {
     "name": "stdout",
     "output_type": "stream",
     "text": [
      "------------------------------------------------------------\n",
      "Epoch 51, batch 3199:\n",
      "Average original gradient norm: 7.2219322103261945 (over last 800 batches)\n",
      "Average clipped gradient norm: 1.9999996545910834 (over last 800 batches)\n",
      "Running average global loss: 0.9816740053147077 (over last 800 batches)\n",
      "Running average activity prediction loss: 0.29127637460827827 (Cross Entropy over last 800 batches)\n",
      "Running average time till next event prediction loss: 0.15887906206771732 (MAE over last 800 batches)\n",
      "Running average (complete) remaining runtime prediction loss: 0.5315185688436032 (MAE over last 800 batches)\n",
      "------------------------------------------------------------\n"
     ]
    },
    {
     "name": "stderr",
     "output_type": "stream",
     "text": [
      "Batch calculation at epoch 51.: 4002it [03:12, 21.29it/s]"
     ]
    },
    {
     "name": "stdout",
     "output_type": "stream",
     "text": [
      "------------------------------------------------------------\n",
      "Epoch 51, batch 3999:\n",
      "Average original gradient norm: 7.5731469203531745 (over last 800 batches)\n",
      "Average clipped gradient norm: 1.9995960906147956 (over last 800 batches)\n",
      "Running average global loss: 0.9779779364168644 (over last 800 batches)\n",
      "Running average activity prediction loss: 0.2913841200619936 (Cross Entropy over last 800 batches)\n",
      "Running average time till next event prediction loss: 0.15839350681751965 (MAE over last 800 batches)\n",
      "Running average (complete) remaining runtime prediction loss: 0.5282003112509847 (MAE over last 800 batches)\n",
      "------------------------------------------------------------\n"
     ]
    },
    {
     "name": "stderr",
     "output_type": "stream",
     "text": [
      "Batch calculation at epoch 51.: 4798it [03:50, 20.80it/s]\n"
     ]
    },
    {
     "name": "stdout",
     "output_type": "stream",
     "text": [
      "=======================================\n",
      "End of epoch 51\n",
      "=======================================\n",
      "Running average global loss: 0.9795972753316164 (over last 800 batches)\n",
      "Running average activity prediction loss: 0.29115635458379985 (Cross Entropy over last 800 batches)\n",
      "Running average time till next event prediction loss: 0.1585736428759992 (MAE over last 800 batches)\n",
      "Running average (complete) remaining runtime prediction loss: 0.5298672766983509 (MAE over last 800 batches)\n"
     ]
    },
    {
     "name": "stderr",
     "output_type": "stream",
     "text": [
      "Validation batch calculation: 36it [15:45, 26.26s/it]\n"
     ]
    },
    {
     "name": "stdout",
     "output_type": "stream",
     "text": [
      "Avg MAE TTNE prediction validation set: 0.21076875925064087 (standardized) ; 781.04609375 (minutes)'\n",
      "Avg 1-(normalized) DL distance acitivty suffix prediction validation set: 0.37222814559936523\n",
      "Percentage of suffixes predicted to END: too early - 0.06267705140719605 ; right moment - 0.10293726151388766 ; too late - 0.8343856870789162\n",
      "Too early instances - avg amount of events too early: 9.15900707244873\n",
      "Too late instances - avg amount of events too late: 35.223854064941406\n",
      "Avg absolute amount of events predicted too early / too late: 29.964340209960938\n",
      "Avg MAE RRT prediction validation set: 0.4921703338623047 (standardized) ; 8258.575520833334 (minutes)'\n",
      " \n",
      "------------------------------------\n",
      "EPOCH 52:\n",
      "____________________________________\n"
     ]
    },
    {
     "name": "stderr",
     "output_type": "stream",
     "text": [
      "Batch calculation at epoch 52.: 803it [00:38, 21.62it/s]"
     ]
    },
    {
     "name": "stdout",
     "output_type": "stream",
     "text": [
      "------------------------------------------------------------\n",
      "Epoch 52, batch 799:\n",
      "Average original gradient norm: 7.525434405654669 (over last 800 batches)\n",
      "Average clipped gradient norm: 1.9998483988642692 (over last 800 batches)\n",
      "Running average global loss: 0.9786788047850132 (over last 800 batches)\n",
      "Running average activity prediction loss: 0.2918057840317488 (Cross Entropy over last 800 batches)\n",
      "Running average time till next event prediction loss: 0.15803116394206881 (MAE over last 800 batches)\n",
      "Running average (complete) remaining runtime prediction loss: 0.5288418547809124 (MAE over last 800 batches)\n",
      "------------------------------------------------------------\n"
     ]
    },
    {
     "name": "stderr",
     "output_type": "stream",
     "text": [
      "Batch calculation at epoch 52.: 1604it [01:15, 21.45it/s]"
     ]
    },
    {
     "name": "stdout",
     "output_type": "stream",
     "text": [
      "------------------------------------------------------------\n",
      "Epoch 52, batch 1599:\n",
      "Average original gradient norm: 7.566600724756718 (over last 800 batches)\n",
      "Average clipped gradient norm: 1.999999661296606 (over last 800 batches)\n",
      "Running average global loss: 0.9845110636949539 (over last 800 batches)\n",
      "Running average activity prediction loss: 0.29202793676406147 (Cross Entropy over last 800 batches)\n",
      "Running average time till next event prediction loss: 0.15928635373711586 (MAE over last 800 batches)\n",
      "Running average (complete) remaining runtime prediction loss: 0.5331967723369598 (MAE over last 800 batches)\n",
      "------------------------------------------------------------\n"
     ]
    },
    {
     "name": "stderr",
     "output_type": "stream",
     "text": [
      "Batch calculation at epoch 52.: 2402it [01:54, 20.19it/s]"
     ]
    },
    {
     "name": "stdout",
     "output_type": "stream",
     "text": [
      "------------------------------------------------------------\n",
      "Epoch 52, batch 2399:\n",
      "Average original gradient norm: 7.516631496548652 (over last 800 batches)\n",
      "Average clipped gradient norm: 1.9999996642768383 (over last 800 batches)\n",
      "Running average global loss: 0.9797816774994135 (over last 800 batches)\n",
      "Running average activity prediction loss: 0.29104469560086726 (Cross Entropy over last 800 batches)\n",
      "Running average time till next event prediction loss: 0.15846219427883626 (MAE over last 800 batches)\n",
      "Running average (complete) remaining runtime prediction loss: 0.5302747889980673 (MAE over last 800 batches)\n",
      "------------------------------------------------------------\n"
     ]
    },
    {
     "name": "stderr",
     "output_type": "stream",
     "text": [
      "Batch calculation at epoch 52.: 3203it [02:32, 21.23it/s]"
     ]
    },
    {
     "name": "stdout",
     "output_type": "stream",
     "text": [
      "------------------------------------------------------------\n",
      "Epoch 52, batch 3199:\n",
      "Average original gradient norm: 7.440491543412208 (over last 800 batches)\n",
      "Average clipped gradient norm: 1.9999996609985828 (over last 800 batches)\n",
      "Running average global loss: 0.9787867115437985 (over last 800 batches)\n",
      "Running average activity prediction loss: 0.29183423962444066 (Cross Entropy over last 800 batches)\n",
      "Running average time till next event prediction loss: 0.15842989122495055 (MAE over last 800 batches)\n",
      "Running average (complete) remaining runtime prediction loss: 0.5285225807875394 (MAE over last 800 batches)\n",
      "------------------------------------------------------------\n"
     ]
    },
    {
     "name": "stderr",
     "output_type": "stream",
     "text": [
      "Batch calculation at epoch 52.: 4004it [03:10, 21.23it/s]"
     ]
    },
    {
     "name": "stdout",
     "output_type": "stream",
     "text": [
      "------------------------------------------------------------\n",
      "Epoch 52, batch 3999:\n",
      "Average original gradient norm: 7.521223823130131 (over last 800 batches)\n",
      "Average clipped gradient norm: 1.9999996668100357 (over last 800 batches)\n",
      "Running average global loss: 0.977940618172288 (over last 800 batches)\n",
      "Running average activity prediction loss: 0.2904963754862547 (Cross Entropy over last 800 batches)\n",
      "Running average time till next event prediction loss: 0.15828264098614453 (MAE over last 800 batches)\n",
      "Running average (complete) remaining runtime prediction loss: 0.5291616010665894 (MAE over last 800 batches)\n",
      "------------------------------------------------------------\n"
     ]
    },
    {
     "name": "stderr",
     "output_type": "stream",
     "text": [
      "Batch calculation at epoch 52.: 4798it [03:48, 20.98it/s]\n"
     ]
    },
    {
     "name": "stdout",
     "output_type": "stream",
     "text": [
      "=======================================\n",
      "End of epoch 52\n",
      "=======================================\n",
      "Running average global loss: 0.981476829200983 (over last 800 batches)\n",
      "Running average activity prediction loss: 0.29106881611049173 (Cross Entropy over last 800 batches)\n",
      "Running average time till next event prediction loss: 0.15889618309214712 (MAE over last 800 batches)\n",
      "Running average (complete) remaining runtime prediction loss: 0.5315118278563022 (MAE over last 800 batches)\n"
     ]
    },
    {
     "name": "stderr",
     "output_type": "stream",
     "text": [
      "Validation batch calculation: 36it [15:45, 26.26s/it]\n"
     ]
    },
    {
     "name": "stdout",
     "output_type": "stream",
     "text": [
      "Avg MAE TTNE prediction validation set: 0.20964458584785461 (standardized) ; 776.8050130208334 (minutes)'\n",
      "Avg 1-(normalized) DL distance acitivty suffix prediction validation set: 0.38935142755508423\n",
      "Percentage of suffixes predicted to END: too early - 0.07980368198666184 ; right moment - 0.10777695106384431 ; too late - 0.8124193669494938\n",
      "Too early instances - avg amount of events too early: 9.465314865112305\n",
      "Too late instances - avg amount of events too late: 34.385154724121094\n",
      "Avg absolute amount of events predicted too early / too late: 28.690532684326172\n",
      "Avg MAE RRT prediction validation set: 0.4914192855358124 (standardized) ; 8245.859375 (minutes)'\n",
      " \n",
      "------------------------------------\n",
      "EPOCH 53:\n",
      "____________________________________\n"
     ]
    },
    {
     "name": "stderr",
     "output_type": "stream",
     "text": [
      "Batch calculation at epoch 53.: 804it [00:39, 21.20it/s]"
     ]
    },
    {
     "name": "stdout",
     "output_type": "stream",
     "text": [
      "------------------------------------------------------------\n",
      "Epoch 53, batch 799:\n",
      "Average original gradient norm: 7.595429239720106 (over last 800 batches)\n",
      "Average clipped gradient norm: 1.9999523951113225 (over last 800 batches)\n",
      "Running average global loss: 0.9779758706688881 (over last 800 batches)\n",
      "Running average activity prediction loss: 0.29114023588597776 (Cross Entropy over last 800 batches)\n",
      "Running average time till next event prediction loss: 0.15769731451757252 (MAE over last 800 batches)\n",
      "Running average (complete) remaining runtime prediction loss: 0.5291383190453053 (MAE over last 800 batches)\n",
      "------------------------------------------------------------\n"
     ]
    },
    {
     "name": "stderr",
     "output_type": "stream",
     "text": [
      "Batch calculation at epoch 53.: 1604it [01:17, 20.48it/s]"
     ]
    },
    {
     "name": "stdout",
     "output_type": "stream",
     "text": [
      "------------------------------------------------------------\n",
      "Epoch 53, batch 1599:\n",
      "Average original gradient norm: 7.674092271476984 (over last 800 batches)\n",
      "Average clipped gradient norm: 1.9999528074264525 (over last 800 batches)\n",
      "Running average global loss: 0.979817318469286 (over last 800 batches)\n",
      "Running average activity prediction loss: 0.2919772056117654 (Cross Entropy over last 800 batches)\n",
      "Running average time till next event prediction loss: 0.15851962618529797 (MAE over last 800 batches)\n",
      "Running average (complete) remaining runtime prediction loss: 0.5293204855918884 (MAE over last 800 batches)\n",
      "------------------------------------------------------------\n"
     ]
    },
    {
     "name": "stderr",
     "output_type": "stream",
     "text": [
      "Batch calculation at epoch 53.: 2404it [01:56, 21.08it/s]"
     ]
    },
    {
     "name": "stdout",
     "output_type": "stream",
     "text": [
      "------------------------------------------------------------\n",
      "Epoch 53, batch 2399:\n",
      "Average original gradient norm: 7.667348389625549 (over last 800 batches)\n",
      "Average clipped gradient norm: 1.9999996687471866 (over last 800 batches)\n",
      "Running average global loss: 0.9791292904317379 (over last 800 batches)\n",
      "Running average activity prediction loss: 0.2909025300294161 (Cross Entropy over last 800 batches)\n",
      "Running average time till next event prediction loss: 0.1586397683620453 (MAE over last 800 batches)\n",
      "Running average (complete) remaining runtime prediction loss: 0.5295869906619192 (MAE over last 800 batches)\n",
      "------------------------------------------------------------\n"
     ]
    },
    {
     "name": "stderr",
     "output_type": "stream",
     "text": [
      "Batch calculation at epoch 53.: 3202it [02:33, 21.32it/s]"
     ]
    },
    {
     "name": "stdout",
     "output_type": "stream",
     "text": [
      "------------------------------------------------------------\n",
      "Epoch 53, batch 3199:\n",
      "Average original gradient norm: 7.366231108605862 (over last 800 batches)\n",
      "Average clipped gradient norm: 1.9998249918222428 (over last 800 batches)\n",
      "Running average global loss: 0.9806642878800631 (over last 800 batches)\n",
      "Running average activity prediction loss: 0.2911936991475523 (Cross Entropy over last 800 batches)\n",
      "Running average time till next event prediction loss: 0.15891944317147136 (MAE over last 800 batches)\n",
      "Running average (complete) remaining runtime prediction loss: 0.5305511462688446 (MAE over last 800 batches)\n",
      "------------------------------------------------------------\n"
     ]
    },
    {
     "name": "stderr",
     "output_type": "stream",
     "text": [
      "Batch calculation at epoch 53.: 4003it [03:11, 21.36it/s]"
     ]
    },
    {
     "name": "stdout",
     "output_type": "stream",
     "text": [
      "------------------------------------------------------------\n",
      "Epoch 53, batch 3999:\n",
      "Average original gradient norm: 7.768538109660149 (over last 800 batches)\n",
      "Average clipped gradient norm: 1.9997691729664802 (over last 800 batches)\n",
      "Running average global loss: 0.981822141110897 (over last 800 batches)\n",
      "Running average activity prediction loss: 0.29109347097575666 (Cross Entropy over last 800 batches)\n",
      "Running average time till next event prediction loss: 0.15894582809880375 (MAE over last 800 batches)\n",
      "Running average (complete) remaining runtime prediction loss: 0.5317828425765038 (MAE over last 800 batches)\n",
      "------------------------------------------------------------\n"
     ]
    },
    {
     "name": "stderr",
     "output_type": "stream",
     "text": [
      "Batch calculation at epoch 53.: 4798it [03:50, 20.81it/s]\n"
     ]
    },
    {
     "name": "stdout",
     "output_type": "stream",
     "text": [
      "=======================================\n",
      "End of epoch 53\n",
      "=======================================\n",
      "Running average global loss: 0.9801678421348333 (over last 800 batches)\n",
      "Running average activity prediction loss: 0.29064841255545615 (Cross Entropy over last 800 batches)\n",
      "Running average time till next event prediction loss: 0.15838501471094787 (MAE over last 800 batches)\n",
      "Running average (complete) remaining runtime prediction loss: 0.5311344154551625 (MAE over last 800 batches)\n"
     ]
    },
    {
     "name": "stderr",
     "output_type": "stream",
     "text": [
      "Validation batch calculation: 36it [15:45, 26.25s/it]\n"
     ]
    },
    {
     "name": "stdout",
     "output_type": "stream",
     "text": [
      "Avg MAE TTNE prediction validation set: 0.20988501608371735 (standardized) ; 777.6774739583333 (minutes)'\n",
      "Avg 1-(normalized) DL distance acitivty suffix prediction validation set: 0.3615798056125641\n",
      "Percentage of suffixes predicted to END: too early - 0.05823327440152358 ; right moment - 0.10363352150555984 ; too late - 0.8381332040929166\n",
      "Too early instances - avg amount of events too early: 9.283554077148438\n",
      "Too late instances - avg amount of events too late: 37.20122146606445\n",
      "Avg absolute amount of events predicted too early / too late: 31.720191955566406\n",
      "Avg MAE RRT prediction validation set: 0.49134787917137146 (standardized) ; 8244.7421875 (minutes)'\n",
      " \n",
      "------------------------------------\n",
      "EPOCH 54:\n",
      "____________________________________\n"
     ]
    },
    {
     "name": "stderr",
     "output_type": "stream",
     "text": [
      "Batch calculation at epoch 54.: 803it [00:38, 19.67it/s]"
     ]
    },
    {
     "name": "stdout",
     "output_type": "stream",
     "text": [
      "------------------------------------------------------------\n",
      "Epoch 54, batch 799:\n",
      "Average original gradient norm: 7.351355374455452 (over last 800 batches)\n",
      "Average clipped gradient norm: 1.9999996672570706 (over last 800 batches)\n",
      "Running average global loss: 0.9815895679593086 (over last 800 batches)\n",
      "Running average activity prediction loss: 0.2914957720786333 (Cross Entropy over last 800 batches)\n",
      "Running average time till next event prediction loss: 0.1582896858267486 (MAE over last 800 batches)\n",
      "Running average (complete) remaining runtime prediction loss: 0.5318041097000241 (MAE over last 800 batches)\n",
      "------------------------------------------------------------\n"
     ]
    },
    {
     "name": "stderr",
     "output_type": "stream",
     "text": [
      "Batch calculation at epoch 54.: 1604it [01:18, 20.63it/s]"
     ]
    },
    {
     "name": "stdout",
     "output_type": "stream",
     "text": [
      "------------------------------------------------------------\n",
      "Epoch 54, batch 1599:\n",
      "Average original gradient norm: 7.55857940107584 (over last 800 batches)\n",
      "Average clipped gradient norm: 1.999999665170908 (over last 800 batches)\n",
      "Running average global loss: 0.9763177113980055 (over last 800 batches)\n",
      "Running average activity prediction loss: 0.2900813812017441 (Cross Entropy over last 800 batches)\n",
      "Running average time till next event prediction loss: 0.15863267067819833 (MAE over last 800 batches)\n",
      "Running average (complete) remaining runtime prediction loss: 0.5276036607474088 (MAE over last 800 batches)\n",
      "------------------------------------------------------------\n"
     ]
    },
    {
     "name": "stderr",
     "output_type": "stream",
     "text": [
      "Batch calculation at epoch 54.: 2404it [01:57, 21.32it/s]"
     ]
    },
    {
     "name": "stdout",
     "output_type": "stream",
     "text": [
      "------------------------------------------------------------\n",
      "Epoch 54, batch 2399:\n",
      "Average original gradient norm: 7.722473858892918 (over last 800 batches)\n",
      "Average clipped gradient norm: 1.999999669790268 (over last 800 batches)\n",
      "Running average global loss: 0.9828504887223244 (over last 800 batches)\n",
      "Running average activity prediction loss: 0.2911686426028609 (Cross Entropy over last 800 batches)\n",
      "Running average time till next event prediction loss: 0.1595071634557098 (MAE over last 800 batches)\n",
      "Running average (complete) remaining runtime prediction loss: 0.5321746822446585 (MAE over last 800 batches)\n",
      "------------------------------------------------------------\n"
     ]
    },
    {
     "name": "stderr",
     "output_type": "stream",
     "text": [
      "Batch calculation at epoch 54.: 3204it [02:36, 20.32it/s]"
     ]
    },
    {
     "name": "stdout",
     "output_type": "stream",
     "text": [
      "------------------------------------------------------------\n",
      "Epoch 54, batch 3199:\n",
      "Average original gradient norm: 7.768960498720407 (over last 800 batches)\n",
      "Average clipped gradient norm: 1.9999850663542746 (over last 800 batches)\n",
      "Running average global loss: 0.9779306147247553 (over last 800 batches)\n",
      "Running average activity prediction loss: 0.2911386892944574 (Cross Entropy over last 800 batches)\n",
      "Running average time till next event prediction loss: 0.1577813149895519 (MAE over last 800 batches)\n",
      "Running average (complete) remaining runtime prediction loss: 0.5290106108784676 (MAE over last 800 batches)\n",
      "------------------------------------------------------------\n"
     ]
    },
    {
     "name": "stderr",
     "output_type": "stream",
     "text": [
      "Batch calculation at epoch 54.: 4002it [03:14, 17.68it/s]"
     ]
    },
    {
     "name": "stdout",
     "output_type": "stream",
     "text": [
      "------------------------------------------------------------\n",
      "Epoch 54, batch 3999:\n",
      "Average original gradient norm: 7.763261816650629 (over last 800 batches)\n",
      "Average clipped gradient norm: 1.9997763857245445 (over last 800 batches)\n",
      "Running average global loss: 0.9801716902852058 (over last 800 batches)\n",
      "Running average activity prediction loss: 0.2903601224347949 (Cross Entropy over last 800 batches)\n",
      "Running average time till next event prediction loss: 0.15836060388945042 (MAE over last 800 batches)\n",
      "Running average (complete) remaining runtime prediction loss: 0.5314509652554988 (MAE over last 800 batches)\n",
      "------------------------------------------------------------\n"
     ]
    },
    {
     "name": "stderr",
     "output_type": "stream",
     "text": [
      "Batch calculation at epoch 54.: 4798it [03:52, 20.65it/s]\n"
     ]
    },
    {
     "name": "stdout",
     "output_type": "stream",
     "text": [
      "=======================================\n",
      "End of epoch 54\n",
      "=======================================\n",
      "Running average global loss: 0.9786300501972437 (over last 800 batches)\n",
      "Running average activity prediction loss: 0.29142227578908203 (Cross Entropy over last 800 batches)\n",
      "Running average time till next event prediction loss: 0.15854914619587362 (MAE over last 800 batches)\n",
      "Running average (complete) remaining runtime prediction loss: 0.5286586302891374 (MAE over last 800 batches)\n"
     ]
    },
    {
     "name": "stderr",
     "output_type": "stream",
     "text": [
      "Validation batch calculation: 36it [15:45, 26.28s/it]\n"
     ]
    },
    {
     "name": "stdout",
     "output_type": "stream",
     "text": [
      "Avg MAE TTNE prediction validation set: 0.20986147224903107 (standardized) ; 777.6819010416667 (minutes)'\n",
      "Avg 1-(normalized) DL distance acitivty suffix prediction validation set: 0.36659321188926697\n",
      "Percentage of suffixes predicted to END: too early - 0.06142105299084623 ; right moment - 0.10400895581479484 ; too late - 0.8345699911943589\n",
      "Too early instances - avg amount of events too early: 9.010780334472656\n",
      "Too late instances - avg amount of events too late: 36.795719146728516\n",
      "Avg absolute amount of events predicted too early / too late: 31.262052536010742\n",
      "Avg MAE RRT prediction validation set: 0.49161410331726074 (standardized) ; 8246.197916666666 (minutes)'\n",
      " \n",
      "------------------------------------\n",
      "EPOCH 55:\n",
      "____________________________________\n"
     ]
    },
    {
     "name": "stderr",
     "output_type": "stream",
     "text": [
      "Batch calculation at epoch 55.: 804it [00:38, 20.86it/s]"
     ]
    },
    {
     "name": "stdout",
     "output_type": "stream",
     "text": [
      "------------------------------------------------------------\n",
      "Epoch 55, batch 799:\n",
      "Average original gradient norm: 7.667129468619823 (over last 800 batches)\n",
      "Average clipped gradient norm: 1.9999996671080589 (over last 800 batches)\n",
      "Running average global loss: 0.9744626221805811 (over last 800 batches)\n",
      "Running average activity prediction loss: 0.29068736907094717 (Cross Entropy over last 800 batches)\n",
      "Running average time till next event prediction loss: 0.15742032409645618 (MAE over last 800 batches)\n",
      "Running average (complete) remaining runtime prediction loss: 0.5263549287244678 (MAE over last 800 batches)\n",
      "------------------------------------------------------------\n"
     ]
    },
    {
     "name": "stderr",
     "output_type": "stream",
     "text": [
      "Batch calculation at epoch 55.: 1602it [01:16, 21.45it/s]"
     ]
    },
    {
     "name": "stdout",
     "output_type": "stream",
     "text": [
      "------------------------------------------------------------\n",
      "Epoch 55, batch 1599:\n",
      "Average original gradient norm: 7.758765953928232 (over last 800 batches)\n",
      "Average clipped gradient norm: 1.9995648875832557 (over last 800 batches)\n",
      "Running average global loss: 0.979039309695363 (over last 800 batches)\n",
      "Running average activity prediction loss: 0.2907807807996869 (Cross Entropy over last 800 batches)\n",
      "Running average time till next event prediction loss: 0.15900345997884868 (MAE over last 800 batches)\n",
      "Running average (complete) remaining runtime prediction loss: 0.5292550677806139 (MAE over last 800 batches)\n",
      "------------------------------------------------------------\n"
     ]
    },
    {
     "name": "stderr",
     "output_type": "stream",
     "text": [
      "Batch calculation at epoch 55.: 2403it [01:54, 20.99it/s]"
     ]
    },
    {
     "name": "stdout",
     "output_type": "stream",
     "text": [
      "------------------------------------------------------------\n",
      "Epoch 55, batch 2399:\n",
      "Average original gradient norm: 7.595852851271629 (over last 800 batches)\n",
      "Average clipped gradient norm: 1.999999655932188 (over last 800 batches)\n",
      "Running average global loss: 0.9818388837575912 (over last 800 batches)\n",
      "Running average activity prediction loss: 0.2911042768880725 (Cross Entropy over last 800 batches)\n",
      "Running average time till next event prediction loss: 0.15863996915519238 (MAE over last 800 batches)\n",
      "Running average (complete) remaining runtime prediction loss: 0.5320946390554309 (MAE over last 800 batches)\n",
      "------------------------------------------------------------\n"
     ]
    },
    {
     "name": "stderr",
     "output_type": "stream",
     "text": [
      "Batch calculation at epoch 55.: 3204it [02:32, 21.38it/s]"
     ]
    },
    {
     "name": "stdout",
     "output_type": "stream",
     "text": [
      "------------------------------------------------------------\n",
      "Epoch 55, batch 3199:\n",
      "Average original gradient norm: 7.832217358648777 (over last 800 batches)\n",
      "Average clipped gradient norm: 1.999609341621399 (over last 800 batches)\n",
      "Running average global loss: 0.9790833359956741 (over last 800 batches)\n",
      "Running average activity prediction loss: 0.29031795021146534 (Cross Entropy over last 800 batches)\n",
      "Running average time till next event prediction loss: 0.15840006251819433 (MAE over last 800 batches)\n",
      "Running average (complete) remaining runtime prediction loss: 0.5303653214871883 (MAE over last 800 batches)\n",
      "------------------------------------------------------------\n"
     ]
    },
    {
     "name": "stderr",
     "output_type": "stream",
     "text": [
      "Batch calculation at epoch 55.: 4002it [03:10, 21.26it/s]"
     ]
    },
    {
     "name": "stdout",
     "output_type": "stream",
     "text": [
      "------------------------------------------------------------\n",
      "Epoch 55, batch 3999:\n",
      "Average original gradient norm: 7.829356284290552 (over last 800 batches)\n",
      "Average clipped gradient norm: 1.9997746101021767 (over last 800 batches)\n",
      "Running average global loss: 0.9825905326008797 (over last 800 batches)\n",
      "Running average activity prediction loss: 0.29142384357750417 (Cross Entropy over last 800 batches)\n",
      "Running average time till next event prediction loss: 0.1590987434796989 (MAE over last 800 batches)\n",
      "Running average (complete) remaining runtime prediction loss: 0.5320679449290037 (MAE over last 800 batches)\n",
      "------------------------------------------------------------\n"
     ]
    },
    {
     "name": "stderr",
     "output_type": "stream",
     "text": [
      "Batch calculation at epoch 55.: 4798it [03:47, 21.04it/s]\n"
     ]
    },
    {
     "name": "stdout",
     "output_type": "stream",
     "text": [
      "=======================================\n",
      "End of epoch 55\n",
      "=======================================\n",
      "Running average global loss: 0.9806397003680467 (over last 800 batches)\n",
      "Running average activity prediction loss: 0.29104055002331736 (Cross Entropy over last 800 batches)\n",
      "Running average time till next event prediction loss: 0.15853476647287607 (MAE over last 800 batches)\n",
      "Running average (complete) remaining runtime prediction loss: 0.5310643853992224 (MAE over last 800 batches)\n"
     ]
    },
    {
     "name": "stderr",
     "output_type": "stream",
     "text": [
      "Validation batch calculation: 36it [15:46, 26.30s/it]\n"
     ]
    },
    {
     "name": "stdout",
     "output_type": "stream",
     "text": [
      "Avg MAE TTNE prediction validation set: 0.21071477234363556 (standardized) ; 780.8673828125 (minutes)'\n",
      "Avg 1-(normalized) DL distance acitivty suffix prediction validation set: 0.3800901174545288\n",
      "Percentage of suffixes predicted to END: too early - 0.06967378171566653 ; right moment - 0.10659603950934149 ; too late - 0.823730178774992\n",
      "Too early instances - avg amount of events too early: 9.29146671295166\n",
      "Too late instances - avg amount of events too late: 34.9379997253418\n",
      "Avg absolute amount of events predicted too early / too late: 29.426855087280273\n",
      "Avg MAE RRT prediction validation set: 0.4910867512226105 (standardized) ; 8240.765104166667 (minutes)'\n",
      " \n",
      "------------------------------------\n",
      "EPOCH 56:\n",
      "____________________________________\n"
     ]
    },
    {
     "name": "stderr",
     "output_type": "stream",
     "text": [
      "Batch calculation at epoch 56.: 803it [00:38, 20.56it/s]"
     ]
    },
    {
     "name": "stdout",
     "output_type": "stream",
     "text": [
      "------------------------------------------------------------\n",
      "Epoch 56, batch 799:\n",
      "Average original gradient norm: 7.78273066163063 (over last 800 batches)\n",
      "Average clipped gradient norm: 1.9999996738135815 (over last 800 batches)\n",
      "Running average global loss: 0.9761438562721014 (over last 800 batches)\n",
      "Running average activity prediction loss: 0.2906071075052023 (Cross Entropy over last 800 batches)\n",
      "Running average time till next event prediction loss: 0.15772107088007034 (MAE over last 800 batches)\n",
      "Running average (complete) remaining runtime prediction loss: 0.5278156768158078 (MAE over last 800 batches)\n",
      "------------------------------------------------------------\n"
     ]
    },
    {
     "name": "stderr",
     "output_type": "stream",
     "text": [
      "Batch calculation at epoch 56.: 1604it [01:17, 20.71it/s]"
     ]
    },
    {
     "name": "stdout",
     "output_type": "stream",
     "text": [
      "------------------------------------------------------------\n",
      "Epoch 56, batch 1599:\n",
      "Average original gradient norm: 7.772128002941608 (over last 800 batches)\n",
      "Average clipped gradient norm: 1.999999665915966 (over last 800 batches)\n",
      "Running average global loss: 0.9783293522149324 (over last 800 batches)\n",
      "Running average activity prediction loss: 0.2912113208323717 (Cross Entropy over last 800 batches)\n",
      "Running average time till next event prediction loss: 0.1576520707271993 (MAE over last 800 batches)\n",
      "Running average (complete) remaining runtime prediction loss: 0.529465960972011 (MAE over last 800 batches)\n",
      "------------------------------------------------------------\n"
     ]
    },
    {
     "name": "stderr",
     "output_type": "stream",
     "text": [
      "Batch calculation at epoch 56.: 2402it [01:56, 20.25it/s]"
     ]
    },
    {
     "name": "stdout",
     "output_type": "stream",
     "text": [
      "------------------------------------------------------------\n",
      "Epoch 56, batch 2399:\n",
      "Average original gradient norm: 7.811294094920158 (over last 800 batches)\n",
      "Average clipped gradient norm: 1.9996120725572109 (over last 800 batches)\n",
      "Running average global loss: 0.9849269030988217 (over last 800 batches)\n",
      "Running average activity prediction loss: 0.29058681081980464 (Cross Entropy over last 800 batches)\n",
      "Running average time till next event prediction loss: 0.16017773685976863 (MAE over last 800 batches)\n",
      "Running average (complete) remaining runtime prediction loss: 0.5341623551398516 (MAE over last 800 batches)\n",
      "------------------------------------------------------------\n"
     ]
    },
    {
     "name": "stderr",
     "output_type": "stream",
     "text": [
      "Batch calculation at epoch 56.: 3203it [02:34, 20.59it/s]"
     ]
    },
    {
     "name": "stdout",
     "output_type": "stream",
     "text": [
      "------------------------------------------------------------\n",
      "Epoch 56, batch 3199:\n",
      "Average original gradient norm: 7.601776500940323 (over last 800 batches)\n",
      "Average clipped gradient norm: 1.9994512817263603 (over last 800 batches)\n",
      "Running average global loss: 0.9792907709628343 (over last 800 batches)\n",
      "Running average activity prediction loss: 0.29100996393710377 (Cross Entropy over last 800 batches)\n",
      "Running average time till next event prediction loss: 0.15857813242822885 (MAE over last 800 batches)\n",
      "Running average (complete) remaining runtime prediction loss: 0.5297026753798127 (MAE over last 800 batches)\n",
      "------------------------------------------------------------\n"
     ]
    },
    {
     "name": "stderr",
     "output_type": "stream",
     "text": [
      "Batch calculation at epoch 56.: 4004it [03:13, 20.53it/s]"
     ]
    },
    {
     "name": "stdout",
     "output_type": "stream",
     "text": [
      "------------------------------------------------------------\n",
      "Epoch 56, batch 3999:\n",
      "Average original gradient norm: 7.6527534398436545 (over last 800 batches)\n",
      "Average clipped gradient norm: 1.999999670535326 (over last 800 batches)\n",
      "Running average global loss: 0.9782538695633411 (over last 800 batches)\n",
      "Running average activity prediction loss: 0.29043827306479214 (Cross Entropy over last 800 batches)\n",
      "Running average time till next event prediction loss: 0.1584884727932513 (MAE over last 800 batches)\n",
      "Running average (complete) remaining runtime prediction loss: 0.529327125325799 (MAE over last 800 batches)\n",
      "------------------------------------------------------------\n"
     ]
    },
    {
     "name": "stderr",
     "output_type": "stream",
     "text": [
      "Batch calculation at epoch 56.: 4798it [03:52, 20.68it/s]\n"
     ]
    },
    {
     "name": "stdout",
     "output_type": "stream",
     "text": [
      "=======================================\n",
      "End of epoch 56\n",
      "=======================================\n",
      "Running average global loss: 0.9792889304459095 (over last 800 batches)\n",
      "Running average activity prediction loss: 0.29074293464422224 (Cross Entropy over last 800 batches)\n",
      "Running average time till next event prediction loss: 0.15833668666891754 (MAE over last 800 batches)\n",
      "Running average (complete) remaining runtime prediction loss: 0.5302093094959855 (MAE over last 800 batches)\n"
     ]
    },
    {
     "name": "stderr",
     "output_type": "stream",
     "text": [
      "Validation batch calculation: 36it [15:46, 26.28s/it]\n"
     ]
    },
    {
     "name": "stdout",
     "output_type": "stream",
     "text": [
      "Avg MAE TTNE prediction validation set: 0.20826657116413116 (standardized) ; 771.66015625 (minutes)'\n",
      "Avg 1-(normalized) DL distance acitivty suffix prediction validation set: 0.39785563945770264\n",
      "Percentage of suffixes predicted to END: too early - 0.0868686730786296 ; right moment - 0.10652095264749449 ; too late - 0.8066103742738759\n",
      "Too early instances - avg amount of events too early: 9.163994789123535\n",
      "Too late instances - avg amount of events too late: 32.54081726074219\n",
      "Avg absolute amount of events predicted too early / too late: 27.0438232421875\n",
      "Avg MAE RRT prediction validation set: 0.4902055859565735 (standardized) ; 8223.9046875 (minutes)'\n",
      " \n",
      "------------------------------------\n",
      "EPOCH 57:\n",
      "____________________________________\n"
     ]
    },
    {
     "name": "stderr",
     "output_type": "stream",
     "text": [
      "Batch calculation at epoch 57.: 804it [00:37, 21.72it/s]"
     ]
    },
    {
     "name": "stdout",
     "output_type": "stream",
     "text": [
      "------------------------------------------------------------\n",
      "Epoch 57, batch 799:\n",
      "Average original gradient norm: 7.749034559130669 (over last 800 batches)\n",
      "Average clipped gradient norm: 1.99999966904521 (over last 800 batches)\n",
      "Running average global loss: 0.9808095816522837 (over last 800 batches)\n",
      "Running average activity prediction loss: 0.29071590937674047 (Cross Entropy over last 800 batches)\n",
      "Running average time till next event prediction loss: 0.1585553608741611 (MAE over last 800 batches)\n",
      "Running average (complete) remaining runtime prediction loss: 0.5315383114665747 (MAE over last 800 batches)\n",
      "------------------------------------------------------------\n"
     ]
    },
    {
     "name": "stderr",
     "output_type": "stream",
     "text": [
      "Batch calculation at epoch 57.: 1602it [01:14, 21.54it/s]"
     ]
    },
    {
     "name": "stdout",
     "output_type": "stream",
     "text": [
      "------------------------------------------------------------\n",
      "Epoch 57, batch 1599:\n",
      "Average original gradient norm: 7.578529063463211 (over last 800 batches)\n",
      "Average clipped gradient norm: 1.9996232208609581 (over last 800 batches)\n",
      "Running average global loss: 0.9810329604893923 (over last 800 batches)\n",
      "Running average activity prediction loss: 0.2905898459255695 (Cross Entropy over last 800 batches)\n",
      "Running average time till next event prediction loss: 0.15853870648890733 (MAE over last 800 batches)\n",
      "Running average (complete) remaining runtime prediction loss: 0.5319044088944793 (MAE over last 800 batches)\n",
      "------------------------------------------------------------\n"
     ]
    },
    {
     "name": "stderr",
     "output_type": "stream",
     "text": [
      "Batch calculation at epoch 57.: 2403it [01:51, 21.38it/s]"
     ]
    },
    {
     "name": "stdout",
     "output_type": "stream",
     "text": [
      "------------------------------------------------------------\n",
      "Epoch 57, batch 2399:\n",
      "Average original gradient norm: 7.9056686234474185 (over last 800 batches)\n",
      "Average clipped gradient norm: 1.9999996650218963 (over last 800 batches)\n",
      "Running average global loss: 0.9787451308965683 (over last 800 batches)\n",
      "Running average activity prediction loss: 0.2911088679358363 (Cross Entropy over last 800 batches)\n",
      "Running average time till next event prediction loss: 0.15822470366954802 (MAE over last 800 batches)\n",
      "Running average (complete) remaining runtime prediction loss: 0.529411559291184 (MAE over last 800 batches)\n",
      "------------------------------------------------------------\n"
     ]
    },
    {
     "name": "stderr",
     "output_type": "stream",
     "text": [
      "Batch calculation at epoch 57.: 3204it [02:29, 21.36it/s]"
     ]
    },
    {
     "name": "stdout",
     "output_type": "stream",
     "text": [
      "------------------------------------------------------------\n",
      "Epoch 57, batch 3199:\n",
      "Average original gradient norm: 7.851602833271027 (over last 800 batches)\n",
      "Average clipped gradient norm: 1.999999677091837 (over last 800 batches)\n",
      "Running average global loss: 0.9772466441243887 (over last 800 batches)\n",
      "Running average activity prediction loss: 0.29000467840582134 (Cross Entropy over last 800 batches)\n",
      "Running average time till next event prediction loss: 0.1584399793855846 (MAE over last 800 batches)\n",
      "Running average (complete) remaining runtime prediction loss: 0.5288019859790802 (MAE over last 800 batches)\n",
      "------------------------------------------------------------\n"
     ]
    },
    {
     "name": "stderr",
     "output_type": "stream",
     "text": [
      "Batch calculation at epoch 57.: 4002it [03:07, 21.49it/s]"
     ]
    },
    {
     "name": "stdout",
     "output_type": "stream",
     "text": [
      "------------------------------------------------------------\n",
      "Epoch 57, batch 3999:\n",
      "Average original gradient norm: 7.411169506013393 (over last 800 batches)\n",
      "Average clipped gradient norm: 1.9999996614456177 (over last 800 batches)\n",
      "Running average global loss: 0.977636746764183 (over last 800 batches)\n",
      "Running average activity prediction loss: 0.2905859276652336 (Cross Entropy over last 800 batches)\n",
      "Running average time till next event prediction loss: 0.15835436152294277 (MAE over last 800 batches)\n",
      "Running average (complete) remaining runtime prediction loss: 0.5286964571848511 (MAE over last 800 batches)\n",
      "------------------------------------------------------------\n"
     ]
    },
    {
     "name": "stderr",
     "output_type": "stream",
     "text": [
      "Batch calculation at epoch 57.: 4798it [03:45, 21.30it/s]\n"
     ]
    },
    {
     "name": "stdout",
     "output_type": "stream",
     "text": [
      "=======================================\n",
      "End of epoch 57\n",
      "=======================================\n",
      "Running average global loss: 0.9778934655338526 (over last 800 batches)\n",
      "Running average activity prediction loss: 0.2899058375135064 (Cross Entropy over last 800 batches)\n",
      "Running average time till next event prediction loss: 0.15853329959325493 (MAE over last 800 batches)\n",
      "Running average (complete) remaining runtime prediction loss: 0.529454328045249 (MAE over last 800 batches)\n"
     ]
    },
    {
     "name": "stderr",
     "output_type": "stream",
     "text": [
      "Validation batch calculation: 36it [15:45, 26.26s/it]\n"
     ]
    },
    {
     "name": "stdout",
     "output_type": "stream",
     "text": [
      "Avg MAE TTNE prediction validation set: 0.21056562662124634 (standardized) ; 780.0257161458334 (minutes)'\n",
      "Avg 1-(normalized) DL distance acitivty suffix prediction validation set: 0.3698928654193878\n",
      "Percentage of suffixes predicted to END: too early - 0.06550987392233289 ; right moment - 0.10479395482501348 ; too late - 0.8296961712526536\n",
      "Too early instances - avg amount of events too early: 9.3306245803833\n",
      "Too late instances - avg amount of events too late: 36.710182189941406\n",
      "Avg absolute amount of events predicted too early / too late: 31.069543838500977\n",
      "Avg MAE RRT prediction validation set: 0.4895978569984436 (standardized) ; 8216.245833333332 (minutes)'\n",
      " \n",
      "------------------------------------\n",
      "EPOCH 58:\n",
      "____________________________________\n"
     ]
    },
    {
     "name": "stderr",
     "output_type": "stream",
     "text": [
      "Batch calculation at epoch 58.: 804it [00:37, 21.64it/s]"
     ]
    },
    {
     "name": "stdout",
     "output_type": "stream",
     "text": [
      "------------------------------------------------------------\n",
      "Epoch 58, batch 799:\n",
      "Average original gradient norm: 8.035523687005043 (over last 800 batches)\n",
      "Average clipped gradient norm: 1.9998438933491707 (over last 800 batches)\n",
      "Running average global loss: 0.975061669498682 (over last 800 batches)\n",
      "Running average activity prediction loss: 0.28962992219254374 (Cross Entropy over last 800 batches)\n",
      "Running average time till next event prediction loss: 0.15763220930472016 (MAE over last 800 batches)\n",
      "Running average (complete) remaining runtime prediction loss: 0.5277995382994414 (MAE over last 800 batches)\n",
      "------------------------------------------------------------\n"
     ]
    },
    {
     "name": "stderr",
     "output_type": "stream",
     "text": [
      "Batch calculation at epoch 58.: 1604it [01:16, 21.40it/s]"
     ]
    },
    {
     "name": "stdout",
     "output_type": "stream",
     "text": [
      "------------------------------------------------------------\n",
      "Epoch 58, batch 1599:\n",
      "Average original gradient norm: 7.770372825264931 (over last 800 batches)\n",
      "Average clipped gradient norm: 1.9999996747076512 (over last 800 batches)\n",
      "Running average global loss: 0.9821803961694241 (over last 800 batches)\n",
      "Running average activity prediction loss: 0.2910426775738597 (Cross Entropy over last 800 batches)\n",
      "Running average time till next event prediction loss: 0.15893942827358842 (MAE over last 800 batches)\n",
      "Running average (complete) remaining runtime prediction loss: 0.5321982892230153 (MAE over last 800 batches)\n",
      "------------------------------------------------------------\n"
     ]
    },
    {
     "name": "stderr",
     "output_type": "stream",
     "text": [
      "Batch calculation at epoch 58.: 2402it [01:53, 21.00it/s]"
     ]
    },
    {
     "name": "stdout",
     "output_type": "stream",
     "text": [
      "------------------------------------------------------------\n",
      "Epoch 58, batch 2399:\n",
      "Average original gradient norm: 7.904710094928742 (over last 800 batches)\n",
      "Average clipped gradient norm: 1.9999996575713157 (over last 800 batches)\n",
      "Running average global loss: 0.9801351894438267 (over last 800 batches)\n",
      "Running average activity prediction loss: 0.2907392564788461 (Cross Entropy over last 800 batches)\n",
      "Running average time till next event prediction loss: 0.15827855344861747 (MAE over last 800 batches)\n",
      "Running average (complete) remaining runtime prediction loss: 0.531117379181087 (MAE over last 800 batches)\n",
      "------------------------------------------------------------\n"
     ]
    },
    {
     "name": "stderr",
     "output_type": "stream",
     "text": [
      "Batch calculation at epoch 58.: 3203it [02:31, 21.43it/s]"
     ]
    },
    {
     "name": "stdout",
     "output_type": "stream",
     "text": [
      "------------------------------------------------------------\n",
      "Epoch 58, batch 3199:\n",
      "Average original gradient norm: 7.6671459800004955 (over last 800 batches)\n",
      "Average clipped gradient norm: 1.9998343834280967 (over last 800 batches)\n",
      "Running average global loss: 0.9793508195877075 (over last 800 batches)\n",
      "Running average activity prediction loss: 0.2900045037642121 (Cross Entropy over last 800 batches)\n",
      "Running average time till next event prediction loss: 0.1585764870699495 (MAE over last 800 batches)\n",
      "Running average (complete) remaining runtime prediction loss: 0.5307698290795088 (MAE over last 800 batches)\n",
      "------------------------------------------------------------\n"
     ]
    },
    {
     "name": "stderr",
     "output_type": "stream",
     "text": [
      "Batch calculation at epoch 58.: 4004it [03:09, 21.32it/s]"
     ]
    },
    {
     "name": "stdout",
     "output_type": "stream",
     "text": [
      "------------------------------------------------------------\n",
      "Epoch 58, batch 3999:\n",
      "Average original gradient norm: 7.907965670824051 (over last 800 batches)\n",
      "Average clipped gradient norm: 1.999999674409628 (over last 800 batches)\n",
      "Running average global loss: 0.9772127046436071 (over last 800 batches)\n",
      "Running average activity prediction loss: 0.290118029974401 (Cross Entropy over last 800 batches)\n",
      "Running average time till next event prediction loss: 0.15839860814623535 (MAE over last 800 batches)\n",
      "Running average (complete) remaining runtime prediction loss: 0.5286960665509105 (MAE over last 800 batches)\n",
      "------------------------------------------------------------\n"
     ]
    },
    {
     "name": "stderr",
     "output_type": "stream",
     "text": [
      "Batch calculation at epoch 58.: 4798it [03:46, 21.14it/s]\n"
     ]
    },
    {
     "name": "stdout",
     "output_type": "stream",
     "text": [
      "=======================================\n",
      "End of epoch 58\n",
      "=======================================\n",
      "Running average global loss: 0.9767237726598978 (over last 800 batches)\n",
      "Running average activity prediction loss: 0.2903141780570149 (Cross Entropy over last 800 batches)\n",
      "Running average time till next event prediction loss: 0.15886886593885718 (MAE over last 800 batches)\n",
      "Running average (complete) remaining runtime prediction loss: 0.5275407296791673 (MAE over last 800 batches)\n"
     ]
    },
    {
     "name": "stderr",
     "output_type": "stream",
     "text": [
      "Validation batch calculation: 36it [15:45, 26.27s/it]\n"
     ]
    },
    {
     "name": "stdout",
     "output_type": "stream",
     "text": [
      "Avg MAE TTNE prediction validation set: 0.20959916710853577 (standardized) ; 776.7473307291667 (minutes)'\n",
      "Avg 1-(normalized) DL distance acitivty suffix prediction validation set: 0.4110155999660492\n",
      "Percentage of suffixes predicted to END: too early - 0.10733325597111204 ; right moment - 0.11017290456459859 ; too late - 0.7824938394642894\n",
      "Too early instances - avg amount of events too early: 9.975578308105469\n",
      "Too late instances - avg amount of events too late: 31.36480712890625\n",
      "Avg absolute amount of events predicted too early / too late: 25.613479614257812\n",
      "Avg MAE RRT prediction validation set: 0.4922650456428528 (standardized) ; 8260.875520833333 (minutes)'\n",
      " \n",
      "------------------------------------\n",
      "EPOCH 59:\n",
      "____________________________________\n"
     ]
    },
    {
     "name": "stderr",
     "output_type": "stream",
     "text": [
      "Batch calculation at epoch 59.: 804it [00:38, 20.82it/s]"
     ]
    },
    {
     "name": "stdout",
     "output_type": "stream",
     "text": [
      "------------------------------------------------------------\n",
      "Epoch 59, batch 799:\n",
      "Average original gradient norm: 7.905563037693501 (over last 800 batches)\n",
      "Average clipped gradient norm: 1.9999996875226498 (over last 800 batches)\n",
      "Running average global loss: 0.9802666921913624 (over last 800 batches)\n",
      "Running average activity prediction loss: 0.2898684249445796 (Cross Entropy over last 800 batches)\n",
      "Running average time till next event prediction loss: 0.159075892791152 (MAE over last 800 batches)\n",
      "Running average (complete) remaining runtime prediction loss: 0.5313223735615611 (MAE over last 800 batches)\n",
      "------------------------------------------------------------\n"
     ]
    },
    {
     "name": "stderr",
     "output_type": "stream",
     "text": [
      "Batch calculation at epoch 59.: 1602it [01:16, 20.66it/s]"
     ]
    },
    {
     "name": "stdout",
     "output_type": "stream",
     "text": [
      "------------------------------------------------------------\n",
      "Epoch 59, batch 1599:\n",
      "Average original gradient norm: 7.9646206223964695 (over last 800 batches)\n",
      "Average clipped gradient norm: 1.999999675154686 (over last 800 batches)\n",
      "Running average global loss: 0.9782400149106979 (over last 800 batches)\n",
      "Running average activity prediction loss: 0.29020141504704955 (Cross Entropy over last 800 batches)\n",
      "Running average time till next event prediction loss: 0.1585308761615306 (MAE over last 800 batches)\n",
      "Running average (complete) remaining runtime prediction loss: 0.5295077225193381 (MAE over last 800 batches)\n",
      "------------------------------------------------------------\n"
     ]
    },
    {
     "name": "stderr",
     "output_type": "stream",
     "text": [
      "Batch calculation at epoch 59.: 2403it [01:54, 20.49it/s]"
     ]
    },
    {
     "name": "stdout",
     "output_type": "stream",
     "text": [
      "------------------------------------------------------------\n",
      "Epoch 59, batch 2399:\n",
      "Average original gradient norm: 7.4474004271626475 (over last 800 batches)\n",
      "Average clipped gradient norm: 1.999999665915966 (over last 800 batches)\n",
      "Running average global loss: 0.9773972157388926 (over last 800 batches)\n",
      "Running average activity prediction loss: 0.2905151326581836 (Cross Entropy over last 800 batches)\n",
      "Running average time till next event prediction loss: 0.1583670011535287 (MAE over last 800 batches)\n",
      "Running average (complete) remaining runtime prediction loss: 0.5285150830075145 (MAE over last 800 batches)\n",
      "------------------------------------------------------------\n"
     ]
    },
    {
     "name": "stderr",
     "output_type": "stream",
     "text": [
      "Batch calculation at epoch 59.: 3204it [02:32, 20.65it/s]"
     ]
    },
    {
     "name": "stdout",
     "output_type": "stream",
     "text": [
      "------------------------------------------------------------\n",
      "Epoch 59, batch 3199:\n",
      "Average original gradient norm: 7.758573525846004 (over last 800 batches)\n",
      "Average clipped gradient norm: 1.9999996735155583 (over last 800 batches)\n",
      "Running average global loss: 0.9752277863770723 (over last 800 batches)\n",
      "Running average activity prediction loss: 0.2902658523246646 (Cross Entropy over last 800 batches)\n",
      "Running average time till next event prediction loss: 0.15765343663282694 (MAE over last 800 batches)\n",
      "Running average (complete) remaining runtime prediction loss: 0.5273084984719754 (MAE over last 800 batches)\n",
      "------------------------------------------------------------\n"
     ]
    },
    {
     "name": "stderr",
     "output_type": "stream",
     "text": [
      "Batch calculation at epoch 59.: 4002it [03:10, 21.27it/s]"
     ]
    },
    {
     "name": "stdout",
     "output_type": "stream",
     "text": [
      "------------------------------------------------------------\n",
      "Epoch 59, batch 3999:\n",
      "Average original gradient norm: 7.944135201275349 (over last 800 batches)\n",
      "Average clipped gradient norm: 1.999999685138464 (over last 800 batches)\n",
      "Running average global loss: 0.9812894997745752 (over last 800 batches)\n",
      "Running average activity prediction loss: 0.28999842174351215 (Cross Entropy over last 800 batches)\n",
      "Running average time till next event prediction loss: 0.1587091746740043 (MAE over last 800 batches)\n",
      "Running average (complete) remaining runtime prediction loss: 0.5325819024816155 (MAE over last 800 batches)\n",
      "------------------------------------------------------------\n"
     ]
    },
    {
     "name": "stderr",
     "output_type": "stream",
     "text": [
      "Batch calculation at epoch 59.: 4798it [03:47, 21.05it/s]\n"
     ]
    },
    {
     "name": "stdout",
     "output_type": "stream",
     "text": [
      "=======================================\n",
      "End of epoch 59\n",
      "=======================================\n",
      "Running average global loss: 0.9770654098689556 (over last 800 batches)\n",
      "Running average activity prediction loss: 0.29040426805615427 (Cross Entropy over last 800 batches)\n",
      "Running average time till next event prediction loss: 0.15824493421241642 (MAE over last 800 batches)\n",
      "Running average (complete) remaining runtime prediction loss: 0.5284162061288953 (MAE over last 800 batches)\n"
     ]
    },
    {
     "name": "stderr",
     "output_type": "stream",
     "text": [
      "Validation batch calculation: 36it [15:45, 26.26s/it]\n"
     ]
    },
    {
     "name": "stdout",
     "output_type": "stream",
     "text": [
      "Avg MAE TTNE prediction validation set: 0.21068118512630463 (standardized) ; 780.553125 (minutes)'\n",
      "Avg 1-(normalized) DL distance acitivty suffix prediction validation set: 0.3746356964111328\n",
      "Percentage of suffixes predicted to END: too early - 0.06220605200106487 ; right moment - 0.10430930326218284 ; too late - 0.8334846447367523\n",
      "Too early instances - avg amount of events too early: 9.320311546325684\n",
      "Too late instances - avg amount of events too late: 35.35411834716797\n",
      "Avg absolute amount of events predicted too early / too late: 30.04689598083496\n",
      "Avg MAE RRT prediction validation set: 0.4921116530895233 (standardized) ; 8254.60625 (minutes)'\n",
      " \n",
      "------------------------------------\n",
      "EPOCH 60:\n",
      "____________________________________\n"
     ]
    },
    {
     "name": "stderr",
     "output_type": "stream",
     "text": [
      "Batch calculation at epoch 60.: 803it [00:37, 21.28it/s]"
     ]
    },
    {
     "name": "stdout",
     "output_type": "stream",
     "text": [
      "------------------------------------------------------------\n",
      "Epoch 60, batch 799:\n",
      "Average original gradient norm: 7.936756234616041 (over last 800 batches)\n",
      "Average clipped gradient norm: 1.9998141191899776 (over last 800 batches)\n",
      "Running average global loss: 0.9811253192275763 (over last 800 batches)\n",
      "Running average activity prediction loss: 0.2901846117898822 (Cross Entropy over last 800 batches)\n",
      "Running average time till next event prediction loss: 0.15888637411408127 (MAE over last 800 batches)\n",
      "Running average (complete) remaining runtime prediction loss: 0.5320543342828751 (MAE over last 800 batches)\n",
      "------------------------------------------------------------\n"
     ]
    },
    {
     "name": "stderr",
     "output_type": "stream",
     "text": [
      "Batch calculation at epoch 60.: 1604it [01:14, 21.45it/s]"
     ]
    },
    {
     "name": "stdout",
     "output_type": "stream",
     "text": [
      "------------------------------------------------------------\n",
      "Epoch 60, batch 1599:\n",
      "Average original gradient norm: 7.961111739873886 (over last 800 batches)\n",
      "Average clipped gradient norm: 1.9999996826052666 (over last 800 batches)\n",
      "Running average global loss: 0.9778136434406042 (over last 800 batches)\n",
      "Running average activity prediction loss: 0.29016785182058813 (Cross Entropy over last 800 batches)\n",
      "Running average time till next event prediction loss: 0.1580893262755126 (MAE over last 800 batches)\n",
      "Running average (complete) remaining runtime prediction loss: 0.5295564663037657 (MAE over last 800 batches)\n",
      "------------------------------------------------------------\n"
     ]
    },
    {
     "name": "stderr",
     "output_type": "stream",
     "text": [
      "Batch calculation at epoch 60.: 2402it [01:52, 21.02it/s]"
     ]
    },
    {
     "name": "stdout",
     "output_type": "stream",
     "text": [
      "------------------------------------------------------------\n",
      "Epoch 60, batch 2399:\n",
      "Average original gradient norm: 8.08282130986452 (over last 800 batches)\n",
      "Average clipped gradient norm: 1.9999996785819532 (over last 800 batches)\n",
      "Running average global loss: 0.9763620655983687 (over last 800 batches)\n",
      "Running average activity prediction loss: 0.2895290743932128 (Cross Entropy over last 800 batches)\n",
      "Running average time till next event prediction loss: 0.158037793263793 (MAE over last 800 batches)\n",
      "Running average (complete) remaining runtime prediction loss: 0.5287951996922493 (MAE over last 800 batches)\n",
      "------------------------------------------------------------\n"
     ]
    },
    {
     "name": "stderr",
     "output_type": "stream",
     "text": [
      "Batch calculation at epoch 60.: 3204it [02:30, 21.33it/s]"
     ]
    },
    {
     "name": "stdout",
     "output_type": "stream",
     "text": [
      "------------------------------------------------------------\n",
      "Epoch 60, batch 3199:\n",
      "Average original gradient norm: 7.96909841477871 (over last 800 batches)\n",
      "Average clipped gradient norm: 1.9994605942070485 (over last 800 batches)\n",
      "Running average global loss: 0.9789416694641113 (over last 800 batches)\n",
      "Running average activity prediction loss: 0.2901467369124293 (Cross Entropy over last 800 batches)\n",
      "Running average time till next event prediction loss: 0.15857908625155687 (MAE over last 800 batches)\n",
      "Running average (complete) remaining runtime prediction loss: 0.5302158462628722 (MAE over last 800 batches)\n",
      "------------------------------------------------------------\n"
     ]
    },
    {
     "name": "stderr",
     "output_type": "stream",
     "text": [
      "Batch calculation at epoch 60.: 4002it [03:08, 21.22it/s]"
     ]
    },
    {
     "name": "stdout",
     "output_type": "stream",
     "text": [
      "------------------------------------------------------------\n",
      "Epoch 60, batch 3999:\n",
      "Average original gradient norm: 8.19044202849269 (over last 800 batches)\n",
      "Average clipped gradient norm: 1.9999684266746045 (over last 800 batches)\n",
      "Running average global loss: 0.9768585070967675 (over last 800 batches)\n",
      "Running average activity prediction loss: 0.2899123451858759 (Cross Entropy over last 800 batches)\n",
      "Running average time till next event prediction loss: 0.1583989664632827 (MAE over last 800 batches)\n",
      "Running average (complete) remaining runtime prediction loss: 0.5285471962764859 (MAE over last 800 batches)\n",
      "------------------------------------------------------------\n"
     ]
    },
    {
     "name": "stderr",
     "output_type": "stream",
     "text": [
      "Batch calculation at epoch 60.: 4798it [03:47, 21.11it/s]\n"
     ]
    },
    {
     "name": "stdout",
     "output_type": "stream",
     "text": [
      "=======================================\n",
      "End of epoch 60\n",
      "=======================================\n",
      "Running average global loss: 0.9773480469733477 (over last 800 batches)\n",
      "Running average activity prediction loss: 0.29033389300107953 (Cross Entropy over last 800 batches)\n",
      "Running average time till next event prediction loss: 0.15830404605716467 (MAE over last 800 batches)\n",
      "Running average (complete) remaining runtime prediction loss: 0.528710110373795 (MAE over last 800 batches)\n"
     ]
    },
    {
     "name": "stderr",
     "output_type": "stream",
     "text": [
      "Validation batch calculation: 36it [15:47, 26.32s/it]\n"
     ]
    },
    {
     "name": "stdout",
     "output_type": "stream",
     "text": [
      "Avg MAE TTNE prediction validation set: 0.2097785472869873 (standardized) ; 777.3954427083333 (minutes)'\n",
      "Avg 1-(normalized) DL distance acitivty suffix prediction validation set: 0.3860655128955841\n",
      "Percentage of suffixes predicted to END: too early - 0.07412438479968873 ; right moment - 0.10574277971562558 ; too late - 0.8201328354846857\n",
      "Too early instances - avg amount of events too early: 9.248733520507812\n",
      "Too late instances - avg amount of events too late: 33.42586898803711\n",
      "Avg absolute amount of events predicted too early / too late: 28.099210739135742\n",
      "Avg MAE RRT prediction validation set: 0.49063530564308167 (standardized) ; 8230.992708333333 (minutes)'\n",
      " \n",
      "------------------------------------\n",
      "EPOCH 61:\n",
      "____________________________________\n"
     ]
    },
    {
     "name": "stderr",
     "output_type": "stream",
     "text": [
      "Batch calculation at epoch 61.: 803it [00:37, 21.62it/s]"
     ]
    },
    {
     "name": "stdout",
     "output_type": "stream",
     "text": [
      "------------------------------------------------------------\n",
      "Epoch 61, batch 799:\n",
      "Average original gradient norm: 7.719896345883608 (over last 800 batches)\n",
      "Average clipped gradient norm: 1.999937569797039 (over last 800 batches)\n",
      "Running average global loss: 0.9771277283877134 (over last 800 batches)\n",
      "Running average activity prediction loss: 0.28992198534309865 (Cross Entropy over last 800 batches)\n",
      "Running average time till next event prediction loss: 0.1583189851976931 (MAE over last 800 batches)\n",
      "Running average (complete) remaining runtime prediction loss: 0.5288867583498359 (MAE over last 800 batches)\n",
      "------------------------------------------------------------\n"
     ]
    },
    {
     "name": "stderr",
     "output_type": "stream",
     "text": [
      "Batch calculation at epoch 61.: 1604it [01:14, 21.39it/s]"
     ]
    },
    {
     "name": "stdout",
     "output_type": "stream",
     "text": [
      "------------------------------------------------------------\n",
      "Epoch 61, batch 1599:\n",
      "Average original gradient norm: 8.152141315042973 (over last 800 batches)\n",
      "Average clipped gradient norm: 1.9999996784329415 (over last 800 batches)\n",
      "Running average global loss: 0.9797506728023291 (over last 800 batches)\n",
      "Running average activity prediction loss: 0.2899483796209097 (Cross Entropy over last 800 batches)\n",
      "Running average time till next event prediction loss: 0.15924600466154515 (MAE over last 800 batches)\n",
      "Running average (complete) remaining runtime prediction loss: 0.5305562891811132 (MAE over last 800 batches)\n",
      "------------------------------------------------------------\n"
     ]
    },
    {
     "name": "stderr",
     "output_type": "stream",
     "text": [
      "Batch calculation at epoch 61.: 2402it [01:52, 20.90it/s]"
     ]
    },
    {
     "name": "stdout",
     "output_type": "stream",
     "text": [
      "------------------------------------------------------------\n",
      "Epoch 61, batch 2399:\n",
      "Average original gradient norm: 8.11739643111825 (over last 800 batches)\n",
      "Average clipped gradient norm: 1.9999735380709172 (over last 800 batches)\n",
      "Running average global loss: 0.9772090907394886 (over last 800 batches)\n",
      "Running average activity prediction loss: 0.28931867603212597 (Cross Entropy over last 800 batches)\n",
      "Running average time till next event prediction loss: 0.1578664563409984 (MAE over last 800 batches)\n",
      "Running average (complete) remaining runtime prediction loss: 0.5300239574536681 (MAE over last 800 batches)\n",
      "------------------------------------------------------------\n"
     ]
    },
    {
     "name": "stderr",
     "output_type": "stream",
     "text": [
      "Batch calculation at epoch 61.: 3203it [02:30, 21.28it/s]"
     ]
    },
    {
     "name": "stdout",
     "output_type": "stream",
     "text": [
      "------------------------------------------------------------\n",
      "Epoch 61, batch 3199:\n",
      "Average original gradient norm: 8.053861038386822 (over last 800 batches)\n",
      "Average clipped gradient norm: 1.9999996808171272 (over last 800 batches)\n",
      "Running average global loss: 0.9781256966292858 (over last 800 batches)\n",
      "Running average activity prediction loss: 0.289370931237936 (Cross Entropy over last 800 batches)\n",
      "Running average time till next event prediction loss: 0.15841378573328257 (MAE over last 800 batches)\n",
      "Running average (complete) remaining runtime prediction loss: 0.5303409793227911 (MAE over last 800 batches)\n",
      "------------------------------------------------------------\n"
     ]
    },
    {
     "name": "stderr",
     "output_type": "stream",
     "text": [
      "Batch calculation at epoch 61.: 4004it [03:07, 21.04it/s]"
     ]
    },
    {
     "name": "stdout",
     "output_type": "stream",
     "text": [
      "------------------------------------------------------------\n",
      "Epoch 61, batch 3999:\n",
      "Average original gradient norm: 7.956553663909435 (over last 800 batches)\n",
      "Average clipped gradient norm: 1.9999996708333492 (over last 800 batches)\n",
      "Running average global loss: 0.9776218690723181 (over last 800 batches)\n",
      "Running average activity prediction loss: 0.29031011171638965 (Cross Entropy over last 800 batches)\n",
      "Running average time till next event prediction loss: 0.15811501820571722 (MAE over last 800 batches)\n",
      "Running average (complete) remaining runtime prediction loss: 0.5291967388615012 (MAE over last 800 batches)\n",
      "------------------------------------------------------------\n"
     ]
    },
    {
     "name": "stderr",
     "output_type": "stream",
     "text": [
      "Batch calculation at epoch 61.: 4798it [03:45, 21.23it/s]\n"
     ]
    },
    {
     "name": "stdout",
     "output_type": "stream",
     "text": [
      "=======================================\n",
      "End of epoch 61\n",
      "=======================================\n",
      "Running average global loss: 0.9787238804996014 (over last 800 batches)\n",
      "Running average activity prediction loss: 0.2902787608653307 (Cross Entropy over last 800 batches)\n",
      "Running average time till next event prediction loss: 0.1583733486942947 (MAE over last 800 batches)\n",
      "Running average (complete) remaining runtime prediction loss: 0.5300717727839946 (MAE over last 800 batches)\n"
     ]
    },
    {
     "name": "stderr",
     "output_type": "stream",
     "text": [
      "Validation batch calculation: 36it [15:45, 26.26s/it]\n"
     ]
    },
    {
     "name": "stdout",
     "output_type": "stream",
     "text": [
      "Avg MAE TTNE prediction validation set: 0.21016763150691986 (standardized) ; 778.8612630208333 (minutes)'\n",
      "Avg 1-(normalized) DL distance acitivty suffix prediction validation set: 0.38065266609191895\n",
      "Percentage of suffixes predicted to END: too early - 0.06940073858167745 ; right moment - 0.10480760698171293 ; too late - 0.8257916544366096\n",
      "Too early instances - avg amount of events too early: 9.325169563293457\n",
      "Too late instances - avg amount of events too late: 34.94047546386719\n",
      "Avg absolute amount of events predicted too early / too late: 29.5007266998291\n",
      "Avg MAE RRT prediction validation set: 0.49133995175361633 (standardized) ; 8240.619791666666 (minutes)'\n",
      " \n",
      "------------------------------------\n",
      "EPOCH 62:\n",
      "____________________________________\n"
     ]
    },
    {
     "name": "stderr",
     "output_type": "stream",
     "text": [
      "Batch calculation at epoch 62.: 802it [00:36, 21.70it/s]"
     ]
    },
    {
     "name": "stdout",
     "output_type": "stream",
     "text": [
      "------------------------------------------------------------\n",
      "Epoch 62, batch 799:\n",
      "Average original gradient norm: 8.269056705236435 (over last 800 batches)\n",
      "Average clipped gradient norm: 1.9998276403546333 (over last 800 batches)\n",
      "Running average global loss: 0.9795341869443654 (over last 800 batches)\n",
      "Running average activity prediction loss: 0.28977043595165014 (Cross Entropy over last 800 batches)\n",
      "Running average time till next event prediction loss: 0.15889944098889827 (MAE over last 800 batches)\n",
      "Running average (complete) remaining runtime prediction loss: 0.5308643105253578 (MAE over last 800 batches)\n",
      "------------------------------------------------------------\n"
     ]
    },
    {
     "name": "stderr",
     "output_type": "stream",
     "text": [
      "Batch calculation at epoch 62.: 1603it [01:14, 21.40it/s]"
     ]
    },
    {
     "name": "stdout",
     "output_type": "stream",
     "text": [
      "------------------------------------------------------------\n",
      "Epoch 62, batch 1599:\n",
      "Average original gradient norm: 8.145942314118146 (over last 800 batches)\n",
      "Average clipped gradient norm: 1.9998635210096836 (over last 800 batches)\n",
      "Running average global loss: 0.9734703144431114 (over last 800 batches)\n",
      "Running average activity prediction loss: 0.2888337127491832 (Cross Entropy over last 800 batches)\n",
      "Running average time till next event prediction loss: 0.15751801402308047 (MAE over last 800 batches)\n",
      "Running average (complete) remaining runtime prediction loss: 0.5271185886114835 (MAE over last 800 batches)\n",
      "------------------------------------------------------------\n"
     ]
    },
    {
     "name": "stderr",
     "output_type": "stream",
     "text": [
      "Batch calculation at epoch 62.: 2404it [01:53, 20.26it/s]"
     ]
    },
    {
     "name": "stdout",
     "output_type": "stream",
     "text": [
      "------------------------------------------------------------\n",
      "Epoch 62, batch 2399:\n",
      "Average original gradient norm: 8.115439707189799 (over last 800 batches)\n",
      "Average clipped gradient norm: 1.999523841291666 (over last 800 batches)\n",
      "Running average global loss: 0.9796164447814226 (over last 800 batches)\n",
      "Running average activity prediction loss: 0.2904274119064212 (Cross Entropy over last 800 batches)\n",
      "Running average time till next event prediction loss: 0.15893845756538214 (MAE over last 800 batches)\n",
      "Running average (complete) remaining runtime prediction loss: 0.5302505742758512 (MAE over last 800 batches)\n",
      "------------------------------------------------------------\n"
     ]
    },
    {
     "name": "stderr",
     "output_type": "stream",
     "text": [
      "Batch calculation at epoch 62.: 3202it [02:31, 21.36it/s]"
     ]
    },
    {
     "name": "stdout",
     "output_type": "stream",
     "text": [
      "------------------------------------------------------------\n",
      "Epoch 62, batch 3199:\n",
      "Average original gradient norm: 7.8659604707360264 (over last 800 batches)\n",
      "Average clipped gradient norm: 1.999999687820673 (over last 800 batches)\n",
      "Running average global loss: 0.9769330763816834 (over last 800 batches)\n",
      "Running average activity prediction loss: 0.289738111756742 (Cross Entropy over last 800 batches)\n",
      "Running average time till next event prediction loss: 0.15840201755985617 (MAE over last 800 batches)\n",
      "Running average (complete) remaining runtime prediction loss: 0.5287929471582175 (MAE over last 800 batches)\n",
      "------------------------------------------------------------\n"
     ]
    },
    {
     "name": "stderr",
     "output_type": "stream",
     "text": [
      "Batch calculation at epoch 62.: 4003it [03:09, 21.07it/s]"
     ]
    },
    {
     "name": "stdout",
     "output_type": "stream",
     "text": [
      "------------------------------------------------------------\n",
      "Epoch 62, batch 3999:\n",
      "Average original gradient norm: 7.762410452216864 (over last 800 batches)\n",
      "Average clipped gradient norm: 1.9996906535327434 (over last 800 batches)\n",
      "Running average global loss: 0.9759942445904016 (over last 800 batches)\n",
      "Running average activity prediction loss: 0.28990465458482506 (Cross Entropy over last 800 batches)\n",
      "Running average time till next event prediction loss: 0.1576386570185423 (MAE over last 800 batches)\n",
      "Running average (complete) remaining runtime prediction loss: 0.528450931981206 (MAE over last 800 batches)\n",
      "------------------------------------------------------------\n"
     ]
    },
    {
     "name": "stderr",
     "output_type": "stream",
     "text": [
      "Batch calculation at epoch 62.: 4798it [03:47, 21.09it/s]\n"
     ]
    },
    {
     "name": "stdout",
     "output_type": "stream",
     "text": [
      "=======================================\n",
      "End of epoch 62\n",
      "=======================================\n",
      "Running average global loss: 0.9806797433644533 (over last 800 batches)\n",
      "Running average activity prediction loss: 0.2900362440571189 (Cross Entropy over last 800 batches)\n",
      "Running average time till next event prediction loss: 0.15896433603949844 (MAE over last 800 batches)\n",
      "Running average (complete) remaining runtime prediction loss: 0.5316791632026434 (MAE over last 800 batches)\n"
     ]
    },
    {
     "name": "stderr",
     "output_type": "stream",
     "text": [
      "Validation batch calculation: 36it [15:45, 26.26s/it]\n"
     ]
    },
    {
     "name": "stdout",
     "output_type": "stream",
     "text": [
      "Avg MAE TTNE prediction validation set: 0.2106172740459442 (standardized) ; 780.5279947916666 (minutes)'\n",
      "Avg 1-(normalized) DL distance acitivty suffix prediction validation set: 0.3859657943248749\n",
      "Percentage of suffixes predicted to END: too early - 0.07436329754192919 ; right moment - 0.10604312716301358 ; too late - 0.8195935752950573\n",
      "Too early instances - avg amount of events too early: 9.344409942626953\n",
      "Too late instances - avg amount of events too late: 34.01543426513672\n",
      "Avg absolute amount of events predicted too early / too late: 28.573711395263672\n",
      "Avg MAE RRT prediction validation set: 0.4914959967136383 (standardized) ; 8246.7328125 (minutes)'\n",
      " \n",
      "------------------------------------\n",
      "EPOCH 63:\n",
      "____________________________________\n"
     ]
    },
    {
     "name": "stderr",
     "output_type": "stream",
     "text": [
      "Batch calculation at epoch 63.: 804it [00:38, 20.42it/s]"
     ]
    },
    {
     "name": "stdout",
     "output_type": "stream",
     "text": [
      "------------------------------------------------------------\n",
      "Epoch 63, batch 799:\n",
      "Average original gradient norm: 7.760037685632706 (over last 800 batches)\n",
      "Average clipped gradient norm: 1.9999996702373029 (over last 800 batches)\n",
      "Running average global loss: 0.974006290435791 (over last 800 batches)\n",
      "Running average activity prediction loss: 0.28874064445495606 (Cross Entropy over last 800 batches)\n",
      "Running average time till next event prediction loss: 0.15740404938347638 (MAE over last 800 batches)\n",
      "Running average (complete) remaining runtime prediction loss: 0.5278615958243609 (MAE over last 800 batches)\n",
      "------------------------------------------------------------\n"
     ]
    },
    {
     "name": "stderr",
     "output_type": "stream",
     "text": [
      "Batch calculation at epoch 63.: 1602it [01:17, 21.11it/s]"
     ]
    },
    {
     "name": "stdout",
     "output_type": "stream",
     "text": [
      "------------------------------------------------------------\n",
      "Epoch 63, batch 1599:\n",
      "Average original gradient norm: 8.055939952135086 (over last 800 batches)\n",
      "Average clipped gradient norm: 1.9998051013052462 (over last 800 batches)\n",
      "Running average global loss: 0.9779900582879781 (over last 800 batches)\n",
      "Running average activity prediction loss: 0.2899633480235934 (Cross Entropy over last 800 batches)\n",
      "Running average time till next event prediction loss: 0.15862775984220207 (MAE over last 800 batches)\n",
      "Running average (complete) remaining runtime prediction loss: 0.5293989505246282 (MAE over last 800 batches)\n",
      "------------------------------------------------------------\n"
     ]
    },
    {
     "name": "stderr",
     "output_type": "stream",
     "text": [
      "Batch calculation at epoch 63.: 2403it [01:55, 21.16it/s]"
     ]
    },
    {
     "name": "stdout",
     "output_type": "stream",
     "text": [
      "------------------------------------------------------------\n",
      "Epoch 63, batch 2399:\n",
      "Average original gradient norm: 8.149481106251478 (over last 800 batches)\n",
      "Average clipped gradient norm: 1.9999777898192406 (over last 800 batches)\n",
      "Running average global loss: 0.9785636229813099 (over last 800 batches)\n",
      "Running average activity prediction loss: 0.2891524949669838 (Cross Entropy over last 800 batches)\n",
      "Running average time till next event prediction loss: 0.1585179011616856 (MAE over last 800 batches)\n",
      "Running average (complete) remaining runtime prediction loss: 0.5308932266011834 (MAE over last 800 batches)\n",
      "------------------------------------------------------------\n"
     ]
    },
    {
     "name": "stderr",
     "output_type": "stream",
     "text": [
      "Batch calculation at epoch 63.: 3204it [02:34, 21.17it/s]"
     ]
    },
    {
     "name": "stdout",
     "output_type": "stream",
     "text": [
      "------------------------------------------------------------\n",
      "Epoch 63, batch 3199:\n",
      "Average original gradient norm: 7.797115417569875 (over last 800 batches)\n",
      "Average clipped gradient norm: 1.9996413086354732 (over last 800 batches)\n",
      "Running average global loss: 0.9771116272360086 (over last 800 batches)\n",
      "Running average activity prediction loss: 0.2896945646777749 (Cross Entropy over last 800 batches)\n",
      "Running average time till next event prediction loss: 0.15783807087689639 (MAE over last 800 batches)\n",
      "Running average (complete) remaining runtime prediction loss: 0.5295789927989244 (MAE over last 800 batches)\n",
      "------------------------------------------------------------\n"
     ]
    },
    {
     "name": "stderr",
     "output_type": "stream",
     "text": [
      "Batch calculation at epoch 63.: 4003it [03:12, 21.38it/s]"
     ]
    },
    {
     "name": "stdout",
     "output_type": "stream",
     "text": [
      "------------------------------------------------------------\n",
      "Epoch 63, batch 3999:\n",
      "Average original gradient norm: 8.145436220020056 (over last 800 batches)\n",
      "Average clipped gradient norm: 1.9996826116740705 (over last 800 batches)\n",
      "Running average global loss: 0.9805124596506357 (over last 800 batches)\n",
      "Running average activity prediction loss: 0.29034151799976826 (Cross Entropy over last 800 batches)\n",
      "Running average time till next event prediction loss: 0.15893406898714602 (MAE over last 800 batches)\n",
      "Running average (complete) remaining runtime prediction loss: 0.5312368730455637 (MAE over last 800 batches)\n",
      "------------------------------------------------------------\n"
     ]
    },
    {
     "name": "stderr",
     "output_type": "stream",
     "text": [
      "Batch calculation at epoch 63.: 4798it [03:49, 20.87it/s]\n"
     ]
    },
    {
     "name": "stdout",
     "output_type": "stream",
     "text": [
      "=======================================\n",
      "End of epoch 63\n",
      "=======================================\n",
      "Running average global loss: 0.9764823137968779 (over last 800 batches)\n",
      "Running average activity prediction loss: 0.29036385640501977 (Cross Entropy over last 800 batches)\n",
      "Running average time till next event prediction loss: 0.15876623540185392 (MAE over last 800 batches)\n",
      "Running average (complete) remaining runtime prediction loss: 0.5273522221669554 (MAE over last 800 batches)\n"
     ]
    },
    {
     "name": "stderr",
     "output_type": "stream",
     "text": [
      "Validation batch calculation: 36it [15:46, 26.30s/it]\n"
     ]
    },
    {
     "name": "stdout",
     "output_type": "stream",
     "text": [
      "Avg MAE TTNE prediction validation set: 0.20975983142852783 (standardized) ; 777.336328125 (minutes)'\n",
      "Avg 1-(normalized) DL distance acitivty suffix prediction validation set: 0.40849289298057556\n",
      "Percentage of suffixes predicted to END: too early - 0.10428882502713366 ; right moment - 0.11032990436664232 ; too late - 0.785381270606224\n",
      "Too early instances - avg amount of events too early: 10.03907585144043\n",
      "Too late instances - avg amount of events too late: 32.10836410522461\n",
      "Avg absolute amount of events predicted too early / too late: 26.264270782470703\n",
      "Avg MAE RRT prediction validation set: 0.4913098216056824 (standardized) ; 8243.65625 (minutes)'\n",
      " \n",
      "------------------------------------\n",
      "EPOCH 64:\n",
      "____________________________________\n"
     ]
    },
    {
     "name": "stderr",
     "output_type": "stream",
     "text": [
      "Batch calculation at epoch 64.: 803it [00:37, 20.66it/s]"
     ]
    },
    {
     "name": "stdout",
     "output_type": "stream",
     "text": [
      "------------------------------------------------------------\n",
      "Epoch 64, batch 799:\n",
      "Average original gradient norm: 7.919810955822467 (over last 800 batches)\n",
      "Average clipped gradient norm: 1.9999996745586395 (over last 800 batches)\n",
      "Running average global loss: 0.9796327222883702 (over last 800 batches)\n",
      "Running average activity prediction loss: 0.28933363012969493 (Cross Entropy over last 800 batches)\n",
      "Running average time till next event prediction loss: 0.15907222831621767 (MAE over last 800 batches)\n",
      "Running average (complete) remaining runtime prediction loss: 0.5312268626317382 (MAE over last 800 batches)\n",
      "------------------------------------------------------------\n"
     ]
    },
    {
     "name": "stderr",
     "output_type": "stream",
     "text": [
      "Batch calculation at epoch 64.: 1604it [01:16, 20.45it/s]"
     ]
    },
    {
     "name": "stdout",
     "output_type": "stream",
     "text": [
      "------------------------------------------------------------\n",
      "Epoch 64, batch 1599:\n",
      "Average original gradient norm: 8.1752968031168 (over last 800 batches)\n",
      "Average clipped gradient norm: 1.999999685883522 (over last 800 batches)\n",
      "Running average global loss: 0.9807926778495312 (over last 800 batches)\n",
      "Running average activity prediction loss: 0.28944695968180895 (Cross Entropy over last 800 batches)\n",
      "Running average time till next event prediction loss: 0.15908065227791668 (MAE over last 800 batches)\n",
      "Running average (complete) remaining runtime prediction loss: 0.5322650661319495 (MAE over last 800 batches)\n",
      "------------------------------------------------------------\n"
     ]
    },
    {
     "name": "stderr",
     "output_type": "stream",
     "text": [
      "Batch calculation at epoch 64.: 2402it [01:55, 20.93it/s]"
     ]
    },
    {
     "name": "stdout",
     "output_type": "stream",
     "text": [
      "------------------------------------------------------------\n",
      "Epoch 64, batch 2399:\n",
      "Average original gradient norm: 8.0110638679564 (over last 800 batches)\n",
      "Average clipped gradient norm: 1.9997932828962803 (over last 800 batches)\n",
      "Running average global loss: 0.9746118875592947 (over last 800 batches)\n",
      "Running average activity prediction loss: 0.2894232819229364 (Cross Entropy over last 800 batches)\n",
      "Running average time till next event prediction loss: 0.15800418733619154 (MAE over last 800 batches)\n",
      "Running average (complete) remaining runtime prediction loss: 0.5271844182536006 (MAE over last 800 batches)\n",
      "------------------------------------------------------------\n"
     ]
    },
    {
     "name": "stderr",
     "output_type": "stream",
     "text": [
      "Batch calculation at epoch 64.: 3203it [02:33, 21.13it/s]"
     ]
    },
    {
     "name": "stdout",
     "output_type": "stream",
     "text": [
      "------------------------------------------------------------\n",
      "Epoch 64, batch 3199:\n",
      "Average original gradient norm: 8.472856760919093 (over last 800 batches)\n",
      "Average clipped gradient norm: 1.9999996893107892 (over last 800 batches)\n",
      "Running average global loss: 0.9750754263252019 (over last 800 batches)\n",
      "Running average activity prediction loss: 0.28915899503976106 (Cross Entropy over last 800 batches)\n",
      "Running average time till next event prediction loss: 0.15810496694408357 (MAE over last 800 batches)\n",
      "Running average (complete) remaining runtime prediction loss: 0.527811462059617 (MAE over last 800 batches)\n",
      "------------------------------------------------------------\n"
     ]
    },
    {
     "name": "stderr",
     "output_type": "stream",
     "text": [
      "Batch calculation at epoch 64.: 4004it [03:11, 21.18it/s]"
     ]
    },
    {
     "name": "stdout",
     "output_type": "stream",
     "text": [
      "------------------------------------------------------------\n",
      "Epoch 64, batch 3999:\n",
      "Average original gradient norm: 8.451659283638001 (over last 800 batches)\n",
      "Average clipped gradient norm: 1.9999996906518935 (over last 800 batches)\n",
      "Running average global loss: 0.9772134666144848 (over last 800 batches)\n",
      "Running average activity prediction loss: 0.2902143805474043 (Cross Entropy over last 800 batches)\n",
      "Running average time till next event prediction loss: 0.15806613546796144 (MAE over last 800 batches)\n",
      "Running average (complete) remaining runtime prediction loss: 0.5289329487085342 (MAE over last 800 batches)\n",
      "------------------------------------------------------------\n"
     ]
    },
    {
     "name": "stderr",
     "output_type": "stream",
     "text": [
      "Batch calculation at epoch 64.: 4798it [03:49, 20.91it/s]\n"
     ]
    },
    {
     "name": "stdout",
     "output_type": "stream",
     "text": [
      "=======================================\n",
      "End of epoch 64\n",
      "=======================================\n",
      "Running average global loss: 0.9761460376530886 (over last 800 batches)\n",
      "Running average activity prediction loss: 0.2894220743700862 (Cross Entropy over last 800 batches)\n",
      "Running average time till next event prediction loss: 0.15775947068817914 (MAE over last 800 batches)\n",
      "Running average (complete) remaining runtime prediction loss: 0.5289644930139183 (MAE over last 800 batches)\n"
     ]
    },
    {
     "name": "stderr",
     "output_type": "stream",
     "text": [
      "Validation batch calculation: 36it [15:44, 26.23s/it]\n"
     ]
    },
    {
     "name": "stdout",
     "output_type": "stream",
     "text": [
      "Avg MAE TTNE prediction validation set: 0.21067455410957336 (standardized) ; 780.7140625 (minutes)'\n",
      "Avg 1-(normalized) DL distance acitivty suffix prediction validation set: 0.38822561502456665\n",
      "Percentage of suffixes predicted to END: too early - 0.07033591131559008 ; right moment - 0.10431612934053257 ; too late - 0.8253479593438774\n",
      "Too early instances - avg amount of events too early: 9.042119979858398\n",
      "Too late instances - avg amount of events too late: 33.31022644042969\n",
      "Avg absolute amount of events predicted too early / too late: 28.128515243530273\n",
      "Avg MAE RRT prediction validation set: 0.4899541437625885 (standardized) ; 8219.556770833333 (minutes)'\n",
      " \n",
      "------------------------------------\n",
      "EPOCH 65:\n",
      "____________________________________\n"
     ]
    },
    {
     "name": "stderr",
     "output_type": "stream",
     "text": [
      "Batch calculation at epoch 65.: 804it [00:38, 20.83it/s]"
     ]
    },
    {
     "name": "stdout",
     "output_type": "stream",
     "text": [
      "------------------------------------------------------------\n",
      "Epoch 65, batch 799:\n",
      "Average original gradient norm: 8.21979920372367 (over last 800 batches)\n",
      "Average clipped gradient norm: 1.9994991794228554 (over last 800 batches)\n",
      "Running average global loss: 0.9755760549753905 (over last 800 batches)\n",
      "Running average activity prediction loss: 0.2896167589724064 (Cross Entropy over last 800 batches)\n",
      "Running average time till next event prediction loss: 0.15785136758349835 (MAE over last 800 batches)\n",
      "Running average (complete) remaining runtime prediction loss: 0.5281079292297364 (MAE over last 800 batches)\n",
      "------------------------------------------------------------\n"
     ]
    },
    {
     "name": "stderr",
     "output_type": "stream",
     "text": [
      "Batch calculation at epoch 65.: 1602it [01:17, 20.66it/s]"
     ]
    },
    {
     "name": "stdout",
     "output_type": "stream",
     "text": [
      "------------------------------------------------------------\n",
      "Epoch 65, batch 1599:\n",
      "Average original gradient norm: 8.358135351538658 (over last 800 batches)\n",
      "Average clipped gradient norm: 1.9999996875226498 (over last 800 batches)\n",
      "Running average global loss: 0.9784272692352534 (over last 800 batches)\n",
      "Running average activity prediction loss: 0.2894118158891797 (Cross Entropy over last 800 batches)\n",
      "Running average time till next event prediction loss: 0.15917435146868228 (MAE over last 800 batches)\n",
      "Running average (complete) remaining runtime prediction loss: 0.5298411000147462 (MAE over last 800 batches)\n",
      "------------------------------------------------------------\n"
     ]
    },
    {
     "name": "stderr",
     "output_type": "stream",
     "text": [
      "Batch calculation at epoch 65.: 2403it [01:56, 20.42it/s]"
     ]
    },
    {
     "name": "stdout",
     "output_type": "stream",
     "text": [
      "------------------------------------------------------------\n",
      "Epoch 65, batch 2399:\n",
      "Average original gradient norm: 8.243992104232312 (over last 800 batches)\n",
      "Average clipped gradient norm: 1.999999680519104 (over last 800 batches)\n",
      "Running average global loss: 0.9761258041113615 (over last 800 batches)\n",
      "Running average activity prediction loss: 0.28870733950287103 (Cross Entropy over last 800 batches)\n",
      "Running average time till next event prediction loss: 0.15804702029563486 (MAE over last 800 batches)\n",
      "Running average (complete) remaining runtime prediction loss: 0.5293714452907443 (MAE over last 800 batches)\n",
      "------------------------------------------------------------\n"
     ]
    },
    {
     "name": "stderr",
     "output_type": "stream",
     "text": [
      "Batch calculation at epoch 65.: 3204it [02:35, 20.45it/s]"
     ]
    },
    {
     "name": "stdout",
     "output_type": "stream",
     "text": [
      "------------------------------------------------------------\n",
      "Epoch 65, batch 3199:\n",
      "Average original gradient norm: 8.159992051124572 (over last 800 batches)\n",
      "Average clipped gradient norm: 1.9999996800720692 (over last 800 batches)\n",
      "Running average global loss: 0.9789850091189146 (over last 800 batches)\n",
      "Running average activity prediction loss: 0.29006354592740535 (Cross Entropy over last 800 batches)\n",
      "Running average time till next event prediction loss: 0.15826665049418806 (MAE over last 800 batches)\n",
      "Running average (complete) remaining runtime prediction loss: 0.530654813684523 (MAE over last 800 batches)\n",
      "------------------------------------------------------------\n"
     ]
    },
    {
     "name": "stderr",
     "output_type": "stream",
     "text": [
      "Batch calculation at epoch 65.: 4002it [03:14, 21.14it/s]"
     ]
    },
    {
     "name": "stdout",
     "output_type": "stream",
     "text": [
      "------------------------------------------------------------\n",
      "Epoch 65, batch 3999:\n",
      "Average original gradient norm: 8.368120840489864 (over last 800 batches)\n",
      "Average clipped gradient norm: 1.9999996791779995 (over last 800 batches)\n",
      "Running average global loss: 0.9741191239655018 (over last 800 batches)\n",
      "Running average activity prediction loss: 0.2890239555388689 (Cross Entropy over last 800 batches)\n",
      "Running average time till next event prediction loss: 0.15779613755643368 (MAE over last 800 batches)\n",
      "Running average (complete) remaining runtime prediction loss: 0.5272990318387747 (MAE over last 800 batches)\n",
      "------------------------------------------------------------\n"
     ]
    },
    {
     "name": "stderr",
     "output_type": "stream",
     "text": [
      "Batch calculation at epoch 65.: 4798it [03:51, 20.70it/s]\n"
     ]
    },
    {
     "name": "stdout",
     "output_type": "stream",
     "text": [
      "=======================================\n",
      "End of epoch 65\n",
      "=======================================\n",
      "Running average global loss: 0.9791160457581282 (over last 800 batches)\n",
      "Running average activity prediction loss: 0.28952540207654237 (Cross Entropy over last 800 batches)\n",
      "Running average time till next event prediction loss: 0.15891945005394517 (MAE over last 800 batches)\n",
      "Running average (complete) remaining runtime prediction loss: 0.5306711937114597 (MAE over last 800 batches)\n"
     ]
    },
    {
     "name": "stderr",
     "output_type": "stream",
     "text": [
      "Validation batch calculation: 36it [15:43, 26.22s/it]\n"
     ]
    },
    {
     "name": "stdout",
     "output_type": "stream",
     "text": [
      "Avg MAE TTNE prediction validation set: 0.21076707541942596 (standardized) ; 780.9392578125 (minutes)'\n",
      "Avg 1-(normalized) DL distance acitivty suffix prediction validation set: 0.3860452473163605\n",
      "Percentage of suffixes predicted to END: too early - 0.07948968238257438 ; right moment - 0.10780425537724322 ; too late - 0.8127060622401824\n",
      "Too early instances - avg amount of events too early: 9.58995246887207\n",
      "Too late instances - avg amount of events too late: 33.991676330566406\n",
      "Avg absolute amount of events predicted too early / too late: 28.387544631958008\n",
      "Avg MAE RRT prediction validation set: 0.49192848801612854 (standardized) ; 8256.015625 (minutes)'\n",
      " \n",
      "------------------------------------\n",
      "EPOCH 66:\n",
      "____________________________________\n"
     ]
    },
    {
     "name": "stderr",
     "output_type": "stream",
     "text": [
      "Batch calculation at epoch 66.: 804it [00:38, 21.67it/s]"
     ]
    },
    {
     "name": "stdout",
     "output_type": "stream",
     "text": [
      "------------------------------------------------------------\n",
      "Epoch 66, batch 799:\n",
      "Average original gradient norm: 7.886984097063541 (over last 800 batches)\n",
      "Average clipped gradient norm: 1.9999996739625931 (over last 800 batches)\n",
      "Running average global loss: 0.975505788102746 (over last 800 batches)\n",
      "Running average activity prediction loss: 0.28930795572698115 (Cross Entropy over last 800 batches)\n",
      "Running average time till next event prediction loss: 0.1579163805861026 (MAE over last 800 batches)\n",
      "Running average (complete) remaining runtime prediction loss: 0.528281451612711 (MAE over last 800 batches)\n",
      "------------------------------------------------------------\n"
     ]
    },
    {
     "name": "stderr",
     "output_type": "stream",
     "text": [
      "Batch calculation at epoch 66.: 1602it [01:16, 21.49it/s]"
     ]
    },
    {
     "name": "stdout",
     "output_type": "stream",
     "text": [
      "------------------------------------------------------------\n",
      "Epoch 66, batch 1599:\n",
      "Average original gradient norm: 7.888512294441462 (over last 800 batches)\n",
      "Average clipped gradient norm: 1.999968893378973 (over last 800 batches)\n",
      "Running average global loss: 0.9767366254329681 (over last 800 batches)\n",
      "Running average activity prediction loss: 0.2890649373829365 (Cross Entropy over last 800 batches)\n",
      "Running average time till next event prediction loss: 0.15801461880095302 (MAE over last 800 batches)\n",
      "Running average (complete) remaining runtime prediction loss: 0.52965707000345 (MAE over last 800 batches)\n",
      "------------------------------------------------------------\n"
     ]
    },
    {
     "name": "stderr",
     "output_type": "stream",
     "text": [
      "Batch calculation at epoch 66.: 2403it [01:54, 21.22it/s]"
     ]
    },
    {
     "name": "stdout",
     "output_type": "stream",
     "text": [
      "------------------------------------------------------------\n",
      "Epoch 66, batch 2399:\n",
      "Average original gradient norm: 7.967625925540924 (over last 800 batches)\n",
      "Average clipped gradient norm: 1.999999680966139 (over last 800 batches)\n",
      "Running average global loss: 0.9750780211389065 (over last 800 batches)\n",
      "Running average activity prediction loss: 0.288985502384603 (Cross Entropy over last 800 batches)\n",
      "Running average time till next event prediction loss: 0.1573522293753922 (MAE over last 800 batches)\n",
      "Running average (complete) remaining runtime prediction loss: 0.5287402864173054 (MAE over last 800 batches)\n",
      "------------------------------------------------------------\n"
     ]
    },
    {
     "name": "stderr",
     "output_type": "stream",
     "text": [
      "Batch calculation at epoch 66.: 3204it [02:32, 21.30it/s]"
     ]
    },
    {
     "name": "stdout",
     "output_type": "stream",
     "text": [
      "------------------------------------------------------------\n",
      "Epoch 66, batch 3199:\n",
      "Average original gradient norm: 8.247763231396675 (over last 800 batches)\n",
      "Average clipped gradient norm: 1.9999996793270112 (over last 800 batches)\n",
      "Running average global loss: 0.9782048231363296 (over last 800 batches)\n",
      "Running average activity prediction loss: 0.28968148209154604 (Cross Entropy over last 800 batches)\n",
      "Running average time till next event prediction loss: 0.15903034238144756 (MAE over last 800 batches)\n",
      "Running average (complete) remaining runtime prediction loss: 0.5294929967075587 (MAE over last 800 batches)\n",
      "------------------------------------------------------------\n"
     ]
    },
    {
     "name": "stderr",
     "output_type": "stream",
     "text": [
      "Batch calculation at epoch 66.: 4002it [03:10, 21.29it/s]"
     ]
    },
    {
     "name": "stdout",
     "output_type": "stream",
     "text": [
      "------------------------------------------------------------\n",
      "Epoch 66, batch 3999:\n",
      "Average original gradient norm: 8.15975391983986 (over last 800 batches)\n",
      "Average clipped gradient norm: 1.9995091424882412 (over last 800 batches)\n",
      "Running average global loss: 0.9786217556148767 (over last 800 batches)\n",
      "Running average activity prediction loss: 0.28980920208618044 (Cross Entropy over last 800 batches)\n",
      "Running average time till next event prediction loss: 0.1585818218346685 (MAE over last 800 batches)\n",
      "Running average (complete) remaining runtime prediction loss: 0.5302307338267565 (MAE over last 800 batches)\n",
      "------------------------------------------------------------\n"
     ]
    },
    {
     "name": "stderr",
     "output_type": "stream",
     "text": [
      "Batch calculation at epoch 66.: 4798it [03:49, 20.94it/s]\n"
     ]
    },
    {
     "name": "stdout",
     "output_type": "stream",
     "text": [
      "=======================================\n",
      "End of epoch 66\n",
      "=======================================\n",
      "Running average global loss: 0.9770718535780907 (over last 800 batches)\n",
      "Running average activity prediction loss: 0.2888875048980117 (Cross Entropy over last 800 batches)\n",
      "Running average time till next event prediction loss: 0.15922600695863365 (MAE over last 800 batches)\n",
      "Running average (complete) remaining runtime prediction loss: 0.5289583418518304 (MAE over last 800 batches)\n"
     ]
    },
    {
     "name": "stderr",
     "output_type": "stream",
     "text": [
      "Validation batch calculation: 36it [15:44, 26.24s/it]\n"
     ]
    },
    {
     "name": "stdout",
     "output_type": "stream",
     "text": [
      "Avg MAE TTNE prediction validation set: 0.2105962336063385 (standardized) ; 780.4393229166667 (minutes)'\n",
      "Avg 1-(normalized) DL distance acitivty suffix prediction validation set: 0.3817654848098755\n",
      "Percentage of suffixes predicted to END: too early - 0.070213041905295 ; right moment - 0.1058724752042704 ; too late - 0.8239144828904346\n",
      "Too early instances - avg amount of events too early: 9.397627830505371\n",
      "Too late instances - avg amount of events too late: 35.364810943603516\n",
      "Avg absolute amount of events predicted too early / too late: 29.797414779663086\n",
      "Avg MAE RRT prediction validation set: 0.4907660186290741 (standardized) ; 8234.377604166666 (minutes)'\n",
      " \n",
      "------------------------------------\n",
      "EPOCH 67:\n",
      "____________________________________\n"
     ]
    },
    {
     "name": "stderr",
     "output_type": "stream",
     "text": [
      "Batch calculation at epoch 67.: 804it [00:38, 21.59it/s]"
     ]
    },
    {
     "name": "stdout",
     "output_type": "stream",
     "text": [
      "------------------------------------------------------------\n",
      "Epoch 67, batch 799:\n",
      "Average original gradient norm: 8.05908199518919 (over last 800 batches)\n",
      "Average clipped gradient norm: 1.9997563706338406 (over last 800 batches)\n",
      "Running average global loss: 0.9775486063212157 (over last 800 batches)\n",
      "Running average activity prediction loss: 0.28942196127027275 (Cross Entropy over last 800 batches)\n",
      "Running average time till next event prediction loss: 0.1581897655222565 (MAE over last 800 batches)\n",
      "Running average (complete) remaining runtime prediction loss: 0.5299368769675493 (MAE over last 800 batches)\n",
      "------------------------------------------------------------\n"
     ]
    },
    {
     "name": "stderr",
     "output_type": "stream",
     "text": [
      "Batch calculation at epoch 67.: 1602it [01:15, 21.37it/s]"
     ]
    },
    {
     "name": "stdout",
     "output_type": "stream",
     "text": [
      "------------------------------------------------------------\n",
      "Epoch 67, batch 1599:\n",
      "Average original gradient norm: 8.181365790367126 (over last 800 batches)\n",
      "Average clipped gradient norm: 1.9999996791779995 (over last 800 batches)\n",
      "Running average global loss: 0.9790653644502163 (over last 800 batches)\n",
      "Running average activity prediction loss: 0.289116064812988 (Cross Entropy over last 800 batches)\n",
      "Running average time till next event prediction loss: 0.15849074619822204 (MAE over last 800 batches)\n",
      "Running average (complete) remaining runtime prediction loss: 0.5314585510268808 (MAE over last 800 batches)\n",
      "------------------------------------------------------------\n"
     ]
    },
    {
     "name": "stderr",
     "output_type": "stream",
     "text": [
      "Batch calculation at epoch 67.: 2403it [01:53, 21.24it/s]"
     ]
    },
    {
     "name": "stdout",
     "output_type": "stream",
     "text": [
      "------------------------------------------------------------\n",
      "Epoch 67, batch 2399:\n",
      "Average original gradient norm: 8.082516297399998 (over last 800 batches)\n",
      "Average clipped gradient norm: 1.999999691992998 (over last 800 batches)\n",
      "Running average global loss: 0.9748552498966455 (over last 800 batches)\n",
      "Running average activity prediction loss: 0.2890190382301807 (Cross Entropy over last 800 batches)\n",
      "Running average time till next event prediction loss: 0.15840041753835976 (MAE over last 800 batches)\n",
      "Running average (complete) remaining runtime prediction loss: 0.527435794994235 (MAE over last 800 batches)\n",
      "------------------------------------------------------------\n"
     ]
    },
    {
     "name": "stderr",
     "output_type": "stream",
     "text": [
      "Batch calculation at epoch 67.: 3204it [02:30, 21.20it/s]"
     ]
    },
    {
     "name": "stdout",
     "output_type": "stream",
     "text": [
      "------------------------------------------------------------\n",
      "Epoch 67, batch 3199:\n",
      "Average original gradient norm: 8.077514785528184 (over last 800 batches)\n",
      "Average clipped gradient norm: 1.9999996742606163 (over last 800 batches)\n",
      "Running average global loss: 0.9761347618699073 (over last 800 batches)\n",
      "Running average activity prediction loss: 0.2887569311633706 (Cross Entropy over last 800 batches)\n",
      "Running average time till next event prediction loss: 0.15838852101936937 (MAE over last 800 batches)\n",
      "Running average (complete) remaining runtime prediction loss: 0.528989309296012 (MAE over last 800 batches)\n",
      "------------------------------------------------------------\n"
     ]
    },
    {
     "name": "stderr",
     "output_type": "stream",
     "text": [
      "Batch calculation at epoch 67.: 4002it [03:08, 21.34it/s]"
     ]
    },
    {
     "name": "stdout",
     "output_type": "stream",
     "text": [
      "------------------------------------------------------------\n",
      "Epoch 67, batch 3999:\n",
      "Average original gradient norm: 8.066382457315921 (over last 800 batches)\n",
      "Average clipped gradient norm: 1.9999279974400996 (over last 800 batches)\n",
      "Running average global loss: 0.9761357587575913 (over last 800 batches)\n",
      "Running average activity prediction loss: 0.2895042574033141 (Cross Entropy over last 800 batches)\n",
      "Running average time till next event prediction loss: 0.15860768461599947 (MAE over last 800 batches)\n",
      "Running average (complete) remaining runtime prediction loss: 0.5280238157510757 (MAE over last 800 batches)\n",
      "------------------------------------------------------------\n"
     ]
    },
    {
     "name": "stderr",
     "output_type": "stream",
     "text": [
      "Batch calculation at epoch 67.: 4798it [03:45, 21.23it/s]\n"
     ]
    },
    {
     "name": "stdout",
     "output_type": "stream",
     "text": [
      "=======================================\n",
      "End of epoch 67\n",
      "=======================================\n",
      "Running average global loss: 0.9766515354812145 (over last 800 batches)\n",
      "Running average activity prediction loss: 0.28935871325433254 (Cross Entropy over last 800 batches)\n",
      "Running average time till next event prediction loss: 0.15776655806228518 (MAE over last 800 batches)\n",
      "Running average (complete) remaining runtime prediction loss: 0.5295262639224529 (MAE over last 800 batches)\n"
     ]
    },
    {
     "name": "stderr",
     "output_type": "stream",
     "text": [
      "Validation batch calculation: 36it [15:42, 26.19s/it]\n"
     ]
    },
    {
     "name": "stdout",
     "output_type": "stream",
     "text": [
      "Avg MAE TTNE prediction validation set: 0.20944863557815552 (standardized) ; 776.192578125 (minutes)'\n",
      "Avg 1-(normalized) DL distance acitivty suffix prediction validation set: 0.38035815954208374\n",
      "Percentage of suffixes predicted to END: too early - 0.07453394950067237 ; right moment - 0.10670525676293713 ; too late - 0.8187607937363905\n",
      "Too early instances - avg amount of events too early: 9.609212875366211\n",
      "Too late instances - avg amount of events too late: 35.116661071777344\n",
      "Avg absolute amount of events predicted too early / too late: 29.46835708618164\n",
      "Avg MAE RRT prediction validation set: 0.4923788905143738 (standardized) ; 8261.366145833334 (minutes)'\n",
      " \n",
      "------------------------------------\n",
      "EPOCH 68:\n",
      "____________________________________\n"
     ]
    },
    {
     "name": "stderr",
     "output_type": "stream",
     "text": [
      "Batch calculation at epoch 68.: 803it [00:37, 21.65it/s]"
     ]
    },
    {
     "name": "stdout",
     "output_type": "stream",
     "text": [
      "------------------------------------------------------------\n",
      "Epoch 68, batch 799:\n",
      "Average original gradient norm: 8.363720841407776 (over last 800 batches)\n",
      "Average clipped gradient norm: 1.999999689757824 (over last 800 batches)\n",
      "Running average global loss: 0.9773126950860024 (over last 800 batches)\n",
      "Running average activity prediction loss: 0.28904821451753376 (Cross Entropy over last 800 batches)\n",
      "Running average time till next event prediction loss: 0.158766928371042 (MAE over last 800 batches)\n",
      "Running average (complete) remaining runtime prediction loss: 0.529497554525733 (MAE over last 800 batches)\n",
      "------------------------------------------------------------\n"
     ]
    },
    {
     "name": "stderr",
     "output_type": "stream",
     "text": [
      "Batch calculation at epoch 68.: 1604it [01:15, 21.51it/s]"
     ]
    },
    {
     "name": "stdout",
     "output_type": "stream",
     "text": [
      "------------------------------------------------------------\n",
      "Epoch 68, batch 1599:\n",
      "Average original gradient norm: 7.959399280250072 (over last 800 batches)\n",
      "Average clipped gradient norm: 1.9996941523253917 (over last 800 batches)\n",
      "Running average global loss: 0.971827140673995 (over last 800 batches)\n",
      "Running average activity prediction loss: 0.288899431489408 (Cross Entropy over last 800 batches)\n",
      "Running average time till next event prediction loss: 0.1567386322002858 (MAE over last 800 batches)\n",
      "Running average (complete) remaining runtime prediction loss: 0.5261890789866448 (MAE over last 800 batches)\n",
      "------------------------------------------------------------\n"
     ]
    },
    {
     "name": "stderr",
     "output_type": "stream",
     "text": [
      "Batch calculation at epoch 68.: 2402it [01:53, 19.96it/s]"
     ]
    },
    {
     "name": "stdout",
     "output_type": "stream",
     "text": [
      "------------------------------------------------------------\n",
      "Epoch 68, batch 2399:\n",
      "Average original gradient norm: 8.310835319906474 (over last 800 batches)\n",
      "Average clipped gradient norm: 1.999940323084593 (over last 800 batches)\n",
      "Running average global loss: 0.9758461558073759 (over last 800 batches)\n",
      "Running average activity prediction loss: 0.2892190194129944 (Cross Entropy over last 800 batches)\n",
      "Running average time till next event prediction loss: 0.15796242156066 (MAE over last 800 batches)\n",
      "Running average (complete) remaining runtime prediction loss: 0.5286647145450115 (MAE over last 800 batches)\n",
      "------------------------------------------------------------\n"
     ]
    },
    {
     "name": "stderr",
     "output_type": "stream",
     "text": [
      "Batch calculation at epoch 68.: 3203it [02:32, 20.43it/s]"
     ]
    },
    {
     "name": "stdout",
     "output_type": "stream",
     "text": [
      "------------------------------------------------------------\n",
      "Epoch 68, batch 3199:\n",
      "Average original gradient norm: 8.024857648611068 (over last 800 batches)\n",
      "Average clipped gradient norm: 1.999999682456255 (over last 800 batches)\n",
      "Running average global loss: 0.9782607651501894 (over last 800 batches)\n",
      "Running average activity prediction loss: 0.2890866434574127 (Cross Entropy over last 800 batches)\n",
      "Running average time till next event prediction loss: 0.15854330269619824 (MAE over last 800 batches)\n",
      "Running average (complete) remaining runtime prediction loss: 0.5306308189406991 (MAE over last 800 batches)\n",
      "------------------------------------------------------------\n"
     ]
    },
    {
     "name": "stderr",
     "output_type": "stream",
     "text": [
      "Batch calculation at epoch 68.: 4004it [03:10, 21.46it/s]"
     ]
    },
    {
     "name": "stdout",
     "output_type": "stream",
     "text": [
      "------------------------------------------------------------\n",
      "Epoch 68, batch 3999:\n",
      "Average original gradient norm: 8.182090514302253 (over last 800 batches)\n",
      "Average clipped gradient norm: 1.9999996845424175 (over last 800 batches)\n",
      "Running average global loss: 0.9785184781998396 (over last 800 batches)\n",
      "Running average activity prediction loss: 0.2891919853910804 (Cross Entropy over last 800 batches)\n",
      "Running average time till next event prediction loss: 0.1584605906996876 (MAE over last 800 batches)\n",
      "Running average (complete) remaining runtime prediction loss: 0.5308659019693732 (MAE over last 800 batches)\n",
      "------------------------------------------------------------\n"
     ]
    },
    {
     "name": "stderr",
     "output_type": "stream",
     "text": [
      "Batch calculation at epoch 68.: 4798it [03:47, 21.07it/s]\n"
     ]
    },
    {
     "name": "stdout",
     "output_type": "stream",
     "text": [
      "=======================================\n",
      "End of epoch 68\n",
      "=======================================\n",
      "Running average global loss: 0.9763009045273066 (over last 800 batches)\n",
      "Running average activity prediction loss: 0.28869625721126796 (Cross Entropy over last 800 batches)\n",
      "Running average time till next event prediction loss: 0.1591901764459908 (MAE over last 800 batches)\n",
      "Running average (complete) remaining runtime prediction loss: 0.5284144702553749 (MAE over last 800 batches)\n"
     ]
    },
    {
     "name": "stderr",
     "output_type": "stream",
     "text": [
      "Validation batch calculation: 36it [15:43, 26.21s/it]\n"
     ]
    },
    {
     "name": "stdout",
     "output_type": "stream",
     "text": [
      "Avg MAE TTNE prediction validation set: 0.21079859137535095 (standardized) ; 781.2176432291667 (minutes)'\n",
      "Avg 1-(normalized) DL distance acitivty suffix prediction validation set: 0.3875054717063904\n",
      "Percentage of suffixes predicted to END: too early - 0.07716198966531738 ; right moment - 0.10616599657330866 ; too late - 0.816672013761374\n",
      "Too early instances - avg amount of events too early: 9.36022663116455\n",
      "Too late instances - avg amount of events too late: 33.72914505004883\n",
      "Avg absolute amount of events predicted too early / too late: 28.267902374267578\n",
      "Avg MAE RRT prediction validation set: 0.49150487780570984 (standardized) ; 8246.952083333334 (minutes)'\n",
      " \n",
      "------------------------------------\n",
      "EPOCH 69:\n",
      "____________________________________\n"
     ]
    },
    {
     "name": "stderr",
     "output_type": "stream",
     "text": [
      "Batch calculation at epoch 69.: 804it [00:38, 20.70it/s]"
     ]
    },
    {
     "name": "stdout",
     "output_type": "stream",
     "text": [
      "------------------------------------------------------------\n",
      "Epoch 69, batch 799:\n",
      "Average original gradient norm: 8.1981275883317 (over last 800 batches)\n",
      "Average clipped gradient norm: 1.9999996893107892 (over last 800 batches)\n",
      "Running average global loss: 0.9771181984990835 (over last 800 batches)\n",
      "Running average activity prediction loss: 0.28897879797965287 (Cross Entropy over last 800 batches)\n",
      "Running average time till next event prediction loss: 0.158036751402542 (MAE over last 800 batches)\n",
      "Running average (complete) remaining runtime prediction loss: 0.5301026467233896 (MAE over last 800 batches)\n",
      "------------------------------------------------------------\n"
     ]
    },
    {
     "name": "stderr",
     "output_type": "stream",
     "text": [
      "Batch calculation at epoch 69.: 1602it [01:16, 20.78it/s]"
     ]
    },
    {
     "name": "stdout",
     "output_type": "stream",
     "text": [
      "------------------------------------------------------------\n",
      "Epoch 69, batch 1599:\n",
      "Average original gradient norm: 8.168298959434033 (over last 800 batches)\n",
      "Average clipped gradient norm: 1.9999996772408486 (over last 800 batches)\n",
      "Running average global loss: 0.9743769048154354 (over last 800 batches)\n",
      "Running average activity prediction loss: 0.28861448522657157 (Cross Entropy over last 800 batches)\n",
      "Running average time till next event prediction loss: 0.15733633242547512 (MAE over last 800 batches)\n",
      "Running average (complete) remaining runtime prediction loss: 0.5284260867163539 (MAE over last 800 batches)\n",
      "------------------------------------------------------------\n"
     ]
    },
    {
     "name": "stderr",
     "output_type": "stream",
     "text": [
      "Batch calculation at epoch 69.: 2402it [01:55, 20.48it/s]"
     ]
    },
    {
     "name": "stdout",
     "output_type": "stream",
     "text": [
      "------------------------------------------------------------\n",
      "Epoch 69, batch 2399:\n",
      "Average original gradient norm: 8.187598634660244 (over last 800 batches)\n",
      "Average clipped gradient norm: 1.9999996845424175 (over last 800 batches)\n",
      "Running average global loss: 0.975952285900712 (over last 800 batches)\n",
      "Running average activity prediction loss: 0.2889867892488837 (Cross Entropy over last 800 batches)\n",
      "Running average time till next event prediction loss: 0.15813774325884877 (MAE over last 800 batches)\n",
      "Running average (complete) remaining runtime prediction loss: 0.5288277532160283 (MAE over last 800 batches)\n",
      "------------------------------------------------------------\n"
     ]
    },
    {
     "name": "stderr",
     "output_type": "stream",
     "text": [
      "Batch calculation at epoch 69.: 3203it [02:33, 21.32it/s]"
     ]
    },
    {
     "name": "stdout",
     "output_type": "stream",
     "text": [
      "------------------------------------------------------------\n",
      "Epoch 69, batch 3199:\n",
      "Average original gradient norm: 8.15670858308673 (over last 800 batches)\n",
      "Average clipped gradient norm: 1.9998274946212768 (over last 800 batches)\n",
      "Running average global loss: 0.9761976741999387 (over last 800 batches)\n",
      "Running average activity prediction loss: 0.28874337747693063 (Cross Entropy over last 800 batches)\n",
      "Running average time till next event prediction loss: 0.1588000414054841 (MAE over last 800 batches)\n",
      "Running average (complete) remaining runtime prediction loss: 0.5286542551219463 (MAE over last 800 batches)\n",
      "------------------------------------------------------------\n"
     ]
    },
    {
     "name": "stderr",
     "output_type": "stream",
     "text": [
      "Batch calculation at epoch 69.: 4004it [03:11, 18.55it/s]"
     ]
    },
    {
     "name": "stdout",
     "output_type": "stream",
     "text": [
      "------------------------------------------------------------\n",
      "Epoch 69, batch 3999:\n",
      "Average original gradient norm: 8.071899570375681 (over last 800 batches)\n",
      "Average clipped gradient norm: 1.9999678634107112 (over last 800 batches)\n",
      "Running average global loss: 0.9774214853346348 (over last 800 batches)\n",
      "Running average activity prediction loss: 0.28902936942875385 (Cross Entropy over last 800 batches)\n",
      "Running average time till next event prediction loss: 0.1590235792566091 (MAE over last 800 batches)\n",
      "Running average (complete) remaining runtime prediction loss: 0.5293685363978148 (MAE over last 800 batches)\n",
      "------------------------------------------------------------\n"
     ]
    },
    {
     "name": "stderr",
     "output_type": "stream",
     "text": [
      "Batch calculation at epoch 69.: 4798it [03:49, 20.93it/s]\n"
     ]
    },
    {
     "name": "stdout",
     "output_type": "stream",
     "text": [
      "=======================================\n",
      "End of epoch 69\n",
      "=======================================\n",
      "Running average global loss: 0.9755255108326674 (over last 800 batches)\n",
      "Running average activity prediction loss: 0.2894516158849001 (Cross Entropy over last 800 batches)\n",
      "Running average time till next event prediction loss: 0.15809754139743745 (MAE over last 800 batches)\n",
      "Running average (complete) remaining runtime prediction loss: 0.5279763537272811 (MAE over last 800 batches)\n"
     ]
    },
    {
     "name": "stderr",
     "output_type": "stream",
     "text": [
      "Validation batch calculation: 36it [15:43, 26.22s/it]\n"
     ]
    },
    {
     "name": "stdout",
     "output_type": "stream",
     "text": [
      "Avg MAE TTNE prediction validation set: 0.20993806421756744 (standardized) ; 777.950390625 (minutes)'\n",
      "Avg 1-(normalized) DL distance acitivty suffix prediction validation set: 0.397083580493927\n",
      "Percentage of suffixes predicted to END: too early - 0.08405632879854195 ; right moment - 0.10815238537307931 ; too late - 0.8077912858283788\n",
      "Too early instances - avg amount of events too early: 9.556683540344238\n",
      "Too late instances - avg amount of events too late: 32.98876953125\n",
      "Avg absolute amount of events predicted too early / too late: 27.451339721679688\n",
      "Avg MAE RRT prediction validation set: 0.4917152225971222 (standardized) ; 8250.793229166668 (minutes)'\n",
      " \n",
      "------------------------------------\n",
      "EPOCH 70:\n",
      "____________________________________\n"
     ]
    },
    {
     "name": "stderr",
     "output_type": "stream",
     "text": [
      "Batch calculation at epoch 70.: 802it [00:37, 21.66it/s]"
     ]
    },
    {
     "name": "stdout",
     "output_type": "stream",
     "text": [
      "------------------------------------------------------------\n",
      "Epoch 70, batch 799:\n",
      "Average original gradient norm: 8.172946931123734 (over last 800 batches)\n",
      "Average clipped gradient norm: 1.9999996867775918 (over last 800 batches)\n",
      "Running average global loss: 0.9768607646226883 (over last 800 batches)\n",
      "Running average activity prediction loss: 0.289367216527462 (Cross Entropy over last 800 batches)\n",
      "Running average time till next event prediction loss: 0.15850543689914048 (MAE over last 800 batches)\n",
      "Running average (complete) remaining runtime prediction loss: 0.5289881099015474 (MAE over last 800 batches)\n",
      "------------------------------------------------------------\n"
     ]
    },
    {
     "name": "stderr",
     "output_type": "stream",
     "text": [
      "Batch calculation at epoch 70.: 1603it [01:14, 21.53it/s]"
     ]
    },
    {
     "name": "stdout",
     "output_type": "stream",
     "text": [
      "------------------------------------------------------------\n",
      "Epoch 70, batch 1599:\n",
      "Average original gradient norm: 8.348312329649925 (over last 800 batches)\n",
      "Average clipped gradient norm: 1.9999245527386664 (over last 800 batches)\n",
      "Running average global loss: 0.9762253165245056 (over last 800 batches)\n",
      "Running average activity prediction loss: 0.2887760889530182 (Cross Entropy over last 800 batches)\n",
      "Running average time till next event prediction loss: 0.15813842752017082 (MAE over last 800 batches)\n",
      "Running average (complete) remaining runtime prediction loss: 0.5293108014017344 (MAE over last 800 batches)\n",
      "------------------------------------------------------------\n"
     ]
    },
    {
     "name": "stderr",
     "output_type": "stream",
     "text": [
      "Batch calculation at epoch 70.: 2404it [01:52, 21.17it/s]"
     ]
    },
    {
     "name": "stdout",
     "output_type": "stream",
     "text": [
      "------------------------------------------------------------\n",
      "Epoch 70, batch 2399:\n",
      "Average original gradient norm: 7.953533745110035 (over last 800 batches)\n",
      "Average clipped gradient norm: 1.9999996779859066 (over last 800 batches)\n",
      "Running average global loss: 0.9739351977407932 (over last 800 batches)\n",
      "Running average activity prediction loss: 0.28888298630714415 (Cross Entropy over last 800 batches)\n",
      "Running average time till next event prediction loss: 0.15810545040294527 (MAE over last 800 batches)\n",
      "Running average (complete) remaining runtime prediction loss: 0.5269467628374696 (MAE over last 800 batches)\n",
      "------------------------------------------------------------\n"
     ]
    },
    {
     "name": "stderr",
     "output_type": "stream",
     "text": [
      "Batch calculation at epoch 70.: 3202it [02:29, 21.26it/s]"
     ]
    },
    {
     "name": "stdout",
     "output_type": "stream",
     "text": [
      "------------------------------------------------------------\n",
      "Epoch 70, batch 3199:\n",
      "Average original gradient norm: 8.219094089865685 (over last 800 batches)\n",
      "Average clipped gradient norm: 1.9999996791779995 (over last 800 batches)\n",
      "Running average global loss: 0.9756281446665526 (over last 800 batches)\n",
      "Running average activity prediction loss: 0.28903921868652105 (Cross Entropy over last 800 batches)\n",
      "Running average time till next event prediction loss: 0.15782907574437557 (MAE over last 800 batches)\n",
      "Running average (complete) remaining runtime prediction loss: 0.5287598511204123 (MAE over last 800 batches)\n",
      "------------------------------------------------------------\n"
     ]
    },
    {
     "name": "stderr",
     "output_type": "stream",
     "text": [
      "Batch calculation at epoch 70.: 4003it [03:07, 21.38it/s]"
     ]
    },
    {
     "name": "stdout",
     "output_type": "stream",
     "text": [
      "------------------------------------------------------------\n",
      "Epoch 70, batch 3999:\n",
      "Average original gradient norm: 7.9785086536407475 (over last 800 batches)\n",
      "Average clipped gradient norm: 1.9999996742606163 (over last 800 batches)\n",
      "Running average global loss: 0.9792364314943552 (over last 800 batches)\n",
      "Running average activity prediction loss: 0.2886362437158823 (Cross Entropy over last 800 batches)\n",
      "Running average time till next event prediction loss: 0.15886251251213251 (MAE over last 800 batches)\n",
      "Running average (complete) remaining runtime prediction loss: 0.5317376746237278 (MAE over last 800 batches)\n",
      "------------------------------------------------------------\n"
     ]
    },
    {
     "name": "stderr",
     "output_type": "stream",
     "text": [
      "Batch calculation at epoch 70.: 4798it [03:45, 21.30it/s]\n"
     ]
    },
    {
     "name": "stdout",
     "output_type": "stream",
     "text": [
      "=======================================\n",
      "End of epoch 70\n",
      "=======================================\n",
      "Running average global loss: 0.9767235513031483 (over last 800 batches)\n",
      "Running average activity prediction loss: 0.2891701537743211 (Cross Entropy over last 800 batches)\n",
      "Running average time till next event prediction loss: 0.15828896580263974 (MAE over last 800 batches)\n",
      "Running average (complete) remaining runtime prediction loss: 0.5292644307762384 (MAE over last 800 batches)\n"
     ]
    },
    {
     "name": "stderr",
     "output_type": "stream",
     "text": [
      "Validation batch calculation: 36it [15:43, 26.22s/it]\n"
     ]
    },
    {
     "name": "stdout",
     "output_type": "stream",
     "text": [
      "Avg MAE TTNE prediction validation set: 0.21044445037841797 (standardized) ; 779.846875 (minutes)'\n",
      "Avg 1-(normalized) DL distance acitivty suffix prediction validation set: 0.3782336413860321\n",
      "Percentage of suffixes predicted to END: too early - 0.06970791210741517 ; right moment - 0.10589295343931958 ; too late - 0.8243991344532653\n",
      "Too early instances - avg amount of events too early: 9.438209533691406\n",
      "Too late instances - avg amount of events too late: 35.700584411621094\n",
      "Avg absolute amount of events predicted too early / too late: 30.089448928833008\n",
      "Avg MAE RRT prediction validation set: 0.4910706877708435 (standardized) ; 8237.2796875 (minutes)'\n",
      " \n",
      "------------------------------------\n",
      "EPOCH 71:\n",
      "____________________________________\n"
     ]
    },
    {
     "name": "stderr",
     "output_type": "stream",
     "text": [
      "Batch calculation at epoch 71.: 802it [00:37, 21.71it/s]"
     ]
    },
    {
     "name": "stdout",
     "output_type": "stream",
     "text": [
      "------------------------------------------------------------\n",
      "Epoch 71, batch 799:\n",
      "Average original gradient norm: 8.18781330704689 (over last 800 batches)\n",
      "Average clipped gradient norm: 1.9999996826052666 (over last 800 batches)\n",
      "Running average global loss: 0.9742601213604212 (over last 800 batches)\n",
      "Running average activity prediction loss: 0.2872779069468379 (Cross Entropy over last 800 batches)\n",
      "Running average time till next event prediction loss: 0.1579712643288076 (MAE over last 800 batches)\n",
      "Running average (complete) remaining runtime prediction loss: 0.5290109510347247 (MAE over last 800 batches)\n",
      "------------------------------------------------------------\n"
     ]
    },
    {
     "name": "stderr",
     "output_type": "stream",
     "text": [
      "Batch calculation at epoch 71.: 1603it [01:14, 21.56it/s]"
     ]
    },
    {
     "name": "stdout",
     "output_type": "stream",
     "text": [
      "------------------------------------------------------------\n",
      "Epoch 71, batch 1599:\n",
      "Average original gradient norm: 8.21383056461811 (over last 800 batches)\n",
      "Average clipped gradient norm: 1.9999996949732304 (over last 800 batches)\n",
      "Running average global loss: 0.9766707704216242 (over last 800 batches)\n",
      "Running average activity prediction loss: 0.2887175717204809 (Cross Entropy over last 800 batches)\n",
      "Running average time till next event prediction loss: 0.15798484185710548 (MAE over last 800 batches)\n",
      "Running average (complete) remaining runtime prediction loss: 0.5299683581292629 (MAE over last 800 batches)\n",
      "------------------------------------------------------------\n"
     ]
    },
    {
     "name": "stderr",
     "output_type": "stream",
     "text": [
      "Batch calculation at epoch 71.: 2402it [01:52, 21.16it/s]"
     ]
    },
    {
     "name": "stdout",
     "output_type": "stream",
     "text": [
      "------------------------------------------------------------\n",
      "Epoch 71, batch 2399:\n",
      "Average original gradient norm: 8.313592038750649 (over last 800 batches)\n",
      "Average clipped gradient norm: 1.9999938805401325 (over last 800 batches)\n",
      "Running average global loss: 0.9738139116764069 (over last 800 batches)\n",
      "Running average activity prediction loss: 0.28929767522960903 (Cross Entropy over last 800 batches)\n",
      "Running average time till next event prediction loss: 0.15774671842344104 (MAE over last 800 batches)\n",
      "Running average (complete) remaining runtime prediction loss: 0.5267695166543126 (MAE over last 800 batches)\n",
      "------------------------------------------------------------\n"
     ]
    },
    {
     "name": "stderr",
     "output_type": "stream",
     "text": [
      "Batch calculation at epoch 71.: 3203it [02:29, 21.31it/s]"
     ]
    },
    {
     "name": "stdout",
     "output_type": "stream",
     "text": [
      "------------------------------------------------------------\n",
      "Epoch 71, batch 3199:\n",
      "Average original gradient norm: 8.036961286962033 (over last 800 batches)\n",
      "Average clipped gradient norm: 1.999999682456255 (over last 800 batches)\n",
      "Running average global loss: 0.9778469737619162 (over last 800 batches)\n",
      "Running average activity prediction loss: 0.2893532444536686 (Cross Entropy over last 800 batches)\n",
      "Running average time till next event prediction loss: 0.1588486221432686 (MAE over last 800 batches)\n",
      "Running average (complete) remaining runtime prediction loss: 0.5296451070904732 (MAE over last 800 batches)\n",
      "------------------------------------------------------------\n"
     ]
    },
    {
     "name": "stderr",
     "output_type": "stream",
     "text": [
      "Batch calculation at epoch 71.: 4004it [03:07, 21.34it/s]"
     ]
    },
    {
     "name": "stdout",
     "output_type": "stream",
     "text": [
      "------------------------------------------------------------\n",
      "Epoch 71, batch 3999:\n",
      "Average original gradient norm: 8.259127011597156 (over last 800 batches)\n",
      "Average clipped gradient norm: 1.9999996900558472 (over last 800 batches)\n",
      "Running average global loss: 0.975472256615758 (over last 800 batches)\n",
      "Running average activity prediction loss: 0.2892283986508846 (Cross Entropy over last 800 batches)\n",
      "Running average time till next event prediction loss: 0.15832109212875367 (MAE over last 800 batches)\n",
      "Running average (complete) remaining runtime prediction loss: 0.5279227658733725 (MAE over last 800 batches)\n",
      "------------------------------------------------------------\n"
     ]
    },
    {
     "name": "stderr",
     "output_type": "stream",
     "text": [
      "Batch calculation at epoch 71.: 4798it [03:46, 21.22it/s]\n"
     ]
    },
    {
     "name": "stdout",
     "output_type": "stream",
     "text": [
      "=======================================\n",
      "End of epoch 71\n",
      "=======================================\n",
      "Running average global loss: 0.9778479393571615 (over last 800 batches)\n",
      "Running average activity prediction loss: 0.28883882232010366 (Cross Entropy over last 800 batches)\n",
      "Running average time till next event prediction loss: 0.15872293111868202 (MAE over last 800 batches)\n",
      "Running average (complete) remaining runtime prediction loss: 0.530286186337471 (MAE over last 800 batches)\n"
     ]
    },
    {
     "name": "stderr",
     "output_type": "stream",
     "text": [
      "Validation batch calculation: 36it [15:43, 26.20s/it]\n"
     ]
    },
    {
     "name": "stdout",
     "output_type": "stream",
     "text": [
      "Avg MAE TTNE prediction validation set: 0.21012398600578308 (standardized) ; 778.4177734375 (minutes)'\n",
      "Avg 1-(normalized) DL distance acitivty suffix prediction validation set: 0.39417600631713867\n",
      "Percentage of suffixes predicted to END: too early - 0.08903936599384288 ; right moment - 0.10914216673378976 ; too late - 0.8018184672723674\n",
      "Too early instances - avg amount of events too early: 9.600046157836914\n",
      "Too late instances - avg amount of events too late: 32.60663604736328\n",
      "Avg absolute amount of events predicted too early / too late: 26.999385833740234\n",
      "Avg MAE RRT prediction validation set: 0.4922254681587219 (standardized) ; 8260.215104166668 (minutes)'\n",
      " \n",
      "------------------------------------\n",
      "EPOCH 72:\n",
      "____________________________________\n"
     ]
    },
    {
     "name": "stderr",
     "output_type": "stream",
     "text": [
      "Batch calculation at epoch 72.: 804it [00:38, 20.84it/s]"
     ]
    },
    {
     "name": "stdout",
     "output_type": "stream",
     "text": [
      "------------------------------------------------------------\n",
      "Epoch 72, batch 799:\n",
      "Average original gradient norm: 8.263974673300982 (over last 800 batches)\n",
      "Average clipped gradient norm: 1.9998834888637065 (over last 800 batches)\n",
      "Running average global loss: 0.9743130694329739 (over last 800 batches)\n",
      "Running average activity prediction loss: 0.28862241927534343 (Cross Entropy over last 800 batches)\n",
      "Running average time till next event prediction loss: 0.1583172165043652 (MAE over last 800 batches)\n",
      "Running average (complete) remaining runtime prediction loss: 0.527373433150351 (MAE over last 800 batches)\n",
      "------------------------------------------------------------\n"
     ]
    },
    {
     "name": "stderr",
     "output_type": "stream",
     "text": [
      "Batch calculation at epoch 72.: 1602it [01:17, 21.49it/s]"
     ]
    },
    {
     "name": "stdout",
     "output_type": "stream",
     "text": [
      "------------------------------------------------------------\n",
      "Epoch 72, batch 1599:\n",
      "Average original gradient norm: 8.29302874147892 (over last 800 batches)\n",
      "Average clipped gradient norm: 1.999999681711197 (over last 800 batches)\n",
      "Running average global loss: 0.9762264297902584 (over last 800 batches)\n",
      "Running average activity prediction loss: 0.28917187806218864 (Cross Entropy over last 800 batches)\n",
      "Running average time till next event prediction loss: 0.15805681057274343 (MAE over last 800 batches)\n",
      "Running average (complete) remaining runtime prediction loss: 0.528997742459178 (MAE over last 800 batches)\n",
      "------------------------------------------------------------\n"
     ]
    },
    {
     "name": "stderr",
     "output_type": "stream",
     "text": [
      "Batch calculation at epoch 72.: 2403it [01:55, 21.08it/s]"
     ]
    },
    {
     "name": "stdout",
     "output_type": "stream",
     "text": [
      "------------------------------------------------------------\n",
      "Epoch 72, batch 2399:\n",
      "Average original gradient norm: 8.32768229484558 (over last 800 batches)\n",
      "Average clipped gradient norm: 1.9999902926385402 (over last 800 batches)\n",
      "Running average global loss: 0.9759924176335335 (over last 800 batches)\n",
      "Running average activity prediction loss: 0.28914383966475726 (Cross Entropy over last 800 batches)\n",
      "Running average time till next event prediction loss: 0.1581676848977804 (MAE over last 800 batches)\n",
      "Running average (complete) remaining runtime prediction loss: 0.5286808928847313 (MAE over last 800 batches)\n",
      "------------------------------------------------------------\n"
     ]
    },
    {
     "name": "stderr",
     "output_type": "stream",
     "text": [
      "Batch calculation at epoch 72.: 3203it [02:33, 20.94it/s]"
     ]
    },
    {
     "name": "stdout",
     "output_type": "stream",
     "text": [
      "------------------------------------------------------------\n",
      "Epoch 72, batch 3199:\n",
      "Average original gradient norm: 8.37491703182459 (over last 800 batches)\n",
      "Average clipped gradient norm: 1.999999681264162 (over last 800 batches)\n",
      "Running average global loss: 0.9751843082159758 (over last 800 batches)\n",
      "Running average activity prediction loss: 0.28842731662094595 (Cross Entropy over last 800 batches)\n",
      "Running average time till next event prediction loss: 0.15813551027327777 (MAE over last 800 batches)\n",
      "Running average (complete) remaining runtime prediction loss: 0.5286214790120721 (MAE over last 800 batches)\n",
      "------------------------------------------------------------\n"
     ]
    },
    {
     "name": "stderr",
     "output_type": "stream",
     "text": [
      "Batch calculation at epoch 72.: 4003it [03:12, 21.40it/s]"
     ]
    },
    {
     "name": "stdout",
     "output_type": "stream",
     "text": [
      "------------------------------------------------------------\n",
      "Epoch 72, batch 3999:\n",
      "Average original gradient norm: 8.09788732200861 (over last 800 batches)\n",
      "Average clipped gradient norm: 1.999500461369753 (over last 800 batches)\n",
      "Running average global loss: 0.9759447560459376 (over last 800 batches)\n",
      "Running average activity prediction loss: 0.28846111621707676 (Cross Entropy over last 800 batches)\n",
      "Running average time till next event prediction loss: 0.15803845576941966 (MAE over last 800 batches)\n",
      "Running average (complete) remaining runtime prediction loss: 0.5294451848790049 (MAE over last 800 batches)\n",
      "------------------------------------------------------------\n"
     ]
    },
    {
     "name": "stderr",
     "output_type": "stream",
     "text": [
      "Batch calculation at epoch 72.: 4798it [03:50, 20.81it/s]\n"
     ]
    },
    {
     "name": "stdout",
     "output_type": "stream",
     "text": [
      "=======================================\n",
      "End of epoch 72\n",
      "=======================================\n",
      "Running average global loss: 0.9776849395781756 (over last 800 batches)\n",
      "Running average activity prediction loss: 0.2887287013232708 (Cross Entropy over last 800 batches)\n",
      "Running average time till next event prediction loss: 0.15877318571321666 (MAE over last 800 batches)\n",
      "Running average (complete) remaining runtime prediction loss: 0.5301830540969967 (MAE over last 800 batches)\n"
     ]
    },
    {
     "name": "stderr",
     "output_type": "stream",
     "text": [
      "Validation batch calculation: 36it [15:44, 26.23s/it]\n"
     ]
    },
    {
     "name": "stdout",
     "output_type": "stream",
     "text": [
      "Avg MAE TTNE prediction validation set: 0.21055053174495697 (standardized) ; 780.2514322916667 (minutes)'\n",
      "Avg 1-(normalized) DL distance acitivty suffix prediction validation set: 0.4003159701824188\n",
      "Percentage of suffixes predicted to END: too early - 0.0892714526577336 ; right moment - 0.10781790753394267 ; too late - 0.8029106398083237\n",
      "Too early instances - avg amount of events too early: 9.631977081298828\n",
      "Too late instances - avg amount of events too late: 32.28425216674805\n",
      "Avg absolute amount of events predicted too early / too late: 26.781230926513672\n",
      "Avg MAE RRT prediction validation set: 0.4917682409286499 (standardized) ; 8253.497916666667 (minutes)'\n",
      " \n",
      "------------------------------------\n",
      "EPOCH 73:\n",
      "____________________________________\n"
     ]
    },
    {
     "name": "stderr",
     "output_type": "stream",
     "text": [
      "Batch calculation at epoch 73.: 802it [00:37, 21.59it/s]"
     ]
    },
    {
     "name": "stdout",
     "output_type": "stream",
     "text": [
      "------------------------------------------------------------\n",
      "Epoch 73, batch 799:\n",
      "Average original gradient norm: 8.32013862580061 (over last 800 batches)\n",
      "Average clipped gradient norm: 1.9999996811151504 (over last 800 batches)\n",
      "Running average global loss: 0.974412109181285 (over last 800 batches)\n",
      "Running average activity prediction loss: 0.2882202945649624 (Cross Entropy over last 800 batches)\n",
      "Running average time till next event prediction loss: 0.1575846740975976 (MAE over last 800 batches)\n",
      "Running average (complete) remaining runtime prediction loss: 0.5286071396619082 (MAE over last 800 batches)\n",
      "------------------------------------------------------------\n"
     ]
    },
    {
     "name": "stderr",
     "output_type": "stream",
     "text": [
      "Batch calculation at epoch 73.: 1602it [01:16, 19.86it/s]"
     ]
    },
    {
     "name": "stdout",
     "output_type": "stream",
     "text": [
      "------------------------------------------------------------\n",
      "Epoch 73, batch 1599:\n",
      "Average original gradient norm: 8.13296256482601 (over last 800 batches)\n",
      "Average clipped gradient norm: 1.9999996882677078 (over last 800 batches)\n",
      "Running average global loss: 0.9728545074164867 (over last 800 batches)\n",
      "Running average activity prediction loss: 0.2888185737282038 (Cross Entropy over last 800 batches)\n",
      "Running average time till next event prediction loss: 0.1574833266530186 (MAE over last 800 batches)\n",
      "Running average (complete) remaining runtime prediction loss: 0.5265526053309441 (MAE over last 800 batches)\n",
      "------------------------------------------------------------\n"
     ]
    },
    {
     "name": "stderr",
     "output_type": "stream",
     "text": [
      "Batch calculation at epoch 73.: 2403it [01:55, 20.96it/s]"
     ]
    },
    {
     "name": "stdout",
     "output_type": "stream",
     "text": [
      "------------------------------------------------------------\n",
      "Epoch 73, batch 2399:\n",
      "Average original gradient norm: 8.064309296011924 (over last 800 batches)\n",
      "Average clipped gradient norm: 1.9999996922910213 (over last 800 batches)\n",
      "Running average global loss: 0.9776188468933106 (over last 800 batches)\n",
      "Running average activity prediction loss: 0.28844477105885746 (Cross Entropy over last 800 batches)\n",
      "Running average time till next event prediction loss: 0.15885429562069475 (MAE over last 800 batches)\n",
      "Running average (complete) remaining runtime prediction loss: 0.5303197813034057 (MAE over last 800 batches)\n",
      "------------------------------------------------------------\n"
     ]
    },
    {
     "name": "stderr",
     "output_type": "stream",
     "text": [
      "Batch calculation at epoch 73.: 3204it [02:32, 21.35it/s]"
     ]
    },
    {
     "name": "stdout",
     "output_type": "stream",
     "text": [
      "------------------------------------------------------------\n",
      "Epoch 73, batch 3199:\n",
      "Average original gradient norm: 8.341074453890323 (over last 800 batches)\n",
      "Average clipped gradient norm: 1.9999996894598007 (over last 800 batches)\n",
      "Running average global loss: 0.9760033083707094 (over last 800 batches)\n",
      "Running average activity prediction loss: 0.2887253602594137 (Cross Entropy over last 800 batches)\n",
      "Running average time till next event prediction loss: 0.1580650097783655 (MAE over last 800 batches)\n",
      "Running average (complete) remaining runtime prediction loss: 0.5292129389569163 (MAE over last 800 batches)\n",
      "------------------------------------------------------------\n"
     ]
    },
    {
     "name": "stderr",
     "output_type": "stream",
     "text": [
      "Batch calculation at epoch 73.: 4002it [03:10, 21.43it/s]"
     ]
    },
    {
     "name": "stdout",
     "output_type": "stream",
     "text": [
      "------------------------------------------------------------\n",
      "Epoch 73, batch 3999:\n",
      "Average original gradient norm: 8.386897272467614 (over last 800 batches)\n",
      "Average clipped gradient norm: 1.9999996900558472 (over last 800 batches)\n",
      "Running average global loss: 0.9758312526345253 (over last 800 batches)\n",
      "Running average activity prediction loss: 0.2887674704566598 (Cross Entropy over last 800 batches)\n",
      "Running average time till next event prediction loss: 0.1582222868036479 (MAE over last 800 batches)\n",
      "Running average (complete) remaining runtime prediction loss: 0.5288414959982037 (MAE over last 800 batches)\n",
      "------------------------------------------------------------\n"
     ]
    },
    {
     "name": "stderr",
     "output_type": "stream",
     "text": [
      "Batch calculation at epoch 73.: 4798it [03:48, 21.03it/s]\n"
     ]
    },
    {
     "name": "stdout",
     "output_type": "stream",
     "text": [
      "=======================================\n",
      "End of epoch 73\n",
      "=======================================\n",
      "Running average global loss: 0.9774890864640474 (over last 800 batches)\n",
      "Running average activity prediction loss: 0.28877554163336755 (Cross Entropy over last 800 batches)\n",
      "Running average time till next event prediction loss: 0.15897209223359823 (MAE over last 800 batches)\n",
      "Running average (complete) remaining runtime prediction loss: 0.5297414513677359 (MAE over last 800 batches)\n"
     ]
    },
    {
     "name": "stderr",
     "output_type": "stream",
     "text": [
      "Validation batch calculation: 36it [15:44, 26.24s/it]\n"
     ]
    },
    {
     "name": "stdout",
     "output_type": "stream",
     "text": [
      "Avg MAE TTNE prediction validation set: 0.21050392091274261 (standardized) ; 780.1193359375 (minutes)'\n",
      "Avg 1-(normalized) DL distance acitivty suffix prediction validation set: 0.38539665937423706\n",
      "Percentage of suffixes predicted to END: too early - 0.0759674259541151 ; right moment - 0.10652095264749449 ; too late - 0.8175116213983904\n",
      "Too early instances - avg amount of events too early: 9.45934009552002\n",
      "Too late instances - avg amount of events too late: 34.37907409667969\n",
      "Avg absolute amount of events predicted too early / too late: 28.823894500732422\n",
      "Avg MAE RRT prediction validation set: 0.491774320602417 (standardized) ; 8251.505729166667 (minutes)'\n",
      " \n",
      "------------------------------------\n",
      "EPOCH 74:\n",
      "____________________________________\n"
     ]
    },
    {
     "name": "stderr",
     "output_type": "stream",
     "text": [
      "Batch calculation at epoch 74.: 804it [00:37, 21.60it/s]"
     ]
    },
    {
     "name": "stdout",
     "output_type": "stream",
     "text": [
      "------------------------------------------------------------\n",
      "Epoch 74, batch 799:\n",
      "Average original gradient norm: 8.055677659213544 (over last 800 batches)\n",
      "Average clipped gradient norm: 1.9999996808171272 (over last 800 batches)\n",
      "Running average global loss: 0.9774841503053904 (over last 800 batches)\n",
      "Running average activity prediction loss: 0.28863447438925505 (Cross Entropy over last 800 batches)\n",
      "Running average time till next event prediction loss: 0.1586502462811768 (MAE over last 800 batches)\n",
      "Running average (complete) remaining runtime prediction loss: 0.530199431553483 (MAE over last 800 batches)\n",
      "------------------------------------------------------------\n"
     ]
    },
    {
     "name": "stderr",
     "output_type": "stream",
     "text": [
      "Batch calculation at epoch 74.: 1603it [01:15, 20.47it/s]"
     ]
    },
    {
     "name": "stdout",
     "output_type": "stream",
     "text": [
      "------------------------------------------------------------\n",
      "Epoch 74, batch 1599:\n",
      "Average original gradient norm: 8.113904972970486 (over last 800 batches)\n",
      "Average clipped gradient norm: 1.9999996793270112 (over last 800 batches)\n",
      "Running average global loss: 0.9727696389704943 (over last 800 batches)\n",
      "Running average activity prediction loss: 0.28853645917028187 (Cross Entropy over last 800 batches)\n",
      "Running average time till next event prediction loss: 0.158099067164585 (MAE over last 800 batches)\n",
      "Running average (complete) remaining runtime prediction loss: 0.5261341124400496 (MAE over last 800 batches)\n",
      "------------------------------------------------------------\n"
     ]
    },
    {
     "name": "stderr",
     "output_type": "stream",
     "text": [
      "Batch calculation at epoch 74.: 2403it [01:54, 21.18it/s]"
     ]
    },
    {
     "name": "stdout",
     "output_type": "stream",
     "text": [
      "------------------------------------------------------------\n",
      "Epoch 74, batch 2399:\n",
      "Average original gradient norm: 8.022574718594552 (over last 800 batches)\n",
      "Average clipped gradient norm: 1.999999679774046 (over last 800 batches)\n",
      "Running average global loss: 0.9781823565810919 (over last 800 batches)\n",
      "Running average activity prediction loss: 0.288288330771029 (Cross Entropy over last 800 batches)\n",
      "Running average time till next event prediction loss: 0.15856473774649202 (MAE over last 800 batches)\n",
      "Running average (complete) remaining runtime prediction loss: 0.5313292877376079 (MAE over last 800 batches)\n",
      "------------------------------------------------------------\n"
     ]
    },
    {
     "name": "stderr",
     "output_type": "stream",
     "text": [
      "Batch calculation at epoch 74.: 3202it [02:32, 21.35it/s]"
     ]
    },
    {
     "name": "stdout",
     "output_type": "stream",
     "text": [
      "------------------------------------------------------------\n",
      "Epoch 74, batch 3199:\n",
      "Average original gradient norm: 8.269839249551296 (over last 800 batches)\n",
      "Average clipped gradient norm: 1.999999688565731 (over last 800 batches)\n",
      "Running average global loss: 0.9756232408434152 (over last 800 batches)\n",
      "Running average activity prediction loss: 0.28894845355302096 (Cross Entropy over last 800 batches)\n",
      "Running average time till next event prediction loss: 0.15853603647090495 (MAE over last 800 batches)\n",
      "Running average (complete) remaining runtime prediction loss: 0.5281387495994568 (MAE over last 800 batches)\n",
      "------------------------------------------------------------\n"
     ]
    },
    {
     "name": "stderr",
     "output_type": "stream",
     "text": [
      "Batch calculation at epoch 74.: 4003it [03:11, 20.95it/s]"
     ]
    },
    {
     "name": "stdout",
     "output_type": "stream",
     "text": [
      "------------------------------------------------------------\n",
      "Epoch 74, batch 3999:\n",
      "Average original gradient norm: 8.103574728965759 (over last 800 batches)\n",
      "Average clipped gradient norm: 1.9999996902048587 (over last 800 batches)\n",
      "Running average global loss: 0.9747040116786957 (over last 800 batches)\n",
      "Running average activity prediction loss: 0.2885034060105681 (Cross Entropy over last 800 batches)\n",
      "Running average time till next event prediction loss: 0.15760198345407844 (MAE over last 800 batches)\n",
      "Running average (complete) remaining runtime prediction loss: 0.5285986214876175 (MAE over last 800 batches)\n",
      "------------------------------------------------------------\n"
     ]
    },
    {
     "name": "stderr",
     "output_type": "stream",
     "text": [
      "Batch calculation at epoch 74.: 4798it [03:49, 20.89it/s]\n"
     ]
    },
    {
     "name": "stdout",
     "output_type": "stream",
     "text": [
      "=======================================\n",
      "End of epoch 74\n",
      "=======================================\n",
      "Running average global loss: 0.9751178169250488 (over last 800 batches)\n",
      "Running average activity prediction loss: 0.28809084452688694 (Cross Entropy over last 800 batches)\n",
      "Running average time till next event prediction loss: 0.15786145504564048 (MAE over last 800 batches)\n",
      "Running average (complete) remaining runtime prediction loss: 0.5291655173152685 (MAE over last 800 batches)\n"
     ]
    },
    {
     "name": "stderr",
     "output_type": "stream",
     "text": [
      "Validation batch calculation: 36it [15:46, 26.28s/it]\n"
     ]
    },
    {
     "name": "stdout",
     "output_type": "stream",
     "text": [
      "Avg MAE TTNE prediction validation set: 0.21118047833442688 (standardized) ; 782.5735677083334 (minutes)'\n",
      "Avg 1-(normalized) DL distance acitivty suffix prediction validation set: 0.37676745653152466\n",
      "Percentage of suffixes predicted to END: too early - 0.07138712738144809 ; right moment - 0.10613869225990975 ; too late - 0.8224741803586422\n",
      "Too early instances - avg amount of events too early: 9.496174812316895\n",
      "Too late instances - avg amount of events too late: 36.22800064086914\n",
      "Avg absolute amount of events predicted too early / too late: 30.47450065612793\n",
      "Avg MAE RRT prediction validation set: 0.49191585183143616 (standardized) ; 8255.679166666667 (minutes)'\n",
      " \n",
      "------------------------------------\n",
      "EPOCH 75:\n",
      "____________________________________\n"
     ]
    },
    {
     "name": "stderr",
     "output_type": "stream",
     "text": [
      "Batch calculation at epoch 75.: 803it [00:37, 21.56it/s]"
     ]
    },
    {
     "name": "stdout",
     "output_type": "stream",
     "text": [
      "------------------------------------------------------------\n",
      "Epoch 75, batch 799:\n",
      "Average original gradient norm: 8.038744002580643 (over last 800 batches)\n",
      "Average clipped gradient norm: 1.99999968662858 (over last 800 batches)\n",
      "Running average global loss: 0.9742851961404085 (over last 800 batches)\n",
      "Running average activity prediction loss: 0.28851825594902036 (Cross Entropy over last 800 batches)\n",
      "Running average time till next event prediction loss: 0.15792112625204027 (MAE over last 800 batches)\n",
      "Running average (complete) remaining runtime prediction loss: 0.5278458136320114 (MAE over last 800 batches)\n",
      "------------------------------------------------------------\n"
     ]
    },
    {
     "name": "stderr",
     "output_type": "stream",
     "text": [
      "Batch calculation at epoch 75.: 1604it [01:14, 21.36it/s]"
     ]
    },
    {
     "name": "stdout",
     "output_type": "stream",
     "text": [
      "------------------------------------------------------------\n",
      "Epoch 75, batch 1599:\n",
      "Average original gradient norm: 8.194963353276252 (over last 800 batches)\n",
      "Average clipped gradient norm: 1.9999789150059224 (over last 800 batches)\n",
      "Running average global loss: 0.976078838929534 (over last 800 batches)\n",
      "Running average activity prediction loss: 0.288127455227077 (Cross Entropy over last 800 batches)\n",
      "Running average time till next event prediction loss: 0.15863580546341838 (MAE over last 800 batches)\n",
      "Running average (complete) remaining runtime prediction loss: 0.5293155809864402 (MAE over last 800 batches)\n",
      "------------------------------------------------------------\n"
     ]
    },
    {
     "name": "stderr",
     "output_type": "stream",
     "text": [
      "Batch calculation at epoch 75.: 2402it [01:52, 20.98it/s]"
     ]
    },
    {
     "name": "stdout",
     "output_type": "stream",
     "text": [
      "------------------------------------------------------------\n",
      "Epoch 75, batch 2399:\n",
      "Average original gradient norm: 8.494813247025013 (over last 800 batches)\n",
      "Average clipped gradient norm: 1.99999969124794 (over last 800 batches)\n",
      "Running average global loss: 0.9730989890545607 (over last 800 batches)\n",
      "Running average activity prediction loss: 0.2882365857437253 (Cross Entropy over last 800 batches)\n",
      "Running average time till next event prediction loss: 0.15780978308990598 (MAE over last 800 batches)\n",
      "Running average (complete) remaining runtime prediction loss: 0.5270526190474629 (MAE over last 800 batches)\n",
      "------------------------------------------------------------\n"
     ]
    },
    {
     "name": "stderr",
     "output_type": "stream",
     "text": [
      "Batch calculation at epoch 75.: 3203it [02:30, 21.36it/s]"
     ]
    },
    {
     "name": "stdout",
     "output_type": "stream",
     "text": [
      "------------------------------------------------------------\n",
      "Epoch 75, batch 3199:\n",
      "Average original gradient norm: 7.936032570004463 (over last 800 batches)\n",
      "Average clipped gradient norm: 1.999999675899744 (over last 800 batches)\n",
      "Running average global loss: 0.9752140116691589 (over last 800 batches)\n",
      "Running average activity prediction loss: 0.28822195261716843 (Cross Entropy over last 800 batches)\n",
      "Running average time till next event prediction loss: 0.15853450182825327 (MAE over last 800 batches)\n",
      "Running average (complete) remaining runtime prediction loss: 0.5284575577080249 (MAE over last 800 batches)\n",
      "------------------------------------------------------------\n"
     ]
    },
    {
     "name": "stderr",
     "output_type": "stream",
     "text": [
      "Batch calculation at epoch 75.: 4004it [03:07, 21.21it/s]"
     ]
    },
    {
     "name": "stdout",
     "output_type": "stream",
     "text": [
      "------------------------------------------------------------\n",
      "Epoch 75, batch 3999:\n",
      "Average original gradient norm: 8.204152513444424 (over last 800 batches)\n",
      "Average clipped gradient norm: 1.9998981688916684 (over last 800 batches)\n",
      "Running average global loss: 0.976428000703454 (over last 800 batches)\n",
      "Running average activity prediction loss: 0.28884261250495913 (Cross Entropy over last 800 batches)\n",
      "Running average time till next event prediction loss: 0.15833910144865512 (MAE over last 800 batches)\n",
      "Running average (complete) remaining runtime prediction loss: 0.5292462860792875 (MAE over last 800 batches)\n",
      "------------------------------------------------------------\n"
     ]
    },
    {
     "name": "stderr",
     "output_type": "stream",
     "text": [
      "Batch calculation at epoch 75.: 4798it [03:45, 21.29it/s]\n"
     ]
    },
    {
     "name": "stdout",
     "output_type": "stream",
     "text": [
      "=======================================\n",
      "End of epoch 75\n",
      "=======================================\n",
      "Running average global loss: 0.9775891400128603 (over last 800 batches)\n",
      "Running average activity prediction loss: 0.2887920626997948 (Cross Entropy over last 800 batches)\n",
      "Running average time till next event prediction loss: 0.15791603168472648 (MAE over last 800 batches)\n",
      "Running average (complete) remaining runtime prediction loss: 0.5308810462430119 (MAE over last 800 batches)\n"
     ]
    },
    {
     "name": "stderr",
     "output_type": "stream",
     "text": [
      "Validation batch calculation: 36it [15:45, 26.26s/it]\n"
     ]
    },
    {
     "name": "stdout",
     "output_type": "stream",
     "text": [
      "Avg MAE TTNE prediction validation set: 0.21081632375717163 (standardized) ; 781.2186197916667 (minutes)'\n",
      "Avg 1-(normalized) DL distance acitivty suffix prediction validation set: 0.38465291261672974\n",
      "Percentage of suffixes predicted to END: too early - 0.07847259670846501 ; right moment - 0.1072991255793634 ; too late - 0.8142282777121715\n",
      "Too early instances - avg amount of events too early: 9.509742736816406\n",
      "Too late instances - avg amount of events too late: 35.60435104370117\n",
      "Avg absolute amount of events predicted too early / too late: 29.7363224029541\n",
      "Avg MAE RRT prediction validation set: 0.4905829429626465 (standardized) ; 8233.846354166666 (minutes)'\n",
      " \n",
      "------------------------------------\n",
      "EPOCH 76:\n",
      "____________________________________\n"
     ]
    },
    {
     "name": "stderr",
     "output_type": "stream",
     "text": [
      "Batch calculation at epoch 76.: 802it [00:38, 21.47it/s]"
     ]
    },
    {
     "name": "stdout",
     "output_type": "stream",
     "text": [
      "------------------------------------------------------------\n",
      "Epoch 76, batch 799:\n",
      "Average original gradient norm: 8.029645466208457 (over last 800 batches)\n",
      "Average clipped gradient norm: 1.9999996787309646 (over last 800 batches)\n",
      "Running average global loss: 0.9730954833328724 (over last 800 batches)\n",
      "Running average activity prediction loss: 0.28848220136016606 (Cross Entropy over last 800 batches)\n",
      "Running average time till next event prediction loss: 0.15738724811002613 (MAE over last 800 batches)\n",
      "Running average (complete) remaining runtime prediction loss: 0.5272260353341699 (MAE over last 800 batches)\n",
      "------------------------------------------------------------\n"
     ]
    },
    {
     "name": "stderr",
     "output_type": "stream",
     "text": [
      "Batch calculation at epoch 76.: 1603it [01:17, 21.51it/s]"
     ]
    },
    {
     "name": "stdout",
     "output_type": "stream",
     "text": [
      "------------------------------------------------------------\n",
      "Epoch 76, batch 1599:\n",
      "Average original gradient norm: 8.053633957505227 (over last 800 batches)\n",
      "Average clipped gradient norm: 1.9998955023288727 (over last 800 batches)\n",
      "Running average global loss: 0.9756074628978968 (over last 800 batches)\n",
      "Running average activity prediction loss: 0.2885835336521268 (Cross Entropy over last 800 batches)\n",
      "Running average time till next event prediction loss: 0.15828840797767044 (MAE over last 800 batches)\n",
      "Running average (complete) remaining runtime prediction loss: 0.5287355215474964 (MAE over last 800 batches)\n",
      "------------------------------------------------------------\n"
     ]
    },
    {
     "name": "stderr",
     "output_type": "stream",
     "text": [
      "Batch calculation at epoch 76.: 2404it [01:56, 20.36it/s]"
     ]
    },
    {
     "name": "stdout",
     "output_type": "stream",
     "text": [
      "------------------------------------------------------------\n",
      "Epoch 76, batch 2399:\n",
      "Average original gradient norm: 8.17950512200594 (over last 800 batches)\n",
      "Average clipped gradient norm: 1.999999688118696 (over last 800 batches)\n",
      "Running average global loss: 0.9773571440577506 (over last 800 batches)\n",
      "Running average activity prediction loss: 0.2886658953130245 (Cross Entropy over last 800 batches)\n",
      "Running average time till next event prediction loss: 0.1587598112784326 (MAE over last 800 batches)\n",
      "Running average (complete) remaining runtime prediction loss: 0.5299314366653561 (MAE over last 800 batches)\n",
      "------------------------------------------------------------\n"
     ]
    },
    {
     "name": "stderr",
     "output_type": "stream",
     "text": [
      "Batch calculation at epoch 76.: 3202it [02:35, 20.53it/s]"
     ]
    },
    {
     "name": "stdout",
     "output_type": "stream",
     "text": [
      "------------------------------------------------------------\n",
      "Epoch 76, batch 3199:\n",
      "Average original gradient norm: 8.55998052418232 (over last 800 batches)\n",
      "Average clipped gradient norm: 1.9999997043609619 (over last 800 batches)\n",
      "Running average global loss: 0.9744021058827639 (over last 800 batches)\n",
      "Running average activity prediction loss: 0.28778169710189105 (Cross Entropy over last 800 batches)\n",
      "Running average time till next event prediction loss: 0.1584559108968824 (MAE over last 800 batches)\n",
      "Running average (complete) remaining runtime prediction loss: 0.5281644950062037 (MAE over last 800 batches)\n",
      "------------------------------------------------------------\n"
     ]
    },
    {
     "name": "stderr",
     "output_type": "stream",
     "text": [
      "Batch calculation at epoch 76.: 4003it [03:14, 20.49it/s]"
     ]
    },
    {
     "name": "stdout",
     "output_type": "stream",
     "text": [
      "------------------------------------------------------------\n",
      "Epoch 76, batch 3999:\n",
      "Average original gradient norm: 8.43826969385147 (over last 800 batches)\n",
      "Average clipped gradient norm: 1.9999996975064278 (over last 800 batches)\n",
      "Running average global loss: 0.9743950841575861 (over last 800 batches)\n",
      "Running average activity prediction loss: 0.28863001249730585 (Cross Entropy over last 800 batches)\n",
      "Running average time till next event prediction loss: 0.15792424171231687 (MAE over last 800 batches)\n",
      "Running average (complete) remaining runtime prediction loss: 0.5278408310562372 (MAE over last 800 batches)\n",
      "------------------------------------------------------------\n"
     ]
    },
    {
     "name": "stderr",
     "output_type": "stream",
     "text": [
      "Batch calculation at epoch 76.: 4798it [03:52, 20.65it/s]\n"
     ]
    },
    {
     "name": "stdout",
     "output_type": "stream",
     "text": [
      "=======================================\n",
      "End of epoch 76\n",
      "=======================================\n",
      "Running average global loss: 0.9775322942435741 (over last 800 batches)\n",
      "Running average activity prediction loss: 0.2881523726508021 (Cross Entropy over last 800 batches)\n",
      "Running average time till next event prediction loss: 0.15853144497610627 (MAE over last 800 batches)\n",
      "Running average (complete) remaining runtime prediction loss: 0.530848476216197 (MAE over last 800 batches)\n"
     ]
    },
    {
     "name": "stderr",
     "output_type": "stream",
     "text": [
      "Validation batch calculation: 36it [15:47, 26.33s/it]\n"
     ]
    },
    {
     "name": "stdout",
     "output_type": "stream",
     "text": [
      "Avg MAE TTNE prediction validation set: 0.2086305171251297 (standardized) ; 773.104296875 (minutes)'\n",
      "Avg 1-(normalized) DL distance acitivty suffix prediction validation set: 0.3843352794647217\n",
      "Percentage of suffixes predicted to END: too early - 0.09125101537915452 ; right moment - 0.10833668948852195 ; too late - 0.8004122951323235\n",
      "Too early instances - avg amount of events too early: 9.949207305908203\n",
      "Too late instances - avg amount of events too late: 34.962127685546875\n",
      "Avg absolute amount of events predicted too early / too late: 28.891990661621094\n",
      "Avg MAE RRT prediction validation set: 0.49101054668426514 (standardized) ; 8239.886458333332 (minutes)'\n",
      " \n",
      "------------------------------------\n",
      "EPOCH 77:\n",
      "____________________________________\n"
     ]
    },
    {
     "name": "stderr",
     "output_type": "stream",
     "text": [
      "Batch calculation at epoch 77.: 804it [00:38, 21.64it/s]"
     ]
    },
    {
     "name": "stdout",
     "output_type": "stream",
     "text": [
      "------------------------------------------------------------\n",
      "Epoch 77, batch 799:\n",
      "Average original gradient norm: 8.299342813193798 (over last 800 batches)\n",
      "Average clipped gradient norm: 1.999999690502882 (over last 800 batches)\n",
      "Running average global loss: 0.9761348044127226 (over last 800 batches)\n",
      "Running average activity prediction loss: 0.28784145634621383 (Cross Entropy over last 800 batches)\n",
      "Running average time till next event prediction loss: 0.15821886899881066 (MAE over last 800 batches)\n",
      "Running average (complete) remaining runtime prediction loss: 0.5300744782015682 (MAE over last 800 batches)\n",
      "------------------------------------------------------------\n"
     ]
    },
    {
     "name": "stderr",
     "output_type": "stream",
     "text": [
      "Batch calculation at epoch 77.: 1603it [01:16, 21.41it/s]"
     ]
    },
    {
     "name": "stdout",
     "output_type": "stream",
     "text": [
      "------------------------------------------------------------\n",
      "Epoch 77, batch 1599:\n",
      "Average original gradient norm: 8.403056327700615 (over last 800 batches)\n",
      "Average clipped gradient norm: 1.999967405796051 (over last 800 batches)\n",
      "Running average global loss: 0.9746773339807987 (over last 800 batches)\n",
      "Running average activity prediction loss: 0.28789430785924197 (Cross Entropy over last 800 batches)\n",
      "Running average time till next event prediction loss: 0.15805674163624645 (MAE over last 800 batches)\n",
      "Running average (complete) remaining runtime prediction loss: 0.5287262857332826 (MAE over last 800 batches)\n",
      "------------------------------------------------------------\n"
     ]
    },
    {
     "name": "stderr",
     "output_type": "stream",
     "text": [
      "Batch calculation at epoch 77.: 2404it [01:54, 20.38it/s]"
     ]
    },
    {
     "name": "stdout",
     "output_type": "stream",
     "text": [
      "------------------------------------------------------------\n",
      "Epoch 77, batch 2399:\n",
      "Average original gradient norm: 8.444972726106643 (over last 800 batches)\n",
      "Average clipped gradient norm: 1.999885686337948 (over last 800 batches)\n",
      "Running average global loss: 0.9745962516963482 (over last 800 batches)\n",
      "Running average activity prediction loss: 0.2883420379832387 (Cross Entropy over last 800 batches)\n",
      "Running average time till next event prediction loss: 0.15819932560436428 (MAE over last 800 batches)\n",
      "Running average (complete) remaining runtime prediction loss: 0.5280548877641559 (MAE over last 800 batches)\n",
      "------------------------------------------------------------\n"
     ]
    },
    {
     "name": "stderr",
     "output_type": "stream",
     "text": [
      "Batch calculation at epoch 77.: 3202it [02:33, 20.59it/s]"
     ]
    },
    {
     "name": "stdout",
     "output_type": "stream",
     "text": [
      "------------------------------------------------------------\n",
      "Epoch 77, batch 3199:\n",
      "Average original gradient norm: 8.342924216389656 (over last 800 batches)\n",
      "Average clipped gradient norm: 1.9999996890127658 (over last 800 batches)\n",
      "Running average global loss: 0.9739966899901629 (over last 800 batches)\n",
      "Running average activity prediction loss: 0.28898571282625196 (Cross Entropy over last 800 batches)\n",
      "Running average time till next event prediction loss: 0.1582658612728119 (MAE over last 800 batches)\n",
      "Running average (complete) remaining runtime prediction loss: 0.526745117455721 (MAE over last 800 batches)\n",
      "------------------------------------------------------------\n"
     ]
    },
    {
     "name": "stderr",
     "output_type": "stream",
     "text": [
      "Batch calculation at epoch 77.: 4002it [03:12, 17.58it/s]"
     ]
    },
    {
     "name": "stdout",
     "output_type": "stream",
     "text": [
      "------------------------------------------------------------\n",
      "Epoch 77, batch 3999:\n",
      "Average original gradient norm: 8.695193873792887 (over last 800 batches)\n",
      "Average clipped gradient norm: 1.9997193865478038 (over last 800 batches)\n",
      "Running average global loss: 0.9742205537855625 (over last 800 batches)\n",
      "Running average activity prediction loss: 0.2876430221647024 (Cross Entropy over last 800 batches)\n",
      "Running average time till next event prediction loss: 0.1581503145210445 (MAE over last 800 batches)\n",
      "Running average (complete) remaining runtime prediction loss: 0.528427219092846 (MAE over last 800 batches)\n",
      "------------------------------------------------------------\n"
     ]
    },
    {
     "name": "stderr",
     "output_type": "stream",
     "text": [
      "Batch calculation at epoch 77.: 4798it [03:49, 20.87it/s]\n"
     ]
    },
    {
     "name": "stdout",
     "output_type": "stream",
     "text": [
      "=======================================\n",
      "End of epoch 77\n",
      "=======================================\n",
      "Running average global loss: 0.9766467958688736 (over last 800 batches)\n",
      "Running average activity prediction loss: 0.2886760900914669 (Cross Entropy over last 800 batches)\n",
      "Running average time till next event prediction loss: 0.15835291577503086 (MAE over last 800 batches)\n",
      "Running average (complete) remaining runtime prediction loss: 0.5296177900210023 (MAE over last 800 batches)\n"
     ]
    },
    {
     "name": "stderr",
     "output_type": "stream",
     "text": [
      "Validation batch calculation: 36it [15:45, 26.26s/it]\n"
     ]
    },
    {
     "name": "stdout",
     "output_type": "stream",
     "text": [
      "Avg MAE TTNE prediction validation set: 0.2106817066669464 (standardized) ; 780.6498046875 (minutes)'\n",
      "Avg 1-(normalized) DL distance acitivty suffix prediction validation set: 0.40186887979507446\n",
      "Percentage of suffixes predicted to END: too early - 0.09629548727960299 ; right moment - 0.11029577397489368 ; too late - 0.7934087387455033\n",
      "Too early instances - avg amount of events too early: 9.79712200164795\n",
      "Too late instances - avg amount of events too late: 32.92755889892578\n",
      "Avg absolute amount of events predicted too early / too late: 27.068431854248047\n",
      "Avg MAE RRT prediction validation set: 0.49264031648635864 (standardized) ; 8265.407291666666 (minutes)'\n",
      " \n",
      "------------------------------------\n",
      "EPOCH 78:\n",
      "____________________________________\n"
     ]
    },
    {
     "name": "stderr",
     "output_type": "stream",
     "text": [
      "Batch calculation at epoch 78.: 802it [00:38, 21.33it/s]"
     ]
    },
    {
     "name": "stdout",
     "output_type": "stream",
     "text": [
      "------------------------------------------------------------\n",
      "Epoch 78, batch 799:\n",
      "Average original gradient norm: 8.360941203087568 (over last 800 batches)\n",
      "Average clipped gradient norm: 1.9999601805210114 (over last 800 batches)\n",
      "Running average global loss: 0.9718642573058606 (over last 800 batches)\n",
      "Running average activity prediction loss: 0.28813495751470325 (Cross Entropy over last 800 batches)\n",
      "Running average time till next event prediction loss: 0.15742636130191387 (MAE over last 800 batches)\n",
      "Running average (complete) remaining runtime prediction loss: 0.526302938722074 (MAE over last 800 batches)\n",
      "------------------------------------------------------------\n"
     ]
    },
    {
     "name": "stderr",
     "output_type": "stream",
     "text": [
      "Batch calculation at epoch 78.: 1603it [01:17, 20.96it/s]"
     ]
    },
    {
     "name": "stdout",
     "output_type": "stream",
     "text": [
      "------------------------------------------------------------\n",
      "Epoch 78, batch 1599:\n",
      "Average original gradient norm: 8.307827870845795 (over last 800 batches)\n",
      "Average clipped gradient norm: 1.9999996957182884 (over last 800 batches)\n",
      "Running average global loss: 0.9765205253660679 (over last 800 batches)\n",
      "Running average activity prediction loss: 0.2882949333265424 (Cross Entropy over last 800 batches)\n",
      "Running average time till next event prediction loss: 0.15831659035757184 (MAE over last 800 batches)\n",
      "Running average (complete) remaining runtime prediction loss: 0.5299090020731092 (MAE over last 800 batches)\n",
      "------------------------------------------------------------\n"
     ]
    },
    {
     "name": "stderr",
     "output_type": "stream",
     "text": [
      "Batch calculation at epoch 78.: 2403it [01:57, 20.35it/s]"
     ]
    },
    {
     "name": "stdout",
     "output_type": "stream",
     "text": [
      "------------------------------------------------------------\n",
      "Epoch 78, batch 2399:\n",
      "Average original gradient norm: 8.200765951871873 (over last 800 batches)\n",
      "Average clipped gradient norm: 1.9999330270290374 (over last 800 batches)\n",
      "Running average global loss: 0.9760269485414028 (over last 800 batches)\n",
      "Running average activity prediction loss: 0.2877089756168425 (Cross Entropy over last 800 batches)\n",
      "Running average time till next event prediction loss: 0.15852724174037575 (MAE over last 800 batches)\n",
      "Running average (complete) remaining runtime prediction loss: 0.5297907337546348 (MAE over last 800 batches)\n",
      "------------------------------------------------------------\n"
     ]
    },
    {
     "name": "stderr",
     "output_type": "stream",
     "text": [
      "Batch calculation at epoch 78.: 3204it [02:36, 20.13it/s]"
     ]
    },
    {
     "name": "stdout",
     "output_type": "stream",
     "text": [
      "------------------------------------------------------------\n",
      "Epoch 78, batch 3199:\n",
      "Average original gradient norm: 8.280833919048309 (over last 800 batches)\n",
      "Average clipped gradient norm: 1.999999685883522 (over last 800 batches)\n",
      "Running average global loss: 0.9748604021966457 (over last 800 batches)\n",
      "Running average activity prediction loss: 0.2888203435577452 (Cross Entropy over last 800 batches)\n",
      "Running average time till next event prediction loss: 0.15815408163703978 (MAE over last 800 batches)\n",
      "Running average (complete) remaining runtime prediction loss: 0.5278859759494662 (MAE over last 800 batches)\n",
      "------------------------------------------------------------\n"
     ]
    },
    {
     "name": "stderr",
     "output_type": "stream",
     "text": [
      "Batch calculation at epoch 78.: 4002it [03:14, 20.39it/s]"
     ]
    },
    {
     "name": "stdout",
     "output_type": "stream",
     "text": [
      "------------------------------------------------------------\n",
      "Epoch 78, batch 3999:\n",
      "Average original gradient norm: 8.024257388114929 (over last 800 batches)\n",
      "Average clipped gradient norm: 1.999999670535326 (over last 800 batches)\n",
      "Running average global loss: 0.9756366220861673 (over last 800 batches)\n",
      "Running average activity prediction loss: 0.2884323808550835 (Cross Entropy over last 800 batches)\n",
      "Running average time till next event prediction loss: 0.15865635413676502 (MAE over last 800 batches)\n",
      "Running average (complete) remaining runtime prediction loss: 0.5285478890314699 (MAE over last 800 batches)\n",
      "------------------------------------------------------------\n"
     ]
    },
    {
     "name": "stderr",
     "output_type": "stream",
     "text": [
      "Batch calculation at epoch 78.: 4798it [03:52, 20.62it/s]\n"
     ]
    },
    {
     "name": "stdout",
     "output_type": "stream",
     "text": [
      "=======================================\n",
      "End of epoch 78\n",
      "=======================================\n",
      "Running average global loss: 0.9760664954036474 (over last 800 batches)\n",
      "Running average activity prediction loss: 0.2877534901164472 (Cross Entropy over last 800 batches)\n",
      "Running average time till next event prediction loss: 0.1581647024862468 (MAE over last 800 batches)\n",
      "Running average (complete) remaining runtime prediction loss: 0.5301483020558954 (MAE over last 800 batches)\n"
     ]
    },
    {
     "name": "stderr",
     "output_type": "stream",
     "text": [
      "Validation batch calculation: 36it [15:46, 26.30s/it]\n"
     ]
    },
    {
     "name": "stdout",
     "output_type": "stream",
     "text": [
      "Avg MAE TTNE prediction validation set: 0.20967179536819458 (standardized) ; 776.94375 (minutes)'\n",
      "Avg 1-(normalized) DL distance acitivty suffix prediction validation set: 0.3999951183795929\n",
      "Percentage of suffixes predicted to END: too early - 0.09534666238899091 ; right moment - 0.11037086083674068 ; too late - 0.7942824767742684\n",
      "Too early instances - avg amount of events too early: 9.621492385864258\n",
      "Too late instances - avg amount of events too late: 33.240150451660156\n",
      "Avg absolute amount of events predicted too early / too late: 27.319446563720703\n",
      "Avg MAE RRT prediction validation set: 0.49130889773368835 (standardized) ; 8243.134375 (minutes)'\n",
      " \n",
      "------------------------------------\n",
      "EPOCH 79:\n",
      "____________________________________\n"
     ]
    },
    {
     "name": "stderr",
     "output_type": "stream",
     "text": [
      "Batch calculation at epoch 79.: 804it [00:38, 21.35it/s]"
     ]
    },
    {
     "name": "stdout",
     "output_type": "stream",
     "text": [
      "------------------------------------------------------------\n",
      "Epoch 79, batch 799:\n",
      "Average original gradient norm: 8.217738234102725 (over last 800 batches)\n",
      "Average clipped gradient norm: 1.999999682456255 (over last 800 batches)\n",
      "Running average global loss: 0.9735324905067683 (over last 800 batches)\n",
      "Running average activity prediction loss: 0.287899640314281 (Cross Entropy over last 800 batches)\n",
      "Running average time till next event prediction loss: 0.15786586201749742 (MAE over last 800 batches)\n",
      "Running average (complete) remaining runtime prediction loss: 0.5277669875696301 (MAE over last 800 batches)\n",
      "------------------------------------------------------------\n"
     ]
    },
    {
     "name": "stderr",
     "output_type": "stream",
     "text": [
      "Batch calculation at epoch 79.: 1604it [01:17, 20.46it/s]"
     ]
    },
    {
     "name": "stdout",
     "output_type": "stream",
     "text": [
      "------------------------------------------------------------\n",
      "Epoch 79, batch 1599:\n",
      "Average original gradient norm: 8.251485195755958 (over last 800 batches)\n",
      "Average clipped gradient norm: 1.9999996894598007 (over last 800 batches)\n",
      "Running average global loss: 0.9753775840252638 (over last 800 batches)\n",
      "Running average activity prediction loss: 0.2884991535916924 (Cross Entropy over last 800 batches)\n",
      "Running average time till next event prediction loss: 0.15871096171438695 (MAE over last 800 batches)\n",
      "Running average (complete) remaining runtime prediction loss: 0.5281674700602889 (MAE over last 800 batches)\n",
      "------------------------------------------------------------\n"
     ]
    },
    {
     "name": "stderr",
     "output_type": "stream",
     "text": [
      "Batch calculation at epoch 79.: 2404it [01:57, 20.79it/s]"
     ]
    },
    {
     "name": "stdout",
     "output_type": "stream",
     "text": [
      "------------------------------------------------------------\n",
      "Epoch 79, batch 2399:\n",
      "Average original gradient norm: 8.474994818568229 (over last 800 batches)\n",
      "Average clipped gradient norm: 1.9998388448357582 (over last 800 batches)\n",
      "Running average global loss: 0.9749146049469709 (over last 800 batches)\n",
      "Running average activity prediction loss: 0.28824652042239907 (Cross Entropy over last 800 batches)\n",
      "Running average time till next event prediction loss: 0.15782749435864388 (MAE over last 800 batches)\n",
      "Running average (complete) remaining runtime prediction loss: 0.5288405923917889 (MAE over last 800 batches)\n",
      "------------------------------------------------------------\n"
     ]
    },
    {
     "name": "stderr",
     "output_type": "stream",
     "text": [
      "Batch calculation at epoch 79.: 3203it [02:36, 21.17it/s]"
     ]
    },
    {
     "name": "stdout",
     "output_type": "stream",
     "text": [
      "------------------------------------------------------------\n",
      "Epoch 79, batch 3199:\n",
      "Average original gradient norm: 8.255894744694233 (over last 800 batches)\n",
      "Average clipped gradient norm: 1.9999996800720692 (over last 800 batches)\n",
      "Running average global loss: 0.9745203422755003 (over last 800 batches)\n",
      "Running average activity prediction loss: 0.287571152113378 (Cross Entropy over last 800 batches)\n",
      "Running average time till next event prediction loss: 0.15824713300913573 (MAE over last 800 batches)\n",
      "Running average (complete) remaining runtime prediction loss: 0.528702057749033 (MAE over last 800 batches)\n",
      "------------------------------------------------------------\n"
     ]
    },
    {
     "name": "stderr",
     "output_type": "stream",
     "text": [
      "Batch calculation at epoch 79.: 4004it [03:14, 20.57it/s]"
     ]
    },
    {
     "name": "stdout",
     "output_type": "stream",
     "text": [
      "------------------------------------------------------------\n",
      "Epoch 79, batch 3999:\n",
      "Average original gradient norm: 8.325096616744995 (over last 800 batches)\n",
      "Average clipped gradient norm: 1.9999996802210809 (over last 800 batches)\n",
      "Running average global loss: 0.9760519971698522 (over last 800 batches)\n",
      "Running average activity prediction loss: 0.2882723281905055 (Cross Entropy over last 800 batches)\n",
      "Running average time till next event prediction loss: 0.1580128197465092 (MAE over last 800 batches)\n",
      "Running average (complete) remaining runtime prediction loss: 0.5297668474540115 (MAE over last 800 batches)\n",
      "------------------------------------------------------------\n"
     ]
    },
    {
     "name": "stderr",
     "output_type": "stream",
     "text": [
      "Batch calculation at epoch 79.: 4798it [03:52, 20.67it/s]\n"
     ]
    },
    {
     "name": "stdout",
     "output_type": "stream",
     "text": [
      "=======================================\n",
      "End of epoch 79\n",
      "=======================================\n",
      "Running average global loss: 0.9745111162960529 (over last 800 batches)\n",
      "Running average activity prediction loss: 0.2882163707539439 (Cross Entropy over last 800 batches)\n",
      "Running average time till next event prediction loss: 0.1581707545183599 (MAE over last 800 batches)\n",
      "Running average (complete) remaining runtime prediction loss: 0.5281239926442504 (MAE over last 800 batches)\n"
     ]
    },
    {
     "name": "stderr",
     "output_type": "stream",
     "text": [
      "Validation batch calculation: 36it [15:47, 26.31s/it]\n"
     ]
    },
    {
     "name": "stdout",
     "output_type": "stream",
     "text": [
      "Avg MAE TTNE prediction validation set: 0.2104434072971344 (standardized) ; 779.8553385416667 (minutes)'\n",
      "Avg 1-(normalized) DL distance acitivty suffix prediction validation set: 0.3886338770389557\n",
      "Percentage of suffixes predicted to END: too early - 0.07882755278265084 ; right moment - 0.10779060322054376 ; too late - 0.8133818439968054\n",
      "Too early instances - avg amount of events too early: 9.392102241516113\n",
      "Too late instances - avg amount of events too late: 34.141056060791016\n",
      "Avg absolute amount of events predicted too early / too late: 28.510072708129883\n",
      "Avg MAE RRT prediction validation set: 0.4917151629924774 (standardized) ; 8251.322916666666 (minutes)'\n",
      " \n",
      "------------------------------------\n",
      "EPOCH 80:\n",
      "____________________________________\n"
     ]
    },
    {
     "name": "stderr",
     "output_type": "stream",
     "text": [
      "Batch calculation at epoch 80.: 804it [00:37, 21.41it/s]"
     ]
    },
    {
     "name": "stdout",
     "output_type": "stream",
     "text": [
      "------------------------------------------------------------\n",
      "Epoch 80, batch 799:\n",
      "Average original gradient norm: 8.640999320447445 (over last 800 batches)\n",
      "Average clipped gradient norm: 1.9999996991455555 (over last 800 batches)\n",
      "Running average global loss: 0.9731696363538503 (over last 800 batches)\n",
      "Running average activity prediction loss: 0.28764547500759363 (Cross Entropy over last 800 batches)\n",
      "Running average time till next event prediction loss: 0.15788917082361878 (MAE over last 800 batches)\n",
      "Running average (complete) remaining runtime prediction loss: 0.5276349898800254 (MAE over last 800 batches)\n",
      "------------------------------------------------------------\n"
     ]
    },
    {
     "name": "stderr",
     "output_type": "stream",
     "text": [
      "Batch calculation at epoch 80.: 1602it [01:15, 21.34it/s]"
     ]
    },
    {
     "name": "stdout",
     "output_type": "stream",
     "text": [
      "------------------------------------------------------------\n",
      "Epoch 80, batch 1599:\n",
      "Average original gradient norm: 8.140970507860184 (over last 800 batches)\n",
      "Average clipped gradient norm: 1.9999996857345104 (over last 800 batches)\n",
      "Running average global loss: 0.9774662998318672 (over last 800 batches)\n",
      "Running average activity prediction loss: 0.2878636824339628 (Cross Entropy over last 800 batches)\n",
      "Running average time till next event prediction loss: 0.15858236560598016 (MAE over last 800 batches)\n",
      "Running average (complete) remaining runtime prediction loss: 0.5310202514380217 (MAE over last 800 batches)\n",
      "------------------------------------------------------------\n"
     ]
    },
    {
     "name": "stderr",
     "output_type": "stream",
     "text": [
      "Batch calculation at epoch 80.: 2403it [01:53, 21.36it/s]"
     ]
    },
    {
     "name": "stdout",
     "output_type": "stream",
     "text": [
      "------------------------------------------------------------\n",
      "Epoch 80, batch 2399:\n",
      "Average original gradient norm: 8.15475636869669 (over last 800 batches)\n",
      "Average clipped gradient norm: 1.9999996842443943 (over last 800 batches)\n",
      "Running average global loss: 0.9764310328662396 (over last 800 batches)\n",
      "Running average activity prediction loss: 0.2879252888262272 (Cross Entropy over last 800 batches)\n",
      "Running average time till next event prediction loss: 0.1587360908742994 (MAE over last 800 batches)\n",
      "Running average (complete) remaining runtime prediction loss: 0.5297696531563997 (MAE over last 800 batches)\n",
      "------------------------------------------------------------\n"
     ]
    },
    {
     "name": "stderr",
     "output_type": "stream",
     "text": [
      "Batch calculation at epoch 80.: 3204it [02:31, 21.13it/s]"
     ]
    },
    {
     "name": "stdout",
     "output_type": "stream",
     "text": [
      "------------------------------------------------------------\n",
      "Epoch 80, batch 3199:\n",
      "Average original gradient norm: 8.32550566136837 (over last 800 batches)\n",
      "Average clipped gradient norm: 1.9999996888637543 (over last 800 batches)\n",
      "Running average global loss: 0.975517847687006 (over last 800 batches)\n",
      "Running average activity prediction loss: 0.28845058839768173 (Cross Entropy over last 800 batches)\n",
      "Running average time till next event prediction loss: 0.15828120606020094 (MAE over last 800 batches)\n",
      "Running average (complete) remaining runtime prediction loss: 0.5287860535830259 (MAE over last 800 batches)\n",
      "------------------------------------------------------------\n"
     ]
    },
    {
     "name": "stderr",
     "output_type": "stream",
     "text": [
      "Batch calculation at epoch 80.: 4002it [03:09, 21.01it/s]"
     ]
    },
    {
     "name": "stdout",
     "output_type": "stream",
     "text": [
      "------------------------------------------------------------\n",
      "Epoch 80, batch 3999:\n",
      "Average original gradient norm: 8.438069692850114 (over last 800 batches)\n",
      "Average clipped gradient norm: 1.9996475361287593 (over last 800 batches)\n",
      "Running average global loss: 0.970410049110651 (over last 800 batches)\n",
      "Running average activity prediction loss: 0.2882958222180605 (Cross Entropy over last 800 batches)\n",
      "Running average time till next event prediction loss: 0.15694624064490198 (MAE over last 800 batches)\n",
      "Running average (complete) remaining runtime prediction loss: 0.525167986266315 (MAE over last 800 batches)\n",
      "------------------------------------------------------------\n"
     ]
    },
    {
     "name": "stderr",
     "output_type": "stream",
     "text": [
      "Batch calculation at epoch 80.: 4798it [03:47, 21.14it/s]\n"
     ]
    },
    {
     "name": "stdout",
     "output_type": "stream",
     "text": [
      "=======================================\n",
      "End of epoch 80\n",
      "=======================================\n",
      "Running average global loss: 0.9768899159878492 (over last 800 batches)\n",
      "Running average activity prediction loss: 0.28843986641615627 (Cross Entropy over last 800 batches)\n",
      "Running average time till next event prediction loss: 0.1585412364359945 (MAE over last 800 batches)\n",
      "Running average (complete) remaining runtime prediction loss: 0.529908812046051 (MAE over last 800 batches)\n"
     ]
    },
    {
     "name": "stderr",
     "output_type": "stream",
     "text": [
      "Validation batch calculation: 36it [15:49, 26.36s/it]\n"
     ]
    },
    {
     "name": "stdout",
     "output_type": "stream",
     "text": [
      "Avg MAE TTNE prediction validation set: 0.2107696682214737 (standardized) ; 781.1203125 (minutes)'\n",
      "Avg 1-(normalized) DL distance acitivty suffix prediction validation set: 0.3811764419078827\n",
      "Percentage of suffixes predicted to END: too early - 0.07018573759189609 ; right moment - 0.10592708383106822 ; too late - 0.8238871785770358\n",
      "Too early instances - avg amount of events too early: 9.428418159484863\n",
      "Too late instances - avg amount of events too late: 34.321556091308594\n",
      "Avg absolute amount of events predicted too early / too late: 28.938831329345703\n",
      "Avg MAE RRT prediction validation set: 0.49101191759109497 (standardized) ; 8239.983333333334 (minutes)'\n",
      " \n",
      "------------------------------------\n",
      "EPOCH 81:\n",
      "____________________________________\n"
     ]
    },
    {
     "name": "stderr",
     "output_type": "stream",
     "text": [
      "Batch calculation at epoch 81.: 802it [00:37, 21.63it/s]"
     ]
    },
    {
     "name": "stdout",
     "output_type": "stream",
     "text": [
      "------------------------------------------------------------\n",
      "Epoch 81, batch 799:\n",
      "Average original gradient norm: 8.203844674825667 (over last 800 batches)\n",
      "Average clipped gradient norm: 1.9999996791779995 (over last 800 batches)\n",
      "Running average global loss: 0.9739657198637723 (over last 800 batches)\n",
      "Running average activity prediction loss: 0.2883194312080741 (Cross Entropy over last 800 batches)\n",
      "Running average time till next event prediction loss: 0.15790007502771913 (MAE over last 800 batches)\n",
      "Running average (complete) remaining runtime prediction loss: 0.5277462112158537 (MAE over last 800 batches)\n",
      "------------------------------------------------------------\n"
     ]
    },
    {
     "name": "stderr",
     "output_type": "stream",
     "text": [
      "Batch calculation at epoch 81.: 1603it [01:15, 21.29it/s]"
     ]
    },
    {
     "name": "stdout",
     "output_type": "stream",
     "text": [
      "------------------------------------------------------------\n",
      "Epoch 81, batch 1599:\n",
      "Average original gradient norm: 8.233986689150333 (over last 800 batches)\n",
      "Average clipped gradient norm: 1.9999996893107892 (over last 800 batches)\n",
      "Running average global loss: 0.9763035652041435 (over last 800 batches)\n",
      "Running average activity prediction loss: 0.2879639092460275 (Cross Entropy over last 800 batches)\n",
      "Running average time till next event prediction loss: 0.15857391053810715 (MAE over last 800 batches)\n",
      "Running average (complete) remaining runtime prediction loss: 0.5297657439485193 (MAE over last 800 batches)\n",
      "------------------------------------------------------------\n"
     ]
    },
    {
     "name": "stderr",
     "output_type": "stream",
     "text": [
      "Batch calculation at epoch 81.: 2403it [01:54, 19.99it/s]"
     ]
    },
    {
     "name": "stdout",
     "output_type": "stream",
     "text": [
      "------------------------------------------------------------\n",
      "Epoch 81, batch 2399:\n",
      "Average original gradient norm: 8.297493796348572 (over last 800 batches)\n",
      "Average clipped gradient norm: 1.99999969124794 (over last 800 batches)\n",
      "Running average global loss: 0.9745941788703203 (over last 800 batches)\n",
      "Running average activity prediction loss: 0.28812411945313215 (Cross Entropy over last 800 batches)\n",
      "Running average time till next event prediction loss: 0.1584554195497185 (MAE over last 800 batches)\n",
      "Running average (complete) remaining runtime prediction loss: 0.5280146410688757 (MAE over last 800 batches)\n",
      "------------------------------------------------------------\n"
     ]
    },
    {
     "name": "stderr",
     "output_type": "stream",
     "text": [
      "Batch calculation at epoch 81.: 3204it [02:34, 20.37it/s]"
     ]
    },
    {
     "name": "stdout",
     "output_type": "stream",
     "text": [
      "------------------------------------------------------------\n",
      "Epoch 81, batch 3199:\n",
      "Average original gradient norm: 8.422823683023452 (over last 800 batches)\n",
      "Average clipped gradient norm: 1.9999997007846833 (over last 800 batches)\n",
      "Running average global loss: 0.9743197833001613 (over last 800 batches)\n",
      "Running average activity prediction loss: 0.2880487884953618 (Cross Entropy over last 800 batches)\n",
      "Running average time till next event prediction loss: 0.15774345097132028 (MAE over last 800 batches)\n",
      "Running average (complete) remaining runtime prediction loss: 0.5285275453329086 (MAE over last 800 batches)\n",
      "------------------------------------------------------------\n"
     ]
    },
    {
     "name": "stderr",
     "output_type": "stream",
     "text": [
      "Batch calculation at epoch 81.: 4002it [03:12, 20.10it/s]"
     ]
    },
    {
     "name": "stdout",
     "output_type": "stream",
     "text": [
      "------------------------------------------------------------\n",
      "Epoch 81, batch 3999:\n",
      "Average original gradient norm: 8.516465972959995 (over last 800 batches)\n",
      "Average clipped gradient norm: 1.999999697804451 (over last 800 batches)\n",
      "Running average global loss: 0.9746754550933838 (over last 800 batches)\n",
      "Running average activity prediction loss: 0.2876479645818472 (Cross Entropy over last 800 batches)\n",
      "Running average time till next event prediction loss: 0.15854210550896825 (MAE over last 800 batches)\n",
      "Running average (complete) remaining runtime prediction loss: 0.5284853825718164 (MAE over last 800 batches)\n",
      "------------------------------------------------------------\n"
     ]
    },
    {
     "name": "stderr",
     "output_type": "stream",
     "text": [
      "Batch calculation at epoch 81.: 4798it [03:52, 20.63it/s]\n"
     ]
    },
    {
     "name": "stdout",
     "output_type": "stream",
     "text": [
      "=======================================\n",
      "End of epoch 81\n",
      "=======================================\n",
      "Running average global loss: 0.9750841905176639 (over last 800 batches)\n",
      "Running average activity prediction loss: 0.2878943421691656 (Cross Entropy over last 800 batches)\n",
      "Running average time till next event prediction loss: 0.15783285218290985 (MAE over last 800 batches)\n",
      "Running average (complete) remaining runtime prediction loss: 0.5293569951876997 (MAE over last 800 batches)\n"
     ]
    },
    {
     "name": "stderr",
     "output_type": "stream",
     "text": [
      "Validation batch calculation: 36it [15:48, 26.35s/it]\n"
     ]
    },
    {
     "name": "stdout",
     "output_type": "stream",
     "text": [
      "Avg MAE TTNE prediction validation set: 0.21102546155452728 (standardized) ; 782.0473307291667 (minutes)'\n",
      "Avg 1-(normalized) DL distance acitivty suffix prediction validation set: 0.39224973320961\n",
      "Percentage of suffixes predicted to END: too early - 0.08039755080308812 ; right moment - 0.10810460282463122 ; too late - 0.8114978463722806\n",
      "Too early instances - avg amount of events too early: 9.588129997253418\n",
      "Too late instances - avg amount of events too late: 33.7091064453125\n",
      "Avg absolute amount of events predicted too early / too late: 28.125728607177734\n",
      "Avg MAE RRT prediction validation set: 0.49178546667099 (standardized) ; 8252.280729166667 (minutes)'\n",
      " \n",
      "------------------------------------\n",
      "EPOCH 82:\n",
      "____________________________________\n"
     ]
    },
    {
     "name": "stderr",
     "output_type": "stream",
     "text": [
      "Batch calculation at epoch 82.: 804it [00:38, 20.84it/s]"
     ]
    },
    {
     "name": "stdout",
     "output_type": "stream",
     "text": [
      "------------------------------------------------------------\n",
      "Epoch 82, batch 799:\n",
      "Average original gradient norm: 8.352913355529308 (over last 800 batches)\n",
      "Average clipped gradient norm: 1.9999996964633464 (over last 800 batches)\n",
      "Running average global loss: 0.9730249201506376 (over last 800 batches)\n",
      "Running average activity prediction loss: 0.28704822100698946 (Cross Entropy over last 800 batches)\n",
      "Running average time till next event prediction loss: 0.15833375031128527 (MAE over last 800 batches)\n",
      "Running average (complete) remaining runtime prediction loss: 0.5276429488882423 (MAE over last 800 batches)\n",
      "------------------------------------------------------------\n"
     ]
    },
    {
     "name": "stderr",
     "output_type": "stream",
     "text": [
      "Batch calculation at epoch 82.: 1602it [01:17, 20.53it/s]"
     ]
    },
    {
     "name": "stdout",
     "output_type": "stream",
     "text": [
      "------------------------------------------------------------\n",
      "Epoch 82, batch 1599:\n",
      "Average original gradient norm: 8.150266936123371 (over last 800 batches)\n",
      "Average clipped gradient norm: 1.999999675899744 (over last 800 batches)\n",
      "Running average global loss: 0.9722349166870117 (over last 800 batches)\n",
      "Running average activity prediction loss: 0.2885471576824784 (Cross Entropy over last 800 batches)\n",
      "Running average time till next event prediction loss: 0.15793103432282807 (MAE over last 800 batches)\n",
      "Running average (complete) remaining runtime prediction loss: 0.525756723433733 (MAE over last 800 batches)\n",
      "------------------------------------------------------------\n"
     ]
    },
    {
     "name": "stderr",
     "output_type": "stream",
     "text": [
      "Batch calculation at epoch 82.: 2403it [01:56, 21.18it/s]"
     ]
    },
    {
     "name": "stdout",
     "output_type": "stream",
     "text": [
      "------------------------------------------------------------\n",
      "Epoch 82, batch 2399:\n",
      "Average original gradient norm: 8.377789945453406 (over last 800 batches)\n",
      "Average clipped gradient norm: 1.9995966154336928 (over last 800 batches)\n",
      "Running average global loss: 0.9755679085105657 (over last 800 batches)\n",
      "Running average activity prediction loss: 0.28832707468420266 (Cross Entropy over last 800 batches)\n",
      "Running average time till next event prediction loss: 0.15810445985756816 (MAE over last 800 batches)\n",
      "Running average (complete) remaining runtime prediction loss: 0.5291363747045398 (MAE over last 800 batches)\n",
      "------------------------------------------------------------\n"
     ]
    },
    {
     "name": "stderr",
     "output_type": "stream",
     "text": [
      "Batch calculation at epoch 82.: 3204it [02:34, 21.13it/s]"
     ]
    },
    {
     "name": "stdout",
     "output_type": "stream",
     "text": [
      "------------------------------------------------------------\n",
      "Epoch 82, batch 3199:\n",
      "Average original gradient norm: 8.220593524277211 (over last 800 batches)\n",
      "Average clipped gradient norm: 1.9999996861815452 (over last 800 batches)\n",
      "Running average global loss: 0.9750811771303415 (over last 800 batches)\n",
      "Running average activity prediction loss: 0.28783351704478266 (Cross Entropy over last 800 batches)\n",
      "Running average time till next event prediction loss: 0.15794078400358558 (MAE over last 800 batches)\n",
      "Running average (complete) remaining runtime prediction loss: 0.5293068758398295 (MAE over last 800 batches)\n",
      "------------------------------------------------------------\n"
     ]
    },
    {
     "name": "stderr",
     "output_type": "stream",
     "text": [
      "Batch calculation at epoch 82.: 4002it [03:12, 21.18it/s]"
     ]
    },
    {
     "name": "stdout",
     "output_type": "stream",
     "text": [
      "------------------------------------------------------------\n",
      "Epoch 82, batch 3999:\n",
      "Average original gradient norm: 8.44336338430643 (over last 800 batches)\n",
      "Average clipped gradient norm: 1.9999996861815452 (over last 800 batches)\n",
      "Running average global loss: 0.9768185244500637 (over last 800 batches)\n",
      "Running average activity prediction loss: 0.2880405270308256 (Cross Entropy over last 800 batches)\n",
      "Running average time till next event prediction loss: 0.15815026307478547 (MAE over last 800 batches)\n",
      "Running average (complete) remaining runtime prediction loss: 0.5306277350708842 (MAE over last 800 batches)\n",
      "------------------------------------------------------------\n"
     ]
    },
    {
     "name": "stderr",
     "output_type": "stream",
     "text": [
      "Batch calculation at epoch 82.: 4798it [03:50, 20.83it/s]\n"
     ]
    },
    {
     "name": "stdout",
     "output_type": "stream",
     "text": [
      "=======================================\n",
      "End of epoch 82\n",
      "=======================================\n",
      "Running average global loss: 0.9744239008426666 (over last 800 batches)\n",
      "Running average activity prediction loss: 0.2881089686229825 (Cross Entropy over last 800 batches)\n",
      "Running average time till next event prediction loss: 0.15832744114100933 (MAE over last 800 batches)\n",
      "Running average (complete) remaining runtime prediction loss: 0.5279874892532825 (MAE over last 800 batches)\n"
     ]
    },
    {
     "name": "stderr",
     "output_type": "stream",
     "text": [
      "Validation batch calculation: 36it [15:47, 26.31s/it]\n"
     ]
    },
    {
     "name": "stdout",
     "output_type": "stream",
     "text": [
      "Avg MAE TTNE prediction validation set: 0.210715651512146 (standardized) ; 780.897265625 (minutes)'\n",
      "Avg 1-(normalized) DL distance acitivty suffix prediction validation set: 0.39635729789733887\n",
      "Percentage of suffixes predicted to END: too early - 0.08716219444766787 ; right moment - 0.10895103653999741 ; too late - 0.8038867690123347\n",
      "Too early instances - avg amount of events too early: 9.654632568359375\n",
      "Too late instances - avg amount of events too late: 33.4213752746582\n",
      "Avg absolute amount of events predicted too early / too late: 27.708518981933594\n",
      "Avg MAE RRT prediction validation set: 0.4924320578575134 (standardized) ; 8261.889583333334 (minutes)'\n",
      "No improvements in validation loss for 24 consecutive epochs. Final epoch: 82\n",
      "cuda\n"
     ]
    },
    {
     "name": "stderr",
     "output_type": "stream",
     "text": [
      "/media/usr/SSD/yongmin/PPM/TRAIN_EVAL_SUTRAN_NDA.py:56: FutureWarning: You are using `torch.load` with `weights_only=False` (the current default value), which uses the default pickle module implicitly. It is possible to construct malicious pickle data which will execute arbitrary code during unpickling (See https://github.com/pytorch/pytorch/blob/main/SECURITY.md#untrusted-models for more details). In a future release, the default value for `weights_only` will be flipped to `True`. This limits the functions that could be executed during unpickling. Arbitrary objects will no longer be allowed to be loaded via this mode unless they are explicitly allowlisted by the user via `torch.serialization.add_safe_globals`. We recommend you start setting `weights_only=True` for any use case where you don't have full control of the loaded file. Please open an issue on GitHub for any issues related to this experimental feature.\n",
      "  checkpoint = torch.load(path_to_checkpoint)\n",
      "Validation batch calculation: 75it [33:00, 26.41s/it]\n"
     ]
    },
    {
     "name": "stdout",
     "output_type": "stream",
     "text": [
      "Avg MAE TTNE prediction validation set: 0.2031465619802475 (standardized) ; 752.6828125 (minutes)'\n",
      "Avg 1-(normalized) DL distance acitivty suffix prediction validation set: 0.4012344479560852\n",
      "Percentage of suffixes predicted to END: too early - 0.1050589136827765 ; right moment - 0.11683837543636733 ; too late - 0.7781027108808561\n",
      "Too early instances - avg amount of events too early: 10.22642707824707\n",
      "Too late instances - avg amount of events too late: 32.134708404541016\n",
      "Avg absolute amount of events predicted too early / too late: 26.078479766845703\n",
      "Avg MAE RRT prediction validation set: 0.5318318605422974 (standardized) ; 8921.558333333332 (minutes)'\n"
     ]
    }
   ],
   "source": [
    "from TRAIN_EVAL_SUTRAN_NDA import train_eval\n",
    "\n",
    "train_eval(log_name='BPIC_17', tss_index=5)"
   ]
  },
  {
   "cell_type": "code",
   "execution_count": null,
   "metadata": {},
   "outputs": [],
   "source": []
  }
 ],
 "metadata": {
  "kernelspec": {
   "display_name": "NDE",
   "language": "python",
   "name": "python3"
  },
  "language_info": {
   "codemirror_mode": {
    "name": "ipython",
    "version": 3
   },
   "file_extension": ".py",
   "mimetype": "text/x-python",
   "name": "python",
   "nbconvert_exporter": "python",
   "pygments_lexer": "ipython3",
   "version": "3.12.5"
  }
 },
 "nbformat": 4,
 "nbformat_minor": 2
}
