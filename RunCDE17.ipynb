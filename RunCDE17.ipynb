{
 "cells": [
  {
   "cell_type": "code",
   "execution_count": 1,
   "metadata": {},
   "outputs": [
    {
     "name": "stdout",
     "output_type": "stream",
     "text": [
      "27\n"
     ]
    },
    {
     "name": "stderr",
     "output_type": "stream",
     "text": [
      "/media/usr/SSD/yongmin/PPM/TRAIN_EVAL_NODE_ND.py:161: FutureWarning: You are using `torch.load` with `weights_only=False` (the current default value), which uses the default pickle module implicitly. It is possible to construct malicious pickle data which will execute arbitrary code during unpickling (See https://github.com/pytorch/pytorch/blob/main/SECURITY.md#untrusted-models for more details). In a future release, the default value for `weights_only` will be flipped to `True`. This limits the functions that could be executed during unpickling. Arbitrary objects will no longer be allowed to be loaded via this mode unless they are explicitly allowlisted by the user via `torch.serialization.add_safe_globals`. We recommend you start setting `weights_only=True` for any use case where you don't have full control of the loaded file. Please open an issue on GitHub for any issues related to this experimental feature.\n",
      "  train_dataset = torch.load(temp_path)\n",
      "/media/usr/SSD/yongmin/PPM/TRAIN_EVAL_NODE_ND.py:165: FutureWarning: You are using `torch.load` with `weights_only=False` (the current default value), which uses the default pickle module implicitly. It is possible to construct malicious pickle data which will execute arbitrary code during unpickling (See https://github.com/pytorch/pytorch/blob/main/SECURITY.md#untrusted-models for more details). In a future release, the default value for `weights_only` will be flipped to `True`. This limits the functions that could be executed during unpickling. Arbitrary objects will no longer be allowed to be loaded via this mode unless they are explicitly allowlisted by the user via `torch.serialization.add_safe_globals`. We recommend you start setting `weights_only=True` for any use case where you don't have full control of the loaded file. Please open an issue on GitHub for any issues related to this experimental feature.\n",
      "  val_dataset = torch.load(temp_path)\n",
      "/media/usr/SSD/yongmin/PPM/TRAIN_EVAL_NODE_ND.py:169: FutureWarning: You are using `torch.load` with `weights_only=False` (the current default value), which uses the default pickle module implicitly. It is possible to construct malicious pickle data which will execute arbitrary code during unpickling (See https://github.com/pytorch/pytorch/blob/main/SECURITY.md#untrusted-models for more details). In a future release, the default value for `weights_only` will be flipped to `True`. This limits the functions that could be executed during unpickling. Arbitrary objects will no longer be allowed to be loaded via this mode unless they are explicitly allowlisted by the user via `torch.serialization.add_safe_globals`. We recommend you start setting `weights_only=True` for any use case where you don't have full control of the loaded file. Please open an issue on GitHub for any issues related to this experimental feature.\n",
      "  test_dataset = torch.load(temp_path)\n"
     ]
    },
    {
     "name": "stdout",
     "output_type": "stream",
     "text": [
      "Device: cuda\n",
      " \n",
      "------------------------------------\n",
      "EPOCH 0:\n",
      "____________________________________\n"
     ]
    },
    {
     "name": "stderr",
     "output_type": "stream",
     "text": [
      "Batch calculation at epoch 0.: 600it [3:13:48, 19.38s/it]\n"
     ]
    },
    {
     "name": "stdout",
     "output_type": "stream",
     "text": [
      "=======================================\n",
      "End of epoch 0\n",
      "=======================================\n",
      "Running average global loss: 0.5026292219408788 (over last 4096 batches)\n",
      "Running average activity prediction loss: 0.353182029328309 (Cross Entropy over last 4096 batches)\n",
      "Running average time till next event prediction loss: 0.031850359391683014 (MAE over last 4096 batches)\n",
      "Running average (complete) remaining runtime prediction loss: 0.11759683425771073 (MAE over last 4096 batches)\n"
     ]
    },
    {
     "name": "stderr",
     "output_type": "stream",
     "text": [
      "Validation batch calculation: 36it [00:46,  1.28s/it]\n"
     ]
    },
    {
     "name": "stdout",
     "output_type": "stream",
     "text": [
      "Avg MAE TTNE prediction validation set: 0.22184433043003082 (standardized) ; 822.1701822916667 (minutes)'\n",
      "Avg 1-(normalized) DL distance acitivty suffix prediction validation set: 0.06747686117887497\n",
      "Percentage of suffixes predicted to END: too early - 0.0 ; right moment - 6.826078349727298e-06 ; too late - 0.9999931739216503\n",
      "Too early instances - avg amount of events too early: nan\n",
      "Too late instances - avg amount of events too late: 67.12333679199219\n",
      "Avg absolute amount of events predicted too early / too late: 67.12287902832031\n",
      "Avg MAE RRT prediction validation set: 0.7333701252937317 (standardized) ; 12314.585416666667 (minutes)'\n",
      " \n",
      "------------------------------------\n",
      "EPOCH 1:\n",
      "____________________________________\n"
     ]
    },
    {
     "name": "stderr",
     "output_type": "stream",
     "text": [
      "Batch calculation at epoch 1.: 600it [1:20:20,  8.03s/it]\n"
     ]
    },
    {
     "name": "stdout",
     "output_type": "stream",
     "text": [
      "=======================================\n",
      "End of epoch 1\n",
      "=======================================\n",
      "Running average global loss: 0.49815078248502687 (over last 4096 batches)\n",
      "Running average activity prediction loss: 0.3493554376764223 (Cross Entropy over last 4096 batches)\n",
      "Running average time till next event prediction loss: 0.03125137286770041 (MAE over last 4096 batches)\n",
      "Running average (complete) remaining runtime prediction loss: 0.11754397263575811 (MAE over last 4096 batches)\n"
     ]
    },
    {
     "name": "stderr",
     "output_type": "stream",
     "text": [
      "Validation batch calculation: 36it [00:45,  1.25s/it]\n"
     ]
    },
    {
     "name": "stdout",
     "output_type": "stream",
     "text": [
      "Avg MAE TTNE prediction validation set: 0.22130899131298065 (standardized) ; 820.1863932291667 (minutes)'\n",
      "Avg 1-(normalized) DL distance acitivty suffix prediction validation set: 0.06747686117887497\n",
      "Percentage of suffixes predicted to END: too early - 0.0 ; right moment - 6.826078349727298e-06 ; too late - 0.9999931739216503\n",
      "Too early instances - avg amount of events too early: nan\n",
      "Too late instances - avg amount of events too late: 67.12333679199219\n",
      "Avg absolute amount of events predicted too early / too late: 67.12287902832031\n",
      "Avg MAE RRT prediction validation set: 0.7318167686462402 (standardized) ; 12288.501041666666 (minutes)'\n",
      " \n",
      "------------------------------------\n",
      "EPOCH 2:\n",
      "____________________________________\n"
     ]
    },
    {
     "name": "stderr",
     "output_type": "stream",
     "text": [
      "Batch calculation at epoch 2.: 600it [1:20:22,  8.04s/it]\n"
     ]
    },
    {
     "name": "stdout",
     "output_type": "stream",
     "text": [
      "=======================================\n",
      "End of epoch 2\n",
      "=======================================\n",
      "Running average global loss: 0.4980921749374829 (over last 4096 batches)\n",
      "Running average activity prediction loss: 0.3492477500694804 (Cross Entropy over last 4096 batches)\n",
      "Running average time till next event prediction loss: 0.03130507027890417 (MAE over last 4096 batches)\n",
      "Running average (complete) remaining runtime prediction loss: 0.11753935420711059 (MAE over last 4096 batches)\n"
     ]
    },
    {
     "name": "stderr",
     "output_type": "stream",
     "text": [
      "Validation batch calculation: 36it [00:45,  1.26s/it]\n"
     ]
    },
    {
     "name": "stdout",
     "output_type": "stream",
     "text": [
      "Avg MAE TTNE prediction validation set: 0.22213023900985718 (standardized) ; 823.2298828125 (minutes)'\n",
      "Avg 1-(normalized) DL distance acitivty suffix prediction validation set: 0.06748361885547638\n",
      "Percentage of suffixes predicted to END: too early - 0.0 ; right moment - 1.3652156699454596e-05 ; too late - 0.9999863478433005\n",
      "Too early instances - avg amount of events too early: nan\n",
      "Too late instances - avg amount of events too late: 67.12319946289062\n",
      "Avg absolute amount of events predicted too early / too late: 67.12228393554688\n",
      "Avg MAE RRT prediction validation set: 0.7320283651351929 (standardized) ; 12292.055208333333 (minutes)'\n",
      " \n",
      "------------------------------------\n",
      "EPOCH 3:\n",
      "____________________________________\n"
     ]
    },
    {
     "name": "stderr",
     "output_type": "stream",
     "text": [
      "Batch calculation at epoch 3.: 600it [1:25:53,  8.59s/it]\n"
     ]
    },
    {
     "name": "stdout",
     "output_type": "stream",
     "text": [
      "=======================================\n",
      "End of epoch 3\n",
      "=======================================\n",
      "Running average global loss: 0.4979746544850059 (over last 4096 batches)\n",
      "Running average activity prediction loss: 0.3491928927251138 (Cross Entropy over last 4096 batches)\n",
      "Running average time till next event prediction loss: 0.031249489766196348 (MAE over last 4096 batches)\n",
      "Running average (complete) remaining runtime prediction loss: 0.11753227144072298 (MAE over last 4096 batches)\n"
     ]
    },
    {
     "name": "stderr",
     "output_type": "stream",
     "text": [
      "Validation batch calculation: 36it [00:45,  1.27s/it]\n"
     ]
    },
    {
     "name": "stdout",
     "output_type": "stream",
     "text": [
      "Avg MAE TTNE prediction validation set: 0.22169511020183563 (standardized) ; 821.6174479166667 (minutes)'\n",
      "Avg 1-(normalized) DL distance acitivty suffix prediction validation set: 0.06748361885547638\n",
      "Percentage of suffixes predicted to END: too early - 0.0 ; right moment - 1.3652156699454596e-05 ; too late - 0.9999863478433005\n",
      "Too early instances - avg amount of events too early: nan\n",
      "Too late instances - avg amount of events too late: 67.12319946289062\n",
      "Avg absolute amount of events predicted too early / too late: 67.12228393554688\n",
      "Avg MAE RRT prediction validation set: 0.7304840087890625 (standardized) ; 12266.120833333332 (minutes)'\n",
      " \n",
      "------------------------------------\n",
      "EPOCH 4:\n",
      "____________________________________\n"
     ]
    },
    {
     "name": "stderr",
     "output_type": "stream",
     "text": [
      "Batch calculation at epoch 4.: 600it [1:26:43,  8.67s/it]\n"
     ]
    },
    {
     "name": "stdout",
     "output_type": "stream",
     "text": [
      "=======================================\n",
      "End of epoch 4\n",
      "=======================================\n",
      "Running average global loss: 0.49785884586162865 (over last 4096 batches)\n",
      "Running average activity prediction loss: 0.3491701898165047 (Cross Entropy over last 4096 batches)\n",
      "Running average time till next event prediction loss: 0.03116517203307012 (MAE over last 4096 batches)\n",
      "Running average (complete) remaining runtime prediction loss: 0.11752348467416596 (MAE over last 4096 batches)\n"
     ]
    },
    {
     "name": "stderr",
     "output_type": "stream",
     "text": [
      "Validation batch calculation: 36it [00:45,  1.26s/it]\n"
     ]
    },
    {
     "name": "stdout",
     "output_type": "stream",
     "text": [
      "Avg MAE TTNE prediction validation set: 0.2209760695695877 (standardized) ; 817.0483723958333 (minutes)'\n",
      "Avg 1-(normalized) DL distance acitivty suffix prediction validation set: 0.06748361885547638\n",
      "Percentage of suffixes predicted to END: too early - 0.0 ; right moment - 1.3652156699454596e-05 ; too late - 0.9999863478433005\n",
      "Too early instances - avg amount of events too early: nan\n",
      "Too late instances - avg amount of events too late: 67.12319946289062\n",
      "Avg absolute amount of events predicted too early / too late: 67.12228393554688\n",
      "Avg MAE RRT prediction validation set: 0.7305529117584229 (standardized) ; 12267.280208333334 (minutes)'\n",
      " \n",
      "------------------------------------\n",
      "EPOCH 5:\n",
      "____________________________________\n"
     ]
    },
    {
     "name": "stderr",
     "output_type": "stream",
     "text": [
      "Batch calculation at epoch 5.: 600it [1:26:43,  8.67s/it]\n"
     ]
    },
    {
     "name": "stdout",
     "output_type": "stream",
     "text": [
      "=======================================\n",
      "End of epoch 5\n",
      "=======================================\n",
      "Running average global loss: 0.49784399365307763 (over last 4096 batches)\n",
      "Running average activity prediction loss: 0.3491666361805983 (Cross Entropy over last 4096 batches)\n",
      "Running average time till next event prediction loss: 0.031149939462920884 (MAE over last 4096 batches)\n",
      "Running average (complete) remaining runtime prediction loss: 0.11752741776581388 (MAE over last 4096 batches)\n"
     ]
    },
    {
     "name": "stderr",
     "output_type": "stream",
     "text": [
      "Validation batch calculation: 36it [00:45,  1.27s/it]\n"
     ]
    },
    {
     "name": "stdout",
     "output_type": "stream",
     "text": [
      "Avg MAE TTNE prediction validation set: 0.22088520228862762 (standardized) ; 817.0483723958333 (minutes)'\n",
      "Avg 1-(normalized) DL distance acitivty suffix prediction validation set: 0.06748361885547638\n",
      "Percentage of suffixes predicted to END: too early - 0.0 ; right moment - 1.3652156699454596e-05 ; too late - 0.9999863478433005\n",
      "Too early instances - avg amount of events too early: nan\n",
      "Too late instances - avg amount of events too late: 67.12319946289062\n",
      "Avg absolute amount of events predicted too early / too late: 67.12228393554688\n",
      "Avg MAE RRT prediction validation set: 0.7328492403030396 (standardized) ; 12305.8375 (minutes)'\n",
      " \n",
      "------------------------------------\n",
      "EPOCH 6:\n",
      "____________________________________\n"
     ]
    },
    {
     "name": "stderr",
     "output_type": "stream",
     "text": [
      "Batch calculation at epoch 6.: 600it [1:26:25,  8.64s/it]\n"
     ]
    },
    {
     "name": "stdout",
     "output_type": "stream",
     "text": [
      "=======================================\n",
      "End of epoch 6\n",
      "=======================================\n",
      "Running average global loss: 0.49783364887116477 (over last 4096 batches)\n",
      "Running average activity prediction loss: 0.34915614733472466 (Cross Entropy over last 4096 batches)\n",
      "Running average time till next event prediction loss: 0.031147606514423387 (MAE over last 4096 batches)\n",
      "Running average (complete) remaining runtime prediction loss: 0.1175298940797802 (MAE over last 4096 batches)\n"
     ]
    },
    {
     "name": "stderr",
     "output_type": "stream",
     "text": [
      "Validation batch calculation: 36it [00:45,  1.27s/it]\n"
     ]
    },
    {
     "name": "stdout",
     "output_type": "stream",
     "text": [
      "Avg MAE TTNE prediction validation set: 0.2207179218530655 (standardized) ; 817.0484375 (minutes)'\n",
      "Avg 1-(normalized) DL distance acitivty suffix prediction validation set: 0.06748361885547638\n",
      "Percentage of suffixes predicted to END: too early - 0.0 ; right moment - 1.3652156699454596e-05 ; too late - 0.9999863478433005\n",
      "Too early instances - avg amount of events too early: nan\n",
      "Too late instances - avg amount of events too late: 67.12319946289062\n",
      "Avg absolute amount of events predicted too early / too late: 67.12228393554688\n",
      "Avg MAE RRT prediction validation set: 0.7314218878746033 (standardized) ; 12281.871875 (minutes)'\n",
      " \n",
      "------------------------------------\n",
      "EPOCH 7:\n",
      "____________________________________\n"
     ]
    },
    {
     "name": "stderr",
     "output_type": "stream",
     "text": [
      "Batch calculation at epoch 7.: 600it [44:36,  4.46s/it]\n"
     ]
    },
    {
     "name": "stdout",
     "output_type": "stream",
     "text": [
      "=======================================\n",
      "End of epoch 7\n",
      "=======================================\n",
      "Running average global loss: 0.49782260350184515 (over last 4096 batches)\n",
      "Running average activity prediction loss: 0.3491515786736272 (Cross Entropy over last 4096 batches)\n",
      "Running average time till next event prediction loss: 0.03114228043705225 (MAE over last 4096 batches)\n",
      "Running average (complete) remaining runtime prediction loss: 0.11752874529338442 (MAE over last 4096 batches)\n"
     ]
    },
    {
     "name": "stderr",
     "output_type": "stream",
     "text": [
      "Validation batch calculation: 36it [00:15,  2.32it/s]\n"
     ]
    },
    {
     "name": "stdout",
     "output_type": "stream",
     "text": [
      "Avg MAE TTNE prediction validation set: 0.22065620124340057 (standardized) ; 817.0483723958333 (minutes)'\n",
      "Avg 1-(normalized) DL distance acitivty suffix prediction validation set: 0.06748361885547638\n",
      "Percentage of suffixes predicted to END: too early - 0.0 ; right moment - 1.3652156699454596e-05 ; too late - 0.9999863478433005\n",
      "Too early instances - avg amount of events too early: nan\n",
      "Too late instances - avg amount of events too late: 67.12319946289062\n",
      "Avg absolute amount of events predicted too early / too late: 67.12228393554688\n",
      "Avg MAE RRT prediction validation set: 0.7308670282363892 (standardized) ; 12272.553125 (minutes)'\n",
      " \n",
      "------------------------------------\n",
      "EPOCH 8:\n",
      "____________________________________\n"
     ]
    },
    {
     "name": "stderr",
     "output_type": "stream",
     "text": [
      "Batch calculation at epoch 8.: 600it [41:06,  4.11s/it]\n"
     ]
    },
    {
     "name": "stdout",
     "output_type": "stream",
     "text": [
      "=======================================\n",
      "End of epoch 8\n",
      "=======================================\n",
      "Running average global loss: 0.49782217893516645 (over last 4096 batches)\n",
      "Running average activity prediction loss: 0.3491510975291021 (Cross Entropy over last 4096 batches)\n",
      "Running average time till next event prediction loss: 0.031142355961492285 (MAE over last 4096 batches)\n",
      "Running average (complete) remaining runtime prediction loss: 0.11752872505167034 (MAE over last 4096 batches)\n"
     ]
    },
    {
     "name": "stderr",
     "output_type": "stream",
     "text": [
      "Validation batch calculation: 36it [00:13,  2.66it/s]\n"
     ]
    },
    {
     "name": "stdout",
     "output_type": "stream",
     "text": [
      "Avg MAE TTNE prediction validation set: 0.22063909471035004 (standardized) ; 817.0483723958333 (minutes)'\n",
      "Avg 1-(normalized) DL distance acitivty suffix prediction validation set: 0.06748361885547638\n",
      "Percentage of suffixes predicted to END: too early - 0.0 ; right moment - 1.3652156699454596e-05 ; too late - 0.9999863478433005\n",
      "Too early instances - avg amount of events too early: nan\n",
      "Too late instances - avg amount of events too late: 67.12319946289062\n",
      "Avg absolute amount of events predicted too early / too late: 67.12228393554688\n",
      "Avg MAE RRT prediction validation set: 0.7316843271255493 (standardized) ; 12286.278125 (minutes)'\n",
      " \n",
      "------------------------------------\n",
      "EPOCH 9:\n",
      "____________________________________\n"
     ]
    },
    {
     "name": "stderr",
     "output_type": "stream",
     "text": [
      "Batch calculation at epoch 9.: 600it [40:50,  4.08s/it]\n"
     ]
    },
    {
     "name": "stdout",
     "output_type": "stream",
     "text": [
      "=======================================\n",
      "End of epoch 9\n",
      "=======================================\n",
      "Running average global loss: 0.49781262781471014 (over last 4096 batches)\n",
      "Running average activity prediction loss: 0.3491468436550349 (Cross Entropy over last 4096 batches)\n",
      "Running average time till next event prediction loss: 0.031139172922848957 (MAE over last 4096 batches)\n",
      "Running average (complete) remaining runtime prediction loss: 0.11752661153150257 (MAE over last 4096 batches)\n"
     ]
    },
    {
     "name": "stderr",
     "output_type": "stream",
     "text": [
      "Validation batch calculation: 36it [00:16,  2.19it/s]\n"
     ]
    },
    {
     "name": "stdout",
     "output_type": "stream",
     "text": [
      "Avg MAE TTNE prediction validation set: 0.22060155868530273 (standardized) ; 817.0483723958333 (minutes)'\n",
      "Avg 1-(normalized) DL distance acitivty suffix prediction validation set: 0.06748361885547638\n",
      "Percentage of suffixes predicted to END: too early - 0.0 ; right moment - 1.3652156699454596e-05 ; too late - 0.9999863478433005\n",
      "Too early instances - avg amount of events too early: nan\n",
      "Too late instances - avg amount of events too late: 67.12319946289062\n",
      "Avg absolute amount of events predicted too early / too late: 67.12228393554688\n",
      "Avg MAE RRT prediction validation set: 0.7329427003860474 (standardized) ; 12307.408333333333 (minutes)'\n",
      " \n",
      "------------------------------------\n",
      "EPOCH 10:\n",
      "____________________________________\n"
     ]
    },
    {
     "name": "stderr",
     "output_type": "stream",
     "text": [
      "Batch calculation at epoch 10.: 600it [41:04,  4.11s/it]\n"
     ]
    },
    {
     "name": "stdout",
     "output_type": "stream",
     "text": [
      "=======================================\n",
      "End of epoch 10\n",
      "=======================================\n",
      "Running average global loss: 0.4978154525742866 (over last 4096 batches)\n",
      "Running average activity prediction loss: 0.34915028169052675 (Cross Entropy over last 4096 batches)\n",
      "Running average time till next event prediction loss: 0.031137514721194748 (MAE over last 4096 batches)\n",
      "Running average (complete) remaining runtime prediction loss: 0.11752765574783552 (MAE over last 4096 batches)\n"
     ]
    },
    {
     "name": "stderr",
     "output_type": "stream",
     "text": [
      "Validation batch calculation: 36it [00:16,  2.21it/s]\n"
     ]
    },
    {
     "name": "stdout",
     "output_type": "stream",
     "text": [
      "Avg MAE TTNE prediction validation set: 0.22063425183296204 (standardized) ; 817.6856119791667 (minutes)'\n",
      "Avg 1-(normalized) DL distance acitivty suffix prediction validation set: 0.06748361885547638\n",
      "Percentage of suffixes predicted to END: too early - 0.0 ; right moment - 1.3652156699454596e-05 ; too late - 0.9999863478433005\n",
      "Too early instances - avg amount of events too early: nan\n",
      "Too late instances - avg amount of events too late: 67.12319946289062\n",
      "Avg absolute amount of events predicted too early / too late: 67.12228393554688\n",
      "Avg MAE RRT prediction validation set: 0.7318440675735474 (standardized) ; 12288.960416666667 (minutes)'\n",
      " \n",
      "------------------------------------\n",
      "EPOCH 11:\n",
      "____________________________________\n"
     ]
    },
    {
     "name": "stderr",
     "output_type": "stream",
     "text": [
      "Batch calculation at epoch 11.: 600it [40:36,  4.06s/it]\n"
     ]
    },
    {
     "name": "stdout",
     "output_type": "stream",
     "text": [
      "=======================================\n",
      "End of epoch 11\n",
      "=======================================\n",
      "Running average global loss: 0.49781381350476295 (over last 4096 batches)\n",
      "Running average activity prediction loss: 0.34914520021993667 (Cross Entropy over last 4096 batches)\n",
      "Running average time till next event prediction loss: 0.03114188562540221 (MAE over last 4096 batches)\n",
      "Running average (complete) remaining runtime prediction loss: 0.11752672724833246 (MAE over last 4096 batches)\n"
     ]
    },
    {
     "name": "stderr",
     "output_type": "stream",
     "text": [
      "Validation batch calculation: 36it [00:15,  2.27it/s]\n"
     ]
    },
    {
     "name": "stdout",
     "output_type": "stream",
     "text": [
      "Avg MAE TTNE prediction validation set: 0.2205965518951416 (standardized) ; 817.54609375 (minutes)'\n",
      "Avg 1-(normalized) DL distance acitivty suffix prediction validation set: 0.06748361885547638\n",
      "Percentage of suffixes predicted to END: too early - 0.0 ; right moment - 1.3652156699454596e-05 ; too late - 0.9999863478433005\n",
      "Too early instances - avg amount of events too early: nan\n",
      "Too late instances - avg amount of events too late: 67.12319946289062\n",
      "Avg absolute amount of events predicted too early / too late: 67.12228393554688\n",
      "Avg MAE RRT prediction validation set: 0.7314708828926086 (standardized) ; 12282.69375 (minutes)'\n",
      " \n",
      "------------------------------------\n",
      "EPOCH 12:\n",
      "____________________________________\n"
     ]
    },
    {
     "name": "stderr",
     "output_type": "stream",
     "text": [
      "Batch calculation at epoch 12.: 600it [40:49,  4.08s/it]\n"
     ]
    },
    {
     "name": "stdout",
     "output_type": "stream",
     "text": [
      "=======================================\n",
      "End of epoch 12\n",
      "=======================================\n",
      "Running average global loss: 0.49781480187084526 (over last 4096 batches)\n",
      "Running average activity prediction loss: 0.3491474596085027 (Cross Entropy over last 4096 batches)\n",
      "Running average time till next event prediction loss: 0.031141575760557316 (MAE over last 4096 batches)\n",
      "Running average (complete) remaining runtime prediction loss: 0.11752576698199846 (MAE over last 4096 batches)\n"
     ]
    },
    {
     "name": "stderr",
     "output_type": "stream",
     "text": [
      "Validation batch calculation: 36it [00:16,  2.19it/s]\n"
     ]
    },
    {
     "name": "stdout",
     "output_type": "stream",
     "text": [
      "Avg MAE TTNE prediction validation set: 0.22058703005313873 (standardized) ; 817.5107421875 (minutes)'\n",
      "Avg 1-(normalized) DL distance acitivty suffix prediction validation set: 0.06748361885547638\n",
      "Percentage of suffixes predicted to END: too early - 0.0 ; right moment - 1.3652156699454596e-05 ; too late - 0.9999863478433005\n",
      "Too early instances - avg amount of events too early: nan\n",
      "Too late instances - avg amount of events too late: 67.12319946289062\n",
      "Avg absolute amount of events predicted too early / too late: 67.12228393554688\n",
      "Avg MAE RRT prediction validation set: 0.7308886647224426 (standardized) ; 12272.91875 (minutes)'\n",
      " \n",
      "------------------------------------\n",
      "EPOCH 13:\n",
      "____________________________________\n"
     ]
    },
    {
     "name": "stderr",
     "output_type": "stream",
     "text": [
      "Batch calculation at epoch 13.: 600it [40:40,  4.07s/it]\n"
     ]
    },
    {
     "name": "stdout",
     "output_type": "stream",
     "text": [
      "=======================================\n",
      "End of epoch 13\n",
      "=======================================\n",
      "Running average global loss: 0.497812868503388 (over last 4096 batches)\n",
      "Running average activity prediction loss: 0.34914311894681305 (Cross Entropy over last 4096 batches)\n",
      "Running average time till next event prediction loss: 0.031140932591370074 (MAE over last 4096 batches)\n",
      "Running average (complete) remaining runtime prediction loss: 0.11752881637949031 (MAE over last 4096 batches)\n"
     ]
    },
    {
     "name": "stderr",
     "output_type": "stream",
     "text": [
      "Validation batch calculation: 36it [00:15,  2.33it/s]\n"
     ]
    },
    {
     "name": "stdout",
     "output_type": "stream",
     "text": [
      "Avg MAE TTNE prediction validation set: 0.22056375443935394 (standardized) ; 817.4245442708333 (minutes)'\n",
      "Avg 1-(normalized) DL distance acitivty suffix prediction validation set: 0.06748361885547638\n",
      "Percentage of suffixes predicted to END: too early - 0.0 ; right moment - 1.3652156699454596e-05 ; too late - 0.9999863478433005\n",
      "Too early instances - avg amount of events too early: nan\n",
      "Too late instances - avg amount of events too late: 67.12319946289062\n",
      "Avg absolute amount of events predicted too early / too late: 67.12228393554688\n",
      "Avg MAE RRT prediction validation set: 0.730955183506012 (standardized) ; 12274.034375 (minutes)'\n",
      " \n",
      "------------------------------------\n",
      "EPOCH 14:\n",
      "____________________________________\n"
     ]
    },
    {
     "name": "stderr",
     "output_type": "stream",
     "text": [
      "Batch calculation at epoch 14.: 600it [40:47,  4.08s/it]\n"
     ]
    },
    {
     "name": "stdout",
     "output_type": "stream",
     "text": [
      "=======================================\n",
      "End of epoch 14\n",
      "=======================================\n",
      "Running average global loss: 0.49780905223451555 (over last 4096 batches)\n",
      "Running average activity prediction loss: 0.3491421135258861 (Cross Entropy over last 4096 batches)\n",
      "Running average time till next event prediction loss: 0.031139444436121266 (MAE over last 4096 batches)\n",
      "Running average (complete) remaining runtime prediction loss: 0.1175274946144782 (MAE over last 4096 batches)\n"
     ]
    },
    {
     "name": "stderr",
     "output_type": "stream",
     "text": [
      "Validation batch calculation: 36it [00:15,  2.34it/s]\n"
     ]
    },
    {
     "name": "stdout",
     "output_type": "stream",
     "text": [
      "Avg MAE TTNE prediction validation set: 0.2205754816532135 (standardized) ; 817.4680989583334 (minutes)'\n",
      "Avg 1-(normalized) DL distance acitivty suffix prediction validation set: 0.06748361885547638\n",
      "Percentage of suffixes predicted to END: too early - 0.0 ; right moment - 1.3652156699454596e-05 ; too late - 0.9999863478433005\n",
      "Too early instances - avg amount of events too early: nan\n",
      "Too late instances - avg amount of events too late: 67.12319946289062\n",
      "Avg absolute amount of events predicted too early / too late: 67.12228393554688\n",
      "Avg MAE RRT prediction validation set: 0.7313932776451111 (standardized) ; 12281.390625 (minutes)'\n",
      " \n",
      "------------------------------------\n",
      "EPOCH 15:\n",
      "____________________________________\n"
     ]
    },
    {
     "name": "stderr",
     "output_type": "stream",
     "text": [
      "Batch calculation at epoch 15.: 600it [40:45,  4.08s/it]\n"
     ]
    },
    {
     "name": "stdout",
     "output_type": "stream",
     "text": [
      "=======================================\n",
      "End of epoch 15\n",
      "=======================================\n",
      "Running average global loss: 0.49781363271176815 (over last 4096 batches)\n",
      "Running average activity prediction loss: 0.3491452834568918 (Cross Entropy over last 4096 batches)\n",
      "Running average time till next event prediction loss: 0.031140133261942538 (MAE over last 4096 batches)\n",
      "Running average (complete) remaining runtime prediction loss: 0.11752821475965902 (MAE over last 4096 batches)\n"
     ]
    },
    {
     "name": "stderr",
     "output_type": "stream",
     "text": [
      "Validation batch calculation: 36it [00:15,  2.30it/s]\n"
     ]
    },
    {
     "name": "stdout",
     "output_type": "stream",
     "text": [
      "Avg MAE TTNE prediction validation set: 0.22057408094406128 (standardized) ; 817.4627604166667 (minutes)'\n",
      "Avg 1-(normalized) DL distance acitivty suffix prediction validation set: 0.06748361885547638\n",
      "Percentage of suffixes predicted to END: too early - 0.0 ; right moment - 1.3652156699454596e-05 ; too late - 0.9999863478433005\n",
      "Too early instances - avg amount of events too early: nan\n",
      "Too late instances - avg amount of events too late: 67.12319946289062\n",
      "Avg absolute amount of events predicted too early / too late: 67.12228393554688\n",
      "Avg MAE RRT prediction validation set: 0.7318258285522461 (standardized) ; 12288.653125 (minutes)'\n",
      " \n",
      "------------------------------------\n",
      "EPOCH 16:\n",
      "____________________________________\n"
     ]
    },
    {
     "name": "stderr",
     "output_type": "stream",
     "text": [
      "Batch calculation at epoch 16.: 600it [40:23,  4.04s/it]\n"
     ]
    },
    {
     "name": "stdout",
     "output_type": "stream",
     "text": [
      "=======================================\n",
      "End of epoch 16\n",
      "=======================================\n",
      "Running average global loss: 0.4978058181004599 (over last 4096 batches)\n",
      "Running average activity prediction loss: 0.349139861704316 (Cross Entropy over last 4096 batches)\n",
      "Running average time till next event prediction loss: 0.031137921978370287 (MAE over last 4096 batches)\n",
      "Running average (complete) remaining runtime prediction loss: 0.11752803526178468 (MAE over last 4096 batches)\n"
     ]
    },
    {
     "name": "stderr",
     "output_type": "stream",
     "text": [
      "Validation batch calculation: 36it [00:16,  2.16it/s]\n"
     ]
    },
    {
     "name": "stdout",
     "output_type": "stream",
     "text": [
      "Avg MAE TTNE prediction validation set: 0.22049729526042938 (standardized) ; 817.1782552083333 (minutes)'\n",
      "Avg 1-(normalized) DL distance acitivty suffix prediction validation set: 0.06748361885547638\n",
      "Percentage of suffixes predicted to END: too early - 0.0 ; right moment - 1.3652156699454596e-05 ; too late - 0.9999863478433005\n",
      "Too early instances - avg amount of events too early: nan\n",
      "Too late instances - avg amount of events too late: 67.12319946289062\n",
      "Avg absolute amount of events predicted too early / too late: 67.12228393554688\n",
      "Avg MAE RRT prediction validation set: 0.7319270372390747 (standardized) ; 12290.353125 (minutes)'\n",
      " \n",
      "------------------------------------\n",
      "EPOCH 17:\n",
      "____________________________________\n"
     ]
    },
    {
     "name": "stderr",
     "output_type": "stream",
     "text": [
      "Batch calculation at epoch 17.: 600it [40:32,  4.05s/it]\n"
     ]
    },
    {
     "name": "stdout",
     "output_type": "stream",
     "text": [
      "=======================================\n",
      "End of epoch 17\n",
      "=======================================\n",
      "Running average global loss: 0.4978000247501768 (over last 4096 batches)\n",
      "Running average activity prediction loss: 0.34914036822738126 (Cross Entropy over last 4096 batches)\n",
      "Running average time till next event prediction loss: 0.03113620464137057 (MAE over last 4096 batches)\n",
      "Running average (complete) remaining runtime prediction loss: 0.11752345124841668 (MAE over last 4096 batches)\n"
     ]
    },
    {
     "name": "stderr",
     "output_type": "stream",
     "text": [
      "Validation batch calculation: 36it [00:16,  2.15it/s]\n"
     ]
    },
    {
     "name": "stdout",
     "output_type": "stream",
     "text": [
      "Avg MAE TTNE prediction validation set: 0.2204749882221222 (standardized) ; 817.0955729166667 (minutes)'\n",
      "Avg 1-(normalized) DL distance acitivty suffix prediction validation set: 0.06748361885547638\n",
      "Percentage of suffixes predicted to END: too early - 0.0 ; right moment - 1.3652156699454596e-05 ; too late - 0.9999863478433005\n",
      "Too early instances - avg amount of events too early: nan\n",
      "Too late instances - avg amount of events too late: 67.12319946289062\n",
      "Avg absolute amount of events predicted too early / too late: 67.12228393554688\n",
      "Avg MAE RRT prediction validation set: 0.7312711477279663 (standardized) ; 12279.340625 (minutes)'\n",
      " \n",
      "------------------------------------\n",
      "EPOCH 18:\n",
      "____________________________________\n"
     ]
    },
    {
     "name": "stderr",
     "output_type": "stream",
     "text": [
      "Batch calculation at epoch 18.: 600it [40:28,  4.05s/it]\n"
     ]
    },
    {
     "name": "stdout",
     "output_type": "stream",
     "text": [
      "=======================================\n",
      "End of epoch 18\n",
      "=======================================\n",
      "Running average global loss: 0.49782499397406355 (over last 4096 batches)\n",
      "Running average activity prediction loss: 0.3491453602327965 (Cross Entropy over last 4096 batches)\n",
      "Running average time till next event prediction loss: 0.03115015624280204 (MAE over last 4096 batches)\n",
      "Running average (complete) remaining runtime prediction loss: 0.11752947758941445 (MAE over last 4096 batches)\n"
     ]
    },
    {
     "name": "stderr",
     "output_type": "stream",
     "text": [
      "Validation batch calculation: 36it [00:15,  2.25it/s]\n"
     ]
    },
    {
     "name": "stdout",
     "output_type": "stream",
     "text": [
      "Avg MAE TTNE prediction validation set: 0.22057513892650604 (standardized) ; 817.4666666666667 (minutes)'\n",
      "Avg 1-(normalized) DL distance acitivty suffix prediction validation set: 0.06748361885547638\n",
      "Percentage of suffixes predicted to END: too early - 0.0 ; right moment - 1.3652156699454596e-05 ; too late - 0.9999863478433005\n",
      "Too early instances - avg amount of events too early: nan\n",
      "Too late instances - avg amount of events too late: 67.12319946289062\n",
      "Avg absolute amount of events predicted too early / too late: 67.12228393554688\n",
      "Avg MAE RRT prediction validation set: 0.7315858602523804 (standardized) ; 12284.623958333334 (minutes)'\n",
      " \n",
      "------------------------------------\n",
      "EPOCH 19:\n",
      "____________________________________\n"
     ]
    },
    {
     "name": "stderr",
     "output_type": "stream",
     "text": [
      "Batch calculation at epoch 19.: 600it [40:42,  4.07s/it]\n"
     ]
    },
    {
     "name": "stdout",
     "output_type": "stream",
     "text": [
      "=======================================\n",
      "End of epoch 19\n",
      "=======================================\n",
      "Running average global loss: 0.49782508285716176 (over last 4096 batches)\n",
      "Running average activity prediction loss: 0.3491398764308542 (Cross Entropy over last 4096 batches)\n",
      "Running average time till next event prediction loss: 0.03115716286265524 (MAE over last 4096 batches)\n",
      "Running average (complete) remaining runtime prediction loss: 0.11752804425486829 (MAE over last 4096 batches)\n"
     ]
    },
    {
     "name": "stderr",
     "output_type": "stream",
     "text": [
      "Validation batch calculation: 36it [00:16,  2.23it/s]\n"
     ]
    },
    {
     "name": "stdout",
     "output_type": "stream",
     "text": [
      "Avg MAE TTNE prediction validation set: 0.22094804048538208 (standardized) ; 818.8486979166667 (minutes)'\n",
      "Avg 1-(normalized) DL distance acitivty suffix prediction validation set: 0.06748361885547638\n",
      "Percentage of suffixes predicted to END: too early - 0.0 ; right moment - 1.3652156699454596e-05 ; too late - 0.9999863478433005\n",
      "Too early instances - avg amount of events too early: nan\n",
      "Too late instances - avg amount of events too late: 67.12319946289062\n",
      "Avg absolute amount of events predicted too early / too late: 67.12228393554688\n",
      "Avg MAE RRT prediction validation set: 0.7318134903907776 (standardized) ; 12288.446875 (minutes)'\n",
      " \n",
      "------------------------------------\n",
      "EPOCH 20:\n",
      "____________________________________\n"
     ]
    },
    {
     "name": "stderr",
     "output_type": "stream",
     "text": [
      "Batch calculation at epoch 20.: 600it [40:49,  4.08s/it]\n"
     ]
    },
    {
     "name": "stdout",
     "output_type": "stream",
     "text": [
      "=======================================\n",
      "End of epoch 20\n",
      "=======================================\n",
      "Running average global loss: 0.49780323525192216 (over last 4096 batches)\n",
      "Running average activity prediction loss: 0.3491415386670269 (Cross Entropy over last 4096 batches)\n",
      "Running average time till next event prediction loss: 0.031136055858951295 (MAE over last 4096 batches)\n",
      "Running average (complete) remaining runtime prediction loss: 0.11752564192283899 (MAE over last 4096 batches)\n"
     ]
    },
    {
     "name": "stderr",
     "output_type": "stream",
     "text": [
      "Validation batch calculation: 36it [00:15,  2.30it/s]\n"
     ]
    },
    {
     "name": "stdout",
     "output_type": "stream",
     "text": [
      "Avg MAE TTNE prediction validation set: 0.22055083513259888 (standardized) ; 817.3766927083333 (minutes)'\n",
      "Avg 1-(normalized) DL distance acitivty suffix prediction validation set: 0.06748361885547638\n",
      "Percentage of suffixes predicted to END: too early - 0.0 ; right moment - 1.3652156699454596e-05 ; too late - 0.9999863478433005\n",
      "Too early instances - avg amount of events too early: nan\n",
      "Too late instances - avg amount of events too late: 67.12319946289062\n",
      "Avg absolute amount of events predicted too early / too late: 67.12228393554688\n",
      "Avg MAE RRT prediction validation set: 0.7311848998069763 (standardized) ; 12277.892708333333 (minutes)'\n",
      " \n",
      "------------------------------------\n",
      "EPOCH 21:\n",
      "____________________________________\n"
     ]
    },
    {
     "name": "stderr",
     "output_type": "stream",
     "text": [
      "Batch calculation at epoch 21.: 600it [40:50,  4.08s/it]\n"
     ]
    },
    {
     "name": "stdout",
     "output_type": "stream",
     "text": [
      "=======================================\n",
      "End of epoch 21\n",
      "=======================================\n",
      "Running average global loss: 0.4977984116994776 (over last 4096 batches)\n",
      "Running average activity prediction loss: 0.3491376277524978 (Cross Entropy over last 4096 batches)\n",
      "Running average time till next event prediction loss: 0.0311325695765845 (MAE over last 4096 batches)\n",
      "Running average (complete) remaining runtime prediction loss: 0.11752821468689945 (MAE over last 4096 batches)\n"
     ]
    },
    {
     "name": "stderr",
     "output_type": "stream",
     "text": [
      "Validation batch calculation: 36it [00:13,  2.63it/s]\n"
     ]
    },
    {
     "name": "stdout",
     "output_type": "stream",
     "text": [
      "Avg MAE TTNE prediction validation set: 0.2205563336610794 (standardized) ; 817.3970052083333 (minutes)'\n",
      "Avg 1-(normalized) DL distance acitivty suffix prediction validation set: 0.06748361885547638\n",
      "Percentage of suffixes predicted to END: too early - 0.0 ; right moment - 1.3652156699454596e-05 ; too late - 0.9999863478433005\n",
      "Too early instances - avg amount of events too early: nan\n",
      "Too late instances - avg amount of events too late: 67.12319946289062\n",
      "Avg absolute amount of events predicted too early / too late: 67.12228393554688\n",
      "Avg MAE RRT prediction validation set: 0.7318835854530334 (standardized) ; 12289.623958333334 (minutes)'\n",
      " \n",
      "------------------------------------\n",
      "EPOCH 22:\n",
      "____________________________________\n"
     ]
    },
    {
     "name": "stderr",
     "output_type": "stream",
     "text": [
      "Batch calculation at epoch 22.: 600it [40:43,  4.07s/it]\n"
     ]
    },
    {
     "name": "stdout",
     "output_type": "stream",
     "text": [
      "=======================================\n",
      "End of epoch 22\n",
      "=======================================\n",
      "Running average global loss: 0.4977951574837789 (over last 4096 batches)\n",
      "Running average activity prediction loss: 0.34913402050733566 (Cross Entropy over last 4096 batches)\n",
      "Running average time till next event prediction loss: 0.031132707175856922 (MAE over last 4096 batches)\n",
      "Running average (complete) remaining runtime prediction loss: 0.11752843049180228 (MAE over last 4096 batches)\n"
     ]
    },
    {
     "name": "stderr",
     "output_type": "stream",
     "text": [
      "Validation batch calculation: 36it [00:16,  2.25it/s]\n"
     ]
    },
    {
     "name": "stdout",
     "output_type": "stream",
     "text": [
      "Avg MAE TTNE prediction validation set: 0.22055451571941376 (standardized) ; 817.390234375 (minutes)'\n",
      "Avg 1-(normalized) DL distance acitivty suffix prediction validation set: 0.06748361885547638\n",
      "Percentage of suffixes predicted to END: too early - 0.0 ; right moment - 1.3652156699454596e-05 ; too late - 0.9999863478433005\n",
      "Too early instances - avg amount of events too early: nan\n",
      "Too late instances - avg amount of events too late: 67.12319946289062\n",
      "Avg absolute amount of events predicted too early / too late: 67.12228393554688\n",
      "Avg MAE RRT prediction validation set: 0.7313809394836426 (standardized) ; 12281.182291666666 (minutes)'\n",
      " \n",
      "------------------------------------\n",
      "EPOCH 23:\n",
      "____________________________________\n"
     ]
    },
    {
     "name": "stderr",
     "output_type": "stream",
     "text": [
      "Batch calculation at epoch 23.: 600it [40:28,  4.05s/it]\n"
     ]
    },
    {
     "name": "stdout",
     "output_type": "stream",
     "text": [
      "=======================================\n",
      "End of epoch 23\n",
      "=======================================\n",
      "Running average global loss: 0.49778765317751095 (over last 4096 batches)\n",
      "Running average activity prediction loss: 0.3491327790543437 (Cross Entropy over last 4096 batches)\n",
      "Running average time till next event prediction loss: 0.031132203901506728 (MAE over last 4096 batches)\n",
      "Running average (complete) remaining runtime prediction loss: 0.1175226704654051 (MAE over last 4096 batches)\n"
     ]
    },
    {
     "name": "stderr",
     "output_type": "stream",
     "text": [
      "Validation batch calculation: 36it [00:15,  2.34it/s]\n"
     ]
    },
    {
     "name": "stdout",
     "output_type": "stream",
     "text": [
      "Avg MAE TTNE prediction validation set: 0.22055093944072723 (standardized) ; 817.3770182291667 (minutes)'\n",
      "Avg 1-(normalized) DL distance acitivty suffix prediction validation set: 0.06748361885547638\n",
      "Percentage of suffixes predicted to END: too early - 0.0 ; right moment - 1.3652156699454596e-05 ; too late - 0.9999863478433005\n",
      "Too early instances - avg amount of events too early: nan\n",
      "Too late instances - avg amount of events too late: 67.12319946289062\n",
      "Avg absolute amount of events predicted too early / too late: 67.12228393554688\n",
      "Avg MAE RRT prediction validation set: 0.7318458557128906 (standardized) ; 12288.988541666668 (minutes)'\n",
      " \n",
      "------------------------------------\n",
      "EPOCH 24:\n",
      "____________________________________\n"
     ]
    },
    {
     "name": "stderr",
     "output_type": "stream",
     "text": [
      "Batch calculation at epoch 24.: 600it [40:48,  4.08s/it]\n"
     ]
    },
    {
     "name": "stdout",
     "output_type": "stream",
     "text": [
      "=======================================\n",
      "End of epoch 24\n",
      "=======================================\n",
      "Running average global loss: 0.49779509607469663 (over last 4096 batches)\n",
      "Running average activity prediction loss: 0.34913712384877726 (Cross Entropy over last 4096 batches)\n",
      "Running average time till next event prediction loss: 0.031131883755733725 (MAE over last 4096 batches)\n",
      "Running average (complete) remaining runtime prediction loss: 0.11752608879760373 (MAE over last 4096 batches)\n"
     ]
    },
    {
     "name": "stderr",
     "output_type": "stream",
     "text": [
      "Validation batch calculation: 36it [00:15,  2.28it/s]\n"
     ]
    },
    {
     "name": "stdout",
     "output_type": "stream",
     "text": [
      "Avg MAE TTNE prediction validation set: 0.22055023908615112 (standardized) ; 817.3745442708333 (minutes)'\n",
      "Avg 1-(normalized) DL distance acitivty suffix prediction validation set: 0.06748361885547638\n",
      "Percentage of suffixes predicted to END: too early - 0.0 ; right moment - 1.3652156699454596e-05 ; too late - 0.9999863478433005\n",
      "Too early instances - avg amount of events too early: nan\n",
      "Too late instances - avg amount of events too late: 67.12319946289062\n",
      "Avg absolute amount of events predicted too early / too late: 67.12228393554688\n",
      "Avg MAE RRT prediction validation set: 0.7310681939125061 (standardized) ; 12275.93125 (minutes)'\n",
      " \n",
      "------------------------------------\n",
      "EPOCH 25:\n",
      "____________________________________\n"
     ]
    },
    {
     "name": "stderr",
     "output_type": "stream",
     "text": [
      "Batch calculation at epoch 25.: 600it [40:41,  4.07s/it]\n"
     ]
    },
    {
     "name": "stdout",
     "output_type": "stream",
     "text": [
      "=======================================\n",
      "End of epoch 25\n",
      "=======================================\n",
      "Running average global loss: 0.4977975355577655 (over last 4096 batches)\n",
      "Running average activity prediction loss: 0.3491391584975645 (Cross Entropy over last 4096 batches)\n",
      "Running average time till next event prediction loss: 0.031130533916439163 (MAE over last 4096 batches)\n",
      "Running average (complete) remaining runtime prediction loss: 0.11752784362761304 (MAE over last 4096 batches)\n"
     ]
    },
    {
     "name": "stderr",
     "output_type": "stream",
     "text": [
      "Validation batch calculation: 36it [00:15,  2.29it/s]\n"
     ]
    },
    {
     "name": "stdout",
     "output_type": "stream",
     "text": [
      "Avg MAE TTNE prediction validation set: 0.22056223452091217 (standardized) ; 817.4188802083333 (minutes)'\n",
      "Avg 1-(normalized) DL distance acitivty suffix prediction validation set: 0.06748361885547638\n",
      "Percentage of suffixes predicted to END: too early - 0.0 ; right moment - 1.3652156699454596e-05 ; too late - 0.9999863478433005\n",
      "Too early instances - avg amount of events too early: nan\n",
      "Too late instances - avg amount of events too late: 67.12319946289062\n",
      "Avg absolute amount of events predicted too early / too late: 67.12228393554688\n",
      "Avg MAE RRT prediction validation set: 0.7315497398376465 (standardized) ; 12284.01875 (minutes)'\n",
      " \n",
      "------------------------------------\n",
      "EPOCH 26:\n",
      "____________________________________\n"
     ]
    },
    {
     "name": "stderr",
     "output_type": "stream",
     "text": [
      "Batch calculation at epoch 26.: 600it [40:42,  4.07s/it]\n"
     ]
    },
    {
     "name": "stdout",
     "output_type": "stream",
     "text": [
      "=======================================\n",
      "End of epoch 26\n",
      "=======================================\n",
      "Running average global loss: 0.4977889726869762 (over last 4096 batches)\n",
      "Running average activity prediction loss: 0.3491354189463891 (Cross Entropy over last 4096 batches)\n",
      "Running average time till next event prediction loss: 0.031130445622693514 (MAE over last 4096 batches)\n",
      "Running average (complete) remaining runtime prediction loss: 0.11752310839074198 (MAE over last 4096 batches)\n"
     ]
    },
    {
     "name": "stderr",
     "output_type": "stream",
     "text": [
      "Validation batch calculation: 36it [00:15,  2.33it/s]\n"
     ]
    },
    {
     "name": "stdout",
     "output_type": "stream",
     "text": [
      "Avg MAE TTNE prediction validation set: 0.2205442190170288 (standardized) ; 817.3520182291667 (minutes)'\n",
      "Avg 1-(normalized) DL distance acitivty suffix prediction validation set: 0.06748361885547638\n",
      "Percentage of suffixes predicted to END: too early - 0.0 ; right moment - 1.3652156699454596e-05 ; too late - 0.9999863478433005\n",
      "Too early instances - avg amount of events too early: nan\n",
      "Too late instances - avg amount of events too late: 67.12319946289062\n",
      "Avg absolute amount of events predicted too early / too late: 67.12228393554688\n",
      "Avg MAE RRT prediction validation set: 0.7318968176841736 (standardized) ; 12289.845833333333 (minutes)'\n",
      " \n",
      "------------------------------------\n",
      "EPOCH 27:\n",
      "____________________________________\n"
     ]
    },
    {
     "name": "stderr",
     "output_type": "stream",
     "text": [
      "Batch calculation at epoch 27.: 600it [40:55,  4.09s/it]\n"
     ]
    },
    {
     "name": "stdout",
     "output_type": "stream",
     "text": [
      "=======================================\n",
      "End of epoch 27\n",
      "=======================================\n",
      "Running average global loss: 0.4977974162902683 (over last 4096 batches)\n",
      "Running average activity prediction loss: 0.34913843171671033 (Cross Entropy over last 4096 batches)\n",
      "Running average time till next event prediction loss: 0.03113103648138349 (MAE over last 4096 batches)\n",
      "Running average (complete) remaining runtime prediction loss: 0.11752794735366479 (MAE over last 4096 batches)\n"
     ]
    },
    {
     "name": "stderr",
     "output_type": "stream",
     "text": [
      "Validation batch calculation: 36it [00:17,  2.08it/s]\n"
     ]
    },
    {
     "name": "stdout",
     "output_type": "stream",
     "text": [
      "Avg MAE TTNE prediction validation set: 0.22054071724414825 (standardized) ; 817.3391927083334 (minutes)'\n",
      "Avg 1-(normalized) DL distance acitivty suffix prediction validation set: 0.06748361885547638\n",
      "Percentage of suffixes predicted to END: too early - 0.0 ; right moment - 1.3652156699454596e-05 ; too late - 0.9999863478433005\n",
      "Too early instances - avg amount of events too early: nan\n",
      "Too late instances - avg amount of events too late: 67.12319946289062\n",
      "Avg absolute amount of events predicted too early / too late: 67.12228393554688\n",
      "Avg MAE RRT prediction validation set: 0.7310318946838379 (standardized) ; 12275.321875 (minutes)'\n",
      " \n",
      "------------------------------------\n",
      "EPOCH 28:\n",
      "____________________________________\n"
     ]
    },
    {
     "name": "stderr",
     "output_type": "stream",
     "text": [
      "Batch calculation at epoch 28.: 600it [54:26,  5.44s/it]\n"
     ]
    },
    {
     "name": "stdout",
     "output_type": "stream",
     "text": [
      "=======================================\n",
      "End of epoch 28\n",
      "=======================================\n",
      "Running average global loss: 0.4977947702864185 (over last 4096 batches)\n",
      "Running average activity prediction loss: 0.3491378689650446 (Cross Entropy over last 4096 batches)\n",
      "Running average time till next event prediction loss: 0.031130478000704898 (MAE over last 4096 batches)\n",
      "Running average (complete) remaining runtime prediction loss: 0.1175264225457795 (MAE over last 4096 batches)\n"
     ]
    },
    {
     "name": "stderr",
     "output_type": "stream",
     "text": [
      "Validation batch calculation: 36it [00:15,  2.29it/s]\n"
     ]
    },
    {
     "name": "stdout",
     "output_type": "stream",
     "text": [
      "Avg MAE TTNE prediction validation set: 0.22056423127651215 (standardized) ; 817.4263020833333 (minutes)'\n",
      "Avg 1-(normalized) DL distance acitivty suffix prediction validation set: 0.06748361885547638\n",
      "Percentage of suffixes predicted to END: too early - 0.0 ; right moment - 1.3652156699454596e-05 ; too late - 0.9999863478433005\n",
      "Too early instances - avg amount of events too early: nan\n",
      "Too late instances - avg amount of events too late: 67.12319946289062\n",
      "Avg absolute amount of events predicted too early / too late: 67.12228393554688\n",
      "Avg MAE RRT prediction validation set: 0.7320725917816162 (standardized) ; 12292.795833333334 (minutes)'\n",
      " \n",
      "------------------------------------\n",
      "EPOCH 29:\n",
      "____________________________________\n"
     ]
    },
    {
     "name": "stderr",
     "output_type": "stream",
     "text": [
      "Batch calculation at epoch 29.: 600it [40:48,  4.08s/it]\n"
     ]
    },
    {
     "name": "stdout",
     "output_type": "stream",
     "text": [
      "=======================================\n",
      "End of epoch 29\n",
      "=======================================\n",
      "Running average global loss: 0.49778626585612074 (over last 4096 batches)\n",
      "Running average activity prediction loss: 0.34913087921449915 (Cross Entropy over last 4096 batches)\n",
      "Running average time till next event prediction loss: 0.031130421368288808 (MAE over last 4096 batches)\n",
      "Running average (complete) remaining runtime prediction loss: 0.11752496569533832 (MAE over last 4096 batches)\n"
     ]
    },
    {
     "name": "stderr",
     "output_type": "stream",
     "text": [
      "Validation batch calculation: 36it [00:16,  2.19it/s]\n"
     ]
    },
    {
     "name": "stdout",
     "output_type": "stream",
     "text": [
      "Avg MAE TTNE prediction validation set: 0.220516636967659 (standardized) ; 817.2498697916667 (minutes)'\n",
      "Avg 1-(normalized) DL distance acitivty suffix prediction validation set: 0.06748361885547638\n",
      "Percentage of suffixes predicted to END: too early - 0.0 ; right moment - 1.3652156699454596e-05 ; too late - 0.9999863478433005\n",
      "Too early instances - avg amount of events too early: nan\n",
      "Too late instances - avg amount of events too late: 67.12319946289062\n",
      "Avg absolute amount of events predicted too early / too late: 67.12228393554688\n",
      "Avg MAE RRT prediction validation set: 0.7311398983001709 (standardized) ; 12277.136458333332 (minutes)'\n",
      " \n",
      "------------------------------------\n",
      "EPOCH 30:\n",
      "____________________________________\n"
     ]
    },
    {
     "name": "stderr",
     "output_type": "stream",
     "text": [
      "Batch calculation at epoch 30.: 600it [41:11,  4.12s/it]\n"
     ]
    },
    {
     "name": "stdout",
     "output_type": "stream",
     "text": [
      "=======================================\n",
      "End of epoch 30\n",
      "=======================================\n",
      "Running average global loss: 0.497785841464065 (over last 4096 batches)\n",
      "Running average activity prediction loss: 0.34913048171438277 (Cross Entropy over last 4096 batches)\n",
      "Running average time till next event prediction loss: 0.031129796931054443 (MAE over last 4096 batches)\n",
      "Running average (complete) remaining runtime prediction loss: 0.11752556437568273 (MAE over last 4096 batches)\n"
     ]
    },
    {
     "name": "stderr",
     "output_type": "stream",
     "text": [
      "Validation batch calculation: 36it [00:17,  2.10it/s]\n"
     ]
    },
    {
     "name": "stdout",
     "output_type": "stream",
     "text": [
      "Avg MAE TTNE prediction validation set: 0.2205185443162918 (standardized) ; 817.25703125 (minutes)'\n",
      "Avg 1-(normalized) DL distance acitivty suffix prediction validation set: 0.06748361885547638\n",
      "Percentage of suffixes predicted to END: too early - 0.0 ; right moment - 1.3652156699454596e-05 ; too late - 0.9999863478433005\n",
      "Too early instances - avg amount of events too early: nan\n",
      "Too late instances - avg amount of events too late: 67.12319946289062\n",
      "Avg absolute amount of events predicted too early / too late: 67.12228393554688\n",
      "Avg MAE RRT prediction validation set: 0.7313228845596313 (standardized) ; 12280.207291666668 (minutes)'\n",
      " \n",
      "------------------------------------\n",
      "EPOCH 31:\n",
      "____________________________________\n"
     ]
    },
    {
     "name": "stderr",
     "output_type": "stream",
     "text": [
      "Batch calculation at epoch 31.: 600it [41:31,  4.15s/it]\n"
     ]
    },
    {
     "name": "stdout",
     "output_type": "stream",
     "text": [
      "=======================================\n",
      "End of epoch 31\n",
      "=======================================\n",
      "Running average global loss: 0.49779282708186656 (over last 4096 batches)\n",
      "Running average activity prediction loss: 0.34913545072777197 (Cross Entropy over last 4096 batches)\n",
      "Running average time till next event prediction loss: 0.03113246299108141 (MAE over last 4096 batches)\n",
      "Running average (complete) remaining runtime prediction loss: 0.11752491269726306 (MAE over last 4096 batches)\n"
     ]
    },
    {
     "name": "stderr",
     "output_type": "stream",
     "text": [
      "Validation batch calculation: 36it [00:13,  2.60it/s]\n"
     ]
    },
    {
     "name": "stdout",
     "output_type": "stream",
     "text": [
      "Avg MAE TTNE prediction validation set: 0.2205214947462082 (standardized) ; 817.2678385416667 (minutes)'\n",
      "Avg 1-(normalized) DL distance acitivty suffix prediction validation set: 0.06748361885547638\n",
      "Percentage of suffixes predicted to END: too early - 0.0 ; right moment - 1.3652156699454596e-05 ; too late - 0.9999863478433005\n",
      "Too early instances - avg amount of events too early: nan\n",
      "Too late instances - avg amount of events too late: 67.12319946289062\n",
      "Avg absolute amount of events predicted too early / too late: 67.12228393554688\n",
      "Avg MAE RRT prediction validation set: 0.7311938405036926 (standardized) ; 12278.042708333332 (minutes)'\n",
      " \n",
      "------------------------------------\n",
      "EPOCH 32:\n",
      "____________________________________\n"
     ]
    },
    {
     "name": "stderr",
     "output_type": "stream",
     "text": [
      "Batch calculation at epoch 32.: 600it [40:48,  4.08s/it]\n"
     ]
    },
    {
     "name": "stdout",
     "output_type": "stream",
     "text": [
      "=======================================\n",
      "End of epoch 32\n",
      "=======================================\n",
      "Running average global loss: 0.4977923118858598 (over last 4096 batches)\n",
      "Running average activity prediction loss: 0.3491351754637435 (Cross Entropy over last 4096 batches)\n",
      "Running average time till next event prediction loss: 0.031129900122323306 (MAE over last 4096 batches)\n",
      "Running average (complete) remaining runtime prediction loss: 0.11752723518293351 (MAE over last 4096 batches)\n"
     ]
    },
    {
     "name": "stderr",
     "output_type": "stream",
     "text": [
      "Validation batch calculation: 36it [00:16,  2.21it/s]\n"
     ]
    },
    {
     "name": "stdout",
     "output_type": "stream",
     "text": [
      "Avg MAE TTNE prediction validation set: 0.22052481770515442 (standardized) ; 817.2802083333333 (minutes)'\n",
      "Avg 1-(normalized) DL distance acitivty suffix prediction validation set: 0.06748361885547638\n",
      "Percentage of suffixes predicted to END: too early - 0.0 ; right moment - 1.3652156699454596e-05 ; too late - 0.9999863478433005\n",
      "Too early instances - avg amount of events too early: nan\n",
      "Too late instances - avg amount of events too late: 67.12319946289062\n",
      "Avg absolute amount of events predicted too early / too late: 67.12228393554688\n",
      "Avg MAE RRT prediction validation set: 0.7316973209381104 (standardized) ; 12286.496875 (minutes)'\n",
      " \n",
      "------------------------------------\n",
      "EPOCH 33:\n",
      "____________________________________\n"
     ]
    },
    {
     "name": "stderr",
     "output_type": "stream",
     "text": [
      "Batch calculation at epoch 33.: 600it [41:14,  4.12s/it]\n"
     ]
    },
    {
     "name": "stdout",
     "output_type": "stream",
     "text": [
      "=======================================\n",
      "End of epoch 33\n",
      "=======================================\n",
      "Running average global loss: 0.4977891390444711 (over last 4096 batches)\n",
      "Running average activity prediction loss: 0.34913296496961266 (Cross Entropy over last 4096 batches)\n",
      "Running average time till next event prediction loss: 0.031129049995797686 (MAE over last 4096 batches)\n",
      "Running average (complete) remaining runtime prediction loss: 0.11752712388988584 (MAE over last 4096 batches)\n"
     ]
    },
    {
     "name": "stderr",
     "output_type": "stream",
     "text": [
      "Validation batch calculation: 36it [00:15,  2.26it/s]\n"
     ]
    },
    {
     "name": "stdout",
     "output_type": "stream",
     "text": [
      "Avg MAE TTNE prediction validation set: 0.22053050994873047 (standardized) ; 817.3012369791667 (minutes)'\n",
      "Avg 1-(normalized) DL distance acitivty suffix prediction validation set: 0.06748361885547638\n",
      "Percentage of suffixes predicted to END: too early - 0.0 ; right moment - 1.3652156699454596e-05 ; too late - 0.9999863478433005\n",
      "Too early instances - avg amount of events too early: nan\n",
      "Too late instances - avg amount of events too late: 67.12319946289062\n",
      "Avg absolute amount of events predicted too early / too late: 67.12228393554688\n",
      "Avg MAE RRT prediction validation set: 0.7318683862686157 (standardized) ; 12289.369791666666 (minutes)'\n",
      " \n",
      "------------------------------------\n",
      "EPOCH 34:\n",
      "____________________________________\n"
     ]
    },
    {
     "name": "stderr",
     "output_type": "stream",
     "text": [
      "Batch calculation at epoch 34.: 600it [41:06,  4.11s/it]\n"
     ]
    },
    {
     "name": "stdout",
     "output_type": "stream",
     "text": [
      "=======================================\n",
      "End of epoch 34\n",
      "=======================================\n",
      "Running average global loss: 0.4977835710160434 (over last 4096 batches)\n",
      "Running average activity prediction loss: 0.34913081757258624 (Cross Entropy over last 4096 batches)\n",
      "Running average time till next event prediction loss: 0.031127494003158063 (MAE over last 4096 batches)\n",
      "Running average (complete) remaining runtime prediction loss: 0.11752525900374167 (MAE over last 4096 batches)\n"
     ]
    },
    {
     "name": "stderr",
     "output_type": "stream",
     "text": [
      "Validation batch calculation: 36it [00:16,  2.13it/s]\n"
     ]
    },
    {
     "name": "stdout",
     "output_type": "stream",
     "text": [
      "Avg MAE TTNE prediction validation set: 0.2205154299736023 (standardized) ; 817.2454427083334 (minutes)'\n",
      "Avg 1-(normalized) DL distance acitivty suffix prediction validation set: 0.06748361885547638\n",
      "Percentage of suffixes predicted to END: too early - 0.0 ; right moment - 1.3652156699454596e-05 ; too late - 0.9999863478433005\n",
      "Too early instances - avg amount of events too early: nan\n",
      "Too late instances - avg amount of events too late: 67.12319946289062\n",
      "Avg absolute amount of events predicted too early / too late: 67.12228393554688\n",
      "Avg MAE RRT prediction validation set: 0.7313915491104126 (standardized) ; 12281.361458333333 (minutes)'\n",
      " \n",
      "------------------------------------\n",
      "EPOCH 35:\n",
      "____________________________________\n"
     ]
    },
    {
     "name": "stderr",
     "output_type": "stream",
     "text": [
      "Batch calculation at epoch 35.: 600it [41:08,  4.11s/it]\n"
     ]
    },
    {
     "name": "stdout",
     "output_type": "stream",
     "text": [
      "=======================================\n",
      "End of epoch 35\n",
      "=======================================\n",
      "Running average global loss: 0.4977786023519002 (over last 4096 batches)\n",
      "Running average activity prediction loss: 0.34912773757241666 (Cross Entropy over last 4096 batches)\n",
      "Running average time till next event prediction loss: 0.031127407448366284 (MAE over last 4096 batches)\n",
      "Running average (complete) remaining runtime prediction loss: 0.11752345635613892 (MAE over last 4096 batches)\n"
     ]
    },
    {
     "name": "stderr",
     "output_type": "stream",
     "text": [
      "Validation batch calculation: 36it [00:15,  2.26it/s]\n"
     ]
    },
    {
     "name": "stdout",
     "output_type": "stream",
     "text": [
      "Avg MAE TTNE prediction validation set: 0.2205139696598053 (standardized) ; 817.2399739583333 (minutes)'\n",
      "Avg 1-(normalized) DL distance acitivty suffix prediction validation set: 0.06748361885547638\n",
      "Percentage of suffixes predicted to END: too early - 0.0 ; right moment - 1.3652156699454596e-05 ; too late - 0.9999863478433005\n",
      "Too early instances - avg amount of events too early: nan\n",
      "Too late instances - avg amount of events too late: 67.12319946289062\n",
      "Avg absolute amount of events predicted too early / too late: 67.12228393554688\n",
      "Avg MAE RRT prediction validation set: 0.7313166856765747 (standardized) ; 12280.104166666666 (minutes)'\n",
      " \n",
      "------------------------------------\n",
      "EPOCH 36:\n",
      "____________________________________\n"
     ]
    },
    {
     "name": "stderr",
     "output_type": "stream",
     "text": [
      "Batch calculation at epoch 36.: 600it [41:02,  4.10s/it]\n"
     ]
    },
    {
     "name": "stdout",
     "output_type": "stream",
     "text": [
      "=======================================\n",
      "End of epoch 36\n",
      "=======================================\n",
      "Running average global loss: 0.49778645945480093 (over last 4096 batches)\n",
      "Running average activity prediction loss: 0.34913306462112814 (Cross Entropy over last 4096 batches)\n",
      "Running average time till next event prediction loss: 0.03112846057410934 (MAE over last 4096 batches)\n",
      "Running average (complete) remaining runtime prediction loss: 0.11752493408857845 (MAE over last 4096 batches)\n"
     ]
    },
    {
     "name": "stderr",
     "output_type": "stream",
     "text": [
      "Validation batch calculation: 36it [00:16,  2.20it/s]\n"
     ]
    },
    {
     "name": "stdout",
     "output_type": "stream",
     "text": [
      "Avg MAE TTNE prediction validation set: 0.22051790356636047 (standardized) ; 817.2546223958333 (minutes)'\n",
      "Avg 1-(normalized) DL distance acitivty suffix prediction validation set: 0.06748361885547638\n",
      "Percentage of suffixes predicted to END: too early - 0.0 ; right moment - 1.3652156699454596e-05 ; too late - 0.9999863478433005\n",
      "Too early instances - avg amount of events too early: nan\n",
      "Too late instances - avg amount of events too late: 67.12319946289062\n",
      "Avg absolute amount of events predicted too early / too late: 67.12228393554688\n",
      "Avg MAE RRT prediction validation set: 0.731945276260376 (standardized) ; 12290.659375 (minutes)'\n",
      " \n",
      "------------------------------------\n",
      "EPOCH 37:\n",
      "____________________________________\n"
     ]
    },
    {
     "name": "stderr",
     "output_type": "stream",
     "text": [
      "Batch calculation at epoch 37.: 600it [40:49,  4.08s/it]\n"
     ]
    },
    {
     "name": "stdout",
     "output_type": "stream",
     "text": [
      "=======================================\n",
      "End of epoch 37\n",
      "=======================================\n",
      "Running average global loss: 0.49778612883528695 (over last 4096 batches)\n",
      "Running average activity prediction loss: 0.349132813164033 (Cross Entropy over last 4096 batches)\n",
      "Running average time till next event prediction loss: 0.031128424790949794 (MAE over last 4096 batches)\n",
      "Running average (complete) remaining runtime prediction loss: 0.11752489059290383 (MAE over last 4096 batches)\n"
     ]
    },
    {
     "name": "stderr",
     "output_type": "stream",
     "text": [
      "Validation batch calculation: 36it [00:15,  2.29it/s]\n"
     ]
    },
    {
     "name": "stdout",
     "output_type": "stream",
     "text": [
      "Avg MAE TTNE prediction validation set: 0.22050751745700836 (standardized) ; 817.2161458333334 (minutes)'\n",
      "Avg 1-(normalized) DL distance acitivty suffix prediction validation set: 0.06748361885547638\n",
      "Percentage of suffixes predicted to END: too early - 0.0 ; right moment - 1.3652156699454596e-05 ; too late - 0.9999863478433005\n",
      "Too early instances - avg amount of events too early: nan\n",
      "Too late instances - avg amount of events too late: 67.12319946289062\n",
      "Avg absolute amount of events predicted too early / too late: 67.12228393554688\n",
      "Avg MAE RRT prediction validation set: 0.7315154075622559 (standardized) ; 12283.441666666668 (minutes)'\n",
      " \n",
      "------------------------------------\n",
      "EPOCH 38:\n",
      "____________________________________\n"
     ]
    },
    {
     "name": "stderr",
     "output_type": "stream",
     "text": [
      "Batch calculation at epoch 38.: 600it [40:55,  4.09s/it]\n"
     ]
    },
    {
     "name": "stdout",
     "output_type": "stream",
     "text": [
      "=======================================\n",
      "End of epoch 38\n",
      "=======================================\n",
      "Running average global loss: 0.49778325215447694 (over last 4096 batches)\n",
      "Running average activity prediction loss: 0.34913181338924915 (Cross Entropy over last 4096 batches)\n",
      "Running average time till next event prediction loss: 0.03112645139481174 (MAE over last 4096 batches)\n",
      "Running average (complete) remaining runtime prediction loss: 0.11752498753776308 (MAE over last 4096 batches)\n"
     ]
    },
    {
     "name": "stderr",
     "output_type": "stream",
     "text": [
      "Validation batch calculation: 36it [00:16,  2.16it/s]\n"
     ]
    },
    {
     "name": "stdout",
     "output_type": "stream",
     "text": [
      "Avg MAE TTNE prediction validation set: 0.22050999104976654 (standardized) ; 817.2252604166666 (minutes)'\n",
      "Avg 1-(normalized) DL distance acitivty suffix prediction validation set: 0.06748361885547638\n",
      "Percentage of suffixes predicted to END: too early - 0.0 ; right moment - 1.3652156699454596e-05 ; too late - 0.9999863478433005\n",
      "Too early instances - avg amount of events too early: nan\n",
      "Too late instances - avg amount of events too late: 67.12319946289062\n",
      "Avg absolute amount of events predicted too early / too late: 67.12228393554688\n",
      "Avg MAE RRT prediction validation set: 0.7316726446151733 (standardized) ; 12286.08125 (minutes)'\n",
      " \n",
      "------------------------------------\n",
      "EPOCH 39:\n",
      "____________________________________\n"
     ]
    },
    {
     "name": "stderr",
     "output_type": "stream",
     "text": [
      "Batch calculation at epoch 39.: 600it [40:56,  4.09s/it]\n"
     ]
    },
    {
     "name": "stdout",
     "output_type": "stream",
     "text": [
      "=======================================\n",
      "End of epoch 39\n",
      "=======================================\n",
      "Running average global loss: 0.49777664529392496 (over last 4096 batches)\n",
      "Running average activity prediction loss: 0.3491268990910612 (Cross Entropy over last 4096 batches)\n",
      "Running average time till next event prediction loss: 0.03112523823074298 (MAE over last 4096 batches)\n",
      "Running average (complete) remaining runtime prediction loss: 0.11752450793574098 (MAE over last 4096 batches)\n"
     ]
    },
    {
     "name": "stderr",
     "output_type": "stream",
     "text": [
      "Validation batch calculation: 36it [00:16,  2.20it/s]\n"
     ]
    },
    {
     "name": "stdout",
     "output_type": "stream",
     "text": [
      "Avg MAE TTNE prediction validation set: 0.22050222754478455 (standardized) ; 817.1964192708333 (minutes)'\n",
      "Avg 1-(normalized) DL distance acitivty suffix prediction validation set: 0.06748361885547638\n",
      "Percentage of suffixes predicted to END: too early - 0.0 ; right moment - 1.3652156699454596e-05 ; too late - 0.9999863478433005\n",
      "Too early instances - avg amount of events too early: nan\n",
      "Too late instances - avg amount of events too late: 67.12319946289062\n",
      "Avg absolute amount of events predicted too early / too late: 67.12228393554688\n",
      "Avg MAE RRT prediction validation set: 0.731238603591919 (standardized) ; 12278.795833333334 (minutes)'\n",
      " \n",
      "------------------------------------\n",
      "EPOCH 40:\n",
      "____________________________________\n"
     ]
    },
    {
     "name": "stderr",
     "output_type": "stream",
     "text": [
      "Batch calculation at epoch 40.: 600it [40:47,  4.08s/it]\n"
     ]
    },
    {
     "name": "stdout",
     "output_type": "stream",
     "text": [
      "=======================================\n",
      "End of epoch 40\n",
      "=======================================\n",
      "Running average global loss: 0.4977779406472109 (over last 4096 batches)\n",
      "Running average activity prediction loss: 0.34912980103399605 (Cross Entropy over last 4096 batches)\n",
      "Running average time till next event prediction loss: 0.03112559400324244 (MAE over last 4096 batches)\n",
      "Running average (complete) remaining runtime prediction loss: 0.11752254495513625 (MAE over last 4096 batches)\n"
     ]
    },
    {
     "name": "stderr",
     "output_type": "stream",
     "text": [
      "Validation batch calculation: 36it [00:15,  2.33it/s]\n"
     ]
    },
    {
     "name": "stdout",
     "output_type": "stream",
     "text": [
      "Avg MAE TTNE prediction validation set: 0.22051174938678741 (standardized) ; 817.2317708333334 (minutes)'\n",
      "Avg 1-(normalized) DL distance acitivty suffix prediction validation set: 0.06748361885547638\n",
      "Percentage of suffixes predicted to END: too early - 0.0 ; right moment - 1.3652156699454596e-05 ; too late - 0.9999863478433005\n",
      "Too early instances - avg amount of events too early: nan\n",
      "Too late instances - avg amount of events too late: 67.12319946289062\n",
      "Avg absolute amount of events predicted too early / too late: 67.12228393554688\n",
      "Avg MAE RRT prediction validation set: 0.7311728000640869 (standardized) ; 12277.6875 (minutes)'\n",
      " \n",
      "------------------------------------\n",
      "EPOCH 41:\n",
      "____________________________________\n"
     ]
    },
    {
     "name": "stderr",
     "output_type": "stream",
     "text": [
      "Batch calculation at epoch 41.: 600it [40:42,  4.07s/it]\n"
     ]
    },
    {
     "name": "stdout",
     "output_type": "stream",
     "text": [
      "=======================================\n",
      "End of epoch 41\n",
      "=======================================\n",
      "Running average global loss: 0.49778591305948794 (over last 4096 batches)\n",
      "Running average activity prediction loss: 0.3491311342222616 (Cross Entropy over last 4096 batches)\n",
      "Running average time till next event prediction loss: 0.03112717279145727 (MAE over last 4096 batches)\n",
      "Running average (complete) remaining runtime prediction loss: 0.11752760586387012 (MAE over last 4096 batches)\n"
     ]
    },
    {
     "name": "stderr",
     "output_type": "stream",
     "text": [
      "Validation batch calculation: 36it [00:16,  2.24it/s]\n",
      "/media/usr/SSD/yongmin/PPM/TRAIN_EVAL_NODE_ND.py:51: FutureWarning: You are using `torch.load` with `weights_only=False` (the current default value), which uses the default pickle module implicitly. It is possible to construct malicious pickle data which will execute arbitrary code during unpickling (See https://github.com/pytorch/pytorch/blob/main/SECURITY.md#untrusted-models for more details). In a future release, the default value for `weights_only` will be flipped to `True`. This limits the functions that could be executed during unpickling. Arbitrary objects will no longer be allowed to be loaded via this mode unless they are explicitly allowlisted by the user via `torch.serialization.add_safe_globals`. We recommend you start setting `weights_only=True` for any use case where you don't have full control of the loaded file. Please open an issue on GitHub for any issues related to this experimental feature.\n",
      "  checkpoint = torch.load(path_to_checkpoint)\n"
     ]
    },
    {
     "name": "stdout",
     "output_type": "stream",
     "text": [
      "Avg MAE TTNE prediction validation set: 0.22050753235816956 (standardized) ; 817.2162109375 (minutes)'\n",
      "Avg 1-(normalized) DL distance acitivty suffix prediction validation set: 0.06748361885547638\n",
      "Percentage of suffixes predicted to END: too early - 0.0 ; right moment - 1.3652156699454596e-05 ; too late - 0.9999863478433005\n",
      "Too early instances - avg amount of events too early: nan\n",
      "Too late instances - avg amount of events too late: 67.12319946289062\n",
      "Avg absolute amount of events predicted too early / too late: 67.12228393554688\n",
      "Avg MAE RRT prediction validation set: 0.7316566109657288 (standardized) ; 12285.811458333334 (minutes)'\n",
      "No improvements in validation loss for 24 consecutive epochs. Final epoch: 41\n"
     ]
    },
    {
     "name": "stderr",
     "output_type": "stream",
     "text": [
      "Validation batch calculation: 36it [00:15,  2.33it/s]\n"
     ]
    },
    {
     "name": "stdout",
     "output_type": "stream",
     "text": [
      "Avg MAE TTNE prediction validation set: 0.22169511020183563 (standardized) ; 821.6174479166667 (minutes)'\n",
      "Avg 1-(normalized) DL distance acitivty suffix prediction validation set: 0.06748361885547638\n",
      "Percentage of suffixes predicted to END: too early - 0.0 ; right moment - 1.3652156699454596e-05 ; too late - 0.9999863478433005\n",
      "Too early instances - avg amount of events too early: nan\n",
      "Too late instances - avg amount of events too late: 67.12319946289062\n",
      "Avg absolute amount of events predicted too early / too late: 67.12228393554688\n",
      "Avg MAE RRT prediction validation set: 0.7304840087890625 (standardized) ; 12266.120833333332 (minutes)'\n"
     ]
    }
   ],
   "source": [
    "from TRAIN_EVAL_NODE_ND import train_eval\n",
    "\n",
    "train_eval(log_name='BPIC_17', tss_index=5, hidden_dim=64, device='cuda')"
   ]
  },
  {
   "cell_type": "code",
   "execution_count": null,
   "metadata": {},
   "outputs": [],
   "source": [
    "# MLP 뒤에 softmax 붙여보기, one-hot encoding 말고 dense encoding 사용해보기?\n",
    "# debse는 적용된 거 아닌가? torch.embeddinglayer가 dense 반환을 하도록 설정 되어있는지 확인 필요"
   ]
  },
  {
   "cell_type": "code",
   "execution_count": 3,
   "metadata": {},
   "outputs": [],
   "source": [
    "# latent NODE도 적용해보기"
   ]
  },
  {
   "cell_type": "code",
   "execution_count": null,
   "metadata": {},
   "outputs": [],
   "source": []
  }
 ],
 "metadata": {
  "kernelspec": {
   "display_name": "NDE",
   "language": "python",
   "name": "python3"
  },
  "language_info": {
   "codemirror_mode": {
    "name": "ipython",
    "version": 3
   },
   "file_extension": ".py",
   "mimetype": "text/x-python",
   "name": "python",
   "nbconvert_exporter": "python",
   "pygments_lexer": "ipython3",
   "version": "3.12.5"
  }
 },
 "nbformat": 4,
 "nbformat_minor": 2
}
